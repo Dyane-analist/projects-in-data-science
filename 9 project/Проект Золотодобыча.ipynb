{
 "cells": [
  {
   "cell_type": "markdown",
   "id": "7970770d",
   "metadata": {
    "toc": true
   },
   "source": [
    "<h1>Table of Contents<span class=\"tocSkip\"></span></h1>\n",
    "<div class=\"toc\"><ul class=\"toc-item\"><li><span><a href=\"#Подготовка-данных\" data-toc-modified-id=\"Подготовка-данных-1\"><span class=\"toc-item-num\">1&nbsp;&nbsp;</span>Подготовка данных</a></span><ul class=\"toc-item\"><li><span><a href=\"#Изучение-данных\" data-toc-modified-id=\"Изучение-данных-1.1\"><span class=\"toc-item-num\">1.1&nbsp;&nbsp;</span>Изучение данных</a></span><ul class=\"toc-item\"><li><span><a href=\"#Датасет-с-обучающей-выборкой\" data-toc-modified-id=\"Датасет-с-обучающей-выборкой-1.1.1\"><span class=\"toc-item-num\">1.1.1&nbsp;&nbsp;</span>Датасет с обучающей выборкой</a></span></li><li><span><a href=\"#Датасет-с-тестовой-выборкой\" data-toc-modified-id=\"Датасет-с-тестовой-выборкой-1.1.2\"><span class=\"toc-item-num\">1.1.2&nbsp;&nbsp;</span>Датасет с тестовой выборкой</a></span></li><li><span><a href=\"#Датасет-с-полными-данными\" data-toc-modified-id=\"Датасет-с-полными-данными-1.1.3\"><span class=\"toc-item-num\">1.1.3&nbsp;&nbsp;</span>Датасет с полными данными</a></span></li></ul></li><li><span><a href=\"#Проверка-расчета-эффективности-обогащения\" data-toc-modified-id=\"Проверка-расчета-эффективности-обогащения-1.2\"><span class=\"toc-item-num\">1.2&nbsp;&nbsp;</span>Проверка расчета эффективности обогащения</a></span></li><li><span><a href=\"#Анализ-тестовой-выборки\" data-toc-modified-id=\"Анализ-тестовой-выборки-1.3\"><span class=\"toc-item-num\">1.3&nbsp;&nbsp;</span>Анализ тестовой выборки</a></span></li><li><span><a href=\"#Предобработка-данных\" data-toc-modified-id=\"Предобработка-данных-1.4\"><span class=\"toc-item-num\">1.4&nbsp;&nbsp;</span>Предобработка данных</a></span><ul class=\"toc-item\"><li><span><a href=\"#Датасет-с-обучающей-выборкой\" data-toc-modified-id=\"Датасет-с-обучающей-выборкой-1.4.1\"><span class=\"toc-item-num\">1.4.1&nbsp;&nbsp;</span>Датасет с обучающей выборкой</a></span></li><li><span><a href=\"#Датасет-с-тестовой-выборкой\" data-toc-modified-id=\"Датасет-с-тестовой-выборкой-1.4.2\"><span class=\"toc-item-num\">1.4.2&nbsp;&nbsp;</span>Датасет с тестовой выборкой</a></span></li><li><span><a href=\"#Датасет-с-полными-данными\" data-toc-modified-id=\"Датасет-с-полными-данными-1.4.3\"><span class=\"toc-item-num\">1.4.3&nbsp;&nbsp;</span>Датасет с полными данными</a></span></li><li><span><a href=\"#Анализ-датасетов-и-подготовка-к-обучению\" data-toc-modified-id=\"Анализ-датасетов-и-подготовка-к-обучению-1.4.4\"><span class=\"toc-item-num\">1.4.4&nbsp;&nbsp;</span>Анализ датасетов и подготовка к обучению</a></span></li></ul></li></ul></li><li><span><a href=\"#Анализ-данных\" data-toc-modified-id=\"Анализ-данных-2\"><span class=\"toc-item-num\">2&nbsp;&nbsp;</span>Анализ данных</a></span><ul class=\"toc-item\"><li><span><a href=\"#Концентрация-металлов-(Au,-Ag,-Pb)-на-различных-этапах-очистки\" data-toc-modified-id=\"Концентрация-металлов-(Au,-Ag,-Pb)-на-различных-этапах-очистки-2.1\"><span class=\"toc-item-num\">2.1&nbsp;&nbsp;</span>Концентрация металлов (Au, Ag, Pb) на различных этапах очистки</a></span></li><li><span><a href=\"#Распределение-размеров-гранул-сырья-на-обучающей-и-тестовой-выборках\" data-toc-modified-id=\"Распределение-размеров-гранул-сырья-на-обучающей-и-тестовой-выборках-2.2\"><span class=\"toc-item-num\">2.2&nbsp;&nbsp;</span>Распределение размеров гранул сырья на обучающей и тестовой выборках</a></span></li><li><span><a href=\"#Суммарная-концентрация-всех-веществ-на-разных-стадиях:-в-сырье,-в-черновом-и-финальном-концентратах\" data-toc-modified-id=\"Суммарная-концентрация-всех-веществ-на-разных-стадиях:-в-сырье,-в-черновом-и-финальном-концентратах-2.3\"><span class=\"toc-item-num\">2.3&nbsp;&nbsp;</span>Суммарная концентрация всех веществ на разных стадиях: в сырье, в черновом и финальном концентратах</a></span></li></ul></li><li><span><a href=\"#Построение-модели\" data-toc-modified-id=\"Построение-модели-3\"><span class=\"toc-item-num\">3&nbsp;&nbsp;</span>Построение модели</a></span><ul class=\"toc-item\"><li><span><a href=\"#Подготовка-наборов-признаков-и-целевых-признаков\" data-toc-modified-id=\"Подготовка-наборов-признаков-и-целевых-признаков-3.1\"><span class=\"toc-item-num\">3.1&nbsp;&nbsp;</span>Подготовка наборов признаков и целевых признаков</a></span></li><li><span><a href=\"#Подготовка-формулы-для-расчета-sMAPE\" data-toc-modified-id=\"Подготовка-формулы-для-расчета-sMAPE-3.2\"><span class=\"toc-item-num\">3.2&nbsp;&nbsp;</span>Подготовка формулы для расчета sMAPE</a></span></li><li><span><a href=\"#Обучение-и-выбор-модели\" data-toc-modified-id=\"Обучение-и-выбор-модели-3.3\"><span class=\"toc-item-num\">3.3&nbsp;&nbsp;</span>Обучение и выбор модели</a></span></li><li><span><a href=\"#Обработка-моделью-тестовой-выборки\" data-toc-modified-id=\"Обработка-моделью-тестовой-выборки-3.4\"><span class=\"toc-item-num\">3.4&nbsp;&nbsp;</span>Обработка моделью тестовой выборки</a></span></li></ul></li><li><span><a href=\"#Итоговый-вывод\" data-toc-modified-id=\"Итоговый-вывод-4\"><span class=\"toc-item-num\">4&nbsp;&nbsp;</span>Итоговый вывод</a></span></li></ul></div>"
   ]
  },
  {
   "cell_type": "markdown",
   "id": "bf8b73cc",
   "metadata": {},
   "source": [
    "# Восстановление золота из руды\n",
    "# Модель машинного обучения для компании «Цифра»"
   ]
  },
  {
   "cell_type": "markdown",
   "id": "de3ba0e0",
   "metadata": {},
   "source": [
    "**Цель проекта**\n",
    "\n",
    "Подготовить прототип модели машинного обучения для компании \"Цифра\", разрабатывающей решения для эффективной работы промышленных предприятий. Модель должна предсказать коэффициент восстановления золота из золотосодержащей руды с минимальным значением метрики sMAPE («симметричное среднее абсолютное процентное отклонение»). \n",
    "Модель предназначена для оптимизации производства, ее задача - не допустить запуска предприятия с убыточными характеристиками.\n",
    "\n",
    "**Данные для анализа**\n",
    "\n",
    "На анализ переданы данные с параметрами добычи и очистки золотосодержащей руды (3 датасета: обучающая, тестовая и полная выборки).\n",
    "\n",
    "**Шаги (план) проекта**\n",
    "\n",
    "1.  Подготовка данных\n",
    "2.  Анализ данных\n",
    "3.  Построение модели\n",
    "4.  Итоговый вывод"
   ]
  },
  {
   "cell_type": "markdown",
   "id": "2dc7790b",
   "metadata": {},
   "source": [
    "## Подготовка данных"
   ]
  },
  {
   "cell_type": "markdown",
   "id": "31a0f576",
   "metadata": {},
   "source": [
    "### Изучение данных"
   ]
  },
  {
   "cell_type": "markdown",
   "id": "04f74bd3",
   "metadata": {},
   "source": [
    "Импортируем необходимые библиотеки для работы с данными в текущем проекте."
   ]
  },
  {
   "cell_type": "code",
   "execution_count": 1,
   "id": "c43e49c9",
   "metadata": {},
   "outputs": [],
   "source": [
    "# импорт библиотек\n",
    "import numpy as np\n",
    "import pandas as pd\n",
    "\n",
    "# построение диаграмм\n",
    "import matplotlib.pyplot as plt\n",
    "\n",
    "# машинное обучение\n",
    "from sklearn.tree import DecisionTreeRegressor\n",
    "from sklearn.model_selection import GridSearchCV\n",
    "from sklearn.linear_model import LinearRegression\n",
    "from sklearn.ensemble import RandomForestRegressor\n",
    "from sklearn.preprocessing import StandardScaler\n",
    "\n",
    "# оценка качества модели\n",
    "from sklearn.model_selection import cross_val_score\n",
    "from sklearn.metrics import make_scorer\n",
    "from sklearn.metrics import mean_absolute_error\n",
    "import sklearn.metrics as metrics"
   ]
  },
  {
   "cell_type": "markdown",
   "id": "88ec9f3a",
   "metadata": {},
   "source": [
    "Откроем датасеты с данными и изучим их."
   ]
  },
  {
   "cell_type": "markdown",
   "id": "bbbdaa2a",
   "metadata": {},
   "source": [
    "#### Датасет с обучающей выборкой"
   ]
  },
  {
   "cell_type": "code",
   "execution_count": 2,
   "id": "ac2aca5f",
   "metadata": {
    "scrolled": true
   },
   "outputs": [
    {
     "data": {
      "text/html": [
       "<div>\n",
       "<style scoped>\n",
       "    .dataframe tbody tr th:only-of-type {\n",
       "        vertical-align: middle;\n",
       "    }\n",
       "\n",
       "    .dataframe tbody tr th {\n",
       "        vertical-align: top;\n",
       "    }\n",
       "\n",
       "    .dataframe thead th {\n",
       "        text-align: right;\n",
       "    }\n",
       "</style>\n",
       "<table border=\"1\" class=\"dataframe\">\n",
       "  <thead>\n",
       "    <tr style=\"text-align: right;\">\n",
       "      <th></th>\n",
       "      <th>final.output.concentrate_ag</th>\n",
       "      <th>final.output.concentrate_pb</th>\n",
       "      <th>final.output.concentrate_sol</th>\n",
       "      <th>final.output.concentrate_au</th>\n",
       "      <th>final.output.recovery</th>\n",
       "      <th>final.output.tail_ag</th>\n",
       "      <th>final.output.tail_pb</th>\n",
       "      <th>final.output.tail_sol</th>\n",
       "      <th>final.output.tail_au</th>\n",
       "      <th>primary_cleaner.input.sulfate</th>\n",
       "      <th>...</th>\n",
       "      <th>secondary_cleaner.state.floatbank4_a_air</th>\n",
       "      <th>secondary_cleaner.state.floatbank4_a_level</th>\n",
       "      <th>secondary_cleaner.state.floatbank4_b_air</th>\n",
       "      <th>secondary_cleaner.state.floatbank4_b_level</th>\n",
       "      <th>secondary_cleaner.state.floatbank5_a_air</th>\n",
       "      <th>secondary_cleaner.state.floatbank5_a_level</th>\n",
       "      <th>secondary_cleaner.state.floatbank5_b_air</th>\n",
       "      <th>secondary_cleaner.state.floatbank5_b_level</th>\n",
       "      <th>secondary_cleaner.state.floatbank6_a_air</th>\n",
       "      <th>secondary_cleaner.state.floatbank6_a_level</th>\n",
       "    </tr>\n",
       "    <tr>\n",
       "      <th>date</th>\n",
       "      <th></th>\n",
       "      <th></th>\n",
       "      <th></th>\n",
       "      <th></th>\n",
       "      <th></th>\n",
       "      <th></th>\n",
       "      <th></th>\n",
       "      <th></th>\n",
       "      <th></th>\n",
       "      <th></th>\n",
       "      <th></th>\n",
       "      <th></th>\n",
       "      <th></th>\n",
       "      <th></th>\n",
       "      <th></th>\n",
       "      <th></th>\n",
       "      <th></th>\n",
       "      <th></th>\n",
       "      <th></th>\n",
       "      <th></th>\n",
       "      <th></th>\n",
       "    </tr>\n",
       "  </thead>\n",
       "  <tbody>\n",
       "    <tr>\n",
       "      <th>2016-01-15 00:00:00</th>\n",
       "      <td>6.055403</td>\n",
       "      <td>9.889648</td>\n",
       "      <td>5.507324</td>\n",
       "      <td>42.192020</td>\n",
       "      <td>70.541216</td>\n",
       "      <td>10.411962</td>\n",
       "      <td>0.895447</td>\n",
       "      <td>16.904297</td>\n",
       "      <td>2.143149</td>\n",
       "      <td>127.092003</td>\n",
       "      <td>...</td>\n",
       "      <td>14.016835</td>\n",
       "      <td>-502.488007</td>\n",
       "      <td>12.099931</td>\n",
       "      <td>-504.715942</td>\n",
       "      <td>9.925633</td>\n",
       "      <td>-498.310211</td>\n",
       "      <td>8.079666</td>\n",
       "      <td>-500.470978</td>\n",
       "      <td>14.151341</td>\n",
       "      <td>-605.841980</td>\n",
       "    </tr>\n",
       "    <tr>\n",
       "      <th>2016-01-15 01:00:00</th>\n",
       "      <td>6.029369</td>\n",
       "      <td>9.968944</td>\n",
       "      <td>5.257781</td>\n",
       "      <td>42.701629</td>\n",
       "      <td>69.266198</td>\n",
       "      <td>10.462676</td>\n",
       "      <td>0.927452</td>\n",
       "      <td>16.634514</td>\n",
       "      <td>2.224930</td>\n",
       "      <td>125.629232</td>\n",
       "      <td>...</td>\n",
       "      <td>13.992281</td>\n",
       "      <td>-505.503262</td>\n",
       "      <td>11.950531</td>\n",
       "      <td>-501.331529</td>\n",
       "      <td>10.039245</td>\n",
       "      <td>-500.169983</td>\n",
       "      <td>7.984757</td>\n",
       "      <td>-500.582168</td>\n",
       "      <td>13.998353</td>\n",
       "      <td>-599.787184</td>\n",
       "    </tr>\n",
       "    <tr>\n",
       "      <th>2016-01-15 02:00:00</th>\n",
       "      <td>6.055926</td>\n",
       "      <td>10.213995</td>\n",
       "      <td>5.383759</td>\n",
       "      <td>42.657501</td>\n",
       "      <td>68.116445</td>\n",
       "      <td>10.507046</td>\n",
       "      <td>0.953716</td>\n",
       "      <td>16.208849</td>\n",
       "      <td>2.257889</td>\n",
       "      <td>123.819808</td>\n",
       "      <td>...</td>\n",
       "      <td>14.015015</td>\n",
       "      <td>-502.520901</td>\n",
       "      <td>11.912783</td>\n",
       "      <td>-501.133383</td>\n",
       "      <td>10.070913</td>\n",
       "      <td>-500.129135</td>\n",
       "      <td>8.013877</td>\n",
       "      <td>-500.517572</td>\n",
       "      <td>14.028663</td>\n",
       "      <td>-601.427363</td>\n",
       "    </tr>\n",
       "    <tr>\n",
       "      <th>2016-01-15 03:00:00</th>\n",
       "      <td>6.047977</td>\n",
       "      <td>9.977019</td>\n",
       "      <td>4.858634</td>\n",
       "      <td>42.689819</td>\n",
       "      <td>68.347543</td>\n",
       "      <td>10.422762</td>\n",
       "      <td>0.883763</td>\n",
       "      <td>16.532835</td>\n",
       "      <td>2.146849</td>\n",
       "      <td>122.270188</td>\n",
       "      <td>...</td>\n",
       "      <td>14.036510</td>\n",
       "      <td>-500.857308</td>\n",
       "      <td>11.999550</td>\n",
       "      <td>-501.193686</td>\n",
       "      <td>9.970366</td>\n",
       "      <td>-499.201640</td>\n",
       "      <td>7.977324</td>\n",
       "      <td>-500.255908</td>\n",
       "      <td>14.005551</td>\n",
       "      <td>-599.996129</td>\n",
       "    </tr>\n",
       "    <tr>\n",
       "      <th>2016-01-15 04:00:00</th>\n",
       "      <td>6.148599</td>\n",
       "      <td>10.142511</td>\n",
       "      <td>4.939416</td>\n",
       "      <td>42.774141</td>\n",
       "      <td>66.927016</td>\n",
       "      <td>10.360302</td>\n",
       "      <td>0.792826</td>\n",
       "      <td>16.525686</td>\n",
       "      <td>2.055292</td>\n",
       "      <td>117.988169</td>\n",
       "      <td>...</td>\n",
       "      <td>14.027298</td>\n",
       "      <td>-499.838632</td>\n",
       "      <td>11.953070</td>\n",
       "      <td>-501.053894</td>\n",
       "      <td>9.925709</td>\n",
       "      <td>-501.686727</td>\n",
       "      <td>7.894242</td>\n",
       "      <td>-500.356035</td>\n",
       "      <td>13.996647</td>\n",
       "      <td>-601.496691</td>\n",
       "    </tr>\n",
       "  </tbody>\n",
       "</table>\n",
       "<p>5 rows × 86 columns</p>\n",
       "</div>"
      ],
      "text/plain": [
       "                     final.output.concentrate_ag  final.output.concentrate_pb  \\\n",
       "date                                                                            \n",
       "2016-01-15 00:00:00                     6.055403                     9.889648   \n",
       "2016-01-15 01:00:00                     6.029369                     9.968944   \n",
       "2016-01-15 02:00:00                     6.055926                    10.213995   \n",
       "2016-01-15 03:00:00                     6.047977                     9.977019   \n",
       "2016-01-15 04:00:00                     6.148599                    10.142511   \n",
       "\n",
       "                     final.output.concentrate_sol  \\\n",
       "date                                                \n",
       "2016-01-15 00:00:00                      5.507324   \n",
       "2016-01-15 01:00:00                      5.257781   \n",
       "2016-01-15 02:00:00                      5.383759   \n",
       "2016-01-15 03:00:00                      4.858634   \n",
       "2016-01-15 04:00:00                      4.939416   \n",
       "\n",
       "                     final.output.concentrate_au  final.output.recovery  \\\n",
       "date                                                                      \n",
       "2016-01-15 00:00:00                    42.192020              70.541216   \n",
       "2016-01-15 01:00:00                    42.701629              69.266198   \n",
       "2016-01-15 02:00:00                    42.657501              68.116445   \n",
       "2016-01-15 03:00:00                    42.689819              68.347543   \n",
       "2016-01-15 04:00:00                    42.774141              66.927016   \n",
       "\n",
       "                     final.output.tail_ag  final.output.tail_pb  \\\n",
       "date                                                              \n",
       "2016-01-15 00:00:00             10.411962              0.895447   \n",
       "2016-01-15 01:00:00             10.462676              0.927452   \n",
       "2016-01-15 02:00:00             10.507046              0.953716   \n",
       "2016-01-15 03:00:00             10.422762              0.883763   \n",
       "2016-01-15 04:00:00             10.360302              0.792826   \n",
       "\n",
       "                     final.output.tail_sol  final.output.tail_au  \\\n",
       "date                                                               \n",
       "2016-01-15 00:00:00              16.904297              2.143149   \n",
       "2016-01-15 01:00:00              16.634514              2.224930   \n",
       "2016-01-15 02:00:00              16.208849              2.257889   \n",
       "2016-01-15 03:00:00              16.532835              2.146849   \n",
       "2016-01-15 04:00:00              16.525686              2.055292   \n",
       "\n",
       "                     primary_cleaner.input.sulfate  ...  \\\n",
       "date                                                ...   \n",
       "2016-01-15 00:00:00                     127.092003  ...   \n",
       "2016-01-15 01:00:00                     125.629232  ...   \n",
       "2016-01-15 02:00:00                     123.819808  ...   \n",
       "2016-01-15 03:00:00                     122.270188  ...   \n",
       "2016-01-15 04:00:00                     117.988169  ...   \n",
       "\n",
       "                     secondary_cleaner.state.floatbank4_a_air  \\\n",
       "date                                                            \n",
       "2016-01-15 00:00:00                                 14.016835   \n",
       "2016-01-15 01:00:00                                 13.992281   \n",
       "2016-01-15 02:00:00                                 14.015015   \n",
       "2016-01-15 03:00:00                                 14.036510   \n",
       "2016-01-15 04:00:00                                 14.027298   \n",
       "\n",
       "                     secondary_cleaner.state.floatbank4_a_level  \\\n",
       "date                                                              \n",
       "2016-01-15 00:00:00                                 -502.488007   \n",
       "2016-01-15 01:00:00                                 -505.503262   \n",
       "2016-01-15 02:00:00                                 -502.520901   \n",
       "2016-01-15 03:00:00                                 -500.857308   \n",
       "2016-01-15 04:00:00                                 -499.838632   \n",
       "\n",
       "                     secondary_cleaner.state.floatbank4_b_air  \\\n",
       "date                                                            \n",
       "2016-01-15 00:00:00                                 12.099931   \n",
       "2016-01-15 01:00:00                                 11.950531   \n",
       "2016-01-15 02:00:00                                 11.912783   \n",
       "2016-01-15 03:00:00                                 11.999550   \n",
       "2016-01-15 04:00:00                                 11.953070   \n",
       "\n",
       "                     secondary_cleaner.state.floatbank4_b_level  \\\n",
       "date                                                              \n",
       "2016-01-15 00:00:00                                 -504.715942   \n",
       "2016-01-15 01:00:00                                 -501.331529   \n",
       "2016-01-15 02:00:00                                 -501.133383   \n",
       "2016-01-15 03:00:00                                 -501.193686   \n",
       "2016-01-15 04:00:00                                 -501.053894   \n",
       "\n",
       "                     secondary_cleaner.state.floatbank5_a_air  \\\n",
       "date                                                            \n",
       "2016-01-15 00:00:00                                  9.925633   \n",
       "2016-01-15 01:00:00                                 10.039245   \n",
       "2016-01-15 02:00:00                                 10.070913   \n",
       "2016-01-15 03:00:00                                  9.970366   \n",
       "2016-01-15 04:00:00                                  9.925709   \n",
       "\n",
       "                     secondary_cleaner.state.floatbank5_a_level  \\\n",
       "date                                                              \n",
       "2016-01-15 00:00:00                                 -498.310211   \n",
       "2016-01-15 01:00:00                                 -500.169983   \n",
       "2016-01-15 02:00:00                                 -500.129135   \n",
       "2016-01-15 03:00:00                                 -499.201640   \n",
       "2016-01-15 04:00:00                                 -501.686727   \n",
       "\n",
       "                     secondary_cleaner.state.floatbank5_b_air  \\\n",
       "date                                                            \n",
       "2016-01-15 00:00:00                                  8.079666   \n",
       "2016-01-15 01:00:00                                  7.984757   \n",
       "2016-01-15 02:00:00                                  8.013877   \n",
       "2016-01-15 03:00:00                                  7.977324   \n",
       "2016-01-15 04:00:00                                  7.894242   \n",
       "\n",
       "                     secondary_cleaner.state.floatbank5_b_level  \\\n",
       "date                                                              \n",
       "2016-01-15 00:00:00                                 -500.470978   \n",
       "2016-01-15 01:00:00                                 -500.582168   \n",
       "2016-01-15 02:00:00                                 -500.517572   \n",
       "2016-01-15 03:00:00                                 -500.255908   \n",
       "2016-01-15 04:00:00                                 -500.356035   \n",
       "\n",
       "                     secondary_cleaner.state.floatbank6_a_air  \\\n",
       "date                                                            \n",
       "2016-01-15 00:00:00                                 14.151341   \n",
       "2016-01-15 01:00:00                                 13.998353   \n",
       "2016-01-15 02:00:00                                 14.028663   \n",
       "2016-01-15 03:00:00                                 14.005551   \n",
       "2016-01-15 04:00:00                                 13.996647   \n",
       "\n",
       "                     secondary_cleaner.state.floatbank6_a_level  \n",
       "date                                                             \n",
       "2016-01-15 00:00:00                                 -605.841980  \n",
       "2016-01-15 01:00:00                                 -599.787184  \n",
       "2016-01-15 02:00:00                                 -601.427363  \n",
       "2016-01-15 03:00:00                                 -599.996129  \n",
       "2016-01-15 04:00:00                                 -601.496691  \n",
       "\n",
       "[5 rows x 86 columns]"
      ]
     },
     "execution_count": 2,
     "metadata": {},
     "output_type": "execute_result"
    }
   ],
   "source": [
    "# чтение файла с данными, сохранение его в переменную, назначение даты индексом\n",
    "df_train = pd.read_csv('/datasets/gold_recovery_train_new.csv', index_col=0)\n",
    "# вывод первых 5 строк\n",
    "df_train.head(5)"
   ]
  },
  {
   "cell_type": "markdown",
   "id": "a9668fd8",
   "metadata": {},
   "source": [
    "Изучим общую информацию о данных."
   ]
  },
  {
   "cell_type": "code",
   "execution_count": 3,
   "id": "49ba1824",
   "metadata": {
    "scrolled": true
   },
   "outputs": [
    {
     "name": "stdout",
     "output_type": "stream",
     "text": [
      "<class 'pandas.core.frame.DataFrame'>\n",
      "Index: 14149 entries, 2016-01-15 00:00:00 to 2018-08-18 10:59:59\n",
      "Data columns (total 86 columns):\n",
      " #   Column                                              Non-Null Count  Dtype  \n",
      "---  ------                                              --------------  -----  \n",
      " 0   final.output.concentrate_ag                         14148 non-null  float64\n",
      " 1   final.output.concentrate_pb                         14148 non-null  float64\n",
      " 2   final.output.concentrate_sol                        13938 non-null  float64\n",
      " 3   final.output.concentrate_au                         14149 non-null  float64\n",
      " 4   final.output.recovery                               14149 non-null  float64\n",
      " 5   final.output.tail_ag                                14149 non-null  float64\n",
      " 6   final.output.tail_pb                                14049 non-null  float64\n",
      " 7   final.output.tail_sol                               14144 non-null  float64\n",
      " 8   final.output.tail_au                                14149 non-null  float64\n",
      " 9   primary_cleaner.input.sulfate                       14129 non-null  float64\n",
      " 10  primary_cleaner.input.depressant                    14117 non-null  float64\n",
      " 11  primary_cleaner.input.feed_size                     14149 non-null  float64\n",
      " 12  primary_cleaner.input.xanthate                      14049 non-null  float64\n",
      " 13  primary_cleaner.output.concentrate_ag               14149 non-null  float64\n",
      " 14  primary_cleaner.output.concentrate_pb               14063 non-null  float64\n",
      " 15  primary_cleaner.output.concentrate_sol              13863 non-null  float64\n",
      " 16  primary_cleaner.output.concentrate_au               14149 non-null  float64\n",
      " 17  primary_cleaner.output.tail_ag                      14148 non-null  float64\n",
      " 18  primary_cleaner.output.tail_pb                      14134 non-null  float64\n",
      " 19  primary_cleaner.output.tail_sol                     14103 non-null  float64\n",
      " 20  primary_cleaner.output.tail_au                      14149 non-null  float64\n",
      " 21  primary_cleaner.state.floatbank8_a_air              14145 non-null  float64\n",
      " 22  primary_cleaner.state.floatbank8_a_level            14148 non-null  float64\n",
      " 23  primary_cleaner.state.floatbank8_b_air              14145 non-null  float64\n",
      " 24  primary_cleaner.state.floatbank8_b_level            14148 non-null  float64\n",
      " 25  primary_cleaner.state.floatbank8_c_air              14147 non-null  float64\n",
      " 26  primary_cleaner.state.floatbank8_c_level            14148 non-null  float64\n",
      " 27  primary_cleaner.state.floatbank8_d_air              14146 non-null  float64\n",
      " 28  primary_cleaner.state.floatbank8_d_level            14148 non-null  float64\n",
      " 29  rougher.calculation.sulfate_to_au_concentrate       14148 non-null  float64\n",
      " 30  rougher.calculation.floatbank10_sulfate_to_au_feed  14148 non-null  float64\n",
      " 31  rougher.calculation.floatbank11_sulfate_to_au_feed  14148 non-null  float64\n",
      " 32  rougher.calculation.au_pb_ratio                     14149 non-null  float64\n",
      " 33  rougher.input.feed_ag                               14149 non-null  float64\n",
      " 34  rougher.input.feed_pb                               14049 non-null  float64\n",
      " 35  rougher.input.feed_rate                             14141 non-null  float64\n",
      " 36  rougher.input.feed_size                             14005 non-null  float64\n",
      " 37  rougher.input.feed_sol                              14071 non-null  float64\n",
      " 38  rougher.input.feed_au                               14149 non-null  float64\n",
      " 39  rougher.input.floatbank10_sulfate                   14120 non-null  float64\n",
      " 40  rougher.input.floatbank10_xanthate                  14141 non-null  float64\n",
      " 41  rougher.input.floatbank11_sulfate                   14113 non-null  float64\n",
      " 42  rougher.input.floatbank11_xanthate                  13721 non-null  float64\n",
      " 43  rougher.output.concentrate_ag                       14149 non-null  float64\n",
      " 44  rougher.output.concentrate_pb                       14149 non-null  float64\n",
      " 45  rougher.output.concentrate_sol                      14127 non-null  float64\n",
      " 46  rougher.output.concentrate_au                       14149 non-null  float64\n",
      " 47  rougher.output.recovery                             14149 non-null  float64\n",
      " 48  rougher.output.tail_ag                              14148 non-null  float64\n",
      " 49  rougher.output.tail_pb                              14149 non-null  float64\n",
      " 50  rougher.output.tail_sol                             14149 non-null  float64\n",
      " 51  rougher.output.tail_au                              14149 non-null  float64\n",
      " 52  rougher.state.floatbank10_a_air                     14148 non-null  float64\n",
      " 53  rougher.state.floatbank10_a_level                   14148 non-null  float64\n",
      " 54  rougher.state.floatbank10_b_air                     14148 non-null  float64\n",
      " 55  rougher.state.floatbank10_b_level                   14148 non-null  float64\n",
      " 56  rougher.state.floatbank10_c_air                     14148 non-null  float64\n",
      " 57  rougher.state.floatbank10_c_level                   14148 non-null  float64\n",
      " 58  rougher.state.floatbank10_d_air                     14149 non-null  float64\n",
      " 59  rougher.state.floatbank10_d_level                   14149 non-null  float64\n",
      " 60  rougher.state.floatbank10_e_air                     13713 non-null  float64\n",
      " 61  rougher.state.floatbank10_e_level                   14149 non-null  float64\n",
      " 62  rougher.state.floatbank10_f_air                     14149 non-null  float64\n",
      " 63  rougher.state.floatbank10_f_level                   14149 non-null  float64\n",
      " 64  secondary_cleaner.output.tail_ag                    14147 non-null  float64\n",
      " 65  secondary_cleaner.output.tail_pb                    14139 non-null  float64\n",
      " 66  secondary_cleaner.output.tail_sol                   12544 non-null  float64\n",
      " 67  secondary_cleaner.output.tail_au                    14149 non-null  float64\n",
      " 68  secondary_cleaner.state.floatbank2_a_air            13932 non-null  float64\n",
      " 69  secondary_cleaner.state.floatbank2_a_level          14148 non-null  float64\n",
      " 70  secondary_cleaner.state.floatbank2_b_air            14128 non-null  float64\n",
      " 71  secondary_cleaner.state.floatbank2_b_level          14148 non-null  float64\n",
      " 72  secondary_cleaner.state.floatbank3_a_air            14145 non-null  float64\n",
      " 73  secondary_cleaner.state.floatbank3_a_level          14148 non-null  float64\n",
      " 74  secondary_cleaner.state.floatbank3_b_air            14148 non-null  float64\n",
      " 75  secondary_cleaner.state.floatbank3_b_level          14148 non-null  float64\n",
      " 76  secondary_cleaner.state.floatbank4_a_air            14143 non-null  float64\n",
      " 77  secondary_cleaner.state.floatbank4_a_level          14148 non-null  float64\n",
      " 78  secondary_cleaner.state.floatbank4_b_air            14148 non-null  float64\n",
      " 79  secondary_cleaner.state.floatbank4_b_level          14148 non-null  float64\n",
      " 80  secondary_cleaner.state.floatbank5_a_air            14148 non-null  float64\n",
      " 81  secondary_cleaner.state.floatbank5_a_level          14148 non-null  float64\n",
      " 82  secondary_cleaner.state.floatbank5_b_air            14148 non-null  float64\n",
      " 83  secondary_cleaner.state.floatbank5_b_level          14148 non-null  float64\n",
      " 84  secondary_cleaner.state.floatbank6_a_air            14147 non-null  float64\n",
      " 85  secondary_cleaner.state.floatbank6_a_level          14148 non-null  float64\n",
      "dtypes: float64(86)\n",
      "memory usage: 9.4+ MB\n"
     ]
    }
   ],
   "source": [
    "df_train.info() # получение общей информации о структуре датафрейма"
   ]
  },
  {
   "cell_type": "markdown",
   "id": "a445eaeb",
   "metadata": {},
   "source": [
    "1. В датасете содержится 14149 строк, 86 столбцов.\n",
    "2. Переименование колонок не требуется.\n",
    "3. Требуется изменение типа данных колонках с float64 на float32 для экономии памяти. Колонку с датой, являющейся идентификатором записи, установили в качестве индекса.\n",
    "4. Во многих колонках присутствуют пропущенные значения, которые требуют обработки.\n",
    "5. Требуется проверка на наличие явных дубликатовю\n",
    "6. Также требуется проверка данных на выбросы и обработка выбросов."
   ]
  },
  {
   "cell_type": "markdown",
   "id": "02d8491f",
   "metadata": {},
   "source": [
    "#### Датасет с тестовой выборкой"
   ]
  },
  {
   "cell_type": "code",
   "execution_count": 4,
   "id": "fec8c48d",
   "metadata": {
    "scrolled": true
   },
   "outputs": [
    {
     "data": {
      "text/html": [
       "<div>\n",
       "<style scoped>\n",
       "    .dataframe tbody tr th:only-of-type {\n",
       "        vertical-align: middle;\n",
       "    }\n",
       "\n",
       "    .dataframe tbody tr th {\n",
       "        vertical-align: top;\n",
       "    }\n",
       "\n",
       "    .dataframe thead th {\n",
       "        text-align: right;\n",
       "    }\n",
       "</style>\n",
       "<table border=\"1\" class=\"dataframe\">\n",
       "  <thead>\n",
       "    <tr style=\"text-align: right;\">\n",
       "      <th></th>\n",
       "      <th>primary_cleaner.input.sulfate</th>\n",
       "      <th>primary_cleaner.input.depressant</th>\n",
       "      <th>primary_cleaner.input.feed_size</th>\n",
       "      <th>primary_cleaner.input.xanthate</th>\n",
       "      <th>primary_cleaner.state.floatbank8_a_air</th>\n",
       "      <th>primary_cleaner.state.floatbank8_a_level</th>\n",
       "      <th>primary_cleaner.state.floatbank8_b_air</th>\n",
       "      <th>primary_cleaner.state.floatbank8_b_level</th>\n",
       "      <th>primary_cleaner.state.floatbank8_c_air</th>\n",
       "      <th>primary_cleaner.state.floatbank8_c_level</th>\n",
       "      <th>...</th>\n",
       "      <th>secondary_cleaner.state.floatbank4_a_air</th>\n",
       "      <th>secondary_cleaner.state.floatbank4_a_level</th>\n",
       "      <th>secondary_cleaner.state.floatbank4_b_air</th>\n",
       "      <th>secondary_cleaner.state.floatbank4_b_level</th>\n",
       "      <th>secondary_cleaner.state.floatbank5_a_air</th>\n",
       "      <th>secondary_cleaner.state.floatbank5_a_level</th>\n",
       "      <th>secondary_cleaner.state.floatbank5_b_air</th>\n",
       "      <th>secondary_cleaner.state.floatbank5_b_level</th>\n",
       "      <th>secondary_cleaner.state.floatbank6_a_air</th>\n",
       "      <th>secondary_cleaner.state.floatbank6_a_level</th>\n",
       "    </tr>\n",
       "    <tr>\n",
       "      <th>date</th>\n",
       "      <th></th>\n",
       "      <th></th>\n",
       "      <th></th>\n",
       "      <th></th>\n",
       "      <th></th>\n",
       "      <th></th>\n",
       "      <th></th>\n",
       "      <th></th>\n",
       "      <th></th>\n",
       "      <th></th>\n",
       "      <th></th>\n",
       "      <th></th>\n",
       "      <th></th>\n",
       "      <th></th>\n",
       "      <th></th>\n",
       "      <th></th>\n",
       "      <th></th>\n",
       "      <th></th>\n",
       "      <th></th>\n",
       "      <th></th>\n",
       "      <th></th>\n",
       "    </tr>\n",
       "  </thead>\n",
       "  <tbody>\n",
       "    <tr>\n",
       "      <th>2016-09-01 00:59:59</th>\n",
       "      <td>210.800909</td>\n",
       "      <td>14.993118</td>\n",
       "      <td>8.080000</td>\n",
       "      <td>1.005021</td>\n",
       "      <td>1398.981301</td>\n",
       "      <td>-500.225577</td>\n",
       "      <td>1399.144926</td>\n",
       "      <td>-499.919735</td>\n",
       "      <td>1400.102998</td>\n",
       "      <td>-500.704369</td>\n",
       "      <td>...</td>\n",
       "      <td>12.023554</td>\n",
       "      <td>-497.795834</td>\n",
       "      <td>8.016656</td>\n",
       "      <td>-501.289139</td>\n",
       "      <td>7.946562</td>\n",
       "      <td>-432.317850</td>\n",
       "      <td>4.872511</td>\n",
       "      <td>-500.037437</td>\n",
       "      <td>26.705889</td>\n",
       "      <td>-499.709414</td>\n",
       "    </tr>\n",
       "    <tr>\n",
       "      <th>2016-09-01 01:59:59</th>\n",
       "      <td>215.392455</td>\n",
       "      <td>14.987471</td>\n",
       "      <td>8.080000</td>\n",
       "      <td>0.990469</td>\n",
       "      <td>1398.777912</td>\n",
       "      <td>-500.057435</td>\n",
       "      <td>1398.055362</td>\n",
       "      <td>-499.778182</td>\n",
       "      <td>1396.151033</td>\n",
       "      <td>-499.240168</td>\n",
       "      <td>...</td>\n",
       "      <td>12.058140</td>\n",
       "      <td>-498.695773</td>\n",
       "      <td>8.130979</td>\n",
       "      <td>-499.634209</td>\n",
       "      <td>7.958270</td>\n",
       "      <td>-525.839648</td>\n",
       "      <td>4.878850</td>\n",
       "      <td>-500.162375</td>\n",
       "      <td>25.019940</td>\n",
       "      <td>-499.819438</td>\n",
       "    </tr>\n",
       "    <tr>\n",
       "      <th>2016-09-01 02:59:59</th>\n",
       "      <td>215.259946</td>\n",
       "      <td>12.884934</td>\n",
       "      <td>7.786667</td>\n",
       "      <td>0.996043</td>\n",
       "      <td>1398.493666</td>\n",
       "      <td>-500.868360</td>\n",
       "      <td>1398.860436</td>\n",
       "      <td>-499.764529</td>\n",
       "      <td>1398.075709</td>\n",
       "      <td>-502.151509</td>\n",
       "      <td>...</td>\n",
       "      <td>11.962366</td>\n",
       "      <td>-498.767484</td>\n",
       "      <td>8.096893</td>\n",
       "      <td>-500.827423</td>\n",
       "      <td>8.071056</td>\n",
       "      <td>-500.801673</td>\n",
       "      <td>4.905125</td>\n",
       "      <td>-499.828510</td>\n",
       "      <td>24.994862</td>\n",
       "      <td>-500.622559</td>\n",
       "    </tr>\n",
       "    <tr>\n",
       "      <th>2016-09-01 03:59:59</th>\n",
       "      <td>215.336236</td>\n",
       "      <td>12.006805</td>\n",
       "      <td>7.640000</td>\n",
       "      <td>0.863514</td>\n",
       "      <td>1399.618111</td>\n",
       "      <td>-498.863574</td>\n",
       "      <td>1397.440120</td>\n",
       "      <td>-499.211024</td>\n",
       "      <td>1400.129303</td>\n",
       "      <td>-498.355873</td>\n",
       "      <td>...</td>\n",
       "      <td>12.033091</td>\n",
       "      <td>-498.350935</td>\n",
       "      <td>8.074946</td>\n",
       "      <td>-499.474407</td>\n",
       "      <td>7.897085</td>\n",
       "      <td>-500.868509</td>\n",
       "      <td>4.931400</td>\n",
       "      <td>-499.963623</td>\n",
       "      <td>24.948919</td>\n",
       "      <td>-498.709987</td>\n",
       "    </tr>\n",
       "    <tr>\n",
       "      <th>2016-09-01 04:59:59</th>\n",
       "      <td>199.099327</td>\n",
       "      <td>10.682530</td>\n",
       "      <td>7.530000</td>\n",
       "      <td>0.805575</td>\n",
       "      <td>1401.268123</td>\n",
       "      <td>-500.808305</td>\n",
       "      <td>1398.128818</td>\n",
       "      <td>-499.504543</td>\n",
       "      <td>1402.172226</td>\n",
       "      <td>-500.810606</td>\n",
       "      <td>...</td>\n",
       "      <td>12.025367</td>\n",
       "      <td>-500.786497</td>\n",
       "      <td>8.054678</td>\n",
       "      <td>-500.397500</td>\n",
       "      <td>8.107890</td>\n",
       "      <td>-509.526725</td>\n",
       "      <td>4.957674</td>\n",
       "      <td>-500.360026</td>\n",
       "      <td>25.003331</td>\n",
       "      <td>-500.856333</td>\n",
       "    </tr>\n",
       "  </tbody>\n",
       "</table>\n",
       "<p>5 rows × 52 columns</p>\n",
       "</div>"
      ],
      "text/plain": [
       "                     primary_cleaner.input.sulfate  \\\n",
       "date                                                 \n",
       "2016-09-01 00:59:59                     210.800909   \n",
       "2016-09-01 01:59:59                     215.392455   \n",
       "2016-09-01 02:59:59                     215.259946   \n",
       "2016-09-01 03:59:59                     215.336236   \n",
       "2016-09-01 04:59:59                     199.099327   \n",
       "\n",
       "                     primary_cleaner.input.depressant  \\\n",
       "date                                                    \n",
       "2016-09-01 00:59:59                         14.993118   \n",
       "2016-09-01 01:59:59                         14.987471   \n",
       "2016-09-01 02:59:59                         12.884934   \n",
       "2016-09-01 03:59:59                         12.006805   \n",
       "2016-09-01 04:59:59                         10.682530   \n",
       "\n",
       "                     primary_cleaner.input.feed_size  \\\n",
       "date                                                   \n",
       "2016-09-01 00:59:59                         8.080000   \n",
       "2016-09-01 01:59:59                         8.080000   \n",
       "2016-09-01 02:59:59                         7.786667   \n",
       "2016-09-01 03:59:59                         7.640000   \n",
       "2016-09-01 04:59:59                         7.530000   \n",
       "\n",
       "                     primary_cleaner.input.xanthate  \\\n",
       "date                                                  \n",
       "2016-09-01 00:59:59                        1.005021   \n",
       "2016-09-01 01:59:59                        0.990469   \n",
       "2016-09-01 02:59:59                        0.996043   \n",
       "2016-09-01 03:59:59                        0.863514   \n",
       "2016-09-01 04:59:59                        0.805575   \n",
       "\n",
       "                     primary_cleaner.state.floatbank8_a_air  \\\n",
       "date                                                          \n",
       "2016-09-01 00:59:59                             1398.981301   \n",
       "2016-09-01 01:59:59                             1398.777912   \n",
       "2016-09-01 02:59:59                             1398.493666   \n",
       "2016-09-01 03:59:59                             1399.618111   \n",
       "2016-09-01 04:59:59                             1401.268123   \n",
       "\n",
       "                     primary_cleaner.state.floatbank8_a_level  \\\n",
       "date                                                            \n",
       "2016-09-01 00:59:59                               -500.225577   \n",
       "2016-09-01 01:59:59                               -500.057435   \n",
       "2016-09-01 02:59:59                               -500.868360   \n",
       "2016-09-01 03:59:59                               -498.863574   \n",
       "2016-09-01 04:59:59                               -500.808305   \n",
       "\n",
       "                     primary_cleaner.state.floatbank8_b_air  \\\n",
       "date                                                          \n",
       "2016-09-01 00:59:59                             1399.144926   \n",
       "2016-09-01 01:59:59                             1398.055362   \n",
       "2016-09-01 02:59:59                             1398.860436   \n",
       "2016-09-01 03:59:59                             1397.440120   \n",
       "2016-09-01 04:59:59                             1398.128818   \n",
       "\n",
       "                     primary_cleaner.state.floatbank8_b_level  \\\n",
       "date                                                            \n",
       "2016-09-01 00:59:59                               -499.919735   \n",
       "2016-09-01 01:59:59                               -499.778182   \n",
       "2016-09-01 02:59:59                               -499.764529   \n",
       "2016-09-01 03:59:59                               -499.211024   \n",
       "2016-09-01 04:59:59                               -499.504543   \n",
       "\n",
       "                     primary_cleaner.state.floatbank8_c_air  \\\n",
       "date                                                          \n",
       "2016-09-01 00:59:59                             1400.102998   \n",
       "2016-09-01 01:59:59                             1396.151033   \n",
       "2016-09-01 02:59:59                             1398.075709   \n",
       "2016-09-01 03:59:59                             1400.129303   \n",
       "2016-09-01 04:59:59                             1402.172226   \n",
       "\n",
       "                     primary_cleaner.state.floatbank8_c_level  ...  \\\n",
       "date                                                           ...   \n",
       "2016-09-01 00:59:59                               -500.704369  ...   \n",
       "2016-09-01 01:59:59                               -499.240168  ...   \n",
       "2016-09-01 02:59:59                               -502.151509  ...   \n",
       "2016-09-01 03:59:59                               -498.355873  ...   \n",
       "2016-09-01 04:59:59                               -500.810606  ...   \n",
       "\n",
       "                     secondary_cleaner.state.floatbank4_a_air  \\\n",
       "date                                                            \n",
       "2016-09-01 00:59:59                                 12.023554   \n",
       "2016-09-01 01:59:59                                 12.058140   \n",
       "2016-09-01 02:59:59                                 11.962366   \n",
       "2016-09-01 03:59:59                                 12.033091   \n",
       "2016-09-01 04:59:59                                 12.025367   \n",
       "\n",
       "                     secondary_cleaner.state.floatbank4_a_level  \\\n",
       "date                                                              \n",
       "2016-09-01 00:59:59                                 -497.795834   \n",
       "2016-09-01 01:59:59                                 -498.695773   \n",
       "2016-09-01 02:59:59                                 -498.767484   \n",
       "2016-09-01 03:59:59                                 -498.350935   \n",
       "2016-09-01 04:59:59                                 -500.786497   \n",
       "\n",
       "                     secondary_cleaner.state.floatbank4_b_air  \\\n",
       "date                                                            \n",
       "2016-09-01 00:59:59                                  8.016656   \n",
       "2016-09-01 01:59:59                                  8.130979   \n",
       "2016-09-01 02:59:59                                  8.096893   \n",
       "2016-09-01 03:59:59                                  8.074946   \n",
       "2016-09-01 04:59:59                                  8.054678   \n",
       "\n",
       "                     secondary_cleaner.state.floatbank4_b_level  \\\n",
       "date                                                              \n",
       "2016-09-01 00:59:59                                 -501.289139   \n",
       "2016-09-01 01:59:59                                 -499.634209   \n",
       "2016-09-01 02:59:59                                 -500.827423   \n",
       "2016-09-01 03:59:59                                 -499.474407   \n",
       "2016-09-01 04:59:59                                 -500.397500   \n",
       "\n",
       "                     secondary_cleaner.state.floatbank5_a_air  \\\n",
       "date                                                            \n",
       "2016-09-01 00:59:59                                  7.946562   \n",
       "2016-09-01 01:59:59                                  7.958270   \n",
       "2016-09-01 02:59:59                                  8.071056   \n",
       "2016-09-01 03:59:59                                  7.897085   \n",
       "2016-09-01 04:59:59                                  8.107890   \n",
       "\n",
       "                     secondary_cleaner.state.floatbank5_a_level  \\\n",
       "date                                                              \n",
       "2016-09-01 00:59:59                                 -432.317850   \n",
       "2016-09-01 01:59:59                                 -525.839648   \n",
       "2016-09-01 02:59:59                                 -500.801673   \n",
       "2016-09-01 03:59:59                                 -500.868509   \n",
       "2016-09-01 04:59:59                                 -509.526725   \n",
       "\n",
       "                     secondary_cleaner.state.floatbank5_b_air  \\\n",
       "date                                                            \n",
       "2016-09-01 00:59:59                                  4.872511   \n",
       "2016-09-01 01:59:59                                  4.878850   \n",
       "2016-09-01 02:59:59                                  4.905125   \n",
       "2016-09-01 03:59:59                                  4.931400   \n",
       "2016-09-01 04:59:59                                  4.957674   \n",
       "\n",
       "                     secondary_cleaner.state.floatbank5_b_level  \\\n",
       "date                                                              \n",
       "2016-09-01 00:59:59                                 -500.037437   \n",
       "2016-09-01 01:59:59                                 -500.162375   \n",
       "2016-09-01 02:59:59                                 -499.828510   \n",
       "2016-09-01 03:59:59                                 -499.963623   \n",
       "2016-09-01 04:59:59                                 -500.360026   \n",
       "\n",
       "                     secondary_cleaner.state.floatbank6_a_air  \\\n",
       "date                                                            \n",
       "2016-09-01 00:59:59                                 26.705889   \n",
       "2016-09-01 01:59:59                                 25.019940   \n",
       "2016-09-01 02:59:59                                 24.994862   \n",
       "2016-09-01 03:59:59                                 24.948919   \n",
       "2016-09-01 04:59:59                                 25.003331   \n",
       "\n",
       "                     secondary_cleaner.state.floatbank6_a_level  \n",
       "date                                                             \n",
       "2016-09-01 00:59:59                                 -499.709414  \n",
       "2016-09-01 01:59:59                                 -499.819438  \n",
       "2016-09-01 02:59:59                                 -500.622559  \n",
       "2016-09-01 03:59:59                                 -498.709987  \n",
       "2016-09-01 04:59:59                                 -500.856333  \n",
       "\n",
       "[5 rows x 52 columns]"
      ]
     },
     "execution_count": 4,
     "metadata": {},
     "output_type": "execute_result"
    }
   ],
   "source": [
    "# чтение файла с данными, сохранение его в переменную\n",
    "df_test = pd.read_csv('/datasets/gold_recovery_test_new.csv', index_col=0)\n",
    "# вывод первых 5 строк\n",
    "df_test.head(5)"
   ]
  },
  {
   "cell_type": "markdown",
   "id": "0a4509ad",
   "metadata": {},
   "source": [
    "Изучим общую информацию о данных."
   ]
  },
  {
   "cell_type": "code",
   "execution_count": 5,
   "id": "46b15991",
   "metadata": {
    "scrolled": true
   },
   "outputs": [
    {
     "name": "stdout",
     "output_type": "stream",
     "text": [
      "<class 'pandas.core.frame.DataFrame'>\n",
      "Index: 5290 entries, 2016-09-01 00:59:59 to 2017-12-31 23:59:59\n",
      "Data columns (total 52 columns):\n",
      " #   Column                                      Non-Null Count  Dtype  \n",
      "---  ------                                      --------------  -----  \n",
      " 0   primary_cleaner.input.sulfate               5286 non-null   float64\n",
      " 1   primary_cleaner.input.depressant            5285 non-null   float64\n",
      " 2   primary_cleaner.input.feed_size             5290 non-null   float64\n",
      " 3   primary_cleaner.input.xanthate              5286 non-null   float64\n",
      " 4   primary_cleaner.state.floatbank8_a_air      5290 non-null   float64\n",
      " 5   primary_cleaner.state.floatbank8_a_level    5290 non-null   float64\n",
      " 6   primary_cleaner.state.floatbank8_b_air      5290 non-null   float64\n",
      " 7   primary_cleaner.state.floatbank8_b_level    5290 non-null   float64\n",
      " 8   primary_cleaner.state.floatbank8_c_air      5290 non-null   float64\n",
      " 9   primary_cleaner.state.floatbank8_c_level    5290 non-null   float64\n",
      " 10  primary_cleaner.state.floatbank8_d_air      5290 non-null   float64\n",
      " 11  primary_cleaner.state.floatbank8_d_level    5290 non-null   float64\n",
      " 12  rougher.input.feed_ag                       5290 non-null   float64\n",
      " 13  rougher.input.feed_pb                       5290 non-null   float64\n",
      " 14  rougher.input.feed_rate                     5287 non-null   float64\n",
      " 15  rougher.input.feed_size                     5289 non-null   float64\n",
      " 16  rougher.input.feed_sol                      5269 non-null   float64\n",
      " 17  rougher.input.feed_au                       5290 non-null   float64\n",
      " 18  rougher.input.floatbank10_sulfate           5285 non-null   float64\n",
      " 19  rougher.input.floatbank10_xanthate          5290 non-null   float64\n",
      " 20  rougher.input.floatbank11_sulfate           5282 non-null   float64\n",
      " 21  rougher.input.floatbank11_xanthate          5265 non-null   float64\n",
      " 22  rougher.state.floatbank10_a_air             5290 non-null   float64\n",
      " 23  rougher.state.floatbank10_a_level           5290 non-null   float64\n",
      " 24  rougher.state.floatbank10_b_air             5290 non-null   float64\n",
      " 25  rougher.state.floatbank10_b_level           5290 non-null   float64\n",
      " 26  rougher.state.floatbank10_c_air             5290 non-null   float64\n",
      " 27  rougher.state.floatbank10_c_level           5290 non-null   float64\n",
      " 28  rougher.state.floatbank10_d_air             5290 non-null   float64\n",
      " 29  rougher.state.floatbank10_d_level           5290 non-null   float64\n",
      " 30  rougher.state.floatbank10_e_air             5290 non-null   float64\n",
      " 31  rougher.state.floatbank10_e_level           5290 non-null   float64\n",
      " 32  rougher.state.floatbank10_f_air             5290 non-null   float64\n",
      " 33  rougher.state.floatbank10_f_level           5290 non-null   float64\n",
      " 34  secondary_cleaner.state.floatbank2_a_air    5287 non-null   float64\n",
      " 35  secondary_cleaner.state.floatbank2_a_level  5290 non-null   float64\n",
      " 36  secondary_cleaner.state.floatbank2_b_air    5288 non-null   float64\n",
      " 37  secondary_cleaner.state.floatbank2_b_level  5290 non-null   float64\n",
      " 38  secondary_cleaner.state.floatbank3_a_air    5281 non-null   float64\n",
      " 39  secondary_cleaner.state.floatbank3_a_level  5290 non-null   float64\n",
      " 40  secondary_cleaner.state.floatbank3_b_air    5290 non-null   float64\n",
      " 41  secondary_cleaner.state.floatbank3_b_level  5290 non-null   float64\n",
      " 42  secondary_cleaner.state.floatbank4_a_air    5290 non-null   float64\n",
      " 43  secondary_cleaner.state.floatbank4_a_level  5290 non-null   float64\n",
      " 44  secondary_cleaner.state.floatbank4_b_air    5290 non-null   float64\n",
      " 45  secondary_cleaner.state.floatbank4_b_level  5290 non-null   float64\n",
      " 46  secondary_cleaner.state.floatbank5_a_air    5290 non-null   float64\n",
      " 47  secondary_cleaner.state.floatbank5_a_level  5290 non-null   float64\n",
      " 48  secondary_cleaner.state.floatbank5_b_air    5290 non-null   float64\n",
      " 49  secondary_cleaner.state.floatbank5_b_level  5290 non-null   float64\n",
      " 50  secondary_cleaner.state.floatbank6_a_air    5290 non-null   float64\n",
      " 51  secondary_cleaner.state.floatbank6_a_level  5290 non-null   float64\n",
      "dtypes: float64(52)\n",
      "memory usage: 2.1+ MB\n"
     ]
    }
   ],
   "source": [
    "df_test.info() # получение общей информации о структуре датафрейма"
   ]
  },
  {
   "cell_type": "markdown",
   "id": "5207f5fb",
   "metadata": {},
   "source": [
    "1. В датасете содержится 14149 строк, 86 столбцов.\n",
    "2. Переименование колонок не требуется.\n",
    "3. Требуется изменение типа данных колонках с float64 на float32 для экономии памяти. Колонку с датой, являющейся идентификатором записи, установили в качестве индекса.\n",
    "4. Во многих колонках присутствуют пропущенные значения, которые требуют обработки.\n",
    "5. Требуется проверка на наличие явных дубликатовю\n",
    "6. Также требуется проверка данных на выбросы и обработка выбросов."
   ]
  },
  {
   "cell_type": "markdown",
   "id": "a9b9d43f",
   "metadata": {},
   "source": [
    "#### Датасет с полными данными"
   ]
  },
  {
   "cell_type": "code",
   "execution_count": 6,
   "id": "e1db9b72",
   "metadata": {
    "scrolled": true
   },
   "outputs": [
    {
     "data": {
      "text/html": [
       "<div>\n",
       "<style scoped>\n",
       "    .dataframe tbody tr th:only-of-type {\n",
       "        vertical-align: middle;\n",
       "    }\n",
       "\n",
       "    .dataframe tbody tr th {\n",
       "        vertical-align: top;\n",
       "    }\n",
       "\n",
       "    .dataframe thead th {\n",
       "        text-align: right;\n",
       "    }\n",
       "</style>\n",
       "<table border=\"1\" class=\"dataframe\">\n",
       "  <thead>\n",
       "    <tr style=\"text-align: right;\">\n",
       "      <th></th>\n",
       "      <th>final.output.concentrate_ag</th>\n",
       "      <th>final.output.concentrate_pb</th>\n",
       "      <th>final.output.concentrate_sol</th>\n",
       "      <th>final.output.concentrate_au</th>\n",
       "      <th>final.output.recovery</th>\n",
       "      <th>final.output.tail_ag</th>\n",
       "      <th>final.output.tail_pb</th>\n",
       "      <th>final.output.tail_sol</th>\n",
       "      <th>final.output.tail_au</th>\n",
       "      <th>primary_cleaner.input.sulfate</th>\n",
       "      <th>...</th>\n",
       "      <th>secondary_cleaner.state.floatbank4_a_air</th>\n",
       "      <th>secondary_cleaner.state.floatbank4_a_level</th>\n",
       "      <th>secondary_cleaner.state.floatbank4_b_air</th>\n",
       "      <th>secondary_cleaner.state.floatbank4_b_level</th>\n",
       "      <th>secondary_cleaner.state.floatbank5_a_air</th>\n",
       "      <th>secondary_cleaner.state.floatbank5_a_level</th>\n",
       "      <th>secondary_cleaner.state.floatbank5_b_air</th>\n",
       "      <th>secondary_cleaner.state.floatbank5_b_level</th>\n",
       "      <th>secondary_cleaner.state.floatbank6_a_air</th>\n",
       "      <th>secondary_cleaner.state.floatbank6_a_level</th>\n",
       "    </tr>\n",
       "    <tr>\n",
       "      <th>date</th>\n",
       "      <th></th>\n",
       "      <th></th>\n",
       "      <th></th>\n",
       "      <th></th>\n",
       "      <th></th>\n",
       "      <th></th>\n",
       "      <th></th>\n",
       "      <th></th>\n",
       "      <th></th>\n",
       "      <th></th>\n",
       "      <th></th>\n",
       "      <th></th>\n",
       "      <th></th>\n",
       "      <th></th>\n",
       "      <th></th>\n",
       "      <th></th>\n",
       "      <th></th>\n",
       "      <th></th>\n",
       "      <th></th>\n",
       "      <th></th>\n",
       "      <th></th>\n",
       "    </tr>\n",
       "  </thead>\n",
       "  <tbody>\n",
       "    <tr>\n",
       "      <th>2016-01-15 00:00:00</th>\n",
       "      <td>6.055403</td>\n",
       "      <td>9.889648</td>\n",
       "      <td>5.507324</td>\n",
       "      <td>42.192020</td>\n",
       "      <td>70.541216</td>\n",
       "      <td>10.411962</td>\n",
       "      <td>0.895447</td>\n",
       "      <td>16.904297</td>\n",
       "      <td>2.143149</td>\n",
       "      <td>127.092003</td>\n",
       "      <td>...</td>\n",
       "      <td>14.016835</td>\n",
       "      <td>-502.488007</td>\n",
       "      <td>12.099931</td>\n",
       "      <td>-504.715942</td>\n",
       "      <td>9.925633</td>\n",
       "      <td>-498.310211</td>\n",
       "      <td>8.079666</td>\n",
       "      <td>-500.470978</td>\n",
       "      <td>14.151341</td>\n",
       "      <td>-605.841980</td>\n",
       "    </tr>\n",
       "    <tr>\n",
       "      <th>2016-01-15 01:00:00</th>\n",
       "      <td>6.029369</td>\n",
       "      <td>9.968944</td>\n",
       "      <td>5.257781</td>\n",
       "      <td>42.701629</td>\n",
       "      <td>69.266198</td>\n",
       "      <td>10.462676</td>\n",
       "      <td>0.927452</td>\n",
       "      <td>16.634514</td>\n",
       "      <td>2.224930</td>\n",
       "      <td>125.629232</td>\n",
       "      <td>...</td>\n",
       "      <td>13.992281</td>\n",
       "      <td>-505.503262</td>\n",
       "      <td>11.950531</td>\n",
       "      <td>-501.331529</td>\n",
       "      <td>10.039245</td>\n",
       "      <td>-500.169983</td>\n",
       "      <td>7.984757</td>\n",
       "      <td>-500.582168</td>\n",
       "      <td>13.998353</td>\n",
       "      <td>-599.787184</td>\n",
       "    </tr>\n",
       "    <tr>\n",
       "      <th>2016-01-15 02:00:00</th>\n",
       "      <td>6.055926</td>\n",
       "      <td>10.213995</td>\n",
       "      <td>5.383759</td>\n",
       "      <td>42.657501</td>\n",
       "      <td>68.116445</td>\n",
       "      <td>10.507046</td>\n",
       "      <td>0.953716</td>\n",
       "      <td>16.208849</td>\n",
       "      <td>2.257889</td>\n",
       "      <td>123.819808</td>\n",
       "      <td>...</td>\n",
       "      <td>14.015015</td>\n",
       "      <td>-502.520901</td>\n",
       "      <td>11.912783</td>\n",
       "      <td>-501.133383</td>\n",
       "      <td>10.070913</td>\n",
       "      <td>-500.129135</td>\n",
       "      <td>8.013877</td>\n",
       "      <td>-500.517572</td>\n",
       "      <td>14.028663</td>\n",
       "      <td>-601.427363</td>\n",
       "    </tr>\n",
       "    <tr>\n",
       "      <th>2016-01-15 03:00:00</th>\n",
       "      <td>6.047977</td>\n",
       "      <td>9.977019</td>\n",
       "      <td>4.858634</td>\n",
       "      <td>42.689819</td>\n",
       "      <td>68.347543</td>\n",
       "      <td>10.422762</td>\n",
       "      <td>0.883763</td>\n",
       "      <td>16.532835</td>\n",
       "      <td>2.146849</td>\n",
       "      <td>122.270188</td>\n",
       "      <td>...</td>\n",
       "      <td>14.036510</td>\n",
       "      <td>-500.857308</td>\n",
       "      <td>11.999550</td>\n",
       "      <td>-501.193686</td>\n",
       "      <td>9.970366</td>\n",
       "      <td>-499.201640</td>\n",
       "      <td>7.977324</td>\n",
       "      <td>-500.255908</td>\n",
       "      <td>14.005551</td>\n",
       "      <td>-599.996129</td>\n",
       "    </tr>\n",
       "    <tr>\n",
       "      <th>2016-01-15 04:00:00</th>\n",
       "      <td>6.148599</td>\n",
       "      <td>10.142511</td>\n",
       "      <td>4.939416</td>\n",
       "      <td>42.774141</td>\n",
       "      <td>66.927016</td>\n",
       "      <td>10.360302</td>\n",
       "      <td>0.792826</td>\n",
       "      <td>16.525686</td>\n",
       "      <td>2.055292</td>\n",
       "      <td>117.988169</td>\n",
       "      <td>...</td>\n",
       "      <td>14.027298</td>\n",
       "      <td>-499.838632</td>\n",
       "      <td>11.953070</td>\n",
       "      <td>-501.053894</td>\n",
       "      <td>9.925709</td>\n",
       "      <td>-501.686727</td>\n",
       "      <td>7.894242</td>\n",
       "      <td>-500.356035</td>\n",
       "      <td>13.996647</td>\n",
       "      <td>-601.496691</td>\n",
       "    </tr>\n",
       "  </tbody>\n",
       "</table>\n",
       "<p>5 rows × 86 columns</p>\n",
       "</div>"
      ],
      "text/plain": [
       "                     final.output.concentrate_ag  final.output.concentrate_pb  \\\n",
       "date                                                                            \n",
       "2016-01-15 00:00:00                     6.055403                     9.889648   \n",
       "2016-01-15 01:00:00                     6.029369                     9.968944   \n",
       "2016-01-15 02:00:00                     6.055926                    10.213995   \n",
       "2016-01-15 03:00:00                     6.047977                     9.977019   \n",
       "2016-01-15 04:00:00                     6.148599                    10.142511   \n",
       "\n",
       "                     final.output.concentrate_sol  \\\n",
       "date                                                \n",
       "2016-01-15 00:00:00                      5.507324   \n",
       "2016-01-15 01:00:00                      5.257781   \n",
       "2016-01-15 02:00:00                      5.383759   \n",
       "2016-01-15 03:00:00                      4.858634   \n",
       "2016-01-15 04:00:00                      4.939416   \n",
       "\n",
       "                     final.output.concentrate_au  final.output.recovery  \\\n",
       "date                                                                      \n",
       "2016-01-15 00:00:00                    42.192020              70.541216   \n",
       "2016-01-15 01:00:00                    42.701629              69.266198   \n",
       "2016-01-15 02:00:00                    42.657501              68.116445   \n",
       "2016-01-15 03:00:00                    42.689819              68.347543   \n",
       "2016-01-15 04:00:00                    42.774141              66.927016   \n",
       "\n",
       "                     final.output.tail_ag  final.output.tail_pb  \\\n",
       "date                                                              \n",
       "2016-01-15 00:00:00             10.411962              0.895447   \n",
       "2016-01-15 01:00:00             10.462676              0.927452   \n",
       "2016-01-15 02:00:00             10.507046              0.953716   \n",
       "2016-01-15 03:00:00             10.422762              0.883763   \n",
       "2016-01-15 04:00:00             10.360302              0.792826   \n",
       "\n",
       "                     final.output.tail_sol  final.output.tail_au  \\\n",
       "date                                                               \n",
       "2016-01-15 00:00:00              16.904297              2.143149   \n",
       "2016-01-15 01:00:00              16.634514              2.224930   \n",
       "2016-01-15 02:00:00              16.208849              2.257889   \n",
       "2016-01-15 03:00:00              16.532835              2.146849   \n",
       "2016-01-15 04:00:00              16.525686              2.055292   \n",
       "\n",
       "                     primary_cleaner.input.sulfate  ...  \\\n",
       "date                                                ...   \n",
       "2016-01-15 00:00:00                     127.092003  ...   \n",
       "2016-01-15 01:00:00                     125.629232  ...   \n",
       "2016-01-15 02:00:00                     123.819808  ...   \n",
       "2016-01-15 03:00:00                     122.270188  ...   \n",
       "2016-01-15 04:00:00                     117.988169  ...   \n",
       "\n",
       "                     secondary_cleaner.state.floatbank4_a_air  \\\n",
       "date                                                            \n",
       "2016-01-15 00:00:00                                 14.016835   \n",
       "2016-01-15 01:00:00                                 13.992281   \n",
       "2016-01-15 02:00:00                                 14.015015   \n",
       "2016-01-15 03:00:00                                 14.036510   \n",
       "2016-01-15 04:00:00                                 14.027298   \n",
       "\n",
       "                     secondary_cleaner.state.floatbank4_a_level  \\\n",
       "date                                                              \n",
       "2016-01-15 00:00:00                                 -502.488007   \n",
       "2016-01-15 01:00:00                                 -505.503262   \n",
       "2016-01-15 02:00:00                                 -502.520901   \n",
       "2016-01-15 03:00:00                                 -500.857308   \n",
       "2016-01-15 04:00:00                                 -499.838632   \n",
       "\n",
       "                     secondary_cleaner.state.floatbank4_b_air  \\\n",
       "date                                                            \n",
       "2016-01-15 00:00:00                                 12.099931   \n",
       "2016-01-15 01:00:00                                 11.950531   \n",
       "2016-01-15 02:00:00                                 11.912783   \n",
       "2016-01-15 03:00:00                                 11.999550   \n",
       "2016-01-15 04:00:00                                 11.953070   \n",
       "\n",
       "                     secondary_cleaner.state.floatbank4_b_level  \\\n",
       "date                                                              \n",
       "2016-01-15 00:00:00                                 -504.715942   \n",
       "2016-01-15 01:00:00                                 -501.331529   \n",
       "2016-01-15 02:00:00                                 -501.133383   \n",
       "2016-01-15 03:00:00                                 -501.193686   \n",
       "2016-01-15 04:00:00                                 -501.053894   \n",
       "\n",
       "                     secondary_cleaner.state.floatbank5_a_air  \\\n",
       "date                                                            \n",
       "2016-01-15 00:00:00                                  9.925633   \n",
       "2016-01-15 01:00:00                                 10.039245   \n",
       "2016-01-15 02:00:00                                 10.070913   \n",
       "2016-01-15 03:00:00                                  9.970366   \n",
       "2016-01-15 04:00:00                                  9.925709   \n",
       "\n",
       "                     secondary_cleaner.state.floatbank5_a_level  \\\n",
       "date                                                              \n",
       "2016-01-15 00:00:00                                 -498.310211   \n",
       "2016-01-15 01:00:00                                 -500.169983   \n",
       "2016-01-15 02:00:00                                 -500.129135   \n",
       "2016-01-15 03:00:00                                 -499.201640   \n",
       "2016-01-15 04:00:00                                 -501.686727   \n",
       "\n",
       "                     secondary_cleaner.state.floatbank5_b_air  \\\n",
       "date                                                            \n",
       "2016-01-15 00:00:00                                  8.079666   \n",
       "2016-01-15 01:00:00                                  7.984757   \n",
       "2016-01-15 02:00:00                                  8.013877   \n",
       "2016-01-15 03:00:00                                  7.977324   \n",
       "2016-01-15 04:00:00                                  7.894242   \n",
       "\n",
       "                     secondary_cleaner.state.floatbank5_b_level  \\\n",
       "date                                                              \n",
       "2016-01-15 00:00:00                                 -500.470978   \n",
       "2016-01-15 01:00:00                                 -500.582168   \n",
       "2016-01-15 02:00:00                                 -500.517572   \n",
       "2016-01-15 03:00:00                                 -500.255908   \n",
       "2016-01-15 04:00:00                                 -500.356035   \n",
       "\n",
       "                     secondary_cleaner.state.floatbank6_a_air  \\\n",
       "date                                                            \n",
       "2016-01-15 00:00:00                                 14.151341   \n",
       "2016-01-15 01:00:00                                 13.998353   \n",
       "2016-01-15 02:00:00                                 14.028663   \n",
       "2016-01-15 03:00:00                                 14.005551   \n",
       "2016-01-15 04:00:00                                 13.996647   \n",
       "\n",
       "                     secondary_cleaner.state.floatbank6_a_level  \n",
       "date                                                             \n",
       "2016-01-15 00:00:00                                 -605.841980  \n",
       "2016-01-15 01:00:00                                 -599.787184  \n",
       "2016-01-15 02:00:00                                 -601.427363  \n",
       "2016-01-15 03:00:00                                 -599.996129  \n",
       "2016-01-15 04:00:00                                 -601.496691  \n",
       "\n",
       "[5 rows x 86 columns]"
      ]
     },
     "execution_count": 6,
     "metadata": {},
     "output_type": "execute_result"
    }
   ],
   "source": [
    "# чтение файла с данными, сохранение его в переменную\n",
    "df_full = pd.read_csv('/datasets/gold_recovery_full_new.csv', index_col=0)\n",
    "# вывод первых 5 строк\n",
    "df_full.head(5)"
   ]
  },
  {
   "cell_type": "markdown",
   "id": "0372f262",
   "metadata": {},
   "source": [
    "Изучим общую информацию о данных."
   ]
  },
  {
   "cell_type": "code",
   "execution_count": 7,
   "id": "92b84241",
   "metadata": {
    "scrolled": true
   },
   "outputs": [
    {
     "name": "stdout",
     "output_type": "stream",
     "text": [
      "<class 'pandas.core.frame.DataFrame'>\n",
      "Index: 19439 entries, 2016-01-15 00:00:00 to 2018-08-18 10:59:59\n",
      "Data columns (total 86 columns):\n",
      " #   Column                                              Non-Null Count  Dtype  \n",
      "---  ------                                              --------------  -----  \n",
      " 0   final.output.concentrate_ag                         19438 non-null  float64\n",
      " 1   final.output.concentrate_pb                         19438 non-null  float64\n",
      " 2   final.output.concentrate_sol                        19228 non-null  float64\n",
      " 3   final.output.concentrate_au                         19439 non-null  float64\n",
      " 4   final.output.recovery                               19439 non-null  float64\n",
      " 5   final.output.tail_ag                                19438 non-null  float64\n",
      " 6   final.output.tail_pb                                19338 non-null  float64\n",
      " 7   final.output.tail_sol                               19433 non-null  float64\n",
      " 8   final.output.tail_au                                19439 non-null  float64\n",
      " 9   primary_cleaner.input.sulfate                       19415 non-null  float64\n",
      " 10  primary_cleaner.input.depressant                    19402 non-null  float64\n",
      " 11  primary_cleaner.input.feed_size                     19439 non-null  float64\n",
      " 12  primary_cleaner.input.xanthate                      19335 non-null  float64\n",
      " 13  primary_cleaner.output.concentrate_ag               19439 non-null  float64\n",
      " 14  primary_cleaner.output.concentrate_pb               19323 non-null  float64\n",
      " 15  primary_cleaner.output.concentrate_sol              19069 non-null  float64\n",
      " 16  primary_cleaner.output.concentrate_au               19439 non-null  float64\n",
      " 17  primary_cleaner.output.tail_ag                      19435 non-null  float64\n",
      " 18  primary_cleaner.output.tail_pb                      19418 non-null  float64\n",
      " 19  primary_cleaner.output.tail_sol                     19377 non-null  float64\n",
      " 20  primary_cleaner.output.tail_au                      19439 non-null  float64\n",
      " 21  primary_cleaner.state.floatbank8_a_air              19435 non-null  float64\n",
      " 22  primary_cleaner.state.floatbank8_a_level            19438 non-null  float64\n",
      " 23  primary_cleaner.state.floatbank8_b_air              19435 non-null  float64\n",
      " 24  primary_cleaner.state.floatbank8_b_level            19438 non-null  float64\n",
      " 25  primary_cleaner.state.floatbank8_c_air              19437 non-null  float64\n",
      " 26  primary_cleaner.state.floatbank8_c_level            19438 non-null  float64\n",
      " 27  primary_cleaner.state.floatbank8_d_air              19436 non-null  float64\n",
      " 28  primary_cleaner.state.floatbank8_d_level            19438 non-null  float64\n",
      " 29  rougher.calculation.sulfate_to_au_concentrate       19437 non-null  float64\n",
      " 30  rougher.calculation.floatbank10_sulfate_to_au_feed  19437 non-null  float64\n",
      " 31  rougher.calculation.floatbank11_sulfate_to_au_feed  19437 non-null  float64\n",
      " 32  rougher.calculation.au_pb_ratio                     19439 non-null  float64\n",
      " 33  rougher.input.feed_ag                               19439 non-null  float64\n",
      " 34  rougher.input.feed_pb                               19339 non-null  float64\n",
      " 35  rougher.input.feed_rate                             19428 non-null  float64\n",
      " 36  rougher.input.feed_size                             19294 non-null  float64\n",
      " 37  rougher.input.feed_sol                              19340 non-null  float64\n",
      " 38  rougher.input.feed_au                               19439 non-null  float64\n",
      " 39  rougher.input.floatbank10_sulfate                   19405 non-null  float64\n",
      " 40  rougher.input.floatbank10_xanthate                  19431 non-null  float64\n",
      " 41  rougher.input.floatbank11_sulfate                   19395 non-null  float64\n",
      " 42  rougher.input.floatbank11_xanthate                  18986 non-null  float64\n",
      " 43  rougher.output.concentrate_ag                       19439 non-null  float64\n",
      " 44  rougher.output.concentrate_pb                       19439 non-null  float64\n",
      " 45  rougher.output.concentrate_sol                      19416 non-null  float64\n",
      " 46  rougher.output.concentrate_au                       19439 non-null  float64\n",
      " 47  rougher.output.recovery                             19439 non-null  float64\n",
      " 48  rougher.output.tail_ag                              19438 non-null  float64\n",
      " 49  rougher.output.tail_pb                              19439 non-null  float64\n",
      " 50  rougher.output.tail_sol                             19439 non-null  float64\n",
      " 51  rougher.output.tail_au                              19439 non-null  float64\n",
      " 52  rougher.state.floatbank10_a_air                     19438 non-null  float64\n",
      " 53  rougher.state.floatbank10_a_level                   19438 non-null  float64\n",
      " 54  rougher.state.floatbank10_b_air                     19438 non-null  float64\n",
      " 55  rougher.state.floatbank10_b_level                   19438 non-null  float64\n",
      " 56  rougher.state.floatbank10_c_air                     19438 non-null  float64\n",
      " 57  rougher.state.floatbank10_c_level                   19438 non-null  float64\n",
      " 58  rougher.state.floatbank10_d_air                     19439 non-null  float64\n",
      " 59  rougher.state.floatbank10_d_level                   19439 non-null  float64\n",
      " 60  rougher.state.floatbank10_e_air                     19003 non-null  float64\n",
      " 61  rougher.state.floatbank10_e_level                   19439 non-null  float64\n",
      " 62  rougher.state.floatbank10_f_air                     19439 non-null  float64\n",
      " 63  rougher.state.floatbank10_f_level                   19439 non-null  float64\n",
      " 64  secondary_cleaner.output.tail_ag                    19437 non-null  float64\n",
      " 65  secondary_cleaner.output.tail_pb                    19427 non-null  float64\n",
      " 66  secondary_cleaner.output.tail_sol                   17691 non-null  float64\n",
      " 67  secondary_cleaner.output.tail_au                    19439 non-null  float64\n",
      " 68  secondary_cleaner.state.floatbank2_a_air            19219 non-null  float64\n",
      " 69  secondary_cleaner.state.floatbank2_a_level          19438 non-null  float64\n",
      " 70  secondary_cleaner.state.floatbank2_b_air            19416 non-null  float64\n",
      " 71  secondary_cleaner.state.floatbank2_b_level          19438 non-null  float64\n",
      " 72  secondary_cleaner.state.floatbank3_a_air            19426 non-null  float64\n",
      " 73  secondary_cleaner.state.floatbank3_a_level          19438 non-null  float64\n",
      " 74  secondary_cleaner.state.floatbank3_b_air            19438 non-null  float64\n",
      " 75  secondary_cleaner.state.floatbank3_b_level          19438 non-null  float64\n",
      " 76  secondary_cleaner.state.floatbank4_a_air            19433 non-null  float64\n",
      " 77  secondary_cleaner.state.floatbank4_a_level          19438 non-null  float64\n",
      " 78  secondary_cleaner.state.floatbank4_b_air            19438 non-null  float64\n",
      " 79  secondary_cleaner.state.floatbank4_b_level          19438 non-null  float64\n",
      " 80  secondary_cleaner.state.floatbank5_a_air            19438 non-null  float64\n",
      " 81  secondary_cleaner.state.floatbank5_a_level          19438 non-null  float64\n",
      " 82  secondary_cleaner.state.floatbank5_b_air            19438 non-null  float64\n",
      " 83  secondary_cleaner.state.floatbank5_b_level          19438 non-null  float64\n",
      " 84  secondary_cleaner.state.floatbank6_a_air            19437 non-null  float64\n",
      " 85  secondary_cleaner.state.floatbank6_a_level          19438 non-null  float64\n",
      "dtypes: float64(86)\n",
      "memory usage: 12.9+ MB\n"
     ]
    }
   ],
   "source": [
    "df_full.info() # получение общей информации о структуре датафрейма"
   ]
  },
  {
   "cell_type": "markdown",
   "id": "62603276",
   "metadata": {},
   "source": [
    "1. В датасете содержится 14149 строк, 86 столбцов.\n",
    "2. Переименование колонок не требуется.\n",
    "3. Требуется изменение типа данных колонках с float64 на float32 для экономии памяти. Колонку с датой, являющейся идентификатором записи, установили в качестве индекса.\n",
    "4. Во многих колонках присутствуют пропущенные значения, которые требуют обработки.\n",
    "5. Требуется проверка на наличие явных дубликатовю\n",
    "6. Также требуется проверка данных на выбросы и обработка выбросов."
   ]
  },
  {
   "cell_type": "markdown",
   "id": "1cec60b1",
   "metadata": {},
   "source": [
    "### Проверка расчета эффективности обогащения"
   ]
  },
  {
   "cell_type": "markdown",
   "id": "79f938a7",
   "metadata": {},
   "source": [
    "Вычислим на обучающей выборке расчетным путем значения для признака rougher.output.recovery и найдем MAE между расчётными данными и значениями признака, данными в исходной выборке, чтобы определить, корректно ли посчитана эффективность в предоставленной на анализ выборке."
   ]
  },
  {
   "cell_type": "markdown",
   "id": "999d1c3c",
   "metadata": {},
   "source": [
    "Создадим копию обучающей выборки для решения этой задачи и добавим в нее колонку с расчетными значениями признака, определенными по формуле."
   ]
  },
  {
   "cell_type": "code",
   "execution_count": 8,
   "id": "fea23343",
   "metadata": {},
   "outputs": [],
   "source": [
    "# создание копии выборки\n",
    "df_train_recovery = df_train.copy(deep=True)"
   ]
  },
  {
   "cell_type": "code",
   "execution_count": 9,
   "id": "0d471b75",
   "metadata": {
    "scrolled": true
   },
   "outputs": [],
   "source": [
    "# добавление в новую выборку столбца с расчетными значениями признака rougher.output.recovery\n",
    "df_train_recovery['recovery_calculated'] = (df_train_recovery['rougher.output.concentrate_au'] * (df_train_recovery['rougher.input.feed_au'] - df_train_recovery['rougher.output.tail_au'])) / (df_train_recovery['rougher.input.feed_au']\n",
    "                                            * (df_train_recovery['rougher.output.concentrate_au'] - df_train_recovery['rougher.output.tail_au'])) * 100  "
   ]
  },
  {
   "cell_type": "code",
   "execution_count": 10,
   "id": "72fa3e95",
   "metadata": {
    "scrolled": true
   },
   "outputs": [
    {
     "data": {
      "text/html": [
       "<div>\n",
       "<style scoped>\n",
       "    .dataframe tbody tr th:only-of-type {\n",
       "        vertical-align: middle;\n",
       "    }\n",
       "\n",
       "    .dataframe tbody tr th {\n",
       "        vertical-align: top;\n",
       "    }\n",
       "\n",
       "    .dataframe thead th {\n",
       "        text-align: right;\n",
       "    }\n",
       "</style>\n",
       "<table border=\"1\" class=\"dataframe\">\n",
       "  <thead>\n",
       "    <tr style=\"text-align: right;\">\n",
       "      <th></th>\n",
       "      <th>recovery_calculated</th>\n",
       "      <th>rougher.output.recovery</th>\n",
       "    </tr>\n",
       "    <tr>\n",
       "      <th>date</th>\n",
       "      <th></th>\n",
       "      <th></th>\n",
       "    </tr>\n",
       "  </thead>\n",
       "  <tbody>\n",
       "    <tr>\n",
       "      <th>2016-01-15 00:00:00</th>\n",
       "      <td>87.107763</td>\n",
       "      <td>87.107763</td>\n",
       "    </tr>\n",
       "    <tr>\n",
       "      <th>2016-01-15 01:00:00</th>\n",
       "      <td>86.843261</td>\n",
       "      <td>86.843261</td>\n",
       "    </tr>\n",
       "    <tr>\n",
       "      <th>2016-01-15 02:00:00</th>\n",
       "      <td>86.842308</td>\n",
       "      <td>86.842308</td>\n",
       "    </tr>\n",
       "    <tr>\n",
       "      <th>2016-01-15 03:00:00</th>\n",
       "      <td>87.226430</td>\n",
       "      <td>87.226430</td>\n",
       "    </tr>\n",
       "    <tr>\n",
       "      <th>2016-01-15 04:00:00</th>\n",
       "      <td>86.688794</td>\n",
       "      <td>86.688794</td>\n",
       "    </tr>\n",
       "  </tbody>\n",
       "</table>\n",
       "</div>"
      ],
      "text/plain": [
       "                     recovery_calculated  rougher.output.recovery\n",
       "date                                                             \n",
       "2016-01-15 00:00:00            87.107763                87.107763\n",
       "2016-01-15 01:00:00            86.843261                86.843261\n",
       "2016-01-15 02:00:00            86.842308                86.842308\n",
       "2016-01-15 03:00:00            87.226430                87.226430\n",
       "2016-01-15 04:00:00            86.688794                86.688794"
      ]
     },
     "execution_count": 10,
     "metadata": {},
     "output_type": "execute_result"
    }
   ],
   "source": [
    "# вывод расчетной и исходной колонок для сравнения\n",
    "df_train_recovery[['recovery_calculated', 'rougher.output.recovery']].head()"
   ]
  },
  {
   "cell_type": "markdown",
   "id": "41b3d331",
   "metadata": {},
   "source": [
    "Посчитаем значение MAE для эффективности обогащения."
   ]
  },
  {
   "cell_type": "code",
   "execution_count": 11,
   "id": "086142bc",
   "metadata": {
    "scrolled": false
   },
   "outputs": [
    {
     "data": {
      "text/plain": [
       "0.0"
      ]
     },
     "execution_count": 11,
     "metadata": {},
     "output_type": "execute_result"
    }
   ],
   "source": [
    "# расчет MAE для исходных и рассчитанных значений эффективности обогащения \n",
    "mean_absolute_error(df_train_recovery['rougher.output.recovery'], df_train_recovery['recovery_calculated']).round()"
   ]
  },
  {
   "cell_type": "markdown",
   "id": "de2d734a",
   "metadata": {},
   "source": [
    "MAE = 0, эффективность обогащения посчитана в предоставленной выборке правильно."
   ]
  },
  {
   "cell_type": "markdown",
   "id": "8fc780e0",
   "metadata": {},
   "source": [
    "### Анализ тестовой выборки"
   ]
  },
  {
   "cell_type": "markdown",
   "id": "ce6c8d30",
   "metadata": {},
   "source": [
    "Проанализируем, какие признаки отсутствуют в тестовой выборке, и к какому типу они относятся. Для этого создадим датафреймы с названиями колонок в тестовой и полной выборках и сравним их через объединение."
   ]
  },
  {
   "cell_type": "code",
   "execution_count": 12,
   "id": "220c798a",
   "metadata": {
    "scrolled": true
   },
   "outputs": [
    {
     "data": {
      "text/html": [
       "<div>\n",
       "<style scoped>\n",
       "    .dataframe tbody tr th:only-of-type {\n",
       "        vertical-align: middle;\n",
       "    }\n",
       "\n",
       "    .dataframe tbody tr th {\n",
       "        vertical-align: top;\n",
       "    }\n",
       "\n",
       "    .dataframe thead th {\n",
       "        text-align: right;\n",
       "    }\n",
       "</style>\n",
       "<table border=\"1\" class=\"dataframe\">\n",
       "  <thead>\n",
       "    <tr style=\"text-align: right;\">\n",
       "      <th></th>\n",
       "      <th>0</th>\n",
       "    </tr>\n",
       "  </thead>\n",
       "  <tbody>\n",
       "    <tr>\n",
       "      <th>0</th>\n",
       "      <td>primary_cleaner.input.sulfate</td>\n",
       "    </tr>\n",
       "    <tr>\n",
       "      <th>1</th>\n",
       "      <td>primary_cleaner.input.depressant</td>\n",
       "    </tr>\n",
       "    <tr>\n",
       "      <th>2</th>\n",
       "      <td>primary_cleaner.input.feed_size</td>\n",
       "    </tr>\n",
       "    <tr>\n",
       "      <th>3</th>\n",
       "      <td>primary_cleaner.input.xanthate</td>\n",
       "    </tr>\n",
       "    <tr>\n",
       "      <th>4</th>\n",
       "      <td>primary_cleaner.state.floatbank8_a_air</td>\n",
       "    </tr>\n",
       "    <tr>\n",
       "      <th>5</th>\n",
       "      <td>primary_cleaner.state.floatbank8_a_level</td>\n",
       "    </tr>\n",
       "    <tr>\n",
       "      <th>6</th>\n",
       "      <td>primary_cleaner.state.floatbank8_b_air</td>\n",
       "    </tr>\n",
       "    <tr>\n",
       "      <th>7</th>\n",
       "      <td>primary_cleaner.state.floatbank8_b_level</td>\n",
       "    </tr>\n",
       "    <tr>\n",
       "      <th>8</th>\n",
       "      <td>primary_cleaner.state.floatbank8_c_air</td>\n",
       "    </tr>\n",
       "    <tr>\n",
       "      <th>9</th>\n",
       "      <td>primary_cleaner.state.floatbank8_c_level</td>\n",
       "    </tr>\n",
       "    <tr>\n",
       "      <th>10</th>\n",
       "      <td>primary_cleaner.state.floatbank8_d_air</td>\n",
       "    </tr>\n",
       "    <tr>\n",
       "      <th>11</th>\n",
       "      <td>primary_cleaner.state.floatbank8_d_level</td>\n",
       "    </tr>\n",
       "    <tr>\n",
       "      <th>12</th>\n",
       "      <td>rougher.input.feed_ag</td>\n",
       "    </tr>\n",
       "    <tr>\n",
       "      <th>13</th>\n",
       "      <td>rougher.input.feed_pb</td>\n",
       "    </tr>\n",
       "    <tr>\n",
       "      <th>14</th>\n",
       "      <td>rougher.input.feed_rate</td>\n",
       "    </tr>\n",
       "    <tr>\n",
       "      <th>15</th>\n",
       "      <td>rougher.input.feed_size</td>\n",
       "    </tr>\n",
       "    <tr>\n",
       "      <th>16</th>\n",
       "      <td>rougher.input.feed_sol</td>\n",
       "    </tr>\n",
       "    <tr>\n",
       "      <th>17</th>\n",
       "      <td>rougher.input.feed_au</td>\n",
       "    </tr>\n",
       "    <tr>\n",
       "      <th>18</th>\n",
       "      <td>rougher.input.floatbank10_sulfate</td>\n",
       "    </tr>\n",
       "    <tr>\n",
       "      <th>19</th>\n",
       "      <td>rougher.input.floatbank10_xanthate</td>\n",
       "    </tr>\n",
       "    <tr>\n",
       "      <th>20</th>\n",
       "      <td>rougher.input.floatbank11_sulfate</td>\n",
       "    </tr>\n",
       "    <tr>\n",
       "      <th>21</th>\n",
       "      <td>rougher.input.floatbank11_xanthate</td>\n",
       "    </tr>\n",
       "    <tr>\n",
       "      <th>22</th>\n",
       "      <td>rougher.state.floatbank10_a_air</td>\n",
       "    </tr>\n",
       "    <tr>\n",
       "      <th>23</th>\n",
       "      <td>rougher.state.floatbank10_a_level</td>\n",
       "    </tr>\n",
       "    <tr>\n",
       "      <th>24</th>\n",
       "      <td>rougher.state.floatbank10_b_air</td>\n",
       "    </tr>\n",
       "    <tr>\n",
       "      <th>25</th>\n",
       "      <td>rougher.state.floatbank10_b_level</td>\n",
       "    </tr>\n",
       "    <tr>\n",
       "      <th>26</th>\n",
       "      <td>rougher.state.floatbank10_c_air</td>\n",
       "    </tr>\n",
       "    <tr>\n",
       "      <th>27</th>\n",
       "      <td>rougher.state.floatbank10_c_level</td>\n",
       "    </tr>\n",
       "    <tr>\n",
       "      <th>28</th>\n",
       "      <td>rougher.state.floatbank10_d_air</td>\n",
       "    </tr>\n",
       "    <tr>\n",
       "      <th>29</th>\n",
       "      <td>rougher.state.floatbank10_d_level</td>\n",
       "    </tr>\n",
       "    <tr>\n",
       "      <th>30</th>\n",
       "      <td>rougher.state.floatbank10_e_air</td>\n",
       "    </tr>\n",
       "    <tr>\n",
       "      <th>31</th>\n",
       "      <td>rougher.state.floatbank10_e_level</td>\n",
       "    </tr>\n",
       "    <tr>\n",
       "      <th>32</th>\n",
       "      <td>rougher.state.floatbank10_f_air</td>\n",
       "    </tr>\n",
       "    <tr>\n",
       "      <th>33</th>\n",
       "      <td>rougher.state.floatbank10_f_level</td>\n",
       "    </tr>\n",
       "    <tr>\n",
       "      <th>34</th>\n",
       "      <td>secondary_cleaner.state.floatbank2_a_air</td>\n",
       "    </tr>\n",
       "    <tr>\n",
       "      <th>35</th>\n",
       "      <td>secondary_cleaner.state.floatbank2_a_level</td>\n",
       "    </tr>\n",
       "    <tr>\n",
       "      <th>36</th>\n",
       "      <td>secondary_cleaner.state.floatbank2_b_air</td>\n",
       "    </tr>\n",
       "    <tr>\n",
       "      <th>37</th>\n",
       "      <td>secondary_cleaner.state.floatbank2_b_level</td>\n",
       "    </tr>\n",
       "    <tr>\n",
       "      <th>38</th>\n",
       "      <td>secondary_cleaner.state.floatbank3_a_air</td>\n",
       "    </tr>\n",
       "    <tr>\n",
       "      <th>39</th>\n",
       "      <td>secondary_cleaner.state.floatbank3_a_level</td>\n",
       "    </tr>\n",
       "    <tr>\n",
       "      <th>40</th>\n",
       "      <td>secondary_cleaner.state.floatbank3_b_air</td>\n",
       "    </tr>\n",
       "    <tr>\n",
       "      <th>41</th>\n",
       "      <td>secondary_cleaner.state.floatbank3_b_level</td>\n",
       "    </tr>\n",
       "    <tr>\n",
       "      <th>42</th>\n",
       "      <td>secondary_cleaner.state.floatbank4_a_air</td>\n",
       "    </tr>\n",
       "    <tr>\n",
       "      <th>43</th>\n",
       "      <td>secondary_cleaner.state.floatbank4_a_level</td>\n",
       "    </tr>\n",
       "    <tr>\n",
       "      <th>44</th>\n",
       "      <td>secondary_cleaner.state.floatbank4_b_air</td>\n",
       "    </tr>\n",
       "    <tr>\n",
       "      <th>45</th>\n",
       "      <td>secondary_cleaner.state.floatbank4_b_level</td>\n",
       "    </tr>\n",
       "    <tr>\n",
       "      <th>46</th>\n",
       "      <td>secondary_cleaner.state.floatbank5_a_air</td>\n",
       "    </tr>\n",
       "    <tr>\n",
       "      <th>47</th>\n",
       "      <td>secondary_cleaner.state.floatbank5_a_level</td>\n",
       "    </tr>\n",
       "    <tr>\n",
       "      <th>48</th>\n",
       "      <td>secondary_cleaner.state.floatbank5_b_air</td>\n",
       "    </tr>\n",
       "    <tr>\n",
       "      <th>49</th>\n",
       "      <td>secondary_cleaner.state.floatbank5_b_level</td>\n",
       "    </tr>\n",
       "    <tr>\n",
       "      <th>50</th>\n",
       "      <td>secondary_cleaner.state.floatbank6_a_air</td>\n",
       "    </tr>\n",
       "    <tr>\n",
       "      <th>51</th>\n",
       "      <td>secondary_cleaner.state.floatbank6_a_level</td>\n",
       "    </tr>\n",
       "  </tbody>\n",
       "</table>\n",
       "</div>"
      ],
      "text/plain": [
       "                                             0\n",
       "0                primary_cleaner.input.sulfate\n",
       "1             primary_cleaner.input.depressant\n",
       "2              primary_cleaner.input.feed_size\n",
       "3               primary_cleaner.input.xanthate\n",
       "4       primary_cleaner.state.floatbank8_a_air\n",
       "5     primary_cleaner.state.floatbank8_a_level\n",
       "6       primary_cleaner.state.floatbank8_b_air\n",
       "7     primary_cleaner.state.floatbank8_b_level\n",
       "8       primary_cleaner.state.floatbank8_c_air\n",
       "9     primary_cleaner.state.floatbank8_c_level\n",
       "10      primary_cleaner.state.floatbank8_d_air\n",
       "11    primary_cleaner.state.floatbank8_d_level\n",
       "12                       rougher.input.feed_ag\n",
       "13                       rougher.input.feed_pb\n",
       "14                     rougher.input.feed_rate\n",
       "15                     rougher.input.feed_size\n",
       "16                      rougher.input.feed_sol\n",
       "17                       rougher.input.feed_au\n",
       "18           rougher.input.floatbank10_sulfate\n",
       "19          rougher.input.floatbank10_xanthate\n",
       "20           rougher.input.floatbank11_sulfate\n",
       "21          rougher.input.floatbank11_xanthate\n",
       "22             rougher.state.floatbank10_a_air\n",
       "23           rougher.state.floatbank10_a_level\n",
       "24             rougher.state.floatbank10_b_air\n",
       "25           rougher.state.floatbank10_b_level\n",
       "26             rougher.state.floatbank10_c_air\n",
       "27           rougher.state.floatbank10_c_level\n",
       "28             rougher.state.floatbank10_d_air\n",
       "29           rougher.state.floatbank10_d_level\n",
       "30             rougher.state.floatbank10_e_air\n",
       "31           rougher.state.floatbank10_e_level\n",
       "32             rougher.state.floatbank10_f_air\n",
       "33           rougher.state.floatbank10_f_level\n",
       "34    secondary_cleaner.state.floatbank2_a_air\n",
       "35  secondary_cleaner.state.floatbank2_a_level\n",
       "36    secondary_cleaner.state.floatbank2_b_air\n",
       "37  secondary_cleaner.state.floatbank2_b_level\n",
       "38    secondary_cleaner.state.floatbank3_a_air\n",
       "39  secondary_cleaner.state.floatbank3_a_level\n",
       "40    secondary_cleaner.state.floatbank3_b_air\n",
       "41  secondary_cleaner.state.floatbank3_b_level\n",
       "42    secondary_cleaner.state.floatbank4_a_air\n",
       "43  secondary_cleaner.state.floatbank4_a_level\n",
       "44    secondary_cleaner.state.floatbank4_b_air\n",
       "45  secondary_cleaner.state.floatbank4_b_level\n",
       "46    secondary_cleaner.state.floatbank5_a_air\n",
       "47  secondary_cleaner.state.floatbank5_a_level\n",
       "48    secondary_cleaner.state.floatbank5_b_air\n",
       "49  secondary_cleaner.state.floatbank5_b_level\n",
       "50    secondary_cleaner.state.floatbank6_a_air\n",
       "51  secondary_cleaner.state.floatbank6_a_level"
      ]
     },
     "execution_count": 12,
     "metadata": {},
     "output_type": "execute_result"
    }
   ],
   "source": [
    "# создание датафрейма с названиями колонок в тестовой выборке\n",
    "test_col_names = pd.DataFrame(df_test.columns)\n",
    "test_col_names"
   ]
  },
  {
   "cell_type": "code",
   "execution_count": 13,
   "id": "5cf683e5",
   "metadata": {
    "scrolled": false
   },
   "outputs": [
    {
     "data": {
      "text/html": [
       "<div>\n",
       "<style scoped>\n",
       "    .dataframe tbody tr th:only-of-type {\n",
       "        vertical-align: middle;\n",
       "    }\n",
       "\n",
       "    .dataframe tbody tr th {\n",
       "        vertical-align: top;\n",
       "    }\n",
       "\n",
       "    .dataframe thead th {\n",
       "        text-align: right;\n",
       "    }\n",
       "</style>\n",
       "<table border=\"1\" class=\"dataframe\">\n",
       "  <thead>\n",
       "    <tr style=\"text-align: right;\">\n",
       "      <th></th>\n",
       "      <th>0</th>\n",
       "    </tr>\n",
       "  </thead>\n",
       "  <tbody>\n",
       "    <tr>\n",
       "      <th>0</th>\n",
       "      <td>final.output.concentrate_ag</td>\n",
       "    </tr>\n",
       "    <tr>\n",
       "      <th>1</th>\n",
       "      <td>final.output.concentrate_pb</td>\n",
       "    </tr>\n",
       "    <tr>\n",
       "      <th>2</th>\n",
       "      <td>final.output.concentrate_sol</td>\n",
       "    </tr>\n",
       "    <tr>\n",
       "      <th>3</th>\n",
       "      <td>final.output.concentrate_au</td>\n",
       "    </tr>\n",
       "    <tr>\n",
       "      <th>4</th>\n",
       "      <td>final.output.recovery</td>\n",
       "    </tr>\n",
       "    <tr>\n",
       "      <th>...</th>\n",
       "      <td>...</td>\n",
       "    </tr>\n",
       "    <tr>\n",
       "      <th>81</th>\n",
       "      <td>secondary_cleaner.state.floatbank5_a_level</td>\n",
       "    </tr>\n",
       "    <tr>\n",
       "      <th>82</th>\n",
       "      <td>secondary_cleaner.state.floatbank5_b_air</td>\n",
       "    </tr>\n",
       "    <tr>\n",
       "      <th>83</th>\n",
       "      <td>secondary_cleaner.state.floatbank5_b_level</td>\n",
       "    </tr>\n",
       "    <tr>\n",
       "      <th>84</th>\n",
       "      <td>secondary_cleaner.state.floatbank6_a_air</td>\n",
       "    </tr>\n",
       "    <tr>\n",
       "      <th>85</th>\n",
       "      <td>secondary_cleaner.state.floatbank6_a_level</td>\n",
       "    </tr>\n",
       "  </tbody>\n",
       "</table>\n",
       "<p>86 rows × 1 columns</p>\n",
       "</div>"
      ],
      "text/plain": [
       "                                             0\n",
       "0                  final.output.concentrate_ag\n",
       "1                  final.output.concentrate_pb\n",
       "2                 final.output.concentrate_sol\n",
       "3                  final.output.concentrate_au\n",
       "4                        final.output.recovery\n",
       "..                                         ...\n",
       "81  secondary_cleaner.state.floatbank5_a_level\n",
       "82    secondary_cleaner.state.floatbank5_b_air\n",
       "83  secondary_cleaner.state.floatbank5_b_level\n",
       "84    secondary_cleaner.state.floatbank6_a_air\n",
       "85  secondary_cleaner.state.floatbank6_a_level\n",
       "\n",
       "[86 rows x 1 columns]"
      ]
     },
     "execution_count": 13,
     "metadata": {},
     "output_type": "execute_result"
    }
   ],
   "source": [
    "# создание датафрейма с названиями колонок в полной выборке\n",
    "full_col_names = pd.DataFrame(df_full.columns)\n",
    "full_col_names"
   ]
  },
  {
   "cell_type": "code",
   "execution_count": 14,
   "id": "2be8ea91",
   "metadata": {
    "scrolled": true
   },
   "outputs": [
    {
     "data": {
      "text/html": [
       "<div>\n",
       "<style scoped>\n",
       "    .dataframe tbody tr th:only-of-type {\n",
       "        vertical-align: middle;\n",
       "    }\n",
       "\n",
       "    .dataframe tbody tr th {\n",
       "        vertical-align: top;\n",
       "    }\n",
       "\n",
       "    .dataframe thead th {\n",
       "        text-align: right;\n",
       "    }\n",
       "</style>\n",
       "<table border=\"1\" class=\"dataframe\">\n",
       "  <thead>\n",
       "    <tr style=\"text-align: right;\">\n",
       "      <th></th>\n",
       "      <th>0</th>\n",
       "      <th>_merge</th>\n",
       "    </tr>\n",
       "  </thead>\n",
       "  <tbody>\n",
       "    <tr>\n",
       "      <th>0</th>\n",
       "      <td>final.output.concentrate_ag</td>\n",
       "      <td>left_only</td>\n",
       "    </tr>\n",
       "    <tr>\n",
       "      <th>1</th>\n",
       "      <td>final.output.concentrate_pb</td>\n",
       "      <td>left_only</td>\n",
       "    </tr>\n",
       "    <tr>\n",
       "      <th>2</th>\n",
       "      <td>final.output.concentrate_sol</td>\n",
       "      <td>left_only</td>\n",
       "    </tr>\n",
       "    <tr>\n",
       "      <th>3</th>\n",
       "      <td>final.output.concentrate_au</td>\n",
       "      <td>left_only</td>\n",
       "    </tr>\n",
       "    <tr>\n",
       "      <th>4</th>\n",
       "      <td>final.output.recovery</td>\n",
       "      <td>left_only</td>\n",
       "    </tr>\n",
       "    <tr>\n",
       "      <th>5</th>\n",
       "      <td>final.output.tail_ag</td>\n",
       "      <td>left_only</td>\n",
       "    </tr>\n",
       "    <tr>\n",
       "      <th>6</th>\n",
       "      <td>final.output.tail_pb</td>\n",
       "      <td>left_only</td>\n",
       "    </tr>\n",
       "    <tr>\n",
       "      <th>7</th>\n",
       "      <td>final.output.tail_sol</td>\n",
       "      <td>left_only</td>\n",
       "    </tr>\n",
       "    <tr>\n",
       "      <th>8</th>\n",
       "      <td>final.output.tail_au</td>\n",
       "      <td>left_only</td>\n",
       "    </tr>\n",
       "    <tr>\n",
       "      <th>13</th>\n",
       "      <td>primary_cleaner.output.concentrate_ag</td>\n",
       "      <td>left_only</td>\n",
       "    </tr>\n",
       "    <tr>\n",
       "      <th>14</th>\n",
       "      <td>primary_cleaner.output.concentrate_pb</td>\n",
       "      <td>left_only</td>\n",
       "    </tr>\n",
       "    <tr>\n",
       "      <th>15</th>\n",
       "      <td>primary_cleaner.output.concentrate_sol</td>\n",
       "      <td>left_only</td>\n",
       "    </tr>\n",
       "    <tr>\n",
       "      <th>16</th>\n",
       "      <td>primary_cleaner.output.concentrate_au</td>\n",
       "      <td>left_only</td>\n",
       "    </tr>\n",
       "    <tr>\n",
       "      <th>17</th>\n",
       "      <td>primary_cleaner.output.tail_ag</td>\n",
       "      <td>left_only</td>\n",
       "    </tr>\n",
       "    <tr>\n",
       "      <th>18</th>\n",
       "      <td>primary_cleaner.output.tail_pb</td>\n",
       "      <td>left_only</td>\n",
       "    </tr>\n",
       "    <tr>\n",
       "      <th>19</th>\n",
       "      <td>primary_cleaner.output.tail_sol</td>\n",
       "      <td>left_only</td>\n",
       "    </tr>\n",
       "    <tr>\n",
       "      <th>20</th>\n",
       "      <td>primary_cleaner.output.tail_au</td>\n",
       "      <td>left_only</td>\n",
       "    </tr>\n",
       "    <tr>\n",
       "      <th>29</th>\n",
       "      <td>rougher.calculation.sulfate_to_au_concentrate</td>\n",
       "      <td>left_only</td>\n",
       "    </tr>\n",
       "    <tr>\n",
       "      <th>30</th>\n",
       "      <td>rougher.calculation.floatbank10_sulfate_to_au_...</td>\n",
       "      <td>left_only</td>\n",
       "    </tr>\n",
       "    <tr>\n",
       "      <th>31</th>\n",
       "      <td>rougher.calculation.floatbank11_sulfate_to_au_...</td>\n",
       "      <td>left_only</td>\n",
       "    </tr>\n",
       "    <tr>\n",
       "      <th>32</th>\n",
       "      <td>rougher.calculation.au_pb_ratio</td>\n",
       "      <td>left_only</td>\n",
       "    </tr>\n",
       "    <tr>\n",
       "      <th>43</th>\n",
       "      <td>rougher.output.concentrate_ag</td>\n",
       "      <td>left_only</td>\n",
       "    </tr>\n",
       "    <tr>\n",
       "      <th>44</th>\n",
       "      <td>rougher.output.concentrate_pb</td>\n",
       "      <td>left_only</td>\n",
       "    </tr>\n",
       "    <tr>\n",
       "      <th>45</th>\n",
       "      <td>rougher.output.concentrate_sol</td>\n",
       "      <td>left_only</td>\n",
       "    </tr>\n",
       "    <tr>\n",
       "      <th>46</th>\n",
       "      <td>rougher.output.concentrate_au</td>\n",
       "      <td>left_only</td>\n",
       "    </tr>\n",
       "    <tr>\n",
       "      <th>47</th>\n",
       "      <td>rougher.output.recovery</td>\n",
       "      <td>left_only</td>\n",
       "    </tr>\n",
       "    <tr>\n",
       "      <th>48</th>\n",
       "      <td>rougher.output.tail_ag</td>\n",
       "      <td>left_only</td>\n",
       "    </tr>\n",
       "    <tr>\n",
       "      <th>49</th>\n",
       "      <td>rougher.output.tail_pb</td>\n",
       "      <td>left_only</td>\n",
       "    </tr>\n",
       "    <tr>\n",
       "      <th>50</th>\n",
       "      <td>rougher.output.tail_sol</td>\n",
       "      <td>left_only</td>\n",
       "    </tr>\n",
       "    <tr>\n",
       "      <th>51</th>\n",
       "      <td>rougher.output.tail_au</td>\n",
       "      <td>left_only</td>\n",
       "    </tr>\n",
       "    <tr>\n",
       "      <th>64</th>\n",
       "      <td>secondary_cleaner.output.tail_ag</td>\n",
       "      <td>left_only</td>\n",
       "    </tr>\n",
       "    <tr>\n",
       "      <th>65</th>\n",
       "      <td>secondary_cleaner.output.tail_pb</td>\n",
       "      <td>left_only</td>\n",
       "    </tr>\n",
       "    <tr>\n",
       "      <th>66</th>\n",
       "      <td>secondary_cleaner.output.tail_sol</td>\n",
       "      <td>left_only</td>\n",
       "    </tr>\n",
       "    <tr>\n",
       "      <th>67</th>\n",
       "      <td>secondary_cleaner.output.tail_au</td>\n",
       "      <td>left_only</td>\n",
       "    </tr>\n",
       "  </tbody>\n",
       "</table>\n",
       "</div>"
      ],
      "text/plain": [
       "                                                    0     _merge\n",
       "0                         final.output.concentrate_ag  left_only\n",
       "1                         final.output.concentrate_pb  left_only\n",
       "2                        final.output.concentrate_sol  left_only\n",
       "3                         final.output.concentrate_au  left_only\n",
       "4                               final.output.recovery  left_only\n",
       "5                                final.output.tail_ag  left_only\n",
       "6                                final.output.tail_pb  left_only\n",
       "7                               final.output.tail_sol  left_only\n",
       "8                                final.output.tail_au  left_only\n",
       "13              primary_cleaner.output.concentrate_ag  left_only\n",
       "14              primary_cleaner.output.concentrate_pb  left_only\n",
       "15             primary_cleaner.output.concentrate_sol  left_only\n",
       "16              primary_cleaner.output.concentrate_au  left_only\n",
       "17                     primary_cleaner.output.tail_ag  left_only\n",
       "18                     primary_cleaner.output.tail_pb  left_only\n",
       "19                    primary_cleaner.output.tail_sol  left_only\n",
       "20                     primary_cleaner.output.tail_au  left_only\n",
       "29      rougher.calculation.sulfate_to_au_concentrate  left_only\n",
       "30  rougher.calculation.floatbank10_sulfate_to_au_...  left_only\n",
       "31  rougher.calculation.floatbank11_sulfate_to_au_...  left_only\n",
       "32                    rougher.calculation.au_pb_ratio  left_only\n",
       "43                      rougher.output.concentrate_ag  left_only\n",
       "44                      rougher.output.concentrate_pb  left_only\n",
       "45                     rougher.output.concentrate_sol  left_only\n",
       "46                      rougher.output.concentrate_au  left_only\n",
       "47                            rougher.output.recovery  left_only\n",
       "48                             rougher.output.tail_ag  left_only\n",
       "49                             rougher.output.tail_pb  left_only\n",
       "50                            rougher.output.tail_sol  left_only\n",
       "51                             rougher.output.tail_au  left_only\n",
       "64                   secondary_cleaner.output.tail_ag  left_only\n",
       "65                   secondary_cleaner.output.tail_pb  left_only\n",
       "66                  secondary_cleaner.output.tail_sol  left_only\n",
       "67                   secondary_cleaner.output.tail_au  left_only"
      ]
     },
     "execution_count": 14,
     "metadata": {},
     "output_type": "execute_result"
    }
   ],
   "source": [
    "# объединение выборок\n",
    "test_col_not_in_full = full_col_names.merge(test_col_names.drop_duplicates(), how='left', indicator=True)\n",
    "# вывод названий колонок, присутствующих только в полной выборке\n",
    "test_col_not_in_full.query(\"_merge == 'left_only'\")"
   ]
  },
  {
   "cell_type": "markdown",
   "id": "8745f637",
   "metadata": {},
   "source": [
    "В тестовой выборке отсутствуют колонки с признаками по этапам и типам параметров:\n",
    "\n",
    "1. флотация - параметры продукта, расчётные характеристики\n",
    "2. первичная очистка - параметры продукта\n",
    "3. вторичная очистка - параметры продукта\n",
    "4. финальные характеристики продукции\n",
    "\n",
    "\n",
    "Вероятно, эти данные были недоступны на этапе подготовки тестовой выборки."
   ]
  },
  {
   "cell_type": "markdown",
   "id": "860b6478",
   "metadata": {},
   "source": [
    "### Предобработка данных"
   ]
  },
  {
   "cell_type": "markdown",
   "id": "3af43731",
   "metadata": {},
   "source": [
    "#### Датасет с обучающей выборкой"
   ]
  },
  {
   "cell_type": "markdown",
   "id": "be75e752",
   "metadata": {},
   "source": [
    "Проведем предобработку данных: замену типов, проверку на дубликаты, обработку пропусков.\n",
    "\n",
    "**Заменим типы данных float64 на float32** для экономии памяти."
   ]
  },
  {
   "cell_type": "code",
   "execution_count": 15,
   "id": "ff008afb",
   "metadata": {},
   "outputs": [],
   "source": [
    "# замена типа данных float64 на float32\n",
    "df_train[df_train.select_dtypes(np.float64).columns] = df_train.select_dtypes(np.float64).astype(np.float32)"
   ]
  },
  {
   "cell_type": "markdown",
   "id": "bc38f21c",
   "metadata": {},
   "source": [
    "**Обработаем пропуски**"
   ]
  },
  {
   "cell_type": "markdown",
   "id": "0ae54323",
   "metadata": {},
   "source": [
    "Оценим масштаб проблемы с пропущенными значениями."
   ]
  },
  {
   "cell_type": "code",
   "execution_count": 16,
   "id": "55a40f0c",
   "metadata": {
    "scrolled": true
   },
   "outputs": [
    {
     "data": {
      "text/plain": [
       "final.output.concentrate_ag                   0.01\n",
       "final.output.concentrate_pb                   0.01\n",
       "final.output.concentrate_sol                  1.49\n",
       "final.output.concentrate_au                   0.00\n",
       "final.output.recovery                         0.00\n",
       "                                              ... \n",
       "secondary_cleaner.state.floatbank5_a_level    0.01\n",
       "secondary_cleaner.state.floatbank5_b_air      0.01\n",
       "secondary_cleaner.state.floatbank5_b_level    0.01\n",
       "secondary_cleaner.state.floatbank6_a_air      0.01\n",
       "secondary_cleaner.state.floatbank6_a_level    0.01\n",
       "Length: 86, dtype: float64"
      ]
     },
     "execution_count": 16,
     "metadata": {},
     "output_type": "execute_result"
    }
   ],
   "source": [
    "# расчет и вывод % пропущенных значений в каждом столбце от всего количества строк\n",
    "(df_train.isna().mean()*100).round(2)"
   ]
  },
  {
   "cell_type": "markdown",
   "id": "526bf6f5",
   "metadata": {},
   "source": [
    "Поскольку по условию задания известно, что близкие по времени наблюдения имеют близкие параметры, заполним пропуски методом ffill."
   ]
  },
  {
   "cell_type": "code",
   "execution_count": 17,
   "id": "ee7819f2",
   "metadata": {
    "scrolled": true
   },
   "outputs": [],
   "source": [
    "# заполнение пропусков значением из строки выше\n",
    "df_train = df_train.ffill(axis = 0)"
   ]
  },
  {
   "cell_type": "markdown",
   "id": "4e79cec8",
   "metadata": {},
   "source": [
    "Проверим результат заполнения."
   ]
  },
  {
   "cell_type": "code",
   "execution_count": 18,
   "id": "267acdb6",
   "metadata": {
    "scrolled": true
   },
   "outputs": [
    {
     "data": {
      "text/plain": [
       "final.output.concentrate_ag                   0.0\n",
       "final.output.concentrate_pb                   0.0\n",
       "final.output.concentrate_sol                  0.0\n",
       "final.output.concentrate_au                   0.0\n",
       "final.output.recovery                         0.0\n",
       "                                             ... \n",
       "secondary_cleaner.state.floatbank5_a_level    0.0\n",
       "secondary_cleaner.state.floatbank5_b_air      0.0\n",
       "secondary_cleaner.state.floatbank5_b_level    0.0\n",
       "secondary_cleaner.state.floatbank6_a_air      0.0\n",
       "secondary_cleaner.state.floatbank6_a_level    0.0\n",
       "Length: 86, dtype: float64"
      ]
     },
     "execution_count": 18,
     "metadata": {},
     "output_type": "execute_result"
    }
   ],
   "source": [
    "# расчет и вывод % пропущенных значений в каждом столбце от всего количества строк\n",
    "(df_train.isna().mean()*100).round(2)"
   ]
  },
  {
   "cell_type": "markdown",
   "id": "ae4f1246",
   "metadata": {},
   "source": [
    "Пропусков не осталось."
   ]
  },
  {
   "cell_type": "markdown",
   "id": "ea5bd3b6",
   "metadata": {},
   "source": [
    "Проверим данные на наличие **явных дубликатов**"
   ]
  },
  {
   "cell_type": "code",
   "execution_count": 19,
   "id": "6e32cb63",
   "metadata": {},
   "outputs": [
    {
     "data": {
      "text/plain": [
       "0"
      ]
     },
     "execution_count": 19,
     "metadata": {},
     "output_type": "execute_result"
    }
   ],
   "source": [
    "# подстчет строк - явных дубликатов\n",
    "df_train.duplicated().sum()"
   ]
  },
  {
   "cell_type": "markdown",
   "id": "56e63d91",
   "metadata": {},
   "source": [
    "Явных дубликатов нет."
   ]
  },
  {
   "cell_type": "markdown",
   "id": "06ae6e9a",
   "metadata": {},
   "source": [
    "#### Датасет с тестовой выборкой"
   ]
  },
  {
   "cell_type": "markdown",
   "id": "17fc1b55",
   "metadata": {},
   "source": [
    "Проведем предобработку данных: замену типов, проверку на дубликаты, обработку пропусков.\n",
    "\n",
    "**Заменим типы данных float64 на float32** для экономии памяти."
   ]
  },
  {
   "cell_type": "code",
   "execution_count": 20,
   "id": "68b89cbc",
   "metadata": {},
   "outputs": [],
   "source": [
    "# замена типа данных float64 на float32\n",
    "df_test[df_test.select_dtypes(np.float64).columns] = df_test.select_dtypes(np.float64).astype(np.float32)"
   ]
  },
  {
   "cell_type": "markdown",
   "id": "9d6cb441",
   "metadata": {},
   "source": [
    "**Обработаем пропуски**"
   ]
  },
  {
   "cell_type": "markdown",
   "id": "68489a89",
   "metadata": {},
   "source": [
    "Оценим масштаб проблемы с пропущенными значениями."
   ]
  },
  {
   "cell_type": "code",
   "execution_count": 21,
   "id": "fc2e8cf8",
   "metadata": {
    "scrolled": true
   },
   "outputs": [
    {
     "data": {
      "text/plain": [
       "primary_cleaner.input.sulfate                 0.08\n",
       "primary_cleaner.input.depressant              0.09\n",
       "primary_cleaner.input.feed_size               0.00\n",
       "primary_cleaner.input.xanthate                0.08\n",
       "primary_cleaner.state.floatbank8_a_air        0.00\n",
       "primary_cleaner.state.floatbank8_a_level      0.00\n",
       "primary_cleaner.state.floatbank8_b_air        0.00\n",
       "primary_cleaner.state.floatbank8_b_level      0.00\n",
       "primary_cleaner.state.floatbank8_c_air        0.00\n",
       "primary_cleaner.state.floatbank8_c_level      0.00\n",
       "primary_cleaner.state.floatbank8_d_air        0.00\n",
       "primary_cleaner.state.floatbank8_d_level      0.00\n",
       "rougher.input.feed_ag                         0.00\n",
       "rougher.input.feed_pb                         0.00\n",
       "rougher.input.feed_rate                       0.06\n",
       "rougher.input.feed_size                       0.02\n",
       "rougher.input.feed_sol                        0.40\n",
       "rougher.input.feed_au                         0.00\n",
       "rougher.input.floatbank10_sulfate             0.09\n",
       "rougher.input.floatbank10_xanthate            0.00\n",
       "rougher.input.floatbank11_sulfate             0.15\n",
       "rougher.input.floatbank11_xanthate            0.47\n",
       "rougher.state.floatbank10_a_air               0.00\n",
       "rougher.state.floatbank10_a_level             0.00\n",
       "rougher.state.floatbank10_b_air               0.00\n",
       "rougher.state.floatbank10_b_level             0.00\n",
       "rougher.state.floatbank10_c_air               0.00\n",
       "rougher.state.floatbank10_c_level             0.00\n",
       "rougher.state.floatbank10_d_air               0.00\n",
       "rougher.state.floatbank10_d_level             0.00\n",
       "rougher.state.floatbank10_e_air               0.00\n",
       "rougher.state.floatbank10_e_level             0.00\n",
       "rougher.state.floatbank10_f_air               0.00\n",
       "rougher.state.floatbank10_f_level             0.00\n",
       "secondary_cleaner.state.floatbank2_a_air      0.06\n",
       "secondary_cleaner.state.floatbank2_a_level    0.00\n",
       "secondary_cleaner.state.floatbank2_b_air      0.04\n",
       "secondary_cleaner.state.floatbank2_b_level    0.00\n",
       "secondary_cleaner.state.floatbank3_a_air      0.17\n",
       "secondary_cleaner.state.floatbank3_a_level    0.00\n",
       "secondary_cleaner.state.floatbank3_b_air      0.00\n",
       "secondary_cleaner.state.floatbank3_b_level    0.00\n",
       "secondary_cleaner.state.floatbank4_a_air      0.00\n",
       "secondary_cleaner.state.floatbank4_a_level    0.00\n",
       "secondary_cleaner.state.floatbank4_b_air      0.00\n",
       "secondary_cleaner.state.floatbank4_b_level    0.00\n",
       "secondary_cleaner.state.floatbank5_a_air      0.00\n",
       "secondary_cleaner.state.floatbank5_a_level    0.00\n",
       "secondary_cleaner.state.floatbank5_b_air      0.00\n",
       "secondary_cleaner.state.floatbank5_b_level    0.00\n",
       "secondary_cleaner.state.floatbank6_a_air      0.00\n",
       "secondary_cleaner.state.floatbank6_a_level    0.00\n",
       "dtype: float64"
      ]
     },
     "execution_count": 21,
     "metadata": {},
     "output_type": "execute_result"
    }
   ],
   "source": [
    "# расчет и вывод % пропущенных значений в каждом столбце от всего количества строк\n",
    "(df_test.isna().mean()*100).round(2)"
   ]
  },
  {
   "cell_type": "markdown",
   "id": "662b695c",
   "metadata": {},
   "source": [
    "Поскольку по условию задания известно, что близкие по времени наблюдения имеют близкие параметры, заполним пропуски методом ffill."
   ]
  },
  {
   "cell_type": "code",
   "execution_count": 22,
   "id": "045d89e5",
   "metadata": {},
   "outputs": [],
   "source": [
    "# заполнение пропусков значением из строки выше\n",
    "df_test = df_test.ffill(axis = 0)"
   ]
  },
  {
   "cell_type": "markdown",
   "id": "3cbcb2ea",
   "metadata": {},
   "source": [
    "Проверим результат заполнения."
   ]
  },
  {
   "cell_type": "code",
   "execution_count": 23,
   "id": "4eff533f",
   "metadata": {
    "scrolled": true
   },
   "outputs": [
    {
     "data": {
      "text/plain": [
       "primary_cleaner.input.sulfate                 0.0\n",
       "primary_cleaner.input.depressant              0.0\n",
       "primary_cleaner.input.feed_size               0.0\n",
       "primary_cleaner.input.xanthate                0.0\n",
       "primary_cleaner.state.floatbank8_a_air        0.0\n",
       "primary_cleaner.state.floatbank8_a_level      0.0\n",
       "primary_cleaner.state.floatbank8_b_air        0.0\n",
       "primary_cleaner.state.floatbank8_b_level      0.0\n",
       "primary_cleaner.state.floatbank8_c_air        0.0\n",
       "primary_cleaner.state.floatbank8_c_level      0.0\n",
       "primary_cleaner.state.floatbank8_d_air        0.0\n",
       "primary_cleaner.state.floatbank8_d_level      0.0\n",
       "rougher.input.feed_ag                         0.0\n",
       "rougher.input.feed_pb                         0.0\n",
       "rougher.input.feed_rate                       0.0\n",
       "rougher.input.feed_size                       0.0\n",
       "rougher.input.feed_sol                        0.0\n",
       "rougher.input.feed_au                         0.0\n",
       "rougher.input.floatbank10_sulfate             0.0\n",
       "rougher.input.floatbank10_xanthate            0.0\n",
       "rougher.input.floatbank11_sulfate             0.0\n",
       "rougher.input.floatbank11_xanthate            0.0\n",
       "rougher.state.floatbank10_a_air               0.0\n",
       "rougher.state.floatbank10_a_level             0.0\n",
       "rougher.state.floatbank10_b_air               0.0\n",
       "rougher.state.floatbank10_b_level             0.0\n",
       "rougher.state.floatbank10_c_air               0.0\n",
       "rougher.state.floatbank10_c_level             0.0\n",
       "rougher.state.floatbank10_d_air               0.0\n",
       "rougher.state.floatbank10_d_level             0.0\n",
       "rougher.state.floatbank10_e_air               0.0\n",
       "rougher.state.floatbank10_e_level             0.0\n",
       "rougher.state.floatbank10_f_air               0.0\n",
       "rougher.state.floatbank10_f_level             0.0\n",
       "secondary_cleaner.state.floatbank2_a_air      0.0\n",
       "secondary_cleaner.state.floatbank2_a_level    0.0\n",
       "secondary_cleaner.state.floatbank2_b_air      0.0\n",
       "secondary_cleaner.state.floatbank2_b_level    0.0\n",
       "secondary_cleaner.state.floatbank3_a_air      0.0\n",
       "secondary_cleaner.state.floatbank3_a_level    0.0\n",
       "secondary_cleaner.state.floatbank3_b_air      0.0\n",
       "secondary_cleaner.state.floatbank3_b_level    0.0\n",
       "secondary_cleaner.state.floatbank4_a_air      0.0\n",
       "secondary_cleaner.state.floatbank4_a_level    0.0\n",
       "secondary_cleaner.state.floatbank4_b_air      0.0\n",
       "secondary_cleaner.state.floatbank4_b_level    0.0\n",
       "secondary_cleaner.state.floatbank5_a_air      0.0\n",
       "secondary_cleaner.state.floatbank5_a_level    0.0\n",
       "secondary_cleaner.state.floatbank5_b_air      0.0\n",
       "secondary_cleaner.state.floatbank5_b_level    0.0\n",
       "secondary_cleaner.state.floatbank6_a_air      0.0\n",
       "secondary_cleaner.state.floatbank6_a_level    0.0\n",
       "dtype: float64"
      ]
     },
     "execution_count": 23,
     "metadata": {},
     "output_type": "execute_result"
    }
   ],
   "source": [
    "# расчет и вывод % пропущенных значений в каждом столбце от всего количества строк\n",
    "(df_test.isna().mean()*100).round(2)"
   ]
  },
  {
   "cell_type": "markdown",
   "id": "4d06b3cc",
   "metadata": {},
   "source": [
    "Пропусков не осталось."
   ]
  },
  {
   "cell_type": "markdown",
   "id": "25f604e0",
   "metadata": {},
   "source": [
    "Проверим данные на наличие **явных дубликатов**"
   ]
  },
  {
   "cell_type": "code",
   "execution_count": 24,
   "id": "92f9dc4d",
   "metadata": {},
   "outputs": [
    {
     "data": {
      "text/plain": [
       "0"
      ]
     },
     "execution_count": 24,
     "metadata": {},
     "output_type": "execute_result"
    }
   ],
   "source": [
    "# подстчет строк - явных дубликатов\n",
    "df_test.duplicated().sum()"
   ]
  },
  {
   "cell_type": "markdown",
   "id": "3552d209",
   "metadata": {},
   "source": [
    "Явных дубликатов нет."
   ]
  },
  {
   "cell_type": "markdown",
   "id": "cfdb0f04",
   "metadata": {},
   "source": [
    "#### Датасет с полными данными"
   ]
  },
  {
   "cell_type": "markdown",
   "id": "c1fa247e",
   "metadata": {},
   "source": [
    "Проведем предобработку данных: замену типов, проверку на дубликаты, обработку пропусков.\n",
    "\n",
    "**Заменим типы данных float64 на float32** для экономии памяти."
   ]
  },
  {
   "cell_type": "code",
   "execution_count": 25,
   "id": "7ae7aa1b",
   "metadata": {},
   "outputs": [],
   "source": [
    "# замена типа данных float64 на float32\n",
    "df_full[df_full.select_dtypes(np.float64).columns] = df_full.select_dtypes(np.float64).astype(np.float32)"
   ]
  },
  {
   "cell_type": "markdown",
   "id": "e83ee1b4",
   "metadata": {},
   "source": [
    "**Обработаем пропуски**"
   ]
  },
  {
   "cell_type": "markdown",
   "id": "cf581736",
   "metadata": {},
   "source": [
    "Оценим масштаб проблемы с пропущенными значениями."
   ]
  },
  {
   "cell_type": "code",
   "execution_count": 26,
   "id": "cb50a6aa",
   "metadata": {
    "scrolled": true
   },
   "outputs": [
    {
     "data": {
      "text/plain": [
       "final.output.concentrate_ag                   0.01\n",
       "final.output.concentrate_pb                   0.01\n",
       "final.output.concentrate_sol                  1.09\n",
       "final.output.concentrate_au                   0.00\n",
       "final.output.recovery                         0.00\n",
       "                                              ... \n",
       "secondary_cleaner.state.floatbank5_a_level    0.01\n",
       "secondary_cleaner.state.floatbank5_b_air      0.01\n",
       "secondary_cleaner.state.floatbank5_b_level    0.01\n",
       "secondary_cleaner.state.floatbank6_a_air      0.01\n",
       "secondary_cleaner.state.floatbank6_a_level    0.01\n",
       "Length: 86, dtype: float64"
      ]
     },
     "execution_count": 26,
     "metadata": {},
     "output_type": "execute_result"
    }
   ],
   "source": [
    "# расчет и вывод % пропущенных значений в каждом столбце от всего количества строк\n",
    "(df_full.isna().mean()*100).round(2)"
   ]
  },
  {
   "cell_type": "markdown",
   "id": "e07f7e01",
   "metadata": {},
   "source": [
    "Поскольку по условию задания известно, что близкие по времени наблюдения имеют близкие параметры, заполним пропуски методом ffill."
   ]
  },
  {
   "cell_type": "code",
   "execution_count": 27,
   "id": "47cd2c4e",
   "metadata": {},
   "outputs": [],
   "source": [
    "# заполнение пропусков значением из строки выше\n",
    "df_full = df_full.ffill(axis = 0)"
   ]
  },
  {
   "cell_type": "markdown",
   "id": "0ad99450",
   "metadata": {},
   "source": [
    "Проверим результат заполнения."
   ]
  },
  {
   "cell_type": "code",
   "execution_count": 28,
   "id": "000a387a",
   "metadata": {
    "scrolled": true
   },
   "outputs": [
    {
     "data": {
      "text/plain": [
       "final.output.concentrate_ag                   0.0\n",
       "final.output.concentrate_pb                   0.0\n",
       "final.output.concentrate_sol                  0.0\n",
       "final.output.concentrate_au                   0.0\n",
       "final.output.recovery                         0.0\n",
       "                                             ... \n",
       "secondary_cleaner.state.floatbank5_a_level    0.0\n",
       "secondary_cleaner.state.floatbank5_b_air      0.0\n",
       "secondary_cleaner.state.floatbank5_b_level    0.0\n",
       "secondary_cleaner.state.floatbank6_a_air      0.0\n",
       "secondary_cleaner.state.floatbank6_a_level    0.0\n",
       "Length: 86, dtype: float64"
      ]
     },
     "execution_count": 28,
     "metadata": {},
     "output_type": "execute_result"
    }
   ],
   "source": [
    "# расчет и вывод % пропущенных значений в каждом столбце от всего количества строк\n",
    "(df_full.isna().mean()*100).round(2)"
   ]
  },
  {
   "cell_type": "markdown",
   "id": "47bcb7bb",
   "metadata": {},
   "source": [
    "Пропусков не осталось."
   ]
  },
  {
   "cell_type": "markdown",
   "id": "66f06dff",
   "metadata": {},
   "source": [
    "Проверим данные на наличие **явных дубликатов**"
   ]
  },
  {
   "cell_type": "code",
   "execution_count": 29,
   "id": "4c688acf",
   "metadata": {},
   "outputs": [
    {
     "data": {
      "text/plain": [
       "0"
      ]
     },
     "execution_count": 29,
     "metadata": {},
     "output_type": "execute_result"
    }
   ],
   "source": [
    "# подстчет строк - явных дубликатов\n",
    "df_full.duplicated().sum()"
   ]
  },
  {
   "cell_type": "markdown",
   "id": "f7c5aebb",
   "metadata": {},
   "source": [
    "Явных дубликатов нет."
   ]
  },
  {
   "cell_type": "markdown",
   "id": "5dd8bce0",
   "metadata": {},
   "source": [
    "#### Анализ датасетов и подготовка к обучению"
   ]
  },
  {
   "cell_type": "markdown",
   "id": "c3a0e06f",
   "metadata": {},
   "source": [
    "Для того, чтобы обработать выбросы и перейти к обучению модели, проведем анализ и обработку датасетов, чтобы для дальнейшей проработки оставить только необходимые признаки."
   ]
  },
  {
   "cell_type": "markdown",
   "id": "464a14c1",
   "metadata": {},
   "source": [
    "Для принятия решения о том, какие признаки требуются для предсказания целевых final.output.recovery и rougher.output.recovery, обогатим **тестовую  выборку** целевыми признаками и оценим корреляцию между признаками и целевыми признаками на данных **тестовой выборки**. "
   ]
  },
  {
   "cell_type": "code",
   "execution_count": 30,
   "id": "fc13d994",
   "metadata": {},
   "outputs": [],
   "source": [
    "# обогащение тестовой выборки значениями final.output.recovery\n",
    "df_test = df_test.join(df_full['final.output.recovery'])"
   ]
  },
  {
   "cell_type": "code",
   "execution_count": 31,
   "id": "6061422a",
   "metadata": {},
   "outputs": [],
   "source": [
    "# обогащение тестовой выборки значениями rougher.output.recovery\n",
    "df_test = df_test.join(df_full['rougher.output.recovery'])"
   ]
  },
  {
   "cell_type": "markdown",
   "id": "c0c435d4",
   "metadata": {},
   "source": [
    "Для удобства работы перенесем колонки с целевыми признаками в начало датафрейма."
   ]
  },
  {
   "cell_type": "code",
   "execution_count": 32,
   "id": "c8c8e57a",
   "metadata": {},
   "outputs": [],
   "source": [
    "# вывод колонок final.output.recovery и rougher.output.recovery наверх для удобства работы с данными\n",
    "fin_rec = df_test['final.output.recovery']\n",
    "df_test.drop(labels=['final.output.recovery'], axis=1,inplace = True)\n",
    "df_test.insert(0, 'final.output.recovery', fin_rec)\n",
    "rough_rec = df_test['rougher.output.recovery']\n",
    "df_test.drop(labels=['rougher.output.recovery'], axis=1,inplace = True)\n",
    "df_test.insert(1, 'rougher.output.recovery', rough_rec)"
   ]
  },
  {
   "cell_type": "markdown",
   "id": "40aff299",
   "metadata": {},
   "source": [
    "Посчитаем корреляции, сняв ограничение на количество отображаемых строк."
   ]
  },
  {
   "cell_type": "code",
   "execution_count": 33,
   "id": "821e6c87",
   "metadata": {},
   "outputs": [
    {
     "data": {
      "text/html": [
       "<div>\n",
       "<style scoped>\n",
       "    .dataframe tbody tr th:only-of-type {\n",
       "        vertical-align: middle;\n",
       "    }\n",
       "\n",
       "    .dataframe tbody tr th {\n",
       "        vertical-align: top;\n",
       "    }\n",
       "\n",
       "    .dataframe thead th {\n",
       "        text-align: right;\n",
       "    }\n",
       "</style>\n",
       "<table border=\"1\" class=\"dataframe\">\n",
       "  <thead>\n",
       "    <tr style=\"text-align: right;\">\n",
       "      <th></th>\n",
       "      <th>final.output.recovery</th>\n",
       "      <th>rougher.output.recovery</th>\n",
       "      <th>primary_cleaner.input.sulfate</th>\n",
       "      <th>primary_cleaner.input.depressant</th>\n",
       "      <th>primary_cleaner.input.feed_size</th>\n",
       "      <th>primary_cleaner.input.xanthate</th>\n",
       "      <th>primary_cleaner.state.floatbank8_a_air</th>\n",
       "      <th>primary_cleaner.state.floatbank8_a_level</th>\n",
       "      <th>primary_cleaner.state.floatbank8_b_air</th>\n",
       "      <th>primary_cleaner.state.floatbank8_b_level</th>\n",
       "      <th>...</th>\n",
       "      <th>secondary_cleaner.state.floatbank4_a_air</th>\n",
       "      <th>secondary_cleaner.state.floatbank4_a_level</th>\n",
       "      <th>secondary_cleaner.state.floatbank4_b_air</th>\n",
       "      <th>secondary_cleaner.state.floatbank4_b_level</th>\n",
       "      <th>secondary_cleaner.state.floatbank5_a_air</th>\n",
       "      <th>secondary_cleaner.state.floatbank5_a_level</th>\n",
       "      <th>secondary_cleaner.state.floatbank5_b_air</th>\n",
       "      <th>secondary_cleaner.state.floatbank5_b_level</th>\n",
       "      <th>secondary_cleaner.state.floatbank6_a_air</th>\n",
       "      <th>secondary_cleaner.state.floatbank6_a_level</th>\n",
       "    </tr>\n",
       "  </thead>\n",
       "  <tbody>\n",
       "    <tr>\n",
       "      <th>final.output.recovery</th>\n",
       "      <td>1.00</td>\n",
       "      <td>0.31</td>\n",
       "      <td>0.27</td>\n",
       "      <td>0.19</td>\n",
       "      <td>0.07</td>\n",
       "      <td>0.17</td>\n",
       "      <td>0.12</td>\n",
       "      <td>0.02</td>\n",
       "      <td>0.15</td>\n",
       "      <td>0.14</td>\n",
       "      <td>...</td>\n",
       "      <td>0.19</td>\n",
       "      <td>0.04</td>\n",
       "      <td>0.20</td>\n",
       "      <td>0.03</td>\n",
       "      <td>0.13</td>\n",
       "      <td>0.09</td>\n",
       "      <td>0.15</td>\n",
       "      <td>-0.02</td>\n",
       "      <td>0.06</td>\n",
       "      <td>0.06</td>\n",
       "    </tr>\n",
       "    <tr>\n",
       "      <th>rougher.output.recovery</th>\n",
       "      <td>0.31</td>\n",
       "      <td>1.00</td>\n",
       "      <td>0.28</td>\n",
       "      <td>0.09</td>\n",
       "      <td>0.01</td>\n",
       "      <td>0.17</td>\n",
       "      <td>0.22</td>\n",
       "      <td>0.09</td>\n",
       "      <td>0.22</td>\n",
       "      <td>0.08</td>\n",
       "      <td>...</td>\n",
       "      <td>0.24</td>\n",
       "      <td>-0.01</td>\n",
       "      <td>0.26</td>\n",
       "      <td>0.02</td>\n",
       "      <td>0.14</td>\n",
       "      <td>0.19</td>\n",
       "      <td>0.18</td>\n",
       "      <td>0.10</td>\n",
       "      <td>0.03</td>\n",
       "      <td>0.09</td>\n",
       "    </tr>\n",
       "    <tr>\n",
       "      <th>primary_cleaner.input.sulfate</th>\n",
       "      <td>0.27</td>\n",
       "      <td>0.28</td>\n",
       "      <td>1.00</td>\n",
       "      <td>0.45</td>\n",
       "      <td>0.11</td>\n",
       "      <td>0.50</td>\n",
       "      <td>0.10</td>\n",
       "      <td>0.05</td>\n",
       "      <td>0.07</td>\n",
       "      <td>0.14</td>\n",
       "      <td>...</td>\n",
       "      <td>0.31</td>\n",
       "      <td>0.12</td>\n",
       "      <td>0.35</td>\n",
       "      <td>0.07</td>\n",
       "      <td>0.09</td>\n",
       "      <td>0.13</td>\n",
       "      <td>0.16</td>\n",
       "      <td>0.07</td>\n",
       "      <td>-0.13</td>\n",
       "      <td>0.03</td>\n",
       "    </tr>\n",
       "    <tr>\n",
       "      <th>primary_cleaner.input.depressant</th>\n",
       "      <td>0.19</td>\n",
       "      <td>0.09</td>\n",
       "      <td>0.45</td>\n",
       "      <td>1.00</td>\n",
       "      <td>0.21</td>\n",
       "      <td>0.14</td>\n",
       "      <td>0.13</td>\n",
       "      <td>0.22</td>\n",
       "      <td>0.13</td>\n",
       "      <td>0.20</td>\n",
       "      <td>...</td>\n",
       "      <td>0.32</td>\n",
       "      <td>0.11</td>\n",
       "      <td>0.23</td>\n",
       "      <td>-0.09</td>\n",
       "      <td>-0.09</td>\n",
       "      <td>-0.00</td>\n",
       "      <td>0.06</td>\n",
       "      <td>-0.00</td>\n",
       "      <td>-0.20</td>\n",
       "      <td>0.03</td>\n",
       "    </tr>\n",
       "    <tr>\n",
       "      <th>primary_cleaner.input.feed_size</th>\n",
       "      <td>0.07</td>\n",
       "      <td>0.01</td>\n",
       "      <td>0.11</td>\n",
       "      <td>0.21</td>\n",
       "      <td>1.00</td>\n",
       "      <td>-0.29</td>\n",
       "      <td>-0.06</td>\n",
       "      <td>0.08</td>\n",
       "      <td>-0.06</td>\n",
       "      <td>0.07</td>\n",
       "      <td>...</td>\n",
       "      <td>-0.15</td>\n",
       "      <td>-0.12</td>\n",
       "      <td>-0.17</td>\n",
       "      <td>-0.14</td>\n",
       "      <td>-0.19</td>\n",
       "      <td>-0.06</td>\n",
       "      <td>-0.21</td>\n",
       "      <td>-0.05</td>\n",
       "      <td>0.03</td>\n",
       "      <td>-0.08</td>\n",
       "    </tr>\n",
       "    <tr>\n",
       "      <th>primary_cleaner.input.xanthate</th>\n",
       "      <td>0.17</td>\n",
       "      <td>0.17</td>\n",
       "      <td>0.50</td>\n",
       "      <td>0.14</td>\n",
       "      <td>-0.29</td>\n",
       "      <td>1.00</td>\n",
       "      <td>0.21</td>\n",
       "      <td>-0.06</td>\n",
       "      <td>0.15</td>\n",
       "      <td>0.02</td>\n",
       "      <td>...</td>\n",
       "      <td>0.31</td>\n",
       "      <td>0.13</td>\n",
       "      <td>0.36</td>\n",
       "      <td>0.12</td>\n",
       "      <td>0.06</td>\n",
       "      <td>0.13</td>\n",
       "      <td>0.08</td>\n",
       "      <td>0.10</td>\n",
       "      <td>-0.22</td>\n",
       "      <td>0.08</td>\n",
       "    </tr>\n",
       "    <tr>\n",
       "      <th>primary_cleaner.state.floatbank8_a_air</th>\n",
       "      <td>0.12</td>\n",
       "      <td>0.22</td>\n",
       "      <td>0.10</td>\n",
       "      <td>0.13</td>\n",
       "      <td>-0.06</td>\n",
       "      <td>0.21</td>\n",
       "      <td>1.00</td>\n",
       "      <td>0.12</td>\n",
       "      <td>0.97</td>\n",
       "      <td>-0.02</td>\n",
       "      <td>...</td>\n",
       "      <td>0.47</td>\n",
       "      <td>0.01</td>\n",
       "      <td>0.48</td>\n",
       "      <td>-0.06</td>\n",
       "      <td>0.41</td>\n",
       "      <td>0.27</td>\n",
       "      <td>0.47</td>\n",
       "      <td>0.16</td>\n",
       "      <td>0.35</td>\n",
       "      <td>0.17</td>\n",
       "    </tr>\n",
       "    <tr>\n",
       "      <th>primary_cleaner.state.floatbank8_a_level</th>\n",
       "      <td>0.02</td>\n",
       "      <td>0.09</td>\n",
       "      <td>0.05</td>\n",
       "      <td>0.22</td>\n",
       "      <td>0.08</td>\n",
       "      <td>-0.06</td>\n",
       "      <td>0.12</td>\n",
       "      <td>1.00</td>\n",
       "      <td>0.10</td>\n",
       "      <td>0.42</td>\n",
       "      <td>...</td>\n",
       "      <td>0.17</td>\n",
       "      <td>0.10</td>\n",
       "      <td>0.08</td>\n",
       "      <td>-0.01</td>\n",
       "      <td>-0.04</td>\n",
       "      <td>0.16</td>\n",
       "      <td>-0.01</td>\n",
       "      <td>0.09</td>\n",
       "      <td>-0.11</td>\n",
       "      <td>0.08</td>\n",
       "    </tr>\n",
       "    <tr>\n",
       "      <th>primary_cleaner.state.floatbank8_b_air</th>\n",
       "      <td>0.15</td>\n",
       "      <td>0.22</td>\n",
       "      <td>0.07</td>\n",
       "      <td>0.13</td>\n",
       "      <td>-0.06</td>\n",
       "      <td>0.15</td>\n",
       "      <td>0.97</td>\n",
       "      <td>0.10</td>\n",
       "      <td>1.00</td>\n",
       "      <td>0.01</td>\n",
       "      <td>...</td>\n",
       "      <td>0.48</td>\n",
       "      <td>0.02</td>\n",
       "      <td>0.49</td>\n",
       "      <td>-0.08</td>\n",
       "      <td>0.42</td>\n",
       "      <td>0.26</td>\n",
       "      <td>0.50</td>\n",
       "      <td>0.16</td>\n",
       "      <td>0.39</td>\n",
       "      <td>0.19</td>\n",
       "    </tr>\n",
       "    <tr>\n",
       "      <th>primary_cleaner.state.floatbank8_b_level</th>\n",
       "      <td>0.14</td>\n",
       "      <td>0.08</td>\n",
       "      <td>0.14</td>\n",
       "      <td>0.20</td>\n",
       "      <td>0.07</td>\n",
       "      <td>0.02</td>\n",
       "      <td>-0.02</td>\n",
       "      <td>0.42</td>\n",
       "      <td>0.01</td>\n",
       "      <td>1.00</td>\n",
       "      <td>...</td>\n",
       "      <td>0.08</td>\n",
       "      <td>0.22</td>\n",
       "      <td>0.05</td>\n",
       "      <td>-0.04</td>\n",
       "      <td>-0.01</td>\n",
       "      <td>0.03</td>\n",
       "      <td>0.01</td>\n",
       "      <td>0.00</td>\n",
       "      <td>-0.01</td>\n",
       "      <td>0.01</td>\n",
       "    </tr>\n",
       "    <tr>\n",
       "      <th>primary_cleaner.state.floatbank8_c_air</th>\n",
       "      <td>0.14</td>\n",
       "      <td>0.17</td>\n",
       "      <td>0.02</td>\n",
       "      <td>0.03</td>\n",
       "      <td>-0.09</td>\n",
       "      <td>0.05</td>\n",
       "      <td>0.81</td>\n",
       "      <td>-0.02</td>\n",
       "      <td>0.86</td>\n",
       "      <td>-0.03</td>\n",
       "      <td>...</td>\n",
       "      <td>0.37</td>\n",
       "      <td>0.05</td>\n",
       "      <td>0.40</td>\n",
       "      <td>-0.03</td>\n",
       "      <td>0.40</td>\n",
       "      <td>0.24</td>\n",
       "      <td>0.50</td>\n",
       "      <td>0.12</td>\n",
       "      <td>0.49</td>\n",
       "      <td>0.17</td>\n",
       "    </tr>\n",
       "    <tr>\n",
       "      <th>primary_cleaner.state.floatbank8_c_level</th>\n",
       "      <td>0.00</td>\n",
       "      <td>0.06</td>\n",
       "      <td>0.03</td>\n",
       "      <td>0.19</td>\n",
       "      <td>0.07</td>\n",
       "      <td>-0.08</td>\n",
       "      <td>0.11</td>\n",
       "      <td>0.78</td>\n",
       "      <td>0.10</td>\n",
       "      <td>0.41</td>\n",
       "      <td>...</td>\n",
       "      <td>0.15</td>\n",
       "      <td>0.09</td>\n",
       "      <td>0.07</td>\n",
       "      <td>-0.01</td>\n",
       "      <td>-0.02</td>\n",
       "      <td>0.14</td>\n",
       "      <td>-0.00</td>\n",
       "      <td>0.06</td>\n",
       "      <td>-0.09</td>\n",
       "      <td>0.07</td>\n",
       "    </tr>\n",
       "    <tr>\n",
       "      <th>primary_cleaner.state.floatbank8_d_air</th>\n",
       "      <td>0.14</td>\n",
       "      <td>0.22</td>\n",
       "      <td>0.09</td>\n",
       "      <td>0.13</td>\n",
       "      <td>-0.07</td>\n",
       "      <td>0.17</td>\n",
       "      <td>0.96</td>\n",
       "      <td>0.11</td>\n",
       "      <td>0.97</td>\n",
       "      <td>0.02</td>\n",
       "      <td>...</td>\n",
       "      <td>0.49</td>\n",
       "      <td>0.02</td>\n",
       "      <td>0.49</td>\n",
       "      <td>-0.07</td>\n",
       "      <td>0.41</td>\n",
       "      <td>0.26</td>\n",
       "      <td>0.49</td>\n",
       "      <td>0.16</td>\n",
       "      <td>0.38</td>\n",
       "      <td>0.18</td>\n",
       "    </tr>\n",
       "    <tr>\n",
       "      <th>primary_cleaner.state.floatbank8_d_level</th>\n",
       "      <td>-0.05</td>\n",
       "      <td>0.01</td>\n",
       "      <td>-0.02</td>\n",
       "      <td>0.07</td>\n",
       "      <td>0.07</td>\n",
       "      <td>-0.14</td>\n",
       "      <td>0.06</td>\n",
       "      <td>0.41</td>\n",
       "      <td>0.06</td>\n",
       "      <td>0.23</td>\n",
       "      <td>...</td>\n",
       "      <td>0.05</td>\n",
       "      <td>0.04</td>\n",
       "      <td>0.00</td>\n",
       "      <td>-0.02</td>\n",
       "      <td>0.01</td>\n",
       "      <td>0.08</td>\n",
       "      <td>0.01</td>\n",
       "      <td>0.01</td>\n",
       "      <td>-0.04</td>\n",
       "      <td>0.03</td>\n",
       "    </tr>\n",
       "    <tr>\n",
       "      <th>rougher.input.feed_ag</th>\n",
       "      <td>0.18</td>\n",
       "      <td>0.17</td>\n",
       "      <td>0.36</td>\n",
       "      <td>0.50</td>\n",
       "      <td>0.34</td>\n",
       "      <td>0.05</td>\n",
       "      <td>0.25</td>\n",
       "      <td>0.20</td>\n",
       "      <td>0.25</td>\n",
       "      <td>0.13</td>\n",
       "      <td>...</td>\n",
       "      <td>0.17</td>\n",
       "      <td>-0.07</td>\n",
       "      <td>0.15</td>\n",
       "      <td>-0.29</td>\n",
       "      <td>-0.03</td>\n",
       "      <td>-0.01</td>\n",
       "      <td>-0.04</td>\n",
       "      <td>0.04</td>\n",
       "      <td>0.21</td>\n",
       "      <td>-0.00</td>\n",
       "    </tr>\n",
       "    <tr>\n",
       "      <th>rougher.input.feed_pb</th>\n",
       "      <td>0.09</td>\n",
       "      <td>0.19</td>\n",
       "      <td>0.43</td>\n",
       "      <td>0.47</td>\n",
       "      <td>0.00</td>\n",
       "      <td>0.24</td>\n",
       "      <td>0.06</td>\n",
       "      <td>0.23</td>\n",
       "      <td>0.05</td>\n",
       "      <td>0.22</td>\n",
       "      <td>...</td>\n",
       "      <td>0.11</td>\n",
       "      <td>-0.00</td>\n",
       "      <td>0.14</td>\n",
       "      <td>-0.21</td>\n",
       "      <td>-0.07</td>\n",
       "      <td>0.05</td>\n",
       "      <td>-0.03</td>\n",
       "      <td>0.08</td>\n",
       "      <td>-0.13</td>\n",
       "      <td>0.07</td>\n",
       "    </tr>\n",
       "    <tr>\n",
       "      <th>rougher.input.feed_rate</th>\n",
       "      <td>0.17</td>\n",
       "      <td>0.12</td>\n",
       "      <td>0.46</td>\n",
       "      <td>0.13</td>\n",
       "      <td>0.02</td>\n",
       "      <td>0.46</td>\n",
       "      <td>-0.01</td>\n",
       "      <td>-0.01</td>\n",
       "      <td>-0.04</td>\n",
       "      <td>0.03</td>\n",
       "      <td>...</td>\n",
       "      <td>0.17</td>\n",
       "      <td>0.12</td>\n",
       "      <td>0.13</td>\n",
       "      <td>0.36</td>\n",
       "      <td>-0.14</td>\n",
       "      <td>0.09</td>\n",
       "      <td>-0.07</td>\n",
       "      <td>0.01</td>\n",
       "      <td>-0.41</td>\n",
       "      <td>0.02</td>\n",
       "    </tr>\n",
       "    <tr>\n",
       "      <th>rougher.input.feed_size</th>\n",
       "      <td>0.05</td>\n",
       "      <td>0.01</td>\n",
       "      <td>-0.01</td>\n",
       "      <td>0.01</td>\n",
       "      <td>-0.09</td>\n",
       "      <td>0.20</td>\n",
       "      <td>-0.07</td>\n",
       "      <td>0.00</td>\n",
       "      <td>-0.10</td>\n",
       "      <td>-0.04</td>\n",
       "      <td>...</td>\n",
       "      <td>0.13</td>\n",
       "      <td>0.06</td>\n",
       "      <td>0.04</td>\n",
       "      <td>0.32</td>\n",
       "      <td>-0.12</td>\n",
       "      <td>0.04</td>\n",
       "      <td>-0.10</td>\n",
       "      <td>-0.00</td>\n",
       "      <td>-0.36</td>\n",
       "      <td>0.01</td>\n",
       "    </tr>\n",
       "    <tr>\n",
       "      <th>rougher.input.feed_sol</th>\n",
       "      <td>0.20</td>\n",
       "      <td>0.22</td>\n",
       "      <td>0.42</td>\n",
       "      <td>0.17</td>\n",
       "      <td>0.06</td>\n",
       "      <td>0.37</td>\n",
       "      <td>-0.06</td>\n",
       "      <td>0.06</td>\n",
       "      <td>-0.09</td>\n",
       "      <td>0.05</td>\n",
       "      <td>...</td>\n",
       "      <td>0.15</td>\n",
       "      <td>0.07</td>\n",
       "      <td>0.08</td>\n",
       "      <td>0.41</td>\n",
       "      <td>-0.23</td>\n",
       "      <td>0.09</td>\n",
       "      <td>-0.17</td>\n",
       "      <td>0.01</td>\n",
       "      <td>-0.48</td>\n",
       "      <td>0.04</td>\n",
       "    </tr>\n",
       "    <tr>\n",
       "      <th>rougher.input.feed_au</th>\n",
       "      <td>0.20</td>\n",
       "      <td>0.22</td>\n",
       "      <td>0.44</td>\n",
       "      <td>0.46</td>\n",
       "      <td>0.24</td>\n",
       "      <td>0.10</td>\n",
       "      <td>0.22</td>\n",
       "      <td>0.18</td>\n",
       "      <td>0.24</td>\n",
       "      <td>0.18</td>\n",
       "      <td>...</td>\n",
       "      <td>0.17</td>\n",
       "      <td>-0.04</td>\n",
       "      <td>0.16</td>\n",
       "      <td>-0.27</td>\n",
       "      <td>-0.04</td>\n",
       "      <td>0.02</td>\n",
       "      <td>-0.02</td>\n",
       "      <td>0.07</td>\n",
       "      <td>0.19</td>\n",
       "      <td>0.04</td>\n",
       "    </tr>\n",
       "    <tr>\n",
       "      <th>rougher.input.floatbank10_sulfate</th>\n",
       "      <td>0.19</td>\n",
       "      <td>0.15</td>\n",
       "      <td>0.62</td>\n",
       "      <td>0.23</td>\n",
       "      <td>-0.19</td>\n",
       "      <td>0.58</td>\n",
       "      <td>0.04</td>\n",
       "      <td>-0.06</td>\n",
       "      <td>0.04</td>\n",
       "      <td>0.02</td>\n",
       "      <td>...</td>\n",
       "      <td>0.31</td>\n",
       "      <td>0.16</td>\n",
       "      <td>0.33</td>\n",
       "      <td>0.30</td>\n",
       "      <td>0.04</td>\n",
       "      <td>0.08</td>\n",
       "      <td>0.14</td>\n",
       "      <td>0.06</td>\n",
       "      <td>-0.31</td>\n",
       "      <td>0.07</td>\n",
       "    </tr>\n",
       "    <tr>\n",
       "      <th>rougher.input.floatbank10_xanthate</th>\n",
       "      <td>0.27</td>\n",
       "      <td>0.22</td>\n",
       "      <td>0.55</td>\n",
       "      <td>0.34</td>\n",
       "      <td>0.22</td>\n",
       "      <td>0.35</td>\n",
       "      <td>0.19</td>\n",
       "      <td>0.11</td>\n",
       "      <td>0.17</td>\n",
       "      <td>0.07</td>\n",
       "      <td>...</td>\n",
       "      <td>0.24</td>\n",
       "      <td>0.07</td>\n",
       "      <td>0.19</td>\n",
       "      <td>0.16</td>\n",
       "      <td>-0.14</td>\n",
       "      <td>0.13</td>\n",
       "      <td>-0.04</td>\n",
       "      <td>0.08</td>\n",
       "      <td>-0.11</td>\n",
       "      <td>0.11</td>\n",
       "    </tr>\n",
       "    <tr>\n",
       "      <th>rougher.input.floatbank11_sulfate</th>\n",
       "      <td>0.18</td>\n",
       "      <td>0.14</td>\n",
       "      <td>0.59</td>\n",
       "      <td>0.21</td>\n",
       "      <td>-0.23</td>\n",
       "      <td>0.59</td>\n",
       "      <td>0.05</td>\n",
       "      <td>-0.08</td>\n",
       "      <td>0.05</td>\n",
       "      <td>0.05</td>\n",
       "      <td>...</td>\n",
       "      <td>0.28</td>\n",
       "      <td>0.19</td>\n",
       "      <td>0.31</td>\n",
       "      <td>0.32</td>\n",
       "      <td>0.07</td>\n",
       "      <td>0.11</td>\n",
       "      <td>0.17</td>\n",
       "      <td>0.07</td>\n",
       "      <td>-0.32</td>\n",
       "      <td>0.08</td>\n",
       "    </tr>\n",
       "    <tr>\n",
       "      <th>rougher.input.floatbank11_xanthate</th>\n",
       "      <td>0.29</td>\n",
       "      <td>0.23</td>\n",
       "      <td>0.54</td>\n",
       "      <td>0.35</td>\n",
       "      <td>0.20</td>\n",
       "      <td>0.38</td>\n",
       "      <td>0.20</td>\n",
       "      <td>0.09</td>\n",
       "      <td>0.19</td>\n",
       "      <td>0.10</td>\n",
       "      <td>...</td>\n",
       "      <td>0.21</td>\n",
       "      <td>0.10</td>\n",
       "      <td>0.16</td>\n",
       "      <td>0.20</td>\n",
       "      <td>-0.14</td>\n",
       "      <td>0.15</td>\n",
       "      <td>-0.03</td>\n",
       "      <td>0.09</td>\n",
       "      <td>-0.13</td>\n",
       "      <td>0.13</td>\n",
       "    </tr>\n",
       "    <tr>\n",
       "      <th>rougher.state.floatbank10_a_air</th>\n",
       "      <td>0.11</td>\n",
       "      <td>0.15</td>\n",
       "      <td>0.23</td>\n",
       "      <td>0.41</td>\n",
       "      <td>0.02</td>\n",
       "      <td>0.40</td>\n",
       "      <td>0.22</td>\n",
       "      <td>0.39</td>\n",
       "      <td>0.17</td>\n",
       "      <td>0.21</td>\n",
       "      <td>...</td>\n",
       "      <td>0.30</td>\n",
       "      <td>0.09</td>\n",
       "      <td>0.24</td>\n",
       "      <td>-0.12</td>\n",
       "      <td>-0.04</td>\n",
       "      <td>0.11</td>\n",
       "      <td>-0.08</td>\n",
       "      <td>0.07</td>\n",
       "      <td>-0.33</td>\n",
       "      <td>0.05</td>\n",
       "    </tr>\n",
       "    <tr>\n",
       "      <th>rougher.state.floatbank10_a_level</th>\n",
       "      <td>0.03</td>\n",
       "      <td>0.10</td>\n",
       "      <td>0.22</td>\n",
       "      <td>0.13</td>\n",
       "      <td>-0.24</td>\n",
       "      <td>0.42</td>\n",
       "      <td>-0.03</td>\n",
       "      <td>0.16</td>\n",
       "      <td>-0.07</td>\n",
       "      <td>0.08</td>\n",
       "      <td>...</td>\n",
       "      <td>0.21</td>\n",
       "      <td>0.13</td>\n",
       "      <td>0.12</td>\n",
       "      <td>0.26</td>\n",
       "      <td>-0.13</td>\n",
       "      <td>0.12</td>\n",
       "      <td>0.02</td>\n",
       "      <td>0.01</td>\n",
       "      <td>-0.56</td>\n",
       "      <td>0.09</td>\n",
       "    </tr>\n",
       "    <tr>\n",
       "      <th>rougher.state.floatbank10_b_air</th>\n",
       "      <td>-0.02</td>\n",
       "      <td>-0.03</td>\n",
       "      <td>-0.23</td>\n",
       "      <td>-0.36</td>\n",
       "      <td>0.04</td>\n",
       "      <td>-0.39</td>\n",
       "      <td>0.20</td>\n",
       "      <td>-0.08</td>\n",
       "      <td>0.23</td>\n",
       "      <td>-0.01</td>\n",
       "      <td>...</td>\n",
       "      <td>-0.17</td>\n",
       "      <td>0.01</td>\n",
       "      <td>-0.10</td>\n",
       "      <td>-0.21</td>\n",
       "      <td>0.35</td>\n",
       "      <td>0.12</td>\n",
       "      <td>0.29</td>\n",
       "      <td>0.08</td>\n",
       "      <td>0.53</td>\n",
       "      <td>0.02</td>\n",
       "    </tr>\n",
       "    <tr>\n",
       "      <th>rougher.state.floatbank10_b_level</th>\n",
       "      <td>0.02</td>\n",
       "      <td>0.06</td>\n",
       "      <td>-0.05</td>\n",
       "      <td>-0.11</td>\n",
       "      <td>0.05</td>\n",
       "      <td>-0.34</td>\n",
       "      <td>0.29</td>\n",
       "      <td>-0.04</td>\n",
       "      <td>0.37</td>\n",
       "      <td>0.02</td>\n",
       "      <td>...</td>\n",
       "      <td>0.07</td>\n",
       "      <td>0.01</td>\n",
       "      <td>0.11</td>\n",
       "      <td>-0.21</td>\n",
       "      <td>0.18</td>\n",
       "      <td>0.09</td>\n",
       "      <td>0.35</td>\n",
       "      <td>0.06</td>\n",
       "      <td>0.46</td>\n",
       "      <td>0.03</td>\n",
       "    </tr>\n",
       "    <tr>\n",
       "      <th>rougher.state.floatbank10_c_air</th>\n",
       "      <td>-0.03</td>\n",
       "      <td>-0.05</td>\n",
       "      <td>-0.25</td>\n",
       "      <td>-0.37</td>\n",
       "      <td>0.06</td>\n",
       "      <td>-0.40</td>\n",
       "      <td>0.22</td>\n",
       "      <td>-0.13</td>\n",
       "      <td>0.26</td>\n",
       "      <td>-0.05</td>\n",
       "      <td>...</td>\n",
       "      <td>-0.17</td>\n",
       "      <td>-0.01</td>\n",
       "      <td>-0.10</td>\n",
       "      <td>-0.23</td>\n",
       "      <td>0.33</td>\n",
       "      <td>0.09</td>\n",
       "      <td>0.31</td>\n",
       "      <td>0.07</td>\n",
       "      <td>0.62</td>\n",
       "      <td>0.02</td>\n",
       "    </tr>\n",
       "    <tr>\n",
       "      <th>rougher.state.floatbank10_c_level</th>\n",
       "      <td>0.01</td>\n",
       "      <td>0.05</td>\n",
       "      <td>-0.05</td>\n",
       "      <td>-0.11</td>\n",
       "      <td>0.05</td>\n",
       "      <td>-0.35</td>\n",
       "      <td>0.29</td>\n",
       "      <td>-0.04</td>\n",
       "      <td>0.37</td>\n",
       "      <td>0.01</td>\n",
       "      <td>...</td>\n",
       "      <td>0.07</td>\n",
       "      <td>0.01</td>\n",
       "      <td>0.10</td>\n",
       "      <td>-0.22</td>\n",
       "      <td>0.17</td>\n",
       "      <td>0.08</td>\n",
       "      <td>0.35</td>\n",
       "      <td>0.05</td>\n",
       "      <td>0.46</td>\n",
       "      <td>0.03</td>\n",
       "    </tr>\n",
       "    <tr>\n",
       "      <th>rougher.state.floatbank10_d_air</th>\n",
       "      <td>-0.04</td>\n",
       "      <td>-0.08</td>\n",
       "      <td>-0.25</td>\n",
       "      <td>-0.35</td>\n",
       "      <td>-0.01</td>\n",
       "      <td>-0.39</td>\n",
       "      <td>0.16</td>\n",
       "      <td>-0.13</td>\n",
       "      <td>0.20</td>\n",
       "      <td>-0.02</td>\n",
       "      <td>...</td>\n",
       "      <td>-0.17</td>\n",
       "      <td>0.03</td>\n",
       "      <td>-0.08</td>\n",
       "      <td>-0.26</td>\n",
       "      <td>0.37</td>\n",
       "      <td>0.06</td>\n",
       "      <td>0.34</td>\n",
       "      <td>0.05</td>\n",
       "      <td>0.60</td>\n",
       "      <td>0.01</td>\n",
       "    </tr>\n",
       "    <tr>\n",
       "      <th>rougher.state.floatbank10_d_level</th>\n",
       "      <td>0.03</td>\n",
       "      <td>0.06</td>\n",
       "      <td>-0.01</td>\n",
       "      <td>-0.08</td>\n",
       "      <td>0.07</td>\n",
       "      <td>-0.33</td>\n",
       "      <td>0.25</td>\n",
       "      <td>-0.07</td>\n",
       "      <td>0.33</td>\n",
       "      <td>0.01</td>\n",
       "      <td>...</td>\n",
       "      <td>0.07</td>\n",
       "      <td>-0.01</td>\n",
       "      <td>0.11</td>\n",
       "      <td>-0.22</td>\n",
       "      <td>0.15</td>\n",
       "      <td>0.05</td>\n",
       "      <td>0.33</td>\n",
       "      <td>0.04</td>\n",
       "      <td>0.43</td>\n",
       "      <td>0.02</td>\n",
       "    </tr>\n",
       "    <tr>\n",
       "      <th>rougher.state.floatbank10_e_air</th>\n",
       "      <td>-0.00</td>\n",
       "      <td>-0.02</td>\n",
       "      <td>-0.23</td>\n",
       "      <td>-0.36</td>\n",
       "      <td>-0.01</td>\n",
       "      <td>-0.32</td>\n",
       "      <td>0.35</td>\n",
       "      <td>-0.10</td>\n",
       "      <td>0.40</td>\n",
       "      <td>-0.05</td>\n",
       "      <td>...</td>\n",
       "      <td>0.02</td>\n",
       "      <td>-0.03</td>\n",
       "      <td>0.07</td>\n",
       "      <td>-0.17</td>\n",
       "      <td>0.40</td>\n",
       "      <td>0.09</td>\n",
       "      <td>0.41</td>\n",
       "      <td>0.08</td>\n",
       "      <td>0.58</td>\n",
       "      <td>0.04</td>\n",
       "    </tr>\n",
       "    <tr>\n",
       "      <th>rougher.state.floatbank10_e_level</th>\n",
       "      <td>0.04</td>\n",
       "      <td>0.06</td>\n",
       "      <td>-0.12</td>\n",
       "      <td>-0.13</td>\n",
       "      <td>0.01</td>\n",
       "      <td>-0.36</td>\n",
       "      <td>0.28</td>\n",
       "      <td>-0.07</td>\n",
       "      <td>0.39</td>\n",
       "      <td>0.00</td>\n",
       "      <td>...</td>\n",
       "      <td>0.15</td>\n",
       "      <td>0.01</td>\n",
       "      <td>0.17</td>\n",
       "      <td>-0.21</td>\n",
       "      <td>0.26</td>\n",
       "      <td>0.05</td>\n",
       "      <td>0.41</td>\n",
       "      <td>0.05</td>\n",
       "      <td>0.48</td>\n",
       "      <td>0.06</td>\n",
       "    </tr>\n",
       "    <tr>\n",
       "      <th>rougher.state.floatbank10_f_air</th>\n",
       "      <td>-0.01</td>\n",
       "      <td>-0.01</td>\n",
       "      <td>-0.25</td>\n",
       "      <td>-0.38</td>\n",
       "      <td>-0.13</td>\n",
       "      <td>-0.29</td>\n",
       "      <td>0.28</td>\n",
       "      <td>-0.05</td>\n",
       "      <td>0.34</td>\n",
       "      <td>-0.01</td>\n",
       "      <td>...</td>\n",
       "      <td>0.04</td>\n",
       "      <td>0.03</td>\n",
       "      <td>0.08</td>\n",
       "      <td>-0.11</td>\n",
       "      <td>0.41</td>\n",
       "      <td>0.09</td>\n",
       "      <td>0.42</td>\n",
       "      <td>0.07</td>\n",
       "      <td>0.43</td>\n",
       "      <td>0.05</td>\n",
       "    </tr>\n",
       "    <tr>\n",
       "      <th>rougher.state.floatbank10_f_level</th>\n",
       "      <td>0.05</td>\n",
       "      <td>0.07</td>\n",
       "      <td>-0.06</td>\n",
       "      <td>-0.11</td>\n",
       "      <td>0.04</td>\n",
       "      <td>-0.33</td>\n",
       "      <td>0.29</td>\n",
       "      <td>-0.04</td>\n",
       "      <td>0.39</td>\n",
       "      <td>0.01</td>\n",
       "      <td>...</td>\n",
       "      <td>0.17</td>\n",
       "      <td>0.02</td>\n",
       "      <td>0.19</td>\n",
       "      <td>-0.21</td>\n",
       "      <td>0.26</td>\n",
       "      <td>0.07</td>\n",
       "      <td>0.39</td>\n",
       "      <td>0.06</td>\n",
       "      <td>0.48</td>\n",
       "      <td>0.06</td>\n",
       "    </tr>\n",
       "    <tr>\n",
       "      <th>secondary_cleaner.state.floatbank2_a_air</th>\n",
       "      <td>0.09</td>\n",
       "      <td>0.14</td>\n",
       "      <td>0.05</td>\n",
       "      <td>0.08</td>\n",
       "      <td>-0.13</td>\n",
       "      <td>-0.04</td>\n",
       "      <td>0.26</td>\n",
       "      <td>0.11</td>\n",
       "      <td>0.33</td>\n",
       "      <td>0.06</td>\n",
       "      <td>...</td>\n",
       "      <td>0.39</td>\n",
       "      <td>0.18</td>\n",
       "      <td>0.38</td>\n",
       "      <td>-0.01</td>\n",
       "      <td>0.36</td>\n",
       "      <td>0.16</td>\n",
       "      <td>0.48</td>\n",
       "      <td>0.09</td>\n",
       "      <td>0.15</td>\n",
       "      <td>0.13</td>\n",
       "    </tr>\n",
       "    <tr>\n",
       "      <th>secondary_cleaner.state.floatbank2_a_level</th>\n",
       "      <td>-0.01</td>\n",
       "      <td>-0.02</td>\n",
       "      <td>-0.04</td>\n",
       "      <td>-0.09</td>\n",
       "      <td>0.04</td>\n",
       "      <td>-0.16</td>\n",
       "      <td>-0.06</td>\n",
       "      <td>0.08</td>\n",
       "      <td>-0.05</td>\n",
       "      <td>0.01</td>\n",
       "      <td>...</td>\n",
       "      <td>-0.08</td>\n",
       "      <td>0.03</td>\n",
       "      <td>-0.10</td>\n",
       "      <td>-0.02</td>\n",
       "      <td>-0.01</td>\n",
       "      <td>0.08</td>\n",
       "      <td>0.00</td>\n",
       "      <td>0.01</td>\n",
       "      <td>0.05</td>\n",
       "      <td>0.03</td>\n",
       "    </tr>\n",
       "    <tr>\n",
       "      <th>secondary_cleaner.state.floatbank2_b_air</th>\n",
       "      <td>0.20</td>\n",
       "      <td>0.29</td>\n",
       "      <td>0.26</td>\n",
       "      <td>0.23</td>\n",
       "      <td>-0.18</td>\n",
       "      <td>0.22</td>\n",
       "      <td>0.42</td>\n",
       "      <td>0.16</td>\n",
       "      <td>0.46</td>\n",
       "      <td>0.10</td>\n",
       "      <td>...</td>\n",
       "      <td>0.64</td>\n",
       "      <td>0.18</td>\n",
       "      <td>0.66</td>\n",
       "      <td>0.00</td>\n",
       "      <td>0.51</td>\n",
       "      <td>0.23</td>\n",
       "      <td>0.67</td>\n",
       "      <td>0.13</td>\n",
       "      <td>0.10</td>\n",
       "      <td>0.16</td>\n",
       "    </tr>\n",
       "    <tr>\n",
       "      <th>secondary_cleaner.state.floatbank2_b_level</th>\n",
       "      <td>-0.01</td>\n",
       "      <td>-0.01</td>\n",
       "      <td>-0.01</td>\n",
       "      <td>-0.10</td>\n",
       "      <td>0.01</td>\n",
       "      <td>-0.11</td>\n",
       "      <td>-0.08</td>\n",
       "      <td>0.08</td>\n",
       "      <td>-0.08</td>\n",
       "      <td>0.01</td>\n",
       "      <td>...</td>\n",
       "      <td>-0.06</td>\n",
       "      <td>0.03</td>\n",
       "      <td>-0.08</td>\n",
       "      <td>0.01</td>\n",
       "      <td>-0.02</td>\n",
       "      <td>0.08</td>\n",
       "      <td>-0.01</td>\n",
       "      <td>0.01</td>\n",
       "      <td>0.01</td>\n",
       "      <td>0.02</td>\n",
       "    </tr>\n",
       "    <tr>\n",
       "      <th>secondary_cleaner.state.floatbank3_a_air</th>\n",
       "      <td>0.16</td>\n",
       "      <td>0.20</td>\n",
       "      <td>0.14</td>\n",
       "      <td>0.28</td>\n",
       "      <td>0.02</td>\n",
       "      <td>-0.04</td>\n",
       "      <td>0.37</td>\n",
       "      <td>0.08</td>\n",
       "      <td>0.42</td>\n",
       "      <td>0.09</td>\n",
       "      <td>...</td>\n",
       "      <td>0.41</td>\n",
       "      <td>0.05</td>\n",
       "      <td>0.43</td>\n",
       "      <td>-0.06</td>\n",
       "      <td>0.31</td>\n",
       "      <td>0.19</td>\n",
       "      <td>0.53</td>\n",
       "      <td>0.10</td>\n",
       "      <td>0.27</td>\n",
       "      <td>0.12</td>\n",
       "    </tr>\n",
       "    <tr>\n",
       "      <th>secondary_cleaner.state.floatbank3_a_level</th>\n",
       "      <td>0.03</td>\n",
       "      <td>0.01</td>\n",
       "      <td>0.00</td>\n",
       "      <td>0.12</td>\n",
       "      <td>0.03</td>\n",
       "      <td>-0.03</td>\n",
       "      <td>-0.04</td>\n",
       "      <td>0.07</td>\n",
       "      <td>-0.02</td>\n",
       "      <td>0.09</td>\n",
       "      <td>...</td>\n",
       "      <td>-0.07</td>\n",
       "      <td>0.01</td>\n",
       "      <td>-0.09</td>\n",
       "      <td>0.02</td>\n",
       "      <td>-0.20</td>\n",
       "      <td>0.05</td>\n",
       "      <td>-0.09</td>\n",
       "      <td>-0.02</td>\n",
       "      <td>-0.13</td>\n",
       "      <td>0.01</td>\n",
       "    </tr>\n",
       "    <tr>\n",
       "      <th>secondary_cleaner.state.floatbank3_b_air</th>\n",
       "      <td>0.17</td>\n",
       "      <td>0.22</td>\n",
       "      <td>0.15</td>\n",
       "      <td>0.25</td>\n",
       "      <td>-0.02</td>\n",
       "      <td>-0.05</td>\n",
       "      <td>0.46</td>\n",
       "      <td>0.06</td>\n",
       "      <td>0.52</td>\n",
       "      <td>0.08</td>\n",
       "      <td>...</td>\n",
       "      <td>0.48</td>\n",
       "      <td>0.07</td>\n",
       "      <td>0.53</td>\n",
       "      <td>-0.19</td>\n",
       "      <td>0.46</td>\n",
       "      <td>0.17</td>\n",
       "      <td>0.64</td>\n",
       "      <td>0.09</td>\n",
       "      <td>0.40</td>\n",
       "      <td>0.11</td>\n",
       "    </tr>\n",
       "    <tr>\n",
       "      <th>secondary_cleaner.state.floatbank3_b_level</th>\n",
       "      <td>0.04</td>\n",
       "      <td>0.02</td>\n",
       "      <td>0.02</td>\n",
       "      <td>0.11</td>\n",
       "      <td>0.03</td>\n",
       "      <td>-0.01</td>\n",
       "      <td>-0.01</td>\n",
       "      <td>0.05</td>\n",
       "      <td>0.01</td>\n",
       "      <td>0.10</td>\n",
       "      <td>...</td>\n",
       "      <td>-0.05</td>\n",
       "      <td>0.00</td>\n",
       "      <td>-0.06</td>\n",
       "      <td>0.04</td>\n",
       "      <td>-0.17</td>\n",
       "      <td>0.19</td>\n",
       "      <td>-0.06</td>\n",
       "      <td>0.05</td>\n",
       "      <td>-0.14</td>\n",
       "      <td>0.08</td>\n",
       "    </tr>\n",
       "    <tr>\n",
       "      <th>secondary_cleaner.state.floatbank4_a_air</th>\n",
       "      <td>0.19</td>\n",
       "      <td>0.24</td>\n",
       "      <td>0.31</td>\n",
       "      <td>0.32</td>\n",
       "      <td>-0.15</td>\n",
       "      <td>0.31</td>\n",
       "      <td>0.47</td>\n",
       "      <td>0.17</td>\n",
       "      <td>0.48</td>\n",
       "      <td>0.08</td>\n",
       "      <td>...</td>\n",
       "      <td>1.00</td>\n",
       "      <td>0.35</td>\n",
       "      <td>0.93</td>\n",
       "      <td>0.26</td>\n",
       "      <td>0.52</td>\n",
       "      <td>0.22</td>\n",
       "      <td>0.63</td>\n",
       "      <td>0.13</td>\n",
       "      <td>0.08</td>\n",
       "      <td>0.15</td>\n",
       "    </tr>\n",
       "    <tr>\n",
       "      <th>secondary_cleaner.state.floatbank4_a_level</th>\n",
       "      <td>0.04</td>\n",
       "      <td>-0.01</td>\n",
       "      <td>0.12</td>\n",
       "      <td>0.11</td>\n",
       "      <td>-0.12</td>\n",
       "      <td>0.13</td>\n",
       "      <td>0.01</td>\n",
       "      <td>0.10</td>\n",
       "      <td>0.02</td>\n",
       "      <td>0.22</td>\n",
       "      <td>...</td>\n",
       "      <td>0.35</td>\n",
       "      <td>1.00</td>\n",
       "      <td>0.29</td>\n",
       "      <td>0.32</td>\n",
       "      <td>0.14</td>\n",
       "      <td>0.13</td>\n",
       "      <td>0.20</td>\n",
       "      <td>0.04</td>\n",
       "      <td>0.03</td>\n",
       "      <td>0.03</td>\n",
       "    </tr>\n",
       "    <tr>\n",
       "      <th>secondary_cleaner.state.floatbank4_b_air</th>\n",
       "      <td>0.20</td>\n",
       "      <td>0.26</td>\n",
       "      <td>0.35</td>\n",
       "      <td>0.23</td>\n",
       "      <td>-0.17</td>\n",
       "      <td>0.36</td>\n",
       "      <td>0.48</td>\n",
       "      <td>0.08</td>\n",
       "      <td>0.49</td>\n",
       "      <td>0.05</td>\n",
       "      <td>...</td>\n",
       "      <td>0.93</td>\n",
       "      <td>0.29</td>\n",
       "      <td>1.00</td>\n",
       "      <td>0.16</td>\n",
       "      <td>0.62</td>\n",
       "      <td>0.23</td>\n",
       "      <td>0.69</td>\n",
       "      <td>0.15</td>\n",
       "      <td>0.19</td>\n",
       "      <td>0.14</td>\n",
       "    </tr>\n",
       "    <tr>\n",
       "      <th>secondary_cleaner.state.floatbank4_b_level</th>\n",
       "      <td>0.03</td>\n",
       "      <td>0.02</td>\n",
       "      <td>0.07</td>\n",
       "      <td>-0.09</td>\n",
       "      <td>-0.14</td>\n",
       "      <td>0.12</td>\n",
       "      <td>-0.06</td>\n",
       "      <td>-0.01</td>\n",
       "      <td>-0.08</td>\n",
       "      <td>-0.04</td>\n",
       "      <td>...</td>\n",
       "      <td>0.26</td>\n",
       "      <td>0.32</td>\n",
       "      <td>0.16</td>\n",
       "      <td>1.00</td>\n",
       "      <td>-0.11</td>\n",
       "      <td>0.15</td>\n",
       "      <td>-0.06</td>\n",
       "      <td>0.09</td>\n",
       "      <td>-0.34</td>\n",
       "      <td>0.05</td>\n",
       "    </tr>\n",
       "    <tr>\n",
       "      <th>secondary_cleaner.state.floatbank5_a_air</th>\n",
       "      <td>0.13</td>\n",
       "      <td>0.14</td>\n",
       "      <td>0.09</td>\n",
       "      <td>-0.09</td>\n",
       "      <td>-0.19</td>\n",
       "      <td>0.06</td>\n",
       "      <td>0.41</td>\n",
       "      <td>-0.04</td>\n",
       "      <td>0.42</td>\n",
       "      <td>-0.01</td>\n",
       "      <td>...</td>\n",
       "      <td>0.52</td>\n",
       "      <td>0.14</td>\n",
       "      <td>0.62</td>\n",
       "      <td>-0.11</td>\n",
       "      <td>1.00</td>\n",
       "      <td>0.16</td>\n",
       "      <td>0.84</td>\n",
       "      <td>0.10</td>\n",
       "      <td>0.51</td>\n",
       "      <td>0.08</td>\n",
       "    </tr>\n",
       "    <tr>\n",
       "      <th>secondary_cleaner.state.floatbank5_a_level</th>\n",
       "      <td>0.09</td>\n",
       "      <td>0.19</td>\n",
       "      <td>0.13</td>\n",
       "      <td>-0.00</td>\n",
       "      <td>-0.06</td>\n",
       "      <td>0.13</td>\n",
       "      <td>0.27</td>\n",
       "      <td>0.16</td>\n",
       "      <td>0.26</td>\n",
       "      <td>0.03</td>\n",
       "      <td>...</td>\n",
       "      <td>0.22</td>\n",
       "      <td>0.13</td>\n",
       "      <td>0.23</td>\n",
       "      <td>0.15</td>\n",
       "      <td>0.16</td>\n",
       "      <td>1.00</td>\n",
       "      <td>0.22</td>\n",
       "      <td>0.52</td>\n",
       "      <td>-0.01</td>\n",
       "      <td>0.40</td>\n",
       "    </tr>\n",
       "    <tr>\n",
       "      <th>secondary_cleaner.state.floatbank5_b_air</th>\n",
       "      <td>0.15</td>\n",
       "      <td>0.18</td>\n",
       "      <td>0.16</td>\n",
       "      <td>0.06</td>\n",
       "      <td>-0.21</td>\n",
       "      <td>0.08</td>\n",
       "      <td>0.47</td>\n",
       "      <td>-0.01</td>\n",
       "      <td>0.50</td>\n",
       "      <td>0.01</td>\n",
       "      <td>...</td>\n",
       "      <td>0.63</td>\n",
       "      <td>0.20</td>\n",
       "      <td>0.69</td>\n",
       "      <td>-0.06</td>\n",
       "      <td>0.84</td>\n",
       "      <td>0.22</td>\n",
       "      <td>1.00</td>\n",
       "      <td>0.13</td>\n",
       "      <td>0.46</td>\n",
       "      <td>0.16</td>\n",
       "    </tr>\n",
       "    <tr>\n",
       "      <th>secondary_cleaner.state.floatbank5_b_level</th>\n",
       "      <td>-0.02</td>\n",
       "      <td>0.10</td>\n",
       "      <td>0.07</td>\n",
       "      <td>-0.00</td>\n",
       "      <td>-0.05</td>\n",
       "      <td>0.10</td>\n",
       "      <td>0.16</td>\n",
       "      <td>0.09</td>\n",
       "      <td>0.16</td>\n",
       "      <td>0.00</td>\n",
       "      <td>...</td>\n",
       "      <td>0.13</td>\n",
       "      <td>0.04</td>\n",
       "      <td>0.15</td>\n",
       "      <td>0.09</td>\n",
       "      <td>0.10</td>\n",
       "      <td>0.52</td>\n",
       "      <td>0.13</td>\n",
       "      <td>1.00</td>\n",
       "      <td>0.03</td>\n",
       "      <td>0.34</td>\n",
       "    </tr>\n",
       "    <tr>\n",
       "      <th>secondary_cleaner.state.floatbank6_a_air</th>\n",
       "      <td>0.06</td>\n",
       "      <td>0.03</td>\n",
       "      <td>-0.13</td>\n",
       "      <td>-0.20</td>\n",
       "      <td>0.03</td>\n",
       "      <td>-0.22</td>\n",
       "      <td>0.35</td>\n",
       "      <td>-0.11</td>\n",
       "      <td>0.39</td>\n",
       "      <td>-0.01</td>\n",
       "      <td>...</td>\n",
       "      <td>0.08</td>\n",
       "      <td>0.03</td>\n",
       "      <td>0.19</td>\n",
       "      <td>-0.34</td>\n",
       "      <td>0.51</td>\n",
       "      <td>-0.01</td>\n",
       "      <td>0.46</td>\n",
       "      <td>0.03</td>\n",
       "      <td>1.00</td>\n",
       "      <td>0.19</td>\n",
       "    </tr>\n",
       "    <tr>\n",
       "      <th>secondary_cleaner.state.floatbank6_a_level</th>\n",
       "      <td>0.06</td>\n",
       "      <td>0.09</td>\n",
       "      <td>0.03</td>\n",
       "      <td>0.03</td>\n",
       "      <td>-0.08</td>\n",
       "      <td>0.08</td>\n",
       "      <td>0.17</td>\n",
       "      <td>0.08</td>\n",
       "      <td>0.19</td>\n",
       "      <td>0.01</td>\n",
       "      <td>...</td>\n",
       "      <td>0.15</td>\n",
       "      <td>0.03</td>\n",
       "      <td>0.14</td>\n",
       "      <td>0.05</td>\n",
       "      <td>0.08</td>\n",
       "      <td>0.40</td>\n",
       "      <td>0.16</td>\n",
       "      <td>0.34</td>\n",
       "      <td>0.19</td>\n",
       "      <td>1.00</td>\n",
       "    </tr>\n",
       "  </tbody>\n",
       "</table>\n",
       "<p>54 rows × 54 columns</p>\n",
       "</div>"
      ],
      "text/plain": [
       "                                            final.output.recovery  \\\n",
       "final.output.recovery                                        1.00   \n",
       "rougher.output.recovery                                      0.31   \n",
       "primary_cleaner.input.sulfate                                0.27   \n",
       "primary_cleaner.input.depressant                             0.19   \n",
       "primary_cleaner.input.feed_size                              0.07   \n",
       "primary_cleaner.input.xanthate                               0.17   \n",
       "primary_cleaner.state.floatbank8_a_air                       0.12   \n",
       "primary_cleaner.state.floatbank8_a_level                     0.02   \n",
       "primary_cleaner.state.floatbank8_b_air                       0.15   \n",
       "primary_cleaner.state.floatbank8_b_level                     0.14   \n",
       "primary_cleaner.state.floatbank8_c_air                       0.14   \n",
       "primary_cleaner.state.floatbank8_c_level                     0.00   \n",
       "primary_cleaner.state.floatbank8_d_air                       0.14   \n",
       "primary_cleaner.state.floatbank8_d_level                    -0.05   \n",
       "rougher.input.feed_ag                                        0.18   \n",
       "rougher.input.feed_pb                                        0.09   \n",
       "rougher.input.feed_rate                                      0.17   \n",
       "rougher.input.feed_size                                      0.05   \n",
       "rougher.input.feed_sol                                       0.20   \n",
       "rougher.input.feed_au                                        0.20   \n",
       "rougher.input.floatbank10_sulfate                            0.19   \n",
       "rougher.input.floatbank10_xanthate                           0.27   \n",
       "rougher.input.floatbank11_sulfate                            0.18   \n",
       "rougher.input.floatbank11_xanthate                           0.29   \n",
       "rougher.state.floatbank10_a_air                              0.11   \n",
       "rougher.state.floatbank10_a_level                            0.03   \n",
       "rougher.state.floatbank10_b_air                             -0.02   \n",
       "rougher.state.floatbank10_b_level                            0.02   \n",
       "rougher.state.floatbank10_c_air                             -0.03   \n",
       "rougher.state.floatbank10_c_level                            0.01   \n",
       "rougher.state.floatbank10_d_air                             -0.04   \n",
       "rougher.state.floatbank10_d_level                            0.03   \n",
       "rougher.state.floatbank10_e_air                             -0.00   \n",
       "rougher.state.floatbank10_e_level                            0.04   \n",
       "rougher.state.floatbank10_f_air                             -0.01   \n",
       "rougher.state.floatbank10_f_level                            0.05   \n",
       "secondary_cleaner.state.floatbank2_a_air                     0.09   \n",
       "secondary_cleaner.state.floatbank2_a_level                  -0.01   \n",
       "secondary_cleaner.state.floatbank2_b_air                     0.20   \n",
       "secondary_cleaner.state.floatbank2_b_level                  -0.01   \n",
       "secondary_cleaner.state.floatbank3_a_air                     0.16   \n",
       "secondary_cleaner.state.floatbank3_a_level                   0.03   \n",
       "secondary_cleaner.state.floatbank3_b_air                     0.17   \n",
       "secondary_cleaner.state.floatbank3_b_level                   0.04   \n",
       "secondary_cleaner.state.floatbank4_a_air                     0.19   \n",
       "secondary_cleaner.state.floatbank4_a_level                   0.04   \n",
       "secondary_cleaner.state.floatbank4_b_air                     0.20   \n",
       "secondary_cleaner.state.floatbank4_b_level                   0.03   \n",
       "secondary_cleaner.state.floatbank5_a_air                     0.13   \n",
       "secondary_cleaner.state.floatbank5_a_level                   0.09   \n",
       "secondary_cleaner.state.floatbank5_b_air                     0.15   \n",
       "secondary_cleaner.state.floatbank5_b_level                  -0.02   \n",
       "secondary_cleaner.state.floatbank6_a_air                     0.06   \n",
       "secondary_cleaner.state.floatbank6_a_level                   0.06   \n",
       "\n",
       "                                            rougher.output.recovery  \\\n",
       "final.output.recovery                                          0.31   \n",
       "rougher.output.recovery                                        1.00   \n",
       "primary_cleaner.input.sulfate                                  0.28   \n",
       "primary_cleaner.input.depressant                               0.09   \n",
       "primary_cleaner.input.feed_size                                0.01   \n",
       "primary_cleaner.input.xanthate                                 0.17   \n",
       "primary_cleaner.state.floatbank8_a_air                         0.22   \n",
       "primary_cleaner.state.floatbank8_a_level                       0.09   \n",
       "primary_cleaner.state.floatbank8_b_air                         0.22   \n",
       "primary_cleaner.state.floatbank8_b_level                       0.08   \n",
       "primary_cleaner.state.floatbank8_c_air                         0.17   \n",
       "primary_cleaner.state.floatbank8_c_level                       0.06   \n",
       "primary_cleaner.state.floatbank8_d_air                         0.22   \n",
       "primary_cleaner.state.floatbank8_d_level                       0.01   \n",
       "rougher.input.feed_ag                                          0.17   \n",
       "rougher.input.feed_pb                                          0.19   \n",
       "rougher.input.feed_rate                                        0.12   \n",
       "rougher.input.feed_size                                        0.01   \n",
       "rougher.input.feed_sol                                         0.22   \n",
       "rougher.input.feed_au                                          0.22   \n",
       "rougher.input.floatbank10_sulfate                              0.15   \n",
       "rougher.input.floatbank10_xanthate                             0.22   \n",
       "rougher.input.floatbank11_sulfate                              0.14   \n",
       "rougher.input.floatbank11_xanthate                             0.23   \n",
       "rougher.state.floatbank10_a_air                                0.15   \n",
       "rougher.state.floatbank10_a_level                              0.10   \n",
       "rougher.state.floatbank10_b_air                               -0.03   \n",
       "rougher.state.floatbank10_b_level                              0.06   \n",
       "rougher.state.floatbank10_c_air                               -0.05   \n",
       "rougher.state.floatbank10_c_level                              0.05   \n",
       "rougher.state.floatbank10_d_air                               -0.08   \n",
       "rougher.state.floatbank10_d_level                              0.06   \n",
       "rougher.state.floatbank10_e_air                               -0.02   \n",
       "rougher.state.floatbank10_e_level                              0.06   \n",
       "rougher.state.floatbank10_f_air                               -0.01   \n",
       "rougher.state.floatbank10_f_level                              0.07   \n",
       "secondary_cleaner.state.floatbank2_a_air                       0.14   \n",
       "secondary_cleaner.state.floatbank2_a_level                    -0.02   \n",
       "secondary_cleaner.state.floatbank2_b_air                       0.29   \n",
       "secondary_cleaner.state.floatbank2_b_level                    -0.01   \n",
       "secondary_cleaner.state.floatbank3_a_air                       0.20   \n",
       "secondary_cleaner.state.floatbank3_a_level                     0.01   \n",
       "secondary_cleaner.state.floatbank3_b_air                       0.22   \n",
       "secondary_cleaner.state.floatbank3_b_level                     0.02   \n",
       "secondary_cleaner.state.floatbank4_a_air                       0.24   \n",
       "secondary_cleaner.state.floatbank4_a_level                    -0.01   \n",
       "secondary_cleaner.state.floatbank4_b_air                       0.26   \n",
       "secondary_cleaner.state.floatbank4_b_level                     0.02   \n",
       "secondary_cleaner.state.floatbank5_a_air                       0.14   \n",
       "secondary_cleaner.state.floatbank5_a_level                     0.19   \n",
       "secondary_cleaner.state.floatbank5_b_air                       0.18   \n",
       "secondary_cleaner.state.floatbank5_b_level                     0.10   \n",
       "secondary_cleaner.state.floatbank6_a_air                       0.03   \n",
       "secondary_cleaner.state.floatbank6_a_level                     0.09   \n",
       "\n",
       "                                            primary_cleaner.input.sulfate  \\\n",
       "final.output.recovery                                                0.27   \n",
       "rougher.output.recovery                                              0.28   \n",
       "primary_cleaner.input.sulfate                                        1.00   \n",
       "primary_cleaner.input.depressant                                     0.45   \n",
       "primary_cleaner.input.feed_size                                      0.11   \n",
       "primary_cleaner.input.xanthate                                       0.50   \n",
       "primary_cleaner.state.floatbank8_a_air                               0.10   \n",
       "primary_cleaner.state.floatbank8_a_level                             0.05   \n",
       "primary_cleaner.state.floatbank8_b_air                               0.07   \n",
       "primary_cleaner.state.floatbank8_b_level                             0.14   \n",
       "primary_cleaner.state.floatbank8_c_air                               0.02   \n",
       "primary_cleaner.state.floatbank8_c_level                             0.03   \n",
       "primary_cleaner.state.floatbank8_d_air                               0.09   \n",
       "primary_cleaner.state.floatbank8_d_level                            -0.02   \n",
       "rougher.input.feed_ag                                                0.36   \n",
       "rougher.input.feed_pb                                                0.43   \n",
       "rougher.input.feed_rate                                              0.46   \n",
       "rougher.input.feed_size                                             -0.01   \n",
       "rougher.input.feed_sol                                               0.42   \n",
       "rougher.input.feed_au                                                0.44   \n",
       "rougher.input.floatbank10_sulfate                                    0.62   \n",
       "rougher.input.floatbank10_xanthate                                   0.55   \n",
       "rougher.input.floatbank11_sulfate                                    0.59   \n",
       "rougher.input.floatbank11_xanthate                                   0.54   \n",
       "rougher.state.floatbank10_a_air                                      0.23   \n",
       "rougher.state.floatbank10_a_level                                    0.22   \n",
       "rougher.state.floatbank10_b_air                                     -0.23   \n",
       "rougher.state.floatbank10_b_level                                   -0.05   \n",
       "rougher.state.floatbank10_c_air                                     -0.25   \n",
       "rougher.state.floatbank10_c_level                                   -0.05   \n",
       "rougher.state.floatbank10_d_air                                     -0.25   \n",
       "rougher.state.floatbank10_d_level                                   -0.01   \n",
       "rougher.state.floatbank10_e_air                                     -0.23   \n",
       "rougher.state.floatbank10_e_level                                   -0.12   \n",
       "rougher.state.floatbank10_f_air                                     -0.25   \n",
       "rougher.state.floatbank10_f_level                                   -0.06   \n",
       "secondary_cleaner.state.floatbank2_a_air                             0.05   \n",
       "secondary_cleaner.state.floatbank2_a_level                          -0.04   \n",
       "secondary_cleaner.state.floatbank2_b_air                             0.26   \n",
       "secondary_cleaner.state.floatbank2_b_level                          -0.01   \n",
       "secondary_cleaner.state.floatbank3_a_air                             0.14   \n",
       "secondary_cleaner.state.floatbank3_a_level                           0.00   \n",
       "secondary_cleaner.state.floatbank3_b_air                             0.15   \n",
       "secondary_cleaner.state.floatbank3_b_level                           0.02   \n",
       "secondary_cleaner.state.floatbank4_a_air                             0.31   \n",
       "secondary_cleaner.state.floatbank4_a_level                           0.12   \n",
       "secondary_cleaner.state.floatbank4_b_air                             0.35   \n",
       "secondary_cleaner.state.floatbank4_b_level                           0.07   \n",
       "secondary_cleaner.state.floatbank5_a_air                             0.09   \n",
       "secondary_cleaner.state.floatbank5_a_level                           0.13   \n",
       "secondary_cleaner.state.floatbank5_b_air                             0.16   \n",
       "secondary_cleaner.state.floatbank5_b_level                           0.07   \n",
       "secondary_cleaner.state.floatbank6_a_air                            -0.13   \n",
       "secondary_cleaner.state.floatbank6_a_level                           0.03   \n",
       "\n",
       "                                            primary_cleaner.input.depressant  \\\n",
       "final.output.recovery                                                   0.19   \n",
       "rougher.output.recovery                                                 0.09   \n",
       "primary_cleaner.input.sulfate                                           0.45   \n",
       "primary_cleaner.input.depressant                                        1.00   \n",
       "primary_cleaner.input.feed_size                                         0.21   \n",
       "primary_cleaner.input.xanthate                                          0.14   \n",
       "primary_cleaner.state.floatbank8_a_air                                  0.13   \n",
       "primary_cleaner.state.floatbank8_a_level                                0.22   \n",
       "primary_cleaner.state.floatbank8_b_air                                  0.13   \n",
       "primary_cleaner.state.floatbank8_b_level                                0.20   \n",
       "primary_cleaner.state.floatbank8_c_air                                  0.03   \n",
       "primary_cleaner.state.floatbank8_c_level                                0.19   \n",
       "primary_cleaner.state.floatbank8_d_air                                  0.13   \n",
       "primary_cleaner.state.floatbank8_d_level                                0.07   \n",
       "rougher.input.feed_ag                                                   0.50   \n",
       "rougher.input.feed_pb                                                   0.47   \n",
       "rougher.input.feed_rate                                                 0.13   \n",
       "rougher.input.feed_size                                                 0.01   \n",
       "rougher.input.feed_sol                                                  0.17   \n",
       "rougher.input.feed_au                                                   0.46   \n",
       "rougher.input.floatbank10_sulfate                                       0.23   \n",
       "rougher.input.floatbank10_xanthate                                      0.34   \n",
       "rougher.input.floatbank11_sulfate                                       0.21   \n",
       "rougher.input.floatbank11_xanthate                                      0.35   \n",
       "rougher.state.floatbank10_a_air                                         0.41   \n",
       "rougher.state.floatbank10_a_level                                       0.13   \n",
       "rougher.state.floatbank10_b_air                                        -0.36   \n",
       "rougher.state.floatbank10_b_level                                      -0.11   \n",
       "rougher.state.floatbank10_c_air                                        -0.37   \n",
       "rougher.state.floatbank10_c_level                                      -0.11   \n",
       "rougher.state.floatbank10_d_air                                        -0.35   \n",
       "rougher.state.floatbank10_d_level                                      -0.08   \n",
       "rougher.state.floatbank10_e_air                                        -0.36   \n",
       "rougher.state.floatbank10_e_level                                      -0.13   \n",
       "rougher.state.floatbank10_f_air                                        -0.38   \n",
       "rougher.state.floatbank10_f_level                                      -0.11   \n",
       "secondary_cleaner.state.floatbank2_a_air                                0.08   \n",
       "secondary_cleaner.state.floatbank2_a_level                             -0.09   \n",
       "secondary_cleaner.state.floatbank2_b_air                                0.23   \n",
       "secondary_cleaner.state.floatbank2_b_level                             -0.10   \n",
       "secondary_cleaner.state.floatbank3_a_air                                0.28   \n",
       "secondary_cleaner.state.floatbank3_a_level                              0.12   \n",
       "secondary_cleaner.state.floatbank3_b_air                                0.25   \n",
       "secondary_cleaner.state.floatbank3_b_level                              0.11   \n",
       "secondary_cleaner.state.floatbank4_a_air                                0.32   \n",
       "secondary_cleaner.state.floatbank4_a_level                              0.11   \n",
       "secondary_cleaner.state.floatbank4_b_air                                0.23   \n",
       "secondary_cleaner.state.floatbank4_b_level                             -0.09   \n",
       "secondary_cleaner.state.floatbank5_a_air                               -0.09   \n",
       "secondary_cleaner.state.floatbank5_a_level                             -0.00   \n",
       "secondary_cleaner.state.floatbank5_b_air                                0.06   \n",
       "secondary_cleaner.state.floatbank5_b_level                             -0.00   \n",
       "secondary_cleaner.state.floatbank6_a_air                               -0.20   \n",
       "secondary_cleaner.state.floatbank6_a_level                              0.03   \n",
       "\n",
       "                                            primary_cleaner.input.feed_size  \\\n",
       "final.output.recovery                                                  0.07   \n",
       "rougher.output.recovery                                                0.01   \n",
       "primary_cleaner.input.sulfate                                          0.11   \n",
       "primary_cleaner.input.depressant                                       0.21   \n",
       "primary_cleaner.input.feed_size                                        1.00   \n",
       "primary_cleaner.input.xanthate                                        -0.29   \n",
       "primary_cleaner.state.floatbank8_a_air                                -0.06   \n",
       "primary_cleaner.state.floatbank8_a_level                               0.08   \n",
       "primary_cleaner.state.floatbank8_b_air                                -0.06   \n",
       "primary_cleaner.state.floatbank8_b_level                               0.07   \n",
       "primary_cleaner.state.floatbank8_c_air                                -0.09   \n",
       "primary_cleaner.state.floatbank8_c_level                               0.07   \n",
       "primary_cleaner.state.floatbank8_d_air                                -0.07   \n",
       "primary_cleaner.state.floatbank8_d_level                               0.07   \n",
       "rougher.input.feed_ag                                                  0.34   \n",
       "rougher.input.feed_pb                                                  0.00   \n",
       "rougher.input.feed_rate                                                0.02   \n",
       "rougher.input.feed_size                                               -0.09   \n",
       "rougher.input.feed_sol                                                 0.06   \n",
       "rougher.input.feed_au                                                  0.24   \n",
       "rougher.input.floatbank10_sulfate                                     -0.19   \n",
       "rougher.input.floatbank10_xanthate                                     0.22   \n",
       "rougher.input.floatbank11_sulfate                                     -0.23   \n",
       "rougher.input.floatbank11_xanthate                                     0.20   \n",
       "rougher.state.floatbank10_a_air                                        0.02   \n",
       "rougher.state.floatbank10_a_level                                     -0.24   \n",
       "rougher.state.floatbank10_b_air                                        0.04   \n",
       "rougher.state.floatbank10_b_level                                      0.05   \n",
       "rougher.state.floatbank10_c_air                                        0.06   \n",
       "rougher.state.floatbank10_c_level                                      0.05   \n",
       "rougher.state.floatbank10_d_air                                       -0.01   \n",
       "rougher.state.floatbank10_d_level                                      0.07   \n",
       "rougher.state.floatbank10_e_air                                       -0.01   \n",
       "rougher.state.floatbank10_e_level                                      0.01   \n",
       "rougher.state.floatbank10_f_air                                       -0.13   \n",
       "rougher.state.floatbank10_f_level                                      0.04   \n",
       "secondary_cleaner.state.floatbank2_a_air                              -0.13   \n",
       "secondary_cleaner.state.floatbank2_a_level                             0.04   \n",
       "secondary_cleaner.state.floatbank2_b_air                              -0.18   \n",
       "secondary_cleaner.state.floatbank2_b_level                             0.01   \n",
       "secondary_cleaner.state.floatbank3_a_air                               0.02   \n",
       "secondary_cleaner.state.floatbank3_a_level                             0.03   \n",
       "secondary_cleaner.state.floatbank3_b_air                              -0.02   \n",
       "secondary_cleaner.state.floatbank3_b_level                             0.03   \n",
       "secondary_cleaner.state.floatbank4_a_air                              -0.15   \n",
       "secondary_cleaner.state.floatbank4_a_level                            -0.12   \n",
       "secondary_cleaner.state.floatbank4_b_air                              -0.17   \n",
       "secondary_cleaner.state.floatbank4_b_level                            -0.14   \n",
       "secondary_cleaner.state.floatbank5_a_air                              -0.19   \n",
       "secondary_cleaner.state.floatbank5_a_level                            -0.06   \n",
       "secondary_cleaner.state.floatbank5_b_air                              -0.21   \n",
       "secondary_cleaner.state.floatbank5_b_level                            -0.05   \n",
       "secondary_cleaner.state.floatbank6_a_air                               0.03   \n",
       "secondary_cleaner.state.floatbank6_a_level                            -0.08   \n",
       "\n",
       "                                            primary_cleaner.input.xanthate  \\\n",
       "final.output.recovery                                                 0.17   \n",
       "rougher.output.recovery                                               0.17   \n",
       "primary_cleaner.input.sulfate                                         0.50   \n",
       "primary_cleaner.input.depressant                                      0.14   \n",
       "primary_cleaner.input.feed_size                                      -0.29   \n",
       "primary_cleaner.input.xanthate                                        1.00   \n",
       "primary_cleaner.state.floatbank8_a_air                                0.21   \n",
       "primary_cleaner.state.floatbank8_a_level                             -0.06   \n",
       "primary_cleaner.state.floatbank8_b_air                                0.15   \n",
       "primary_cleaner.state.floatbank8_b_level                              0.02   \n",
       "primary_cleaner.state.floatbank8_c_air                                0.05   \n",
       "primary_cleaner.state.floatbank8_c_level                             -0.08   \n",
       "primary_cleaner.state.floatbank8_d_air                                0.17   \n",
       "primary_cleaner.state.floatbank8_d_level                             -0.14   \n",
       "rougher.input.feed_ag                                                 0.05   \n",
       "rougher.input.feed_pb                                                 0.24   \n",
       "rougher.input.feed_rate                                               0.46   \n",
       "rougher.input.feed_size                                               0.20   \n",
       "rougher.input.feed_sol                                                0.37   \n",
       "rougher.input.feed_au                                                 0.10   \n",
       "rougher.input.floatbank10_sulfate                                     0.58   \n",
       "rougher.input.floatbank10_xanthate                                    0.35   \n",
       "rougher.input.floatbank11_sulfate                                     0.59   \n",
       "rougher.input.floatbank11_xanthate                                    0.38   \n",
       "rougher.state.floatbank10_a_air                                       0.40   \n",
       "rougher.state.floatbank10_a_level                                     0.42   \n",
       "rougher.state.floatbank10_b_air                                      -0.39   \n",
       "rougher.state.floatbank10_b_level                                    -0.34   \n",
       "rougher.state.floatbank10_c_air                                      -0.40   \n",
       "rougher.state.floatbank10_c_level                                    -0.35   \n",
       "rougher.state.floatbank10_d_air                                      -0.39   \n",
       "rougher.state.floatbank10_d_level                                    -0.33   \n",
       "rougher.state.floatbank10_e_air                                      -0.32   \n",
       "rougher.state.floatbank10_e_level                                    -0.36   \n",
       "rougher.state.floatbank10_f_air                                      -0.29   \n",
       "rougher.state.floatbank10_f_level                                    -0.33   \n",
       "secondary_cleaner.state.floatbank2_a_air                             -0.04   \n",
       "secondary_cleaner.state.floatbank2_a_level                           -0.16   \n",
       "secondary_cleaner.state.floatbank2_b_air                              0.22   \n",
       "secondary_cleaner.state.floatbank2_b_level                           -0.11   \n",
       "secondary_cleaner.state.floatbank3_a_air                             -0.04   \n",
       "secondary_cleaner.state.floatbank3_a_level                           -0.03   \n",
       "secondary_cleaner.state.floatbank3_b_air                             -0.05   \n",
       "secondary_cleaner.state.floatbank3_b_level                           -0.01   \n",
       "secondary_cleaner.state.floatbank4_a_air                              0.31   \n",
       "secondary_cleaner.state.floatbank4_a_level                            0.13   \n",
       "secondary_cleaner.state.floatbank4_b_air                              0.36   \n",
       "secondary_cleaner.state.floatbank4_b_level                            0.12   \n",
       "secondary_cleaner.state.floatbank5_a_air                              0.06   \n",
       "secondary_cleaner.state.floatbank5_a_level                            0.13   \n",
       "secondary_cleaner.state.floatbank5_b_air                              0.08   \n",
       "secondary_cleaner.state.floatbank5_b_level                            0.10   \n",
       "secondary_cleaner.state.floatbank6_a_air                             -0.22   \n",
       "secondary_cleaner.state.floatbank6_a_level                            0.08   \n",
       "\n",
       "                                            primary_cleaner.state.floatbank8_a_air  \\\n",
       "final.output.recovery                                                         0.12   \n",
       "rougher.output.recovery                                                       0.22   \n",
       "primary_cleaner.input.sulfate                                                 0.10   \n",
       "primary_cleaner.input.depressant                                              0.13   \n",
       "primary_cleaner.input.feed_size                                              -0.06   \n",
       "primary_cleaner.input.xanthate                                                0.21   \n",
       "primary_cleaner.state.floatbank8_a_air                                        1.00   \n",
       "primary_cleaner.state.floatbank8_a_level                                      0.12   \n",
       "primary_cleaner.state.floatbank8_b_air                                        0.97   \n",
       "primary_cleaner.state.floatbank8_b_level                                     -0.02   \n",
       "primary_cleaner.state.floatbank8_c_air                                        0.81   \n",
       "primary_cleaner.state.floatbank8_c_level                                      0.11   \n",
       "primary_cleaner.state.floatbank8_d_air                                        0.96   \n",
       "primary_cleaner.state.floatbank8_d_level                                      0.06   \n",
       "rougher.input.feed_ag                                                         0.25   \n",
       "rougher.input.feed_pb                                                         0.06   \n",
       "rougher.input.feed_rate                                                      -0.01   \n",
       "rougher.input.feed_size                                                      -0.07   \n",
       "rougher.input.feed_sol                                                       -0.06   \n",
       "rougher.input.feed_au                                                         0.22   \n",
       "rougher.input.floatbank10_sulfate                                             0.04   \n",
       "rougher.input.floatbank10_xanthate                                            0.19   \n",
       "rougher.input.floatbank11_sulfate                                             0.05   \n",
       "rougher.input.floatbank11_xanthate                                            0.20   \n",
       "rougher.state.floatbank10_a_air                                               0.22   \n",
       "rougher.state.floatbank10_a_level                                            -0.03   \n",
       "rougher.state.floatbank10_b_air                                               0.20   \n",
       "rougher.state.floatbank10_b_level                                             0.29   \n",
       "rougher.state.floatbank10_c_air                                               0.22   \n",
       "rougher.state.floatbank10_c_level                                             0.29   \n",
       "rougher.state.floatbank10_d_air                                               0.16   \n",
       "rougher.state.floatbank10_d_level                                             0.25   \n",
       "rougher.state.floatbank10_e_air                                               0.35   \n",
       "rougher.state.floatbank10_e_level                                             0.28   \n",
       "rougher.state.floatbank10_f_air                                               0.28   \n",
       "rougher.state.floatbank10_f_level                                             0.29   \n",
       "secondary_cleaner.state.floatbank2_a_air                                      0.26   \n",
       "secondary_cleaner.state.floatbank2_a_level                                   -0.06   \n",
       "secondary_cleaner.state.floatbank2_b_air                                      0.42   \n",
       "secondary_cleaner.state.floatbank2_b_level                                   -0.08   \n",
       "secondary_cleaner.state.floatbank3_a_air                                      0.37   \n",
       "secondary_cleaner.state.floatbank3_a_level                                   -0.04   \n",
       "secondary_cleaner.state.floatbank3_b_air                                      0.46   \n",
       "secondary_cleaner.state.floatbank3_b_level                                   -0.01   \n",
       "secondary_cleaner.state.floatbank4_a_air                                      0.47   \n",
       "secondary_cleaner.state.floatbank4_a_level                                    0.01   \n",
       "secondary_cleaner.state.floatbank4_b_air                                      0.48   \n",
       "secondary_cleaner.state.floatbank4_b_level                                   -0.06   \n",
       "secondary_cleaner.state.floatbank5_a_air                                      0.41   \n",
       "secondary_cleaner.state.floatbank5_a_level                                    0.27   \n",
       "secondary_cleaner.state.floatbank5_b_air                                      0.47   \n",
       "secondary_cleaner.state.floatbank5_b_level                                    0.16   \n",
       "secondary_cleaner.state.floatbank6_a_air                                      0.35   \n",
       "secondary_cleaner.state.floatbank6_a_level                                    0.17   \n",
       "\n",
       "                                            primary_cleaner.state.floatbank8_a_level  \\\n",
       "final.output.recovery                                                           0.02   \n",
       "rougher.output.recovery                                                         0.09   \n",
       "primary_cleaner.input.sulfate                                                   0.05   \n",
       "primary_cleaner.input.depressant                                                0.22   \n",
       "primary_cleaner.input.feed_size                                                 0.08   \n",
       "primary_cleaner.input.xanthate                                                 -0.06   \n",
       "primary_cleaner.state.floatbank8_a_air                                          0.12   \n",
       "primary_cleaner.state.floatbank8_a_level                                        1.00   \n",
       "primary_cleaner.state.floatbank8_b_air                                          0.10   \n",
       "primary_cleaner.state.floatbank8_b_level                                        0.42   \n",
       "primary_cleaner.state.floatbank8_c_air                                         -0.02   \n",
       "primary_cleaner.state.floatbank8_c_level                                        0.78   \n",
       "primary_cleaner.state.floatbank8_d_air                                          0.11   \n",
       "primary_cleaner.state.floatbank8_d_level                                        0.41   \n",
       "rougher.input.feed_ag                                                           0.20   \n",
       "rougher.input.feed_pb                                                           0.23   \n",
       "rougher.input.feed_rate                                                        -0.01   \n",
       "rougher.input.feed_size                                                         0.00   \n",
       "rougher.input.feed_sol                                                          0.06   \n",
       "rougher.input.feed_au                                                           0.18   \n",
       "rougher.input.floatbank10_sulfate                                              -0.06   \n",
       "rougher.input.floatbank10_xanthate                                              0.11   \n",
       "rougher.input.floatbank11_sulfate                                              -0.08   \n",
       "rougher.input.floatbank11_xanthate                                              0.09   \n",
       "rougher.state.floatbank10_a_air                                                 0.39   \n",
       "rougher.state.floatbank10_a_level                                               0.16   \n",
       "rougher.state.floatbank10_b_air                                                -0.08   \n",
       "rougher.state.floatbank10_b_level                                              -0.04   \n",
       "rougher.state.floatbank10_c_air                                                -0.13   \n",
       "rougher.state.floatbank10_c_level                                              -0.04   \n",
       "rougher.state.floatbank10_d_air                                                -0.13   \n",
       "rougher.state.floatbank10_d_level                                              -0.07   \n",
       "rougher.state.floatbank10_e_air                                                -0.10   \n",
       "rougher.state.floatbank10_e_level                                              -0.07   \n",
       "rougher.state.floatbank10_f_air                                                -0.05   \n",
       "rougher.state.floatbank10_f_level                                              -0.04   \n",
       "secondary_cleaner.state.floatbank2_a_air                                        0.11   \n",
       "secondary_cleaner.state.floatbank2_a_level                                      0.08   \n",
       "secondary_cleaner.state.floatbank2_b_air                                        0.16   \n",
       "secondary_cleaner.state.floatbank2_b_level                                      0.08   \n",
       "secondary_cleaner.state.floatbank3_a_air                                        0.08   \n",
       "secondary_cleaner.state.floatbank3_a_level                                      0.07   \n",
       "secondary_cleaner.state.floatbank3_b_air                                        0.06   \n",
       "secondary_cleaner.state.floatbank3_b_level                                      0.05   \n",
       "secondary_cleaner.state.floatbank4_a_air                                        0.17   \n",
       "secondary_cleaner.state.floatbank4_a_level                                      0.10   \n",
       "secondary_cleaner.state.floatbank4_b_air                                        0.08   \n",
       "secondary_cleaner.state.floatbank4_b_level                                     -0.01   \n",
       "secondary_cleaner.state.floatbank5_a_air                                       -0.04   \n",
       "secondary_cleaner.state.floatbank5_a_level                                      0.16   \n",
       "secondary_cleaner.state.floatbank5_b_air                                       -0.01   \n",
       "secondary_cleaner.state.floatbank5_b_level                                      0.09   \n",
       "secondary_cleaner.state.floatbank6_a_air                                       -0.11   \n",
       "secondary_cleaner.state.floatbank6_a_level                                      0.08   \n",
       "\n",
       "                                            primary_cleaner.state.floatbank8_b_air  \\\n",
       "final.output.recovery                                                         0.15   \n",
       "rougher.output.recovery                                                       0.22   \n",
       "primary_cleaner.input.sulfate                                                 0.07   \n",
       "primary_cleaner.input.depressant                                              0.13   \n",
       "primary_cleaner.input.feed_size                                              -0.06   \n",
       "primary_cleaner.input.xanthate                                                0.15   \n",
       "primary_cleaner.state.floatbank8_a_air                                        0.97   \n",
       "primary_cleaner.state.floatbank8_a_level                                      0.10   \n",
       "primary_cleaner.state.floatbank8_b_air                                        1.00   \n",
       "primary_cleaner.state.floatbank8_b_level                                      0.01   \n",
       "primary_cleaner.state.floatbank8_c_air                                        0.86   \n",
       "primary_cleaner.state.floatbank8_c_level                                      0.10   \n",
       "primary_cleaner.state.floatbank8_d_air                                        0.97   \n",
       "primary_cleaner.state.floatbank8_d_level                                      0.06   \n",
       "rougher.input.feed_ag                                                         0.25   \n",
       "rougher.input.feed_pb                                                         0.05   \n",
       "rougher.input.feed_rate                                                      -0.04   \n",
       "rougher.input.feed_size                                                      -0.10   \n",
       "rougher.input.feed_sol                                                       -0.09   \n",
       "rougher.input.feed_au                                                         0.24   \n",
       "rougher.input.floatbank10_sulfate                                             0.04   \n",
       "rougher.input.floatbank10_xanthate                                            0.17   \n",
       "rougher.input.floatbank11_sulfate                                             0.05   \n",
       "rougher.input.floatbank11_xanthate                                            0.19   \n",
       "rougher.state.floatbank10_a_air                                               0.17   \n",
       "rougher.state.floatbank10_a_level                                            -0.07   \n",
       "rougher.state.floatbank10_b_air                                               0.23   \n",
       "rougher.state.floatbank10_b_level                                             0.37   \n",
       "rougher.state.floatbank10_c_air                                               0.26   \n",
       "rougher.state.floatbank10_c_level                                             0.37   \n",
       "rougher.state.floatbank10_d_air                                               0.20   \n",
       "rougher.state.floatbank10_d_level                                             0.33   \n",
       "rougher.state.floatbank10_e_air                                               0.40   \n",
       "rougher.state.floatbank10_e_level                                             0.39   \n",
       "rougher.state.floatbank10_f_air                                               0.34   \n",
       "rougher.state.floatbank10_f_level                                             0.39   \n",
       "secondary_cleaner.state.floatbank2_a_air                                      0.33   \n",
       "secondary_cleaner.state.floatbank2_a_level                                   -0.05   \n",
       "secondary_cleaner.state.floatbank2_b_air                                      0.46   \n",
       "secondary_cleaner.state.floatbank2_b_level                                   -0.08   \n",
       "secondary_cleaner.state.floatbank3_a_air                                      0.42   \n",
       "secondary_cleaner.state.floatbank3_a_level                                   -0.02   \n",
       "secondary_cleaner.state.floatbank3_b_air                                      0.52   \n",
       "secondary_cleaner.state.floatbank3_b_level                                    0.01   \n",
       "secondary_cleaner.state.floatbank4_a_air                                      0.48   \n",
       "secondary_cleaner.state.floatbank4_a_level                                    0.02   \n",
       "secondary_cleaner.state.floatbank4_b_air                                      0.49   \n",
       "secondary_cleaner.state.floatbank4_b_level                                   -0.08   \n",
       "secondary_cleaner.state.floatbank5_a_air                                      0.42   \n",
       "secondary_cleaner.state.floatbank5_a_level                                    0.26   \n",
       "secondary_cleaner.state.floatbank5_b_air                                      0.50   \n",
       "secondary_cleaner.state.floatbank5_b_level                                    0.16   \n",
       "secondary_cleaner.state.floatbank6_a_air                                      0.39   \n",
       "secondary_cleaner.state.floatbank6_a_level                                    0.19   \n",
       "\n",
       "                                            primary_cleaner.state.floatbank8_b_level  \\\n",
       "final.output.recovery                                                           0.14   \n",
       "rougher.output.recovery                                                         0.08   \n",
       "primary_cleaner.input.sulfate                                                   0.14   \n",
       "primary_cleaner.input.depressant                                                0.20   \n",
       "primary_cleaner.input.feed_size                                                 0.07   \n",
       "primary_cleaner.input.xanthate                                                  0.02   \n",
       "primary_cleaner.state.floatbank8_a_air                                         -0.02   \n",
       "primary_cleaner.state.floatbank8_a_level                                        0.42   \n",
       "primary_cleaner.state.floatbank8_b_air                                          0.01   \n",
       "primary_cleaner.state.floatbank8_b_level                                        1.00   \n",
       "primary_cleaner.state.floatbank8_c_air                                         -0.03   \n",
       "primary_cleaner.state.floatbank8_c_level                                        0.41   \n",
       "primary_cleaner.state.floatbank8_d_air                                          0.02   \n",
       "primary_cleaner.state.floatbank8_d_level                                        0.23   \n",
       "rougher.input.feed_ag                                                           0.13   \n",
       "rougher.input.feed_pb                                                           0.22   \n",
       "rougher.input.feed_rate                                                         0.03   \n",
       "rougher.input.feed_size                                                        -0.04   \n",
       "rougher.input.feed_sol                                                          0.05   \n",
       "rougher.input.feed_au                                                           0.18   \n",
       "rougher.input.floatbank10_sulfate                                               0.02   \n",
       "rougher.input.floatbank10_xanthate                                              0.07   \n",
       "rougher.input.floatbank11_sulfate                                               0.05   \n",
       "rougher.input.floatbank11_xanthate                                              0.10   \n",
       "rougher.state.floatbank10_a_air                                                 0.21   \n",
       "rougher.state.floatbank10_a_level                                               0.08   \n",
       "rougher.state.floatbank10_b_air                                                -0.01   \n",
       "rougher.state.floatbank10_b_level                                               0.02   \n",
       "rougher.state.floatbank10_c_air                                                -0.05   \n",
       "rougher.state.floatbank10_c_level                                               0.01   \n",
       "rougher.state.floatbank10_d_air                                                -0.02   \n",
       "rougher.state.floatbank10_d_level                                               0.01   \n",
       "rougher.state.floatbank10_e_air                                                -0.05   \n",
       "rougher.state.floatbank10_e_level                                               0.00   \n",
       "rougher.state.floatbank10_f_air                                                -0.01   \n",
       "rougher.state.floatbank10_f_level                                               0.01   \n",
       "secondary_cleaner.state.floatbank2_a_air                                        0.06   \n",
       "secondary_cleaner.state.floatbank2_a_level                                      0.01   \n",
       "secondary_cleaner.state.floatbank2_b_air                                        0.10   \n",
       "secondary_cleaner.state.floatbank2_b_level                                      0.01   \n",
       "secondary_cleaner.state.floatbank3_a_air                                        0.09   \n",
       "secondary_cleaner.state.floatbank3_a_level                                      0.09   \n",
       "secondary_cleaner.state.floatbank3_b_air                                        0.08   \n",
       "secondary_cleaner.state.floatbank3_b_level                                      0.10   \n",
       "secondary_cleaner.state.floatbank4_a_air                                        0.08   \n",
       "secondary_cleaner.state.floatbank4_a_level                                      0.22   \n",
       "secondary_cleaner.state.floatbank4_b_air                                        0.05   \n",
       "secondary_cleaner.state.floatbank4_b_level                                     -0.04   \n",
       "secondary_cleaner.state.floatbank5_a_air                                       -0.01   \n",
       "secondary_cleaner.state.floatbank5_a_level                                      0.03   \n",
       "secondary_cleaner.state.floatbank5_b_air                                        0.01   \n",
       "secondary_cleaner.state.floatbank5_b_level                                      0.00   \n",
       "secondary_cleaner.state.floatbank6_a_air                                       -0.01   \n",
       "secondary_cleaner.state.floatbank6_a_level                                      0.01   \n",
       "\n",
       "                                            ...  \\\n",
       "final.output.recovery                       ...   \n",
       "rougher.output.recovery                     ...   \n",
       "primary_cleaner.input.sulfate               ...   \n",
       "primary_cleaner.input.depressant            ...   \n",
       "primary_cleaner.input.feed_size             ...   \n",
       "primary_cleaner.input.xanthate              ...   \n",
       "primary_cleaner.state.floatbank8_a_air      ...   \n",
       "primary_cleaner.state.floatbank8_a_level    ...   \n",
       "primary_cleaner.state.floatbank8_b_air      ...   \n",
       "primary_cleaner.state.floatbank8_b_level    ...   \n",
       "primary_cleaner.state.floatbank8_c_air      ...   \n",
       "primary_cleaner.state.floatbank8_c_level    ...   \n",
       "primary_cleaner.state.floatbank8_d_air      ...   \n",
       "primary_cleaner.state.floatbank8_d_level    ...   \n",
       "rougher.input.feed_ag                       ...   \n",
       "rougher.input.feed_pb                       ...   \n",
       "rougher.input.feed_rate                     ...   \n",
       "rougher.input.feed_size                     ...   \n",
       "rougher.input.feed_sol                      ...   \n",
       "rougher.input.feed_au                       ...   \n",
       "rougher.input.floatbank10_sulfate           ...   \n",
       "rougher.input.floatbank10_xanthate          ...   \n",
       "rougher.input.floatbank11_sulfate           ...   \n",
       "rougher.input.floatbank11_xanthate          ...   \n",
       "rougher.state.floatbank10_a_air             ...   \n",
       "rougher.state.floatbank10_a_level           ...   \n",
       "rougher.state.floatbank10_b_air             ...   \n",
       "rougher.state.floatbank10_b_level           ...   \n",
       "rougher.state.floatbank10_c_air             ...   \n",
       "rougher.state.floatbank10_c_level           ...   \n",
       "rougher.state.floatbank10_d_air             ...   \n",
       "rougher.state.floatbank10_d_level           ...   \n",
       "rougher.state.floatbank10_e_air             ...   \n",
       "rougher.state.floatbank10_e_level           ...   \n",
       "rougher.state.floatbank10_f_air             ...   \n",
       "rougher.state.floatbank10_f_level           ...   \n",
       "secondary_cleaner.state.floatbank2_a_air    ...   \n",
       "secondary_cleaner.state.floatbank2_a_level  ...   \n",
       "secondary_cleaner.state.floatbank2_b_air    ...   \n",
       "secondary_cleaner.state.floatbank2_b_level  ...   \n",
       "secondary_cleaner.state.floatbank3_a_air    ...   \n",
       "secondary_cleaner.state.floatbank3_a_level  ...   \n",
       "secondary_cleaner.state.floatbank3_b_air    ...   \n",
       "secondary_cleaner.state.floatbank3_b_level  ...   \n",
       "secondary_cleaner.state.floatbank4_a_air    ...   \n",
       "secondary_cleaner.state.floatbank4_a_level  ...   \n",
       "secondary_cleaner.state.floatbank4_b_air    ...   \n",
       "secondary_cleaner.state.floatbank4_b_level  ...   \n",
       "secondary_cleaner.state.floatbank5_a_air    ...   \n",
       "secondary_cleaner.state.floatbank5_a_level  ...   \n",
       "secondary_cleaner.state.floatbank5_b_air    ...   \n",
       "secondary_cleaner.state.floatbank5_b_level  ...   \n",
       "secondary_cleaner.state.floatbank6_a_air    ...   \n",
       "secondary_cleaner.state.floatbank6_a_level  ...   \n",
       "\n",
       "                                            secondary_cleaner.state.floatbank4_a_air  \\\n",
       "final.output.recovery                                                           0.19   \n",
       "rougher.output.recovery                                                         0.24   \n",
       "primary_cleaner.input.sulfate                                                   0.31   \n",
       "primary_cleaner.input.depressant                                                0.32   \n",
       "primary_cleaner.input.feed_size                                                -0.15   \n",
       "primary_cleaner.input.xanthate                                                  0.31   \n",
       "primary_cleaner.state.floatbank8_a_air                                          0.47   \n",
       "primary_cleaner.state.floatbank8_a_level                                        0.17   \n",
       "primary_cleaner.state.floatbank8_b_air                                          0.48   \n",
       "primary_cleaner.state.floatbank8_b_level                                        0.08   \n",
       "primary_cleaner.state.floatbank8_c_air                                          0.37   \n",
       "primary_cleaner.state.floatbank8_c_level                                        0.15   \n",
       "primary_cleaner.state.floatbank8_d_air                                          0.49   \n",
       "primary_cleaner.state.floatbank8_d_level                                        0.05   \n",
       "rougher.input.feed_ag                                                           0.17   \n",
       "rougher.input.feed_pb                                                           0.11   \n",
       "rougher.input.feed_rate                                                         0.17   \n",
       "rougher.input.feed_size                                                         0.13   \n",
       "rougher.input.feed_sol                                                          0.15   \n",
       "rougher.input.feed_au                                                           0.17   \n",
       "rougher.input.floatbank10_sulfate                                               0.31   \n",
       "rougher.input.floatbank10_xanthate                                              0.24   \n",
       "rougher.input.floatbank11_sulfate                                               0.28   \n",
       "rougher.input.floatbank11_xanthate                                              0.21   \n",
       "rougher.state.floatbank10_a_air                                                 0.30   \n",
       "rougher.state.floatbank10_a_level                                               0.21   \n",
       "rougher.state.floatbank10_b_air                                                -0.17   \n",
       "rougher.state.floatbank10_b_level                                               0.07   \n",
       "rougher.state.floatbank10_c_air                                                -0.17   \n",
       "rougher.state.floatbank10_c_level                                               0.07   \n",
       "rougher.state.floatbank10_d_air                                                -0.17   \n",
       "rougher.state.floatbank10_d_level                                               0.07   \n",
       "rougher.state.floatbank10_e_air                                                 0.02   \n",
       "rougher.state.floatbank10_e_level                                               0.15   \n",
       "rougher.state.floatbank10_f_air                                                 0.04   \n",
       "rougher.state.floatbank10_f_level                                               0.17   \n",
       "secondary_cleaner.state.floatbank2_a_air                                        0.39   \n",
       "secondary_cleaner.state.floatbank2_a_level                                     -0.08   \n",
       "secondary_cleaner.state.floatbank2_b_air                                        0.64   \n",
       "secondary_cleaner.state.floatbank2_b_level                                     -0.06   \n",
       "secondary_cleaner.state.floatbank3_a_air                                        0.41   \n",
       "secondary_cleaner.state.floatbank3_a_level                                     -0.07   \n",
       "secondary_cleaner.state.floatbank3_b_air                                        0.48   \n",
       "secondary_cleaner.state.floatbank3_b_level                                     -0.05   \n",
       "secondary_cleaner.state.floatbank4_a_air                                        1.00   \n",
       "secondary_cleaner.state.floatbank4_a_level                                      0.35   \n",
       "secondary_cleaner.state.floatbank4_b_air                                        0.93   \n",
       "secondary_cleaner.state.floatbank4_b_level                                      0.26   \n",
       "secondary_cleaner.state.floatbank5_a_air                                        0.52   \n",
       "secondary_cleaner.state.floatbank5_a_level                                      0.22   \n",
       "secondary_cleaner.state.floatbank5_b_air                                        0.63   \n",
       "secondary_cleaner.state.floatbank5_b_level                                      0.13   \n",
       "secondary_cleaner.state.floatbank6_a_air                                        0.08   \n",
       "secondary_cleaner.state.floatbank6_a_level                                      0.15   \n",
       "\n",
       "                                            secondary_cleaner.state.floatbank4_a_level  \\\n",
       "final.output.recovery                                                             0.04   \n",
       "rougher.output.recovery                                                          -0.01   \n",
       "primary_cleaner.input.sulfate                                                     0.12   \n",
       "primary_cleaner.input.depressant                                                  0.11   \n",
       "primary_cleaner.input.feed_size                                                  -0.12   \n",
       "primary_cleaner.input.xanthate                                                    0.13   \n",
       "primary_cleaner.state.floatbank8_a_air                                            0.01   \n",
       "primary_cleaner.state.floatbank8_a_level                                          0.10   \n",
       "primary_cleaner.state.floatbank8_b_air                                            0.02   \n",
       "primary_cleaner.state.floatbank8_b_level                                          0.22   \n",
       "primary_cleaner.state.floatbank8_c_air                                            0.05   \n",
       "primary_cleaner.state.floatbank8_c_level                                          0.09   \n",
       "primary_cleaner.state.floatbank8_d_air                                            0.02   \n",
       "primary_cleaner.state.floatbank8_d_level                                          0.04   \n",
       "rougher.input.feed_ag                                                            -0.07   \n",
       "rougher.input.feed_pb                                                            -0.00   \n",
       "rougher.input.feed_rate                                                           0.12   \n",
       "rougher.input.feed_size                                                           0.06   \n",
       "rougher.input.feed_sol                                                            0.07   \n",
       "rougher.input.feed_au                                                            -0.04   \n",
       "rougher.input.floatbank10_sulfate                                                 0.16   \n",
       "rougher.input.floatbank10_xanthate                                                0.07   \n",
       "rougher.input.floatbank11_sulfate                                                 0.19   \n",
       "rougher.input.floatbank11_xanthate                                                0.10   \n",
       "rougher.state.floatbank10_a_air                                                   0.09   \n",
       "rougher.state.floatbank10_a_level                                                 0.13   \n",
       "rougher.state.floatbank10_b_air                                                   0.01   \n",
       "rougher.state.floatbank10_b_level                                                 0.01   \n",
       "rougher.state.floatbank10_c_air                                                  -0.01   \n",
       "rougher.state.floatbank10_c_level                                                 0.01   \n",
       "rougher.state.floatbank10_d_air                                                   0.03   \n",
       "rougher.state.floatbank10_d_level                                                -0.01   \n",
       "rougher.state.floatbank10_e_air                                                  -0.03   \n",
       "rougher.state.floatbank10_e_level                                                 0.01   \n",
       "rougher.state.floatbank10_f_air                                                   0.03   \n",
       "rougher.state.floatbank10_f_level                                                 0.02   \n",
       "secondary_cleaner.state.floatbank2_a_air                                          0.18   \n",
       "secondary_cleaner.state.floatbank2_a_level                                        0.03   \n",
       "secondary_cleaner.state.floatbank2_b_air                                          0.18   \n",
       "secondary_cleaner.state.floatbank2_b_level                                        0.03   \n",
       "secondary_cleaner.state.floatbank3_a_air                                          0.05   \n",
       "secondary_cleaner.state.floatbank3_a_level                                        0.01   \n",
       "secondary_cleaner.state.floatbank3_b_air                                          0.07   \n",
       "secondary_cleaner.state.floatbank3_b_level                                        0.00   \n",
       "secondary_cleaner.state.floatbank4_a_air                                          0.35   \n",
       "secondary_cleaner.state.floatbank4_a_level                                        1.00   \n",
       "secondary_cleaner.state.floatbank4_b_air                                          0.29   \n",
       "secondary_cleaner.state.floatbank4_b_level                                        0.32   \n",
       "secondary_cleaner.state.floatbank5_a_air                                          0.14   \n",
       "secondary_cleaner.state.floatbank5_a_level                                        0.13   \n",
       "secondary_cleaner.state.floatbank5_b_air                                          0.20   \n",
       "secondary_cleaner.state.floatbank5_b_level                                        0.04   \n",
       "secondary_cleaner.state.floatbank6_a_air                                          0.03   \n",
       "secondary_cleaner.state.floatbank6_a_level                                        0.03   \n",
       "\n",
       "                                            secondary_cleaner.state.floatbank4_b_air  \\\n",
       "final.output.recovery                                                           0.20   \n",
       "rougher.output.recovery                                                         0.26   \n",
       "primary_cleaner.input.sulfate                                                   0.35   \n",
       "primary_cleaner.input.depressant                                                0.23   \n",
       "primary_cleaner.input.feed_size                                                -0.17   \n",
       "primary_cleaner.input.xanthate                                                  0.36   \n",
       "primary_cleaner.state.floatbank8_a_air                                          0.48   \n",
       "primary_cleaner.state.floatbank8_a_level                                        0.08   \n",
       "primary_cleaner.state.floatbank8_b_air                                          0.49   \n",
       "primary_cleaner.state.floatbank8_b_level                                        0.05   \n",
       "primary_cleaner.state.floatbank8_c_air                                          0.40   \n",
       "primary_cleaner.state.floatbank8_c_level                                        0.07   \n",
       "primary_cleaner.state.floatbank8_d_air                                          0.49   \n",
       "primary_cleaner.state.floatbank8_d_level                                        0.00   \n",
       "rougher.input.feed_ag                                                           0.15   \n",
       "rougher.input.feed_pb                                                           0.14   \n",
       "rougher.input.feed_rate                                                         0.13   \n",
       "rougher.input.feed_size                                                         0.04   \n",
       "rougher.input.feed_sol                                                          0.08   \n",
       "rougher.input.feed_au                                                           0.16   \n",
       "rougher.input.floatbank10_sulfate                                               0.33   \n",
       "rougher.input.floatbank10_xanthate                                              0.19   \n",
       "rougher.input.floatbank11_sulfate                                               0.31   \n",
       "rougher.input.floatbank11_xanthate                                              0.16   \n",
       "rougher.state.floatbank10_a_air                                                 0.24   \n",
       "rougher.state.floatbank10_a_level                                               0.12   \n",
       "rougher.state.floatbank10_b_air                                                -0.10   \n",
       "rougher.state.floatbank10_b_level                                               0.11   \n",
       "rougher.state.floatbank10_c_air                                                -0.10   \n",
       "rougher.state.floatbank10_c_level                                               0.10   \n",
       "rougher.state.floatbank10_d_air                                                -0.08   \n",
       "rougher.state.floatbank10_d_level                                               0.11   \n",
       "rougher.state.floatbank10_e_air                                                 0.07   \n",
       "rougher.state.floatbank10_e_level                                               0.17   \n",
       "rougher.state.floatbank10_f_air                                                 0.08   \n",
       "rougher.state.floatbank10_f_level                                               0.19   \n",
       "secondary_cleaner.state.floatbank2_a_air                                        0.38   \n",
       "secondary_cleaner.state.floatbank2_a_level                                     -0.10   \n",
       "secondary_cleaner.state.floatbank2_b_air                                        0.66   \n",
       "secondary_cleaner.state.floatbank2_b_level                                     -0.08   \n",
       "secondary_cleaner.state.floatbank3_a_air                                        0.43   \n",
       "secondary_cleaner.state.floatbank3_a_level                                     -0.09   \n",
       "secondary_cleaner.state.floatbank3_b_air                                        0.53   \n",
       "secondary_cleaner.state.floatbank3_b_level                                     -0.06   \n",
       "secondary_cleaner.state.floatbank4_a_air                                        0.93   \n",
       "secondary_cleaner.state.floatbank4_a_level                                      0.29   \n",
       "secondary_cleaner.state.floatbank4_b_air                                        1.00   \n",
       "secondary_cleaner.state.floatbank4_b_level                                      0.16   \n",
       "secondary_cleaner.state.floatbank5_a_air                                        0.62   \n",
       "secondary_cleaner.state.floatbank5_a_level                                      0.23   \n",
       "secondary_cleaner.state.floatbank5_b_air                                        0.69   \n",
       "secondary_cleaner.state.floatbank5_b_level                                      0.15   \n",
       "secondary_cleaner.state.floatbank6_a_air                                        0.19   \n",
       "secondary_cleaner.state.floatbank6_a_level                                      0.14   \n",
       "\n",
       "                                            secondary_cleaner.state.floatbank4_b_level  \\\n",
       "final.output.recovery                                                             0.03   \n",
       "rougher.output.recovery                                                           0.02   \n",
       "primary_cleaner.input.sulfate                                                     0.07   \n",
       "primary_cleaner.input.depressant                                                 -0.09   \n",
       "primary_cleaner.input.feed_size                                                  -0.14   \n",
       "primary_cleaner.input.xanthate                                                    0.12   \n",
       "primary_cleaner.state.floatbank8_a_air                                           -0.06   \n",
       "primary_cleaner.state.floatbank8_a_level                                         -0.01   \n",
       "primary_cleaner.state.floatbank8_b_air                                           -0.08   \n",
       "primary_cleaner.state.floatbank8_b_level                                         -0.04   \n",
       "primary_cleaner.state.floatbank8_c_air                                           -0.03   \n",
       "primary_cleaner.state.floatbank8_c_level                                         -0.01   \n",
       "primary_cleaner.state.floatbank8_d_air                                           -0.07   \n",
       "primary_cleaner.state.floatbank8_d_level                                         -0.02   \n",
       "rougher.input.feed_ag                                                            -0.29   \n",
       "rougher.input.feed_pb                                                            -0.21   \n",
       "rougher.input.feed_rate                                                           0.36   \n",
       "rougher.input.feed_size                                                           0.32   \n",
       "rougher.input.feed_sol                                                            0.41   \n",
       "rougher.input.feed_au                                                            -0.27   \n",
       "rougher.input.floatbank10_sulfate                                                 0.30   \n",
       "rougher.input.floatbank10_xanthate                                                0.16   \n",
       "rougher.input.floatbank11_sulfate                                                 0.32   \n",
       "rougher.input.floatbank11_xanthate                                                0.20   \n",
       "rougher.state.floatbank10_a_air                                                  -0.12   \n",
       "rougher.state.floatbank10_a_level                                                 0.26   \n",
       "rougher.state.floatbank10_b_air                                                  -0.21   \n",
       "rougher.state.floatbank10_b_level                                                -0.21   \n",
       "rougher.state.floatbank10_c_air                                                  -0.23   \n",
       "rougher.state.floatbank10_c_level                                                -0.22   \n",
       "rougher.state.floatbank10_d_air                                                  -0.26   \n",
       "rougher.state.floatbank10_d_level                                                -0.22   \n",
       "rougher.state.floatbank10_e_air                                                  -0.17   \n",
       "rougher.state.floatbank10_e_level                                                -0.21   \n",
       "rougher.state.floatbank10_f_air                                                  -0.11   \n",
       "rougher.state.floatbank10_f_level                                                -0.21   \n",
       "secondary_cleaner.state.floatbank2_a_air                                         -0.01   \n",
       "secondary_cleaner.state.floatbank2_a_level                                       -0.02   \n",
       "secondary_cleaner.state.floatbank2_b_air                                          0.00   \n",
       "secondary_cleaner.state.floatbank2_b_level                                        0.01   \n",
       "secondary_cleaner.state.floatbank3_a_air                                         -0.06   \n",
       "secondary_cleaner.state.floatbank3_a_level                                        0.02   \n",
       "secondary_cleaner.state.floatbank3_b_air                                         -0.19   \n",
       "secondary_cleaner.state.floatbank3_b_level                                        0.04   \n",
       "secondary_cleaner.state.floatbank4_a_air                                          0.26   \n",
       "secondary_cleaner.state.floatbank4_a_level                                        0.32   \n",
       "secondary_cleaner.state.floatbank4_b_air                                          0.16   \n",
       "secondary_cleaner.state.floatbank4_b_level                                        1.00   \n",
       "secondary_cleaner.state.floatbank5_a_air                                         -0.11   \n",
       "secondary_cleaner.state.floatbank5_a_level                                        0.15   \n",
       "secondary_cleaner.state.floatbank5_b_air                                         -0.06   \n",
       "secondary_cleaner.state.floatbank5_b_level                                        0.09   \n",
       "secondary_cleaner.state.floatbank6_a_air                                         -0.34   \n",
       "secondary_cleaner.state.floatbank6_a_level                                        0.05   \n",
       "\n",
       "                                            secondary_cleaner.state.floatbank5_a_air  \\\n",
       "final.output.recovery                                                           0.13   \n",
       "rougher.output.recovery                                                         0.14   \n",
       "primary_cleaner.input.sulfate                                                   0.09   \n",
       "primary_cleaner.input.depressant                                               -0.09   \n",
       "primary_cleaner.input.feed_size                                                -0.19   \n",
       "primary_cleaner.input.xanthate                                                  0.06   \n",
       "primary_cleaner.state.floatbank8_a_air                                          0.41   \n",
       "primary_cleaner.state.floatbank8_a_level                                       -0.04   \n",
       "primary_cleaner.state.floatbank8_b_air                                          0.42   \n",
       "primary_cleaner.state.floatbank8_b_level                                       -0.01   \n",
       "primary_cleaner.state.floatbank8_c_air                                          0.40   \n",
       "primary_cleaner.state.floatbank8_c_level                                       -0.02   \n",
       "primary_cleaner.state.floatbank8_d_air                                          0.41   \n",
       "primary_cleaner.state.floatbank8_d_level                                        0.01   \n",
       "rougher.input.feed_ag                                                          -0.03   \n",
       "rougher.input.feed_pb                                                          -0.07   \n",
       "rougher.input.feed_rate                                                        -0.14   \n",
       "rougher.input.feed_size                                                        -0.12   \n",
       "rougher.input.feed_sol                                                         -0.23   \n",
       "rougher.input.feed_au                                                          -0.04   \n",
       "rougher.input.floatbank10_sulfate                                               0.04   \n",
       "rougher.input.floatbank10_xanthate                                             -0.14   \n",
       "rougher.input.floatbank11_sulfate                                               0.07   \n",
       "rougher.input.floatbank11_xanthate                                             -0.14   \n",
       "rougher.state.floatbank10_a_air                                                -0.04   \n",
       "rougher.state.floatbank10_a_level                                              -0.13   \n",
       "rougher.state.floatbank10_b_air                                                 0.35   \n",
       "rougher.state.floatbank10_b_level                                               0.18   \n",
       "rougher.state.floatbank10_c_air                                                 0.33   \n",
       "rougher.state.floatbank10_c_level                                               0.17   \n",
       "rougher.state.floatbank10_d_air                                                 0.37   \n",
       "rougher.state.floatbank10_d_level                                               0.15   \n",
       "rougher.state.floatbank10_e_air                                                 0.40   \n",
       "rougher.state.floatbank10_e_level                                               0.26   \n",
       "rougher.state.floatbank10_f_air                                                 0.41   \n",
       "rougher.state.floatbank10_f_level                                               0.26   \n",
       "secondary_cleaner.state.floatbank2_a_air                                        0.36   \n",
       "secondary_cleaner.state.floatbank2_a_level                                     -0.01   \n",
       "secondary_cleaner.state.floatbank2_b_air                                        0.51   \n",
       "secondary_cleaner.state.floatbank2_b_level                                     -0.02   \n",
       "secondary_cleaner.state.floatbank3_a_air                                        0.31   \n",
       "secondary_cleaner.state.floatbank3_a_level                                     -0.20   \n",
       "secondary_cleaner.state.floatbank3_b_air                                        0.46   \n",
       "secondary_cleaner.state.floatbank3_b_level                                     -0.17   \n",
       "secondary_cleaner.state.floatbank4_a_air                                        0.52   \n",
       "secondary_cleaner.state.floatbank4_a_level                                      0.14   \n",
       "secondary_cleaner.state.floatbank4_b_air                                        0.62   \n",
       "secondary_cleaner.state.floatbank4_b_level                                     -0.11   \n",
       "secondary_cleaner.state.floatbank5_a_air                                        1.00   \n",
       "secondary_cleaner.state.floatbank5_a_level                                      0.16   \n",
       "secondary_cleaner.state.floatbank5_b_air                                        0.84   \n",
       "secondary_cleaner.state.floatbank5_b_level                                      0.10   \n",
       "secondary_cleaner.state.floatbank6_a_air                                        0.51   \n",
       "secondary_cleaner.state.floatbank6_a_level                                      0.08   \n",
       "\n",
       "                                            secondary_cleaner.state.floatbank5_a_level  \\\n",
       "final.output.recovery                                                             0.09   \n",
       "rougher.output.recovery                                                           0.19   \n",
       "primary_cleaner.input.sulfate                                                     0.13   \n",
       "primary_cleaner.input.depressant                                                 -0.00   \n",
       "primary_cleaner.input.feed_size                                                  -0.06   \n",
       "primary_cleaner.input.xanthate                                                    0.13   \n",
       "primary_cleaner.state.floatbank8_a_air                                            0.27   \n",
       "primary_cleaner.state.floatbank8_a_level                                          0.16   \n",
       "primary_cleaner.state.floatbank8_b_air                                            0.26   \n",
       "primary_cleaner.state.floatbank8_b_level                                          0.03   \n",
       "primary_cleaner.state.floatbank8_c_air                                            0.24   \n",
       "primary_cleaner.state.floatbank8_c_level                                          0.14   \n",
       "primary_cleaner.state.floatbank8_d_air                                            0.26   \n",
       "primary_cleaner.state.floatbank8_d_level                                          0.08   \n",
       "rougher.input.feed_ag                                                            -0.01   \n",
       "rougher.input.feed_pb                                                             0.05   \n",
       "rougher.input.feed_rate                                                           0.09   \n",
       "rougher.input.feed_size                                                           0.04   \n",
       "rougher.input.feed_sol                                                            0.09   \n",
       "rougher.input.feed_au                                                             0.02   \n",
       "rougher.input.floatbank10_sulfate                                                 0.08   \n",
       "rougher.input.floatbank10_xanthate                                                0.13   \n",
       "rougher.input.floatbank11_sulfate                                                 0.11   \n",
       "rougher.input.floatbank11_xanthate                                                0.15   \n",
       "rougher.state.floatbank10_a_air                                                   0.11   \n",
       "rougher.state.floatbank10_a_level                                                 0.12   \n",
       "rougher.state.floatbank10_b_air                                                   0.12   \n",
       "rougher.state.floatbank10_b_level                                                 0.09   \n",
       "rougher.state.floatbank10_c_air                                                   0.09   \n",
       "rougher.state.floatbank10_c_level                                                 0.08   \n",
       "rougher.state.floatbank10_d_air                                                   0.06   \n",
       "rougher.state.floatbank10_d_level                                                 0.05   \n",
       "rougher.state.floatbank10_e_air                                                   0.09   \n",
       "rougher.state.floatbank10_e_level                                                 0.05   \n",
       "rougher.state.floatbank10_f_air                                                   0.09   \n",
       "rougher.state.floatbank10_f_level                                                 0.07   \n",
       "secondary_cleaner.state.floatbank2_a_air                                          0.16   \n",
       "secondary_cleaner.state.floatbank2_a_level                                        0.08   \n",
       "secondary_cleaner.state.floatbank2_b_air                                          0.23   \n",
       "secondary_cleaner.state.floatbank2_b_level                                        0.08   \n",
       "secondary_cleaner.state.floatbank3_a_air                                          0.19   \n",
       "secondary_cleaner.state.floatbank3_a_level                                        0.05   \n",
       "secondary_cleaner.state.floatbank3_b_air                                          0.17   \n",
       "secondary_cleaner.state.floatbank3_b_level                                        0.19   \n",
       "secondary_cleaner.state.floatbank4_a_air                                          0.22   \n",
       "secondary_cleaner.state.floatbank4_a_level                                        0.13   \n",
       "secondary_cleaner.state.floatbank4_b_air                                          0.23   \n",
       "secondary_cleaner.state.floatbank4_b_level                                        0.15   \n",
       "secondary_cleaner.state.floatbank5_a_air                                          0.16   \n",
       "secondary_cleaner.state.floatbank5_a_level                                        1.00   \n",
       "secondary_cleaner.state.floatbank5_b_air                                          0.22   \n",
       "secondary_cleaner.state.floatbank5_b_level                                        0.52   \n",
       "secondary_cleaner.state.floatbank6_a_air                                         -0.01   \n",
       "secondary_cleaner.state.floatbank6_a_level                                        0.40   \n",
       "\n",
       "                                            secondary_cleaner.state.floatbank5_b_air  \\\n",
       "final.output.recovery                                                           0.15   \n",
       "rougher.output.recovery                                                         0.18   \n",
       "primary_cleaner.input.sulfate                                                   0.16   \n",
       "primary_cleaner.input.depressant                                                0.06   \n",
       "primary_cleaner.input.feed_size                                                -0.21   \n",
       "primary_cleaner.input.xanthate                                                  0.08   \n",
       "primary_cleaner.state.floatbank8_a_air                                          0.47   \n",
       "primary_cleaner.state.floatbank8_a_level                                       -0.01   \n",
       "primary_cleaner.state.floatbank8_b_air                                          0.50   \n",
       "primary_cleaner.state.floatbank8_b_level                                        0.01   \n",
       "primary_cleaner.state.floatbank8_c_air                                          0.50   \n",
       "primary_cleaner.state.floatbank8_c_level                                       -0.00   \n",
       "primary_cleaner.state.floatbank8_d_air                                          0.49   \n",
       "primary_cleaner.state.floatbank8_d_level                                        0.01   \n",
       "rougher.input.feed_ag                                                          -0.04   \n",
       "rougher.input.feed_pb                                                          -0.03   \n",
       "rougher.input.feed_rate                                                        -0.07   \n",
       "rougher.input.feed_size                                                        -0.10   \n",
       "rougher.input.feed_sol                                                         -0.17   \n",
       "rougher.input.feed_au                                                          -0.02   \n",
       "rougher.input.floatbank10_sulfate                                               0.14   \n",
       "rougher.input.floatbank10_xanthate                                             -0.04   \n",
       "rougher.input.floatbank11_sulfate                                               0.17   \n",
       "rougher.input.floatbank11_xanthate                                             -0.03   \n",
       "rougher.state.floatbank10_a_air                                                -0.08   \n",
       "rougher.state.floatbank10_a_level                                               0.02   \n",
       "rougher.state.floatbank10_b_air                                                 0.29   \n",
       "rougher.state.floatbank10_b_level                                               0.35   \n",
       "rougher.state.floatbank10_c_air                                                 0.31   \n",
       "rougher.state.floatbank10_c_level                                               0.35   \n",
       "rougher.state.floatbank10_d_air                                                 0.34   \n",
       "rougher.state.floatbank10_d_level                                               0.33   \n",
       "rougher.state.floatbank10_e_air                                                 0.41   \n",
       "rougher.state.floatbank10_e_level                                               0.41   \n",
       "rougher.state.floatbank10_f_air                                                 0.42   \n",
       "rougher.state.floatbank10_f_level                                               0.39   \n",
       "secondary_cleaner.state.floatbank2_a_air                                        0.48   \n",
       "secondary_cleaner.state.floatbank2_a_level                                      0.00   \n",
       "secondary_cleaner.state.floatbank2_b_air                                        0.67   \n",
       "secondary_cleaner.state.floatbank2_b_level                                     -0.01   \n",
       "secondary_cleaner.state.floatbank3_a_air                                        0.53   \n",
       "secondary_cleaner.state.floatbank3_a_level                                     -0.09   \n",
       "secondary_cleaner.state.floatbank3_b_air                                        0.64   \n",
       "secondary_cleaner.state.floatbank3_b_level                                     -0.06   \n",
       "secondary_cleaner.state.floatbank4_a_air                                        0.63   \n",
       "secondary_cleaner.state.floatbank4_a_level                                      0.20   \n",
       "secondary_cleaner.state.floatbank4_b_air                                        0.69   \n",
       "secondary_cleaner.state.floatbank4_b_level                                     -0.06   \n",
       "secondary_cleaner.state.floatbank5_a_air                                        0.84   \n",
       "secondary_cleaner.state.floatbank5_a_level                                      0.22   \n",
       "secondary_cleaner.state.floatbank5_b_air                                        1.00   \n",
       "secondary_cleaner.state.floatbank5_b_level                                      0.13   \n",
       "secondary_cleaner.state.floatbank6_a_air                                        0.46   \n",
       "secondary_cleaner.state.floatbank6_a_level                                      0.16   \n",
       "\n",
       "                                            secondary_cleaner.state.floatbank5_b_level  \\\n",
       "final.output.recovery                                                            -0.02   \n",
       "rougher.output.recovery                                                           0.10   \n",
       "primary_cleaner.input.sulfate                                                     0.07   \n",
       "primary_cleaner.input.depressant                                                 -0.00   \n",
       "primary_cleaner.input.feed_size                                                  -0.05   \n",
       "primary_cleaner.input.xanthate                                                    0.10   \n",
       "primary_cleaner.state.floatbank8_a_air                                            0.16   \n",
       "primary_cleaner.state.floatbank8_a_level                                          0.09   \n",
       "primary_cleaner.state.floatbank8_b_air                                            0.16   \n",
       "primary_cleaner.state.floatbank8_b_level                                          0.00   \n",
       "primary_cleaner.state.floatbank8_c_air                                            0.12   \n",
       "primary_cleaner.state.floatbank8_c_level                                          0.06   \n",
       "primary_cleaner.state.floatbank8_d_air                                            0.16   \n",
       "primary_cleaner.state.floatbank8_d_level                                          0.01   \n",
       "rougher.input.feed_ag                                                             0.04   \n",
       "rougher.input.feed_pb                                                             0.08   \n",
       "rougher.input.feed_rate                                                           0.01   \n",
       "rougher.input.feed_size                                                          -0.00   \n",
       "rougher.input.feed_sol                                                            0.01   \n",
       "rougher.input.feed_au                                                             0.07   \n",
       "rougher.input.floatbank10_sulfate                                                 0.06   \n",
       "rougher.input.floatbank10_xanthate                                                0.08   \n",
       "rougher.input.floatbank11_sulfate                                                 0.07   \n",
       "rougher.input.floatbank11_xanthate                                                0.09   \n",
       "rougher.state.floatbank10_a_air                                                   0.07   \n",
       "rougher.state.floatbank10_a_level                                                 0.01   \n",
       "rougher.state.floatbank10_b_air                                                   0.08   \n",
       "rougher.state.floatbank10_b_level                                                 0.06   \n",
       "rougher.state.floatbank10_c_air                                                   0.07   \n",
       "rougher.state.floatbank10_c_level                                                 0.05   \n",
       "rougher.state.floatbank10_d_air                                                   0.05   \n",
       "rougher.state.floatbank10_d_level                                                 0.04   \n",
       "rougher.state.floatbank10_e_air                                                   0.08   \n",
       "rougher.state.floatbank10_e_level                                                 0.05   \n",
       "rougher.state.floatbank10_f_air                                                   0.07   \n",
       "rougher.state.floatbank10_f_level                                                 0.06   \n",
       "secondary_cleaner.state.floatbank2_a_air                                          0.09   \n",
       "secondary_cleaner.state.floatbank2_a_level                                        0.01   \n",
       "secondary_cleaner.state.floatbank2_b_air                                          0.13   \n",
       "secondary_cleaner.state.floatbank2_b_level                                        0.01   \n",
       "secondary_cleaner.state.floatbank3_a_air                                          0.10   \n",
       "secondary_cleaner.state.floatbank3_a_level                                       -0.02   \n",
       "secondary_cleaner.state.floatbank3_b_air                                          0.09   \n",
       "secondary_cleaner.state.floatbank3_b_level                                        0.05   \n",
       "secondary_cleaner.state.floatbank4_a_air                                          0.13   \n",
       "secondary_cleaner.state.floatbank4_a_level                                        0.04   \n",
       "secondary_cleaner.state.floatbank4_b_air                                          0.15   \n",
       "secondary_cleaner.state.floatbank4_b_level                                        0.09   \n",
       "secondary_cleaner.state.floatbank5_a_air                                          0.10   \n",
       "secondary_cleaner.state.floatbank5_a_level                                        0.52   \n",
       "secondary_cleaner.state.floatbank5_b_air                                          0.13   \n",
       "secondary_cleaner.state.floatbank5_b_level                                        1.00   \n",
       "secondary_cleaner.state.floatbank6_a_air                                          0.03   \n",
       "secondary_cleaner.state.floatbank6_a_level                                        0.34   \n",
       "\n",
       "                                            secondary_cleaner.state.floatbank6_a_air  \\\n",
       "final.output.recovery                                                           0.06   \n",
       "rougher.output.recovery                                                         0.03   \n",
       "primary_cleaner.input.sulfate                                                  -0.13   \n",
       "primary_cleaner.input.depressant                                               -0.20   \n",
       "primary_cleaner.input.feed_size                                                 0.03   \n",
       "primary_cleaner.input.xanthate                                                 -0.22   \n",
       "primary_cleaner.state.floatbank8_a_air                                          0.35   \n",
       "primary_cleaner.state.floatbank8_a_level                                       -0.11   \n",
       "primary_cleaner.state.floatbank8_b_air                                          0.39   \n",
       "primary_cleaner.state.floatbank8_b_level                                       -0.01   \n",
       "primary_cleaner.state.floatbank8_c_air                                          0.49   \n",
       "primary_cleaner.state.floatbank8_c_level                                       -0.09   \n",
       "primary_cleaner.state.floatbank8_d_air                                          0.38   \n",
       "primary_cleaner.state.floatbank8_d_level                                       -0.04   \n",
       "rougher.input.feed_ag                                                           0.21   \n",
       "rougher.input.feed_pb                                                          -0.13   \n",
       "rougher.input.feed_rate                                                        -0.41   \n",
       "rougher.input.feed_size                                                        -0.36   \n",
       "rougher.input.feed_sol                                                         -0.48   \n",
       "rougher.input.feed_au                                                           0.19   \n",
       "rougher.input.floatbank10_sulfate                                              -0.31   \n",
       "rougher.input.floatbank10_xanthate                                             -0.11   \n",
       "rougher.input.floatbank11_sulfate                                              -0.32   \n",
       "rougher.input.floatbank11_xanthate                                             -0.13   \n",
       "rougher.state.floatbank10_a_air                                                -0.33   \n",
       "rougher.state.floatbank10_a_level                                              -0.56   \n",
       "rougher.state.floatbank10_b_air                                                 0.53   \n",
       "rougher.state.floatbank10_b_level                                               0.46   \n",
       "rougher.state.floatbank10_c_air                                                 0.62   \n",
       "rougher.state.floatbank10_c_level                                               0.46   \n",
       "rougher.state.floatbank10_d_air                                                 0.60   \n",
       "rougher.state.floatbank10_d_level                                               0.43   \n",
       "rougher.state.floatbank10_e_air                                                 0.58   \n",
       "rougher.state.floatbank10_e_level                                               0.48   \n",
       "rougher.state.floatbank10_f_air                                                 0.43   \n",
       "rougher.state.floatbank10_f_level                                               0.48   \n",
       "secondary_cleaner.state.floatbank2_a_air                                        0.15   \n",
       "secondary_cleaner.state.floatbank2_a_level                                      0.05   \n",
       "secondary_cleaner.state.floatbank2_b_air                                        0.10   \n",
       "secondary_cleaner.state.floatbank2_b_level                                      0.01   \n",
       "secondary_cleaner.state.floatbank3_a_air                                        0.27   \n",
       "secondary_cleaner.state.floatbank3_a_level                                     -0.13   \n",
       "secondary_cleaner.state.floatbank3_b_air                                        0.40   \n",
       "secondary_cleaner.state.floatbank3_b_level                                     -0.14   \n",
       "secondary_cleaner.state.floatbank4_a_air                                        0.08   \n",
       "secondary_cleaner.state.floatbank4_a_level                                      0.03   \n",
       "secondary_cleaner.state.floatbank4_b_air                                        0.19   \n",
       "secondary_cleaner.state.floatbank4_b_level                                     -0.34   \n",
       "secondary_cleaner.state.floatbank5_a_air                                        0.51   \n",
       "secondary_cleaner.state.floatbank5_a_level                                     -0.01   \n",
       "secondary_cleaner.state.floatbank5_b_air                                        0.46   \n",
       "secondary_cleaner.state.floatbank5_b_level                                      0.03   \n",
       "secondary_cleaner.state.floatbank6_a_air                                        1.00   \n",
       "secondary_cleaner.state.floatbank6_a_level                                      0.19   \n",
       "\n",
       "                                            secondary_cleaner.state.floatbank6_a_level  \n",
       "final.output.recovery                                                             0.06  \n",
       "rougher.output.recovery                                                           0.09  \n",
       "primary_cleaner.input.sulfate                                                     0.03  \n",
       "primary_cleaner.input.depressant                                                  0.03  \n",
       "primary_cleaner.input.feed_size                                                  -0.08  \n",
       "primary_cleaner.input.xanthate                                                    0.08  \n",
       "primary_cleaner.state.floatbank8_a_air                                            0.17  \n",
       "primary_cleaner.state.floatbank8_a_level                                          0.08  \n",
       "primary_cleaner.state.floatbank8_b_air                                            0.19  \n",
       "primary_cleaner.state.floatbank8_b_level                                          0.01  \n",
       "primary_cleaner.state.floatbank8_c_air                                            0.17  \n",
       "primary_cleaner.state.floatbank8_c_level                                          0.07  \n",
       "primary_cleaner.state.floatbank8_d_air                                            0.18  \n",
       "primary_cleaner.state.floatbank8_d_level                                          0.03  \n",
       "rougher.input.feed_ag                                                            -0.00  \n",
       "rougher.input.feed_pb                                                             0.07  \n",
       "rougher.input.feed_rate                                                           0.02  \n",
       "rougher.input.feed_size                                                           0.01  \n",
       "rougher.input.feed_sol                                                            0.04  \n",
       "rougher.input.feed_au                                                             0.04  \n",
       "rougher.input.floatbank10_sulfate                                                 0.07  \n",
       "rougher.input.floatbank10_xanthate                                                0.11  \n",
       "rougher.input.floatbank11_sulfate                                                 0.08  \n",
       "rougher.input.floatbank11_xanthate                                                0.13  \n",
       "rougher.state.floatbank10_a_air                                                   0.05  \n",
       "rougher.state.floatbank10_a_level                                                 0.09  \n",
       "rougher.state.floatbank10_b_air                                                   0.02  \n",
       "rougher.state.floatbank10_b_level                                                 0.03  \n",
       "rougher.state.floatbank10_c_air                                                   0.02  \n",
       "rougher.state.floatbank10_c_level                                                 0.03  \n",
       "rougher.state.floatbank10_d_air                                                   0.01  \n",
       "rougher.state.floatbank10_d_level                                                 0.02  \n",
       "rougher.state.floatbank10_e_air                                                   0.04  \n",
       "rougher.state.floatbank10_e_level                                                 0.06  \n",
       "rougher.state.floatbank10_f_air                                                   0.05  \n",
       "rougher.state.floatbank10_f_level                                                 0.06  \n",
       "secondary_cleaner.state.floatbank2_a_air                                          0.13  \n",
       "secondary_cleaner.state.floatbank2_a_level                                        0.03  \n",
       "secondary_cleaner.state.floatbank2_b_air                                          0.16  \n",
       "secondary_cleaner.state.floatbank2_b_level                                        0.02  \n",
       "secondary_cleaner.state.floatbank3_a_air                                          0.12  \n",
       "secondary_cleaner.state.floatbank3_a_level                                        0.01  \n",
       "secondary_cleaner.state.floatbank3_b_air                                          0.11  \n",
       "secondary_cleaner.state.floatbank3_b_level                                        0.08  \n",
       "secondary_cleaner.state.floatbank4_a_air                                          0.15  \n",
       "secondary_cleaner.state.floatbank4_a_level                                        0.03  \n",
       "secondary_cleaner.state.floatbank4_b_air                                          0.14  \n",
       "secondary_cleaner.state.floatbank4_b_level                                        0.05  \n",
       "secondary_cleaner.state.floatbank5_a_air                                          0.08  \n",
       "secondary_cleaner.state.floatbank5_a_level                                        0.40  \n",
       "secondary_cleaner.state.floatbank5_b_air                                          0.16  \n",
       "secondary_cleaner.state.floatbank5_b_level                                        0.34  \n",
       "secondary_cleaner.state.floatbank6_a_air                                          0.19  \n",
       "secondary_cleaner.state.floatbank6_a_level                                        1.00  \n",
       "\n",
       "[54 rows x 54 columns]"
      ]
     },
     "execution_count": 33,
     "metadata": {},
     "output_type": "execute_result"
    }
   ],
   "source": [
    "# снятие ограничения на количество отображаемых строк\n",
    "pd.set_option('display.max_rows', None)\n",
    "# расчет корреляции между признаками\n",
    "df_test.corr().round(2)"
   ]
  },
  {
   "cell_type": "markdown",
   "id": "1b27c3a9",
   "metadata": {},
   "source": [
    "Сформируем список признаков с сильной корреляцией (более 0,20 и менее -0,20) с целевыми признаками final.output.recovery и rougher.output.recovery для формирования репрезентаривной тестовой выборки. Также включим признаки, значения которых понадобятся нам для дальнейшей работы."
   ]
  },
  {
   "cell_type": "code",
   "execution_count": 34,
   "id": "ed28a1f2",
   "metadata": {
    "scrolled": true
   },
   "outputs": [
    {
     "data": {
      "text/html": [
       "<div>\n",
       "<style scoped>\n",
       "    .dataframe tbody tr th:only-of-type {\n",
       "        vertical-align: middle;\n",
       "    }\n",
       "\n",
       "    .dataframe tbody tr th {\n",
       "        vertical-align: top;\n",
       "    }\n",
       "\n",
       "    .dataframe thead th {\n",
       "        text-align: right;\n",
       "    }\n",
       "</style>\n",
       "<table border=\"1\" class=\"dataframe\">\n",
       "  <thead>\n",
       "    <tr style=\"text-align: right;\">\n",
       "      <th></th>\n",
       "      <th>final.output.recovery</th>\n",
       "      <th>rougher.output.recovery</th>\n",
       "      <th>rougher.input.feed_ag</th>\n",
       "      <th>rougher.input.feed_pb</th>\n",
       "      <th>rougher.input.feed_sol</th>\n",
       "      <th>rougher.input.feed_au</th>\n",
       "      <th>rougher.input.feed_size</th>\n",
       "      <th>primary_cleaner.input.feed_size</th>\n",
       "      <th>primary_cleaner.input.sulfate</th>\n",
       "      <th>primary_cleaner.state.floatbank8_a_air</th>\n",
       "      <th>primary_cleaner.state.floatbank8_b_air</th>\n",
       "      <th>primary_cleaner.state.floatbank8_d_air</th>\n",
       "      <th>rougher.input.floatbank10_xanthate</th>\n",
       "      <th>rougher.input.floatbank11_xanthate</th>\n",
       "      <th>secondary_cleaner.state.floatbank2_b_air</th>\n",
       "      <th>secondary_cleaner.state.floatbank3_b_air</th>\n",
       "      <th>secondary_cleaner.state.floatbank4_a_air</th>\n",
       "      <th>secondary_cleaner.state.floatbank4_b_air</th>\n",
       "    </tr>\n",
       "    <tr>\n",
       "      <th>date</th>\n",
       "      <th></th>\n",
       "      <th></th>\n",
       "      <th></th>\n",
       "      <th></th>\n",
       "      <th></th>\n",
       "      <th></th>\n",
       "      <th></th>\n",
       "      <th></th>\n",
       "      <th></th>\n",
       "      <th></th>\n",
       "      <th></th>\n",
       "      <th></th>\n",
       "      <th></th>\n",
       "      <th></th>\n",
       "      <th></th>\n",
       "      <th></th>\n",
       "      <th></th>\n",
       "      <th></th>\n",
       "    </tr>\n",
       "  </thead>\n",
       "  <tbody>\n",
       "    <tr>\n",
       "      <th>2016-09-01 00:59:59</th>\n",
       "      <td>70.273582</td>\n",
       "      <td>89.993423</td>\n",
       "      <td>13.128569</td>\n",
       "      <td>5.636710</td>\n",
       "      <td>42.022442</td>\n",
       "      <td>12.084103</td>\n",
       "      <td>62.710453</td>\n",
       "      <td>8.080000</td>\n",
       "      <td>210.800903</td>\n",
       "      <td>1398.981323</td>\n",
       "      <td>1399.144897</td>\n",
       "      <td>1399.001709</td>\n",
       "      <td>6.153480</td>\n",
       "      <td>6.150709</td>\n",
       "      <td>14.947606</td>\n",
       "      <td>13.987059</td>\n",
       "      <td>12.023554</td>\n",
       "      <td>8.016657</td>\n",
       "    </tr>\n",
       "    <tr>\n",
       "      <th>2016-09-01 01:59:59</th>\n",
       "      <td>68.910431</td>\n",
       "      <td>88.089661</td>\n",
       "      <td>13.036280</td>\n",
       "      <td>5.526065</td>\n",
       "      <td>41.187904</td>\n",
       "      <td>11.918977</td>\n",
       "      <td>61.961163</td>\n",
       "      <td>8.080000</td>\n",
       "      <td>215.392456</td>\n",
       "      <td>1398.777954</td>\n",
       "      <td>1398.055420</td>\n",
       "      <td>1399.508057</td>\n",
       "      <td>5.999043</td>\n",
       "      <td>6.002315</td>\n",
       "      <td>14.930873</td>\n",
       "      <td>14.092980</td>\n",
       "      <td>12.058140</td>\n",
       "      <td>8.130980</td>\n",
       "    </tr>\n",
       "    <tr>\n",
       "      <th>2016-09-01 02:59:59</th>\n",
       "      <td>68.143211</td>\n",
       "      <td>88.412758</td>\n",
       "      <td>13.138412</td>\n",
       "      <td>5.426561</td>\n",
       "      <td>42.546295</td>\n",
       "      <td>12.091331</td>\n",
       "      <td>66.903809</td>\n",
       "      <td>7.786667</td>\n",
       "      <td>215.259949</td>\n",
       "      <td>1398.493652</td>\n",
       "      <td>1398.860474</td>\n",
       "      <td>1399.497070</td>\n",
       "      <td>5.850632</td>\n",
       "      <td>5.853594</td>\n",
       "      <td>14.996511</td>\n",
       "      <td>14.077881</td>\n",
       "      <td>11.962366</td>\n",
       "      <td>8.096892</td>\n",
       "    </tr>\n",
       "    <tr>\n",
       "      <th>2016-09-01 03:59:59</th>\n",
       "      <td>67.776390</td>\n",
       "      <td>87.360130</td>\n",
       "      <td>12.400507</td>\n",
       "      <td>5.114758</td>\n",
       "      <td>41.060196</td>\n",
       "      <td>12.181598</td>\n",
       "      <td>59.865917</td>\n",
       "      <td>7.640000</td>\n",
       "      <td>215.336243</td>\n",
       "      <td>1399.618164</td>\n",
       "      <td>1397.440063</td>\n",
       "      <td>1401.065186</td>\n",
       "      <td>5.801935</td>\n",
       "      <td>5.803657</td>\n",
       "      <td>14.916674</td>\n",
       "      <td>14.013968</td>\n",
       "      <td>12.033091</td>\n",
       "      <td>8.074945</td>\n",
       "    </tr>\n",
       "    <tr>\n",
       "      <th>2016-09-01 04:59:59</th>\n",
       "      <td>61.467079</td>\n",
       "      <td>83.236366</td>\n",
       "      <td>11.327427</td>\n",
       "      <td>4.767383</td>\n",
       "      <td>41.269161</td>\n",
       "      <td>11.290425</td>\n",
       "      <td>63.315323</td>\n",
       "      <td>7.530000</td>\n",
       "      <td>199.099319</td>\n",
       "      <td>1401.268066</td>\n",
       "      <td>1398.128784</td>\n",
       "      <td>1399.480469</td>\n",
       "      <td>5.738081</td>\n",
       "      <td>5.739635</td>\n",
       "      <td>14.979233</td>\n",
       "      <td>14.009246</td>\n",
       "      <td>12.025367</td>\n",
       "      <td>8.054678</td>\n",
       "    </tr>\n",
       "  </tbody>\n",
       "</table>\n",
       "</div>"
      ],
      "text/plain": [
       "                     final.output.recovery  rougher.output.recovery  \\\n",
       "date                                                                  \n",
       "2016-09-01 00:59:59              70.273582                89.993423   \n",
       "2016-09-01 01:59:59              68.910431                88.089661   \n",
       "2016-09-01 02:59:59              68.143211                88.412758   \n",
       "2016-09-01 03:59:59              67.776390                87.360130   \n",
       "2016-09-01 04:59:59              61.467079                83.236366   \n",
       "\n",
       "                     rougher.input.feed_ag  rougher.input.feed_pb  \\\n",
       "date                                                                \n",
       "2016-09-01 00:59:59              13.128569               5.636710   \n",
       "2016-09-01 01:59:59              13.036280               5.526065   \n",
       "2016-09-01 02:59:59              13.138412               5.426561   \n",
       "2016-09-01 03:59:59              12.400507               5.114758   \n",
       "2016-09-01 04:59:59              11.327427               4.767383   \n",
       "\n",
       "                     rougher.input.feed_sol  rougher.input.feed_au  \\\n",
       "date                                                                 \n",
       "2016-09-01 00:59:59               42.022442              12.084103   \n",
       "2016-09-01 01:59:59               41.187904              11.918977   \n",
       "2016-09-01 02:59:59               42.546295              12.091331   \n",
       "2016-09-01 03:59:59               41.060196              12.181598   \n",
       "2016-09-01 04:59:59               41.269161              11.290425   \n",
       "\n",
       "                     rougher.input.feed_size  primary_cleaner.input.feed_size  \\\n",
       "date                                                                            \n",
       "2016-09-01 00:59:59                62.710453                         8.080000   \n",
       "2016-09-01 01:59:59                61.961163                         8.080000   \n",
       "2016-09-01 02:59:59                66.903809                         7.786667   \n",
       "2016-09-01 03:59:59                59.865917                         7.640000   \n",
       "2016-09-01 04:59:59                63.315323                         7.530000   \n",
       "\n",
       "                     primary_cleaner.input.sulfate  \\\n",
       "date                                                 \n",
       "2016-09-01 00:59:59                     210.800903   \n",
       "2016-09-01 01:59:59                     215.392456   \n",
       "2016-09-01 02:59:59                     215.259949   \n",
       "2016-09-01 03:59:59                     215.336243   \n",
       "2016-09-01 04:59:59                     199.099319   \n",
       "\n",
       "                     primary_cleaner.state.floatbank8_a_air  \\\n",
       "date                                                          \n",
       "2016-09-01 00:59:59                             1398.981323   \n",
       "2016-09-01 01:59:59                             1398.777954   \n",
       "2016-09-01 02:59:59                             1398.493652   \n",
       "2016-09-01 03:59:59                             1399.618164   \n",
       "2016-09-01 04:59:59                             1401.268066   \n",
       "\n",
       "                     primary_cleaner.state.floatbank8_b_air  \\\n",
       "date                                                          \n",
       "2016-09-01 00:59:59                             1399.144897   \n",
       "2016-09-01 01:59:59                             1398.055420   \n",
       "2016-09-01 02:59:59                             1398.860474   \n",
       "2016-09-01 03:59:59                             1397.440063   \n",
       "2016-09-01 04:59:59                             1398.128784   \n",
       "\n",
       "                     primary_cleaner.state.floatbank8_d_air  \\\n",
       "date                                                          \n",
       "2016-09-01 00:59:59                             1399.001709   \n",
       "2016-09-01 01:59:59                             1399.508057   \n",
       "2016-09-01 02:59:59                             1399.497070   \n",
       "2016-09-01 03:59:59                             1401.065186   \n",
       "2016-09-01 04:59:59                             1399.480469   \n",
       "\n",
       "                     rougher.input.floatbank10_xanthate  \\\n",
       "date                                                      \n",
       "2016-09-01 00:59:59                            6.153480   \n",
       "2016-09-01 01:59:59                            5.999043   \n",
       "2016-09-01 02:59:59                            5.850632   \n",
       "2016-09-01 03:59:59                            5.801935   \n",
       "2016-09-01 04:59:59                            5.738081   \n",
       "\n",
       "                     rougher.input.floatbank11_xanthate  \\\n",
       "date                                                      \n",
       "2016-09-01 00:59:59                            6.150709   \n",
       "2016-09-01 01:59:59                            6.002315   \n",
       "2016-09-01 02:59:59                            5.853594   \n",
       "2016-09-01 03:59:59                            5.803657   \n",
       "2016-09-01 04:59:59                            5.739635   \n",
       "\n",
       "                     secondary_cleaner.state.floatbank2_b_air  \\\n",
       "date                                                            \n",
       "2016-09-01 00:59:59                                 14.947606   \n",
       "2016-09-01 01:59:59                                 14.930873   \n",
       "2016-09-01 02:59:59                                 14.996511   \n",
       "2016-09-01 03:59:59                                 14.916674   \n",
       "2016-09-01 04:59:59                                 14.979233   \n",
       "\n",
       "                     secondary_cleaner.state.floatbank3_b_air  \\\n",
       "date                                                            \n",
       "2016-09-01 00:59:59                                 13.987059   \n",
       "2016-09-01 01:59:59                                 14.092980   \n",
       "2016-09-01 02:59:59                                 14.077881   \n",
       "2016-09-01 03:59:59                                 14.013968   \n",
       "2016-09-01 04:59:59                                 14.009246   \n",
       "\n",
       "                     secondary_cleaner.state.floatbank4_a_air  \\\n",
       "date                                                            \n",
       "2016-09-01 00:59:59                                 12.023554   \n",
       "2016-09-01 01:59:59                                 12.058140   \n",
       "2016-09-01 02:59:59                                 11.962366   \n",
       "2016-09-01 03:59:59                                 12.033091   \n",
       "2016-09-01 04:59:59                                 12.025367   \n",
       "\n",
       "                     secondary_cleaner.state.floatbank4_b_air  \n",
       "date                                                           \n",
       "2016-09-01 00:59:59                                  8.016657  \n",
       "2016-09-01 01:59:59                                  8.130980  \n",
       "2016-09-01 02:59:59                                  8.096892  \n",
       "2016-09-01 03:59:59                                  8.074945  \n",
       "2016-09-01 04:59:59                                  8.054678  "
      ]
     },
     "execution_count": 34,
     "metadata": {},
     "output_type": "execute_result"
    }
   ],
   "source": [
    "# формирование выборки с нужными колонками\n",
    "df_test = df_test[\n",
    "    ['final.output.recovery',\n",
    "     'rougher.output.recovery',\n",
    "     'rougher.input.feed_ag',\n",
    "     'rougher.input.feed_pb',\n",
    "     'rougher.input.feed_sol',\n",
    "     'rougher.input.feed_au',\n",
    "     'rougher.input.feed_size',\n",
    "     'primary_cleaner.input.feed_size',\n",
    "     'primary_cleaner.input.sulfate',\n",
    "     'primary_cleaner.state.floatbank8_a_air',\n",
    "     'primary_cleaner.state.floatbank8_b_air',\n",
    "     'primary_cleaner.state.floatbank8_d_air',\n",
    "     'rougher.input.floatbank10_xanthate',\n",
    "     'rougher.input.floatbank11_xanthate',\n",
    "     'secondary_cleaner.state.floatbank2_b_air',\n",
    "     'secondary_cleaner.state.floatbank3_b_air',\n",
    "     'secondary_cleaner.state.floatbank4_a_air',\n",
    "     'secondary_cleaner.state.floatbank4_b_air']\n",
    "     ]\n",
    "# оценка результата\n",
    "df_test.head()                            "
   ]
  },
  {
   "cell_type": "markdown",
   "id": "94f76dd3",
   "metadata": {},
   "source": [
    "Итоговая тестовая выборка содержит 18 колонок с признаками. На следующих шагах для корректного обучения модели обрежем обучающую выборку до такого же набора признаков."
   ]
  },
  {
   "cell_type": "markdown",
   "id": "562d32b7",
   "metadata": {},
   "source": [
    "**Проанализируем и обработаем выбросы в сформированных выборках**"
   ]
  },
  {
   "cell_type": "markdown",
   "id": "9f8143cb",
   "metadata": {},
   "source": [
    "Проверим наличие в обучающей и тестовой выборках выбросов."
   ]
  },
  {
   "cell_type": "markdown",
   "id": "21b54aff",
   "metadata": {},
   "source": [
    "**df_train**"
   ]
  },
  {
   "cell_type": "code",
   "execution_count": 35,
   "id": "6d3cd176",
   "metadata": {
    "scrolled": false
   },
   "outputs": [
    {
     "data": {
      "text/html": [
       "<div>\n",
       "<style scoped>\n",
       "    .dataframe tbody tr th:only-of-type {\n",
       "        vertical-align: middle;\n",
       "    }\n",
       "\n",
       "    .dataframe tbody tr th {\n",
       "        vertical-align: top;\n",
       "    }\n",
       "\n",
       "    .dataframe thead th {\n",
       "        text-align: right;\n",
       "    }\n",
       "</style>\n",
       "<table border=\"1\" class=\"dataframe\">\n",
       "  <thead>\n",
       "    <tr style=\"text-align: right;\">\n",
       "      <th></th>\n",
       "      <th>final.output.concentrate_ag</th>\n",
       "      <th>final.output.concentrate_pb</th>\n",
       "      <th>final.output.concentrate_sol</th>\n",
       "      <th>final.output.concentrate_au</th>\n",
       "      <th>final.output.recovery</th>\n",
       "      <th>final.output.tail_ag</th>\n",
       "      <th>final.output.tail_pb</th>\n",
       "      <th>final.output.tail_sol</th>\n",
       "      <th>final.output.tail_au</th>\n",
       "      <th>primary_cleaner.input.sulfate</th>\n",
       "      <th>primary_cleaner.input.depressant</th>\n",
       "      <th>primary_cleaner.input.feed_size</th>\n",
       "      <th>primary_cleaner.input.xanthate</th>\n",
       "      <th>primary_cleaner.output.concentrate_ag</th>\n",
       "      <th>primary_cleaner.output.concentrate_pb</th>\n",
       "      <th>primary_cleaner.output.concentrate_sol</th>\n",
       "      <th>primary_cleaner.output.concentrate_au</th>\n",
       "      <th>primary_cleaner.output.tail_ag</th>\n",
       "      <th>primary_cleaner.output.tail_pb</th>\n",
       "      <th>primary_cleaner.output.tail_sol</th>\n",
       "      <th>primary_cleaner.output.tail_au</th>\n",
       "      <th>primary_cleaner.state.floatbank8_a_air</th>\n",
       "      <th>primary_cleaner.state.floatbank8_a_level</th>\n",
       "      <th>primary_cleaner.state.floatbank8_b_air</th>\n",
       "      <th>primary_cleaner.state.floatbank8_b_level</th>\n",
       "      <th>primary_cleaner.state.floatbank8_c_air</th>\n",
       "      <th>primary_cleaner.state.floatbank8_c_level</th>\n",
       "      <th>primary_cleaner.state.floatbank8_d_air</th>\n",
       "      <th>primary_cleaner.state.floatbank8_d_level</th>\n",
       "      <th>rougher.calculation.sulfate_to_au_concentrate</th>\n",
       "      <th>rougher.calculation.floatbank10_sulfate_to_au_feed</th>\n",
       "      <th>rougher.calculation.floatbank11_sulfate_to_au_feed</th>\n",
       "      <th>rougher.calculation.au_pb_ratio</th>\n",
       "      <th>rougher.input.feed_ag</th>\n",
       "      <th>rougher.input.feed_pb</th>\n",
       "      <th>rougher.input.feed_rate</th>\n",
       "      <th>rougher.input.feed_size</th>\n",
       "      <th>rougher.input.feed_sol</th>\n",
       "      <th>rougher.input.feed_au</th>\n",
       "      <th>rougher.input.floatbank10_sulfate</th>\n",
       "      <th>rougher.input.floatbank10_xanthate</th>\n",
       "      <th>rougher.input.floatbank11_sulfate</th>\n",
       "      <th>rougher.input.floatbank11_xanthate</th>\n",
       "      <th>rougher.output.concentrate_ag</th>\n",
       "      <th>rougher.output.concentrate_pb</th>\n",
       "      <th>rougher.output.concentrate_sol</th>\n",
       "      <th>rougher.output.concentrate_au</th>\n",
       "      <th>rougher.output.recovery</th>\n",
       "      <th>rougher.output.tail_ag</th>\n",
       "      <th>rougher.output.tail_pb</th>\n",
       "      <th>rougher.output.tail_sol</th>\n",
       "      <th>rougher.output.tail_au</th>\n",
       "      <th>rougher.state.floatbank10_a_air</th>\n",
       "      <th>rougher.state.floatbank10_a_level</th>\n",
       "      <th>rougher.state.floatbank10_b_air</th>\n",
       "      <th>rougher.state.floatbank10_b_level</th>\n",
       "      <th>rougher.state.floatbank10_c_air</th>\n",
       "      <th>rougher.state.floatbank10_c_level</th>\n",
       "      <th>rougher.state.floatbank10_d_air</th>\n",
       "      <th>rougher.state.floatbank10_d_level</th>\n",
       "      <th>rougher.state.floatbank10_e_air</th>\n",
       "      <th>rougher.state.floatbank10_e_level</th>\n",
       "      <th>rougher.state.floatbank10_f_air</th>\n",
       "      <th>rougher.state.floatbank10_f_level</th>\n",
       "      <th>secondary_cleaner.output.tail_ag</th>\n",
       "      <th>secondary_cleaner.output.tail_pb</th>\n",
       "      <th>secondary_cleaner.output.tail_sol</th>\n",
       "      <th>secondary_cleaner.output.tail_au</th>\n",
       "      <th>secondary_cleaner.state.floatbank2_a_air</th>\n",
       "      <th>secondary_cleaner.state.floatbank2_a_level</th>\n",
       "      <th>secondary_cleaner.state.floatbank2_b_air</th>\n",
       "      <th>secondary_cleaner.state.floatbank2_b_level</th>\n",
       "      <th>secondary_cleaner.state.floatbank3_a_air</th>\n",
       "      <th>secondary_cleaner.state.floatbank3_a_level</th>\n",
       "      <th>secondary_cleaner.state.floatbank3_b_air</th>\n",
       "      <th>secondary_cleaner.state.floatbank3_b_level</th>\n",
       "      <th>secondary_cleaner.state.floatbank4_a_air</th>\n",
       "      <th>secondary_cleaner.state.floatbank4_a_level</th>\n",
       "      <th>secondary_cleaner.state.floatbank4_b_air</th>\n",
       "      <th>secondary_cleaner.state.floatbank4_b_level</th>\n",
       "      <th>secondary_cleaner.state.floatbank5_a_air</th>\n",
       "      <th>secondary_cleaner.state.floatbank5_a_level</th>\n",
       "      <th>secondary_cleaner.state.floatbank5_b_air</th>\n",
       "      <th>secondary_cleaner.state.floatbank5_b_level</th>\n",
       "      <th>secondary_cleaner.state.floatbank6_a_air</th>\n",
       "      <th>secondary_cleaner.state.floatbank6_a_level</th>\n",
       "    </tr>\n",
       "  </thead>\n",
       "  <tbody>\n",
       "    <tr>\n",
       "      <th>count</th>\n",
       "      <td>14149.00</td>\n",
       "      <td>14149.00</td>\n",
       "      <td>14149.00</td>\n",
       "      <td>14149.00</td>\n",
       "      <td>14149.00</td>\n",
       "      <td>14149.00</td>\n",
       "      <td>14149.00</td>\n",
       "      <td>14149.00</td>\n",
       "      <td>14149.00</td>\n",
       "      <td>14149.00</td>\n",
       "      <td>14149.00</td>\n",
       "      <td>14149.00</td>\n",
       "      <td>14149.00</td>\n",
       "      <td>14149.00</td>\n",
       "      <td>14149.00</td>\n",
       "      <td>14149.00</td>\n",
       "      <td>14149.00</td>\n",
       "      <td>14149.00</td>\n",
       "      <td>14149.00</td>\n",
       "      <td>14149.00</td>\n",
       "      <td>14149.00</td>\n",
       "      <td>14149.00</td>\n",
       "      <td>14149.00</td>\n",
       "      <td>14149.00</td>\n",
       "      <td>14149.00</td>\n",
       "      <td>14149.00</td>\n",
       "      <td>14149.00</td>\n",
       "      <td>14149.00</td>\n",
       "      <td>14149.00</td>\n",
       "      <td>14149.00</td>\n",
       "      <td>14149.00</td>\n",
       "      <td>14149.00</td>\n",
       "      <td>14149.00</td>\n",
       "      <td>14149.00</td>\n",
       "      <td>14149.00</td>\n",
       "      <td>14149.00</td>\n",
       "      <td>14149.00</td>\n",
       "      <td>14149.00</td>\n",
       "      <td>14149.00</td>\n",
       "      <td>14149.00</td>\n",
       "      <td>14149.00</td>\n",
       "      <td>14149.00</td>\n",
       "      <td>14149.00</td>\n",
       "      <td>14149.00</td>\n",
       "      <td>14149.00</td>\n",
       "      <td>14149.00</td>\n",
       "      <td>14149.00</td>\n",
       "      <td>14149.00</td>\n",
       "      <td>14149.00</td>\n",
       "      <td>14149.00</td>\n",
       "      <td>14149.00</td>\n",
       "      <td>14149.00</td>\n",
       "      <td>14149.00</td>\n",
       "      <td>14149.00</td>\n",
       "      <td>14149.00</td>\n",
       "      <td>14149.00</td>\n",
       "      <td>14149.00</td>\n",
       "      <td>14149.00</td>\n",
       "      <td>14149.00</td>\n",
       "      <td>14149.00</td>\n",
       "      <td>14149.00</td>\n",
       "      <td>14149.00</td>\n",
       "      <td>14149.00</td>\n",
       "      <td>14149.00</td>\n",
       "      <td>14149.00</td>\n",
       "      <td>14149.00</td>\n",
       "      <td>14149.00</td>\n",
       "      <td>14149.00</td>\n",
       "      <td>14149.00</td>\n",
       "      <td>14149.00</td>\n",
       "      <td>14149.00</td>\n",
       "      <td>14149.00</td>\n",
       "      <td>14149.00</td>\n",
       "      <td>14149.00</td>\n",
       "      <td>14149.00</td>\n",
       "      <td>14149.00</td>\n",
       "      <td>14149.00</td>\n",
       "      <td>14149.00</td>\n",
       "      <td>14149.00</td>\n",
       "      <td>14149.00</td>\n",
       "      <td>14149.00</td>\n",
       "      <td>14149.00</td>\n",
       "      <td>14149.00</td>\n",
       "      <td>14149.00</td>\n",
       "      <td>14149.00</td>\n",
       "      <td>14149.00</td>\n",
       "    </tr>\n",
       "    <tr>\n",
       "      <th>mean</th>\n",
       "      <td>5.14</td>\n",
       "      <td>10.13</td>\n",
       "      <td>9.11</td>\n",
       "      <td>44.00</td>\n",
       "      <td>66.52</td>\n",
       "      <td>9.61</td>\n",
       "      <td>2.58</td>\n",
       "      <td>10.51</td>\n",
       "      <td>2.92</td>\n",
       "      <td>133.21</td>\n",
       "      <td>8.86</td>\n",
       "      <td>7.32</td>\n",
       "      <td>0.88</td>\n",
       "      <td>8.20</td>\n",
       "      <td>9.57</td>\n",
       "      <td>10.02</td>\n",
       "      <td>32.39</td>\n",
       "      <td>16.30</td>\n",
       "      <td>3.44</td>\n",
       "      <td>7.52</td>\n",
       "      <td>3.84</td>\n",
       "      <td>1608.01</td>\n",
       "      <td>-488.78</td>\n",
       "      <td>1608.62</td>\n",
       "      <td>-489.17</td>\n",
       "      <td>1608.88</td>\n",
       "      <td>-489.61</td>\n",
       "      <td>1542.26</td>\n",
       "      <td>-483.46</td>\n",
       "      <td>40382.62</td>\n",
       "      <td>3456.59</td>\n",
       "      <td>3253.35</td>\n",
       "      <td>2.37</td>\n",
       "      <td>8.58</td>\n",
       "      <td>3.51</td>\n",
       "      <td>473.94</td>\n",
       "      <td>60.24</td>\n",
       "      <td>36.29</td>\n",
       "      <td>7.87</td>\n",
       "      <td>11.75</td>\n",
       "      <td>5.85</td>\n",
       "      <td>11.37</td>\n",
       "      <td>5.80</td>\n",
       "      <td>11.78</td>\n",
       "      <td>7.66</td>\n",
       "      <td>28.29</td>\n",
       "      <td>19.44</td>\n",
       "      <td>82.70</td>\n",
       "      <td>5.57</td>\n",
       "      <td>0.65</td>\n",
       "      <td>17.88</td>\n",
       "      <td>1.76</td>\n",
       "      <td>1124.72</td>\n",
       "      <td>-369.47</td>\n",
       "      <td>1320.72</td>\n",
       "      <td>-464.26</td>\n",
       "      <td>1299.38</td>\n",
       "      <td>-465.06</td>\n",
       "      <td>1210.34</td>\n",
       "      <td>-465.46</td>\n",
       "      <td>1084.33</td>\n",
       "      <td>-464.92</td>\n",
       "      <td>1035.49</td>\n",
       "      <td>-464.69</td>\n",
       "      <td>14.28</td>\n",
       "      <td>5.85</td>\n",
       "      <td>6.27</td>\n",
       "      <td>4.25</td>\n",
       "      <td>29.69</td>\n",
       "      <td>-502.22</td>\n",
       "      <td>24.90</td>\n",
       "      <td>-503.70</td>\n",
       "      <td>29.24</td>\n",
       "      <td>-478.25</td>\n",
       "      <td>22.66</td>\n",
       "      <td>-488.92</td>\n",
       "      <td>19.98</td>\n",
       "      <td>-478.70</td>\n",
       "      <td>15.49</td>\n",
       "      <td>-460.24</td>\n",
       "      <td>16.77</td>\n",
       "      <td>-483.96</td>\n",
       "      <td>13.06</td>\n",
       "      <td>-483.97</td>\n",
       "      <td>19.58</td>\n",
       "      <td>-506.80</td>\n",
       "    </tr>\n",
       "    <tr>\n",
       "      <th>std</th>\n",
       "      <td>1.37</td>\n",
       "      <td>1.65</td>\n",
       "      <td>2.89</td>\n",
       "      <td>4.91</td>\n",
       "      <td>10.30</td>\n",
       "      <td>2.32</td>\n",
       "      <td>0.98</td>\n",
       "      <td>3.00</td>\n",
       "      <td>0.90</td>\n",
       "      <td>39.60</td>\n",
       "      <td>3.38</td>\n",
       "      <td>0.61</td>\n",
       "      <td>0.38</td>\n",
       "      <td>2.01</td>\n",
       "      <td>2.71</td>\n",
       "      <td>4.11</td>\n",
       "      <td>5.80</td>\n",
       "      <td>3.74</td>\n",
       "      <td>1.49</td>\n",
       "      <td>2.15</td>\n",
       "      <td>1.60</td>\n",
       "      <td>128.38</td>\n",
       "      <td>35.70</td>\n",
       "      <td>131.10</td>\n",
       "      <td>33.60</td>\n",
       "      <td>134.26</td>\n",
       "      <td>35.62</td>\n",
       "      <td>278.38</td>\n",
       "      <td>47.10</td>\n",
       "      <td>380130.19</td>\n",
       "      <td>5772.31</td>\n",
       "      <td>6753.05</td>\n",
       "      <td>0.87</td>\n",
       "      <td>1.90</td>\n",
       "      <td>1.09</td>\n",
       "      <td>104.14</td>\n",
       "      <td>23.01</td>\n",
       "      <td>4.98</td>\n",
       "      <td>1.92</td>\n",
       "      <td>3.31</td>\n",
       "      <td>1.11</td>\n",
       "      <td>3.80</td>\n",
       "      <td>1.24</td>\n",
       "      <td>2.73</td>\n",
       "      <td>1.86</td>\n",
       "      <td>6.12</td>\n",
       "      <td>3.77</td>\n",
       "      <td>14.48</td>\n",
       "      <td>1.04</td>\n",
       "      <td>0.26</td>\n",
       "      <td>3.43</td>\n",
       "      <td>0.71</td>\n",
       "      <td>169.31</td>\n",
       "      <td>93.96</td>\n",
       "      <td>183.16</td>\n",
       "      <td>57.40</td>\n",
       "      <td>213.41</td>\n",
       "      <td>55.90</td>\n",
       "      <td>210.43</td>\n",
       "      <td>55.77</td>\n",
       "      <td>186.26</td>\n",
       "      <td>56.60</td>\n",
       "      <td>175.05</td>\n",
       "      <td>56.65</td>\n",
       "      <td>4.48</td>\n",
       "      <td>2.86</td>\n",
       "      <td>4.36</td>\n",
       "      <td>2.39</td>\n",
       "      <td>5.81</td>\n",
       "      <td>60.28</td>\n",
       "      <td>6.02</td>\n",
       "      <td>62.84</td>\n",
       "      <td>5.64</td>\n",
       "      <td>54.65</td>\n",
       "      <td>5.00</td>\n",
       "      <td>41.93</td>\n",
       "      <td>5.66</td>\n",
       "      <td>50.74</td>\n",
       "      <td>5.26</td>\n",
       "      <td>58.85</td>\n",
       "      <td>5.83</td>\n",
       "      <td>37.89</td>\n",
       "      <td>5.77</td>\n",
       "      <td>39.21</td>\n",
       "      <td>5.76</td>\n",
       "      <td>37.09</td>\n",
       "    </tr>\n",
       "    <tr>\n",
       "      <th>min</th>\n",
       "      <td>0.00</td>\n",
       "      <td>0.00</td>\n",
       "      <td>0.00</td>\n",
       "      <td>0.00</td>\n",
       "      <td>0.00</td>\n",
       "      <td>0.00</td>\n",
       "      <td>0.00</td>\n",
       "      <td>0.00</td>\n",
       "      <td>0.00</td>\n",
       "      <td>0.00</td>\n",
       "      <td>0.00</td>\n",
       "      <td>1.08</td>\n",
       "      <td>0.00</td>\n",
       "      <td>0.00</td>\n",
       "      <td>0.00</td>\n",
       "      <td>0.00</td>\n",
       "      <td>0.00</td>\n",
       "      <td>0.00</td>\n",
       "      <td>0.00</td>\n",
       "      <td>0.00</td>\n",
       "      <td>0.00</td>\n",
       "      <td>0.01</td>\n",
       "      <td>-798.64</td>\n",
       "      <td>0.01</td>\n",
       "      <td>-740.12</td>\n",
       "      <td>0.02</td>\n",
       "      <td>-799.80</td>\n",
       "      <td>0.01</td>\n",
       "      <td>-799.79</td>\n",
       "      <td>-42235196.00</td>\n",
       "      <td>-486.60</td>\n",
       "      <td>-264.98</td>\n",
       "      <td>-0.01</td>\n",
       "      <td>0.01</td>\n",
       "      <td>0.01</td>\n",
       "      <td>0.01</td>\n",
       "      <td>9.66</td>\n",
       "      <td>0.01</td>\n",
       "      <td>0.01</td>\n",
       "      <td>0.00</td>\n",
       "      <td>0.00</td>\n",
       "      <td>0.00</td>\n",
       "      <td>0.00</td>\n",
       "      <td>0.00</td>\n",
       "      <td>0.00</td>\n",
       "      <td>0.00</td>\n",
       "      <td>0.00</td>\n",
       "      <td>0.00</td>\n",
       "      <td>0.59</td>\n",
       "      <td>0.01</td>\n",
       "      <td>10.01</td>\n",
       "      <td>0.02</td>\n",
       "      <td>-0.04</td>\n",
       "      <td>-650.20</td>\n",
       "      <td>-0.65</td>\n",
       "      <td>-650.26</td>\n",
       "      <td>-0.04</td>\n",
       "      <td>-641.00</td>\n",
       "      <td>-0.55</td>\n",
       "      <td>-640.52</td>\n",
       "      <td>-1.97</td>\n",
       "      <td>-649.44</td>\n",
       "      <td>-2.43</td>\n",
       "      <td>-649.88</td>\n",
       "      <td>0.00</td>\n",
       "      <td>0.00</td>\n",
       "      <td>0.00</td>\n",
       "      <td>0.00</td>\n",
       "      <td>0.08</td>\n",
       "      <td>-799.61</td>\n",
       "      <td>0.00</td>\n",
       "      <td>-799.87</td>\n",
       "      <td>0.00</td>\n",
       "      <td>-799.61</td>\n",
       "      <td>0.00</td>\n",
       "      <td>-759.18</td>\n",
       "      <td>0.00</td>\n",
       "      <td>-799.71</td>\n",
       "      <td>0.00</td>\n",
       "      <td>-799.89</td>\n",
       "      <td>-0.37</td>\n",
       "      <td>-797.14</td>\n",
       "      <td>0.65</td>\n",
       "      <td>-800.01</td>\n",
       "      <td>0.20</td>\n",
       "      <td>-809.40</td>\n",
       "    </tr>\n",
       "    <tr>\n",
       "      <th>25%</th>\n",
       "      <td>4.21</td>\n",
       "      <td>9.30</td>\n",
       "      <td>7.42</td>\n",
       "      <td>43.28</td>\n",
       "      <td>62.55</td>\n",
       "      <td>8.00</td>\n",
       "      <td>1.89</td>\n",
       "      <td>8.81</td>\n",
       "      <td>2.37</td>\n",
       "      <td>106.86</td>\n",
       "      <td>6.04</td>\n",
       "      <td>6.96</td>\n",
       "      <td>0.60</td>\n",
       "      <td>7.11</td>\n",
       "      <td>8.32</td>\n",
       "      <td>7.38</td>\n",
       "      <td>30.86</td>\n",
       "      <td>13.87</td>\n",
       "      <td>2.42</td>\n",
       "      <td>6.32</td>\n",
       "      <td>2.87</td>\n",
       "      <td>1595.70</td>\n",
       "      <td>-500.29</td>\n",
       "      <td>1558.96</td>\n",
       "      <td>-500.38</td>\n",
       "      <td>1549.87</td>\n",
       "      <td>-500.60</td>\n",
       "      <td>1452.70</td>\n",
       "      <td>-500.46</td>\n",
       "      <td>39994.39</td>\n",
       "      <td>2527.11</td>\n",
       "      <td>2512.20</td>\n",
       "      <td>2.00</td>\n",
       "      <td>7.13</td>\n",
       "      <td>2.77</td>\n",
       "      <td>420.72</td>\n",
       "      <td>48.97</td>\n",
       "      <td>34.09</td>\n",
       "      <td>6.60</td>\n",
       "      <td>9.84</td>\n",
       "      <td>5.11</td>\n",
       "      <td>9.50</td>\n",
       "      <td>5.10</td>\n",
       "      <td>10.49</td>\n",
       "      <td>6.85</td>\n",
       "      <td>26.70</td>\n",
       "      <td>18.43</td>\n",
       "      <td>79.99</td>\n",
       "      <td>4.92</td>\n",
       "      <td>0.47</td>\n",
       "      <td>15.69</td>\n",
       "      <td>1.31</td>\n",
       "      <td>999.80</td>\n",
       "      <td>-499.79</td>\n",
       "      <td>1199.37</td>\n",
       "      <td>-500.18</td>\n",
       "      <td>1103.10</td>\n",
       "      <td>-500.21</td>\n",
       "      <td>1059.71</td>\n",
       "      <td>-500.36</td>\n",
       "      <td>951.25</td>\n",
       "      <td>-500.25</td>\n",
       "      <td>900.97</td>\n",
       "      <td>-500.48</td>\n",
       "      <td>12.18</td>\n",
       "      <td>3.98</td>\n",
       "      <td>2.15</td>\n",
       "      <td>3.15</td>\n",
       "      <td>25.11</td>\n",
       "      <td>-500.25</td>\n",
       "      <td>22.04</td>\n",
       "      <td>-500.27</td>\n",
       "      <td>24.99</td>\n",
       "      <td>-500.18</td>\n",
       "      <td>19.95</td>\n",
       "      <td>-500.11</td>\n",
       "      <td>14.99</td>\n",
       "      <td>-500.63</td>\n",
       "      <td>11.89</td>\n",
       "      <td>-500.15</td>\n",
       "      <td>11.08</td>\n",
       "      <td>-500.36</td>\n",
       "      <td>8.99</td>\n",
       "      <td>-500.11</td>\n",
       "      <td>14.99</td>\n",
       "      <td>-500.75</td>\n",
       "    </tr>\n",
       "    <tr>\n",
       "      <th>50%</th>\n",
       "      <td>4.99</td>\n",
       "      <td>10.30</td>\n",
       "      <td>8.80</td>\n",
       "      <td>44.87</td>\n",
       "      <td>67.43</td>\n",
       "      <td>9.48</td>\n",
       "      <td>2.58</td>\n",
       "      <td>10.51</td>\n",
       "      <td>2.85</td>\n",
       "      <td>133.00</td>\n",
       "      <td>8.03</td>\n",
       "      <td>7.29</td>\n",
       "      <td>0.89</td>\n",
       "      <td>8.23</td>\n",
       "      <td>9.92</td>\n",
       "      <td>9.65</td>\n",
       "      <td>33.23</td>\n",
       "      <td>15.80</td>\n",
       "      <td>3.22</td>\n",
       "      <td>7.71</td>\n",
       "      <td>3.51</td>\n",
       "      <td>1601.83</td>\n",
       "      <td>-499.91</td>\n",
       "      <td>1601.82</td>\n",
       "      <td>-499.94</td>\n",
       "      <td>1601.57</td>\n",
       "      <td>-499.87</td>\n",
       "      <td>1600.17</td>\n",
       "      <td>-499.83</td>\n",
       "      <td>43683.92</td>\n",
       "      <td>2976.13</td>\n",
       "      <td>2899.89</td>\n",
       "      <td>2.25</td>\n",
       "      <td>8.16</td>\n",
       "      <td>3.41</td>\n",
       "      <td>499.45</td>\n",
       "      <td>55.27</td>\n",
       "      <td>37.01</td>\n",
       "      <td>7.65</td>\n",
       "      <td>11.66</td>\n",
       "      <td>5.95</td>\n",
       "      <td>11.38</td>\n",
       "      <td>5.99</td>\n",
       "      <td>11.75</td>\n",
       "      <td>7.76</td>\n",
       "      <td>29.25</td>\n",
       "      <td>19.95</td>\n",
       "      <td>85.30</td>\n",
       "      <td>5.72</td>\n",
       "      <td>0.63</td>\n",
       "      <td>18.02</td>\n",
       "      <td>1.75</td>\n",
       "      <td>1001.68</td>\n",
       "      <td>-300.18</td>\n",
       "      <td>1301.37</td>\n",
       "      <td>-499.76</td>\n",
       "      <td>1300.21</td>\n",
       "      <td>-499.68</td>\n",
       "      <td>1200.74</td>\n",
       "      <td>-499.47</td>\n",
       "      <td>1050.16</td>\n",
       "      <td>-499.61</td>\n",
       "      <td>1000.05</td>\n",
       "      <td>-499.36</td>\n",
       "      <td>15.36</td>\n",
       "      <td>5.44</td>\n",
       "      <td>6.18</td>\n",
       "      <td>3.98</td>\n",
       "      <td>30.03</td>\n",
       "      <td>-499.96</td>\n",
       "      <td>27.02</td>\n",
       "      <td>-500.01</td>\n",
       "      <td>28.02</td>\n",
       "      <td>-499.88</td>\n",
       "      <td>22.04</td>\n",
       "      <td>-499.97</td>\n",
       "      <td>20.00</td>\n",
       "      <td>-499.68</td>\n",
       "      <td>14.98</td>\n",
       "      <td>-499.39</td>\n",
       "      <td>17.93</td>\n",
       "      <td>-499.70</td>\n",
       "      <td>12.00</td>\n",
       "      <td>-499.91</td>\n",
       "      <td>19.98</td>\n",
       "      <td>-500.06</td>\n",
       "    </tr>\n",
       "    <tr>\n",
       "      <th>75%</th>\n",
       "      <td>5.86</td>\n",
       "      <td>11.17</td>\n",
       "      <td>10.45</td>\n",
       "      <td>46.17</td>\n",
       "      <td>72.35</td>\n",
       "      <td>11.00</td>\n",
       "      <td>3.24</td>\n",
       "      <td>11.93</td>\n",
       "      <td>3.43</td>\n",
       "      <td>159.83</td>\n",
       "      <td>11.52</td>\n",
       "      <td>7.70</td>\n",
       "      <td>1.10</td>\n",
       "      <td>9.50</td>\n",
       "      <td>11.30</td>\n",
       "      <td>12.97</td>\n",
       "      <td>35.33</td>\n",
       "      <td>18.45</td>\n",
       "      <td>4.25</td>\n",
       "      <td>8.91</td>\n",
       "      <td>4.49</td>\n",
       "      <td>1699.72</td>\n",
       "      <td>-499.38</td>\n",
       "      <td>1700.21</td>\n",
       "      <td>-499.39</td>\n",
       "      <td>1700.47</td>\n",
       "      <td>-498.80</td>\n",
       "      <td>1699.36</td>\n",
       "      <td>-498.48</td>\n",
       "      <td>47759.46</td>\n",
       "      <td>3716.34</td>\n",
       "      <td>3596.53</td>\n",
       "      <td>2.66</td>\n",
       "      <td>9.92</td>\n",
       "      <td>4.22</td>\n",
       "      <td>547.33</td>\n",
       "      <td>66.01</td>\n",
       "      <td>39.41</td>\n",
       "      <td>9.07</td>\n",
       "      <td>13.58</td>\n",
       "      <td>6.60</td>\n",
       "      <td>13.50</td>\n",
       "      <td>6.64</td>\n",
       "      <td>13.43</td>\n",
       "      <td>8.60</td>\n",
       "      <td>31.74</td>\n",
       "      <td>21.39</td>\n",
       "      <td>90.17</td>\n",
       "      <td>6.31</td>\n",
       "      <td>0.79</td>\n",
       "      <td>19.94</td>\n",
       "      <td>2.19</td>\n",
       "      <td>1299.51</td>\n",
       "      <td>-299.96</td>\n",
       "      <td>1449.56</td>\n",
       "      <td>-400.43</td>\n",
       "      <td>1450.35</td>\n",
       "      <td>-400.66</td>\n",
       "      <td>1344.38</td>\n",
       "      <td>-401.05</td>\n",
       "      <td>1199.90</td>\n",
       "      <td>-400.60</td>\n",
       "      <td>1100.17</td>\n",
       "      <td>-401.01</td>\n",
       "      <td>17.23</td>\n",
       "      <td>7.80</td>\n",
       "      <td>10.29</td>\n",
       "      <td>4.88</td>\n",
       "      <td>34.90</td>\n",
       "      <td>-499.59</td>\n",
       "      <td>28.94</td>\n",
       "      <td>-499.76</td>\n",
       "      <td>34.99</td>\n",
       "      <td>-437.07</td>\n",
       "      <td>25.97</td>\n",
       "      <td>-499.76</td>\n",
       "      <td>24.99</td>\n",
       "      <td>-477.49</td>\n",
       "      <td>20.06</td>\n",
       "      <td>-400.04</td>\n",
       "      <td>21.35</td>\n",
       "      <td>-487.86</td>\n",
       "      <td>17.98</td>\n",
       "      <td>-453.27</td>\n",
       "      <td>24.99</td>\n",
       "      <td>-499.54</td>\n",
       "    </tr>\n",
       "    <tr>\n",
       "      <th>max</th>\n",
       "      <td>16.00</td>\n",
       "      <td>17.03</td>\n",
       "      <td>18.12</td>\n",
       "      <td>52.76</td>\n",
       "      <td>100.00</td>\n",
       "      <td>19.55</td>\n",
       "      <td>5.64</td>\n",
       "      <td>22.32</td>\n",
       "      <td>8.20</td>\n",
       "      <td>250.13</td>\n",
       "      <td>20.05</td>\n",
       "      <td>10.47</td>\n",
       "      <td>2.51</td>\n",
       "      <td>16.08</td>\n",
       "      <td>17.08</td>\n",
       "      <td>22.28</td>\n",
       "      <td>45.93</td>\n",
       "      <td>29.46</td>\n",
       "      <td>9.63</td>\n",
       "      <td>20.62</td>\n",
       "      <td>17.79</td>\n",
       "      <td>2079.53</td>\n",
       "      <td>-330.13</td>\n",
       "      <td>2114.91</td>\n",
       "      <td>-347.35</td>\n",
       "      <td>2013.16</td>\n",
       "      <td>-346.65</td>\n",
       "      <td>2398.90</td>\n",
       "      <td>-30.60</td>\n",
       "      <td>3428099.00</td>\n",
       "      <td>629639.00</td>\n",
       "      <td>718684.94</td>\n",
       "      <td>39.38</td>\n",
       "      <td>14.60</td>\n",
       "      <td>7.14</td>\n",
       "      <td>717.51</td>\n",
       "      <td>484.97</td>\n",
       "      <td>48.36</td>\n",
       "      <td>13.13</td>\n",
       "      <td>36.12</td>\n",
       "      <td>9.70</td>\n",
       "      <td>37.98</td>\n",
       "      <td>9.70</td>\n",
       "      <td>24.48</td>\n",
       "      <td>13.62</td>\n",
       "      <td>38.35</td>\n",
       "      <td>28.15</td>\n",
       "      <td>100.00</td>\n",
       "      <td>12.72</td>\n",
       "      <td>3.78</td>\n",
       "      <td>66.12</td>\n",
       "      <td>9.69</td>\n",
       "      <td>1521.98</td>\n",
       "      <td>-281.04</td>\n",
       "      <td>1809.19</td>\n",
       "      <td>-296.38</td>\n",
       "      <td>2499.13</td>\n",
       "      <td>-292.16</td>\n",
       "      <td>1817.20</td>\n",
       "      <td>-208.33</td>\n",
       "      <td>1922.64</td>\n",
       "      <td>-272.20</td>\n",
       "      <td>1706.31</td>\n",
       "      <td>-191.72</td>\n",
       "      <td>23.26</td>\n",
       "      <td>17.04</td>\n",
       "      <td>17.98</td>\n",
       "      <td>26.81</td>\n",
       "      <td>52.65</td>\n",
       "      <td>-127.88</td>\n",
       "      <td>35.15</td>\n",
       "      <td>-212.06</td>\n",
       "      <td>44.26</td>\n",
       "      <td>-191.68</td>\n",
       "      <td>35.07</td>\n",
       "      <td>-159.74</td>\n",
       "      <td>30.12</td>\n",
       "      <td>-245.24</td>\n",
       "      <td>24.01</td>\n",
       "      <td>-145.07</td>\n",
       "      <td>43.71</td>\n",
       "      <td>-275.07</td>\n",
       "      <td>27.93</td>\n",
       "      <td>-157.40</td>\n",
       "      <td>32.19</td>\n",
       "      <td>-104.43</td>\n",
       "    </tr>\n",
       "  </tbody>\n",
       "</table>\n",
       "</div>"
      ],
      "text/plain": [
       "       final.output.concentrate_ag  final.output.concentrate_pb  \\\n",
       "count                     14149.00                     14149.00   \n",
       "mean                          5.14                        10.13   \n",
       "std                           1.37                         1.65   \n",
       "min                           0.00                         0.00   \n",
       "25%                           4.21                         9.30   \n",
       "50%                           4.99                        10.30   \n",
       "75%                           5.86                        11.17   \n",
       "max                          16.00                        17.03   \n",
       "\n",
       "       final.output.concentrate_sol  final.output.concentrate_au  \\\n",
       "count                      14149.00                     14149.00   \n",
       "mean                           9.11                        44.00   \n",
       "std                            2.89                         4.91   \n",
       "min                            0.00                         0.00   \n",
       "25%                            7.42                        43.28   \n",
       "50%                            8.80                        44.87   \n",
       "75%                           10.45                        46.17   \n",
       "max                           18.12                        52.76   \n",
       "\n",
       "       final.output.recovery  final.output.tail_ag  final.output.tail_pb  \\\n",
       "count               14149.00              14149.00              14149.00   \n",
       "mean                   66.52                  9.61                  2.58   \n",
       "std                    10.30                  2.32                  0.98   \n",
       "min                     0.00                  0.00                  0.00   \n",
       "25%                    62.55                  8.00                  1.89   \n",
       "50%                    67.43                  9.48                  2.58   \n",
       "75%                    72.35                 11.00                  3.24   \n",
       "max                   100.00                 19.55                  5.64   \n",
       "\n",
       "       final.output.tail_sol  final.output.tail_au  \\\n",
       "count               14149.00              14149.00   \n",
       "mean                   10.51                  2.92   \n",
       "std                     3.00                  0.90   \n",
       "min                     0.00                  0.00   \n",
       "25%                     8.81                  2.37   \n",
       "50%                    10.51                  2.85   \n",
       "75%                    11.93                  3.43   \n",
       "max                    22.32                  8.20   \n",
       "\n",
       "       primary_cleaner.input.sulfate  primary_cleaner.input.depressant  \\\n",
       "count                       14149.00                          14149.00   \n",
       "mean                          133.21                              8.86   \n",
       "std                            39.60                              3.38   \n",
       "min                             0.00                              0.00   \n",
       "25%                           106.86                              6.04   \n",
       "50%                           133.00                              8.03   \n",
       "75%                           159.83                             11.52   \n",
       "max                           250.13                             20.05   \n",
       "\n",
       "       primary_cleaner.input.feed_size  primary_cleaner.input.xanthate  \\\n",
       "count                         14149.00                        14149.00   \n",
       "mean                              7.32                            0.88   \n",
       "std                               0.61                            0.38   \n",
       "min                               1.08                            0.00   \n",
       "25%                               6.96                            0.60   \n",
       "50%                               7.29                            0.89   \n",
       "75%                               7.70                            1.10   \n",
       "max                              10.47                            2.51   \n",
       "\n",
       "       primary_cleaner.output.concentrate_ag  \\\n",
       "count                               14149.00   \n",
       "mean                                    8.20   \n",
       "std                                     2.01   \n",
       "min                                     0.00   \n",
       "25%                                     7.11   \n",
       "50%                                     8.23   \n",
       "75%                                     9.50   \n",
       "max                                    16.08   \n",
       "\n",
       "       primary_cleaner.output.concentrate_pb  \\\n",
       "count                               14149.00   \n",
       "mean                                    9.57   \n",
       "std                                     2.71   \n",
       "min                                     0.00   \n",
       "25%                                     8.32   \n",
       "50%                                     9.92   \n",
       "75%                                    11.30   \n",
       "max                                    17.08   \n",
       "\n",
       "       primary_cleaner.output.concentrate_sol  \\\n",
       "count                                14149.00   \n",
       "mean                                    10.02   \n",
       "std                                      4.11   \n",
       "min                                      0.00   \n",
       "25%                                      7.38   \n",
       "50%                                      9.65   \n",
       "75%                                     12.97   \n",
       "max                                     22.28   \n",
       "\n",
       "       primary_cleaner.output.concentrate_au  primary_cleaner.output.tail_ag  \\\n",
       "count                               14149.00                        14149.00   \n",
       "mean                                   32.39                           16.30   \n",
       "std                                     5.80                            3.74   \n",
       "min                                     0.00                            0.00   \n",
       "25%                                    30.86                           13.87   \n",
       "50%                                    33.23                           15.80   \n",
       "75%                                    35.33                           18.45   \n",
       "max                                    45.93                           29.46   \n",
       "\n",
       "       primary_cleaner.output.tail_pb  primary_cleaner.output.tail_sol  \\\n",
       "count                        14149.00                         14149.00   \n",
       "mean                             3.44                             7.52   \n",
       "std                              1.49                             2.15   \n",
       "min                              0.00                             0.00   \n",
       "25%                              2.42                             6.32   \n",
       "50%                              3.22                             7.71   \n",
       "75%                              4.25                             8.91   \n",
       "max                              9.63                            20.62   \n",
       "\n",
       "       primary_cleaner.output.tail_au  primary_cleaner.state.floatbank8_a_air  \\\n",
       "count                        14149.00                                14149.00   \n",
       "mean                             3.84                                 1608.01   \n",
       "std                              1.60                                  128.38   \n",
       "min                              0.00                                    0.01   \n",
       "25%                              2.87                                 1595.70   \n",
       "50%                              3.51                                 1601.83   \n",
       "75%                              4.49                                 1699.72   \n",
       "max                             17.79                                 2079.53   \n",
       "\n",
       "       primary_cleaner.state.floatbank8_a_level  \\\n",
       "count                                  14149.00   \n",
       "mean                                    -488.78   \n",
       "std                                       35.70   \n",
       "min                                     -798.64   \n",
       "25%                                     -500.29   \n",
       "50%                                     -499.91   \n",
       "75%                                     -499.38   \n",
       "max                                     -330.13   \n",
       "\n",
       "       primary_cleaner.state.floatbank8_b_air  \\\n",
       "count                                14149.00   \n",
       "mean                                  1608.62   \n",
       "std                                    131.10   \n",
       "min                                      0.01   \n",
       "25%                                   1558.96   \n",
       "50%                                   1601.82   \n",
       "75%                                   1700.21   \n",
       "max                                   2114.91   \n",
       "\n",
       "       primary_cleaner.state.floatbank8_b_level  \\\n",
       "count                                  14149.00   \n",
       "mean                                    -489.17   \n",
       "std                                       33.60   \n",
       "min                                     -740.12   \n",
       "25%                                     -500.38   \n",
       "50%                                     -499.94   \n",
       "75%                                     -499.39   \n",
       "max                                     -347.35   \n",
       "\n",
       "       primary_cleaner.state.floatbank8_c_air  \\\n",
       "count                                14149.00   \n",
       "mean                                  1608.88   \n",
       "std                                    134.26   \n",
       "min                                      0.02   \n",
       "25%                                   1549.87   \n",
       "50%                                   1601.57   \n",
       "75%                                   1700.47   \n",
       "max                                   2013.16   \n",
       "\n",
       "       primary_cleaner.state.floatbank8_c_level  \\\n",
       "count                                  14149.00   \n",
       "mean                                    -489.61   \n",
       "std                                       35.62   \n",
       "min                                     -799.80   \n",
       "25%                                     -500.60   \n",
       "50%                                     -499.87   \n",
       "75%                                     -498.80   \n",
       "max                                     -346.65   \n",
       "\n",
       "       primary_cleaner.state.floatbank8_d_air  \\\n",
       "count                                14149.00   \n",
       "mean                                  1542.26   \n",
       "std                                    278.38   \n",
       "min                                      0.01   \n",
       "25%                                   1452.70   \n",
       "50%                                   1600.17   \n",
       "75%                                   1699.36   \n",
       "max                                   2398.90   \n",
       "\n",
       "       primary_cleaner.state.floatbank8_d_level  \\\n",
       "count                                  14149.00   \n",
       "mean                                    -483.46   \n",
       "std                                       47.10   \n",
       "min                                     -799.79   \n",
       "25%                                     -500.46   \n",
       "50%                                     -499.83   \n",
       "75%                                     -498.48   \n",
       "max                                      -30.60   \n",
       "\n",
       "       rougher.calculation.sulfate_to_au_concentrate  \\\n",
       "count                                       14149.00   \n",
       "mean                                        40382.62   \n",
       "std                                        380130.19   \n",
       "min                                     -42235196.00   \n",
       "25%                                         39994.39   \n",
       "50%                                         43683.92   \n",
       "75%                                         47759.46   \n",
       "max                                       3428099.00   \n",
       "\n",
       "       rougher.calculation.floatbank10_sulfate_to_au_feed  \\\n",
       "count                                           14149.00    \n",
       "mean                                             3456.59    \n",
       "std                                              5772.31    \n",
       "min                                              -486.60    \n",
       "25%                                              2527.11    \n",
       "50%                                              2976.13    \n",
       "75%                                              3716.34    \n",
       "max                                            629639.00    \n",
       "\n",
       "       rougher.calculation.floatbank11_sulfate_to_au_feed  \\\n",
       "count                                           14149.00    \n",
       "mean                                             3253.35    \n",
       "std                                              6753.05    \n",
       "min                                              -264.98    \n",
       "25%                                              2512.20    \n",
       "50%                                              2899.89    \n",
       "75%                                              3596.53    \n",
       "max                                            718684.94    \n",
       "\n",
       "       rougher.calculation.au_pb_ratio  rougher.input.feed_ag  \\\n",
       "count                         14149.00               14149.00   \n",
       "mean                              2.37                   8.58   \n",
       "std                               0.87                   1.90   \n",
       "min                              -0.01                   0.01   \n",
       "25%                               2.00                   7.13   \n",
       "50%                               2.25                   8.16   \n",
       "75%                               2.66                   9.92   \n",
       "max                              39.38                  14.60   \n",
       "\n",
       "       rougher.input.feed_pb  rougher.input.feed_rate  \\\n",
       "count               14149.00                 14149.00   \n",
       "mean                    3.51                   473.94   \n",
       "std                     1.09                   104.14   \n",
       "min                     0.01                     0.01   \n",
       "25%                     2.77                   420.72   \n",
       "50%                     3.41                   499.45   \n",
       "75%                     4.22                   547.33   \n",
       "max                     7.14                   717.51   \n",
       "\n",
       "       rougher.input.feed_size  rougher.input.feed_sol  rougher.input.feed_au  \\\n",
       "count                 14149.00                14149.00               14149.00   \n",
       "mean                     60.24                   36.29                   7.87   \n",
       "std                      23.01                    4.98                   1.92   \n",
       "min                       9.66                    0.01                   0.01   \n",
       "25%                      48.97                   34.09                   6.60   \n",
       "50%                      55.27                   37.01                   7.65   \n",
       "75%                      66.01                   39.41                   9.07   \n",
       "max                     484.97                   48.36                  13.13   \n",
       "\n",
       "       rougher.input.floatbank10_sulfate  rougher.input.floatbank10_xanthate  \\\n",
       "count                           14149.00                            14149.00   \n",
       "mean                               11.75                                5.85   \n",
       "std                                 3.31                                1.11   \n",
       "min                                 0.00                                0.00   \n",
       "25%                                 9.84                                5.11   \n",
       "50%                                11.66                                5.95   \n",
       "75%                                13.58                                6.60   \n",
       "max                                36.12                                9.70   \n",
       "\n",
       "       rougher.input.floatbank11_sulfate  rougher.input.floatbank11_xanthate  \\\n",
       "count                           14149.00                            14149.00   \n",
       "mean                               11.37                                5.80   \n",
       "std                                 3.80                                1.24   \n",
       "min                                 0.00                                0.00   \n",
       "25%                                 9.50                                5.10   \n",
       "50%                                11.38                                5.99   \n",
       "75%                                13.50                                6.64   \n",
       "max                                37.98                                9.70   \n",
       "\n",
       "       rougher.output.concentrate_ag  rougher.output.concentrate_pb  \\\n",
       "count                       14149.00                       14149.00   \n",
       "mean                           11.78                           7.66   \n",
       "std                             2.73                           1.86   \n",
       "min                             0.00                           0.00   \n",
       "25%                            10.49                           6.85   \n",
       "50%                            11.75                           7.76   \n",
       "75%                            13.43                           8.60   \n",
       "max                            24.48                          13.62   \n",
       "\n",
       "       rougher.output.concentrate_sol  rougher.output.concentrate_au  \\\n",
       "count                        14149.00                       14149.00   \n",
       "mean                            28.29                          19.44   \n",
       "std                              6.12                           3.77   \n",
       "min                              0.00                           0.00   \n",
       "25%                             26.70                          18.43   \n",
       "50%                             29.25                          19.95   \n",
       "75%                             31.74                          21.39   \n",
       "max                             38.35                          28.15   \n",
       "\n",
       "       rougher.output.recovery  rougher.output.tail_ag  \\\n",
       "count                 14149.00                14149.00   \n",
       "mean                     82.70                    5.57   \n",
       "std                      14.48                    1.04   \n",
       "min                       0.00                    0.59   \n",
       "25%                      79.99                    4.92   \n",
       "50%                      85.30                    5.72   \n",
       "75%                      90.17                    6.31   \n",
       "max                     100.00                   12.72   \n",
       "\n",
       "       rougher.output.tail_pb  rougher.output.tail_sol  \\\n",
       "count                14149.00                 14149.00   \n",
       "mean                     0.65                    17.88   \n",
       "std                      0.26                     3.43   \n",
       "min                      0.01                    10.01   \n",
       "25%                      0.47                    15.69   \n",
       "50%                      0.63                    18.02   \n",
       "75%                      0.79                    19.94   \n",
       "max                      3.78                    66.12   \n",
       "\n",
       "       rougher.output.tail_au  rougher.state.floatbank10_a_air  \\\n",
       "count                14149.00                         14149.00   \n",
       "mean                     1.76                          1124.72   \n",
       "std                      0.71                           169.31   \n",
       "min                      0.02                            -0.04   \n",
       "25%                      1.31                           999.80   \n",
       "50%                      1.75                          1001.68   \n",
       "75%                      2.19                          1299.51   \n",
       "max                      9.69                          1521.98   \n",
       "\n",
       "       rougher.state.floatbank10_a_level  rougher.state.floatbank10_b_air  \\\n",
       "count                           14149.00                         14149.00   \n",
       "mean                             -369.47                          1320.72   \n",
       "std                                93.96                           183.16   \n",
       "min                              -650.20                            -0.65   \n",
       "25%                              -499.79                          1199.37   \n",
       "50%                              -300.18                          1301.37   \n",
       "75%                              -299.96                          1449.56   \n",
       "max                              -281.04                          1809.19   \n",
       "\n",
       "       rougher.state.floatbank10_b_level  rougher.state.floatbank10_c_air  \\\n",
       "count                           14149.00                         14149.00   \n",
       "mean                             -464.26                          1299.38   \n",
       "std                                57.40                           213.41   \n",
       "min                              -650.26                            -0.04   \n",
       "25%                              -500.18                          1103.10   \n",
       "50%                              -499.76                          1300.21   \n",
       "75%                              -400.43                          1450.35   \n",
       "max                              -296.38                          2499.13   \n",
       "\n",
       "       rougher.state.floatbank10_c_level  rougher.state.floatbank10_d_air  \\\n",
       "count                           14149.00                         14149.00   \n",
       "mean                             -465.06                          1210.34   \n",
       "std                                55.90                           210.43   \n",
       "min                              -641.00                            -0.55   \n",
       "25%                              -500.21                          1059.71   \n",
       "50%                              -499.68                          1200.74   \n",
       "75%                              -400.66                          1344.38   \n",
       "max                              -292.16                          1817.20   \n",
       "\n",
       "       rougher.state.floatbank10_d_level  rougher.state.floatbank10_e_air  \\\n",
       "count                           14149.00                         14149.00   \n",
       "mean                             -465.46                          1084.33   \n",
       "std                                55.77                           186.26   \n",
       "min                              -640.52                            -1.97   \n",
       "25%                              -500.36                           951.25   \n",
       "50%                              -499.47                          1050.16   \n",
       "75%                              -401.05                          1199.90   \n",
       "max                              -208.33                          1922.64   \n",
       "\n",
       "       rougher.state.floatbank10_e_level  rougher.state.floatbank10_f_air  \\\n",
       "count                           14149.00                         14149.00   \n",
       "mean                             -464.92                          1035.49   \n",
       "std                                56.60                           175.05   \n",
       "min                              -649.44                            -2.43   \n",
       "25%                              -500.25                           900.97   \n",
       "50%                              -499.61                          1000.05   \n",
       "75%                              -400.60                          1100.17   \n",
       "max                              -272.20                          1706.31   \n",
       "\n",
       "       rougher.state.floatbank10_f_level  secondary_cleaner.output.tail_ag  \\\n",
       "count                           14149.00                          14149.00   \n",
       "mean                             -464.69                             14.28   \n",
       "std                                56.65                              4.48   \n",
       "min                              -649.88                              0.00   \n",
       "25%                              -500.48                             12.18   \n",
       "50%                              -499.36                             15.36   \n",
       "75%                              -401.01                             17.23   \n",
       "max                              -191.72                             23.26   \n",
       "\n",
       "       secondary_cleaner.output.tail_pb  secondary_cleaner.output.tail_sol  \\\n",
       "count                          14149.00                           14149.00   \n",
       "mean                               5.85                               6.27   \n",
       "std                                2.86                               4.36   \n",
       "min                                0.00                               0.00   \n",
       "25%                                3.98                               2.15   \n",
       "50%                                5.44                               6.18   \n",
       "75%                                7.80                              10.29   \n",
       "max                               17.04                              17.98   \n",
       "\n",
       "       secondary_cleaner.output.tail_au  \\\n",
       "count                          14149.00   \n",
       "mean                               4.25   \n",
       "std                                2.39   \n",
       "min                                0.00   \n",
       "25%                                3.15   \n",
       "50%                                3.98   \n",
       "75%                                4.88   \n",
       "max                               26.81   \n",
       "\n",
       "       secondary_cleaner.state.floatbank2_a_air  \\\n",
       "count                                  14149.00   \n",
       "mean                                      29.69   \n",
       "std                                        5.81   \n",
       "min                                        0.08   \n",
       "25%                                       25.11   \n",
       "50%                                       30.03   \n",
       "75%                                       34.90   \n",
       "max                                       52.65   \n",
       "\n",
       "       secondary_cleaner.state.floatbank2_a_level  \\\n",
       "count                                    14149.00   \n",
       "mean                                      -502.22   \n",
       "std                                         60.28   \n",
       "min                                       -799.61   \n",
       "25%                                       -500.25   \n",
       "50%                                       -499.96   \n",
       "75%                                       -499.59   \n",
       "max                                       -127.88   \n",
       "\n",
       "       secondary_cleaner.state.floatbank2_b_air  \\\n",
       "count                                  14149.00   \n",
       "mean                                      24.90   \n",
       "std                                        6.02   \n",
       "min                                        0.00   \n",
       "25%                                       22.04   \n",
       "50%                                       27.02   \n",
       "75%                                       28.94   \n",
       "max                                       35.15   \n",
       "\n",
       "       secondary_cleaner.state.floatbank2_b_level  \\\n",
       "count                                    14149.00   \n",
       "mean                                      -503.70   \n",
       "std                                         62.84   \n",
       "min                                       -799.87   \n",
       "25%                                       -500.27   \n",
       "50%                                       -500.01   \n",
       "75%                                       -499.76   \n",
       "max                                       -212.06   \n",
       "\n",
       "       secondary_cleaner.state.floatbank3_a_air  \\\n",
       "count                                  14149.00   \n",
       "mean                                      29.24   \n",
       "std                                        5.64   \n",
       "min                                        0.00   \n",
       "25%                                       24.99   \n",
       "50%                                       28.02   \n",
       "75%                                       34.99   \n",
       "max                                       44.26   \n",
       "\n",
       "       secondary_cleaner.state.floatbank3_a_level  \\\n",
       "count                                    14149.00   \n",
       "mean                                      -478.25   \n",
       "std                                         54.65   \n",
       "min                                       -799.61   \n",
       "25%                                       -500.18   \n",
       "50%                                       -499.88   \n",
       "75%                                       -437.07   \n",
       "max                                       -191.68   \n",
       "\n",
       "       secondary_cleaner.state.floatbank3_b_air  \\\n",
       "count                                  14149.00   \n",
       "mean                                      22.66   \n",
       "std                                        5.00   \n",
       "min                                        0.00   \n",
       "25%                                       19.95   \n",
       "50%                                       22.04   \n",
       "75%                                       25.97   \n",
       "max                                       35.07   \n",
       "\n",
       "       secondary_cleaner.state.floatbank3_b_level  \\\n",
       "count                                    14149.00   \n",
       "mean                                      -488.92   \n",
       "std                                         41.93   \n",
       "min                                       -759.18   \n",
       "25%                                       -500.11   \n",
       "50%                                       -499.97   \n",
       "75%                                       -499.76   \n",
       "max                                       -159.74   \n",
       "\n",
       "       secondary_cleaner.state.floatbank4_a_air  \\\n",
       "count                                  14149.00   \n",
       "mean                                      19.98   \n",
       "std                                        5.66   \n",
       "min                                        0.00   \n",
       "25%                                       14.99   \n",
       "50%                                       20.00   \n",
       "75%                                       24.99   \n",
       "max                                       30.12   \n",
       "\n",
       "       secondary_cleaner.state.floatbank4_a_level  \\\n",
       "count                                    14149.00   \n",
       "mean                                      -478.70   \n",
       "std                                         50.74   \n",
       "min                                       -799.71   \n",
       "25%                                       -500.63   \n",
       "50%                                       -499.68   \n",
       "75%                                       -477.49   \n",
       "max                                       -245.24   \n",
       "\n",
       "       secondary_cleaner.state.floatbank4_b_air  \\\n",
       "count                                  14149.00   \n",
       "mean                                      15.49   \n",
       "std                                        5.26   \n",
       "min                                        0.00   \n",
       "25%                                       11.89   \n",
       "50%                                       14.98   \n",
       "75%                                       20.06   \n",
       "max                                       24.01   \n",
       "\n",
       "       secondary_cleaner.state.floatbank4_b_level  \\\n",
       "count                                    14149.00   \n",
       "mean                                      -460.24   \n",
       "std                                         58.85   \n",
       "min                                       -799.89   \n",
       "25%                                       -500.15   \n",
       "50%                                       -499.39   \n",
       "75%                                       -400.04   \n",
       "max                                       -145.07   \n",
       "\n",
       "       secondary_cleaner.state.floatbank5_a_air  \\\n",
       "count                                  14149.00   \n",
       "mean                                      16.77   \n",
       "std                                        5.83   \n",
       "min                                       -0.37   \n",
       "25%                                       11.08   \n",
       "50%                                       17.93   \n",
       "75%                                       21.35   \n",
       "max                                       43.71   \n",
       "\n",
       "       secondary_cleaner.state.floatbank5_a_level  \\\n",
       "count                                    14149.00   \n",
       "mean                                      -483.96   \n",
       "std                                         37.89   \n",
       "min                                       -797.14   \n",
       "25%                                       -500.36   \n",
       "50%                                       -499.70   \n",
       "75%                                       -487.86   \n",
       "max                                       -275.07   \n",
       "\n",
       "       secondary_cleaner.state.floatbank5_b_air  \\\n",
       "count                                  14149.00   \n",
       "mean                                      13.06   \n",
       "std                                        5.77   \n",
       "min                                        0.65   \n",
       "25%                                        8.99   \n",
       "50%                                       12.00   \n",
       "75%                                       17.98   \n",
       "max                                       27.93   \n",
       "\n",
       "       secondary_cleaner.state.floatbank5_b_level  \\\n",
       "count                                    14149.00   \n",
       "mean                                      -483.97   \n",
       "std                                         39.21   \n",
       "min                                       -800.01   \n",
       "25%                                       -500.11   \n",
       "50%                                       -499.91   \n",
       "75%                                       -453.27   \n",
       "max                                       -157.40   \n",
       "\n",
       "       secondary_cleaner.state.floatbank6_a_air  \\\n",
       "count                                  14149.00   \n",
       "mean                                      19.58   \n",
       "std                                        5.76   \n",
       "min                                        0.20   \n",
       "25%                                       14.99   \n",
       "50%                                       19.98   \n",
       "75%                                       24.99   \n",
       "max                                       32.19   \n",
       "\n",
       "       secondary_cleaner.state.floatbank6_a_level  \n",
       "count                                    14149.00  \n",
       "mean                                      -506.80  \n",
       "std                                         37.09  \n",
       "min                                       -809.40  \n",
       "25%                                       -500.75  \n",
       "50%                                       -500.06  \n",
       "75%                                       -499.54  \n",
       "max                                       -104.43  "
      ]
     },
     "execution_count": 35,
     "metadata": {},
     "output_type": "execute_result"
    }
   ],
   "source": [
    "# снятие ограничения на показ колонок\n",
    "pd.set_option('display.max_columns', None)\n",
    "# вывод статистической информации о выборке\n",
    "df_train.describe().round(2)"
   ]
  },
  {
   "cell_type": "markdown",
   "id": "c1e4c0aa",
   "metadata": {},
   "source": [
    "В основном, средние значения показателей очень близки к медиане, что говорит о нормальном распределении значений в выборке. \n",
    "При этом в ряде признаков присутствуют отрицательные значения. \n",
    "Построим диаграмму размаха для выборки, чтобы визуализировать распределения."
   ]
  },
  {
   "cell_type": "code",
   "execution_count": 36,
   "id": "4cc5eb1b",
   "metadata": {
    "scrolled": true
   },
   "outputs": [
    {
     "data": {
      "image/png": "[encoded data removed]",
      "text/plain": [
       "<Figure size 1080x576 with 1 Axes>"
      ]
     },
     "metadata": {
      "needs_background": "light"
     },
     "output_type": "display_data"
    }
   ],
   "source": [
    "# построение диаграммы размаха\n",
    "df_train.boxplot(figsize=(15, 8))\n",
    "plt.suptitle('Разброс значений признаков в df_train')\n",
    "plt.title(None)\n",
    "plt.xlabel('Признак'), plt.ylabel('Значения')\n",
    "plt.xticks(rotation=90)\n",
    "plt.show()"
   ]
  },
  {
   "cell_type": "markdown",
   "id": "e1880c9c",
   "metadata": {},
   "source": [
    "Обработаем выбросы на следующем шаге."
   ]
  },
  {
   "cell_type": "markdown",
   "id": "da6a7459",
   "metadata": {},
   "source": [
    "**df_test**"
   ]
  },
  {
   "cell_type": "code",
   "execution_count": 37,
   "id": "c0d8f1c4",
   "metadata": {
    "scrolled": true
   },
   "outputs": [
    {
     "data": {
      "text/html": [
       "<div>\n",
       "<style scoped>\n",
       "    .dataframe tbody tr th:only-of-type {\n",
       "        vertical-align: middle;\n",
       "    }\n",
       "\n",
       "    .dataframe tbody tr th {\n",
       "        vertical-align: top;\n",
       "    }\n",
       "\n",
       "    .dataframe thead th {\n",
       "        text-align: right;\n",
       "    }\n",
       "</style>\n",
       "<table border=\"1\" class=\"dataframe\">\n",
       "  <thead>\n",
       "    <tr style=\"text-align: right;\">\n",
       "      <th></th>\n",
       "      <th>final.output.recovery</th>\n",
       "      <th>rougher.output.recovery</th>\n",
       "      <th>rougher.input.feed_ag</th>\n",
       "      <th>rougher.input.feed_pb</th>\n",
       "      <th>rougher.input.feed_sol</th>\n",
       "      <th>rougher.input.feed_au</th>\n",
       "      <th>rougher.input.feed_size</th>\n",
       "      <th>primary_cleaner.input.feed_size</th>\n",
       "      <th>primary_cleaner.input.sulfate</th>\n",
       "      <th>primary_cleaner.state.floatbank8_a_air</th>\n",
       "      <th>primary_cleaner.state.floatbank8_b_air</th>\n",
       "      <th>primary_cleaner.state.floatbank8_d_air</th>\n",
       "      <th>rougher.input.floatbank10_xanthate</th>\n",
       "      <th>rougher.input.floatbank11_xanthate</th>\n",
       "      <th>secondary_cleaner.state.floatbank2_b_air</th>\n",
       "      <th>secondary_cleaner.state.floatbank3_b_air</th>\n",
       "      <th>secondary_cleaner.state.floatbank4_a_air</th>\n",
       "      <th>secondary_cleaner.state.floatbank4_b_air</th>\n",
       "    </tr>\n",
       "  </thead>\n",
       "  <tbody>\n",
       "    <tr>\n",
       "      <th>count</th>\n",
       "      <td>5290.00</td>\n",
       "      <td>5290.00</td>\n",
       "      <td>5290.00</td>\n",
       "      <td>5290.00</td>\n",
       "      <td>5290.00</td>\n",
       "      <td>5290.00</td>\n",
       "      <td>5290.00</td>\n",
       "      <td>5290.00</td>\n",
       "      <td>5290.00</td>\n",
       "      <td>5290.00</td>\n",
       "      <td>5290.00</td>\n",
       "      <td>5290.00</td>\n",
       "      <td>5290.00</td>\n",
       "      <td>5290.00</td>\n",
       "      <td>5290.00</td>\n",
       "      <td>5290.00</td>\n",
       "      <td>5290.00</td>\n",
       "      <td>5290.00</td>\n",
       "    </tr>\n",
       "    <tr>\n",
       "      <th>mean</th>\n",
       "      <td>68.47</td>\n",
       "      <td>85.00</td>\n",
       "      <td>9.37</td>\n",
       "      <td>3.80</td>\n",
       "      <td>37.70</td>\n",
       "      <td>9.33</td>\n",
       "      <td>55.95</td>\n",
       "      <td>7.27</td>\n",
       "      <td>174.84</td>\n",
       "      <td>1539.49</td>\n",
       "      <td>1545.17</td>\n",
       "      <td>1544.84</td>\n",
       "      <td>6.47</td>\n",
       "      <td>6.50</td>\n",
       "      <td>21.94</td>\n",
       "      <td>20.98</td>\n",
       "      <td>16.32</td>\n",
       "      <td>13.74</td>\n",
       "    </tr>\n",
       "    <tr>\n",
       "      <th>std</th>\n",
       "      <td>9.51</td>\n",
       "      <td>13.08</td>\n",
       "      <td>1.93</td>\n",
       "      <td>0.95</td>\n",
       "      <td>5.50</td>\n",
       "      <td>1.62</td>\n",
       "      <td>19.08</td>\n",
       "      <td>0.61</td>\n",
       "      <td>43.02</td>\n",
       "      <td>116.80</td>\n",
       "      <td>122.22</td>\n",
       "      <td>124.77</td>\n",
       "      <td>1.07</td>\n",
       "      <td>0.91</td>\n",
       "      <td>4.37</td>\n",
       "      <td>6.74</td>\n",
       "      <td>3.49</td>\n",
       "      <td>3.43</td>\n",
       "    </tr>\n",
       "    <tr>\n",
       "      <th>min</th>\n",
       "      <td>0.00</td>\n",
       "      <td>0.00</td>\n",
       "      <td>0.57</td>\n",
       "      <td>0.27</td>\n",
       "      <td>1.39</td>\n",
       "      <td>0.57</td>\n",
       "      <td>0.05</td>\n",
       "      <td>5.65</td>\n",
       "      <td>2.57</td>\n",
       "      <td>0.00</td>\n",
       "      <td>0.00</td>\n",
       "      <td>0.00</td>\n",
       "      <td>0.00</td>\n",
       "      <td>0.01</td>\n",
       "      <td>0.01</td>\n",
       "      <td>0.00</td>\n",
       "      <td>0.00</td>\n",
       "      <td>0.00</td>\n",
       "    </tr>\n",
       "    <tr>\n",
       "      <th>25%</th>\n",
       "      <td>65.51</td>\n",
       "      <td>84.51</td>\n",
       "      <td>8.11</td>\n",
       "      <td>3.24</td>\n",
       "      <td>34.49</td>\n",
       "      <td>8.21</td>\n",
       "      <td>43.91</td>\n",
       "      <td>6.89</td>\n",
       "      <td>147.12</td>\n",
       "      <td>1498.94</td>\n",
       "      <td>1498.97</td>\n",
       "      <td>1499.48</td>\n",
       "      <td>6.00</td>\n",
       "      <td>6.00</td>\n",
       "      <td>20.00</td>\n",
       "      <td>17.97</td>\n",
       "      <td>14.04</td>\n",
       "      <td>12.03</td>\n",
       "    </tr>\n",
       "    <tr>\n",
       "      <th>50%</th>\n",
       "      <td>69.82</td>\n",
       "      <td>87.39</td>\n",
       "      <td>9.76</td>\n",
       "      <td>3.74</td>\n",
       "      <td>37.98</td>\n",
       "      <td>9.59</td>\n",
       "      <td>50.85</td>\n",
       "      <td>7.25</td>\n",
       "      <td>177.83</td>\n",
       "      <td>1585.13</td>\n",
       "      <td>1595.62</td>\n",
       "      <td>1594.58</td>\n",
       "      <td>6.50</td>\n",
       "      <td>6.50</td>\n",
       "      <td>22.94</td>\n",
       "      <td>21.00</td>\n",
       "      <td>17.01</td>\n",
       "      <td>14.96</td>\n",
       "    </tr>\n",
       "    <tr>\n",
       "      <th>75%</th>\n",
       "      <td>73.29</td>\n",
       "      <td>89.73</td>\n",
       "      <td>10.65</td>\n",
       "      <td>4.28</td>\n",
       "      <td>41.62</td>\n",
       "      <td>10.46</td>\n",
       "      <td>62.45</td>\n",
       "      <td>7.60</td>\n",
       "      <td>208.13</td>\n",
       "      <td>1602.08</td>\n",
       "      <td>1602.32</td>\n",
       "      <td>1600.96</td>\n",
       "      <td>7.09</td>\n",
       "      <td>7.09</td>\n",
       "      <td>24.98</td>\n",
       "      <td>26.98</td>\n",
       "      <td>18.04</td>\n",
       "      <td>15.96</td>\n",
       "    </tr>\n",
       "    <tr>\n",
       "      <th>max</th>\n",
       "      <td>100.00</td>\n",
       "      <td>99.17</td>\n",
       "      <td>14.41</td>\n",
       "      <td>6.91</td>\n",
       "      <td>53.48</td>\n",
       "      <td>13.73</td>\n",
       "      <td>392.49</td>\n",
       "      <td>15.50</td>\n",
       "      <td>265.98</td>\n",
       "      <td>2103.10</td>\n",
       "      <td>1813.08</td>\n",
       "      <td>1913.26</td>\n",
       "      <td>8.91</td>\n",
       "      <td>8.62</td>\n",
       "      <td>28.17</td>\n",
       "      <td>32.04</td>\n",
       "      <td>30.05</td>\n",
       "      <td>31.27</td>\n",
       "    </tr>\n",
       "  </tbody>\n",
       "</table>\n",
       "</div>"
      ],
      "text/plain": [
       "       final.output.recovery  rougher.output.recovery  rougher.input.feed_ag  \\\n",
       "count                5290.00                  5290.00                5290.00   \n",
       "mean                   68.47                    85.00                   9.37   \n",
       "std                     9.51                    13.08                   1.93   \n",
       "min                     0.00                     0.00                   0.57   \n",
       "25%                    65.51                    84.51                   8.11   \n",
       "50%                    69.82                    87.39                   9.76   \n",
       "75%                    73.29                    89.73                  10.65   \n",
       "max                   100.00                    99.17                  14.41   \n",
       "\n",
       "       rougher.input.feed_pb  rougher.input.feed_sol  rougher.input.feed_au  \\\n",
       "count                5290.00                 5290.00                5290.00   \n",
       "mean                    3.80                   37.70                   9.33   \n",
       "std                     0.95                    5.50                   1.62   \n",
       "min                     0.27                    1.39                   0.57   \n",
       "25%                     3.24                   34.49                   8.21   \n",
       "50%                     3.74                   37.98                   9.59   \n",
       "75%                     4.28                   41.62                  10.46   \n",
       "max                     6.91                   53.48                  13.73   \n",
       "\n",
       "       rougher.input.feed_size  primary_cleaner.input.feed_size  \\\n",
       "count                  5290.00                          5290.00   \n",
       "mean                     55.95                             7.27   \n",
       "std                      19.08                             0.61   \n",
       "min                       0.05                             5.65   \n",
       "25%                      43.91                             6.89   \n",
       "50%                      50.85                             7.25   \n",
       "75%                      62.45                             7.60   \n",
       "max                     392.49                            15.50   \n",
       "\n",
       "       primary_cleaner.input.sulfate  primary_cleaner.state.floatbank8_a_air  \\\n",
       "count                        5290.00                                 5290.00   \n",
       "mean                          174.84                                 1539.49   \n",
       "std                            43.02                                  116.80   \n",
       "min                             2.57                                    0.00   \n",
       "25%                           147.12                                 1498.94   \n",
       "50%                           177.83                                 1585.13   \n",
       "75%                           208.13                                 1602.08   \n",
       "max                           265.98                                 2103.10   \n",
       "\n",
       "       primary_cleaner.state.floatbank8_b_air  \\\n",
       "count                                 5290.00   \n",
       "mean                                  1545.17   \n",
       "std                                    122.22   \n",
       "min                                      0.00   \n",
       "25%                                   1498.97   \n",
       "50%                                   1595.62   \n",
       "75%                                   1602.32   \n",
       "max                                   1813.08   \n",
       "\n",
       "       primary_cleaner.state.floatbank8_d_air  \\\n",
       "count                                 5290.00   \n",
       "mean                                  1544.84   \n",
       "std                                    124.77   \n",
       "min                                      0.00   \n",
       "25%                                   1499.48   \n",
       "50%                                   1594.58   \n",
       "75%                                   1600.96   \n",
       "max                                   1913.26   \n",
       "\n",
       "       rougher.input.floatbank10_xanthate  rougher.input.floatbank11_xanthate  \\\n",
       "count                             5290.00                             5290.00   \n",
       "mean                                 6.47                                6.50   \n",
       "std                                  1.07                                0.91   \n",
       "min                                  0.00                                0.01   \n",
       "25%                                  6.00                                6.00   \n",
       "50%                                  6.50                                6.50   \n",
       "75%                                  7.09                                7.09   \n",
       "max                                  8.91                                8.62   \n",
       "\n",
       "       secondary_cleaner.state.floatbank2_b_air  \\\n",
       "count                                   5290.00   \n",
       "mean                                      21.94   \n",
       "std                                        4.37   \n",
       "min                                        0.01   \n",
       "25%                                       20.00   \n",
       "50%                                       22.94   \n",
       "75%                                       24.98   \n",
       "max                                       28.17   \n",
       "\n",
       "       secondary_cleaner.state.floatbank3_b_air  \\\n",
       "count                                   5290.00   \n",
       "mean                                      20.98   \n",
       "std                                        6.74   \n",
       "min                                        0.00   \n",
       "25%                                       17.97   \n",
       "50%                                       21.00   \n",
       "75%                                       26.98   \n",
       "max                                       32.04   \n",
       "\n",
       "       secondary_cleaner.state.floatbank4_a_air  \\\n",
       "count                                   5290.00   \n",
       "mean                                      16.32   \n",
       "std                                        3.49   \n",
       "min                                        0.00   \n",
       "25%                                       14.04   \n",
       "50%                                       17.01   \n",
       "75%                                       18.04   \n",
       "max                                       30.05   \n",
       "\n",
       "       secondary_cleaner.state.floatbank4_b_air  \n",
       "count                                   5290.00  \n",
       "mean                                      13.74  \n",
       "std                                        3.43  \n",
       "min                                        0.00  \n",
       "25%                                       12.03  \n",
       "50%                                       14.96  \n",
       "75%                                       15.96  \n",
       "max                                       31.27  "
      ]
     },
     "execution_count": 37,
     "metadata": {},
     "output_type": "execute_result"
    }
   ],
   "source": [
    "# вывод статистической информации о выборке\n",
    "df_test.describe().round(2)"
   ]
  },
  {
   "cell_type": "markdown",
   "id": "1919110a",
   "metadata": {},
   "source": [
    "Средние значения показателей очень близки к медиане, что говорит о нормальном распределении значений в выборке. Построим диаграмму размаха для выборки, чтобы визуализировать распределения."
   ]
  },
  {
   "cell_type": "code",
   "execution_count": 38,
   "id": "10b9e114",
   "metadata": {
    "scrolled": true
   },
   "outputs": [
    {
     "data": {
      "image/png": "[encoded data removed]",
      "text/plain": [
       "<Figure size 1080x576 with 1 Axes>"
      ]
     },
     "metadata": {
      "needs_background": "light"
     },
     "output_type": "display_data"
    }
   ],
   "source": [
    "# построение диаграммы размаха\n",
    "df_test.boxplot(figsize=(15, 8))\n",
    "plt.suptitle('Разброс значений признаков в df_test')\n",
    "plt.title(None)\n",
    "plt.xlabel('Признак'), plt.ylabel('Значения')\n",
    "plt.xticks(rotation=90)\n",
    "plt.show()"
   ]
  },
  {
   "cell_type": "markdown",
   "id": "d60e6bb6",
   "metadata": {},
   "source": [
    "Обработаем выбросы на следующем шаге."
   ]
  },
  {
   "cell_type": "markdown",
   "id": "ee5447d4",
   "metadata": {},
   "source": [
    "<div style=\"border:solid blue 2px; padding: 20px\"> \n",
    "\n",
    "**Вывод** \n",
    "    \n",
    "В рамках работ по подготовке данных для построения модели были проделаны следущие шаги:\n",
    "1. Открыты и проанализированы три предоставленных датасета, в качестве индекса установлен временнОй идентификатор записи.\n",
    "2. Проведена проверка корректности расчета эффективности обогащения в предоставленной выборке с использованием формулы, расчет корректен.\n",
    "3. Проведены сравнение и анализ признаков, присутствующих в полной выборке, но отсутствующих в тестовой выборке.\n",
    "4. Проведена предобработка данных в выборках: заменен тип данных float64 на float32, заполнены пропуски предыдущим значением в столбце, проведена проверка на явные дубликаты, явных дубликатов нет.\n",
    "5. Проведен анализ датасетов на предмет включения в дальнейшую работу только тех признаков, которые имеют важное значение для результата: в выборке для теста оставлены только признаки с высокой корреляцией с целевыми признаками, также она обогащена недостающими признаками.\n",
    "6. Проведен анализ данных в сформированных выборках df_train и df_test на предмет наличия выбросов.\n",
    "\n",
    " \n",
    "</div>"
   ]
  },
  {
   "cell_type": "markdown",
   "id": "a9057bed",
   "metadata": {},
   "source": [
    "## Анализ данных"
   ]
  },
  {
   "cell_type": "markdown",
   "id": "e127bf0a",
   "metadata": {},
   "source": [
    "### Концентрация металлов (Au, Ag, Pb) на различных этапах очистки"
   ]
  },
  {
   "cell_type": "markdown",
   "id": "43fdd013",
   "metadata": {},
   "source": [
    "Посмотрим, как меняется концентрация металлов (Au, Ag, Pb) на различных этапах очистки на данных выборки df_full и опишем выводы.\n",
    "\n",
    "Подготовим выборки с нужными нам признаками по металлам Au, Ag, Pb."
   ]
  },
  {
   "cell_type": "markdown",
   "id": "2cd6d265",
   "metadata": {},
   "source": [
    "**Au**"
   ]
  },
  {
   "cell_type": "code",
   "execution_count": 39,
   "id": "4b2ab877",
   "metadata": {},
   "outputs": [],
   "source": [
    "# формирование выборки по au\n",
    "df_full_au = df_full[[\n",
    "    'rougher.input.feed_au', \n",
    "    'rougher.output.concentrate_au', \n",
    "    'primary_cleaner.output.concentrate_au', \n",
    "    'final.output.concentrate_au']\n",
    "]"
   ]
  },
  {
   "cell_type": "markdown",
   "id": "6baa6c3a",
   "metadata": {},
   "source": [
    "Визуализируем изменения концентрации на гистограмме."
   ]
  },
  {
   "cell_type": "code",
   "execution_count": 40,
   "id": "0156cb76",
   "metadata": {
    "scrolled": true
   },
   "outputs": [
    {
     "data": {
      "image/png": "[encoded data removed]",
      "text/plain": [
       "<Figure size 1080x576 with 1 Axes>"
      ]
     },
     "metadata": {
      "needs_background": "light"
     },
     "output_type": "display_data"
    }
   ],
   "source": [
    "# построение гистограммы \n",
    "fig, axes = plt.subplots(sharex=True, sharey=True, figsize=(15, 8))\n",
    "fig.text(0.5, 0.04, 'Значения признаков', ha='center')\n",
    "fig.text(0.09, 0.9, 'Частота', va='center', rotation='vertical')\n",
    "plt.title('Гистограмма распределения')\n",
    "df_full_au['rougher.input.feed_au'].hist(alpha = 0.4, bins=50)\n",
    "df_full_au['rougher.output.concentrate_au'].hist(alpha = 0.4, bins=50)\n",
    "df_full_au['primary_cleaner.output.concentrate_au'].hist(alpha = 0.4, bins=50)\n",
    "df_full_au['final.output.concentrate_au'].hist(alpha = 0.4, bins=50)\n",
    "plt.legend(['rougher.input.feed_au', 'rougher.output.concentrate_au', 'primary_cleaner.output.concentrate_au', 'final.output.concentrate_au'])\n",
    "plt.show()"
   ]
  },
  {
   "cell_type": "markdown",
   "id": "20e80603",
   "metadata": {},
   "source": [
    "По данным гистограммы видно, что при последовательном переходе по стадиям обработки концентрация Au в сырье растет."
   ]
  },
  {
   "cell_type": "markdown",
   "id": "f2c245bf",
   "metadata": {},
   "source": [
    "**Ag**"
   ]
  },
  {
   "cell_type": "code",
   "execution_count": 41,
   "id": "91180d75",
   "metadata": {},
   "outputs": [],
   "source": [
    "# формирование выборки по ag\n",
    "df_full_ag = df_full[[\n",
    "    'rougher.input.feed_ag', \n",
    "    'rougher.output.concentrate_ag', \n",
    "    'primary_cleaner.output.concentrate_ag', \n",
    "    'final.output.concentrate_ag']\n",
    "]"
   ]
  },
  {
   "cell_type": "markdown",
   "id": "614826c0",
   "metadata": {},
   "source": [
    "Визуализируем изменения концентрации на диаграмме."
   ]
  },
  {
   "cell_type": "code",
   "execution_count": 42,
   "id": "fd05bf10",
   "metadata": {
    "scrolled": true
   },
   "outputs": [
    {
     "data": {
      "image/png": "[encoded data removed]",
      "text/plain": [
       "<Figure size 1080x576 with 1 Axes>"
      ]
     },
     "metadata": {
      "needs_background": "light"
     },
     "output_type": "display_data"
    }
   ],
   "source": [
    "# построение гистограммы \n",
    "fig, axes = plt.subplots(sharex=True, sharey=True, figsize=(15, 8))\n",
    "fig.text(0.5, 0.04, 'Значения признаков', ha='center')\n",
    "fig.text(0.09, 0.9, 'Частота', va='center', rotation='vertical')\n",
    "plt.title('Гистограмма распределения')\n",
    "df_full_ag['rougher.input.feed_ag'].hist(alpha = 0.4, bins=50)\n",
    "df_full_ag['rougher.output.concentrate_ag'].hist(alpha = 0.4, bins=50)\n",
    "df_full_ag['primary_cleaner.output.concentrate_ag'].hist(alpha = 0.4, bins=50)\n",
    "df_full_ag['final.output.concentrate_ag'].hist(alpha = 0.4, bins=50)\n",
    "plt.legend(['rougher.input.feed_ag', 'rougher.output.concentrate_ag', 'primary_cleaner.output.concentrate_ag', 'final.output.concentrate_ag'])\n",
    "plt.show()"
   ]
  },
  {
   "cell_type": "markdown",
   "id": "a89d5c73",
   "metadata": {},
   "source": [
    "По данным гистограммы видно, что концентрация Ag не меняется последовательно, как в случае Au, и наибольшая концентрация Ag наблюдается в сырье на выходе с флотации."
   ]
  },
  {
   "cell_type": "markdown",
   "id": "0f93f566",
   "metadata": {},
   "source": [
    "**Pb**"
   ]
  },
  {
   "cell_type": "code",
   "execution_count": 43,
   "id": "c4e0aa04",
   "metadata": {},
   "outputs": [],
   "source": [
    "# формирование выборки по pb\n",
    "df_full_pb = df_full[[\n",
    "    'rougher.input.feed_pb', \n",
    "    'rougher.output.concentrate_pb', \n",
    "    'primary_cleaner.output.concentrate_pb', \n",
    "    'final.output.concentrate_pb']\n",
    "]"
   ]
  },
  {
   "cell_type": "markdown",
   "id": "af353b8f",
   "metadata": {},
   "source": [
    "Визуализируем изменения концентрации на диаграмме."
   ]
  },
  {
   "cell_type": "code",
   "execution_count": 44,
   "id": "a83d546e",
   "metadata": {
    "scrolled": true
   },
   "outputs": [
    {
     "data": {
      "image/png": "[encoded data removed]",
      "text/plain": [
       "<Figure size 1080x576 with 1 Axes>"
      ]
     },
     "metadata": {
      "needs_background": "light"
     },
     "output_type": "display_data"
    }
   ],
   "source": [
    "# построение гистограммы \n",
    "fig, axes = plt.subplots(sharex=True, sharey=True, figsize=(15, 8))\n",
    "fig.text(0.5, 0.04, 'Значения признаков', ha='center')\n",
    "fig.text(0.09, 0.9, 'Частота', va='center', rotation='vertical')\n",
    "plt.title('Гистограмма распределения')\n",
    "df_full_pb['rougher.input.feed_pb'].hist(alpha = 0.4, bins=50)\n",
    "df_full_pb['rougher.output.concentrate_pb'].hist(alpha = 0.4, bins=50)\n",
    "df_full_pb['primary_cleaner.output.concentrate_pb'].hist(alpha = 0.4, bins=50)\n",
    "df_full_pb['final.output.concentrate_pb'].hist(alpha = 0.4, bins=50)\n",
    "plt.legend(['rougher.input.feed_pb', 'rougher.output.concentrate_pb', 'primary_cleaner.output.concentrate_pb', 'final.output.concentrate_pb'])\n",
    "plt.show()"
   ]
  },
  {
   "cell_type": "markdown",
   "id": "acaf4f34",
   "metadata": {},
   "source": [
    "По данным гистограммы видно, что концентрация Pb меняется последовательно, при этом концентрация почти не меняется после первичной очистки в финальном выходе."
   ]
  },
  {
   "cell_type": "markdown",
   "id": "a30207b2",
   "metadata": {},
   "source": [
    "### Распределение размеров гранул сырья на обучающей и тестовой выборках"
   ]
  },
  {
   "cell_type": "markdown",
   "id": "d07feed5",
   "metadata": {},
   "source": [
    "Сравним распределения размеров гранул сырья на обучающей и тестовой выборках и оценим, одинаковы ли они."
   ]
  },
  {
   "cell_type": "markdown",
   "id": "4f71677a",
   "metadata": {},
   "source": [
    "Визуализируем распределения на гистограмме для признаков rougher.input.feed_size и primary_cleaner.input.feed_size."
   ]
  },
  {
   "cell_type": "markdown",
   "id": "81ba9b79",
   "metadata": {},
   "source": [
    "**rougher.input.feed_size**"
   ]
  },
  {
   "cell_type": "code",
   "execution_count": 45,
   "id": "44af1603",
   "metadata": {
    "scrolled": true
   },
   "outputs": [
    {
     "data": {
      "image/png": "[encoded data removed]",
      "text/plain": [
       "<Figure size 504x288 with 1 Axes>"
      ]
     },
     "metadata": {
      "needs_background": "light"
     },
     "output_type": "display_data"
    }
   ],
   "source": [
    "# построение гистограммы \n",
    "fig, axes = plt.subplots(sharex=True, sharey=True, figsize=(7, 4))\n",
    "fig.text(0.5, 0.04, 'Значения признаков', ha='center')\n",
    "fig.text(0.09, 0.9, 'Частота', va='center', rotation='vertical')\n",
    "plt.title('Гистограмма распределения')\n",
    "df_train['rougher.input.feed_size'].hist(alpha = 0.4, bins=50)\n",
    "df_test['rougher.input.feed_size'].hist(alpha = 0.4, bins=50)\n",
    "plt.legend(['df_train_rougher.input.feed_size', 'df_test_rougher.input.feed_size'])\n",
    "plt.show()"
   ]
  },
  {
   "cell_type": "markdown",
   "id": "67dbe088",
   "metadata": {},
   "source": [
    "Значения признака rougher.input.feed_size на обучающей и тестовой выборках распределены одинаково."
   ]
  },
  {
   "cell_type": "markdown",
   "id": "39657f79",
   "metadata": {},
   "source": [
    "**primary_cleaner.input.feed_size**"
   ]
  },
  {
   "cell_type": "code",
   "execution_count": 46,
   "id": "ee5932ab",
   "metadata": {},
   "outputs": [
    {
     "data": {
      "image/png": "[encoded data removed]",
      "text/plain": [
       "<Figure size 504x288 with 1 Axes>"
      ]
     },
     "metadata": {
      "needs_background": "light"
     },
     "output_type": "display_data"
    }
   ],
   "source": [
    "# построение гистограммы \n",
    "fig, axes = plt.subplots(sharex=True, sharey=True, figsize=(7, 4))\n",
    "fig.text(0.5, 0.04, 'Значения признаков', ha='center')\n",
    "fig.text(0.09, 0.9, 'Частота', va='center', rotation='vertical')\n",
    "plt.title('Гистограмма распределения')\n",
    "df_train['primary_cleaner.input.feed_size'].hist(alpha = 0.4, bins=50)\n",
    "df_test['primary_cleaner.input.feed_size'].hist(alpha = 0.4, bins=50)\n",
    "plt.legend(['df_train_primary_cleaner.input.feed_size', 'df_test_primary_cleaner.input.feed_size'])\n",
    "plt.show()"
   ]
  },
  {
   "cell_type": "markdown",
   "id": "2fa55e8f",
   "metadata": {},
   "source": [
    "Значения признака primary_cleaner.input.feed_size на обучающей и тестовой выборках распределены одинаково."
   ]
  },
  {
   "cell_type": "markdown",
   "id": "9039178a",
   "metadata": {},
   "source": [
    "### Суммарная концентрация всех веществ на разных стадиях: в сырье, в черновом и финальном концентратах"
   ]
  },
  {
   "cell_type": "markdown",
   "id": "8524f68f",
   "metadata": {},
   "source": [
    "Исследуем суммарную концентрацию всех веществ на разных стадиях: в сырье, в черновом и финальном концентратах в обучающей и тестовой выборках, чтобы очистить выборки, на которых будет обучаться модель, от записей с аномальными значениями."
   ]
  },
  {
   "cell_type": "markdown",
   "id": "29aede53",
   "metadata": {},
   "source": [
    "**df_train**"
   ]
  },
  {
   "cell_type": "markdown",
   "id": "1f09c8f8",
   "metadata": {},
   "source": [
    "Создадим функцию для добавления столбцов с суммарными концентрациями веществ в датафрейм."
   ]
  },
  {
   "cell_type": "code",
   "execution_count": 47,
   "id": "04294d61",
   "metadata": {},
   "outputs": [],
   "source": [
    "# создание функции\n",
    "def concentrate(df):\n",
    "    df['rougher_input'] = df[['rougher.input.feed_au', 'rougher.input.feed_ag', 'rougher.input.feed_pb', 'rougher.input.feed_sol']].sum(axis=1)\n",
    "    df['rougher_output'] = df[['rougher.output.concentrate_au', 'rougher.output.concentrate_ag', 'rougher.output.concentrate_pb', 'rougher.output.concentrate_sol']].sum(axis=1)\n",
    "    df['final_output'] = df[['final.output.concentrate_au', 'final.output.concentrate_ag', 'final.output.concentrate_pb', 'final.output.concentrate_sol']].sum(axis=1)"
   ]
  },
  {
   "cell_type": "markdown",
   "id": "4b5f32bb",
   "metadata": {},
   "source": [
    "Применим функцию к датафрейму с обучающей выборкой."
   ]
  },
  {
   "cell_type": "code",
   "execution_count": 48,
   "id": "bc2c35d3",
   "metadata": {},
   "outputs": [],
   "source": [
    "# применение функции\n",
    "concentrate(df_train)"
   ]
  },
  {
   "cell_type": "markdown",
   "id": "53460b2c",
   "metadata": {},
   "source": [
    "Проверим результат."
   ]
  },
  {
   "cell_type": "code",
   "execution_count": 49,
   "id": "f428bb92",
   "metadata": {
    "scrolled": false
   },
   "outputs": [
    {
     "data": {
      "text/html": [
       "<div>\n",
       "<style scoped>\n",
       "    .dataframe tbody tr th:only-of-type {\n",
       "        vertical-align: middle;\n",
       "    }\n",
       "\n",
       "    .dataframe tbody tr th {\n",
       "        vertical-align: top;\n",
       "    }\n",
       "\n",
       "    .dataframe thead th {\n",
       "        text-align: right;\n",
       "    }\n",
       "</style>\n",
       "<table border=\"1\" class=\"dataframe\">\n",
       "  <thead>\n",
       "    <tr style=\"text-align: right;\">\n",
       "      <th></th>\n",
       "      <th>final.output.concentrate_ag</th>\n",
       "      <th>final.output.concentrate_pb</th>\n",
       "      <th>final.output.concentrate_sol</th>\n",
       "      <th>final.output.concentrate_au</th>\n",
       "      <th>final.output.recovery</th>\n",
       "      <th>final.output.tail_ag</th>\n",
       "      <th>final.output.tail_pb</th>\n",
       "      <th>final.output.tail_sol</th>\n",
       "      <th>final.output.tail_au</th>\n",
       "      <th>primary_cleaner.input.sulfate</th>\n",
       "      <th>primary_cleaner.input.depressant</th>\n",
       "      <th>primary_cleaner.input.feed_size</th>\n",
       "      <th>primary_cleaner.input.xanthate</th>\n",
       "      <th>primary_cleaner.output.concentrate_ag</th>\n",
       "      <th>primary_cleaner.output.concentrate_pb</th>\n",
       "      <th>primary_cleaner.output.concentrate_sol</th>\n",
       "      <th>primary_cleaner.output.concentrate_au</th>\n",
       "      <th>primary_cleaner.output.tail_ag</th>\n",
       "      <th>primary_cleaner.output.tail_pb</th>\n",
       "      <th>primary_cleaner.output.tail_sol</th>\n",
       "      <th>primary_cleaner.output.tail_au</th>\n",
       "      <th>primary_cleaner.state.floatbank8_a_air</th>\n",
       "      <th>primary_cleaner.state.floatbank8_a_level</th>\n",
       "      <th>primary_cleaner.state.floatbank8_b_air</th>\n",
       "      <th>primary_cleaner.state.floatbank8_b_level</th>\n",
       "      <th>primary_cleaner.state.floatbank8_c_air</th>\n",
       "      <th>primary_cleaner.state.floatbank8_c_level</th>\n",
       "      <th>primary_cleaner.state.floatbank8_d_air</th>\n",
       "      <th>primary_cleaner.state.floatbank8_d_level</th>\n",
       "      <th>rougher.calculation.sulfate_to_au_concentrate</th>\n",
       "      <th>rougher.calculation.floatbank10_sulfate_to_au_feed</th>\n",
       "      <th>rougher.calculation.floatbank11_sulfate_to_au_feed</th>\n",
       "      <th>rougher.calculation.au_pb_ratio</th>\n",
       "      <th>rougher.input.feed_ag</th>\n",
       "      <th>rougher.input.feed_pb</th>\n",
       "      <th>rougher.input.feed_rate</th>\n",
       "      <th>rougher.input.feed_size</th>\n",
       "      <th>rougher.input.feed_sol</th>\n",
       "      <th>rougher.input.feed_au</th>\n",
       "      <th>rougher.input.floatbank10_sulfate</th>\n",
       "      <th>rougher.input.floatbank10_xanthate</th>\n",
       "      <th>rougher.input.floatbank11_sulfate</th>\n",
       "      <th>rougher.input.floatbank11_xanthate</th>\n",
       "      <th>rougher.output.concentrate_ag</th>\n",
       "      <th>rougher.output.concentrate_pb</th>\n",
       "      <th>rougher.output.concentrate_sol</th>\n",
       "      <th>rougher.output.concentrate_au</th>\n",
       "      <th>rougher.output.recovery</th>\n",
       "      <th>rougher.output.tail_ag</th>\n",
       "      <th>rougher.output.tail_pb</th>\n",
       "      <th>rougher.output.tail_sol</th>\n",
       "      <th>rougher.output.tail_au</th>\n",
       "      <th>rougher.state.floatbank10_a_air</th>\n",
       "      <th>rougher.state.floatbank10_a_level</th>\n",
       "      <th>rougher.state.floatbank10_b_air</th>\n",
       "      <th>rougher.state.floatbank10_b_level</th>\n",
       "      <th>rougher.state.floatbank10_c_air</th>\n",
       "      <th>rougher.state.floatbank10_c_level</th>\n",
       "      <th>rougher.state.floatbank10_d_air</th>\n",
       "      <th>rougher.state.floatbank10_d_level</th>\n",
       "      <th>rougher.state.floatbank10_e_air</th>\n",
       "      <th>rougher.state.floatbank10_e_level</th>\n",
       "      <th>rougher.state.floatbank10_f_air</th>\n",
       "      <th>rougher.state.floatbank10_f_level</th>\n",
       "      <th>secondary_cleaner.output.tail_ag</th>\n",
       "      <th>secondary_cleaner.output.tail_pb</th>\n",
       "      <th>secondary_cleaner.output.tail_sol</th>\n",
       "      <th>secondary_cleaner.output.tail_au</th>\n",
       "      <th>secondary_cleaner.state.floatbank2_a_air</th>\n",
       "      <th>secondary_cleaner.state.floatbank2_a_level</th>\n",
       "      <th>secondary_cleaner.state.floatbank2_b_air</th>\n",
       "      <th>secondary_cleaner.state.floatbank2_b_level</th>\n",
       "      <th>secondary_cleaner.state.floatbank3_a_air</th>\n",
       "      <th>secondary_cleaner.state.floatbank3_a_level</th>\n",
       "      <th>secondary_cleaner.state.floatbank3_b_air</th>\n",
       "      <th>secondary_cleaner.state.floatbank3_b_level</th>\n",
       "      <th>secondary_cleaner.state.floatbank4_a_air</th>\n",
       "      <th>secondary_cleaner.state.floatbank4_a_level</th>\n",
       "      <th>secondary_cleaner.state.floatbank4_b_air</th>\n",
       "      <th>secondary_cleaner.state.floatbank4_b_level</th>\n",
       "      <th>secondary_cleaner.state.floatbank5_a_air</th>\n",
       "      <th>secondary_cleaner.state.floatbank5_a_level</th>\n",
       "      <th>secondary_cleaner.state.floatbank5_b_air</th>\n",
       "      <th>secondary_cleaner.state.floatbank5_b_level</th>\n",
       "      <th>secondary_cleaner.state.floatbank6_a_air</th>\n",
       "      <th>secondary_cleaner.state.floatbank6_a_level</th>\n",
       "      <th>rougher_input</th>\n",
       "      <th>rougher_output</th>\n",
       "      <th>final_output</th>\n",
       "    </tr>\n",
       "    <tr>\n",
       "      <th>date</th>\n",
       "      <th></th>\n",
       "      <th></th>\n",
       "      <th></th>\n",
       "      <th></th>\n",
       "      <th></th>\n",
       "      <th></th>\n",
       "      <th></th>\n",
       "      <th></th>\n",
       "      <th></th>\n",
       "      <th></th>\n",
       "      <th></th>\n",
       "      <th></th>\n",
       "      <th></th>\n",
       "      <th></th>\n",
       "      <th></th>\n",
       "      <th></th>\n",
       "      <th></th>\n",
       "      <th></th>\n",
       "      <th></th>\n",
       "      <th></th>\n",
       "      <th></th>\n",
       "      <th></th>\n",
       "      <th></th>\n",
       "      <th></th>\n",
       "      <th></th>\n",
       "      <th></th>\n",
       "      <th></th>\n",
       "      <th></th>\n",
       "      <th></th>\n",
       "      <th></th>\n",
       "      <th></th>\n",
       "      <th></th>\n",
       "      <th></th>\n",
       "      <th></th>\n",
       "      <th></th>\n",
       "      <th></th>\n",
       "      <th></th>\n",
       "      <th></th>\n",
       "      <th></th>\n",
       "      <th></th>\n",
       "      <th></th>\n",
       "      <th></th>\n",
       "      <th></th>\n",
       "      <th></th>\n",
       "      <th></th>\n",
       "      <th></th>\n",
       "      <th></th>\n",
       "      <th></th>\n",
       "      <th></th>\n",
       "      <th></th>\n",
       "      <th></th>\n",
       "      <th></th>\n",
       "      <th></th>\n",
       "      <th></th>\n",
       "      <th></th>\n",
       "      <th></th>\n",
       "      <th></th>\n",
       "      <th></th>\n",
       "      <th></th>\n",
       "      <th></th>\n",
       "      <th></th>\n",
       "      <th></th>\n",
       "      <th></th>\n",
       "      <th></th>\n",
       "      <th></th>\n",
       "      <th></th>\n",
       "      <th></th>\n",
       "      <th></th>\n",
       "      <th></th>\n",
       "      <th></th>\n",
       "      <th></th>\n",
       "      <th></th>\n",
       "      <th></th>\n",
       "      <th></th>\n",
       "      <th></th>\n",
       "      <th></th>\n",
       "      <th></th>\n",
       "      <th></th>\n",
       "      <th></th>\n",
       "      <th></th>\n",
       "      <th></th>\n",
       "      <th></th>\n",
       "      <th></th>\n",
       "      <th></th>\n",
       "      <th></th>\n",
       "      <th></th>\n",
       "      <th></th>\n",
       "      <th></th>\n",
       "      <th></th>\n",
       "    </tr>\n",
       "  </thead>\n",
       "  <tbody>\n",
       "    <tr>\n",
       "      <th>2016-01-15 00:00:00</th>\n",
       "      <td>6.055403</td>\n",
       "      <td>9.889648</td>\n",
       "      <td>5.507324</td>\n",
       "      <td>42.192020</td>\n",
       "      <td>70.541214</td>\n",
       "      <td>10.411962</td>\n",
       "      <td>0.895447</td>\n",
       "      <td>16.904297</td>\n",
       "      <td>2.143149</td>\n",
       "      <td>127.092003</td>\n",
       "      <td>10.128295</td>\n",
       "      <td>7.25</td>\n",
       "      <td>0.988759</td>\n",
       "      <td>8.547551</td>\n",
       "      <td>10.389648</td>\n",
       "      <td>19.529297</td>\n",
       "      <td>34.174427</td>\n",
       "      <td>14.936526</td>\n",
       "      <td>2.534912</td>\n",
       "      <td>7.476074</td>\n",
       "      <td>2.106679</td>\n",
       "      <td>1549.775757</td>\n",
       "      <td>-498.912140</td>\n",
       "      <td>1551.434204</td>\n",
       "      <td>-516.403442</td>\n",
       "      <td>1549.873901</td>\n",
       "      <td>-498.666595</td>\n",
       "      <td>1554.367432</td>\n",
       "      <td>-493.428131</td>\n",
       "      <td>41885.707031</td>\n",
       "      <td>3481.779053</td>\n",
       "      <td>3520.337158</td>\n",
       "      <td>2.838687</td>\n",
       "      <td>6.100378</td>\n",
       "      <td>2.284912</td>\n",
       "      <td>523.546326</td>\n",
       "      <td>55.486599</td>\n",
       "      <td>36.808594</td>\n",
       "      <td>6.486150</td>\n",
       "      <td>11.986616</td>\n",
       "      <td>6.007990</td>\n",
       "      <td>11.836743</td>\n",
       "      <td>6.005818</td>\n",
       "      <td>11.500771</td>\n",
       "      <td>7.101074</td>\n",
       "      <td>28.029297</td>\n",
       "      <td>19.793808</td>\n",
       "      <td>87.107765</td>\n",
       "      <td>5.008018</td>\n",
       "      <td>0.508728</td>\n",
       "      <td>19.154297</td>\n",
       "      <td>1.170244</td>\n",
       "      <td>999.706909</td>\n",
       "      <td>-404.066986</td>\n",
       "      <td>1603.011353</td>\n",
       "      <td>-434.715027</td>\n",
       "      <td>1602.375000</td>\n",
       "      <td>-442.204468</td>\n",
       "      <td>1598.937256</td>\n",
       "      <td>-451.294128</td>\n",
       "      <td>1404.472046</td>\n",
       "      <td>-455.462982</td>\n",
       "      <td>1416.354980</td>\n",
       "      <td>-451.939636</td>\n",
       "      <td>14.500184</td>\n",
       "      <td>4.694824</td>\n",
       "      <td>8.764648</td>\n",
       "      <td>2.606185</td>\n",
       "      <td>25.853109</td>\n",
       "      <td>-498.526489</td>\n",
       "      <td>23.893660</td>\n",
       "      <td>-501.406281</td>\n",
       "      <td>23.961798</td>\n",
       "      <td>-495.262817</td>\n",
       "      <td>21.940409</td>\n",
       "      <td>-499.340973</td>\n",
       "      <td>14.016835</td>\n",
       "      <td>-502.488007</td>\n",
       "      <td>12.099931</td>\n",
       "      <td>-504.715942</td>\n",
       "      <td>9.925633</td>\n",
       "      <td>-498.310211</td>\n",
       "      <td>8.079666</td>\n",
       "      <td>-500.470978</td>\n",
       "      <td>14.151341</td>\n",
       "      <td>-605.841980</td>\n",
       "      <td>51.680035</td>\n",
       "      <td>66.424950</td>\n",
       "      <td>63.644394</td>\n",
       "    </tr>\n",
       "    <tr>\n",
       "      <th>2016-01-15 01:00:00</th>\n",
       "      <td>6.029368</td>\n",
       "      <td>9.968945</td>\n",
       "      <td>5.257782</td>\n",
       "      <td>42.701630</td>\n",
       "      <td>69.266197</td>\n",
       "      <td>10.462676</td>\n",
       "      <td>0.927452</td>\n",
       "      <td>16.634514</td>\n",
       "      <td>2.224930</td>\n",
       "      <td>125.629234</td>\n",
       "      <td>10.296250</td>\n",
       "      <td>7.25</td>\n",
       "      <td>1.002663</td>\n",
       "      <td>8.558743</td>\n",
       "      <td>10.497069</td>\n",
       "      <td>19.369146</td>\n",
       "      <td>34.118526</td>\n",
       "      <td>16.250511</td>\n",
       "      <td>3.049646</td>\n",
       "      <td>6.733907</td>\n",
       "      <td>2.353017</td>\n",
       "      <td>1576.166626</td>\n",
       "      <td>-500.904968</td>\n",
       "      <td>1575.950684</td>\n",
       "      <td>-499.865875</td>\n",
       "      <td>1575.994141</td>\n",
       "      <td>-499.315094</td>\n",
       "      <td>1574.479248</td>\n",
       "      <td>-498.931671</td>\n",
       "      <td>42050.863281</td>\n",
       "      <td>3498.371094</td>\n",
       "      <td>3489.981934</td>\n",
       "      <td>2.858998</td>\n",
       "      <td>6.161113</td>\n",
       "      <td>2.266033</td>\n",
       "      <td>525.290588</td>\n",
       "      <td>57.278667</td>\n",
       "      <td>35.753384</td>\n",
       "      <td>6.478583</td>\n",
       "      <td>11.971193</td>\n",
       "      <td>6.005766</td>\n",
       "      <td>11.996162</td>\n",
       "      <td>6.012594</td>\n",
       "      <td>11.615865</td>\n",
       "      <td>7.278807</td>\n",
       "      <td>28.067064</td>\n",
       "      <td>20.050976</td>\n",
       "      <td>86.843262</td>\n",
       "      <td>4.955378</td>\n",
       "      <td>0.536689</td>\n",
       "      <td>18.965235</td>\n",
       "      <td>1.184827</td>\n",
       "      <td>1000.286377</td>\n",
       "      <td>-400.065186</td>\n",
       "      <td>1600.754639</td>\n",
       "      <td>-449.953430</td>\n",
       "      <td>1600.479614</td>\n",
       "      <td>-449.830658</td>\n",
       "      <td>1600.527588</td>\n",
       "      <td>-449.953644</td>\n",
       "      <td>1399.227051</td>\n",
       "      <td>-450.869843</td>\n",
       "      <td>1399.719482</td>\n",
       "      <td>-450.118988</td>\n",
       "      <td>14.265473</td>\n",
       "      <td>4.592547</td>\n",
       "      <td>9.001494</td>\n",
       "      <td>2.488248</td>\n",
       "      <td>25.880539</td>\n",
       "      <td>-499.989655</td>\n",
       "      <td>23.889530</td>\n",
       "      <td>-500.372437</td>\n",
       "      <td>23.970551</td>\n",
       "      <td>-500.085480</td>\n",
       "      <td>22.085714</td>\n",
       "      <td>-499.446899</td>\n",
       "      <td>13.992281</td>\n",
       "      <td>-505.503265</td>\n",
       "      <td>11.950531</td>\n",
       "      <td>-501.331543</td>\n",
       "      <td>10.039246</td>\n",
       "      <td>-500.169983</td>\n",
       "      <td>7.984757</td>\n",
       "      <td>-500.582153</td>\n",
       "      <td>13.998353</td>\n",
       "      <td>-599.787170</td>\n",
       "      <td>50.659111</td>\n",
       "      <td>67.012711</td>\n",
       "      <td>63.957726</td>\n",
       "    </tr>\n",
       "    <tr>\n",
       "      <th>2016-01-15 02:00:00</th>\n",
       "      <td>6.055926</td>\n",
       "      <td>10.213995</td>\n",
       "      <td>5.383759</td>\n",
       "      <td>42.657501</td>\n",
       "      <td>68.116447</td>\n",
       "      <td>10.507046</td>\n",
       "      <td>0.953716</td>\n",
       "      <td>16.208849</td>\n",
       "      <td>2.257889</td>\n",
       "      <td>123.819809</td>\n",
       "      <td>11.316279</td>\n",
       "      <td>7.25</td>\n",
       "      <td>0.991265</td>\n",
       "      <td>8.603505</td>\n",
       "      <td>10.354494</td>\n",
       "      <td>19.167580</td>\n",
       "      <td>33.969463</td>\n",
       "      <td>16.491823</td>\n",
       "      <td>3.124664</td>\n",
       "      <td>6.471768</td>\n",
       "      <td>2.416800</td>\n",
       "      <td>1601.556152</td>\n",
       "      <td>-499.997803</td>\n",
       "      <td>1600.386719</td>\n",
       "      <td>-500.607758</td>\n",
       "      <td>1602.003540</td>\n",
       "      <td>-500.870056</td>\n",
       "      <td>1599.541504</td>\n",
       "      <td>-499.827454</td>\n",
       "      <td>42018.101562</td>\n",
       "      <td>3495.348877</td>\n",
       "      <td>3502.359863</td>\n",
       "      <td>2.945989</td>\n",
       "      <td>6.116455</td>\n",
       "      <td>2.159622</td>\n",
       "      <td>530.026611</td>\n",
       "      <td>57.510651</td>\n",
       "      <td>35.971630</td>\n",
       "      <td>6.362222</td>\n",
       "      <td>11.920603</td>\n",
       "      <td>6.197377</td>\n",
       "      <td>11.920305</td>\n",
       "      <td>6.204633</td>\n",
       "      <td>11.695753</td>\n",
       "      <td>7.216833</td>\n",
       "      <td>27.454037</td>\n",
       "      <td>19.737169</td>\n",
       "      <td>86.842308</td>\n",
       "      <td>4.843460</td>\n",
       "      <td>0.546416</td>\n",
       "      <td>18.808533</td>\n",
       "      <td>1.162562</td>\n",
       "      <td>999.719543</td>\n",
       "      <td>-400.074036</td>\n",
       "      <td>1599.337280</td>\n",
       "      <td>-450.008545</td>\n",
       "      <td>1599.672852</td>\n",
       "      <td>-449.954498</td>\n",
       "      <td>1599.849365</td>\n",
       "      <td>-449.954193</td>\n",
       "      <td>1399.180908</td>\n",
       "      <td>-449.937592</td>\n",
       "      <td>1400.316650</td>\n",
       "      <td>-450.527161</td>\n",
       "      <td>14.115662</td>\n",
       "      <td>4.624775</td>\n",
       "      <td>8.842896</td>\n",
       "      <td>2.458187</td>\n",
       "      <td>26.005245</td>\n",
       "      <td>-499.929626</td>\n",
       "      <td>23.886656</td>\n",
       "      <td>-499.951935</td>\n",
       "      <td>23.913534</td>\n",
       "      <td>-499.442352</td>\n",
       "      <td>23.957716</td>\n",
       "      <td>-499.901978</td>\n",
       "      <td>14.015016</td>\n",
       "      <td>-502.520905</td>\n",
       "      <td>11.912783</td>\n",
       "      <td>-501.133392</td>\n",
       "      <td>10.070913</td>\n",
       "      <td>-500.129120</td>\n",
       "      <td>8.013877</td>\n",
       "      <td>-500.517578</td>\n",
       "      <td>14.028663</td>\n",
       "      <td>-601.427368</td>\n",
       "      <td>50.609932</td>\n",
       "      <td>66.103790</td>\n",
       "      <td>64.311180</td>\n",
       "    </tr>\n",
       "    <tr>\n",
       "      <th>2016-01-15 03:00:00</th>\n",
       "      <td>6.047977</td>\n",
       "      <td>9.977018</td>\n",
       "      <td>4.858634</td>\n",
       "      <td>42.689819</td>\n",
       "      <td>68.347542</td>\n",
       "      <td>10.422762</td>\n",
       "      <td>0.883763</td>\n",
       "      <td>16.532835</td>\n",
       "      <td>2.146849</td>\n",
       "      <td>122.270187</td>\n",
       "      <td>11.322140</td>\n",
       "      <td>7.25</td>\n",
       "      <td>0.996739</td>\n",
       "      <td>7.221879</td>\n",
       "      <td>8.496563</td>\n",
       "      <td>15.978539</td>\n",
       "      <td>28.260742</td>\n",
       "      <td>16.024359</td>\n",
       "      <td>2.960362</td>\n",
       "      <td>6.843791</td>\n",
       "      <td>2.262051</td>\n",
       "      <td>1599.968750</td>\n",
       "      <td>-500.951782</td>\n",
       "      <td>1600.659180</td>\n",
       "      <td>-499.677094</td>\n",
       "      <td>1600.304199</td>\n",
       "      <td>-500.727997</td>\n",
       "      <td>1600.449463</td>\n",
       "      <td>-500.052582</td>\n",
       "      <td>42029.449219</td>\n",
       "      <td>3498.578369</td>\n",
       "      <td>3499.162842</td>\n",
       "      <td>3.002340</td>\n",
       "      <td>6.043309</td>\n",
       "      <td>2.037807</td>\n",
       "      <td>542.590393</td>\n",
       "      <td>57.792732</td>\n",
       "      <td>36.862240</td>\n",
       "      <td>6.118189</td>\n",
       "      <td>11.630094</td>\n",
       "      <td>6.203177</td>\n",
       "      <td>11.692450</td>\n",
       "      <td>6.196578</td>\n",
       "      <td>11.915047</td>\n",
       "      <td>7.175616</td>\n",
       "      <td>27.341278</td>\n",
       "      <td>19.320810</td>\n",
       "      <td>87.226433</td>\n",
       "      <td>4.655288</td>\n",
       "      <td>0.542525</td>\n",
       "      <td>19.330200</td>\n",
       "      <td>1.079754</td>\n",
       "      <td>999.814758</td>\n",
       "      <td>-400.200165</td>\n",
       "      <td>1600.059448</td>\n",
       "      <td>-450.619934</td>\n",
       "      <td>1600.012817</td>\n",
       "      <td>-449.910492</td>\n",
       "      <td>1597.725220</td>\n",
       "      <td>-450.130127</td>\n",
       "      <td>1400.943115</td>\n",
       "      <td>-450.030151</td>\n",
       "      <td>1400.234741</td>\n",
       "      <td>-449.790833</td>\n",
       "      <td>13.732071</td>\n",
       "      <td>4.482453</td>\n",
       "      <td>9.122857</td>\n",
       "      <td>2.322062</td>\n",
       "      <td>25.942507</td>\n",
       "      <td>-499.176758</td>\n",
       "      <td>23.955517</td>\n",
       "      <td>-499.848785</td>\n",
       "      <td>23.966837</td>\n",
       "      <td>-500.008820</td>\n",
       "      <td>23.954443</td>\n",
       "      <td>-499.944702</td>\n",
       "      <td>14.036510</td>\n",
       "      <td>-500.857300</td>\n",
       "      <td>11.999551</td>\n",
       "      <td>-501.193695</td>\n",
       "      <td>9.970366</td>\n",
       "      <td>-499.201630</td>\n",
       "      <td>7.977324</td>\n",
       "      <td>-500.255920</td>\n",
       "      <td>14.005551</td>\n",
       "      <td>-599.996155</td>\n",
       "      <td>51.061546</td>\n",
       "      <td>65.752747</td>\n",
       "      <td>63.573448</td>\n",
       "    </tr>\n",
       "    <tr>\n",
       "      <th>2016-01-15 04:00:00</th>\n",
       "      <td>6.148599</td>\n",
       "      <td>10.142511</td>\n",
       "      <td>4.939415</td>\n",
       "      <td>42.774139</td>\n",
       "      <td>66.927017</td>\n",
       "      <td>10.360302</td>\n",
       "      <td>0.792826</td>\n",
       "      <td>16.525686</td>\n",
       "      <td>2.055292</td>\n",
       "      <td>117.988167</td>\n",
       "      <td>11.913613</td>\n",
       "      <td>7.25</td>\n",
       "      <td>1.009869</td>\n",
       "      <td>9.089428</td>\n",
       "      <td>9.986786</td>\n",
       "      <td>19.199863</td>\n",
       "      <td>33.044933</td>\n",
       "      <td>16.480185</td>\n",
       "      <td>3.112100</td>\n",
       "      <td>6.550155</td>\n",
       "      <td>2.277073</td>\n",
       "      <td>1601.339722</td>\n",
       "      <td>-498.975464</td>\n",
       "      <td>1601.437866</td>\n",
       "      <td>-500.323242</td>\n",
       "      <td>1599.581909</td>\n",
       "      <td>-500.888153</td>\n",
       "      <td>1602.649536</td>\n",
       "      <td>-500.593018</td>\n",
       "      <td>42125.355469</td>\n",
       "      <td>3494.800781</td>\n",
       "      <td>3506.679199</td>\n",
       "      <td>3.169615</td>\n",
       "      <td>6.060915</td>\n",
       "      <td>1.786875</td>\n",
       "      <td>540.531921</td>\n",
       "      <td>56.047188</td>\n",
       "      <td>34.347664</td>\n",
       "      <td>5.663707</td>\n",
       "      <td>10.957754</td>\n",
       "      <td>6.198826</td>\n",
       "      <td>10.960521</td>\n",
       "      <td>6.194897</td>\n",
       "      <td>12.411054</td>\n",
       "      <td>7.240205</td>\n",
       "      <td>27.041023</td>\n",
       "      <td>19.216101</td>\n",
       "      <td>86.688797</td>\n",
       "      <td>4.552800</td>\n",
       "      <td>0.515438</td>\n",
       "      <td>19.267422</td>\n",
       "      <td>1.012642</td>\n",
       "      <td>999.678711</td>\n",
       "      <td>-399.752716</td>\n",
       "      <td>1600.208862</td>\n",
       "      <td>-449.599609</td>\n",
       "      <td>1600.357788</td>\n",
       "      <td>-450.034363</td>\n",
       "      <td>1599.759033</td>\n",
       "      <td>-449.909790</td>\n",
       "      <td>1401.560913</td>\n",
       "      <td>-448.877197</td>\n",
       "      <td>1401.160278</td>\n",
       "      <td>-450.407135</td>\n",
       "      <td>14.079995</td>\n",
       "      <td>4.470737</td>\n",
       "      <td>8.871028</td>\n",
       "      <td>2.330448</td>\n",
       "      <td>26.024788</td>\n",
       "      <td>-500.279083</td>\n",
       "      <td>23.955345</td>\n",
       "      <td>-500.593628</td>\n",
       "      <td>23.985703</td>\n",
       "      <td>-500.083801</td>\n",
       "      <td>23.958944</td>\n",
       "      <td>-499.990295</td>\n",
       "      <td>14.027298</td>\n",
       "      <td>-499.838623</td>\n",
       "      <td>11.953071</td>\n",
       "      <td>-501.053894</td>\n",
       "      <td>9.925709</td>\n",
       "      <td>-501.686737</td>\n",
       "      <td>7.894242</td>\n",
       "      <td>-500.356049</td>\n",
       "      <td>13.996647</td>\n",
       "      <td>-601.496704</td>\n",
       "      <td>47.859161</td>\n",
       "      <td>65.908386</td>\n",
       "      <td>64.004662</td>\n",
       "    </tr>\n",
       "  </tbody>\n",
       "</table>\n",
       "</div>"
      ],
      "text/plain": [
       "                     final.output.concentrate_ag  final.output.concentrate_pb  \\\n",
       "date                                                                            \n",
       "2016-01-15 00:00:00                     6.055403                     9.889648   \n",
       "2016-01-15 01:00:00                     6.029368                     9.968945   \n",
       "2016-01-15 02:00:00                     6.055926                    10.213995   \n",
       "2016-01-15 03:00:00                     6.047977                     9.977018   \n",
       "2016-01-15 04:00:00                     6.148599                    10.142511   \n",
       "\n",
       "                     final.output.concentrate_sol  \\\n",
       "date                                                \n",
       "2016-01-15 00:00:00                      5.507324   \n",
       "2016-01-15 01:00:00                      5.257782   \n",
       "2016-01-15 02:00:00                      5.383759   \n",
       "2016-01-15 03:00:00                      4.858634   \n",
       "2016-01-15 04:00:00                      4.939415   \n",
       "\n",
       "                     final.output.concentrate_au  final.output.recovery  \\\n",
       "date                                                                      \n",
       "2016-01-15 00:00:00                    42.192020              70.541214   \n",
       "2016-01-15 01:00:00                    42.701630              69.266197   \n",
       "2016-01-15 02:00:00                    42.657501              68.116447   \n",
       "2016-01-15 03:00:00                    42.689819              68.347542   \n",
       "2016-01-15 04:00:00                    42.774139              66.927017   \n",
       "\n",
       "                     final.output.tail_ag  final.output.tail_pb  \\\n",
       "date                                                              \n",
       "2016-01-15 00:00:00             10.411962              0.895447   \n",
       "2016-01-15 01:00:00             10.462676              0.927452   \n",
       "2016-01-15 02:00:00             10.507046              0.953716   \n",
       "2016-01-15 03:00:00             10.422762              0.883763   \n",
       "2016-01-15 04:00:00             10.360302              0.792826   \n",
       "\n",
       "                     final.output.tail_sol  final.output.tail_au  \\\n",
       "date                                                               \n",
       "2016-01-15 00:00:00              16.904297              2.143149   \n",
       "2016-01-15 01:00:00              16.634514              2.224930   \n",
       "2016-01-15 02:00:00              16.208849              2.257889   \n",
       "2016-01-15 03:00:00              16.532835              2.146849   \n",
       "2016-01-15 04:00:00              16.525686              2.055292   \n",
       "\n",
       "                     primary_cleaner.input.sulfate  \\\n",
       "date                                                 \n",
       "2016-01-15 00:00:00                     127.092003   \n",
       "2016-01-15 01:00:00                     125.629234   \n",
       "2016-01-15 02:00:00                     123.819809   \n",
       "2016-01-15 03:00:00                     122.270187   \n",
       "2016-01-15 04:00:00                     117.988167   \n",
       "\n",
       "                     primary_cleaner.input.depressant  \\\n",
       "date                                                    \n",
       "2016-01-15 00:00:00                         10.128295   \n",
       "2016-01-15 01:00:00                         10.296250   \n",
       "2016-01-15 02:00:00                         11.316279   \n",
       "2016-01-15 03:00:00                         11.322140   \n",
       "2016-01-15 04:00:00                         11.913613   \n",
       "\n",
       "                     primary_cleaner.input.feed_size  \\\n",
       "date                                                   \n",
       "2016-01-15 00:00:00                             7.25   \n",
       "2016-01-15 01:00:00                             7.25   \n",
       "2016-01-15 02:00:00                             7.25   \n",
       "2016-01-15 03:00:00                             7.25   \n",
       "2016-01-15 04:00:00                             7.25   \n",
       "\n",
       "                     primary_cleaner.input.xanthate  \\\n",
       "date                                                  \n",
       "2016-01-15 00:00:00                        0.988759   \n",
       "2016-01-15 01:00:00                        1.002663   \n",
       "2016-01-15 02:00:00                        0.991265   \n",
       "2016-01-15 03:00:00                        0.996739   \n",
       "2016-01-15 04:00:00                        1.009869   \n",
       "\n",
       "                     primary_cleaner.output.concentrate_ag  \\\n",
       "date                                                         \n",
       "2016-01-15 00:00:00                               8.547551   \n",
       "2016-01-15 01:00:00                               8.558743   \n",
       "2016-01-15 02:00:00                               8.603505   \n",
       "2016-01-15 03:00:00                               7.221879   \n",
       "2016-01-15 04:00:00                               9.089428   \n",
       "\n",
       "                     primary_cleaner.output.concentrate_pb  \\\n",
       "date                                                         \n",
       "2016-01-15 00:00:00                              10.389648   \n",
       "2016-01-15 01:00:00                              10.497069   \n",
       "2016-01-15 02:00:00                              10.354494   \n",
       "2016-01-15 03:00:00                               8.496563   \n",
       "2016-01-15 04:00:00                               9.986786   \n",
       "\n",
       "                     primary_cleaner.output.concentrate_sol  \\\n",
       "date                                                          \n",
       "2016-01-15 00:00:00                               19.529297   \n",
       "2016-01-15 01:00:00                               19.369146   \n",
       "2016-01-15 02:00:00                               19.167580   \n",
       "2016-01-15 03:00:00                               15.978539   \n",
       "2016-01-15 04:00:00                               19.199863   \n",
       "\n",
       "                     primary_cleaner.output.concentrate_au  \\\n",
       "date                                                         \n",
       "2016-01-15 00:00:00                              34.174427   \n",
       "2016-01-15 01:00:00                              34.118526   \n",
       "2016-01-15 02:00:00                              33.969463   \n",
       "2016-01-15 03:00:00                              28.260742   \n",
       "2016-01-15 04:00:00                              33.044933   \n",
       "\n",
       "                     primary_cleaner.output.tail_ag  \\\n",
       "date                                                  \n",
       "2016-01-15 00:00:00                       14.936526   \n",
       "2016-01-15 01:00:00                       16.250511   \n",
       "2016-01-15 02:00:00                       16.491823   \n",
       "2016-01-15 03:00:00                       16.024359   \n",
       "2016-01-15 04:00:00                       16.480185   \n",
       "\n",
       "                     primary_cleaner.output.tail_pb  \\\n",
       "date                                                  \n",
       "2016-01-15 00:00:00                        2.534912   \n",
       "2016-01-15 01:00:00                        3.049646   \n",
       "2016-01-15 02:00:00                        3.124664   \n",
       "2016-01-15 03:00:00                        2.960362   \n",
       "2016-01-15 04:00:00                        3.112100   \n",
       "\n",
       "                     primary_cleaner.output.tail_sol  \\\n",
       "date                                                   \n",
       "2016-01-15 00:00:00                         7.476074   \n",
       "2016-01-15 01:00:00                         6.733907   \n",
       "2016-01-15 02:00:00                         6.471768   \n",
       "2016-01-15 03:00:00                         6.843791   \n",
       "2016-01-15 04:00:00                         6.550155   \n",
       "\n",
       "                     primary_cleaner.output.tail_au  \\\n",
       "date                                                  \n",
       "2016-01-15 00:00:00                        2.106679   \n",
       "2016-01-15 01:00:00                        2.353017   \n",
       "2016-01-15 02:00:00                        2.416800   \n",
       "2016-01-15 03:00:00                        2.262051   \n",
       "2016-01-15 04:00:00                        2.277073   \n",
       "\n",
       "                     primary_cleaner.state.floatbank8_a_air  \\\n",
       "date                                                          \n",
       "2016-01-15 00:00:00                             1549.775757   \n",
       "2016-01-15 01:00:00                             1576.166626   \n",
       "2016-01-15 02:00:00                             1601.556152   \n",
       "2016-01-15 03:00:00                             1599.968750   \n",
       "2016-01-15 04:00:00                             1601.339722   \n",
       "\n",
       "                     primary_cleaner.state.floatbank8_a_level  \\\n",
       "date                                                            \n",
       "2016-01-15 00:00:00                               -498.912140   \n",
       "2016-01-15 01:00:00                               -500.904968   \n",
       "2016-01-15 02:00:00                               -499.997803   \n",
       "2016-01-15 03:00:00                               -500.951782   \n",
       "2016-01-15 04:00:00                               -498.975464   \n",
       "\n",
       "                     primary_cleaner.state.floatbank8_b_air  \\\n",
       "date                                                          \n",
       "2016-01-15 00:00:00                             1551.434204   \n",
       "2016-01-15 01:00:00                             1575.950684   \n",
       "2016-01-15 02:00:00                             1600.386719   \n",
       "2016-01-15 03:00:00                             1600.659180   \n",
       "2016-01-15 04:00:00                             1601.437866   \n",
       "\n",
       "                     primary_cleaner.state.floatbank8_b_level  \\\n",
       "date                                                            \n",
       "2016-01-15 00:00:00                               -516.403442   \n",
       "2016-01-15 01:00:00                               -499.865875   \n",
       "2016-01-15 02:00:00                               -500.607758   \n",
       "2016-01-15 03:00:00                               -499.677094   \n",
       "2016-01-15 04:00:00                               -500.323242   \n",
       "\n",
       "                     primary_cleaner.state.floatbank8_c_air  \\\n",
       "date                                                          \n",
       "2016-01-15 00:00:00                             1549.873901   \n",
       "2016-01-15 01:00:00                             1575.994141   \n",
       "2016-01-15 02:00:00                             1602.003540   \n",
       "2016-01-15 03:00:00                             1600.304199   \n",
       "2016-01-15 04:00:00                             1599.581909   \n",
       "\n",
       "                     primary_cleaner.state.floatbank8_c_level  \\\n",
       "date                                                            \n",
       "2016-01-15 00:00:00                               -498.666595   \n",
       "2016-01-15 01:00:00                               -499.315094   \n",
       "2016-01-15 02:00:00                               -500.870056   \n",
       "2016-01-15 03:00:00                               -500.727997   \n",
       "2016-01-15 04:00:00                               -500.888153   \n",
       "\n",
       "                     primary_cleaner.state.floatbank8_d_air  \\\n",
       "date                                                          \n",
       "2016-01-15 00:00:00                             1554.367432   \n",
       "2016-01-15 01:00:00                             1574.479248   \n",
       "2016-01-15 02:00:00                             1599.541504   \n",
       "2016-01-15 03:00:00                             1600.449463   \n",
       "2016-01-15 04:00:00                             1602.649536   \n",
       "\n",
       "                     primary_cleaner.state.floatbank8_d_level  \\\n",
       "date                                                            \n",
       "2016-01-15 00:00:00                               -493.428131   \n",
       "2016-01-15 01:00:00                               -498.931671   \n",
       "2016-01-15 02:00:00                               -499.827454   \n",
       "2016-01-15 03:00:00                               -500.052582   \n",
       "2016-01-15 04:00:00                               -500.593018   \n",
       "\n",
       "                     rougher.calculation.sulfate_to_au_concentrate  \\\n",
       "date                                                                 \n",
       "2016-01-15 00:00:00                                   41885.707031   \n",
       "2016-01-15 01:00:00                                   42050.863281   \n",
       "2016-01-15 02:00:00                                   42018.101562   \n",
       "2016-01-15 03:00:00                                   42029.449219   \n",
       "2016-01-15 04:00:00                                   42125.355469   \n",
       "\n",
       "                     rougher.calculation.floatbank10_sulfate_to_au_feed  \\\n",
       "date                                                                      \n",
       "2016-01-15 00:00:00                                        3481.779053    \n",
       "2016-01-15 01:00:00                                        3498.371094    \n",
       "2016-01-15 02:00:00                                        3495.348877    \n",
       "2016-01-15 03:00:00                                        3498.578369    \n",
       "2016-01-15 04:00:00                                        3494.800781    \n",
       "\n",
       "                     rougher.calculation.floatbank11_sulfate_to_au_feed  \\\n",
       "date                                                                      \n",
       "2016-01-15 00:00:00                                        3520.337158    \n",
       "2016-01-15 01:00:00                                        3489.981934    \n",
       "2016-01-15 02:00:00                                        3502.359863    \n",
       "2016-01-15 03:00:00                                        3499.162842    \n",
       "2016-01-15 04:00:00                                        3506.679199    \n",
       "\n",
       "                     rougher.calculation.au_pb_ratio  rougher.input.feed_ag  \\\n",
       "date                                                                          \n",
       "2016-01-15 00:00:00                         2.838687               6.100378   \n",
       "2016-01-15 01:00:00                         2.858998               6.161113   \n",
       "2016-01-15 02:00:00                         2.945989               6.116455   \n",
       "2016-01-15 03:00:00                         3.002340               6.043309   \n",
       "2016-01-15 04:00:00                         3.169615               6.060915   \n",
       "\n",
       "                     rougher.input.feed_pb  rougher.input.feed_rate  \\\n",
       "date                                                                  \n",
       "2016-01-15 00:00:00               2.284912               523.546326   \n",
       "2016-01-15 01:00:00               2.266033               525.290588   \n",
       "2016-01-15 02:00:00               2.159622               530.026611   \n",
       "2016-01-15 03:00:00               2.037807               542.590393   \n",
       "2016-01-15 04:00:00               1.786875               540.531921   \n",
       "\n",
       "                     rougher.input.feed_size  rougher.input.feed_sol  \\\n",
       "date                                                                   \n",
       "2016-01-15 00:00:00                55.486599               36.808594   \n",
       "2016-01-15 01:00:00                57.278667               35.753384   \n",
       "2016-01-15 02:00:00                57.510651               35.971630   \n",
       "2016-01-15 03:00:00                57.792732               36.862240   \n",
       "2016-01-15 04:00:00                56.047188               34.347664   \n",
       "\n",
       "                     rougher.input.feed_au  rougher.input.floatbank10_sulfate  \\\n",
       "date                                                                            \n",
       "2016-01-15 00:00:00               6.486150                          11.986616   \n",
       "2016-01-15 01:00:00               6.478583                          11.971193   \n",
       "2016-01-15 02:00:00               6.362222                          11.920603   \n",
       "2016-01-15 03:00:00               6.118189                          11.630094   \n",
       "2016-01-15 04:00:00               5.663707                          10.957754   \n",
       "\n",
       "                     rougher.input.floatbank10_xanthate  \\\n",
       "date                                                      \n",
       "2016-01-15 00:00:00                            6.007990   \n",
       "2016-01-15 01:00:00                            6.005766   \n",
       "2016-01-15 02:00:00                            6.197377   \n",
       "2016-01-15 03:00:00                            6.203177   \n",
       "2016-01-15 04:00:00                            6.198826   \n",
       "\n",
       "                     rougher.input.floatbank11_sulfate  \\\n",
       "date                                                     \n",
       "2016-01-15 00:00:00                          11.836743   \n",
       "2016-01-15 01:00:00                          11.996162   \n",
       "2016-01-15 02:00:00                          11.920305   \n",
       "2016-01-15 03:00:00                          11.692450   \n",
       "2016-01-15 04:00:00                          10.960521   \n",
       "\n",
       "                     rougher.input.floatbank11_xanthate  \\\n",
       "date                                                      \n",
       "2016-01-15 00:00:00                            6.005818   \n",
       "2016-01-15 01:00:00                            6.012594   \n",
       "2016-01-15 02:00:00                            6.204633   \n",
       "2016-01-15 03:00:00                            6.196578   \n",
       "2016-01-15 04:00:00                            6.194897   \n",
       "\n",
       "                     rougher.output.concentrate_ag  \\\n",
       "date                                                 \n",
       "2016-01-15 00:00:00                      11.500771   \n",
       "2016-01-15 01:00:00                      11.615865   \n",
       "2016-01-15 02:00:00                      11.695753   \n",
       "2016-01-15 03:00:00                      11.915047   \n",
       "2016-01-15 04:00:00                      12.411054   \n",
       "\n",
       "                     rougher.output.concentrate_pb  \\\n",
       "date                                                 \n",
       "2016-01-15 00:00:00                       7.101074   \n",
       "2016-01-15 01:00:00                       7.278807   \n",
       "2016-01-15 02:00:00                       7.216833   \n",
       "2016-01-15 03:00:00                       7.175616   \n",
       "2016-01-15 04:00:00                       7.240205   \n",
       "\n",
       "                     rougher.output.concentrate_sol  \\\n",
       "date                                                  \n",
       "2016-01-15 00:00:00                       28.029297   \n",
       "2016-01-15 01:00:00                       28.067064   \n",
       "2016-01-15 02:00:00                       27.454037   \n",
       "2016-01-15 03:00:00                       27.341278   \n",
       "2016-01-15 04:00:00                       27.041023   \n",
       "\n",
       "                     rougher.output.concentrate_au  rougher.output.recovery  \\\n",
       "date                                                                          \n",
       "2016-01-15 00:00:00                      19.793808                87.107765   \n",
       "2016-01-15 01:00:00                      20.050976                86.843262   \n",
       "2016-01-15 02:00:00                      19.737169                86.842308   \n",
       "2016-01-15 03:00:00                      19.320810                87.226433   \n",
       "2016-01-15 04:00:00                      19.216101                86.688797   \n",
       "\n",
       "                     rougher.output.tail_ag  rougher.output.tail_pb  \\\n",
       "date                                                                  \n",
       "2016-01-15 00:00:00                5.008018                0.508728   \n",
       "2016-01-15 01:00:00                4.955378                0.536689   \n",
       "2016-01-15 02:00:00                4.843460                0.546416   \n",
       "2016-01-15 03:00:00                4.655288                0.542525   \n",
       "2016-01-15 04:00:00                4.552800                0.515438   \n",
       "\n",
       "                     rougher.output.tail_sol  rougher.output.tail_au  \\\n",
       "date                                                                   \n",
       "2016-01-15 00:00:00                19.154297                1.170244   \n",
       "2016-01-15 01:00:00                18.965235                1.184827   \n",
       "2016-01-15 02:00:00                18.808533                1.162562   \n",
       "2016-01-15 03:00:00                19.330200                1.079754   \n",
       "2016-01-15 04:00:00                19.267422                1.012642   \n",
       "\n",
       "                     rougher.state.floatbank10_a_air  \\\n",
       "date                                                   \n",
       "2016-01-15 00:00:00                       999.706909   \n",
       "2016-01-15 01:00:00                      1000.286377   \n",
       "2016-01-15 02:00:00                       999.719543   \n",
       "2016-01-15 03:00:00                       999.814758   \n",
       "2016-01-15 04:00:00                       999.678711   \n",
       "\n",
       "                     rougher.state.floatbank10_a_level  \\\n",
       "date                                                     \n",
       "2016-01-15 00:00:00                        -404.066986   \n",
       "2016-01-15 01:00:00                        -400.065186   \n",
       "2016-01-15 02:00:00                        -400.074036   \n",
       "2016-01-15 03:00:00                        -400.200165   \n",
       "2016-01-15 04:00:00                        -399.752716   \n",
       "\n",
       "                     rougher.state.floatbank10_b_air  \\\n",
       "date                                                   \n",
       "2016-01-15 00:00:00                      1603.011353   \n",
       "2016-01-15 01:00:00                      1600.754639   \n",
       "2016-01-15 02:00:00                      1599.337280   \n",
       "2016-01-15 03:00:00                      1600.059448   \n",
       "2016-01-15 04:00:00                      1600.208862   \n",
       "\n",
       "                     rougher.state.floatbank10_b_level  \\\n",
       "date                                                     \n",
       "2016-01-15 00:00:00                        -434.715027   \n",
       "2016-01-15 01:00:00                        -449.953430   \n",
       "2016-01-15 02:00:00                        -450.008545   \n",
       "2016-01-15 03:00:00                        -450.619934   \n",
       "2016-01-15 04:00:00                        -449.599609   \n",
       "\n",
       "                     rougher.state.floatbank10_c_air  \\\n",
       "date                                                   \n",
       "2016-01-15 00:00:00                      1602.375000   \n",
       "2016-01-15 01:00:00                      1600.479614   \n",
       "2016-01-15 02:00:00                      1599.672852   \n",
       "2016-01-15 03:00:00                      1600.012817   \n",
       "2016-01-15 04:00:00                      1600.357788   \n",
       "\n",
       "                     rougher.state.floatbank10_c_level  \\\n",
       "date                                                     \n",
       "2016-01-15 00:00:00                        -442.204468   \n",
       "2016-01-15 01:00:00                        -449.830658   \n",
       "2016-01-15 02:00:00                        -449.954498   \n",
       "2016-01-15 03:00:00                        -449.910492   \n",
       "2016-01-15 04:00:00                        -450.034363   \n",
       "\n",
       "                     rougher.state.floatbank10_d_air  \\\n",
       "date                                                   \n",
       "2016-01-15 00:00:00                      1598.937256   \n",
       "2016-01-15 01:00:00                      1600.527588   \n",
       "2016-01-15 02:00:00                      1599.849365   \n",
       "2016-01-15 03:00:00                      1597.725220   \n",
       "2016-01-15 04:00:00                      1599.759033   \n",
       "\n",
       "                     rougher.state.floatbank10_d_level  \\\n",
       "date                                                     \n",
       "2016-01-15 00:00:00                        -451.294128   \n",
       "2016-01-15 01:00:00                        -449.953644   \n",
       "2016-01-15 02:00:00                        -449.954193   \n",
       "2016-01-15 03:00:00                        -450.130127   \n",
       "2016-01-15 04:00:00                        -449.909790   \n",
       "\n",
       "                     rougher.state.floatbank10_e_air  \\\n",
       "date                                                   \n",
       "2016-01-15 00:00:00                      1404.472046   \n",
       "2016-01-15 01:00:00                      1399.227051   \n",
       "2016-01-15 02:00:00                      1399.180908   \n",
       "2016-01-15 03:00:00                      1400.943115   \n",
       "2016-01-15 04:00:00                      1401.560913   \n",
       "\n",
       "                     rougher.state.floatbank10_e_level  \\\n",
       "date                                                     \n",
       "2016-01-15 00:00:00                        -455.462982   \n",
       "2016-01-15 01:00:00                        -450.869843   \n",
       "2016-01-15 02:00:00                        -449.937592   \n",
       "2016-01-15 03:00:00                        -450.030151   \n",
       "2016-01-15 04:00:00                        -448.877197   \n",
       "\n",
       "                     rougher.state.floatbank10_f_air  \\\n",
       "date                                                   \n",
       "2016-01-15 00:00:00                      1416.354980   \n",
       "2016-01-15 01:00:00                      1399.719482   \n",
       "2016-01-15 02:00:00                      1400.316650   \n",
       "2016-01-15 03:00:00                      1400.234741   \n",
       "2016-01-15 04:00:00                      1401.160278   \n",
       "\n",
       "                     rougher.state.floatbank10_f_level  \\\n",
       "date                                                     \n",
       "2016-01-15 00:00:00                        -451.939636   \n",
       "2016-01-15 01:00:00                        -450.118988   \n",
       "2016-01-15 02:00:00                        -450.527161   \n",
       "2016-01-15 03:00:00                        -449.790833   \n",
       "2016-01-15 04:00:00                        -450.407135   \n",
       "\n",
       "                     secondary_cleaner.output.tail_ag  \\\n",
       "date                                                    \n",
       "2016-01-15 00:00:00                         14.500184   \n",
       "2016-01-15 01:00:00                         14.265473   \n",
       "2016-01-15 02:00:00                         14.115662   \n",
       "2016-01-15 03:00:00                         13.732071   \n",
       "2016-01-15 04:00:00                         14.079995   \n",
       "\n",
       "                     secondary_cleaner.output.tail_pb  \\\n",
       "date                                                    \n",
       "2016-01-15 00:00:00                          4.694824   \n",
       "2016-01-15 01:00:00                          4.592547   \n",
       "2016-01-15 02:00:00                          4.624775   \n",
       "2016-01-15 03:00:00                          4.482453   \n",
       "2016-01-15 04:00:00                          4.470737   \n",
       "\n",
       "                     secondary_cleaner.output.tail_sol  \\\n",
       "date                                                     \n",
       "2016-01-15 00:00:00                           8.764648   \n",
       "2016-01-15 01:00:00                           9.001494   \n",
       "2016-01-15 02:00:00                           8.842896   \n",
       "2016-01-15 03:00:00                           9.122857   \n",
       "2016-01-15 04:00:00                           8.871028   \n",
       "\n",
       "                     secondary_cleaner.output.tail_au  \\\n",
       "date                                                    \n",
       "2016-01-15 00:00:00                          2.606185   \n",
       "2016-01-15 01:00:00                          2.488248   \n",
       "2016-01-15 02:00:00                          2.458187   \n",
       "2016-01-15 03:00:00                          2.322062   \n",
       "2016-01-15 04:00:00                          2.330448   \n",
       "\n",
       "                     secondary_cleaner.state.floatbank2_a_air  \\\n",
       "date                                                            \n",
       "2016-01-15 00:00:00                                 25.853109   \n",
       "2016-01-15 01:00:00                                 25.880539   \n",
       "2016-01-15 02:00:00                                 26.005245   \n",
       "2016-01-15 03:00:00                                 25.942507   \n",
       "2016-01-15 04:00:00                                 26.024788   \n",
       "\n",
       "                     secondary_cleaner.state.floatbank2_a_level  \\\n",
       "date                                                              \n",
       "2016-01-15 00:00:00                                 -498.526489   \n",
       "2016-01-15 01:00:00                                 -499.989655   \n",
       "2016-01-15 02:00:00                                 -499.929626   \n",
       "2016-01-15 03:00:00                                 -499.176758   \n",
       "2016-01-15 04:00:00                                 -500.279083   \n",
       "\n",
       "                     secondary_cleaner.state.floatbank2_b_air  \\\n",
       "date                                                            \n",
       "2016-01-15 00:00:00                                 23.893660   \n",
       "2016-01-15 01:00:00                                 23.889530   \n",
       "2016-01-15 02:00:00                                 23.886656   \n",
       "2016-01-15 03:00:00                                 23.955517   \n",
       "2016-01-15 04:00:00                                 23.955345   \n",
       "\n",
       "                     secondary_cleaner.state.floatbank2_b_level  \\\n",
       "date                                                              \n",
       "2016-01-15 00:00:00                                 -501.406281   \n",
       "2016-01-15 01:00:00                                 -500.372437   \n",
       "2016-01-15 02:00:00                                 -499.951935   \n",
       "2016-01-15 03:00:00                                 -499.848785   \n",
       "2016-01-15 04:00:00                                 -500.593628   \n",
       "\n",
       "                     secondary_cleaner.state.floatbank3_a_air  \\\n",
       "date                                                            \n",
       "2016-01-15 00:00:00                                 23.961798   \n",
       "2016-01-15 01:00:00                                 23.970551   \n",
       "2016-01-15 02:00:00                                 23.913534   \n",
       "2016-01-15 03:00:00                                 23.966837   \n",
       "2016-01-15 04:00:00                                 23.985703   \n",
       "\n",
       "                     secondary_cleaner.state.floatbank3_a_level  \\\n",
       "date                                                              \n",
       "2016-01-15 00:00:00                                 -495.262817   \n",
       "2016-01-15 01:00:00                                 -500.085480   \n",
       "2016-01-15 02:00:00                                 -499.442352   \n",
       "2016-01-15 03:00:00                                 -500.008820   \n",
       "2016-01-15 04:00:00                                 -500.083801   \n",
       "\n",
       "                     secondary_cleaner.state.floatbank3_b_air  \\\n",
       "date                                                            \n",
       "2016-01-15 00:00:00                                 21.940409   \n",
       "2016-01-15 01:00:00                                 22.085714   \n",
       "2016-01-15 02:00:00                                 23.957716   \n",
       "2016-01-15 03:00:00                                 23.954443   \n",
       "2016-01-15 04:00:00                                 23.958944   \n",
       "\n",
       "                     secondary_cleaner.state.floatbank3_b_level  \\\n",
       "date                                                              \n",
       "2016-01-15 00:00:00                                 -499.340973   \n",
       "2016-01-15 01:00:00                                 -499.446899   \n",
       "2016-01-15 02:00:00                                 -499.901978   \n",
       "2016-01-15 03:00:00                                 -499.944702   \n",
       "2016-01-15 04:00:00                                 -499.990295   \n",
       "\n",
       "                     secondary_cleaner.state.floatbank4_a_air  \\\n",
       "date                                                            \n",
       "2016-01-15 00:00:00                                 14.016835   \n",
       "2016-01-15 01:00:00                                 13.992281   \n",
       "2016-01-15 02:00:00                                 14.015016   \n",
       "2016-01-15 03:00:00                                 14.036510   \n",
       "2016-01-15 04:00:00                                 14.027298   \n",
       "\n",
       "                     secondary_cleaner.state.floatbank4_a_level  \\\n",
       "date                                                              \n",
       "2016-01-15 00:00:00                                 -502.488007   \n",
       "2016-01-15 01:00:00                                 -505.503265   \n",
       "2016-01-15 02:00:00                                 -502.520905   \n",
       "2016-01-15 03:00:00                                 -500.857300   \n",
       "2016-01-15 04:00:00                                 -499.838623   \n",
       "\n",
       "                     secondary_cleaner.state.floatbank4_b_air  \\\n",
       "date                                                            \n",
       "2016-01-15 00:00:00                                 12.099931   \n",
       "2016-01-15 01:00:00                                 11.950531   \n",
       "2016-01-15 02:00:00                                 11.912783   \n",
       "2016-01-15 03:00:00                                 11.999551   \n",
       "2016-01-15 04:00:00                                 11.953071   \n",
       "\n",
       "                     secondary_cleaner.state.floatbank4_b_level  \\\n",
       "date                                                              \n",
       "2016-01-15 00:00:00                                 -504.715942   \n",
       "2016-01-15 01:00:00                                 -501.331543   \n",
       "2016-01-15 02:00:00                                 -501.133392   \n",
       "2016-01-15 03:00:00                                 -501.193695   \n",
       "2016-01-15 04:00:00                                 -501.053894   \n",
       "\n",
       "                     secondary_cleaner.state.floatbank5_a_air  \\\n",
       "date                                                            \n",
       "2016-01-15 00:00:00                                  9.925633   \n",
       "2016-01-15 01:00:00                                 10.039246   \n",
       "2016-01-15 02:00:00                                 10.070913   \n",
       "2016-01-15 03:00:00                                  9.970366   \n",
       "2016-01-15 04:00:00                                  9.925709   \n",
       "\n",
       "                     secondary_cleaner.state.floatbank5_a_level  \\\n",
       "date                                                              \n",
       "2016-01-15 00:00:00                                 -498.310211   \n",
       "2016-01-15 01:00:00                                 -500.169983   \n",
       "2016-01-15 02:00:00                                 -500.129120   \n",
       "2016-01-15 03:00:00                                 -499.201630   \n",
       "2016-01-15 04:00:00                                 -501.686737   \n",
       "\n",
       "                     secondary_cleaner.state.floatbank5_b_air  \\\n",
       "date                                                            \n",
       "2016-01-15 00:00:00                                  8.079666   \n",
       "2016-01-15 01:00:00                                  7.984757   \n",
       "2016-01-15 02:00:00                                  8.013877   \n",
       "2016-01-15 03:00:00                                  7.977324   \n",
       "2016-01-15 04:00:00                                  7.894242   \n",
       "\n",
       "                     secondary_cleaner.state.floatbank5_b_level  \\\n",
       "date                                                              \n",
       "2016-01-15 00:00:00                                 -500.470978   \n",
       "2016-01-15 01:00:00                                 -500.582153   \n",
       "2016-01-15 02:00:00                                 -500.517578   \n",
       "2016-01-15 03:00:00                                 -500.255920   \n",
       "2016-01-15 04:00:00                                 -500.356049   \n",
       "\n",
       "                     secondary_cleaner.state.floatbank6_a_air  \\\n",
       "date                                                            \n",
       "2016-01-15 00:00:00                                 14.151341   \n",
       "2016-01-15 01:00:00                                 13.998353   \n",
       "2016-01-15 02:00:00                                 14.028663   \n",
       "2016-01-15 03:00:00                                 14.005551   \n",
       "2016-01-15 04:00:00                                 13.996647   \n",
       "\n",
       "                     secondary_cleaner.state.floatbank6_a_level  \\\n",
       "date                                                              \n",
       "2016-01-15 00:00:00                                 -605.841980   \n",
       "2016-01-15 01:00:00                                 -599.787170   \n",
       "2016-01-15 02:00:00                                 -601.427368   \n",
       "2016-01-15 03:00:00                                 -599.996155   \n",
       "2016-01-15 04:00:00                                 -601.496704   \n",
       "\n",
       "                     rougher_input  rougher_output  final_output  \n",
       "date                                                              \n",
       "2016-01-15 00:00:00      51.680035       66.424950     63.644394  \n",
       "2016-01-15 01:00:00      50.659111       67.012711     63.957726  \n",
       "2016-01-15 02:00:00      50.609932       66.103790     64.311180  \n",
       "2016-01-15 03:00:00      51.061546       65.752747     63.573448  \n",
       "2016-01-15 04:00:00      47.859161       65.908386     64.004662  "
      ]
     },
     "execution_count": 49,
     "metadata": {},
     "output_type": "execute_result"
    }
   ],
   "source": [
    "# вывод первых пяти строк дополненного датафрейма\n",
    "df_train.head()"
   ]
  },
  {
   "cell_type": "markdown",
   "id": "90aa939c",
   "metadata": {},
   "source": [
    "Визуализируем распределение с помощью гистограммы."
   ]
  },
  {
   "cell_type": "code",
   "execution_count": 50,
   "id": "a06c8650",
   "metadata": {
    "scrolled": false
   },
   "outputs": [
    {
     "data": {
      "image/png": "[encoded data removed]",
      "text/plain": [
       "<Figure size 576x288 with 1 Axes>"
      ]
     },
     "metadata": {
      "needs_background": "light"
     },
     "output_type": "display_data"
    }
   ],
   "source": [
    "# построение гистограммы \n",
    "fig, axes = plt.subplots(sharex=True, sharey=True, figsize=(8, 4))\n",
    "fig.text(0.5, 0.04, 'Значения признаков', ha='center')\n",
    "fig.text(0.09, 0.9, 'Частота', va='center', rotation='vertical')\n",
    "plt.title('Суммарная концентрация всех веществ на разных стадиях_df_train')\n",
    "df_train['rougher_input'].hist(alpha = 0.4, bins=50)\n",
    "df_train['rougher_output'].hist(alpha = 0.4, bins=50)\n",
    "df_train['final_output'].hist(alpha = 0.4, bins=50)\n",
    "plt.legend(['rougher_input', 'rougher_output', 'final_output'])\n",
    "plt.show()"
   ]
  },
  {
   "cell_type": "markdown",
   "id": "e4da9105",
   "metadata": {},
   "source": [
    "Последовательно очистим датафрейм от строк с минимальными значениями суммарных концентраций (<1) на каждой стадии обработки с помощью функции."
   ]
  },
  {
   "cell_type": "code",
   "execution_count": 51,
   "id": "d03c9465",
   "metadata": {},
   "outputs": [
    {
     "name": "stdout",
     "output_type": "stream",
     "text": [
      "<class 'pandas.core.frame.DataFrame'>\n",
      "Index: 13789 entries, 2016-01-15 00:00:00 to 2018-08-18 10:59:59\n",
      "Data columns (total 89 columns):\n",
      " #   Column                                              Non-Null Count  Dtype  \n",
      "---  ------                                              --------------  -----  \n",
      " 0   final.output.concentrate_ag                         13789 non-null  float32\n",
      " 1   final.output.concentrate_pb                         13789 non-null  float32\n",
      " 2   final.output.concentrate_sol                        13789 non-null  float32\n",
      " 3   final.output.concentrate_au                         13789 non-null  float32\n",
      " 4   final.output.recovery                               13789 non-null  float32\n",
      " 5   final.output.tail_ag                                13789 non-null  float32\n",
      " 6   final.output.tail_pb                                13789 non-null  float32\n",
      " 7   final.output.tail_sol                               13789 non-null  float32\n",
      " 8   final.output.tail_au                                13789 non-null  float32\n",
      " 9   primary_cleaner.input.sulfate                       13789 non-null  float32\n",
      " 10  primary_cleaner.input.depressant                    13789 non-null  float32\n",
      " 11  primary_cleaner.input.feed_size                     13789 non-null  float32\n",
      " 12  primary_cleaner.input.xanthate                      13789 non-null  float32\n",
      " 13  primary_cleaner.output.concentrate_ag               13789 non-null  float32\n",
      " 14  primary_cleaner.output.concentrate_pb               13789 non-null  float32\n",
      " 15  primary_cleaner.output.concentrate_sol              13789 non-null  float32\n",
      " 16  primary_cleaner.output.concentrate_au               13789 non-null  float32\n",
      " 17  primary_cleaner.output.tail_ag                      13789 non-null  float32\n",
      " 18  primary_cleaner.output.tail_pb                      13789 non-null  float32\n",
      " 19  primary_cleaner.output.tail_sol                     13789 non-null  float32\n",
      " 20  primary_cleaner.output.tail_au                      13789 non-null  float32\n",
      " 21  primary_cleaner.state.floatbank8_a_air              13789 non-null  float32\n",
      " 22  primary_cleaner.state.floatbank8_a_level            13789 non-null  float32\n",
      " 23  primary_cleaner.state.floatbank8_b_air              13789 non-null  float32\n",
      " 24  primary_cleaner.state.floatbank8_b_level            13789 non-null  float32\n",
      " 25  primary_cleaner.state.floatbank8_c_air              13789 non-null  float32\n",
      " 26  primary_cleaner.state.floatbank8_c_level            13789 non-null  float32\n",
      " 27  primary_cleaner.state.floatbank8_d_air              13789 non-null  float32\n",
      " 28  primary_cleaner.state.floatbank8_d_level            13789 non-null  float32\n",
      " 29  rougher.calculation.sulfate_to_au_concentrate       13789 non-null  float32\n",
      " 30  rougher.calculation.floatbank10_sulfate_to_au_feed  13789 non-null  float32\n",
      " 31  rougher.calculation.floatbank11_sulfate_to_au_feed  13789 non-null  float32\n",
      " 32  rougher.calculation.au_pb_ratio                     13789 non-null  float32\n",
      " 33  rougher.input.feed_ag                               13789 non-null  float32\n",
      " 34  rougher.input.feed_pb                               13789 non-null  float32\n",
      " 35  rougher.input.feed_rate                             13789 non-null  float32\n",
      " 36  rougher.input.feed_size                             13789 non-null  float32\n",
      " 37  rougher.input.feed_sol                              13789 non-null  float32\n",
      " 38  rougher.input.feed_au                               13789 non-null  float32\n",
      " 39  rougher.input.floatbank10_sulfate                   13789 non-null  float32\n",
      " 40  rougher.input.floatbank10_xanthate                  13789 non-null  float32\n",
      " 41  rougher.input.floatbank11_sulfate                   13789 non-null  float32\n",
      " 42  rougher.input.floatbank11_xanthate                  13789 non-null  float32\n",
      " 43  rougher.output.concentrate_ag                       13789 non-null  float32\n",
      " 44  rougher.output.concentrate_pb                       13789 non-null  float32\n",
      " 45  rougher.output.concentrate_sol                      13789 non-null  float32\n",
      " 46  rougher.output.concentrate_au                       13789 non-null  float32\n",
      " 47  rougher.output.recovery                             13789 non-null  float32\n",
      " 48  rougher.output.tail_ag                              13789 non-null  float32\n",
      " 49  rougher.output.tail_pb                              13789 non-null  float32\n",
      " 50  rougher.output.tail_sol                             13789 non-null  float32\n",
      " 51  rougher.output.tail_au                              13789 non-null  float32\n",
      " 52  rougher.state.floatbank10_a_air                     13789 non-null  float32\n",
      " 53  rougher.state.floatbank10_a_level                   13789 non-null  float32\n",
      " 54  rougher.state.floatbank10_b_air                     13789 non-null  float32\n",
      " 55  rougher.state.floatbank10_b_level                   13789 non-null  float32\n",
      " 56  rougher.state.floatbank10_c_air                     13789 non-null  float32\n",
      " 57  rougher.state.floatbank10_c_level                   13789 non-null  float32\n",
      " 58  rougher.state.floatbank10_d_air                     13789 non-null  float32\n",
      " 59  rougher.state.floatbank10_d_level                   13789 non-null  float32\n",
      " 60  rougher.state.floatbank10_e_air                     13789 non-null  float32\n",
      " 61  rougher.state.floatbank10_e_level                   13789 non-null  float32\n",
      " 62  rougher.state.floatbank10_f_air                     13789 non-null  float32\n",
      " 63  rougher.state.floatbank10_f_level                   13789 non-null  float32\n",
      " 64  secondary_cleaner.output.tail_ag                    13789 non-null  float32\n",
      " 65  secondary_cleaner.output.tail_pb                    13789 non-null  float32\n",
      " 66  secondary_cleaner.output.tail_sol                   13789 non-null  float32\n",
      " 67  secondary_cleaner.output.tail_au                    13789 non-null  float32\n",
      " 68  secondary_cleaner.state.floatbank2_a_air            13789 non-null  float32\n",
      " 69  secondary_cleaner.state.floatbank2_a_level          13789 non-null  float32\n",
      " 70  secondary_cleaner.state.floatbank2_b_air            13789 non-null  float32\n",
      " 71  secondary_cleaner.state.floatbank2_b_level          13789 non-null  float32\n",
      " 72  secondary_cleaner.state.floatbank3_a_air            13789 non-null  float32\n",
      " 73  secondary_cleaner.state.floatbank3_a_level          13789 non-null  float32\n",
      " 74  secondary_cleaner.state.floatbank3_b_air            13789 non-null  float32\n",
      " 75  secondary_cleaner.state.floatbank3_b_level          13789 non-null  float32\n",
      " 76  secondary_cleaner.state.floatbank4_a_air            13789 non-null  float32\n",
      " 77  secondary_cleaner.state.floatbank4_a_level          13789 non-null  float32\n",
      " 78  secondary_cleaner.state.floatbank4_b_air            13789 non-null  float32\n",
      " 79  secondary_cleaner.state.floatbank4_b_level          13789 non-null  float32\n",
      " 80  secondary_cleaner.state.floatbank5_a_air            13789 non-null  float32\n",
      " 81  secondary_cleaner.state.floatbank5_a_level          13789 non-null  float32\n",
      " 82  secondary_cleaner.state.floatbank5_b_air            13789 non-null  float32\n",
      " 83  secondary_cleaner.state.floatbank5_b_level          13789 non-null  float32\n",
      " 84  secondary_cleaner.state.floatbank6_a_air            13789 non-null  float32\n",
      " 85  secondary_cleaner.state.floatbank6_a_level          13789 non-null  float32\n",
      " 86  rougher_input                                       13789 non-null  float32\n",
      " 87  rougher_output                                      13789 non-null  float32\n",
      " 88  final_output                                        13789 non-null  float32\n",
      "dtypes: float32(89)\n",
      "memory usage: 4.8+ MB\n"
     ]
    }
   ],
   "source": [
    "# создание функции\n",
    "def deleting_min(df):\n",
    "    df = df.loc[df['rougher_input'] > 1]\n",
    "    df = df.loc[df['rougher_output'] > 1]\n",
    "    df = df.loc[df['final_output'] > 1]\n",
    "    return df\n",
    "\n",
    "# применение функции\n",
    "df_train = deleting_min(df_train)\n",
    "# проверка результата\n",
    "df_train.info()"
   ]
  },
  {
   "cell_type": "markdown",
   "id": "96915af8",
   "metadata": {},
   "source": [
    "Обучающая выборка сократилась на 360 строк."
   ]
  },
  {
   "cell_type": "markdown",
   "id": "1dc3ef42",
   "metadata": {},
   "source": [
    "**df_test**"
   ]
  },
  {
   "cell_type": "markdown",
   "id": "e58e7db2",
   "metadata": {},
   "source": [
    "Поскольку в тестовой выборке присутствуют данные не всех стадий, немного изменим функцию для добавления суммарных концентраций и применим ее к датафрейму с тестовой выборкой."
   ]
  },
  {
   "cell_type": "code",
   "execution_count": 52,
   "id": "63fe9a78",
   "metadata": {},
   "outputs": [],
   "source": [
    "# создание функции\n",
    "def concentrate_test(df):\n",
    "    df['rougher_input'] = df[['rougher.input.feed_au', 'rougher.input.feed_ag', 'rougher.input.feed_pb', 'rougher.input.feed_sol']].sum(axis=1)    "
   ]
  },
  {
   "cell_type": "markdown",
   "id": "107c5669",
   "metadata": {},
   "source": [
    "Применим функцию к тестовой выборке."
   ]
  },
  {
   "cell_type": "code",
   "execution_count": 53,
   "id": "53b2eb64",
   "metadata": {
    "scrolled": true
   },
   "outputs": [],
   "source": [
    "# применение функции\n",
    "concentrate_test(df_test)"
   ]
  },
  {
   "cell_type": "markdown",
   "id": "84902c52",
   "metadata": {},
   "source": [
    "Проверим результат."
   ]
  },
  {
   "cell_type": "code",
   "execution_count": 54,
   "id": "b937529b",
   "metadata": {
    "scrolled": true
   },
   "outputs": [
    {
     "data": {
      "text/html": [
       "<div>\n",
       "<style scoped>\n",
       "    .dataframe tbody tr th:only-of-type {\n",
       "        vertical-align: middle;\n",
       "    }\n",
       "\n",
       "    .dataframe tbody tr th {\n",
       "        vertical-align: top;\n",
       "    }\n",
       "\n",
       "    .dataframe thead th {\n",
       "        text-align: right;\n",
       "    }\n",
       "</style>\n",
       "<table border=\"1\" class=\"dataframe\">\n",
       "  <thead>\n",
       "    <tr style=\"text-align: right;\">\n",
       "      <th></th>\n",
       "      <th>final.output.recovery</th>\n",
       "      <th>rougher.output.recovery</th>\n",
       "      <th>rougher.input.feed_ag</th>\n",
       "      <th>rougher.input.feed_pb</th>\n",
       "      <th>rougher.input.feed_sol</th>\n",
       "      <th>rougher.input.feed_au</th>\n",
       "      <th>rougher.input.feed_size</th>\n",
       "      <th>primary_cleaner.input.feed_size</th>\n",
       "      <th>primary_cleaner.input.sulfate</th>\n",
       "      <th>primary_cleaner.state.floatbank8_a_air</th>\n",
       "      <th>primary_cleaner.state.floatbank8_b_air</th>\n",
       "      <th>primary_cleaner.state.floatbank8_d_air</th>\n",
       "      <th>rougher.input.floatbank10_xanthate</th>\n",
       "      <th>rougher.input.floatbank11_xanthate</th>\n",
       "      <th>secondary_cleaner.state.floatbank2_b_air</th>\n",
       "      <th>secondary_cleaner.state.floatbank3_b_air</th>\n",
       "      <th>secondary_cleaner.state.floatbank4_a_air</th>\n",
       "      <th>secondary_cleaner.state.floatbank4_b_air</th>\n",
       "      <th>rougher_input</th>\n",
       "    </tr>\n",
       "    <tr>\n",
       "      <th>date</th>\n",
       "      <th></th>\n",
       "      <th></th>\n",
       "      <th></th>\n",
       "      <th></th>\n",
       "      <th></th>\n",
       "      <th></th>\n",
       "      <th></th>\n",
       "      <th></th>\n",
       "      <th></th>\n",
       "      <th></th>\n",
       "      <th></th>\n",
       "      <th></th>\n",
       "      <th></th>\n",
       "      <th></th>\n",
       "      <th></th>\n",
       "      <th></th>\n",
       "      <th></th>\n",
       "      <th></th>\n",
       "      <th></th>\n",
       "    </tr>\n",
       "  </thead>\n",
       "  <tbody>\n",
       "    <tr>\n",
       "      <th>2016-09-01 00:59:59</th>\n",
       "      <td>70.273582</td>\n",
       "      <td>89.993423</td>\n",
       "      <td>13.128569</td>\n",
       "      <td>5.636710</td>\n",
       "      <td>42.022442</td>\n",
       "      <td>12.084103</td>\n",
       "      <td>62.710453</td>\n",
       "      <td>8.080000</td>\n",
       "      <td>210.800903</td>\n",
       "      <td>1398.981323</td>\n",
       "      <td>1399.144897</td>\n",
       "      <td>1399.001709</td>\n",
       "      <td>6.153480</td>\n",
       "      <td>6.150709</td>\n",
       "      <td>14.947606</td>\n",
       "      <td>13.987059</td>\n",
       "      <td>12.023554</td>\n",
       "      <td>8.016657</td>\n",
       "      <td>72.871826</td>\n",
       "    </tr>\n",
       "    <tr>\n",
       "      <th>2016-09-01 01:59:59</th>\n",
       "      <td>68.910431</td>\n",
       "      <td>88.089661</td>\n",
       "      <td>13.036280</td>\n",
       "      <td>5.526065</td>\n",
       "      <td>41.187904</td>\n",
       "      <td>11.918977</td>\n",
       "      <td>61.961163</td>\n",
       "      <td>8.080000</td>\n",
       "      <td>215.392456</td>\n",
       "      <td>1398.777954</td>\n",
       "      <td>1398.055420</td>\n",
       "      <td>1399.508057</td>\n",
       "      <td>5.999043</td>\n",
       "      <td>6.002315</td>\n",
       "      <td>14.930873</td>\n",
       "      <td>14.092980</td>\n",
       "      <td>12.058140</td>\n",
       "      <td>8.130980</td>\n",
       "      <td>71.669228</td>\n",
       "    </tr>\n",
       "    <tr>\n",
       "      <th>2016-09-01 02:59:59</th>\n",
       "      <td>68.143211</td>\n",
       "      <td>88.412758</td>\n",
       "      <td>13.138412</td>\n",
       "      <td>5.426561</td>\n",
       "      <td>42.546295</td>\n",
       "      <td>12.091331</td>\n",
       "      <td>66.903809</td>\n",
       "      <td>7.786667</td>\n",
       "      <td>215.259949</td>\n",
       "      <td>1398.493652</td>\n",
       "      <td>1398.860474</td>\n",
       "      <td>1399.497070</td>\n",
       "      <td>5.850632</td>\n",
       "      <td>5.853594</td>\n",
       "      <td>14.996511</td>\n",
       "      <td>14.077881</td>\n",
       "      <td>11.962366</td>\n",
       "      <td>8.096892</td>\n",
       "      <td>73.202599</td>\n",
       "    </tr>\n",
       "    <tr>\n",
       "      <th>2016-09-01 03:59:59</th>\n",
       "      <td>67.776390</td>\n",
       "      <td>87.360130</td>\n",
       "      <td>12.400507</td>\n",
       "      <td>5.114758</td>\n",
       "      <td>41.060196</td>\n",
       "      <td>12.181598</td>\n",
       "      <td>59.865917</td>\n",
       "      <td>7.640000</td>\n",
       "      <td>215.336243</td>\n",
       "      <td>1399.618164</td>\n",
       "      <td>1397.440063</td>\n",
       "      <td>1401.065186</td>\n",
       "      <td>5.801935</td>\n",
       "      <td>5.803657</td>\n",
       "      <td>14.916674</td>\n",
       "      <td>14.013968</td>\n",
       "      <td>12.033091</td>\n",
       "      <td>8.074945</td>\n",
       "      <td>70.757057</td>\n",
       "    </tr>\n",
       "    <tr>\n",
       "      <th>2016-09-01 04:59:59</th>\n",
       "      <td>61.467079</td>\n",
       "      <td>83.236366</td>\n",
       "      <td>11.327427</td>\n",
       "      <td>4.767383</td>\n",
       "      <td>41.269161</td>\n",
       "      <td>11.290425</td>\n",
       "      <td>63.315323</td>\n",
       "      <td>7.530000</td>\n",
       "      <td>199.099319</td>\n",
       "      <td>1401.268066</td>\n",
       "      <td>1398.128784</td>\n",
       "      <td>1399.480469</td>\n",
       "      <td>5.738081</td>\n",
       "      <td>5.739635</td>\n",
       "      <td>14.979233</td>\n",
       "      <td>14.009246</td>\n",
       "      <td>12.025367</td>\n",
       "      <td>8.054678</td>\n",
       "      <td>68.654396</td>\n",
       "    </tr>\n",
       "  </tbody>\n",
       "</table>\n",
       "</div>"
      ],
      "text/plain": [
       "                     final.output.recovery  rougher.output.recovery  \\\n",
       "date                                                                  \n",
       "2016-09-01 00:59:59              70.273582                89.993423   \n",
       "2016-09-01 01:59:59              68.910431                88.089661   \n",
       "2016-09-01 02:59:59              68.143211                88.412758   \n",
       "2016-09-01 03:59:59              67.776390                87.360130   \n",
       "2016-09-01 04:59:59              61.467079                83.236366   \n",
       "\n",
       "                     rougher.input.feed_ag  rougher.input.feed_pb  \\\n",
       "date                                                                \n",
       "2016-09-01 00:59:59              13.128569               5.636710   \n",
       "2016-09-01 01:59:59              13.036280               5.526065   \n",
       "2016-09-01 02:59:59              13.138412               5.426561   \n",
       "2016-09-01 03:59:59              12.400507               5.114758   \n",
       "2016-09-01 04:59:59              11.327427               4.767383   \n",
       "\n",
       "                     rougher.input.feed_sol  rougher.input.feed_au  \\\n",
       "date                                                                 \n",
       "2016-09-01 00:59:59               42.022442              12.084103   \n",
       "2016-09-01 01:59:59               41.187904              11.918977   \n",
       "2016-09-01 02:59:59               42.546295              12.091331   \n",
       "2016-09-01 03:59:59               41.060196              12.181598   \n",
       "2016-09-01 04:59:59               41.269161              11.290425   \n",
       "\n",
       "                     rougher.input.feed_size  primary_cleaner.input.feed_size  \\\n",
       "date                                                                            \n",
       "2016-09-01 00:59:59                62.710453                         8.080000   \n",
       "2016-09-01 01:59:59                61.961163                         8.080000   \n",
       "2016-09-01 02:59:59                66.903809                         7.786667   \n",
       "2016-09-01 03:59:59                59.865917                         7.640000   \n",
       "2016-09-01 04:59:59                63.315323                         7.530000   \n",
       "\n",
       "                     primary_cleaner.input.sulfate  \\\n",
       "date                                                 \n",
       "2016-09-01 00:59:59                     210.800903   \n",
       "2016-09-01 01:59:59                     215.392456   \n",
       "2016-09-01 02:59:59                     215.259949   \n",
       "2016-09-01 03:59:59                     215.336243   \n",
       "2016-09-01 04:59:59                     199.099319   \n",
       "\n",
       "                     primary_cleaner.state.floatbank8_a_air  \\\n",
       "date                                                          \n",
       "2016-09-01 00:59:59                             1398.981323   \n",
       "2016-09-01 01:59:59                             1398.777954   \n",
       "2016-09-01 02:59:59                             1398.493652   \n",
       "2016-09-01 03:59:59                             1399.618164   \n",
       "2016-09-01 04:59:59                             1401.268066   \n",
       "\n",
       "                     primary_cleaner.state.floatbank8_b_air  \\\n",
       "date                                                          \n",
       "2016-09-01 00:59:59                             1399.144897   \n",
       "2016-09-01 01:59:59                             1398.055420   \n",
       "2016-09-01 02:59:59                             1398.860474   \n",
       "2016-09-01 03:59:59                             1397.440063   \n",
       "2016-09-01 04:59:59                             1398.128784   \n",
       "\n",
       "                     primary_cleaner.state.floatbank8_d_air  \\\n",
       "date                                                          \n",
       "2016-09-01 00:59:59                             1399.001709   \n",
       "2016-09-01 01:59:59                             1399.508057   \n",
       "2016-09-01 02:59:59                             1399.497070   \n",
       "2016-09-01 03:59:59                             1401.065186   \n",
       "2016-09-01 04:59:59                             1399.480469   \n",
       "\n",
       "                     rougher.input.floatbank10_xanthate  \\\n",
       "date                                                      \n",
       "2016-09-01 00:59:59                            6.153480   \n",
       "2016-09-01 01:59:59                            5.999043   \n",
       "2016-09-01 02:59:59                            5.850632   \n",
       "2016-09-01 03:59:59                            5.801935   \n",
       "2016-09-01 04:59:59                            5.738081   \n",
       "\n",
       "                     rougher.input.floatbank11_xanthate  \\\n",
       "date                                                      \n",
       "2016-09-01 00:59:59                            6.150709   \n",
       "2016-09-01 01:59:59                            6.002315   \n",
       "2016-09-01 02:59:59                            5.853594   \n",
       "2016-09-01 03:59:59                            5.803657   \n",
       "2016-09-01 04:59:59                            5.739635   \n",
       "\n",
       "                     secondary_cleaner.state.floatbank2_b_air  \\\n",
       "date                                                            \n",
       "2016-09-01 00:59:59                                 14.947606   \n",
       "2016-09-01 01:59:59                                 14.930873   \n",
       "2016-09-01 02:59:59                                 14.996511   \n",
       "2016-09-01 03:59:59                                 14.916674   \n",
       "2016-09-01 04:59:59                                 14.979233   \n",
       "\n",
       "                     secondary_cleaner.state.floatbank3_b_air  \\\n",
       "date                                                            \n",
       "2016-09-01 00:59:59                                 13.987059   \n",
       "2016-09-01 01:59:59                                 14.092980   \n",
       "2016-09-01 02:59:59                                 14.077881   \n",
       "2016-09-01 03:59:59                                 14.013968   \n",
       "2016-09-01 04:59:59                                 14.009246   \n",
       "\n",
       "                     secondary_cleaner.state.floatbank4_a_air  \\\n",
       "date                                                            \n",
       "2016-09-01 00:59:59                                 12.023554   \n",
       "2016-09-01 01:59:59                                 12.058140   \n",
       "2016-09-01 02:59:59                                 11.962366   \n",
       "2016-09-01 03:59:59                                 12.033091   \n",
       "2016-09-01 04:59:59                                 12.025367   \n",
       "\n",
       "                     secondary_cleaner.state.floatbank4_b_air  rougher_input  \n",
       "date                                                                          \n",
       "2016-09-01 00:59:59                                  8.016657      72.871826  \n",
       "2016-09-01 01:59:59                                  8.130980      71.669228  \n",
       "2016-09-01 02:59:59                                  8.096892      73.202599  \n",
       "2016-09-01 03:59:59                                  8.074945      70.757057  \n",
       "2016-09-01 04:59:59                                  8.054678      68.654396  "
      ]
     },
     "execution_count": 54,
     "metadata": {},
     "output_type": "execute_result"
    }
   ],
   "source": [
    "# вывод первых пяти строк дополненного датафрейма\n",
    "df_test.head()"
   ]
  },
  {
   "cell_type": "markdown",
   "id": "3fb2b67c",
   "metadata": {},
   "source": [
    "Визуализируем распределение с помощью гистограммы."
   ]
  },
  {
   "cell_type": "code",
   "execution_count": 55,
   "id": "13663dc7",
   "metadata": {},
   "outputs": [
    {
     "data": {
      "image/png": "[encoded data removed]",
      "text/plain": [
       "<Figure size 576x288 with 1 Axes>"
      ]
     },
     "metadata": {
      "needs_background": "light"
     },
     "output_type": "display_data"
    }
   ],
   "source": [
    "# построение гистограммы \n",
    "fig, axes = plt.subplots(sharex=True, sharey=True, figsize=(8, 4))\n",
    "fig.text(0.5, 0.04, 'Значения признаков', ha='center')\n",
    "fig.text(0.09, 0.9, 'Частота', va='center', rotation='vertical')\n",
    "plt.title('Суммарная концентрация всех веществ на разных стадиях_df_test')\n",
    "df_test['rougher_input'].hist(alpha = 0.4, bins=50)\n",
    "plt.legend(['rougher_input'])\n",
    "plt.show()"
   ]
  },
  {
   "cell_type": "markdown",
   "id": "08101c1f",
   "metadata": {},
   "source": [
    "Визуально на гисторграмме значений менее 1 нет, проверим это."
   ]
  },
  {
   "cell_type": "code",
   "execution_count": 56,
   "id": "c0488a05",
   "metadata": {
    "scrolled": false
   },
   "outputs": [
    {
     "data": {
      "text/plain": [
       "final.output.recovery                       0\n",
       "rougher.output.recovery                     0\n",
       "rougher.input.feed_ag                       0\n",
       "rougher.input.feed_pb                       0\n",
       "rougher.input.feed_sol                      0\n",
       "rougher.input.feed_au                       0\n",
       "rougher.input.feed_size                     0\n",
       "primary_cleaner.input.feed_size             0\n",
       "primary_cleaner.input.sulfate               0\n",
       "primary_cleaner.state.floatbank8_a_air      0\n",
       "primary_cleaner.state.floatbank8_b_air      0\n",
       "primary_cleaner.state.floatbank8_d_air      0\n",
       "rougher.input.floatbank10_xanthate          0\n",
       "rougher.input.floatbank11_xanthate          0\n",
       "secondary_cleaner.state.floatbank2_b_air    0\n",
       "secondary_cleaner.state.floatbank3_b_air    0\n",
       "secondary_cleaner.state.floatbank4_a_air    0\n",
       "secondary_cleaner.state.floatbank4_b_air    0\n",
       "rougher_input                               0\n",
       "dtype: int64"
      ]
     },
     "execution_count": 56,
     "metadata": {},
     "output_type": "execute_result"
    }
   ],
   "source": [
    "# отбор строк в тестовом датафрейме со значениями в rougher_input менее 1\n",
    "df_test.query('rougher_input < 1').count()"
   ]
  },
  {
   "cell_type": "markdown",
   "id": "87402877",
   "metadata": {},
   "source": [
    "Неправдоподобно низких концентраций веществ в тестовой выборке нет."
   ]
  },
  {
   "cell_type": "markdown",
   "id": "1b440709",
   "metadata": {},
   "source": [
    "<div style=\"border:solid blue 2px; padding: 20px\"> \n",
    "\n",
    "**Вывод**  \n",
    "\n",
    "На данном этапе работ были проделаны следующие шаги:\n",
    "1. Определена концентрация металлов на различных этапах очистки: концентрация Au при последовательном переходе по стадиям обработки растет, концентрация Ag не меняется последовательно, как в случае Au, и наибольшая концентрация Ag наблюдается в сырье на выходе с флотации, концентрация Pb меняется последовательно, при этом концентрация почти не меняется после первичной очистки в финальном выходе.\n",
    "2. Определено, как распределены размеры гранул в обучающей и тестовой выборках - одинаково.\n",
    "3. На основании подсчитанной суммарной концентрации веществ на разных стадиях процесса обработки сырья обучающая выборка очищена от строк со значениями меньше 1 (обучающая выборка сократилась на 360 строк), в тестовой выборке таких значений нет.\n",
    "\n",
    " \n",
    "</div>"
   ]
  },
  {
   "cell_type": "markdown",
   "id": "f4211c8d",
   "metadata": {},
   "source": [
    "## Построение модели"
   ]
  },
  {
   "cell_type": "markdown",
   "id": "4f132759",
   "metadata": {},
   "source": [
    "### Подготовка наборов признаков и целевых признаков"
   ]
  },
  {
   "cell_type": "markdown",
   "id": "84a40070",
   "metadata": {},
   "source": [
    "Сформируем наборы признаков для обучения и тестирования модели на основании корреляций выше для показателей final.output.recovery и rougher.output.recovery."
   ]
  },
  {
   "cell_type": "markdown",
   "id": "7707dac6",
   "metadata": {},
   "source": [
    "**Тестовая выборка**"
   ]
  },
  {
   "cell_type": "code",
   "execution_count": 57,
   "id": "62cc6466",
   "metadata": {},
   "outputs": [],
   "source": [
    "# формирование наборов признаков \n",
    "features_test_rougher = df_test[['primary_cleaner.input.sulfate',\n",
    "                                 'primary_cleaner.state.floatbank8_a_air',\n",
    "                                 'primary_cleaner.state.floatbank8_b_air',\n",
    "                                 'primary_cleaner.state.floatbank8_d_air',\n",
    "                                 'rougher.input.feed_sol',\n",
    "                                 'rougher.input.feed_au',\n",
    "                                 'rougher.input.floatbank10_xanthate',\n",
    "                                 'rougher.input.floatbank11_xanthate',\n",
    "                                 'secondary_cleaner.state.floatbank4_a_air',\n",
    "                                 'secondary_cleaner.state.floatbank4_b_air',\n",
    "                                 'secondary_cleaner.state.floatbank2_b_air',\n",
    "                                 'secondary_cleaner.state.floatbank3_b_air'\n",
    "                                ]]\n",
    "target_test_rougher = df_test['rougher.output.recovery']\n",
    "features_test_final = df_test[['primary_cleaner.input.sulfate',\n",
    "                               'rougher.input.feed_sol',\n",
    "                               'rougher.input.feed_au',\n",
    "                               'rougher.input.floatbank10_xanthate',\n",
    "                               'rougher.input.floatbank11_xanthate',\n",
    "                               'secondary_cleaner.state.floatbank2_b_air',\n",
    "                               'secondary_cleaner.state.floatbank4_a_air'\n",
    "                              ]]\n",
    "target_test_final = df_test['final.output.recovery']"
   ]
  },
  {
   "cell_type": "markdown",
   "id": "7323a9ba",
   "metadata": {},
   "source": [
    "**Обучающая выборка**"
   ]
  },
  {
   "cell_type": "code",
   "execution_count": 58,
   "id": "fd5b2859",
   "metadata": {},
   "outputs": [],
   "source": [
    "# формирование наборов признаков \n",
    "features_train_rougher = df_train[['primary_cleaner.input.sulfate',\n",
    "                                 'primary_cleaner.state.floatbank8_a_air',\n",
    "                                 'primary_cleaner.state.floatbank8_b_air',\n",
    "                                 'primary_cleaner.state.floatbank8_d_air',\n",
    "                                 'rougher.input.feed_sol',\n",
    "                                 'rougher.input.feed_au',\n",
    "                                 'rougher.input.floatbank10_xanthate',\n",
    "                                 'rougher.input.floatbank11_xanthate',\n",
    "                                 'secondary_cleaner.state.floatbank4_a_air',\n",
    "                                 'secondary_cleaner.state.floatbank4_b_air',\n",
    "                                 'secondary_cleaner.state.floatbank2_b_air',\n",
    "                                 'secondary_cleaner.state.floatbank3_b_air'\n",
    "                                ]]\n",
    "target_train_rougher = df_train['rougher.output.recovery']\n",
    "features_train_final = df_train[['primary_cleaner.input.sulfate',\n",
    "                               'rougher.input.feed_sol',\n",
    "                               'rougher.input.feed_au',\n",
    "                               'rougher.input.floatbank10_xanthate',\n",
    "                               'rougher.input.floatbank11_xanthate',\n",
    "                               'secondary_cleaner.state.floatbank2_b_air',\n",
    "                               'secondary_cleaner.state.floatbank4_a_air'\n",
    "                              ]]\n",
    "target_train_final = df_train['final.output.recovery']"
   ]
  },
  {
   "cell_type": "markdown",
   "id": "df18bc57",
   "metadata": {},
   "source": [
    "**Нормализуем признаки в обучающей и тестовой выборках**"
   ]
  },
  {
   "cell_type": "markdown",
   "id": "02de56cb",
   "metadata": {},
   "source": [
    "Стандартизация признаков **для целевого признака rougher.output.recovery**"
   ]
  },
  {
   "cell_type": "code",
   "execution_count": 59,
   "id": "054fd016",
   "metadata": {},
   "outputs": [],
   "source": [
    "# приведение признаков к одному масштабу с помощью стандартизации данных\n",
    "pd.options.mode.chained_assignment = None\n",
    "numeric=['primary_cleaner.input.sulfate',\n",
    "         'primary_cleaner.state.floatbank8_a_air',\n",
    "         'primary_cleaner.state.floatbank8_b_air',\n",
    "         'primary_cleaner.state.floatbank8_d_air',\n",
    "         'rougher.input.feed_sol',\n",
    "         'rougher.input.feed_au',\n",
    "         'rougher.input.floatbank10_xanthate',\n",
    "         'rougher.input.floatbank11_xanthate',\n",
    "         'secondary_cleaner.state.floatbank4_a_air',\n",
    "         'secondary_cleaner.state.floatbank4_b_air',\n",
    "         'secondary_cleaner.state.floatbank2_b_air',\n",
    "         'secondary_cleaner.state.floatbank3_b_air']\n"
   ]
  },
  {
   "cell_type": "code",
   "execution_count": 60,
   "id": "323bfd28",
   "metadata": {
    "scrolled": true
   },
   "outputs": [
    {
     "name": "stdout",
     "output_type": "stream",
     "text": [
      "<class 'pandas.core.frame.DataFrame'>\n",
      "Index: 13789 entries, 2016-01-15 00:00:00 to 2018-08-18 10:59:59\n",
      "Data columns (total 12 columns):\n",
      " #   Column                                    Non-Null Count  Dtype  \n",
      "---  ------                                    --------------  -----  \n",
      " 0   primary_cleaner.input.sulfate             13789 non-null  float32\n",
      " 1   primary_cleaner.state.floatbank8_a_air    13789 non-null  float32\n",
      " 2   primary_cleaner.state.floatbank8_b_air    13789 non-null  float32\n",
      " 3   primary_cleaner.state.floatbank8_d_air    13789 non-null  float32\n",
      " 4   rougher.input.feed_sol                    13789 non-null  float32\n",
      " 5   rougher.input.feed_au                     13789 non-null  float32\n",
      " 6   rougher.input.floatbank10_xanthate        13789 non-null  float32\n",
      " 7   rougher.input.floatbank11_xanthate        13789 non-null  float32\n",
      " 8   secondary_cleaner.state.floatbank4_a_air  13789 non-null  float32\n",
      " 9   secondary_cleaner.state.floatbank4_b_air  13789 non-null  float32\n",
      " 10  secondary_cleaner.state.floatbank2_b_air  13789 non-null  float32\n",
      " 11  secondary_cleaner.state.floatbank3_b_air  13789 non-null  float32\n",
      "dtypes: float32(12)\n",
      "memory usage: 754.1+ KB\n"
     ]
    }
   ],
   "source": [
    "features_train_rougher[numeric].info()"
   ]
  },
  {
   "cell_type": "code",
   "execution_count": 61,
   "id": "01891221",
   "metadata": {},
   "outputs": [],
   "source": [
    "scaler = StandardScaler()\n",
    "scaler.fit(features_train_rougher[numeric]) \n",
    "features_train_rougher[numeric] = scaler.transform(features_train_rougher[numeric])\n",
    "features_test_rougher[numeric] = scaler.transform(features_test_rougher[numeric])"
   ]
  },
  {
   "cell_type": "markdown",
   "id": "446de585",
   "metadata": {},
   "source": [
    "Стандартизация признаков **для целевого признака final.output.recovery**"
   ]
  },
  {
   "cell_type": "code",
   "execution_count": 62,
   "id": "4448622a",
   "metadata": {},
   "outputs": [],
   "source": [
    "# приведение признаков к одному масштабу с помощью стандартизации данных\n",
    "pd.options.mode.chained_assignment = None\n",
    "numeric=['primary_cleaner.input.sulfate',\n",
    "         'rougher.input.feed_sol',\n",
    "         'rougher.input.feed_au',\n",
    "         'rougher.input.floatbank10_xanthate',\n",
    "         'rougher.input.floatbank11_xanthate',\n",
    "         'secondary_cleaner.state.floatbank2_b_air',\n",
    "         'secondary_cleaner.state.floatbank4_a_air']\n"
   ]
  },
  {
   "cell_type": "code",
   "execution_count": 63,
   "id": "db8b30a5",
   "metadata": {
    "scrolled": true
   },
   "outputs": [
    {
     "name": "stdout",
     "output_type": "stream",
     "text": [
      "<class 'pandas.core.frame.DataFrame'>\n",
      "Index: 13789 entries, 2016-01-15 00:00:00 to 2018-08-18 10:59:59\n",
      "Data columns (total 7 columns):\n",
      " #   Column                                    Non-Null Count  Dtype  \n",
      "---  ------                                    --------------  -----  \n",
      " 0   primary_cleaner.input.sulfate             13789 non-null  float32\n",
      " 1   rougher.input.feed_sol                    13789 non-null  float32\n",
      " 2   rougher.input.feed_au                     13789 non-null  float32\n",
      " 3   rougher.input.floatbank10_xanthate        13789 non-null  float32\n",
      " 4   rougher.input.floatbank11_xanthate        13789 non-null  float32\n",
      " 5   secondary_cleaner.state.floatbank2_b_air  13789 non-null  float32\n",
      " 6   secondary_cleaner.state.floatbank4_a_air  13789 non-null  float32\n",
      "dtypes: float32(7)\n",
      "memory usage: 484.8+ KB\n"
     ]
    }
   ],
   "source": [
    "features_train_final[numeric].info()"
   ]
  },
  {
   "cell_type": "code",
   "execution_count": 64,
   "id": "46a779fb",
   "metadata": {},
   "outputs": [],
   "source": [
    "scaler = StandardScaler()\n",
    "scaler.fit(features_train_final[numeric]) \n",
    "features_train_final[numeric] = scaler.transform(features_train_final[numeric])\n",
    "features_test_final[numeric] = scaler.transform(features_test_final[numeric])"
   ]
  },
  {
   "cell_type": "markdown",
   "id": "f280d797",
   "metadata": {},
   "source": [
    "### Подготовка формулы для расчета sMAPE"
   ]
  },
  {
   "cell_type": "markdown",
   "id": "addc5e26",
   "metadata": {},
   "source": [
    "Подготовим функцию для расчета sMAPE."
   ]
  },
  {
   "cell_type": "code",
   "execution_count": 65,
   "id": "cc637acb",
   "metadata": {
    "scrolled": true
   },
   "outputs": [],
   "source": [
    "# подготовка функции для расчета sMAPE по каждому показателю\n",
    "def smape(y_true, y_pred):\n",
    "    numerator = abs(y_true - y_pred)\n",
    "    denominator = (abs(y_true) + abs(y_pred)) / 2\n",
    "    quotient = numerator * 100 / denominator\n",
    "    smape = quotient.sum() / len(quotient)\n",
    "    return smape"
   ]
  },
  {
   "cell_type": "code",
   "execution_count": 66,
   "id": "00f6d3fd",
   "metadata": {},
   "outputs": [],
   "source": [
    "# подготовка функции для расчета итогового sMAPE\n",
    "def smape_weighted (smape_rougher, smape_final):\n",
    "    return  0.25*smape_rougher + 0.75*smape_final"
   ]
  },
  {
   "cell_type": "markdown",
   "id": "0d0de429",
   "metadata": {},
   "source": [
    "### Обучение и выбор модели"
   ]
  },
  {
   "cell_type": "markdown",
   "id": "9346ac0f",
   "metadata": {},
   "source": [
    "На данных обучающей выборки обучим и выберем оптимальную модель для тестирования. Рассмотрим модели Решающее дерево, Случайный лес и Линейная регрессия.\n",
    "\n",
    "Установим RandomState равным 12345."
   ]
  },
  {
   "cell_type": "code",
   "execution_count": 67,
   "id": "b0a58fa1",
   "metadata": {},
   "outputs": [],
   "source": [
    "# фиксирование RandomState\n",
    "state = np.random.RandomState(12345)"
   ]
  },
  {
   "cell_type": "markdown",
   "id": "f9b3056c",
   "metadata": {},
   "source": [
    "Подготовим свой счетчик для оценки качества модели на основе smape."
   ]
  },
  {
   "cell_type": "code",
   "execution_count": 68,
   "id": "1eebdf7c",
   "metadata": {
    "scrolled": true
   },
   "outputs": [],
   "source": [
    "# подготовка счетчика для оценки качества модели на основе smape\n",
    "my_scorer = make_scorer(smape, greater_is_better=False)"
   ]
  },
  {
   "cell_type": "markdown",
   "id": "a472bf6f",
   "metadata": {},
   "source": [
    "Модель **Линейная регрессия**"
   ]
  },
  {
   "cell_type": "markdown",
   "id": "0bc3d401",
   "metadata": {},
   "source": [
    "Рассчитаем sMape_rougher и sMape_final для модели."
   ]
  },
  {
   "cell_type": "code",
   "execution_count": 69,
   "id": "f161295e",
   "metadata": {
    "scrolled": false
   },
   "outputs": [
    {
     "name": "stdout",
     "output_type": "stream",
     "text": [
      "Линейная регрессия\n",
      "sMape_rougher: -6.678376491628624\n",
      "sMape_final: -8.946540394232342\n",
      "sMape: -8.379499418581412\n"
     ]
    }
   ],
   "source": [
    "# расчет параметров с помощью модели линейной регрессии\n",
    "model_lr = LinearRegression()\n",
    "smape_rougher = cross_val_score (model_lr, features_train_rougher, target_train_rougher, cv=5, scoring=my_scorer).mean()\n",
    "smape_final = cross_val_score (model_lr, features_train_final, target_train_final, cv=5, scoring=my_scorer).mean()\n",
    "\n",
    "print('Линейная регрессия')\n",
    "print('sMape_rougher:', smape_rougher)\n",
    "print('sMape_final:', smape_final)\n",
    "print('sMape:', smape_weighted(smape_rougher, smape_final))"
   ]
  },
  {
   "cell_type": "markdown",
   "id": "1c92246a",
   "metadata": {},
   "source": [
    "Модель **Решающее дерево**"
   ]
  },
  {
   "cell_type": "markdown",
   "id": "e6e01ecd",
   "metadata": {},
   "source": [
    "Подберем оптимальные параметры модели с помощью GridSearchCV (закомментировала, чтобы комп не зависал при прогоне всех ячеек сверху вниз перед сдачей)."
   ]
  },
  {
   "cell_type": "code",
   "execution_count": 70,
   "id": "3d139c50",
   "metadata": {},
   "outputs": [
    {
     "data": {
      "text/plain": [
       "{'max_depth': 6}"
      ]
     },
     "execution_count": 70,
     "metadata": {},
     "output_type": "execute_result"
    }
   ],
   "source": [
    "# подбор параметров с помощью GridSearchCV\n",
    "# clf = DecisionTreeRegressor(random_state=state)\n",
    "# parameters = {'max_depth': range (1,21,1)}\n",
    "# grid = GridSearchCV(clf, parameters, cv=5, scoring=my_scorer, n_jobs=-1)\n",
    "# grid.fit(features_train_rougher, target_train_rougher)\n",
    "# grid.best_params_"
   ]
  },
  {
   "cell_type": "markdown",
   "id": "242e6e11",
   "metadata": {},
   "source": [
    "Оптимальная глубина модели - 6."
   ]
  },
  {
   "cell_type": "code",
   "execution_count": 71,
   "id": "2b5ca296",
   "metadata": {
    "scrolled": true
   },
   "outputs": [
    {
     "name": "stdout",
     "output_type": "stream",
     "text": [
      "Решающее дерево\n",
      "sMape_rougher: -7.482614693381613\n",
      "sMape_final: -12.673423870594476\n",
      "sMape: -11.37572157629126\n"
     ]
    }
   ],
   "source": [
    "# расчет параметров с помощью модели Решающее дерево\n",
    "model_tree = DecisionTreeRegressor(random_state=state, max_depth=6)\n",
    "smape_rougher = cross_val_score (model_tree, features_train_rougher, target_train_rougher, cv=5, scoring=my_scorer).mean()\n",
    "smape_final = cross_val_score (model_tree, features_train_final, target_train_final, cv=5, scoring=my_scorer).mean()\n",
    "\n",
    "print('Решающее дерево')\n",
    "print('sMape_rougher:', smape_rougher)\n",
    "print('sMape_final:', smape_final)\n",
    "print('sMape:', smape_weighted(smape_rougher, smape_final))"
   ]
  },
  {
   "cell_type": "markdown",
   "id": "4882a77d",
   "metadata": {},
   "source": [
    "Модель **Случайный лес**"
   ]
  },
  {
   "cell_type": "markdown",
   "id": "0ba555bb",
   "metadata": {},
   "source": [
    "Подберем оптимальные параметры модели с помощью GridSearchCV (закомментировала, чтобы комп не зависал при прогоне всех ячеек сверху вниз перед сдачей)."
   ]
  },
  {
   "cell_type": "code",
   "execution_count": 72,
   "id": "4de0a984",
   "metadata": {},
   "outputs": [
    {
     "data": {
      "text/plain": [
       "{'max_depth': 7, 'n_estimators': 40}"
      ]
     },
     "execution_count": 72,
     "metadata": {},
     "output_type": "execute_result"
    }
   ],
   "source": [
    "# подбор параметров с помощью GridSearchCV\n",
    "# clf = RandomForestRegressor(random_state=state)\n",
    "# parameters = {'n_estimators': range (10, 51, 10),\n",
    "              # 'max_depth': range (1,13,2)}\n",
    "# grid = GridSearchCV(clf, parameters, cv=5, scoring=my_scorer, n_jobs=-1)\n",
    "# grid.fit(features_train_rougher, target_train_rougher)\n",
    "# grid.best_params_"
   ]
  },
  {
   "cell_type": "markdown",
   "id": "1055fbd9",
   "metadata": {},
   "source": [
    "Оптимальная глубина модели - 7, оптимальное число оценщиков - 40."
   ]
  },
  {
   "cell_type": "code",
   "execution_count": 73,
   "id": "607e65c7",
   "metadata": {},
   "outputs": [
    {
     "name": "stdout",
     "output_type": "stream",
     "text": [
      "Случайный лес\n",
      "sMape_rougher: -6.915573710132475\n",
      "sMape_final: -10.786893938032865\n",
      "sMape: -9.819063881057769\n"
     ]
    }
   ],
   "source": [
    "# расчет параметров с помощью модели Случайный лес\n",
    "model_tree = RandomForestRegressor(random_state=state, max_depth=7, n_estimators=40)\n",
    "smape_rougher = cross_val_score (model_tree, features_train_rougher, target_train_rougher, cv=5, scoring=my_scorer).mean()\n",
    "smape_final = cross_val_score (model_tree, features_train_final, target_train_final, cv=5, scoring=my_scorer).mean()\n",
    "\n",
    "print('Случайный лес')\n",
    "print('sMape_rougher:', smape_rougher)\n",
    "print('sMape_final:', smape_final)\n",
    "print('sMape:', smape_weighted(smape_rougher, smape_final))"
   ]
  },
  {
   "cell_type": "markdown",
   "id": "308df01e",
   "metadata": {},
   "source": [
    "Наилучший результат по sMape показала модель Линейная регрессия (sMape_weighted = 8,379%), применим ее к нашей тестовой выборке."
   ]
  },
  {
   "cell_type": "markdown",
   "id": "82ae59da",
   "metadata": {},
   "source": [
    "### Обработка моделью тестовой выборки"
   ]
  },
  {
   "cell_type": "markdown",
   "id": "ecb7f152",
   "metadata": {},
   "source": [
    "Обработаем с помощью алгоритма Линейной регресии, показавшего наилучшие результаты, данные тестовой выборки."
   ]
  },
  {
   "cell_type": "code",
   "execution_count": 74,
   "id": "bb0c5d5f",
   "metadata": {},
   "outputs": [
    {
     "name": "stdout",
     "output_type": "stream",
     "text": [
      "Линейная регрессия на тестовой выборке\n",
      "sMape_rougher: 7.91945740784499\n",
      "sMape_final: 8.967240666351607\n",
      "sMape: 8.705294851724952\n"
     ]
    }
   ],
   "source": [
    "# расчет параметров с помощью модели линейной регрессии\n",
    "model_lr = LinearRegression()\n",
    "model_lr.fit(features_train_rougher, target_train_rougher)\n",
    "predictions_rougher = model_lr.predict(features_test_rougher)\n",
    "model_lr.fit(features_train_final, target_train_final)\n",
    "predictions_final = model_lr.predict(features_test_final)\n",
    "smape_rougher = smape(target_test_rougher, predictions_rougher)\n",
    "smape_final = smape(target_test_final, predictions_final)\n",
    "\n",
    "print('Линейная регрессия на тестовой выборке')\n",
    "print('sMape_rougher:', smape_rougher)\n",
    "print('sMape_final:', smape_final)\n",
    "print('sMape:', smape_weighted(smape_rougher, smape_final))"
   ]
  },
  {
   "cell_type": "markdown",
   "id": "26ce1b4b",
   "metadata": {},
   "source": [
    "Результат на тестовой выборке sMape_weighted = 8,705%."
   ]
  },
  {
   "cell_type": "markdown",
   "id": "6e3d0e58",
   "metadata": {},
   "source": [
    "Оценим адекватность нашей модели, сравнив ее результаты с результатами **константной модели**."
   ]
  },
  {
   "cell_type": "markdown",
   "id": "9fa89941",
   "metadata": {},
   "source": [
    "Для оценки адекватности нашей модели сравним ее метрику качества с константной моделью.\n",
    "Создадим константную модель, предсказывающую усредненное значение target. \n",
    "Оценим ее метрику качества на данных тестовой выборки с результатами модели."
   ]
  },
  {
   "cell_type": "code",
   "execution_count": 75,
   "id": "60424782",
   "metadata": {
    "scrolled": false
   },
   "outputs": [],
   "source": [
    "# создание константной модели для rougher.output.recovery\n",
    "predictions_test_constant_rougher = pd.Series([target_test_rougher.mean()] * len(target_test_rougher))"
   ]
  },
  {
   "cell_type": "code",
   "execution_count": 76,
   "id": "f729314f",
   "metadata": {},
   "outputs": [],
   "source": [
    "# создание константной модели для final.output.recovery\n",
    "predictions_test_constant_final = pd.Series([target_test_final.mean()] * len(target_test_final))"
   ]
  },
  {
   "cell_type": "code",
   "execution_count": 77,
   "id": "6904765e",
   "metadata": {
    "scrolled": true
   },
   "outputs": [
    {
     "name": "stdout",
     "output_type": "stream",
     "text": [
      "Линейная регрессия на константной модели\n",
      "sMape_rougher: 8.782642586453703\n",
      "sMape_final: 9.370996629903853\n",
      "sMape: 9.223908119041315\n"
     ]
    }
   ],
   "source": [
    "smape_rougher_const = smape(target_test_rougher.reset_index(drop= True), predictions_test_constant_rougher)\n",
    "smape_final_const = smape(target_test_final.reset_index(drop= True), predictions_test_constant_final)\n",
    "\n",
    "print('Линейная регрессия на константной модели')\n",
    "print('sMape_rougher:', smape_rougher_const)\n",
    "print('sMape_final:', smape_final_const)\n",
    "print('sMape:', smape_weighted(smape_rougher_const, smape_final_const))"
   ]
  },
  {
   "cell_type": "markdown",
   "id": "93c11d15",
   "metadata": {},
   "source": [
    "Результат на константной модели - 9,223%."
   ]
  },
  {
   "cell_type": "markdown",
   "id": "0ac3efe2",
   "metadata": {},
   "source": [
    "<div style=\"border:solid blue 2px; padding: 20px\"> \n",
    "\n",
    "**Вывод**  \n",
    "\n",
    "На данном этапе исследования были проделаны следующие работы:\n",
    "1. Нормализованы признаки обучающей и тестовой выборок\n",
    "2. Сформированы итоговые наборы признаков для предсказания целевых признаков final.output.recovery и rougher.output.recovery для обучающей и тестовой выборок\n",
    "3. Подготовлены формулы для расчета качественного показателя sMAPE\n",
    "4. Проведено обучение 3 типов моделей с подбором параметров, определена модель с наилучшими результатами на обучающей выборке:\n",
    "Линейная регрессия:\n",
    "sMape_rougher: -6.678376491628624\n",
    "sMape_final: -8.946540394232342\n",
    "sMape: -8.379499418581412\n",
    "5. Проведена обработка выбранной моделью данных тестовой выборки, получены результаты чуть хуже, чем на обучающей выборке:\n",
    "Линейная регрессия на тестовой выборке\n",
    "sMape_rougher: 7.91945740784499\n",
    "sMape_final: 8.967240666351607\n",
    "sMape: 8.705294851724952\n",
    "6. Проведена проверка модели на адекватность сравнением с константной моделью; результаты на константной модели:\n",
    "Линейная регрессия на константной модели\n",
    "sMape_rougher: 8.782642586453703\n",
    "sMape_final: 9.370996629903853\n",
    "sMape: 9.223908119041315\n",
    "    \n",
    "Модель адекватна, результаты правдоподобны и лучше, чем на константной модели.    \n",
    " \n",
    "</div>"
   ]
  },
  {
   "cell_type": "markdown",
   "id": "d9c8e6e0",
   "metadata": {},
   "source": [
    "## Итоговый вывод"
   ]
  },
  {
   "cell_type": "markdown",
   "id": "41b18d47",
   "metadata": {},
   "source": [
    "<div style=\"border:solid blue 2px; padding: 20px\"> \n",
    "\n",
    "**Вывод**  \n",
    "\n",
    "В процессе исследования были проделаны шаги:\n",
    "1. Проведена предобработка данных:\n",
    " * открытие файлов\n",
    " * переиндексация\n",
    " * подтверждена корректность расчета эффективности обогащения\n",
    " * проведен анализ различий в наборах признаков в тестовой и полной выборках\n",
    " * заменены типы данных, заполнены пропуски, проведена проверка на явные дубли\n",
    " * проведено выравнивание тестовой и обучающей выборок по наборам признаков для обучения моделей (оставлены только признаки с высокой корреляцией с целевыми)\n",
    " * проведен анализ выборосов\n",
    "2. Проведен анализ данных:\n",
    " * проведена проверка концентрации металлов на различных этапах очистки (концентрация Au растет в процессе очистки)\n",
    " * определено, что размеры гранул в выборках распределены практически одинаково, распределение близко к нормальному\n",
    " * данные выборок очищены от строк с выбросами\n",
    "3. Осуществлено построение модели:\n",
    " * нормальзованы данные\n",
    " * подготовлены наборы признаков для предсказания целевых признаков final.output.recovery и rougher.output.recovery \n",
    " * проведено обучение 3 типов моделей и выбрана лучшая модель - линейная регрессия со значением итогового sMAPE = 8,379% на обучающей выборке, 8,705% на тестовой выборке и 9,223% на константной модели\n",
    "\n",
    "Для дальнейшей работы рекомендована эта модель как наиболее оптимальная.\n",
    " \n",
    "</div>"
   ]
  }
 ],
 "metadata": {
  "ExecuteTimeLog": [
   {
    "duration": 1598,
    "start_time": "2022-06-08T05:11:17.019Z"
   },
   {
    "duration": 1209,
    "start_time": "2022-06-08T05:11:18.621Z"
   },
   {
    "duration": 22,
    "start_time": "2022-06-08T05:11:19.831Z"
   },
   {
    "duration": 462,
    "start_time": "2022-06-08T05:11:19.855Z"
   },
   {
    "duration": 19,
    "start_time": "2022-06-08T05:11:20.319Z"
   },
   {
    "duration": 2129,
    "start_time": "2022-06-08T05:11:20.343Z"
   },
   {
    "duration": 15,
    "start_time": "2022-06-08T05:11:22.475Z"
   },
   {
    "duration": 24,
    "start_time": "2022-06-08T05:11:22.492Z"
   },
   {
    "duration": 33,
    "start_time": "2022-06-08T05:11:22.518Z"
   },
   {
    "duration": 26,
    "start_time": "2022-06-08T05:11:22.552Z"
   },
   {
    "duration": 8,
    "start_time": "2022-06-08T05:11:22.579Z"
   },
   {
    "duration": 4,
    "start_time": "2022-06-08T05:27:45.291Z"
   },
   {
    "duration": 332,
    "start_time": "2022-06-08T05:27:45.299Z"
   },
   {
    "duration": 19,
    "start_time": "2022-06-08T05:27:45.635Z"
   },
   {
    "duration": 99,
    "start_time": "2022-06-08T05:27:45.655Z"
   },
   {
    "duration": 14,
    "start_time": "2022-06-08T05:27:45.756Z"
   },
   {
    "duration": 393,
    "start_time": "2022-06-08T05:27:45.773Z"
   },
   {
    "duration": 14,
    "start_time": "2022-06-08T05:27:46.167Z"
   },
   {
    "duration": 10,
    "start_time": "2022-06-08T05:27:46.183Z"
   },
   {
    "duration": 25,
    "start_time": "2022-06-08T05:27:46.194Z"
   },
   {
    "duration": 41,
    "start_time": "2022-06-08T05:27:46.221Z"
   },
   {
    "duration": 15,
    "start_time": "2022-06-08T05:27:46.263Z"
   },
   {
    "duration": 24,
    "start_time": "2022-06-08T05:27:46.279Z"
   },
   {
    "duration": 32,
    "start_time": "2022-06-08T05:27:46.304Z"
   },
   {
    "duration": 78,
    "start_time": "2022-06-08T05:27:46.337Z"
   },
   {
    "duration": 133,
    "start_time": "2022-06-08T05:27:46.418Z"
   },
   {
    "duration": 21,
    "start_time": "2022-06-08T05:27:46.553Z"
   },
   {
    "duration": 21,
    "start_time": "2022-06-08T05:27:46.575Z"
   },
   {
    "duration": 12,
    "start_time": "2022-06-08T05:27:46.598Z"
   },
   {
    "duration": 135,
    "start_time": "2022-06-08T05:27:46.611Z"
   },
   {
    "duration": 31,
    "start_time": "2022-06-08T05:27:46.748Z"
   },
   {
    "duration": 16,
    "start_time": "2022-06-08T05:27:46.780Z"
   },
   {
    "duration": 7,
    "start_time": "2022-06-08T05:27:46.798Z"
   },
   {
    "duration": 30,
    "start_time": "2022-06-08T05:27:46.807Z"
   },
   {
    "duration": 33,
    "start_time": "2022-06-08T05:27:46.839Z"
   },
   {
    "duration": 108,
    "start_time": "2022-06-08T05:27:46.875Z"
   },
   {
    "duration": 19,
    "start_time": "2022-06-08T05:27:46.984Z"
   },
   {
    "duration": 33,
    "start_time": "2022-06-08T05:27:47.005Z"
   },
   {
    "duration": 11,
    "start_time": "2022-06-08T05:27:47.042Z"
   },
   {
    "duration": 101,
    "start_time": "2022-06-08T05:27:47.055Z"
   },
   {
    "duration": 10,
    "start_time": "2022-06-08T05:27:47.158Z"
   },
   {
    "duration": 372,
    "start_time": "2022-06-08T05:27:47.169Z"
   },
   {
    "duration": 4,
    "start_time": "2022-06-08T05:27:47.543Z"
   },
   {
    "duration": 22,
    "start_time": "2022-06-08T05:27:47.548Z"
   },
   {
    "duration": 11,
    "start_time": "2022-06-08T05:27:47.571Z"
   },
   {
    "duration": 10,
    "start_time": "2022-06-08T05:27:47.583Z"
   },
   {
    "duration": 14,
    "start_time": "2022-06-08T05:27:47.594Z"
   },
   {
    "duration": 11,
    "start_time": "2022-06-08T05:27:47.609Z"
   },
   {
    "duration": 28,
    "start_time": "2022-06-08T05:27:47.621Z"
   },
   {
    "duration": 111,
    "start_time": "2022-06-08T05:27:47.650Z"
   },
   {
    "duration": 4,
    "start_time": "2022-06-08T05:27:47.762Z"
   },
   {
    "duration": 19,
    "start_time": "2022-06-08T05:27:47.767Z"
   },
   {
    "duration": 11,
    "start_time": "2022-06-08T05:27:47.790Z"
   },
   {
    "duration": 159,
    "start_time": "2022-06-08T05:27:47.802Z"
   },
   {
    "duration": 1490,
    "start_time": "2022-06-08T05:27:47.963Z"
   },
   {
    "duration": 5,
    "start_time": "2022-06-08T05:27:49.455Z"
   },
   {
    "duration": 8,
    "start_time": "2022-06-08T05:27:49.462Z"
   },
   {
    "duration": 5,
    "start_time": "2022-06-08T05:27:49.472Z"
   },
   {
    "duration": 5,
    "start_time": "2022-06-08T05:27:49.479Z"
   },
   {
    "duration": 5,
    "start_time": "2022-06-08T05:27:49.485Z"
   },
   {
    "duration": 174,
    "start_time": "2022-06-08T05:27:49.492Z"
   },
   {
    "duration": 105,
    "start_time": "2022-06-08T05:27:49.668Z"
   },
   {
    "duration": 749,
    "start_time": "2022-06-08T05:27:49.774Z"
   },
   {
    "duration": 6,
    "start_time": "2022-06-08T05:27:50.527Z"
   },
   {
    "duration": 27,
    "start_time": "2022-06-08T05:27:50.535Z"
   },
   {
    "duration": 89,
    "start_time": "2022-06-08T05:27:50.564Z"
   },
   {
    "duration": 4,
    "start_time": "2022-06-08T05:27:50.654Z"
   },
   {
    "duration": 492,
    "start_time": "2022-06-08T05:27:50.659Z"
   },
   {
    "duration": 3,
    "start_time": "2022-06-08T05:27:51.153Z"
   },
   {
    "duration": 508,
    "start_time": "2022-06-08T05:27:51.157Z"
   },
   {
    "duration": 4,
    "start_time": "2022-06-08T05:27:51.666Z"
   },
   {
    "duration": 504,
    "start_time": "2022-06-08T05:27:51.671Z"
   },
   {
    "duration": 406,
    "start_time": "2022-06-08T05:27:52.177Z"
   },
   {
    "duration": 318,
    "start_time": "2022-06-08T05:27:52.584Z"
   },
   {
    "duration": 3,
    "start_time": "2022-06-08T05:27:52.904Z"
   },
   {
    "duration": 27,
    "start_time": "2022-06-08T05:27:52.909Z"
   },
   {
    "duration": 35,
    "start_time": "2022-06-08T05:27:52.940Z"
   },
   {
    "duration": 383,
    "start_time": "2022-06-08T05:27:52.977Z"
   },
   {
    "duration": 7,
    "start_time": "2022-06-08T05:27:53.363Z"
   },
   {
    "duration": 10,
    "start_time": "2022-06-08T05:27:53.372Z"
   },
   {
    "duration": 21,
    "start_time": "2022-06-08T05:27:53.384Z"
   },
   {
    "duration": 28,
    "start_time": "2022-06-08T05:27:53.406Z"
   },
   {
    "duration": 16,
    "start_time": "2022-06-08T05:27:53.439Z"
   },
   {
    "duration": 13,
    "start_time": "2022-06-08T05:27:53.457Z"
   },
   {
    "duration": 21,
    "start_time": "2022-06-08T05:27:53.472Z"
   },
   {
    "duration": 17,
    "start_time": "2022-06-08T05:27:53.495Z"
   },
   {
    "duration": 11,
    "start_time": "2022-06-08T05:27:53.513Z"
   },
   {
    "duration": 23,
    "start_time": "2022-06-08T05:27:53.526Z"
   },
   {
    "duration": 15,
    "start_time": "2022-06-08T05:27:53.551Z"
   },
   {
    "duration": 21,
    "start_time": "2022-06-08T05:27:53.568Z"
   },
   {
    "duration": 11,
    "start_time": "2022-06-08T05:27:53.591Z"
   },
   {
    "duration": 16,
    "start_time": "2022-06-08T05:27:53.603Z"
   },
   {
    "duration": 48,
    "start_time": "2022-06-08T05:27:53.620Z"
   },
   {
    "duration": 389,
    "start_time": "2022-06-08T05:27:53.670Z"
   },
   {
    "duration": 5,
    "start_time": "2022-06-08T05:27:54.060Z"
   },
   {
    "duration": 24,
    "start_time": "2022-06-08T05:27:54.066Z"
   },
   {
    "duration": 23,
    "start_time": "2022-06-08T05:27:54.092Z"
   },
   {
    "duration": 54,
    "start_time": "2022-06-08T05:27:54.117Z"
   },
   {
    "duration": 1197,
    "start_time": "2022-06-08T05:30:59.472Z"
   },
   {
    "duration": 395,
    "start_time": "2022-06-08T05:31:00.672Z"
   },
   {
    "duration": 21,
    "start_time": "2022-06-08T05:31:01.070Z"
   },
   {
    "duration": 104,
    "start_time": "2022-06-08T05:31:01.093Z"
   },
   {
    "duration": 12,
    "start_time": "2022-06-08T05:31:01.199Z"
   },
   {
    "duration": 447,
    "start_time": "2022-06-08T05:31:01.213Z"
   },
   {
    "duration": 15,
    "start_time": "2022-06-08T05:31:01.662Z"
   },
   {
    "duration": 34,
    "start_time": "2022-06-08T05:31:01.679Z"
   },
   {
    "duration": 52,
    "start_time": "2022-06-08T05:31:01.715Z"
   },
   {
    "duration": 28,
    "start_time": "2022-06-08T05:31:01.771Z"
   },
   {
    "duration": 8,
    "start_time": "2022-06-08T05:31:01.801Z"
   },
   {
    "duration": 14,
    "start_time": "2022-06-08T05:31:01.811Z"
   },
   {
    "duration": 33,
    "start_time": "2022-06-08T05:31:01.831Z"
   },
   {
    "duration": 43,
    "start_time": "2022-06-08T05:31:01.866Z"
   },
   {
    "duration": 99,
    "start_time": "2022-06-08T05:31:01.911Z"
   },
   {
    "duration": 40,
    "start_time": "2022-06-08T05:31:02.013Z"
   },
   {
    "duration": 10,
    "start_time": "2022-06-08T05:31:02.055Z"
   },
   {
    "duration": 12,
    "start_time": "2022-06-08T05:31:02.068Z"
   },
   {
    "duration": 138,
    "start_time": "2022-06-08T05:31:02.082Z"
   },
   {
    "duration": 36,
    "start_time": "2022-06-08T05:31:02.222Z"
   },
   {
    "duration": 20,
    "start_time": "2022-06-08T05:31:02.259Z"
   },
   {
    "duration": 5,
    "start_time": "2022-06-08T05:31:02.281Z"
   },
   {
    "duration": 47,
    "start_time": "2022-06-08T05:31:02.288Z"
   },
   {
    "duration": 55,
    "start_time": "2022-06-08T05:31:02.336Z"
   },
   {
    "duration": 101,
    "start_time": "2022-06-08T05:31:02.393Z"
   },
   {
    "duration": 19,
    "start_time": "2022-06-08T05:31:02.495Z"
   },
   {
    "duration": 21,
    "start_time": "2022-06-08T05:31:02.515Z"
   },
   {
    "duration": 12,
    "start_time": "2022-06-08T05:31:02.543Z"
   },
   {
    "duration": 109,
    "start_time": "2022-06-08T05:31:02.556Z"
   },
   {
    "duration": 10,
    "start_time": "2022-06-08T05:31:02.667Z"
   },
   {
    "duration": 407,
    "start_time": "2022-06-08T05:31:02.679Z"
   },
   {
    "duration": 6,
    "start_time": "2022-06-08T05:31:03.089Z"
   },
   {
    "duration": 17,
    "start_time": "2022-06-08T05:31:03.097Z"
   },
   {
    "duration": 15,
    "start_time": "2022-06-08T05:31:03.116Z"
   },
   {
    "duration": 25,
    "start_time": "2022-06-08T05:31:03.138Z"
   },
   {
    "duration": 10,
    "start_time": "2022-06-08T05:31:03.164Z"
   },
   {
    "duration": 12,
    "start_time": "2022-06-08T05:31:03.175Z"
   },
   {
    "duration": 22,
    "start_time": "2022-06-08T05:31:03.188Z"
   },
   {
    "duration": 136,
    "start_time": "2022-06-08T05:31:03.211Z"
   },
   {
    "duration": 6,
    "start_time": "2022-06-08T05:31:03.349Z"
   },
   {
    "duration": 8,
    "start_time": "2022-06-08T05:31:03.356Z"
   },
   {
    "duration": 17,
    "start_time": "2022-06-08T05:31:03.365Z"
   },
   {
    "duration": 178,
    "start_time": "2022-06-08T05:31:03.385Z"
   },
   {
    "duration": 1392,
    "start_time": "2022-06-08T05:31:03.565Z"
   },
   {
    "duration": 6,
    "start_time": "2022-06-08T05:31:04.959Z"
   },
   {
    "duration": 8,
    "start_time": "2022-06-08T05:31:04.967Z"
   },
   {
    "duration": 5,
    "start_time": "2022-06-08T05:31:04.978Z"
   },
   {
    "duration": 14,
    "start_time": "2022-06-08T05:31:04.985Z"
   },
   {
    "duration": 27,
    "start_time": "2022-06-08T05:31:05.001Z"
   },
   {
    "duration": 168,
    "start_time": "2022-06-08T05:31:05.029Z"
   },
   {
    "duration": 119,
    "start_time": "2022-06-08T05:31:05.198Z"
   },
   {
    "duration": 741,
    "start_time": "2022-06-08T05:31:05.319Z"
   },
   {
    "duration": 4,
    "start_time": "2022-06-08T05:31:06.062Z"
   },
   {
    "duration": 11,
    "start_time": "2022-06-08T05:31:06.068Z"
   },
   {
    "duration": 107,
    "start_time": "2022-06-08T05:31:06.080Z"
   },
   {
    "duration": 4,
    "start_time": "2022-06-08T05:31:06.189Z"
   },
   {
    "duration": 604,
    "start_time": "2022-06-08T05:31:06.195Z"
   },
   {
    "duration": 4,
    "start_time": "2022-06-08T05:31:06.801Z"
   },
   {
    "duration": 559,
    "start_time": "2022-06-08T05:31:06.807Z"
   },
   {
    "duration": 4,
    "start_time": "2022-06-08T05:31:07.368Z"
   },
   {
    "duration": 522,
    "start_time": "2022-06-08T05:31:07.373Z"
   },
   {
    "duration": 459,
    "start_time": "2022-06-08T05:31:07.897Z"
   },
   {
    "duration": 353,
    "start_time": "2022-06-08T05:31:08.358Z"
   },
   {
    "duration": 4,
    "start_time": "2022-06-08T05:31:08.713Z"
   },
   {
    "duration": 11,
    "start_time": "2022-06-08T05:31:08.729Z"
   },
   {
    "duration": 47,
    "start_time": "2022-06-08T05:31:08.743Z"
   },
   {
    "duration": 388,
    "start_time": "2022-06-08T05:31:08.792Z"
   },
   {
    "duration": 3,
    "start_time": "2022-06-08T05:31:09.181Z"
   },
   {
    "duration": 29,
    "start_time": "2022-06-08T05:31:09.187Z"
   },
   {
    "duration": 1392,
    "start_time": "2022-06-08T16:21:51.107Z"
   },
   {
    "duration": 1153,
    "start_time": "2022-06-08T16:21:52.501Z"
   },
   {
    "duration": 14,
    "start_time": "2022-06-08T16:21:53.655Z"
   },
   {
    "duration": 175,
    "start_time": "2022-06-08T16:21:53.671Z"
   },
   {
    "duration": 11,
    "start_time": "2022-06-08T16:21:53.848Z"
   },
   {
    "duration": 569,
    "start_time": "2022-06-08T16:21:53.861Z"
   },
   {
    "duration": 13,
    "start_time": "2022-06-08T16:21:54.431Z"
   },
   {
    "duration": 23,
    "start_time": "2022-06-08T16:21:54.445Z"
   },
   {
    "duration": 7,
    "start_time": "2022-06-08T16:21:54.469Z"
   },
   {
    "duration": 48,
    "start_time": "2022-06-08T16:21:54.480Z"
   },
   {
    "duration": 6,
    "start_time": "2022-06-08T16:21:54.529Z"
   },
   {
    "duration": 9,
    "start_time": "2022-06-08T16:21:54.536Z"
   },
   {
    "duration": 18,
    "start_time": "2022-06-08T16:21:54.546Z"
   },
   {
    "duration": 47,
    "start_time": "2022-06-08T16:21:54.566Z"
   },
   {
    "duration": 77,
    "start_time": "2022-06-08T16:21:54.615Z"
   },
   {
    "duration": 15,
    "start_time": "2022-06-08T16:21:54.694Z"
   },
   {
    "duration": 13,
    "start_time": "2022-06-08T16:21:54.710Z"
   },
   {
    "duration": 16,
    "start_time": "2022-06-08T16:21:54.725Z"
   },
   {
    "duration": 112,
    "start_time": "2022-06-08T16:21:54.743Z"
   },
   {
    "duration": 38,
    "start_time": "2022-06-08T16:21:54.857Z"
   },
   {
    "duration": 15,
    "start_time": "2022-06-08T16:21:54.896Z"
   },
   {
    "duration": 4,
    "start_time": "2022-06-08T16:21:54.912Z"
   },
   {
    "duration": 10,
    "start_time": "2022-06-08T16:21:54.917Z"
   },
   {
    "duration": 19,
    "start_time": "2022-06-08T16:21:54.928Z"
   },
   {
    "duration": 115,
    "start_time": "2022-06-08T16:21:54.948Z"
   },
   {
    "duration": 26,
    "start_time": "2022-06-08T16:21:55.065Z"
   },
   {
    "duration": 14,
    "start_time": "2022-06-08T16:21:55.092Z"
   },
   {
    "duration": 7,
    "start_time": "2022-06-08T16:21:55.110Z"
   },
   {
    "duration": 108,
    "start_time": "2022-06-08T16:21:55.119Z"
   },
   {
    "duration": 9,
    "start_time": "2022-06-08T16:21:55.229Z"
   },
   {
    "duration": 380,
    "start_time": "2022-06-08T16:21:55.240Z"
   },
   {
    "duration": 4,
    "start_time": "2022-06-08T16:21:55.622Z"
   },
   {
    "duration": 14,
    "start_time": "2022-06-08T16:21:55.627Z"
   },
   {
    "duration": 11,
    "start_time": "2022-06-08T16:21:55.643Z"
   },
   {
    "duration": 6,
    "start_time": "2022-06-08T16:21:55.656Z"
   },
   {
    "duration": 6,
    "start_time": "2022-06-08T16:21:55.664Z"
   },
   {
    "duration": 28,
    "start_time": "2022-06-08T16:21:55.671Z"
   },
   {
    "duration": 1408,
    "start_time": "2022-06-09T14:06:50.803Z"
   },
   {
    "duration": 1243,
    "start_time": "2022-06-09T14:06:52.213Z"
   },
   {
    "duration": 16,
    "start_time": "2022-06-09T14:06:53.458Z"
   },
   {
    "duration": 166,
    "start_time": "2022-06-09T14:06:53.475Z"
   },
   {
    "duration": 12,
    "start_time": "2022-06-09T14:06:53.642Z"
   },
   {
    "duration": 656,
    "start_time": "2022-06-09T14:06:53.656Z"
   },
   {
    "duration": 20,
    "start_time": "2022-06-09T14:06:54.314Z"
   },
   {
    "duration": 8,
    "start_time": "2022-06-09T14:06:54.336Z"
   },
   {
    "duration": 7,
    "start_time": "2022-06-09T14:06:54.346Z"
   },
   {
    "duration": 17,
    "start_time": "2022-06-09T14:06:54.356Z"
   },
   {
    "duration": 7,
    "start_time": "2022-06-09T14:06:54.375Z"
   },
   {
    "duration": 22,
    "start_time": "2022-06-09T14:06:54.383Z"
   },
   {
    "duration": 21,
    "start_time": "2022-06-09T14:06:54.408Z"
   },
   {
    "duration": 28,
    "start_time": "2022-06-09T14:06:54.430Z"
   },
   {
    "duration": 80,
    "start_time": "2022-06-09T14:06:54.460Z"
   },
   {
    "duration": 19,
    "start_time": "2022-06-09T14:06:54.542Z"
   },
   {
    "duration": 9,
    "start_time": "2022-06-09T14:06:54.563Z"
   },
   {
    "duration": 9,
    "start_time": "2022-06-09T14:06:54.573Z"
   },
   {
    "duration": 133,
    "start_time": "2022-06-09T14:06:54.584Z"
   },
   {
    "duration": 23,
    "start_time": "2022-06-09T14:06:54.719Z"
   },
   {
    "duration": 21,
    "start_time": "2022-06-09T14:06:54.744Z"
   },
   {
    "duration": 8,
    "start_time": "2022-06-09T14:06:54.794Z"
   },
   {
    "duration": 49,
    "start_time": "2022-06-09T14:06:54.803Z"
   },
   {
    "duration": 77,
    "start_time": "2022-06-09T14:06:54.853Z"
   },
   {
    "duration": 152,
    "start_time": "2022-06-09T14:06:54.932Z"
   },
   {
    "duration": 35,
    "start_time": "2022-06-09T14:06:55.087Z"
   },
   {
    "duration": 14,
    "start_time": "2022-06-09T14:06:55.124Z"
   },
   {
    "duration": 10,
    "start_time": "2022-06-09T14:06:55.141Z"
   },
   {
    "duration": 110,
    "start_time": "2022-06-09T14:06:55.153Z"
   },
   {
    "duration": 11,
    "start_time": "2022-06-09T14:06:55.265Z"
   },
   {
    "duration": 420,
    "start_time": "2022-06-09T14:06:55.278Z"
   },
   {
    "duration": 8,
    "start_time": "2022-06-09T14:07:06.360Z"
   },
   {
    "duration": 5,
    "start_time": "2022-06-09T14:07:11.802Z"
   },
   {
    "duration": 903,
    "start_time": "2022-06-09T14:07:15.892Z"
   },
   {
    "duration": 13,
    "start_time": "2022-06-09T14:07:47.475Z"
   },
   {
    "duration": 3,
    "start_time": "2022-06-09T14:08:19.834Z"
   },
   {
    "duration": 303,
    "start_time": "2022-06-09T14:08:19.859Z"
   },
   {
    "duration": 14,
    "start_time": "2022-06-09T14:08:20.164Z"
   },
   {
    "duration": 97,
    "start_time": "2022-06-09T14:08:20.179Z"
   },
   {
    "duration": 11,
    "start_time": "2022-06-09T14:08:20.278Z"
   },
   {
    "duration": 322,
    "start_time": "2022-06-09T14:08:20.291Z"
   },
   {
    "duration": 15,
    "start_time": "2022-06-09T14:08:20.615Z"
   },
   {
    "duration": 5,
    "start_time": "2022-06-09T14:08:20.632Z"
   },
   {
    "duration": 5,
    "start_time": "2022-06-09T14:08:20.639Z"
   },
   {
    "duration": 21,
    "start_time": "2022-06-09T14:08:20.646Z"
   },
   {
    "duration": 8,
    "start_time": "2022-06-09T14:08:20.695Z"
   },
   {
    "duration": 20,
    "start_time": "2022-06-09T14:08:20.705Z"
   },
   {
    "duration": 19,
    "start_time": "2022-06-09T14:08:20.726Z"
   },
   {
    "duration": 22,
    "start_time": "2022-06-09T14:08:20.747Z"
   },
   {
    "duration": 84,
    "start_time": "2022-06-09T14:08:20.770Z"
   },
   {
    "duration": 17,
    "start_time": "2022-06-09T14:08:20.856Z"
   },
   {
    "duration": 24,
    "start_time": "2022-06-09T14:08:20.875Z"
   },
   {
    "duration": 12,
    "start_time": "2022-06-09T14:08:20.901Z"
   },
   {
    "duration": 116,
    "start_time": "2022-06-09T14:08:20.914Z"
   },
   {
    "duration": 23,
    "start_time": "2022-06-09T14:08:21.032Z"
   },
   {
    "duration": 23,
    "start_time": "2022-06-09T14:08:21.057Z"
   },
   {
    "duration": 13,
    "start_time": "2022-06-09T14:08:21.082Z"
   },
   {
    "duration": 10,
    "start_time": "2022-06-09T14:08:21.100Z"
   },
   {
    "duration": 24,
    "start_time": "2022-06-09T14:08:21.111Z"
   },
   {
    "duration": 129,
    "start_time": "2022-06-09T14:08:21.137Z"
   },
   {
    "duration": 38,
    "start_time": "2022-06-09T14:08:21.267Z"
   },
   {
    "duration": 11,
    "start_time": "2022-06-09T14:08:21.308Z"
   },
   {
    "duration": 10,
    "start_time": "2022-06-09T14:08:21.321Z"
   },
   {
    "duration": 91,
    "start_time": "2022-06-09T14:08:21.334Z"
   },
   {
    "duration": 10,
    "start_time": "2022-06-09T14:08:21.426Z"
   },
   {
    "duration": 389,
    "start_time": "2022-06-09T14:08:21.438Z"
   },
   {
    "duration": 101,
    "start_time": "2022-06-09T14:08:52.508Z"
   },
   {
    "duration": 9,
    "start_time": "2022-06-09T14:08:59.212Z"
   },
   {
    "duration": 6,
    "start_time": "2022-06-09T14:09:08.522Z"
   },
   {
    "duration": 30,
    "start_time": "2022-06-09T14:23:55.670Z"
   },
   {
    "duration": 4,
    "start_time": "2022-06-09T14:27:40.959Z"
   },
   {
    "duration": 286,
    "start_time": "2022-06-09T14:27:40.965Z"
   },
   {
    "duration": 14,
    "start_time": "2022-06-09T14:27:41.252Z"
   },
   {
    "duration": 94,
    "start_time": "2022-06-09T14:27:41.268Z"
   },
   {
    "duration": 11,
    "start_time": "2022-06-09T14:27:41.364Z"
   },
   {
    "duration": 356,
    "start_time": "2022-06-09T14:27:41.377Z"
   },
   {
    "duration": 14,
    "start_time": "2022-06-09T14:27:41.735Z"
   },
   {
    "duration": 6,
    "start_time": "2022-06-09T14:27:41.751Z"
   },
   {
    "duration": 4,
    "start_time": "2022-06-09T14:27:41.759Z"
   },
   {
    "duration": 41,
    "start_time": "2022-06-09T14:27:41.765Z"
   },
   {
    "duration": 8,
    "start_time": "2022-06-09T14:27:41.808Z"
   },
   {
    "duration": 9,
    "start_time": "2022-06-09T14:27:41.818Z"
   },
   {
    "duration": 14,
    "start_time": "2022-06-09T14:27:41.828Z"
   },
   {
    "duration": 23,
    "start_time": "2022-06-09T14:27:41.844Z"
   },
   {
    "duration": 81,
    "start_time": "2022-06-09T14:27:41.869Z"
   },
   {
    "duration": 17,
    "start_time": "2022-06-09T14:27:41.951Z"
   },
   {
    "duration": 9,
    "start_time": "2022-06-09T14:27:41.970Z"
   },
   {
    "duration": 13,
    "start_time": "2022-06-09T14:27:41.998Z"
   },
   {
    "duration": 121,
    "start_time": "2022-06-09T14:27:42.013Z"
   },
   {
    "duration": 22,
    "start_time": "2022-06-09T14:27:42.135Z"
   },
   {
    "duration": 13,
    "start_time": "2022-06-09T14:27:42.158Z"
   },
   {
    "duration": 25,
    "start_time": "2022-06-09T14:27:42.173Z"
   },
   {
    "duration": 18,
    "start_time": "2022-06-09T14:27:42.199Z"
   },
   {
    "duration": 21,
    "start_time": "2022-06-09T14:27:42.218Z"
   },
   {
    "duration": 97,
    "start_time": "2022-06-09T14:27:42.241Z"
   },
   {
    "duration": 19,
    "start_time": "2022-06-09T14:27:42.339Z"
   },
   {
    "duration": 9,
    "start_time": "2022-06-09T14:27:42.359Z"
   },
   {
    "duration": 28,
    "start_time": "2022-06-09T14:27:42.369Z"
   },
   {
    "duration": 84,
    "start_time": "2022-06-09T14:27:42.400Z"
   },
   {
    "duration": 27,
    "start_time": "2022-06-09T14:27:42.486Z"
   },
   {
    "duration": 323,
    "start_time": "2022-06-09T14:27:42.514Z"
   },
   {
    "duration": 22,
    "start_time": "2022-06-09T14:27:42.839Z"
   },
   {
    "duration": 6,
    "start_time": "2022-06-09T14:28:16.680Z"
   },
   {
    "duration": 7,
    "start_time": "2022-06-09T14:30:10.165Z"
   },
   {
    "duration": 4,
    "start_time": "2022-06-09T14:30:19.124Z"
   },
   {
    "duration": 15,
    "start_time": "2022-06-09T14:31:16.605Z"
   },
   {
    "duration": 5,
    "start_time": "2022-06-09T14:31:58.082Z"
   },
   {
    "duration": 17,
    "start_time": "2022-06-09T14:35:36.530Z"
   },
   {
    "duration": 23,
    "start_time": "2022-06-09T14:36:04.961Z"
   },
   {
    "duration": 24,
    "start_time": "2022-06-09T14:36:33.220Z"
   },
   {
    "duration": 3,
    "start_time": "2022-06-09T14:42:40.425Z"
   },
   {
    "duration": 3,
    "start_time": "2022-06-09T14:43:00.948Z"
   },
   {
    "duration": 20,
    "start_time": "2022-06-09T14:43:45.071Z"
   },
   {
    "duration": 4,
    "start_time": "2022-06-09T14:44:27.756Z"
   },
   {
    "duration": 271,
    "start_time": "2022-06-09T14:44:27.772Z"
   },
   {
    "duration": 14,
    "start_time": "2022-06-09T14:44:28.045Z"
   },
   {
    "duration": 96,
    "start_time": "2022-06-09T14:44:28.061Z"
   },
   {
    "duration": 11,
    "start_time": "2022-06-09T14:44:28.160Z"
   },
   {
    "duration": 338,
    "start_time": "2022-06-09T14:44:28.173Z"
   },
   {
    "duration": 15,
    "start_time": "2022-06-09T14:44:28.512Z"
   },
   {
    "duration": 9,
    "start_time": "2022-06-09T14:44:28.529Z"
   },
   {
    "duration": 11,
    "start_time": "2022-06-09T14:44:28.540Z"
   },
   {
    "duration": 14,
    "start_time": "2022-06-09T14:44:28.553Z"
   },
   {
    "duration": 6,
    "start_time": "2022-06-09T14:44:28.570Z"
   },
   {
    "duration": 33,
    "start_time": "2022-06-09T14:44:28.577Z"
   },
   {
    "duration": 30,
    "start_time": "2022-06-09T14:44:28.612Z"
   },
   {
    "duration": 31,
    "start_time": "2022-06-09T14:44:28.644Z"
   },
   {
    "duration": 73,
    "start_time": "2022-06-09T14:44:28.676Z"
   },
   {
    "duration": 17,
    "start_time": "2022-06-09T14:44:28.751Z"
   },
   {
    "duration": 9,
    "start_time": "2022-06-09T14:44:28.769Z"
   },
   {
    "duration": 39,
    "start_time": "2022-06-09T14:44:28.779Z"
   },
   {
    "duration": 110,
    "start_time": "2022-06-09T14:44:28.820Z"
   },
   {
    "duration": 21,
    "start_time": "2022-06-09T14:44:28.932Z"
   },
   {
    "duration": 13,
    "start_time": "2022-06-09T14:44:28.955Z"
   },
   {
    "duration": 5,
    "start_time": "2022-06-09T14:44:28.969Z"
   },
   {
    "duration": 35,
    "start_time": "2022-06-09T14:44:28.975Z"
   },
   {
    "duration": 23,
    "start_time": "2022-06-09T14:44:29.012Z"
   },
   {
    "duration": 112,
    "start_time": "2022-06-09T14:44:29.037Z"
   },
   {
    "duration": 21,
    "start_time": "2022-06-09T14:44:29.151Z"
   },
   {
    "duration": 22,
    "start_time": "2022-06-09T14:44:29.173Z"
   },
   {
    "duration": 14,
    "start_time": "2022-06-09T14:44:29.196Z"
   },
   {
    "duration": 91,
    "start_time": "2022-06-09T14:44:29.213Z"
   },
   {
    "duration": 12,
    "start_time": "2022-06-09T14:44:29.306Z"
   },
   {
    "duration": 411,
    "start_time": "2022-06-09T14:44:29.320Z"
   },
   {
    "duration": 23,
    "start_time": "2022-06-09T14:44:29.732Z"
   },
   {
    "duration": 2,
    "start_time": "2022-06-09T14:44:29.757Z"
   },
   {
    "duration": 50,
    "start_time": "2022-06-09T14:44:29.761Z"
   },
   {
    "duration": 3,
    "start_time": "2022-06-09T14:44:41.354Z"
   },
   {
    "duration": 31,
    "start_time": "2022-06-09T14:44:54.111Z"
   },
   {
    "duration": 8,
    "start_time": "2022-06-09T14:45:25.316Z"
   },
   {
    "duration": 5,
    "start_time": "2022-06-09T14:45:25.952Z"
   },
   {
    "duration": 6,
    "start_time": "2022-06-09T14:47:18.052Z"
   },
   {
    "duration": 5,
    "start_time": "2022-06-09T14:47:34.747Z"
   },
   {
    "duration": 7,
    "start_time": "2022-06-09T14:47:52.611Z"
   },
   {
    "duration": 6,
    "start_time": "2022-06-09T14:48:07.709Z"
   },
   {
    "duration": 6,
    "start_time": "2022-06-09T14:48:23.347Z"
   },
   {
    "duration": 6,
    "start_time": "2022-06-09T14:48:37.454Z"
   },
   {
    "duration": 6,
    "start_time": "2022-06-09T14:48:53.408Z"
   },
   {
    "duration": 6,
    "start_time": "2022-06-09T14:49:08.354Z"
   },
   {
    "duration": 7,
    "start_time": "2022-06-09T14:51:31.714Z"
   },
   {
    "duration": 7,
    "start_time": "2022-06-09T14:51:32.227Z"
   },
   {
    "duration": 7,
    "start_time": "2022-06-09T14:51:32.722Z"
   },
   {
    "duration": 7,
    "start_time": "2022-06-09T14:51:33.212Z"
   },
   {
    "duration": 5,
    "start_time": "2022-06-09T14:51:33.676Z"
   },
   {
    "duration": 6,
    "start_time": "2022-06-09T14:51:34.262Z"
   },
   {
    "duration": 6,
    "start_time": "2022-06-09T14:51:34.770Z"
   },
   {
    "duration": 6,
    "start_time": "2022-06-09T14:51:35.342Z"
   },
   {
    "duration": 7,
    "start_time": "2022-06-09T14:51:37.709Z"
   },
   {
    "duration": 6,
    "start_time": "2022-06-09T14:51:38.126Z"
   },
   {
    "duration": 23,
    "start_time": "2022-06-09T14:53:51.208Z"
   },
   {
    "duration": 98,
    "start_time": "2022-06-09T14:54:33.201Z"
   },
   {
    "duration": 785,
    "start_time": "2022-06-09T14:55:20.425Z"
   },
   {
    "duration": 472,
    "start_time": "2022-06-09T14:57:12.981Z"
   },
   {
    "duration": 5,
    "start_time": "2022-06-09T14:57:50.957Z"
   },
   {
    "duration": 118,
    "start_time": "2022-06-09T14:58:55.695Z"
   },
   {
    "duration": 91,
    "start_time": "2022-06-09T15:00:50.912Z"
   },
   {
    "duration": 630,
    "start_time": "2022-06-09T15:01:28.352Z"
   },
   {
    "duration": 4,
    "start_time": "2022-06-09T15:03:17.160Z"
   },
   {
    "duration": 605,
    "start_time": "2022-06-09T15:03:19.498Z"
   },
   {
    "duration": 4,
    "start_time": "2022-06-09T15:03:24.622Z"
   },
   {
    "duration": 568,
    "start_time": "2022-06-09T15:03:27.472Z"
   },
   {
    "duration": 4,
    "start_time": "2022-06-09T15:03:31.599Z"
   },
   {
    "duration": 526,
    "start_time": "2022-06-09T15:03:35.036Z"
   },
   {
    "duration": 300,
    "start_time": "2022-06-09T15:03:43.393Z"
   },
   {
    "duration": 351,
    "start_time": "2022-06-09T15:03:47.521Z"
   },
   {
    "duration": 4,
    "start_time": "2022-06-09T15:04:14.144Z"
   },
   {
    "duration": 10,
    "start_time": "2022-06-09T15:04:17.129Z"
   },
   {
    "duration": 47,
    "start_time": "2022-06-09T15:04:22.749Z"
   },
   {
    "duration": 485,
    "start_time": "2022-06-09T15:04:55.905Z"
   },
   {
    "duration": 17,
    "start_time": "2022-06-09T15:34:57.672Z"
   },
   {
    "duration": 9,
    "start_time": "2022-06-09T15:37:25.194Z"
   },
   {
    "duration": 331,
    "start_time": "2022-06-09T15:37:25.211Z"
   },
   {
    "duration": 23,
    "start_time": "2022-06-09T15:37:25.545Z"
   },
   {
    "duration": 130,
    "start_time": "2022-06-09T15:37:25.570Z"
   },
   {
    "duration": 13,
    "start_time": "2022-06-09T15:37:25.705Z"
   },
   {
    "duration": 383,
    "start_time": "2022-06-09T15:37:25.720Z"
   },
   {
    "duration": 15,
    "start_time": "2022-06-09T15:37:26.109Z"
   },
   {
    "duration": 5,
    "start_time": "2022-06-09T15:37:26.126Z"
   },
   {
    "duration": 6,
    "start_time": "2022-06-09T15:37:26.132Z"
   },
   {
    "duration": 14,
    "start_time": "2022-06-09T15:37:26.140Z"
   },
   {
    "duration": 7,
    "start_time": "2022-06-09T15:37:26.156Z"
   },
   {
    "duration": 9,
    "start_time": "2022-06-09T15:37:26.165Z"
   },
   {
    "duration": 23,
    "start_time": "2022-06-09T15:37:26.200Z"
   },
   {
    "duration": 25,
    "start_time": "2022-06-09T15:37:26.224Z"
   },
   {
    "duration": 83,
    "start_time": "2022-06-09T15:37:26.250Z"
   },
   {
    "duration": 18,
    "start_time": "2022-06-09T15:37:26.334Z"
   },
   {
    "duration": 8,
    "start_time": "2022-06-09T15:37:26.354Z"
   },
   {
    "duration": 9,
    "start_time": "2022-06-09T15:37:26.363Z"
   },
   {
    "duration": 142,
    "start_time": "2022-06-09T15:37:26.374Z"
   },
   {
    "duration": 22,
    "start_time": "2022-06-09T15:37:26.518Z"
   },
   {
    "duration": 14,
    "start_time": "2022-06-09T15:37:26.542Z"
   },
   {
    "duration": 5,
    "start_time": "2022-06-09T15:37:26.557Z"
   },
   {
    "duration": 37,
    "start_time": "2022-06-09T15:37:26.564Z"
   },
   {
    "duration": 32,
    "start_time": "2022-06-09T15:37:26.604Z"
   },
   {
    "duration": 102,
    "start_time": "2022-06-09T15:37:26.637Z"
   },
   {
    "duration": 19,
    "start_time": "2022-06-09T15:37:26.741Z"
   },
   {
    "duration": 11,
    "start_time": "2022-06-09T15:37:26.762Z"
   },
   {
    "duration": 34,
    "start_time": "2022-06-09T15:37:26.774Z"
   },
   {
    "duration": 99,
    "start_time": "2022-06-09T15:37:26.811Z"
   },
   {
    "duration": 14,
    "start_time": "2022-06-09T15:37:26.912Z"
   },
   {
    "duration": 748,
    "start_time": "2022-06-09T15:37:26.929Z"
   },
   {
    "duration": 38,
    "start_time": "2022-06-09T15:37:34.611Z"
   },
   {
    "duration": 4228,
    "start_time": "2022-06-09T15:37:55.641Z"
   },
   {
    "duration": 4093,
    "start_time": "2022-06-09T15:38:11.733Z"
   },
   {
    "duration": 11,
    "start_time": "2022-06-09T15:39:40.823Z"
   },
   {
    "duration": 3,
    "start_time": "2022-06-09T15:40:48.555Z"
   },
   {
    "duration": 291,
    "start_time": "2022-06-09T15:40:48.592Z"
   },
   {
    "duration": 19,
    "start_time": "2022-06-09T15:40:48.885Z"
   },
   {
    "duration": 95,
    "start_time": "2022-06-09T15:40:48.905Z"
   },
   {
    "duration": 10,
    "start_time": "2022-06-09T15:40:49.002Z"
   },
   {
    "duration": 372,
    "start_time": "2022-06-09T15:40:49.014Z"
   },
   {
    "duration": 16,
    "start_time": "2022-06-09T15:40:49.394Z"
   },
   {
    "duration": 7,
    "start_time": "2022-06-09T15:40:49.411Z"
   },
   {
    "duration": 6,
    "start_time": "2022-06-09T15:40:49.419Z"
   },
   {
    "duration": 16,
    "start_time": "2022-06-09T15:40:49.427Z"
   },
   {
    "duration": 7,
    "start_time": "2022-06-09T15:40:49.445Z"
   },
   {
    "duration": 43,
    "start_time": "2022-06-09T15:40:49.453Z"
   },
   {
    "duration": 13,
    "start_time": "2022-06-09T15:40:49.498Z"
   },
   {
    "duration": 22,
    "start_time": "2022-06-09T15:40:49.512Z"
   },
   {
    "duration": 80,
    "start_time": "2022-06-09T15:40:49.536Z"
   },
   {
    "duration": 17,
    "start_time": "2022-06-09T15:40:49.618Z"
   },
   {
    "duration": 8,
    "start_time": "2022-06-09T15:40:49.636Z"
   },
   {
    "duration": 8,
    "start_time": "2022-06-09T15:40:49.645Z"
   },
   {
    "duration": 119,
    "start_time": "2022-06-09T15:40:49.655Z"
   },
   {
    "duration": 31,
    "start_time": "2022-06-09T15:40:49.776Z"
   },
   {
    "duration": 11,
    "start_time": "2022-06-09T15:40:49.809Z"
   },
   {
    "duration": 5,
    "start_time": "2022-06-09T15:40:49.822Z"
   },
   {
    "duration": 22,
    "start_time": "2022-06-09T15:40:49.828Z"
   },
   {
    "duration": 28,
    "start_time": "2022-06-09T15:40:49.852Z"
   },
   {
    "duration": 110,
    "start_time": "2022-06-09T15:40:49.882Z"
   },
   {
    "duration": 19,
    "start_time": "2022-06-09T15:40:49.994Z"
   },
   {
    "duration": 10,
    "start_time": "2022-06-09T15:40:50.014Z"
   },
   {
    "duration": 12,
    "start_time": "2022-06-09T15:40:50.026Z"
   },
   {
    "duration": 105,
    "start_time": "2022-06-09T15:40:50.039Z"
   },
   {
    "duration": 10,
    "start_time": "2022-06-09T15:40:50.146Z"
   },
   {
    "duration": 561,
    "start_time": "2022-06-09T15:40:50.157Z"
   },
   {
    "duration": 27,
    "start_time": "2022-06-09T15:40:50.720Z"
   },
   {
    "duration": 3,
    "start_time": "2022-06-09T15:40:50.748Z"
   },
   {
    "duration": 43,
    "start_time": "2022-06-09T15:40:50.752Z"
   },
   {
    "duration": 7,
    "start_time": "2022-06-09T15:40:50.797Z"
   },
   {
    "duration": 11,
    "start_time": "2022-06-09T15:40:50.806Z"
   },
   {
    "duration": 8,
    "start_time": "2022-06-09T15:40:50.819Z"
   },
   {
    "duration": 9,
    "start_time": "2022-06-09T15:40:50.828Z"
   },
   {
    "duration": 6,
    "start_time": "2022-06-09T15:40:50.839Z"
   },
   {
    "duration": 6,
    "start_time": "2022-06-09T15:40:50.847Z"
   },
   {
    "duration": 5,
    "start_time": "2022-06-09T15:40:50.855Z"
   },
   {
    "duration": 5,
    "start_time": "2022-06-09T15:40:50.865Z"
   },
   {
    "duration": 25,
    "start_time": "2022-06-09T15:40:50.871Z"
   },
   {
    "duration": 5,
    "start_time": "2022-06-09T15:40:50.898Z"
   },
   {
    "duration": 5,
    "start_time": "2022-06-09T15:40:50.905Z"
   },
   {
    "duration": 5,
    "start_time": "2022-06-09T15:40:50.912Z"
   },
   {
    "duration": 7,
    "start_time": "2022-06-09T15:40:50.919Z"
   },
   {
    "duration": 7,
    "start_time": "2022-06-09T15:40:50.928Z"
   },
   {
    "duration": 5,
    "start_time": "2022-06-09T15:40:50.937Z"
   },
   {
    "duration": 5,
    "start_time": "2022-06-09T15:40:50.944Z"
   },
   {
    "duration": 6,
    "start_time": "2022-06-09T15:40:50.951Z"
   },
   {
    "duration": 38,
    "start_time": "2022-06-09T15:40:50.958Z"
   },
   {
    "duration": 6,
    "start_time": "2022-06-09T15:40:50.997Z"
   },
   {
    "duration": 8,
    "start_time": "2022-06-09T15:40:51.004Z"
   },
   {
    "duration": 28,
    "start_time": "2022-06-09T15:40:51.014Z"
   },
   {
    "duration": 112,
    "start_time": "2022-06-09T15:40:51.044Z"
   },
   {
    "duration": 749,
    "start_time": "2022-06-09T15:40:51.158Z"
   },
   {
    "duration": 100,
    "start_time": "2022-06-09T15:40:51.909Z"
   },
   {
    "duration": 701,
    "start_time": "2022-06-09T15:40:52.011Z"
   },
   {
    "duration": 4,
    "start_time": "2022-06-09T15:40:52.713Z"
   },
   {
    "duration": 462,
    "start_time": "2022-06-09T15:40:52.719Z"
   },
   {
    "duration": 4,
    "start_time": "2022-06-09T15:40:53.182Z"
   },
   {
    "duration": 460,
    "start_time": "2022-06-09T15:40:53.187Z"
   },
   {
    "duration": 4,
    "start_time": "2022-06-09T15:40:53.648Z"
   },
   {
    "duration": 600,
    "start_time": "2022-06-09T15:40:53.653Z"
   },
   {
    "duration": 266,
    "start_time": "2022-06-09T15:40:54.255Z"
   },
   {
    "duration": 315,
    "start_time": "2022-06-09T15:40:54.522Z"
   },
   {
    "duration": 3,
    "start_time": "2022-06-09T15:40:54.839Z"
   },
   {
    "duration": 14,
    "start_time": "2022-06-09T15:40:54.844Z"
   },
   {
    "duration": 38,
    "start_time": "2022-06-09T15:40:54.860Z"
   },
   {
    "duration": 365,
    "start_time": "2022-06-09T15:40:54.900Z"
   },
   {
    "duration": 16,
    "start_time": "2022-06-09T15:40:55.267Z"
   },
   {
    "duration": 8,
    "start_time": "2022-06-09T15:41:25.118Z"
   },
   {
    "duration": 36,
    "start_time": "2022-06-09T15:41:27.687Z"
   },
   {
    "duration": 367,
    "start_time": "2022-06-09T15:41:34.941Z"
   },
   {
    "duration": 3997,
    "start_time": "2022-06-09T15:43:26.257Z"
   },
   {
    "duration": 15,
    "start_time": "2022-06-09T15:45:03.157Z"
   },
   {
    "duration": 3,
    "start_time": "2022-06-09T15:46:30.061Z"
   },
   {
    "duration": 16,
    "start_time": "2022-06-09T15:46:31.315Z"
   },
   {
    "duration": 2,
    "start_time": "2022-06-09T15:46:32.008Z"
   },
   {
    "duration": 7,
    "start_time": "2022-06-09T15:46:53.584Z"
   },
   {
    "duration": 222,
    "start_time": "2022-06-09T15:50:36.551Z"
   },
   {
    "duration": 7,
    "start_time": "2022-06-09T16:06:13.497Z"
   },
   {
    "duration": 7,
    "start_time": "2022-06-09T16:06:57.905Z"
   },
   {
    "duration": 3,
    "start_time": "2022-06-09T16:13:08.008Z"
   },
   {
    "duration": 3,
    "start_time": "2022-06-09T16:24:11.513Z"
   },
   {
    "duration": 3,
    "start_time": "2022-06-09T16:46:06.509Z"
   },
   {
    "duration": 3,
    "start_time": "2022-06-09T16:46:07.120Z"
   },
   {
    "duration": 4,
    "start_time": "2022-06-09T18:13:13.143Z"
   },
   {
    "duration": 299,
    "start_time": "2022-06-09T18:13:13.181Z"
   },
   {
    "duration": 24,
    "start_time": "2022-06-09T18:13:13.482Z"
   },
   {
    "duration": 115,
    "start_time": "2022-06-09T18:13:13.508Z"
   },
   {
    "duration": 13,
    "start_time": "2022-06-09T18:13:13.625Z"
   },
   {
    "duration": 418,
    "start_time": "2022-06-09T18:13:13.640Z"
   },
   {
    "duration": 17,
    "start_time": "2022-06-09T18:13:14.060Z"
   },
   {
    "duration": 15,
    "start_time": "2022-06-09T18:13:14.079Z"
   },
   {
    "duration": 8,
    "start_time": "2022-06-09T18:13:14.097Z"
   },
   {
    "duration": 17,
    "start_time": "2022-06-09T18:13:14.107Z"
   },
   {
    "duration": 8,
    "start_time": "2022-06-09T18:13:14.126Z"
   },
   {
    "duration": 11,
    "start_time": "2022-06-09T18:13:14.136Z"
   },
   {
    "duration": 17,
    "start_time": "2022-06-09T18:13:14.148Z"
   },
   {
    "duration": 38,
    "start_time": "2022-06-09T18:13:14.167Z"
   },
   {
    "duration": 79,
    "start_time": "2022-06-09T18:13:14.210Z"
   },
   {
    "duration": 27,
    "start_time": "2022-06-09T18:13:14.291Z"
   },
   {
    "duration": 9,
    "start_time": "2022-06-09T18:13:14.320Z"
   },
   {
    "duration": 10,
    "start_time": "2022-06-09T18:13:14.330Z"
   },
   {
    "duration": 134,
    "start_time": "2022-06-09T18:13:14.342Z"
   },
   {
    "duration": 35,
    "start_time": "2022-06-09T18:13:14.478Z"
   },
   {
    "duration": 31,
    "start_time": "2022-06-09T18:13:14.517Z"
   },
   {
    "duration": 4,
    "start_time": "2022-06-09T18:13:14.550Z"
   },
   {
    "duration": 13,
    "start_time": "2022-06-09T18:13:14.556Z"
   },
   {
    "duration": 34,
    "start_time": "2022-06-09T18:13:14.570Z"
   },
   {
    "duration": 121,
    "start_time": "2022-06-09T18:13:14.605Z"
   },
   {
    "duration": 31,
    "start_time": "2022-06-09T18:13:14.727Z"
   },
   {
    "duration": 14,
    "start_time": "2022-06-09T18:13:14.759Z"
   },
   {
    "duration": 35,
    "start_time": "2022-06-09T18:13:14.776Z"
   },
   {
    "duration": 97,
    "start_time": "2022-06-09T18:13:14.812Z"
   },
   {
    "duration": 11,
    "start_time": "2022-06-09T18:13:14.911Z"
   },
   {
    "duration": 612,
    "start_time": "2022-06-09T18:13:14.923Z"
   },
   {
    "duration": 72,
    "start_time": "2022-06-09T18:13:15.537Z"
   },
   {
    "duration": 3,
    "start_time": "2022-06-09T18:13:15.611Z"
   },
   {
    "duration": 22,
    "start_time": "2022-06-09T18:13:15.615Z"
   },
   {
    "duration": 9,
    "start_time": "2022-06-09T18:13:15.639Z"
   },
   {
    "duration": 11,
    "start_time": "2022-06-09T18:13:15.649Z"
   },
   {
    "duration": 11,
    "start_time": "2022-06-09T18:13:15.661Z"
   },
   {
    "duration": 8,
    "start_time": "2022-06-09T18:13:15.673Z"
   },
   {
    "duration": 22,
    "start_time": "2022-06-09T18:13:15.682Z"
   },
   {
    "duration": 8,
    "start_time": "2022-06-09T18:13:15.710Z"
   },
   {
    "duration": 8,
    "start_time": "2022-06-09T18:13:15.720Z"
   },
   {
    "duration": 6,
    "start_time": "2022-06-09T18:13:15.733Z"
   },
   {
    "duration": 7,
    "start_time": "2022-06-09T18:13:15.740Z"
   },
   {
    "duration": 7,
    "start_time": "2022-06-09T18:13:15.748Z"
   },
   {
    "duration": 7,
    "start_time": "2022-06-09T18:13:15.756Z"
   },
   {
    "duration": 10,
    "start_time": "2022-06-09T18:13:15.764Z"
   },
   {
    "duration": 28,
    "start_time": "2022-06-09T18:13:15.776Z"
   },
   {
    "duration": 10,
    "start_time": "2022-06-09T18:13:15.808Z"
   },
   {
    "duration": 12,
    "start_time": "2022-06-09T18:13:15.819Z"
   },
   {
    "duration": 7,
    "start_time": "2022-06-09T18:13:15.833Z"
   },
   {
    "duration": 6,
    "start_time": "2022-06-09T18:13:15.842Z"
   },
   {
    "duration": 7,
    "start_time": "2022-06-09T18:13:15.849Z"
   },
   {
    "duration": 7,
    "start_time": "2022-06-09T18:13:15.857Z"
   },
   {
    "duration": 6,
    "start_time": "2022-06-09T18:13:15.866Z"
   },
   {
    "duration": 49,
    "start_time": "2022-06-09T18:13:15.873Z"
   },
   {
    "duration": 111,
    "start_time": "2022-06-09T18:13:15.924Z"
   },
   {
    "duration": 843,
    "start_time": "2022-06-09T18:13:16.037Z"
   },
   {
    "duration": 109,
    "start_time": "2022-06-09T18:13:16.881Z"
   },
   {
    "duration": 737,
    "start_time": "2022-06-09T18:13:17.007Z"
   },
   {
    "duration": 3,
    "start_time": "2022-06-09T18:13:17.746Z"
   },
   {
    "duration": 617,
    "start_time": "2022-06-09T18:13:17.751Z"
   },
   {
    "duration": 3,
    "start_time": "2022-06-09T18:13:18.370Z"
   },
   {
    "duration": 506,
    "start_time": "2022-06-09T18:13:18.375Z"
   },
   {
    "duration": 4,
    "start_time": "2022-06-09T18:13:18.883Z"
   },
   {
    "duration": 506,
    "start_time": "2022-06-09T18:13:18.893Z"
   },
   {
    "duration": 331,
    "start_time": "2022-06-09T18:13:19.400Z"
   },
   {
    "duration": 459,
    "start_time": "2022-06-09T18:13:19.733Z"
   },
   {
    "duration": 4,
    "start_time": "2022-06-09T18:13:20.195Z"
   },
   {
    "duration": 32,
    "start_time": "2022-06-09T18:13:20.201Z"
   },
   {
    "duration": 51,
    "start_time": "2022-06-09T18:13:20.235Z"
   },
   {
    "duration": 422,
    "start_time": "2022-06-09T18:13:20.288Z"
   },
   {
    "duration": 18,
    "start_time": "2022-06-09T18:13:20.712Z"
   },
   {
    "duration": 8,
    "start_time": "2022-06-09T18:13:20.732Z"
   },
   {
    "duration": 52,
    "start_time": "2022-06-09T18:13:20.742Z"
   },
   {
    "duration": 390,
    "start_time": "2022-06-09T18:13:20.796Z"
   },
   {
    "duration": 21,
    "start_time": "2022-06-09T18:13:21.188Z"
   },
   {
    "duration": 15,
    "start_time": "2022-06-09T18:13:21.211Z"
   },
   {
    "duration": 31,
    "start_time": "2022-06-09T18:13:21.228Z"
   },
   {
    "duration": 4,
    "start_time": "2022-06-09T18:13:21.261Z"
   },
   {
    "duration": 11,
    "start_time": "2022-06-09T18:13:21.267Z"
   },
   {
    "duration": 139,
    "start_time": "2022-06-09T18:13:21.282Z"
   },
   {
    "duration": 8,
    "start_time": "2022-06-09T18:13:21.422Z"
   },
   {
    "duration": 13,
    "start_time": "2022-06-09T18:13:21.432Z"
   },
   {
    "duration": 10,
    "start_time": "2022-06-09T18:13:21.447Z"
   },
   {
    "duration": 5,
    "start_time": "2022-06-09T18:13:21.458Z"
   },
   {
    "duration": 5,
    "start_time": "2022-06-09T18:28:37.440Z"
   },
   {
    "duration": 384,
    "start_time": "2022-06-09T18:28:37.448Z"
   },
   {
    "duration": 18,
    "start_time": "2022-06-09T18:28:37.833Z"
   },
   {
    "duration": 110,
    "start_time": "2022-06-09T18:28:37.854Z"
   },
   {
    "duration": 11,
    "start_time": "2022-06-09T18:28:37.966Z"
   },
   {
    "duration": 383,
    "start_time": "2022-06-09T18:28:37.998Z"
   },
   {
    "duration": 36,
    "start_time": "2022-06-09T18:28:38.382Z"
   },
   {
    "duration": 18,
    "start_time": "2022-06-09T18:28:38.419Z"
   },
   {
    "duration": 5,
    "start_time": "2022-06-09T18:28:38.440Z"
   },
   {
    "duration": 17,
    "start_time": "2022-06-09T18:28:38.446Z"
   },
   {
    "duration": 7,
    "start_time": "2022-06-09T18:28:38.464Z"
   },
   {
    "duration": 12,
    "start_time": "2022-06-09T18:28:38.472Z"
   },
   {
    "duration": 38,
    "start_time": "2022-06-09T18:28:38.485Z"
   },
   {
    "duration": 30,
    "start_time": "2022-06-09T18:28:38.524Z"
   },
   {
    "duration": 80,
    "start_time": "2022-06-09T18:28:38.556Z"
   },
   {
    "duration": 20,
    "start_time": "2022-06-09T18:28:38.639Z"
   },
   {
    "duration": 10,
    "start_time": "2022-06-09T18:28:38.661Z"
   },
   {
    "duration": 36,
    "start_time": "2022-06-09T18:28:38.673Z"
   },
   {
    "duration": 134,
    "start_time": "2022-06-09T18:28:38.711Z"
   },
   {
    "duration": 22,
    "start_time": "2022-06-09T18:28:38.847Z"
   },
   {
    "duration": 13,
    "start_time": "2022-06-09T18:28:38.870Z"
   },
   {
    "duration": 9,
    "start_time": "2022-06-09T18:28:38.894Z"
   },
   {
    "duration": 30,
    "start_time": "2022-06-09T18:28:38.908Z"
   },
   {
    "duration": 22,
    "start_time": "2022-06-09T18:28:38.941Z"
   },
   {
    "duration": 110,
    "start_time": "2022-06-09T18:28:38.965Z"
   },
   {
    "duration": 24,
    "start_time": "2022-06-09T18:28:39.076Z"
   },
   {
    "duration": 19,
    "start_time": "2022-06-09T18:28:39.105Z"
   },
   {
    "duration": 24,
    "start_time": "2022-06-09T18:28:39.129Z"
   },
   {
    "duration": 99,
    "start_time": "2022-06-09T18:28:39.155Z"
   },
   {
    "duration": 11,
    "start_time": "2022-06-09T18:28:39.257Z"
   },
   {
    "duration": 652,
    "start_time": "2022-06-09T18:28:39.270Z"
   },
   {
    "duration": 30,
    "start_time": "2022-06-09T18:28:39.924Z"
   },
   {
    "duration": 3,
    "start_time": "2022-06-09T18:28:39.955Z"
   },
   {
    "duration": 54,
    "start_time": "2022-06-09T18:28:39.959Z"
   },
   {
    "duration": 22,
    "start_time": "2022-06-09T18:28:40.019Z"
   },
   {
    "duration": 14,
    "start_time": "2022-06-09T18:28:40.043Z"
   },
   {
    "duration": 7,
    "start_time": "2022-06-09T18:28:40.059Z"
   },
   {
    "duration": 8,
    "start_time": "2022-06-09T18:28:40.067Z"
   },
   {
    "duration": 7,
    "start_time": "2022-06-09T18:28:40.076Z"
   },
   {
    "duration": 6,
    "start_time": "2022-06-09T18:28:40.085Z"
   },
   {
    "duration": 36,
    "start_time": "2022-06-09T18:28:40.092Z"
   },
   {
    "duration": 8,
    "start_time": "2022-06-09T18:28:40.129Z"
   },
   {
    "duration": 7,
    "start_time": "2022-06-09T18:28:40.138Z"
   },
   {
    "duration": 9,
    "start_time": "2022-06-09T18:28:40.146Z"
   },
   {
    "duration": 7,
    "start_time": "2022-06-09T18:28:40.157Z"
   },
   {
    "duration": 23,
    "start_time": "2022-06-09T18:28:40.165Z"
   },
   {
    "duration": 53,
    "start_time": "2022-06-09T18:28:40.189Z"
   },
   {
    "duration": 8,
    "start_time": "2022-06-09T18:28:40.245Z"
   },
   {
    "duration": 9,
    "start_time": "2022-06-09T18:28:40.255Z"
   },
   {
    "duration": 7,
    "start_time": "2022-06-09T18:28:40.265Z"
   },
   {
    "duration": 8,
    "start_time": "2022-06-09T18:28:40.274Z"
   },
   {
    "duration": 13,
    "start_time": "2022-06-09T18:28:40.283Z"
   },
   {
    "duration": 47,
    "start_time": "2022-06-09T18:28:40.299Z"
   },
   {
    "duration": 6,
    "start_time": "2022-06-09T18:28:40.348Z"
   },
   {
    "duration": 57,
    "start_time": "2022-06-09T18:28:40.356Z"
   },
   {
    "duration": 123,
    "start_time": "2022-06-09T18:28:40.414Z"
   },
   {
    "duration": 995,
    "start_time": "2022-06-09T18:28:40.538Z"
   },
   {
    "duration": 112,
    "start_time": "2022-06-09T18:28:41.535Z"
   },
   {
    "duration": 720,
    "start_time": "2022-06-09T18:28:41.649Z"
   },
   {
    "duration": 3,
    "start_time": "2022-06-09T18:28:42.371Z"
   },
   {
    "duration": 545,
    "start_time": "2022-06-09T18:28:42.376Z"
   },
   {
    "duration": 4,
    "start_time": "2022-06-09T18:28:42.926Z"
   },
   {
    "duration": 533,
    "start_time": "2022-06-09T18:28:42.931Z"
   },
   {
    "duration": 4,
    "start_time": "2022-06-09T18:28:43.466Z"
   },
   {
    "duration": 712,
    "start_time": "2022-06-09T18:28:43.471Z"
   },
   {
    "duration": 314,
    "start_time": "2022-06-09T18:28:44.184Z"
   },
   {
    "duration": 339,
    "start_time": "2022-06-09T18:28:44.504Z"
   },
   {
    "duration": 6,
    "start_time": "2022-06-09T18:28:44.845Z"
   },
   {
    "duration": 11,
    "start_time": "2022-06-09T18:28:44.855Z"
   },
   {
    "duration": 46,
    "start_time": "2022-06-09T18:28:44.868Z"
   },
   {
    "duration": 381,
    "start_time": "2022-06-09T18:28:44.915Z"
   },
   {
    "duration": 26,
    "start_time": "2022-06-09T18:28:45.302Z"
   },
   {
    "duration": 11,
    "start_time": "2022-06-09T18:28:45.330Z"
   },
   {
    "duration": 26,
    "start_time": "2022-06-09T18:28:45.342Z"
   },
   {
    "duration": 517,
    "start_time": "2022-06-09T18:28:45.369Z"
   },
   {
    "duration": 24,
    "start_time": "2022-06-09T18:28:45.888Z"
   },
   {
    "duration": 15,
    "start_time": "2022-06-09T18:28:45.917Z"
   },
   {
    "duration": 24,
    "start_time": "2022-06-09T18:28:45.934Z"
   },
   {
    "duration": 3,
    "start_time": "2022-06-09T18:28:45.960Z"
   },
   {
    "duration": 10,
    "start_time": "2022-06-09T18:28:45.964Z"
   },
   {
    "duration": 148,
    "start_time": "2022-06-09T18:28:45.975Z"
   },
   {
    "duration": 8,
    "start_time": "2022-06-09T18:28:46.127Z"
   },
   {
    "duration": 16,
    "start_time": "2022-06-09T18:28:46.136Z"
   },
   {
    "duration": 11,
    "start_time": "2022-06-09T18:28:46.154Z"
   },
   {
    "duration": 6,
    "start_time": "2022-06-09T18:28:46.167Z"
   },
   {
    "duration": 3,
    "start_time": "2022-06-09T18:29:00.719Z"
   },
   {
    "duration": 3,
    "start_time": "2022-06-09T18:30:57.382Z"
   },
   {
    "duration": 510,
    "start_time": "2022-06-09T18:40:01.591Z"
   },
   {
    "duration": 3,
    "start_time": "2022-06-09T18:47:41.961Z"
   },
   {
    "duration": 2,
    "start_time": "2022-06-09T18:47:42.707Z"
   },
   {
    "duration": 3,
    "start_time": "2022-06-09T18:47:46.454Z"
   },
   {
    "duration": 4,
    "start_time": "2022-06-09T18:47:49.885Z"
   },
   {
    "duration": 890,
    "start_time": "2022-06-09T18:47:52.006Z"
   },
   {
    "duration": 4,
    "start_time": "2022-06-09T18:48:08.825Z"
   },
   {
    "duration": 2,
    "start_time": "2022-06-09T18:48:10.471Z"
   },
   {
    "duration": 3,
    "start_time": "2022-06-09T18:48:13.114Z"
   },
   {
    "duration": 3,
    "start_time": "2022-06-09T18:48:15.389Z"
   },
   {
    "duration": 937,
    "start_time": "2022-06-09T18:48:16.757Z"
   },
   {
    "duration": 822,
    "start_time": "2022-06-09T18:48:28.085Z"
   },
   {
    "duration": 1356,
    "start_time": "2022-06-09T18:59:50.739Z"
   },
   {
    "duration": 1826,
    "start_time": "2022-06-09T19:00:13.888Z"
   },
   {
    "duration": 3,
    "start_time": "2022-06-09T19:02:00.837Z"
   },
   {
    "duration": 3,
    "start_time": "2022-06-09T19:02:08.487Z"
   },
   {
    "duration": 2,
    "start_time": "2022-06-09T19:02:10.099Z"
   },
   {
    "duration": 178,
    "start_time": "2022-06-09T19:03:16.841Z"
   },
   {
    "duration": 2,
    "start_time": "2022-06-09T19:04:34.203Z"
   },
   {
    "duration": 3,
    "start_time": "2022-06-09T19:04:49.739Z"
   },
   {
    "duration": 276,
    "start_time": "2022-06-09T19:04:49.752Z"
   },
   {
    "duration": 18,
    "start_time": "2022-06-09T19:04:50.030Z"
   },
   {
    "duration": 102,
    "start_time": "2022-06-09T19:04:50.050Z"
   },
   {
    "duration": 10,
    "start_time": "2022-06-09T19:04:50.154Z"
   },
   {
    "duration": 347,
    "start_time": "2022-06-09T19:04:50.165Z"
   },
   {
    "duration": 14,
    "start_time": "2022-06-09T19:04:50.513Z"
   },
   {
    "duration": 4,
    "start_time": "2022-06-09T19:04:50.529Z"
   },
   {
    "duration": 7,
    "start_time": "2022-06-09T19:04:50.534Z"
   },
   {
    "duration": 13,
    "start_time": "2022-06-09T19:04:50.542Z"
   },
   {
    "duration": 6,
    "start_time": "2022-06-09T19:04:50.557Z"
   },
   {
    "duration": 38,
    "start_time": "2022-06-09T19:04:50.564Z"
   },
   {
    "duration": 12,
    "start_time": "2022-06-09T19:04:50.604Z"
   },
   {
    "duration": 19,
    "start_time": "2022-06-09T19:04:50.617Z"
   },
   {
    "duration": 102,
    "start_time": "2022-06-09T19:04:50.638Z"
   },
   {
    "duration": 19,
    "start_time": "2022-06-09T19:04:50.741Z"
   },
   {
    "duration": 8,
    "start_time": "2022-06-09T19:04:50.762Z"
   },
   {
    "duration": 11,
    "start_time": "2022-06-09T19:04:50.794Z"
   },
   {
    "duration": 120,
    "start_time": "2022-06-09T19:04:50.807Z"
   },
   {
    "duration": 23,
    "start_time": "2022-06-09T19:04:50.929Z"
   },
   {
    "duration": 13,
    "start_time": "2022-06-09T19:04:50.954Z"
   },
   {
    "duration": 25,
    "start_time": "2022-06-09T19:04:50.969Z"
   },
   {
    "duration": 7,
    "start_time": "2022-06-09T19:04:50.996Z"
   },
   {
    "duration": 29,
    "start_time": "2022-06-09T19:04:51.005Z"
   },
   {
    "duration": 111,
    "start_time": "2022-06-09T19:04:51.035Z"
   },
   {
    "duration": 18,
    "start_time": "2022-06-09T19:04:51.147Z"
   },
   {
    "duration": 10,
    "start_time": "2022-06-09T19:04:51.166Z"
   },
   {
    "duration": 25,
    "start_time": "2022-06-09T19:04:51.177Z"
   },
   {
    "duration": 91,
    "start_time": "2022-06-09T19:04:51.205Z"
   },
   {
    "duration": 10,
    "start_time": "2022-06-09T19:04:51.297Z"
   },
   {
    "duration": 556,
    "start_time": "2022-06-09T19:04:51.309Z"
   },
   {
    "duration": 42,
    "start_time": "2022-06-09T19:04:51.867Z"
   },
   {
    "duration": 3,
    "start_time": "2022-06-09T19:04:51.911Z"
   },
   {
    "duration": 20,
    "start_time": "2022-06-09T19:04:51.915Z"
   },
   {
    "duration": 17,
    "start_time": "2022-06-09T19:04:51.937Z"
   },
   {
    "duration": 10,
    "start_time": "2022-06-09T19:04:51.956Z"
   },
   {
    "duration": 7,
    "start_time": "2022-06-09T19:04:51.968Z"
   },
   {
    "duration": 10,
    "start_time": "2022-06-09T19:04:51.977Z"
   },
   {
    "duration": 13,
    "start_time": "2022-06-09T19:04:51.989Z"
   },
   {
    "duration": 6,
    "start_time": "2022-06-09T19:04:52.003Z"
   },
   {
    "duration": 7,
    "start_time": "2022-06-09T19:04:52.010Z"
   },
   {
    "duration": 18,
    "start_time": "2022-06-09T19:04:52.018Z"
   },
   {
    "duration": 11,
    "start_time": "2022-06-09T19:04:52.038Z"
   },
   {
    "duration": 10,
    "start_time": "2022-06-09T19:04:52.050Z"
   },
   {
    "duration": 7,
    "start_time": "2022-06-09T19:04:52.061Z"
   },
   {
    "duration": 8,
    "start_time": "2022-06-09T19:04:52.070Z"
   },
   {
    "duration": 16,
    "start_time": "2022-06-09T19:04:52.079Z"
   },
   {
    "duration": 6,
    "start_time": "2022-06-09T19:04:52.097Z"
   },
   {
    "duration": 7,
    "start_time": "2022-06-09T19:04:52.104Z"
   },
   {
    "duration": 9,
    "start_time": "2022-06-09T19:04:52.113Z"
   },
   {
    "duration": 8,
    "start_time": "2022-06-09T19:04:52.123Z"
   },
   {
    "duration": 11,
    "start_time": "2022-06-09T19:04:52.132Z"
   },
   {
    "duration": 6,
    "start_time": "2022-06-09T19:04:52.145Z"
   },
   {
    "duration": 6,
    "start_time": "2022-06-09T19:04:52.153Z"
   },
   {
    "duration": 38,
    "start_time": "2022-06-09T19:04:52.161Z"
   },
   {
    "duration": 106,
    "start_time": "2022-06-09T19:04:52.201Z"
   },
   {
    "duration": 776,
    "start_time": "2022-06-09T19:04:52.309Z"
   },
   {
    "duration": 96,
    "start_time": "2022-06-09T19:04:53.087Z"
   },
   {
    "duration": 729,
    "start_time": "2022-06-09T19:04:53.185Z"
   },
   {
    "duration": 4,
    "start_time": "2022-06-09T19:04:53.915Z"
   },
   {
    "duration": 503,
    "start_time": "2022-06-09T19:04:53.920Z"
   },
   {
    "duration": 3,
    "start_time": "2022-06-09T19:04:54.425Z"
   },
   {
    "duration": 512,
    "start_time": "2022-06-09T19:04:54.430Z"
   },
   {
    "duration": 4,
    "start_time": "2022-06-09T19:04:54.943Z"
   },
   {
    "duration": 497,
    "start_time": "2022-06-09T19:04:54.948Z"
   },
   {
    "duration": 383,
    "start_time": "2022-06-09T19:04:55.446Z"
   },
   {
    "duration": 325,
    "start_time": "2022-06-09T19:04:55.832Z"
   },
   {
    "duration": 4,
    "start_time": "2022-06-09T19:04:56.158Z"
   },
   {
    "duration": 16,
    "start_time": "2022-06-09T19:04:56.163Z"
   },
   {
    "duration": 31,
    "start_time": "2022-06-09T19:04:56.180Z"
   },
   {
    "duration": 352,
    "start_time": "2022-06-09T19:04:56.212Z"
   },
   {
    "duration": 17,
    "start_time": "2022-06-09T19:04:56.566Z"
   },
   {
    "duration": 8,
    "start_time": "2022-06-09T19:04:56.593Z"
   },
   {
    "duration": 24,
    "start_time": "2022-06-09T19:04:56.602Z"
   },
   {
    "duration": 368,
    "start_time": "2022-06-09T19:04:56.628Z"
   },
   {
    "duration": 14,
    "start_time": "2022-06-09T19:04:56.998Z"
   },
   {
    "duration": 2,
    "start_time": "2022-06-09T19:04:57.014Z"
   },
   {
    "duration": 18,
    "start_time": "2022-06-09T19:04:57.017Z"
   },
   {
    "duration": 2,
    "start_time": "2022-06-09T19:04:57.036Z"
   },
   {
    "duration": 9,
    "start_time": "2022-06-09T19:04:57.039Z"
   },
   {
    "duration": 147,
    "start_time": "2022-06-09T19:04:57.049Z"
   },
   {
    "duration": 7,
    "start_time": "2022-06-09T19:04:57.198Z"
   },
   {
    "duration": 7,
    "start_time": "2022-06-09T19:04:57.210Z"
   },
   {
    "duration": 10,
    "start_time": "2022-06-09T19:04:57.218Z"
   },
   {
    "duration": 5,
    "start_time": "2022-06-09T19:04:57.229Z"
   },
   {
    "duration": 5,
    "start_time": "2022-06-09T19:04:57.235Z"
   },
   {
    "duration": 4,
    "start_time": "2022-06-09T19:04:57.241Z"
   },
   {
    "duration": 1297,
    "start_time": "2022-06-09T19:05:19.198Z"
   },
   {
    "duration": 4,
    "start_time": "2022-06-09T19:15:58.447Z"
   },
   {
    "duration": 276,
    "start_time": "2022-06-09T19:15:58.482Z"
   },
   {
    "duration": 14,
    "start_time": "2022-06-09T19:15:58.760Z"
   },
   {
    "duration": 107,
    "start_time": "2022-06-09T19:15:58.776Z"
   },
   {
    "duration": 19,
    "start_time": "2022-06-09T19:15:58.885Z"
   },
   {
    "duration": 407,
    "start_time": "2022-06-09T19:15:58.905Z"
   },
   {
    "duration": 19,
    "start_time": "2022-06-09T19:15:59.314Z"
   },
   {
    "duration": 5,
    "start_time": "2022-06-09T19:15:59.335Z"
   },
   {
    "duration": 5,
    "start_time": "2022-06-09T19:15:59.342Z"
   },
   {
    "duration": 15,
    "start_time": "2022-06-09T19:15:59.348Z"
   },
   {
    "duration": 34,
    "start_time": "2022-06-09T19:15:59.365Z"
   },
   {
    "duration": 12,
    "start_time": "2022-06-09T19:15:59.401Z"
   },
   {
    "duration": 10,
    "start_time": "2022-06-09T19:15:59.414Z"
   },
   {
    "duration": 19,
    "start_time": "2022-06-09T19:15:59.426Z"
   },
   {
    "duration": 104,
    "start_time": "2022-06-09T19:15:59.447Z"
   },
   {
    "duration": 19,
    "start_time": "2022-06-09T19:15:59.553Z"
   },
   {
    "duration": 7,
    "start_time": "2022-06-09T19:15:59.574Z"
   },
   {
    "duration": 9,
    "start_time": "2022-06-09T19:15:59.594Z"
   },
   {
    "duration": 117,
    "start_time": "2022-06-09T19:15:59.605Z"
   },
   {
    "duration": 22,
    "start_time": "2022-06-09T19:15:59.724Z"
   },
   {
    "duration": 14,
    "start_time": "2022-06-09T19:15:59.748Z"
   },
   {
    "duration": 6,
    "start_time": "2022-06-09T19:15:59.763Z"
   },
   {
    "duration": 32,
    "start_time": "2022-06-09T19:15:59.770Z"
   },
   {
    "duration": 22,
    "start_time": "2022-06-09T19:15:59.804Z"
   },
   {
    "duration": 134,
    "start_time": "2022-06-09T19:15:59.828Z"
   },
   {
    "duration": 19,
    "start_time": "2022-06-09T19:15:59.964Z"
   },
   {
    "duration": 10,
    "start_time": "2022-06-09T19:15:59.994Z"
   },
   {
    "duration": 13,
    "start_time": "2022-06-09T19:16:00.006Z"
   },
   {
    "duration": 107,
    "start_time": "2022-06-09T19:16:00.023Z"
   },
   {
    "duration": 11,
    "start_time": "2022-06-09T19:16:00.131Z"
   },
   {
    "duration": 580,
    "start_time": "2022-06-09T19:16:00.144Z"
   },
   {
    "duration": 35,
    "start_time": "2022-06-09T19:16:00.726Z"
   },
   {
    "duration": 4,
    "start_time": "2022-06-09T19:16:00.793Z"
   },
   {
    "duration": 35,
    "start_time": "2022-06-09T19:16:00.799Z"
   },
   {
    "duration": 8,
    "start_time": "2022-06-09T19:16:00.836Z"
   },
   {
    "duration": 24,
    "start_time": "2022-06-09T19:16:00.846Z"
   },
   {
    "duration": 12,
    "start_time": "2022-06-09T19:16:00.872Z"
   },
   {
    "duration": 9,
    "start_time": "2022-06-09T19:16:00.885Z"
   },
   {
    "duration": 15,
    "start_time": "2022-06-09T19:16:00.895Z"
   },
   {
    "duration": 11,
    "start_time": "2022-06-09T19:16:00.912Z"
   },
   {
    "duration": 11,
    "start_time": "2022-06-09T19:16:00.924Z"
   },
   {
    "duration": 18,
    "start_time": "2022-06-09T19:16:00.936Z"
   },
   {
    "duration": 8,
    "start_time": "2022-06-09T19:16:00.955Z"
   },
   {
    "duration": 15,
    "start_time": "2022-06-09T19:16:00.965Z"
   },
   {
    "duration": 19,
    "start_time": "2022-06-09T19:16:00.982Z"
   },
   {
    "duration": 15,
    "start_time": "2022-06-09T19:16:01.004Z"
   },
   {
    "duration": 10,
    "start_time": "2022-06-09T19:16:01.022Z"
   },
   {
    "duration": 9,
    "start_time": "2022-06-09T19:16:01.034Z"
   },
   {
    "duration": 14,
    "start_time": "2022-06-09T19:16:01.045Z"
   },
   {
    "duration": 15,
    "start_time": "2022-06-09T19:16:01.061Z"
   },
   {
    "duration": 12,
    "start_time": "2022-06-09T19:16:01.078Z"
   },
   {
    "duration": 8,
    "start_time": "2022-06-09T19:16:01.092Z"
   },
   {
    "duration": 8,
    "start_time": "2022-06-09T19:16:01.101Z"
   },
   {
    "duration": 11,
    "start_time": "2022-06-09T19:16:01.111Z"
   },
   {
    "duration": 52,
    "start_time": "2022-06-09T19:16:01.124Z"
   },
   {
    "duration": 120,
    "start_time": "2022-06-09T19:16:01.178Z"
   },
   {
    "duration": 911,
    "start_time": "2022-06-09T19:16:01.299Z"
   },
   {
    "duration": 100,
    "start_time": "2022-06-09T19:16:02.212Z"
   },
   {
    "duration": 647,
    "start_time": "2022-06-09T19:16:02.314Z"
   },
   {
    "duration": 4,
    "start_time": "2022-06-09T19:16:02.962Z"
   },
   {
    "duration": 482,
    "start_time": "2022-06-09T19:16:02.967Z"
   },
   {
    "duration": 3,
    "start_time": "2022-06-09T19:16:03.451Z"
   },
   {
    "duration": 625,
    "start_time": "2022-06-09T19:16:03.455Z"
   },
   {
    "duration": 4,
    "start_time": "2022-06-09T19:16:04.082Z"
   },
   {
    "duration": 571,
    "start_time": "2022-06-09T19:16:04.094Z"
   },
   {
    "duration": 314,
    "start_time": "2022-06-09T19:16:04.667Z"
   },
   {
    "duration": 330,
    "start_time": "2022-06-09T19:16:04.983Z"
   },
   {
    "duration": 3,
    "start_time": "2022-06-09T19:16:05.315Z"
   },
   {
    "duration": 14,
    "start_time": "2022-06-09T19:16:05.319Z"
   },
   {
    "duration": 27,
    "start_time": "2022-06-09T19:16:05.334Z"
   },
   {
    "duration": 494,
    "start_time": "2022-06-09T19:16:05.363Z"
   },
   {
    "duration": 26,
    "start_time": "2022-06-09T19:16:05.859Z"
   },
   {
    "duration": 10,
    "start_time": "2022-06-09T19:16:05.894Z"
   },
   {
    "duration": 33,
    "start_time": "2022-06-09T19:16:05.907Z"
   },
   {
    "duration": 381,
    "start_time": "2022-06-09T19:16:05.942Z"
   },
   {
    "duration": 17,
    "start_time": "2022-06-09T19:16:06.325Z"
   },
   {
    "duration": 3,
    "start_time": "2022-06-09T19:16:06.344Z"
   },
   {
    "duration": 23,
    "start_time": "2022-06-09T19:16:06.348Z"
   },
   {
    "duration": 12,
    "start_time": "2022-06-09T19:16:06.372Z"
   },
   {
    "duration": 26,
    "start_time": "2022-06-09T19:16:06.385Z"
   },
   {
    "duration": 151,
    "start_time": "2022-06-09T19:16:06.413Z"
   },
   {
    "duration": 9,
    "start_time": "2022-06-09T19:16:06.566Z"
   },
   {
    "duration": 30,
    "start_time": "2022-06-09T19:16:06.594Z"
   },
   {
    "duration": 33,
    "start_time": "2022-06-09T19:16:06.626Z"
   },
   {
    "duration": 22,
    "start_time": "2022-06-09T19:16:06.661Z"
   },
   {
    "duration": 8,
    "start_time": "2022-06-09T19:16:06.685Z"
   },
   {
    "duration": 21,
    "start_time": "2022-06-09T19:16:06.695Z"
   },
   {
    "duration": 1382,
    "start_time": "2022-06-09T19:16:06.717Z"
   },
   {
    "duration": 3898,
    "start_time": "2022-06-09T19:19:34.289Z"
   },
   {
    "duration": 18055,
    "start_time": "2022-06-09T19:20:39.794Z"
   },
   {
    "duration": 2368,
    "start_time": "2022-06-09T19:24:14.413Z"
   },
   {
    "duration": 38,
    "start_time": "2022-06-09T19:29:19.806Z"
   },
   {
    "duration": 1781799,
    "start_time": "2022-06-09T19:29:26.002Z"
   },
   {
    "duration": 326870,
    "start_time": "2022-06-09T19:59:41.582Z"
   },
   {
    "duration": 57732,
    "start_time": "2022-06-09T20:07:02.974Z"
   },
   {
    "duration": 863,
    "start_time": "2022-06-09T20:10:35.840Z"
   },
   {
    "duration": 4,
    "start_time": "2022-06-09T20:13:36.675Z"
   },
   {
    "duration": 4,
    "start_time": "2022-06-09T20:13:37.211Z"
   },
   {
    "duration": 27,
    "start_time": "2022-06-09T20:15:37.427Z"
   },
   {
    "duration": 4,
    "start_time": "2022-06-09T20:18:05.213Z"
   },
   {
    "duration": 4,
    "start_time": "2022-06-09T20:18:05.955Z"
   },
   {
    "duration": 6563,
    "start_time": "2022-06-09T20:18:06.794Z"
   },
   {
    "duration": 67,
    "start_time": "2022-06-09T20:18:39.197Z"
   },
   {
    "duration": 6690,
    "start_time": "2022-06-09T20:19:56.527Z"
   },
   {
    "duration": 3195,
    "start_time": "2022-06-09T20:20:38.319Z"
   },
   {
    "duration": 4,
    "start_time": "2022-06-09T20:22:29.424Z"
   },
   {
    "duration": 4,
    "start_time": "2022-06-09T20:23:08.302Z"
   },
   {
    "duration": 3,
    "start_time": "2022-06-09T20:23:23.095Z"
   },
   {
    "duration": 3,
    "start_time": "2022-06-09T20:23:23.720Z"
   },
   {
    "duration": 121,
    "start_time": "2022-06-09T20:23:31.864Z"
   },
   {
    "duration": 3,
    "start_time": "2022-06-09T20:24:04.612Z"
   },
   {
    "duration": 3,
    "start_time": "2022-06-09T20:24:48.144Z"
   },
   {
    "duration": 5,
    "start_time": "2022-06-09T20:24:55.336Z"
   },
   {
    "duration": 4,
    "start_time": "2022-06-09T20:25:17.661Z"
   },
   {
    "duration": 3,
    "start_time": "2022-06-09T20:25:40.810Z"
   },
   {
    "duration": 3,
    "start_time": "2022-06-09T20:26:12.996Z"
   },
   {
    "duration": 16,
    "start_time": "2022-06-09T20:26:14.229Z"
   },
   {
    "duration": 16,
    "start_time": "2022-06-09T20:26:49.739Z"
   },
   {
    "duration": 17,
    "start_time": "2022-06-09T20:26:53.713Z"
   },
   {
    "duration": 1147,
    "start_time": "2022-06-09T20:48:53.421Z"
   },
   {
    "duration": 255,
    "start_time": "2022-06-09T20:48:54.570Z"
   },
   {
    "duration": 15,
    "start_time": "2022-06-09T20:48:54.827Z"
   },
   {
    "duration": 84,
    "start_time": "2022-06-09T20:48:54.844Z"
   },
   {
    "duration": 10,
    "start_time": "2022-06-09T20:48:54.930Z"
   },
   {
    "duration": 326,
    "start_time": "2022-06-09T20:48:54.941Z"
   },
   {
    "duration": 14,
    "start_time": "2022-06-09T20:48:55.268Z"
   },
   {
    "duration": 6,
    "start_time": "2022-06-09T20:48:55.294Z"
   },
   {
    "duration": 6,
    "start_time": "2022-06-09T20:48:55.302Z"
   },
   {
    "duration": 17,
    "start_time": "2022-06-09T20:48:55.310Z"
   },
   {
    "duration": 6,
    "start_time": "2022-06-09T20:48:55.328Z"
   },
   {
    "duration": 11,
    "start_time": "2022-06-09T20:48:55.336Z"
   },
   {
    "duration": 20,
    "start_time": "2022-06-09T20:48:55.349Z"
   },
   {
    "duration": 53,
    "start_time": "2022-06-09T20:48:55.370Z"
   },
   {
    "duration": 89,
    "start_time": "2022-06-09T20:48:55.425Z"
   },
   {
    "duration": 20,
    "start_time": "2022-06-09T20:48:55.516Z"
   },
   {
    "duration": 9,
    "start_time": "2022-06-09T20:48:55.537Z"
   },
   {
    "duration": 8,
    "start_time": "2022-06-09T20:48:55.548Z"
   },
   {
    "duration": 143,
    "start_time": "2022-06-09T20:48:55.557Z"
   },
   {
    "duration": 27,
    "start_time": "2022-06-09T20:48:55.702Z"
   },
   {
    "duration": 17,
    "start_time": "2022-06-09T20:48:55.731Z"
   },
   {
    "duration": 4,
    "start_time": "2022-06-09T20:48:55.750Z"
   },
   {
    "duration": 8,
    "start_time": "2022-06-09T20:48:55.756Z"
   },
   {
    "duration": 44,
    "start_time": "2022-06-09T20:48:55.765Z"
   },
   {
    "duration": 114,
    "start_time": "2022-06-09T20:48:55.811Z"
   },
   {
    "duration": 18,
    "start_time": "2022-06-09T20:48:55.927Z"
   },
   {
    "duration": 11,
    "start_time": "2022-06-09T20:48:55.947Z"
   },
   {
    "duration": 9,
    "start_time": "2022-06-09T20:48:55.962Z"
   },
   {
    "duration": 91,
    "start_time": "2022-06-09T20:48:55.994Z"
   },
   {
    "duration": 17,
    "start_time": "2022-06-09T20:48:56.086Z"
   },
   {
    "duration": 355,
    "start_time": "2022-06-09T20:48:56.105Z"
   },
   {
    "duration": 26,
    "start_time": "2022-06-09T20:48:56.462Z"
   },
   {
    "duration": 2,
    "start_time": "2022-06-09T20:48:56.490Z"
   },
   {
    "duration": 18,
    "start_time": "2022-06-09T20:48:56.494Z"
   },
   {
    "duration": 6,
    "start_time": "2022-06-09T20:48:56.514Z"
   },
   {
    "duration": 15,
    "start_time": "2022-06-09T20:48:56.521Z"
   },
   {
    "duration": 6,
    "start_time": "2022-06-09T20:48:56.538Z"
   },
   {
    "duration": 7,
    "start_time": "2022-06-09T20:48:56.546Z"
   },
   {
    "duration": 6,
    "start_time": "2022-06-09T20:48:56.554Z"
   },
   {
    "duration": 6,
    "start_time": "2022-06-09T20:48:56.561Z"
   },
   {
    "duration": 5,
    "start_time": "2022-06-09T20:48:56.568Z"
   },
   {
    "duration": 20,
    "start_time": "2022-06-09T20:48:56.575Z"
   },
   {
    "duration": 4,
    "start_time": "2022-06-09T20:48:56.596Z"
   },
   {
    "duration": 6,
    "start_time": "2022-06-09T20:48:56.602Z"
   },
   {
    "duration": 10,
    "start_time": "2022-06-09T20:48:56.609Z"
   },
   {
    "duration": 10,
    "start_time": "2022-06-09T20:48:56.620Z"
   },
   {
    "duration": 8,
    "start_time": "2022-06-09T20:48:56.632Z"
   },
   {
    "duration": 6,
    "start_time": "2022-06-09T20:48:56.642Z"
   },
   {
    "duration": 6,
    "start_time": "2022-06-09T20:48:56.649Z"
   },
   {
    "duration": 7,
    "start_time": "2022-06-09T20:48:56.656Z"
   },
   {
    "duration": 11,
    "start_time": "2022-06-09T20:48:56.665Z"
   },
   {
    "duration": 19,
    "start_time": "2022-06-09T20:48:56.678Z"
   },
   {
    "duration": 6,
    "start_time": "2022-06-09T20:48:56.699Z"
   },
   {
    "duration": 7,
    "start_time": "2022-06-09T20:48:56.706Z"
   },
   {
    "duration": 24,
    "start_time": "2022-06-09T20:48:56.714Z"
   },
   {
    "duration": 120,
    "start_time": "2022-06-09T20:48:56.740Z"
   },
   {
    "duration": 914,
    "start_time": "2022-06-09T20:48:56.862Z"
   },
   {
    "duration": 102,
    "start_time": "2022-06-09T20:48:57.777Z"
   },
   {
    "duration": 634,
    "start_time": "2022-06-09T20:48:57.880Z"
   },
   {
    "duration": 3,
    "start_time": "2022-06-09T20:48:58.516Z"
   },
   {
    "duration": 451,
    "start_time": "2022-06-09T20:48:58.521Z"
   },
   {
    "duration": 3,
    "start_time": "2022-06-09T20:48:58.974Z"
   },
   {
    "duration": 465,
    "start_time": "2022-06-09T20:48:58.978Z"
   },
   {
    "duration": 3,
    "start_time": "2022-06-09T20:48:59.444Z"
   },
   {
    "duration": 555,
    "start_time": "2022-06-09T20:48:59.449Z"
   },
   {
    "duration": 275,
    "start_time": "2022-06-09T20:49:00.006Z"
   },
   {
    "duration": 307,
    "start_time": "2022-06-09T20:49:00.282Z"
   },
   {
    "duration": 6,
    "start_time": "2022-06-09T20:49:00.590Z"
   },
   {
    "duration": 19,
    "start_time": "2022-06-09T20:49:00.597Z"
   },
   {
    "duration": 32,
    "start_time": "2022-06-09T20:49:00.617Z"
   },
   {
    "duration": 334,
    "start_time": "2022-06-09T20:49:00.651Z"
   },
   {
    "duration": 20,
    "start_time": "2022-06-09T20:49:00.986Z"
   },
   {
    "duration": 7,
    "start_time": "2022-06-09T20:49:01.007Z"
   },
   {
    "duration": 26,
    "start_time": "2022-06-09T20:49:01.016Z"
   },
   {
    "duration": 468,
    "start_time": "2022-06-09T20:49:01.044Z"
   },
   {
    "duration": 13,
    "start_time": "2022-06-09T20:49:01.513Z"
   },
   {
    "duration": 3,
    "start_time": "2022-06-09T20:49:01.527Z"
   },
   {
    "duration": 28,
    "start_time": "2022-06-09T20:49:01.531Z"
   },
   {
    "duration": 4,
    "start_time": "2022-06-09T20:49:01.560Z"
   },
   {
    "duration": 14,
    "start_time": "2022-06-09T20:49:01.565Z"
   },
   {
    "duration": 128,
    "start_time": "2022-06-09T20:49:01.580Z"
   },
   {
    "duration": 7,
    "start_time": "2022-06-09T20:49:01.712Z"
   },
   {
    "duration": 13,
    "start_time": "2022-06-09T20:49:01.720Z"
   },
   {
    "duration": 34,
    "start_time": "2022-06-09T20:49:01.735Z"
   },
   {
    "duration": 7,
    "start_time": "2022-06-09T20:49:01.770Z"
   },
   {
    "duration": 7,
    "start_time": "2022-06-09T20:49:01.779Z"
   },
   {
    "duration": 9,
    "start_time": "2022-06-09T20:49:01.787Z"
   },
   {
    "duration": 1299,
    "start_time": "2022-06-09T20:49:01.797Z"
   },
   {
    "duration": 17441,
    "start_time": "2022-06-09T20:49:03.099Z"
   },
   {
    "duration": 2296,
    "start_time": "2022-06-09T20:49:20.542Z"
   },
   {
    "duration": 2,
    "start_time": "2022-06-09T20:49:22.840Z"
   },
   {
    "duration": 56615,
    "start_time": "2022-06-09T20:49:22.843Z"
   },
   {
    "duration": 1239,
    "start_time": "2022-06-09T20:50:19.459Z"
   },
   {
    "duration": 94,
    "start_time": "2022-06-09T20:50:20.700Z"
   },
   {
    "duration": 5,
    "start_time": "2022-06-09T20:50:20.796Z"
   },
   {
    "duration": 116,
    "start_time": "2022-06-09T20:50:20.803Z"
   },
   {
    "duration": 16,
    "start_time": "2022-06-09T20:53:30.825Z"
   },
   {
    "duration": 1979,
    "start_time": "2022-06-10T07:54:42.646Z"
   },
   {
    "duration": 347,
    "start_time": "2022-06-10T07:54:44.627Z"
   },
   {
    "duration": 23,
    "start_time": "2022-06-10T07:54:44.981Z"
   },
   {
    "duration": 111,
    "start_time": "2022-06-10T07:54:45.006Z"
   },
   {
    "duration": 13,
    "start_time": "2022-06-10T07:54:45.119Z"
   },
   {
    "duration": 409,
    "start_time": "2022-06-10T07:54:45.133Z"
   },
   {
    "duration": 38,
    "start_time": "2022-06-10T07:54:45.543Z"
   },
   {
    "duration": 8,
    "start_time": "2022-06-10T07:54:45.589Z"
   },
   {
    "duration": 8,
    "start_time": "2022-06-10T07:54:45.600Z"
   },
   {
    "duration": 18,
    "start_time": "2022-06-10T07:54:45.609Z"
   },
   {
    "duration": 6,
    "start_time": "2022-06-10T07:54:45.629Z"
   },
   {
    "duration": 13,
    "start_time": "2022-06-10T07:54:45.637Z"
   },
   {
    "duration": 46,
    "start_time": "2022-06-10T07:54:45.652Z"
   },
   {
    "duration": 21,
    "start_time": "2022-06-10T07:54:45.702Z"
   },
   {
    "duration": 88,
    "start_time": "2022-06-10T07:54:45.724Z"
   },
   {
    "duration": 20,
    "start_time": "2022-06-10T07:54:45.813Z"
   },
   {
    "duration": 9,
    "start_time": "2022-06-10T07:54:45.835Z"
   },
   {
    "duration": 34,
    "start_time": "2022-06-10T07:54:45.846Z"
   },
   {
    "duration": 134,
    "start_time": "2022-06-10T07:54:45.883Z"
   },
   {
    "duration": 25,
    "start_time": "2022-06-10T07:54:46.019Z"
   },
   {
    "duration": 44,
    "start_time": "2022-06-10T07:54:46.046Z"
   },
   {
    "duration": 16,
    "start_time": "2022-06-10T07:54:46.092Z"
   },
   {
    "duration": 11,
    "start_time": "2022-06-10T07:54:46.109Z"
   },
   {
    "duration": 26,
    "start_time": "2022-06-10T07:54:46.122Z"
   },
   {
    "duration": 124,
    "start_time": "2022-06-10T07:54:46.150Z"
   },
   {
    "duration": 26,
    "start_time": "2022-06-10T07:54:46.276Z"
   },
   {
    "duration": 11,
    "start_time": "2022-06-10T07:54:46.304Z"
   },
   {
    "duration": 9,
    "start_time": "2022-06-10T07:54:46.317Z"
   },
   {
    "duration": 143,
    "start_time": "2022-06-10T07:54:46.327Z"
   },
   {
    "duration": 14,
    "start_time": "2022-06-10T07:54:46.472Z"
   },
   {
    "duration": 423,
    "start_time": "2022-06-10T07:54:46.490Z"
   },
   {
    "duration": 29,
    "start_time": "2022-06-10T07:54:46.915Z"
   },
   {
    "duration": 23,
    "start_time": "2022-06-10T07:54:46.945Z"
   },
   {
    "duration": 24,
    "start_time": "2022-06-10T07:54:46.969Z"
   },
   {
    "duration": 25,
    "start_time": "2022-06-10T07:54:46.995Z"
   },
   {
    "duration": 8,
    "start_time": "2022-06-10T07:54:47.022Z"
   },
   {
    "duration": 10,
    "start_time": "2022-06-10T07:54:47.032Z"
   },
   {
    "duration": 12,
    "start_time": "2022-06-10T07:54:47.044Z"
   },
   {
    "duration": 43,
    "start_time": "2022-06-10T07:54:47.058Z"
   },
   {
    "duration": 9,
    "start_time": "2022-06-10T07:54:47.103Z"
   },
   {
    "duration": 6,
    "start_time": "2022-06-10T07:54:47.117Z"
   },
   {
    "duration": 8,
    "start_time": "2022-06-10T07:54:47.125Z"
   },
   {
    "duration": 7,
    "start_time": "2022-06-10T07:54:47.135Z"
   },
   {
    "duration": 8,
    "start_time": "2022-06-10T07:54:47.144Z"
   },
   {
    "duration": 16,
    "start_time": "2022-06-10T07:54:47.154Z"
   },
   {
    "duration": 37,
    "start_time": "2022-06-10T07:54:47.171Z"
   },
   {
    "duration": 9,
    "start_time": "2022-06-10T07:54:47.210Z"
   },
   {
    "duration": 9,
    "start_time": "2022-06-10T07:54:47.221Z"
   },
   {
    "duration": 7,
    "start_time": "2022-06-10T07:54:47.232Z"
   },
   {
    "duration": 8,
    "start_time": "2022-06-10T07:54:47.241Z"
   },
   {
    "duration": 7,
    "start_time": "2022-06-10T07:54:47.251Z"
   },
   {
    "duration": 18,
    "start_time": "2022-06-10T07:54:47.260Z"
   },
   {
    "duration": 18,
    "start_time": "2022-06-10T07:54:47.286Z"
   },
   {
    "duration": 7,
    "start_time": "2022-06-10T07:54:47.306Z"
   },
   {
    "duration": 25,
    "start_time": "2022-06-10T07:54:47.315Z"
   },
   {
    "duration": 146,
    "start_time": "2022-06-10T07:54:47.342Z"
   },
   {
    "duration": 1122,
    "start_time": "2022-06-10T07:54:47.490Z"
   },
   {
    "duration": 119,
    "start_time": "2022-06-10T07:54:48.614Z"
   },
   {
    "duration": 922,
    "start_time": "2022-06-10T07:54:48.735Z"
   },
   {
    "duration": 26,
    "start_time": "2022-06-10T07:54:49.664Z"
   },
   {
    "duration": 626,
    "start_time": "2022-06-10T07:54:49.692Z"
   },
   {
    "duration": 5,
    "start_time": "2022-06-10T07:54:50.320Z"
   },
   {
    "duration": 621,
    "start_time": "2022-06-10T07:54:50.327Z"
   },
   {
    "duration": 19,
    "start_time": "2022-06-10T07:54:50.950Z"
   },
   {
    "duration": 835,
    "start_time": "2022-06-10T07:54:50.978Z"
   },
   {
    "duration": 337,
    "start_time": "2022-06-10T07:54:51.815Z"
   },
   {
    "duration": 412,
    "start_time": "2022-06-10T07:54:52.155Z"
   },
   {
    "duration": 12,
    "start_time": "2022-06-10T07:54:52.573Z"
   },
   {
    "duration": 24,
    "start_time": "2022-06-10T07:54:52.591Z"
   },
   {
    "duration": 30,
    "start_time": "2022-06-10T07:54:52.617Z"
   },
   {
    "duration": 475,
    "start_time": "2022-06-10T07:54:52.649Z"
   },
   {
    "duration": 19,
    "start_time": "2022-06-10T07:54:53.126Z"
   },
   {
    "duration": 31,
    "start_time": "2022-06-10T07:54:53.147Z"
   },
   {
    "duration": 51,
    "start_time": "2022-06-10T07:54:53.182Z"
   },
   {
    "duration": 602,
    "start_time": "2022-06-10T07:54:53.235Z"
   },
   {
    "duration": 29,
    "start_time": "2022-06-10T07:54:53.839Z"
   },
   {
    "duration": 12,
    "start_time": "2022-06-10T07:54:53.871Z"
   },
   {
    "duration": 29,
    "start_time": "2022-06-10T07:54:53.890Z"
   },
   {
    "duration": 4,
    "start_time": "2022-06-10T07:54:53.921Z"
   },
   {
    "duration": 12,
    "start_time": "2022-06-10T07:54:53.926Z"
   },
   {
    "duration": 165,
    "start_time": "2022-06-10T07:54:53.940Z"
   },
   {
    "duration": 7,
    "start_time": "2022-06-10T07:54:54.107Z"
   },
   {
    "duration": 18,
    "start_time": "2022-06-10T07:54:54.116Z"
   },
   {
    "duration": 7,
    "start_time": "2022-06-10T07:54:54.136Z"
   },
   {
    "duration": 7,
    "start_time": "2022-06-10T07:54:54.144Z"
   },
   {
    "duration": 18,
    "start_time": "2022-06-10T07:54:54.153Z"
   },
   {
    "duration": 25,
    "start_time": "2022-06-10T07:54:54.179Z"
   },
   {
    "duration": 6,
    "start_time": "2022-06-10T07:54:54.206Z"
   },
   {
    "duration": 1950,
    "start_time": "2022-06-10T07:54:54.214Z"
   },
   {
    "duration": 4,
    "start_time": "2022-06-10T07:58:36.409Z"
   },
   {
    "duration": 10,
    "start_time": "2022-06-10T07:58:49.662Z"
   },
   {
    "duration": 88,
    "start_time": "2022-06-10T08:00:46.114Z"
   },
   {
    "duration": 1512,
    "start_time": "2022-06-10T14:14:53.740Z"
   },
   {
    "duration": 1116,
    "start_time": "2022-06-10T14:14:55.255Z"
   },
   {
    "duration": 21,
    "start_time": "2022-06-10T14:14:56.375Z"
   },
   {
    "duration": 485,
    "start_time": "2022-06-10T14:14:56.399Z"
   },
   {
    "duration": 20,
    "start_time": "2022-06-10T14:14:56.886Z"
   },
   {
    "duration": 2197,
    "start_time": "2022-06-10T14:14:56.908Z"
   },
   {
    "duration": 15,
    "start_time": "2022-06-10T14:14:59.106Z"
   },
   {
    "duration": 22,
    "start_time": "2022-06-10T14:14:59.122Z"
   },
   {
    "duration": 8,
    "start_time": "2022-06-10T14:14:59.145Z"
   },
   {
    "duration": 66,
    "start_time": "2022-06-10T14:14:59.155Z"
   },
   {
    "duration": 7,
    "start_time": "2022-06-10T14:14:59.222Z"
   },
   {
    "duration": 22,
    "start_time": "2022-06-10T14:14:59.230Z"
   },
   {
    "duration": 55,
    "start_time": "2022-06-10T14:14:59.254Z"
   },
   {
    "duration": 36,
    "start_time": "2022-06-10T14:14:59.310Z"
   },
   {
    "duration": 134,
    "start_time": "2022-06-10T14:14:59.348Z"
   },
   {
    "duration": 25,
    "start_time": "2022-06-10T14:14:59.483Z"
   },
   {
    "duration": 15,
    "start_time": "2022-06-10T14:14:59.509Z"
   },
   {
    "duration": 27,
    "start_time": "2022-06-10T14:14:59.525Z"
   },
   {
    "duration": 143,
    "start_time": "2022-06-10T14:14:59.554Z"
   },
   {
    "duration": 22,
    "start_time": "2022-06-10T14:14:59.700Z"
   },
   {
    "duration": 14,
    "start_time": "2022-06-10T14:14:59.723Z"
   },
   {
    "duration": 5,
    "start_time": "2022-06-10T14:14:59.738Z"
   },
   {
    "duration": 21,
    "start_time": "2022-06-10T14:14:59.744Z"
   },
   {
    "duration": 73,
    "start_time": "2022-06-10T14:14:59.766Z"
   },
   {
    "duration": 94,
    "start_time": "2022-06-10T14:14:59.841Z"
   },
   {
    "duration": 22,
    "start_time": "2022-06-10T14:14:59.937Z"
   },
   {
    "duration": 25,
    "start_time": "2022-06-10T14:14:59.965Z"
   },
   {
    "duration": 36,
    "start_time": "2022-06-10T14:14:59.993Z"
   },
   {
    "duration": 116,
    "start_time": "2022-06-10T14:15:00.031Z"
   },
   {
    "duration": 8,
    "start_time": "2022-06-10T14:15:15.325Z"
   },
   {
    "duration": 10,
    "start_time": "2022-06-10T14:15:15.987Z"
   },
   {
    "duration": 8,
    "start_time": "2022-06-10T14:15:49.229Z"
   },
   {
    "duration": 167,
    "start_time": "2022-06-10T14:16:04.023Z"
   },
   {
    "duration": 126,
    "start_time": "2022-06-10T14:43:19.983Z"
   },
   {
    "duration": 22,
    "start_time": "2022-06-10T14:43:39.080Z"
   },
   {
    "duration": 22,
    "start_time": "2022-06-10T14:43:54.781Z"
   },
   {
    "duration": 326,
    "start_time": "2022-06-10T15:02:15.888Z"
   },
   {
    "duration": 4007,
    "start_time": "2022-06-10T15:02:54.327Z"
   },
   {
    "duration": 68,
    "start_time": "2022-06-10T15:03:25.708Z"
   },
   {
    "duration": 507,
    "start_time": "2022-06-10T15:04:00.580Z"
   },
   {
    "duration": 6,
    "start_time": "2022-06-10T15:04:49.284Z"
   },
   {
    "duration": 771,
    "start_time": "2022-06-10T15:04:51.444Z"
   },
   {
    "duration": 9,
    "start_time": "2022-06-10T15:04:54.887Z"
   },
   {
    "duration": 644,
    "start_time": "2022-06-10T15:05:03.584Z"
   },
   {
    "duration": 4,
    "start_time": "2022-06-10T15:05:13.736Z"
   },
   {
    "duration": 594,
    "start_time": "2022-06-10T15:05:15.477Z"
   },
   {
    "duration": 369,
    "start_time": "2022-06-10T15:05:27.504Z"
   },
   {
    "duration": 354,
    "start_time": "2022-06-10T15:05:31.300Z"
   },
   {
    "duration": 5,
    "start_time": "2022-06-10T15:07:03.602Z"
   },
   {
    "duration": 19,
    "start_time": "2022-06-10T15:07:05.530Z"
   },
   {
    "duration": 91,
    "start_time": "2022-06-10T15:07:07.709Z"
   },
   {
    "duration": 669,
    "start_time": "2022-06-10T15:07:15.530Z"
   },
   {
    "duration": 33,
    "start_time": "2022-06-10T15:07:33.607Z"
   },
   {
    "duration": 28,
    "start_time": "2022-06-10T15:08:36.907Z"
   },
   {
    "duration": 4,
    "start_time": "2022-06-10T15:09:47.426Z"
   },
   {
    "duration": 10,
    "start_time": "2022-06-10T15:10:15.611Z"
   },
   {
    "duration": 7,
    "start_time": "2022-06-10T15:10:20.909Z"
   },
   {
    "duration": 17,
    "start_time": "2022-06-10T15:10:24.411Z"
   },
   {
    "duration": 302,
    "start_time": "2022-06-10T15:10:51.627Z"
   },
   {
    "duration": 7,
    "start_time": "2022-06-10T15:13:22.987Z"
   },
   {
    "duration": 13,
    "start_time": "2022-06-10T15:13:52.996Z"
   },
   {
    "duration": 3,
    "start_time": "2022-06-10T15:14:46.021Z"
   },
   {
    "duration": 11,
    "start_time": "2022-06-10T15:14:46.682Z"
   },
   {
    "duration": 6,
    "start_time": "2022-06-10T15:15:00.490Z"
   },
   {
    "duration": 490,
    "start_time": "2022-06-10T15:15:00.498Z"
   },
   {
    "duration": 18,
    "start_time": "2022-06-10T15:15:00.990Z"
   },
   {
    "duration": 137,
    "start_time": "2022-06-10T15:15:01.010Z"
   },
   {
    "duration": 18,
    "start_time": "2022-06-10T15:15:01.150Z"
   },
   {
    "duration": 546,
    "start_time": "2022-06-10T15:15:01.170Z"
   },
   {
    "duration": 15,
    "start_time": "2022-06-10T15:15:01.717Z"
   },
   {
    "duration": 25,
    "start_time": "2022-06-10T15:15:01.734Z"
   },
   {
    "duration": 42,
    "start_time": "2022-06-10T15:15:01.761Z"
   },
   {
    "duration": 31,
    "start_time": "2022-06-10T15:15:01.806Z"
   },
   {
    "duration": 16,
    "start_time": "2022-06-10T15:15:01.841Z"
   },
   {
    "duration": 38,
    "start_time": "2022-06-10T15:15:01.859Z"
   },
   {
    "duration": 52,
    "start_time": "2022-06-10T15:15:01.899Z"
   },
   {
    "duration": 82,
    "start_time": "2022-06-10T15:15:01.952Z"
   },
   {
    "duration": 101,
    "start_time": "2022-06-10T15:15:02.036Z"
   },
   {
    "duration": 25,
    "start_time": "2022-06-10T15:15:02.139Z"
   },
   {
    "duration": 9,
    "start_time": "2022-06-10T15:15:02.166Z"
   },
   {
    "duration": 32,
    "start_time": "2022-06-10T15:15:02.177Z"
   },
   {
    "duration": 126,
    "start_time": "2022-06-10T15:15:02.211Z"
   },
   {
    "duration": 37,
    "start_time": "2022-06-10T15:15:02.340Z"
   },
   {
    "duration": 16,
    "start_time": "2022-06-10T15:15:02.386Z"
   },
   {
    "duration": 8,
    "start_time": "2022-06-10T15:15:02.403Z"
   },
   {
    "duration": 15,
    "start_time": "2022-06-10T15:15:02.413Z"
   },
   {
    "duration": 41,
    "start_time": "2022-06-10T15:15:02.430Z"
   },
   {
    "duration": 118,
    "start_time": "2022-06-10T15:15:02.473Z"
   },
   {
    "duration": 20,
    "start_time": "2022-06-10T15:15:02.593Z"
   },
   {
    "duration": 9,
    "start_time": "2022-06-10T15:15:02.615Z"
   },
   {
    "duration": 10,
    "start_time": "2022-06-10T15:15:02.626Z"
   },
   {
    "duration": 132,
    "start_time": "2022-06-10T15:15:02.640Z"
   },
   {
    "duration": 20,
    "start_time": "2022-06-10T15:15:02.773Z"
   },
   {
    "duration": 10,
    "start_time": "2022-06-10T15:15:02.795Z"
   },
   {
    "duration": 24,
    "start_time": "2022-06-10T15:15:02.807Z"
   },
   {
    "duration": 276,
    "start_time": "2022-06-10T15:15:02.833Z"
   },
   {
    "duration": 21,
    "start_time": "2022-06-10T15:15:03.110Z"
   },
   {
    "duration": 310,
    "start_time": "2022-06-10T15:15:03.133Z"
   },
   {
    "duration": 3627,
    "start_time": "2022-06-10T15:15:03.445Z"
   },
   {
    "duration": 64,
    "start_time": "2022-06-10T15:15:07.074Z"
   },
   {
    "duration": 609,
    "start_time": "2022-06-10T15:15:07.140Z"
   },
   {
    "duration": 20,
    "start_time": "2022-06-10T15:15:07.752Z"
   },
   {
    "duration": 604,
    "start_time": "2022-06-10T15:15:07.774Z"
   },
   {
    "duration": 8,
    "start_time": "2022-06-10T15:15:08.384Z"
   },
   {
    "duration": 697,
    "start_time": "2022-06-10T15:15:08.395Z"
   },
   {
    "duration": 4,
    "start_time": "2022-06-10T15:15:09.095Z"
   },
   {
    "duration": 552,
    "start_time": "2022-06-10T15:15:09.101Z"
   },
   {
    "duration": 317,
    "start_time": "2022-06-10T15:15:09.655Z"
   },
   {
    "duration": 353,
    "start_time": "2022-06-10T15:15:09.984Z"
   },
   {
    "duration": 4,
    "start_time": "2022-06-10T15:15:10.338Z"
   },
   {
    "duration": 32,
    "start_time": "2022-06-10T15:15:10.343Z"
   },
   {
    "duration": 81,
    "start_time": "2022-06-10T15:15:10.379Z"
   },
   {
    "duration": 540,
    "start_time": "2022-06-10T15:15:10.461Z"
   },
   {
    "duration": 23,
    "start_time": "2022-06-10T15:15:11.003Z"
   },
   {
    "duration": 3,
    "start_time": "2022-06-10T15:15:11.028Z"
   },
   {
    "duration": 6,
    "start_time": "2022-06-10T15:15:11.034Z"
   },
   {
    "duration": 27,
    "start_time": "2022-06-10T15:15:11.059Z"
   },
   {
    "duration": 237,
    "start_time": "2022-06-10T15:15:11.090Z"
   },
   {
    "duration": 5,
    "start_time": "2022-06-10T15:15:17.922Z"
   },
   {
    "duration": 11,
    "start_time": "2022-06-10T15:15:19.695Z"
   },
   {
    "duration": 12,
    "start_time": "2022-06-10T15:16:58.861Z"
   },
   {
    "duration": 10,
    "start_time": "2022-06-10T15:17:24.113Z"
   },
   {
    "duration": 7,
    "start_time": "2022-06-10T15:18:10.719Z"
   },
   {
    "duration": 12,
    "start_time": "2022-06-10T15:18:15.837Z"
   },
   {
    "duration": 7,
    "start_time": "2022-06-10T15:18:25.694Z"
   },
   {
    "duration": 10,
    "start_time": "2022-06-10T15:19:04.730Z"
   },
   {
    "duration": 7,
    "start_time": "2022-06-10T15:22:58.176Z"
   },
   {
    "duration": 3,
    "start_time": "2022-06-10T15:24:05.194Z"
   },
   {
    "duration": 4,
    "start_time": "2022-06-10T15:25:54.379Z"
   },
   {
    "duration": 11,
    "start_time": "2022-06-10T15:30:07.002Z"
   },
   {
    "duration": 13,
    "start_time": "2022-06-10T15:30:21.921Z"
   },
   {
    "duration": 12,
    "start_time": "2022-06-10T15:30:27.597Z"
   },
   {
    "duration": 15,
    "start_time": "2022-06-10T15:30:43.416Z"
   },
   {
    "duration": 5,
    "start_time": "2022-06-10T15:32:03.624Z"
   },
   {
    "duration": 13,
    "start_time": "2022-06-10T15:32:10.907Z"
   },
   {
    "duration": 22,
    "start_time": "2022-06-10T15:32:28.580Z"
   },
   {
    "duration": 3,
    "start_time": "2022-06-10T15:34:31.725Z"
   },
   {
    "duration": 13,
    "start_time": "2022-06-10T15:35:47.195Z"
   },
   {
    "duration": 25,
    "start_time": "2022-06-10T16:12:06.885Z"
   },
   {
    "duration": 16,
    "start_time": "2022-06-10T16:13:53.951Z"
   },
   {
    "duration": 4,
    "start_time": "2022-06-10T16:14:58.048Z"
   },
   {
    "duration": 396,
    "start_time": "2022-06-10T16:14:58.075Z"
   },
   {
    "duration": 20,
    "start_time": "2022-06-10T16:14:58.473Z"
   },
   {
    "duration": 134,
    "start_time": "2022-06-10T16:14:58.494Z"
   },
   {
    "duration": 11,
    "start_time": "2022-06-10T16:14:58.630Z"
   },
   {
    "duration": 467,
    "start_time": "2022-06-10T16:14:58.642Z"
   },
   {
    "duration": 15,
    "start_time": "2022-06-10T16:14:59.111Z"
   },
   {
    "duration": 5,
    "start_time": "2022-06-10T16:14:59.128Z"
   },
   {
    "duration": 27,
    "start_time": "2022-06-10T16:14:59.135Z"
   },
   {
    "duration": 52,
    "start_time": "2022-06-10T16:14:59.163Z"
   },
   {
    "duration": 6,
    "start_time": "2022-06-10T16:14:59.218Z"
   },
   {
    "duration": 12,
    "start_time": "2022-06-10T16:14:59.226Z"
   },
   {
    "duration": 15,
    "start_time": "2022-06-10T16:14:59.240Z"
   },
   {
    "duration": 60,
    "start_time": "2022-06-10T16:14:59.257Z"
   },
   {
    "duration": 78,
    "start_time": "2022-06-10T16:14:59.319Z"
   },
   {
    "duration": 19,
    "start_time": "2022-06-10T16:14:59.402Z"
   },
   {
    "duration": 8,
    "start_time": "2022-06-10T16:14:59.423Z"
   },
   {
    "duration": 28,
    "start_time": "2022-06-10T16:14:59.433Z"
   },
   {
    "duration": 148,
    "start_time": "2022-06-10T16:14:59.462Z"
   },
   {
    "duration": 22,
    "start_time": "2022-06-10T16:14:59.612Z"
   },
   {
    "duration": 26,
    "start_time": "2022-06-10T16:14:59.636Z"
   },
   {
    "duration": 4,
    "start_time": "2022-06-10T16:14:59.664Z"
   },
   {
    "duration": 38,
    "start_time": "2022-06-10T16:14:59.670Z"
   },
   {
    "duration": 22,
    "start_time": "2022-06-10T16:14:59.709Z"
   },
   {
    "duration": 117,
    "start_time": "2022-06-10T16:14:59.733Z"
   },
   {
    "duration": 35,
    "start_time": "2022-06-10T16:14:59.852Z"
   },
   {
    "duration": 18,
    "start_time": "2022-06-10T16:14:59.888Z"
   },
   {
    "duration": 12,
    "start_time": "2022-06-10T16:14:59.907Z"
   },
   {
    "duration": 122,
    "start_time": "2022-06-10T16:14:59.923Z"
   },
   {
    "duration": 21,
    "start_time": "2022-06-10T16:15:00.047Z"
   },
   {
    "duration": 51,
    "start_time": "2022-06-10T16:15:00.072Z"
   },
   {
    "duration": 15,
    "start_time": "2022-06-10T16:15:00.125Z"
   },
   {
    "duration": 285,
    "start_time": "2022-06-10T16:15:00.142Z"
   },
   {
    "duration": 51,
    "start_time": "2022-06-10T16:15:00.429Z"
   },
   {
    "duration": 327,
    "start_time": "2022-06-10T16:15:00.486Z"
   },
   {
    "duration": 3967,
    "start_time": "2022-06-10T16:15:00.815Z"
   },
   {
    "duration": 76,
    "start_time": "2022-06-10T16:15:04.784Z"
   },
   {
    "duration": 582,
    "start_time": "2022-06-10T16:15:04.865Z"
   },
   {
    "duration": 11,
    "start_time": "2022-06-10T16:15:05.449Z"
   },
   {
    "duration": 633,
    "start_time": "2022-06-10T16:15:05.465Z"
   },
   {
    "duration": 7,
    "start_time": "2022-06-10T16:15:06.101Z"
   },
   {
    "duration": 599,
    "start_time": "2022-06-10T16:15:06.110Z"
   },
   {
    "duration": 4,
    "start_time": "2022-06-10T16:15:06.711Z"
   },
   {
    "duration": 855,
    "start_time": "2022-06-10T16:15:06.716Z"
   },
   {
    "duration": 367,
    "start_time": "2022-06-10T16:15:07.574Z"
   },
   {
    "duration": 372,
    "start_time": "2022-06-10T16:15:07.943Z"
   },
   {
    "duration": 4,
    "start_time": "2022-06-10T16:15:08.316Z"
   },
   {
    "duration": 16,
    "start_time": "2022-06-10T16:15:08.322Z"
   },
   {
    "duration": 72,
    "start_time": "2022-06-10T16:15:08.340Z"
   },
   {
    "duration": 426,
    "start_time": "2022-06-10T16:15:08.414Z"
   },
   {
    "duration": 45,
    "start_time": "2022-06-10T16:15:08.842Z"
   },
   {
    "duration": 4,
    "start_time": "2022-06-10T16:15:08.889Z"
   },
   {
    "duration": 13,
    "start_time": "2022-06-10T16:15:08.895Z"
   },
   {
    "duration": 33,
    "start_time": "2022-06-10T16:15:08.909Z"
   },
   {
    "duration": 369,
    "start_time": "2022-06-10T16:15:08.944Z"
   },
   {
    "duration": 9,
    "start_time": "2022-06-10T16:15:09.315Z"
   },
   {
    "duration": 68,
    "start_time": "2022-06-10T16:21:59.033Z"
   },
   {
    "duration": 13,
    "start_time": "2022-06-10T16:22:11.790Z"
   },
   {
    "duration": 7,
    "start_time": "2022-06-10T16:24:21.922Z"
   },
   {
    "duration": 21,
    "start_time": "2022-06-10T16:31:29.590Z"
   },
   {
    "duration": 2072,
    "start_time": "2022-06-10T16:32:16.751Z"
   },
   {
    "duration": 23,
    "start_time": "2022-06-10T16:35:51.683Z"
   },
   {
    "duration": 10,
    "start_time": "2022-06-10T16:37:33.878Z"
   },
   {
    "duration": 10,
    "start_time": "2022-06-10T16:37:38.097Z"
   },
   {
    "duration": 4,
    "start_time": "2022-06-10T16:37:50.134Z"
   },
   {
    "duration": 431,
    "start_time": "2022-06-10T16:37:50.157Z"
   },
   {
    "duration": 19,
    "start_time": "2022-06-10T16:37:50.590Z"
   },
   {
    "duration": 157,
    "start_time": "2022-06-10T16:37:50.610Z"
   },
   {
    "duration": 17,
    "start_time": "2022-06-10T16:37:50.769Z"
   },
   {
    "duration": 483,
    "start_time": "2022-06-10T16:37:50.787Z"
   },
   {
    "duration": 24,
    "start_time": "2022-06-10T16:37:51.280Z"
   },
   {
    "duration": 11,
    "start_time": "2022-06-10T16:37:51.306Z"
   },
   {
    "duration": 5,
    "start_time": "2022-06-10T16:37:51.319Z"
   },
   {
    "duration": 17,
    "start_time": "2022-06-10T16:37:51.326Z"
   },
   {
    "duration": 7,
    "start_time": "2022-06-10T16:37:51.345Z"
   },
   {
    "duration": 54,
    "start_time": "2022-06-10T16:37:51.353Z"
   },
   {
    "duration": 9,
    "start_time": "2022-06-10T16:37:51.409Z"
   },
   {
    "duration": 25,
    "start_time": "2022-06-10T16:37:51.420Z"
   },
   {
    "duration": 74,
    "start_time": "2022-06-10T16:37:51.446Z"
   },
   {
    "duration": 19,
    "start_time": "2022-06-10T16:37:51.522Z"
   },
   {
    "duration": 19,
    "start_time": "2022-06-10T16:37:51.543Z"
   },
   {
    "duration": 19,
    "start_time": "2022-06-10T16:37:51.570Z"
   },
   {
    "duration": 139,
    "start_time": "2022-06-10T16:37:51.592Z"
   },
   {
    "duration": 38,
    "start_time": "2022-06-10T16:37:51.732Z"
   },
   {
    "duration": 16,
    "start_time": "2022-06-10T16:37:51.772Z"
   },
   {
    "duration": 24,
    "start_time": "2022-06-10T16:37:51.790Z"
   },
   {
    "duration": 8,
    "start_time": "2022-06-10T16:37:51.816Z"
   },
   {
    "duration": 22,
    "start_time": "2022-06-10T16:37:51.825Z"
   },
   {
    "duration": 104,
    "start_time": "2022-06-10T16:37:51.848Z"
   },
   {
    "duration": 43,
    "start_time": "2022-06-10T16:37:51.953Z"
   },
   {
    "duration": 15,
    "start_time": "2022-06-10T16:37:52.000Z"
   },
   {
    "duration": 11,
    "start_time": "2022-06-10T16:37:52.016Z"
   },
   {
    "duration": 102,
    "start_time": "2022-06-10T16:37:52.031Z"
   },
   {
    "duration": 7,
    "start_time": "2022-06-10T16:37:52.135Z"
   },
   {
    "duration": 19,
    "start_time": "2022-06-10T16:37:52.144Z"
   },
   {
    "duration": 27,
    "start_time": "2022-06-10T16:37:52.168Z"
   },
   {
    "duration": 236,
    "start_time": "2022-06-10T16:37:52.197Z"
   },
   {
    "duration": 47,
    "start_time": "2022-06-10T16:37:52.435Z"
   },
   {
    "duration": 316,
    "start_time": "2022-06-10T16:37:52.483Z"
   },
   {
    "duration": 3830,
    "start_time": "2022-06-10T16:37:52.800Z"
   },
   {
    "duration": 77,
    "start_time": "2022-06-10T16:37:56.632Z"
   },
   {
    "duration": 540,
    "start_time": "2022-06-10T16:37:56.711Z"
   },
   {
    "duration": 21,
    "start_time": "2022-06-10T16:37:57.253Z"
   },
   {
    "duration": 690,
    "start_time": "2022-06-10T16:37:57.282Z"
   },
   {
    "duration": 11,
    "start_time": "2022-06-10T16:37:57.975Z"
   },
   {
    "duration": 552,
    "start_time": "2022-06-10T16:37:57.996Z"
   },
   {
    "duration": 18,
    "start_time": "2022-06-10T16:37:58.550Z"
   },
   {
    "duration": 757,
    "start_time": "2022-06-10T16:37:58.569Z"
   },
   {
    "duration": 407,
    "start_time": "2022-06-10T16:37:59.328Z"
   },
   {
    "duration": 372,
    "start_time": "2022-06-10T16:37:59.737Z"
   },
   {
    "duration": 3,
    "start_time": "2022-06-10T16:38:00.111Z"
   },
   {
    "duration": 26,
    "start_time": "2022-06-10T16:38:00.116Z"
   },
   {
    "duration": 75,
    "start_time": "2022-06-10T16:38:00.144Z"
   },
   {
    "duration": 482,
    "start_time": "2022-06-10T16:38:00.222Z"
   },
   {
    "duration": 27,
    "start_time": "2022-06-10T16:38:00.706Z"
   },
   {
    "duration": 4,
    "start_time": "2022-06-10T16:38:00.734Z"
   },
   {
    "duration": 12,
    "start_time": "2022-06-10T16:38:00.739Z"
   },
   {
    "duration": 84,
    "start_time": "2022-06-10T16:38:00.753Z"
   },
   {
    "duration": 279,
    "start_time": "2022-06-10T16:38:00.839Z"
   },
   {
    "duration": 9,
    "start_time": "2022-06-10T16:38:01.120Z"
   },
   {
    "duration": 27,
    "start_time": "2022-06-10T16:38:01.130Z"
   },
   {
    "duration": 69,
    "start_time": "2022-06-10T16:38:01.158Z"
   },
   {
    "duration": 47,
    "start_time": "2022-06-10T16:38:01.229Z"
   },
   {
    "duration": 37,
    "start_time": "2022-06-10T16:38:01.286Z"
   },
   {
    "duration": 11,
    "start_time": "2022-06-10T16:38:01.325Z"
   },
   {
    "duration": 10,
    "start_time": "2022-06-10T16:38:01.337Z"
   },
   {
    "duration": 15,
    "start_time": "2022-06-10T16:38:01.348Z"
   },
   {
    "duration": 8,
    "start_time": "2022-06-10T16:38:04.886Z"
   },
   {
    "duration": 1286,
    "start_time": "2022-06-10T16:38:13.800Z"
   },
   {
    "duration": 13308,
    "start_time": "2022-06-10T16:44:00.548Z"
   },
   {
    "duration": 508,
    "start_time": "2022-06-10T16:45:32.827Z"
   },
   {
    "duration": 227819,
    "start_time": "2022-06-10T16:46:54.887Z"
   },
   {
    "duration": 2479,
    "start_time": "2022-06-10T16:52:36.920Z"
   },
   {
    "duration": 25,
    "start_time": "2022-06-10T17:03:18.658Z"
   },
   {
    "duration": 190,
    "start_time": "2022-06-10T17:03:33.684Z"
   },
   {
    "duration": 320,
    "start_time": "2022-06-10T17:05:50.852Z"
   },
   {
    "duration": 217,
    "start_time": "2022-06-10T17:06:57.678Z"
   },
   {
    "duration": 9,
    "start_time": "2022-06-10T17:12:05.502Z"
   },
   {
    "duration": 7,
    "start_time": "2022-06-10T17:12:10.196Z"
   },
   {
    "duration": 7,
    "start_time": "2022-06-10T17:12:42.657Z"
   },
   {
    "duration": 6,
    "start_time": "2022-06-10T17:12:51.520Z"
   },
   {
    "duration": 7,
    "start_time": "2022-06-10T17:13:04.316Z"
   },
   {
    "duration": 6,
    "start_time": "2022-06-10T17:13:20.734Z"
   },
   {
    "duration": 9,
    "start_time": "2022-06-10T17:13:34.273Z"
   },
   {
    "duration": 23,
    "start_time": "2022-06-10T17:13:49.881Z"
   },
   {
    "duration": 5,
    "start_time": "2022-06-10T17:14:16.113Z"
   },
   {
    "duration": 6,
    "start_time": "2022-06-10T17:14:27.966Z"
   },
   {
    "duration": 5,
    "start_time": "2022-06-10T17:14:35.712Z"
   },
   {
    "duration": 6,
    "start_time": "2022-06-10T17:15:15.744Z"
   },
   {
    "duration": 8,
    "start_time": "2022-06-10T17:15:41.286Z"
   },
   {
    "duration": 10,
    "start_time": "2022-06-10T17:15:53.975Z"
   },
   {
    "duration": 7,
    "start_time": "2022-06-10T17:16:10.754Z"
   },
   {
    "duration": 7,
    "start_time": "2022-06-10T17:16:27.233Z"
   },
   {
    "duration": 4,
    "start_time": "2022-06-10T17:16:51.250Z"
   },
   {
    "duration": 18,
    "start_time": "2022-06-10T17:17:01.502Z"
   },
   {
    "duration": 6,
    "start_time": "2022-06-10T17:18:09.522Z"
   },
   {
    "duration": 89,
    "start_time": "2022-06-10T17:21:13.244Z"
   },
   {
    "duration": 70,
    "start_time": "2022-06-10T17:21:29.659Z"
   },
   {
    "duration": 4,
    "start_time": "2022-06-10T17:21:44.296Z"
   },
   {
    "duration": 5,
    "start_time": "2022-06-10T17:21:46.301Z"
   },
   {
    "duration": 5,
    "start_time": "2022-06-10T17:23:24.811Z"
   },
   {
    "duration": 4,
    "start_time": "2022-06-10T17:23:29.752Z"
   },
   {
    "duration": 26,
    "start_time": "2022-06-10T17:23:32.410Z"
   },
   {
    "duration": 67,
    "start_time": "2022-06-10T17:23:46.615Z"
   },
   {
    "duration": 9,
    "start_time": "2022-06-10T17:23:56.185Z"
   },
   {
    "duration": 1300,
    "start_time": "2022-06-10T17:30:40.495Z"
   },
   {
    "duration": 324,
    "start_time": "2022-06-10T17:30:41.796Z"
   },
   {
    "duration": 14,
    "start_time": "2022-06-10T17:30:42.122Z"
   },
   {
    "duration": 106,
    "start_time": "2022-06-10T17:30:42.137Z"
   },
   {
    "duration": 24,
    "start_time": "2022-06-10T17:30:42.245Z"
   },
   {
    "duration": 406,
    "start_time": "2022-06-10T17:30:42.275Z"
   },
   {
    "duration": 20,
    "start_time": "2022-06-10T17:30:42.683Z"
   },
   {
    "duration": 22,
    "start_time": "2022-06-10T17:30:42.704Z"
   },
   {
    "duration": 7,
    "start_time": "2022-06-10T17:30:42.728Z"
   },
   {
    "duration": 36,
    "start_time": "2022-06-10T17:30:42.738Z"
   },
   {
    "duration": 36,
    "start_time": "2022-06-10T17:30:42.775Z"
   },
   {
    "duration": 10,
    "start_time": "2022-06-10T17:30:42.812Z"
   },
   {
    "duration": 10,
    "start_time": "2022-06-10T17:30:42.824Z"
   },
   {
    "duration": 22,
    "start_time": "2022-06-10T17:30:42.836Z"
   },
   {
    "duration": 122,
    "start_time": "2022-06-10T17:30:42.865Z"
   },
   {
    "duration": 26,
    "start_time": "2022-06-10T17:30:42.990Z"
   },
   {
    "duration": 10,
    "start_time": "2022-06-10T17:30:43.018Z"
   },
   {
    "duration": 15,
    "start_time": "2022-06-10T17:30:43.030Z"
   },
   {
    "duration": 155,
    "start_time": "2022-06-10T17:30:43.047Z"
   },
   {
    "duration": 23,
    "start_time": "2022-06-10T17:30:43.204Z"
   },
   {
    "duration": 13,
    "start_time": "2022-06-10T17:30:43.229Z"
   },
   {
    "duration": 19,
    "start_time": "2022-06-10T17:30:43.244Z"
   },
   {
    "duration": 38,
    "start_time": "2022-06-10T17:30:43.270Z"
   },
   {
    "duration": 21,
    "start_time": "2022-06-10T17:30:43.310Z"
   },
   {
    "duration": 102,
    "start_time": "2022-06-10T17:30:43.333Z"
   },
   {
    "duration": 24,
    "start_time": "2022-06-10T17:30:43.437Z"
   },
   {
    "duration": 16,
    "start_time": "2022-06-10T17:30:43.463Z"
   },
   {
    "duration": 31,
    "start_time": "2022-06-10T17:30:43.485Z"
   },
   {
    "duration": 112,
    "start_time": "2022-06-10T17:30:43.518Z"
   },
   {
    "duration": 8,
    "start_time": "2022-06-10T17:30:43.632Z"
   },
   {
    "duration": 16,
    "start_time": "2022-06-10T17:30:43.642Z"
   },
   {
    "duration": 14,
    "start_time": "2022-06-10T17:30:43.667Z"
   },
   {
    "duration": 144,
    "start_time": "2022-06-10T17:30:43.687Z"
   },
   {
    "duration": 18,
    "start_time": "2022-06-10T17:30:43.833Z"
   },
   {
    "duration": 311,
    "start_time": "2022-06-10T17:30:43.852Z"
   },
   {
    "duration": 3657,
    "start_time": "2022-06-10T17:30:44.165Z"
   },
   {
    "duration": 77,
    "start_time": "2022-06-10T17:30:47.824Z"
   },
   {
    "duration": 499,
    "start_time": "2022-06-10T17:30:47.903Z"
   },
   {
    "duration": 4,
    "start_time": "2022-06-10T17:30:48.403Z"
   },
   {
    "duration": 728,
    "start_time": "2022-06-10T17:30:48.408Z"
   },
   {
    "duration": 4,
    "start_time": "2022-06-10T17:30:49.137Z"
   },
   {
    "duration": 593,
    "start_time": "2022-06-10T17:30:49.142Z"
   },
   {
    "duration": 4,
    "start_time": "2022-06-10T17:30:49.737Z"
   },
   {
    "duration": 589,
    "start_time": "2022-06-10T17:30:49.743Z"
   },
   {
    "duration": 318,
    "start_time": "2022-06-10T17:30:50.334Z"
   },
   {
    "duration": 381,
    "start_time": "2022-06-10T17:30:50.653Z"
   },
   {
    "duration": 3,
    "start_time": "2022-06-10T17:30:51.036Z"
   },
   {
    "duration": 31,
    "start_time": "2022-06-10T17:30:51.041Z"
   },
   {
    "duration": 74,
    "start_time": "2022-06-10T17:30:51.073Z"
   },
   {
    "duration": 549,
    "start_time": "2022-06-10T17:30:51.149Z"
   },
   {
    "duration": 24,
    "start_time": "2022-06-10T17:30:51.700Z"
   },
   {
    "duration": 3,
    "start_time": "2022-06-10T17:30:51.725Z"
   },
   {
    "duration": 8,
    "start_time": "2022-06-10T17:30:51.729Z"
   },
   {
    "duration": 30,
    "start_time": "2022-06-10T17:30:51.739Z"
   },
   {
    "duration": 262,
    "start_time": "2022-06-10T17:30:51.771Z"
   },
   {
    "duration": 9,
    "start_time": "2022-06-10T17:30:52.034Z"
   },
   {
    "duration": 25,
    "start_time": "2022-06-10T17:30:52.045Z"
   },
   {
    "duration": 37,
    "start_time": "2022-06-10T17:30:52.071Z"
   },
   {
    "duration": 26,
    "start_time": "2022-06-10T17:30:52.110Z"
   },
   {
    "duration": 14,
    "start_time": "2022-06-10T17:30:52.137Z"
   },
   {
    "duration": 3,
    "start_time": "2022-06-10T17:30:52.153Z"
   },
   {
    "duration": 45,
    "start_time": "2022-06-10T17:30:52.158Z"
   },
   {
    "duration": 6,
    "start_time": "2022-06-10T17:30:52.205Z"
   },
   {
    "duration": 5,
    "start_time": "2022-06-10T17:30:52.212Z"
   },
   {
    "duration": 879,
    "start_time": "2022-06-10T17:30:52.218Z"
   },
   {
    "duration": 3,
    "start_time": "2022-06-10T17:30:53.099Z"
   },
   {
    "duration": 632,
    "start_time": "2022-06-10T17:30:53.107Z"
   },
   {
    "duration": 3,
    "start_time": "2022-06-10T17:30:53.741Z"
   },
   {
    "duration": 2462,
    "start_time": "2022-06-10T17:30:53.745Z"
   },
   {
    "duration": 78,
    "start_time": "2022-06-10T17:30:56.211Z"
   },
   {
    "duration": 96,
    "start_time": "2022-06-10T17:30:56.292Z"
   },
   {
    "duration": 106,
    "start_time": "2022-06-10T17:30:56.395Z"
   },
   {
    "duration": 28,
    "start_time": "2022-06-10T17:30:56.503Z"
   },
   {
    "duration": 1616,
    "start_time": "2022-06-11T05:03:32.478Z"
   },
   {
    "duration": 855,
    "start_time": "2022-06-11T05:03:34.096Z"
   },
   {
    "duration": 15,
    "start_time": "2022-06-11T05:03:34.953Z"
   },
   {
    "duration": 394,
    "start_time": "2022-06-11T05:03:34.970Z"
   },
   {
    "duration": 10,
    "start_time": "2022-06-11T05:03:35.366Z"
   },
   {
    "duration": 1813,
    "start_time": "2022-06-11T05:03:35.378Z"
   },
   {
    "duration": 15,
    "start_time": "2022-06-11T05:03:37.193Z"
   },
   {
    "duration": 13,
    "start_time": "2022-06-11T05:03:37.210Z"
   },
   {
    "duration": 18,
    "start_time": "2022-06-11T05:03:37.224Z"
   },
   {
    "duration": 51,
    "start_time": "2022-06-11T05:03:37.244Z"
   },
   {
    "duration": 18,
    "start_time": "2022-06-11T05:03:37.296Z"
   },
   {
    "duration": 29,
    "start_time": "2022-06-11T05:03:37.316Z"
   },
   {
    "duration": 31,
    "start_time": "2022-06-11T05:03:37.347Z"
   },
   {
    "duration": 43,
    "start_time": "2022-06-11T05:03:37.380Z"
   },
   {
    "duration": 109,
    "start_time": "2022-06-11T05:03:37.425Z"
   },
   {
    "duration": 18,
    "start_time": "2022-06-11T05:03:37.536Z"
   },
   {
    "duration": 10,
    "start_time": "2022-06-11T05:03:37.564Z"
   },
   {
    "duration": 32,
    "start_time": "2022-06-11T05:03:37.576Z"
   },
   {
    "duration": 127,
    "start_time": "2022-06-11T05:03:37.610Z"
   },
   {
    "duration": 26,
    "start_time": "2022-06-11T05:03:37.738Z"
   },
   {
    "duration": 23,
    "start_time": "2022-06-11T05:03:37.766Z"
   },
   {
    "duration": 12,
    "start_time": "2022-06-11T05:03:37.791Z"
   },
   {
    "duration": 27,
    "start_time": "2022-06-11T05:03:37.805Z"
   },
   {
    "duration": 39,
    "start_time": "2022-06-11T05:03:37.833Z"
   },
   {
    "duration": 119,
    "start_time": "2022-06-11T05:03:37.874Z"
   },
   {
    "duration": 18,
    "start_time": "2022-06-11T05:03:37.995Z"
   },
   {
    "duration": 13,
    "start_time": "2022-06-11T05:03:38.014Z"
   },
   {
    "duration": 16,
    "start_time": "2022-06-11T05:03:38.031Z"
   },
   {
    "duration": 111,
    "start_time": "2022-06-11T05:03:38.049Z"
   },
   {
    "duration": 7,
    "start_time": "2022-06-11T05:03:38.165Z"
   },
   {
    "duration": 25,
    "start_time": "2022-06-11T05:03:38.174Z"
   },
   {
    "duration": 22,
    "start_time": "2022-06-11T05:03:38.201Z"
   },
   {
    "duration": 151,
    "start_time": "2022-06-11T05:03:38.224Z"
   },
   {
    "duration": 20,
    "start_time": "2022-06-11T05:03:38.376Z"
   },
   {
    "duration": 296,
    "start_time": "2022-06-11T05:03:38.397Z"
   },
   {
    "duration": 3302,
    "start_time": "2022-06-11T05:03:38.695Z"
   },
   {
    "duration": 81,
    "start_time": "2022-06-11T05:03:41.999Z"
   },
   {
    "duration": 443,
    "start_time": "2022-06-11T05:03:42.082Z"
   },
   {
    "duration": 4,
    "start_time": "2022-06-11T05:03:42.527Z"
   },
   {
    "duration": 656,
    "start_time": "2022-06-11T05:03:42.532Z"
   },
   {
    "duration": 4,
    "start_time": "2022-06-11T05:03:43.190Z"
   },
   {
    "duration": 572,
    "start_time": "2022-06-11T05:03:43.195Z"
   },
   {
    "duration": 4,
    "start_time": "2022-06-11T05:03:43.769Z"
   },
   {
    "duration": 542,
    "start_time": "2022-06-11T05:03:43.775Z"
   },
   {
    "duration": 304,
    "start_time": "2022-06-11T05:03:44.318Z"
   },
   {
    "duration": 322,
    "start_time": "2022-06-11T05:03:44.624Z"
   },
   {
    "duration": 3,
    "start_time": "2022-06-11T05:03:44.948Z"
   },
   {
    "duration": 27,
    "start_time": "2022-06-11T05:03:44.953Z"
   },
   {
    "duration": 62,
    "start_time": "2022-06-11T05:03:44.982Z"
   },
   {
    "duration": 470,
    "start_time": "2022-06-11T05:03:45.064Z"
   },
   {
    "duration": 31,
    "start_time": "2022-06-11T05:03:45.536Z"
   },
   {
    "duration": 3,
    "start_time": "2022-06-11T05:03:45.569Z"
   },
   {
    "duration": 7,
    "start_time": "2022-06-11T05:03:45.573Z"
   },
   {
    "duration": 18,
    "start_time": "2022-06-11T05:03:45.582Z"
   },
   {
    "duration": 233,
    "start_time": "2022-06-11T05:03:45.602Z"
   },
   {
    "duration": 10,
    "start_time": "2022-06-11T05:03:45.836Z"
   },
   {
    "duration": 17,
    "start_time": "2022-06-11T05:03:45.848Z"
   },
   {
    "duration": 9,
    "start_time": "2022-06-11T05:03:45.866Z"
   },
   {
    "duration": 10,
    "start_time": "2022-06-11T05:03:45.877Z"
   },
   {
    "duration": 16,
    "start_time": "2022-06-11T05:03:45.888Z"
   },
   {
    "duration": 14,
    "start_time": "2022-06-11T05:03:45.906Z"
   },
   {
    "duration": 3,
    "start_time": "2022-06-11T05:03:45.921Z"
   },
   {
    "duration": 16,
    "start_time": "2022-06-11T05:03:45.926Z"
   },
   {
    "duration": 28,
    "start_time": "2022-06-11T05:03:45.944Z"
   },
   {
    "duration": 4,
    "start_time": "2022-06-11T05:14:06.152Z"
   },
   {
    "duration": 3,
    "start_time": "2022-06-11T05:14:09.003Z"
   },
   {
    "duration": 4,
    "start_time": "2022-06-11T05:14:14.745Z"
   },
   {
    "duration": 8,
    "start_time": "2022-06-11T05:14:16.325Z"
   },
   {
    "duration": 4,
    "start_time": "2022-06-11T05:14:40.145Z"
   },
   {
    "duration": 6,
    "start_time": "2022-06-11T05:15:00.014Z"
   },
   {
    "duration": 5,
    "start_time": "2022-06-11T05:15:07.778Z"
   },
   {
    "duration": 28,
    "start_time": "2022-06-11T05:15:09.674Z"
   },
   {
    "duration": 4,
    "start_time": "2022-06-11T05:15:31.361Z"
   },
   {
    "duration": 26,
    "start_time": "2022-06-11T05:16:06.198Z"
   },
   {
    "duration": 49,
    "start_time": "2022-06-11T05:16:44.873Z"
   },
   {
    "duration": 47,
    "start_time": "2022-06-11T05:17:21.904Z"
   },
   {
    "duration": 68,
    "start_time": "2022-06-11T05:18:13.921Z"
   },
   {
    "duration": 5,
    "start_time": "2022-06-11T05:18:55.252Z"
   },
   {
    "duration": 50,
    "start_time": "2022-06-11T05:20:54.292Z"
   },
   {
    "duration": 9,
    "start_time": "2022-06-11T05:21:35.021Z"
   },
   {
    "duration": 1457,
    "start_time": "2022-06-11T06:41:53.228Z"
   },
   {
    "duration": 878,
    "start_time": "2022-06-11T06:41:54.687Z"
   },
   {
    "duration": 15,
    "start_time": "2022-06-11T06:41:55.567Z"
   },
   {
    "duration": 397,
    "start_time": "2022-06-11T06:41:55.584Z"
   },
   {
    "duration": 11,
    "start_time": "2022-06-11T06:41:55.983Z"
   },
   {
    "duration": 1758,
    "start_time": "2022-06-11T06:41:55.996Z"
   },
   {
    "duration": 16,
    "start_time": "2022-06-11T06:41:57.755Z"
   },
   {
    "duration": 7,
    "start_time": "2022-06-11T06:41:57.772Z"
   },
   {
    "duration": 7,
    "start_time": "2022-06-11T06:41:57.780Z"
   },
   {
    "duration": 21,
    "start_time": "2022-06-11T06:41:57.790Z"
   },
   {
    "duration": 7,
    "start_time": "2022-06-11T06:41:57.812Z"
   },
   {
    "duration": 34,
    "start_time": "2022-06-11T06:41:57.821Z"
   },
   {
    "duration": 21,
    "start_time": "2022-06-11T06:41:57.857Z"
   },
   {
    "duration": 29,
    "start_time": "2022-06-11T06:41:57.879Z"
   },
   {
    "duration": 88,
    "start_time": "2022-06-11T06:41:57.910Z"
   },
   {
    "duration": 18,
    "start_time": "2022-06-11T06:41:57.999Z"
   },
   {
    "duration": 9,
    "start_time": "2022-06-11T06:41:58.019Z"
   },
   {
    "duration": 29,
    "start_time": "2022-06-11T06:41:58.029Z"
   },
   {
    "duration": 116,
    "start_time": "2022-06-11T06:41:58.060Z"
   },
   {
    "duration": 21,
    "start_time": "2022-06-11T06:41:58.178Z"
   },
   {
    "duration": 13,
    "start_time": "2022-06-11T06:41:58.201Z"
   },
   {
    "duration": 4,
    "start_time": "2022-06-11T06:41:58.216Z"
   },
   {
    "duration": 31,
    "start_time": "2022-06-11T06:41:58.221Z"
   },
   {
    "duration": 25,
    "start_time": "2022-06-11T06:41:58.253Z"
   },
   {
    "duration": 124,
    "start_time": "2022-06-11T06:41:58.279Z"
   },
   {
    "duration": 19,
    "start_time": "2022-06-11T06:41:58.404Z"
   },
   {
    "duration": 11,
    "start_time": "2022-06-11T06:41:58.425Z"
   },
   {
    "duration": 9,
    "start_time": "2022-06-11T06:41:58.453Z"
   },
   {
    "duration": 116,
    "start_time": "2022-06-11T06:41:58.463Z"
   },
   {
    "duration": 8,
    "start_time": "2022-06-11T06:41:58.580Z"
   },
   {
    "duration": 23,
    "start_time": "2022-06-11T06:41:58.590Z"
   },
   {
    "duration": 14,
    "start_time": "2022-06-11T06:41:58.615Z"
   },
   {
    "duration": 141,
    "start_time": "2022-06-11T06:41:58.630Z"
   },
   {
    "duration": 20,
    "start_time": "2022-06-11T06:41:58.773Z"
   },
   {
    "duration": 278,
    "start_time": "2022-06-11T06:41:58.794Z"
   },
   {
    "duration": 3338,
    "start_time": "2022-06-11T06:41:59.074Z"
   },
   {
    "duration": 71,
    "start_time": "2022-06-11T06:42:02.414Z"
   },
   {
    "duration": 458,
    "start_time": "2022-06-11T06:42:02.487Z"
   },
   {
    "duration": 6,
    "start_time": "2022-06-11T06:42:02.947Z"
   },
   {
    "duration": 642,
    "start_time": "2022-06-11T06:42:02.954Z"
   },
   {
    "duration": 4,
    "start_time": "2022-06-11T06:42:03.598Z"
   },
   {
    "duration": 552,
    "start_time": "2022-06-11T06:42:03.603Z"
   },
   {
    "duration": 4,
    "start_time": "2022-06-11T06:42:04.157Z"
   },
   {
    "duration": 513,
    "start_time": "2022-06-11T06:42:04.162Z"
   },
   {
    "duration": 289,
    "start_time": "2022-06-11T06:42:04.676Z"
   },
   {
    "duration": 374,
    "start_time": "2022-06-11T06:42:04.967Z"
   },
   {
    "duration": 4,
    "start_time": "2022-06-11T06:42:05.351Z"
   },
   {
    "duration": 22,
    "start_time": "2022-06-11T06:42:05.356Z"
   },
   {
    "duration": 62,
    "start_time": "2022-06-11T06:42:05.380Z"
   },
   {
    "duration": 495,
    "start_time": "2022-06-11T06:42:05.451Z"
   },
   {
    "duration": 26,
    "start_time": "2022-06-11T06:42:05.948Z"
   },
   {
    "duration": 3,
    "start_time": "2022-06-11T06:42:05.975Z"
   },
   {
    "duration": 10,
    "start_time": "2022-06-11T06:42:05.980Z"
   },
   {
    "duration": 23,
    "start_time": "2022-06-11T06:42:05.992Z"
   },
   {
    "duration": 240,
    "start_time": "2022-06-11T06:42:06.016Z"
   },
   {
    "duration": 8,
    "start_time": "2022-06-11T06:42:06.258Z"
   },
   {
    "duration": 6,
    "start_time": "2022-06-11T06:43:12.473Z"
   },
   {
    "duration": 5,
    "start_time": "2022-06-11T06:43:29.419Z"
   },
   {
    "duration": 4,
    "start_time": "2022-06-11T06:43:55.064Z"
   },
   {
    "duration": 12,
    "start_time": "2022-06-11T06:43:57.791Z"
   },
   {
    "duration": 18,
    "start_time": "2022-06-11T06:44:35.239Z"
   },
   {
    "duration": 3,
    "start_time": "2022-06-11T06:44:43.807Z"
   },
   {
    "duration": 15,
    "start_time": "2022-06-11T06:44:45.249Z"
   },
   {
    "duration": 15,
    "start_time": "2022-06-11T06:45:00.527Z"
   },
   {
    "duration": 3,
    "start_time": "2022-06-11T06:45:07.321Z"
   },
   {
    "duration": 3,
    "start_time": "2022-06-11T06:45:08.410Z"
   },
   {
    "duration": 3,
    "start_time": "2022-06-11T06:45:15.897Z"
   },
   {
    "duration": 2,
    "start_time": "2022-06-11T06:45:18.807Z"
   },
   {
    "duration": 930,
    "start_time": "2022-06-11T06:45:23.622Z"
   },
   {
    "duration": 10418,
    "start_time": "2022-06-11T06:45:56.092Z"
   },
   {
    "duration": 602,
    "start_time": "2022-06-11T06:47:20.650Z"
   },
   {
    "duration": 182998,
    "start_time": "2022-06-11T06:47:46.699Z"
   },
   {
    "duration": 15197,
    "start_time": "2022-06-11T06:55:24.950Z"
   },
   {
    "duration": 28,
    "start_time": "2022-06-11T06:56:13.125Z"
   },
   {
    "duration": 6,
    "start_time": "2022-06-11T06:57:14.129Z"
   },
   {
    "duration": 4,
    "start_time": "2022-06-11T06:57:58.503Z"
   },
   {
    "duration": 9,
    "start_time": "2022-06-11T06:57:59.736Z"
   },
   {
    "duration": 48,
    "start_time": "2022-06-11T07:03:30.022Z"
   }
  ],
  "kernelspec": {
   "display_name": "Python 3 (ipykernel)",
   "language": "python",
   "name": "python3"
  },
  "language_info": {
   "codemirror_mode": {
    "name": "ipython",
    "version": 3
   },
   "file_extension": ".py",
   "mimetype": "text/x-python",
   "name": "python",
   "nbconvert_exporter": "python",
   "pygments_lexer": "ipython3",
   "version": "3.9.7"
  },
  "toc": {
   "base_numbering": 1,
   "nav_menu": {},
   "number_sections": true,
   "sideBar": true,
   "skip_h1_title": true,
   "title_cell": "Table of Contents",
   "title_sidebar": "Contents",
   "toc_cell": true,
   "toc_position": {
    "height": "calc(100% - 180px)",
    "left": "10px",
    "top": "150px",
    "width": "165.391px"
   },
   "toc_section_display": true,
   "toc_window_display": true
  }
 },
 "nbformat": 4,
 "nbformat_minor": 5
}
