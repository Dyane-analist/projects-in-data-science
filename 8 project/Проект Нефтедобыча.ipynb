{
 "cells": [
  {
   "cell_type": "markdown",
   "metadata": {},
   "source": [
    "# Выбор локации для скважины"
   ]
  },
  {
   "cell_type": "markdown",
   "metadata": {},
   "source": [
    "**Цель проекта**\n",
    "\n",
    "Проанализировать данные по исследованным месторождениям нефти в трех регионах и построить модель машинного обучения, которая поможет определить регион, где добыча принесёт наибольшую прибыль, а также проанализировать возможную прибыль и риски добычи в регионах. После оценки рисков рассмотреть лишь те регионы, в которых вероятность убытков составляет меньше 2.5%, и выбрать регион с наибольшей средней прибылью среди них.\n",
    "\n",
    "**Данные для анализа**\n",
    "\n",
    "На анализ переданы данные о пробах нефти в трёх регионах с характеристиками для каждой скважины в каждом регионе по качеству нефти и объемам ее запасов. В каждой выборке по каждому из трех регионов по 100 000 местрождений.\n",
    "\n",
    "**Шаги (план) проекта**\n",
    "\n",
    "1.  Загрузка и подготовка данных\n",
    "2.  Обучение и проверка модели\n",
    "3.  Подготовка к расчёту прибыли\n",
    "4.  Расчёт прибыли и рисков\n",
    "5.  Общий вывод"
   ]
  },
  {
   "cell_type": "markdown",
   "metadata": {},
   "source": [
    "## Загрузка и подготовка данных"
   ]
  },
  {
   "cell_type": "markdown",
   "metadata": {},
   "source": [
    "Импортируем необходимые библиотеки для работы с данными в текущем проекте."
   ]
  },
  {
   "cell_type": "code",
   "execution_count": 1,
   "metadata": {},
   "outputs": [],
   "source": [
    "import pandas as pd # импорт библиотеки pandas\n",
    "import numpy as np # импорт библиотеки numpy\n",
    "from sklearn.linear_model import LinearRegression # импорт алгоритма \"линейная регрессия\" из библиотеки sklearn\n",
    "from sklearn.metrics import mean_squared_error # импорт функции для расчета MSE\n",
    "from sklearn.preprocessing import StandardScaler # импорт структуры StandardScaler из библиотеки sklearn для стандартизации данных\n",
    "from sklearn.preprocessing import Normalizer # импорт структуры Normalizer из библиотеки sklearn для масштабирования данных\n",
    "from sklearn.model_selection import train_test_split # импорт функции train_test_split из библиотеки sklearn для деления выборки\n",
    "from numpy.random import RandomState # импорт объекта RandomState() из модуля numpy.random\n",
    "import sklearn.metrics as metrics # импорт библиотеки metrics\n",
    "import matplotlib.pyplot as plt # импорт библиотеки matplotlib для построения диаграмм"
   ]
  },
  {
   "cell_type": "markdown",
   "metadata": {},
   "source": [
    "### Регион 1"
   ]
  },
  {
   "cell_type": "markdown",
   "metadata": {},
   "source": [
    "Откроем таблицу с данными, выведем первые 10 строк."
   ]
  },
  {
   "cell_type": "code",
   "execution_count": 2,
   "metadata": {
    "scrolled": false
   },
   "outputs": [
    {
     "data": {
      "text/html": [
       "<div>\n",
       "<style scoped>\n",
       "    .dataframe tbody tr th:only-of-type {\n",
       "        vertical-align: middle;\n",
       "    }\n",
       "\n",
       "    .dataframe tbody tr th {\n",
       "        vertical-align: top;\n",
       "    }\n",
       "\n",
       "    .dataframe thead th {\n",
       "        text-align: right;\n",
       "    }\n",
       "</style>\n",
       "<table border=\"1\" class=\"dataframe\">\n",
       "  <thead>\n",
       "    <tr style=\"text-align: right;\">\n",
       "      <th></th>\n",
       "      <th>id</th>\n",
       "      <th>f0</th>\n",
       "      <th>f1</th>\n",
       "      <th>f2</th>\n",
       "      <th>product</th>\n",
       "    </tr>\n",
       "  </thead>\n",
       "  <tbody>\n",
       "    <tr>\n",
       "      <th>0</th>\n",
       "      <td>txEyH</td>\n",
       "      <td>0.705745</td>\n",
       "      <td>-0.497823</td>\n",
       "      <td>1.221170</td>\n",
       "      <td>105.280062</td>\n",
       "    </tr>\n",
       "    <tr>\n",
       "      <th>1</th>\n",
       "      <td>2acmU</td>\n",
       "      <td>1.334711</td>\n",
       "      <td>-0.340164</td>\n",
       "      <td>4.365080</td>\n",
       "      <td>73.037750</td>\n",
       "    </tr>\n",
       "    <tr>\n",
       "      <th>2</th>\n",
       "      <td>409Wp</td>\n",
       "      <td>1.022732</td>\n",
       "      <td>0.151990</td>\n",
       "      <td>1.419926</td>\n",
       "      <td>85.265647</td>\n",
       "    </tr>\n",
       "    <tr>\n",
       "      <th>3</th>\n",
       "      <td>iJLyR</td>\n",
       "      <td>-0.032172</td>\n",
       "      <td>0.139033</td>\n",
       "      <td>2.978566</td>\n",
       "      <td>168.620776</td>\n",
       "    </tr>\n",
       "    <tr>\n",
       "      <th>4</th>\n",
       "      <td>Xdl7t</td>\n",
       "      <td>1.988431</td>\n",
       "      <td>0.155413</td>\n",
       "      <td>4.751769</td>\n",
       "      <td>154.036647</td>\n",
       "    </tr>\n",
       "    <tr>\n",
       "      <th>5</th>\n",
       "      <td>wX4Hy</td>\n",
       "      <td>0.969570</td>\n",
       "      <td>0.489775</td>\n",
       "      <td>-0.735383</td>\n",
       "      <td>64.741541</td>\n",
       "    </tr>\n",
       "    <tr>\n",
       "      <th>6</th>\n",
       "      <td>tL6pL</td>\n",
       "      <td>0.645075</td>\n",
       "      <td>0.530656</td>\n",
       "      <td>1.780266</td>\n",
       "      <td>49.055285</td>\n",
       "    </tr>\n",
       "    <tr>\n",
       "      <th>7</th>\n",
       "      <td>BYPU6</td>\n",
       "      <td>-0.400648</td>\n",
       "      <td>0.808337</td>\n",
       "      <td>-5.624670</td>\n",
       "      <td>72.943292</td>\n",
       "    </tr>\n",
       "    <tr>\n",
       "      <th>8</th>\n",
       "      <td>j9Oui</td>\n",
       "      <td>0.643105</td>\n",
       "      <td>-0.551583</td>\n",
       "      <td>2.372141</td>\n",
       "      <td>113.356160</td>\n",
       "    </tr>\n",
       "    <tr>\n",
       "      <th>9</th>\n",
       "      <td>OLuZU</td>\n",
       "      <td>2.173381</td>\n",
       "      <td>0.563698</td>\n",
       "      <td>9.441852</td>\n",
       "      <td>127.910945</td>\n",
       "    </tr>\n",
       "  </tbody>\n",
       "</table>\n",
       "</div>"
      ],
      "text/plain": [
       "      id        f0        f1        f2     product\n",
       "0  txEyH  0.705745 -0.497823  1.221170  105.280062\n",
       "1  2acmU  1.334711 -0.340164  4.365080   73.037750\n",
       "2  409Wp  1.022732  0.151990  1.419926   85.265647\n",
       "3  iJLyR -0.032172  0.139033  2.978566  168.620776\n",
       "4  Xdl7t  1.988431  0.155413  4.751769  154.036647\n",
       "5  wX4Hy  0.969570  0.489775 -0.735383   64.741541\n",
       "6  tL6pL  0.645075  0.530656  1.780266   49.055285\n",
       "7  BYPU6 -0.400648  0.808337 -5.624670   72.943292\n",
       "8  j9Oui  0.643105 -0.551583  2.372141  113.356160\n",
       "9  OLuZU  2.173381  0.563698  9.441852  127.910945"
      ]
     },
     "execution_count": 2,
     "metadata": {},
     "output_type": "execute_result"
    }
   ],
   "source": [
    "# чтение первого файла с данными и сохранение его в переменную df_1\n",
    "df_1 = pd.read_csv('/datasets/geo_data_0.csv')\n",
    "# вывод первых 10 строк\n",
    "df_1.head(10)"
   ]
  },
  {
   "cell_type": "markdown",
   "metadata": {},
   "source": [
    "Изучим общую информацию о данных."
   ]
  },
  {
   "cell_type": "code",
   "execution_count": 3,
   "metadata": {},
   "outputs": [
    {
     "name": "stdout",
     "output_type": "stream",
     "text": [
      "<class 'pandas.core.frame.DataFrame'>\n",
      "RangeIndex: 100000 entries, 0 to 99999\n",
      "Data columns (total 5 columns):\n",
      " #   Column   Non-Null Count   Dtype  \n",
      "---  ------   --------------   -----  \n",
      " 0   id       100000 non-null  object \n",
      " 1   f0       100000 non-null  float64\n",
      " 2   f1       100000 non-null  float64\n",
      " 3   f2       100000 non-null  float64\n",
      " 4   product  100000 non-null  float64\n",
      "dtypes: float64(4), object(1)\n",
      "memory usage: 3.8+ MB\n"
     ]
    }
   ],
   "source": [
    "df_1.info() # получение общей информации о структуре датафрейма"
   ]
  },
  {
   "cell_type": "markdown",
   "metadata": {},
   "source": [
    "Таблица содержит 5 столбцов, 100000 строк.\n",
    "\n",
    "Переименование столбцов не требуется.\n",
    "\n",
    "Пропусков в данных нет.\n",
    "\n",
    "Требуется изменение типов данных float64 на float32 для экономии памяти.\n",
    "\n",
    "Требуется проверка данных на явные дубликаты.\n",
    "\n",
    "Требуется анализ данных в колонках на предмет корректности и адекватности."
   ]
  },
  {
   "cell_type": "markdown",
   "metadata": {},
   "source": [
    "**Изменение типов данных**"
   ]
  },
  {
   "cell_type": "code",
   "execution_count": 4,
   "metadata": {},
   "outputs": [],
   "source": [
    "# изменение типов данных\n",
    "df_1[df_1.select_dtypes(np.float64).columns] = df_1.select_dtypes(np.float64).astype(np.float32)"
   ]
  },
  {
   "cell_type": "markdown",
   "metadata": {},
   "source": [
    "Проверим корректность изменения типов данных."
   ]
  },
  {
   "cell_type": "code",
   "execution_count": 5,
   "metadata": {
    "scrolled": true
   },
   "outputs": [
    {
     "name": "stdout",
     "output_type": "stream",
     "text": [
      "<class 'pandas.core.frame.DataFrame'>\n",
      "RangeIndex: 100000 entries, 0 to 99999\n",
      "Data columns (total 5 columns):\n",
      " #   Column   Non-Null Count   Dtype  \n",
      "---  ------   --------------   -----  \n",
      " 0   id       100000 non-null  object \n",
      " 1   f0       100000 non-null  float32\n",
      " 2   f1       100000 non-null  float32\n",
      " 3   f2       100000 non-null  float32\n",
      " 4   product  100000 non-null  float32\n",
      "dtypes: float32(4), object(1)\n",
      "memory usage: 2.3+ MB\n"
     ]
    }
   ],
   "source": [
    "df_1.info() # получение общей информации о структуре датафрейма"
   ]
  },
  {
   "cell_type": "markdown",
   "metadata": {},
   "source": [
    "Изменение типов данных проведено корректно."
   ]
  },
  {
   "cell_type": "markdown",
   "metadata": {},
   "source": [
    "**Дубликаты**"
   ]
  },
  {
   "cell_type": "markdown",
   "metadata": {},
   "source": [
    "Проверим данные датафрейма на наличие явных дубликатов."
   ]
  },
  {
   "cell_type": "code",
   "execution_count": 6,
   "metadata": {
    "scrolled": true
   },
   "outputs": [
    {
     "data": {
      "text/plain": [
       "0"
      ]
     },
     "execution_count": 6,
     "metadata": {},
     "output_type": "execute_result"
    }
   ],
   "source": [
    "# подстчет строк - явных дубликатов\n",
    "df_1.duplicated().sum()"
   ]
  },
  {
   "cell_type": "markdown",
   "metadata": {},
   "source": [
    "Проверим данные датафрейма на наличие неявных дубликатов, удалив id."
   ]
  },
  {
   "cell_type": "code",
   "execution_count": 7,
   "metadata": {
    "scrolled": true
   },
   "outputs": [
    {
     "data": {
      "text/plain": [
       "0"
      ]
     },
     "execution_count": 7,
     "metadata": {},
     "output_type": "execute_result"
    }
   ],
   "source": [
    "# подстчет строк - неявных дубликатов\n",
    "df_1.drop(['id'], axis=1).duplicated().sum()"
   ]
  },
  {
   "cell_type": "markdown",
   "metadata": {},
   "source": [
    "Неявных дубликатов также нет."
   ]
  },
  {
   "cell_type": "markdown",
   "metadata": {},
   "source": [
    "Явных дубликатов нет."
   ]
  },
  {
   "cell_type": "markdown",
   "metadata": {},
   "source": [
    "**Адекватность данных**"
   ]
  },
  {
   "cell_type": "code",
   "execution_count": 8,
   "metadata": {},
   "outputs": [
    {
     "data": {
      "text/html": [
       "<div>\n",
       "<style scoped>\n",
       "    .dataframe tbody tr th:only-of-type {\n",
       "        vertical-align: middle;\n",
       "    }\n",
       "\n",
       "    .dataframe tbody tr th {\n",
       "        vertical-align: top;\n",
       "    }\n",
       "\n",
       "    .dataframe thead th {\n",
       "        text-align: right;\n",
       "    }\n",
       "</style>\n",
       "<table border=\"1\" class=\"dataframe\">\n",
       "  <thead>\n",
       "    <tr style=\"text-align: right;\">\n",
       "      <th></th>\n",
       "      <th>f0</th>\n",
       "      <th>f1</th>\n",
       "      <th>f2</th>\n",
       "      <th>product</th>\n",
       "    </tr>\n",
       "  </thead>\n",
       "  <tbody>\n",
       "    <tr>\n",
       "      <th>count</th>\n",
       "      <td>100000.00</td>\n",
       "      <td>100000.00</td>\n",
       "      <td>100000.00</td>\n",
       "      <td>100000.00</td>\n",
       "    </tr>\n",
       "    <tr>\n",
       "      <th>mean</th>\n",
       "      <td>0.50</td>\n",
       "      <td>0.25</td>\n",
       "      <td>2.50</td>\n",
       "      <td>92.50</td>\n",
       "    </tr>\n",
       "    <tr>\n",
       "      <th>std</th>\n",
       "      <td>0.87</td>\n",
       "      <td>0.50</td>\n",
       "      <td>3.25</td>\n",
       "      <td>44.29</td>\n",
       "    </tr>\n",
       "    <tr>\n",
       "      <th>min</th>\n",
       "      <td>-1.41</td>\n",
       "      <td>-0.85</td>\n",
       "      <td>-12.09</td>\n",
       "      <td>0.00</td>\n",
       "    </tr>\n",
       "    <tr>\n",
       "      <th>25%</th>\n",
       "      <td>-0.07</td>\n",
       "      <td>-0.20</td>\n",
       "      <td>0.29</td>\n",
       "      <td>56.50</td>\n",
       "    </tr>\n",
       "    <tr>\n",
       "      <th>50%</th>\n",
       "      <td>0.50</td>\n",
       "      <td>0.25</td>\n",
       "      <td>2.52</td>\n",
       "      <td>91.85</td>\n",
       "    </tr>\n",
       "    <tr>\n",
       "      <th>75%</th>\n",
       "      <td>1.07</td>\n",
       "      <td>0.70</td>\n",
       "      <td>4.72</td>\n",
       "      <td>128.56</td>\n",
       "    </tr>\n",
       "    <tr>\n",
       "      <th>max</th>\n",
       "      <td>2.36</td>\n",
       "      <td>1.34</td>\n",
       "      <td>16.00</td>\n",
       "      <td>185.36</td>\n",
       "    </tr>\n",
       "  </tbody>\n",
       "</table>\n",
       "</div>"
      ],
      "text/plain": [
       "              f0         f1         f2    product\n",
       "count  100000.00  100000.00  100000.00  100000.00\n",
       "mean        0.50       0.25       2.50      92.50\n",
       "std         0.87       0.50       3.25      44.29\n",
       "min        -1.41      -0.85     -12.09       0.00\n",
       "25%        -0.07      -0.20       0.29      56.50\n",
       "50%         0.50       0.25       2.52      91.85\n",
       "75%         1.07       0.70       4.72     128.56\n",
       "max         2.36       1.34      16.00     185.36"
      ]
     },
     "execution_count": 8,
     "metadata": {},
     "output_type": "execute_result"
    }
   ],
   "source": [
    "# вывод статистических данных о числовых колонках датафрейма\n",
    "df_1.describe().round(2)"
   ]
  },
  {
   "cell_type": "markdown",
   "metadata": {},
   "source": [
    "Данные адекватны, значения находятся в диапазонах, соответствующих масштабам. Проанализируем распределение данных внутри диапазонов, построив диаграммы размаха по признакам \"f0\", \"f1\", \"f2\" на одной диаграмме (данные имеют соотносимый масштаб) и \"product\" на другой диаграмме (масштаб в несколько раз больше)."
   ]
  },
  {
   "cell_type": "code",
   "execution_count": 9,
   "metadata": {
    "scrolled": true
   },
   "outputs": [
    {
     "data": {
      "text/plain": [
       "Text(0, 0.5, 'Values')"
      ]
     },
     "execution_count": 9,
     "metadata": {},
     "output_type": "execute_result"
    },
    {
     "data": {
      "image/png": "[encoded data removed]",
      "text/plain": [
       "<Figure size 504x360 with 1 Axes>"
      ]
     },
     "metadata": {
      "needs_background": "light"
     },
     "output_type": "display_data"
    }
   ],
   "source": [
    "# построение диаграммы размаха по признакам \"f0\", \"f1\", \"f2\"\n",
    "df_1.boxplot(column=['f0','f1', 'f2'], figsize=(7, 5))\n",
    "plt.title('Box plots of f0, f1, f2')\n",
    "plt.ylabel('Values')"
   ]
  },
  {
   "cell_type": "markdown",
   "metadata": {},
   "source": [
    "Значения признака \"f2\" имеют много выбросов с обеих сторон \"усов\", значения признаков \"f0\" и \"f1\" существенных выбросов не имеют."
   ]
  },
  {
   "cell_type": "markdown",
   "metadata": {},
   "source": [
    "Проверим распределение значений признаков, построив гистограмму."
   ]
  },
  {
   "cell_type": "code",
   "execution_count": 10,
   "metadata": {
    "scrolled": true
   },
   "outputs": [
    {
     "data": {
      "image/png": "[encoded data removed]",
      "text/plain": [
       "<Figure size 432x288 with 1 Axes>"
      ]
     },
     "metadata": {
      "needs_background": "light"
     },
     "output_type": "display_data"
    }
   ],
   "source": [
    "# построение гистограммы для признаков \"f0\", \"f1\", \"f2\"\n",
    "fig, axes = plt.subplots(sharex=True, sharey=True)\n",
    "fig.text(0.5, 0.04, 'Значения признаков', ha='center')\n",
    "fig.text(0.09, 0.9, 'Частота', va='center', rotation='vertical')\n",
    "plt.title('Гистограмма распределения')\n",
    "df_1['f0'].hist(alpha = 0.4, bins=100)\n",
    "df_1['f1'].hist(alpha = 0.4, bins=100)\n",
    "df_1['f2'].hist(alpha = 0.4, bins=100)\n",
    "plt.legend(['f0', 'f1', 'f2'])\n",
    "plt.show()"
   ]
  },
  {
   "cell_type": "markdown",
   "metadata": {},
   "source": [
    "Значения признака \"f2\" распределены нормально, значения признаков \"f0\" и \"f1\" распределены неравномерно."
   ]
  },
  {
   "cell_type": "code",
   "execution_count": 11,
   "metadata": {
    "scrolled": false
   },
   "outputs": [
    {
     "data": {
      "text/plain": [
       "Text(0, 0.5, 'Values')"
      ]
     },
     "execution_count": 11,
     "metadata": {},
     "output_type": "execute_result"
    },
    {
     "data": {
      "image/png": "[encoded data removed]",
      "text/plain": [
       "<Figure size 504x360 with 1 Axes>"
      ]
     },
     "metadata": {
      "needs_background": "light"
     },
     "output_type": "display_data"
    }
   ],
   "source": [
    "# построение диаграммы размаха по признаку \"product\"\n",
    "df_1.boxplot(column='product', figsize=(7, 5))\n",
    "plt.title('Box plot of product')\n",
    "plt.ylabel('Values')"
   ]
  },
  {
   "cell_type": "markdown",
   "metadata": {},
   "source": [
    "Проверим распределение значений признака, построив гистограмму."
   ]
  },
  {
   "cell_type": "code",
   "execution_count": 12,
   "metadata": {
    "scrolled": true
   },
   "outputs": [
    {
     "data": {
      "image/png": "[encoded data removed]",
      "text/plain": [
       "<Figure size 432x288 with 1 Axes>"
      ]
     },
     "metadata": {
      "needs_background": "light"
     },
     "output_type": "display_data"
    }
   ],
   "source": [
    "# построение гистограммы для признака \"product\"\n",
    "fig, axes = plt.subplots(sharex=True, sharey=True)\n",
    "fig.text(0.5, 0.04, 'Значение признака', ha='center')\n",
    "fig.text(0.09, 0.9, 'Частота', va='center', rotation='vertical')\n",
    "plt.title('Гистограмма распределения')\n",
    "df_1['product'].hist(alpha = 0.4, bins=100)\n",
    "plt.legend(['product'])\n",
    "plt.show()"
   ]
  },
  {
   "cell_type": "markdown",
   "metadata": {},
   "source": [
    "Значения признака \"product\" распределены неравномерно."
   ]
  },
  {
   "cell_type": "markdown",
   "metadata": {},
   "source": [
    "### Регион 2"
   ]
  },
  {
   "cell_type": "code",
   "execution_count": 13,
   "metadata": {},
   "outputs": [
    {
     "data": {
      "text/html": [
       "<div>\n",
       "<style scoped>\n",
       "    .dataframe tbody tr th:only-of-type {\n",
       "        vertical-align: middle;\n",
       "    }\n",
       "\n",
       "    .dataframe tbody tr th {\n",
       "        vertical-align: top;\n",
       "    }\n",
       "\n",
       "    .dataframe thead th {\n",
       "        text-align: right;\n",
       "    }\n",
       "</style>\n",
       "<table border=\"1\" class=\"dataframe\">\n",
       "  <thead>\n",
       "    <tr style=\"text-align: right;\">\n",
       "      <th></th>\n",
       "      <th>id</th>\n",
       "      <th>f0</th>\n",
       "      <th>f1</th>\n",
       "      <th>f2</th>\n",
       "      <th>product</th>\n",
       "    </tr>\n",
       "  </thead>\n",
       "  <tbody>\n",
       "    <tr>\n",
       "      <th>0</th>\n",
       "      <td>kBEdx</td>\n",
       "      <td>-15.001348</td>\n",
       "      <td>-8.276000</td>\n",
       "      <td>-0.005876</td>\n",
       "      <td>3.179103</td>\n",
       "    </tr>\n",
       "    <tr>\n",
       "      <th>1</th>\n",
       "      <td>62mP7</td>\n",
       "      <td>14.272088</td>\n",
       "      <td>-3.475083</td>\n",
       "      <td>0.999183</td>\n",
       "      <td>26.953261</td>\n",
       "    </tr>\n",
       "    <tr>\n",
       "      <th>2</th>\n",
       "      <td>vyE1P</td>\n",
       "      <td>6.263187</td>\n",
       "      <td>-5.948386</td>\n",
       "      <td>5.001160</td>\n",
       "      <td>134.766305</td>\n",
       "    </tr>\n",
       "    <tr>\n",
       "      <th>3</th>\n",
       "      <td>KcrkZ</td>\n",
       "      <td>-13.081196</td>\n",
       "      <td>-11.506057</td>\n",
       "      <td>4.999415</td>\n",
       "      <td>137.945408</td>\n",
       "    </tr>\n",
       "    <tr>\n",
       "      <th>4</th>\n",
       "      <td>AHL4O</td>\n",
       "      <td>12.702195</td>\n",
       "      <td>-8.147433</td>\n",
       "      <td>5.004363</td>\n",
       "      <td>134.766305</td>\n",
       "    </tr>\n",
       "    <tr>\n",
       "      <th>5</th>\n",
       "      <td>HHckp</td>\n",
       "      <td>-3.327590</td>\n",
       "      <td>-2.205276</td>\n",
       "      <td>3.003647</td>\n",
       "      <td>84.038886</td>\n",
       "    </tr>\n",
       "    <tr>\n",
       "      <th>6</th>\n",
       "      <td>h5Ujo</td>\n",
       "      <td>-11.142655</td>\n",
       "      <td>-10.133399</td>\n",
       "      <td>4.002382</td>\n",
       "      <td>110.992147</td>\n",
       "    </tr>\n",
       "    <tr>\n",
       "      <th>7</th>\n",
       "      <td>muH9x</td>\n",
       "      <td>4.234715</td>\n",
       "      <td>-0.001354</td>\n",
       "      <td>2.004588</td>\n",
       "      <td>53.906522</td>\n",
       "    </tr>\n",
       "    <tr>\n",
       "      <th>8</th>\n",
       "      <td>YiRkx</td>\n",
       "      <td>13.355129</td>\n",
       "      <td>-0.332068</td>\n",
       "      <td>4.998647</td>\n",
       "      <td>134.766305</td>\n",
       "    </tr>\n",
       "    <tr>\n",
       "      <th>9</th>\n",
       "      <td>jG6Gi</td>\n",
       "      <td>1.069227</td>\n",
       "      <td>-11.025667</td>\n",
       "      <td>4.997844</td>\n",
       "      <td>137.945408</td>\n",
       "    </tr>\n",
       "  </tbody>\n",
       "</table>\n",
       "</div>"
      ],
      "text/plain": [
       "      id         f0         f1        f2     product\n",
       "0  kBEdx -15.001348  -8.276000 -0.005876    3.179103\n",
       "1  62mP7  14.272088  -3.475083  0.999183   26.953261\n",
       "2  vyE1P   6.263187  -5.948386  5.001160  134.766305\n",
       "3  KcrkZ -13.081196 -11.506057  4.999415  137.945408\n",
       "4  AHL4O  12.702195  -8.147433  5.004363  134.766305\n",
       "5  HHckp  -3.327590  -2.205276  3.003647   84.038886\n",
       "6  h5Ujo -11.142655 -10.133399  4.002382  110.992147\n",
       "7  muH9x   4.234715  -0.001354  2.004588   53.906522\n",
       "8  YiRkx  13.355129  -0.332068  4.998647  134.766305\n",
       "9  jG6Gi   1.069227 -11.025667  4.997844  137.945408"
      ]
     },
     "execution_count": 13,
     "metadata": {},
     "output_type": "execute_result"
    }
   ],
   "source": [
    "# чтение второго файла с данными и сохранение его в переменную df_2\n",
    "df_2 = pd.read_csv('/datasets/geo_data_1.csv')\n",
    "# вывод первых 10 строк\n",
    "df_2.head(10)"
   ]
  },
  {
   "cell_type": "markdown",
   "metadata": {},
   "source": [
    "Изучим общую информацию о данных."
   ]
  },
  {
   "cell_type": "code",
   "execution_count": 14,
   "metadata": {},
   "outputs": [
    {
     "name": "stdout",
     "output_type": "stream",
     "text": [
      "<class 'pandas.core.frame.DataFrame'>\n",
      "RangeIndex: 100000 entries, 0 to 99999\n",
      "Data columns (total 5 columns):\n",
      " #   Column   Non-Null Count   Dtype  \n",
      "---  ------   --------------   -----  \n",
      " 0   id       100000 non-null  object \n",
      " 1   f0       100000 non-null  float64\n",
      " 2   f1       100000 non-null  float64\n",
      " 3   f2       100000 non-null  float64\n",
      " 4   product  100000 non-null  float64\n",
      "dtypes: float64(4), object(1)\n",
      "memory usage: 3.8+ MB\n"
     ]
    }
   ],
   "source": [
    "df_2.info() # получение общей информации о структуре датафрейма"
   ]
  },
  {
   "cell_type": "markdown",
   "metadata": {},
   "source": [
    "Таблица содержит 5 столбцов, 100000 строк.\n",
    "\n",
    "Переименование столбцов не требуется.\n",
    "\n",
    "Пропусков в данных нет.\n",
    "\n",
    "Требуется изменение типов данных float64 на floa32 для экономии памяти.\n",
    "\n",
    "Требуется проверка данных на явные дубликаты.\n",
    "\n",
    "Требуется анализ данных в колонках на предмет корректности и адекватности."
   ]
  },
  {
   "cell_type": "markdown",
   "metadata": {},
   "source": [
    "**Изменение типов данных**"
   ]
  },
  {
   "cell_type": "code",
   "execution_count": 15,
   "metadata": {},
   "outputs": [],
   "source": [
    "# изменение типов данных\n",
    "df_2[df_2.select_dtypes(np.float64).columns] = df_2.select_dtypes(np.float64).astype(np.float32)"
   ]
  },
  {
   "cell_type": "markdown",
   "metadata": {},
   "source": [
    "Проверим корректность изменения типов данных."
   ]
  },
  {
   "cell_type": "code",
   "execution_count": 16,
   "metadata": {},
   "outputs": [
    {
     "name": "stdout",
     "output_type": "stream",
     "text": [
      "<class 'pandas.core.frame.DataFrame'>\n",
      "RangeIndex: 100000 entries, 0 to 99999\n",
      "Data columns (total 5 columns):\n",
      " #   Column   Non-Null Count   Dtype  \n",
      "---  ------   --------------   -----  \n",
      " 0   id       100000 non-null  object \n",
      " 1   f0       100000 non-null  float32\n",
      " 2   f1       100000 non-null  float32\n",
      " 3   f2       100000 non-null  float32\n",
      " 4   product  100000 non-null  float32\n",
      "dtypes: float32(4), object(1)\n",
      "memory usage: 2.3+ MB\n"
     ]
    }
   ],
   "source": [
    "df_2.info() # получение общей информации о структуре датафрейма"
   ]
  },
  {
   "cell_type": "markdown",
   "metadata": {},
   "source": [
    "Изменение типов данных проведено корректно."
   ]
  },
  {
   "cell_type": "markdown",
   "metadata": {},
   "source": [
    "**Дубликаты**"
   ]
  },
  {
   "cell_type": "markdown",
   "metadata": {},
   "source": [
    "Проверим данные датафрейма на наличие явных дубликатов."
   ]
  },
  {
   "cell_type": "code",
   "execution_count": 17,
   "metadata": {
    "scrolled": true
   },
   "outputs": [
    {
     "data": {
      "text/plain": [
       "0"
      ]
     },
     "execution_count": 17,
     "metadata": {},
     "output_type": "execute_result"
    }
   ],
   "source": [
    "# подстчет строк - явных дубликатов\n",
    "df_2.duplicated().sum()"
   ]
  },
  {
   "cell_type": "markdown",
   "metadata": {},
   "source": [
    "Явных дубликатов нет."
   ]
  },
  {
   "cell_type": "markdown",
   "metadata": {},
   "source": [
    "Проверим данные датафрейма на наличие неявных дубликатов, удалив id."
   ]
  },
  {
   "cell_type": "code",
   "execution_count": 18,
   "metadata": {},
   "outputs": [
    {
     "data": {
      "text/plain": [
       "0"
      ]
     },
     "execution_count": 18,
     "metadata": {},
     "output_type": "execute_result"
    }
   ],
   "source": [
    "# подстчет строк - неявных дубликатов\n",
    "df_2.drop(['id'], axis=1).duplicated().sum()"
   ]
  },
  {
   "cell_type": "markdown",
   "metadata": {},
   "source": [
    "Неявных дубликатов также нет."
   ]
  },
  {
   "cell_type": "markdown",
   "metadata": {},
   "source": [
    "**Адекватность данных**"
   ]
  },
  {
   "cell_type": "code",
   "execution_count": 19,
   "metadata": {
    "scrolled": true
   },
   "outputs": [
    {
     "data": {
      "text/html": [
       "<div>\n",
       "<style scoped>\n",
       "    .dataframe tbody tr th:only-of-type {\n",
       "        vertical-align: middle;\n",
       "    }\n",
       "\n",
       "    .dataframe tbody tr th {\n",
       "        vertical-align: top;\n",
       "    }\n",
       "\n",
       "    .dataframe thead th {\n",
       "        text-align: right;\n",
       "    }\n",
       "</style>\n",
       "<table border=\"1\" class=\"dataframe\">\n",
       "  <thead>\n",
       "    <tr style=\"text-align: right;\">\n",
       "      <th></th>\n",
       "      <th>f0</th>\n",
       "      <th>f1</th>\n",
       "      <th>f2</th>\n",
       "      <th>product</th>\n",
       "    </tr>\n",
       "  </thead>\n",
       "  <tbody>\n",
       "    <tr>\n",
       "      <th>count</th>\n",
       "      <td>100000.00</td>\n",
       "      <td>100000.00</td>\n",
       "      <td>100000.00</td>\n",
       "      <td>100000.00</td>\n",
       "    </tr>\n",
       "    <tr>\n",
       "      <th>mean</th>\n",
       "      <td>1.14</td>\n",
       "      <td>-4.80</td>\n",
       "      <td>2.49</td>\n",
       "      <td>68.82</td>\n",
       "    </tr>\n",
       "    <tr>\n",
       "      <th>std</th>\n",
       "      <td>8.97</td>\n",
       "      <td>5.12</td>\n",
       "      <td>1.70</td>\n",
       "      <td>45.94</td>\n",
       "    </tr>\n",
       "    <tr>\n",
       "      <th>min</th>\n",
       "      <td>-31.61</td>\n",
       "      <td>-26.36</td>\n",
       "      <td>-0.02</td>\n",
       "      <td>0.00</td>\n",
       "    </tr>\n",
       "    <tr>\n",
       "      <th>25%</th>\n",
       "      <td>-6.30</td>\n",
       "      <td>-8.27</td>\n",
       "      <td>1.00</td>\n",
       "      <td>26.95</td>\n",
       "    </tr>\n",
       "    <tr>\n",
       "      <th>50%</th>\n",
       "      <td>1.15</td>\n",
       "      <td>-4.81</td>\n",
       "      <td>2.01</td>\n",
       "      <td>57.09</td>\n",
       "    </tr>\n",
       "    <tr>\n",
       "      <th>75%</th>\n",
       "      <td>8.62</td>\n",
       "      <td>-1.33</td>\n",
       "      <td>4.00</td>\n",
       "      <td>107.81</td>\n",
       "    </tr>\n",
       "    <tr>\n",
       "      <th>max</th>\n",
       "      <td>29.42</td>\n",
       "      <td>18.73</td>\n",
       "      <td>5.02</td>\n",
       "      <td>137.95</td>\n",
       "    </tr>\n",
       "  </tbody>\n",
       "</table>\n",
       "</div>"
      ],
      "text/plain": [
       "              f0         f1         f2    product\n",
       "count  100000.00  100000.00  100000.00  100000.00\n",
       "mean        1.14      -4.80       2.49      68.82\n",
       "std         8.97       5.12       1.70      45.94\n",
       "min       -31.61     -26.36      -0.02       0.00\n",
       "25%        -6.30      -8.27       1.00      26.95\n",
       "50%         1.15      -4.81       2.01      57.09\n",
       "75%         8.62      -1.33       4.00     107.81\n",
       "max        29.42      18.73       5.02     137.95"
      ]
     },
     "execution_count": 19,
     "metadata": {},
     "output_type": "execute_result"
    }
   ],
   "source": [
    "# вывод статистических данных о числовых колонках датафрейма\n",
    "df_2.describe().round(2)"
   ]
  },
  {
   "cell_type": "markdown",
   "metadata": {},
   "source": [
    "Данные адекватны, значения находятся в диапазонах, соответствующих масштабам. Проанализируем распределение данных внутри диапазонов, построив диаграммы размаха по признакам \"f0\", \"f1\", \"f2\" на одной диаграмме (данные имеют соотносимый масштаб) и \"product\" на другой диаграмме (масштаб в несколько раз больше)."
   ]
  },
  {
   "cell_type": "code",
   "execution_count": 20,
   "metadata": {
    "scrolled": true
   },
   "outputs": [
    {
     "data": {
      "text/plain": [
       "Text(0, 0.5, 'Values')"
      ]
     },
     "execution_count": 20,
     "metadata": {},
     "output_type": "execute_result"
    },
    {
     "data": {
      "image/png": "[encoded data removed]",
      "text/plain": [
       "<Figure size 504x360 with 1 Axes>"
      ]
     },
     "metadata": {
      "needs_background": "light"
     },
     "output_type": "display_data"
    }
   ],
   "source": [
    "# построение диаграммы размаха по признакам \"f0\", \"f1\", \"f2\"\n",
    "df_2.boxplot(column=['f0','f1', 'f2'], figsize=(7, 5))\n",
    "plt.title('Box plots of f0, f1, f2')\n",
    "plt.ylabel('Values')"
   ]
  },
  {
   "cell_type": "markdown",
   "metadata": {},
   "source": [
    "Значение признака \"f1\" имеют много выбросов с обеих сторон \"усов\", значения признаков \"f0\" и \"f2\" существенных выбросов не имеют."
   ]
  },
  {
   "cell_type": "markdown",
   "metadata": {},
   "source": [
    "Проверим распределение значений признаков, построив гистограмму."
   ]
  },
  {
   "cell_type": "code",
   "execution_count": 21,
   "metadata": {},
   "outputs": [
    {
     "data": {
      "image/png": "[encoded data removed]",
      "text/plain": [
       "<Figure size 432x288 with 1 Axes>"
      ]
     },
     "metadata": {
      "needs_background": "light"
     },
     "output_type": "display_data"
    }
   ],
   "source": [
    "# построение гистограммы для признаков \"f0\", \"f1\", \"f2\"\n",
    "fig, axes = plt.subplots(sharex=True, sharey=True)\n",
    "fig.text(0.5, 0.04, 'Значения признаков', ha='center')\n",
    "fig.text(0.09, 0.9, 'Частота', va='center', rotation='vertical')\n",
    "plt.title('Гистограмма распределения')\n",
    "df_2['f0'].hist(alpha = 0.4, bins=100)\n",
    "df_2['f1'].hist(alpha = 0.4, bins=100)\n",
    "df_2['f2'].hist(alpha = 0.4, bins=100)\n",
    "plt.legend(['f0', 'f1', 'f2'])\n",
    "plt.show()"
   ]
  },
  {
   "cell_type": "markdown",
   "metadata": {},
   "source": [
    "Значения признака \"f1\" распределены нормально, значения признаков \"f0\" и \"f1\" распределены неравномерно."
   ]
  },
  {
   "cell_type": "code",
   "execution_count": 22,
   "metadata": {
    "scrolled": false
   },
   "outputs": [
    {
     "data": {
      "text/plain": [
       "Text(0, 0.5, 'Values')"
      ]
     },
     "execution_count": 22,
     "metadata": {},
     "output_type": "execute_result"
    },
    {
     "data": {
      "image/png": "[encoded data removed]",
      "text/plain": [
       "<Figure size 504x360 with 1 Axes>"
      ]
     },
     "metadata": {
      "needs_background": "light"
     },
     "output_type": "display_data"
    }
   ],
   "source": [
    "# построение диаграммы размаха по признаку \"product\"\n",
    "df_2.boxplot(column='product', figsize=(7, 5))\n",
    "plt.title('Box plot of product')\n",
    "plt.ylabel('Values')"
   ]
  },
  {
   "cell_type": "markdown",
   "metadata": {},
   "source": [
    "Проверим распределение значений признака, построив гистограмму."
   ]
  },
  {
   "cell_type": "code",
   "execution_count": 23,
   "metadata": {
    "scrolled": true
   },
   "outputs": [
    {
     "data": {
      "image/png": "[encoded data removed]",
      "text/plain": [
       "<Figure size 432x288 with 1 Axes>"
      ]
     },
     "metadata": {
      "needs_background": "light"
     },
     "output_type": "display_data"
    }
   ],
   "source": [
    "# построение гистограммы для признака \"product\"\n",
    "fig, axes = plt.subplots(sharex=True, sharey=True)\n",
    "fig.text(0.5, 0.04, 'Значение признака', ha='center')\n",
    "fig.text(0.09, 0.9, 'Частота', va='center', rotation='vertical')\n",
    "plt.title('Гистограмма распределения')\n",
    "df_2['product'].hist(alpha = 0.4, bins=100)\n",
    "plt.legend(['product'])\n",
    "plt.show()"
   ]
  },
  {
   "cell_type": "markdown",
   "metadata": {},
   "source": [
    "Значения признака \"product\" распределены неравномерно."
   ]
  },
  {
   "cell_type": "markdown",
   "metadata": {},
   "source": [
    "### Регион 3"
   ]
  },
  {
   "cell_type": "markdown",
   "metadata": {},
   "source": [
    "Откроем датасет по третьему региону и проанализируем данные в нем."
   ]
  },
  {
   "cell_type": "code",
   "execution_count": 24,
   "metadata": {},
   "outputs": [
    {
     "data": {
      "text/html": [
       "<div>\n",
       "<style scoped>\n",
       "    .dataframe tbody tr th:only-of-type {\n",
       "        vertical-align: middle;\n",
       "    }\n",
       "\n",
       "    .dataframe tbody tr th {\n",
       "        vertical-align: top;\n",
       "    }\n",
       "\n",
       "    .dataframe thead th {\n",
       "        text-align: right;\n",
       "    }\n",
       "</style>\n",
       "<table border=\"1\" class=\"dataframe\">\n",
       "  <thead>\n",
       "    <tr style=\"text-align: right;\">\n",
       "      <th></th>\n",
       "      <th>id</th>\n",
       "      <th>f0</th>\n",
       "      <th>f1</th>\n",
       "      <th>f2</th>\n",
       "      <th>product</th>\n",
       "    </tr>\n",
       "  </thead>\n",
       "  <tbody>\n",
       "    <tr>\n",
       "      <th>0</th>\n",
       "      <td>fwXo0</td>\n",
       "      <td>-1.146987</td>\n",
       "      <td>0.963328</td>\n",
       "      <td>-0.828965</td>\n",
       "      <td>27.758673</td>\n",
       "    </tr>\n",
       "    <tr>\n",
       "      <th>1</th>\n",
       "      <td>WJtFt</td>\n",
       "      <td>0.262778</td>\n",
       "      <td>0.269839</td>\n",
       "      <td>-2.530187</td>\n",
       "      <td>56.069697</td>\n",
       "    </tr>\n",
       "    <tr>\n",
       "      <th>2</th>\n",
       "      <td>ovLUW</td>\n",
       "      <td>0.194587</td>\n",
       "      <td>0.289035</td>\n",
       "      <td>-5.586433</td>\n",
       "      <td>62.871910</td>\n",
       "    </tr>\n",
       "    <tr>\n",
       "      <th>3</th>\n",
       "      <td>q6cA6</td>\n",
       "      <td>2.236060</td>\n",
       "      <td>-0.553760</td>\n",
       "      <td>0.930038</td>\n",
       "      <td>114.572842</td>\n",
       "    </tr>\n",
       "    <tr>\n",
       "      <th>4</th>\n",
       "      <td>WPMUX</td>\n",
       "      <td>-0.515993</td>\n",
       "      <td>1.716266</td>\n",
       "      <td>5.899011</td>\n",
       "      <td>149.600746</td>\n",
       "    </tr>\n",
       "    <tr>\n",
       "      <th>5</th>\n",
       "      <td>LzZXx</td>\n",
       "      <td>-0.758092</td>\n",
       "      <td>0.710691</td>\n",
       "      <td>2.585887</td>\n",
       "      <td>90.222465</td>\n",
       "    </tr>\n",
       "    <tr>\n",
       "      <th>6</th>\n",
       "      <td>WBHRv</td>\n",
       "      <td>-0.574891</td>\n",
       "      <td>0.317727</td>\n",
       "      <td>1.773745</td>\n",
       "      <td>45.641478</td>\n",
       "    </tr>\n",
       "    <tr>\n",
       "      <th>7</th>\n",
       "      <td>XO8fn</td>\n",
       "      <td>-1.906649</td>\n",
       "      <td>-2.458350</td>\n",
       "      <td>-0.177097</td>\n",
       "      <td>72.480640</td>\n",
       "    </tr>\n",
       "    <tr>\n",
       "      <th>8</th>\n",
       "      <td>ybmQ5</td>\n",
       "      <td>1.776292</td>\n",
       "      <td>-0.279356</td>\n",
       "      <td>3.004156</td>\n",
       "      <td>106.616832</td>\n",
       "    </tr>\n",
       "    <tr>\n",
       "      <th>9</th>\n",
       "      <td>OilcN</td>\n",
       "      <td>-1.214452</td>\n",
       "      <td>-0.439314</td>\n",
       "      <td>5.922514</td>\n",
       "      <td>52.954532</td>\n",
       "    </tr>\n",
       "  </tbody>\n",
       "</table>\n",
       "</div>"
      ],
      "text/plain": [
       "      id        f0        f1        f2     product\n",
       "0  fwXo0 -1.146987  0.963328 -0.828965   27.758673\n",
       "1  WJtFt  0.262778  0.269839 -2.530187   56.069697\n",
       "2  ovLUW  0.194587  0.289035 -5.586433   62.871910\n",
       "3  q6cA6  2.236060 -0.553760  0.930038  114.572842\n",
       "4  WPMUX -0.515993  1.716266  5.899011  149.600746\n",
       "5  LzZXx -0.758092  0.710691  2.585887   90.222465\n",
       "6  WBHRv -0.574891  0.317727  1.773745   45.641478\n",
       "7  XO8fn -1.906649 -2.458350 -0.177097   72.480640\n",
       "8  ybmQ5  1.776292 -0.279356  3.004156  106.616832\n",
       "9  OilcN -1.214452 -0.439314  5.922514   52.954532"
      ]
     },
     "execution_count": 24,
     "metadata": {},
     "output_type": "execute_result"
    }
   ],
   "source": [
    "# чтение третьего файла с данными и сохранение его в переменную df_3\n",
    "df_3 = pd.read_csv('/datasets/geo_data_2.csv')\n",
    "# вывод первых 10 строк\n",
    "df_3.head(10)"
   ]
  },
  {
   "cell_type": "markdown",
   "metadata": {},
   "source": [
    "Напишем функцию, включающую все этапы исследования датасета, и применим ее к датасету по Региону 3."
   ]
  },
  {
   "cell_type": "code",
   "execution_count": 25,
   "metadata": {},
   "outputs": [],
   "source": [
    "# создание функции\n",
    "def data_analysis(df):\n",
    "    # вывод общей информации о датасете\n",
    "    df.info() \n",
    "    \n",
    "    # изменение типа данных\n",
    "    df[df.select_dtypes(np.float64).columns] = df.select_dtypes(np.float64).astype(np.float32) \n",
    "    # проверка корректности изменения\n",
    "    df.info() \n",
    "    \n",
    "    # проверка на явные дубликаты\n",
    "    print(df.duplicated().sum()) \n",
    "    # проверка на наявные дубликаты\n",
    "    print(df.drop(['id'], axis=1).duplicated().sum()) \n",
    "    \n",
    "    # вывод статистической информации о датасете\n",
    "    print(df.describe().round(2)) \n",
    "    \n",
    "    # построение диаграмм размаха по признакам 'f0','f1', 'f2'\n",
    "    df.boxplot(column=['f0','f1', 'f2'], figsize=(7, 5)) \n",
    "    plt.title('Box plots of f0, f1, f2')\n",
    "    plt.ylabel('Values')\n",
    "    plt.show()\n",
    "    \n",
    "    # построение гистограммы по признакам 'f0','f1', 'f2'\n",
    "    fig, axes = plt.subplots(sharex=True, sharey=True) \n",
    "    fig.text(0.5, 0.04, 'Значения признаков', ha='center')\n",
    "    fig.text(0.09, 0.9, 'Частота', va='center', rotation='vertical')\n",
    "    plt.title('Гистограмма распределения')\n",
    "    df['f0'].hist(alpha = 0.4, bins=100)\n",
    "    df['f1'].hist(alpha = 0.4, bins=100)\n",
    "    df['f2'].hist(alpha = 0.4, bins=100)\n",
    "    plt.legend(['f0', 'f1', 'f2'])\n",
    "    plt.show()\n",
    "    \n",
    "    # построение диаграммы размаха по признаку 'product'\n",
    "    df.boxplot(column='product', figsize=(7, 5)) \n",
    "    plt.title('Box plot of product')\n",
    "    plt.ylabel('Values')\n",
    "    plt.show()\n",
    "    \n",
    "    # построение гистограммы по признаку 'product'\n",
    "    fig, axes = plt.subplots(sharex=True, sharey=True) \n",
    "    fig.text(0.5, 0.04, 'Значение признака', ha='center')\n",
    "    fig.text(0.09, 0.9, 'Частота', va='center', rotation='vertical')\n",
    "    plt.title('Гистограмма распределения')\n",
    "    df['product'].hist(alpha = 0.4, bins=100)\n",
    "    plt.legend(['product'])\n",
    "    plt.show()"
   ]
  },
  {
   "cell_type": "markdown",
   "metadata": {},
   "source": [
    "Применим функцию к датасету по региону 3."
   ]
  },
  {
   "cell_type": "code",
   "execution_count": 26,
   "metadata": {
    "scrolled": false
   },
   "outputs": [
    {
     "name": "stdout",
     "output_type": "stream",
     "text": [
      "<class 'pandas.core.frame.DataFrame'>\n",
      "RangeIndex: 100000 entries, 0 to 99999\n",
      "Data columns (total 5 columns):\n",
      " #   Column   Non-Null Count   Dtype  \n",
      "---  ------   --------------   -----  \n",
      " 0   id       100000 non-null  object \n",
      " 1   f0       100000 non-null  float64\n",
      " 2   f1       100000 non-null  float64\n",
      " 3   f2       100000 non-null  float64\n",
      " 4   product  100000 non-null  float64\n",
      "dtypes: float64(4), object(1)\n",
      "memory usage: 3.8+ MB\n",
      "<class 'pandas.core.frame.DataFrame'>\n",
      "RangeIndex: 100000 entries, 0 to 99999\n",
      "Data columns (total 5 columns):\n",
      " #   Column   Non-Null Count   Dtype  \n",
      "---  ------   --------------   -----  \n",
      " 0   id       100000 non-null  object \n",
      " 1   f0       100000 non-null  float32\n",
      " 2   f1       100000 non-null  float32\n",
      " 3   f2       100000 non-null  float32\n",
      " 4   product  100000 non-null  float32\n",
      "dtypes: float32(4), object(1)\n",
      "memory usage: 2.3+ MB\n",
      "0\n",
      "0\n",
      "              f0         f1         f2    product\n",
      "count  100000.00  100000.00  100000.00  100000.00\n",
      "mean        0.00      -0.00       2.50      95.00\n",
      "std         1.73       1.73       3.47      44.75\n",
      "min        -8.76      -7.08     -11.97       0.00\n",
      "25%        -1.16      -1.17       0.13      59.45\n",
      "50%         0.01      -0.01       2.48      94.93\n",
      "75%         1.16       1.16       4.86     130.60\n",
      "max         7.24       7.84      16.74     190.03\n"
     ]
    },
    {
     "data": {
      "image/png": "[encoded data removed]",
      "text/plain": [
       "<Figure size 504x360 with 1 Axes>"
      ]
     },
     "metadata": {
      "needs_background": "light"
     },
     "output_type": "display_data"
    },
    {
     "data": {
      "image/png": "[encoded data removed]",
      "text/plain": [
       "<Figure size 432x288 with 1 Axes>"
      ]
     },
     "metadata": {
      "needs_background": "light"
     },
     "output_type": "display_data"
    },
    {
     "data": {
      "image/png": "[encoded data removed]",
      "text/plain": [
       "<Figure size 504x360 with 1 Axes>"
      ]
     },
     "metadata": {
      "needs_background": "light"
     },
     "output_type": "display_data"
    },
    {
     "data": {
      "image/png": "[encoded data removed]",
      "text/plain": [
       "<Figure size 432x288 with 1 Axes>"
      ]
     },
     "metadata": {
      "needs_background": "light"
     },
     "output_type": "display_data"
    }
   ],
   "source": [
    "# применение функции\n",
    "data_analysis(df_3)"
   ]
  },
  {
   "cell_type": "markdown",
   "metadata": {},
   "source": [
    "**Результаты анализа датасета по Региону 3**\n",
    "\n",
    "Таблица содержит 5 столбцов, 100000 строк.\n",
    "\n",
    "Переименование столбцов не требуется.\n",
    "\n",
    "Пропусков в данных нет.\n",
    "\n",
    "Изменен тип данных float64 на float32 для экономии памяти.\n",
    "\n",
    "Данные проверены на наличие явных и неявных дубликатов; дубликатов нет.\n",
    "\n",
    "Данные в колонках проверены на предмет корректности и адекватности:\n",
    "\n",
    "* Данные адекватны, значения находятся в диапазонах, соответствующих масштабам.\n",
    "* Значения признаков \"f0\", \"f1\" и \"f2\" имеют много выбросов с обеих сторон \"усов\", распределены нормально.\n",
    "* Значения признака \"product\" не имеют явных выбросов, распределены неравномерно.\n"
   ]
  },
  {
   "cell_type": "markdown",
   "metadata": {},
   "source": [
    "<div style=\"border:solid blue 2px; padding: 20px\">\n",
    "    \n",
    " > **Вывод**  \n",
    "\n",
    " > Таблицы открыты, данные адекватны.\n",
    "    \n",
    " > Выборки содержат по 100 000 записей, пропусков и явных дубликатов нет.\n",
    "    \n",
    " > Для экономии памяти произведено изменение типов данных float64 на float32.\n",
    "    \n",
    " > Значения признаков в трех регионах распределены неодинаково:\n",
    " > 1. регион 1: \n",
    "    Значения признака \"f2\" имеют много выбросов с обеих сторон \"усов\", значения признаков \"f0\" и \"f1\" существенных выбросов не имеют.\n",
    "Значения признака \"f2\" распределены нормально, значения признаков \"f0\" и \"f1\" распределены неравномерно.\n",
    "Значения признака \"product\" распределены неравномерно, существенных выбросов нет.\n",
    " > 2. регион 2: \n",
    "    Значение признака \"f1\" имеют много выбросов с обеих сторон \"усов\", значения признаков \"f0\" и \"f2\" существенных выбросов не имеют.\n",
    "Значения признака \"f1\" распределены нормально, значения признаков \"f0\" и \"f1\" распределены неравномерно.\n",
    "Значения признака \"product\" распределены неравномерно, существенных выбросов нет.\n",
    " > 3. регион 3: \n",
    "    Значения признаков \"f0\", \"f1\" и \"f2\" имеют много выбросов с обеих сторон \"усов\", распределены нормально.\n",
    "Значения признака \"product\" не имеют явных выбросов, распределены неравномерно.\n",
    "      \n",
    " > Значения адекватны, находятся в пределах диапазонов.\n",
    "    \n",
    "<div>"
   ]
  },
  {
   "cell_type": "markdown",
   "metadata": {},
   "source": [
    "## Обучение и проверка модели"
   ]
  },
  {
   "cell_type": "markdown",
   "metadata": {},
   "source": [
    "Обучим и проверим модель для каждого региона, сравним предсказания запасов сырья с правильными ответами и оценим RMSE модели."
   ]
  },
  {
   "cell_type": "markdown",
   "metadata": {},
   "source": [
    "Установим RandomState равным 12345."
   ]
  },
  {
   "cell_type": "code",
   "execution_count": 27,
   "metadata": {},
   "outputs": [],
   "source": [
    "# фиксирование RandomState\n",
    "state = np.random.RandomState(12345)"
   ]
  },
  {
   "cell_type": "markdown",
   "metadata": {},
   "source": [
    "Создадим функции для обработки датасетов по регионам: для подготовки признаков и обучения модели."
   ]
  },
  {
   "cell_type": "code",
   "execution_count": 28,
   "metadata": {},
   "outputs": [],
   "source": [
    "# создание функции для подготовки признаков\n",
    "def features_prepare(df):\n",
    "    \n",
    "    # разделение выборки на обучающую и валидационную в соотношении 75:25\n",
    "    df_train, df_valid = train_test_split(df, test_size=0.25, random_state=state)\n",
    "    \n",
    "    # создание переменных с признаками (features) и целевым признаком (target)\n",
    "    features_train = df_train.drop(['product', 'id'], axis=1)\n",
    "    target_train = df_train['product']\n",
    "    features_valid = df_valid.drop(['product', 'id'], axis=1)\n",
    "    target_valid = df_valid['product']\n",
    "    \n",
    "    # приведение признаков к одному масштабу с помощью стандартизации данных\n",
    "    pd.options.mode.chained_assignment = None\n",
    "    numeric=['f0', 'f1', 'f2']\n",
    "    scaler = StandardScaler()\n",
    "    scaler.fit(features_train[numeric]) \n",
    "    features_train[numeric] = scaler.transform(features_train[numeric])\n",
    "    features_valid[numeric] = scaler.transform(features_valid[numeric])\n",
    "    \n",
    "    return df_valid, features_train, target_train, features_valid, target_valid"
   ]
  },
  {
   "cell_type": "code",
   "execution_count": 29,
   "metadata": {},
   "outputs": [],
   "source": [
    "# создание функции для обучения модели\n",
    "def model_train(features_train, target_train, features_valid, target_valid):\n",
    "          \n",
    "    # обучение модели линейной регрессии и предсказание на валидационной выборке\n",
    "    model = LinearRegression()\n",
    "    model.fit(features_train, target_train)\n",
    "    predictions = model.predict(features_valid)\n",
    "    return predictions"
   ]
  },
  {
   "cell_type": "markdown",
   "metadata": {},
   "source": [
    "### Регион 1"
   ]
  },
  {
   "cell_type": "markdown",
   "metadata": {},
   "source": [
    "Обработаем первый датасет."
   ]
  },
  {
   "cell_type": "markdown",
   "metadata": {},
   "source": [
    "**Выделим обучающие и валидационные признаки и целевой признак** с помощью созданной выше функции."
   ]
  },
  {
   "cell_type": "code",
   "execution_count": 30,
   "metadata": {},
   "outputs": [],
   "source": [
    "# вывод полученных признаков и целевых признаков обучающей и валидационной выборок\n",
    "df_1_valid, features_1_train, target_1_train, features_1_valid, target_1_valid = features_prepare(df_1)"
   ]
  },
  {
   "cell_type": "markdown",
   "metadata": {},
   "source": [
    "**Обучим модель**, сделаем предсказание и **добавим в датасет колонку с предсказаниями** с помощью второй функции."
   ]
  },
  {
   "cell_type": "code",
   "execution_count": 31,
   "metadata": {
    "scrolled": true
   },
   "outputs": [],
   "source": [
    "# добавление в датасет с валидационной выборкой колонки с предсказанием\n",
    "df_1_valid['predict'] = model_train(features_1_train, target_1_train, features_1_valid, target_1_valid)"
   ]
  },
  {
   "cell_type": "markdown",
   "metadata": {},
   "source": [
    "**Переиндексируем получившуюся выборку** для удобства дальнейшей работы."
   ]
  },
  {
   "cell_type": "code",
   "execution_count": 32,
   "metadata": {},
   "outputs": [
    {
     "data": {
      "text/html": [
       "<div>\n",
       "<style scoped>\n",
       "    .dataframe tbody tr th:only-of-type {\n",
       "        vertical-align: middle;\n",
       "    }\n",
       "\n",
       "    .dataframe tbody tr th {\n",
       "        vertical-align: top;\n",
       "    }\n",
       "\n",
       "    .dataframe thead th {\n",
       "        text-align: right;\n",
       "    }\n",
       "</style>\n",
       "<table border=\"1\" class=\"dataframe\">\n",
       "  <thead>\n",
       "    <tr style=\"text-align: right;\">\n",
       "      <th></th>\n",
       "      <th>id</th>\n",
       "      <th>f0</th>\n",
       "      <th>f1</th>\n",
       "      <th>f2</th>\n",
       "      <th>product</th>\n",
       "      <th>predict</th>\n",
       "    </tr>\n",
       "  </thead>\n",
       "  <tbody>\n",
       "    <tr>\n",
       "      <th>0</th>\n",
       "      <td>7Z2gx</td>\n",
       "      <td>0.948970</td>\n",
       "      <td>-0.057547</td>\n",
       "      <td>2.095727</td>\n",
       "      <td>10.038645</td>\n",
       "      <td>95.894958</td>\n",
       "    </tr>\n",
       "    <tr>\n",
       "      <th>1</th>\n",
       "      <td>b2HU8</td>\n",
       "      <td>0.992974</td>\n",
       "      <td>0.206671</td>\n",
       "      <td>-0.142278</td>\n",
       "      <td>114.551491</td>\n",
       "      <td>77.572586</td>\n",
       "    </tr>\n",
       "    <tr>\n",
       "      <th>2</th>\n",
       "      <td>Y0dXD</td>\n",
       "      <td>1.199854</td>\n",
       "      <td>-0.563356</td>\n",
       "      <td>-1.852991</td>\n",
       "      <td>132.603638</td>\n",
       "      <td>77.892639</td>\n",
       "    </tr>\n",
       "    <tr>\n",
       "      <th>3</th>\n",
       "      <td>Mje59</td>\n",
       "      <td>0.691422</td>\n",
       "      <td>-0.433347</td>\n",
       "      <td>0.564974</td>\n",
       "      <td>169.072128</td>\n",
       "      <td>90.175133</td>\n",
       "    </tr>\n",
       "    <tr>\n",
       "      <th>4</th>\n",
       "      <td>yqXxU</td>\n",
       "      <td>0.420772</td>\n",
       "      <td>0.972638</td>\n",
       "      <td>0.736190</td>\n",
       "      <td>122.325180</td>\n",
       "      <td>70.510086</td>\n",
       "    </tr>\n",
       "  </tbody>\n",
       "</table>\n",
       "</div>"
      ],
      "text/plain": [
       "      id        f0        f1        f2     product    predict\n",
       "0  7Z2gx  0.948970 -0.057547  2.095727   10.038645  95.894958\n",
       "1  b2HU8  0.992974  0.206671 -0.142278  114.551491  77.572586\n",
       "2  Y0dXD  1.199854 -0.563356 -1.852991  132.603638  77.892639\n",
       "3  Mje59  0.691422 -0.433347  0.564974  169.072128  90.175133\n",
       "4  yqXxU  0.420772  0.972638  0.736190  122.325180  70.510086"
      ]
     },
     "execution_count": 32,
     "metadata": {},
     "output_type": "execute_result"
    }
   ],
   "source": [
    "# переиндексация и вывод результата\n",
    "df_1_valid = df_1_valid.reset_index(drop=True)\n",
    "df_1_valid.head()"
   ]
  },
  {
   "cell_type": "markdown",
   "metadata": {},
   "source": [
    "**Оценим результаты работы модели** на валидационной выборке."
   ]
  },
  {
   "cell_type": "code",
   "execution_count": 33,
   "metadata": {
    "scrolled": true
   },
   "outputs": [
    {
     "name": "stdout",
     "output_type": "stream",
     "text": [
      "Регион 1\n",
      "Средний запас сырья реальный: 92.08\n",
      "Средний запас сырья предсказанный: 92.59\n",
      "RMSE: 37.58\n"
     ]
    }
   ],
   "source": [
    "# вывод итогов: реальные средние запасы сырья, предсказанные запасы сырья, RMSE модели.\n",
    "print('Регион 1')\n",
    "print('Средний запас сырья реальный:', df_1_valid['product'].mean().round(2))\n",
    "print('Средний запас сырья предсказанный:', df_1_valid['predict'].mean().round(2))\n",
    "print('RMSE:', (mean_squared_error(target_1_valid, df_1_valid['predict']) ** 0.5).round(2))"
   ]
  },
  {
   "cell_type": "markdown",
   "metadata": {},
   "source": [
    "### Регион 2"
   ]
  },
  {
   "cell_type": "markdown",
   "metadata": {},
   "source": [
    "Обработаем второй датасет."
   ]
  },
  {
   "cell_type": "markdown",
   "metadata": {},
   "source": [
    "**Выделим обучающие и валидационные признаки и целевой признак** с помощью созданной выше функции."
   ]
  },
  {
   "cell_type": "code",
   "execution_count": 34,
   "metadata": {
    "scrolled": false
   },
   "outputs": [],
   "source": [
    "# вывод полученных признаков и целевых признаков обучающей и валидационной выборок\n",
    "df_2_valid, features_2_train, target_2_train, features_2_valid, target_2_valid = features_prepare(df_2)"
   ]
  },
  {
   "cell_type": "markdown",
   "metadata": {},
   "source": [
    "**Обучим модель**, сделаем предсказание и **добавим в датасет колонку с предсказаниями** с помощью второй функции."
   ]
  },
  {
   "cell_type": "code",
   "execution_count": 35,
   "metadata": {},
   "outputs": [],
   "source": [
    "# добавление в датасет с валидационной выборкой колонки с предсказанием\n",
    "df_2_valid['predict'] = model_train(features_2_train, target_2_train, features_2_valid, target_2_valid)"
   ]
  },
  {
   "cell_type": "markdown",
   "metadata": {},
   "source": [
    "**Переиндексируем получившуюся выборку** для удобства дальнейшей работы."
   ]
  },
  {
   "cell_type": "code",
   "execution_count": 36,
   "metadata": {
    "scrolled": true
   },
   "outputs": [
    {
     "data": {
      "text/html": [
       "<div>\n",
       "<style scoped>\n",
       "    .dataframe tbody tr th:only-of-type {\n",
       "        vertical-align: middle;\n",
       "    }\n",
       "\n",
       "    .dataframe tbody tr th {\n",
       "        vertical-align: top;\n",
       "    }\n",
       "\n",
       "    .dataframe thead th {\n",
       "        text-align: right;\n",
       "    }\n",
       "</style>\n",
       "<table border=\"1\" class=\"dataframe\">\n",
       "  <thead>\n",
       "    <tr style=\"text-align: right;\">\n",
       "      <th></th>\n",
       "      <th>id</th>\n",
       "      <th>f0</th>\n",
       "      <th>f1</th>\n",
       "      <th>f2</th>\n",
       "      <th>product</th>\n",
       "      <th>predict</th>\n",
       "    </tr>\n",
       "  </thead>\n",
       "  <tbody>\n",
       "    <tr>\n",
       "      <th>0</th>\n",
       "      <td>ElrxD</td>\n",
       "      <td>8.029941</td>\n",
       "      <td>0.142761</td>\n",
       "      <td>1.994370</td>\n",
       "      <td>53.906521</td>\n",
       "      <td>54.238152</td>\n",
       "    </tr>\n",
       "    <tr>\n",
       "      <th>1</th>\n",
       "      <td>zgfBu</td>\n",
       "      <td>-6.032070</td>\n",
       "      <td>-3.118156</td>\n",
       "      <td>2.991338</td>\n",
       "      <td>84.038887</td>\n",
       "      <td>83.217873</td>\n",
       "    </tr>\n",
       "    <tr>\n",
       "      <th>2</th>\n",
       "      <td>SkOBP</td>\n",
       "      <td>-6.180053</td>\n",
       "      <td>-7.242396</td>\n",
       "      <td>0.009788</td>\n",
       "      <td>3.179103</td>\n",
       "      <td>2.971466</td>\n",
       "    </tr>\n",
       "    <tr>\n",
       "      <th>3</th>\n",
       "      <td>xNTXq</td>\n",
       "      <td>19.401134</td>\n",
       "      <td>-9.446095</td>\n",
       "      <td>0.997003</td>\n",
       "      <td>26.953260</td>\n",
       "      <td>25.916481</td>\n",
       "    </tr>\n",
       "    <tr>\n",
       "      <th>4</th>\n",
       "      <td>MBKBZ</td>\n",
       "      <td>-11.330059</td>\n",
       "      <td>-10.721972</td>\n",
       "      <td>4.000191</td>\n",
       "      <td>110.992149</td>\n",
       "      <td>111.341125</td>\n",
       "    </tr>\n",
       "  </tbody>\n",
       "</table>\n",
       "</div>"
      ],
      "text/plain": [
       "      id         f0         f1        f2     product     predict\n",
       "0  ElrxD   8.029941   0.142761  1.994370   53.906521   54.238152\n",
       "1  zgfBu  -6.032070  -3.118156  2.991338   84.038887   83.217873\n",
       "2  SkOBP  -6.180053  -7.242396  0.009788    3.179103    2.971466\n",
       "3  xNTXq  19.401134  -9.446095  0.997003   26.953260   25.916481\n",
       "4  MBKBZ -11.330059 -10.721972  4.000191  110.992149  111.341125"
      ]
     },
     "execution_count": 36,
     "metadata": {},
     "output_type": "execute_result"
    }
   ],
   "source": [
    "# переиндексация и вывод результата\n",
    "df_2_valid = df_2_valid.reset_index(drop=True)\n",
    "df_2_valid.head()"
   ]
  },
  {
   "cell_type": "markdown",
   "metadata": {},
   "source": [
    "**Оценим результаты работы модели** на валидационной выборке."
   ]
  },
  {
   "cell_type": "code",
   "execution_count": 37,
   "metadata": {},
   "outputs": [
    {
     "name": "stdout",
     "output_type": "stream",
     "text": [
      "Регион 2\n",
      "Средний запас сырья реальный: 68.77\n",
      "Средний запас сырья предсказанный: 68.77\n",
      "RMSE: 0.89\n"
     ]
    }
   ],
   "source": [
    "# вывод итогов: реальные средние запасы сырья, предсказанные запасы сырья, RMSE модели.\n",
    "print('Регион 2')\n",
    "print('Средний запас сырья реальный:', df_2_valid['product'].mean().round(2))\n",
    "print('Средний запас сырья предсказанный:', df_2_valid['predict'].mean().round(2))\n",
    "print('RMSE:', (mean_squared_error(target_2_valid, df_2_valid['predict']) ** 0.5).round(2))"
   ]
  },
  {
   "cell_type": "markdown",
   "metadata": {},
   "source": [
    "### Регион 3"
   ]
  },
  {
   "cell_type": "markdown",
   "metadata": {},
   "source": [
    "Обработаем третий датасет."
   ]
  },
  {
   "cell_type": "markdown",
   "metadata": {},
   "source": [
    "**Выделим обучающие и валидационные признаки и целевой признак** с помощью созданной выше функции."
   ]
  },
  {
   "cell_type": "code",
   "execution_count": 38,
   "metadata": {},
   "outputs": [],
   "source": [
    "# вывод полученных признаков и целевых признаков обучающей и валидационной выборок\n",
    "df_3_valid, features_3_train, target_3_train, features_3_valid, target_3_valid = features_prepare(df_3)"
   ]
  },
  {
   "cell_type": "markdown",
   "metadata": {},
   "source": [
    "**Обучим модель**, сделаем предсказание и **добавим в датасет колонку с предсказаниями** с помощью второй функции."
   ]
  },
  {
   "cell_type": "code",
   "execution_count": 39,
   "metadata": {},
   "outputs": [],
   "source": [
    "# добавление в датасет с валидационной выборкой колонки с предсказанием\n",
    "df_3_valid['predict'] = model_train(features_3_train, target_3_train, features_3_valid, target_3_valid)"
   ]
  },
  {
   "cell_type": "markdown",
   "metadata": {},
   "source": [
    "**Переиндексируем получившуюся выборку** для удобства дальнейшей работы."
   ]
  },
  {
   "cell_type": "code",
   "execution_count": 40,
   "metadata": {},
   "outputs": [
    {
     "data": {
      "text/html": [
       "<div>\n",
       "<style scoped>\n",
       "    .dataframe tbody tr th:only-of-type {\n",
       "        vertical-align: middle;\n",
       "    }\n",
       "\n",
       "    .dataframe tbody tr th {\n",
       "        vertical-align: top;\n",
       "    }\n",
       "\n",
       "    .dataframe thead th {\n",
       "        text-align: right;\n",
       "    }\n",
       "</style>\n",
       "<table border=\"1\" class=\"dataframe\">\n",
       "  <thead>\n",
       "    <tr style=\"text-align: right;\">\n",
       "      <th></th>\n",
       "      <th>id</th>\n",
       "      <th>f0</th>\n",
       "      <th>f1</th>\n",
       "      <th>f2</th>\n",
       "      <th>product</th>\n",
       "      <th>predict</th>\n",
       "    </tr>\n",
       "  </thead>\n",
       "  <tbody>\n",
       "    <tr>\n",
       "      <th>0</th>\n",
       "      <td>27k9G</td>\n",
       "      <td>0.071381</td>\n",
       "      <td>0.053595</td>\n",
       "      <td>5.548406</td>\n",
       "      <td>52.610855</td>\n",
       "      <td>112.561890</td>\n",
       "    </tr>\n",
       "    <tr>\n",
       "      <th>1</th>\n",
       "      <td>BXc4A</td>\n",
       "      <td>1.103934</td>\n",
       "      <td>2.408835</td>\n",
       "      <td>-1.945280</td>\n",
       "      <td>52.273441</td>\n",
       "      <td>69.464073</td>\n",
       "    </tr>\n",
       "    <tr>\n",
       "      <th>2</th>\n",
       "      <td>u56DZ</td>\n",
       "      <td>0.983287</td>\n",
       "      <td>0.338086</td>\n",
       "      <td>-1.896587</td>\n",
       "      <td>71.340469</td>\n",
       "      <td>69.866226</td>\n",
       "    </tr>\n",
       "    <tr>\n",
       "      <th>3</th>\n",
       "      <td>bITk7</td>\n",
       "      <td>3.617945</td>\n",
       "      <td>5.317369</td>\n",
       "      <td>5.242931</td>\n",
       "      <td>162.937912</td>\n",
       "      <td>110.331062</td>\n",
       "    </tr>\n",
       "    <tr>\n",
       "      <th>4</th>\n",
       "      <td>TEUoB</td>\n",
       "      <td>-2.139805</td>\n",
       "      <td>0.276569</td>\n",
       "      <td>2.485220</td>\n",
       "      <td>155.371552</td>\n",
       "      <td>95.123291</td>\n",
       "    </tr>\n",
       "  </tbody>\n",
       "</table>\n",
       "</div>"
      ],
      "text/plain": [
       "      id        f0        f1        f2     product     predict\n",
       "0  27k9G  0.071381  0.053595  5.548406   52.610855  112.561890\n",
       "1  BXc4A  1.103934  2.408835 -1.945280   52.273441   69.464073\n",
       "2  u56DZ  0.983287  0.338086 -1.896587   71.340469   69.866226\n",
       "3  bITk7  3.617945  5.317369  5.242931  162.937912  110.331062\n",
       "4  TEUoB -2.139805  0.276569  2.485220  155.371552   95.123291"
      ]
     },
     "execution_count": 40,
     "metadata": {},
     "output_type": "execute_result"
    }
   ],
   "source": [
    "# переиндексация и вывод результата\n",
    "df_3_valid = df_3_valid.reset_index(drop=True)\n",
    "df_3_valid.head()"
   ]
  },
  {
   "cell_type": "markdown",
   "metadata": {},
   "source": [
    "**Оценим результаты работы модели** на валидационной выборке."
   ]
  },
  {
   "cell_type": "code",
   "execution_count": 41,
   "metadata": {
    "scrolled": false
   },
   "outputs": [
    {
     "name": "stdout",
     "output_type": "stream",
     "text": [
      "Регион 3\n",
      "Средний запас сырья реальный: 94.75\n",
      "Средний запас сырья предсказанный: 95.09\n",
      "RMSE: 39.96\n"
     ]
    }
   ],
   "source": [
    "# вывод итогов: реальные средние запасы сырья, предсказанные запасы сырья, RMSE модели.\n",
    "print('Регион 3')\n",
    "print('Средний запас сырья реальный:', df_3_valid['product'].mean().round(2))\n",
    "print('Средний запас сырья предсказанный:', df_3_valid['predict'].mean().round(2))\n",
    "print('RMSE:', (mean_squared_error(target_3_valid, df_3_valid['predict']) ** 0.5).round(2))"
   ]
  },
  {
   "cell_type": "markdown",
   "metadata": {},
   "source": [
    "<div style=\"border:solid blue 2px; padding: 20px\">\n",
    "    \n",
    " > **Вывод** \n",
    "    \n",
    " > Проведено обучение модели и предсказание запасов по каждому региону, для этого:\n",
    " > 1. датасеты по каждому региону разбиты на обучающую и валидационную выборки в соотношении 75:25\n",
    " > 2. модели обучены на тестовых выборках, предсказания сделаны на валидационных выборках\n",
    " > 3. из данных валидационной выборки и предсказаний сформированы отдельные датасеты для последующего анализа\n",
    " > 4. посчитаны средние значения реальных и спрогнозированных запасов, а также RMSE на валидационной выборке.\n",
    "\n",
    " > Результаты:\n",
    "    \n",
    "\n",
    " > |Регион   |Средний запас сырья реальный|Средний запас сырья предсказанный|RMSE   |\n",
    " > |:-------:|---------------------------:|--------------------------------:|------:|\n",
    " > |Регион 1 |92.08                       |92.59                            |37.58  |\n",
    " > |Регион 2 |68.77                       |68.77                            |0.89   | \n",
    " > |Регион 3 |94.75                       |95.09                            |39.96  |    \n",
    "\n",
    " > Наибольшая точность предсказания и минимальная среднеквадратичная ошибка наблюдается на выборке Региона 2.\n",
    "    \n",
    " > Для регионов 1 и 3 прогноз завышен.    \n",
    "   \n",
    "<div>"
   ]
  },
  {
   "cell_type": "markdown",
   "metadata": {},
   "source": [
    "## Подготовка к расчёту прибыли"
   ]
  },
  {
   "cell_type": "markdown",
   "metadata": {},
   "source": [
    "Рассчитаем **достаточный объём сырья для безубыточной разработки** новой скважины при условии, что общий бюджет на разработку скважин составляет 10 000 000 000 руб., изучить планируется 500 скважин, а разработать - 200 скважин, при этом каждая единица продукции в скважине приносит 450 000 руб. прибыли."
   ]
  },
  {
   "cell_type": "markdown",
   "metadata": {},
   "source": [
    "Поместим вводные данные в переменные."
   ]
  },
  {
   "cell_type": "code",
   "execution_count": 42,
   "metadata": {},
   "outputs": [],
   "source": [
    "# бюджет на разработку\n",
    "BUDGET = 10000000000\n",
    "# скважин для изучения\n",
    "POINTS_TO_EXAMINE = 500\n",
    "# скважин для разработки\n",
    "POINTS_TO_DEVELOP = 200\n",
    "# доход с 1000 баррелей\n",
    "INCOME_PER_BAR = 450000"
   ]
  },
  {
   "cell_type": "code",
   "execution_count": 43,
   "metadata": {
    "scrolled": true
   },
   "outputs": [
    {
     "name": "stdout",
     "output_type": "stream",
     "text": [
      "Суммарный объем добычи, тыс барр.: 22222.2\n"
     ]
    }
   ],
   "source": [
    "# расчет суммарного объема добычи, способного компенсировать расходы на разработку\n",
    "print(f'Суммарный объем добычи, тыс барр.: {BUDGET / INCOME_PER_BAR:.6}')"
   ]
  },
  {
   "cell_type": "code",
   "execution_count": 44,
   "metadata": {
    "scrolled": true
   },
   "outputs": [
    {
     "name": "stdout",
     "output_type": "stream",
     "text": [
      "Средний объем добычи с 1 скважины, тыс. барр.: 111.1\n",
      "Средняя прибыль с 1 скважины, тыс. руб.: 50000000.0\n"
     ]
    }
   ],
   "source": [
    "# расчет среднего объема добычи и средней прибыли с одной скважины, способных компенсировать расходы на разработку\n",
    "print(f'Средний объем добычи с 1 скважины, тыс. барр.: {BUDGET / INCOME_PER_BAR / POINTS_TO_DEVELOP:.4}')\n",
    "print(f'Средняя прибыль с 1 скважины, тыс. руб.: {BUDGET / POINTS_TO_DEVELOP:.10}')"
   ]
  },
  {
   "cell_type": "markdown",
   "metadata": {},
   "source": [
    "Подготовим **функцию для расчета прибыли**, которая выберет скважины с максимальными значениями предсказаний, просуммирует целевые значения объёма сырья, соответствующие этим предсказаниям, и рассчитает прибыль для полученного объёма сырья."
   ]
  },
  {
   "cell_type": "code",
   "execution_count": 45,
   "metadata": {},
   "outputs": [],
   "source": [
    "# подготовка функции\n",
    "def profit_count(df):\n",
    "    df_max = df.sort_values(by = 'predict', ascending = False).reset_index(drop=True)[:200]\n",
    "    result = df_max['product'].sum() * INCOME_PER_BAR - BUDGET\n",
    "    return result"
   ]
  },
  {
   "cell_type": "markdown",
   "metadata": {},
   "source": [
    "<div style=\"border:solid blue 2px; padding: 20px\">\n",
    "    \n",
    " > **Вывод** \n",
    "    \n",
    " > Проведена подготовка к расчету прибыли и рисков:\n",
    " > 1. подготовлены необходимые переменные\n",
    " > 2. рассчитан достаточный средний объём сырья в скважине для безубыточной разработки: он составил 111.1 барреля ( = прибыль    > 50 000 000 руб. с одной скважины), что существенно выше средних значений реальных запасов по регионам:\n",
    "\n",
    " >     Результаты:\n",
    "    \n",
    "\n",
    " > |Регион   |Средний запас сырья реальный|\n",
    " > |:-------:|---------------------------:|\n",
    " > |Регион 1 |92.08                       |\n",
    " > |Регион 2 |68.77                       |\n",
    " > |Регион 3 |94.75                       |   \n",
    "\n",
    " > 3. подготовлена функция для расчета прибыли\n",
    "<div>    "
   ]
  },
  {
   "cell_type": "markdown",
   "metadata": {},
   "source": [
    "## Расчёт прибыли и рисков "
   ]
  },
  {
   "cell_type": "markdown",
   "metadata": {},
   "source": [
    "Подсчитаем **объемы прибыли для всех регионов** на основании 200 отобранных в каждом регионе скажин с максимальными предсказанными объемами сырья с помощью функции, подготовленной выше."
   ]
  },
  {
   "cell_type": "markdown",
   "metadata": {},
   "source": [
    "**Регион 1**"
   ]
  },
  {
   "cell_type": "code",
   "execution_count": 46,
   "metadata": {},
   "outputs": [
    {
     "data": {
      "text/plain": [
       "3320826171.875"
      ]
     },
     "execution_count": 46,
     "metadata": {},
     "output_type": "execute_result"
    }
   ],
   "source": [
    "# расчет прибыли по реальным запасам сырья в 200 скважинах, отобранных по макимальному предсказанному объему сырья\n",
    "profit_count(df_1_valid)"
   ]
  },
  {
   "cell_type": "markdown",
   "metadata": {},
   "source": [
    "**Регион 2**"
   ]
  },
  {
   "cell_type": "code",
   "execution_count": 47,
   "metadata": {},
   "outputs": [
    {
     "data": {
      "text/plain": [
       "2415088671.875"
      ]
     },
     "execution_count": 47,
     "metadata": {},
     "output_type": "execute_result"
    }
   ],
   "source": [
    "# расчет прибыли по реальным запасам сырья в 200 скважинах, отобранных по макимальному предсказанному объему сырья\n",
    "profit_count(df_2_valid)"
   ]
  },
  {
   "cell_type": "markdown",
   "metadata": {},
   "source": [
    "**Регион 3**"
   ]
  },
  {
   "cell_type": "code",
   "execution_count": 48,
   "metadata": {
    "scrolled": true
   },
   "outputs": [
    {
     "data": {
      "text/plain": [
       "2539916210.9375"
      ]
     },
     "execution_count": 48,
     "metadata": {},
     "output_type": "execute_result"
    }
   ],
   "source": [
    "# расчет прибыли по реальным запасам сырья в 200 скважинах, отобранных по макимальному предсказанному объему сырья\n",
    "profit_count(df_3_valid)"
   ]
  },
  {
   "cell_type": "markdown",
   "metadata": {},
   "source": [
    "Согласно расчетам выше, максимальная прибыль ожидается при разработке регионов 1 и 3 (прибыль прогнозируется в размерах: 3,3 млрд и 2,5 млрд соответственно). "
   ]
  },
  {
   "cell_type": "markdown",
   "metadata": {},
   "source": [
    "Подсчитаем **риски и прибыль для каждого региона** с помощью техники Bootstrap с 1000 выборок."
   ]
  },
  {
   "cell_type": "markdown",
   "metadata": {},
   "source": [
    "**Регион 1**"
   ]
  },
  {
   "cell_type": "markdown",
   "metadata": {},
   "source": [
    "Применим технику Bootstrap для оценки перспективности региона."
   ]
  },
  {
   "cell_type": "code",
   "execution_count": 49,
   "metadata": {
    "scrolled": true
   },
   "outputs": [
    {
     "name": "stdout",
     "output_type": "stream",
     "text": [
      "Средняя выручка с одной скважины: 394284405.078125\n",
      "Доверительный интервал, нижняя граница: -69450976.56249999\n",
      "Доверительный интервал, верхняя граница: 915496257.3242186\n",
      "Риски убытков: 6.10%\n"
     ]
    }
   ],
   "source": [
    "# использование техники Bootstrap\n",
    "values = []\n",
    "for i in range(1000):\n",
    "    subsample = df_1_valid.sample(n=500, replace=True, random_state=state)\n",
    "    values.append(profit_count(subsample))\n",
    "\n",
    "values = pd.Series(values) \n",
    "    \n",
    "mean = values.mean()\n",
    "lower = values.quantile(0.025)\n",
    "upper = values.quantile(0.975)\n",
    "risk = sum(values < 0)/ len(values)\n",
    "\n",
    "print(\"Средняя выручка с одной скважины:\", mean)\n",
    "print(\"Доверительный интервал, нижняя граница:\", lower)\n",
    "print(\"Доверительный интервал, верхняя граница:\", upper)\n",
    "print(f'Риски убытков: {risk :.2%}')"
   ]
  },
  {
   "cell_type": "code",
   "execution_count": 53,
   "metadata": {},
   "outputs": [
    {
     "data": {
      "text/plain": [
       "('MT19937',\n",
       " array([ 916192167, 1973201968, 1592019555, 2753960084, 3651600276,\n",
       "        3766829179, 3513239204,  956991872, 2968142249, 3167767376,\n",
       "         662288716, 1397311544,  954249812,  141088969, 4075397559,\n",
       "        3188570459,  267775999, 3582199051, 2125764528, 2668022462,\n",
       "        3368690595, 2633811098, 1108598869,  165095238,  503569840,\n",
       "        1114875986,  138318041,  590258952,  927356253,  807137592,\n",
       "        2185061130, 2317833781, 4177735767, 1337379429, 2197185418,\n",
       "        2470207455,  763929867, 1171553757, 1827292367, 2121486111,\n",
       "        2834299743, 1971406858, 3614217303,  911352449, 3127814895,\n",
       "        3655058829,    4604792, 1622136795,  963415262, 2514781640,\n",
       "        2107556990, 4079996003,  196719202, 1717218983, 4258765745,\n",
       "        3884632063, 4186217562, 2655701106, 1830652923, 1988704524,\n",
       "        3039149518, 1579604920,  537084929, 1676593911, 3540563389,\n",
       "        3837419101, 4129245827, 2117333979, 3017878241, 1070535659,\n",
       "        3292979704, 3638248768, 2810941571, 2225583113, 3741841609,\n",
       "        2472632850, 3686128985,  799779293, 2916090312,  775305307,\n",
       "        2634346643, 1654781936,   50783096,  462326939, 1616148935,\n",
       "        3117586766, 1747554087, 1807246175,  867751397,  207646095,\n",
       "        2126160077, 1720815767,  955075026, 2152572035,   28865736,\n",
       "         784834054,  897803632,  277942891, 1344652532, 2880900248,\n",
       "          99418133, 3703240496, 3704186406, 2295110813, 1286778626,\n",
       "        3935564951, 1744513782, 1311984021,  334653747, 2346811964,\n",
       "        2860337992, 4203991815, 2857426613, 1328868685, 3221509340,\n",
       "        2681135400, 1149388366, 1492540761,  356494989, 1462863200,\n",
       "        2844437368, 1629003728, 1865268868, 1427331638,  799856239,\n",
       "        1732022382, 3313492713, 2176739025, 1576904704, 1378234213,\n",
       "          33098420, 1621803081, 2128358286, 2440505218, 2390286058,\n",
       "         307147966,  422664646, 1786525760, 1173334967, 1873201629,\n",
       "        3438100090, 1347056322, 3038378733,   30217153,  734457517,\n",
       "        1444131640, 1318271759, 1001766043,  421984532,  778568206,\n",
       "        2932822215, 3330884667,  905012477, 1166052342,  944588644,\n",
       "        3682585958,  368575200, 2259305985, 2669223549, 3174007849,\n",
       "        2796760693,   32524098, 4280245287, 1945756264, 3346508749,\n",
       "         607424237, 2122696965,  954621592, 3076102189, 2916553260,\n",
       "        3530292675, 1120846333,  789823866, 3906173777, 3592022126,\n",
       "        2144248488, 3469943657, 1197238779, 2082696357,  243444124,\n",
       "         370039932,  513261929,  519277517, 3788417343, 3112665285,\n",
       "        1131753719,  382926951, 1634704530,  733614853, 1399323919,\n",
       "         111074738, 4273935518,  197882440, 2166580320, 3851208479,\n",
       "        2707116191, 1161376136,  215419192, 1296646296, 1521754423,\n",
       "        2718999563, 4009545688, 3885417081,  885178580,  709089629,\n",
       "         736579810,  920373739, 1732278958, 3330385351,  306780012,\n",
       "        1449486560, 1723948020, 3959407168, 1041803335, 1513362078,\n",
       "        2544950544, 4120707060, 3082732308, 1627451657, 3297846356,\n",
       "        3284271334, 2165692969,  368740945, 3616662539,  612865529,\n",
       "        2290846599, 1909609558, 4160879487, 2166065849,  820020206,\n",
       "        3971076460, 2985440619, 2819724469,  770239559, 1279184954,\n",
       "        3489470316, 3248343119,  162495725, 1483348770, 3980245877,\n",
       "        1766978233, 1287760793,  349423870,   12750167, 2916259689,\n",
       "        3796125369,  935114380, 4170391517, 2107034166, 1793510826,\n",
       "        1712379736, 2452829381, 2409905182, 2920685662, 2284027995,\n",
       "        4148998484, 4201143072, 1370188457, 3788702972, 3044068797,\n",
       "        3758301183,  279591376, 2482424890, 1576661556,  677192193,\n",
       "        4203933483, 3342947244, 3149936400, 3342747566,   16151137,\n",
       "        1444573874, 1324975535, 2793361884,  801597833, 4051954968,\n",
       "         435675644,  493148219, 3069066474, 1564074914, 2411227854,\n",
       "         960844522, 1162670708, 2725361119, 3895199249,  797635677,\n",
       "         175676863, 2019930055,  943521166, 3956488388, 2841327377,\n",
       "        2887428177,  828831510, 1217205766, 1803727137, 2004189284,\n",
       "        1884795169, 1954225421,  100311159,   91420123,  518675390,\n",
       "         362613379, 3974458184,  105353720,  273199812, 3181718384,\n",
       "        2216707313,  647184805,  481043049, 1203423561, 3353916797,\n",
       "        2067559807,  521201800,  443028808, 4249471595, 2587550918,\n",
       "         443821222, 4126656851, 3857529663,  520879927, 1346306753,\n",
       "        2569737742, 1783224550,  425620358, 1031929437, 3743297647,\n",
       "        3984498370, 4233215636, 2325445664, 1697274714, 1300772170,\n",
       "        1091212623, 2249632317, 1595235667, 3093047745, 1945312145,\n",
       "        2456348091, 4123831057, 1739746899, 1869995990, 3683611061,\n",
       "        2144375064, 2940366562, 2179650554,  509816761, 1940613827,\n",
       "        2461596882,  751565776, 1408730447, 2782513288, 3379612184,\n",
       "        3526785153, 3811685346,  972771496,  595127680, 3796072263,\n",
       "        2260802243, 2616427449, 3482357617, 2184888240, 3554043338,\n",
       "        3934897740, 3308301877, 2987855153, 2217004655, 2358896928,\n",
       "        1851408736, 1226691534, 3480410477,  560099798, 3295156656,\n",
       "        3975911660, 4078686185, 1158494779, 4154890296, 1880609180,\n",
       "        4256983972, 2614574896, 3564235902, 3842418528, 3050676006,\n",
       "        3988133373,  329777167,  504108779, 2520059981, 3453435189,\n",
       "         976665273,  475338445,  138488461, 3508922793, 1735959234,\n",
       "         435010235, 3767361623, 3068067857, 2438856455,   31812414,\n",
       "        2780340609, 1058644311, 2221849860,  228022084, 2733797874,\n",
       "        1275669465, 4174288721, 1964325168, 3302780912, 1876209186,\n",
       "        3110584797, 2635792851,  585152501, 1906620878, 4241239992,\n",
       "        3153565923,  353726746, 2420801745,  514780499,  700987674,\n",
       "        2706057892,   76180879, 2220370193,  928940555, 4254850769,\n",
       "        3223902293, 2394790944,  867014079, 3289043561, 1649825277,\n",
       "        1496376572, 4270857903, 4156414694, 1415727937, 2289544928,\n",
       "        2401863084, 2725891045, 1885767831,  163147069, 2222570436,\n",
       "        1943616260, 3571381758, 1917731738, 3955294801, 3891991022,\n",
       "        4059629468, 1887067789, 1600365292,  219763583, 3156215314,\n",
       "        4081178947,  535007819, 3430737980,  571625862, 1444310132,\n",
       "         507876473,  978275617,  282662659, 3640222670, 1931118733,\n",
       "        2252385046, 3437353479, 1803045598, 1965812830, 2371430462,\n",
       "        4024451107, 4079656859, 3733230420, 3804907764, 2162770281,\n",
       "        4267338440, 3696758461, 1388030246,  897794627, 2834027007,\n",
       "        3339206717,  231490178, 2827850374,  585071022, 3347981737,\n",
       "        1505705633, 2042975631, 3972079817, 2479211512, 2658409631,\n",
       "         986579558, 3937875013, 3302590589,  174191173,  691712511,\n",
       "        2888736993, 1459512677, 1707723989, 4246954557, 3534284740,\n",
       "        3247366535, 3599745209, 3189228339,  387199662, 3486572157,\n",
       "        3257929567, 1115385693, 3128187895, 3542923656, 2859600677,\n",
       "        2277617434, 2364855834, 4268483514, 1954164985,  869692779,\n",
       "        1051389501,  190296723,  177971478,  398462901, 3195593909,\n",
       "        3583052045, 1238917067, 1720405426, 2289752319, 3430305385,\n",
       "        3074517569, 4241001919, 3631125336, 1132733444, 1403337355,\n",
       "         319022477,  867226424, 3718610542, 3955707923, 1610286344,\n",
       "        4201463307,  536240067, 3843640654, 1581192974,  577341180,\n",
       "        2393658943, 2683470175,  622871716, 1629022677, 1052058429,\n",
       "        3557986757, 2891441927, 2148344615,  863428745, 4184220595,\n",
       "        2852451764, 2236097604, 2058850927, 1499549981, 3066697863,\n",
       "        2124441653, 2048457610, 1534156726,    6545376,   12366335,\n",
       "        1361563008, 2260459183, 1811588524, 1395293927,  186931409,\n",
       "        3454761878, 1973055951, 3502371844,  625043626, 3563178037,\n",
       "        1209939161, 2523943545,   20399986,  583351006, 2488059674,\n",
       "        4023038114, 2478704052, 2222520827,  753335790, 4176331462,\n",
       "        4121497206, 3263112445,  364019687, 1574400682, 3659064732,\n",
       "        2888493273,  141679974,     233948, 2692146859, 3016859589,\n",
       "        3598828349, 3976479579, 2387479030, 2385625808, 1578856227,\n",
       "        1985849658, 1829339209,  166613089,  592799274, 2841801828,\n",
       "        3790133477, 1296946138, 2484973668, 1564758185,  685359049,\n",
       "        1665124557, 2931244602, 2496798654, 1547279263, 1626206868,\n",
       "        4236867920,  494536965,  724358537,  146853543, 3500944923,\n",
       "        2555091764, 3666751368,   29575939, 3696040644, 3971892721,\n",
       "        2987076879, 3946668571, 4052737520, 3638206108, 2177329884,\n",
       "        2912497209, 3191415761, 2628773407, 1666910865, 1052634285,\n",
       "        2702737160, 2676406822, 1874623876, 4250725467], dtype=uint32),\n",
       " 476,\n",
       " 0,\n",
       " 0.0)"
      ]
     },
     "execution_count": 53,
     "metadata": {},
     "output_type": "execute_result"
    }
   ],
   "source": [
    "#код ревьюера\n",
    "state.get_state()"
   ]
  },
  {
   "cell_type": "code",
   "execution_count": 54,
   "metadata": {},
   "outputs": [
    {
     "data": {
      "text/plain": [
       "('MT19937',\n",
       " array([     12345, 2003863422, 2690739229, 1915043646, 1178839775,\n",
       "        1127561115, 2079742408, 4273798484, 1166312027, 3749681035,\n",
       "        4196831410, 4118597344,  287971995, 1813410356,  594308087,\n",
       "         659474306, 4150741082, 1743137838,  884839837, 2535984132,\n",
       "        3982881906, 2485184938, 1369380702,  249499538, 1112819378,\n",
       "        3086659512,   67624572,  848241415, 1969787103, 3856266675,\n",
       "        1263083150, 4280063370, 3574353965, 1040597063, 2261670693,\n",
       "        2420299142,  893247800, 3883455293, 3932784028, 2944192226,\n",
       "         789806728, 3609179089, 1501254660, 3049378596, 1031906346,\n",
       "        3659939519, 2412600410, 1222149863, 1441287918,  862849916,\n",
       "        3472090142, 2753004708, 4224592818, 2341467658,  883841374,\n",
       "         808357965, 1538466713,  618750769, 2371378063,  162894812,\n",
       "        3687322120, 3924033940,  183463889, 2919560884, 3606494222,\n",
       "        2052466274,  792535121, 1738545464, 1278768321, 2046873605,\n",
       "        4055905754, 1117085668, 1887658657, 3858598249, 3849777436,\n",
       "        3671046278, 2773875141,  101190352, 3131413598,  507298971,\n",
       "         929924215, 1297740356, 1661371019, 1462983365,  238138280,\n",
       "        4233677213, 1044322732, 2539007283, 3146124717, 3976138084,\n",
       "        3499976957, 2453428881, 2085447515, 1112469727, 2786973172,\n",
       "         587206765, 1187762273,  864851521,  447156487, 1463252774,\n",
       "        3451314631, 3830773433, 3299140040, 2725230718,  993142100,\n",
       "        2785980045, 2032035285, 1179164943, 3896117490, 2554691714,\n",
       "        3366990574, 3644845296, 3937109839,  606604653,  217555315,\n",
       "        2436775378,  223523716,  474904457,  967604867, 2888921382,\n",
       "        2903107500, 1336313375, 3712677968, 1002267706,  569480542,\n",
       "        1792097427, 1576339480, 4155544412, 1394670587, 3467785251,\n",
       "        3608391970,  678857608, 2552812844,  510900651,  699515901,\n",
       "        2901391448, 2259805706,   42076593, 2220133471, 2265196092,\n",
       "        2966177026, 4102306189, 3050943380, 1897472189, 1184007868,\n",
       "        2903854626, 1394012978,  983121586, 4024499918, 2142977142,\n",
       "        1937476233, 3600314431, 2681758788,  603129399, 2629165901,\n",
       "        3046176198, 2652035824, 2302272535,  930691559, 3424745410,\n",
       "         613517509,  687825754, 2288213284, 2417432225, 2527996403,\n",
       "        2025817530, 2923288173, 2268070258, 1355121112, 2841140294,\n",
       "        1327025022, 2653438150, 1709601280,  284460050, 3215179208,\n",
       "        2763062113, 1410345407,  485041831, 2956763029,  175359558,\n",
       "         145928274, 2031710991, 1929306940, 3101052104, 3978978922,\n",
       "        1533516070,  619072541,  509775148,  648167192, 3949903157,\n",
       "         443321612, 1872958075, 1234146530, 2995272016, 2141814812,\n",
       "        3493466420, 3869260407, 1168843913, 1925853806, 3016510866,\n",
       "         604809880, 3396511425, 2714213716, 1011751353, 1453533129,\n",
       "        4112562869,  483332252, 1910049371, 1369522258, 1179634832,\n",
       "         904679175, 3652644246,  627276189, 2342453446, 3800052266,\n",
       "        2727001092,  193291574, 2068108583, 1413705432, 3906723192,\n",
       "        2057450851, 4265509511,   69083890, 3442822233, 2321107554,\n",
       "        3869751489, 2807674732, 1972452681,  688961100,  825923809,\n",
       "        3793074859, 3457060143, 2172534596, 3918884231, 3458980350,\n",
       "        2162190012, 3870701538, 4243748274, 1887119555, 1052043129,\n",
       "        3985511597, 3135326103,  457374651, 1614898362, 2647773627,\n",
       "        1427292146, 1556334293, 1047586459, 3224432415, 1560826629,\n",
       "         500295054, 1183485953, 3954888956, 1166404760,  497236571,\n",
       "         136165862,  964718270, 2585878519, 2805463467,  223343024,\n",
       "        3836840820, 1106228728, 1371802947, 1648332305, 1753849176,\n",
       "        3169760806, 1956847934, 3453998566, 2013917541, 2010562945,\n",
       "        2143803534, 2628122746,  180043880,  338694681, 3142944239,\n",
       "        1390718100, 2829505757, 3084276752,  520801840, 3941272071,\n",
       "        1832065196,  370692698, 4095781020, 2071502550, 1333312239,\n",
       "        2066554627, 1869827816,  571986956,  271914460,  917003501,\n",
       "         815955875, 1742706546, 1265126531, 2158346863, 3278703399,\n",
       "        4076317275,  776424928,  200186505, 1804945975,  639053433,\n",
       "        3226671081, 3086658175,  546122111,  425678666, 2740587362,\n",
       "        1916591633, 2001350018, 1161040098, 1690904003, 1222555839,\n",
       "         636391980,  848115859,  352517687,  196787180, 1118925142,\n",
       "         319440782, 3761977922,  760333794, 1700201832, 4279850156,\n",
       "        1478037835, 3710545267,  878583410, 4102751805,  887268794,\n",
       "         674360743, 2272404265, 2668028990, 4219480308,  574446012,\n",
       "         459146358,   62187993,  947152105, 2655748666,  201480550,\n",
       "        2022628493,  473428108, 3047216269, 3726468285, 1169452617,\n",
       "        1932266428,  282314726, 2027025684, 2526080928, 3705290306,\n",
       "         221403646, 3304616080, 3259504218, 1658155897,   21612469,\n",
       "        3488524487,  248871603, 4157093119, 2839266509, 1989176845,\n",
       "         607377439,   66444447, 1063920416, 1200356614,   64263210,\n",
       "         189722618, 3160897803, 3487011575, 1381863343, 3868184338,\n",
       "        3255028770,  346305395, 4034255054, 1495220049, 1566952449,\n",
       "        3881139570,  519239688, 1691362460, 1711372390, 3335823641,\n",
       "        2614131385, 1242267711,  131909615, 2359478725,  312876030,\n",
       "         745929394, 2693999543, 2858884327, 3479696600, 2349453031,\n",
       "        3285855962, 3692404255, 2296929935, 1881261093, 3695552441,\n",
       "        1012119528, 2177546255,  903123881, 1434629174, 3498281533,\n",
       "        2559752705,  293863355, 1863055700, 3850034455, 3310677619,\n",
       "         321651648,  949959761, 1615931015,   55306865,   42006825,\n",
       "         509099970, 3376282400,  852414822, 2071082198, 4164348268,\n",
       "        2258600293, 1996435006, 1512437623, 1856162091, 4228307248,\n",
       "        2371157438, 2121644236, 1844617090, 3635088209, 3955776253,\n",
       "        3819951578, 1388282178, 4002405397, 1747164245, 3674317516,\n",
       "         258933844,  241806030, 3485115121, 1651756326, 3767193872,\n",
       "        2620172589, 4168214586, 1606820141, 1226810381, 1419388526,\n",
       "        3228275326,  960541189,  804121262,  238466652, 2947624963,\n",
       "        3751770909, 2560664207,  473471067, 4200190114, 1987869249,\n",
       "        3024649469, 3933653337, 2350160961, 3583410991, 4140322333,\n",
       "        1504108952, 1690362912,  588688329, 2019514642, 4157493573,\n",
       "        4006512741, 2168743942,  599994205,  400914043, 1531745106,\n",
       "         189959307,  546625444, 2543573378,  711086415, 3816185083,\n",
       "        1077634985, 3615543066,  710219696,  588220996, 2650534569,\n",
       "        4025565773, 2127358109, 3684123492, 3784358012,  273531637,\n",
       "        3166046596, 2845079994, 1354727285, 3270401698, 4212555876,\n",
       "         292080003, 3099827600, 2071875196,  843111988, 2381152360,\n",
       "        1397908919, 2280294580, 2813024181, 1921747995, 2881368619,\n",
       "         906018071, 2468145918, 1091408728, 2175059210,  380306966,\n",
       "        3931451037, 4158649414, 1861701162, 1737743337, 3780963451,\n",
       "        3145565516, 2986235835, 3361316595, 2583307943, 1222807057,\n",
       "        2715328073, 3208222865, 1952767738, 3825028611, 2746075133,\n",
       "        2677039257, 1072042534, 3699736830, 3047049938,  690804242,\n",
       "        2948471069, 3578430015, 3854270385, 2418910528, 2889910033,\n",
       "         860059527, 2370201932,  876891088, 4264835867, 4225968772,\n",
       "         269682768, 2166692254, 1369151643, 2604900562, 2557330465,\n",
       "          37363425, 3214645720,  179265302, 4071443395, 2385028310,\n",
       "        3356130747, 2574455728, 3251571027, 1138392746, 1303019154,\n",
       "        1543871771, 2466244447, 2169638607, 3538324992, 3171591247,\n",
       "        1094388098, 3673611729,  685303805, 1168436725,  789935977,\n",
       "        2688438163, 3928031068,  390568355, 2012011128,  380368103,\n",
       "         507002958, 2965184242,  146515677, 2858425439, 2846095328,\n",
       "        3431383130, 2626192974, 2379196974, 1278456207, 2102136122,\n",
       "        1655885180, 4209899911, 3708229451,   37337504, 1484578393,\n",
       "        4037595890, 3155506256, 2476443798, 2759858337, 3828217229,\n",
       "        1030545733, 3311783801, 2173249379, 2161538183, 3835307964,\n",
       "        1515186079, 1640755611, 1291304456, 4038053076, 1474028059,\n",
       "        2088116363, 1842000572, 1774889948,  570037629, 2408931742,\n",
       "         309330138,  882573905, 4053550405, 1621347567, 3419224632,\n",
       "        3082718874, 2124782668, 1511449014,  701693577,  741654372,\n",
       "         385353932,  438609621, 1502663011, 3890089989, 1230604986,\n",
       "        2326712612,   82828380,  638791339, 3023564503, 1823750506,\n",
       "         197258393, 1867463616, 1602477705, 3067450893, 3724229969,\n",
       "        1294865857, 3037878056, 1527242747, 3100518924, 1278875633,\n",
       "         290120732, 4083350905, 1711951248,  277493156], dtype=uint32),\n",
       " 624,\n",
       " 0,\n",
       " 0.0)"
      ]
     },
     "execution_count": 54,
     "metadata": {},
     "output_type": "execute_result"
    }
   ],
   "source": [
    "#код ревьюера\n",
    "state = np.random.RandomState(12345)\n",
    "state.get_state()"
   ]
  },
  {
   "cell_type": "markdown",
   "metadata": {},
   "source": [
    "**Регион 2**"
   ]
  },
  {
   "cell_type": "markdown",
   "metadata": {},
   "source": [
    "Применим технику Bootstrap для оценки перспективности региона."
   ]
  },
  {
   "cell_type": "code",
   "execution_count": 50,
   "metadata": {
    "scrolled": true
   },
   "outputs": [
    {
     "name": "stdout",
     "output_type": "stream",
     "text": [
      "Средняя выручка с одной скважины: 454737609.86328125\n",
      "Доверительный интервал, нижняя граница: 61071875.0\n",
      "Доверительный интервал, верхняя граница: 855916147.4609375\n",
      "Риски убытков: 0.70%\n"
     ]
    }
   ],
   "source": [
    "# использование техники Bootstrap\n",
    "values = []\n",
    "for i in range(1000):\n",
    "    subsample = df_2_valid.sample(n=500, replace=True, random_state=state)\n",
    "    values.append(profit_count(subsample))\n",
    "\n",
    "values = pd.Series(values) \n",
    "    \n",
    "mean = values.mean()\n",
    "lower = values.quantile(0.025)\n",
    "upper = values.quantile(0.975)\n",
    "risk = sum(values < 0)/ len(values)\n",
    "\n",
    "print(\"Средняя выручка с одной скважины:\", mean)\n",
    "print(\"Доверительный интервал, нижняя граница:\", lower)\n",
    "print(\"Доверительный интервал, верхняя граница:\", upper)\n",
    "print(f'Риски убытков: {risk :.2%}')"
   ]
  },
  {
   "cell_type": "markdown",
   "metadata": {},
   "source": [
    "**Регион 3**"
   ]
  },
  {
   "cell_type": "markdown",
   "metadata": {},
   "source": [
    "Применим технику Bootstrap для оценки перспективности региона."
   ]
  },
  {
   "cell_type": "code",
   "execution_count": 51,
   "metadata": {},
   "outputs": [
    {
     "name": "stdout",
     "output_type": "stream",
     "text": [
      "Средняя выручка с одной скважины: 353664087.20703125\n",
      "Доверительный интервал, нижняя граница: -162651425.78125\n",
      "Доверительный интервал, верхняя граница: 847761831.0546875\n",
      "Риски убытков: 7.60%\n"
     ]
    }
   ],
   "source": [
    "# использование техники Bootstrap\n",
    "values = []\n",
    "for i in range(1000):\n",
    "    subsample = df_3_valid.sample(n=500, replace=True, random_state=state)\n",
    "    values.append(profit_count(subsample))\n",
    "\n",
    "values = pd.Series(values) \n",
    "    \n",
    "mean = values.mean()\n",
    "lower = values.quantile(0.025)\n",
    "upper = values.quantile(0.975)\n",
    "risk = sum(values < 0)/ len(values)\n",
    "\n",
    "print(\"Средняя выручка с одной скважины:\", mean)\n",
    "print(\"Доверительный интервал, нижняя граница:\", lower)\n",
    "print(\"Доверительный интервал, верхняя граница:\", upper)\n",
    "print(f'Риски убытков: {risk :.2%}')"
   ]
  },
  {
   "cell_type": "markdown",
   "metadata": {},
   "source": [
    "<div style=\"border:solid blue 2px; padding: 20px\">\n",
    "    \n",
    " > **Вывод** \n",
    "    \n",
    "> Для оценки перспективности регионов для каждого была рассчитана суммарная прибыль с 200 лучших по предсказаниям скважин на   основании их реальных запасов и применена техника Bootstrap.\n",
    "> Согласно расчету суммарной прибыли, максимальная прибыль ожидается при разработке регионов 1 и 3 (прибыль прогнозируется в > > размерах: 3,3 млрд и 2,5 млрд соответственно).\n",
    "> При перепроверке с использованием техники Bootstrap наиболее перспективным выглядит разработка региона 2:\n",
    "    \n",
    "> Средняя выручка с одной скважины: 458 млн\n",
    "> Доверительный интервал (выручка с 200 лучших скважин), нижняя граница: 70 млн\n",
    "> Доверительный интервал (выручка с 200 лучших скважин), верхняя граница: 866 млн\n",
    "> Риски убытков: 1.00%\n",
    "\n",
    "   \n",
    "<div>"
   ]
  },
  {
   "cell_type": "markdown",
   "metadata": {},
   "source": [
    "## Общий вывод "
   ]
  },
  {
   "cell_type": "markdown",
   "metadata": {},
   "source": [
    "<div style=\"border:solid blue 2px; padding: 20px\">\n",
    "    \n",
    " > **Вывод** \n",
    "    \n",
    " > Для достижения цели проекта по построению модели машинного обучения, которая поможет определить регион, где добыча принесёт наибольшую прибыль, а также для проведения анализа возможных прибыли и рисков добычи в регионах была проделана следующая работа:\n",
    " > 1. Проведен предварительный анализ данных и осуществлена замена типов данных для ускорения расчетов, а также проведен анализ значений признаков по регионам, в результате которого выявлено, что значения распределены по регионам по-разному\n",
    " > 2. Проведено обучение моделей по регионам на тестовых выборках и пресказание запасов на валидационных выборках по каждому региону, рассчитаны средние значения реальных и спрогнозированных запасов, а также RMSE на валидационных выборках.\n",
    " > Наилучшие результаты с минимальной ошибкой показала выборка по Региону 2: средний запас сырья реальный 68,77, средний запас сырья предсказанный 68,77, RMSE 0.89\n",
    " > 3. Рассчитан средний объём сырья в скважине для безубыточной разработки -  111.1 барреля, что существенно выше средних запасов по всем регионам.\n",
    " > 4. Рассчитаны прибыли и убытки в каждом регионе с использованием техники Bootstrap с 1000 выборок: для разработки рекомендуется Регион 2:\n",
    "> Средняя выручка с одной скважины: 458 млн\n",
    "> Доверительный интервал (выручка с 200 лучших скважин), нижняя граница: 70 млн\n",
    "> Доверительный интервал (выручка с 200 лучших скважин), верхняя граница: 866 млн\n",
    "> Риски убытков: 1.00%\n",
    "\n",
    "   \n",
    "<div>"
   ]
  }
 ],
 "metadata": {
  "ExecuteTimeLog": [
   {
    "duration": 57,
    "start_time": "2022-05-22T18:41:24.519Z"
   },
   {
    "duration": 1582,
    "start_time": "2022-05-22T18:41:30.158Z"
   },
   {
    "duration": 668,
    "start_time": "2022-05-22T18:41:32.474Z"
   },
   {
    "duration": 750,
    "start_time": "2022-05-22T18:42:20.559Z"
   },
   {
    "duration": 152,
    "start_time": "2022-05-22T18:42:56.125Z"
   },
   {
    "duration": 161,
    "start_time": "2022-05-22T18:43:20.564Z"
   },
   {
    "duration": 170,
    "start_time": "2022-05-22T18:43:38.401Z"
   },
   {
    "duration": 601,
    "start_time": "2022-05-22T18:44:04.934Z"
   },
   {
    "duration": 16,
    "start_time": "2022-05-22T18:48:36.874Z"
   },
   {
    "duration": 15,
    "start_time": "2022-05-22T18:51:03.065Z"
   },
   {
    "duration": 14,
    "start_time": "2022-05-22T18:51:28.662Z"
   },
   {
    "duration": 80,
    "start_time": "2022-05-22T18:53:45.058Z"
   },
   {
    "duration": 55,
    "start_time": "2022-05-22T18:53:50.376Z"
   },
   {
    "duration": 57,
    "start_time": "2022-05-22T18:55:51.062Z"
   },
   {
    "duration": 24,
    "start_time": "2022-05-22T18:58:25.118Z"
   },
   {
    "duration": 6,
    "start_time": "2022-05-22T19:03:23.558Z"
   },
   {
    "duration": 151,
    "start_time": "2022-05-22T19:03:23.620Z"
   },
   {
    "duration": 14,
    "start_time": "2022-05-22T19:03:23.773Z"
   },
   {
    "duration": 19,
    "start_time": "2022-05-22T19:03:23.798Z"
   },
   {
    "duration": 46,
    "start_time": "2022-05-22T19:03:23.819Z"
   },
   {
    "duration": 0,
    "start_time": "2022-05-22T19:03:23.867Z"
   },
   {
    "duration": 0,
    "start_time": "2022-05-22T19:03:23.868Z"
   },
   {
    "duration": 0,
    "start_time": "2022-05-22T19:03:23.869Z"
   },
   {
    "duration": 0,
    "start_time": "2022-05-22T19:03:23.870Z"
   },
   {
    "duration": 16,
    "start_time": "2022-05-22T19:03:23.872Z"
   },
   {
    "duration": 11,
    "start_time": "2022-05-22T19:03:23.942Z"
   },
   {
    "duration": 20,
    "start_time": "2022-05-22T19:03:23.999Z"
   },
   {
    "duration": 9,
    "start_time": "2022-05-22T19:03:24.082Z"
   },
   {
    "duration": 38,
    "start_time": "2022-05-22T19:03:24.140Z"
   },
   {
    "duration": 156,
    "start_time": "2022-05-22T19:03:24.179Z"
   },
   {
    "duration": 13,
    "start_time": "2022-05-22T19:03:24.336Z"
   },
   {
    "duration": 11,
    "start_time": "2022-05-22T19:03:24.352Z"
   },
   {
    "duration": 33,
    "start_time": "2022-05-22T19:03:24.365Z"
   },
   {
    "duration": 65,
    "start_time": "2022-05-22T19:03:24.401Z"
   },
   {
    "duration": 53,
    "start_time": "2022-05-22T19:03:27.329Z"
   },
   {
    "duration": 73,
    "start_time": "2022-05-22T19:04:22.661Z"
   },
   {
    "duration": 36,
    "start_time": "2022-05-22T19:04:33.029Z"
   },
   {
    "duration": 48,
    "start_time": "2022-05-22T19:04:40.424Z"
   },
   {
    "duration": 5,
    "start_time": "2022-05-22T19:05:09.365Z"
   },
   {
    "duration": 210,
    "start_time": "2022-05-22T19:05:09.375Z"
   },
   {
    "duration": 22,
    "start_time": "2022-05-22T19:05:09.587Z"
   },
   {
    "duration": 34,
    "start_time": "2022-05-22T19:05:09.611Z"
   },
   {
    "duration": 66,
    "start_time": "2022-05-22T19:05:09.647Z"
   },
   {
    "duration": 0,
    "start_time": "2022-05-22T19:05:09.719Z"
   },
   {
    "duration": 0,
    "start_time": "2022-05-22T19:05:09.720Z"
   },
   {
    "duration": 0,
    "start_time": "2022-05-22T19:05:09.721Z"
   },
   {
    "duration": 0,
    "start_time": "2022-05-22T19:05:09.721Z"
   },
   {
    "duration": 0,
    "start_time": "2022-05-22T19:05:09.722Z"
   },
   {
    "duration": 0,
    "start_time": "2022-05-22T19:05:09.724Z"
   },
   {
    "duration": 0,
    "start_time": "2022-05-22T19:05:09.725Z"
   },
   {
    "duration": 0,
    "start_time": "2022-05-22T19:05:09.726Z"
   },
   {
    "duration": 0,
    "start_time": "2022-05-22T19:05:09.727Z"
   },
   {
    "duration": 0,
    "start_time": "2022-05-22T19:05:09.728Z"
   },
   {
    "duration": 0,
    "start_time": "2022-05-22T19:05:09.729Z"
   },
   {
    "duration": 0,
    "start_time": "2022-05-22T19:05:09.730Z"
   },
   {
    "duration": 0,
    "start_time": "2022-05-22T19:05:09.731Z"
   },
   {
    "duration": 0,
    "start_time": "2022-05-22T19:05:09.732Z"
   },
   {
    "duration": 0,
    "start_time": "2022-05-22T19:05:09.734Z"
   },
   {
    "duration": 7,
    "start_time": "2022-05-22T19:05:29.629Z"
   },
   {
    "duration": 213,
    "start_time": "2022-05-22T19:05:29.638Z"
   },
   {
    "duration": 15,
    "start_time": "2022-05-22T19:05:29.853Z"
   },
   {
    "duration": 36,
    "start_time": "2022-05-22T19:05:29.872Z"
   },
   {
    "duration": 54,
    "start_time": "2022-05-22T19:05:29.913Z"
   },
   {
    "duration": 71,
    "start_time": "2022-05-22T19:05:29.968Z"
   },
   {
    "duration": 41,
    "start_time": "2022-05-22T19:05:30.041Z"
   },
   {
    "duration": 169,
    "start_time": "2022-05-22T19:05:30.084Z"
   },
   {
    "duration": 17,
    "start_time": "2022-05-22T19:05:30.255Z"
   },
   {
    "duration": 21,
    "start_time": "2022-05-22T19:05:30.275Z"
   },
   {
    "duration": 53,
    "start_time": "2022-05-22T19:05:30.300Z"
   },
   {
    "duration": 69,
    "start_time": "2022-05-22T19:05:30.355Z"
   },
   {
    "duration": 52,
    "start_time": "2022-05-22T19:05:30.426Z"
   },
   {
    "duration": 172,
    "start_time": "2022-05-22T19:05:30.480Z"
   },
   {
    "duration": 22,
    "start_time": "2022-05-22T19:05:30.654Z"
   },
   {
    "duration": 42,
    "start_time": "2022-05-22T19:05:30.678Z"
   },
   {
    "duration": 45,
    "start_time": "2022-05-22T19:05:30.728Z"
   },
   {
    "duration": 91,
    "start_time": "2022-05-22T19:05:30.776Z"
   },
   {
    "duration": 53,
    "start_time": "2022-05-22T19:05:30.870Z"
   },
   {
    "duration": 1656,
    "start_time": "2022-05-23T16:32:20.715Z"
   },
   {
    "duration": 536,
    "start_time": "2022-05-23T16:32:22.374Z"
   },
   {
    "duration": 17,
    "start_time": "2022-05-23T16:32:22.911Z"
   },
   {
    "duration": 33,
    "start_time": "2022-05-23T16:32:22.930Z"
   },
   {
    "duration": 15,
    "start_time": "2022-05-23T16:32:22.965Z"
   },
   {
    "duration": 58,
    "start_time": "2022-05-23T16:32:22.982Z"
   },
   {
    "duration": 40,
    "start_time": "2022-05-23T16:32:23.042Z"
   },
   {
    "duration": 127,
    "start_time": "2022-05-23T16:32:26.774Z"
   },
   {
    "duration": 317,
    "start_time": "2022-05-23T16:33:48.842Z"
   },
   {
    "duration": 9989,
    "start_time": "2022-05-23T16:41:04.604Z"
   },
   {
    "duration": 171,
    "start_time": "2022-05-23T16:42:26.375Z"
   },
   {
    "duration": 416,
    "start_time": "2022-05-23T16:42:38.906Z"
   },
   {
    "duration": 456,
    "start_time": "2022-05-23T16:43:15.396Z"
   },
   {
    "duration": 12,
    "start_time": "2022-05-23T16:43:47.975Z"
   },
   {
    "duration": 486,
    "start_time": "2022-05-23T16:44:01.012Z"
   },
   {
    "duration": 454,
    "start_time": "2022-05-23T16:45:04.962Z"
   },
   {
    "duration": 26,
    "start_time": "2022-05-23T16:46:30.848Z"
   },
   {
    "duration": 533,
    "start_time": "2022-05-23T16:46:58.876Z"
   },
   {
    "duration": 4,
    "start_time": "2022-05-23T16:49:28.244Z"
   },
   {
    "duration": 11,
    "start_time": "2022-05-23T16:49:37.948Z"
   },
   {
    "duration": 369,
    "start_time": "2022-05-23T16:49:51.658Z"
   },
   {
    "duration": 405,
    "start_time": "2022-05-23T16:50:18.850Z"
   },
   {
    "duration": 417,
    "start_time": "2022-05-23T16:51:48.452Z"
   },
   {
    "duration": 378,
    "start_time": "2022-05-23T16:52:02.215Z"
   },
   {
    "duration": 204,
    "start_time": "2022-05-23T16:53:53.583Z"
   },
   {
    "duration": 137,
    "start_time": "2022-05-23T16:54:31.472Z"
   },
   {
    "duration": 240,
    "start_time": "2022-05-23T16:54:37.553Z"
   },
   {
    "duration": 213,
    "start_time": "2022-05-23T16:54:49.299Z"
   },
   {
    "duration": 251,
    "start_time": "2022-05-23T16:55:06.519Z"
   },
   {
    "duration": 182,
    "start_time": "2022-05-23T16:55:42.125Z"
   },
   {
    "duration": 256,
    "start_time": "2022-05-23T16:56:03.250Z"
   },
   {
    "duration": 340,
    "start_time": "2022-05-23T16:56:28.525Z"
   },
   {
    "duration": 10,
    "start_time": "2022-05-23T16:57:54.722Z"
   },
   {
    "duration": 5,
    "start_time": "2022-05-23T16:58:00.957Z"
   },
   {
    "duration": 176,
    "start_time": "2022-05-23T16:58:00.967Z"
   },
   {
    "duration": 15,
    "start_time": "2022-05-23T16:58:01.145Z"
   },
   {
    "duration": 15,
    "start_time": "2022-05-23T16:58:01.162Z"
   },
   {
    "duration": 21,
    "start_time": "2022-05-23T16:58:01.179Z"
   },
   {
    "duration": 82,
    "start_time": "2022-05-23T16:58:01.204Z"
   },
   {
    "duration": 56,
    "start_time": "2022-05-23T16:58:01.288Z"
   },
   {
    "duration": 415,
    "start_time": "2022-05-23T16:58:01.346Z"
   },
   {
    "duration": 228,
    "start_time": "2022-05-23T16:58:01.763Z"
   },
   {
    "duration": 277,
    "start_time": "2022-05-23T16:58:01.994Z"
   },
   {
    "duration": 19,
    "start_time": "2022-05-23T16:58:02.273Z"
   },
   {
    "duration": 52,
    "start_time": "2022-05-23T16:58:02.294Z"
   },
   {
    "duration": 44,
    "start_time": "2022-05-23T16:58:02.347Z"
   },
   {
    "duration": 67,
    "start_time": "2022-05-23T16:58:02.392Z"
   },
   {
    "duration": 56,
    "start_time": "2022-05-23T16:58:02.461Z"
   },
   {
    "duration": 396,
    "start_time": "2022-05-23T16:58:06.077Z"
   },
   {
    "duration": 333,
    "start_time": "2022-05-23T16:58:12.718Z"
   },
   {
    "duration": 5,
    "start_time": "2022-05-23T16:58:45.466Z"
   },
   {
    "duration": 171,
    "start_time": "2022-05-23T16:58:45.473Z"
   },
   {
    "duration": 19,
    "start_time": "2022-05-23T16:58:45.646Z"
   },
   {
    "duration": 9,
    "start_time": "2022-05-23T16:58:45.667Z"
   },
   {
    "duration": 14,
    "start_time": "2022-05-23T16:58:45.679Z"
   },
   {
    "duration": 71,
    "start_time": "2022-05-23T16:58:45.695Z"
   },
   {
    "duration": 36,
    "start_time": "2022-05-23T16:58:45.768Z"
   },
   {
    "duration": 368,
    "start_time": "2022-05-23T16:58:45.806Z"
   },
   {
    "duration": 243,
    "start_time": "2022-05-23T16:58:46.176Z"
   },
   {
    "duration": 152,
    "start_time": "2022-05-23T16:58:46.421Z"
   },
   {
    "duration": 21,
    "start_time": "2022-05-23T16:58:46.577Z"
   },
   {
    "duration": 21,
    "start_time": "2022-05-23T16:58:46.600Z"
   },
   {
    "duration": 35,
    "start_time": "2022-05-23T16:58:46.627Z"
   },
   {
    "duration": 77,
    "start_time": "2022-05-23T16:58:46.664Z"
   },
   {
    "duration": 41,
    "start_time": "2022-05-23T16:58:46.748Z"
   },
   {
    "duration": 351,
    "start_time": "2022-05-23T16:58:46.791Z"
   },
   {
    "duration": 201,
    "start_time": "2022-05-23T16:58:47.146Z"
   },
   {
    "duration": 251,
    "start_time": "2022-05-23T16:58:47.348Z"
   },
   {
    "duration": 19,
    "start_time": "2022-05-23T16:58:47.601Z"
   },
   {
    "duration": 13,
    "start_time": "2022-05-23T16:58:47.623Z"
   },
   {
    "duration": 28,
    "start_time": "2022-05-23T16:58:47.646Z"
   },
   {
    "duration": 48,
    "start_time": "2022-05-23T16:58:47.676Z"
   },
   {
    "duration": 45,
    "start_time": "2022-05-23T16:58:47.726Z"
   },
   {
    "duration": 371,
    "start_time": "2022-05-23T16:58:49.406Z"
   },
   {
    "duration": 461,
    "start_time": "2022-05-23T16:58:56.386Z"
   },
   {
    "duration": 217,
    "start_time": "2022-05-23T16:59:02.539Z"
   },
   {
    "duration": 5,
    "start_time": "2022-05-23T17:22:15.772Z"
   },
   {
    "duration": 164,
    "start_time": "2022-05-23T17:22:15.779Z"
   },
   {
    "duration": 14,
    "start_time": "2022-05-23T17:22:15.945Z"
   },
   {
    "duration": 16,
    "start_time": "2022-05-23T17:22:15.961Z"
   },
   {
    "duration": 18,
    "start_time": "2022-05-23T17:22:15.980Z"
   },
   {
    "duration": 80,
    "start_time": "2022-05-23T17:22:15.999Z"
   },
   {
    "duration": 37,
    "start_time": "2022-05-23T17:22:16.081Z"
   },
   {
    "duration": 440,
    "start_time": "2022-05-23T17:22:16.127Z"
   },
   {
    "duration": 205,
    "start_time": "2022-05-23T17:22:16.569Z"
   },
   {
    "duration": 126,
    "start_time": "2022-05-23T17:22:16.778Z"
   },
   {
    "duration": 14,
    "start_time": "2022-05-23T17:22:16.905Z"
   },
   {
    "duration": 19,
    "start_time": "2022-05-23T17:22:16.927Z"
   },
   {
    "duration": 13,
    "start_time": "2022-05-23T17:22:16.948Z"
   },
   {
    "duration": 39,
    "start_time": "2022-05-23T17:22:16.963Z"
   },
   {
    "duration": 56,
    "start_time": "2022-05-23T17:22:17.004Z"
   },
   {
    "duration": 351,
    "start_time": "2022-05-23T17:22:17.062Z"
   },
   {
    "duration": 193,
    "start_time": "2022-05-23T17:22:17.415Z"
   },
   {
    "duration": 154,
    "start_time": "2022-05-23T17:22:17.610Z"
   },
   {
    "duration": 13,
    "start_time": "2022-05-23T17:22:17.766Z"
   },
   {
    "duration": 11,
    "start_time": "2022-05-23T17:22:17.780Z"
   },
   {
    "duration": 18,
    "start_time": "2022-05-23T17:22:17.793Z"
   },
   {
    "duration": 68,
    "start_time": "2022-05-23T17:22:17.813Z"
   },
   {
    "duration": 52,
    "start_time": "2022-05-23T17:22:17.884Z"
   },
   {
    "duration": 319,
    "start_time": "2022-05-23T17:22:17.939Z"
   },
   {
    "duration": 185,
    "start_time": "2022-05-23T17:22:18.259Z"
   },
   {
    "duration": 1284,
    "start_time": "2022-05-23T17:24:45.600Z"
   },
   {
    "duration": 234,
    "start_time": "2022-05-23T17:24:46.886Z"
   },
   {
    "duration": 24,
    "start_time": "2022-05-23T17:24:47.122Z"
   },
   {
    "duration": 22,
    "start_time": "2022-05-23T17:24:47.148Z"
   },
   {
    "duration": 34,
    "start_time": "2022-05-23T17:24:47.171Z"
   },
   {
    "duration": 89,
    "start_time": "2022-05-23T17:24:47.206Z"
   },
   {
    "duration": 48,
    "start_time": "2022-05-23T17:24:47.297Z"
   },
   {
    "duration": 328,
    "start_time": "2022-05-23T17:24:47.350Z"
   },
   {
    "duration": 189,
    "start_time": "2022-05-23T17:24:47.679Z"
   },
   {
    "duration": 127,
    "start_time": "2022-05-23T17:24:47.871Z"
   },
   {
    "duration": 14,
    "start_time": "2022-05-23T17:24:48.000Z"
   },
   {
    "duration": 25,
    "start_time": "2022-05-23T17:24:48.016Z"
   },
   {
    "duration": 17,
    "start_time": "2022-05-23T17:24:48.043Z"
   },
   {
    "duration": 42,
    "start_time": "2022-05-23T17:24:48.062Z"
   },
   {
    "duration": 43,
    "start_time": "2022-05-23T17:24:48.107Z"
   },
   {
    "duration": 340,
    "start_time": "2022-05-23T17:24:48.152Z"
   },
   {
    "duration": 181,
    "start_time": "2022-05-23T17:24:48.494Z"
   },
   {
    "duration": 143,
    "start_time": "2022-05-23T17:24:48.677Z"
   },
   {
    "duration": 21,
    "start_time": "2022-05-23T17:24:48.822Z"
   },
   {
    "duration": 13,
    "start_time": "2022-05-23T17:24:48.847Z"
   },
   {
    "duration": 15,
    "start_time": "2022-05-23T17:24:48.862Z"
   },
   {
    "duration": 69,
    "start_time": "2022-05-23T17:24:48.878Z"
   },
   {
    "duration": 38,
    "start_time": "2022-05-23T17:24:48.949Z"
   },
   {
    "duration": 361,
    "start_time": "2022-05-23T17:24:48.989Z"
   },
   {
    "duration": 205,
    "start_time": "2022-05-23T17:24:49.352Z"
   },
   {
    "duration": 1637,
    "start_time": "2022-05-24T15:07:57.118Z"
   },
   {
    "duration": 673,
    "start_time": "2022-05-24T15:07:58.757Z"
   },
   {
    "duration": 21,
    "start_time": "2022-05-24T15:07:59.432Z"
   },
   {
    "duration": 13,
    "start_time": "2022-05-24T15:07:59.455Z"
   },
   {
    "duration": 20,
    "start_time": "2022-05-24T15:07:59.469Z"
   },
   {
    "duration": 65,
    "start_time": "2022-05-24T15:07:59.490Z"
   },
   {
    "duration": 57,
    "start_time": "2022-05-24T15:07:59.556Z"
   },
   {
    "duration": 358,
    "start_time": "2022-05-24T15:07:59.619Z"
   },
   {
    "duration": 198,
    "start_time": "2022-05-24T15:07:59.978Z"
   },
   {
    "duration": 597,
    "start_time": "2022-05-24T15:08:00.179Z"
   },
   {
    "duration": 14,
    "start_time": "2022-05-24T15:08:00.778Z"
   },
   {
    "duration": 36,
    "start_time": "2022-05-24T15:08:00.794Z"
   },
   {
    "duration": 17,
    "start_time": "2022-05-24T15:08:00.833Z"
   },
   {
    "duration": 47,
    "start_time": "2022-05-24T15:08:00.852Z"
   },
   {
    "duration": 45,
    "start_time": "2022-05-24T15:08:00.901Z"
   },
   {
    "duration": 470,
    "start_time": "2022-05-24T15:08:00.947Z"
   },
   {
    "duration": 265,
    "start_time": "2022-05-24T15:08:01.424Z"
   },
   {
    "duration": 640,
    "start_time": "2022-05-24T15:08:01.690Z"
   },
   {
    "duration": 14,
    "start_time": "2022-05-24T15:08:02.331Z"
   },
   {
    "duration": 11,
    "start_time": "2022-05-24T15:08:02.346Z"
   },
   {
    "duration": 15,
    "start_time": "2022-05-24T15:08:02.359Z"
   },
   {
    "duration": 75,
    "start_time": "2022-05-24T15:08:02.376Z"
   },
   {
    "duration": 58,
    "start_time": "2022-05-24T15:08:02.453Z"
   },
   {
    "duration": 344,
    "start_time": "2022-05-24T15:08:02.516Z"
   },
   {
    "duration": 219,
    "start_time": "2022-05-24T15:08:02.863Z"
   },
   {
    "duration": 28,
    "start_time": "2022-05-24T15:08:06.183Z"
   },
   {
    "duration": 18,
    "start_time": "2022-05-24T15:08:57.265Z"
   },
   {
    "duration": 4,
    "start_time": "2022-05-24T15:09:02.582Z"
   },
   {
    "duration": 5,
    "start_time": "2022-05-24T15:09:16.884Z"
   },
   {
    "duration": 117,
    "start_time": "2022-05-24T15:19:36.781Z"
   },
   {
    "duration": 6,
    "start_time": "2022-05-24T15:19:41.225Z"
   },
   {
    "duration": 172,
    "start_time": "2022-05-24T15:19:41.234Z"
   },
   {
    "duration": 22,
    "start_time": "2022-05-24T15:19:41.408Z"
   },
   {
    "duration": 11,
    "start_time": "2022-05-24T15:19:41.433Z"
   },
   {
    "duration": 16,
    "start_time": "2022-05-24T15:19:41.446Z"
   },
   {
    "duration": 76,
    "start_time": "2022-05-24T15:19:41.464Z"
   },
   {
    "duration": 35,
    "start_time": "2022-05-24T15:19:41.541Z"
   },
   {
    "duration": 363,
    "start_time": "2022-05-24T15:19:41.577Z"
   },
   {
    "duration": 192,
    "start_time": "2022-05-24T15:19:41.942Z"
   },
   {
    "duration": 135,
    "start_time": "2022-05-24T15:19:42.136Z"
   },
   {
    "duration": 13,
    "start_time": "2022-05-24T15:19:42.273Z"
   },
   {
    "duration": 22,
    "start_time": "2022-05-24T15:19:42.287Z"
   },
   {
    "duration": 15,
    "start_time": "2022-05-24T15:19:42.311Z"
   },
   {
    "duration": 45,
    "start_time": "2022-05-24T15:19:42.327Z"
   },
   {
    "duration": 58,
    "start_time": "2022-05-24T15:19:42.374Z"
   },
   {
    "duration": 321,
    "start_time": "2022-05-24T15:19:42.434Z"
   },
   {
    "duration": 177,
    "start_time": "2022-05-24T15:19:42.757Z"
   },
   {
    "duration": 141,
    "start_time": "2022-05-24T15:19:42.936Z"
   },
   {
    "duration": 14,
    "start_time": "2022-05-24T15:19:43.078Z"
   },
   {
    "duration": 13,
    "start_time": "2022-05-24T15:19:43.102Z"
   },
   {
    "duration": 14,
    "start_time": "2022-05-24T15:19:43.116Z"
   },
   {
    "duration": 41,
    "start_time": "2022-05-24T15:19:43.132Z"
   },
   {
    "duration": 64,
    "start_time": "2022-05-24T15:19:43.174Z"
   },
   {
    "duration": 389,
    "start_time": "2022-05-24T15:19:43.241Z"
   },
   {
    "duration": 182,
    "start_time": "2022-05-24T15:19:43.632Z"
   },
   {
    "duration": 29,
    "start_time": "2022-05-24T15:19:43.816Z"
   },
   {
    "duration": 4,
    "start_time": "2022-05-24T15:19:43.847Z"
   },
   {
    "duration": 5,
    "start_time": "2022-05-24T15:19:43.853Z"
   },
   {
    "duration": 11,
    "start_time": "2022-05-24T15:19:46.948Z"
   },
   {
    "duration": 29,
    "start_time": "2022-05-24T15:21:54.524Z"
   },
   {
    "duration": 13,
    "start_time": "2022-05-24T15:22:47.952Z"
   },
   {
    "duration": 5,
    "start_time": "2022-05-24T15:22:50.034Z"
   },
   {
    "duration": 4,
    "start_time": "2022-05-24T15:22:50.553Z"
   },
   {
    "duration": 157,
    "start_time": "2022-05-24T15:22:52.763Z"
   },
   {
    "duration": 4,
    "start_time": "2022-05-24T15:23:06.959Z"
   },
   {
    "duration": 165,
    "start_time": "2022-05-24T15:23:06.967Z"
   },
   {
    "duration": 12,
    "start_time": "2022-05-24T15:23:07.134Z"
   },
   {
    "duration": 11,
    "start_time": "2022-05-24T15:23:07.148Z"
   },
   {
    "duration": 16,
    "start_time": "2022-05-24T15:23:07.161Z"
   },
   {
    "duration": 67,
    "start_time": "2022-05-24T15:23:07.179Z"
   },
   {
    "duration": 33,
    "start_time": "2022-05-24T15:23:07.248Z"
   },
   {
    "duration": 365,
    "start_time": "2022-05-24T15:23:07.283Z"
   },
   {
    "duration": 197,
    "start_time": "2022-05-24T15:23:07.650Z"
   },
   {
    "duration": 139,
    "start_time": "2022-05-24T15:23:07.849Z"
   },
   {
    "duration": 30,
    "start_time": "2022-05-24T15:23:07.992Z"
   },
   {
    "duration": 17,
    "start_time": "2022-05-24T15:23:08.024Z"
   },
   {
    "duration": 14,
    "start_time": "2022-05-24T15:23:08.043Z"
   },
   {
    "duration": 58,
    "start_time": "2022-05-24T15:23:08.059Z"
   },
   {
    "duration": 38,
    "start_time": "2022-05-24T15:23:08.119Z"
   },
   {
    "duration": 414,
    "start_time": "2022-05-24T15:23:08.160Z"
   },
   {
    "duration": 216,
    "start_time": "2022-05-24T15:23:08.576Z"
   },
   {
    "duration": 166,
    "start_time": "2022-05-24T15:23:08.794Z"
   },
   {
    "duration": 14,
    "start_time": "2022-05-24T15:23:08.961Z"
   },
   {
    "duration": 15,
    "start_time": "2022-05-24T15:23:08.977Z"
   },
   {
    "duration": 27,
    "start_time": "2022-05-24T15:23:08.993Z"
   },
   {
    "duration": 44,
    "start_time": "2022-05-24T15:23:09.022Z"
   },
   {
    "duration": 49,
    "start_time": "2022-05-24T15:23:09.068Z"
   },
   {
    "duration": 337,
    "start_time": "2022-05-24T15:23:09.118Z"
   },
   {
    "duration": 202,
    "start_time": "2022-05-24T15:23:09.457Z"
   },
   {
    "duration": 11,
    "start_time": "2022-05-24T15:23:14.821Z"
   },
   {
    "duration": 5,
    "start_time": "2022-05-24T15:23:16.865Z"
   },
   {
    "duration": 4,
    "start_time": "2022-05-24T15:23:17.452Z"
   },
   {
    "duration": 32,
    "start_time": "2022-05-24T15:23:57.899Z"
   },
   {
    "duration": 61,
    "start_time": "2022-05-24T15:24:05.257Z"
   },
   {
    "duration": 19,
    "start_time": "2022-05-24T15:24:10.368Z"
   },
   {
    "duration": 11,
    "start_time": "2022-05-24T15:24:19.970Z"
   },
   {
    "duration": 12,
    "start_time": "2022-05-24T15:24:55.249Z"
   },
   {
    "duration": 20,
    "start_time": "2022-05-24T15:25:07.291Z"
   },
   {
    "duration": 4,
    "start_time": "2022-05-24T15:25:24.036Z"
   },
   {
    "duration": 140,
    "start_time": "2022-05-24T15:25:24.049Z"
   },
   {
    "duration": 25,
    "start_time": "2022-05-24T15:25:24.190Z"
   },
   {
    "duration": 11,
    "start_time": "2022-05-24T15:25:24.216Z"
   },
   {
    "duration": 14,
    "start_time": "2022-05-24T15:25:24.229Z"
   },
   {
    "duration": 69,
    "start_time": "2022-05-24T15:25:24.244Z"
   },
   {
    "duration": 35,
    "start_time": "2022-05-24T15:25:24.314Z"
   },
   {
    "duration": 321,
    "start_time": "2022-05-24T15:25:24.350Z"
   },
   {
    "duration": 179,
    "start_time": "2022-05-24T15:25:24.673Z"
   },
   {
    "duration": 124,
    "start_time": "2022-05-24T15:25:24.853Z"
   },
   {
    "duration": 13,
    "start_time": "2022-05-24T15:25:24.979Z"
   },
   {
    "duration": 10,
    "start_time": "2022-05-24T15:25:25.003Z"
   },
   {
    "duration": 15,
    "start_time": "2022-05-24T15:25:25.015Z"
   },
   {
    "duration": 40,
    "start_time": "2022-05-24T15:25:25.031Z"
   },
   {
    "duration": 58,
    "start_time": "2022-05-24T15:25:25.072Z"
   },
   {
    "duration": 326,
    "start_time": "2022-05-24T15:25:25.132Z"
   },
   {
    "duration": 182,
    "start_time": "2022-05-24T15:25:25.460Z"
   },
   {
    "duration": 141,
    "start_time": "2022-05-24T15:25:25.644Z"
   },
   {
    "duration": 26,
    "start_time": "2022-05-24T15:25:25.787Z"
   },
   {
    "duration": 12,
    "start_time": "2022-05-24T15:25:25.815Z"
   },
   {
    "duration": 22,
    "start_time": "2022-05-24T15:25:25.829Z"
   },
   {
    "duration": 65,
    "start_time": "2022-05-24T15:25:25.852Z"
   },
   {
    "duration": 36,
    "start_time": "2022-05-24T15:25:25.918Z"
   },
   {
    "duration": 348,
    "start_time": "2022-05-24T15:25:25.956Z"
   },
   {
    "duration": 327,
    "start_time": "2022-05-24T15:25:26.306Z"
   },
   {
    "duration": 5,
    "start_time": "2022-05-24T15:25:33.499Z"
   },
   {
    "duration": 15,
    "start_time": "2022-05-24T15:25:34.884Z"
   },
   {
    "duration": 12,
    "start_time": "2022-05-24T15:25:44.785Z"
   },
   {
    "duration": 4,
    "start_time": "2022-05-24T15:25:49.571Z"
   },
   {
    "duration": 4,
    "start_time": "2022-05-24T15:25:50.126Z"
   },
   {
    "duration": 23,
    "start_time": "2022-05-24T15:25:52.375Z"
   },
   {
    "duration": 15,
    "start_time": "2022-05-24T15:49:27.203Z"
   },
   {
    "duration": 5,
    "start_time": "2022-05-24T15:49:40.718Z"
   },
   {
    "duration": 144,
    "start_time": "2022-05-24T15:49:40.725Z"
   },
   {
    "duration": 16,
    "start_time": "2022-05-24T15:49:40.871Z"
   },
   {
    "duration": 12,
    "start_time": "2022-05-24T15:49:40.903Z"
   },
   {
    "duration": 18,
    "start_time": "2022-05-24T15:49:40.917Z"
   },
   {
    "duration": 44,
    "start_time": "2022-05-24T15:49:40.937Z"
   },
   {
    "duration": 51,
    "start_time": "2022-05-24T15:49:40.983Z"
   },
   {
    "duration": 371,
    "start_time": "2022-05-24T15:49:41.036Z"
   },
   {
    "duration": 187,
    "start_time": "2022-05-24T15:49:41.410Z"
   },
   {
    "duration": 124,
    "start_time": "2022-05-24T15:49:41.602Z"
   },
   {
    "duration": 15,
    "start_time": "2022-05-24T15:49:41.728Z"
   },
   {
    "duration": 12,
    "start_time": "2022-05-24T15:49:41.745Z"
   },
   {
    "duration": 16,
    "start_time": "2022-05-24T15:49:41.759Z"
   },
   {
    "duration": 51,
    "start_time": "2022-05-24T15:49:41.802Z"
   },
   {
    "duration": 48,
    "start_time": "2022-05-24T15:49:41.855Z"
   },
   {
    "duration": 322,
    "start_time": "2022-05-24T15:49:41.905Z"
   },
   {
    "duration": 173,
    "start_time": "2022-05-24T15:49:42.229Z"
   },
   {
    "duration": 134,
    "start_time": "2022-05-24T15:49:42.404Z"
   },
   {
    "duration": 12,
    "start_time": "2022-05-24T15:49:42.540Z"
   },
   {
    "duration": 12,
    "start_time": "2022-05-24T15:49:42.554Z"
   },
   {
    "duration": 14,
    "start_time": "2022-05-24T15:49:42.567Z"
   },
   {
    "duration": 58,
    "start_time": "2022-05-24T15:49:42.582Z"
   },
   {
    "duration": 33,
    "start_time": "2022-05-24T15:49:42.641Z"
   },
   {
    "duration": 317,
    "start_time": "2022-05-24T15:49:42.676Z"
   },
   {
    "duration": 174,
    "start_time": "2022-05-24T15:49:42.994Z"
   },
   {
    "duration": 13,
    "start_time": "2022-05-24T15:49:48.423Z"
   },
   {
    "duration": 9,
    "start_time": "2022-05-24T15:49:54.666Z"
   },
   {
    "duration": 5,
    "start_time": "2022-05-24T15:50:32.668Z"
   },
   {
    "duration": 4,
    "start_time": "2022-05-24T15:50:41.482Z"
   },
   {
    "duration": 5,
    "start_time": "2022-05-24T15:50:41.948Z"
   },
   {
    "duration": 33,
    "start_time": "2022-05-24T15:50:45.820Z"
   },
   {
    "duration": 17,
    "start_time": "2022-05-24T15:52:33.321Z"
   },
   {
    "duration": 5,
    "start_time": "2022-05-24T15:52:37.032Z"
   },
   {
    "duration": 153,
    "start_time": "2022-05-24T15:52:37.039Z"
   },
   {
    "duration": 22,
    "start_time": "2022-05-24T15:52:37.194Z"
   },
   {
    "duration": 12,
    "start_time": "2022-05-24T15:52:37.218Z"
   },
   {
    "duration": 14,
    "start_time": "2022-05-24T15:52:37.232Z"
   },
   {
    "duration": 79,
    "start_time": "2022-05-24T15:52:37.247Z"
   },
   {
    "duration": 39,
    "start_time": "2022-05-24T15:52:37.328Z"
   },
   {
    "duration": 328,
    "start_time": "2022-05-24T15:52:37.369Z"
   },
   {
    "duration": 191,
    "start_time": "2022-05-24T15:52:37.703Z"
   },
   {
    "duration": 138,
    "start_time": "2022-05-24T15:52:37.901Z"
   },
   {
    "duration": 15,
    "start_time": "2022-05-24T15:52:38.040Z"
   },
   {
    "duration": 13,
    "start_time": "2022-05-24T15:52:38.057Z"
   },
   {
    "duration": 37,
    "start_time": "2022-05-24T15:52:38.072Z"
   },
   {
    "duration": 44,
    "start_time": "2022-05-24T15:52:38.110Z"
   },
   {
    "duration": 52,
    "start_time": "2022-05-24T15:52:38.156Z"
   },
   {
    "duration": 390,
    "start_time": "2022-05-24T15:52:38.210Z"
   },
   {
    "duration": 182,
    "start_time": "2022-05-24T15:52:38.602Z"
   },
   {
    "duration": 152,
    "start_time": "2022-05-24T15:52:38.786Z"
   },
   {
    "duration": 20,
    "start_time": "2022-05-24T15:52:38.940Z"
   },
   {
    "duration": 20,
    "start_time": "2022-05-24T15:52:38.962Z"
   },
   {
    "duration": 30,
    "start_time": "2022-05-24T15:52:38.984Z"
   },
   {
    "duration": 49,
    "start_time": "2022-05-24T15:52:39.015Z"
   },
   {
    "duration": 65,
    "start_time": "2022-05-24T15:52:39.066Z"
   },
   {
    "duration": 336,
    "start_time": "2022-05-24T15:52:39.134Z"
   },
   {
    "duration": 196,
    "start_time": "2022-05-24T15:52:39.472Z"
   },
   {
    "duration": 16,
    "start_time": "2022-05-24T15:53:06.047Z"
   },
   {
    "duration": 10,
    "start_time": "2022-05-24T15:53:12.719Z"
   },
   {
    "duration": 4,
    "start_time": "2022-05-24T15:53:16.205Z"
   },
   {
    "duration": 5,
    "start_time": "2022-05-24T15:53:16.661Z"
   },
   {
    "duration": 22,
    "start_time": "2022-05-24T15:53:20.310Z"
   },
   {
    "duration": 25,
    "start_time": "2022-05-24T16:01:22.218Z"
   },
   {
    "duration": 6,
    "start_time": "2022-05-24T16:01:44.670Z"
   },
   {
    "duration": 169,
    "start_time": "2022-05-24T16:01:44.677Z"
   },
   {
    "duration": 14,
    "start_time": "2022-05-24T16:01:44.849Z"
   },
   {
    "duration": 13,
    "start_time": "2022-05-24T16:01:44.865Z"
   },
   {
    "duration": 30,
    "start_time": "2022-05-24T16:01:44.881Z"
   },
   {
    "duration": 74,
    "start_time": "2022-05-24T16:01:44.913Z"
   },
   {
    "duration": 41,
    "start_time": "2022-05-24T16:01:44.989Z"
   },
   {
    "duration": 395,
    "start_time": "2022-05-24T16:01:45.032Z"
   },
   {
    "duration": 210,
    "start_time": "2022-05-24T16:01:45.429Z"
   },
   {
    "duration": 140,
    "start_time": "2022-05-24T16:01:45.641Z"
   },
   {
    "duration": 25,
    "start_time": "2022-05-24T16:01:45.784Z"
   },
   {
    "duration": 15,
    "start_time": "2022-05-24T16:01:45.812Z"
   },
   {
    "duration": 30,
    "start_time": "2022-05-24T16:01:45.829Z"
   },
   {
    "duration": 61,
    "start_time": "2022-05-24T16:01:45.861Z"
   },
   {
    "duration": 40,
    "start_time": "2022-05-24T16:01:45.924Z"
   },
   {
    "duration": 353,
    "start_time": "2022-05-24T16:01:45.965Z"
   },
   {
    "duration": 343,
    "start_time": "2022-05-24T16:01:46.320Z"
   },
   {
    "duration": 155,
    "start_time": "2022-05-24T16:01:46.665Z"
   },
   {
    "duration": 16,
    "start_time": "2022-05-24T16:01:46.821Z"
   },
   {
    "duration": 13,
    "start_time": "2022-05-24T16:01:46.839Z"
   },
   {
    "duration": 15,
    "start_time": "2022-05-24T16:01:46.854Z"
   },
   {
    "duration": 73,
    "start_time": "2022-05-24T16:01:46.871Z"
   },
   {
    "duration": 76,
    "start_time": "2022-05-24T16:01:46.946Z"
   },
   {
    "duration": 383,
    "start_time": "2022-05-24T16:01:47.024Z"
   },
   {
    "duration": 202,
    "start_time": "2022-05-24T16:01:47.409Z"
   },
   {
    "duration": 13,
    "start_time": "2022-05-24T16:01:51.107Z"
   },
   {
    "duration": 4,
    "start_time": "2022-05-24T16:01:52.025Z"
   },
   {
    "duration": 4,
    "start_time": "2022-05-24T16:01:52.432Z"
   },
   {
    "duration": 24,
    "start_time": "2022-05-24T16:01:53.719Z"
   },
   {
    "duration": 155,
    "start_time": "2022-05-24T16:05:36.948Z"
   },
   {
    "duration": 6,
    "start_time": "2022-05-24T16:05:43.834Z"
   },
   {
    "duration": 186,
    "start_time": "2022-05-24T16:05:43.842Z"
   },
   {
    "duration": 17,
    "start_time": "2022-05-24T16:05:44.030Z"
   },
   {
    "duration": 15,
    "start_time": "2022-05-24T16:05:44.048Z"
   },
   {
    "duration": 41,
    "start_time": "2022-05-24T16:05:44.065Z"
   },
   {
    "duration": 52,
    "start_time": "2022-05-24T16:05:44.108Z"
   },
   {
    "duration": 65,
    "start_time": "2022-05-24T16:05:44.162Z"
   },
   {
    "duration": 385,
    "start_time": "2022-05-24T16:05:44.229Z"
   },
   {
    "duration": 211,
    "start_time": "2022-05-24T16:05:44.616Z"
   },
   {
    "duration": 144,
    "start_time": "2022-05-24T16:05:44.829Z"
   },
   {
    "duration": 27,
    "start_time": "2022-05-24T16:05:44.976Z"
   },
   {
    "duration": 13,
    "start_time": "2022-05-24T16:05:45.005Z"
   },
   {
    "duration": 19,
    "start_time": "2022-05-24T16:05:45.020Z"
   },
   {
    "duration": 73,
    "start_time": "2022-05-24T16:05:45.040Z"
   },
   {
    "duration": 40,
    "start_time": "2022-05-24T16:05:45.115Z"
   },
   {
    "duration": 391,
    "start_time": "2022-05-24T16:05:45.156Z"
   },
   {
    "duration": 221,
    "start_time": "2022-05-24T16:05:45.549Z"
   },
   {
    "duration": 161,
    "start_time": "2022-05-24T16:05:45.773Z"
   },
   {
    "duration": 15,
    "start_time": "2022-05-24T16:05:45.935Z"
   },
   {
    "duration": 15,
    "start_time": "2022-05-24T16:05:45.952Z"
   },
   {
    "duration": 38,
    "start_time": "2022-05-24T16:05:45.968Z"
   },
   {
    "duration": 47,
    "start_time": "2022-05-24T16:05:46.008Z"
   },
   {
    "duration": 61,
    "start_time": "2022-05-24T16:05:46.057Z"
   },
   {
    "duration": 365,
    "start_time": "2022-05-24T16:05:46.120Z"
   },
   {
    "duration": 216,
    "start_time": "2022-05-24T16:05:46.486Z"
   },
   {
    "duration": 12,
    "start_time": "2022-05-24T16:05:46.704Z"
   },
   {
    "duration": 4,
    "start_time": "2022-05-24T16:05:46.718Z"
   },
   {
    "duration": 4,
    "start_time": "2022-05-24T16:05:46.724Z"
   },
   {
    "duration": 59,
    "start_time": "2022-05-24T16:05:49.749Z"
   },
   {
    "duration": 17,
    "start_time": "2022-05-24T16:06:13.203Z"
   },
   {
    "duration": 17,
    "start_time": "2022-05-24T16:06:17.093Z"
   },
   {
    "duration": 17,
    "start_time": "2022-05-24T16:06:29.826Z"
   },
   {
    "duration": 12,
    "start_time": "2022-05-24T16:12:03.350Z"
   },
   {
    "duration": 5,
    "start_time": "2022-05-24T16:23:43.129Z"
   },
   {
    "duration": 14,
    "start_time": "2022-05-24T16:34:03.829Z"
   },
   {
    "duration": 4,
    "start_time": "2022-05-24T16:34:05.134Z"
   },
   {
    "duration": 4,
    "start_time": "2022-05-24T16:34:05.865Z"
   },
   {
    "duration": 21,
    "start_time": "2022-05-24T16:34:09.444Z"
   },
   {
    "duration": 5,
    "start_time": "2022-05-24T16:34:22.451Z"
   },
   {
    "duration": 11,
    "start_time": "2022-05-24T16:34:25.854Z"
   },
   {
    "duration": 5,
    "start_time": "2022-05-24T16:34:26.819Z"
   },
   {
    "duration": 5,
    "start_time": "2022-05-24T16:34:27.231Z"
   },
   {
    "duration": 16,
    "start_time": "2022-05-24T16:34:30.829Z"
   },
   {
    "duration": 5,
    "start_time": "2022-05-24T16:34:34.552Z"
   },
   {
    "duration": 5,
    "start_time": "2022-05-24T17:21:05.735Z"
   },
   {
    "duration": 182,
    "start_time": "2022-05-24T17:21:05.741Z"
   },
   {
    "duration": 20,
    "start_time": "2022-05-24T17:21:05.925Z"
   },
   {
    "duration": 11,
    "start_time": "2022-05-24T17:21:05.947Z"
   },
   {
    "duration": 17,
    "start_time": "2022-05-24T17:21:05.961Z"
   },
   {
    "duration": 68,
    "start_time": "2022-05-24T17:21:05.980Z"
   },
   {
    "duration": 36,
    "start_time": "2022-05-24T17:21:06.050Z"
   },
   {
    "duration": 386,
    "start_time": "2022-05-24T17:21:06.109Z"
   },
   {
    "duration": 236,
    "start_time": "2022-05-24T17:21:06.497Z"
   },
   {
    "duration": 139,
    "start_time": "2022-05-24T17:21:06.734Z"
   },
   {
    "duration": 14,
    "start_time": "2022-05-24T17:21:06.874Z"
   },
   {
    "duration": 27,
    "start_time": "2022-05-24T17:21:06.890Z"
   },
   {
    "duration": 34,
    "start_time": "2022-05-24T17:21:06.921Z"
   },
   {
    "duration": 50,
    "start_time": "2022-05-24T17:21:06.957Z"
   },
   {
    "duration": 43,
    "start_time": "2022-05-24T17:21:07.009Z"
   },
   {
    "duration": 369,
    "start_time": "2022-05-24T17:21:07.054Z"
   },
   {
    "duration": 195,
    "start_time": "2022-05-24T17:21:07.424Z"
   },
   {
    "duration": 146,
    "start_time": "2022-05-24T17:21:07.623Z"
   },
   {
    "duration": 17,
    "start_time": "2022-05-24T17:21:07.771Z"
   },
   {
    "duration": 26,
    "start_time": "2022-05-24T17:21:07.790Z"
   },
   {
    "duration": 25,
    "start_time": "2022-05-24T17:21:07.824Z"
   },
   {
    "duration": 42,
    "start_time": "2022-05-24T17:21:07.851Z"
   },
   {
    "duration": 47,
    "start_time": "2022-05-24T17:21:07.895Z"
   },
   {
    "duration": 368,
    "start_time": "2022-05-24T17:21:07.944Z"
   },
   {
    "duration": 242,
    "start_time": "2022-05-24T17:21:08.316Z"
   },
   {
    "duration": 10,
    "start_time": "2022-05-24T17:21:08.559Z"
   },
   {
    "duration": 7,
    "start_time": "2022-05-24T17:21:08.571Z"
   },
   {
    "duration": 6,
    "start_time": "2022-05-24T17:21:08.579Z"
   },
   {
    "duration": 28,
    "start_time": "2022-05-24T17:21:10.289Z"
   },
   {
    "duration": 5,
    "start_time": "2022-05-24T17:21:35.872Z"
   },
   {
    "duration": 176,
    "start_time": "2022-05-24T17:21:35.878Z"
   },
   {
    "duration": 12,
    "start_time": "2022-05-24T17:21:36.056Z"
   },
   {
    "duration": 10,
    "start_time": "2022-05-24T17:21:36.070Z"
   },
   {
    "duration": 23,
    "start_time": "2022-05-24T17:21:36.083Z"
   },
   {
    "duration": 50,
    "start_time": "2022-05-24T17:21:36.109Z"
   },
   {
    "duration": 51,
    "start_time": "2022-05-24T17:21:36.161Z"
   },
   {
    "duration": 373,
    "start_time": "2022-05-24T17:21:36.214Z"
   },
   {
    "duration": 195,
    "start_time": "2022-05-24T17:21:36.589Z"
   },
   {
    "duration": 145,
    "start_time": "2022-05-24T17:21:36.786Z"
   },
   {
    "duration": 14,
    "start_time": "2022-05-24T17:21:36.933Z"
   },
   {
    "duration": 11,
    "start_time": "2022-05-24T17:21:36.948Z"
   },
   {
    "duration": 15,
    "start_time": "2022-05-24T17:21:36.961Z"
   },
   {
    "duration": 70,
    "start_time": "2022-05-24T17:21:36.979Z"
   },
   {
    "duration": 33,
    "start_time": "2022-05-24T17:21:37.050Z"
   },
   {
    "duration": 362,
    "start_time": "2022-05-24T17:21:37.084Z"
   },
   {
    "duration": 204,
    "start_time": "2022-05-24T17:21:37.447Z"
   },
   {
    "duration": 143,
    "start_time": "2022-05-24T17:21:37.653Z"
   },
   {
    "duration": 21,
    "start_time": "2022-05-24T17:21:37.807Z"
   },
   {
    "duration": 22,
    "start_time": "2022-05-24T17:21:37.829Z"
   },
   {
    "duration": 14,
    "start_time": "2022-05-24T17:21:37.853Z"
   },
   {
    "duration": 53,
    "start_time": "2022-05-24T17:21:37.868Z"
   },
   {
    "duration": 38,
    "start_time": "2022-05-24T17:21:37.923Z"
   },
   {
    "duration": 358,
    "start_time": "2022-05-24T17:21:37.962Z"
   },
   {
    "duration": 378,
    "start_time": "2022-05-24T17:21:38.322Z"
   },
   {
    "duration": 19,
    "start_time": "2022-05-24T17:21:38.705Z"
   },
   {
    "duration": 12,
    "start_time": "2022-05-24T17:21:38.726Z"
   },
   {
    "duration": 5,
    "start_time": "2022-05-24T17:21:38.740Z"
   },
   {
    "duration": 63,
    "start_time": "2022-05-24T17:21:38.747Z"
   },
   {
    "duration": 101,
    "start_time": "2022-05-24T17:21:38.812Z"
   },
   {
    "duration": 31,
    "start_time": "2022-05-24T17:21:38.916Z"
   },
   {
    "duration": 6,
    "start_time": "2022-05-24T17:21:38.948Z"
   },
   {
    "duration": 5,
    "start_time": "2022-05-24T17:21:38.955Z"
   },
   {
    "duration": 15,
    "start_time": "2022-05-24T17:21:41.577Z"
   },
   {
    "duration": 5,
    "start_time": "2022-05-24T17:22:04.232Z"
   },
   {
    "duration": 145,
    "start_time": "2022-05-24T17:22:04.240Z"
   },
   {
    "duration": 32,
    "start_time": "2022-05-24T17:22:04.386Z"
   },
   {
    "duration": 14,
    "start_time": "2022-05-24T17:22:04.424Z"
   },
   {
    "duration": 13,
    "start_time": "2022-05-24T17:22:04.440Z"
   },
   {
    "duration": 76,
    "start_time": "2022-05-24T17:22:04.454Z"
   },
   {
    "duration": 38,
    "start_time": "2022-05-24T17:22:04.532Z"
   },
   {
    "duration": 373,
    "start_time": "2022-05-24T17:22:04.572Z"
   },
   {
    "duration": 210,
    "start_time": "2022-05-24T17:22:04.947Z"
   },
   {
    "duration": 140,
    "start_time": "2022-05-24T17:22:05.159Z"
   },
   {
    "duration": 19,
    "start_time": "2022-05-24T17:22:05.301Z"
   },
   {
    "duration": 25,
    "start_time": "2022-05-24T17:22:05.324Z"
   },
   {
    "duration": 13,
    "start_time": "2022-05-24T17:22:05.351Z"
   },
   {
    "duration": 49,
    "start_time": "2022-05-24T17:22:05.367Z"
   },
   {
    "duration": 39,
    "start_time": "2022-05-24T17:22:05.418Z"
   },
   {
    "duration": 388,
    "start_time": "2022-05-24T17:22:05.458Z"
   },
   {
    "duration": 191,
    "start_time": "2022-05-24T17:22:05.848Z"
   },
   {
    "duration": 139,
    "start_time": "2022-05-24T17:22:06.041Z"
   },
   {
    "duration": 12,
    "start_time": "2022-05-24T17:22:06.181Z"
   },
   {
    "duration": 17,
    "start_time": "2022-05-24T17:22:06.195Z"
   },
   {
    "duration": 31,
    "start_time": "2022-05-24T17:22:06.214Z"
   },
   {
    "duration": 40,
    "start_time": "2022-05-24T17:22:06.246Z"
   },
   {
    "duration": 48,
    "start_time": "2022-05-24T17:22:06.288Z"
   },
   {
    "duration": 357,
    "start_time": "2022-05-24T17:22:06.337Z"
   },
   {
    "duration": 213,
    "start_time": "2022-05-24T17:22:06.696Z"
   },
   {
    "duration": 13,
    "start_time": "2022-05-24T17:22:06.911Z"
   },
   {
    "duration": 13,
    "start_time": "2022-05-24T17:22:06.926Z"
   },
   {
    "duration": 5,
    "start_time": "2022-05-24T17:22:06.941Z"
   },
   {
    "duration": 68,
    "start_time": "2022-05-24T17:22:06.948Z"
   },
   {
    "duration": 91,
    "start_time": "2022-05-24T17:22:07.018Z"
   },
   {
    "duration": 29,
    "start_time": "2022-05-24T17:22:07.111Z"
   },
   {
    "duration": 3,
    "start_time": "2022-05-24T17:22:07.142Z"
   },
   {
    "duration": 7,
    "start_time": "2022-05-24T17:22:07.146Z"
   },
   {
    "duration": 52,
    "start_time": "2022-05-24T17:22:07.154Z"
   },
   {
    "duration": 5,
    "start_time": "2022-05-24T17:22:07.208Z"
   },
   {
    "duration": 122,
    "start_time": "2022-05-24T17:22:07.215Z"
   },
   {
    "duration": 4,
    "start_time": "2022-05-24T17:22:07.339Z"
   },
   {
    "duration": 6,
    "start_time": "2022-05-24T17:22:07.344Z"
   },
   {
    "duration": 15,
    "start_time": "2022-05-24T17:22:10.040Z"
   },
   {
    "duration": 119,
    "start_time": "2022-05-24T17:29:35.798Z"
   },
   {
    "duration": 5,
    "start_time": "2022-05-24T18:18:13.384Z"
   },
   {
    "duration": 35,
    "start_time": "2022-05-24T18:19:49.828Z"
   },
   {
    "duration": 3,
    "start_time": "2022-05-24T18:19:58.160Z"
   },
   {
    "duration": 4,
    "start_time": "2022-05-24T18:21:20.964Z"
   },
   {
    "duration": 3,
    "start_time": "2022-05-24T18:21:56.083Z"
   },
   {
    "duration": 4,
    "start_time": "2022-05-24T18:21:56.857Z"
   },
   {
    "duration": 9,
    "start_time": "2022-05-24T18:22:26.314Z"
   },
   {
    "duration": 3,
    "start_time": "2022-05-24T18:22:36.552Z"
   },
   {
    "duration": 26,
    "start_time": "2022-05-24T18:23:49.134Z"
   },
   {
    "duration": 3,
    "start_time": "2022-05-24T18:23:55.053Z"
   },
   {
    "duration": 3,
    "start_time": "2022-05-24T18:25:28.314Z"
   },
   {
    "duration": 4,
    "start_time": "2022-05-24T18:25:29.056Z"
   },
   {
    "duration": 3,
    "start_time": "2022-05-24T18:27:54.912Z"
   },
   {
    "duration": 3,
    "start_time": "2022-05-24T18:28:01.556Z"
   },
   {
    "duration": 3,
    "start_time": "2022-05-24T18:28:08.879Z"
   },
   {
    "duration": 4,
    "start_time": "2022-05-24T18:28:13.918Z"
   },
   {
    "duration": 4,
    "start_time": "2022-05-24T18:28:22.752Z"
   },
   {
    "duration": 3,
    "start_time": "2022-05-24T18:28:53.646Z"
   },
   {
    "duration": 4,
    "start_time": "2022-05-24T18:28:58.151Z"
   },
   {
    "duration": 4,
    "start_time": "2022-05-24T18:29:04.821Z"
   },
   {
    "duration": 3,
    "start_time": "2022-05-24T18:33:29.256Z"
   },
   {
    "duration": 12,
    "start_time": "2022-05-24T18:53:08.629Z"
   },
   {
    "duration": 5,
    "start_time": "2022-05-24T18:53:22.383Z"
   },
   {
    "duration": 3,
    "start_time": "2022-05-24T18:54:31.793Z"
   },
   {
    "duration": 10,
    "start_time": "2022-05-24T18:54:35.066Z"
   },
   {
    "duration": 11,
    "start_time": "2022-05-24T18:58:30.527Z"
   },
   {
    "duration": 1583,
    "start_time": "2022-05-25T08:04:10.950Z"
   },
   {
    "duration": 503,
    "start_time": "2022-05-25T08:04:12.536Z"
   },
   {
    "duration": 17,
    "start_time": "2022-05-25T08:04:13.041Z"
   },
   {
    "duration": 12,
    "start_time": "2022-05-25T08:04:13.061Z"
   },
   {
    "duration": 17,
    "start_time": "2022-05-25T08:04:13.075Z"
   },
   {
    "duration": 75,
    "start_time": "2022-05-25T08:04:13.094Z"
   },
   {
    "duration": 48,
    "start_time": "2022-05-25T08:04:13.171Z"
   },
   {
    "duration": 376,
    "start_time": "2022-05-25T08:04:13.221Z"
   },
   {
    "duration": 226,
    "start_time": "2022-05-25T08:04:13.599Z"
   },
   {
    "duration": 230,
    "start_time": "2022-05-25T08:04:13.828Z"
   },
   {
    "duration": 16,
    "start_time": "2022-05-25T08:04:14.059Z"
   },
   {
    "duration": 18,
    "start_time": "2022-05-25T08:04:14.076Z"
   },
   {
    "duration": 17,
    "start_time": "2022-05-25T08:04:14.097Z"
   },
   {
    "duration": 75,
    "start_time": "2022-05-25T08:04:14.116Z"
   },
   {
    "duration": 40,
    "start_time": "2022-05-25T08:04:14.193Z"
   },
   {
    "duration": 376,
    "start_time": "2022-05-25T08:04:14.235Z"
   },
   {
    "duration": 191,
    "start_time": "2022-05-25T08:04:14.613Z"
   },
   {
    "duration": 215,
    "start_time": "2022-05-25T08:04:14.806Z"
   },
   {
    "duration": 17,
    "start_time": "2022-05-25T08:04:15.023Z"
   },
   {
    "duration": 25,
    "start_time": "2022-05-25T08:04:15.042Z"
   },
   {
    "duration": 18,
    "start_time": "2022-05-25T08:04:15.070Z"
   },
   {
    "duration": 57,
    "start_time": "2022-05-25T08:04:15.090Z"
   },
   {
    "duration": 51,
    "start_time": "2022-05-25T08:04:15.149Z"
   },
   {
    "duration": 368,
    "start_time": "2022-05-25T08:04:15.202Z"
   },
   {
    "duration": 204,
    "start_time": "2022-05-25T08:04:15.572Z"
   },
   {
    "duration": 16,
    "start_time": "2022-05-25T08:04:22.779Z"
   },
   {
    "duration": 28,
    "start_time": "2022-05-25T08:05:00.303Z"
   },
   {
    "duration": 7,
    "start_time": "2022-05-25T08:07:47.094Z"
   },
   {
    "duration": 4,
    "start_time": "2022-05-25T08:07:55.828Z"
   },
   {
    "duration": 4,
    "start_time": "2022-05-25T08:07:56.464Z"
   },
   {
    "duration": 5,
    "start_time": "2022-05-25T08:12:11.763Z"
   },
   {
    "duration": 5,
    "start_time": "2022-05-25T08:12:12.320Z"
   },
   {
    "duration": 15,
    "start_time": "2022-05-25T08:12:29.507Z"
   },
   {
    "duration": 304,
    "start_time": "2022-05-25T08:12:46.271Z"
   },
   {
    "duration": 5,
    "start_time": "2022-05-25T08:14:11.060Z"
   },
   {
    "duration": 24,
    "start_time": "2022-05-25T08:14:25.110Z"
   },
   {
    "duration": 17,
    "start_time": "2022-05-25T08:16:42.009Z"
   },
   {
    "duration": 16,
    "start_time": "2022-05-25T08:20:04.812Z"
   },
   {
    "duration": 8,
    "start_time": "2022-05-25T08:20:05.542Z"
   },
   {
    "duration": 5,
    "start_time": "2022-05-25T08:20:07.770Z"
   },
   {
    "duration": 5,
    "start_time": "2022-05-25T08:20:08.430Z"
   },
   {
    "duration": 6,
    "start_time": "2022-05-25T08:20:09.046Z"
   },
   {
    "duration": 5,
    "start_time": "2022-05-25T08:20:09.580Z"
   },
   {
    "duration": 28,
    "start_time": "2022-05-25T08:20:12.380Z"
   },
   {
    "duration": 5,
    "start_time": "2022-05-25T08:20:14.036Z"
   },
   {
    "duration": 17,
    "start_time": "2022-05-25T08:20:54.083Z"
   },
   {
    "duration": 17,
    "start_time": "2022-05-25T08:21:30.040Z"
   },
   {
    "duration": 28,
    "start_time": "2022-05-25T08:23:38.184Z"
   },
   {
    "duration": 8,
    "start_time": "2022-05-25T08:23:38.643Z"
   },
   {
    "duration": 5,
    "start_time": "2022-05-25T08:23:39.546Z"
   },
   {
    "duration": 5,
    "start_time": "2022-05-25T08:23:40.007Z"
   },
   {
    "duration": 4,
    "start_time": "2022-05-25T08:23:40.499Z"
   },
   {
    "duration": 6,
    "start_time": "2022-05-25T08:23:41.027Z"
   },
   {
    "duration": 23,
    "start_time": "2022-05-25T08:23:42.548Z"
   },
   {
    "duration": 5,
    "start_time": "2022-05-25T08:23:44.013Z"
   },
   {
    "duration": 25,
    "start_time": "2022-05-25T08:23:45.144Z"
   },
   {
    "duration": 18,
    "start_time": "2022-05-25T08:24:53.727Z"
   },
   {
    "duration": 23,
    "start_time": "2022-05-25T08:24:59.715Z"
   },
   {
    "duration": 24,
    "start_time": "2022-05-25T08:25:05.691Z"
   },
   {
    "duration": 53,
    "start_time": "2022-05-25T11:53:12.233Z"
   },
   {
    "duration": 1414,
    "start_time": "2022-05-25T11:53:18.238Z"
   },
   {
    "duration": 456,
    "start_time": "2022-05-25T11:53:19.654Z"
   },
   {
    "duration": 14,
    "start_time": "2022-05-25T11:53:20.112Z"
   },
   {
    "duration": 9,
    "start_time": "2022-05-25T11:53:20.127Z"
   },
   {
    "duration": 12,
    "start_time": "2022-05-25T11:53:20.138Z"
   },
   {
    "duration": 58,
    "start_time": "2022-05-25T11:53:20.151Z"
   },
   {
    "duration": 36,
    "start_time": "2022-05-25T11:53:20.211Z"
   },
   {
    "duration": 335,
    "start_time": "2022-05-25T11:53:20.249Z"
   },
   {
    "duration": 173,
    "start_time": "2022-05-25T11:53:20.594Z"
   },
   {
    "duration": 206,
    "start_time": "2022-05-25T11:53:20.768Z"
   },
   {
    "duration": 14,
    "start_time": "2022-05-25T11:53:20.976Z"
   },
   {
    "duration": 12,
    "start_time": "2022-05-25T11:53:20.992Z"
   },
   {
    "duration": 24,
    "start_time": "2022-05-25T11:53:21.005Z"
   },
   {
    "duration": 42,
    "start_time": "2022-05-25T11:53:21.033Z"
   },
   {
    "duration": 48,
    "start_time": "2022-05-25T11:53:21.078Z"
   },
   {
    "duration": 319,
    "start_time": "2022-05-25T11:53:21.128Z"
   },
   {
    "duration": 163,
    "start_time": "2022-05-25T11:53:21.449Z"
   },
   {
    "duration": 185,
    "start_time": "2022-05-25T11:53:21.614Z"
   },
   {
    "duration": 13,
    "start_time": "2022-05-25T11:53:21.801Z"
   },
   {
    "duration": 10,
    "start_time": "2022-05-25T11:53:21.815Z"
   },
   {
    "duration": 29,
    "start_time": "2022-05-25T11:53:21.827Z"
   },
   {
    "duration": 53,
    "start_time": "2022-05-25T11:53:21.857Z"
   },
   {
    "duration": 35,
    "start_time": "2022-05-25T11:53:21.911Z"
   },
   {
    "duration": 321,
    "start_time": "2022-05-25T11:53:21.948Z"
   },
   {
    "duration": 176,
    "start_time": "2022-05-25T11:53:22.270Z"
   },
   {
    "duration": 14,
    "start_time": "2022-05-25T11:53:22.448Z"
   },
   {
    "duration": 7,
    "start_time": "2022-05-25T11:53:22.463Z"
   },
   {
    "duration": 6,
    "start_time": "2022-05-25T11:53:22.472Z"
   },
   {
    "duration": 4,
    "start_time": "2022-05-25T11:53:22.494Z"
   },
   {
    "duration": 8,
    "start_time": "2022-05-25T11:53:22.499Z"
   },
   {
    "duration": 6,
    "start_time": "2022-05-25T11:53:22.508Z"
   },
   {
    "duration": 183,
    "start_time": "2022-05-25T11:53:22.516Z"
   },
   {
    "duration": 5,
    "start_time": "2022-05-25T11:53:22.702Z"
   },
   {
    "duration": 103,
    "start_time": "2022-05-25T11:53:22.708Z"
   },
   {
    "duration": 88,
    "start_time": "2022-05-25T11:53:22.813Z"
   },
   {
    "duration": 7,
    "start_time": "2022-05-25T11:53:22.903Z"
   },
   {
    "duration": 13,
    "start_time": "2022-05-25T11:53:22.911Z"
   },
   {
    "duration": 8,
    "start_time": "2022-05-25T11:53:22.926Z"
   },
   {
    "duration": 6,
    "start_time": "2022-05-25T11:53:22.936Z"
   },
   {
    "duration": 6,
    "start_time": "2022-05-25T11:53:22.943Z"
   },
   {
    "duration": 44,
    "start_time": "2022-05-25T11:53:22.952Z"
   },
   {
    "duration": 5,
    "start_time": "2022-05-25T11:53:22.998Z"
   },
   {
    "duration": 14,
    "start_time": "2022-05-25T11:53:23.095Z"
   },
   {
    "duration": 15,
    "start_time": "2022-05-25T11:53:23.110Z"
   },
   {
    "duration": 5,
    "start_time": "2022-05-25T11:53:23.126Z"
   },
   {
    "duration": 7,
    "start_time": "2022-05-25T11:53:23.133Z"
   },
   {
    "duration": 5,
    "start_time": "2022-05-25T11:53:23.141Z"
   },
   {
    "duration": 6,
    "start_time": "2022-05-25T11:53:23.147Z"
   },
   {
    "duration": 42,
    "start_time": "2022-05-25T11:53:23.155Z"
   },
   {
    "duration": 25,
    "start_time": "2022-05-25T11:53:23.198Z"
   },
   {
    "duration": 7,
    "start_time": "2022-05-25T11:53:23.295Z"
   },
   {
    "duration": 107,
    "start_time": "2022-05-25T11:53:23.304Z"
   },
   {
    "duration": 3,
    "start_time": "2022-05-25T11:53:23.413Z"
   },
   {
    "duration": 6,
    "start_time": "2022-05-25T11:53:23.417Z"
   },
   {
    "duration": 6,
    "start_time": "2022-05-25T11:53:23.424Z"
   },
   {
    "duration": 17,
    "start_time": "2022-05-25T11:53:25.562Z"
   },
   {
    "duration": 14,
    "start_time": "2022-05-25T11:53:53.467Z"
   },
   {
    "duration": 15,
    "start_time": "2022-05-25T11:54:14.554Z"
   },
   {
    "duration": 66,
    "start_time": "2022-05-25T16:47:14.796Z"
   },
   {
    "duration": 7,
    "start_time": "2022-05-25T17:00:04.351Z"
   },
   {
    "duration": 376,
    "start_time": "2022-05-25T17:00:04.359Z"
   },
   {
    "duration": 12,
    "start_time": "2022-05-25T17:00:04.737Z"
   },
   {
    "duration": 11,
    "start_time": "2022-05-25T17:00:04.751Z"
   },
   {
    "duration": 13,
    "start_time": "2022-05-25T17:00:04.764Z"
   },
   {
    "duration": 46,
    "start_time": "2022-05-25T17:00:04.779Z"
   },
   {
    "duration": 34,
    "start_time": "2022-05-25T17:00:04.827Z"
   },
   {
    "duration": 323,
    "start_time": "2022-05-25T17:00:04.863Z"
   },
   {
    "duration": 169,
    "start_time": "2022-05-25T17:00:05.194Z"
   },
   {
    "duration": 186,
    "start_time": "2022-05-25T17:00:05.365Z"
   },
   {
    "duration": 15,
    "start_time": "2022-05-25T17:00:05.553Z"
   },
   {
    "duration": 21,
    "start_time": "2022-05-25T17:00:05.570Z"
   },
   {
    "duration": 14,
    "start_time": "2022-05-25T17:00:05.594Z"
   },
   {
    "duration": 55,
    "start_time": "2022-05-25T17:00:05.610Z"
   },
   {
    "duration": 41,
    "start_time": "2022-05-25T17:00:05.667Z"
   },
   {
    "duration": 312,
    "start_time": "2022-05-25T17:00:05.710Z"
   },
   {
    "duration": 192,
    "start_time": "2022-05-25T17:00:06.025Z"
   },
   {
    "duration": 210,
    "start_time": "2022-05-25T17:00:06.219Z"
   },
   {
    "duration": 13,
    "start_time": "2022-05-25T17:00:06.430Z"
   },
   {
    "duration": 13,
    "start_time": "2022-05-25T17:00:06.445Z"
   },
   {
    "duration": 15,
    "start_time": "2022-05-25T17:00:06.460Z"
   },
   {
    "duration": 52,
    "start_time": "2022-05-25T17:00:06.477Z"
   },
   {
    "duration": 35,
    "start_time": "2022-05-25T17:00:06.531Z"
   },
   {
    "duration": 410,
    "start_time": "2022-05-25T17:00:06.569Z"
   },
   {
    "duration": 186,
    "start_time": "2022-05-25T17:00:06.980Z"
   },
   {
    "duration": 27,
    "start_time": "2022-05-25T17:00:07.167Z"
   },
   {
    "duration": 5,
    "start_time": "2022-05-25T17:00:07.196Z"
   },
   {
    "duration": 10,
    "start_time": "2022-05-25T17:00:07.204Z"
   },
   {
    "duration": 9,
    "start_time": "2022-05-25T17:00:07.216Z"
   },
   {
    "duration": 6,
    "start_time": "2022-05-25T17:00:07.227Z"
   },
   {
    "duration": 5,
    "start_time": "2022-05-25T17:00:07.235Z"
   },
   {
    "duration": 57,
    "start_time": "2022-05-25T17:00:07.241Z"
   },
   {
    "duration": 96,
    "start_time": "2022-05-25T17:00:07.299Z"
   },
   {
    "duration": 14,
    "start_time": "2022-05-25T17:00:07.397Z"
   },
   {
    "duration": 15,
    "start_time": "2022-05-25T17:00:07.413Z"
   },
   {
    "duration": 5,
    "start_time": "2022-05-25T17:00:07.430Z"
   },
   {
    "duration": 6,
    "start_time": "2022-05-25T17:00:07.437Z"
   },
   {
    "duration": 7,
    "start_time": "2022-05-25T17:00:07.444Z"
   },
   {
    "duration": 8,
    "start_time": "2022-05-25T17:00:07.452Z"
   },
   {
    "duration": 34,
    "start_time": "2022-05-25T17:00:07.461Z"
   },
   {
    "duration": 101,
    "start_time": "2022-05-25T17:00:07.497Z"
   },
   {
    "duration": 93,
    "start_time": "2022-05-25T17:00:07.605Z"
   },
   {
    "duration": 16,
    "start_time": "2022-05-25T17:00:07.699Z"
   },
   {
    "duration": 16,
    "start_time": "2022-05-25T17:00:07.716Z"
   },
   {
    "duration": 5,
    "start_time": "2022-05-25T17:00:07.733Z"
   },
   {
    "duration": 6,
    "start_time": "2022-05-25T17:00:07.740Z"
   },
   {
    "duration": 8,
    "start_time": "2022-05-25T17:00:07.747Z"
   },
   {
    "duration": 5,
    "start_time": "2022-05-25T17:00:07.757Z"
   },
   {
    "duration": 4,
    "start_time": "2022-05-25T17:00:07.793Z"
   },
   {
    "duration": 23,
    "start_time": "2022-05-25T17:00:07.798Z"
   },
   {
    "duration": 5,
    "start_time": "2022-05-25T17:00:07.895Z"
   },
   {
    "duration": 111,
    "start_time": "2022-05-25T17:00:07.903Z"
   },
   {
    "duration": 3,
    "start_time": "2022-05-25T17:00:08.016Z"
   },
   {
    "duration": 15,
    "start_time": "2022-05-25T17:00:08.021Z"
   },
   {
    "duration": 27,
    "start_time": "2022-05-25T17:00:08.038Z"
   },
   {
    "duration": 8,
    "start_time": "2022-05-25T17:00:14.400Z"
   },
   {
    "duration": 13,
    "start_time": "2022-05-25T17:00:25.701Z"
   },
   {
    "duration": 7,
    "start_time": "2022-05-25T17:00:59.652Z"
   },
   {
    "duration": 3,
    "start_time": "2022-05-25T17:01:00.537Z"
   },
   {
    "duration": 3,
    "start_time": "2022-05-25T17:01:05.793Z"
   },
   {
    "duration": 17,
    "start_time": "2022-05-25T17:01:15.317Z"
   },
   {
    "duration": 11,
    "start_time": "2022-05-25T17:01:36.715Z"
   },
   {
    "duration": 12,
    "start_time": "2022-05-25T17:01:57.178Z"
   },
   {
    "duration": 5,
    "start_time": "2022-05-25T17:02:04.389Z"
   },
   {
    "duration": 138,
    "start_time": "2022-05-25T17:02:04.395Z"
   },
   {
    "duration": 13,
    "start_time": "2022-05-25T17:02:04.534Z"
   },
   {
    "duration": 11,
    "start_time": "2022-05-25T17:02:04.549Z"
   },
   {
    "duration": 36,
    "start_time": "2022-05-25T17:02:04.562Z"
   },
   {
    "duration": 43,
    "start_time": "2022-05-25T17:02:04.600Z"
   },
   {
    "duration": 59,
    "start_time": "2022-05-25T17:02:04.645Z"
   },
   {
    "duration": 316,
    "start_time": "2022-05-25T17:02:04.706Z"
   },
   {
    "duration": 175,
    "start_time": "2022-05-25T17:02:05.024Z"
   },
   {
    "duration": 120,
    "start_time": "2022-05-25T17:02:05.201Z"
   },
   {
    "duration": 13,
    "start_time": "2022-05-25T17:02:05.324Z"
   },
   {
    "duration": 11,
    "start_time": "2022-05-25T17:02:05.339Z"
   },
   {
    "duration": 15,
    "start_time": "2022-05-25T17:02:05.351Z"
   },
   {
    "duration": 64,
    "start_time": "2022-05-25T17:02:05.367Z"
   },
   {
    "duration": 35,
    "start_time": "2022-05-25T17:02:05.432Z"
   },
   {
    "duration": 335,
    "start_time": "2022-05-25T17:02:05.469Z"
   },
   {
    "duration": 171,
    "start_time": "2022-05-25T17:02:05.806Z"
   },
   {
    "duration": 137,
    "start_time": "2022-05-25T17:02:05.979Z"
   },
   {
    "duration": 13,
    "start_time": "2022-05-25T17:02:06.118Z"
   },
   {
    "duration": 12,
    "start_time": "2022-05-25T17:02:06.133Z"
   },
   {
    "duration": 15,
    "start_time": "2022-05-25T17:02:06.146Z"
   },
   {
    "duration": 62,
    "start_time": "2022-05-25T17:02:06.163Z"
   },
   {
    "duration": 38,
    "start_time": "2022-05-25T17:02:06.226Z"
   },
   {
    "duration": 320,
    "start_time": "2022-05-25T17:02:06.266Z"
   },
   {
    "duration": 173,
    "start_time": "2022-05-25T17:02:06.593Z"
   },
   {
    "duration": 26,
    "start_time": "2022-05-25T17:02:06.768Z"
   },
   {
    "duration": 5,
    "start_time": "2022-05-25T17:02:06.796Z"
   },
   {
    "duration": 8,
    "start_time": "2022-05-25T17:02:06.802Z"
   },
   {
    "duration": 3,
    "start_time": "2022-05-25T17:02:06.813Z"
   },
   {
    "duration": 6,
    "start_time": "2022-05-25T17:02:06.818Z"
   },
   {
    "duration": 5,
    "start_time": "2022-05-25T17:02:06.825Z"
   },
   {
    "duration": 74,
    "start_time": "2022-05-25T17:02:06.832Z"
   },
   {
    "duration": 87,
    "start_time": "2022-05-25T17:02:06.908Z"
   },
   {
    "duration": 17,
    "start_time": "2022-05-25T17:02:06.997Z"
   },
   {
    "duration": 16,
    "start_time": "2022-05-25T17:02:07.016Z"
   },
   {
    "duration": 6,
    "start_time": "2022-05-25T17:02:07.033Z"
   },
   {
    "duration": 5,
    "start_time": "2022-05-25T17:02:07.041Z"
   },
   {
    "duration": 5,
    "start_time": "2022-05-25T17:02:07.048Z"
   },
   {
    "duration": 6,
    "start_time": "2022-05-25T17:02:07.054Z"
   },
   {
    "duration": 6,
    "start_time": "2022-05-25T17:02:07.094Z"
   },
   {
    "duration": 20,
    "start_time": "2022-05-25T17:02:07.101Z"
   },
   {
    "duration": 6,
    "start_time": "2022-05-25T17:02:07.197Z"
   },
   {
    "duration": 109,
    "start_time": "2022-05-25T17:02:07.205Z"
   },
   {
    "duration": 17,
    "start_time": "2022-05-25T17:02:07.316Z"
   },
   {
    "duration": 6,
    "start_time": "2022-05-25T17:02:07.335Z"
   },
   {
    "duration": 6,
    "start_time": "2022-05-25T17:02:07.343Z"
   },
   {
    "duration": 5,
    "start_time": "2022-05-25T17:02:07.351Z"
   },
   {
    "duration": 5,
    "start_time": "2022-05-25T17:02:07.358Z"
   },
   {
    "duration": 7,
    "start_time": "2022-05-25T17:02:07.364Z"
   },
   {
    "duration": 37,
    "start_time": "2022-05-25T17:02:07.372Z"
   },
   {
    "duration": 83,
    "start_time": "2022-05-25T17:02:07.413Z"
   },
   {
    "duration": 112,
    "start_time": "2022-05-25T17:02:07.498Z"
   },
   {
    "duration": 3,
    "start_time": "2022-05-25T17:02:07.612Z"
   },
   {
    "duration": 10,
    "start_time": "2022-05-25T17:02:07.616Z"
   },
   {
    "duration": 7,
    "start_time": "2022-05-25T17:02:07.627Z"
   },
   {
    "duration": 8,
    "start_time": "2022-05-25T17:02:10.951Z"
   },
   {
    "duration": 7,
    "start_time": "2022-05-25T17:02:43.332Z"
   },
   {
    "duration": 16,
    "start_time": "2022-05-25T17:02:59.187Z"
   },
   {
    "duration": 17,
    "start_time": "2022-05-25T17:10:50.751Z"
   },
   {
    "duration": 12,
    "start_time": "2022-05-25T17:11:08.635Z"
   },
   {
    "duration": 16,
    "start_time": "2022-05-25T17:11:44.407Z"
   },
   {
    "duration": 3,
    "start_time": "2022-05-25T17:13:25.976Z"
   },
   {
    "duration": 10,
    "start_time": "2022-05-25T17:13:37.127Z"
   },
   {
    "duration": 9,
    "start_time": "2022-05-25T17:13:47.814Z"
   },
   {
    "duration": 11,
    "start_time": "2022-05-25T17:14:02.373Z"
   },
   {
    "duration": 5,
    "start_time": "2022-05-25T17:17:37.057Z"
   },
   {
    "duration": 11,
    "start_time": "2022-05-25T17:18:42.774Z"
   },
   {
    "duration": 3,
    "start_time": "2022-05-25T17:18:49.537Z"
   },
   {
    "duration": 3,
    "start_time": "2022-05-25T17:18:49.996Z"
   },
   {
    "duration": 4,
    "start_time": "2022-05-25T17:19:01.553Z"
   },
   {
    "duration": 5,
    "start_time": "2022-05-25T17:19:11.250Z"
   },
   {
    "duration": 16,
    "start_time": "2022-05-25T17:20:31.962Z"
   },
   {
    "duration": 12,
    "start_time": "2022-05-25T17:20:43.978Z"
   },
   {
    "duration": 782,
    "start_time": "2022-05-25T17:25:45.189Z"
   },
   {
    "duration": 9,
    "start_time": "2022-05-25T17:26:10.455Z"
   },
   {
    "duration": 12,
    "start_time": "2022-05-25T17:26:45.822Z"
   },
   {
    "duration": 55,
    "start_time": "2022-05-25T17:27:21.186Z"
   },
   {
    "duration": 1148,
    "start_time": "2022-05-25T17:27:44.833Z"
   },
   {
    "duration": 455,
    "start_time": "2022-05-25T17:27:45.982Z"
   },
   {
    "duration": 16,
    "start_time": "2022-05-25T17:27:46.438Z"
   },
   {
    "duration": 11,
    "start_time": "2022-05-25T17:27:46.456Z"
   },
   {
    "duration": 13,
    "start_time": "2022-05-25T17:27:46.468Z"
   },
   {
    "duration": 57,
    "start_time": "2022-05-25T17:27:46.482Z"
   },
   {
    "duration": 36,
    "start_time": "2022-05-25T17:27:46.541Z"
   },
   {
    "duration": 330,
    "start_time": "2022-05-25T17:27:46.578Z"
   },
   {
    "duration": 170,
    "start_time": "2022-05-25T17:27:46.910Z"
   },
   {
    "duration": 206,
    "start_time": "2022-05-25T17:27:47.083Z"
   },
   {
    "duration": 13,
    "start_time": "2022-05-25T17:27:47.290Z"
   },
   {
    "duration": 15,
    "start_time": "2022-05-25T17:27:47.305Z"
   },
   {
    "duration": 23,
    "start_time": "2022-05-25T17:27:47.322Z"
   },
   {
    "duration": 60,
    "start_time": "2022-05-25T17:27:47.347Z"
   },
   {
    "duration": 35,
    "start_time": "2022-05-25T17:27:47.409Z"
   },
   {
    "duration": 313,
    "start_time": "2022-05-25T17:27:47.445Z"
   },
   {
    "duration": 163,
    "start_time": "2022-05-25T17:27:47.760Z"
   },
   {
    "duration": 200,
    "start_time": "2022-05-25T17:27:47.925Z"
   },
   {
    "duration": 13,
    "start_time": "2022-05-25T17:27:48.127Z"
   },
   {
    "duration": 11,
    "start_time": "2022-05-25T17:27:48.141Z"
   },
   {
    "duration": 17,
    "start_time": "2022-05-25T17:27:48.153Z"
   },
   {
    "duration": 53,
    "start_time": "2022-05-25T17:27:48.172Z"
   },
   {
    "duration": 36,
    "start_time": "2022-05-25T17:27:48.226Z"
   },
   {
    "duration": 319,
    "start_time": "2022-05-25T17:27:48.264Z"
   },
   {
    "duration": 176,
    "start_time": "2022-05-25T17:27:48.585Z"
   },
   {
    "duration": 14,
    "start_time": "2022-05-25T17:27:48.763Z"
   },
   {
    "duration": 16,
    "start_time": "2022-05-25T17:27:48.778Z"
   },
   {
    "duration": 5,
    "start_time": "2022-05-25T17:27:48.798Z"
   },
   {
    "duration": 6,
    "start_time": "2022-05-25T17:27:48.804Z"
   },
   {
    "duration": 5,
    "start_time": "2022-05-25T17:27:48.812Z"
   },
   {
    "duration": 6,
    "start_time": "2022-05-25T17:27:48.818Z"
   },
   {
    "duration": 82,
    "start_time": "2022-05-25T17:27:48.826Z"
   },
   {
    "duration": 4,
    "start_time": "2022-05-25T17:27:48.996Z"
   },
   {
    "duration": 26,
    "start_time": "2022-05-25T17:27:49.002Z"
   },
   {
    "duration": 19,
    "start_time": "2022-05-25T17:27:49.030Z"
   },
   {
    "duration": 7,
    "start_time": "2022-05-25T17:27:49.050Z"
   },
   {
    "duration": 4,
    "start_time": "2022-05-25T17:27:49.095Z"
   },
   {
    "duration": 16,
    "start_time": "2022-05-25T17:27:49.101Z"
   },
   {
    "duration": 12,
    "start_time": "2022-05-25T17:27:49.119Z"
   },
   {
    "duration": 12,
    "start_time": "2022-05-25T17:27:49.133Z"
   },
   {
    "duration": 53,
    "start_time": "2022-05-25T17:27:49.147Z"
   },
   {
    "duration": 4,
    "start_time": "2022-05-25T17:27:49.202Z"
   },
   {
    "duration": 104,
    "start_time": "2022-05-25T17:27:49.210Z"
   },
   {
    "duration": 15,
    "start_time": "2022-05-25T17:27:49.316Z"
   },
   {
    "duration": 5,
    "start_time": "2022-05-25T17:27:49.333Z"
   },
   {
    "duration": 7,
    "start_time": "2022-05-25T17:27:49.340Z"
   },
   {
    "duration": 5,
    "start_time": "2022-05-25T17:27:49.349Z"
   },
   {
    "duration": 7,
    "start_time": "2022-05-25T17:27:49.355Z"
   },
   {
    "duration": 6,
    "start_time": "2022-05-25T17:27:49.363Z"
   },
   {
    "duration": 45,
    "start_time": "2022-05-25T17:27:49.370Z"
   },
   {
    "duration": 82,
    "start_time": "2022-05-25T17:27:49.417Z"
   },
   {
    "duration": 111,
    "start_time": "2022-05-25T17:27:49.500Z"
   },
   {
    "duration": 3,
    "start_time": "2022-05-25T17:27:49.612Z"
   },
   {
    "duration": 6,
    "start_time": "2022-05-25T17:27:49.617Z"
   },
   {
    "duration": 65,
    "start_time": "2022-05-25T17:27:55.178Z"
   },
   {
    "duration": 1262,
    "start_time": "2022-05-25T17:28:09.882Z"
   },
   {
    "duration": 1210,
    "start_time": "2022-05-25T17:28:52.253Z"
   },
   {
    "duration": 22,
    "start_time": "2022-05-25T17:29:07.247Z"
   },
   {
    "duration": 14,
    "start_time": "2022-05-25T17:29:39.610Z"
   },
   {
    "duration": 10,
    "start_time": "2022-05-25T17:30:12.987Z"
   },
   {
    "duration": 12,
    "start_time": "2022-05-25T17:30:40.272Z"
   },
   {
    "duration": 9,
    "start_time": "2022-05-25T17:30:57.953Z"
   },
   {
    "duration": 10,
    "start_time": "2022-05-25T17:31:04.810Z"
   },
   {
    "duration": 6,
    "start_time": "2022-05-25T17:36:09.950Z"
   },
   {
    "duration": 175,
    "start_time": "2022-05-25T17:36:09.958Z"
   },
   {
    "duration": 14,
    "start_time": "2022-05-25T17:36:10.135Z"
   },
   {
    "duration": 37,
    "start_time": "2022-05-25T17:36:10.150Z"
   },
   {
    "duration": 19,
    "start_time": "2022-05-25T17:36:10.190Z"
   },
   {
    "duration": 51,
    "start_time": "2022-05-25T17:36:10.211Z"
   },
   {
    "duration": 46,
    "start_time": "2022-05-25T17:36:10.265Z"
   },
   {
    "duration": 341,
    "start_time": "2022-05-25T17:36:10.313Z"
   },
   {
    "duration": 202,
    "start_time": "2022-05-25T17:36:10.657Z"
   },
   {
    "duration": 142,
    "start_time": "2022-05-25T17:36:10.861Z"
   },
   {
    "duration": 17,
    "start_time": "2022-05-25T17:36:11.006Z"
   },
   {
    "duration": 18,
    "start_time": "2022-05-25T17:36:11.024Z"
   },
   {
    "duration": 18,
    "start_time": "2022-05-25T17:36:11.045Z"
   },
   {
    "duration": 60,
    "start_time": "2022-05-25T17:36:11.065Z"
   },
   {
    "duration": 35,
    "start_time": "2022-05-25T17:36:11.126Z"
   },
   {
    "duration": 315,
    "start_time": "2022-05-25T17:36:11.163Z"
   },
   {
    "duration": 179,
    "start_time": "2022-05-25T17:36:11.479Z"
   },
   {
    "duration": 134,
    "start_time": "2022-05-25T17:36:11.660Z"
   },
   {
    "duration": 14,
    "start_time": "2022-05-25T17:36:11.795Z"
   },
   {
    "duration": 17,
    "start_time": "2022-05-25T17:36:11.810Z"
   },
   {
    "duration": 15,
    "start_time": "2022-05-25T17:36:11.829Z"
   },
   {
    "duration": 56,
    "start_time": "2022-05-25T17:36:11.845Z"
   },
   {
    "duration": 39,
    "start_time": "2022-05-25T17:36:11.903Z"
   },
   {
    "duration": 461,
    "start_time": "2022-05-25T17:36:11.944Z"
   },
   {
    "duration": 204,
    "start_time": "2022-05-25T17:36:12.406Z"
   },
   {
    "duration": 16,
    "start_time": "2022-05-25T17:36:12.611Z"
   },
   {
    "duration": 6,
    "start_time": "2022-05-25T17:36:12.629Z"
   },
   {
    "duration": 6,
    "start_time": "2022-05-25T17:36:12.636Z"
   },
   {
    "duration": 5,
    "start_time": "2022-05-25T17:36:12.645Z"
   },
   {
    "duration": 7,
    "start_time": "2022-05-25T17:36:12.651Z"
   },
   {
    "duration": 5,
    "start_time": "2022-05-25T17:36:12.660Z"
   },
   {
    "duration": 38,
    "start_time": "2022-05-25T17:36:12.667Z"
   },
   {
    "duration": 90,
    "start_time": "2022-05-25T17:36:12.707Z"
   },
   {
    "duration": 109,
    "start_time": "2022-05-25T17:36:12.800Z"
   },
   {
    "duration": 15,
    "start_time": "2022-05-25T17:36:12.911Z"
   },
   {
    "duration": 7,
    "start_time": "2022-05-25T17:36:12.928Z"
   },
   {
    "duration": 8,
    "start_time": "2022-05-25T17:36:12.936Z"
   },
   {
    "duration": 11,
    "start_time": "2022-05-25T17:36:12.945Z"
   },
   {
    "duration": 9,
    "start_time": "2022-05-25T17:36:12.957Z"
   },
   {
    "duration": 9,
    "start_time": "2022-05-25T17:36:12.967Z"
   },
   {
    "duration": 17,
    "start_time": "2022-05-25T17:36:12.995Z"
   },
   {
    "duration": 85,
    "start_time": "2022-05-25T17:36:13.013Z"
   },
   {
    "duration": 128,
    "start_time": "2022-05-25T17:36:13.099Z"
   },
   {
    "duration": 23,
    "start_time": "2022-05-25T17:36:13.229Z"
   },
   {
    "duration": 6,
    "start_time": "2022-05-25T17:36:13.255Z"
   },
   {
    "duration": 7,
    "start_time": "2022-05-25T17:36:13.263Z"
   },
   {
    "duration": 12,
    "start_time": "2022-05-25T17:36:13.272Z"
   },
   {
    "duration": 9,
    "start_time": "2022-05-25T17:36:13.286Z"
   },
   {
    "duration": 9,
    "start_time": "2022-05-25T17:36:13.296Z"
   },
   {
    "duration": 16,
    "start_time": "2022-05-25T17:36:13.306Z"
   },
   {
    "duration": 74,
    "start_time": "2022-05-25T17:36:13.325Z"
   },
   {
    "duration": 104,
    "start_time": "2022-05-25T17:36:13.402Z"
   },
   {
    "duration": 3,
    "start_time": "2022-05-25T17:36:13.508Z"
   },
   {
    "duration": 5,
    "start_time": "2022-05-25T17:36:13.512Z"
   },
   {
    "duration": 3,
    "start_time": "2022-05-25T17:36:18.010Z"
   },
   {
    "duration": 3,
    "start_time": "2022-05-25T17:37:28.500Z"
   },
   {
    "duration": 11,
    "start_time": "2022-05-25T17:37:41.273Z"
   },
   {
    "duration": 10,
    "start_time": "2022-05-25T17:40:48.042Z"
   },
   {
    "duration": 11,
    "start_time": "2022-05-25T17:40:49.272Z"
   },
   {
    "duration": 14,
    "start_time": "2022-05-25T17:40:50.357Z"
   },
   {
    "duration": 12,
    "start_time": "2022-05-25T19:01:05.740Z"
   },
   {
    "duration": 11,
    "start_time": "2022-05-25T19:01:11.395Z"
   },
   {
    "duration": 10,
    "start_time": "2022-05-25T19:01:31.539Z"
   },
   {
    "duration": 11,
    "start_time": "2022-05-25T19:02:06.486Z"
   },
   {
    "duration": 10,
    "start_time": "2022-05-25T19:02:15.076Z"
   },
   {
    "duration": 10,
    "start_time": "2022-05-25T19:02:19.719Z"
   },
   {
    "duration": 11,
    "start_time": "2022-05-25T19:02:25.239Z"
   },
   {
    "duration": 11,
    "start_time": "2022-05-25T19:02:30.282Z"
   },
   {
    "duration": 5,
    "start_time": "2022-05-25T19:04:54.173Z"
   },
   {
    "duration": 4,
    "start_time": "2022-05-25T19:07:02.120Z"
   },
   {
    "duration": 4,
    "start_time": "2022-05-25T19:08:11.150Z"
   },
   {
    "duration": 4,
    "start_time": "2022-05-25T19:08:18.389Z"
   },
   {
    "duration": 4,
    "start_time": "2022-05-25T19:08:22.847Z"
   },
   {
    "duration": 3,
    "start_time": "2022-05-25T19:08:37.152Z"
   },
   {
    "duration": 7,
    "start_time": "2022-05-25T19:08:49.767Z"
   },
   {
    "duration": 6,
    "start_time": "2022-05-25T19:11:25.744Z"
   },
   {
    "duration": 12,
    "start_time": "2022-05-25T19:12:19.136Z"
   },
   {
    "duration": 5,
    "start_time": "2022-05-25T19:12:40.836Z"
   },
   {
    "duration": 12,
    "start_time": "2022-05-25T19:13:09.573Z"
   },
   {
    "duration": 5,
    "start_time": "2022-05-25T19:13:26.917Z"
   },
   {
    "duration": 3,
    "start_time": "2022-05-25T19:17:14.325Z"
   },
   {
    "duration": 184,
    "start_time": "2022-05-25T19:17:14.335Z"
   },
   {
    "duration": 13,
    "start_time": "2022-05-25T19:17:14.520Z"
   },
   {
    "duration": 33,
    "start_time": "2022-05-25T19:17:14.535Z"
   },
   {
    "duration": 37,
    "start_time": "2022-05-25T19:17:14.570Z"
   },
   {
    "duration": 73,
    "start_time": "2022-05-25T19:17:14.609Z"
   },
   {
    "duration": 33,
    "start_time": "2022-05-25T19:17:14.683Z"
   },
   {
    "duration": 310,
    "start_time": "2022-05-25T19:17:14.718Z"
   },
   {
    "duration": 182,
    "start_time": "2022-05-25T19:17:15.030Z"
   },
   {
    "duration": 123,
    "start_time": "2022-05-25T19:17:15.213Z"
   },
   {
    "duration": 13,
    "start_time": "2022-05-25T19:17:15.339Z"
   },
   {
    "duration": 21,
    "start_time": "2022-05-25T19:17:15.353Z"
   },
   {
    "duration": 23,
    "start_time": "2022-05-25T19:17:15.375Z"
   },
   {
    "duration": 45,
    "start_time": "2022-05-25T19:17:15.399Z"
   },
   {
    "duration": 50,
    "start_time": "2022-05-25T19:17:15.446Z"
   },
   {
    "duration": 351,
    "start_time": "2022-05-25T19:17:15.498Z"
   },
   {
    "duration": 200,
    "start_time": "2022-05-25T19:17:15.850Z"
   },
   {
    "duration": 143,
    "start_time": "2022-05-25T19:17:16.052Z"
   },
   {
    "duration": 19,
    "start_time": "2022-05-25T19:17:16.196Z"
   },
   {
    "duration": 16,
    "start_time": "2022-05-25T19:17:16.217Z"
   },
   {
    "duration": 48,
    "start_time": "2022-05-25T19:17:16.235Z"
   },
   {
    "duration": 55,
    "start_time": "2022-05-25T19:17:16.284Z"
   },
   {
    "duration": 33,
    "start_time": "2022-05-25T19:17:16.341Z"
   },
   {
    "duration": 306,
    "start_time": "2022-05-25T19:17:16.376Z"
   },
   {
    "duration": 169,
    "start_time": "2022-05-25T19:17:16.693Z"
   },
   {
    "duration": 16,
    "start_time": "2022-05-25T19:17:16.863Z"
   },
   {
    "duration": 6,
    "start_time": "2022-05-25T19:17:16.893Z"
   },
   {
    "duration": 23,
    "start_time": "2022-05-25T19:17:16.900Z"
   },
   {
    "duration": 20,
    "start_time": "2022-05-25T19:17:16.927Z"
   },
   {
    "duration": 20,
    "start_time": "2022-05-25T19:17:16.948Z"
   },
   {
    "duration": 24,
    "start_time": "2022-05-25T19:17:16.970Z"
   },
   {
    "duration": 21,
    "start_time": "2022-05-25T19:17:16.996Z"
   },
   {
    "duration": 177,
    "start_time": "2022-05-25T19:17:17.018Z"
   },
   {
    "duration": 33,
    "start_time": "2022-05-25T19:17:17.197Z"
   },
   {
    "duration": 23,
    "start_time": "2022-05-25T19:17:17.233Z"
   },
   {
    "duration": 9,
    "start_time": "2022-05-25T19:17:17.258Z"
   },
   {
    "duration": 23,
    "start_time": "2022-05-25T19:17:17.269Z"
   },
   {
    "duration": 18,
    "start_time": "2022-05-25T19:17:17.294Z"
   },
   {
    "duration": 27,
    "start_time": "2022-05-25T19:17:17.314Z"
   },
   {
    "duration": 16,
    "start_time": "2022-05-25T19:17:17.343Z"
   },
   {
    "duration": 25,
    "start_time": "2022-05-25T19:17:17.361Z"
   },
   {
    "duration": 218,
    "start_time": "2022-05-25T19:17:17.387Z"
   },
   {
    "duration": 25,
    "start_time": "2022-05-25T19:17:17.607Z"
   },
   {
    "duration": 17,
    "start_time": "2022-05-25T19:17:17.634Z"
   },
   {
    "duration": 6,
    "start_time": "2022-05-25T19:17:17.653Z"
   },
   {
    "duration": 6,
    "start_time": "2022-05-25T19:17:17.660Z"
   },
   {
    "duration": 6,
    "start_time": "2022-05-25T19:17:17.668Z"
   },
   {
    "duration": 20,
    "start_time": "2022-05-25T19:17:17.675Z"
   },
   {
    "duration": 7,
    "start_time": "2022-05-25T19:17:17.696Z"
   },
   {
    "duration": 91,
    "start_time": "2022-05-25T19:17:17.705Z"
   },
   {
    "duration": 4,
    "start_time": "2022-05-25T19:17:17.798Z"
   },
   {
    "duration": 106,
    "start_time": "2022-05-25T19:17:17.804Z"
   },
   {
    "duration": 4,
    "start_time": "2022-05-25T19:17:17.912Z"
   },
   {
    "duration": 6,
    "start_time": "2022-05-25T19:17:17.917Z"
   },
   {
    "duration": 10,
    "start_time": "2022-05-25T19:17:17.924Z"
   },
   {
    "duration": 13,
    "start_time": "2022-05-25T19:17:17.935Z"
   },
   {
    "duration": 11,
    "start_time": "2022-05-25T19:17:17.950Z"
   },
   {
    "duration": 32,
    "start_time": "2022-05-25T19:17:17.963Z"
   },
   {
    "duration": 14,
    "start_time": "2022-05-25T19:17:17.997Z"
   },
   {
    "duration": 5,
    "start_time": "2022-05-25T19:17:18.012Z"
   },
   {
    "duration": 14,
    "start_time": "2022-05-25T19:17:18.019Z"
   },
   {
    "duration": 7,
    "start_time": "2022-05-25T19:17:18.035Z"
   },
   {
    "duration": 13,
    "start_time": "2022-05-25T19:17:18.044Z"
   },
   {
    "duration": 6,
    "start_time": "2022-05-25T19:17:21.975Z"
   },
   {
    "duration": 10,
    "start_time": "2022-05-25T19:50:05.222Z"
   },
   {
    "duration": 28,
    "start_time": "2022-05-25T19:50:32.458Z"
   },
   {
    "duration": 1949,
    "start_time": "2022-05-25T19:50:39.702Z"
   },
   {
    "duration": 1763,
    "start_time": "2022-05-25T19:52:24.967Z"
   },
   {
    "duration": 1666,
    "start_time": "2022-05-25T19:54:19.565Z"
   },
   {
    "duration": 1597,
    "start_time": "2022-05-25T19:54:49.033Z"
   },
   {
    "duration": 1211,
    "start_time": "2022-05-25T20:03:00.283Z"
   },
   {
    "duration": 149,
    "start_time": "2022-05-25T20:03:01.496Z"
   },
   {
    "duration": 14,
    "start_time": "2022-05-25T20:03:01.647Z"
   },
   {
    "duration": 11,
    "start_time": "2022-05-25T20:03:01.662Z"
   },
   {
    "duration": 38,
    "start_time": "2022-05-25T20:03:01.675Z"
   },
   {
    "duration": 92,
    "start_time": "2022-05-25T20:03:01.715Z"
   },
   {
    "duration": 70,
    "start_time": "2022-05-25T20:03:01.809Z"
   },
   {
    "duration": 405,
    "start_time": "2022-05-25T20:03:01.881Z"
   },
   {
    "duration": 174,
    "start_time": "2022-05-25T20:03:02.293Z"
   },
   {
    "duration": 144,
    "start_time": "2022-05-25T20:03:02.470Z"
   },
   {
    "duration": 14,
    "start_time": "2022-05-25T20:03:02.616Z"
   },
   {
    "duration": 14,
    "start_time": "2022-05-25T20:03:02.631Z"
   },
   {
    "duration": 14,
    "start_time": "2022-05-25T20:03:02.647Z"
   },
   {
    "duration": 66,
    "start_time": "2022-05-25T20:03:02.662Z"
   },
   {
    "duration": 34,
    "start_time": "2022-05-25T20:03:02.730Z"
   },
   {
    "duration": 322,
    "start_time": "2022-05-25T20:03:02.766Z"
   },
   {
    "duration": 174,
    "start_time": "2022-05-25T20:03:03.094Z"
   },
   {
    "duration": 148,
    "start_time": "2022-05-25T20:03:03.270Z"
   },
   {
    "duration": 14,
    "start_time": "2022-05-25T20:03:03.420Z"
   },
   {
    "duration": 11,
    "start_time": "2022-05-25T20:03:03.436Z"
   },
   {
    "duration": 15,
    "start_time": "2022-05-25T20:03:03.448Z"
   },
   {
    "duration": 68,
    "start_time": "2022-05-25T20:03:03.465Z"
   },
   {
    "duration": 35,
    "start_time": "2022-05-25T20:03:03.535Z"
   },
   {
    "duration": 328,
    "start_time": "2022-05-25T20:03:03.571Z"
   },
   {
    "duration": 174,
    "start_time": "2022-05-25T20:03:03.900Z"
   },
   {
    "duration": 22,
    "start_time": "2022-05-25T20:03:04.076Z"
   },
   {
    "duration": 5,
    "start_time": "2022-05-25T20:03:04.099Z"
   },
   {
    "duration": 8,
    "start_time": "2022-05-25T20:03:04.107Z"
   },
   {
    "duration": 6,
    "start_time": "2022-05-25T20:03:04.117Z"
   },
   {
    "duration": 11,
    "start_time": "2022-05-25T20:03:04.124Z"
   },
   {
    "duration": 8,
    "start_time": "2022-05-25T20:03:04.136Z"
   },
   {
    "duration": 54,
    "start_time": "2022-05-25T20:03:04.145Z"
   },
   {
    "duration": 94,
    "start_time": "2022-05-25T20:03:04.201Z"
   },
   {
    "duration": 12,
    "start_time": "2022-05-25T20:03:04.297Z"
   },
   {
    "duration": 19,
    "start_time": "2022-05-25T20:03:04.310Z"
   },
   {
    "duration": 5,
    "start_time": "2022-05-25T20:03:04.331Z"
   },
   {
    "duration": 7,
    "start_time": "2022-05-25T20:03:04.338Z"
   },
   {
    "duration": 13,
    "start_time": "2022-05-25T20:03:04.347Z"
   },
   {
    "duration": 14,
    "start_time": "2022-05-25T20:03:04.361Z"
   },
   {
    "duration": 18,
    "start_time": "2022-05-25T20:03:04.377Z"
   },
   {
    "duration": 23,
    "start_time": "2022-05-25T20:03:04.396Z"
   },
   {
    "duration": 79,
    "start_time": "2022-05-25T20:03:04.421Z"
   },
   {
    "duration": 110,
    "start_time": "2022-05-25T20:03:04.503Z"
   },
   {
    "duration": 14,
    "start_time": "2022-05-25T20:03:04.616Z"
   },
   {
    "duration": 5,
    "start_time": "2022-05-25T20:03:04.632Z"
   },
   {
    "duration": 7,
    "start_time": "2022-05-25T20:03:04.639Z"
   },
   {
    "duration": 6,
    "start_time": "2022-05-25T20:03:04.647Z"
   },
   {
    "duration": 8,
    "start_time": "2022-05-25T20:03:04.654Z"
   },
   {
    "duration": 6,
    "start_time": "2022-05-25T20:03:04.663Z"
   },
   {
    "duration": 36,
    "start_time": "2022-05-25T20:03:04.670Z"
   },
   {
    "duration": 85,
    "start_time": "2022-05-25T20:03:04.708Z"
   },
   {
    "duration": 112,
    "start_time": "2022-05-25T20:03:04.797Z"
   },
   {
    "duration": 3,
    "start_time": "2022-05-25T20:03:04.910Z"
   },
   {
    "duration": 6,
    "start_time": "2022-05-25T20:03:04.915Z"
   },
   {
    "duration": 6,
    "start_time": "2022-05-25T20:03:04.923Z"
   },
   {
    "duration": 13,
    "start_time": "2022-05-25T20:03:04.930Z"
   },
   {
    "duration": 10,
    "start_time": "2022-05-25T20:03:04.944Z"
   },
   {
    "duration": 10,
    "start_time": "2022-05-25T20:03:04.955Z"
   },
   {
    "duration": 12,
    "start_time": "2022-05-25T20:03:04.995Z"
   },
   {
    "duration": 4,
    "start_time": "2022-05-25T20:03:05.009Z"
   },
   {
    "duration": 1786,
    "start_time": "2022-05-25T20:03:05.015Z"
   },
   {
    "duration": 13,
    "start_time": "2022-05-25T20:03:06.804Z"
   },
   {
    "duration": 25,
    "start_time": "2022-05-25T20:03:06.820Z"
   },
   {
    "duration": 1824,
    "start_time": "2022-05-25T20:03:06.846Z"
   },
   {
    "duration": 12,
    "start_time": "2022-05-25T20:03:08.672Z"
   },
   {
    "duration": 4,
    "start_time": "2022-05-25T20:03:08.695Z"
   },
   {
    "duration": 1877,
    "start_time": "2022-05-25T20:03:08.700Z"
   },
   {
    "duration": 1225,
    "start_time": "2022-05-26T20:13:38.859Z"
   },
   {
    "duration": 812,
    "start_time": "2022-05-26T20:13:40.086Z"
   },
   {
    "duration": 15,
    "start_time": "2022-05-26T20:13:40.900Z"
   },
   {
    "duration": 11,
    "start_time": "2022-05-26T20:13:40.917Z"
   },
   {
    "duration": 14,
    "start_time": "2022-05-26T20:13:40.929Z"
   },
   {
    "duration": 44,
    "start_time": "2022-05-26T20:13:40.945Z"
   },
   {
    "duration": 36,
    "start_time": "2022-05-26T20:13:41.011Z"
   },
   {
    "duration": 330,
    "start_time": "2022-05-26T20:13:41.048Z"
   },
   {
    "duration": 226,
    "start_time": "2022-05-26T20:13:41.380Z"
   },
   {
    "duration": 529,
    "start_time": "2022-05-26T20:13:41.612Z"
   },
   {
    "duration": 15,
    "start_time": "2022-05-26T20:13:42.142Z"
   },
   {
    "duration": 14,
    "start_time": "2022-05-26T20:13:42.159Z"
   },
   {
    "duration": 15,
    "start_time": "2022-05-26T20:13:42.175Z"
   },
   {
    "duration": 58,
    "start_time": "2022-05-26T20:13:42.192Z"
   },
   {
    "duration": 34,
    "start_time": "2022-05-26T20:13:42.252Z"
   },
   {
    "duration": 329,
    "start_time": "2022-05-26T20:13:42.288Z"
   },
   {
    "duration": 163,
    "start_time": "2022-05-26T20:13:42.619Z"
   },
   {
    "duration": 506,
    "start_time": "2022-05-26T20:13:42.784Z"
   },
   {
    "duration": 14,
    "start_time": "2022-05-26T20:13:43.292Z"
   },
   {
    "duration": 10,
    "start_time": "2022-05-26T20:13:43.307Z"
   },
   {
    "duration": 21,
    "start_time": "2022-05-26T20:13:43.319Z"
   },
   {
    "duration": 45,
    "start_time": "2022-05-26T20:13:43.341Z"
   },
   {
    "duration": 43,
    "start_time": "2022-05-26T20:13:43.388Z"
   },
   {
    "duration": 318,
    "start_time": "2022-05-26T20:13:43.433Z"
   },
   {
    "duration": 170,
    "start_time": "2022-05-26T20:13:43.752Z"
   },
   {
    "duration": 13,
    "start_time": "2022-05-26T20:13:43.924Z"
   },
   {
    "duration": 5,
    "start_time": "2022-05-26T20:13:43.939Z"
   },
   {
    "duration": 5,
    "start_time": "2022-05-26T20:13:43.949Z"
   },
   {
    "duration": 7,
    "start_time": "2022-05-26T20:13:43.955Z"
   },
   {
    "duration": 6,
    "start_time": "2022-05-26T20:13:43.964Z"
   },
   {
    "duration": 6,
    "start_time": "2022-05-26T20:13:43.971Z"
   },
   {
    "duration": 250,
    "start_time": "2022-05-26T20:13:43.978Z"
   },
   {
    "duration": 82,
    "start_time": "2022-05-26T20:13:44.232Z"
   },
   {
    "duration": 115,
    "start_time": "2022-05-26T20:13:44.316Z"
   },
   {
    "duration": 15,
    "start_time": "2022-05-26T20:13:44.433Z"
   },
   {
    "duration": 5,
    "start_time": "2022-05-26T20:13:44.450Z"
   },
   {
    "duration": 6,
    "start_time": "2022-05-26T20:13:44.456Z"
   },
   {
    "duration": 6,
    "start_time": "2022-05-26T20:13:44.463Z"
   },
   {
    "duration": 4,
    "start_time": "2022-05-26T20:13:44.471Z"
   },
   {
    "duration": 6,
    "start_time": "2022-05-26T20:13:44.476Z"
   },
   {
    "duration": 38,
    "start_time": "2022-05-26T20:13:44.484Z"
   },
   {
    "duration": 89,
    "start_time": "2022-05-26T20:13:44.523Z"
   },
   {
    "duration": 113,
    "start_time": "2022-05-26T20:13:44.614Z"
   },
   {
    "duration": 16,
    "start_time": "2022-05-26T20:13:44.729Z"
   },
   {
    "duration": 6,
    "start_time": "2022-05-26T20:13:44.746Z"
   },
   {
    "duration": 6,
    "start_time": "2022-05-26T20:13:44.754Z"
   },
   {
    "duration": 6,
    "start_time": "2022-05-26T20:13:44.761Z"
   },
   {
    "duration": 6,
    "start_time": "2022-05-26T20:13:44.768Z"
   },
   {
    "duration": 6,
    "start_time": "2022-05-26T20:13:44.775Z"
   },
   {
    "duration": 39,
    "start_time": "2022-05-26T20:13:44.783Z"
   },
   {
    "duration": 92,
    "start_time": "2022-05-26T20:13:44.823Z"
   },
   {
    "duration": 114,
    "start_time": "2022-05-26T20:13:44.918Z"
   },
   {
    "duration": 5,
    "start_time": "2022-05-26T20:13:45.034Z"
   },
   {
    "duration": 9,
    "start_time": "2022-05-26T20:13:45.040Z"
   },
   {
    "duration": 12,
    "start_time": "2022-05-26T20:13:45.050Z"
   },
   {
    "duration": 17,
    "start_time": "2022-05-26T20:13:45.063Z"
   },
   {
    "duration": 10,
    "start_time": "2022-05-26T20:13:45.082Z"
   },
   {
    "duration": 20,
    "start_time": "2022-05-26T20:13:45.093Z"
   },
   {
    "duration": 13,
    "start_time": "2022-05-26T20:13:45.114Z"
   },
   {
    "duration": 16,
    "start_time": "2022-05-26T20:13:45.128Z"
   },
   {
    "duration": 1672,
    "start_time": "2022-05-26T20:13:45.145Z"
   },
   {
    "duration": 10,
    "start_time": "2022-05-26T20:13:46.819Z"
   },
   {
    "duration": 10,
    "start_time": "2022-05-26T20:13:46.830Z"
   },
   {
    "duration": 1691,
    "start_time": "2022-05-26T20:13:46.841Z"
   },
   {
    "duration": 14,
    "start_time": "2022-05-26T20:13:48.533Z"
   },
   {
    "duration": 11,
    "start_time": "2022-05-26T20:13:48.549Z"
   },
   {
    "duration": 1674,
    "start_time": "2022-05-26T20:13:48.561Z"
   },
   {
    "duration": 141,
    "start_time": "2022-05-26T20:17:16.814Z"
   },
   {
    "duration": 130,
    "start_time": "2022-05-26T20:17:21.883Z"
   },
   {
    "duration": 260,
    "start_time": "2022-05-26T20:17:35.032Z"
   },
   {
    "duration": 14,
    "start_time": "2022-05-26T20:24:37.543Z"
   },
   {
    "duration": 103,
    "start_time": "2022-05-26T20:28:09.877Z"
   },
   {
    "duration": 8,
    "start_time": "2022-05-26T20:28:17.455Z"
   },
   {
    "duration": 1790,
    "start_time": "2022-05-29T17:29:30.865Z"
   },
   {
    "duration": 939,
    "start_time": "2022-05-29T17:29:32.657Z"
   },
   {
    "duration": 25,
    "start_time": "2022-05-29T17:29:33.600Z"
   },
   {
    "duration": 21,
    "start_time": "2022-05-29T17:29:33.628Z"
   },
   {
    "duration": 24,
    "start_time": "2022-05-29T17:29:33.651Z"
   },
   {
    "duration": 82,
    "start_time": "2022-05-29T17:29:33.677Z"
   },
   {
    "duration": 51,
    "start_time": "2022-05-29T17:29:36.129Z"
   },
   {
    "duration": 11,
    "start_time": "2022-05-29T17:30:12.133Z"
   },
   {
    "duration": 5,
    "start_time": "2022-05-29T17:42:23.224Z"
   },
   {
    "duration": 168,
    "start_time": "2022-05-29T17:42:23.232Z"
   },
   {
    "duration": 21,
    "start_time": "2022-05-29T17:42:23.405Z"
   },
   {
    "duration": 15,
    "start_time": "2022-05-29T17:42:23.429Z"
   },
   {
    "duration": 14,
    "start_time": "2022-05-29T17:42:23.446Z"
   },
   {
    "duration": 67,
    "start_time": "2022-05-29T17:42:23.461Z"
   },
   {
    "duration": 35,
    "start_time": "2022-05-29T17:42:23.530Z"
   },
   {
    "duration": 67,
    "start_time": "2022-05-29T17:42:23.566Z"
   },
   {
    "duration": 629,
    "start_time": "2022-05-29T17:42:23.634Z"
   },
   {
    "duration": 658,
    "start_time": "2022-05-29T17:42:28.691Z"
   },
   {
    "duration": 794,
    "start_time": "2022-05-29T17:43:02.195Z"
   },
   {
    "duration": 610,
    "start_time": "2022-05-29T17:43:38.373Z"
   },
   {
    "duration": 605,
    "start_time": "2022-05-29T17:43:48.932Z"
   },
   {
    "duration": 719,
    "start_time": "2022-05-29T17:44:00.285Z"
   },
   {
    "duration": 655,
    "start_time": "2022-05-29T17:44:28.999Z"
   },
   {
    "duration": 798,
    "start_time": "2022-05-29T17:48:07.955Z"
   },
   {
    "duration": 611,
    "start_time": "2022-05-29T17:48:25.515Z"
   },
   {
    "duration": 323,
    "start_time": "2022-05-29T17:49:31.117Z"
   },
   {
    "duration": 4,
    "start_time": "2022-05-29T17:52:50.071Z"
   },
   {
    "duration": 166,
    "start_time": "2022-05-29T17:52:50.081Z"
   },
   {
    "duration": 18,
    "start_time": "2022-05-29T17:52:50.249Z"
   },
   {
    "duration": 29,
    "start_time": "2022-05-29T17:52:50.269Z"
   },
   {
    "duration": 22,
    "start_time": "2022-05-29T17:52:50.304Z"
   },
   {
    "duration": 47,
    "start_time": "2022-05-29T17:52:50.328Z"
   },
   {
    "duration": 56,
    "start_time": "2022-05-29T17:52:50.376Z"
   },
   {
    "duration": 36,
    "start_time": "2022-05-29T17:52:50.434Z"
   },
   {
    "duration": 490,
    "start_time": "2022-05-29T17:52:50.472Z"
   },
   {
    "duration": 647,
    "start_time": "2022-05-29T17:52:50.965Z"
   },
   {
    "duration": 200,
    "start_time": "2022-05-29T17:52:51.613Z"
   },
   {
    "duration": 406,
    "start_time": "2022-05-29T17:52:51.818Z"
   },
   {
    "duration": 1002,
    "start_time": "2022-05-29T17:52:52.226Z"
   },
   {
    "duration": 14,
    "start_time": "2022-05-29T17:52:53.230Z"
   },
   {
    "duration": 12,
    "start_time": "2022-05-29T17:52:53.246Z"
   },
   {
    "duration": 15,
    "start_time": "2022-05-29T17:52:53.260Z"
   },
   {
    "duration": 62,
    "start_time": "2022-05-29T17:52:53.277Z"
   },
   {
    "duration": 37,
    "start_time": "2022-05-29T17:53:00.081Z"
   },
   {
    "duration": 4,
    "start_time": "2022-05-29T17:54:26.412Z"
   },
   {
    "duration": 168,
    "start_time": "2022-05-29T17:54:26.420Z"
   },
   {
    "duration": 20,
    "start_time": "2022-05-29T17:54:26.594Z"
   },
   {
    "duration": 14,
    "start_time": "2022-05-29T17:54:26.615Z"
   },
   {
    "duration": 15,
    "start_time": "2022-05-29T17:54:26.632Z"
   },
   {
    "duration": 80,
    "start_time": "2022-05-29T17:54:26.650Z"
   },
   {
    "duration": 31,
    "start_time": "2022-05-29T17:54:26.731Z"
   },
   {
    "duration": 61,
    "start_time": "2022-05-29T17:54:26.764Z"
   },
   {
    "duration": 388,
    "start_time": "2022-05-29T17:54:26.827Z"
   },
   {
    "duration": 899,
    "start_time": "2022-05-29T17:54:27.217Z"
   },
   {
    "duration": 206,
    "start_time": "2022-05-29T17:54:28.118Z"
   },
   {
    "duration": 318,
    "start_time": "2022-05-29T17:54:28.326Z"
   },
   {
    "duration": 140,
    "start_time": "2022-05-29T17:54:28.646Z"
   },
   {
    "duration": 25,
    "start_time": "2022-05-29T17:54:28.788Z"
   },
   {
    "duration": 17,
    "start_time": "2022-05-29T17:54:28.818Z"
   },
   {
    "duration": 16,
    "start_time": "2022-05-29T17:54:28.837Z"
   },
   {
    "duration": 60,
    "start_time": "2022-05-29T17:54:28.855Z"
   },
   {
    "duration": 24,
    "start_time": "2022-05-29T17:54:28.917Z"
   },
   {
    "duration": 67,
    "start_time": "2022-05-29T17:54:28.943Z"
   },
   {
    "duration": 343,
    "start_time": "2022-05-29T17:54:29.012Z"
   },
   {
    "duration": 730,
    "start_time": "2022-05-29T17:54:32.251Z"
   },
   {
    "duration": 651,
    "start_time": "2022-05-29T17:54:46.229Z"
   },
   {
    "duration": 399,
    "start_time": "2022-05-29T17:58:07.154Z"
   },
   {
    "duration": 370,
    "start_time": "2022-05-29T17:58:37.056Z"
   },
   {
    "duration": 617,
    "start_time": "2022-05-29T17:59:03.014Z"
   },
   {
    "duration": 6,
    "start_time": "2022-05-29T18:12:20.912Z"
   },
   {
    "duration": 169,
    "start_time": "2022-05-29T18:12:20.922Z"
   },
   {
    "duration": 23,
    "start_time": "2022-05-29T18:12:21.097Z"
   },
   {
    "duration": 15,
    "start_time": "2022-05-29T18:12:21.121Z"
   },
   {
    "duration": 15,
    "start_time": "2022-05-29T18:12:21.139Z"
   },
   {
    "duration": 77,
    "start_time": "2022-05-29T18:12:21.156Z"
   },
   {
    "duration": 45,
    "start_time": "2022-05-29T18:12:21.235Z"
   },
   {
    "duration": 54,
    "start_time": "2022-05-29T18:12:21.282Z"
   },
   {
    "duration": 368,
    "start_time": "2022-05-29T18:12:21.337Z"
   },
   {
    "duration": 681,
    "start_time": "2022-05-29T18:12:21.709Z"
   },
   {
    "duration": 236,
    "start_time": "2022-05-29T18:12:22.397Z"
   },
   {
    "duration": 334,
    "start_time": "2022-05-29T18:12:22.635Z"
   },
   {
    "duration": 169,
    "start_time": "2022-05-29T18:12:22.970Z"
   },
   {
    "duration": 23,
    "start_time": "2022-05-29T18:12:23.142Z"
   },
   {
    "duration": 36,
    "start_time": "2022-05-29T18:12:23.166Z"
   },
   {
    "duration": 18,
    "start_time": "2022-05-29T18:12:23.204Z"
   },
   {
    "duration": 41,
    "start_time": "2022-05-29T18:12:23.223Z"
   },
   {
    "duration": 50,
    "start_time": "2022-05-29T18:12:23.266Z"
   },
   {
    "duration": 34,
    "start_time": "2022-05-29T18:12:23.318Z"
   },
   {
    "duration": 469,
    "start_time": "2022-05-29T18:12:23.354Z"
   },
   {
    "duration": 685,
    "start_time": "2022-05-29T18:12:23.824Z"
   },
   {
    "duration": 229,
    "start_time": "2022-05-29T18:12:24.511Z"
   },
   {
    "duration": 386,
    "start_time": "2022-05-29T18:12:24.743Z"
   },
   {
    "duration": 647,
    "start_time": "2022-05-29T18:12:25.131Z"
   },
   {
    "duration": 4,
    "start_time": "2022-05-29T18:12:31.347Z"
   },
   {
    "duration": 17,
    "start_time": "2022-05-29T18:12:42.951Z"
   },
   {
    "duration": 12,
    "start_time": "2022-05-29T18:16:24.823Z"
   },
   {
    "duration": 2148,
    "start_time": "2022-05-29T18:16:40.951Z"
   },
   {
    "duration": 11,
    "start_time": "2022-05-29T18:17:09.455Z"
   },
   {
    "duration": 1842,
    "start_time": "2022-05-29T18:17:18.813Z"
   },
   {
    "duration": 5,
    "start_time": "2022-05-29T18:17:38.031Z"
   },
   {
    "duration": 169,
    "start_time": "2022-05-29T18:17:38.046Z"
   },
   {
    "duration": 18,
    "start_time": "2022-05-29T18:17:38.217Z"
   },
   {
    "duration": 12,
    "start_time": "2022-05-29T18:17:38.237Z"
   },
   {
    "duration": 52,
    "start_time": "2022-05-29T18:17:38.252Z"
   },
   {
    "duration": 49,
    "start_time": "2022-05-29T18:17:38.305Z"
   },
   {
    "duration": 56,
    "start_time": "2022-05-29T18:17:38.356Z"
   },
   {
    "duration": 43,
    "start_time": "2022-05-29T18:17:38.414Z"
   },
   {
    "duration": 371,
    "start_time": "2022-05-29T18:17:38.458Z"
   },
   {
    "duration": 696,
    "start_time": "2022-05-29T18:17:38.831Z"
   },
   {
    "duration": 386,
    "start_time": "2022-05-29T18:17:39.530Z"
   },
   {
    "duration": 359,
    "start_time": "2022-05-29T18:17:39.920Z"
   },
   {
    "duration": 158,
    "start_time": "2022-05-29T18:17:40.281Z"
   },
   {
    "duration": 15,
    "start_time": "2022-05-29T18:17:40.441Z"
   },
   {
    "duration": 13,
    "start_time": "2022-05-29T18:17:40.457Z"
   },
   {
    "duration": 22,
    "start_time": "2022-05-29T18:17:40.495Z"
   },
   {
    "duration": 46,
    "start_time": "2022-05-29T18:17:40.519Z"
   },
   {
    "duration": 56,
    "start_time": "2022-05-29T18:17:40.566Z"
   },
   {
    "duration": 37,
    "start_time": "2022-05-29T18:17:40.623Z"
   },
   {
    "duration": 379,
    "start_time": "2022-05-29T18:17:40.662Z"
   },
   {
    "duration": 738,
    "start_time": "2022-05-29T18:17:41.044Z"
   },
   {
    "duration": 252,
    "start_time": "2022-05-29T18:17:41.785Z"
   },
   {
    "duration": 522,
    "start_time": "2022-05-29T18:17:42.039Z"
   },
   {
    "duration": 155,
    "start_time": "2022-05-29T18:17:42.563Z"
   },
   {
    "duration": 8,
    "start_time": "2022-05-29T18:17:49.323Z"
   },
   {
    "duration": 1719,
    "start_time": "2022-05-29T18:17:52.573Z"
   },
   {
    "duration": 12,
    "start_time": "2022-05-29T18:20:43.201Z"
   },
   {
    "duration": 1779,
    "start_time": "2022-05-29T18:20:45.150Z"
   },
   {
    "duration": 10,
    "start_time": "2022-05-29T18:21:52.407Z"
   },
   {
    "duration": 1806,
    "start_time": "2022-05-29T18:21:54.269Z"
   },
   {
    "duration": 7,
    "start_time": "2022-05-29T18:42:31.193Z"
   },
   {
    "duration": 154,
    "start_time": "2022-05-29T18:42:31.209Z"
   },
   {
    "duration": 49,
    "start_time": "2022-05-29T18:42:31.366Z"
   },
   {
    "duration": 11,
    "start_time": "2022-05-29T18:42:31.418Z"
   },
   {
    "duration": 25,
    "start_time": "2022-05-29T18:42:31.432Z"
   },
   {
    "duration": 85,
    "start_time": "2022-05-29T18:42:31.460Z"
   },
   {
    "duration": 53,
    "start_time": "2022-05-29T18:42:31.547Z"
   },
   {
    "duration": 39,
    "start_time": "2022-05-29T18:42:31.601Z"
   },
   {
    "duration": 458,
    "start_time": "2022-05-29T18:42:31.642Z"
   },
   {
    "duration": 916,
    "start_time": "2022-05-29T18:42:32.102Z"
   },
   {
    "duration": 256,
    "start_time": "2022-05-29T18:42:33.021Z"
   },
   {
    "duration": 353,
    "start_time": "2022-05-29T18:42:33.279Z"
   },
   {
    "duration": 146,
    "start_time": "2022-05-29T18:42:33.634Z"
   },
   {
    "duration": 33,
    "start_time": "2022-05-29T18:42:33.782Z"
   },
   {
    "duration": 13,
    "start_time": "2022-05-29T18:42:33.818Z"
   },
   {
    "duration": 21,
    "start_time": "2022-05-29T18:42:33.833Z"
   },
   {
    "duration": 78,
    "start_time": "2022-05-29T18:42:33.855Z"
   },
   {
    "duration": 33,
    "start_time": "2022-05-29T18:42:33.935Z"
   },
   {
    "duration": 60,
    "start_time": "2022-05-29T18:42:33.970Z"
   },
   {
    "duration": 594,
    "start_time": "2022-05-29T18:42:34.032Z"
   },
   {
    "duration": 706,
    "start_time": "2022-05-29T18:42:34.628Z"
   },
   {
    "duration": 272,
    "start_time": "2022-05-29T18:42:35.336Z"
   },
   {
    "duration": 641,
    "start_time": "2022-05-29T18:42:35.610Z"
   },
   {
    "duration": 196,
    "start_time": "2022-05-29T18:42:36.255Z"
   },
   {
    "duration": 12,
    "start_time": "2022-05-29T18:42:36.453Z"
   },
   {
    "duration": 1948,
    "start_time": "2022-05-29T18:42:36.467Z"
   },
   {
    "duration": 4,
    "start_time": "2022-05-29T19:03:48.573Z"
   },
   {
    "duration": 201,
    "start_time": "2022-05-29T19:03:48.582Z"
   },
   {
    "duration": 37,
    "start_time": "2022-05-29T19:03:48.785Z"
   },
   {
    "duration": 32,
    "start_time": "2022-05-29T19:03:48.824Z"
   },
   {
    "duration": 22,
    "start_time": "2022-05-29T19:03:48.859Z"
   },
   {
    "duration": 75,
    "start_time": "2022-05-29T19:03:48.883Z"
   },
   {
    "duration": 60,
    "start_time": "2022-05-29T19:03:48.960Z"
   },
   {
    "duration": 44,
    "start_time": "2022-05-29T19:03:49.025Z"
   },
   {
    "duration": 611,
    "start_time": "2022-05-29T19:03:49.071Z"
   },
   {
    "duration": 785,
    "start_time": "2022-05-29T19:03:49.684Z"
   },
   {
    "duration": 227,
    "start_time": "2022-05-29T19:03:50.473Z"
   },
   {
    "duration": 429,
    "start_time": "2022-05-29T19:03:50.703Z"
   },
   {
    "duration": 183,
    "start_time": "2022-05-29T19:03:51.134Z"
   },
   {
    "duration": 24,
    "start_time": "2022-05-29T19:03:51.319Z"
   },
   {
    "duration": 20,
    "start_time": "2022-05-29T19:03:51.347Z"
   },
   {
    "duration": 42,
    "start_time": "2022-05-29T19:03:51.370Z"
   },
   {
    "duration": 78,
    "start_time": "2022-05-29T19:03:51.415Z"
   },
   {
    "duration": 37,
    "start_time": "2022-05-29T19:03:51.507Z"
   },
   {
    "duration": 37,
    "start_time": "2022-05-29T19:03:51.546Z"
   },
   {
    "duration": 426,
    "start_time": "2022-05-29T19:03:51.585Z"
   },
   {
    "duration": 907,
    "start_time": "2022-05-29T19:03:52.013Z"
   },
   {
    "duration": 260,
    "start_time": "2022-05-29T19:03:52.922Z"
   },
   {
    "duration": 418,
    "start_time": "2022-05-29T19:03:53.184Z"
   },
   {
    "duration": 163,
    "start_time": "2022-05-29T19:03:53.603Z"
   },
   {
    "duration": 13,
    "start_time": "2022-05-29T19:03:53.769Z"
   },
   {
    "duration": 2006,
    "start_time": "2022-05-29T19:03:53.794Z"
   },
   {
    "duration": 34,
    "start_time": "2022-05-29T19:03:55.802Z"
   },
   {
    "duration": 6,
    "start_time": "2022-05-29T19:03:55.838Z"
   },
   {
    "duration": 130,
    "start_time": "2022-05-29T19:03:59.032Z"
   },
   {
    "duration": 4,
    "start_time": "2022-05-29T19:05:18.664Z"
   },
   {
    "duration": 3,
    "start_time": "2022-05-29T19:05:33.743Z"
   },
   {
    "duration": 170,
    "start_time": "2022-05-29T19:05:33.751Z"
   },
   {
    "duration": 17,
    "start_time": "2022-05-29T19:05:33.922Z"
   },
   {
    "duration": 13,
    "start_time": "2022-05-29T19:05:33.941Z"
   },
   {
    "duration": 41,
    "start_time": "2022-05-29T19:05:33.957Z"
   },
   {
    "duration": 58,
    "start_time": "2022-05-29T19:05:34.000Z"
   },
   {
    "duration": 56,
    "start_time": "2022-05-29T19:05:34.061Z"
   },
   {
    "duration": 37,
    "start_time": "2022-05-29T19:05:34.118Z"
   },
   {
    "duration": 418,
    "start_time": "2022-05-29T19:05:34.157Z"
   },
   {
    "duration": 692,
    "start_time": "2022-05-29T19:05:34.576Z"
   },
   {
    "duration": 427,
    "start_time": "2022-05-29T19:05:35.271Z"
   },
   {
    "duration": 370,
    "start_time": "2022-05-29T19:05:35.700Z"
   },
   {
    "duration": 165,
    "start_time": "2022-05-29T19:05:36.072Z"
   },
   {
    "duration": 18,
    "start_time": "2022-05-29T19:05:36.239Z"
   },
   {
    "duration": 11,
    "start_time": "2022-05-29T19:05:36.258Z"
   },
   {
    "duration": 37,
    "start_time": "2022-05-29T19:05:36.271Z"
   },
   {
    "duration": 61,
    "start_time": "2022-05-29T19:05:36.310Z"
   },
   {
    "duration": 26,
    "start_time": "2022-05-29T19:05:36.372Z"
   },
   {
    "duration": 43,
    "start_time": "2022-05-29T19:05:36.402Z"
   },
   {
    "duration": 395,
    "start_time": "2022-05-29T19:05:36.446Z"
   },
   {
    "duration": 820,
    "start_time": "2022-05-29T19:05:36.843Z"
   },
   {
    "duration": 260,
    "start_time": "2022-05-29T19:05:37.666Z"
   },
   {
    "duration": 540,
    "start_time": "2022-05-29T19:05:37.931Z"
   },
   {
    "duration": 179,
    "start_time": "2022-05-29T19:05:38.473Z"
   },
   {
    "duration": 7,
    "start_time": "2022-05-29T19:05:38.654Z"
   },
   {
    "duration": 1824,
    "start_time": "2022-05-29T19:05:38.663Z"
   },
   {
    "duration": 27,
    "start_time": "2022-05-29T19:05:40.494Z"
   },
   {
    "duration": 6,
    "start_time": "2022-05-29T19:05:40.528Z"
   },
   {
    "duration": 9,
    "start_time": "2022-05-29T19:05:43.678Z"
   },
   {
    "duration": 15,
    "start_time": "2022-05-29T19:06:58.012Z"
   },
   {
    "duration": 10,
    "start_time": "2022-05-29T19:09:44.823Z"
   },
   {
    "duration": 14,
    "start_time": "2022-05-29T19:10:03.453Z"
   },
   {
    "duration": 19,
    "start_time": "2022-05-29T19:10:57.464Z"
   },
   {
    "duration": 6,
    "start_time": "2022-05-29T19:11:06.723Z"
   },
   {
    "duration": 186,
    "start_time": "2022-05-29T19:11:06.731Z"
   },
   {
    "duration": 25,
    "start_time": "2022-05-29T19:11:06.919Z"
   },
   {
    "duration": 12,
    "start_time": "2022-05-29T19:11:06.946Z"
   },
   {
    "duration": 45,
    "start_time": "2022-05-29T19:11:06.960Z"
   },
   {
    "duration": 65,
    "start_time": "2022-05-29T19:11:07.008Z"
   },
   {
    "duration": 50,
    "start_time": "2022-05-29T19:11:07.075Z"
   },
   {
    "duration": 37,
    "start_time": "2022-05-29T19:11:07.127Z"
   },
   {
    "duration": 477,
    "start_time": "2022-05-29T19:11:07.166Z"
   },
   {
    "duration": 898,
    "start_time": "2022-05-29T19:11:07.646Z"
   },
   {
    "duration": 229,
    "start_time": "2022-05-29T19:11:08.546Z"
   },
   {
    "duration": 362,
    "start_time": "2022-05-29T19:11:08.777Z"
   },
   {
    "duration": 164,
    "start_time": "2022-05-29T19:11:09.141Z"
   },
   {
    "duration": 26,
    "start_time": "2022-05-29T19:11:09.312Z"
   },
   {
    "duration": 10,
    "start_time": "2022-05-29T19:11:09.339Z"
   },
   {
    "duration": 19,
    "start_time": "2022-05-29T19:11:09.351Z"
   },
   {
    "duration": 46,
    "start_time": "2022-05-29T19:11:09.372Z"
   },
   {
    "duration": 31,
    "start_time": "2022-05-29T19:11:09.419Z"
   },
   {
    "duration": 46,
    "start_time": "2022-05-29T19:11:09.452Z"
   },
   {
    "duration": 391,
    "start_time": "2022-05-29T19:11:09.499Z"
   },
   {
    "duration": 922,
    "start_time": "2022-05-29T19:11:09.894Z"
   },
   {
    "duration": 219,
    "start_time": "2022-05-29T19:11:10.818Z"
   },
   {
    "duration": 404,
    "start_time": "2022-05-29T19:11:11.039Z"
   },
   {
    "duration": 189,
    "start_time": "2022-05-29T19:11:11.446Z"
   },
   {
    "duration": 9,
    "start_time": "2022-05-29T19:11:11.637Z"
   },
   {
    "duration": 2713,
    "start_time": "2022-05-29T19:11:11.648Z"
   },
   {
    "duration": 16,
    "start_time": "2022-05-29T19:11:14.363Z"
   },
   {
    "duration": 30,
    "start_time": "2022-05-29T19:11:14.381Z"
   },
   {
    "duration": 38,
    "start_time": "2022-05-29T19:11:14.417Z"
   },
   {
    "duration": 13,
    "start_time": "2022-05-29T19:11:14.456Z"
   },
   {
    "duration": 5,
    "start_time": "2022-05-29T19:11:18.914Z"
   },
   {
    "duration": 4,
    "start_time": "2022-05-29T19:11:19.554Z"
   },
   {
    "duration": 5,
    "start_time": "2022-05-29T19:11:20.256Z"
   },
   {
    "duration": 4,
    "start_time": "2022-05-29T19:11:22.381Z"
   },
   {
    "duration": 246,
    "start_time": "2022-05-29T19:11:26.457Z"
   },
   {
    "duration": 3,
    "start_time": "2022-05-29T19:11:33.776Z"
   },
   {
    "duration": 16,
    "start_time": "2022-05-29T19:11:37.680Z"
   },
   {
    "duration": 4,
    "start_time": "2022-05-29T19:12:06.456Z"
   },
   {
    "duration": 174,
    "start_time": "2022-05-29T19:12:06.464Z"
   },
   {
    "duration": 16,
    "start_time": "2022-05-29T19:12:06.641Z"
   },
   {
    "duration": 13,
    "start_time": "2022-05-29T19:12:06.659Z"
   },
   {
    "duration": 35,
    "start_time": "2022-05-29T19:12:06.674Z"
   },
   {
    "duration": 69,
    "start_time": "2022-05-29T19:12:06.710Z"
   },
   {
    "duration": 66,
    "start_time": "2022-05-29T19:12:06.781Z"
   },
   {
    "duration": 38,
    "start_time": "2022-05-29T19:12:06.848Z"
   },
   {
    "duration": 463,
    "start_time": "2022-05-29T19:12:06.888Z"
   },
   {
    "duration": 772,
    "start_time": "2022-05-29T19:12:07.353Z"
   },
   {
    "duration": 224,
    "start_time": "2022-05-29T19:12:08.128Z"
   },
   {
    "duration": 359,
    "start_time": "2022-05-29T19:12:08.354Z"
   },
   {
    "duration": 173,
    "start_time": "2022-05-29T19:12:08.715Z"
   },
   {
    "duration": 23,
    "start_time": "2022-05-29T19:12:08.890Z"
   },
   {
    "duration": 44,
    "start_time": "2022-05-29T19:12:08.916Z"
   },
   {
    "duration": 17,
    "start_time": "2022-05-29T19:12:08.961Z"
   },
   {
    "duration": 68,
    "start_time": "2022-05-29T19:12:08.980Z"
   },
   {
    "duration": 25,
    "start_time": "2022-05-29T19:12:09.049Z"
   },
   {
    "duration": 59,
    "start_time": "2022-05-29T19:12:09.076Z"
   },
   {
    "duration": 625,
    "start_time": "2022-05-29T19:12:09.136Z"
   },
   {
    "duration": 780,
    "start_time": "2022-05-29T19:12:09.762Z"
   },
   {
    "duration": 208,
    "start_time": "2022-05-29T19:12:10.543Z"
   },
   {
    "duration": 378,
    "start_time": "2022-05-29T19:12:10.753Z"
   },
   {
    "duration": 153,
    "start_time": "2022-05-29T19:12:11.134Z"
   },
   {
    "duration": 19,
    "start_time": "2022-05-29T19:12:11.289Z"
   },
   {
    "duration": 2037,
    "start_time": "2022-05-29T19:12:11.310Z"
   },
   {
    "duration": 17,
    "start_time": "2022-05-29T19:12:13.348Z"
   },
   {
    "duration": 5,
    "start_time": "2022-05-29T19:12:13.367Z"
   },
   {
    "duration": 10,
    "start_time": "2022-05-29T19:12:16.731Z"
   },
   {
    "duration": 16,
    "start_time": "2022-05-29T19:12:20.780Z"
   },
   {
    "duration": 1373,
    "start_time": "2022-05-30T16:11:55.916Z"
   },
   {
    "duration": 468,
    "start_time": "2022-05-30T16:11:57.291Z"
   },
   {
    "duration": 14,
    "start_time": "2022-05-30T16:11:57.760Z"
   },
   {
    "duration": 9,
    "start_time": "2022-05-30T16:11:57.776Z"
   },
   {
    "duration": 31,
    "start_time": "2022-05-30T16:11:57.787Z"
   },
   {
    "duration": 46,
    "start_time": "2022-05-30T16:11:57.820Z"
   },
   {
    "duration": 49,
    "start_time": "2022-05-30T16:11:57.868Z"
   },
   {
    "duration": 33,
    "start_time": "2022-05-30T16:11:57.918Z"
   },
   {
    "duration": 367,
    "start_time": "2022-05-30T16:11:57.953Z"
   },
   {
    "duration": 630,
    "start_time": "2022-05-30T16:11:58.324Z"
   },
   {
    "duration": 201,
    "start_time": "2022-05-30T16:11:58.956Z"
   },
   {
    "duration": 318,
    "start_time": "2022-05-30T16:11:59.159Z"
   },
   {
    "duration": 236,
    "start_time": "2022-05-30T16:11:59.479Z"
   },
   {
    "duration": 18,
    "start_time": "2022-05-30T16:11:59.717Z"
   },
   {
    "duration": 16,
    "start_time": "2022-05-30T16:11:59.737Z"
   },
   {
    "duration": 29,
    "start_time": "2022-05-30T16:11:59.754Z"
   },
   {
    "duration": 51,
    "start_time": "2022-05-30T16:11:59.784Z"
   },
   {
    "duration": 24,
    "start_time": "2022-05-30T16:11:59.836Z"
   },
   {
    "duration": 56,
    "start_time": "2022-05-30T16:11:59.862Z"
   },
   {
    "duration": 369,
    "start_time": "2022-05-30T16:11:59.919Z"
   },
   {
    "duration": 756,
    "start_time": "2022-05-30T16:12:00.290Z"
   },
   {
    "duration": 192,
    "start_time": "2022-05-30T16:12:01.047Z"
   },
   {
    "duration": 362,
    "start_time": "2022-05-30T16:12:01.241Z"
   },
   {
    "duration": 227,
    "start_time": "2022-05-30T16:12:01.609Z"
   },
   {
    "duration": 12,
    "start_time": "2022-05-30T16:12:01.838Z"
   },
   {
    "duration": 1743,
    "start_time": "2022-05-30T16:12:01.852Z"
   },
   {
    "duration": 17,
    "start_time": "2022-05-30T16:12:03.596Z"
   },
   {
    "duration": 6,
    "start_time": "2022-05-30T16:12:05.716Z"
   },
   {
    "duration": 9,
    "start_time": "2022-05-30T16:12:08.060Z"
   },
   {
    "duration": 16,
    "start_time": "2022-05-30T16:12:17.306Z"
   },
   {
    "duration": 170,
    "start_time": "2022-05-30T16:16:06.435Z"
   },
   {
    "duration": 16,
    "start_time": "2022-05-30T16:16:51.278Z"
   },
   {
    "duration": 4,
    "start_time": "2022-05-30T16:17:05.272Z"
   },
   {
    "duration": 5,
    "start_time": "2022-05-30T16:17:05.983Z"
   },
   {
    "duration": 5,
    "start_time": "2022-05-30T16:17:06.650Z"
   },
   {
    "duration": 4,
    "start_time": "2022-05-30T16:17:07.363Z"
   },
   {
    "duration": 10,
    "start_time": "2022-05-30T16:17:16.467Z"
   },
   {
    "duration": 6,
    "start_time": "2022-05-30T16:17:40.721Z"
   },
   {
    "duration": 196,
    "start_time": "2022-05-30T16:17:40.732Z"
   },
   {
    "duration": 21,
    "start_time": "2022-05-30T16:17:40.931Z"
   },
   {
    "duration": 11,
    "start_time": "2022-05-30T16:17:40.954Z"
   },
   {
    "duration": 49,
    "start_time": "2022-05-30T16:17:40.969Z"
   },
   {
    "duration": 59,
    "start_time": "2022-05-30T16:17:41.020Z"
   },
   {
    "duration": 43,
    "start_time": "2022-05-30T16:17:41.080Z"
   },
   {
    "duration": 35,
    "start_time": "2022-05-30T16:17:41.124Z"
   },
   {
    "duration": 375,
    "start_time": "2022-05-30T16:17:41.161Z"
   },
   {
    "duration": 762,
    "start_time": "2022-05-30T16:17:41.537Z"
   },
   {
    "duration": 213,
    "start_time": "2022-05-30T16:17:42.302Z"
   },
   {
    "duration": 327,
    "start_time": "2022-05-30T16:17:42.518Z"
   },
   {
    "duration": 163,
    "start_time": "2022-05-30T16:17:42.847Z"
   },
   {
    "duration": 25,
    "start_time": "2022-05-30T16:17:43.015Z"
   },
   {
    "duration": 15,
    "start_time": "2022-05-30T16:17:43.042Z"
   },
   {
    "duration": 25,
    "start_time": "2022-05-30T16:17:43.060Z"
   },
   {
    "duration": 58,
    "start_time": "2022-05-30T16:17:43.087Z"
   },
   {
    "duration": 26,
    "start_time": "2022-05-30T16:17:43.147Z"
   },
   {
    "duration": 51,
    "start_time": "2022-05-30T16:17:43.175Z"
   },
   {
    "duration": 360,
    "start_time": "2022-05-30T16:17:43.228Z"
   },
   {
    "duration": 683,
    "start_time": "2022-05-30T16:17:43.589Z"
   },
   {
    "duration": 202,
    "start_time": "2022-05-30T16:17:44.273Z"
   },
   {
    "duration": 453,
    "start_time": "2022-05-30T16:17:44.476Z"
   },
   {
    "duration": 149,
    "start_time": "2022-05-30T16:17:44.931Z"
   },
   {
    "duration": 23,
    "start_time": "2022-05-30T16:17:45.082Z"
   },
   {
    "duration": 1584,
    "start_time": "2022-05-30T16:17:45.110Z"
   },
   {
    "duration": 26,
    "start_time": "2022-05-30T16:17:46.695Z"
   },
   {
    "duration": 8,
    "start_time": "2022-05-30T16:17:46.723Z"
   },
   {
    "duration": 12,
    "start_time": "2022-05-30T16:17:50.601Z"
   },
   {
    "duration": 31,
    "start_time": "2022-05-30T16:17:57.180Z"
   },
   {
    "duration": 9,
    "start_time": "2022-05-30T16:17:58.284Z"
   },
   {
    "duration": 146,
    "start_time": "2022-05-30T16:18:32.475Z"
   },
   {
    "duration": 2,
    "start_time": "2022-05-30T16:18:50.752Z"
   },
   {
    "duration": 22,
    "start_time": "2022-05-30T16:20:18.546Z"
   },
   {
    "duration": 8,
    "start_time": "2022-05-30T16:20:19.145Z"
   },
   {
    "duration": 5,
    "start_time": "2022-05-30T18:55:38.484Z"
   },
   {
    "duration": 146,
    "start_time": "2022-05-30T18:55:38.491Z"
   },
   {
    "duration": 13,
    "start_time": "2022-05-30T18:55:38.639Z"
   },
   {
    "duration": 9,
    "start_time": "2022-05-30T18:55:38.653Z"
   },
   {
    "duration": 49,
    "start_time": "2022-05-30T18:55:38.664Z"
   },
   {
    "duration": 66,
    "start_time": "2022-05-30T18:55:38.718Z"
   },
   {
    "duration": 54,
    "start_time": "2022-05-30T18:55:38.786Z"
   },
   {
    "duration": 164,
    "start_time": "2022-05-30T18:55:38.841Z"
   },
   {
    "duration": 350,
    "start_time": "2022-05-30T18:55:39.007Z"
   },
   {
    "duration": 597,
    "start_time": "2022-05-30T18:55:39.359Z"
   },
   {
    "duration": 202,
    "start_time": "2022-05-30T18:55:39.959Z"
   },
   {
    "duration": 301,
    "start_time": "2022-05-30T18:55:40.162Z"
   },
   {
    "duration": 132,
    "start_time": "2022-05-30T18:55:40.464Z"
   },
   {
    "duration": 23,
    "start_time": "2022-05-30T18:55:40.597Z"
   },
   {
    "duration": 10,
    "start_time": "2022-05-30T18:55:40.621Z"
   },
   {
    "duration": 13,
    "start_time": "2022-05-30T18:55:40.632Z"
   },
   {
    "duration": 58,
    "start_time": "2022-05-30T18:55:40.646Z"
   },
   {
    "duration": 24,
    "start_time": "2022-05-30T18:55:40.710Z"
   },
   {
    "duration": 31,
    "start_time": "2022-05-30T18:55:40.736Z"
   },
   {
    "duration": 341,
    "start_time": "2022-05-30T18:55:40.769Z"
   },
   {
    "duration": 702,
    "start_time": "2022-05-30T18:55:41.115Z"
   },
   {
    "duration": 234,
    "start_time": "2022-05-30T18:55:41.819Z"
   },
   {
    "duration": 324,
    "start_time": "2022-05-30T18:55:42.055Z"
   },
   {
    "duration": 147,
    "start_time": "2022-05-30T18:55:42.380Z"
   },
   {
    "duration": 7,
    "start_time": "2022-05-30T18:55:42.528Z"
   },
   {
    "duration": 1657,
    "start_time": "2022-05-30T18:55:42.536Z"
   },
   {
    "duration": 4,
    "start_time": "2022-05-30T18:55:49.612Z"
   },
   {
    "duration": 29,
    "start_time": "2022-05-30T18:56:00.828Z"
   },
   {
    "duration": 16,
    "start_time": "2022-05-30T18:56:28.726Z"
   },
   {
    "duration": 20,
    "start_time": "2022-05-30T18:56:52.598Z"
   },
   {
    "duration": 5,
    "start_time": "2022-05-30T18:56:55.125Z"
   },
   {
    "duration": 16,
    "start_time": "2022-05-30T18:57:00.923Z"
   },
   {
    "duration": 5,
    "start_time": "2022-05-30T18:57:05.249Z"
   },
   {
    "duration": 4,
    "start_time": "2022-05-30T18:57:05.687Z"
   },
   {
    "duration": 4,
    "start_time": "2022-05-30T18:57:06.130Z"
   },
   {
    "duration": 4,
    "start_time": "2022-05-30T18:57:07.628Z"
   },
   {
    "duration": 23,
    "start_time": "2022-05-30T18:57:29.986Z"
   },
   {
    "duration": 5,
    "start_time": "2022-05-30T18:57:33.168Z"
   },
   {
    "duration": 19,
    "start_time": "2022-05-30T18:57:33.658Z"
   },
   {
    "duration": 29,
    "start_time": "2022-05-30T19:17:50.269Z"
   },
   {
    "duration": 24,
    "start_time": "2022-05-30T19:18:40.678Z"
   },
   {
    "duration": 6,
    "start_time": "2022-05-30T19:31:58.424Z"
   },
   {
    "duration": 89,
    "start_time": "2022-05-30T19:32:17.111Z"
   },
   {
    "duration": 9,
    "start_time": "2022-05-30T19:32:42.828Z"
   },
   {
    "duration": 109,
    "start_time": "2022-05-30T19:32:43.892Z"
   },
   {
    "duration": 6,
    "start_time": "2022-05-30T19:32:57.855Z"
   },
   {
    "duration": 40,
    "start_time": "2022-05-30T19:32:58.375Z"
   },
   {
    "duration": 4,
    "start_time": "2022-05-30T19:39:44.428Z"
   },
   {
    "duration": 151,
    "start_time": "2022-05-30T19:39:44.435Z"
   },
   {
    "duration": 29,
    "start_time": "2022-05-30T19:39:44.589Z"
   },
   {
    "duration": 14,
    "start_time": "2022-05-30T19:39:44.620Z"
   },
   {
    "duration": 22,
    "start_time": "2022-05-30T19:39:44.637Z"
   },
   {
    "duration": 91,
    "start_time": "2022-05-30T19:39:44.661Z"
   },
   {
    "duration": 32,
    "start_time": "2022-05-30T19:39:44.754Z"
   },
   {
    "duration": 33,
    "start_time": "2022-05-30T19:39:44.798Z"
   },
   {
    "duration": 331,
    "start_time": "2022-05-30T19:39:44.833Z"
   },
   {
    "duration": 570,
    "start_time": "2022-05-30T19:39:45.166Z"
   },
   {
    "duration": 301,
    "start_time": "2022-05-30T19:39:45.738Z"
   },
   {
    "duration": 312,
    "start_time": "2022-05-30T19:39:46.041Z"
   },
   {
    "duration": 139,
    "start_time": "2022-05-30T19:39:46.355Z"
   },
   {
    "duration": 15,
    "start_time": "2022-05-30T19:39:46.495Z"
   },
   {
    "duration": 10,
    "start_time": "2022-05-30T19:39:46.511Z"
   },
   {
    "duration": 19,
    "start_time": "2022-05-30T19:39:46.523Z"
   },
   {
    "duration": 66,
    "start_time": "2022-05-30T19:39:46.544Z"
   },
   {
    "duration": 36,
    "start_time": "2022-05-30T19:39:46.615Z"
   },
   {
    "duration": 47,
    "start_time": "2022-05-30T19:39:46.653Z"
   },
   {
    "duration": 330,
    "start_time": "2022-05-30T19:39:46.702Z"
   },
   {
    "duration": 599,
    "start_time": "2022-05-30T19:39:47.034Z"
   },
   {
    "duration": 174,
    "start_time": "2022-05-30T19:39:47.634Z"
   },
   {
    "duration": 428,
    "start_time": "2022-05-30T19:39:47.810Z"
   },
   {
    "duration": 124,
    "start_time": "2022-05-30T19:39:48.239Z"
   },
   {
    "duration": 7,
    "start_time": "2022-05-30T19:39:48.364Z"
   },
   {
    "duration": 1452,
    "start_time": "2022-05-30T19:39:48.373Z"
   },
   {
    "duration": 4,
    "start_time": "2022-05-30T19:39:49.827Z"
   },
   {
    "duration": 7,
    "start_time": "2022-05-30T19:39:57.158Z"
   },
   {
    "duration": 118,
    "start_time": "2022-05-30T19:41:05.689Z"
   },
   {
    "duration": 10,
    "start_time": "2022-05-30T19:42:04.167Z"
   },
   {
    "duration": 85,
    "start_time": "2022-05-30T19:42:06.822Z"
   },
   {
    "duration": 8,
    "start_time": "2022-05-30T19:43:33.590Z"
   },
   {
    "duration": 10,
    "start_time": "2022-05-30T19:44:22.715Z"
   },
   {
    "duration": 6,
    "start_time": "2022-05-30T19:45:23.432Z"
   },
   {
    "duration": 57,
    "start_time": "2022-05-30T19:45:26.545Z"
   },
   {
    "duration": 12,
    "start_time": "2022-05-30T19:46:25.078Z"
   },
   {
    "duration": 7,
    "start_time": "2022-05-30T19:47:35.063Z"
   },
   {
    "duration": 7,
    "start_time": "2022-05-30T19:47:56.027Z"
   },
   {
    "duration": 246,
    "start_time": "2022-05-30T19:47:58.859Z"
   },
   {
    "duration": 10,
    "start_time": "2022-05-30T19:48:02.683Z"
   },
   {
    "duration": 5,
    "start_time": "2022-05-30T19:48:38.719Z"
   },
   {
    "duration": 150,
    "start_time": "2022-05-30T19:48:38.728Z"
   },
   {
    "duration": 26,
    "start_time": "2022-05-30T19:48:38.880Z"
   },
   {
    "duration": 22,
    "start_time": "2022-05-30T19:48:38.908Z"
   },
   {
    "duration": 33,
    "start_time": "2022-05-30T19:48:38.932Z"
   },
   {
    "duration": 55,
    "start_time": "2022-05-30T19:48:38.967Z"
   },
   {
    "duration": 36,
    "start_time": "2022-05-30T19:48:39.024Z"
   },
   {
    "duration": 45,
    "start_time": "2022-05-30T19:48:39.062Z"
   },
   {
    "duration": 329,
    "start_time": "2022-05-30T19:48:39.109Z"
   },
   {
    "duration": 716,
    "start_time": "2022-05-30T19:48:39.440Z"
   },
   {
    "duration": 189,
    "start_time": "2022-05-30T19:48:40.159Z"
   },
   {
    "duration": 290,
    "start_time": "2022-05-30T19:48:40.350Z"
   },
   {
    "duration": 126,
    "start_time": "2022-05-30T19:48:40.641Z"
   },
   {
    "duration": 12,
    "start_time": "2022-05-30T19:48:40.769Z"
   },
   {
    "duration": 19,
    "start_time": "2022-05-30T19:48:40.783Z"
   },
   {
    "duration": 21,
    "start_time": "2022-05-30T19:48:40.803Z"
   },
   {
    "duration": 44,
    "start_time": "2022-05-30T19:48:40.826Z"
   },
   {
    "duration": 23,
    "start_time": "2022-05-30T19:48:40.871Z"
   },
   {
    "duration": 35,
    "start_time": "2022-05-30T19:48:40.896Z"
   },
   {
    "duration": 329,
    "start_time": "2022-05-30T19:48:40.932Z"
   },
   {
    "duration": 772,
    "start_time": "2022-05-30T19:48:41.263Z"
   },
   {
    "duration": 174,
    "start_time": "2022-05-30T19:48:42.036Z"
   },
   {
    "duration": 305,
    "start_time": "2022-05-30T19:48:42.212Z"
   },
   {
    "duration": 136,
    "start_time": "2022-05-30T19:48:42.518Z"
   },
   {
    "duration": 7,
    "start_time": "2022-05-30T19:48:42.656Z"
   },
   {
    "duration": 1618,
    "start_time": "2022-05-30T19:48:42.665Z"
   },
   {
    "duration": 3,
    "start_time": "2022-05-30T19:48:44.284Z"
   },
   {
    "duration": 20,
    "start_time": "2022-05-30T19:48:44.289Z"
   },
   {
    "duration": 196,
    "start_time": "2022-05-30T19:48:44.312Z"
   },
   {
    "duration": 8,
    "start_time": "2022-05-30T19:54:22.268Z"
   },
   {
    "duration": 6,
    "start_time": "2022-05-30T19:55:14.322Z"
   },
   {
    "duration": 232,
    "start_time": "2022-05-30T19:55:19.076Z"
   },
   {
    "duration": 3,
    "start_time": "2022-05-30T19:55:25.874Z"
   },
   {
    "duration": 30,
    "start_time": "2022-05-30T19:58:59.529Z"
   },
   {
    "duration": 6,
    "start_time": "2022-05-30T19:59:05.332Z"
   },
   {
    "duration": 178,
    "start_time": "2022-05-30T19:59:10.925Z"
   },
   {
    "duration": 3,
    "start_time": "2022-05-30T19:59:18.815Z"
   },
   {
    "duration": 5,
    "start_time": "2022-05-30T19:59:34.651Z"
   },
   {
    "duration": 1097,
    "start_time": "2022-05-30T19:59:57.257Z"
   },
   {
    "duration": 136,
    "start_time": "2022-05-30T19:59:58.356Z"
   },
   {
    "duration": 17,
    "start_time": "2022-05-30T19:59:58.494Z"
   },
   {
    "duration": 13,
    "start_time": "2022-05-30T19:59:58.513Z"
   },
   {
    "duration": 14,
    "start_time": "2022-05-30T19:59:58.527Z"
   },
   {
    "duration": 64,
    "start_time": "2022-05-30T19:59:58.542Z"
   },
   {
    "duration": 33,
    "start_time": "2022-05-30T19:59:58.607Z"
   },
   {
    "duration": 37,
    "start_time": "2022-05-30T19:59:58.642Z"
   },
   {
    "duration": 420,
    "start_time": "2022-05-30T19:59:58.681Z"
   },
   {
    "duration": 584,
    "start_time": "2022-05-30T19:59:59.103Z"
   },
   {
    "duration": 178,
    "start_time": "2022-05-30T19:59:59.689Z"
   },
   {
    "duration": 309,
    "start_time": "2022-05-30T19:59:59.869Z"
   },
   {
    "duration": 148,
    "start_time": "2022-05-30T20:00:00.180Z"
   },
   {
    "duration": 13,
    "start_time": "2022-05-30T20:00:00.330Z"
   },
   {
    "duration": 114,
    "start_time": "2022-05-30T20:00:00.345Z"
   },
   {
    "duration": 17,
    "start_time": "2022-05-30T20:00:00.461Z"
   },
   {
    "duration": 46,
    "start_time": "2022-05-30T20:00:00.479Z"
   },
   {
    "duration": 27,
    "start_time": "2022-05-30T20:00:00.526Z"
   },
   {
    "duration": 49,
    "start_time": "2022-05-30T20:00:00.555Z"
   },
   {
    "duration": 338,
    "start_time": "2022-05-30T20:00:00.606Z"
   },
   {
    "duration": 724,
    "start_time": "2022-05-30T20:00:00.945Z"
   },
   {
    "duration": 200,
    "start_time": "2022-05-30T20:00:01.671Z"
   },
   {
    "duration": 346,
    "start_time": "2022-05-30T20:00:01.873Z"
   },
   {
    "duration": 131,
    "start_time": "2022-05-30T20:00:02.221Z"
   },
   {
    "duration": 9,
    "start_time": "2022-05-30T20:00:02.354Z"
   },
   {
    "duration": 1643,
    "start_time": "2022-05-30T20:00:02.365Z"
   },
   {
    "duration": 2,
    "start_time": "2022-05-30T20:00:04.010Z"
   },
   {
    "duration": 7,
    "start_time": "2022-05-30T20:00:04.016Z"
   },
   {
    "duration": 182,
    "start_time": "2022-05-30T20:00:04.025Z"
   },
   {
    "duration": 202,
    "start_time": "2022-05-30T20:00:04.209Z"
   },
   {
    "duration": 1,
    "start_time": "2022-05-30T20:00:04.412Z"
   },
   {
    "duration": 0,
    "start_time": "2022-05-30T20:00:04.414Z"
   },
   {
    "duration": 0,
    "start_time": "2022-05-30T20:00:04.415Z"
   },
   {
    "duration": 0,
    "start_time": "2022-05-30T20:00:04.416Z"
   },
   {
    "duration": 0,
    "start_time": "2022-05-30T20:00:04.417Z"
   },
   {
    "duration": 0,
    "start_time": "2022-05-30T20:00:04.418Z"
   },
   {
    "duration": 0,
    "start_time": "2022-05-30T20:00:04.419Z"
   },
   {
    "duration": 0,
    "start_time": "2022-05-30T20:00:04.420Z"
   },
   {
    "duration": 0,
    "start_time": "2022-05-30T20:00:04.421Z"
   },
   {
    "duration": 0,
    "start_time": "2022-05-30T20:00:04.422Z"
   },
   {
    "duration": 0,
    "start_time": "2022-05-30T20:00:04.423Z"
   },
   {
    "duration": 0,
    "start_time": "2022-05-30T20:00:04.425Z"
   },
   {
    "duration": 0,
    "start_time": "2022-05-30T20:00:04.426Z"
   },
   {
    "duration": 0,
    "start_time": "2022-05-30T20:00:04.428Z"
   },
   {
    "duration": 0,
    "start_time": "2022-05-30T20:00:04.429Z"
   },
   {
    "duration": 0,
    "start_time": "2022-05-30T20:00:04.430Z"
   },
   {
    "duration": 0,
    "start_time": "2022-05-30T20:00:04.431Z"
   },
   {
    "duration": 0,
    "start_time": "2022-05-30T20:00:04.432Z"
   },
   {
    "duration": 0,
    "start_time": "2022-05-30T20:00:04.433Z"
   },
   {
    "duration": 0,
    "start_time": "2022-05-30T20:00:04.435Z"
   },
   {
    "duration": 0,
    "start_time": "2022-05-30T20:00:04.435Z"
   },
   {
    "duration": 0,
    "start_time": "2022-05-30T20:00:04.436Z"
   },
   {
    "duration": 0,
    "start_time": "2022-05-30T20:00:04.437Z"
   },
   {
    "duration": 0,
    "start_time": "2022-05-30T20:00:04.438Z"
   },
   {
    "duration": 0,
    "start_time": "2022-05-30T20:00:04.439Z"
   },
   {
    "duration": 0,
    "start_time": "2022-05-30T20:00:04.440Z"
   },
   {
    "duration": 0,
    "start_time": "2022-05-30T20:00:04.441Z"
   },
   {
    "duration": 0,
    "start_time": "2022-05-30T20:00:04.442Z"
   },
   {
    "duration": 0,
    "start_time": "2022-05-30T20:00:04.443Z"
   },
   {
    "duration": 0,
    "start_time": "2022-05-30T20:00:04.500Z"
   },
   {
    "duration": 0,
    "start_time": "2022-05-30T20:00:04.501Z"
   },
   {
    "duration": 0,
    "start_time": "2022-05-30T20:00:04.502Z"
   },
   {
    "duration": 0,
    "start_time": "2022-05-30T20:00:04.503Z"
   },
   {
    "duration": 8,
    "start_time": "2022-05-30T20:07:02.971Z"
   },
   {
    "duration": 1505,
    "start_time": "2022-05-31T14:48:30.435Z"
   },
   {
    "duration": 491,
    "start_time": "2022-05-31T14:48:31.943Z"
   },
   {
    "duration": 21,
    "start_time": "2022-05-31T14:48:32.436Z"
   },
   {
    "duration": 45,
    "start_time": "2022-05-31T14:48:32.459Z"
   },
   {
    "duration": 34,
    "start_time": "2022-05-31T14:48:32.505Z"
   },
   {
    "duration": 69,
    "start_time": "2022-05-31T14:48:32.541Z"
   },
   {
    "duration": 46,
    "start_time": "2022-05-31T14:48:32.612Z"
   },
   {
    "duration": 38,
    "start_time": "2022-05-31T14:48:32.659Z"
   },
   {
    "duration": 366,
    "start_time": "2022-05-31T14:48:32.698Z"
   },
   {
    "duration": 627,
    "start_time": "2022-05-31T14:48:33.066Z"
   },
   {
    "duration": 204,
    "start_time": "2022-05-31T14:48:33.695Z"
   },
   {
    "duration": 322,
    "start_time": "2022-05-31T14:48:33.900Z"
   },
   {
    "duration": 232,
    "start_time": "2022-05-31T14:48:34.224Z"
   },
   {
    "duration": 15,
    "start_time": "2022-05-31T14:48:34.458Z"
   },
   {
    "duration": 22,
    "start_time": "2022-05-31T14:48:34.474Z"
   },
   {
    "duration": 26,
    "start_time": "2022-05-31T14:48:34.498Z"
   },
   {
    "duration": 59,
    "start_time": "2022-05-31T14:48:34.526Z"
   },
   {
    "duration": 29,
    "start_time": "2022-05-31T14:48:34.587Z"
   },
   {
    "duration": 51,
    "start_time": "2022-05-31T14:48:34.618Z"
   },
   {
    "duration": 336,
    "start_time": "2022-05-31T14:48:34.671Z"
   },
   {
    "duration": 749,
    "start_time": "2022-05-31T14:48:35.008Z"
   },
   {
    "duration": 198,
    "start_time": "2022-05-31T14:48:35.760Z"
   },
   {
    "duration": 345,
    "start_time": "2022-05-31T14:48:35.959Z"
   },
   {
    "duration": 237,
    "start_time": "2022-05-31T14:48:36.306Z"
   },
   {
    "duration": 9,
    "start_time": "2022-05-31T14:48:36.545Z"
   },
   {
    "duration": 1625,
    "start_time": "2022-05-31T14:48:36.556Z"
   },
   {
    "duration": 3,
    "start_time": "2022-05-31T14:48:38.182Z"
   },
   {
    "duration": 8,
    "start_time": "2022-05-31T14:48:44.010Z"
   },
   {
    "duration": 272,
    "start_time": "2022-05-31T14:48:47.870Z"
   },
   {
    "duration": 126,
    "start_time": "2022-05-31T14:49:05.015Z"
   },
   {
    "duration": 5,
    "start_time": "2022-05-31T16:33:36.457Z"
   },
   {
    "duration": 215,
    "start_time": "2022-05-31T16:33:36.467Z"
   },
   {
    "duration": 20,
    "start_time": "2022-05-31T16:33:36.684Z"
   },
   {
    "duration": 32,
    "start_time": "2022-05-31T16:33:36.706Z"
   },
   {
    "duration": 40,
    "start_time": "2022-05-31T16:33:36.741Z"
   },
   {
    "duration": 72,
    "start_time": "2022-05-31T16:33:36.783Z"
   },
   {
    "duration": 38,
    "start_time": "2022-05-31T16:33:36.857Z"
   },
   {
    "duration": 64,
    "start_time": "2022-05-31T16:33:36.897Z"
   },
   {
    "duration": 375,
    "start_time": "2022-05-31T16:33:36.963Z"
   },
   {
    "duration": 800,
    "start_time": "2022-05-31T16:33:37.340Z"
   },
   {
    "duration": 208,
    "start_time": "2022-05-31T16:33:38.143Z"
   },
   {
    "duration": 371,
    "start_time": "2022-05-31T16:33:38.353Z"
   },
   {
    "duration": 173,
    "start_time": "2022-05-31T16:33:38.728Z"
   },
   {
    "duration": 19,
    "start_time": "2022-05-31T16:33:38.903Z"
   },
   {
    "duration": 14,
    "start_time": "2022-05-31T16:33:38.927Z"
   },
   {
    "duration": 35,
    "start_time": "2022-05-31T16:33:38.944Z"
   },
   {
    "duration": 72,
    "start_time": "2022-05-31T16:33:38.982Z"
   },
   {
    "duration": 37,
    "start_time": "2022-05-31T16:33:39.057Z"
   },
   {
    "duration": 51,
    "start_time": "2022-05-31T16:33:39.096Z"
   },
   {
    "duration": 369,
    "start_time": "2022-05-31T16:33:39.149Z"
   },
   {
    "duration": 686,
    "start_time": "2022-05-31T16:33:39.519Z"
   },
   {
    "duration": 195,
    "start_time": "2022-05-31T16:33:40.206Z"
   },
   {
    "duration": 484,
    "start_time": "2022-05-31T16:33:40.403Z"
   },
   {
    "duration": 150,
    "start_time": "2022-05-31T16:33:40.889Z"
   },
   {
    "duration": 14,
    "start_time": "2022-05-31T16:33:41.041Z"
   },
   {
    "duration": 1901,
    "start_time": "2022-05-31T16:33:41.057Z"
   },
   {
    "duration": 4,
    "start_time": "2022-05-31T16:33:42.961Z"
   },
   {
    "duration": 5,
    "start_time": "2022-05-31T16:33:45.238Z"
   },
   {
    "duration": 10,
    "start_time": "2022-05-31T16:34:14.246Z"
   },
   {
    "duration": 23,
    "start_time": "2022-05-31T16:34:24.742Z"
   },
   {
    "duration": 93,
    "start_time": "2022-05-31T16:35:37.035Z"
   },
   {
    "duration": 16,
    "start_time": "2022-05-31T16:36:12.758Z"
   },
   {
    "duration": 44,
    "start_time": "2022-05-31T16:44:17.794Z"
   },
   {
    "duration": 11,
    "start_time": "2022-05-31T16:44:47.896Z"
   },
   {
    "duration": 19,
    "start_time": "2022-05-31T16:45:52.354Z"
   },
   {
    "duration": 123,
    "start_time": "2022-05-31T16:47:11.109Z"
   },
   {
    "duration": 16,
    "start_time": "2022-05-31T16:47:24.383Z"
   },
   {
    "duration": 5,
    "start_time": "2022-05-31T16:48:41.042Z"
   },
   {
    "duration": 200,
    "start_time": "2022-05-31T16:48:50.319Z"
   },
   {
    "duration": 19,
    "start_time": "2022-05-31T16:49:19.250Z"
   },
   {
    "duration": 12,
    "start_time": "2022-05-31T16:52:11.519Z"
   },
   {
    "duration": 6,
    "start_time": "2022-05-31T16:52:48.808Z"
   },
   {
    "duration": 5,
    "start_time": "2022-05-31T16:53:23.785Z"
   },
   {
    "duration": 21,
    "start_time": "2022-05-31T16:53:27.617Z"
   },
   {
    "duration": 157,
    "start_time": "2022-05-31T16:53:29.174Z"
   },
   {
    "duration": 40,
    "start_time": "2022-05-31T16:53:35.869Z"
   },
   {
    "duration": 18,
    "start_time": "2022-05-31T16:53:45.430Z"
   },
   {
    "duration": 18,
    "start_time": "2022-05-31T16:55:11.608Z"
   },
   {
    "duration": 5,
    "start_time": "2022-05-31T17:05:49.730Z"
   },
   {
    "duration": 243,
    "start_time": "2022-05-31T17:05:49.743Z"
   },
   {
    "duration": 38,
    "start_time": "2022-05-31T17:05:49.989Z"
   },
   {
    "duration": 17,
    "start_time": "2022-05-31T17:05:50.030Z"
   },
   {
    "duration": 35,
    "start_time": "2022-05-31T17:05:50.051Z"
   },
   {
    "duration": 112,
    "start_time": "2022-05-31T17:05:50.088Z"
   },
   {
    "duration": 42,
    "start_time": "2022-05-31T17:05:50.202Z"
   },
   {
    "duration": 41,
    "start_time": "2022-05-31T17:05:50.246Z"
   },
   {
    "duration": 507,
    "start_time": "2022-05-31T17:05:50.289Z"
   },
   {
    "duration": 965,
    "start_time": "2022-05-31T17:05:50.798Z"
   },
   {
    "duration": 286,
    "start_time": "2022-05-31T17:05:51.769Z"
   },
   {
    "duration": 476,
    "start_time": "2022-05-31T17:05:52.062Z"
   },
   {
    "duration": 211,
    "start_time": "2022-05-31T17:05:52.543Z"
   },
   {
    "duration": 21,
    "start_time": "2022-05-31T17:05:52.756Z"
   },
   {
    "duration": 20,
    "start_time": "2022-05-31T17:05:52.779Z"
   },
   {
    "duration": 34,
    "start_time": "2022-05-31T17:05:52.801Z"
   },
   {
    "duration": 88,
    "start_time": "2022-05-31T17:05:52.837Z"
   },
   {
    "duration": 45,
    "start_time": "2022-05-31T17:05:52.932Z"
   },
   {
    "duration": 64,
    "start_time": "2022-05-31T17:05:52.983Z"
   },
   {
    "duration": 459,
    "start_time": "2022-05-31T17:05:53.049Z"
   },
   {
    "duration": 1383,
    "start_time": "2022-05-31T17:05:53.510Z"
   },
   {
    "duration": 283,
    "start_time": "2022-05-31T17:05:54.896Z"
   },
   {
    "duration": 357,
    "start_time": "2022-05-31T17:05:55.180Z"
   },
   {
    "duration": 201,
    "start_time": "2022-05-31T17:05:55.539Z"
   },
   {
    "duration": 16,
    "start_time": "2022-05-31T17:05:55.743Z"
   },
   {
    "duration": 2643,
    "start_time": "2022-05-31T17:05:55.761Z"
   },
   {
    "duration": 3,
    "start_time": "2022-05-31T17:05:58.406Z"
   },
   {
    "duration": 14,
    "start_time": "2022-05-31T17:06:02.936Z"
   },
   {
    "duration": 31,
    "start_time": "2022-05-31T17:36:41.659Z"
   },
   {
    "duration": 6,
    "start_time": "2022-05-31T17:40:46.093Z"
   },
   {
    "duration": 63,
    "start_time": "2022-05-31T17:41:12.563Z"
   },
   {
    "duration": 13,
    "start_time": "2022-05-31T17:42:23.413Z"
   },
   {
    "duration": 9,
    "start_time": "2022-05-31T17:50:29.637Z"
   },
   {
    "duration": 45,
    "start_time": "2022-05-31T17:50:49.978Z"
   },
   {
    "duration": 14,
    "start_time": "2022-05-31T17:51:00.320Z"
   },
   {
    "duration": 41,
    "start_time": "2022-05-31T18:01:19.334Z"
   },
   {
    "duration": 4,
    "start_time": "2022-05-31T18:01:42.089Z"
   },
   {
    "duration": 195,
    "start_time": "2022-05-31T18:02:21.634Z"
   },
   {
    "duration": 16,
    "start_time": "2022-05-31T18:02:37.100Z"
   },
   {
    "duration": 10,
    "start_time": "2022-05-31T18:03:04.610Z"
   },
   {
    "duration": 6,
    "start_time": "2022-05-31T18:03:44.554Z"
   },
   {
    "duration": 9,
    "start_time": "2022-05-31T18:08:12.574Z"
   },
   {
    "duration": 9,
    "start_time": "2022-05-31T18:08:22.821Z"
   },
   {
    "duration": 9,
    "start_time": "2022-05-31T18:08:33.964Z"
   },
   {
    "duration": 44,
    "start_time": "2022-05-31T18:12:33.808Z"
   },
   {
    "duration": 39,
    "start_time": "2022-05-31T18:13:13.511Z"
   },
   {
    "duration": 24,
    "start_time": "2022-05-31T18:14:08.479Z"
   },
   {
    "duration": 13,
    "start_time": "2022-05-31T18:14:19.318Z"
   },
   {
    "duration": 10,
    "start_time": "2022-05-31T18:14:45.688Z"
   },
   {
    "duration": 95,
    "start_time": "2022-05-31T18:15:17.260Z"
   },
   {
    "duration": 7,
    "start_time": "2022-05-31T18:15:39.141Z"
   },
   {
    "duration": 251,
    "start_time": "2022-05-31T18:15:39.152Z"
   },
   {
    "duration": 31,
    "start_time": "2022-05-31T18:15:39.406Z"
   },
   {
    "duration": 27,
    "start_time": "2022-05-31T18:15:39.439Z"
   },
   {
    "duration": 23,
    "start_time": "2022-05-31T18:15:39.469Z"
   },
   {
    "duration": 88,
    "start_time": "2022-05-31T18:15:39.494Z"
   },
   {
    "duration": 47,
    "start_time": "2022-05-31T18:15:39.588Z"
   },
   {
    "duration": 122,
    "start_time": "2022-05-31T18:15:39.637Z"
   },
   {
    "duration": 576,
    "start_time": "2022-05-31T18:15:39.762Z"
   },
   {
    "duration": 901,
    "start_time": "2022-05-31T18:15:40.340Z"
   },
   {
    "duration": 486,
    "start_time": "2022-05-31T18:15:41.244Z"
   },
   {
    "duration": 514,
    "start_time": "2022-05-31T18:15:41.736Z"
   },
   {
    "duration": 216,
    "start_time": "2022-05-31T18:15:42.255Z"
   },
   {
    "duration": 27,
    "start_time": "2022-05-31T18:15:42.477Z"
   },
   {
    "duration": 16,
    "start_time": "2022-05-31T18:15:42.510Z"
   },
   {
    "duration": 49,
    "start_time": "2022-05-31T18:15:42.534Z"
   },
   {
    "duration": 77,
    "start_time": "2022-05-31T18:15:42.589Z"
   },
   {
    "duration": 35,
    "start_time": "2022-05-31T18:15:42.667Z"
   },
   {
    "duration": 61,
    "start_time": "2022-05-31T18:15:42.704Z"
   },
   {
    "duration": 535,
    "start_time": "2022-05-31T18:15:42.767Z"
   },
   {
    "duration": 1103,
    "start_time": "2022-05-31T18:15:43.304Z"
   },
   {
    "duration": 284,
    "start_time": "2022-05-31T18:15:44.409Z"
   },
   {
    "duration": 700,
    "start_time": "2022-05-31T18:15:44.695Z"
   },
   {
    "duration": 201,
    "start_time": "2022-05-31T18:15:45.401Z"
   },
   {
    "duration": 17,
    "start_time": "2022-05-31T18:15:45.605Z"
   },
   {
    "duration": 2520,
    "start_time": "2022-05-31T18:15:45.624Z"
   },
   {
    "duration": 4,
    "start_time": "2022-05-31T18:15:48.146Z"
   },
   {
    "duration": 7,
    "start_time": "2022-05-31T18:15:53.464Z"
   },
   {
    "duration": 4,
    "start_time": "2022-05-31T18:15:55.331Z"
   },
   {
    "duration": 40,
    "start_time": "2022-05-31T18:15:58.992Z"
   },
   {
    "duration": 63,
    "start_time": "2022-05-31T18:16:00.068Z"
   },
   {
    "duration": 17,
    "start_time": "2022-05-31T18:16:03.291Z"
   },
   {
    "duration": 13,
    "start_time": "2022-05-31T18:16:07.274Z"
   },
   {
    "duration": 162,
    "start_time": "2022-05-31T18:17:49.665Z"
   },
   {
    "duration": 17,
    "start_time": "2022-05-31T18:18:19.497Z"
   },
   {
    "duration": 9,
    "start_time": "2022-05-31T18:18:38.460Z"
   },
   {
    "duration": 44,
    "start_time": "2022-05-31T18:22:47.001Z"
   },
   {
    "duration": 13,
    "start_time": "2022-05-31T18:22:48.982Z"
   },
   {
    "duration": 14,
    "start_time": "2022-05-31T18:22:50.633Z"
   },
   {
    "duration": 21,
    "start_time": "2022-05-31T18:23:11.413Z"
   },
   {
    "duration": 10,
    "start_time": "2022-05-31T18:24:11.540Z"
   },
   {
    "duration": 372,
    "start_time": "2022-05-31T18:24:11.554Z"
   },
   {
    "duration": 22,
    "start_time": "2022-05-31T18:24:11.928Z"
   },
   {
    "duration": 37,
    "start_time": "2022-05-31T18:24:11.952Z"
   },
   {
    "duration": 75,
    "start_time": "2022-05-31T18:24:11.992Z"
   },
   {
    "duration": 75,
    "start_time": "2022-05-31T18:24:12.069Z"
   },
   {
    "duration": 40,
    "start_time": "2022-05-31T18:24:12.145Z"
   },
   {
    "duration": 57,
    "start_time": "2022-05-31T18:24:12.187Z"
   },
   {
    "duration": 493,
    "start_time": "2022-05-31T18:24:12.246Z"
   },
   {
    "duration": 989,
    "start_time": "2022-05-31T18:24:12.741Z"
   },
   {
    "duration": 237,
    "start_time": "2022-05-31T18:24:13.733Z"
   },
   {
    "duration": 408,
    "start_time": "2022-05-31T18:24:13.971Z"
   },
   {
    "duration": 170,
    "start_time": "2022-05-31T18:24:14.380Z"
   },
   {
    "duration": 20,
    "start_time": "2022-05-31T18:24:14.552Z"
   },
   {
    "duration": 33,
    "start_time": "2022-05-31T18:24:14.574Z"
   },
   {
    "duration": 43,
    "start_time": "2022-05-31T18:24:14.621Z"
   },
   {
    "duration": 109,
    "start_time": "2022-05-31T18:24:14.667Z"
   },
   {
    "duration": 37,
    "start_time": "2022-05-31T18:24:14.778Z"
   },
   {
    "duration": 57,
    "start_time": "2022-05-31T18:24:14.827Z"
   },
   {
    "duration": 406,
    "start_time": "2022-05-31T18:24:14.889Z"
   },
   {
    "duration": 936,
    "start_time": "2022-05-31T18:24:15.297Z"
   },
   {
    "duration": 227,
    "start_time": "2022-05-31T18:24:16.235Z"
   },
   {
    "duration": 411,
    "start_time": "2022-05-31T18:24:16.464Z"
   },
   {
    "duration": 150,
    "start_time": "2022-05-31T18:24:16.877Z"
   },
   {
    "duration": 9,
    "start_time": "2022-05-31T18:24:17.029Z"
   },
   {
    "duration": 2224,
    "start_time": "2022-05-31T18:24:17.040Z"
   },
   {
    "duration": 6,
    "start_time": "2022-05-31T18:24:19.266Z"
   },
   {
    "duration": 11,
    "start_time": "2022-05-31T18:24:19.274Z"
   },
   {
    "duration": 11,
    "start_time": "2022-05-31T18:24:19.289Z"
   },
   {
    "duration": 53,
    "start_time": "2022-05-31T18:24:19.302Z"
   },
   {
    "duration": 16,
    "start_time": "2022-05-31T18:24:19.357Z"
   },
   {
    "duration": 169,
    "start_time": "2022-05-31T18:24:19.375Z"
   },
   {
    "duration": 8,
    "start_time": "2022-05-31T18:24:19.546Z"
   },
   {
    "duration": 104,
    "start_time": "2022-05-31T18:24:19.557Z"
   },
   {
    "duration": 70,
    "start_time": "2022-05-31T18:24:19.663Z"
   },
   {
    "duration": 15,
    "start_time": "2022-05-31T18:24:21.973Z"
   },
   {
    "duration": 9,
    "start_time": "2022-05-31T18:24:25.207Z"
   },
   {
    "duration": 8,
    "start_time": "2022-05-31T18:25:03.864Z"
   },
   {
    "duration": 4,
    "start_time": "2022-05-31T18:25:21.252Z"
   },
   {
    "duration": 176,
    "start_time": "2022-05-31T18:25:21.258Z"
   },
   {
    "duration": 19,
    "start_time": "2022-05-31T18:25:21.436Z"
   },
   {
    "duration": 20,
    "start_time": "2022-05-31T18:25:21.457Z"
   },
   {
    "duration": 88,
    "start_time": "2022-05-31T18:25:21.481Z"
   },
   {
    "duration": 74,
    "start_time": "2022-05-31T18:25:21.571Z"
   },
   {
    "duration": 51,
    "start_time": "2022-05-31T18:25:21.648Z"
   },
   {
    "duration": 64,
    "start_time": "2022-05-31T18:25:21.702Z"
   },
   {
    "duration": 507,
    "start_time": "2022-05-31T18:25:21.769Z"
   },
   {
    "duration": 1231,
    "start_time": "2022-05-31T18:25:22.278Z"
   },
   {
    "duration": 213,
    "start_time": "2022-05-31T18:25:23.513Z"
   },
   {
    "duration": 521,
    "start_time": "2022-05-31T18:25:23.732Z"
   },
   {
    "duration": 148,
    "start_time": "2022-05-31T18:25:24.255Z"
   },
   {
    "duration": 22,
    "start_time": "2022-05-31T18:25:24.405Z"
   },
   {
    "duration": 11,
    "start_time": "2022-05-31T18:25:24.429Z"
   },
   {
    "duration": 17,
    "start_time": "2022-05-31T18:25:24.441Z"
   },
   {
    "duration": 74,
    "start_time": "2022-05-31T18:25:24.460Z"
   },
   {
    "duration": 35,
    "start_time": "2022-05-31T18:25:24.536Z"
   },
   {
    "duration": 54,
    "start_time": "2022-05-31T18:25:24.573Z"
   },
   {
    "duration": 358,
    "start_time": "2022-05-31T18:25:24.629Z"
   },
   {
    "duration": 687,
    "start_time": "2022-05-31T18:25:24.989Z"
   },
   {
    "duration": 213,
    "start_time": "2022-05-31T18:25:25.678Z"
   },
   {
    "duration": 360,
    "start_time": "2022-05-31T18:25:25.893Z"
   },
   {
    "duration": 197,
    "start_time": "2022-05-31T18:25:26.255Z"
   },
   {
    "duration": 9,
    "start_time": "2022-05-31T18:25:26.454Z"
   },
   {
    "duration": 1865,
    "start_time": "2022-05-31T18:25:26.465Z"
   },
   {
    "duration": 3,
    "start_time": "2022-05-31T18:25:28.332Z"
   },
   {
    "duration": 9,
    "start_time": "2022-05-31T18:25:28.337Z"
   },
   {
    "duration": 11,
    "start_time": "2022-05-31T18:25:28.349Z"
   },
   {
    "duration": 36,
    "start_time": "2022-05-31T18:25:28.362Z"
   },
   {
    "duration": 35,
    "start_time": "2022-05-31T18:25:28.400Z"
   },
   {
    "duration": 103,
    "start_time": "2022-05-31T18:25:28.438Z"
   },
   {
    "duration": 10,
    "start_time": "2022-05-31T18:25:33.889Z"
   },
   {
    "duration": 42,
    "start_time": "2022-05-31T18:25:37.245Z"
   },
   {
    "duration": 19,
    "start_time": "2022-05-31T18:25:38.305Z"
   },
   {
    "duration": 15,
    "start_time": "2022-05-31T18:25:39.523Z"
   },
   {
    "duration": 9,
    "start_time": "2022-05-31T18:25:42.665Z"
   },
   {
    "duration": 44,
    "start_time": "2022-05-31T18:28:10.896Z"
   },
   {
    "duration": 22,
    "start_time": "2022-05-31T18:28:26.016Z"
   },
   {
    "duration": 11,
    "start_time": "2022-05-31T18:32:39.868Z"
   },
   {
    "duration": 8,
    "start_time": "2022-05-31T18:33:04.332Z"
   },
   {
    "duration": 9,
    "start_time": "2022-05-31T18:36:01.816Z"
   },
   {
    "duration": 5,
    "start_time": "2022-05-31T18:36:21.956Z"
   },
   {
    "duration": 144,
    "start_time": "2022-05-31T18:36:21.963Z"
   },
   {
    "duration": 32,
    "start_time": "2022-05-31T18:36:22.110Z"
   },
   {
    "duration": 13,
    "start_time": "2022-05-31T18:36:22.144Z"
   },
   {
    "duration": 18,
    "start_time": "2022-05-31T18:36:22.159Z"
   },
   {
    "duration": 73,
    "start_time": "2022-05-31T18:36:22.179Z"
   },
   {
    "duration": 33,
    "start_time": "2022-05-31T18:36:22.254Z"
   },
   {
    "duration": 53,
    "start_time": "2022-05-31T18:36:22.289Z"
   },
   {
    "duration": 351,
    "start_time": "2022-05-31T18:36:22.344Z"
   },
   {
    "duration": 775,
    "start_time": "2022-05-31T18:36:22.697Z"
   },
   {
    "duration": 204,
    "start_time": "2022-05-31T18:36:23.474Z"
   },
   {
    "duration": 327,
    "start_time": "2022-05-31T18:36:23.679Z"
   },
   {
    "duration": 181,
    "start_time": "2022-05-31T18:36:24.009Z"
   },
   {
    "duration": 19,
    "start_time": "2022-05-31T18:36:24.191Z"
   },
   {
    "duration": 21,
    "start_time": "2022-05-31T18:36:24.212Z"
   },
   {
    "duration": 15,
    "start_time": "2022-05-31T18:36:24.235Z"
   },
   {
    "duration": 49,
    "start_time": "2022-05-31T18:36:24.252Z"
   },
   {
    "duration": 50,
    "start_time": "2022-05-31T18:36:24.302Z"
   },
   {
    "duration": 36,
    "start_time": "2022-05-31T18:36:24.354Z"
   },
   {
    "duration": 408,
    "start_time": "2022-05-31T18:36:24.392Z"
   },
   {
    "duration": 849,
    "start_time": "2022-05-31T18:36:24.802Z"
   },
   {
    "duration": 253,
    "start_time": "2022-05-31T18:36:25.653Z"
   },
   {
    "duration": 400,
    "start_time": "2022-05-31T18:36:25.907Z"
   },
   {
    "duration": 146,
    "start_time": "2022-05-31T18:36:26.309Z"
   },
   {
    "duration": 10,
    "start_time": "2022-05-31T18:36:26.456Z"
   },
   {
    "duration": 2077,
    "start_time": "2022-05-31T18:36:26.467Z"
   },
   {
    "duration": 3,
    "start_time": "2022-05-31T18:36:28.546Z"
   },
   {
    "duration": 8,
    "start_time": "2022-05-31T18:36:28.551Z"
   },
   {
    "duration": 7,
    "start_time": "2022-05-31T18:36:28.560Z"
   },
   {
    "duration": 32,
    "start_time": "2022-05-31T18:36:28.569Z"
   },
   {
    "duration": 38,
    "start_time": "2022-05-31T18:36:28.603Z"
   },
   {
    "duration": 94,
    "start_time": "2022-05-31T18:36:28.643Z"
   },
   {
    "duration": 7,
    "start_time": "2022-05-31T18:36:38.923Z"
   },
   {
    "duration": 38,
    "start_time": "2022-05-31T18:37:00.425Z"
   },
   {
    "duration": 21,
    "start_time": "2022-05-31T18:37:01.713Z"
   },
   {
    "duration": 11,
    "start_time": "2022-05-31T18:37:03.209Z"
   },
   {
    "duration": 8,
    "start_time": "2022-05-31T18:37:06.278Z"
   },
   {
    "duration": 37,
    "start_time": "2022-05-31T18:37:14.749Z"
   },
   {
    "duration": 11,
    "start_time": "2022-05-31T18:37:16.073Z"
   },
   {
    "duration": 11,
    "start_time": "2022-05-31T18:37:17.524Z"
   },
   {
    "duration": 9,
    "start_time": "2022-05-31T18:37:21.003Z"
   },
   {
    "duration": 5,
    "start_time": "2022-05-31T18:38:16.983Z"
   },
   {
    "duration": 3,
    "start_time": "2022-05-31T18:38:25.592Z"
   },
   {
    "duration": 31,
    "start_time": "2022-05-31T18:38:29.237Z"
   },
   {
    "duration": 17,
    "start_time": "2022-05-31T18:38:30.540Z"
   },
   {
    "duration": 11,
    "start_time": "2022-05-31T18:38:33.428Z"
   },
   {
    "duration": 8,
    "start_time": "2022-05-31T18:38:38.037Z"
   },
   {
    "duration": 30,
    "start_time": "2022-05-31T18:38:54.057Z"
   },
   {
    "duration": 23,
    "start_time": "2022-05-31T18:38:55.194Z"
   },
   {
    "duration": 15,
    "start_time": "2022-05-31T18:38:57.509Z"
   },
   {
    "duration": 10,
    "start_time": "2022-05-31T18:39:01.518Z"
   },
   {
    "duration": 41,
    "start_time": "2022-05-31T18:39:17.065Z"
   },
   {
    "duration": 81,
    "start_time": "2022-05-31T18:39:18.346Z"
   },
   {
    "duration": 12,
    "start_time": "2022-05-31T18:39:19.821Z"
   },
   {
    "duration": 9,
    "start_time": "2022-05-31T18:39:24.678Z"
   },
   {
    "duration": 1221,
    "start_time": "2022-05-31T18:47:01.561Z"
   },
   {
    "duration": 147,
    "start_time": "2022-05-31T18:47:02.784Z"
   },
   {
    "duration": 17,
    "start_time": "2022-05-31T18:47:02.933Z"
   },
   {
    "duration": 24,
    "start_time": "2022-05-31T18:47:02.953Z"
   },
   {
    "duration": 16,
    "start_time": "2022-05-31T18:47:02.979Z"
   },
   {
    "duration": 66,
    "start_time": "2022-05-31T18:47:02.997Z"
   },
   {
    "duration": 36,
    "start_time": "2022-05-31T18:47:03.064Z"
   },
   {
    "duration": 49,
    "start_time": "2022-05-31T18:47:03.101Z"
   },
   {
    "duration": 410,
    "start_time": "2022-05-31T18:47:03.151Z"
   },
   {
    "duration": 628,
    "start_time": "2022-05-31T18:47:03.563Z"
   },
   {
    "duration": 182,
    "start_time": "2022-05-31T18:47:04.192Z"
   },
   {
    "duration": 319,
    "start_time": "2022-05-31T18:47:04.376Z"
   },
   {
    "duration": 146,
    "start_time": "2022-05-31T18:47:04.696Z"
   },
   {
    "duration": 14,
    "start_time": "2022-05-31T18:47:04.843Z"
   },
   {
    "duration": 11,
    "start_time": "2022-05-31T18:47:04.859Z"
   },
   {
    "duration": 15,
    "start_time": "2022-05-31T18:47:04.871Z"
   },
   {
    "duration": 77,
    "start_time": "2022-05-31T18:47:04.888Z"
   },
   {
    "duration": 28,
    "start_time": "2022-05-31T18:47:04.967Z"
   },
   {
    "duration": 65,
    "start_time": "2022-05-31T18:47:04.997Z"
   },
   {
    "duration": 342,
    "start_time": "2022-05-31T18:47:05.064Z"
   },
   {
    "duration": 729,
    "start_time": "2022-05-31T18:47:05.408Z"
   },
   {
    "duration": 190,
    "start_time": "2022-05-31T18:47:06.138Z"
   },
   {
    "duration": 327,
    "start_time": "2022-05-31T18:47:06.330Z"
   },
   {
    "duration": 140,
    "start_time": "2022-05-31T18:47:06.659Z"
   },
   {
    "duration": 8,
    "start_time": "2022-05-31T18:47:06.800Z"
   },
   {
    "duration": 1593,
    "start_time": "2022-05-31T18:47:06.810Z"
   },
   {
    "duration": 3,
    "start_time": "2022-05-31T18:47:08.405Z"
   },
   {
    "duration": 4,
    "start_time": "2022-05-31T18:47:08.411Z"
   },
   {
    "duration": 2,
    "start_time": "2022-05-31T18:47:08.427Z"
   },
   {
    "duration": 35,
    "start_time": "2022-05-31T18:47:08.431Z"
   },
   {
    "duration": 247,
    "start_time": "2022-05-31T18:47:08.467Z"
   },
   {
    "duration": 0,
    "start_time": "2022-05-31T18:47:08.716Z"
   },
   {
    "duration": 0,
    "start_time": "2022-05-31T18:47:08.727Z"
   },
   {
    "duration": 0,
    "start_time": "2022-05-31T18:47:08.728Z"
   },
   {
    "duration": 0,
    "start_time": "2022-05-31T18:47:08.729Z"
   },
   {
    "duration": 0,
    "start_time": "2022-05-31T18:47:08.730Z"
   },
   {
    "duration": 0,
    "start_time": "2022-05-31T18:47:08.732Z"
   },
   {
    "duration": 0,
    "start_time": "2022-05-31T18:47:08.732Z"
   },
   {
    "duration": 0,
    "start_time": "2022-05-31T18:47:08.733Z"
   },
   {
    "duration": 0,
    "start_time": "2022-05-31T18:47:08.735Z"
   },
   {
    "duration": 0,
    "start_time": "2022-05-31T18:47:08.736Z"
   },
   {
    "duration": 0,
    "start_time": "2022-05-31T18:47:08.737Z"
   },
   {
    "duration": 0,
    "start_time": "2022-05-31T18:47:08.738Z"
   },
   {
    "duration": 1,
    "start_time": "2022-05-31T18:47:08.738Z"
   },
   {
    "duration": 0,
    "start_time": "2022-05-31T18:47:08.740Z"
   },
   {
    "duration": 0,
    "start_time": "2022-05-31T18:47:08.740Z"
   },
   {
    "duration": 0,
    "start_time": "2022-05-31T18:47:08.741Z"
   },
   {
    "duration": 0,
    "start_time": "2022-05-31T18:47:08.742Z"
   },
   {
    "duration": 0,
    "start_time": "2022-05-31T18:47:08.743Z"
   },
   {
    "duration": 0,
    "start_time": "2022-05-31T18:47:08.744Z"
   },
   {
    "duration": 0,
    "start_time": "2022-05-31T18:47:08.745Z"
   },
   {
    "duration": 0,
    "start_time": "2022-05-31T18:47:08.746Z"
   },
   {
    "duration": 0,
    "start_time": "2022-05-31T18:47:08.747Z"
   },
   {
    "duration": 0,
    "start_time": "2022-05-31T18:47:08.748Z"
   },
   {
    "duration": 0,
    "start_time": "2022-05-31T18:47:08.749Z"
   },
   {
    "duration": 0,
    "start_time": "2022-05-31T18:47:08.750Z"
   },
   {
    "duration": 4,
    "start_time": "2022-05-31T18:50:03.314Z"
   },
   {
    "duration": 139,
    "start_time": "2022-05-31T18:50:03.347Z"
   },
   {
    "duration": 14,
    "start_time": "2022-05-31T18:50:03.488Z"
   },
   {
    "duration": 37,
    "start_time": "2022-05-31T18:50:03.503Z"
   },
   {
    "duration": 34,
    "start_time": "2022-05-31T18:50:03.543Z"
   },
   {
    "duration": 49,
    "start_time": "2022-05-31T18:50:03.579Z"
   },
   {
    "duration": 31,
    "start_time": "2022-05-31T18:50:03.630Z"
   },
   {
    "duration": 34,
    "start_time": "2022-05-31T18:50:03.663Z"
   },
   {
    "duration": 320,
    "start_time": "2022-05-31T18:50:03.699Z"
   },
   {
    "duration": 601,
    "start_time": "2022-05-31T18:50:04.026Z"
   },
   {
    "duration": 317,
    "start_time": "2022-05-31T18:50:04.629Z"
   },
   {
    "duration": 328,
    "start_time": "2022-05-31T18:50:04.948Z"
   },
   {
    "duration": 133,
    "start_time": "2022-05-31T18:50:05.278Z"
   },
   {
    "duration": 21,
    "start_time": "2022-05-31T18:50:05.412Z"
   },
   {
    "duration": 10,
    "start_time": "2022-05-31T18:50:05.435Z"
   },
   {
    "duration": 20,
    "start_time": "2022-05-31T18:50:05.446Z"
   },
   {
    "duration": 61,
    "start_time": "2022-05-31T18:50:05.468Z"
   },
   {
    "duration": 26,
    "start_time": "2022-05-31T18:50:05.531Z"
   },
   {
    "duration": 36,
    "start_time": "2022-05-31T18:50:05.558Z"
   },
   {
    "duration": 366,
    "start_time": "2022-05-31T18:50:05.596Z"
   },
   {
    "duration": 654,
    "start_time": "2022-05-31T18:50:05.964Z"
   },
   {
    "duration": 184,
    "start_time": "2022-05-31T18:50:06.621Z"
   },
   {
    "duration": 458,
    "start_time": "2022-05-31T18:50:06.807Z"
   },
   {
    "duration": 141,
    "start_time": "2022-05-31T18:50:07.266Z"
   },
   {
    "duration": 8,
    "start_time": "2022-05-31T18:50:07.409Z"
   },
   {
    "duration": 1567,
    "start_time": "2022-05-31T18:50:07.418Z"
   },
   {
    "duration": 3,
    "start_time": "2022-05-31T18:50:08.987Z"
   },
   {
    "duration": 13,
    "start_time": "2022-05-31T18:50:08.992Z"
   },
   {
    "duration": 13,
    "start_time": "2022-05-31T18:50:09.006Z"
   },
   {
    "duration": 29,
    "start_time": "2022-05-31T18:50:18.018Z"
   },
   {
    "duration": 13,
    "start_time": "2022-05-31T18:50:54.320Z"
   },
   {
    "duration": 13,
    "start_time": "2022-05-31T18:51:31.706Z"
   },
   {
    "duration": 7,
    "start_time": "2022-05-31T18:52:04.110Z"
   },
   {
    "duration": 30,
    "start_time": "2022-05-31T18:53:04.488Z"
   },
   {
    "duration": 12,
    "start_time": "2022-05-31T18:53:06.435Z"
   },
   {
    "duration": 11,
    "start_time": "2022-05-31T18:53:23.802Z"
   },
   {
    "duration": 7,
    "start_time": "2022-05-31T18:53:42.482Z"
   },
   {
    "duration": 7,
    "start_time": "2022-05-31T18:53:52.211Z"
   },
   {
    "duration": 8,
    "start_time": "2022-05-31T18:54:11.536Z"
   },
   {
    "duration": 35,
    "start_time": "2022-05-31T18:54:44.907Z"
   },
   {
    "duration": 10,
    "start_time": "2022-05-31T18:55:05.248Z"
   },
   {
    "duration": 79,
    "start_time": "2022-05-31T18:55:15.649Z"
   },
   {
    "duration": 12,
    "start_time": "2022-05-31T18:55:34.138Z"
   },
   {
    "duration": 8,
    "start_time": "2022-05-31T18:55:47.140Z"
   },
   {
    "duration": 7,
    "start_time": "2022-05-31T18:55:54.577Z"
   },
   {
    "duration": 7,
    "start_time": "2022-05-31T18:56:08.600Z"
   },
   {
    "duration": 8,
    "start_time": "2022-05-31T18:56:23.191Z"
   },
   {
    "duration": 8,
    "start_time": "2022-05-31T18:56:36.836Z"
   },
   {
    "duration": 4,
    "start_time": "2022-05-31T18:58:34.698Z"
   },
   {
    "duration": 4,
    "start_time": "2022-05-31T18:58:39.895Z"
   },
   {
    "duration": 4,
    "start_time": "2022-05-31T19:06:12.761Z"
   },
   {
    "duration": 11,
    "start_time": "2022-05-31T19:06:59.874Z"
   },
   {
    "duration": 10,
    "start_time": "2022-05-31T19:07:38.317Z"
   },
   {
    "duration": 14,
    "start_time": "2022-05-31T19:07:41.484Z"
   },
   {
    "duration": 25,
    "start_time": "2022-05-31T20:36:18.122Z"
   },
   {
    "duration": 2042,
    "start_time": "2022-05-31T20:36:42.106Z"
   },
   {
    "duration": 14,
    "start_time": "2022-05-31T20:38:40.356Z"
   },
   {
    "duration": 2135,
    "start_time": "2022-05-31T20:39:06.115Z"
   },
   {
    "duration": 13,
    "start_time": "2022-05-31T20:39:40.340Z"
   },
   {
    "duration": 1972,
    "start_time": "2022-05-31T20:40:12.824Z"
   },
   {
    "duration": 1633,
    "start_time": "2022-05-31T20:48:42.750Z"
   },
   {
    "duration": 238,
    "start_time": "2022-05-31T20:48:44.386Z"
   },
   {
    "duration": 34,
    "start_time": "2022-05-31T20:48:44.626Z"
   },
   {
    "duration": 27,
    "start_time": "2022-05-31T20:48:44.662Z"
   },
   {
    "duration": 21,
    "start_time": "2022-05-31T20:48:44.691Z"
   },
   {
    "duration": 66,
    "start_time": "2022-05-31T20:48:44.714Z"
   },
   {
    "duration": 61,
    "start_time": "2022-05-31T20:48:44.782Z"
   },
   {
    "duration": 47,
    "start_time": "2022-05-31T20:48:44.845Z"
   },
   {
    "duration": 656,
    "start_time": "2022-05-31T20:48:44.894Z"
   },
   {
    "duration": 947,
    "start_time": "2022-05-31T20:48:45.554Z"
   },
   {
    "duration": 287,
    "start_time": "2022-05-31T20:48:46.503Z"
   },
   {
    "duration": 534,
    "start_time": "2022-05-31T20:48:46.792Z"
   },
   {
    "duration": 304,
    "start_time": "2022-05-31T20:48:47.328Z"
   },
   {
    "duration": 29,
    "start_time": "2022-05-31T20:48:47.633Z"
   },
   {
    "duration": 30,
    "start_time": "2022-05-31T20:48:47.664Z"
   },
   {
    "duration": 30,
    "start_time": "2022-05-31T20:48:47.696Z"
   },
   {
    "duration": 129,
    "start_time": "2022-05-31T20:48:47.728Z"
   },
   {
    "duration": 37,
    "start_time": "2022-05-31T20:48:47.859Z"
   },
   {
    "duration": 61,
    "start_time": "2022-05-31T20:48:47.898Z"
   },
   {
    "duration": 554,
    "start_time": "2022-05-31T20:48:47.961Z"
   },
   {
    "duration": 997,
    "start_time": "2022-05-31T20:48:48.526Z"
   },
   {
    "duration": 278,
    "start_time": "2022-05-31T20:48:49.529Z"
   },
   {
    "duration": 600,
    "start_time": "2022-05-31T20:48:49.809Z"
   },
   {
    "duration": 223,
    "start_time": "2022-05-31T20:48:50.411Z"
   },
   {
    "duration": 22,
    "start_time": "2022-05-31T20:48:50.636Z"
   },
   {
    "duration": 2550,
    "start_time": "2022-05-31T20:48:50.660Z"
   },
   {
    "duration": 4,
    "start_time": "2022-05-31T20:48:53.212Z"
   },
   {
    "duration": 16,
    "start_time": "2022-05-31T20:48:53.231Z"
   },
   {
    "duration": 43,
    "start_time": "2022-05-31T20:48:53.251Z"
   },
   {
    "duration": 71,
    "start_time": "2022-05-31T20:48:53.297Z"
   },
   {
    "duration": 56,
    "start_time": "2022-05-31T20:48:53.372Z"
   },
   {
    "duration": 143,
    "start_time": "2022-05-31T20:48:53.433Z"
   },
   {
    "duration": 32,
    "start_time": "2022-05-31T20:48:53.581Z"
   },
   {
    "duration": 92,
    "start_time": "2022-05-31T20:48:53.615Z"
   },
   {
    "duration": 22,
    "start_time": "2022-05-31T20:48:53.710Z"
   },
   {
    "duration": 161,
    "start_time": "2022-05-31T20:48:53.734Z"
   },
   {
    "duration": 9,
    "start_time": "2022-05-31T20:48:53.897Z"
   },
   {
    "duration": 63,
    "start_time": "2022-05-31T20:48:53.909Z"
   },
   {
    "duration": 63,
    "start_time": "2022-05-31T20:48:53.975Z"
   },
   {
    "duration": 136,
    "start_time": "2022-05-31T20:48:54.046Z"
   },
   {
    "duration": 13,
    "start_time": "2022-05-31T20:48:54.185Z"
   },
   {
    "duration": 19,
    "start_time": "2022-05-31T20:48:54.202Z"
   },
   {
    "duration": 36,
    "start_time": "2022-05-31T20:48:54.223Z"
   },
   {
    "duration": 16,
    "start_time": "2022-05-31T20:48:54.260Z"
   },
   {
    "duration": 16,
    "start_time": "2022-05-31T20:48:54.278Z"
   },
   {
    "duration": 20,
    "start_time": "2022-05-31T20:48:54.297Z"
   },
   {
    "duration": 22,
    "start_time": "2022-05-31T20:48:54.319Z"
   },
   {
    "duration": 40,
    "start_time": "2022-05-31T20:48:54.347Z"
   },
   {
    "duration": 21,
    "start_time": "2022-05-31T20:48:54.389Z"
   },
   {
    "duration": 2869,
    "start_time": "2022-05-31T20:48:54.412Z"
   },
   {
    "duration": 33,
    "start_time": "2022-05-31T20:48:57.283Z"
   },
   {
    "duration": 2850,
    "start_time": "2022-05-31T20:48:57.328Z"
   },
   {
    "duration": 15,
    "start_time": "2022-05-31T20:49:00.180Z"
   },
   {
    "duration": 2970,
    "start_time": "2022-05-31T20:49:00.197Z"
   },
   {
    "duration": 1534,
    "start_time": "2022-06-01T16:22:37.855Z"
   },
   {
    "duration": 653,
    "start_time": "2022-06-01T16:22:39.392Z"
   },
   {
    "duration": 18,
    "start_time": "2022-06-01T16:22:40.047Z"
   },
   {
    "duration": 12,
    "start_time": "2022-06-01T16:22:40.068Z"
   },
   {
    "duration": 15,
    "start_time": "2022-06-01T16:22:40.082Z"
   },
   {
    "duration": 66,
    "start_time": "2022-06-01T16:22:40.099Z"
   },
   {
    "duration": 35,
    "start_time": "2022-06-01T16:22:40.167Z"
   },
   {
    "duration": 56,
    "start_time": "2022-06-01T16:22:40.204Z"
   },
   {
    "duration": 347,
    "start_time": "2022-06-01T16:22:40.262Z"
   },
   {
    "duration": 636,
    "start_time": "2022-06-01T16:22:40.612Z"
   },
   {
    "duration": 191,
    "start_time": "2022-06-01T16:22:41.250Z"
   },
   {
    "duration": 431,
    "start_time": "2022-06-01T16:22:41.443Z"
   },
   {
    "duration": 212,
    "start_time": "2022-06-01T16:22:41.875Z"
   },
   {
    "duration": 19,
    "start_time": "2022-06-01T16:22:42.089Z"
   },
   {
    "duration": 11,
    "start_time": "2022-06-01T16:22:42.110Z"
   },
   {
    "duration": 20,
    "start_time": "2022-06-01T16:22:42.127Z"
   },
   {
    "duration": 59,
    "start_time": "2022-06-01T16:22:42.149Z"
   },
   {
    "duration": 36,
    "start_time": "2022-06-01T16:22:42.227Z"
   },
   {
    "duration": 46,
    "start_time": "2022-06-01T16:22:42.265Z"
   },
   {
    "duration": 342,
    "start_time": "2022-06-01T16:22:42.328Z"
   },
   {
    "duration": 731,
    "start_time": "2022-06-01T16:22:42.672Z"
   },
   {
    "duration": 182,
    "start_time": "2022-06-01T16:22:43.405Z"
   },
   {
    "duration": 364,
    "start_time": "2022-06-01T16:22:43.589Z"
   },
   {
    "duration": 212,
    "start_time": "2022-06-01T16:22:43.955Z"
   },
   {
    "duration": 9,
    "start_time": "2022-06-01T16:22:44.169Z"
   },
   {
    "duration": 1726,
    "start_time": "2022-06-01T16:22:44.180Z"
   },
   {
    "duration": 3,
    "start_time": "2022-06-01T16:22:45.908Z"
   },
   {
    "duration": 6,
    "start_time": "2022-06-01T16:22:45.926Z"
   },
   {
    "duration": 12,
    "start_time": "2022-06-01T16:22:45.935Z"
   },
   {
    "duration": 45,
    "start_time": "2022-06-01T16:22:45.949Z"
   },
   {
    "duration": 41,
    "start_time": "2022-06-01T16:22:45.995Z"
   },
   {
    "duration": 188,
    "start_time": "2022-06-01T16:22:46.039Z"
   },
   {
    "duration": 7,
    "start_time": "2022-06-01T16:22:46.229Z"
   },
   {
    "duration": 32,
    "start_time": "2022-06-01T16:22:46.237Z"
   },
   {
    "duration": 14,
    "start_time": "2022-06-01T16:22:46.271Z"
   },
   {
    "duration": 97,
    "start_time": "2022-06-01T16:22:46.330Z"
   },
   {
    "duration": 7,
    "start_time": "2022-06-01T16:22:46.429Z"
   },
   {
    "duration": 35,
    "start_time": "2022-06-01T16:22:46.438Z"
   },
   {
    "duration": 52,
    "start_time": "2022-06-01T16:22:46.475Z"
   },
   {
    "duration": 101,
    "start_time": "2022-06-01T16:22:46.529Z"
   },
   {
    "duration": 9,
    "start_time": "2022-06-01T16:22:46.632Z"
   },
   {
    "duration": 7,
    "start_time": "2022-06-01T16:22:57.681Z"
   },
   {
    "duration": 3,
    "start_time": "2022-06-01T16:23:09.577Z"
   },
   {
    "duration": 5,
    "start_time": "2022-06-01T16:23:36.436Z"
   },
   {
    "duration": 3,
    "start_time": "2022-06-01T16:24:22.835Z"
   },
   {
    "duration": 11,
    "start_time": "2022-06-01T16:26:37.684Z"
   },
   {
    "duration": 10,
    "start_time": "2022-06-01T16:26:40.905Z"
   },
   {
    "duration": 12,
    "start_time": "2022-06-01T16:26:43.969Z"
   },
   {
    "duration": 111,
    "start_time": "2022-06-01T16:39:04.432Z"
   },
   {
    "duration": 198,
    "start_time": "2022-06-01T16:39:58.552Z"
   },
   {
    "duration": 304,
    "start_time": "2022-06-01T16:44:21.452Z"
   },
   {
    "duration": 62,
    "start_time": "2022-06-01T16:49:58.553Z"
   },
   {
    "duration": 243,
    "start_time": "2022-06-01T16:55:44.702Z"
   },
   {
    "duration": 406,
    "start_time": "2022-06-01T17:03:13.791Z"
   },
   {
    "duration": 4,
    "start_time": "2022-06-01T17:04:49.582Z"
   },
   {
    "duration": 204,
    "start_time": "2022-06-01T17:09:04.132Z"
   },
   {
    "duration": 5,
    "start_time": "2022-06-01T17:10:23.354Z"
   },
   {
    "duration": 203,
    "start_time": "2022-06-01T17:10:40.569Z"
   },
   {
    "duration": 227,
    "start_time": "2022-06-01T17:10:56.706Z"
   },
   {
    "duration": 11,
    "start_time": "2022-06-01T17:13:11.776Z"
   },
   {
    "duration": 194,
    "start_time": "2022-06-01T17:13:56.071Z"
   },
   {
    "duration": 12,
    "start_time": "2022-06-01T17:14:13.522Z"
   },
   {
    "duration": 202,
    "start_time": "2022-06-01T17:14:52.897Z"
   },
   {
    "duration": 1234,
    "start_time": "2022-06-01T17:16:04.814Z"
   },
   {
    "duration": 149,
    "start_time": "2022-06-01T17:16:06.049Z"
   },
   {
    "duration": 14,
    "start_time": "2022-06-01T17:16:06.200Z"
   },
   {
    "duration": 18,
    "start_time": "2022-06-01T17:16:06.216Z"
   },
   {
    "duration": 25,
    "start_time": "2022-06-01T17:16:06.236Z"
   },
   {
    "duration": 63,
    "start_time": "2022-06-01T17:16:06.263Z"
   },
   {
    "duration": 35,
    "start_time": "2022-06-01T17:16:06.329Z"
   },
   {
    "duration": 36,
    "start_time": "2022-06-01T17:16:06.366Z"
   },
   {
    "duration": 438,
    "start_time": "2022-06-01T17:16:06.403Z"
   },
   {
    "duration": 640,
    "start_time": "2022-06-01T17:16:06.845Z"
   },
   {
    "duration": 196,
    "start_time": "2022-06-01T17:16:07.487Z"
   },
   {
    "duration": 314,
    "start_time": "2022-06-01T17:16:07.685Z"
   },
   {
    "duration": 140,
    "start_time": "2022-06-01T17:16:08.001Z"
   },
   {
    "duration": 14,
    "start_time": "2022-06-01T17:16:08.143Z"
   },
   {
    "duration": 10,
    "start_time": "2022-06-01T17:16:08.159Z"
   },
   {
    "duration": 16,
    "start_time": "2022-06-01T17:16:08.170Z"
   },
   {
    "duration": 75,
    "start_time": "2022-06-01T17:16:08.187Z"
   },
   {
    "duration": 27,
    "start_time": "2022-06-01T17:16:08.263Z"
   },
   {
    "duration": 57,
    "start_time": "2022-06-01T17:16:08.291Z"
   },
   {
    "duration": 349,
    "start_time": "2022-06-01T17:16:08.350Z"
   },
   {
    "duration": 705,
    "start_time": "2022-06-01T17:16:08.701Z"
   },
   {
    "duration": 190,
    "start_time": "2022-06-01T17:16:09.408Z"
   },
   {
    "duration": 315,
    "start_time": "2022-06-01T17:16:09.600Z"
   },
   {
    "duration": 143,
    "start_time": "2022-06-01T17:16:09.917Z"
   },
   {
    "duration": 8,
    "start_time": "2022-06-01T17:16:10.062Z"
   },
   {
    "duration": 1655,
    "start_time": "2022-06-01T17:16:10.071Z"
   },
   {
    "duration": 3,
    "start_time": "2022-06-01T17:16:11.728Z"
   },
   {
    "duration": 5,
    "start_time": "2022-06-01T17:16:11.734Z"
   },
   {
    "duration": 8,
    "start_time": "2022-06-01T17:16:11.741Z"
   },
   {
    "duration": 32,
    "start_time": "2022-06-01T17:16:11.750Z"
   },
   {
    "duration": 43,
    "start_time": "2022-06-01T17:16:11.784Z"
   },
   {
    "duration": 111,
    "start_time": "2022-06-01T17:16:11.829Z"
   },
   {
    "duration": 7,
    "start_time": "2022-06-01T17:16:11.942Z"
   },
   {
    "duration": 29,
    "start_time": "2022-06-01T17:16:11.950Z"
   },
   {
    "duration": 47,
    "start_time": "2022-06-01T17:16:11.980Z"
   },
   {
    "duration": 98,
    "start_time": "2022-06-01T17:16:12.030Z"
   },
   {
    "duration": 7,
    "start_time": "2022-06-01T17:16:12.129Z"
   },
   {
    "duration": 33,
    "start_time": "2022-06-01T17:16:12.138Z"
   },
   {
    "duration": 56,
    "start_time": "2022-06-01T17:16:12.173Z"
   },
   {
    "duration": 104,
    "start_time": "2022-06-01T17:16:12.232Z"
   },
   {
    "duration": 6,
    "start_time": "2022-06-01T17:16:12.338Z"
   },
   {
    "duration": 13,
    "start_time": "2022-06-01T17:16:12.346Z"
   },
   {
    "duration": 9,
    "start_time": "2022-06-01T17:16:12.361Z"
   },
   {
    "duration": 11,
    "start_time": "2022-06-01T17:16:12.371Z"
   },
   {
    "duration": 8,
    "start_time": "2022-06-01T17:16:12.383Z"
   },
   {
    "duration": 12,
    "start_time": "2022-06-01T17:16:12.392Z"
   },
   {
    "duration": 24,
    "start_time": "2022-06-01T17:16:12.405Z"
   },
   {
    "duration": 10,
    "start_time": "2022-06-01T17:16:12.431Z"
   },
   {
    "duration": 14,
    "start_time": "2022-06-01T17:16:12.443Z"
   },
   {
    "duration": 239,
    "start_time": "2022-06-01T17:16:12.459Z"
   },
   {
    "duration": 12,
    "start_time": "2022-06-01T17:16:12.699Z"
   },
   {
    "duration": 202,
    "start_time": "2022-06-01T17:16:12.713Z"
   },
   {
    "duration": 18,
    "start_time": "2022-06-01T17:16:12.916Z"
   },
   {
    "duration": 211,
    "start_time": "2022-06-01T17:16:12.935Z"
   },
   {
    "duration": 61,
    "start_time": "2022-06-02T16:44:14.467Z"
   },
   {
    "duration": 12,
    "start_time": "2022-06-02T16:44:18.090Z"
   },
   {
    "duration": 0,
    "start_time": "2022-06-02T16:44:18.104Z"
   },
   {
    "duration": 8,
    "start_time": "2022-06-02T16:44:18.112Z"
   },
   {
    "duration": 10,
    "start_time": "2022-06-02T16:44:18.123Z"
   },
   {
    "duration": 1535,
    "start_time": "2022-06-02T16:44:31.445Z"
   },
   {
    "duration": 474,
    "start_time": "2022-06-02T16:44:32.982Z"
   },
   {
    "duration": 14,
    "start_time": "2022-06-02T16:44:33.457Z"
   },
   {
    "duration": 11,
    "start_time": "2022-06-02T16:44:33.473Z"
   },
   {
    "duration": 14,
    "start_time": "2022-06-02T16:44:33.486Z"
   },
   {
    "duration": 77,
    "start_time": "2022-06-02T16:44:33.502Z"
   },
   {
    "duration": 43,
    "start_time": "2022-06-02T16:44:33.581Z"
   },
   {
    "duration": 58,
    "start_time": "2022-06-02T16:44:33.626Z"
   },
   {
    "duration": 348,
    "start_time": "2022-06-02T16:44:33.686Z"
   },
   {
    "duration": 649,
    "start_time": "2022-06-02T16:44:34.038Z"
   },
   {
    "duration": 190,
    "start_time": "2022-06-02T16:44:34.689Z"
   },
   {
    "duration": 331,
    "start_time": "2022-06-02T16:44:34.881Z"
   },
   {
    "duration": 262,
    "start_time": "2022-06-02T16:44:35.213Z"
   },
   {
    "duration": 13,
    "start_time": "2022-06-02T16:44:35.477Z"
   },
   {
    "duration": 11,
    "start_time": "2022-06-02T16:44:35.492Z"
   },
   {
    "duration": 16,
    "start_time": "2022-06-02T16:44:35.504Z"
   },
   {
    "duration": 51,
    "start_time": "2022-06-02T16:44:35.522Z"
   },
   {
    "duration": 26,
    "start_time": "2022-06-02T16:44:35.575Z"
   },
   {
    "duration": 51,
    "start_time": "2022-06-02T16:44:35.602Z"
   },
   {
    "duration": 341,
    "start_time": "2022-06-02T16:44:35.655Z"
   },
   {
    "duration": 749,
    "start_time": "2022-06-02T16:44:35.997Z"
   },
   {
    "duration": 177,
    "start_time": "2022-06-02T16:44:36.747Z"
   },
   {
    "duration": 332,
    "start_time": "2022-06-02T16:44:36.926Z"
   },
   {
    "duration": 214,
    "start_time": "2022-06-02T16:44:37.260Z"
   },
   {
    "duration": 11,
    "start_time": "2022-06-02T16:44:37.478Z"
   },
   {
    "duration": 1654,
    "start_time": "2022-06-02T16:44:37.490Z"
   },
   {
    "duration": 2,
    "start_time": "2022-06-02T16:44:39.146Z"
   },
   {
    "duration": 10,
    "start_time": "2022-06-02T16:44:39.161Z"
   },
   {
    "duration": 6,
    "start_time": "2022-06-02T16:44:39.173Z"
   },
   {
    "duration": 37,
    "start_time": "2022-06-02T16:44:39.180Z"
   },
   {
    "duration": 234,
    "start_time": "2022-06-02T16:44:39.219Z"
   },
   {
    "duration": 17,
    "start_time": "2022-06-02T16:44:39.458Z"
   },
   {
    "duration": 88,
    "start_time": "2022-06-02T16:44:39.477Z"
   },
   {
    "duration": 32,
    "start_time": "2022-06-02T16:44:39.567Z"
   },
   {
    "duration": 54,
    "start_time": "2022-06-02T16:44:39.601Z"
   },
   {
    "duration": 97,
    "start_time": "2022-06-02T16:44:39.657Z"
   },
   {
    "duration": 15,
    "start_time": "2022-06-02T16:44:39.756Z"
   },
   {
    "duration": 34,
    "start_time": "2022-06-02T16:44:39.772Z"
   },
   {
    "duration": 44,
    "start_time": "2022-06-02T16:44:39.808Z"
   },
   {
    "duration": 108,
    "start_time": "2022-06-02T16:44:39.857Z"
   },
   {
    "duration": 7,
    "start_time": "2022-06-02T16:44:39.967Z"
   },
   {
    "duration": 4,
    "start_time": "2022-06-02T16:44:39.976Z"
   },
   {
    "duration": 5,
    "start_time": "2022-06-02T16:44:39.981Z"
   },
   {
    "duration": 8,
    "start_time": "2022-06-02T16:44:39.988Z"
   },
   {
    "duration": 5,
    "start_time": "2022-06-02T16:44:39.997Z"
   },
   {
    "duration": 24,
    "start_time": "2022-06-02T16:44:40.004Z"
   },
   {
    "duration": 29,
    "start_time": "2022-06-02T16:44:40.030Z"
   },
   {
    "duration": 12,
    "start_time": "2022-06-02T16:44:40.062Z"
   },
   {
    "duration": 13,
    "start_time": "2022-06-02T16:44:45.092Z"
   },
   {
    "duration": 4302,
    "start_time": "2022-06-02T16:57:48.396Z"
   },
   {
    "duration": 1009,
    "start_time": "2022-06-02T17:07:23.574Z"
   },
   {
    "duration": 1143,
    "start_time": "2022-06-02T17:07:44.393Z"
   },
   {
    "duration": 1126,
    "start_time": "2022-06-02T17:07:51.569Z"
   },
   {
    "duration": 1115,
    "start_time": "2022-06-02T17:10:37.548Z"
   },
   {
    "duration": 1134,
    "start_time": "2022-06-02T17:11:09.213Z"
   },
   {
    "duration": 1169,
    "start_time": "2022-06-02T17:33:15.877Z"
   },
   {
    "duration": 393,
    "start_time": "2022-06-02T17:33:17.048Z"
   },
   {
    "duration": 15,
    "start_time": "2022-06-02T17:33:17.443Z"
   },
   {
    "duration": 11,
    "start_time": "2022-06-02T17:33:17.461Z"
   },
   {
    "duration": 29,
    "start_time": "2022-06-02T17:33:17.474Z"
   },
   {
    "duration": 55,
    "start_time": "2022-06-02T17:33:17.505Z"
   },
   {
    "duration": 36,
    "start_time": "2022-06-02T17:33:17.562Z"
   },
   {
    "duration": 60,
    "start_time": "2022-06-02T17:33:17.600Z"
   },
   {
    "duration": 406,
    "start_time": "2022-06-02T17:33:17.662Z"
   },
   {
    "duration": 643,
    "start_time": "2022-06-02T17:33:18.071Z"
   },
   {
    "duration": 186,
    "start_time": "2022-06-02T17:33:18.715Z"
   },
   {
    "duration": 332,
    "start_time": "2022-06-02T17:33:18.903Z"
   },
   {
    "duration": 233,
    "start_time": "2022-06-02T17:33:19.237Z"
   },
   {
    "duration": 13,
    "start_time": "2022-06-02T17:33:19.471Z"
   },
   {
    "duration": 20,
    "start_time": "2022-06-02T17:33:19.486Z"
   },
   {
    "duration": 25,
    "start_time": "2022-06-02T17:33:19.508Z"
   },
   {
    "duration": 49,
    "start_time": "2022-06-02T17:33:19.535Z"
   },
   {
    "duration": 30,
    "start_time": "2022-06-02T17:33:19.586Z"
   },
   {
    "duration": 50,
    "start_time": "2022-06-02T17:33:19.618Z"
   },
   {
    "duration": 321,
    "start_time": "2022-06-02T17:33:19.670Z"
   },
   {
    "duration": 762,
    "start_time": "2022-06-02T17:33:19.993Z"
   },
   {
    "duration": 178,
    "start_time": "2022-06-02T17:33:20.757Z"
   },
   {
    "duration": 318,
    "start_time": "2022-06-02T17:33:20.937Z"
   },
   {
    "duration": 388,
    "start_time": "2022-06-02T17:33:21.257Z"
   },
   {
    "duration": 10,
    "start_time": "2022-06-02T17:33:21.648Z"
   },
   {
    "duration": 1764,
    "start_time": "2022-06-02T17:33:21.659Z"
   },
   {
    "duration": 4,
    "start_time": "2022-06-02T17:33:23.425Z"
   },
   {
    "duration": 17,
    "start_time": "2022-06-02T17:33:23.435Z"
   },
   {
    "duration": 14,
    "start_time": "2022-06-02T17:33:23.456Z"
   },
   {
    "duration": 60,
    "start_time": "2022-06-02T17:33:23.472Z"
   },
   {
    "duration": 118,
    "start_time": "2022-06-02T17:33:23.534Z"
   },
   {
    "duration": 105,
    "start_time": "2022-06-02T17:33:23.654Z"
   },
   {
    "duration": 19,
    "start_time": "2022-06-02T17:33:23.762Z"
   },
   {
    "duration": 49,
    "start_time": "2022-06-02T17:33:23.784Z"
   },
   {
    "duration": 120,
    "start_time": "2022-06-02T17:33:23.835Z"
   },
   {
    "duration": 98,
    "start_time": "2022-06-02T17:33:23.960Z"
   },
   {
    "duration": 10,
    "start_time": "2022-06-02T17:33:24.060Z"
   },
   {
    "duration": 59,
    "start_time": "2022-06-02T17:33:24.072Z"
   },
   {
    "duration": 39,
    "start_time": "2022-06-02T17:33:24.134Z"
   },
   {
    "duration": 196,
    "start_time": "2022-06-02T17:33:24.175Z"
   },
   {
    "duration": 10,
    "start_time": "2022-06-02T17:33:24.373Z"
   },
   {
    "duration": 4,
    "start_time": "2022-06-02T17:33:24.386Z"
   },
   {
    "duration": 14,
    "start_time": "2022-06-02T17:33:24.391Z"
   },
   {
    "duration": 7,
    "start_time": "2022-06-02T17:33:24.407Z"
   },
   {
    "duration": 9,
    "start_time": "2022-06-02T17:33:24.416Z"
   },
   {
    "duration": 31,
    "start_time": "2022-06-02T17:33:24.427Z"
   },
   {
    "duration": 14,
    "start_time": "2022-06-02T17:33:24.461Z"
   },
   {
    "duration": 13,
    "start_time": "2022-06-02T17:33:24.477Z"
   },
   {
    "duration": 1271,
    "start_time": "2022-06-02T17:33:24.492Z"
   },
   {
    "duration": 1082,
    "start_time": "2022-06-02T17:33:25.765Z"
   },
   {
    "duration": 1041,
    "start_time": "2022-06-02T17:33:26.849Z"
   },
   {
    "duration": 1446,
    "start_time": "2022-06-02T19:14:52.797Z"
   },
   {
    "duration": 742,
    "start_time": "2022-06-02T19:14:54.246Z"
   },
   {
    "duration": 19,
    "start_time": "2022-06-02T19:14:54.989Z"
   },
   {
    "duration": 27,
    "start_time": "2022-06-02T19:14:55.011Z"
   },
   {
    "duration": 17,
    "start_time": "2022-06-02T19:14:55.040Z"
   },
   {
    "duration": 57,
    "start_time": "2022-06-02T19:14:55.059Z"
   },
   {
    "duration": 48,
    "start_time": "2022-06-02T19:14:55.118Z"
   },
   {
    "duration": 37,
    "start_time": "2022-06-02T19:14:55.168Z"
   },
   {
    "duration": 395,
    "start_time": "2022-06-02T19:14:55.207Z"
   },
   {
    "duration": 691,
    "start_time": "2022-06-02T19:14:55.605Z"
   },
   {
    "duration": 209,
    "start_time": "2022-06-02T19:14:56.298Z"
   },
   {
    "duration": 343,
    "start_time": "2022-06-02T19:14:56.509Z"
   },
   {
    "duration": 246,
    "start_time": "2022-06-02T19:14:56.854Z"
   },
   {
    "duration": 15,
    "start_time": "2022-06-02T19:14:57.101Z"
   },
   {
    "duration": 17,
    "start_time": "2022-06-02T19:14:57.118Z"
   },
   {
    "duration": 18,
    "start_time": "2022-06-02T19:14:57.143Z"
   },
   {
    "duration": 46,
    "start_time": "2022-06-02T19:14:57.163Z"
   },
   {
    "duration": 39,
    "start_time": "2022-06-02T19:14:57.210Z"
   },
   {
    "duration": 35,
    "start_time": "2022-06-02T19:14:57.251Z"
   },
   {
    "duration": 393,
    "start_time": "2022-06-02T19:14:57.288Z"
   },
   {
    "duration": 799,
    "start_time": "2022-06-02T19:14:57.684Z"
   },
   {
    "duration": 217,
    "start_time": "2022-06-02T19:14:58.485Z"
   },
   {
    "duration": 374,
    "start_time": "2022-06-02T19:14:58.704Z"
   },
   {
    "duration": 255,
    "start_time": "2022-06-02T19:14:59.079Z"
   },
   {
    "duration": 11,
    "start_time": "2022-06-02T19:14:59.340Z"
   },
   {
    "duration": 1862,
    "start_time": "2022-06-02T19:14:59.353Z"
   },
   {
    "duration": 3,
    "start_time": "2022-06-02T19:15:01.217Z"
   },
   {
    "duration": 38,
    "start_time": "2022-06-02T19:15:01.236Z"
   },
   {
    "duration": 38,
    "start_time": "2022-06-02T19:15:01.277Z"
   },
   {
    "duration": 89,
    "start_time": "2022-06-02T19:15:01.317Z"
   },
   {
    "duration": 354,
    "start_time": "2022-06-02T19:15:01.408Z"
   },
   {
    "duration": 107,
    "start_time": "2022-06-02T19:15:01.827Z"
   },
   {
    "duration": 26,
    "start_time": "2022-06-02T19:15:01.938Z"
   },
   {
    "duration": 51,
    "start_time": "2022-06-02T19:15:01.966Z"
   },
   {
    "duration": 17,
    "start_time": "2022-06-02T19:15:02.019Z"
   },
   {
    "duration": 203,
    "start_time": "2022-06-02T19:15:02.038Z"
   },
   {
    "duration": 26,
    "start_time": "2022-06-02T19:15:02.243Z"
   },
   {
    "duration": 67,
    "start_time": "2022-06-02T19:15:02.270Z"
   },
   {
    "duration": 12,
    "start_time": "2022-06-02T19:15:02.339Z"
   },
   {
    "duration": 200,
    "start_time": "2022-06-02T19:15:02.353Z"
   },
   {
    "duration": 15,
    "start_time": "2022-06-02T19:15:02.555Z"
   },
   {
    "duration": 15,
    "start_time": "2022-06-02T19:15:02.572Z"
   },
   {
    "duration": 12,
    "start_time": "2022-06-02T19:15:02.588Z"
   },
   {
    "duration": 11,
    "start_time": "2022-06-02T19:15:02.602Z"
   },
   {
    "duration": 31,
    "start_time": "2022-06-02T19:15:02.615Z"
   },
   {
    "duration": 28,
    "start_time": "2022-06-02T19:15:02.648Z"
   },
   {
    "duration": 11,
    "start_time": "2022-06-02T19:15:02.677Z"
   },
   {
    "duration": 11,
    "start_time": "2022-06-02T19:15:02.689Z"
   },
   {
    "duration": 1091,
    "start_time": "2022-06-02T19:15:02.702Z"
   },
   {
    "duration": 1145,
    "start_time": "2022-06-02T19:15:03.795Z"
   },
   {
    "duration": 1058,
    "start_time": "2022-06-02T19:15:04.941Z"
   },
   {
    "duration": 4,
    "start_time": "2022-06-02T19:15:47.161Z"
   },
   {
    "duration": 6,
    "start_time": "2022-06-02T19:16:17.454Z"
   },
   {
    "duration": 7,
    "start_time": "2022-06-02T19:19:06.642Z"
   }
  ],
  "kernelspec": {
   "display_name": "Python 3 (ipykernel)",
   "language": "python",
   "name": "python3"
  },
  "language_info": {
   "codemirror_mode": {
    "name": "ipython",
    "version": 3
   },
   "file_extension": ".py",
   "mimetype": "text/x-python",
   "name": "python",
   "nbconvert_exporter": "python",
   "pygments_lexer": "ipython3",
   "version": "3.9.7"
  },
  "toc": {
   "base_numbering": 1,
   "nav_menu": {},
   "number_sections": true,
   "sideBar": true,
   "skip_h1_title": true,
   "title_cell": "Table of Contents",
   "title_sidebar": "Contents",
   "toc_cell": false,
   "toc_position": {},
   "toc_section_display": true,
   "toc_window_display": false
  }
 },
 "nbformat": 4,
 "nbformat_minor": 2
}
