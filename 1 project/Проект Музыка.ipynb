{
 "cells": [
  {
   "cell_type": "markdown",
   "metadata": {
    "id": "E0vqbgi9ay0H"
   },
   "source": [
    "# Яндекс.Музыка"
   ]
  },
  {
   "cell_type": "markdown",
   "metadata": {
    "id": "VUC88oWjTJw2"
   },
   "source": [
    "Сравнение Москвы и Петербурга окружено мифами. Например:\n",
    " * Москва — мегаполис, подчинённый жёсткому ритму рабочей недели;\n",
    " * Петербург — культурная столица, со своими вкусами.\n",
    "\n",
    "На данных Яндекс.Музыки вы сравните поведение пользователей двух столиц.\n",
    "\n",
    "**Цель исследования** — проверьте три гипотезы:\n",
    "1. Активность пользователей зависит от дня недели. Причём в Москве и Петербурге это проявляется по-разному.\n",
    "2. В понедельник утром в Москве преобладают одни жанры, а в Петербурге — другие. Так же и вечером пятницы преобладают разные жанры — в зависимости от города. \n",
    "3. Москва и Петербург предпочитают разные жанры музыки. В Москве чаще слушают поп-музыку, в Петербурге — русский рэп.\n",
    "\n",
    "**Ход исследования**\n",
    "\n",
    "Данные о поведении пользователей вы получите из файла `yandex_music_project.csv`. О качестве данных ничего не известно. Поэтому перед проверкой гипотез понадобится обзор данных. \n",
    "\n",
    "Вы проверите данные на ошибки и оцените их влияние на исследование. Затем, на этапе предобработки вы поищете возможность исправить самые критичные ошибки данных.\n",
    " \n",
    "Таким образом, исследование пройдёт в три этапа:\n",
    " 1. Обзор данных.\n",
    " 2. Предобработка данных.\n",
    " 3. Проверка гипотез.\n",
    "\n"
   ]
  },
  {
   "cell_type": "markdown",
   "metadata": {
    "id": "Ml1hmfXC_Zcs"
   },
   "source": [
    "## Обзор данных\n",
    "\n",
    "Составьте первое представление о данных Яндекс.Музыки.\n",
    "\n",
    "\n"
   ]
  },
  {
   "cell_type": "markdown",
   "metadata": {
    "id": "57eAOGIz_Zcs"
   },
   "source": [
    "Основной инструмент аналитика — `pandas`. Импортируйте эту библиотеку."
   ]
  },
  {
   "cell_type": "code",
   "execution_count": 333,
   "metadata": {
    "id": "AXN7PHPN_Zcs"
   },
   "outputs": [],
   "source": [
    "import pandas as pd # импорт библиотеки pandas"
   ]
  },
  {
   "cell_type": "markdown",
   "metadata": {
    "id": "SG23P8tt_Zcs"
   },
   "source": [
    "Прочитайте файл `yandex_music_project.csv` из папки `/datasets` и сохраните его в переменной `df`:"
   ]
  },
  {
   "cell_type": "code",
   "execution_count": 334,
   "metadata": {
    "id": "fFVu7vqh_Zct"
   },
   "outputs": [],
   "source": [
    "df = pd.read_csv('/datasets/yandex_music_project.csv')# чтение файла с данными и сохранение в df                  "
   ]
  },
  {
   "cell_type": "markdown",
   "metadata": {
    "id": "rDoOMd3uTqnZ"
   },
   "source": [
    "Выведите на экран первые десять строк таблицы:"
   ]
  },
  {
   "cell_type": "code",
   "execution_count": 335,
   "metadata": {
    "id": "oWTVX3gW_Zct",
    "scrolled": true
   },
   "outputs": [
    {
     "data": {
      "text/html": [
       "<div>\n",
       "<style scoped>\n",
       "    .dataframe tbody tr th:only-of-type {\n",
       "        vertical-align: middle;\n",
       "    }\n",
       "\n",
       "    .dataframe tbody tr th {\n",
       "        vertical-align: top;\n",
       "    }\n",
       "\n",
       "    .dataframe thead th {\n",
       "        text-align: right;\n",
       "    }\n",
       "</style>\n",
       "<table border=\"1\" class=\"dataframe\">\n",
       "  <thead>\n",
       "    <tr style=\"text-align: right;\">\n",
       "      <th></th>\n",
       "      <th>userID</th>\n",
       "      <th>Track</th>\n",
       "      <th>artist</th>\n",
       "      <th>genre</th>\n",
       "      <th>City</th>\n",
       "      <th>time</th>\n",
       "      <th>Day</th>\n",
       "    </tr>\n",
       "  </thead>\n",
       "  <tbody>\n",
       "    <tr>\n",
       "      <td>0</td>\n",
       "      <td>FFB692EC</td>\n",
       "      <td>Kamigata To Boots</td>\n",
       "      <td>The Mass Missile</td>\n",
       "      <td>rock</td>\n",
       "      <td>Saint-Petersburg</td>\n",
       "      <td>20:28:33</td>\n",
       "      <td>Wednesday</td>\n",
       "    </tr>\n",
       "    <tr>\n",
       "      <td>1</td>\n",
       "      <td>55204538</td>\n",
       "      <td>Delayed Because of Accident</td>\n",
       "      <td>Andreas Rönnberg</td>\n",
       "      <td>rock</td>\n",
       "      <td>Moscow</td>\n",
       "      <td>14:07:09</td>\n",
       "      <td>Friday</td>\n",
       "    </tr>\n",
       "    <tr>\n",
       "      <td>2</td>\n",
       "      <td>20EC38</td>\n",
       "      <td>Funiculì funiculà</td>\n",
       "      <td>Mario Lanza</td>\n",
       "      <td>pop</td>\n",
       "      <td>Saint-Petersburg</td>\n",
       "      <td>20:58:07</td>\n",
       "      <td>Wednesday</td>\n",
       "    </tr>\n",
       "    <tr>\n",
       "      <td>3</td>\n",
       "      <td>A3DD03C9</td>\n",
       "      <td>Dragons in the Sunset</td>\n",
       "      <td>Fire + Ice</td>\n",
       "      <td>folk</td>\n",
       "      <td>Saint-Petersburg</td>\n",
       "      <td>08:37:09</td>\n",
       "      <td>Monday</td>\n",
       "    </tr>\n",
       "    <tr>\n",
       "      <td>4</td>\n",
       "      <td>E2DC1FAE</td>\n",
       "      <td>Soul People</td>\n",
       "      <td>Space Echo</td>\n",
       "      <td>dance</td>\n",
       "      <td>Moscow</td>\n",
       "      <td>08:34:34</td>\n",
       "      <td>Monday</td>\n",
       "    </tr>\n",
       "    <tr>\n",
       "      <td>5</td>\n",
       "      <td>842029A1</td>\n",
       "      <td>Преданная</td>\n",
       "      <td>IMPERVTOR</td>\n",
       "      <td>rusrap</td>\n",
       "      <td>Saint-Petersburg</td>\n",
       "      <td>13:09:41</td>\n",
       "      <td>Friday</td>\n",
       "    </tr>\n",
       "    <tr>\n",
       "      <td>6</td>\n",
       "      <td>4CB90AA5</td>\n",
       "      <td>True</td>\n",
       "      <td>Roman Messer</td>\n",
       "      <td>dance</td>\n",
       "      <td>Moscow</td>\n",
       "      <td>13:00:07</td>\n",
       "      <td>Wednesday</td>\n",
       "    </tr>\n",
       "    <tr>\n",
       "      <td>7</td>\n",
       "      <td>F03E1C1F</td>\n",
       "      <td>Feeling This Way</td>\n",
       "      <td>Polina Griffith</td>\n",
       "      <td>dance</td>\n",
       "      <td>Moscow</td>\n",
       "      <td>20:47:49</td>\n",
       "      <td>Wednesday</td>\n",
       "    </tr>\n",
       "    <tr>\n",
       "      <td>8</td>\n",
       "      <td>8FA1D3BE</td>\n",
       "      <td>И вновь продолжается бой</td>\n",
       "      <td>NaN</td>\n",
       "      <td>ruspop</td>\n",
       "      <td>Moscow</td>\n",
       "      <td>09:17:40</td>\n",
       "      <td>Friday</td>\n",
       "    </tr>\n",
       "    <tr>\n",
       "      <td>9</td>\n",
       "      <td>E772D5C0</td>\n",
       "      <td>Pessimist</td>\n",
       "      <td>NaN</td>\n",
       "      <td>dance</td>\n",
       "      <td>Saint-Petersburg</td>\n",
       "      <td>21:20:49</td>\n",
       "      <td>Wednesday</td>\n",
       "    </tr>\n",
       "  </tbody>\n",
       "</table>\n",
       "</div>"
      ],
      "text/plain": [
       "     userID                        Track            artist   genre  \\\n",
       "0  FFB692EC            Kamigata To Boots  The Mass Missile    rock   \n",
       "1  55204538  Delayed Because of Accident  Andreas Rönnberg    rock   \n",
       "2    20EC38            Funiculì funiculà       Mario Lanza     pop   \n",
       "3  A3DD03C9        Dragons in the Sunset        Fire + Ice    folk   \n",
       "4  E2DC1FAE                  Soul People        Space Echo   dance   \n",
       "5  842029A1                    Преданная         IMPERVTOR  rusrap   \n",
       "6  4CB90AA5                         True      Roman Messer   dance   \n",
       "7  F03E1C1F             Feeling This Way   Polina Griffith   dance   \n",
       "8  8FA1D3BE     И вновь продолжается бой               NaN  ruspop   \n",
       "9  E772D5C0                    Pessimist               NaN   dance   \n",
       "\n",
       "             City        time        Day  \n",
       "0  Saint-Petersburg  20:28:33  Wednesday  \n",
       "1            Moscow  14:07:09     Friday  \n",
       "2  Saint-Petersburg  20:58:07  Wednesday  \n",
       "3  Saint-Petersburg  08:37:09     Monday  \n",
       "4            Moscow  08:34:34     Monday  \n",
       "5  Saint-Petersburg  13:09:41     Friday  \n",
       "6            Moscow  13:00:07  Wednesday  \n",
       "7            Moscow  20:47:49  Wednesday  \n",
       "8            Moscow  09:17:40     Friday  \n",
       "9  Saint-Petersburg  21:20:49  Wednesday  "
      ]
     },
     "execution_count": 335,
     "metadata": {},
     "output_type": "execute_result"
    }
   ],
   "source": [
    " df.head(10) # получение первых 10 строк таблицы df"
   ]
  },
  {
   "cell_type": "markdown",
   "metadata": {
    "id": "EO73Kwic_Zct"
   },
   "source": [
    "Одной командой получить общую информацию о таблице:"
   ]
  },
  {
   "cell_type": "code",
   "execution_count": 336,
   "metadata": {
    "id": "DSf2kIb-_Zct",
    "scrolled": false
   },
   "outputs": [
    {
     "name": "stdout",
     "output_type": "stream",
     "text": [
      "<class 'pandas.core.frame.DataFrame'>\n",
      "RangeIndex: 65079 entries, 0 to 65078\n",
      "Data columns (total 7 columns):\n",
      "  userID    65079 non-null object\n",
      "Track       63848 non-null object\n",
      "artist      57876 non-null object\n",
      "genre       63881 non-null object\n",
      "  City      65079 non-null object\n",
      "time        65079 non-null object\n",
      "Day         65079 non-null object\n",
      "dtypes: object(7)\n",
      "memory usage: 3.5+ MB\n"
     ]
    }
   ],
   "source": [
    "df.info() # получение общей информации о данных в таблице df"
   ]
  },
  {
   "cell_type": "markdown",
   "metadata": {
    "id": "TaQ2Iwbr_Zct"
   },
   "source": [
    "Итак, в таблице семь столбцов. Тип данных во всех столбцах — `object`.\n",
    "\n",
    "Согласно документации к данным:\n",
    "* `userID` — идентификатор пользователя;\n",
    "* `Track` — название трека;  \n",
    "* `artist` — имя исполнителя;\n",
    "* `genre` — название жанра;\n",
    "* `City` — город пользователя;\n",
    "* `time` — время начала прослушивания;\n",
    "* `Day` — день недели.\n",
    "\n",
    "В названиях колонок видны три нарушения стиля:\n",
    "1. Строчные буквы сочетаются с прописными.\n",
    "2. Встречаются пробелы.\n",
    "3. В именах колонок в Python рекомендуется использовать \"змеиный стиль\" написания (snake style): латиница, строчные буквы, разделение слов при помощи нижнего подчеркивания. Так, userID правильнее назвать user_id.\n",
    "\n",
    "Количество значений в столбцах различается. Значит, в данных есть пропущенные значения.\n"
   ]
  },
  {
   "cell_type": "markdown",
   "metadata": {
    "id": "MCB6-dXG_Zct"
   },
   "source": [
    "**Выводы**\n",
    "\n",
    "В каждой строке таблицы — данные о прослушанном треке. Часть колонок описывает саму композицию: название, исполнителя и жанр. Остальные данные рассказывают о пользователе: из какого он города, когда он слушал музыку. \n",
    "\n",
    "Предварительно можно утверждать, что, данных достаточно для проверки гипотез. Но встречаются пропуски в данных, а в названиях колонок — расхождения с хорошим стилем.\n",
    "\n",
    "Чтобы двигаться дальше, нужно устранить проблемы в данных."
   ]
  },
  {
   "cell_type": "markdown",
   "metadata": {
    "id": "SjYF6Ub9_Zct"
   },
   "source": [
    "## Предобработка данных\n",
    "Исправьте стиль в заголовках столбцов, исключите пропуски. Затем проверьте данные на дубликаты."
   ]
  },
  {
   "cell_type": "markdown",
   "metadata": {
    "id": "dIaKXr29_Zct"
   },
   "source": [
    "### Стиль заголовков\n",
    "Выведите на экран названия столбцов:"
   ]
  },
  {
   "cell_type": "code",
   "execution_count": 337,
   "metadata": {
    "id": "oKOTdF_Q_Zct",
    "scrolled": true
   },
   "outputs": [
    {
     "data": {
      "text/plain": [
       "Index(['  userID', 'Track', 'artist', 'genre', '  City  ', 'time', 'Day'], dtype='object')"
      ]
     },
     "execution_count": 337,
     "metadata": {},
     "output_type": "execute_result"
    }
   ],
   "source": [
    "df.columns # перечень названий столбцов таблицы df"
   ]
  },
  {
   "cell_type": "markdown",
   "metadata": {
    "id": "zj5534cv_Zct"
   },
   "source": [
    "Приведите названия в соответствие с хорошим стилем:\n",
    "* несколько слов в названии запишите в «змеином_регистре»,\n",
    "* все символы сделайте строчными,\n",
    "* устраните пробелы.\n",
    "\n",
    "Для этого переименуйте колонки так:\n",
    "* `'  userID'` → `'user_id'`;\n",
    "* `'Track'` → `'track'`;\n",
    "* `'  City  '` → `'city'`;\n",
    "* `'Day'` → `'day'`."
   ]
  },
  {
   "cell_type": "code",
   "execution_count": 338,
   "metadata": {
    "id": "ISlFqs5y_Zct"
   },
   "outputs": [],
   "source": [
    "df = df.rename(columns = {'  userID':'user_id', 'Track':'track', '  City  ':'city', 'Day':'day'})# переименование столбцов"
   ]
  },
  {
   "cell_type": "markdown",
   "metadata": {
    "id": "1dqbh00J_Zct"
   },
   "source": [
    "Проверьте результат. Для этого ещё раз выведите на экран названия столбцов:"
   ]
  },
  {
   "cell_type": "code",
   "execution_count": 339,
   "metadata": {
    "id": "d4NOAmTW_Zct",
    "scrolled": true
   },
   "outputs": [
    {
     "data": {
      "text/plain": [
       "Index(['user_id', 'track', 'artist', 'genre', 'city', 'time', 'day'], dtype='object')"
      ]
     },
     "execution_count": 339,
     "metadata": {},
     "output_type": "execute_result"
    }
   ],
   "source": [
    "df.columns # проверка результатов - перечень названий столбцов"
   ]
  },
  {
   "cell_type": "markdown",
   "metadata": {
    "id": "5ISfbcfY_Zct"
   },
   "source": [
    "### Пропуски значений\n",
    "Сначала посчитайте, сколько в таблице пропущенных значений. Для этого достаточно двух методов `pandas`:"
   ]
  },
  {
   "cell_type": "code",
   "execution_count": 340,
   "metadata": {
    "scrolled": false
   },
   "outputs": [
    {
     "data": {
      "text/plain": [
       "user_id       0\n",
       "track      1231\n",
       "artist     7203\n",
       "genre      1198\n",
       "city          0\n",
       "time          0\n",
       "day           0\n",
       "dtype: int64"
      ]
     },
     "execution_count": 340,
     "metadata": {},
     "output_type": "execute_result"
    }
   ],
   "source": [
    "df.isna().sum()"
   ]
  },
  {
   "cell_type": "markdown",
   "metadata": {
    "id": "qubhgnlO_Zct"
   },
   "source": [
    "Не все пропущенные значения влияют на исследование. Так в `track` и `artist` пропуски не важны для вашей работы. Достаточно заменить их явными обозначениями.\n",
    "\n",
    "Но пропуски в `genre` могут помешать сравнению музыкальных вкусов в Москве и Санкт-Петербурге. На практике было бы правильно установить причину пропусков и восстановить данные. Такой возможности нет в учебном проекте. Придётся:\n",
    "* заполнить и эти пропуски явными обозначениями,\n",
    "* оценить, насколько они повредят расчётам. "
   ]
  },
  {
   "cell_type": "markdown",
   "metadata": {
    "id": "fSv2laPA_Zct"
   },
   "source": [
    "Замените пропущенные значения в столбцах `track`, `artist` и `genre` на строку `'unknown'`. Для этого создайте список `columns_to_replace`, переберите его элементы циклом `for` и для каждого столбца выполните замену пропущенных значений:"
   ]
  },
  {
   "cell_type": "code",
   "execution_count": 341,
   "metadata": {
    "id": "KplB5qWs_Zct",
    "scrolled": true
   },
   "outputs": [],
   "source": [
    "columns_to_replace = [['track'], ['artist'], ['genre']]\n"
   ]
  },
  {
   "cell_type": "code",
   "execution_count": 342,
   "metadata": {},
   "outputs": [],
   "source": [
    "for column in columns_to_replace:\n",
    "    df[column] = df[column].fillna('unknown')                                \n",
    "    # перебор названий столбцов в цикле и замена пропущенных значений на 'unknown'"
   ]
  },
  {
   "cell_type": "markdown",
   "metadata": {
    "id": "Ilsm-MZo_Zct"
   },
   "source": [
    "Убедитесь, что в таблице не осталось пропусков. Для этого ещё раз посчитайте пропущенные значения."
   ]
  },
  {
   "cell_type": "code",
   "execution_count": 343,
   "metadata": {
    "id": "Tq4nYRX4_Zct"
   },
   "outputs": [
    {
     "name": "stdout",
     "output_type": "stream",
     "text": [
      "user_id    0\n",
      "track      0\n",
      "artist     0\n",
      "genre      0\n",
      "city       0\n",
      "time       0\n",
      "day        0\n",
      "dtype: int64\n"
     ]
    }
   ],
   "source": [
    "print(df.isna().sum()) # подсчёт пропусков"
   ]
  },
  {
   "cell_type": "markdown",
   "metadata": {
    "id": "BWKRtBJ3_Zct"
   },
   "source": [
    "### Дубликаты\n",
    "Посчитайте явные дубликаты в таблице одной командой:"
   ]
  },
  {
   "cell_type": "code",
   "execution_count": 344,
   "metadata": {
    "id": "36eES_S0_Zct",
    "scrolled": true
   },
   "outputs": [
    {
     "data": {
      "text/plain": [
       "3826"
      ]
     },
     "execution_count": 344,
     "metadata": {},
     "output_type": "execute_result"
    }
   ],
   "source": [
    "df.duplicated().sum()# подсчёт явных дубликатов"
   ]
  },
  {
   "cell_type": "markdown",
   "metadata": {
    "id": "Ot25h6XR_Zct"
   },
   "source": [
    "Вызовите специальный метод `pandas`, чтобы удалить явные дубликаты:"
   ]
  },
  {
   "cell_type": "code",
   "execution_count": 345,
   "metadata": {
    "id": "exFHq6tt_Zct"
   },
   "outputs": [],
   "source": [
    "df = df.drop_duplicates().reset_index(drop = True) # удаление явных дубликатов (с удалением старых индексов и формированием новых)"
   ]
  },
  {
   "cell_type": "markdown",
   "metadata": {
    "id": "Im2YwBEG_Zct"
   },
   "source": [
    "Ещё раз посчитайте явные дубликаты в таблице — убедитесь, что полностью от них избавились:"
   ]
  },
  {
   "cell_type": "code",
   "execution_count": 346,
   "metadata": {
    "id": "-8PuNWQ0_Zct"
   },
   "outputs": [
    {
     "data": {
      "text/plain": [
       "0"
      ]
     },
     "execution_count": 346,
     "metadata": {},
     "output_type": "execute_result"
    }
   ],
   "source": [
    "df.duplicated().sum() # проверка на отсутствие дубликатов"
   ]
  },
  {
   "cell_type": "markdown",
   "metadata": {
    "id": "QlFBsxAr_Zct"
   },
   "source": [
    "Теперь избавьтесь от неявных дубликатов в колонке `genre`. Например, название одного и того же жанра может быть записано немного по-разному. Такие ошибки тоже повлияют на результат исследования."
   ]
  },
  {
   "cell_type": "markdown",
   "metadata": {
    "id": "eSjWwsOh_Zct"
   },
   "source": [
    "Выведите на экран список уникальных названий жанров, отсортированный в алфавитном порядке. Для этого:\n",
    "* извлеките нужный столбец датафрейма, \n",
    "* примените к нему метод сортировки,\n",
    "* для отсортированного столбца вызовите метод, который вернёт уникальные значения из столбца."
   ]
  },
  {
   "cell_type": "code",
   "execution_count": 347,
   "metadata": {
    "id": "JIUcqzZN_Zct",
    "scrolled": true
   },
   "outputs": [
    {
     "data": {
      "text/plain": [
       "array(['acid', 'acoustic', 'action', 'adult', 'africa', 'afrikaans',\n",
       "       'alternative', 'alternativepunk', 'ambient', 'americana',\n",
       "       'animated', 'anime', 'arabesk', 'arabic', 'arena',\n",
       "       'argentinetango', 'art', 'audiobook', 'author', 'avantgarde',\n",
       "       'axé', 'baile', 'balkan', 'beats', 'bigroom', 'black', 'bluegrass',\n",
       "       'blues', 'bollywood', 'bossa', 'brazilian', 'breakbeat', 'breaks',\n",
       "       'broadway', 'cantautori', 'cantopop', 'canzone', 'caribbean',\n",
       "       'caucasian', 'celtic', 'chamber', 'chanson', 'children', 'chill',\n",
       "       'chinese', 'choral', 'christian', 'christmas', 'classical',\n",
       "       'classicmetal', 'club', 'colombian', 'comedy', 'conjazz',\n",
       "       'contemporary', 'country', 'cuban', 'dance', 'dancehall',\n",
       "       'dancepop', 'dark', 'death', 'deep', 'deutschrock', 'deutschspr',\n",
       "       'dirty', 'disco', 'dnb', 'documentary', 'downbeat', 'downtempo',\n",
       "       'drum', 'dub', 'dubstep', 'eastern', 'easy', 'electronic',\n",
       "       'electropop', 'emo', 'entehno', 'epicmetal', 'estrada', 'ethnic',\n",
       "       'eurofolk', 'european', 'experimental', 'extrememetal', 'fado',\n",
       "       'fairytail', 'film', 'fitness', 'flamenco', 'folk', 'folklore',\n",
       "       'folkmetal', 'folkrock', 'folktronica', 'forró', 'frankreich',\n",
       "       'französisch', 'french', 'funk', 'future', 'gangsta', 'garage',\n",
       "       'german', 'ghazal', 'gitarre', 'glitch', 'gospel', 'gothic',\n",
       "       'grime', 'grunge', 'gypsy', 'handsup', \"hard'n'heavy\", 'hardcore',\n",
       "       'hardstyle', 'hardtechno', 'hip', 'hip-hop', 'hiphop',\n",
       "       'historisch', 'holiday', 'hop', 'horror', 'house', 'hymn', 'idm',\n",
       "       'independent', 'indian', 'indie', 'indipop', 'industrial',\n",
       "       'inspirational', 'instrumental', 'international', 'irish', 'jam',\n",
       "       'japanese', 'jazz', 'jewish', 'jpop', 'jungle', 'k-pop',\n",
       "       'karadeniz', 'karaoke', 'kayokyoku', 'korean', 'laiko', 'latin',\n",
       "       'latino', 'leftfield', 'local', 'lounge', 'loungeelectronic',\n",
       "       'lovers', 'malaysian', 'mandopop', 'marschmusik', 'meditative',\n",
       "       'mediterranean', 'melodic', 'metal', 'metalcore', 'mexican',\n",
       "       'middle', 'minimal', 'miscellaneous', 'modern', 'mood', 'mpb',\n",
       "       'muslim', 'native', 'neoklassik', 'neue', 'new', 'newage',\n",
       "       'newwave', 'nu', 'nujazz', 'numetal', 'oceania', 'old', 'opera',\n",
       "       'orchestral', 'other', 'piano', 'podcasts', 'pop', 'popdance',\n",
       "       'popelectronic', 'popeurodance', 'poprussian', 'post',\n",
       "       'posthardcore', 'postrock', 'power', 'progmetal', 'progressive',\n",
       "       'psychedelic', 'punjabi', 'punk', 'quebecois', 'ragga', 'ram',\n",
       "       'rancheras', 'rap', 'rave', 'reggae', 'reggaeton', 'regional',\n",
       "       'relax', 'religious', 'retro', 'rhythm', 'rnb', 'rnr', 'rock',\n",
       "       'rockabilly', 'rockalternative', 'rockindie', 'rockother',\n",
       "       'romance', 'roots', 'ruspop', 'rusrap', 'rusrock', 'russian',\n",
       "       'salsa', 'samba', 'scenic', 'schlager', 'self', 'sertanejo',\n",
       "       'shanson', 'shoegazing', 'showtunes', 'singer', 'ska', 'skarock',\n",
       "       'slow', 'smooth', 'soft', 'soul', 'soulful', 'sound', 'soundtrack',\n",
       "       'southern', 'specialty', 'speech', 'spiritual', 'sport',\n",
       "       'stonerrock', 'surf', 'swing', 'synthpop', 'synthrock',\n",
       "       'sängerportrait', 'tango', 'tanzorchester', 'taraftar', 'tatar',\n",
       "       'tech', 'techno', 'teen', 'thrash', 'top', 'traditional',\n",
       "       'tradjazz', 'trance', 'tribal', 'trip', 'triphop', 'tropical',\n",
       "       'türk', 'türkçe', 'ukrrock', 'unknown', 'urban', 'uzbek',\n",
       "       'variété', 'vi', 'videogame', 'vocal', 'western', 'world',\n",
       "       'worldbeat', 'ïîï', 'электроника'], dtype=object)"
      ]
     },
     "execution_count": 347,
     "metadata": {},
     "output_type": "execute_result"
    }
   ],
   "source": [
    "df.sort_values(by='genre')['genre'].unique() # Просмотр уникальных названий жанров"
   ]
  },
  {
   "cell_type": "markdown",
   "metadata": {
    "id": "qej-Qmuo_Zct"
   },
   "source": [
    "Просмотрите список и найдите неявные дубликаты названия `hiphop`. Это могут быть названия с ошибками или альтернативные названия того же жанра.\n",
    "\n",
    "Вы увидите следующие неявные дубликаты:\n",
    "* *hip*,\n",
    "* *hop*,\n",
    "* *hip-hop*.\n",
    "\n",
    "Чтобы очистить от них таблицу, напишите функцию `replace_wrong_genres()` с двумя параметрами: \n",
    "* `wrong_genres` — список дубликатов,\n",
    "* `correct_genre` — строка с правильным значением.\n",
    "\n",
    "Функция должна исправить колонку `genre` в таблице `df`: заменить каждое значение из списка `wrong_genres` на значение из `correct_genre`."
   ]
  },
  {
   "cell_type": "code",
   "execution_count": 348,
   "metadata": {
    "id": "ErNDkmns_Zct"
   },
   "outputs": [],
   "source": [
    "def replace_wrong_values(wrong_values, correct_value): \n",
    "    for wrong_value in wrong_values:\n",
    "        df['genre'] = df['genre'].replace(wrong_value, correct_value) \n",
    "\n",
    "duplicates = ['hip', 'hop', 'hip-hop']\n",
    "genre = 'hiphop'"
   ]
  },
  {
   "cell_type": "markdown",
   "metadata": {
    "id": "aDoBJxbA_Zct"
   },
   "source": [
    "Вызовите `replace_wrong_genres()` и передайте ей такие аргументы, чтобы она устранила неявные дубликаты: вместо `hip`, `hop` и `hip-hop` в таблице должно быть значение `hiphop`:"
   ]
  },
  {
   "cell_type": "code",
   "execution_count": 349,
   "metadata": {
    "id": "YN5i2hpmSo09",
    "scrolled": false
   },
   "outputs": [],
   "source": [
    "replace_wrong_values(duplicates, genre)"
   ]
  },
  {
   "cell_type": "markdown",
   "metadata": {
    "id": "zQKF16_RG15m"
   },
   "source": [
    "Проверьте, что заменили неправильные названия:\n",
    "\n",
    "*   hip\n",
    "*   hop\n",
    "*   hip-hop\n",
    "\n",
    "Выведите отсортированный список уникальных значений столбца `genre`:"
   ]
  },
  {
   "cell_type": "code",
   "execution_count": 350,
   "metadata": {
    "id": "wvixALnFG15m"
   },
   "outputs": [
    {
     "data": {
      "text/plain": [
       "array(['acid', 'acoustic', 'action', 'adult', 'africa', 'afrikaans',\n",
       "       'alternative', 'alternativepunk', 'ambient', 'americana',\n",
       "       'animated', 'anime', 'arabesk', 'arabic', 'arena',\n",
       "       'argentinetango', 'art', 'audiobook', 'author', 'avantgarde',\n",
       "       'axé', 'baile', 'balkan', 'beats', 'bigroom', 'black', 'bluegrass',\n",
       "       'blues', 'bollywood', 'bossa', 'brazilian', 'breakbeat', 'breaks',\n",
       "       'broadway', 'cantautori', 'cantopop', 'canzone', 'caribbean',\n",
       "       'caucasian', 'celtic', 'chamber', 'chanson', 'children', 'chill',\n",
       "       'chinese', 'choral', 'christian', 'christmas', 'classical',\n",
       "       'classicmetal', 'club', 'colombian', 'comedy', 'conjazz',\n",
       "       'contemporary', 'country', 'cuban', 'dance', 'dancehall',\n",
       "       'dancepop', 'dark', 'death', 'deep', 'deutschrock', 'deutschspr',\n",
       "       'dirty', 'disco', 'dnb', 'documentary', 'downbeat', 'downtempo',\n",
       "       'drum', 'dub', 'dubstep', 'eastern', 'easy', 'electronic',\n",
       "       'electropop', 'emo', 'entehno', 'epicmetal', 'estrada', 'ethnic',\n",
       "       'eurofolk', 'european', 'experimental', 'extrememetal', 'fado',\n",
       "       'fairytail', 'film', 'fitness', 'flamenco', 'folk', 'folklore',\n",
       "       'folkmetal', 'folkrock', 'folktronica', 'forró', 'frankreich',\n",
       "       'französisch', 'french', 'funk', 'future', 'gangsta', 'garage',\n",
       "       'german', 'ghazal', 'gitarre', 'glitch', 'gospel', 'gothic',\n",
       "       'grime', 'grunge', 'gypsy', 'handsup', \"hard'n'heavy\", 'hardcore',\n",
       "       'hardstyle', 'hardtechno', 'hiphop', 'historisch', 'holiday',\n",
       "       'horror', 'house', 'hymn', 'idm', 'independent', 'indian', 'indie',\n",
       "       'indipop', 'industrial', 'inspirational', 'instrumental',\n",
       "       'international', 'irish', 'jam', 'japanese', 'jazz', 'jewish',\n",
       "       'jpop', 'jungle', 'k-pop', 'karadeniz', 'karaoke', 'kayokyoku',\n",
       "       'korean', 'laiko', 'latin', 'latino', 'leftfield', 'local',\n",
       "       'lounge', 'loungeelectronic', 'lovers', 'malaysian', 'mandopop',\n",
       "       'marschmusik', 'meditative', 'mediterranean', 'melodic', 'metal',\n",
       "       'metalcore', 'mexican', 'middle', 'minimal', 'miscellaneous',\n",
       "       'modern', 'mood', 'mpb', 'muslim', 'native', 'neoklassik', 'neue',\n",
       "       'new', 'newage', 'newwave', 'nu', 'nujazz', 'numetal', 'oceania',\n",
       "       'old', 'opera', 'orchestral', 'other', 'piano', 'podcasts', 'pop',\n",
       "       'popdance', 'popelectronic', 'popeurodance', 'poprussian', 'post',\n",
       "       'posthardcore', 'postrock', 'power', 'progmetal', 'progressive',\n",
       "       'psychedelic', 'punjabi', 'punk', 'quebecois', 'ragga', 'ram',\n",
       "       'rancheras', 'rap', 'rave', 'reggae', 'reggaeton', 'regional',\n",
       "       'relax', 'religious', 'retro', 'rhythm', 'rnb', 'rnr', 'rock',\n",
       "       'rockabilly', 'rockalternative', 'rockindie', 'rockother',\n",
       "       'romance', 'roots', 'ruspop', 'rusrap', 'rusrock', 'russian',\n",
       "       'salsa', 'samba', 'scenic', 'schlager', 'self', 'sertanejo',\n",
       "       'shanson', 'shoegazing', 'showtunes', 'singer', 'ska', 'skarock',\n",
       "       'slow', 'smooth', 'soft', 'soul', 'soulful', 'sound', 'soundtrack',\n",
       "       'southern', 'specialty', 'speech', 'spiritual', 'sport',\n",
       "       'stonerrock', 'surf', 'swing', 'synthpop', 'synthrock',\n",
       "       'sängerportrait', 'tango', 'tanzorchester', 'taraftar', 'tatar',\n",
       "       'tech', 'techno', 'teen', 'thrash', 'top', 'traditional',\n",
       "       'tradjazz', 'trance', 'tribal', 'trip', 'triphop', 'tropical',\n",
       "       'türk', 'türkçe', 'ukrrock', 'unknown', 'urban', 'uzbek',\n",
       "       'variété', 'vi', 'videogame', 'vocal', 'western', 'world',\n",
       "       'worldbeat', 'ïîï', 'электроника'], dtype=object)"
      ]
     },
     "execution_count": 350,
     "metadata": {},
     "output_type": "execute_result"
    }
   ],
   "source": [
    "df.sort_values(by='genre')['genre'].unique() # Проверка на неявные дубликаты"
   ]
  },
  {
   "cell_type": "markdown",
   "metadata": {
    "id": "jz6a9-7HQUDd"
   },
   "source": [
    "**Выводы**\n",
    "\n",
    "Предобработка обнаружила три проблемы в данных:\n",
    "\n",
    "- нарушения в стиле заголовков,\n",
    "- пропущенные значения,\n",
    "- дубликаты — явные и неявные.\n",
    "\n",
    "Вы исправили заголовки, чтобы упростить работу с таблицей. Без дубликатов исследование станет более точным.\n",
    "\n",
    "Пропущенные значения вы заменили на `'unknown'`. Ещё предстоит увидеть, не повредят ли исследованию пропуски в колонке `genre`.\n",
    "\n",
    "Теперь можно перейти к проверке гипотез. "
   ]
  },
  {
   "cell_type": "markdown",
   "metadata": {
    "id": "WttZHXH0SqKk"
   },
   "source": [
    "## Проверка гипотез"
   ]
  },
  {
   "cell_type": "markdown",
   "metadata": {
    "id": "Im936VVi_Zcu"
   },
   "source": [
    "### Сравнение поведения пользователей двух столиц"
   ]
  },
  {
   "cell_type": "markdown",
   "metadata": {
    "id": "nwt_MuaL_Zcu"
   },
   "source": [
    "Первая гипотеза утверждает, что пользователи по-разному слушают музыку в Москве и Санкт-Петербурге. Проверьте это предположение по данным о трёх днях недели — понедельнике, среде и пятнице. Для этого:\n",
    "\n",
    "* Разделите пользователей Москвы и Санкт-Петербурга\n",
    "* Сравните, сколько треков послушала каждая группа пользователей в понедельник, среду и пятницу.\n"
   ]
  },
  {
   "cell_type": "markdown",
   "metadata": {
    "id": "8Dw_YMmT_Zcu"
   },
   "source": [
    "Для тренировки сначала выполните каждый из расчётов по отдельности. \n",
    "\n",
    "Оцените активность пользователей в каждом городе. Сгруппируйте данные по городу и посчитайте прослушивания в каждой группе.\n",
    "\n"
   ]
  },
  {
   "cell_type": "code",
   "execution_count": 351,
   "metadata": {
    "id": "0_Qs96oh_Zcu",
    "scrolled": false
   },
   "outputs": [
    {
     "data": {
      "text/plain": [
       "city\n",
       "Moscow              42741\n",
       "Saint-Petersburg    18512\n",
       "Name: user_id, dtype: int64"
      ]
     },
     "execution_count": 351,
     "metadata": {},
     "output_type": "execute_result"
    }
   ],
   "source": [
    "df.groupby('city')['user_id'].count() # Подсчёт прослушиваний в каждом городе"
   ]
  },
  {
   "cell_type": "markdown",
   "metadata": {
    "id": "dzli3w8o_Zcu"
   },
   "source": [
    "В Москве прослушиваний больше, чем в Петербурге. Из этого не следует, что московские пользователи чаще слушают музыку. Просто самих пользователей в Москве больше.\n",
    "\n",
    "Теперь сгруппируйте данные по дню недели и подсчитайте прослушивания в понедельник, среду и пятницу. Учтите, что в данных есть информация только о прослушиваниях только за эти дни.\n"
   ]
  },
  {
   "cell_type": "code",
   "execution_count": 352,
   "metadata": {
    "id": "uZMKjiJz_Zcu"
   },
   "outputs": [
    {
     "data": {
      "text/plain": [
       "day\n",
       "Friday       21840\n",
       "Monday       21354\n",
       "Wednesday    18059\n",
       "Name: user_id, dtype: int64"
      ]
     },
     "execution_count": 352,
     "metadata": {},
     "output_type": "execute_result"
    }
   ],
   "source": [
    "df.groupby('day')['user_id'].count() # Подсчёт прослушиваний в каждый из трёх дней"
   ]
  },
  {
   "cell_type": "markdown",
   "metadata": {
    "id": "cC2tNrlL_Zcu"
   },
   "source": [
    "В среднем пользователи из двух городов менее активны по средам. Но картина может измениться, если рассмотреть каждый город в отдельности."
   ]
  },
  {
   "cell_type": "markdown",
   "metadata": {
    "id": "POzs8bGa_Zcu"
   },
   "source": [
    "Вы видели, как работает группировка по городу и по дням недели. Теперь напишите функцию, которая объединит два эти расчёта.\n",
    "\n",
    "Создайте функцию `number_tracks()`, которая посчитает прослушивания для заданного дня и города. Ей понадобятся два параметра:\n",
    "* день недели,\n",
    "* название города.\n",
    "\n",
    "В функции сохраните в переменную строки исходной таблицы, у которых значение:\n",
    "  * в колонке `day` равно параметру `day`,\n",
    "  * в колонке `city` равно параметру `city`.\n",
    "\n",
    "Для этого примените последовательную фильтрацию с логической индексацией.\n",
    "\n",
    "Затем посчитайте значения в столбце `user_id` получившейся таблицы. Результат сохраните в новую переменную. Верните эту переменную из функции."
   ]
  },
  {
   "cell_type": "code",
   "execution_count": 353,
   "metadata": {
    "id": "Nz3GdQB1_Zcu"
   },
   "outputs": [],
   "source": [
    "def number_tracks(day, city): # <создание функции number_tracks()> # Объявляется функция с двумя параметрами: day, city.\n",
    "    track_list = df[(df['day'] == day) & (df['city'] == city)]\n",
    "    track_list_count = track_list.count()['user_id']\n",
    "    return track_list_count\n",
    "    \n",
    "# В переменной track_list сохраняются те строки таблицы df, для которых \n",
    "# значение в столбце 'day' равно параметру day и одновременно значение\n",
    "# в столбце 'city' равно параметру city (используйте последовательную фильтрацию\n",
    "# с помощью логической индексации).\n",
    "# В переменной track_list_count сохраняется число значений столбца 'user_id',\n",
    "# рассчитанное методом count() для таблицы track_list.\n",
    "# Функция возвращает число - значение track_list_count.\n",
    "\n",
    "# Функция для подсчёта прослушиваний для конкретного города и дня.\n",
    "# С помощью последовательной фильтрации с логической индексацией она \n",
    "# сначала получит из исходной таблицы строки с нужным днём,\n",
    "# затем из результата отфильтрует строки с нужным городом,\n",
    "# методом count() посчитает количество значений в колонке user_id. \n",
    "# Это количество функция вернёт в качестве результата"
   ]
  },
  {
   "cell_type": "markdown",
   "metadata": {
    "id": "ytf7xFrFJQ2r"
   },
   "source": [
    "Вызовите `number_tracks()` шесть раз, меняя значение параметров — так, чтобы получить данные для каждого города в каждый из трёх дней."
   ]
  },
  {
   "cell_type": "code",
   "execution_count": 354,
   "metadata": {
    "id": "rJcRATNQ_Zcu",
    "scrolled": true
   },
   "outputs": [
    {
     "data": {
      "text/plain": [
       "15740"
      ]
     },
     "execution_count": 354,
     "metadata": {},
     "output_type": "execute_result"
    }
   ],
   "source": [
    "number_tracks('Monday', 'Moscow') # количество прослушиваний в Москве по понедельникам"
   ]
  },
  {
   "cell_type": "code",
   "execution_count": 355,
   "metadata": {
    "id": "hq_ncZ5T_Zcu"
   },
   "outputs": [
    {
     "data": {
      "text/plain": [
       "5614"
      ]
     },
     "execution_count": 355,
     "metadata": {},
     "output_type": "execute_result"
    }
   ],
   "source": [
    "number_tracks('Monday', 'Saint-Petersburg') # количество прослушиваний в Санкт-Петербурге по понедельникам"
   ]
  },
  {
   "cell_type": "code",
   "execution_count": 356,
   "metadata": {
    "id": "_NTy2VPU_Zcu"
   },
   "outputs": [
    {
     "data": {
      "text/plain": [
       "11056"
      ]
     },
     "execution_count": 356,
     "metadata": {},
     "output_type": "execute_result"
    }
   ],
   "source": [
    "number_tracks('Wednesday', 'Moscow') # количество прослушиваний в Москве по средам"
   ]
  },
  {
   "cell_type": "code",
   "execution_count": 357,
   "metadata": {
    "id": "j2y3TAwo_Zcu"
   },
   "outputs": [
    {
     "data": {
      "text/plain": [
       "7003"
      ]
     },
     "execution_count": 357,
     "metadata": {},
     "output_type": "execute_result"
    }
   ],
   "source": [
    "number_tracks('Wednesday', 'Saint-Petersburg') # количество прослушиваний в Санкт-Петербурге по средам"
   ]
  },
  {
   "cell_type": "code",
   "execution_count": 358,
   "metadata": {
    "id": "vYDw5u_K_Zcu"
   },
   "outputs": [
    {
     "data": {
      "text/plain": [
       "15945"
      ]
     },
     "execution_count": 358,
     "metadata": {},
     "output_type": "execute_result"
    }
   ],
   "source": [
    "number_tracks('Friday', 'Moscow') # количество прослушиваний в Москве по пятницам"
   ]
  },
  {
   "cell_type": "code",
   "execution_count": 359,
   "metadata": {
    "id": "8_yzFtW3_Zcu"
   },
   "outputs": [
    {
     "data": {
      "text/plain": [
       "5895"
      ]
     },
     "execution_count": 359,
     "metadata": {},
     "output_type": "execute_result"
    }
   ],
   "source": [
    "number_tracks('Friday', 'Saint-Petersburg') # количество прослушиваний в Санкт-Петербурге по пятницам"
   ]
  },
  {
   "cell_type": "markdown",
   "metadata": {
    "id": "7QXffbO-_Zcu"
   },
   "source": [
    "Создайте c помощью конструктора `pd.DataFrame` таблицу, где\n",
    "* названия колонок — `['city', 'monday', 'wednesday', 'friday']`;\n",
    "* данные — результаты, которые вы получили с помощью `number_tracks`."
   ]
  },
  {
   "cell_type": "code",
   "execution_count": 360,
   "metadata": {
    "id": "APAcLpOr_Zcu",
    "scrolled": true
   },
   "outputs": [
    {
     "data": {
      "text/html": [
       "<div>\n",
       "<style scoped>\n",
       "    .dataframe tbody tr th:only-of-type {\n",
       "        vertical-align: middle;\n",
       "    }\n",
       "\n",
       "    .dataframe tbody tr th {\n",
       "        vertical-align: top;\n",
       "    }\n",
       "\n",
       "    .dataframe thead th {\n",
       "        text-align: right;\n",
       "    }\n",
       "</style>\n",
       "<table border=\"1\" class=\"dataframe\">\n",
       "  <thead>\n",
       "    <tr style=\"text-align: right;\">\n",
       "      <th></th>\n",
       "      <th>city</th>\n",
       "      <th>monday</th>\n",
       "      <th>wednesday</th>\n",
       "      <th>friday</th>\n",
       "    </tr>\n",
       "  </thead>\n",
       "  <tbody>\n",
       "    <tr>\n",
       "      <td>0</td>\n",
       "      <td>Moscow</td>\n",
       "      <td>15740</td>\n",
       "      <td>11056</td>\n",
       "      <td>15945</td>\n",
       "    </tr>\n",
       "    <tr>\n",
       "      <td>1</td>\n",
       "      <td>Saint-Petersburg</td>\n",
       "      <td>5614</td>\n",
       "      <td>7003</td>\n",
       "      <td>5895</td>\n",
       "    </tr>\n",
       "  </tbody>\n",
       "</table>\n",
       "</div>"
      ],
      "text/plain": [
       "               city  monday  wednesday  friday\n",
       "0            Moscow   15740      11056   15945\n",
       "1  Saint-Petersburg    5614       7003    5895"
      ]
     },
     "metadata": {},
     "output_type": "display_data"
    }
   ],
   "source": [
    "column_names = ['city', 'monday', 'wednesday', 'friday']\n",
    "data_tracks = [['Moscow', 15740, 11056, 15945], ['Saint-Petersburg', 5614, 7003, 5895]]\n",
    "city_day_list = pd.DataFrame(data=data_tracks, columns=column_names)\n",
    "display (city_day_list)\n",
    "# Таблица с результатами"
   ]
  },
  {
   "cell_type": "markdown",
   "metadata": {
    "id": "-EgPIHYu_Zcu"
   },
   "source": [
    "**Выводы**\n",
    "\n",
    "Данные показывают разницу поведения пользователей:\n",
    "\n",
    "- В Москве пик прослушиваний приходится на понедельник и пятницу, а в среду заметен спад.\n",
    "- В Петербурге, наоборот, больше слушают музыку по средам. Активность в понедельник и пятницу здесь почти в равной мере уступает среде.\n",
    "\n",
    "Значит, данные говорят в пользу первой гипотезы."
   ]
  },
  {
   "cell_type": "markdown",
   "metadata": {
    "id": "atZAxtq4_Zcu"
   },
   "source": [
    "### Музыка в начале и в конце недели"
   ]
  },
  {
   "cell_type": "markdown",
   "metadata": {
    "id": "eXrQqXFH_Zcu"
   },
   "source": [
    "Согласно второй гипотезе, утром в понедельник в Москве преобладают одни жанры, а в Петербурге — другие. Так же и вечером пятницы преобладают разные жанры — в зависимости от города."
   ]
  },
  {
   "cell_type": "markdown",
   "metadata": {
    "id": "S8UcW6Hw_Zcu"
   },
   "source": [
    "Сохраните таблицы с данными в две переменные:\n",
    "* по Москве — в `moscow_general`;\n",
    "* по Санкт-Петербургу — в `spb_general`."
   ]
  },
  {
   "cell_type": "code",
   "execution_count": 361,
   "metadata": {
    "id": "qeaFfM_P_Zcu"
   },
   "outputs": [],
   "source": [
    "moscow_general = df.loc [df.loc [:, 'city'] == 'Moscow']\n",
    "# получение таблицы moscow_general из тех строк таблицы df, \n",
    "# для которых значение в столбце 'city' равно 'Moscow'\n"
   ]
  },
  {
   "cell_type": "code",
   "execution_count": 362,
   "metadata": {
    "id": "ORaVRKto_Zcu"
   },
   "outputs": [],
   "source": [
    "spb_general = df.loc [df.loc [:, 'city'] == 'Saint-Petersburg']\n",
    "# получение таблицы spb_general из тех строк таблицы df,\n",
    "# для которых значение в столбце 'city' равно 'Saint-Petersburg'\n"
   ]
  },
  {
   "cell_type": "markdown",
   "metadata": {
    "id": "MEJV-CX2_Zcu"
   },
   "source": [
    "Создайте функцию `genre_weekday()` с четырьмя параметрами:\n",
    "* таблица (датафрейм) с данными,\n",
    "* день недели,\n",
    "* начальная временная метка в формате 'hh:mm', \n",
    "* последняя временная метка в формате 'hh:mm'.\n",
    "\n",
    "Функция должна вернуть информацию о топ-10 жанров тех треков, которые прослушивали в указанный день, в промежутке между двумя отметками времени."
   ]
  },
  {
   "cell_type": "code",
   "execution_count": 363,
   "metadata": {
    "id": "laJT9BYl_Zcu"
   },
   "outputs": [],
   "source": [
    "def genre_weekday(table, day, time1, time2):\n",
    "    genre_df = table[(table['day'] == day) & (table['time'] > time1) & (table['time'] < time2)]\n",
    "    genre_df_count = genre_df.groupby('genre')['user_id'].count()\n",
    "    genre_df_sorted = genre_df_count.sort_values(ascending=False)\n",
    "    return genre_df_sorted.head(10)    \n",
    "# Объявление функции genre_weekday() с параметрами table, day, time1, time2,\n",
    "# которая возвращает информацию о самых популярных жанрах в указанный день в\n",
    "# заданное время:\n",
    "# 1) в переменную genre_df сохраняются те строки переданного датафрейма table, для\n",
    "#    которых одновременно:\n",
    "#    - значение в столбце day равно значению аргумента day\n",
    "#    - значение в столбце time больше значения аргумента time1\n",
    "#    - значение в столбце time меньше значения аргумента time2\n",
    "#    Используйте последовательную фильтрацию с помощью логической индексации.\n",
    "# 2) сгруппировать датафрейм genre_df по столбцу genre, взять один из его\n",
    "#    столбцов и посчитать методом count() количество записей для каждого из\n",
    "#    присутствующих жанров, получившийся Series записать в переменную\n",
    "#    genre_df_count\n",
    "# 3) отсортировать genre_df_count по убыванию встречаемости и сохранить\n",
    "#    в переменную genre_df_sorted\n",
    "# 4) вернуть Series из 10 первых значений genre_df_sorted, это будут топ-10\n",
    "#    популярных жанров (в указанный день, в заданное время)"
   ]
  },
  {
   "cell_type": "markdown",
   "metadata": {
    "id": "la2s2_PF_Zcu"
   },
   "source": [
    "Cравните результаты функции `genre_weekday()` для Москвы и Санкт-Петербурга в понедельник утром (с 7:00 до 11:00) и в пятницу вечером (с 17:00 до 23:00):"
   ]
  },
  {
   "cell_type": "code",
   "execution_count": 364,
   "metadata": {
    "id": "yz7itPUQ_Zcu",
    "scrolled": false
   },
   "outputs": [
    {
     "data": {
      "text/plain": [
       "genre\n",
       "pop            781\n",
       "dance          549\n",
       "electronic     480\n",
       "rock           474\n",
       "hiphop         286\n",
       "ruspop         186\n",
       "world          181\n",
       "rusrap         175\n",
       "alternative    164\n",
       "unknown        161\n",
       "Name: user_id, dtype: int64"
      ]
     },
     "execution_count": 364,
     "metadata": {},
     "output_type": "execute_result"
    }
   ],
   "source": [
    "genre_weekday(moscow_general, 'Monday', '07:00', '11:00')\n",
    "# вызов функции для утра понедельника в Москве (вместо df — таблица moscow_general)\n",
    "# объекты, хранящие время, являются строками и сравниваются как строки\n",
    "# пример вызова: genre_weekday(moscow_general, 'Monday', '07:00', '11:00')"
   ]
  },
  {
   "cell_type": "code",
   "execution_count": 365,
   "metadata": {
    "id": "kwUcHPdy_Zcu",
    "scrolled": true
   },
   "outputs": [
    {
     "data": {
      "text/plain": [
       "genre\n",
       "pop            218\n",
       "dance          182\n",
       "rock           162\n",
       "electronic     147\n",
       "hiphop          80\n",
       "ruspop          64\n",
       "alternative     58\n",
       "rusrap          55\n",
       "jazz            44\n",
       "classical       40\n",
       "Name: user_id, dtype: int64"
      ]
     },
     "execution_count": 365,
     "metadata": {},
     "output_type": "execute_result"
    }
   ],
   "source": [
    "genre_weekday(spb_general, 'Monday', '07:00', '11:00')# вызов функции для утра понедельника в Петербурге (вместо df — таблица spb_general)"
   ]
  },
  {
   "cell_type": "code",
   "execution_count": null,
   "metadata": {},
   "outputs": [],
   "source": []
  },
  {
   "cell_type": "code",
   "execution_count": 366,
   "metadata": {
    "id": "EzXVRE1o_Zcu",
    "scrolled": true
   },
   "outputs": [
    {
     "data": {
      "text/plain": [
       "genre\n",
       "pop            713\n",
       "rock           517\n",
       "dance          495\n",
       "electronic     482\n",
       "hiphop         273\n",
       "world          208\n",
       "ruspop         170\n",
       "alternative    163\n",
       "classical      163\n",
       "rusrap         142\n",
       "Name: user_id, dtype: int64"
      ]
     },
     "execution_count": 366,
     "metadata": {},
     "output_type": "execute_result"
    }
   ],
   "source": [
    "genre_weekday(moscow_general, 'Friday', '17:00', '23:00') # вызов функции для вечера пятницы в Москве"
   ]
  },
  {
   "cell_type": "code",
   "execution_count": 367,
   "metadata": {
    "id": "JZaEKu5v_Zcu",
    "scrolled": true
   },
   "outputs": [
    {
     "data": {
      "text/plain": [
       "genre\n",
       "pop            256\n",
       "rock           216\n",
       "electronic     216\n",
       "dance          210\n",
       "hiphop          97\n",
       "alternative     63\n",
       "jazz            61\n",
       "classical       60\n",
       "rusrap          59\n",
       "world           54\n",
       "Name: user_id, dtype: int64"
      ]
     },
     "execution_count": 367,
     "metadata": {},
     "output_type": "execute_result"
    }
   ],
   "source": [
    "genre_weekday(spb_general, 'Friday', '17:00', '23:00')# вызов функции для вечера пятницы в Петербурге"
   ]
  },
  {
   "cell_type": "markdown",
   "metadata": {
    "id": "wrCe4MNX_Zcu"
   },
   "source": [
    "**Выводы**\n",
    "\n",
    "Если сравнить топ-10 жанров в понедельник утром, можно сделать такие выводы:\n",
    "\n",
    "1. В Москве и Петербурге слушают похожую музыку. Единственное отличие — в московский рейтинг вошёл жанр “world”, а в петербургский — джаз и классика.\n",
    "\n",
    "2. В Москве пропущенных значений оказалось так много, что значение `'unknown'` заняло десятое место среди самых популярных жанров. Значит, пропущенные значения занимают существенную долю в данных и угрожают достоверности исследования.\n",
    "\n",
    "Вечер пятницы не меняет эту картину. Некоторые жанры поднимаются немного выше, другие спускаются, но в целом топ-10 остаётся тем же самым.\n",
    "\n",
    "Таким образом, вторая гипотеза подтвердилась лишь частично:\n",
    "* Пользователи слушают похожую музыку в начале недели и в конце.\n",
    "* Разница между Москвой и Петербургом не слишком выражена. В Москве чаще слушают русскую популярную музыку, в Петербурге — джаз.\n",
    "\n",
    "Однако пропуски в данных ставят под сомнение этот результат. В Москве их так много, что рейтинг топ-10 мог бы выглядеть иначе, если бы не утерянные  данные о жанрах."
   ]
  },
  {
   "cell_type": "markdown",
   "metadata": {
    "id": "JolODAqr_Zcu"
   },
   "source": [
    "### Жанровые предпочтения в Москве и Петербурге\n",
    "\n",
    "Гипотеза: Петербург — столица рэпа, музыку этого жанра там слушают чаще, чем в Москве.  А Москва — город контрастов, в котором, тем не менее, преобладает поп-музыка."
   ]
  },
  {
   "cell_type": "markdown",
   "metadata": {
    "id": "DlegSvaT_Zcu"
   },
   "source": [
    "Сгруппируйте таблицу `moscow_general` по жанру и посчитайте прослушивания треков каждого жанра методом `count()`. Затем отсортируйте результат в порядке убывания и сохраните его в таблице `moscow_genres`."
   ]
  },
  {
   "cell_type": "code",
   "execution_count": 368,
   "metadata": {
    "id": "r19lIPke_Zcu",
    "scrolled": true
   },
   "outputs": [],
   "source": [
    "moscow_genres = moscow_general.groupby('genre')['user_id'].count().sort_values(ascending=False)\n",
    "# одной строкой: группировка таблицы moscow_general по столбцу 'genre', \n",
    "# подсчёт числа значений 'genre' в этой группировке методом count(), \n",
    "# сортировка получившегося Series в порядке убывания и сохранение в moscow_genres"
   ]
  },
  {
   "cell_type": "markdown",
   "metadata": {
    "id": "6kMuomxTiIr8"
   },
   "source": [
    "Выведите на экран первые десять строк `moscow_genres`:"
   ]
  },
  {
   "cell_type": "code",
   "execution_count": 369,
   "metadata": {
    "id": "WhCSooF8_Zcv",
    "scrolled": true
   },
   "outputs": [
    {
     "data": {
      "text/plain": [
       "genre\n",
       "pop            5892\n",
       "dance          4435\n",
       "rock           3965\n",
       "electronic     3786\n",
       "hiphop         2096\n",
       "classical      1616\n",
       "world          1432\n",
       "alternative    1379\n",
       "ruspop         1372\n",
       "rusrap         1161\n",
       "Name: user_id, dtype: int64"
      ]
     },
     "execution_count": 369,
     "metadata": {},
     "output_type": "execute_result"
    }
   ],
   "source": [
    "moscow_genres.head(10)# просмотр первых 10 строк moscow_genres"
   ]
  },
  {
   "cell_type": "markdown",
   "metadata": {
    "id": "cnPG2vnN_Zcv"
   },
   "source": [
    "Теперь повторите то же и для Петербурга.\n",
    "\n",
    "Сгруппируйте таблицу `spb_general` по жанру. Посчитайте прослушивания треков каждого жанра. Результат отсортируйте в порядке убывания и сохраните в таблице `spb_genres`:\n"
   ]
  },
  {
   "cell_type": "code",
   "execution_count": 370,
   "metadata": {
    "id": "gluLIpE7_Zcv"
   },
   "outputs": [],
   "source": [
    "spb_genres = spb_general.groupby('genre')['user_id'].count().sort_values(ascending=False)\n",
    "# одной строкой: группировка таблицы spb_general по столбцу 'genre', \n",
    "# подсчёт числа значений 'genre' в этой группировке методом count(), \n",
    "# сортировка получившегося Series в порядке убывания и сохранение в spb_genres"
   ]
  },
  {
   "cell_type": "markdown",
   "metadata": {
    "id": "5Doha_ODgyQ8"
   },
   "source": [
    "Выведите на экран первые десять строк `spb_genres`:"
   ]
  },
  {
   "cell_type": "code",
   "execution_count": 371,
   "metadata": {
    "id": "uaGJHjVU_Zcv",
    "scrolled": true
   },
   "outputs": [
    {
     "data": {
      "text/plain": [
       "genre\n",
       "pop            2431\n",
       "dance          1932\n",
       "rock           1879\n",
       "electronic     1736\n",
       "hiphop          960\n",
       "alternative     649\n",
       "classical       646\n",
       "rusrap          564\n",
       "ruspop          538\n",
       "world           515\n",
       "Name: user_id, dtype: int64"
      ]
     },
     "execution_count": 371,
     "metadata": {},
     "output_type": "execute_result"
    }
   ],
   "source": [
    "spb_genres.head(10) # просмотр первых 10 строк spb_genres"
   ]
  },
  {
   "cell_type": "markdown",
   "metadata": {
    "id": "RY51YJYu_Zcv"
   },
   "source": [
    "**Выводы**"
   ]
  },
  {
   "cell_type": "markdown",
   "metadata": {
    "id": "nVhnJEm__Zcv"
   },
   "source": [
    "Гипотеза частично подтвердилась:\n",
    "* Поп-музыка — самый популярный жанр в Москве, как и предполагала гипотеза. Более того, в топ-10 жанров встречается близкий жанр — русская популярная музыка.\n",
    "* Вопреки ожиданиям, рэп одинаково популярен в Москве и Петербурге. \n"
   ]
  },
  {
   "cell_type": "markdown",
   "metadata": {
    "id": "ykKQ0N65_Zcv"
   },
   "source": [
    "## Итоги исследования"
   ]
  },
  {
   "cell_type": "markdown",
   "metadata": {
    "id": "tjUwbHb3_Zcv"
   },
   "source": [
    "Вы проверили три гипотезы и установили:\n",
    "\n",
    "1. День недели по-разному влияет на активность пользователей в Москве и Петербурге. \n",
    "\n",
    "Первая гипотеза полностью подтвердилась.\n",
    "\n",
    "2. Музыкальные предпочтения не сильно меняются в течение недели — будь то Москва или Петербург. Небольшие различия заметны в начале недели, по понедельникам:\n",
    "* в Москве слушают музыку жанра “world”,\n",
    "* в Петербурге — джаз и классику.\n",
    "\n",
    "Таким образом, вторая гипотеза подтвердилась лишь отчасти. Этот результат мог оказаться иным, если бы не пропуски в данных.\n",
    "\n",
    "3. Во вкусах пользователей Москвы и Петербурга больше общего чем различий. Вопреки ожиданиям, предпочтения жанров в Петербурге напоминают московские.\n",
    "\n",
    "Третья гипотеза не подтвердилась. Если различия в предпочтениях и существуют, на основной массе пользователей они незаметны.\n",
    "\n",
    "**На практике исследования содержат проверки статистических гипотез.**\n",
    "Из данных одного сервиса не всегда можно сделать вывод о всех жителях города.\n",
    "Проверки статистических гипотез покажут, насколько они достоверны, исходя из имеющихся данных. \n",
    "С методами проверок гипотез вы ещё познакомитесь в следующих темах."
   ]
  }
 ],
 "metadata": {
  "ExecuteTimeLog": [
   {
    "duration": 469,
    "start_time": "2022-02-14T15:36:21.122Z"
   },
   {
    "duration": 397,
    "start_time": "2022-02-14T15:36:28.512Z"
   },
   {
    "duration": 785,
    "start_time": "2022-02-14T15:37:05.293Z"
   },
   {
    "duration": 176,
    "start_time": "2022-02-14T15:37:15.124Z"
   },
   {
    "duration": 3,
    "start_time": "2022-02-14T15:38:01.204Z"
   },
   {
    "duration": 189,
    "start_time": "2022-02-14T15:38:08.913Z"
   },
   {
    "duration": 25,
    "start_time": "2022-02-14T15:39:07.353Z"
   },
   {
    "duration": 33,
    "start_time": "2022-02-14T15:39:46.224Z"
   },
   {
    "duration": 5,
    "start_time": "2022-02-14T15:51:38.756Z"
   },
   {
    "duration": 817,
    "start_time": "2022-02-14T15:54:27.665Z"
   },
   {
    "duration": 24,
    "start_time": "2022-02-14T15:57:13.666Z"
   },
   {
    "duration": 22,
    "start_time": "2022-02-14T15:57:19.095Z"
   },
   {
    "duration": 5,
    "start_time": "2022-02-14T15:58:31.148Z"
   },
   {
    "duration": 28,
    "start_time": "2022-02-14T16:00:56.043Z"
   },
   {
    "duration": 5,
    "start_time": "2022-02-14T16:01:50.307Z"
   },
   {
    "duration": 418,
    "start_time": "2022-02-14T16:10:20.199Z"
   },
   {
    "duration": 320,
    "start_time": "2022-02-14T16:12:11.078Z"
   },
   {
    "duration": 105,
    "start_time": "2022-02-14T16:21:04.602Z"
   },
   {
    "duration": 319,
    "start_time": "2022-02-14T16:21:58.815Z"
   },
   {
    "duration": 4,
    "start_time": "2022-02-14T16:27:36.935Z"
   },
   {
    "duration": 29,
    "start_time": "2022-02-14T16:30:38.573Z"
   },
   {
    "duration": 30,
    "start_time": "2022-02-14T16:31:16.842Z"
   },
   {
    "duration": 5,
    "start_time": "2022-02-14T16:31:55.812Z"
   },
   {
    "duration": 82,
    "start_time": "2022-02-14T16:33:20.370Z"
   },
   {
    "duration": 100,
    "start_time": "2022-02-14T16:34:57.823Z"
   },
   {
    "duration": 72,
    "start_time": "2022-02-14T16:35:11.994Z"
   },
   {
    "duration": 7,
    "start_time": "2022-02-14T16:37:56.722Z"
   },
   {
    "duration": 6,
    "start_time": "2022-02-14T16:39:15.274Z"
   },
   {
    "duration": 57,
    "start_time": "2022-02-14T16:44:48.615Z"
   },
   {
    "duration": 6,
    "start_time": "2022-02-14T16:45:08.052Z"
   },
   {
    "duration": 4052,
    "start_time": "2022-02-14T16:46:40.783Z"
   },
   {
    "duration": 8,
    "start_time": "2022-02-14T16:47:05.303Z"
   },
   {
    "duration": 4,
    "start_time": "2022-02-14T16:56:03.432Z"
   },
   {
    "duration": 13,
    "start_time": "2022-02-14T16:57:51.987Z"
   },
   {
    "duration": 7,
    "start_time": "2022-02-14T16:58:27.555Z"
   },
   {
    "duration": 470,
    "start_time": "2022-02-14T17:01:23.615Z"
   },
   {
    "duration": 4,
    "start_time": "2022-02-14T17:11:46.119Z"
   },
   {
    "duration": 477,
    "start_time": "2022-02-14T17:12:19.344Z"
   },
   {
    "duration": 14,
    "start_time": "2022-02-14T17:12:34.122Z"
   },
   {
    "duration": 51,
    "start_time": "2022-02-14T17:13:16.172Z"
   },
   {
    "duration": 7,
    "start_time": "2022-02-14T17:13:59.440Z"
   },
   {
    "duration": 12,
    "start_time": "2022-02-14T17:14:21.593Z"
   },
   {
    "duration": -114,
    "start_time": "2022-02-14T17:20:11.104Z"
   },
   {
    "duration": 4242,
    "start_time": "2022-02-14T17:20:32.296Z"
   },
   {
    "duration": 4085,
    "start_time": "2022-02-14T17:23:24.934Z"
   },
   {
    "duration": 3,
    "start_time": "2022-02-14T17:24:26.272Z"
   },
   {
    "duration": 4,
    "start_time": "2022-02-14T17:29:29.900Z"
   },
   {
    "duration": 4596,
    "start_time": "2022-02-14T17:30:43.011Z"
   },
   {
    "duration": 537,
    "start_time": "2022-02-16T15:24:26.394Z"
   },
   {
    "duration": 126,
    "start_time": "2022-02-16T15:24:33.421Z"
   },
   {
    "duration": 7,
    "start_time": "2022-02-16T15:24:54.022Z"
   },
   {
    "duration": 28,
    "start_time": "2022-02-16T15:28:50.345Z"
   },
   {
    "duration": 24,
    "start_time": "2022-02-16T15:31:54.092Z"
   },
   {
    "duration": 21,
    "start_time": "2022-02-16T15:32:03.020Z"
   },
   {
    "duration": 21,
    "start_time": "2022-02-16T15:35:11.011Z"
   },
   {
    "duration": 4,
    "start_time": "2022-02-16T15:37:20.446Z"
   },
   {
    "duration": 17,
    "start_time": "2022-02-16T15:37:55.006Z"
   },
   {
    "duration": 4,
    "start_time": "2022-02-16T15:38:43.025Z"
   },
   {
    "duration": 364,
    "start_time": "2022-02-16T15:39:07.438Z"
   },
   {
    "duration": 344,
    "start_time": "2022-02-16T15:39:20.020Z"
   },
   {
    "duration": 291,
    "start_time": "2022-02-16T15:39:27.282Z"
   },
   {
    "duration": 20,
    "start_time": "2022-02-16T15:40:08.420Z"
   },
   {
    "duration": 21,
    "start_time": "2022-02-16T15:40:23.068Z"
   },
   {
    "duration": 2,
    "start_time": "2022-02-16T15:44:00.465Z"
   },
   {
    "duration": 21,
    "start_time": "2022-02-16T15:44:03.517Z"
   },
   {
    "duration": 22,
    "start_time": "2022-02-16T15:44:40.695Z"
   },
   {
    "duration": 57,
    "start_time": "2022-02-16T17:28:59.999Z"
   },
   {
    "duration": 50,
    "start_time": "2022-02-16T17:29:28.099Z"
   },
   {
    "duration": 48,
    "start_time": "2022-02-16T17:30:57.385Z"
   },
   {
    "duration": 56,
    "start_time": "2022-02-16T17:30:57.435Z"
   },
   {
    "duration": 57,
    "start_time": "2022-02-16T17:30:57.493Z"
   },
   {
    "duration": 2,
    "start_time": "2022-02-16T17:30:57.552Z"
   },
   {
    "duration": 5,
    "start_time": "2022-02-16T17:30:57.556Z"
   },
   {
    "duration": 4,
    "start_time": "2022-02-16T17:30:57.563Z"
   },
   {
    "duration": 6,
    "start_time": "2022-02-16T17:30:57.569Z"
   },
   {
    "duration": 4,
    "start_time": "2022-02-16T17:30:57.577Z"
   },
   {
    "duration": 6,
    "start_time": "2022-02-16T17:30:57.583Z"
   },
   {
    "duration": 6,
    "start_time": "2022-02-16T17:30:57.590Z"
   },
   {
    "duration": 4,
    "start_time": "2022-02-16T17:30:57.598Z"
   },
   {
    "duration": 9,
    "start_time": "2022-02-16T17:30:57.604Z"
   },
   {
    "duration": 11,
    "start_time": "2022-02-16T17:30:57.615Z"
   },
   {
    "duration": 8,
    "start_time": "2022-02-16T17:30:57.627Z"
   },
   {
    "duration": 13,
    "start_time": "2022-02-16T17:30:57.636Z"
   },
   {
    "duration": 5,
    "start_time": "2022-02-16T17:30:57.651Z"
   },
   {
    "duration": 11,
    "start_time": "2022-02-16T17:30:57.657Z"
   },
   {
    "duration": 9,
    "start_time": "2022-02-16T17:30:57.670Z"
   },
   {
    "duration": 5,
    "start_time": "2022-02-16T17:30:57.681Z"
   },
   {
    "duration": 8,
    "start_time": "2022-02-16T17:30:57.687Z"
   },
   {
    "duration": 4,
    "start_time": "2022-02-16T17:30:57.697Z"
   },
   {
    "duration": 7,
    "start_time": "2022-02-16T17:30:57.703Z"
   },
   {
    "duration": 6,
    "start_time": "2022-02-16T17:30:57.712Z"
   },
   {
    "duration": 5,
    "start_time": "2022-02-16T17:30:57.719Z"
   },
   {
    "duration": 5,
    "start_time": "2022-02-16T17:30:57.726Z"
   },
   {
    "duration": 6,
    "start_time": "2022-02-16T17:30:57.733Z"
   },
   {
    "duration": 9,
    "start_time": "2022-02-16T17:30:57.741Z"
   },
   {
    "duration": 47,
    "start_time": "2022-02-16T17:43:27.578Z"
   },
   {
    "duration": 48,
    "start_time": "2022-02-16T17:46:44.276Z"
   },
   {
    "duration": 2,
    "start_time": "2022-02-16T17:47:42.733Z"
   },
   {
    "duration": 4,
    "start_time": "2022-02-16T17:47:45.532Z"
   },
   {
    "duration": 9,
    "start_time": "2022-02-16T17:49:39.314Z"
   },
   {
    "duration": 47,
    "start_time": "2022-02-16T17:50:19.593Z"
   },
   {
    "duration": 3,
    "start_time": "2022-02-16T17:50:19.641Z"
   },
   {
    "duration": 12,
    "start_time": "2022-02-16T17:50:19.645Z"
   },
   {
    "duration": 44,
    "start_time": "2022-02-16T17:50:19.658Z"
   },
   {
    "duration": 2,
    "start_time": "2022-02-16T17:50:19.703Z"
   },
   {
    "duration": 5,
    "start_time": "2022-02-16T17:50:19.707Z"
   },
   {
    "duration": 4,
    "start_time": "2022-02-16T17:50:19.713Z"
   },
   {
    "duration": 4,
    "start_time": "2022-02-16T17:50:19.719Z"
   },
   {
    "duration": 2,
    "start_time": "2022-02-16T17:50:19.745Z"
   },
   {
    "duration": 5,
    "start_time": "2022-02-16T17:50:19.748Z"
   },
   {
    "duration": 3,
    "start_time": "2022-02-16T17:50:19.755Z"
   },
   {
    "duration": 5,
    "start_time": "2022-02-16T17:50:19.760Z"
   },
   {
    "duration": 9,
    "start_time": "2022-02-16T17:50:19.766Z"
   },
   {
    "duration": 7,
    "start_time": "2022-02-16T17:50:19.776Z"
   },
   {
    "duration": 5,
    "start_time": "2022-02-16T17:50:19.784Z"
   },
   {
    "duration": 4,
    "start_time": "2022-02-16T17:50:19.790Z"
   },
   {
    "duration": 5,
    "start_time": "2022-02-16T17:50:19.795Z"
   },
   {
    "duration": 5,
    "start_time": "2022-02-16T17:50:19.801Z"
   },
   {
    "duration": 3,
    "start_time": "2022-02-16T17:50:19.808Z"
   },
   {
    "duration": 5,
    "start_time": "2022-02-16T17:50:19.813Z"
   },
   {
    "duration": 4,
    "start_time": "2022-02-16T17:50:19.826Z"
   },
   {
    "duration": 4,
    "start_time": "2022-02-16T17:50:19.831Z"
   },
   {
    "duration": 2,
    "start_time": "2022-02-16T17:50:19.845Z"
   },
   {
    "duration": 4,
    "start_time": "2022-02-16T17:50:19.849Z"
   },
   {
    "duration": 4,
    "start_time": "2022-02-16T17:50:19.854Z"
   },
   {
    "duration": 3,
    "start_time": "2022-02-16T17:51:30.959Z"
   },
   {
    "duration": 136,
    "start_time": "2022-02-16T17:51:30.965Z"
   },
   {
    "duration": 9,
    "start_time": "2022-02-16T17:51:31.103Z"
   },
   {
    "duration": 43,
    "start_time": "2022-02-16T17:51:31.114Z"
   },
   {
    "duration": 4,
    "start_time": "2022-02-16T17:51:31.159Z"
   },
   {
    "duration": 25,
    "start_time": "2022-02-16T17:51:31.164Z"
   },
   {
    "duration": 4,
    "start_time": "2022-02-16T17:51:31.190Z"
   },
   {
    "duration": 24,
    "start_time": "2022-02-16T17:51:31.196Z"
   },
   {
    "duration": 5,
    "start_time": "2022-02-16T17:51:31.222Z"
   },
   {
    "duration": 35,
    "start_time": "2022-02-16T17:51:31.228Z"
   },
   {
    "duration": 22,
    "start_time": "2022-02-16T17:51:31.265Z"
   },
   {
    "duration": 63,
    "start_time": "2022-02-16T17:51:31.288Z"
   },
   {
    "duration": 53,
    "start_time": "2022-02-16T17:51:31.352Z"
   },
   {
    "duration": 56,
    "start_time": "2022-02-16T17:51:31.407Z"
   },
   {
    "duration": 44,
    "start_time": "2022-02-16T17:51:31.464Z"
   },
   {
    "duration": 3,
    "start_time": "2022-02-16T17:51:31.509Z"
   },
   {
    "duration": 15,
    "start_time": "2022-02-16T17:51:31.513Z"
   },
   {
    "duration": 55,
    "start_time": "2022-02-16T17:51:31.529Z"
   },
   {
    "duration": 2,
    "start_time": "2022-02-16T17:51:31.585Z"
   },
   {
    "duration": 9,
    "start_time": "2022-02-16T17:51:31.589Z"
   },
   {
    "duration": 4,
    "start_time": "2022-02-16T17:51:31.599Z"
   },
   {
    "duration": 9,
    "start_time": "2022-02-16T17:51:31.605Z"
   },
   {
    "duration": 5,
    "start_time": "2022-02-16T17:51:31.616Z"
   },
   {
    "duration": 4,
    "start_time": "2022-02-16T17:51:31.623Z"
   },
   {
    "duration": 4,
    "start_time": "2022-02-16T17:51:31.628Z"
   },
   {
    "duration": 12,
    "start_time": "2022-02-16T17:51:31.634Z"
   },
   {
    "duration": 9,
    "start_time": "2022-02-16T17:51:31.647Z"
   },
   {
    "duration": 8,
    "start_time": "2022-02-16T17:51:31.657Z"
   },
   {
    "duration": 9,
    "start_time": "2022-02-16T17:51:31.667Z"
   },
   {
    "duration": 5,
    "start_time": "2022-02-16T17:51:31.678Z"
   },
   {
    "duration": 5,
    "start_time": "2022-02-16T17:51:31.684Z"
   },
   {
    "duration": 9,
    "start_time": "2022-02-16T17:51:31.690Z"
   },
   {
    "duration": 5,
    "start_time": "2022-02-16T17:51:31.700Z"
   },
   {
    "duration": 9,
    "start_time": "2022-02-16T17:51:31.707Z"
   },
   {
    "duration": 4,
    "start_time": "2022-02-16T17:51:31.717Z"
   },
   {
    "duration": 8,
    "start_time": "2022-02-16T17:51:31.723Z"
   },
   {
    "duration": 6,
    "start_time": "2022-02-16T17:51:31.732Z"
   },
   {
    "duration": 4,
    "start_time": "2022-02-16T17:51:31.739Z"
   },
   {
    "duration": 11,
    "start_time": "2022-02-16T17:51:31.744Z"
   },
   {
    "duration": 29,
    "start_time": "2022-02-16T18:04:27.558Z"
   },
   {
    "duration": 29,
    "start_time": "2022-02-16T18:06:25.357Z"
   },
   {
    "duration": 101,
    "start_time": "2022-02-16T18:18:15.844Z"
   },
   {
    "duration": 3,
    "start_time": "2022-02-16T18:18:31.993Z"
   },
   {
    "duration": 329,
    "start_time": "2022-02-16T18:19:14.228Z"
   },
   {
    "duration": 582,
    "start_time": "2022-02-16T18:19:34.009Z"
   },
   {
    "duration": 3,
    "start_time": "2022-02-16T18:19:58.164Z"
   },
   {
    "duration": 137,
    "start_time": "2022-02-16T18:19:58.171Z"
   },
   {
    "duration": 9,
    "start_time": "2022-02-16T18:19:58.310Z"
   },
   {
    "duration": 36,
    "start_time": "2022-02-16T18:19:58.321Z"
   },
   {
    "duration": 3,
    "start_time": "2022-02-16T18:19:58.359Z"
   },
   {
    "duration": 12,
    "start_time": "2022-02-16T18:19:58.364Z"
   },
   {
    "duration": 5,
    "start_time": "2022-02-16T18:19:58.377Z"
   },
   {
    "duration": 22,
    "start_time": "2022-02-16T18:19:58.384Z"
   },
   {
    "duration": 2,
    "start_time": "2022-02-16T18:19:58.409Z"
   },
   {
    "duration": 50,
    "start_time": "2022-02-16T18:19:58.413Z"
   },
   {
    "duration": 19,
    "start_time": "2022-02-16T18:19:58.464Z"
   },
   {
    "duration": 63,
    "start_time": "2022-02-16T18:19:58.485Z"
   },
   {
    "duration": 57,
    "start_time": "2022-02-16T18:19:58.550Z"
   },
   {
    "duration": 57,
    "start_time": "2022-02-16T18:19:58.609Z"
   },
   {
    "duration": 45,
    "start_time": "2022-02-16T18:19:58.668Z"
   },
   {
    "duration": 3,
    "start_time": "2022-02-16T18:19:58.714Z"
   },
   {
    "duration": 11,
    "start_time": "2022-02-16T18:19:58.719Z"
   },
   {
    "duration": 47,
    "start_time": "2022-02-16T18:19:58.746Z"
   },
   {
    "duration": 30,
    "start_time": "2022-02-16T18:19:58.794Z"
   },
   {
    "duration": 46,
    "start_time": "2022-02-16T18:19:58.826Z"
   },
   {
    "duration": 88,
    "start_time": "2022-02-16T18:21:27.853Z"
   },
   {
    "duration": 4,
    "start_time": "2022-02-16T18:23:25.064Z"
   },
   {
    "duration": 3,
    "start_time": "2022-02-16T18:23:30.358Z"
   },
   {
    "duration": 315,
    "start_time": "2022-02-16T18:24:14.803Z"
   },
   {
    "duration": 654,
    "start_time": "2022-02-16T18:28:23.764Z"
   },
   {
    "duration": 390,
    "start_time": "2022-02-16T18:45:24.696Z"
   },
   {
    "duration": 281,
    "start_time": "2022-02-16T18:49:16.531Z"
   },
   {
    "duration": 278,
    "start_time": "2022-02-16T18:50:11.704Z"
   },
   {
    "duration": 5,
    "start_time": "2022-02-16T18:52:21.905Z"
   },
   {
    "duration": 5,
    "start_time": "2022-02-16T18:52:25.335Z"
   },
   {
    "duration": 5,
    "start_time": "2022-02-16T18:52:31.866Z"
   },
   {
    "duration": 120,
    "start_time": "2022-02-16T19:02:06.414Z"
   },
   {
    "duration": 11,
    "start_time": "2022-02-16T19:02:23.862Z"
   },
   {
    "duration": 5,
    "start_time": "2022-02-17T15:32:37.276Z"
   },
   {
    "duration": 6,
    "start_time": "2022-02-17T15:32:45.089Z"
   },
   {
    "duration": 6,
    "start_time": "2022-02-17T15:32:47.962Z"
   },
   {
    "duration": 5,
    "start_time": "2022-02-17T15:32:55.034Z"
   },
   {
    "duration": 1362,
    "start_time": "2022-02-17T15:33:18.553Z"
   },
   {
    "duration": 7,
    "start_time": "2022-02-17T15:39:29.026Z"
   },
   {
    "duration": 3495,
    "start_time": "2022-02-17T15:40:30.636Z"
   },
   {
    "duration": 5,
    "start_time": "2022-02-17T15:45:52.824Z"
   },
   {
    "duration": 1623,
    "start_time": "2022-02-17T15:45:57.550Z"
   },
   {
    "duration": 6,
    "start_time": "2022-02-17T15:46:20.417Z"
   },
   {
    "duration": 782,
    "start_time": "2022-02-17T15:46:33.500Z"
   },
   {
    "duration": 195,
    "start_time": "2022-02-17T15:46:34.284Z"
   },
   {
    "duration": 35,
    "start_time": "2022-02-17T15:46:34.482Z"
   },
   {
    "duration": 33,
    "start_time": "2022-02-17T15:46:34.519Z"
   },
   {
    "duration": 8,
    "start_time": "2022-02-17T15:46:34.554Z"
   },
   {
    "duration": 59,
    "start_time": "2022-02-17T15:46:34.565Z"
   },
   {
    "duration": 6,
    "start_time": "2022-02-17T15:46:34.627Z"
   },
   {
    "duration": 29,
    "start_time": "2022-02-17T15:46:34.637Z"
   },
   {
    "duration": 11,
    "start_time": "2022-02-17T15:46:34.668Z"
   },
   {
    "duration": 57,
    "start_time": "2022-02-17T15:46:34.681Z"
   },
   {
    "duration": 34,
    "start_time": "2022-02-17T15:46:34.741Z"
   },
   {
    "duration": 108,
    "start_time": "2022-02-17T15:46:34.778Z"
   },
   {
    "duration": 112,
    "start_time": "2022-02-17T15:46:34.889Z"
   },
   {
    "duration": 86,
    "start_time": "2022-02-17T15:46:35.004Z"
   },
   {
    "duration": 82,
    "start_time": "2022-02-17T15:46:35.092Z"
   },
   {
    "duration": 4,
    "start_time": "2022-02-17T15:46:35.176Z"
   },
   {
    "duration": 38,
    "start_time": "2022-02-17T15:46:35.182Z"
   },
   {
    "duration": 106,
    "start_time": "2022-02-17T15:46:35.222Z"
   },
   {
    "duration": 81,
    "start_time": "2022-02-17T15:46:35.331Z"
   },
   {
    "duration": 44,
    "start_time": "2022-02-17T15:46:35.415Z"
   },
   {
    "duration": 910,
    "start_time": "2022-02-17T15:46:43.777Z"
   },
   {
    "duration": 5,
    "start_time": "2022-02-17T17:17:56.404Z"
   },
   {
    "duration": 677,
    "start_time": "2022-02-17T17:18:06.688Z"
   },
   {
    "duration": 5,
    "start_time": "2022-02-17T17:20:40.068Z"
   },
   {
    "duration": 26,
    "start_time": "2022-02-17T17:21:04.713Z"
   },
   {
    "duration": 21,
    "start_time": "2022-02-17T17:24:26.838Z"
   },
   {
    "duration": 26,
    "start_time": "2022-02-17T17:24:29.873Z"
   },
   {
    "duration": 35,
    "start_time": "2022-02-17T17:24:34.750Z"
   },
   {
    "duration": 29,
    "start_time": "2022-02-17T17:24:37.412Z"
   },
   {
    "duration": 24,
    "start_time": "2022-02-17T17:24:39.492Z"
   },
   {
    "duration": 334,
    "start_time": "2022-02-17T17:25:28.232Z"
   },
   {
    "duration": 448,
    "start_time": "2022-02-17T17:27:25.156Z"
   },
   {
    "duration": 15,
    "start_time": "2022-02-17T17:28:49.700Z"
   },
   {
    "duration": 13,
    "start_time": "2022-02-17T17:28:55.666Z"
   },
   {
    "duration": 338,
    "start_time": "2022-02-17T18:13:42.597Z"
   },
   {
    "duration": 6,
    "start_time": "2022-02-17T18:14:31.346Z"
   },
   {
    "duration": 7,
    "start_time": "2022-02-17T18:14:38.404Z"
   },
   {
    "duration": 7,
    "start_time": "2022-02-17T18:14:40.860Z"
   },
   {
    "duration": 7,
    "start_time": "2022-02-17T18:14:43.213Z"
   },
   {
    "duration": 6,
    "start_time": "2022-02-17T18:14:48.188Z"
   },
   {
    "duration": 6,
    "start_time": "2022-02-17T18:14:50.251Z"
   },
   {
    "duration": 8,
    "start_time": "2022-02-17T18:16:20.816Z"
   },
   {
    "duration": 13,
    "start_time": "2022-02-17T18:16:36.617Z"
   },
   {
    "duration": 18,
    "start_time": "2022-02-17T18:17:53.178Z"
   },
   {
    "duration": 32,
    "start_time": "2022-02-17T18:18:20.502Z"
   },
   {
    "duration": 17,
    "start_time": "2022-02-17T18:18:28.733Z"
   },
   {
    "duration": 31,
    "start_time": "2022-02-17T18:47:54.312Z"
   },
   {
    "duration": 18,
    "start_time": "2022-02-17T18:48:17.137Z"
   },
   {
    "duration": 386,
    "start_time": "2022-02-17T18:49:13.667Z"
   },
   {
    "duration": 318,
    "start_time": "2022-02-17T18:54:37.109Z"
   },
   {
    "duration": 6,
    "start_time": "2022-02-17T18:54:58.931Z"
   },
   {
    "duration": 36,
    "start_time": "2022-02-17T18:55:03.739Z"
   },
   {
    "duration": 5,
    "start_time": "2022-02-17T19:10:32.990Z"
   },
   {
    "duration": 8,
    "start_time": "2022-02-17T19:11:58.546Z"
   },
   {
    "duration": 33,
    "start_time": "2022-02-17T19:12:04.289Z"
   },
   {
    "duration": 27,
    "start_time": "2022-02-17T19:14:15.918Z"
   },
   {
    "duration": 27,
    "start_time": "2022-02-17T19:15:09.864Z"
   },
   {
    "duration": 34,
    "start_time": "2022-02-17T19:15:39.152Z"
   },
   {
    "duration": 30,
    "start_time": "2022-02-17T19:23:05.676Z"
   },
   {
    "duration": 29,
    "start_time": "2022-02-17T19:23:07.778Z"
   },
   {
    "duration": 8,
    "start_time": "2022-02-17T19:23:47.395Z"
   },
   {
    "duration": 12,
    "start_time": "2022-02-17T19:23:58.701Z"
   },
   {
    "duration": 19,
    "start_time": "2022-02-17T19:25:07.698Z"
   },
   {
    "duration": 13,
    "start_time": "2022-02-17T19:25:23.663Z"
   },
   {
    "duration": 12,
    "start_time": "2022-02-17T19:25:36.252Z"
   },
   {
    "duration": 4,
    "start_time": "2022-02-17T19:26:33.438Z"
   },
   {
    "duration": 228,
    "start_time": "2022-02-17T19:26:33.445Z"
   },
   {
    "duration": 17,
    "start_time": "2022-02-17T19:26:33.676Z"
   },
   {
    "duration": 37,
    "start_time": "2022-02-17T19:26:33.712Z"
   },
   {
    "duration": 6,
    "start_time": "2022-02-17T19:26:33.752Z"
   },
   {
    "duration": 58,
    "start_time": "2022-02-17T19:26:33.760Z"
   },
   {
    "duration": 7,
    "start_time": "2022-02-17T19:26:33.822Z"
   },
   {
    "duration": 41,
    "start_time": "2022-02-17T19:26:33.832Z"
   },
   {
    "duration": 4,
    "start_time": "2022-02-17T19:26:33.876Z"
   },
   {
    "duration": 55,
    "start_time": "2022-02-17T19:26:33.883Z"
   },
   {
    "duration": 32,
    "start_time": "2022-02-17T19:26:33.940Z"
   },
   {
    "duration": 122,
    "start_time": "2022-02-17T19:26:33.975Z"
   },
   {
    "duration": 118,
    "start_time": "2022-02-17T19:26:34.100Z"
   },
   {
    "duration": 78,
    "start_time": "2022-02-17T19:26:34.220Z"
   },
   {
    "duration": 77,
    "start_time": "2022-02-17T19:26:34.311Z"
   },
   {
    "duration": 21,
    "start_time": "2022-02-17T19:26:34.392Z"
   },
   {
    "duration": 20,
    "start_time": "2022-02-17T19:26:34.416Z"
   },
   {
    "duration": 97,
    "start_time": "2022-02-17T19:26:34.440Z"
   },
   {
    "duration": 67,
    "start_time": "2022-02-17T19:26:34.543Z"
   },
   {
    "duration": 47,
    "start_time": "2022-02-17T19:26:34.615Z"
   },
   {
    "duration": 5,
    "start_time": "2022-02-17T19:26:34.665Z"
   },
   {
    "duration": 60,
    "start_time": "2022-02-17T19:26:34.672Z"
   },
   {
    "duration": 22,
    "start_time": "2022-02-17T19:26:34.735Z"
   },
   {
    "duration": 51,
    "start_time": "2022-02-17T19:26:34.760Z"
   },
   {
    "duration": 24,
    "start_time": "2022-02-17T19:26:34.814Z"
   },
   {
    "duration": 28,
    "start_time": "2022-02-17T19:26:34.841Z"
   },
   {
    "duration": 51,
    "start_time": "2022-02-17T19:26:34.871Z"
   },
   {
    "duration": 19,
    "start_time": "2022-02-17T19:26:34.925Z"
   },
   {
    "duration": 28,
    "start_time": "2022-02-17T19:26:34.946Z"
   },
   {
    "duration": 37,
    "start_time": "2022-02-17T19:26:34.976Z"
   },
   {
    "duration": 5,
    "start_time": "2022-02-17T19:26:35.016Z"
   },
   {
    "duration": 48,
    "start_time": "2022-02-17T19:26:35.024Z"
   },
   {
    "duration": 51,
    "start_time": "2022-02-17T19:26:35.075Z"
   },
   {
    "duration": 35,
    "start_time": "2022-02-17T19:26:35.129Z"
   },
   {
    "duration": 60,
    "start_time": "2022-02-17T19:26:35.167Z"
   },
   {
    "duration": 31,
    "start_time": "2022-02-17T19:26:35.229Z"
   },
   {
    "duration": 12,
    "start_time": "2022-02-17T19:26:35.262Z"
   },
   {
    "duration": 48,
    "start_time": "2022-02-17T19:26:35.276Z"
   },
   {
    "duration": 13,
    "start_time": "2022-02-17T19:26:35.326Z"
   },
   {
    "duration": 613,
    "start_time": "2022-02-26T18:44:43.745Z"
   },
   {
    "duration": 147,
    "start_time": "2022-02-26T18:44:44.360Z"
   },
   {
    "duration": 17,
    "start_time": "2022-02-26T18:44:44.509Z"
   },
   {
    "duration": 24,
    "start_time": "2022-02-26T18:44:44.528Z"
   },
   {
    "duration": 4,
    "start_time": "2022-02-26T18:44:44.554Z"
   },
   {
    "duration": 20,
    "start_time": "2022-02-26T18:44:44.577Z"
   },
   {
    "duration": 8,
    "start_time": "2022-02-26T18:44:44.599Z"
   },
   {
    "duration": 26,
    "start_time": "2022-02-26T18:44:44.610Z"
   },
   {
    "duration": 2,
    "start_time": "2022-02-26T18:44:44.638Z"
   },
   {
    "duration": 53,
    "start_time": "2022-02-26T18:44:44.642Z"
   },
   {
    "duration": 24,
    "start_time": "2022-02-26T18:44:44.696Z"
   },
   {
    "duration": 75,
    "start_time": "2022-02-26T18:44:44.721Z"
   },
   {
    "duration": 66,
    "start_time": "2022-02-26T18:44:44.798Z"
   },
   {
    "duration": 64,
    "start_time": "2022-02-26T18:44:44.866Z"
   },
   {
    "duration": 63,
    "start_time": "2022-02-26T18:44:44.931Z"
   },
   {
    "duration": 3,
    "start_time": "2022-02-26T18:44:44.995Z"
   },
   {
    "duration": 24,
    "start_time": "2022-02-26T18:44:45.000Z"
   },
   {
    "duration": 61,
    "start_time": "2022-02-26T18:44:45.026Z"
   },
   {
    "duration": 34,
    "start_time": "2022-02-26T18:44:45.088Z"
   },
   {
    "duration": 33,
    "start_time": "2022-02-26T18:44:45.123Z"
   },
   {
    "duration": 21,
    "start_time": "2022-02-26T18:44:45.157Z"
   },
   {
    "duration": 24,
    "start_time": "2022-02-26T18:44:45.180Z"
   },
   {
    "duration": 17,
    "start_time": "2022-02-26T18:44:45.207Z"
   },
   {
    "duration": 20,
    "start_time": "2022-02-26T18:44:45.226Z"
   },
   {
    "duration": 43,
    "start_time": "2022-02-26T18:44:45.248Z"
   },
   {
    "duration": 23,
    "start_time": "2022-02-26T18:44:45.292Z"
   },
   {
    "duration": 17,
    "start_time": "2022-02-26T18:44:45.316Z"
   },
   {
    "duration": 9,
    "start_time": "2022-02-26T18:44:45.334Z"
   },
   {
    "duration": 46,
    "start_time": "2022-02-26T18:44:45.344Z"
   },
   {
    "duration": 9,
    "start_time": "2022-02-26T18:44:45.392Z"
   },
   {
    "duration": 5,
    "start_time": "2022-02-26T18:44:45.402Z"
   },
   {
    "duration": 28,
    "start_time": "2022-02-26T18:44:45.409Z"
   },
   {
    "duration": 39,
    "start_time": "2022-02-26T18:44:45.439Z"
   },
   {
    "duration": 24,
    "start_time": "2022-02-26T18:44:45.480Z"
   },
   {
    "duration": 18,
    "start_time": "2022-02-26T18:44:45.506Z"
   },
   {
    "duration": 52,
    "start_time": "2022-02-26T18:44:45.526Z"
   },
   {
    "duration": 9,
    "start_time": "2022-02-26T18:44:45.580Z"
   },
   {
    "duration": 16,
    "start_time": "2022-02-26T18:44:45.590Z"
   },
   {
    "duration": 8,
    "start_time": "2022-02-26T18:44:45.608Z"
   },
   {
    "duration": 272,
    "start_time": "2022-02-27T08:12:04.311Z"
   },
   {
    "duration": 248,
    "start_time": "2022-02-27T08:12:27.230Z"
   },
   {
    "duration": 581,
    "start_time": "2022-02-27T08:12:56.175Z"
   },
   {
    "duration": 124,
    "start_time": "2022-02-27T08:12:56.758Z"
   },
   {
    "duration": 16,
    "start_time": "2022-02-27T08:12:56.884Z"
   },
   {
    "duration": 23,
    "start_time": "2022-02-27T08:12:56.902Z"
   },
   {
    "duration": 4,
    "start_time": "2022-02-27T08:12:56.927Z"
   },
   {
    "duration": 39,
    "start_time": "2022-02-27T08:12:56.933Z"
   },
   {
    "duration": 3,
    "start_time": "2022-02-27T08:12:56.975Z"
   },
   {
    "duration": 22,
    "start_time": "2022-02-27T08:12:56.981Z"
   },
   {
    "duration": 3,
    "start_time": "2022-02-27T08:12:57.005Z"
   },
   {
    "duration": 49,
    "start_time": "2022-02-27T08:12:57.010Z"
   },
   {
    "duration": 21,
    "start_time": "2022-02-27T08:12:57.063Z"
   },
   {
    "duration": 52,
    "start_time": "2022-02-27T08:12:57.086Z"
   },
   {
    "duration": 80,
    "start_time": "2022-02-27T08:12:57.140Z"
   },
   {
    "duration": 55,
    "start_time": "2022-02-27T08:12:57.222Z"
   },
   {
    "duration": 46,
    "start_time": "2022-02-27T08:12:57.279Z"
   },
   {
    "duration": 3,
    "start_time": "2022-02-27T08:12:57.328Z"
   },
   {
    "duration": 29,
    "start_time": "2022-02-27T08:12:57.333Z"
   },
   {
    "duration": 48,
    "start_time": "2022-02-27T08:12:57.364Z"
   },
   {
    "duration": 33,
    "start_time": "2022-02-27T08:13:01.185Z"
   },
   {
    "duration": 11,
    "start_time": "2022-02-27T08:13:18.613Z"
   },
   {
    "duration": 3,
    "start_time": "2022-02-27T08:15:13.695Z"
   },
   {
    "duration": 125,
    "start_time": "2022-02-27T08:15:13.702Z"
   },
   {
    "duration": 10,
    "start_time": "2022-02-27T08:15:13.828Z"
   },
   {
    "duration": 33,
    "start_time": "2022-02-27T08:15:13.840Z"
   },
   {
    "duration": 4,
    "start_time": "2022-02-27T08:15:13.875Z"
   },
   {
    "duration": 15,
    "start_time": "2022-02-27T08:15:13.880Z"
   },
   {
    "duration": 3,
    "start_time": "2022-02-27T08:15:13.897Z"
   },
   {
    "duration": 23,
    "start_time": "2022-02-27T08:15:13.902Z"
   },
   {
    "duration": 2,
    "start_time": "2022-02-27T08:15:13.927Z"
   },
   {
    "duration": 21,
    "start_time": "2022-02-27T08:15:13.959Z"
   },
   {
    "duration": 21,
    "start_time": "2022-02-27T08:15:13.981Z"
   },
   {
    "duration": 73,
    "start_time": "2022-02-27T08:15:14.004Z"
   },
   {
    "duration": 59,
    "start_time": "2022-02-27T08:15:14.079Z"
   },
   {
    "duration": 61,
    "start_time": "2022-02-27T08:15:14.140Z"
   },
   {
    "duration": 57,
    "start_time": "2022-02-27T08:15:14.203Z"
   },
   {
    "duration": 3,
    "start_time": "2022-02-27T08:15:14.261Z"
   },
   {
    "duration": 14,
    "start_time": "2022-02-27T08:15:14.266Z"
   },
   {
    "duration": 47,
    "start_time": "2022-02-27T08:15:14.281Z"
   },
   {
    "duration": 29,
    "start_time": "2022-02-27T08:15:14.330Z"
   },
   {
    "duration": 12,
    "start_time": "2022-02-27T08:15:50.108Z"
   },
   {
    "duration": 3,
    "start_time": "2022-02-27T08:18:27.532Z"
   },
   {
    "duration": 147,
    "start_time": "2022-02-27T08:18:27.537Z"
   },
   {
    "duration": 11,
    "start_time": "2022-02-27T08:18:27.686Z"
   },
   {
    "duration": 26,
    "start_time": "2022-02-27T08:18:27.699Z"
   },
   {
    "duration": 4,
    "start_time": "2022-02-27T08:18:27.727Z"
   },
   {
    "duration": 19,
    "start_time": "2022-02-27T08:18:27.759Z"
   },
   {
    "duration": 5,
    "start_time": "2022-02-27T08:18:27.780Z"
   },
   {
    "duration": 22,
    "start_time": "2022-02-27T08:18:27.787Z"
   },
   {
    "duration": 3,
    "start_time": "2022-02-27T08:18:27.811Z"
   },
   {
    "duration": 44,
    "start_time": "2022-02-27T08:18:27.815Z"
   },
   {
    "duration": 21,
    "start_time": "2022-02-27T08:18:27.861Z"
   },
   {
    "duration": 54,
    "start_time": "2022-02-27T08:18:27.884Z"
   },
   {
    "duration": 76,
    "start_time": "2022-02-27T08:18:27.940Z"
   },
   {
    "duration": 55,
    "start_time": "2022-02-27T08:18:28.018Z"
   },
   {
    "duration": 48,
    "start_time": "2022-02-27T08:18:28.074Z"
   },
   {
    "duration": 4,
    "start_time": "2022-02-27T08:18:28.124Z"
   },
   {
    "duration": 30,
    "start_time": "2022-02-27T08:18:28.129Z"
   },
   {
    "duration": 56,
    "start_time": "2022-02-27T08:18:28.162Z"
   },
   {
    "duration": 10,
    "start_time": "2022-02-27T08:18:28.219Z"
   },
   {
    "duration": 30,
    "start_time": "2022-02-27T08:18:28.231Z"
   },
   {
    "duration": 4,
    "start_time": "2022-02-27T08:18:28.263Z"
   },
   {
    "duration": 26,
    "start_time": "2022-02-27T08:18:28.268Z"
   },
   {
    "duration": 17,
    "start_time": "2022-02-27T08:18:28.295Z"
   },
   {
    "duration": 18,
    "start_time": "2022-02-27T08:18:28.315Z"
   },
   {
    "duration": 33,
    "start_time": "2022-02-27T08:18:28.335Z"
   },
   {
    "duration": 21,
    "start_time": "2022-02-27T08:18:28.370Z"
   },
   {
    "duration": 16,
    "start_time": "2022-02-27T08:18:28.393Z"
   },
   {
    "duration": 7,
    "start_time": "2022-02-27T08:18:28.410Z"
   },
   {
    "duration": 48,
    "start_time": "2022-02-27T08:18:28.419Z"
   },
   {
    "duration": 8,
    "start_time": "2022-02-27T08:18:28.469Z"
   },
   {
    "duration": 4,
    "start_time": "2022-02-27T08:18:57.586Z"
   },
   {
    "duration": 518,
    "start_time": "2022-02-27T08:19:09.333Z"
   },
   {
    "duration": 4,
    "start_time": "2022-02-27T08:19:33.961Z"
   },
   {
    "duration": 22,
    "start_time": "2022-02-27T08:19:39.948Z"
   },
   {
    "duration": 3,
    "start_time": "2022-02-27T08:22:41.317Z"
   },
   {
    "duration": 139,
    "start_time": "2022-02-27T08:22:41.324Z"
   },
   {
    "duration": 9,
    "start_time": "2022-02-27T08:22:41.465Z"
   },
   {
    "duration": 24,
    "start_time": "2022-02-27T08:22:41.476Z"
   },
   {
    "duration": 4,
    "start_time": "2022-02-27T08:22:41.502Z"
   },
   {
    "duration": 15,
    "start_time": "2022-02-27T08:22:41.507Z"
   },
   {
    "duration": 3,
    "start_time": "2022-02-27T08:22:41.524Z"
   },
   {
    "duration": 22,
    "start_time": "2022-02-27T08:22:41.559Z"
   },
   {
    "duration": 2,
    "start_time": "2022-02-27T08:22:41.584Z"
   },
   {
    "duration": 21,
    "start_time": "2022-02-27T08:22:41.588Z"
   },
   {
    "duration": 20,
    "start_time": "2022-02-27T08:22:41.611Z"
   },
   {
    "duration": 80,
    "start_time": "2022-02-27T08:22:41.633Z"
   },
   {
    "duration": 71,
    "start_time": "2022-02-27T08:22:41.714Z"
   },
   {
    "duration": 46,
    "start_time": "2022-02-27T08:22:41.787Z"
   },
   {
    "duration": 59,
    "start_time": "2022-02-27T08:22:41.835Z"
   },
   {
    "duration": 3,
    "start_time": "2022-02-27T08:22:41.895Z"
   },
   {
    "duration": 10,
    "start_time": "2022-02-27T08:22:41.900Z"
   },
   {
    "duration": 60,
    "start_time": "2022-02-27T08:22:41.912Z"
   },
   {
    "duration": 10,
    "start_time": "2022-02-27T08:22:41.974Z"
   },
   {
    "duration": 10,
    "start_time": "2022-02-27T08:22:41.985Z"
   },
   {
    "duration": 3,
    "start_time": "2022-02-27T08:22:41.996Z"
   },
   {
    "duration": 25,
    "start_time": "2022-02-27T08:22:42.000Z"
   },
   {
    "duration": 36,
    "start_time": "2022-02-27T08:22:42.026Z"
   },
   {
    "duration": 17,
    "start_time": "2022-02-27T08:22:42.065Z"
   },
   {
    "duration": 15,
    "start_time": "2022-02-27T08:22:42.084Z"
   },
   {
    "duration": 20,
    "start_time": "2022-02-27T08:22:42.101Z"
   },
   {
    "duration": 45,
    "start_time": "2022-02-27T08:22:42.122Z"
   },
   {
    "duration": 8,
    "start_time": "2022-02-27T08:22:42.168Z"
   },
   {
    "duration": 12,
    "start_time": "2022-02-27T08:22:42.177Z"
   },
   {
    "duration": 9,
    "start_time": "2022-02-27T08:22:42.190Z"
   },
   {
    "duration": 4,
    "start_time": "2022-02-27T08:22:46.261Z"
   },
   {
    "duration": 452,
    "start_time": "2022-02-27T08:22:55.664Z"
   },
   {
    "duration": 4,
    "start_time": "2022-02-27T08:23:55.338Z"
   },
   {
    "duration": 467,
    "start_time": "2022-02-27T08:23:59.224Z"
   },
   {
    "duration": 4,
    "start_time": "2022-02-27T08:24:12.887Z"
   },
   {
    "duration": 23,
    "start_time": "2022-02-27T08:24:16.764Z"
   },
   {
    "duration": 24,
    "start_time": "2022-02-27T08:30:12.234Z"
   },
   {
    "duration": 23,
    "start_time": "2022-02-27T08:30:19.092Z"
   },
   {
    "duration": 2,
    "start_time": "2022-02-27T08:30:39.240Z"
   },
   {
    "duration": 138,
    "start_time": "2022-02-27T08:30:39.246Z"
   },
   {
    "duration": 10,
    "start_time": "2022-02-27T08:30:39.386Z"
   },
   {
    "duration": 24,
    "start_time": "2022-02-27T08:30:39.398Z"
   },
   {
    "duration": 4,
    "start_time": "2022-02-27T08:30:39.424Z"
   },
   {
    "duration": 43,
    "start_time": "2022-02-27T08:30:39.430Z"
   },
   {
    "duration": 4,
    "start_time": "2022-02-27T08:30:39.474Z"
   },
   {
    "duration": 25,
    "start_time": "2022-02-27T08:30:39.479Z"
   },
   {
    "duration": 2,
    "start_time": "2022-02-27T08:30:39.507Z"
   },
   {
    "duration": 22,
    "start_time": "2022-02-27T08:30:39.511Z"
   },
   {
    "duration": 42,
    "start_time": "2022-02-27T08:30:39.535Z"
   },
   {
    "duration": 51,
    "start_time": "2022-02-27T08:30:39.578Z"
   },
   {
    "duration": 75,
    "start_time": "2022-02-27T08:30:39.631Z"
   },
   {
    "duration": 55,
    "start_time": "2022-02-27T08:30:39.708Z"
   },
   {
    "duration": 49,
    "start_time": "2022-02-27T08:30:39.765Z"
   },
   {
    "duration": 3,
    "start_time": "2022-02-27T08:30:39.815Z"
   },
   {
    "duration": 11,
    "start_time": "2022-02-27T08:30:39.819Z"
   },
   {
    "duration": 66,
    "start_time": "2022-02-27T08:30:39.831Z"
   },
   {
    "duration": 11,
    "start_time": "2022-02-27T08:30:39.899Z"
   },
   {
    "duration": 11,
    "start_time": "2022-02-27T08:30:39.912Z"
   },
   {
    "duration": 4,
    "start_time": "2022-02-27T08:30:39.925Z"
   },
   {
    "duration": 51,
    "start_time": "2022-02-27T08:30:39.931Z"
   },
   {
    "duration": 16,
    "start_time": "2022-02-27T08:30:39.983Z"
   },
   {
    "duration": 18,
    "start_time": "2022-02-27T08:30:40.002Z"
   },
   {
    "duration": 42,
    "start_time": "2022-02-27T08:30:40.022Z"
   },
   {
    "duration": 21,
    "start_time": "2022-02-27T08:30:40.065Z"
   },
   {
    "duration": 16,
    "start_time": "2022-02-27T08:30:40.087Z"
   },
   {
    "duration": 9,
    "start_time": "2022-02-27T08:30:40.104Z"
   },
   {
    "duration": 15,
    "start_time": "2022-02-27T08:30:40.114Z"
   },
   {
    "duration": 34,
    "start_time": "2022-02-27T08:30:40.130Z"
   },
   {
    "duration": 3,
    "start_time": "2022-02-27T08:30:40.166Z"
   },
   {
    "duration": 484,
    "start_time": "2022-02-27T08:30:45.296Z"
   },
   {
    "duration": 486,
    "start_time": "2022-02-27T08:31:41.618Z"
   },
   {
    "duration": 4,
    "start_time": "2022-02-27T08:32:00.052Z"
   },
   {
    "duration": 25,
    "start_time": "2022-02-27T08:32:05.627Z"
   },
   {
    "duration": 16,
    "start_time": "2022-02-27T08:32:08.300Z"
   },
   {
    "duration": 240,
    "start_time": "2022-02-27T08:42:33.187Z"
   },
   {
    "duration": 21,
    "start_time": "2022-02-27T08:42:45.117Z"
   },
   {
    "duration": 291,
    "start_time": "2022-02-27T08:43:23.287Z"
   },
   {
    "duration": 23,
    "start_time": "2022-02-27T08:43:36.290Z"
   },
   {
    "duration": 203,
    "start_time": "2022-02-27T08:47:11.233Z"
   },
   {
    "duration": 2,
    "start_time": "2022-02-27T08:47:32.965Z"
   },
   {
    "duration": 137,
    "start_time": "2022-02-27T08:47:32.970Z"
   },
   {
    "duration": 10,
    "start_time": "2022-02-27T08:47:33.109Z"
   },
   {
    "duration": 44,
    "start_time": "2022-02-27T08:47:33.121Z"
   },
   {
    "duration": 6,
    "start_time": "2022-02-27T08:47:33.167Z"
   },
   {
    "duration": 24,
    "start_time": "2022-02-27T08:47:33.175Z"
   },
   {
    "duration": 4,
    "start_time": "2022-02-27T08:47:33.200Z"
   },
   {
    "duration": 22,
    "start_time": "2022-02-27T08:47:33.206Z"
   },
   {
    "duration": 3,
    "start_time": "2022-02-27T08:47:33.231Z"
   },
   {
    "duration": 21,
    "start_time": "2022-02-27T08:47:33.260Z"
   },
   {
    "duration": 24,
    "start_time": "2022-02-27T08:47:33.282Z"
   },
   {
    "duration": 72,
    "start_time": "2022-02-27T08:47:33.308Z"
   },
   {
    "duration": 61,
    "start_time": "2022-02-27T08:47:33.381Z"
   },
   {
    "duration": 57,
    "start_time": "2022-02-27T08:47:33.444Z"
   },
   {
    "duration": 58,
    "start_time": "2022-02-27T08:47:33.502Z"
   },
   {
    "duration": 3,
    "start_time": "2022-02-27T08:47:33.561Z"
   },
   {
    "duration": 13,
    "start_time": "2022-02-27T08:47:33.566Z"
   },
   {
    "duration": 53,
    "start_time": "2022-02-27T08:47:33.580Z"
   },
   {
    "duration": 9,
    "start_time": "2022-02-27T08:47:33.635Z"
   },
   {
    "duration": 10,
    "start_time": "2022-02-27T08:47:33.659Z"
   },
   {
    "duration": 3,
    "start_time": "2022-02-27T08:47:33.671Z"
   },
   {
    "duration": 32,
    "start_time": "2022-02-27T08:47:33.676Z"
   },
   {
    "duration": 15,
    "start_time": "2022-02-27T08:47:33.710Z"
   },
   {
    "duration": 38,
    "start_time": "2022-02-27T08:47:33.728Z"
   },
   {
    "duration": 17,
    "start_time": "2022-02-27T08:47:33.768Z"
   },
   {
    "duration": 23,
    "start_time": "2022-02-27T08:47:33.786Z"
   },
   {
    "duration": 16,
    "start_time": "2022-02-27T08:47:33.811Z"
   },
   {
    "duration": 10,
    "start_time": "2022-02-27T08:47:33.828Z"
   },
   {
    "duration": 18,
    "start_time": "2022-02-27T08:47:33.859Z"
   },
   {
    "duration": 11,
    "start_time": "2022-02-27T08:47:33.879Z"
   },
   {
    "duration": 4,
    "start_time": "2022-02-27T08:47:33.891Z"
   },
   {
    "duration": 25,
    "start_time": "2022-02-27T08:47:33.897Z"
   },
   {
    "duration": 39,
    "start_time": "2022-02-27T08:47:33.924Z"
   },
   {
    "duration": 24,
    "start_time": "2022-02-27T08:47:33.965Z"
   },
   {
    "duration": 18,
    "start_time": "2022-02-27T08:47:33.991Z"
   },
   {
    "duration": 53,
    "start_time": "2022-02-27T08:47:34.010Z"
   },
   {
    "duration": 8,
    "start_time": "2022-02-27T08:47:34.065Z"
   },
   {
    "duration": 17,
    "start_time": "2022-02-27T08:47:34.075Z"
   },
   {
    "duration": 8,
    "start_time": "2022-02-27T08:47:37.592Z"
   },
   {
    "duration": 2,
    "start_time": "2022-02-27T08:48:32.100Z"
   },
   {
    "duration": 138,
    "start_time": "2022-02-27T08:48:32.105Z"
   },
   {
    "duration": 19,
    "start_time": "2022-02-27T08:48:32.245Z"
   },
   {
    "duration": 24,
    "start_time": "2022-02-27T08:48:32.265Z"
   },
   {
    "duration": 4,
    "start_time": "2022-02-27T08:48:32.291Z"
   },
   {
    "duration": 15,
    "start_time": "2022-02-27T08:48:32.297Z"
   },
   {
    "duration": 3,
    "start_time": "2022-02-27T08:48:32.314Z"
   },
   {
    "duration": 64,
    "start_time": "2022-02-27T08:48:32.319Z"
   },
   {
    "duration": 3,
    "start_time": "2022-02-27T08:48:32.385Z"
   },
   {
    "duration": 22,
    "start_time": "2022-02-27T08:48:32.390Z"
   },
   {
    "duration": 21,
    "start_time": "2022-02-27T08:48:32.414Z"
   },
   {
    "duration": 69,
    "start_time": "2022-02-27T08:48:32.437Z"
   },
   {
    "duration": 71,
    "start_time": "2022-02-27T08:48:32.508Z"
   },
   {
    "duration": 48,
    "start_time": "2022-02-27T08:48:32.580Z"
   },
   {
    "duration": 67,
    "start_time": "2022-02-27T08:48:32.630Z"
   },
   {
    "duration": 4,
    "start_time": "2022-02-27T08:48:32.699Z"
   },
   {
    "duration": 11,
    "start_time": "2022-02-27T08:48:32.704Z"
   },
   {
    "duration": 63,
    "start_time": "2022-02-27T08:48:32.717Z"
   },
   {
    "duration": 10,
    "start_time": "2022-02-27T08:48:32.782Z"
   },
   {
    "duration": 10,
    "start_time": "2022-02-27T08:48:32.794Z"
   },
   {
    "duration": 4,
    "start_time": "2022-02-27T08:48:32.805Z"
   },
   {
    "duration": 22,
    "start_time": "2022-02-27T08:48:32.811Z"
   },
   {
    "duration": 17,
    "start_time": "2022-02-27T08:48:32.859Z"
   },
   {
    "duration": 18,
    "start_time": "2022-02-27T08:48:32.880Z"
   },
   {
    "duration": 16,
    "start_time": "2022-02-27T08:48:32.899Z"
   },
   {
    "duration": 46,
    "start_time": "2022-02-27T08:48:32.916Z"
   },
   {
    "duration": 16,
    "start_time": "2022-02-27T08:48:32.964Z"
   },
   {
    "duration": 8,
    "start_time": "2022-02-27T08:48:32.981Z"
   },
   {
    "duration": 15,
    "start_time": "2022-02-27T08:48:32.990Z"
   },
   {
    "duration": 10,
    "start_time": "2022-02-27T08:48:33.006Z"
   },
   {
    "duration": 3,
    "start_time": "2022-02-27T08:48:33.017Z"
   },
   {
    "duration": 55,
    "start_time": "2022-02-27T08:48:33.022Z"
   },
   {
    "duration": 16,
    "start_time": "2022-02-27T08:48:33.079Z"
   },
   {
    "duration": 22,
    "start_time": "2022-02-27T08:48:33.096Z"
   },
   {
    "duration": 16,
    "start_time": "2022-02-27T08:48:33.119Z"
   },
   {
    "duration": 42,
    "start_time": "2022-02-27T08:48:33.137Z"
   },
   {
    "duration": 9,
    "start_time": "2022-02-27T08:48:34.922Z"
   },
   {
    "duration": 2,
    "start_time": "2022-02-27T08:51:12.867Z"
   },
   {
    "duration": 139,
    "start_time": "2022-02-27T08:51:12.873Z"
   },
   {
    "duration": 10,
    "start_time": "2022-02-27T08:51:13.014Z"
   },
   {
    "duration": 37,
    "start_time": "2022-02-27T08:51:13.026Z"
   },
   {
    "duration": 3,
    "start_time": "2022-02-27T08:51:13.065Z"
   },
   {
    "duration": 23,
    "start_time": "2022-02-27T08:51:13.070Z"
   },
   {
    "duration": 4,
    "start_time": "2022-02-27T08:51:13.094Z"
   },
   {
    "duration": 22,
    "start_time": "2022-02-27T08:51:13.100Z"
   },
   {
    "duration": 2,
    "start_time": "2022-02-27T08:51:13.125Z"
   },
   {
    "duration": 50,
    "start_time": "2022-02-27T08:51:13.129Z"
   },
   {
    "duration": 20,
    "start_time": "2022-02-27T08:51:13.181Z"
   },
   {
    "duration": 73,
    "start_time": "2022-02-27T08:51:13.203Z"
   },
   {
    "duration": 61,
    "start_time": "2022-02-27T08:51:13.278Z"
   },
   {
    "duration": 60,
    "start_time": "2022-02-27T08:51:13.341Z"
   },
   {
    "duration": 57,
    "start_time": "2022-02-27T08:51:13.403Z"
   },
   {
    "duration": 2,
    "start_time": "2022-02-27T08:51:13.462Z"
   },
   {
    "duration": 11,
    "start_time": "2022-02-27T08:51:13.466Z"
   },
   {
    "duration": 49,
    "start_time": "2022-02-27T08:51:13.478Z"
   },
   {
    "duration": 31,
    "start_time": "2022-02-27T08:51:13.529Z"
   },
   {
    "duration": 11,
    "start_time": "2022-02-27T08:51:13.561Z"
   },
   {
    "duration": 3,
    "start_time": "2022-02-27T08:51:13.573Z"
   },
   {
    "duration": 24,
    "start_time": "2022-02-27T08:51:13.577Z"
   },
   {
    "duration": 16,
    "start_time": "2022-02-27T08:51:13.602Z"
   },
   {
    "duration": 41,
    "start_time": "2022-02-27T08:51:13.621Z"
   },
   {
    "duration": 16,
    "start_time": "2022-02-27T08:51:13.663Z"
   },
   {
    "duration": 20,
    "start_time": "2022-02-27T08:51:13.681Z"
   },
   {
    "duration": 16,
    "start_time": "2022-02-27T08:51:13.703Z"
   },
   {
    "duration": 7,
    "start_time": "2022-02-27T08:51:13.721Z"
   },
   {
    "duration": 12,
    "start_time": "2022-02-27T08:51:13.760Z"
   },
   {
    "duration": 10,
    "start_time": "2022-02-27T08:51:13.773Z"
   },
   {
    "duration": 3,
    "start_time": "2022-02-27T08:51:13.785Z"
   },
   {
    "duration": 28,
    "start_time": "2022-02-27T08:51:13.790Z"
   },
   {
    "duration": 40,
    "start_time": "2022-02-27T08:51:13.819Z"
   },
   {
    "duration": 23,
    "start_time": "2022-02-27T08:51:13.861Z"
   },
   {
    "duration": 17,
    "start_time": "2022-02-27T08:51:13.885Z"
   },
   {
    "duration": 272,
    "start_time": "2022-02-27T08:51:17.000Z"
   },
   {
    "duration": 240,
    "start_time": "2022-02-27T08:52:40.445Z"
   },
   {
    "duration": 2,
    "start_time": "2022-02-27T08:52:47.163Z"
   },
   {
    "duration": 131,
    "start_time": "2022-02-27T08:52:47.168Z"
   },
   {
    "duration": 10,
    "start_time": "2022-02-27T08:52:47.300Z"
   },
   {
    "duration": 23,
    "start_time": "2022-02-27T08:52:47.312Z"
   },
   {
    "duration": 4,
    "start_time": "2022-02-27T08:52:47.359Z"
   },
   {
    "duration": 20,
    "start_time": "2022-02-27T08:52:47.365Z"
   },
   {
    "duration": 3,
    "start_time": "2022-02-27T08:52:47.386Z"
   },
   {
    "duration": 22,
    "start_time": "2022-02-27T08:52:47.391Z"
   },
   {
    "duration": 2,
    "start_time": "2022-02-27T08:52:47.416Z"
   },
   {
    "duration": 56,
    "start_time": "2022-02-27T08:52:47.420Z"
   },
   {
    "duration": 20,
    "start_time": "2022-02-27T08:52:47.478Z"
   },
   {
    "duration": 64,
    "start_time": "2022-02-27T08:52:47.499Z"
   },
   {
    "duration": 58,
    "start_time": "2022-02-27T08:52:47.565Z"
   },
   {
    "duration": 60,
    "start_time": "2022-02-27T08:52:47.624Z"
   },
   {
    "duration": 47,
    "start_time": "2022-02-27T08:52:47.686Z"
   },
   {
    "duration": 3,
    "start_time": "2022-02-27T08:52:47.734Z"
   },
   {
    "duration": 26,
    "start_time": "2022-02-27T08:52:47.738Z"
   },
   {
    "duration": 47,
    "start_time": "2022-02-27T08:52:47.765Z"
   },
   {
    "duration": 9,
    "start_time": "2022-02-27T08:52:47.814Z"
   },
   {
    "duration": 9,
    "start_time": "2022-02-27T08:52:47.825Z"
   },
   {
    "duration": 23,
    "start_time": "2022-02-27T08:52:47.836Z"
   },
   {
    "duration": 21,
    "start_time": "2022-02-27T08:52:47.861Z"
   },
   {
    "duration": 15,
    "start_time": "2022-02-27T08:52:47.883Z"
   },
   {
    "duration": 17,
    "start_time": "2022-02-27T08:52:47.901Z"
   },
   {
    "duration": 41,
    "start_time": "2022-02-27T08:52:47.921Z"
   },
   {
    "duration": 20,
    "start_time": "2022-02-27T08:52:47.963Z"
   },
   {
    "duration": 15,
    "start_time": "2022-02-27T08:52:47.984Z"
   },
   {
    "duration": 7,
    "start_time": "2022-02-27T08:52:48.001Z"
   },
   {
    "duration": 12,
    "start_time": "2022-02-27T08:52:48.009Z"
   },
   {
    "duration": 38,
    "start_time": "2022-02-27T08:52:48.023Z"
   },
   {
    "duration": 4,
    "start_time": "2022-02-27T08:52:48.062Z"
   },
   {
    "duration": 25,
    "start_time": "2022-02-27T08:52:48.067Z"
   },
   {
    "duration": 15,
    "start_time": "2022-02-27T08:52:48.093Z"
   },
   {
    "duration": 20,
    "start_time": "2022-02-27T08:52:48.110Z"
   },
   {
    "duration": 42,
    "start_time": "2022-02-27T08:52:48.131Z"
   },
   {
    "duration": 23,
    "start_time": "2022-02-27T08:53:17.554Z"
   },
   {
    "duration": 219,
    "start_time": "2022-02-27T08:55:11.082Z"
   },
   {
    "duration": 21,
    "start_time": "2022-02-27T08:55:54.546Z"
   },
   {
    "duration": 21,
    "start_time": "2022-02-27T08:56:00.387Z"
   },
   {
    "duration": 268,
    "start_time": "2022-02-27T08:56:24.966Z"
   },
   {
    "duration": 253,
    "start_time": "2022-02-27T08:56:38.348Z"
   },
   {
    "duration": 265,
    "start_time": "2022-02-27T08:56:51.521Z"
   },
   {
    "duration": 264,
    "start_time": "2022-02-27T08:57:02.117Z"
   },
   {
    "duration": 25,
    "start_time": "2022-02-27T08:57:07.477Z"
   },
   {
    "duration": 21,
    "start_time": "2022-02-27T09:07:03.370Z"
   },
   {
    "duration": 3,
    "start_time": "2022-02-27T09:07:36.501Z"
   },
   {
    "duration": 25,
    "start_time": "2022-02-27T09:07:58.614Z"
   },
   {
    "duration": 10,
    "start_time": "2022-02-27T09:08:17.005Z"
   },
   {
    "duration": 223,
    "start_time": "2022-02-27T09:08:56.766Z"
   },
   {
    "duration": 5,
    "start_time": "2022-02-27T09:09:13.792Z"
   },
   {
    "duration": 9,
    "start_time": "2022-02-27T09:11:01.715Z"
   },
   {
    "duration": 8,
    "start_time": "2022-02-27T09:11:13.203Z"
   },
   {
    "duration": 5,
    "start_time": "2022-02-27T09:11:15.476Z"
   },
   {
    "duration": 7,
    "start_time": "2022-02-27T09:11:49.753Z"
   },
   {
    "duration": 5,
    "start_time": "2022-02-27T09:11:52.484Z"
   },
   {
    "duration": 18,
    "start_time": "2022-02-27T09:14:11.917Z"
   },
   {
    "duration": 8,
    "start_time": "2022-02-27T09:14:13.923Z"
   },
   {
    "duration": 6,
    "start_time": "2022-02-27T09:14:38.056Z"
   },
   {
    "duration": 5,
    "start_time": "2022-02-27T09:14:43.125Z"
   },
   {
    "duration": 4,
    "start_time": "2022-02-27T09:17:11.206Z"
   },
   {
    "duration": 19,
    "start_time": "2022-02-27T09:17:21.601Z"
   },
   {
    "duration": 19,
    "start_time": "2022-02-27T09:17:26.634Z"
   },
   {
    "duration": 18,
    "start_time": "2022-02-27T09:17:30.416Z"
   },
   {
    "duration": 13,
    "start_time": "2022-02-27T09:17:36.474Z"
   },
   {
    "duration": 2,
    "start_time": "2022-02-27T09:18:23.118Z"
   },
   {
    "duration": 153,
    "start_time": "2022-02-27T09:18:23.123Z"
   },
   {
    "duration": 12,
    "start_time": "2022-02-27T09:18:23.279Z"
   },
   {
    "duration": 28,
    "start_time": "2022-02-27T09:18:23.293Z"
   },
   {
    "duration": 4,
    "start_time": "2022-02-27T09:18:23.324Z"
   },
   {
    "duration": 48,
    "start_time": "2022-02-27T09:18:23.330Z"
   },
   {
    "duration": 8,
    "start_time": "2022-02-27T09:18:23.380Z"
   },
   {
    "duration": 24,
    "start_time": "2022-02-27T09:18:23.389Z"
   },
   {
    "duration": 2,
    "start_time": "2022-02-27T09:18:23.417Z"
   },
   {
    "duration": 50,
    "start_time": "2022-02-27T09:18:23.422Z"
   },
   {
    "duration": 22,
    "start_time": "2022-02-27T09:18:23.474Z"
   },
   {
    "duration": 71,
    "start_time": "2022-02-27T09:18:23.498Z"
   },
   {
    "duration": 63,
    "start_time": "2022-02-27T09:18:23.570Z"
   },
   {
    "duration": 63,
    "start_time": "2022-02-27T09:18:23.635Z"
   },
   {
    "duration": 49,
    "start_time": "2022-02-27T09:18:23.700Z"
   },
   {
    "duration": 3,
    "start_time": "2022-02-27T09:18:23.759Z"
   },
   {
    "duration": 13,
    "start_time": "2022-02-27T09:18:23.764Z"
   },
   {
    "duration": 49,
    "start_time": "2022-02-27T09:18:23.779Z"
   },
   {
    "duration": 30,
    "start_time": "2022-02-27T09:18:23.830Z"
   },
   {
    "duration": 10,
    "start_time": "2022-02-27T09:18:23.862Z"
   },
   {
    "duration": 3,
    "start_time": "2022-02-27T09:18:23.874Z"
   },
   {
    "duration": 25,
    "start_time": "2022-02-27T09:18:23.878Z"
   },
   {
    "duration": 17,
    "start_time": "2022-02-27T09:18:23.904Z"
   },
   {
    "duration": 44,
    "start_time": "2022-02-27T09:18:23.924Z"
   },
   {
    "duration": 19,
    "start_time": "2022-02-27T09:18:23.972Z"
   },
   {
    "duration": 21,
    "start_time": "2022-02-27T09:18:23.993Z"
   },
   {
    "duration": 44,
    "start_time": "2022-02-27T09:18:24.016Z"
   },
   {
    "duration": 7,
    "start_time": "2022-02-27T09:18:24.062Z"
   },
   {
    "duration": 19,
    "start_time": "2022-02-27T09:18:24.071Z"
   },
   {
    "duration": 9,
    "start_time": "2022-02-27T09:18:24.091Z"
   },
   {
    "duration": 4,
    "start_time": "2022-02-27T09:18:24.102Z"
   },
   {
    "duration": 22,
    "start_time": "2022-02-27T09:18:24.108Z"
   },
   {
    "duration": 32,
    "start_time": "2022-02-27T09:18:24.131Z"
   },
   {
    "duration": 17,
    "start_time": "2022-02-27T09:18:24.165Z"
   },
   {
    "duration": 12,
    "start_time": "2022-02-27T09:18:24.183Z"
   },
   {
    "duration": 10,
    "start_time": "2022-02-27T09:18:24.197Z"
   },
   {
    "duration": 5,
    "start_time": "2022-02-27T09:18:24.208Z"
   },
   {
    "duration": 7,
    "start_time": "2022-02-27T09:18:24.214Z"
   },
   {
    "duration": 37,
    "start_time": "2022-02-27T09:18:24.223Z"
   },
   {
    "duration": 85,
    "start_time": "2022-02-27T10:29:51.055Z"
   }
  ],
  "colab": {
   "collapsed_sections": [
    "E0vqbgi9ay0H",
    "VUC88oWjTJw2"
   ],
   "name": "yandex_music_project_2021.2.ipynb",
   "provenance": []
  },
  "kernelspec": {
   "display_name": "Python 3 (ipykernel)",
   "language": "python",
   "name": "python3"
  },
  "language_info": {
   "codemirror_mode": {
    "name": "ipython",
    "version": 3
   },
   "file_extension": ".py",
   "mimetype": "text/x-python",
   "name": "python",
   "nbconvert_exporter": "python",
   "pygments_lexer": "ipython3",
   "version": "3.9.7"
  },
  "toc": {
   "base_numbering": 1,
   "nav_menu": {},
   "number_sections": true,
   "sideBar": true,
   "skip_h1_title": true,
   "title_cell": "Table of Contents",
   "title_sidebar": "Contents",
   "toc_cell": false,
   "toc_position": {
    "height": "calc(100% - 180px)",
    "left": "10px",
    "top": "150px",
    "width": "255.594px"
   },
   "toc_section_display": true,
   "toc_window_display": true
  }
 },
 "nbformat": 4,
 "nbformat_minor": 1
}
