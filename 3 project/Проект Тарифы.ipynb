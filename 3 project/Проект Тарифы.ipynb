{
 "cells": [
  {
   "cell_type": "markdown",
   "metadata": {},
   "source": [
    "# Исследование доходности тарифных планов Ultra и Smart"
   ]
  },
  {
   "cell_type": "markdown",
   "metadata": {},
   "source": [
    "**Цель проекта**\n",
    "\n",
    "Проанализировать данные о доходности тарифных планов Ultra и Smart и на их основе определить наиболее выгодный тариф для компании, подготовить информацию для принятия решения о корректировке рекламного бюджета. "
   ]
  },
  {
   "cell_type": "markdown",
   "metadata": {},
   "source": [
    "**Данные для анализа**\n",
    "\n",
    "На анализ поступили данные по небольшой выборке абонентов оператора компании «Мегалайн» (500 клиентов), подключеннных к тарифным планам Ultra и Smart. \n",
    "\n",
    "Предоставлены 5 файлов с данными:\n",
    "1. по пользователям: кто они, откуда, каким тарифом пользуются\n",
    "2. по условиям тарифных планов\n",
    "3. по отравленным пользователями СМС-сообщеничм\n",
    "4. по израсходованному пользователями мобильному трафику\n",
    "5. по совершенным пользователями звонкам\n",
    "\n",
    "Данные предоставлены за 2018 год."
   ]
  },
  {
   "cell_type": "markdown",
   "metadata": {},
   "source": [
    "**Шаги (план) проекта**\n",
    "\n",
    "1. Шаг 1_Обзор данных\n",
    "* Таблица users\n",
    "* Таблица tariffs\n",
    "* Таблица messages\n",
    "* Таблица internet\n",
    "* Таблица calls\n",
    "2. Шаг 2_Подготовка данных\n",
    "\n",
    "   2.1  Предобработка данных\n",
    "   \n",
    "* Таблица users\n",
    "* Таблица tariffs\n",
    "* Таблица messages\n",
    "* Таблица internet\n",
    "* Таблица calls\n",
    "\n",
    "   2.2  Подготовка пользовательских данных\n",
    "3. Шаг 3_Анализ данных\n",
    "4. Шаг 4_Проверка гипотез\n",
    "5. Шаг 5_Вывод"
   ]
  },
  {
   "cell_type": "markdown",
   "metadata": {},
   "source": [
    "## Шаг 1_Обзор данных"
   ]
  },
  {
   "cell_type": "markdown",
   "metadata": {},
   "source": [
    "Импортируем библиотеку pandas для работы с данными."
   ]
  },
  {
   "cell_type": "code",
   "execution_count": 1,
   "metadata": {},
   "outputs": [],
   "source": [
    "import pandas as pd # импорт библиотеки pandas"
   ]
  },
  {
   "cell_type": "code",
   "execution_count": 2,
   "metadata": {},
   "outputs": [],
   "source": [
    "import numpy as np # импорт библиотеки numpy для последующего округления данных в бОльшую сторону"
   ]
  },
  {
   "cell_type": "code",
   "execution_count": 3,
   "metadata": {},
   "outputs": [],
   "source": [
    "import matplotlib.pyplot as plt # импорт библиотеки matplotlib для построения графиков"
   ]
  },
  {
   "cell_type": "markdown",
   "metadata": {},
   "source": [
    "### Таблица users"
   ]
  },
  {
   "cell_type": "markdown",
   "metadata": {},
   "source": [
    "Откроем таблицу с данными, выведем первые 10 строк."
   ]
  },
  {
   "cell_type": "code",
   "execution_count": 4,
   "metadata": {
    "scrolled": true
   },
   "outputs": [
    {
     "data": {
      "text/html": [
       "<div>\n",
       "<style scoped>\n",
       "    .dataframe tbody tr th:only-of-type {\n",
       "        vertical-align: middle;\n",
       "    }\n",
       "\n",
       "    .dataframe tbody tr th {\n",
       "        vertical-align: top;\n",
       "    }\n",
       "\n",
       "    .dataframe thead th {\n",
       "        text-align: right;\n",
       "    }\n",
       "</style>\n",
       "<table border=\"1\" class=\"dataframe\">\n",
       "  <thead>\n",
       "    <tr style=\"text-align: right;\">\n",
       "      <th></th>\n",
       "      <th>user_id</th>\n",
       "      <th>age</th>\n",
       "      <th>churn_date</th>\n",
       "      <th>city</th>\n",
       "      <th>first_name</th>\n",
       "      <th>last_name</th>\n",
       "      <th>reg_date</th>\n",
       "      <th>tariff</th>\n",
       "    </tr>\n",
       "  </thead>\n",
       "  <tbody>\n",
       "    <tr>\n",
       "      <th>0</th>\n",
       "      <td>1000</td>\n",
       "      <td>52</td>\n",
       "      <td>NaN</td>\n",
       "      <td>Краснодар</td>\n",
       "      <td>Рафаил</td>\n",
       "      <td>Верещагин</td>\n",
       "      <td>2018-05-25</td>\n",
       "      <td>ultra</td>\n",
       "    </tr>\n",
       "    <tr>\n",
       "      <th>1</th>\n",
       "      <td>1001</td>\n",
       "      <td>41</td>\n",
       "      <td>NaN</td>\n",
       "      <td>Москва</td>\n",
       "      <td>Иван</td>\n",
       "      <td>Ежов</td>\n",
       "      <td>2018-11-01</td>\n",
       "      <td>smart</td>\n",
       "    </tr>\n",
       "    <tr>\n",
       "      <th>2</th>\n",
       "      <td>1002</td>\n",
       "      <td>59</td>\n",
       "      <td>NaN</td>\n",
       "      <td>Стерлитамак</td>\n",
       "      <td>Евгений</td>\n",
       "      <td>Абрамович</td>\n",
       "      <td>2018-06-17</td>\n",
       "      <td>smart</td>\n",
       "    </tr>\n",
       "    <tr>\n",
       "      <th>3</th>\n",
       "      <td>1003</td>\n",
       "      <td>23</td>\n",
       "      <td>NaN</td>\n",
       "      <td>Москва</td>\n",
       "      <td>Белла</td>\n",
       "      <td>Белякова</td>\n",
       "      <td>2018-08-17</td>\n",
       "      <td>ultra</td>\n",
       "    </tr>\n",
       "    <tr>\n",
       "      <th>4</th>\n",
       "      <td>1004</td>\n",
       "      <td>68</td>\n",
       "      <td>NaN</td>\n",
       "      <td>Новокузнецк</td>\n",
       "      <td>Татьяна</td>\n",
       "      <td>Авдеенко</td>\n",
       "      <td>2018-05-14</td>\n",
       "      <td>ultra</td>\n",
       "    </tr>\n",
       "    <tr>\n",
       "      <th>5</th>\n",
       "      <td>1005</td>\n",
       "      <td>67</td>\n",
       "      <td>NaN</td>\n",
       "      <td>Набережные Челны</td>\n",
       "      <td>Афанасий</td>\n",
       "      <td>Горлов</td>\n",
       "      <td>2018-01-25</td>\n",
       "      <td>smart</td>\n",
       "    </tr>\n",
       "    <tr>\n",
       "      <th>6</th>\n",
       "      <td>1006</td>\n",
       "      <td>21</td>\n",
       "      <td>NaN</td>\n",
       "      <td>Ульяновск</td>\n",
       "      <td>Леонид</td>\n",
       "      <td>Ермолаев</td>\n",
       "      <td>2018-02-26</td>\n",
       "      <td>smart</td>\n",
       "    </tr>\n",
       "    <tr>\n",
       "      <th>7</th>\n",
       "      <td>1007</td>\n",
       "      <td>65</td>\n",
       "      <td>NaN</td>\n",
       "      <td>Москва</td>\n",
       "      <td>Юна</td>\n",
       "      <td>Березина</td>\n",
       "      <td>2018-04-19</td>\n",
       "      <td>smart</td>\n",
       "    </tr>\n",
       "    <tr>\n",
       "      <th>8</th>\n",
       "      <td>1008</td>\n",
       "      <td>63</td>\n",
       "      <td>NaN</td>\n",
       "      <td>Челябинск</td>\n",
       "      <td>Рустэм</td>\n",
       "      <td>Пономарёв</td>\n",
       "      <td>2018-12-19</td>\n",
       "      <td>smart</td>\n",
       "    </tr>\n",
       "    <tr>\n",
       "      <th>9</th>\n",
       "      <td>1009</td>\n",
       "      <td>24</td>\n",
       "      <td>NaN</td>\n",
       "      <td>Пермь</td>\n",
       "      <td>Василиса</td>\n",
       "      <td>Блинова</td>\n",
       "      <td>2018-03-22</td>\n",
       "      <td>smart</td>\n",
       "    </tr>\n",
       "  </tbody>\n",
       "</table>\n",
       "</div>"
      ],
      "text/plain": [
       "   user_id  age churn_date              city first_name  last_name  \\\n",
       "0     1000   52        NaN         Краснодар     Рафаил  Верещагин   \n",
       "1     1001   41        NaN            Москва       Иван       Ежов   \n",
       "2     1002   59        NaN       Стерлитамак    Евгений  Абрамович   \n",
       "3     1003   23        NaN            Москва      Белла   Белякова   \n",
       "4     1004   68        NaN       Новокузнецк    Татьяна   Авдеенко   \n",
       "5     1005   67        NaN  Набережные Челны   Афанасий     Горлов   \n",
       "6     1006   21        NaN         Ульяновск     Леонид   Ермолаев   \n",
       "7     1007   65        NaN            Москва        Юна   Березина   \n",
       "8     1008   63        NaN         Челябинск     Рустэм  Пономарёв   \n",
       "9     1009   24        NaN             Пермь   Василиса    Блинова   \n",
       "\n",
       "     reg_date tariff  \n",
       "0  2018-05-25  ultra  \n",
       "1  2018-11-01  smart  \n",
       "2  2018-06-17  smart  \n",
       "3  2018-08-17  ultra  \n",
       "4  2018-05-14  ultra  \n",
       "5  2018-01-25  smart  \n",
       "6  2018-02-26  smart  \n",
       "7  2018-04-19  smart  \n",
       "8  2018-12-19  smart  \n",
       "9  2018-03-22  smart  "
      ]
     },
     "execution_count": 4,
     "metadata": {},
     "output_type": "execute_result"
    }
   ],
   "source": [
    "# чтение файла с данными и сохранение в df_users \n",
    "df_users = pd.read_csv('/datasets/users.csv')\n",
    "# вывод первых 10 строк\n",
    "df_users.head(10)"
   ]
  },
  {
   "cell_type": "markdown",
   "metadata": {},
   "source": [
    "Изучим общую информацию о данных."
   ]
  },
  {
   "cell_type": "code",
   "execution_count": 5,
   "metadata": {},
   "outputs": [
    {
     "name": "stdout",
     "output_type": "stream",
     "text": [
      "<class 'pandas.core.frame.DataFrame'>\n",
      "RangeIndex: 500 entries, 0 to 499\n",
      "Data columns (total 8 columns):\n",
      " #   Column      Non-Null Count  Dtype \n",
      "---  ------      --------------  ----- \n",
      " 0   user_id     500 non-null    int64 \n",
      " 1   age         500 non-null    int64 \n",
      " 2   churn_date  38 non-null     object\n",
      " 3   city        500 non-null    object\n",
      " 4   first_name  500 non-null    object\n",
      " 5   last_name   500 non-null    object\n",
      " 6   reg_date    500 non-null    object\n",
      " 7   tariff      500 non-null    object\n",
      "dtypes: int64(2), object(6)\n",
      "memory usage: 31.4+ KB\n"
     ]
    }
   ],
   "source": [
    "df_users.info() # получение общей информации о структуре таблицы df_users"
   ]
  },
  {
   "cell_type": "markdown",
   "metadata": {},
   "source": [
    "Таблица содержит 8 столбцов, 500 строк. Наименования столбцов оформлены \"змеиным стилем\", переименование не требуется. \n",
    "\n",
    "В столбцах содержатся данные двух типов:\n",
    "\n",
    "2 столбца содержат целые числа\n",
    "6 столбцов содержат строки\n",
    "\n",
    "Тип данных в столбцах churn_date и reg_date неверный, на следующем шаге потребуется изменить тип данных в столбцах churn_date и reg_date на datetime.\n",
    "\n",
    "В столбце churn_date отсутствует большое количество значений, на следующем шаге потребуется заменить NaN на 0 для удобства проведения анализа."
   ]
  },
  {
   "cell_type": "markdown",
   "metadata": {},
   "source": [
    "Проверим данные на наличие явных дубликатов."
   ]
  },
  {
   "cell_type": "code",
   "execution_count": 6,
   "metadata": {},
   "outputs": [
    {
     "data": {
      "text/plain": [
       "0"
      ]
     },
     "execution_count": 6,
     "metadata": {},
     "output_type": "execute_result"
    }
   ],
   "source": [
    "df_users.duplicated().sum() # проверка наличия дубликатов"
   ]
  },
  {
   "cell_type": "markdown",
   "metadata": {},
   "source": [
    "Явные дубликаты в таблице отсутствуют."
   ]
  },
  {
   "cell_type": "markdown",
   "metadata": {},
   "source": [
    "### Таблица tariffs"
   ]
  },
  {
   "cell_type": "markdown",
   "metadata": {},
   "source": [
    "Откроем таблицу с данными, выведем первые строки."
   ]
  },
  {
   "cell_type": "code",
   "execution_count": 7,
   "metadata": {},
   "outputs": [
    {
     "data": {
      "text/html": [
       "<div>\n",
       "<style scoped>\n",
       "    .dataframe tbody tr th:only-of-type {\n",
       "        vertical-align: middle;\n",
       "    }\n",
       "\n",
       "    .dataframe tbody tr th {\n",
       "        vertical-align: top;\n",
       "    }\n",
       "\n",
       "    .dataframe thead th {\n",
       "        text-align: right;\n",
       "    }\n",
       "</style>\n",
       "<table border=\"1\" class=\"dataframe\">\n",
       "  <thead>\n",
       "    <tr style=\"text-align: right;\">\n",
       "      <th></th>\n",
       "      <th>messages_included</th>\n",
       "      <th>mb_per_month_included</th>\n",
       "      <th>minutes_included</th>\n",
       "      <th>rub_monthly_fee</th>\n",
       "      <th>rub_per_gb</th>\n",
       "      <th>rub_per_message</th>\n",
       "      <th>rub_per_minute</th>\n",
       "      <th>tariff_name</th>\n",
       "    </tr>\n",
       "  </thead>\n",
       "  <tbody>\n",
       "    <tr>\n",
       "      <th>0</th>\n",
       "      <td>50</td>\n",
       "      <td>15360</td>\n",
       "      <td>500</td>\n",
       "      <td>550</td>\n",
       "      <td>200</td>\n",
       "      <td>3</td>\n",
       "      <td>3</td>\n",
       "      <td>smart</td>\n",
       "    </tr>\n",
       "    <tr>\n",
       "      <th>1</th>\n",
       "      <td>1000</td>\n",
       "      <td>30720</td>\n",
       "      <td>3000</td>\n",
       "      <td>1950</td>\n",
       "      <td>150</td>\n",
       "      <td>1</td>\n",
       "      <td>1</td>\n",
       "      <td>ultra</td>\n",
       "    </tr>\n",
       "  </tbody>\n",
       "</table>\n",
       "</div>"
      ],
      "text/plain": [
       "   messages_included  mb_per_month_included  minutes_included  \\\n",
       "0                 50                  15360               500   \n",
       "1               1000                  30720              3000   \n",
       "\n",
       "   rub_monthly_fee  rub_per_gb  rub_per_message  rub_per_minute tariff_name  \n",
       "0              550         200                3               3       smart  \n",
       "1             1950         150                1               1       ultra  "
      ]
     },
     "execution_count": 7,
     "metadata": {},
     "output_type": "execute_result"
    }
   ],
   "source": [
    "# чтение файла с данными и сохранение в df_tariffs\n",
    "df_tariffs = pd.read_csv('/datasets/tariffs.csv') \n",
    "# вывод первых строк\n",
    "df_tariffs.head()"
   ]
  },
  {
   "cell_type": "markdown",
   "metadata": {},
   "source": [
    "Изучим общую информацию о данных."
   ]
  },
  {
   "cell_type": "code",
   "execution_count": 8,
   "metadata": {
    "scrolled": true
   },
   "outputs": [
    {
     "name": "stdout",
     "output_type": "stream",
     "text": [
      "<class 'pandas.core.frame.DataFrame'>\n",
      "RangeIndex: 2 entries, 0 to 1\n",
      "Data columns (total 8 columns):\n",
      " #   Column                 Non-Null Count  Dtype \n",
      "---  ------                 --------------  ----- \n",
      " 0   messages_included      2 non-null      int64 \n",
      " 1   mb_per_month_included  2 non-null      int64 \n",
      " 2   minutes_included       2 non-null      int64 \n",
      " 3   rub_monthly_fee        2 non-null      int64 \n",
      " 4   rub_per_gb             2 non-null      int64 \n",
      " 5   rub_per_message        2 non-null      int64 \n",
      " 6   rub_per_minute         2 non-null      int64 \n",
      " 7   tariff_name            2 non-null      object\n",
      "dtypes: int64(7), object(1)\n",
      "memory usage: 256.0+ bytes\n"
     ]
    }
   ],
   "source": [
    "df_tariffs.info() # получение общей информации о структуре таблицы df_tariffs"
   ]
  },
  {
   "cell_type": "markdown",
   "metadata": {},
   "source": [
    "Таблица содержит 8 столбцов, 2 строки. Наименования столбцов оформлены \"змеиным стилем\", переименование не требуется. \n",
    "\n",
    "В столбцах содержатся данные двух типов:\n",
    "\n",
    "7 столбцов содержат целые числа\n",
    "1 столбец содержит строки\n",
    "\n",
    "Тип данных в столбцах корректный, пропущенных значений и дубликатов нет."
   ]
  },
  {
   "cell_type": "markdown",
   "metadata": {},
   "source": [
    "### Таблица messages"
   ]
  },
  {
   "cell_type": "markdown",
   "metadata": {},
   "source": [
    "Откроем таблицу с данными, выведем первые 10 строк."
   ]
  },
  {
   "cell_type": "code",
   "execution_count": 9,
   "metadata": {
    "scrolled": true
   },
   "outputs": [
    {
     "data": {
      "text/html": [
       "<div>\n",
       "<style scoped>\n",
       "    .dataframe tbody tr th:only-of-type {\n",
       "        vertical-align: middle;\n",
       "    }\n",
       "\n",
       "    .dataframe tbody tr th {\n",
       "        vertical-align: top;\n",
       "    }\n",
       "\n",
       "    .dataframe thead th {\n",
       "        text-align: right;\n",
       "    }\n",
       "</style>\n",
       "<table border=\"1\" class=\"dataframe\">\n",
       "  <thead>\n",
       "    <tr style=\"text-align: right;\">\n",
       "      <th></th>\n",
       "      <th>id</th>\n",
       "      <th>message_date</th>\n",
       "      <th>user_id</th>\n",
       "    </tr>\n",
       "  </thead>\n",
       "  <tbody>\n",
       "    <tr>\n",
       "      <th>0</th>\n",
       "      <td>1000_0</td>\n",
       "      <td>2018-06-27</td>\n",
       "      <td>1000</td>\n",
       "    </tr>\n",
       "    <tr>\n",
       "      <th>1</th>\n",
       "      <td>1000_1</td>\n",
       "      <td>2018-10-08</td>\n",
       "      <td>1000</td>\n",
       "    </tr>\n",
       "    <tr>\n",
       "      <th>2</th>\n",
       "      <td>1000_2</td>\n",
       "      <td>2018-08-04</td>\n",
       "      <td>1000</td>\n",
       "    </tr>\n",
       "    <tr>\n",
       "      <th>3</th>\n",
       "      <td>1000_3</td>\n",
       "      <td>2018-06-16</td>\n",
       "      <td>1000</td>\n",
       "    </tr>\n",
       "    <tr>\n",
       "      <th>4</th>\n",
       "      <td>1000_4</td>\n",
       "      <td>2018-12-05</td>\n",
       "      <td>1000</td>\n",
       "    </tr>\n",
       "    <tr>\n",
       "      <th>5</th>\n",
       "      <td>1000_5</td>\n",
       "      <td>2018-06-20</td>\n",
       "      <td>1000</td>\n",
       "    </tr>\n",
       "    <tr>\n",
       "      <th>6</th>\n",
       "      <td>1000_6</td>\n",
       "      <td>2018-11-19</td>\n",
       "      <td>1000</td>\n",
       "    </tr>\n",
       "    <tr>\n",
       "      <th>7</th>\n",
       "      <td>1000_7</td>\n",
       "      <td>2018-10-29</td>\n",
       "      <td>1000</td>\n",
       "    </tr>\n",
       "    <tr>\n",
       "      <th>8</th>\n",
       "      <td>1000_8</td>\n",
       "      <td>2018-06-25</td>\n",
       "      <td>1000</td>\n",
       "    </tr>\n",
       "    <tr>\n",
       "      <th>9</th>\n",
       "      <td>1000_9</td>\n",
       "      <td>2018-12-18</td>\n",
       "      <td>1000</td>\n",
       "    </tr>\n",
       "  </tbody>\n",
       "</table>\n",
       "</div>"
      ],
      "text/plain": [
       "       id message_date  user_id\n",
       "0  1000_0   2018-06-27     1000\n",
       "1  1000_1   2018-10-08     1000\n",
       "2  1000_2   2018-08-04     1000\n",
       "3  1000_3   2018-06-16     1000\n",
       "4  1000_4   2018-12-05     1000\n",
       "5  1000_5   2018-06-20     1000\n",
       "6  1000_6   2018-11-19     1000\n",
       "7  1000_7   2018-10-29     1000\n",
       "8  1000_8   2018-06-25     1000\n",
       "9  1000_9   2018-12-18     1000"
      ]
     },
     "execution_count": 9,
     "metadata": {},
     "output_type": "execute_result"
    }
   ],
   "source": [
    "# чтение файла с данными и сохранение в df_messages\n",
    "df_messages = pd.read_csv('/datasets/messages.csv', parse_dates=['message_date']) \n",
    "# вывод первых 10 строк\n",
    "df_messages.head(10)"
   ]
  },
  {
   "cell_type": "markdown",
   "metadata": {},
   "source": [
    "Изучим общую информацию о данных."
   ]
  },
  {
   "cell_type": "code",
   "execution_count": 10,
   "metadata": {
    "scrolled": true
   },
   "outputs": [
    {
     "name": "stdout",
     "output_type": "stream",
     "text": [
      "<class 'pandas.core.frame.DataFrame'>\n",
      "RangeIndex: 123036 entries, 0 to 123035\n",
      "Data columns (total 3 columns):\n",
      " #   Column        Non-Null Count   Dtype         \n",
      "---  ------        --------------   -----         \n",
      " 0   id            123036 non-null  object        \n",
      " 1   message_date  123036 non-null  datetime64[ns]\n",
      " 2   user_id       123036 non-null  int64         \n",
      "dtypes: datetime64[ns](1), int64(1), object(1)\n",
      "memory usage: 2.8+ MB\n"
     ]
    }
   ],
   "source": [
    "df_messages.info() # получение общей информации о структуре таблицы df_messages"
   ]
  },
  {
   "cell_type": "markdown",
   "metadata": {},
   "source": [
    "Таблица содержит 3 столбца, 123 036 строк. Наименования столбцов оформлены \"змеиным стилем\", переименование не требуется. \n",
    "\n",
    "В столбцах содержатся данные двух типов:\n",
    "\n",
    "1 столбец содержит целые числа\n",
    "2 столбца содержат строки\n",
    "\n",
    "Тип данных в столбце message_date неверный, на следующем шаге потребуется изменить тип данных в столбце message_date на datetime.\n",
    "\n",
    "Пропущенных значений в таблице нет."
   ]
  },
  {
   "cell_type": "markdown",
   "metadata": {},
   "source": [
    "Проверим данные на наличие явных дубликатов."
   ]
  },
  {
   "cell_type": "code",
   "execution_count": 11,
   "metadata": {},
   "outputs": [
    {
     "data": {
      "text/plain": [
       "0"
      ]
     },
     "execution_count": 11,
     "metadata": {},
     "output_type": "execute_result"
    }
   ],
   "source": [
    "df_messages.duplicated().sum() # проверка наличия дубликатов"
   ]
  },
  {
   "cell_type": "markdown",
   "metadata": {},
   "source": [
    "Явные дубликаты в таблице отсутствуют."
   ]
  },
  {
   "cell_type": "markdown",
   "metadata": {},
   "source": [
    "### Таблица internet"
   ]
  },
  {
   "cell_type": "markdown",
   "metadata": {},
   "source": [
    "Откроем таблицу с данными, выведем первые 10 строк."
   ]
  },
  {
   "cell_type": "code",
   "execution_count": 12,
   "metadata": {
    "scrolled": true
   },
   "outputs": [
    {
     "data": {
      "text/html": [
       "<div>\n",
       "<style scoped>\n",
       "    .dataframe tbody tr th:only-of-type {\n",
       "        vertical-align: middle;\n",
       "    }\n",
       "\n",
       "    .dataframe tbody tr th {\n",
       "        vertical-align: top;\n",
       "    }\n",
       "\n",
       "    .dataframe thead th {\n",
       "        text-align: right;\n",
       "    }\n",
       "</style>\n",
       "<table border=\"1\" class=\"dataframe\">\n",
       "  <thead>\n",
       "    <tr style=\"text-align: right;\">\n",
       "      <th></th>\n",
       "      <th>Unnamed: 0</th>\n",
       "      <th>id</th>\n",
       "      <th>mb_used</th>\n",
       "      <th>session_date</th>\n",
       "      <th>user_id</th>\n",
       "    </tr>\n",
       "  </thead>\n",
       "  <tbody>\n",
       "    <tr>\n",
       "      <th>0</th>\n",
       "      <td>0</td>\n",
       "      <td>1000_0</td>\n",
       "      <td>112.95</td>\n",
       "      <td>2018-11-25</td>\n",
       "      <td>1000</td>\n",
       "    </tr>\n",
       "    <tr>\n",
       "      <th>1</th>\n",
       "      <td>1</td>\n",
       "      <td>1000_1</td>\n",
       "      <td>1052.81</td>\n",
       "      <td>2018-09-07</td>\n",
       "      <td>1000</td>\n",
       "    </tr>\n",
       "    <tr>\n",
       "      <th>2</th>\n",
       "      <td>2</td>\n",
       "      <td>1000_2</td>\n",
       "      <td>1197.26</td>\n",
       "      <td>2018-06-25</td>\n",
       "      <td>1000</td>\n",
       "    </tr>\n",
       "    <tr>\n",
       "      <th>3</th>\n",
       "      <td>3</td>\n",
       "      <td>1000_3</td>\n",
       "      <td>550.27</td>\n",
       "      <td>2018-08-22</td>\n",
       "      <td>1000</td>\n",
       "    </tr>\n",
       "    <tr>\n",
       "      <th>4</th>\n",
       "      <td>4</td>\n",
       "      <td>1000_4</td>\n",
       "      <td>302.56</td>\n",
       "      <td>2018-09-24</td>\n",
       "      <td>1000</td>\n",
       "    </tr>\n",
       "    <tr>\n",
       "      <th>5</th>\n",
       "      <td>5</td>\n",
       "      <td>1000_5</td>\n",
       "      <td>399.97</td>\n",
       "      <td>2018-10-02</td>\n",
       "      <td>1000</td>\n",
       "    </tr>\n",
       "    <tr>\n",
       "      <th>6</th>\n",
       "      <td>6</td>\n",
       "      <td>1000_6</td>\n",
       "      <td>540.08</td>\n",
       "      <td>2018-09-07</td>\n",
       "      <td>1000</td>\n",
       "    </tr>\n",
       "    <tr>\n",
       "      <th>7</th>\n",
       "      <td>7</td>\n",
       "      <td>1000_7</td>\n",
       "      <td>415.70</td>\n",
       "      <td>2018-07-11</td>\n",
       "      <td>1000</td>\n",
       "    </tr>\n",
       "    <tr>\n",
       "      <th>8</th>\n",
       "      <td>8</td>\n",
       "      <td>1000_8</td>\n",
       "      <td>505.40</td>\n",
       "      <td>2018-10-08</td>\n",
       "      <td>1000</td>\n",
       "    </tr>\n",
       "    <tr>\n",
       "      <th>9</th>\n",
       "      <td>9</td>\n",
       "      <td>1000_9</td>\n",
       "      <td>345.54</td>\n",
       "      <td>2018-09-03</td>\n",
       "      <td>1000</td>\n",
       "    </tr>\n",
       "  </tbody>\n",
       "</table>\n",
       "</div>"
      ],
      "text/plain": [
       "   Unnamed: 0      id  mb_used session_date  user_id\n",
       "0           0  1000_0   112.95   2018-11-25     1000\n",
       "1           1  1000_1  1052.81   2018-09-07     1000\n",
       "2           2  1000_2  1197.26   2018-06-25     1000\n",
       "3           3  1000_3   550.27   2018-08-22     1000\n",
       "4           4  1000_4   302.56   2018-09-24     1000\n",
       "5           5  1000_5   399.97   2018-10-02     1000\n",
       "6           6  1000_6   540.08   2018-09-07     1000\n",
       "7           7  1000_7   415.70   2018-07-11     1000\n",
       "8           8  1000_8   505.40   2018-10-08     1000\n",
       "9           9  1000_9   345.54   2018-09-03     1000"
      ]
     },
     "execution_count": 12,
     "metadata": {},
     "output_type": "execute_result"
    }
   ],
   "source": [
    "# чтение файла с данными и сохранение в df_internet\n",
    "df_internet = pd.read_csv('/datasets/internet.csv') \n",
    "# вывод первых 10 строк\n",
    "df_internet.head(10)"
   ]
  },
  {
   "cell_type": "code",
   "execution_count": 13,
   "metadata": {},
   "outputs": [
    {
     "data": {
      "text/html": [
       "<div>\n",
       "<style scoped>\n",
       "    .dataframe tbody tr th:only-of-type {\n",
       "        vertical-align: middle;\n",
       "    }\n",
       "\n",
       "    .dataframe tbody tr th {\n",
       "        vertical-align: top;\n",
       "    }\n",
       "\n",
       "    .dataframe thead th {\n",
       "        text-align: right;\n",
       "    }\n",
       "</style>\n",
       "<table border=\"1\" class=\"dataframe\">\n",
       "  <thead>\n",
       "    <tr style=\"text-align: right;\">\n",
       "      <th></th>\n",
       "      <th>id</th>\n",
       "      <th>mb_used</th>\n",
       "      <th>session_date</th>\n",
       "      <th>user_id</th>\n",
       "    </tr>\n",
       "  </thead>\n",
       "  <tbody>\n",
       "    <tr>\n",
       "      <th>0</th>\n",
       "      <td>1000_0</td>\n",
       "      <td>112.95</td>\n",
       "      <td>2018-11-25</td>\n",
       "      <td>1000</td>\n",
       "    </tr>\n",
       "    <tr>\n",
       "      <th>1</th>\n",
       "      <td>1000_1</td>\n",
       "      <td>1052.81</td>\n",
       "      <td>2018-09-07</td>\n",
       "      <td>1000</td>\n",
       "    </tr>\n",
       "    <tr>\n",
       "      <th>2</th>\n",
       "      <td>1000_2</td>\n",
       "      <td>1197.26</td>\n",
       "      <td>2018-06-25</td>\n",
       "      <td>1000</td>\n",
       "    </tr>\n",
       "    <tr>\n",
       "      <th>3</th>\n",
       "      <td>1000_3</td>\n",
       "      <td>550.27</td>\n",
       "      <td>2018-08-22</td>\n",
       "      <td>1000</td>\n",
       "    </tr>\n",
       "    <tr>\n",
       "      <th>4</th>\n",
       "      <td>1000_4</td>\n",
       "      <td>302.56</td>\n",
       "      <td>2018-09-24</td>\n",
       "      <td>1000</td>\n",
       "    </tr>\n",
       "    <tr>\n",
       "      <th>5</th>\n",
       "      <td>1000_5</td>\n",
       "      <td>399.97</td>\n",
       "      <td>2018-10-02</td>\n",
       "      <td>1000</td>\n",
       "    </tr>\n",
       "    <tr>\n",
       "      <th>6</th>\n",
       "      <td>1000_6</td>\n",
       "      <td>540.08</td>\n",
       "      <td>2018-09-07</td>\n",
       "      <td>1000</td>\n",
       "    </tr>\n",
       "    <tr>\n",
       "      <th>7</th>\n",
       "      <td>1000_7</td>\n",
       "      <td>415.70</td>\n",
       "      <td>2018-07-11</td>\n",
       "      <td>1000</td>\n",
       "    </tr>\n",
       "    <tr>\n",
       "      <th>8</th>\n",
       "      <td>1000_8</td>\n",
       "      <td>505.40</td>\n",
       "      <td>2018-10-08</td>\n",
       "      <td>1000</td>\n",
       "    </tr>\n",
       "    <tr>\n",
       "      <th>9</th>\n",
       "      <td>1000_9</td>\n",
       "      <td>345.54</td>\n",
       "      <td>2018-09-03</td>\n",
       "      <td>1000</td>\n",
       "    </tr>\n",
       "  </tbody>\n",
       "</table>\n",
       "</div>"
      ],
      "text/plain": [
       "       id  mb_used session_date  user_id\n",
       "0  1000_0   112.95   2018-11-25     1000\n",
       "1  1000_1  1052.81   2018-09-07     1000\n",
       "2  1000_2  1197.26   2018-06-25     1000\n",
       "3  1000_3   550.27   2018-08-22     1000\n",
       "4  1000_4   302.56   2018-09-24     1000\n",
       "5  1000_5   399.97   2018-10-02     1000\n",
       "6  1000_6   540.08   2018-09-07     1000\n",
       "7  1000_7   415.70   2018-07-11     1000\n",
       "8  1000_8   505.40   2018-10-08     1000\n",
       "9  1000_9   345.54   2018-09-03     1000"
      ]
     },
     "execution_count": 13,
     "metadata": {},
     "output_type": "execute_result"
    }
   ],
   "source": [
    "df_internet_test = pd.read_csv('/datasets/internet.csv', index_col=0)\n",
    "df_internet_test.head(10)"
   ]
  },
  {
   "cell_type": "markdown",
   "metadata": {},
   "source": [
    "Изучим общую информацию о данных."
   ]
  },
  {
   "cell_type": "code",
   "execution_count": 14,
   "metadata": {},
   "outputs": [
    {
     "name": "stdout",
     "output_type": "stream",
     "text": [
      "<class 'pandas.core.frame.DataFrame'>\n",
      "RangeIndex: 149396 entries, 0 to 149395\n",
      "Data columns (total 5 columns):\n",
      " #   Column        Non-Null Count   Dtype  \n",
      "---  ------        --------------   -----  \n",
      " 0   Unnamed: 0    149396 non-null  int64  \n",
      " 1   id            149396 non-null  object \n",
      " 2   mb_used       149396 non-null  float64\n",
      " 3   session_date  149396 non-null  object \n",
      " 4   user_id       149396 non-null  int64  \n",
      "dtypes: float64(1), int64(2), object(2)\n",
      "memory usage: 5.7+ MB\n"
     ]
    }
   ],
   "source": [
    "df_internet.info() # получение общей информации о структуре таблицы df_messages"
   ]
  },
  {
   "cell_type": "markdown",
   "metadata": {},
   "source": [
    "Таблица содержит 5 столбцов, 149 396 строк. Наименования столбцов оформлены \"змеиным стилем\", переименование не требуется. \n",
    "\n",
    "В столбцах содержатся данные трех типов:\n",
    "\n",
    "2 столбца содержат целые числа\n",
    "2 столбца содержат строки\n",
    "1 столбец содержит вещественные числа\n",
    "\n",
    "Колонка 'Unnamed: 0' лишняя, ее потребуется удалить на следующем шаге. Тип данных в столбце session_date неверный, на следующем шаге потребуется изменить тип данных в столбце session_date на datetime.\n",
    "\n",
    "Пропущенных значений в таблице нет."
   ]
  },
  {
   "cell_type": "markdown",
   "metadata": {},
   "source": [
    "Проверим данные на наличие явных дубликатов."
   ]
  },
  {
   "cell_type": "code",
   "execution_count": 15,
   "metadata": {},
   "outputs": [
    {
     "data": {
      "text/plain": [
       "0"
      ]
     },
     "execution_count": 15,
     "metadata": {},
     "output_type": "execute_result"
    }
   ],
   "source": [
    "df_internet.duplicated().sum() # проверка наличия дубликатов"
   ]
  },
  {
   "cell_type": "markdown",
   "metadata": {},
   "source": [
    "Явные дубликаты в таблице отсутствую"
   ]
  },
  {
   "cell_type": "markdown",
   "metadata": {},
   "source": [
    "### Таблица calls"
   ]
  },
  {
   "cell_type": "markdown",
   "metadata": {},
   "source": [
    "Откроем таблицу с данными, выведем первые 10 строк."
   ]
  },
  {
   "cell_type": "code",
   "execution_count": 16,
   "metadata": {
    "scrolled": true
   },
   "outputs": [
    {
     "data": {
      "text/html": [
       "<div>\n",
       "<style scoped>\n",
       "    .dataframe tbody tr th:only-of-type {\n",
       "        vertical-align: middle;\n",
       "    }\n",
       "\n",
       "    .dataframe tbody tr th {\n",
       "        vertical-align: top;\n",
       "    }\n",
       "\n",
       "    .dataframe thead th {\n",
       "        text-align: right;\n",
       "    }\n",
       "</style>\n",
       "<table border=\"1\" class=\"dataframe\">\n",
       "  <thead>\n",
       "    <tr style=\"text-align: right;\">\n",
       "      <th></th>\n",
       "      <th>id</th>\n",
       "      <th>call_date</th>\n",
       "      <th>duration</th>\n",
       "      <th>user_id</th>\n",
       "    </tr>\n",
       "  </thead>\n",
       "  <tbody>\n",
       "    <tr>\n",
       "      <th>0</th>\n",
       "      <td>1000_0</td>\n",
       "      <td>2018-07-25</td>\n",
       "      <td>0.00</td>\n",
       "      <td>1000</td>\n",
       "    </tr>\n",
       "    <tr>\n",
       "      <th>1</th>\n",
       "      <td>1000_1</td>\n",
       "      <td>2018-08-17</td>\n",
       "      <td>0.00</td>\n",
       "      <td>1000</td>\n",
       "    </tr>\n",
       "    <tr>\n",
       "      <th>2</th>\n",
       "      <td>1000_2</td>\n",
       "      <td>2018-06-11</td>\n",
       "      <td>2.85</td>\n",
       "      <td>1000</td>\n",
       "    </tr>\n",
       "    <tr>\n",
       "      <th>3</th>\n",
       "      <td>1000_3</td>\n",
       "      <td>2018-09-21</td>\n",
       "      <td>13.80</td>\n",
       "      <td>1000</td>\n",
       "    </tr>\n",
       "    <tr>\n",
       "      <th>4</th>\n",
       "      <td>1000_4</td>\n",
       "      <td>2018-12-15</td>\n",
       "      <td>5.18</td>\n",
       "      <td>1000</td>\n",
       "    </tr>\n",
       "    <tr>\n",
       "      <th>5</th>\n",
       "      <td>1000_5</td>\n",
       "      <td>2018-11-02</td>\n",
       "      <td>0.00</td>\n",
       "      <td>1000</td>\n",
       "    </tr>\n",
       "    <tr>\n",
       "      <th>6</th>\n",
       "      <td>1000_6</td>\n",
       "      <td>2018-10-18</td>\n",
       "      <td>0.00</td>\n",
       "      <td>1000</td>\n",
       "    </tr>\n",
       "    <tr>\n",
       "      <th>7</th>\n",
       "      <td>1000_7</td>\n",
       "      <td>2018-08-22</td>\n",
       "      <td>18.31</td>\n",
       "      <td>1000</td>\n",
       "    </tr>\n",
       "    <tr>\n",
       "      <th>8</th>\n",
       "      <td>1000_8</td>\n",
       "      <td>2018-09-15</td>\n",
       "      <td>18.44</td>\n",
       "      <td>1000</td>\n",
       "    </tr>\n",
       "    <tr>\n",
       "      <th>9</th>\n",
       "      <td>1000_9</td>\n",
       "      <td>2018-08-15</td>\n",
       "      <td>0.00</td>\n",
       "      <td>1000</td>\n",
       "    </tr>\n",
       "  </tbody>\n",
       "</table>\n",
       "</div>"
      ],
      "text/plain": [
       "       id   call_date  duration  user_id\n",
       "0  1000_0  2018-07-25      0.00     1000\n",
       "1  1000_1  2018-08-17      0.00     1000\n",
       "2  1000_2  2018-06-11      2.85     1000\n",
       "3  1000_3  2018-09-21     13.80     1000\n",
       "4  1000_4  2018-12-15      5.18     1000\n",
       "5  1000_5  2018-11-02      0.00     1000\n",
       "6  1000_6  2018-10-18      0.00     1000\n",
       "7  1000_7  2018-08-22     18.31     1000\n",
       "8  1000_8  2018-09-15     18.44     1000\n",
       "9  1000_9  2018-08-15      0.00     1000"
      ]
     },
     "execution_count": 16,
     "metadata": {},
     "output_type": "execute_result"
    }
   ],
   "source": [
    "# чтение файла с данными и сохранение в df_calls\n",
    "df_calls = pd.read_csv('/datasets/calls.csv') \n",
    "# вывод первых 10 строк\n",
    "df_calls.head(10)"
   ]
  },
  {
   "cell_type": "markdown",
   "metadata": {},
   "source": [
    "Изучим общую информацию о данных."
   ]
  },
  {
   "cell_type": "code",
   "execution_count": 17,
   "metadata": {},
   "outputs": [
    {
     "name": "stdout",
     "output_type": "stream",
     "text": [
      "<class 'pandas.core.frame.DataFrame'>\n",
      "RangeIndex: 202607 entries, 0 to 202606\n",
      "Data columns (total 4 columns):\n",
      " #   Column     Non-Null Count   Dtype  \n",
      "---  ------     --------------   -----  \n",
      " 0   id         202607 non-null  object \n",
      " 1   call_date  202607 non-null  object \n",
      " 2   duration   202607 non-null  float64\n",
      " 3   user_id    202607 non-null  int64  \n",
      "dtypes: float64(1), int64(1), object(2)\n",
      "memory usage: 6.2+ MB\n"
     ]
    }
   ],
   "source": [
    "df_calls.info() # получение общей информации о структуре таблицы df_calls"
   ]
  },
  {
   "cell_type": "markdown",
   "metadata": {},
   "source": [
    "Таблица содержит 4 столбца, 202 607 строк. Наименования столбцов оформлены \"змеиным стилем\", переименование не требуется. \n",
    "\n",
    "В столбцах содержатся данные трех типов:\n",
    "\n",
    "1 столбец содержит целые числа\n",
    "2 столбца содержат строки\n",
    "1 столбец содержит вещественные числа\n",
    "\n",
    "Тип данных в столбце call_date неверный, на следующем шаге потребуется изменить тип данных в столбце call_date на datetime.\n",
    "\n",
    "Пропущенных значений в таблице нет."
   ]
  },
  {
   "cell_type": "markdown",
   "metadata": {},
   "source": [
    "Проверим данные на наличие явных дубликатов."
   ]
  },
  {
   "cell_type": "code",
   "execution_count": 18,
   "metadata": {},
   "outputs": [
    {
     "data": {
      "text/plain": [
       "0"
      ]
     },
     "execution_count": 18,
     "metadata": {},
     "output_type": "execute_result"
    }
   ],
   "source": [
    "df_calls.duplicated().sum() # проверка наличия дубликатов"
   ]
  },
  {
   "cell_type": "markdown",
   "metadata": {},
   "source": [
    "Явные дубликаты в таблице отсутствуют."
   ]
  },
  {
   "cell_type": "markdown",
   "metadata": {},
   "source": [
    "<div style=\"border:solid blue 2px; padding: 20px\"> \n",
    "\n",
    "**Вывод**  \n",
    "\n",
    "Таблицы открыты, данные адекватны.\n",
    "\n",
    "Требуется предобработка данных:\n",
    "    \n",
    "1. исправление типов данных в колонках с датами во всех таблицах\n",
    "    \n",
    "2. удаление лишней колонки \"Unnamed: 0\" в таблице \"df_internet\"\n",
    "    \n",
    "3. замена отсутствующих значений в таблице \"df_users\" в колонке \"churn_date\" на 0 \n",
    "    \n",
    "Переименование колонок не требуется.\n",
    "    \n",
    "Дубликатов в данных нет.    \n",
    "\n",
    "</div>"
   ]
  },
  {
   "cell_type": "markdown",
   "metadata": {},
   "source": [
    "## Шаг 2_Подготовка данных"
   ]
  },
  {
   "cell_type": "markdown",
   "metadata": {},
   "source": [
    "### Предобработка данных"
   ]
  },
  {
   "cell_type": "markdown",
   "metadata": {},
   "source": [
    "#### Таблица users"
   ]
  },
  {
   "cell_type": "markdown",
   "metadata": {},
   "source": [
    "Изменим тип данных в колонках churn_date и reg_date на datetime и заменим Nan на 0 в колонке churn_date."
   ]
  },
  {
   "cell_type": "code",
   "execution_count": 19,
   "metadata": {},
   "outputs": [],
   "source": [
    "df_users['churn_date'] = df_users['churn_date'].fillna(0) # замена отсутствующих значений в колонке churn_date на 0"
   ]
  },
  {
   "cell_type": "code",
   "execution_count": 20,
   "metadata": {},
   "outputs": [],
   "source": [
    "df_users['churn_date'] = pd.to_datetime(df_users['churn_date']) # изменение типа данных в колонке churn_date на datetime"
   ]
  },
  {
   "cell_type": "code",
   "execution_count": 21,
   "metadata": {},
   "outputs": [],
   "source": [
    "df_users['reg_date'] = pd.to_datetime(df_users['reg_date']) # изменение типа данных в колонке reg_date на datetime"
   ]
  },
  {
   "cell_type": "markdown",
   "metadata": {},
   "source": [
    "Проверим корректность сделанных изменений."
   ]
  },
  {
   "cell_type": "code",
   "execution_count": 22,
   "metadata": {},
   "outputs": [
    {
     "name": "stdout",
     "output_type": "stream",
     "text": [
      "<class 'pandas.core.frame.DataFrame'>\n",
      "RangeIndex: 500 entries, 0 to 499\n",
      "Data columns (total 8 columns):\n",
      " #   Column      Non-Null Count  Dtype         \n",
      "---  ------      --------------  -----         \n",
      " 0   user_id     500 non-null    int64         \n",
      " 1   age         500 non-null    int64         \n",
      " 2   churn_date  500 non-null    datetime64[ns]\n",
      " 3   city        500 non-null    object        \n",
      " 4   first_name  500 non-null    object        \n",
      " 5   last_name   500 non-null    object        \n",
      " 6   reg_date    500 non-null    datetime64[ns]\n",
      " 7   tariff      500 non-null    object        \n",
      "dtypes: datetime64[ns](2), int64(2), object(4)\n",
      "memory usage: 31.4+ KB\n"
     ]
    }
   ],
   "source": [
    "df_users.info() # вывод информации о таблице"
   ]
  },
  {
   "cell_type": "markdown",
   "metadata": {},
   "source": [
    "Тип данных в колонках churn_date и reg_date изменен, отсутствующих значений в колонке churn_date больше нет."
   ]
  },
  {
   "cell_type": "markdown",
   "metadata": {},
   "source": [
    "Проверим, нет ли в ошибок в данных в каждом из столбцов таблицы."
   ]
  },
  {
   "cell_type": "code",
   "execution_count": 23,
   "metadata": {
    "scrolled": true
   },
   "outputs": [
    {
     "data": {
      "text/plain": [
       "array([1000, 1001, 1002, 1003, 1004, 1005, 1006, 1007, 1008, 1009, 1010,\n",
       "       1011, 1012, 1013, 1014, 1015, 1016, 1017, 1018, 1019, 1020, 1021,\n",
       "       1022, 1023, 1024, 1025, 1026, 1027, 1028, 1029, 1030, 1031, 1032,\n",
       "       1033, 1034, 1035, 1036, 1037, 1038, 1039, 1040, 1041, 1042, 1043,\n",
       "       1044, 1045, 1046, 1047, 1048, 1049, 1050, 1051, 1052, 1053, 1054,\n",
       "       1055, 1056, 1057, 1058, 1059, 1060, 1061, 1062, 1063, 1064, 1065,\n",
       "       1066, 1067, 1068, 1069, 1070, 1071, 1072, 1073, 1074, 1075, 1076,\n",
       "       1077, 1078, 1079, 1080, 1081, 1082, 1083, 1084, 1085, 1086, 1087,\n",
       "       1088, 1089, 1090, 1091, 1092, 1093, 1094, 1095, 1096, 1097, 1098,\n",
       "       1099, 1100, 1101, 1102, 1103, 1104, 1105, 1106, 1107, 1108, 1109,\n",
       "       1110, 1111, 1112, 1113, 1114, 1115, 1116, 1117, 1118, 1119, 1120,\n",
       "       1121, 1122, 1123, 1124, 1125, 1126, 1127, 1128, 1129, 1130, 1131,\n",
       "       1132, 1133, 1134, 1135, 1136, 1137, 1138, 1139, 1140, 1141, 1142,\n",
       "       1143, 1144, 1145, 1146, 1147, 1148, 1149, 1150, 1151, 1152, 1153,\n",
       "       1154, 1155, 1156, 1157, 1158, 1159, 1160, 1161, 1162, 1163, 1164,\n",
       "       1165, 1166, 1167, 1168, 1169, 1170, 1171, 1172, 1173, 1174, 1175,\n",
       "       1176, 1177, 1178, 1179, 1180, 1181, 1182, 1183, 1184, 1185, 1186,\n",
       "       1187, 1188, 1189, 1190, 1191, 1192, 1193, 1194, 1195, 1196, 1197,\n",
       "       1198, 1199, 1200, 1201, 1202, 1203, 1204, 1205, 1206, 1207, 1208,\n",
       "       1209, 1210, 1211, 1212, 1213, 1214, 1215, 1216, 1217, 1218, 1219,\n",
       "       1220, 1221, 1222, 1223, 1224, 1225, 1226, 1227, 1228, 1229, 1230,\n",
       "       1231, 1232, 1233, 1234, 1235, 1236, 1237, 1238, 1239, 1240, 1241,\n",
       "       1242, 1243, 1244, 1245, 1246, 1247, 1248, 1249, 1250, 1251, 1252,\n",
       "       1253, 1254, 1255, 1256, 1257, 1258, 1259, 1260, 1261, 1262, 1263,\n",
       "       1264, 1265, 1266, 1267, 1268, 1269, 1270, 1271, 1272, 1273, 1274,\n",
       "       1275, 1276, 1277, 1278, 1279, 1280, 1281, 1282, 1283, 1284, 1285,\n",
       "       1286, 1287, 1288, 1289, 1290, 1291, 1292, 1293, 1294, 1295, 1296,\n",
       "       1297, 1298, 1299, 1300, 1301, 1302, 1303, 1304, 1305, 1306, 1307,\n",
       "       1308, 1309, 1310, 1311, 1312, 1313, 1314, 1315, 1316, 1317, 1318,\n",
       "       1319, 1320, 1321, 1322, 1323, 1324, 1325, 1326, 1327, 1328, 1329,\n",
       "       1330, 1331, 1332, 1333, 1334, 1335, 1336, 1337, 1338, 1339, 1340,\n",
       "       1341, 1342, 1343, 1344, 1345, 1346, 1347, 1348, 1349, 1350, 1351,\n",
       "       1352, 1353, 1354, 1355, 1356, 1357, 1358, 1359, 1360, 1361, 1362,\n",
       "       1363, 1364, 1365, 1366, 1367, 1368, 1369, 1370, 1371, 1372, 1373,\n",
       "       1374, 1375, 1376, 1377, 1378, 1379, 1380, 1381, 1382, 1383, 1384,\n",
       "       1385, 1386, 1387, 1388, 1389, 1390, 1391, 1392, 1393, 1394, 1395,\n",
       "       1396, 1397, 1398, 1399, 1400, 1401, 1402, 1403, 1404, 1405, 1406,\n",
       "       1407, 1408, 1409, 1410, 1411, 1412, 1413, 1414, 1415, 1416, 1417,\n",
       "       1418, 1419, 1420, 1421, 1422, 1423, 1424, 1425, 1426, 1427, 1428,\n",
       "       1429, 1430, 1431, 1432, 1433, 1434, 1435, 1436, 1437, 1438, 1439,\n",
       "       1440, 1441, 1442, 1443, 1444, 1445, 1446, 1447, 1448, 1449, 1450,\n",
       "       1451, 1452, 1453, 1454, 1455, 1456, 1457, 1458, 1459, 1460, 1461,\n",
       "       1462, 1463, 1464, 1465, 1466, 1467, 1468, 1469, 1470, 1471, 1472,\n",
       "       1473, 1474, 1475, 1476, 1477, 1478, 1479, 1480, 1481, 1482, 1483,\n",
       "       1484, 1485, 1486, 1487, 1488, 1489, 1490, 1491, 1492, 1493, 1494,\n",
       "       1495, 1496, 1497, 1498, 1499])"
      ]
     },
     "execution_count": 23,
     "metadata": {},
     "output_type": "execute_result"
    }
   ],
   "source": [
    "df_users['user_id'].unique() # вывод уникальных значений столбца"
   ]
  },
  {
   "cell_type": "code",
   "execution_count": 24,
   "metadata": {},
   "outputs": [
    {
     "data": {
      "text/plain": [
       "array([52, 41, 59, 23, 68, 67, 21, 65, 63, 24, 26, 44, 38, 36, 64, 58, 73,\n",
       "       71, 61, 72, 42, 56, 32, 62, 20, 51, 28, 66, 31, 37, 47, 40, 69, 48,\n",
       "       33, 39, 43, 46, 45, 55, 53, 34, 49, 25, 18, 70, 50, 19, 54, 60, 29,\n",
       "       27, 74, 22, 30, 75, 57, 35])"
      ]
     },
     "execution_count": 24,
     "metadata": {},
     "output_type": "execute_result"
    }
   ],
   "source": [
    "df_users['age'].unique() # вывод уникальных значений столбца"
   ]
  },
  {
   "cell_type": "code",
   "execution_count": 25,
   "metadata": {},
   "outputs": [
    {
     "data": {
      "text/plain": [
       "array(['1970-01-01T00:00:00.000000000', '2018-10-05T00:00:00.000000000',\n",
       "       '2018-12-18T00:00:00.000000000', '2018-11-21T00:00:00.000000000',\n",
       "       '2018-10-03T00:00:00.000000000', '2018-10-14T00:00:00.000000000',\n",
       "       '2018-12-09T00:00:00.000000000', '2018-12-11T00:00:00.000000000',\n",
       "       '2018-12-26T00:00:00.000000000', '2018-08-31T00:00:00.000000000',\n",
       "       '2018-12-03T00:00:00.000000000', '2018-12-23T00:00:00.000000000',\n",
       "       '2018-11-07T00:00:00.000000000', '2018-12-16T00:00:00.000000000',\n",
       "       '2018-12-20T00:00:00.000000000', '2018-11-30T00:00:00.000000000',\n",
       "       '2018-12-21T00:00:00.000000000', '2018-08-17T00:00:00.000000000',\n",
       "       '2018-09-02T00:00:00.000000000', '2018-10-04T00:00:00.000000000',\n",
       "       '2018-11-13T00:00:00.000000000', '2018-11-22T00:00:00.000000000',\n",
       "       '2018-10-28T00:00:00.000000000', '2018-11-26T00:00:00.000000000',\n",
       "       '2018-11-27T00:00:00.000000000', '2018-11-16T00:00:00.000000000',\n",
       "       '2018-10-27T00:00:00.000000000', '2018-12-30T00:00:00.000000000',\n",
       "       '2018-09-27T00:00:00.000000000', '2018-12-25T00:00:00.000000000',\n",
       "       '2018-12-14T00:00:00.000000000', '2018-12-24T00:00:00.000000000',\n",
       "       '2018-09-26T00:00:00.000000000', '2018-10-25T00:00:00.000000000'],\n",
       "      dtype='datetime64[ns]')"
      ]
     },
     "execution_count": 25,
     "metadata": {},
     "output_type": "execute_result"
    }
   ],
   "source": [
    "df_users['churn_date'].unique() # вывод уникальных значений столбца"
   ]
  },
  {
   "cell_type": "code",
   "execution_count": 26,
   "metadata": {},
   "outputs": [
    {
     "data": {
      "text/plain": [
       "array(['Краснодар', 'Москва', 'Стерлитамак', 'Новокузнецк',\n",
       "       'Набережные Челны', 'Ульяновск', 'Челябинск', 'Пермь', 'Тюмень',\n",
       "       'Самара', 'Санкт-Петербург', 'Иваново', 'Чебоксары', 'Омск', 'Уфа',\n",
       "       'Томск', 'Чита', 'Мурманск', 'Петрозаводск', 'Тверь',\n",
       "       'Екатеринбург', 'Махачкала', 'Вологда', 'Череповец', 'Ярославль',\n",
       "       'Сочи', 'Хабаровск', 'Ставрополь', 'Рязань', 'Улан-Удэ', 'Тула',\n",
       "       'Саратов', 'Ростов-на-Дону', 'Казань', 'Иркутск', 'Курск',\n",
       "       'Калуга', 'Якутск', 'Астрахань', 'Химки', 'Владикавказ',\n",
       "       'Волгоград', 'Саранск', 'Ижевск', 'Новосибирск', 'Брянск',\n",
       "       'Тольятти', 'Нижний Тагил', 'Орёл', 'Белгород', 'Воронеж',\n",
       "       'Волжский', 'Курган', 'Барнаул', 'Красноярск', 'Архангельск',\n",
       "       'Липецк', 'Кемерово', 'Киров', 'Сургут', 'Пенза', 'Магнитогорск',\n",
       "       'Нижний Новгород', 'Кострома', 'Владивосток', 'Тамбов', 'Балашиха',\n",
       "       'Севастополь', 'Калининград', 'Оренбург', 'Смоленск',\n",
       "       'Нижневартовск', 'Владимир', 'Новороссийск', 'Грозный', 'Подольск'],\n",
       "      dtype=object)"
      ]
     },
     "execution_count": 26,
     "metadata": {},
     "output_type": "execute_result"
    }
   ],
   "source": [
    "df_users['city'].unique() # вывод уникальных значений столбца"
   ]
  },
  {
   "cell_type": "code",
   "execution_count": 27,
   "metadata": {},
   "outputs": [
    {
     "data": {
      "text/plain": [
       "array(['Рафаил', 'Иван', 'Евгений', 'Белла', 'Татьяна', 'Афанасий',\n",
       "       'Леонид', 'Юна', 'Рустэм', 'Василиса', 'Эдуард', 'Веселина',\n",
       "       'Варлам', 'Борис', 'Яков', 'Рузана', 'Марица', 'Мария', 'Матвей',\n",
       "       'Игнатий', 'Тала', 'Святослав', 'Людмила', 'Иулиан', 'Владислав',\n",
       "       'Рустем', 'Алексей', 'Мариетта', 'Лаврентий', 'Инна', 'Лия',\n",
       "       'Розалия', 'Анжелика', 'Изольда', 'Агнесса', 'Юрий', 'Михаил',\n",
       "       'Константин', 'Марианна', 'Иннокентий', 'Джемма', 'Екатерина',\n",
       "       'Милица', 'Лола', 'Габриель', 'Кристина', 'Павел', 'Ренальд',\n",
       "       'Луиза', 'Радислав', 'Динара', 'Лукий', 'Глеб', 'Тамара',\n",
       "       'Александр', 'Таира', 'Роза', 'Исак', 'Юзефа', 'Ким', 'Гордей',\n",
       "       'Эльза', 'Гектор', 'Андрей', 'Рафаэль', 'Фёдор', 'Харитон',\n",
       "       'Еремей', 'Всеволод', 'Софья', 'Авксентий', 'Виолетта', 'Ириней',\n",
       "       'Гелена', 'Ксения', 'Вера', 'Вениамин', 'Вероника', 'Даниэла',\n",
       "       'Алла', 'Элеонора', 'Аюна', 'Руслан', 'Онисим', 'Марта', 'Эльвира',\n",
       "       'Габриэль', 'Исаак', 'Милана', 'Арнольд', 'Маргарита', 'Рашид',\n",
       "       'Альберта', 'Дана', 'Олег', 'Альбин', 'Сабина', 'Яна', 'Анвар',\n",
       "       'Инара', 'Нина', 'Надежда', 'Марьяна', 'Милена', 'Пётр', 'Леся',\n",
       "       'Светлана', 'Клариса', 'Симона', 'Арсен', 'Ефим', 'Юлий',\n",
       "       'Владимир', 'Евдокия', 'Алиса', 'Майя', 'Лариса', 'Марина',\n",
       "       'Валерий', 'Виктория', 'Игорь', 'Эльга', 'Лев', 'Геральд',\n",
       "       'Клавдия', 'Лилия', 'Георгина', 'Вадим', 'Каролина', 'Алан',\n",
       "       'Агафья', 'Лолита', 'Радим', 'Наталья', 'Рем', 'Снежана',\n",
       "       'Мануэла', 'Рэм', 'Виталий', 'Рауль', 'Степан', 'Егор', 'Демьян',\n",
       "       'Агата', 'Геннадий', 'Адам', 'Мирослава', 'Елена', 'Ева',\n",
       "       'Евфросинья', 'Арина', 'Гайдар', 'Артемий', 'Рустам', 'Ермолай',\n",
       "       'Кузьма', 'Рубен', 'Ахмет', 'Раиса', 'Денис', 'Нелли', 'Касьян',\n",
       "       'Сара', 'Роксана', 'Леон', 'Алина', 'Даниил', 'Зинаида', 'Артём',\n",
       "       'Анатолий', 'Лейла', 'Александра', 'Серафима', 'Алевтина',\n",
       "       'Эмилия', 'Мадина', 'Антонина', 'Саида', 'Трофим', 'Аким',\n",
       "       'Мальвина', 'Аурелия', 'Мстислав', 'Аксён', 'Семён', 'Валерия',\n",
       "       'Григорий', 'Таисия', 'Арсений', 'Эдита', 'Дебора', 'Олеся',\n",
       "       'Альфред', 'Тихон', 'Наида', 'Илья', 'Инесса', 'Юлия', 'Рудольф',\n",
       "       'Максим', 'Инга', 'Эсмеральда', 'Дайна', 'Джозефина', 'Тимофей',\n",
       "       'Виктор', 'Валентина', 'Анита', 'Илзе', 'Галина', 'Варвара',\n",
       "       'Анфиса', 'Доминика', 'Лаура', 'Рената', 'Оксана', 'Георгий',\n",
       "       'Лидия', 'Евгения', 'Фаддей', 'Герасим', 'Радомир', 'Ренат',\n",
       "       'Владислава', 'Роберт', 'Элина', 'Станислав', 'Элла', 'Гарри',\n",
       "       'Берта', 'Геодар', 'Эльмира', 'Клара', 'Камилла', 'Джулия',\n",
       "       'Карина', 'Нателла', 'Леонтий', 'Ростислав', 'Ангелина', 'Алёна',\n",
       "       'Ринат', 'Эллада', 'Николай', 'Руслана', 'Трифон'], dtype=object)"
      ]
     },
     "execution_count": 27,
     "metadata": {},
     "output_type": "execute_result"
    }
   ],
   "source": [
    "df_users['first_name'].unique() # вывод уникальных значений столбца"
   ]
  },
  {
   "cell_type": "code",
   "execution_count": 28,
   "metadata": {},
   "outputs": [
    {
     "data": {
      "text/plain": [
       "array(['Верещагин', 'Ежов', 'Абрамович', 'Белякова', 'Авдеенко', 'Горлов',\n",
       "       'Ермолаев', 'Березина', 'Пономарёв', 'Блинова', 'Кононов',\n",
       "       'Алёшко', 'Соловьев', 'Андреенко', 'Акинфьев', 'Алюшина',\n",
       "       'Сазонова', 'Аленникова', 'Золотов', 'Круглов', 'Костина',\n",
       "       'Тихонов', 'Трофимова', 'Мельникова', 'Антипов', 'Акинин',\n",
       "       'Бородин', 'Авдеев', 'Евсеев', 'Селезнев', 'Русанова', 'Тимофеев',\n",
       "       'Игнатьева', 'Бабушкина', 'Бондарев', 'Аракина', 'Андропова',\n",
       "       'Архипова', 'Денисова', 'Одинцов', 'Кравцов', 'Добрынин',\n",
       "       'Родионова', 'Рябов', 'Карасева', 'Александрова', 'Меркулова',\n",
       "       'Мясникова', 'Ларин', 'Аничкина', 'Сомова', 'Панов', 'Фёдоров',\n",
       "       'Платонова', 'Артемьев', 'Дьячкова', 'Глушков', 'Свиридов',\n",
       "       'Рудаков', 'Ситникова', 'Коршунов', 'Климова', 'Алфеева',\n",
       "       'Игнатова', 'Малахов', 'Абашкина', 'Демьянов', 'Кочетов',\n",
       "       'Селиванова', 'Чумаков', 'Андрейкин', 'Павловский', 'Никулин',\n",
       "       'Шарапов', 'Кольцова', 'Литвинов', 'Авроров', 'Игнатьев',\n",
       "       'Терехова', 'Малышев', 'Галкин', 'Спиридонова', 'Дорофеева',\n",
       "       'Аксёнов', 'Абалакова', 'Нечаева', 'Астафьева', 'Суслова',\n",
       "       'Амельченко', 'Лапина', 'Пугачева', 'Кабанова', 'Кулешова',\n",
       "       'Озерова', 'Сергеева', 'Красильников', 'Колобов', 'Королькова',\n",
       "       'Лобанова', 'Поляков', 'Рыбакова', 'Костин', 'Воронин', 'Болдырев',\n",
       "       'Андрющенко', 'Александрович', 'Макарова', 'Казанцев', 'Булгаков',\n",
       "       'Колесова', 'Толкачев', 'Шевцова', 'Латышева', 'Сухарев',\n",
       "       'Абдулина', 'Афанасова', 'Устинов', 'Андрианов', 'Арсенкова',\n",
       "       'Ильина', 'Агаева', 'Морозов', 'Крюкова', 'Афонасьева', 'Алехина',\n",
       "       'Аникина', 'Авросимова', 'Воронина', 'Левин', 'Артёшин',\n",
       "       'Ерофеева', 'Корнеева', 'Ахматулин', 'Короткова', 'Алешкова',\n",
       "       'Покровский', 'Ефремов', 'Алешин', 'Никонов', 'Синицын', 'Киреева',\n",
       "       'Алексеенко', 'Муравьева', 'Молчанова', 'Щербакова', 'Одинцова',\n",
       "       'Тихомирова', 'Чернов', 'Белоусова', 'Андрейчук', 'Авдонюшкин',\n",
       "       'Голованова', 'Минаева', 'Вишневский', 'Лебедев', 'Медведев',\n",
       "       'Жданов', 'Ананьева', 'Карташова', 'Козлов', 'Иванова', 'Карасев',\n",
       "       'Григорьева', 'Розанова', 'Марков', 'Куприянов', 'Жарова',\n",
       "       'Астапенко', 'Мишин', 'Аврорин', 'Агаев', 'Тарасова', 'Родина',\n",
       "       'Абакумов', 'Овчинников', 'Соколов', 'Зубкова', 'Абоимов',\n",
       "       'Акиндинов', 'Мальцев', 'Безруков', 'Наумов', 'Петухова',\n",
       "       'Чернышев', 'Черняев', 'Швецов', 'Демьянова', 'Ларионова',\n",
       "       'Веселов', 'Адаменко', 'Григорьев', 'Лазарева', 'Семина',\n",
       "       'Шарапова', 'Зеленина', 'Сахарова', 'Сорокин', 'Серебрякова',\n",
       "       'Азимова', 'Пономарев', 'Муравьёв', 'Алиев', 'Малинин', 'Сазонов',\n",
       "       'Мамонтова', 'Некрасов', 'Астапов', 'Сафонова', 'Панфилов',\n",
       "       'Тарасов', 'Горбачева', 'Бобылёв', 'Калинина', 'Алфимов',\n",
       "       'Капустин', 'Авдюков', 'Ларина', 'Алфимова', 'Алексеева', 'Басова',\n",
       "       'Демидов', 'Кошелева', 'Ёрохов', 'Шарова', 'Федосеев', 'Леонтьев',\n",
       "       'Макеев', 'Коновалова', 'Минаев', 'Авдушева', 'Ракова', 'Тетерина',\n",
       "       'Масленникова', 'Сухарева', 'Пономарева', 'Панфилова', 'Беляев',\n",
       "       'Третьякова', 'Горбунов', 'Пантелеева', 'Зайцев', 'Жукова',\n",
       "       'Адамов', 'Антропова', 'Седова', 'Трошин', 'Ахмадулин',\n",
       "       'Вешнякова', 'Чижова', 'Корнилов', 'Еремин', 'Елизаров', 'Крюков',\n",
       "       'Троицкий', 'Худяков', 'Зимина', 'Аракчеев', 'Крючков', 'Давыдов',\n",
       "       'Богданова', 'Анищенко', 'Дубинина', 'Асафьева', 'Черный',\n",
       "       'Абрамцев', 'Чеснокова', 'Симонова', 'Азерников', 'Авраменко',\n",
       "       'Абаимов', 'Абакшина', 'Соловьёв', 'Лаптева', 'Попов', 'Авсейкина',\n",
       "       'Корнилова', 'Касьянова', 'Нестеров', 'Крылова', 'Поликарпова',\n",
       "       'Суслов', 'Амелишко', 'Агапеева', 'Алымова', 'Зыков', 'Парфенов',\n",
       "       'Киселёв', 'Софронов', 'Сальников', 'Носкова', 'Барсуков',\n",
       "       'Севастьянова', 'Аркадьев', 'Золотова', 'Малинина', 'Антонова',\n",
       "       'Алексеичев', 'Орлов', 'Алютин', 'Кузнецов', 'Казакова',\n",
       "       'Верещагина', 'Ёркина', 'Антропов', 'Фокина', 'Громова',\n",
       "       'Курочкин', 'Козырева', 'Румянцева', 'Кулагина', 'Абрикосова',\n",
       "       'Гончаров', 'Ермилов', 'Логинов', 'Абашкин', 'Болдырева',\n",
       "       'Вишняков', 'Фетисова', 'Антоненко', 'Гришина', 'Сысоев',\n",
       "       'Трофимов', 'Авраамова', 'Афанасенко', 'Акимычева', 'Акимов',\n",
       "       'Семин', 'Бычкова', 'Кочергина', 'Нестерова', 'Родионов', 'Зуев',\n",
       "       'Беляева', 'Беликова', 'Зубков', 'Кондратов', 'Савельева',\n",
       "       'Чистякова', 'Ахмедов', 'Абрашина', 'Артёмов', 'Васильева',\n",
       "       'Измайлова', 'Амелин', 'Уваров', 'Белова', 'Семёнов', 'Пирогова',\n",
       "       'Кукушкин', 'Ильин', 'Прокофьева', 'Афонин', 'Фролов', 'Лукин',\n",
       "       'Ёлчина', 'Макаров', 'Ахматов', 'Яшина', 'Корольков', 'Устинова',\n",
       "       'Силин', 'Ёрохова', 'Фомин', 'Азаров', 'Добрынина', 'Тимофеева',\n",
       "       'Кочетков', 'Алёшкова', 'Субботина', 'Ерофеев', 'Селезнева',\n",
       "       'Бородина', 'Афонина', 'Матвеев', 'Белозёров', 'Ковалева',\n",
       "       'Афинин', 'Иванов', 'Артемчук', 'Алешина', 'Дроздов', 'Новикова',\n",
       "       'Козлова', 'Завьялова', 'Абалдуева', 'Акуленко', 'Авринский',\n",
       "       'Авчинникова', 'Абрамычева', 'Авросинова', 'Ёркин', 'Шевцов',\n",
       "       'Александрюк', 'Авдышев', 'Абалкин', 'Лосева', 'Гаврилова',\n",
       "       'Боброва', 'Любимов', 'Фадеева', 'Семенова', 'Серов',\n",
       "       'Константинова', 'Богданов', 'Емельянова', 'Блохина', 'Борисова',\n",
       "       'Сухова', 'Моргунов', 'Кириллов', 'Филатов', 'Алесин', 'Артёменко',\n",
       "       'Ахматулина', 'Андропов', 'Фокин', 'Блохин', 'Агеева', 'Акимчин'],\n",
       "      dtype=object)"
      ]
     },
     "execution_count": 28,
     "metadata": {},
     "output_type": "execute_result"
    }
   ],
   "source": [
    "df_users['last_name'].unique() # вывод уникальных значений столбца"
   ]
  },
  {
   "cell_type": "code",
   "execution_count": 29,
   "metadata": {},
   "outputs": [
    {
     "data": {
      "text/plain": [
       "array(['2018-05-25T00:00:00.000000000', '2018-11-01T00:00:00.000000000',\n",
       "       '2018-06-17T00:00:00.000000000', '2018-08-17T00:00:00.000000000',\n",
       "       '2018-05-14T00:00:00.000000000', '2018-01-25T00:00:00.000000000',\n",
       "       '2018-02-26T00:00:00.000000000', '2018-04-19T00:00:00.000000000',\n",
       "       '2018-12-19T00:00:00.000000000', '2018-03-22T00:00:00.000000000',\n",
       "       '2018-08-05T00:00:00.000000000', '2018-03-19T00:00:00.000000000',\n",
       "       '2018-03-28T00:00:00.000000000', '2018-11-14T00:00:00.000000000',\n",
       "       '2018-05-15T00:00:00.000000000', '2018-04-30T00:00:00.000000000',\n",
       "       '2018-11-21T00:00:00.000000000', '2018-05-22T00:00:00.000000000',\n",
       "       '2018-04-01T00:00:00.000000000', '2018-05-16T00:00:00.000000000',\n",
       "       '2018-10-22T00:00:00.000000000', '2018-04-26T00:00:00.000000000',\n",
       "       '2018-12-01T00:00:00.000000000', '2018-10-31T00:00:00.000000000',\n",
       "       '2018-03-15T00:00:00.000000000', '2018-10-06T00:00:00.000000000',\n",
       "       '2018-04-10T00:00:00.000000000', '2018-10-02T00:00:00.000000000',\n",
       "       '2018-09-15T00:00:00.000000000', '2018-05-23T00:00:00.000000000',\n",
       "       '2018-11-02T00:00:00.000000000', '2018-01-04T00:00:00.000000000',\n",
       "       '2018-07-15T00:00:00.000000000', '2018-08-26T00:00:00.000000000',\n",
       "       '2018-04-03T00:00:00.000000000', '2018-07-14T00:00:00.000000000',\n",
       "       '2018-10-13T00:00:00.000000000', '2018-10-07T00:00:00.000000000',\n",
       "       '2018-06-21T00:00:00.000000000', '2018-06-08T00:00:00.000000000',\n",
       "       '2018-11-29T00:00:00.000000000', '2018-11-25T00:00:00.000000000',\n",
       "       '2018-07-08T00:00:00.000000000', '2018-05-09T00:00:00.000000000',\n",
       "       '2018-01-30T00:00:00.000000000', '2018-08-20T00:00:00.000000000',\n",
       "       '2018-10-29T00:00:00.000000000', '2018-08-19T00:00:00.000000000',\n",
       "       '2018-03-10T00:00:00.000000000', '2018-06-16T00:00:00.000000000',\n",
       "       '2018-05-28T00:00:00.000000000', '2018-07-27T00:00:00.000000000',\n",
       "       '2018-09-30T00:00:00.000000000', '2018-03-20T00:00:00.000000000',\n",
       "       '2018-01-02T00:00:00.000000000', '2018-04-13T00:00:00.000000000',\n",
       "       '2018-03-12T00:00:00.000000000', '2018-04-14T00:00:00.000000000',\n",
       "       '2018-11-24T00:00:00.000000000', '2018-11-16T00:00:00.000000000',\n",
       "       '2018-04-12T00:00:00.000000000', '2018-03-17T00:00:00.000000000',\n",
       "       '2018-03-08T00:00:00.000000000', '2018-06-24T00:00:00.000000000',\n",
       "       '2018-04-09T00:00:00.000000000', '2018-07-16T00:00:00.000000000',\n",
       "       '2018-12-10T00:00:00.000000000', '2018-08-07T00:00:00.000000000',\n",
       "       '2018-01-09T00:00:00.000000000', '2018-02-20T00:00:00.000000000',\n",
       "       '2018-10-04T00:00:00.000000000', '2018-12-30T00:00:00.000000000',\n",
       "       '2018-10-23T00:00:00.000000000', '2018-06-19T00:00:00.000000000',\n",
       "       '2018-08-12T00:00:00.000000000', '2018-03-25T00:00:00.000000000',\n",
       "       '2018-10-05T00:00:00.000000000', '2018-04-24T00:00:00.000000000',\n",
       "       '2018-12-13T00:00:00.000000000', '2018-06-12T00:00:00.000000000',\n",
       "       '2018-10-03T00:00:00.000000000', '2018-06-04T00:00:00.000000000',\n",
       "       '2018-02-24T00:00:00.000000000', '2018-10-11T00:00:00.000000000',\n",
       "       '2018-05-08T00:00:00.000000000', '2018-06-29T00:00:00.000000000',\n",
       "       '2018-12-23T00:00:00.000000000', '2018-06-25T00:00:00.000000000',\n",
       "       '2018-06-23T00:00:00.000000000', '2018-03-16T00:00:00.000000000',\n",
       "       '2018-07-02T00:00:00.000000000', '2018-05-21T00:00:00.000000000',\n",
       "       '2018-12-04T00:00:00.000000000', '2018-02-21T00:00:00.000000000',\n",
       "       '2018-09-29T00:00:00.000000000', '2018-07-20T00:00:00.000000000',\n",
       "       '2018-02-23T00:00:00.000000000', '2018-05-06T00:00:00.000000000',\n",
       "       '2018-09-04T00:00:00.000000000', '2018-01-24T00:00:00.000000000',\n",
       "       '2018-07-26T00:00:00.000000000', '2018-07-28T00:00:00.000000000',\n",
       "       '2018-04-17T00:00:00.000000000', '2018-03-06T00:00:00.000000000',\n",
       "       '2018-04-22T00:00:00.000000000', '2018-05-04T00:00:00.000000000',\n",
       "       '2018-11-07T00:00:00.000000000', '2018-03-18T00:00:00.000000000',\n",
       "       '2018-09-24T00:00:00.000000000', '2018-09-01T00:00:00.000000000',\n",
       "       '2018-01-19T00:00:00.000000000', '2018-04-11T00:00:00.000000000',\n",
       "       '2018-12-15T00:00:00.000000000', '2018-12-17T00:00:00.000000000',\n",
       "       '2018-12-08T00:00:00.000000000', '2018-10-19T00:00:00.000000000',\n",
       "       '2018-01-16T00:00:00.000000000', '2018-01-29T00:00:00.000000000',\n",
       "       '2018-11-19T00:00:00.000000000', '2018-12-02T00:00:00.000000000',\n",
       "       '2018-07-13T00:00:00.000000000', '2018-11-09T00:00:00.000000000',\n",
       "       '2018-12-31T00:00:00.000000000', '2018-03-24T00:00:00.000000000',\n",
       "       '2018-04-27T00:00:00.000000000', '2018-04-29T00:00:00.000000000',\n",
       "       '2018-07-09T00:00:00.000000000', '2018-05-19T00:00:00.000000000',\n",
       "       '2018-02-05T00:00:00.000000000', '2018-10-18T00:00:00.000000000',\n",
       "       '2018-06-02T00:00:00.000000000', '2018-11-12T00:00:00.000000000',\n",
       "       '2018-02-03T00:00:00.000000000', '2018-11-28T00:00:00.000000000',\n",
       "       '2018-07-03T00:00:00.000000000', '2018-10-09T00:00:00.000000000',\n",
       "       '2018-11-03T00:00:00.000000000', '2018-10-14T00:00:00.000000000',\n",
       "       '2018-12-20T00:00:00.000000000', '2018-05-05T00:00:00.000000000',\n",
       "       '2018-02-17T00:00:00.000000000', '2018-04-08T00:00:00.000000000',\n",
       "       '2018-01-20T00:00:00.000000000', '2018-02-02T00:00:00.000000000',\n",
       "       '2018-11-23T00:00:00.000000000', '2018-07-12T00:00:00.000000000',\n",
       "       '2018-09-03T00:00:00.000000000', '2018-08-22T00:00:00.000000000',\n",
       "       '2018-02-04T00:00:00.000000000', '2018-12-07T00:00:00.000000000',\n",
       "       '2018-06-30T00:00:00.000000000', '2018-01-01T00:00:00.000000000',\n",
       "       '2018-12-03T00:00:00.000000000', '2018-06-18T00:00:00.000000000',\n",
       "       '2018-08-15T00:00:00.000000000', '2018-09-10T00:00:00.000000000',\n",
       "       '2018-04-28T00:00:00.000000000', '2018-08-06T00:00:00.000000000',\n",
       "       '2018-09-20T00:00:00.000000000', '2018-03-13T00:00:00.000000000',\n",
       "       '2018-10-21T00:00:00.000000000', '2018-07-29T00:00:00.000000000',\n",
       "       '2018-06-20T00:00:00.000000000', '2018-07-05T00:00:00.000000000',\n",
       "       '2018-01-21T00:00:00.000000000', '2018-11-22T00:00:00.000000000',\n",
       "       '2018-06-03T00:00:00.000000000', '2018-08-30T00:00:00.000000000',\n",
       "       '2018-12-12T00:00:00.000000000', '2018-06-01T00:00:00.000000000',\n",
       "       '2018-12-22T00:00:00.000000000', '2018-11-04T00:00:00.000000000',\n",
       "       '2018-01-08T00:00:00.000000000', '2018-02-27T00:00:00.000000000',\n",
       "       '2018-05-02T00:00:00.000000000', '2018-11-18T00:00:00.000000000',\n",
       "       '2018-09-26T00:00:00.000000000', '2018-08-14T00:00:00.000000000',\n",
       "       '2018-02-13T00:00:00.000000000', '2018-02-19T00:00:00.000000000',\n",
       "       '2018-09-28T00:00:00.000000000', '2018-10-30T00:00:00.000000000',\n",
       "       '2018-07-17T00:00:00.000000000', '2018-07-01T00:00:00.000000000',\n",
       "       '2018-08-29T00:00:00.000000000', '2018-05-03T00:00:00.000000000',\n",
       "       '2018-08-13T00:00:00.000000000', '2018-07-18T00:00:00.000000000',\n",
       "       '2018-06-09T00:00:00.000000000', '2018-09-07T00:00:00.000000000',\n",
       "       '2018-11-27T00:00:00.000000000', '2018-09-23T00:00:00.000000000',\n",
       "       '2018-09-09T00:00:00.000000000', '2018-05-11T00:00:00.000000000',\n",
       "       '2018-02-08T00:00:00.000000000', '2018-09-05T00:00:00.000000000',\n",
       "       '2018-09-19T00:00:00.000000000', '2018-06-05T00:00:00.000000000',\n",
       "       '2018-01-27T00:00:00.000000000', '2018-09-27T00:00:00.000000000',\n",
       "       '2018-01-23T00:00:00.000000000', '2018-07-25T00:00:00.000000000',\n",
       "       '2018-11-05T00:00:00.000000000', '2018-10-25T00:00:00.000000000',\n",
       "       '2018-11-30T00:00:00.000000000', '2018-08-03T00:00:00.000000000',\n",
       "       '2018-10-24T00:00:00.000000000', '2018-03-04T00:00:00.000000000',\n",
       "       '2018-08-24T00:00:00.000000000', '2018-08-02T00:00:00.000000000',\n",
       "       '2018-05-29T00:00:00.000000000', '2018-10-16T00:00:00.000000000',\n",
       "       '2018-10-08T00:00:00.000000000', '2018-06-26T00:00:00.000000000',\n",
       "       '2018-01-15T00:00:00.000000000', '2018-06-22T00:00:00.000000000',\n",
       "       '2018-12-18T00:00:00.000000000', '2018-07-21T00:00:00.000000000',\n",
       "       '2018-04-18T00:00:00.000000000', '2018-09-02T00:00:00.000000000',\n",
       "       '2018-06-14T00:00:00.000000000', '2018-09-14T00:00:00.000000000',\n",
       "       '2018-12-14T00:00:00.000000000', '2018-08-18T00:00:00.000000000',\n",
       "       '2018-02-06T00:00:00.000000000', '2018-12-25T00:00:00.000000000',\n",
       "       '2018-01-17T00:00:00.000000000', '2018-05-31T00:00:00.000000000',\n",
       "       '2018-02-25T00:00:00.000000000', '2018-08-09T00:00:00.000000000',\n",
       "       '2018-05-07T00:00:00.000000000', '2018-01-13T00:00:00.000000000',\n",
       "       '2018-03-26T00:00:00.000000000', '2018-12-21T00:00:00.000000000',\n",
       "       '2018-08-27T00:00:00.000000000', '2018-07-30T00:00:00.000000000',\n",
       "       '2018-05-12T00:00:00.000000000', '2018-01-12T00:00:00.000000000',\n",
       "       '2018-01-06T00:00:00.000000000', '2018-12-06T00:00:00.000000000',\n",
       "       '2018-11-06T00:00:00.000000000', '2018-03-09T00:00:00.000000000',\n",
       "       '2018-05-20T00:00:00.000000000', '2018-05-27T00:00:00.000000000',\n",
       "       '2018-03-14T00:00:00.000000000', '2018-08-28T00:00:00.000000000',\n",
       "       '2018-07-19T00:00:00.000000000', '2018-02-22T00:00:00.000000000',\n",
       "       '2018-10-12T00:00:00.000000000', '2018-08-25T00:00:00.000000000',\n",
       "       '2018-01-26T00:00:00.000000000', '2018-04-23T00:00:00.000000000',\n",
       "       '2018-08-04T00:00:00.000000000', '2018-01-05T00:00:00.000000000',\n",
       "       '2018-04-04T00:00:00.000000000', '2018-11-13T00:00:00.000000000',\n",
       "       '2018-09-17T00:00:00.000000000', '2018-12-29T00:00:00.000000000',\n",
       "       '2018-08-31T00:00:00.000000000', '2018-09-13T00:00:00.000000000',\n",
       "       '2018-09-16T00:00:00.000000000', '2018-10-10T00:00:00.000000000',\n",
       "       '2018-04-06T00:00:00.000000000', '2018-02-28T00:00:00.000000000',\n",
       "       '2018-02-11T00:00:00.000000000', '2018-07-06T00:00:00.000000000',\n",
       "       '2018-01-18T00:00:00.000000000', '2018-11-11T00:00:00.000000000',\n",
       "       '2018-02-14T00:00:00.000000000', '2018-04-25T00:00:00.000000000'],\n",
       "      dtype='datetime64[ns]')"
      ]
     },
     "execution_count": 29,
     "metadata": {},
     "output_type": "execute_result"
    }
   ],
   "source": [
    "df_users['reg_date'].unique() # вывод уникальных значений столбца"
   ]
  },
  {
   "cell_type": "code",
   "execution_count": 30,
   "metadata": {},
   "outputs": [
    {
     "data": {
      "text/plain": [
       "array(['ultra', 'smart'], dtype=object)"
      ]
     },
     "execution_count": 30,
     "metadata": {},
     "output_type": "execute_result"
    }
   ],
   "source": [
    "df_users['tariff'].unique() # вывод уникальных значений столбца"
   ]
  },
  {
   "cell_type": "markdown",
   "metadata": {},
   "source": [
    "Ошибок в данных нет, все данные адекватные."
   ]
  },
  {
   "cell_type": "markdown",
   "metadata": {},
   "source": [
    "#### Таблица tariffs"
   ]
  },
  {
   "cell_type": "markdown",
   "metadata": {},
   "source": [
    "В Шаге 1 по итогам обзора данных, требующих предобработки, в таблице обнаружено не было."
   ]
  },
  {
   "cell_type": "markdown",
   "metadata": {},
   "source": [
    "#### Таблица messages"
   ]
  },
  {
   "cell_type": "markdown",
   "metadata": {},
   "source": [
    "Исправим формат даты в колонке message_date на datetime."
   ]
  },
  {
   "cell_type": "code",
   "execution_count": 31,
   "metadata": {},
   "outputs": [],
   "source": [
    "# изменение типа данных в колонке message_date на datetime\n",
    "df_messages['message_date'] = pd.to_datetime(df_messages['message_date']) "
   ]
  },
  {
   "cell_type": "markdown",
   "metadata": {},
   "source": [
    "Проверим корректность сделанных изменений."
   ]
  },
  {
   "cell_type": "code",
   "execution_count": 32,
   "metadata": {},
   "outputs": [
    {
     "name": "stdout",
     "output_type": "stream",
     "text": [
      "<class 'pandas.core.frame.DataFrame'>\n",
      "RangeIndex: 123036 entries, 0 to 123035\n",
      "Data columns (total 3 columns):\n",
      " #   Column        Non-Null Count   Dtype         \n",
      "---  ------        --------------   -----         \n",
      " 0   id            123036 non-null  object        \n",
      " 1   message_date  123036 non-null  datetime64[ns]\n",
      " 2   user_id       123036 non-null  int64         \n",
      "dtypes: datetime64[ns](1), int64(1), object(1)\n",
      "memory usage: 2.8+ MB\n"
     ]
    }
   ],
   "source": [
    "df_messages.info() # вывод информации о таблице"
   ]
  },
  {
   "cell_type": "markdown",
   "metadata": {},
   "source": [
    "Тип данных в колонке df_messages успешно изменен."
   ]
  },
  {
   "cell_type": "markdown",
   "metadata": {},
   "source": [
    "Проверим, нет ли в ошибок в данных в каждом из столбцов таблицы."
   ]
  },
  {
   "cell_type": "code",
   "execution_count": 33,
   "metadata": {},
   "outputs": [
    {
     "data": {
      "text/plain": [
       "array(['1000_0', '1000_1', '1000_2', ..., '1499_181', '1499_182',\n",
       "       '1499_183'], dtype=object)"
      ]
     },
     "execution_count": 33,
     "metadata": {},
     "output_type": "execute_result"
    }
   ],
   "source": [
    "df_messages['id'].unique() # вывод уникальных значений столбца"
   ]
  },
  {
   "cell_type": "code",
   "execution_count": 34,
   "metadata": {},
   "outputs": [
    {
     "data": {
      "text/plain": [
       "array(['2018-06-27T00:00:00.000000000', '2018-10-08T00:00:00.000000000',\n",
       "       '2018-08-04T00:00:00.000000000', '2018-06-16T00:00:00.000000000',\n",
       "       '2018-12-05T00:00:00.000000000', '2018-06-20T00:00:00.000000000',\n",
       "       '2018-11-19T00:00:00.000000000', '2018-10-29T00:00:00.000000000',\n",
       "       '2018-06-25T00:00:00.000000000', '2018-12-18T00:00:00.000000000',\n",
       "       '2018-05-30T00:00:00.000000000', '2018-07-06T00:00:00.000000000',\n",
       "       '2018-08-20T00:00:00.000000000', '2018-10-30T00:00:00.000000000',\n",
       "       '2018-09-14T00:00:00.000000000', '2018-08-28T00:00:00.000000000',\n",
       "       '2018-06-29T00:00:00.000000000', '2018-07-07T00:00:00.000000000',\n",
       "       '2018-05-29T00:00:00.000000000', '2018-05-28T00:00:00.000000000',\n",
       "       '2018-08-15T00:00:00.000000000', '2018-07-29T00:00:00.000000000',\n",
       "       '2018-12-07T00:00:00.000000000', '2018-12-25T00:00:00.000000000',\n",
       "       '2018-10-31T00:00:00.000000000', '2018-07-30T00:00:00.000000000',\n",
       "       '2018-11-05T00:00:00.000000000', '2018-12-15T00:00:00.000000000',\n",
       "       '2018-12-04T00:00:00.000000000', '2018-06-30T00:00:00.000000000',\n",
       "       '2018-12-22T00:00:00.000000000', '2018-10-02T00:00:00.000000000',\n",
       "       '2018-08-29T00:00:00.000000000', '2018-09-09T00:00:00.000000000',\n",
       "       '2018-07-19T00:00:00.000000000', '2018-09-04T00:00:00.000000000',\n",
       "       '2018-07-15T00:00:00.000000000', '2018-10-25T00:00:00.000000000',\n",
       "       '2018-12-08T00:00:00.000000000', '2018-06-01T00:00:00.000000000',\n",
       "       '2018-06-12T00:00:00.000000000', '2018-12-21T00:00:00.000000000',\n",
       "       '2018-10-07T00:00:00.000000000', '2018-08-30T00:00:00.000000000',\n",
       "       '2018-06-04T00:00:00.000000000', '2018-10-01T00:00:00.000000000',\n",
       "       '2018-06-22T00:00:00.000000000', '2018-10-12T00:00:00.000000000',\n",
       "       '2018-10-15T00:00:00.000000000', '2018-10-24T00:00:00.000000000',\n",
       "       '2018-09-20T00:00:00.000000000', '2018-08-22T00:00:00.000000000',\n",
       "       '2018-09-17T00:00:00.000000000', '2018-08-27T00:00:00.000000000',\n",
       "       '2018-07-26T00:00:00.000000000', '2018-06-05T00:00:00.000000000',\n",
       "       '2018-11-16T00:00:00.000000000', '2018-09-06T00:00:00.000000000',\n",
       "       '2018-11-26T00:00:00.000000000', '2018-11-18T00:00:00.000000000',\n",
       "       '2018-09-21T00:00:00.000000000', '2018-07-11T00:00:00.000000000',\n",
       "       '2018-07-16T00:00:00.000000000', '2018-11-08T00:00:00.000000000',\n",
       "       '2018-07-25T00:00:00.000000000', '2018-09-13T00:00:00.000000000',\n",
       "       '2018-08-13T00:00:00.000000000', '2018-12-31T00:00:00.000000000',\n",
       "       '2018-06-10T00:00:00.000000000', '2018-06-28T00:00:00.000000000',\n",
       "       '2018-09-18T00:00:00.000000000', '2018-10-11T00:00:00.000000000',\n",
       "       '2018-12-12T00:00:00.000000000', '2018-07-12T00:00:00.000000000',\n",
       "       '2018-09-01T00:00:00.000000000', '2018-07-23T00:00:00.000000000',\n",
       "       '2018-09-22T00:00:00.000000000', '2018-08-17T00:00:00.000000000',\n",
       "       '2018-09-29T00:00:00.000000000', '2018-07-22T00:00:00.000000000',\n",
       "       '2018-06-18T00:00:00.000000000', '2018-06-14T00:00:00.000000000',\n",
       "       '2018-12-10T00:00:00.000000000', '2018-11-29T00:00:00.000000000',\n",
       "       '2018-11-21T00:00:00.000000000', '2018-12-28T00:00:00.000000000',\n",
       "       '2018-11-30T00:00:00.000000000', '2018-08-31T00:00:00.000000000',\n",
       "       '2018-06-26T00:00:00.000000000', '2018-07-21T00:00:00.000000000',\n",
       "       '2018-11-15T00:00:00.000000000', '2018-10-06T00:00:00.000000000',\n",
       "       '2018-06-13T00:00:00.000000000', '2018-12-29T00:00:00.000000000',\n",
       "       '2018-11-10T00:00:00.000000000', '2018-08-24T00:00:00.000000000',\n",
       "       '2018-11-07T00:00:00.000000000', '2018-09-19T00:00:00.000000000',\n",
       "       '2018-08-10T00:00:00.000000000', '2018-07-08T00:00:00.000000000',\n",
       "       '2018-05-25T00:00:00.000000000', '2018-08-21T00:00:00.000000000',\n",
       "       '2018-07-28T00:00:00.000000000', '2018-07-31T00:00:00.000000000',\n",
       "       '2018-11-03T00:00:00.000000000', '2018-11-04T00:00:00.000000000',\n",
       "       '2018-10-26T00:00:00.000000000', '2018-07-01T00:00:00.000000000',\n",
       "       '2018-09-23T00:00:00.000000000', '2018-08-25T00:00:00.000000000',\n",
       "       '2018-07-18T00:00:00.000000000', '2018-11-02T00:00:00.000000000',\n",
       "       '2018-05-27T00:00:00.000000000', '2018-12-03T00:00:00.000000000',\n",
       "       '2018-11-23T00:00:00.000000000', '2018-10-05T00:00:00.000000000',\n",
       "       '2018-11-12T00:00:00.000000000', '2018-07-10T00:00:00.000000000',\n",
       "       '2018-06-24T00:00:00.000000000', '2018-10-17T00:00:00.000000000',\n",
       "       '2018-11-22T00:00:00.000000000', '2018-11-09T00:00:00.000000000',\n",
       "       '2018-11-24T00:00:00.000000000', '2018-10-23T00:00:00.000000000',\n",
       "       '2018-10-19T00:00:00.000000000', '2018-09-30T00:00:00.000000000',\n",
       "       '2018-06-09T00:00:00.000000000', '2018-12-06T00:00:00.000000000',\n",
       "       '2018-12-11T00:00:00.000000000', '2018-12-01T00:00:00.000000000',\n",
       "       '2018-12-19T00:00:00.000000000', '2018-09-02T00:00:00.000000000',\n",
       "       '2018-10-22T00:00:00.000000000', '2018-08-03T00:00:00.000000000',\n",
       "       '2018-11-06T00:00:00.000000000', '2018-12-26T00:00:00.000000000',\n",
       "       '2018-09-24T00:00:00.000000000', '2018-09-07T00:00:00.000000000',\n",
       "       '2018-08-12T00:00:00.000000000', '2018-10-20T00:00:00.000000000',\n",
       "       '2018-12-27T00:00:00.000000000', '2018-12-23T00:00:00.000000000',\n",
       "       '2018-07-02T00:00:00.000000000', '2018-12-02T00:00:00.000000000',\n",
       "       '2018-09-11T00:00:00.000000000', '2018-07-27T00:00:00.000000000',\n",
       "       '2018-09-26T00:00:00.000000000', '2018-08-14T00:00:00.000000000',\n",
       "       '2018-11-28T00:00:00.000000000', '2018-07-13T00:00:00.000000000',\n",
       "       '2018-08-26T00:00:00.000000000', '2018-08-09T00:00:00.000000000',\n",
       "       '2018-10-28T00:00:00.000000000', '2018-10-18T00:00:00.000000000',\n",
       "       '2018-06-03T00:00:00.000000000', '2018-08-23T00:00:00.000000000',\n",
       "       '2018-12-16T00:00:00.000000000', '2018-10-13T00:00:00.000000000',\n",
       "       '2018-12-14T00:00:00.000000000', '2018-09-08T00:00:00.000000000',\n",
       "       '2018-08-05T00:00:00.000000000', '2018-12-30T00:00:00.000000000',\n",
       "       '2018-08-08T00:00:00.000000000', '2018-06-23T00:00:00.000000000',\n",
       "       '2018-12-24T00:00:00.000000000', '2018-07-14T00:00:00.000000000',\n",
       "       '2018-09-28T00:00:00.000000000', '2018-07-04T00:00:00.000000000',\n",
       "       '2018-10-27T00:00:00.000000000', '2018-10-14T00:00:00.000000000',\n",
       "       '2018-08-02T00:00:00.000000000', '2018-11-17T00:00:00.000000000',\n",
       "       '2018-08-18T00:00:00.000000000', '2018-07-24T00:00:00.000000000',\n",
       "       '2018-06-17T00:00:00.000000000', '2018-09-16T00:00:00.000000000',\n",
       "       '2018-06-07T00:00:00.000000000', '2018-09-15T00:00:00.000000000',\n",
       "       '2018-10-21T00:00:00.000000000', '2018-08-01T00:00:00.000000000',\n",
       "       '2018-06-11T00:00:00.000000000', '2018-07-20T00:00:00.000000000',\n",
       "       '2018-12-17T00:00:00.000000000', '2018-10-03T00:00:00.000000000',\n",
       "       '2018-06-08T00:00:00.000000000', '2018-12-13T00:00:00.000000000',\n",
       "       '2018-11-01T00:00:00.000000000', '2018-05-31T00:00:00.000000000',\n",
       "       '2018-09-03T00:00:00.000000000', '2018-08-16T00:00:00.000000000',\n",
       "       '2018-07-09T00:00:00.000000000', '2018-11-27T00:00:00.000000000',\n",
       "       '2018-10-16T00:00:00.000000000', '2018-11-11T00:00:00.000000000',\n",
       "       '2018-07-03T00:00:00.000000000', '2018-11-14T00:00:00.000000000',\n",
       "       '2018-12-09T00:00:00.000000000', '2018-08-07T00:00:00.000000000',\n",
       "       '2018-10-09T00:00:00.000000000', '2018-11-25T00:00:00.000000000',\n",
       "       '2018-09-27T00:00:00.000000000', '2018-06-19T00:00:00.000000000',\n",
       "       '2018-08-06T00:00:00.000000000', '2018-09-25T00:00:00.000000000',\n",
       "       '2018-09-12T00:00:00.000000000', '2018-11-20T00:00:00.000000000',\n",
       "       '2018-12-20T00:00:00.000000000', '2018-11-13T00:00:00.000000000',\n",
       "       '2018-10-10T00:00:00.000000000', '2018-09-05T00:00:00.000000000',\n",
       "       '2018-10-04T00:00:00.000000000', '2018-09-10T00:00:00.000000000',\n",
       "       '2018-08-19T00:00:00.000000000', '2018-05-21T00:00:00.000000000',\n",
       "       '2018-06-15T00:00:00.000000000', '2018-05-14T00:00:00.000000000',\n",
       "       '2018-05-16T00:00:00.000000000', '2018-05-15T00:00:00.000000000',\n",
       "       '2018-07-17T00:00:00.000000000', '2018-05-24T00:00:00.000000000',\n",
       "       '2018-08-11T00:00:00.000000000', '2018-05-26T00:00:00.000000000',\n",
       "       '2018-07-05T00:00:00.000000000', '2018-05-17T00:00:00.000000000',\n",
       "       '2018-05-19T00:00:00.000000000', '2018-06-02T00:00:00.000000000',\n",
       "       '2018-05-18T00:00:00.000000000', '2018-05-23T00:00:00.000000000',\n",
       "       '2018-06-21T00:00:00.000000000', '2018-05-22T00:00:00.000000000',\n",
       "       '2018-05-20T00:00:00.000000000', '2018-06-06T00:00:00.000000000',\n",
       "       '2018-03-03T00:00:00.000000000', '2018-04-10T00:00:00.000000000',\n",
       "       '2018-02-24T00:00:00.000000000', '2018-02-08T00:00:00.000000000',\n",
       "       '2018-02-25T00:00:00.000000000', '2018-04-27T00:00:00.000000000',\n",
       "       '2018-03-10T00:00:00.000000000', '2018-03-25T00:00:00.000000000',\n",
       "       '2018-04-15T00:00:00.000000000', '2018-03-19T00:00:00.000000000',\n",
       "       '2018-03-01T00:00:00.000000000', '2018-02-15T00:00:00.000000000',\n",
       "       '2018-04-05T00:00:00.000000000', '2018-02-23T00:00:00.000000000',\n",
       "       '2018-05-02T00:00:00.000000000', '2018-05-07T00:00:00.000000000',\n",
       "       '2018-05-13T00:00:00.000000000', '2018-03-17T00:00:00.000000000',\n",
       "       '2018-03-20T00:00:00.000000000', '2018-02-20T00:00:00.000000000',\n",
       "       '2018-01-25T00:00:00.000000000', '2018-04-19T00:00:00.000000000',\n",
       "       '2018-02-13T00:00:00.000000000', '2018-02-26T00:00:00.000000000',\n",
       "       '2018-01-26T00:00:00.000000000', '2018-03-07T00:00:00.000000000',\n",
       "       '2018-04-07T00:00:00.000000000', '2018-01-28T00:00:00.000000000',\n",
       "       '2018-02-28T00:00:00.000000000', '2018-02-17T00:00:00.000000000',\n",
       "       '2018-03-21T00:00:00.000000000', '2018-03-15T00:00:00.000000000',\n",
       "       '2018-03-13T00:00:00.000000000', '2018-04-01T00:00:00.000000000',\n",
       "       '2018-03-08T00:00:00.000000000', '2018-04-04T00:00:00.000000000',\n",
       "       '2018-04-12T00:00:00.000000000', '2018-03-22T00:00:00.000000000',\n",
       "       '2018-04-24T00:00:00.000000000', '2018-04-06T00:00:00.000000000',\n",
       "       '2018-04-08T00:00:00.000000000', '2018-03-14T00:00:00.000000000',\n",
       "       '2018-03-05T00:00:00.000000000', '2018-05-04T00:00:00.000000000',\n",
       "       '2018-03-02T00:00:00.000000000', '2018-02-14T00:00:00.000000000',\n",
       "       '2018-04-20T00:00:00.000000000', '2018-02-19T00:00:00.000000000',\n",
       "       '2018-04-21T00:00:00.000000000', '2018-03-29T00:00:00.000000000',\n",
       "       '2018-05-05T00:00:00.000000000', '2018-04-14T00:00:00.000000000',\n",
       "       '2018-02-09T00:00:00.000000000', '2018-02-21T00:00:00.000000000',\n",
       "       '2018-04-13T00:00:00.000000000', '2018-03-16T00:00:00.000000000',\n",
       "       '2018-05-12T00:00:00.000000000', '2018-04-03T00:00:00.000000000',\n",
       "       '2018-03-30T00:00:00.000000000', '2018-02-10T00:00:00.000000000',\n",
       "       '2018-03-24T00:00:00.000000000', '2018-03-06T00:00:00.000000000',\n",
       "       '2018-02-07T00:00:00.000000000', '2018-04-22T00:00:00.000000000',\n",
       "       '2018-02-03T00:00:00.000000000', '2018-03-27T00:00:00.000000000',\n",
       "       '2018-05-09T00:00:00.000000000', '2018-02-16T00:00:00.000000000',\n",
       "       '2018-03-04T00:00:00.000000000', '2018-04-09T00:00:00.000000000',\n",
       "       '2018-03-26T00:00:00.000000000', '2018-03-09T00:00:00.000000000',\n",
       "       '2018-04-26T00:00:00.000000000', '2018-05-10T00:00:00.000000000',\n",
       "       '2018-04-16T00:00:00.000000000', '2018-05-08T00:00:00.000000000',\n",
       "       '2018-04-25T00:00:00.000000000', '2018-02-06T00:00:00.000000000',\n",
       "       '2018-04-02T00:00:00.000000000', '2018-01-29T00:00:00.000000000',\n",
       "       '2018-02-02T00:00:00.000000000', '2018-02-05T00:00:00.000000000',\n",
       "       '2018-04-29T00:00:00.000000000', '2018-02-22T00:00:00.000000000',\n",
       "       '2018-01-27T00:00:00.000000000', '2018-02-18T00:00:00.000000000',\n",
       "       '2018-04-11T00:00:00.000000000', '2018-05-01T00:00:00.000000000',\n",
       "       '2018-04-23T00:00:00.000000000', '2018-04-28T00:00:00.000000000',\n",
       "       '2018-05-03T00:00:00.000000000', '2018-05-11T00:00:00.000000000',\n",
       "       '2018-04-17T00:00:00.000000000', '2018-03-28T00:00:00.000000000',\n",
       "       '2018-04-30T00:00:00.000000000', '2018-05-06T00:00:00.000000000',\n",
       "       '2018-03-23T00:00:00.000000000', '2018-04-18T00:00:00.000000000',\n",
       "       '2018-03-31T00:00:00.000000000', '2018-01-23T00:00:00.000000000',\n",
       "       '2018-01-04T00:00:00.000000000', '2018-01-14T00:00:00.000000000',\n",
       "       '2018-01-19T00:00:00.000000000', '2018-01-30T00:00:00.000000000',\n",
       "       '2018-01-11T00:00:00.000000000', '2018-03-18T00:00:00.000000000',\n",
       "       '2018-01-16T00:00:00.000000000', '2018-02-01T00:00:00.000000000',\n",
       "       '2018-01-18T00:00:00.000000000', '2018-01-10T00:00:00.000000000',\n",
       "       '2018-01-21T00:00:00.000000000', '2018-03-11T00:00:00.000000000',\n",
       "       '2018-01-09T00:00:00.000000000', '2018-02-04T00:00:00.000000000',\n",
       "       '2018-01-17T00:00:00.000000000', '2018-01-15T00:00:00.000000000',\n",
       "       '2018-01-12T00:00:00.000000000', '2018-01-20T00:00:00.000000000',\n",
       "       '2018-01-07T00:00:00.000000000', '2018-01-05T00:00:00.000000000',\n",
       "       '2018-02-11T00:00:00.000000000', '2018-03-12T00:00:00.000000000',\n",
       "       '2018-01-08T00:00:00.000000000', '2018-01-31T00:00:00.000000000',\n",
       "       '2018-02-27T00:00:00.000000000', '2018-02-12T00:00:00.000000000',\n",
       "       '2018-01-03T00:00:00.000000000', '2018-01-02T00:00:00.000000000',\n",
       "       '2018-01-22T00:00:00.000000000', '2018-01-24T00:00:00.000000000',\n",
       "       '2018-01-13T00:00:00.000000000', '2018-01-06T00:00:00.000000000'],\n",
       "      dtype='datetime64[ns]')"
      ]
     },
     "execution_count": 34,
     "metadata": {},
     "output_type": "execute_result"
    }
   ],
   "source": [
    "df_messages['message_date'].unique() # вывод уникальных значений столбца"
   ]
  },
  {
   "cell_type": "code",
   "execution_count": 35,
   "metadata": {},
   "outputs": [
    {
     "data": {
      "text/plain": [
       "array([1000, 1002, 1003, 1004, 1005, 1007, 1008, 1009, 1011, 1012, 1013,\n",
       "       1014, 1015, 1016, 1018, 1019, 1020, 1021, 1022, 1023, 1025, 1026,\n",
       "       1027, 1028, 1029, 1030, 1031, 1032, 1033, 1034, 1035, 1036, 1037,\n",
       "       1038, 1039, 1041, 1042, 1043, 1044, 1045, 1046, 1047, 1048, 1050,\n",
       "       1051, 1052, 1054, 1055, 1056, 1057, 1058, 1059, 1060, 1061, 1062,\n",
       "       1064, 1065, 1066, 1067, 1068, 1069, 1070, 1071, 1072, 1073, 1074,\n",
       "       1075, 1076, 1077, 1079, 1080, 1081, 1082, 1083, 1084, 1086, 1087,\n",
       "       1088, 1089, 1090, 1091, 1092, 1093, 1094, 1096, 1097, 1098, 1099,\n",
       "       1100, 1102, 1103, 1104, 1105, 1106, 1108, 1109, 1110, 1111, 1112,\n",
       "       1113, 1115, 1119, 1121, 1122, 1123, 1124, 1125, 1126, 1127, 1130,\n",
       "       1131, 1133, 1134, 1135, 1136, 1137, 1138, 1139, 1140, 1141, 1142,\n",
       "       1144, 1145, 1146, 1147, 1148, 1149, 1150, 1151, 1154, 1155, 1156,\n",
       "       1158, 1159, 1160, 1161, 1163, 1164, 1165, 1166, 1167, 1168, 1169,\n",
       "       1170, 1171, 1172, 1173, 1174, 1176, 1178, 1180, 1181, 1182, 1183,\n",
       "       1184, 1186, 1187, 1188, 1189, 1190, 1191, 1192, 1193, 1194, 1196,\n",
       "       1197, 1198, 1199, 1200, 1202, 1203, 1205, 1206, 1207, 1209, 1211,\n",
       "       1212, 1213, 1214, 1215, 1216, 1217, 1218, 1219, 1221, 1222, 1223,\n",
       "       1226, 1227, 1229, 1230, 1231, 1232, 1233, 1234, 1235, 1236, 1237,\n",
       "       1238, 1239, 1241, 1243, 1244, 1245, 1246, 1247, 1249, 1250, 1251,\n",
       "       1252, 1253, 1256, 1257, 1258, 1259, 1261, 1262, 1263, 1264, 1265,\n",
       "       1266, 1267, 1268, 1269, 1270, 1271, 1272, 1273, 1274, 1275, 1276,\n",
       "       1277, 1278, 1279, 1280, 1281, 1282, 1283, 1284, 1285, 1286, 1287,\n",
       "       1288, 1289, 1293, 1294, 1295, 1296, 1298, 1299, 1300, 1302, 1303,\n",
       "       1304, 1307, 1308, 1309, 1310, 1311, 1312, 1313, 1314, 1315, 1316,\n",
       "       1317, 1318, 1319, 1320, 1321, 1323, 1324, 1325, 1326, 1327, 1328,\n",
       "       1329, 1330, 1331, 1332, 1333, 1335, 1336, 1337, 1338, 1340, 1341,\n",
       "       1342, 1343, 1344, 1345, 1346, 1347, 1348, 1349, 1350, 1351, 1352,\n",
       "       1353, 1354, 1355, 1356, 1357, 1358, 1359, 1361, 1362, 1364, 1365,\n",
       "       1366, 1368, 1369, 1372, 1373, 1374, 1375, 1377, 1378, 1379, 1380,\n",
       "       1381, 1382, 1383, 1384, 1385, 1386, 1387, 1389, 1390, 1391, 1392,\n",
       "       1393, 1394, 1395, 1396, 1398, 1399, 1400, 1401, 1402, 1403, 1404,\n",
       "       1405, 1406, 1407, 1408, 1409, 1410, 1411, 1412, 1413, 1414, 1415,\n",
       "       1416, 1417, 1418, 1419, 1420, 1421, 1422, 1423, 1424, 1425, 1426,\n",
       "       1427, 1430, 1431, 1432, 1433, 1434, 1436, 1437, 1438, 1439, 1440,\n",
       "       1441, 1443, 1444, 1445, 1446, 1447, 1448, 1449, 1450, 1451, 1452,\n",
       "       1453, 1454, 1455, 1457, 1458, 1459, 1460, 1461, 1463, 1464, 1465,\n",
       "       1467, 1468, 1470, 1471, 1472, 1473, 1474, 1475, 1476, 1477, 1478,\n",
       "       1480, 1481, 1482, 1483, 1484, 1485, 1486, 1487, 1488, 1489, 1490,\n",
       "       1491, 1492, 1493, 1495, 1496, 1497, 1498, 1499])"
      ]
     },
     "execution_count": 35,
     "metadata": {},
     "output_type": "execute_result"
    }
   ],
   "source": [
    "df_messages['user_id'].unique() # вывод уникальных значений столбца"
   ]
  },
  {
   "cell_type": "markdown",
   "metadata": {},
   "source": [
    "Ошибок в данных нет, все данные адекватные."
   ]
  },
  {
   "cell_type": "markdown",
   "metadata": {},
   "source": [
    "#### Таблица internet"
   ]
  },
  {
   "cell_type": "markdown",
   "metadata": {},
   "source": [
    "Удалим колонку Unnamed и исправим типы данных: в колонке mb_used на int, в session_date на datetime."
   ]
  },
  {
   "cell_type": "code",
   "execution_count": 36,
   "metadata": {},
   "outputs": [],
   "source": [
    "df_internet = df_internet.drop(['Unnamed: 0'], axis=1) # удаление колонки Unnamed: 0"
   ]
  },
  {
   "cell_type": "code",
   "execution_count": 37,
   "metadata": {},
   "outputs": [],
   "source": [
    "# изменение типа данных в колонке session_date на datetime\n",
    "df_internet['session_date'] = pd.to_datetime(df_internet['session_date']) "
   ]
  },
  {
   "cell_type": "markdown",
   "metadata": {},
   "source": [
    "Проверим корректность сделанных изменений."
   ]
  },
  {
   "cell_type": "code",
   "execution_count": 38,
   "metadata": {},
   "outputs": [
    {
     "name": "stdout",
     "output_type": "stream",
     "text": [
      "<class 'pandas.core.frame.DataFrame'>\n",
      "RangeIndex: 149396 entries, 0 to 149395\n",
      "Data columns (total 4 columns):\n",
      " #   Column        Non-Null Count   Dtype         \n",
      "---  ------        --------------   -----         \n",
      " 0   id            149396 non-null  object        \n",
      " 1   mb_used       149396 non-null  float64       \n",
      " 2   session_date  149396 non-null  datetime64[ns]\n",
      " 3   user_id       149396 non-null  int64         \n",
      "dtypes: datetime64[ns](1), float64(1), int64(1), object(1)\n",
      "memory usage: 4.6+ MB\n"
     ]
    }
   ],
   "source": [
    "df_internet.info() # вывод информации о таблице"
   ]
  },
  {
   "cell_type": "code",
   "execution_count": 39,
   "metadata": {},
   "outputs": [
    {
     "data": {
      "text/html": [
       "<div>\n",
       "<style scoped>\n",
       "    .dataframe tbody tr th:only-of-type {\n",
       "        vertical-align: middle;\n",
       "    }\n",
       "\n",
       "    .dataframe tbody tr th {\n",
       "        vertical-align: top;\n",
       "    }\n",
       "\n",
       "    .dataframe thead th {\n",
       "        text-align: right;\n",
       "    }\n",
       "</style>\n",
       "<table border=\"1\" class=\"dataframe\">\n",
       "  <thead>\n",
       "    <tr style=\"text-align: right;\">\n",
       "      <th></th>\n",
       "      <th>id</th>\n",
       "      <th>mb_used</th>\n",
       "      <th>session_date</th>\n",
       "      <th>user_id</th>\n",
       "    </tr>\n",
       "  </thead>\n",
       "  <tbody>\n",
       "    <tr>\n",
       "      <th>0</th>\n",
       "      <td>1000_0</td>\n",
       "      <td>112.95</td>\n",
       "      <td>2018-11-25</td>\n",
       "      <td>1000</td>\n",
       "    </tr>\n",
       "    <tr>\n",
       "      <th>1</th>\n",
       "      <td>1000_1</td>\n",
       "      <td>1052.81</td>\n",
       "      <td>2018-09-07</td>\n",
       "      <td>1000</td>\n",
       "    </tr>\n",
       "    <tr>\n",
       "      <th>2</th>\n",
       "      <td>1000_2</td>\n",
       "      <td>1197.26</td>\n",
       "      <td>2018-06-25</td>\n",
       "      <td>1000</td>\n",
       "    </tr>\n",
       "    <tr>\n",
       "      <th>3</th>\n",
       "      <td>1000_3</td>\n",
       "      <td>550.27</td>\n",
       "      <td>2018-08-22</td>\n",
       "      <td>1000</td>\n",
       "    </tr>\n",
       "    <tr>\n",
       "      <th>4</th>\n",
       "      <td>1000_4</td>\n",
       "      <td>302.56</td>\n",
       "      <td>2018-09-24</td>\n",
       "      <td>1000</td>\n",
       "    </tr>\n",
       "  </tbody>\n",
       "</table>\n",
       "</div>"
      ],
      "text/plain": [
       "       id  mb_used session_date  user_id\n",
       "0  1000_0   112.95   2018-11-25     1000\n",
       "1  1000_1  1052.81   2018-09-07     1000\n",
       "2  1000_2  1197.26   2018-06-25     1000\n",
       "3  1000_3   550.27   2018-08-22     1000\n",
       "4  1000_4   302.56   2018-09-24     1000"
      ]
     },
     "execution_count": 39,
     "metadata": {},
     "output_type": "execute_result"
    }
   ],
   "source": [
    "df_internet.head() # проверка корректности проведенного округления"
   ]
  },
  {
   "cell_type": "markdown",
   "metadata": {},
   "source": [
    "Изменения осуществлены успешно: лишняя колонка удалена, типы данных изменены, данные в колонке mb_used округлены в бОльшую сторону."
   ]
  },
  {
   "cell_type": "markdown",
   "metadata": {},
   "source": [
    "Проверим, нет ли в ошибок в данных в каждом из столбцов таблицы."
   ]
  },
  {
   "cell_type": "code",
   "execution_count": 40,
   "metadata": {},
   "outputs": [
    {
     "data": {
      "text/plain": [
       "array(['1000_0', '1000_1', '1000_2', ..., '1499_154', '1499_155',\n",
       "       '1499_156'], dtype=object)"
      ]
     },
     "execution_count": 40,
     "metadata": {},
     "output_type": "execute_result"
    }
   ],
   "source": [
    "df_internet['id'].unique() # вывод уникальных значений столбца"
   ]
  },
  {
   "cell_type": "code",
   "execution_count": 41,
   "metadata": {
    "scrolled": true
   },
   "outputs": [
    {
     "data": {
      "text/plain": [
       "0.00      19598\n",
       "335.91        9\n",
       "447.30        9\n",
       "197.56        9\n",
       "199.11        8\n",
       "          ...  \n",
       "182.69        1\n",
       "726.03        1\n",
       "315.12        1\n",
       "898.99        1\n",
       "677.66        1\n",
       "Name: mb_used, Length: 70003, dtype: int64"
      ]
     },
     "execution_count": 41,
     "metadata": {},
     "output_type": "execute_result"
    }
   ],
   "source": [
    "df_internet['mb_used'].value_counts() # подсчет уникальных значений столбца"
   ]
  },
  {
   "cell_type": "markdown",
   "metadata": {},
   "source": [
    "Проверим, откуда берутся строки с нулевым интернет-трафиком."
   ]
  },
  {
   "cell_type": "code",
   "execution_count": 42,
   "metadata": {
    "scrolled": false
   },
   "outputs": [
    {
     "data": {
      "text/html": [
       "<div>\n",
       "<style scoped>\n",
       "    .dataframe tbody tr th:only-of-type {\n",
       "        vertical-align: middle;\n",
       "    }\n",
       "\n",
       "    .dataframe tbody tr th {\n",
       "        vertical-align: top;\n",
       "    }\n",
       "\n",
       "    .dataframe thead th {\n",
       "        text-align: right;\n",
       "    }\n",
       "</style>\n",
       "<table border=\"1\" class=\"dataframe\">\n",
       "  <thead>\n",
       "    <tr style=\"text-align: right;\">\n",
       "      <th></th>\n",
       "      <th>mb_used</th>\n",
       "    </tr>\n",
       "    <tr>\n",
       "      <th>session_date</th>\n",
       "      <th></th>\n",
       "    </tr>\n",
       "  </thead>\n",
       "  <tbody>\n",
       "    <tr>\n",
       "      <th>2018-01-01</th>\n",
       "      <td>1</td>\n",
       "    </tr>\n",
       "    <tr>\n",
       "      <th>2018-01-02</th>\n",
       "      <td>1</td>\n",
       "    </tr>\n",
       "    <tr>\n",
       "      <th>2018-01-03</th>\n",
       "      <td>1</td>\n",
       "    </tr>\n",
       "    <tr>\n",
       "      <th>2018-01-04</th>\n",
       "      <td>3</td>\n",
       "    </tr>\n",
       "    <tr>\n",
       "      <th>2018-01-05</th>\n",
       "      <td>1</td>\n",
       "    </tr>\n",
       "    <tr>\n",
       "      <th>2018-01-06</th>\n",
       "      <td>1</td>\n",
       "    </tr>\n",
       "    <tr>\n",
       "      <th>2018-01-07</th>\n",
       "      <td>3</td>\n",
       "    </tr>\n",
       "    <tr>\n",
       "      <th>2018-01-08</th>\n",
       "      <td>3</td>\n",
       "    </tr>\n",
       "    <tr>\n",
       "      <th>2018-01-09</th>\n",
       "      <td>3</td>\n",
       "    </tr>\n",
       "    <tr>\n",
       "      <th>2018-01-10</th>\n",
       "      <td>5</td>\n",
       "    </tr>\n",
       "    <tr>\n",
       "      <th>2018-01-11</th>\n",
       "      <td>4</td>\n",
       "    </tr>\n",
       "    <tr>\n",
       "      <th>2018-01-12</th>\n",
       "      <td>3</td>\n",
       "    </tr>\n",
       "    <tr>\n",
       "      <th>2018-01-13</th>\n",
       "      <td>2</td>\n",
       "    </tr>\n",
       "    <tr>\n",
       "      <th>2018-01-14</th>\n",
       "      <td>4</td>\n",
       "    </tr>\n",
       "    <tr>\n",
       "      <th>2018-01-16</th>\n",
       "      <td>4</td>\n",
       "    </tr>\n",
       "    <tr>\n",
       "      <th>2018-01-17</th>\n",
       "      <td>6</td>\n",
       "    </tr>\n",
       "    <tr>\n",
       "      <th>2018-01-18</th>\n",
       "      <td>8</td>\n",
       "    </tr>\n",
       "    <tr>\n",
       "      <th>2018-01-19</th>\n",
       "      <td>3</td>\n",
       "    </tr>\n",
       "    <tr>\n",
       "      <th>2018-01-20</th>\n",
       "      <td>6</td>\n",
       "    </tr>\n",
       "    <tr>\n",
       "      <th>2018-01-21</th>\n",
       "      <td>6</td>\n",
       "    </tr>\n",
       "    <tr>\n",
       "      <th>2018-01-22</th>\n",
       "      <td>9</td>\n",
       "    </tr>\n",
       "    <tr>\n",
       "      <th>2018-01-23</th>\n",
       "      <td>5</td>\n",
       "    </tr>\n",
       "    <tr>\n",
       "      <th>2018-01-24</th>\n",
       "      <td>9</td>\n",
       "    </tr>\n",
       "    <tr>\n",
       "      <th>2018-01-25</th>\n",
       "      <td>10</td>\n",
       "    </tr>\n",
       "    <tr>\n",
       "      <th>2018-01-26</th>\n",
       "      <td>9</td>\n",
       "    </tr>\n",
       "    <tr>\n",
       "      <th>2018-01-27</th>\n",
       "      <td>5</td>\n",
       "    </tr>\n",
       "    <tr>\n",
       "      <th>2018-01-28</th>\n",
       "      <td>9</td>\n",
       "    </tr>\n",
       "    <tr>\n",
       "      <th>2018-01-29</th>\n",
       "      <td>8</td>\n",
       "    </tr>\n",
       "    <tr>\n",
       "      <th>2018-01-30</th>\n",
       "      <td>11</td>\n",
       "    </tr>\n",
       "    <tr>\n",
       "      <th>2018-01-31</th>\n",
       "      <td>8</td>\n",
       "    </tr>\n",
       "    <tr>\n",
       "      <th>2018-02-01</th>\n",
       "      <td>10</td>\n",
       "    </tr>\n",
       "    <tr>\n",
       "      <th>2018-02-02</th>\n",
       "      <td>8</td>\n",
       "    </tr>\n",
       "    <tr>\n",
       "      <th>2018-02-03</th>\n",
       "      <td>11</td>\n",
       "    </tr>\n",
       "    <tr>\n",
       "      <th>2018-02-04</th>\n",
       "      <td>13</td>\n",
       "    </tr>\n",
       "    <tr>\n",
       "      <th>2018-02-05</th>\n",
       "      <td>4</td>\n",
       "    </tr>\n",
       "    <tr>\n",
       "      <th>2018-02-06</th>\n",
       "      <td>10</td>\n",
       "    </tr>\n",
       "    <tr>\n",
       "      <th>2018-02-07</th>\n",
       "      <td>5</td>\n",
       "    </tr>\n",
       "    <tr>\n",
       "      <th>2018-02-08</th>\n",
       "      <td>10</td>\n",
       "    </tr>\n",
       "    <tr>\n",
       "      <th>2018-02-09</th>\n",
       "      <td>13</td>\n",
       "    </tr>\n",
       "    <tr>\n",
       "      <th>2018-02-10</th>\n",
       "      <td>9</td>\n",
       "    </tr>\n",
       "  </tbody>\n",
       "</table>\n",
       "</div>"
      ],
      "text/plain": [
       "              mb_used\n",
       "session_date         \n",
       "2018-01-01          1\n",
       "2018-01-02          1\n",
       "2018-01-03          1\n",
       "2018-01-04          3\n",
       "2018-01-05          1\n",
       "2018-01-06          1\n",
       "2018-01-07          3\n",
       "2018-01-08          3\n",
       "2018-01-09          3\n",
       "2018-01-10          5\n",
       "2018-01-11          4\n",
       "2018-01-12          3\n",
       "2018-01-13          2\n",
       "2018-01-14          4\n",
       "2018-01-16          4\n",
       "2018-01-17          6\n",
       "2018-01-18          8\n",
       "2018-01-19          3\n",
       "2018-01-20          6\n",
       "2018-01-21          6\n",
       "2018-01-22          9\n",
       "2018-01-23          5\n",
       "2018-01-24          9\n",
       "2018-01-25         10\n",
       "2018-01-26          9\n",
       "2018-01-27          5\n",
       "2018-01-28          9\n",
       "2018-01-29          8\n",
       "2018-01-30         11\n",
       "2018-01-31          8\n",
       "2018-02-01         10\n",
       "2018-02-02          8\n",
       "2018-02-03         11\n",
       "2018-02-04         13\n",
       "2018-02-05          4\n",
       "2018-02-06         10\n",
       "2018-02-07          5\n",
       "2018-02-08         10\n",
       "2018-02-09         13\n",
       "2018-02-10          9"
      ]
     },
     "execution_count": 42,
     "metadata": {},
     "output_type": "execute_result"
    }
   ],
   "source": [
    "# построение сводной таблицы по строкам с нулевым трафиком с группировкой по датам\n",
    "df_internet_0 = df_internet.query('mb_used == 0')\n",
    "df_internet_0_pivot = df_internet_0.pivot_table(index = 'session_date',values = 'mb_used', aggfunc = 'count')\n",
    "df_internet_0_pivot.head(40) # вывод данных по пустым строкам за январь"
   ]
  },
  {
   "cell_type": "code",
   "execution_count": 43,
   "metadata": {
    "scrolled": true
   },
   "outputs": [
    {
     "data": {
      "text/html": [
       "<div>\n",
       "<style scoped>\n",
       "    .dataframe tbody tr th:only-of-type {\n",
       "        vertical-align: middle;\n",
       "    }\n",
       "\n",
       "    .dataframe tbody tr th {\n",
       "        vertical-align: top;\n",
       "    }\n",
       "\n",
       "    .dataframe thead th {\n",
       "        text-align: right;\n",
       "    }\n",
       "</style>\n",
       "<table border=\"1\" class=\"dataframe\">\n",
       "  <thead>\n",
       "    <tr style=\"text-align: right;\">\n",
       "      <th></th>\n",
       "      <th>mb_used</th>\n",
       "    </tr>\n",
       "    <tr>\n",
       "      <th>session_date</th>\n",
       "      <th></th>\n",
       "    </tr>\n",
       "  </thead>\n",
       "  <tbody>\n",
       "    <tr>\n",
       "      <th>2018-11-22</th>\n",
       "      <td>95</td>\n",
       "    </tr>\n",
       "    <tr>\n",
       "      <th>2018-11-23</th>\n",
       "      <td>95</td>\n",
       "    </tr>\n",
       "    <tr>\n",
       "      <th>2018-11-24</th>\n",
       "      <td>89</td>\n",
       "    </tr>\n",
       "    <tr>\n",
       "      <th>2018-11-25</th>\n",
       "      <td>80</td>\n",
       "    </tr>\n",
       "    <tr>\n",
       "      <th>2018-11-26</th>\n",
       "      <td>107</td>\n",
       "    </tr>\n",
       "    <tr>\n",
       "      <th>2018-11-27</th>\n",
       "      <td>98</td>\n",
       "    </tr>\n",
       "    <tr>\n",
       "      <th>2018-11-28</th>\n",
       "      <td>111</td>\n",
       "    </tr>\n",
       "    <tr>\n",
       "      <th>2018-11-29</th>\n",
       "      <td>107</td>\n",
       "    </tr>\n",
       "    <tr>\n",
       "      <th>2018-11-30</th>\n",
       "      <td>107</td>\n",
       "    </tr>\n",
       "    <tr>\n",
       "      <th>2018-12-01</th>\n",
       "      <td>95</td>\n",
       "    </tr>\n",
       "    <tr>\n",
       "      <th>2018-12-02</th>\n",
       "      <td>97</td>\n",
       "    </tr>\n",
       "    <tr>\n",
       "      <th>2018-12-03</th>\n",
       "      <td>112</td>\n",
       "    </tr>\n",
       "    <tr>\n",
       "      <th>2018-12-04</th>\n",
       "      <td>109</td>\n",
       "    </tr>\n",
       "    <tr>\n",
       "      <th>2018-12-05</th>\n",
       "      <td>118</td>\n",
       "    </tr>\n",
       "    <tr>\n",
       "      <th>2018-12-06</th>\n",
       "      <td>95</td>\n",
       "    </tr>\n",
       "    <tr>\n",
       "      <th>2018-12-07</th>\n",
       "      <td>121</td>\n",
       "    </tr>\n",
       "    <tr>\n",
       "      <th>2018-12-08</th>\n",
       "      <td>94</td>\n",
       "    </tr>\n",
       "    <tr>\n",
       "      <th>2018-12-09</th>\n",
       "      <td>94</td>\n",
       "    </tr>\n",
       "    <tr>\n",
       "      <th>2018-12-10</th>\n",
       "      <td>109</td>\n",
       "    </tr>\n",
       "    <tr>\n",
       "      <th>2018-12-11</th>\n",
       "      <td>99</td>\n",
       "    </tr>\n",
       "    <tr>\n",
       "      <th>2018-12-12</th>\n",
       "      <td>98</td>\n",
       "    </tr>\n",
       "    <tr>\n",
       "      <th>2018-12-13</th>\n",
       "      <td>119</td>\n",
       "    </tr>\n",
       "    <tr>\n",
       "      <th>2018-12-14</th>\n",
       "      <td>98</td>\n",
       "    </tr>\n",
       "    <tr>\n",
       "      <th>2018-12-15</th>\n",
       "      <td>96</td>\n",
       "    </tr>\n",
       "    <tr>\n",
       "      <th>2018-12-16</th>\n",
       "      <td>117</td>\n",
       "    </tr>\n",
       "    <tr>\n",
       "      <th>2018-12-17</th>\n",
       "      <td>108</td>\n",
       "    </tr>\n",
       "    <tr>\n",
       "      <th>2018-12-18</th>\n",
       "      <td>106</td>\n",
       "    </tr>\n",
       "    <tr>\n",
       "      <th>2018-12-19</th>\n",
       "      <td>97</td>\n",
       "    </tr>\n",
       "    <tr>\n",
       "      <th>2018-12-20</th>\n",
       "      <td>92</td>\n",
       "    </tr>\n",
       "    <tr>\n",
       "      <th>2018-12-21</th>\n",
       "      <td>113</td>\n",
       "    </tr>\n",
       "    <tr>\n",
       "      <th>2018-12-22</th>\n",
       "      <td>119</td>\n",
       "    </tr>\n",
       "    <tr>\n",
       "      <th>2018-12-23</th>\n",
       "      <td>98</td>\n",
       "    </tr>\n",
       "    <tr>\n",
       "      <th>2018-12-24</th>\n",
       "      <td>92</td>\n",
       "    </tr>\n",
       "    <tr>\n",
       "      <th>2018-12-25</th>\n",
       "      <td>112</td>\n",
       "    </tr>\n",
       "    <tr>\n",
       "      <th>2018-12-26</th>\n",
       "      <td>92</td>\n",
       "    </tr>\n",
       "    <tr>\n",
       "      <th>2018-12-27</th>\n",
       "      <td>115</td>\n",
       "    </tr>\n",
       "    <tr>\n",
       "      <th>2018-12-28</th>\n",
       "      <td>115</td>\n",
       "    </tr>\n",
       "    <tr>\n",
       "      <th>2018-12-29</th>\n",
       "      <td>125</td>\n",
       "    </tr>\n",
       "    <tr>\n",
       "      <th>2018-12-30</th>\n",
       "      <td>125</td>\n",
       "    </tr>\n",
       "    <tr>\n",
       "      <th>2018-12-31</th>\n",
       "      <td>141</td>\n",
       "    </tr>\n",
       "  </tbody>\n",
       "</table>\n",
       "</div>"
      ],
      "text/plain": [
       "              mb_used\n",
       "session_date         \n",
       "2018-11-22         95\n",
       "2018-11-23         95\n",
       "2018-11-24         89\n",
       "2018-11-25         80\n",
       "2018-11-26        107\n",
       "2018-11-27         98\n",
       "2018-11-28        111\n",
       "2018-11-29        107\n",
       "2018-11-30        107\n",
       "2018-12-01         95\n",
       "2018-12-02         97\n",
       "2018-12-03        112\n",
       "2018-12-04        109\n",
       "2018-12-05        118\n",
       "2018-12-06         95\n",
       "2018-12-07        121\n",
       "2018-12-08         94\n",
       "2018-12-09         94\n",
       "2018-12-10        109\n",
       "2018-12-11         99\n",
       "2018-12-12         98\n",
       "2018-12-13        119\n",
       "2018-12-14         98\n",
       "2018-12-15         96\n",
       "2018-12-16        117\n",
       "2018-12-17        108\n",
       "2018-12-18        106\n",
       "2018-12-19         97\n",
       "2018-12-20         92\n",
       "2018-12-21        113\n",
       "2018-12-22        119\n",
       "2018-12-23         98\n",
       "2018-12-24         92\n",
       "2018-12-25        112\n",
       "2018-12-26         92\n",
       "2018-12-27        115\n",
       "2018-12-28        115\n",
       "2018-12-29        125\n",
       "2018-12-30        125\n",
       "2018-12-31        141"
      ]
     },
     "execution_count": 43,
     "metadata": {},
     "output_type": "execute_result"
    }
   ],
   "source": [
    "df_internet_0_pivot.tail(40) # вывод данных по пустым строкам за декабрь"
   ]
  },
  {
   "cell_type": "markdown",
   "metadata": {},
   "source": [
    "Есть предположение, что ситуация с неуспешными сессиями с нулевой длительностью ухудшается с начала года до его окончания, проверим это, сформировав сводную таблицу по пустым сессиям по месяцам."
   ]
  },
  {
   "cell_type": "code",
   "execution_count": 44,
   "metadata": {
    "scrolled": false
   },
   "outputs": [
    {
     "name": "stderr",
     "output_type": "stream",
     "text": [
      "/tmp/ipykernel_63/3107011292.py:2: SettingWithCopyWarning: \n",
      "A value is trying to be set on a copy of a slice from a DataFrame.\n",
      "Try using .loc[row_indexer,col_indexer] = value instead\n",
      "\n",
      "See the caveats in the documentation: https://pandas.pydata.org/pandas-docs/stable/user_guide/indexing.html#returning-a-view-versus-a-copy\n",
      "  df_internet_0['month'] = df_internet_0['session_date'].astype('datetime64[M]')\n"
     ]
    },
    {
     "data": {
      "text/html": [
       "<div>\n",
       "<style scoped>\n",
       "    .dataframe tbody tr th:only-of-type {\n",
       "        vertical-align: middle;\n",
       "    }\n",
       "\n",
       "    .dataframe tbody tr th {\n",
       "        vertical-align: top;\n",
       "    }\n",
       "\n",
       "    .dataframe thead th {\n",
       "        text-align: right;\n",
       "    }\n",
       "</style>\n",
       "<table border=\"1\" class=\"dataframe\">\n",
       "  <thead>\n",
       "    <tr style=\"text-align: right;\">\n",
       "      <th></th>\n",
       "      <th>mb_used</th>\n",
       "    </tr>\n",
       "    <tr>\n",
       "      <th>month</th>\n",
       "      <th></th>\n",
       "    </tr>\n",
       "  </thead>\n",
       "  <tbody>\n",
       "    <tr>\n",
       "      <th>2018-01-01</th>\n",
       "      <td>151</td>\n",
       "    </tr>\n",
       "    <tr>\n",
       "      <th>2018-02-01</th>\n",
       "      <td>378</td>\n",
       "    </tr>\n",
       "    <tr>\n",
       "      <th>2018-03-01</th>\n",
       "      <td>623</td>\n",
       "    </tr>\n",
       "    <tr>\n",
       "      <th>2018-04-01</th>\n",
       "      <td>819</td>\n",
       "    </tr>\n",
       "    <tr>\n",
       "      <th>2018-05-01</th>\n",
       "      <td>1199</td>\n",
       "    </tr>\n",
       "    <tr>\n",
       "      <th>2018-06-01</th>\n",
       "      <td>1401</td>\n",
       "    </tr>\n",
       "    <tr>\n",
       "      <th>2018-07-01</th>\n",
       "      <td>1760</td>\n",
       "    </tr>\n",
       "    <tr>\n",
       "      <th>2018-08-01</th>\n",
       "      <td>2083</td>\n",
       "    </tr>\n",
       "    <tr>\n",
       "      <th>2018-09-01</th>\n",
       "      <td>2314</td>\n",
       "    </tr>\n",
       "    <tr>\n",
       "      <th>2018-10-01</th>\n",
       "      <td>2642</td>\n",
       "    </tr>\n",
       "    <tr>\n",
       "      <th>2018-11-01</th>\n",
       "      <td>2907</td>\n",
       "    </tr>\n",
       "    <tr>\n",
       "      <th>2018-12-01</th>\n",
       "      <td>3321</td>\n",
       "    </tr>\n",
       "  </tbody>\n",
       "</table>\n",
       "</div>"
      ],
      "text/plain": [
       "            mb_used\n",
       "month              \n",
       "2018-01-01      151\n",
       "2018-02-01      378\n",
       "2018-03-01      623\n",
       "2018-04-01      819\n",
       "2018-05-01     1199\n",
       "2018-06-01     1401\n",
       "2018-07-01     1760\n",
       "2018-08-01     2083\n",
       "2018-09-01     2314\n",
       "2018-10-01     2642\n",
       "2018-11-01     2907\n",
       "2018-12-01     3321"
      ]
     },
     "execution_count": 44,
     "metadata": {},
     "output_type": "execute_result"
    }
   ],
   "source": [
    "# добавление в таблицу колонки с месяцем\n",
    "df_internet_0['month'] = df_internet_0['session_date'].astype('datetime64[M]')\n",
    "# построение сводной таблицы по неуспешным сессиям по месяцам\n",
    "df_internet_0.pivot_table(index = 'month', values = 'mb_used', aggfunc = 'count')"
   ]
  },
  {
   "cell_type": "markdown",
   "metadata": {},
   "source": [
    "Очевидно, что ситуация ухудшается от января к декабрю. Вероятно, имеют место проблемы на оборудовании, осуществляющием учет сессий, или на оборудовании, обеспечивающем выход в интернет. В любом случае, оператору следует обратить на них внимание, выяснить причину и устранить их, т.к. из-за них он теряет выручку."
   ]
  },
  {
   "cell_type": "code",
   "execution_count": 45,
   "metadata": {},
   "outputs": [
    {
     "data": {
      "text/plain": [
       "array(['2018-11-25T00:00:00.000000000', '2018-09-07T00:00:00.000000000',\n",
       "       '2018-06-25T00:00:00.000000000', '2018-08-22T00:00:00.000000000',\n",
       "       '2018-09-24T00:00:00.000000000', '2018-10-02T00:00:00.000000000',\n",
       "       '2018-07-11T00:00:00.000000000', '2018-10-08T00:00:00.000000000',\n",
       "       '2018-09-03T00:00:00.000000000', '2018-09-27T00:00:00.000000000',\n",
       "       '2018-08-28T00:00:00.000000000', '2018-06-20T00:00:00.000000000',\n",
       "       '2018-08-09T00:00:00.000000000', '2018-08-11T00:00:00.000000000',\n",
       "       '2018-07-21T00:00:00.000000000', '2018-06-09T00:00:00.000000000',\n",
       "       '2018-06-03T00:00:00.000000000', '2018-11-01T00:00:00.000000000',\n",
       "       '2018-11-28T00:00:00.000000000', '2018-08-20T00:00:00.000000000',\n",
       "       '2018-12-06T00:00:00.000000000', '2018-07-02T00:00:00.000000000',\n",
       "       '2018-10-19T00:00:00.000000000', '2018-10-30T00:00:00.000000000',\n",
       "       '2018-06-17T00:00:00.000000000', '2018-11-06T00:00:00.000000000',\n",
       "       '2018-09-14T00:00:00.000000000', '2018-11-15T00:00:00.000000000',\n",
       "       '2018-08-26T00:00:00.000000000', '2018-10-15T00:00:00.000000000',\n",
       "       '2018-11-27T00:00:00.000000000', '2018-10-17T00:00:00.000000000',\n",
       "       '2018-10-07T00:00:00.000000000', '2018-08-05T00:00:00.000000000',\n",
       "       '2018-07-06T00:00:00.000000000', '2018-10-03T00:00:00.000000000',\n",
       "       '2018-11-02T00:00:00.000000000', '2018-06-30T00:00:00.000000000',\n",
       "       '2018-11-17T00:00:00.000000000', '2018-06-06T00:00:00.000000000',\n",
       "       '2018-11-20T00:00:00.000000000', '2018-05-31T00:00:00.000000000',\n",
       "       '2018-10-29T00:00:00.000000000', '2018-12-10T00:00:00.000000000',\n",
       "       '2018-07-04T00:00:00.000000000', '2018-12-28T00:00:00.000000000',\n",
       "       '2018-05-28T00:00:00.000000000', '2018-09-15T00:00:00.000000000',\n",
       "       '2018-09-09T00:00:00.000000000', '2018-09-17T00:00:00.000000000',\n",
       "       '2018-09-01T00:00:00.000000000', '2018-11-03T00:00:00.000000000',\n",
       "       '2018-11-04T00:00:00.000000000', '2018-06-16T00:00:00.000000000',\n",
       "       '2018-12-07T00:00:00.000000000', '2018-08-25T00:00:00.000000000',\n",
       "       '2018-06-15T00:00:00.000000000', '2018-06-26T00:00:00.000000000',\n",
       "       '2018-10-06T00:00:00.000000000', '2018-12-01T00:00:00.000000000',\n",
       "       '2018-10-14T00:00:00.000000000', '2018-06-07T00:00:00.000000000',\n",
       "       '2018-12-15T00:00:00.000000000', '2018-10-04T00:00:00.000000000',\n",
       "       '2018-08-13T00:00:00.000000000', '2018-07-10T00:00:00.000000000',\n",
       "       '2018-07-07T00:00:00.000000000', '2018-08-17T00:00:00.000000000',\n",
       "       '2018-06-28T00:00:00.000000000', '2018-08-07T00:00:00.000000000',\n",
       "       '2018-06-29T00:00:00.000000000', '2018-07-13T00:00:00.000000000',\n",
       "       '2018-07-27T00:00:00.000000000', '2018-11-30T00:00:00.000000000',\n",
       "       '2018-07-26T00:00:00.000000000', '2018-05-26T00:00:00.000000000',\n",
       "       '2018-11-16T00:00:00.000000000', '2018-11-13T00:00:00.000000000',\n",
       "       '2018-11-11T00:00:00.000000000', '2018-12-18T00:00:00.000000000',\n",
       "       '2018-06-18T00:00:00.000000000', '2018-12-02T00:00:00.000000000',\n",
       "       '2018-06-14T00:00:00.000000000', '2018-12-25T00:00:00.000000000',\n",
       "       '2018-06-24T00:00:00.000000000', '2018-12-05T00:00:00.000000000',\n",
       "       '2018-06-10T00:00:00.000000000', '2018-10-16T00:00:00.000000000',\n",
       "       '2018-10-21T00:00:00.000000000', '2018-07-09T00:00:00.000000000',\n",
       "       '2018-07-17T00:00:00.000000000', '2018-08-04T00:00:00.000000000',\n",
       "       '2018-06-01T00:00:00.000000000', '2018-06-13T00:00:00.000000000',\n",
       "       '2018-06-27T00:00:00.000000000', '2018-11-14T00:00:00.000000000',\n",
       "       '2018-06-19T00:00:00.000000000', '2018-12-29T00:00:00.000000000',\n",
       "       '2018-07-08T00:00:00.000000000', '2018-11-23T00:00:00.000000000',\n",
       "       '2018-07-25T00:00:00.000000000', '2018-06-21T00:00:00.000000000',\n",
       "       '2018-07-23T00:00:00.000000000', '2018-08-31T00:00:00.000000000',\n",
       "       '2018-09-08T00:00:00.000000000', '2018-07-14T00:00:00.000000000',\n",
       "       '2018-07-29T00:00:00.000000000', '2018-06-05T00:00:00.000000000',\n",
       "       '2018-12-21T00:00:00.000000000', '2018-12-24T00:00:00.000000000',\n",
       "       '2018-09-19T00:00:00.000000000', '2018-12-19T00:00:00.000000000',\n",
       "       '2018-09-06T00:00:00.000000000', '2018-10-13T00:00:00.000000000',\n",
       "       '2018-09-04T00:00:00.000000000', '2018-09-30T00:00:00.000000000',\n",
       "       '2018-07-28T00:00:00.000000000', '2018-10-22T00:00:00.000000000',\n",
       "       '2018-08-02T00:00:00.000000000', '2018-11-07T00:00:00.000000000',\n",
       "       '2018-11-08T00:00:00.000000000', '2018-08-21T00:00:00.000000000',\n",
       "       '2018-08-30T00:00:00.000000000', '2018-07-31T00:00:00.000000000',\n",
       "       '2018-12-30T00:00:00.000000000', '2018-06-08T00:00:00.000000000',\n",
       "       '2018-12-03T00:00:00.000000000', '2018-09-16T00:00:00.000000000',\n",
       "       '2018-09-26T00:00:00.000000000', '2018-08-27T00:00:00.000000000',\n",
       "       '2018-06-23T00:00:00.000000000', '2018-08-14T00:00:00.000000000',\n",
       "       '2018-12-16T00:00:00.000000000', '2018-11-22T00:00:00.000000000',\n",
       "       '2018-11-18T00:00:00.000000000', '2018-12-08T00:00:00.000000000',\n",
       "       '2018-11-29T00:00:00.000000000', '2018-12-13T00:00:00.000000000',\n",
       "       '2018-12-26T00:00:00.000000000', '2018-11-26T00:00:00.000000000',\n",
       "       '2018-12-09T00:00:00.000000000', '2018-11-09T00:00:00.000000000',\n",
       "       '2018-12-04T00:00:00.000000000', '2018-11-19T00:00:00.000000000',\n",
       "       '2018-11-12T00:00:00.000000000', '2018-12-20T00:00:00.000000000',\n",
       "       '2018-11-21T00:00:00.000000000', '2018-12-22T00:00:00.000000000',\n",
       "       '2018-12-23T00:00:00.000000000', '2018-08-24T00:00:00.000000000',\n",
       "       '2018-12-17T00:00:00.000000000', '2018-10-23T00:00:00.000000000',\n",
       "       '2018-09-12T00:00:00.000000000', '2018-10-25T00:00:00.000000000',\n",
       "       '2018-09-10T00:00:00.000000000', '2018-12-27T00:00:00.000000000',\n",
       "       '2018-09-11T00:00:00.000000000', '2018-09-20T00:00:00.000000000',\n",
       "       '2018-08-06T00:00:00.000000000', '2018-11-24T00:00:00.000000000',\n",
       "       '2018-07-15T00:00:00.000000000', '2018-12-31T00:00:00.000000000',\n",
       "       '2018-07-18T00:00:00.000000000', '2018-07-30T00:00:00.000000000',\n",
       "       '2018-12-11T00:00:00.000000000', '2018-10-24T00:00:00.000000000',\n",
       "       '2018-08-29T00:00:00.000000000', '2018-06-22T00:00:00.000000000',\n",
       "       '2018-07-24T00:00:00.000000000', '2018-09-05T00:00:00.000000000',\n",
       "       '2018-08-01T00:00:00.000000000', '2018-07-22T00:00:00.000000000',\n",
       "       '2018-10-01T00:00:00.000000000', '2018-09-23T00:00:00.000000000',\n",
       "       '2018-09-13T00:00:00.000000000', '2018-08-23T00:00:00.000000000',\n",
       "       '2018-07-03T00:00:00.000000000', '2018-11-10T00:00:00.000000000',\n",
       "       '2018-08-12T00:00:00.000000000', '2018-09-22T00:00:00.000000000',\n",
       "       '2018-07-20T00:00:00.000000000', '2018-10-09T00:00:00.000000000',\n",
       "       '2018-07-12T00:00:00.000000000', '2018-10-20T00:00:00.000000000',\n",
       "       '2018-10-11T00:00:00.000000000', '2018-10-05T00:00:00.000000000',\n",
       "       '2018-08-08T00:00:00.000000000', '2018-09-29T00:00:00.000000000',\n",
       "       '2018-08-15T00:00:00.000000000', '2018-09-21T00:00:00.000000000',\n",
       "       '2018-07-16T00:00:00.000000000', '2018-09-25T00:00:00.000000000',\n",
       "       '2018-08-03T00:00:00.000000000', '2018-10-26T00:00:00.000000000',\n",
       "       '2018-09-02T00:00:00.000000000', '2018-09-28T00:00:00.000000000',\n",
       "       '2018-10-18T00:00:00.000000000', '2018-10-27T00:00:00.000000000',\n",
       "       '2018-07-01T00:00:00.000000000', '2018-12-12T00:00:00.000000000',\n",
       "       '2018-12-14T00:00:00.000000000', '2018-08-10T00:00:00.000000000',\n",
       "       '2018-08-16T00:00:00.000000000', '2018-08-18T00:00:00.000000000',\n",
       "       '2018-10-31T00:00:00.000000000', '2018-10-28T00:00:00.000000000',\n",
       "       '2018-10-10T00:00:00.000000000', '2018-10-12T00:00:00.000000000',\n",
       "       '2018-06-11T00:00:00.000000000', '2018-05-27T00:00:00.000000000',\n",
       "       '2018-06-02T00:00:00.000000000', '2018-08-19T00:00:00.000000000',\n",
       "       '2018-05-18T00:00:00.000000000', '2018-05-15T00:00:00.000000000',\n",
       "       '2018-05-16T00:00:00.000000000', '2018-05-14T00:00:00.000000000',\n",
       "       '2018-06-12T00:00:00.000000000', '2018-09-18T00:00:00.000000000',\n",
       "       '2018-05-20T00:00:00.000000000', '2018-05-19T00:00:00.000000000',\n",
       "       '2018-06-04T00:00:00.000000000', '2018-05-23T00:00:00.000000000',\n",
       "       '2018-05-30T00:00:00.000000000', '2018-05-21T00:00:00.000000000',\n",
       "       '2018-07-05T00:00:00.000000000', '2018-05-22T00:00:00.000000000',\n",
       "       '2018-07-19T00:00:00.000000000', '2018-02-09T00:00:00.000000000',\n",
       "       '2018-03-10T00:00:00.000000000', '2018-04-12T00:00:00.000000000',\n",
       "       '2018-03-30T00:00:00.000000000', '2018-03-15T00:00:00.000000000',\n",
       "       '2018-01-28T00:00:00.000000000', '2018-04-03T00:00:00.000000000',\n",
       "       '2018-03-09T00:00:00.000000000', '2018-03-06T00:00:00.000000000',\n",
       "       '2018-02-24T00:00:00.000000000', '2018-04-26T00:00:00.000000000',\n",
       "       '2018-03-05T00:00:00.000000000', '2018-05-12T00:00:00.000000000',\n",
       "       '2018-04-21T00:00:00.000000000', '2018-04-24T00:00:00.000000000',\n",
       "       '2018-03-02T00:00:00.000000000', '2018-02-16T00:00:00.000000000',\n",
       "       '2018-05-03T00:00:00.000000000', '2018-03-07T00:00:00.000000000',\n",
       "       '2018-02-20T00:00:00.000000000', '2018-03-19T00:00:00.000000000',\n",
       "       '2018-01-30T00:00:00.000000000', '2018-05-09T00:00:00.000000000',\n",
       "       '2018-02-07T00:00:00.000000000', '2018-03-12T00:00:00.000000000',\n",
       "       '2018-11-05T00:00:00.000000000', '2018-04-01T00:00:00.000000000',\n",
       "       '2018-04-07T00:00:00.000000000', '2018-01-29T00:00:00.000000000',\n",
       "       '2018-03-16T00:00:00.000000000', '2018-03-14T00:00:00.000000000',\n",
       "       '2018-02-01T00:00:00.000000000', '2018-04-29T00:00:00.000000000',\n",
       "       '2018-02-02T00:00:00.000000000', '2018-04-30T00:00:00.000000000',\n",
       "       '2018-03-17T00:00:00.000000000', '2018-04-17T00:00:00.000000000',\n",
       "       '2018-05-29T00:00:00.000000000', '2018-02-27T00:00:00.000000000',\n",
       "       '2018-03-26T00:00:00.000000000', '2018-04-08T00:00:00.000000000',\n",
       "       '2018-04-02T00:00:00.000000000', '2018-02-18T00:00:00.000000000',\n",
       "       '2018-01-27T00:00:00.000000000', '2018-05-01T00:00:00.000000000',\n",
       "       '2018-02-11T00:00:00.000000000', '2018-04-19T00:00:00.000000000',\n",
       "       '2018-04-25T00:00:00.000000000', '2018-02-13T00:00:00.000000000',\n",
       "       '2018-02-21T00:00:00.000000000', '2018-02-04T00:00:00.000000000',\n",
       "       '2018-03-28T00:00:00.000000000', '2018-03-21T00:00:00.000000000',\n",
       "       '2018-04-11T00:00:00.000000000', '2018-03-31T00:00:00.000000000',\n",
       "       '2018-05-07T00:00:00.000000000', '2018-02-17T00:00:00.000000000',\n",
       "       '2018-03-04T00:00:00.000000000', '2018-02-12T00:00:00.000000000',\n",
       "       '2018-02-14T00:00:00.000000000', '2018-05-10T00:00:00.000000000',\n",
       "       '2018-03-23T00:00:00.000000000', '2018-03-22T00:00:00.000000000',\n",
       "       '2018-04-09T00:00:00.000000000', '2018-05-25T00:00:00.000000000',\n",
       "       '2018-04-22T00:00:00.000000000', '2018-04-05T00:00:00.000000000',\n",
       "       '2018-04-23T00:00:00.000000000', '2018-04-14T00:00:00.000000000',\n",
       "       '2018-04-13T00:00:00.000000000', '2018-05-04T00:00:00.000000000',\n",
       "       '2018-04-20T00:00:00.000000000', '2018-03-13T00:00:00.000000000',\n",
       "       '2018-04-28T00:00:00.000000000', '2018-05-08T00:00:00.000000000',\n",
       "       '2018-03-27T00:00:00.000000000', '2018-03-01T00:00:00.000000000',\n",
       "       '2018-05-02T00:00:00.000000000', '2018-04-18T00:00:00.000000000',\n",
       "       '2018-02-26T00:00:00.000000000', '2018-05-24T00:00:00.000000000',\n",
       "       '2018-04-16T00:00:00.000000000', '2018-05-13T00:00:00.000000000',\n",
       "       '2018-05-06T00:00:00.000000000', '2018-03-18T00:00:00.000000000',\n",
       "       '2018-03-24T00:00:00.000000000', '2018-02-28T00:00:00.000000000',\n",
       "       '2018-04-15T00:00:00.000000000', '2018-05-11T00:00:00.000000000',\n",
       "       '2018-04-06T00:00:00.000000000', '2018-03-25T00:00:00.000000000',\n",
       "       '2018-05-17T00:00:00.000000000', '2018-05-05T00:00:00.000000000',\n",
       "       '2018-04-04T00:00:00.000000000', '2018-03-03T00:00:00.000000000',\n",
       "       '2018-04-27T00:00:00.000000000', '2018-03-29T00:00:00.000000000',\n",
       "       '2018-04-10T00:00:00.000000000', '2018-03-20T00:00:00.000000000',\n",
       "       '2018-01-13T00:00:00.000000000', '2018-01-19T00:00:00.000000000',\n",
       "       '2018-01-23T00:00:00.000000000', '2018-01-20T00:00:00.000000000',\n",
       "       '2018-01-12T00:00:00.000000000', '2018-02-23T00:00:00.000000000',\n",
       "       '2018-01-05T00:00:00.000000000', '2018-01-21T00:00:00.000000000',\n",
       "       '2018-01-31T00:00:00.000000000', '2018-01-10T00:00:00.000000000',\n",
       "       '2018-02-10T00:00:00.000000000', '2018-01-15T00:00:00.000000000',\n",
       "       '2018-01-09T00:00:00.000000000', '2018-03-08T00:00:00.000000000',\n",
       "       '2018-01-18T00:00:00.000000000', '2018-02-19T00:00:00.000000000',\n",
       "       '2018-02-25T00:00:00.000000000', '2018-03-11T00:00:00.000000000',\n",
       "       '2018-01-25T00:00:00.000000000', '2018-02-08T00:00:00.000000000',\n",
       "       '2018-01-22T00:00:00.000000000', '2018-02-06T00:00:00.000000000',\n",
       "       '2018-02-05T00:00:00.000000000', '2018-01-06T00:00:00.000000000',\n",
       "       '2018-01-08T00:00:00.000000000', '2018-01-17T00:00:00.000000000',\n",
       "       '2018-01-11T00:00:00.000000000', '2018-01-04T00:00:00.000000000',\n",
       "       '2018-01-24T00:00:00.000000000', '2018-01-26T00:00:00.000000000',\n",
       "       '2018-01-16T00:00:00.000000000', '2018-02-15T00:00:00.000000000',\n",
       "       '2018-02-22T00:00:00.000000000', '2018-02-03T00:00:00.000000000',\n",
       "       '2018-01-03T00:00:00.000000000', '2018-01-14T00:00:00.000000000',\n",
       "       '2018-01-02T00:00:00.000000000', '2018-01-07T00:00:00.000000000',\n",
       "       '2018-01-01T00:00:00.000000000'], dtype='datetime64[ns]')"
      ]
     },
     "execution_count": 45,
     "metadata": {},
     "output_type": "execute_result"
    }
   ],
   "source": [
    "df_internet['session_date'].unique() # вывод уникальных значений столбца"
   ]
  },
  {
   "cell_type": "code",
   "execution_count": 46,
   "metadata": {
    "scrolled": true
   },
   "outputs": [
    {
     "data": {
      "text/plain": [
       "array([1000, 1001, 1002, 1003, 1004, 1005, 1006, 1007, 1008, 1009, 1010,\n",
       "       1011, 1012, 1013, 1014, 1015, 1016, 1017, 1018, 1019, 1020, 1021,\n",
       "       1022, 1023, 1024, 1025, 1026, 1027, 1028, 1029, 1030, 1031, 1032,\n",
       "       1033, 1034, 1035, 1036, 1037, 1038, 1039, 1040, 1041, 1042, 1043,\n",
       "       1044, 1045, 1046, 1047, 1048, 1049, 1050, 1051, 1052, 1053, 1054,\n",
       "       1055, 1056, 1057, 1058, 1059, 1060, 1061, 1062, 1063, 1064, 1065,\n",
       "       1066, 1067, 1068, 1069, 1070, 1071, 1072, 1073, 1074, 1075, 1076,\n",
       "       1077, 1078, 1079, 1080, 1081, 1082, 1083, 1084, 1085, 1086, 1087,\n",
       "       1088, 1089, 1090, 1091, 1092, 1093, 1094, 1095, 1096, 1097, 1098,\n",
       "       1099, 1100, 1101, 1102, 1103, 1104, 1105, 1106, 1107, 1108, 1109,\n",
       "       1110, 1111, 1112, 1113, 1114, 1115, 1116, 1117, 1118, 1119, 1120,\n",
       "       1121, 1122, 1123, 1124, 1125, 1126, 1127, 1129, 1130, 1131, 1132,\n",
       "       1133, 1134, 1135, 1136, 1137, 1138, 1139, 1140, 1141, 1142, 1143,\n",
       "       1144, 1145, 1146, 1147, 1148, 1149, 1150, 1151, 1152, 1153, 1154,\n",
       "       1155, 1156, 1157, 1158, 1159, 1160, 1161, 1162, 1163, 1164, 1165,\n",
       "       1166, 1167, 1168, 1169, 1170, 1171, 1172, 1173, 1174, 1175, 1176,\n",
       "       1177, 1178, 1179, 1180, 1181, 1182, 1183, 1184, 1185, 1186, 1187,\n",
       "       1188, 1189, 1190, 1191, 1192, 1193, 1194, 1195, 1196, 1197, 1198,\n",
       "       1199, 1200, 1201, 1202, 1203, 1204, 1205, 1206, 1207, 1208, 1209,\n",
       "       1210, 1211, 1212, 1213, 1214, 1215, 1216, 1217, 1218, 1219, 1220,\n",
       "       1221, 1222, 1223, 1224, 1225, 1226, 1227, 1228, 1229, 1230, 1231,\n",
       "       1232, 1233, 1234, 1235, 1236, 1237, 1238, 1239, 1240, 1241, 1242,\n",
       "       1243, 1244, 1245, 1246, 1247, 1248, 1249, 1250, 1251, 1252, 1253,\n",
       "       1254, 1255, 1256, 1257, 1258, 1259, 1260, 1261, 1262, 1263, 1264,\n",
       "       1265, 1266, 1267, 1268, 1269, 1270, 1271, 1272, 1274, 1275, 1276,\n",
       "       1277, 1278, 1279, 1280, 1281, 1282, 1283, 1284, 1285, 1286, 1287,\n",
       "       1288, 1289, 1290, 1291, 1292, 1293, 1294, 1295, 1296, 1297, 1298,\n",
       "       1299, 1300, 1301, 1302, 1303, 1304, 1305, 1306, 1307, 1308, 1309,\n",
       "       1310, 1311, 1312, 1313, 1314, 1315, 1316, 1317, 1318, 1319, 1320,\n",
       "       1321, 1322, 1323, 1324, 1325, 1326, 1327, 1328, 1329, 1330, 1331,\n",
       "       1332, 1333, 1334, 1335, 1336, 1337, 1338, 1339, 1340, 1341, 1342,\n",
       "       1343, 1344, 1345, 1346, 1347, 1348, 1349, 1350, 1351, 1352, 1353,\n",
       "       1354, 1355, 1356, 1357, 1358, 1359, 1360, 1361, 1362, 1363, 1364,\n",
       "       1365, 1366, 1367, 1368, 1369, 1370, 1372, 1373, 1374, 1375, 1376,\n",
       "       1377, 1378, 1379, 1380, 1381, 1382, 1383, 1384, 1385, 1386, 1387,\n",
       "       1388, 1389, 1390, 1391, 1392, 1393, 1394, 1395, 1396, 1397, 1398,\n",
       "       1399, 1400, 1401, 1402, 1403, 1404, 1405, 1406, 1407, 1408, 1409,\n",
       "       1410, 1411, 1412, 1413, 1414, 1415, 1416, 1417, 1418, 1419, 1420,\n",
       "       1421, 1422, 1423, 1424, 1425, 1426, 1427, 1428, 1429, 1430, 1431,\n",
       "       1432, 1433, 1434, 1435, 1436, 1437, 1438, 1439, 1440, 1441, 1442,\n",
       "       1443, 1444, 1445, 1446, 1447, 1448, 1449, 1450, 1451, 1452, 1453,\n",
       "       1454, 1455, 1456, 1457, 1458, 1459, 1460, 1461, 1462, 1463, 1464,\n",
       "       1465, 1466, 1467, 1468, 1469, 1470, 1471, 1472, 1473, 1474, 1475,\n",
       "       1476, 1477, 1478, 1479, 1480, 1481, 1482, 1483, 1484, 1485, 1486,\n",
       "       1487, 1488, 1489, 1490, 1491, 1492, 1493, 1494, 1495, 1496, 1497,\n",
       "       1498, 1499])"
      ]
     },
     "execution_count": 46,
     "metadata": {},
     "output_type": "execute_result"
    }
   ],
   "source": [
    "df_internet['user_id'].unique() # вывод уникальных значений столбца"
   ]
  },
  {
   "cell_type": "markdown",
   "metadata": {},
   "source": [
    "Ошибок в данных нет, все данные адекватные. \n",
    "\n",
    "При этом на оборудовании, отвечающем за интернет-сессии, скорее всего, есть проблемы, ведущие к росту числа неуспешных сессий с нулевой длительностью."
   ]
  },
  {
   "cell_type": "markdown",
   "metadata": {},
   "source": [
    "#### Таблица calls"
   ]
  },
  {
   "cell_type": "markdown",
   "metadata": {},
   "source": [
    "Исправим тип данных в колонке call_date на datetime, в колонке duration на int и округлим в бОльшую сторону значения в колонке duration по правилам тарификации для последующего расхода выручки."
   ]
  },
  {
   "cell_type": "code",
   "execution_count": 47,
   "metadata": {},
   "outputs": [],
   "source": [
    "df_calls['call_date'] = pd.to_datetime(df_calls['call_date']) # изменение типа данных в колонке call_date на datetime"
   ]
  },
  {
   "cell_type": "code",
   "execution_count": 48,
   "metadata": {},
   "outputs": [],
   "source": [
    "# округление данных в колонке duration в бОльшую сторону и изменение типа данных на int\n",
    "df_calls['duration'] = np.ceil(df_calls['duration']).astype(int)"
   ]
  },
  {
   "cell_type": "markdown",
   "metadata": {},
   "source": [
    "Проверим корректность сделанных изменений."
   ]
  },
  {
   "cell_type": "code",
   "execution_count": 49,
   "metadata": {},
   "outputs": [
    {
     "name": "stdout",
     "output_type": "stream",
     "text": [
      "<class 'pandas.core.frame.DataFrame'>\n",
      "RangeIndex: 202607 entries, 0 to 202606\n",
      "Data columns (total 4 columns):\n",
      " #   Column     Non-Null Count   Dtype         \n",
      "---  ------     --------------   -----         \n",
      " 0   id         202607 non-null  object        \n",
      " 1   call_date  202607 non-null  datetime64[ns]\n",
      " 2   duration   202607 non-null  int64         \n",
      " 3   user_id    202607 non-null  int64         \n",
      "dtypes: datetime64[ns](1), int64(2), object(1)\n",
      "memory usage: 6.2+ MB\n"
     ]
    }
   ],
   "source": [
    "df_calls.info() # вывод информации о таблице"
   ]
  },
  {
   "cell_type": "code",
   "execution_count": 50,
   "metadata": {},
   "outputs": [
    {
     "data": {
      "text/html": [
       "<div>\n",
       "<style scoped>\n",
       "    .dataframe tbody tr th:only-of-type {\n",
       "        vertical-align: middle;\n",
       "    }\n",
       "\n",
       "    .dataframe tbody tr th {\n",
       "        vertical-align: top;\n",
       "    }\n",
       "\n",
       "    .dataframe thead th {\n",
       "        text-align: right;\n",
       "    }\n",
       "</style>\n",
       "<table border=\"1\" class=\"dataframe\">\n",
       "  <thead>\n",
       "    <tr style=\"text-align: right;\">\n",
       "      <th></th>\n",
       "      <th>id</th>\n",
       "      <th>call_date</th>\n",
       "      <th>duration</th>\n",
       "      <th>user_id</th>\n",
       "    </tr>\n",
       "  </thead>\n",
       "  <tbody>\n",
       "    <tr>\n",
       "      <th>0</th>\n",
       "      <td>1000_0</td>\n",
       "      <td>2018-07-25</td>\n",
       "      <td>0</td>\n",
       "      <td>1000</td>\n",
       "    </tr>\n",
       "    <tr>\n",
       "      <th>1</th>\n",
       "      <td>1000_1</td>\n",
       "      <td>2018-08-17</td>\n",
       "      <td>0</td>\n",
       "      <td>1000</td>\n",
       "    </tr>\n",
       "    <tr>\n",
       "      <th>2</th>\n",
       "      <td>1000_2</td>\n",
       "      <td>2018-06-11</td>\n",
       "      <td>3</td>\n",
       "      <td>1000</td>\n",
       "    </tr>\n",
       "    <tr>\n",
       "      <th>3</th>\n",
       "      <td>1000_3</td>\n",
       "      <td>2018-09-21</td>\n",
       "      <td>14</td>\n",
       "      <td>1000</td>\n",
       "    </tr>\n",
       "    <tr>\n",
       "      <th>4</th>\n",
       "      <td>1000_4</td>\n",
       "      <td>2018-12-15</td>\n",
       "      <td>6</td>\n",
       "      <td>1000</td>\n",
       "    </tr>\n",
       "  </tbody>\n",
       "</table>\n",
       "</div>"
      ],
      "text/plain": [
       "       id  call_date  duration  user_id\n",
       "0  1000_0 2018-07-25         0     1000\n",
       "1  1000_1 2018-08-17         0     1000\n",
       "2  1000_2 2018-06-11         3     1000\n",
       "3  1000_3 2018-09-21        14     1000\n",
       "4  1000_4 2018-12-15         6     1000"
      ]
     },
     "execution_count": 50,
     "metadata": {},
     "output_type": "execute_result"
    }
   ],
   "source": [
    "df_calls.head() # проверка корректности проведенного округления"
   ]
  },
  {
   "cell_type": "markdown",
   "metadata": {},
   "source": [
    "Изменения осуществлены успешно: типы данных изменены, данные в колонке duration округлены в бОльшую сторону."
   ]
  },
  {
   "cell_type": "markdown",
   "metadata": {},
   "source": [
    "Проверим, нет ли в ошибок в данных в каждом из столбцов таблицы."
   ]
  },
  {
   "cell_type": "code",
   "execution_count": 51,
   "metadata": {},
   "outputs": [
    {
     "data": {
      "text/plain": [
       "array(['1000_0', '1000_1', '1000_2', ..., '1499_217', '1499_218',\n",
       "       '1499_219'], dtype=object)"
      ]
     },
     "execution_count": 51,
     "metadata": {},
     "output_type": "execute_result"
    }
   ],
   "source": [
    "df_calls['id'].unique() # вывод уникальных значений столбца"
   ]
  },
  {
   "cell_type": "code",
   "execution_count": 52,
   "metadata": {},
   "outputs": [
    {
     "data": {
      "text/plain": [
       "array(['2018-07-25T00:00:00.000000000', '2018-08-17T00:00:00.000000000',\n",
       "       '2018-06-11T00:00:00.000000000', '2018-09-21T00:00:00.000000000',\n",
       "       '2018-12-15T00:00:00.000000000', '2018-11-02T00:00:00.000000000',\n",
       "       '2018-10-18T00:00:00.000000000', '2018-08-22T00:00:00.000000000',\n",
       "       '2018-09-15T00:00:00.000000000', '2018-08-15T00:00:00.000000000',\n",
       "       '2018-05-28T00:00:00.000000000', '2018-07-05T00:00:00.000000000',\n",
       "       '2018-09-29T00:00:00.000000000', '2018-12-11T00:00:00.000000000',\n",
       "       '2018-07-27T00:00:00.000000000', '2018-08-11T00:00:00.000000000',\n",
       "       '2018-08-02T00:00:00.000000000', '2018-06-15T00:00:00.000000000',\n",
       "       '2018-12-04T00:00:00.000000000', '2018-08-20T00:00:00.000000000',\n",
       "       '2018-09-25T00:00:00.000000000', '2018-07-21T00:00:00.000000000',\n",
       "       '2018-08-27T00:00:00.000000000', '2018-08-25T00:00:00.000000000',\n",
       "       '2018-12-12T00:00:00.000000000', '2018-07-19T00:00:00.000000000',\n",
       "       '2018-11-14T00:00:00.000000000', '2018-12-26T00:00:00.000000000',\n",
       "       '2018-12-02T00:00:00.000000000', '2018-10-08T00:00:00.000000000',\n",
       "       '2018-09-23T00:00:00.000000000', '2018-10-09T00:00:00.000000000',\n",
       "       '2018-05-25T00:00:00.000000000', '2018-06-13T00:00:00.000000000',\n",
       "       '2018-10-25T00:00:00.000000000', '2018-12-29T00:00:00.000000000',\n",
       "       '2018-07-12T00:00:00.000000000', '2018-11-20T00:00:00.000000000',\n",
       "       '2018-06-05T00:00:00.000000000', '2018-10-13T00:00:00.000000000',\n",
       "       '2018-06-26T00:00:00.000000000', '2018-07-14T00:00:00.000000000',\n",
       "       '2018-07-20T00:00:00.000000000', '2018-12-01T00:00:00.000000000',\n",
       "       '2018-06-17T00:00:00.000000000', '2018-10-24T00:00:00.000000000',\n",
       "       '2018-11-26T00:00:00.000000000', '2018-09-19T00:00:00.000000000',\n",
       "       '2018-05-30T00:00:00.000000000', '2018-12-21T00:00:00.000000000',\n",
       "       '2018-12-23T00:00:00.000000000', '2018-07-03T00:00:00.000000000',\n",
       "       '2018-10-04T00:00:00.000000000', '2018-09-16T00:00:00.000000000',\n",
       "       '2018-11-21T00:00:00.000000000', '2018-10-28T00:00:00.000000000',\n",
       "       '2018-08-29T00:00:00.000000000', '2018-08-13T00:00:00.000000000',\n",
       "       '2018-07-18T00:00:00.000000000', '2018-06-03T00:00:00.000000000',\n",
       "       '2018-09-03T00:00:00.000000000', '2018-08-14T00:00:00.000000000',\n",
       "       '2018-11-01T00:00:00.000000000', '2018-05-26T00:00:00.000000000',\n",
       "       '2018-11-23T00:00:00.000000000', '2018-09-30T00:00:00.000000000',\n",
       "       '2018-11-09T00:00:00.000000000', '2018-08-01T00:00:00.000000000',\n",
       "       '2018-06-18T00:00:00.000000000', '2018-10-20T00:00:00.000000000',\n",
       "       '2018-11-07T00:00:00.000000000', '2018-08-04T00:00:00.000000000',\n",
       "       '2018-09-06T00:00:00.000000000', '2018-10-27T00:00:00.000000000',\n",
       "       '2018-10-15T00:00:00.000000000', '2018-10-26T00:00:00.000000000',\n",
       "       '2018-11-18T00:00:00.000000000', '2018-07-30T00:00:00.000000000',\n",
       "       '2018-10-06T00:00:00.000000000', '2018-12-17T00:00:00.000000000',\n",
       "       '2018-08-24T00:00:00.000000000', '2018-09-28T00:00:00.000000000',\n",
       "       '2018-07-06T00:00:00.000000000', '2018-06-02T00:00:00.000000000',\n",
       "       '2018-09-02T00:00:00.000000000', '2018-12-10T00:00:00.000000000',\n",
       "       '2018-11-03T00:00:00.000000000', '2018-07-28T00:00:00.000000000',\n",
       "       '2018-09-27T00:00:00.000000000', '2018-12-24T00:00:00.000000000',\n",
       "       '2018-07-29T00:00:00.000000000', '2018-12-18T00:00:00.000000000',\n",
       "       '2018-10-16T00:00:00.000000000', '2018-10-07T00:00:00.000000000',\n",
       "       '2018-11-12T00:00:00.000000000', '2018-07-23T00:00:00.000000000',\n",
       "       '2018-08-26T00:00:00.000000000', '2018-09-07T00:00:00.000000000',\n",
       "       '2018-09-14T00:00:00.000000000', '2018-07-15T00:00:00.000000000',\n",
       "       '2018-09-17T00:00:00.000000000', '2018-09-09T00:00:00.000000000',\n",
       "       '2018-10-02T00:00:00.000000000', '2018-07-02T00:00:00.000000000',\n",
       "       '2018-10-21T00:00:00.000000000', '2018-07-10T00:00:00.000000000',\n",
       "       '2018-09-10T00:00:00.000000000', '2018-07-11T00:00:00.000000000',\n",
       "       '2018-09-20T00:00:00.000000000', '2018-11-04T00:00:00.000000000',\n",
       "       '2018-12-05T00:00:00.000000000', '2018-06-22T00:00:00.000000000',\n",
       "       '2018-07-04T00:00:00.000000000', '2018-08-09T00:00:00.000000000',\n",
       "       '2018-12-25T00:00:00.000000000', '2018-06-12T00:00:00.000000000',\n",
       "       '2018-12-22T00:00:00.000000000', '2018-07-17T00:00:00.000000000',\n",
       "       '2018-09-18T00:00:00.000000000', '2018-10-14T00:00:00.000000000',\n",
       "       '2018-11-15T00:00:00.000000000', '2018-06-19T00:00:00.000000000',\n",
       "       '2018-06-07T00:00:00.000000000', '2018-11-25T00:00:00.000000000',\n",
       "       '2018-12-07T00:00:00.000000000', '2018-05-31T00:00:00.000000000',\n",
       "       '2018-06-27T00:00:00.000000000', '2018-12-03T00:00:00.000000000',\n",
       "       '2018-06-28T00:00:00.000000000', '2018-09-13T00:00:00.000000000',\n",
       "       '2018-11-19T00:00:00.000000000', '2018-09-11T00:00:00.000000000',\n",
       "       '2018-06-21T00:00:00.000000000', '2018-11-27T00:00:00.000000000',\n",
       "       '2018-08-10T00:00:00.000000000', '2018-08-07T00:00:00.000000000',\n",
       "       '2018-09-24T00:00:00.000000000', '2018-10-01T00:00:00.000000000',\n",
       "       '2018-06-20T00:00:00.000000000', '2018-10-19T00:00:00.000000000',\n",
       "       '2018-07-26T00:00:00.000000000', '2018-09-12T00:00:00.000000000',\n",
       "       '2018-11-24T00:00:00.000000000', '2018-12-09T00:00:00.000000000',\n",
       "       '2018-06-10T00:00:00.000000000', '2018-06-14T00:00:00.000000000',\n",
       "       '2018-06-24T00:00:00.000000000', '2018-11-11T00:00:00.000000000',\n",
       "       '2018-11-05T00:00:00.000000000', '2018-06-29T00:00:00.000000000',\n",
       "       '2018-09-05T00:00:00.000000000', '2018-08-23T00:00:00.000000000',\n",
       "       '2018-08-19T00:00:00.000000000', '2018-08-03T00:00:00.000000000',\n",
       "       '2018-06-25T00:00:00.000000000', '2018-05-27T00:00:00.000000000',\n",
       "       '2018-07-07T00:00:00.000000000', '2018-11-16T00:00:00.000000000',\n",
       "       '2018-09-08T00:00:00.000000000', '2018-10-11T00:00:00.000000000',\n",
       "       '2018-05-29T00:00:00.000000000', '2018-12-19T00:00:00.000000000',\n",
       "       '2018-08-30T00:00:00.000000000', '2018-07-24T00:00:00.000000000',\n",
       "       '2018-10-03T00:00:00.000000000', '2018-12-08T00:00:00.000000000',\n",
       "       '2018-06-08T00:00:00.000000000', '2018-10-05T00:00:00.000000000',\n",
       "       '2018-11-28T00:00:00.000000000', '2018-10-29T00:00:00.000000000',\n",
       "       '2018-12-27T00:00:00.000000000', '2018-11-29T00:00:00.000000000',\n",
       "       '2018-10-30T00:00:00.000000000', '2018-11-08T00:00:00.000000000',\n",
       "       '2018-07-08T00:00:00.000000000', '2018-06-23T00:00:00.000000000',\n",
       "       '2018-12-06T00:00:00.000000000', '2018-12-13T00:00:00.000000000',\n",
       "       '2018-11-13T00:00:00.000000000', '2018-12-14T00:00:00.000000000',\n",
       "       '2018-12-30T00:00:00.000000000', '2018-11-22T00:00:00.000000000',\n",
       "       '2018-12-28T00:00:00.000000000', '2018-12-20T00:00:00.000000000',\n",
       "       '2018-11-10T00:00:00.000000000', '2018-11-30T00:00:00.000000000',\n",
       "       '2018-12-16T00:00:00.000000000', '2018-11-17T00:00:00.000000000',\n",
       "       '2018-12-31T00:00:00.000000000', '2018-08-18T00:00:00.000000000',\n",
       "       '2018-07-09T00:00:00.000000000', '2018-07-16T00:00:00.000000000',\n",
       "       '2018-08-05T00:00:00.000000000', '2018-08-06T00:00:00.000000000',\n",
       "       '2018-10-31T00:00:00.000000000', '2018-09-04T00:00:00.000000000',\n",
       "       '2018-07-31T00:00:00.000000000', '2018-11-06T00:00:00.000000000',\n",
       "       '2018-10-17T00:00:00.000000000', '2018-10-22T00:00:00.000000000',\n",
       "       '2018-09-26T00:00:00.000000000', '2018-10-23T00:00:00.000000000',\n",
       "       '2018-09-22T00:00:00.000000000', '2018-09-01T00:00:00.000000000',\n",
       "       '2018-08-28T00:00:00.000000000', '2018-08-08T00:00:00.000000000',\n",
       "       '2018-08-12T00:00:00.000000000', '2018-07-01T00:00:00.000000000',\n",
       "       '2018-07-22T00:00:00.000000000', '2018-08-31T00:00:00.000000000',\n",
       "       '2018-10-12T00:00:00.000000000', '2018-10-10T00:00:00.000000000',\n",
       "       '2018-08-21T00:00:00.000000000', '2018-08-16T00:00:00.000000000',\n",
       "       '2018-06-30T00:00:00.000000000', '2018-05-14T00:00:00.000000000',\n",
       "       '2018-05-18T00:00:00.000000000', '2018-05-24T00:00:00.000000000',\n",
       "       '2018-07-13T00:00:00.000000000', '2018-06-06T00:00:00.000000000',\n",
       "       '2018-05-19T00:00:00.000000000', '2018-05-23T00:00:00.000000000',\n",
       "       '2018-05-17T00:00:00.000000000', '2018-03-21T00:00:00.000000000',\n",
       "       '2018-04-09T00:00:00.000000000', '2018-05-13T00:00:00.000000000',\n",
       "       '2018-04-05T00:00:00.000000000', '2018-04-12T00:00:00.000000000',\n",
       "       '2018-01-28T00:00:00.000000000', '2018-03-06T00:00:00.000000000',\n",
       "       '2018-04-23T00:00:00.000000000', '2018-03-15T00:00:00.000000000',\n",
       "       '2018-03-04T00:00:00.000000000', '2018-03-09T00:00:00.000000000',\n",
       "       '2018-02-27T00:00:00.000000000', '2018-03-27T00:00:00.000000000',\n",
       "       '2018-06-16T00:00:00.000000000', '2018-03-12T00:00:00.000000000',\n",
       "       '2018-04-21T00:00:00.000000000', '2018-05-09T00:00:00.000000000',\n",
       "       '2018-03-11T00:00:00.000000000', '2018-04-14T00:00:00.000000000',\n",
       "       '2018-03-07T00:00:00.000000000', '2018-01-27T00:00:00.000000000',\n",
       "       '2018-02-18T00:00:00.000000000', '2018-03-01T00:00:00.000000000',\n",
       "       '2018-02-24T00:00:00.000000000', '2018-05-10T00:00:00.000000000',\n",
       "       '2018-03-08T00:00:00.000000000', '2018-02-23T00:00:00.000000000',\n",
       "       '2018-03-03T00:00:00.000000000', '2018-04-22T00:00:00.000000000',\n",
       "       '2018-02-09T00:00:00.000000000', '2018-01-31T00:00:00.000000000',\n",
       "       '2018-02-19T00:00:00.000000000', '2018-03-13T00:00:00.000000000',\n",
       "       '2018-03-30T00:00:00.000000000', '2018-05-08T00:00:00.000000000',\n",
       "       '2018-04-17T00:00:00.000000000', '2018-04-18T00:00:00.000000000',\n",
       "       '2018-01-29T00:00:00.000000000', '2018-04-19T00:00:00.000000000',\n",
       "       '2018-04-02T00:00:00.000000000', '2018-05-05T00:00:00.000000000',\n",
       "       '2018-04-10T00:00:00.000000000', '2018-03-19T00:00:00.000000000',\n",
       "       '2018-04-06T00:00:00.000000000', '2018-04-24T00:00:00.000000000',\n",
       "       '2018-03-10T00:00:00.000000000', '2018-05-22T00:00:00.000000000',\n",
       "       '2018-03-16T00:00:00.000000000', '2018-02-12T00:00:00.000000000',\n",
       "       '2018-05-01T00:00:00.000000000', '2018-02-13T00:00:00.000000000',\n",
       "       '2018-01-26T00:00:00.000000000', '2018-02-01T00:00:00.000000000',\n",
       "       '2018-02-02T00:00:00.000000000', '2018-04-26T00:00:00.000000000',\n",
       "       '2018-02-10T00:00:00.000000000', '2018-04-04T00:00:00.000000000',\n",
       "       '2018-06-09T00:00:00.000000000', '2018-03-18T00:00:00.000000000',\n",
       "       '2018-03-31T00:00:00.000000000', '2018-04-01T00:00:00.000000000',\n",
       "       '2018-02-20T00:00:00.000000000', '2018-02-03T00:00:00.000000000',\n",
       "       '2018-02-07T00:00:00.000000000', '2018-04-16T00:00:00.000000000',\n",
       "       '2018-02-04T00:00:00.000000000', '2018-05-21T00:00:00.000000000',\n",
       "       '2018-05-02T00:00:00.000000000', '2018-04-08T00:00:00.000000000',\n",
       "       '2018-06-04T00:00:00.000000000', '2018-03-20T00:00:00.000000000',\n",
       "       '2018-02-17T00:00:00.000000000', '2018-03-23T00:00:00.000000000',\n",
       "       '2018-05-04T00:00:00.000000000', '2018-05-11T00:00:00.000000000',\n",
       "       '2018-03-22T00:00:00.000000000', '2018-05-03T00:00:00.000000000',\n",
       "       '2018-02-08T00:00:00.000000000', '2018-02-06T00:00:00.000000000',\n",
       "       '2018-02-15T00:00:00.000000000', '2018-05-20T00:00:00.000000000',\n",
       "       '2018-03-26T00:00:00.000000000', '2018-03-28T00:00:00.000000000',\n",
       "       '2018-03-24T00:00:00.000000000', '2018-04-15T00:00:00.000000000',\n",
       "       '2018-04-30T00:00:00.000000000', '2018-02-25T00:00:00.000000000',\n",
       "       '2018-04-25T00:00:00.000000000', '2018-03-25T00:00:00.000000000',\n",
       "       '2018-05-15T00:00:00.000000000', '2018-03-29T00:00:00.000000000',\n",
       "       '2018-02-22T00:00:00.000000000', '2018-04-28T00:00:00.000000000',\n",
       "       '2018-04-03T00:00:00.000000000', '2018-03-17T00:00:00.000000000',\n",
       "       '2018-04-13T00:00:00.000000000', '2018-03-05T00:00:00.000000000',\n",
       "       '2018-04-11T00:00:00.000000000', '2018-01-30T00:00:00.000000000',\n",
       "       '2018-05-07T00:00:00.000000000', '2018-06-01T00:00:00.000000000',\n",
       "       '2018-02-11T00:00:00.000000000', '2018-05-16T00:00:00.000000000',\n",
       "       '2018-02-16T00:00:00.000000000', '2018-04-27T00:00:00.000000000',\n",
       "       '2018-01-25T00:00:00.000000000', '2018-05-06T00:00:00.000000000',\n",
       "       '2018-02-21T00:00:00.000000000', '2018-04-29T00:00:00.000000000',\n",
       "       '2018-04-07T00:00:00.000000000', '2018-02-28T00:00:00.000000000',\n",
       "       '2018-02-14T00:00:00.000000000', '2018-03-02T00:00:00.000000000',\n",
       "       '2018-03-14T00:00:00.000000000', '2018-02-26T00:00:00.000000000',\n",
       "       '2018-04-20T00:00:00.000000000', '2018-05-12T00:00:00.000000000',\n",
       "       '2018-01-05T00:00:00.000000000', '2018-01-13T00:00:00.000000000',\n",
       "       '2018-01-18T00:00:00.000000000', '2018-01-12T00:00:00.000000000',\n",
       "       '2018-01-20T00:00:00.000000000', '2018-01-24T00:00:00.000000000',\n",
       "       '2018-01-21T00:00:00.000000000', '2018-01-22T00:00:00.000000000',\n",
       "       '2018-01-15T00:00:00.000000000', '2018-01-16T00:00:00.000000000',\n",
       "       '2018-02-05T00:00:00.000000000', '2018-01-10T00:00:00.000000000',\n",
       "       '2018-01-11T00:00:00.000000000', '2018-01-08T00:00:00.000000000',\n",
       "       '2018-01-14T00:00:00.000000000', '2018-01-19T00:00:00.000000000',\n",
       "       '2018-01-04T00:00:00.000000000', '2018-01-09T00:00:00.000000000',\n",
       "       '2018-01-07T00:00:00.000000000', '2018-01-02T00:00:00.000000000',\n",
       "       '2018-01-06T00:00:00.000000000', '2018-01-17T00:00:00.000000000',\n",
       "       '2018-01-03T00:00:00.000000000', '2018-01-23T00:00:00.000000000',\n",
       "       '2018-01-01T00:00:00.000000000'], dtype='datetime64[ns]')"
      ]
     },
     "execution_count": 52,
     "metadata": {},
     "output_type": "execute_result"
    }
   ],
   "source": [
    "df_calls['call_date'].unique() # вывод уникальных значений столбца"
   ]
  },
  {
   "cell_type": "code",
   "execution_count": 53,
   "metadata": {},
   "outputs": [
    {
     "data": {
      "text/plain": [
       "array([ 0,  3, 14,  6, 19,  8, 10,  5, 13, 16,  9,  2, 15, 11, 24, 12, 23,\n",
       "        7, 20,  1,  4, 17, 21, 18, 25, 22, 27, 26, 29, 28, 30, 37, 31, 33,\n",
       "       34, 32, 36, 35, 38])"
      ]
     },
     "execution_count": 53,
     "metadata": {},
     "output_type": "execute_result"
    }
   ],
   "source": [
    "df_calls['duration'].unique() # вывод уникальных значений столбца"
   ]
  },
  {
   "cell_type": "code",
   "execution_count": 54,
   "metadata": {
    "scrolled": true
   },
   "outputs": [
    {
     "data": {
      "text/plain": [
       "array([1000, 1001, 1002, 1003, 1004, 1005, 1006, 1007, 1008, 1009, 1010,\n",
       "       1011, 1012, 1013, 1014, 1015, 1016, 1017, 1018, 1019, 1020, 1021,\n",
       "       1022, 1023, 1024, 1025, 1026, 1027, 1028, 1029, 1030, 1031, 1032,\n",
       "       1033, 1034, 1035, 1036, 1037, 1038, 1039, 1040, 1041, 1042, 1043,\n",
       "       1044, 1045, 1046, 1047, 1048, 1049, 1050, 1051, 1052, 1053, 1054,\n",
       "       1055, 1056, 1057, 1058, 1059, 1060, 1061, 1062, 1063, 1064, 1065,\n",
       "       1066, 1067, 1068, 1069, 1070, 1071, 1072, 1073, 1074, 1075, 1076,\n",
       "       1077, 1078, 1079, 1080, 1081, 1082, 1083, 1084, 1085, 1086, 1087,\n",
       "       1088, 1089, 1090, 1092, 1093, 1094, 1095, 1096, 1097, 1098, 1099,\n",
       "       1100, 1101, 1102, 1103, 1104, 1105, 1107, 1108, 1109, 1110, 1111,\n",
       "       1112, 1113, 1114, 1115, 1116, 1117, 1118, 1119, 1120, 1121, 1122,\n",
       "       1123, 1124, 1125, 1126, 1127, 1129, 1130, 1131, 1132, 1133, 1134,\n",
       "       1135, 1136, 1137, 1138, 1139, 1140, 1141, 1142, 1143, 1144, 1145,\n",
       "       1146, 1147, 1148, 1149, 1150, 1151, 1152, 1153, 1154, 1155, 1156,\n",
       "       1157, 1158, 1159, 1160, 1161, 1162, 1163, 1164, 1165, 1166, 1167,\n",
       "       1168, 1169, 1170, 1171, 1172, 1173, 1174, 1175, 1176, 1177, 1178,\n",
       "       1179, 1180, 1181, 1182, 1183, 1184, 1185, 1186, 1187, 1188, 1189,\n",
       "       1190, 1191, 1192, 1193, 1194, 1195, 1196, 1197, 1198, 1199, 1200,\n",
       "       1201, 1202, 1203, 1204, 1205, 1206, 1207, 1208, 1209, 1210, 1211,\n",
       "       1212, 1213, 1214, 1215, 1216, 1217, 1218, 1219, 1220, 1221, 1222,\n",
       "       1223, 1224, 1225, 1226, 1227, 1228, 1229, 1230, 1232, 1233, 1234,\n",
       "       1235, 1236, 1237, 1238, 1239, 1240, 1241, 1242, 1243, 1244, 1245,\n",
       "       1246, 1247, 1248, 1249, 1250, 1251, 1252, 1253, 1254, 1255, 1256,\n",
       "       1257, 1258, 1259, 1260, 1261, 1262, 1263, 1264, 1265, 1266, 1267,\n",
       "       1268, 1269, 1270, 1271, 1272, 1273, 1274, 1275, 1276, 1277, 1278,\n",
       "       1279, 1280, 1281, 1282, 1283, 1284, 1285, 1286, 1287, 1288, 1289,\n",
       "       1290, 1291, 1292, 1293, 1294, 1295, 1296, 1297, 1298, 1299, 1300,\n",
       "       1301, 1302, 1303, 1304, 1305, 1306, 1307, 1308, 1309, 1310, 1311,\n",
       "       1312, 1313, 1314, 1315, 1316, 1317, 1318, 1319, 1320, 1321, 1322,\n",
       "       1323, 1324, 1325, 1326, 1327, 1329, 1330, 1331, 1332, 1333, 1334,\n",
       "       1335, 1336, 1337, 1338, 1339, 1340, 1341, 1342, 1343, 1344, 1345,\n",
       "       1346, 1347, 1348, 1349, 1350, 1351, 1352, 1353, 1354, 1355, 1356,\n",
       "       1357, 1358, 1359, 1360, 1361, 1362, 1363, 1364, 1365, 1366, 1367,\n",
       "       1368, 1369, 1370, 1372, 1373, 1374, 1375, 1376, 1377, 1378, 1379,\n",
       "       1380, 1381, 1382, 1383, 1384, 1385, 1386, 1387, 1388, 1389, 1390,\n",
       "       1391, 1392, 1393, 1394, 1395, 1396, 1397, 1398, 1399, 1400, 1401,\n",
       "       1402, 1403, 1404, 1405, 1406, 1407, 1408, 1409, 1410, 1411, 1412,\n",
       "       1413, 1414, 1415, 1416, 1417, 1418, 1419, 1420, 1421, 1422, 1423,\n",
       "       1424, 1425, 1426, 1427, 1428, 1429, 1430, 1431, 1432, 1433, 1434,\n",
       "       1435, 1436, 1437, 1438, 1439, 1440, 1441, 1442, 1443, 1444, 1445,\n",
       "       1446, 1447, 1448, 1449, 1450, 1451, 1452, 1453, 1454, 1455, 1456,\n",
       "       1457, 1458, 1459, 1460, 1461, 1462, 1463, 1464, 1465, 1466, 1467,\n",
       "       1468, 1469, 1470, 1471, 1472, 1474, 1475, 1476, 1477, 1478, 1479,\n",
       "       1480, 1481, 1482, 1483, 1484, 1485, 1486, 1487, 1488, 1490, 1491,\n",
       "       1492, 1493, 1494, 1495, 1496, 1497, 1498, 1499])"
      ]
     },
     "execution_count": 54,
     "metadata": {},
     "output_type": "execute_result"
    }
   ],
   "source": [
    "df_calls['user_id'].unique() # вывод уникальных значений столбца"
   ]
  },
  {
   "cell_type": "markdown",
   "metadata": {},
   "source": [
    "Ошибок в данных нет, все данные адекватные. Звонки с нулевой длительностью являются пропущенными, их удалять не будем."
   ]
  },
  {
   "cell_type": "markdown",
   "metadata": {},
   "source": [
    "### Подготовка пользовательских данных"
   ]
  },
  {
   "cell_type": "markdown",
   "metadata": {},
   "source": [
    "Посчитаем для каждого пользователя:\n",
    "*\tколичество сделанных звонков и израсходованных минут разговора по месяцам;\n",
    "*\tколичество отправленных сообщений по месяцам;\n",
    "*\tобъем израсходованного интернет-трафика по месяцам;\n",
    "*\tпомесячную выручку с каждого пользователя."
   ]
  },
  {
   "cell_type": "markdown",
   "metadata": {},
   "source": [
    "**Проведем подготовку: обогатим таблицы df_calls, df_messages, df_internet информацией о тарифе, которая понадобится нам для дальнейшего анализа.**"
   ]
  },
  {
   "cell_type": "markdown",
   "metadata": {},
   "source": [
    "Создадим из таблицы df_users сокращенную табилцу, содержащую только колонки user_id и tariff. По совпадению данных в колонке user_id будем осуществлять объединение с таблицами df_calls, df_messages, df_internet."
   ]
  },
  {
   "cell_type": "code",
   "execution_count": 55,
   "metadata": {},
   "outputs": [],
   "source": [
    "# создание из таблицы df_users сокращенной таблицы с данными о пользователе и тарифе для последующего объединения\n",
    "user_id_tariff = df_users[['user_id','tariff']] "
   ]
  },
  {
   "cell_type": "markdown",
   "metadata": {},
   "source": [
    "Объединим таблицы df_calls и user_id_tariff по столбцу user_id, чтобы обогатить таблицу df_calls информацией о тарифе пользователя."
   ]
  },
  {
   "cell_type": "code",
   "execution_count": 56,
   "metadata": {},
   "outputs": [],
   "source": [
    "df_calls = pd.merge(df_calls, user_id_tariff) # объединение таблиц df_calls и user_id_tariff"
   ]
  },
  {
   "cell_type": "markdown",
   "metadata": {},
   "source": [
    "Проверим корректность объединения."
   ]
  },
  {
   "cell_type": "code",
   "execution_count": 57,
   "metadata": {},
   "outputs": [
    {
     "data": {
      "text/html": [
       "<div>\n",
       "<style scoped>\n",
       "    .dataframe tbody tr th:only-of-type {\n",
       "        vertical-align: middle;\n",
       "    }\n",
       "\n",
       "    .dataframe tbody tr th {\n",
       "        vertical-align: top;\n",
       "    }\n",
       "\n",
       "    .dataframe thead th {\n",
       "        text-align: right;\n",
       "    }\n",
       "</style>\n",
       "<table border=\"1\" class=\"dataframe\">\n",
       "  <thead>\n",
       "    <tr style=\"text-align: right;\">\n",
       "      <th></th>\n",
       "      <th>id</th>\n",
       "      <th>call_date</th>\n",
       "      <th>duration</th>\n",
       "      <th>user_id</th>\n",
       "      <th>tariff</th>\n",
       "    </tr>\n",
       "  </thead>\n",
       "  <tbody>\n",
       "    <tr>\n",
       "      <th>0</th>\n",
       "      <td>1000_0</td>\n",
       "      <td>2018-07-25</td>\n",
       "      <td>0</td>\n",
       "      <td>1000</td>\n",
       "      <td>ultra</td>\n",
       "    </tr>\n",
       "    <tr>\n",
       "      <th>1</th>\n",
       "      <td>1000_1</td>\n",
       "      <td>2018-08-17</td>\n",
       "      <td>0</td>\n",
       "      <td>1000</td>\n",
       "      <td>ultra</td>\n",
       "    </tr>\n",
       "    <tr>\n",
       "      <th>2</th>\n",
       "      <td>1000_2</td>\n",
       "      <td>2018-06-11</td>\n",
       "      <td>3</td>\n",
       "      <td>1000</td>\n",
       "      <td>ultra</td>\n",
       "    </tr>\n",
       "    <tr>\n",
       "      <th>3</th>\n",
       "      <td>1000_3</td>\n",
       "      <td>2018-09-21</td>\n",
       "      <td>14</td>\n",
       "      <td>1000</td>\n",
       "      <td>ultra</td>\n",
       "    </tr>\n",
       "    <tr>\n",
       "      <th>4</th>\n",
       "      <td>1000_4</td>\n",
       "      <td>2018-12-15</td>\n",
       "      <td>6</td>\n",
       "      <td>1000</td>\n",
       "      <td>ultra</td>\n",
       "    </tr>\n",
       "  </tbody>\n",
       "</table>\n",
       "</div>"
      ],
      "text/plain": [
       "       id  call_date  duration  user_id tariff\n",
       "0  1000_0 2018-07-25         0     1000  ultra\n",
       "1  1000_1 2018-08-17         0     1000  ultra\n",
       "2  1000_2 2018-06-11         3     1000  ultra\n",
       "3  1000_3 2018-09-21        14     1000  ultra\n",
       "4  1000_4 2018-12-15         6     1000  ultra"
      ]
     },
     "execution_count": 57,
     "metadata": {},
     "output_type": "execute_result"
    }
   ],
   "source": [
    "df_calls.head() # вывод первых 5 строк обогащенной таблицы "
   ]
  },
  {
   "cell_type": "markdown",
   "metadata": {},
   "source": [
    "Обогащение проведено корректно. В таблицу df_calls добавлен новый столбец tariff."
   ]
  },
  {
   "cell_type": "markdown",
   "metadata": {},
   "source": [
    "Объединим таблицы df_messages и user_id_tariff по столбцу user_id, чтобы обогатить таблицу df_messages информацией о тарифе пользователя."
   ]
  },
  {
   "cell_type": "code",
   "execution_count": 58,
   "metadata": {},
   "outputs": [],
   "source": [
    "df_messages = pd.merge(df_messages, user_id_tariff) # объединение таблиц df_messages и user_id_tariff"
   ]
  },
  {
   "cell_type": "markdown",
   "metadata": {},
   "source": [
    "Проверим корректность объединения."
   ]
  },
  {
   "cell_type": "code",
   "execution_count": 59,
   "metadata": {},
   "outputs": [
    {
     "data": {
      "text/html": [
       "<div>\n",
       "<style scoped>\n",
       "    .dataframe tbody tr th:only-of-type {\n",
       "        vertical-align: middle;\n",
       "    }\n",
       "\n",
       "    .dataframe tbody tr th {\n",
       "        vertical-align: top;\n",
       "    }\n",
       "\n",
       "    .dataframe thead th {\n",
       "        text-align: right;\n",
       "    }\n",
       "</style>\n",
       "<table border=\"1\" class=\"dataframe\">\n",
       "  <thead>\n",
       "    <tr style=\"text-align: right;\">\n",
       "      <th></th>\n",
       "      <th>id</th>\n",
       "      <th>message_date</th>\n",
       "      <th>user_id</th>\n",
       "      <th>tariff</th>\n",
       "    </tr>\n",
       "  </thead>\n",
       "  <tbody>\n",
       "    <tr>\n",
       "      <th>0</th>\n",
       "      <td>1000_0</td>\n",
       "      <td>2018-06-27</td>\n",
       "      <td>1000</td>\n",
       "      <td>ultra</td>\n",
       "    </tr>\n",
       "    <tr>\n",
       "      <th>1</th>\n",
       "      <td>1000_1</td>\n",
       "      <td>2018-10-08</td>\n",
       "      <td>1000</td>\n",
       "      <td>ultra</td>\n",
       "    </tr>\n",
       "    <tr>\n",
       "      <th>2</th>\n",
       "      <td>1000_2</td>\n",
       "      <td>2018-08-04</td>\n",
       "      <td>1000</td>\n",
       "      <td>ultra</td>\n",
       "    </tr>\n",
       "    <tr>\n",
       "      <th>3</th>\n",
       "      <td>1000_3</td>\n",
       "      <td>2018-06-16</td>\n",
       "      <td>1000</td>\n",
       "      <td>ultra</td>\n",
       "    </tr>\n",
       "    <tr>\n",
       "      <th>4</th>\n",
       "      <td>1000_4</td>\n",
       "      <td>2018-12-05</td>\n",
       "      <td>1000</td>\n",
       "      <td>ultra</td>\n",
       "    </tr>\n",
       "  </tbody>\n",
       "</table>\n",
       "</div>"
      ],
      "text/plain": [
       "       id message_date  user_id tariff\n",
       "0  1000_0   2018-06-27     1000  ultra\n",
       "1  1000_1   2018-10-08     1000  ultra\n",
       "2  1000_2   2018-08-04     1000  ultra\n",
       "3  1000_3   2018-06-16     1000  ultra\n",
       "4  1000_4   2018-12-05     1000  ultra"
      ]
     },
     "execution_count": 59,
     "metadata": {},
     "output_type": "execute_result"
    }
   ],
   "source": [
    "df_messages.head() # вывод первых 5 строк обогащенной таблицы "
   ]
  },
  {
   "cell_type": "markdown",
   "metadata": {},
   "source": [
    "Обогащение проведено корректно. В таблицу df_messages добавлен новый столбец tariff."
   ]
  },
  {
   "cell_type": "markdown",
   "metadata": {},
   "source": [
    "Объединим таблицы df_internet и user_id_tariff по столбцу user_id, чтобы обогатить таблицу df_internet информацией о тарифе пользователя."
   ]
  },
  {
   "cell_type": "code",
   "execution_count": 60,
   "metadata": {},
   "outputs": [],
   "source": [
    "df_internet = pd.merge(df_internet, user_id_tariff) # объединение таблиц df_internet и user_id_tariff"
   ]
  },
  {
   "cell_type": "markdown",
   "metadata": {},
   "source": [
    "Проверим корректность объединения."
   ]
  },
  {
   "cell_type": "code",
   "execution_count": 61,
   "metadata": {},
   "outputs": [
    {
     "data": {
      "text/html": [
       "<div>\n",
       "<style scoped>\n",
       "    .dataframe tbody tr th:only-of-type {\n",
       "        vertical-align: middle;\n",
       "    }\n",
       "\n",
       "    .dataframe tbody tr th {\n",
       "        vertical-align: top;\n",
       "    }\n",
       "\n",
       "    .dataframe thead th {\n",
       "        text-align: right;\n",
       "    }\n",
       "</style>\n",
       "<table border=\"1\" class=\"dataframe\">\n",
       "  <thead>\n",
       "    <tr style=\"text-align: right;\">\n",
       "      <th></th>\n",
       "      <th>id</th>\n",
       "      <th>mb_used</th>\n",
       "      <th>session_date</th>\n",
       "      <th>user_id</th>\n",
       "      <th>tariff</th>\n",
       "    </tr>\n",
       "  </thead>\n",
       "  <tbody>\n",
       "    <tr>\n",
       "      <th>0</th>\n",
       "      <td>1000_0</td>\n",
       "      <td>112.95</td>\n",
       "      <td>2018-11-25</td>\n",
       "      <td>1000</td>\n",
       "      <td>ultra</td>\n",
       "    </tr>\n",
       "    <tr>\n",
       "      <th>1</th>\n",
       "      <td>1000_1</td>\n",
       "      <td>1052.81</td>\n",
       "      <td>2018-09-07</td>\n",
       "      <td>1000</td>\n",
       "      <td>ultra</td>\n",
       "    </tr>\n",
       "    <tr>\n",
       "      <th>2</th>\n",
       "      <td>1000_2</td>\n",
       "      <td>1197.26</td>\n",
       "      <td>2018-06-25</td>\n",
       "      <td>1000</td>\n",
       "      <td>ultra</td>\n",
       "    </tr>\n",
       "    <tr>\n",
       "      <th>3</th>\n",
       "      <td>1000_3</td>\n",
       "      <td>550.27</td>\n",
       "      <td>2018-08-22</td>\n",
       "      <td>1000</td>\n",
       "      <td>ultra</td>\n",
       "    </tr>\n",
       "    <tr>\n",
       "      <th>4</th>\n",
       "      <td>1000_4</td>\n",
       "      <td>302.56</td>\n",
       "      <td>2018-09-24</td>\n",
       "      <td>1000</td>\n",
       "      <td>ultra</td>\n",
       "    </tr>\n",
       "  </tbody>\n",
       "</table>\n",
       "</div>"
      ],
      "text/plain": [
       "       id  mb_used session_date  user_id tariff\n",
       "0  1000_0   112.95   2018-11-25     1000  ultra\n",
       "1  1000_1  1052.81   2018-09-07     1000  ultra\n",
       "2  1000_2  1197.26   2018-06-25     1000  ultra\n",
       "3  1000_3   550.27   2018-08-22     1000  ultra\n",
       "4  1000_4   302.56   2018-09-24     1000  ultra"
      ]
     },
     "execution_count": 61,
     "metadata": {},
     "output_type": "execute_result"
    }
   ],
   "source": [
    "df_internet.head() # вывод первых 5 строк обогащенной таблицы "
   ]
  },
  {
   "cell_type": "markdown",
   "metadata": {},
   "source": [
    "Обогащение проведено корректно. В таблицу df_internet добавлен новый столбец tariff."
   ]
  },
  {
   "cell_type": "markdown",
   "metadata": {},
   "source": [
    "**Посчитаем количество сделанных звонков и израсходованных минут разговора по месяцам для каждого пользователя.**"
   ]
  },
  {
   "cell_type": "markdown",
   "metadata": {},
   "source": [
    "Добавим в таблицу df_calls столбец month, содержащий номер месяца, для последующей группировки."
   ]
  },
  {
   "cell_type": "code",
   "execution_count": 62,
   "metadata": {},
   "outputs": [],
   "source": [
    "df_calls['month'] = df_calls['call_date'].dt.month # добавление столбца month с номером месяца"
   ]
  },
  {
   "cell_type": "markdown",
   "metadata": {},
   "source": [
    "Построим сводную таблицу по звонкам каждого пользователя по месяцам, содержащую количество звонков и сумму израсходованных минут и данные о тарифном плане пользователя."
   ]
  },
  {
   "cell_type": "code",
   "execution_count": 63,
   "metadata": {},
   "outputs": [],
   "source": [
    "# построение сводной таблицы\n",
    "calls_pivot = df_calls.pivot_table(index=['user_id','month', 'tariff'], values='duration', aggfunc=['count', 'sum'])"
   ]
  },
  {
   "cell_type": "markdown",
   "metadata": {},
   "source": [
    "Проверим результат."
   ]
  },
  {
   "cell_type": "code",
   "execution_count": 64,
   "metadata": {},
   "outputs": [
    {
     "data": {
      "text/html": [
       "<div>\n",
       "<style scoped>\n",
       "    .dataframe tbody tr th:only-of-type {\n",
       "        vertical-align: middle;\n",
       "    }\n",
       "\n",
       "    .dataframe tbody tr th {\n",
       "        vertical-align: top;\n",
       "    }\n",
       "\n",
       "    .dataframe thead tr th {\n",
       "        text-align: left;\n",
       "    }\n",
       "\n",
       "    .dataframe thead tr:last-of-type th {\n",
       "        text-align: right;\n",
       "    }\n",
       "</style>\n",
       "<table border=\"1\" class=\"dataframe\">\n",
       "  <thead>\n",
       "    <tr>\n",
       "      <th></th>\n",
       "      <th></th>\n",
       "      <th></th>\n",
       "      <th>count</th>\n",
       "      <th>sum</th>\n",
       "    </tr>\n",
       "    <tr>\n",
       "      <th></th>\n",
       "      <th></th>\n",
       "      <th></th>\n",
       "      <th>duration</th>\n",
       "      <th>duration</th>\n",
       "    </tr>\n",
       "    <tr>\n",
       "      <th>user_id</th>\n",
       "      <th>month</th>\n",
       "      <th>tariff</th>\n",
       "      <th></th>\n",
       "      <th></th>\n",
       "    </tr>\n",
       "  </thead>\n",
       "  <tbody>\n",
       "    <tr>\n",
       "      <th rowspan=\"5\" valign=\"top\">1000</th>\n",
       "      <th>5</th>\n",
       "      <th>ultra</th>\n",
       "      <td>22</td>\n",
       "      <td>159</td>\n",
       "    </tr>\n",
       "    <tr>\n",
       "      <th>6</th>\n",
       "      <th>ultra</th>\n",
       "      <td>43</td>\n",
       "      <td>172</td>\n",
       "    </tr>\n",
       "    <tr>\n",
       "      <th>7</th>\n",
       "      <th>ultra</th>\n",
       "      <td>47</td>\n",
       "      <td>340</td>\n",
       "    </tr>\n",
       "    <tr>\n",
       "      <th>8</th>\n",
       "      <th>ultra</th>\n",
       "      <td>52</td>\n",
       "      <td>408</td>\n",
       "    </tr>\n",
       "    <tr>\n",
       "      <th>9</th>\n",
       "      <th>ultra</th>\n",
       "      <td>58</td>\n",
       "      <td>466</td>\n",
       "    </tr>\n",
       "  </tbody>\n",
       "</table>\n",
       "</div>"
      ],
      "text/plain": [
       "                        count      sum\n",
       "                     duration duration\n",
       "user_id month tariff                  \n",
       "1000    5     ultra        22      159\n",
       "        6     ultra        43      172\n",
       "        7     ultra        47      340\n",
       "        8     ultra        52      408\n",
       "        9     ultra        58      466"
      ]
     },
     "execution_count": 64,
     "metadata": {},
     "output_type": "execute_result"
    }
   ],
   "source": [
    "calls_pivot.head() # вывод первых 5 строк сводной таблицы"
   ]
  },
  {
   "cell_type": "markdown",
   "metadata": {},
   "source": [
    "Переименуем столбцы count и sum для удобства дальнейшего анализа."
   ]
  },
  {
   "cell_type": "code",
   "execution_count": 65,
   "metadata": {},
   "outputs": [],
   "source": [
    "# переименование столбцов\n",
    "calls_pivot = calls_pivot.rename(columns={'count': 'calls_count','sum' :'calls_sum'})"
   ]
  },
  {
   "cell_type": "markdown",
   "metadata": {},
   "source": [
    "Проверим результат."
   ]
  },
  {
   "cell_type": "code",
   "execution_count": 66,
   "metadata": {},
   "outputs": [
    {
     "data": {
      "text/html": [
       "<div>\n",
       "<style scoped>\n",
       "    .dataframe tbody tr th:only-of-type {\n",
       "        vertical-align: middle;\n",
       "    }\n",
       "\n",
       "    .dataframe tbody tr th {\n",
       "        vertical-align: top;\n",
       "    }\n",
       "\n",
       "    .dataframe thead tr th {\n",
       "        text-align: left;\n",
       "    }\n",
       "\n",
       "    .dataframe thead tr:last-of-type th {\n",
       "        text-align: right;\n",
       "    }\n",
       "</style>\n",
       "<table border=\"1\" class=\"dataframe\">\n",
       "  <thead>\n",
       "    <tr>\n",
       "      <th></th>\n",
       "      <th></th>\n",
       "      <th></th>\n",
       "      <th>calls_count</th>\n",
       "      <th>calls_sum</th>\n",
       "    </tr>\n",
       "    <tr>\n",
       "      <th></th>\n",
       "      <th></th>\n",
       "      <th></th>\n",
       "      <th>duration</th>\n",
       "      <th>duration</th>\n",
       "    </tr>\n",
       "    <tr>\n",
       "      <th>user_id</th>\n",
       "      <th>month</th>\n",
       "      <th>tariff</th>\n",
       "      <th></th>\n",
       "      <th></th>\n",
       "    </tr>\n",
       "  </thead>\n",
       "  <tbody>\n",
       "    <tr>\n",
       "      <th rowspan=\"8\" valign=\"top\">1000</th>\n",
       "      <th>5</th>\n",
       "      <th>ultra</th>\n",
       "      <td>22</td>\n",
       "      <td>159</td>\n",
       "    </tr>\n",
       "    <tr>\n",
       "      <th>6</th>\n",
       "      <th>ultra</th>\n",
       "      <td>43</td>\n",
       "      <td>172</td>\n",
       "    </tr>\n",
       "    <tr>\n",
       "      <th>7</th>\n",
       "      <th>ultra</th>\n",
       "      <td>47</td>\n",
       "      <td>340</td>\n",
       "    </tr>\n",
       "    <tr>\n",
       "      <th>8</th>\n",
       "      <th>ultra</th>\n",
       "      <td>52</td>\n",
       "      <td>408</td>\n",
       "    </tr>\n",
       "    <tr>\n",
       "      <th>9</th>\n",
       "      <th>ultra</th>\n",
       "      <td>58</td>\n",
       "      <td>466</td>\n",
       "    </tr>\n",
       "    <tr>\n",
       "      <th>10</th>\n",
       "      <th>ultra</th>\n",
       "      <td>57</td>\n",
       "      <td>350</td>\n",
       "    </tr>\n",
       "    <tr>\n",
       "      <th>11</th>\n",
       "      <th>ultra</th>\n",
       "      <td>43</td>\n",
       "      <td>338</td>\n",
       "    </tr>\n",
       "    <tr>\n",
       "      <th>12</th>\n",
       "      <th>ultra</th>\n",
       "      <td>46</td>\n",
       "      <td>333</td>\n",
       "    </tr>\n",
       "    <tr>\n",
       "      <th rowspan=\"2\" valign=\"top\">1001</th>\n",
       "      <th>11</th>\n",
       "      <th>smart</th>\n",
       "      <td>59</td>\n",
       "      <td>430</td>\n",
       "    </tr>\n",
       "    <tr>\n",
       "      <th>12</th>\n",
       "      <th>smart</th>\n",
       "      <td>63</td>\n",
       "      <td>414</td>\n",
       "    </tr>\n",
       "    <tr>\n",
       "      <th rowspan=\"7\" valign=\"top\">1002</th>\n",
       "      <th>6</th>\n",
       "      <th>smart</th>\n",
       "      <td>15</td>\n",
       "      <td>117</td>\n",
       "    </tr>\n",
       "    <tr>\n",
       "      <th>7</th>\n",
       "      <th>smart</th>\n",
       "      <td>26</td>\n",
       "      <td>214</td>\n",
       "    </tr>\n",
       "    <tr>\n",
       "      <th>8</th>\n",
       "      <th>smart</th>\n",
       "      <td>42</td>\n",
       "      <td>289</td>\n",
       "    </tr>\n",
       "    <tr>\n",
       "      <th>9</th>\n",
       "      <th>smart</th>\n",
       "      <td>36</td>\n",
       "      <td>206</td>\n",
       "    </tr>\n",
       "    <tr>\n",
       "      <th>10</th>\n",
       "      <th>smart</th>\n",
       "      <td>33</td>\n",
       "      <td>212</td>\n",
       "    </tr>\n",
       "    <tr>\n",
       "      <th>11</th>\n",
       "      <th>smart</th>\n",
       "      <td>32</td>\n",
       "      <td>243</td>\n",
       "    </tr>\n",
       "    <tr>\n",
       "      <th>12</th>\n",
       "      <th>smart</th>\n",
       "      <td>33</td>\n",
       "      <td>236</td>\n",
       "    </tr>\n",
       "    <tr>\n",
       "      <th rowspan=\"5\" valign=\"top\">1003</th>\n",
       "      <th>8</th>\n",
       "      <th>ultra</th>\n",
       "      <td>55</td>\n",
       "      <td>380</td>\n",
       "    </tr>\n",
       "    <tr>\n",
       "      <th>9</th>\n",
       "      <th>ultra</th>\n",
       "      <td>134</td>\n",
       "      <td>961</td>\n",
       "    </tr>\n",
       "    <tr>\n",
       "      <th>10</th>\n",
       "      <th>ultra</th>\n",
       "      <td>108</td>\n",
       "      <td>855</td>\n",
       "    </tr>\n",
       "    <tr>\n",
       "      <th>11</th>\n",
       "      <th>ultra</th>\n",
       "      <td>115</td>\n",
       "      <td>824</td>\n",
       "    </tr>\n",
       "    <tr>\n",
       "      <th>12</th>\n",
       "      <th>ultra</th>\n",
       "      <td>108</td>\n",
       "      <td>802</td>\n",
       "    </tr>\n",
       "    <tr>\n",
       "      <th rowspan=\"8\" valign=\"top\">1004</th>\n",
       "      <th>5</th>\n",
       "      <th>ultra</th>\n",
       "      <td>9</td>\n",
       "      <td>35</td>\n",
       "    </tr>\n",
       "    <tr>\n",
       "      <th>6</th>\n",
       "      <th>ultra</th>\n",
       "      <td>31</td>\n",
       "      <td>171</td>\n",
       "    </tr>\n",
       "    <tr>\n",
       "      <th>7</th>\n",
       "      <th>ultra</th>\n",
       "      <td>22</td>\n",
       "      <td>135</td>\n",
       "    </tr>\n",
       "    <tr>\n",
       "      <th>8</th>\n",
       "      <th>ultra</th>\n",
       "      <td>19</td>\n",
       "      <td>137</td>\n",
       "    </tr>\n",
       "    <tr>\n",
       "      <th>9</th>\n",
       "      <th>ultra</th>\n",
       "      <td>26</td>\n",
       "      <td>117</td>\n",
       "    </tr>\n",
       "    <tr>\n",
       "      <th>10</th>\n",
       "      <th>ultra</th>\n",
       "      <td>29</td>\n",
       "      <td>145</td>\n",
       "    </tr>\n",
       "    <tr>\n",
       "      <th>11</th>\n",
       "      <th>ultra</th>\n",
       "      <td>19</td>\n",
       "      <td>117</td>\n",
       "    </tr>\n",
       "    <tr>\n",
       "      <th>12</th>\n",
       "      <th>ultra</th>\n",
       "      <td>21</td>\n",
       "      <td>130</td>\n",
       "    </tr>\n",
       "  </tbody>\n",
       "</table>\n",
       "</div>"
      ],
      "text/plain": [
       "                     calls_count calls_sum\n",
       "                        duration  duration\n",
       "user_id month tariff                      \n",
       "1000    5     ultra           22       159\n",
       "        6     ultra           43       172\n",
       "        7     ultra           47       340\n",
       "        8     ultra           52       408\n",
       "        9     ultra           58       466\n",
       "        10    ultra           57       350\n",
       "        11    ultra           43       338\n",
       "        12    ultra           46       333\n",
       "1001    11    smart           59       430\n",
       "        12    smart           63       414\n",
       "1002    6     smart           15       117\n",
       "        7     smart           26       214\n",
       "        8     smart           42       289\n",
       "        9     smart           36       206\n",
       "        10    smart           33       212\n",
       "        11    smart           32       243\n",
       "        12    smart           33       236\n",
       "1003    8     ultra           55       380\n",
       "        9     ultra          134       961\n",
       "        10    ultra          108       855\n",
       "        11    ultra          115       824\n",
       "        12    ultra          108       802\n",
       "1004    5     ultra            9        35\n",
       "        6     ultra           31       171\n",
       "        7     ultra           22       135\n",
       "        8     ultra           19       137\n",
       "        9     ultra           26       117\n",
       "        10    ultra           29       145\n",
       "        11    ultra           19       117\n",
       "        12    ultra           21       130"
      ]
     },
     "execution_count": 66,
     "metadata": {},
     "output_type": "execute_result"
    }
   ],
   "source": [
    "calls_pivot.head(30) # вывод первых 30 строк сводной таблицы"
   ]
  },
  {
   "cell_type": "markdown",
   "metadata": {},
   "source": [
    "Сводная таблица построена верно и содержит нужную информацию: количество звонков и их суммарную длительность по каждому пользователю по месяцам с указанием тарифного плана пользователя."
   ]
  },
  {
   "cell_type": "markdown",
   "metadata": {},
   "source": [
    "**Посчитаем количество отправленных сообщений по месяцам для каждого пользователя**"
   ]
  },
  {
   "cell_type": "markdown",
   "metadata": {},
   "source": [
    "Добавим в таблицу df_messages столбец month, содержащий номер месяца, для последующей группировки."
   ]
  },
  {
   "cell_type": "code",
   "execution_count": 67,
   "metadata": {},
   "outputs": [],
   "source": [
    "df_messages['month'] = df_messages['message_date'].dt.month # добавление столбца month с номером месяца"
   ]
  },
  {
   "cell_type": "markdown",
   "metadata": {},
   "source": [
    "Построим сводную таблицу по сообщениям каждого пользователя по месяцам, содержащую количествоотправленных сообщений и данные о тарифном плане пользователя."
   ]
  },
  {
   "cell_type": "code",
   "execution_count": 68,
   "metadata": {},
   "outputs": [],
   "source": [
    "# построение сводной таблицы\n",
    "messages_pivot = df_messages.pivot_table(index=['user_id','month', 'tariff'], values='id', aggfunc=['count'])"
   ]
  },
  {
   "cell_type": "markdown",
   "metadata": {},
   "source": [
    "Проверим результат."
   ]
  },
  {
   "cell_type": "code",
   "execution_count": 69,
   "metadata": {},
   "outputs": [
    {
     "data": {
      "text/html": [
       "<div>\n",
       "<style scoped>\n",
       "    .dataframe tbody tr th:only-of-type {\n",
       "        vertical-align: middle;\n",
       "    }\n",
       "\n",
       "    .dataframe tbody tr th {\n",
       "        vertical-align: top;\n",
       "    }\n",
       "\n",
       "    .dataframe thead tr th {\n",
       "        text-align: left;\n",
       "    }\n",
       "\n",
       "    .dataframe thead tr:last-of-type th {\n",
       "        text-align: right;\n",
       "    }\n",
       "</style>\n",
       "<table border=\"1\" class=\"dataframe\">\n",
       "  <thead>\n",
       "    <tr>\n",
       "      <th></th>\n",
       "      <th></th>\n",
       "      <th></th>\n",
       "      <th>count</th>\n",
       "    </tr>\n",
       "    <tr>\n",
       "      <th></th>\n",
       "      <th></th>\n",
       "      <th></th>\n",
       "      <th>id</th>\n",
       "    </tr>\n",
       "    <tr>\n",
       "      <th>user_id</th>\n",
       "      <th>month</th>\n",
       "      <th>tariff</th>\n",
       "      <th></th>\n",
       "    </tr>\n",
       "  </thead>\n",
       "  <tbody>\n",
       "    <tr>\n",
       "      <th rowspan=\"5\" valign=\"top\">1000</th>\n",
       "      <th>5</th>\n",
       "      <th>ultra</th>\n",
       "      <td>22</td>\n",
       "    </tr>\n",
       "    <tr>\n",
       "      <th>6</th>\n",
       "      <th>ultra</th>\n",
       "      <td>60</td>\n",
       "    </tr>\n",
       "    <tr>\n",
       "      <th>7</th>\n",
       "      <th>ultra</th>\n",
       "      <td>75</td>\n",
       "    </tr>\n",
       "    <tr>\n",
       "      <th>8</th>\n",
       "      <th>ultra</th>\n",
       "      <td>81</td>\n",
       "    </tr>\n",
       "    <tr>\n",
       "      <th>9</th>\n",
       "      <th>ultra</th>\n",
       "      <td>57</td>\n",
       "    </tr>\n",
       "  </tbody>\n",
       "</table>\n",
       "</div>"
      ],
      "text/plain": [
       "                     count\n",
       "                        id\n",
       "user_id month tariff      \n",
       "1000    5     ultra     22\n",
       "        6     ultra     60\n",
       "        7     ultra     75\n",
       "        8     ultra     81\n",
       "        9     ultra     57"
      ]
     },
     "execution_count": 69,
     "metadata": {},
     "output_type": "execute_result"
    }
   ],
   "source": [
    "messages_pivot.head() # вывод первых 5 строк сводной таблицы"
   ]
  },
  {
   "cell_type": "markdown",
   "metadata": {},
   "source": [
    "Переименуем столбец count для удобства дальнейшего анализа."
   ]
  },
  {
   "cell_type": "code",
   "execution_count": 70,
   "metadata": {},
   "outputs": [],
   "source": [
    "# переименование столбца\n",
    "messages_pivot = messages_pivot.rename(columns={'count': 'mess_count'})"
   ]
  },
  {
   "cell_type": "markdown",
   "metadata": {},
   "source": [
    "Проверим результат."
   ]
  },
  {
   "cell_type": "code",
   "execution_count": 71,
   "metadata": {},
   "outputs": [
    {
     "data": {
      "text/html": [
       "<div>\n",
       "<style scoped>\n",
       "    .dataframe tbody tr th:only-of-type {\n",
       "        vertical-align: middle;\n",
       "    }\n",
       "\n",
       "    .dataframe tbody tr th {\n",
       "        vertical-align: top;\n",
       "    }\n",
       "\n",
       "    .dataframe thead tr th {\n",
       "        text-align: left;\n",
       "    }\n",
       "\n",
       "    .dataframe thead tr:last-of-type th {\n",
       "        text-align: right;\n",
       "    }\n",
       "</style>\n",
       "<table border=\"1\" class=\"dataframe\">\n",
       "  <thead>\n",
       "    <tr>\n",
       "      <th></th>\n",
       "      <th></th>\n",
       "      <th></th>\n",
       "      <th>mess_count</th>\n",
       "    </tr>\n",
       "    <tr>\n",
       "      <th></th>\n",
       "      <th></th>\n",
       "      <th></th>\n",
       "      <th>id</th>\n",
       "    </tr>\n",
       "    <tr>\n",
       "      <th>user_id</th>\n",
       "      <th>month</th>\n",
       "      <th>tariff</th>\n",
       "      <th></th>\n",
       "    </tr>\n",
       "  </thead>\n",
       "  <tbody>\n",
       "    <tr>\n",
       "      <th rowspan=\"8\" valign=\"top\">1000</th>\n",
       "      <th>5</th>\n",
       "      <th>ultra</th>\n",
       "      <td>22</td>\n",
       "    </tr>\n",
       "    <tr>\n",
       "      <th>6</th>\n",
       "      <th>ultra</th>\n",
       "      <td>60</td>\n",
       "    </tr>\n",
       "    <tr>\n",
       "      <th>7</th>\n",
       "      <th>ultra</th>\n",
       "      <td>75</td>\n",
       "    </tr>\n",
       "    <tr>\n",
       "      <th>8</th>\n",
       "      <th>ultra</th>\n",
       "      <td>81</td>\n",
       "    </tr>\n",
       "    <tr>\n",
       "      <th>9</th>\n",
       "      <th>ultra</th>\n",
       "      <td>57</td>\n",
       "    </tr>\n",
       "    <tr>\n",
       "      <th>10</th>\n",
       "      <th>ultra</th>\n",
       "      <td>73</td>\n",
       "    </tr>\n",
       "    <tr>\n",
       "      <th>11</th>\n",
       "      <th>ultra</th>\n",
       "      <td>58</td>\n",
       "    </tr>\n",
       "    <tr>\n",
       "      <th>12</th>\n",
       "      <th>ultra</th>\n",
       "      <td>70</td>\n",
       "    </tr>\n",
       "    <tr>\n",
       "      <th rowspan=\"7\" valign=\"top\">1002</th>\n",
       "      <th>6</th>\n",
       "      <th>smart</th>\n",
       "      <td>4</td>\n",
       "    </tr>\n",
       "    <tr>\n",
       "      <th>7</th>\n",
       "      <th>smart</th>\n",
       "      <td>11</td>\n",
       "    </tr>\n",
       "    <tr>\n",
       "      <th>8</th>\n",
       "      <th>smart</th>\n",
       "      <td>13</td>\n",
       "    </tr>\n",
       "    <tr>\n",
       "      <th>9</th>\n",
       "      <th>smart</th>\n",
       "      <td>4</td>\n",
       "    </tr>\n",
       "    <tr>\n",
       "      <th>10</th>\n",
       "      <th>smart</th>\n",
       "      <td>10</td>\n",
       "    </tr>\n",
       "    <tr>\n",
       "      <th>11</th>\n",
       "      <th>smart</th>\n",
       "      <td>16</td>\n",
       "    </tr>\n",
       "    <tr>\n",
       "      <th>12</th>\n",
       "      <th>smart</th>\n",
       "      <td>12</td>\n",
       "    </tr>\n",
       "    <tr>\n",
       "      <th rowspan=\"5\" valign=\"top\">1003</th>\n",
       "      <th>8</th>\n",
       "      <th>ultra</th>\n",
       "      <td>37</td>\n",
       "    </tr>\n",
       "    <tr>\n",
       "      <th>9</th>\n",
       "      <th>ultra</th>\n",
       "      <td>91</td>\n",
       "    </tr>\n",
       "    <tr>\n",
       "      <th>10</th>\n",
       "      <th>ultra</th>\n",
       "      <td>83</td>\n",
       "    </tr>\n",
       "    <tr>\n",
       "      <th>11</th>\n",
       "      <th>ultra</th>\n",
       "      <td>94</td>\n",
       "    </tr>\n",
       "    <tr>\n",
       "      <th>12</th>\n",
       "      <th>ultra</th>\n",
       "      <td>75</td>\n",
       "    </tr>\n",
       "    <tr>\n",
       "      <th rowspan=\"8\" valign=\"top\">1004</th>\n",
       "      <th>5</th>\n",
       "      <th>ultra</th>\n",
       "      <td>95</td>\n",
       "    </tr>\n",
       "    <tr>\n",
       "      <th>6</th>\n",
       "      <th>ultra</th>\n",
       "      <td>134</td>\n",
       "    </tr>\n",
       "    <tr>\n",
       "      <th>7</th>\n",
       "      <th>ultra</th>\n",
       "      <td>181</td>\n",
       "    </tr>\n",
       "    <tr>\n",
       "      <th>8</th>\n",
       "      <th>ultra</th>\n",
       "      <td>151</td>\n",
       "    </tr>\n",
       "    <tr>\n",
       "      <th>9</th>\n",
       "      <th>ultra</th>\n",
       "      <td>146</td>\n",
       "    </tr>\n",
       "    <tr>\n",
       "      <th>10</th>\n",
       "      <th>ultra</th>\n",
       "      <td>165</td>\n",
       "    </tr>\n",
       "    <tr>\n",
       "      <th>11</th>\n",
       "      <th>ultra</th>\n",
       "      <td>158</td>\n",
       "    </tr>\n",
       "    <tr>\n",
       "      <th>12</th>\n",
       "      <th>ultra</th>\n",
       "      <td>162</td>\n",
       "    </tr>\n",
       "    <tr>\n",
       "      <th rowspan=\"2\" valign=\"top\">1005</th>\n",
       "      <th>1</th>\n",
       "      <th>smart</th>\n",
       "      <td>7</td>\n",
       "    </tr>\n",
       "    <tr>\n",
       "      <th>2</th>\n",
       "      <th>smart</th>\n",
       "      <td>38</td>\n",
       "    </tr>\n",
       "  </tbody>\n",
       "</table>\n",
       "</div>"
      ],
      "text/plain": [
       "                     mess_count\n",
       "                             id\n",
       "user_id month tariff           \n",
       "1000    5     ultra          22\n",
       "        6     ultra          60\n",
       "        7     ultra          75\n",
       "        8     ultra          81\n",
       "        9     ultra          57\n",
       "        10    ultra          73\n",
       "        11    ultra          58\n",
       "        12    ultra          70\n",
       "1002    6     smart           4\n",
       "        7     smart          11\n",
       "        8     smart          13\n",
       "        9     smart           4\n",
       "        10    smart          10\n",
       "        11    smart          16\n",
       "        12    smart          12\n",
       "1003    8     ultra          37\n",
       "        9     ultra          91\n",
       "        10    ultra          83\n",
       "        11    ultra          94\n",
       "        12    ultra          75\n",
       "1004    5     ultra          95\n",
       "        6     ultra         134\n",
       "        7     ultra         181\n",
       "        8     ultra         151\n",
       "        9     ultra         146\n",
       "        10    ultra         165\n",
       "        11    ultra         158\n",
       "        12    ultra         162\n",
       "1005    1     smart           7\n",
       "        2     smart          38"
      ]
     },
     "execution_count": 71,
     "metadata": {},
     "output_type": "execute_result"
    }
   ],
   "source": [
    "messages_pivot.head(30) # вывод первых 30 строк сводной таблицы"
   ]
  },
  {
   "cell_type": "markdown",
   "metadata": {},
   "source": [
    "Сводная таблица построена верно и содержит нужную информацию: количество отправленных смс по каждому пользователю по месяцам с указанием тарифного плана пользователя."
   ]
  },
  {
   "cell_type": "markdown",
   "metadata": {},
   "source": [
    "**Посчитаем объем израсходованного интернет-трафика по месяцам для каждого пользователя.**"
   ]
  },
  {
   "cell_type": "markdown",
   "metadata": {},
   "source": [
    "Добавим в таблицу df_internet столбец month, содержащий номер месяца, для последующей группировки."
   ]
  },
  {
   "cell_type": "code",
   "execution_count": 72,
   "metadata": {},
   "outputs": [],
   "source": [
    "df_internet['month'] = df_internet['session_date'].dt.month # добавление столбца month с номером месяца"
   ]
  },
  {
   "cell_type": "markdown",
   "metadata": {},
   "source": [
    "Построим сводную таблицу по интернет-трафику каждого пользователя по месяцам, содержащую объем израсходованного трафика и данные о тарифном плане пользователя."
   ]
  },
  {
   "cell_type": "code",
   "execution_count": 73,
   "metadata": {},
   "outputs": [],
   "source": [
    "# построение сводной таблицы\n",
    "internet_pivot = df_internet.pivot_table(index=['user_id','month', 'tariff'], values='mb_used', aggfunc=['sum'])"
   ]
  },
  {
   "cell_type": "markdown",
   "metadata": {},
   "source": [
    "Проверим результат."
   ]
  },
  {
   "cell_type": "code",
   "execution_count": 74,
   "metadata": {},
   "outputs": [
    {
     "data": {
      "text/html": [
       "<div>\n",
       "<style scoped>\n",
       "    .dataframe tbody tr th:only-of-type {\n",
       "        vertical-align: middle;\n",
       "    }\n",
       "\n",
       "    .dataframe tbody tr th {\n",
       "        vertical-align: top;\n",
       "    }\n",
       "\n",
       "    .dataframe thead tr th {\n",
       "        text-align: left;\n",
       "    }\n",
       "\n",
       "    .dataframe thead tr:last-of-type th {\n",
       "        text-align: right;\n",
       "    }\n",
       "</style>\n",
       "<table border=\"1\" class=\"dataframe\">\n",
       "  <thead>\n",
       "    <tr>\n",
       "      <th></th>\n",
       "      <th></th>\n",
       "      <th></th>\n",
       "      <th>sum</th>\n",
       "    </tr>\n",
       "    <tr>\n",
       "      <th></th>\n",
       "      <th></th>\n",
       "      <th></th>\n",
       "      <th>mb_used</th>\n",
       "    </tr>\n",
       "    <tr>\n",
       "      <th>user_id</th>\n",
       "      <th>month</th>\n",
       "      <th>tariff</th>\n",
       "      <th></th>\n",
       "    </tr>\n",
       "  </thead>\n",
       "  <tbody>\n",
       "    <tr>\n",
       "      <th rowspan=\"5\" valign=\"top\">1000</th>\n",
       "      <th>5</th>\n",
       "      <th>ultra</th>\n",
       "      <td>2253.49</td>\n",
       "    </tr>\n",
       "    <tr>\n",
       "      <th>6</th>\n",
       "      <th>ultra</th>\n",
       "      <td>23233.77</td>\n",
       "    </tr>\n",
       "    <tr>\n",
       "      <th>7</th>\n",
       "      <th>ultra</th>\n",
       "      <td>14003.64</td>\n",
       "    </tr>\n",
       "    <tr>\n",
       "      <th>8</th>\n",
       "      <th>ultra</th>\n",
       "      <td>14055.93</td>\n",
       "    </tr>\n",
       "    <tr>\n",
       "      <th>9</th>\n",
       "      <th>ultra</th>\n",
       "      <td>14568.91</td>\n",
       "    </tr>\n",
       "  </tbody>\n",
       "</table>\n",
       "</div>"
      ],
      "text/plain": [
       "                           sum\n",
       "                       mb_used\n",
       "user_id month tariff          \n",
       "1000    5     ultra    2253.49\n",
       "        6     ultra   23233.77\n",
       "        7     ultra   14003.64\n",
       "        8     ultra   14055.93\n",
       "        9     ultra   14568.91"
      ]
     },
     "execution_count": 74,
     "metadata": {},
     "output_type": "execute_result"
    }
   ],
   "source": [
    "internet_pivot.head() # вывод первых 5 строк сводной таблицы"
   ]
  },
  {
   "cell_type": "markdown",
   "metadata": {},
   "source": [
    "Переименуем столбец sum для удобства дальнейшего анализа."
   ]
  },
  {
   "cell_type": "code",
   "execution_count": 75,
   "metadata": {},
   "outputs": [],
   "source": [
    "# переименование столбца\n",
    "internet_pivot = internet_pivot.rename(columns={'sum': 'mb_sum'})"
   ]
  },
  {
   "cell_type": "markdown",
   "metadata": {},
   "source": [
    "Проверим результат."
   ]
  },
  {
   "cell_type": "code",
   "execution_count": 76,
   "metadata": {},
   "outputs": [
    {
     "data": {
      "text/html": [
       "<div>\n",
       "<style scoped>\n",
       "    .dataframe tbody tr th:only-of-type {\n",
       "        vertical-align: middle;\n",
       "    }\n",
       "\n",
       "    .dataframe tbody tr th {\n",
       "        vertical-align: top;\n",
       "    }\n",
       "\n",
       "    .dataframe thead tr th {\n",
       "        text-align: left;\n",
       "    }\n",
       "\n",
       "    .dataframe thead tr:last-of-type th {\n",
       "        text-align: right;\n",
       "    }\n",
       "</style>\n",
       "<table border=\"1\" class=\"dataframe\">\n",
       "  <thead>\n",
       "    <tr>\n",
       "      <th></th>\n",
       "      <th></th>\n",
       "      <th></th>\n",
       "      <th>mb_sum</th>\n",
       "    </tr>\n",
       "    <tr>\n",
       "      <th></th>\n",
       "      <th></th>\n",
       "      <th></th>\n",
       "      <th>mb_used</th>\n",
       "    </tr>\n",
       "    <tr>\n",
       "      <th>user_id</th>\n",
       "      <th>month</th>\n",
       "      <th>tariff</th>\n",
       "      <th></th>\n",
       "    </tr>\n",
       "  </thead>\n",
       "  <tbody>\n",
       "    <tr>\n",
       "      <th rowspan=\"8\" valign=\"top\">1000</th>\n",
       "      <th>5</th>\n",
       "      <th>ultra</th>\n",
       "      <td>2253.49</td>\n",
       "    </tr>\n",
       "    <tr>\n",
       "      <th>6</th>\n",
       "      <th>ultra</th>\n",
       "      <td>23233.77</td>\n",
       "    </tr>\n",
       "    <tr>\n",
       "      <th>7</th>\n",
       "      <th>ultra</th>\n",
       "      <td>14003.64</td>\n",
       "    </tr>\n",
       "    <tr>\n",
       "      <th>8</th>\n",
       "      <th>ultra</th>\n",
       "      <td>14055.93</td>\n",
       "    </tr>\n",
       "    <tr>\n",
       "      <th>9</th>\n",
       "      <th>ultra</th>\n",
       "      <td>14568.91</td>\n",
       "    </tr>\n",
       "    <tr>\n",
       "      <th>10</th>\n",
       "      <th>ultra</th>\n",
       "      <td>14702.49</td>\n",
       "    </tr>\n",
       "    <tr>\n",
       "      <th>11</th>\n",
       "      <th>ultra</th>\n",
       "      <td>14756.47</td>\n",
       "    </tr>\n",
       "    <tr>\n",
       "      <th>12</th>\n",
       "      <th>ultra</th>\n",
       "      <td>9817.61</td>\n",
       "    </tr>\n",
       "    <tr>\n",
       "      <th rowspan=\"2\" valign=\"top\">1001</th>\n",
       "      <th>11</th>\n",
       "      <th>smart</th>\n",
       "      <td>18429.34</td>\n",
       "    </tr>\n",
       "    <tr>\n",
       "      <th>12</th>\n",
       "      <th>smart</th>\n",
       "      <td>14036.66</td>\n",
       "    </tr>\n",
       "    <tr>\n",
       "      <th rowspan=\"7\" valign=\"top\">1002</th>\n",
       "      <th>6</th>\n",
       "      <th>smart</th>\n",
       "      <td>10856.82</td>\n",
       "    </tr>\n",
       "    <tr>\n",
       "      <th>7</th>\n",
       "      <th>smart</th>\n",
       "      <td>17580.10</td>\n",
       "    </tr>\n",
       "    <tr>\n",
       "      <th>8</th>\n",
       "      <th>smart</th>\n",
       "      <td>20319.26</td>\n",
       "    </tr>\n",
       "    <tr>\n",
       "      <th>9</th>\n",
       "      <th>smart</th>\n",
       "      <td>16691.08</td>\n",
       "    </tr>\n",
       "    <tr>\n",
       "      <th>10</th>\n",
       "      <th>smart</th>\n",
       "      <td>13888.25</td>\n",
       "    </tr>\n",
       "    <tr>\n",
       "      <th>11</th>\n",
       "      <th>smart</th>\n",
       "      <td>18587.28</td>\n",
       "    </tr>\n",
       "    <tr>\n",
       "      <th>12</th>\n",
       "      <th>smart</th>\n",
       "      <td>18113.73</td>\n",
       "    </tr>\n",
       "    <tr>\n",
       "      <th rowspan=\"5\" valign=\"top\">1003</th>\n",
       "      <th>8</th>\n",
       "      <th>ultra</th>\n",
       "      <td>8565.21</td>\n",
       "    </tr>\n",
       "    <tr>\n",
       "      <th>9</th>\n",
       "      <th>ultra</th>\n",
       "      <td>12468.87</td>\n",
       "    </tr>\n",
       "    <tr>\n",
       "      <th>10</th>\n",
       "      <th>ultra</th>\n",
       "      <td>14768.14</td>\n",
       "    </tr>\n",
       "    <tr>\n",
       "      <th>11</th>\n",
       "      <th>ultra</th>\n",
       "      <td>11356.89</td>\n",
       "    </tr>\n",
       "    <tr>\n",
       "      <th>12</th>\n",
       "      <th>ultra</th>\n",
       "      <td>10121.53</td>\n",
       "    </tr>\n",
       "    <tr>\n",
       "      <th rowspan=\"8\" valign=\"top\">1004</th>\n",
       "      <th>5</th>\n",
       "      <th>ultra</th>\n",
       "      <td>13403.98</td>\n",
       "    </tr>\n",
       "    <tr>\n",
       "      <th>6</th>\n",
       "      <th>ultra</th>\n",
       "      <td>17600.02</td>\n",
       "    </tr>\n",
       "    <tr>\n",
       "      <th>7</th>\n",
       "      <th>ultra</th>\n",
       "      <td>22229.58</td>\n",
       "    </tr>\n",
       "    <tr>\n",
       "      <th>8</th>\n",
       "      <th>ultra</th>\n",
       "      <td>28584.37</td>\n",
       "    </tr>\n",
       "    <tr>\n",
       "      <th>9</th>\n",
       "      <th>ultra</th>\n",
       "      <td>15109.03</td>\n",
       "    </tr>\n",
       "    <tr>\n",
       "      <th>10</th>\n",
       "      <th>ultra</th>\n",
       "      <td>18475.44</td>\n",
       "    </tr>\n",
       "    <tr>\n",
       "      <th>11</th>\n",
       "      <th>ultra</th>\n",
       "      <td>15616.02</td>\n",
       "    </tr>\n",
       "    <tr>\n",
       "      <th>12</th>\n",
       "      <th>ultra</th>\n",
       "      <td>18021.04</td>\n",
       "    </tr>\n",
       "  </tbody>\n",
       "</table>\n",
       "</div>"
      ],
      "text/plain": [
       "                        mb_sum\n",
       "                       mb_used\n",
       "user_id month tariff          \n",
       "1000    5     ultra    2253.49\n",
       "        6     ultra   23233.77\n",
       "        7     ultra   14003.64\n",
       "        8     ultra   14055.93\n",
       "        9     ultra   14568.91\n",
       "        10    ultra   14702.49\n",
       "        11    ultra   14756.47\n",
       "        12    ultra    9817.61\n",
       "1001    11    smart   18429.34\n",
       "        12    smart   14036.66\n",
       "1002    6     smart   10856.82\n",
       "        7     smart   17580.10\n",
       "        8     smart   20319.26\n",
       "        9     smart   16691.08\n",
       "        10    smart   13888.25\n",
       "        11    smart   18587.28\n",
       "        12    smart   18113.73\n",
       "1003    8     ultra    8565.21\n",
       "        9     ultra   12468.87\n",
       "        10    ultra   14768.14\n",
       "        11    ultra   11356.89\n",
       "        12    ultra   10121.53\n",
       "1004    5     ultra   13403.98\n",
       "        6     ultra   17600.02\n",
       "        7     ultra   22229.58\n",
       "        8     ultra   28584.37\n",
       "        9     ultra   15109.03\n",
       "        10    ultra   18475.44\n",
       "        11    ultra   15616.02\n",
       "        12    ultra   18021.04"
      ]
     },
     "execution_count": 76,
     "metadata": {},
     "output_type": "execute_result"
    }
   ],
   "source": [
    "internet_pivot.head(30) # вывод первых 30 строк сводной таблицы"
   ]
  },
  {
   "cell_type": "markdown",
   "metadata": {},
   "source": [
    "Сводная таблица построена верно и содержит нужную информацию: объем интернет-трафика по каждому пользователю по месяцам с указанием тарифного плана пользователя."
   ]
  },
  {
   "cell_type": "markdown",
   "metadata": {},
   "source": [
    "**Посчитаем помесячную выручку с каждого пользователя.**"
   ]
  },
  {
   "cell_type": "markdown",
   "metadata": {},
   "source": [
    "Для проведения расчета объединим построенные ранее сводные таблицы calls_pivot, messages_pivot, internet_pivot и перезаполним индекс в новой таблице."
   ]
  },
  {
   "cell_type": "code",
   "execution_count": 77,
   "metadata": {},
   "outputs": [],
   "source": [
    "# построение единой таблицы с данными из сводных таблиц calls_pivot, messages_pivot, internet_pivot с пересчетом индекса\n",
    "general_concat = pd.concat([calls_pivot, messages_pivot, internet_pivot], axis=1).reset_index()"
   ]
  },
  {
   "cell_type": "markdown",
   "metadata": {},
   "source": [
    "Проверим результат."
   ]
  },
  {
   "cell_type": "code",
   "execution_count": 78,
   "metadata": {},
   "outputs": [
    {
     "data": {
      "text/html": [
       "<div>\n",
       "<style scoped>\n",
       "    .dataframe tbody tr th:only-of-type {\n",
       "        vertical-align: middle;\n",
       "    }\n",
       "\n",
       "    .dataframe tbody tr th {\n",
       "        vertical-align: top;\n",
       "    }\n",
       "\n",
       "    .dataframe thead tr th {\n",
       "        text-align: left;\n",
       "    }\n",
       "</style>\n",
       "<table border=\"1\" class=\"dataframe\">\n",
       "  <thead>\n",
       "    <tr>\n",
       "      <th></th>\n",
       "      <th>user_id</th>\n",
       "      <th>month</th>\n",
       "      <th>tariff</th>\n",
       "      <th>calls_count</th>\n",
       "      <th>calls_sum</th>\n",
       "      <th>mess_count</th>\n",
       "      <th>mb_sum</th>\n",
       "    </tr>\n",
       "    <tr>\n",
       "      <th></th>\n",
       "      <th></th>\n",
       "      <th></th>\n",
       "      <th></th>\n",
       "      <th>duration</th>\n",
       "      <th>duration</th>\n",
       "      <th>id</th>\n",
       "      <th>mb_used</th>\n",
       "    </tr>\n",
       "  </thead>\n",
       "  <tbody>\n",
       "    <tr>\n",
       "      <th>0</th>\n",
       "      <td>1000</td>\n",
       "      <td>5</td>\n",
       "      <td>ultra</td>\n",
       "      <td>22.0</td>\n",
       "      <td>159.0</td>\n",
       "      <td>22.0</td>\n",
       "      <td>2253.49</td>\n",
       "    </tr>\n",
       "    <tr>\n",
       "      <th>1</th>\n",
       "      <td>1000</td>\n",
       "      <td>6</td>\n",
       "      <td>ultra</td>\n",
       "      <td>43.0</td>\n",
       "      <td>172.0</td>\n",
       "      <td>60.0</td>\n",
       "      <td>23233.77</td>\n",
       "    </tr>\n",
       "    <tr>\n",
       "      <th>2</th>\n",
       "      <td>1000</td>\n",
       "      <td>7</td>\n",
       "      <td>ultra</td>\n",
       "      <td>47.0</td>\n",
       "      <td>340.0</td>\n",
       "      <td>75.0</td>\n",
       "      <td>14003.64</td>\n",
       "    </tr>\n",
       "    <tr>\n",
       "      <th>3</th>\n",
       "      <td>1000</td>\n",
       "      <td>8</td>\n",
       "      <td>ultra</td>\n",
       "      <td>52.0</td>\n",
       "      <td>408.0</td>\n",
       "      <td>81.0</td>\n",
       "      <td>14055.93</td>\n",
       "    </tr>\n",
       "    <tr>\n",
       "      <th>4</th>\n",
       "      <td>1000</td>\n",
       "      <td>9</td>\n",
       "      <td>ultra</td>\n",
       "      <td>58.0</td>\n",
       "      <td>466.0</td>\n",
       "      <td>57.0</td>\n",
       "      <td>14568.91</td>\n",
       "    </tr>\n",
       "  </tbody>\n",
       "</table>\n",
       "</div>"
      ],
      "text/plain": [
       "  user_id month tariff calls_count calls_sum mess_count    mb_sum\n",
       "                          duration  duration         id   mb_used\n",
       "0    1000     5  ultra        22.0     159.0       22.0   2253.49\n",
       "1    1000     6  ultra        43.0     172.0       60.0  23233.77\n",
       "2    1000     7  ultra        47.0     340.0       75.0  14003.64\n",
       "3    1000     8  ultra        52.0     408.0       81.0  14055.93\n",
       "4    1000     9  ultra        58.0     466.0       57.0  14568.91"
      ]
     },
     "execution_count": 78,
     "metadata": {},
     "output_type": "execute_result"
    }
   ],
   "source": [
    "general_concat.head() # вывод первых 5 строк новой объединенной таблицы general_concat"
   ]
  },
  {
   "cell_type": "markdown",
   "metadata": {},
   "source": [
    "Уберем вторую строку с заголовками столбцов для обеспечения возможности далее обращаться к столбцам таблицы general_concat по основным названиям столбцов. Длч этого заменим названия столбцов во второй строке пустыми значениями."
   ]
  },
  {
   "cell_type": "code",
   "execution_count": 79,
   "metadata": {},
   "outputs": [],
   "source": [
    "# замена названий столбцов во второй строке на пустые значения\n",
    "general_concat = general_concat.rename(columns={\"duration\":\"\", \"id\":\"\", \"mb_used\":\"\"})"
   ]
  },
  {
   "cell_type": "markdown",
   "metadata": {},
   "source": [
    "Проверим результат."
   ]
  },
  {
   "cell_type": "code",
   "execution_count": 80,
   "metadata": {},
   "outputs": [
    {
     "data": {
      "text/html": [
       "<div>\n",
       "<style scoped>\n",
       "    .dataframe tbody tr th:only-of-type {\n",
       "        vertical-align: middle;\n",
       "    }\n",
       "\n",
       "    .dataframe tbody tr th {\n",
       "        vertical-align: top;\n",
       "    }\n",
       "\n",
       "    .dataframe thead tr th {\n",
       "        text-align: left;\n",
       "    }\n",
       "</style>\n",
       "<table border=\"1\" class=\"dataframe\">\n",
       "  <thead>\n",
       "    <tr>\n",
       "      <th></th>\n",
       "      <th>user_id</th>\n",
       "      <th>month</th>\n",
       "      <th>tariff</th>\n",
       "      <th>calls_count</th>\n",
       "      <th>calls_sum</th>\n",
       "      <th>mess_count</th>\n",
       "      <th>mb_sum</th>\n",
       "    </tr>\n",
       "    <tr>\n",
       "      <th></th>\n",
       "      <th></th>\n",
       "      <th></th>\n",
       "      <th></th>\n",
       "      <th></th>\n",
       "      <th></th>\n",
       "      <th></th>\n",
       "      <th></th>\n",
       "    </tr>\n",
       "  </thead>\n",
       "  <tbody>\n",
       "    <tr>\n",
       "      <th>0</th>\n",
       "      <td>1000</td>\n",
       "      <td>5</td>\n",
       "      <td>ultra</td>\n",
       "      <td>22.0</td>\n",
       "      <td>159.0</td>\n",
       "      <td>22.0</td>\n",
       "      <td>2253.49</td>\n",
       "    </tr>\n",
       "    <tr>\n",
       "      <th>1</th>\n",
       "      <td>1000</td>\n",
       "      <td>6</td>\n",
       "      <td>ultra</td>\n",
       "      <td>43.0</td>\n",
       "      <td>172.0</td>\n",
       "      <td>60.0</td>\n",
       "      <td>23233.77</td>\n",
       "    </tr>\n",
       "    <tr>\n",
       "      <th>2</th>\n",
       "      <td>1000</td>\n",
       "      <td>7</td>\n",
       "      <td>ultra</td>\n",
       "      <td>47.0</td>\n",
       "      <td>340.0</td>\n",
       "      <td>75.0</td>\n",
       "      <td>14003.64</td>\n",
       "    </tr>\n",
       "    <tr>\n",
       "      <th>3</th>\n",
       "      <td>1000</td>\n",
       "      <td>8</td>\n",
       "      <td>ultra</td>\n",
       "      <td>52.0</td>\n",
       "      <td>408.0</td>\n",
       "      <td>81.0</td>\n",
       "      <td>14055.93</td>\n",
       "    </tr>\n",
       "    <tr>\n",
       "      <th>4</th>\n",
       "      <td>1000</td>\n",
       "      <td>9</td>\n",
       "      <td>ultra</td>\n",
       "      <td>58.0</td>\n",
       "      <td>466.0</td>\n",
       "      <td>57.0</td>\n",
       "      <td>14568.91</td>\n",
       "    </tr>\n",
       "  </tbody>\n",
       "</table>\n",
       "</div>"
      ],
      "text/plain": [
       "  user_id month tariff calls_count calls_sum mess_count    mb_sum\n",
       "                                                                 \n",
       "0    1000     5  ultra        22.0     159.0       22.0   2253.49\n",
       "1    1000     6  ultra        43.0     172.0       60.0  23233.77\n",
       "2    1000     7  ultra        47.0     340.0       75.0  14003.64\n",
       "3    1000     8  ultra        52.0     408.0       81.0  14055.93\n",
       "4    1000     9  ultra        58.0     466.0       57.0  14568.91"
      ]
     },
     "execution_count": 80,
     "metadata": {},
     "output_type": "execute_result"
    }
   ],
   "source": [
    "general_concat.head() # вывод первых 5 строк таблицы general_concat"
   ]
  },
  {
   "cell_type": "markdown",
   "metadata": {},
   "source": [
    "Замена проведена успешно, значений во второй строке нет.\n",
    "\n",
    "Избавимся от самой второй строки."
   ]
  },
  {
   "cell_type": "code",
   "execution_count": 81,
   "metadata": {},
   "outputs": [],
   "source": [
    "# удаление лишней строки в заголовках столбцов\n",
    "general_concat.columns = [t[1] if t[1] else t[0] for t in general_concat.columns]"
   ]
  },
  {
   "cell_type": "markdown",
   "metadata": {},
   "source": [
    "Проверим результат."
   ]
  },
  {
   "cell_type": "code",
   "execution_count": 82,
   "metadata": {},
   "outputs": [
    {
     "data": {
      "text/html": [
       "<div>\n",
       "<style scoped>\n",
       "    .dataframe tbody tr th:only-of-type {\n",
       "        vertical-align: middle;\n",
       "    }\n",
       "\n",
       "    .dataframe tbody tr th {\n",
       "        vertical-align: top;\n",
       "    }\n",
       "\n",
       "    .dataframe thead th {\n",
       "        text-align: right;\n",
       "    }\n",
       "</style>\n",
       "<table border=\"1\" class=\"dataframe\">\n",
       "  <thead>\n",
       "    <tr style=\"text-align: right;\">\n",
       "      <th></th>\n",
       "      <th>user_id</th>\n",
       "      <th>month</th>\n",
       "      <th>tariff</th>\n",
       "      <th>calls_count</th>\n",
       "      <th>calls_sum</th>\n",
       "      <th>mess_count</th>\n",
       "      <th>mb_sum</th>\n",
       "    </tr>\n",
       "  </thead>\n",
       "  <tbody>\n",
       "    <tr>\n",
       "      <th>0</th>\n",
       "      <td>1000</td>\n",
       "      <td>5</td>\n",
       "      <td>ultra</td>\n",
       "      <td>22.0</td>\n",
       "      <td>159.0</td>\n",
       "      <td>22.0</td>\n",
       "      <td>2253.49</td>\n",
       "    </tr>\n",
       "    <tr>\n",
       "      <th>1</th>\n",
       "      <td>1000</td>\n",
       "      <td>6</td>\n",
       "      <td>ultra</td>\n",
       "      <td>43.0</td>\n",
       "      <td>172.0</td>\n",
       "      <td>60.0</td>\n",
       "      <td>23233.77</td>\n",
       "    </tr>\n",
       "    <tr>\n",
       "      <th>2</th>\n",
       "      <td>1000</td>\n",
       "      <td>7</td>\n",
       "      <td>ultra</td>\n",
       "      <td>47.0</td>\n",
       "      <td>340.0</td>\n",
       "      <td>75.0</td>\n",
       "      <td>14003.64</td>\n",
       "    </tr>\n",
       "    <tr>\n",
       "      <th>3</th>\n",
       "      <td>1000</td>\n",
       "      <td>8</td>\n",
       "      <td>ultra</td>\n",
       "      <td>52.0</td>\n",
       "      <td>408.0</td>\n",
       "      <td>81.0</td>\n",
       "      <td>14055.93</td>\n",
       "    </tr>\n",
       "    <tr>\n",
       "      <th>4</th>\n",
       "      <td>1000</td>\n",
       "      <td>9</td>\n",
       "      <td>ultra</td>\n",
       "      <td>58.0</td>\n",
       "      <td>466.0</td>\n",
       "      <td>57.0</td>\n",
       "      <td>14568.91</td>\n",
       "    </tr>\n",
       "  </tbody>\n",
       "</table>\n",
       "</div>"
      ],
      "text/plain": [
       "   user_id  month tariff  calls_count  calls_sum  mess_count    mb_sum\n",
       "0     1000      5  ultra         22.0      159.0        22.0   2253.49\n",
       "1     1000      6  ultra         43.0      172.0        60.0  23233.77\n",
       "2     1000      7  ultra         47.0      340.0        75.0  14003.64\n",
       "3     1000      8  ultra         52.0      408.0        81.0  14055.93\n",
       "4     1000      9  ultra         58.0      466.0        57.0  14568.91"
      ]
     },
     "execution_count": 82,
     "metadata": {},
     "output_type": "execute_result"
    }
   ],
   "source": [
    "general_concat.head() # вывод первых 5 строк таблицы general_concat"
   ]
  },
  {
   "cell_type": "markdown",
   "metadata": {},
   "source": [
    "Удаление строки проведено успешно, у каждого столбца теперь только одно название в одну строку."
   ]
  },
  {
   "cell_type": "markdown",
   "metadata": {},
   "source": [
    "Поскольку пользователи могли вести себя с разной активностью в отправке сообщений, совершении звонков и расходовании интернет-трафика по месяцам, проверим количество пустых значений в столбцах после проведенного объединения трех таблиц."
   ]
  },
  {
   "cell_type": "code",
   "execution_count": 83,
   "metadata": {},
   "outputs": [
    {
     "data": {
      "text/plain": [
       "user_id          0\n",
       "month            0\n",
       "tariff           0\n",
       "calls_count     40\n",
       "calls_sum       40\n",
       "mess_count     497\n",
       "mb_sum          11\n",
       "dtype: int64"
      ]
     },
     "execution_count": 83,
     "metadata": {},
     "output_type": "execute_result"
    }
   ],
   "source": [
    "general_concat.isna().sum() # подсчет количества пустых значений в новой объединенной таблице general_concat"
   ]
  },
  {
   "cell_type": "markdown",
   "metadata": {},
   "source": [
    "Пустые значения есть в колонках calls_count, calls_sum, mess_count, mb_sum. Заменим их на 0."
   ]
  },
  {
   "cell_type": "code",
   "execution_count": 84,
   "metadata": {},
   "outputs": [],
   "source": [
    "# замена пустых значений на 0\n",
    "general_concat = general_concat.fillna(0)"
   ]
  },
  {
   "cell_type": "markdown",
   "metadata": {},
   "source": [
    "Проверим результат."
   ]
  },
  {
   "cell_type": "code",
   "execution_count": 85,
   "metadata": {},
   "outputs": [
    {
     "data": {
      "text/plain": [
       "user_id        0\n",
       "month          0\n",
       "tariff         0\n",
       "calls_count    0\n",
       "calls_sum      0\n",
       "mess_count     0\n",
       "mb_sum         0\n",
       "dtype: int64"
      ]
     },
     "execution_count": 85,
     "metadata": {},
     "output_type": "execute_result"
    }
   ],
   "source": [
    "general_concat.isna().sum() # подсчет количества пустых значений в новой объединенной таблице general_concat"
   ]
  },
  {
   "cell_type": "markdown",
   "metadata": {},
   "source": [
    "Замена на 0 проведена успешно, пустых значений в таблице больше нет."
   ]
  },
  {
   "cell_type": "markdown",
   "metadata": {},
   "source": [
    "Для расчета доходов от каждого абонента с учетом его тарифного плана разделим выборку на две части - данные по абонентам тарифа Ultra и данные по абонентам тарифа Smart."
   ]
  },
  {
   "cell_type": "code",
   "execution_count": 86,
   "metadata": {},
   "outputs": [],
   "source": [
    "# формирование таблцы по абонентам тарифа Ultra\n",
    "general_concat_ultra = general_concat.query('tariff == \"ultra\"')"
   ]
  },
  {
   "cell_type": "code",
   "execution_count": 87,
   "metadata": {},
   "outputs": [],
   "source": [
    "# формирование таблцы по абонентам тарифа Smart\n",
    "general_concat_smart = general_concat.query('tariff == \"smart\"')"
   ]
  },
  {
   "cell_type": "markdown",
   "metadata": {},
   "source": [
    "Проведем расчет для абонентов тарифа **ULTRA**."
   ]
  },
  {
   "cell_type": "markdown",
   "metadata": {},
   "source": [
    "**Звонки**"
   ]
  },
  {
   "cell_type": "markdown",
   "metadata": {},
   "source": [
    "Добавим в таблицу с данными по абонентам тарифа Ultra новую колонку для подсчета доходов с голосового трафика calls_cost и посчитаем в ней результат вычитания бесплатного пакета 3000 минут из суммы потраченных минут по каждому абоненту по каждому месяцу."
   ]
  },
  {
   "cell_type": "code",
   "execution_count": 88,
   "metadata": {
    "scrolled": false
   },
   "outputs": [
    {
     "name": "stderr",
     "output_type": "stream",
     "text": [
      "/opt/conda/lib/python3.9/site-packages/pandas/core/indexing.py:1597: SettingWithCopyWarning: \n",
      "A value is trying to be set on a copy of a slice from a DataFrame.\n",
      "Try using .loc[row_indexer,col_indexer] = value instead\n",
      "\n",
      "See the caveats in the documentation: https://pandas.pydata.org/pandas-docs/stable/user_guide/indexing.html#returning-a-view-versus-a-copy\n",
      "  self.obj[key] = value\n",
      "/opt/conda/lib/python3.9/site-packages/pandas/core/indexing.py:1676: SettingWithCopyWarning: \n",
      "A value is trying to be set on a copy of a slice from a DataFrame.\n",
      "Try using .loc[row_indexer,col_indexer] = value instead\n",
      "\n",
      "See the caveats in the documentation: https://pandas.pydata.org/pandas-docs/stable/user_guide/indexing.html#returning-a-view-versus-a-copy\n",
      "  self._setitem_single_column(ilocs[0], value, pi)\n"
     ]
    }
   ],
   "source": [
    "# добавление нового столбца calls_cost и размещение в ней результата вычитания бесплатного пакета из суммы голосового трафика\n",
    "general_concat_ultra.loc[ : , 'calls_cost'] = general_concat_ultra['calls_sum'] - 3000\n",
    "pd.options.mode.chained_assignment = None"
   ]
  },
  {
   "cell_type": "markdown",
   "metadata": {},
   "source": [
    "Получившийся результат умножим на 1 руб. для расчета доходов за минуты, потраченные абонентом сверх бесплатного лимита."
   ]
  },
  {
   "cell_type": "code",
   "execution_count": 89,
   "metadata": {},
   "outputs": [],
   "source": [
    "# умножение результата на 1 руб\n",
    "general_concat_ultra.loc[ : ,'calls_cost'] = general_concat_ultra['calls_cost'] * 1"
   ]
  },
  {
   "cell_type": "markdown",
   "metadata": {},
   "source": [
    "Уберем из столбца calls_cost получившиеся отрицательные значения по абонентам, уложившимся в бесплатный лимит 3000 минут."
   ]
  },
  {
   "cell_type": "code",
   "execution_count": 90,
   "metadata": {},
   "outputs": [],
   "source": [
    "# замена отрицательных значений в колонке calls_cost на 0\n",
    "general_concat_ultra.loc[general_concat_ultra['calls_cost'] < 0, 'calls_cost'] = 0\n",
    "pd.options.mode.chained_assignment = None"
   ]
  },
  {
   "cell_type": "markdown",
   "metadata": {},
   "source": [
    "Для учета в сумме дохода с каждого абонента в каждый месяц суммы абонентской платы за пользование тарифом добавим в таблицу колонку subscr_fee с суммой абон платы 1950 руб."
   ]
  },
  {
   "cell_type": "code",
   "execution_count": 91,
   "metadata": {},
   "outputs": [],
   "source": [
    "# добавление в таблицу колонки с суммой абонентской платы\n",
    "general_concat_ultra.loc[ : ,'subscr_fee'] = 1950\n",
    "pd.options.mode.chained_assignment = None"
   ]
  },
  {
   "cell_type": "markdown",
   "metadata": {},
   "source": [
    "Оценим результат."
   ]
  },
  {
   "cell_type": "code",
   "execution_count": 92,
   "metadata": {
    "scrolled": true
   },
   "outputs": [
    {
     "data": {
      "text/html": [
       "<div>\n",
       "<style scoped>\n",
       "    .dataframe tbody tr th:only-of-type {\n",
       "        vertical-align: middle;\n",
       "    }\n",
       "\n",
       "    .dataframe tbody tr th {\n",
       "        vertical-align: top;\n",
       "    }\n",
       "\n",
       "    .dataframe thead th {\n",
       "        text-align: right;\n",
       "    }\n",
       "</style>\n",
       "<table border=\"1\" class=\"dataframe\">\n",
       "  <thead>\n",
       "    <tr style=\"text-align: right;\">\n",
       "      <th></th>\n",
       "      <th>user_id</th>\n",
       "      <th>month</th>\n",
       "      <th>tariff</th>\n",
       "      <th>calls_count</th>\n",
       "      <th>calls_sum</th>\n",
       "      <th>mess_count</th>\n",
       "      <th>mb_sum</th>\n",
       "      <th>calls_cost</th>\n",
       "      <th>subscr_fee</th>\n",
       "    </tr>\n",
       "  </thead>\n",
       "  <tbody>\n",
       "    <tr>\n",
       "      <th>0</th>\n",
       "      <td>1000</td>\n",
       "      <td>5</td>\n",
       "      <td>ultra</td>\n",
       "      <td>22.0</td>\n",
       "      <td>159.0</td>\n",
       "      <td>22.0</td>\n",
       "      <td>2253.49</td>\n",
       "      <td>0.0</td>\n",
       "      <td>1950</td>\n",
       "    </tr>\n",
       "    <tr>\n",
       "      <th>1</th>\n",
       "      <td>1000</td>\n",
       "      <td>6</td>\n",
       "      <td>ultra</td>\n",
       "      <td>43.0</td>\n",
       "      <td>172.0</td>\n",
       "      <td>60.0</td>\n",
       "      <td>23233.77</td>\n",
       "      <td>0.0</td>\n",
       "      <td>1950</td>\n",
       "    </tr>\n",
       "    <tr>\n",
       "      <th>2</th>\n",
       "      <td>1000</td>\n",
       "      <td>7</td>\n",
       "      <td>ultra</td>\n",
       "      <td>47.0</td>\n",
       "      <td>340.0</td>\n",
       "      <td>75.0</td>\n",
       "      <td>14003.64</td>\n",
       "      <td>0.0</td>\n",
       "      <td>1950</td>\n",
       "    </tr>\n",
       "    <tr>\n",
       "      <th>3</th>\n",
       "      <td>1000</td>\n",
       "      <td>8</td>\n",
       "      <td>ultra</td>\n",
       "      <td>52.0</td>\n",
       "      <td>408.0</td>\n",
       "      <td>81.0</td>\n",
       "      <td>14055.93</td>\n",
       "      <td>0.0</td>\n",
       "      <td>1950</td>\n",
       "    </tr>\n",
       "    <tr>\n",
       "      <th>4</th>\n",
       "      <td>1000</td>\n",
       "      <td>9</td>\n",
       "      <td>ultra</td>\n",
       "      <td>58.0</td>\n",
       "      <td>466.0</td>\n",
       "      <td>57.0</td>\n",
       "      <td>14568.91</td>\n",
       "      <td>0.0</td>\n",
       "      <td>1950</td>\n",
       "    </tr>\n",
       "  </tbody>\n",
       "</table>\n",
       "</div>"
      ],
      "text/plain": [
       "   user_id  month tariff  calls_count  calls_sum  mess_count    mb_sum  \\\n",
       "0     1000      5  ultra         22.0      159.0        22.0   2253.49   \n",
       "1     1000      6  ultra         43.0      172.0        60.0  23233.77   \n",
       "2     1000      7  ultra         47.0      340.0        75.0  14003.64   \n",
       "3     1000      8  ultra         52.0      408.0        81.0  14055.93   \n",
       "4     1000      9  ultra         58.0      466.0        57.0  14568.91   \n",
       "\n",
       "   calls_cost  subscr_fee  \n",
       "0         0.0        1950  \n",
       "1         0.0        1950  \n",
       "2         0.0        1950  \n",
       "3         0.0        1950  \n",
       "4         0.0        1950  "
      ]
     },
     "execution_count": 92,
     "metadata": {},
     "output_type": "execute_result"
    }
   ],
   "source": [
    "general_concat_ultra.head() # вывод первых 5 строк таблицы по абонентам тарифа Ultra"
   ]
  },
  {
   "cell_type": "markdown",
   "metadata": {},
   "source": [
    "Колонка добавлена корректно, в ней рассчитана сумма доходов за голосовой трафик по каждому абоненту за каждый месяц."
   ]
  },
  {
   "cell_type": "markdown",
   "metadata": {},
   "source": [
    "**Сообщения**"
   ]
  },
  {
   "cell_type": "markdown",
   "metadata": {},
   "source": [
    "Добавим в таблицу с данными по абонентам тарифа Ultra новую колонку для подсчета доходов от отправки сообщений mess_cost и посчитаем в ней результат вычитания бесплатного пакета 1000 сообщений из количества отправленных СМС из по каждому абоненту по каждому месяцу."
   ]
  },
  {
   "cell_type": "code",
   "execution_count": 93,
   "metadata": {},
   "outputs": [],
   "source": [
    "# добавление нового столбца mess_cost и размещение в ней результата вычитания бесплатного пакета из количества отправленных сообщений\n",
    "general_concat_ultra.loc[ : ,'mess_cost'] = general_concat_ultra['mess_count'] - 1000\n",
    "pd.options.mode.chained_assignment = None"
   ]
  },
  {
   "cell_type": "markdown",
   "metadata": {},
   "source": [
    "Получившийся результат умножим на 1 руб. для расчета доходов за сообщения, отправленные абонентом сверх бесплатного лимита."
   ]
  },
  {
   "cell_type": "code",
   "execution_count": 94,
   "metadata": {},
   "outputs": [],
   "source": [
    "# умножение результата на 1 руб\n",
    "general_concat_ultra.loc[ : ,'mess_cost'] = general_concat_ultra['mess_cost'] * 1"
   ]
  },
  {
   "cell_type": "markdown",
   "metadata": {},
   "source": [
    "Уберем из столбца mess_cost получившиеся отрицательные значения по абонентам, уложившимся в бесплатный лимит 1000 сообщений."
   ]
  },
  {
   "cell_type": "code",
   "execution_count": 95,
   "metadata": {
    "scrolled": true
   },
   "outputs": [],
   "source": [
    "# замена отрицательных значений в колонке mess_cost на 0\n",
    "general_concat_ultra.loc[general_concat_ultra['mess_cost'] < 0, 'mess_cost'] = 0\n",
    "pd.options.mode.chained_assignment = None"
   ]
  },
  {
   "cell_type": "markdown",
   "metadata": {},
   "source": [
    "Оценим результат."
   ]
  },
  {
   "cell_type": "code",
   "execution_count": 96,
   "metadata": {
    "scrolled": false
   },
   "outputs": [
    {
     "data": {
      "text/html": [
       "<div>\n",
       "<style scoped>\n",
       "    .dataframe tbody tr th:only-of-type {\n",
       "        vertical-align: middle;\n",
       "    }\n",
       "\n",
       "    .dataframe tbody tr th {\n",
       "        vertical-align: top;\n",
       "    }\n",
       "\n",
       "    .dataframe thead th {\n",
       "        text-align: right;\n",
       "    }\n",
       "</style>\n",
       "<table border=\"1\" class=\"dataframe\">\n",
       "  <thead>\n",
       "    <tr style=\"text-align: right;\">\n",
       "      <th></th>\n",
       "      <th>user_id</th>\n",
       "      <th>month</th>\n",
       "      <th>tariff</th>\n",
       "      <th>calls_count</th>\n",
       "      <th>calls_sum</th>\n",
       "      <th>mess_count</th>\n",
       "      <th>mb_sum</th>\n",
       "      <th>calls_cost</th>\n",
       "      <th>subscr_fee</th>\n",
       "      <th>mess_cost</th>\n",
       "    </tr>\n",
       "  </thead>\n",
       "  <tbody>\n",
       "    <tr>\n",
       "      <th>0</th>\n",
       "      <td>1000</td>\n",
       "      <td>5</td>\n",
       "      <td>ultra</td>\n",
       "      <td>22.0</td>\n",
       "      <td>159.0</td>\n",
       "      <td>22.0</td>\n",
       "      <td>2253.49</td>\n",
       "      <td>0.0</td>\n",
       "      <td>1950</td>\n",
       "      <td>0.0</td>\n",
       "    </tr>\n",
       "    <tr>\n",
       "      <th>1</th>\n",
       "      <td>1000</td>\n",
       "      <td>6</td>\n",
       "      <td>ultra</td>\n",
       "      <td>43.0</td>\n",
       "      <td>172.0</td>\n",
       "      <td>60.0</td>\n",
       "      <td>23233.77</td>\n",
       "      <td>0.0</td>\n",
       "      <td>1950</td>\n",
       "      <td>0.0</td>\n",
       "    </tr>\n",
       "    <tr>\n",
       "      <th>2</th>\n",
       "      <td>1000</td>\n",
       "      <td>7</td>\n",
       "      <td>ultra</td>\n",
       "      <td>47.0</td>\n",
       "      <td>340.0</td>\n",
       "      <td>75.0</td>\n",
       "      <td>14003.64</td>\n",
       "      <td>0.0</td>\n",
       "      <td>1950</td>\n",
       "      <td>0.0</td>\n",
       "    </tr>\n",
       "    <tr>\n",
       "      <th>3</th>\n",
       "      <td>1000</td>\n",
       "      <td>8</td>\n",
       "      <td>ultra</td>\n",
       "      <td>52.0</td>\n",
       "      <td>408.0</td>\n",
       "      <td>81.0</td>\n",
       "      <td>14055.93</td>\n",
       "      <td>0.0</td>\n",
       "      <td>1950</td>\n",
       "      <td>0.0</td>\n",
       "    </tr>\n",
       "    <tr>\n",
       "      <th>4</th>\n",
       "      <td>1000</td>\n",
       "      <td>9</td>\n",
       "      <td>ultra</td>\n",
       "      <td>58.0</td>\n",
       "      <td>466.0</td>\n",
       "      <td>57.0</td>\n",
       "      <td>14568.91</td>\n",
       "      <td>0.0</td>\n",
       "      <td>1950</td>\n",
       "      <td>0.0</td>\n",
       "    </tr>\n",
       "  </tbody>\n",
       "</table>\n",
       "</div>"
      ],
      "text/plain": [
       "   user_id  month tariff  calls_count  calls_sum  mess_count    mb_sum  \\\n",
       "0     1000      5  ultra         22.0      159.0        22.0   2253.49   \n",
       "1     1000      6  ultra         43.0      172.0        60.0  23233.77   \n",
       "2     1000      7  ultra         47.0      340.0        75.0  14003.64   \n",
       "3     1000      8  ultra         52.0      408.0        81.0  14055.93   \n",
       "4     1000      9  ultra         58.0      466.0        57.0  14568.91   \n",
       "\n",
       "   calls_cost  subscr_fee  mess_cost  \n",
       "0         0.0        1950        0.0  \n",
       "1         0.0        1950        0.0  \n",
       "2         0.0        1950        0.0  \n",
       "3         0.0        1950        0.0  \n",
       "4         0.0        1950        0.0  "
      ]
     },
     "execution_count": 96,
     "metadata": {},
     "output_type": "execute_result"
    }
   ],
   "source": [
    "general_concat_ultra.head() # вывод первых 5 строк таблицы по абонентам тарифа Ultra"
   ]
  },
  {
   "cell_type": "markdown",
   "metadata": {},
   "source": [
    "Колонка добавлена корректно, в ней рассчитана сумма доходов за отправленные сообщения по каждому абоненту за каждый месяц."
   ]
  },
  {
   "cell_type": "markdown",
   "metadata": {},
   "source": [
    "**Интернет**"
   ]
  },
  {
   "cell_type": "markdown",
   "metadata": {},
   "source": [
    "Добавим в таблицу с данными по абонентам тарифа Ultra новую колонку для подсчета доходов от расходования интернет-трафика int_cost и посчитаем в ней результат вычитания бесплатного пакета 30 Мб из суммарного расхода интернет-трафика по каждому абоненту по каждому месяцу."
   ]
  },
  {
   "cell_type": "code",
   "execution_count": 97,
   "metadata": {},
   "outputs": [],
   "source": [
    "# добавление нового столбца int_cost и размещение в ней результата вычитания бесплатного пакета из общего расхода интернет-трафика\n",
    "general_concat_ultra.loc[ : ,'int_cost'] = general_concat_ultra['mb_sum'] / 1024 - 30\n",
    "pd.options.mode.chained_assignment = None"
   ]
  },
  {
   "cell_type": "markdown",
   "metadata": {},
   "source": [
    "Уберем из столбца int_cost получившиеся отрицательные значения по абонентам, уложившимся в бесплатный лимит 30 Мб."
   ]
  },
  {
   "cell_type": "code",
   "execution_count": 98,
   "metadata": {
    "scrolled": true
   },
   "outputs": [],
   "source": [
    "# замена отрицательных значений в колонке int_cost на 0\n",
    "general_concat_ultra.loc[general_concat_ultra['int_cost'] < 0, 'int_cost'] = 0\n",
    "pd.options.mode.chained_assignment = None"
   ]
  },
  {
   "cell_type": "markdown",
   "metadata": {},
   "source": [
    "Округлим результаты вычисления в бОльшую сторону для расчета дохода в соответствии с условиями тарифного плана."
   ]
  },
  {
   "cell_type": "code",
   "execution_count": 99,
   "metadata": {
    "scrolled": true
   },
   "outputs": [],
   "source": [
    "# округление результата в бОльшую сторону в соответствии с условиями тарифного плана\n",
    "general_concat_ultra['int_cost'] = np.ceil(general_concat_ultra['int_cost'])\n",
    "pd.options.mode.chained_assignment = None"
   ]
  },
  {
   "cell_type": "markdown",
   "metadata": {},
   "source": [
    "Получившийся результат умножим на 150 руб. для расчета доходов за трафик, израсходованный абонентом сверх бесплатного лимита."
   ]
  },
  {
   "cell_type": "code",
   "execution_count": 100,
   "metadata": {
    "scrolled": true
   },
   "outputs": [],
   "source": [
    "# умножение результата на 150 руб\n",
    "general_concat_ultra.loc[general_concat_ultra['int_cost'] > 0, 'int_cost'] = general_concat_ultra['int_cost'] * 150\n",
    "pd.options.mode.chained_assignment = None"
   ]
  },
  {
   "cell_type": "markdown",
   "metadata": {},
   "source": [
    "Оценим результат."
   ]
  },
  {
   "cell_type": "code",
   "execution_count": 101,
   "metadata": {
    "scrolled": false
   },
   "outputs": [
    {
     "data": {
      "text/html": [
       "<div>\n",
       "<style scoped>\n",
       "    .dataframe tbody tr th:only-of-type {\n",
       "        vertical-align: middle;\n",
       "    }\n",
       "\n",
       "    .dataframe tbody tr th {\n",
       "        vertical-align: top;\n",
       "    }\n",
       "\n",
       "    .dataframe thead th {\n",
       "        text-align: right;\n",
       "    }\n",
       "</style>\n",
       "<table border=\"1\" class=\"dataframe\">\n",
       "  <thead>\n",
       "    <tr style=\"text-align: right;\">\n",
       "      <th></th>\n",
       "      <th>user_id</th>\n",
       "      <th>month</th>\n",
       "      <th>tariff</th>\n",
       "      <th>calls_count</th>\n",
       "      <th>calls_sum</th>\n",
       "      <th>mess_count</th>\n",
       "      <th>mb_sum</th>\n",
       "      <th>calls_cost</th>\n",
       "      <th>subscr_fee</th>\n",
       "      <th>mess_cost</th>\n",
       "      <th>int_cost</th>\n",
       "    </tr>\n",
       "  </thead>\n",
       "  <tbody>\n",
       "    <tr>\n",
       "      <th>0</th>\n",
       "      <td>1000</td>\n",
       "      <td>5</td>\n",
       "      <td>ultra</td>\n",
       "      <td>22.0</td>\n",
       "      <td>159.0</td>\n",
       "      <td>22.0</td>\n",
       "      <td>2253.49</td>\n",
       "      <td>0.0</td>\n",
       "      <td>1950</td>\n",
       "      <td>0.0</td>\n",
       "      <td>0.0</td>\n",
       "    </tr>\n",
       "    <tr>\n",
       "      <th>1</th>\n",
       "      <td>1000</td>\n",
       "      <td>6</td>\n",
       "      <td>ultra</td>\n",
       "      <td>43.0</td>\n",
       "      <td>172.0</td>\n",
       "      <td>60.0</td>\n",
       "      <td>23233.77</td>\n",
       "      <td>0.0</td>\n",
       "      <td>1950</td>\n",
       "      <td>0.0</td>\n",
       "      <td>0.0</td>\n",
       "    </tr>\n",
       "    <tr>\n",
       "      <th>2</th>\n",
       "      <td>1000</td>\n",
       "      <td>7</td>\n",
       "      <td>ultra</td>\n",
       "      <td>47.0</td>\n",
       "      <td>340.0</td>\n",
       "      <td>75.0</td>\n",
       "      <td>14003.64</td>\n",
       "      <td>0.0</td>\n",
       "      <td>1950</td>\n",
       "      <td>0.0</td>\n",
       "      <td>0.0</td>\n",
       "    </tr>\n",
       "    <tr>\n",
       "      <th>3</th>\n",
       "      <td>1000</td>\n",
       "      <td>8</td>\n",
       "      <td>ultra</td>\n",
       "      <td>52.0</td>\n",
       "      <td>408.0</td>\n",
       "      <td>81.0</td>\n",
       "      <td>14055.93</td>\n",
       "      <td>0.0</td>\n",
       "      <td>1950</td>\n",
       "      <td>0.0</td>\n",
       "      <td>0.0</td>\n",
       "    </tr>\n",
       "    <tr>\n",
       "      <th>4</th>\n",
       "      <td>1000</td>\n",
       "      <td>9</td>\n",
       "      <td>ultra</td>\n",
       "      <td>58.0</td>\n",
       "      <td>466.0</td>\n",
       "      <td>57.0</td>\n",
       "      <td>14568.91</td>\n",
       "      <td>0.0</td>\n",
       "      <td>1950</td>\n",
       "      <td>0.0</td>\n",
       "      <td>0.0</td>\n",
       "    </tr>\n",
       "  </tbody>\n",
       "</table>\n",
       "</div>"
      ],
      "text/plain": [
       "   user_id  month tariff  calls_count  calls_sum  mess_count    mb_sum  \\\n",
       "0     1000      5  ultra         22.0      159.0        22.0   2253.49   \n",
       "1     1000      6  ultra         43.0      172.0        60.0  23233.77   \n",
       "2     1000      7  ultra         47.0      340.0        75.0  14003.64   \n",
       "3     1000      8  ultra         52.0      408.0        81.0  14055.93   \n",
       "4     1000      9  ultra         58.0      466.0        57.0  14568.91   \n",
       "\n",
       "   calls_cost  subscr_fee  mess_cost  int_cost  \n",
       "0         0.0        1950        0.0       0.0  \n",
       "1         0.0        1950        0.0       0.0  \n",
       "2         0.0        1950        0.0       0.0  \n",
       "3         0.0        1950        0.0       0.0  \n",
       "4         0.0        1950        0.0       0.0  "
      ]
     },
     "execution_count": 101,
     "metadata": {},
     "output_type": "execute_result"
    }
   ],
   "source": [
    "general_concat_ultra.head() # вывод первых 5 строк таблицы по абонентам тарифа Ultra"
   ]
  },
  {
   "cell_type": "markdown",
   "metadata": {},
   "source": [
    "Колонка добавлена корректно, в ней рассчитана сумма доходов за расходование интернет трафика по каждому абоненту за каждый месяц."
   ]
  },
  {
   "cell_type": "markdown",
   "metadata": {},
   "source": [
    "**Посчитаем общий доход за звонки, сообщения и интернет-трафик по каждому абоненту**"
   ]
  },
  {
   "cell_type": "markdown",
   "metadata": {},
   "source": [
    "Просуммируем результаты всех трех добавленных колонок."
   ]
  },
  {
   "cell_type": "code",
   "execution_count": 102,
   "metadata": {
    "scrolled": false
   },
   "outputs": [],
   "source": [
    "# расчет суммы всех доходов по всем трем видам трафика\n",
    "general_concat_ultra.loc[ : ,'total_cost'] = general_concat_ultra['calls_cost'] + general_concat_ultra['mess_cost'] + general_concat_ultra['int_cost'] + general_concat_ultra['subscr_fee']\n",
    "pd.options.mode.chained_assignment = None"
   ]
  },
  {
   "cell_type": "markdown",
   "metadata": {},
   "source": [
    "Оценим получившийся результат."
   ]
  },
  {
   "cell_type": "code",
   "execution_count": 103,
   "metadata": {
    "scrolled": true
   },
   "outputs": [
    {
     "data": {
      "text/html": [
       "<div>\n",
       "<style scoped>\n",
       "    .dataframe tbody tr th:only-of-type {\n",
       "        vertical-align: middle;\n",
       "    }\n",
       "\n",
       "    .dataframe tbody tr th {\n",
       "        vertical-align: top;\n",
       "    }\n",
       "\n",
       "    .dataframe thead th {\n",
       "        text-align: right;\n",
       "    }\n",
       "</style>\n",
       "<table border=\"1\" class=\"dataframe\">\n",
       "  <thead>\n",
       "    <tr style=\"text-align: right;\">\n",
       "      <th></th>\n",
       "      <th>user_id</th>\n",
       "      <th>month</th>\n",
       "      <th>tariff</th>\n",
       "      <th>calls_count</th>\n",
       "      <th>calls_sum</th>\n",
       "      <th>mess_count</th>\n",
       "      <th>mb_sum</th>\n",
       "      <th>calls_cost</th>\n",
       "      <th>subscr_fee</th>\n",
       "      <th>mess_cost</th>\n",
       "      <th>int_cost</th>\n",
       "      <th>total_cost</th>\n",
       "    </tr>\n",
       "  </thead>\n",
       "  <tbody>\n",
       "    <tr>\n",
       "      <th>0</th>\n",
       "      <td>1000</td>\n",
       "      <td>5</td>\n",
       "      <td>ultra</td>\n",
       "      <td>22.0</td>\n",
       "      <td>159.0</td>\n",
       "      <td>22.0</td>\n",
       "      <td>2253.49</td>\n",
       "      <td>0.0</td>\n",
       "      <td>1950</td>\n",
       "      <td>0.0</td>\n",
       "      <td>0.0</td>\n",
       "      <td>1950.0</td>\n",
       "    </tr>\n",
       "    <tr>\n",
       "      <th>1</th>\n",
       "      <td>1000</td>\n",
       "      <td>6</td>\n",
       "      <td>ultra</td>\n",
       "      <td>43.0</td>\n",
       "      <td>172.0</td>\n",
       "      <td>60.0</td>\n",
       "      <td>23233.77</td>\n",
       "      <td>0.0</td>\n",
       "      <td>1950</td>\n",
       "      <td>0.0</td>\n",
       "      <td>0.0</td>\n",
       "      <td>1950.0</td>\n",
       "    </tr>\n",
       "    <tr>\n",
       "      <th>2</th>\n",
       "      <td>1000</td>\n",
       "      <td>7</td>\n",
       "      <td>ultra</td>\n",
       "      <td>47.0</td>\n",
       "      <td>340.0</td>\n",
       "      <td>75.0</td>\n",
       "      <td>14003.64</td>\n",
       "      <td>0.0</td>\n",
       "      <td>1950</td>\n",
       "      <td>0.0</td>\n",
       "      <td>0.0</td>\n",
       "      <td>1950.0</td>\n",
       "    </tr>\n",
       "    <tr>\n",
       "      <th>3</th>\n",
       "      <td>1000</td>\n",
       "      <td>8</td>\n",
       "      <td>ultra</td>\n",
       "      <td>52.0</td>\n",
       "      <td>408.0</td>\n",
       "      <td>81.0</td>\n",
       "      <td>14055.93</td>\n",
       "      <td>0.0</td>\n",
       "      <td>1950</td>\n",
       "      <td>0.0</td>\n",
       "      <td>0.0</td>\n",
       "      <td>1950.0</td>\n",
       "    </tr>\n",
       "    <tr>\n",
       "      <th>4</th>\n",
       "      <td>1000</td>\n",
       "      <td>9</td>\n",
       "      <td>ultra</td>\n",
       "      <td>58.0</td>\n",
       "      <td>466.0</td>\n",
       "      <td>57.0</td>\n",
       "      <td>14568.91</td>\n",
       "      <td>0.0</td>\n",
       "      <td>1950</td>\n",
       "      <td>0.0</td>\n",
       "      <td>0.0</td>\n",
       "      <td>1950.0</td>\n",
       "    </tr>\n",
       "  </tbody>\n",
       "</table>\n",
       "</div>"
      ],
      "text/plain": [
       "   user_id  month tariff  calls_count  calls_sum  mess_count    mb_sum  \\\n",
       "0     1000      5  ultra         22.0      159.0        22.0   2253.49   \n",
       "1     1000      6  ultra         43.0      172.0        60.0  23233.77   \n",
       "2     1000      7  ultra         47.0      340.0        75.0  14003.64   \n",
       "3     1000      8  ultra         52.0      408.0        81.0  14055.93   \n",
       "4     1000      9  ultra         58.0      466.0        57.0  14568.91   \n",
       "\n",
       "   calls_cost  subscr_fee  mess_cost  int_cost  total_cost  \n",
       "0         0.0        1950        0.0       0.0      1950.0  \n",
       "1         0.0        1950        0.0       0.0      1950.0  \n",
       "2         0.0        1950        0.0       0.0      1950.0  \n",
       "3         0.0        1950        0.0       0.0      1950.0  \n",
       "4         0.0        1950        0.0       0.0      1950.0  "
      ]
     },
     "execution_count": 103,
     "metadata": {},
     "output_type": "execute_result"
    }
   ],
   "source": [
    "general_concat_ultra.head() # вывод первых 5 строк таблицы по абонентам тарифа Ultra"
   ]
  },
  {
   "cell_type": "markdown",
   "metadata": {},
   "source": [
    "Колонка с суммарным доходом total_cost добавлена корректно, в ней рассчитана сумма доходов за все три вид трафика по каждому абоненту за каждый месяц.\n",
    "\n",
    "Выведем итоговые суммарные значения по абонентам Ultra."
   ]
  },
  {
   "cell_type": "code",
   "execution_count": 104,
   "metadata": {},
   "outputs": [
    {
     "name": "stdout",
     "output_type": "stream",
     "text": [
      "Выручка_звонки:  0.0 Выручка_сообщения:  0.0 Выручка_интернет:  118350.0 Выручка_абонплата:  1920750 Выручка_всего:  2039100.0\n"
     ]
    }
   ],
   "source": [
    "# вывод сумм по столбцам calls_cost, mess_cost, int_cost, total_cost\n",
    "print(\n",
    "    'Выручка_звонки: ', general_concat_ultra['calls_cost'].sum(),\n",
    "    'Выручка_сообщения: ', general_concat_ultra['mess_cost'].sum(), \n",
    "    'Выручка_интернет: ', general_concat_ultra['int_cost'].sum(),\n",
    "    'Выручка_абонплата: ', general_concat_ultra['subscr_fee'].sum(),\n",
    "    'Выручка_всего: ', general_concat_ultra['total_cost'].sum()\n",
    ")"
   ]
  },
  {
   "cell_type": "markdown",
   "metadata": {},
   "source": [
    "Проведем расчет для абонентов тарифа **SMART**."
   ]
  },
  {
   "cell_type": "markdown",
   "metadata": {},
   "source": [
    "**Звонки**"
   ]
  },
  {
   "cell_type": "markdown",
   "metadata": {},
   "source": [
    "Добавим в таблицу с данными по абонентам тарифа Smart новую колонку для подсчета доходов с голосового трафика calls_cost и посчитаем в ней результат вычитания бесплатного пакета 500 минут из суммы потраченных минут по каждому абоненту по каждому месяцу."
   ]
  },
  {
   "cell_type": "code",
   "execution_count": 105,
   "metadata": {
    "scrolled": true
   },
   "outputs": [],
   "source": [
    "# добавление нового столбца calls_cost и размещение в ней результата вычитания бесплатного пакета из суммы голосового трафика\n",
    "general_concat_smart.loc[ : , 'calls_cost'] = general_concat_smart['calls_sum'] - 500\n",
    "pd.options.mode.chained_assignment = None"
   ]
  },
  {
   "cell_type": "markdown",
   "metadata": {},
   "source": [
    "Получившийся результат умножим на 3 руб. для расчета доходов за минуты, потраченные абонентом сверх бесплатного лимита."
   ]
  },
  {
   "cell_type": "code",
   "execution_count": 106,
   "metadata": {},
   "outputs": [],
   "source": [
    "# умножение результата на 3 руб\n",
    "general_concat_smart.loc[ : ,'calls_cost'] = general_concat_smart['calls_cost'] * 3"
   ]
  },
  {
   "cell_type": "markdown",
   "metadata": {},
   "source": [
    "Уберем из столбца calls_cost получившиеся отрицательные значения по абонентам, уложившимся в бесплатный лимит 500 минут."
   ]
  },
  {
   "cell_type": "code",
   "execution_count": 107,
   "metadata": {},
   "outputs": [],
   "source": [
    "# замена отрицательных значений в колонке calls_cost на 0\n",
    "general_concat_smart.loc[general_concat_smart['calls_cost'] < 0, 'calls_cost'] = 0\n",
    "pd.options.mode.chained_assignment = None"
   ]
  },
  {
   "cell_type": "markdown",
   "metadata": {},
   "source": [
    "Для учета в сумме дохода с каждого абонента в каждый месяц суммы абонентской платы за пользование тарифом добавим в таблицу колонку subscr_fee с суммой абон платы 550 руб."
   ]
  },
  {
   "cell_type": "code",
   "execution_count": 108,
   "metadata": {
    "scrolled": true
   },
   "outputs": [],
   "source": [
    "# добавление колонки с суммой абонентской платы\n",
    "general_concat_smart.loc[ : ,'subscr_fee'] = 550\n",
    "pd.options.mode.chained_assignment = None"
   ]
  },
  {
   "cell_type": "markdown",
   "metadata": {},
   "source": [
    "Оценим результат."
   ]
  },
  {
   "cell_type": "code",
   "execution_count": 109,
   "metadata": {
    "scrolled": true
   },
   "outputs": [
    {
     "data": {
      "text/html": [
       "<div>\n",
       "<style scoped>\n",
       "    .dataframe tbody tr th:only-of-type {\n",
       "        vertical-align: middle;\n",
       "    }\n",
       "\n",
       "    .dataframe tbody tr th {\n",
       "        vertical-align: top;\n",
       "    }\n",
       "\n",
       "    .dataframe thead th {\n",
       "        text-align: right;\n",
       "    }\n",
       "</style>\n",
       "<table border=\"1\" class=\"dataframe\">\n",
       "  <thead>\n",
       "    <tr style=\"text-align: right;\">\n",
       "      <th></th>\n",
       "      <th>user_id</th>\n",
       "      <th>month</th>\n",
       "      <th>tariff</th>\n",
       "      <th>calls_count</th>\n",
       "      <th>calls_sum</th>\n",
       "      <th>mess_count</th>\n",
       "      <th>mb_sum</th>\n",
       "      <th>calls_cost</th>\n",
       "      <th>subscr_fee</th>\n",
       "    </tr>\n",
       "  </thead>\n",
       "  <tbody>\n",
       "    <tr>\n",
       "      <th>8</th>\n",
       "      <td>1001</td>\n",
       "      <td>11</td>\n",
       "      <td>smart</td>\n",
       "      <td>59.0</td>\n",
       "      <td>430.0</td>\n",
       "      <td>0.0</td>\n",
       "      <td>18429.34</td>\n",
       "      <td>0.0</td>\n",
       "      <td>550</td>\n",
       "    </tr>\n",
       "    <tr>\n",
       "      <th>9</th>\n",
       "      <td>1001</td>\n",
       "      <td>12</td>\n",
       "      <td>smart</td>\n",
       "      <td>63.0</td>\n",
       "      <td>414.0</td>\n",
       "      <td>0.0</td>\n",
       "      <td>14036.66</td>\n",
       "      <td>0.0</td>\n",
       "      <td>550</td>\n",
       "    </tr>\n",
       "    <tr>\n",
       "      <th>10</th>\n",
       "      <td>1002</td>\n",
       "      <td>6</td>\n",
       "      <td>smart</td>\n",
       "      <td>15.0</td>\n",
       "      <td>117.0</td>\n",
       "      <td>4.0</td>\n",
       "      <td>10856.82</td>\n",
       "      <td>0.0</td>\n",
       "      <td>550</td>\n",
       "    </tr>\n",
       "    <tr>\n",
       "      <th>11</th>\n",
       "      <td>1002</td>\n",
       "      <td>7</td>\n",
       "      <td>smart</td>\n",
       "      <td>26.0</td>\n",
       "      <td>214.0</td>\n",
       "      <td>11.0</td>\n",
       "      <td>17580.10</td>\n",
       "      <td>0.0</td>\n",
       "      <td>550</td>\n",
       "    </tr>\n",
       "    <tr>\n",
       "      <th>12</th>\n",
       "      <td>1002</td>\n",
       "      <td>8</td>\n",
       "      <td>smart</td>\n",
       "      <td>42.0</td>\n",
       "      <td>289.0</td>\n",
       "      <td>13.0</td>\n",
       "      <td>20319.26</td>\n",
       "      <td>0.0</td>\n",
       "      <td>550</td>\n",
       "    </tr>\n",
       "  </tbody>\n",
       "</table>\n",
       "</div>"
      ],
      "text/plain": [
       "    user_id  month tariff  calls_count  calls_sum  mess_count    mb_sum  \\\n",
       "8      1001     11  smart         59.0      430.0         0.0  18429.34   \n",
       "9      1001     12  smart         63.0      414.0         0.0  14036.66   \n",
       "10     1002      6  smart         15.0      117.0         4.0  10856.82   \n",
       "11     1002      7  smart         26.0      214.0        11.0  17580.10   \n",
       "12     1002      8  smart         42.0      289.0        13.0  20319.26   \n",
       "\n",
       "    calls_cost  subscr_fee  \n",
       "8          0.0         550  \n",
       "9          0.0         550  \n",
       "10         0.0         550  \n",
       "11         0.0         550  \n",
       "12         0.0         550  "
      ]
     },
     "execution_count": 109,
     "metadata": {},
     "output_type": "execute_result"
    }
   ],
   "source": [
    "general_concat_smart.head() # вывод первых 5 строк таблицы по абонентам тарифа Smart"
   ]
  },
  {
   "cell_type": "markdown",
   "metadata": {},
   "source": [
    "Колонка добавлена корректно, в ней рассчитана сумма доходов за голосовой трафик по каждому абоненту за каждый месяц."
   ]
  },
  {
   "cell_type": "markdown",
   "metadata": {},
   "source": [
    "**Сообщения**"
   ]
  },
  {
   "cell_type": "markdown",
   "metadata": {},
   "source": [
    "Добавим в таблицу с данными по абонентам тарифа Smart новую колонку для подсчета доходов от отправки сообщений mess_cost и посчитаем в ней результат вычитания бесплатного пакета 50 сообщений из количества отправленных СМС из по каждому абоненту по каждому месяцу."
   ]
  },
  {
   "cell_type": "code",
   "execution_count": 110,
   "metadata": {},
   "outputs": [],
   "source": [
    "# добавление нового столбца mess_cost и размещение в ней результата вычитания бесплатного пакета из количества отправленных сообщений\n",
    "general_concat_smart.loc[ : ,'mess_cost'] = general_concat_smart['mess_count'] - 50\n",
    "pd.options.mode.chained_assignment = None"
   ]
  },
  {
   "cell_type": "markdown",
   "metadata": {},
   "source": [
    "Получившийся результат умножим на 3 руб. для расчета доходов за сообщения, отправленные абонентом сверх бесплатного лимита."
   ]
  },
  {
   "cell_type": "code",
   "execution_count": 111,
   "metadata": {},
   "outputs": [],
   "source": [
    "# умножение результата на 3 руб\n",
    "general_concat_smart.loc[ : ,'mess_cost'] = general_concat_smart['mess_cost'] * 3"
   ]
  },
  {
   "cell_type": "markdown",
   "metadata": {},
   "source": [
    "Уберем из столбца mess_cost получившиеся отрицательные значения по абонентам, уложившимся в бесплатный лимит 50 сообщений."
   ]
  },
  {
   "cell_type": "code",
   "execution_count": 112,
   "metadata": {
    "scrolled": true
   },
   "outputs": [],
   "source": [
    "# замена отрицательных значений в колонке mess_cost на 0\n",
    "general_concat_smart.loc[general_concat_smart['mess_cost'] < 0, 'mess_cost'] = 0\n",
    "pd.options.mode.chained_assignment = None"
   ]
  },
  {
   "cell_type": "markdown",
   "metadata": {},
   "source": [
    "Оценим результат."
   ]
  },
  {
   "cell_type": "code",
   "execution_count": 113,
   "metadata": {
    "scrolled": true
   },
   "outputs": [
    {
     "data": {
      "text/html": [
       "<div>\n",
       "<style scoped>\n",
       "    .dataframe tbody tr th:only-of-type {\n",
       "        vertical-align: middle;\n",
       "    }\n",
       "\n",
       "    .dataframe tbody tr th {\n",
       "        vertical-align: top;\n",
       "    }\n",
       "\n",
       "    .dataframe thead th {\n",
       "        text-align: right;\n",
       "    }\n",
       "</style>\n",
       "<table border=\"1\" class=\"dataframe\">\n",
       "  <thead>\n",
       "    <tr style=\"text-align: right;\">\n",
       "      <th></th>\n",
       "      <th>user_id</th>\n",
       "      <th>month</th>\n",
       "      <th>tariff</th>\n",
       "      <th>calls_count</th>\n",
       "      <th>calls_sum</th>\n",
       "      <th>mess_count</th>\n",
       "      <th>mb_sum</th>\n",
       "      <th>calls_cost</th>\n",
       "      <th>subscr_fee</th>\n",
       "      <th>mess_cost</th>\n",
       "    </tr>\n",
       "  </thead>\n",
       "  <tbody>\n",
       "    <tr>\n",
       "      <th>8</th>\n",
       "      <td>1001</td>\n",
       "      <td>11</td>\n",
       "      <td>smart</td>\n",
       "      <td>59.0</td>\n",
       "      <td>430.0</td>\n",
       "      <td>0.0</td>\n",
       "      <td>18429.34</td>\n",
       "      <td>0.0</td>\n",
       "      <td>550</td>\n",
       "      <td>0.0</td>\n",
       "    </tr>\n",
       "    <tr>\n",
       "      <th>9</th>\n",
       "      <td>1001</td>\n",
       "      <td>12</td>\n",
       "      <td>smart</td>\n",
       "      <td>63.0</td>\n",
       "      <td>414.0</td>\n",
       "      <td>0.0</td>\n",
       "      <td>14036.66</td>\n",
       "      <td>0.0</td>\n",
       "      <td>550</td>\n",
       "      <td>0.0</td>\n",
       "    </tr>\n",
       "    <tr>\n",
       "      <th>10</th>\n",
       "      <td>1002</td>\n",
       "      <td>6</td>\n",
       "      <td>smart</td>\n",
       "      <td>15.0</td>\n",
       "      <td>117.0</td>\n",
       "      <td>4.0</td>\n",
       "      <td>10856.82</td>\n",
       "      <td>0.0</td>\n",
       "      <td>550</td>\n",
       "      <td>0.0</td>\n",
       "    </tr>\n",
       "    <tr>\n",
       "      <th>11</th>\n",
       "      <td>1002</td>\n",
       "      <td>7</td>\n",
       "      <td>smart</td>\n",
       "      <td>26.0</td>\n",
       "      <td>214.0</td>\n",
       "      <td>11.0</td>\n",
       "      <td>17580.10</td>\n",
       "      <td>0.0</td>\n",
       "      <td>550</td>\n",
       "      <td>0.0</td>\n",
       "    </tr>\n",
       "    <tr>\n",
       "      <th>12</th>\n",
       "      <td>1002</td>\n",
       "      <td>8</td>\n",
       "      <td>smart</td>\n",
       "      <td>42.0</td>\n",
       "      <td>289.0</td>\n",
       "      <td>13.0</td>\n",
       "      <td>20319.26</td>\n",
       "      <td>0.0</td>\n",
       "      <td>550</td>\n",
       "      <td>0.0</td>\n",
       "    </tr>\n",
       "  </tbody>\n",
       "</table>\n",
       "</div>"
      ],
      "text/plain": [
       "    user_id  month tariff  calls_count  calls_sum  mess_count    mb_sum  \\\n",
       "8      1001     11  smart         59.0      430.0         0.0  18429.34   \n",
       "9      1001     12  smart         63.0      414.0         0.0  14036.66   \n",
       "10     1002      6  smart         15.0      117.0         4.0  10856.82   \n",
       "11     1002      7  smart         26.0      214.0        11.0  17580.10   \n",
       "12     1002      8  smart         42.0      289.0        13.0  20319.26   \n",
       "\n",
       "    calls_cost  subscr_fee  mess_cost  \n",
       "8          0.0         550        0.0  \n",
       "9          0.0         550        0.0  \n",
       "10         0.0         550        0.0  \n",
       "11         0.0         550        0.0  \n",
       "12         0.0         550        0.0  "
      ]
     },
     "execution_count": 113,
     "metadata": {},
     "output_type": "execute_result"
    }
   ],
   "source": [
    "general_concat_smart.head() # вывод первых 5 строк таблицы по абонентам тарифа Smart "
   ]
  },
  {
   "cell_type": "markdown",
   "metadata": {},
   "source": [
    "Колонка добавлена корректно, в ней рассчитана сумма доходов за отправленные сообщения по каждому абоненту за каждый месяц."
   ]
  },
  {
   "cell_type": "markdown",
   "metadata": {},
   "source": [
    "**Интернет**"
   ]
  },
  {
   "cell_type": "markdown",
   "metadata": {},
   "source": [
    "Добавим в таблицу с данными по абонентам тарифа Smart новую колонку для подсчета доходов от расходования интернет-трафика int_cost и посчитаем в ней результат вычитания бесплатного пакета 15 Мб из суммарного расхода интернет-трафика по каждому абоненту по каждому месяцу."
   ]
  },
  {
   "cell_type": "code",
   "execution_count": 114,
   "metadata": {
    "scrolled": true
   },
   "outputs": [],
   "source": [
    "# добавление нового столбца int_cost и размещение в ней результата вычитания бесплатного пакета из общего расхода интернет-трафика\n",
    "general_concat_smart.loc[ : ,'int_cost'] = general_concat_smart['mb_sum'] / 1024 - 15\n",
    "pd.options.mode.chained_assignment = None"
   ]
  },
  {
   "cell_type": "markdown",
   "metadata": {},
   "source": [
    "Уберем из столбца int_cost получившиеся отрицательные значения по абонентам, уложившимся в бесплатный лимит 15 Мб."
   ]
  },
  {
   "cell_type": "code",
   "execution_count": 115,
   "metadata": {
    "scrolled": true
   },
   "outputs": [],
   "source": [
    "# замена отрицательных значений в колонке int_cost на 0\n",
    "general_concat_smart.loc[general_concat_smart['int_cost'] < 0, 'int_cost'] = 0\n",
    "pd.options.mode.chained_assignment = None"
   ]
  },
  {
   "cell_type": "markdown",
   "metadata": {},
   "source": [
    "Округлим результаты вычисления в бОльшую сторону для расчета дохода в соответствии с условиями тарифного плана."
   ]
  },
  {
   "cell_type": "code",
   "execution_count": 116,
   "metadata": {
    "scrolled": true
   },
   "outputs": [],
   "source": [
    "# округление результата в бОльшую сторону в соответствии с условиями тарифного плана\n",
    "general_concat_smart['int_cost'] = np.ceil(general_concat_smart['int_cost'])\n",
    "pd.options.mode.chained_assignment = None"
   ]
  },
  {
   "cell_type": "markdown",
   "metadata": {},
   "source": [
    "Получившийся результат умножим на 200 руб. для расчета доходов за трафик, израсходованный абонентом сверх бесплатного лимита."
   ]
  },
  {
   "cell_type": "code",
   "execution_count": 117,
   "metadata": {
    "scrolled": true
   },
   "outputs": [],
   "source": [
    "# умножение результата на 200 руб\n",
    "general_concat_smart.loc[ : ,'int_cost'] = general_concat_smart['int_cost'] * 200\n",
    "pd.options.mode.chained_assignment = None"
   ]
  },
  {
   "cell_type": "markdown",
   "metadata": {},
   "source": [
    "Оценим результат."
   ]
  },
  {
   "cell_type": "code",
   "execution_count": 118,
   "metadata": {
    "scrolled": true
   },
   "outputs": [
    {
     "data": {
      "text/html": [
       "<div>\n",
       "<style scoped>\n",
       "    .dataframe tbody tr th:only-of-type {\n",
       "        vertical-align: middle;\n",
       "    }\n",
       "\n",
       "    .dataframe tbody tr th {\n",
       "        vertical-align: top;\n",
       "    }\n",
       "\n",
       "    .dataframe thead th {\n",
       "        text-align: right;\n",
       "    }\n",
       "</style>\n",
       "<table border=\"1\" class=\"dataframe\">\n",
       "  <thead>\n",
       "    <tr style=\"text-align: right;\">\n",
       "      <th></th>\n",
       "      <th>user_id</th>\n",
       "      <th>month</th>\n",
       "      <th>tariff</th>\n",
       "      <th>calls_count</th>\n",
       "      <th>calls_sum</th>\n",
       "      <th>mess_count</th>\n",
       "      <th>mb_sum</th>\n",
       "      <th>calls_cost</th>\n",
       "      <th>subscr_fee</th>\n",
       "      <th>mess_cost</th>\n",
       "      <th>int_cost</th>\n",
       "    </tr>\n",
       "  </thead>\n",
       "  <tbody>\n",
       "    <tr>\n",
       "      <th>8</th>\n",
       "      <td>1001</td>\n",
       "      <td>11</td>\n",
       "      <td>smart</td>\n",
       "      <td>59.0</td>\n",
       "      <td>430.0</td>\n",
       "      <td>0.0</td>\n",
       "      <td>18429.34</td>\n",
       "      <td>0.0</td>\n",
       "      <td>550</td>\n",
       "      <td>0.0</td>\n",
       "      <td>600.0</td>\n",
       "    </tr>\n",
       "    <tr>\n",
       "      <th>9</th>\n",
       "      <td>1001</td>\n",
       "      <td>12</td>\n",
       "      <td>smart</td>\n",
       "      <td>63.0</td>\n",
       "      <td>414.0</td>\n",
       "      <td>0.0</td>\n",
       "      <td>14036.66</td>\n",
       "      <td>0.0</td>\n",
       "      <td>550</td>\n",
       "      <td>0.0</td>\n",
       "      <td>0.0</td>\n",
       "    </tr>\n",
       "    <tr>\n",
       "      <th>10</th>\n",
       "      <td>1002</td>\n",
       "      <td>6</td>\n",
       "      <td>smart</td>\n",
       "      <td>15.0</td>\n",
       "      <td>117.0</td>\n",
       "      <td>4.0</td>\n",
       "      <td>10856.82</td>\n",
       "      <td>0.0</td>\n",
       "      <td>550</td>\n",
       "      <td>0.0</td>\n",
       "      <td>0.0</td>\n",
       "    </tr>\n",
       "    <tr>\n",
       "      <th>11</th>\n",
       "      <td>1002</td>\n",
       "      <td>7</td>\n",
       "      <td>smart</td>\n",
       "      <td>26.0</td>\n",
       "      <td>214.0</td>\n",
       "      <td>11.0</td>\n",
       "      <td>17580.10</td>\n",
       "      <td>0.0</td>\n",
       "      <td>550</td>\n",
       "      <td>0.0</td>\n",
       "      <td>600.0</td>\n",
       "    </tr>\n",
       "    <tr>\n",
       "      <th>12</th>\n",
       "      <td>1002</td>\n",
       "      <td>8</td>\n",
       "      <td>smart</td>\n",
       "      <td>42.0</td>\n",
       "      <td>289.0</td>\n",
       "      <td>13.0</td>\n",
       "      <td>20319.26</td>\n",
       "      <td>0.0</td>\n",
       "      <td>550</td>\n",
       "      <td>0.0</td>\n",
       "      <td>1000.0</td>\n",
       "    </tr>\n",
       "  </tbody>\n",
       "</table>\n",
       "</div>"
      ],
      "text/plain": [
       "    user_id  month tariff  calls_count  calls_sum  mess_count    mb_sum  \\\n",
       "8      1001     11  smart         59.0      430.0         0.0  18429.34   \n",
       "9      1001     12  smart         63.0      414.0         0.0  14036.66   \n",
       "10     1002      6  smart         15.0      117.0         4.0  10856.82   \n",
       "11     1002      7  smart         26.0      214.0        11.0  17580.10   \n",
       "12     1002      8  smart         42.0      289.0        13.0  20319.26   \n",
       "\n",
       "    calls_cost  subscr_fee  mess_cost  int_cost  \n",
       "8          0.0         550        0.0     600.0  \n",
       "9          0.0         550        0.0       0.0  \n",
       "10         0.0         550        0.0       0.0  \n",
       "11         0.0         550        0.0     600.0  \n",
       "12         0.0         550        0.0    1000.0  "
      ]
     },
     "execution_count": 118,
     "metadata": {},
     "output_type": "execute_result"
    }
   ],
   "source": [
    "general_concat_smart.head() # вывод первых 5 строк таблицы по абонентам тарифа Smart "
   ]
  },
  {
   "cell_type": "markdown",
   "metadata": {},
   "source": [
    "Колонка добавлена корректно, в ней рассчитана сумма доходов за расходование интернет трафика по каждому абоненту за каждый месяц."
   ]
  },
  {
   "cell_type": "markdown",
   "metadata": {},
   "source": [
    "**Посчитаем общий доход за звонки, сообщения и интернет-трафик по каждому абоненту**"
   ]
  },
  {
   "cell_type": "markdown",
   "metadata": {},
   "source": [
    "Просуммируем результаты всех четырех добавленных колонок."
   ]
  },
  {
   "cell_type": "code",
   "execution_count": 119,
   "metadata": {},
   "outputs": [],
   "source": [
    "# расчет суммы всех доходов по всем трем видам трафика\n",
    "general_concat_smart.loc[ : ,'total_cost'] = general_concat_smart['calls_cost'] + general_concat_smart['mess_cost'] + general_concat_smart['int_cost'] + general_concat_smart['subscr_fee']\n",
    "pd.options.mode.chained_assignment = None"
   ]
  },
  {
   "cell_type": "markdown",
   "metadata": {},
   "source": [
    "Оценим получившийся результат."
   ]
  },
  {
   "cell_type": "code",
   "execution_count": 120,
   "metadata": {
    "scrolled": true
   },
   "outputs": [
    {
     "data": {
      "text/html": [
       "<div>\n",
       "<style scoped>\n",
       "    .dataframe tbody tr th:only-of-type {\n",
       "        vertical-align: middle;\n",
       "    }\n",
       "\n",
       "    .dataframe tbody tr th {\n",
       "        vertical-align: top;\n",
       "    }\n",
       "\n",
       "    .dataframe thead th {\n",
       "        text-align: right;\n",
       "    }\n",
       "</style>\n",
       "<table border=\"1\" class=\"dataframe\">\n",
       "  <thead>\n",
       "    <tr style=\"text-align: right;\">\n",
       "      <th></th>\n",
       "      <th>user_id</th>\n",
       "      <th>month</th>\n",
       "      <th>tariff</th>\n",
       "      <th>calls_count</th>\n",
       "      <th>calls_sum</th>\n",
       "      <th>mess_count</th>\n",
       "      <th>mb_sum</th>\n",
       "      <th>calls_cost</th>\n",
       "      <th>subscr_fee</th>\n",
       "      <th>mess_cost</th>\n",
       "      <th>int_cost</th>\n",
       "      <th>total_cost</th>\n",
       "    </tr>\n",
       "  </thead>\n",
       "  <tbody>\n",
       "    <tr>\n",
       "      <th>8</th>\n",
       "      <td>1001</td>\n",
       "      <td>11</td>\n",
       "      <td>smart</td>\n",
       "      <td>59.0</td>\n",
       "      <td>430.0</td>\n",
       "      <td>0.0</td>\n",
       "      <td>18429.34</td>\n",
       "      <td>0.0</td>\n",
       "      <td>550</td>\n",
       "      <td>0.0</td>\n",
       "      <td>600.0</td>\n",
       "      <td>1150.0</td>\n",
       "    </tr>\n",
       "    <tr>\n",
       "      <th>9</th>\n",
       "      <td>1001</td>\n",
       "      <td>12</td>\n",
       "      <td>smart</td>\n",
       "      <td>63.0</td>\n",
       "      <td>414.0</td>\n",
       "      <td>0.0</td>\n",
       "      <td>14036.66</td>\n",
       "      <td>0.0</td>\n",
       "      <td>550</td>\n",
       "      <td>0.0</td>\n",
       "      <td>0.0</td>\n",
       "      <td>550.0</td>\n",
       "    </tr>\n",
       "    <tr>\n",
       "      <th>10</th>\n",
       "      <td>1002</td>\n",
       "      <td>6</td>\n",
       "      <td>smart</td>\n",
       "      <td>15.0</td>\n",
       "      <td>117.0</td>\n",
       "      <td>4.0</td>\n",
       "      <td>10856.82</td>\n",
       "      <td>0.0</td>\n",
       "      <td>550</td>\n",
       "      <td>0.0</td>\n",
       "      <td>0.0</td>\n",
       "      <td>550.0</td>\n",
       "    </tr>\n",
       "    <tr>\n",
       "      <th>11</th>\n",
       "      <td>1002</td>\n",
       "      <td>7</td>\n",
       "      <td>smart</td>\n",
       "      <td>26.0</td>\n",
       "      <td>214.0</td>\n",
       "      <td>11.0</td>\n",
       "      <td>17580.10</td>\n",
       "      <td>0.0</td>\n",
       "      <td>550</td>\n",
       "      <td>0.0</td>\n",
       "      <td>600.0</td>\n",
       "      <td>1150.0</td>\n",
       "    </tr>\n",
       "    <tr>\n",
       "      <th>12</th>\n",
       "      <td>1002</td>\n",
       "      <td>8</td>\n",
       "      <td>smart</td>\n",
       "      <td>42.0</td>\n",
       "      <td>289.0</td>\n",
       "      <td>13.0</td>\n",
       "      <td>20319.26</td>\n",
       "      <td>0.0</td>\n",
       "      <td>550</td>\n",
       "      <td>0.0</td>\n",
       "      <td>1000.0</td>\n",
       "      <td>1550.0</td>\n",
       "    </tr>\n",
       "  </tbody>\n",
       "</table>\n",
       "</div>"
      ],
      "text/plain": [
       "    user_id  month tariff  calls_count  calls_sum  mess_count    mb_sum  \\\n",
       "8      1001     11  smart         59.0      430.0         0.0  18429.34   \n",
       "9      1001     12  smart         63.0      414.0         0.0  14036.66   \n",
       "10     1002      6  smart         15.0      117.0         4.0  10856.82   \n",
       "11     1002      7  smart         26.0      214.0        11.0  17580.10   \n",
       "12     1002      8  smart         42.0      289.0        13.0  20319.26   \n",
       "\n",
       "    calls_cost  subscr_fee  mess_cost  int_cost  total_cost  \n",
       "8          0.0         550        0.0     600.0      1150.0  \n",
       "9          0.0         550        0.0       0.0       550.0  \n",
       "10         0.0         550        0.0       0.0       550.0  \n",
       "11         0.0         550        0.0     600.0      1150.0  \n",
       "12         0.0         550        0.0    1000.0      1550.0  "
      ]
     },
     "execution_count": 120,
     "metadata": {},
     "output_type": "execute_result"
    }
   ],
   "source": [
    "general_concat_smart.head() # вывод первых 5 строк таблицы по абонентам тарифа Smart"
   ]
  },
  {
   "cell_type": "markdown",
   "metadata": {},
   "source": [
    "Колонка с суммарным доходом total_cost добавлена корректно, в ней рассчитана сумма доходов за все три вид трафика по каждому абоненту за каждый месяц.\n",
    "\n",
    "Выведем итоговые суммарные значения по абонентам Smart."
   ]
  },
  {
   "cell_type": "code",
   "execution_count": 121,
   "metadata": {},
   "outputs": [
    {
     "name": "stdout",
     "output_type": "stream",
     "text": [
      "Выручка_звонки:  278217.0 Выручка_сообщения:  38784.0 Выручка_интернет:  1332400.0 Выручка_абонплата:  1225950 Выручка_всего:  2875351.0\n"
     ]
    }
   ],
   "source": [
    "# вывод сумм по столбцам calls_cost, mess_cost, int_cost, total_cost\n",
    "print(\n",
    "    'Выручка_звонки: ', general_concat_smart['calls_cost'].sum(),\n",
    "    'Выручка_сообщения: ', general_concat_smart['mess_cost'].sum(), \n",
    "    'Выручка_интернет: ', general_concat_smart['int_cost'].sum(),\n",
    "    'Выручка_абонплата: ', general_concat_smart['subscr_fee'].sum(),\n",
    "    'Выручка_всего: ', general_concat_smart['total_cost'].sum()\n",
    ")"
   ]
  },
  {
   "cell_type": "markdown",
   "metadata": {},
   "source": [
    "<div style=\"border:solid blue 2px; padding: 20px\"> \n",
    "\n",
    "**Вывод**  \n",
    "\n",
    "Предобработка данных проведена:\n",
    "1. Для таблицы users:\n",
    "изменены типы данных в колонках churn_date и reg_date на datetime, в колонке churn_date Nan заменены на 0, проверены данные на наличие ошибок, ошибки не обнаружены\n",
    "2. Для таблицы messages:\n",
    "изменен тип данных в колонке message_date на datetime, проверены данные на наличие ошибок, ошибки не обнаружены\n",
    "3. Для таблицы internet:\n",
    "удалена колонка Unnamed:0, округлены в бОльшую сторону данные в колонке mb_used по правилам тарификации, изменены типы данных в колонке mb_used на int, в session_date на datetime, проверены данные на наличие ошибок, ошибки не обнаружены\n",
    "4. Для таблицы calls:\n",
    "округлены в бОльшую сторону значения в колонке duration по правилам тарификации, исправлены типы данных в колонке call_date на datetime, в колонке duration на int, проверены данные на наличие ошибок, ошибки не обнаружены     \n",
    "\n",
    "\n",
    "Для каждого пользователя каждого тарифа по месяцам подсчитаны:\n",
    "1. количество сделанных звонков и израсходованных минут разговора;\n",
    "2. количество отправленных сообщений;\n",
    "3. объем израсходованного интернет-трафика;\n",
    "4. помесячная выручка.\n",
    "    \n",
    "Данные подготовлены к проведению анализа.    \n",
    "   \n",
    "\n",
    "</div>"
   ]
  },
  {
   "cell_type": "markdown",
   "metadata": {},
   "source": [
    "## Шаг 3_Анализ данных"
   ]
  },
  {
   "cell_type": "markdown",
   "metadata": {},
   "source": [
    "**Особенности тарифа ULTRA**"
   ]
  },
  {
   "cell_type": "markdown",
   "metadata": {},
   "source": [
    "Для оценки основных особенностей поведения абонентов тарифа Ultra построим сводную таблицу со средними значениями по месяцам по сумме потраченных минут разговора, количеству отправленных сообщений, объему израсходованного интернет-трафика и среднему доходу."
   ]
  },
  {
   "cell_type": "code",
   "execution_count": 122,
   "metadata": {},
   "outputs": [
    {
     "data": {
      "text/html": [
       "<div>\n",
       "<style scoped>\n",
       "    .dataframe tbody tr th:only-of-type {\n",
       "        vertical-align: middle;\n",
       "    }\n",
       "\n",
       "    .dataframe tbody tr th {\n",
       "        vertical-align: top;\n",
       "    }\n",
       "\n",
       "    .dataframe thead th {\n",
       "        text-align: right;\n",
       "    }\n",
       "</style>\n",
       "<table border=\"1\" class=\"dataframe\">\n",
       "  <thead>\n",
       "    <tr style=\"text-align: right;\">\n",
       "      <th></th>\n",
       "      <th>calls_sum</th>\n",
       "      <th>mb_sum</th>\n",
       "      <th>mess_count</th>\n",
       "      <th>subscr_fee</th>\n",
       "      <th>total_cost</th>\n",
       "    </tr>\n",
       "    <tr>\n",
       "      <th>month</th>\n",
       "      <th></th>\n",
       "      <th></th>\n",
       "      <th></th>\n",
       "      <th></th>\n",
       "      <th></th>\n",
       "    </tr>\n",
       "  </thead>\n",
       "  <tbody>\n",
       "    <tr>\n",
       "      <th>1</th>\n",
       "      <td>428.0</td>\n",
       "      <td>13141.0</td>\n",
       "      <td>34.0</td>\n",
       "      <td>1950</td>\n",
       "      <td>1950.0</td>\n",
       "    </tr>\n",
       "    <tr>\n",
       "      <th>2</th>\n",
       "      <td>297.0</td>\n",
       "      <td>11776.0</td>\n",
       "      <td>22.0</td>\n",
       "      <td>1950</td>\n",
       "      <td>1975.0</td>\n",
       "    </tr>\n",
       "    <tr>\n",
       "      <th>3</th>\n",
       "      <td>490.0</td>\n",
       "      <td>17536.0</td>\n",
       "      <td>32.0</td>\n",
       "      <td>1950</td>\n",
       "      <td>2015.0</td>\n",
       "    </tr>\n",
       "    <tr>\n",
       "      <th>4</th>\n",
       "      <td>458.0</td>\n",
       "      <td>16828.0</td>\n",
       "      <td>32.0</td>\n",
       "      <td>1950</td>\n",
       "      <td>2002.0</td>\n",
       "    </tr>\n",
       "    <tr>\n",
       "      <th>5</th>\n",
       "      <td>510.0</td>\n",
       "      <td>19363.0</td>\n",
       "      <td>38.0</td>\n",
       "      <td>1950</td>\n",
       "      <td>2060.0</td>\n",
       "    </tr>\n",
       "    <tr>\n",
       "      <th>6</th>\n",
       "      <td>480.0</td>\n",
       "      <td>18925.0</td>\n",
       "      <td>42.0</td>\n",
       "      <td>1950</td>\n",
       "      <td>2039.0</td>\n",
       "    </tr>\n",
       "    <tr>\n",
       "      <th>7</th>\n",
       "      <td>546.0</td>\n",
       "      <td>20496.0</td>\n",
       "      <td>50.0</td>\n",
       "      <td>1950</td>\n",
       "      <td>2118.0</td>\n",
       "    </tr>\n",
       "    <tr>\n",
       "      <th>8</th>\n",
       "      <td>511.0</td>\n",
       "      <td>19576.0</td>\n",
       "      <td>48.0</td>\n",
       "      <td>1950</td>\n",
       "      <td>2083.0</td>\n",
       "    </tr>\n",
       "    <tr>\n",
       "      <th>9</th>\n",
       "      <td>539.0</td>\n",
       "      <td>19204.0</td>\n",
       "      <td>52.0</td>\n",
       "      <td>1950</td>\n",
       "      <td>2024.0</td>\n",
       "    </tr>\n",
       "    <tr>\n",
       "      <th>10</th>\n",
       "      <td>558.0</td>\n",
       "      <td>20045.0</td>\n",
       "      <td>58.0</td>\n",
       "      <td>1950</td>\n",
       "      <td>2066.0</td>\n",
       "    </tr>\n",
       "    <tr>\n",
       "      <th>11</th>\n",
       "      <td>541.0</td>\n",
       "      <td>19787.0</td>\n",
       "      <td>56.0</td>\n",
       "      <td>1950</td>\n",
       "      <td>2092.0</td>\n",
       "    </tr>\n",
       "    <tr>\n",
       "      <th>12</th>\n",
       "      <td>593.0</td>\n",
       "      <td>21793.0</td>\n",
       "      <td>61.0</td>\n",
       "      <td>1950</td>\n",
       "      <td>2139.0</td>\n",
       "    </tr>\n",
       "  </tbody>\n",
       "</table>\n",
       "</div>"
      ],
      "text/plain": [
       "       calls_sum   mb_sum  mess_count  subscr_fee  total_cost\n",
       "month                                                        \n",
       "1          428.0  13141.0        34.0        1950      1950.0\n",
       "2          297.0  11776.0        22.0        1950      1975.0\n",
       "3          490.0  17536.0        32.0        1950      2015.0\n",
       "4          458.0  16828.0        32.0        1950      2002.0\n",
       "5          510.0  19363.0        38.0        1950      2060.0\n",
       "6          480.0  18925.0        42.0        1950      2039.0\n",
       "7          546.0  20496.0        50.0        1950      2118.0\n",
       "8          511.0  19576.0        48.0        1950      2083.0\n",
       "9          539.0  19204.0        52.0        1950      2024.0\n",
       "10         558.0  20045.0        58.0        1950      2066.0\n",
       "11         541.0  19787.0        56.0        1950      2092.0\n",
       "12         593.0  21793.0        61.0        1950      2139.0"
      ]
     },
     "execution_count": 122,
     "metadata": {},
     "output_type": "execute_result"
    }
   ],
   "source": [
    "# построение сводной таблицы со средними значениями по основным параметрам тарифа по месяцам\n",
    "general_concat_ultra.pivot_table(\n",
    "    index='month', \n",
    "    values=['calls_sum', 'mess_count', 'mb_sum', 'subscr_fee', 'total_cost'], \n",
    "    aggfunc='mean'\n",
    ").round()"
   ]
  },
  {
   "cell_type": "markdown",
   "metadata": {},
   "source": [
    "Исходя из данных сводной таблицы, в месяц абоненты тарифа Ultra в среднем расходуют:\n",
    "1. от 297 до 593 минут \n",
    "2. от 22 до 61 сообщения\n",
    "3. от 12 до 21 Гб трафика\n",
    "\n",
    "Средний доход по абонентам тарифа Ultra составляет от 1950 руб до 2139 руб в месяц"
   ]
  },
  {
   "cell_type": "markdown",
   "metadata": {},
   "source": [
    "Также выведем общую статистическую информацию о таблице с данными по абонентам тарифа Ultra."
   ]
  },
  {
   "cell_type": "code",
   "execution_count": 123,
   "metadata": {
    "scrolled": true
   },
   "outputs": [
    {
     "data": {
      "text/html": [
       "<div>\n",
       "<style scoped>\n",
       "    .dataframe tbody tr th:only-of-type {\n",
       "        vertical-align: middle;\n",
       "    }\n",
       "\n",
       "    .dataframe tbody tr th {\n",
       "        vertical-align: top;\n",
       "    }\n",
       "\n",
       "    .dataframe thead th {\n",
       "        text-align: right;\n",
       "    }\n",
       "</style>\n",
       "<table border=\"1\" class=\"dataframe\">\n",
       "  <thead>\n",
       "    <tr style=\"text-align: right;\">\n",
       "      <th></th>\n",
       "      <th>user_id</th>\n",
       "      <th>month</th>\n",
       "      <th>calls_count</th>\n",
       "      <th>calls_sum</th>\n",
       "      <th>mess_count</th>\n",
       "      <th>mb_sum</th>\n",
       "      <th>calls_cost</th>\n",
       "      <th>subscr_fee</th>\n",
       "      <th>mess_cost</th>\n",
       "      <th>int_cost</th>\n",
       "      <th>total_cost</th>\n",
       "    </tr>\n",
       "  </thead>\n",
       "  <tbody>\n",
       "    <tr>\n",
       "      <th>count</th>\n",
       "      <td>985.0</td>\n",
       "      <td>985.0</td>\n",
       "      <td>985.0</td>\n",
       "      <td>985.0</td>\n",
       "      <td>985.0</td>\n",
       "      <td>985.0</td>\n",
       "      <td>985.0</td>\n",
       "      <td>985.0</td>\n",
       "      <td>985.0</td>\n",
       "      <td>985.0</td>\n",
       "      <td>985.0</td>\n",
       "    </tr>\n",
       "    <tr>\n",
       "      <th>mean</th>\n",
       "      <td>1263.0</td>\n",
       "      <td>8.0</td>\n",
       "      <td>73.0</td>\n",
       "      <td>527.0</td>\n",
       "      <td>49.0</td>\n",
       "      <td>19469.0</td>\n",
       "      <td>0.0</td>\n",
       "      <td>1950.0</td>\n",
       "      <td>0.0</td>\n",
       "      <td>120.0</td>\n",
       "      <td>2070.0</td>\n",
       "    </tr>\n",
       "    <tr>\n",
       "      <th>std</th>\n",
       "      <td>141.0</td>\n",
       "      <td>3.0</td>\n",
       "      <td>44.0</td>\n",
       "      <td>318.0</td>\n",
       "      <td>48.0</td>\n",
       "      <td>10087.0</td>\n",
       "      <td>0.0</td>\n",
       "      <td>0.0</td>\n",
       "      <td>0.0</td>\n",
       "      <td>376.0</td>\n",
       "      <td>376.0</td>\n",
       "    </tr>\n",
       "    <tr>\n",
       "      <th>min</th>\n",
       "      <td>1000.0</td>\n",
       "      <td>1.0</td>\n",
       "      <td>0.0</td>\n",
       "      <td>0.0</td>\n",
       "      <td>0.0</td>\n",
       "      <td>0.0</td>\n",
       "      <td>0.0</td>\n",
       "      <td>1950.0</td>\n",
       "      <td>0.0</td>\n",
       "      <td>0.0</td>\n",
       "      <td>1950.0</td>\n",
       "    </tr>\n",
       "    <tr>\n",
       "      <th>25%</th>\n",
       "      <td>1143.0</td>\n",
       "      <td>6.0</td>\n",
       "      <td>41.0</td>\n",
       "      <td>284.0</td>\n",
       "      <td>6.0</td>\n",
       "      <td>11770.0</td>\n",
       "      <td>0.0</td>\n",
       "      <td>1950.0</td>\n",
       "      <td>0.0</td>\n",
       "      <td>0.0</td>\n",
       "      <td>1950.0</td>\n",
       "    </tr>\n",
       "    <tr>\n",
       "      <th>50%</th>\n",
       "      <td>1277.0</td>\n",
       "      <td>9.0</td>\n",
       "      <td>74.0</td>\n",
       "      <td>518.0</td>\n",
       "      <td>38.0</td>\n",
       "      <td>19308.0</td>\n",
       "      <td>0.0</td>\n",
       "      <td>1950.0</td>\n",
       "      <td>0.0</td>\n",
       "      <td>0.0</td>\n",
       "      <td>1950.0</td>\n",
       "    </tr>\n",
       "    <tr>\n",
       "      <th>75%</th>\n",
       "      <td>1381.0</td>\n",
       "      <td>11.0</td>\n",
       "      <td>104.0</td>\n",
       "      <td>752.0</td>\n",
       "      <td>79.0</td>\n",
       "      <td>26838.0</td>\n",
       "      <td>0.0</td>\n",
       "      <td>1950.0</td>\n",
       "      <td>0.0</td>\n",
       "      <td>0.0</td>\n",
       "      <td>1950.0</td>\n",
       "    </tr>\n",
       "    <tr>\n",
       "      <th>max</th>\n",
       "      <td>1495.0</td>\n",
       "      <td>12.0</td>\n",
       "      <td>244.0</td>\n",
       "      <td>1673.0</td>\n",
       "      <td>224.0</td>\n",
       "      <td>49746.0</td>\n",
       "      <td>0.0</td>\n",
       "      <td>1950.0</td>\n",
       "      <td>0.0</td>\n",
       "      <td>2850.0</td>\n",
       "      <td>4800.0</td>\n",
       "    </tr>\n",
       "  </tbody>\n",
       "</table>\n",
       "</div>"
      ],
      "text/plain": [
       "       user_id  month  calls_count  calls_sum  mess_count   mb_sum  \\\n",
       "count    985.0  985.0        985.0      985.0       985.0    985.0   \n",
       "mean    1263.0    8.0         73.0      527.0        49.0  19469.0   \n",
       "std      141.0    3.0         44.0      318.0        48.0  10087.0   \n",
       "min     1000.0    1.0          0.0        0.0         0.0      0.0   \n",
       "25%     1143.0    6.0         41.0      284.0         6.0  11770.0   \n",
       "50%     1277.0    9.0         74.0      518.0        38.0  19308.0   \n",
       "75%     1381.0   11.0        104.0      752.0        79.0  26838.0   \n",
       "max     1495.0   12.0        244.0     1673.0       224.0  49746.0   \n",
       "\n",
       "       calls_cost  subscr_fee  mess_cost  int_cost  total_cost  \n",
       "count       985.0       985.0      985.0     985.0       985.0  \n",
       "mean          0.0      1950.0        0.0     120.0      2070.0  \n",
       "std           0.0         0.0        0.0     376.0       376.0  \n",
       "min           0.0      1950.0        0.0       0.0      1950.0  \n",
       "25%           0.0      1950.0        0.0       0.0      1950.0  \n",
       "50%           0.0      1950.0        0.0       0.0      1950.0  \n",
       "75%           0.0      1950.0        0.0       0.0      1950.0  \n",
       "max           0.0      1950.0        0.0    2850.0      4800.0  "
      ]
     },
     "execution_count": 123,
     "metadata": {},
     "output_type": "execute_result"
    }
   ],
   "source": [
    "# вывод общей статистической информации о таблице\n",
    "general_concat_ultra.describe().round()"
   ]
  },
  {
   "cell_type": "markdown",
   "metadata": {},
   "source": [
    "На основании данных таблицы можно сделать следующие выводы о выборке:\n",
    "1. В таблице 985 записей\n",
    "2. Среднее количество потраченных минут - 527 мин, отправленных сообщений - 49 шт, потраченных Гб трафика - 19 Гб\n",
    "3. В выборке есть абоненты, совсем не использующие голосовой и/или интернет трафик, а также те, кто не отправляет сообщения (минимальные значения по этим трем параметрам в выборке равны 0)."
   ]
  },
  {
   "cell_type": "markdown",
   "metadata": {},
   "source": [
    "Проанализируем данные по **минутам разговора**.\n",
    "\n",
    "Для этого построим гистограмму частот для непрерывной переменной \"минуты разговора\", задав границы \"корзин\"."
   ]
  },
  {
   "cell_type": "code",
   "execution_count": 124,
   "metadata": {
    "scrolled": true
   },
   "outputs": [
    {
     "data": {
      "text/plain": [
       "<AxesSubplot:title={'center':'Тариф Ultra_calls_sum'}>"
      ]
     },
     "execution_count": 124,
     "metadata": {},
     "output_type": "execute_result"
    },
    {
     "data": {
      "image/png": "[encoded data removed]",
      "text/plain": [
       "<Figure size 432x288 with 1 Axes>"
      ]
     },
     "metadata": {
      "needs_background": "light"
     },
     "output_type": "display_data"
    }
   ],
   "source": [
    "# построение гистограммы\n",
    "fig, axes = plt.subplots(sharex=True, sharey=True)\n",
    "fig.text(0.5, 0.04, 'calls_sum', ha='center')\n",
    "fig.text(0.09, 0.9, 'Частота', va='center', rotation='vertical')\n",
    "plt.title('Тариф Ultra_calls_sum')\n",
    "general_concat_ultra['calls_sum'].hist(bins=[50, 200, 400, 700, 1000, 1300, 1500], range=(0, 1700))\n"
   ]
  },
  {
   "cell_type": "markdown",
   "metadata": {},
   "source": [
    "Распределение близкое к нормальному, при этом датасет скошен вправо (имеет положительую скошенность). \n",
    "\n",
    "По данным гистограммы наиболее часто пользователи тарифа расходуют от 400 до 700 минут в месяц (13-23 минут в день)."
   ]
  },
  {
   "cell_type": "markdown",
   "metadata": {},
   "source": [
    "Построим диаграмму размаха для оценки характерного разброса данных."
   ]
  },
  {
   "cell_type": "code",
   "execution_count": 125,
   "metadata": {},
   "outputs": [
    {
     "data": {
      "text/plain": [
       "<AxesSubplot:>"
      ]
     },
     "execution_count": 125,
     "metadata": {},
     "output_type": "execute_result"
    },
    {
     "data": {
      "image/png": "[encoded data removed]",
      "text/plain": [
       "<Figure size 432x288 with 1 Axes>"
      ]
     },
     "metadata": {
      "needs_background": "light"
     },
     "output_type": "display_data"
    }
   ],
   "source": [
    "# построение диаграммы размаха\n",
    "general_concat_ultra.boxplot(column='calls_sum')"
   ]
  },
  {
   "cell_type": "markdown",
   "metadata": {},
   "source": [
    "По диаграмме размаха видно, что выбросов немного, и они сосредоточены в диапазоне 1600-1700 минут."
   ]
  },
  {
   "cell_type": "markdown",
   "metadata": {},
   "source": [
    "Также для оценки разброса применим алгебраические метрики разброса и рассчитаем дисперсию (средний квадрат расстояния между значениями датасета и средним значением), стандартное отклонение (квадратный корень из дисперсии) и выведем среднее значение."
   ]
  },
  {
   "cell_type": "code",
   "execution_count": 126,
   "metadata": {},
   "outputs": [
    {
     "name": "stdout",
     "output_type": "stream",
     "text": [
      "Среднее количество потраченных абонентом в месяц минут по абонентам тарифа Ultra 526.6 мин\n"
     ]
    }
   ],
   "source": [
    "# расчет и вывод среднего количества потраченных абонентом в месяц минут по абонентам тарифа Ultra\n",
    "ultra_calls_sum_mean = round((general_concat_ultra['calls_sum'].mean()), 1)\n",
    "print('Среднее количество потраченных абонентом в месяц минут по абонентам тарифа Ultra', ultra_calls_sum_mean, 'мин')"
   ]
  },
  {
   "cell_type": "code",
   "execution_count": 127,
   "metadata": {},
   "outputs": [
    {
     "name": "stdout",
     "output_type": "stream",
     "text": [
      "Дисперсия потраченных абонентом в месяц минут по абонентам тарифа Ultra 100771.2\n"
     ]
    }
   ],
   "source": [
    "# расчет и вывод дисперсии\n",
    "ultra_calls_sum_var = round(np.var(general_concat_ultra['calls_sum']), 1)\n",
    "print('Дисперсия потраченных абонентом в месяц минут по абонентам тарифа Ultra', ultra_calls_sum_var)"
   ]
  },
  {
   "cell_type": "code",
   "execution_count": 128,
   "metadata": {},
   "outputs": [
    {
     "name": "stdout",
     "output_type": "stream",
     "text": [
      "Стандартное отклонение по потраченным абонентом в месяц минутам по абонентам тарифа Ultra 317.4\n"
     ]
    }
   ],
   "source": [
    "# расчет и вывод стандартного отклонения\n",
    "ultra_calls_sum_var_std = round(np.sqrt(ultra_calls_sum_var), 1)\n",
    "print('Стандартное отклонение по потраченным абонентом в месяц минутам по абонентам тарифа Ultra', ultra_calls_sum_var_std)"
   ]
  },
  {
   "cell_type": "markdown",
   "metadata": {},
   "source": [
    "Согласно правилу трех сигм, 99% всех значений находится в пределах +/- 3 стандартных отклонений от среднего значения, соответственно, в данном случае 99% всех значений среднего количества израсходованных минут в месяц находятся в пределах диапазона:"
   ]
  },
  {
   "cell_type": "code",
   "execution_count": 129,
   "metadata": {},
   "outputs": [
    {
     "name": "stdout",
     "output_type": "stream",
     "text": [
      "от -425.6 до 1478.8\n"
     ]
    }
   ],
   "source": [
    "# расчет и вывод диапазона по правилу 3х сигм\n",
    "print('от', round((ultra_calls_sum_mean -(3*ultra_calls_sum_var_std)), 1), 'до', (ultra_calls_sum_mean + (3*ultra_calls_sum_var_std)))"
   ]
  },
  {
   "cell_type": "markdown",
   "metadata": {},
   "source": [
    "Поскольку отрицательным количество израсходованных минут быть не может, левой границей диапазона будет значение 0:"
   ]
  },
  {
   "cell_type": "code",
   "execution_count": 130,
   "metadata": {},
   "outputs": [
    {
     "name": "stdout",
     "output_type": "stream",
     "text": [
      "от 0 до 1478.8\n"
     ]
    }
   ],
   "source": [
    "print('от', 0, 'до', (ultra_calls_sum_mean + (3*ultra_calls_sum_var_std)))"
   ]
  },
  {
   "cell_type": "markdown",
   "metadata": {},
   "source": [
    "Проанализируем данные по **количеству сообщений**.\n",
    "\n",
    "Для этого построим гистограмму для дискретной переменной \"количество сообщений\", задав количество \"корзин\"."
   ]
  },
  {
   "cell_type": "code",
   "execution_count": 131,
   "metadata": {},
   "outputs": [
    {
     "data": {
      "text/plain": [
       "<AxesSubplot:title={'center':'Тариф Ultra_mess_count'}>"
      ]
     },
     "execution_count": 131,
     "metadata": {},
     "output_type": "execute_result"
    },
    {
     "data": {
      "image/png": "[encoded data removed]",
      "text/plain": [
       "<Figure size 432x288 with 1 Axes>"
      ]
     },
     "metadata": {
      "needs_background": "light"
     },
     "output_type": "display_data"
    }
   ],
   "source": [
    "# построение гистограммы\n",
    "fig, axes = plt.subplots(sharex=True, sharey=True)\n",
    "fig.text(0.5, 0.04, 'mess_count', ha='center')\n",
    "fig.text(0.09, 0.9, 'Частота', va='center', rotation='vertical')\n",
    "plt.title('Тариф Ultra_mess_count')\n",
    "general_concat_ultra['mess_count'].hist(bins=30, range=(0, 250))"
   ]
  },
  {
   "cell_type": "markdown",
   "metadata": {},
   "source": [
    "На гистограмме отображено распределение Пуассона, при этом датасет сильно скошен вправо (имеет положительую скошенность), поскольку сообщений может быть отправлено от 0 и до бесконечности. \n",
    "\n",
    "По данным гистограммы наиболее часто пользователи тарифа вообще не отправляют сообщения в течение месяца (0 сообщений в месяц)."
   ]
  },
  {
   "cell_type": "markdown",
   "metadata": {},
   "source": [
    "Построим диаграмму размаха для оценки характерного разброса данных."
   ]
  },
  {
   "cell_type": "code",
   "execution_count": 132,
   "metadata": {},
   "outputs": [
    {
     "data": {
      "text/plain": [
       "<AxesSubplot:>"
      ]
     },
     "execution_count": 132,
     "metadata": {},
     "output_type": "execute_result"
    },
    {
     "data": {
      "image/png": "[encoded data removed]",
      "text/plain": [
       "<Figure size 432x288 with 1 Axes>"
      ]
     },
     "metadata": {
      "needs_background": "light"
     },
     "output_type": "display_data"
    }
   ],
   "source": [
    "# построение диаграммы размаха\n",
    "general_concat_ultra.boxplot(column='mess_count')"
   ]
  },
  {
   "cell_type": "markdown",
   "metadata": {},
   "source": [
    "По диаграмме размаха видно, что выбросов много, и они сосредоточены в диапазоне 180-250 сообщений."
   ]
  },
  {
   "cell_type": "markdown",
   "metadata": {},
   "source": [
    "Также для оценки разброса применим алгебраические метрики разброса и рассчитаем дисперсию (средний квадрат расстояния между значениями датасета и средним значением), стандартное отклонение (квадратный корень из дисперсии) и выведем среднее значение."
   ]
  },
  {
   "cell_type": "code",
   "execution_count": 133,
   "metadata": {},
   "outputs": [
    {
     "name": "stdout",
     "output_type": "stream",
     "text": [
      "Среднее количество отправленных абонентом в месяц сообщений по абонентам тарифа Ultra 49.4 шт\n"
     ]
    }
   ],
   "source": [
    "# расчет и вывод среднего количества отправленных абонентом сообщений в месяц по абонентам тарифа Ultra\n",
    "ultra_mess_count_mean = round((general_concat_ultra['mess_count'].mean()), 1)\n",
    "print('Среднее количество отправленных абонентом в месяц сообщений по абонентам тарифа Ultra', ultra_mess_count_mean, 'шт')"
   ]
  },
  {
   "cell_type": "code",
   "execution_count": 134,
   "metadata": {},
   "outputs": [
    {
     "name": "stdout",
     "output_type": "stream",
     "text": [
      "Дисперсия отправленных абонентом в месяц сообщений по абонентам тарифа Ultra 2282.9\n"
     ]
    }
   ],
   "source": [
    "# расчет и вывод дисперсии\n",
    "ultra_mess_count_var = round(np.var(general_concat_ultra['mess_count']), 1)\n",
    "print('Дисперсия отправленных абонентом в месяц сообщений по абонентам тарифа Ultra', ultra_mess_count_var)"
   ]
  },
  {
   "cell_type": "code",
   "execution_count": 135,
   "metadata": {},
   "outputs": [
    {
     "name": "stdout",
     "output_type": "stream",
     "text": [
      "Стандартное отклонение по отправленным абонентом в месяц сообщениям по абонентам тарифа Ultra 47.8\n"
     ]
    }
   ],
   "source": [
    "# расчет и вывод стандартного отклонения\n",
    "ultra_mess_count_var_std = round(np.sqrt(ultra_mess_count_var), 1)\n",
    "print('Стандартное отклонение по отправленным абонентом в месяц сообщениям по абонентам тарифа Ultra', ultra_mess_count_var_std)"
   ]
  },
  {
   "cell_type": "markdown",
   "metadata": {},
   "source": [
    "Согласно правилу трех сигм, 99% всех значений находится в пределах +/- 3 стандартных отклонений от среднего значения, соответственно, в данном случае 99% всех значений среднего количества отправленных сообщений в месяц находятся в пределах диапазона:"
   ]
  },
  {
   "cell_type": "code",
   "execution_count": 136,
   "metadata": {},
   "outputs": [
    {
     "name": "stdout",
     "output_type": "stream",
     "text": [
      "от 0 до 193\n"
     ]
    }
   ],
   "source": [
    "print('от', 0, 'до', round((ultra_mess_count_mean + (3*ultra_mess_count_var_std))))"
   ]
  },
  {
   "cell_type": "markdown",
   "metadata": {},
   "source": [
    "Проанализируем данные по **количеству интернет трафика**.\n",
    "\n",
    "Для этого построим гистограмму частот для непрерывной переменной \"интернет трафик\", задав границы \"корзин\"."
   ]
  },
  {
   "cell_type": "code",
   "execution_count": 137,
   "metadata": {
    "scrolled": true
   },
   "outputs": [
    {
     "data": {
      "text/plain": [
       "<AxesSubplot:title={'center':'Тариф Ultra_mb_sum'}>"
      ]
     },
     "execution_count": 137,
     "metadata": {},
     "output_type": "execute_result"
    },
    {
     "data": {
      "image/png": "[encoded data removed]",
      "text/plain": [
       "<Figure size 432x288 with 1 Axes>"
      ]
     },
     "metadata": {
      "needs_background": "light"
     },
     "output_type": "display_data"
    }
   ],
   "source": [
    "# построение гистограммы\n",
    "fig, axes = plt.subplots(sharex=True, sharey=True)\n",
    "fig.text(0.5, 0.04, 'mb_sum', ha='center')\n",
    "fig.text(0.09, 0.9, 'Частота', va='center', rotation='vertical')\n",
    "plt.title('Тариф Ultra_mb_sum')\n",
    "general_concat_ultra['mb_sum'].hist(bins=[5000, 10000, 15000, 20000, 25000, 30000, 35000, 40000, 50000], range=(0, 50000))"
   ]
  },
  {
   "cell_type": "markdown",
   "metadata": {},
   "source": [
    "Распределение близкое к нормальному, при этом датасет скошен вправо (имеет положительую скошенность). \n",
    "\n",
    "По данным гистограммы наиболее часто пользователи тарифа расходуют от 15 до 24 Гб в месяц (менее 1 Гб в день)."
   ]
  },
  {
   "cell_type": "markdown",
   "metadata": {},
   "source": [
    "Построим диаграмму размаха для оценки характерного разброса данных."
   ]
  },
  {
   "cell_type": "code",
   "execution_count": 138,
   "metadata": {},
   "outputs": [
    {
     "data": {
      "text/plain": [
       "<AxesSubplot:>"
      ]
     },
     "execution_count": 138,
     "metadata": {},
     "output_type": "execute_result"
    },
    {
     "data": {
      "image/png": "[encoded data removed]",
      "text/plain": [
       "<Figure size 432x288 with 1 Axes>"
      ]
     },
     "metadata": {
      "needs_background": "light"
     },
     "output_type": "display_data"
    }
   ],
   "source": [
    "# построение диаграммы размаха\n",
    "general_concat_ultra.boxplot(column='mb_sum')"
   ]
  },
  {
   "cell_type": "markdown",
   "metadata": {},
   "source": [
    "По диаграмме размаха видно, что выбросов немного, и они сосредоточены в диапазоне 47 Гб и более."
   ]
  },
  {
   "cell_type": "markdown",
   "metadata": {},
   "source": [
    "Также для оценки разброса применим алгебраические метрики разброса и рассчитаем дисперсию (средний квадрат расстояния между значениями датасета и средним значением), стандартное отклонение (квадратный корень из дисперсии) и выведем среднее значение."
   ]
  },
  {
   "cell_type": "code",
   "execution_count": 139,
   "metadata": {},
   "outputs": [
    {
     "name": "stdout",
     "output_type": "stream",
     "text": [
      "Среднее количество израсходованных абонентом в месяц Гб по абонентам тарифа Ultra 19.0 Гб\n"
     ]
    }
   ],
   "source": [
    "# расчет и вывод среднего количества потраченных абонентом в месяц Гб по абонентам тарифа Ultra\n",
    "ultra_mb_sum_mean = round((general_concat_ultra['mb_sum'].mean()/1024), 1)\n",
    "print('Среднее количество израсходованных абонентом в месяц Гб по абонентам тарифа Ultra', ultra_mb_sum_mean, 'Гб')"
   ]
  },
  {
   "cell_type": "code",
   "execution_count": 140,
   "metadata": {},
   "outputs": [
    {
     "name": "stdout",
     "output_type": "stream",
     "text": [
      "Дисперсия израсходованных абонентом в месяц Гб по абонентам тарифа Ultra 96.9\n"
     ]
    }
   ],
   "source": [
    "# расчет и вывод дисперсии\n",
    "ultra_mb_sum_var = round(np.var(general_concat_ultra['mb_sum']/1024), 1)\n",
    "print('Дисперсия израсходованных абонентом в месяц Гб по абонентам тарифа Ultra', ultra_mb_sum_var)"
   ]
  },
  {
   "cell_type": "code",
   "execution_count": 141,
   "metadata": {
    "scrolled": true
   },
   "outputs": [
    {
     "name": "stdout",
     "output_type": "stream",
     "text": [
      "Стандартное отклонение по израсходованным абонентом в месяц Гб по абонентам тарифа Ultra 9.8\n"
     ]
    }
   ],
   "source": [
    "# расчет и вывод стандартного отклонения\n",
    "ultra_mb_sum_var_std = round(np.sqrt(ultra_mb_sum_var), 1)\n",
    "print('Стандартное отклонение по израсходованным абонентом в месяц Гб по абонентам тарифа Ultra', ultra_mb_sum_var_std)"
   ]
  },
  {
   "cell_type": "markdown",
   "metadata": {},
   "source": [
    "Согласно правилу трех сигм, 99% всех значений находится в пределах +/- 3 стандартных отклонений от среднего значения, соответственно, в данном случае 99% всех значений среднего количества израсходованного трафика в месяц находятся в пределах диапазона:"
   ]
  },
  {
   "cell_type": "code",
   "execution_count": 142,
   "metadata": {
    "scrolled": true
   },
   "outputs": [
    {
     "name": "stdout",
     "output_type": "stream",
     "text": [
      "от -10.4 до 48.4\n"
     ]
    }
   ],
   "source": [
    "# расчет и вывод диапазона по правилу 3х сигм\n",
    "print('от', round((ultra_mb_sum_mean -(3*ultra_mb_sum_var_std)), 1), 'до', round((ultra_mb_sum_mean + (3*ultra_mb_sum_var_std)),1))"
   ]
  },
  {
   "cell_type": "markdown",
   "metadata": {},
   "source": [
    "Поскольку отрицательным количество израсходованных Гб быть не может, левой границей диапазона будет значение 0:"
   ]
  },
  {
   "cell_type": "code",
   "execution_count": 143,
   "metadata": {
    "scrolled": true
   },
   "outputs": [
    {
     "name": "stdout",
     "output_type": "stream",
     "text": [
      "от 0 до 48.4\n"
     ]
    }
   ],
   "source": [
    "print('от', 0, 'до', round((ultra_mb_sum_mean + (3*ultra_mb_sum_var_std)),1))"
   ]
  },
  {
   "cell_type": "markdown",
   "metadata": {},
   "source": [
    "**Особенности тарифа SMART**"
   ]
  },
  {
   "cell_type": "markdown",
   "metadata": {},
   "source": [
    "Для оценки основных особенностей поведения абонентов тарифа Smart построим сводную таблицу со средними данными по месяцам по сумме потраченных минут разговора, количеству отправленных сообщений, объему израсходованного интернет-трафика и среднему доходу."
   ]
  },
  {
   "cell_type": "code",
   "execution_count": 144,
   "metadata": {
    "scrolled": true
   },
   "outputs": [
    {
     "data": {
      "text/html": [
       "<div>\n",
       "<style scoped>\n",
       "    .dataframe tbody tr th:only-of-type {\n",
       "        vertical-align: middle;\n",
       "    }\n",
       "\n",
       "    .dataframe tbody tr th {\n",
       "        vertical-align: top;\n",
       "    }\n",
       "\n",
       "    .dataframe thead tr th {\n",
       "        text-align: left;\n",
       "    }\n",
       "\n",
       "    .dataframe thead tr:last-of-type th {\n",
       "        text-align: right;\n",
       "    }\n",
       "</style>\n",
       "<table border=\"1\" class=\"dataframe\">\n",
       "  <thead>\n",
       "    <tr>\n",
       "      <th></th>\n",
       "      <th colspan=\"5\" halign=\"left\">mean</th>\n",
       "    </tr>\n",
       "    <tr>\n",
       "      <th></th>\n",
       "      <th>calls_sum</th>\n",
       "      <th>mb_sum</th>\n",
       "      <th>mess_count</th>\n",
       "      <th>subscr_fee</th>\n",
       "      <th>total_cost</th>\n",
       "    </tr>\n",
       "    <tr>\n",
       "      <th>month</th>\n",
       "      <th></th>\n",
       "      <th></th>\n",
       "      <th></th>\n",
       "      <th></th>\n",
       "      <th></th>\n",
       "    </tr>\n",
       "  </thead>\n",
       "  <tbody>\n",
       "    <tr>\n",
       "      <th>1</th>\n",
       "      <td>204.0</td>\n",
       "      <td>8514.0</td>\n",
       "      <td>18.0</td>\n",
       "      <td>550</td>\n",
       "      <td>721.0</td>\n",
       "    </tr>\n",
       "    <tr>\n",
       "      <th>2</th>\n",
       "      <td>299.0</td>\n",
       "      <td>11597.0</td>\n",
       "      <td>24.0</td>\n",
       "      <td>550</td>\n",
       "      <td>828.0</td>\n",
       "    </tr>\n",
       "    <tr>\n",
       "      <th>3</th>\n",
       "      <td>390.0</td>\n",
       "      <td>15104.0</td>\n",
       "      <td>32.0</td>\n",
       "      <td>550</td>\n",
       "      <td>1165.0</td>\n",
       "    </tr>\n",
       "    <tr>\n",
       "      <th>4</th>\n",
       "      <td>367.0</td>\n",
       "      <td>13462.0</td>\n",
       "      <td>31.0</td>\n",
       "      <td>550</td>\n",
       "      <td>963.0</td>\n",
       "    </tr>\n",
       "    <tr>\n",
       "      <th>5</th>\n",
       "      <td>387.0</td>\n",
       "      <td>15805.0</td>\n",
       "      <td>34.0</td>\n",
       "      <td>550</td>\n",
       "      <td>1198.0</td>\n",
       "    </tr>\n",
       "    <tr>\n",
       "      <th>6</th>\n",
       "      <td>396.0</td>\n",
       "      <td>15795.0</td>\n",
       "      <td>33.0</td>\n",
       "      <td>550</td>\n",
       "      <td>1204.0</td>\n",
       "    </tr>\n",
       "    <tr>\n",
       "      <th>7</th>\n",
       "      <td>408.0</td>\n",
       "      <td>15743.0</td>\n",
       "      <td>34.0</td>\n",
       "      <td>550</td>\n",
       "      <td>1224.0</td>\n",
       "    </tr>\n",
       "    <tr>\n",
       "      <th>8</th>\n",
       "      <td>421.0</td>\n",
       "      <td>16611.0</td>\n",
       "      <td>34.0</td>\n",
       "      <td>550</td>\n",
       "      <td>1321.0</td>\n",
       "    </tr>\n",
       "    <tr>\n",
       "      <th>9</th>\n",
       "      <td>429.0</td>\n",
       "      <td>16304.0</td>\n",
       "      <td>34.0</td>\n",
       "      <td>550</td>\n",
       "      <td>1250.0</td>\n",
       "    </tr>\n",
       "    <tr>\n",
       "      <th>10</th>\n",
       "      <td>426.0</td>\n",
       "      <td>16757.0</td>\n",
       "      <td>34.0</td>\n",
       "      <td>550</td>\n",
       "      <td>1365.0</td>\n",
       "    </tr>\n",
       "    <tr>\n",
       "      <th>11</th>\n",
       "      <td>435.0</td>\n",
       "      <td>16896.0</td>\n",
       "      <td>34.0</td>\n",
       "      <td>550</td>\n",
       "      <td>1343.0</td>\n",
       "    </tr>\n",
       "    <tr>\n",
       "      <th>12</th>\n",
       "      <td>479.0</td>\n",
       "      <td>18114.0</td>\n",
       "      <td>36.0</td>\n",
       "      <td>550</td>\n",
       "      <td>1579.0</td>\n",
       "    </tr>\n",
       "  </tbody>\n",
       "</table>\n",
       "</div>"
      ],
      "text/plain": [
       "           mean                                          \n",
       "      calls_sum   mb_sum mess_count subscr_fee total_cost\n",
       "month                                                    \n",
       "1         204.0   8514.0       18.0        550      721.0\n",
       "2         299.0  11597.0       24.0        550      828.0\n",
       "3         390.0  15104.0       32.0        550     1165.0\n",
       "4         367.0  13462.0       31.0        550      963.0\n",
       "5         387.0  15805.0       34.0        550     1198.0\n",
       "6         396.0  15795.0       33.0        550     1204.0\n",
       "7         408.0  15743.0       34.0        550     1224.0\n",
       "8         421.0  16611.0       34.0        550     1321.0\n",
       "9         429.0  16304.0       34.0        550     1250.0\n",
       "10        426.0  16757.0       34.0        550     1365.0\n",
       "11        435.0  16896.0       34.0        550     1343.0\n",
       "12        479.0  18114.0       36.0        550     1579.0"
      ]
     },
     "execution_count": 144,
     "metadata": {},
     "output_type": "execute_result"
    }
   ],
   "source": [
    "# построение сводной таблицы со средними значениями по основным параметрам тарифа по месяцам\n",
    "general_concat_smart.pivot_table(\n",
    "    index='month', \n",
    "    values=['calls_sum', 'mess_count', 'mb_sum', 'subscr_fee', 'total_cost'], \n",
    "    aggfunc=['mean']\n",
    ").round()"
   ]
  },
  {
   "cell_type": "markdown",
   "metadata": {},
   "source": [
    "Исходя из данных сводной таблицы, в месяц абоненты тарифа Smart в среднем расходуют:\n",
    "\n",
    "* от 204 до 479 минут (меньше, чем абоненты тарифа Ultra)\n",
    "* от 18 до 36 сообщений (меньше, чем абоненты тарифа Ultra)\n",
    "* от 8 до 18 Гб трафика (меньше, чем абоненты тарифа Ultra)\n",
    "\n",
    "Средний доход по абонентам тарифа Smart составляет от 721 руб до 1583 руб в месяц (меньше, чем по абонентам тарифа Ultra)"
   ]
  },
  {
   "cell_type": "markdown",
   "metadata": {},
   "source": [
    "Также выведем общую статистическую информацию о таблице с данными по абонентам тарифа Smart."
   ]
  },
  {
   "cell_type": "code",
   "execution_count": 145,
   "metadata": {},
   "outputs": [
    {
     "data": {
      "text/html": [
       "<div>\n",
       "<style scoped>\n",
       "    .dataframe tbody tr th:only-of-type {\n",
       "        vertical-align: middle;\n",
       "    }\n",
       "\n",
       "    .dataframe tbody tr th {\n",
       "        vertical-align: top;\n",
       "    }\n",
       "\n",
       "    .dataframe thead th {\n",
       "        text-align: right;\n",
       "    }\n",
       "</style>\n",
       "<table border=\"1\" class=\"dataframe\">\n",
       "  <thead>\n",
       "    <tr style=\"text-align: right;\">\n",
       "      <th></th>\n",
       "      <th>user_id</th>\n",
       "      <th>month</th>\n",
       "      <th>calls_count</th>\n",
       "      <th>calls_sum</th>\n",
       "      <th>mess_count</th>\n",
       "      <th>mb_sum</th>\n",
       "      <th>calls_cost</th>\n",
       "      <th>subscr_fee</th>\n",
       "      <th>mess_cost</th>\n",
       "      <th>int_cost</th>\n",
       "      <th>total_cost</th>\n",
       "    </tr>\n",
       "  </thead>\n",
       "  <tbody>\n",
       "    <tr>\n",
       "      <th>count</th>\n",
       "      <td>2229.0</td>\n",
       "      <td>2229.0</td>\n",
       "      <td>2229.0</td>\n",
       "      <td>2229.0</td>\n",
       "      <td>2229.0</td>\n",
       "      <td>2229.0</td>\n",
       "      <td>2229.0</td>\n",
       "      <td>2229.0</td>\n",
       "      <td>2229.0</td>\n",
       "      <td>2229.0</td>\n",
       "      <td>2229.0</td>\n",
       "    </tr>\n",
       "    <tr>\n",
       "      <th>mean</th>\n",
       "      <td>1247.0</td>\n",
       "      <td>8.0</td>\n",
       "      <td>58.0</td>\n",
       "      <td>418.0</td>\n",
       "      <td>33.0</td>\n",
       "      <td>16208.0</td>\n",
       "      <td>125.0</td>\n",
       "      <td>550.0</td>\n",
       "      <td>17.0</td>\n",
       "      <td>598.0</td>\n",
       "      <td>1290.0</td>\n",
       "    </tr>\n",
       "    <tr>\n",
       "      <th>std</th>\n",
       "      <td>146.0</td>\n",
       "      <td>3.0</td>\n",
       "      <td>26.0</td>\n",
       "      <td>190.0</td>\n",
       "      <td>28.0</td>\n",
       "      <td>5870.0</td>\n",
       "      <td>254.0</td>\n",
       "      <td>0.0</td>\n",
       "      <td>40.0</td>\n",
       "      <td>737.0</td>\n",
       "      <td>818.0</td>\n",
       "    </tr>\n",
       "    <tr>\n",
       "      <th>min</th>\n",
       "      <td>1001.0</td>\n",
       "      <td>1.0</td>\n",
       "      <td>0.0</td>\n",
       "      <td>0.0</td>\n",
       "      <td>0.0</td>\n",
       "      <td>0.0</td>\n",
       "      <td>0.0</td>\n",
       "      <td>550.0</td>\n",
       "      <td>0.0</td>\n",
       "      <td>0.0</td>\n",
       "      <td>550.0</td>\n",
       "    </tr>\n",
       "    <tr>\n",
       "      <th>25%</th>\n",
       "      <td>1121.0</td>\n",
       "      <td>6.0</td>\n",
       "      <td>40.0</td>\n",
       "      <td>282.0</td>\n",
       "      <td>10.0</td>\n",
       "      <td>12643.0</td>\n",
       "      <td>0.0</td>\n",
       "      <td>550.0</td>\n",
       "      <td>0.0</td>\n",
       "      <td>0.0</td>\n",
       "      <td>550.0</td>\n",
       "    </tr>\n",
       "    <tr>\n",
       "      <th>50%</th>\n",
       "      <td>1239.0</td>\n",
       "      <td>9.0</td>\n",
       "      <td>60.0</td>\n",
       "      <td>422.0</td>\n",
       "      <td>28.0</td>\n",
       "      <td>16507.0</td>\n",
       "      <td>0.0</td>\n",
       "      <td>550.0</td>\n",
       "      <td>0.0</td>\n",
       "      <td>400.0</td>\n",
       "      <td>1023.0</td>\n",
       "    </tr>\n",
       "    <tr>\n",
       "      <th>75%</th>\n",
       "      <td>1376.0</td>\n",
       "      <td>11.0</td>\n",
       "      <td>76.0</td>\n",
       "      <td>545.0</td>\n",
       "      <td>51.0</td>\n",
       "      <td>20043.0</td>\n",
       "      <td>135.0</td>\n",
       "      <td>550.0</td>\n",
       "      <td>3.0</td>\n",
       "      <td>1000.0</td>\n",
       "      <td>1750.0</td>\n",
       "    </tr>\n",
       "    <tr>\n",
       "      <th>max</th>\n",
       "      <td>1499.0</td>\n",
       "      <td>12.0</td>\n",
       "      <td>198.0</td>\n",
       "      <td>1435.0</td>\n",
       "      <td>143.0</td>\n",
       "      <td>38552.0</td>\n",
       "      <td>2805.0</td>\n",
       "      <td>550.0</td>\n",
       "      <td>279.0</td>\n",
       "      <td>4600.0</td>\n",
       "      <td>6770.0</td>\n",
       "    </tr>\n",
       "  </tbody>\n",
       "</table>\n",
       "</div>"
      ],
      "text/plain": [
       "       user_id   month  calls_count  calls_sum  mess_count   mb_sum  \\\n",
       "count   2229.0  2229.0       2229.0     2229.0      2229.0   2229.0   \n",
       "mean    1247.0     8.0         58.0      418.0        33.0  16208.0   \n",
       "std      146.0     3.0         26.0      190.0        28.0   5870.0   \n",
       "min     1001.0     1.0          0.0        0.0         0.0      0.0   \n",
       "25%     1121.0     6.0         40.0      282.0        10.0  12643.0   \n",
       "50%     1239.0     9.0         60.0      422.0        28.0  16507.0   \n",
       "75%     1376.0    11.0         76.0      545.0        51.0  20043.0   \n",
       "max     1499.0    12.0        198.0     1435.0       143.0  38552.0   \n",
       "\n",
       "       calls_cost  subscr_fee  mess_cost  int_cost  total_cost  \n",
       "count      2229.0      2229.0     2229.0    2229.0      2229.0  \n",
       "mean        125.0       550.0       17.0     598.0      1290.0  \n",
       "std         254.0         0.0       40.0     737.0       818.0  \n",
       "min           0.0       550.0        0.0       0.0       550.0  \n",
       "25%           0.0       550.0        0.0       0.0       550.0  \n",
       "50%           0.0       550.0        0.0     400.0      1023.0  \n",
       "75%         135.0       550.0        3.0    1000.0      1750.0  \n",
       "max        2805.0       550.0      279.0    4600.0      6770.0  "
      ]
     },
     "execution_count": 145,
     "metadata": {},
     "output_type": "execute_result"
    }
   ],
   "source": [
    "# вывод общей статистический информации о таблице\n",
    "general_concat_smart.describe().round()"
   ]
  },
  {
   "cell_type": "markdown",
   "metadata": {},
   "source": [
    "На основании данных таблицы можно сделать следующие выводы о выборке:\n",
    "1. В таблице 2229 записей (в 2,25 раза больше, чем записей по тарифу Ultra)\n",
    "2. Среднее количество потраченных минут - 418 мин, отправленных сообщений - 33 шт, потраченных Гб трафика - 16 Гб\n",
    "3. Среди абонентов также есть те, кто совсем не использует голосовой и/или интернет трафик, а также те, кто не отправляет сообщения (минимальные значения по этим трем параметрам в выборке равны 0)."
   ]
  },
  {
   "cell_type": "markdown",
   "metadata": {},
   "source": [
    "Проанализируем данные по **минутам разговора**.\n",
    "\n",
    "Для этого построим гистограмму частот для непрерывной переменной \"минуты разговора\", задав границы \"корзин\"."
   ]
  },
  {
   "cell_type": "code",
   "execution_count": 146,
   "metadata": {
    "scrolled": true
   },
   "outputs": [
    {
     "data": {
      "text/plain": [
       "<AxesSubplot:title={'center':'Тариф Smart_calls_sum'}>"
      ]
     },
     "execution_count": 146,
     "metadata": {},
     "output_type": "execute_result"
    },
    {
     "data": {
      "image/png": "[encoded data removed]",
      "text/plain": [
       "<Figure size 432x288 with 1 Axes>"
      ]
     },
     "metadata": {
      "needs_background": "light"
     },
     "output_type": "display_data"
    }
   ],
   "source": [
    "# построение гистограммы\n",
    "fig, axes = plt.subplots(sharex=True, sharey=True)\n",
    "fig.text(0.5, 0.04, 'calls_sum', ha='center')\n",
    "fig.text(0.09, 0.9, 'Частота', va='center', rotation='vertical')\n",
    "plt.title('Тариф Smart_calls_sum')\n",
    "general_concat_smart['calls_sum'].hist(bins=[50, 100, 200, 300, 400, 500, 600, 700, 800, 900, 1000, 1100, 1200, 1300, 1400, 1500], range=(0, 1500))"
   ]
  },
  {
   "cell_type": "markdown",
   "metadata": {},
   "source": [
    "Распределение близкое к нормальному, при этом датасет скошен вправо (имеет положительую скошенность). \n",
    "\n",
    "По данным гистограммы наиболее часто пользователи тарифа расходуют 500 минут в месяц (16-17 минут в день)."
   ]
  },
  {
   "cell_type": "markdown",
   "metadata": {},
   "source": [
    "Построим диаграмму размаха для оценки характерного разброса данных."
   ]
  },
  {
   "cell_type": "code",
   "execution_count": 147,
   "metadata": {},
   "outputs": [
    {
     "data": {
      "text/plain": [
       "<AxesSubplot:>"
      ]
     },
     "execution_count": 147,
     "metadata": {},
     "output_type": "execute_result"
    },
    {
     "data": {
      "image/png": "[encoded data removed]",
      "text/plain": [
       "<Figure size 432x288 with 1 Axes>"
      ]
     },
     "metadata": {
      "needs_background": "light"
     },
     "output_type": "display_data"
    }
   ],
   "source": [
    "# построение диаграммы размаха\n",
    "general_concat_smart.boxplot(column='calls_sum')"
   ]
  },
  {
   "cell_type": "markdown",
   "metadata": {},
   "source": [
    "По диаграмме размаха видно, что выбросов много, и они сосредоточены в диапазоне 900-1400 минут."
   ]
  },
  {
   "cell_type": "markdown",
   "metadata": {},
   "source": [
    "Также для оценки разброса применим алгебраические метрики разброса и рассчитаем дисперсию (средний квадрат расстояния между значениями датасета и средним значением), стандартное отклонение (квадратный корень из дисперсии) и выведем среднее значение."
   ]
  },
  {
   "cell_type": "code",
   "execution_count": 148,
   "metadata": {},
   "outputs": [
    {
     "name": "stdout",
     "output_type": "stream",
     "text": [
      "Среднее количество потраченных абонентом в месяц минут по абонентам тарифа Smart 417.9 мин\n"
     ]
    }
   ],
   "source": [
    "# расчет и вывод среднего количества потраченных абонентом в месяц минут по абонентам тарифа Smart\n",
    "smart_calls_sum_mean = round((general_concat_smart['calls_sum'].mean()), 1)\n",
    "print('Среднее количество потраченных абонентом в месяц минут по абонентам тарифа Smart', smart_calls_sum_mean, 'мин')"
   ]
  },
  {
   "cell_type": "code",
   "execution_count": 149,
   "metadata": {},
   "outputs": [
    {
     "name": "stdout",
     "output_type": "stream",
     "text": [
      "Дисперсия потраченных абонентом в месяц минут по абонентам тарифа Smart 36203.1\n"
     ]
    }
   ],
   "source": [
    "# расчет и вывод дисперсии\n",
    "smart_calls_sum_var = round(np.var(general_concat_smart['calls_sum']), 1)\n",
    "print('Дисперсия потраченных абонентом в месяц минут по абонентам тарифа Smart', smart_calls_sum_var)"
   ]
  },
  {
   "cell_type": "code",
   "execution_count": 150,
   "metadata": {},
   "outputs": [
    {
     "name": "stdout",
     "output_type": "stream",
     "text": [
      "Стандартное отклонение по потраченным абонентом в месяц минутам по абонентам тарифа Smart 190.3\n"
     ]
    }
   ],
   "source": [
    "# расчет и вывод стандартного отклонения\n",
    "smart_calls_sum_var_std = round(np.sqrt(smart_calls_sum_var), 1)\n",
    "print('Стандартное отклонение по потраченным абонентом в месяц минутам по абонентам тарифа Smart', smart_calls_sum_var_std)"
   ]
  },
  {
   "cell_type": "markdown",
   "metadata": {},
   "source": [
    "Согласно правилу трех сигм, 99% всех значений находится в пределах +/- 3 стандартных отклонений от среднего значения, соответственно, в данном случае 99% всех значений среднего количества израсходованных минут в месяц находятся в пределах диапазона:"
   ]
  },
  {
   "cell_type": "code",
   "execution_count": 151,
   "metadata": {},
   "outputs": [
    {
     "name": "stdout",
     "output_type": "stream",
     "text": [
      "от -153.0 до 988.8\n"
     ]
    }
   ],
   "source": [
    "# расчет и вывод диапазона по правилу 3х сигм\n",
    "print('от', round((smart_calls_sum_mean -(3*smart_calls_sum_var_std)), 1), 'до', round((smart_calls_sum_mean + (3*smart_calls_sum_var_std)),1))"
   ]
  },
  {
   "cell_type": "markdown",
   "metadata": {},
   "source": [
    "Поскольку отрицательным количество израсходованных минут быть не может, левой границей диапазона будет значение 0:"
   ]
  },
  {
   "cell_type": "code",
   "execution_count": 152,
   "metadata": {},
   "outputs": [
    {
     "name": "stdout",
     "output_type": "stream",
     "text": [
      "от 0 до 988.8\n"
     ]
    }
   ],
   "source": [
    "print('от', 0, 'до', round((smart_calls_sum_mean + (3*smart_calls_sum_var_std)),1))"
   ]
  },
  {
   "cell_type": "markdown",
   "metadata": {},
   "source": [
    "Проанализируем данные по **количеству сообщений**.\n",
    "\n",
    "Для этого построим гистограмму для дискретной переменной \"количество сообщений\", задав количество \"корзин\"."
   ]
  },
  {
   "cell_type": "code",
   "execution_count": 153,
   "metadata": {},
   "outputs": [
    {
     "data": {
      "text/plain": [
       "<AxesSubplot:title={'center':'Тариф Smart_mess_count'}>"
      ]
     },
     "execution_count": 153,
     "metadata": {},
     "output_type": "execute_result"
    },
    {
     "data": {
      "image/png": "[encoded data removed]",
      "text/plain": [
       "<Figure size 432x288 with 1 Axes>"
      ]
     },
     "metadata": {
      "needs_background": "light"
     },
     "output_type": "display_data"
    }
   ],
   "source": [
    "# построение гистограммы\n",
    "fig, axes = plt.subplots(sharex=True, sharey=True)\n",
    "fig.text(0.5, 0.04, 'mess_count', ha='center')\n",
    "fig.text(0.09, 0.9, 'Частота', va='center', rotation='vertical')\n",
    "plt.title('Тариф Smart_mess_count')\n",
    "general_concat_smart['mess_count'].hist(bins=20, range=(0, 150))"
   ]
  },
  {
   "cell_type": "markdown",
   "metadata": {},
   "source": [
    "На гистограмме отображено распределение Пуассона, при этом датасет сильно скошен вправо (имеет положительую скошенность), поскольку сообщений может быть отправлено от 0 и до бесконечности. \n",
    "\n",
    "По данным гистограммы наиболее часто пользователи тарифа вообще не отправляют сообщения в течение месяца (0 сообщений в месяц)."
   ]
  },
  {
   "cell_type": "markdown",
   "metadata": {},
   "source": [
    "Построим диаграмму размаха для оценки характерного разброса данных."
   ]
  },
  {
   "cell_type": "code",
   "execution_count": 154,
   "metadata": {},
   "outputs": [
    {
     "data": {
      "text/plain": [
       "<AxesSubplot:>"
      ]
     },
     "execution_count": 154,
     "metadata": {},
     "output_type": "execute_result"
    },
    {
     "data": {
      "image/png": "[encoded data removed]",
      "text/plain": [
       "<Figure size 432x288 with 1 Axes>"
      ]
     },
     "metadata": {
      "needs_background": "light"
     },
     "output_type": "display_data"
    }
   ],
   "source": [
    "# построение диаграммы размаха\n",
    "general_concat_smart.boxplot(column='mess_count')"
   ]
  },
  {
   "cell_type": "markdown",
   "metadata": {},
   "source": [
    "По диаграмме размаха видно, что выбросов много, и они сосредоточены в диапазоне 110-145 сообщений."
   ]
  },
  {
   "cell_type": "markdown",
   "metadata": {},
   "source": [
    "Также для оценки разброса применим алгебраические метрики разброса и рассчитаем дисперсию (средний квадрат расстояния между значениями датасета и средним значением), стандартное отклонение (квадратный корень из дисперсии) и выведем среднее значение."
   ]
  },
  {
   "cell_type": "code",
   "execution_count": 155,
   "metadata": {},
   "outputs": [
    {
     "name": "stdout",
     "output_type": "stream",
     "text": [
      "Среднее количество отправленных абонентом в месяц сообщений по абонентам тарифа Smart 33.4 шт\n"
     ]
    }
   ],
   "source": [
    "# расчет и вывод среднего количества отправленных абонентом сообщений в месяц по абонентам тарифа Smart\n",
    "smart_mess_count_mean = round((general_concat_smart['mess_count'].mean()), 1) \n",
    "print('Среднее количество отправленных абонентом в месяц сообщений по абонентам тарифа Smart', smart_mess_count_mean, 'шт')"
   ]
  },
  {
   "cell_type": "code",
   "execution_count": 156,
   "metadata": {},
   "outputs": [
    {
     "name": "stdout",
     "output_type": "stream",
     "text": [
      "Дисперсия отправленных абонентом в месяц сообщений по абонентам тарифа Smart 796.5\n"
     ]
    }
   ],
   "source": [
    "# расчет и вывод дисперсии\n",
    "smart_mess_count_var = round(np.var(general_concat_smart['mess_count']), 1)\n",
    "print('Дисперсия отправленных абонентом в месяц сообщений по абонентам тарифа Smart', smart_mess_count_var)"
   ]
  },
  {
   "cell_type": "code",
   "execution_count": 157,
   "metadata": {},
   "outputs": [
    {
     "name": "stdout",
     "output_type": "stream",
     "text": [
      "Стандартное отклонение по отправленным абонентом в месяц сообщениям по абонентам тарифа Smart 28.2\n"
     ]
    }
   ],
   "source": [
    "# расчет и вывод стандартного отклонения\n",
    "smart_mess_count_var_std = round(np.sqrt(smart_mess_count_var), 1)\n",
    "print('Стандартное отклонение по отправленным абонентом в месяц сообщениям по абонентам тарифа Smart', smart_mess_count_var_std)"
   ]
  },
  {
   "cell_type": "markdown",
   "metadata": {},
   "source": [
    "Согласно правилу трех сигм, 99% всех значений находится в пределах +/- 3 стандартных отклонений от среднего значения, соответственно, в данном случае 99% всех значений среднего количества отправленных сообщений в месяц находятся в пределах диапазона:"
   ]
  },
  {
   "cell_type": "code",
   "execution_count": 158,
   "metadata": {},
   "outputs": [
    {
     "name": "stdout",
     "output_type": "stream",
     "text": [
      "от 0 до 118\n"
     ]
    }
   ],
   "source": [
    "print('от', 0, 'до', round((smart_mess_count_mean + (3*smart_mess_count_var_std))))"
   ]
  },
  {
   "cell_type": "markdown",
   "metadata": {},
   "source": [
    "Проанализируем данные по **количеству интернет трафика**.\n",
    "\n",
    "Для этого построим гистограмму частот для непрерывной переменной \"интернет трафик\", задав границы \"корзин\"."
   ]
  },
  {
   "cell_type": "code",
   "execution_count": 159,
   "metadata": {},
   "outputs": [
    {
     "data": {
      "text/plain": [
       "<AxesSubplot:title={'center':'Тариф Smart_mb_sum'}>"
      ]
     },
     "execution_count": 159,
     "metadata": {},
     "output_type": "execute_result"
    },
    {
     "data": {
      "image/png": "[encoded data removed]",
      "text/plain": [
       "<Figure size 432x288 with 1 Axes>"
      ]
     },
     "metadata": {
      "needs_background": "light"
     },
     "output_type": "display_data"
    }
   ],
   "source": [
    "# построение гистограммы\n",
    "fig, axes = plt.subplots(sharex=True, sharey=True)\n",
    "fig.text(0.5, 0.04, 'mb_sum', ha='center')\n",
    "fig.text(0.09, 0.9, 'Частота', va='center', rotation='vertical')\n",
    "plt.title('Тариф Smart_mb_sum')\n",
    "general_concat_smart['mb_sum'].hist(bins=[1000, 5000, 10000, 15000, 20000, 25000, 30000, 40000], range=(0, 40000))"
   ]
  },
  {
   "cell_type": "markdown",
   "metadata": {},
   "source": [
    "Распределение близкое к нормальному, при этом датасет скошен вправо (имеет положительую скошенность). \n",
    "\n",
    "По данным гистограммы наиболее часто пользователи тарифа расходуют от 14.5 до 19 Гб в месяц (менее 1 Гб в день)."
   ]
  },
  {
   "cell_type": "markdown",
   "metadata": {},
   "source": [
    "Построим диаграмму размаха для оценки характерного разброса данных."
   ]
  },
  {
   "cell_type": "code",
   "execution_count": 160,
   "metadata": {
    "scrolled": true
   },
   "outputs": [
    {
     "data": {
      "text/plain": [
       "<AxesSubplot:>"
      ]
     },
     "execution_count": 160,
     "metadata": {},
     "output_type": "execute_result"
    },
    {
     "data": {
      "image/png": "[encoded data removed]",
      "text/plain": [
       "<Figure size 432x288 with 1 Axes>"
      ]
     },
     "metadata": {
      "needs_background": "light"
     },
     "output_type": "display_data"
    }
   ],
   "source": [
    "# построение диаграммы размаха\n",
    "general_concat_smart.boxplot(column='mb_sum')"
   ]
  },
  {
   "cell_type": "markdown",
   "metadata": {},
   "source": [
    "По диаграмме размаха видно, что выбросов много, и они сосредоточены в диапазоне 0-2 Гб и 31-38 Гб."
   ]
  },
  {
   "cell_type": "markdown",
   "metadata": {},
   "source": [
    "Также для оценки разброса применим алгебраические метрики разброса и рассчитаем дисперсию (средний квадрат расстояния между значениями датасета и средним значением), стандартное отклонение (квадратный корень из дисперсии) и выведем среднее значение."
   ]
  },
  {
   "cell_type": "code",
   "execution_count": 161,
   "metadata": {},
   "outputs": [
    {
     "name": "stdout",
     "output_type": "stream",
     "text": [
      "Среднее количество израсходованных абонентом в месяц Гб по абонентам тарифа Smart 15.8 Гб\n"
     ]
    }
   ],
   "source": [
    "# расчет и вывод среднего количества потраченных абонентом в месяц Гб по абонентам тарифа Smart\n",
    "smart_mb_sum_mean = round((general_concat_smart['mb_sum'].mean()/1024), 1)\n",
    "print('Среднее количество израсходованных абонентом в месяц Гб по абонентам тарифа Smart', smart_mb_sum_mean, 'Гб')"
   ]
  },
  {
   "cell_type": "code",
   "execution_count": 162,
   "metadata": {},
   "outputs": [
    {
     "name": "stdout",
     "output_type": "stream",
     "text": [
      "Дисперсия израсходованных абонентом в месяц Гб по абонентам тарифа Smart 32.9\n"
     ]
    }
   ],
   "source": [
    "# расчет и вывод дисперсии\n",
    "smart_mb_sum_var = round(np.var(general_concat_smart['mb_sum']/1024), 1)\n",
    "print('Дисперсия израсходованных абонентом в месяц Гб по абонентам тарифа Smart', smart_mb_sum_var)"
   ]
  },
  {
   "cell_type": "code",
   "execution_count": 163,
   "metadata": {},
   "outputs": [
    {
     "name": "stdout",
     "output_type": "stream",
     "text": [
      "Стандартное отклонение по израсодованным абонентом в месяц Гб по абонентам тарифа Smart 5.7\n"
     ]
    }
   ],
   "source": [
    "# расчет и вывод стандартного отклонения\n",
    "smart_mb_sum_var_std = round(np.sqrt(smart_mb_sum_var), 1)\n",
    "print('Стандартное отклонение по израсодованным абонентом в месяц Гб по абонентам тарифа Smart', smart_mb_sum_var_std)"
   ]
  },
  {
   "cell_type": "markdown",
   "metadata": {},
   "source": [
    "Согласно правилу трех сигм, 99% всех значений находится в пределах +/- 3 стандартных отклонений от среднего значения, соответственно, в данном случае 99% всех значений среднего количества израсходованного трафика в месяц находятся в пределах диапазона:"
   ]
  },
  {
   "cell_type": "code",
   "execution_count": 164,
   "metadata": {},
   "outputs": [
    {
     "name": "stdout",
     "output_type": "stream",
     "text": [
      "от -1.3 до 32.9\n"
     ]
    }
   ],
   "source": [
    "# расчет и вывод диапазона по правилу 3х сигм\n",
    "print('от', round((smart_mb_sum_mean -(3*smart_mb_sum_var_std)), 1), 'до', round((smart_mb_sum_mean + (3*smart_mb_sum_var_std)),1))"
   ]
  },
  {
   "cell_type": "markdown",
   "metadata": {},
   "source": [
    "Поскольку отрицательным количество израсходованных Гб быть не может, левой границей диапазона будет значение 0:"
   ]
  },
  {
   "cell_type": "code",
   "execution_count": 165,
   "metadata": {},
   "outputs": [
    {
     "name": "stdout",
     "output_type": "stream",
     "text": [
      "от 0 до 32.9\n"
     ]
    }
   ],
   "source": [
    "print('от', 0, 'до', round((smart_mb_sum_mean + (3*smart_mb_sum_var_std)),1))"
   ]
  },
  {
   "cell_type": "markdown",
   "metadata": {},
   "source": [
    "<div style=\"border:solid blue 2px; padding: 20px\"> \n",
    "\n",
    "**Вывод**  \n",
    "\n",
    "Проведен анализ данных выборки для описания поведения абонентов каждого тарифного плана.\n",
    "\n",
    "1. *Тариф Ultra*\n",
    "    \n",
    "Исходя из данных сводной таблицы, в месяц абоненты тарифа Ultra в среднем расходуют:\n",
    "+ от 297 до 593 минут\n",
    "+ от 22 до 61 сообщения\n",
    "+ от 12 до 21 Гб трафика\n",
    "Средний доход по абонентам тарифа Ultra составляет от 1950 руб до 2139 руб в месяц\n",
    "\n",
    "На основании данных таблицы можно сделать следующие выводы о выборке:\n",
    "\n",
    "В таблице 985 записей\n",
    "Среднее количество потраченных минут - 527 мин, отправленных сообщений - 49 шт, потраченных Гб трафика - 19 Гб\n",
    "В выборке есть абоненты, совсем не использующие голосовой и/или интернет трафик, а также те, кто не отправляет сообщения \n",
    "(минимальные значения по этим трем параметрам в выборке равны 0).\n",
    "\n",
    "Звонки:\n",
    "    \n",
    "Распределение близкое к нормальному, при этом датасет скошен вправо (имеет положительую скошенность).\n",
    "По данным гистограммы наиболее часто пользователи тарифа расходуют от 400 до 700 минут в месяц (13-23 минут в день).\n",
    "Выбросов немного, и они сосредоточены в диапазоне 1600-1700 минут.\n",
    "Среднее - 526.6, дисперсия - 100771.2, стандартное отклонение - 317.4\n",
    "\n",
    "Сообщения:\n",
    "    \n",
    "Распределение Пуассона, при этом датасет сильно скошен вправо (имеет положительую скошенность).\n",
    "По данным гистограммы наиболее часто пользователи тарифа вообще не отправляют сообщения в течение месяца (0 сообщений в месяц).\n",
    "Выбросов много, и они сосредоточены в диапазоне 180-250 сообщений.\n",
    "Среднее - 49.4, дисперсия - 2282.9, стандартное отклонение - 47.8\n",
    "\n",
    "Интернет-трафик:\n",
    "    \n",
    "Распределение близкое к нормальному, при этом датасет скошен вправо (имеет положительую скошенность).\n",
    "По данным гистограммы наиболее часто пользователи тарифа расходуют от 15 до 24 Гб в месяц (менее 1 Гб в день).\n",
    "Выбросов немного, и они сосредоточены в диапазоне 47 Гб и более.\n",
    "Среднее - 19.0, дисперсия - 97.1, стандартное отклонение - 9.9\n",
    "\n",
    "2. *Тариф Smart*\n",
    "    \n",
    "Исходя из данных сводной таблицы, в месяц абоненты тарифа Smart в среднем расходуют:\n",
    "+ от 204 до 479 минут (меньше, чем абоненты тарифа Ultra)\n",
    "+ от 18 до 36 сообщений (меньше, чем абоненты тарифа Ultra)\n",
    "+ от 8 до 18 Гб трафика (меньше, чем абоненты тарифа Ultra)\n",
    "Средний доход по абонентам тарифа Smart составляет от 721 руб до 1583 руб в месяц (меньше, чем по абонентам тарифа Ultra)\n",
    "\n",
    "На основании данных таблицы можно сделать следующие выводы о выборке:\n",
    "\n",
    "В таблице 2229 записей (в 2,25 раза больше, чем записей по тарифу Ultra)\n",
    "Среднее количество потраченных минут - 418 мин, отправленных сообщений - 33 шт, потраченных Гб трафика - 16 Гб\n",
    "Среди абонентов также есть те, кто совсем не использует голосовой и/или интернет трафик, а также те, кто не отправляет \n",
    "сообщения (минимальные значения по этим трем параметрам в выборке равны 0).\n",
    "\n",
    "Звонки:\n",
    "    \n",
    "Распределение близкое к нормальному, при этом датасет скошен вправо (имеет положительую скошенность).\n",
    "По данным гистограммы наиболее часто пользователи тарифа расходуют 500 минут в месяц (16-17 минут в день).\n",
    "Выбросов много, и они сосредоточены в диапазоне 900-1400 минут.\n",
    "Среднее - 417.9, дисперсия - 36203.1, стандартное отклонение - 190.3\n",
    "\n",
    "Сообщения:\n",
    "    \n",
    "Распределение Пуассона, при этом датасет сильно скошен вправо (имеет положительую скошенность).\n",
    "По данным гистограммы наиболее часто пользователи тарифа вообще не отправляют сообщения в течение месяца (0 сообщений в месяц).\n",
    "Выбросов много, и они сосредоточены в диапазоне 110-145 сообщений.\n",
    "Среднее - 33.4, дисперсия - 796.5, стандартное отклонение - 28.2\n",
    "\n",
    "Интернет-трафик:\n",
    "    \n",
    "Распределение близкое к нормальному, при этом датасет скошен вправо (имеет положительую скошенность).\n",
    "По данным гистограммы наиболее часто пользователи тарифа расходуют от 14.5 до 19 Гб в месяц (менее 1 Гб в день).\n",
    "Выбросов много, и они сосредоточены в диапазоне 0-2 Гб и 31-38 Гб.\n",
    "Среднее - 15.8, дисперсия - 32.9, стандартное отклонение - 5.7\n",
    "\n",
    "</div>"
   ]
  },
  {
   "cell_type": "markdown",
   "metadata": {},
   "source": [
    "Соберем таблицы с данными по двум тарифам для удобства сравнения."
   ]
  },
  {
   "cell_type": "markdown",
   "metadata": {},
   "source": [
    "**Тариф Ultra**"
   ]
  },
  {
   "cell_type": "code",
   "execution_count": 166,
   "metadata": {},
   "outputs": [
    {
     "data": {
      "text/html": [
       "<div>\n",
       "<style scoped>\n",
       "    .dataframe tbody tr th:only-of-type {\n",
       "        vertical-align: middle;\n",
       "    }\n",
       "\n",
       "    .dataframe tbody tr th {\n",
       "        vertical-align: top;\n",
       "    }\n",
       "\n",
       "    .dataframe thead th {\n",
       "        text-align: right;\n",
       "    }\n",
       "</style>\n",
       "<table border=\"1\" class=\"dataframe\">\n",
       "  <thead>\n",
       "    <tr style=\"text-align: right;\">\n",
       "      <th></th>\n",
       "      <th>Type_traf</th>\n",
       "      <th>Mean</th>\n",
       "      <th>Variance</th>\n",
       "      <th>STD</th>\n",
       "      <th>Range</th>\n",
       "    </tr>\n",
       "  </thead>\n",
       "  <tbody>\n",
       "    <tr>\n",
       "      <th>0</th>\n",
       "      <td>Звонки</td>\n",
       "      <td>526.6</td>\n",
       "      <td>100771.2</td>\n",
       "      <td>317.4</td>\n",
       "      <td>от 0 до 1478.8</td>\n",
       "    </tr>\n",
       "    <tr>\n",
       "      <th>1</th>\n",
       "      <td>Сообщения</td>\n",
       "      <td>49.4</td>\n",
       "      <td>2282.9</td>\n",
       "      <td>47.8</td>\n",
       "      <td>от 0 до 193</td>\n",
       "    </tr>\n",
       "    <tr>\n",
       "      <th>2</th>\n",
       "      <td>Интернет</td>\n",
       "      <td>19.0</td>\n",
       "      <td>96.9</td>\n",
       "      <td>9.8</td>\n",
       "      <td>от 0 до 48.4</td>\n",
       "    </tr>\n",
       "  </tbody>\n",
       "</table>\n",
       "</div>"
      ],
      "text/plain": [
       "   Type_traf   Mean  Variance    STD           Range\n",
       "0     Звонки  526.6  100771.2  317.4  от 0 до 1478.8\n",
       "1  Сообщения   49.4    2282.9   47.8     от 0 до 193\n",
       "2   Интернет   19.0      96.9    9.8    от 0 до 48.4"
      ]
     },
     "metadata": {},
     "output_type": "display_data"
    }
   ],
   "source": [
    "Ultra_Data = {\n",
    "'Type_traf':['Звонки', 'Сообщения', 'Интернет'],\n",
    "'Mean':[526.6,49.4,19],\n",
    "'Variance':[100771.2,2282.9,96.9],\n",
    "'STD':[317.4,47.8,9.8],\n",
    "'Range':['от 0 до 1478.8', 'от 0 до 193', 'от 0 до 48.4']\n",
    "}\n",
    "result = pd.DataFrame(Ultra_Data)\n",
    "display(result)"
   ]
  },
  {
   "cell_type": "markdown",
   "metadata": {},
   "source": [
    "**Тариф Smart**"
   ]
  },
  {
   "cell_type": "code",
   "execution_count": 167,
   "metadata": {},
   "outputs": [
    {
     "data": {
      "text/html": [
       "<div>\n",
       "<style scoped>\n",
       "    .dataframe tbody tr th:only-of-type {\n",
       "        vertical-align: middle;\n",
       "    }\n",
       "\n",
       "    .dataframe tbody tr th {\n",
       "        vertical-align: top;\n",
       "    }\n",
       "\n",
       "    .dataframe thead th {\n",
       "        text-align: right;\n",
       "    }\n",
       "</style>\n",
       "<table border=\"1\" class=\"dataframe\">\n",
       "  <thead>\n",
       "    <tr style=\"text-align: right;\">\n",
       "      <th></th>\n",
       "      <th>Type_traf</th>\n",
       "      <th>Mean</th>\n",
       "      <th>Variance</th>\n",
       "      <th>STD</th>\n",
       "      <th>Range</th>\n",
       "    </tr>\n",
       "  </thead>\n",
       "  <tbody>\n",
       "    <tr>\n",
       "      <th>0</th>\n",
       "      <td>Звонки</td>\n",
       "      <td>417.9</td>\n",
       "      <td>36203.1</td>\n",
       "      <td>190.3</td>\n",
       "      <td>от 0 до 988.8</td>\n",
       "    </tr>\n",
       "    <tr>\n",
       "      <th>1</th>\n",
       "      <td>Сообщения</td>\n",
       "      <td>33.4</td>\n",
       "      <td>796.5</td>\n",
       "      <td>28.2</td>\n",
       "      <td>от 0 до 118</td>\n",
       "    </tr>\n",
       "    <tr>\n",
       "      <th>2</th>\n",
       "      <td>Интернет</td>\n",
       "      <td>15.8</td>\n",
       "      <td>32.9</td>\n",
       "      <td>5.7</td>\n",
       "      <td>от 0 до 32.9</td>\n",
       "    </tr>\n",
       "  </tbody>\n",
       "</table>\n",
       "</div>"
      ],
      "text/plain": [
       "   Type_traf   Mean  Variance    STD          Range\n",
       "0     Звонки  417.9   36203.1  190.3  от 0 до 988.8\n",
       "1  Сообщения   33.4     796.5   28.2    от 0 до 118\n",
       "2   Интернет   15.8      32.9    5.7   от 0 до 32.9"
      ]
     },
     "metadata": {},
     "output_type": "display_data"
    }
   ],
   "source": [
    "Smart_Data = {\n",
    "'Type_traf':['Звонки', 'Сообщения', 'Интернет'],\n",
    "'Mean':[417.9, 33.4, 15.8],\n",
    "'Variance':[36203.1, 796.5, 32.9],\n",
    "'STD':[190.3, 28.2, 5.7],\n",
    "'Range':['от 0 до 988.8', 'от 0 до 118', 'от 0 до 32.9']\n",
    "}\n",
    "result = pd.DataFrame(Smart_Data)\n",
    "display(result)"
   ]
  },
  {
   "cell_type": "markdown",
   "metadata": {},
   "source": [
    "**Calls**"
   ]
  },
  {
   "cell_type": "code",
   "execution_count": 168,
   "metadata": {},
   "outputs": [
    {
     "data": {
      "image/png": "[encoded data removed]",
      "text/plain": [
       "<Figure size 432x288 with 1 Axes>"
      ]
     },
     "metadata": {
      "needs_background": "light"
     },
     "output_type": "display_data"
    }
   ],
   "source": [
    "fig, axes = plt.subplots(sharex=True, sharey=True)\n",
    "fig.text(0.5, 0.04, 'calls_sum', ha='center')\n",
    "fig.text(0.09, 0.9, 'Частота', va='center', rotation='vertical')\n",
    "plt.title('Calls_sum')\n",
    "general_concat_ultra['calls_sum'].hist(alpha = 0.6, bins=[50, 200, 400, 700, 1000, 1300, 1500], range=(0, 1700))\n",
    "general_concat_smart['calls_sum'].hist(alpha = 0.6, bins=[50, 100, 200, 300, 400, 500, 600, 700, 800, 900, 1000, 1100, 1200, 1300, 1400, 1500], range=(0, 1500))\n",
    "plt.legend(['ultra', 'smart'])\n",
    "plt.show()"
   ]
  },
  {
   "cell_type": "markdown",
   "metadata": {},
   "source": [
    "**Messages**"
   ]
  },
  {
   "cell_type": "code",
   "execution_count": 169,
   "metadata": {},
   "outputs": [
    {
     "data": {
      "image/png": "[encoded data removed]",
      "text/plain": [
       "<Figure size 432x288 with 1 Axes>"
      ]
     },
     "metadata": {
      "needs_background": "light"
     },
     "output_type": "display_data"
    }
   ],
   "source": [
    "fig, axes = plt.subplots(sharex=True, sharey=True)\n",
    "fig.text(0.5, 0.04, 'calls_sum', ha='center')\n",
    "fig.text(0.09, 0.9, 'Частота', va='center', rotation='vertical')\n",
    "plt.title('Mess_count')\n",
    "general_concat_ultra['mess_count'].hist(alpha = 0.6, bins=30, range=(0, 250))\n",
    "general_concat_smart['mess_count'].hist(alpha = 0.6, bins=20, range=(0, 150))\n",
    "plt.legend(['ultra', 'smart'])\n",
    "plt.show()"
   ]
  },
  {
   "cell_type": "markdown",
   "metadata": {},
   "source": [
    "**Internet**"
   ]
  },
  {
   "cell_type": "code",
   "execution_count": 170,
   "metadata": {},
   "outputs": [
    {
     "data": {
      "image/png": "[encoded data removed]",
      "text/plain": [
       "<Figure size 432x288 with 1 Axes>"
      ]
     },
     "metadata": {
      "needs_background": "light"
     },
     "output_type": "display_data"
    }
   ],
   "source": [
    "fig, axes = plt.subplots(sharex=True, sharey=True)\n",
    "fig.text(0.5, 0.04, 'Mb_sum', ha='center')\n",
    "fig.text(0.09, 0.9, 'Частота', va='center', rotation='vertical')\n",
    "plt.title('Mb_sum')\n",
    "general_concat_ultra['mb_sum'].hist(alpha = 0.6, bins=[5000, 10000, 15000, 20000, 25000, 30000, 35000, 40000, 50000], range=(0, 50000))\n",
    "general_concat_smart['mb_sum'].hist(alpha = 0.6, bins=[1000, 5000, 10000, 15000, 20000, 25000, 30000, 40000], range=(0, 40000))\n",
    "plt.legend(['ultra', 'smart'])\n",
    "plt.show()"
   ]
  },
  {
   "cell_type": "markdown",
   "metadata": {},
   "source": [
    "**Total cost**"
   ]
  },
  {
   "cell_type": "code",
   "execution_count": 171,
   "metadata": {
    "scrolled": true
   },
   "outputs": [
    {
     "data": {
      "image/png": "[encoded data removed]",
      "text/plain": [
       "<Figure size 432x288 with 1 Axes>"
      ]
     },
     "metadata": {
      "needs_background": "light"
     },
     "output_type": "display_data"
    }
   ],
   "source": [
    "fig, axes = plt.subplots(sharex=True, sharey=True)\n",
    "fig.text(0.5, 0.04, 'Total_cost', ha='center')\n",
    "fig.text(0.09, 0.9, 'Частота', va='center', rotation='vertical')\n",
    "plt.title('Total_cost')\n",
    "general_concat_ultra['total_cost'].hist(alpha = 0.6, bins=[700, 1000, 2000, 3000, 4000, 5000], range=(0, 5000))\n",
    "general_concat_smart['total_cost'].hist(alpha = 0.6, bins=[700, 1000, 2000, 3000, 4000, 5000, 6000, 7000], range=(0, 7000))\n",
    "plt.legend(['ultra', 'smart'])\n",
    "plt.show()"
   ]
  },
  {
   "cell_type": "markdown",
   "metadata": {},
   "source": [
    "## Шаг 4. Проверка гипотез"
   ]
  },
  {
   "cell_type": "markdown",
   "metadata": {},
   "source": [
    "Сформулируем пары гипотез (нулевую и альтернативную) для проверки предположений:\n",
    "1.\tсредняя выручка пользователей тарифов «Ультра» и «Смарт» различаются;\n",
    "2.\tсредняя выручка пользователей из Москвы отличается от выручки пользователей из других регионов.\n",
    "\n",
    "Первая пара гипотез будет звучать так:\n",
    "\n",
    "**H₀**: Средняя выручка по пользователям тарифа «Ультра» равна средней выручке по пользователям тарифа «Смарт»\n",
    "\n",
    "**H₁**: Средняя выручка по пользователям тарифа «Ультра» не равна средней выручке по пользователям тарифа «Смарт»\n",
    "\n",
    "Вторая пара гипотез будет звучать так:\n",
    "\n",
    "**H₀**: Средняя выручка по пользователям из Москвы равна выручке от пользователей из других регионов\n",
    "\n",
    "**H₁**: Средняя выручка по пользователям из Москвы не равна выручке от пользователей из других регионов\n",
    "\n",
    "Первая гипотеза H₀ всегда формулируется так, чтобы использовать знак равенства. Альтернативная гипотеза H₁ формулируется, исходя из нулевой гипотезы. Если полученные в результате проверки данные не будут противоречить гипотезе H₀, это будет означать, что мы ее не отвергнем. Если же окажется, что получить такие данные в рамках этой гипотезы вряд ли возможно, у нас появляется основание отбросить эту гипотезу и рассмотреть альтернативную гипотезу H₁. \n",
    "\n",
    "Если гипотеза H₀ верна, мы будем наблюдать нормальное распределение вокруг интересующего нас параметра — среднего. Дисперсию, или стандартное отклонение, мы оценим по данным выборки.\n",
    "\n",
    "Уровень значимости (суммарная вероятность того, что измеренное эмпирически значение окажется далеко от среднего) установим на отметке 0,05. Если наблюдаемое на выборке значение попадает в эту зону, вероятность такого события при верной нулевой гипотезе признаётся слишком малой, значит, у нас есть основание отвергнуть нулевую гипотезу. Когда значение попадает в зону «Не твергаем H₀», то оснований отвергать нулевую гипотезу нет. Считаем, что эмпирически полученные данные не противоречат нулевой гипотезе."
   ]
  },
  {
   "cell_type": "markdown",
   "metadata": {},
   "source": [
    "Для работы над гипотезами перезапишем индексацию у таблиц с данными по тарифу Ultra и тарифу Smart, чтобы далее нам было удобнее обогатить эти таблицы данными о городе абонента."
   ]
  },
  {
   "cell_type": "code",
   "execution_count": 172,
   "metadata": {},
   "outputs": [
    {
     "data": {
      "text/html": [
       "<div>\n",
       "<style scoped>\n",
       "    .dataframe tbody tr th:only-of-type {\n",
       "        vertical-align: middle;\n",
       "    }\n",
       "\n",
       "    .dataframe tbody tr th {\n",
       "        vertical-align: top;\n",
       "    }\n",
       "\n",
       "    .dataframe thead th {\n",
       "        text-align: right;\n",
       "    }\n",
       "</style>\n",
       "<table border=\"1\" class=\"dataframe\">\n",
       "  <thead>\n",
       "    <tr style=\"text-align: right;\">\n",
       "      <th></th>\n",
       "      <th>user_id</th>\n",
       "      <th>month</th>\n",
       "      <th>tariff</th>\n",
       "      <th>calls_count</th>\n",
       "      <th>calls_sum</th>\n",
       "      <th>mess_count</th>\n",
       "      <th>mb_sum</th>\n",
       "      <th>calls_cost</th>\n",
       "      <th>subscr_fee</th>\n",
       "      <th>mess_cost</th>\n",
       "      <th>int_cost</th>\n",
       "      <th>total_cost</th>\n",
       "    </tr>\n",
       "  </thead>\n",
       "  <tbody>\n",
       "    <tr>\n",
       "      <th>0</th>\n",
       "      <td>1000</td>\n",
       "      <td>5</td>\n",
       "      <td>ultra</td>\n",
       "      <td>22.0</td>\n",
       "      <td>159.0</td>\n",
       "      <td>22.0</td>\n",
       "      <td>2253.49</td>\n",
       "      <td>0.0</td>\n",
       "      <td>1950</td>\n",
       "      <td>0.0</td>\n",
       "      <td>0.0</td>\n",
       "      <td>1950.0</td>\n",
       "    </tr>\n",
       "    <tr>\n",
       "      <th>1</th>\n",
       "      <td>1000</td>\n",
       "      <td>6</td>\n",
       "      <td>ultra</td>\n",
       "      <td>43.0</td>\n",
       "      <td>172.0</td>\n",
       "      <td>60.0</td>\n",
       "      <td>23233.77</td>\n",
       "      <td>0.0</td>\n",
       "      <td>1950</td>\n",
       "      <td>0.0</td>\n",
       "      <td>0.0</td>\n",
       "      <td>1950.0</td>\n",
       "    </tr>\n",
       "    <tr>\n",
       "      <th>2</th>\n",
       "      <td>1000</td>\n",
       "      <td>7</td>\n",
       "      <td>ultra</td>\n",
       "      <td>47.0</td>\n",
       "      <td>340.0</td>\n",
       "      <td>75.0</td>\n",
       "      <td>14003.64</td>\n",
       "      <td>0.0</td>\n",
       "      <td>1950</td>\n",
       "      <td>0.0</td>\n",
       "      <td>0.0</td>\n",
       "      <td>1950.0</td>\n",
       "    </tr>\n",
       "    <tr>\n",
       "      <th>3</th>\n",
       "      <td>1000</td>\n",
       "      <td>8</td>\n",
       "      <td>ultra</td>\n",
       "      <td>52.0</td>\n",
       "      <td>408.0</td>\n",
       "      <td>81.0</td>\n",
       "      <td>14055.93</td>\n",
       "      <td>0.0</td>\n",
       "      <td>1950</td>\n",
       "      <td>0.0</td>\n",
       "      <td>0.0</td>\n",
       "      <td>1950.0</td>\n",
       "    </tr>\n",
       "    <tr>\n",
       "      <th>4</th>\n",
       "      <td>1000</td>\n",
       "      <td>9</td>\n",
       "      <td>ultra</td>\n",
       "      <td>58.0</td>\n",
       "      <td>466.0</td>\n",
       "      <td>57.0</td>\n",
       "      <td>14568.91</td>\n",
       "      <td>0.0</td>\n",
       "      <td>1950</td>\n",
       "      <td>0.0</td>\n",
       "      <td>0.0</td>\n",
       "      <td>1950.0</td>\n",
       "    </tr>\n",
       "  </tbody>\n",
       "</table>\n",
       "</div>"
      ],
      "text/plain": [
       "   user_id  month tariff  calls_count  calls_sum  mess_count    mb_sum  \\\n",
       "0     1000      5  ultra         22.0      159.0        22.0   2253.49   \n",
       "1     1000      6  ultra         43.0      172.0        60.0  23233.77   \n",
       "2     1000      7  ultra         47.0      340.0        75.0  14003.64   \n",
       "3     1000      8  ultra         52.0      408.0        81.0  14055.93   \n",
       "4     1000      9  ultra         58.0      466.0        57.0  14568.91   \n",
       "\n",
       "   calls_cost  subscr_fee  mess_cost  int_cost  total_cost  \n",
       "0         0.0        1950        0.0       0.0      1950.0  \n",
       "1         0.0        1950        0.0       0.0      1950.0  \n",
       "2         0.0        1950        0.0       0.0      1950.0  \n",
       "3         0.0        1950        0.0       0.0      1950.0  \n",
       "4         0.0        1950        0.0       0.0      1950.0  "
      ]
     },
     "execution_count": 172,
     "metadata": {},
     "output_type": "execute_result"
    }
   ],
   "source": [
    "# переиндексация таблицы с данными по тарифу Ultra\n",
    "general_concat_ultra.reset_index(drop=True).head()"
   ]
  },
  {
   "cell_type": "code",
   "execution_count": 173,
   "metadata": {},
   "outputs": [
    {
     "data": {
      "text/html": [
       "<div>\n",
       "<style scoped>\n",
       "    .dataframe tbody tr th:only-of-type {\n",
       "        vertical-align: middle;\n",
       "    }\n",
       "\n",
       "    .dataframe tbody tr th {\n",
       "        vertical-align: top;\n",
       "    }\n",
       "\n",
       "    .dataframe thead th {\n",
       "        text-align: right;\n",
       "    }\n",
       "</style>\n",
       "<table border=\"1\" class=\"dataframe\">\n",
       "  <thead>\n",
       "    <tr style=\"text-align: right;\">\n",
       "      <th></th>\n",
       "      <th>user_id</th>\n",
       "      <th>month</th>\n",
       "      <th>tariff</th>\n",
       "      <th>calls_count</th>\n",
       "      <th>calls_sum</th>\n",
       "      <th>mess_count</th>\n",
       "      <th>mb_sum</th>\n",
       "      <th>calls_cost</th>\n",
       "      <th>subscr_fee</th>\n",
       "      <th>mess_cost</th>\n",
       "      <th>int_cost</th>\n",
       "      <th>total_cost</th>\n",
       "    </tr>\n",
       "  </thead>\n",
       "  <tbody>\n",
       "    <tr>\n",
       "      <th>0</th>\n",
       "      <td>1001</td>\n",
       "      <td>11</td>\n",
       "      <td>smart</td>\n",
       "      <td>59.0</td>\n",
       "      <td>430.0</td>\n",
       "      <td>0.0</td>\n",
       "      <td>18429.34</td>\n",
       "      <td>0.0</td>\n",
       "      <td>550</td>\n",
       "      <td>0.0</td>\n",
       "      <td>600.0</td>\n",
       "      <td>1150.0</td>\n",
       "    </tr>\n",
       "    <tr>\n",
       "      <th>1</th>\n",
       "      <td>1001</td>\n",
       "      <td>12</td>\n",
       "      <td>smart</td>\n",
       "      <td>63.0</td>\n",
       "      <td>414.0</td>\n",
       "      <td>0.0</td>\n",
       "      <td>14036.66</td>\n",
       "      <td>0.0</td>\n",
       "      <td>550</td>\n",
       "      <td>0.0</td>\n",
       "      <td>0.0</td>\n",
       "      <td>550.0</td>\n",
       "    </tr>\n",
       "    <tr>\n",
       "      <th>2</th>\n",
       "      <td>1002</td>\n",
       "      <td>6</td>\n",
       "      <td>smart</td>\n",
       "      <td>15.0</td>\n",
       "      <td>117.0</td>\n",
       "      <td>4.0</td>\n",
       "      <td>10856.82</td>\n",
       "      <td>0.0</td>\n",
       "      <td>550</td>\n",
       "      <td>0.0</td>\n",
       "      <td>0.0</td>\n",
       "      <td>550.0</td>\n",
       "    </tr>\n",
       "    <tr>\n",
       "      <th>3</th>\n",
       "      <td>1002</td>\n",
       "      <td>7</td>\n",
       "      <td>smart</td>\n",
       "      <td>26.0</td>\n",
       "      <td>214.0</td>\n",
       "      <td>11.0</td>\n",
       "      <td>17580.10</td>\n",
       "      <td>0.0</td>\n",
       "      <td>550</td>\n",
       "      <td>0.0</td>\n",
       "      <td>600.0</td>\n",
       "      <td>1150.0</td>\n",
       "    </tr>\n",
       "    <tr>\n",
       "      <th>4</th>\n",
       "      <td>1002</td>\n",
       "      <td>8</td>\n",
       "      <td>smart</td>\n",
       "      <td>42.0</td>\n",
       "      <td>289.0</td>\n",
       "      <td>13.0</td>\n",
       "      <td>20319.26</td>\n",
       "      <td>0.0</td>\n",
       "      <td>550</td>\n",
       "      <td>0.0</td>\n",
       "      <td>1000.0</td>\n",
       "      <td>1550.0</td>\n",
       "    </tr>\n",
       "  </tbody>\n",
       "</table>\n",
       "</div>"
      ],
      "text/plain": [
       "   user_id  month tariff  calls_count  calls_sum  mess_count    mb_sum  \\\n",
       "0     1001     11  smart         59.0      430.0         0.0  18429.34   \n",
       "1     1001     12  smart         63.0      414.0         0.0  14036.66   \n",
       "2     1002      6  smart         15.0      117.0         4.0  10856.82   \n",
       "3     1002      7  smart         26.0      214.0        11.0  17580.10   \n",
       "4     1002      8  smart         42.0      289.0        13.0  20319.26   \n",
       "\n",
       "   calls_cost  subscr_fee  mess_cost  int_cost  total_cost  \n",
       "0         0.0         550        0.0     600.0      1150.0  \n",
       "1         0.0         550        0.0       0.0       550.0  \n",
       "2         0.0         550        0.0       0.0       550.0  \n",
       "3         0.0         550        0.0     600.0      1150.0  \n",
       "4         0.0         550        0.0    1000.0      1550.0  "
      ]
     },
     "execution_count": 173,
     "metadata": {},
     "output_type": "execute_result"
    }
   ],
   "source": [
    "# переиндексация таблицы с данными по тарифу Smart\n",
    "general_concat_smart.reset_index(drop=True).head()"
   ]
  },
  {
   "cell_type": "markdown",
   "metadata": {},
   "source": [
    "Чтобы проверить гипотезу о равенстве среднего двух генеральных совокупностей по взятым из них выборкам, применим метод scipy.stats.ttest_ind()."
   ]
  },
  {
   "cell_type": "code",
   "execution_count": 174,
   "metadata": {},
   "outputs": [],
   "source": [
    "# импорт библиотеки scipy\n",
    "from scipy import stats as st"
   ]
  },
  {
   "cell_type": "markdown",
   "metadata": {},
   "source": [
    "**Первая пара гипотез**\n",
    "\n",
    "**H₀**: Средняя выручка по пользователям тарифа «Ультра» равна средней выручке по пользователям тарифа «Смарт»\n",
    "\n",
    "**H₁**: Средняя выручка по пользователям тарифа «Ультра» не равна средней выручке по пользователям тарифа «Смарт»"
   ]
  },
  {
   "cell_type": "markdown",
   "metadata": {},
   "source": [
    "Применим метод scipy.stats.ttest_ind() для определения вероятности равенства средней выручки по абонентам двух тарифов."
   ]
  },
  {
   "cell_type": "code",
   "execution_count": 175,
   "metadata": {},
   "outputs": [
    {
     "name": "stdout",
     "output_type": "stream",
     "text": [
      "p-значение: 1.4229814360764067e-160\n",
      "Отвергаем нулевую гипотезу\n"
     ]
    }
   ],
   "source": [
    "# применение метода\n",
    "alpha = .05\n",
    "results = st.ttest_ind(\n",
    "    general_concat_ultra['total_cost'], \n",
    "    general_concat_smart['total_cost'])\n",
    "\n",
    "print('p-значение:', results.pvalue)\n",
    "\n",
    "if results.pvalue < alpha:\n",
    "    print(\"Отвергаем нулевую гипотезу\")\n",
    "else:\n",
    "    print(\"Не получилось отвергнуть нулевую гипотезу\")"
   ]
  },
  {
   "cell_type": "markdown",
   "metadata": {},
   "source": [
    "Поскольку вероятность получить такие события, которые сформулированы в нулевой гипотезе, крайне мала (меньше уровня значимости), мы вынуждены отвергнуть эту гипотезу."
   ]
  },
  {
   "cell_type": "markdown",
   "metadata": {},
   "source": [
    "**Вторая пара гипотез**\n",
    "\n",
    "**H₀**: Средняя выручка по пользователям из Москвы равна выручке от пользователей из других регионов\n",
    "\n",
    "**H₁**: Средняя выручка по пользователям из Москвы не равна выручке от пользователей из других регионов"
   ]
  },
  {
   "cell_type": "markdown",
   "metadata": {},
   "source": [
    "Для проведения работы над второй парой гипотез, объединим таблицы по абонентам тарифов и сделаем переиндексацию."
   ]
  },
  {
   "cell_type": "code",
   "execution_count": 176,
   "metadata": {},
   "outputs": [],
   "source": [
    "# объединение таблиц с переиндексацией\n",
    "smart_ultra_city = pd.concat(\n",
    "    [general_concat_ultra, general_concat_smart], axis=0, join='outer', ignore_index=True).reset_index(drop=True)"
   ]
  },
  {
   "cell_type": "markdown",
   "metadata": {},
   "source": [
    "Проверим, все ли строки попали в объединенную таблицу."
   ]
  },
  {
   "cell_type": "code",
   "execution_count": 177,
   "metadata": {},
   "outputs": [
    {
     "data": {
      "text/html": [
       "<div>\n",
       "<style scoped>\n",
       "    .dataframe tbody tr th:only-of-type {\n",
       "        vertical-align: middle;\n",
       "    }\n",
       "\n",
       "    .dataframe tbody tr th {\n",
       "        vertical-align: top;\n",
       "    }\n",
       "\n",
       "    .dataframe thead th {\n",
       "        text-align: right;\n",
       "    }\n",
       "</style>\n",
       "<table border=\"1\" class=\"dataframe\">\n",
       "  <thead>\n",
       "    <tr style=\"text-align: right;\">\n",
       "      <th></th>\n",
       "      <th>user_id</th>\n",
       "    </tr>\n",
       "    <tr>\n",
       "      <th>tariff</th>\n",
       "      <th></th>\n",
       "    </tr>\n",
       "  </thead>\n",
       "  <tbody>\n",
       "    <tr>\n",
       "      <th>smart</th>\n",
       "      <td>2229</td>\n",
       "    </tr>\n",
       "    <tr>\n",
       "      <th>ultra</th>\n",
       "      <td>985</td>\n",
       "    </tr>\n",
       "  </tbody>\n",
       "</table>\n",
       "</div>"
      ],
      "text/plain": [
       "        user_id\n",
       "tariff         \n",
       "smart      2229\n",
       "ultra       985"
      ]
     },
     "execution_count": 177,
     "metadata": {},
     "output_type": "execute_result"
    }
   ],
   "source": [
    "# построение сводной таблицы по тарифу для проверки количества строк после объединения\n",
    "smart_ultra_city.pivot_table(index='tariff', values='user_id', aggfunc='count')"
   ]
  },
  {
   "cell_type": "markdown",
   "metadata": {},
   "source": [
    "Обогатим таблицу с данными по тарифам данными о городе пользователя из таблицы df_users."
   ]
  },
  {
   "cell_type": "code",
   "execution_count": 178,
   "metadata": {},
   "outputs": [],
   "source": [
    "# добавление в таблицу по тарифам данных о городе пользователя\n",
    "smart_ultra_city['city'] = smart_ultra_city['user_id'].map(df_users.set_index('user_id')['city'])"
   ]
  },
  {
   "cell_type": "markdown",
   "metadata": {},
   "source": [
    "Визуально оценим результат."
   ]
  },
  {
   "cell_type": "code",
   "execution_count": 179,
   "metadata": {},
   "outputs": [
    {
     "data": {
      "text/html": [
       "<div>\n",
       "<style scoped>\n",
       "    .dataframe tbody tr th:only-of-type {\n",
       "        vertical-align: middle;\n",
       "    }\n",
       "\n",
       "    .dataframe tbody tr th {\n",
       "        vertical-align: top;\n",
       "    }\n",
       "\n",
       "    .dataframe thead th {\n",
       "        text-align: right;\n",
       "    }\n",
       "</style>\n",
       "<table border=\"1\" class=\"dataframe\">\n",
       "  <thead>\n",
       "    <tr style=\"text-align: right;\">\n",
       "      <th></th>\n",
       "      <th>user_id</th>\n",
       "      <th>month</th>\n",
       "      <th>tariff</th>\n",
       "      <th>calls_count</th>\n",
       "      <th>calls_sum</th>\n",
       "      <th>mess_count</th>\n",
       "      <th>mb_sum</th>\n",
       "      <th>calls_cost</th>\n",
       "      <th>subscr_fee</th>\n",
       "      <th>mess_cost</th>\n",
       "      <th>int_cost</th>\n",
       "      <th>total_cost</th>\n",
       "      <th>city</th>\n",
       "    </tr>\n",
       "  </thead>\n",
       "  <tbody>\n",
       "    <tr>\n",
       "      <th>0</th>\n",
       "      <td>1000</td>\n",
       "      <td>5</td>\n",
       "      <td>ultra</td>\n",
       "      <td>22.0</td>\n",
       "      <td>159.0</td>\n",
       "      <td>22.0</td>\n",
       "      <td>2253.49</td>\n",
       "      <td>0.0</td>\n",
       "      <td>1950</td>\n",
       "      <td>0.0</td>\n",
       "      <td>0.0</td>\n",
       "      <td>1950.0</td>\n",
       "      <td>Краснодар</td>\n",
       "    </tr>\n",
       "    <tr>\n",
       "      <th>1</th>\n",
       "      <td>1000</td>\n",
       "      <td>6</td>\n",
       "      <td>ultra</td>\n",
       "      <td>43.0</td>\n",
       "      <td>172.0</td>\n",
       "      <td>60.0</td>\n",
       "      <td>23233.77</td>\n",
       "      <td>0.0</td>\n",
       "      <td>1950</td>\n",
       "      <td>0.0</td>\n",
       "      <td>0.0</td>\n",
       "      <td>1950.0</td>\n",
       "      <td>Краснодар</td>\n",
       "    </tr>\n",
       "    <tr>\n",
       "      <th>2</th>\n",
       "      <td>1000</td>\n",
       "      <td>7</td>\n",
       "      <td>ultra</td>\n",
       "      <td>47.0</td>\n",
       "      <td>340.0</td>\n",
       "      <td>75.0</td>\n",
       "      <td>14003.64</td>\n",
       "      <td>0.0</td>\n",
       "      <td>1950</td>\n",
       "      <td>0.0</td>\n",
       "      <td>0.0</td>\n",
       "      <td>1950.0</td>\n",
       "      <td>Краснодар</td>\n",
       "    </tr>\n",
       "    <tr>\n",
       "      <th>3</th>\n",
       "      <td>1000</td>\n",
       "      <td>8</td>\n",
       "      <td>ultra</td>\n",
       "      <td>52.0</td>\n",
       "      <td>408.0</td>\n",
       "      <td>81.0</td>\n",
       "      <td>14055.93</td>\n",
       "      <td>0.0</td>\n",
       "      <td>1950</td>\n",
       "      <td>0.0</td>\n",
       "      <td>0.0</td>\n",
       "      <td>1950.0</td>\n",
       "      <td>Краснодар</td>\n",
       "    </tr>\n",
       "    <tr>\n",
       "      <th>4</th>\n",
       "      <td>1000</td>\n",
       "      <td>9</td>\n",
       "      <td>ultra</td>\n",
       "      <td>58.0</td>\n",
       "      <td>466.0</td>\n",
       "      <td>57.0</td>\n",
       "      <td>14568.91</td>\n",
       "      <td>0.0</td>\n",
       "      <td>1950</td>\n",
       "      <td>0.0</td>\n",
       "      <td>0.0</td>\n",
       "      <td>1950.0</td>\n",
       "      <td>Краснодар</td>\n",
       "    </tr>\n",
       "    <tr>\n",
       "      <th>5</th>\n",
       "      <td>1000</td>\n",
       "      <td>10</td>\n",
       "      <td>ultra</td>\n",
       "      <td>57.0</td>\n",
       "      <td>350.0</td>\n",
       "      <td>73.0</td>\n",
       "      <td>14702.49</td>\n",
       "      <td>0.0</td>\n",
       "      <td>1950</td>\n",
       "      <td>0.0</td>\n",
       "      <td>0.0</td>\n",
       "      <td>1950.0</td>\n",
       "      <td>Краснодар</td>\n",
       "    </tr>\n",
       "    <tr>\n",
       "      <th>6</th>\n",
       "      <td>1000</td>\n",
       "      <td>11</td>\n",
       "      <td>ultra</td>\n",
       "      <td>43.0</td>\n",
       "      <td>338.0</td>\n",
       "      <td>58.0</td>\n",
       "      <td>14756.47</td>\n",
       "      <td>0.0</td>\n",
       "      <td>1950</td>\n",
       "      <td>0.0</td>\n",
       "      <td>0.0</td>\n",
       "      <td>1950.0</td>\n",
       "      <td>Краснодар</td>\n",
       "    </tr>\n",
       "    <tr>\n",
       "      <th>7</th>\n",
       "      <td>1000</td>\n",
       "      <td>12</td>\n",
       "      <td>ultra</td>\n",
       "      <td>46.0</td>\n",
       "      <td>333.0</td>\n",
       "      <td>70.0</td>\n",
       "      <td>9817.61</td>\n",
       "      <td>0.0</td>\n",
       "      <td>1950</td>\n",
       "      <td>0.0</td>\n",
       "      <td>0.0</td>\n",
       "      <td>1950.0</td>\n",
       "      <td>Краснодар</td>\n",
       "    </tr>\n",
       "    <tr>\n",
       "      <th>8</th>\n",
       "      <td>1003</td>\n",
       "      <td>8</td>\n",
       "      <td>ultra</td>\n",
       "      <td>55.0</td>\n",
       "      <td>380.0</td>\n",
       "      <td>37.0</td>\n",
       "      <td>8565.21</td>\n",
       "      <td>0.0</td>\n",
       "      <td>1950</td>\n",
       "      <td>0.0</td>\n",
       "      <td>0.0</td>\n",
       "      <td>1950.0</td>\n",
       "      <td>Москва</td>\n",
       "    </tr>\n",
       "    <tr>\n",
       "      <th>9</th>\n",
       "      <td>1003</td>\n",
       "      <td>9</td>\n",
       "      <td>ultra</td>\n",
       "      <td>134.0</td>\n",
       "      <td>961.0</td>\n",
       "      <td>91.0</td>\n",
       "      <td>12468.87</td>\n",
       "      <td>0.0</td>\n",
       "      <td>1950</td>\n",
       "      <td>0.0</td>\n",
       "      <td>0.0</td>\n",
       "      <td>1950.0</td>\n",
       "      <td>Москва</td>\n",
       "    </tr>\n",
       "  </tbody>\n",
       "</table>\n",
       "</div>"
      ],
      "text/plain": [
       "   user_id  month tariff  calls_count  calls_sum  mess_count    mb_sum  \\\n",
       "0     1000      5  ultra         22.0      159.0        22.0   2253.49   \n",
       "1     1000      6  ultra         43.0      172.0        60.0  23233.77   \n",
       "2     1000      7  ultra         47.0      340.0        75.0  14003.64   \n",
       "3     1000      8  ultra         52.0      408.0        81.0  14055.93   \n",
       "4     1000      9  ultra         58.0      466.0        57.0  14568.91   \n",
       "5     1000     10  ultra         57.0      350.0        73.0  14702.49   \n",
       "6     1000     11  ultra         43.0      338.0        58.0  14756.47   \n",
       "7     1000     12  ultra         46.0      333.0        70.0   9817.61   \n",
       "8     1003      8  ultra         55.0      380.0        37.0   8565.21   \n",
       "9     1003      9  ultra        134.0      961.0        91.0  12468.87   \n",
       "\n",
       "   calls_cost  subscr_fee  mess_cost  int_cost  total_cost       city  \n",
       "0         0.0        1950        0.0       0.0      1950.0  Краснодар  \n",
       "1         0.0        1950        0.0       0.0      1950.0  Краснодар  \n",
       "2         0.0        1950        0.0       0.0      1950.0  Краснодар  \n",
       "3         0.0        1950        0.0       0.0      1950.0  Краснодар  \n",
       "4         0.0        1950        0.0       0.0      1950.0  Краснодар  \n",
       "5         0.0        1950        0.0       0.0      1950.0  Краснодар  \n",
       "6         0.0        1950        0.0       0.0      1950.0  Краснодар  \n",
       "7         0.0        1950        0.0       0.0      1950.0  Краснодар  \n",
       "8         0.0        1950        0.0       0.0      1950.0     Москва  \n",
       "9         0.0        1950        0.0       0.0      1950.0     Москва  "
      ]
     },
     "execution_count": 179,
     "metadata": {},
     "output_type": "execute_result"
    }
   ],
   "source": [
    "# вывод первых 10 строк дополненной таблицы\n",
    "smart_ultra_city.head(10)"
   ]
  },
  {
   "cell_type": "markdown",
   "metadata": {},
   "source": [
    "Город успешно добавлен в новую колонку city."
   ]
  },
  {
   "cell_type": "markdown",
   "metadata": {},
   "source": [
    "Разделим новую таблицу по колонке город на \"Москву\" и остальные города."
   ]
  },
  {
   "cell_type": "code",
   "execution_count": 180,
   "metadata": {},
   "outputs": [],
   "source": [
    "# формирование новой таблицы только с пользователями Москвы\n",
    "smart_ultra_city_moscow = smart_ultra_city.query('city ==\"Москва\"').reset_index(drop=True)"
   ]
  },
  {
   "cell_type": "code",
   "execution_count": 181,
   "metadata": {},
   "outputs": [
    {
     "data": {
      "text/html": [
       "<div>\n",
       "<style scoped>\n",
       "    .dataframe tbody tr th:only-of-type {\n",
       "        vertical-align: middle;\n",
       "    }\n",
       "\n",
       "    .dataframe tbody tr th {\n",
       "        vertical-align: top;\n",
       "    }\n",
       "\n",
       "    .dataframe thead th {\n",
       "        text-align: right;\n",
       "    }\n",
       "</style>\n",
       "<table border=\"1\" class=\"dataframe\">\n",
       "  <thead>\n",
       "    <tr style=\"text-align: right;\">\n",
       "      <th></th>\n",
       "      <th>user_id</th>\n",
       "      <th>month</th>\n",
       "      <th>tariff</th>\n",
       "      <th>calls_count</th>\n",
       "      <th>calls_sum</th>\n",
       "      <th>mess_count</th>\n",
       "      <th>mb_sum</th>\n",
       "      <th>calls_cost</th>\n",
       "      <th>subscr_fee</th>\n",
       "      <th>mess_cost</th>\n",
       "      <th>int_cost</th>\n",
       "      <th>total_cost</th>\n",
       "      <th>city</th>\n",
       "    </tr>\n",
       "  </thead>\n",
       "  <tbody>\n",
       "    <tr>\n",
       "      <th>0</th>\n",
       "      <td>1003</td>\n",
       "      <td>8</td>\n",
       "      <td>ultra</td>\n",
       "      <td>55.0</td>\n",
       "      <td>380.0</td>\n",
       "      <td>37.0</td>\n",
       "      <td>8565.21</td>\n",
       "      <td>0.0</td>\n",
       "      <td>1950</td>\n",
       "      <td>0.0</td>\n",
       "      <td>0.0</td>\n",
       "      <td>1950.0</td>\n",
       "      <td>Москва</td>\n",
       "    </tr>\n",
       "    <tr>\n",
       "      <th>1</th>\n",
       "      <td>1003</td>\n",
       "      <td>9</td>\n",
       "      <td>ultra</td>\n",
       "      <td>134.0</td>\n",
       "      <td>961.0</td>\n",
       "      <td>91.0</td>\n",
       "      <td>12468.87</td>\n",
       "      <td>0.0</td>\n",
       "      <td>1950</td>\n",
       "      <td>0.0</td>\n",
       "      <td>0.0</td>\n",
       "      <td>1950.0</td>\n",
       "      <td>Москва</td>\n",
       "    </tr>\n",
       "    <tr>\n",
       "      <th>2</th>\n",
       "      <td>1003</td>\n",
       "      <td>10</td>\n",
       "      <td>ultra</td>\n",
       "      <td>108.0</td>\n",
       "      <td>855.0</td>\n",
       "      <td>83.0</td>\n",
       "      <td>14768.14</td>\n",
       "      <td>0.0</td>\n",
       "      <td>1950</td>\n",
       "      <td>0.0</td>\n",
       "      <td>0.0</td>\n",
       "      <td>1950.0</td>\n",
       "      <td>Москва</td>\n",
       "    </tr>\n",
       "    <tr>\n",
       "      <th>3</th>\n",
       "      <td>1003</td>\n",
       "      <td>11</td>\n",
       "      <td>ultra</td>\n",
       "      <td>115.0</td>\n",
       "      <td>824.0</td>\n",
       "      <td>94.0</td>\n",
       "      <td>11356.89</td>\n",
       "      <td>0.0</td>\n",
       "      <td>1950</td>\n",
       "      <td>0.0</td>\n",
       "      <td>0.0</td>\n",
       "      <td>1950.0</td>\n",
       "      <td>Москва</td>\n",
       "    </tr>\n",
       "    <tr>\n",
       "      <th>4</th>\n",
       "      <td>1003</td>\n",
       "      <td>12</td>\n",
       "      <td>ultra</td>\n",
       "      <td>108.0</td>\n",
       "      <td>802.0</td>\n",
       "      <td>75.0</td>\n",
       "      <td>10121.53</td>\n",
       "      <td>0.0</td>\n",
       "      <td>1950</td>\n",
       "      <td>0.0</td>\n",
       "      <td>0.0</td>\n",
       "      <td>1950.0</td>\n",
       "      <td>Москва</td>\n",
       "    </tr>\n",
       "  </tbody>\n",
       "</table>\n",
       "</div>"
      ],
      "text/plain": [
       "   user_id  month tariff  calls_count  calls_sum  mess_count    mb_sum  \\\n",
       "0     1003      8  ultra         55.0      380.0        37.0   8565.21   \n",
       "1     1003      9  ultra        134.0      961.0        91.0  12468.87   \n",
       "2     1003     10  ultra        108.0      855.0        83.0  14768.14   \n",
       "3     1003     11  ultra        115.0      824.0        94.0  11356.89   \n",
       "4     1003     12  ultra        108.0      802.0        75.0  10121.53   \n",
       "\n",
       "   calls_cost  subscr_fee  mess_cost  int_cost  total_cost    city  \n",
       "0         0.0        1950        0.0       0.0      1950.0  Москва  \n",
       "1         0.0        1950        0.0       0.0      1950.0  Москва  \n",
       "2         0.0        1950        0.0       0.0      1950.0  Москва  \n",
       "3         0.0        1950        0.0       0.0      1950.0  Москва  \n",
       "4         0.0        1950        0.0       0.0      1950.0  Москва  "
      ]
     },
     "execution_count": 181,
     "metadata": {},
     "output_type": "execute_result"
    }
   ],
   "source": [
    "# визуальная проверка результата\n",
    "smart_ultra_city_moscow.head()"
   ]
  },
  {
   "cell_type": "code",
   "execution_count": 182,
   "metadata": {},
   "outputs": [],
   "source": [
    "# формирование новой таблицы с пользователями других городов\n",
    "smart_ultra_city_other = smart_ultra_city.query('city !=\"Москва\"').reset_index(drop=True)"
   ]
  },
  {
   "cell_type": "code",
   "execution_count": 183,
   "metadata": {},
   "outputs": [
    {
     "data": {
      "text/html": [
       "<div>\n",
       "<style scoped>\n",
       "    .dataframe tbody tr th:only-of-type {\n",
       "        vertical-align: middle;\n",
       "    }\n",
       "\n",
       "    .dataframe tbody tr th {\n",
       "        vertical-align: top;\n",
       "    }\n",
       "\n",
       "    .dataframe thead th {\n",
       "        text-align: right;\n",
       "    }\n",
       "</style>\n",
       "<table border=\"1\" class=\"dataframe\">\n",
       "  <thead>\n",
       "    <tr style=\"text-align: right;\">\n",
       "      <th></th>\n",
       "      <th>user_id</th>\n",
       "      <th>month</th>\n",
       "      <th>tariff</th>\n",
       "      <th>calls_count</th>\n",
       "      <th>calls_sum</th>\n",
       "      <th>mess_count</th>\n",
       "      <th>mb_sum</th>\n",
       "      <th>calls_cost</th>\n",
       "      <th>subscr_fee</th>\n",
       "      <th>mess_cost</th>\n",
       "      <th>int_cost</th>\n",
       "      <th>total_cost</th>\n",
       "      <th>city</th>\n",
       "    </tr>\n",
       "  </thead>\n",
       "  <tbody>\n",
       "    <tr>\n",
       "      <th>0</th>\n",
       "      <td>1000</td>\n",
       "      <td>5</td>\n",
       "      <td>ultra</td>\n",
       "      <td>22.0</td>\n",
       "      <td>159.0</td>\n",
       "      <td>22.0</td>\n",
       "      <td>2253.49</td>\n",
       "      <td>0.0</td>\n",
       "      <td>1950</td>\n",
       "      <td>0.0</td>\n",
       "      <td>0.0</td>\n",
       "      <td>1950.0</td>\n",
       "      <td>Краснодар</td>\n",
       "    </tr>\n",
       "    <tr>\n",
       "      <th>1</th>\n",
       "      <td>1000</td>\n",
       "      <td>6</td>\n",
       "      <td>ultra</td>\n",
       "      <td>43.0</td>\n",
       "      <td>172.0</td>\n",
       "      <td>60.0</td>\n",
       "      <td>23233.77</td>\n",
       "      <td>0.0</td>\n",
       "      <td>1950</td>\n",
       "      <td>0.0</td>\n",
       "      <td>0.0</td>\n",
       "      <td>1950.0</td>\n",
       "      <td>Краснодар</td>\n",
       "    </tr>\n",
       "    <tr>\n",
       "      <th>2</th>\n",
       "      <td>1000</td>\n",
       "      <td>7</td>\n",
       "      <td>ultra</td>\n",
       "      <td>47.0</td>\n",
       "      <td>340.0</td>\n",
       "      <td>75.0</td>\n",
       "      <td>14003.64</td>\n",
       "      <td>0.0</td>\n",
       "      <td>1950</td>\n",
       "      <td>0.0</td>\n",
       "      <td>0.0</td>\n",
       "      <td>1950.0</td>\n",
       "      <td>Краснодар</td>\n",
       "    </tr>\n",
       "    <tr>\n",
       "      <th>3</th>\n",
       "      <td>1000</td>\n",
       "      <td>8</td>\n",
       "      <td>ultra</td>\n",
       "      <td>52.0</td>\n",
       "      <td>408.0</td>\n",
       "      <td>81.0</td>\n",
       "      <td>14055.93</td>\n",
       "      <td>0.0</td>\n",
       "      <td>1950</td>\n",
       "      <td>0.0</td>\n",
       "      <td>0.0</td>\n",
       "      <td>1950.0</td>\n",
       "      <td>Краснодар</td>\n",
       "    </tr>\n",
       "    <tr>\n",
       "      <th>4</th>\n",
       "      <td>1000</td>\n",
       "      <td>9</td>\n",
       "      <td>ultra</td>\n",
       "      <td>58.0</td>\n",
       "      <td>466.0</td>\n",
       "      <td>57.0</td>\n",
       "      <td>14568.91</td>\n",
       "      <td>0.0</td>\n",
       "      <td>1950</td>\n",
       "      <td>0.0</td>\n",
       "      <td>0.0</td>\n",
       "      <td>1950.0</td>\n",
       "      <td>Краснодар</td>\n",
       "    </tr>\n",
       "  </tbody>\n",
       "</table>\n",
       "</div>"
      ],
      "text/plain": [
       "   user_id  month tariff  calls_count  calls_sum  mess_count    mb_sum  \\\n",
       "0     1000      5  ultra         22.0      159.0        22.0   2253.49   \n",
       "1     1000      6  ultra         43.0      172.0        60.0  23233.77   \n",
       "2     1000      7  ultra         47.0      340.0        75.0  14003.64   \n",
       "3     1000      8  ultra         52.0      408.0        81.0  14055.93   \n",
       "4     1000      9  ultra         58.0      466.0        57.0  14568.91   \n",
       "\n",
       "   calls_cost  subscr_fee  mess_cost  int_cost  total_cost       city  \n",
       "0         0.0        1950        0.0       0.0      1950.0  Краснодар  \n",
       "1         0.0        1950        0.0       0.0      1950.0  Краснодар  \n",
       "2         0.0        1950        0.0       0.0      1950.0  Краснодар  \n",
       "3         0.0        1950        0.0       0.0      1950.0  Краснодар  \n",
       "4         0.0        1950        0.0       0.0      1950.0  Краснодар  "
      ]
     },
     "execution_count": 183,
     "metadata": {},
     "output_type": "execute_result"
    }
   ],
   "source": [
    "# визуальная проверка результата\n",
    "smart_ultra_city_other.head()"
   ]
  },
  {
   "cell_type": "markdown",
   "metadata": {},
   "source": [
    "Применим метод scipy.stats.ttest_ind() для определения вероятности равенства средней выручки по абонентам двух выборок (Москва и не Москва)."
   ]
  },
  {
   "cell_type": "code",
   "execution_count": 184,
   "metadata": {},
   "outputs": [
    {
     "name": "stdout",
     "output_type": "stream",
     "text": [
      "p-значение: 0.5440152911670224\n",
      "Не получилось отвергнуть нулевую гипотезу\n"
     ]
    }
   ],
   "source": [
    "# применение метода\n",
    "alpha = .05\n",
    "results = st.ttest_ind(\n",
    "    smart_ultra_city_moscow['total_cost'], \n",
    "    smart_ultra_city_other['total_cost'])\n",
    "\n",
    "print('p-значение:', results.pvalue)\n",
    "\n",
    "if results.pvalue < alpha:\n",
    "    print(\"Отвергаем нулевую гипотезу\")\n",
    "else:\n",
    "    print(\"Не получилось отвергнуть нулевую гипотезу\")"
   ]
  },
  {
   "cell_type": "markdown",
   "metadata": {},
   "source": [
    "Поскольку вероятность получить такие события, которые сформулированы в нулевой гипотезе, превышает уровень значимости, нулевая гипотеза не может быть отвергнута."
   ]
  },
  {
   "cell_type": "markdown",
   "metadata": {},
   "source": [
    "Пользуясь тем, что выборки небольшие, и мы можем посчитать их реальное среднее, проверим правдивость гипотезы \"Средняя выручка по пользователям из Москвы равна выручке от пользователей из других регионов\" эмпирически."
   ]
  },
  {
   "cell_type": "code",
   "execution_count": 185,
   "metadata": {},
   "outputs": [
    {
     "data": {
      "text/plain": [
       "1546.7"
      ]
     },
     "execution_count": 185,
     "metadata": {},
     "output_type": "execute_result"
    }
   ],
   "source": [
    "# вывод среднемесячного значения по выручке по абонентам Москвы\n",
    "round(smart_ultra_city_moscow['total_cost'].mean(),1)"
   ]
  },
  {
   "cell_type": "code",
   "execution_count": 186,
   "metadata": {},
   "outputs": [
    {
     "data": {
      "text/plain": [
       "1524.9"
      ]
     },
     "execution_count": 186,
     "metadata": {},
     "output_type": "execute_result"
    }
   ],
   "source": [
    "# вывод среднемесячного значения по выручке по абонентам других городов\n",
    "round(smart_ultra_city_other['total_cost'].mean(),1)"
   ]
  },
  {
   "cell_type": "markdown",
   "metadata": {},
   "source": [
    "Действительно, средние значения двух выборок практически равны."
   ]
  },
  {
   "cell_type": "markdown",
   "metadata": {},
   "source": [
    "<div style=\"border:solid blue 2px; padding: 20px\"> \n",
    "\n",
    "**Вывод**  \n",
    "\n",
    "Для проверки предположений о наличии различий между средними выручками по абонентам разных тарифов, а также средними выручками абонентов Москвы и других городов, были сформулированы две пары гипотез:\n",
    "1. H₀: Средняя выручка по пользователям тарифа «Ультра» равна средней выручке по пользователям тарифа «Смарт»\n",
    "   \n",
    "   H₁: Средняя выручка по пользователям тарифа «Ультра» не равна средней выручке по пользователям тарифа «Смарт»\n",
    "    \n",
    "\n",
    "2. H₀: Средняя выручка по пользователям из Москвы равна выручке от пользователей из других регионов\n",
    "   \n",
    "   H₁: Средняя выручка по пользователям из Москвы не равна выручке от пользователей из других регионов\n",
    "    \n",
    "    \n",
    "Для их проверки  был применен метод scipy.stats.ttest_ind() при уровне значимости 0,05, в результате чего\n",
    "в первой паре нулевая гипотеза была отвергнута, а во второй паре гипотез нулевая гипотеза не была отвергнута.\n",
    "\n",
    "</div>"
   ]
  },
  {
   "cell_type": "markdown",
   "metadata": {},
   "source": [
    "## Шаг 5. Вывод"
   ]
  },
  {
   "cell_type": "markdown",
   "metadata": {},
   "source": [
    "<div style=\"border:solid blue 2px; padding: 20px\"> \n",
    "\n",
    "**Вывод**  \n",
    "\n",
    "Целью исследования было проанализировать данные и определить, какой тариф является наиболее выгодным для оператора.\n",
    "\n",
    "Для этого были проделаны следующие шаги:\n",
    "    \n",
    "*1. Шаг 1_Обзор данных*\n",
    "\n",
    "    Были открыты все 5 таблиц с данными, данные были проверены на корретность типов данных, наличие ошибок в данных, наличие пропусков и дуликатов, необходимости переименования столбцов. По резальтатам проверки был исправлен тип данных во всех колонках с датами, удалена лишняя колонка \"Unnamed: 0\" в таблице \"df_internet\", заменены отсутствующие значения в таблице \"df_users\" в колонке \"churn_date\" на 0. Дубликатов обнаружено не было, переименование столбцов не потребовалось.\n",
    "    \n",
    "\n",
    "*2. Шаг 2_Подготовка данных*\n",
    "    \n",
    "    Была проведена подготовка и предобработка данных в каждой таблице: изменены типы данных, заменены значения Nan на 0, удалена колонка Unnamed:0, округлены в бОльшую сторону данные в колонке mb_used по правилам тарификации, округлены в бОльшую сторону значения в колонке duration по правилам тарификации, проверены данные на наличие ошибок (ошибки не обнаружены).\n",
    "\n",
    "Также по каждому пользователю каждого тарифа по месяцам подсчитаны:\n",
    "\n",
    "* количество сделанных звонков и израсходованных минут разговора;\n",
    "* количество отправленных сообщений;\n",
    "* объем израсходованного интернет-трафика;\n",
    "* помесячная выручка.\n",
    "\n",
    "    \n",
    "*3. Шаг 3_Анализ данных*  \n",
    "    \n",
    "    Проведен анализ поведения абонентов тарифов Ultra и Smart. \n",
    "    \n",
    "    В месяц абоненты тарифа Ultra в среднем расходуют:\n",
    "+ от 297 до 593 минут\n",
    "+ от 22 до 61 сообщения\n",
    "+ от 12 до 21 Гб трафика\n",
    "\n",
    "    Средний доход по абонентам тарифа Ultra составляет от 1950 руб до 2139 руб в месяц\n",
    "    \n",
    "    В месяц абоненты тарифа Smart в среднем расходуют:\n",
    "  \n",
    "    \n",
    "+ от 204 до 479 минут (меньше, чем абоненты тарифа Ultra)\n",
    "+ от 18 до 36 сообщений (меньше, чем абоненты тарифа Ultra)\n",
    "+ от 8 до 18 Гб трафика (меньше, чем абоненты тарифа Ultra)\n",
    "\n",
    "    Средний доход по абонентам тарифа Smart составляет от 721 руб до 1583 руб в месяц (меньше, чем по абонентам тарифа Ultra)\n",
    "   \n",
    "Звонки:\n",
    "\n",
    "    Тариф Ultra\n",
    "Распределение близкое к нормальному, при этом датасет скошен вправо (имеет положительую скошенность).\n",
    "По данным гистограммы наиболее часто пользователи тарифа расходуют от 400 до 700 минут в месяц (13-23 минут в день).\n",
    "Выбросов немного, и они сосредоточены в диапазоне 1600-1700 минут.\n",
    "Среднее - 526.6, дисперсия - 100771.2, стандартное отклонение - 317.4\n",
    "\n",
    "Сообщения:\n",
    "    \n",
    "    Тариф Ultra\n",
    "Распределение Пуассона, при этом датасет сильно скошен вправо (имеет положительую скошенность).\n",
    "По данным гистограммы наиболее часто пользователи тарифа вообще не отправляют сообщения в течение месяца (0 сообщений в месяц).\n",
    "Выбросов много, и они сосредоточены в диапазоне 180-250 сообщений.\n",
    "Среднее - 49.4, дисперсия - 2282.9, стандартное отклонение - 47.8\n",
    "\n",
    "Интернет-трафик:\n",
    "    \n",
    "    Тариф Ultra\n",
    "Распределение близкое к нормальному, при этом датасет скошен вправо (имеет положительую скошенность).\n",
    "По данным гистограммы наиболее часто пользователи тарифа расходуют от 15 до 24 Гб в месяц (менее 1 Гб в день).\n",
    "Выбросов немного, и они сосредоточены в диапазоне 47 Гб и более.\n",
    "Среднее - 19.0, дисперсия - 97.1, стандартное отклонение - 9.9\n",
    "\n",
    "Звонки:\n",
    "    \n",
    "    Тариф Smart\n",
    "Распределение близкое к нормальному, при этом датасет скошен вправо (имеет положительую скошенность).\n",
    "По данным гистограммы наиболее часто пользователи тарифа расходуют 500 минут в месяц (16-17 минут в день).\n",
    "Выбросов много, и они сосредоточены в диапазоне 900-1400 минут.\n",
    "Среднее - 417.9, дисперсия - 36203.1, стандартное отклонение - 190.3\n",
    "\n",
    "Сообщения:\n",
    "   \n",
    "    Тариф Smart\n",
    "Распределение Пуассона, при этом датасет сильно скошен вправо (имеет положительую скошенность).\n",
    "По данным гистограммы наиболее часто пользователи тарифа вообще не отправляют сообщения в течение месяца (0 сообщений в месяц).\n",
    "Выбросов много, и они сосредоточены в диапазоне 110-145 сообщений.\n",
    "Среднее - 33.4, дисперсия - 796.5, стандартное отклонение - 28.2\n",
    "\n",
    "Интернет-трафик:\n",
    "    \n",
    "    Тариф Smart\n",
    "Распределение близкое к нормальному, при этом датасет скошен вправо (имеет положительую скошенность).\n",
    "По данным гистограммы наиболее часто пользователи тарифа расходуют от 14.5 до 19 Гб в месяц (менее 1 Гб в день).\n",
    "Выбросов много, и они сосредоточены в диапазоне 0-2 Гб и 31-38 Гб.\n",
    "Среднее - 15.8, дисперсия - 32.9, стандартное отклонение - 5.7\n",
    "\n",
    "    \n",
    "*4. Шаг 4_Проверка гипотез*\n",
    "    \n",
    "     Были сформулированы две пары гипотез:\n",
    "\n",
    "1. H₀: Средняя выручка по пользователям тарифа «Ультра» равна средней выручке по пользователям тарифа «Смарт»\n",
    "\n",
    "   H₁: Средняя выручка по пользователям тарифа «Ультра» не равна средней выручке по пользователям тарифа «Смарт»\n",
    "  \n",
    "    \n",
    "2. H₀: Средняя выручка по пользователям из Москвы равна выручке от пользователей из других регионов\n",
    "\n",
    "   H₁: Средняя выручка по пользователям из Москвы не равна выручке от пользователей из других регионов\n",
    "\n",
    "Для их проверки был применен метод scipy.stats.ttest_ind() при уровне значимости 0,05, в результате чего в первой паре нулевая гипотеза была отвергнута, а во второй паре гипотез нулевая гипотеза не была отвергнута.\n",
    "    \n",
    "**Таким образом, несмотря на суммарную бОльшую выручку с тарифа Smart в данной выборке за счет бОльшего числа записей по абонентам этого тарифа, наиболее выгоден для компании тариф Ultra с более высоким средним и медианой по выручке. Задача маркетинга и продаж - повысить подключения к этому тарифу.**\n",
    "</div>"
   ]
  }
 ],
 "metadata": {
  "ExecuteTimeLog": [
   {
    "duration": 507,
    "start_time": "2022-04-06T14:47:21.972Z"
   },
   {
    "duration": 165,
    "start_time": "2022-04-06T14:47:25.119Z"
   },
   {
    "duration": 210,
    "start_time": "2022-04-06T14:48:09.109Z"
   },
   {
    "duration": 51,
    "start_time": "2022-04-06T14:49:20.978Z"
   },
   {
    "duration": 31,
    "start_time": "2022-04-06T14:50:28.139Z"
   },
   {
    "duration": 16,
    "start_time": "2022-04-06T14:50:31.727Z"
   },
   {
    "duration": 10,
    "start_time": "2022-04-06T14:50:35.337Z"
   },
   {
    "duration": 21,
    "start_time": "2022-04-06T14:51:22.412Z"
   },
   {
    "duration": 16,
    "start_time": "2022-04-06T14:51:54.215Z"
   },
   {
    "duration": 133,
    "start_time": "2022-04-06T14:52:55.135Z"
   },
   {
    "duration": 41,
    "start_time": "2022-04-06T14:53:16.963Z"
   },
   {
    "duration": 84,
    "start_time": "2022-04-06T14:53:58.052Z"
   },
   {
    "duration": 172,
    "start_time": "2022-04-06T14:55:32.526Z"
   },
   {
    "duration": 45,
    "start_time": "2022-04-06T14:55:33.911Z"
   },
   {
    "duration": 127,
    "start_time": "2022-04-06T14:55:36.118Z"
   },
   {
    "duration": 80,
    "start_time": "2022-04-06T14:57:09.525Z"
   },
   {
    "duration": 200,
    "start_time": "2022-04-06T14:57:29.285Z"
   },
   {
    "duration": 32,
    "start_time": "2022-04-06T14:57:32.496Z"
   },
   {
    "duration": 145,
    "start_time": "2022-04-06T14:57:34.218Z"
   },
   {
    "duration": 125,
    "start_time": "2022-04-06T14:57:37.226Z"
   },
   {
    "duration": 5,
    "start_time": "2022-04-06T15:00:02.409Z"
   },
   {
    "duration": 8,
    "start_time": "2022-04-06T15:00:02.949Z"
   },
   {
    "duration": 6,
    "start_time": "2022-04-06T15:00:03.398Z"
   },
   {
    "duration": 16,
    "start_time": "2022-04-06T15:00:04.593Z"
   },
   {
    "duration": 7,
    "start_time": "2022-04-06T15:00:06.768Z"
   },
   {
    "duration": 4,
    "start_time": "2022-04-06T15:08:10.922Z"
   },
   {
    "duration": 36,
    "start_time": "2022-04-06T15:08:10.932Z"
   },
   {
    "duration": 22,
    "start_time": "2022-04-06T15:08:10.972Z"
   },
   {
    "duration": 19,
    "start_time": "2022-04-06T15:08:10.996Z"
   },
   {
    "duration": 28,
    "start_time": "2022-04-06T15:08:11.018Z"
   },
   {
    "duration": 39,
    "start_time": "2022-04-06T15:08:11.051Z"
   },
   {
    "duration": 181,
    "start_time": "2022-04-06T15:08:11.093Z"
   },
   {
    "duration": 28,
    "start_time": "2022-04-06T15:08:11.276Z"
   },
   {
    "duration": 97,
    "start_time": "2022-04-06T15:08:11.306Z"
   },
   {
    "duration": 188,
    "start_time": "2022-04-06T15:08:11.406Z"
   },
   {
    "duration": 30,
    "start_time": "2022-04-06T15:08:11.596Z"
   },
   {
    "duration": 135,
    "start_time": "2022-04-06T15:08:11.628Z"
   },
   {
    "duration": 224,
    "start_time": "2022-04-06T15:08:11.765Z"
   },
   {
    "duration": 37,
    "start_time": "2022-04-06T15:08:11.992Z"
   },
   {
    "duration": 195,
    "start_time": "2022-04-06T15:08:12.035Z"
   },
   {
    "duration": 5,
    "start_time": "2022-04-06T15:08:12.233Z"
   },
   {
    "duration": 9,
    "start_time": "2022-04-06T15:08:12.241Z"
   },
   {
    "duration": 24,
    "start_time": "2022-04-06T15:08:12.253Z"
   },
   {
    "duration": 19,
    "start_time": "2022-04-06T15:08:12.280Z"
   },
   {
    "duration": 13,
    "start_time": "2022-04-06T15:08:12.301Z"
   },
   {
    "duration": 12,
    "start_time": "2022-04-06T15:08:12.317Z"
   },
   {
    "duration": 42,
    "start_time": "2022-04-06T15:08:12.331Z"
   },
   {
    "duration": 7,
    "start_time": "2022-04-06T15:08:12.377Z"
   },
   {
    "duration": 7,
    "start_time": "2022-04-06T15:08:12.387Z"
   },
   {
    "duration": 7,
    "start_time": "2022-04-06T15:08:12.397Z"
   },
   {
    "duration": 13,
    "start_time": "2022-04-06T15:08:12.406Z"
   },
   {
    "duration": 55,
    "start_time": "2022-04-06T15:08:12.421Z"
   },
   {
    "duration": 29,
    "start_time": "2022-04-06T15:08:12.478Z"
   },
   {
    "duration": 21,
    "start_time": "2022-04-06T15:08:12.509Z"
   },
   {
    "duration": 70,
    "start_time": "2022-04-06T15:08:12.533Z"
   },
   {
    "duration": 14,
    "start_time": "2022-04-06T15:08:12.605Z"
   },
   {
    "duration": 7,
    "start_time": "2022-04-06T15:08:12.621Z"
   },
   {
    "duration": 44,
    "start_time": "2022-04-06T15:08:12.630Z"
   },
   {
    "duration": 4,
    "start_time": "2022-04-06T15:08:12.676Z"
   },
   {
    "duration": 9,
    "start_time": "2022-04-06T15:08:12.682Z"
   },
   {
    "duration": 40,
    "start_time": "2022-04-06T15:08:12.693Z"
   },
   {
    "duration": 40,
    "start_time": "2022-04-06T15:08:12.735Z"
   },
   {
    "duration": 12,
    "start_time": "2022-04-06T15:08:12.778Z"
   },
   {
    "duration": 54,
    "start_time": "2022-04-06T15:08:12.795Z"
   },
   {
    "duration": 8,
    "start_time": "2022-04-06T15:08:12.875Z"
   },
   {
    "duration": 16,
    "start_time": "2022-04-06T15:08:12.890Z"
   },
   {
    "duration": 9,
    "start_time": "2022-04-06T15:08:12.909Z"
   },
   {
    "duration": 86,
    "start_time": "2022-04-06T15:08:12.921Z"
   },
   {
    "duration": 6,
    "start_time": "2022-04-06T15:08:13.009Z"
   },
   {
    "duration": 37,
    "start_time": "2022-04-06T15:08:13.018Z"
   },
   {
    "duration": 25,
    "start_time": "2022-04-06T15:08:13.057Z"
   },
   {
    "duration": 139,
    "start_time": "2022-04-06T15:08:13.085Z"
   },
   {
    "duration": 23,
    "start_time": "2022-04-06T15:08:13.226Z"
   },
   {
    "duration": 25,
    "start_time": "2022-04-06T15:08:13.252Z"
   },
   {
    "duration": 15,
    "start_time": "2022-04-06T15:08:13.280Z"
   },
   {
    "duration": 4,
    "start_time": "2022-04-06T15:30:04.482Z"
   },
   {
    "duration": 32,
    "start_time": "2022-04-06T15:30:04.491Z"
   },
   {
    "duration": 15,
    "start_time": "2022-04-06T15:30:04.525Z"
   },
   {
    "duration": 16,
    "start_time": "2022-04-06T15:30:04.542Z"
   },
   {
    "duration": 20,
    "start_time": "2022-04-06T15:30:04.575Z"
   },
   {
    "duration": 14,
    "start_time": "2022-04-06T15:30:04.597Z"
   },
   {
    "duration": 169,
    "start_time": "2022-04-06T15:30:04.613Z"
   },
   {
    "duration": 26,
    "start_time": "2022-04-06T15:30:04.784Z"
   },
   {
    "duration": 96,
    "start_time": "2022-04-06T15:30:04.812Z"
   },
   {
    "duration": 171,
    "start_time": "2022-04-06T15:30:04.910Z"
   },
   {
    "duration": 30,
    "start_time": "2022-04-06T15:30:05.084Z"
   },
   {
    "duration": 141,
    "start_time": "2022-04-06T15:30:05.116Z"
   },
   {
    "duration": 207,
    "start_time": "2022-04-06T15:30:05.259Z"
   },
   {
    "duration": 36,
    "start_time": "2022-04-06T15:30:05.468Z"
   },
   {
    "duration": 167,
    "start_time": "2022-04-06T15:30:05.507Z"
   },
   {
    "duration": 4,
    "start_time": "2022-04-06T15:30:05.676Z"
   },
   {
    "duration": 19,
    "start_time": "2022-04-06T15:30:05.682Z"
   },
   {
    "duration": 19,
    "start_time": "2022-04-06T15:30:05.703Z"
   },
   {
    "duration": 20,
    "start_time": "2022-04-06T15:30:05.724Z"
   },
   {
    "duration": 9,
    "start_time": "2022-04-06T15:30:05.747Z"
   },
   {
    "duration": 17,
    "start_time": "2022-04-06T15:30:05.758Z"
   },
   {
    "duration": 10,
    "start_time": "2022-04-06T15:30:05.778Z"
   },
   {
    "duration": 7,
    "start_time": "2022-04-06T15:30:05.790Z"
   },
   {
    "duration": 10,
    "start_time": "2022-04-06T15:30:05.799Z"
   },
   {
    "duration": 19,
    "start_time": "2022-04-06T15:30:05.811Z"
   },
   {
    "duration": 13,
    "start_time": "2022-04-06T15:30:05.833Z"
   },
   {
    "duration": 5,
    "start_time": "2022-04-06T15:30:05.874Z"
   },
   {
    "duration": 33,
    "start_time": "2022-04-06T15:30:05.881Z"
   },
   {
    "duration": 20,
    "start_time": "2022-04-06T15:30:05.919Z"
   },
   {
    "duration": 63,
    "start_time": "2022-04-06T15:30:05.941Z"
   },
   {
    "duration": 15,
    "start_time": "2022-04-06T15:30:06.006Z"
   },
   {
    "duration": 10,
    "start_time": "2022-04-06T15:30:06.024Z"
   },
   {
    "duration": 46,
    "start_time": "2022-04-06T15:30:06.036Z"
   },
   {
    "duration": 6,
    "start_time": "2022-04-06T15:30:06.084Z"
   },
   {
    "duration": 16,
    "start_time": "2022-04-06T15:30:06.092Z"
   },
   {
    "duration": 38,
    "start_time": "2022-04-06T15:30:06.110Z"
   },
   {
    "duration": 37,
    "start_time": "2022-04-06T15:30:06.150Z"
   },
   {
    "duration": 12,
    "start_time": "2022-04-06T15:30:06.189Z"
   },
   {
    "duration": 45,
    "start_time": "2022-04-06T15:30:06.203Z"
   },
   {
    "duration": 7,
    "start_time": "2022-04-06T15:30:06.274Z"
   },
   {
    "duration": 18,
    "start_time": "2022-04-06T15:30:06.283Z"
   },
   {
    "duration": 10,
    "start_time": "2022-04-06T15:30:06.304Z"
   },
   {
    "duration": 85,
    "start_time": "2022-04-06T15:30:06.317Z"
   },
   {
    "duration": 7,
    "start_time": "2022-04-06T15:30:06.404Z"
   },
   {
    "duration": 36,
    "start_time": "2022-04-06T15:30:06.413Z"
   },
   {
    "duration": 31,
    "start_time": "2022-04-06T15:30:06.452Z"
   },
   {
    "duration": 96,
    "start_time": "2022-04-06T15:30:06.486Z"
   },
   {
    "duration": 17,
    "start_time": "2022-04-06T15:30:06.585Z"
   },
   {
    "duration": 9,
    "start_time": "2022-04-06T15:30:06.605Z"
   },
   {
    "duration": 10,
    "start_time": "2022-04-06T15:30:06.616Z"
   },
   {
    "duration": 48,
    "start_time": "2022-04-06T15:30:06.629Z"
   },
   {
    "duration": 50,
    "start_time": "2022-04-06T15:30:06.680Z"
   },
   {
    "duration": 13,
    "start_time": "2022-04-06T15:30:06.732Z"
   },
   {
    "duration": 48,
    "start_time": "2022-04-06T15:30:06.747Z"
   },
   {
    "duration": 12,
    "start_time": "2022-04-06T15:30:06.800Z"
   },
   {
    "duration": 59,
    "start_time": "2022-04-06T15:30:06.815Z"
   },
   {
    "duration": 13,
    "start_time": "2022-04-06T15:30:06.877Z"
   },
   {
    "duration": 33,
    "start_time": "2022-04-06T15:30:07.649Z"
   },
   {
    "duration": 137,
    "start_time": "2022-04-06T15:30:07.741Z"
   },
   {
    "duration": 13,
    "start_time": "2022-04-06T15:30:07.881Z"
   },
   {
    "duration": 7,
    "start_time": "2022-04-06T15:30:07.917Z"
   },
   {
    "duration": 17,
    "start_time": "2022-04-06T15:30:08.010Z"
   },
   {
    "duration": 21,
    "start_time": "2022-04-06T15:30:08.281Z"
   },
   {
    "duration": 51,
    "start_time": "2022-04-06T15:30:08.379Z"
   },
   {
    "duration": 13,
    "start_time": "2022-04-06T15:30:08.513Z"
   },
   {
    "duration": 7,
    "start_time": "2022-04-06T15:30:08.633Z"
   },
   {
    "duration": 166,
    "start_time": "2022-04-06T15:30:08.738Z"
   },
   {
    "duration": 26,
    "start_time": "2022-04-06T15:30:09.021Z"
   },
   {
    "duration": 57,
    "start_time": "2022-04-06T15:30:09.126Z"
   },
   {
    "duration": 13,
    "start_time": "2022-04-06T15:30:09.210Z"
   },
   {
    "duration": 7,
    "start_time": "2022-04-06T15:30:09.308Z"
   },
   {
    "duration": 17,
    "start_time": "2022-04-06T15:30:09.418Z"
   },
   {
    "duration": 80,
    "start_time": "2022-04-06T15:30:09.704Z"
   },
   {
    "duration": 18,
    "start_time": "2022-04-06T15:30:09.804Z"
   },
   {
    "duration": 7,
    "start_time": "2022-04-06T15:30:09.902Z"
   },
   {
    "duration": 18,
    "start_time": "2022-04-06T15:30:09.997Z"
   },
   {
    "duration": 5,
    "start_time": "2022-04-06T15:30:10.098Z"
   },
   {
    "duration": 15,
    "start_time": "2022-04-06T15:30:10.198Z"
   },
   {
    "duration": 10,
    "start_time": "2022-04-06T15:30:10.407Z"
   },
   {
    "duration": 5,
    "start_time": "2022-04-06T15:30:10.515Z"
   },
   {
    "duration": 8,
    "start_time": "2022-04-06T15:30:10.642Z"
   },
   {
    "duration": 8,
    "start_time": "2022-04-06T15:30:10.907Z"
   },
   {
    "duration": 10,
    "start_time": "2022-04-06T15:30:10.917Z"
   },
   {
    "duration": 4,
    "start_time": "2022-04-06T15:32:18.112Z"
   },
   {
    "duration": 33,
    "start_time": "2022-04-06T15:32:18.121Z"
   },
   {
    "duration": 15,
    "start_time": "2022-04-06T15:32:18.157Z"
   },
   {
    "duration": 17,
    "start_time": "2022-04-06T15:32:18.174Z"
   },
   {
    "duration": 20,
    "start_time": "2022-04-06T15:32:18.194Z"
   },
   {
    "duration": 15,
    "start_time": "2022-04-06T15:32:18.216Z"
   },
   {
    "duration": 163,
    "start_time": "2022-04-06T15:32:18.233Z"
   },
   {
    "duration": 26,
    "start_time": "2022-04-06T15:32:18.399Z"
   },
   {
    "duration": 96,
    "start_time": "2022-04-06T15:32:18.428Z"
   },
   {
    "duration": 208,
    "start_time": "2022-04-06T15:32:18.526Z"
   },
   {
    "duration": 38,
    "start_time": "2022-04-06T15:32:18.738Z"
   },
   {
    "duration": 122,
    "start_time": "2022-04-06T15:32:18.778Z"
   },
   {
    "duration": 202,
    "start_time": "2022-04-06T15:32:18.902Z"
   },
   {
    "duration": 34,
    "start_time": "2022-04-06T15:32:19.106Z"
   },
   {
    "duration": 161,
    "start_time": "2022-04-06T15:32:19.142Z"
   },
   {
    "duration": 5,
    "start_time": "2022-04-06T15:32:19.306Z"
   },
   {
    "duration": 8,
    "start_time": "2022-04-06T15:32:19.314Z"
   },
   {
    "duration": 7,
    "start_time": "2022-04-06T15:32:19.325Z"
   },
   {
    "duration": 51,
    "start_time": "2022-04-06T15:32:19.334Z"
   },
   {
    "duration": 9,
    "start_time": "2022-04-06T15:32:19.387Z"
   },
   {
    "duration": 7,
    "start_time": "2022-04-06T15:32:19.398Z"
   },
   {
    "duration": 9,
    "start_time": "2022-04-06T15:32:19.407Z"
   },
   {
    "duration": 9,
    "start_time": "2022-04-06T15:32:19.418Z"
   },
   {
    "duration": 48,
    "start_time": "2022-04-06T15:32:19.429Z"
   },
   {
    "duration": 14,
    "start_time": "2022-04-06T15:32:19.479Z"
   },
   {
    "duration": 11,
    "start_time": "2022-04-06T15:32:19.496Z"
   },
   {
    "duration": 9,
    "start_time": "2022-04-06T15:32:19.509Z"
   },
   {
    "duration": 57,
    "start_time": "2022-04-06T15:32:19.520Z"
   },
   {
    "duration": 20,
    "start_time": "2022-04-06T15:32:19.584Z"
   },
   {
    "duration": 36,
    "start_time": "2022-04-06T15:32:19.606Z"
   },
   {
    "duration": 33,
    "start_time": "2022-04-06T15:32:19.645Z"
   },
   {
    "duration": 7,
    "start_time": "2022-04-06T15:32:19.680Z"
   },
   {
    "duration": 9,
    "start_time": "2022-04-06T15:32:19.690Z"
   },
   {
    "duration": 7,
    "start_time": "2022-04-06T15:32:19.701Z"
   },
   {
    "duration": 9,
    "start_time": "2022-04-06T15:32:19.710Z"
   },
   {
    "duration": 76,
    "start_time": "2022-04-06T15:32:19.721Z"
   },
   {
    "duration": 23,
    "start_time": "2022-04-06T15:32:19.799Z"
   },
   {
    "duration": 11,
    "start_time": "2022-04-06T15:32:19.824Z"
   },
   {
    "duration": 59,
    "start_time": "2022-04-06T15:32:19.837Z"
   },
   {
    "duration": 7,
    "start_time": "2022-04-06T15:32:19.899Z"
   },
   {
    "duration": 14,
    "start_time": "2022-04-06T15:32:19.909Z"
   },
   {
    "duration": 8,
    "start_time": "2022-04-06T15:32:19.926Z"
   },
   {
    "duration": 46,
    "start_time": "2022-04-06T15:32:19.973Z"
   },
   {
    "duration": 5,
    "start_time": "2022-04-06T15:32:20.021Z"
   },
   {
    "duration": 47,
    "start_time": "2022-04-06T15:32:20.029Z"
   },
   {
    "duration": 16,
    "start_time": "2022-04-06T15:32:20.079Z"
   },
   {
    "duration": 112,
    "start_time": "2022-04-06T15:32:20.098Z"
   },
   {
    "duration": 16,
    "start_time": "2022-04-06T15:32:20.213Z"
   },
   {
    "duration": 7,
    "start_time": "2022-04-06T15:32:20.232Z"
   },
   {
    "duration": 39,
    "start_time": "2022-04-06T15:32:20.241Z"
   },
   {
    "duration": 11,
    "start_time": "2022-04-06T15:32:20.282Z"
   },
   {
    "duration": 47,
    "start_time": "2022-04-06T15:32:20.295Z"
   },
   {
    "duration": 32,
    "start_time": "2022-04-06T15:32:20.344Z"
   },
   {
    "duration": 46,
    "start_time": "2022-04-06T15:32:20.378Z"
   },
   {
    "duration": 12,
    "start_time": "2022-04-06T15:32:20.426Z"
   },
   {
    "duration": 47,
    "start_time": "2022-04-06T15:32:20.440Z"
   },
   {
    "duration": 13,
    "start_time": "2022-04-06T15:32:20.489Z"
   },
   {
    "duration": 37,
    "start_time": "2022-04-06T15:32:20.505Z"
   },
   {
    "duration": 154,
    "start_time": "2022-04-06T15:32:20.544Z"
   },
   {
    "duration": 13,
    "start_time": "2022-04-06T15:32:20.700Z"
   },
   {
    "duration": 12,
    "start_time": "2022-04-06T15:32:20.715Z"
   },
   {
    "duration": 22,
    "start_time": "2022-04-06T15:32:20.729Z"
   },
   {
    "duration": 35,
    "start_time": "2022-04-06T15:32:20.753Z"
   },
   {
    "duration": 54,
    "start_time": "2022-04-06T15:32:20.790Z"
   },
   {
    "duration": 33,
    "start_time": "2022-04-06T15:32:20.846Z"
   },
   {
    "duration": 14,
    "start_time": "2022-04-06T15:32:20.881Z"
   },
   {
    "duration": 21,
    "start_time": "2022-04-06T15:32:20.897Z"
   },
   {
    "duration": 42,
    "start_time": "2022-04-06T15:32:20.920Z"
   },
   {
    "duration": 62,
    "start_time": "2022-04-06T15:32:20.964Z"
   },
   {
    "duration": 12,
    "start_time": "2022-04-06T15:32:21.028Z"
   },
   {
    "duration": 16,
    "start_time": "2022-04-06T15:32:21.042Z"
   },
   {
    "duration": 21,
    "start_time": "2022-04-06T15:32:21.075Z"
   },
   {
    "duration": 54,
    "start_time": "2022-04-06T15:32:21.099Z"
   },
   {
    "duration": 27,
    "start_time": "2022-04-06T15:32:21.155Z"
   },
   {
    "duration": 7,
    "start_time": "2022-04-06T15:32:21.184Z"
   },
   {
    "duration": 21,
    "start_time": "2022-04-06T15:32:21.193Z"
   },
   {
    "duration": 14,
    "start_time": "2022-04-06T15:32:21.217Z"
   },
   {
    "duration": 41,
    "start_time": "2022-04-06T15:32:21.233Z"
   },
   {
    "duration": 13,
    "start_time": "2022-04-06T15:32:21.277Z"
   },
   {
    "duration": 9,
    "start_time": "2022-04-06T15:32:21.292Z"
   },
   {
    "duration": 10,
    "start_time": "2022-04-06T15:32:21.304Z"
   },
   {
    "duration": 10,
    "start_time": "2022-04-06T15:32:21.317Z"
   },
   {
    "duration": 8,
    "start_time": "2022-04-06T15:32:21.377Z"
   },
   {
    "duration": 13,
    "start_time": "2022-04-06T15:32:21.388Z"
   },
   {
    "duration": 6,
    "start_time": "2022-04-06T15:32:21.404Z"
   },
   {
    "duration": 22,
    "start_time": "2022-04-06T15:32:21.412Z"
   },
   {
    "duration": 9,
    "start_time": "2022-04-06T15:32:21.437Z"
   },
   {
    "duration": 18,
    "start_time": "2022-04-06T15:32:21.475Z"
   },
   {
    "duration": 4,
    "start_time": "2022-04-06T15:40:27.563Z"
   },
   {
    "duration": 37,
    "start_time": "2022-04-06T15:40:27.571Z"
   },
   {
    "duration": 16,
    "start_time": "2022-04-06T15:40:27.610Z"
   },
   {
    "duration": 10,
    "start_time": "2022-04-06T15:40:27.628Z"
   },
   {
    "duration": 34,
    "start_time": "2022-04-06T15:40:27.641Z"
   },
   {
    "duration": 15,
    "start_time": "2022-04-06T15:40:27.677Z"
   },
   {
    "duration": 145,
    "start_time": "2022-04-06T15:40:27.694Z"
   },
   {
    "duration": 46,
    "start_time": "2022-04-06T15:40:27.841Z"
   },
   {
    "duration": 93,
    "start_time": "2022-04-06T15:40:27.889Z"
   },
   {
    "duration": 189,
    "start_time": "2022-04-06T15:40:27.986Z"
   },
   {
    "duration": 30,
    "start_time": "2022-04-06T15:40:28.177Z"
   },
   {
    "duration": 139,
    "start_time": "2022-04-06T15:40:28.209Z"
   },
   {
    "duration": 207,
    "start_time": "2022-04-06T15:40:28.350Z"
   },
   {
    "duration": 44,
    "start_time": "2022-04-06T15:40:28.559Z"
   },
   {
    "duration": 143,
    "start_time": "2022-04-06T15:40:28.605Z"
   },
   {
    "duration": 6,
    "start_time": "2022-04-06T15:40:28.750Z"
   },
   {
    "duration": 6,
    "start_time": "2022-04-06T15:40:28.774Z"
   },
   {
    "duration": 11,
    "start_time": "2022-04-06T15:40:28.783Z"
   },
   {
    "duration": 21,
    "start_time": "2022-04-06T15:40:28.797Z"
   },
   {
    "duration": 8,
    "start_time": "2022-04-06T15:40:28.821Z"
   },
   {
    "duration": 7,
    "start_time": "2022-04-06T15:40:28.831Z"
   },
   {
    "duration": 35,
    "start_time": "2022-04-06T15:40:28.840Z"
   },
   {
    "duration": 7,
    "start_time": "2022-04-06T15:40:28.877Z"
   },
   {
    "duration": 7,
    "start_time": "2022-04-06T15:40:28.890Z"
   },
   {
    "duration": 8,
    "start_time": "2022-04-06T15:40:28.899Z"
   },
   {
    "duration": 11,
    "start_time": "2022-04-06T15:40:28.909Z"
   },
   {
    "duration": 54,
    "start_time": "2022-04-06T15:40:28.922Z"
   },
   {
    "duration": 30,
    "start_time": "2022-04-06T15:40:28.978Z"
   },
   {
    "duration": 21,
    "start_time": "2022-04-06T15:40:29.010Z"
   },
   {
    "duration": 68,
    "start_time": "2022-04-06T15:40:29.033Z"
   },
   {
    "duration": 12,
    "start_time": "2022-04-06T15:40:29.103Z"
   },
   {
    "duration": 8,
    "start_time": "2022-04-06T15:40:29.117Z"
   },
   {
    "duration": 47,
    "start_time": "2022-04-06T15:40:29.127Z"
   },
   {
    "duration": 4,
    "start_time": "2022-04-06T15:40:29.176Z"
   },
   {
    "duration": 10,
    "start_time": "2022-04-06T15:40:29.182Z"
   },
   {
    "duration": 34,
    "start_time": "2022-04-06T15:40:29.194Z"
   },
   {
    "duration": 44,
    "start_time": "2022-04-06T15:40:29.231Z"
   },
   {
    "duration": 12,
    "start_time": "2022-04-06T15:40:29.277Z"
   },
   {
    "duration": 37,
    "start_time": "2022-04-06T15:40:29.291Z"
   },
   {
    "duration": 6,
    "start_time": "2022-04-06T15:40:29.330Z"
   },
   {
    "duration": 44,
    "start_time": "2022-04-06T15:40:29.338Z"
   },
   {
    "duration": 8,
    "start_time": "2022-04-06T15:40:29.384Z"
   },
   {
    "duration": 47,
    "start_time": "2022-04-06T15:40:29.394Z"
   },
   {
    "duration": 31,
    "start_time": "2022-04-06T15:40:29.443Z"
   },
   {
    "duration": 29,
    "start_time": "2022-04-06T15:40:29.476Z"
   },
   {
    "duration": 14,
    "start_time": "2022-04-06T15:40:29.507Z"
   },
   {
    "duration": 110,
    "start_time": "2022-04-06T15:40:29.523Z"
   },
   {
    "duration": 15,
    "start_time": "2022-04-06T15:40:29.635Z"
   },
   {
    "duration": 23,
    "start_time": "2022-04-06T15:40:29.652Z"
   },
   {
    "duration": 15,
    "start_time": "2022-04-06T15:40:29.677Z"
   },
   {
    "duration": 9,
    "start_time": "2022-04-06T15:40:29.694Z"
   },
   {
    "duration": 68,
    "start_time": "2022-04-06T15:40:29.705Z"
   },
   {
    "duration": 15,
    "start_time": "2022-04-06T15:40:29.776Z"
   },
   {
    "duration": 27,
    "start_time": "2022-04-06T15:40:29.794Z"
   },
   {
    "duration": 12,
    "start_time": "2022-04-06T15:40:29.823Z"
   },
   {
    "duration": 65,
    "start_time": "2022-04-06T15:40:29.838Z"
   },
   {
    "duration": 14,
    "start_time": "2022-04-06T15:40:29.905Z"
   },
   {
    "duration": 62,
    "start_time": "2022-04-06T15:40:29.921Z"
   },
   {
    "duration": 147,
    "start_time": "2022-04-06T15:40:29.985Z"
   },
   {
    "duration": 13,
    "start_time": "2022-04-06T15:40:30.134Z"
   },
   {
    "duration": 25,
    "start_time": "2022-04-06T15:40:30.149Z"
   },
   {
    "duration": 16,
    "start_time": "2022-04-06T15:40:30.176Z"
   },
   {
    "duration": 27,
    "start_time": "2022-04-06T15:40:30.194Z"
   },
   {
    "duration": 73,
    "start_time": "2022-04-06T15:40:30.223Z"
   },
   {
    "duration": 12,
    "start_time": "2022-04-06T15:40:30.298Z"
   },
   {
    "duration": 6,
    "start_time": "2022-04-06T15:40:30.317Z"
   },
   {
    "duration": 19,
    "start_time": "2022-04-06T15:40:30.326Z"
   },
   {
    "duration": 26,
    "start_time": "2022-04-06T15:40:30.375Z"
   },
   {
    "duration": 86,
    "start_time": "2022-04-06T15:40:30.403Z"
   },
   {
    "duration": 14,
    "start_time": "2022-04-06T15:40:30.491Z"
   },
   {
    "duration": 18,
    "start_time": "2022-04-06T15:40:30.507Z"
   },
   {
    "duration": 29,
    "start_time": "2022-04-06T15:40:30.527Z"
   },
   {
    "duration": 51,
    "start_time": "2022-04-06T15:40:30.559Z"
   },
   {
    "duration": 18,
    "start_time": "2022-04-06T15:40:30.613Z"
   },
   {
    "duration": 14,
    "start_time": "2022-04-06T15:40:30.633Z"
   },
   {
    "duration": 38,
    "start_time": "2022-04-06T15:40:30.649Z"
   },
   {
    "duration": 4,
    "start_time": "2022-04-06T15:40:30.689Z"
   },
   {
    "duration": 19,
    "start_time": "2022-04-06T15:40:30.695Z"
   },
   {
    "duration": 21,
    "start_time": "2022-04-06T15:40:30.716Z"
   },
   {
    "duration": 19,
    "start_time": "2022-04-06T15:40:30.739Z"
   },
   {
    "duration": 15,
    "start_time": "2022-04-06T15:40:30.760Z"
   },
   {
    "duration": 18,
    "start_time": "2022-04-06T15:40:30.777Z"
   },
   {
    "duration": 16,
    "start_time": "2022-04-06T15:40:30.797Z"
   },
   {
    "duration": 12,
    "start_time": "2022-04-06T15:40:30.815Z"
   },
   {
    "duration": 15,
    "start_time": "2022-04-06T15:40:30.829Z"
   },
   {
    "duration": 14,
    "start_time": "2022-04-06T15:40:30.846Z"
   },
   {
    "duration": 18,
    "start_time": "2022-04-06T15:40:30.862Z"
   },
   {
    "duration": 21,
    "start_time": "2022-04-06T15:40:30.882Z"
   },
   {
    "duration": 10,
    "start_time": "2022-04-06T15:40:30.905Z"
   },
   {
    "duration": 11,
    "start_time": "2022-04-06T15:40:30.917Z"
   },
   {
    "duration": 11,
    "start_time": "2022-04-06T15:40:30.930Z"
   },
   {
    "duration": 44,
    "start_time": "2022-04-06T15:40:30.943Z"
   },
   {
    "duration": 8,
    "start_time": "2022-04-06T15:40:30.989Z"
   },
   {
    "duration": 14,
    "start_time": "2022-04-06T15:40:30.999Z"
   },
   {
    "duration": 12,
    "start_time": "2022-04-06T15:40:31.019Z"
   },
   {
    "duration": 19,
    "start_time": "2022-04-06T15:40:31.033Z"
   },
   {
    "duration": 40,
    "start_time": "2022-04-06T15:40:31.054Z"
   },
   {
    "duration": 4,
    "start_time": "2022-04-06T15:47:26.246Z"
   },
   {
    "duration": 31,
    "start_time": "2022-04-06T15:47:26.257Z"
   },
   {
    "duration": 16,
    "start_time": "2022-04-06T15:47:26.290Z"
   },
   {
    "duration": 11,
    "start_time": "2022-04-06T15:47:26.308Z"
   },
   {
    "duration": 21,
    "start_time": "2022-04-06T15:47:26.321Z"
   },
   {
    "duration": 45,
    "start_time": "2022-04-06T15:47:26.344Z"
   },
   {
    "duration": 152,
    "start_time": "2022-04-06T15:47:26.391Z"
   },
   {
    "duration": 51,
    "start_time": "2022-04-06T15:47:26.545Z"
   },
   {
    "duration": 112,
    "start_time": "2022-04-06T15:47:26.601Z"
   },
   {
    "duration": 224,
    "start_time": "2022-04-06T15:47:26.716Z"
   },
   {
    "duration": 53,
    "start_time": "2022-04-06T15:47:26.942Z"
   },
   {
    "duration": 142,
    "start_time": "2022-04-06T15:47:26.998Z"
   },
   {
    "duration": 218,
    "start_time": "2022-04-06T15:47:27.143Z"
   },
   {
    "duration": 41,
    "start_time": "2022-04-06T15:47:27.365Z"
   },
   {
    "duration": 151,
    "start_time": "2022-04-06T15:47:27.408Z"
   },
   {
    "duration": 14,
    "start_time": "2022-04-06T15:47:27.562Z"
   },
   {
    "duration": 10,
    "start_time": "2022-04-06T15:47:27.579Z"
   },
   {
    "duration": 8,
    "start_time": "2022-04-06T15:47:27.591Z"
   },
   {
    "duration": 19,
    "start_time": "2022-04-06T15:47:27.601Z"
   },
   {
    "duration": 7,
    "start_time": "2022-04-06T15:47:27.627Z"
   },
   {
    "duration": 8,
    "start_time": "2022-04-06T15:47:27.673Z"
   },
   {
    "duration": 9,
    "start_time": "2022-04-06T15:47:27.684Z"
   },
   {
    "duration": 9,
    "start_time": "2022-04-06T15:47:27.696Z"
   },
   {
    "duration": 12,
    "start_time": "2022-04-06T15:47:27.707Z"
   },
   {
    "duration": 53,
    "start_time": "2022-04-06T15:47:27.722Z"
   },
   {
    "duration": 14,
    "start_time": "2022-04-06T15:47:27.778Z"
   },
   {
    "duration": 7,
    "start_time": "2022-04-06T15:47:27.795Z"
   },
   {
    "duration": 31,
    "start_time": "2022-04-06T15:47:27.804Z"
   },
   {
    "duration": 22,
    "start_time": "2022-04-06T15:47:27.874Z"
   },
   {
    "duration": 39,
    "start_time": "2022-04-06T15:47:27.899Z"
   },
   {
    "duration": 45,
    "start_time": "2022-04-06T15:47:27.941Z"
   },
   {
    "duration": 9,
    "start_time": "2022-04-06T15:47:27.989Z"
   },
   {
    "duration": 10,
    "start_time": "2022-04-06T15:47:28.001Z"
   },
   {
    "duration": 6,
    "start_time": "2022-04-06T15:47:28.013Z"
   },
   {
    "duration": 8,
    "start_time": "2022-04-06T15:47:28.021Z"
   },
   {
    "duration": 75,
    "start_time": "2022-04-06T15:47:28.031Z"
   },
   {
    "duration": 21,
    "start_time": "2022-04-06T15:47:28.109Z"
   },
   {
    "duration": 10,
    "start_time": "2022-04-06T15:47:28.133Z"
   },
   {
    "duration": 62,
    "start_time": "2022-04-06T15:47:28.145Z"
   },
   {
    "duration": 7,
    "start_time": "2022-04-06T15:47:28.209Z"
   },
   {
    "duration": 14,
    "start_time": "2022-04-06T15:47:28.218Z"
   },
   {
    "duration": 41,
    "start_time": "2022-04-06T15:47:28.234Z"
   },
   {
    "duration": 46,
    "start_time": "2022-04-06T15:47:28.277Z"
   },
   {
    "duration": 5,
    "start_time": "2022-04-06T15:47:28.325Z"
   },
   {
    "duration": 53,
    "start_time": "2022-04-06T15:47:28.332Z"
   },
   {
    "duration": 11,
    "start_time": "2022-04-06T15:47:28.387Z"
   },
   {
    "duration": 102,
    "start_time": "2022-04-06T15:47:28.400Z"
   },
   {
    "duration": 14,
    "start_time": "2022-04-06T15:47:28.504Z"
   },
   {
    "duration": 6,
    "start_time": "2022-04-06T15:47:28.520Z"
   },
   {
    "duration": 8,
    "start_time": "2022-04-06T15:47:28.528Z"
   },
   {
    "duration": 38,
    "start_time": "2022-04-06T15:47:28.538Z"
   },
   {
    "duration": 46,
    "start_time": "2022-04-06T15:47:28.579Z"
   },
   {
    "duration": 13,
    "start_time": "2022-04-06T15:47:28.633Z"
   },
   {
    "duration": 47,
    "start_time": "2022-04-06T15:47:28.648Z"
   },
   {
    "duration": 12,
    "start_time": "2022-04-06T15:47:28.697Z"
   },
   {
    "duration": 35,
    "start_time": "2022-04-06T15:47:28.711Z"
   },
   {
    "duration": 14,
    "start_time": "2022-04-06T15:47:28.774Z"
   },
   {
    "duration": 34,
    "start_time": "2022-04-06T15:47:28.790Z"
   },
   {
    "duration": 152,
    "start_time": "2022-04-06T15:47:28.827Z"
   },
   {
    "duration": 13,
    "start_time": "2022-04-06T15:47:28.981Z"
   },
   {
    "duration": 8,
    "start_time": "2022-04-06T15:47:28.996Z"
   },
   {
    "duration": 20,
    "start_time": "2022-04-06T15:47:29.006Z"
   },
   {
    "duration": 50,
    "start_time": "2022-04-06T15:47:29.028Z"
   },
   {
    "duration": 51,
    "start_time": "2022-04-06T15:47:29.080Z"
   },
   {
    "duration": 13,
    "start_time": "2022-04-06T15:47:29.133Z"
   },
   {
    "duration": 26,
    "start_time": "2022-04-06T15:47:29.148Z"
   },
   {
    "duration": 16,
    "start_time": "2022-04-06T15:47:29.176Z"
   },
   {
    "duration": 26,
    "start_time": "2022-04-06T15:47:29.194Z"
   },
   {
    "duration": 88,
    "start_time": "2022-04-06T15:47:29.222Z"
   },
   {
    "duration": 13,
    "start_time": "2022-04-06T15:47:29.312Z"
   },
   {
    "duration": 11,
    "start_time": "2022-04-06T15:47:29.327Z"
   },
   {
    "duration": 35,
    "start_time": "2022-04-06T15:47:29.340Z"
   },
   {
    "duration": 80,
    "start_time": "2022-04-06T15:47:29.377Z"
   },
   {
    "duration": 31,
    "start_time": "2022-04-06T15:47:29.459Z"
   },
   {
    "duration": 9,
    "start_time": "2022-04-06T15:47:29.493Z"
   },
   {
    "duration": 24,
    "start_time": "2022-04-06T15:47:29.504Z"
   },
   {
    "duration": 13,
    "start_time": "2022-04-06T15:47:29.531Z"
   },
   {
    "duration": 37,
    "start_time": "2022-04-06T15:47:29.546Z"
   },
   {
    "duration": 12,
    "start_time": "2022-04-06T15:47:29.585Z"
   },
   {
    "duration": 6,
    "start_time": "2022-04-06T15:47:29.599Z"
   },
   {
    "duration": 20,
    "start_time": "2022-04-06T15:47:29.607Z"
   },
   {
    "duration": 21,
    "start_time": "2022-04-06T15:47:29.629Z"
   },
   {
    "duration": 23,
    "start_time": "2022-04-06T15:47:29.652Z"
   },
   {
    "duration": 11,
    "start_time": "2022-04-06T15:47:29.677Z"
   },
   {
    "duration": 6,
    "start_time": "2022-04-06T15:47:29.690Z"
   },
   {
    "duration": 10,
    "start_time": "2022-04-06T15:47:29.698Z"
   },
   {
    "duration": 8,
    "start_time": "2022-04-06T15:47:29.710Z"
   },
   {
    "duration": 19,
    "start_time": "2022-04-06T15:47:29.720Z"
   },
   {
    "duration": 33,
    "start_time": "2022-04-06T15:47:29.741Z"
   },
   {
    "duration": 11,
    "start_time": "2022-04-06T15:47:29.776Z"
   },
   {
    "duration": 7,
    "start_time": "2022-04-06T15:47:29.789Z"
   },
   {
    "duration": 19,
    "start_time": "2022-04-06T15:47:29.799Z"
   },
   {
    "duration": 7,
    "start_time": "2022-04-06T15:47:29.820Z"
   },
   {
    "duration": 44,
    "start_time": "2022-04-06T15:47:29.829Z"
   },
   {
    "duration": 8,
    "start_time": "2022-04-06T15:47:29.875Z"
   },
   {
    "duration": 10,
    "start_time": "2022-04-06T15:47:29.885Z"
   },
   {
    "duration": 22,
    "start_time": "2022-04-06T15:47:29.897Z"
   },
   {
    "duration": 8,
    "start_time": "2022-04-06T15:47:29.922Z"
   },
   {
    "duration": 51,
    "start_time": "2022-04-06T15:47:29.932Z"
   },
   {
    "duration": 7,
    "start_time": "2022-04-06T15:47:29.986Z"
   },
   {
    "duration": 7,
    "start_time": "2022-04-06T15:47:29.995Z"
   },
   {
    "duration": 16,
    "start_time": "2022-04-06T15:47:30.004Z"
   },
   {
    "duration": 13,
    "start_time": "2022-04-06T15:47:30.022Z"
   },
   {
    "duration": 37,
    "start_time": "2022-04-06T15:47:30.043Z"
   },
   {
    "duration": 23,
    "start_time": "2022-04-06T15:47:30.083Z"
   },
   {
    "duration": 16,
    "start_time": "2022-04-06T15:47:30.108Z"
   },
   {
    "duration": 8,
    "start_time": "2022-04-06T15:47:30.126Z"
   },
   {
    "duration": 11,
    "start_time": "2022-04-06T15:47:30.136Z"
   },
   {
    "duration": 37,
    "start_time": "2022-04-06T15:47:30.150Z"
   },
   {
    "duration": 8,
    "start_time": "2022-04-06T15:47:30.724Z"
   },
   {
    "duration": 6,
    "start_time": "2022-04-06T15:47:30.927Z"
   },
   {
    "duration": 5,
    "start_time": "2022-04-06T15:47:31.477Z"
   },
   {
    "duration": 5,
    "start_time": "2022-04-06T15:47:31.905Z"
   },
   {
    "duration": 22,
    "start_time": "2022-04-06T15:47:32.164Z"
   },
   {
    "duration": 8,
    "start_time": "2022-04-06T15:47:32.765Z"
   },
   {
    "duration": 21,
    "start_time": "2022-04-06T15:47:32.971Z"
   },
   {
    "duration": 7,
    "start_time": "2022-04-06T15:47:33.175Z"
   },
   {
    "duration": 4,
    "start_time": "2022-04-06T16:04:36.434Z"
   },
   {
    "duration": 36,
    "start_time": "2022-04-06T16:04:36.449Z"
   },
   {
    "duration": 16,
    "start_time": "2022-04-06T16:04:36.488Z"
   },
   {
    "duration": 11,
    "start_time": "2022-04-06T16:04:36.506Z"
   },
   {
    "duration": 21,
    "start_time": "2022-04-06T16:04:36.520Z"
   },
   {
    "duration": 40,
    "start_time": "2022-04-06T16:04:36.543Z"
   },
   {
    "duration": 141,
    "start_time": "2022-04-06T16:04:36.585Z"
   },
   {
    "duration": 46,
    "start_time": "2022-04-06T16:04:36.728Z"
   },
   {
    "duration": 98,
    "start_time": "2022-04-06T16:04:36.777Z"
   },
   {
    "duration": 198,
    "start_time": "2022-04-06T16:04:36.877Z"
   },
   {
    "duration": 29,
    "start_time": "2022-04-06T16:04:37.077Z"
   },
   {
    "duration": 138,
    "start_time": "2022-04-06T16:04:37.108Z"
   },
   {
    "duration": 255,
    "start_time": "2022-04-06T16:04:37.248Z"
   },
   {
    "duration": 34,
    "start_time": "2022-04-06T16:04:37.505Z"
   },
   {
    "duration": 178,
    "start_time": "2022-04-06T16:04:37.541Z"
   },
   {
    "duration": 5,
    "start_time": "2022-04-06T16:04:37.721Z"
   },
   {
    "duration": 11,
    "start_time": "2022-04-06T16:04:37.728Z"
   },
   {
    "duration": 34,
    "start_time": "2022-04-06T16:04:37.741Z"
   },
   {
    "duration": 22,
    "start_time": "2022-04-06T16:04:37.777Z"
   },
   {
    "duration": 8,
    "start_time": "2022-04-06T16:04:37.805Z"
   },
   {
    "duration": 7,
    "start_time": "2022-04-06T16:04:37.815Z"
   },
   {
    "duration": 8,
    "start_time": "2022-04-06T16:04:37.824Z"
   },
   {
    "duration": 40,
    "start_time": "2022-04-06T16:04:37.834Z"
   },
   {
    "duration": 7,
    "start_time": "2022-04-06T16:04:37.876Z"
   },
   {
    "duration": 12,
    "start_time": "2022-04-06T16:04:37.885Z"
   },
   {
    "duration": 11,
    "start_time": "2022-04-06T16:04:37.899Z"
   },
   {
    "duration": 7,
    "start_time": "2022-04-06T16:04:37.912Z"
   },
   {
    "duration": 66,
    "start_time": "2022-04-06T16:04:37.921Z"
   },
   {
    "duration": 20,
    "start_time": "2022-04-06T16:04:37.989Z"
   },
   {
    "duration": 61,
    "start_time": "2022-04-06T16:04:38.012Z"
   },
   {
    "duration": 20,
    "start_time": "2022-04-06T16:04:38.076Z"
   },
   {
    "duration": 10,
    "start_time": "2022-04-06T16:04:38.099Z"
   },
   {
    "duration": 11,
    "start_time": "2022-04-06T16:04:38.112Z"
   },
   {
    "duration": 9,
    "start_time": "2022-04-06T16:04:38.126Z"
   },
   {
    "duration": 42,
    "start_time": "2022-04-06T16:04:38.138Z"
   },
   {
    "duration": 38,
    "start_time": "2022-04-06T16:04:38.182Z"
   },
   {
    "duration": 23,
    "start_time": "2022-04-06T16:04:38.222Z"
   },
   {
    "duration": 36,
    "start_time": "2022-04-06T16:04:38.247Z"
   },
   {
    "duration": 41,
    "start_time": "2022-04-06T16:04:38.285Z"
   },
   {
    "duration": 6,
    "start_time": "2022-04-06T16:04:38.328Z"
   },
   {
    "duration": 43,
    "start_time": "2022-04-06T16:04:38.336Z"
   },
   {
    "duration": 7,
    "start_time": "2022-04-06T16:04:38.382Z"
   },
   {
    "duration": 58,
    "start_time": "2022-04-06T16:04:38.391Z"
   },
   {
    "duration": 5,
    "start_time": "2022-04-06T16:04:38.451Z"
   },
   {
    "duration": 25,
    "start_time": "2022-04-06T16:04:38.474Z"
   },
   {
    "duration": 10,
    "start_time": "2022-04-06T16:04:38.501Z"
   },
   {
    "duration": 105,
    "start_time": "2022-04-06T16:04:38.513Z"
   },
   {
    "duration": 15,
    "start_time": "2022-04-06T16:04:38.620Z"
   },
   {
    "duration": 8,
    "start_time": "2022-04-06T16:04:38.637Z"
   },
   {
    "duration": 33,
    "start_time": "2022-04-06T16:04:38.647Z"
   },
   {
    "duration": 13,
    "start_time": "2022-04-06T16:04:38.683Z"
   },
   {
    "duration": 54,
    "start_time": "2022-04-06T16:04:38.698Z"
   },
   {
    "duration": 17,
    "start_time": "2022-04-06T16:04:38.761Z"
   },
   {
    "duration": 27,
    "start_time": "2022-04-06T16:04:38.780Z"
   },
   {
    "duration": 12,
    "start_time": "2022-04-06T16:04:38.809Z"
   },
   {
    "duration": 60,
    "start_time": "2022-04-06T16:04:38.823Z"
   },
   {
    "duration": 12,
    "start_time": "2022-04-06T16:04:38.885Z"
   },
   {
    "duration": 38,
    "start_time": "2022-04-06T16:04:38.900Z"
   },
   {
    "duration": 150,
    "start_time": "2022-04-06T16:04:38.940Z"
   },
   {
    "duration": 13,
    "start_time": "2022-04-06T16:04:39.092Z"
   },
   {
    "duration": 12,
    "start_time": "2022-04-06T16:04:39.107Z"
   },
   {
    "duration": 29,
    "start_time": "2022-04-06T16:04:39.121Z"
   },
   {
    "duration": 39,
    "start_time": "2022-04-06T16:04:39.152Z"
   },
   {
    "duration": 50,
    "start_time": "2022-04-06T16:04:39.193Z"
   },
   {
    "duration": 12,
    "start_time": "2022-04-06T16:04:39.245Z"
   },
   {
    "duration": 7,
    "start_time": "2022-04-06T16:04:39.274Z"
   },
   {
    "duration": 23,
    "start_time": "2022-04-06T16:04:39.282Z"
   },
   {
    "duration": 32,
    "start_time": "2022-04-06T16:04:39.307Z"
   },
   {
    "duration": 90,
    "start_time": "2022-04-06T16:04:39.341Z"
   },
   {
    "duration": 12,
    "start_time": "2022-04-06T16:04:39.433Z"
   },
   {
    "duration": 22,
    "start_time": "2022-04-06T16:04:39.447Z"
   },
   {
    "duration": 26,
    "start_time": "2022-04-06T16:04:39.471Z"
   },
   {
    "duration": 55,
    "start_time": "2022-04-06T16:04:39.500Z"
   },
   {
    "duration": 19,
    "start_time": "2022-04-06T16:04:39.557Z"
   },
   {
    "duration": 20,
    "start_time": "2022-04-06T16:04:39.578Z"
   },
   {
    "duration": 32,
    "start_time": "2022-04-06T16:04:39.600Z"
   },
   {
    "duration": 20,
    "start_time": "2022-04-06T16:04:39.634Z"
   },
   {
    "duration": 31,
    "start_time": "2022-04-06T16:04:39.657Z"
   },
   {
    "duration": 24,
    "start_time": "2022-04-06T16:04:39.690Z"
   },
   {
    "duration": 20,
    "start_time": "2022-04-06T16:04:39.716Z"
   },
   {
    "duration": 28,
    "start_time": "2022-04-06T16:04:39.738Z"
   },
   {
    "duration": 23,
    "start_time": "2022-04-06T16:04:39.768Z"
   },
   {
    "duration": 23,
    "start_time": "2022-04-06T16:04:39.794Z"
   },
   {
    "duration": 26,
    "start_time": "2022-04-06T16:04:39.819Z"
   },
   {
    "duration": 18,
    "start_time": "2022-04-06T16:04:39.848Z"
   },
   {
    "duration": 29,
    "start_time": "2022-04-06T16:04:39.868Z"
   },
   {
    "duration": 18,
    "start_time": "2022-04-06T16:04:39.899Z"
   },
   {
    "duration": 29,
    "start_time": "2022-04-06T16:04:39.919Z"
   },
   {
    "duration": 18,
    "start_time": "2022-04-06T16:04:39.950Z"
   },
   {
    "duration": 19,
    "start_time": "2022-04-06T16:04:39.970Z"
   },
   {
    "duration": 12,
    "start_time": "2022-04-06T16:04:39.992Z"
   },
   {
    "duration": 31,
    "start_time": "2022-04-06T16:04:40.007Z"
   },
   {
    "duration": 18,
    "start_time": "2022-04-06T16:04:40.040Z"
   },
   {
    "duration": 16,
    "start_time": "2022-04-06T16:04:40.061Z"
   },
   {
    "duration": 12,
    "start_time": "2022-04-06T16:04:40.080Z"
   },
   {
    "duration": 24,
    "start_time": "2022-04-06T16:04:40.095Z"
   },
   {
    "duration": 24,
    "start_time": "2022-04-06T16:04:40.122Z"
   },
   {
    "duration": 33,
    "start_time": "2022-04-06T16:04:40.148Z"
   },
   {
    "duration": 25,
    "start_time": "2022-04-06T16:04:40.184Z"
   },
   {
    "duration": 30,
    "start_time": "2022-04-06T16:04:40.212Z"
   },
   {
    "duration": 15,
    "start_time": "2022-04-06T16:04:40.244Z"
   },
   {
    "duration": 21,
    "start_time": "2022-04-06T16:04:40.262Z"
   },
   {
    "duration": 19,
    "start_time": "2022-04-06T16:04:40.286Z"
   },
   {
    "duration": 24,
    "start_time": "2022-04-06T16:04:40.307Z"
   },
   {
    "duration": 50,
    "start_time": "2022-04-06T16:04:40.333Z"
   },
   {
    "duration": 15,
    "start_time": "2022-04-06T16:04:40.385Z"
   },
   {
    "duration": 6,
    "start_time": "2022-04-06T16:04:40.402Z"
   },
   {
    "duration": 10,
    "start_time": "2022-04-06T16:04:40.410Z"
   },
   {
    "duration": 28,
    "start_time": "2022-04-06T16:04:40.422Z"
   },
   {
    "duration": 22,
    "start_time": "2022-04-06T16:04:40.453Z"
   },
   {
    "duration": 7,
    "start_time": "2022-04-06T16:04:40.478Z"
   },
   {
    "duration": 6,
    "start_time": "2022-04-06T16:04:40.488Z"
   },
   {
    "duration": 22,
    "start_time": "2022-04-06T16:04:40.497Z"
   },
   {
    "duration": 38,
    "start_time": "2022-04-06T16:04:40.522Z"
   },
   {
    "duration": 11,
    "start_time": "2022-04-06T16:04:40.574Z"
   },
   {
    "duration": 33,
    "start_time": "2022-04-06T16:04:40.587Z"
   },
   {
    "duration": 10,
    "start_time": "2022-04-06T16:04:40.622Z"
   },
   {
    "duration": 43,
    "start_time": "2022-04-06T16:04:40.634Z"
   },
   {
    "duration": 57,
    "start_time": "2022-04-06T16:04:40.685Z"
   },
   {
    "duration": 933,
    "start_time": "2022-04-06T16:04:40.744Z"
   },
   {
    "duration": 196,
    "start_time": "2022-04-06T16:04:41.680Z"
   },
   {
    "duration": 6,
    "start_time": "2022-04-06T16:04:41.881Z"
   },
   {
    "duration": 7,
    "start_time": "2022-04-06T16:04:41.890Z"
   },
   {
    "duration": 8,
    "start_time": "2022-04-06T16:04:41.899Z"
   },
   {
    "duration": 7,
    "start_time": "2022-04-06T16:04:41.909Z"
   },
   {
    "duration": 55,
    "start_time": "2022-04-06T16:04:41.919Z"
   },
   {
    "duration": 258,
    "start_time": "2022-04-06T16:04:41.977Z"
   },
   {
    "duration": 164,
    "start_time": "2022-04-06T16:04:42.443Z"
   },
   {
    "duration": 6,
    "start_time": "2022-04-06T16:04:43.020Z"
   },
   {
    "duration": 5,
    "start_time": "2022-04-06T16:04:43.032Z"
   },
   {
    "duration": 7,
    "start_time": "2022-04-06T16:04:43.040Z"
   },
   {
    "duration": 6,
    "start_time": "2022-04-06T16:04:43.343Z"
   },
   {
    "duration": 202,
    "start_time": "2022-04-06T16:04:43.659Z"
   },
   {
    "duration": 166,
    "start_time": "2022-04-06T16:04:44.269Z"
   },
   {
    "duration": 4,
    "start_time": "2022-04-06T16:04:44.882Z"
   },
   {
    "duration": 8,
    "start_time": "2022-04-06T16:04:44.892Z"
   },
   {
    "duration": 7,
    "start_time": "2022-04-06T16:04:44.902Z"
   },
   {
    "duration": 5,
    "start_time": "2022-04-06T16:04:45.209Z"
   },
   {
    "duration": 5,
    "start_time": "2022-04-06T16:04:45.532Z"
   },
   {
    "duration": 34,
    "start_time": "2022-04-06T16:04:46.166Z"
   },
   {
    "duration": 59,
    "start_time": "2022-04-06T16:04:46.809Z"
   },
   {
    "duration": 209,
    "start_time": "2022-04-06T16:04:47.442Z"
   },
   {
    "duration": 171,
    "start_time": "2022-04-06T16:04:48.079Z"
   },
   {
    "duration": 5,
    "start_time": "2022-04-06T16:04:48.714Z"
   },
   {
    "duration": 5,
    "start_time": "2022-04-06T16:04:48.726Z"
   },
   {
    "duration": 10,
    "start_time": "2022-04-06T16:04:48.734Z"
   },
   {
    "duration": 6,
    "start_time": "2022-04-06T16:04:49.114Z"
   },
   {
    "duration": 5,
    "start_time": "2022-04-06T16:04:49.486Z"
   },
   {
    "duration": 301,
    "start_time": "2022-04-06T16:04:49.812Z"
   },
   {
    "duration": 167,
    "start_time": "2022-04-06T16:04:50.461Z"
   },
   {
    "duration": 6,
    "start_time": "2022-04-06T16:04:51.126Z"
   },
   {
    "duration": 8,
    "start_time": "2022-04-06T16:04:51.136Z"
   },
   {
    "duration": 6,
    "start_time": "2022-04-06T16:04:51.148Z"
   },
   {
    "duration": 5,
    "start_time": "2022-04-06T16:04:51.504Z"
   },
   {
    "duration": 229,
    "start_time": "2022-04-06T16:04:51.872Z"
   },
   {
    "duration": 179,
    "start_time": "2022-04-06T16:04:52.566Z"
   },
   {
    "duration": 6,
    "start_time": "2022-04-06T16:04:53.257Z"
   },
   {
    "duration": 10,
    "start_time": "2022-04-06T16:04:53.265Z"
   },
   {
    "duration": 12,
    "start_time": "2022-04-06T16:04:53.278Z"
   },
   {
    "duration": 6,
    "start_time": "2022-04-06T16:04:53.616Z"
   },
   {
    "duration": 5,
    "start_time": "2022-04-06T16:04:53.965Z"
   },
   {
    "duration": 4,
    "start_time": "2022-04-06T16:11:00.154Z"
   },
   {
    "duration": 47,
    "start_time": "2022-04-06T16:11:00.166Z"
   },
   {
    "duration": 17,
    "start_time": "2022-04-06T16:11:00.216Z"
   },
   {
    "duration": 18,
    "start_time": "2022-04-06T16:11:00.235Z"
   },
   {
    "duration": 26,
    "start_time": "2022-04-06T16:11:00.256Z"
   },
   {
    "duration": 17,
    "start_time": "2022-04-06T16:11:00.285Z"
   },
   {
    "duration": 190,
    "start_time": "2022-04-06T16:11:00.304Z"
   },
   {
    "duration": 25,
    "start_time": "2022-04-06T16:11:00.497Z"
   },
   {
    "duration": 102,
    "start_time": "2022-04-06T16:11:00.525Z"
   },
   {
    "duration": 224,
    "start_time": "2022-04-06T16:11:00.629Z"
   },
   {
    "duration": 48,
    "start_time": "2022-04-06T16:11:00.855Z"
   },
   {
    "duration": 144,
    "start_time": "2022-04-06T16:11:00.905Z"
   },
   {
    "duration": 266,
    "start_time": "2022-04-06T16:11:01.051Z"
   },
   {
    "duration": 33,
    "start_time": "2022-04-06T16:11:01.319Z"
   },
   {
    "duration": 167,
    "start_time": "2022-04-06T16:11:01.377Z"
   },
   {
    "duration": 5,
    "start_time": "2022-04-06T16:11:01.546Z"
   },
   {
    "duration": 27,
    "start_time": "2022-04-06T16:11:01.554Z"
   },
   {
    "duration": 23,
    "start_time": "2022-04-06T16:11:01.584Z"
   },
   {
    "duration": 21,
    "start_time": "2022-04-06T16:11:01.609Z"
   },
   {
    "duration": 21,
    "start_time": "2022-04-06T16:11:01.636Z"
   },
   {
    "duration": 16,
    "start_time": "2022-04-06T16:11:01.659Z"
   },
   {
    "duration": 23,
    "start_time": "2022-04-06T16:11:01.678Z"
   },
   {
    "duration": 18,
    "start_time": "2022-04-06T16:11:01.703Z"
   },
   {
    "duration": 10,
    "start_time": "2022-04-06T16:11:01.723Z"
   },
   {
    "duration": 14,
    "start_time": "2022-04-06T16:11:01.735Z"
   },
   {
    "duration": 16,
    "start_time": "2022-04-06T16:11:01.775Z"
   },
   {
    "duration": 17,
    "start_time": "2022-04-06T16:11:01.794Z"
   },
   {
    "duration": 45,
    "start_time": "2022-04-06T16:11:01.814Z"
   },
   {
    "duration": 55,
    "start_time": "2022-04-06T16:11:01.862Z"
   },
   {
    "duration": 44,
    "start_time": "2022-04-06T16:11:01.919Z"
   },
   {
    "duration": 31,
    "start_time": "2022-04-06T16:11:01.966Z"
   },
   {
    "duration": 33,
    "start_time": "2022-04-06T16:11:02.000Z"
   },
   {
    "duration": 30,
    "start_time": "2022-04-06T16:11:02.035Z"
   },
   {
    "duration": 29,
    "start_time": "2022-04-06T16:11:02.067Z"
   },
   {
    "duration": 48,
    "start_time": "2022-04-06T16:11:02.098Z"
   },
   {
    "duration": 69,
    "start_time": "2022-04-06T16:11:02.149Z"
   },
   {
    "duration": 25,
    "start_time": "2022-04-06T16:11:02.220Z"
   },
   {
    "duration": 29,
    "start_time": "2022-04-06T16:11:02.247Z"
   },
   {
    "duration": 48,
    "start_time": "2022-04-06T16:11:02.280Z"
   },
   {
    "duration": 6,
    "start_time": "2022-04-06T16:11:02.331Z"
   },
   {
    "duration": 43,
    "start_time": "2022-04-06T16:11:02.339Z"
   },
   {
    "duration": 11,
    "start_time": "2022-04-06T16:11:02.386Z"
   },
   {
    "duration": 56,
    "start_time": "2022-04-06T16:11:02.399Z"
   },
   {
    "duration": 16,
    "start_time": "2022-04-06T16:11:02.458Z"
   },
   {
    "duration": 46,
    "start_time": "2022-04-06T16:11:02.477Z"
   },
   {
    "duration": 13,
    "start_time": "2022-04-06T16:11:02.525Z"
   },
   {
    "duration": 114,
    "start_time": "2022-04-06T16:11:02.540Z"
   },
   {
    "duration": 30,
    "start_time": "2022-04-06T16:11:02.656Z"
   },
   {
    "duration": 7,
    "start_time": "2022-04-06T16:11:02.689Z"
   },
   {
    "duration": 9,
    "start_time": "2022-04-06T16:11:02.698Z"
   },
   {
    "duration": 5,
    "start_time": "2022-04-06T16:11:02.709Z"
   },
   {
    "duration": 86,
    "start_time": "2022-04-06T16:11:02.716Z"
   },
   {
    "duration": 13,
    "start_time": "2022-04-06T16:11:02.812Z"
   },
   {
    "duration": 29,
    "start_time": "2022-04-06T16:11:02.827Z"
   },
   {
    "duration": 17,
    "start_time": "2022-04-06T16:11:02.874Z"
   },
   {
    "duration": 34,
    "start_time": "2022-04-06T16:11:02.893Z"
   },
   {
    "duration": 12,
    "start_time": "2022-04-06T16:11:02.929Z"
   },
   {
    "duration": 41,
    "start_time": "2022-04-06T16:11:02.973Z"
   },
   {
    "duration": 155,
    "start_time": "2022-04-06T16:11:03.017Z"
   },
   {
    "duration": 19,
    "start_time": "2022-04-06T16:11:03.175Z"
   },
   {
    "duration": 12,
    "start_time": "2022-04-06T16:11:03.196Z"
   },
   {
    "duration": 25,
    "start_time": "2022-04-06T16:11:03.210Z"
   },
   {
    "duration": 47,
    "start_time": "2022-04-06T16:11:03.237Z"
   },
   {
    "duration": 56,
    "start_time": "2022-04-06T16:11:03.288Z"
   },
   {
    "duration": 28,
    "start_time": "2022-04-06T16:11:03.346Z"
   },
   {
    "duration": 15,
    "start_time": "2022-04-06T16:11:03.377Z"
   },
   {
    "duration": 17,
    "start_time": "2022-04-06T16:11:03.394Z"
   },
   {
    "duration": 27,
    "start_time": "2022-04-06T16:11:03.413Z"
   },
   {
    "duration": 87,
    "start_time": "2022-04-06T16:11:03.443Z"
   },
   {
    "duration": 14,
    "start_time": "2022-04-06T16:11:03.532Z"
   },
   {
    "duration": 26,
    "start_time": "2022-04-06T16:11:03.548Z"
   },
   {
    "duration": 34,
    "start_time": "2022-04-06T16:11:03.577Z"
   },
   {
    "duration": 47,
    "start_time": "2022-04-06T16:11:03.613Z"
   },
   {
    "duration": 31,
    "start_time": "2022-04-06T16:11:03.662Z"
   },
   {
    "duration": 10,
    "start_time": "2022-04-06T16:11:03.696Z"
   },
   {
    "duration": 21,
    "start_time": "2022-04-06T16:11:03.708Z"
   },
   {
    "duration": 42,
    "start_time": "2022-04-06T16:11:03.732Z"
   },
   {
    "duration": 23,
    "start_time": "2022-04-06T16:11:03.777Z"
   },
   {
    "duration": 12,
    "start_time": "2022-04-06T16:11:03.802Z"
   },
   {
    "duration": 5,
    "start_time": "2022-04-06T16:11:03.816Z"
   },
   {
    "duration": 9,
    "start_time": "2022-04-06T16:11:03.824Z"
   },
   {
    "duration": 44,
    "start_time": "2022-04-06T16:11:03.835Z"
   },
   {
    "duration": 17,
    "start_time": "2022-04-06T16:11:03.883Z"
   },
   {
    "duration": 13,
    "start_time": "2022-04-06T16:11:03.902Z"
   },
   {
    "duration": 7,
    "start_time": "2022-04-06T16:11:03.917Z"
   },
   {
    "duration": 19,
    "start_time": "2022-04-06T16:11:03.926Z"
   },
   {
    "duration": 12,
    "start_time": "2022-04-06T16:11:03.947Z"
   },
   {
    "duration": 19,
    "start_time": "2022-04-06T16:11:03.974Z"
   },
   {
    "duration": 7,
    "start_time": "2022-04-06T16:11:03.995Z"
   },
   {
    "duration": 6,
    "start_time": "2022-04-06T16:11:04.004Z"
   },
   {
    "duration": 9,
    "start_time": "2022-04-06T16:11:04.012Z"
   },
   {
    "duration": 66,
    "start_time": "2022-04-06T16:11:04.023Z"
   },
   {
    "duration": 7,
    "start_time": "2022-04-06T16:11:04.091Z"
   },
   {
    "duration": 12,
    "start_time": "2022-04-06T16:11:04.100Z"
   },
   {
    "duration": 14,
    "start_time": "2022-04-06T16:11:04.114Z"
   },
   {
    "duration": 14,
    "start_time": "2022-04-06T16:11:04.130Z"
   },
   {
    "duration": 44,
    "start_time": "2022-04-06T16:11:04.146Z"
   },
   {
    "duration": 7,
    "start_time": "2022-04-06T16:11:04.192Z"
   },
   {
    "duration": 24,
    "start_time": "2022-04-06T16:11:04.201Z"
   },
   {
    "duration": 8,
    "start_time": "2022-04-06T16:11:04.227Z"
   },
   {
    "duration": 39,
    "start_time": "2022-04-06T16:11:04.237Z"
   },
   {
    "duration": 14,
    "start_time": "2022-04-06T16:11:04.281Z"
   },
   {
    "duration": 8,
    "start_time": "2022-04-06T16:11:04.297Z"
   },
   {
    "duration": 9,
    "start_time": "2022-04-06T16:11:04.307Z"
   },
   {
    "duration": 23,
    "start_time": "2022-04-06T16:11:04.318Z"
   },
   {
    "duration": 34,
    "start_time": "2022-04-06T16:11:04.343Z"
   },
   {
    "duration": 17,
    "start_time": "2022-04-06T16:11:04.381Z"
   },
   {
    "duration": 7,
    "start_time": "2022-04-06T16:11:04.401Z"
   },
   {
    "duration": 20,
    "start_time": "2022-04-06T16:11:04.411Z"
   },
   {
    "duration": 9,
    "start_time": "2022-04-06T16:11:04.433Z"
   },
   {
    "duration": 30,
    "start_time": "2022-04-06T16:11:04.445Z"
   },
   {
    "duration": 19,
    "start_time": "2022-04-06T16:11:04.479Z"
   },
   {
    "duration": 13,
    "start_time": "2022-04-06T16:11:04.500Z"
   },
   {
    "duration": 20,
    "start_time": "2022-04-06T16:11:04.515Z"
   },
   {
    "duration": 11,
    "start_time": "2022-04-06T16:11:04.537Z"
   },
   {
    "duration": 48,
    "start_time": "2022-04-06T16:11:04.550Z"
   },
   {
    "duration": 9,
    "start_time": "2022-04-06T16:11:04.600Z"
   },
   {
    "duration": 28,
    "start_time": "2022-04-06T16:11:04.611Z"
   },
   {
    "duration": 60,
    "start_time": "2022-04-06T16:11:04.675Z"
   },
   {
    "duration": 242,
    "start_time": "2022-04-06T16:11:04.737Z"
   },
   {
    "duration": 191,
    "start_time": "2022-04-06T16:11:04.983Z"
   },
   {
    "duration": 7,
    "start_time": "2022-04-06T16:11:05.180Z"
   },
   {
    "duration": 9,
    "start_time": "2022-04-06T16:11:05.190Z"
   },
   {
    "duration": 12,
    "start_time": "2022-04-06T16:11:05.202Z"
   },
   {
    "duration": 9,
    "start_time": "2022-04-06T16:11:05.217Z"
   },
   {
    "duration": 8,
    "start_time": "2022-04-06T16:11:05.228Z"
   },
   {
    "duration": 285,
    "start_time": "2022-04-06T16:11:05.239Z"
   },
   {
    "duration": 248,
    "start_time": "2022-04-06T16:11:05.527Z"
   },
   {
    "duration": 7,
    "start_time": "2022-04-06T16:11:05.778Z"
   },
   {
    "duration": 14,
    "start_time": "2022-04-06T16:11:05.788Z"
   },
   {
    "duration": 11,
    "start_time": "2022-04-06T16:11:05.804Z"
   },
   {
    "duration": 7,
    "start_time": "2022-04-06T16:11:05.818Z"
   },
   {
    "duration": 250,
    "start_time": "2022-04-06T16:11:05.828Z"
   },
   {
    "duration": 196,
    "start_time": "2022-04-06T16:11:06.081Z"
   },
   {
    "duration": 7,
    "start_time": "2022-04-06T16:11:06.281Z"
   },
   {
    "duration": 11,
    "start_time": "2022-04-06T16:11:06.290Z"
   },
   {
    "duration": 5,
    "start_time": "2022-04-06T16:11:06.303Z"
   },
   {
    "duration": 6,
    "start_time": "2022-04-06T16:11:06.310Z"
   },
   {
    "duration": 7,
    "start_time": "2022-04-06T16:11:06.318Z"
   },
   {
    "duration": 80,
    "start_time": "2022-04-06T16:11:06.326Z"
   },
   {
    "duration": 72,
    "start_time": "2022-04-06T16:11:06.408Z"
   },
   {
    "duration": 239,
    "start_time": "2022-04-06T16:11:06.483Z"
   },
   {
    "duration": 203,
    "start_time": "2022-04-06T16:11:06.724Z"
   },
   {
    "duration": 5,
    "start_time": "2022-04-06T16:11:06.929Z"
   },
   {
    "duration": 8,
    "start_time": "2022-04-06T16:11:06.937Z"
   },
   {
    "duration": 30,
    "start_time": "2022-04-06T16:11:06.947Z"
   },
   {
    "duration": 7,
    "start_time": "2022-04-06T16:11:06.979Z"
   },
   {
    "duration": 18,
    "start_time": "2022-04-06T16:11:06.989Z"
   },
   {
    "duration": 269,
    "start_time": "2022-04-06T16:11:07.009Z"
   },
   {
    "duration": 193,
    "start_time": "2022-04-06T16:11:07.281Z"
   },
   {
    "duration": 7,
    "start_time": "2022-04-06T16:11:07.477Z"
   },
   {
    "duration": 6,
    "start_time": "2022-04-06T16:11:07.499Z"
   },
   {
    "duration": 8,
    "start_time": "2022-04-06T16:11:07.508Z"
   },
   {
    "duration": 7,
    "start_time": "2022-04-06T16:11:07.518Z"
   },
   {
    "duration": 303,
    "start_time": "2022-04-06T16:11:07.527Z"
   },
   {
    "duration": 196,
    "start_time": "2022-04-06T16:11:07.833Z"
   },
   {
    "duration": 5,
    "start_time": "2022-04-06T16:11:08.032Z"
   },
   {
    "duration": 10,
    "start_time": "2022-04-06T16:11:08.039Z"
   },
   {
    "duration": 23,
    "start_time": "2022-04-06T16:11:08.051Z"
   },
   {
    "duration": 7,
    "start_time": "2022-04-06T16:11:08.076Z"
   },
   {
    "duration": 6,
    "start_time": "2022-04-06T16:11:08.085Z"
   },
   {
    "duration": 22,
    "start_time": "2022-04-06T16:11:08.093Z"
   },
   {
    "duration": 59,
    "start_time": "2022-04-06T16:11:08.117Z"
   },
   {
    "duration": 585,
    "start_time": "2022-04-06T16:11:08.178Z"
   },
   {
    "duration": 11,
    "start_time": "2022-04-06T16:11:08.766Z"
   },
   {
    "duration": 28,
    "start_time": "2022-04-06T16:11:08.779Z"
   },
   {
    "duration": 42,
    "start_time": "2022-04-06T16:11:08.810Z"
   },
   {
    "duration": 19,
    "start_time": "2022-04-06T16:11:08.855Z"
   },
   {
    "duration": 29,
    "start_time": "2022-04-06T16:11:08.876Z"
   },
   {
    "duration": 13,
    "start_time": "2022-04-06T16:11:08.910Z"
   },
   {
    "duration": 36,
    "start_time": "2022-04-06T16:11:08.925Z"
   },
   {
    "duration": 30,
    "start_time": "2022-04-06T16:11:08.963Z"
   },
   {
    "duration": 28,
    "start_time": "2022-04-06T16:11:08.995Z"
   },
   {
    "duration": 12,
    "start_time": "2022-04-06T16:11:09.026Z"
   },
   {
    "duration": 11,
    "start_time": "2022-04-06T16:11:09.048Z"
   },
   {
    "duration": 21,
    "start_time": "2022-04-06T16:11:09.061Z"
   },
   {
    "duration": 562,
    "start_time": "2022-04-06T16:28:04.250Z"
   },
   {
    "duration": 41,
    "start_time": "2022-04-06T16:28:04.814Z"
   },
   {
    "duration": 27,
    "start_time": "2022-04-06T16:28:04.858Z"
   },
   {
    "duration": 13,
    "start_time": "2022-04-06T16:28:04.888Z"
   },
   {
    "duration": 20,
    "start_time": "2022-04-06T16:28:04.903Z"
   },
   {
    "duration": 15,
    "start_time": "2022-04-06T16:28:04.925Z"
   },
   {
    "duration": 128,
    "start_time": "2022-04-06T16:28:04.973Z"
   },
   {
    "duration": 25,
    "start_time": "2022-04-06T16:28:05.103Z"
   },
   {
    "duration": 108,
    "start_time": "2022-04-06T16:28:05.130Z"
   },
   {
    "duration": 219,
    "start_time": "2022-04-06T16:28:05.242Z"
   },
   {
    "duration": 35,
    "start_time": "2022-04-06T16:28:05.463Z"
   },
   {
    "duration": 142,
    "start_time": "2022-04-06T16:28:05.500Z"
   },
   {
    "duration": 238,
    "start_time": "2022-04-06T16:28:05.644Z"
   },
   {
    "duration": 33,
    "start_time": "2022-04-06T16:28:05.884Z"
   },
   {
    "duration": 193,
    "start_time": "2022-04-06T16:28:05.919Z"
   },
   {
    "duration": 5,
    "start_time": "2022-04-06T16:28:06.114Z"
   },
   {
    "duration": 16,
    "start_time": "2022-04-06T16:28:06.120Z"
   },
   {
    "duration": 9,
    "start_time": "2022-04-06T16:28:06.138Z"
   },
   {
    "duration": 36,
    "start_time": "2022-04-06T16:28:06.149Z"
   },
   {
    "duration": 11,
    "start_time": "2022-04-06T16:28:06.188Z"
   },
   {
    "duration": 8,
    "start_time": "2022-04-06T16:28:06.201Z"
   },
   {
    "duration": 9,
    "start_time": "2022-04-06T16:28:06.211Z"
   },
   {
    "duration": 7,
    "start_time": "2022-04-06T16:28:06.223Z"
   },
   {
    "duration": 45,
    "start_time": "2022-04-06T16:28:06.232Z"
   },
   {
    "duration": 12,
    "start_time": "2022-04-06T16:28:06.279Z"
   },
   {
    "duration": 14,
    "start_time": "2022-04-06T16:28:06.293Z"
   },
   {
    "duration": 10,
    "start_time": "2022-04-06T16:28:06.309Z"
   },
   {
    "duration": 64,
    "start_time": "2022-04-06T16:28:06.325Z"
   },
   {
    "duration": 20,
    "start_time": "2022-04-06T16:28:06.391Z"
   },
   {
    "duration": 68,
    "start_time": "2022-04-06T16:28:06.413Z"
   },
   {
    "duration": 13,
    "start_time": "2022-04-06T16:28:06.483Z"
   },
   {
    "duration": 7,
    "start_time": "2022-04-06T16:28:06.498Z"
   },
   {
    "duration": 9,
    "start_time": "2022-04-06T16:28:06.507Z"
   },
   {
    "duration": 3,
    "start_time": "2022-04-06T16:28:06.518Z"
   },
   {
    "duration": 16,
    "start_time": "2022-04-06T16:28:06.523Z"
   },
   {
    "duration": 37,
    "start_time": "2022-04-06T16:28:06.574Z"
   },
   {
    "duration": 22,
    "start_time": "2022-04-06T16:28:06.613Z"
   },
   {
    "duration": 11,
    "start_time": "2022-04-06T16:28:06.637Z"
   },
   {
    "duration": 35,
    "start_time": "2022-04-06T16:28:06.675Z"
   },
   {
    "duration": 7,
    "start_time": "2022-04-06T16:28:06.712Z"
   },
   {
    "duration": 14,
    "start_time": "2022-04-06T16:28:06.722Z"
   },
   {
    "duration": 42,
    "start_time": "2022-04-06T16:28:06.738Z"
   },
   {
    "duration": 49,
    "start_time": "2022-04-06T16:28:06.783Z"
   },
   {
    "duration": 5,
    "start_time": "2022-04-06T16:28:06.835Z"
   },
   {
    "duration": 56,
    "start_time": "2022-04-06T16:28:06.842Z"
   },
   {
    "duration": 11,
    "start_time": "2022-04-06T16:28:06.900Z"
   },
   {
    "duration": 113,
    "start_time": "2022-04-06T16:28:06.913Z"
   },
   {
    "duration": 15,
    "start_time": "2022-04-06T16:28:07.028Z"
   },
   {
    "duration": 31,
    "start_time": "2022-04-06T16:28:07.045Z"
   },
   {
    "duration": 7,
    "start_time": "2022-04-06T16:28:07.078Z"
   },
   {
    "duration": 13,
    "start_time": "2022-04-06T16:28:07.088Z"
   },
   {
    "duration": 55,
    "start_time": "2022-04-06T16:28:07.103Z"
   },
   {
    "duration": 22,
    "start_time": "2022-04-06T16:28:07.161Z"
   },
   {
    "duration": 30,
    "start_time": "2022-04-06T16:28:07.185Z"
   },
   {
    "duration": 11,
    "start_time": "2022-04-06T16:28:07.218Z"
   },
   {
    "duration": 64,
    "start_time": "2022-04-06T16:28:07.231Z"
   },
   {
    "duration": 13,
    "start_time": "2022-04-06T16:28:07.297Z"
   },
   {
    "duration": 37,
    "start_time": "2022-04-06T16:28:07.313Z"
   },
   {
    "duration": 159,
    "start_time": "2022-04-06T16:28:07.352Z"
   },
   {
    "duration": 13,
    "start_time": "2022-04-06T16:28:07.513Z"
   },
   {
    "duration": 8,
    "start_time": "2022-04-06T16:28:07.528Z"
   },
   {
    "duration": 37,
    "start_time": "2022-04-06T16:28:07.538Z"
   },
   {
    "duration": 21,
    "start_time": "2022-04-06T16:28:07.577Z"
   },
   {
    "duration": 51,
    "start_time": "2022-04-06T16:28:07.600Z"
   },
   {
    "duration": 13,
    "start_time": "2022-04-06T16:28:07.674Z"
   },
   {
    "duration": 13,
    "start_time": "2022-04-06T16:28:07.689Z"
   },
   {
    "duration": 17,
    "start_time": "2022-04-06T16:28:07.704Z"
   },
   {
    "duration": 27,
    "start_time": "2022-04-06T16:28:07.723Z"
   },
   {
    "duration": 54,
    "start_time": "2022-04-06T16:28:07.773Z"
   },
   {
    "duration": 12,
    "start_time": "2022-04-06T16:28:07.829Z"
   },
   {
    "duration": 31,
    "start_time": "2022-04-06T16:28:07.843Z"
   },
   {
    "duration": 19,
    "start_time": "2022-04-06T16:28:07.876Z"
   },
   {
    "duration": 91,
    "start_time": "2022-04-06T16:28:07.896Z"
   },
   {
    "duration": 18,
    "start_time": "2022-04-06T16:28:07.989Z"
   },
   {
    "duration": 10,
    "start_time": "2022-04-06T16:28:08.009Z"
   },
   {
    "duration": 21,
    "start_time": "2022-04-06T16:28:08.021Z"
   },
   {
    "duration": 30,
    "start_time": "2022-04-06T16:28:08.044Z"
   },
   {
    "duration": 20,
    "start_time": "2022-04-06T16:28:08.076Z"
   },
   {
    "duration": 12,
    "start_time": "2022-04-06T16:28:08.098Z"
   },
   {
    "duration": 9,
    "start_time": "2022-04-06T16:28:08.112Z"
   },
   {
    "duration": 10,
    "start_time": "2022-04-06T16:28:08.123Z"
   },
   {
    "duration": 7,
    "start_time": "2022-04-06T16:28:08.173Z"
   },
   {
    "duration": 11,
    "start_time": "2022-04-06T16:28:08.182Z"
   },
   {
    "duration": 12,
    "start_time": "2022-04-06T16:28:08.195Z"
   },
   {
    "duration": 7,
    "start_time": "2022-04-06T16:28:08.208Z"
   },
   {
    "duration": 11,
    "start_time": "2022-04-06T16:28:08.217Z"
   },
   {
    "duration": 15,
    "start_time": "2022-04-06T16:28:08.230Z"
   },
   {
    "duration": 37,
    "start_time": "2022-04-06T16:28:08.247Z"
   },
   {
    "duration": 12,
    "start_time": "2022-04-06T16:28:08.286Z"
   },
   {
    "duration": 12,
    "start_time": "2022-04-06T16:28:08.300Z"
   },
   {
    "duration": 8,
    "start_time": "2022-04-06T16:28:08.314Z"
   },
   {
    "duration": 17,
    "start_time": "2022-04-06T16:28:08.325Z"
   },
   {
    "duration": 36,
    "start_time": "2022-04-06T16:28:08.344Z"
   },
   {
    "duration": 9,
    "start_time": "2022-04-06T16:28:08.383Z"
   },
   {
    "duration": 5,
    "start_time": "2022-04-06T16:28:08.395Z"
   },
   {
    "duration": 17,
    "start_time": "2022-04-06T16:28:08.403Z"
   },
   {
    "duration": 23,
    "start_time": "2022-04-06T16:28:08.423Z"
   },
   {
    "duration": 8,
    "start_time": "2022-04-06T16:28:08.475Z"
   },
   {
    "duration": 27,
    "start_time": "2022-04-06T16:28:08.485Z"
   },
   {
    "duration": 8,
    "start_time": "2022-04-06T16:28:08.515Z"
   },
   {
    "duration": 8,
    "start_time": "2022-04-06T16:28:08.525Z"
   },
   {
    "duration": 42,
    "start_time": "2022-04-06T16:28:08.535Z"
   },
   {
    "duration": 9,
    "start_time": "2022-04-06T16:28:08.579Z"
   },
   {
    "duration": 9,
    "start_time": "2022-04-06T16:28:08.590Z"
   },
   {
    "duration": 18,
    "start_time": "2022-04-06T16:28:08.602Z"
   },
   {
    "duration": 7,
    "start_time": "2022-04-06T16:28:08.622Z"
   },
   {
    "duration": 42,
    "start_time": "2022-04-06T16:28:08.631Z"
   },
   {
    "duration": 8,
    "start_time": "2022-04-06T16:28:08.676Z"
   },
   {
    "duration": 19,
    "start_time": "2022-04-06T16:28:08.687Z"
   },
   {
    "duration": 9,
    "start_time": "2022-04-06T16:28:08.708Z"
   },
   {
    "duration": 6,
    "start_time": "2022-04-06T16:28:08.720Z"
   },
   {
    "duration": 5,
    "start_time": "2022-04-06T16:28:08.774Z"
   },
   {
    "duration": 9,
    "start_time": "2022-04-06T16:28:08.780Z"
   },
   {
    "duration": 24,
    "start_time": "2022-04-06T16:28:08.791Z"
   },
   {
    "duration": 7,
    "start_time": "2022-04-06T16:28:08.817Z"
   },
   {
    "duration": 52,
    "start_time": "2022-04-06T16:28:08.826Z"
   },
   {
    "duration": 8,
    "start_time": "2022-04-06T16:28:08.880Z"
   },
   {
    "duration": 30,
    "start_time": "2022-04-06T16:28:08.890Z"
   },
   {
    "duration": 89,
    "start_time": "2022-04-06T16:28:08.922Z"
   },
   {
    "duration": 514,
    "start_time": "2022-04-06T16:28:09.013Z"
   },
   {
    "duration": 232,
    "start_time": "2022-04-06T16:28:09.530Z"
   },
   {
    "duration": 10,
    "start_time": "2022-04-06T16:28:09.764Z"
   },
   {
    "duration": 5,
    "start_time": "2022-04-06T16:28:09.776Z"
   },
   {
    "duration": 12,
    "start_time": "2022-04-06T16:28:09.783Z"
   },
   {
    "duration": 11,
    "start_time": "2022-04-06T16:28:09.797Z"
   },
   {
    "duration": 7,
    "start_time": "2022-04-06T16:28:09.810Z"
   },
   {
    "duration": 273,
    "start_time": "2022-04-06T16:28:09.819Z"
   },
   {
    "duration": 159,
    "start_time": "2022-04-06T16:28:10.095Z"
   },
   {
    "duration": 6,
    "start_time": "2022-04-06T16:28:10.256Z"
   },
   {
    "duration": 5,
    "start_time": "2022-04-06T16:28:10.273Z"
   },
   {
    "duration": 6,
    "start_time": "2022-04-06T16:28:10.280Z"
   },
   {
    "duration": 8,
    "start_time": "2022-04-06T16:28:10.288Z"
   },
   {
    "duration": 239,
    "start_time": "2022-04-06T16:28:10.298Z"
   },
   {
    "duration": 173,
    "start_time": "2022-04-06T16:28:10.539Z"
   },
   {
    "duration": 6,
    "start_time": "2022-04-06T16:28:10.715Z"
   },
   {
    "duration": 10,
    "start_time": "2022-04-06T16:28:10.723Z"
   },
   {
    "duration": 12,
    "start_time": "2022-04-06T16:28:10.735Z"
   },
   {
    "duration": 26,
    "start_time": "2022-04-06T16:28:10.749Z"
   },
   {
    "duration": 6,
    "start_time": "2022-04-06T16:28:10.777Z"
   },
   {
    "duration": 43,
    "start_time": "2022-04-06T16:28:10.785Z"
   },
   {
    "duration": 79,
    "start_time": "2022-04-06T16:28:10.830Z"
   },
   {
    "duration": 234,
    "start_time": "2022-04-06T16:28:10.911Z"
   },
   {
    "duration": 183,
    "start_time": "2022-04-06T16:28:11.147Z"
   },
   {
    "duration": 6,
    "start_time": "2022-04-06T16:28:11.332Z"
   },
   {
    "duration": 9,
    "start_time": "2022-04-06T16:28:11.340Z"
   },
   {
    "duration": 24,
    "start_time": "2022-04-06T16:28:11.351Z"
   },
   {
    "duration": 9,
    "start_time": "2022-04-06T16:28:11.377Z"
   },
   {
    "duration": 16,
    "start_time": "2022-04-06T16:28:11.388Z"
   },
   {
    "duration": 248,
    "start_time": "2022-04-06T16:28:11.406Z"
   },
   {
    "duration": 178,
    "start_time": "2022-04-06T16:28:11.656Z"
   },
   {
    "duration": 6,
    "start_time": "2022-04-06T16:28:11.837Z"
   },
   {
    "duration": 28,
    "start_time": "2022-04-06T16:28:11.846Z"
   },
   {
    "duration": 6,
    "start_time": "2022-04-06T16:28:11.876Z"
   },
   {
    "duration": 18,
    "start_time": "2022-04-06T16:28:11.885Z"
   },
   {
    "duration": 256,
    "start_time": "2022-04-06T16:28:11.905Z"
   },
   {
    "duration": 198,
    "start_time": "2022-04-06T16:28:12.164Z"
   },
   {
    "duration": 10,
    "start_time": "2022-04-06T16:28:12.364Z"
   },
   {
    "duration": 9,
    "start_time": "2022-04-06T16:28:12.377Z"
   },
   {
    "duration": 8,
    "start_time": "2022-04-06T16:28:12.389Z"
   },
   {
    "duration": 15,
    "start_time": "2022-04-06T16:28:12.400Z"
   },
   {
    "duration": 6,
    "start_time": "2022-04-06T16:28:12.417Z"
   },
   {
    "duration": 63,
    "start_time": "2022-04-06T16:28:12.426Z"
   },
   {
    "duration": 22,
    "start_time": "2022-04-06T16:28:12.492Z"
   },
   {
    "duration": 636,
    "start_time": "2022-04-06T16:28:12.517Z"
   },
   {
    "duration": 8,
    "start_time": "2022-04-06T16:28:13.155Z"
   },
   {
    "duration": 13,
    "start_time": "2022-04-06T16:28:13.165Z"
   },
   {
    "duration": 21,
    "start_time": "2022-04-06T16:28:13.181Z"
   },
   {
    "duration": 11,
    "start_time": "2022-04-06T16:28:13.204Z"
   },
   {
    "duration": 59,
    "start_time": "2022-04-06T16:28:13.217Z"
   },
   {
    "duration": 9,
    "start_time": "2022-04-06T16:28:13.279Z"
   },
   {
    "duration": 23,
    "start_time": "2022-04-06T16:28:13.291Z"
   },
   {
    "duration": 12,
    "start_time": "2022-04-06T16:28:13.317Z"
   },
   {
    "duration": 55,
    "start_time": "2022-04-06T16:28:13.331Z"
   },
   {
    "duration": 13,
    "start_time": "2022-04-06T16:28:13.388Z"
   },
   {
    "duration": 10,
    "start_time": "2022-04-06T16:28:13.403Z"
   },
   {
    "duration": 12,
    "start_time": "2022-04-06T16:28:13.415Z"
   },
   {
    "duration": 413,
    "start_time": "2022-04-17T08:11:17.458Z"
   },
   {
    "duration": 45,
    "start_time": "2022-04-17T08:11:17.873Z"
   },
   {
    "duration": 11,
    "start_time": "2022-04-17T08:11:17.920Z"
   },
   {
    "duration": 8,
    "start_time": "2022-04-17T08:11:17.933Z"
   },
   {
    "duration": 18,
    "start_time": "2022-04-17T08:11:17.943Z"
   },
   {
    "duration": 11,
    "start_time": "2022-04-17T08:11:17.963Z"
   },
   {
    "duration": 116,
    "start_time": "2022-04-17T08:11:18.007Z"
   },
   {
    "duration": 23,
    "start_time": "2022-04-17T08:11:18.125Z"
   },
   {
    "duration": 87,
    "start_time": "2022-04-17T08:11:18.149Z"
   },
   {
    "duration": 177,
    "start_time": "2022-04-17T08:11:18.238Z"
   },
   {
    "duration": 22,
    "start_time": "2022-04-17T08:11:18.417Z"
   },
   {
    "duration": 102,
    "start_time": "2022-04-17T08:11:18.441Z"
   },
   {
    "duration": 174,
    "start_time": "2022-04-17T08:11:18.544Z"
   },
   {
    "duration": 27,
    "start_time": "2022-04-17T08:11:18.719Z"
   },
   {
    "duration": 162,
    "start_time": "2022-04-17T08:11:18.748Z"
   },
   {
    "duration": 4,
    "start_time": "2022-04-17T08:11:18.912Z"
   },
   {
    "duration": 8,
    "start_time": "2022-04-17T08:11:18.918Z"
   },
   {
    "duration": 5,
    "start_time": "2022-04-17T08:11:18.928Z"
   },
   {
    "duration": 12,
    "start_time": "2022-04-17T08:11:18.935Z"
   },
   {
    "duration": 6,
    "start_time": "2022-04-17T08:11:18.949Z"
   },
   {
    "duration": 6,
    "start_time": "2022-04-17T08:11:18.957Z"
   },
   {
    "duration": 6,
    "start_time": "2022-04-17T08:11:18.965Z"
   },
   {
    "duration": 6,
    "start_time": "2022-04-17T08:11:19.008Z"
   },
   {
    "duration": 13,
    "start_time": "2022-04-17T08:11:19.015Z"
   },
   {
    "duration": 8,
    "start_time": "2022-04-17T08:11:19.030Z"
   },
   {
    "duration": 8,
    "start_time": "2022-04-17T08:11:19.040Z"
   },
   {
    "duration": 5,
    "start_time": "2022-04-17T08:11:19.050Z"
   },
   {
    "duration": 58,
    "start_time": "2022-04-17T08:11:19.061Z"
   },
   {
    "duration": 17,
    "start_time": "2022-04-17T08:11:19.120Z"
   },
   {
    "duration": 33,
    "start_time": "2022-04-17T08:11:19.139Z"
   },
   {
    "duration": 39,
    "start_time": "2022-04-17T08:11:19.174Z"
   },
   {
    "duration": 7,
    "start_time": "2022-04-17T08:11:19.215Z"
   },
   {
    "duration": 6,
    "start_time": "2022-04-17T08:11:19.224Z"
   },
   {
    "duration": 5,
    "start_time": "2022-04-17T08:11:19.232Z"
   },
   {
    "duration": 8,
    "start_time": "2022-04-17T08:11:19.239Z"
   },
   {
    "duration": 28,
    "start_time": "2022-04-17T08:11:19.248Z"
   },
   {
    "duration": 43,
    "start_time": "2022-04-17T08:11:19.278Z"
   },
   {
    "duration": 9,
    "start_time": "2022-04-17T08:11:19.324Z"
   },
   {
    "duration": 22,
    "start_time": "2022-04-17T08:11:19.335Z"
   },
   {
    "duration": 6,
    "start_time": "2022-04-17T08:11:19.359Z"
   },
   {
    "duration": 47,
    "start_time": "2022-04-17T08:11:19.367Z"
   },
   {
    "duration": 6,
    "start_time": "2022-04-17T08:11:19.415Z"
   },
   {
    "duration": 34,
    "start_time": "2022-04-17T08:11:19.423Z"
   },
   {
    "duration": 4,
    "start_time": "2022-04-17T08:11:19.459Z"
   },
   {
    "duration": 49,
    "start_time": "2022-04-17T08:11:19.466Z"
   },
   {
    "duration": 9,
    "start_time": "2022-04-17T08:11:19.517Z"
   },
   {
    "duration": 90,
    "start_time": "2022-04-17T08:11:19.528Z"
   },
   {
    "duration": 12,
    "start_time": "2022-04-17T08:11:19.620Z"
   },
   {
    "duration": 6,
    "start_time": "2022-04-17T08:11:19.633Z"
   },
   {
    "duration": 7,
    "start_time": "2022-04-17T08:11:19.641Z"
   },
   {
    "duration": 5,
    "start_time": "2022-04-17T08:11:19.649Z"
   },
   {
    "duration": 72,
    "start_time": "2022-04-17T08:11:19.656Z"
   },
   {
    "duration": 10,
    "start_time": "2022-04-17T08:11:19.730Z"
   },
   {
    "duration": 20,
    "start_time": "2022-04-17T08:11:19.741Z"
   },
   {
    "duration": 9,
    "start_time": "2022-04-17T08:11:19.762Z"
   },
   {
    "duration": 52,
    "start_time": "2022-04-17T08:11:19.773Z"
   },
   {
    "duration": 10,
    "start_time": "2022-04-17T08:11:19.826Z"
   },
   {
    "duration": 35,
    "start_time": "2022-04-17T08:11:19.837Z"
   },
   {
    "duration": 120,
    "start_time": "2022-04-17T08:11:19.874Z"
   },
   {
    "duration": 13,
    "start_time": "2022-04-17T08:11:19.996Z"
   },
   {
    "duration": 18,
    "start_time": "2022-04-17T08:11:20.012Z"
   },
   {
    "duration": 36,
    "start_time": "2022-04-17T08:11:20.032Z"
   },
   {
    "duration": 20,
    "start_time": "2022-04-17T08:11:20.071Z"
   },
   {
    "duration": 40,
    "start_time": "2022-04-17T08:11:20.093Z"
   },
   {
    "duration": 9,
    "start_time": "2022-04-17T08:11:20.135Z"
   },
   {
    "duration": 14,
    "start_time": "2022-04-17T08:11:20.146Z"
   },
   {
    "duration": 19,
    "start_time": "2022-04-17T08:11:20.161Z"
   },
   {
    "duration": 41,
    "start_time": "2022-04-17T08:11:20.182Z"
   },
   {
    "duration": 43,
    "start_time": "2022-04-17T08:11:20.225Z"
   },
   {
    "duration": 8,
    "start_time": "2022-04-17T08:11:20.269Z"
   },
   {
    "duration": 33,
    "start_time": "2022-04-17T08:11:20.279Z"
   },
   {
    "duration": 25,
    "start_time": "2022-04-17T08:11:20.313Z"
   },
   {
    "duration": 75,
    "start_time": "2022-04-17T08:11:20.340Z"
   },
   {
    "duration": 12,
    "start_time": "2022-04-17T08:11:20.417Z"
   },
   {
    "duration": 8,
    "start_time": "2022-04-17T08:11:20.431Z"
   },
   {
    "duration": 19,
    "start_time": "2022-04-17T08:11:20.441Z"
   },
   {
    "duration": 16,
    "start_time": "2022-04-17T08:11:20.461Z"
   },
   {
    "duration": 29,
    "start_time": "2022-04-17T08:11:20.479Z"
   },
   {
    "duration": 7,
    "start_time": "2022-04-17T08:11:20.510Z"
   },
   {
    "duration": 21,
    "start_time": "2022-04-17T08:11:20.519Z"
   },
   {
    "duration": 20,
    "start_time": "2022-04-17T08:11:20.542Z"
   },
   {
    "duration": 8,
    "start_time": "2022-04-17T08:11:20.570Z"
   },
   {
    "duration": 12,
    "start_time": "2022-04-17T08:11:20.580Z"
   },
   {
    "duration": 16,
    "start_time": "2022-04-17T08:11:20.594Z"
   },
   {
    "duration": 13,
    "start_time": "2022-04-17T08:11:20.612Z"
   },
   {
    "duration": 26,
    "start_time": "2022-04-17T08:11:20.626Z"
   },
   {
    "duration": 20,
    "start_time": "2022-04-17T08:11:20.654Z"
   },
   {
    "duration": 22,
    "start_time": "2022-04-17T08:11:20.675Z"
   },
   {
    "duration": 11,
    "start_time": "2022-04-17T08:11:20.699Z"
   },
   {
    "duration": 25,
    "start_time": "2022-04-17T08:11:20.712Z"
   },
   {
    "duration": 9,
    "start_time": "2022-04-17T08:11:20.739Z"
   },
   {
    "duration": 26,
    "start_time": "2022-04-17T08:11:20.749Z"
   },
   {
    "duration": 6,
    "start_time": "2022-04-17T08:11:20.777Z"
   },
   {
    "duration": 10,
    "start_time": "2022-04-17T08:11:20.785Z"
   },
   {
    "duration": 28,
    "start_time": "2022-04-17T08:11:20.796Z"
   },
   {
    "duration": 12,
    "start_time": "2022-04-17T08:11:20.826Z"
   },
   {
    "duration": 18,
    "start_time": "2022-04-17T08:11:20.840Z"
   },
   {
    "duration": 13,
    "start_time": "2022-04-17T08:11:20.860Z"
   },
   {
    "duration": 22,
    "start_time": "2022-04-17T08:11:20.875Z"
   },
   {
    "duration": 21,
    "start_time": "2022-04-17T08:11:20.899Z"
   },
   {
    "duration": 30,
    "start_time": "2022-04-17T08:11:20.922Z"
   },
   {
    "duration": 8,
    "start_time": "2022-04-17T08:11:20.954Z"
   },
   {
    "duration": 7,
    "start_time": "2022-04-17T08:11:20.964Z"
   },
   {
    "duration": 12,
    "start_time": "2022-04-17T08:11:20.972Z"
   },
   {
    "duration": 15,
    "start_time": "2022-04-17T08:11:20.986Z"
   },
   {
    "duration": 16,
    "start_time": "2022-04-17T08:11:21.006Z"
   },
   {
    "duration": 24,
    "start_time": "2022-04-17T08:11:21.024Z"
   },
   {
    "duration": 16,
    "start_time": "2022-04-17T08:11:21.050Z"
   },
   {
    "duration": 18,
    "start_time": "2022-04-17T08:11:21.068Z"
   },
   {
    "duration": 29,
    "start_time": "2022-04-17T08:11:21.088Z"
   },
   {
    "duration": 26,
    "start_time": "2022-04-17T08:11:21.118Z"
   },
   {
    "duration": 19,
    "start_time": "2022-04-17T08:11:21.145Z"
   },
   {
    "duration": 19,
    "start_time": "2022-04-17T08:11:21.165Z"
   },
   {
    "duration": 27,
    "start_time": "2022-04-17T08:11:21.186Z"
   },
   {
    "duration": 13,
    "start_time": "2022-04-17T08:11:21.215Z"
   },
   {
    "duration": 35,
    "start_time": "2022-04-17T08:11:21.229Z"
   },
   {
    "duration": 12,
    "start_time": "2022-04-17T08:11:21.266Z"
   },
   {
    "duration": 23,
    "start_time": "2022-04-17T08:11:21.280Z"
   },
   {
    "duration": 39,
    "start_time": "2022-04-17T08:11:21.305Z"
   },
   {
    "duration": 579,
    "start_time": "2022-04-17T08:11:21.346Z"
   },
   {
    "duration": 127,
    "start_time": "2022-04-17T08:11:21.926Z"
   },
   {
    "duration": 4,
    "start_time": "2022-04-17T08:11:22.054Z"
   },
   {
    "duration": 5,
    "start_time": "2022-04-17T08:11:22.059Z"
   },
   {
    "duration": 4,
    "start_time": "2022-04-17T08:11:22.066Z"
   },
   {
    "duration": 6,
    "start_time": "2022-04-17T08:11:22.072Z"
   },
   {
    "duration": 4,
    "start_time": "2022-04-17T08:11:22.108Z"
   },
   {
    "duration": 175,
    "start_time": "2022-04-17T08:11:22.113Z"
   },
   {
    "duration": 101,
    "start_time": "2022-04-17T08:11:22.289Z"
   },
   {
    "duration": 16,
    "start_time": "2022-04-17T08:11:22.391Z"
   },
   {
    "duration": 5,
    "start_time": "2022-04-17T08:11:22.409Z"
   },
   {
    "duration": 6,
    "start_time": "2022-04-17T08:11:22.415Z"
   },
   {
    "duration": 5,
    "start_time": "2022-04-17T08:11:22.422Z"
   },
   {
    "duration": 162,
    "start_time": "2022-04-17T08:11:22.429Z"
   },
   {
    "duration": 132,
    "start_time": "2022-04-17T08:11:22.593Z"
   },
   {
    "duration": 4,
    "start_time": "2022-04-17T08:11:22.726Z"
   },
   {
    "duration": 36,
    "start_time": "2022-04-17T08:11:22.732Z"
   },
   {
    "duration": 8,
    "start_time": "2022-04-17T08:11:22.770Z"
   },
   {
    "duration": 12,
    "start_time": "2022-04-17T08:11:22.780Z"
   },
   {
    "duration": 8,
    "start_time": "2022-04-17T08:11:22.794Z"
   },
   {
    "duration": 30,
    "start_time": "2022-04-17T08:11:22.804Z"
   },
   {
    "duration": 45,
    "start_time": "2022-04-17T08:11:22.836Z"
   },
   {
    "duration": 162,
    "start_time": "2022-04-17T08:11:22.883Z"
   },
   {
    "duration": 122,
    "start_time": "2022-04-17T08:11:23.048Z"
   },
   {
    "duration": 5,
    "start_time": "2022-04-17T08:11:23.172Z"
   },
   {
    "duration": 6,
    "start_time": "2022-04-17T08:11:23.179Z"
   },
   {
    "duration": 22,
    "start_time": "2022-04-17T08:11:23.186Z"
   },
   {
    "duration": 5,
    "start_time": "2022-04-17T08:11:23.210Z"
   },
   {
    "duration": 13,
    "start_time": "2022-04-17T08:11:23.216Z"
   },
   {
    "duration": 163,
    "start_time": "2022-04-17T08:11:23.230Z"
   },
   {
    "duration": 123,
    "start_time": "2022-04-17T08:11:23.395Z"
   },
   {
    "duration": 4,
    "start_time": "2022-04-17T08:11:23.520Z"
   },
   {
    "duration": 5,
    "start_time": "2022-04-17T08:11:23.526Z"
   },
   {
    "duration": 4,
    "start_time": "2022-04-17T08:11:23.533Z"
   },
   {
    "duration": 4,
    "start_time": "2022-04-17T08:11:23.539Z"
   },
   {
    "duration": 190,
    "start_time": "2022-04-17T08:11:23.545Z"
   },
   {
    "duration": 191,
    "start_time": "2022-04-17T08:11:23.737Z"
   },
   {
    "duration": 4,
    "start_time": "2022-04-17T08:11:23.931Z"
   },
   {
    "duration": 6,
    "start_time": "2022-04-17T08:11:23.936Z"
   },
   {
    "duration": 4,
    "start_time": "2022-04-17T08:11:23.944Z"
   },
   {
    "duration": 6,
    "start_time": "2022-04-17T08:11:23.950Z"
   },
   {
    "duration": 5,
    "start_time": "2022-04-17T08:11:23.958Z"
   },
   {
    "duration": 49,
    "start_time": "2022-04-17T08:11:23.965Z"
   },
   {
    "duration": 17,
    "start_time": "2022-04-17T08:11:24.016Z"
   },
   {
    "duration": 385,
    "start_time": "2022-04-17T08:11:24.035Z"
   },
   {
    "duration": 5,
    "start_time": "2022-04-17T08:11:24.422Z"
   },
   {
    "duration": 5,
    "start_time": "2022-04-17T08:11:24.429Z"
   },
   {
    "duration": 12,
    "start_time": "2022-04-17T08:11:24.436Z"
   },
   {
    "duration": 6,
    "start_time": "2022-04-17T08:11:24.450Z"
   },
   {
    "duration": 18,
    "start_time": "2022-04-17T08:11:24.457Z"
   },
   {
    "duration": 7,
    "start_time": "2022-04-17T08:11:24.507Z"
   },
   {
    "duration": 15,
    "start_time": "2022-04-17T08:11:24.516Z"
   },
   {
    "duration": 8,
    "start_time": "2022-04-17T08:11:24.532Z"
   },
   {
    "duration": 15,
    "start_time": "2022-04-17T08:11:24.541Z"
   },
   {
    "duration": 6,
    "start_time": "2022-04-17T08:11:24.557Z"
   },
   {
    "duration": 4,
    "start_time": "2022-04-17T08:11:24.564Z"
   },
   {
    "duration": 42,
    "start_time": "2022-04-17T08:11:24.570Z"
   },
   {
    "duration": 368,
    "start_time": "2022-04-18T15:50:30.195Z"
   },
   {
    "duration": 34,
    "start_time": "2022-04-18T15:50:30.565Z"
   },
   {
    "duration": 11,
    "start_time": "2022-04-18T15:50:30.601Z"
   },
   {
    "duration": 15,
    "start_time": "2022-04-18T15:50:30.614Z"
   },
   {
    "duration": 42,
    "start_time": "2022-04-18T15:50:30.630Z"
   },
   {
    "duration": 12,
    "start_time": "2022-04-18T15:50:30.674Z"
   },
   {
    "duration": 70,
    "start_time": "2022-04-18T15:50:38.976Z"
   },
   {
    "duration": 130,
    "start_time": "2022-04-18T15:51:10.726Z"
   },
   {
    "duration": 14,
    "start_time": "2022-04-18T15:51:14.719Z"
   },
   {
    "duration": 147,
    "start_time": "2022-04-18T15:54:29.337Z"
   },
   {
    "duration": 143,
    "start_time": "2022-04-18T15:54:39.694Z"
   },
   {
    "duration": 137,
    "start_time": "2022-04-18T15:54:40.311Z"
   },
   {
    "duration": 3,
    "start_time": "2022-04-18T16:26:09.154Z"
   },
   {
    "duration": 7,
    "start_time": "2022-04-18T16:26:46.034Z"
   },
   {
    "duration": 3,
    "start_time": "2022-04-18T16:26:52.184Z"
   },
   {
    "duration": 2,
    "start_time": "2022-04-18T16:26:52.194Z"
   },
   {
    "duration": 26,
    "start_time": "2022-04-18T16:26:52.215Z"
   },
   {
    "duration": 10,
    "start_time": "2022-04-18T16:26:52.243Z"
   },
   {
    "duration": 7,
    "start_time": "2022-04-18T16:26:52.254Z"
   },
   {
    "duration": 16,
    "start_time": "2022-04-18T16:26:52.269Z"
   },
   {
    "duration": 10,
    "start_time": "2022-04-18T16:26:52.287Z"
   },
   {
    "duration": 118,
    "start_time": "2022-04-18T16:26:52.298Z"
   },
   {
    "duration": 13,
    "start_time": "2022-04-18T16:26:52.418Z"
   },
   {
    "duration": 59,
    "start_time": "2022-04-18T16:26:52.432Z"
   },
   {
    "duration": 143,
    "start_time": "2022-04-18T16:26:52.493Z"
   },
   {
    "duration": 139,
    "start_time": "2022-04-18T16:26:52.638Z"
   },
   {
    "duration": 20,
    "start_time": "2022-04-18T16:26:52.778Z"
   },
   {
    "duration": 88,
    "start_time": "2022-04-18T16:26:52.800Z"
   },
   {
    "duration": 146,
    "start_time": "2022-04-18T16:26:52.890Z"
   },
   {
    "duration": 31,
    "start_time": "2022-04-18T16:26:53.038Z"
   },
   {
    "duration": 116,
    "start_time": "2022-04-18T16:26:53.072Z"
   },
   {
    "duration": 4,
    "start_time": "2022-04-18T16:26:53.190Z"
   },
   {
    "duration": 17,
    "start_time": "2022-04-18T16:26:53.195Z"
   },
   {
    "duration": 8,
    "start_time": "2022-04-18T16:26:53.214Z"
   },
   {
    "duration": 11,
    "start_time": "2022-04-18T16:26:53.224Z"
   },
   {
    "duration": 13,
    "start_time": "2022-04-18T16:26:53.237Z"
   },
   {
    "duration": 4,
    "start_time": "2022-04-18T16:26:53.251Z"
   },
   {
    "duration": 6,
    "start_time": "2022-04-18T16:26:53.256Z"
   },
   {
    "duration": 6,
    "start_time": "2022-04-18T16:26:53.263Z"
   },
   {
    "duration": 5,
    "start_time": "2022-04-18T16:26:53.270Z"
   },
   {
    "duration": 6,
    "start_time": "2022-04-18T16:26:53.276Z"
   },
   {
    "duration": 8,
    "start_time": "2022-04-18T16:26:53.283Z"
   },
   {
    "duration": 4,
    "start_time": "2022-04-18T16:26:53.293Z"
   },
   {
    "duration": 88,
    "start_time": "2022-04-18T16:26:53.299Z"
   },
   {
    "duration": 14,
    "start_time": "2022-04-18T16:26:53.389Z"
   },
   {
    "duration": 27,
    "start_time": "2022-04-18T16:26:53.405Z"
   },
   {
    "duration": 9,
    "start_time": "2022-04-18T16:26:53.447Z"
   },
   {
    "duration": 5,
    "start_time": "2022-04-18T16:26:53.457Z"
   },
   {
    "duration": 3,
    "start_time": "2022-04-18T16:32:17.198Z"
   },
   {
    "duration": 10,
    "start_time": "2022-04-18T16:32:17.206Z"
   },
   {
    "duration": 36,
    "start_time": "2022-04-18T16:32:17.224Z"
   },
   {
    "duration": 14,
    "start_time": "2022-04-18T16:32:17.262Z"
   },
   {
    "duration": 8,
    "start_time": "2022-04-18T16:32:17.278Z"
   },
   {
    "duration": 15,
    "start_time": "2022-04-18T16:32:17.288Z"
   },
   {
    "duration": 11,
    "start_time": "2022-04-18T16:32:17.305Z"
   },
   {
    "duration": 154,
    "start_time": "2022-04-18T16:32:17.318Z"
   },
   {
    "duration": 15,
    "start_time": "2022-04-18T16:32:17.474Z"
   },
   {
    "duration": 65,
    "start_time": "2022-04-18T16:32:17.491Z"
   },
   {
    "duration": 139,
    "start_time": "2022-04-18T16:32:17.559Z"
   },
   {
    "duration": 143,
    "start_time": "2022-04-18T16:32:17.699Z"
   },
   {
    "duration": 32,
    "start_time": "2022-04-18T16:32:17.843Z"
   },
   {
    "duration": 114,
    "start_time": "2022-04-18T16:32:17.877Z"
   },
   {
    "duration": 158,
    "start_time": "2022-04-18T16:32:17.993Z"
   },
   {
    "duration": 31,
    "start_time": "2022-04-18T16:32:18.154Z"
   },
   {
    "duration": 130,
    "start_time": "2022-04-18T16:32:18.188Z"
   },
   {
    "duration": 5,
    "start_time": "2022-04-18T16:32:18.320Z"
   },
   {
    "duration": 8,
    "start_time": "2022-04-18T16:32:18.326Z"
   },
   {
    "duration": 7,
    "start_time": "2022-04-18T16:32:18.348Z"
   },
   {
    "duration": 21,
    "start_time": "2022-04-18T16:32:18.357Z"
   },
   {
    "duration": 9,
    "start_time": "2022-04-18T16:32:18.380Z"
   },
   {
    "duration": 8,
    "start_time": "2022-04-18T16:32:18.391Z"
   },
   {
    "duration": 7,
    "start_time": "2022-04-18T16:32:18.401Z"
   },
   {
    "duration": 5,
    "start_time": "2022-04-18T16:32:18.410Z"
   },
   {
    "duration": 35,
    "start_time": "2022-04-18T16:32:18.417Z"
   },
   {
    "duration": 19,
    "start_time": "2022-04-18T16:32:18.454Z"
   },
   {
    "duration": 13,
    "start_time": "2022-04-18T16:32:18.474Z"
   },
   {
    "duration": 8,
    "start_time": "2022-04-18T16:32:18.488Z"
   },
   {
    "duration": 18,
    "start_time": "2022-04-18T16:32:18.498Z"
   },
   {
    "duration": 20,
    "start_time": "2022-04-18T16:32:18.518Z"
   },
   {
    "duration": 46,
    "start_time": "2022-04-18T16:32:18.540Z"
   },
   {
    "duration": 9,
    "start_time": "2022-04-18T16:32:18.588Z"
   },
   {
    "duration": 6,
    "start_time": "2022-04-18T16:32:18.598Z"
   },
   {
    "duration": 8,
    "start_time": "2022-04-18T16:32:18.606Z"
   },
   {
    "duration": 57,
    "start_time": "2022-04-18T16:32:18.616Z"
   },
   {
    "duration": 15,
    "start_time": "2022-04-18T16:32:18.675Z"
   },
   {
    "duration": 8,
    "start_time": "2022-04-18T16:32:18.694Z"
   },
   {
    "duration": 52,
    "start_time": "2022-04-18T16:32:18.704Z"
   },
   {
    "duration": 15,
    "start_time": "2022-04-18T16:32:24.745Z"
   },
   {
    "duration": 16,
    "start_time": "2022-04-18T16:38:30.871Z"
   },
   {
    "duration": 13,
    "start_time": "2022-04-18T16:40:38.853Z"
   },
   {
    "duration": 17,
    "start_time": "2022-04-18T16:40:48.468Z"
   },
   {
    "duration": 47,
    "start_time": "2022-04-18T16:41:44.591Z"
   },
   {
    "duration": 48,
    "start_time": "2022-04-18T16:41:59.177Z"
   },
   {
    "duration": 19,
    "start_time": "2022-04-18T16:42:25.227Z"
   },
   {
    "duration": 24,
    "start_time": "2022-04-18T16:42:49.033Z"
   },
   {
    "duration": 27,
    "start_time": "2022-04-18T16:43:11.107Z"
   },
   {
    "duration": 19,
    "start_time": "2022-04-18T16:45:15.014Z"
   },
   {
    "duration": 19,
    "start_time": "2022-04-18T16:46:59.123Z"
   },
   {
    "duration": 20,
    "start_time": "2022-04-18T16:47:13.428Z"
   },
   {
    "duration": 18,
    "start_time": "2022-04-18T16:47:24.668Z"
   },
   {
    "duration": 17,
    "start_time": "2022-04-18T16:48:24.114Z"
   },
   {
    "duration": 26,
    "start_time": "2022-04-18T16:49:14.091Z"
   },
   {
    "duration": 18,
    "start_time": "2022-04-18T16:50:07.112Z"
   },
   {
    "duration": 8,
    "start_time": "2022-04-18T16:50:28.287Z"
   },
   {
    "duration": 19,
    "start_time": "2022-04-18T16:55:36.663Z"
   },
   {
    "duration": 8,
    "start_time": "2022-04-18T16:55:44.275Z"
   },
   {
    "duration": 7,
    "start_time": "2022-04-18T16:56:27.721Z"
   },
   {
    "duration": 5,
    "start_time": "2022-04-18T16:56:38.678Z"
   },
   {
    "duration": 15,
    "start_time": "2022-04-18T16:58:04.044Z"
   },
   {
    "duration": 3,
    "start_time": "2022-04-18T18:56:22.912Z"
   },
   {
    "duration": 3,
    "start_time": "2022-04-18T18:56:22.919Z"
   },
   {
    "duration": 23,
    "start_time": "2022-04-18T18:56:22.936Z"
   },
   {
    "duration": 10,
    "start_time": "2022-04-18T18:56:22.961Z"
   },
   {
    "duration": 10,
    "start_time": "2022-04-18T18:56:22.973Z"
   },
   {
    "duration": 16,
    "start_time": "2022-04-18T18:56:22.985Z"
   },
   {
    "duration": 11,
    "start_time": "2022-04-18T18:56:23.003Z"
   },
   {
    "duration": 131,
    "start_time": "2022-04-18T18:56:23.017Z"
   },
   {
    "duration": 15,
    "start_time": "2022-04-18T18:56:23.150Z"
   },
   {
    "duration": 44,
    "start_time": "2022-04-18T18:56:23.167Z"
   },
   {
    "duration": 168,
    "start_time": "2022-04-18T18:56:23.212Z"
   },
   {
    "duration": 153,
    "start_time": "2022-04-18T18:56:23.382Z"
   },
   {
    "duration": 31,
    "start_time": "2022-04-18T18:56:23.537Z"
   },
   {
    "duration": 118,
    "start_time": "2022-04-18T18:56:23.570Z"
   },
   {
    "duration": 217,
    "start_time": "2022-04-18T18:56:23.690Z"
   },
   {
    "duration": 47,
    "start_time": "2022-04-18T18:56:23.909Z"
   },
   {
    "duration": 161,
    "start_time": "2022-04-18T18:56:23.960Z"
   },
   {
    "duration": 4,
    "start_time": "2022-04-18T18:56:24.124Z"
   },
   {
    "duration": 18,
    "start_time": "2022-04-18T18:56:24.130Z"
   },
   {
    "duration": 6,
    "start_time": "2022-04-18T18:56:24.150Z"
   },
   {
    "duration": 18,
    "start_time": "2022-04-18T18:56:24.158Z"
   },
   {
    "duration": 8,
    "start_time": "2022-04-18T18:56:24.178Z"
   },
   {
    "duration": 6,
    "start_time": "2022-04-18T18:56:24.188Z"
   },
   {
    "duration": 8,
    "start_time": "2022-04-18T18:56:24.196Z"
   },
   {
    "duration": 7,
    "start_time": "2022-04-18T18:56:24.206Z"
   },
   {
    "duration": 37,
    "start_time": "2022-04-18T18:56:24.215Z"
   },
   {
    "duration": 8,
    "start_time": "2022-04-18T18:56:24.254Z"
   },
   {
    "duration": 9,
    "start_time": "2022-04-18T18:56:24.264Z"
   },
   {
    "duration": 5,
    "start_time": "2022-04-18T18:56:24.274Z"
   },
   {
    "duration": 15,
    "start_time": "2022-04-18T18:56:24.281Z"
   },
   {
    "duration": 16,
    "start_time": "2022-04-18T18:56:24.298Z"
   },
   {
    "duration": 31,
    "start_time": "2022-04-18T18:56:24.348Z"
   },
   {
    "duration": 9,
    "start_time": "2022-04-18T18:56:24.380Z"
   },
   {
    "duration": 7,
    "start_time": "2022-04-18T18:56:24.391Z"
   },
   {
    "duration": 6,
    "start_time": "2022-04-18T18:56:24.402Z"
   },
   {
    "duration": 59,
    "start_time": "2022-04-18T18:56:24.410Z"
   },
   {
    "duration": 17,
    "start_time": "2022-04-18T18:56:24.471Z"
   },
   {
    "duration": 8,
    "start_time": "2022-04-18T18:56:24.490Z"
   },
   {
    "duration": 55,
    "start_time": "2022-04-18T18:56:24.500Z"
   },
   {
    "duration": 14,
    "start_time": "2022-04-18T18:56:24.557Z"
   },
   {
    "duration": 18,
    "start_time": "2022-04-18T18:56:24.572Z"
   },
   {
    "duration": 7,
    "start_time": "2022-04-18T18:56:24.592Z"
   },
   {
    "duration": 56,
    "start_time": "2022-04-18T18:56:24.601Z"
   },
   {
    "duration": 8,
    "start_time": "2022-04-18T18:56:24.659Z"
   },
   {
    "duration": 5,
    "start_time": "2022-04-18T18:56:24.669Z"
   },
   {
    "duration": 34,
    "start_time": "2022-04-18T18:56:24.676Z"
   },
   {
    "duration": 37,
    "start_time": "2022-04-18T18:56:24.711Z"
   },
   {
    "duration": 18,
    "start_time": "2022-04-18T18:56:24.750Z"
   },
   {
    "duration": 8,
    "start_time": "2022-04-18T18:56:24.770Z"
   },
   {
    "duration": 98,
    "start_time": "2022-04-18T18:56:24.779Z"
   },
   {
    "duration": 11,
    "start_time": "2022-04-18T18:56:24.878Z"
   },
   {
    "duration": 5,
    "start_time": "2022-04-18T18:56:24.891Z"
   },
   {
    "duration": 6,
    "start_time": "2022-04-18T18:56:24.897Z"
   },
   {
    "duration": 4,
    "start_time": "2022-04-18T18:56:24.907Z"
   },
   {
    "duration": 64,
    "start_time": "2022-04-18T18:56:24.912Z"
   },
   {
    "duration": 9,
    "start_time": "2022-04-18T18:56:24.978Z"
   },
   {
    "duration": 20,
    "start_time": "2022-04-18T18:56:24.988Z"
   },
   {
    "duration": 9,
    "start_time": "2022-04-18T18:56:25.010Z"
   },
   {
    "duration": 48,
    "start_time": "2022-04-18T18:56:25.021Z"
   },
   {
    "duration": 10,
    "start_time": "2022-04-18T18:56:25.071Z"
   },
   {
    "duration": 22,
    "start_time": "2022-04-18T18:56:25.083Z"
   },
   {
    "duration": 113,
    "start_time": "2022-04-18T18:56:25.107Z"
   },
   {
    "duration": 9,
    "start_time": "2022-04-18T18:56:25.221Z"
   },
   {
    "duration": 19,
    "start_time": "2022-04-18T18:56:25.231Z"
   },
   {
    "duration": 15,
    "start_time": "2022-04-18T18:56:25.252Z"
   },
   {
    "duration": 17,
    "start_time": "2022-04-18T18:56:25.269Z"
   },
   {
    "duration": 60,
    "start_time": "2022-04-18T18:56:25.288Z"
   },
   {
    "duration": 9,
    "start_time": "2022-04-18T18:56:25.350Z"
   },
   {
    "duration": 6,
    "start_time": "2022-04-18T18:56:25.360Z"
   },
   {
    "duration": 12,
    "start_time": "2022-04-18T18:56:25.367Z"
   },
   {
    "duration": 17,
    "start_time": "2022-04-18T18:56:25.381Z"
   },
   {
    "duration": 69,
    "start_time": "2022-04-18T18:56:25.400Z"
   },
   {
    "duration": 9,
    "start_time": "2022-04-18T18:56:25.470Z"
   },
   {
    "duration": 6,
    "start_time": "2022-04-18T18:56:25.481Z"
   },
   {
    "duration": 15,
    "start_time": "2022-04-18T18:56:25.489Z"
   },
   {
    "duration": 49,
    "start_time": "2022-04-18T18:56:25.506Z"
   },
   {
    "duration": 12,
    "start_time": "2022-04-18T18:56:25.557Z"
   },
   {
    "duration": 6,
    "start_time": "2022-04-18T18:56:25.571Z"
   },
   {
    "duration": 12,
    "start_time": "2022-04-18T18:56:25.578Z"
   },
   {
    "duration": 5,
    "start_time": "2022-04-18T18:56:25.592Z"
   },
   {
    "duration": 12,
    "start_time": "2022-04-18T18:56:25.599Z"
   },
   {
    "duration": 43,
    "start_time": "2022-04-18T18:56:25.613Z"
   },
   {
    "duration": 6,
    "start_time": "2022-04-18T18:56:25.658Z"
   },
   {
    "duration": 7,
    "start_time": "2022-04-18T18:56:25.666Z"
   },
   {
    "duration": 7,
    "start_time": "2022-04-18T18:56:25.675Z"
   },
   {
    "duration": 12,
    "start_time": "2022-04-18T18:56:25.683Z"
   },
   {
    "duration": 7,
    "start_time": "2022-04-18T18:56:40.859Z"
   },
   {
    "duration": 5,
    "start_time": "2022-04-18T18:59:27.134Z"
   },
   {
    "duration": 4,
    "start_time": "2022-04-18T19:01:51.484Z"
   },
   {
    "duration": 4,
    "start_time": "2022-04-18T19:01:53.618Z"
   },
   {
    "duration": 5,
    "start_time": "2022-04-18T19:02:01.827Z"
   },
   {
    "duration": 4,
    "start_time": "2022-04-18T19:04:55.980Z"
   },
   {
    "duration": 16,
    "start_time": "2022-04-18T19:04:59.191Z"
   },
   {
    "duration": 6,
    "start_time": "2022-04-18T19:06:04.265Z"
   },
   {
    "duration": 5,
    "start_time": "2022-04-18T19:06:08.333Z"
   },
   {
    "duration": 5,
    "start_time": "2022-04-18T19:06:13.517Z"
   },
   {
    "duration": 15,
    "start_time": "2022-04-18T19:06:16.430Z"
   },
   {
    "duration": 6,
    "start_time": "2022-04-18T19:06:29.937Z"
   },
   {
    "duration": 4,
    "start_time": "2022-04-18T19:06:35.221Z"
   },
   {
    "duration": 4,
    "start_time": "2022-04-18T19:06:41.929Z"
   },
   {
    "duration": 6,
    "start_time": "2022-04-18T19:06:48.196Z"
   },
   {
    "duration": 13,
    "start_time": "2022-04-18T19:06:50.515Z"
   },
   {
    "duration": 5,
    "start_time": "2022-04-18T19:07:34.353Z"
   },
   {
    "duration": 13,
    "start_time": "2022-04-18T19:07:37.491Z"
   },
   {
    "duration": 3,
    "start_time": "2022-04-18T19:08:19.662Z"
   },
   {
    "duration": 3,
    "start_time": "2022-04-18T19:08:19.669Z"
   },
   {
    "duration": 22,
    "start_time": "2022-04-18T19:08:19.686Z"
   },
   {
    "duration": 11,
    "start_time": "2022-04-18T19:08:19.710Z"
   },
   {
    "duration": 7,
    "start_time": "2022-04-18T19:08:19.723Z"
   },
   {
    "duration": 15,
    "start_time": "2022-04-18T19:08:19.732Z"
   },
   {
    "duration": 12,
    "start_time": "2022-04-18T19:08:19.751Z"
   },
   {
    "duration": 123,
    "start_time": "2022-04-18T19:08:19.765Z"
   },
   {
    "duration": 15,
    "start_time": "2022-04-18T19:08:19.889Z"
   },
   {
    "duration": 57,
    "start_time": "2022-04-18T19:08:19.906Z"
   },
   {
    "duration": 145,
    "start_time": "2022-04-18T19:08:19.965Z"
   },
   {
    "duration": 156,
    "start_time": "2022-04-18T19:08:20.112Z"
   },
   {
    "duration": 20,
    "start_time": "2022-04-18T19:08:20.270Z"
   },
   {
    "duration": 80,
    "start_time": "2022-04-18T19:08:20.292Z"
   },
   {
    "duration": 149,
    "start_time": "2022-04-18T19:08:20.374Z"
   },
   {
    "duration": 33,
    "start_time": "2022-04-18T19:08:20.524Z"
   },
   {
    "duration": 106,
    "start_time": "2022-04-18T19:08:20.559Z"
   },
   {
    "duration": 4,
    "start_time": "2022-04-18T19:08:20.667Z"
   },
   {
    "duration": 8,
    "start_time": "2022-04-18T19:08:20.673Z"
   },
   {
    "duration": 6,
    "start_time": "2022-04-18T19:08:20.683Z"
   },
   {
    "duration": 11,
    "start_time": "2022-04-18T19:08:20.690Z"
   },
   {
    "duration": 7,
    "start_time": "2022-04-18T19:08:20.702Z"
   },
   {
    "duration": 9,
    "start_time": "2022-04-18T19:08:20.710Z"
   },
   {
    "duration": 36,
    "start_time": "2022-04-18T19:08:20.720Z"
   },
   {
    "duration": 10,
    "start_time": "2022-04-18T19:08:20.758Z"
   },
   {
    "duration": 6,
    "start_time": "2022-04-18T19:08:20.770Z"
   },
   {
    "duration": 6,
    "start_time": "2022-04-18T19:08:20.777Z"
   },
   {
    "duration": 11,
    "start_time": "2022-04-18T19:08:20.785Z"
   },
   {
    "duration": 5,
    "start_time": "2022-04-18T19:08:20.797Z"
   },
   {
    "duration": 15,
    "start_time": "2022-04-18T19:08:20.803Z"
   },
   {
    "duration": 40,
    "start_time": "2022-04-18T19:08:20.820Z"
   },
   {
    "duration": 34,
    "start_time": "2022-04-18T19:08:20.862Z"
   },
   {
    "duration": 9,
    "start_time": "2022-04-18T19:08:20.898Z"
   },
   {
    "duration": 8,
    "start_time": "2022-04-18T19:08:20.908Z"
   },
   {
    "duration": 36,
    "start_time": "2022-04-18T19:08:20.920Z"
   },
   {
    "duration": 26,
    "start_time": "2022-04-18T19:08:20.960Z"
   },
   {
    "duration": 16,
    "start_time": "2022-04-18T19:08:20.987Z"
   },
   {
    "duration": 9,
    "start_time": "2022-04-18T19:08:21.004Z"
   },
   {
    "duration": 38,
    "start_time": "2022-04-18T19:08:21.014Z"
   },
   {
    "duration": 14,
    "start_time": "2022-04-18T19:08:21.055Z"
   },
   {
    "duration": 18,
    "start_time": "2022-04-18T19:08:21.071Z"
   },
   {
    "duration": 7,
    "start_time": "2022-04-18T19:08:21.090Z"
   },
   {
    "duration": 15,
    "start_time": "2022-04-18T19:08:21.099Z"
   },
   {
    "duration": 45,
    "start_time": "2022-04-18T19:08:21.116Z"
   },
   {
    "duration": 5,
    "start_time": "2022-04-18T19:08:21.163Z"
   },
   {
    "duration": 33,
    "start_time": "2022-04-18T19:08:21.170Z"
   },
   {
    "duration": 4,
    "start_time": "2022-04-18T19:08:21.205Z"
   },
   {
    "duration": 22,
    "start_time": "2022-04-18T19:08:21.210Z"
   },
   {
    "duration": 21,
    "start_time": "2022-04-18T19:08:21.247Z"
   },
   {
    "duration": 61,
    "start_time": "2022-04-18T19:08:21.270Z"
   },
   {
    "duration": 21,
    "start_time": "2022-04-18T19:08:21.333Z"
   },
   {
    "duration": 4,
    "start_time": "2022-04-18T19:08:21.362Z"
   },
   {
    "duration": 8,
    "start_time": "2022-04-18T19:08:21.368Z"
   },
   {
    "duration": 4,
    "start_time": "2022-04-18T19:08:21.377Z"
   },
   {
    "duration": 33,
    "start_time": "2022-04-18T19:08:21.382Z"
   },
   {
    "duration": 8,
    "start_time": "2022-04-18T19:08:21.416Z"
   },
   {
    "duration": 52,
    "start_time": "2022-04-18T19:08:21.425Z"
   },
   {
    "duration": 8,
    "start_time": "2022-04-18T19:08:21.479Z"
   },
   {
    "duration": 24,
    "start_time": "2022-04-18T19:08:21.489Z"
   },
   {
    "duration": 8,
    "start_time": "2022-04-18T19:08:21.515Z"
   },
   {
    "duration": 28,
    "start_time": "2022-04-18T19:08:21.525Z"
   },
   {
    "duration": 100,
    "start_time": "2022-04-18T19:08:21.557Z"
   },
   {
    "duration": 9,
    "start_time": "2022-04-18T19:08:21.659Z"
   },
   {
    "duration": 6,
    "start_time": "2022-04-18T19:08:21.669Z"
   },
   {
    "duration": 12,
    "start_time": "2022-04-18T19:08:21.676Z"
   },
   {
    "duration": 15,
    "start_time": "2022-04-18T19:08:21.689Z"
   },
   {
    "duration": 59,
    "start_time": "2022-04-18T19:08:21.706Z"
   },
   {
    "duration": 7,
    "start_time": "2022-04-18T19:08:21.767Z"
   },
   {
    "duration": 6,
    "start_time": "2022-04-18T19:08:21.776Z"
   },
   {
    "duration": 11,
    "start_time": "2022-04-18T19:08:21.783Z"
   },
   {
    "duration": 17,
    "start_time": "2022-04-18T19:08:21.795Z"
   },
   {
    "duration": 57,
    "start_time": "2022-04-18T19:08:21.814Z"
   },
   {
    "duration": 9,
    "start_time": "2022-04-18T19:08:21.872Z"
   },
   {
    "duration": 6,
    "start_time": "2022-04-18T19:08:21.882Z"
   },
   {
    "duration": 13,
    "start_time": "2022-04-18T19:08:21.889Z"
   },
   {
    "duration": 91,
    "start_time": "2022-04-18T19:08:21.903Z"
   },
   {
    "duration": 11,
    "start_time": "2022-04-18T19:08:21.996Z"
   },
   {
    "duration": 6,
    "start_time": "2022-04-18T19:08:22.009Z"
   },
   {
    "duration": 13,
    "start_time": "2022-04-18T19:08:22.016Z"
   },
   {
    "duration": 28,
    "start_time": "2022-04-18T19:08:22.031Z"
   },
   {
    "duration": 12,
    "start_time": "2022-04-18T19:08:22.061Z"
   },
   {
    "duration": 7,
    "start_time": "2022-04-18T19:08:22.075Z"
   },
   {
    "duration": 4,
    "start_time": "2022-04-18T19:08:22.083Z"
   },
   {
    "duration": 6,
    "start_time": "2022-04-18T19:08:22.088Z"
   },
   {
    "duration": 5,
    "start_time": "2022-04-18T19:08:22.096Z"
   },
   {
    "duration": 7,
    "start_time": "2022-04-18T19:08:22.103Z"
   },
   {
    "duration": 5,
    "start_time": "2022-04-18T19:08:34.667Z"
   },
   {
    "duration": 4,
    "start_time": "2022-04-18T19:08:38.766Z"
   },
   {
    "duration": 5,
    "start_time": "2022-04-18T19:08:43.546Z"
   },
   {
    "duration": 5,
    "start_time": "2022-04-18T19:09:08.471Z"
   },
   {
    "duration": 11,
    "start_time": "2022-04-18T19:09:11.691Z"
   },
   {
    "duration": 5,
    "start_time": "2022-04-18T19:09:20.591Z"
   },
   {
    "duration": 5,
    "start_time": "2022-04-18T19:09:23.004Z"
   },
   {
    "duration": 4,
    "start_time": "2022-04-18T19:09:25.216Z"
   },
   {
    "duration": 16,
    "start_time": "2022-04-18T19:09:28.008Z"
   },
   {
    "duration": 5,
    "start_time": "2022-04-18T19:09:36.122Z"
   },
   {
    "duration": 4,
    "start_time": "2022-04-18T19:09:40.264Z"
   },
   {
    "duration": 4,
    "start_time": "2022-04-18T19:09:43.390Z"
   },
   {
    "duration": 6,
    "start_time": "2022-04-18T19:09:45.973Z"
   },
   {
    "duration": 13,
    "start_time": "2022-04-18T19:09:48.511Z"
   },
   {
    "duration": 6,
    "start_time": "2022-04-18T19:09:53.018Z"
   },
   {
    "duration": 15,
    "start_time": "2022-04-18T19:09:55.571Z"
   },
   {
    "duration": 6,
    "start_time": "2022-04-18T19:10:01.310Z"
   },
   {
    "duration": 74,
    "start_time": "2022-04-18T19:10:35.675Z"
   },
   {
    "duration": 8,
    "start_time": "2022-04-18T19:10:44.575Z"
   },
   {
    "duration": 5,
    "start_time": "2022-04-18T19:11:22.223Z"
   },
   {
    "duration": 5,
    "start_time": "2022-04-18T19:11:44.739Z"
   },
   {
    "duration": 4,
    "start_time": "2022-04-18T19:12:20.961Z"
   },
   {
    "duration": 4,
    "start_time": "2022-04-18T19:13:16.978Z"
   },
   {
    "duration": 4,
    "start_time": "2022-04-18T19:13:18.368Z"
   },
   {
    "duration": 5,
    "start_time": "2022-04-18T19:13:19.659Z"
   },
   {
    "duration": 13,
    "start_time": "2022-04-18T19:13:23.013Z"
   },
   {
    "duration": 6,
    "start_time": "2022-04-18T19:13:45.329Z"
   },
   {
    "duration": 4,
    "start_time": "2022-04-18T19:13:50.917Z"
   },
   {
    "duration": 5,
    "start_time": "2022-04-18T19:14:01.569Z"
   },
   {
    "duration": 13,
    "start_time": "2022-04-18T19:14:06.572Z"
   },
   {
    "duration": 5,
    "start_time": "2022-04-18T19:14:16.725Z"
   },
   {
    "duration": 4,
    "start_time": "2022-04-18T19:14:22.076Z"
   },
   {
    "duration": 4,
    "start_time": "2022-04-18T19:14:28.342Z"
   },
   {
    "duration": 4,
    "start_time": "2022-04-18T19:14:33.288Z"
   },
   {
    "duration": 13,
    "start_time": "2022-04-18T19:14:35.932Z"
   },
   {
    "duration": 6,
    "start_time": "2022-04-18T19:14:59.284Z"
   },
   {
    "duration": 14,
    "start_time": "2022-04-18T19:15:02.116Z"
   },
   {
    "duration": 5,
    "start_time": "2022-04-18T19:15:22.581Z"
   },
   {
    "duration": 12,
    "start_time": "2022-04-18T19:32:48.427Z"
   },
   {
    "duration": 1115,
    "start_time": "2022-04-18T19:33:42.089Z"
   },
   {
    "duration": 1336,
    "start_time": "2022-04-18T19:33:49.307Z"
   },
   {
    "duration": 5,
    "start_time": "2022-04-18T19:34:52.426Z"
   },
   {
    "duration": 4,
    "start_time": "2022-04-18T19:35:58.323Z"
   },
   {
    "duration": 3,
    "start_time": "2022-04-18T19:50:37.665Z"
   },
   {
    "duration": 5,
    "start_time": "2022-04-18T19:50:37.671Z"
   },
   {
    "duration": 29,
    "start_time": "2022-04-18T19:50:37.685Z"
   },
   {
    "duration": 15,
    "start_time": "2022-04-18T19:50:37.716Z"
   },
   {
    "duration": 13,
    "start_time": "2022-04-18T19:50:37.733Z"
   },
   {
    "duration": 40,
    "start_time": "2022-04-18T19:50:37.749Z"
   },
   {
    "duration": 15,
    "start_time": "2022-04-18T19:50:37.792Z"
   },
   {
    "duration": 127,
    "start_time": "2022-04-18T19:50:37.809Z"
   },
   {
    "duration": 23,
    "start_time": "2022-04-18T19:50:37.938Z"
   },
   {
    "duration": 55,
    "start_time": "2022-04-18T19:50:37.963Z"
   },
   {
    "duration": 181,
    "start_time": "2022-04-18T19:50:38.020Z"
   },
   {
    "duration": 185,
    "start_time": "2022-04-18T19:50:38.203Z"
   },
   {
    "duration": 22,
    "start_time": "2022-04-18T19:50:38.389Z"
   },
   {
    "duration": 99,
    "start_time": "2022-04-18T19:50:38.412Z"
   },
   {
    "duration": 206,
    "start_time": "2022-04-18T19:50:38.513Z"
   },
   {
    "duration": 55,
    "start_time": "2022-04-18T19:50:38.721Z"
   },
   {
    "duration": 143,
    "start_time": "2022-04-18T19:50:38.778Z"
   },
   {
    "duration": 5,
    "start_time": "2022-04-18T19:50:38.923Z"
   },
   {
    "duration": 16,
    "start_time": "2022-04-18T19:50:38.932Z"
   },
   {
    "duration": 24,
    "start_time": "2022-04-18T19:50:38.950Z"
   },
   {
    "duration": 18,
    "start_time": "2022-04-18T19:50:38.976Z"
   },
   {
    "duration": 11,
    "start_time": "2022-04-18T19:50:38.996Z"
   },
   {
    "duration": 17,
    "start_time": "2022-04-18T19:50:39.009Z"
   },
   {
    "duration": 10,
    "start_time": "2022-04-18T19:50:39.027Z"
   },
   {
    "duration": 6,
    "start_time": "2022-04-18T19:50:39.039Z"
   },
   {
    "duration": 20,
    "start_time": "2022-04-18T19:50:39.047Z"
   },
   {
    "duration": 16,
    "start_time": "2022-04-18T19:50:39.068Z"
   },
   {
    "duration": 24,
    "start_time": "2022-04-18T19:50:39.090Z"
   },
   {
    "duration": 6,
    "start_time": "2022-04-18T19:50:39.115Z"
   },
   {
    "duration": 18,
    "start_time": "2022-04-18T19:50:39.123Z"
   },
   {
    "duration": 26,
    "start_time": "2022-04-18T19:50:39.143Z"
   },
   {
    "duration": 61,
    "start_time": "2022-04-18T19:50:39.172Z"
   },
   {
    "duration": 18,
    "start_time": "2022-04-18T19:50:39.236Z"
   },
   {
    "duration": 12,
    "start_time": "2022-04-18T19:50:39.256Z"
   },
   {
    "duration": 7,
    "start_time": "2022-04-18T19:50:39.271Z"
   },
   {
    "duration": 25,
    "start_time": "2022-04-18T19:50:39.280Z"
   },
   {
    "duration": 54,
    "start_time": "2022-04-18T19:50:39.307Z"
   },
   {
    "duration": 12,
    "start_time": "2022-04-18T19:50:39.364Z"
   },
   {
    "duration": 29,
    "start_time": "2022-04-18T19:50:39.378Z"
   },
   {
    "duration": 42,
    "start_time": "2022-04-18T19:50:39.409Z"
   },
   {
    "duration": 28,
    "start_time": "2022-04-18T19:50:39.453Z"
   },
   {
    "duration": 12,
    "start_time": "2022-04-18T19:50:39.483Z"
   },
   {
    "duration": 49,
    "start_time": "2022-04-18T19:50:39.500Z"
   },
   {
    "duration": 14,
    "start_time": "2022-04-18T19:50:39.551Z"
   },
   {
    "duration": 10,
    "start_time": "2022-04-18T19:50:39.569Z"
   },
   {
    "duration": 32,
    "start_time": "2022-04-18T19:50:39.581Z"
   },
   {
    "duration": 33,
    "start_time": "2022-04-18T19:50:39.615Z"
   },
   {
    "duration": 24,
    "start_time": "2022-04-18T19:50:39.651Z"
   },
   {
    "duration": 8,
    "start_time": "2022-04-18T19:50:39.677Z"
   },
   {
    "duration": 95,
    "start_time": "2022-04-18T19:50:39.687Z"
   },
   {
    "duration": 8,
    "start_time": "2022-04-18T19:50:39.784Z"
   },
   {
    "duration": 4,
    "start_time": "2022-04-18T19:50:39.794Z"
   },
   {
    "duration": 6,
    "start_time": "2022-04-18T19:50:39.800Z"
   },
   {
    "duration": 4,
    "start_time": "2022-04-18T19:50:39.807Z"
   },
   {
    "duration": 67,
    "start_time": "2022-04-18T19:50:39.812Z"
   },
   {
    "duration": 14,
    "start_time": "2022-04-18T19:50:39.881Z"
   },
   {
    "duration": 17,
    "start_time": "2022-04-18T19:50:39.897Z"
   },
   {
    "duration": 33,
    "start_time": "2022-04-18T19:50:39.916Z"
   },
   {
    "duration": 36,
    "start_time": "2022-04-18T19:50:39.951Z"
   },
   {
    "duration": 9,
    "start_time": "2022-04-18T19:50:39.990Z"
   },
   {
    "duration": 26,
    "start_time": "2022-04-18T19:50:40.000Z"
   },
   {
    "duration": 125,
    "start_time": "2022-04-18T19:50:40.027Z"
   },
   {
    "duration": 12,
    "start_time": "2022-04-18T19:50:40.154Z"
   },
   {
    "duration": 18,
    "start_time": "2022-04-18T19:50:40.168Z"
   },
   {
    "duration": 17,
    "start_time": "2022-04-18T19:50:40.188Z"
   },
   {
    "duration": 24,
    "start_time": "2022-04-18T19:50:40.207Z"
   },
   {
    "duration": 60,
    "start_time": "2022-04-18T19:50:40.234Z"
   },
   {
    "duration": 9,
    "start_time": "2022-04-18T19:50:40.296Z"
   },
   {
    "duration": 10,
    "start_time": "2022-04-18T19:50:40.306Z"
   },
   {
    "duration": 14,
    "start_time": "2022-04-18T19:50:40.317Z"
   },
   {
    "duration": 23,
    "start_time": "2022-04-18T19:50:40.347Z"
   },
   {
    "duration": 38,
    "start_time": "2022-04-18T19:50:40.372Z"
   },
   {
    "duration": 9,
    "start_time": "2022-04-18T19:50:40.411Z"
   },
   {
    "duration": 26,
    "start_time": "2022-04-18T19:50:40.421Z"
   },
   {
    "duration": 27,
    "start_time": "2022-04-18T19:50:40.450Z"
   },
   {
    "duration": 30,
    "start_time": "2022-04-18T19:50:40.478Z"
   },
   {
    "duration": 12,
    "start_time": "2022-04-18T19:50:40.510Z"
   },
   {
    "duration": 10,
    "start_time": "2022-04-18T19:50:40.524Z"
   },
   {
    "duration": 28,
    "start_time": "2022-04-18T19:50:40.536Z"
   },
   {
    "duration": 7,
    "start_time": "2022-04-18T19:50:40.566Z"
   },
   {
    "duration": 12,
    "start_time": "2022-04-18T19:50:40.574Z"
   },
   {
    "duration": 8,
    "start_time": "2022-04-18T19:50:40.587Z"
   },
   {
    "duration": 7,
    "start_time": "2022-04-18T19:50:40.596Z"
   },
   {
    "duration": 7,
    "start_time": "2022-04-18T19:50:40.605Z"
   },
   {
    "duration": 6,
    "start_time": "2022-04-18T19:50:40.613Z"
   },
   {
    "duration": 28,
    "start_time": "2022-04-18T19:50:40.621Z"
   },
   {
    "duration": 6,
    "start_time": "2022-04-18T19:50:40.651Z"
   },
   {
    "duration": 13,
    "start_time": "2022-04-18T19:50:40.659Z"
   },
   {
    "duration": 12,
    "start_time": "2022-04-18T19:50:40.673Z"
   },
   {
    "duration": 8,
    "start_time": "2022-04-18T19:50:40.687Z"
   },
   {
    "duration": 12,
    "start_time": "2022-04-18T19:50:40.696Z"
   },
   {
    "duration": 9,
    "start_time": "2022-04-18T19:50:40.710Z"
   },
   {
    "duration": 28,
    "start_time": "2022-04-18T19:50:40.721Z"
   },
   {
    "duration": 19,
    "start_time": "2022-04-18T19:50:40.751Z"
   },
   {
    "duration": 20,
    "start_time": "2022-04-18T19:50:40.773Z"
   },
   {
    "duration": 7,
    "start_time": "2022-04-18T19:50:40.795Z"
   },
   {
    "duration": 5,
    "start_time": "2022-04-18T19:50:40.803Z"
   },
   {
    "duration": 4,
    "start_time": "2022-04-18T19:50:40.810Z"
   },
   {
    "duration": 7,
    "start_time": "2022-04-18T19:50:40.815Z"
   },
   {
    "duration": 34,
    "start_time": "2022-04-18T19:50:40.824Z"
   },
   {
    "duration": 11,
    "start_time": "2022-04-18T19:50:40.860Z"
   },
   {
    "duration": 26,
    "start_time": "2022-04-18T19:50:40.873Z"
   },
   {
    "duration": 8,
    "start_time": "2022-04-18T19:50:40.901Z"
   },
   {
    "duration": 8,
    "start_time": "2022-04-18T19:50:40.911Z"
   },
   {
    "duration": 5,
    "start_time": "2022-04-18T19:50:40.920Z"
   },
   {
    "duration": 22,
    "start_time": "2022-04-18T19:50:40.927Z"
   },
   {
    "duration": 19,
    "start_time": "2022-04-18T19:50:40.950Z"
   },
   {
    "duration": 12,
    "start_time": "2022-04-18T19:50:40.971Z"
   },
   {
    "duration": 9,
    "start_time": "2022-04-18T19:50:40.984Z"
   },
   {
    "duration": 7,
    "start_time": "2022-04-18T19:50:40.994Z"
   },
   {
    "duration": 7,
    "start_time": "2022-04-18T19:50:41.003Z"
   },
   {
    "duration": 14,
    "start_time": "2022-04-18T19:50:41.019Z"
   },
   {
    "duration": 19,
    "start_time": "2022-04-18T19:50:41.047Z"
   },
   {
    "duration": 6,
    "start_time": "2022-04-18T19:50:41.068Z"
   },
   {
    "duration": 6,
    "start_time": "2022-04-18T19:50:41.075Z"
   },
   {
    "duration": 6,
    "start_time": "2022-04-18T19:50:41.083Z"
   },
   {
    "duration": 20,
    "start_time": "2022-04-18T19:50:41.090Z"
   },
   {
    "duration": 7,
    "start_time": "2022-04-18T19:50:41.112Z"
   },
   {
    "duration": 28,
    "start_time": "2022-04-18T19:50:41.120Z"
   },
   {
    "duration": 8,
    "start_time": "2022-04-18T19:50:41.150Z"
   },
   {
    "duration": 23,
    "start_time": "2022-04-18T19:50:41.159Z"
   },
   {
    "duration": 38,
    "start_time": "2022-04-18T19:50:41.184Z"
   },
   {
    "duration": 675,
    "start_time": "2022-04-18T19:51:00.364Z"
   },
   {
    "duration": 29,
    "start_time": "2022-04-18T19:55:41.896Z"
   },
   {
    "duration": 43,
    "start_time": "2022-04-18T19:56:04.436Z"
   },
   {
    "duration": 10,
    "start_time": "2022-04-18T19:56:34.298Z"
   },
   {
    "duration": 3,
    "start_time": "2022-04-18T19:58:07.344Z"
   },
   {
    "duration": 4,
    "start_time": "2022-04-18T19:58:07.947Z"
   },
   {
    "duration": 4,
    "start_time": "2022-04-18T19:58:08.461Z"
   },
   {
    "duration": 3,
    "start_time": "2022-04-18T19:58:28.534Z"
   },
   {
    "duration": 5,
    "start_time": "2022-04-18T19:58:28.541Z"
   },
   {
    "duration": 5,
    "start_time": "2022-04-18T19:58:28.561Z"
   },
   {
    "duration": 31,
    "start_time": "2022-04-18T19:58:28.567Z"
   },
   {
    "duration": 10,
    "start_time": "2022-04-18T19:58:28.599Z"
   },
   {
    "duration": 6,
    "start_time": "2022-04-18T19:58:28.611Z"
   },
   {
    "duration": 14,
    "start_time": "2022-04-18T19:58:28.619Z"
   },
   {
    "duration": 9,
    "start_time": "2022-04-18T19:58:28.635Z"
   },
   {
    "duration": 127,
    "start_time": "2022-04-18T19:58:28.647Z"
   },
   {
    "duration": 13,
    "start_time": "2022-04-18T19:58:28.776Z"
   },
   {
    "duration": 38,
    "start_time": "2022-04-18T19:58:28.791Z"
   },
   {
    "duration": 139,
    "start_time": "2022-04-18T19:58:28.851Z"
   },
   {
    "duration": 158,
    "start_time": "2022-04-18T19:58:28.991Z"
   },
   {
    "duration": 27,
    "start_time": "2022-04-18T19:58:29.151Z"
   },
   {
    "duration": 86,
    "start_time": "2022-04-18T19:58:29.179Z"
   },
   {
    "duration": 163,
    "start_time": "2022-04-18T19:58:29.267Z"
   },
   {
    "duration": 45,
    "start_time": "2022-04-18T19:58:29.432Z"
   },
   {
    "duration": 115,
    "start_time": "2022-04-18T19:58:29.480Z"
   },
   {
    "duration": 3,
    "start_time": "2022-04-18T19:58:29.597Z"
   },
   {
    "duration": 8,
    "start_time": "2022-04-18T19:58:29.602Z"
   },
   {
    "duration": 6,
    "start_time": "2022-04-18T19:58:29.612Z"
   },
   {
    "duration": 32,
    "start_time": "2022-04-18T19:58:29.620Z"
   },
   {
    "duration": 15,
    "start_time": "2022-04-18T19:58:29.654Z"
   },
   {
    "duration": 6,
    "start_time": "2022-04-18T19:58:29.671Z"
   },
   {
    "duration": 5,
    "start_time": "2022-04-18T19:58:29.678Z"
   },
   {
    "duration": 5,
    "start_time": "2022-04-18T19:58:29.684Z"
   },
   {
    "duration": 5,
    "start_time": "2022-04-18T19:58:29.691Z"
   },
   {
    "duration": 5,
    "start_time": "2022-04-18T19:58:29.697Z"
   },
   {
    "duration": 7,
    "start_time": "2022-04-18T19:58:29.703Z"
   },
   {
    "duration": 40,
    "start_time": "2022-04-18T19:58:29.712Z"
   },
   {
    "duration": 19,
    "start_time": "2022-04-18T19:58:29.754Z"
   },
   {
    "duration": 13,
    "start_time": "2022-04-18T19:58:29.775Z"
   },
   {
    "duration": 27,
    "start_time": "2022-04-18T19:58:29.790Z"
   },
   {
    "duration": 41,
    "start_time": "2022-04-18T19:58:29.818Z"
   },
   {
    "duration": 9,
    "start_time": "2022-04-18T19:58:29.861Z"
   },
   {
    "duration": 6,
    "start_time": "2022-04-18T19:58:29.875Z"
   },
   {
    "duration": 26,
    "start_time": "2022-04-18T19:58:29.882Z"
   },
   {
    "duration": 50,
    "start_time": "2022-04-18T19:58:29.909Z"
   },
   {
    "duration": 7,
    "start_time": "2022-04-18T19:58:29.962Z"
   },
   {
    "duration": 24,
    "start_time": "2022-04-18T19:58:29.971Z"
   },
   {
    "duration": 14,
    "start_time": "2022-04-18T19:58:29.997Z"
   },
   {
    "duration": 53,
    "start_time": "2022-04-18T19:58:30.013Z"
   },
   {
    "duration": 7,
    "start_time": "2022-04-18T19:58:30.068Z"
   },
   {
    "duration": 17,
    "start_time": "2022-04-18T19:58:30.077Z"
   },
   {
    "duration": 8,
    "start_time": "2022-04-18T19:58:30.096Z"
   },
   {
    "duration": 8,
    "start_time": "2022-04-18T19:58:30.106Z"
   },
   {
    "duration": 35,
    "start_time": "2022-04-18T19:58:30.149Z"
   },
   {
    "duration": 5,
    "start_time": "2022-04-18T19:58:30.185Z"
   },
   {
    "duration": 20,
    "start_time": "2022-04-18T19:58:30.191Z"
   },
   {
    "duration": 12,
    "start_time": "2022-04-18T19:58:30.213Z"
   },
   {
    "duration": 87,
    "start_time": "2022-04-18T19:58:30.226Z"
   },
   {
    "duration": 9,
    "start_time": "2022-04-18T19:58:30.315Z"
   },
   {
    "duration": 29,
    "start_time": "2022-04-18T19:58:30.325Z"
   },
   {
    "duration": 15,
    "start_time": "2022-04-18T19:58:30.357Z"
   },
   {
    "duration": 11,
    "start_time": "2022-04-18T19:58:30.374Z"
   },
   {
    "duration": 30,
    "start_time": "2022-04-18T19:58:30.387Z"
   },
   {
    "duration": 9,
    "start_time": "2022-04-18T19:58:30.419Z"
   },
   {
    "duration": 36,
    "start_time": "2022-04-18T19:58:30.430Z"
   },
   {
    "duration": 8,
    "start_time": "2022-04-18T19:58:30.468Z"
   },
   {
    "duration": 25,
    "start_time": "2022-04-18T19:58:30.477Z"
   },
   {
    "duration": 8,
    "start_time": "2022-04-18T19:58:30.504Z"
   },
   {
    "duration": 46,
    "start_time": "2022-04-18T19:58:30.514Z"
   },
   {
    "duration": 97,
    "start_time": "2022-04-18T19:58:30.562Z"
   },
   {
    "duration": 9,
    "start_time": "2022-04-18T19:58:30.661Z"
   },
   {
    "duration": 7,
    "start_time": "2022-04-18T19:58:30.672Z"
   },
   {
    "duration": 17,
    "start_time": "2022-04-18T19:58:30.681Z"
   },
   {
    "duration": 28,
    "start_time": "2022-04-18T19:58:30.700Z"
   },
   {
    "duration": 50,
    "start_time": "2022-04-18T19:58:30.730Z"
   },
   {
    "duration": 9,
    "start_time": "2022-04-18T19:58:30.781Z"
   },
   {
    "duration": 14,
    "start_time": "2022-04-18T19:58:30.791Z"
   },
   {
    "duration": 18,
    "start_time": "2022-04-18T19:58:30.807Z"
   },
   {
    "duration": 31,
    "start_time": "2022-04-18T19:58:30.827Z"
   },
   {
    "duration": 38,
    "start_time": "2022-04-18T19:58:30.861Z"
   },
   {
    "duration": 8,
    "start_time": "2022-04-18T19:58:30.901Z"
   },
   {
    "duration": 13,
    "start_time": "2022-04-18T19:58:30.911Z"
   },
   {
    "duration": 24,
    "start_time": "2022-04-18T19:58:30.926Z"
   },
   {
    "duration": 39,
    "start_time": "2022-04-18T19:58:30.952Z"
   },
   {
    "duration": 12,
    "start_time": "2022-04-18T19:58:30.993Z"
   },
   {
    "duration": 7,
    "start_time": "2022-04-18T19:58:31.006Z"
   },
   {
    "duration": 21,
    "start_time": "2022-04-18T19:58:31.015Z"
   },
   {
    "duration": 16,
    "start_time": "2022-04-18T19:58:31.038Z"
   },
   {
    "duration": 27,
    "start_time": "2022-04-18T19:58:31.056Z"
   },
   {
    "duration": 11,
    "start_time": "2022-04-18T19:58:31.085Z"
   },
   {
    "duration": 7,
    "start_time": "2022-04-18T19:58:31.097Z"
   },
   {
    "duration": 9,
    "start_time": "2022-04-18T19:58:31.106Z"
   },
   {
    "duration": 8,
    "start_time": "2022-04-18T19:58:31.117Z"
   },
   {
    "duration": 7,
    "start_time": "2022-04-18T19:58:31.126Z"
   },
   {
    "duration": 15,
    "start_time": "2022-04-18T19:58:31.134Z"
   },
   {
    "duration": 13,
    "start_time": "2022-04-18T19:58:31.151Z"
   },
   {
    "duration": 7,
    "start_time": "2022-04-18T19:58:31.169Z"
   },
   {
    "duration": 10,
    "start_time": "2022-04-18T19:58:31.177Z"
   },
   {
    "duration": 16,
    "start_time": "2022-04-18T19:58:31.189Z"
   },
   {
    "duration": 18,
    "start_time": "2022-04-18T19:58:31.206Z"
   },
   {
    "duration": 6,
    "start_time": "2022-04-18T19:58:31.226Z"
   },
   {
    "duration": 10,
    "start_time": "2022-04-18T19:58:31.234Z"
   },
   {
    "duration": 23,
    "start_time": "2022-04-18T19:58:31.245Z"
   },
   {
    "duration": 6,
    "start_time": "2022-04-18T19:58:31.269Z"
   },
   {
    "duration": 5,
    "start_time": "2022-04-18T19:58:31.277Z"
   },
   {
    "duration": 4,
    "start_time": "2022-04-18T19:58:31.283Z"
   },
   {
    "duration": 5,
    "start_time": "2022-04-18T19:58:31.289Z"
   },
   {
    "duration": 16,
    "start_time": "2022-04-18T19:58:31.295Z"
   },
   {
    "duration": 7,
    "start_time": "2022-04-18T19:58:31.312Z"
   },
   {
    "duration": 29,
    "start_time": "2022-04-18T19:58:31.320Z"
   },
   {
    "duration": 20,
    "start_time": "2022-04-18T19:58:31.351Z"
   },
   {
    "duration": 5,
    "start_time": "2022-04-18T19:58:31.372Z"
   },
   {
    "duration": 4,
    "start_time": "2022-04-18T19:58:31.378Z"
   },
   {
    "duration": 5,
    "start_time": "2022-04-18T19:58:31.384Z"
   },
   {
    "duration": 6,
    "start_time": "2022-04-18T19:58:31.390Z"
   },
   {
    "duration": 12,
    "start_time": "2022-04-18T19:58:31.397Z"
   },
   {
    "duration": 6,
    "start_time": "2022-04-18T19:58:31.411Z"
   },
   {
    "duration": 5,
    "start_time": "2022-04-18T19:58:31.418Z"
   },
   {
    "duration": 24,
    "start_time": "2022-04-18T19:58:31.425Z"
   },
   {
    "duration": 15,
    "start_time": "2022-04-18T19:58:31.454Z"
   },
   {
    "duration": 5,
    "start_time": "2022-04-18T19:58:31.471Z"
   },
   {
    "duration": 5,
    "start_time": "2022-04-18T19:58:31.478Z"
   },
   {
    "duration": 4,
    "start_time": "2022-04-18T19:58:31.485Z"
   },
   {
    "duration": 7,
    "start_time": "2022-04-18T19:58:31.490Z"
   },
   {
    "duration": 12,
    "start_time": "2022-04-18T19:58:31.499Z"
   },
   {
    "duration": 5,
    "start_time": "2022-04-18T19:58:31.513Z"
   },
   {
    "duration": 20,
    "start_time": "2022-04-18T19:58:31.547Z"
   },
   {
    "duration": 8,
    "start_time": "2022-04-18T19:58:31.568Z"
   },
   {
    "duration": 18,
    "start_time": "2022-04-18T19:58:31.578Z"
   },
   {
    "duration": 65,
    "start_time": "2022-04-18T19:58:31.597Z"
   },
   {
    "duration": 124,
    "start_time": "2022-04-18T19:58:53.260Z"
   },
   {
    "duration": 154,
    "start_time": "2022-04-18T19:59:32.147Z"
   },
   {
    "duration": 126,
    "start_time": "2022-04-18T19:59:51.900Z"
   },
   {
    "duration": 4,
    "start_time": "2022-04-18T20:01:47.202Z"
   },
   {
    "duration": 5,
    "start_time": "2022-04-18T20:02:04.329Z"
   },
   {
    "duration": 3,
    "start_time": "2022-04-18T20:03:05.990Z"
   },
   {
    "duration": 4,
    "start_time": "2022-04-18T20:03:58.421Z"
   },
   {
    "duration": 210,
    "start_time": "2022-04-18T20:05:43.414Z"
   },
   {
    "duration": 4,
    "start_time": "2022-04-18T20:06:27.241Z"
   },
   {
    "duration": 4,
    "start_time": "2022-04-18T20:06:44.307Z"
   },
   {
    "duration": 4,
    "start_time": "2022-04-18T20:07:17.431Z"
   },
   {
    "duration": 3,
    "start_time": "2022-04-18T20:08:00.395Z"
   },
   {
    "duration": 3,
    "start_time": "2022-04-18T20:08:03.864Z"
   },
   {
    "duration": 4,
    "start_time": "2022-04-18T20:08:03.872Z"
   },
   {
    "duration": 2,
    "start_time": "2022-04-18T20:08:03.881Z"
   },
   {
    "duration": 28,
    "start_time": "2022-04-18T20:08:03.907Z"
   },
   {
    "duration": 11,
    "start_time": "2022-04-18T20:08:03.937Z"
   },
   {
    "duration": 18,
    "start_time": "2022-04-18T20:08:03.950Z"
   },
   {
    "duration": 16,
    "start_time": "2022-04-18T20:08:03.970Z"
   },
   {
    "duration": 10,
    "start_time": "2022-04-18T20:08:03.988Z"
   },
   {
    "duration": 122,
    "start_time": "2022-04-18T20:08:04.000Z"
   },
   {
    "duration": 28,
    "start_time": "2022-04-18T20:08:04.124Z"
   },
   {
    "duration": 42,
    "start_time": "2022-04-18T20:08:04.154Z"
   },
   {
    "duration": 153,
    "start_time": "2022-04-18T20:08:04.198Z"
   },
   {
    "duration": 151,
    "start_time": "2022-04-18T20:08:04.354Z"
   },
   {
    "duration": 20,
    "start_time": "2022-04-18T20:08:04.506Z"
   },
   {
    "duration": 83,
    "start_time": "2022-04-18T20:08:04.528Z"
   },
   {
    "duration": 165,
    "start_time": "2022-04-18T20:08:04.613Z"
   },
   {
    "duration": 24,
    "start_time": "2022-04-18T20:08:04.780Z"
   },
   {
    "duration": 112,
    "start_time": "2022-04-18T20:08:04.805Z"
   },
   {
    "duration": 3,
    "start_time": "2022-04-18T20:08:04.919Z"
   },
   {
    "duration": 6,
    "start_time": "2022-04-18T20:08:04.924Z"
   },
   {
    "duration": 17,
    "start_time": "2022-04-18T20:08:04.931Z"
   },
   {
    "duration": 15,
    "start_time": "2022-04-18T20:08:04.951Z"
   },
   {
    "duration": 8,
    "start_time": "2022-04-18T20:08:04.969Z"
   },
   {
    "duration": 11,
    "start_time": "2022-04-18T20:08:04.978Z"
   },
   {
    "duration": 7,
    "start_time": "2022-04-18T20:08:04.990Z"
   },
   {
    "duration": 7,
    "start_time": "2022-04-18T20:08:04.998Z"
   },
   {
    "duration": 7,
    "start_time": "2022-04-18T20:08:05.007Z"
   },
   {
    "duration": 9,
    "start_time": "2022-04-18T20:08:05.047Z"
   },
   {
    "duration": 14,
    "start_time": "2022-04-18T20:08:05.058Z"
   },
   {
    "duration": 4,
    "start_time": "2022-04-18T20:08:05.074Z"
   },
   {
    "duration": 13,
    "start_time": "2022-04-18T20:08:05.082Z"
   },
   {
    "duration": 14,
    "start_time": "2022-04-18T20:08:05.097Z"
   },
   {
    "duration": 71,
    "start_time": "2022-04-18T20:08:05.112Z"
   },
   {
    "duration": 9,
    "start_time": "2022-04-18T20:08:05.184Z"
   },
   {
    "duration": 5,
    "start_time": "2022-04-18T20:08:05.195Z"
   },
   {
    "duration": 6,
    "start_time": "2022-04-18T20:08:05.202Z"
   },
   {
    "duration": 63,
    "start_time": "2022-04-18T20:08:05.210Z"
   },
   {
    "duration": 16,
    "start_time": "2022-04-18T20:08:05.275Z"
   },
   {
    "duration": 8,
    "start_time": "2022-04-18T20:08:05.293Z"
   },
   {
    "duration": 46,
    "start_time": "2022-04-18T20:08:05.303Z"
   },
   {
    "duration": 17,
    "start_time": "2022-04-18T20:08:05.352Z"
   },
   {
    "duration": 17,
    "start_time": "2022-04-18T20:08:05.371Z"
   },
   {
    "duration": 7,
    "start_time": "2022-04-18T20:08:05.389Z"
   },
   {
    "duration": 14,
    "start_time": "2022-04-18T20:08:05.397Z"
   },
   {
    "duration": 15,
    "start_time": "2022-04-18T20:08:05.449Z"
   },
   {
    "duration": 5,
    "start_time": "2022-04-18T20:08:05.466Z"
   },
   {
    "duration": 30,
    "start_time": "2022-04-18T20:08:05.472Z"
   },
   {
    "duration": 4,
    "start_time": "2022-04-18T20:08:05.503Z"
   },
   {
    "duration": 53,
    "start_time": "2022-04-18T20:08:05.509Z"
   },
   {
    "duration": 9,
    "start_time": "2022-04-18T20:08:05.564Z"
   },
   {
    "duration": 80,
    "start_time": "2022-04-18T20:08:05.574Z"
   },
   {
    "duration": 13,
    "start_time": "2022-04-18T20:08:05.656Z"
   },
   {
    "duration": 4,
    "start_time": "2022-04-18T20:08:05.671Z"
   },
   {
    "duration": 5,
    "start_time": "2022-04-18T20:08:05.677Z"
   },
   {
    "duration": 4,
    "start_time": "2022-04-18T20:08:05.684Z"
   },
   {
    "duration": 72,
    "start_time": "2022-04-18T20:08:05.689Z"
   },
   {
    "duration": 9,
    "start_time": "2022-04-18T20:08:05.763Z"
   },
   {
    "duration": 29,
    "start_time": "2022-04-18T20:08:05.774Z"
   },
   {
    "duration": 10,
    "start_time": "2022-04-18T20:08:05.812Z"
   },
   {
    "duration": 34,
    "start_time": "2022-04-18T20:08:05.824Z"
   },
   {
    "duration": 10,
    "start_time": "2022-04-18T20:08:05.860Z"
   },
   {
    "duration": 22,
    "start_time": "2022-04-18T20:08:05.872Z"
   },
   {
    "duration": 103,
    "start_time": "2022-04-18T20:08:05.896Z"
   },
   {
    "duration": 9,
    "start_time": "2022-04-18T20:08:06.000Z"
   },
   {
    "duration": 7,
    "start_time": "2022-04-18T20:08:06.011Z"
   },
   {
    "duration": 14,
    "start_time": "2022-04-18T20:08:06.019Z"
   },
   {
    "duration": 19,
    "start_time": "2022-04-18T20:08:06.048Z"
   },
   {
    "duration": 36,
    "start_time": "2022-04-18T20:08:06.068Z"
   },
   {
    "duration": 8,
    "start_time": "2022-04-18T20:08:06.106Z"
   },
   {
    "duration": 7,
    "start_time": "2022-04-18T20:08:06.115Z"
   },
   {
    "duration": 16,
    "start_time": "2022-04-18T20:08:06.147Z"
   },
   {
    "duration": 18,
    "start_time": "2022-04-18T20:08:06.164Z"
   },
   {
    "duration": 35,
    "start_time": "2022-04-18T20:08:06.184Z"
   },
   {
    "duration": 32,
    "start_time": "2022-04-18T20:08:06.221Z"
   },
   {
    "duration": 13,
    "start_time": "2022-04-18T20:08:06.255Z"
   },
   {
    "duration": 10,
    "start_time": "2022-04-18T20:08:06.275Z"
   },
   {
    "duration": 27,
    "start_time": "2022-04-18T20:08:06.286Z"
   },
   {
    "duration": 12,
    "start_time": "2022-04-18T20:08:06.315Z"
   },
   {
    "duration": 7,
    "start_time": "2022-04-18T20:08:06.349Z"
   },
   {
    "duration": 19,
    "start_time": "2022-04-18T20:08:06.358Z"
   },
   {
    "duration": 5,
    "start_time": "2022-04-18T20:08:06.379Z"
   },
   {
    "duration": 13,
    "start_time": "2022-04-18T20:08:06.385Z"
   },
   {
    "duration": 12,
    "start_time": "2022-04-18T20:08:06.400Z"
   },
   {
    "duration": 4,
    "start_time": "2022-04-18T20:08:06.414Z"
   },
   {
    "duration": 29,
    "start_time": "2022-04-18T20:08:06.420Z"
   },
   {
    "duration": 10,
    "start_time": "2022-04-18T20:08:06.451Z"
   },
   {
    "duration": 7,
    "start_time": "2022-04-18T20:08:06.463Z"
   },
   {
    "duration": 6,
    "start_time": "2022-04-18T20:08:06.471Z"
   },
   {
    "duration": 6,
    "start_time": "2022-04-18T20:08:06.478Z"
   },
   {
    "duration": 7,
    "start_time": "2022-04-18T20:08:06.485Z"
   },
   {
    "duration": 6,
    "start_time": "2022-04-18T20:08:06.493Z"
   },
   {
    "duration": 13,
    "start_time": "2022-04-18T20:08:06.500Z"
   },
   {
    "duration": 39,
    "start_time": "2022-04-18T20:08:06.514Z"
   },
   {
    "duration": 16,
    "start_time": "2022-04-18T20:08:06.555Z"
   },
   {
    "duration": 6,
    "start_time": "2022-04-18T20:08:06.572Z"
   },
   {
    "duration": 13,
    "start_time": "2022-04-18T20:08:06.579Z"
   },
   {
    "duration": 5,
    "start_time": "2022-04-18T20:08:06.594Z"
   },
   {
    "duration": 5,
    "start_time": "2022-04-18T20:08:06.601Z"
   },
   {
    "duration": 4,
    "start_time": "2022-04-18T20:08:06.608Z"
   },
   {
    "duration": 5,
    "start_time": "2022-04-18T20:08:06.614Z"
   },
   {
    "duration": 37,
    "start_time": "2022-04-18T20:08:06.621Z"
   },
   {
    "duration": 9,
    "start_time": "2022-04-18T20:08:06.660Z"
   },
   {
    "duration": 14,
    "start_time": "2022-04-18T20:08:06.670Z"
   },
   {
    "duration": 6,
    "start_time": "2022-04-18T20:08:06.685Z"
   },
   {
    "duration": 4,
    "start_time": "2022-04-18T20:08:06.693Z"
   },
   {
    "duration": 4,
    "start_time": "2022-04-18T20:08:06.699Z"
   },
   {
    "duration": 5,
    "start_time": "2022-04-18T20:08:06.704Z"
   },
   {
    "duration": 6,
    "start_time": "2022-04-18T20:08:06.710Z"
   },
   {
    "duration": 42,
    "start_time": "2022-04-18T20:08:06.718Z"
   },
   {
    "duration": 7,
    "start_time": "2022-04-18T20:08:06.762Z"
   },
   {
    "duration": 4,
    "start_time": "2022-04-18T20:08:06.771Z"
   },
   {
    "duration": 4,
    "start_time": "2022-04-18T20:08:06.777Z"
   },
   {
    "duration": 12,
    "start_time": "2022-04-18T20:08:06.783Z"
   },
   {
    "duration": 5,
    "start_time": "2022-04-18T20:08:06.797Z"
   },
   {
    "duration": 4,
    "start_time": "2022-04-18T20:08:06.804Z"
   },
   {
    "duration": 5,
    "start_time": "2022-04-18T20:08:06.809Z"
   },
   {
    "duration": 38,
    "start_time": "2022-04-18T20:08:06.815Z"
   },
   {
    "duration": 20,
    "start_time": "2022-04-18T20:08:06.855Z"
   },
   {
    "duration": 7,
    "start_time": "2022-04-18T20:08:06.876Z"
   },
   {
    "duration": 14,
    "start_time": "2022-04-18T20:08:06.884Z"
   },
   {
    "duration": 6,
    "start_time": "2022-04-18T20:08:06.899Z"
   },
   {
    "duration": 47,
    "start_time": "2022-04-18T20:08:06.907Z"
   },
   {
    "duration": 40,
    "start_time": "2022-04-18T20:08:06.956Z"
   },
   {
    "duration": 162,
    "start_time": "2022-04-18T20:08:06.997Z"
   },
   {
    "duration": 112,
    "start_time": "2022-04-18T20:08:07.161Z"
   },
   {
    "duration": 5,
    "start_time": "2022-04-18T20:08:07.275Z"
   },
   {
    "duration": 6,
    "start_time": "2022-04-18T20:08:07.282Z"
   },
   {
    "duration": 4,
    "start_time": "2022-04-18T20:08:07.290Z"
   },
   {
    "duration": 4,
    "start_time": "2022-04-18T20:08:07.296Z"
   },
   {
    "duration": 4,
    "start_time": "2022-04-18T20:08:07.302Z"
   },
   {
    "duration": 198,
    "start_time": "2022-04-18T20:08:07.308Z"
   },
   {
    "duration": 97,
    "start_time": "2022-04-18T20:08:07.509Z"
   },
   {
    "duration": 4,
    "start_time": "2022-04-18T20:08:07.608Z"
   },
   {
    "duration": 6,
    "start_time": "2022-04-18T20:08:07.613Z"
   },
   {
    "duration": 134,
    "start_time": "2022-04-18T20:09:15.900Z"
   },
   {
    "duration": 4,
    "start_time": "2022-04-18T20:10:15.725Z"
   },
   {
    "duration": 4,
    "start_time": "2022-04-18T20:10:45.179Z"
   },
   {
    "duration": 3,
    "start_time": "2022-04-18T20:11:10.868Z"
   },
   {
    "duration": 25,
    "start_time": "2022-04-18T20:12:15.005Z"
   },
   {
    "duration": 35,
    "start_time": "2022-04-18T20:12:23.781Z"
   },
   {
    "duration": 201,
    "start_time": "2022-04-18T20:13:06.027Z"
   },
   {
    "duration": 3,
    "start_time": "2022-04-18T20:13:11.273Z"
   },
   {
    "duration": 2,
    "start_time": "2022-04-18T20:13:11.280Z"
   },
   {
    "duration": 2,
    "start_time": "2022-04-18T20:13:11.293Z"
   },
   {
    "duration": 27,
    "start_time": "2022-04-18T20:13:11.302Z"
   },
   {
    "duration": 10,
    "start_time": "2022-04-18T20:13:11.331Z"
   },
   {
    "duration": 9,
    "start_time": "2022-04-18T20:13:11.342Z"
   },
   {
    "duration": 29,
    "start_time": "2022-04-18T20:13:11.353Z"
   },
   {
    "duration": 13,
    "start_time": "2022-04-18T20:13:11.383Z"
   },
   {
    "duration": 109,
    "start_time": "2022-04-18T20:13:11.398Z"
   },
   {
    "duration": 14,
    "start_time": "2022-04-18T20:13:11.509Z"
   },
   {
    "duration": 63,
    "start_time": "2022-04-18T20:13:11.525Z"
   },
   {
    "duration": 131,
    "start_time": "2022-04-18T20:13:11.590Z"
   },
   {
    "duration": 143,
    "start_time": "2022-04-18T20:13:11.723Z"
   },
   {
    "duration": 21,
    "start_time": "2022-04-18T20:13:11.868Z"
   },
   {
    "duration": 76,
    "start_time": "2022-04-18T20:13:11.892Z"
   },
   {
    "duration": 150,
    "start_time": "2022-04-18T20:13:11.970Z"
   },
   {
    "duration": 38,
    "start_time": "2022-04-18T20:13:12.121Z"
   },
   {
    "duration": 106,
    "start_time": "2022-04-18T20:13:12.161Z"
   },
   {
    "duration": 3,
    "start_time": "2022-04-18T20:13:12.270Z"
   },
   {
    "duration": 10,
    "start_time": "2022-04-18T20:13:12.274Z"
   },
   {
    "duration": 7,
    "start_time": "2022-04-18T20:13:12.285Z"
   },
   {
    "duration": 11,
    "start_time": "2022-04-18T20:13:12.294Z"
   },
   {
    "duration": 5,
    "start_time": "2022-04-18T20:13:12.306Z"
   },
   {
    "duration": 6,
    "start_time": "2022-04-18T20:13:12.312Z"
   },
   {
    "duration": 31,
    "start_time": "2022-04-18T20:13:12.321Z"
   },
   {
    "duration": 14,
    "start_time": "2022-04-18T20:13:12.354Z"
   },
   {
    "duration": 6,
    "start_time": "2022-04-18T20:13:12.370Z"
   },
   {
    "duration": 7,
    "start_time": "2022-04-18T20:13:12.378Z"
   },
   {
    "duration": 10,
    "start_time": "2022-04-18T20:13:12.387Z"
   },
   {
    "duration": 4,
    "start_time": "2022-04-18T20:13:12.399Z"
   },
   {
    "duration": 14,
    "start_time": "2022-04-18T20:13:12.404Z"
   },
   {
    "duration": 18,
    "start_time": "2022-04-18T20:13:12.452Z"
   },
   {
    "duration": 24,
    "start_time": "2022-04-18T20:13:12.472Z"
   },
   {
    "duration": 8,
    "start_time": "2022-04-18T20:13:12.498Z"
   },
   {
    "duration": 5,
    "start_time": "2022-04-18T20:13:12.507Z"
   },
   {
    "duration": 38,
    "start_time": "2022-04-18T20:13:12.513Z"
   },
   {
    "duration": 27,
    "start_time": "2022-04-18T20:13:12.554Z"
   },
   {
    "duration": 15,
    "start_time": "2022-04-18T20:13:12.583Z"
   },
   {
    "duration": 8,
    "start_time": "2022-04-18T20:13:12.600Z"
   },
   {
    "duration": 64,
    "start_time": "2022-04-18T20:13:12.610Z"
   },
   {
    "duration": 14,
    "start_time": "2022-04-18T20:13:12.676Z"
   },
   {
    "duration": 19,
    "start_time": "2022-04-18T20:13:12.692Z"
   },
   {
    "duration": 44,
    "start_time": "2022-04-18T20:13:12.713Z"
   },
   {
    "duration": 20,
    "start_time": "2022-04-18T20:13:12.759Z"
   },
   {
    "duration": 9,
    "start_time": "2022-04-18T20:13:12.781Z"
   },
   {
    "duration": 6,
    "start_time": "2022-04-18T20:13:12.796Z"
   },
   {
    "duration": 68,
    "start_time": "2022-04-18T20:13:12.804Z"
   },
   {
    "duration": 5,
    "start_time": "2022-04-18T20:13:12.873Z"
   },
   {
    "duration": 22,
    "start_time": "2022-04-18T20:13:12.879Z"
   },
   {
    "duration": 7,
    "start_time": "2022-04-18T20:13:12.903Z"
   },
   {
    "duration": 97,
    "start_time": "2022-04-18T20:13:12.912Z"
   },
   {
    "duration": 12,
    "start_time": "2022-04-18T20:13:13.011Z"
   },
   {
    "duration": 30,
    "start_time": "2022-04-18T20:13:13.025Z"
   },
   {
    "duration": 15,
    "start_time": "2022-04-18T20:13:13.057Z"
   },
   {
    "duration": 4,
    "start_time": "2022-04-18T20:13:13.074Z"
   },
   {
    "duration": 33,
    "start_time": "2022-04-18T20:13:13.080Z"
   },
   {
    "duration": 33,
    "start_time": "2022-04-18T20:13:13.115Z"
   },
   {
    "duration": 26,
    "start_time": "2022-04-18T20:13:13.150Z"
   },
   {
    "duration": 7,
    "start_time": "2022-04-18T20:13:13.178Z"
   },
   {
    "duration": 25,
    "start_time": "2022-04-18T20:13:13.187Z"
   },
   {
    "duration": 9,
    "start_time": "2022-04-18T20:13:13.214Z"
   },
   {
    "duration": 40,
    "start_time": "2022-04-18T20:13:13.224Z"
   },
   {
    "duration": 97,
    "start_time": "2022-04-18T20:13:13.265Z"
   },
   {
    "duration": 8,
    "start_time": "2022-04-18T20:13:13.364Z"
   },
   {
    "duration": 6,
    "start_time": "2022-04-18T20:13:13.373Z"
   },
   {
    "duration": 12,
    "start_time": "2022-04-18T20:13:13.380Z"
   },
   {
    "duration": 17,
    "start_time": "2022-04-18T20:13:13.394Z"
   },
   {
    "duration": 64,
    "start_time": "2022-04-18T20:13:13.412Z"
   },
   {
    "duration": 9,
    "start_time": "2022-04-18T20:13:13.477Z"
   },
   {
    "duration": 8,
    "start_time": "2022-04-18T20:13:13.487Z"
   },
   {
    "duration": 13,
    "start_time": "2022-04-18T20:13:13.497Z"
   },
   {
    "duration": 20,
    "start_time": "2022-04-18T20:13:13.512Z"
   },
   {
    "duration": 54,
    "start_time": "2022-04-18T20:13:13.533Z"
   },
   {
    "duration": 8,
    "start_time": "2022-04-18T20:13:13.589Z"
   },
   {
    "duration": 5,
    "start_time": "2022-04-18T20:13:13.599Z"
   },
   {
    "duration": 10,
    "start_time": "2022-04-18T20:13:13.606Z"
   },
   {
    "duration": 58,
    "start_time": "2022-04-18T20:13:13.618Z"
   },
   {
    "duration": 11,
    "start_time": "2022-04-18T20:13:13.678Z"
   },
   {
    "duration": 4,
    "start_time": "2022-04-18T20:13:13.691Z"
   },
   {
    "duration": 12,
    "start_time": "2022-04-18T20:13:13.697Z"
   },
   {
    "duration": 3,
    "start_time": "2022-04-18T20:13:13.711Z"
   },
   {
    "duration": 33,
    "start_time": "2022-04-18T20:13:13.716Z"
   },
   {
    "duration": 18,
    "start_time": "2022-04-18T20:13:13.751Z"
   },
   {
    "duration": 4,
    "start_time": "2022-04-18T20:13:13.771Z"
   },
   {
    "duration": 7,
    "start_time": "2022-04-18T20:13:13.776Z"
   },
   {
    "duration": 6,
    "start_time": "2022-04-18T20:13:13.784Z"
   },
   {
    "duration": 6,
    "start_time": "2022-04-18T20:13:13.792Z"
   },
   {
    "duration": 9,
    "start_time": "2022-04-18T20:13:13.799Z"
   },
   {
    "duration": 7,
    "start_time": "2022-04-18T20:13:13.809Z"
   },
   {
    "duration": 5,
    "start_time": "2022-04-18T20:13:13.817Z"
   },
   {
    "duration": 6,
    "start_time": "2022-04-18T20:13:13.848Z"
   },
   {
    "duration": 18,
    "start_time": "2022-04-18T20:13:13.856Z"
   },
   {
    "duration": 6,
    "start_time": "2022-04-18T20:13:13.876Z"
   },
   {
    "duration": 6,
    "start_time": "2022-04-18T20:13:13.883Z"
   },
   {
    "duration": 6,
    "start_time": "2022-04-18T20:13:13.890Z"
   },
   {
    "duration": 13,
    "start_time": "2022-04-18T20:13:13.897Z"
   },
   {
    "duration": 5,
    "start_time": "2022-04-18T20:13:13.912Z"
   },
   {
    "duration": 29,
    "start_time": "2022-04-18T20:13:13.919Z"
   },
   {
    "duration": 16,
    "start_time": "2022-04-18T20:13:13.950Z"
   },
   {
    "duration": 9,
    "start_time": "2022-04-18T20:13:13.967Z"
   },
   {
    "duration": 14,
    "start_time": "2022-04-18T20:13:13.977Z"
   },
   {
    "duration": 5,
    "start_time": "2022-04-18T20:13:13.993Z"
   },
   {
    "duration": 15,
    "start_time": "2022-04-18T20:13:13.999Z"
   },
   {
    "duration": 6,
    "start_time": "2022-04-18T20:13:14.016Z"
   },
   {
    "duration": 25,
    "start_time": "2022-04-18T20:13:14.024Z"
   },
   {
    "duration": 17,
    "start_time": "2022-04-18T20:13:14.051Z"
   },
   {
    "duration": 6,
    "start_time": "2022-04-18T20:13:14.070Z"
   },
   {
    "duration": 6,
    "start_time": "2022-04-18T20:13:14.078Z"
   },
   {
    "duration": 11,
    "start_time": "2022-04-18T20:13:14.092Z"
   },
   {
    "duration": 6,
    "start_time": "2022-04-18T20:13:14.105Z"
   },
   {
    "duration": 5,
    "start_time": "2022-04-18T20:13:14.113Z"
   },
   {
    "duration": 29,
    "start_time": "2022-04-18T20:13:14.120Z"
   },
   {
    "duration": 16,
    "start_time": "2022-04-18T20:13:14.151Z"
   },
   {
    "duration": 6,
    "start_time": "2022-04-18T20:13:14.169Z"
   },
   {
    "duration": 5,
    "start_time": "2022-04-18T20:13:14.177Z"
   },
   {
    "duration": 5,
    "start_time": "2022-04-18T20:13:14.183Z"
   },
   {
    "duration": 5,
    "start_time": "2022-04-18T20:13:14.190Z"
   },
   {
    "duration": 14,
    "start_time": "2022-04-18T20:13:14.196Z"
   },
   {
    "duration": 16,
    "start_time": "2022-04-18T20:13:14.247Z"
   },
   {
    "duration": 14,
    "start_time": "2022-04-18T20:13:14.265Z"
   },
   {
    "duration": 9,
    "start_time": "2022-04-18T20:13:14.281Z"
   },
   {
    "duration": 20,
    "start_time": "2022-04-18T20:13:14.292Z"
   },
   {
    "duration": 68,
    "start_time": "2022-04-18T20:13:14.313Z"
   },
   {
    "duration": 158,
    "start_time": "2022-04-18T20:13:14.382Z"
   },
   {
    "duration": 110,
    "start_time": "2022-04-18T20:13:14.541Z"
   },
   {
    "duration": 5,
    "start_time": "2022-04-18T20:13:14.653Z"
   },
   {
    "duration": 16,
    "start_time": "2022-04-18T20:13:14.659Z"
   },
   {
    "duration": 7,
    "start_time": "2022-04-18T20:13:14.676Z"
   },
   {
    "duration": 5,
    "start_time": "2022-04-18T20:13:14.684Z"
   },
   {
    "duration": 4,
    "start_time": "2022-04-18T20:13:14.690Z"
   },
   {
    "duration": 173,
    "start_time": "2022-04-18T20:13:14.696Z"
   },
   {
    "duration": 102,
    "start_time": "2022-04-18T20:13:14.872Z"
   },
   {
    "duration": 4,
    "start_time": "2022-04-18T20:13:14.975Z"
   },
   {
    "duration": 5,
    "start_time": "2022-04-18T20:13:14.981Z"
   },
   {
    "duration": 6,
    "start_time": "2022-04-18T20:13:14.988Z"
   },
   {
    "duration": 5,
    "start_time": "2022-04-18T20:13:14.995Z"
   },
   {
    "duration": 171,
    "start_time": "2022-04-18T20:13:15.002Z"
   },
   {
    "duration": 190,
    "start_time": "2022-04-18T20:13:15.175Z"
   },
   {
    "duration": 4,
    "start_time": "2022-04-18T20:13:15.367Z"
   },
   {
    "duration": 6,
    "start_time": "2022-04-18T20:13:15.373Z"
   },
   {
    "duration": 5,
    "start_time": "2022-04-18T20:13:15.380Z"
   },
   {
    "duration": 6,
    "start_time": "2022-04-18T20:13:15.386Z"
   },
   {
    "duration": 4,
    "start_time": "2022-04-18T20:13:15.394Z"
   },
   {
    "duration": 54,
    "start_time": "2022-04-18T20:13:15.400Z"
   },
   {
    "duration": 44,
    "start_time": "2022-04-18T20:13:15.456Z"
   },
   {
    "duration": 132,
    "start_time": "2022-04-18T20:13:43.770Z"
   },
   {
    "duration": 4,
    "start_time": "2022-04-18T20:17:32.600Z"
   },
   {
    "duration": 4,
    "start_time": "2022-04-18T20:17:33.331Z"
   },
   {
    "duration": 3,
    "start_time": "2022-04-18T20:17:33.885Z"
   },
   {
    "duration": 4,
    "start_time": "2022-04-18T20:17:50.106Z"
   },
   {
    "duration": 4,
    "start_time": "2022-04-18T20:17:51.127Z"
   },
   {
    "duration": 147,
    "start_time": "2022-04-18T20:17:52.850Z"
   },
   {
    "duration": 102,
    "start_time": "2022-04-18T20:18:55.000Z"
   },
   {
    "duration": 4,
    "start_time": "2022-04-18T20:18:56.695Z"
   },
   {
    "duration": 5,
    "start_time": "2022-04-18T20:18:57.215Z"
   },
   {
    "duration": 4,
    "start_time": "2022-04-18T20:18:57.759Z"
   },
   {
    "duration": 150,
    "start_time": "2022-04-18T20:19:13.017Z"
   },
   {
    "duration": 103,
    "start_time": "2022-04-18T20:19:51.268Z"
   },
   {
    "duration": 5,
    "start_time": "2022-04-18T20:19:52.917Z"
   },
   {
    "duration": 4,
    "start_time": "2022-04-18T20:19:53.402Z"
   },
   {
    "duration": 4,
    "start_time": "2022-04-18T20:19:53.980Z"
   },
   {
    "duration": 3,
    "start_time": "2022-04-18T20:19:57.766Z"
   },
   {
    "duration": 4,
    "start_time": "2022-04-18T20:20:01.402Z"
   },
   {
    "duration": 3,
    "start_time": "2022-04-18T20:24:16.269Z"
   },
   {
    "duration": 4,
    "start_time": "2022-04-18T20:47:49.426Z"
   },
   {
    "duration": 8,
    "start_time": "2022-04-18T20:48:47.893Z"
   },
   {
    "duration": 14,
    "start_time": "2022-04-18T20:49:03.449Z"
   },
   {
    "duration": 14,
    "start_time": "2022-04-18T20:51:04.027Z"
   },
   {
    "duration": 144,
    "start_time": "2022-04-18T21:09:54.298Z"
   },
   {
    "duration": 152,
    "start_time": "2022-04-18T21:11:43.562Z"
   },
   {
    "duration": 199,
    "start_time": "2022-04-18T21:12:58.374Z"
   },
   {
    "duration": 193,
    "start_time": "2022-04-18T21:13:19.878Z"
   },
   {
    "duration": 261,
    "start_time": "2022-04-18T21:14:53.322Z"
   },
   {
    "duration": 187,
    "start_time": "2022-04-18T21:15:15.036Z"
   },
   {
    "duration": 160,
    "start_time": "2022-04-18T21:16:47.709Z"
   },
   {
    "duration": 175,
    "start_time": "2022-04-18T21:17:04.440Z"
   },
   {
    "duration": 162,
    "start_time": "2022-04-18T21:17:45.322Z"
   },
   {
    "duration": 428,
    "start_time": "2022-04-18T21:18:09.846Z"
   },
   {
    "duration": 2,
    "start_time": "2022-04-18T21:18:10.276Z"
   },
   {
    "duration": 243,
    "start_time": "2022-04-18T21:18:10.279Z"
   },
   {
    "duration": 31,
    "start_time": "2022-04-18T21:18:10.524Z"
   },
   {
    "duration": 15,
    "start_time": "2022-04-18T21:18:10.557Z"
   },
   {
    "duration": 7,
    "start_time": "2022-04-18T21:18:10.574Z"
   },
   {
    "duration": 15,
    "start_time": "2022-04-18T21:18:10.582Z"
   },
   {
    "duration": 10,
    "start_time": "2022-04-18T21:18:10.598Z"
   },
   {
    "duration": 139,
    "start_time": "2022-04-18T21:18:10.609Z"
   },
   {
    "duration": 16,
    "start_time": "2022-04-18T21:18:10.752Z"
   },
   {
    "duration": 46,
    "start_time": "2022-04-18T21:18:10.771Z"
   },
   {
    "duration": 172,
    "start_time": "2022-04-18T21:18:10.818Z"
   },
   {
    "duration": 157,
    "start_time": "2022-04-18T21:18:10.991Z"
   },
   {
    "duration": 26,
    "start_time": "2022-04-18T21:18:11.150Z"
   },
   {
    "duration": 92,
    "start_time": "2022-04-18T21:18:11.178Z"
   },
   {
    "duration": 156,
    "start_time": "2022-04-18T21:18:11.271Z"
   },
   {
    "duration": 49,
    "start_time": "2022-04-18T21:18:11.428Z"
   },
   {
    "duration": 120,
    "start_time": "2022-04-18T21:18:11.479Z"
   },
   {
    "duration": 3,
    "start_time": "2022-04-18T21:18:11.601Z"
   },
   {
    "duration": 6,
    "start_time": "2022-04-18T21:18:11.606Z"
   },
   {
    "duration": 7,
    "start_time": "2022-04-18T21:18:11.613Z"
   },
   {
    "duration": 37,
    "start_time": "2022-04-18T21:18:11.621Z"
   },
   {
    "duration": 10,
    "start_time": "2022-04-18T21:18:11.660Z"
   },
   {
    "duration": 5,
    "start_time": "2022-04-18T21:18:11.671Z"
   },
   {
    "duration": 7,
    "start_time": "2022-04-18T21:18:11.677Z"
   },
   {
    "duration": 7,
    "start_time": "2022-04-18T21:18:11.685Z"
   },
   {
    "duration": 6,
    "start_time": "2022-04-18T21:18:11.694Z"
   },
   {
    "duration": 5,
    "start_time": "2022-04-18T21:18:11.704Z"
   },
   {
    "duration": 43,
    "start_time": "2022-04-18T21:18:11.711Z"
   },
   {
    "duration": 11,
    "start_time": "2022-04-18T21:18:11.756Z"
   },
   {
    "duration": 14,
    "start_time": "2022-04-18T21:18:11.769Z"
   },
   {
    "duration": 15,
    "start_time": "2022-04-18T21:18:11.785Z"
   },
   {
    "duration": 62,
    "start_time": "2022-04-18T21:18:11.802Z"
   },
   {
    "duration": 10,
    "start_time": "2022-04-18T21:18:11.866Z"
   },
   {
    "duration": 6,
    "start_time": "2022-04-18T21:18:11.878Z"
   },
   {
    "duration": 7,
    "start_time": "2022-04-18T21:18:11.886Z"
   },
   {
    "duration": 67,
    "start_time": "2022-04-18T21:18:11.894Z"
   },
   {
    "duration": 17,
    "start_time": "2022-04-18T21:18:11.962Z"
   },
   {
    "duration": 7,
    "start_time": "2022-04-18T21:18:11.980Z"
   },
   {
    "duration": 22,
    "start_time": "2022-04-18T21:18:11.989Z"
   },
   {
    "duration": 46,
    "start_time": "2022-04-18T21:18:12.013Z"
   },
   {
    "duration": 19,
    "start_time": "2022-04-18T21:18:12.061Z"
   },
   {
    "duration": 7,
    "start_time": "2022-04-18T21:18:12.081Z"
   },
   {
    "duration": 15,
    "start_time": "2022-04-18T21:18:12.089Z"
   },
   {
    "duration": 8,
    "start_time": "2022-04-18T21:18:12.105Z"
   },
   {
    "duration": 39,
    "start_time": "2022-04-18T21:18:12.115Z"
   },
   {
    "duration": 36,
    "start_time": "2022-04-18T21:18:12.156Z"
   },
   {
    "duration": 4,
    "start_time": "2022-04-18T21:18:12.194Z"
   },
   {
    "duration": 18,
    "start_time": "2022-04-18T21:18:12.199Z"
   },
   {
    "duration": 7,
    "start_time": "2022-04-18T21:18:12.219Z"
   },
   {
    "duration": 93,
    "start_time": "2022-04-18T21:18:12.227Z"
   },
   {
    "duration": 36,
    "start_time": "2022-04-18T21:18:12.322Z"
   },
   {
    "duration": 5,
    "start_time": "2022-04-18T21:18:12.360Z"
   },
   {
    "duration": 10,
    "start_time": "2022-04-18T21:18:12.367Z"
   },
   {
    "duration": 4,
    "start_time": "2022-04-18T21:18:12.378Z"
   },
   {
    "duration": 33,
    "start_time": "2022-04-18T21:18:12.383Z"
   },
   {
    "duration": 32,
    "start_time": "2022-04-18T21:18:12.418Z"
   },
   {
    "duration": 20,
    "start_time": "2022-04-18T21:18:12.452Z"
   },
   {
    "duration": 8,
    "start_time": "2022-04-18T21:18:12.474Z"
   },
   {
    "duration": 25,
    "start_time": "2022-04-18T21:18:12.484Z"
   },
   {
    "duration": 9,
    "start_time": "2022-04-18T21:18:12.510Z"
   },
   {
    "duration": 25,
    "start_time": "2022-04-18T21:18:12.548Z"
   },
   {
    "duration": 115,
    "start_time": "2022-04-18T21:18:12.575Z"
   },
   {
    "duration": 9,
    "start_time": "2022-04-18T21:18:12.691Z"
   },
   {
    "duration": 5,
    "start_time": "2022-04-18T21:18:12.701Z"
   },
   {
    "duration": 11,
    "start_time": "2022-04-18T21:18:12.708Z"
   },
   {
    "duration": 37,
    "start_time": "2022-04-18T21:18:12.720Z"
   },
   {
    "duration": 37,
    "start_time": "2022-04-18T21:18:12.759Z"
   },
   {
    "duration": 8,
    "start_time": "2022-04-18T21:18:12.797Z"
   },
   {
    "duration": 6,
    "start_time": "2022-04-18T21:18:12.806Z"
   },
   {
    "duration": 11,
    "start_time": "2022-04-18T21:18:12.814Z"
   },
   {
    "duration": 43,
    "start_time": "2022-04-18T21:18:12.826Z"
   },
   {
    "duration": 40,
    "start_time": "2022-04-18T21:18:12.872Z"
   },
   {
    "duration": 9,
    "start_time": "2022-04-18T21:18:12.914Z"
   },
   {
    "duration": 7,
    "start_time": "2022-04-18T21:18:12.949Z"
   },
   {
    "duration": 24,
    "start_time": "2022-04-18T21:18:12.958Z"
   },
   {
    "duration": 94,
    "start_time": "2022-04-18T21:18:12.983Z"
   },
   {
    "duration": 10,
    "start_time": "2022-04-18T21:18:13.079Z"
   },
   {
    "duration": 5,
    "start_time": "2022-04-18T21:18:13.091Z"
   },
   {
    "duration": 10,
    "start_time": "2022-04-18T21:18:13.097Z"
   },
   {
    "duration": 3,
    "start_time": "2022-04-18T21:18:13.109Z"
   },
   {
    "duration": 30,
    "start_time": "2022-04-18T21:18:13.119Z"
   },
   {
    "duration": 9,
    "start_time": "2022-04-18T21:18:13.151Z"
   },
   {
    "duration": 7,
    "start_time": "2022-04-18T21:18:13.162Z"
   },
   {
    "duration": 6,
    "start_time": "2022-04-18T21:18:13.170Z"
   },
   {
    "duration": 6,
    "start_time": "2022-04-18T21:18:13.178Z"
   },
   {
    "duration": 6,
    "start_time": "2022-04-18T21:18:13.185Z"
   },
   {
    "duration": 6,
    "start_time": "2022-04-18T21:18:13.193Z"
   },
   {
    "duration": 4,
    "start_time": "2022-04-18T21:18:13.200Z"
   },
   {
    "duration": 49,
    "start_time": "2022-04-18T21:18:13.205Z"
   },
   {
    "duration": 10,
    "start_time": "2022-04-18T21:18:13.258Z"
   },
   {
    "duration": 12,
    "start_time": "2022-04-18T21:18:13.270Z"
   },
   {
    "duration": 5,
    "start_time": "2022-04-18T21:18:13.283Z"
   },
   {
    "duration": 9,
    "start_time": "2022-04-18T21:18:13.290Z"
   },
   {
    "duration": 5,
    "start_time": "2022-04-18T21:18:13.301Z"
   },
   {
    "duration": 12,
    "start_time": "2022-04-18T21:18:13.307Z"
   },
   {
    "duration": 6,
    "start_time": "2022-04-18T21:18:13.320Z"
   },
   {
    "duration": 20,
    "start_time": "2022-04-18T21:18:13.328Z"
   },
   {
    "duration": 5,
    "start_time": "2022-04-18T21:18:13.349Z"
   },
   {
    "duration": 13,
    "start_time": "2022-04-18T21:18:13.356Z"
   },
   {
    "duration": 15,
    "start_time": "2022-04-18T21:18:13.371Z"
   },
   {
    "duration": 9,
    "start_time": "2022-04-18T21:18:13.388Z"
   },
   {
    "duration": 14,
    "start_time": "2022-04-18T21:18:13.398Z"
   },
   {
    "duration": 8,
    "start_time": "2022-04-18T21:18:13.413Z"
   },
   {
    "duration": 10,
    "start_time": "2022-04-18T21:18:13.422Z"
   },
   {
    "duration": 15,
    "start_time": "2022-04-18T21:18:13.433Z"
   },
   {
    "duration": 16,
    "start_time": "2022-04-18T21:18:13.450Z"
   },
   {
    "duration": 7,
    "start_time": "2022-04-18T21:18:13.468Z"
   },
   {
    "duration": 12,
    "start_time": "2022-04-18T21:18:13.477Z"
   },
   {
    "duration": 12,
    "start_time": "2022-04-18T21:18:13.491Z"
   },
   {
    "duration": 7,
    "start_time": "2022-04-18T21:18:13.504Z"
   },
   {
    "duration": 11,
    "start_time": "2022-04-18T21:18:13.512Z"
   },
   {
    "duration": 13,
    "start_time": "2022-04-18T21:18:13.525Z"
   },
   {
    "duration": 13,
    "start_time": "2022-04-18T21:18:13.539Z"
   },
   {
    "duration": 13,
    "start_time": "2022-04-18T21:18:13.554Z"
   },
   {
    "duration": 6,
    "start_time": "2022-04-18T21:18:13.568Z"
   },
   {
    "duration": 6,
    "start_time": "2022-04-18T21:18:13.576Z"
   },
   {
    "duration": 16,
    "start_time": "2022-04-18T21:18:13.584Z"
   },
   {
    "duration": 5,
    "start_time": "2022-04-18T21:18:13.602Z"
   },
   {
    "duration": 13,
    "start_time": "2022-04-18T21:18:13.609Z"
   },
   {
    "duration": 27,
    "start_time": "2022-04-18T21:18:13.624Z"
   },
   {
    "duration": 26,
    "start_time": "2022-04-18T21:18:13.654Z"
   },
   {
    "duration": 36,
    "start_time": "2022-04-18T21:18:13.681Z"
   },
   {
    "duration": 174,
    "start_time": "2022-04-18T21:18:13.718Z"
   },
   {
    "duration": 110,
    "start_time": "2022-04-18T21:18:13.894Z"
   },
   {
    "duration": 5,
    "start_time": "2022-04-18T21:18:14.005Z"
   },
   {
    "duration": 6,
    "start_time": "2022-04-18T21:18:14.012Z"
   },
   {
    "duration": 6,
    "start_time": "2022-04-18T21:18:14.019Z"
   },
   {
    "duration": 22,
    "start_time": "2022-04-18T21:18:14.026Z"
   },
   {
    "duration": 16,
    "start_time": "2022-04-18T21:18:14.050Z"
   },
   {
    "duration": 155,
    "start_time": "2022-04-18T21:18:14.068Z"
   },
   {
    "duration": 96,
    "start_time": "2022-04-18T21:18:14.225Z"
   },
   {
    "duration": 5,
    "start_time": "2022-04-18T21:18:14.322Z"
   },
   {
    "duration": 21,
    "start_time": "2022-04-18T21:18:14.328Z"
   },
   {
    "duration": 16,
    "start_time": "2022-04-18T21:18:14.352Z"
   },
   {
    "duration": 6,
    "start_time": "2022-04-18T21:18:14.369Z"
   },
   {
    "duration": 139,
    "start_time": "2022-04-18T21:18:14.376Z"
   },
   {
    "duration": 105,
    "start_time": "2022-04-18T21:18:14.517Z"
   },
   {
    "duration": 5,
    "start_time": "2022-04-18T21:18:14.623Z"
   },
   {
    "duration": 20,
    "start_time": "2022-04-18T21:18:14.629Z"
   },
   {
    "duration": 5,
    "start_time": "2022-04-18T21:18:14.651Z"
   },
   {
    "duration": 10,
    "start_time": "2022-04-18T21:18:14.658Z"
   },
   {
    "duration": 4,
    "start_time": "2022-04-18T21:18:14.670Z"
   },
   {
    "duration": 23,
    "start_time": "2022-04-18T21:18:14.676Z"
   },
   {
    "duration": 78,
    "start_time": "2022-04-18T21:18:14.701Z"
   },
   {
    "duration": 161,
    "start_time": "2022-04-18T21:18:14.780Z"
   },
   {
    "duration": 120,
    "start_time": "2022-04-18T21:18:14.943Z"
   },
   {
    "duration": 5,
    "start_time": "2022-04-18T21:18:15.064Z"
   },
   {
    "duration": 11,
    "start_time": "2022-04-18T21:18:15.071Z"
   },
   {
    "duration": 5,
    "start_time": "2022-04-18T21:18:15.084Z"
   },
   {
    "duration": 5,
    "start_time": "2022-04-18T21:18:15.090Z"
   },
   {
    "duration": 4,
    "start_time": "2022-04-18T21:18:15.097Z"
   },
   {
    "duration": 184,
    "start_time": "2022-04-18T21:18:15.103Z"
   },
   {
    "duration": 113,
    "start_time": "2022-04-18T21:18:15.289Z"
   },
   {
    "duration": 4,
    "start_time": "2022-04-18T21:18:15.404Z"
   },
   {
    "duration": 6,
    "start_time": "2022-04-18T21:18:15.409Z"
   },
   {
    "duration": 5,
    "start_time": "2022-04-18T21:18:15.416Z"
   },
   {
    "duration": 4,
    "start_time": "2022-04-18T21:18:15.423Z"
   },
   {
    "duration": 240,
    "start_time": "2022-04-18T21:18:15.428Z"
   },
   {
    "duration": 120,
    "start_time": "2022-04-18T21:18:15.670Z"
   },
   {
    "duration": 5,
    "start_time": "2022-04-18T21:18:15.791Z"
   },
   {
    "duration": 5,
    "start_time": "2022-04-18T21:18:15.798Z"
   },
   {
    "duration": 3,
    "start_time": "2022-04-18T21:18:15.805Z"
   },
   {
    "duration": 5,
    "start_time": "2022-04-18T21:18:15.810Z"
   },
   {
    "duration": 33,
    "start_time": "2022-04-18T21:18:15.816Z"
   },
   {
    "duration": 22,
    "start_time": "2022-04-18T21:18:15.851Z"
   },
   {
    "duration": 12,
    "start_time": "2022-04-18T21:18:15.875Z"
   },
   {
    "duration": 189,
    "start_time": "2022-04-18T21:18:15.894Z"
   },
   {
    "duration": 202,
    "start_time": "2022-04-18T21:18:16.084Z"
   },
   {
    "duration": 169,
    "start_time": "2022-04-18T21:18:16.287Z"
   },
   {
    "duration": 170,
    "start_time": "2022-04-18T21:18:16.458Z"
   },
   {
    "duration": 19,
    "start_time": "2022-04-18T21:18:16.630Z"
   },
   {
    "duration": 21,
    "start_time": "2022-04-18T21:18:16.651Z"
   },
   {
    "duration": 454,
    "start_time": "2022-04-18T21:18:16.674Z"
   },
   {
    "duration": 4,
    "start_time": "2022-04-18T21:18:17.130Z"
   },
   {
    "duration": 11,
    "start_time": "2022-04-18T21:18:17.136Z"
   },
   {
    "duration": 20,
    "start_time": "2022-04-18T21:18:17.149Z"
   },
   {
    "duration": 4,
    "start_time": "2022-04-18T21:18:17.171Z"
   },
   {
    "duration": 17,
    "start_time": "2022-04-18T21:18:17.177Z"
   },
   {
    "duration": 12,
    "start_time": "2022-04-18T21:18:17.196Z"
   },
   {
    "duration": 15,
    "start_time": "2022-04-18T21:18:17.209Z"
   },
   {
    "duration": 8,
    "start_time": "2022-04-18T21:18:17.226Z"
   },
   {
    "duration": 25,
    "start_time": "2022-04-18T21:18:17.249Z"
   },
   {
    "duration": 8,
    "start_time": "2022-04-18T21:18:17.275Z"
   },
   {
    "duration": 7,
    "start_time": "2022-04-18T21:18:17.284Z"
   },
   {
    "duration": 6,
    "start_time": "2022-04-18T21:18:17.292Z"
   }
  ],
  "kernelspec": {
   "display_name": "Python 3 (ipykernel)",
   "language": "python",
   "name": "python3"
  },
  "language_info": {
   "codemirror_mode": {
    "name": "ipython",
    "version": 3
   },
   "file_extension": ".py",
   "mimetype": "text/x-python",
   "name": "python",
   "nbconvert_exporter": "python",
   "pygments_lexer": "ipython3",
   "version": "3.9.5"
  },
  "toc": {
   "base_numbering": 1,
   "nav_menu": {},
   "number_sections": true,
   "sideBar": true,
   "skip_h1_title": true,
   "title_cell": "Table of Contents",
   "title_sidebar": "Contents",
   "toc_cell": false,
   "toc_position": {
    "height": "calc(100% - 180px)",
    "left": "10px",
    "top": "150px",
    "width": "165px"
   },
   "toc_section_display": true,
   "toc_window_display": false
  }
 },
 "nbformat": 4,
 "nbformat_minor": 2
}
