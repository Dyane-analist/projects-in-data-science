{
 "cells": [
  {
   "cell_type": "markdown",
   "metadata": {
    "toc": true
   },
   "source": [
    "<h1>Содержание<span class=\"tocSkip\"></span></h1>\n",
    "<div class=\"toc\"><ul class=\"toc-item\"><li><span><a href=\"#Подготовка-данных\" data-toc-modified-id=\"Подготовка-данных-1\"><span class=\"toc-item-num\">1&nbsp;&nbsp;</span>Подготовка данных</a></span></li><li><span><a href=\"#Исследование-задачи\" data-toc-modified-id=\"Исследование-задачи-2\"><span class=\"toc-item-num\">2&nbsp;&nbsp;</span>Исследование задачи</a></span></li><li><span><a href=\"#Борьба-с-дисбалансом\" data-toc-modified-id=\"Борьба-с-дисбалансом-3\"><span class=\"toc-item-num\">3&nbsp;&nbsp;</span>Борьба с дисбалансом</a></span></li><li><span><a href=\"#Тестирование-модели\" data-toc-modified-id=\"Тестирование-модели-4\"><span class=\"toc-item-num\">4&nbsp;&nbsp;</span>Тестирование модели</a></span></li><li><span><a href=\"#Общий-вывод\" data-toc-modified-id=\"Общий-вывод-5\"><span class=\"toc-item-num\">5&nbsp;&nbsp;</span>Общий вывод</a></span></li></ul></div>"
   ]
  },
  {
   "cell_type": "markdown",
   "metadata": {},
   "source": [
    "# Отток клиентов"
   ]
  },
  {
   "cell_type": "markdown",
   "metadata": {},
   "source": [
    "**Цель проекта**\n",
    "\n",
    "Проанализировать данные по поведению клиентов банка в связи с ростом ежемесячного оттока для прогнозирования ухода клиентов в ближайшее время. Результаты анализа будут использованы при разработке стратегии удержания действующих клиентов.\n",
    "\n",
    "Необходимо построить модель с предельно большим значением *F1*-меры (не менее 0.59), а также измерить метрику *AUC-ROC* и сравнить её значение с *F1*-мерой.\n",
    "\n",
    "**Данные для анализа**\n",
    "\n",
    "На анализ переданы исторические данные о поведении клиентов и расторжении договоров с банком.\n",
    "\n",
    "**Шаги (план) проекта**\n",
    "\n",
    "1.  Подготовка данных\n",
    "2.  Исследование задачи\n",
    "3.  Борьба с дисбалансом\n",
    "4.  Тестирование модели\n",
    "5.  Общий вывод"
   ]
  },
  {
   "cell_type": "markdown",
   "metadata": {},
   "source": [
    "## Подготовка данных"
   ]
  },
  {
   "cell_type": "markdown",
   "metadata": {},
   "source": [
    "Импортируем необходимые библиотеки для работы с данными в текущем проекте."
   ]
  },
  {
   "cell_type": "code",
   "execution_count": 1,
   "metadata": {},
   "outputs": [],
   "source": [
    "import pandas as pd # импорт библиотеки pandas\n",
    "import numpy as np # импорт библиотеки numpy\n",
    "from sklearn.preprocessing import StandardScaler # импорт структуры StandardScaler из библиотеки sklearn для стандартизации данных\n",
    "from sklearn.model_selection import train_test_split # импорт функции train_test_split из библиотеки sklearn для деления выборки\n",
    "from sklearn.tree import DecisionTreeClassifier # импорт алгоритма \"дерево решений\" из библиотеки sklearn\n",
    "from sklearn.ensemble import RandomForestClassifier # импорт алгоритма \"случайный лес\" из библиотеки sklearn\n",
    "from sklearn.linear_model import LogisticRegression # импорт алгоритма \"логистическая регрессия\" из библиотеки sklearn\n",
    "from sklearn.metrics import accuracy_score # импорт функции для расчета качества прогнозирования\n",
    "from sklearn.metrics import recall_score # импорт функции для расчета полноты прогнозирования\n",
    "from sklearn.metrics import precision_score # импорт функции для расчета точности прогнозирования\n",
    "from sklearn.metrics import f1_score # импорт функции для расчета f1_score\n",
    "from sklearn.metrics import roc_curve # импорт функции для построения ROC-кривой\n",
    "from sklearn.metrics import roc_auc_score # импорт функции для подсчёта метрики AUC\n",
    "import sklearn.metrics as metrics # импорт библиотеки metrics\n",
    "import matplotlib.pyplot as plt # импорт библиотеки matplotlib для построения диаграмм\n",
    "from sklearn.utils import shuffle # импорт функции перемешивания выборки"
   ]
  },
  {
   "cell_type": "markdown",
   "metadata": {},
   "source": [
    "Откроем таблицу с данными, выведем первые 10 строк."
   ]
  },
  {
   "cell_type": "code",
   "execution_count": 2,
   "metadata": {
    "scrolled": true
   },
   "outputs": [
    {
     "data": {
      "text/html": [
       "<div>\n",
       "<style scoped>\n",
       "    .dataframe tbody tr th:only-of-type {\n",
       "        vertical-align: middle;\n",
       "    }\n",
       "\n",
       "    .dataframe tbody tr th {\n",
       "        vertical-align: top;\n",
       "    }\n",
       "\n",
       "    .dataframe thead th {\n",
       "        text-align: right;\n",
       "    }\n",
       "</style>\n",
       "<table border=\"1\" class=\"dataframe\">\n",
       "  <thead>\n",
       "    <tr style=\"text-align: right;\">\n",
       "      <th></th>\n",
       "      <th>RowNumber</th>\n",
       "      <th>CustomerId</th>\n",
       "      <th>Surname</th>\n",
       "      <th>CreditScore</th>\n",
       "      <th>Geography</th>\n",
       "      <th>Gender</th>\n",
       "      <th>Age</th>\n",
       "      <th>Tenure</th>\n",
       "      <th>Balance</th>\n",
       "      <th>NumOfProducts</th>\n",
       "      <th>HasCrCard</th>\n",
       "      <th>IsActiveMember</th>\n",
       "      <th>EstimatedSalary</th>\n",
       "      <th>Exited</th>\n",
       "    </tr>\n",
       "  </thead>\n",
       "  <tbody>\n",
       "    <tr>\n",
       "      <th>0</th>\n",
       "      <td>1</td>\n",
       "      <td>15634602</td>\n",
       "      <td>Hargrave</td>\n",
       "      <td>619</td>\n",
       "      <td>France</td>\n",
       "      <td>Female</td>\n",
       "      <td>42</td>\n",
       "      <td>2.0</td>\n",
       "      <td>0.00</td>\n",
       "      <td>1</td>\n",
       "      <td>1</td>\n",
       "      <td>1</td>\n",
       "      <td>101348.88</td>\n",
       "      <td>1</td>\n",
       "    </tr>\n",
       "    <tr>\n",
       "      <th>1</th>\n",
       "      <td>2</td>\n",
       "      <td>15647311</td>\n",
       "      <td>Hill</td>\n",
       "      <td>608</td>\n",
       "      <td>Spain</td>\n",
       "      <td>Female</td>\n",
       "      <td>41</td>\n",
       "      <td>1.0</td>\n",
       "      <td>83807.86</td>\n",
       "      <td>1</td>\n",
       "      <td>0</td>\n",
       "      <td>1</td>\n",
       "      <td>112542.58</td>\n",
       "      <td>0</td>\n",
       "    </tr>\n",
       "    <tr>\n",
       "      <th>2</th>\n",
       "      <td>3</td>\n",
       "      <td>15619304</td>\n",
       "      <td>Onio</td>\n",
       "      <td>502</td>\n",
       "      <td>France</td>\n",
       "      <td>Female</td>\n",
       "      <td>42</td>\n",
       "      <td>8.0</td>\n",
       "      <td>159660.80</td>\n",
       "      <td>3</td>\n",
       "      <td>1</td>\n",
       "      <td>0</td>\n",
       "      <td>113931.57</td>\n",
       "      <td>1</td>\n",
       "    </tr>\n",
       "    <tr>\n",
       "      <th>3</th>\n",
       "      <td>4</td>\n",
       "      <td>15701354</td>\n",
       "      <td>Boni</td>\n",
       "      <td>699</td>\n",
       "      <td>France</td>\n",
       "      <td>Female</td>\n",
       "      <td>39</td>\n",
       "      <td>1.0</td>\n",
       "      <td>0.00</td>\n",
       "      <td>2</td>\n",
       "      <td>0</td>\n",
       "      <td>0</td>\n",
       "      <td>93826.63</td>\n",
       "      <td>0</td>\n",
       "    </tr>\n",
       "    <tr>\n",
       "      <th>4</th>\n",
       "      <td>5</td>\n",
       "      <td>15737888</td>\n",
       "      <td>Mitchell</td>\n",
       "      <td>850</td>\n",
       "      <td>Spain</td>\n",
       "      <td>Female</td>\n",
       "      <td>43</td>\n",
       "      <td>2.0</td>\n",
       "      <td>125510.82</td>\n",
       "      <td>1</td>\n",
       "      <td>1</td>\n",
       "      <td>1</td>\n",
       "      <td>79084.10</td>\n",
       "      <td>0</td>\n",
       "    </tr>\n",
       "    <tr>\n",
       "      <th>5</th>\n",
       "      <td>6</td>\n",
       "      <td>15574012</td>\n",
       "      <td>Chu</td>\n",
       "      <td>645</td>\n",
       "      <td>Spain</td>\n",
       "      <td>Male</td>\n",
       "      <td>44</td>\n",
       "      <td>8.0</td>\n",
       "      <td>113755.78</td>\n",
       "      <td>2</td>\n",
       "      <td>1</td>\n",
       "      <td>0</td>\n",
       "      <td>149756.71</td>\n",
       "      <td>1</td>\n",
       "    </tr>\n",
       "    <tr>\n",
       "      <th>6</th>\n",
       "      <td>7</td>\n",
       "      <td>15592531</td>\n",
       "      <td>Bartlett</td>\n",
       "      <td>822</td>\n",
       "      <td>France</td>\n",
       "      <td>Male</td>\n",
       "      <td>50</td>\n",
       "      <td>7.0</td>\n",
       "      <td>0.00</td>\n",
       "      <td>2</td>\n",
       "      <td>1</td>\n",
       "      <td>1</td>\n",
       "      <td>10062.80</td>\n",
       "      <td>0</td>\n",
       "    </tr>\n",
       "    <tr>\n",
       "      <th>7</th>\n",
       "      <td>8</td>\n",
       "      <td>15656148</td>\n",
       "      <td>Obinna</td>\n",
       "      <td>376</td>\n",
       "      <td>Germany</td>\n",
       "      <td>Female</td>\n",
       "      <td>29</td>\n",
       "      <td>4.0</td>\n",
       "      <td>115046.74</td>\n",
       "      <td>4</td>\n",
       "      <td>1</td>\n",
       "      <td>0</td>\n",
       "      <td>119346.88</td>\n",
       "      <td>1</td>\n",
       "    </tr>\n",
       "    <tr>\n",
       "      <th>8</th>\n",
       "      <td>9</td>\n",
       "      <td>15792365</td>\n",
       "      <td>He</td>\n",
       "      <td>501</td>\n",
       "      <td>France</td>\n",
       "      <td>Male</td>\n",
       "      <td>44</td>\n",
       "      <td>4.0</td>\n",
       "      <td>142051.07</td>\n",
       "      <td>2</td>\n",
       "      <td>0</td>\n",
       "      <td>1</td>\n",
       "      <td>74940.50</td>\n",
       "      <td>0</td>\n",
       "    </tr>\n",
       "    <tr>\n",
       "      <th>9</th>\n",
       "      <td>10</td>\n",
       "      <td>15592389</td>\n",
       "      <td>H?</td>\n",
       "      <td>684</td>\n",
       "      <td>France</td>\n",
       "      <td>Male</td>\n",
       "      <td>27</td>\n",
       "      <td>2.0</td>\n",
       "      <td>134603.88</td>\n",
       "      <td>1</td>\n",
       "      <td>1</td>\n",
       "      <td>1</td>\n",
       "      <td>71725.73</td>\n",
       "      <td>0</td>\n",
       "    </tr>\n",
       "  </tbody>\n",
       "</table>\n",
       "</div>"
      ],
      "text/plain": [
       "   RowNumber  CustomerId   Surname  CreditScore Geography  Gender  Age  \\\n",
       "0          1    15634602  Hargrave          619    France  Female   42   \n",
       "1          2    15647311      Hill          608     Spain  Female   41   \n",
       "2          3    15619304      Onio          502    France  Female   42   \n",
       "3          4    15701354      Boni          699    France  Female   39   \n",
       "4          5    15737888  Mitchell          850     Spain  Female   43   \n",
       "5          6    15574012       Chu          645     Spain    Male   44   \n",
       "6          7    15592531  Bartlett          822    France    Male   50   \n",
       "7          8    15656148    Obinna          376   Germany  Female   29   \n",
       "8          9    15792365        He          501    France    Male   44   \n",
       "9         10    15592389        H?          684    France    Male   27   \n",
       "\n",
       "   Tenure    Balance  NumOfProducts  HasCrCard  IsActiveMember  \\\n",
       "0     2.0       0.00              1          1               1   \n",
       "1     1.0   83807.86              1          0               1   \n",
       "2     8.0  159660.80              3          1               0   \n",
       "3     1.0       0.00              2          0               0   \n",
       "4     2.0  125510.82              1          1               1   \n",
       "5     8.0  113755.78              2          1               0   \n",
       "6     7.0       0.00              2          1               1   \n",
       "7     4.0  115046.74              4          1               0   \n",
       "8     4.0  142051.07              2          0               1   \n",
       "9     2.0  134603.88              1          1               1   \n",
       "\n",
       "   EstimatedSalary  Exited  \n",
       "0        101348.88       1  \n",
       "1        112542.58       0  \n",
       "2        113931.57       1  \n",
       "3         93826.63       0  \n",
       "4         79084.10       0  \n",
       "5        149756.71       1  \n",
       "6         10062.80       0  \n",
       "7        119346.88       1  \n",
       "8         74940.50       0  \n",
       "9         71725.73       0  "
      ]
     },
     "execution_count": 2,
     "metadata": {},
     "output_type": "execute_result"
    }
   ],
   "source": [
    "# чтение файла с данными и сохранение его в переменную df \n",
    "df = pd.read_csv('C:\\\\Users\\\\bogomolova\\\\Desktop\\\\Датасет\\\\Churn.csv')\n",
    "# вывод первых 10 строк\n",
    "df.head(10)"
   ]
  },
  {
   "cell_type": "markdown",
   "metadata": {},
   "source": [
    "Изучим общую информацию о данных."
   ]
  },
  {
   "cell_type": "code",
   "execution_count": 3,
   "metadata": {},
   "outputs": [
    {
     "name": "stdout",
     "output_type": "stream",
     "text": [
      "<class 'pandas.core.frame.DataFrame'>\n",
      "RangeIndex: 10000 entries, 0 to 9999\n",
      "Data columns (total 14 columns):\n",
      " #   Column           Non-Null Count  Dtype  \n",
      "---  ------           --------------  -----  \n",
      " 0   RowNumber        10000 non-null  int64  \n",
      " 1   CustomerId       10000 non-null  int64  \n",
      " 2   Surname          10000 non-null  object \n",
      " 3   CreditScore      10000 non-null  int64  \n",
      " 4   Geography        10000 non-null  object \n",
      " 5   Gender           10000 non-null  object \n",
      " 6   Age              10000 non-null  int64  \n",
      " 7   Tenure           9091 non-null   float64\n",
      " 8   Balance          10000 non-null  float64\n",
      " 9   NumOfProducts    10000 non-null  int64  \n",
      " 10  HasCrCard        10000 non-null  int64  \n",
      " 11  IsActiveMember   10000 non-null  int64  \n",
      " 12  EstimatedSalary  10000 non-null  float64\n",
      " 13  Exited           10000 non-null  int64  \n",
      "dtypes: float64(3), int64(8), object(3)\n",
      "memory usage: 1.1+ MB\n"
     ]
    }
   ],
   "source": [
    "df.info() # получение общей информации о структуре датафрейма"
   ]
  },
  {
   "cell_type": "markdown",
   "metadata": {},
   "source": [
    "Таблица содержит 14 столбцов, 10000 строк. \n",
    "\n",
    "**Переименование столбцов**\n",
    "\n",
    "Требуется переименование всех столбцов в соответствии с правилами оформления названия столбцов \"змеиным стилем\" (нижний регистр, разделение слов нижним подчеркиванием).\n",
    "\n",
    "**Типы данных**\n",
    "\n",
    "В столбцах содержатся данные трех типов:\n",
    "\n",
    "* 3 столбца содержат числа с плавающей запятой float64\n",
    "\n",
    "* 8 столбцов содержат целые числа int64\n",
    "\n",
    "* 3 столбца содержат данные object\n",
    "\n",
    "Столбец RowNumber можно удалить, т.к. он не содержит важной информации, и вместо него могут использоваться индексы.\n",
    "\n",
    "Также для экономии памяти требуется изменить типы данных float и int с 64 на 32.\n",
    "\n",
    "**Пропуски**\n",
    "\n",
    "Пропуски есть в столбце Tenure, требуется их проанализаровать и обработать.\n",
    "\n",
    "**Дубликаты**\n",
    "\n",
    "Требуется проверить данные на наличие явных дубликатов.\n",
    "\n",
    "**Адекватность данных**\n",
    "\n",
    "Требуется проверить данные в колонках на предмет адекватности и реалистичности. \n",
    "\n",
    "\n"
   ]
  },
  {
   "cell_type": "markdown",
   "metadata": {},
   "source": [
    "**Переименование столбцов**"
   ]
  },
  {
   "cell_type": "markdown",
   "metadata": {},
   "source": [
    "Выведем на экран названия столбцов."
   ]
  },
  {
   "cell_type": "code",
   "execution_count": 4,
   "metadata": {},
   "outputs": [
    {
     "data": {
      "text/plain": [
       "Index(['RowNumber', 'CustomerId', 'Surname', 'CreditScore', 'Geography',\n",
       "       'Gender', 'Age', 'Tenure', 'Balance', 'NumOfProducts', 'HasCrCard',\n",
       "       'IsActiveMember', 'EstimatedSalary', 'Exited'],\n",
       "      dtype='object')"
      ]
     },
     "execution_count": 4,
     "metadata": {},
     "output_type": "execute_result"
    }
   ],
   "source": [
    "# перечень названий столбцов датасета\n",
    "df.columns"
   ]
  },
  {
   "cell_type": "markdown",
   "metadata": {},
   "source": [
    "Переименуем столбцы при помощи создания словаря."
   ]
  },
  {
   "cell_type": "code",
   "execution_count": 5,
   "metadata": {},
   "outputs": [],
   "source": [
    "# переименование столбцов\n",
    "df = df.rename(columns = {\n",
    "    'CustomerId':'customer_id', \n",
    "    'Surname':'surname', \n",
    "    'CreditScore':'credit_score',\n",
    "    'Geography':'geography',\n",
    "    'Gender':'gender',\n",
    "    'Age':'age',\n",
    "    'Tenure':'tenure',\n",
    "    'Balance':'balance',\n",
    "    'NumOfProducts':'num_of_products',\n",
    "    'HasCrCard':'has_cr_card',\n",
    "    'IsActiveMember':'is_active_member',\n",
    "})"
   ]
  },
  {
   "cell_type": "markdown",
   "metadata": {},
   "source": [
    "Проверим корректность переименования."
   ]
  },
  {
   "cell_type": "code",
   "execution_count": 6,
   "metadata": {},
   "outputs": [
    {
     "data": {
      "text/plain": [
       "Index(['RowNumber', 'customer_id', 'surname', 'credit_score', 'geography',\n",
       "       'gender', 'age', 'tenure', 'balance', 'num_of_products', 'has_cr_card',\n",
       "       'is_active_member', 'EstimatedSalary', 'Exited'],\n",
       "      dtype='object')"
      ]
     },
     "execution_count": 6,
     "metadata": {},
     "output_type": "execute_result"
    }
   ],
   "source": [
    "# перечень названий столбцов датасета\n",
    "df.columns"
   ]
  },
  {
   "cell_type": "markdown",
   "metadata": {},
   "source": [
    "Переименуем оставшиеся две колонки EstimatedSalary и Exited при помощи рег. выражения."
   ]
  },
  {
   "cell_type": "code",
   "execution_count": 7,
   "metadata": {},
   "outputs": [],
   "source": [
    "import re # импорт модуля re"
   ]
  },
  {
   "cell_type": "code",
   "execution_count": 8,
   "metadata": {
    "scrolled": true
   },
   "outputs": [],
   "source": [
    "# переименование колонок при помощи рег. выражения\n",
    "df.columns = [re.sub(r'(?<!^)(?=[A-Z])', '_', name).lower() for name in df.columns]"
   ]
  },
  {
   "cell_type": "code",
   "execution_count": 9,
   "metadata": {
    "scrolled": true
   },
   "outputs": [
    {
     "data": {
      "text/plain": [
       "Index(['row_number', 'customer_id', 'surname', 'credit_score', 'geography',\n",
       "       'gender', 'age', 'tenure', 'balance', 'num_of_products', 'has_cr_card',\n",
       "       'is_active_member', 'estimated_salary', 'exited'],\n",
       "      dtype='object')"
      ]
     },
     "execution_count": 9,
     "metadata": {},
     "output_type": "execute_result"
    }
   ],
   "source": [
    "# перечень названий столбцов датасета\n",
    "df.columns"
   ]
  },
  {
   "cell_type": "markdown",
   "metadata": {},
   "source": [
    "Переименование прошло корректно, все колонки переименованы."
   ]
  },
  {
   "cell_type": "markdown",
   "metadata": {},
   "source": [
    "**Типы данных**"
   ]
  },
  {
   "cell_type": "markdown",
   "metadata": {},
   "source": [
    "Удалим столбец 'RowNumber'."
   ]
  },
  {
   "cell_type": "code",
   "execution_count": 10,
   "metadata": {
    "scrolled": true
   },
   "outputs": [],
   "source": [
    "# удаление столбца\n",
    "df = df.drop(['row_number'], axis=1)"
   ]
  },
  {
   "cell_type": "markdown",
   "metadata": {},
   "source": [
    "Проверим корректность удаления."
   ]
  },
  {
   "cell_type": "code",
   "execution_count": 11,
   "metadata": {
    "scrolled": false
   },
   "outputs": [
    {
     "data": {
      "text/html": [
       "<div>\n",
       "<style scoped>\n",
       "    .dataframe tbody tr th:only-of-type {\n",
       "        vertical-align: middle;\n",
       "    }\n",
       "\n",
       "    .dataframe tbody tr th {\n",
       "        vertical-align: top;\n",
       "    }\n",
       "\n",
       "    .dataframe thead th {\n",
       "        text-align: right;\n",
       "    }\n",
       "</style>\n",
       "<table border=\"1\" class=\"dataframe\">\n",
       "  <thead>\n",
       "    <tr style=\"text-align: right;\">\n",
       "      <th></th>\n",
       "      <th>customer_id</th>\n",
       "      <th>surname</th>\n",
       "      <th>credit_score</th>\n",
       "      <th>geography</th>\n",
       "      <th>gender</th>\n",
       "      <th>age</th>\n",
       "      <th>tenure</th>\n",
       "      <th>balance</th>\n",
       "      <th>num_of_products</th>\n",
       "      <th>has_cr_card</th>\n",
       "      <th>is_active_member</th>\n",
       "      <th>estimated_salary</th>\n",
       "      <th>exited</th>\n",
       "    </tr>\n",
       "  </thead>\n",
       "  <tbody>\n",
       "    <tr>\n",
       "      <th>0</th>\n",
       "      <td>15634602</td>\n",
       "      <td>Hargrave</td>\n",
       "      <td>619</td>\n",
       "      <td>France</td>\n",
       "      <td>Female</td>\n",
       "      <td>42</td>\n",
       "      <td>2.0</td>\n",
       "      <td>0.00</td>\n",
       "      <td>1</td>\n",
       "      <td>1</td>\n",
       "      <td>1</td>\n",
       "      <td>101348.88</td>\n",
       "      <td>1</td>\n",
       "    </tr>\n",
       "    <tr>\n",
       "      <th>1</th>\n",
       "      <td>15647311</td>\n",
       "      <td>Hill</td>\n",
       "      <td>608</td>\n",
       "      <td>Spain</td>\n",
       "      <td>Female</td>\n",
       "      <td>41</td>\n",
       "      <td>1.0</td>\n",
       "      <td>83807.86</td>\n",
       "      <td>1</td>\n",
       "      <td>0</td>\n",
       "      <td>1</td>\n",
       "      <td>112542.58</td>\n",
       "      <td>0</td>\n",
       "    </tr>\n",
       "    <tr>\n",
       "      <th>2</th>\n",
       "      <td>15619304</td>\n",
       "      <td>Onio</td>\n",
       "      <td>502</td>\n",
       "      <td>France</td>\n",
       "      <td>Female</td>\n",
       "      <td>42</td>\n",
       "      <td>8.0</td>\n",
       "      <td>159660.80</td>\n",
       "      <td>3</td>\n",
       "      <td>1</td>\n",
       "      <td>0</td>\n",
       "      <td>113931.57</td>\n",
       "      <td>1</td>\n",
       "    </tr>\n",
       "    <tr>\n",
       "      <th>3</th>\n",
       "      <td>15701354</td>\n",
       "      <td>Boni</td>\n",
       "      <td>699</td>\n",
       "      <td>France</td>\n",
       "      <td>Female</td>\n",
       "      <td>39</td>\n",
       "      <td>1.0</td>\n",
       "      <td>0.00</td>\n",
       "      <td>2</td>\n",
       "      <td>0</td>\n",
       "      <td>0</td>\n",
       "      <td>93826.63</td>\n",
       "      <td>0</td>\n",
       "    </tr>\n",
       "    <tr>\n",
       "      <th>4</th>\n",
       "      <td>15737888</td>\n",
       "      <td>Mitchell</td>\n",
       "      <td>850</td>\n",
       "      <td>Spain</td>\n",
       "      <td>Female</td>\n",
       "      <td>43</td>\n",
       "      <td>2.0</td>\n",
       "      <td>125510.82</td>\n",
       "      <td>1</td>\n",
       "      <td>1</td>\n",
       "      <td>1</td>\n",
       "      <td>79084.10</td>\n",
       "      <td>0</td>\n",
       "    </tr>\n",
       "  </tbody>\n",
       "</table>\n",
       "</div>"
      ],
      "text/plain": [
       "   customer_id   surname  credit_score geography  gender  age  tenure  \\\n",
       "0     15634602  Hargrave           619    France  Female   42     2.0   \n",
       "1     15647311      Hill           608     Spain  Female   41     1.0   \n",
       "2     15619304      Onio           502    France  Female   42     8.0   \n",
       "3     15701354      Boni           699    France  Female   39     1.0   \n",
       "4     15737888  Mitchell           850     Spain  Female   43     2.0   \n",
       "\n",
       "     balance  num_of_products  has_cr_card  is_active_member  \\\n",
       "0       0.00                1            1                 1   \n",
       "1   83807.86                1            0                 1   \n",
       "2  159660.80                3            1                 0   \n",
       "3       0.00                2            0                 0   \n",
       "4  125510.82                1            1                 1   \n",
       "\n",
       "   estimated_salary  exited  \n",
       "0         101348.88       1  \n",
       "1         112542.58       0  \n",
       "2         113931.57       1  \n",
       "3          93826.63       0  \n",
       "4          79084.10       0  "
      ]
     },
     "execution_count": 11,
     "metadata": {},
     "output_type": "execute_result"
    }
   ],
   "source": [
    "# вывод первых 5 строк датафрейма\n",
    "df.head()"
   ]
  },
  {
   "cell_type": "markdown",
   "metadata": {},
   "source": [
    "Удаление столбца прошло корректно."
   ]
  },
  {
   "cell_type": "markdown",
   "metadata": {},
   "source": [
    "Заменим типы данных 64 на 32 для экономии памяти."
   ]
  },
  {
   "cell_type": "code",
   "execution_count": 12,
   "metadata": {},
   "outputs": [],
   "source": [
    "# изменение типов данных\n",
    "df[df.select_dtypes(np.int64).columns] = df.select_dtypes(np.int64).astype(np.int32)\n",
    "df[df.select_dtypes(np.float64).columns] = df.select_dtypes(np.float64).astype(np.float32)"
   ]
  },
  {
   "cell_type": "markdown",
   "metadata": {},
   "source": [
    "Проверим корректность изменения типов данных."
   ]
  },
  {
   "cell_type": "code",
   "execution_count": 13,
   "metadata": {
    "scrolled": true
   },
   "outputs": [
    {
     "name": "stdout",
     "output_type": "stream",
     "text": [
      "<class 'pandas.core.frame.DataFrame'>\n",
      "RangeIndex: 10000 entries, 0 to 9999\n",
      "Data columns (total 13 columns):\n",
      " #   Column            Non-Null Count  Dtype  \n",
      "---  ------            --------------  -----  \n",
      " 0   customer_id       10000 non-null  int32  \n",
      " 1   surname           10000 non-null  object \n",
      " 2   credit_score      10000 non-null  int32  \n",
      " 3   geography         10000 non-null  object \n",
      " 4   gender            10000 non-null  object \n",
      " 5   age               10000 non-null  int32  \n",
      " 6   tenure            9091 non-null   float32\n",
      " 7   balance           10000 non-null  float32\n",
      " 8   num_of_products   10000 non-null  int32  \n",
      " 9   has_cr_card       10000 non-null  int32  \n",
      " 10  is_active_member  10000 non-null  int32  \n",
      " 11  estimated_salary  10000 non-null  float32\n",
      " 12  exited            10000 non-null  int32  \n",
      "dtypes: float32(3), int32(7), object(3)\n",
      "memory usage: 625.1+ KB\n"
     ]
    }
   ],
   "source": [
    "df.info() # получение общей информации о структуре датафрейма"
   ]
  },
  {
   "cell_type": "markdown",
   "metadata": {},
   "source": [
    "Изменение типов данных проведено корректно."
   ]
  },
  {
   "cell_type": "markdown",
   "metadata": {},
   "source": [
    "**Пропуски**"
   ]
  },
  {
   "cell_type": "markdown",
   "metadata": {},
   "source": [
    "Выведем на экран строки с пропусками в колонке tenure, чтобы оценить варианты заполнения пропусков."
   ]
  },
  {
   "cell_type": "code",
   "execution_count": 14,
   "metadata": {
    "scrolled": true
   },
   "outputs": [
    {
     "data": {
      "text/html": [
       "<div>\n",
       "<style scoped>\n",
       "    .dataframe tbody tr th:only-of-type {\n",
       "        vertical-align: middle;\n",
       "    }\n",
       "\n",
       "    .dataframe tbody tr th {\n",
       "        vertical-align: top;\n",
       "    }\n",
       "\n",
       "    .dataframe thead th {\n",
       "        text-align: right;\n",
       "    }\n",
       "</style>\n",
       "<table border=\"1\" class=\"dataframe\">\n",
       "  <thead>\n",
       "    <tr style=\"text-align: right;\">\n",
       "      <th></th>\n",
       "      <th>customer_id</th>\n",
       "      <th>surname</th>\n",
       "      <th>credit_score</th>\n",
       "      <th>geography</th>\n",
       "      <th>gender</th>\n",
       "      <th>age</th>\n",
       "      <th>tenure</th>\n",
       "      <th>balance</th>\n",
       "      <th>num_of_products</th>\n",
       "      <th>has_cr_card</th>\n",
       "      <th>is_active_member</th>\n",
       "      <th>estimated_salary</th>\n",
       "      <th>exited</th>\n",
       "    </tr>\n",
       "  </thead>\n",
       "  <tbody>\n",
       "    <tr>\n",
       "      <th>30</th>\n",
       "      <td>15589475</td>\n",
       "      <td>Azikiwe</td>\n",
       "      <td>591</td>\n",
       "      <td>Spain</td>\n",
       "      <td>Female</td>\n",
       "      <td>39</td>\n",
       "      <td>NaN</td>\n",
       "      <td>0.000000</td>\n",
       "      <td>3</td>\n",
       "      <td>1</td>\n",
       "      <td>0</td>\n",
       "      <td>140469.375000</td>\n",
       "      <td>1</td>\n",
       "    </tr>\n",
       "    <tr>\n",
       "      <th>48</th>\n",
       "      <td>15766205</td>\n",
       "      <td>Yin</td>\n",
       "      <td>550</td>\n",
       "      <td>Germany</td>\n",
       "      <td>Male</td>\n",
       "      <td>38</td>\n",
       "      <td>NaN</td>\n",
       "      <td>103391.382812</td>\n",
       "      <td>1</td>\n",
       "      <td>0</td>\n",
       "      <td>1</td>\n",
       "      <td>90878.132812</td>\n",
       "      <td>0</td>\n",
       "    </tr>\n",
       "    <tr>\n",
       "      <th>51</th>\n",
       "      <td>15768193</td>\n",
       "      <td>Trevisani</td>\n",
       "      <td>585</td>\n",
       "      <td>Germany</td>\n",
       "      <td>Male</td>\n",
       "      <td>36</td>\n",
       "      <td>NaN</td>\n",
       "      <td>146050.968750</td>\n",
       "      <td>2</td>\n",
       "      <td>0</td>\n",
       "      <td>0</td>\n",
       "      <td>86424.570312</td>\n",
       "      <td>0</td>\n",
       "    </tr>\n",
       "    <tr>\n",
       "      <th>53</th>\n",
       "      <td>15702298</td>\n",
       "      <td>Parkhill</td>\n",
       "      <td>655</td>\n",
       "      <td>Germany</td>\n",
       "      <td>Male</td>\n",
       "      <td>41</td>\n",
       "      <td>NaN</td>\n",
       "      <td>125561.968750</td>\n",
       "      <td>1</td>\n",
       "      <td>0</td>\n",
       "      <td>0</td>\n",
       "      <td>164040.937500</td>\n",
       "      <td>1</td>\n",
       "    </tr>\n",
       "    <tr>\n",
       "      <th>60</th>\n",
       "      <td>15651280</td>\n",
       "      <td>Hunter</td>\n",
       "      <td>742</td>\n",
       "      <td>Germany</td>\n",
       "      <td>Male</td>\n",
       "      <td>35</td>\n",
       "      <td>NaN</td>\n",
       "      <td>136857.000000</td>\n",
       "      <td>1</td>\n",
       "      <td>0</td>\n",
       "      <td>0</td>\n",
       "      <td>84509.570312</td>\n",
       "      <td>0</td>\n",
       "    </tr>\n",
       "    <tr>\n",
       "      <th>...</th>\n",
       "      <td>...</td>\n",
       "      <td>...</td>\n",
       "      <td>...</td>\n",
       "      <td>...</td>\n",
       "      <td>...</td>\n",
       "      <td>...</td>\n",
       "      <td>...</td>\n",
       "      <td>...</td>\n",
       "      <td>...</td>\n",
       "      <td>...</td>\n",
       "      <td>...</td>\n",
       "      <td>...</td>\n",
       "      <td>...</td>\n",
       "    </tr>\n",
       "    <tr>\n",
       "      <th>9944</th>\n",
       "      <td>15703923</td>\n",
       "      <td>Cameron</td>\n",
       "      <td>744</td>\n",
       "      <td>Germany</td>\n",
       "      <td>Male</td>\n",
       "      <td>41</td>\n",
       "      <td>NaN</td>\n",
       "      <td>190409.343750</td>\n",
       "      <td>2</td>\n",
       "      <td>1</td>\n",
       "      <td>1</td>\n",
       "      <td>138361.484375</td>\n",
       "      <td>0</td>\n",
       "    </tr>\n",
       "    <tr>\n",
       "      <th>9956</th>\n",
       "      <td>15707861</td>\n",
       "      <td>Nucci</td>\n",
       "      <td>520</td>\n",
       "      <td>France</td>\n",
       "      <td>Female</td>\n",
       "      <td>46</td>\n",
       "      <td>NaN</td>\n",
       "      <td>85216.609375</td>\n",
       "      <td>1</td>\n",
       "      <td>1</td>\n",
       "      <td>0</td>\n",
       "      <td>117369.523438</td>\n",
       "      <td>1</td>\n",
       "    </tr>\n",
       "    <tr>\n",
       "      <th>9964</th>\n",
       "      <td>15642785</td>\n",
       "      <td>Douglas</td>\n",
       "      <td>479</td>\n",
       "      <td>France</td>\n",
       "      <td>Male</td>\n",
       "      <td>34</td>\n",
       "      <td>NaN</td>\n",
       "      <td>117593.476562</td>\n",
       "      <td>2</td>\n",
       "      <td>0</td>\n",
       "      <td>0</td>\n",
       "      <td>113308.289062</td>\n",
       "      <td>0</td>\n",
       "    </tr>\n",
       "    <tr>\n",
       "      <th>9985</th>\n",
       "      <td>15586914</td>\n",
       "      <td>Nepean</td>\n",
       "      <td>659</td>\n",
       "      <td>France</td>\n",
       "      <td>Male</td>\n",
       "      <td>36</td>\n",
       "      <td>NaN</td>\n",
       "      <td>123841.492188</td>\n",
       "      <td>2</td>\n",
       "      <td>1</td>\n",
       "      <td>0</td>\n",
       "      <td>96833.000000</td>\n",
       "      <td>0</td>\n",
       "    </tr>\n",
       "    <tr>\n",
       "      <th>9999</th>\n",
       "      <td>15628319</td>\n",
       "      <td>Walker</td>\n",
       "      <td>792</td>\n",
       "      <td>France</td>\n",
       "      <td>Female</td>\n",
       "      <td>28</td>\n",
       "      <td>NaN</td>\n",
       "      <td>130142.789062</td>\n",
       "      <td>1</td>\n",
       "      <td>1</td>\n",
       "      <td>0</td>\n",
       "      <td>38190.781250</td>\n",
       "      <td>0</td>\n",
       "    </tr>\n",
       "  </tbody>\n",
       "</table>\n",
       "<p>909 rows × 13 columns</p>\n",
       "</div>"
      ],
      "text/plain": [
       "      customer_id    surname  credit_score geography  gender  age  tenure  \\\n",
       "30       15589475    Azikiwe           591     Spain  Female   39     NaN   \n",
       "48       15766205        Yin           550   Germany    Male   38     NaN   \n",
       "51       15768193  Trevisani           585   Germany    Male   36     NaN   \n",
       "53       15702298   Parkhill           655   Germany    Male   41     NaN   \n",
       "60       15651280     Hunter           742   Germany    Male   35     NaN   \n",
       "...           ...        ...           ...       ...     ...  ...     ...   \n",
       "9944     15703923    Cameron           744   Germany    Male   41     NaN   \n",
       "9956     15707861      Nucci           520    France  Female   46     NaN   \n",
       "9964     15642785    Douglas           479    France    Male   34     NaN   \n",
       "9985     15586914     Nepean           659    France    Male   36     NaN   \n",
       "9999     15628319     Walker           792    France  Female   28     NaN   \n",
       "\n",
       "            balance  num_of_products  has_cr_card  is_active_member  \\\n",
       "30         0.000000                3            1                 0   \n",
       "48    103391.382812                1            0                 1   \n",
       "51    146050.968750                2            0                 0   \n",
       "53    125561.968750                1            0                 0   \n",
       "60    136857.000000                1            0                 0   \n",
       "...             ...              ...          ...               ...   \n",
       "9944  190409.343750                2            1                 1   \n",
       "9956   85216.609375                1            1                 0   \n",
       "9964  117593.476562                2            0                 0   \n",
       "9985  123841.492188                2            1                 0   \n",
       "9999  130142.789062                1            1                 0   \n",
       "\n",
       "      estimated_salary  exited  \n",
       "30       140469.375000       1  \n",
       "48        90878.132812       0  \n",
       "51        86424.570312       0  \n",
       "53       164040.937500       1  \n",
       "60        84509.570312       0  \n",
       "...                ...     ...  \n",
       "9944     138361.484375       0  \n",
       "9956     117369.523438       1  \n",
       "9964     113308.289062       0  \n",
       "9985      96833.000000       0  \n",
       "9999      38190.781250       0  \n",
       "\n",
       "[909 rows x 13 columns]"
      ]
     },
     "execution_count": 14,
     "metadata": {},
     "output_type": "execute_result"
    }
   ],
   "source": [
    "df[df['tenure'].isnull()] # вывод строк с пустыми значениями в колонке"
   ]
  },
  {
   "cell_type": "markdown",
   "metadata": {},
   "source": [
    "Взаимосвязь с данными других колонок на первый взгляд не прослеживается, что не позволяет заполнить пропуски в tenure каким-либо достоверным вариантом. \n",
    "\n",
    "Поскольку данные составляют менее 10% от общего объема выборки, удалим строки с пропусками в tenure для удобства дальнейшей работы с данными."
   ]
  },
  {
   "cell_type": "code",
   "execution_count": 15,
   "metadata": {},
   "outputs": [],
   "source": [
    "# удаление строк с пропущенными значениями в колонке tenure\n",
    "df = df.dropna(subset=['tenure']).reset_index(drop=True)"
   ]
  },
  {
   "cell_type": "markdown",
   "metadata": {},
   "source": [
    "Проверим корректность проведенного удаления строк."
   ]
  },
  {
   "cell_type": "code",
   "execution_count": 16,
   "metadata": {
    "scrolled": true
   },
   "outputs": [
    {
     "name": "stdout",
     "output_type": "stream",
     "text": [
      "<class 'pandas.core.frame.DataFrame'>\n",
      "RangeIndex: 9091 entries, 0 to 9090\n",
      "Data columns (total 13 columns):\n",
      " #   Column            Non-Null Count  Dtype  \n",
      "---  ------            --------------  -----  \n",
      " 0   customer_id       9091 non-null   int32  \n",
      " 1   surname           9091 non-null   object \n",
      " 2   credit_score      9091 non-null   int32  \n",
      " 3   geography         9091 non-null   object \n",
      " 4   gender            9091 non-null   object \n",
      " 5   age               9091 non-null   int32  \n",
      " 6   tenure            9091 non-null   float32\n",
      " 7   balance           9091 non-null   float32\n",
      " 8   num_of_products   9091 non-null   int32  \n",
      " 9   has_cr_card       9091 non-null   int32  \n",
      " 10  is_active_member  9091 non-null   int32  \n",
      " 11  estimated_salary  9091 non-null   float32\n",
      " 12  exited            9091 non-null   int32  \n",
      "dtypes: float32(3), int32(7), object(3)\n",
      "memory usage: 568.3+ KB\n"
     ]
    }
   ],
   "source": [
    "# вывод общей информации о датасетеи\n",
    "df.info()"
   ]
  },
  {
   "cell_type": "markdown",
   "metadata": {},
   "source": [
    "Строки с пропусками в tenure удалены корректно, общий объем датасета сократился до 9091 строки."
   ]
  },
  {
   "cell_type": "markdown",
   "metadata": {},
   "source": [
    "**Дубликаты**"
   ]
  },
  {
   "cell_type": "markdown",
   "metadata": {},
   "source": [
    "Проверим данные датафрейма на наличие явных дубликатов."
   ]
  },
  {
   "cell_type": "code",
   "execution_count": 17,
   "metadata": {},
   "outputs": [
    {
     "data": {
      "text/plain": [
       "0"
      ]
     },
     "execution_count": 17,
     "metadata": {},
     "output_type": "execute_result"
    }
   ],
   "source": [
    "# подстчет строк - явных дубликатов\n",
    "df.duplicated().sum()"
   ]
  },
  {
   "cell_type": "markdown",
   "metadata": {},
   "source": [
    "Явных дубликатов нет."
   ]
  },
  {
   "cell_type": "markdown",
   "metadata": {},
   "source": [
    "**Адекватность данных**"
   ]
  },
  {
   "cell_type": "markdown",
   "metadata": {},
   "source": [
    "Проверим данные в колонках на адекватность и реалистичность."
   ]
  },
  {
   "cell_type": "code",
   "execution_count": 18,
   "metadata": {
    "scrolled": false
   },
   "outputs": [
    {
     "data": {
      "text/plain": [
       "15634602    1\n",
       "15724663    1\n",
       "15793671    1\n",
       "15797900    1\n",
       "15667932    1\n",
       "           ..\n",
       "15599078    1\n",
       "15720508    1\n",
       "15574122    1\n",
       "15657439    1\n",
       "15682355    1\n",
       "Name: customer_id, Length: 9091, dtype: int64"
      ]
     },
     "execution_count": 18,
     "metadata": {},
     "output_type": "execute_result"
    }
   ],
   "source": [
    "# вывод уникальных значений в колонке customer_id\n",
    "df['customer_id'].value_counts()"
   ]
  },
  {
   "cell_type": "markdown",
   "metadata": {},
   "source": [
    "Все уникальные идентификаторы клиента встречаются в выборке по одному разу, выглядят одинаково (8 цифр)."
   ]
  },
  {
   "cell_type": "code",
   "execution_count": 19,
   "metadata": {
    "scrolled": true
   },
   "outputs": [
    {
     "data": {
      "text/plain": [
       "Smith        30\n",
       "Martin       27\n",
       "Scott        26\n",
       "Genovese     25\n",
       "Yeh          25\n",
       "             ..\n",
       "Enticknap     1\n",
       "Enemuo        1\n",
       "Odell         1\n",
       "Real          1\n",
       "Burbidge      1\n",
       "Name: surname, Length: 2787, dtype: int64"
      ]
     },
     "execution_count": 19,
     "metadata": {},
     "output_type": "execute_result"
    }
   ],
   "source": [
    "# вывод уникальных значений в колонке surname\n",
    "df['surname'].value_counts()"
   ]
  },
  {
   "cell_type": "markdown",
   "metadata": {},
   "source": [
    "Данные по фамилиям клиентов выглядят адекватно, некоторые фамилии встречаются более 1 раза, что также является нормой."
   ]
  },
  {
   "cell_type": "code",
   "execution_count": 20,
   "metadata": {
    "scrolled": true
   },
   "outputs": [
    {
     "data": {
      "text/plain": [
       "array([619, 608, 502, 699, 850, 645, 822, 376, 501, 684, 528, 497, 476,\n",
       "       549, 635, 616, 653, 587, 726, 732, 636, 510, 669, 846, 577, 756,\n",
       "       571, 574, 411, 533, 553, 520, 722, 475, 490, 804, 582, 472, 465,\n",
       "       556, 834, 660, 776, 829, 637, 698, 788, 601, 656, 725, 511, 614,\n",
       "       687, 555, 603, 751, 581, 735, 661, 675, 738, 813, 657, 604, 519,\n",
       "       664, 678, 757, 416, 665, 777, 506, 493, 750, 729, 646, 647, 808,\n",
       "       524, 769, 515, 773, 814, 710, 623, 670, 622, 785, 605, 479, 685,\n",
       "       562, 721, 628, 668, 828, 674, 625, 770, 758, 795, 686, 789, 589,\n",
       "       461, 584, 579, 663, 682, 793, 691, 485, 650, 754, 535, 716, 539,\n",
       "       706, 586, 631, 717, 683, 704, 615, 667, 484, 480, 512, 606, 597,\n",
       "       778, 514, 730, 525, 715, 580, 807, 521, 759, 516, 711, 550, 618,\n",
       "       643, 671, 689, 620, 676, 572, 695, 592, 694, 547, 594, 673, 610,\n",
       "       767, 585, 763, 712, 703, 662, 659, 523, 772, 545, 634, 739, 771,\n",
       "       681, 544, 766, 727, 557, 531, 498, 651, 791, 733, 811, 707, 714,\n",
       "       782, 775, 799, 744, 588, 747, 583, 627, 731, 629, 438, 652, 642,\n",
       "       806, 474, 559, 429, 680, 749, 734, 644, 626, 649, 805, 543, 718,\n",
       "       840, 630, 654, 568, 613, 737, 648, 443, 640, 540, 460, 593, 611,\n",
       "       802, 745, 483, 690, 492, 709, 705, 560, 752, 701, 538, 537, 487,\n",
       "       702, 486, 724, 548, 762, 464, 790, 748, 494, 590, 509, 818, 816,\n",
       "       536, 753, 774, 621, 569, 658, 641, 542, 692, 591, 639, 765, 570,\n",
       "       638, 599, 632, 468, 779, 527, 696, 564, 504, 842, 508, 417, 598,\n",
       "       741, 607, 761, 848, 546, 755, 760, 526, 713, 700, 666, 566, 495,\n",
       "       688, 612, 477, 427, 839, 819, 578, 720, 459, 503, 624, 529, 563,\n",
       "       482, 796, 445, 746, 742, 786, 554, 672, 787, 499, 844, 450, 815,\n",
       "       838, 803, 736, 633, 600, 679, 517, 792, 743, 488, 421, 708, 507,\n",
       "       505, 567, 456, 561, 565, 435, 728, 596, 784, 552, 609, 764, 697,\n",
       "       723, 551, 655, 444, 719, 496, 541, 830, 812, 602, 677, 432, 420,\n",
       "       595, 833, 617, 809, 500, 434, 513, 693, 363, 399, 780, 452, 575,\n",
       "       837, 794, 824, 534, 823, 781, 849, 489, 431, 768, 831, 820, 573,\n",
       "       576, 558, 817, 797, 440, 415, 821, 530, 350, 446, 439, 798, 425,\n",
       "       518, 740, 481, 428, 783, 358, 800, 845, 841, 451, 458, 469, 404,\n",
       "       836, 835, 478, 473, 351, 466, 801, 827, 843, 365, 414, 471, 401,\n",
       "       532, 449, 491, 810, 832, 447, 422, 825, 430, 436, 470, 426, 453,\n",
       "       408, 847, 418, 463, 437, 413, 826, 522, 454, 407, 462, 386, 405,\n",
       "       457, 410, 383, 395, 467, 455, 433, 442, 424, 448, 441, 367, 412,\n",
       "       382, 373, 419])"
      ]
     },
     "execution_count": 20,
     "metadata": {},
     "output_type": "execute_result"
    }
   ],
   "source": [
    "# вывод уникальных значений в колонке credit_score\n",
    "df['credit_score'].unique()"
   ]
  },
  {
   "cell_type": "code",
   "execution_count": 21,
   "metadata": {
    "scrolled": false
   },
   "outputs": [
    {
     "data": {
      "text/plain": [
       "count    9091.0\n",
       "mean      651.0\n",
       "std        96.0\n",
       "min       350.0\n",
       "25%       584.0\n",
       "50%       652.0\n",
       "75%       717.0\n",
       "max       850.0\n",
       "Name: credit_score, dtype: float64"
      ]
     },
     "execution_count": 21,
     "metadata": {},
     "output_type": "execute_result"
    }
   ],
   "source": [
    "# вывод данных о кредитном рейтинге\n",
    "df['credit_score'].describe().round()"
   ]
  },
  {
   "cell_type": "markdown",
   "metadata": {},
   "source": [
    "Данные о кредитном рейтинге адкватны, находятся в диапазоне 350-850 единиц, среднее арифметическое 651, медиана 652."
   ]
  },
  {
   "cell_type": "code",
   "execution_count": 22,
   "metadata": {
    "scrolled": true
   },
   "outputs": [
    {
     "data": {
      "text/plain": [
       "France     0.500\n",
       "Germany    0.252\n",
       "Spain      0.247\n",
       "Name: geography, dtype: float64"
      ]
     },
     "execution_count": 22,
     "metadata": {},
     "output_type": "execute_result"
    }
   ],
   "source": [
    "# вывод уникальных значений в колонке geography\n",
    "df['geography'].value_counts(normalize=True).round(3)"
   ]
  },
  {
   "cell_type": "markdown",
   "metadata": {},
   "source": [
    "В выборке представлены данные по клиентам 3 стран: Франции (50%), Германии (25%) и Испании (25%)."
   ]
  },
  {
   "cell_type": "code",
   "execution_count": 23,
   "metadata": {
    "scrolled": false
   },
   "outputs": [
    {
     "data": {
      "text/plain": [
       "Male      0.55\n",
       "Female    0.45\n",
       "Name: gender, dtype: float64"
      ]
     },
     "execution_count": 23,
     "metadata": {},
     "output_type": "execute_result"
    }
   ],
   "source": [
    "# вывод уникальных значений в колонке gender\n",
    "df['gender'].value_counts(normalize=True).round(2)"
   ]
  },
  {
   "cell_type": "markdown",
   "metadata": {},
   "source": [
    "В выборке представлены данные по клиентам-мужчинам (55%) и клиентам-женщинам (45%)."
   ]
  },
  {
   "cell_type": "code",
   "execution_count": 24,
   "metadata": {
    "scrolled": true
   },
   "outputs": [
    {
     "data": {
      "text/plain": [
       "age\n",
       "18    20\n",
       "19    26\n",
       "20    37\n",
       "21    48\n",
       "22    80\n",
       "      ..\n",
       "83     1\n",
       "84     2\n",
       "85     1\n",
       "88     1\n",
       "92     1\n",
       "Name: age, Length: 70, dtype: int64"
      ]
     },
     "execution_count": 24,
     "metadata": {},
     "output_type": "execute_result"
    }
   ],
   "source": [
    "# вывод уникальных значений в колонке age\n",
    "df.groupby(['age'])['age'].count()"
   ]
  },
  {
   "cell_type": "markdown",
   "metadata": {},
   "source": [
    "В выборке представлены клиенты от 18 до 92 лет."
   ]
  },
  {
   "cell_type": "code",
   "execution_count": 25,
   "metadata": {
    "scrolled": true
   },
   "outputs": [
    {
     "data": {
      "text/plain": [
       "1.0     0.105\n",
       "2.0     0.104\n",
       "8.0     0.103\n",
       "3.0     0.102\n",
       "5.0     0.102\n",
       "7.0     0.102\n",
       "4.0     0.097\n",
       "9.0     0.097\n",
       "6.0     0.097\n",
       "10.0    0.049\n",
       "0.0     0.042\n",
       "Name: tenure, dtype: float64"
      ]
     },
     "execution_count": 25,
     "metadata": {},
     "output_type": "execute_result"
    }
   ],
   "source": [
    "# вывод уникальных значений в колонке tenure\n",
    "df['tenure'].value_counts(normalize=True).round(3)"
   ]
  },
  {
   "cell_type": "markdown",
   "metadata": {},
   "source": [
    "В выборке представлены клиенты, обслуживающиеся в банке менее года и от 1 года до 10 лет."
   ]
  },
  {
   "cell_type": "code",
   "execution_count": 26,
   "metadata": {
    "scrolled": false
   },
   "outputs": [
    {
     "data": {
      "text/plain": [
       "count      9091.0\n",
       "mean      76523.0\n",
       "std       62329.0\n",
       "min           0.0\n",
       "25%           0.0\n",
       "50%       97318.0\n",
       "75%      127562.0\n",
       "max      250898.0\n",
       "Name: balance, dtype: float64"
      ]
     },
     "execution_count": 26,
     "metadata": {},
     "output_type": "execute_result"
    }
   ],
   "source": [
    "# вывод данных о балансе\n",
    "df['balance'].describe().round()"
   ]
  },
  {
   "cell_type": "markdown",
   "metadata": {},
   "source": [
    "В выборке представлены данные по клиентам с балансами от 0 до 250 898, среднее арифметическое 76 523, медиана 97 318."
   ]
  },
  {
   "cell_type": "code",
   "execution_count": 27,
   "metadata": {
    "scrolled": false
   },
   "outputs": [
    {
     "data": {
      "text/plain": [
       "1    0.51\n",
       "2    0.46\n",
       "3    0.03\n",
       "4    0.01\n",
       "Name: num_of_products, dtype: float64"
      ]
     },
     "execution_count": 27,
     "metadata": {},
     "output_type": "execute_result"
    }
   ],
   "source": [
    "# вывод уникальных значений в колонке num_of_products\n",
    "df['num_of_products'].value_counts(normalize=True).round(2)"
   ]
  },
  {
   "cell_type": "markdown",
   "metadata": {},
   "source": [
    "В выборке представлены клиенты с количеством продуктов от 1 (51%) до 4 (1%)."
   ]
  },
  {
   "cell_type": "code",
   "execution_count": 28,
   "metadata": {
    "scrolled": false
   },
   "outputs": [
    {
     "data": {
      "text/plain": [
       "1    0.705\n",
       "0    0.295\n",
       "Name: has_cr_card, dtype: float64"
      ]
     },
     "execution_count": 28,
     "metadata": {},
     "output_type": "execute_result"
    }
   ],
   "source": [
    "# вывод уникальных значений в колонке has_cr_card\n",
    "df['has_cr_card'].value_counts(normalize=True).round(3)"
   ]
  },
  {
   "cell_type": "markdown",
   "metadata": {},
   "source": [
    "У 70% клиентов в выборке есть кредитная карта, у 30 % ее нет."
   ]
  },
  {
   "cell_type": "code",
   "execution_count": 29,
   "metadata": {
    "scrolled": true
   },
   "outputs": [
    {
     "data": {
      "text/plain": [
       "1    0.52\n",
       "0    0.48\n",
       "Name: is_active_member, dtype: float64"
      ]
     },
     "execution_count": 29,
     "metadata": {},
     "output_type": "execute_result"
    }
   ],
   "source": [
    "# вывод уникальных значений в колонке is_active_member\n",
    "df['is_active_member'].value_counts(normalize=True).round(2)"
   ]
  },
  {
   "cell_type": "markdown",
   "metadata": {},
   "source": [
    "52% клиентов в выборке активно пользуются услугами банка, 48% неактивны."
   ]
  },
  {
   "cell_type": "code",
   "execution_count": 30,
   "metadata": {
    "scrolled": false
   },
   "outputs": [
    {
     "data": {
      "text/plain": [
       "count      9091.0\n",
       "mean     100181.0\n",
       "std       57625.0\n",
       "min          12.0\n",
       "25%       51228.0\n",
       "50%      100240.0\n",
       "75%      149567.0\n",
       "max      199992.0\n",
       "Name: estimated_salary, dtype: float64"
      ]
     },
     "execution_count": 30,
     "metadata": {},
     "output_type": "execute_result"
    }
   ],
   "source": [
    "# вывод данных о предполагаемой зарплате\n",
    "df['estimated_salary'].describe().round()"
   ]
  },
  {
   "cell_type": "markdown",
   "metadata": {},
   "source": [
    "Предполагаемая зпл клиентов в выборке от 12 до 199 992 денежных единиц, среднее арифметическое 100 181, медиана 100 240."
   ]
  },
  {
   "cell_type": "code",
   "execution_count": 31,
   "metadata": {
    "scrolled": false
   },
   "outputs": [
    {
     "data": {
      "text/plain": [
       "0    0.796\n",
       "1    0.204\n",
       "Name: exited, dtype: float64"
      ]
     },
     "execution_count": 31,
     "metadata": {},
     "output_type": "execute_result"
    }
   ],
   "source": [
    "# вывод уникальных значений в колонке exited\n",
    "df['exited'].value_counts(normalize=True).round(3)"
   ]
  },
  {
   "cell_type": "markdown",
   "metadata": {},
   "source": [
    "80% клиентов являются действующими клиентами банка, 20% клиентов перестали сотрудничать с банком."
   ]
  },
  {
   "cell_type": "markdown",
   "metadata": {},
   "source": [
    "<div style=\"border:solid blue 2px; padding: 20px\"> \n",
    "\n",
    "**Вывод**  \n",
    "\n",
    "Таблица с датафреймом открыта, данные изучены и предобработаны.\n",
    "\n",
    "1. Изначально таблица содержала 10 000 строк и 14 столбцов; в процессе предобработки количество строк сократилось до 9091 (удалены строки с пропусками в колонке tenure), количество столбцов до 13 (удалена дублирующая индексы колонка с нумераций строк).\n",
    "\n",
    "    \n",
    "2. Явных дубликатов в данных нет.\n",
    "\n",
    "    \n",
    "3. Произведено переименование колонок по правилам оформления кода в \"змеином стиле\" и изменение типов данных с 64 на 32 для экономии памяти.\n",
    "\n",
    "    \n",
    "4. Содержащиеся в таблице данные проверены на адекватность:\n",
    "    \n",
    "* клиентские идентификаторы уникальны\n",
    "* фамилии клиентов выглядят достоверно\n",
    "* кредитные рейтинги находятся в диапазоне 350-850 единиц, среднее арифметическое 651, медиана 652\n",
    "* клиенты в выборке обслуживаются в 3 странах: Франции (50%), Германии (25%) и Испании (25%)\n",
    "* в выборке представлены 55% клиентов-мужчин и 45% клиентов-женщин\n",
    "* возраст клиентов от 18 до 92 лет\n",
    "* клиенты обслуживаются в банке менее года и от 1 года до 10 лет\n",
    "* балансы клиентов от 0 до 250 898, среднее арифметическое 76 523, медиана 97 318\n",
    "* клиенты пользуются от 1 (51%) до 4 (1%) продуктами банка\n",
    "* 52% клиентов в выборке активно пользуются услугами банка, 48% неактивны\n",
    "* предполагаемая зпл клиентов в выборке от 12 до 199 992 денежных единиц, среднее арифметическое 100 181, медиана 100 240\n",
    "* 80% клиентов являются действующими клиентами банка, 20% клиентов перестали сотрудничать с банком\n",
    " \n",
    "</div>"
   ]
  },
  {
   "cell_type": "markdown",
   "metadata": {},
   "source": [
    "## Исследование задачи"
   ]
  },
  {
   "cell_type": "markdown",
   "metadata": {},
   "source": [
    "**Исследование баланса классов**"
   ]
  },
  {
   "cell_type": "markdown",
   "metadata": {},
   "source": [
    "Как было видно по результатам предобработки и анализа датафрейма выше, в данном случае мы имеем дело с несбалансированной выборкой, где класс действующих клиентов в 4 раза больше класса ушедших клиентов."
   ]
  },
  {
   "cell_type": "code",
   "execution_count": 32,
   "metadata": {
    "scrolled": false
   },
   "outputs": [
    {
     "data": {
      "text/plain": [
       "0    0.796\n",
       "1    0.204\n",
       "Name: exited, dtype: float64"
      ]
     },
     "metadata": {},
     "output_type": "display_data"
    }
   ],
   "source": [
    "# вывод соотношения классов в колонке exited\n",
    "class_frequency = df['exited'].value_counts(normalize=True).round(3)\n",
    "display(class_frequency)"
   ]
  },
  {
   "cell_type": "markdown",
   "metadata": {},
   "source": [
    "Визуализируем дисбаланс классов на диаграмме."
   ]
  },
  {
   "cell_type": "code",
   "execution_count": 33,
   "metadata": {
    "scrolled": false
   },
   "outputs": [
    {
     "data": {
      "text/plain": [
       "<AxesSubplot:title={'center':'Частота классов'}, xlabel='Класс', ylabel='Частота, %'>"
      ]
     },
     "execution_count": 33,
     "metadata": {},
     "output_type": "execute_result"
    },
    {
     "data": {
      "image/png": "[encoded data removed]",
      "text/plain": [
       "<Figure size 432x288 with 1 Axes>"
      ]
     },
     "metadata": {
      "needs_background": "light"
     },
     "output_type": "display_data"
    }
   ],
   "source": [
    "# построение диаграммы частоты классов\n",
    "class_frequency.plot(kind='bar', xlabel='Класс', ylabel='Частота, %', title='Частота классов')"
   ]
  },
  {
   "cell_type": "markdown",
   "metadata": {},
   "source": [
    "Попробуем обучить модель на несбалансированной выборке."
   ]
  },
  {
   "cell_type": "markdown",
   "metadata": {},
   "source": [
    "**Обучение модели без учета дисбаланса**"
   ]
  },
  {
   "cell_type": "markdown",
   "metadata": {},
   "source": [
    "Поскольку в выборке присутствуют категориальные признаки, необходимо преобразовать их в численные при помощи **техники прямого кодирования OHE**. Но перед этим избавимся от столбцов с фамилиями и customer_id, которые не содержат полезной информации для обучения модели и последующего предсказания, но могут существенно увеличить вес датафрейма при преобразовании с помощью техники OHE."
   ]
  },
  {
   "cell_type": "code",
   "execution_count": 34,
   "metadata": {},
   "outputs": [],
   "source": [
    "# удаление колонок с фамилией и идентификатором клиента\n",
    "df_ohe = df.drop(['surname','customer_id'], axis=1)"
   ]
  },
  {
   "cell_type": "code",
   "execution_count": 35,
   "metadata": {},
   "outputs": [],
   "source": [
    "# преобразование категориальных признаков по полу клиента и стране обслуживания в количественные техникой OHE\n",
    "df_ohe = pd.get_dummies(df_ohe, drop_first = True)"
   ]
  },
  {
   "cell_type": "code",
   "execution_count": 36,
   "metadata": {
    "scrolled": false
   },
   "outputs": [
    {
     "data": {
      "text/html": [
       "<div>\n",
       "<style scoped>\n",
       "    .dataframe tbody tr th:only-of-type {\n",
       "        vertical-align: middle;\n",
       "    }\n",
       "\n",
       "    .dataframe tbody tr th {\n",
       "        vertical-align: top;\n",
       "    }\n",
       "\n",
       "    .dataframe thead th {\n",
       "        text-align: right;\n",
       "    }\n",
       "</style>\n",
       "<table border=\"1\" class=\"dataframe\">\n",
       "  <thead>\n",
       "    <tr style=\"text-align: right;\">\n",
       "      <th></th>\n",
       "      <th>credit_score</th>\n",
       "      <th>age</th>\n",
       "      <th>tenure</th>\n",
       "      <th>balance</th>\n",
       "      <th>num_of_products</th>\n",
       "      <th>has_cr_card</th>\n",
       "      <th>is_active_member</th>\n",
       "      <th>estimated_salary</th>\n",
       "      <th>exited</th>\n",
       "      <th>geography_Germany</th>\n",
       "      <th>geography_Spain</th>\n",
       "      <th>gender_Male</th>\n",
       "    </tr>\n",
       "  </thead>\n",
       "  <tbody>\n",
       "    <tr>\n",
       "      <th>0</th>\n",
       "      <td>619</td>\n",
       "      <td>42</td>\n",
       "      <td>2.0</td>\n",
       "      <td>0.000000</td>\n",
       "      <td>1</td>\n",
       "      <td>1</td>\n",
       "      <td>1</td>\n",
       "      <td>101348.882812</td>\n",
       "      <td>1</td>\n",
       "      <td>0</td>\n",
       "      <td>0</td>\n",
       "      <td>0</td>\n",
       "    </tr>\n",
       "    <tr>\n",
       "      <th>1</th>\n",
       "      <td>608</td>\n",
       "      <td>41</td>\n",
       "      <td>1.0</td>\n",
       "      <td>83807.859375</td>\n",
       "      <td>1</td>\n",
       "      <td>0</td>\n",
       "      <td>1</td>\n",
       "      <td>112542.578125</td>\n",
       "      <td>0</td>\n",
       "      <td>0</td>\n",
       "      <td>1</td>\n",
       "      <td>0</td>\n",
       "    </tr>\n",
       "    <tr>\n",
       "      <th>2</th>\n",
       "      <td>502</td>\n",
       "      <td>42</td>\n",
       "      <td>8.0</td>\n",
       "      <td>159660.796875</td>\n",
       "      <td>3</td>\n",
       "      <td>1</td>\n",
       "      <td>0</td>\n",
       "      <td>113931.570312</td>\n",
       "      <td>1</td>\n",
       "      <td>0</td>\n",
       "      <td>0</td>\n",
       "      <td>0</td>\n",
       "    </tr>\n",
       "    <tr>\n",
       "      <th>3</th>\n",
       "      <td>699</td>\n",
       "      <td>39</td>\n",
       "      <td>1.0</td>\n",
       "      <td>0.000000</td>\n",
       "      <td>2</td>\n",
       "      <td>0</td>\n",
       "      <td>0</td>\n",
       "      <td>93826.632812</td>\n",
       "      <td>0</td>\n",
       "      <td>0</td>\n",
       "      <td>0</td>\n",
       "      <td>0</td>\n",
       "    </tr>\n",
       "    <tr>\n",
       "      <th>4</th>\n",
       "      <td>850</td>\n",
       "      <td>43</td>\n",
       "      <td>2.0</td>\n",
       "      <td>125510.820312</td>\n",
       "      <td>1</td>\n",
       "      <td>1</td>\n",
       "      <td>1</td>\n",
       "      <td>79084.101562</td>\n",
       "      <td>0</td>\n",
       "      <td>0</td>\n",
       "      <td>1</td>\n",
       "      <td>0</td>\n",
       "    </tr>\n",
       "  </tbody>\n",
       "</table>\n",
       "</div>"
      ],
      "text/plain": [
       "   credit_score  age  tenure        balance  num_of_products  has_cr_card  \\\n",
       "0           619   42     2.0       0.000000                1            1   \n",
       "1           608   41     1.0   83807.859375                1            0   \n",
       "2           502   42     8.0  159660.796875                3            1   \n",
       "3           699   39     1.0       0.000000                2            0   \n",
       "4           850   43     2.0  125510.820312                1            1   \n",
       "\n",
       "   is_active_member  estimated_salary  exited  geography_Germany  \\\n",
       "0                 1     101348.882812       1                  0   \n",
       "1                 1     112542.578125       0                  0   \n",
       "2                 0     113931.570312       1                  0   \n",
       "3                 0      93826.632812       0                  0   \n",
       "4                 1      79084.101562       0                  0   \n",
       "\n",
       "   geography_Spain  gender_Male  \n",
       "0                0            0  \n",
       "1                1            0  \n",
       "2                0            0  \n",
       "3                0            0  \n",
       "4                1            0  "
      ]
     },
     "execution_count": 36,
     "metadata": {},
     "output_type": "execute_result"
    }
   ],
   "source": [
    "# вывод результата\n",
    "df_ohe.head()"
   ]
  },
  {
   "cell_type": "code",
   "execution_count": 37,
   "metadata": {
    "scrolled": true
   },
   "outputs": [
    {
     "name": "stdout",
     "output_type": "stream",
     "text": [
      "<class 'pandas.core.frame.DataFrame'>\n",
      "RangeIndex: 9091 entries, 0 to 9090\n",
      "Data columns (total 12 columns):\n",
      " #   Column             Non-Null Count  Dtype  \n",
      "---  ------             --------------  -----  \n",
      " 0   credit_score       9091 non-null   int32  \n",
      " 1   age                9091 non-null   int32  \n",
      " 2   tenure             9091 non-null   float32\n",
      " 3   balance            9091 non-null   float32\n",
      " 4   num_of_products    9091 non-null   int32  \n",
      " 5   has_cr_card        9091 non-null   int32  \n",
      " 6   is_active_member   9091 non-null   int32  \n",
      " 7   estimated_salary   9091 non-null   float32\n",
      " 8   exited             9091 non-null   int32  \n",
      " 9   geography_Germany  9091 non-null   uint8  \n",
      " 10  geography_Spain    9091 non-null   uint8  \n",
      " 11  gender_Male        9091 non-null   uint8  \n",
      "dtypes: float32(3), int32(6), uint8(3)\n",
      "memory usage: 346.4 KB\n"
     ]
    }
   ],
   "source": [
    "df_ohe.info()"
   ]
  },
  {
   "cell_type": "markdown",
   "metadata": {},
   "source": [
    "Обработка техникой OHE прошла корректно."
   ]
  },
  {
   "cell_type": "markdown",
   "metadata": {},
   "source": [
    "В данном прокте у нас нет дополнительной тестовой выборки, поэтому для обучения и проверки модели разделим исходные данные на признаки и целевой признак для обучающей, валидационной и тестовой выборок в соотношении 3:1:1."
   ]
  },
  {
   "cell_type": "code",
   "execution_count": 38,
   "metadata": {},
   "outputs": [],
   "source": [
    "# разделение признаков и целевого признака на 3 выборки\n",
    "features_train, features_tv, target_train, target_tv = train_test_split(\n",
    "    df_ohe.drop(['exited'], axis=1), df_ohe['exited'], test_size=0.40, random_state = 12345 \n",
    ")\n",
    "features_valid, features_test, target_valid, target_test = train_test_split(\n",
    "    features_tv, target_tv, test_size=0.50, random_state = 12345 \n",
    ")"
   ]
  },
  {
   "cell_type": "markdown",
   "metadata": {},
   "source": [
    "Поскольку в данных присутствуют количественные признаки с разными разбросами значений, во избежание присвоения бОльшего веса \n",
    "признакам с бОльшими значениями и разбросом приведем признаки к одному масштабу с помощью **стандартизации данных**."
   ]
  },
  {
   "cell_type": "code",
   "execution_count": 39,
   "metadata": {
    "scrolled": true
   },
   "outputs": [],
   "source": [
    "# код от предупреждения SettingWithCopy\n",
    "pd.options.mode.chained_assignment = None\n",
    "# формирование списка стобцов и создание структуры для стандартизации\n",
    "numeric=['credit_score', 'age', 'tenure', 'balance', 'num_of_products', 'estimated_salary']\n",
    "scaler = StandardScaler()\n",
    "# настройка стандартизации на обучающих данных\n",
    "scaler.fit(features_train[numeric]) \n",
    "# стандартизация выборок для обучения, валидации и тестирования\n",
    "features_train[numeric] = scaler.transform(features_train[numeric])\n",
    "features_valid[numeric] = scaler.transform(features_valid[numeric])\n",
    "features_test[numeric] = scaler.transform(features_test[numeric])"
   ]
  },
  {
   "cell_type": "markdown",
   "metadata": {},
   "source": [
    "Оценим размер получившихся выборок."
   ]
  },
  {
   "cell_type": "code",
   "execution_count": 40,
   "metadata": {
    "scrolled": false
   },
   "outputs": [
    {
     "data": {
      "text/plain": [
       "(5454, 11)"
      ]
     },
     "execution_count": 40,
     "metadata": {},
     "output_type": "execute_result"
    }
   ],
   "source": [
    "# вывод размера выборки\n",
    "features_train.shape"
   ]
  },
  {
   "cell_type": "code",
   "execution_count": 41,
   "metadata": {},
   "outputs": [
    {
     "data": {
      "text/plain": [
       "(5454,)"
      ]
     },
     "execution_count": 41,
     "metadata": {},
     "output_type": "execute_result"
    }
   ],
   "source": [
    "# вывод размера выборки\n",
    "target_train.shape"
   ]
  },
  {
   "cell_type": "code",
   "execution_count": 42,
   "metadata": {},
   "outputs": [
    {
     "data": {
      "text/plain": [
       "(1818, 11)"
      ]
     },
     "execution_count": 42,
     "metadata": {},
     "output_type": "execute_result"
    }
   ],
   "source": [
    "# вывод размера выборки\n",
    "features_valid.shape"
   ]
  },
  {
   "cell_type": "code",
   "execution_count": 43,
   "metadata": {},
   "outputs": [
    {
     "data": {
      "text/plain": [
       "(1818,)"
      ]
     },
     "execution_count": 43,
     "metadata": {},
     "output_type": "execute_result"
    }
   ],
   "source": [
    "# вывод размера выборки\n",
    "target_valid.shape"
   ]
  },
  {
   "cell_type": "code",
   "execution_count": 44,
   "metadata": {},
   "outputs": [
    {
     "data": {
      "text/plain": [
       "(1819, 11)"
      ]
     },
     "execution_count": 44,
     "metadata": {},
     "output_type": "execute_result"
    }
   ],
   "source": [
    "# вывод размера выборки\n",
    "features_test.shape"
   ]
  },
  {
   "cell_type": "code",
   "execution_count": 45,
   "metadata": {},
   "outputs": [
    {
     "data": {
      "text/plain": [
       "(1819,)"
      ]
     },
     "execution_count": 45,
     "metadata": {},
     "output_type": "execute_result"
    }
   ],
   "source": [
    "# вывод размера выборки\n",
    "target_test.shape"
   ]
  },
  {
   "cell_type": "markdown",
   "metadata": {},
   "source": [
    "Выделение выборок прошло корректно."
   ]
  },
  {
   "cell_type": "markdown",
   "metadata": {},
   "source": [
    "**Модель Дерево решений**"
   ]
  },
  {
   "cell_type": "markdown",
   "metadata": {},
   "source": [
    "Создадим цикл, который создаст и обучит модель на данных обучающей выборки, перебрав различные варианты глубины дерева решений от 1 до 10, и на основе максимального значения F1-score на данных валидационной выборки определит модель с оптимальной глубиной дерева."
   ]
  },
  {
   "cell_type": "code",
   "execution_count": 46,
   "metadata": {},
   "outputs": [
    {
     "name": "stdout",
     "output_type": "stream",
     "text": [
      "F1-score: 0.5764331210191083 Глубина дерева: 7\n"
     ]
    }
   ],
   "source": [
    "# создание цикла для определения лучшей модели\n",
    "best_model = None\n",
    "best_result = 0\n",
    "best_depth = 0\n",
    "for depth in range(1, 11):\n",
    "    model_tree = DecisionTreeClassifier(random_state=12345, max_depth=depth)\n",
    "    model_tree.fit(features_train, target_train)\n",
    "    predictions_tree_valid = model_tree.predict(features_valid)\n",
    "    result_tree_valid = f1_score(target_valid, predictions_tree_valid)\n",
    "    if result_tree_valid > best_result:\n",
    "        best_model = model_tree\n",
    "        best_result = result_tree_valid\n",
    "        best_depth = depth\n",
    "        \n",
    "print(\"F1-score:\", best_result, \"Глубина дерева:\", best_depth)"
   ]
  },
  {
   "cell_type": "markdown",
   "metadata": {},
   "source": [
    "**Модель Случайный лес**"
   ]
  },
  {
   "cell_type": "markdown",
   "metadata": {},
   "source": [
    "Создадим цикл, который создаст и обучит модель на данных обучающей выборки, перебрав различные варианты количества оценщиков от 1 до 50, и на основе максимального значения F1-score на данных валидационной выборки определит модель с оптимальным количеством оценщиков."
   ]
  },
  {
   "cell_type": "code",
   "execution_count": 47,
   "metadata": {
    "scrolled": false
   },
   "outputs": [
    {
     "name": "stdout",
     "output_type": "stream",
     "text": [
      "F1-score: 0.60625 Количество оценщиков: 13\n"
     ]
    }
   ],
   "source": [
    "# создание цикла для определения лучшей модели\n",
    "best_model = None\n",
    "best_result = 0\n",
    "best_est = 0\n",
    "for est in range(1, 51):\n",
    "    model_forest = RandomForestClassifier(random_state=12345, n_estimators=est)\n",
    "    model_forest.fit(features_train, target_train)\n",
    "    predictions_forest_valid = model_forest.predict(features_valid)\n",
    "    result_forest_valid = f1_score(target_valid, predictions_forest_valid)\n",
    "    if result_forest_valid > best_result:\n",
    "        best_model = model_forest\n",
    "        best_result = result_forest_valid\n",
    "        best_est = est\n",
    "\n",
    "print(\"F1-score:\", best_result, \"Количество оценщиков:\", best_est)"
   ]
  },
  {
   "cell_type": "markdown",
   "metadata": {},
   "source": [
    "**Модель логистической регрессии**"
   ]
  },
  {
   "cell_type": "markdown",
   "metadata": {},
   "source": [
    "Создадим модель логистической регрессии и оценим точность ее предсказания."
   ]
  },
  {
   "cell_type": "code",
   "execution_count": 48,
   "metadata": {},
   "outputs": [],
   "source": [
    "# создание модели\n",
    "model_regression = LogisticRegression(random_state=12345, solver='lbfgs', max_iter=1000)"
   ]
  },
  {
   "cell_type": "code",
   "execution_count": 49,
   "metadata": {
    "scrolled": true
   },
   "outputs": [
    {
     "name": "stdout",
     "output_type": "stream",
     "text": [
      "F1-score: 0.30400000000000005\n"
     ]
    }
   ],
   "source": [
    "# обучение модели на обучающей выборке и оценка F1-score на валидационной выборке\n",
    "model_regression.fit(features_train, target_train)\n",
    "predictions_regression_valid = model_regression.predict(features_valid)\n",
    "result_regression_valid = f1_score(target_valid, predictions_regression_valid)\n",
    "print(\"F1-score:\", result_regression_valid)"
   ]
  },
  {
   "cell_type": "markdown",
   "metadata": {},
   "source": [
    "**Полнота и точность для модели \"Случайный лес\" при 13 оценщиках**"
   ]
  },
  {
   "cell_type": "markdown",
   "metadata": {},
   "source": [
    "Оценим метрики качества прогнозирования для модели с лучшим результатом по F1- мере (\"Случайный лес\" при 13 оценщиках, 0.60625)."
   ]
  },
  {
   "cell_type": "code",
   "execution_count": 50,
   "metadata": {
    "scrolled": true
   },
   "outputs": [
    {
     "name": "stdout",
     "output_type": "stream",
     "text": [
      "Полнота: 0.5145888594164456\n",
      "Точность: 0.7376425855513308\n"
     ]
    }
   ],
   "source": [
    "# прогнозирование модели и оценка метрик качества сделанного ею прогноза\n",
    "model_forest = RandomForestClassifier(random_state=12345, n_estimators=13)\n",
    "model_forest.fit(features_train, target_train)\n",
    "predicted_valid = model_forest.predict(features_valid)\n",
    "print('Полнота:', recall_score(target_valid, predicted_valid))\n",
    "print('Точность:', precision_score(target_valid, predicted_valid))"
   ]
  },
  {
   "cell_type": "markdown",
   "metadata": {},
   "source": [
    "**ROC-кривая и метрика AUC-ROC**"
   ]
  },
  {
   "cell_type": "markdown",
   "metadata": {},
   "source": [
    "Для оценки качества предсказаний также построим ROC-кривую, или кривую ошибок, и оценим площадь под ней (метрику AUC-ROC)."
   ]
  },
  {
   "cell_type": "markdown",
   "metadata": {},
   "source": [
    "Для построения **ROC-кривой** вычислим вероятности положительных классов."
   ]
  },
  {
   "cell_type": "code",
   "execution_count": 51,
   "metadata": {},
   "outputs": [],
   "source": [
    "# вычисление вероятностей обоих классов\n",
    "probabilities_valid = model_forest.predict_proba(features_valid)"
   ]
  },
  {
   "cell_type": "code",
   "execution_count": 52,
   "metadata": {},
   "outputs": [
    {
     "data": {
      "text/plain": [
       "array([0.53846154, 0.        , 0.69230769, ..., 0.23076923, 0.15384615,\n",
       "       0.38461538])"
      ]
     },
     "execution_count": 52,
     "metadata": {},
     "output_type": "execute_result"
    }
   ],
   "source": [
    "# формирование Series с вероятностями только положительного класса\n",
    "probabilities_one_valid = probabilities_valid[:, 1]\n",
    "probabilities_one_valid"
   ]
  },
  {
   "cell_type": "markdown",
   "metadata": {},
   "source": [
    "Построим график ROC-кривой."
   ]
  },
  {
   "cell_type": "code",
   "execution_count": 53,
   "metadata": {
    "scrolled": true
   },
   "outputs": [
    {
     "data": {
      "image/png": "[encoded data removed]",
      "text/plain": [
       "<Figure size 432x288 with 1 Axes>"
      ]
     },
     "metadata": {
      "needs_background": "light"
     },
     "output_type": "display_data"
    }
   ],
   "source": [
    "# расчет значений fpr, tpr, thresholds для построения кривой\n",
    "fpr, tpr, thresholds = roc_curve(target_valid, probabilities_one_valid)\n",
    "# расчет значения AUC-ROC \n",
    "roc_auc = metrics.auc(fpr, tpr)\n",
    "# построение ROC-кривой\n",
    "plt.title('Receiver Operating Characteristic')\n",
    "plt.plot(fpr, tpr, 'b', label = 'AUC = %0.2f' % roc_auc)\n",
    "plt.legend(loc = 'lower right')\n",
    "plt.plot([0, 1], [0, 1],'r--')\n",
    "plt.xlim([0, 1])\n",
    "plt.ylim([0, 1])\n",
    "plt.ylabel('True Positive Rate')\n",
    "plt.xlabel('False Positive Rate')\n",
    "plt.show()"
   ]
  },
  {
   "cell_type": "markdown",
   "metadata": {},
   "source": [
    "Значение метрики качества классификации **AUC-ROC** равно площади под ROC-кривой. Значения метрики изменяются от\n",
    "0 до 1. AUC-ROC случайной модели равна 0.5"
   ]
  },
  {
   "cell_type": "code",
   "execution_count": 54,
   "metadata": {
    "scrolled": false
   },
   "outputs": [
    {
     "data": {
      "text/plain": [
       "0.8378704738273045"
      ]
     },
     "execution_count": 54,
     "metadata": {},
     "output_type": "execute_result"
    }
   ],
   "source": [
    "# вычисление площади под ROC-кривой\n",
    "auc_roc = roc_auc_score(target_valid, probabilities_one_valid)\n",
    "auc_roc"
   ]
  },
  {
   "cell_type": "markdown",
   "metadata": {},
   "source": [
    "Значение метрики AUC-ROC для нашей модели равно 0.84, что неплохо, но не достигает значения в 0.9."
   ]
  },
  {
   "cell_type": "markdown",
   "metadata": {},
   "source": [
    "<div style=\"border:solid blue 2px; padding: 20px\"> \n",
    "\n",
    "**Вывод** \n",
    "    \n",
    "Проведена оценка баланса классов в выборке: выборка несбалансированная, класс действующих клиентов в 4 раза больше класса ушедших клиентов.\n",
    "    \n",
    "Проведена работа с несбалансированной выборкой:\n",
    "\n",
    "1. Произведено преобразование категориальных признаков, несущих полезную для работы модели информации, в численные с помощью техники OHE (колонки geography и gender).\n",
    "    \n",
    "2. Признаки и целевой признак разделены в пропорции 60% / 20% / 20% на обучающую, валидационную и тестовую выборки.\n",
    "    \n",
    "3. Проведено обучение на обучающей выборке и оценка F1-score на валидационной выборке для 3 моделей с различными гиперпараметрами (Решающее дерево, Случайный лес, Логистическая регрессия); наилучший результат показала модель Случайный лес с 13 оценщиками (F1-score 0.61).\n",
    "    \n",
    "4. Проведена оценка других метрик качества на валидационной выборке для этой модели: Полнота: 0.51, Точность: 0.74\n",
    "    \n",
    "5. Также для этой модели на валидационной выборке построена ROC-кривая и оценена метрика AUC-ROC (0.84).\n",
    "\n",
    " \n",
    "</div>"
   ]
  },
  {
   "cell_type": "markdown",
   "metadata": {},
   "source": [
    "## Борьба с дисбалансом"
   ]
  },
  {
   "cell_type": "markdown",
   "metadata": {},
   "source": [
    "**Техника upsampling**"
   ]
  },
  {
   "cell_type": "markdown",
   "metadata": {},
   "source": [
    "Проведем работу по обучению, выбору и оценке модели с учетом несбалансированности выборки. Для этого сбалансируем классы путём увеличения числа малочисленных признаков с помощью техники upsampling. Для проведения работ используем уже предобработанные выборки признаков и целевых признаков датасета df_ohe из предыдущего шага."
   ]
  },
  {
   "cell_type": "markdown",
   "metadata": {},
   "source": [
    "Разедлим обучающую выборку на отрицательные и положительные объекты."
   ]
  },
  {
   "cell_type": "code",
   "execution_count": 55,
   "metadata": {},
   "outputs": [],
   "source": [
    "# разделение признаков и целевого признака обучающей выборки на положительные и отрицательные объекты\n",
    "features_zeros = features_train[target_train == 0]\n",
    "features_ones = features_train[target_train == 1]\n",
    "target_zeros = target_train[target_train == 0]\n",
    "target_ones = target_train[target_train == 1]"
   ]
  },
  {
   "cell_type": "markdown",
   "metadata": {},
   "source": [
    "Оценим размеры положительных и отрицательных классов в обучающей выборке."
   ]
  },
  {
   "cell_type": "code",
   "execution_count": 56,
   "metadata": {
    "scrolled": true
   },
   "outputs": [
    {
     "data": {
      "text/plain": [
       "(4328, 11)"
      ]
     },
     "metadata": {},
     "output_type": "display_data"
    },
    {
     "data": {
      "text/plain": [
       "(1126, 11)"
      ]
     },
     "metadata": {},
     "output_type": "display_data"
    },
    {
     "data": {
      "text/plain": [
       "(4328,)"
      ]
     },
     "metadata": {},
     "output_type": "display_data"
    },
    {
     "data": {
      "text/plain": [
       "(1126,)"
      ]
     },
     "metadata": {},
     "output_type": "display_data"
    }
   ],
   "source": [
    "# оценка размеров классов\n",
    "display(features_zeros.shape)\n",
    "display(features_ones.shape)\n",
    "display(target_zeros.shape)\n",
    "display(target_ones.shape)"
   ]
  },
  {
   "cell_type": "markdown",
   "metadata": {},
   "source": [
    "Объектов класса \"1\" в 4 раза меньше, чем объектов класса \"0\". Исправим это увеличением объектов класса \"1\" в выборке.\n",
    "\n",
    "Создадим функцию для увеличения класса в выборке и перемешивания получившегося результата."
   ]
  },
  {
   "cell_type": "code",
   "execution_count": 57,
   "metadata": {},
   "outputs": [],
   "source": [
    "# создание функции\n",
    "def upsample(features, target, repeat):\n",
    "    repeat = repeat\n",
    "    features_zeros = features_train[target_train == 0]\n",
    "    features_ones = features_train[target_train == 1]\n",
    "    target_zeros = target_train[target_train == 0]\n",
    "    target_ones = target_train[target_train == 1]\n",
    "    features_upsampled = pd.concat([features_zeros] + [features_ones] * repeat)\n",
    "    target_upsampled = pd.concat([target_zeros] + [target_ones] * repeat)\n",
    "    result = shuffle(features_upsampled, target_upsampled, random_state=12345)\n",
    "    return result"
   ]
  },
  {
   "cell_type": "code",
   "execution_count": 58,
   "metadata": {
    "scrolled": true
   },
   "outputs": [],
   "source": [
    "# применение функции к нашим выборкам\n",
    "features_upsampled, target_upsampled = upsample(features_train, target_train, 4)"
   ]
  },
  {
   "cell_type": "code",
   "execution_count": 59,
   "metadata": {},
   "outputs": [
    {
     "data": {
      "text/html": [
       "<div>\n",
       "<style scoped>\n",
       "    .dataframe tbody tr th:only-of-type {\n",
       "        vertical-align: middle;\n",
       "    }\n",
       "\n",
       "    .dataframe tbody tr th {\n",
       "        vertical-align: top;\n",
       "    }\n",
       "\n",
       "    .dataframe thead th {\n",
       "        text-align: right;\n",
       "    }\n",
       "</style>\n",
       "<table border=\"1\" class=\"dataframe\">\n",
       "  <thead>\n",
       "    <tr style=\"text-align: right;\">\n",
       "      <th></th>\n",
       "      <th>credit_score</th>\n",
       "      <th>age</th>\n",
       "      <th>tenure</th>\n",
       "      <th>balance</th>\n",
       "      <th>num_of_products</th>\n",
       "      <th>has_cr_card</th>\n",
       "      <th>is_active_member</th>\n",
       "      <th>estimated_salary</th>\n",
       "      <th>geography_Germany</th>\n",
       "      <th>geography_Spain</th>\n",
       "      <th>gender_Male</th>\n",
       "    </tr>\n",
       "  </thead>\n",
       "  <tbody>\n",
       "    <tr>\n",
       "      <th>8483</th>\n",
       "      <td>0.809075</td>\n",
       "      <td>-1.039327</td>\n",
       "      <td>-1.025995</td>\n",
       "      <td>0.554904</td>\n",
       "      <td>-0.908179</td>\n",
       "      <td>1</td>\n",
       "      <td>0</td>\n",
       "      <td>0.019508</td>\n",
       "      <td>0</td>\n",
       "      <td>0</td>\n",
       "      <td>0</td>\n",
       "    </tr>\n",
       "    <tr>\n",
       "      <th>3431</th>\n",
       "      <td>-1.152518</td>\n",
       "      <td>-1.227561</td>\n",
       "      <td>0.696524</td>\n",
       "      <td>0.480609</td>\n",
       "      <td>-0.908179</td>\n",
       "      <td>0</td>\n",
       "      <td>0</td>\n",
       "      <td>0.056167</td>\n",
       "      <td>0</td>\n",
       "      <td>0</td>\n",
       "      <td>1</td>\n",
       "    </tr>\n",
       "    <tr>\n",
       "      <th>6770</th>\n",
       "      <td>-0.398853</td>\n",
       "      <td>0.090079</td>\n",
       "      <td>1.385532</td>\n",
       "      <td>-1.237830</td>\n",
       "      <td>-0.908179</td>\n",
       "      <td>1</td>\n",
       "      <td>1</td>\n",
       "      <td>0.848739</td>\n",
       "      <td>0</td>\n",
       "      <td>0</td>\n",
       "      <td>1</td>\n",
       "    </tr>\n",
       "    <tr>\n",
       "      <th>1350</th>\n",
       "      <td>-0.749875</td>\n",
       "      <td>-0.286389</td>\n",
       "      <td>0.352020</td>\n",
       "      <td>-1.237830</td>\n",
       "      <td>0.809300</td>\n",
       "      <td>1</td>\n",
       "      <td>1</td>\n",
       "      <td>-0.894953</td>\n",
       "      <td>0</td>\n",
       "      <td>0</td>\n",
       "      <td>1</td>\n",
       "    </tr>\n",
       "    <tr>\n",
       "      <th>4047</th>\n",
       "      <td>-1.028628</td>\n",
       "      <td>-0.756975</td>\n",
       "      <td>-0.336987</td>\n",
       "      <td>-1.237830</td>\n",
       "      <td>0.809300</td>\n",
       "      <td>0</td>\n",
       "      <td>1</td>\n",
       "      <td>-1.284516</td>\n",
       "      <td>0</td>\n",
       "      <td>0</td>\n",
       "      <td>1</td>\n",
       "    </tr>\n",
       "    <tr>\n",
       "      <th>...</th>\n",
       "      <td>...</td>\n",
       "      <td>...</td>\n",
       "      <td>...</td>\n",
       "      <td>...</td>\n",
       "      <td>...</td>\n",
       "      <td>...</td>\n",
       "      <td>...</td>\n",
       "      <td>...</td>\n",
       "      <td>...</td>\n",
       "      <td>...</td>\n",
       "      <td>...</td>\n",
       "    </tr>\n",
       "    <tr>\n",
       "      <th>7709</th>\n",
       "      <td>-1.307381</td>\n",
       "      <td>0.184196</td>\n",
       "      <td>0.696524</td>\n",
       "      <td>-1.237830</td>\n",
       "      <td>0.809300</td>\n",
       "      <td>0</td>\n",
       "      <td>1</td>\n",
       "      <td>1.316608</td>\n",
       "      <td>0</td>\n",
       "      <td>0</td>\n",
       "      <td>0</td>\n",
       "    </tr>\n",
       "    <tr>\n",
       "      <th>546</th>\n",
       "      <td>-1.586134</td>\n",
       "      <td>-0.851092</td>\n",
       "      <td>1.730036</td>\n",
       "      <td>0.857870</td>\n",
       "      <td>-0.908179</td>\n",
       "      <td>0</td>\n",
       "      <td>0</td>\n",
       "      <td>1.247218</td>\n",
       "      <td>0</td>\n",
       "      <td>0</td>\n",
       "      <td>1</td>\n",
       "    </tr>\n",
       "    <tr>\n",
       "      <th>4478</th>\n",
       "      <td>1.283988</td>\n",
       "      <td>-0.474624</td>\n",
       "      <td>1.730036</td>\n",
       "      <td>0.813031</td>\n",
       "      <td>-0.908179</td>\n",
       "      <td>0</td>\n",
       "      <td>0</td>\n",
       "      <td>-1.092767</td>\n",
       "      <td>1</td>\n",
       "      <td>0</td>\n",
       "      <td>1</td>\n",
       "    </tr>\n",
       "    <tr>\n",
       "      <th>3492</th>\n",
       "      <td>-1.049276</td>\n",
       "      <td>-0.945210</td>\n",
       "      <td>0.352020</td>\n",
       "      <td>0.449165</td>\n",
       "      <td>-0.908179</td>\n",
       "      <td>1</td>\n",
       "      <td>1</td>\n",
       "      <td>-1.086965</td>\n",
       "      <td>0</td>\n",
       "      <td>0</td>\n",
       "      <td>0</td>\n",
       "    </tr>\n",
       "    <tr>\n",
       "      <th>4578</th>\n",
       "      <td>1.222043</td>\n",
       "      <td>-1.509912</td>\n",
       "      <td>-1.025995</td>\n",
       "      <td>1.015938</td>\n",
       "      <td>-0.908179</td>\n",
       "      <td>0</td>\n",
       "      <td>1</td>\n",
       "      <td>-1.244002</td>\n",
       "      <td>1</td>\n",
       "      <td>0</td>\n",
       "      <td>1</td>\n",
       "    </tr>\n",
       "  </tbody>\n",
       "</table>\n",
       "<p>4328 rows × 11 columns</p>\n",
       "</div>"
      ],
      "text/plain": [
       "      credit_score       age    tenure   balance  num_of_products  \\\n",
       "8483      0.809075 -1.039327 -1.025995  0.554904        -0.908179   \n",
       "3431     -1.152518 -1.227561  0.696524  0.480609        -0.908179   \n",
       "6770     -0.398853  0.090079  1.385532 -1.237830        -0.908179   \n",
       "1350     -0.749875 -0.286389  0.352020 -1.237830         0.809300   \n",
       "4047     -1.028628 -0.756975 -0.336987 -1.237830         0.809300   \n",
       "...            ...       ...       ...       ...              ...   \n",
       "7709     -1.307381  0.184196  0.696524 -1.237830         0.809300   \n",
       "546      -1.586134 -0.851092  1.730036  0.857870        -0.908179   \n",
       "4478      1.283988 -0.474624  1.730036  0.813031        -0.908179   \n",
       "3492     -1.049276 -0.945210  0.352020  0.449165        -0.908179   \n",
       "4578      1.222043 -1.509912 -1.025995  1.015938        -0.908179   \n",
       "\n",
       "      has_cr_card  is_active_member  estimated_salary  geography_Germany  \\\n",
       "8483            1                 0          0.019508                  0   \n",
       "3431            0                 0          0.056167                  0   \n",
       "6770            1                 1          0.848739                  0   \n",
       "1350            1                 1         -0.894953                  0   \n",
       "4047            0                 1         -1.284516                  0   \n",
       "...           ...               ...               ...                ...   \n",
       "7709            0                 1          1.316608                  0   \n",
       "546             0                 0          1.247218                  0   \n",
       "4478            0                 0         -1.092767                  1   \n",
       "3492            1                 1         -1.086965                  0   \n",
       "4578            0                 1         -1.244002                  1   \n",
       "\n",
       "      geography_Spain  gender_Male  \n",
       "8483                0            0  \n",
       "3431                0            1  \n",
       "6770                0            1  \n",
       "1350                0            1  \n",
       "4047                0            1  \n",
       "...               ...          ...  \n",
       "7709                0            0  \n",
       "546                 0            1  \n",
       "4478                0            1  \n",
       "3492                0            0  \n",
       "4578                0            1  \n",
       "\n",
       "[4328 rows x 11 columns]"
      ]
     },
     "execution_count": 59,
     "metadata": {},
     "output_type": "execute_result"
    }
   ],
   "source": [
    "features_zeros"
   ]
  },
  {
   "cell_type": "markdown",
   "metadata": {},
   "source": [
    "Оценим размеры положительных и отрицательных классов в обучающей выборке после проведенного преобразования."
   ]
  },
  {
   "cell_type": "code",
   "execution_count": 60,
   "metadata": {
    "scrolled": true
   },
   "outputs": [],
   "source": [
    "# разделение признаков и целевого признака преобразованной обучающей выборки на положительные и отрицательные объекты\n",
    "features_upsampled_zeros = features_upsampled[target_upsampled == 0]\n",
    "features_upsampled_ones = features_upsampled[target_upsampled == 1]\n",
    "target_upsampled_zeros = target_upsampled[target_upsampled == 0]\n",
    "target_upsampled_ones = target_upsampled[target_upsampled == 1]"
   ]
  },
  {
   "cell_type": "code",
   "execution_count": 61,
   "metadata": {},
   "outputs": [
    {
     "data": {
      "text/plain": [
       "(4328, 11)"
      ]
     },
     "metadata": {},
     "output_type": "display_data"
    },
    {
     "data": {
      "text/plain": [
       "(4504, 11)"
      ]
     },
     "metadata": {},
     "output_type": "display_data"
    },
    {
     "data": {
      "text/plain": [
       "(4328,)"
      ]
     },
     "metadata": {},
     "output_type": "display_data"
    },
    {
     "data": {
      "text/plain": [
       "(4504,)"
      ]
     },
     "metadata": {},
     "output_type": "display_data"
    }
   ],
   "source": [
    "# оценка размеров получившихся классов\n",
    "display(features_upsampled_zeros.shape)\n",
    "display(features_upsampled_ones.shape)\n",
    "display(target_upsampled_zeros.shape)\n",
    "display(target_upsampled_ones.shape)"
   ]
  },
  {
   "cell_type": "markdown",
   "metadata": {},
   "source": [
    "Преобразование проведено успешно, новые выборки практически равны."
   ]
  },
  {
   "cell_type": "markdown",
   "metadata": {},
   "source": [
    "Проведем обучение и выбор модели с наибольшей accuracy на преобразованной выборке."
   ]
  },
  {
   "cell_type": "markdown",
   "metadata": {},
   "source": [
    "**Модель Дерево решений с upsampling**"
   ]
  },
  {
   "cell_type": "markdown",
   "metadata": {},
   "source": [
    "Создадим цикл, который создаст и обучит модель на данных преобразованной обучающей выборки, перебрав различные варианты глубины дерева решений от 1 до 10, и на основе максимального значения F1-score на данных валидационной выборки определит модель с оптимальной глубиной дерева."
   ]
  },
  {
   "cell_type": "code",
   "execution_count": 62,
   "metadata": {},
   "outputs": [
    {
     "name": "stdout",
     "output_type": "stream",
     "text": [
      "F1-score: 0.5735449735449736 Глубина дерева: 5\n"
     ]
    }
   ],
   "source": [
    "# создание цикла для определения лучшей модели\n",
    "best_model = None\n",
    "best_result = 0\n",
    "best_depth = 0\n",
    "for depth in range(1, 11):\n",
    "    model_tree = DecisionTreeClassifier(random_state=12345, max_depth=depth)\n",
    "    model_tree.fit(features_upsampled, target_upsampled)\n",
    "    predictions_tree_valid = model_tree.predict(features_valid)\n",
    "    result_tree_valid = f1_score(target_valid, predictions_tree_valid)\n",
    "    if result_tree_valid > best_result:\n",
    "        best_model = model_tree\n",
    "        best_result = result_tree_valid\n",
    "        best_depth = depth\n",
    "        \n",
    "print(\"F1-score:\", best_result, \"Глубина дерева:\", best_depth)"
   ]
  },
  {
   "cell_type": "markdown",
   "metadata": {},
   "source": [
    "**Модель Случайный лес с upsampling**"
   ]
  },
  {
   "cell_type": "markdown",
   "metadata": {},
   "source": [
    "Создадим цикл, который создаст и обучит модель на данных преобразованной обучающей выборки, перебрав различные варианты количества оценщиков от 1 до 50, и на основе максимального значения F1-score на данных валидационной выборки определит модель с оптимальным количеством оценщиков."
   ]
  },
  {
   "cell_type": "code",
   "execution_count": 63,
   "metadata": {},
   "outputs": [
    {
     "name": "stdout",
     "output_type": "stream",
     "text": [
      "F1-score: 0.6142649199417758 Количество оценщиков: 47\n"
     ]
    }
   ],
   "source": [
    "# создание цикла для определения лучшей модели\n",
    "best_model = None\n",
    "best_result = 0\n",
    "best_est = 0\n",
    "for est in range(1, 51):\n",
    "    model_forest = RandomForestClassifier(random_state=12345, n_estimators=est)\n",
    "    model_forest.fit(features_upsampled, target_upsampled)\n",
    "    predictions_forest_valid = model_forest.predict(features_valid)\n",
    "    result_forest_valid = f1_score(target_valid, predictions_forest_valid)\n",
    "    if result_forest_valid > best_result:\n",
    "        best_model = model_forest\n",
    "        best_result = result_forest_valid\n",
    "        best_est = est\n",
    "\n",
    "print(\"F1-score:\", best_result, \"Количество оценщиков:\", best_est)"
   ]
  },
  {
   "cell_type": "markdown",
   "metadata": {},
   "source": [
    "**Модель логистической регрессии с upsampling**"
   ]
  },
  {
   "cell_type": "markdown",
   "metadata": {},
   "source": [
    "Создадим модель логистической регрессии и оценим точность ее предсказания."
   ]
  },
  {
   "cell_type": "code",
   "execution_count": 64,
   "metadata": {},
   "outputs": [],
   "source": [
    "# создание модели\n",
    "model_regression = LogisticRegression(random_state=12345, solver='lbfgs', max_iter=1000)"
   ]
  },
  {
   "cell_type": "code",
   "execution_count": 65,
   "metadata": {},
   "outputs": [
    {
     "name": "stdout",
     "output_type": "stream",
     "text": [
      "F1-score: 0.30400000000000005\n"
     ]
    }
   ],
   "source": [
    "# обучение модели на преобразованной обучающей выборке и оценка F1-score на валидационной выборке\n",
    "model_regression.fit(features_train, target_train)\n",
    "predictions_regression_valid = model_regression.predict(features_valid)\n",
    "result_regression_valid = f1_score(target_valid, predictions_regression_valid)\n",
    "print(\"F1-score:\", result_regression_valid)"
   ]
  },
  {
   "cell_type": "markdown",
   "metadata": {},
   "source": [
    "**Полнота и  точность для модели с наибольшим значением F1-score после upsampling - \"Случайный лес\" при 47 оценщиках**"
   ]
  },
  {
   "cell_type": "markdown",
   "metadata": {},
   "source": [
    "Оценим метрики качества прогнозирования для модели с лучшим результатом по F1-score (\"Случайный лес\" при 47 оценщиках, 0.61)."
   ]
  },
  {
   "cell_type": "code",
   "execution_count": 66,
   "metadata": {},
   "outputs": [
    {
     "name": "stdout",
     "output_type": "stream",
     "text": [
      "Полнота: 0.5596816976127321\n",
      "Точность: 0.6806451612903226\n"
     ]
    }
   ],
   "source": [
    "# прогнозирование модели и оценка метрик качества сделанного ею прогноза\n",
    "model_forest = RandomForestClassifier(random_state=12345, n_estimators=47)\n",
    "model_forest.fit(features_upsampled, target_upsampled)\n",
    "predicted_valid = model_forest.predict(features_valid)\n",
    "print('Полнота:', recall_score(target_valid, predicted_valid))\n",
    "print('Точность:', precision_score(target_valid, predicted_valid))"
   ]
  },
  {
   "cell_type": "markdown",
   "metadata": {},
   "source": [
    "**Взвешивание классов**"
   ]
  },
  {
   "cell_type": "markdown",
   "metadata": {},
   "source": [
    "Попробуем применить взвешивание классов в качестве инструмента балансировки выборки и обучить модели с его учетом."
   ]
  },
  {
   "cell_type": "markdown",
   "metadata": {},
   "source": [
    "**Модель Дерево решений со взвешиванием**"
   ]
  },
  {
   "cell_type": "code",
   "execution_count": 67,
   "metadata": {},
   "outputs": [
    {
     "name": "stdout",
     "output_type": "stream",
     "text": [
      "F1-score: 0.5735449735449736 Глубина дерева: 5\n"
     ]
    }
   ],
   "source": [
    "# создание цикла для определения лучшей модели со взвешиванием классов\n",
    "best_model = None\n",
    "best_result = 0\n",
    "best_depth = 0\n",
    "for depth in range(1, 11):\n",
    "    model_tree_w = DecisionTreeClassifier(class_weight='balanced', random_state=12345, max_depth=depth)\n",
    "    model_tree_w.fit(features_train, target_train)\n",
    "    predictions_tree_valid = model_tree_w.predict(features_valid)\n",
    "    result_tree_valid = f1_score(target_valid, predictions_tree_valid)\n",
    "    if result_tree_valid > best_result:\n",
    "        best_model = model_tree\n",
    "        best_result = result_tree_valid\n",
    "        best_depth = depth\n",
    "        \n",
    "print(\"F1-score:\", best_result, \"Глубина дерева:\", best_depth)"
   ]
  },
  {
   "cell_type": "markdown",
   "metadata": {},
   "source": [
    "**Модель Случайный лес со взвешиванием**"
   ]
  },
  {
   "cell_type": "code",
   "execution_count": 68,
   "metadata": {},
   "outputs": [
    {
     "name": "stdout",
     "output_type": "stream",
     "text": [
      "F1-score: 0.5790349417637272 Количество оценщиков: 47\n"
     ]
    }
   ],
   "source": [
    "# создание цикла для определения лучшей модели со взвешиванием классов\n",
    "best_model = None\n",
    "best_result = 0\n",
    "best_est = 0\n",
    "for est in range(1, 51):\n",
    "    model_forest_w = RandomForestClassifier(class_weight='balanced', random_state=12345, n_estimators=est)\n",
    "    model_forest_w.fit(features_train, target_train)\n",
    "    predictions_forest_valid = model_forest_w.predict(features_valid)\n",
    "    result_forest_valid = f1_score(target_valid, predictions_forest_valid)\n",
    "    if result_forest_valid > best_result:\n",
    "        best_model = model_forest\n",
    "        best_result = result_forest_valid\n",
    "        best_est = est\n",
    "\n",
    "print(\"F1-score:\", best_result, \"Количество оценщиков:\", best_est)"
   ]
  },
  {
   "cell_type": "markdown",
   "metadata": {},
   "source": [
    "**Модель логистической регрессии со взвешиванием**"
   ]
  },
  {
   "cell_type": "code",
   "execution_count": 69,
   "metadata": {},
   "outputs": [],
   "source": [
    "# создание модели со взвешиванием классов\n",
    "model_regression_w = LogisticRegression(class_weight='balanced', random_state=12345, solver='lbfgs', max_iter=1000)"
   ]
  },
  {
   "cell_type": "code",
   "execution_count": 70,
   "metadata": {},
   "outputs": [
    {
     "name": "stdout",
     "output_type": "stream",
     "text": [
      "F1-score: 0.509731232622799\n"
     ]
    }
   ],
   "source": [
    "# обучение модели на обучающей выборке и оценка F1-score на валидационной выборке\n",
    "model_regression_w.fit(features_train, target_train)\n",
    "predictions_regression_valid = model_regression_w.predict(features_valid)\n",
    "result_regression_valid = f1_score(target_valid, predictions_regression_valid)\n",
    "print(\"F1-score:\", result_regression_valid)"
   ]
  },
  {
   "cell_type": "markdown",
   "metadata": {},
   "source": [
    "**Полнота и точность для модели с наибольшим значением F1-score после взвешивания классов - \"Случайный лес\" при 47 оценщиках**"
   ]
  },
  {
   "cell_type": "code",
   "execution_count": 71,
   "metadata": {
    "scrolled": true
   },
   "outputs": [
    {
     "name": "stdout",
     "output_type": "stream",
     "text": [
      "Полнота: 0.46153846153846156\n",
      "Точность: 0.7767857142857143\n"
     ]
    }
   ],
   "source": [
    "# прогнозирование модели и оценка метрик качества сделанного ею прогноза\n",
    "model_forest_w = RandomForestClassifier(class_weight='balanced', random_state=12345, n_estimators=47)\n",
    "model_forest_w.fit(features_train, target_train)\n",
    "predicted_valid = model_forest_w.predict(features_valid)\n",
    "print('Полнота:', recall_score(target_valid, predicted_valid))\n",
    "print('Точность:', precision_score(target_valid, predicted_valid))"
   ]
  },
  {
   "cell_type": "markdown",
   "metadata": {},
   "source": [
    "Метрики качества модели \"Случайный лес\" после обучения на преобразованной выборке изменились:\n",
    "\n",
    "|Метрика  |Несбалансир. выборка, 13 оценщиков|Upsampling, 47 оценщиков|Взвешивание, 47 оценщиков|\n",
    "|:-------:|---------------------------------:|-----------------------:|------------------------:|\n",
    "|F1-мера  |0.606                             |0.614                   |0.579                    |\n",
    "|Полнота  |0.514                             |0.559                   |0.461                    | \n",
    "|Точность |0.738                             |0.680                   |0.777                    |\n",
    "\n"
   ]
  },
  {
   "cell_type": "markdown",
   "metadata": {},
   "source": [
    "Наилучший результат по F1-мере модель Случайный лес показывает на сбалансированной с помощью upsampling выборке."
   ]
  },
  {
   "cell_type": "markdown",
   "metadata": {},
   "source": [
    "**ROC-кривая и метрика AUC-ROC для модели Случайный лес на сбалансированной с помощью upsampling выборке**"
   ]
  },
  {
   "cell_type": "markdown",
   "metadata": {},
   "source": [
    "Для оценки качества предсказаний модели, обученной на сбалансированной выборке, также построим ROC-кривую, или кривую ошибок, и оценим площадь под ней (метрику AUC-ROC)."
   ]
  },
  {
   "cell_type": "code",
   "execution_count": 72,
   "metadata": {},
   "outputs": [],
   "source": [
    "model_forest = RandomForestClassifier(random_state=12345, n_estimators=47)\n",
    "model_forest.fit(features_upsampled, target_upsampled)\n",
    "predicted_valid = model_forest.predict(features_valid)"
   ]
  },
  {
   "cell_type": "markdown",
   "metadata": {},
   "source": [
    "Для построения ROC-кривой вычислим вероятности положительных классов."
   ]
  },
  {
   "cell_type": "code",
   "execution_count": 73,
   "metadata": {
    "scrolled": false
   },
   "outputs": [],
   "source": [
    "# вычисление вероятностей обоих классов\n",
    "probabilities_valid = model_forest.predict_proba(features_valid)"
   ]
  },
  {
   "cell_type": "code",
   "execution_count": 74,
   "metadata": {},
   "outputs": [
    {
     "data": {
      "text/plain": [
       "array([0.68085106, 0.14893617, 0.76595745, ..., 0.19148936, 0.08510638,\n",
       "       0.82978723])"
      ]
     },
     "execution_count": 74,
     "metadata": {},
     "output_type": "execute_result"
    }
   ],
   "source": [
    "# формирование Series с вероятностями только положительного класса\n",
    "probabilities_one_valid = probabilities_valid[:, 1]\n",
    "probabilities_one_valid"
   ]
  },
  {
   "cell_type": "markdown",
   "metadata": {},
   "source": [
    "Построим график ROC-кривой."
   ]
  },
  {
   "cell_type": "code",
   "execution_count": 75,
   "metadata": {
    "scrolled": true
   },
   "outputs": [
    {
     "data": {
      "image/png": "[encoded data removed]",
      "text/plain": [
       "<Figure size 432x288 with 1 Axes>"
      ]
     },
     "metadata": {
      "needs_background": "light"
     },
     "output_type": "display_data"
    }
   ],
   "source": [
    "# расчет значений fpr, tpr, thresholds для построения кривой\n",
    "fpr, tpr, thresholds = roc_curve(target_valid, probabilities_one_valid)\n",
    "# расчет значения AUC-ROC \n",
    "roc_auc = metrics.auc(fpr, tpr)\n",
    "# построение ROC-кривой\n",
    "plt.title('Receiver Operating Characteristic')\n",
    "plt.plot(fpr, tpr, 'b', label = 'AUC = %0.2f' % roc_auc)\n",
    "plt.legend(loc = 'lower right')\n",
    "plt.plot([0, 1], [0, 1],'r--')\n",
    "plt.xlim([0, 1])\n",
    "plt.ylim([0, 1])\n",
    "plt.ylabel('True Positive Rate')\n",
    "plt.xlabel('False Positive Rate')\n",
    "plt.show()"
   ]
  },
  {
   "cell_type": "markdown",
   "metadata": {},
   "source": [
    "Значение метрики качества классификации AUC-ROC равно площади под ROC-кривой. Значения метрики изменяются от 0 до 1. AUC-ROC случайной модели равна 0.5"
   ]
  },
  {
   "cell_type": "code",
   "execution_count": 76,
   "metadata": {},
   "outputs": [
    {
     "data": {
      "text/plain": [
       "0.8545476634447416"
      ]
     },
     "execution_count": 76,
     "metadata": {},
     "output_type": "execute_result"
    }
   ],
   "source": [
    "# вычисление площади под ROC-кривой\n",
    "auc_roc = roc_auc_score(target_valid, probabilities_one_valid)\n",
    "auc_roc"
   ]
  },
  {
   "cell_type": "markdown",
   "metadata": {},
   "source": [
    "Значение метрики AUC-ROC для нашей модели на сбалансированной с помощью upsampling выборке изменилось с 0.838 до 0.854 (рост на 0,016 за счет обучения на сбалансированной выборке)."
   ]
  },
  {
   "cell_type": "markdown",
   "metadata": {},
   "source": [
    "<div style=\"border:solid blue 2px; padding: 20px\"> \n",
    "\n",
    "**Вывод** \n",
    "    \n",
    "Проведена работа со сбалансированной выборкой:\n",
    "    \n",
    "**Техника upsampling**\n",
    "\n",
    "1. Для повышения качества обучения сбалансирована обучающая выборка:\n",
    "с помощью техники upsampling количество положительных и отрицательных объектов сделано примерно одинаковым (чуть более 4000 объектов каждого класса)\n",
    "\n",
    "2. Проведено обучение на сбалансированной обучающей выборке и оценка F1-score на валидационной выборке для 3 моделей с различными гиперпараметрами (Решающее дерево, Случайный лес, Логистическая регрессия); наилучший результат показала модель Случайный лес с 47 оценщиками (F1-score 0.614).\n",
    "\n",
    "3. Проведена оценка других метрик качества на валидационной выборке для этой модели, обученной на сбалансированной выборке по сравнению с несбалансированной: полнота выросла на 0.045, точность снизилась на 0.058, F1-мера выросла на 0.008. Если ориентироваться на F1-меру как на основной параметр качества, можно сделать вывод о том, что обучение на сбалансированной с помощью upsampling выборке позволило улучшить модель и качество ее прогноза.\n",
    "\n",
    " \n",
    "**Взвешивание классов**\n",
    "\n",
    "1. Для повышения качества обучения сбалансирована обучающая выборка с помощью взвешивания классов\n",
    "\n",
    "2. Проведено обучение на сбалансированной обучающей выборке и оценка F1-score на валидационной выборке для 3 моделей с различными гиперпараметрами (Решающее дерево, Случайный лес, Логистическая регрессия); наилучший результат показала модель Случайный лес с 47 оценщиками (F1-score 0.579, что на 0.035 хуже, чем при балансировании с помощью upsampling).\n",
    "\n",
    "3. Проведена оценка других метрик качества на валидационной выборке для этой модели, обученной на сбалансированной с помощью взвешивания выборке: полнота снизилась 0.053 по сравнению с несбалансированной выборкой, точность на 0.039 выше, чем на несбалансированной выборке.\n",
    "\n",
    "Для дальнейшей оценки выбрана модель с наилучшим значением F1-меры - модель Случайный лес с 47 оценщиками, обученная на выборке, сбалансированной с помощью техники upsampling. Для нее построена ROC-кривая и оценена метрика AUC-ROC (после обучения на сбалансированной выборке метрика изменилась с 0.838 до 0.854, показав рост на 0.016).\n",
    "</div>"
   ]
  },
  {
   "cell_type": "markdown",
   "metadata": {},
   "source": [
    "## Тестирование модели"
   ]
  },
  {
   "cell_type": "markdown",
   "metadata": {},
   "source": [
    "Проведем финальное тестирование на данных тестовой выборки выбранной и обученной на сбалансированной с помощью upsampling выборке модели Случайный лес с 47 оценщиками."
   ]
  },
  {
   "cell_type": "markdown",
   "metadata": {},
   "source": [
    "**Accuracy, полнота, точность, F1-мера для модели \"Случайный лес\", обученной на сбалансированной выборке, на данных тестовой выборки**"
   ]
  },
  {
   "cell_type": "code",
   "execution_count": 77,
   "metadata": {
    "scrolled": true
   },
   "outputs": [
    {
     "name": "stdout",
     "output_type": "stream",
     "text": [
      "Accuracy: 0.8565145684442002\n",
      "Полнота: 0.5498575498575499\n",
      "Точность: 0.652027027027027\n",
      "F1-мера: 0.5965996908809892\n"
     ]
    }
   ],
   "source": [
    "# прогнозирование модели Случайный лес с 47 оценщиками и оценка метрик качества сделанного ею прогноза\n",
    "model_forest = RandomForestClassifier(random_state=12345, n_estimators=47)\n",
    "model_forest.fit(features_upsampled, target_upsampled)\n",
    "predicted_test = model_forest.predict(features_test)\n",
    "print('Accuracy:', accuracy_score(target_test, predicted_test))\n",
    "print('Полнота:', recall_score(target_test, predicted_test))\n",
    "print('Точность:', precision_score(target_test, predicted_test))\n",
    "print('F1-мера:',f1_score(target_test, predicted_test))"
   ]
  },
  {
   "cell_type": "markdown",
   "metadata": {},
   "source": [
    "Значение F1-меры отвечает требованиям исследования и равно 0.596."
   ]
  },
  {
   "cell_type": "markdown",
   "metadata": {},
   "source": [
    "**ROC-кривая и метрика AUC-ROC для модели \"Случайный лес\", обученной на сбалансированной выборке, на данных тестовой выборки**"
   ]
  },
  {
   "cell_type": "markdown",
   "metadata": {},
   "source": [
    "Для оценки качества предсказаний модели, обученной на сбалансированной выборке, также построим ROC-кривую, или кривую ошибок, и оценим площадь под ней (метрику AUC-ROC)."
   ]
  },
  {
   "cell_type": "markdown",
   "metadata": {},
   "source": [
    "Для построения ROC-кривой вычислим вероятности положительных классов в тестовой выборке."
   ]
  },
  {
   "cell_type": "code",
   "execution_count": 78,
   "metadata": {},
   "outputs": [],
   "source": [
    "# вычисление вероятностей обоих классов\n",
    "probabilities_test = model_forest.predict_proba(features_test)"
   ]
  },
  {
   "cell_type": "code",
   "execution_count": 79,
   "metadata": {},
   "outputs": [
    {
     "data": {
      "text/plain": [
       "array([0.04255319, 0.17021277, 0.12765957, ..., 0.78723404, 0.4893617 ,\n",
       "       0.        ])"
      ]
     },
     "execution_count": 79,
     "metadata": {},
     "output_type": "execute_result"
    }
   ],
   "source": [
    "# формирование Series с вероятностями только положительного класса\n",
    "probabilities_one_test = probabilities_test[:, 1]\n",
    "probabilities_one_test"
   ]
  },
  {
   "cell_type": "markdown",
   "metadata": {},
   "source": [
    "Построим график ROC-кривой."
   ]
  },
  {
   "cell_type": "code",
   "execution_count": 80,
   "metadata": {},
   "outputs": [
    {
     "data": {
      "image/png": "[encoded data removed]",
      "text/plain": [
       "<Figure size 432x288 with 1 Axes>"
      ]
     },
     "metadata": {
      "needs_background": "light"
     },
     "output_type": "display_data"
    }
   ],
   "source": [
    "# расчет значений fpr, tpr, thresholds для построения кривой\n",
    "fpr, tpr, thresholds = roc_curve(target_test, probabilities_one_test)\n",
    "# расчет значения AUC-ROC \n",
    "roc_auc = metrics.auc(fpr, tpr)\n",
    "# построение ROC-кривой\n",
    "plt.title('Receiver Operating Characteristic')\n",
    "plt.plot(fpr, tpr, 'b', label = 'AUC = %0.2f' % roc_auc)\n",
    "plt.legend(loc = 'lower right')\n",
    "plt.plot([0, 1], [0, 1],'r--')\n",
    "plt.xlim([0, 1])\n",
    "plt.ylim([0, 1])\n",
    "plt.ylabel('True Positive Rate')\n",
    "plt.xlabel('False Positive Rate')\n",
    "plt.show()"
   ]
  },
  {
   "cell_type": "code",
   "execution_count": 81,
   "metadata": {},
   "outputs": [
    {
     "data": {
      "text/plain": [
       "0.8431127102789228"
      ]
     },
     "execution_count": 81,
     "metadata": {},
     "output_type": "execute_result"
    }
   ],
   "source": [
    "# вычисление площади под ROC-кривой\n",
    "auc_roc = roc_auc_score(target_test, probabilities_one_test)\n",
    "auc_roc"
   ]
  },
  {
   "cell_type": "markdown",
   "metadata": {},
   "source": [
    "Значение метрики AUC-ROC для нашей модели на тестовых данных снизилось с 0,854 (на валидационной выборке после применения upsampling) и составило 0.843. Можно предположить, что имеет место некоторое переобучение модели."
   ]
  },
  {
   "cell_type": "markdown",
   "metadata": {},
   "source": [
    "<div style=\"border:solid blue 2px; padding: 20px\"> \n",
    "\n",
    "**Вывод** \n",
    "    \n",
    "На данных тестовой выборки проведено тестирование модели Случайный лес с 47 оценщиками, обученной на выборке, сбалансированной при помощи техники upsampling и отобранной по результатам предыдущих шагов. Модель показала значение F1-меры = 0.596, что выше требующихся по условиям исследования 0.59.\n",
    "\n",
    " \n",
    "</div>"
   ]
  },
  {
   "cell_type": "markdown",
   "metadata": {},
   "source": [
    "## Общий вывод"
   ]
  },
  {
   "cell_type": "markdown",
   "metadata": {},
   "source": [
    "<div style=\"border:solid blue 2px; padding: 20px\"> \n",
    "\n",
    "**Вывод** \n",
    "\n",
    "В рамках работ по проекту были осуществлены следующие действия:\n",
    "1. Изучен датафрейм, произведена предобработка данных (удалены пропуски и лишние колонки), осуществлена проверка на дубли, проведено  переименование колонок, проверены данные в колонках на адекватность.\n",
    "2. Исследованы классы и определено, что выборка несбалансированная\n",
    "3. Проведена обработка категориальных признаков в численные при помощи техники прямого кодирования OHE\n",
    "4. Проведено разделение выборки на обучающую, валидационную и тестовую (60% / 20% / 20%)\n",
    "5. Обучены и проверены на валидационной выборке модели Решающее дерево, Случайный лес и Логистическая регрессия.\n",
    "Наилучшие результаты показала модель Случайный лес с 47 оценщиками (полнота 0.514, точность 0.738, F1-мера 0.606, auc-roc 0.838)\n",
    "6. Для балансирования классов применены 2 техники: upsampling с увеличением числа низкочастотного класса и взвешивание классов.\n",
    "7. По итогам сравнения качественных метрик наилучшее значение F1-меры (0.614) показала модель Случайный лес с 47 оценщиками, обученная на выборке, сбалансированной с помощью upsampling.\n",
    "Метрика auc-roc для нее показала значение 0.854\n",
    "8. В результате итогового тестирования на тестовой выборке выбранная модель Случайный лес с 47 оценщиками показала значение F1-меры = 0.596. \n",
    "Метрика auc-roc при этом показала значение 0.843. Можно считать данный результат соответствующим цели исследования.\n",
    "\n",
    " \n",
    "</div>"
   ]
  },
  {
   "cell_type": "code",
   "execution_count": null,
   "metadata": {},
   "outputs": [],
   "source": []
  }
 ],
 "metadata": {
  "ExecuteTimeLog": [
   {
    "duration": 1203,
    "start_time": "2022-05-09T18:06:36.998Z"
   },
   {
    "duration": 114,
    "start_time": "2022-05-09T18:06:38.203Z"
   },
   {
    "duration": 47,
    "start_time": "2022-05-09T18:06:53.231Z"
   },
   {
    "duration": 13,
    "start_time": "2022-05-09T18:09:17.445Z"
   },
   {
    "duration": 5,
    "start_time": "2022-05-09T18:23:46.597Z"
   },
   {
    "duration": 5,
    "start_time": "2022-05-09T18:31:24.649Z"
   },
   {
    "duration": 4,
    "start_time": "2022-05-09T18:31:44.674Z"
   },
   {
    "duration": 14,
    "start_time": "2022-05-09T18:33:03.021Z"
   },
   {
    "duration": 2,
    "start_time": "2022-05-09T18:33:10.896Z"
   },
   {
    "duration": 9,
    "start_time": "2022-05-09T18:33:24.990Z"
   },
   {
    "duration": 9,
    "start_time": "2022-05-09T18:33:42.932Z"
   },
   {
    "duration": 10,
    "start_time": "2022-05-09T18:35:20.680Z"
   },
   {
    "duration": 8,
    "start_time": "2022-05-09T18:35:42.693Z"
   },
   {
    "duration": 9,
    "start_time": "2022-05-09T18:36:10.071Z"
   },
   {
    "duration": 3,
    "start_time": "2022-05-09T18:36:14.746Z"
   },
   {
    "duration": 44,
    "start_time": "2022-05-09T18:36:14.751Z"
   },
   {
    "duration": 12,
    "start_time": "2022-05-09T18:36:14.796Z"
   },
   {
    "duration": 5,
    "start_time": "2022-05-09T18:36:15.034Z"
   },
   {
    "duration": 5,
    "start_time": "2022-05-09T18:36:15.129Z"
   },
   {
    "duration": 5,
    "start_time": "2022-05-09T18:36:15.209Z"
   },
   {
    "duration": 12,
    "start_time": "2022-05-09T18:36:18.040Z"
   },
   {
    "duration": 4,
    "start_time": "2022-05-09T18:40:55.941Z"
   },
   {
    "duration": 35,
    "start_time": "2022-05-09T18:40:55.949Z"
   },
   {
    "duration": 12,
    "start_time": "2022-05-09T18:40:55.985Z"
   },
   {
    "duration": 4,
    "start_time": "2022-05-09T18:40:55.998Z"
   },
   {
    "duration": 9,
    "start_time": "2022-05-09T18:40:56.004Z"
   },
   {
    "duration": 5,
    "start_time": "2022-05-09T18:40:56.014Z"
   },
   {
    "duration": 5,
    "start_time": "2022-05-09T18:40:59.234Z"
   },
   {
    "duration": 9,
    "start_time": "2022-05-09T18:41:10.532Z"
   },
   {
    "duration": 10,
    "start_time": "2022-05-09T18:42:22.037Z"
   },
   {
    "duration": 10,
    "start_time": "2022-05-09T18:42:34.452Z"
   },
   {
    "duration": 4,
    "start_time": "2022-05-09T18:42:40.760Z"
   },
   {
    "duration": 58,
    "start_time": "2022-05-09T18:42:40.766Z"
   },
   {
    "duration": 12,
    "start_time": "2022-05-09T18:42:40.825Z"
   },
   {
    "duration": 19,
    "start_time": "2022-05-09T18:42:40.838Z"
   },
   {
    "duration": 25,
    "start_time": "2022-05-09T18:42:40.859Z"
   },
   {
    "duration": 33,
    "start_time": "2022-05-09T18:42:40.886Z"
   },
   {
    "duration": 12,
    "start_time": "2022-05-09T18:42:44.021Z"
   },
   {
    "duration": 30,
    "start_time": "2022-05-09T18:42:51.595Z"
   },
   {
    "duration": 14,
    "start_time": "2022-05-09T18:43:00.829Z"
   },
   {
    "duration": 5,
    "start_time": "2022-05-09T18:43:10.544Z"
   },
   {
    "duration": 12,
    "start_time": "2022-05-09T18:43:11.951Z"
   },
   {
    "duration": 13,
    "start_time": "2022-05-09T18:46:10.570Z"
   },
   {
    "duration": 12,
    "start_time": "2022-05-09T18:46:46.253Z"
   },
   {
    "duration": 6,
    "start_time": "2022-05-09T18:49:04.385Z"
   },
   {
    "duration": 20,
    "start_time": "2022-05-09T18:50:39.153Z"
   },
   {
    "duration": 11,
    "start_time": "2022-05-09T18:55:06.944Z"
   },
   {
    "duration": 13,
    "start_time": "2022-05-09T18:55:40.914Z"
   },
   {
    "duration": 11,
    "start_time": "2022-05-09T18:57:52.926Z"
   },
   {
    "duration": 3,
    "start_time": "2022-05-09T18:58:48.569Z"
   },
   {
    "duration": 34,
    "start_time": "2022-05-09T18:58:48.574Z"
   },
   {
    "duration": 11,
    "start_time": "2022-05-09T18:58:48.610Z"
   },
   {
    "duration": 4,
    "start_time": "2022-05-09T18:58:48.673Z"
   },
   {
    "duration": 20,
    "start_time": "2022-05-09T18:58:48.679Z"
   },
   {
    "duration": 10,
    "start_time": "2022-05-09T18:58:48.701Z"
   },
   {
    "duration": 12,
    "start_time": "2022-05-09T18:58:48.712Z"
   },
   {
    "duration": 11,
    "start_time": "2022-05-09T18:58:48.800Z"
   },
   {
    "duration": 16,
    "start_time": "2022-05-09T18:58:48.954Z"
   },
   {
    "duration": 13,
    "start_time": "2022-05-09T18:58:49.026Z"
   },
   {
    "duration": 19,
    "start_time": "2022-05-09T18:58:49.108Z"
   },
   {
    "duration": 5,
    "start_time": "2022-05-09T18:58:49.129Z"
   },
   {
    "duration": 11,
    "start_time": "2022-05-09T18:58:49.221Z"
   },
   {
    "duration": 11,
    "start_time": "2022-05-09T18:58:49.310Z"
   },
   {
    "duration": 6,
    "start_time": "2022-05-09T19:00:21.470Z"
   },
   {
    "duration": 8,
    "start_time": "2022-05-09T19:01:23.270Z"
   },
   {
    "duration": 8,
    "start_time": "2022-05-09T19:02:07.341Z"
   },
   {
    "duration": 7,
    "start_time": "2022-05-09T19:02:28.169Z"
   },
   {
    "duration": 6,
    "start_time": "2022-05-09T19:02:53.086Z"
   },
   {
    "duration": 7,
    "start_time": "2022-05-09T19:03:11.568Z"
   },
   {
    "duration": 11,
    "start_time": "2022-05-09T19:04:04.241Z"
   },
   {
    "duration": 7,
    "start_time": "2022-05-09T19:04:19.293Z"
   },
   {
    "duration": 10,
    "start_time": "2022-05-09T19:05:04.968Z"
   },
   {
    "duration": 4,
    "start_time": "2022-05-09T19:05:10.768Z"
   },
   {
    "duration": 5,
    "start_time": "2022-05-09T19:05:36.738Z"
   },
   {
    "duration": 7,
    "start_time": "2022-05-09T19:06:14.828Z"
   },
   {
    "duration": 7,
    "start_time": "2022-05-09T19:10:22.364Z"
   },
   {
    "duration": 6,
    "start_time": "2022-05-09T19:10:51.621Z"
   },
   {
    "duration": 6,
    "start_time": "2022-05-09T19:11:12.567Z"
   },
   {
    "duration": 6,
    "start_time": "2022-05-09T19:11:29.769Z"
   },
   {
    "duration": 7,
    "start_time": "2022-05-09T19:11:51.254Z"
   },
   {
    "duration": 6,
    "start_time": "2022-05-09T19:12:20.111Z"
   },
   {
    "duration": 1234,
    "start_time": "2022-05-10T15:17:24.295Z"
   },
   {
    "duration": 50,
    "start_time": "2022-05-10T15:17:25.531Z"
   },
   {
    "duration": 16,
    "start_time": "2022-05-10T15:17:25.583Z"
   },
   {
    "duration": 5,
    "start_time": "2022-05-10T15:17:25.602Z"
   },
   {
    "duration": 7,
    "start_time": "2022-05-10T15:17:25.609Z"
   },
   {
    "duration": 23,
    "start_time": "2022-05-10T15:17:25.618Z"
   },
   {
    "duration": 9,
    "start_time": "2022-05-10T15:17:25.643Z"
   },
   {
    "duration": 18,
    "start_time": "2022-05-10T15:17:25.654Z"
   },
   {
    "duration": 18,
    "start_time": "2022-05-10T15:17:25.674Z"
   },
   {
    "duration": 28,
    "start_time": "2022-05-10T15:17:25.695Z"
   },
   {
    "duration": 25,
    "start_time": "2022-05-10T15:17:25.725Z"
   },
   {
    "duration": 8,
    "start_time": "2022-05-10T15:17:25.752Z"
   },
   {
    "duration": 12,
    "start_time": "2022-05-10T15:17:25.762Z"
   },
   {
    "duration": 11,
    "start_time": "2022-05-10T15:17:25.776Z"
   },
   {
    "duration": 4,
    "start_time": "2022-05-10T15:17:29.448Z"
   },
   {
    "duration": 8,
    "start_time": "2022-05-10T15:17:38.889Z"
   },
   {
    "duration": 4,
    "start_time": "2022-05-10T15:21:06.999Z"
   },
   {
    "duration": 4,
    "start_time": "2022-05-10T15:21:12.678Z"
   },
   {
    "duration": 5,
    "start_time": "2022-05-10T15:21:25.463Z"
   },
   {
    "duration": 5,
    "start_time": "2022-05-10T15:21:26.795Z"
   },
   {
    "duration": 4,
    "start_time": "2022-05-10T15:22:19.190Z"
   },
   {
    "duration": 60,
    "start_time": "2022-05-10T15:22:19.196Z"
   },
   {
    "duration": 14,
    "start_time": "2022-05-10T15:22:19.259Z"
   },
   {
    "duration": 4,
    "start_time": "2022-05-10T15:22:19.275Z"
   },
   {
    "duration": 7,
    "start_time": "2022-05-10T15:22:19.281Z"
   },
   {
    "duration": 7,
    "start_time": "2022-05-10T15:22:19.289Z"
   },
   {
    "duration": 39,
    "start_time": "2022-05-10T15:22:19.298Z"
   },
   {
    "duration": 27,
    "start_time": "2022-05-10T15:22:19.339Z"
   },
   {
    "duration": 102,
    "start_time": "2022-05-10T15:22:19.367Z"
   },
   {
    "duration": 13,
    "start_time": "2022-05-10T15:22:19.471Z"
   },
   {
    "duration": 22,
    "start_time": "2022-05-10T15:22:19.487Z"
   },
   {
    "duration": 8,
    "start_time": "2022-05-10T15:22:19.511Z"
   },
   {
    "duration": 14,
    "start_time": "2022-05-10T15:22:19.521Z"
   },
   {
    "duration": 10,
    "start_time": "2022-05-10T15:22:19.537Z"
   },
   {
    "duration": 7,
    "start_time": "2022-05-10T15:22:19.549Z"
   },
   {
    "duration": 8,
    "start_time": "2022-05-10T15:22:19.557Z"
   },
   {
    "duration": 8,
    "start_time": "2022-05-10T15:22:19.567Z"
   },
   {
    "duration": 5,
    "start_time": "2022-05-10T15:22:25.028Z"
   },
   {
    "duration": 5,
    "start_time": "2022-05-10T15:22:25.631Z"
   },
   {
    "duration": 9,
    "start_time": "2022-05-10T15:23:15.230Z"
   },
   {
    "duration": 9,
    "start_time": "2022-05-10T15:23:28.359Z"
   },
   {
    "duration": 8,
    "start_time": "2022-05-10T15:26:08.676Z"
   },
   {
    "duration": 8,
    "start_time": "2022-05-10T15:26:17.703Z"
   },
   {
    "duration": 7,
    "start_time": "2022-05-10T15:26:21.993Z"
   },
   {
    "duration": 7,
    "start_time": "2022-05-10T15:26:27.900Z"
   },
   {
    "duration": 136,
    "start_time": "2022-05-10T15:27:43.346Z"
   },
   {
    "duration": 8,
    "start_time": "2022-05-10T15:27:55.995Z"
   },
   {
    "duration": 8,
    "start_time": "2022-05-10T15:27:59.571Z"
   },
   {
    "duration": 7,
    "start_time": "2022-05-10T15:28:42.616Z"
   },
   {
    "duration": 163,
    "start_time": "2022-05-10T15:29:12.073Z"
   },
   {
    "duration": 7,
    "start_time": "2022-05-10T15:29:17.706Z"
   },
   {
    "duration": 113,
    "start_time": "2022-05-10T15:31:18.951Z"
   },
   {
    "duration": 17,
    "start_time": "2022-05-10T15:32:58.370Z"
   },
   {
    "duration": 9,
    "start_time": "2022-05-10T15:33:29.673Z"
   },
   {
    "duration": 26,
    "start_time": "2022-05-10T15:33:45.433Z"
   },
   {
    "duration": 6,
    "start_time": "2022-05-10T15:34:58.889Z"
   },
   {
    "duration": 7,
    "start_time": "2022-05-10T15:36:28.695Z"
   },
   {
    "duration": 7,
    "start_time": "2022-05-10T15:36:33.884Z"
   },
   {
    "duration": 9,
    "start_time": "2022-05-10T15:40:26.246Z"
   },
   {
    "duration": 149,
    "start_time": "2022-05-10T15:42:54.976Z"
   },
   {
    "duration": 141,
    "start_time": "2022-05-10T15:43:07.387Z"
   },
   {
    "duration": 10,
    "start_time": "2022-05-10T15:43:17.534Z"
   },
   {
    "duration": 7,
    "start_time": "2022-05-10T15:43:22.969Z"
   },
   {
    "duration": 7,
    "start_time": "2022-05-10T15:44:37.724Z"
   },
   {
    "duration": 6,
    "start_time": "2022-05-10T15:44:42.609Z"
   },
   {
    "duration": 7,
    "start_time": "2022-05-10T15:45:18.201Z"
   },
   {
    "duration": 7,
    "start_time": "2022-05-10T15:45:24.370Z"
   },
   {
    "duration": 9,
    "start_time": "2022-05-10T15:46:41.365Z"
   },
   {
    "duration": 6,
    "start_time": "2022-05-10T15:47:55.953Z"
   },
   {
    "duration": 8,
    "start_time": "2022-05-10T15:48:00.561Z"
   },
   {
    "duration": 215,
    "start_time": "2022-05-10T17:08:41.710Z"
   },
   {
    "duration": 19,
    "start_time": "2022-05-10T17:08:52.986Z"
   },
   {
    "duration": 4,
    "start_time": "2022-05-10T17:11:27.345Z"
   },
   {
    "duration": 175,
    "start_time": "2022-05-10T17:11:28.588Z"
   },
   {
    "duration": 20,
    "start_time": "2022-05-10T17:11:29.369Z"
   },
   {
    "duration": 3,
    "start_time": "2022-05-10T17:11:47.147Z"
   },
   {
    "duration": 58,
    "start_time": "2022-05-10T17:11:47.152Z"
   },
   {
    "duration": 12,
    "start_time": "2022-05-10T17:11:47.212Z"
   },
   {
    "duration": 4,
    "start_time": "2022-05-10T17:11:47.226Z"
   },
   {
    "duration": 8,
    "start_time": "2022-05-10T17:11:47.232Z"
   },
   {
    "duration": 6,
    "start_time": "2022-05-10T17:11:47.242Z"
   },
   {
    "duration": 6,
    "start_time": "2022-05-10T17:11:47.249Z"
   },
   {
    "duration": 15,
    "start_time": "2022-05-10T17:11:47.257Z"
   },
   {
    "duration": 11,
    "start_time": "2022-05-10T17:11:47.274Z"
   },
   {
    "duration": 12,
    "start_time": "2022-05-10T17:11:47.287Z"
   },
   {
    "duration": 45,
    "start_time": "2022-05-10T17:11:47.301Z"
   },
   {
    "duration": 6,
    "start_time": "2022-05-10T17:11:47.347Z"
   },
   {
    "duration": 14,
    "start_time": "2022-05-10T17:11:47.355Z"
   },
   {
    "duration": 11,
    "start_time": "2022-05-10T17:11:47.370Z"
   },
   {
    "duration": 6,
    "start_time": "2022-05-10T17:11:47.382Z"
   },
   {
    "duration": 43,
    "start_time": "2022-05-10T17:11:47.390Z"
   },
   {
    "duration": 6,
    "start_time": "2022-05-10T17:11:47.435Z"
   },
   {
    "duration": 10,
    "start_time": "2022-05-10T17:11:47.443Z"
   },
   {
    "duration": 6,
    "start_time": "2022-05-10T17:11:47.456Z"
   },
   {
    "duration": 8,
    "start_time": "2022-05-10T17:11:47.464Z"
   },
   {
    "duration": 6,
    "start_time": "2022-05-10T17:11:47.566Z"
   },
   {
    "duration": 7,
    "start_time": "2022-05-10T17:11:47.671Z"
   },
   {
    "duration": 9,
    "start_time": "2022-05-10T17:11:47.776Z"
   },
   {
    "duration": 7,
    "start_time": "2022-05-10T17:11:47.867Z"
   },
   {
    "duration": 6,
    "start_time": "2022-05-10T17:11:47.986Z"
   },
   {
    "duration": 6,
    "start_time": "2022-05-10T17:11:48.080Z"
   },
   {
    "duration": 9,
    "start_time": "2022-05-10T17:11:48.164Z"
   },
   {
    "duration": 6,
    "start_time": "2022-05-10T17:11:48.249Z"
   },
   {
    "duration": 4,
    "start_time": "2022-05-10T17:11:48.554Z"
   },
   {
    "duration": 164,
    "start_time": "2022-05-10T17:11:52.620Z"
   },
   {
    "duration": 18,
    "start_time": "2022-05-10T17:11:54.335Z"
   },
   {
    "duration": 76,
    "start_time": "2022-05-10T17:12:11.260Z"
   },
   {
    "duration": 18,
    "start_time": "2022-05-10T17:12:12.199Z"
   },
   {
    "duration": 4,
    "start_time": "2022-05-10T17:12:22.178Z"
   },
   {
    "duration": 43,
    "start_time": "2022-05-10T17:12:22.184Z"
   },
   {
    "duration": 16,
    "start_time": "2022-05-10T17:12:22.229Z"
   },
   {
    "duration": 5,
    "start_time": "2022-05-10T17:12:22.247Z"
   },
   {
    "duration": 11,
    "start_time": "2022-05-10T17:12:22.254Z"
   },
   {
    "duration": 30,
    "start_time": "2022-05-10T17:12:22.267Z"
   },
   {
    "duration": 16,
    "start_time": "2022-05-10T17:12:22.299Z"
   },
   {
    "duration": 31,
    "start_time": "2022-05-10T17:12:22.318Z"
   },
   {
    "duration": 18,
    "start_time": "2022-05-10T17:12:22.351Z"
   },
   {
    "duration": 13,
    "start_time": "2022-05-10T17:12:22.371Z"
   },
   {
    "duration": 22,
    "start_time": "2022-05-10T17:12:22.387Z"
   },
   {
    "duration": 26,
    "start_time": "2022-05-10T17:12:22.410Z"
   },
   {
    "duration": 17,
    "start_time": "2022-05-10T17:12:22.438Z"
   },
   {
    "duration": 11,
    "start_time": "2022-05-10T17:12:22.457Z"
   },
   {
    "duration": 6,
    "start_time": "2022-05-10T17:12:22.470Z"
   },
   {
    "duration": 9,
    "start_time": "2022-05-10T17:12:22.478Z"
   },
   {
    "duration": 10,
    "start_time": "2022-05-10T17:12:22.489Z"
   },
   {
    "duration": 9,
    "start_time": "2022-05-10T17:12:22.534Z"
   },
   {
    "duration": 26,
    "start_time": "2022-05-10T17:12:22.544Z"
   },
   {
    "duration": 22,
    "start_time": "2022-05-10T17:12:22.572Z"
   },
   {
    "duration": 17,
    "start_time": "2022-05-10T17:12:22.596Z"
   },
   {
    "duration": 31,
    "start_time": "2022-05-10T17:12:22.616Z"
   },
   {
    "duration": 17,
    "start_time": "2022-05-10T17:12:22.649Z"
   },
   {
    "duration": 9,
    "start_time": "2022-05-10T17:12:22.669Z"
   },
   {
    "duration": 12,
    "start_time": "2022-05-10T17:12:22.680Z"
   },
   {
    "duration": 11,
    "start_time": "2022-05-10T17:12:22.694Z"
   },
   {
    "duration": 18,
    "start_time": "2022-05-10T17:12:22.707Z"
   },
   {
    "duration": 7,
    "start_time": "2022-05-10T17:12:22.727Z"
   },
   {
    "duration": 11,
    "start_time": "2022-05-10T17:12:22.737Z"
   },
   {
    "duration": 12,
    "start_time": "2022-05-10T17:12:28.201Z"
   },
   {
    "duration": 12,
    "start_time": "2022-05-10T17:12:28.869Z"
   },
   {
    "duration": 7,
    "start_time": "2022-05-10T17:12:53.508Z"
   },
   {
    "duration": 11,
    "start_time": "2022-05-10T17:12:53.981Z"
   },
   {
    "duration": 3,
    "start_time": "2022-05-10T17:13:03.263Z"
   },
   {
    "duration": 60,
    "start_time": "2022-05-10T17:13:03.270Z"
   },
   {
    "duration": 13,
    "start_time": "2022-05-10T17:13:03.332Z"
   },
   {
    "duration": 15,
    "start_time": "2022-05-10T17:13:03.346Z"
   },
   {
    "duration": 18,
    "start_time": "2022-05-10T17:13:03.363Z"
   },
   {
    "duration": 6,
    "start_time": "2022-05-10T17:13:03.384Z"
   },
   {
    "duration": 18,
    "start_time": "2022-05-10T17:13:03.392Z"
   },
   {
    "duration": 17,
    "start_time": "2022-05-10T17:13:03.412Z"
   },
   {
    "duration": 28,
    "start_time": "2022-05-10T17:13:03.430Z"
   },
   {
    "duration": 30,
    "start_time": "2022-05-10T17:13:03.460Z"
   },
   {
    "duration": 22,
    "start_time": "2022-05-10T17:13:03.492Z"
   },
   {
    "duration": 7,
    "start_time": "2022-05-10T17:13:03.516Z"
   },
   {
    "duration": 20,
    "start_time": "2022-05-10T17:13:03.525Z"
   },
   {
    "duration": 13,
    "start_time": "2022-05-10T17:13:03.547Z"
   },
   {
    "duration": 24,
    "start_time": "2022-05-10T17:13:03.563Z"
   },
   {
    "duration": 25,
    "start_time": "2022-05-10T17:13:03.589Z"
   },
   {
    "duration": 18,
    "start_time": "2022-05-10T17:13:03.616Z"
   },
   {
    "duration": 12,
    "start_time": "2022-05-10T17:13:03.636Z"
   },
   {
    "duration": 10,
    "start_time": "2022-05-10T17:13:03.650Z"
   },
   {
    "duration": 19,
    "start_time": "2022-05-10T17:13:03.661Z"
   },
   {
    "duration": 16,
    "start_time": "2022-05-10T17:13:03.682Z"
   },
   {
    "duration": 8,
    "start_time": "2022-05-10T17:13:03.700Z"
   },
   {
    "duration": 15,
    "start_time": "2022-05-10T17:13:03.709Z"
   },
   {
    "duration": 6,
    "start_time": "2022-05-10T17:13:03.734Z"
   },
   {
    "duration": 19,
    "start_time": "2022-05-10T17:13:03.742Z"
   },
   {
    "duration": 33,
    "start_time": "2022-05-10T17:13:03.763Z"
   },
   {
    "duration": 17,
    "start_time": "2022-05-10T17:13:03.797Z"
   },
   {
    "duration": 10,
    "start_time": "2022-05-10T17:13:03.816Z"
   },
   {
    "duration": 9,
    "start_time": "2022-05-10T17:13:03.828Z"
   },
   {
    "duration": 25,
    "start_time": "2022-05-10T17:13:03.839Z"
   },
   {
    "duration": 13,
    "start_time": "2022-05-10T17:13:06.284Z"
   },
   {
    "duration": 3,
    "start_time": "2022-05-10T17:28:13.053Z"
   },
   {
    "duration": 36,
    "start_time": "2022-05-10T17:28:13.093Z"
   },
   {
    "duration": 12,
    "start_time": "2022-05-10T17:28:13.131Z"
   },
   {
    "duration": 4,
    "start_time": "2022-05-10T17:28:13.144Z"
   },
   {
    "duration": 10,
    "start_time": "2022-05-10T17:28:13.150Z"
   },
   {
    "duration": 8,
    "start_time": "2022-05-10T17:28:13.162Z"
   },
   {
    "duration": 6,
    "start_time": "2022-05-10T17:28:13.171Z"
   },
   {
    "duration": 15,
    "start_time": "2022-05-10T17:28:13.179Z"
   },
   {
    "duration": 39,
    "start_time": "2022-05-10T17:28:13.196Z"
   },
   {
    "duration": 14,
    "start_time": "2022-05-10T17:28:13.237Z"
   },
   {
    "duration": 21,
    "start_time": "2022-05-10T17:28:13.252Z"
   },
   {
    "duration": 6,
    "start_time": "2022-05-10T17:28:13.275Z"
   },
   {
    "duration": 13,
    "start_time": "2022-05-10T17:28:13.283Z"
   },
   {
    "duration": 39,
    "start_time": "2022-05-10T17:28:13.298Z"
   },
   {
    "duration": 6,
    "start_time": "2022-05-10T17:28:13.340Z"
   },
   {
    "duration": 9,
    "start_time": "2022-05-10T17:28:13.348Z"
   },
   {
    "duration": 8,
    "start_time": "2022-05-10T17:28:13.358Z"
   },
   {
    "duration": 10,
    "start_time": "2022-05-10T17:28:13.367Z"
   },
   {
    "duration": 6,
    "start_time": "2022-05-10T17:28:13.379Z"
   },
   {
    "duration": 47,
    "start_time": "2022-05-10T17:28:13.387Z"
   },
   {
    "duration": 7,
    "start_time": "2022-05-10T17:28:13.435Z"
   },
   {
    "duration": 7,
    "start_time": "2022-05-10T17:28:13.443Z"
   },
   {
    "duration": 9,
    "start_time": "2022-05-10T17:28:13.451Z"
   },
   {
    "duration": 6,
    "start_time": "2022-05-10T17:28:13.461Z"
   },
   {
    "duration": 8,
    "start_time": "2022-05-10T17:28:13.469Z"
   },
   {
    "duration": 5,
    "start_time": "2022-05-10T17:28:13.479Z"
   },
   {
    "duration": 51,
    "start_time": "2022-05-10T17:28:13.486Z"
   },
   {
    "duration": 6,
    "start_time": "2022-05-10T17:28:13.539Z"
   },
   {
    "duration": 7,
    "start_time": "2022-05-10T17:28:16.462Z"
   },
   {
    "duration": 5,
    "start_time": "2022-05-10T17:34:35.418Z"
   },
   {
    "duration": 11,
    "start_time": "2022-05-10T17:34:35.883Z"
   },
   {
    "duration": 22,
    "start_time": "2022-05-10T17:34:36.443Z"
   },
   {
    "duration": 10,
    "start_time": "2022-05-10T17:43:03.008Z"
   },
   {
    "duration": 10,
    "start_time": "2022-05-10T17:46:57.964Z"
   },
   {
    "duration": 10,
    "start_time": "2022-05-10T17:47:11.392Z"
   },
   {
    "duration": 2,
    "start_time": "2022-05-10T17:47:56.396Z"
   },
   {
    "duration": 139,
    "start_time": "2022-05-10T17:47:56.789Z"
   },
   {
    "duration": 4,
    "start_time": "2022-05-10T17:48:12.911Z"
   },
   {
    "duration": 51,
    "start_time": "2022-05-10T17:48:12.917Z"
   },
   {
    "duration": 13,
    "start_time": "2022-05-10T17:48:12.970Z"
   },
   {
    "duration": 7,
    "start_time": "2022-05-10T17:48:12.985Z"
   },
   {
    "duration": 7,
    "start_time": "2022-05-10T17:48:12.994Z"
   },
   {
    "duration": 34,
    "start_time": "2022-05-10T17:48:13.002Z"
   },
   {
    "duration": 8,
    "start_time": "2022-05-10T17:48:13.038Z"
   },
   {
    "duration": 18,
    "start_time": "2022-05-10T17:48:13.050Z"
   },
   {
    "duration": 14,
    "start_time": "2022-05-10T17:48:13.070Z"
   },
   {
    "duration": 12,
    "start_time": "2022-05-10T17:48:13.085Z"
   },
   {
    "duration": 57,
    "start_time": "2022-05-10T17:48:13.099Z"
   },
   {
    "duration": 6,
    "start_time": "2022-05-10T17:48:13.158Z"
   },
   {
    "duration": 13,
    "start_time": "2022-05-10T17:48:13.166Z"
   },
   {
    "duration": 9,
    "start_time": "2022-05-10T17:48:13.181Z"
   },
   {
    "duration": 6,
    "start_time": "2022-05-10T17:48:13.192Z"
   },
   {
    "duration": 42,
    "start_time": "2022-05-10T17:48:13.199Z"
   },
   {
    "duration": 11,
    "start_time": "2022-05-10T17:48:13.243Z"
   },
   {
    "duration": 10,
    "start_time": "2022-05-10T17:48:13.256Z"
   },
   {
    "duration": 8,
    "start_time": "2022-05-10T17:48:13.268Z"
   },
   {
    "duration": 13,
    "start_time": "2022-05-10T17:48:13.277Z"
   },
   {
    "duration": 9,
    "start_time": "2022-05-10T17:48:13.292Z"
   },
   {
    "duration": 39,
    "start_time": "2022-05-10T17:48:13.303Z"
   },
   {
    "duration": 25,
    "start_time": "2022-05-10T17:48:13.344Z"
   },
   {
    "duration": 15,
    "start_time": "2022-05-10T17:48:13.372Z"
   },
   {
    "duration": 19,
    "start_time": "2022-05-10T17:48:13.389Z"
   },
   {
    "duration": 14,
    "start_time": "2022-05-10T17:48:13.410Z"
   },
   {
    "duration": 29,
    "start_time": "2022-05-10T17:48:13.426Z"
   },
   {
    "duration": 21,
    "start_time": "2022-05-10T17:48:13.457Z"
   },
   {
    "duration": 9,
    "start_time": "2022-05-10T17:48:13.480Z"
   },
   {
    "duration": 19,
    "start_time": "2022-05-10T17:48:13.491Z"
   },
   {
    "duration": 22,
    "start_time": "2022-05-10T17:48:13.512Z"
   },
   {
    "duration": 25,
    "start_time": "2022-05-10T17:48:13.536Z"
   },
   {
    "duration": 11,
    "start_time": "2022-05-10T17:48:13.563Z"
   },
   {
    "duration": 148,
    "start_time": "2022-05-10T17:48:15.645Z"
   },
   {
    "duration": 143,
    "start_time": "2022-05-10T17:48:39.507Z"
   },
   {
    "duration": 174,
    "start_time": "2022-05-10T17:48:46.959Z"
   },
   {
    "duration": 17,
    "start_time": "2022-05-10T17:48:56.575Z"
   },
   {
    "duration": 8,
    "start_time": "2022-05-10T17:49:57.124Z"
   },
   {
    "duration": 4,
    "start_time": "2022-05-10T17:53:26.621Z"
   },
   {
    "duration": 4,
    "start_time": "2022-05-10T17:53:41.692Z"
   },
   {
    "duration": 4,
    "start_time": "2022-05-10T17:53:50.257Z"
   },
   {
    "duration": 4,
    "start_time": "2022-05-10T17:53:56.837Z"
   },
   {
    "duration": 4,
    "start_time": "2022-05-10T17:53:57.197Z"
   },
   {
    "duration": 4,
    "start_time": "2022-05-10T17:54:43.693Z"
   },
   {
    "duration": 4,
    "start_time": "2022-05-10T17:54:45.034Z"
   },
   {
    "duration": 4,
    "start_time": "2022-05-10T17:54:45.472Z"
   },
   {
    "duration": 3,
    "start_time": "2022-05-10T17:54:45.872Z"
   },
   {
    "duration": 188,
    "start_time": "2022-05-10T17:57:23.766Z"
   },
   {
    "duration": 477,
    "start_time": "2022-05-10T17:58:06.523Z"
   },
   {
    "duration": 198,
    "start_time": "2022-05-10T17:58:12.994Z"
   },
   {
    "duration": 1556,
    "start_time": "2022-05-10T17:58:47.593Z"
   },
   {
    "duration": 3632,
    "start_time": "2022-05-10T17:59:21.075Z"
   },
   {
    "duration": 9524,
    "start_time": "2022-05-10T17:59:31.957Z"
   },
   {
    "duration": 3,
    "start_time": "2022-05-10T18:00:48.638Z"
   },
   {
    "duration": 279,
    "start_time": "2022-05-10T18:00:49.155Z"
   },
   {
    "duration": 172,
    "start_time": "2022-05-10T18:01:46.592Z"
   },
   {
    "duration": 427,
    "start_time": "2022-05-10T18:02:37.882Z"
   },
   {
    "duration": 4,
    "start_time": "2022-05-10T18:05:07.590Z"
   },
   {
    "duration": 176,
    "start_time": "2022-05-10T18:05:07.596Z"
   },
   {
    "duration": 13,
    "start_time": "2022-05-10T18:05:07.774Z"
   },
   {
    "duration": 24,
    "start_time": "2022-05-10T18:05:07.789Z"
   },
   {
    "duration": 20,
    "start_time": "2022-05-10T18:05:07.816Z"
   },
   {
    "duration": 10,
    "start_time": "2022-05-10T18:05:07.838Z"
   },
   {
    "duration": 12,
    "start_time": "2022-05-10T18:05:07.849Z"
   },
   {
    "duration": 19,
    "start_time": "2022-05-10T18:05:07.863Z"
   },
   {
    "duration": 20,
    "start_time": "2022-05-10T18:05:07.884Z"
   },
   {
    "duration": 20,
    "start_time": "2022-05-10T18:05:07.906Z"
   },
   {
    "duration": 19,
    "start_time": "2022-05-10T18:05:07.929Z"
   },
   {
    "duration": 6,
    "start_time": "2022-05-10T18:05:07.949Z"
   },
   {
    "duration": 27,
    "start_time": "2022-05-10T18:05:07.956Z"
   },
   {
    "duration": 10,
    "start_time": "2022-05-10T18:05:07.985Z"
   },
   {
    "duration": 15,
    "start_time": "2022-05-10T18:05:07.996Z"
   },
   {
    "duration": 23,
    "start_time": "2022-05-10T18:05:08.013Z"
   },
   {
    "duration": 14,
    "start_time": "2022-05-10T18:05:08.038Z"
   },
   {
    "duration": 33,
    "start_time": "2022-05-10T18:05:08.054Z"
   },
   {
    "duration": 8,
    "start_time": "2022-05-10T18:05:08.089Z"
   },
   {
    "duration": 21,
    "start_time": "2022-05-10T18:05:08.098Z"
   },
   {
    "duration": 22,
    "start_time": "2022-05-10T18:05:08.121Z"
   },
   {
    "duration": 12,
    "start_time": "2022-05-10T18:05:08.145Z"
   },
   {
    "duration": 29,
    "start_time": "2022-05-10T18:05:08.158Z"
   },
   {
    "duration": 6,
    "start_time": "2022-05-10T18:05:08.188Z"
   },
   {
    "duration": 9,
    "start_time": "2022-05-10T18:05:08.196Z"
   },
   {
    "duration": 14,
    "start_time": "2022-05-10T18:05:08.207Z"
   },
   {
    "duration": 18,
    "start_time": "2022-05-10T18:05:08.222Z"
   },
   {
    "duration": 9,
    "start_time": "2022-05-10T18:05:08.241Z"
   },
   {
    "duration": 4,
    "start_time": "2022-05-10T18:05:13.012Z"
   },
   {
    "duration": 6,
    "start_time": "2022-05-10T18:05:29.856Z"
   },
   {
    "duration": 592,
    "start_time": "2022-05-10T18:05:31.303Z"
   },
   {
    "duration": 116,
    "start_time": "2022-05-10T18:07:52.168Z"
   },
   {
    "duration": 126,
    "start_time": "2022-05-10T18:08:25.689Z"
   },
   {
    "duration": 204,
    "start_time": "2022-05-10T18:09:03.772Z"
   },
   {
    "duration": 9190,
    "start_time": "2022-05-10T18:09:27.157Z"
   },
   {
    "duration": 407,
    "start_time": "2022-05-10T18:18:17.395Z"
   },
   {
    "duration": 335,
    "start_time": "2022-05-10T18:19:14.711Z"
   },
   {
    "duration": 29,
    "start_time": "2022-05-10T18:24:34.588Z"
   },
   {
    "duration": 19,
    "start_time": "2022-05-10T18:24:35.306Z"
   },
   {
    "duration": 4,
    "start_time": "2022-05-10T18:24:52.437Z"
   },
   {
    "duration": 47,
    "start_time": "2022-05-10T18:24:52.444Z"
   },
   {
    "duration": 15,
    "start_time": "2022-05-10T18:24:52.494Z"
   },
   {
    "duration": 23,
    "start_time": "2022-05-10T18:24:52.512Z"
   },
   {
    "duration": 7,
    "start_time": "2022-05-10T18:24:52.538Z"
   },
   {
    "duration": 11,
    "start_time": "2022-05-10T18:24:52.547Z"
   },
   {
    "duration": 9,
    "start_time": "2022-05-10T18:24:52.559Z"
   },
   {
    "duration": 15,
    "start_time": "2022-05-10T18:24:52.570Z"
   },
   {
    "duration": 47,
    "start_time": "2022-05-10T18:24:52.587Z"
   },
   {
    "duration": 17,
    "start_time": "2022-05-10T18:24:52.636Z"
   },
   {
    "duration": 22,
    "start_time": "2022-05-10T18:24:52.657Z"
   },
   {
    "duration": 7,
    "start_time": "2022-05-10T18:24:52.682Z"
   },
   {
    "duration": 17,
    "start_time": "2022-05-10T18:24:52.691Z"
   },
   {
    "duration": 11,
    "start_time": "2022-05-10T18:24:52.734Z"
   },
   {
    "duration": 6,
    "start_time": "2022-05-10T18:24:52.747Z"
   },
   {
    "duration": 8,
    "start_time": "2022-05-10T18:24:52.754Z"
   },
   {
    "duration": 7,
    "start_time": "2022-05-10T18:24:52.764Z"
   },
   {
    "duration": 12,
    "start_time": "2022-05-10T18:24:52.772Z"
   },
   {
    "duration": 9,
    "start_time": "2022-05-10T18:24:52.786Z"
   },
   {
    "duration": 46,
    "start_time": "2022-05-10T18:24:52.797Z"
   },
   {
    "duration": 14,
    "start_time": "2022-05-10T18:24:52.845Z"
   },
   {
    "duration": 17,
    "start_time": "2022-05-10T18:24:52.861Z"
   },
   {
    "duration": 30,
    "start_time": "2022-05-10T18:24:52.879Z"
   },
   {
    "duration": 7,
    "start_time": "2022-05-10T18:24:52.911Z"
   },
   {
    "duration": 12,
    "start_time": "2022-05-10T18:24:52.919Z"
   },
   {
    "duration": 9,
    "start_time": "2022-05-10T18:24:52.932Z"
   },
   {
    "duration": 9,
    "start_time": "2022-05-10T18:24:52.943Z"
   },
   {
    "duration": 9,
    "start_time": "2022-05-10T18:24:52.953Z"
   },
   {
    "duration": 6,
    "start_time": "2022-05-10T18:24:52.965Z"
   },
   {
    "duration": 160,
    "start_time": "2022-05-10T18:24:52.973Z"
   },
   {
    "duration": 4,
    "start_time": "2022-05-10T18:24:53.135Z"
   },
   {
    "duration": 14,
    "start_time": "2022-05-10T18:24:53.141Z"
   },
   {
    "duration": 12,
    "start_time": "2022-05-10T18:24:53.157Z"
   },
   {
    "duration": 12,
    "start_time": "2022-05-10T18:24:53.171Z"
   },
   {
    "duration": 4,
    "start_time": "2022-05-10T18:24:53.185Z"
   },
   {
    "duration": 6,
    "start_time": "2022-05-10T18:24:53.190Z"
   },
   {
    "duration": 5,
    "start_time": "2022-05-10T18:24:53.198Z"
   },
   {
    "duration": 8,
    "start_time": "2022-05-10T18:24:53.234Z"
   },
   {
    "duration": 8,
    "start_time": "2022-05-10T18:24:53.244Z"
   },
   {
    "duration": 6,
    "start_time": "2022-05-10T18:24:53.253Z"
   },
   {
    "duration": 195,
    "start_time": "2022-05-10T18:24:53.420Z"
   },
   {
    "duration": 9387,
    "start_time": "2022-05-10T18:24:53.724Z"
   },
   {
    "duration": 3,
    "start_time": "2022-05-10T18:25:03.113Z"
   },
   {
    "duration": 517,
    "start_time": "2022-05-10T18:25:03.118Z"
   },
   {
    "duration": 443,
    "start_time": "2022-05-10T18:25:03.639Z"
   },
   {
    "duration": 30,
    "start_time": "2022-05-10T18:25:04.084Z"
   },
   {
    "duration": 14,
    "start_time": "2022-05-10T18:25:10.181Z"
   },
   {
    "duration": 3,
    "start_time": "2022-05-10T18:25:57.706Z"
   },
   {
    "duration": 5,
    "start_time": "2022-05-10T18:25:59.509Z"
   },
   {
    "duration": 8,
    "start_time": "2022-05-10T18:26:09.600Z"
   },
   {
    "duration": 5,
    "start_time": "2022-05-10T18:26:21.134Z"
   },
   {
    "duration": 1180,
    "start_time": "2022-05-11T16:33:05.675Z"
   },
   {
    "duration": 61,
    "start_time": "2022-05-11T16:33:06.856Z"
   },
   {
    "duration": 12,
    "start_time": "2022-05-11T16:33:06.918Z"
   },
   {
    "duration": 4,
    "start_time": "2022-05-11T16:33:06.932Z"
   },
   {
    "duration": 9,
    "start_time": "2022-05-11T16:33:06.937Z"
   },
   {
    "duration": 10,
    "start_time": "2022-05-11T16:33:06.947Z"
   },
   {
    "duration": 9,
    "start_time": "2022-05-11T16:33:06.958Z"
   },
   {
    "duration": 16,
    "start_time": "2022-05-11T16:33:06.968Z"
   },
   {
    "duration": 16,
    "start_time": "2022-05-11T16:33:06.986Z"
   },
   {
    "duration": 11,
    "start_time": "2022-05-11T16:33:07.004Z"
   },
   {
    "duration": 18,
    "start_time": "2022-05-11T16:33:07.016Z"
   },
   {
    "duration": 7,
    "start_time": "2022-05-11T16:33:07.035Z"
   },
   {
    "duration": 32,
    "start_time": "2022-05-11T16:33:07.043Z"
   },
   {
    "duration": 9,
    "start_time": "2022-05-11T16:33:07.077Z"
   },
   {
    "duration": 6,
    "start_time": "2022-05-11T16:33:07.088Z"
   },
   {
    "duration": 7,
    "start_time": "2022-05-11T16:33:07.096Z"
   },
   {
    "duration": 5,
    "start_time": "2022-05-11T16:33:07.105Z"
   },
   {
    "duration": 14,
    "start_time": "2022-05-11T16:33:07.112Z"
   },
   {
    "duration": 7,
    "start_time": "2022-05-11T16:33:07.127Z"
   },
   {
    "duration": 6,
    "start_time": "2022-05-11T16:33:07.172Z"
   },
   {
    "duration": 10,
    "start_time": "2022-05-11T16:33:07.180Z"
   },
   {
    "duration": 6,
    "start_time": "2022-05-11T16:33:07.192Z"
   },
   {
    "duration": 8,
    "start_time": "2022-05-11T16:33:07.199Z"
   },
   {
    "duration": 6,
    "start_time": "2022-05-11T16:33:07.208Z"
   },
   {
    "duration": 13,
    "start_time": "2022-05-11T16:33:07.215Z"
   },
   {
    "duration": 8,
    "start_time": "2022-05-11T16:33:07.229Z"
   },
   {
    "duration": 38,
    "start_time": "2022-05-11T16:33:07.238Z"
   },
   {
    "duration": 5,
    "start_time": "2022-05-11T16:33:07.279Z"
   },
   {
    "duration": 8,
    "start_time": "2022-05-11T16:33:07.285Z"
   },
   {
    "duration": 511,
    "start_time": "2022-05-11T16:33:07.295Z"
   },
   {
    "duration": 4,
    "start_time": "2022-05-11T16:33:07.808Z"
   },
   {
    "duration": 28,
    "start_time": "2022-05-11T16:33:07.813Z"
   },
   {
    "duration": 11,
    "start_time": "2022-05-11T16:33:07.843Z"
   },
   {
    "duration": 15,
    "start_time": "2022-05-11T16:33:07.856Z"
   },
   {
    "duration": 4,
    "start_time": "2022-05-11T16:33:07.873Z"
   },
   {
    "duration": 6,
    "start_time": "2022-05-11T16:33:07.878Z"
   },
   {
    "duration": 7,
    "start_time": "2022-05-11T16:33:07.885Z"
   },
   {
    "duration": 7,
    "start_time": "2022-05-11T16:33:07.894Z"
   },
   {
    "duration": 7,
    "start_time": "2022-05-11T16:33:07.903Z"
   },
   {
    "duration": 6,
    "start_time": "2022-05-11T16:33:07.911Z"
   },
   {
    "duration": 192,
    "start_time": "2022-05-11T16:33:07.918Z"
   },
   {
    "duration": 7736,
    "start_time": "2022-05-11T16:33:08.112Z"
   },
   {
    "duration": 3,
    "start_time": "2022-05-11T16:33:15.850Z"
   },
   {
    "duration": 320,
    "start_time": "2022-05-11T16:33:15.854Z"
   },
   {
    "duration": 478,
    "start_time": "2022-05-11T16:33:16.176Z"
   },
   {
    "duration": 22,
    "start_time": "2022-05-11T16:33:24.771Z"
   },
   {
    "duration": 4,
    "start_time": "2022-05-11T16:33:25.562Z"
   },
   {
    "duration": 4,
    "start_time": "2022-05-11T16:34:07.941Z"
   },
   {
    "duration": 6,
    "start_time": "2022-05-11T17:18:19.347Z"
   },
   {
    "duration": 109,
    "start_time": "2022-05-11T17:25:06.233Z"
   },
   {
    "duration": 4,
    "start_time": "2022-05-11T17:25:12.876Z"
   },
   {
    "duration": 35,
    "start_time": "2022-05-11T17:25:12.884Z"
   },
   {
    "duration": 12,
    "start_time": "2022-05-11T17:25:12.921Z"
   },
   {
    "duration": 4,
    "start_time": "2022-05-11T17:25:12.935Z"
   },
   {
    "duration": 6,
    "start_time": "2022-05-11T17:25:12.941Z"
   },
   {
    "duration": 23,
    "start_time": "2022-05-11T17:25:12.949Z"
   },
   {
    "duration": 9,
    "start_time": "2022-05-11T17:25:12.974Z"
   },
   {
    "duration": 15,
    "start_time": "2022-05-11T17:25:12.984Z"
   },
   {
    "duration": 14,
    "start_time": "2022-05-11T17:25:13.000Z"
   },
   {
    "duration": 11,
    "start_time": "2022-05-11T17:25:13.015Z"
   },
   {
    "duration": 51,
    "start_time": "2022-05-11T17:25:13.029Z"
   },
   {
    "duration": 5,
    "start_time": "2022-05-11T17:25:13.082Z"
   },
   {
    "duration": 13,
    "start_time": "2022-05-11T17:25:13.089Z"
   },
   {
    "duration": 11,
    "start_time": "2022-05-11T17:25:13.103Z"
   },
   {
    "duration": 5,
    "start_time": "2022-05-11T17:25:13.115Z"
   },
   {
    "duration": 9,
    "start_time": "2022-05-11T17:25:13.122Z"
   },
   {
    "duration": 43,
    "start_time": "2022-05-11T17:25:13.132Z"
   },
   {
    "duration": 11,
    "start_time": "2022-05-11T17:25:13.176Z"
   },
   {
    "duration": 7,
    "start_time": "2022-05-11T17:25:13.188Z"
   },
   {
    "duration": 15,
    "start_time": "2022-05-11T17:25:13.196Z"
   },
   {
    "duration": 8,
    "start_time": "2022-05-11T17:25:13.212Z"
   },
   {
    "duration": 6,
    "start_time": "2022-05-11T17:25:13.221Z"
   },
   {
    "duration": 9,
    "start_time": "2022-05-11T17:25:13.228Z"
   },
   {
    "duration": 34,
    "start_time": "2022-05-11T17:25:13.239Z"
   },
   {
    "duration": 6,
    "start_time": "2022-05-11T17:25:13.275Z"
   },
   {
    "duration": 6,
    "start_time": "2022-05-11T17:25:13.282Z"
   },
   {
    "duration": 6,
    "start_time": "2022-05-11T17:25:13.290Z"
   },
   {
    "duration": 5,
    "start_time": "2022-05-11T17:25:13.298Z"
   },
   {
    "duration": 5,
    "start_time": "2022-05-11T17:25:13.306Z"
   },
   {
    "duration": 143,
    "start_time": "2022-05-11T17:25:13.313Z"
   },
   {
    "duration": 13,
    "start_time": "2022-05-11T17:25:13.458Z"
   },
   {
    "duration": 9,
    "start_time": "2022-05-11T17:25:13.473Z"
   },
   {
    "duration": 10,
    "start_time": "2022-05-11T17:25:13.484Z"
   },
   {
    "duration": 11,
    "start_time": "2022-05-11T17:25:13.496Z"
   },
   {
    "duration": 3,
    "start_time": "2022-05-11T17:25:13.509Z"
   },
   {
    "duration": 9,
    "start_time": "2022-05-11T17:25:13.513Z"
   },
   {
    "duration": 6,
    "start_time": "2022-05-11T17:25:13.523Z"
   },
   {
    "duration": 5,
    "start_time": "2022-05-11T17:25:13.530Z"
   },
   {
    "duration": 9,
    "start_time": "2022-05-11T17:25:13.536Z"
   },
   {
    "duration": 28,
    "start_time": "2022-05-11T17:25:13.546Z"
   },
   {
    "duration": 179,
    "start_time": "2022-05-11T17:25:13.576Z"
   },
   {
    "duration": 7822,
    "start_time": "2022-05-11T17:25:13.757Z"
   },
   {
    "duration": 3,
    "start_time": "2022-05-11T17:25:21.581Z"
   },
   {
    "duration": 295,
    "start_time": "2022-05-11T17:25:21.585Z"
   },
   {
    "duration": 391,
    "start_time": "2022-05-11T17:25:21.973Z"
   },
   {
    "duration": 26,
    "start_time": "2022-05-11T17:25:22.365Z"
   },
   {
    "duration": 4,
    "start_time": "2022-05-11T17:25:22.393Z"
   },
   {
    "duration": 4,
    "start_time": "2022-05-11T17:25:31.799Z"
   },
   {
    "duration": 127,
    "start_time": "2022-05-11T17:25:55.367Z"
   },
   {
    "duration": 4,
    "start_time": "2022-05-11T17:27:38.173Z"
   },
   {
    "duration": 7,
    "start_time": "2022-05-11T18:11:19.524Z"
   },
   {
    "duration": 8,
    "start_time": "2022-05-11T18:13:23.175Z"
   },
   {
    "duration": 3,
    "start_time": "2022-05-11T18:19:16.110Z"
   },
   {
    "duration": 17,
    "start_time": "2022-05-11T18:19:49.656Z"
   },
   {
    "duration": 4,
    "start_time": "2022-05-11T18:19:56.159Z"
   },
   {
    "duration": 39,
    "start_time": "2022-05-11T18:19:56.165Z"
   },
   {
    "duration": 11,
    "start_time": "2022-05-11T18:19:56.207Z"
   },
   {
    "duration": 4,
    "start_time": "2022-05-11T18:19:56.220Z"
   },
   {
    "duration": 10,
    "start_time": "2022-05-11T18:19:56.227Z"
   },
   {
    "duration": 6,
    "start_time": "2022-05-11T18:19:56.239Z"
   },
   {
    "duration": 24,
    "start_time": "2022-05-11T18:19:56.247Z"
   },
   {
    "duration": 11,
    "start_time": "2022-05-11T18:19:56.273Z"
   },
   {
    "duration": 11,
    "start_time": "2022-05-11T18:19:56.285Z"
   },
   {
    "duration": 10,
    "start_time": "2022-05-11T18:19:56.298Z"
   },
   {
    "duration": 17,
    "start_time": "2022-05-11T18:19:56.310Z"
   },
   {
    "duration": 43,
    "start_time": "2022-05-11T18:19:56.328Z"
   },
   {
    "duration": 11,
    "start_time": "2022-05-11T18:19:56.373Z"
   },
   {
    "duration": 10,
    "start_time": "2022-05-11T18:19:56.386Z"
   },
   {
    "duration": 6,
    "start_time": "2022-05-11T18:19:56.397Z"
   },
   {
    "duration": 14,
    "start_time": "2022-05-11T18:19:56.411Z"
   },
   {
    "duration": 6,
    "start_time": "2022-05-11T18:19:56.427Z"
   },
   {
    "duration": 40,
    "start_time": "2022-05-11T18:19:56.434Z"
   },
   {
    "duration": 6,
    "start_time": "2022-05-11T18:19:56.476Z"
   },
   {
    "duration": 11,
    "start_time": "2022-05-11T18:19:56.484Z"
   },
   {
    "duration": 9,
    "start_time": "2022-05-11T18:19:56.497Z"
   },
   {
    "duration": 8,
    "start_time": "2022-05-11T18:19:56.507Z"
   },
   {
    "duration": 7,
    "start_time": "2022-05-11T18:19:56.517Z"
   },
   {
    "duration": 5,
    "start_time": "2022-05-11T18:19:56.526Z"
   },
   {
    "duration": 7,
    "start_time": "2022-05-11T18:19:56.532Z"
   },
   {
    "duration": 34,
    "start_time": "2022-05-11T18:19:56.541Z"
   },
   {
    "duration": 9,
    "start_time": "2022-05-11T18:19:56.577Z"
   },
   {
    "duration": 6,
    "start_time": "2022-05-11T18:19:56.588Z"
   },
   {
    "duration": 9,
    "start_time": "2022-05-11T18:19:56.595Z"
   },
   {
    "duration": 130,
    "start_time": "2022-05-11T18:19:56.605Z"
   },
   {
    "duration": 4,
    "start_time": "2022-05-11T18:19:56.736Z"
   },
   {
    "duration": 12,
    "start_time": "2022-05-11T18:19:56.742Z"
   },
   {
    "duration": 22,
    "start_time": "2022-05-11T18:19:56.755Z"
   },
   {
    "duration": 9,
    "start_time": "2022-05-11T18:19:56.779Z"
   },
   {
    "duration": 4,
    "start_time": "2022-05-11T18:19:56.789Z"
   },
   {
    "duration": 4,
    "start_time": "2022-05-11T18:19:56.794Z"
   },
   {
    "duration": 5,
    "start_time": "2022-05-11T18:19:56.799Z"
   },
   {
    "duration": 6,
    "start_time": "2022-05-11T18:19:56.805Z"
   },
   {
    "duration": 6,
    "start_time": "2022-05-11T18:19:56.813Z"
   },
   {
    "duration": 6,
    "start_time": "2022-05-11T18:19:56.821Z"
   },
   {
    "duration": 205,
    "start_time": "2022-05-11T18:19:56.828Z"
   },
   {
    "duration": 7803,
    "start_time": "2022-05-11T18:19:57.034Z"
   },
   {
    "duration": 4,
    "start_time": "2022-05-11T18:20:04.839Z"
   },
   {
    "duration": 330,
    "start_time": "2022-05-11T18:20:04.844Z"
   },
   {
    "duration": 467,
    "start_time": "2022-05-11T18:20:05.176Z"
   },
   {
    "duration": 30,
    "start_time": "2022-05-11T18:20:05.647Z"
   },
   {
    "duration": 5,
    "start_time": "2022-05-11T18:20:05.679Z"
   },
   {
    "duration": 129,
    "start_time": "2022-05-11T18:20:05.685Z"
   },
   {
    "duration": 17,
    "start_time": "2022-05-11T18:20:05.817Z"
   },
   {
    "duration": 8,
    "start_time": "2022-05-11T18:20:05.836Z"
   },
   {
    "duration": 10,
    "start_time": "2022-05-11T18:20:05.846Z"
   },
   {
    "duration": 14,
    "start_time": "2022-05-11T18:20:05.858Z"
   },
   {
    "duration": 10,
    "start_time": "2022-05-11T18:20:14.107Z"
   },
   {
    "duration": 7,
    "start_time": "2022-05-11T18:21:19.864Z"
   },
   {
    "duration": 13,
    "start_time": "2022-05-11T18:22:47.584Z"
   },
   {
    "duration": 314,
    "start_time": "2022-05-11T18:29:56.343Z"
   },
   {
    "duration": 11037,
    "start_time": "2022-05-11T18:31:31.200Z"
   },
   {
    "duration": 2,
    "start_time": "2022-05-11T18:32:58.925Z"
   },
   {
    "duration": 286,
    "start_time": "2022-05-11T18:32:59.591Z"
   },
   {
    "duration": 369,
    "start_time": "2022-05-11T18:34:42.786Z"
   },
   {
    "duration": 25,
    "start_time": "2022-05-11T18:53:40.006Z"
   },
   {
    "duration": 5,
    "start_time": "2022-05-11T18:53:40.524Z"
   },
   {
    "duration": 118,
    "start_time": "2022-05-11T18:54:25.784Z"
   },
   {
    "duration": 7,
    "start_time": "2022-05-11T18:55:26.555Z"
   },
   {
    "duration": 5,
    "start_time": "2022-05-11T18:59:31.736Z"
   },
   {
    "duration": 38,
    "start_time": "2022-05-11T18:59:31.743Z"
   },
   {
    "duration": 12,
    "start_time": "2022-05-11T18:59:31.784Z"
   },
   {
    "duration": 7,
    "start_time": "2022-05-11T18:59:31.798Z"
   },
   {
    "duration": 5,
    "start_time": "2022-05-11T18:59:31.808Z"
   },
   {
    "duration": 5,
    "start_time": "2022-05-11T18:59:31.814Z"
   },
   {
    "duration": 6,
    "start_time": "2022-05-11T18:59:31.820Z"
   },
   {
    "duration": 50,
    "start_time": "2022-05-11T18:59:31.828Z"
   },
   {
    "duration": 13,
    "start_time": "2022-05-11T18:59:31.879Z"
   },
   {
    "duration": 12,
    "start_time": "2022-05-11T18:59:31.894Z"
   },
   {
    "duration": 18,
    "start_time": "2022-05-11T18:59:31.909Z"
   },
   {
    "duration": 6,
    "start_time": "2022-05-11T18:59:31.928Z"
   },
   {
    "duration": 43,
    "start_time": "2022-05-11T18:59:31.936Z"
   },
   {
    "duration": 10,
    "start_time": "2022-05-11T18:59:31.981Z"
   },
   {
    "duration": 6,
    "start_time": "2022-05-11T18:59:31.992Z"
   },
   {
    "duration": 7,
    "start_time": "2022-05-11T18:59:31.999Z"
   },
   {
    "duration": 9,
    "start_time": "2022-05-11T18:59:32.008Z"
   },
   {
    "duration": 18,
    "start_time": "2022-05-11T18:59:32.019Z"
   },
   {
    "duration": 6,
    "start_time": "2022-05-11T18:59:32.040Z"
   },
   {
    "duration": 6,
    "start_time": "2022-05-11T18:59:32.071Z"
   },
   {
    "duration": 8,
    "start_time": "2022-05-11T18:59:32.079Z"
   },
   {
    "duration": 6,
    "start_time": "2022-05-11T18:59:32.089Z"
   },
   {
    "duration": 9,
    "start_time": "2022-05-11T18:59:32.097Z"
   },
   {
    "duration": 5,
    "start_time": "2022-05-11T18:59:32.107Z"
   },
   {
    "duration": 9,
    "start_time": "2022-05-11T18:59:32.114Z"
   },
   {
    "duration": 5,
    "start_time": "2022-05-11T18:59:32.125Z"
   },
   {
    "duration": 45,
    "start_time": "2022-05-11T18:59:32.131Z"
   },
   {
    "duration": 6,
    "start_time": "2022-05-11T18:59:32.177Z"
   },
   {
    "duration": 5,
    "start_time": "2022-05-11T18:59:32.186Z"
   },
   {
    "duration": 127,
    "start_time": "2022-05-11T18:59:32.193Z"
   },
   {
    "duration": 4,
    "start_time": "2022-05-11T18:59:32.322Z"
   },
   {
    "duration": 11,
    "start_time": "2022-05-11T18:59:32.328Z"
   },
   {
    "duration": 34,
    "start_time": "2022-05-11T18:59:32.340Z"
   },
   {
    "duration": 10,
    "start_time": "2022-05-11T18:59:32.376Z"
   },
   {
    "duration": 4,
    "start_time": "2022-05-11T18:59:32.387Z"
   },
   {
    "duration": 5,
    "start_time": "2022-05-11T18:59:32.393Z"
   },
   {
    "duration": 5,
    "start_time": "2022-05-11T18:59:32.400Z"
   },
   {
    "duration": 6,
    "start_time": "2022-05-11T18:59:32.406Z"
   },
   {
    "duration": 5,
    "start_time": "2022-05-11T18:59:32.413Z"
   },
   {
    "duration": 5,
    "start_time": "2022-05-11T18:59:32.420Z"
   },
   {
    "duration": 218,
    "start_time": "2022-05-11T18:59:32.428Z"
   },
   {
    "duration": 8205,
    "start_time": "2022-05-11T18:59:32.649Z"
   },
   {
    "duration": 3,
    "start_time": "2022-05-11T18:59:40.856Z"
   },
   {
    "duration": 311,
    "start_time": "2022-05-11T18:59:40.860Z"
   },
   {
    "duration": 388,
    "start_time": "2022-05-11T18:59:41.174Z"
   },
   {
    "duration": 27,
    "start_time": "2022-05-11T18:59:41.563Z"
   },
   {
    "duration": 4,
    "start_time": "2022-05-11T18:59:41.592Z"
   },
   {
    "duration": 134,
    "start_time": "2022-05-11T18:59:41.597Z"
   },
   {
    "duration": 6,
    "start_time": "2022-05-11T18:59:41.733Z"
   },
   {
    "duration": 6,
    "start_time": "2022-05-11T18:59:41.741Z"
   },
   {
    "duration": 24,
    "start_time": "2022-05-11T18:59:41.750Z"
   },
   {
    "duration": 4,
    "start_time": "2022-05-11T18:59:41.776Z"
   },
   {
    "duration": 14,
    "start_time": "2022-05-11T18:59:41.782Z"
   },
   {
    "duration": 11,
    "start_time": "2022-05-11T18:59:41.798Z"
   },
   {
    "duration": 264,
    "start_time": "2022-05-11T18:59:41.810Z"
   },
   {
    "duration": 10946,
    "start_time": "2022-05-11T18:59:42.076Z"
   },
   {
    "duration": 3,
    "start_time": "2022-05-11T18:59:53.025Z"
   },
   {
    "duration": 348,
    "start_time": "2022-05-11T18:59:53.030Z"
   },
   {
    "duration": 561,
    "start_time": "2022-05-11T18:59:53.380Z"
   },
   {
    "duration": 38,
    "start_time": "2022-05-11T18:59:53.943Z"
   },
   {
    "duration": 5,
    "start_time": "2022-05-11T18:59:53.984Z"
   },
   {
    "duration": 124,
    "start_time": "2022-05-11T18:59:53.991Z"
   },
   {
    "duration": 6,
    "start_time": "2022-05-11T18:59:54.116Z"
   },
   {
    "duration": 380,
    "start_time": "2022-05-11T19:24:30.315Z"
   },
   {
    "duration": 110,
    "start_time": "2022-05-11T19:26:29.933Z"
   },
   {
    "duration": 416,
    "start_time": "2022-05-11T19:26:37.479Z"
   },
   {
    "duration": 413,
    "start_time": "2022-05-11T19:26:43.700Z"
   },
   {
    "duration": 403,
    "start_time": "2022-05-11T19:26:51.136Z"
   },
   {
    "duration": 393,
    "start_time": "2022-05-11T19:26:55.543Z"
   },
   {
    "duration": 406,
    "start_time": "2022-05-11T19:27:00.044Z"
   },
   {
    "duration": 24,
    "start_time": "2022-05-11T19:33:26.412Z"
   },
   {
    "duration": 4,
    "start_time": "2022-05-11T19:33:27.303Z"
   },
   {
    "duration": 117,
    "start_time": "2022-05-11T19:34:03.994Z"
   },
   {
    "duration": 7,
    "start_time": "2022-05-11T19:34:55.218Z"
   },
   {
    "duration": 4,
    "start_time": "2022-05-11T19:37:01.595Z"
   },
   {
    "duration": 39,
    "start_time": "2022-05-11T19:37:01.602Z"
   },
   {
    "duration": 13,
    "start_time": "2022-05-11T19:37:01.643Z"
   },
   {
    "duration": 4,
    "start_time": "2022-05-11T19:37:01.658Z"
   },
   {
    "duration": 8,
    "start_time": "2022-05-11T19:37:01.664Z"
   },
   {
    "duration": 5,
    "start_time": "2022-05-11T19:37:01.675Z"
   },
   {
    "duration": 6,
    "start_time": "2022-05-11T19:37:01.682Z"
   },
   {
    "duration": 12,
    "start_time": "2022-05-11T19:37:01.689Z"
   },
   {
    "duration": 11,
    "start_time": "2022-05-11T19:37:01.703Z"
   },
   {
    "duration": 12,
    "start_time": "2022-05-11T19:37:01.716Z"
   },
   {
    "duration": 54,
    "start_time": "2022-05-11T19:37:01.730Z"
   },
   {
    "duration": 7,
    "start_time": "2022-05-11T19:37:01.786Z"
   },
   {
    "duration": 15,
    "start_time": "2022-05-11T19:37:01.795Z"
   },
   {
    "duration": 12,
    "start_time": "2022-05-11T19:37:01.812Z"
   },
   {
    "duration": 48,
    "start_time": "2022-05-11T19:37:01.826Z"
   },
   {
    "duration": 10,
    "start_time": "2022-05-11T19:37:01.876Z"
   },
   {
    "duration": 7,
    "start_time": "2022-05-11T19:37:01.888Z"
   },
   {
    "duration": 16,
    "start_time": "2022-05-11T19:37:01.896Z"
   },
   {
    "duration": 15,
    "start_time": "2022-05-11T19:37:01.914Z"
   },
   {
    "duration": 41,
    "start_time": "2022-05-11T19:37:01.931Z"
   },
   {
    "duration": 7,
    "start_time": "2022-05-11T19:37:01.974Z"
   },
   {
    "duration": 10,
    "start_time": "2022-05-11T19:37:01.983Z"
   },
   {
    "duration": 10,
    "start_time": "2022-05-11T19:37:01.995Z"
   },
   {
    "duration": 5,
    "start_time": "2022-05-11T19:37:02.008Z"
   },
   {
    "duration": 6,
    "start_time": "2022-05-11T19:37:02.015Z"
   },
   {
    "duration": 5,
    "start_time": "2022-05-11T19:37:02.023Z"
   },
   {
    "duration": 47,
    "start_time": "2022-05-11T19:37:02.030Z"
   },
   {
    "duration": 5,
    "start_time": "2022-05-11T19:37:02.079Z"
   },
   {
    "duration": 6,
    "start_time": "2022-05-11T19:37:02.086Z"
   },
   {
    "duration": 136,
    "start_time": "2022-05-11T19:37:02.094Z"
   },
   {
    "duration": 4,
    "start_time": "2022-05-11T19:37:02.232Z"
   },
   {
    "duration": 10,
    "start_time": "2022-05-11T19:37:02.238Z"
   },
   {
    "duration": 24,
    "start_time": "2022-05-11T19:37:02.251Z"
   },
   {
    "duration": 10,
    "start_time": "2022-05-11T19:37:02.276Z"
   },
   {
    "duration": 4,
    "start_time": "2022-05-11T19:37:02.287Z"
   },
   {
    "duration": 4,
    "start_time": "2022-05-11T19:37:02.293Z"
   },
   {
    "duration": 5,
    "start_time": "2022-05-11T19:37:02.299Z"
   },
   {
    "duration": 4,
    "start_time": "2022-05-11T19:37:02.305Z"
   },
   {
    "duration": 4,
    "start_time": "2022-05-11T19:37:02.311Z"
   },
   {
    "duration": 5,
    "start_time": "2022-05-11T19:37:02.316Z"
   },
   {
    "duration": 273,
    "start_time": "2022-05-11T19:37:02.323Z"
   },
   {
    "duration": 7966,
    "start_time": "2022-05-11T19:37:02.598Z"
   },
   {
    "duration": 5,
    "start_time": "2022-05-11T19:37:10.566Z"
   },
   {
    "duration": 708,
    "start_time": "2022-05-11T19:37:10.572Z"
   },
   {
    "duration": 481,
    "start_time": "2022-05-11T19:37:11.282Z"
   },
   {
    "duration": 27,
    "start_time": "2022-05-11T19:37:11.764Z"
   },
   {
    "duration": 4,
    "start_time": "2022-05-11T19:37:11.793Z"
   },
   {
    "duration": 132,
    "start_time": "2022-05-11T19:37:11.798Z"
   },
   {
    "duration": 6,
    "start_time": "2022-05-11T19:37:11.931Z"
   },
   {
    "duration": 7,
    "start_time": "2022-05-11T19:37:11.939Z"
   },
   {
    "duration": 28,
    "start_time": "2022-05-11T19:37:11.947Z"
   },
   {
    "duration": 4,
    "start_time": "2022-05-11T19:37:11.977Z"
   },
   {
    "duration": 15,
    "start_time": "2022-05-11T19:37:11.983Z"
   },
   {
    "duration": 13,
    "start_time": "2022-05-11T19:37:12.000Z"
   },
   {
    "duration": 243,
    "start_time": "2022-05-11T19:37:12.015Z"
   },
   {
    "duration": 11039,
    "start_time": "2022-05-11T19:37:12.259Z"
   },
   {
    "duration": 4,
    "start_time": "2022-05-11T19:37:23.300Z"
   },
   {
    "duration": 271,
    "start_time": "2022-05-11T19:37:23.306Z"
   },
   {
    "duration": 559,
    "start_time": "2022-05-11T19:37:23.583Z"
   },
   {
    "duration": 27,
    "start_time": "2022-05-11T19:37:24.144Z"
   },
   {
    "duration": 4,
    "start_time": "2022-05-11T19:37:24.172Z"
   },
   {
    "duration": 122,
    "start_time": "2022-05-11T19:37:24.178Z"
   },
   {
    "duration": 7,
    "start_time": "2022-05-11T19:37:24.302Z"
   },
   {
    "duration": 384,
    "start_time": "2022-05-11T19:37:24.310Z"
   },
   {
    "duration": 419,
    "start_time": "2022-05-11T19:37:24.695Z"
   },
   {
    "duration": 23,
    "start_time": "2022-05-11T19:37:25.116Z"
   },
   {
    "duration": 5,
    "start_time": "2022-05-11T19:37:25.141Z"
   },
   {
    "duration": 131,
    "start_time": "2022-05-11T19:37:25.147Z"
   },
   {
    "duration": 6,
    "start_time": "2022-05-11T19:37:25.279Z"
   },
   {
    "duration": 1753,
    "start_time": "2022-05-12T17:42:41.796Z"
   },
   {
    "duration": 60,
    "start_time": "2022-05-12T17:42:43.551Z"
   },
   {
    "duration": 15,
    "start_time": "2022-05-12T17:42:43.613Z"
   },
   {
    "duration": 4,
    "start_time": "2022-05-12T17:42:43.630Z"
   },
   {
    "duration": 5,
    "start_time": "2022-05-12T17:42:43.644Z"
   },
   {
    "duration": 10,
    "start_time": "2022-05-12T17:42:43.650Z"
   },
   {
    "duration": 10,
    "start_time": "2022-05-12T17:42:43.661Z"
   },
   {
    "duration": 19,
    "start_time": "2022-05-12T17:42:43.672Z"
   },
   {
    "duration": 24,
    "start_time": "2022-05-12T17:42:43.692Z"
   },
   {
    "duration": 16,
    "start_time": "2022-05-12T17:42:43.717Z"
   },
   {
    "duration": 27,
    "start_time": "2022-05-12T17:42:43.734Z"
   },
   {
    "duration": 7,
    "start_time": "2022-05-12T17:42:43.763Z"
   },
   {
    "duration": 15,
    "start_time": "2022-05-12T17:42:43.772Z"
   },
   {
    "duration": 14,
    "start_time": "2022-05-12T17:42:43.790Z"
   },
   {
    "duration": 7,
    "start_time": "2022-05-12T17:42:43.805Z"
   },
   {
    "duration": 35,
    "start_time": "2022-05-12T17:42:43.813Z"
   },
   {
    "duration": 20,
    "start_time": "2022-05-12T17:42:43.850Z"
   },
   {
    "duration": 15,
    "start_time": "2022-05-12T17:42:43.872Z"
   },
   {
    "duration": 7,
    "start_time": "2022-05-12T17:42:43.888Z"
   },
   {
    "duration": 10,
    "start_time": "2022-05-12T17:42:43.897Z"
   },
   {
    "duration": 12,
    "start_time": "2022-05-12T17:42:43.909Z"
   },
   {
    "duration": 21,
    "start_time": "2022-05-12T17:42:43.923Z"
   },
   {
    "duration": 9,
    "start_time": "2022-05-12T17:42:43.946Z"
   },
   {
    "duration": 18,
    "start_time": "2022-05-12T17:42:43.957Z"
   },
   {
    "duration": 18,
    "start_time": "2022-05-12T17:42:43.977Z"
   },
   {
    "duration": 10,
    "start_time": "2022-05-12T17:42:43.997Z"
   },
   {
    "duration": 13,
    "start_time": "2022-05-12T17:42:44.009Z"
   },
   {
    "duration": 7,
    "start_time": "2022-05-12T17:42:44.024Z"
   },
   {
    "duration": 6,
    "start_time": "2022-05-12T17:42:44.043Z"
   },
   {
    "duration": 139,
    "start_time": "2022-05-12T17:42:44.051Z"
   },
   {
    "duration": 4,
    "start_time": "2022-05-12T17:42:44.192Z"
   },
   {
    "duration": 29,
    "start_time": "2022-05-12T17:42:44.197Z"
   },
   {
    "duration": 13,
    "start_time": "2022-05-12T17:42:44.228Z"
   },
   {
    "duration": 122,
    "start_time": "2022-05-12T17:42:51.777Z"
   },
   {
    "duration": 13,
    "start_time": "2022-05-12T17:48:21.559Z"
   },
   {
    "duration": 5,
    "start_time": "2022-05-12T17:50:10.017Z"
   },
   {
    "duration": 69,
    "start_time": "2022-05-12T17:50:10.025Z"
   },
   {
    "duration": 12,
    "start_time": "2022-05-12T17:50:10.097Z"
   },
   {
    "duration": 4,
    "start_time": "2022-05-12T17:50:10.111Z"
   },
   {
    "duration": 9,
    "start_time": "2022-05-12T17:50:10.117Z"
   },
   {
    "duration": 9,
    "start_time": "2022-05-12T17:50:10.128Z"
   },
   {
    "duration": 10,
    "start_time": "2022-05-12T17:50:10.138Z"
   },
   {
    "duration": 26,
    "start_time": "2022-05-12T17:50:10.150Z"
   },
   {
    "duration": 23,
    "start_time": "2022-05-12T17:50:10.177Z"
   },
   {
    "duration": 13,
    "start_time": "2022-05-12T17:50:10.202Z"
   },
   {
    "duration": 32,
    "start_time": "2022-05-12T17:50:10.218Z"
   },
   {
    "duration": 6,
    "start_time": "2022-05-12T17:50:10.251Z"
   },
   {
    "duration": 13,
    "start_time": "2022-05-12T17:50:10.259Z"
   },
   {
    "duration": 10,
    "start_time": "2022-05-12T17:50:10.274Z"
   },
   {
    "duration": 6,
    "start_time": "2022-05-12T17:50:10.286Z"
   },
   {
    "duration": 7,
    "start_time": "2022-05-12T17:50:10.293Z"
   },
   {
    "duration": 45,
    "start_time": "2022-05-12T17:50:10.302Z"
   },
   {
    "duration": 10,
    "start_time": "2022-05-12T17:50:10.349Z"
   },
   {
    "duration": 8,
    "start_time": "2022-05-12T17:50:10.361Z"
   },
   {
    "duration": 11,
    "start_time": "2022-05-12T17:50:10.370Z"
   },
   {
    "duration": 12,
    "start_time": "2022-05-12T17:50:10.383Z"
   },
   {
    "duration": 6,
    "start_time": "2022-05-12T17:50:10.396Z"
   },
   {
    "duration": 12,
    "start_time": "2022-05-12T17:50:10.404Z"
   },
   {
    "duration": 7,
    "start_time": "2022-05-12T17:50:10.443Z"
   },
   {
    "duration": 10,
    "start_time": "2022-05-12T17:50:10.452Z"
   },
   {
    "duration": 7,
    "start_time": "2022-05-12T17:50:10.464Z"
   },
   {
    "duration": 10,
    "start_time": "2022-05-12T17:50:10.473Z"
   },
   {
    "duration": 7,
    "start_time": "2022-05-12T17:50:10.484Z"
   },
   {
    "duration": 8,
    "start_time": "2022-05-12T17:50:10.495Z"
   },
   {
    "duration": 153,
    "start_time": "2022-05-12T17:50:10.505Z"
   },
   {
    "duration": 5,
    "start_time": "2022-05-12T17:50:10.659Z"
   },
   {
    "duration": 19,
    "start_time": "2022-05-12T17:50:10.666Z"
   },
   {
    "duration": 14,
    "start_time": "2022-05-12T17:50:10.686Z"
   },
   {
    "duration": 19,
    "start_time": "2022-05-12T17:50:10.701Z"
   },
   {
    "duration": 27,
    "start_time": "2022-05-12T17:50:10.722Z"
   },
   {
    "duration": 12,
    "start_time": "2022-05-12T17:50:55.733Z"
   },
   {
    "duration": 7,
    "start_time": "2022-05-12T17:51:18.420Z"
   },
   {
    "duration": 5,
    "start_time": "2022-05-12T17:51:26.512Z"
   },
   {
    "duration": 9,
    "start_time": "2022-05-12T17:51:49.137Z"
   },
   {
    "duration": 6,
    "start_time": "2022-05-12T17:51:53.203Z"
   },
   {
    "duration": 3,
    "start_time": "2022-05-12T17:54:27.541Z"
   },
   {
    "duration": 4,
    "start_time": "2022-05-12T17:54:28.334Z"
   },
   {
    "duration": 4,
    "start_time": "2022-05-12T17:54:29.023Z"
   },
   {
    "duration": 4,
    "start_time": "2022-05-12T17:54:29.599Z"
   },
   {
    "duration": 4,
    "start_time": "2022-05-12T17:54:31.672Z"
   },
   {
    "duration": 4,
    "start_time": "2022-05-12T17:54:32.217Z"
   },
   {
    "duration": 166,
    "start_time": "2022-05-12T17:54:39.363Z"
   },
   {
    "duration": 9048,
    "start_time": "2022-05-12T17:54:53.186Z"
   },
   {
    "duration": 3,
    "start_time": "2022-05-12T17:55:10.320Z"
   },
   {
    "duration": 174,
    "start_time": "2022-05-12T17:55:10.972Z"
   },
   {
    "duration": 324,
    "start_time": "2022-05-12T17:55:32.104Z"
   },
   {
    "duration": 24,
    "start_time": "2022-05-12T17:55:42.189Z"
   },
   {
    "duration": 5,
    "start_time": "2022-05-12T17:55:43.108Z"
   },
   {
    "duration": 129,
    "start_time": "2022-05-12T17:55:50.510Z"
   },
   {
    "duration": 10,
    "start_time": "2022-05-12T17:55:54.073Z"
   },
   {
    "duration": 6,
    "start_time": "2022-05-12T17:57:20.111Z"
   },
   {
    "duration": 9,
    "start_time": "2022-05-12T17:57:22.547Z"
   },
   {
    "duration": 5,
    "start_time": "2022-05-12T17:57:25.674Z"
   },
   {
    "duration": 18,
    "start_time": "2022-05-12T17:57:26.923Z"
   },
   {
    "duration": 5,
    "start_time": "2022-05-12T17:58:49.247Z"
   },
   {
    "duration": 41,
    "start_time": "2022-05-12T17:58:49.254Z"
   },
   {
    "duration": 11,
    "start_time": "2022-05-12T17:58:49.297Z"
   },
   {
    "duration": 5,
    "start_time": "2022-05-12T17:58:49.310Z"
   },
   {
    "duration": 6,
    "start_time": "2022-05-12T17:58:49.317Z"
   },
   {
    "duration": 20,
    "start_time": "2022-05-12T17:58:49.324Z"
   },
   {
    "duration": 6,
    "start_time": "2022-05-12T17:58:49.346Z"
   },
   {
    "duration": 15,
    "start_time": "2022-05-12T17:58:49.354Z"
   },
   {
    "duration": 15,
    "start_time": "2022-05-12T17:58:49.371Z"
   },
   {
    "duration": 14,
    "start_time": "2022-05-12T17:58:49.388Z"
   },
   {
    "duration": 24,
    "start_time": "2022-05-12T17:58:49.442Z"
   },
   {
    "duration": 7,
    "start_time": "2022-05-12T17:58:49.469Z"
   },
   {
    "duration": 14,
    "start_time": "2022-05-12T17:58:49.478Z"
   },
   {
    "duration": 54,
    "start_time": "2022-05-12T17:58:49.494Z"
   },
   {
    "duration": 8,
    "start_time": "2022-05-12T17:58:49.550Z"
   },
   {
    "duration": 9,
    "start_time": "2022-05-12T17:58:49.560Z"
   },
   {
    "duration": 6,
    "start_time": "2022-05-12T17:58:49.572Z"
   },
   {
    "duration": 12,
    "start_time": "2022-05-12T17:58:49.581Z"
   },
   {
    "duration": 7,
    "start_time": "2022-05-12T17:58:49.595Z"
   },
   {
    "duration": 8,
    "start_time": "2022-05-12T17:58:49.644Z"
   },
   {
    "duration": 9,
    "start_time": "2022-05-12T17:58:49.655Z"
   },
   {
    "duration": 11,
    "start_time": "2022-05-12T17:58:49.666Z"
   },
   {
    "duration": 25,
    "start_time": "2022-05-12T17:58:49.679Z"
   },
   {
    "duration": 11,
    "start_time": "2022-05-12T17:58:49.706Z"
   },
   {
    "duration": 27,
    "start_time": "2022-05-12T17:58:49.719Z"
   },
   {
    "duration": 14,
    "start_time": "2022-05-12T17:58:49.751Z"
   },
   {
    "duration": 36,
    "start_time": "2022-05-12T17:58:49.767Z"
   },
   {
    "duration": 6,
    "start_time": "2022-05-12T17:58:49.805Z"
   },
   {
    "duration": 7,
    "start_time": "2022-05-12T17:58:49.814Z"
   },
   {
    "duration": 122,
    "start_time": "2022-05-12T17:58:49.823Z"
   },
   {
    "duration": 5,
    "start_time": "2022-05-12T17:58:49.946Z"
   },
   {
    "duration": 42,
    "start_time": "2022-05-12T17:58:49.953Z"
   },
   {
    "duration": 21,
    "start_time": "2022-05-12T17:58:49.997Z"
   },
   {
    "duration": 23,
    "start_time": "2022-05-12T17:58:50.021Z"
   },
   {
    "duration": 12,
    "start_time": "2022-05-12T17:58:50.047Z"
   },
   {
    "duration": 16,
    "start_time": "2022-05-12T17:58:50.061Z"
   },
   {
    "duration": 4,
    "start_time": "2022-05-12T17:58:50.079Z"
   },
   {
    "duration": 11,
    "start_time": "2022-05-12T17:58:50.085Z"
   },
   {
    "duration": 9,
    "start_time": "2022-05-12T17:58:50.098Z"
   },
   {
    "duration": 11,
    "start_time": "2022-05-12T17:58:50.108Z"
   },
   {
    "duration": 23,
    "start_time": "2022-05-12T17:58:50.121Z"
   },
   {
    "duration": 4,
    "start_time": "2022-05-12T17:58:50.145Z"
   },
   {
    "duration": 170,
    "start_time": "2022-05-12T17:58:50.150Z"
   },
   {
    "duration": 8713,
    "start_time": "2022-05-12T17:58:50.322Z"
   },
   {
    "duration": 7,
    "start_time": "2022-05-12T17:58:59.037Z"
   },
   {
    "duration": 97,
    "start_time": "2022-05-12T17:58:59.046Z"
   },
   {
    "duration": 407,
    "start_time": "2022-05-12T17:58:59.146Z"
   },
   {
    "duration": 24,
    "start_time": "2022-05-12T17:58:59.554Z"
   },
   {
    "duration": 4,
    "start_time": "2022-05-12T17:58:59.580Z"
   },
   {
    "duration": 148,
    "start_time": "2022-05-12T17:58:59.586Z"
   },
   {
    "duration": 13,
    "start_time": "2022-05-12T17:58:59.735Z"
   },
   {
    "duration": 26,
    "start_time": "2022-05-12T17:58:59.751Z"
   },
   {
    "duration": 21,
    "start_time": "2022-05-12T17:58:59.779Z"
   },
   {
    "duration": 4,
    "start_time": "2022-05-12T17:59:06.633Z"
   },
   {
    "duration": 16,
    "start_time": "2022-05-12T17:59:09.973Z"
   },
   {
    "duration": 11,
    "start_time": "2022-05-12T18:01:03.717Z"
   },
   {
    "duration": 4,
    "start_time": "2022-05-12T18:01:21.842Z"
   },
   {
    "duration": 18,
    "start_time": "2022-05-12T18:03:01.665Z"
   },
   {
    "duration": 3,
    "start_time": "2022-05-12T18:03:31.893Z"
   },
   {
    "duration": 7,
    "start_time": "2022-05-12T18:04:26.683Z"
   },
   {
    "duration": 42,
    "start_time": "2022-05-12T18:04:26.692Z"
   },
   {
    "duration": 12,
    "start_time": "2022-05-12T18:04:26.736Z"
   },
   {
    "duration": 17,
    "start_time": "2022-05-12T18:04:26.750Z"
   },
   {
    "duration": 22,
    "start_time": "2022-05-12T18:04:26.769Z"
   },
   {
    "duration": 5,
    "start_time": "2022-05-12T18:04:26.792Z"
   },
   {
    "duration": 7,
    "start_time": "2022-05-12T18:04:26.799Z"
   },
   {
    "duration": 15,
    "start_time": "2022-05-12T18:04:26.808Z"
   },
   {
    "duration": 15,
    "start_time": "2022-05-12T18:04:26.825Z"
   },
   {
    "duration": 12,
    "start_time": "2022-05-12T18:04:26.843Z"
   },
   {
    "duration": 21,
    "start_time": "2022-05-12T18:04:26.858Z"
   },
   {
    "duration": 6,
    "start_time": "2022-05-12T18:04:26.880Z"
   },
   {
    "duration": 15,
    "start_time": "2022-05-12T18:04:26.888Z"
   },
   {
    "duration": 45,
    "start_time": "2022-05-12T18:04:26.905Z"
   },
   {
    "duration": 6,
    "start_time": "2022-05-12T18:04:26.951Z"
   },
   {
    "duration": 10,
    "start_time": "2022-05-12T18:04:26.959Z"
   },
   {
    "duration": 9,
    "start_time": "2022-05-12T18:04:26.971Z"
   },
   {
    "duration": 10,
    "start_time": "2022-05-12T18:04:26.982Z"
   },
   {
    "duration": 9,
    "start_time": "2022-05-12T18:04:26.994Z"
   },
   {
    "duration": 44,
    "start_time": "2022-05-12T18:04:27.005Z"
   },
   {
    "duration": 9,
    "start_time": "2022-05-12T18:04:27.051Z"
   },
   {
    "duration": 6,
    "start_time": "2022-05-12T18:04:27.062Z"
   },
   {
    "duration": 9,
    "start_time": "2022-05-12T18:04:27.070Z"
   },
   {
    "duration": 6,
    "start_time": "2022-05-12T18:04:27.080Z"
   },
   {
    "duration": 7,
    "start_time": "2022-05-12T18:04:27.088Z"
   },
   {
    "duration": 6,
    "start_time": "2022-05-12T18:04:27.098Z"
   },
   {
    "duration": 44,
    "start_time": "2022-05-12T18:04:27.106Z"
   },
   {
    "duration": 6,
    "start_time": "2022-05-12T18:04:27.152Z"
   },
   {
    "duration": 7,
    "start_time": "2022-05-12T18:04:27.160Z"
   },
   {
    "duration": 139,
    "start_time": "2022-05-12T18:04:27.169Z"
   },
   {
    "duration": 4,
    "start_time": "2022-05-12T18:04:27.310Z"
   },
   {
    "duration": 17,
    "start_time": "2022-05-12T18:04:27.316Z"
   },
   {
    "duration": 11,
    "start_time": "2022-05-12T18:04:27.343Z"
   },
   {
    "duration": 13,
    "start_time": "2022-05-12T18:04:27.356Z"
   },
   {
    "duration": 8,
    "start_time": "2022-05-12T18:04:27.371Z"
   },
   {
    "duration": 14,
    "start_time": "2022-05-12T18:04:27.380Z"
   },
   {
    "duration": 4,
    "start_time": "2022-05-12T18:04:38.415Z"
   },
   {
    "duration": 4,
    "start_time": "2022-05-12T18:04:40.742Z"
   },
   {
    "duration": 4,
    "start_time": "2022-05-12T18:04:42.002Z"
   },
   {
    "duration": 4,
    "start_time": "2022-05-12T18:04:42.503Z"
   },
   {
    "duration": 4,
    "start_time": "2022-05-12T18:04:42.926Z"
   },
   {
    "duration": 4,
    "start_time": "2022-05-12T18:04:48.531Z"
   },
   {
    "duration": 4,
    "start_time": "2022-05-12T18:04:49.004Z"
   },
   {
    "duration": 189,
    "start_time": "2022-05-12T18:04:51.882Z"
   },
   {
    "duration": 8876,
    "start_time": "2022-05-12T18:04:56.505Z"
   },
   {
    "duration": 3,
    "start_time": "2022-05-12T18:05:09.699Z"
   },
   {
    "duration": 106,
    "start_time": "2022-05-12T18:05:10.245Z"
   },
   {
    "duration": 323,
    "start_time": "2022-05-12T18:05:13.256Z"
   },
   {
    "duration": 26,
    "start_time": "2022-05-12T18:05:17.816Z"
   },
   {
    "duration": 5,
    "start_time": "2022-05-12T18:05:18.606Z"
   },
   {
    "duration": 127,
    "start_time": "2022-05-12T18:05:21.982Z"
   },
   {
    "duration": 7,
    "start_time": "2022-05-12T18:05:27.190Z"
   },
   {
    "duration": 17,
    "start_time": "2022-05-12T18:05:31.211Z"
   },
   {
    "duration": 3,
    "start_time": "2022-05-12T18:08:58.044Z"
   },
   {
    "duration": 4,
    "start_time": "2022-05-12T18:08:59.378Z"
   },
   {
    "duration": 4,
    "start_time": "2022-05-12T18:08:59.987Z"
   },
   {
    "duration": 4,
    "start_time": "2022-05-12T18:09:00.598Z"
   },
   {
    "duration": 4,
    "start_time": "2022-05-12T18:09:01.165Z"
   },
   {
    "duration": 4,
    "start_time": "2022-05-12T18:09:01.707Z"
   },
   {
    "duration": 3,
    "start_time": "2022-05-12T18:09:02.389Z"
   },
   {
    "duration": 184,
    "start_time": "2022-05-12T18:09:05.942Z"
   },
   {
    "duration": 8502,
    "start_time": "2022-05-12T18:09:09.075Z"
   },
   {
    "duration": 2,
    "start_time": "2022-05-12T18:09:17.580Z"
   },
   {
    "duration": 159,
    "start_time": "2022-05-12T18:09:17.584Z"
   },
   {
    "duration": 315,
    "start_time": "2022-05-12T18:09:21.136Z"
   },
   {
    "duration": 24,
    "start_time": "2022-05-12T18:09:24.687Z"
   },
   {
    "duration": 5,
    "start_time": "2022-05-12T18:09:25.569Z"
   },
   {
    "duration": 124,
    "start_time": "2022-05-12T18:09:27.762Z"
   },
   {
    "duration": 7,
    "start_time": "2022-05-12T18:09:30.789Z"
   },
   {
    "duration": 16,
    "start_time": "2022-05-12T18:09:34.728Z"
   },
   {
    "duration": 9,
    "start_time": "2022-05-12T18:10:00.189Z"
   },
   {
    "duration": 5,
    "start_time": "2022-05-12T18:10:07.691Z"
   },
   {
    "duration": 21,
    "start_time": "2022-05-12T18:10:13.637Z"
   },
   {
    "duration": 11,
    "start_time": "2022-05-12T18:10:33.791Z"
   },
   {
    "duration": 13,
    "start_time": "2022-05-12T18:16:02.697Z"
   },
   {
    "duration": 4,
    "start_time": "2022-05-12T18:16:20.560Z"
   },
   {
    "duration": 60,
    "start_time": "2022-05-12T18:16:43.559Z"
   },
   {
    "duration": 4,
    "start_time": "2022-05-12T18:16:57.948Z"
   },
   {
    "duration": 40,
    "start_time": "2022-05-12T18:16:57.956Z"
   },
   {
    "duration": 12,
    "start_time": "2022-05-12T18:16:57.998Z"
   },
   {
    "duration": 3,
    "start_time": "2022-05-12T18:16:58.012Z"
   },
   {
    "duration": 27,
    "start_time": "2022-05-12T18:16:58.017Z"
   },
   {
    "duration": 4,
    "start_time": "2022-05-12T18:16:58.045Z"
   },
   {
    "duration": 9,
    "start_time": "2022-05-12T18:16:58.051Z"
   },
   {
    "duration": 29,
    "start_time": "2022-05-12T18:16:58.061Z"
   },
   {
    "duration": 16,
    "start_time": "2022-05-12T18:16:58.091Z"
   },
   {
    "duration": 13,
    "start_time": "2022-05-12T18:16:58.109Z"
   },
   {
    "duration": 35,
    "start_time": "2022-05-12T18:16:58.125Z"
   },
   {
    "duration": 6,
    "start_time": "2022-05-12T18:16:58.161Z"
   },
   {
    "duration": 12,
    "start_time": "2022-05-12T18:16:58.169Z"
   },
   {
    "duration": 10,
    "start_time": "2022-05-12T18:16:58.182Z"
   },
   {
    "duration": 5,
    "start_time": "2022-05-12T18:16:58.194Z"
   },
   {
    "duration": 47,
    "start_time": "2022-05-12T18:16:58.201Z"
   },
   {
    "duration": 7,
    "start_time": "2022-05-12T18:16:58.249Z"
   },
   {
    "duration": 10,
    "start_time": "2022-05-12T18:16:58.257Z"
   },
   {
    "duration": 6,
    "start_time": "2022-05-12T18:16:58.268Z"
   },
   {
    "duration": 10,
    "start_time": "2022-05-12T18:16:58.277Z"
   },
   {
    "duration": 8,
    "start_time": "2022-05-12T18:16:58.288Z"
   },
   {
    "duration": 6,
    "start_time": "2022-05-12T18:16:58.298Z"
   },
   {
    "duration": 40,
    "start_time": "2022-05-12T18:16:58.305Z"
   },
   {
    "duration": 6,
    "start_time": "2022-05-12T18:16:58.347Z"
   },
   {
    "duration": 8,
    "start_time": "2022-05-12T18:16:58.355Z"
   },
   {
    "duration": 9,
    "start_time": "2022-05-12T18:16:58.365Z"
   },
   {
    "duration": 14,
    "start_time": "2022-05-12T18:16:58.375Z"
   },
   {
    "duration": 5,
    "start_time": "2022-05-12T18:16:58.391Z"
   },
   {
    "duration": 8,
    "start_time": "2022-05-12T18:16:58.398Z"
   },
   {
    "duration": 157,
    "start_time": "2022-05-12T18:16:58.407Z"
   },
   {
    "duration": 4,
    "start_time": "2022-05-12T18:16:58.566Z"
   },
   {
    "duration": 17,
    "start_time": "2022-05-12T18:16:58.572Z"
   },
   {
    "duration": 12,
    "start_time": "2022-05-12T18:16:58.591Z"
   },
   {
    "duration": 13,
    "start_time": "2022-05-12T18:16:58.604Z"
   },
   {
    "duration": 30,
    "start_time": "2022-05-12T18:16:58.619Z"
   },
   {
    "duration": 12,
    "start_time": "2022-05-12T18:16:58.651Z"
   },
   {
    "duration": 10,
    "start_time": "2022-05-12T18:16:58.665Z"
   },
   {
    "duration": 11,
    "start_time": "2022-05-12T18:17:16.063Z"
   },
   {
    "duration": 5,
    "start_time": "2022-05-12T18:17:25.366Z"
   },
   {
    "duration": 58,
    "start_time": "2022-05-12T18:17:25.372Z"
   },
   {
    "duration": 12,
    "start_time": "2022-05-12T18:17:25.432Z"
   },
   {
    "duration": 9,
    "start_time": "2022-05-12T18:17:25.445Z"
   },
   {
    "duration": 19,
    "start_time": "2022-05-12T18:17:25.456Z"
   },
   {
    "duration": 12,
    "start_time": "2022-05-12T18:17:25.477Z"
   },
   {
    "duration": 23,
    "start_time": "2022-05-12T18:17:25.491Z"
   },
   {
    "duration": 28,
    "start_time": "2022-05-12T18:17:25.516Z"
   },
   {
    "duration": 25,
    "start_time": "2022-05-12T18:17:25.546Z"
   },
   {
    "duration": 28,
    "start_time": "2022-05-12T18:17:25.573Z"
   },
   {
    "duration": 22,
    "start_time": "2022-05-12T18:17:25.603Z"
   },
   {
    "duration": 9,
    "start_time": "2022-05-12T18:17:25.627Z"
   },
   {
    "duration": 26,
    "start_time": "2022-05-12T18:17:25.638Z"
   },
   {
    "duration": 15,
    "start_time": "2022-05-12T18:17:25.665Z"
   },
   {
    "duration": 17,
    "start_time": "2022-05-12T18:17:25.682Z"
   },
   {
    "duration": 28,
    "start_time": "2022-05-12T18:17:25.700Z"
   },
   {
    "duration": 29,
    "start_time": "2022-05-12T18:17:25.730Z"
   },
   {
    "duration": 25,
    "start_time": "2022-05-12T18:17:25.760Z"
   },
   {
    "duration": 14,
    "start_time": "2022-05-12T18:17:25.787Z"
   },
   {
    "duration": 26,
    "start_time": "2022-05-12T18:17:25.803Z"
   },
   {
    "duration": 25,
    "start_time": "2022-05-12T18:17:25.830Z"
   },
   {
    "duration": 13,
    "start_time": "2022-05-12T18:17:25.857Z"
   },
   {
    "duration": 36,
    "start_time": "2022-05-12T18:17:25.872Z"
   },
   {
    "duration": 25,
    "start_time": "2022-05-12T18:17:25.910Z"
   },
   {
    "duration": 16,
    "start_time": "2022-05-12T18:17:25.937Z"
   },
   {
    "duration": 26,
    "start_time": "2022-05-12T18:17:25.955Z"
   },
   {
    "duration": 15,
    "start_time": "2022-05-12T18:17:25.983Z"
   },
   {
    "duration": 15,
    "start_time": "2022-05-12T18:17:26.000Z"
   },
   {
    "duration": 27,
    "start_time": "2022-05-12T18:17:26.018Z"
   },
   {
    "duration": 122,
    "start_time": "2022-05-12T18:17:26.047Z"
   },
   {
    "duration": 5,
    "start_time": "2022-05-12T18:17:26.171Z"
   },
   {
    "duration": 23,
    "start_time": "2022-05-12T18:17:26.178Z"
   },
   {
    "duration": 25,
    "start_time": "2022-05-12T18:17:26.203Z"
   },
   {
    "duration": 18,
    "start_time": "2022-05-12T18:17:26.230Z"
   },
   {
    "duration": 8,
    "start_time": "2022-05-12T18:17:26.250Z"
   },
   {
    "duration": 12,
    "start_time": "2022-05-12T18:17:26.260Z"
   },
   {
    "duration": 10,
    "start_time": "2022-05-12T18:17:30.398Z"
   },
   {
    "duration": 4,
    "start_time": "2022-05-12T18:17:52.371Z"
   },
   {
    "duration": 1531,
    "start_time": "2022-05-12T18:18:23.619Z"
   },
   {
    "duration": 39,
    "start_time": "2022-05-12T18:18:25.151Z"
   },
   {
    "duration": 13,
    "start_time": "2022-05-12T18:18:25.191Z"
   },
   {
    "duration": 4,
    "start_time": "2022-05-12T18:18:25.206Z"
   },
   {
    "duration": 7,
    "start_time": "2022-05-12T18:18:25.211Z"
   },
   {
    "duration": 6,
    "start_time": "2022-05-12T18:18:25.219Z"
   },
   {
    "duration": 5,
    "start_time": "2022-05-12T18:18:25.244Z"
   },
   {
    "duration": 15,
    "start_time": "2022-05-12T18:18:25.251Z"
   },
   {
    "duration": 18,
    "start_time": "2022-05-12T18:18:25.268Z"
   },
   {
    "duration": 13,
    "start_time": "2022-05-12T18:18:25.289Z"
   },
   {
    "duration": 18,
    "start_time": "2022-05-12T18:18:25.303Z"
   },
   {
    "duration": 7,
    "start_time": "2022-05-12T18:18:25.344Z"
   },
   {
    "duration": 15,
    "start_time": "2022-05-12T18:18:25.352Z"
   },
   {
    "duration": 9,
    "start_time": "2022-05-12T18:18:25.369Z"
   },
   {
    "duration": 5,
    "start_time": "2022-05-12T18:18:25.380Z"
   },
   {
    "duration": 8,
    "start_time": "2022-05-12T18:18:25.387Z"
   },
   {
    "duration": 9,
    "start_time": "2022-05-12T18:18:25.396Z"
   },
   {
    "duration": 37,
    "start_time": "2022-05-12T18:18:25.407Z"
   },
   {
    "duration": 6,
    "start_time": "2022-05-12T18:18:25.446Z"
   },
   {
    "duration": 9,
    "start_time": "2022-05-12T18:18:25.454Z"
   },
   {
    "duration": 9,
    "start_time": "2022-05-12T18:18:25.464Z"
   },
   {
    "duration": 7,
    "start_time": "2022-05-12T18:18:25.474Z"
   },
   {
    "duration": 10,
    "start_time": "2022-05-12T18:18:25.483Z"
   },
   {
    "duration": 6,
    "start_time": "2022-05-12T18:18:25.494Z"
   },
   {
    "duration": 44,
    "start_time": "2022-05-12T18:18:25.501Z"
   },
   {
    "duration": 6,
    "start_time": "2022-05-12T18:18:25.546Z"
   },
   {
    "duration": 10,
    "start_time": "2022-05-12T18:18:25.554Z"
   },
   {
    "duration": 6,
    "start_time": "2022-05-12T18:18:25.569Z"
   },
   {
    "duration": 11,
    "start_time": "2022-05-12T18:18:25.577Z"
   },
   {
    "duration": 157,
    "start_time": "2022-05-12T18:18:25.589Z"
   },
   {
    "duration": 4,
    "start_time": "2022-05-12T18:18:25.748Z"
   },
   {
    "duration": 16,
    "start_time": "2022-05-12T18:18:25.754Z"
   },
   {
    "duration": 13,
    "start_time": "2022-05-12T18:18:25.772Z"
   },
   {
    "duration": 13,
    "start_time": "2022-05-12T18:18:25.787Z"
   },
   {
    "duration": 41,
    "start_time": "2022-05-12T18:18:25.802Z"
   },
   {
    "duration": 14,
    "start_time": "2022-05-12T18:18:25.845Z"
   },
   {
    "duration": 122,
    "start_time": "2022-05-12T18:18:25.860Z"
   },
   {
    "duration": 0,
    "start_time": "2022-05-12T18:18:25.984Z"
   },
   {
    "duration": 0,
    "start_time": "2022-05-12T18:18:25.985Z"
   },
   {
    "duration": 0,
    "start_time": "2022-05-12T18:18:25.986Z"
   },
   {
    "duration": 0,
    "start_time": "2022-05-12T18:18:25.988Z"
   },
   {
    "duration": 1,
    "start_time": "2022-05-12T18:18:25.988Z"
   },
   {
    "duration": 0,
    "start_time": "2022-05-12T18:18:25.990Z"
   },
   {
    "duration": 0,
    "start_time": "2022-05-12T18:18:25.991Z"
   },
   {
    "duration": 0,
    "start_time": "2022-05-12T18:18:25.992Z"
   },
   {
    "duration": 0,
    "start_time": "2022-05-12T18:18:25.993Z"
   },
   {
    "duration": 0,
    "start_time": "2022-05-12T18:18:25.994Z"
   },
   {
    "duration": 0,
    "start_time": "2022-05-12T18:18:25.995Z"
   },
   {
    "duration": 0,
    "start_time": "2022-05-12T18:18:25.996Z"
   },
   {
    "duration": 0,
    "start_time": "2022-05-12T18:18:25.997Z"
   },
   {
    "duration": 0,
    "start_time": "2022-05-12T18:18:25.998Z"
   },
   {
    "duration": 0,
    "start_time": "2022-05-12T18:18:25.999Z"
   },
   {
    "duration": 0,
    "start_time": "2022-05-12T18:18:26.000Z"
   },
   {
    "duration": 0,
    "start_time": "2022-05-12T18:18:26.002Z"
   },
   {
    "duration": 0,
    "start_time": "2022-05-12T18:18:26.003Z"
   },
   {
    "duration": 0,
    "start_time": "2022-05-12T18:18:26.004Z"
   },
   {
    "duration": 0,
    "start_time": "2022-05-12T18:18:26.043Z"
   },
   {
    "duration": 0,
    "start_time": "2022-05-12T18:18:26.045Z"
   },
   {
    "duration": 0,
    "start_time": "2022-05-12T18:18:26.045Z"
   },
   {
    "duration": 0,
    "start_time": "2022-05-12T18:18:26.046Z"
   },
   {
    "duration": 0,
    "start_time": "2022-05-12T18:18:26.048Z"
   },
   {
    "duration": 0,
    "start_time": "2022-05-12T18:18:26.049Z"
   },
   {
    "duration": 0,
    "start_time": "2022-05-12T18:18:26.051Z"
   },
   {
    "duration": 0,
    "start_time": "2022-05-12T18:18:26.052Z"
   },
   {
    "duration": 0,
    "start_time": "2022-05-12T18:18:26.053Z"
   },
   {
    "duration": 0,
    "start_time": "2022-05-12T18:18:26.055Z"
   },
   {
    "duration": 0,
    "start_time": "2022-05-12T18:18:26.056Z"
   },
   {
    "duration": 0,
    "start_time": "2022-05-12T18:18:26.057Z"
   },
   {
    "duration": 0,
    "start_time": "2022-05-12T18:18:26.058Z"
   },
   {
    "duration": 0,
    "start_time": "2022-05-12T18:18:26.059Z"
   },
   {
    "duration": 0,
    "start_time": "2022-05-12T18:18:26.060Z"
   },
   {
    "duration": 0,
    "start_time": "2022-05-12T18:18:26.061Z"
   },
   {
    "duration": 0,
    "start_time": "2022-05-12T18:18:26.063Z"
   },
   {
    "duration": 4,
    "start_time": "2022-05-12T18:21:37.144Z"
   },
   {
    "duration": 5,
    "start_time": "2022-05-12T18:21:43.628Z"
   },
   {
    "duration": 8,
    "start_time": "2022-05-12T18:21:54.538Z"
   },
   {
    "duration": 57,
    "start_time": "2022-05-12T18:22:19.924Z"
   },
   {
    "duration": 4,
    "start_time": "2022-05-12T18:22:31.863Z"
   },
   {
    "duration": 5,
    "start_time": "2022-05-12T18:22:32.754Z"
   },
   {
    "duration": 4,
    "start_time": "2022-05-12T18:22:33.359Z"
   },
   {
    "duration": 4,
    "start_time": "2022-05-12T18:22:33.794Z"
   },
   {
    "duration": 4,
    "start_time": "2022-05-12T18:22:35.710Z"
   },
   {
    "duration": 5,
    "start_time": "2022-05-12T18:22:36.157Z"
   },
   {
    "duration": 193,
    "start_time": "2022-05-12T18:22:38.443Z"
   },
   {
    "duration": 8818,
    "start_time": "2022-05-12T18:22:41.984Z"
   },
   {
    "duration": 9234,
    "start_time": "2022-05-12T18:23:58.009Z"
   },
   {
    "duration": 3,
    "start_time": "2022-05-12T18:24:10.605Z"
   },
   {
    "duration": 39,
    "start_time": "2022-05-12T18:24:11.307Z"
   },
   {
    "duration": 29,
    "start_time": "2022-05-12T18:24:23.514Z"
   },
   {
    "duration": 337,
    "start_time": "2022-05-12T18:24:27.280Z"
   },
   {
    "duration": 323,
    "start_time": "2022-05-12T18:24:39.077Z"
   },
   {
    "duration": 25,
    "start_time": "2022-05-12T18:24:45.370Z"
   },
   {
    "duration": 5,
    "start_time": "2022-05-12T18:24:47.038Z"
   },
   {
    "duration": 124,
    "start_time": "2022-05-12T18:24:49.225Z"
   },
   {
    "duration": 8,
    "start_time": "2022-05-12T18:24:53.432Z"
   },
   {
    "duration": 106,
    "start_time": "2022-05-12T18:24:57.238Z"
   },
   {
    "duration": 9,
    "start_time": "2022-05-12T18:24:59.747Z"
   },
   {
    "duration": 4,
    "start_time": "2022-05-12T18:25:02.118Z"
   },
   {
    "duration": 116,
    "start_time": "2022-05-12T18:25:03.809Z"
   },
   {
    "duration": 1500,
    "start_time": "2022-05-12T18:25:06.150Z"
   },
   {
    "duration": 1431,
    "start_time": "2022-05-12T18:25:41.828Z"
   },
   {
    "duration": 10,
    "start_time": "2022-05-12T18:25:54.655Z"
   },
   {
    "duration": 16,
    "start_time": "2022-05-12T18:28:58.711Z"
   },
   {
    "duration": 8,
    "start_time": "2022-05-12T18:29:40.857Z"
   },
   {
    "duration": 4,
    "start_time": "2022-05-12T18:30:55.943Z"
   },
   {
    "duration": 4,
    "start_time": "2022-05-12T18:30:56.919Z"
   },
   {
    "duration": 4,
    "start_time": "2022-05-12T18:30:57.530Z"
   },
   {
    "duration": 3,
    "start_time": "2022-05-12T18:30:58.096Z"
   },
   {
    "duration": 4,
    "start_time": "2022-05-12T18:31:00.521Z"
   },
   {
    "duration": 6,
    "start_time": "2022-05-12T18:31:01.026Z"
   },
   {
    "duration": 197,
    "start_time": "2022-05-12T18:31:16.474Z"
   },
   {
    "duration": 8955,
    "start_time": "2022-05-12T18:31:25.488Z"
   },
   {
    "duration": 12,
    "start_time": "2022-05-12T18:32:00.215Z"
   },
   {
    "duration": 8646,
    "start_time": "2022-05-12T18:32:21.956Z"
   },
   {
    "duration": 2,
    "start_time": "2022-05-12T18:32:33.456Z"
   },
   {
    "duration": 75,
    "start_time": "2022-05-12T18:32:34.171Z"
   },
   {
    "duration": 317,
    "start_time": "2022-05-12T18:32:37.230Z"
   },
   {
    "duration": 24,
    "start_time": "2022-05-12T18:32:39.849Z"
   },
   {
    "duration": 4,
    "start_time": "2022-05-12T18:32:40.343Z"
   },
   {
    "duration": 120,
    "start_time": "2022-05-12T18:32:41.984Z"
   },
   {
    "duration": 8,
    "start_time": "2022-05-12T18:32:44.700Z"
   },
   {
    "duration": 102,
    "start_time": "2022-05-12T18:32:48.197Z"
   },
   {
    "duration": 8,
    "start_time": "2022-05-12T18:32:51.669Z"
   },
   {
    "duration": 5,
    "start_time": "2022-05-12T18:33:27.003Z"
   },
   {
    "duration": 58,
    "start_time": "2022-05-12T18:33:27.010Z"
   },
   {
    "duration": 13,
    "start_time": "2022-05-12T18:33:27.070Z"
   },
   {
    "duration": 7,
    "start_time": "2022-05-12T18:33:27.085Z"
   },
   {
    "duration": 15,
    "start_time": "2022-05-12T18:33:27.094Z"
   },
   {
    "duration": 7,
    "start_time": "2022-05-12T18:33:27.110Z"
   },
   {
    "duration": 26,
    "start_time": "2022-05-12T18:33:27.118Z"
   },
   {
    "duration": 12,
    "start_time": "2022-05-12T18:33:27.146Z"
   },
   {
    "duration": 13,
    "start_time": "2022-05-12T18:33:27.160Z"
   },
   {
    "duration": 13,
    "start_time": "2022-05-12T18:33:27.174Z"
   },
   {
    "duration": 54,
    "start_time": "2022-05-12T18:33:27.190Z"
   },
   {
    "duration": 6,
    "start_time": "2022-05-12T18:33:27.246Z"
   },
   {
    "duration": 14,
    "start_time": "2022-05-12T18:33:27.254Z"
   },
   {
    "duration": 11,
    "start_time": "2022-05-12T18:33:27.269Z"
   },
   {
    "duration": 7,
    "start_time": "2022-05-12T18:33:27.281Z"
   },
   {
    "duration": 8,
    "start_time": "2022-05-12T18:33:27.289Z"
   },
   {
    "duration": 46,
    "start_time": "2022-05-12T18:33:27.298Z"
   },
   {
    "duration": 10,
    "start_time": "2022-05-12T18:33:27.345Z"
   },
   {
    "duration": 6,
    "start_time": "2022-05-12T18:33:27.357Z"
   },
   {
    "duration": 10,
    "start_time": "2022-05-12T18:33:27.364Z"
   },
   {
    "duration": 7,
    "start_time": "2022-05-12T18:33:27.375Z"
   },
   {
    "duration": 9,
    "start_time": "2022-05-12T18:33:27.383Z"
   },
   {
    "duration": 7,
    "start_time": "2022-05-12T18:33:27.394Z"
   },
   {
    "duration": 43,
    "start_time": "2022-05-12T18:33:27.403Z"
   },
   {
    "duration": 9,
    "start_time": "2022-05-12T18:33:27.447Z"
   },
   {
    "duration": 6,
    "start_time": "2022-05-12T18:33:27.457Z"
   },
   {
    "duration": 10,
    "start_time": "2022-05-12T18:33:27.465Z"
   },
   {
    "duration": 6,
    "start_time": "2022-05-12T18:33:27.476Z"
   },
   {
    "duration": 6,
    "start_time": "2022-05-12T18:33:27.485Z"
   },
   {
    "duration": 150,
    "start_time": "2022-05-12T18:33:27.493Z"
   },
   {
    "duration": 4,
    "start_time": "2022-05-12T18:33:27.644Z"
   },
   {
    "duration": 15,
    "start_time": "2022-05-12T18:33:27.650Z"
   },
   {
    "duration": 11,
    "start_time": "2022-05-12T18:33:27.667Z"
   },
   {
    "duration": 17,
    "start_time": "2022-05-12T18:33:27.680Z"
   },
   {
    "duration": 9,
    "start_time": "2022-05-12T18:33:27.699Z"
   },
   {
    "duration": 38,
    "start_time": "2022-05-12T18:33:27.710Z"
   },
   {
    "duration": 4,
    "start_time": "2022-05-12T18:33:27.750Z"
   },
   {
    "duration": 5,
    "start_time": "2022-05-12T18:33:27.755Z"
   },
   {
    "duration": 6,
    "start_time": "2022-05-12T18:33:27.762Z"
   },
   {
    "duration": 6,
    "start_time": "2022-05-12T18:33:27.770Z"
   },
   {
    "duration": 7,
    "start_time": "2022-05-12T18:33:27.778Z"
   },
   {
    "duration": 7,
    "start_time": "2022-05-12T18:33:27.787Z"
   },
   {
    "duration": 187,
    "start_time": "2022-05-12T18:33:27.795Z"
   },
   {
    "duration": 8663,
    "start_time": "2022-05-12T18:33:27.984Z"
   },
   {
    "duration": 3,
    "start_time": "2022-05-12T18:33:36.649Z"
   },
   {
    "duration": 97,
    "start_time": "2022-05-12T18:33:36.653Z"
   },
   {
    "duration": 499,
    "start_time": "2022-05-12T18:33:36.752Z"
   },
   {
    "duration": 22,
    "start_time": "2022-05-12T18:33:37.253Z"
   },
   {
    "duration": 10,
    "start_time": "2022-05-12T18:33:37.276Z"
   },
   {
    "duration": 129,
    "start_time": "2022-05-12T18:33:37.288Z"
   },
   {
    "duration": 6,
    "start_time": "2022-05-12T18:33:37.419Z"
   },
   {
    "duration": 36,
    "start_time": "2022-05-12T18:33:37.427Z"
   },
   {
    "duration": 8,
    "start_time": "2022-05-12T18:33:43.556Z"
   },
   {
    "duration": 4,
    "start_time": "2022-05-12T18:33:55.898Z"
   },
   {
    "duration": 16,
    "start_time": "2022-05-12T18:33:57.928Z"
   },
   {
    "duration": 9,
    "start_time": "2022-05-12T18:34:20.693Z"
   },
   {
    "duration": 15,
    "start_time": "2022-05-12T18:34:40.927Z"
   },
   {
    "duration": 9,
    "start_time": "2022-05-12T18:34:58.711Z"
   },
   {
    "duration": 4,
    "start_time": "2022-05-12T18:35:31.344Z"
   },
   {
    "duration": 5,
    "start_time": "2022-05-12T18:35:40.625Z"
   },
   {
    "duration": 4,
    "start_time": "2022-05-12T18:37:22.925Z"
   },
   {
    "duration": 4,
    "start_time": "2022-05-12T18:37:32.317Z"
   },
   {
    "duration": 4,
    "start_time": "2022-05-12T18:42:27.666Z"
   },
   {
    "duration": 4,
    "start_time": "2022-05-12T18:42:30.780Z"
   },
   {
    "duration": 14,
    "start_time": "2022-05-12T18:42:40.139Z"
   },
   {
    "duration": 5,
    "start_time": "2022-05-12T18:43:08.625Z"
   },
   {
    "duration": 50,
    "start_time": "2022-05-12T18:43:08.632Z"
   },
   {
    "duration": 13,
    "start_time": "2022-05-12T18:43:08.684Z"
   },
   {
    "duration": 6,
    "start_time": "2022-05-12T18:43:08.699Z"
   },
   {
    "duration": 8,
    "start_time": "2022-05-12T18:43:08.707Z"
   },
   {
    "duration": 8,
    "start_time": "2022-05-12T18:43:08.716Z"
   },
   {
    "duration": 5,
    "start_time": "2022-05-12T18:43:08.743Z"
   },
   {
    "duration": 24,
    "start_time": "2022-05-12T18:43:08.750Z"
   },
   {
    "duration": 23,
    "start_time": "2022-05-12T18:43:08.776Z"
   },
   {
    "duration": 21,
    "start_time": "2022-05-12T18:43:08.801Z"
   },
   {
    "duration": 37,
    "start_time": "2022-05-12T18:43:08.826Z"
   },
   {
    "duration": 8,
    "start_time": "2022-05-12T18:43:08.866Z"
   },
   {
    "duration": 15,
    "start_time": "2022-05-12T18:43:08.876Z"
   },
   {
    "duration": 11,
    "start_time": "2022-05-12T18:43:08.893Z"
   },
   {
    "duration": 42,
    "start_time": "2022-05-12T18:43:08.906Z"
   },
   {
    "duration": 9,
    "start_time": "2022-05-12T18:43:08.950Z"
   },
   {
    "duration": 16,
    "start_time": "2022-05-12T18:43:08.960Z"
   },
   {
    "duration": 20,
    "start_time": "2022-05-12T18:43:08.977Z"
   },
   {
    "duration": 8,
    "start_time": "2022-05-12T18:43:08.999Z"
   },
   {
    "duration": 11,
    "start_time": "2022-05-12T18:43:09.009Z"
   },
   {
    "duration": 27,
    "start_time": "2022-05-12T18:43:09.022Z"
   },
   {
    "duration": 7,
    "start_time": "2022-05-12T18:43:09.051Z"
   },
   {
    "duration": 11,
    "start_time": "2022-05-12T18:43:09.060Z"
   },
   {
    "duration": 7,
    "start_time": "2022-05-12T18:43:09.072Z"
   },
   {
    "duration": 11,
    "start_time": "2022-05-12T18:43:09.080Z"
   },
   {
    "duration": 8,
    "start_time": "2022-05-12T18:43:09.093Z"
   },
   {
    "duration": 46,
    "start_time": "2022-05-12T18:43:09.103Z"
   },
   {
    "duration": 7,
    "start_time": "2022-05-12T18:43:09.150Z"
   },
   {
    "duration": 9,
    "start_time": "2022-05-12T18:43:09.160Z"
   },
   {
    "duration": 142,
    "start_time": "2022-05-12T18:43:09.170Z"
   },
   {
    "duration": 4,
    "start_time": "2022-05-12T18:43:09.314Z"
   },
   {
    "duration": 30,
    "start_time": "2022-05-12T18:43:09.320Z"
   },
   {
    "duration": 12,
    "start_time": "2022-05-12T18:43:09.352Z"
   },
   {
    "duration": 14,
    "start_time": "2022-05-12T18:43:09.366Z"
   },
   {
    "duration": 11,
    "start_time": "2022-05-12T18:43:09.382Z"
   },
   {
    "duration": 14,
    "start_time": "2022-05-12T18:43:09.395Z"
   },
   {
    "duration": 34,
    "start_time": "2022-05-12T18:43:09.411Z"
   },
   {
    "duration": 16,
    "start_time": "2022-05-12T18:43:09.447Z"
   },
   {
    "duration": 7,
    "start_time": "2022-05-12T18:43:09.465Z"
   },
   {
    "duration": 10,
    "start_time": "2022-05-12T18:43:09.474Z"
   },
   {
    "duration": 7,
    "start_time": "2022-05-12T18:43:09.486Z"
   },
   {
    "duration": 10,
    "start_time": "2022-05-12T18:43:09.495Z"
   },
   {
    "duration": 186,
    "start_time": "2022-05-12T18:43:09.506Z"
   },
   {
    "duration": 8798,
    "start_time": "2022-05-12T18:43:09.695Z"
   },
   {
    "duration": 4,
    "start_time": "2022-05-12T18:43:18.495Z"
   },
   {
    "duration": 143,
    "start_time": "2022-05-12T18:43:18.501Z"
   },
   {
    "duration": 416,
    "start_time": "2022-05-12T18:43:18.647Z"
   },
   {
    "duration": 23,
    "start_time": "2022-05-12T18:43:19.065Z"
   },
   {
    "duration": 4,
    "start_time": "2022-05-12T18:43:19.090Z"
   },
   {
    "duration": 143,
    "start_time": "2022-05-12T18:43:19.096Z"
   },
   {
    "duration": 7,
    "start_time": "2022-05-12T18:43:19.243Z"
   },
   {
    "duration": 15,
    "start_time": "2022-05-12T18:43:19.251Z"
   },
   {
    "duration": 30,
    "start_time": "2022-05-12T18:43:19.267Z"
   },
   {
    "duration": 20,
    "start_time": "2022-05-12T18:43:22.224Z"
   },
   {
    "duration": 3,
    "start_time": "2022-05-12T18:43:42.242Z"
   },
   {
    "duration": 17,
    "start_time": "2022-05-12T18:43:50.936Z"
   },
   {
    "duration": 5,
    "start_time": "2022-05-12T18:44:07.270Z"
   },
   {
    "duration": 18,
    "start_time": "2022-05-12T18:44:11.829Z"
   },
   {
    "duration": 69,
    "start_time": "2022-05-12T18:44:53.003Z"
   },
   {
    "duration": 4,
    "start_time": "2022-05-12T18:44:53.886Z"
   },
   {
    "duration": 17,
    "start_time": "2022-05-12T18:44:54.647Z"
   },
   {
    "duration": 8,
    "start_time": "2022-05-12T18:45:10.874Z"
   },
   {
    "duration": 543,
    "start_time": "2022-05-12T18:46:43.534Z"
   },
   {
    "duration": 554,
    "start_time": "2022-05-12T18:47:23.714Z"
   },
   {
    "duration": 14,
    "start_time": "2022-05-12T18:48:28.554Z"
   },
   {
    "duration": 739,
    "start_time": "2022-05-12T18:56:44.861Z"
   },
   {
    "duration": 5,
    "start_time": "2022-05-12T18:57:01.525Z"
   },
   {
    "duration": 60,
    "start_time": "2022-05-12T18:57:01.533Z"
   },
   {
    "duration": 12,
    "start_time": "2022-05-12T18:57:01.596Z"
   },
   {
    "duration": 26,
    "start_time": "2022-05-12T18:57:01.610Z"
   },
   {
    "duration": 14,
    "start_time": "2022-05-12T18:57:01.639Z"
   },
   {
    "duration": 13,
    "start_time": "2022-05-12T18:57:01.654Z"
   },
   {
    "duration": 15,
    "start_time": "2022-05-12T18:57:01.669Z"
   },
   {
    "duration": 17,
    "start_time": "2022-05-12T18:57:01.686Z"
   },
   {
    "duration": 17,
    "start_time": "2022-05-12T18:57:01.705Z"
   },
   {
    "duration": 14,
    "start_time": "2022-05-12T18:57:01.724Z"
   },
   {
    "duration": 18,
    "start_time": "2022-05-12T18:57:01.741Z"
   },
   {
    "duration": 6,
    "start_time": "2022-05-12T18:57:01.761Z"
   },
   {
    "duration": 23,
    "start_time": "2022-05-12T18:57:01.769Z"
   },
   {
    "duration": 16,
    "start_time": "2022-05-12T18:57:01.793Z"
   },
   {
    "duration": 9,
    "start_time": "2022-05-12T18:57:01.811Z"
   },
   {
    "duration": 26,
    "start_time": "2022-05-12T18:57:01.821Z"
   },
   {
    "duration": 10,
    "start_time": "2022-05-12T18:57:01.849Z"
   },
   {
    "duration": 13,
    "start_time": "2022-05-12T18:57:01.861Z"
   },
   {
    "duration": 7,
    "start_time": "2022-05-12T18:57:01.876Z"
   },
   {
    "duration": 16,
    "start_time": "2022-05-12T18:57:01.884Z"
   },
   {
    "duration": 11,
    "start_time": "2022-05-12T18:57:01.901Z"
   },
   {
    "duration": 6,
    "start_time": "2022-05-12T18:57:01.913Z"
   },
   {
    "duration": 29,
    "start_time": "2022-05-12T18:57:01.921Z"
   },
   {
    "duration": 17,
    "start_time": "2022-05-12T18:57:01.951Z"
   },
   {
    "duration": 15,
    "start_time": "2022-05-12T18:57:01.970Z"
   },
   {
    "duration": 25,
    "start_time": "2022-05-12T18:57:01.987Z"
   },
   {
    "duration": 43,
    "start_time": "2022-05-12T18:57:02.014Z"
   },
   {
    "duration": 9,
    "start_time": "2022-05-12T18:57:02.058Z"
   },
   {
    "duration": 14,
    "start_time": "2022-05-12T18:57:02.070Z"
   },
   {
    "duration": 132,
    "start_time": "2022-05-12T18:57:02.085Z"
   },
   {
    "duration": 4,
    "start_time": "2022-05-12T18:57:02.219Z"
   },
   {
    "duration": 49,
    "start_time": "2022-05-12T18:57:02.224Z"
   },
   {
    "duration": 94,
    "start_time": "2022-05-12T18:57:02.274Z"
   },
   {
    "duration": 25,
    "start_time": "2022-05-12T18:57:02.369Z"
   },
   {
    "duration": 10,
    "start_time": "2022-05-12T18:57:02.396Z"
   },
   {
    "duration": 13,
    "start_time": "2022-05-12T18:57:19.542Z"
   },
   {
    "duration": 4,
    "start_time": "2022-05-12T18:57:29.421Z"
   },
   {
    "duration": 4,
    "start_time": "2022-05-12T18:57:30.125Z"
   },
   {
    "duration": 4,
    "start_time": "2022-05-12T18:57:30.674Z"
   },
   {
    "duration": 3,
    "start_time": "2022-05-12T18:57:31.473Z"
   },
   {
    "duration": 4,
    "start_time": "2022-05-12T18:57:31.981Z"
   },
   {
    "duration": 3,
    "start_time": "2022-05-12T18:57:33.151Z"
   },
   {
    "duration": 161,
    "start_time": "2022-05-12T18:57:37.559Z"
   },
   {
    "duration": 8397,
    "start_time": "2022-05-12T18:57:45.803Z"
   },
   {
    "duration": 4,
    "start_time": "2022-05-12T18:57:57.798Z"
   },
   {
    "duration": 294,
    "start_time": "2022-05-12T18:57:58.352Z"
   },
   {
    "duration": 319,
    "start_time": "2022-05-12T18:58:00.946Z"
   },
   {
    "duration": 29,
    "start_time": "2022-05-12T18:58:03.643Z"
   },
   {
    "duration": 4,
    "start_time": "2022-05-12T18:58:05.068Z"
   },
   {
    "duration": 120,
    "start_time": "2022-05-12T18:58:07.468Z"
   },
   {
    "duration": 7,
    "start_time": "2022-05-12T18:58:10.616Z"
   },
   {
    "duration": 5,
    "start_time": "2022-05-12T18:58:14.502Z"
   },
   {
    "duration": 8,
    "start_time": "2022-05-12T18:58:17.353Z"
   },
   {
    "duration": 15,
    "start_time": "2022-05-12T18:58:25.373Z"
   },
   {
    "duration": 5,
    "start_time": "2022-05-12T18:58:42.876Z"
   },
   {
    "duration": 16,
    "start_time": "2022-05-12T18:58:45.855Z"
   },
   {
    "duration": 2366,
    "start_time": "2022-05-13T14:37:25.796Z"
   },
   {
    "duration": 66,
    "start_time": "2022-05-13T14:37:28.166Z"
   },
   {
    "duration": 22,
    "start_time": "2022-05-13T14:37:28.235Z"
   },
   {
    "duration": 7,
    "start_time": "2022-05-13T14:37:28.282Z"
   },
   {
    "duration": 18,
    "start_time": "2022-05-13T14:37:28.291Z"
   },
   {
    "duration": 5,
    "start_time": "2022-05-13T14:37:28.311Z"
   },
   {
    "duration": 9,
    "start_time": "2022-05-13T14:37:28.318Z"
   },
   {
    "duration": 20,
    "start_time": "2022-05-13T14:37:28.330Z"
   },
   {
    "duration": 52,
    "start_time": "2022-05-13T14:37:28.352Z"
   },
   {
    "duration": 18,
    "start_time": "2022-05-13T14:37:28.407Z"
   },
   {
    "duration": 62,
    "start_time": "2022-05-13T14:37:28.428Z"
   },
   {
    "duration": 16,
    "start_time": "2022-05-13T14:37:28.493Z"
   },
   {
    "duration": 16,
    "start_time": "2022-05-13T14:37:28.511Z"
   },
   {
    "duration": 13,
    "start_time": "2022-05-13T14:37:28.530Z"
   },
   {
    "duration": 44,
    "start_time": "2022-05-13T14:37:28.546Z"
   },
   {
    "duration": 14,
    "start_time": "2022-05-13T14:37:28.592Z"
   },
   {
    "duration": 8,
    "start_time": "2022-05-13T14:37:28.608Z"
   },
   {
    "duration": 14,
    "start_time": "2022-05-13T14:37:28.619Z"
   },
   {
    "duration": 49,
    "start_time": "2022-05-13T14:37:28.635Z"
   },
   {
    "duration": 12,
    "start_time": "2022-05-13T14:37:28.687Z"
   },
   {
    "duration": 11,
    "start_time": "2022-05-13T14:37:28.702Z"
   },
   {
    "duration": 8,
    "start_time": "2022-05-13T14:37:28.715Z"
   },
   {
    "duration": 18,
    "start_time": "2022-05-13T14:37:28.725Z"
   },
   {
    "duration": 45,
    "start_time": "2022-05-13T14:37:28.745Z"
   },
   {
    "duration": 13,
    "start_time": "2022-05-13T14:37:28.793Z"
   },
   {
    "duration": 8,
    "start_time": "2022-05-13T14:37:28.808Z"
   },
   {
    "duration": 14,
    "start_time": "2022-05-13T14:37:28.819Z"
   },
   {
    "duration": 11,
    "start_time": "2022-05-13T14:37:28.839Z"
   },
   {
    "duration": 16,
    "start_time": "2022-05-13T14:37:28.884Z"
   },
   {
    "duration": 238,
    "start_time": "2022-05-13T14:37:28.902Z"
   },
   {
    "duration": 6,
    "start_time": "2022-05-13T14:37:29.143Z"
   },
   {
    "duration": 34,
    "start_time": "2022-05-13T14:37:29.152Z"
   },
   {
    "duration": 21,
    "start_time": "2022-05-13T14:37:29.189Z"
   },
   {
    "duration": 18,
    "start_time": "2022-05-13T14:37:29.212Z"
   },
   {
    "duration": 12,
    "start_time": "2022-05-13T14:37:29.232Z"
   },
   {
    "duration": 54,
    "start_time": "2022-05-13T14:37:29.246Z"
   },
   {
    "duration": 5,
    "start_time": "2022-05-13T14:37:29.302Z"
   },
   {
    "duration": 7,
    "start_time": "2022-05-13T14:37:29.310Z"
   },
   {
    "duration": 7,
    "start_time": "2022-05-13T14:37:29.319Z"
   },
   {
    "duration": 13,
    "start_time": "2022-05-13T14:37:29.328Z"
   },
   {
    "duration": 42,
    "start_time": "2022-05-13T14:37:29.344Z"
   },
   {
    "duration": 13,
    "start_time": "2022-05-13T14:37:29.390Z"
   },
   {
    "duration": 250,
    "start_time": "2022-05-13T14:37:29.405Z"
   },
   {
    "duration": 13043,
    "start_time": "2022-05-13T14:37:29.657Z"
   },
   {
    "duration": 4,
    "start_time": "2022-05-13T14:37:42.703Z"
   },
   {
    "duration": 286,
    "start_time": "2022-05-13T14:37:42.710Z"
   },
   {
    "duration": 571,
    "start_time": "2022-05-13T14:37:43.003Z"
   },
   {
    "duration": 37,
    "start_time": "2022-05-13T14:37:43.576Z"
   },
   {
    "duration": 6,
    "start_time": "2022-05-13T14:37:43.616Z"
   },
   {
    "duration": 242,
    "start_time": "2022-05-13T14:37:43.624Z"
   },
   {
    "duration": 22,
    "start_time": "2022-05-13T14:37:43.868Z"
   },
   {
    "duration": 10,
    "start_time": "2022-05-13T14:37:43.892Z"
   },
   {
    "duration": 11,
    "start_time": "2022-05-13T14:37:43.904Z"
   },
   {
    "duration": 7,
    "start_time": "2022-05-13T14:37:43.918Z"
   },
   {
    "duration": 188,
    "start_time": "2022-05-13T14:37:48.664Z"
   },
   {
    "duration": 9,
    "start_time": "2022-05-13T14:48:14.981Z"
   },
   {
    "duration": 59,
    "start_time": "2022-05-13T14:48:14.997Z"
   },
   {
    "duration": 39,
    "start_time": "2022-05-13T14:48:15.059Z"
   },
   {
    "duration": 10,
    "start_time": "2022-05-13T14:48:15.100Z"
   },
   {
    "duration": 8,
    "start_time": "2022-05-13T14:48:15.112Z"
   },
   {
    "duration": 6,
    "start_time": "2022-05-13T14:48:15.123Z"
   },
   {
    "duration": 10,
    "start_time": "2022-05-13T14:48:15.131Z"
   },
   {
    "duration": 68,
    "start_time": "2022-05-13T14:48:15.143Z"
   },
   {
    "duration": 18,
    "start_time": "2022-05-13T14:48:15.213Z"
   },
   {
    "duration": 23,
    "start_time": "2022-05-13T14:48:15.233Z"
   },
   {
    "duration": 35,
    "start_time": "2022-05-13T14:48:15.284Z"
   },
   {
    "duration": 8,
    "start_time": "2022-05-13T14:48:15.322Z"
   },
   {
    "duration": 62,
    "start_time": "2022-05-13T14:48:15.332Z"
   },
   {
    "duration": 16,
    "start_time": "2022-05-13T14:48:15.397Z"
   },
   {
    "duration": 10,
    "start_time": "2022-05-13T14:48:15.417Z"
   },
   {
    "duration": 13,
    "start_time": "2022-05-13T14:48:15.430Z"
   },
   {
    "duration": 44,
    "start_time": "2022-05-13T14:48:15.446Z"
   },
   {
    "duration": 24,
    "start_time": "2022-05-13T14:48:15.493Z"
   },
   {
    "duration": 8,
    "start_time": "2022-05-13T14:48:15.520Z"
   },
   {
    "duration": 12,
    "start_time": "2022-05-13T14:48:15.531Z"
   },
   {
    "duration": 9,
    "start_time": "2022-05-13T14:48:15.546Z"
   },
   {
    "duration": 42,
    "start_time": "2022-05-13T14:48:15.556Z"
   },
   {
    "duration": 13,
    "start_time": "2022-05-13T14:48:15.600Z"
   },
   {
    "duration": 11,
    "start_time": "2022-05-13T14:48:15.615Z"
   },
   {
    "duration": 18,
    "start_time": "2022-05-13T14:48:15.628Z"
   },
   {
    "duration": 40,
    "start_time": "2022-05-13T14:48:15.648Z"
   },
   {
    "duration": 20,
    "start_time": "2022-05-13T14:48:15.692Z"
   },
   {
    "duration": 9,
    "start_time": "2022-05-13T14:48:15.715Z"
   },
   {
    "duration": 10,
    "start_time": "2022-05-13T14:48:15.726Z"
   },
   {
    "duration": 244,
    "start_time": "2022-05-13T14:48:15.738Z"
   },
   {
    "duration": 7,
    "start_time": "2022-05-13T14:48:15.985Z"
   },
   {
    "duration": 25,
    "start_time": "2022-05-13T14:48:15.995Z"
   },
   {
    "duration": 19,
    "start_time": "2022-05-13T14:48:16.022Z"
   },
   {
    "duration": 45,
    "start_time": "2022-05-13T14:48:16.043Z"
   },
   {
    "duration": 14,
    "start_time": "2022-05-13T14:48:16.092Z"
   },
   {
    "duration": 4,
    "start_time": "2022-05-13T14:48:16.109Z"
   },
   {
    "duration": 6,
    "start_time": "2022-05-13T14:48:16.116Z"
   },
   {
    "duration": 9,
    "start_time": "2022-05-13T14:48:16.124Z"
   },
   {
    "duration": 9,
    "start_time": "2022-05-13T14:48:16.135Z"
   },
   {
    "duration": 12,
    "start_time": "2022-05-13T14:48:16.187Z"
   },
   {
    "duration": 8,
    "start_time": "2022-05-13T14:48:16.201Z"
   },
   {
    "duration": 5,
    "start_time": "2022-05-13T14:48:16.216Z"
   },
   {
    "duration": 7,
    "start_time": "2022-05-13T14:48:16.224Z"
   },
   {
    "duration": 336,
    "start_time": "2022-05-13T14:48:16.234Z"
   },
   {
    "duration": 13454,
    "start_time": "2022-05-13T14:48:16.573Z"
   },
   {
    "duration": 4,
    "start_time": "2022-05-13T14:48:30.029Z"
   },
   {
    "duration": 760,
    "start_time": "2022-05-13T14:48:30.035Z"
   },
   {
    "duration": 678,
    "start_time": "2022-05-13T14:48:30.798Z"
   },
   {
    "duration": 35,
    "start_time": "2022-05-13T14:48:31.483Z"
   },
   {
    "duration": 34,
    "start_time": "2022-05-13T14:48:31.520Z"
   },
   {
    "duration": 247,
    "start_time": "2022-05-13T14:48:31.556Z"
   },
   {
    "duration": 9,
    "start_time": "2022-05-13T14:48:31.805Z"
   },
   {
    "duration": 9,
    "start_time": "2022-05-13T14:50:19.738Z"
   },
   {
    "duration": 12,
    "start_time": "2022-05-13T14:50:22.219Z"
   },
   {
    "duration": 6,
    "start_time": "2022-05-13T14:50:24.325Z"
   },
   {
    "duration": 15,
    "start_time": "2022-05-13T14:50:25.820Z"
   },
   {
    "duration": 11,
    "start_time": "2022-05-13T14:50:28.755Z"
   },
   {
    "duration": 13,
    "start_time": "2022-05-13T14:50:30.790Z"
   },
   {
    "duration": 375,
    "start_time": "2022-05-13T14:50:36.284Z"
   },
   {
    "duration": 19795,
    "start_time": "2022-05-13T14:50:39.920Z"
   },
   {
    "duration": 4,
    "start_time": "2022-05-13T14:51:04.367Z"
   },
   {
    "duration": 1004,
    "start_time": "2022-05-13T14:51:05.196Z"
   },
   {
    "duration": 633,
    "start_time": "2022-05-13T14:51:08.671Z"
   },
   {
    "duration": 31,
    "start_time": "2022-05-13T14:51:17.125Z"
   },
   {
    "duration": 14,
    "start_time": "2022-05-13T14:51:17.977Z"
   },
   {
    "duration": 232,
    "start_time": "2022-05-13T14:51:19.908Z"
   },
   {
    "duration": 10,
    "start_time": "2022-05-13T14:51:22.759Z"
   },
   {
    "duration": 298,
    "start_time": "2022-05-13T14:56:58.511Z"
   },
   {
    "duration": 13261,
    "start_time": "2022-05-13T14:58:35.347Z"
   },
   {
    "duration": 4,
    "start_time": "2022-05-13T14:59:50.974Z"
   },
   {
    "duration": 4,
    "start_time": "2022-05-13T15:00:03.545Z"
   },
   {
    "duration": 141,
    "start_time": "2022-05-13T15:00:04.351Z"
   },
   {
    "duration": 146,
    "start_time": "2022-05-13T15:03:25.311Z"
   },
   {
    "duration": 14,
    "start_time": "2022-05-13T15:16:45.199Z"
   },
   {
    "duration": 7,
    "start_time": "2022-05-13T15:16:47.855Z"
   },
   {
    "duration": 217,
    "start_time": "2022-05-13T15:16:50.434Z"
   },
   {
    "duration": 8,
    "start_time": "2022-05-13T15:16:56.635Z"
   },
   {
    "duration": 313,
    "start_time": "2022-05-13T15:18:25.665Z"
   },
   {
    "duration": 13933,
    "start_time": "2022-05-13T15:18:42.828Z"
   },
   {
    "duration": 13,
    "start_time": "2022-05-13T15:19:13.752Z"
   },
   {
    "duration": 5,
    "start_time": "2022-05-13T15:19:26.904Z"
   },
   {
    "duration": 457,
    "start_time": "2022-05-13T15:19:27.429Z"
   },
   {
    "duration": 148,
    "start_time": "2022-05-13T15:19:47.820Z"
   },
   {
    "duration": 14,
    "start_time": "2022-05-13T15:19:55.302Z"
   },
   {
    "duration": 7,
    "start_time": "2022-05-13T15:19:57.101Z"
   },
   {
    "duration": 214,
    "start_time": "2022-05-13T15:19:59.674Z"
   },
   {
    "duration": 13,
    "start_time": "2022-05-13T15:20:08.080Z"
   },
   {
    "duration": 12,
    "start_time": "2022-05-13T15:23:41.032Z"
   },
   {
    "duration": 627,
    "start_time": "2022-05-13T15:25:01.734Z"
   },
   {
    "duration": 11,
    "start_time": "2022-05-13T15:25:04.953Z"
   },
   {
    "duration": 8,
    "start_time": "2022-05-13T15:25:16.928Z"
   },
   {
    "duration": 61,
    "start_time": "2022-05-13T15:25:16.939Z"
   },
   {
    "duration": 18,
    "start_time": "2022-05-13T15:25:17.003Z"
   },
   {
    "duration": 6,
    "start_time": "2022-05-13T15:25:17.023Z"
   },
   {
    "duration": 14,
    "start_time": "2022-05-13T15:25:17.033Z"
   },
   {
    "duration": 8,
    "start_time": "2022-05-13T15:25:17.084Z"
   },
   {
    "duration": 13,
    "start_time": "2022-05-13T15:25:17.095Z"
   },
   {
    "duration": 27,
    "start_time": "2022-05-13T15:25:17.110Z"
   },
   {
    "duration": 59,
    "start_time": "2022-05-13T15:25:17.139Z"
   },
   {
    "duration": 20,
    "start_time": "2022-05-13T15:25:17.201Z"
   },
   {
    "duration": 75,
    "start_time": "2022-05-13T15:25:17.227Z"
   },
   {
    "duration": 9,
    "start_time": "2022-05-13T15:25:17.305Z"
   },
   {
    "duration": 17,
    "start_time": "2022-05-13T15:25:17.316Z"
   },
   {
    "duration": 47,
    "start_time": "2022-05-13T15:25:17.336Z"
   },
   {
    "duration": 12,
    "start_time": "2022-05-13T15:25:17.386Z"
   },
   {
    "duration": 11,
    "start_time": "2022-05-13T15:25:17.401Z"
   },
   {
    "duration": 15,
    "start_time": "2022-05-13T15:25:17.415Z"
   },
   {
    "duration": 23,
    "start_time": "2022-05-13T15:25:17.431Z"
   },
   {
    "duration": 12,
    "start_time": "2022-05-13T15:25:17.486Z"
   },
   {
    "duration": 17,
    "start_time": "2022-05-13T15:25:17.501Z"
   },
   {
    "duration": 22,
    "start_time": "2022-05-13T15:25:17.520Z"
   },
   {
    "duration": 12,
    "start_time": "2022-05-13T15:25:17.544Z"
   },
   {
    "duration": 28,
    "start_time": "2022-05-13T15:25:17.558Z"
   },
   {
    "duration": 11,
    "start_time": "2022-05-13T15:25:17.589Z"
   },
   {
    "duration": 17,
    "start_time": "2022-05-13T15:25:17.603Z"
   },
   {
    "duration": 13,
    "start_time": "2022-05-13T15:25:17.622Z"
   },
   {
    "duration": 13,
    "start_time": "2022-05-13T15:25:17.637Z"
   },
   {
    "duration": 44,
    "start_time": "2022-05-13T15:25:17.652Z"
   },
   {
    "duration": 12,
    "start_time": "2022-05-13T15:25:17.703Z"
   },
   {
    "duration": 241,
    "start_time": "2022-05-13T15:25:17.717Z"
   },
   {
    "duration": 5,
    "start_time": "2022-05-13T15:25:17.961Z"
   },
   {
    "duration": 29,
    "start_time": "2022-05-13T15:25:17.969Z"
   },
   {
    "duration": 17,
    "start_time": "2022-05-13T15:25:18.001Z"
   },
   {
    "duration": 17,
    "start_time": "2022-05-13T15:25:18.020Z"
   },
   {
    "duration": 47,
    "start_time": "2022-05-13T15:25:18.039Z"
   },
   {
    "duration": 4,
    "start_time": "2022-05-13T15:25:18.089Z"
   },
   {
    "duration": 9,
    "start_time": "2022-05-13T15:25:18.096Z"
   },
   {
    "duration": 7,
    "start_time": "2022-05-13T15:25:18.107Z"
   },
   {
    "duration": 8,
    "start_time": "2022-05-13T15:25:18.116Z"
   },
   {
    "duration": 5,
    "start_time": "2022-05-13T15:25:18.126Z"
   },
   {
    "duration": 5,
    "start_time": "2022-05-13T15:25:18.134Z"
   },
   {
    "duration": 46,
    "start_time": "2022-05-13T15:25:18.141Z"
   },
   {
    "duration": 13,
    "start_time": "2022-05-13T15:25:18.190Z"
   },
   {
    "duration": 311,
    "start_time": "2022-05-13T15:25:18.205Z"
   },
   {
    "duration": 13519,
    "start_time": "2022-05-13T15:25:18.518Z"
   },
   {
    "duration": 4,
    "start_time": "2022-05-13T15:25:32.039Z"
   },
   {
    "duration": 854,
    "start_time": "2022-05-13T15:25:32.046Z"
   },
   {
    "duration": 673,
    "start_time": "2022-05-13T15:25:32.903Z"
   },
   {
    "duration": 36,
    "start_time": "2022-05-13T15:25:33.582Z"
   },
   {
    "duration": 6,
    "start_time": "2022-05-13T15:25:33.620Z"
   },
   {
    "duration": 247,
    "start_time": "2022-05-13T15:25:33.628Z"
   },
   {
    "duration": 13,
    "start_time": "2022-05-13T15:25:33.877Z"
   },
   {
    "duration": 12,
    "start_time": "2022-05-13T15:25:33.893Z"
   },
   {
    "duration": 11,
    "start_time": "2022-05-13T15:25:33.907Z"
   },
   {
    "duration": 6,
    "start_time": "2022-05-13T15:25:33.920Z"
   },
   {
    "duration": 65,
    "start_time": "2022-05-13T15:25:33.928Z"
   },
   {
    "duration": 10,
    "start_time": "2022-05-13T15:25:33.996Z"
   },
   {
    "duration": 10,
    "start_time": "2022-05-13T15:25:34.008Z"
   },
   {
    "duration": 412,
    "start_time": "2022-05-13T15:25:34.020Z"
   },
   {
    "duration": 19329,
    "start_time": "2022-05-13T15:25:34.434Z"
   },
   {
    "duration": 4,
    "start_time": "2022-05-13T15:25:53.766Z"
   },
   {
    "duration": 611,
    "start_time": "2022-05-13T15:25:53.783Z"
   },
   {
    "duration": 809,
    "start_time": "2022-05-13T15:25:54.397Z"
   },
   {
    "duration": 312,
    "start_time": "2022-05-13T15:25:55.209Z"
   },
   {
    "duration": 12942,
    "start_time": "2022-05-13T15:25:55.523Z"
   },
   {
    "duration": 4,
    "start_time": "2022-05-13T15:26:08.467Z"
   },
   {
    "duration": 227,
    "start_time": "2022-05-13T15:26:08.473Z"
   },
   {
    "duration": 252,
    "start_time": "2022-05-13T15:26:08.784Z"
   },
   {
    "duration": 622,
    "start_time": "2022-05-13T15:29:02.344Z"
   },
   {
    "duration": 13,
    "start_time": "2022-05-13T15:29:05.365Z"
   },
   {
    "duration": 30,
    "start_time": "2022-05-13T15:30:14.553Z"
   },
   {
    "duration": 6,
    "start_time": "2022-05-13T15:30:17.647Z"
   },
   {
    "duration": 221,
    "start_time": "2022-05-13T15:30:20.277Z"
   },
   {
    "duration": 11,
    "start_time": "2022-05-13T15:30:25.045Z"
   },
   {
    "duration": 608,
    "start_time": "2022-05-13T17:12:07.393Z"
   },
   {
    "duration": 670,
    "start_time": "2022-05-13T17:12:16.360Z"
   },
   {
    "duration": 32,
    "start_time": "2022-05-13T17:12:22.235Z"
   },
   {
    "duration": 6,
    "start_time": "2022-05-13T17:12:23.690Z"
   },
   {
    "duration": 207,
    "start_time": "2022-05-13T17:12:25.908Z"
   },
   {
    "duration": 9,
    "start_time": "2022-05-13T17:12:29.109Z"
   },
   {
    "duration": 1984,
    "start_time": "2022-05-13T17:28:54.186Z"
   },
   {
    "duration": 55,
    "start_time": "2022-05-13T17:28:56.172Z"
   },
   {
    "duration": 20,
    "start_time": "2022-05-13T17:28:56.229Z"
   },
   {
    "duration": 12,
    "start_time": "2022-05-13T17:28:56.251Z"
   },
   {
    "duration": 7,
    "start_time": "2022-05-13T17:28:56.283Z"
   },
   {
    "duration": 13,
    "start_time": "2022-05-13T17:28:56.292Z"
   },
   {
    "duration": 11,
    "start_time": "2022-05-13T17:28:56.307Z"
   },
   {
    "duration": 25,
    "start_time": "2022-05-13T17:28:56.320Z"
   },
   {
    "duration": 46,
    "start_time": "2022-05-13T17:28:56.347Z"
   },
   {
    "duration": 21,
    "start_time": "2022-05-13T17:28:56.396Z"
   },
   {
    "duration": 65,
    "start_time": "2022-05-13T17:28:56.419Z"
   },
   {
    "duration": 12,
    "start_time": "2022-05-13T17:28:56.487Z"
   },
   {
    "duration": 24,
    "start_time": "2022-05-13T17:28:56.502Z"
   },
   {
    "duration": 53,
    "start_time": "2022-05-13T17:28:56.533Z"
   },
   {
    "duration": 10,
    "start_time": "2022-05-13T17:28:56.589Z"
   },
   {
    "duration": 11,
    "start_time": "2022-05-13T17:28:56.601Z"
   },
   {
    "duration": 10,
    "start_time": "2022-05-13T17:28:56.615Z"
   },
   {
    "duration": 13,
    "start_time": "2022-05-13T17:28:56.627Z"
   },
   {
    "duration": 46,
    "start_time": "2022-05-13T17:28:56.642Z"
   },
   {
    "duration": 12,
    "start_time": "2022-05-13T17:28:56.691Z"
   },
   {
    "duration": 10,
    "start_time": "2022-05-13T17:28:56.705Z"
   },
   {
    "duration": 10,
    "start_time": "2022-05-13T17:28:56.718Z"
   },
   {
    "duration": 55,
    "start_time": "2022-05-13T17:28:56.731Z"
   },
   {
    "duration": 8,
    "start_time": "2022-05-13T17:28:56.788Z"
   },
   {
    "duration": 10,
    "start_time": "2022-05-13T17:28:56.798Z"
   },
   {
    "duration": 8,
    "start_time": "2022-05-13T17:28:56.810Z"
   },
   {
    "duration": 11,
    "start_time": "2022-05-13T17:28:56.820Z"
   },
   {
    "duration": 49,
    "start_time": "2022-05-13T17:28:56.834Z"
   },
   {
    "duration": 10,
    "start_time": "2022-05-13T17:28:56.885Z"
   },
   {
    "duration": 232,
    "start_time": "2022-05-13T17:28:56.897Z"
   },
   {
    "duration": 5,
    "start_time": "2022-05-13T17:28:57.132Z"
   },
   {
    "duration": 27,
    "start_time": "2022-05-13T17:28:57.140Z"
   },
   {
    "duration": 29,
    "start_time": "2022-05-13T17:28:57.169Z"
   },
   {
    "duration": 20,
    "start_time": "2022-05-13T17:28:57.201Z"
   },
   {
    "duration": 14,
    "start_time": "2022-05-13T17:28:57.223Z"
   },
   {
    "duration": 3,
    "start_time": "2022-05-13T17:28:57.239Z"
   },
   {
    "duration": 5,
    "start_time": "2022-05-13T17:28:57.281Z"
   },
   {
    "duration": 8,
    "start_time": "2022-05-13T17:28:57.289Z"
   },
   {
    "duration": 7,
    "start_time": "2022-05-13T17:28:57.299Z"
   },
   {
    "duration": 8,
    "start_time": "2022-05-13T17:28:57.308Z"
   },
   {
    "duration": 4,
    "start_time": "2022-05-13T17:28:57.323Z"
   },
   {
    "duration": 54,
    "start_time": "2022-05-13T17:28:57.329Z"
   },
   {
    "duration": 5,
    "start_time": "2022-05-13T17:28:57.386Z"
   },
   {
    "duration": 301,
    "start_time": "2022-05-13T17:28:57.393Z"
   },
   {
    "duration": 12439,
    "start_time": "2022-05-13T17:28:57.696Z"
   },
   {
    "duration": 5,
    "start_time": "2022-05-13T17:29:10.137Z"
   },
   {
    "duration": 651,
    "start_time": "2022-05-13T17:29:10.144Z"
   },
   {
    "duration": 570,
    "start_time": "2022-05-13T17:29:10.884Z"
   },
   {
    "duration": 42,
    "start_time": "2022-05-13T17:29:11.456Z"
   },
   {
    "duration": 6,
    "start_time": "2022-05-13T17:29:11.500Z"
   },
   {
    "duration": 219,
    "start_time": "2022-05-13T17:29:11.508Z"
   },
   {
    "duration": 9,
    "start_time": "2022-05-13T17:29:11.729Z"
   },
   {
    "duration": 10,
    "start_time": "2022-05-13T17:29:11.740Z"
   },
   {
    "duration": 36,
    "start_time": "2022-05-13T17:29:11.752Z"
   },
   {
    "duration": 6,
    "start_time": "2022-05-13T17:29:11.791Z"
   },
   {
    "duration": 15,
    "start_time": "2022-05-13T17:29:11.799Z"
   },
   {
    "duration": 10,
    "start_time": "2022-05-13T17:29:11.816Z"
   },
   {
    "duration": 57,
    "start_time": "2022-05-13T17:29:11.827Z"
   },
   {
    "duration": 376,
    "start_time": "2022-05-13T17:29:11.886Z"
   },
   {
    "duration": 17992,
    "start_time": "2022-05-13T17:29:12.265Z"
   },
   {
    "duration": 5,
    "start_time": "2022-05-13T17:29:30.260Z"
   },
   {
    "duration": 207,
    "start_time": "2022-05-13T17:29:30.281Z"
   },
   {
    "duration": 772,
    "start_time": "2022-05-13T17:29:30.491Z"
   },
   {
    "duration": 291,
    "start_time": "2022-05-13T17:29:31.266Z"
   },
   {
    "duration": 13441,
    "start_time": "2022-05-13T17:29:31.560Z"
   },
   {
    "duration": 4,
    "start_time": "2022-05-13T17:29:45.004Z"
   },
   {
    "duration": 179,
    "start_time": "2022-05-13T17:29:45.010Z"
   },
   {
    "duration": 240,
    "start_time": "2022-05-13T17:29:45.281Z"
   },
   {
    "duration": 594,
    "start_time": "2022-05-13T17:29:45.523Z"
   },
   {
    "duration": 32,
    "start_time": "2022-05-13T17:29:46.120Z"
   },
   {
    "duration": 7,
    "start_time": "2022-05-13T17:29:46.154Z"
   },
   {
    "duration": 224,
    "start_time": "2022-05-13T17:29:46.182Z"
   },
   {
    "duration": 9,
    "start_time": "2022-05-13T17:29:46.409Z"
   },
   {
    "duration": 619,
    "start_time": "2022-05-13T17:29:46.421Z"
   },
   {
    "duration": 677,
    "start_time": "2022-05-13T17:29:47.042Z"
   },
   {
    "duration": 34,
    "start_time": "2022-05-13T17:29:47.721Z"
   },
   {
    "duration": 24,
    "start_time": "2022-05-13T17:29:47.758Z"
   },
   {
    "duration": 217,
    "start_time": "2022-05-13T17:29:47.785Z"
   },
   {
    "duration": 9,
    "start_time": "2022-05-13T17:29:48.005Z"
   },
   {
    "duration": 1732,
    "start_time": "2022-05-14T07:38:00.553Z"
   },
   {
    "duration": 38,
    "start_time": "2022-05-14T07:38:02.287Z"
   },
   {
    "duration": 15,
    "start_time": "2022-05-14T07:38:02.327Z"
   },
   {
    "duration": 4,
    "start_time": "2022-05-14T07:38:02.590Z"
   },
   {
    "duration": 4,
    "start_time": "2022-05-14T07:38:02.910Z"
   },
   {
    "duration": 4,
    "start_time": "2022-05-14T07:38:03.419Z"
   },
   {
    "duration": 5,
    "start_time": "2022-05-14T07:38:04.798Z"
   },
   {
    "duration": 24,
    "start_time": "2022-05-14T07:38:04.804Z"
   },
   {
    "duration": 11,
    "start_time": "2022-05-14T07:38:05.378Z"
   },
   {
    "duration": 11,
    "start_time": "2022-05-14T07:38:06.318Z"
   },
   {
    "duration": 17,
    "start_time": "2022-05-14T07:38:07.179Z"
   },
   {
    "duration": 8,
    "start_time": "2022-05-14T07:38:07.810Z"
   },
   {
    "duration": 11,
    "start_time": "2022-05-14T07:38:08.230Z"
   },
   {
    "duration": 11,
    "start_time": "2022-05-14T07:38:09.118Z"
   },
   {
    "duration": 5,
    "start_time": "2022-05-14T07:38:10.230Z"
   },
   {
    "duration": 8,
    "start_time": "2022-05-14T07:38:10.709Z"
   },
   {
    "duration": 6,
    "start_time": "2022-05-14T07:38:11.189Z"
   },
   {
    "duration": 7,
    "start_time": "2022-05-14T07:38:11.430Z"
   },
   {
    "duration": 7,
    "start_time": "2022-05-14T07:38:11.949Z"
   },
   {
    "duration": 7,
    "start_time": "2022-05-14T07:38:12.411Z"
   },
   {
    "duration": 6,
    "start_time": "2022-05-14T07:38:12.850Z"
   },
   {
    "duration": 6,
    "start_time": "2022-05-14T07:38:13.248Z"
   },
   {
    "duration": 8,
    "start_time": "2022-05-14T07:38:13.718Z"
   },
   {
    "duration": 7,
    "start_time": "2022-05-14T07:38:14.150Z"
   },
   {
    "duration": 6,
    "start_time": "2022-05-14T07:38:14.559Z"
   },
   {
    "duration": 5,
    "start_time": "2022-05-14T07:38:15.010Z"
   },
   {
    "duration": 7,
    "start_time": "2022-05-14T07:38:15.471Z"
   },
   {
    "duration": 6,
    "start_time": "2022-05-14T07:38:15.969Z"
   },
   {
    "duration": 6,
    "start_time": "2022-05-14T07:38:18.979Z"
   },
   {
    "duration": 114,
    "start_time": "2022-05-14T07:38:19.350Z"
   },
   {
    "duration": 4,
    "start_time": "2022-05-14T07:38:20.598Z"
   },
   {
    "duration": 9,
    "start_time": "2022-05-14T07:38:21.072Z"
   },
   {
    "duration": 11,
    "start_time": "2022-05-14T07:38:21.519Z"
   },
   {
    "duration": 10,
    "start_time": "2022-05-14T07:38:21.737Z"
   },
   {
    "duration": 9,
    "start_time": "2022-05-14T07:38:23.498Z"
   },
   {
    "duration": 4,
    "start_time": "2022-05-14T07:38:26.818Z"
   },
   {
    "duration": 4,
    "start_time": "2022-05-14T07:38:26.970Z"
   },
   {
    "duration": 3,
    "start_time": "2022-05-14T07:38:27.107Z"
   },
   {
    "duration": 3,
    "start_time": "2022-05-14T07:38:27.390Z"
   },
   {
    "duration": 3,
    "start_time": "2022-05-14T07:38:27.847Z"
   },
   {
    "duration": 141,
    "start_time": "2022-05-14T07:38:34.291Z"
   },
   {
    "duration": 127,
    "start_time": "2022-05-14T07:38:37.411Z"
   },
   {
    "duration": 12,
    "start_time": "2022-05-14T07:38:45.279Z"
   },
   {
    "duration": 148,
    "start_time": "2022-05-14T07:38:55.011Z"
   },
   {
    "duration": 5,
    "start_time": "2022-05-14T07:39:06.919Z"
   },
   {
    "duration": 7,
    "start_time": "2022-05-14T07:39:07.433Z"
   },
   {
    "duration": 5,
    "start_time": "2022-05-14T07:39:08.970Z"
   },
   {
    "duration": 165,
    "start_time": "2022-05-14T07:39:10.073Z"
   },
   {
    "duration": 4,
    "start_time": "2022-05-14T07:39:29.350Z"
   },
   {
    "duration": 8,
    "start_time": "2022-05-14T07:43:29.540Z"
   },
   {
    "duration": 27,
    "start_time": "2022-05-14T07:43:32.675Z"
   },
   {
    "duration": 4,
    "start_time": "2022-05-14T07:43:42.111Z"
   },
   {
    "duration": 13,
    "start_time": "2022-05-14T07:43:42.117Z"
   },
   {
    "duration": 2,
    "start_time": "2022-05-14T07:43:48.534Z"
   },
   {
    "duration": 2485,
    "start_time": "2022-05-15T14:43:20.029Z"
   },
   {
    "duration": 59,
    "start_time": "2022-05-15T14:43:22.517Z"
   },
   {
    "duration": 20,
    "start_time": "2022-05-15T14:43:22.578Z"
   },
   {
    "duration": 6,
    "start_time": "2022-05-15T14:43:22.603Z"
   },
   {
    "duration": 8,
    "start_time": "2022-05-15T14:43:26.566Z"
   },
   {
    "duration": 177,
    "start_time": "2022-05-15T14:44:08.355Z"
   },
   {
    "duration": 22,
    "start_time": "2022-05-15T14:44:48.450Z"
   },
   {
    "duration": 4,
    "start_time": "2022-05-15T14:46:33.560Z"
   },
   {
    "duration": 8,
    "start_time": "2022-05-15T14:46:43.717Z"
   },
   {
    "duration": 60,
    "start_time": "2022-05-15T14:46:43.728Z"
   },
   {
    "duration": 18,
    "start_time": "2022-05-15T14:46:43.790Z"
   },
   {
    "duration": 6,
    "start_time": "2022-05-15T14:46:43.810Z"
   },
   {
    "duration": 33,
    "start_time": "2022-05-15T14:46:43.819Z"
   },
   {
    "duration": 5,
    "start_time": "2022-05-15T14:46:43.854Z"
   },
   {
    "duration": 4,
    "start_time": "2022-05-15T14:46:51.151Z"
   },
   {
    "duration": 4,
    "start_time": "2022-05-15T14:46:51.744Z"
   },
   {
    "duration": 6,
    "start_time": "2022-05-15T14:47:14.467Z"
   },
   {
    "duration": 4,
    "start_time": "2022-05-15T14:48:15.704Z"
   },
   {
    "duration": 4,
    "start_time": "2022-05-15T14:48:16.199Z"
   },
   {
    "duration": 5,
    "start_time": "2022-05-15T14:48:17.985Z"
   },
   {
    "duration": 6,
    "start_time": "2022-05-15T14:54:38.349Z"
   },
   {
    "duration": 59,
    "start_time": "2022-05-15T14:54:38.358Z"
   },
   {
    "duration": 32,
    "start_time": "2022-05-15T14:54:38.420Z"
   },
   {
    "duration": 5,
    "start_time": "2022-05-15T14:54:38.455Z"
   },
   {
    "duration": 6,
    "start_time": "2022-05-15T14:54:38.511Z"
   },
   {
    "duration": 8,
    "start_time": "2022-05-15T14:54:38.520Z"
   },
   {
    "duration": 5,
    "start_time": "2022-05-15T14:54:38.530Z"
   },
   {
    "duration": 9,
    "start_time": "2022-05-15T14:54:38.538Z"
   },
   {
    "duration": 11,
    "start_time": "2022-05-15T14:54:38.550Z"
   },
   {
    "duration": 29,
    "start_time": "2022-05-15T14:54:38.721Z"
   },
   {
    "duration": 0,
    "start_time": "2022-05-15T14:54:38.753Z"
   },
   {
    "duration": 0,
    "start_time": "2022-05-15T14:54:38.755Z"
   },
   {
    "duration": 17,
    "start_time": "2022-05-15T14:54:38.763Z"
   },
   {
    "duration": 31,
    "start_time": "2022-05-15T14:54:38.783Z"
   },
   {
    "duration": 14,
    "start_time": "2022-05-15T14:54:38.853Z"
   },
   {
    "duration": 16,
    "start_time": "2022-05-15T14:54:38.870Z"
   },
   {
    "duration": 22,
    "start_time": "2022-05-15T14:54:38.888Z"
   },
   {
    "duration": 45,
    "start_time": "2022-05-15T14:54:38.913Z"
   },
   {
    "duration": 19,
    "start_time": "2022-05-15T14:54:38.960Z"
   },
   {
    "duration": 26,
    "start_time": "2022-05-15T14:54:38.981Z"
   },
   {
    "duration": 13,
    "start_time": "2022-05-15T14:54:39.011Z"
   },
   {
    "duration": 18,
    "start_time": "2022-05-15T14:54:39.026Z"
   },
   {
    "duration": 11,
    "start_time": "2022-05-15T14:54:39.052Z"
   },
   {
    "duration": 15,
    "start_time": "2022-05-15T14:54:39.066Z"
   },
   {
    "duration": 11,
    "start_time": "2022-05-15T14:54:39.083Z"
   },
   {
    "duration": 17,
    "start_time": "2022-05-15T14:54:39.096Z"
   },
   {
    "duration": 8,
    "start_time": "2022-05-15T14:54:39.115Z"
   },
   {
    "duration": 8,
    "start_time": "2022-05-15T14:54:39.151Z"
   },
   {
    "duration": 12,
    "start_time": "2022-05-15T14:54:39.161Z"
   },
   {
    "duration": 16,
    "start_time": "2022-05-15T14:54:39.175Z"
   },
   {
    "duration": 11,
    "start_time": "2022-05-15T14:54:39.193Z"
   },
   {
    "duration": 11,
    "start_time": "2022-05-15T14:54:39.206Z"
   },
   {
    "duration": 242,
    "start_time": "2022-05-15T14:54:39.219Z"
   },
   {
    "duration": 6,
    "start_time": "2022-05-15T14:54:39.463Z"
   },
   {
    "duration": 6,
    "start_time": "2022-05-15T14:55:27.880Z"
   },
   {
    "duration": 260,
    "start_time": "2022-05-15T15:07:55.404Z"
   },
   {
    "duration": 70,
    "start_time": "2022-05-15T15:09:17.109Z"
   },
   {
    "duration": 28,
    "start_time": "2022-05-15T15:09:19.934Z"
   },
   {
    "duration": 7,
    "start_time": "2022-05-15T15:09:30.036Z"
   },
   {
    "duration": 67,
    "start_time": "2022-05-15T15:09:30.048Z"
   },
   {
    "duration": 17,
    "start_time": "2022-05-15T15:09:30.117Z"
   },
   {
    "duration": 17,
    "start_time": "2022-05-15T15:09:30.136Z"
   },
   {
    "duration": 23,
    "start_time": "2022-05-15T15:09:30.156Z"
   },
   {
    "duration": 8,
    "start_time": "2022-05-15T15:09:30.182Z"
   },
   {
    "duration": 10,
    "start_time": "2022-05-15T15:09:30.192Z"
   },
   {
    "duration": 17,
    "start_time": "2022-05-15T15:09:30.204Z"
   },
   {
    "duration": 16,
    "start_time": "2022-05-15T15:09:30.223Z"
   },
   {
    "duration": 36,
    "start_time": "2022-05-15T15:09:30.241Z"
   },
   {
    "duration": 0,
    "start_time": "2022-05-15T15:09:30.280Z"
   },
   {
    "duration": 0,
    "start_time": "2022-05-15T15:09:30.282Z"
   },
   {
    "duration": 0,
    "start_time": "2022-05-15T15:09:30.284Z"
   },
   {
    "duration": 0,
    "start_time": "2022-05-15T15:09:30.285Z"
   },
   {
    "duration": 0,
    "start_time": "2022-05-15T15:09:30.287Z"
   },
   {
    "duration": 1,
    "start_time": "2022-05-15T15:09:30.288Z"
   },
   {
    "duration": 0,
    "start_time": "2022-05-15T15:09:30.290Z"
   },
   {
    "duration": 0,
    "start_time": "2022-05-15T15:09:30.292Z"
   },
   {
    "duration": 0,
    "start_time": "2022-05-15T15:09:30.293Z"
   },
   {
    "duration": 0,
    "start_time": "2022-05-15T15:09:30.295Z"
   },
   {
    "duration": 0,
    "start_time": "2022-05-15T15:09:30.297Z"
   },
   {
    "duration": 0,
    "start_time": "2022-05-15T15:09:30.299Z"
   },
   {
    "duration": 0,
    "start_time": "2022-05-15T15:09:30.300Z"
   },
   {
    "duration": 0,
    "start_time": "2022-05-15T15:09:30.302Z"
   },
   {
    "duration": 0,
    "start_time": "2022-05-15T15:09:30.303Z"
   },
   {
    "duration": 0,
    "start_time": "2022-05-15T15:09:30.305Z"
   },
   {
    "duration": 0,
    "start_time": "2022-05-15T15:09:30.306Z"
   },
   {
    "duration": 0,
    "start_time": "2022-05-15T15:09:30.352Z"
   },
   {
    "duration": 0,
    "start_time": "2022-05-15T15:09:30.354Z"
   },
   {
    "duration": 0,
    "start_time": "2022-05-15T15:09:30.355Z"
   },
   {
    "duration": 0,
    "start_time": "2022-05-15T15:09:30.357Z"
   },
   {
    "duration": 14,
    "start_time": "2022-05-15T15:09:30.361Z"
   },
   {
    "duration": 269,
    "start_time": "2022-05-15T15:09:30.378Z"
   },
   {
    "duration": 5,
    "start_time": "2022-05-15T15:09:30.651Z"
   },
   {
    "duration": 19,
    "start_time": "2022-05-15T15:09:30.659Z"
   },
   {
    "duration": 298,
    "start_time": "2022-05-15T15:09:30.680Z"
   },
   {
    "duration": 29,
    "start_time": "2022-05-15T15:09:35.445Z"
   },
   {
    "duration": 6,
    "start_time": "2022-05-15T15:10:05.510Z"
   },
   {
    "duration": 6,
    "start_time": "2022-05-15T15:10:08.400Z"
   },
   {
    "duration": 386,
    "start_time": "2022-05-15T15:10:09.977Z"
   },
   {
    "duration": 29,
    "start_time": "2022-05-15T15:10:12.077Z"
   },
   {
    "duration": 7,
    "start_time": "2022-05-15T15:10:36.647Z"
   },
   {
    "duration": 60,
    "start_time": "2022-05-15T15:10:36.657Z"
   },
   {
    "duration": 18,
    "start_time": "2022-05-15T15:10:36.720Z"
   },
   {
    "duration": 22,
    "start_time": "2022-05-15T15:10:36.739Z"
   },
   {
    "duration": 13,
    "start_time": "2022-05-15T15:10:36.763Z"
   },
   {
    "duration": 26,
    "start_time": "2022-05-15T15:10:36.779Z"
   },
   {
    "duration": 6,
    "start_time": "2022-05-15T15:10:36.807Z"
   },
   {
    "duration": 25,
    "start_time": "2022-05-15T15:10:36.815Z"
   },
   {
    "duration": 8,
    "start_time": "2022-05-15T15:10:36.842Z"
   },
   {
    "duration": 25,
    "start_time": "2022-05-15T15:10:36.852Z"
   },
   {
    "duration": 0,
    "start_time": "2022-05-15T15:10:36.880Z"
   },
   {
    "duration": 0,
    "start_time": "2022-05-15T15:10:36.882Z"
   },
   {
    "duration": 0,
    "start_time": "2022-05-15T15:10:36.883Z"
   },
   {
    "duration": 0,
    "start_time": "2022-05-15T15:10:36.885Z"
   },
   {
    "duration": 0,
    "start_time": "2022-05-15T15:10:36.886Z"
   },
   {
    "duration": 0,
    "start_time": "2022-05-15T15:10:36.888Z"
   },
   {
    "duration": 0,
    "start_time": "2022-05-15T15:10:36.890Z"
   },
   {
    "duration": 0,
    "start_time": "2022-05-15T15:10:36.891Z"
   },
   {
    "duration": 0,
    "start_time": "2022-05-15T15:10:36.893Z"
   },
   {
    "duration": 0,
    "start_time": "2022-05-15T15:10:36.895Z"
   },
   {
    "duration": 0,
    "start_time": "2022-05-15T15:10:36.896Z"
   },
   {
    "duration": 0,
    "start_time": "2022-05-15T15:10:36.898Z"
   },
   {
    "duration": 0,
    "start_time": "2022-05-15T15:10:36.900Z"
   },
   {
    "duration": 0,
    "start_time": "2022-05-15T15:10:36.901Z"
   },
   {
    "duration": 0,
    "start_time": "2022-05-15T15:10:36.903Z"
   },
   {
    "duration": 0,
    "start_time": "2022-05-15T15:10:36.904Z"
   },
   {
    "duration": 0,
    "start_time": "2022-05-15T15:10:36.906Z"
   },
   {
    "duration": 0,
    "start_time": "2022-05-15T15:10:36.908Z"
   },
   {
    "duration": 0,
    "start_time": "2022-05-15T15:10:36.952Z"
   },
   {
    "duration": 0,
    "start_time": "2022-05-15T15:10:36.953Z"
   },
   {
    "duration": 0,
    "start_time": "2022-05-15T15:10:36.955Z"
   },
   {
    "duration": 11,
    "start_time": "2022-05-15T15:10:36.959Z"
   },
   {
    "duration": 258,
    "start_time": "2022-05-15T15:10:36.972Z"
   },
   {
    "duration": 5,
    "start_time": "2022-05-15T15:10:37.232Z"
   },
   {
    "duration": 6,
    "start_time": "2022-05-15T15:10:41.041Z"
   },
   {
    "duration": 289,
    "start_time": "2022-05-15T15:10:41.788Z"
   },
   {
    "duration": 29,
    "start_time": "2022-05-15T15:10:43.674Z"
   },
   {
    "duration": 7,
    "start_time": "2022-05-15T15:11:32.761Z"
   },
   {
    "duration": 52,
    "start_time": "2022-05-15T15:11:32.771Z"
   },
   {
    "duration": 16,
    "start_time": "2022-05-15T15:11:32.826Z"
   },
   {
    "duration": 5,
    "start_time": "2022-05-15T15:11:32.852Z"
   },
   {
    "duration": 6,
    "start_time": "2022-05-15T15:11:32.860Z"
   },
   {
    "duration": 13,
    "start_time": "2022-05-15T15:11:32.868Z"
   },
   {
    "duration": 11,
    "start_time": "2022-05-15T15:11:32.883Z"
   },
   {
    "duration": 17,
    "start_time": "2022-05-15T15:11:32.896Z"
   },
   {
    "duration": 9,
    "start_time": "2022-05-15T15:11:32.915Z"
   },
   {
    "duration": 43,
    "start_time": "2022-05-15T15:11:32.926Z"
   },
   {
    "duration": 0,
    "start_time": "2022-05-15T15:11:32.972Z"
   },
   {
    "duration": 0,
    "start_time": "2022-05-15T15:11:32.974Z"
   },
   {
    "duration": 0,
    "start_time": "2022-05-15T15:11:32.975Z"
   },
   {
    "duration": 0,
    "start_time": "2022-05-15T15:11:32.977Z"
   },
   {
    "duration": 0,
    "start_time": "2022-05-15T15:11:32.978Z"
   },
   {
    "duration": 0,
    "start_time": "2022-05-15T15:11:32.979Z"
   },
   {
    "duration": 0,
    "start_time": "2022-05-15T15:11:32.981Z"
   },
   {
    "duration": 0,
    "start_time": "2022-05-15T15:11:32.982Z"
   },
   {
    "duration": 0,
    "start_time": "2022-05-15T15:11:32.983Z"
   },
   {
    "duration": 0,
    "start_time": "2022-05-15T15:11:32.985Z"
   },
   {
    "duration": 0,
    "start_time": "2022-05-15T15:11:32.986Z"
   },
   {
    "duration": 0,
    "start_time": "2022-05-15T15:11:32.988Z"
   },
   {
    "duration": 0,
    "start_time": "2022-05-15T15:11:32.989Z"
   },
   {
    "duration": 0,
    "start_time": "2022-05-15T15:11:32.991Z"
   },
   {
    "duration": 0,
    "start_time": "2022-05-15T15:11:32.993Z"
   },
   {
    "duration": 0,
    "start_time": "2022-05-15T15:11:32.995Z"
   },
   {
    "duration": 0,
    "start_time": "2022-05-15T15:11:32.996Z"
   },
   {
    "duration": 0,
    "start_time": "2022-05-15T15:11:32.998Z"
   },
   {
    "duration": 10,
    "start_time": "2022-05-15T15:11:33.054Z"
   },
   {
    "duration": 11,
    "start_time": "2022-05-15T15:11:33.067Z"
   },
   {
    "duration": 8,
    "start_time": "2022-05-15T15:11:33.081Z"
   },
   {
    "duration": 64,
    "start_time": "2022-05-15T15:11:33.091Z"
   },
   {
    "duration": 220,
    "start_time": "2022-05-15T15:11:33.157Z"
   },
   {
    "duration": 5,
    "start_time": "2022-05-15T15:11:37.951Z"
   },
   {
    "duration": 18,
    "start_time": "2022-05-15T15:11:53.696Z"
   },
   {
    "duration": 7,
    "start_time": "2022-05-15T15:12:47.722Z"
   },
   {
    "duration": 47,
    "start_time": "2022-05-15T15:12:47.734Z"
   },
   {
    "duration": 16,
    "start_time": "2022-05-15T15:12:47.784Z"
   },
   {
    "duration": 6,
    "start_time": "2022-05-15T15:12:47.802Z"
   },
   {
    "duration": 6,
    "start_time": "2022-05-15T15:12:47.811Z"
   },
   {
    "duration": 34,
    "start_time": "2022-05-15T15:12:47.819Z"
   },
   {
    "duration": 5,
    "start_time": "2022-05-15T15:12:47.855Z"
   },
   {
    "duration": 6,
    "start_time": "2022-05-15T15:12:47.863Z"
   },
   {
    "duration": 8,
    "start_time": "2022-05-15T15:12:47.871Z"
   },
   {
    "duration": 6,
    "start_time": "2022-05-15T15:12:51.022Z"
   },
   {
    "duration": 20,
    "start_time": "2022-05-15T15:12:54.399Z"
   },
   {
    "duration": 96,
    "start_time": "2022-05-15T15:12:56.935Z"
   },
   {
    "duration": 18,
    "start_time": "2022-05-15T15:13:00.833Z"
   },
   {
    "duration": 34,
    "start_time": "2022-05-15T15:13:05.549Z"
   },
   {
    "duration": 9,
    "start_time": "2022-05-15T15:13:08.733Z"
   },
   {
    "duration": 19,
    "start_time": "2022-05-15T15:13:11.407Z"
   },
   {
    "duration": 15,
    "start_time": "2022-05-15T15:13:14.513Z"
   },
   {
    "duration": 9,
    "start_time": "2022-05-15T15:13:16.993Z"
   },
   {
    "duration": 11,
    "start_time": "2022-05-15T15:13:19.491Z"
   },
   {
    "duration": 8,
    "start_time": "2022-05-15T15:13:21.747Z"
   },
   {
    "duration": 12,
    "start_time": "2022-05-15T15:13:26.787Z"
   },
   {
    "duration": 10,
    "start_time": "2022-05-15T15:13:28.665Z"
   },
   {
    "duration": 10,
    "start_time": "2022-05-15T15:13:30.479Z"
   },
   {
    "duration": 10,
    "start_time": "2022-05-15T15:13:32.580Z"
   },
   {
    "duration": 10,
    "start_time": "2022-05-15T15:13:34.724Z"
   },
   {
    "duration": 13,
    "start_time": "2022-05-15T15:13:37.007Z"
   },
   {
    "duration": 9,
    "start_time": "2022-05-15T15:13:38.912Z"
   },
   {
    "duration": 8,
    "start_time": "2022-05-15T15:13:40.810Z"
   },
   {
    "duration": 11,
    "start_time": "2022-05-15T15:13:42.906Z"
   },
   {
    "duration": 12,
    "start_time": "2022-05-15T15:13:45.304Z"
   },
   {
    "duration": 9,
    "start_time": "2022-05-15T15:13:47.454Z"
   },
   {
    "duration": 9,
    "start_time": "2022-05-15T15:13:51.483Z"
   },
   {
    "duration": 197,
    "start_time": "2022-05-15T15:13:53.546Z"
   },
   {
    "duration": 6,
    "start_time": "2022-05-15T15:13:56.976Z"
   },
   {
    "duration": 17,
    "start_time": "2022-05-15T15:14:17.475Z"
   },
   {
    "duration": 15,
    "start_time": "2022-05-15T15:14:23.369Z"
   },
   {
    "duration": 17,
    "start_time": "2022-05-15T15:14:26.321Z"
   },
   {
    "duration": 24,
    "start_time": "2022-05-15T15:21:42.266Z"
   },
   {
    "duration": 13,
    "start_time": "2022-05-15T15:24:16.939Z"
   },
   {
    "duration": 42,
    "start_time": "2022-05-15T15:24:21.240Z"
   },
   {
    "duration": 6,
    "start_time": "2022-05-15T15:24:33.228Z"
   },
   {
    "duration": 6,
    "start_time": "2022-05-15T15:24:34.106Z"
   },
   {
    "duration": 6,
    "start_time": "2022-05-15T15:24:34.665Z"
   },
   {
    "duration": 6,
    "start_time": "2022-05-15T15:24:35.247Z"
   },
   {
    "duration": 6,
    "start_time": "2022-05-15T15:24:39.936Z"
   },
   {
    "duration": 5,
    "start_time": "2022-05-15T15:24:40.468Z"
   },
   {
    "duration": 40,
    "start_time": "2022-05-15T15:26:34.828Z"
   },
   {
    "duration": 51,
    "start_time": "2022-05-15T15:27:30.702Z"
   },
   {
    "duration": 35,
    "start_time": "2022-05-15T15:30:13.421Z"
   },
   {
    "duration": 6,
    "start_time": "2022-05-15T15:30:19.249Z"
   },
   {
    "duration": 5,
    "start_time": "2022-05-15T15:30:19.761Z"
   },
   {
    "duration": 6,
    "start_time": "2022-05-15T15:30:20.188Z"
   },
   {
    "duration": 6,
    "start_time": "2022-05-15T15:30:20.684Z"
   },
   {
    "duration": 5,
    "start_time": "2022-05-15T15:30:21.209Z"
   },
   {
    "duration": 6,
    "start_time": "2022-05-15T15:30:22.245Z"
   },
   {
    "duration": 25,
    "start_time": "2022-05-15T15:34:10.148Z"
   },
   {
    "duration": 328,
    "start_time": "2022-05-15T15:35:06.417Z"
   },
   {
    "duration": 809,
    "start_time": "2022-05-15T15:35:18.578Z"
   },
   {
    "duration": 315,
    "start_time": "2022-05-15T15:35:26.567Z"
   },
   {
    "duration": 237,
    "start_time": "2022-05-15T15:37:48.253Z"
   },
   {
    "duration": 12777,
    "start_time": "2022-05-15T15:38:23.940Z"
   },
   {
    "duration": 56884,
    "start_time": "2022-05-15T15:39:32.443Z"
   },
   {
    "duration": 13109,
    "start_time": "2022-05-15T15:40:45.366Z"
   },
   {
    "duration": 4,
    "start_time": "2022-05-15T15:43:44.105Z"
   },
   {
    "duration": 433,
    "start_time": "2022-05-15T15:44:24.624Z"
   },
   {
    "duration": 139,
    "start_time": "2022-05-15T15:46:17.104Z"
   },
   {
    "duration": 18,
    "start_time": "2022-05-15T15:46:49.598Z"
   },
   {
    "duration": 8,
    "start_time": "2022-05-15T15:46:51.108Z"
   },
   {
    "duration": 229,
    "start_time": "2022-05-15T15:46:54.559Z"
   },
   {
    "duration": 10,
    "start_time": "2022-05-15T15:47:02.236Z"
   },
   {
    "duration": 10,
    "start_time": "2022-05-15T15:50:28.322Z"
   },
   {
    "duration": 10,
    "start_time": "2022-05-15T15:50:33.426Z"
   },
   {
    "duration": 7,
    "start_time": "2022-05-15T15:50:47.893Z"
   },
   {
    "duration": 13,
    "start_time": "2022-05-15T15:50:49.060Z"
   },
   {
    "duration": 23,
    "start_time": "2022-05-15T15:50:49.923Z"
   },
   {
    "duration": 9,
    "start_time": "2022-05-15T15:52:03.299Z"
   },
   {
    "duration": 12,
    "start_time": "2022-05-15T15:52:04.948Z"
   },
   {
    "duration": 321,
    "start_time": "2022-05-15T15:53:21.069Z"
   },
   {
    "duration": 17312,
    "start_time": "2022-05-15T15:53:59.828Z"
   },
   {
    "duration": 4,
    "start_time": "2022-05-15T15:54:25.712Z"
   },
   {
    "duration": 218,
    "start_time": "2022-05-15T15:54:49.543Z"
   },
   {
    "duration": 635,
    "start_time": "2022-05-15T15:55:52.068Z"
   },
   {
    "duration": 293,
    "start_time": "2022-05-15T15:56:48.782Z"
   },
   {
    "duration": 12226,
    "start_time": "2022-05-15T15:57:07.713Z"
   },
   {
    "duration": 4,
    "start_time": "2022-05-15T15:57:29.595Z"
   },
   {
    "duration": 192,
    "start_time": "2022-05-15T15:58:08.068Z"
   },
   {
    "duration": 441,
    "start_time": "2022-05-15T15:59:02.955Z"
   },
   {
    "duration": 446,
    "start_time": "2022-05-15T15:59:11.409Z"
   },
   {
    "duration": 741,
    "start_time": "2022-05-15T15:59:45.082Z"
   },
   {
    "duration": 39,
    "start_time": "2022-05-15T15:59:50.856Z"
   },
   {
    "duration": 7,
    "start_time": "2022-05-15T15:59:53.624Z"
   },
   {
    "duration": 206,
    "start_time": "2022-05-15T15:59:58.934Z"
   },
   {
    "duration": 8,
    "start_time": "2022-05-15T16:00:04.928Z"
   },
   {
    "duration": 597,
    "start_time": "2022-05-15T16:20:14.571Z"
   },
   {
    "duration": 32,
    "start_time": "2022-05-15T16:22:56.221Z"
   },
   {
    "duration": 7,
    "start_time": "2022-05-15T16:22:56.967Z"
   },
   {
    "duration": 202,
    "start_time": "2022-05-15T16:22:59.350Z"
   },
   {
    "duration": 8,
    "start_time": "2022-05-15T16:23:02.969Z"
   },
   {
    "duration": 1844,
    "start_time": "2022-05-15T16:30:02.164Z"
   },
   {
    "duration": 61,
    "start_time": "2022-05-15T16:30:04.010Z"
   },
   {
    "duration": 25,
    "start_time": "2022-05-15T16:30:04.074Z"
   },
   {
    "duration": 5,
    "start_time": "2022-05-15T16:30:04.102Z"
   },
   {
    "duration": 13,
    "start_time": "2022-05-15T16:30:04.109Z"
   },
   {
    "duration": 30,
    "start_time": "2022-05-15T16:30:04.124Z"
   },
   {
    "duration": 7,
    "start_time": "2022-05-15T16:30:04.156Z"
   },
   {
    "duration": 7,
    "start_time": "2022-05-15T16:30:04.165Z"
   },
   {
    "duration": 7,
    "start_time": "2022-05-15T16:30:04.175Z"
   },
   {
    "duration": 6,
    "start_time": "2022-05-15T16:30:04.186Z"
   },
   {
    "duration": 25,
    "start_time": "2022-05-15T16:30:04.194Z"
   },
   {
    "duration": 43,
    "start_time": "2022-05-15T16:30:04.221Z"
   },
   {
    "duration": 16,
    "start_time": "2022-05-15T16:30:04.266Z"
   },
   {
    "duration": 31,
    "start_time": "2022-05-15T16:30:04.284Z"
   },
   {
    "duration": 40,
    "start_time": "2022-05-15T16:30:04.318Z"
   },
   {
    "duration": 18,
    "start_time": "2022-05-15T16:30:04.361Z"
   },
   {
    "duration": 17,
    "start_time": "2022-05-15T16:30:04.382Z"
   },
   {
    "duration": 55,
    "start_time": "2022-05-15T16:30:04.401Z"
   },
   {
    "duration": 12,
    "start_time": "2022-05-15T16:30:04.459Z"
   },
   {
    "duration": 9,
    "start_time": "2022-05-15T16:30:04.474Z"
   },
   {
    "duration": 11,
    "start_time": "2022-05-15T16:30:04.485Z"
   },
   {
    "duration": 8,
    "start_time": "2022-05-15T16:30:04.499Z"
   },
   {
    "duration": 10,
    "start_time": "2022-05-15T16:30:04.552Z"
   },
   {
    "duration": 27,
    "start_time": "2022-05-15T16:30:04.564Z"
   },
   {
    "duration": 19,
    "start_time": "2022-05-15T16:30:04.594Z"
   },
   {
    "duration": 16,
    "start_time": "2022-05-15T16:30:04.615Z"
   },
   {
    "duration": 10,
    "start_time": "2022-05-15T16:30:04.633Z"
   },
   {
    "duration": 7,
    "start_time": "2022-05-15T16:30:04.656Z"
   },
   {
    "duration": 16,
    "start_time": "2022-05-15T16:30:04.666Z"
   },
   {
    "duration": 10,
    "start_time": "2022-05-15T16:30:04.684Z"
   },
   {
    "duration": 7,
    "start_time": "2022-05-15T16:30:04.697Z"
   },
   {
    "duration": 11,
    "start_time": "2022-05-15T16:30:04.705Z"
   },
   {
    "duration": 288,
    "start_time": "2022-05-15T16:30:04.752Z"
   },
   {
    "duration": 10,
    "start_time": "2022-05-15T16:30:05.043Z"
   },
   {
    "duration": 28,
    "start_time": "2022-05-15T16:30:05.056Z"
   },
   {
    "duration": 22,
    "start_time": "2022-05-15T16:30:05.087Z"
   },
   {
    "duration": 42,
    "start_time": "2022-05-15T16:30:05.112Z"
   },
   {
    "duration": 12,
    "start_time": "2022-05-15T16:30:05.156Z"
   },
   {
    "duration": 39,
    "start_time": "2022-05-15T16:30:05.170Z"
   },
   {
    "duration": 6,
    "start_time": "2022-05-15T16:30:05.211Z"
   },
   {
    "duration": 36,
    "start_time": "2022-05-15T16:30:05.219Z"
   },
   {
    "duration": 8,
    "start_time": "2022-05-15T16:30:05.259Z"
   },
   {
    "duration": 7,
    "start_time": "2022-05-15T16:30:05.270Z"
   },
   {
    "duration": 7,
    "start_time": "2022-05-15T16:30:05.279Z"
   },
   {
    "duration": 6,
    "start_time": "2022-05-15T16:30:05.289Z"
   },
   {
    "duration": 284,
    "start_time": "2022-05-15T16:30:05.297Z"
   },
   {
    "duration": 11795,
    "start_time": "2022-05-15T16:30:05.584Z"
   },
   {
    "duration": 4,
    "start_time": "2022-05-15T16:30:17.381Z"
   },
   {
    "duration": 1066,
    "start_time": "2022-05-15T16:30:17.387Z"
   },
   {
    "duration": 234,
    "start_time": "2022-05-15T16:30:18.457Z"
   },
   {
    "duration": 13,
    "start_time": "2022-05-15T16:30:18.694Z"
   },
   {
    "duration": 5,
    "start_time": "2022-05-15T16:30:18.709Z"
   },
   {
    "duration": 217,
    "start_time": "2022-05-15T16:30:18.716Z"
   },
   {
    "duration": 18,
    "start_time": "2022-05-15T16:30:18.935Z"
   },
   {
    "duration": 10,
    "start_time": "2022-05-15T16:30:18.956Z"
   },
   {
    "duration": 14,
    "start_time": "2022-05-15T16:30:18.968Z"
   },
   {
    "duration": 10,
    "start_time": "2022-05-15T16:30:18.984Z"
   },
   {
    "duration": 55,
    "start_time": "2022-05-15T16:30:18.996Z"
   },
   {
    "duration": 26,
    "start_time": "2022-05-15T16:30:19.054Z"
   },
   {
    "duration": 14,
    "start_time": "2022-05-15T16:30:19.082Z"
   },
   {
    "duration": 12,
    "start_time": "2022-05-15T16:30:19.099Z"
   },
   {
    "duration": 345,
    "start_time": "2022-05-15T16:30:19.113Z"
   },
   {
    "duration": 17465,
    "start_time": "2022-05-15T16:30:19.460Z"
   },
   {
    "duration": 4,
    "start_time": "2022-05-15T16:30:36.927Z"
   },
   {
    "duration": 225,
    "start_time": "2022-05-15T16:30:36.933Z"
   },
   {
    "duration": 856,
    "start_time": "2022-05-15T16:30:37.165Z"
   },
   {
    "duration": 244,
    "start_time": "2022-05-15T16:30:38.023Z"
   },
   {
    "duration": 11696,
    "start_time": "2022-05-15T16:30:38.270Z"
   },
   {
    "duration": 4,
    "start_time": "2022-05-15T16:30:49.968Z"
   },
   {
    "duration": 287,
    "start_time": "2022-05-15T16:30:49.974Z"
   },
   {
    "duration": 621,
    "start_time": "2022-05-15T16:30:50.264Z"
   },
   {
    "duration": 613,
    "start_time": "2022-05-15T16:30:50.887Z"
   },
   {
    "duration": 30,
    "start_time": "2022-05-15T16:30:51.503Z"
   },
   {
    "duration": 18,
    "start_time": "2022-05-15T16:30:51.535Z"
   },
   {
    "duration": 209,
    "start_time": "2022-05-15T16:30:51.555Z"
   },
   {
    "duration": 8,
    "start_time": "2022-05-15T16:30:51.766Z"
   },
   {
    "duration": 623,
    "start_time": "2022-05-15T16:30:51.776Z"
   },
   {
    "duration": 30,
    "start_time": "2022-05-15T16:30:52.402Z"
   },
   {
    "duration": 20,
    "start_time": "2022-05-15T16:30:52.435Z"
   },
   {
    "duration": 210,
    "start_time": "2022-05-15T16:30:52.457Z"
   },
   {
    "duration": 9,
    "start_time": "2022-05-15T16:30:52.669Z"
   }
  ],
  "kernelspec": {
   "display_name": "Python 3 (ipykernel)",
   "language": "python",
   "name": "python3"
  },
  "language_info": {
   "codemirror_mode": {
    "name": "ipython",
    "version": 3
   },
   "file_extension": ".py",
   "mimetype": "text/x-python",
   "name": "python",
   "nbconvert_exporter": "python",
   "pygments_lexer": "ipython3",
   "version": "3.9.7"
  },
  "toc": {
   "base_numbering": 1,
   "nav_menu": {},
   "number_sections": true,
   "sideBar": true,
   "skip_h1_title": true,
   "title_cell": "Содержание",
   "title_sidebar": "Contents",
   "toc_cell": true,
   "toc_position": {},
   "toc_section_display": true,
   "toc_window_display": false
  }
 },
 "nbformat": 4,
 "nbformat_minor": 2
}
