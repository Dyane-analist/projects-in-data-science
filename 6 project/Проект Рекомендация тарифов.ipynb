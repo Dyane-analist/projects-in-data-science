{
 "cells": [
  {
   "cell_type": "markdown",
   "id": "616bc080",
   "metadata": {
    "toc": true
   },
   "source": [
    "<h1>Table of Contents<span class=\"tocSkip\"></span></h1>\n",
    "<div class=\"toc\"><ul class=\"toc-item\"><li><span><a href=\"#Шаг-1.-Обзор-и-подготовка-данных\" data-toc-modified-id=\"Шаг-1.-Обзор-и-подготовка-данных-1\"><span class=\"toc-item-num\">1&nbsp;&nbsp;</span>Шаг 1. Обзор и подготовка данных</a></span></li><li><span><a href=\"#Шаг-2.-Подготовка-к-обучению:-обучающая,-валидационная-и-тестовая-выборки,-признаки\" data-toc-modified-id=\"Шаг-2.-Подготовка-к-обучению:-обучающая,-валидационная-и-тестовая-выборки,-признаки-2\"><span class=\"toc-item-num\">2&nbsp;&nbsp;</span>Шаг 2. Подготовка к обучению: обучающая, валидационная и тестовая выборки, признаки</a></span></li><li><span><a href=\"#Шаг-3.-Исследование-качества-разных-моделей-с-различными-вариантами-гиперпараметров\" data-toc-modified-id=\"Шаг-3.-Исследование-качества-разных-моделей-с-различными-вариантами-гиперпараметров-3\"><span class=\"toc-item-num\">3&nbsp;&nbsp;</span>Шаг 3. Исследование качества разных моделей с различными вариантами гиперпараметров</a></span></li><li><span><a href=\"#Шаг-4.-Проверка-качества-модели-на-тестовой-выборке\" data-toc-modified-id=\"Шаг-4.-Проверка-качества-модели-на-тестовой-выборке-4\"><span class=\"toc-item-num\">4&nbsp;&nbsp;</span>Шаг 4. Проверка качества модели на тестовой выборке</a></span></li><li><span><a href=\"#Шаг-5.-Проверка-моделей-на-вменяемость-(sanity-check)\" data-toc-modified-id=\"Шаг-5.-Проверка-моделей-на-вменяемость-(sanity-check)-5\"><span class=\"toc-item-num\">5&nbsp;&nbsp;</span>Шаг 5. Проверка моделей на вменяемость (sanity check)</a></span></li><li><span><a href=\"#Шаг-6.-Общий-вывод\" data-toc-modified-id=\"Шаг-6.-Общий-вывод-6\"><span class=\"toc-item-num\">6&nbsp;&nbsp;</span>Шаг 6. Общий вывод</a></span></li></ul></div>"
   ]
  },
  {
   "cell_type": "markdown",
   "id": "62372ae8",
   "metadata": {},
   "source": [
    "# Проект 5 спринт"
   ]
  },
  {
   "cell_type": "markdown",
   "id": "462cd64c",
   "metadata": {},
   "source": [
    "**Цель проекта**\n",
    "\n",
    "Проанализировать данные по поведению клиентов, пользующихся тарифными планами \"Смарт\" и \"Ультра\", и на основании анализа построить модель для задачи классификации с долей правильных ответов >= 0,75, которая сможет рекомендовать подходящий под поведение клиента тариф. \n"
   ]
  },
  {
   "cell_type": "markdown",
   "id": "b8c0eb88",
   "metadata": {},
   "source": [
    "**Данные для анализа**\n",
    "\n",
    "На анализ поступила предобработанная выборка из проекта курса «Статистический анализ данных» с данными о поведении клиентов, которые уже перешли на тарифы \"Смарт\" или \"Ультра\"."
   ]
  },
  {
   "cell_type": "markdown",
   "id": "ff776a2c",
   "metadata": {},
   "source": [
    "**Шаги (план) проекта**\n",
    "\n",
    "1.  Шаг 1. Обзор и подготовка данных\n",
    "2.  Шаг 2. Подготовка к обучению: обучающая, валидационная и тестовая выборки, признаки\n",
    "3.  Шаг 3. Исследование качества разных моделей с различными вариантами гиперпараметров\n",
    "4.  Шаг 4. Проверка качества модели на тестовой выборке\n",
    "5.  Шаг 5. Проверка моделей на вменяемость (sanity check)\n",
    "6.  Шаг 6. Общий вывод"
   ]
  },
  {
   "cell_type": "markdown",
   "id": "1ecdbb0b",
   "metadata": {},
   "source": [
    "## Шаг 1. Обзор и подготовка данных"
   ]
  },
  {
   "cell_type": "markdown",
   "id": "c5826cb8",
   "metadata": {},
   "source": [
    "Импортируем необходимые библиотеки для работы с данными в текущем проекте."
   ]
  },
  {
   "cell_type": "code",
   "execution_count": 1,
   "id": "f8c28a0e",
   "metadata": {},
   "outputs": [],
   "source": [
    "import pandas as pd # импорт библиотеки pandas\n",
    "import numpy as np # импорт библиотеки numpy\n",
    "from sklearn.model_selection import train_test_split # импорт функции train_test_split из библиотеки sklearn для деления выборки\n",
    "from sklearn.metrics import accuracy_score # импорт функции для расчета точности прогнозирования\n",
    "from sklearn.tree import DecisionTreeClassifier # импорт алгоритма \"дерево решений\" из библиотеки sklearn\n",
    "from sklearn.ensemble import RandomForestClassifier # импорт алгоритма \"случайный лес\" из библиотеки sklearn\n",
    "from sklearn.linear_model import LogisticRegression # импорт алгоритма \"логистическая регрессия\" из библиотеки sklearn"
   ]
  },
  {
   "cell_type": "markdown",
   "id": "f8cd89cb",
   "metadata": {},
   "source": [
    "Откроем таблицу с данными, выведем первые 10 строк."
   ]
  },
  {
   "cell_type": "code",
   "execution_count": 2,
   "id": "75ef32fb",
   "metadata": {},
   "outputs": [
    {
     "data": {
      "text/html": [
       "<div>\n",
       "<style scoped>\n",
       "    .dataframe tbody tr th:only-of-type {\n",
       "        vertical-align: middle;\n",
       "    }\n",
       "\n",
       "    .dataframe tbody tr th {\n",
       "        vertical-align: top;\n",
       "    }\n",
       "\n",
       "    .dataframe thead th {\n",
       "        text-align: right;\n",
       "    }\n",
       "</style>\n",
       "<table border=\"1\" class=\"dataframe\">\n",
       "  <thead>\n",
       "    <tr style=\"text-align: right;\">\n",
       "      <th></th>\n",
       "      <th>calls</th>\n",
       "      <th>minutes</th>\n",
       "      <th>messages</th>\n",
       "      <th>mb_used</th>\n",
       "      <th>is_ultra</th>\n",
       "    </tr>\n",
       "  </thead>\n",
       "  <tbody>\n",
       "    <tr>\n",
       "      <th>0</th>\n",
       "      <td>40.0</td>\n",
       "      <td>311.90</td>\n",
       "      <td>83.0</td>\n",
       "      <td>19915.42</td>\n",
       "      <td>0</td>\n",
       "    </tr>\n",
       "    <tr>\n",
       "      <th>1</th>\n",
       "      <td>85.0</td>\n",
       "      <td>516.75</td>\n",
       "      <td>56.0</td>\n",
       "      <td>22696.96</td>\n",
       "      <td>0</td>\n",
       "    </tr>\n",
       "    <tr>\n",
       "      <th>2</th>\n",
       "      <td>77.0</td>\n",
       "      <td>467.66</td>\n",
       "      <td>86.0</td>\n",
       "      <td>21060.45</td>\n",
       "      <td>0</td>\n",
       "    </tr>\n",
       "    <tr>\n",
       "      <th>3</th>\n",
       "      <td>106.0</td>\n",
       "      <td>745.53</td>\n",
       "      <td>81.0</td>\n",
       "      <td>8437.39</td>\n",
       "      <td>1</td>\n",
       "    </tr>\n",
       "    <tr>\n",
       "      <th>4</th>\n",
       "      <td>66.0</td>\n",
       "      <td>418.74</td>\n",
       "      <td>1.0</td>\n",
       "      <td>14502.75</td>\n",
       "      <td>0</td>\n",
       "    </tr>\n",
       "    <tr>\n",
       "      <th>5</th>\n",
       "      <td>58.0</td>\n",
       "      <td>344.56</td>\n",
       "      <td>21.0</td>\n",
       "      <td>15823.37</td>\n",
       "      <td>0</td>\n",
       "    </tr>\n",
       "    <tr>\n",
       "      <th>6</th>\n",
       "      <td>57.0</td>\n",
       "      <td>431.64</td>\n",
       "      <td>20.0</td>\n",
       "      <td>3738.90</td>\n",
       "      <td>1</td>\n",
       "    </tr>\n",
       "    <tr>\n",
       "      <th>7</th>\n",
       "      <td>15.0</td>\n",
       "      <td>132.40</td>\n",
       "      <td>6.0</td>\n",
       "      <td>21911.60</td>\n",
       "      <td>0</td>\n",
       "    </tr>\n",
       "    <tr>\n",
       "      <th>8</th>\n",
       "      <td>7.0</td>\n",
       "      <td>43.39</td>\n",
       "      <td>3.0</td>\n",
       "      <td>2538.67</td>\n",
       "      <td>1</td>\n",
       "    </tr>\n",
       "    <tr>\n",
       "      <th>9</th>\n",
       "      <td>90.0</td>\n",
       "      <td>665.41</td>\n",
       "      <td>38.0</td>\n",
       "      <td>17358.61</td>\n",
       "      <td>0</td>\n",
       "    </tr>\n",
       "  </tbody>\n",
       "</table>\n",
       "</div>"
      ],
      "text/plain": [
       "   calls  minutes  messages   mb_used  is_ultra\n",
       "0   40.0   311.90      83.0  19915.42         0\n",
       "1   85.0   516.75      56.0  22696.96         0\n",
       "2   77.0   467.66      86.0  21060.45         0\n",
       "3  106.0   745.53      81.0   8437.39         1\n",
       "4   66.0   418.74       1.0  14502.75         0\n",
       "5   58.0   344.56      21.0  15823.37         0\n",
       "6   57.0   431.64      20.0   3738.90         1\n",
       "7   15.0   132.40       6.0  21911.60         0\n",
       "8    7.0    43.39       3.0   2538.67         1\n",
       "9   90.0   665.41      38.0  17358.61         0"
      ]
     },
     "execution_count": 2,
     "metadata": {},
     "output_type": "execute_result"
    }
   ],
   "source": [
    "# чтение файла с данными и сохранение его в переменную df \n",
    "df = pd.read_csv('/datasets/users_behavior.csv')\n",
    "# вывод первых 10 строк\n",
    "df.head(10)"
   ]
  },
  {
   "cell_type": "markdown",
   "id": "4af75f5b",
   "metadata": {},
   "source": [
    "Изучим общую информацию о данных."
   ]
  },
  {
   "cell_type": "code",
   "execution_count": 3,
   "id": "6be009b5",
   "metadata": {},
   "outputs": [
    {
     "name": "stdout",
     "output_type": "stream",
     "text": [
      "<class 'pandas.core.frame.DataFrame'>\n",
      "RangeIndex: 3214 entries, 0 to 3213\n",
      "Data columns (total 5 columns):\n",
      " #   Column    Non-Null Count  Dtype  \n",
      "---  ------    --------------  -----  \n",
      " 0   calls     3214 non-null   float64\n",
      " 1   minutes   3214 non-null   float64\n",
      " 2   messages  3214 non-null   float64\n",
      " 3   mb_used   3214 non-null   float64\n",
      " 4   is_ultra  3214 non-null   int64  \n",
      "dtypes: float64(4), int64(1)\n",
      "memory usage: 125.7 KB\n"
     ]
    }
   ],
   "source": [
    "df.info() # получение общей информации о структуре датафрейма"
   ]
  },
  {
   "cell_type": "markdown",
   "id": "903e337e",
   "metadata": {},
   "source": [
    "Таблица содержит 5 столбцов, 3214 строк. Наименования столбцов оформлены \"змеиным стилем\" в нижнем регистре, переименование не требуется.\n",
    "\n",
    "В столбцах содержатся данные двух типов:\n",
    "\n",
    "* 4 столбца содержат числа с плавающей запятой float64\n",
    "\n",
    "* 1 столбец содержит целые числа int64\n",
    "\n",
    "Пустых значений в столбцах нет, следовательно, обработка пропусков не требуется.\n",
    "\n",
    "Изменим тип данных в столбце calls на int и все типы 64 на типы 32 для экономии памяти и проверим данные на полные дубликаты."
   ]
  },
  {
   "cell_type": "markdown",
   "id": "14220549",
   "metadata": {},
   "source": [
    "**Изменение типа данных в столбцах**"
   ]
  },
  {
   "cell_type": "code",
   "execution_count": 4,
   "id": "9056adb7",
   "metadata": {},
   "outputs": [],
   "source": [
    "# замена типа данных на целое число\n",
    "df['calls'] = df['calls'].astype('int')"
   ]
  },
  {
   "cell_type": "code",
   "execution_count": 5,
   "id": "66310ac4",
   "metadata": {},
   "outputs": [],
   "source": [
    "# замена типа данных float64 на float32\n",
    "df[df.select_dtypes(np.float64).columns] = df.select_dtypes(np.float64).astype(np.float32)"
   ]
  },
  {
   "cell_type": "code",
   "execution_count": 6,
   "id": "2123e90b",
   "metadata": {},
   "outputs": [],
   "source": [
    "# замена типа данных int64 на int32\n",
    "df[df.select_dtypes(np.int64).columns] = df.select_dtypes(np.int64).astype(np.int32)"
   ]
  },
  {
   "cell_type": "markdown",
   "id": "a0bede18",
   "metadata": {},
   "source": [
    "Проверим корректность изменения типов данных."
   ]
  },
  {
   "cell_type": "code",
   "execution_count": 7,
   "id": "7095d3e5",
   "metadata": {
    "scrolled": false
   },
   "outputs": [
    {
     "name": "stdout",
     "output_type": "stream",
     "text": [
      "<class 'pandas.core.frame.DataFrame'>\n",
      "RangeIndex: 3214 entries, 0 to 3213\n",
      "Data columns (total 5 columns):\n",
      " #   Column    Non-Null Count  Dtype  \n",
      "---  ------    --------------  -----  \n",
      " 0   calls     3214 non-null   int32  \n",
      " 1   minutes   3214 non-null   float32\n",
      " 2   messages  3214 non-null   float32\n",
      " 3   mb_used   3214 non-null   float32\n",
      " 4   is_ultra  3214 non-null   int32  \n",
      "dtypes: float32(3), int32(2)\n",
      "memory usage: 62.9 KB\n"
     ]
    }
   ],
   "source": [
    "df.info() # получение общей информации о структуре датафрейма"
   ]
  },
  {
   "cell_type": "markdown",
   "id": "1b75965b",
   "metadata": {},
   "source": [
    "Типы данных изменены корректно."
   ]
  },
  {
   "cell_type": "markdown",
   "id": "f3d023f6",
   "metadata": {},
   "source": [
    "**Проверка данных на наличие явных дубликатов**"
   ]
  },
  {
   "cell_type": "code",
   "execution_count": 8,
   "id": "40695ad3",
   "metadata": {},
   "outputs": [
    {
     "data": {
      "text/plain": [
       "0"
      ]
     },
     "execution_count": 8,
     "metadata": {},
     "output_type": "execute_result"
    }
   ],
   "source": [
    "# подстчет строк - явных дубликатов\n",
    "df.duplicated().sum()"
   ]
  },
  {
   "cell_type": "markdown",
   "id": "0ce858bb",
   "metadata": {},
   "source": [
    "Явных дубликатов в данных нет."
   ]
  },
  {
   "cell_type": "markdown",
   "id": "a689d6ff",
   "metadata": {},
   "source": [
    "<div style=\"border:solid blue 2px; padding: 20px\"> \n",
    "\n",
    "**Вывод**  \n",
    "\n",
    "Таблица открыта, данные адекватны.\n",
    "\n",
    "Проведена проверка для определения необходимости дополнительной предобработки данных:\n",
    "    \n",
    "1. Проведена замена типов данных в колонках calls, minutes, messages, mb_used, is_ultra. \n",
    "\n",
    "2. Переименование колонок не требуется.\n",
    "    \n",
    "3. Пропусков и дубликатов в данных нет. \n",
    "\n",
    "</div>"
   ]
  },
  {
   "cell_type": "markdown",
   "id": "217f2629",
   "metadata": {},
   "source": [
    "## Шаг 2. Подготовка к обучению: обучающая, валидационная и тестовая выборки, признаки"
   ]
  },
  {
   "cell_type": "markdown",
   "id": "6bdddd8a",
   "metadata": {},
   "source": [
    "Поскольку в данном прокте у нас нет дополнительной тестовой выборки, разделим исходные данные на обучающую, валидационную и тестовую выборки в соотношении 3:1:1."
   ]
  },
  {
   "cell_type": "code",
   "execution_count": 9,
   "id": "45852481",
   "metadata": {
    "scrolled": true
   },
   "outputs": [],
   "source": [
    "# выделение 40% данных датасета для формирования валидационной и тестовой выборок\n",
    "df_train, df_tv = train_test_split(df, test_size=0.40, random_state=12345)"
   ]
  },
  {
   "cell_type": "code",
   "execution_count": 10,
   "id": "e62a8bf4",
   "metadata": {},
   "outputs": [],
   "source": [
    "# разделение выделенных 40% данных пополам для формирования валидационной и тестовой выборок (по 20% от всего датасета)\n",
    "df_valid, df_test = train_test_split(df_tv, test_size=0.50, random_state=12345)"
   ]
  },
  {
   "cell_type": "markdown",
   "id": "45e2f27e",
   "metadata": {},
   "source": [
    "Оценим размер получившихся выборок."
   ]
  },
  {
   "cell_type": "code",
   "execution_count": 11,
   "id": "d1e27a5a",
   "metadata": {
    "scrolled": true
   },
   "outputs": [
    {
     "data": {
      "text/plain": [
       "(1928, 5)"
      ]
     },
     "execution_count": 11,
     "metadata": {},
     "output_type": "execute_result"
    }
   ],
   "source": [
    "# вывод размера выборки\n",
    "df_train.shape"
   ]
  },
  {
   "cell_type": "code",
   "execution_count": 12,
   "id": "28ea1a6c",
   "metadata": {},
   "outputs": [
    {
     "data": {
      "text/plain": [
       "(643, 5)"
      ]
     },
     "execution_count": 12,
     "metadata": {},
     "output_type": "execute_result"
    }
   ],
   "source": [
    "# вывод размера выборки\n",
    "df_valid.shape"
   ]
  },
  {
   "cell_type": "code",
   "execution_count": 13,
   "id": "bb3e42d5",
   "metadata": {},
   "outputs": [
    {
     "data": {
      "text/plain": [
       "(643, 5)"
      ]
     },
     "execution_count": 13,
     "metadata": {},
     "output_type": "execute_result"
    }
   ],
   "source": [
    "# вывод размера выборки\n",
    "df_test.shape"
   ]
  },
  {
   "cell_type": "markdown",
   "id": "72c07aa8",
   "metadata": {},
   "source": [
    "Создадим переменные с признаками и целевым признаком для всех трех типов выборок."
   ]
  },
  {
   "cell_type": "markdown",
   "id": "2d0fb13c",
   "metadata": {},
   "source": [
    "**Обучающая выборка**"
   ]
  },
  {
   "cell_type": "code",
   "execution_count": 14,
   "id": "2493b0f6",
   "metadata": {},
   "outputs": [],
   "source": [
    "# создание переменных с признаками (features) и целевым признаком (target)\n",
    "features_train = df_train.drop(['is_ultra'], axis=1)\n",
    "target_train = df_train['is_ultra']"
   ]
  },
  {
   "cell_type": "markdown",
   "id": "85d0886d",
   "metadata": {},
   "source": [
    "**Валидационная выборка**"
   ]
  },
  {
   "cell_type": "code",
   "execution_count": 15,
   "id": "8a0bb9ac",
   "metadata": {},
   "outputs": [],
   "source": [
    "# создание переменных с признаками (features) и целевым признаком (target)\n",
    "features_valid = df_valid.drop(['is_ultra'], axis=1)\n",
    "target_valid = df_valid['is_ultra']"
   ]
  },
  {
   "cell_type": "markdown",
   "id": "ec5ab47a",
   "metadata": {},
   "source": [
    "**Тестовая выборка**"
   ]
  },
  {
   "cell_type": "code",
   "execution_count": 16,
   "id": "871fcf9b",
   "metadata": {},
   "outputs": [],
   "source": [
    "# создание переменных с признаками (features) и целевым признаком (target)\n",
    "features_test = df_test.drop(['is_ultra'], axis=1)\n",
    "target_test = df_test['is_ultra']"
   ]
  },
  {
   "cell_type": "markdown",
   "id": "0ef11a93",
   "metadata": {},
   "source": [
    "<div style=\"border:solid blue 2px; padding: 20px\"> \n",
    "\n",
    "**Вывод**  \n",
    "\n",
    "Данные успешно разделены на выборки: обучающую (60% от всего датасета), валидационную (20%) и тестовую (20%).  \n",
    "    \n",
    "Для всех трех типов выборок заданы переменные с признаками и целевым признаком.    \n",
    " \n",
    " \n",
    "</div>"
   ]
  },
  {
   "cell_type": "markdown",
   "id": "cd5158d9",
   "metadata": {},
   "source": [
    "## Шаг 3. Исследование качества разных моделей с различными вариантами гиперпараметров"
   ]
  },
  {
   "cell_type": "markdown",
   "id": "b9203e43",
   "metadata": {},
   "source": [
    "Поскольку наш целевой признак - категориальный, и имеет только 2 варианта (0 и 1), нам необходимо решить задачу бинарной (двоичной) классификации. Используем наиболее популярные модели, подходящие для решения такого рода задач."
   ]
  },
  {
   "cell_type": "markdown",
   "id": "d3ccd5c9",
   "metadata": {},
   "source": [
    "**Модель Дерево решений**"
   ]
  },
  {
   "cell_type": "markdown",
   "id": "01ae3f77",
   "metadata": {},
   "source": [
    "Создадим цикл, который создаст и обучит модель на данных обучающей выборки, перебрав различные варианты глубины дерева решений от 1 до 10, и на основе максимального значения accuracy на данных валидационной выборки определит модель с оптимальной глубиной дерева."
   ]
  },
  {
   "cell_type": "code",
   "execution_count": 17,
   "id": "e789fcb0",
   "metadata": {},
   "outputs": [
    {
     "name": "stdout",
     "output_type": "stream",
     "text": [
      "Accuracy наилучшей модели на валидационной выборке: 0.7853810264385692 Глубина дерева: 3\n"
     ]
    }
   ],
   "source": [
    "# создание цикла для определения лучшей модели\n",
    "best_model = None\n",
    "best_result = 0\n",
    "best_depth = 0\n",
    "for depth in range(1, 11):\n",
    "    model_tree = DecisionTreeClassifier(random_state=12345, max_depth=depth)\n",
    "    model_tree.fit(features_train, target_train)\n",
    "    predictions_tree_valid = model_tree.predict(features_valid)\n",
    "    result_tree_valid = accuracy_score(target_valid, predictions_tree_valid)\n",
    "    if result_tree_valid > best_result:\n",
    "        best_model = model_tree\n",
    "        best_result = result_tree_valid\n",
    "        best_depth = depth\n",
    "        \n",
    "print(\"Accuracy наилучшей модели на валидационной выборке:\", best_result, \"Глубина дерева:\", best_depth)"
   ]
  },
  {
   "cell_type": "markdown",
   "id": "effa1292",
   "metadata": {},
   "source": [
    "**Модель Случайный лес**"
   ]
  },
  {
   "cell_type": "markdown",
   "id": "585d68e0",
   "metadata": {},
   "source": [
    "Создадим цикл, который создаст и обучит модель на данных обучающей выборки, перебрав различные варианты количества оценщиков от 1 до 20, и на основе максимального значения accuracy на данных валидационной выборки определит модель с оптимальным количеством оценщиков."
   ]
  },
  {
   "cell_type": "code",
   "execution_count": 18,
   "id": "d48e0822",
   "metadata": {},
   "outputs": [
    {
     "name": "stdout",
     "output_type": "stream",
     "text": [
      "Accuracy наилучшей модели на валидационной выборке: 0.7931570762052877 Количество оценщиков: 18\n"
     ]
    }
   ],
   "source": [
    "# создание цикла для определения лучшей модели\n",
    "best_model = None\n",
    "best_result = 0\n",
    "best_est = 0\n",
    "for est in range(1, 21):\n",
    "    model_forest = RandomForestClassifier(random_state=12345, n_estimators=est)\n",
    "    model_forest.fit(features_train, target_train)\n",
    "    predictions_forest_valid = model_forest.predict(features_valid)\n",
    "    result_forest_valid = accuracy_score(target_valid, predictions_forest_valid)\n",
    "    if result_forest_valid > best_result:\n",
    "        best_model = model_forest\n",
    "        best_result = result_forest_valid\n",
    "        best_est = est\n",
    "\n",
    "print(\"Accuracy наилучшей модели на валидационной выборке:\", best_result, \"Количество оценщиков:\", best_est)"
   ]
  },
  {
   "cell_type": "markdown",
   "id": "8209c667",
   "metadata": {},
   "source": [
    "**Модель логистической регрессии**"
   ]
  },
  {
   "cell_type": "markdown",
   "id": "7ec023cf",
   "metadata": {},
   "source": [
    "Создадим модель логистической регрессии и оценим точность ее предсказания."
   ]
  },
  {
   "cell_type": "code",
   "execution_count": 19,
   "id": "44f82f22",
   "metadata": {},
   "outputs": [],
   "source": [
    "# создание модели\n",
    "model_regression = LogisticRegression(random_state=12345, solver='lbfgs', max_iter=1000)"
   ]
  },
  {
   "cell_type": "code",
   "execution_count": 20,
   "id": "15353acd",
   "metadata": {
    "scrolled": true
   },
   "outputs": [
    {
     "name": "stdout",
     "output_type": "stream",
     "text": [
      "Accuracy модели на валидационной выборке: 0.7107309486780715\n"
     ]
    }
   ],
   "source": [
    "# обучение модели на обучающей выборке и оценка точности предсказания на валидационной выборке\n",
    "model_regression.fit(features_train, target_train)\n",
    "predictions_regression_valid = model_regression.predict(features_valid)\n",
    "result_regression_valid = accuracy_score(target_valid, predictions_regression_valid)\n",
    "print(\"Accuracy модели на валидационной выборке:\", result_regression_valid)"
   ]
  },
  {
   "cell_type": "markdown",
   "id": "f038a6be",
   "metadata": {},
   "source": [
    "<div style=\"border:solid blue 2px; padding: 20px\"> \n",
    "\n",
    "**Вывод**  \n",
    "\n",
    "Для выбора оптимальной модели обучения были протестированы три модели:\n",
    "    \n",
    "* решающее дерево, \n",
    "* случайный лес,\n",
    "* логистическая регрессия.     \n",
    " \n",
    "Все три модели были обучены на обучающей выборке, после чего была оценена точность их предсказаний на валидационной выборке.\n",
    "\n",
    "Модели показали следующие результаты:\n",
    "    \n",
    "* решающее дерево - Accuracy наилучшей модели на валидационной выборке: 0.7853810264385692 Глубина дерева: 3, \n",
    "* случайный лес - Accuracy наилучшей модели на валидационной выборке: 0.7931570762052877 Количество оценщиков: 18\n",
    "* логистическая регрессия -  Accuracy модели на валидационной выборке: 0.7107309486780715 \n",
    "    \n",
    "Наилучший результат у модели \"Случайный лес\" при 18 оценщиках (Accuracy = 0.7931570762052877).    \n",
    " \n",
    "</div>"
   ]
  },
  {
   "cell_type": "markdown",
   "id": "4e1fba7e",
   "metadata": {},
   "source": [
    "**Полнота, точность, F1-мера**"
   ]
  },
  {
   "cell_type": "markdown",
   "id": "9c40642a",
   "metadata": {},
   "source": [
    "Оценим метрики качества модели с лучшим значением accuracy \"Случайный лес\" при 18 оценщиках."
   ]
  },
  {
   "cell_type": "code",
   "execution_count": 21,
   "id": "5dbf8c1c",
   "metadata": {},
   "outputs": [
    {
     "name": "stdout",
     "output_type": "stream",
     "text": [
      "Полнота: 0.9629005059021922\n",
      "Точность: 0.9965095986038395\n",
      "F1-мера: 0.9794168096054889\n"
     ]
    }
   ],
   "source": [
    "# импорт необходимых функций\n",
    "from sklearn.metrics import recall_score\n",
    "from sklearn.metrics import precision_score\n",
    "from sklearn.metrics import f1_score\n",
    "\n",
    "# прогнозирование модели и оценка метрик качества сделанного ею прогноза\n",
    "model = RandomForestClassifier(random_state=12345, n_estimators=18)\n",
    "model.fit(features_train, target_train)\n",
    "predicted_train = model.predict(features_train)\n",
    "print('Полнота:', recall_score(target_train, predicted_train))\n",
    "print('Точность:', precision_score(target_train, predicted_train))\n",
    "print('F1-мера:',f1_score(target_train, predicted_train))"
   ]
  },
  {
   "cell_type": "markdown",
   "id": "78a075f0",
   "metadata": {},
   "source": [
    "Все метрики достаточно высокие, стремящиеся к 1, что подтверждает корректность выбора модели."
   ]
  },
  {
   "cell_type": "markdown",
   "id": "4986f1c9",
   "metadata": {},
   "source": [
    "## Шаг 4. Проверка качества модели на тестовой выборке"
   ]
  },
  {
   "cell_type": "markdown",
   "id": "acbde833",
   "metadata": {},
   "source": [
    "Проверим точность предсказания моделей на данных тестовой выборки.\n",
    "\n",
    "Задача - выбрать наилучшую модель с долей правильных ответов >= 0.75."
   ]
  },
  {
   "cell_type": "markdown",
   "id": "f5392876",
   "metadata": {},
   "source": [
    "**Модель Дерево решений**"
   ]
  },
  {
   "cell_type": "markdown",
   "id": "3c4f6b33",
   "metadata": {},
   "source": [
    "Оценим точность предсказаний на тестовой выборке для модели \"Решающее дерево\" с глубиной дерева 3."
   ]
  },
  {
   "cell_type": "code",
   "execution_count": 22,
   "id": "2942291b",
   "metadata": {
    "scrolled": true
   },
   "outputs": [
    {
     "name": "stdout",
     "output_type": "stream",
     "text": [
      "Accuracy модели на тестовой выборке: 0.7791601866251944\n"
     ]
    }
   ],
   "source": [
    "# оценка точности предсказаний\n",
    "model_tree = DecisionTreeClassifier(random_state=12345, max_depth=3)\n",
    "model_tree.fit(features_train, target_train)\n",
    "predictions_tree_test = model_tree.predict(features_test)\n",
    "result_tree_test = accuracy_score(target_test, predictions_tree_test)\n",
    "print(\"Accuracy модели на тестовой выборке:\", result_tree_test)"
   ]
  },
  {
   "cell_type": "markdown",
   "id": "8242add1",
   "metadata": {},
   "source": [
    "Результат точности предсказаний выше 0,75, но ниже, чем на валидационной выборке. Имеет место некоторое переобучение модели."
   ]
  },
  {
   "cell_type": "markdown",
   "id": "c5977a4d",
   "metadata": {},
   "source": [
    "**Модель Случайный лес**"
   ]
  },
  {
   "cell_type": "markdown",
   "id": "f409eda6",
   "metadata": {},
   "source": [
    "Оценим точность предсказаний на тестовой выборке для модели \"Случайный лес\" с 18 оценщиками."
   ]
  },
  {
   "cell_type": "code",
   "execution_count": 23,
   "id": "91849194",
   "metadata": {},
   "outputs": [
    {
     "name": "stdout",
     "output_type": "stream",
     "text": [
      "Accuracy модели на тестовой выборке: 0.7853810264385692\n"
     ]
    }
   ],
   "source": [
    "# оценка точности предсказаний\n",
    "model_forest = RandomForestClassifier(random_state=12345, n_estimators=18)\n",
    "model_forest.fit(features_train, target_train)\n",
    "predictions_forest_test = model_forest.predict(features_test)\n",
    "result_forest_test = accuracy_score(target_test, predictions_forest_test)\n",
    "print(\"Accuracy модели на тестовой выборке:\", result_forest_test)  "
   ]
  },
  {
   "cell_type": "markdown",
   "id": "14a58b94",
   "metadata": {},
   "source": [
    "Результат точности предсказаний выше 0,75, но ниже, чем на валидационной выборке. Имеет место некоторое переобучение модели."
   ]
  },
  {
   "cell_type": "markdown",
   "id": "438ce2e6",
   "metadata": {},
   "source": [
    "**Модель логистической регрессии**"
   ]
  },
  {
   "cell_type": "markdown",
   "id": "080a3f21",
   "metadata": {},
   "source": [
    "Оценим точность предсказаний на тестовой выборке для модели логистической регрессии."
   ]
  },
  {
   "cell_type": "code",
   "execution_count": 24,
   "id": "8fdb8d46",
   "metadata": {},
   "outputs": [
    {
     "name": "stdout",
     "output_type": "stream",
     "text": [
      "Accuracy модели на тестовой выборке: 0.6842923794712286\n"
     ]
    }
   ],
   "source": [
    "# оценка точности предсказаний\n",
    "model_regression = LogisticRegression(random_state=12345, solver='lbfgs', max_iter=1000)\n",
    "model_regression.fit(features_train, target_train)\n",
    "predictions_regression_test = model_regression.predict(features_test)\n",
    "result_regression_test = accuracy_score(target_test, predictions_regression_test)\n",
    "print(\"Accuracy модели на тестовой выборке:\", result_regression_test)"
   ]
  },
  {
   "cell_type": "markdown",
   "id": "607d36f2",
   "metadata": {},
   "source": [
    "Результат неудовлетворительный, значительно ниже, чем на валидационной выборке, и ниже необходимого значения 0,75. Очевидно, что модель переобучена."
   ]
  },
  {
   "cell_type": "markdown",
   "id": "9bec96a6",
   "metadata": {},
   "source": [
    "<div style=\"border:solid blue 2px; padding: 20px\"> \n",
    "\n",
    "**Вывод**  \n",
    "\n",
    "Проверка точности предсказаний моделей на тестовой выборке показала, что точность предсказаний всех моделей на тестовой выборке снизилась по сравнению с предсказаниями на валидационной выборке, что с большой долей вероятности говорит о переобучении моделей.\n",
    "\n",
    "\n",
    "И на валидационной, и на тестовой выборке наилучшие результаты показала модель Случайный лес с 18 оценщиками (на валидационной выборке accuracy = 0.793, на тестовой выборке accuracy = 0.785).\n",
    "    \n",
    "Сводные результаты эксперимента:    \n",
    "\n",
    "|Модель                     |Точность на валидационной выборке |Точность на тестовой выборке |\n",
    "|:-------------------------:|---------------------------------:|----------------------------:|\n",
    "|Решающее дерево, глубина 3 |0.7853810264385692                |0.7791601866251944           |\n",
    "|Случайный лес, оценщиков 18|0.7931570762052877                |0.7853810264385692           | \n",
    "|Логистическая регрессия    |0.7107309486780715                |0.6842923794712286           |\n",
    " \n",
    "</div>"
   ]
  },
  {
   "cell_type": "markdown",
   "id": "417be418",
   "metadata": {},
   "source": [
    "## Шаг 5. Проверка моделей на вменяемость (sanity check)"
   ]
  },
  {
   "cell_type": "markdown",
   "id": "706b1f5f",
   "metadata": {},
   "source": [
    "Оценим эффективность каждого использованного в исследовании алгоритма с помощью кросс-валидации, для этого импортируем дополнительную функцию cross_val_score."
   ]
  },
  {
   "cell_type": "code",
   "execution_count": 25,
   "id": "9b93cf4c",
   "metadata": {},
   "outputs": [],
   "source": [
    "# импорт функции cross_val_score\n",
    "from sklearn.model_selection import cross_val_score"
   ]
  },
  {
   "cell_type": "markdown",
   "id": "2b9a473c",
   "metadata": {},
   "source": [
    "Проведем перекрестную проверку для модели **Дерево решений**."
   ]
  },
  {
   "cell_type": "code",
   "execution_count": 26,
   "id": "04b8cd82",
   "metadata": {},
   "outputs": [
    {
     "data": {
      "text/plain": [
       "array([0.67911255, 0.71536797, 0.67911255, 0.79090909, 0.65454545,\n",
       "       0.68636364, 0.65909091, 0.60681818, 0.69090909, 0.66590909])"
      ]
     },
     "execution_count": 26,
     "metadata": {},
     "output_type": "execute_result"
    }
   ],
   "source": [
    "# проведение перекрестной проверки\n",
    "scores = cross_val_score(model_tree, features_test, target_test, cv=10, n_jobs=-1, scoring=\"balanced_accuracy\")\n",
    "scores"
   ]
  },
  {
   "cell_type": "code",
   "execution_count": 27,
   "id": "fecfa962",
   "metadata": {},
   "outputs": [
    {
     "name": "stdout",
     "output_type": "stream",
     "text": [
      "Среднее значение accuracy 0.68 со стандартным отклонением 0.05\n"
     ]
    }
   ],
   "source": [
    "# вывод результата\n",
    "print(\"Среднее значение accuracy %0.2f со стандартным отклонением %0.2f\" % (scores.mean(), scores.std()))"
   ]
  },
  {
   "cell_type": "markdown",
   "id": "78a1f6ab",
   "metadata": {},
   "source": [
    "Результаты перекрестной проверки неудовлетворительные, в продакшн выводить нельзя."
   ]
  },
  {
   "cell_type": "markdown",
   "id": "bd33f59a",
   "metadata": {},
   "source": [
    "Проведем перекрестную проверку для модели **Случайный лес**."
   ]
  },
  {
   "cell_type": "code",
   "execution_count": 28,
   "id": "f66e2b27",
   "metadata": {
    "scrolled": true
   },
   "outputs": [
    {
     "data": {
      "text/plain": [
       "array([0.72781385, 0.70508658, 0.75162338, 0.81590909, 0.64318182,\n",
       "       0.84318182, 0.68181818, 0.69318182, 0.72954545, 0.78863636])"
      ]
     },
     "execution_count": 28,
     "metadata": {},
     "output_type": "execute_result"
    }
   ],
   "source": [
    "# проведение перекрестной проверки\n",
    "scores = cross_val_score(model_forest, features_test, target_test, cv=10, n_jobs=-1, scoring=\"balanced_accuracy\")\n",
    "scores"
   ]
  },
  {
   "cell_type": "code",
   "execution_count": 29,
   "id": "1c74ccb7",
   "metadata": {},
   "outputs": [
    {
     "name": "stdout",
     "output_type": "stream",
     "text": [
      "Среднее значение accuracy 0.74 со стандартным отклонением 0.06\n"
     ]
    }
   ],
   "source": [
    "# вывод результата\n",
    "print(\"Среднее значение accuracy %0.2f со стандартным отклонением %0.2f\" % (scores.mean(), scores.std()))"
   ]
  },
  {
   "cell_type": "markdown",
   "id": "165da6e8",
   "metadata": {},
   "source": [
    "Результаты перекрестной проверки лучше, чем у модели Дерево решений, однако перед выводом в продакшн требуется доработка."
   ]
  },
  {
   "cell_type": "markdown",
   "id": "67785671",
   "metadata": {},
   "source": [
    "Проведем перекрестную проверку для модели **Логистическая регрессия**."
   ]
  },
  {
   "cell_type": "code",
   "execution_count": 30,
   "id": "100a08d8",
   "metadata": {},
   "outputs": [
    {
     "data": {
      "text/plain": [
       "array([0.57142857, 0.5952381 , 0.52380952, 0.65      , 0.5       ,\n",
       "       0.525     , 0.47727273, 0.55      , 0.62727273, 0.525     ])"
      ]
     },
     "execution_count": 30,
     "metadata": {},
     "output_type": "execute_result"
    }
   ],
   "source": [
    "# проведение перекрестной проверки\n",
    "scores = cross_val_score(model_regression, features_test, target_test, cv=10, n_jobs=-1, scoring=\"balanced_accuracy\")\n",
    "scores"
   ]
  },
  {
   "cell_type": "code",
   "execution_count": 31,
   "id": "46e6496e",
   "metadata": {},
   "outputs": [
    {
     "name": "stdout",
     "output_type": "stream",
     "text": [
      "Среднее значение accuracy 0.55 со стандартным отклонением 0.05\n"
     ]
    }
   ],
   "source": [
    "# вывод результата\n",
    "print(\"Среднее значение accuracy %0.2f со стандартным отклонением %0.2f\" % (scores.mean(), scores.std()))"
   ]
  },
  {
   "cell_type": "markdown",
   "id": "cedeaf6c",
   "metadata": {},
   "source": [
    "Результаты перекрестной проверки неудовлетворительные, в продакшн выводить нельзя."
   ]
  },
  {
   "cell_type": "markdown",
   "id": "08dcc047",
   "metadata": {},
   "source": [
    "<div style=\"border:solid blue 2px; padding: 20px\"> \n",
    "\n",
    "**Вывод**  \n",
    "\n",
    "По итогам проведенной перекрестной проверки наилучшие (но не самые оптимальные) результаты показала модель Случайный лес:\n",
    "    \n",
    "1. Модель Дерево решений: Среднее значение accuracy 0.68 со стандартным отклонением 0.05\n",
    "2. Модель Случайный лес: Среднее значение accuracy 0.74 со стандартным отклонением 0.06\n",
    "3. Модель Логистическая регрессия: Среднее значение accuracy 0.55 со стандартным отклонением 0.05 \n",
    "  \n",
    " \n",
    "</div>"
   ]
  },
  {
   "cell_type": "markdown",
   "id": "291d001b",
   "metadata": {},
   "source": [
    "Для оценки адекватности нашей модели сравним ее метрики качества с **константной моделью**.\n",
    "\n",
    "Создадим константную модель, прогнозирующую любому объекту класс «1» (is Ultra = True). \n",
    "\n",
    "Оценим ее метрики качества на данных обучающей выборки."
   ]
  },
  {
   "cell_type": "code",
   "execution_count": 32,
   "id": "7f92d933",
   "metadata": {},
   "outputs": [
    {
     "name": "stdout",
     "output_type": "stream",
     "text": [
      "Accuracy: 0.30757261410788383\n",
      "Полнота: 1.0\n",
      "Точность: 0.30757261410788383\n",
      "F1-мера: 0.47044823482744946\n"
     ]
    }
   ],
   "source": [
    "# создание константной модели, присваивающей любому объекту класс 1\n",
    "target_pred_constant = pd.Series(1, index=np.arange(len(target_train)))\n",
    "\n",
    "# оценка метрик качества константной модели\n",
    "print('Accuracy:', accuracy_score(target_train, target_pred_constant))\n",
    "print('Полнота:', recall_score(target_train, target_pred_constant))\n",
    "print('Точность:', precision_score(target_train, target_pred_constant))\n",
    "print('F1-мера:',f1_score(target_train, target_pred_constant))"
   ]
  },
  {
   "cell_type": "markdown",
   "id": "f423be5f",
   "metadata": {},
   "source": [
    "Метрики качества константной модели в 3 и более раз хуже, чем у выбранной нами модели Случайный лес с 18 оценщиками, что позволяет сделать вывод об адекватности нашей модели."
   ]
  },
  {
   "cell_type": "markdown",
   "id": "4cd0d000",
   "metadata": {},
   "source": [
    "## Шаг 6. Общий вывод"
   ]
  },
  {
   "cell_type": "markdown",
   "id": "e19f8f65",
   "metadata": {},
   "source": [
    "<div style=\"border:solid blue 2px; padding: 20px\"> \n",
    "\n",
    "**Вывод**  \n",
    "\n",
    "Целью данного проекта было определение оптимальной модели с точностью ответов не менее 75% для рекомендации клиенту подходящего тарифа на основании использования им тарифных опций.\n",
    "    \n",
    "Для решения задач проекта был проведен эксперимент на выборке данных по абонентам тарифов \"Ультра\" и \"Смарт\" и осуществлены следующие работы:\n",
    "\n",
    "1. Шаг 1. Обзор и подготовка данных: \n",
    "    \n",
    "был открыт и изучен файл с выборкой данных, была проведена необходимая предобработка (замена типов данных в колонках calls, minutes, messages, mb_used, is_ultra), а также проверка на наличие пропусков и явных дубликатов.\n",
    "    \n",
    "2. Шаг 2. Подготовка к обучению: обучающая, валидационная и тестовая выборки, признаки:\n",
    "    \n",
    "для подготовки к обучению данные выборки были разделены на 3 части (60% - обучающая выборка, 20% - валидационная выборка, 20% - тестовая выборка для проверки результатов), для каждой выборки также были назначены признаки и целевой признак.\n",
    "    \n",
    "3. Шаг 3. Исследование качества разных моделей с различными вариантами гиперпараметров:\n",
    "    \n",
    "на данном шаге исследования с помощью цикла был проведен эксперимент по подбору оптимальных параметров модели для алгоритмов \"Дерево решений\", \"Случайный лес\", а также оценены результаты применения алгоритма \"Логистическая регрессия\";\n",
    "наилучшие результаты показали модели \"Дерево решений\" с глубиной 3 (accuracy 0.78) и \"Случайный лес\" с 18 оценщиками (accuracy 0.79); результаты \"Логистической регрессии\" оказались наихудшими - accuracy 0.71\n",
    "    \n",
    "4. Шаг 4. Проверка качества модели на тестовой выборке:\n",
    "проверка результатов моделей на тестовой выборке показала, что наилучшие результаты сохраняются у \"Случайного леса\" и \"Дерева решений\": accuracy 0.78 и 0.779 соответственно. Точность предсказаний на тестовой выборке снизилась для всех алгоритмов, наихудший результат показала \"Логистическая регрессия\" - 0.68\n",
    "    \n",
    "*Таким образом, по результатам эксперимента в качестве алгоритма для подбора тарифа может быть рекомендована модель \"Случайный лес\" с 18 оценщиками.*\n",
    "    \n",
    "5. Шаг 5. Проверка моделей на вменяемость (sanity check):\n",
    "    \n",
    "для проверки на вменяемость была проведена кросс-валидация, которая показала снижение результата по точности предсказания по всем моделям, в том числе, по \"Случайному лесу\" до 0.74.\n",
    "    \n",
    "Из данных кросс-валидации следует, что перед запуском модели \"Случайный лес\" с 18 оценщиками в продакшн требуется ее донастройка за счет других гиперпараметров для повышения accuracy.\n",
    " \n",
    " \n",
    "</div>"
   ]
  },
  {
   "cell_type": "code",
   "execution_count": null,
   "id": "a53acbd0",
   "metadata": {},
   "outputs": [],
   "source": []
  }
 ],
 "metadata": {
  "ExecuteTimeLog": [
   {
    "duration": 1144,
    "start_time": "2022-05-05T09:39:32.485Z"
   },
   {
    "duration": 42,
    "start_time": "2022-05-05T09:39:33.632Z"
   },
   {
    "duration": 11,
    "start_time": "2022-05-05T09:39:33.676Z"
   },
   {
    "duration": 8,
    "start_time": "2022-05-05T09:39:33.689Z"
   },
   {
    "duration": 11,
    "start_time": "2022-05-05T09:39:33.700Z"
   },
   {
    "duration": 13,
    "start_time": "2022-05-05T09:39:33.713Z"
   },
   {
    "duration": 13,
    "start_time": "2022-05-05T09:39:33.728Z"
   },
   {
    "duration": 6,
    "start_time": "2022-05-05T09:39:33.742Z"
   },
   {
    "duration": 5,
    "start_time": "2022-05-05T09:39:33.749Z"
   },
   {
    "duration": 7,
    "start_time": "2022-05-05T09:39:33.756Z"
   },
   {
    "duration": 5,
    "start_time": "2022-05-05T09:39:33.765Z"
   },
   {
    "duration": 7,
    "start_time": "2022-05-05T09:39:33.772Z"
   },
   {
    "duration": 9,
    "start_time": "2022-05-05T09:39:33.781Z"
   },
   {
    "duration": 99,
    "start_time": "2022-05-05T09:39:33.794Z"
   },
   {
    "duration": 966,
    "start_time": "2022-05-05T09:39:33.895Z"
   },
   {
    "duration": 3,
    "start_time": "2022-05-05T09:39:34.863Z"
   },
   {
    "duration": 31,
    "start_time": "2022-05-05T09:39:34.867Z"
   },
   {
    "duration": 10,
    "start_time": "2022-05-05T09:39:34.900Z"
   },
   {
    "duration": 101,
    "start_time": "2022-05-05T09:39:34.912Z"
   },
   {
    "duration": 40,
    "start_time": "2022-05-05T09:39:35.015Z"
   },
   {
    "duration": 3,
    "start_time": "2022-05-05T09:39:35.056Z"
   },
   {
    "duration": 74,
    "start_time": "2022-05-05T09:39:35.060Z"
   },
   {
    "duration": 3,
    "start_time": "2022-05-05T09:39:35.136Z"
   },
   {
    "duration": 408,
    "start_time": "2022-05-05T09:39:35.141Z"
   },
   {
    "duration": 3,
    "start_time": "2022-05-05T09:39:35.551Z"
   },
   {
    "duration": 214,
    "start_time": "2022-05-05T09:39:35.555Z"
   },
   {
    "duration": 3,
    "start_time": "2022-05-05T09:39:35.770Z"
   },
   {
    "duration": 51,
    "start_time": "2022-05-08T16:42:18.298Z"
   },
   {
    "duration": 1391,
    "start_time": "2022-05-08T16:42:44.831Z"
   },
   {
    "duration": 44,
    "start_time": "2022-05-08T16:42:46.225Z"
   },
   {
    "duration": 12,
    "start_time": "2022-05-08T16:42:46.271Z"
   },
   {
    "duration": 5,
    "start_time": "2022-05-08T16:42:46.285Z"
   },
   {
    "duration": 8,
    "start_time": "2022-05-08T16:42:46.293Z"
   },
   {
    "duration": 20,
    "start_time": "2022-05-08T16:42:46.303Z"
   },
   {
    "duration": 12,
    "start_time": "2022-05-08T16:42:46.324Z"
   },
   {
    "duration": 7,
    "start_time": "2022-05-08T16:42:46.339Z"
   },
   {
    "duration": 5,
    "start_time": "2022-05-08T16:42:46.348Z"
   },
   {
    "duration": 6,
    "start_time": "2022-05-08T16:42:46.355Z"
   },
   {
    "duration": 4,
    "start_time": "2022-05-08T16:42:48.531Z"
   },
   {
    "duration": 4,
    "start_time": "2022-05-08T16:43:12.066Z"
   },
   {
    "duration": 5,
    "start_time": "2022-05-08T16:43:12.624Z"
   },
   {
    "duration": 4,
    "start_time": "2022-05-08T16:43:13.054Z"
   },
   {
    "duration": 4,
    "start_time": "2022-05-08T18:00:48.605Z"
   },
   {
    "duration": 32,
    "start_time": "2022-05-08T18:00:48.613Z"
   },
   {
    "duration": 12,
    "start_time": "2022-05-08T18:00:48.648Z"
   },
   {
    "duration": 11,
    "start_time": "2022-05-08T18:00:48.662Z"
   },
   {
    "duration": 8,
    "start_time": "2022-05-08T18:00:48.676Z"
   },
   {
    "duration": 23,
    "start_time": "2022-05-08T18:00:48.686Z"
   },
   {
    "duration": 28,
    "start_time": "2022-05-08T18:00:48.711Z"
   },
   {
    "duration": 14,
    "start_time": "2022-05-08T18:00:48.741Z"
   },
   {
    "duration": 16,
    "start_time": "2022-05-08T18:00:48.756Z"
   },
   {
    "duration": 5,
    "start_time": "2022-05-08T18:00:48.833Z"
   },
   {
    "duration": 18,
    "start_time": "2022-05-08T18:00:48.840Z"
   },
   {
    "duration": 29,
    "start_time": "2022-05-08T18:00:48.861Z"
   },
   {
    "duration": 28,
    "start_time": "2022-05-08T18:00:48.891Z"
   },
   {
    "duration": 7,
    "start_time": "2022-05-08T18:00:48.922Z"
   },
   {
    "duration": 25,
    "start_time": "2022-05-08T18:00:48.931Z"
   },
   {
    "duration": 17,
    "start_time": "2022-05-08T18:00:48.957Z"
   },
   {
    "duration": 92,
    "start_time": "2022-05-08T18:00:48.976Z"
   },
   {
    "duration": 919,
    "start_time": "2022-05-08T18:00:49.070Z"
   },
   {
    "duration": 4,
    "start_time": "2022-05-08T18:00:49.991Z"
   },
   {
    "duration": 36,
    "start_time": "2022-05-08T18:00:49.997Z"
   },
   {
    "duration": 80,
    "start_time": "2022-05-08T18:00:56.659Z"
   },
   {
    "duration": 88,
    "start_time": "2022-05-08T18:04:30.301Z"
   },
   {
    "duration": 81,
    "start_time": "2022-05-08T18:05:28.556Z"
   },
   {
    "duration": 6,
    "start_time": "2022-05-08T18:16:48.166Z"
   },
   {
    "duration": 13,
    "start_time": "2022-05-08T18:18:48.791Z"
   },
   {
    "duration": 12,
    "start_time": "2022-05-08T18:21:14.599Z"
   },
   {
    "duration": 82,
    "start_time": "2022-05-08T18:24:36.627Z"
   },
   {
    "duration": 1333,
    "start_time": "2022-05-08T18:33:37.220Z"
   },
   {
    "duration": 46,
    "start_time": "2022-05-08T18:33:38.556Z"
   },
   {
    "duration": 17,
    "start_time": "2022-05-08T18:33:38.604Z"
   },
   {
    "duration": 4,
    "start_time": "2022-05-08T18:33:38.624Z"
   },
   {
    "duration": 10,
    "start_time": "2022-05-08T18:33:38.631Z"
   },
   {
    "duration": 10,
    "start_time": "2022-05-08T18:33:38.644Z"
   },
   {
    "duration": 13,
    "start_time": "2022-05-08T18:33:38.657Z"
   },
   {
    "duration": 11,
    "start_time": "2022-05-08T18:33:38.672Z"
   },
   {
    "duration": 40,
    "start_time": "2022-05-08T18:33:38.685Z"
   },
   {
    "duration": 5,
    "start_time": "2022-05-08T18:33:38.728Z"
   },
   {
    "duration": 7,
    "start_time": "2022-05-08T18:33:38.734Z"
   },
   {
    "duration": 8,
    "start_time": "2022-05-08T18:33:38.743Z"
   },
   {
    "duration": 12,
    "start_time": "2022-05-08T18:33:38.752Z"
   },
   {
    "duration": 7,
    "start_time": "2022-05-08T18:33:38.766Z"
   },
   {
    "duration": 8,
    "start_time": "2022-05-08T18:33:38.775Z"
   },
   {
    "duration": 10,
    "start_time": "2022-05-08T18:33:38.785Z"
   },
   {
    "duration": 86,
    "start_time": "2022-05-08T18:33:38.796Z"
   },
   {
    "duration": 1271,
    "start_time": "2022-05-08T18:33:38.884Z"
   },
   {
    "duration": 3,
    "start_time": "2022-05-08T18:33:40.158Z"
   },
   {
    "duration": 25,
    "start_time": "2022-05-08T18:33:40.163Z"
   },
   {
    "duration": 113,
    "start_time": "2022-05-08T18:33:40.190Z"
   },
   {
    "duration": 20,
    "start_time": "2022-05-08T18:33:40.304Z"
   },
   {
    "duration": 98,
    "start_time": "2022-05-08T18:33:40.325Z"
   },
   {
    "duration": 24,
    "start_time": "2022-05-08T18:33:40.425Z"
   },
   {
    "duration": 3,
    "start_time": "2022-05-08T18:33:40.451Z"
   },
   {
    "duration": 75,
    "start_time": "2022-05-08T18:33:40.456Z"
   },
   {
    "duration": 3,
    "start_time": "2022-05-08T18:33:40.533Z"
   },
   {
    "duration": 395,
    "start_time": "2022-05-08T18:33:40.540Z"
   },
   {
    "duration": 4,
    "start_time": "2022-05-08T18:33:40.937Z"
   },
   {
    "duration": 194,
    "start_time": "2022-05-08T18:33:40.942Z"
   },
   {
    "duration": 3,
    "start_time": "2022-05-08T18:33:41.138Z"
   },
   {
    "duration": 12,
    "start_time": "2022-05-08T18:33:41.143Z"
   },
   {
    "duration": 1174,
    "start_time": "2022-05-09T13:44:13.493Z"
   },
   {
    "duration": 36,
    "start_time": "2022-05-09T13:44:14.669Z"
   },
   {
    "duration": 12,
    "start_time": "2022-05-09T13:44:14.707Z"
   },
   {
    "duration": 5,
    "start_time": "2022-05-09T13:44:14.722Z"
   },
   {
    "duration": 9,
    "start_time": "2022-05-09T13:44:14.728Z"
   },
   {
    "duration": 8,
    "start_time": "2022-05-09T13:44:14.739Z"
   },
   {
    "duration": 13,
    "start_time": "2022-05-09T13:44:14.748Z"
   },
   {
    "duration": 45,
    "start_time": "2022-05-09T13:44:14.763Z"
   },
   {
    "duration": 5,
    "start_time": "2022-05-09T13:44:14.810Z"
   },
   {
    "duration": 5,
    "start_time": "2022-05-09T13:44:14.818Z"
   },
   {
    "duration": 6,
    "start_time": "2022-05-09T13:44:14.825Z"
   },
   {
    "duration": 5,
    "start_time": "2022-05-09T13:44:14.833Z"
   },
   {
    "duration": 7,
    "start_time": "2022-05-09T13:44:14.840Z"
   },
   {
    "duration": 6,
    "start_time": "2022-05-09T13:44:14.848Z"
   },
   {
    "duration": 51,
    "start_time": "2022-05-09T13:44:14.856Z"
   },
   {
    "duration": 4,
    "start_time": "2022-05-09T13:44:14.910Z"
   },
   {
    "duration": 91,
    "start_time": "2022-05-09T13:44:14.916Z"
   },
   {
    "duration": 999,
    "start_time": "2022-05-09T13:44:15.010Z"
   },
   {
    "duration": 3,
    "start_time": "2022-05-09T13:44:16.012Z"
   },
   {
    "duration": 44,
    "start_time": "2022-05-09T13:44:16.018Z"
   },
   {
    "duration": 131,
    "start_time": "2022-05-09T13:44:16.064Z"
   },
   {
    "duration": 18,
    "start_time": "2022-05-09T13:44:16.197Z"
   },
   {
    "duration": 104,
    "start_time": "2022-05-09T13:44:16.218Z"
   },
   {
    "duration": 42,
    "start_time": "2022-05-09T13:44:16.324Z"
   },
   {
    "duration": 3,
    "start_time": "2022-05-09T13:44:16.368Z"
   },
   {
    "duration": 85,
    "start_time": "2022-05-09T13:44:16.373Z"
   },
   {
    "duration": 3,
    "start_time": "2022-05-09T13:44:16.460Z"
   },
   {
    "duration": 432,
    "start_time": "2022-05-09T13:44:16.467Z"
   },
   {
    "duration": 7,
    "start_time": "2022-05-09T13:44:16.901Z"
   },
   {
    "duration": 222,
    "start_time": "2022-05-09T13:44:16.910Z"
   },
   {
    "duration": 3,
    "start_time": "2022-05-09T13:44:17.134Z"
   },
   {
    "duration": 13,
    "start_time": "2022-05-09T13:44:17.139Z"
   }
  ],
  "kernelspec": {
   "display_name": "Python 3 (ipykernel)",
   "language": "python",
   "name": "python3"
  },
  "language_info": {
   "codemirror_mode": {
    "name": "ipython",
    "version": 3
   },
   "file_extension": ".py",
   "mimetype": "text/x-python",
   "name": "python",
   "nbconvert_exporter": "python",
   "pygments_lexer": "ipython3",
   "version": "3.9.7"
  },
  "toc": {
   "base_numbering": 1,
   "nav_menu": {},
   "number_sections": true,
   "sideBar": true,
   "skip_h1_title": true,
   "title_cell": "Table of Contents",
   "title_sidebar": "Contents",
   "toc_cell": true,
   "toc_position": {
    "height": "calc(100% - 180px)",
    "left": "10px",
    "top": "150px",
    "width": "165px"
   },
   "toc_section_display": true,
   "toc_window_display": false
  }
 },
 "nbformat": 4,
 "nbformat_minor": 5
}
