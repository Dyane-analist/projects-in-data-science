{
 "cells": [
  {
   "cell_type": "markdown",
   "metadata": {},
   "source": [
    "# Определение стоимости автомобилей"
   ]
  },
  {
   "cell_type": "markdown",
   "metadata": {},
   "source": [
    "**Цель проекта**\n",
    "\n",
    "Подготовить прототип модели машинного обучения для сервиса по продаже автомобилей с пробегом «Не бит, не крашен», разрабатывающей приложение для привлечения новых клиентов, в котором можно быстро узнать рыночную стоимость своего автомобиля. Модель должна предсказать стоимость автомобиля по введенным пользователем параметрам с учетом имеющихся исторических данных по техническим характеристикам, комплектации и цене других автомобилей. \n",
    "\n",
    "При определении оптимальной модели должны быть учтены важные для заказчика параметры:\n",
    "\n",
    "- качество предсказания (RMSE < 2500);\n",
    "- скорость предсказания - минимальная;\n",
    "- время обучения - минимальное.\n",
    "\n",
    "**Данные для анализа**\n",
    "\n",
    "На анализ переданы исторические данные: технические характеристики, комплектации и цены автомобилей.\n",
    "\n",
    "**Шаги (план) проекта**\n",
    "\n",
    "1.  Подготовка данных\n",
    "2.  Обучение моделей\n",
    "3.  Анализ моделей\n",
    "4.  Итоговый вывод"
   ]
  },
  {
   "cell_type": "markdown",
   "metadata": {},
   "source": [
    "## Подготовка данных"
   ]
  },
  {
   "cell_type": "markdown",
   "metadata": {},
   "source": [
    "Импортируем необходимые библиотеки для работы с данными в текущем проекте."
   ]
  },
  {
   "cell_type": "code",
   "execution_count": 1,
   "metadata": {},
   "outputs": [],
   "source": [
    "# импорт библиотек\n",
    "import numpy as np\n",
    "import pandas as pd\n",
    "\n",
    "# построение диаграмм\n",
    "import matplotlib.pyplot as plt\n",
    "\n",
    "# машинное обучение\n",
    "import lightgbm as ltb\n",
    "from numpy.random import RandomState\n",
    "from sklearn.model_selection import GridSearchCV\n",
    "from sklearn.linear_model import LinearRegression\n",
    "from sklearn.ensemble import RandomForestRegressor\n",
    "from sklearn.preprocessing import StandardScaler\n",
    "from sklearn.model_selection import train_test_split\n",
    "\n",
    "# оценка качества модели\n",
    "from sklearn.metrics import make_scorer\n",
    "from sklearn.metrics import mean_squared_error\n",
    "import sklearn.metrics as metrics\n",
    "\n",
    "# оценка производительности модели\n",
    "import time"
   ]
  },
  {
   "cell_type": "markdown",
   "metadata": {},
   "source": [
    "### Загрузка и изучение данных"
   ]
  },
  {
   "cell_type": "markdown",
   "metadata": {},
   "source": [
    "Откроем датасет с данными и изучим его."
   ]
  },
  {
   "cell_type": "code",
   "execution_count": 2,
   "metadata": {},
   "outputs": [
    {
     "data": {
      "text/html": [
       "<div>\n",
       "<style scoped>\n",
       "    .dataframe tbody tr th:only-of-type {\n",
       "        vertical-align: middle;\n",
       "    }\n",
       "\n",
       "    .dataframe tbody tr th {\n",
       "        vertical-align: top;\n",
       "    }\n",
       "\n",
       "    .dataframe thead th {\n",
       "        text-align: right;\n",
       "    }\n",
       "</style>\n",
       "<table border=\"1\" class=\"dataframe\">\n",
       "  <thead>\n",
       "    <tr style=\"text-align: right;\">\n",
       "      <th></th>\n",
       "      <th>DateCrawled</th>\n",
       "      <th>Price</th>\n",
       "      <th>VehicleType</th>\n",
       "      <th>RegistrationYear</th>\n",
       "      <th>Gearbox</th>\n",
       "      <th>Power</th>\n",
       "      <th>Model</th>\n",
       "      <th>Kilometer</th>\n",
       "      <th>RegistrationMonth</th>\n",
       "      <th>FuelType</th>\n",
       "      <th>Brand</th>\n",
       "      <th>NotRepaired</th>\n",
       "      <th>DateCreated</th>\n",
       "      <th>NumberOfPictures</th>\n",
       "      <th>PostalCode</th>\n",
       "      <th>LastSeen</th>\n",
       "    </tr>\n",
       "  </thead>\n",
       "  <tbody>\n",
       "    <tr>\n",
       "      <th>0</th>\n",
       "      <td>2016-03-24 11:52:17</td>\n",
       "      <td>480</td>\n",
       "      <td>NaN</td>\n",
       "      <td>1993</td>\n",
       "      <td>manual</td>\n",
       "      <td>0</td>\n",
       "      <td>golf</td>\n",
       "      <td>150000</td>\n",
       "      <td>0</td>\n",
       "      <td>petrol</td>\n",
       "      <td>volkswagen</td>\n",
       "      <td>NaN</td>\n",
       "      <td>2016-03-24 00:00:00</td>\n",
       "      <td>0</td>\n",
       "      <td>70435</td>\n",
       "      <td>2016-04-07 03:16:57</td>\n",
       "    </tr>\n",
       "    <tr>\n",
       "      <th>1</th>\n",
       "      <td>2016-03-24 10:58:45</td>\n",
       "      <td>18300</td>\n",
       "      <td>coupe</td>\n",
       "      <td>2011</td>\n",
       "      <td>manual</td>\n",
       "      <td>190</td>\n",
       "      <td>NaN</td>\n",
       "      <td>125000</td>\n",
       "      <td>5</td>\n",
       "      <td>gasoline</td>\n",
       "      <td>audi</td>\n",
       "      <td>yes</td>\n",
       "      <td>2016-03-24 00:00:00</td>\n",
       "      <td>0</td>\n",
       "      <td>66954</td>\n",
       "      <td>2016-04-07 01:46:50</td>\n",
       "    </tr>\n",
       "    <tr>\n",
       "      <th>2</th>\n",
       "      <td>2016-03-14 12:52:21</td>\n",
       "      <td>9800</td>\n",
       "      <td>suv</td>\n",
       "      <td>2004</td>\n",
       "      <td>auto</td>\n",
       "      <td>163</td>\n",
       "      <td>grand</td>\n",
       "      <td>125000</td>\n",
       "      <td>8</td>\n",
       "      <td>gasoline</td>\n",
       "      <td>jeep</td>\n",
       "      <td>NaN</td>\n",
       "      <td>2016-03-14 00:00:00</td>\n",
       "      <td>0</td>\n",
       "      <td>90480</td>\n",
       "      <td>2016-04-05 12:47:46</td>\n",
       "    </tr>\n",
       "    <tr>\n",
       "      <th>3</th>\n",
       "      <td>2016-03-17 16:54:04</td>\n",
       "      <td>1500</td>\n",
       "      <td>small</td>\n",
       "      <td>2001</td>\n",
       "      <td>manual</td>\n",
       "      <td>75</td>\n",
       "      <td>golf</td>\n",
       "      <td>150000</td>\n",
       "      <td>6</td>\n",
       "      <td>petrol</td>\n",
       "      <td>volkswagen</td>\n",
       "      <td>no</td>\n",
       "      <td>2016-03-17 00:00:00</td>\n",
       "      <td>0</td>\n",
       "      <td>91074</td>\n",
       "      <td>2016-03-17 17:40:17</td>\n",
       "    </tr>\n",
       "    <tr>\n",
       "      <th>4</th>\n",
       "      <td>2016-03-31 17:25:20</td>\n",
       "      <td>3600</td>\n",
       "      <td>small</td>\n",
       "      <td>2008</td>\n",
       "      <td>manual</td>\n",
       "      <td>69</td>\n",
       "      <td>fabia</td>\n",
       "      <td>90000</td>\n",
       "      <td>7</td>\n",
       "      <td>gasoline</td>\n",
       "      <td>skoda</td>\n",
       "      <td>no</td>\n",
       "      <td>2016-03-31 00:00:00</td>\n",
       "      <td>0</td>\n",
       "      <td>60437</td>\n",
       "      <td>2016-04-06 10:17:21</td>\n",
       "    </tr>\n",
       "  </tbody>\n",
       "</table>\n",
       "</div>"
      ],
      "text/plain": [
       "           DateCrawled  Price VehicleType  RegistrationYear Gearbox  Power  \\\n",
       "0  2016-03-24 11:52:17    480         NaN              1993  manual      0   \n",
       "1  2016-03-24 10:58:45  18300       coupe              2011  manual    190   \n",
       "2  2016-03-14 12:52:21   9800         suv              2004    auto    163   \n",
       "3  2016-03-17 16:54:04   1500       small              2001  manual     75   \n",
       "4  2016-03-31 17:25:20   3600       small              2008  manual     69   \n",
       "\n",
       "   Model  Kilometer  RegistrationMonth  FuelType       Brand NotRepaired  \\\n",
       "0   golf     150000                  0    petrol  volkswagen         NaN   \n",
       "1    NaN     125000                  5  gasoline        audi         yes   \n",
       "2  grand     125000                  8  gasoline        jeep         NaN   \n",
       "3   golf     150000                  6    petrol  volkswagen          no   \n",
       "4  fabia      90000                  7  gasoline       skoda          no   \n",
       "\n",
       "           DateCreated  NumberOfPictures  PostalCode             LastSeen  \n",
       "0  2016-03-24 00:00:00                 0       70435  2016-04-07 03:16:57  \n",
       "1  2016-03-24 00:00:00                 0       66954  2016-04-07 01:46:50  \n",
       "2  2016-03-14 00:00:00                 0       90480  2016-04-05 12:47:46  \n",
       "3  2016-03-17 00:00:00                 0       91074  2016-03-17 17:40:17  \n",
       "4  2016-03-31 00:00:00                 0       60437  2016-04-06 10:17:21  "
      ]
     },
     "execution_count": 2,
     "metadata": {},
     "output_type": "execute_result"
    }
   ],
   "source": [
    "# открытие файла с применением конструкции try/except для исключения проблем с отработкой кода при подготовке проекта локально\n",
    "try:\n",
    "    df = pd.read_csv('/datasets/autos.csv')\n",
    "except FileNotFoundError:\n",
    "    df = pd.read_csv('C:/Users/User/Desktop/Обучение/autos.csv')\n",
    "df.head()"
   ]
  },
  {
   "cell_type": "markdown",
   "metadata": {},
   "source": [
    "Изучим общую информацию о данных."
   ]
  },
  {
   "cell_type": "code",
   "execution_count": 3,
   "metadata": {},
   "outputs": [
    {
     "name": "stdout",
     "output_type": "stream",
     "text": [
      "<class 'pandas.core.frame.DataFrame'>\n",
      "RangeIndex: 354369 entries, 0 to 354368\n",
      "Data columns (total 16 columns):\n",
      " #   Column             Non-Null Count   Dtype \n",
      "---  ------             --------------   ----- \n",
      " 0   DateCrawled        354369 non-null  object\n",
      " 1   Price              354369 non-null  int64 \n",
      " 2   VehicleType        316879 non-null  object\n",
      " 3   RegistrationYear   354369 non-null  int64 \n",
      " 4   Gearbox            334536 non-null  object\n",
      " 5   Power              354369 non-null  int64 \n",
      " 6   Model              334664 non-null  object\n",
      " 7   Kilometer          354369 non-null  int64 \n",
      " 8   RegistrationMonth  354369 non-null  int64 \n",
      " 9   FuelType           321474 non-null  object\n",
      " 10  Brand              354369 non-null  object\n",
      " 11  NotRepaired        283215 non-null  object\n",
      " 12  DateCreated        354369 non-null  object\n",
      " 13  NumberOfPictures   354369 non-null  int64 \n",
      " 14  PostalCode         354369 non-null  int64 \n",
      " 15  LastSeen           354369 non-null  object\n",
      "dtypes: int64(7), object(9)\n",
      "memory usage: 43.3+ MB\n"
     ]
    }
   ],
   "source": [
    "# получение общей информации о структуре датафрейма\n",
    "df.info() "
   ]
  },
  {
   "cell_type": "markdown",
   "metadata": {},
   "source": [
    "1. В датасете содержится 354369 строк, 16 столбцов.\n",
    "2. Требуется переименование колонок в соответствии с правилами нотации Python (латиница, нижний регистр, змеиный стиль).\n",
    "3. В колонках с типом данных int64 требуется изменение типа на int32 для экономии памяти, в колонках DateCrawled, DateCreated и LastSeen требуется изменение типа данных с object на datetime.\n",
    "4. Колонки VehicleType, Gearbox, Model, FuelType, NotRepaired содержат пропущенные значения, требуется обработка пропусков.\n",
    "5. Требуется проверка данных на наличие явных дубликатов.\n",
    "6. Требуется проверка данных на корреляцию признаков и целевого признака \"Цена\" для удаления из набора признаков нерелевантных.\n",
    "7. Требуется проверка данных на адекватность и выбросы и обработка выбросов при их наличии."
   ]
  },
  {
   "cell_type": "markdown",
   "metadata": {},
   "source": [
    "### Переименование колонок"
   ]
  },
  {
   "cell_type": "markdown",
   "metadata": {},
   "source": [
    "Переименуем столбцы в соответствии с правилами нотации Python (латиница, нижний регистр, змеиный стиль)."
   ]
  },
  {
   "cell_type": "code",
   "execution_count": 4,
   "metadata": {},
   "outputs": [],
   "source": [
    "# переименование столбцов\n",
    "df = df.rename(columns = {\n",
    "    'DateCrawled':'date_crawled',\n",
    "    'Price':'price',\n",
    "    'VehicleType':'vehicle_type',\n",
    "    'RegistrationYear':'registration_year',\n",
    "    'Gearbox':'gearbox',\n",
    "    'Power':'power',\n",
    "    'Model':'model',\n",
    "    'Kilometer':'kilometer',\n",
    "    'RegistrationMonth':'registration_month',\n",
    "    'FuelType':'fuel_type',\n",
    "    'Brand':'brand',\n",
    "    'NotRepaired':'not_repaired',\n",
    "    'DateCreated':'date_created',\n",
    "    'NumberOfPictures':'number_of_pictures',\n",
    "    'PostalCode':'postal_code',\n",
    "    'LastSeen':'last_seen'\n",
    "}) "
   ]
  },
  {
   "cell_type": "markdown",
   "metadata": {},
   "source": [
    "Проверим результат."
   ]
  },
  {
   "cell_type": "code",
   "execution_count": 5,
   "metadata": {},
   "outputs": [
    {
     "data": {
      "text/plain": [
       "Index(['date_crawled', 'price', 'vehicle_type', 'registration_year', 'gearbox',\n",
       "       'power', 'model', 'kilometer', 'registration_month', 'fuel_type',\n",
       "       'brand', 'not_repaired', 'date_created', 'number_of_pictures',\n",
       "       'postal_code', 'last_seen'],\n",
       "      dtype='object')"
      ]
     },
     "execution_count": 5,
     "metadata": {},
     "output_type": "execute_result"
    }
   ],
   "source": [
    "# проверка результата\n",
    "df.columns"
   ]
  },
  {
   "cell_type": "markdown",
   "metadata": {},
   "source": [
    "Переименование произведено корректно."
   ]
  },
  {
   "cell_type": "markdown",
   "metadata": {},
   "source": [
    "### Типы данных"
   ]
  },
  {
   "cell_type": "markdown",
   "metadata": {},
   "source": [
    "Изменим тип данных в колонках с типом данных int64 на int32 для экономии памяти."
   ]
  },
  {
   "cell_type": "code",
   "execution_count": 6,
   "metadata": {},
   "outputs": [],
   "source": [
    "# изменение типов данных\n",
    "df[df.select_dtypes(np.int64).columns] = df.select_dtypes(np.int64).astype(np.int32)"
   ]
  },
  {
   "cell_type": "markdown",
   "metadata": {},
   "source": [
    "Изменим тип данных в колонках date_crawled, date_created и last_seen с object на datetime."
   ]
  },
  {
   "cell_type": "code",
   "execution_count": 7,
   "metadata": {
    "scrolled": true
   },
   "outputs": [],
   "source": [
    "# изменение типа данных в колонках date_crawled, date_created и last_seen на datetime\n",
    "df['date_crawled'] = pd.to_datetime(df['date_crawled']) \n",
    "df['date_created'] = pd.to_datetime(df['date_created'])\n",
    "df['last_seen'] = pd.to_datetime(df['last_seen'])"
   ]
  },
  {
   "cell_type": "markdown",
   "metadata": {},
   "source": [
    "Проверим результат."
   ]
  },
  {
   "cell_type": "code",
   "execution_count": 8,
   "metadata": {},
   "outputs": [
    {
     "name": "stdout",
     "output_type": "stream",
     "text": [
      "<class 'pandas.core.frame.DataFrame'>\n",
      "RangeIndex: 354369 entries, 0 to 354368\n",
      "Data columns (total 16 columns):\n",
      " #   Column              Non-Null Count   Dtype         \n",
      "---  ------              --------------   -----         \n",
      " 0   date_crawled        354369 non-null  datetime64[ns]\n",
      " 1   price               354369 non-null  int32         \n",
      " 2   vehicle_type        316879 non-null  object        \n",
      " 3   registration_year   354369 non-null  int32         \n",
      " 4   gearbox             334536 non-null  object        \n",
      " 5   power               354369 non-null  int32         \n",
      " 6   model               334664 non-null  object        \n",
      " 7   kilometer           354369 non-null  int32         \n",
      " 8   registration_month  354369 non-null  int32         \n",
      " 9   fuel_type           321474 non-null  object        \n",
      " 10  brand               354369 non-null  object        \n",
      " 11  not_repaired        283215 non-null  object        \n",
      " 12  date_created        354369 non-null  datetime64[ns]\n",
      " 13  number_of_pictures  354369 non-null  int32         \n",
      " 14  postal_code         354369 non-null  int32         \n",
      " 15  last_seen           354369 non-null  datetime64[ns]\n",
      "dtypes: datetime64[ns](3), int32(7), object(6)\n",
      "memory usage: 33.8+ MB\n"
     ]
    }
   ],
   "source": [
    "# получение общей информации о структуре датафрейма\n",
    "df.info() "
   ]
  },
  {
   "cell_type": "markdown",
   "metadata": {},
   "source": [
    "Изменение типов данных произведено корректно."
   ]
  },
  {
   "cell_type": "markdown",
   "metadata": {},
   "source": [
    "### Дубликаты"
   ]
  },
  {
   "cell_type": "markdown",
   "metadata": {},
   "source": [
    "Проверим датафрейм на наличие явных дубликатов."
   ]
  },
  {
   "cell_type": "code",
   "execution_count": 9,
   "metadata": {
    "scrolled": true
   },
   "outputs": [
    {
     "data": {
      "text/plain": [
       "4"
      ]
     },
     "execution_count": 9,
     "metadata": {},
     "output_type": "execute_result"
    }
   ],
   "source": [
    "# проверка наличия явных дубликатов\n",
    "df.duplicated().sum()"
   ]
  },
  {
   "cell_type": "markdown",
   "metadata": {},
   "source": [
    "Дубликатов мало, поэтому удалим их."
   ]
  },
  {
   "cell_type": "code",
   "execution_count": 10,
   "metadata": {},
   "outputs": [],
   "source": [
    "# удаление дубликатов с переиндексацией\n",
    "df = df.drop_duplicates().reset_index(drop=True)"
   ]
  },
  {
   "cell_type": "markdown",
   "metadata": {},
   "source": [
    "Проверим результат."
   ]
  },
  {
   "cell_type": "code",
   "execution_count": 11,
   "metadata": {},
   "outputs": [
    {
     "data": {
      "text/plain": [
       "0"
      ]
     },
     "execution_count": 11,
     "metadata": {},
     "output_type": "execute_result"
    }
   ],
   "source": [
    "# проверка наличия явных дубликатов\n",
    "df.duplicated().sum()"
   ]
  },
  {
   "cell_type": "markdown",
   "metadata": {},
   "source": [
    "Дубликаты удалены корректно."
   ]
  },
  {
   "cell_type": "markdown",
   "metadata": {},
   "source": [
    "### Пропуски"
   ]
  },
  {
   "cell_type": "markdown",
   "metadata": {},
   "source": [
    "Определим, в каких колонках есть пропущенные значения, и сколько их в % отношении."
   ]
  },
  {
   "cell_type": "code",
   "execution_count": 12,
   "metadata": {},
   "outputs": [
    {
     "data": {
      "text/plain": [
       "date_crawled           0.00\n",
       "price                  0.00\n",
       "vehicle_type          10.58\n",
       "registration_year      0.00\n",
       "gearbox                5.60\n",
       "power                  0.00\n",
       "model                  5.56\n",
       "kilometer              0.00\n",
       "registration_month     0.00\n",
       "fuel_type              9.28\n",
       "brand                  0.00\n",
       "not_repaired          20.08\n",
       "date_created           0.00\n",
       "number_of_pictures     0.00\n",
       "postal_code            0.00\n",
       "last_seen              0.00\n",
       "dtype: float64"
      ]
     },
     "execution_count": 12,
     "metadata": {},
     "output_type": "execute_result"
    }
   ],
   "source": [
    "# проверка % пропущенных значений в колонках\n",
    "(df.isna().mean()*100).round(2)"
   ]
  },
  {
   "cell_type": "markdown",
   "metadata": {},
   "source": [
    "Обработаем пропущенные значения по порядку."
   ]
  },
  {
   "cell_type": "markdown",
   "metadata": {},
   "source": [
    "**vehicle_type**"
   ]
  },
  {
   "cell_type": "code",
   "execution_count": 13,
   "metadata": {
    "scrolled": false
   },
   "outputs": [
    {
     "data": {
      "text/html": [
       "<div>\n",
       "<style scoped>\n",
       "    .dataframe tbody tr th:only-of-type {\n",
       "        vertical-align: middle;\n",
       "    }\n",
       "\n",
       "    .dataframe tbody tr th {\n",
       "        vertical-align: top;\n",
       "    }\n",
       "\n",
       "    .dataframe thead th {\n",
       "        text-align: right;\n",
       "    }\n",
       "</style>\n",
       "<table border=\"1\" class=\"dataframe\">\n",
       "  <thead>\n",
       "    <tr style=\"text-align: right;\">\n",
       "      <th></th>\n",
       "      <th>date_crawled</th>\n",
       "      <th>price</th>\n",
       "      <th>vehicle_type</th>\n",
       "      <th>registration_year</th>\n",
       "      <th>gearbox</th>\n",
       "      <th>power</th>\n",
       "      <th>model</th>\n",
       "      <th>kilometer</th>\n",
       "      <th>registration_month</th>\n",
       "      <th>fuel_type</th>\n",
       "      <th>brand</th>\n",
       "      <th>not_repaired</th>\n",
       "      <th>date_created</th>\n",
       "      <th>number_of_pictures</th>\n",
       "      <th>postal_code</th>\n",
       "      <th>last_seen</th>\n",
       "    </tr>\n",
       "  </thead>\n",
       "  <tbody>\n",
       "    <tr>\n",
       "      <th>0</th>\n",
       "      <td>2016-03-24 11:52:17</td>\n",
       "      <td>480</td>\n",
       "      <td>NaN</td>\n",
       "      <td>1993</td>\n",
       "      <td>manual</td>\n",
       "      <td>0</td>\n",
       "      <td>golf</td>\n",
       "      <td>150000</td>\n",
       "      <td>0</td>\n",
       "      <td>petrol</td>\n",
       "      <td>volkswagen</td>\n",
       "      <td>NaN</td>\n",
       "      <td>2016-03-24</td>\n",
       "      <td>0</td>\n",
       "      <td>70435</td>\n",
       "      <td>2016-04-07 03:16:57</td>\n",
       "    </tr>\n",
       "    <tr>\n",
       "      <th>16</th>\n",
       "      <td>2016-04-01 12:46:46</td>\n",
       "      <td>300</td>\n",
       "      <td>NaN</td>\n",
       "      <td>2016</td>\n",
       "      <td>NaN</td>\n",
       "      <td>60</td>\n",
       "      <td>polo</td>\n",
       "      <td>150000</td>\n",
       "      <td>0</td>\n",
       "      <td>petrol</td>\n",
       "      <td>volkswagen</td>\n",
       "      <td>NaN</td>\n",
       "      <td>2016-04-01</td>\n",
       "      <td>0</td>\n",
       "      <td>38871</td>\n",
       "      <td>2016-04-01 12:46:46</td>\n",
       "    </tr>\n",
       "    <tr>\n",
       "      <th>22</th>\n",
       "      <td>2016-03-23 14:52:51</td>\n",
       "      <td>2900</td>\n",
       "      <td>NaN</td>\n",
       "      <td>2018</td>\n",
       "      <td>manual</td>\n",
       "      <td>90</td>\n",
       "      <td>meriva</td>\n",
       "      <td>150000</td>\n",
       "      <td>5</td>\n",
       "      <td>petrol</td>\n",
       "      <td>opel</td>\n",
       "      <td>no</td>\n",
       "      <td>2016-03-23</td>\n",
       "      <td>0</td>\n",
       "      <td>49716</td>\n",
       "      <td>2016-03-31 01:16:33</td>\n",
       "    </tr>\n",
       "    <tr>\n",
       "      <th>26</th>\n",
       "      <td>2016-03-10 19:38:18</td>\n",
       "      <td>5555</td>\n",
       "      <td>NaN</td>\n",
       "      <td>2017</td>\n",
       "      <td>manual</td>\n",
       "      <td>125</td>\n",
       "      <td>c4</td>\n",
       "      <td>125000</td>\n",
       "      <td>4</td>\n",
       "      <td>NaN</td>\n",
       "      <td>citroen</td>\n",
       "      <td>no</td>\n",
       "      <td>2016-03-10</td>\n",
       "      <td>0</td>\n",
       "      <td>31139</td>\n",
       "      <td>2016-03-16 09:16:46</td>\n",
       "    </tr>\n",
       "    <tr>\n",
       "      <th>31</th>\n",
       "      <td>2016-03-29 16:57:02</td>\n",
       "      <td>899</td>\n",
       "      <td>NaN</td>\n",
       "      <td>2016</td>\n",
       "      <td>manual</td>\n",
       "      <td>60</td>\n",
       "      <td>clio</td>\n",
       "      <td>150000</td>\n",
       "      <td>6</td>\n",
       "      <td>petrol</td>\n",
       "      <td>renault</td>\n",
       "      <td>NaN</td>\n",
       "      <td>2016-03-29</td>\n",
       "      <td>0</td>\n",
       "      <td>37075</td>\n",
       "      <td>2016-03-29 17:43:07</td>\n",
       "    </tr>\n",
       "    <tr>\n",
       "      <th>35</th>\n",
       "      <td>2016-03-08 07:54:46</td>\n",
       "      <td>350</td>\n",
       "      <td>NaN</td>\n",
       "      <td>2016</td>\n",
       "      <td>manual</td>\n",
       "      <td>75</td>\n",
       "      <td>golf</td>\n",
       "      <td>150000</td>\n",
       "      <td>4</td>\n",
       "      <td>petrol</td>\n",
       "      <td>volkswagen</td>\n",
       "      <td>no</td>\n",
       "      <td>2016-03-08</td>\n",
       "      <td>0</td>\n",
       "      <td>19386</td>\n",
       "      <td>2016-03-08 09:44:50</td>\n",
       "    </tr>\n",
       "    <tr>\n",
       "      <th>37</th>\n",
       "      <td>2016-03-28 17:50:15</td>\n",
       "      <td>1500</td>\n",
       "      <td>NaN</td>\n",
       "      <td>2016</td>\n",
       "      <td>NaN</td>\n",
       "      <td>0</td>\n",
       "      <td>kangoo</td>\n",
       "      <td>150000</td>\n",
       "      <td>1</td>\n",
       "      <td>gasoline</td>\n",
       "      <td>renault</td>\n",
       "      <td>no</td>\n",
       "      <td>2016-03-28</td>\n",
       "      <td>0</td>\n",
       "      <td>46483</td>\n",
       "      <td>2016-03-30 09:18:02</td>\n",
       "    </tr>\n",
       "    <tr>\n",
       "      <th>40</th>\n",
       "      <td>2016-03-26 22:06:17</td>\n",
       "      <td>0</td>\n",
       "      <td>NaN</td>\n",
       "      <td>1990</td>\n",
       "      <td>NaN</td>\n",
       "      <td>0</td>\n",
       "      <td>corsa</td>\n",
       "      <td>150000</td>\n",
       "      <td>1</td>\n",
       "      <td>petrol</td>\n",
       "      <td>opel</td>\n",
       "      <td>NaN</td>\n",
       "      <td>2016-03-26</td>\n",
       "      <td>0</td>\n",
       "      <td>56412</td>\n",
       "      <td>2016-03-27 17:43:34</td>\n",
       "    </tr>\n",
       "    <tr>\n",
       "      <th>48</th>\n",
       "      <td>2016-03-25 14:40:12</td>\n",
       "      <td>7750</td>\n",
       "      <td>NaN</td>\n",
       "      <td>2017</td>\n",
       "      <td>manual</td>\n",
       "      <td>80</td>\n",
       "      <td>golf</td>\n",
       "      <td>100000</td>\n",
       "      <td>1</td>\n",
       "      <td>petrol</td>\n",
       "      <td>volkswagen</td>\n",
       "      <td>NaN</td>\n",
       "      <td>2016-03-25</td>\n",
       "      <td>0</td>\n",
       "      <td>48499</td>\n",
       "      <td>2016-03-31 21:47:44</td>\n",
       "    </tr>\n",
       "    <tr>\n",
       "      <th>51</th>\n",
       "      <td>2016-03-07 18:57:08</td>\n",
       "      <td>2000</td>\n",
       "      <td>NaN</td>\n",
       "      <td>2017</td>\n",
       "      <td>manual</td>\n",
       "      <td>90</td>\n",
       "      <td>punto</td>\n",
       "      <td>150000</td>\n",
       "      <td>11</td>\n",
       "      <td>gasoline</td>\n",
       "      <td>fiat</td>\n",
       "      <td>yes</td>\n",
       "      <td>2016-03-07</td>\n",
       "      <td>0</td>\n",
       "      <td>66115</td>\n",
       "      <td>2016-03-07 18:57:08</td>\n",
       "    </tr>\n",
       "  </tbody>\n",
       "</table>\n",
       "</div>"
      ],
      "text/plain": [
       "          date_crawled  price vehicle_type  registration_year gearbox  power  \\\n",
       "0  2016-03-24 11:52:17    480          NaN               1993  manual      0   \n",
       "16 2016-04-01 12:46:46    300          NaN               2016     NaN     60   \n",
       "22 2016-03-23 14:52:51   2900          NaN               2018  manual     90   \n",
       "26 2016-03-10 19:38:18   5555          NaN               2017  manual    125   \n",
       "31 2016-03-29 16:57:02    899          NaN               2016  manual     60   \n",
       "35 2016-03-08 07:54:46    350          NaN               2016  manual     75   \n",
       "37 2016-03-28 17:50:15   1500          NaN               2016     NaN      0   \n",
       "40 2016-03-26 22:06:17      0          NaN               1990     NaN      0   \n",
       "48 2016-03-25 14:40:12   7750          NaN               2017  manual     80   \n",
       "51 2016-03-07 18:57:08   2000          NaN               2017  manual     90   \n",
       "\n",
       "     model  kilometer  registration_month fuel_type       brand not_repaired  \\\n",
       "0     golf     150000                   0    petrol  volkswagen          NaN   \n",
       "16    polo     150000                   0    petrol  volkswagen          NaN   \n",
       "22  meriva     150000                   5    petrol        opel           no   \n",
       "26      c4     125000                   4       NaN     citroen           no   \n",
       "31    clio     150000                   6    petrol     renault          NaN   \n",
       "35    golf     150000                   4    petrol  volkswagen           no   \n",
       "37  kangoo     150000                   1  gasoline     renault           no   \n",
       "40   corsa     150000                   1    petrol        opel          NaN   \n",
       "48    golf     100000                   1    petrol  volkswagen          NaN   \n",
       "51   punto     150000                  11  gasoline        fiat          yes   \n",
       "\n",
       "   date_created  number_of_pictures  postal_code           last_seen  \n",
       "0    2016-03-24                   0        70435 2016-04-07 03:16:57  \n",
       "16   2016-04-01                   0        38871 2016-04-01 12:46:46  \n",
       "22   2016-03-23                   0        49716 2016-03-31 01:16:33  \n",
       "26   2016-03-10                   0        31139 2016-03-16 09:16:46  \n",
       "31   2016-03-29                   0        37075 2016-03-29 17:43:07  \n",
       "35   2016-03-08                   0        19386 2016-03-08 09:44:50  \n",
       "37   2016-03-28                   0        46483 2016-03-30 09:18:02  \n",
       "40   2016-03-26                   0        56412 2016-03-27 17:43:34  \n",
       "48   2016-03-25                   0        48499 2016-03-31 21:47:44  \n",
       "51   2016-03-07                   0        66115 2016-03-07 18:57:08  "
      ]
     },
     "execution_count": 13,
     "metadata": {},
     "output_type": "execute_result"
    }
   ],
   "source": [
    "# вывод строк с пустыми значениями в колонке\n",
    "df[df['vehicle_type'].isnull()].head(10) "
   ]
  },
  {
   "cell_type": "markdown",
   "metadata": {},
   "source": [
    "Поскольку однозначно определить по данным таблицы тип автомобиля в строках с пропущенными значениями нельзя, при этом вес таких значений в выборке высок (более 6%), заменим пропуски пометкой no info."
   ]
  },
  {
   "cell_type": "code",
   "execution_count": 14,
   "metadata": {},
   "outputs": [],
   "source": [
    "# заполнение пропусков пометкой no info\n",
    "df['vehicle_type'] = df['vehicle_type'].fillna('no info')"
   ]
  },
  {
   "cell_type": "markdown",
   "metadata": {},
   "source": [
    "Проверим результат."
   ]
  },
  {
   "cell_type": "code",
   "execution_count": 15,
   "metadata": {},
   "outputs": [
    {
     "data": {
      "text/html": [
       "<div>\n",
       "<style scoped>\n",
       "    .dataframe tbody tr th:only-of-type {\n",
       "        vertical-align: middle;\n",
       "    }\n",
       "\n",
       "    .dataframe tbody tr th {\n",
       "        vertical-align: top;\n",
       "    }\n",
       "\n",
       "    .dataframe thead th {\n",
       "        text-align: right;\n",
       "    }\n",
       "</style>\n",
       "<table border=\"1\" class=\"dataframe\">\n",
       "  <thead>\n",
       "    <tr style=\"text-align: right;\">\n",
       "      <th></th>\n",
       "      <th>date_crawled</th>\n",
       "      <th>price</th>\n",
       "      <th>vehicle_type</th>\n",
       "      <th>registration_year</th>\n",
       "      <th>gearbox</th>\n",
       "      <th>power</th>\n",
       "      <th>model</th>\n",
       "      <th>kilometer</th>\n",
       "      <th>registration_month</th>\n",
       "      <th>fuel_type</th>\n",
       "      <th>brand</th>\n",
       "      <th>not_repaired</th>\n",
       "      <th>date_created</th>\n",
       "      <th>number_of_pictures</th>\n",
       "      <th>postal_code</th>\n",
       "      <th>last_seen</th>\n",
       "    </tr>\n",
       "  </thead>\n",
       "  <tbody>\n",
       "  </tbody>\n",
       "</table>\n",
       "</div>"
      ],
      "text/plain": [
       "Empty DataFrame\n",
       "Columns: [date_crawled, price, vehicle_type, registration_year, gearbox, power, model, kilometer, registration_month, fuel_type, brand, not_repaired, date_created, number_of_pictures, postal_code, last_seen]\n",
       "Index: []"
      ]
     },
     "execution_count": 15,
     "metadata": {},
     "output_type": "execute_result"
    }
   ],
   "source": [
    "# вывод строк с пустыми значениями в колонке\n",
    "df[df['vehicle_type'].isnull()] "
   ]
  },
  {
   "cell_type": "markdown",
   "metadata": {},
   "source": [
    "Пропущенных значений не осталось, заполнение произведено корректно."
   ]
  },
  {
   "cell_type": "markdown",
   "metadata": {},
   "source": [
    "**gearbox**"
   ]
  },
  {
   "cell_type": "code",
   "execution_count": 16,
   "metadata": {
    "scrolled": false
   },
   "outputs": [
    {
     "data": {
      "text/html": [
       "<div>\n",
       "<style scoped>\n",
       "    .dataframe tbody tr th:only-of-type {\n",
       "        vertical-align: middle;\n",
       "    }\n",
       "\n",
       "    .dataframe tbody tr th {\n",
       "        vertical-align: top;\n",
       "    }\n",
       "\n",
       "    .dataframe thead th {\n",
       "        text-align: right;\n",
       "    }\n",
       "</style>\n",
       "<table border=\"1\" class=\"dataframe\">\n",
       "  <thead>\n",
       "    <tr style=\"text-align: right;\">\n",
       "      <th></th>\n",
       "      <th>date_crawled</th>\n",
       "      <th>price</th>\n",
       "      <th>vehicle_type</th>\n",
       "      <th>registration_year</th>\n",
       "      <th>gearbox</th>\n",
       "      <th>power</th>\n",
       "      <th>model</th>\n",
       "      <th>kilometer</th>\n",
       "      <th>registration_month</th>\n",
       "      <th>fuel_type</th>\n",
       "      <th>brand</th>\n",
       "      <th>not_repaired</th>\n",
       "      <th>date_created</th>\n",
       "      <th>number_of_pictures</th>\n",
       "      <th>postal_code</th>\n",
       "      <th>last_seen</th>\n",
       "    </tr>\n",
       "  </thead>\n",
       "  <tbody>\n",
       "    <tr>\n",
       "      <th>15</th>\n",
       "      <td>2016-03-11 21:39:15</td>\n",
       "      <td>450</td>\n",
       "      <td>small</td>\n",
       "      <td>1910</td>\n",
       "      <td>NaN</td>\n",
       "      <td>0</td>\n",
       "      <td>ka</td>\n",
       "      <td>5000</td>\n",
       "      <td>0</td>\n",
       "      <td>petrol</td>\n",
       "      <td>ford</td>\n",
       "      <td>NaN</td>\n",
       "      <td>2016-03-11</td>\n",
       "      <td>0</td>\n",
       "      <td>24148</td>\n",
       "      <td>2016-03-19 08:46:47</td>\n",
       "    </tr>\n",
       "    <tr>\n",
       "      <th>16</th>\n",
       "      <td>2016-04-01 12:46:46</td>\n",
       "      <td>300</td>\n",
       "      <td>no info</td>\n",
       "      <td>2016</td>\n",
       "      <td>NaN</td>\n",
       "      <td>60</td>\n",
       "      <td>polo</td>\n",
       "      <td>150000</td>\n",
       "      <td>0</td>\n",
       "      <td>petrol</td>\n",
       "      <td>volkswagen</td>\n",
       "      <td>NaN</td>\n",
       "      <td>2016-04-01</td>\n",
       "      <td>0</td>\n",
       "      <td>38871</td>\n",
       "      <td>2016-04-01 12:46:46</td>\n",
       "    </tr>\n",
       "    <tr>\n",
       "      <th>32</th>\n",
       "      <td>2016-03-15 20:59:01</td>\n",
       "      <td>245</td>\n",
       "      <td>sedan</td>\n",
       "      <td>1994</td>\n",
       "      <td>NaN</td>\n",
       "      <td>0</td>\n",
       "      <td>golf</td>\n",
       "      <td>150000</td>\n",
       "      <td>2</td>\n",
       "      <td>petrol</td>\n",
       "      <td>volkswagen</td>\n",
       "      <td>no</td>\n",
       "      <td>2016-03-15</td>\n",
       "      <td>0</td>\n",
       "      <td>44145</td>\n",
       "      <td>2016-03-17 18:17:43</td>\n",
       "    </tr>\n",
       "    <tr>\n",
       "      <th>37</th>\n",
       "      <td>2016-03-28 17:50:15</td>\n",
       "      <td>1500</td>\n",
       "      <td>no info</td>\n",
       "      <td>2016</td>\n",
       "      <td>NaN</td>\n",
       "      <td>0</td>\n",
       "      <td>kangoo</td>\n",
       "      <td>150000</td>\n",
       "      <td>1</td>\n",
       "      <td>gasoline</td>\n",
       "      <td>renault</td>\n",
       "      <td>no</td>\n",
       "      <td>2016-03-28</td>\n",
       "      <td>0</td>\n",
       "      <td>46483</td>\n",
       "      <td>2016-03-30 09:18:02</td>\n",
       "    </tr>\n",
       "    <tr>\n",
       "      <th>40</th>\n",
       "      <td>2016-03-26 22:06:17</td>\n",
       "      <td>0</td>\n",
       "      <td>no info</td>\n",
       "      <td>1990</td>\n",
       "      <td>NaN</td>\n",
       "      <td>0</td>\n",
       "      <td>corsa</td>\n",
       "      <td>150000</td>\n",
       "      <td>1</td>\n",
       "      <td>petrol</td>\n",
       "      <td>opel</td>\n",
       "      <td>NaN</td>\n",
       "      <td>2016-03-26</td>\n",
       "      <td>0</td>\n",
       "      <td>56412</td>\n",
       "      <td>2016-03-27 17:43:34</td>\n",
       "    </tr>\n",
       "    <tr>\n",
       "      <th>69</th>\n",
       "      <td>2016-04-01 11:56:40</td>\n",
       "      <td>1200</td>\n",
       "      <td>coupe</td>\n",
       "      <td>2001</td>\n",
       "      <td>NaN</td>\n",
       "      <td>0</td>\n",
       "      <td>astra</td>\n",
       "      <td>150000</td>\n",
       "      <td>0</td>\n",
       "      <td>NaN</td>\n",
       "      <td>opel</td>\n",
       "      <td>NaN</td>\n",
       "      <td>2016-04-01</td>\n",
       "      <td>0</td>\n",
       "      <td>47249</td>\n",
       "      <td>2016-04-07 08:46:07</td>\n",
       "    </tr>\n",
       "    <tr>\n",
       "      <th>92</th>\n",
       "      <td>2016-03-16 07:56:19</td>\n",
       "      <td>250</td>\n",
       "      <td>no info</td>\n",
       "      <td>2000</td>\n",
       "      <td>NaN</td>\n",
       "      <td>60</td>\n",
       "      <td>ka</td>\n",
       "      <td>150000</td>\n",
       "      <td>0</td>\n",
       "      <td>NaN</td>\n",
       "      <td>ford</td>\n",
       "      <td>NaN</td>\n",
       "      <td>2016-03-16</td>\n",
       "      <td>0</td>\n",
       "      <td>51427</td>\n",
       "      <td>2016-03-21 09:47:08</td>\n",
       "    </tr>\n",
       "    <tr>\n",
       "      <th>94</th>\n",
       "      <td>2016-03-28 16:37:43</td>\n",
       "      <td>8390</td>\n",
       "      <td>no info</td>\n",
       "      <td>2009</td>\n",
       "      <td>NaN</td>\n",
       "      <td>0</td>\n",
       "      <td>insignia</td>\n",
       "      <td>150000</td>\n",
       "      <td>0</td>\n",
       "      <td>NaN</td>\n",
       "      <td>opel</td>\n",
       "      <td>NaN</td>\n",
       "      <td>2016-03-28</td>\n",
       "      <td>0</td>\n",
       "      <td>29221</td>\n",
       "      <td>2016-03-30 07:44:59</td>\n",
       "    </tr>\n",
       "    <tr>\n",
       "      <th>110</th>\n",
       "      <td>2016-04-03 03:57:26</td>\n",
       "      <td>350</td>\n",
       "      <td>small</td>\n",
       "      <td>1998</td>\n",
       "      <td>NaN</td>\n",
       "      <td>0</td>\n",
       "      <td>corsa</td>\n",
       "      <td>150000</td>\n",
       "      <td>2</td>\n",
       "      <td>petrol</td>\n",
       "      <td>opel</td>\n",
       "      <td>NaN</td>\n",
       "      <td>2016-04-03</td>\n",
       "      <td>0</td>\n",
       "      <td>82110</td>\n",
       "      <td>2016-04-03 08:53:37</td>\n",
       "    </tr>\n",
       "    <tr>\n",
       "      <th>115</th>\n",
       "      <td>2016-03-20 18:53:27</td>\n",
       "      <td>0</td>\n",
       "      <td>small</td>\n",
       "      <td>1999</td>\n",
       "      <td>NaN</td>\n",
       "      <td>0</td>\n",
       "      <td>NaN</td>\n",
       "      <td>5000</td>\n",
       "      <td>0</td>\n",
       "      <td>petrol</td>\n",
       "      <td>volkswagen</td>\n",
       "      <td>NaN</td>\n",
       "      <td>2016-03-20</td>\n",
       "      <td>0</td>\n",
       "      <td>37520</td>\n",
       "      <td>2016-04-07 02:45:22</td>\n",
       "    </tr>\n",
       "  </tbody>\n",
       "</table>\n",
       "</div>"
      ],
      "text/plain": [
       "           date_crawled  price vehicle_type  registration_year gearbox  power  \\\n",
       "15  2016-03-11 21:39:15    450        small               1910     NaN      0   \n",
       "16  2016-04-01 12:46:46    300      no info               2016     NaN     60   \n",
       "32  2016-03-15 20:59:01    245        sedan               1994     NaN      0   \n",
       "37  2016-03-28 17:50:15   1500      no info               2016     NaN      0   \n",
       "40  2016-03-26 22:06:17      0      no info               1990     NaN      0   \n",
       "69  2016-04-01 11:56:40   1200        coupe               2001     NaN      0   \n",
       "92  2016-03-16 07:56:19    250      no info               2000     NaN     60   \n",
       "94  2016-03-28 16:37:43   8390      no info               2009     NaN      0   \n",
       "110 2016-04-03 03:57:26    350        small               1998     NaN      0   \n",
       "115 2016-03-20 18:53:27      0        small               1999     NaN      0   \n",
       "\n",
       "        model  kilometer  registration_month fuel_type       brand  \\\n",
       "15         ka       5000                   0    petrol        ford   \n",
       "16       polo     150000                   0    petrol  volkswagen   \n",
       "32       golf     150000                   2    petrol  volkswagen   \n",
       "37     kangoo     150000                   1  gasoline     renault   \n",
       "40      corsa     150000                   1    petrol        opel   \n",
       "69      astra     150000                   0       NaN        opel   \n",
       "92         ka     150000                   0       NaN        ford   \n",
       "94   insignia     150000                   0       NaN        opel   \n",
       "110     corsa     150000                   2    petrol        opel   \n",
       "115       NaN       5000                   0    petrol  volkswagen   \n",
       "\n",
       "    not_repaired date_created  number_of_pictures  postal_code  \\\n",
       "15           NaN   2016-03-11                   0        24148   \n",
       "16           NaN   2016-04-01                   0        38871   \n",
       "32            no   2016-03-15                   0        44145   \n",
       "37            no   2016-03-28                   0        46483   \n",
       "40           NaN   2016-03-26                   0        56412   \n",
       "69           NaN   2016-04-01                   0        47249   \n",
       "92           NaN   2016-03-16                   0        51427   \n",
       "94           NaN   2016-03-28                   0        29221   \n",
       "110          NaN   2016-04-03                   0        82110   \n",
       "115          NaN   2016-03-20                   0        37520   \n",
       "\n",
       "              last_seen  \n",
       "15  2016-03-19 08:46:47  \n",
       "16  2016-04-01 12:46:46  \n",
       "32  2016-03-17 18:17:43  \n",
       "37  2016-03-30 09:18:02  \n",
       "40  2016-03-27 17:43:34  \n",
       "69  2016-04-07 08:46:07  \n",
       "92  2016-03-21 09:47:08  \n",
       "94  2016-03-30 07:44:59  \n",
       "110 2016-04-03 08:53:37  \n",
       "115 2016-04-07 02:45:22  "
      ]
     },
     "execution_count": 16,
     "metadata": {},
     "output_type": "execute_result"
    }
   ],
   "source": [
    "# вывод строк с пустыми значениями в колонке\n",
    "df[df['gearbox'].isnull()].head(10) "
   ]
  },
  {
   "cell_type": "markdown",
   "metadata": {},
   "source": [
    "Поскольку однозначно определить по данным таблицы тип коробки предач в строках с пропущенными значениями нельзя, при этом вес таких значений в выборке небольшой (менее 6%), удалим строки с пропусками."
   ]
  },
  {
   "cell_type": "code",
   "execution_count": 17,
   "metadata": {},
   "outputs": [],
   "source": [
    "# удаление строк с пропущенными значениями\n",
    "df = df.dropna(subset=['gearbox']).reset_index(drop=True)"
   ]
  },
  {
   "cell_type": "markdown",
   "metadata": {},
   "source": [
    "Проверим результат."
   ]
  },
  {
   "cell_type": "code",
   "execution_count": 18,
   "metadata": {},
   "outputs": [
    {
     "data": {
      "text/html": [
       "<div>\n",
       "<style scoped>\n",
       "    .dataframe tbody tr th:only-of-type {\n",
       "        vertical-align: middle;\n",
       "    }\n",
       "\n",
       "    .dataframe tbody tr th {\n",
       "        vertical-align: top;\n",
       "    }\n",
       "\n",
       "    .dataframe thead th {\n",
       "        text-align: right;\n",
       "    }\n",
       "</style>\n",
       "<table border=\"1\" class=\"dataframe\">\n",
       "  <thead>\n",
       "    <tr style=\"text-align: right;\">\n",
       "      <th></th>\n",
       "      <th>date_crawled</th>\n",
       "      <th>price</th>\n",
       "      <th>vehicle_type</th>\n",
       "      <th>registration_year</th>\n",
       "      <th>gearbox</th>\n",
       "      <th>power</th>\n",
       "      <th>model</th>\n",
       "      <th>kilometer</th>\n",
       "      <th>registration_month</th>\n",
       "      <th>fuel_type</th>\n",
       "      <th>brand</th>\n",
       "      <th>not_repaired</th>\n",
       "      <th>date_created</th>\n",
       "      <th>number_of_pictures</th>\n",
       "      <th>postal_code</th>\n",
       "      <th>last_seen</th>\n",
       "    </tr>\n",
       "  </thead>\n",
       "  <tbody>\n",
       "  </tbody>\n",
       "</table>\n",
       "</div>"
      ],
      "text/plain": [
       "Empty DataFrame\n",
       "Columns: [date_crawled, price, vehicle_type, registration_year, gearbox, power, model, kilometer, registration_month, fuel_type, brand, not_repaired, date_created, number_of_pictures, postal_code, last_seen]\n",
       "Index: []"
      ]
     },
     "execution_count": 18,
     "metadata": {},
     "output_type": "execute_result"
    }
   ],
   "source": [
    "# вывод строк с пустыми значениями в колонке\n",
    "df[df['gearbox'].isnull()] "
   ]
  },
  {
   "cell_type": "markdown",
   "metadata": {},
   "source": [
    "Пропущенных значений не осталось, удаление произведено корректно."
   ]
  },
  {
   "cell_type": "markdown",
   "metadata": {},
   "source": [
    "**model**"
   ]
  },
  {
   "cell_type": "code",
   "execution_count": 19,
   "metadata": {
    "scrolled": false
   },
   "outputs": [
    {
     "data": {
      "text/html": [
       "<div>\n",
       "<style scoped>\n",
       "    .dataframe tbody tr th:only-of-type {\n",
       "        vertical-align: middle;\n",
       "    }\n",
       "\n",
       "    .dataframe tbody tr th {\n",
       "        vertical-align: top;\n",
       "    }\n",
       "\n",
       "    .dataframe thead th {\n",
       "        text-align: right;\n",
       "    }\n",
       "</style>\n",
       "<table border=\"1\" class=\"dataframe\">\n",
       "  <thead>\n",
       "    <tr style=\"text-align: right;\">\n",
       "      <th></th>\n",
       "      <th>date_crawled</th>\n",
       "      <th>price</th>\n",
       "      <th>vehicle_type</th>\n",
       "      <th>registration_year</th>\n",
       "      <th>gearbox</th>\n",
       "      <th>power</th>\n",
       "      <th>model</th>\n",
       "      <th>kilometer</th>\n",
       "      <th>registration_month</th>\n",
       "      <th>fuel_type</th>\n",
       "      <th>brand</th>\n",
       "      <th>not_repaired</th>\n",
       "      <th>date_created</th>\n",
       "      <th>number_of_pictures</th>\n",
       "      <th>postal_code</th>\n",
       "      <th>last_seen</th>\n",
       "    </tr>\n",
       "  </thead>\n",
       "  <tbody>\n",
       "    <tr>\n",
       "      <th>1</th>\n",
       "      <td>2016-03-24 10:58:45</td>\n",
       "      <td>18300</td>\n",
       "      <td>coupe</td>\n",
       "      <td>2011</td>\n",
       "      <td>manual</td>\n",
       "      <td>190</td>\n",
       "      <td>NaN</td>\n",
       "      <td>125000</td>\n",
       "      <td>5</td>\n",
       "      <td>gasoline</td>\n",
       "      <td>audi</td>\n",
       "      <td>yes</td>\n",
       "      <td>2016-03-24</td>\n",
       "      <td>0</td>\n",
       "      <td>66954</td>\n",
       "      <td>2016-04-07 01:46:50</td>\n",
       "    </tr>\n",
       "    <tr>\n",
       "      <th>54</th>\n",
       "      <td>2016-03-29 15:48:15</td>\n",
       "      <td>1</td>\n",
       "      <td>suv</td>\n",
       "      <td>1994</td>\n",
       "      <td>manual</td>\n",
       "      <td>286</td>\n",
       "      <td>NaN</td>\n",
       "      <td>150000</td>\n",
       "      <td>11</td>\n",
       "      <td>NaN</td>\n",
       "      <td>sonstige_autos</td>\n",
       "      <td>NaN</td>\n",
       "      <td>2016-03-29</td>\n",
       "      <td>0</td>\n",
       "      <td>53721</td>\n",
       "      <td>2016-04-06 01:44:38</td>\n",
       "    </tr>\n",
       "    <tr>\n",
       "      <th>75</th>\n",
       "      <td>2016-04-03 12:56:45</td>\n",
       "      <td>350</td>\n",
       "      <td>small</td>\n",
       "      <td>1997</td>\n",
       "      <td>manual</td>\n",
       "      <td>54</td>\n",
       "      <td>NaN</td>\n",
       "      <td>150000</td>\n",
       "      <td>3</td>\n",
       "      <td>NaN</td>\n",
       "      <td>fiat</td>\n",
       "      <td>yes</td>\n",
       "      <td>2016-04-03</td>\n",
       "      <td>0</td>\n",
       "      <td>45665</td>\n",
       "      <td>2016-04-05 11:47:13</td>\n",
       "    </tr>\n",
       "    <tr>\n",
       "      <th>124</th>\n",
       "      <td>2016-03-27 20:51:23</td>\n",
       "      <td>1450</td>\n",
       "      <td>sedan</td>\n",
       "      <td>1992</td>\n",
       "      <td>manual</td>\n",
       "      <td>136</td>\n",
       "      <td>NaN</td>\n",
       "      <td>150000</td>\n",
       "      <td>0</td>\n",
       "      <td>NaN</td>\n",
       "      <td>audi</td>\n",
       "      <td>no</td>\n",
       "      <td>2016-03-27</td>\n",
       "      <td>0</td>\n",
       "      <td>38709</td>\n",
       "      <td>2016-04-05 20:17:31</td>\n",
       "    </tr>\n",
       "    <tr>\n",
       "      <th>146</th>\n",
       "      <td>2016-03-19 19:49:15</td>\n",
       "      <td>500</td>\n",
       "      <td>small</td>\n",
       "      <td>1999</td>\n",
       "      <td>manual</td>\n",
       "      <td>0</td>\n",
       "      <td>NaN</td>\n",
       "      <td>150000</td>\n",
       "      <td>0</td>\n",
       "      <td>petrol</td>\n",
       "      <td>renault</td>\n",
       "      <td>no</td>\n",
       "      <td>2016-03-19</td>\n",
       "      <td>0</td>\n",
       "      <td>26969</td>\n",
       "      <td>2016-04-01 11:17:48</td>\n",
       "    </tr>\n",
       "    <tr>\n",
       "      <th>177</th>\n",
       "      <td>2016-03-27 12:47:45</td>\n",
       "      <td>1200</td>\n",
       "      <td>coupe</td>\n",
       "      <td>1990</td>\n",
       "      <td>manual</td>\n",
       "      <td>45</td>\n",
       "      <td>NaN</td>\n",
       "      <td>150000</td>\n",
       "      <td>0</td>\n",
       "      <td>petrol</td>\n",
       "      <td>volkswagen</td>\n",
       "      <td>NaN</td>\n",
       "      <td>2016-03-27</td>\n",
       "      <td>0</td>\n",
       "      <td>83317</td>\n",
       "      <td>2016-04-07 08:17:08</td>\n",
       "    </tr>\n",
       "    <tr>\n",
       "      <th>240</th>\n",
       "      <td>2016-04-04 09:49:59</td>\n",
       "      <td>450</td>\n",
       "      <td>no info</td>\n",
       "      <td>2016</td>\n",
       "      <td>manual</td>\n",
       "      <td>0</td>\n",
       "      <td>NaN</td>\n",
       "      <td>150000</td>\n",
       "      <td>3</td>\n",
       "      <td>petrol</td>\n",
       "      <td>mitsubishi</td>\n",
       "      <td>no</td>\n",
       "      <td>2016-04-04</td>\n",
       "      <td>0</td>\n",
       "      <td>59302</td>\n",
       "      <td>2016-04-06 11:17:11</td>\n",
       "    </tr>\n",
       "    <tr>\n",
       "      <th>253</th>\n",
       "      <td>2016-03-29 23:38:02</td>\n",
       "      <td>1500</td>\n",
       "      <td>coupe</td>\n",
       "      <td>1994</td>\n",
       "      <td>manual</td>\n",
       "      <td>116</td>\n",
       "      <td>NaN</td>\n",
       "      <td>150000</td>\n",
       "      <td>8</td>\n",
       "      <td>NaN</td>\n",
       "      <td>audi</td>\n",
       "      <td>no</td>\n",
       "      <td>2016-03-29</td>\n",
       "      <td>0</td>\n",
       "      <td>32791</td>\n",
       "      <td>2016-04-06 20:16:34</td>\n",
       "    </tr>\n",
       "    <tr>\n",
       "      <th>282</th>\n",
       "      <td>2016-03-13 13:38:54</td>\n",
       "      <td>1600</td>\n",
       "      <td>wagon</td>\n",
       "      <td>1999</td>\n",
       "      <td>manual</td>\n",
       "      <td>0</td>\n",
       "      <td>NaN</td>\n",
       "      <td>150000</td>\n",
       "      <td>6</td>\n",
       "      <td>petrol</td>\n",
       "      <td>bmw</td>\n",
       "      <td>no</td>\n",
       "      <td>2016-03-13</td>\n",
       "      <td>0</td>\n",
       "      <td>41199</td>\n",
       "      <td>2016-03-28 12:46:35</td>\n",
       "    </tr>\n",
       "    <tr>\n",
       "      <th>325</th>\n",
       "      <td>2016-03-08 08:57:34</td>\n",
       "      <td>5500</td>\n",
       "      <td>small</td>\n",
       "      <td>2012</td>\n",
       "      <td>manual</td>\n",
       "      <td>68</td>\n",
       "      <td>NaN</td>\n",
       "      <td>40000</td>\n",
       "      <td>12</td>\n",
       "      <td>NaN</td>\n",
       "      <td>peugeot</td>\n",
       "      <td>no</td>\n",
       "      <td>2016-03-08</td>\n",
       "      <td>0</td>\n",
       "      <td>24536</td>\n",
       "      <td>2016-03-21 21:44:28</td>\n",
       "    </tr>\n",
       "  </tbody>\n",
       "</table>\n",
       "</div>"
      ],
      "text/plain": [
       "           date_crawled  price vehicle_type  registration_year gearbox  power  \\\n",
       "1   2016-03-24 10:58:45  18300        coupe               2011  manual    190   \n",
       "54  2016-03-29 15:48:15      1          suv               1994  manual    286   \n",
       "75  2016-04-03 12:56:45    350        small               1997  manual     54   \n",
       "124 2016-03-27 20:51:23   1450        sedan               1992  manual    136   \n",
       "146 2016-03-19 19:49:15    500        small               1999  manual      0   \n",
       "177 2016-03-27 12:47:45   1200        coupe               1990  manual     45   \n",
       "240 2016-04-04 09:49:59    450      no info               2016  manual      0   \n",
       "253 2016-03-29 23:38:02   1500        coupe               1994  manual    116   \n",
       "282 2016-03-13 13:38:54   1600        wagon               1999  manual      0   \n",
       "325 2016-03-08 08:57:34   5500        small               2012  manual     68   \n",
       "\n",
       "    model  kilometer  registration_month fuel_type           brand  \\\n",
       "1     NaN     125000                   5  gasoline            audi   \n",
       "54    NaN     150000                  11       NaN  sonstige_autos   \n",
       "75    NaN     150000                   3       NaN            fiat   \n",
       "124   NaN     150000                   0       NaN            audi   \n",
       "146   NaN     150000                   0    petrol         renault   \n",
       "177   NaN     150000                   0    petrol      volkswagen   \n",
       "240   NaN     150000                   3    petrol      mitsubishi   \n",
       "253   NaN     150000                   8       NaN            audi   \n",
       "282   NaN     150000                   6    petrol             bmw   \n",
       "325   NaN      40000                  12       NaN         peugeot   \n",
       "\n",
       "    not_repaired date_created  number_of_pictures  postal_code  \\\n",
       "1            yes   2016-03-24                   0        66954   \n",
       "54           NaN   2016-03-29                   0        53721   \n",
       "75           yes   2016-04-03                   0        45665   \n",
       "124           no   2016-03-27                   0        38709   \n",
       "146           no   2016-03-19                   0        26969   \n",
       "177          NaN   2016-03-27                   0        83317   \n",
       "240           no   2016-04-04                   0        59302   \n",
       "253           no   2016-03-29                   0        32791   \n",
       "282           no   2016-03-13                   0        41199   \n",
       "325           no   2016-03-08                   0        24536   \n",
       "\n",
       "              last_seen  \n",
       "1   2016-04-07 01:46:50  \n",
       "54  2016-04-06 01:44:38  \n",
       "75  2016-04-05 11:47:13  \n",
       "124 2016-04-05 20:17:31  \n",
       "146 2016-04-01 11:17:48  \n",
       "177 2016-04-07 08:17:08  \n",
       "240 2016-04-06 11:17:11  \n",
       "253 2016-04-06 20:16:34  \n",
       "282 2016-03-28 12:46:35  \n",
       "325 2016-03-21 21:44:28  "
      ]
     },
     "execution_count": 19,
     "metadata": {},
     "output_type": "execute_result"
    }
   ],
   "source": [
    "# вывод строк с пустыми значениями в колонке\n",
    "df[df['model'].isnull()].head(10) "
   ]
  },
  {
   "cell_type": "markdown",
   "metadata": {},
   "source": [
    "Поскольку однозначно определить по данным таблицы модель авто в строках с пропущенными значениями нельзя, при этом вес таких значений в выборке небольшой (менее 6%), удалим строки с пропусками."
   ]
  },
  {
   "cell_type": "code",
   "execution_count": 20,
   "metadata": {},
   "outputs": [],
   "source": [
    "# удаление строк с пропущенными значениями\n",
    "df = df.dropna(subset=['model']).reset_index(drop=True)"
   ]
  },
  {
   "cell_type": "markdown",
   "metadata": {},
   "source": [
    "Проверим результат."
   ]
  },
  {
   "cell_type": "code",
   "execution_count": 21,
   "metadata": {},
   "outputs": [
    {
     "data": {
      "text/html": [
       "<div>\n",
       "<style scoped>\n",
       "    .dataframe tbody tr th:only-of-type {\n",
       "        vertical-align: middle;\n",
       "    }\n",
       "\n",
       "    .dataframe tbody tr th {\n",
       "        vertical-align: top;\n",
       "    }\n",
       "\n",
       "    .dataframe thead th {\n",
       "        text-align: right;\n",
       "    }\n",
       "</style>\n",
       "<table border=\"1\" class=\"dataframe\">\n",
       "  <thead>\n",
       "    <tr style=\"text-align: right;\">\n",
       "      <th></th>\n",
       "      <th>date_crawled</th>\n",
       "      <th>price</th>\n",
       "      <th>vehicle_type</th>\n",
       "      <th>registration_year</th>\n",
       "      <th>gearbox</th>\n",
       "      <th>power</th>\n",
       "      <th>model</th>\n",
       "      <th>kilometer</th>\n",
       "      <th>registration_month</th>\n",
       "      <th>fuel_type</th>\n",
       "      <th>brand</th>\n",
       "      <th>not_repaired</th>\n",
       "      <th>date_created</th>\n",
       "      <th>number_of_pictures</th>\n",
       "      <th>postal_code</th>\n",
       "      <th>last_seen</th>\n",
       "    </tr>\n",
       "  </thead>\n",
       "  <tbody>\n",
       "  </tbody>\n",
       "</table>\n",
       "</div>"
      ],
      "text/plain": [
       "Empty DataFrame\n",
       "Columns: [date_crawled, price, vehicle_type, registration_year, gearbox, power, model, kilometer, registration_month, fuel_type, brand, not_repaired, date_created, number_of_pictures, postal_code, last_seen]\n",
       "Index: []"
      ]
     },
     "execution_count": 21,
     "metadata": {},
     "output_type": "execute_result"
    }
   ],
   "source": [
    "# вывод строк с пустыми значениями в колонке\n",
    "df[df['model'].isnull()] "
   ]
  },
  {
   "cell_type": "markdown",
   "metadata": {},
   "source": [
    "Пропущенных значений не осталось, удаление произведено корректно."
   ]
  },
  {
   "cell_type": "markdown",
   "metadata": {},
   "source": [
    "**fuel_type**"
   ]
  },
  {
   "cell_type": "code",
   "execution_count": 22,
   "metadata": {},
   "outputs": [
    {
     "data": {
      "text/html": [
       "<div>\n",
       "<style scoped>\n",
       "    .dataframe tbody tr th:only-of-type {\n",
       "        vertical-align: middle;\n",
       "    }\n",
       "\n",
       "    .dataframe tbody tr th {\n",
       "        vertical-align: top;\n",
       "    }\n",
       "\n",
       "    .dataframe thead th {\n",
       "        text-align: right;\n",
       "    }\n",
       "</style>\n",
       "<table border=\"1\" class=\"dataframe\">\n",
       "  <thead>\n",
       "    <tr style=\"text-align: right;\">\n",
       "      <th></th>\n",
       "      <th>date_crawled</th>\n",
       "      <th>price</th>\n",
       "      <th>vehicle_type</th>\n",
       "      <th>registration_year</th>\n",
       "      <th>gearbox</th>\n",
       "      <th>power</th>\n",
       "      <th>model</th>\n",
       "      <th>kilometer</th>\n",
       "      <th>registration_month</th>\n",
       "      <th>fuel_type</th>\n",
       "      <th>brand</th>\n",
       "      <th>not_repaired</th>\n",
       "      <th>date_created</th>\n",
       "      <th>number_of_pictures</th>\n",
       "      <th>postal_code</th>\n",
       "      <th>last_seen</th>\n",
       "    </tr>\n",
       "  </thead>\n",
       "  <tbody>\n",
       "    <tr>\n",
       "      <th>8</th>\n",
       "      <td>2016-03-17 10:53:50</td>\n",
       "      <td>999</td>\n",
       "      <td>small</td>\n",
       "      <td>1998</td>\n",
       "      <td>manual</td>\n",
       "      <td>101</td>\n",
       "      <td>golf</td>\n",
       "      <td>150000</td>\n",
       "      <td>0</td>\n",
       "      <td>NaN</td>\n",
       "      <td>volkswagen</td>\n",
       "      <td>NaN</td>\n",
       "      <td>2016-03-17</td>\n",
       "      <td>0</td>\n",
       "      <td>27472</td>\n",
       "      <td>2016-03-31 17:17:06</td>\n",
       "    </tr>\n",
       "    <tr>\n",
       "      <th>12</th>\n",
       "      <td>2016-03-21 21:37:40</td>\n",
       "      <td>2500</td>\n",
       "      <td>wagon</td>\n",
       "      <td>2004</td>\n",
       "      <td>manual</td>\n",
       "      <td>131</td>\n",
       "      <td>passat</td>\n",
       "      <td>150000</td>\n",
       "      <td>2</td>\n",
       "      <td>NaN</td>\n",
       "      <td>volkswagen</td>\n",
       "      <td>no</td>\n",
       "      <td>2016-03-21</td>\n",
       "      <td>0</td>\n",
       "      <td>90762</td>\n",
       "      <td>2016-03-23 02:50:54</td>\n",
       "    </tr>\n",
       "    <tr>\n",
       "      <th>23</th>\n",
       "      <td>2016-03-10 19:38:18</td>\n",
       "      <td>5555</td>\n",
       "      <td>no info</td>\n",
       "      <td>2017</td>\n",
       "      <td>manual</td>\n",
       "      <td>125</td>\n",
       "      <td>c4</td>\n",
       "      <td>125000</td>\n",
       "      <td>4</td>\n",
       "      <td>NaN</td>\n",
       "      <td>citroen</td>\n",
       "      <td>no</td>\n",
       "      <td>2016-03-10</td>\n",
       "      <td>0</td>\n",
       "      <td>31139</td>\n",
       "      <td>2016-03-16 09:16:46</td>\n",
       "    </tr>\n",
       "    <tr>\n",
       "      <th>32</th>\n",
       "      <td>2016-03-11 11:50:37</td>\n",
       "      <td>1600</td>\n",
       "      <td>other</td>\n",
       "      <td>1991</td>\n",
       "      <td>manual</td>\n",
       "      <td>75</td>\n",
       "      <td>kadett</td>\n",
       "      <td>70000</td>\n",
       "      <td>0</td>\n",
       "      <td>NaN</td>\n",
       "      <td>opel</td>\n",
       "      <td>NaN</td>\n",
       "      <td>2016-03-11</td>\n",
       "      <td>0</td>\n",
       "      <td>2943</td>\n",
       "      <td>2016-04-07 03:46:09</td>\n",
       "    </tr>\n",
       "    <tr>\n",
       "      <th>35</th>\n",
       "      <td>2016-03-30 20:38:20</td>\n",
       "      <td>7500</td>\n",
       "      <td>sedan</td>\n",
       "      <td>2002</td>\n",
       "      <td>auto</td>\n",
       "      <td>306</td>\n",
       "      <td>e_klasse</td>\n",
       "      <td>150000</td>\n",
       "      <td>4</td>\n",
       "      <td>NaN</td>\n",
       "      <td>mercedes_benz</td>\n",
       "      <td>NaN</td>\n",
       "      <td>2016-03-30</td>\n",
       "      <td>0</td>\n",
       "      <td>33649</td>\n",
       "      <td>2016-04-03 11:44:49</td>\n",
       "    </tr>\n",
       "    <tr>\n",
       "      <th>46</th>\n",
       "      <td>2016-04-04 10:57:36</td>\n",
       "      <td>1400</td>\n",
       "      <td>no info</td>\n",
       "      <td>2016</td>\n",
       "      <td>manual</td>\n",
       "      <td>55</td>\n",
       "      <td>other</td>\n",
       "      <td>5000</td>\n",
       "      <td>1</td>\n",
       "      <td>NaN</td>\n",
       "      <td>hyundai</td>\n",
       "      <td>NaN</td>\n",
       "      <td>2016-04-04</td>\n",
       "      <td>0</td>\n",
       "      <td>34454</td>\n",
       "      <td>2016-04-06 12:45:43</td>\n",
       "    </tr>\n",
       "    <tr>\n",
       "      <th>48</th>\n",
       "      <td>2016-03-17 07:56:40</td>\n",
       "      <td>4700</td>\n",
       "      <td>wagon</td>\n",
       "      <td>2005</td>\n",
       "      <td>manual</td>\n",
       "      <td>0</td>\n",
       "      <td>signum</td>\n",
       "      <td>150000</td>\n",
       "      <td>0</td>\n",
       "      <td>NaN</td>\n",
       "      <td>opel</td>\n",
       "      <td>no</td>\n",
       "      <td>2016-03-17</td>\n",
       "      <td>0</td>\n",
       "      <td>88433</td>\n",
       "      <td>2016-04-04 04:17:32</td>\n",
       "    </tr>\n",
       "    <tr>\n",
       "      <th>51</th>\n",
       "      <td>2016-03-10 20:53:19</td>\n",
       "      <td>2399</td>\n",
       "      <td>no info</td>\n",
       "      <td>2018</td>\n",
       "      <td>manual</td>\n",
       "      <td>64</td>\n",
       "      <td>other</td>\n",
       "      <td>125000</td>\n",
       "      <td>3</td>\n",
       "      <td>NaN</td>\n",
       "      <td>seat</td>\n",
       "      <td>no</td>\n",
       "      <td>2016-03-10</td>\n",
       "      <td>0</td>\n",
       "      <td>33397</td>\n",
       "      <td>2016-03-25 10:17:37</td>\n",
       "    </tr>\n",
       "    <tr>\n",
       "      <th>58</th>\n",
       "      <td>2016-03-28 17:41:27</td>\n",
       "      <td>10900</td>\n",
       "      <td>no info</td>\n",
       "      <td>2017</td>\n",
       "      <td>manual</td>\n",
       "      <td>101</td>\n",
       "      <td>astra</td>\n",
       "      <td>50000</td>\n",
       "      <td>3</td>\n",
       "      <td>NaN</td>\n",
       "      <td>opel</td>\n",
       "      <td>no</td>\n",
       "      <td>2016-03-28</td>\n",
       "      <td>0</td>\n",
       "      <td>63607</td>\n",
       "      <td>2016-04-06 23:15:52</td>\n",
       "    </tr>\n",
       "    <tr>\n",
       "      <th>63</th>\n",
       "      <td>2016-03-07 08:55:18</td>\n",
       "      <td>2300</td>\n",
       "      <td>no info</td>\n",
       "      <td>1997</td>\n",
       "      <td>manual</td>\n",
       "      <td>150</td>\n",
       "      <td>5er</td>\n",
       "      <td>150000</td>\n",
       "      <td>3</td>\n",
       "      <td>NaN</td>\n",
       "      <td>bmw</td>\n",
       "      <td>no</td>\n",
       "      <td>2016-03-07</td>\n",
       "      <td>0</td>\n",
       "      <td>79341</td>\n",
       "      <td>2016-03-22 05:15:22</td>\n",
       "    </tr>\n",
       "  </tbody>\n",
       "</table>\n",
       "</div>"
      ],
      "text/plain": [
       "          date_crawled  price vehicle_type  registration_year gearbox  power  \\\n",
       "8  2016-03-17 10:53:50    999        small               1998  manual    101   \n",
       "12 2016-03-21 21:37:40   2500        wagon               2004  manual    131   \n",
       "23 2016-03-10 19:38:18   5555      no info               2017  manual    125   \n",
       "32 2016-03-11 11:50:37   1600        other               1991  manual     75   \n",
       "35 2016-03-30 20:38:20   7500        sedan               2002    auto    306   \n",
       "46 2016-04-04 10:57:36   1400      no info               2016  manual     55   \n",
       "48 2016-03-17 07:56:40   4700        wagon               2005  manual      0   \n",
       "51 2016-03-10 20:53:19   2399      no info               2018  manual     64   \n",
       "58 2016-03-28 17:41:27  10900      no info               2017  manual    101   \n",
       "63 2016-03-07 08:55:18   2300      no info               1997  manual    150   \n",
       "\n",
       "       model  kilometer  registration_month fuel_type          brand  \\\n",
       "8       golf     150000                   0       NaN     volkswagen   \n",
       "12    passat     150000                   2       NaN     volkswagen   \n",
       "23        c4     125000                   4       NaN        citroen   \n",
       "32    kadett      70000                   0       NaN           opel   \n",
       "35  e_klasse     150000                   4       NaN  mercedes_benz   \n",
       "46     other       5000                   1       NaN        hyundai   \n",
       "48    signum     150000                   0       NaN           opel   \n",
       "51     other     125000                   3       NaN           seat   \n",
       "58     astra      50000                   3       NaN           opel   \n",
       "63       5er     150000                   3       NaN            bmw   \n",
       "\n",
       "   not_repaired date_created  number_of_pictures  postal_code  \\\n",
       "8           NaN   2016-03-17                   0        27472   \n",
       "12           no   2016-03-21                   0        90762   \n",
       "23           no   2016-03-10                   0        31139   \n",
       "32          NaN   2016-03-11                   0         2943   \n",
       "35          NaN   2016-03-30                   0        33649   \n",
       "46          NaN   2016-04-04                   0        34454   \n",
       "48           no   2016-03-17                   0        88433   \n",
       "51           no   2016-03-10                   0        33397   \n",
       "58           no   2016-03-28                   0        63607   \n",
       "63           no   2016-03-07                   0        79341   \n",
       "\n",
       "             last_seen  \n",
       "8  2016-03-31 17:17:06  \n",
       "12 2016-03-23 02:50:54  \n",
       "23 2016-03-16 09:16:46  \n",
       "32 2016-04-07 03:46:09  \n",
       "35 2016-04-03 11:44:49  \n",
       "46 2016-04-06 12:45:43  \n",
       "48 2016-04-04 04:17:32  \n",
       "51 2016-03-25 10:17:37  \n",
       "58 2016-04-06 23:15:52  \n",
       "63 2016-03-22 05:15:22  "
      ]
     },
     "execution_count": 22,
     "metadata": {},
     "output_type": "execute_result"
    }
   ],
   "source": [
    "# вывод строк с пустыми значениями в колонке\n",
    "df[df['fuel_type'].isnull()].head(10)"
   ]
  },
  {
   "cell_type": "markdown",
   "metadata": {},
   "source": [
    "Поскольку однозначно определить по данным таблицы тип двигателя в строках с пропущенными значениями нельзя, при этом вес таких значений в выборке высок (более 6%), заменим пропуски пометкой no info."
   ]
  },
  {
   "cell_type": "code",
   "execution_count": 23,
   "metadata": {},
   "outputs": [],
   "source": [
    "# заполнение пропусков пометкой no info\n",
    "df['fuel_type'] = df['fuel_type'].fillna('no info')"
   ]
  },
  {
   "cell_type": "markdown",
   "metadata": {},
   "source": [
    "Проверим результат."
   ]
  },
  {
   "cell_type": "code",
   "execution_count": 24,
   "metadata": {
    "scrolled": true
   },
   "outputs": [
    {
     "data": {
      "text/html": [
       "<div>\n",
       "<style scoped>\n",
       "    .dataframe tbody tr th:only-of-type {\n",
       "        vertical-align: middle;\n",
       "    }\n",
       "\n",
       "    .dataframe tbody tr th {\n",
       "        vertical-align: top;\n",
       "    }\n",
       "\n",
       "    .dataframe thead th {\n",
       "        text-align: right;\n",
       "    }\n",
       "</style>\n",
       "<table border=\"1\" class=\"dataframe\">\n",
       "  <thead>\n",
       "    <tr style=\"text-align: right;\">\n",
       "      <th></th>\n",
       "      <th>date_crawled</th>\n",
       "      <th>price</th>\n",
       "      <th>vehicle_type</th>\n",
       "      <th>registration_year</th>\n",
       "      <th>gearbox</th>\n",
       "      <th>power</th>\n",
       "      <th>model</th>\n",
       "      <th>kilometer</th>\n",
       "      <th>registration_month</th>\n",
       "      <th>fuel_type</th>\n",
       "      <th>brand</th>\n",
       "      <th>not_repaired</th>\n",
       "      <th>date_created</th>\n",
       "      <th>number_of_pictures</th>\n",
       "      <th>postal_code</th>\n",
       "      <th>last_seen</th>\n",
       "    </tr>\n",
       "  </thead>\n",
       "  <tbody>\n",
       "  </tbody>\n",
       "</table>\n",
       "</div>"
      ],
      "text/plain": [
       "Empty DataFrame\n",
       "Columns: [date_crawled, price, vehicle_type, registration_year, gearbox, power, model, kilometer, registration_month, fuel_type, brand, not_repaired, date_created, number_of_pictures, postal_code, last_seen]\n",
       "Index: []"
      ]
     },
     "execution_count": 24,
     "metadata": {},
     "output_type": "execute_result"
    }
   ],
   "source": [
    "# вывод строк с пустыми значениями в колонке\n",
    "df[df['fuel_type'].isnull()] "
   ]
  },
  {
   "cell_type": "markdown",
   "metadata": {},
   "source": [
    "Пропущенных значений не осталось, заполнение произведено корректно."
   ]
  },
  {
   "cell_type": "markdown",
   "metadata": {},
   "source": [
    "**not_repaired**"
   ]
  },
  {
   "cell_type": "code",
   "execution_count": 25,
   "metadata": {},
   "outputs": [
    {
     "data": {
      "text/html": [
       "<div>\n",
       "<style scoped>\n",
       "    .dataframe tbody tr th:only-of-type {\n",
       "        vertical-align: middle;\n",
       "    }\n",
       "\n",
       "    .dataframe tbody tr th {\n",
       "        vertical-align: top;\n",
       "    }\n",
       "\n",
       "    .dataframe thead th {\n",
       "        text-align: right;\n",
       "    }\n",
       "</style>\n",
       "<table border=\"1\" class=\"dataframe\">\n",
       "  <thead>\n",
       "    <tr style=\"text-align: right;\">\n",
       "      <th></th>\n",
       "      <th>date_crawled</th>\n",
       "      <th>price</th>\n",
       "      <th>vehicle_type</th>\n",
       "      <th>registration_year</th>\n",
       "      <th>gearbox</th>\n",
       "      <th>power</th>\n",
       "      <th>model</th>\n",
       "      <th>kilometer</th>\n",
       "      <th>registration_month</th>\n",
       "      <th>fuel_type</th>\n",
       "      <th>brand</th>\n",
       "      <th>not_repaired</th>\n",
       "      <th>date_created</th>\n",
       "      <th>number_of_pictures</th>\n",
       "      <th>postal_code</th>\n",
       "      <th>last_seen</th>\n",
       "    </tr>\n",
       "  </thead>\n",
       "  <tbody>\n",
       "    <tr>\n",
       "      <th>0</th>\n",
       "      <td>2016-03-24 11:52:17</td>\n",
       "      <td>480</td>\n",
       "      <td>no info</td>\n",
       "      <td>1993</td>\n",
       "      <td>manual</td>\n",
       "      <td>0</td>\n",
       "      <td>golf</td>\n",
       "      <td>150000</td>\n",
       "      <td>0</td>\n",
       "      <td>petrol</td>\n",
       "      <td>volkswagen</td>\n",
       "      <td>NaN</td>\n",
       "      <td>2016-03-24</td>\n",
       "      <td>0</td>\n",
       "      <td>70435</td>\n",
       "      <td>2016-04-07 03:16:57</td>\n",
       "    </tr>\n",
       "    <tr>\n",
       "      <th>1</th>\n",
       "      <td>2016-03-14 12:52:21</td>\n",
       "      <td>9800</td>\n",
       "      <td>suv</td>\n",
       "      <td>2004</td>\n",
       "      <td>auto</td>\n",
       "      <td>163</td>\n",
       "      <td>grand</td>\n",
       "      <td>125000</td>\n",
       "      <td>8</td>\n",
       "      <td>gasoline</td>\n",
       "      <td>jeep</td>\n",
       "      <td>NaN</td>\n",
       "      <td>2016-03-14</td>\n",
       "      <td>0</td>\n",
       "      <td>90480</td>\n",
       "      <td>2016-04-05 12:47:46</td>\n",
       "    </tr>\n",
       "    <tr>\n",
       "      <th>7</th>\n",
       "      <td>2016-04-04 23:42:13</td>\n",
       "      <td>14500</td>\n",
       "      <td>bus</td>\n",
       "      <td>2014</td>\n",
       "      <td>manual</td>\n",
       "      <td>125</td>\n",
       "      <td>c_max</td>\n",
       "      <td>30000</td>\n",
       "      <td>8</td>\n",
       "      <td>petrol</td>\n",
       "      <td>ford</td>\n",
       "      <td>NaN</td>\n",
       "      <td>2016-04-04</td>\n",
       "      <td>0</td>\n",
       "      <td>94505</td>\n",
       "      <td>2016-04-04 23:42:13</td>\n",
       "    </tr>\n",
       "    <tr>\n",
       "      <th>8</th>\n",
       "      <td>2016-03-17 10:53:50</td>\n",
       "      <td>999</td>\n",
       "      <td>small</td>\n",
       "      <td>1998</td>\n",
       "      <td>manual</td>\n",
       "      <td>101</td>\n",
       "      <td>golf</td>\n",
       "      <td>150000</td>\n",
       "      <td>0</td>\n",
       "      <td>no info</td>\n",
       "      <td>volkswagen</td>\n",
       "      <td>NaN</td>\n",
       "      <td>2016-03-17</td>\n",
       "      <td>0</td>\n",
       "      <td>27472</td>\n",
       "      <td>2016-03-31 17:17:06</td>\n",
       "    </tr>\n",
       "    <tr>\n",
       "      <th>11</th>\n",
       "      <td>2016-03-15 22:49:09</td>\n",
       "      <td>999</td>\n",
       "      <td>wagon</td>\n",
       "      <td>1995</td>\n",
       "      <td>manual</td>\n",
       "      <td>115</td>\n",
       "      <td>passat</td>\n",
       "      <td>150000</td>\n",
       "      <td>11</td>\n",
       "      <td>petrol</td>\n",
       "      <td>volkswagen</td>\n",
       "      <td>NaN</td>\n",
       "      <td>2016-03-15</td>\n",
       "      <td>0</td>\n",
       "      <td>37269</td>\n",
       "      <td>2016-04-01 13:16:16</td>\n",
       "    </tr>\n",
       "    <tr>\n",
       "      <th>28</th>\n",
       "      <td>2016-03-29 16:57:02</td>\n",
       "      <td>899</td>\n",
       "      <td>no info</td>\n",
       "      <td>2016</td>\n",
       "      <td>manual</td>\n",
       "      <td>60</td>\n",
       "      <td>clio</td>\n",
       "      <td>150000</td>\n",
       "      <td>6</td>\n",
       "      <td>petrol</td>\n",
       "      <td>renault</td>\n",
       "      <td>NaN</td>\n",
       "      <td>2016-03-29</td>\n",
       "      <td>0</td>\n",
       "      <td>37075</td>\n",
       "      <td>2016-03-29 17:43:07</td>\n",
       "    </tr>\n",
       "    <tr>\n",
       "      <th>32</th>\n",
       "      <td>2016-03-11 11:50:37</td>\n",
       "      <td>1600</td>\n",
       "      <td>other</td>\n",
       "      <td>1991</td>\n",
       "      <td>manual</td>\n",
       "      <td>75</td>\n",
       "      <td>kadett</td>\n",
       "      <td>70000</td>\n",
       "      <td>0</td>\n",
       "      <td>no info</td>\n",
       "      <td>opel</td>\n",
       "      <td>NaN</td>\n",
       "      <td>2016-03-11</td>\n",
       "      <td>0</td>\n",
       "      <td>2943</td>\n",
       "      <td>2016-04-07 03:46:09</td>\n",
       "    </tr>\n",
       "    <tr>\n",
       "      <th>35</th>\n",
       "      <td>2016-03-30 20:38:20</td>\n",
       "      <td>7500</td>\n",
       "      <td>sedan</td>\n",
       "      <td>2002</td>\n",
       "      <td>auto</td>\n",
       "      <td>306</td>\n",
       "      <td>e_klasse</td>\n",
       "      <td>150000</td>\n",
       "      <td>4</td>\n",
       "      <td>no info</td>\n",
       "      <td>mercedes_benz</td>\n",
       "      <td>NaN</td>\n",
       "      <td>2016-03-30</td>\n",
       "      <td>0</td>\n",
       "      <td>33649</td>\n",
       "      <td>2016-04-03 11:44:49</td>\n",
       "    </tr>\n",
       "    <tr>\n",
       "      <th>36</th>\n",
       "      <td>2016-03-24 00:52:09</td>\n",
       "      <td>12500</td>\n",
       "      <td>sedan</td>\n",
       "      <td>2006</td>\n",
       "      <td>auto</td>\n",
       "      <td>231</td>\n",
       "      <td>5er</td>\n",
       "      <td>150000</td>\n",
       "      <td>11</td>\n",
       "      <td>gasoline</td>\n",
       "      <td>bmw</td>\n",
       "      <td>NaN</td>\n",
       "      <td>2016-03-23</td>\n",
       "      <td>0</td>\n",
       "      <td>46119</td>\n",
       "      <td>2016-04-04 16:18:19</td>\n",
       "    </tr>\n",
       "    <tr>\n",
       "      <th>38</th>\n",
       "      <td>2016-03-17 12:44:43</td>\n",
       "      <td>3900</td>\n",
       "      <td>small</td>\n",
       "      <td>2008</td>\n",
       "      <td>auto</td>\n",
       "      <td>61</td>\n",
       "      <td>fortwo</td>\n",
       "      <td>80000</td>\n",
       "      <td>6</td>\n",
       "      <td>petrol</td>\n",
       "      <td>smart</td>\n",
       "      <td>NaN</td>\n",
       "      <td>2016-03-17</td>\n",
       "      <td>0</td>\n",
       "      <td>21073</td>\n",
       "      <td>2016-03-19 11:46:17</td>\n",
       "    </tr>\n",
       "  </tbody>\n",
       "</table>\n",
       "</div>"
      ],
      "text/plain": [
       "          date_crawled  price vehicle_type  registration_year gearbox  power  \\\n",
       "0  2016-03-24 11:52:17    480      no info               1993  manual      0   \n",
       "1  2016-03-14 12:52:21   9800          suv               2004    auto    163   \n",
       "7  2016-04-04 23:42:13  14500          bus               2014  manual    125   \n",
       "8  2016-03-17 10:53:50    999        small               1998  manual    101   \n",
       "11 2016-03-15 22:49:09    999        wagon               1995  manual    115   \n",
       "28 2016-03-29 16:57:02    899      no info               2016  manual     60   \n",
       "32 2016-03-11 11:50:37   1600        other               1991  manual     75   \n",
       "35 2016-03-30 20:38:20   7500        sedan               2002    auto    306   \n",
       "36 2016-03-24 00:52:09  12500        sedan               2006    auto    231   \n",
       "38 2016-03-17 12:44:43   3900        small               2008    auto     61   \n",
       "\n",
       "       model  kilometer  registration_month fuel_type          brand  \\\n",
       "0       golf     150000                   0    petrol     volkswagen   \n",
       "1      grand     125000                   8  gasoline           jeep   \n",
       "7      c_max      30000                   8    petrol           ford   \n",
       "8       golf     150000                   0   no info     volkswagen   \n",
       "11    passat     150000                  11    petrol     volkswagen   \n",
       "28      clio     150000                   6    petrol        renault   \n",
       "32    kadett      70000                   0   no info           opel   \n",
       "35  e_klasse     150000                   4   no info  mercedes_benz   \n",
       "36       5er     150000                  11  gasoline            bmw   \n",
       "38    fortwo      80000                   6    petrol          smart   \n",
       "\n",
       "   not_repaired date_created  number_of_pictures  postal_code  \\\n",
       "0           NaN   2016-03-24                   0        70435   \n",
       "1           NaN   2016-03-14                   0        90480   \n",
       "7           NaN   2016-04-04                   0        94505   \n",
       "8           NaN   2016-03-17                   0        27472   \n",
       "11          NaN   2016-03-15                   0        37269   \n",
       "28          NaN   2016-03-29                   0        37075   \n",
       "32          NaN   2016-03-11                   0         2943   \n",
       "35          NaN   2016-03-30                   0        33649   \n",
       "36          NaN   2016-03-23                   0        46119   \n",
       "38          NaN   2016-03-17                   0        21073   \n",
       "\n",
       "             last_seen  \n",
       "0  2016-04-07 03:16:57  \n",
       "1  2016-04-05 12:47:46  \n",
       "7  2016-04-04 23:42:13  \n",
       "8  2016-03-31 17:17:06  \n",
       "11 2016-04-01 13:16:16  \n",
       "28 2016-03-29 17:43:07  \n",
       "32 2016-04-07 03:46:09  \n",
       "35 2016-04-03 11:44:49  \n",
       "36 2016-04-04 16:18:19  \n",
       "38 2016-03-19 11:46:17  "
      ]
     },
     "execution_count": 25,
     "metadata": {},
     "output_type": "execute_result"
    }
   ],
   "source": [
    "# вывод строк с пустыми значениями в колонке\n",
    "df[df['not_repaired'].isnull()].head(10)"
   ]
  },
  {
   "cell_type": "markdown",
   "metadata": {},
   "source": [
    "Поскольку однозначно определить по данным таблицы, ремонтировался ли автомобиль, в строках с пропущенными значениями нельзя, при этом вес таких значений в выборке высок (более 6%), заменим пропуски пометкой no info."
   ]
  },
  {
   "cell_type": "code",
   "execution_count": 26,
   "metadata": {},
   "outputs": [],
   "source": [
    "# заполнение пропусков пометкой no info\n",
    "df['not_repaired'] = df['not_repaired'].fillna('no info')"
   ]
  },
  {
   "cell_type": "markdown",
   "metadata": {},
   "source": [
    "Проверим результат."
   ]
  },
  {
   "cell_type": "code",
   "execution_count": 27,
   "metadata": {},
   "outputs": [
    {
     "data": {
      "text/html": [
       "<div>\n",
       "<style scoped>\n",
       "    .dataframe tbody tr th:only-of-type {\n",
       "        vertical-align: middle;\n",
       "    }\n",
       "\n",
       "    .dataframe tbody tr th {\n",
       "        vertical-align: top;\n",
       "    }\n",
       "\n",
       "    .dataframe thead th {\n",
       "        text-align: right;\n",
       "    }\n",
       "</style>\n",
       "<table border=\"1\" class=\"dataframe\">\n",
       "  <thead>\n",
       "    <tr style=\"text-align: right;\">\n",
       "      <th></th>\n",
       "      <th>date_crawled</th>\n",
       "      <th>price</th>\n",
       "      <th>vehicle_type</th>\n",
       "      <th>registration_year</th>\n",
       "      <th>gearbox</th>\n",
       "      <th>power</th>\n",
       "      <th>model</th>\n",
       "      <th>kilometer</th>\n",
       "      <th>registration_month</th>\n",
       "      <th>fuel_type</th>\n",
       "      <th>brand</th>\n",
       "      <th>not_repaired</th>\n",
       "      <th>date_created</th>\n",
       "      <th>number_of_pictures</th>\n",
       "      <th>postal_code</th>\n",
       "      <th>last_seen</th>\n",
       "    </tr>\n",
       "  </thead>\n",
       "  <tbody>\n",
       "  </tbody>\n",
       "</table>\n",
       "</div>"
      ],
      "text/plain": [
       "Empty DataFrame\n",
       "Columns: [date_crawled, price, vehicle_type, registration_year, gearbox, power, model, kilometer, registration_month, fuel_type, brand, not_repaired, date_created, number_of_pictures, postal_code, last_seen]\n",
       "Index: []"
      ]
     },
     "execution_count": 27,
     "metadata": {},
     "output_type": "execute_result"
    }
   ],
   "source": [
    "# вывод строк с пустыми значениями в колонке\n",
    "df[df['fuel_type'].isnull()] "
   ]
  },
  {
   "cell_type": "markdown",
   "metadata": {},
   "source": [
    "Пропущенных значений не осталось, заполнение произведено корректно."
   ]
  },
  {
   "cell_type": "markdown",
   "metadata": {},
   "source": [
    "Оценим состояние выборки после обработки пропусков."
   ]
  },
  {
   "cell_type": "code",
   "execution_count": 28,
   "metadata": {
    "scrolled": false
   },
   "outputs": [
    {
     "name": "stdout",
     "output_type": "stream",
     "text": [
      "<class 'pandas.core.frame.DataFrame'>\n",
      "RangeIndex: 318958 entries, 0 to 318957\n",
      "Data columns (total 16 columns):\n",
      " #   Column              Non-Null Count   Dtype         \n",
      "---  ------              --------------   -----         \n",
      " 0   date_crawled        318958 non-null  datetime64[ns]\n",
      " 1   price               318958 non-null  int32         \n",
      " 2   vehicle_type        318958 non-null  object        \n",
      " 3   registration_year   318958 non-null  int32         \n",
      " 4   gearbox             318958 non-null  object        \n",
      " 5   power               318958 non-null  int32         \n",
      " 6   model               318958 non-null  object        \n",
      " 7   kilometer           318958 non-null  int32         \n",
      " 8   registration_month  318958 non-null  int32         \n",
      " 9   fuel_type           318958 non-null  object        \n",
      " 10  brand               318958 non-null  object        \n",
      " 11  not_repaired        318958 non-null  object        \n",
      " 12  date_created        318958 non-null  datetime64[ns]\n",
      " 13  number_of_pictures  318958 non-null  int32         \n",
      " 14  postal_code         318958 non-null  int32         \n",
      " 15  last_seen           318958 non-null  datetime64[ns]\n",
      "dtypes: datetime64[ns](3), int32(7), object(6)\n",
      "memory usage: 30.4+ MB\n"
     ]
    }
   ],
   "source": [
    "# вывоб общей информации о выборке\n",
    "df.info()"
   ]
  },
  {
   "cell_type": "markdown",
   "metadata": {},
   "source": [
    "Выборка сократилась на ~10%, пропусков нет."
   ]
  },
  {
   "cell_type": "markdown",
   "metadata": {},
   "source": [
    "### Очистка выборки от нерелевантных признаков"
   ]
  },
  {
   "cell_type": "markdown",
   "metadata": {},
   "source": [
    "Чтобы оставить в наборе признаков только релевантые числовые признаки для целевого признака \"Цена\", оценим корреляцию числовых признаков и целевого признака в выборке."
   ]
  },
  {
   "cell_type": "code",
   "execution_count": 29,
   "metadata": {
    "scrolled": true
   },
   "outputs": [
    {
     "data": {
      "text/html": [
       "<div>\n",
       "<style scoped>\n",
       "    .dataframe tbody tr th:only-of-type {\n",
       "        vertical-align: middle;\n",
       "    }\n",
       "\n",
       "    .dataframe tbody tr th {\n",
       "        vertical-align: top;\n",
       "    }\n",
       "\n",
       "    .dataframe thead th {\n",
       "        text-align: right;\n",
       "    }\n",
       "</style>\n",
       "<table border=\"1\" class=\"dataframe\">\n",
       "  <thead>\n",
       "    <tr style=\"text-align: right;\">\n",
       "      <th></th>\n",
       "      <th>price</th>\n",
       "      <th>registration_year</th>\n",
       "      <th>power</th>\n",
       "      <th>kilometer</th>\n",
       "      <th>registration_month</th>\n",
       "      <th>number_of_pictures</th>\n",
       "      <th>postal_code</th>\n",
       "    </tr>\n",
       "  </thead>\n",
       "  <tbody>\n",
       "    <tr>\n",
       "      <th>price</th>\n",
       "      <td>1.00</td>\n",
       "      <td>0.10</td>\n",
       "      <td>0.15</td>\n",
       "      <td>-0.38</td>\n",
       "      <td>0.08</td>\n",
       "      <td>NaN</td>\n",
       "      <td>0.07</td>\n",
       "    </tr>\n",
       "    <tr>\n",
       "      <th>registration_year</th>\n",
       "      <td>0.10</td>\n",
       "      <td>1.00</td>\n",
       "      <td>0.01</td>\n",
       "      <td>-0.08</td>\n",
       "      <td>0.00</td>\n",
       "      <td>NaN</td>\n",
       "      <td>0.00</td>\n",
       "    </tr>\n",
       "    <tr>\n",
       "      <th>power</th>\n",
       "      <td>0.15</td>\n",
       "      <td>0.01</td>\n",
       "      <td>1.00</td>\n",
       "      <td>0.02</td>\n",
       "      <td>0.03</td>\n",
       "      <td>NaN</td>\n",
       "      <td>0.02</td>\n",
       "    </tr>\n",
       "    <tr>\n",
       "      <th>kilometer</th>\n",
       "      <td>-0.38</td>\n",
       "      <td>-0.08</td>\n",
       "      <td>0.02</td>\n",
       "      <td>1.00</td>\n",
       "      <td>-0.01</td>\n",
       "      <td>NaN</td>\n",
       "      <td>-0.01</td>\n",
       "    </tr>\n",
       "    <tr>\n",
       "      <th>registration_month</th>\n",
       "      <td>0.08</td>\n",
       "      <td>0.00</td>\n",
       "      <td>0.03</td>\n",
       "      <td>-0.01</td>\n",
       "      <td>1.00</td>\n",
       "      <td>NaN</td>\n",
       "      <td>0.01</td>\n",
       "    </tr>\n",
       "    <tr>\n",
       "      <th>number_of_pictures</th>\n",
       "      <td>NaN</td>\n",
       "      <td>NaN</td>\n",
       "      <td>NaN</td>\n",
       "      <td>NaN</td>\n",
       "      <td>NaN</td>\n",
       "      <td>NaN</td>\n",
       "      <td>NaN</td>\n",
       "    </tr>\n",
       "    <tr>\n",
       "      <th>postal_code</th>\n",
       "      <td>0.07</td>\n",
       "      <td>0.00</td>\n",
       "      <td>0.02</td>\n",
       "      <td>-0.01</td>\n",
       "      <td>0.01</td>\n",
       "      <td>NaN</td>\n",
       "      <td>1.00</td>\n",
       "    </tr>\n",
       "  </tbody>\n",
       "</table>\n",
       "</div>"
      ],
      "text/plain": [
       "                    price  registration_year  power  kilometer  \\\n",
       "price                1.00               0.10   0.15      -0.38   \n",
       "registration_year    0.10               1.00   0.01      -0.08   \n",
       "power                0.15               0.01   1.00       0.02   \n",
       "kilometer           -0.38              -0.08   0.02       1.00   \n",
       "registration_month   0.08               0.00   0.03      -0.01   \n",
       "number_of_pictures    NaN                NaN    NaN        NaN   \n",
       "postal_code          0.07               0.00   0.02      -0.01   \n",
       "\n",
       "                    registration_month  number_of_pictures  postal_code  \n",
       "price                             0.08                 NaN         0.07  \n",
       "registration_year                 0.00                 NaN         0.00  \n",
       "power                             0.03                 NaN         0.02  \n",
       "kilometer                        -0.01                 NaN        -0.01  \n",
       "registration_month                1.00                 NaN         0.01  \n",
       "number_of_pictures                 NaN                 NaN          NaN  \n",
       "postal_code                       0.01                 NaN         1.00  "
      ]
     },
     "execution_count": 29,
     "metadata": {},
     "output_type": "execute_result"
    }
   ],
   "source": [
    "# снятие ограничения на количество отображаемых строк\n",
    "pd.set_option('display.max_rows', None)\n",
    "# расчет корреляции между признаками\n",
    "df.corr().round(2)"
   ]
  },
  {
   "cell_type": "markdown",
   "metadata": {},
   "source": [
    "По итогу расчета корреляции колонки number_of_picture, postal_code и registration_month\tмогут быть удалены как колонки со слабой корреляцией.\n",
    "\n",
    "Логично также предположить, что колонки с датами date_crawled, date_created и last_seen не имеют взаимосвязи с ценой, поэтому их также можно удалить.\n",
    "\n",
    "Сформируем итоговый датасет для дальнейшей работы."
   ]
  },
  {
   "cell_type": "code",
   "execution_count": 30,
   "metadata": {
    "scrolled": true
   },
   "outputs": [
    {
     "data": {
      "text/plain": [
       "Index(['date_crawled', 'price', 'vehicle_type', 'registration_year', 'gearbox',\n",
       "       'power', 'model', 'kilometer', 'registration_month', 'fuel_type',\n",
       "       'brand', 'not_repaired', 'date_created', 'number_of_pictures',\n",
       "       'postal_code', 'last_seen'],\n",
       "      dtype='object')"
      ]
     },
     "execution_count": 30,
     "metadata": {},
     "output_type": "execute_result"
    }
   ],
   "source": [
    "df.columns"
   ]
  },
  {
   "cell_type": "code",
   "execution_count": 31,
   "metadata": {
    "scrolled": true
   },
   "outputs": [
    {
     "data": {
      "text/html": [
       "<div>\n",
       "<style scoped>\n",
       "    .dataframe tbody tr th:only-of-type {\n",
       "        vertical-align: middle;\n",
       "    }\n",
       "\n",
       "    .dataframe tbody tr th {\n",
       "        vertical-align: top;\n",
       "    }\n",
       "\n",
       "    .dataframe thead th {\n",
       "        text-align: right;\n",
       "    }\n",
       "</style>\n",
       "<table border=\"1\" class=\"dataframe\">\n",
       "  <thead>\n",
       "    <tr style=\"text-align: right;\">\n",
       "      <th></th>\n",
       "      <th>price</th>\n",
       "      <th>vehicle_type</th>\n",
       "      <th>registration_year</th>\n",
       "      <th>gearbox</th>\n",
       "      <th>power</th>\n",
       "      <th>model</th>\n",
       "      <th>kilometer</th>\n",
       "      <th>fuel_type</th>\n",
       "      <th>brand</th>\n",
       "      <th>not_repaired</th>\n",
       "    </tr>\n",
       "  </thead>\n",
       "  <tbody>\n",
       "    <tr>\n",
       "      <th>0</th>\n",
       "      <td>480</td>\n",
       "      <td>no info</td>\n",
       "      <td>1993</td>\n",
       "      <td>manual</td>\n",
       "      <td>0</td>\n",
       "      <td>golf</td>\n",
       "      <td>150000</td>\n",
       "      <td>petrol</td>\n",
       "      <td>volkswagen</td>\n",
       "      <td>no info</td>\n",
       "    </tr>\n",
       "    <tr>\n",
       "      <th>1</th>\n",
       "      <td>9800</td>\n",
       "      <td>suv</td>\n",
       "      <td>2004</td>\n",
       "      <td>auto</td>\n",
       "      <td>163</td>\n",
       "      <td>grand</td>\n",
       "      <td>125000</td>\n",
       "      <td>gasoline</td>\n",
       "      <td>jeep</td>\n",
       "      <td>no info</td>\n",
       "    </tr>\n",
       "    <tr>\n",
       "      <th>2</th>\n",
       "      <td>1500</td>\n",
       "      <td>small</td>\n",
       "      <td>2001</td>\n",
       "      <td>manual</td>\n",
       "      <td>75</td>\n",
       "      <td>golf</td>\n",
       "      <td>150000</td>\n",
       "      <td>petrol</td>\n",
       "      <td>volkswagen</td>\n",
       "      <td>no</td>\n",
       "    </tr>\n",
       "    <tr>\n",
       "      <th>3</th>\n",
       "      <td>3600</td>\n",
       "      <td>small</td>\n",
       "      <td>2008</td>\n",
       "      <td>manual</td>\n",
       "      <td>69</td>\n",
       "      <td>fabia</td>\n",
       "      <td>90000</td>\n",
       "      <td>gasoline</td>\n",
       "      <td>skoda</td>\n",
       "      <td>no</td>\n",
       "    </tr>\n",
       "    <tr>\n",
       "      <th>4</th>\n",
       "      <td>650</td>\n",
       "      <td>sedan</td>\n",
       "      <td>1995</td>\n",
       "      <td>manual</td>\n",
       "      <td>102</td>\n",
       "      <td>3er</td>\n",
       "      <td>150000</td>\n",
       "      <td>petrol</td>\n",
       "      <td>bmw</td>\n",
       "      <td>yes</td>\n",
       "    </tr>\n",
       "  </tbody>\n",
       "</table>\n",
       "</div>"
      ],
      "text/plain": [
       "   price vehicle_type  registration_year gearbox  power  model  kilometer  \\\n",
       "0    480      no info               1993  manual      0   golf     150000   \n",
       "1   9800          suv               2004    auto    163  grand     125000   \n",
       "2   1500        small               2001  manual     75   golf     150000   \n",
       "3   3600        small               2008  manual     69  fabia      90000   \n",
       "4    650        sedan               1995  manual    102    3er     150000   \n",
       "\n",
       "  fuel_type       brand not_repaired  \n",
       "0    petrol  volkswagen      no info  \n",
       "1  gasoline        jeep      no info  \n",
       "2    petrol  volkswagen           no  \n",
       "3  gasoline       skoda           no  \n",
       "4    petrol         bmw          yes  "
      ]
     },
     "execution_count": 31,
     "metadata": {},
     "output_type": "execute_result"
    }
   ],
   "source": [
    "# формирование выборки с нужными колонками\n",
    "df_fin = df[\n",
    "    ['price',\n",
    "     'vehicle_type',\n",
    "     'registration_year',\n",
    "     'gearbox',\n",
    "     'power',\n",
    "     'model',\n",
    "     'kilometer',\n",
    "     'fuel_type',\n",
    "     'brand',\n",
    "     'not_repaired']\n",
    "     ]\n",
    "# проверка результата\n",
    "df_fin.head()"
   ]
  },
  {
   "cell_type": "code",
   "execution_count": 32,
   "metadata": {
    "scrolled": true
   },
   "outputs": [
    {
     "name": "stdout",
     "output_type": "stream",
     "text": [
      "<class 'pandas.core.frame.DataFrame'>\n",
      "RangeIndex: 318958 entries, 0 to 318957\n",
      "Data columns (total 10 columns):\n",
      " #   Column             Non-Null Count   Dtype \n",
      "---  ------             --------------   ----- \n",
      " 0   price              318958 non-null  int32 \n",
      " 1   vehicle_type       318958 non-null  object\n",
      " 2   registration_year  318958 non-null  int32 \n",
      " 3   gearbox            318958 non-null  object\n",
      " 4   power              318958 non-null  int32 \n",
      " 5   model              318958 non-null  object\n",
      " 6   kilometer          318958 non-null  int32 \n",
      " 7   fuel_type          318958 non-null  object\n",
      " 8   brand              318958 non-null  object\n",
      " 9   not_repaired       318958 non-null  object\n",
      "dtypes: int32(4), object(6)\n",
      "memory usage: 19.5+ MB\n"
     ]
    }
   ],
   "source": [
    "# проверка результата\n",
    "df_fin.info()"
   ]
  },
  {
   "cell_type": "markdown",
   "metadata": {},
   "source": [
    "Итоговая выборка содержит 10 колонок (9 признаков и 1 целевой признак), 318958 строк. 4 колонки с числовыми данными, 6 колонок с категориальными."
   ]
  },
  {
   "cell_type": "markdown",
   "metadata": {},
   "source": [
    "### Адекватность данных и выбросы"
   ]
  },
  {
   "cell_type": "markdown",
   "metadata": {},
   "source": [
    "Проверим колонки итоговой выборки на адекватность данных и выбросы."
   ]
  },
  {
   "cell_type": "markdown",
   "metadata": {},
   "source": [
    "**Числовые колонки price, registration_year, power, kilometer**"
   ]
  },
  {
   "cell_type": "code",
   "execution_count": 33,
   "metadata": {
    "scrolled": true
   },
   "outputs": [
    {
     "data": {
      "text/html": [
       "<div>\n",
       "<style scoped>\n",
       "    .dataframe tbody tr th:only-of-type {\n",
       "        vertical-align: middle;\n",
       "    }\n",
       "\n",
       "    .dataframe tbody tr th {\n",
       "        vertical-align: top;\n",
       "    }\n",
       "\n",
       "    .dataframe thead th {\n",
       "        text-align: right;\n",
       "    }\n",
       "</style>\n",
       "<table border=\"1\" class=\"dataframe\">\n",
       "  <thead>\n",
       "    <tr style=\"text-align: right;\">\n",
       "      <th></th>\n",
       "      <th>price</th>\n",
       "      <th>registration_year</th>\n",
       "      <th>power</th>\n",
       "      <th>kilometer</th>\n",
       "    </tr>\n",
       "  </thead>\n",
       "  <tbody>\n",
       "    <tr>\n",
       "      <th>count</th>\n",
       "      <td>318958.00</td>\n",
       "      <td>318958.00</td>\n",
       "      <td>318958.00</td>\n",
       "      <td>318958.00</td>\n",
       "    </tr>\n",
       "    <tr>\n",
       "      <th>mean</th>\n",
       "      <td>4608.91</td>\n",
       "      <td>2003.43</td>\n",
       "      <td>114.97</td>\n",
       "      <td>128844.74</td>\n",
       "    </tr>\n",
       "    <tr>\n",
       "      <th>std</th>\n",
       "      <td>4564.24</td>\n",
       "      <td>30.52</td>\n",
       "      <td>185.63</td>\n",
       "      <td>36620.68</td>\n",
       "    </tr>\n",
       "    <tr>\n",
       "      <th>min</th>\n",
       "      <td>0.00</td>\n",
       "      <td>1000.00</td>\n",
       "      <td>0.00</td>\n",
       "      <td>5000.00</td>\n",
       "    </tr>\n",
       "    <tr>\n",
       "      <th>25%</th>\n",
       "      <td>1200.00</td>\n",
       "      <td>1999.00</td>\n",
       "      <td>75.00</td>\n",
       "      <td>125000.00</td>\n",
       "    </tr>\n",
       "    <tr>\n",
       "      <th>50%</th>\n",
       "      <td>2900.00</td>\n",
       "      <td>2003.00</td>\n",
       "      <td>105.00</td>\n",
       "      <td>150000.00</td>\n",
       "    </tr>\n",
       "    <tr>\n",
       "      <th>75%</th>\n",
       "      <td>6700.00</td>\n",
       "      <td>2008.00</td>\n",
       "      <td>143.00</td>\n",
       "      <td>150000.00</td>\n",
       "    </tr>\n",
       "    <tr>\n",
       "      <th>max</th>\n",
       "      <td>20000.00</td>\n",
       "      <td>9000.00</td>\n",
       "      <td>20000.00</td>\n",
       "      <td>150000.00</td>\n",
       "    </tr>\n",
       "  </tbody>\n",
       "</table>\n",
       "</div>"
      ],
      "text/plain": [
       "           price  registration_year      power  kilometer\n",
       "count  318958.00          318958.00  318958.00  318958.00\n",
       "mean     4608.91            2003.43     114.97  128844.74\n",
       "std      4564.24              30.52     185.63   36620.68\n",
       "min         0.00            1000.00       0.00    5000.00\n",
       "25%      1200.00            1999.00      75.00  125000.00\n",
       "50%      2900.00            2003.00     105.00  150000.00\n",
       "75%      6700.00            2008.00     143.00  150000.00\n",
       "max     20000.00            9000.00   20000.00  150000.00"
      ]
     },
     "execution_count": 33,
     "metadata": {},
     "output_type": "execute_result"
    }
   ],
   "source": [
    "# вывод статистики по значениям в числовых колонках выборки\n",
    "df_fin.describe().round(2)"
   ]
  },
  {
   "cell_type": "markdown",
   "metadata": {},
   "source": [
    "Построим диаграмму размаха для оценки выбросов."
   ]
  },
  {
   "cell_type": "code",
   "execution_count": 34,
   "metadata": {
    "scrolled": false
   },
   "outputs": [
    {
     "data": {
      "image/png": "[encoded data removed]",
      "text/plain": [
       "<Figure size 504x360 with 1 Axes>"
      ]
     },
     "metadata": {
      "needs_background": "light"
     },
     "output_type": "display_data"
    }
   ],
   "source": [
    "# построение диаграммы размаха\n",
    "df_fin[['price', 'registration_year', 'power', 'kilometer']].boxplot(figsize=(7, 5))\n",
    "plt.suptitle('Разброс значений price')\n",
    "plt.title(None)\n",
    "plt.xlabel('Признак'), plt.ylabel('Значения')\n",
    "plt.xticks(rotation=90)\n",
    "plt.show()"
   ]
  },
  {
   "cell_type": "markdown",
   "metadata": {},
   "source": [
    "**price**"
   ]
  },
  {
   "cell_type": "markdown",
   "metadata": {},
   "source": [
    "Поскольку признак price является целевым, удалим из выборки строки с экстремально низкими значениями в колонке price как строки с высокой вероятностью ошибки в данных по цене во избежание искажений при последующем обучении и предсказании."
   ]
  },
  {
   "cell_type": "code",
   "execution_count": 35,
   "metadata": {
    "scrolled": true
   },
   "outputs": [],
   "source": [
    "# удаление из выборки строк со значениями price менее 29 евро\n",
    "df_fin = df_fin.loc[df_fin['price'] > 29]"
   ]
  },
  {
   "cell_type": "code",
   "execution_count": 36,
   "metadata": {
    "scrolled": true
   },
   "outputs": [
    {
     "data": {
      "text/html": [
       "<div>\n",
       "<style scoped>\n",
       "    .dataframe tbody tr th:only-of-type {\n",
       "        vertical-align: middle;\n",
       "    }\n",
       "\n",
       "    .dataframe tbody tr th {\n",
       "        vertical-align: top;\n",
       "    }\n",
       "\n",
       "    .dataframe thead th {\n",
       "        text-align: right;\n",
       "    }\n",
       "</style>\n",
       "<table border=\"1\" class=\"dataframe\">\n",
       "  <thead>\n",
       "    <tr style=\"text-align: right;\">\n",
       "      <th></th>\n",
       "      <th>price</th>\n",
       "      <th>registration_year</th>\n",
       "      <th>power</th>\n",
       "      <th>kilometer</th>\n",
       "    </tr>\n",
       "  </thead>\n",
       "  <tbody>\n",
       "    <tr>\n",
       "      <th>count</th>\n",
       "      <td>310993.00</td>\n",
       "      <td>310993.00</td>\n",
       "      <td>310993.00</td>\n",
       "      <td>310993.00</td>\n",
       "    </tr>\n",
       "    <tr>\n",
       "      <th>mean</th>\n",
       "      <td>4726.94</td>\n",
       "      <td>2003.44</td>\n",
       "      <td>115.32</td>\n",
       "      <td>128766.64</td>\n",
       "    </tr>\n",
       "    <tr>\n",
       "      <th>std</th>\n",
       "      <td>4561.57</td>\n",
       "      <td>25.06</td>\n",
       "      <td>183.23</td>\n",
       "      <td>36524.04</td>\n",
       "    </tr>\n",
       "    <tr>\n",
       "      <th>min</th>\n",
       "      <td>30.00</td>\n",
       "      <td>1000.00</td>\n",
       "      <td>0.00</td>\n",
       "      <td>5000.00</td>\n",
       "    </tr>\n",
       "    <tr>\n",
       "      <th>25%</th>\n",
       "      <td>1299.00</td>\n",
       "      <td>1999.00</td>\n",
       "      <td>75.00</td>\n",
       "      <td>125000.00</td>\n",
       "    </tr>\n",
       "    <tr>\n",
       "      <th>50%</th>\n",
       "      <td>2999.00</td>\n",
       "      <td>2003.00</td>\n",
       "      <td>105.00</td>\n",
       "      <td>150000.00</td>\n",
       "    </tr>\n",
       "    <tr>\n",
       "      <th>75%</th>\n",
       "      <td>6850.00</td>\n",
       "      <td>2008.00</td>\n",
       "      <td>143.00</td>\n",
       "      <td>150000.00</td>\n",
       "    </tr>\n",
       "    <tr>\n",
       "      <th>max</th>\n",
       "      <td>20000.00</td>\n",
       "      <td>8200.00</td>\n",
       "      <td>20000.00</td>\n",
       "      <td>150000.00</td>\n",
       "    </tr>\n",
       "  </tbody>\n",
       "</table>\n",
       "</div>"
      ],
      "text/plain": [
       "           price  registration_year      power  kilometer\n",
       "count  310993.00          310993.00  310993.00  310993.00\n",
       "mean     4726.94            2003.44     115.32  128766.64\n",
       "std      4561.57              25.06     183.23   36524.04\n",
       "min        30.00            1000.00       0.00    5000.00\n",
       "25%      1299.00            1999.00      75.00  125000.00\n",
       "50%      2999.00            2003.00     105.00  150000.00\n",
       "75%      6850.00            2008.00     143.00  150000.00\n",
       "max     20000.00            8200.00   20000.00  150000.00"
      ]
     },
     "execution_count": 36,
     "metadata": {},
     "output_type": "execute_result"
    }
   ],
   "source": [
    "# вывод статистики по значениям в колонке price\n",
    "df_fin.describe().round(2)"
   ]
  },
  {
   "cell_type": "markdown",
   "metadata": {},
   "source": [
    "После удаления экстремально низких цен минимальное значение price равно 30, максимальное 20 000, среднее 4726, медиана 2999. Не будем удалять выбросы справа, т.к. нет оснований предполагать, что цена автомобиля не может быть 20 000 евро."
   ]
  },
  {
   "cell_type": "markdown",
   "metadata": {},
   "source": [
    "**registration_year**"
   ]
  },
  {
   "cell_type": "markdown",
   "metadata": {},
   "source": [
    "Выведем значения столбца для визуальной оценки наличия ошибок в данных."
   ]
  },
  {
   "cell_type": "code",
   "execution_count": 37,
   "metadata": {
    "scrolled": true
   },
   "outputs": [
    {
     "data": {
      "text/plain": [
       "array([1993, 2004, 2001, 2008, 1995, 2014, 1998, 2005, 2011, 2007, 2009,\n",
       "       2002, 2018, 1997, 1990, 2017, 1981, 2003, 2016, 1991, 1984, 2006,\n",
       "       1999, 2012, 2010, 2000, 1992, 2013, 1994, 1996, 1989, 2015, 1985,\n",
       "       1982, 1983, 1973, 1969, 1971, 1987, 1988, 1980, 1986, 1965, 1970,\n",
       "       1945, 1974, 1955, 1978, 1976, 1979, 1972, 1977, 1966, 1975, 1968,\n",
       "       1963, 1961, 1967, 1960, 1500, 1964, 1910, 2019, 1937, 1951, 1953,\n",
       "       1954, 1959, 1958, 1956, 2900, 5911, 1962, 1400, 1950, 4000, 1932,\n",
       "       1952, 3700, 5000, 1942, 1957, 1923, 1930, 1929, 1943, 1938, 1934,\n",
       "       1935, 1936, 1000, 6000, 1928, 1931, 4500, 1602, 1927, 7100, 1933,\n",
       "       8200, 1947, 1600], dtype=int32)"
      ]
     },
     "execution_count": 37,
     "metadata": {},
     "output_type": "execute_result"
    }
   ],
   "source": [
    "# вывод уникальных значений столбца\n",
    "df_fin['registration_year'].unique()"
   ]
  },
  {
   "cell_type": "markdown",
   "metadata": {},
   "source": [
    "Отсортируем Series для удобства."
   ]
  },
  {
   "cell_type": "code",
   "execution_count": 38,
   "metadata": {
    "scrolled": true
   },
   "outputs": [
    {
     "data": {
      "text/plain": [
       "90     1000\n",
       "73     1400\n",
       "59     1500\n",
       "101    1600\n",
       "95     1602\n",
       "61     1910\n",
       "82     1923\n",
       "96     1927\n",
       "92     1928\n",
       "84     1929\n",
       "83     1930\n",
       "93     1931\n",
       "76     1932\n",
       "98     1933\n",
       "87     1934\n",
       "88     1935\n",
       "89     1936\n",
       "63     1937\n",
       "86     1938\n",
       "80     1942\n",
       "85     1943\n",
       "44     1945\n",
       "100    1947\n",
       "74     1950\n",
       "64     1951\n",
       "77     1952\n",
       "65     1953\n",
       "66     1954\n",
       "46     1955\n",
       "69     1956\n",
       "81     1957\n",
       "68     1958\n",
       "67     1959\n",
       "58     1960\n",
       "56     1961\n",
       "72     1962\n",
       "55     1963\n",
       "60     1964\n",
       "42     1965\n",
       "52     1966\n",
       "57     1967\n",
       "54     1968\n",
       "36     1969\n",
       "43     1970\n",
       "37     1971\n",
       "50     1972\n",
       "35     1973\n",
       "45     1974\n",
       "53     1975\n",
       "48     1976\n",
       "51     1977\n",
       "47     1978\n",
       "49     1979\n",
       "40     1980\n",
       "16     1981\n",
       "33     1982\n",
       "34     1983\n",
       "20     1984\n",
       "32     1985\n",
       "41     1986\n",
       "38     1987\n",
       "39     1988\n",
       "30     1989\n",
       "14     1990\n",
       "19     1991\n",
       "26     1992\n",
       "0      1993\n",
       "28     1994\n",
       "4      1995\n",
       "29     1996\n",
       "13     1997\n",
       "6      1998\n",
       "22     1999\n",
       "25     2000\n",
       "2      2001\n",
       "11     2002\n",
       "17     2003\n",
       "1      2004\n",
       "7      2005\n",
       "21     2006\n",
       "9      2007\n",
       "3      2008\n",
       "10     2009\n",
       "24     2010\n",
       "8      2011\n",
       "23     2012\n",
       "27     2013\n",
       "5      2014\n",
       "31     2015\n",
       "18     2016\n",
       "15     2017\n",
       "12     2018\n",
       "62     2019\n",
       "70     2900\n",
       "78     3700\n",
       "75     4000\n",
       "94     4500\n",
       "79     5000\n",
       "71     5911\n",
       "91     6000\n",
       "97     7100\n",
       "99     8200\n",
       "dtype: int32"
      ]
     },
     "execution_count": 38,
     "metadata": {},
     "output_type": "execute_result"
    }
   ],
   "source": [
    "# сортировка значений колонки registration_year\n",
    "s = pd.Series(df_fin['registration_year'].unique())\n",
    "s.sort_values()"
   ]
  },
  {
   "cell_type": "markdown",
   "metadata": {},
   "source": [
    "Избавимся от выбросов в данных - удалим строки с годами до 1930 и после 2019."
   ]
  },
  {
   "cell_type": "code",
   "execution_count": 39,
   "metadata": {},
   "outputs": [],
   "source": [
    "# удаление из выбросов\n",
    "df_fin = df_fin.loc[df_fin['registration_year'] > 1929]\n",
    "df_fin = df_fin.loc[df_fin['registration_year'] < 2020]"
   ]
  },
  {
   "cell_type": "markdown",
   "metadata": {},
   "source": [
    "Проверим результат."
   ]
  },
  {
   "cell_type": "code",
   "execution_count": 40,
   "metadata": {},
   "outputs": [
    {
     "data": {
      "text/plain": [
       "array([1993, 2004, 2001, 2008, 1995, 2014, 1998, 2005, 2011, 2007, 2009,\n",
       "       2002, 2018, 1997, 1990, 2017, 1981, 2003, 2016, 1991, 1984, 2006,\n",
       "       1999, 2012, 2010, 2000, 1992, 2013, 1994, 1996, 1989, 2015, 1985,\n",
       "       1982, 1983, 1973, 1969, 1971, 1987, 1988, 1980, 1986, 1965, 1970,\n",
       "       1945, 1974, 1955, 1978, 1976, 1979, 1972, 1977, 1966, 1975, 1968,\n",
       "       1963, 1961, 1967, 1960, 1964, 2019, 1937, 1951, 1953, 1954, 1959,\n",
       "       1958, 1956, 1962, 1950, 1932, 1952, 1942, 1957, 1930, 1943, 1938,\n",
       "       1934, 1935, 1936, 1931, 1933, 1947], dtype=int32)"
      ]
     },
     "execution_count": 40,
     "metadata": {},
     "output_type": "execute_result"
    }
   ],
   "source": [
    "# вывод уникальных значений столбца\n",
    "df_fin['registration_year'].unique()"
   ]
  },
  {
   "cell_type": "markdown",
   "metadata": {},
   "source": [
    "В выборке остались строки без выбросов."
   ]
  },
  {
   "cell_type": "markdown",
   "metadata": {},
   "source": [
    "**power**"
   ]
  },
  {
   "cell_type": "markdown",
   "metadata": {},
   "source": [
    "Выведем значения столбца для визуальной оценки наличия ошибок в данных."
   ]
  },
  {
   "cell_type": "code",
   "execution_count": 41,
   "metadata": {
    "scrolled": true
   },
   "outputs": [
    {
     "data": {
      "text/plain": [
       "0          0\n",
       "291        1\n",
       "242        2\n",
       "659        3\n",
       "330        4\n",
       "334        5\n",
       "432        6\n",
       "354        7\n",
       "351        8\n",
       "347        9\n",
       "319       10\n",
       "321       11\n",
       "325       12\n",
       "349       13\n",
       "301       14\n",
       "262       15\n",
       "209       16\n",
       "335       17\n",
       "255       18\n",
       "361       19\n",
       "318       20\n",
       "287       21\n",
       "274       22\n",
       "139       23\n",
       "341       24\n",
       "323       25\n",
       "190       26\n",
       "315       27\n",
       "500       28\n",
       "298       29\n",
       "188       30\n",
       "447       31\n",
       "405       32\n",
       "149       33\n",
       "241       34\n",
       "225       35\n",
       "476       36\n",
       "175       37\n",
       "299       38\n",
       "118       39\n",
       "200       40\n",
       "71        41\n",
       "276       42\n",
       "125       43\n",
       "104       44\n",
       "68        45\n",
       "215       46\n",
       "189       47\n",
       "158       48\n",
       "328       49\n",
       "17        50\n",
       "120       51\n",
       "88        52\n",
       "123       53\n",
       "55        54\n",
       "33        55\n",
       "75        56\n",
       "182       57\n",
       "78        58\n",
       "114       59\n",
       "21        60\n",
       "29        61\n",
       "258       62\n",
       "101       63\n",
       "35        64\n",
       "90        65\n",
       "86        66\n",
       "127       67\n",
       "95        68\n",
       "3         69\n",
       "26        70\n",
       "92        71\n",
       "132       72\n",
       "84        73\n",
       "87        74\n",
       "2         75\n",
       "201       76\n",
       "51        77\n",
       "196       78\n",
       "162       79\n",
       "31        80\n",
       "102       81\n",
       "39        82\n",
       "105       83\n",
       "45        84\n",
       "83        85\n",
       "44        86\n",
       "42        87\n",
       "61        88\n",
       "198       89\n",
       "16        90\n",
       "197       91\n",
       "119       92\n",
       "204       93\n",
       "184       94\n",
       "28        95\n",
       "142       96\n",
       "93        97\n",
       "70        98\n",
       "20        99\n",
       "81       100\n",
       "7        101\n",
       "4        102\n",
       "98       103\n",
       "109      104\n",
       "8        105\n",
       "128      106\n",
       "79       107\n",
       "168      108\n",
       "5        109\n",
       "52       110\n",
       "135      111\n",
       "178      112\n",
       "22       113\n",
       "73       114\n",
       "10       115\n",
       "57       116\n",
       "112      117\n",
       "18       118\n",
       "269      119\n",
       "54       120\n",
       "169      121\n",
       "24       122\n",
       "232      123\n",
       "148      124\n",
       "6        125\n",
       "59       126\n",
       "219      127\n",
       "146      128\n",
       "25       129\n",
       "72       130\n",
       "11       131\n",
       "115      132\n",
       "147      133\n",
       "249      134\n",
       "121      135\n",
       "13       136\n",
       "183      137\n",
       "140      138\n",
       "160      139\n",
       "9        140\n",
       "113      141\n",
       "205      142\n",
       "34       143\n",
       "53       144\n",
       "106      145\n",
       "126      146\n",
       "89       147\n",
       "103      148\n",
       "234      149\n",
       "37       150\n",
       "202      151\n",
       "210      152\n",
       "396      153\n",
       "233      154\n",
       "40       155\n",
       "38       156\n",
       "275      157\n",
       "117      158\n",
       "355      159\n",
       "14       160\n",
       "221      161\n",
       "245      162\n",
       "1        163\n",
       "208      164\n",
       "69       165\n",
       "129      166\n",
       "152      167\n",
       "252      168\n",
       "238      169\n",
       "32       170\n",
       "195      171\n",
       "181      172\n",
       "191      173\n",
       "80       174\n",
       "141      175\n",
       "220      176\n",
       "30       177\n",
       "49       178\n",
       "65       179\n",
       "43       180\n",
       "268      181\n",
       "153      182\n",
       "260      183\n",
       "58       184\n",
       "41       185\n",
       "161      186\n",
       "170      187\n",
       "110      188\n",
       "285      189\n",
       "12       190\n",
       "389      191\n",
       "85       192\n",
       "19       193\n",
       "62       194\n",
       "277      195\n",
       "154      196\n",
       "64       197\n",
       "173      198\n",
       "207      199\n",
       "48       200\n",
       "76       201\n",
       "373      202\n",
       "96       203\n",
       "60       204\n",
       "194      205\n",
       "226      206\n",
       "193      207\n",
       "213      208\n",
       "124      209\n",
       "214      210\n",
       "74       211\n",
       "185      212\n",
       "77       213\n",
       "362      214\n",
       "253      215\n",
       "302      216\n",
       "316      217\n",
       "23       218\n",
       "150      219\n",
       "82       220\n",
       "337      221\n",
       "172      222\n",
       "230      223\n",
       "46       224\n",
       "218      225\n",
       "143      226\n",
       "313      227\n",
       "157      228\n",
       "611      229\n",
       "122      230\n",
       "15       231\n",
       "36       232\n",
       "177      233\n",
       "116      234\n",
       "47       235\n",
       "365      236\n",
       "133      237\n",
       "155      238\n",
       "94       239\n",
       "212      240\n",
       "151      241\n",
       "243      242\n",
       "164      243\n",
       "576      244\n",
       "134      245\n",
       "333      246\n",
       "251      247\n",
       "520      248\n",
       "284      249\n",
       "66       250\n",
       "469      251\n",
       "165      252\n",
       "309      253\n",
       "261      254\n",
       "231      255\n",
       "163      256\n",
       "393      257\n",
       "99       258\n",
       "339      259\n",
       "108      260\n",
       "308      261\n",
       "452      262\n",
       "273      264\n",
       "50       265\n",
       "345      266\n",
       "305      267\n",
       "236      268\n",
       "380      269\n",
       "293      270\n",
       "281      271\n",
       "159      272\n",
       "229      273\n",
       "412      274\n",
       "240      275\n",
       "130      276\n",
       "417      277\n",
       "390      278\n",
       "138      279\n",
       "107      280\n",
       "401      281\n",
       "366      282\n",
       "457      283\n",
       "174      284\n",
       "248      285\n",
       "56       286\n",
       "360      287\n",
       "397      288\n",
       "171      289\n",
       "192      290\n",
       "294      292\n",
       "623      293\n",
       "331      294\n",
       "395      295\n",
       "327      296\n",
       "326      298\n",
       "136      299\n",
       "97       300\n",
       "144      301\n",
       "297      303\n",
       "440      304\n",
       "63       305\n",
       "27       306\n",
       "223      307\n",
       "513      308\n",
       "278      309\n",
       "91       310\n",
       "314      311\n",
       "67       313\n",
       "187      314\n",
       "264      315\n",
       "385      316\n",
       "504      317\n",
       "497      318\n",
       "100      320\n",
       "263      321\n",
       "493      322\n",
       "569      323\n",
       "510      324\n",
       "259      325\n",
       "137      326\n",
       "342      327\n",
       "266      328\n",
       "247      329\n",
       "256      330\n",
       "306      331\n",
       "509      332\n",
       "111      333\n",
       "145      334\n",
       "371      335\n",
       "560      336\n",
       "471      337\n",
       "424      338\n",
       "551      339\n",
       "167      340\n",
       "419      341\n",
       "206      343\n",
       "131      344\n",
       "581      345\n",
       "631      346\n",
       "180      347\n",
       "442      348\n",
       "199      349\n",
       "317      350\n",
       "527      351\n",
       "458      352\n",
       "455      353\n",
       "224      354\n",
       "228      355\n",
       "619      356\n",
       "547      357\n",
       "448      358\n",
       "254      360\n",
       "552      361\n",
       "519      362\n",
       "307      363\n",
       "620      364\n",
       "618      365\n",
       "211      367\n",
       "523      368\n",
       "427      370\n",
       "436      371\n",
       "346      374\n",
       "312      376\n",
       "651      377\n",
       "272      379\n",
       "392      380\n",
       "280      381\n",
       "495      382\n",
       "368      385\n",
       "404      386\n",
       "179      387\n",
       "367      388\n",
       "441      390\n",
       "421      392\n",
       "324      394\n",
       "166      396\n",
       "528      398\n",
       "577      399\n",
       "239      400\n",
       "283      401\n",
       "348      405\n",
       "446      408\n",
       "532      409\n",
       "352      411\n",
       "562      416\n",
       "250      420\n",
       "647      421\n",
       "512      425\n",
       "270      426\n",
       "438      428\n",
       "408      430\n",
       "433      431\n",
       "216      435\n",
       "282      440\n",
       "425      445\n",
       "394      449\n",
       "176      450\n",
       "555      454\n",
       "364      457\n",
       "546      459\n",
       "381      460\n",
       "515      475\n",
       "186      476\n",
       "475      487\n",
       "450      489\n",
       "456      490\n",
       "257      500\n",
       "304      504\n",
       "525      505\n",
       "279      507\n",
       "633      508\n",
       "498      510\n",
       "508      514\n",
       "296      515\n",
       "428      517\n",
       "477      519\n",
       "399      520\n",
       "290      521\n",
       "499      525\n",
       "600      540\n",
       "356      541\n",
       "585      544\n",
       "459      550\n",
       "635      551\n",
       "400      560\n",
       "575      572\n",
       "444      579\n",
       "445      580\n",
       "492      584\n",
       "454      585\n",
       "271      599\n",
       "267      600\n",
       "350      601\n",
       "222      603\n",
       "557      604\n",
       "340      606\n",
       "303      610\n",
       "483      612\n",
       "237      620\n",
       "517      640\n",
       "586      645\n",
       "658      650\n",
       "521      651\n",
       "411      671\n",
       "563      678\n",
       "502      685\n",
       "310      696\n",
       "472      700\n",
       "588      702\n",
       "505      703\n",
       "579      743\n",
       "376      750\n",
       "615      754\n",
       "227      771\n",
       "541      776\n",
       "628      800\n",
       "295      808\n",
       "470      850\n",
       "538      871\n",
       "353      900\n",
       "537      901\n",
       "572      902\n",
       "516      903\n",
       "587      907\n",
       "539      909\n",
       "613      923\n",
       "464      950\n",
       "265      952\n",
       "203      953\n",
       "627      998\n",
       "558      999\n",
       "369     1000\n",
       "217     1001\n",
       "592     1003\n",
       "652     1004\n",
       "638     1005\n",
       "554     1011\n",
       "644     1012\n",
       "578     1016\n",
       "596     1017\n",
       "565     1021\n",
       "377     1024\n",
       "494     1054\n",
       "414     1055\n",
       "322     1056\n",
       "375     1062\n",
       "625     1079\n",
       "363     1090\n",
       "629     1100\n",
       "418     1105\n",
       "416     1115\n",
       "614     1149\n",
       "501     1151\n",
       "570     1158\n",
       "609     1160\n",
       "548     1162\n",
       "434     1164\n",
       "545     1199\n",
       "406     1202\n",
       "580     1221\n",
       "420     1223\n",
       "533     1230\n",
       "607     1239\n",
       "288     1240\n",
       "657     1241\n",
       "568     1250\n",
       "636     1252\n",
       "574     1275\n",
       "413     1288\n",
       "622     1299\n",
       "391     1300\n",
       "462     1312\n",
       "496     1339\n",
       "372     1360\n",
       "584     1362\n",
       "491     1363\n",
       "338     1367\n",
       "608     1390\n",
       "597     1394\n",
       "156     1398\n",
       "388     1399\n",
       "542     1400\n",
       "449     1403\n",
       "410     1405\n",
       "641     1416\n",
       "593     1432\n",
       "603     1433\n",
       "409     1436\n",
       "403     1500\n",
       "437     1501\n",
       "606     1502\n",
       "645     1503\n",
       "484     1506\n",
       "526     1521\n",
       "656     1548\n",
       "540     1595\n",
       "344     1597\n",
       "489     1598\n",
       "466     1600\n",
       "336     1625\n",
       "649     1631\n",
       "398     1653\n",
       "329     1659\n",
       "626     1689\n",
       "642     1700\n",
       "604     1701\n",
       "443     1703\n",
       "289     1704\n",
       "640     1707\n",
       "246     1753\n",
       "506     1771\n",
       "244     1779\n",
       "382     1780\n",
       "482     1781\n",
       "610     1783\n",
       "617     1793\n",
       "379     1796\n",
       "653     1799\n",
       "387     1800\n",
       "566     1870\n",
       "536     1895\n",
       "550     1896\n",
       "292     1900\n",
       "426     1920\n",
       "632     1933\n",
       "463     1937\n",
       "423     1968\n",
       "591     1986\n",
       "599     1992\n",
       "300     1993\n",
       "590     1995\n",
       "530     1998\n",
       "320     1999\n",
       "518     2000\n",
       "386     2005\n",
       "654     2007\n",
       "571     2009\n",
       "407     2016\n",
       "343     2017\n",
       "601     2018\n",
       "488     2172\n",
       "473     2331\n",
       "582     2402\n",
       "478     2461\n",
       "655     2598\n",
       "286     2729\n",
       "474     2789\n",
       "605     2792\n",
       "522     2799\n",
       "460     3199\n",
       "467     3454\n",
       "639     3500\n",
       "374     3750\n",
       "429     4400\n",
       "648     4507\n",
       "465     4700\n",
       "370     5411\n",
       "616     5420\n",
       "451     5575\n",
       "485     5809\n",
       "480     5815\n",
       "487     5867\n",
       "479     6006\n",
       "514     6010\n",
       "503     6011\n",
       "564     6012\n",
       "481     6018\n",
       "511     6045\n",
       "573     6062\n",
       "415     6226\n",
       "553     6512\n",
       "332     6920\n",
       "461     7508\n",
       "621     7511\n",
       "357     7512\n",
       "235     7515\n",
       "650     7518\n",
       "637     7529\n",
       "359     7544\n",
       "535     8259\n",
       "422     8404\n",
       "643     8500\n",
       "529     9000\n",
       "612     9007\n",
       "595     9011\n",
       "630     9012\n",
       "594     9013\n",
       "646    10110\n",
       "358    10218\n",
       "531    10311\n",
       "311    10520\n",
       "431    10522\n",
       "430    10710\n",
       "544    11011\n",
       "602    11025\n",
       "435    11509\n",
       "378    11530\n",
       "439    11635\n",
       "383    12012\n",
       "402    12510\n",
       "589    12512\n",
       "556    13616\n",
       "567    13636\n",
       "507    15001\n",
       "598    15017\n",
       "486    15020\n",
       "549    15033\n",
       "583    16011\n",
       "634    16311\n",
       "559    16312\n",
       "524    17011\n",
       "534    17019\n",
       "490    17410\n",
       "543    17700\n",
       "384    17932\n",
       "468    19208\n",
       "453    19211\n",
       "624    19312\n",
       "561    20000\n",
       "dtype: int32"
      ]
     },
     "execution_count": 41,
     "metadata": {},
     "output_type": "execute_result"
    }
   ],
   "source": [
    "# вывод уникальных значений колонки power с сортировкой\n",
    "f = pd.Series(df_fin['power'].unique())\n",
    "f.sort_values()"
   ]
  },
  {
   "cell_type": "markdown",
   "metadata": {},
   "source": [
    "Избавимся от выбросов в данных - удалим строки с мощностью до 20 лс и более 2000 лс."
   ]
  },
  {
   "cell_type": "code",
   "execution_count": 42,
   "metadata": {},
   "outputs": [],
   "source": [
    "# удаление из выбросов\n",
    "df_fin = df_fin.loc[df_fin['power'] > 19]\n",
    "df_fin = df_fin.loc[df_fin['power'] < 2001]"
   ]
  },
  {
   "cell_type": "markdown",
   "metadata": {},
   "source": [
    "Проверим результат."
   ]
  },
  {
   "cell_type": "code",
   "execution_count": 43,
   "metadata": {
    "scrolled": true
   },
   "outputs": [
    {
     "data": {
      "text/plain": [
       "308      20\n",
       "280      21\n",
       "268      22\n",
       "138      23\n",
       "324      24\n",
       "311      25\n",
       "189      26\n",
       "305      27\n",
       "440      28\n",
       "290      29\n",
       "187      30\n",
       "405      31\n",
       "372      32\n",
       "148      33\n",
       "238      34\n",
       "223      35\n",
       "425      36\n",
       "174      37\n",
       "291      38\n",
       "117      39\n",
       "199      40\n",
       "70       41\n",
       "270      42\n",
       "124      43\n",
       "103      44\n",
       "67       45\n",
       "213      46\n",
       "188      47\n",
       "157      48\n",
       "315      49\n",
       "16       50\n",
       "119      51\n",
       "87       52\n",
       "122      53\n",
       "54       54\n",
       "32       55\n",
       "74       56\n",
       "181      57\n",
       "77       58\n",
       "113      59\n",
       "20       60\n",
       "28       61\n",
       "253      62\n",
       "100      63\n",
       "34       64\n",
       "89       65\n",
       "85       66\n",
       "126      67\n",
       "94       68\n",
       "2        69\n",
       "25       70\n",
       "91       71\n",
       "131      72\n",
       "83       73\n",
       "86       74\n",
       "1        75\n",
       "200      76\n",
       "50       77\n",
       "195      78\n",
       "161      79\n",
       "30       80\n",
       "101      81\n",
       "38       82\n",
       "104      83\n",
       "44       84\n",
       "82       85\n",
       "43       86\n",
       "41       87\n",
       "60       88\n",
       "197      89\n",
       "15       90\n",
       "196      91\n",
       "118      92\n",
       "203      93\n",
       "183      94\n",
       "27       95\n",
       "141      96\n",
       "92       97\n",
       "69       98\n",
       "19       99\n",
       "80      100\n",
       "6       101\n",
       "3       102\n",
       "97      103\n",
       "108     104\n",
       "7       105\n",
       "127     106\n",
       "78      107\n",
       "167     108\n",
       "4       109\n",
       "51      110\n",
       "134     111\n",
       "177     112\n",
       "21      113\n",
       "72      114\n",
       "9       115\n",
       "56      116\n",
       "111     117\n",
       "17      118\n",
       "263     119\n",
       "53      120\n",
       "168     121\n",
       "23      122\n",
       "230     123\n",
       "147     124\n",
       "5       125\n",
       "58      126\n",
       "217     127\n",
       "145     128\n",
       "24      129\n",
       "71      130\n",
       "10      131\n",
       "114     132\n",
       "146     133\n",
       "245     134\n",
       "120     135\n",
       "12      136\n",
       "182     137\n",
       "139     138\n",
       "159     139\n",
       "8       140\n",
       "112     141\n",
       "204     142\n",
       "33      143\n",
       "52      144\n",
       "105     145\n",
       "125     146\n",
       "88      147\n",
       "102     148\n",
       "232     149\n",
       "36      150\n",
       "201     151\n",
       "208     152\n",
       "364     153\n",
       "231     154\n",
       "39      155\n",
       "37      156\n",
       "269     157\n",
       "116     158\n",
       "333     159\n",
       "13      160\n",
       "219     161\n",
       "241     162\n",
       "0       163\n",
       "207     164\n",
       "68      165\n",
       "128     166\n",
       "151     167\n",
       "248     168\n",
       "235     169\n",
       "31      170\n",
       "194     171\n",
       "180     172\n",
       "190     173\n",
       "79      174\n",
       "140     175\n",
       "218     176\n",
       "29      177\n",
       "48      178\n",
       "64      179\n",
       "42      180\n",
       "262     181\n",
       "152     182\n",
       "255     183\n",
       "57      184\n",
       "40      185\n",
       "160     186\n",
       "169     187\n",
       "109     188\n",
       "279     189\n",
       "11      190\n",
       "357     191\n",
       "84      192\n",
       "18      193\n",
       "61      194\n",
       "271     195\n",
       "153     196\n",
       "63      197\n",
       "172     198\n",
       "206     199\n",
       "47      200\n",
       "75      201\n",
       "346     202\n",
       "95      203\n",
       "59      204\n",
       "193     205\n",
       "224     206\n",
       "192     207\n",
       "211     208\n",
       "123     209\n",
       "212     210\n",
       "73      211\n",
       "184     212\n",
       "76      213\n",
       "336     214\n",
       "249     215\n",
       "293     216\n",
       "306     217\n",
       "22      218\n",
       "149     219\n",
       "81      220\n",
       "320     221\n",
       "171     222\n",
       "228     223\n",
       "45      224\n",
       "216     225\n",
       "142     226\n",
       "303     227\n",
       "156     228\n",
       "521     229\n",
       "121     230\n",
       "14      231\n",
       "35      232\n",
       "176     233\n",
       "115     234\n",
       "46      235\n",
       "339     236\n",
       "132     237\n",
       "154     238\n",
       "93      239\n",
       "210     240\n",
       "150     241\n",
       "239     242\n",
       "163     243\n",
       "495     244\n",
       "133     245\n",
       "318     246\n",
       "247     247\n",
       "456     248\n",
       "278     249\n",
       "65      250\n",
       "420     251\n",
       "164     252\n",
       "300     253\n",
       "256     254\n",
       "229     255\n",
       "162     256\n",
       "361     257\n",
       "98      258\n",
       "322     259\n",
       "107     260\n",
       "299     261\n",
       "409     262\n",
       "267     264\n",
       "49      265\n",
       "327     266\n",
       "296     267\n",
       "233     268\n",
       "351     269\n",
       "285     270\n",
       "275     271\n",
       "158     272\n",
       "227     273\n",
       "378     274\n",
       "237     275\n",
       "129     276\n",
       "382     277\n",
       "358     278\n",
       "137     279\n",
       "106     280\n",
       "369     281\n",
       "340     282\n",
       "413     283\n",
       "173     284\n",
       "244     285\n",
       "55      286\n",
       "335     287\n",
       "365     288\n",
       "170     289\n",
       "191     290\n",
       "286     292\n",
       "530     293\n",
       "317     294\n",
       "363     295\n",
       "314     296\n",
       "313     298\n",
       "135     299\n",
       "96      300\n",
       "143     301\n",
       "289     303\n",
       "398     304\n",
       "62      305\n",
       "26      306\n",
       "221     307\n",
       "450     308\n",
       "272     309\n",
       "90      310\n",
       "304     311\n",
       "66      313\n",
       "186     314\n",
       "258     315\n",
       "354     316\n",
       "443     317\n",
       "437     318\n",
       "99      320\n",
       "257     321\n",
       "433     322\n",
       "490     323\n",
       "448     324\n",
       "254     325\n",
       "136     326\n",
       "325     327\n",
       "260     328\n",
       "243     329\n",
       "251     330\n",
       "297     331\n",
       "447     332\n",
       "110     333\n",
       "144     334\n",
       "344     335\n",
       "484     336\n",
       "422     337\n",
       "388     338\n",
       "478     339\n",
       "166     340\n",
       "384     341\n",
       "205     343\n",
       "130     344\n",
       "500     345\n",
       "536     346\n",
       "179     347\n",
       "400     348\n",
       "198     349\n",
       "307     350\n",
       "461     351\n",
       "414     352\n",
       "411     353\n",
       "222     354\n",
       "226     355\n",
       "527     356\n",
       "475     357\n",
       "406     358\n",
       "250     360\n",
       "479     361\n",
       "455     362\n",
       "298     363\n",
       "528     364\n",
       "526     365\n",
       "209     367\n",
       "458     368\n",
       "391     370\n",
       "395     371\n",
       "328     374\n",
       "302     376\n",
       "549     377\n",
       "266     379\n",
       "360     380\n",
       "274     381\n",
       "435     382\n",
       "342     385\n",
       "371     386\n",
       "178     387\n",
       "341     388\n",
       "399     390\n",
       "386     392\n",
       "312     394\n",
       "165     396\n",
       "462     398\n",
       "496     399\n",
       "236     400\n",
       "277     401\n",
       "329     405\n",
       "404     408\n",
       "464     409\n",
       "331     411\n",
       "485     416\n",
       "246     420\n",
       "547     421\n",
       "449     425\n",
       "264     426\n",
       "397     428\n",
       "374     430\n",
       "393     431\n",
       "214     435\n",
       "276     440\n",
       "389     445\n",
       "362     449\n",
       "175     450\n",
       "481     454\n",
       "338     457\n",
       "474     459\n",
       "352     460\n",
       "451     475\n",
       "185     476\n",
       "424     487\n",
       "408     489\n",
       "412     490\n",
       "252     500\n",
       "295     504\n",
       "459     505\n",
       "273     507\n",
       "538     508\n",
       "438     510\n",
       "446     514\n",
       "288     515\n",
       "392     517\n",
       "426     519\n",
       "367     520\n",
       "283     521\n",
       "439     525\n",
       "513     540\n",
       "334     541\n",
       "502     544\n",
       "415     550\n",
       "539     551\n",
       "368     560\n",
       "494     572\n",
       "402     579\n",
       "403     580\n",
       "432     584\n",
       "410     585\n",
       "265     599\n",
       "261     600\n",
       "330     601\n",
       "220     603\n",
       "482     604\n",
       "323     606\n",
       "294     610\n",
       "428     612\n",
       "234     620\n",
       "453     640\n",
       "503     645\n",
       "554     650\n",
       "457     651\n",
       "377     671\n",
       "486     678\n",
       "442     685\n",
       "301     696\n",
       "423     700\n",
       "505     702\n",
       "444     703\n",
       "498     743\n",
       "348     750\n",
       "524     754\n",
       "225     771\n",
       "471     776\n",
       "534     800\n",
       "287     808\n",
       "421     850\n",
       "468     871\n",
       "332     900\n",
       "467     901\n",
       "492     902\n",
       "452     903\n",
       "504     907\n",
       "469     909\n",
       "522     923\n",
       "418     950\n",
       "259     952\n",
       "202     953\n",
       "533     998\n",
       "483     999\n",
       "343    1000\n",
       "215    1001\n",
       "508    1003\n",
       "550    1004\n",
       "541    1005\n",
       "480    1011\n",
       "545    1012\n",
       "497    1016\n",
       "510    1017\n",
       "487    1021\n",
       "349    1024\n",
       "434    1054\n",
       "380    1055\n",
       "310    1056\n",
       "347    1062\n",
       "531    1079\n",
       "337    1090\n",
       "535    1100\n",
       "383    1105\n",
       "381    1115\n",
       "523    1149\n",
       "441    1151\n",
       "491    1158\n",
       "519    1160\n",
       "476    1162\n",
       "394    1164\n",
       "473    1199\n",
       "373    1202\n",
       "499    1221\n",
       "385    1223\n",
       "465    1230\n",
       "517    1239\n",
       "281    1240\n",
       "553    1241\n",
       "489    1250\n",
       "540    1252\n",
       "493    1275\n",
       "379    1288\n",
       "529    1299\n",
       "359    1300\n",
       "416    1312\n",
       "436    1339\n",
       "345    1360\n",
       "501    1362\n",
       "431    1363\n",
       "321    1367\n",
       "518    1390\n",
       "511    1394\n",
       "155    1398\n",
       "356    1399\n",
       "472    1400\n",
       "407    1403\n",
       "376    1405\n",
       "543    1416\n",
       "509    1432\n",
       "514    1433\n",
       "375    1436\n",
       "370    1500\n",
       "396    1501\n",
       "516    1502\n",
       "546    1503\n",
       "429    1506\n",
       "460    1521\n",
       "552    1548\n",
       "470    1595\n",
       "326    1597\n",
       "430    1598\n",
       "419    1600\n",
       "319    1625\n",
       "548    1631\n",
       "366    1653\n",
       "316    1659\n",
       "532    1689\n",
       "544    1700\n",
       "515    1701\n",
       "401    1703\n",
       "282    1704\n",
       "542    1707\n",
       "242    1753\n",
       "445    1771\n",
       "240    1779\n",
       "353    1780\n",
       "427    1781\n",
       "520    1783\n",
       "525    1793\n",
       "350    1796\n",
       "551    1799\n",
       "355    1800\n",
       "488    1870\n",
       "466    1895\n",
       "477    1896\n",
       "284    1900\n",
       "390    1920\n",
       "537    1933\n",
       "417    1937\n",
       "387    1968\n",
       "507    1986\n",
       "512    1992\n",
       "292    1993\n",
       "506    1995\n",
       "463    1998\n",
       "309    1999\n",
       "454    2000\n",
       "dtype: int32"
      ]
     },
     "execution_count": 43,
     "metadata": {},
     "output_type": "execute_result"
    }
   ],
   "source": [
    "# вывод уникальных значений колонки power с сортировкой\n",
    "f = pd.Series(df_fin['power'].unique())\n",
    "f.sort_values()"
   ]
  },
  {
   "cell_type": "markdown",
   "metadata": {},
   "source": [
    "В выборке остались строки без выбросов по мощности."
   ]
  },
  {
   "cell_type": "markdown",
   "metadata": {},
   "source": [
    "**kilometer**"
   ]
  },
  {
   "cell_type": "markdown",
   "metadata": {},
   "source": [
    "Значения в колонке kilometer распределены в диапазоне  5 000 - 150 000, оставим их без изменений, т.к. нет объективных оснований сомневаться в их достоверности."
   ]
  },
  {
   "cell_type": "markdown",
   "metadata": {},
   "source": [
    "Выведем статистическую информацию по числовым колонкам выборки после проведенной обработки выбросов."
   ]
  },
  {
   "cell_type": "code",
   "execution_count": 44,
   "metadata": {},
   "outputs": [
    {
     "data": {
      "text/html": [
       "<div>\n",
       "<style scoped>\n",
       "    .dataframe tbody tr th:only-of-type {\n",
       "        vertical-align: middle;\n",
       "    }\n",
       "\n",
       "    .dataframe tbody tr th {\n",
       "        vertical-align: top;\n",
       "    }\n",
       "\n",
       "    .dataframe thead th {\n",
       "        text-align: right;\n",
       "    }\n",
       "</style>\n",
       "<table border=\"1\" class=\"dataframe\">\n",
       "  <thead>\n",
       "    <tr style=\"text-align: right;\">\n",
       "      <th></th>\n",
       "      <th>price</th>\n",
       "      <th>registration_year</th>\n",
       "      <th>power</th>\n",
       "      <th>kilometer</th>\n",
       "    </tr>\n",
       "  </thead>\n",
       "  <tbody>\n",
       "    <tr>\n",
       "      <th>count</th>\n",
       "      <td>288520.00</td>\n",
       "      <td>288520.00</td>\n",
       "      <td>288520.00</td>\n",
       "      <td>288520.00</td>\n",
       "    </tr>\n",
       "    <tr>\n",
       "      <th>mean</th>\n",
       "      <td>4899.95</td>\n",
       "      <td>2003.37</td>\n",
       "      <td>121.51</td>\n",
       "      <td>128475.34</td>\n",
       "    </tr>\n",
       "    <tr>\n",
       "      <th>std</th>\n",
       "      <td>4608.01</td>\n",
       "      <td>6.67</td>\n",
       "      <td>62.25</td>\n",
       "      <td>36466.65</td>\n",
       "    </tr>\n",
       "    <tr>\n",
       "      <th>min</th>\n",
       "      <td>30.00</td>\n",
       "      <td>1930.00</td>\n",
       "      <td>20.00</td>\n",
       "      <td>5000.00</td>\n",
       "    </tr>\n",
       "    <tr>\n",
       "      <th>25%</th>\n",
       "      <td>1399.00</td>\n",
       "      <td>1999.00</td>\n",
       "      <td>77.00</td>\n",
       "      <td>125000.00</td>\n",
       "    </tr>\n",
       "    <tr>\n",
       "      <th>50%</th>\n",
       "      <td>3200.00</td>\n",
       "      <td>2003.00</td>\n",
       "      <td>111.00</td>\n",
       "      <td>150000.00</td>\n",
       "    </tr>\n",
       "    <tr>\n",
       "      <th>75%</th>\n",
       "      <td>6999.00</td>\n",
       "      <td>2008.00</td>\n",
       "      <td>150.00</td>\n",
       "      <td>150000.00</td>\n",
       "    </tr>\n",
       "    <tr>\n",
       "      <th>max</th>\n",
       "      <td>20000.00</td>\n",
       "      <td>2019.00</td>\n",
       "      <td>2000.00</td>\n",
       "      <td>150000.00</td>\n",
       "    </tr>\n",
       "  </tbody>\n",
       "</table>\n",
       "</div>"
      ],
      "text/plain": [
       "           price  registration_year      power  kilometer\n",
       "count  288520.00          288520.00  288520.00  288520.00\n",
       "mean     4899.95            2003.37     121.51  128475.34\n",
       "std      4608.01               6.67      62.25   36466.65\n",
       "min        30.00            1930.00      20.00    5000.00\n",
       "25%      1399.00            1999.00      77.00  125000.00\n",
       "50%      3200.00            2003.00     111.00  150000.00\n",
       "75%      6999.00            2008.00     150.00  150000.00\n",
       "max     20000.00            2019.00    2000.00  150000.00"
      ]
     },
     "execution_count": 44,
     "metadata": {},
     "output_type": "execute_result"
    }
   ],
   "source": [
    "# вывод статистики по значениям числовых колонок\n",
    "df_fin.describe().round(2)"
   ]
  },
  {
   "cell_type": "code",
   "execution_count": 45,
   "metadata": {},
   "outputs": [
    {
     "name": "stdout",
     "output_type": "stream",
     "text": [
      "<class 'pandas.core.frame.DataFrame'>\n",
      "Int64Index: 288520 entries, 1 to 318957\n",
      "Data columns (total 10 columns):\n",
      " #   Column             Non-Null Count   Dtype \n",
      "---  ------             --------------   ----- \n",
      " 0   price              288520 non-null  int32 \n",
      " 1   vehicle_type       288520 non-null  object\n",
      " 2   registration_year  288520 non-null  int32 \n",
      " 3   gearbox            288520 non-null  object\n",
      " 4   power              288520 non-null  int32 \n",
      " 5   model              288520 non-null  object\n",
      " 6   kilometer          288520 non-null  int32 \n",
      " 7   fuel_type          288520 non-null  object\n",
      " 8   brand              288520 non-null  object\n",
      " 9   not_repaired       288520 non-null  object\n",
      "dtypes: int32(4), object(6)\n",
      "memory usage: 19.8+ MB\n"
     ]
    }
   ],
   "source": [
    "# вывод общей информации о выборке\n",
    "df_fin.info()"
   ]
  },
  {
   "cell_type": "markdown",
   "metadata": {},
   "source": [
    "**Категориальные колонки vehicle_type, gearbox, model, fuel_type, brand, not_repaired**"
   ]
  },
  {
   "cell_type": "markdown",
   "metadata": {},
   "source": [
    "**vehicle_type**"
   ]
  },
  {
   "cell_type": "markdown",
   "metadata": {},
   "source": [
    "Выведем уникальные значения столбца."
   ]
  },
  {
   "cell_type": "code",
   "execution_count": 46,
   "metadata": {},
   "outputs": [
    {
     "data": {
      "text/plain": [
       "array(['suv', 'small', 'sedan', 'convertible', 'bus', 'wagon', 'coupe',\n",
       "       'no info', 'other'], dtype=object)"
      ]
     },
     "execution_count": 46,
     "metadata": {},
     "output_type": "execute_result"
    }
   ],
   "source": [
    "df_fin['vehicle_type'].unique()"
   ]
  },
  {
   "cell_type": "markdown",
   "metadata": {},
   "source": [
    "Поскольку по смыслу 'no info' и 'other' одинаковы (точная классификация неизвестна), объединим их, заменив тегом other/no info."
   ]
  },
  {
   "cell_type": "code",
   "execution_count": 47,
   "metadata": {
    "scrolled": true
   },
   "outputs": [],
   "source": [
    "# замена отсутствующих значений на other/no info\n",
    "df_fin.loc[df_fin['vehicle_type'] == 'no info', 'vehicle_type'] = 'other/no info'\n",
    "df_fin.loc[df_fin['vehicle_type'] == 'other', 'vehicle_type'] = 'other/no info'"
   ]
  },
  {
   "cell_type": "markdown",
   "metadata": {},
   "source": [
    "Проверим результат."
   ]
  },
  {
   "cell_type": "code",
   "execution_count": 48,
   "metadata": {
    "scrolled": true
   },
   "outputs": [
    {
     "data": {
      "text/plain": [
       "array(['suv', 'small', 'sedan', 'convertible', 'bus', 'wagon', 'coupe',\n",
       "       'other/no info'], dtype=object)"
      ]
     },
     "execution_count": 48,
     "metadata": {},
     "output_type": "execute_result"
    }
   ],
   "source": [
    "df_fin['vehicle_type'].unique()"
   ]
  },
  {
   "cell_type": "markdown",
   "metadata": {},
   "source": [
    "Замена произведена корректно."
   ]
  },
  {
   "cell_type": "markdown",
   "metadata": {},
   "source": [
    "**gearbox**"
   ]
  },
  {
   "cell_type": "markdown",
   "metadata": {},
   "source": [
    "Выведем уникальные значения столбца."
   ]
  },
  {
   "cell_type": "code",
   "execution_count": 49,
   "metadata": {},
   "outputs": [
    {
     "data": {
      "text/plain": [
       "array(['auto', 'manual'], dtype=object)"
      ]
     },
     "execution_count": 49,
     "metadata": {},
     "output_type": "execute_result"
    }
   ],
   "source": [
    "df_fin['gearbox'].unique()"
   ]
  },
  {
   "cell_type": "markdown",
   "metadata": {},
   "source": [
    "Значения адекватны и не требуют обработки."
   ]
  },
  {
   "cell_type": "markdown",
   "metadata": {},
   "source": [
    "**model**"
   ]
  },
  {
   "cell_type": "markdown",
   "metadata": {},
   "source": [
    "Выведем уникальные значения столбца."
   ]
  },
  {
   "cell_type": "code",
   "execution_count": 50,
   "metadata": {},
   "outputs": [
    {
     "data": {
      "text/plain": [
       "golf                  25447\n",
       "other                 20369\n",
       "3er                   17551\n",
       "polo                  10890\n",
       "corsa                 10231\n",
       "astra                  9251\n",
       "passat                 8874\n",
       "a4                     8868\n",
       "c_klasse               7373\n",
       "5er                    7126\n",
       "e_klasse               5981\n",
       "a3                     5471\n",
       "focus                  5154\n",
       "a6                     4985\n",
       "fiesta                 4858\n",
       "2_reihe                4386\n",
       "transporter            4140\n",
       "twingo                 3783\n",
       "vectra                 3531\n",
       "a_klasse               3468\n",
       "1er                    3341\n",
       "fortwo                 3243\n",
       "3_reihe                3064\n",
       "touran                 3043\n",
       "mondeo                 3038\n",
       "clio                   2902\n",
       "punto                  2681\n",
       "zafira                 2589\n",
       "ibiza                  2416\n",
       "megane                 2393\n",
       "lupo                   2160\n",
       "ka                     2052\n",
       "octavia                1936\n",
       "fabia                  1908\n",
       "cooper                 1858\n",
       "clk                    1630\n",
       "x_reihe                1443\n",
       "micra                  1404\n",
       "caddy                  1362\n",
       "80                     1284\n",
       "leon                   1241\n",
       "sharan                 1210\n",
       "scenic                 1188\n",
       "omega                  1165\n",
       "i_reihe                1163\n",
       "civic                  1152\n",
       "6_reihe                1131\n",
       "slk                    1129\n",
       "laguna                 1128\n",
       "1_reihe                1106\n",
       "tt                     1022\n",
       "galaxy                  972\n",
       "meriva                  944\n",
       "yaris                   928\n",
       "mx_reihe                923\n",
       "7er                     893\n",
       "m_klasse                862\n",
       "one                     849\n",
       "b_klasse                812\n",
       "500                     797\n",
       "bora                    780\n",
       "beetle                  759\n",
       "colt                    758\n",
       "kangoo                  753\n",
       "s_klasse                742\n",
       "arosa                   738\n",
       "vito                    735\n",
       "berlingo                707\n",
       "escort                  692\n",
       "z_reihe                 678\n",
       "tigra                   671\n",
       "fox                     651\n",
       "v40                     647\n",
       "c_max                   636\n",
       "transit                 632\n",
       "tiguan                  629\n",
       "sprinter                612\n",
       "swift                   612\n",
       "insignia                609\n",
       "corolla                 586\n",
       "a1                      578\n",
       "v70                     575\n",
       "panda                   573\n",
       "4_reihe                 562\n",
       "scirocco                556\n",
       "156                     537\n",
       "avensis                 521\n",
       "grand                   519\n",
       "a5                      515\n",
       "147                     514\n",
       "touareg                 514\n",
       "stilo                   505\n",
       "primera                 505\n",
       "seicento                501\n",
       "qashqai                 497\n",
       "eos                     497\n",
       "almera                  486\n",
       "espace                  481\n",
       "a8                      469\n",
       "signum                  455\n",
       "c3                      448\n",
       "c5                      432\n",
       "s_max                   421\n",
       "c4                      407\n",
       "5_reihe                 403\n",
       "aygo                    379\n",
       "100                     361\n",
       "matiz                   358\n",
       "agila                   352\n",
       "getz                    351\n",
       "superb                  351\n",
       "c2                      348\n",
       "c1                      348\n",
       "sl                      346\n",
       "combo                   343\n",
       "altea                   342\n",
       "up                      339\n",
       "carisma                 335\n",
       "picanto                 330\n",
       "forfour                 329\n",
       "a2                      325\n",
       "alhambra                322\n",
       "ducato                  322\n",
       "rio                     319\n",
       "cordoba                 318\n",
       "rav                     317\n",
       "cr_reihe                314\n",
       "accord                  312\n",
       "kuga                    306\n",
       "sorento                 305\n",
       "jetta                   301\n",
       "verso                   289\n",
       "santa                   289\n",
       "kaefer                  284\n",
       "cuore                   284\n",
       "logan                   284\n",
       "doblo                   282\n",
       "sandero                 279\n",
       "toledo                  277\n",
       "jazz                    277\n",
       "modus                   274\n",
       "fusion                  271\n",
       "vivaro                  270\n",
       "bravo                   267\n",
       "roomster                263\n",
       "ptcruiser               259\n",
       "voyager                 257\n",
       "xc_reihe                257\n",
       "kadett                  255\n",
       "v50                     243\n",
       "ceed                    239\n",
       "viano                   225\n",
       "sportage                225\n",
       "cayenne                 221\n",
       "auris                   216\n",
       "carnival                214\n",
       "tucson                  213\n",
       "galant                  210\n",
       "159                     201\n",
       "601                     201\n",
       "boxster                 201\n",
       "cl                      197\n",
       "impreza                 193\n",
       "phaeton                 191\n",
       "clubman                 191\n",
       "duster                  188\n",
       "q7                      187\n",
       "jimny                   187\n",
       "c_reihe                 186\n",
       "x_trail                 186\n",
       "pajero                  184\n",
       "lancer                  181\n",
       "freelander              181\n",
       "ypsilon                 176\n",
       "850                     175\n",
       "yeti                    173\n",
       "calibra                 166\n",
       "spider                  165\n",
       "captiva                 159\n",
       "roadster                151\n",
       "x_type                  145\n",
       "s60                     142\n",
       "mustang                 141\n",
       "legacy                  138\n",
       "cherokee                138\n",
       "6er                     133\n",
       "cc                      127\n",
       "rx_reihe                125\n",
       "v_klasse                124\n",
       "300c                    124\n",
       "sirion                  121\n",
       "note                    120\n",
       "spark                   117\n",
       "justy                   116\n",
       "forester                115\n",
       "s_type                  115\n",
       "outlander               111\n",
       "m_reihe                 107\n",
       "aveo                    104\n",
       "niva                    102\n",
       "exeo                    100\n",
       "r19                      96\n",
       "900                      96\n",
       "q5                       95\n",
       "juke                     95\n",
       "antara                   93\n",
       "citigo                   89\n",
       "wrangler                 87\n",
       "90                       81\n",
       "mii                      80\n",
       "navara                   80\n",
       "kalos                    79\n",
       "g_klasse                 78\n",
       "lanos                    70\n",
       "discovery                70\n",
       "range_rover              69\n",
       "defender                 63\n",
       "glk                      60\n",
       "cx_reihe                 58\n",
       "crossfire                57\n",
       "nubira                   54\n",
       "range_rover_sport        52\n",
       "911                      47\n",
       "v60                      40\n",
       "move                     38\n",
       "croma                    38\n",
       "lybra                    38\n",
       "145                      35\n",
       "terios                   30\n",
       "lodgy                    30\n",
       "delta                    29\n",
       "9000                     26\n",
       "b_max                    25\n",
       "charade                  21\n",
       "musa                     21\n",
       "materia                  17\n",
       "200                      15\n",
       "kappa                    13\n",
       "q3                       13\n",
       "gl                       12\n",
       "amarok                   12\n",
       "elefantino               10\n",
       "serie_2                   6\n",
       "samara                    5\n",
       "kalina                    5\n",
       "i3                        5\n",
       "rangerover                3\n",
       "serie_3                   3\n",
       "range_rover_evoque        2\n",
       "Name: model, dtype: int64"
      ]
     },
     "execution_count": 50,
     "metadata": {},
     "output_type": "execute_result"
    }
   ],
   "source": [
    "df_fin['model'].value_counts()"
   ]
  },
  {
   "cell_type": "markdown",
   "metadata": {},
   "source": [
    "Неявных дублей нет, оставим без изменений."
   ]
  },
  {
   "cell_type": "markdown",
   "metadata": {},
   "source": [
    "**fuel_type**"
   ]
  },
  {
   "cell_type": "markdown",
   "metadata": {},
   "source": [
    "Выведем уникальные значения столбца."
   ]
  },
  {
   "cell_type": "code",
   "execution_count": 51,
   "metadata": {},
   "outputs": [
    {
     "data": {
      "text/plain": [
       "array(['gasoline', 'petrol', 'no info', 'lpg', 'other', 'hybrid', 'cng',\n",
       "       'electric'], dtype=object)"
      ]
     },
     "execution_count": 51,
     "metadata": {},
     "output_type": "execute_result"
    }
   ],
   "source": [
    "df_fin['fuel_type'].unique()"
   ]
  },
  {
   "cell_type": "markdown",
   "metadata": {},
   "source": [
    "Типы топлива gasoline и petrol - одно и то же, объединим их под названием petrol.\n",
    "\n",
    "Отсутствующую информацию 'no info' и 'other' также объединим в категорию other/no info."
   ]
  },
  {
   "cell_type": "code",
   "execution_count": 52,
   "metadata": {},
   "outputs": [],
   "source": [
    "# замена отсутствующих значений на other/no info\n",
    "df_fin.loc[df_fin['fuel_type'] == 'no info', 'fuel_type'] = 'other/no info'\n",
    "df_fin.loc[df_fin['fuel_type'] == 'other', 'fuel_type'] = 'other/no info'\n",
    "\n",
    "# объединение gasoline и petrol\n",
    "df_fin.loc[df_fin['fuel_type'] == 'gasoline', 'fuel_type'] = 'petrol'"
   ]
  },
  {
   "cell_type": "markdown",
   "metadata": {},
   "source": [
    "Проверим результат."
   ]
  },
  {
   "cell_type": "code",
   "execution_count": 53,
   "metadata": {},
   "outputs": [
    {
     "data": {
      "text/plain": [
       "array(['petrol', 'other/no info', 'lpg', 'hybrid', 'cng', 'electric'],\n",
       "      dtype=object)"
      ]
     },
     "execution_count": 53,
     "metadata": {},
     "output_type": "execute_result"
    }
   ],
   "source": [
    "df_fin['fuel_type'].unique()"
   ]
  },
  {
   "cell_type": "markdown",
   "metadata": {},
   "source": [
    "Замена произведена корректно."
   ]
  },
  {
   "cell_type": "markdown",
   "metadata": {},
   "source": [
    "**brand**"
   ]
  },
  {
   "cell_type": "markdown",
   "metadata": {},
   "source": [
    "Выведем уникальные значения столбца."
   ]
  },
  {
   "cell_type": "code",
   "execution_count": 54,
   "metadata": {},
   "outputs": [
    {
     "data": {
      "text/plain": [
       "array(['jeep', 'volkswagen', 'skoda', 'bmw', 'peugeot', 'ford', 'mazda',\n",
       "       'nissan', 'renault', 'mercedes_benz', 'opel', 'seat', 'citroen',\n",
       "       'honda', 'fiat', 'mini', 'smart', 'hyundai', 'audi', 'alfa_romeo',\n",
       "       'subaru', 'volvo', 'mitsubishi', 'kia', 'suzuki', 'lancia',\n",
       "       'toyota', 'chevrolet', 'dacia', 'daihatsu', 'chrysler', 'jaguar',\n",
       "       'daewoo', 'rover', 'porsche', 'saab', 'land_rover', 'trabant',\n",
       "       'lada'], dtype=object)"
      ]
     },
     "execution_count": 54,
     "metadata": {},
     "output_type": "execute_result"
    }
   ],
   "source": [
    "df_fin['brand'].unique()"
   ]
  },
  {
   "cell_type": "markdown",
   "metadata": {},
   "source": [
    "Неявных дублей нет, оставим без изменений."
   ]
  },
  {
   "cell_type": "markdown",
   "metadata": {},
   "source": [
    "**not_repaired**"
   ]
  },
  {
   "cell_type": "markdown",
   "metadata": {},
   "source": [
    "Выведем уникальные значения столбца."
   ]
  },
  {
   "cell_type": "code",
   "execution_count": 55,
   "metadata": {},
   "outputs": [
    {
     "data": {
      "text/plain": [
       "array(['no info', 'no', 'yes'], dtype=object)"
      ]
     },
     "execution_count": 55,
     "metadata": {},
     "output_type": "execute_result"
    }
   ],
   "source": [
    "df_fin['not_repaired'].unique()"
   ]
  },
  {
   "cell_type": "markdown",
   "metadata": {},
   "source": [
    "Значения адекватны, оставим без изменений."
   ]
  },
  {
   "cell_type": "markdown",
   "metadata": {},
   "source": [
    "Оценим итоговую выборку после предобработки."
   ]
  },
  {
   "cell_type": "code",
   "execution_count": 56,
   "metadata": {
    "scrolled": false
   },
   "outputs": [
    {
     "name": "stdout",
     "output_type": "stream",
     "text": [
      "<class 'pandas.core.frame.DataFrame'>\n",
      "RangeIndex: 288520 entries, 0 to 288519\n",
      "Data columns (total 10 columns):\n",
      " #   Column             Non-Null Count   Dtype \n",
      "---  ------             --------------   ----- \n",
      " 0   price              288520 non-null  int32 \n",
      " 1   vehicle_type       288520 non-null  object\n",
      " 2   registration_year  288520 non-null  int32 \n",
      " 3   gearbox            288520 non-null  object\n",
      " 4   power              288520 non-null  int32 \n",
      " 5   model              288520 non-null  object\n",
      " 6   kilometer          288520 non-null  int32 \n",
      " 7   fuel_type          288520 non-null  object\n",
      " 8   brand              288520 non-null  object\n",
      " 9   not_repaired       288520 non-null  object\n",
      "dtypes: int32(4), object(6)\n",
      "memory usage: 17.6+ MB\n"
     ]
    }
   ],
   "source": [
    "# переиндексация и вывод общей информации о выборке\n",
    "df_fin = df_fin.reset_index(drop=True)\n",
    "df_fin.info()"
   ]
  },
  {
   "cell_type": "code",
   "execution_count": 57,
   "metadata": {
    "scrolled": false
   },
   "outputs": [
    {
     "data": {
      "text/html": [
       "<div>\n",
       "<style scoped>\n",
       "    .dataframe tbody tr th:only-of-type {\n",
       "        vertical-align: middle;\n",
       "    }\n",
       "\n",
       "    .dataframe tbody tr th {\n",
       "        vertical-align: top;\n",
       "    }\n",
       "\n",
       "    .dataframe thead th {\n",
       "        text-align: right;\n",
       "    }\n",
       "</style>\n",
       "<table border=\"1\" class=\"dataframe\">\n",
       "  <thead>\n",
       "    <tr style=\"text-align: right;\">\n",
       "      <th></th>\n",
       "      <th>price</th>\n",
       "      <th>vehicle_type</th>\n",
       "      <th>registration_year</th>\n",
       "      <th>gearbox</th>\n",
       "      <th>power</th>\n",
       "      <th>model</th>\n",
       "      <th>kilometer</th>\n",
       "      <th>fuel_type</th>\n",
       "      <th>brand</th>\n",
       "      <th>not_repaired</th>\n",
       "    </tr>\n",
       "  </thead>\n",
       "  <tbody>\n",
       "    <tr>\n",
       "      <th>0</th>\n",
       "      <td>9800</td>\n",
       "      <td>suv</td>\n",
       "      <td>2004</td>\n",
       "      <td>auto</td>\n",
       "      <td>163</td>\n",
       "      <td>grand</td>\n",
       "      <td>125000</td>\n",
       "      <td>petrol</td>\n",
       "      <td>jeep</td>\n",
       "      <td>no info</td>\n",
       "    </tr>\n",
       "    <tr>\n",
       "      <th>1</th>\n",
       "      <td>1500</td>\n",
       "      <td>small</td>\n",
       "      <td>2001</td>\n",
       "      <td>manual</td>\n",
       "      <td>75</td>\n",
       "      <td>golf</td>\n",
       "      <td>150000</td>\n",
       "      <td>petrol</td>\n",
       "      <td>volkswagen</td>\n",
       "      <td>no</td>\n",
       "    </tr>\n",
       "    <tr>\n",
       "      <th>2</th>\n",
       "      <td>3600</td>\n",
       "      <td>small</td>\n",
       "      <td>2008</td>\n",
       "      <td>manual</td>\n",
       "      <td>69</td>\n",
       "      <td>fabia</td>\n",
       "      <td>90000</td>\n",
       "      <td>petrol</td>\n",
       "      <td>skoda</td>\n",
       "      <td>no</td>\n",
       "    </tr>\n",
       "    <tr>\n",
       "      <th>3</th>\n",
       "      <td>650</td>\n",
       "      <td>sedan</td>\n",
       "      <td>1995</td>\n",
       "      <td>manual</td>\n",
       "      <td>102</td>\n",
       "      <td>3er</td>\n",
       "      <td>150000</td>\n",
       "      <td>petrol</td>\n",
       "      <td>bmw</td>\n",
       "      <td>yes</td>\n",
       "    </tr>\n",
       "    <tr>\n",
       "      <th>4</th>\n",
       "      <td>2200</td>\n",
       "      <td>convertible</td>\n",
       "      <td>2004</td>\n",
       "      <td>manual</td>\n",
       "      <td>109</td>\n",
       "      <td>2_reihe</td>\n",
       "      <td>150000</td>\n",
       "      <td>petrol</td>\n",
       "      <td>peugeot</td>\n",
       "      <td>no</td>\n",
       "    </tr>\n",
       "  </tbody>\n",
       "</table>\n",
       "</div>"
      ],
      "text/plain": [
       "   price vehicle_type  registration_year gearbox  power    model  kilometer  \\\n",
       "0   9800          suv               2004    auto    163    grand     125000   \n",
       "1   1500        small               2001  manual     75     golf     150000   \n",
       "2   3600        small               2008  manual     69    fabia      90000   \n",
       "3    650        sedan               1995  manual    102      3er     150000   \n",
       "4   2200  convertible               2004  manual    109  2_reihe     150000   \n",
       "\n",
       "  fuel_type       brand not_repaired  \n",
       "0    petrol        jeep      no info  \n",
       "1    petrol  volkswagen           no  \n",
       "2    petrol       skoda           no  \n",
       "3    petrol         bmw          yes  \n",
       "4    petrol     peugeot           no  "
      ]
     },
     "execution_count": 57,
     "metadata": {},
     "output_type": "execute_result"
    }
   ],
   "source": [
    "# вывод первых 5 строк датасета\n",
    "df_fin.head()"
   ]
  },
  {
   "cell_type": "markdown",
   "metadata": {},
   "source": [
    "Выборка для дальнейшей работы содержит 10 колонок, 288520 строк, пропусков и дублей нет."
   ]
  },
  {
   "cell_type": "markdown",
   "metadata": {},
   "source": [
    "<div style=\"border:solid blue 2px; padding: 20px\">\n",
    "    \n",
    "**Вывод** \n",
    "  \n",
    "В ходе обработки выборки на данном этапе проделаны следующие работы:\n",
    "    \n",
    "1. Загружена и изучена выборка с данными: исходный датасет содержит 354369 строк, 16 столбцов.\n",
    "2. Проведена предобработка данных: \n",
    " * переименованы колонки в соответсвии с правилами нотации Python, \n",
    " * заменены типы данных int64 на  int32 и int64 на datetime,\n",
    " * обработаны пропуски в колонках VehicleType, Gearbox, Model, FuelType, NotRepaired,\n",
    " * проведена проверка на дубликаты и их обработка,\n",
    " * проведена проверка на корреляцию числовых признаков и целевого признака \"Цена\", удалены колонки с нерелевантными признаками\n",
    " * проведена проверка данных на адекватность и обработка выбросов.\n",
    "\n",
    "Итоговая выборка для дальшейшей работы содержит 288520 строк, 10 столбцов, пропусков и дублей нет. \n",
    "   \n",
    "<div>"
   ]
  },
  {
   "cell_type": "markdown",
   "metadata": {},
   "source": [
    "## Обучение моделей"
   ]
  },
  {
   "cell_type": "markdown",
   "metadata": {},
   "source": [
    "### Подготовка выборки к обучению"
   ]
  },
  {
   "cell_type": "markdown",
   "metadata": {},
   "source": [
    "Проведем подготовку выборки к обучению:\n",
    "1. обработаем категориальные признаки техникой OHE для перевода их в цифровые значения\n",
    "2. разделим выборку на обучающую и тестовую выборки\n",
    "3. проведем стандартизацию количественных признаков"
   ]
  },
  {
   "cell_type": "markdown",
   "metadata": {},
   "source": [
    "**Обработка категориальных признаков техникой OHE**"
   ]
  },
  {
   "cell_type": "code",
   "execution_count": 58,
   "metadata": {},
   "outputs": [],
   "source": [
    "# преобразование категориальных признаков в количественные техникой OHE\n",
    "df_fin_ohe = pd.get_dummies(df_fin, drop_first = True)"
   ]
  },
  {
   "cell_type": "code",
   "execution_count": 59,
   "metadata": {
    "scrolled": true
   },
   "outputs": [
    {
     "data": {
      "text/html": [
       "<div>\n",
       "<style scoped>\n",
       "    .dataframe tbody tr th:only-of-type {\n",
       "        vertical-align: middle;\n",
       "    }\n",
       "\n",
       "    .dataframe tbody tr th {\n",
       "        vertical-align: top;\n",
       "    }\n",
       "\n",
       "    .dataframe thead th {\n",
       "        text-align: right;\n",
       "    }\n",
       "</style>\n",
       "<table border=\"1\" class=\"dataframe\">\n",
       "  <thead>\n",
       "    <tr style=\"text-align: right;\">\n",
       "      <th></th>\n",
       "      <th>price</th>\n",
       "      <th>registration_year</th>\n",
       "      <th>power</th>\n",
       "      <th>kilometer</th>\n",
       "      <th>vehicle_type_convertible</th>\n",
       "      <th>vehicle_type_coupe</th>\n",
       "      <th>vehicle_type_other/no info</th>\n",
       "      <th>vehicle_type_sedan</th>\n",
       "      <th>vehicle_type_small</th>\n",
       "      <th>vehicle_type_suv</th>\n",
       "      <th>...</th>\n",
       "      <th>brand_skoda</th>\n",
       "      <th>brand_smart</th>\n",
       "      <th>brand_subaru</th>\n",
       "      <th>brand_suzuki</th>\n",
       "      <th>brand_toyota</th>\n",
       "      <th>brand_trabant</th>\n",
       "      <th>brand_volkswagen</th>\n",
       "      <th>brand_volvo</th>\n",
       "      <th>not_repaired_no info</th>\n",
       "      <th>not_repaired_yes</th>\n",
       "    </tr>\n",
       "  </thead>\n",
       "  <tbody>\n",
       "    <tr>\n",
       "      <th>0</th>\n",
       "      <td>9800</td>\n",
       "      <td>2004</td>\n",
       "      <td>163</td>\n",
       "      <td>125000</td>\n",
       "      <td>0</td>\n",
       "      <td>0</td>\n",
       "      <td>0</td>\n",
       "      <td>0</td>\n",
       "      <td>0</td>\n",
       "      <td>1</td>\n",
       "      <td>...</td>\n",
       "      <td>0</td>\n",
       "      <td>0</td>\n",
       "      <td>0</td>\n",
       "      <td>0</td>\n",
       "      <td>0</td>\n",
       "      <td>0</td>\n",
       "      <td>0</td>\n",
       "      <td>0</td>\n",
       "      <td>1</td>\n",
       "      <td>0</td>\n",
       "    </tr>\n",
       "    <tr>\n",
       "      <th>1</th>\n",
       "      <td>1500</td>\n",
       "      <td>2001</td>\n",
       "      <td>75</td>\n",
       "      <td>150000</td>\n",
       "      <td>0</td>\n",
       "      <td>0</td>\n",
       "      <td>0</td>\n",
       "      <td>0</td>\n",
       "      <td>1</td>\n",
       "      <td>0</td>\n",
       "      <td>...</td>\n",
       "      <td>0</td>\n",
       "      <td>0</td>\n",
       "      <td>0</td>\n",
       "      <td>0</td>\n",
       "      <td>0</td>\n",
       "      <td>0</td>\n",
       "      <td>1</td>\n",
       "      <td>0</td>\n",
       "      <td>0</td>\n",
       "      <td>0</td>\n",
       "    </tr>\n",
       "    <tr>\n",
       "      <th>2</th>\n",
       "      <td>3600</td>\n",
       "      <td>2008</td>\n",
       "      <td>69</td>\n",
       "      <td>90000</td>\n",
       "      <td>0</td>\n",
       "      <td>0</td>\n",
       "      <td>0</td>\n",
       "      <td>0</td>\n",
       "      <td>1</td>\n",
       "      <td>0</td>\n",
       "      <td>...</td>\n",
       "      <td>1</td>\n",
       "      <td>0</td>\n",
       "      <td>0</td>\n",
       "      <td>0</td>\n",
       "      <td>0</td>\n",
       "      <td>0</td>\n",
       "      <td>0</td>\n",
       "      <td>0</td>\n",
       "      <td>0</td>\n",
       "      <td>0</td>\n",
       "    </tr>\n",
       "    <tr>\n",
       "      <th>3</th>\n",
       "      <td>650</td>\n",
       "      <td>1995</td>\n",
       "      <td>102</td>\n",
       "      <td>150000</td>\n",
       "      <td>0</td>\n",
       "      <td>0</td>\n",
       "      <td>0</td>\n",
       "      <td>1</td>\n",
       "      <td>0</td>\n",
       "      <td>0</td>\n",
       "      <td>...</td>\n",
       "      <td>0</td>\n",
       "      <td>0</td>\n",
       "      <td>0</td>\n",
       "      <td>0</td>\n",
       "      <td>0</td>\n",
       "      <td>0</td>\n",
       "      <td>0</td>\n",
       "      <td>0</td>\n",
       "      <td>0</td>\n",
       "      <td>1</td>\n",
       "    </tr>\n",
       "    <tr>\n",
       "      <th>4</th>\n",
       "      <td>2200</td>\n",
       "      <td>2004</td>\n",
       "      <td>109</td>\n",
       "      <td>150000</td>\n",
       "      <td>1</td>\n",
       "      <td>0</td>\n",
       "      <td>0</td>\n",
       "      <td>0</td>\n",
       "      <td>0</td>\n",
       "      <td>0</td>\n",
       "      <td>...</td>\n",
       "      <td>0</td>\n",
       "      <td>0</td>\n",
       "      <td>0</td>\n",
       "      <td>0</td>\n",
       "      <td>0</td>\n",
       "      <td>0</td>\n",
       "      <td>0</td>\n",
       "      <td>0</td>\n",
       "      <td>0</td>\n",
       "      <td>0</td>\n",
       "    </tr>\n",
       "  </tbody>\n",
       "</table>\n",
       "<p>5 rows × 305 columns</p>\n",
       "</div>"
      ],
      "text/plain": [
       "   price  registration_year  power  kilometer  vehicle_type_convertible  \\\n",
       "0   9800               2004    163     125000                         0   \n",
       "1   1500               2001     75     150000                         0   \n",
       "2   3600               2008     69      90000                         0   \n",
       "3    650               1995    102     150000                         0   \n",
       "4   2200               2004    109     150000                         1   \n",
       "\n",
       "   vehicle_type_coupe  vehicle_type_other/no info  vehicle_type_sedan  \\\n",
       "0                   0                           0                   0   \n",
       "1                   0                           0                   0   \n",
       "2                   0                           0                   0   \n",
       "3                   0                           0                   1   \n",
       "4                   0                           0                   0   \n",
       "\n",
       "   vehicle_type_small  vehicle_type_suv  ...  brand_skoda  brand_smart  \\\n",
       "0                   0                 1  ...            0            0   \n",
       "1                   1                 0  ...            0            0   \n",
       "2                   1                 0  ...            1            0   \n",
       "3                   0                 0  ...            0            0   \n",
       "4                   0                 0  ...            0            0   \n",
       "\n",
       "   brand_subaru  brand_suzuki  brand_toyota  brand_trabant  brand_volkswagen  \\\n",
       "0             0             0             0              0                 0   \n",
       "1             0             0             0              0                 1   \n",
       "2             0             0             0              0                 0   \n",
       "3             0             0             0              0                 0   \n",
       "4             0             0             0              0                 0   \n",
       "\n",
       "   brand_volvo  not_repaired_no info  not_repaired_yes  \n",
       "0            0                     1                 0  \n",
       "1            0                     0                 0  \n",
       "2            0                     0                 0  \n",
       "3            0                     0                 1  \n",
       "4            0                     0                 0  \n",
       "\n",
       "[5 rows x 305 columns]"
      ]
     },
     "execution_count": 59,
     "metadata": {},
     "output_type": "execute_result"
    }
   ],
   "source": [
    "# вывод результата\n",
    "df_fin_ohe.head()"
   ]
  },
  {
   "cell_type": "code",
   "execution_count": 60,
   "metadata": {},
   "outputs": [
    {
     "name": "stdout",
     "output_type": "stream",
     "text": [
      "<class 'pandas.core.frame.DataFrame'>\n",
      "RangeIndex: 288520 entries, 0 to 288519\n",
      "Columns: 305 entries, price to not_repaired_yes\n",
      "dtypes: int32(4), uint8(301)\n",
      "memory usage: 87.2 MB\n"
     ]
    }
   ],
   "source": [
    "# вывод общей информации о выборке после обработки\n",
    "df_fin_ohe.info()"
   ]
  },
  {
   "cell_type": "markdown",
   "metadata": {},
   "source": [
    "**Разделение выборки на features и target и на обучающую и тестовую выборки**"
   ]
  },
  {
   "cell_type": "markdown",
   "metadata": {},
   "source": [
    "Установим RandomState равным 12345."
   ]
  },
  {
   "cell_type": "code",
   "execution_count": 61,
   "metadata": {},
   "outputs": [],
   "source": [
    "# фиксирование RandomState\n",
    "state = np.random.RandomState(12345)"
   ]
  },
  {
   "cell_type": "markdown",
   "metadata": {},
   "source": [
    "Разделим датафрейм на выборки с признаками и целевым признаком."
   ]
  },
  {
   "cell_type": "code",
   "execution_count": 62,
   "metadata": {
    "scrolled": true
   },
   "outputs": [],
   "source": [
    "# разделение датафрейма на выборки с признаками и целевым признаком\n",
    "features_train, features_test, target_train, target_test = train_test_split(\n",
    "    df_fin_ohe.drop(['price'], axis=1), df_fin_ohe['price'], test_size=0.25, random_state = state \n",
    ")"
   ]
  },
  {
   "cell_type": "markdown",
   "metadata": {},
   "source": [
    "Оценим размер получившихся выборок."
   ]
  },
  {
   "cell_type": "code",
   "execution_count": 63,
   "metadata": {},
   "outputs": [
    {
     "data": {
      "text/plain": [
       "(216390, 304)"
      ]
     },
     "execution_count": 63,
     "metadata": {},
     "output_type": "execute_result"
    }
   ],
   "source": [
    "# вывод размера выборки\n",
    "features_train.shape"
   ]
  },
  {
   "cell_type": "code",
   "execution_count": 64,
   "metadata": {},
   "outputs": [
    {
     "data": {
      "text/plain": [
       "(216390,)"
      ]
     },
     "execution_count": 64,
     "metadata": {},
     "output_type": "execute_result"
    }
   ],
   "source": [
    "# вывод размера выборки\n",
    "target_train.shape"
   ]
  },
  {
   "cell_type": "code",
   "execution_count": 65,
   "metadata": {},
   "outputs": [
    {
     "data": {
      "text/plain": [
       "(72130, 304)"
      ]
     },
     "execution_count": 65,
     "metadata": {},
     "output_type": "execute_result"
    }
   ],
   "source": [
    "# вывод размера выборки\n",
    "features_test.shape"
   ]
  },
  {
   "cell_type": "code",
   "execution_count": 66,
   "metadata": {},
   "outputs": [
    {
     "data": {
      "text/plain": [
       "(72130,)"
      ]
     },
     "execution_count": 66,
     "metadata": {},
     "output_type": "execute_result"
    }
   ],
   "source": [
    "# вывод размера выборки\n",
    "target_test.shape"
   ]
  },
  {
   "cell_type": "markdown",
   "metadata": {},
   "source": [
    "Разделение на выборки прошло корректно."
   ]
  },
  {
   "cell_type": "markdown",
   "metadata": {},
   "source": [
    "**Стандартизация количественных признаков**"
   ]
  },
  {
   "cell_type": "markdown",
   "metadata": {},
   "source": [
    "Поскольку в данных присутствуют количественные признаки с разными разбросами значений, во избежание присвоения бОльшего веса \n",
    "признакам с бОльшими значениями и разбросом приведем количественные признаки к одному масштабу."
   ]
  },
  {
   "cell_type": "code",
   "execution_count": 67,
   "metadata": {},
   "outputs": [],
   "source": [
    "# код от предупреждения SettingWithCopy\n",
    "pd.options.mode.chained_assignment = None\n",
    "# формирование списка стобцов и создание структуры для стандартизации\n",
    "numeric=['registration_year', 'power', 'kilometer']\n",
    "scaler = StandardScaler()\n",
    "# настройка стандартизации на обучающих данных\n",
    "scaler.fit(features_train[numeric]) \n",
    "# стандартизация выборок для обучения, валидации и тестирования\n",
    "features_train[numeric] = scaler.transform(features_train[numeric])\n",
    "features_test[numeric] = scaler.transform(features_test[numeric])"
   ]
  },
  {
   "cell_type": "markdown",
   "metadata": {},
   "source": [
    "Выведем первые 5 строк выборок с признаками для оценки результата."
   ]
  },
  {
   "cell_type": "code",
   "execution_count": 68,
   "metadata": {},
   "outputs": [
    {
     "data": {
      "text/html": [
       "<div>\n",
       "<style scoped>\n",
       "    .dataframe tbody tr th:only-of-type {\n",
       "        vertical-align: middle;\n",
       "    }\n",
       "\n",
       "    .dataframe tbody tr th {\n",
       "        vertical-align: top;\n",
       "    }\n",
       "\n",
       "    .dataframe thead th {\n",
       "        text-align: right;\n",
       "    }\n",
       "</style>\n",
       "<table border=\"1\" class=\"dataframe\">\n",
       "  <thead>\n",
       "    <tr style=\"text-align: right;\">\n",
       "      <th></th>\n",
       "      <th>registration_year</th>\n",
       "      <th>power</th>\n",
       "      <th>kilometer</th>\n",
       "      <th>vehicle_type_convertible</th>\n",
       "      <th>vehicle_type_coupe</th>\n",
       "      <th>vehicle_type_other/no info</th>\n",
       "      <th>vehicle_type_sedan</th>\n",
       "      <th>vehicle_type_small</th>\n",
       "      <th>vehicle_type_suv</th>\n",
       "      <th>vehicle_type_wagon</th>\n",
       "      <th>...</th>\n",
       "      <th>brand_skoda</th>\n",
       "      <th>brand_smart</th>\n",
       "      <th>brand_subaru</th>\n",
       "      <th>brand_suzuki</th>\n",
       "      <th>brand_toyota</th>\n",
       "      <th>brand_trabant</th>\n",
       "      <th>brand_volkswagen</th>\n",
       "      <th>brand_volvo</th>\n",
       "      <th>not_repaired_no info</th>\n",
       "      <th>not_repaired_yes</th>\n",
       "    </tr>\n",
       "  </thead>\n",
       "  <tbody>\n",
       "    <tr>\n",
       "      <th>57894</th>\n",
       "      <td>-1.853751</td>\n",
       "      <td>-1.166155</td>\n",
       "      <td>-1.055872</td>\n",
       "      <td>0</td>\n",
       "      <td>0</td>\n",
       "      <td>0</td>\n",
       "      <td>0</td>\n",
       "      <td>1</td>\n",
       "      <td>0</td>\n",
       "      <td>0</td>\n",
       "      <td>...</td>\n",
       "      <td>0</td>\n",
       "      <td>0</td>\n",
       "      <td>0</td>\n",
       "      <td>0</td>\n",
       "      <td>0</td>\n",
       "      <td>0</td>\n",
       "      <td>0</td>\n",
       "      <td>0</td>\n",
       "      <td>0</td>\n",
       "      <td>1</td>\n",
       "    </tr>\n",
       "    <tr>\n",
       "      <th>134837</th>\n",
       "      <td>-0.954434</td>\n",
       "      <td>-0.317719</td>\n",
       "      <td>0.589576</td>\n",
       "      <td>0</td>\n",
       "      <td>1</td>\n",
       "      <td>0</td>\n",
       "      <td>0</td>\n",
       "      <td>0</td>\n",
       "      <td>0</td>\n",
       "      <td>0</td>\n",
       "      <td>...</td>\n",
       "      <td>0</td>\n",
       "      <td>0</td>\n",
       "      <td>0</td>\n",
       "      <td>0</td>\n",
       "      <td>0</td>\n",
       "      <td>0</td>\n",
       "      <td>0</td>\n",
       "      <td>0</td>\n",
       "      <td>1</td>\n",
       "      <td>0</td>\n",
       "    </tr>\n",
       "    <tr>\n",
       "      <th>260428</th>\n",
       "      <td>-0.205004</td>\n",
       "      <td>0.547033</td>\n",
       "      <td>0.589576</td>\n",
       "      <td>0</td>\n",
       "      <td>0</td>\n",
       "      <td>0</td>\n",
       "      <td>1</td>\n",
       "      <td>0</td>\n",
       "      <td>0</td>\n",
       "      <td>0</td>\n",
       "      <td>...</td>\n",
       "      <td>0</td>\n",
       "      <td>0</td>\n",
       "      <td>0</td>\n",
       "      <td>0</td>\n",
       "      <td>0</td>\n",
       "      <td>0</td>\n",
       "      <td>0</td>\n",
       "      <td>0</td>\n",
       "      <td>0</td>\n",
       "      <td>0</td>\n",
       "    </tr>\n",
       "    <tr>\n",
       "      <th>212600</th>\n",
       "      <td>-1.254206</td>\n",
       "      <td>-0.513512</td>\n",
       "      <td>0.589576</td>\n",
       "      <td>1</td>\n",
       "      <td>0</td>\n",
       "      <td>0</td>\n",
       "      <td>0</td>\n",
       "      <td>0</td>\n",
       "      <td>0</td>\n",
       "      <td>0</td>\n",
       "      <td>...</td>\n",
       "      <td>0</td>\n",
       "      <td>0</td>\n",
       "      <td>0</td>\n",
       "      <td>0</td>\n",
       "      <td>0</td>\n",
       "      <td>0</td>\n",
       "      <td>1</td>\n",
       "      <td>0</td>\n",
       "      <td>0</td>\n",
       "      <td>0</td>\n",
       "    </tr>\n",
       "    <tr>\n",
       "      <th>71497</th>\n",
       "      <td>0.244655</td>\n",
       "      <td>0.302292</td>\n",
       "      <td>0.589576</td>\n",
       "      <td>0</td>\n",
       "      <td>0</td>\n",
       "      <td>0</td>\n",
       "      <td>1</td>\n",
       "      <td>0</td>\n",
       "      <td>0</td>\n",
       "      <td>0</td>\n",
       "      <td>...</td>\n",
       "      <td>0</td>\n",
       "      <td>0</td>\n",
       "      <td>0</td>\n",
       "      <td>0</td>\n",
       "      <td>0</td>\n",
       "      <td>0</td>\n",
       "      <td>1</td>\n",
       "      <td>0</td>\n",
       "      <td>0</td>\n",
       "      <td>0</td>\n",
       "    </tr>\n",
       "  </tbody>\n",
       "</table>\n",
       "<p>5 rows × 304 columns</p>\n",
       "</div>"
      ],
      "text/plain": [
       "        registration_year     power  kilometer  vehicle_type_convertible  \\\n",
       "57894           -1.853751 -1.166155  -1.055872                         0   \n",
       "134837          -0.954434 -0.317719   0.589576                         0   \n",
       "260428          -0.205004  0.547033   0.589576                         0   \n",
       "212600          -1.254206 -0.513512   0.589576                         1   \n",
       "71497            0.244655  0.302292   0.589576                         0   \n",
       "\n",
       "        vehicle_type_coupe  vehicle_type_other/no info  vehicle_type_sedan  \\\n",
       "57894                    0                           0                   0   \n",
       "134837                   1                           0                   0   \n",
       "260428                   0                           0                   1   \n",
       "212600                   0                           0                   0   \n",
       "71497                    0                           0                   1   \n",
       "\n",
       "        vehicle_type_small  vehicle_type_suv  vehicle_type_wagon  ...  \\\n",
       "57894                    1                 0                   0  ...   \n",
       "134837                   0                 0                   0  ...   \n",
       "260428                   0                 0                   0  ...   \n",
       "212600                   0                 0                   0  ...   \n",
       "71497                    0                 0                   0  ...   \n",
       "\n",
       "        brand_skoda  brand_smart  brand_subaru  brand_suzuki  brand_toyota  \\\n",
       "57894             0            0             0             0             0   \n",
       "134837            0            0             0             0             0   \n",
       "260428            0            0             0             0             0   \n",
       "212600            0            0             0             0             0   \n",
       "71497             0            0             0             0             0   \n",
       "\n",
       "        brand_trabant  brand_volkswagen  brand_volvo  not_repaired_no info  \\\n",
       "57894               0                 0            0                     0   \n",
       "134837              0                 0            0                     1   \n",
       "260428              0                 0            0                     0   \n",
       "212600              0                 1            0                     0   \n",
       "71497               0                 1            0                     0   \n",
       "\n",
       "        not_repaired_yes  \n",
       "57894                  1  \n",
       "134837                 0  \n",
       "260428                 0  \n",
       "212600                 0  \n",
       "71497                  0  \n",
       "\n",
       "[5 rows x 304 columns]"
      ]
     },
     "execution_count": 68,
     "metadata": {},
     "output_type": "execute_result"
    }
   ],
   "source": [
    "# вывод первых 5 строк выборки\n",
    "features_train.head()"
   ]
  },
  {
   "cell_type": "code",
   "execution_count": 69,
   "metadata": {
    "scrolled": true
   },
   "outputs": [
    {
     "data": {
      "text/html": [
       "<div>\n",
       "<style scoped>\n",
       "    .dataframe tbody tr th:only-of-type {\n",
       "        vertical-align: middle;\n",
       "    }\n",
       "\n",
       "    .dataframe tbody tr th {\n",
       "        vertical-align: top;\n",
       "    }\n",
       "\n",
       "    .dataframe thead th {\n",
       "        text-align: right;\n",
       "    }\n",
       "</style>\n",
       "<table border=\"1\" class=\"dataframe\">\n",
       "  <thead>\n",
       "    <tr style=\"text-align: right;\">\n",
       "      <th></th>\n",
       "      <th>registration_year</th>\n",
       "      <th>power</th>\n",
       "      <th>kilometer</th>\n",
       "      <th>vehicle_type_convertible</th>\n",
       "      <th>vehicle_type_coupe</th>\n",
       "      <th>vehicle_type_other/no info</th>\n",
       "      <th>vehicle_type_sedan</th>\n",
       "      <th>vehicle_type_small</th>\n",
       "      <th>vehicle_type_suv</th>\n",
       "      <th>vehicle_type_wagon</th>\n",
       "      <th>...</th>\n",
       "      <th>brand_skoda</th>\n",
       "      <th>brand_smart</th>\n",
       "      <th>brand_subaru</th>\n",
       "      <th>brand_suzuki</th>\n",
       "      <th>brand_toyota</th>\n",
       "      <th>brand_trabant</th>\n",
       "      <th>brand_volkswagen</th>\n",
       "      <th>brand_volvo</th>\n",
       "      <th>not_repaired_no info</th>\n",
       "      <th>not_repaired_yes</th>\n",
       "    </tr>\n",
       "  </thead>\n",
       "  <tbody>\n",
       "    <tr>\n",
       "      <th>47445</th>\n",
       "      <td>0.094769</td>\n",
       "      <td>0.465452</td>\n",
       "      <td>0.589576</td>\n",
       "      <td>0</td>\n",
       "      <td>0</td>\n",
       "      <td>0</td>\n",
       "      <td>0</td>\n",
       "      <td>0</td>\n",
       "      <td>0</td>\n",
       "      <td>1</td>\n",
       "      <td>...</td>\n",
       "      <td>0</td>\n",
       "      <td>0</td>\n",
       "      <td>0</td>\n",
       "      <td>0</td>\n",
       "      <td>0</td>\n",
       "      <td>0</td>\n",
       "      <td>0</td>\n",
       "      <td>0</td>\n",
       "      <td>0</td>\n",
       "      <td>0</td>\n",
       "    </tr>\n",
       "    <tr>\n",
       "      <th>246946</th>\n",
       "      <td>0.394541</td>\n",
       "      <td>-0.937730</td>\n",
       "      <td>-0.781631</td>\n",
       "      <td>0</td>\n",
       "      <td>0</td>\n",
       "      <td>0</td>\n",
       "      <td>0</td>\n",
       "      <td>1</td>\n",
       "      <td>0</td>\n",
       "      <td>0</td>\n",
       "      <td>...</td>\n",
       "      <td>0</td>\n",
       "      <td>0</td>\n",
       "      <td>0</td>\n",
       "      <td>0</td>\n",
       "      <td>0</td>\n",
       "      <td>0</td>\n",
       "      <td>1</td>\n",
       "      <td>0</td>\n",
       "      <td>0</td>\n",
       "      <td>0</td>\n",
       "    </tr>\n",
       "    <tr>\n",
       "      <th>111637</th>\n",
       "      <td>-1.703865</td>\n",
       "      <td>0.465452</td>\n",
       "      <td>0.589576</td>\n",
       "      <td>0</td>\n",
       "      <td>1</td>\n",
       "      <td>0</td>\n",
       "      <td>0</td>\n",
       "      <td>0</td>\n",
       "      <td>0</td>\n",
       "      <td>0</td>\n",
       "      <td>...</td>\n",
       "      <td>0</td>\n",
       "      <td>0</td>\n",
       "      <td>0</td>\n",
       "      <td>0</td>\n",
       "      <td>0</td>\n",
       "      <td>0</td>\n",
       "      <td>0</td>\n",
       "      <td>0</td>\n",
       "      <td>0</td>\n",
       "      <td>0</td>\n",
       "    </tr>\n",
       "    <tr>\n",
       "      <th>88104</th>\n",
       "      <td>1.293857</td>\n",
       "      <td>-0.366667</td>\n",
       "      <td>-2.427079</td>\n",
       "      <td>0</td>\n",
       "      <td>0</td>\n",
       "      <td>0</td>\n",
       "      <td>0</td>\n",
       "      <td>1</td>\n",
       "      <td>0</td>\n",
       "      <td>0</td>\n",
       "      <td>...</td>\n",
       "      <td>0</td>\n",
       "      <td>0</td>\n",
       "      <td>0</td>\n",
       "      <td>0</td>\n",
       "      <td>1</td>\n",
       "      <td>0</td>\n",
       "      <td>0</td>\n",
       "      <td>0</td>\n",
       "      <td>0</td>\n",
       "      <td>1</td>\n",
       "    </tr>\n",
       "    <tr>\n",
       "      <th>11468</th>\n",
       "      <td>-1.553979</td>\n",
       "      <td>2.912863</td>\n",
       "      <td>-0.781631</td>\n",
       "      <td>0</td>\n",
       "      <td>0</td>\n",
       "      <td>0</td>\n",
       "      <td>0</td>\n",
       "      <td>0</td>\n",
       "      <td>0</td>\n",
       "      <td>1</td>\n",
       "      <td>...</td>\n",
       "      <td>0</td>\n",
       "      <td>0</td>\n",
       "      <td>0</td>\n",
       "      <td>0</td>\n",
       "      <td>0</td>\n",
       "      <td>0</td>\n",
       "      <td>1</td>\n",
       "      <td>0</td>\n",
       "      <td>0</td>\n",
       "      <td>0</td>\n",
       "    </tr>\n",
       "  </tbody>\n",
       "</table>\n",
       "<p>5 rows × 304 columns</p>\n",
       "</div>"
      ],
      "text/plain": [
       "        registration_year     power  kilometer  vehicle_type_convertible  \\\n",
       "47445            0.094769  0.465452   0.589576                         0   \n",
       "246946           0.394541 -0.937730  -0.781631                         0   \n",
       "111637          -1.703865  0.465452   0.589576                         0   \n",
       "88104            1.293857 -0.366667  -2.427079                         0   \n",
       "11468           -1.553979  2.912863  -0.781631                         0   \n",
       "\n",
       "        vehicle_type_coupe  vehicle_type_other/no info  vehicle_type_sedan  \\\n",
       "47445                    0                           0                   0   \n",
       "246946                   0                           0                   0   \n",
       "111637                   1                           0                   0   \n",
       "88104                    0                           0                   0   \n",
       "11468                    0                           0                   0   \n",
       "\n",
       "        vehicle_type_small  vehicle_type_suv  vehicle_type_wagon  ...  \\\n",
       "47445                    0                 0                   1  ...   \n",
       "246946                   1                 0                   0  ...   \n",
       "111637                   0                 0                   0  ...   \n",
       "88104                    1                 0                   0  ...   \n",
       "11468                    0                 0                   1  ...   \n",
       "\n",
       "        brand_skoda  brand_smart  brand_subaru  brand_suzuki  brand_toyota  \\\n",
       "47445             0            0             0             0             0   \n",
       "246946            0            0             0             0             0   \n",
       "111637            0            0             0             0             0   \n",
       "88104             0            0             0             0             1   \n",
       "11468             0            0             0             0             0   \n",
       "\n",
       "        brand_trabant  brand_volkswagen  brand_volvo  not_repaired_no info  \\\n",
       "47445               0                 0            0                     0   \n",
       "246946              0                 1            0                     0   \n",
       "111637              0                 0            0                     0   \n",
       "88104               0                 0            0                     0   \n",
       "11468               0                 1            0                     0   \n",
       "\n",
       "        not_repaired_yes  \n",
       "47445                  0  \n",
       "246946                 0  \n",
       "111637                 0  \n",
       "88104                  1  \n",
       "11468                  0  \n",
       "\n",
       "[5 rows x 304 columns]"
      ]
     },
     "execution_count": 69,
     "metadata": {},
     "output_type": "execute_result"
    }
   ],
   "source": [
    "# вывод первых 5 строк выборки\n",
    "features_test.head()"
   ]
  },
  {
   "cell_type": "markdown",
   "metadata": {},
   "source": [
    "Стандартизация проведена корректно."
   ]
  },
  {
   "cell_type": "markdown",
   "metadata": {},
   "source": [
    "### Обучение моделей"
   ]
  },
  {
   "cell_type": "markdown",
   "metadata": {},
   "source": [
    "Проведем обучение моделей на обучающей выборке и оценим время обучения и скорость предсказания, а также качество предсказания с помощью метрики RMSE для моделей:\n",
    "1. Линейной регрессии\n",
    "2. Линейной регрессии, обученной с помощью алгоритма SGD\n",
    "3. Линейной регрессии, обученной с помощью алгоритма SGD, с регуляризацией\n",
    "4. Случайного леса\n",
    "5. LGBM"
   ]
  },
  {
   "cell_type": "markdown",
   "metadata": {},
   "source": [
    "**Линейная регрессия**"
   ]
  },
  {
   "cell_type": "markdown",
   "metadata": {},
   "source": [
    "Создадим модель линейной регрессии и оценим на данных обучающей выборки ее качество, время обучения и скорость предсказания."
   ]
  },
  {
   "cell_type": "code",
   "execution_count": 70,
   "metadata": {
    "scrolled": false
   },
   "outputs": [],
   "source": [
    "# создание модели\n",
    "model_lr = LinearRegression()"
   ]
  },
  {
   "cell_type": "code",
   "execution_count": 71,
   "metadata": {},
   "outputs": [
    {
     "name": "stdout",
     "output_type": "stream",
     "text": [
      "CPU times: user 3 µs, sys: 1 µs, total: 4 µs\n",
      "Wall time: 6.2 µs\n"
     ]
    },
    {
     "data": {
      "text/plain": [
       "LinearRegression()"
      ]
     },
     "execution_count": 71,
     "metadata": {},
     "output_type": "execute_result"
    }
   ],
   "source": [
    "# обучение модели на обучающей выборке и оценка времени этого обучения\n",
    "%time\n",
    "model_lr.fit(features_train, target_train)"
   ]
  },
  {
   "cell_type": "code",
   "execution_count": 72,
   "metadata": {},
   "outputs": [
    {
     "name": "stdout",
     "output_type": "stream",
     "text": [
      "CPU times: user 4 µs, sys: 3 µs, total: 7 µs\n",
      "Wall time: 5.72 µs\n"
     ]
    }
   ],
   "source": [
    "# предсказание модели на обучающей выборке и оценка времени этого предсказания\n",
    "%time\n",
    "target_pred_lr = model_lr.predict(features_train)"
   ]
  },
  {
   "cell_type": "code",
   "execution_count": 73,
   "metadata": {},
   "outputs": [
    {
     "name": "stdout",
     "output_type": "stream",
     "text": [
      "RMSE линейной регрессии на обучающей выборке: 2666.0507816168806\n"
     ]
    }
   ],
   "source": [
    "# расчет RMSE \n",
    "result_lr = mean_squared_error(target_train, target_pred_lr, squared=False)\n",
    "print(\"RMSE линейной регрессии на обучающей выборке:\", result_lr)"
   ]
  },
  {
   "cell_type": "markdown",
   "metadata": {},
   "source": [
    "**Линейная регрессия, обученная с помощью алгоритма SGD**"
   ]
  },
  {
   "cell_type": "markdown",
   "metadata": {},
   "source": [
    "Создадим модель линейной регрессии, обученной с помощью алгоритма SGD, и оценим на данных обучающей выборки ее качество, время обучения и скорость предсказания."
   ]
  },
  {
   "cell_type": "markdown",
   "metadata": {},
   "source": [
    "Создадим класс модели линейной регрессии, обученной с помощью алгоритма SGD."
   ]
  },
  {
   "cell_type": "code",
   "execution_count": 74,
   "metadata": {},
   "outputs": [],
   "source": [
    "# создание класса модели\n",
    "class SGDLinearRegression:\n",
    "    def __init__(self, step_size, epochs, batch_size):\n",
    "        self.step_size = step_size\n",
    "        self.epochs = epochs\n",
    "        self.batch_size = batch_size\n",
    "    \n",
    "    def fit(self, train_features, train_target):\n",
    "        X = np.concatenate((np.ones((train_features.shape[0], 1)), train_features), axis=1)        \n",
    "        y = train_target\n",
    "        w = np.zeros(X.shape[1])\n",
    "        \n",
    "        for _ in range(self.epochs):\n",
    "            batches_count = X.shape[0] // self.batch_size\n",
    "            for i in range(batches_count):\n",
    "                begin = i * self.batch_size\n",
    "                end = (i + 1) * self.batch_size\n",
    "                X_batch = X[begin:end, :]\n",
    "                y_batch = y[begin:end]\n",
    "                \n",
    "                gradient = 2 * X_batch.T.dot(X_batch.dot(w) - y_batch) / X_batch.shape[0]\n",
    "                \n",
    "                w -= gradient * self.step_size\n",
    "\n",
    "        self.w = w[1:]\n",
    "        self.w0 = w[0]\n",
    "\n",
    "    def predict(self, test_features):\n",
    "        return test_features.dot(self.w) + self.w0"
   ]
  },
  {
   "cell_type": "code",
   "execution_count": 76,
   "metadata": {},
   "outputs": [],
   "source": [
    "# сознание модели с учетом класса выше\n",
    "model_lr_sgd = SGDLinearRegression(0.01, 10, 100)"
   ]
  },
  {
   "cell_type": "code",
   "execution_count": 77,
   "metadata": {},
   "outputs": [
    {
     "name": "stdout",
     "output_type": "stream",
     "text": [
      "CPU times: user 2 µs, sys: 2 µs, total: 4 µs\n",
      "Wall time: 7.87 µs\n"
     ]
    }
   ],
   "source": [
    "# обучение модели на обучающей выборке и оценка времени этого обучения\n",
    "%time\n",
    "model_lr_sgd.fit(features_train, target_train)"
   ]
  },
  {
   "cell_type": "code",
   "execution_count": 78,
   "metadata": {},
   "outputs": [
    {
     "name": "stdout",
     "output_type": "stream",
     "text": [
      "CPU times: user 7 µs, sys: 18 µs, total: 25 µs\n",
      "Wall time: 7.63 µs\n"
     ]
    }
   ],
   "source": [
    "# предсказание модели на обучающей выборке и оценка времени этого предсказания\n",
    "%time\n",
    "target_pred_lr_sgd = model_lr_sgd.predict(features_train)"
   ]
  },
  {
   "cell_type": "code",
   "execution_count": 79,
   "metadata": {},
   "outputs": [
    {
     "name": "stdout",
     "output_type": "stream",
     "text": [
      "RMSE линейной регрессии с SGD на обучающей выборке: 2732.903138618965\n"
     ]
    }
   ],
   "source": [
    "# расчет RMSE \n",
    "result_lr_sgd = mean_squared_error(target_train, target_pred_lr_sgd, squared=False)\n",
    "print(\"RMSE линейной регрессии с SGD на обучающей выборке:\", result_lr_sgd)"
   ]
  },
  {
   "cell_type": "markdown",
   "metadata": {},
   "source": [
    "**Линейная регрессия, обученная с помощью алгоритма SGD, с регуляризацией**"
   ]
  },
  {
   "cell_type": "markdown",
   "metadata": {},
   "source": [
    "Создадим модель линейной регрессии, обученной с помощью алгоритма SGD, применим регуляризацию и оценим на данных обучающей выборки ее качество, время обучения и скорость предсказания."
   ]
  },
  {
   "cell_type": "markdown",
   "metadata": {},
   "source": [
    "Создадим класс модели линейной регрессии, обученной с помощью алгоритма SGD, с применением регуляризации"
   ]
  },
  {
   "cell_type": "code",
   "execution_count": 80,
   "metadata": {},
   "outputs": [],
   "source": [
    "# создание класса модели\n",
    "class SGDLinearRegression:\n",
    "    def __init__(self, step_size, epochs, batch_size, reg_weight):\n",
    "        self.step_size = step_size\n",
    "        self.epochs = epochs\n",
    "        self.batch_size = batch_size\n",
    "        self.reg_weight = reg_weight\n",
    "    \n",
    "    def fit(self, train_features, train_target):\n",
    "        X = np.concatenate((np.ones((train_features.shape[0], 1)), train_features), axis=1)        \n",
    "        y = train_target\n",
    "        w = np.zeros(X.shape[1])\n",
    "        \n",
    "        for _ in range(self.epochs):\n",
    "            batches_count = X.shape[0] // self.batch_size\n",
    "            for i in range(batches_count):\n",
    "                begin = i * self.batch_size\n",
    "                end = (i + 1) * self.batch_size\n",
    "                X_batch = X[begin:end, :]\n",
    "                y_batch = y[begin:end]\n",
    "                \n",
    "                gradient = 2 * X_batch.T.dot(X_batch.dot(w) - y_batch) / X_batch.shape[0]\n",
    "                reg = 2 * w.copy()\n",
    "                reg[0] = 0 # < напишите код здесь >\n",
    "                gradient += self.reg_weight * reg\n",
    "                \n",
    "                w -= self.step_size * gradient\n",
    "\n",
    "        self.w = w[1:]\n",
    "        self.w0 = w[0]\n",
    "\n",
    "    def predict(self, test_features):\n",
    "        return test_features.dot(self.w) + self.w0"
   ]
  },
  {
   "cell_type": "code",
   "execution_count": 81,
   "metadata": {},
   "outputs": [],
   "source": [
    "# сознание модели с учетом класса выше\n",
    "model_lr_sgd_reg = SGDLinearRegression(0.01, 10, 100, 0.1)"
   ]
  },
  {
   "cell_type": "code",
   "execution_count": 82,
   "metadata": {},
   "outputs": [
    {
     "name": "stdout",
     "output_type": "stream",
     "text": [
      "CPU times: user 1e+03 ns, sys: 2 µs, total: 3 µs\n",
      "Wall time: 5.96 µs\n"
     ]
    }
   ],
   "source": [
    "# обучение модели на обучающей выборке и оценка времени этого обучения\n",
    "%time\n",
    "model_lr_sgd_reg.fit(features_train, target_train)"
   ]
  },
  {
   "cell_type": "code",
   "execution_count": 83,
   "metadata": {},
   "outputs": [
    {
     "name": "stdout",
     "output_type": "stream",
     "text": [
      "CPU times: user 5 µs, sys: 15 µs, total: 20 µs\n",
      "Wall time: 7.63 µs\n"
     ]
    }
   ],
   "source": [
    "# предсказание модели на обучающей выборке и оценка времени этого предсказания\n",
    "%time\n",
    "target_pred_lr_sgd_reg = model_lr_sgd_reg.predict(features_train)"
   ]
  },
  {
   "cell_type": "code",
   "execution_count": 84,
   "metadata": {},
   "outputs": [
    {
     "name": "stdout",
     "output_type": "stream",
     "text": [
      "RMSE линейной регрессии с SGD с регуляризацией на обучающей выборке: 3051.466337304664\n"
     ]
    }
   ],
   "source": [
    "# расчет RMSE \n",
    "result_lr_sgd_reg = mean_squared_error(target_train, target_pred_lr_sgd_reg, squared=False)\n",
    "print(\"RMSE линейной регрессии с SGD с регуляризацией на обучающей выборке:\", result_lr_sgd_reg)"
   ]
  },
  {
   "cell_type": "markdown",
   "metadata": {},
   "source": [
    "**Случайный лес**"
   ]
  },
  {
   "cell_type": "markdown",
   "metadata": {},
   "source": [
    "Создадим модель Случайного леса и оценим на данных обучающей выборки ее качество, время обучения и скорость предсказания."
   ]
  },
  {
   "cell_type": "markdown",
   "metadata": {},
   "source": [
    "Подберем оптимальные параметры модели с помощью GridSearchCV, задав счетчик."
   ]
  },
  {
   "cell_type": "code",
   "execution_count": 85,
   "metadata": {
    "scrolled": true
   },
   "outputs": [],
   "source": [
    "# подготовка счетчика для оценки качества модели на основе RMSE\n",
    "def RMSE(y_true, y_pred):\n",
    "    RMSE = mean_squared_error(y_true, y_pred, squared=False)\n",
    "    return RMSE\n",
    "my_scorer = make_scorer(RMSE, greater_is_better=False)"
   ]
  },
  {
   "cell_type": "code",
   "execution_count": 86,
   "metadata": {},
   "outputs": [
    {
     "data": {
      "text/plain": [
       "{'max_depth': 10, 'n_estimators': 30}"
      ]
     },
     "execution_count": 86,
     "metadata": {},
     "output_type": "execute_result"
    }
   ],
   "source": [
    "# подбор параметров с помощью GridSearchCV - количество вариантов ограничено из-за низкой производительности компьютера\n",
    "clf = RandomForestRegressor(random_state=state)\n",
    "parameters = {'n_estimators': [10, 30],\n",
    "              'max_depth': [5, 10]}\n",
    "grid = GridSearchCV(clf, parameters, cv=5, scoring=my_scorer, n_jobs=-1)\n",
    "grid.fit(features_train, target_train)\n",
    "grid.best_params_"
   ]
  },
  {
   "cell_type": "markdown",
   "metadata": {},
   "source": [
    "Наилучшие из предложенных для оценки GridSearchCV параметров - глубина 10, оценщиков 30. Создадим модель с этими параметрами."
   ]
  },
  {
   "cell_type": "code",
   "execution_count": 87,
   "metadata": {},
   "outputs": [],
   "source": [
    "# сознание модели\n",
    "model_forest = RandomForestRegressor(random_state=state, max_depth=10, n_estimators=30)"
   ]
  },
  {
   "cell_type": "code",
   "execution_count": 88,
   "metadata": {},
   "outputs": [
    {
     "name": "stdout",
     "output_type": "stream",
     "text": [
      "CPU times: user 3 µs, sys: 0 ns, total: 3 µs\n",
      "Wall time: 6.44 µs\n"
     ]
    },
    {
     "data": {
      "text/plain": [
       "RandomForestRegressor(max_depth=10, n_estimators=30,\n",
       "                      random_state=RandomState(MT19937) at 0x7F884442EE40)"
      ]
     },
     "execution_count": 88,
     "metadata": {},
     "output_type": "execute_result"
    }
   ],
   "source": [
    "# обучение модели на обучающей выборке и оценка времени этого обучения\n",
    "%time\n",
    "model_forest.fit(features_train, target_train)"
   ]
  },
  {
   "cell_type": "code",
   "execution_count": 89,
   "metadata": {},
   "outputs": [
    {
     "name": "stdout",
     "output_type": "stream",
     "text": [
      "CPU times: user 3 µs, sys: 0 ns, total: 3 µs\n",
      "Wall time: 5.72 µs\n"
     ]
    }
   ],
   "source": [
    "# предсказание модели на обучающей выборке и оценка времени этого предсказания\n",
    "%time\n",
    "target_pred_forest = model_forest.predict(features_train)"
   ]
  },
  {
   "cell_type": "code",
   "execution_count": 90,
   "metadata": {},
   "outputs": [
    {
     "name": "stdout",
     "output_type": "stream",
     "text": [
      "RMSE Случайного леса на обучающей выборке: 1822.5520583099674\n"
     ]
    }
   ],
   "source": [
    "# расчет RMSE \n",
    "result_forest = mean_squared_error(target_train, target_pred_forest, squared=False)\n",
    "print(\"RMSE Случайного леса на обучающей выборке:\", result_forest)"
   ]
  },
  {
   "cell_type": "markdown",
   "metadata": {},
   "source": [
    "**LGBM**"
   ]
  },
  {
   "cell_type": "markdown",
   "metadata": {},
   "source": [
    "Создадим модель LGBM и оценим на данных обучающей выборки ее качество, время обучения и скорость предсказания."
   ]
  },
  {
   "cell_type": "markdown",
   "metadata": {},
   "source": [
    "Подберем оптимальные параметры модели с помощью GridSearchCV."
   ]
  },
  {
   "cell_type": "code",
   "execution_count": 91,
   "metadata": {},
   "outputs": [
    {
     "data": {
      "text/plain": [
       "{'max_depth': 9, 'n_estimators': 100}"
      ]
     },
     "execution_count": 91,
     "metadata": {},
     "output_type": "execute_result"
    }
   ],
   "source": [
    "# подбор параметров с помощью GridSearchCV\n",
    "clf = ltb.LGBMRegressor(random_state=state)\n",
    "parameters = {\n",
    "    'max_depth': [5, 9],\n",
    "    'n_estimators': [50, 100],\n",
    "}\n",
    "grid = GridSearchCV(clf, parameters, cv=5, scoring=my_scorer, n_jobs=-1)\n",
    "grid.fit(features_train, target_train)\n",
    "grid.best_params_"
   ]
  },
  {
   "cell_type": "markdown",
   "metadata": {},
   "source": [
    "Наилучшие из предложенных для оценки GridSearchCV параметров - глубина 9, оценщиков 100. Создадим модель с этими параметрами."
   ]
  },
  {
   "cell_type": "code",
   "execution_count": 92,
   "metadata": {},
   "outputs": [],
   "source": [
    "# сознание модели\n",
    "model_LGBM = ltb.LGBMRegressor(random_state=state, max_depth=9, n_estimators=100)"
   ]
  },
  {
   "cell_type": "code",
   "execution_count": 93,
   "metadata": {},
   "outputs": [
    {
     "name": "stdout",
     "output_type": "stream",
     "text": [
      "CPU times: user 2 µs, sys: 1e+03 ns, total: 3 µs\n",
      "Wall time: 6.44 µs\n"
     ]
    },
    {
     "data": {
      "text/plain": [
       "LGBMRegressor(max_depth=9, random_state=RandomState(MT19937) at 0x7F884442EE40)"
      ]
     },
     "execution_count": 93,
     "metadata": {},
     "output_type": "execute_result"
    }
   ],
   "source": [
    "# обучение модели на обучающей выборке и оценка времени этого обучения\n",
    "%time\n",
    "model_LGBM.fit(features_train, target_train)"
   ]
  },
  {
   "cell_type": "code",
   "execution_count": 94,
   "metadata": {},
   "outputs": [
    {
     "name": "stdout",
     "output_type": "stream",
     "text": [
      "CPU times: user 2 µs, sys: 0 ns, total: 2 µs\n",
      "Wall time: 5.25 µs\n"
     ]
    }
   ],
   "source": [
    "# предсказание модели на обучающей выборке и оценка времени этого предсказания\n",
    "%time\n",
    "target_pred_LGBM = model_LGBM.predict(features_train)"
   ]
  },
  {
   "cell_type": "code",
   "execution_count": 95,
   "metadata": {},
   "outputs": [
    {
     "name": "stdout",
     "output_type": "stream",
     "text": [
      "RMSE LGBM на обучающей выборке: 1670.2484226266997\n"
     ]
    }
   ],
   "source": [
    "# расчет RMSE \n",
    "result_LGBM = mean_squared_error(target_train, target_pred_LGBM, squared=False)\n",
    "print(\"RMSE LGBM на обучающей выборке:\", result_LGBM)"
   ]
  },
  {
   "cell_type": "markdown",
   "metadata": {},
   "source": [
    "<div style=\"border:solid blue 2px; padding: 20px\">\n",
    "    \n",
    "**Вывод** \n",
    "\n",
    "На данном шаге были проведены следующие работы:\n",
    "1. Подготовка выборки к обучению:\n",
    " * обработка категориальных признаков техникой OHE,\n",
    " * разделение выборки на обучающую и тестовую выборки с признаками и целевым признаком,\n",
    " * стандартизация количественных признаков с помощью алгоритма StandardScaler\n",
    "\n",
    "    \n",
    "2. Обучение моделей:\n",
    "    \n",
    "на данных обучающей выборки было проведено обучение моделей и оценено качество предсказаний (по метрике RMSE), а также измерены скорость предсказания и время обучения для моделей:\n",
    " * Линейной регрессии\n",
    " * Линейной регрессии, обученной с помощью алгоритма SGD\n",
    " * Линейной регрессии, обученной с помощью алгоритма SGD, с регуляризацией\n",
    " * Случайного леса\n",
    " * LGBM  \n",
    "   \n",
    "<div>"
   ]
  },
  {
   "cell_type": "markdown",
   "metadata": {},
   "source": [
    "## Анализ моделей"
   ]
  },
  {
   "cell_type": "markdown",
   "metadata": {},
   "source": [
    "### Выбор модели для работы с тестовой выборкой"
   ]
  },
  {
   "cell_type": "markdown",
   "metadata": {},
   "source": [
    "Подведем итоги проведенных выше тестов для выбора модели с наилучшими характеристиками:\n",
    "\n",
    "|Модель                                   |Качество предсказания - RMSE|Скорость предсказания|Время обучения|\n",
    "|:---------------------------------------:|---------------------------:|--------------------:|-------------:|\n",
    "|Линейная регрессия                       |2666.05                     |6.2 µs               |5.72 µs       |\n",
    "|Линейная регрессия с SGD                 |2732.90                     |7.87 µs              |7.63 µs       |\n",
    "|Линейная регрессия с SGD и регуляризацией|3051.46                     |7.63 µs              |5.96 µs       |\n",
    "|Случайный лес max_depth=10, n_est=30     |1822.55                     |5.72 µs              |6.44 µs       |\n",
    "|LGBM max_depth=9, n_est=100              |1670.24                     |5.25 µs              |6.44 µs       |"
   ]
  },
  {
   "cell_type": "markdown",
   "metadata": {},
   "source": [
    "Наилучшее качество с наименьшим RMSE=1670.24 показала модель LGBM с параметрами max_depth=9, n_est=100. По времени обучения данная модель уступает только модели Линейная регрессия, при этом качество второй модели существенно хуже (2666.05). Скорость предсказания у модели LGBM также наилучшая 5.25 µs.\n",
    "\n",
    "Таким образом, для проверки на тестовой выборке используем модель LGBM с параметрами max_depth=9, n_est=100."
   ]
  },
  {
   "cell_type": "markdown",
   "metadata": {},
   "source": [
    "### Оценка точности модели и времени обучения и скорости предсказания на тестовой выборке"
   ]
  },
  {
   "cell_type": "markdown",
   "metadata": {},
   "source": [
    "Проведем проверку модели LGBM с параметрами max_depth=9, n_est=100 на данных тестовой выборки."
   ]
  },
  {
   "cell_type": "code",
   "execution_count": 96,
   "metadata": {},
   "outputs": [
    {
     "name": "stdout",
     "output_type": "stream",
     "text": [
      "CPU times: user 3 µs, sys: 1e+03 ns, total: 4 µs\n",
      "Wall time: 6.2 µs\n"
     ]
    }
   ],
   "source": [
    "# предсказание модели на тестовой выборке и оценка времени этого предсказания\n",
    "%time\n",
    "target_pred_LGBM = model_LGBM.predict(features_test)"
   ]
  },
  {
   "cell_type": "code",
   "execution_count": 97,
   "metadata": {},
   "outputs": [
    {
     "name": "stdout",
     "output_type": "stream",
     "text": [
      "RMSE LGBM на тестовой выборке: 1703.8356490805775\n"
     ]
    }
   ],
   "source": [
    "# расчет RMSE \n",
    "result_LGBM = mean_squared_error(target_test, target_pred_LGBM, squared=False)\n",
    "print(\"RMSE LGBM на тестовой выборке:\", result_LGBM)"
   ]
  },
  {
   "cell_type": "markdown",
   "metadata": {},
   "source": [
    "<div style=\"border:solid blue 2px; padding: 20px\">\n",
    "    \n",
    "**Вывод** \n",
    "\n",
    "В рамках данного шага были проанализированы результаты работы всех протестированых на обучающих данных моделей и определена модель с наилучшими параметрами для проверки на тестовых данных - модель LGBM с параметрами max_depth=9, n_est=100 (RMSE = 1670.24, время обучения = 5.72 µs, скорость предсказания = 6.2 µs).\n",
    "\n",
    "На тестовых данных модель показала следующие результаты: RMSE = 1703.83 (что удовлетворяет условию задачи и меньше максимально допустимого для теста порога RMSE = 2500), скорость предсказания = 6.2 µs.\n",
    "   \n",
    "<div>"
   ]
  },
  {
   "cell_type": "markdown",
   "metadata": {},
   "source": [
    "## Итоговый вывод"
   ]
  },
  {
   "cell_type": "markdown",
   "metadata": {},
   "source": [
    "<div style=\"border:solid blue 2px; padding: 20px\">\n",
    "    \n",
    "**Вывод**\n",
    "    \n",
    "Для подготовки прототипа модели машинного обучения для использования в приложении по определению стоимости автомобиля по параметрам клиента была проведена следующая работа:\n",
    "    \n",
    "1. Изучена и предобработана переданная на анализ выборка на 354369 строк, 16 столбцов: проведены переименование колонок, изменение типов данных, обработаны пропуски и дубли, проведена проверка данных на адекватность и обработка выбросов, а также очистка данных от нерелевантных для исследования.\n",
    "2. Проведена подготовка данных к обучению: обработаны категориальные признаки техникой OHE, проведено разделение выборки на обучающую и тестовую, осуществлена стандартизация количественных признаков.\n",
    "3. Проведено обучение моделей Линейной регрессии, Линейной регрессии, обученной с помощью алгоритма SGD, Линейной регрессии, обученной с помощью алгоритма SGD, с регуляризацией, Случайного леса, LGBM.\n",
    "Для всех моделей проведена проверка качества предсказания с помощью метрики RMSE, а также замеры времени обучения и скорости предсказания для выбора оптимальной модели.\n",
    "4. Наилучшей моделью признана модель LGBM с параметрами max_depth=9, n_est=100 (RMSE = 1670.24, время обучения = 6.44 µs, скорость предсказания = 5.25 µs). Проверка на тестовых данных показала также приемлемые результаты: RMSE = 1703.83 (что удовлетворяет условию задачи), скорость предсказания = 6.2 µs.\n",
    "\n",
    "Данная модель может быть рекомендована для дальнейшего использования в приложении.\n",
    "  \n",
    "   \n",
    "<div>"
   ]
  }
 ],
 "metadata": {
  "ExecuteTimeLog": [
   {
    "duration": 1558,
    "start_time": "2022-07-09T10:34:06.247Z"
   },
   {
    "duration": 1122,
    "start_time": "2022-07-09T10:34:47.078Z"
   },
   {
    "duration": 143,
    "start_time": "2022-07-09T10:35:37.746Z"
   },
   {
    "duration": 6,
    "start_time": "2022-07-09T11:02:30.219Z"
   },
   {
    "duration": 59,
    "start_time": "2022-07-09T11:03:15.979Z"
   },
   {
    "duration": 14,
    "start_time": "2022-07-09T11:03:19.572Z"
   },
   {
    "duration": 6,
    "start_time": "2022-07-09T11:03:31.194Z"
   },
   {
    "duration": 74,
    "start_time": "2022-07-09T11:03:48.066Z"
   },
   {
    "duration": 69,
    "start_time": "2022-07-09T11:07:24.449Z"
   },
   {
    "duration": 5,
    "start_time": "2022-07-09T11:07:27.345Z"
   },
   {
    "duration": 45,
    "start_time": "2022-07-09T11:12:36.266Z"
   },
   {
    "duration": 93,
    "start_time": "2022-07-09T11:15:32.858Z"
   },
   {
    "duration": 149,
    "start_time": "2022-07-09T11:16:36.406Z"
   },
   {
    "duration": 20,
    "start_time": "2022-07-09T11:17:34.348Z"
   },
   {
    "duration": 818,
    "start_time": "2022-07-09T11:17:47.926Z"
   },
   {
    "duration": 17,
    "start_time": "2022-07-09T11:18:20.414Z"
   },
   {
    "duration": 228,
    "start_time": "2022-07-09T11:18:50.636Z"
   },
   {
    "duration": 103,
    "start_time": "2022-07-09T11:20:04.684Z"
   },
   {
    "duration": 118,
    "start_time": "2022-07-09T11:20:53.873Z"
   },
   {
    "duration": 20,
    "start_time": "2022-07-09T11:21:32.948Z"
   },
   {
    "duration": 9,
    "start_time": "2022-07-09T11:21:46.354Z"
   },
   {
    "duration": 47,
    "start_time": "2022-07-09T11:22:59.227Z"
   },
   {
    "duration": 373,
    "start_time": "2022-07-09T11:23:08.680Z"
   },
   {
    "duration": 331,
    "start_time": "2022-07-09T11:23:19.865Z"
   },
   {
    "duration": 303,
    "start_time": "2022-07-09T11:24:01.854Z"
   },
   {
    "duration": 289,
    "start_time": "2022-07-09T11:24:11.622Z"
   },
   {
    "duration": 294,
    "start_time": "2022-07-09T11:24:25.721Z"
   },
   {
    "duration": 300,
    "start_time": "2022-07-09T11:24:30.808Z"
   },
   {
    "duration": 311,
    "start_time": "2022-07-09T11:24:35.906Z"
   },
   {
    "duration": 296,
    "start_time": "2022-07-09T11:25:49.523Z"
   },
   {
    "duration": 292,
    "start_time": "2022-07-09T11:25:54.271Z"
   },
   {
    "duration": 295,
    "start_time": "2022-07-09T11:26:03.921Z"
   },
   {
    "duration": 318,
    "start_time": "2022-07-09T11:26:40.145Z"
   },
   {
    "duration": 316,
    "start_time": "2022-07-09T11:27:50.709Z"
   },
   {
    "duration": 337,
    "start_time": "2022-07-09T11:28:08.192Z"
   },
   {
    "duration": 399,
    "start_time": "2022-07-09T11:28:18.785Z"
   },
   {
    "duration": 324,
    "start_time": "2022-07-09T11:29:19.793Z"
   },
   {
    "duration": 5,
    "start_time": "2022-07-09T11:30:01.130Z"
   },
   {
    "duration": 908,
    "start_time": "2022-07-09T11:30:01.137Z"
   },
   {
    "duration": 207,
    "start_time": "2022-07-09T11:30:02.047Z"
   },
   {
    "duration": 8,
    "start_time": "2022-07-09T11:30:02.257Z"
   },
   {
    "duration": 35,
    "start_time": "2022-07-09T11:30:02.268Z"
   },
   {
    "duration": 6,
    "start_time": "2022-07-09T11:30:02.305Z"
   },
   {
    "duration": 70,
    "start_time": "2022-07-09T11:30:02.313Z"
   },
   {
    "duration": 243,
    "start_time": "2022-07-09T11:30:02.386Z"
   },
   {
    "duration": 99,
    "start_time": "2022-07-09T11:30:02.632Z"
   },
   {
    "duration": 300,
    "start_time": "2022-07-09T11:30:09.424Z"
   },
   {
    "duration": 1376,
    "start_time": "2022-07-09T11:35:51.071Z"
   },
   {
    "duration": 849,
    "start_time": "2022-07-09T11:35:52.450Z"
   },
   {
    "duration": 149,
    "start_time": "2022-07-09T11:35:53.301Z"
   },
   {
    "duration": 4,
    "start_time": "2022-07-09T11:35:53.453Z"
   },
   {
    "duration": 64,
    "start_time": "2022-07-09T11:35:53.459Z"
   },
   {
    "duration": 5,
    "start_time": "2022-07-09T11:35:53.525Z"
   },
   {
    "duration": 51,
    "start_time": "2022-07-09T11:35:53.545Z"
   },
   {
    "duration": 301,
    "start_time": "2022-07-09T11:35:53.598Z"
   },
   {
    "duration": 108,
    "start_time": "2022-07-09T11:35:53.901Z"
   },
   {
    "duration": 322,
    "start_time": "2022-07-09T11:35:54.012Z"
   },
   {
    "duration": 322,
    "start_time": "2022-07-09T11:35:54.336Z"
   },
   {
    "duration": 319,
    "start_time": "2022-07-09T11:35:54.660Z"
   },
   {
    "duration": 5,
    "start_time": "2022-07-09T11:36:43.254Z"
   },
   {
    "duration": 756,
    "start_time": "2022-07-09T11:36:43.264Z"
   },
   {
    "duration": 137,
    "start_time": "2022-07-09T11:36:44.022Z"
   },
   {
    "duration": 5,
    "start_time": "2022-07-09T11:36:44.160Z"
   },
   {
    "duration": 29,
    "start_time": "2022-07-09T11:36:44.167Z"
   },
   {
    "duration": 5,
    "start_time": "2022-07-09T11:36:44.198Z"
   },
   {
    "duration": 62,
    "start_time": "2022-07-09T11:36:44.205Z"
   },
   {
    "duration": 237,
    "start_time": "2022-07-09T11:36:44.270Z"
   },
   {
    "duration": 105,
    "start_time": "2022-07-09T11:36:44.509Z"
   },
   {
    "duration": 277,
    "start_time": "2022-07-09T11:36:44.615Z"
   },
   {
    "duration": 295,
    "start_time": "2022-07-09T11:36:44.894Z"
   },
   {
    "duration": 309,
    "start_time": "2022-07-09T11:40:30.332Z"
   },
   {
    "duration": 299,
    "start_time": "2022-07-09T11:40:52.351Z"
   },
   {
    "duration": 229,
    "start_time": "2022-07-09T11:58:46.697Z"
   },
   {
    "duration": 42,
    "start_time": "2022-07-09T12:02:03.203Z"
   },
   {
    "duration": 4,
    "start_time": "2022-07-09T12:09:20.800Z"
   },
   {
    "duration": 20,
    "start_time": "2022-07-09T12:13:06.722Z"
   },
   {
    "duration": 34,
    "start_time": "2022-07-09T12:14:14.828Z"
   },
   {
    "duration": 48,
    "start_time": "2022-07-09T12:16:32.142Z"
   },
   {
    "duration": 51,
    "start_time": "2022-07-09T12:19:39.685Z"
   },
   {
    "duration": 22,
    "start_time": "2022-07-09T12:19:46.512Z"
   },
   {
    "duration": 38,
    "start_time": "2022-07-09T12:20:17.590Z"
   },
   {
    "duration": 51,
    "start_time": "2022-07-09T12:21:44.732Z"
   },
   {
    "duration": 21,
    "start_time": "2022-07-09T12:22:19.101Z"
   },
   {
    "duration": 41,
    "start_time": "2022-07-09T12:22:42.243Z"
   },
   {
    "duration": 31,
    "start_time": "2022-07-09T12:23:53.001Z"
   },
   {
    "duration": 21,
    "start_time": "2022-07-09T12:24:38.195Z"
   },
   {
    "duration": 40,
    "start_time": "2022-07-09T12:25:13.824Z"
   },
   {
    "duration": 22,
    "start_time": "2022-07-09T12:26:01.189Z"
   },
   {
    "duration": 22,
    "start_time": "2022-07-09T12:26:25.759Z"
   },
   {
    "duration": 76,
    "start_time": "2022-07-09T12:27:09.868Z"
   },
   {
    "duration": 86,
    "start_time": "2022-07-09T12:27:37.433Z"
   },
   {
    "duration": 105,
    "start_time": "2022-07-09T12:33:16.080Z"
   },
   {
    "duration": 77,
    "start_time": "2022-07-09T12:33:24.030Z"
   },
   {
    "duration": 67,
    "start_time": "2022-07-09T12:33:31.351Z"
   },
   {
    "duration": 4,
    "start_time": "2022-07-09T12:34:57.983Z"
   },
   {
    "duration": 12,
    "start_time": "2022-07-09T12:35:19.467Z"
   },
   {
    "duration": 10,
    "start_time": "2022-07-09T12:35:28.552Z"
   },
   {
    "duration": 7,
    "start_time": "2022-07-09T12:35:36.580Z"
   },
   {
    "duration": 78,
    "start_time": "2022-07-09T13:18:43.039Z"
   },
   {
    "duration": 5,
    "start_time": "2022-07-09T13:24:56.434Z"
   },
   {
    "duration": 15,
    "start_time": "2022-07-09T13:26:34.889Z"
   },
   {
    "duration": 36,
    "start_time": "2022-07-09T13:27:12.159Z"
   },
   {
    "duration": 9,
    "start_time": "2022-07-09T13:27:47.442Z"
   },
   {
    "duration": 97,
    "start_time": "2022-07-09T13:28:10.252Z"
   },
   {
    "duration": 17,
    "start_time": "2022-07-09T13:42:42.006Z"
   },
   {
    "duration": 16,
    "start_time": "2022-07-09T13:42:57.692Z"
   },
   {
    "duration": 20,
    "start_time": "2022-07-09T13:45:02.959Z"
   },
   {
    "duration": 1120,
    "start_time": "2022-07-09T13:45:25.940Z"
   },
   {
    "duration": 17,
    "start_time": "2022-07-09T13:46:08.599Z"
   },
   {
    "duration": 12,
    "start_time": "2022-07-09T13:48:52.397Z"
   },
   {
    "duration": 581,
    "start_time": "2022-07-09T13:49:52.039Z"
   },
   {
    "duration": 26,
    "start_time": "2022-07-09T13:52:53.049Z"
   },
   {
    "duration": 16,
    "start_time": "2022-07-09T13:55:29.340Z"
   },
   {
    "duration": 26,
    "start_time": "2022-07-09T13:55:42.738Z"
   },
   {
    "duration": 8,
    "start_time": "2022-07-09T13:56:32.098Z"
   },
   {
    "duration": 22,
    "start_time": "2022-07-09T13:56:34.877Z"
   },
   {
    "duration": 19,
    "start_time": "2022-07-09T13:58:29.780Z"
   },
   {
    "duration": 45,
    "start_time": "2022-07-09T13:58:39.658Z"
   },
   {
    "duration": 47,
    "start_time": "2022-07-09T13:59:25.361Z"
   },
   {
    "duration": 33,
    "start_time": "2022-07-09T13:59:55.488Z"
   },
   {
    "duration": 47,
    "start_time": "2022-07-09T13:59:59.368Z"
   },
   {
    "duration": 82,
    "start_time": "2022-07-09T14:04:25.913Z"
   },
   {
    "duration": 48,
    "start_time": "2022-07-09T14:04:36.899Z"
   },
   {
    "duration": 47,
    "start_time": "2022-07-09T14:05:48.166Z"
   },
   {
    "duration": 62,
    "start_time": "2022-07-09T14:06:47.433Z"
   },
   {
    "duration": 4,
    "start_time": "2022-07-09T14:11:32.209Z"
   },
   {
    "duration": 800,
    "start_time": "2022-07-09T14:11:32.237Z"
   },
   {
    "duration": 150,
    "start_time": "2022-07-09T14:11:33.045Z"
   },
   {
    "duration": 67,
    "start_time": "2022-07-09T14:11:33.197Z"
   },
   {
    "duration": 5,
    "start_time": "2022-07-09T14:11:33.266Z"
   },
   {
    "duration": 47,
    "start_time": "2022-07-09T14:11:33.272Z"
   },
   {
    "duration": 243,
    "start_time": "2022-07-09T14:11:33.321Z"
   },
   {
    "duration": 97,
    "start_time": "2022-07-09T14:11:33.566Z"
   },
   {
    "duration": 334,
    "start_time": "2022-07-09T14:11:33.665Z"
   },
   {
    "duration": 319,
    "start_time": "2022-07-09T14:11:34.001Z"
   },
   {
    "duration": 272,
    "start_time": "2022-07-09T14:11:34.323Z"
   },
   {
    "duration": 102,
    "start_time": "2022-07-09T14:11:34.597Z"
   },
   {
    "duration": 39,
    "start_time": "2022-07-09T14:11:38.550Z"
   },
   {
    "duration": 5,
    "start_time": "2022-07-09T14:12:02.386Z"
   },
   {
    "duration": 790,
    "start_time": "2022-07-09T14:12:02.405Z"
   },
   {
    "duration": 132,
    "start_time": "2022-07-09T14:12:03.197Z"
   },
   {
    "duration": 35,
    "start_time": "2022-07-09T14:12:03.331Z"
   },
   {
    "duration": 4,
    "start_time": "2022-07-09T14:12:03.368Z"
   },
   {
    "duration": 40,
    "start_time": "2022-07-09T14:12:03.374Z"
   },
   {
    "duration": 251,
    "start_time": "2022-07-09T14:12:03.416Z"
   },
   {
    "duration": 99,
    "start_time": "2022-07-09T14:12:03.669Z"
   },
   {
    "duration": 283,
    "start_time": "2022-07-09T14:12:03.770Z"
   },
   {
    "duration": 313,
    "start_time": "2022-07-09T14:12:04.054Z"
   },
   {
    "duration": 253,
    "start_time": "2022-07-09T14:12:04.370Z"
   },
   {
    "duration": 92,
    "start_time": "2022-07-09T14:12:04.624Z"
   },
   {
    "duration": 45,
    "start_time": "2022-07-09T14:12:04.718Z"
   },
   {
    "duration": 19,
    "start_time": "2022-07-09T14:12:04.765Z"
   },
   {
    "duration": 21,
    "start_time": "2022-07-09T14:12:04.785Z"
   },
   {
    "duration": 47,
    "start_time": "2022-07-09T14:12:09.506Z"
   },
   {
    "duration": 58,
    "start_time": "2022-07-09T14:12:13.710Z"
   },
   {
    "duration": 22,
    "start_time": "2022-07-09T14:12:14.789Z"
   },
   {
    "duration": 36,
    "start_time": "2022-07-09T14:12:26.689Z"
   },
   {
    "duration": 55,
    "start_time": "2022-07-09T14:12:30.047Z"
   },
   {
    "duration": 20,
    "start_time": "2022-07-09T14:12:32.635Z"
   },
   {
    "duration": 35,
    "start_time": "2022-07-09T14:12:42.955Z"
   },
   {
    "duration": 19,
    "start_time": "2022-07-09T14:12:46.135Z"
   },
   {
    "duration": 21,
    "start_time": "2022-07-09T14:12:48.796Z"
   },
   {
    "duration": 55,
    "start_time": "2022-07-09T14:12:57.048Z"
   },
   {
    "duration": 19,
    "start_time": "2022-07-09T14:12:59.617Z"
   },
   {
    "duration": 22,
    "start_time": "2022-07-09T14:13:01.097Z"
   },
   {
    "duration": 89,
    "start_time": "2022-07-09T14:13:03.591Z"
   },
   {
    "duration": 66,
    "start_time": "2022-07-09T14:13:12.292Z"
   },
   {
    "duration": 5,
    "start_time": "2022-07-09T14:13:16.528Z"
   },
   {
    "duration": 23,
    "start_time": "2022-07-09T14:13:18.061Z"
   },
   {
    "duration": 77,
    "start_time": "2022-07-09T14:13:24.672Z"
   },
   {
    "duration": 53,
    "start_time": "2022-07-09T14:15:09.570Z"
   },
   {
    "duration": 1357,
    "start_time": "2022-07-09T14:15:55.823Z"
   },
   {
    "duration": 18,
    "start_time": "2022-07-09T14:17:49.405Z"
   },
   {
    "duration": 56,
    "start_time": "2022-07-09T14:17:52.182Z"
   },
   {
    "duration": 239,
    "start_time": "2022-07-09T14:24:45.044Z"
   },
   {
    "duration": 17,
    "start_time": "2022-07-09T14:25:59.862Z"
   },
   {
    "duration": 77,
    "start_time": "2022-07-09T14:26:14.411Z"
   },
   {
    "duration": 15,
    "start_time": "2022-07-09T14:26:44.886Z"
   },
   {
    "duration": 19,
    "start_time": "2022-07-09T14:27:09.064Z"
   },
   {
    "duration": 10,
    "start_time": "2022-07-09T14:28:17.361Z"
   },
   {
    "duration": 11,
    "start_time": "2022-07-09T14:28:31.019Z"
   },
   {
    "duration": 14,
    "start_time": "2022-07-09T14:29:24.411Z"
   },
   {
    "duration": 15,
    "start_time": "2022-07-09T14:29:50.598Z"
   },
   {
    "duration": 12,
    "start_time": "2022-07-09T14:30:00.266Z"
   },
   {
    "duration": 21,
    "start_time": "2022-07-09T14:31:09.365Z"
   },
   {
    "duration": 61,
    "start_time": "2022-07-09T14:31:10.226Z"
   },
   {
    "duration": 52,
    "start_time": "2022-07-09T14:31:35.668Z"
   },
   {
    "duration": 48,
    "start_time": "2022-07-09T16:23:30.157Z"
   },
   {
    "duration": 1424,
    "start_time": "2022-07-09T16:23:33.450Z"
   },
   {
    "duration": 1087,
    "start_time": "2022-07-09T16:23:34.876Z"
   },
   {
    "duration": 117,
    "start_time": "2022-07-09T16:23:35.964Z"
   },
   {
    "duration": 58,
    "start_time": "2022-07-09T16:23:36.083Z"
   },
   {
    "duration": 4,
    "start_time": "2022-07-09T16:23:36.144Z"
   },
   {
    "duration": 60,
    "start_time": "2022-07-09T16:23:36.150Z"
   },
   {
    "duration": 281,
    "start_time": "2022-07-09T16:23:36.212Z"
   },
   {
    "duration": 75,
    "start_time": "2022-07-09T16:23:36.495Z"
   },
   {
    "duration": 285,
    "start_time": "2022-07-09T16:23:36.572Z"
   },
   {
    "duration": 342,
    "start_time": "2022-07-09T16:23:36.859Z"
   },
   {
    "duration": 248,
    "start_time": "2022-07-09T16:23:37.202Z"
   },
   {
    "duration": 87,
    "start_time": "2022-07-09T16:23:37.452Z"
   },
   {
    "duration": 31,
    "start_time": "2022-07-09T16:23:37.540Z"
   },
   {
    "duration": 30,
    "start_time": "2022-07-09T16:23:37.574Z"
   },
   {
    "duration": 19,
    "start_time": "2022-07-09T16:23:37.605Z"
   },
   {
    "duration": 30,
    "start_time": "2022-07-09T16:23:37.626Z"
   },
   {
    "duration": 68,
    "start_time": "2022-07-09T16:23:37.657Z"
   },
   {
    "duration": 19,
    "start_time": "2022-07-09T16:23:37.727Z"
   },
   {
    "duration": 29,
    "start_time": "2022-07-09T16:23:37.748Z"
   },
   {
    "duration": 67,
    "start_time": "2022-07-09T16:23:37.779Z"
   },
   {
    "duration": 19,
    "start_time": "2022-07-09T16:23:37.848Z"
   },
   {
    "duration": 55,
    "start_time": "2022-07-09T16:23:37.869Z"
   },
   {
    "duration": 18,
    "start_time": "2022-07-09T16:23:37.926Z"
   },
   {
    "duration": 18,
    "start_time": "2022-07-09T16:23:37.945Z"
   },
   {
    "duration": 52,
    "start_time": "2022-07-09T16:23:37.964Z"
   },
   {
    "duration": 16,
    "start_time": "2022-07-09T16:23:38.018Z"
   },
   {
    "duration": 18,
    "start_time": "2022-07-09T16:23:38.036Z"
   },
   {
    "duration": 81,
    "start_time": "2022-07-09T16:23:38.056Z"
   },
   {
    "duration": 73,
    "start_time": "2022-07-09T16:23:38.139Z"
   },
   {
    "duration": 5,
    "start_time": "2022-07-09T16:23:38.213Z"
   },
   {
    "duration": 26,
    "start_time": "2022-07-09T16:23:38.219Z"
   },
   {
    "duration": 75,
    "start_time": "2022-07-09T16:23:38.247Z"
   },
   {
    "duration": 46,
    "start_time": "2022-07-09T16:23:38.324Z"
   },
   {
    "duration": 1072,
    "start_time": "2022-07-09T16:23:38.372Z"
   },
   {
    "duration": 17,
    "start_time": "2022-07-09T16:23:45.752Z"
   },
   {
    "duration": 54,
    "start_time": "2022-07-09T16:23:49.765Z"
   },
   {
    "duration": 12,
    "start_time": "2022-07-09T16:28:36.156Z"
   },
   {
    "duration": 51,
    "start_time": "2022-07-09T16:29:51.822Z"
   },
   {
    "duration": 5,
    "start_time": "2022-07-09T16:29:55.860Z"
   },
   {
    "duration": 71,
    "start_time": "2022-07-09T16:30:26.762Z"
   },
   {
    "duration": 5,
    "start_time": "2022-07-09T16:31:13.607Z"
   },
   {
    "duration": 1539,
    "start_time": "2022-07-09T16:31:28.945Z"
   },
   {
    "duration": 5,
    "start_time": "2022-07-09T16:31:48.991Z"
   },
   {
    "duration": 1504,
    "start_time": "2022-07-09T16:32:08.478Z"
   },
   {
    "duration": 7,
    "start_time": "2022-07-09T16:33:18.461Z"
   },
   {
    "duration": 11,
    "start_time": "2022-07-09T16:33:28.565Z"
   },
   {
    "duration": 5,
    "start_time": "2022-07-09T16:33:35.848Z"
   },
   {
    "duration": 6,
    "start_time": "2022-07-09T16:33:45.453Z"
   },
   {
    "duration": 11,
    "start_time": "2022-07-09T16:35:52.533Z"
   },
   {
    "duration": 8,
    "start_time": "2022-07-09T16:36:33.105Z"
   },
   {
    "duration": 8,
    "start_time": "2022-07-09T16:37:42.294Z"
   },
   {
    "duration": 8,
    "start_time": "2022-07-09T16:38:56.240Z"
   },
   {
    "duration": 8,
    "start_time": "2022-07-09T16:40:14.879Z"
   },
   {
    "duration": 7,
    "start_time": "2022-07-09T16:41:42.584Z"
   },
   {
    "duration": 11,
    "start_time": "2022-07-09T16:46:51.051Z"
   },
   {
    "duration": 46915,
    "start_time": "2022-07-09T16:50:38.588Z"
   },
   {
    "duration": 35,
    "start_time": "2022-07-09T16:59:02.503Z"
   },
   {
    "duration": 7,
    "start_time": "2022-07-09T16:59:05.798Z"
   },
   {
    "duration": 7,
    "start_time": "2022-07-09T17:00:52.400Z"
   },
   {
    "duration": 7,
    "start_time": "2022-07-09T17:02:08.474Z"
   },
   {
    "duration": 11,
    "start_time": "2022-07-09T17:02:20.873Z"
   },
   {
    "duration": 32,
    "start_time": "2022-07-09T17:10:20.863Z"
   },
   {
    "duration": 7,
    "start_time": "2022-07-09T17:10:38.552Z"
   },
   {
    "duration": 9,
    "start_time": "2022-07-09T17:10:54.367Z"
   },
   {
    "duration": 45,
    "start_time": "2022-07-09T17:26:40.541Z"
   },
   {
    "duration": 57,
    "start_time": "2022-07-09T17:27:29.803Z"
   },
   {
    "duration": 16,
    "start_time": "2022-07-09T17:32:53.173Z"
   },
   {
    "duration": 20,
    "start_time": "2022-07-09T17:36:38.792Z"
   },
   {
    "duration": 16,
    "start_time": "2022-07-09T17:37:12.972Z"
   },
   {
    "duration": 22,
    "start_time": "2022-07-09T17:37:45.009Z"
   },
   {
    "duration": 9,
    "start_time": "2022-07-09T17:37:46.901Z"
   },
   {
    "duration": 9,
    "start_time": "2022-07-09T17:38:07.115Z"
   },
   {
    "duration": 9,
    "start_time": "2022-07-09T17:38:20.046Z"
   },
   {
    "duration": 4,
    "start_time": "2022-07-09T17:38:35.300Z"
   },
   {
    "duration": 725,
    "start_time": "2022-07-09T17:38:35.307Z"
   },
   {
    "duration": 110,
    "start_time": "2022-07-09T17:38:36.035Z"
   },
   {
    "duration": 23,
    "start_time": "2022-07-09T17:38:36.147Z"
   },
   {
    "duration": 5,
    "start_time": "2022-07-09T17:38:36.173Z"
   },
   {
    "duration": 51,
    "start_time": "2022-07-09T17:38:36.179Z"
   },
   {
    "duration": 250,
    "start_time": "2022-07-09T17:38:36.232Z"
   },
   {
    "duration": 81,
    "start_time": "2022-07-09T17:38:36.484Z"
   },
   {
    "duration": 237,
    "start_time": "2022-07-09T17:38:36.567Z"
   },
   {
    "duration": 279,
    "start_time": "2022-07-09T17:38:36.806Z"
   },
   {
    "duration": 233,
    "start_time": "2022-07-09T17:38:37.087Z"
   },
   {
    "duration": 67,
    "start_time": "2022-07-09T17:38:37.322Z"
   },
   {
    "duration": 41,
    "start_time": "2022-07-09T17:38:37.390Z"
   },
   {
    "duration": 17,
    "start_time": "2022-07-09T17:38:37.433Z"
   },
   {
    "duration": 22,
    "start_time": "2022-07-09T17:38:37.451Z"
   },
   {
    "duration": 54,
    "start_time": "2022-07-09T17:38:37.475Z"
   },
   {
    "duration": 74,
    "start_time": "2022-07-09T17:38:37.531Z"
   },
   {
    "duration": 19,
    "start_time": "2022-07-09T17:38:37.607Z"
   },
   {
    "duration": 31,
    "start_time": "2022-07-09T17:38:37.628Z"
   },
   {
    "duration": 64,
    "start_time": "2022-07-09T17:38:37.660Z"
   },
   {
    "duration": 19,
    "start_time": "2022-07-09T17:38:37.726Z"
   },
   {
    "duration": 29,
    "start_time": "2022-07-09T17:38:37.747Z"
   },
   {
    "duration": 32,
    "start_time": "2022-07-09T17:38:37.777Z"
   },
   {
    "duration": 31,
    "start_time": "2022-07-09T17:38:37.811Z"
   },
   {
    "duration": 42,
    "start_time": "2022-07-09T17:38:37.843Z"
   },
   {
    "duration": 22,
    "start_time": "2022-07-09T17:38:37.886Z"
   },
   {
    "duration": 20,
    "start_time": "2022-07-09T17:38:37.909Z"
   },
   {
    "duration": 83,
    "start_time": "2022-07-09T17:38:37.931Z"
   },
   {
    "duration": 64,
    "start_time": "2022-07-09T17:38:38.018Z"
   },
   {
    "duration": 4,
    "start_time": "2022-07-09T17:38:38.083Z"
   },
   {
    "duration": 20,
    "start_time": "2022-07-09T17:38:38.101Z"
   },
   {
    "duration": 59,
    "start_time": "2022-07-09T17:38:38.123Z"
   },
   {
    "duration": 47,
    "start_time": "2022-07-09T17:38:38.201Z"
   },
   {
    "duration": 1009,
    "start_time": "2022-07-09T17:38:38.249Z"
   },
   {
    "duration": 16,
    "start_time": "2022-07-09T17:38:39.260Z"
   },
   {
    "duration": 60,
    "start_time": "2022-07-09T17:38:39.278Z"
   },
   {
    "duration": 6,
    "start_time": "2022-07-09T17:38:39.340Z"
   },
   {
    "duration": 8,
    "start_time": "2022-07-09T17:38:39.347Z"
   },
   {
    "duration": 48,
    "start_time": "2022-07-09T17:38:39.357Z"
   },
   {
    "duration": 6,
    "start_time": "2022-07-09T17:38:39.407Z"
   },
   {
    "duration": 12,
    "start_time": "2022-07-09T17:38:39.414Z"
   },
   {
    "duration": 33,
    "start_time": "2022-07-09T17:38:39.427Z"
   },
   {
    "duration": 9,
    "start_time": "2022-07-09T17:38:39.462Z"
   },
   {
    "duration": 70,
    "start_time": "2022-07-09T17:38:39.473Z"
   },
   {
    "duration": 62,
    "start_time": "2022-07-09T17:38:39.545Z"
   },
   {
    "duration": 15,
    "start_time": "2022-07-09T17:38:39.609Z"
   },
   {
    "duration": 25,
    "start_time": "2022-07-09T17:39:51.628Z"
   },
   {
    "duration": 18,
    "start_time": "2022-07-09T17:39:59.858Z"
   },
   {
    "duration": 29,
    "start_time": "2022-07-09T17:40:11.487Z"
   },
   {
    "duration": 26,
    "start_time": "2022-07-09T17:40:13.605Z"
   },
   {
    "duration": 4,
    "start_time": "2022-07-09T17:40:28.233Z"
   },
   {
    "duration": 724,
    "start_time": "2022-07-09T17:40:28.241Z"
   },
   {
    "duration": 106,
    "start_time": "2022-07-09T17:40:28.967Z"
   },
   {
    "duration": 32,
    "start_time": "2022-07-09T17:40:29.075Z"
   },
   {
    "duration": 4,
    "start_time": "2022-07-09T17:40:29.109Z"
   },
   {
    "duration": 39,
    "start_time": "2022-07-09T17:40:29.115Z"
   },
   {
    "duration": 219,
    "start_time": "2022-07-09T17:40:29.156Z"
   },
   {
    "duration": 74,
    "start_time": "2022-07-09T17:40:29.376Z"
   },
   {
    "duration": 255,
    "start_time": "2022-07-09T17:40:29.452Z"
   },
   {
    "duration": 301,
    "start_time": "2022-07-09T17:40:29.708Z"
   },
   {
    "duration": 235,
    "start_time": "2022-07-09T17:40:30.011Z"
   },
   {
    "duration": 71,
    "start_time": "2022-07-09T17:40:30.248Z"
   },
   {
    "duration": 109,
    "start_time": "2022-07-09T17:40:30.321Z"
   },
   {
    "duration": 17,
    "start_time": "2022-07-09T17:40:30.432Z"
   },
   {
    "duration": 20,
    "start_time": "2022-07-09T17:40:30.451Z"
   },
   {
    "duration": 51,
    "start_time": "2022-07-09T17:40:30.472Z"
   },
   {
    "duration": 53,
    "start_time": "2022-07-09T17:40:30.525Z"
   },
   {
    "duration": 27,
    "start_time": "2022-07-09T17:40:30.580Z"
   },
   {
    "duration": 48,
    "start_time": "2022-07-09T17:40:30.608Z"
   },
   {
    "duration": 48,
    "start_time": "2022-07-09T17:40:30.658Z"
   },
   {
    "duration": 17,
    "start_time": "2022-07-09T17:40:30.708Z"
   },
   {
    "duration": 36,
    "start_time": "2022-07-09T17:40:30.727Z"
   },
   {
    "duration": 15,
    "start_time": "2022-07-09T17:40:30.764Z"
   },
   {
    "duration": 29,
    "start_time": "2022-07-09T17:40:30.781Z"
   },
   {
    "duration": 32,
    "start_time": "2022-07-09T17:40:30.812Z"
   },
   {
    "duration": 18,
    "start_time": "2022-07-09T17:40:30.846Z"
   },
   {
    "duration": 36,
    "start_time": "2022-07-09T17:40:30.865Z"
   },
   {
    "duration": 68,
    "start_time": "2022-07-09T17:40:30.903Z"
   },
   {
    "duration": 90,
    "start_time": "2022-07-09T17:40:30.973Z"
   },
   {
    "duration": 4,
    "start_time": "2022-07-09T17:40:31.066Z"
   },
   {
    "duration": 40,
    "start_time": "2022-07-09T17:40:31.072Z"
   },
   {
    "duration": 86,
    "start_time": "2022-07-09T17:40:31.114Z"
   },
   {
    "duration": 50,
    "start_time": "2022-07-09T17:40:31.201Z"
   },
   {
    "duration": 1063,
    "start_time": "2022-07-09T17:40:31.254Z"
   },
   {
    "duration": 17,
    "start_time": "2022-07-09T17:40:32.319Z"
   },
   {
    "duration": 62,
    "start_time": "2022-07-09T17:40:32.338Z"
   },
   {
    "duration": 6,
    "start_time": "2022-07-09T17:40:32.402Z"
   },
   {
    "duration": 11,
    "start_time": "2022-07-09T17:40:32.410Z"
   },
   {
    "duration": 48,
    "start_time": "2022-07-09T17:40:32.422Z"
   },
   {
    "duration": 7,
    "start_time": "2022-07-09T17:40:32.472Z"
   },
   {
    "duration": 21,
    "start_time": "2022-07-09T17:40:32.480Z"
   },
   {
    "duration": 34,
    "start_time": "2022-07-09T17:40:32.505Z"
   },
   {
    "duration": 10,
    "start_time": "2022-07-09T17:40:32.540Z"
   },
   {
    "duration": 67,
    "start_time": "2022-07-09T17:40:32.551Z"
   },
   {
    "duration": 57,
    "start_time": "2022-07-09T17:40:32.619Z"
   },
   {
    "duration": 27,
    "start_time": "2022-07-09T17:40:32.677Z"
   },
   {
    "duration": 19,
    "start_time": "2022-07-09T17:40:35.063Z"
   },
   {
    "duration": 17,
    "start_time": "2022-07-09T17:40:41.408Z"
   },
   {
    "duration": 215,
    "start_time": "2022-07-09T17:41:19.505Z"
   },
   {
    "duration": 191,
    "start_time": "2022-07-09T17:41:39.556Z"
   },
   {
    "duration": 32,
    "start_time": "2022-07-09T17:42:24.673Z"
   },
   {
    "duration": 17,
    "start_time": "2022-07-09T17:42:26.647Z"
   },
   {
    "duration": 16,
    "start_time": "2022-07-09T17:43:16.182Z"
   },
   {
    "duration": 19,
    "start_time": "2022-07-09T17:44:14.837Z"
   },
   {
    "duration": 39,
    "start_time": "2022-07-09T17:46:36.356Z"
   },
   {
    "duration": 18,
    "start_time": "2022-07-09T17:51:42.448Z"
   },
   {
    "duration": 60,
    "start_time": "2022-07-09T17:56:46.620Z"
   },
   {
    "duration": 18,
    "start_time": "2022-07-09T17:56:48.252Z"
   },
   {
    "duration": 20,
    "start_time": "2022-07-09T17:57:10.738Z"
   },
   {
    "duration": 16,
    "start_time": "2022-07-09T17:59:54.492Z"
   },
   {
    "duration": 58,
    "start_time": "2022-07-09T18:02:27.638Z"
   },
   {
    "duration": 73,
    "start_time": "2022-07-09T18:03:58.734Z"
   },
   {
    "duration": 12,
    "start_time": "2022-07-09T18:04:16.982Z"
   },
   {
    "duration": 69,
    "start_time": "2022-07-09T18:06:30.045Z"
   },
   {
    "duration": 17,
    "start_time": "2022-07-09T18:06:39.816Z"
   },
   {
    "duration": 4,
    "start_time": "2022-07-09T18:06:59.318Z"
   },
   {
    "duration": 751,
    "start_time": "2022-07-09T18:06:59.334Z"
   },
   {
    "duration": 118,
    "start_time": "2022-07-09T18:07:00.088Z"
   },
   {
    "duration": 22,
    "start_time": "2022-07-09T18:07:00.207Z"
   },
   {
    "duration": 5,
    "start_time": "2022-07-09T18:07:00.231Z"
   },
   {
    "duration": 43,
    "start_time": "2022-07-09T18:07:00.238Z"
   },
   {
    "duration": 230,
    "start_time": "2022-07-09T18:07:00.283Z"
   },
   {
    "duration": 93,
    "start_time": "2022-07-09T18:07:00.514Z"
   },
   {
    "duration": 266,
    "start_time": "2022-07-09T18:07:00.608Z"
   },
   {
    "duration": 309,
    "start_time": "2022-07-09T18:07:00.876Z"
   },
   {
    "duration": 253,
    "start_time": "2022-07-09T18:07:01.186Z"
   },
   {
    "duration": 80,
    "start_time": "2022-07-09T18:07:01.441Z"
   },
   {
    "duration": 32,
    "start_time": "2022-07-09T18:07:01.523Z"
   },
   {
    "duration": 60,
    "start_time": "2022-07-09T18:07:01.557Z"
   },
   {
    "duration": 40,
    "start_time": "2022-07-09T18:07:01.621Z"
   },
   {
    "duration": 44,
    "start_time": "2022-07-09T18:07:01.663Z"
   },
   {
    "duration": 68,
    "start_time": "2022-07-09T18:07:01.708Z"
   },
   {
    "duration": 28,
    "start_time": "2022-07-09T18:07:01.778Z"
   },
   {
    "duration": 55,
    "start_time": "2022-07-09T18:07:01.807Z"
   },
   {
    "duration": 82,
    "start_time": "2022-07-09T18:07:01.864Z"
   },
   {
    "duration": 18,
    "start_time": "2022-07-09T18:07:01.947Z"
   },
   {
    "duration": 41,
    "start_time": "2022-07-09T18:07:01.967Z"
   },
   {
    "duration": 30,
    "start_time": "2022-07-09T18:07:02.009Z"
   },
   {
    "duration": 40,
    "start_time": "2022-07-09T18:07:02.041Z"
   },
   {
    "duration": 63,
    "start_time": "2022-07-09T18:07:02.082Z"
   },
   {
    "duration": 50,
    "start_time": "2022-07-09T18:07:02.147Z"
   },
   {
    "duration": 20,
    "start_time": "2022-07-09T18:07:02.199Z"
   },
   {
    "duration": 84,
    "start_time": "2022-07-09T18:07:02.222Z"
   },
   {
    "duration": 68,
    "start_time": "2022-07-09T18:07:02.308Z"
   },
   {
    "duration": 4,
    "start_time": "2022-07-09T18:07:02.378Z"
   },
   {
    "duration": 37,
    "start_time": "2022-07-09T18:07:02.384Z"
   },
   {
    "duration": 90,
    "start_time": "2022-07-09T18:07:02.423Z"
   },
   {
    "duration": 53,
    "start_time": "2022-07-09T18:07:02.515Z"
   },
   {
    "duration": 1156,
    "start_time": "2022-07-09T18:07:02.570Z"
   },
   {
    "duration": 17,
    "start_time": "2022-07-09T18:07:03.728Z"
   },
   {
    "duration": 63,
    "start_time": "2022-07-09T18:07:03.746Z"
   },
   {
    "duration": 5,
    "start_time": "2022-07-09T18:07:03.811Z"
   },
   {
    "duration": 13,
    "start_time": "2022-07-09T18:07:03.818Z"
   },
   {
    "duration": 45,
    "start_time": "2022-07-09T18:07:03.833Z"
   },
   {
    "duration": 23,
    "start_time": "2022-07-09T18:07:03.880Z"
   },
   {
    "duration": 15,
    "start_time": "2022-07-09T18:07:03.905Z"
   },
   {
    "duration": 87,
    "start_time": "2022-07-09T18:07:03.925Z"
   },
   {
    "duration": 11,
    "start_time": "2022-07-09T18:07:04.014Z"
   },
   {
    "duration": 48,
    "start_time": "2022-07-09T18:07:04.027Z"
   },
   {
    "duration": 73,
    "start_time": "2022-07-09T18:07:04.077Z"
   },
   {
    "duration": 18,
    "start_time": "2022-07-09T18:07:04.152Z"
   },
   {
    "duration": 53,
    "start_time": "2022-07-09T18:07:04.172Z"
   },
   {
    "duration": 18,
    "start_time": "2022-07-09T18:07:04.226Z"
   },
   {
    "duration": 17,
    "start_time": "2022-07-09T18:07:04.245Z"
   },
   {
    "duration": 61,
    "start_time": "2022-07-09T18:07:04.264Z"
   },
   {
    "duration": 25,
    "start_time": "2022-07-09T18:07:04.327Z"
   },
   {
    "duration": 74,
    "start_time": "2022-07-09T18:07:04.355Z"
   },
   {
    "duration": 23,
    "start_time": "2022-07-09T18:07:04.431Z"
   },
   {
    "duration": 27,
    "start_time": "2022-07-09T18:07:04.455Z"
   },
   {
    "duration": 30,
    "start_time": "2022-07-09T18:07:04.484Z"
   },
   {
    "duration": 66,
    "start_time": "2022-07-09T18:07:08.336Z"
   },
   {
    "duration": 81,
    "start_time": "2022-07-09T18:07:16.110Z"
   },
   {
    "duration": 11,
    "start_time": "2022-07-09T18:07:23.715Z"
   },
   {
    "duration": 63,
    "start_time": "2022-07-09T18:08:20.712Z"
   },
   {
    "duration": 1608,
    "start_time": "2022-07-10T12:25:14.724Z"
   },
   {
    "duration": 5,
    "start_time": "2022-07-10T12:25:26.854Z"
   },
   {
    "duration": 2975,
    "start_time": "2022-07-10T12:25:26.863Z"
   },
   {
    "duration": 112,
    "start_time": "2022-07-10T12:25:29.840Z"
   },
   {
    "duration": 60,
    "start_time": "2022-07-10T12:25:29.954Z"
   },
   {
    "duration": 4,
    "start_time": "2022-07-10T12:25:30.016Z"
   },
   {
    "duration": 56,
    "start_time": "2022-07-10T12:25:30.022Z"
   },
   {
    "duration": 284,
    "start_time": "2022-07-10T12:25:30.080Z"
   },
   {
    "duration": 85,
    "start_time": "2022-07-10T12:25:30.366Z"
   },
   {
    "duration": 317,
    "start_time": "2022-07-10T12:25:30.453Z"
   },
   {
    "duration": 370,
    "start_time": "2022-07-10T12:25:30.772Z"
   },
   {
    "duration": 257,
    "start_time": "2022-07-10T12:25:31.145Z"
   },
   {
    "duration": 78,
    "start_time": "2022-07-10T12:25:31.403Z"
   },
   {
    "duration": 50,
    "start_time": "2022-07-10T12:25:31.483Z"
   },
   {
    "duration": 18,
    "start_time": "2022-07-10T12:25:31.535Z"
   },
   {
    "duration": 22,
    "start_time": "2022-07-10T12:25:31.555Z"
   },
   {
    "duration": 53,
    "start_time": "2022-07-10T12:25:31.579Z"
   },
   {
    "duration": 69,
    "start_time": "2022-07-10T12:25:31.634Z"
   },
   {
    "duration": 21,
    "start_time": "2022-07-10T12:25:31.705Z"
   },
   {
    "duration": 33,
    "start_time": "2022-07-10T12:25:31.727Z"
   },
   {
    "duration": 72,
    "start_time": "2022-07-10T12:25:31.762Z"
   },
   {
    "duration": 19,
    "start_time": "2022-07-10T12:25:31.837Z"
   },
   {
    "duration": 45,
    "start_time": "2022-07-10T12:25:31.858Z"
   },
   {
    "duration": 17,
    "start_time": "2022-07-10T12:25:31.905Z"
   },
   {
    "duration": 24,
    "start_time": "2022-07-10T12:25:31.924Z"
   },
   {
    "duration": 51,
    "start_time": "2022-07-10T12:25:31.950Z"
   },
   {
    "duration": 18,
    "start_time": "2022-07-10T12:25:32.003Z"
   },
   {
    "duration": 19,
    "start_time": "2022-07-10T12:25:32.023Z"
   },
   {
    "duration": 93,
    "start_time": "2022-07-10T12:25:32.043Z"
   },
   {
    "duration": 79,
    "start_time": "2022-07-10T12:25:32.140Z"
   },
   {
    "duration": 4,
    "start_time": "2022-07-10T12:25:32.221Z"
   },
   {
    "duration": 25,
    "start_time": "2022-07-10T12:25:32.226Z"
   },
   {
    "duration": 82,
    "start_time": "2022-07-10T12:25:32.252Z"
   },
   {
    "duration": 66,
    "start_time": "2022-07-10T12:25:32.336Z"
   },
   {
    "duration": 1195,
    "start_time": "2022-07-10T12:25:32.404Z"
   },
   {
    "duration": 19,
    "start_time": "2022-07-10T12:25:33.602Z"
   },
   {
    "duration": 52,
    "start_time": "2022-07-10T12:25:33.623Z"
   },
   {
    "duration": 26,
    "start_time": "2022-07-10T12:25:33.677Z"
   },
   {
    "duration": 8,
    "start_time": "2022-07-10T12:25:33.705Z"
   },
   {
    "duration": 40,
    "start_time": "2022-07-10T12:25:33.714Z"
   },
   {
    "duration": 6,
    "start_time": "2022-07-10T12:25:33.756Z"
   },
   {
    "duration": 36,
    "start_time": "2022-07-10T12:25:33.763Z"
   },
   {
    "duration": 37,
    "start_time": "2022-07-10T12:25:33.801Z"
   },
   {
    "duration": 11,
    "start_time": "2022-07-10T12:25:33.840Z"
   },
   {
    "duration": 74,
    "start_time": "2022-07-10T12:25:33.853Z"
   },
   {
    "duration": 74,
    "start_time": "2022-07-10T12:25:33.929Z"
   },
   {
    "duration": 22,
    "start_time": "2022-07-10T12:25:34.005Z"
   },
   {
    "duration": 40,
    "start_time": "2022-07-10T12:25:34.029Z"
   },
   {
    "duration": 41,
    "start_time": "2022-07-10T12:25:34.071Z"
   },
   {
    "duration": 18,
    "start_time": "2022-07-10T12:25:34.114Z"
   },
   {
    "duration": 29,
    "start_time": "2022-07-10T12:25:34.134Z"
   },
   {
    "duration": 45,
    "start_time": "2022-07-10T12:25:34.165Z"
   },
   {
    "duration": 55,
    "start_time": "2022-07-10T12:25:34.212Z"
   },
   {
    "duration": 30,
    "start_time": "2022-07-10T12:25:34.269Z"
   },
   {
    "duration": 23,
    "start_time": "2022-07-10T12:25:34.301Z"
   },
   {
    "duration": 17,
    "start_time": "2022-07-10T12:25:34.325Z"
   },
   {
    "duration": 92,
    "start_time": "2022-07-10T12:25:34.344Z"
   },
   {
    "duration": 12,
    "start_time": "2022-07-10T12:26:43.170Z"
   },
   {
    "duration": 70,
    "start_time": "2022-07-10T12:27:09.466Z"
   },
   {
    "duration": 6,
    "start_time": "2022-07-10T12:27:16.767Z"
   },
   {
    "duration": 910,
    "start_time": "2022-07-10T12:27:16.776Z"
   },
   {
    "duration": 129,
    "start_time": "2022-07-10T12:27:17.688Z"
   },
   {
    "duration": 25,
    "start_time": "2022-07-10T12:27:17.819Z"
   },
   {
    "duration": 5,
    "start_time": "2022-07-10T12:27:17.846Z"
   },
   {
    "duration": 54,
    "start_time": "2022-07-10T12:27:17.853Z"
   },
   {
    "duration": 251,
    "start_time": "2022-07-10T12:27:17.910Z"
   },
   {
    "duration": 88,
    "start_time": "2022-07-10T12:27:18.163Z"
   },
   {
    "duration": 280,
    "start_time": "2022-07-10T12:27:18.253Z"
   },
   {
    "duration": 339,
    "start_time": "2022-07-10T12:27:18.536Z"
   },
   {
    "duration": 292,
    "start_time": "2022-07-10T12:27:18.878Z"
   },
   {
    "duration": 86,
    "start_time": "2022-07-10T12:27:19.172Z"
   },
   {
    "duration": 40,
    "start_time": "2022-07-10T12:27:19.260Z"
   },
   {
    "duration": 18,
    "start_time": "2022-07-10T12:27:19.302Z"
   },
   {
    "duration": 33,
    "start_time": "2022-07-10T12:27:19.322Z"
   },
   {
    "duration": 46,
    "start_time": "2022-07-10T12:27:19.356Z"
   },
   {
    "duration": 57,
    "start_time": "2022-07-10T12:27:19.403Z"
   },
   {
    "duration": 36,
    "start_time": "2022-07-10T12:27:19.462Z"
   },
   {
    "duration": 41,
    "start_time": "2022-07-10T12:27:19.501Z"
   },
   {
    "duration": 90,
    "start_time": "2022-07-10T12:27:19.545Z"
   },
   {
    "duration": 24,
    "start_time": "2022-07-10T12:27:19.637Z"
   },
   {
    "duration": 47,
    "start_time": "2022-07-10T12:27:19.662Z"
   },
   {
    "duration": 29,
    "start_time": "2022-07-10T12:27:19.711Z"
   },
   {
    "duration": 30,
    "start_time": "2022-07-10T12:27:19.742Z"
   },
   {
    "duration": 45,
    "start_time": "2022-07-10T12:27:19.774Z"
   },
   {
    "duration": 18,
    "start_time": "2022-07-10T12:27:19.821Z"
   },
   {
    "duration": 19,
    "start_time": "2022-07-10T12:27:19.841Z"
   },
   {
    "duration": 88,
    "start_time": "2022-07-10T12:27:19.862Z"
   },
   {
    "duration": 84,
    "start_time": "2022-07-10T12:27:19.953Z"
   },
   {
    "duration": 5,
    "start_time": "2022-07-10T12:27:20.039Z"
   },
   {
    "duration": 28,
    "start_time": "2022-07-10T12:27:20.046Z"
   },
   {
    "duration": 96,
    "start_time": "2022-07-10T12:27:20.075Z"
   },
   {
    "duration": 86,
    "start_time": "2022-07-10T12:27:20.174Z"
   },
   {
    "duration": 1192,
    "start_time": "2022-07-10T12:27:20.262Z"
   },
   {
    "duration": 18,
    "start_time": "2022-07-10T12:27:21.456Z"
   },
   {
    "duration": 67,
    "start_time": "2022-07-10T12:27:21.476Z"
   },
   {
    "duration": 7,
    "start_time": "2022-07-10T12:27:21.545Z"
   },
   {
    "duration": 10,
    "start_time": "2022-07-10T12:27:21.553Z"
   },
   {
    "duration": 70,
    "start_time": "2022-07-10T12:27:21.564Z"
   },
   {
    "duration": 6,
    "start_time": "2022-07-10T12:27:21.636Z"
   },
   {
    "duration": 14,
    "start_time": "2022-07-10T12:27:21.644Z"
   },
   {
    "duration": 60,
    "start_time": "2022-07-10T12:27:21.659Z"
   },
   {
    "duration": 10,
    "start_time": "2022-07-10T12:27:21.721Z"
   },
   {
    "duration": 50,
    "start_time": "2022-07-10T12:27:21.733Z"
   },
   {
    "duration": 64,
    "start_time": "2022-07-10T12:27:21.799Z"
   },
   {
    "duration": 37,
    "start_time": "2022-07-10T12:27:21.865Z"
   },
   {
    "duration": 39,
    "start_time": "2022-07-10T12:27:21.904Z"
   },
   {
    "duration": 20,
    "start_time": "2022-07-10T12:27:21.945Z"
   },
   {
    "duration": 40,
    "start_time": "2022-07-10T12:27:21.966Z"
   },
   {
    "duration": 52,
    "start_time": "2022-07-10T12:27:22.010Z"
   },
   {
    "duration": 43,
    "start_time": "2022-07-10T12:27:22.065Z"
   },
   {
    "duration": 90,
    "start_time": "2022-07-10T12:27:22.110Z"
   },
   {
    "duration": 19,
    "start_time": "2022-07-10T12:27:22.202Z"
   },
   {
    "duration": 27,
    "start_time": "2022-07-10T12:27:22.224Z"
   },
   {
    "duration": 17,
    "start_time": "2022-07-10T12:27:22.253Z"
   },
   {
    "duration": 71,
    "start_time": "2022-07-10T12:27:25.685Z"
   },
   {
    "duration": 12,
    "start_time": "2022-07-10T12:27:29.286Z"
   },
   {
    "duration": 665,
    "start_time": "2022-07-10T14:02:15.812Z"
   },
   {
    "duration": 112,
    "start_time": "2022-07-10T14:02:39.649Z"
   },
   {
    "duration": 18,
    "start_time": "2022-07-10T14:02:50.229Z"
   },
   {
    "duration": 20,
    "start_time": "2022-07-10T14:03:58.363Z"
   },
   {
    "duration": 4,
    "start_time": "2022-07-10T14:13:12.174Z"
   },
   {
    "duration": 3,
    "start_time": "2022-07-10T14:14:49.884Z"
   },
   {
    "duration": 10,
    "start_time": "2022-07-10T14:16:04.506Z"
   },
   {
    "duration": 4,
    "start_time": "2022-07-10T14:17:03.596Z"
   },
   {
    "duration": 4,
    "start_time": "2022-07-10T14:17:09.685Z"
   },
   {
    "duration": 428,
    "start_time": "2022-07-10T14:17:11.249Z"
   },
   {
    "duration": 4,
    "start_time": "2022-07-10T14:19:07.877Z"
   },
   {
    "duration": 4,
    "start_time": "2022-07-10T14:19:09.076Z"
   },
   {
    "duration": 4,
    "start_time": "2022-07-10T14:19:11.418Z"
   },
   {
    "duration": 7,
    "start_time": "2022-07-10T14:19:14.510Z"
   },
   {
    "duration": 126,
    "start_time": "2022-07-10T14:20:39.919Z"
   },
   {
    "duration": 16,
    "start_time": "2022-07-10T14:21:33.512Z"
   },
   {
    "duration": 4,
    "start_time": "2022-07-10T14:22:18.279Z"
   },
   {
    "duration": 19,
    "start_time": "2022-07-10T14:23:08.807Z"
   },
   {
    "duration": 5,
    "start_time": "2022-07-10T14:44:38.803Z"
   },
   {
    "duration": 9,
    "start_time": "2022-07-10T14:44:44.860Z"
   },
   {
    "duration": 11,
    "start_time": "2022-07-10T14:45:39.581Z"
   },
   {
    "duration": 3,
    "start_time": "2022-07-10T14:45:54.398Z"
   },
   {
    "duration": 4,
    "start_time": "2022-07-10T14:46:54.295Z"
   },
   {
    "duration": 4,
    "start_time": "2022-07-10T14:48:35.687Z"
   },
   {
    "duration": 6,
    "start_time": "2022-07-10T14:48:45.231Z"
   },
   {
    "duration": 4,
    "start_time": "2022-07-10T14:50:07.074Z"
   },
   {
    "duration": 36988,
    "start_time": "2022-07-10T14:50:43.518Z"
   },
   {
    "duration": 30698,
    "start_time": "2022-07-10T14:51:36.916Z"
   },
   {
    "duration": 380,
    "start_time": "2022-07-10T14:53:42.718Z"
   },
   {
    "duration": 5,
    "start_time": "2022-07-10T14:55:58.079Z"
   },
   {
    "duration": 3,
    "start_time": "2022-07-10T14:56:20.432Z"
   },
   {
    "duration": 7,
    "start_time": "2022-07-10T15:03:37.195Z"
   },
   {
    "duration": 2,
    "start_time": "2022-07-10T15:04:55.757Z"
   },
   {
    "duration": 3,
    "start_time": "2022-07-10T15:05:19.418Z"
   },
   {
    "duration": 167928,
    "start_time": "2022-07-10T15:05:27.770Z"
   },
   {
    "duration": 397,
    "start_time": "2022-07-10T15:08:15.701Z"
   },
   {
    "duration": 6,
    "start_time": "2022-07-10T15:08:43.020Z"
   },
   {
    "duration": 10,
    "start_time": "2022-07-10T15:15:54.158Z"
   },
   {
    "duration": 11,
    "start_time": "2022-07-10T15:17:27.817Z"
   },
   {
    "duration": 3,
    "start_time": "2022-07-10T15:20:08.480Z"
   },
   {
    "duration": 109701,
    "start_time": "2022-07-10T15:20:09.598Z"
   },
   {
    "duration": 401,
    "start_time": "2022-07-10T15:21:59.301Z"
   },
   {
    "duration": 95,
    "start_time": "2022-07-10T15:21:59.704Z"
   },
   {
    "duration": 2,
    "start_time": "2022-07-10T15:24:15.926Z"
   },
   {
    "duration": 10381,
    "start_time": "2022-07-10T15:24:17.325Z"
   },
   {
    "duration": 399,
    "start_time": "2022-07-10T15:24:27.707Z"
   },
   {
    "duration": 95,
    "start_time": "2022-07-10T15:24:28.108Z"
   },
   {
    "duration": 2,
    "start_time": "2022-07-10T15:24:59.242Z"
   },
   {
    "duration": 172120,
    "start_time": "2022-07-10T15:24:59.787Z"
   },
   {
    "duration": 400,
    "start_time": "2022-07-10T15:27:52.002Z"
   },
   {
    "duration": 94,
    "start_time": "2022-07-10T15:27:52.404Z"
   },
   {
    "duration": 6,
    "start_time": "2022-07-10T15:28:00.969Z"
   },
   {
    "duration": 3,
    "start_time": "2022-07-10T15:28:52.320Z"
   },
   {
    "duration": 175256,
    "start_time": "2022-07-10T15:29:09.142Z"
   },
   {
    "duration": 398,
    "start_time": "2022-07-10T15:32:04.400Z"
   },
   {
    "duration": 6,
    "start_time": "2022-07-10T15:32:04.800Z"
   },
   {
    "duration": 5,
    "start_time": "2022-07-10T15:33:35.988Z"
   },
   {
    "duration": 174867,
    "start_time": "2022-07-10T15:33:37.038Z"
   },
   {
    "duration": 490,
    "start_time": "2022-07-10T15:36:31.907Z"
   },
   {
    "duration": 11,
    "start_time": "2022-07-10T15:36:32.400Z"
   },
   {
    "duration": 14,
    "start_time": "2022-07-10T15:37:13.982Z"
   },
   {
    "duration": 5,
    "start_time": "2022-07-10T15:38:13.154Z"
   },
   {
    "duration": 78,
    "start_time": "2022-07-10T15:39:52.242Z"
   },
   {
    "duration": 4,
    "start_time": "2022-07-10T15:49:23.754Z"
   },
   {
    "duration": 873,
    "start_time": "2022-07-10T15:49:23.762Z"
   },
   {
    "duration": 118,
    "start_time": "2022-07-10T15:49:24.637Z"
   },
   {
    "duration": 22,
    "start_time": "2022-07-10T15:49:24.757Z"
   },
   {
    "duration": 5,
    "start_time": "2022-07-10T15:49:24.797Z"
   },
   {
    "duration": 35,
    "start_time": "2022-07-10T15:49:24.804Z"
   },
   {
    "duration": 247,
    "start_time": "2022-07-10T15:49:24.841Z"
   },
   {
    "duration": 93,
    "start_time": "2022-07-10T15:49:25.090Z"
   },
   {
    "duration": 257,
    "start_time": "2022-07-10T15:49:25.185Z"
   },
   {
    "duration": 320,
    "start_time": "2022-07-10T15:49:25.444Z"
   },
   {
    "duration": 259,
    "start_time": "2022-07-10T15:49:25.767Z"
   },
   {
    "duration": 91,
    "start_time": "2022-07-10T15:49:26.028Z"
   },
   {
    "duration": 34,
    "start_time": "2022-07-10T15:49:26.121Z"
   },
   {
    "duration": 19,
    "start_time": "2022-07-10T15:49:26.157Z"
   },
   {
    "duration": 38,
    "start_time": "2022-07-10T15:49:26.178Z"
   },
   {
    "duration": 32,
    "start_time": "2022-07-10T15:49:26.218Z"
   },
   {
    "duration": 78,
    "start_time": "2022-07-10T15:49:26.252Z"
   },
   {
    "duration": 20,
    "start_time": "2022-07-10T15:49:26.332Z"
   },
   {
    "duration": 47,
    "start_time": "2022-07-10T15:49:26.354Z"
   },
   {
    "duration": 50,
    "start_time": "2022-07-10T15:49:26.403Z"
   },
   {
    "duration": 20,
    "start_time": "2022-07-10T15:49:26.455Z"
   },
   {
    "duration": 34,
    "start_time": "2022-07-10T15:49:26.497Z"
   },
   {
    "duration": 17,
    "start_time": "2022-07-10T15:49:26.533Z"
   },
   {
    "duration": 20,
    "start_time": "2022-07-10T15:49:26.551Z"
   },
   {
    "duration": 36,
    "start_time": "2022-07-10T15:49:26.598Z"
   },
   {
    "duration": 25,
    "start_time": "2022-07-10T15:49:26.637Z"
   },
   {
    "duration": 44,
    "start_time": "2022-07-10T15:49:26.665Z"
   },
   {
    "duration": 106,
    "start_time": "2022-07-10T15:49:26.710Z"
   },
   {
    "duration": 167,
    "start_time": "2022-07-10T15:49:26.821Z"
   },
   {
    "duration": 9,
    "start_time": "2022-07-10T15:49:26.990Z"
   },
   {
    "duration": 29,
    "start_time": "2022-07-10T15:49:27.001Z"
   },
   {
    "duration": 82,
    "start_time": "2022-07-10T15:49:27.033Z"
   },
   {
    "duration": 54,
    "start_time": "2022-07-10T15:49:27.117Z"
   },
   {
    "duration": 1182,
    "start_time": "2022-07-10T15:49:27.173Z"
   },
   {
    "duration": 18,
    "start_time": "2022-07-10T15:49:28.357Z"
   },
   {
    "duration": 66,
    "start_time": "2022-07-10T15:49:28.377Z"
   },
   {
    "duration": 6,
    "start_time": "2022-07-10T15:49:28.445Z"
   },
   {
    "duration": 7,
    "start_time": "2022-07-10T15:49:28.453Z"
   },
   {
    "duration": 54,
    "start_time": "2022-07-10T15:49:28.461Z"
   },
   {
    "duration": 6,
    "start_time": "2022-07-10T15:49:28.517Z"
   },
   {
    "duration": 12,
    "start_time": "2022-07-10T15:49:28.525Z"
   },
   {
    "duration": 35,
    "start_time": "2022-07-10T15:49:28.538Z"
   },
   {
    "duration": 11,
    "start_time": "2022-07-10T15:49:28.598Z"
   },
   {
    "duration": 54,
    "start_time": "2022-07-10T15:49:28.611Z"
   },
   {
    "duration": 86,
    "start_time": "2022-07-10T15:49:28.667Z"
   },
   {
    "duration": 18,
    "start_time": "2022-07-10T15:49:28.755Z"
   },
   {
    "duration": 61,
    "start_time": "2022-07-10T15:49:28.775Z"
   },
   {
    "duration": 21,
    "start_time": "2022-07-10T15:49:28.838Z"
   },
   {
    "duration": 40,
    "start_time": "2022-07-10T15:49:28.861Z"
   },
   {
    "duration": 33,
    "start_time": "2022-07-10T15:49:28.903Z"
   },
   {
    "duration": 25,
    "start_time": "2022-07-10T15:49:28.939Z"
   },
   {
    "duration": 78,
    "start_time": "2022-07-10T15:49:28.966Z"
   },
   {
    "duration": 18,
    "start_time": "2022-07-10T15:49:29.046Z"
   },
   {
    "duration": 38,
    "start_time": "2022-07-10T15:49:29.065Z"
   },
   {
    "duration": 17,
    "start_time": "2022-07-10T15:49:29.104Z"
   },
   {
    "duration": 96,
    "start_time": "2022-07-10T15:49:29.123Z"
   },
   {
    "duration": 11,
    "start_time": "2022-07-10T15:49:29.220Z"
   },
   {
    "duration": 622,
    "start_time": "2022-07-10T15:49:29.232Z"
   },
   {
    "duration": 14,
    "start_time": "2022-07-10T15:49:29.856Z"
   },
   {
    "duration": 30,
    "start_time": "2022-07-10T15:49:29.872Z"
   },
   {
    "duration": 4,
    "start_time": "2022-07-10T15:49:29.903Z"
   },
   {
    "duration": 468,
    "start_time": "2022-07-10T15:49:29.909Z"
   },
   {
    "duration": 4,
    "start_time": "2022-07-10T15:49:30.379Z"
   },
   {
    "duration": 19,
    "start_time": "2022-07-10T15:49:30.384Z"
   },
   {
    "duration": 19,
    "start_time": "2022-07-10T15:49:30.405Z"
   },
   {
    "duration": 11,
    "start_time": "2022-07-10T15:49:30.425Z"
   },
   {
    "duration": 130,
    "start_time": "2022-07-10T15:49:30.438Z"
   },
   {
    "duration": 17,
    "start_time": "2022-07-10T15:49:30.570Z"
   },
   {
    "duration": 21,
    "start_time": "2022-07-10T15:49:30.589Z"
   },
   {
    "duration": 3,
    "start_time": "2022-07-10T15:49:30.612Z"
   },
   {
    "duration": 23688,
    "start_time": "2022-07-10T15:49:30.617Z"
   },
   {
    "duration": 692,
    "start_time": "2022-07-10T15:49:54.307Z"
   },
   {
    "duration": 6,
    "start_time": "2022-07-10T15:49:55.001Z"
   },
   {
    "duration": 9,
    "start_time": "2022-07-10T15:49:55.098Z"
   },
   {
    "duration": 18,
    "start_time": "2022-07-10T15:49:55.108Z"
   },
   {
    "duration": 0,
    "start_time": "2022-07-10T15:49:55.127Z"
   },
   {
    "duration": 0,
    "start_time": "2022-07-10T15:49:55.128Z"
   },
   {
    "duration": 0,
    "start_time": "2022-07-10T15:49:55.129Z"
   },
   {
    "duration": 0,
    "start_time": "2022-07-10T15:49:55.131Z"
   },
   {
    "duration": 0,
    "start_time": "2022-07-10T15:49:55.133Z"
   },
   {
    "duration": 0,
    "start_time": "2022-07-10T15:49:55.134Z"
   },
   {
    "duration": 0,
    "start_time": "2022-07-10T15:49:55.135Z"
   },
   {
    "duration": 0,
    "start_time": "2022-07-10T15:49:55.137Z"
   },
   {
    "duration": 0,
    "start_time": "2022-07-10T15:49:55.138Z"
   },
   {
    "duration": 3,
    "start_time": "2022-07-10T15:50:22.528Z"
   },
   {
    "duration": 370186,
    "start_time": "2022-07-10T15:50:23.014Z"
   },
   {
    "duration": 403,
    "start_time": "2022-07-10T15:56:33.207Z"
   },
   {
    "duration": 87,
    "start_time": "2022-07-10T15:56:33.612Z"
   },
   {
    "duration": 14,
    "start_time": "2022-07-10T15:56:33.703Z"
   },
   {
    "duration": 5,
    "start_time": "2022-07-10T15:56:33.719Z"
   },
   {
    "duration": 207780,
    "start_time": "2022-07-10T15:56:33.726Z"
   },
   {
    "duration": 490,
    "start_time": "2022-07-10T16:00:01.508Z"
   },
   {
    "duration": 5,
    "start_time": "2022-07-10T16:00:02.001Z"
   },
   {
    "duration": 109,
    "start_time": "2022-07-10T16:00:02.007Z"
   },
   {
    "duration": 1667775,
    "start_time": "2022-07-10T16:00:24.021Z"
   },
   {
    "duration": 723215,
    "start_time": "2022-07-10T16:29:07.422Z"
   },
   {
    "duration": 3,
    "start_time": "2022-07-10T17:30:17.198Z"
   },
   {
    "duration": 80434,
    "start_time": "2022-07-10T17:30:19.853Z"
   },
   {
    "duration": 1051,
    "start_time": "2022-07-10T17:31:40.289Z"
   },
   {
    "duration": 5,
    "start_time": "2022-07-10T17:31:41.342Z"
   },
   {
    "duration": 12,
    "start_time": "2022-07-10T17:34:18.648Z"
   },
   {
    "duration": 29,
    "start_time": "2022-07-10T17:34:30.339Z"
   },
   {
    "duration": 237817,
    "start_time": "2022-07-10T17:34:37.693Z"
   },
   {
    "duration": 3,
    "start_time": "2022-07-10T17:38:59.864Z"
   },
   {
    "duration": 203066,
    "start_time": "2022-07-10T17:39:20.739Z"
   },
   {
    "duration": 2319,
    "start_time": "2022-07-10T17:42:43.808Z"
   },
   {
    "duration": 6,
    "start_time": "2022-07-10T17:42:46.129Z"
   },
   {
    "duration": 5,
    "start_time": "2022-07-10T17:59:38.814Z"
   },
   {
    "duration": 777,
    "start_time": "2022-07-10T18:28:55.066Z"
   },
   {
    "duration": 13,
    "start_time": "2022-07-10T18:28:55.909Z"
   },
   {
    "duration": 1561,
    "start_time": "2022-07-10T18:43:36.554Z"
   },
   {
    "duration": 866,
    "start_time": "2022-07-10T18:43:38.117Z"
   },
   {
    "duration": 185,
    "start_time": "2022-07-10T18:43:38.985Z"
   },
   {
    "duration": 67,
    "start_time": "2022-07-10T18:43:39.173Z"
   },
   {
    "duration": 5,
    "start_time": "2022-07-10T18:43:39.242Z"
   },
   {
    "duration": 60,
    "start_time": "2022-07-10T18:43:39.248Z"
   },
   {
    "duration": 277,
    "start_time": "2022-07-10T18:43:39.310Z"
   },
   {
    "duration": 95,
    "start_time": "2022-07-10T18:43:39.590Z"
   },
   {
    "duration": 302,
    "start_time": "2022-07-10T18:43:39.687Z"
   },
   {
    "duration": 384,
    "start_time": "2022-07-10T18:43:39.991Z"
   },
   {
    "duration": 260,
    "start_time": "2022-07-10T18:43:40.377Z"
   },
   {
    "duration": 84,
    "start_time": "2022-07-10T18:43:40.639Z"
   },
   {
    "duration": 34,
    "start_time": "2022-07-10T18:43:40.724Z"
   },
   {
    "duration": 19,
    "start_time": "2022-07-10T18:43:40.762Z"
   },
   {
    "duration": 20,
    "start_time": "2022-07-10T18:43:40.798Z"
   },
   {
    "duration": 36,
    "start_time": "2022-07-10T18:43:40.820Z"
   },
   {
    "duration": 73,
    "start_time": "2022-07-10T18:43:40.859Z"
   },
   {
    "duration": 21,
    "start_time": "2022-07-10T18:43:40.934Z"
   },
   {
    "duration": 46,
    "start_time": "2022-07-10T18:43:40.956Z"
   },
   {
    "duration": 49,
    "start_time": "2022-07-10T18:43:41.004Z"
   },
   {
    "duration": 19,
    "start_time": "2022-07-10T18:43:41.055Z"
   },
   {
    "duration": 49,
    "start_time": "2022-07-10T18:43:41.076Z"
   },
   {
    "duration": 17,
    "start_time": "2022-07-10T18:43:41.127Z"
   },
   {
    "duration": 20,
    "start_time": "2022-07-10T18:43:41.145Z"
   },
   {
    "duration": 68,
    "start_time": "2022-07-10T18:43:41.167Z"
   },
   {
    "duration": 18,
    "start_time": "2022-07-10T18:43:41.237Z"
   },
   {
    "duration": 18,
    "start_time": "2022-07-10T18:43:41.257Z"
   },
   {
    "duration": 73,
    "start_time": "2022-07-10T18:43:41.298Z"
   },
   {
    "duration": 80,
    "start_time": "2022-07-10T18:43:41.373Z"
   },
   {
    "duration": 4,
    "start_time": "2022-07-10T18:43:41.455Z"
   },
   {
    "duration": 43,
    "start_time": "2022-07-10T18:43:41.460Z"
   },
   {
    "duration": 67,
    "start_time": "2022-07-10T18:43:41.504Z"
   },
   {
    "duration": 74,
    "start_time": "2022-07-10T18:43:41.573Z"
   },
   {
    "duration": 1190,
    "start_time": "2022-07-10T18:43:41.649Z"
   },
   {
    "duration": 21,
    "start_time": "2022-07-10T18:43:42.841Z"
   },
   {
    "duration": 68,
    "start_time": "2022-07-10T18:43:42.864Z"
   },
   {
    "duration": 7,
    "start_time": "2022-07-10T18:43:42.933Z"
   },
   {
    "duration": 11,
    "start_time": "2022-07-10T18:43:42.941Z"
   },
   {
    "duration": 63,
    "start_time": "2022-07-10T18:43:42.953Z"
   },
   {
    "duration": 7,
    "start_time": "2022-07-10T18:43:43.018Z"
   },
   {
    "duration": 11,
    "start_time": "2022-07-10T18:43:43.030Z"
   },
   {
    "duration": 59,
    "start_time": "2022-07-10T18:43:43.043Z"
   },
   {
    "duration": 12,
    "start_time": "2022-07-10T18:43:43.103Z"
   },
   {
    "duration": 49,
    "start_time": "2022-07-10T18:43:43.117Z"
   },
   {
    "duration": 82,
    "start_time": "2022-07-10T18:43:43.168Z"
   },
   {
    "duration": 18,
    "start_time": "2022-07-10T18:43:43.252Z"
   },
   {
    "duration": 66,
    "start_time": "2022-07-10T18:43:43.273Z"
   },
   {
    "duration": 19,
    "start_time": "2022-07-10T18:43:43.341Z"
   },
   {
    "duration": 39,
    "start_time": "2022-07-10T18:43:43.361Z"
   },
   {
    "duration": 31,
    "start_time": "2022-07-10T18:43:43.402Z"
   },
   {
    "duration": 24,
    "start_time": "2022-07-10T18:43:43.435Z"
   },
   {
    "duration": 82,
    "start_time": "2022-07-10T18:43:43.461Z"
   },
   {
    "duration": 19,
    "start_time": "2022-07-10T18:43:43.545Z"
   },
   {
    "duration": 44,
    "start_time": "2022-07-10T18:43:43.566Z"
   },
   {
    "duration": 27,
    "start_time": "2022-07-10T18:43:43.612Z"
   },
   {
    "duration": 101,
    "start_time": "2022-07-10T18:43:43.641Z"
   },
   {
    "duration": 12,
    "start_time": "2022-07-10T18:43:43.744Z"
   },
   {
    "duration": 747,
    "start_time": "2022-07-10T18:43:43.758Z"
   },
   {
    "duration": 21,
    "start_time": "2022-07-10T18:43:44.506Z"
   },
   {
    "duration": 22,
    "start_time": "2022-07-10T18:43:44.530Z"
   },
   {
    "duration": 4,
    "start_time": "2022-07-10T18:43:44.554Z"
   },
   {
    "duration": 504,
    "start_time": "2022-07-10T18:43:44.560Z"
   },
   {
    "duration": 5,
    "start_time": "2022-07-10T18:43:45.066Z"
   },
   {
    "duration": 12,
    "start_time": "2022-07-10T18:43:45.075Z"
   },
   {
    "duration": 11,
    "start_time": "2022-07-10T18:43:45.088Z"
   },
   {
    "duration": 9,
    "start_time": "2022-07-10T18:43:45.101Z"
   },
   {
    "duration": 142,
    "start_time": "2022-07-10T18:43:45.112Z"
   },
   {
    "duration": 17,
    "start_time": "2022-07-10T18:43:45.256Z"
   },
   {
    "duration": 33,
    "start_time": "2022-07-10T18:43:45.274Z"
   },
   {
    "duration": 3,
    "start_time": "2022-07-10T18:43:45.309Z"
   },
   {
    "duration": 33601,
    "start_time": "2022-07-10T18:43:45.314Z"
   },
   {
    "duration": 313,
    "start_time": "2022-07-10T18:44:18.999Z"
   },
   {
    "duration": 8,
    "start_time": "2022-07-10T18:44:19.399Z"
   },
   {
    "duration": 101,
    "start_time": "2022-07-10T18:44:19.409Z"
   },
   {
    "duration": 8,
    "start_time": "2022-07-10T18:44:19.512Z"
   },
   {
    "duration": 5,
    "start_time": "2022-07-10T18:44:19.522Z"
   },
   {
    "duration": 431074,
    "start_time": "2022-07-10T18:44:19.529Z"
   },
   {
    "duration": 393,
    "start_time": "2022-07-10T18:51:30.605Z"
   },
   {
    "duration": 95,
    "start_time": "2022-07-10T18:51:31.005Z"
   },
   {
    "duration": 10,
    "start_time": "2022-07-10T18:51:31.102Z"
   },
   {
    "duration": 5,
    "start_time": "2022-07-10T18:51:31.114Z"
   },
   {
    "duration": 365591,
    "start_time": "2022-07-10T18:51:31.121Z"
   },
   {
    "duration": 501,
    "start_time": "2022-07-10T18:57:36.799Z"
   },
   {
    "duration": 7,
    "start_time": "2022-07-10T18:57:37.302Z"
   },
   {
    "duration": 96,
    "start_time": "2022-07-10T18:57:37.312Z"
   },
   {
    "duration": 751208,
    "start_time": "2022-07-10T18:57:37.410Z"
   },
   {
    "duration": 3,
    "start_time": "2022-07-10T19:10:08.620Z"
   },
   {
    "duration": 82322,
    "start_time": "2022-07-10T19:10:08.625Z"
   },
   {
    "duration": 1018,
    "start_time": "2022-07-10T19:11:30.949Z"
   },
   {
    "duration": 5,
    "start_time": "2022-07-10T19:11:31.969Z"
   },
   {
    "duration": 2448141,
    "start_time": "2022-07-10T19:11:31.976Z"
   },
   {
    "duration": 3,
    "start_time": "2022-07-10T19:52:20.119Z"
   },
   {
    "duration": 237098,
    "start_time": "2022-07-10T19:52:20.125Z"
   },
   {
    "duration": 2394,
    "start_time": "2022-07-10T19:56:17.225Z"
   },
   {
    "duration": 5,
    "start_time": "2022-07-10T19:56:19.624Z"
   },
   {
    "duration": 871,
    "start_time": "2022-07-10T19:56:19.631Z"
   },
   {
    "duration": 6,
    "start_time": "2022-07-10T19:56:20.511Z"
   }
  ],
  "kernelspec": {
   "display_name": "Python 3 (ipykernel)",
   "language": "python",
   "name": "python3"
  },
  "language_info": {
   "codemirror_mode": {
    "name": "ipython",
    "version": 3
   },
   "file_extension": ".py",
   "mimetype": "text/x-python",
   "name": "python",
   "nbconvert_exporter": "python",
   "pygments_lexer": "ipython3",
   "version": "3.9.12"
  },
  "toc": {
   "base_numbering": 1,
   "nav_menu": {},
   "number_sections": true,
   "sideBar": true,
   "skip_h1_title": true,
   "title_cell": "Table of Contents",
   "title_sidebar": "Contents",
   "toc_cell": false,
   "toc_position": {},
   "toc_section_display": true,
   "toc_window_display": false
  }
 },
 "nbformat": 4,
 "nbformat_minor": 2
}
