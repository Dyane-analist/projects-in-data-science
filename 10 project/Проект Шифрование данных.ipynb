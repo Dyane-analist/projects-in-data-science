{
 "cells": [
  {
   "cell_type": "markdown",
   "metadata": {
    "toc": true
   },
   "source": [
    "<h1>Содержание<span class=\"tocSkip\"></span></h1>\n",
    "<div class=\"toc\"><ul class=\"toc-item\"><li><span><a href=\"#Загрузка-данных\" data-toc-modified-id=\"Загрузка-данных-1\"><span class=\"toc-item-num\">1&nbsp;&nbsp;</span>Загрузка данных</a></span><ul class=\"toc-item\"><li><span><a href=\"#Загрузка-и-изучение-данных\" data-toc-modified-id=\"Загрузка-и-изучение-данных-1.1\"><span class=\"toc-item-num\">1.1&nbsp;&nbsp;</span>Загрузка и изучение данных</a></span></li><li><span><a href=\"#Предобработка-данных\" data-toc-modified-id=\"Предобработка-данных-1.2\"><span class=\"toc-item-num\">1.2&nbsp;&nbsp;</span>Предобработка данных</a></span></li></ul></li><li><span><a href=\"#Умножение-матриц\" data-toc-modified-id=\"Умножение-матриц-2\"><span class=\"toc-item-num\">2&nbsp;&nbsp;</span>Умножение матриц</a></span></li><li><span><a href=\"#Алгоритм-преобразования\" data-toc-modified-id=\"Алгоритм-преобразования-3\"><span class=\"toc-item-num\">3&nbsp;&nbsp;</span>Алгоритм преобразования</a></span></li><li><span><a href=\"#Проверка-алгоритма\" data-toc-modified-id=\"Проверка-алгоритма-4\"><span class=\"toc-item-num\">4&nbsp;&nbsp;</span>Проверка алгоритма</a></span></li><li><span><a href=\"#Итоговый-вывод\" data-toc-modified-id=\"Итоговый-вывод-5\"><span class=\"toc-item-num\">5&nbsp;&nbsp;</span>Итоговый вывод</a></span></li><li><span><a href=\"#Чек-лист-проверки\" data-toc-modified-id=\"Чек-лист-проверки-6\"><span class=\"toc-item-num\">6&nbsp;&nbsp;</span>Чек-лист проверки</a></span></li></ul></div>"
   ]
  },
  {
   "cell_type": "markdown",
   "metadata": {},
   "source": [
    "# Защита персональных данных клиентов"
   ]
  },
  {
   "cell_type": "markdown",
   "metadata": {},
   "source": [
    "**Цель проекта**\n",
    "\n",
    "Разработать метод преобразования персональных данных клиентов страховой компании «Хоть потоп» для их защиты, усложняющий восстановление персональной информации, и обосновать корректность его работы. При преобразовании качество моделей машинного обучения не должно ухудшаться (оценка качества проводится на основе метрики r2_score).\n",
    "\n",
    "**Данные для анализа**\n",
    "\n",
    "На анализ переданы данные клиентов:\n",
    "1. Признаки: пол, возраст и зарплата застрахованного, количество членов его семьи.\n",
    "2. Целевой признак: количество страховых выплат клиенту за последние 5 лет.\n",
    "\n",
    "**Шаги (план) проекта**\n",
    "\n",
    "1.  Загрузка данных\n",
    "2.  Умножение матриц\n",
    "3.  Алгоритм преобразования\n",
    "4.  Проверка алгоритма\n",
    "5.  Итоговый вывод"
   ]
  },
  {
   "cell_type": "markdown",
   "metadata": {},
   "source": [
    "## Загрузка данных"
   ]
  },
  {
   "cell_type": "markdown",
   "metadata": {},
   "source": [
    "### Загрузка и изучение данных"
   ]
  },
  {
   "cell_type": "markdown",
   "metadata": {},
   "source": [
    "Импортируем необходимые библиотеки для работы с данными в текущем проекте."
   ]
  },
  {
   "cell_type": "code",
   "execution_count": 1,
   "metadata": {},
   "outputs": [],
   "source": [
    "# импорт библиотек\n",
    "import numpy as np\n",
    "import pandas as pd\n",
    "\n",
    "# построение диаграмм\n",
    "import matplotlib.pyplot as plt\n",
    "\n",
    "# машинное обучение\n",
    "from sklearn.linear_model import LinearRegression\n",
    "\n",
    "# оценка качества модели\n",
    "from sklearn.metrics import r2_score"
   ]
  },
  {
   "cell_type": "markdown",
   "metadata": {},
   "source": [
    "Откроем датасет с данными и изучим его."
   ]
  },
  {
   "cell_type": "code",
   "execution_count": 2,
   "metadata": {},
   "outputs": [
    {
     "data": {
      "text/html": [
       "<div>\n",
       "<style scoped>\n",
       "    .dataframe tbody tr th:only-of-type {\n",
       "        vertical-align: middle;\n",
       "    }\n",
       "\n",
       "    .dataframe tbody tr th {\n",
       "        vertical-align: top;\n",
       "    }\n",
       "\n",
       "    .dataframe thead th {\n",
       "        text-align: right;\n",
       "    }\n",
       "</style>\n",
       "<table border=\"1\" class=\"dataframe\">\n",
       "  <thead>\n",
       "    <tr style=\"text-align: right;\">\n",
       "      <th></th>\n",
       "      <th>Пол</th>\n",
       "      <th>Возраст</th>\n",
       "      <th>Зарплата</th>\n",
       "      <th>Члены семьи</th>\n",
       "      <th>Страховые выплаты</th>\n",
       "    </tr>\n",
       "  </thead>\n",
       "  <tbody>\n",
       "    <tr>\n",
       "      <th>0</th>\n",
       "      <td>1</td>\n",
       "      <td>41.0</td>\n",
       "      <td>49600.0</td>\n",
       "      <td>1</td>\n",
       "      <td>0</td>\n",
       "    </tr>\n",
       "    <tr>\n",
       "      <th>1</th>\n",
       "      <td>0</td>\n",
       "      <td>46.0</td>\n",
       "      <td>38000.0</td>\n",
       "      <td>1</td>\n",
       "      <td>1</td>\n",
       "    </tr>\n",
       "    <tr>\n",
       "      <th>2</th>\n",
       "      <td>0</td>\n",
       "      <td>29.0</td>\n",
       "      <td>21000.0</td>\n",
       "      <td>0</td>\n",
       "      <td>0</td>\n",
       "    </tr>\n",
       "    <tr>\n",
       "      <th>3</th>\n",
       "      <td>0</td>\n",
       "      <td>21.0</td>\n",
       "      <td>41700.0</td>\n",
       "      <td>2</td>\n",
       "      <td>0</td>\n",
       "    </tr>\n",
       "    <tr>\n",
       "      <th>4</th>\n",
       "      <td>1</td>\n",
       "      <td>28.0</td>\n",
       "      <td>26100.0</td>\n",
       "      <td>0</td>\n",
       "      <td>0</td>\n",
       "    </tr>\n",
       "  </tbody>\n",
       "</table>\n",
       "</div>"
      ],
      "text/plain": [
       "   Пол  Возраст  Зарплата  Члены семьи  Страховые выплаты\n",
       "0    1     41.0   49600.0            1                  0\n",
       "1    0     46.0   38000.0            1                  1\n",
       "2    0     29.0   21000.0            0                  0\n",
       "3    0     21.0   41700.0            2                  0\n",
       "4    1     28.0   26100.0            0                  0"
      ]
     },
     "execution_count": 2,
     "metadata": {},
     "output_type": "execute_result"
    }
   ],
   "source": [
    "# чтение файла с данными, сохранение его в переменную\n",
    "df = pd.read_csv('/datasets/insurance.csv')\n",
    "# вывод первых 5 строк\n",
    "df.head(5)"
   ]
  },
  {
   "cell_type": "markdown",
   "metadata": {},
   "source": [
    "Применим ниже альтернативные способы открытия файла, оптимальные в случае, если исходные данные для анализа сохранены локально."
   ]
  },
  {
   "cell_type": "code",
   "execution_count": 3,
   "metadata": {},
   "outputs": [
    {
     "data": {
      "text/html": [
       "<div>\n",
       "<style scoped>\n",
       "    .dataframe tbody tr th:only-of-type {\n",
       "        vertical-align: middle;\n",
       "    }\n",
       "\n",
       "    .dataframe tbody tr th {\n",
       "        vertical-align: top;\n",
       "    }\n",
       "\n",
       "    .dataframe thead th {\n",
       "        text-align: right;\n",
       "    }\n",
       "</style>\n",
       "<table border=\"1\" class=\"dataframe\">\n",
       "  <thead>\n",
       "    <tr style=\"text-align: right;\">\n",
       "      <th></th>\n",
       "      <th>Пол</th>\n",
       "      <th>Возраст</th>\n",
       "      <th>Зарплата</th>\n",
       "      <th>Члены семьи</th>\n",
       "      <th>Страховые выплаты</th>\n",
       "    </tr>\n",
       "  </thead>\n",
       "  <tbody>\n",
       "    <tr>\n",
       "      <th>0</th>\n",
       "      <td>1</td>\n",
       "      <td>41.0</td>\n",
       "      <td>49600.0</td>\n",
       "      <td>1</td>\n",
       "      <td>0</td>\n",
       "    </tr>\n",
       "    <tr>\n",
       "      <th>1</th>\n",
       "      <td>0</td>\n",
       "      <td>46.0</td>\n",
       "      <td>38000.0</td>\n",
       "      <td>1</td>\n",
       "      <td>1</td>\n",
       "    </tr>\n",
       "    <tr>\n",
       "      <th>2</th>\n",
       "      <td>0</td>\n",
       "      <td>29.0</td>\n",
       "      <td>21000.0</td>\n",
       "      <td>0</td>\n",
       "      <td>0</td>\n",
       "    </tr>\n",
       "    <tr>\n",
       "      <th>3</th>\n",
       "      <td>0</td>\n",
       "      <td>21.0</td>\n",
       "      <td>41700.0</td>\n",
       "      <td>2</td>\n",
       "      <td>0</td>\n",
       "    </tr>\n",
       "    <tr>\n",
       "      <th>4</th>\n",
       "      <td>1</td>\n",
       "      <td>28.0</td>\n",
       "      <td>26100.0</td>\n",
       "      <td>0</td>\n",
       "      <td>0</td>\n",
       "    </tr>\n",
       "  </tbody>\n",
       "</table>\n",
       "</div>"
      ],
      "text/plain": [
       "   Пол  Возраст  Зарплата  Члены семьи  Страховые выплаты\n",
       "0    1     41.0   49600.0            1                  0\n",
       "1    0     46.0   38000.0            1                  1\n",
       "2    0     29.0   21000.0            0                  0\n",
       "3    0     21.0   41700.0            2                  0\n",
       "4    1     28.0   26100.0            0                  0"
      ]
     },
     "execution_count": 3,
     "metadata": {},
     "output_type": "execute_result"
    }
   ],
   "source": [
    "# конструкция try/except\n",
    "try:\n",
    "    df = pd.read_csv('/datasets/insurance.csv')\n",
    "except FileNotFoundError:\n",
    "    df = pd.read_csv('C:/Users/User/Desktop/Обучение/insurance.csv')\n",
    "df.head()"
   ]
  },
  {
   "cell_type": "code",
   "execution_count": 4,
   "metadata": {},
   "outputs": [
    {
     "data": {
      "text/html": [
       "<div>\n",
       "<style scoped>\n",
       "    .dataframe tbody tr th:only-of-type {\n",
       "        vertical-align: middle;\n",
       "    }\n",
       "\n",
       "    .dataframe tbody tr th {\n",
       "        vertical-align: top;\n",
       "    }\n",
       "\n",
       "    .dataframe thead th {\n",
       "        text-align: right;\n",
       "    }\n",
       "</style>\n",
       "<table border=\"1\" class=\"dataframe\">\n",
       "  <thead>\n",
       "    <tr style=\"text-align: right;\">\n",
       "      <th></th>\n",
       "      <th>Пол</th>\n",
       "      <th>Возраст</th>\n",
       "      <th>Зарплата</th>\n",
       "      <th>Члены семьи</th>\n",
       "      <th>Страховые выплаты</th>\n",
       "    </tr>\n",
       "  </thead>\n",
       "  <tbody>\n",
       "    <tr>\n",
       "      <th>0</th>\n",
       "      <td>1</td>\n",
       "      <td>41.0</td>\n",
       "      <td>49600.0</td>\n",
       "      <td>1</td>\n",
       "      <td>0</td>\n",
       "    </tr>\n",
       "    <tr>\n",
       "      <th>1</th>\n",
       "      <td>0</td>\n",
       "      <td>46.0</td>\n",
       "      <td>38000.0</td>\n",
       "      <td>1</td>\n",
       "      <td>1</td>\n",
       "    </tr>\n",
       "    <tr>\n",
       "      <th>2</th>\n",
       "      <td>0</td>\n",
       "      <td>29.0</td>\n",
       "      <td>21000.0</td>\n",
       "      <td>0</td>\n",
       "      <td>0</td>\n",
       "    </tr>\n",
       "    <tr>\n",
       "      <th>3</th>\n",
       "      <td>0</td>\n",
       "      <td>21.0</td>\n",
       "      <td>41700.0</td>\n",
       "      <td>2</td>\n",
       "      <td>0</td>\n",
       "    </tr>\n",
       "    <tr>\n",
       "      <th>4</th>\n",
       "      <td>1</td>\n",
       "      <td>28.0</td>\n",
       "      <td>26100.0</td>\n",
       "      <td>0</td>\n",
       "      <td>0</td>\n",
       "    </tr>\n",
       "  </tbody>\n",
       "</table>\n",
       "</div>"
      ],
      "text/plain": [
       "   Пол  Возраст  Зарплата  Члены семьи  Страховые выплаты\n",
       "0    1     41.0   49600.0            1                  0\n",
       "1    0     46.0   38000.0            1                  1\n",
       "2    0     29.0   21000.0            0                  0\n",
       "3    0     21.0   41700.0            2                  0\n",
       "4    1     28.0   26100.0            0                  0"
      ]
     },
     "execution_count": 4,
     "metadata": {},
     "output_type": "execute_result"
    }
   ],
   "source": [
    "# библиотека os\n",
    "import os\n",
    "if os.path.exists(\"/datasets/insurance.csv\"):\n",
    "    df = pd.read_csv('/datasets/insurance.csv')\n",
    "else:\n",
    "    df = pd.read_csv('C:/Users/User/Desktop/Обучение/insurance.csv')\n",
    "df.head()"
   ]
  },
  {
   "cell_type": "markdown",
   "metadata": {},
   "source": [
    "Изучим общую информацию о данных."
   ]
  },
  {
   "cell_type": "code",
   "execution_count": 5,
   "metadata": {},
   "outputs": [
    {
     "name": "stdout",
     "output_type": "stream",
     "text": [
      "<class 'pandas.core.frame.DataFrame'>\n",
      "RangeIndex: 5000 entries, 0 to 4999\n",
      "Data columns (total 5 columns):\n",
      " #   Column             Non-Null Count  Dtype  \n",
      "---  ------             --------------  -----  \n",
      " 0   Пол                5000 non-null   int64  \n",
      " 1   Возраст            5000 non-null   float64\n",
      " 2   Зарплата           5000 non-null   float64\n",
      " 3   Члены семьи        5000 non-null   int64  \n",
      " 4   Страховые выплаты  5000 non-null   int64  \n",
      "dtypes: float64(2), int64(3)\n",
      "memory usage: 195.4 KB\n"
     ]
    }
   ],
   "source": [
    "# получение общей информации о структуре датафрейма\n",
    "df.info() "
   ]
  },
  {
   "cell_type": "markdown",
   "metadata": {},
   "source": [
    "1. В датасете содержится 5000 строк, 5 столбцов.\n",
    "2. Требуется переименование колонок в соответствии с правилами нотации Python (латиница, инжний регистр, змеиный стиль).\n",
    "3. Требуется изменение типа данных с int64 и float64 на int32 для экономии памяти.\n",
    "4. Пропущенных значений в колонках нет.\n",
    "5. Требуется проверка на наличие явных дубликатов.\n",
    "6. Требуется проверка данных на выбросы и обработка выбросов при их наличии."
   ]
  },
  {
   "cell_type": "markdown",
   "metadata": {},
   "source": [
    "### Предобработка данных"
   ]
  },
  {
   "cell_type": "markdown",
   "metadata": {},
   "source": [
    "**Переименование колонок**"
   ]
  },
  {
   "cell_type": "markdown",
   "metadata": {},
   "source": [
    "Переименуем столбцы при помощи создания словаря."
   ]
  },
  {
   "cell_type": "code",
   "execution_count": 6,
   "metadata": {},
   "outputs": [],
   "source": [
    "# переименование столбцов\n",
    "df = df.rename(columns = {\n",
    "    'Пол':'gender', \n",
    "    'Возраст':'age', \n",
    "    'Зарплата':'salary',\n",
    "    'Члены семьи':'family',\n",
    "    'Страховые выплаты':'insurance_payments',\n",
    "})"
   ]
  },
  {
   "cell_type": "markdown",
   "metadata": {},
   "source": [
    "Проверим корректность переименования."
   ]
  },
  {
   "cell_type": "code",
   "execution_count": 7,
   "metadata": {},
   "outputs": [
    {
     "data": {
      "text/plain": [
       "Index(['gender', 'age', 'salary', 'family', 'insurance_payments'], dtype='object')"
      ]
     },
     "execution_count": 7,
     "metadata": {},
     "output_type": "execute_result"
    }
   ],
   "source": [
    "# перечень названий столбцов датасета\n",
    "df.columns"
   ]
  },
  {
   "cell_type": "markdown",
   "metadata": {},
   "source": [
    "Переименование прошло корректно, все колонки переименованы."
   ]
  },
  {
   "cell_type": "markdown",
   "metadata": {},
   "source": [
    "**Изменение типа данных**"
   ]
  },
  {
   "cell_type": "markdown",
   "metadata": {},
   "source": [
    "Заменим типы данных float64 на int32 для экономии памяти."
   ]
  },
  {
   "cell_type": "code",
   "execution_count": 8,
   "metadata": {
    "scrolled": true
   },
   "outputs": [],
   "source": [
    "df[['age', 'salary']] = df[['age', 'salary']].astype(int)"
   ]
  },
  {
   "cell_type": "markdown",
   "metadata": {},
   "source": [
    "Заменим типы данных 64 на 32 для экономии памяти."
   ]
  },
  {
   "cell_type": "code",
   "execution_count": 9,
   "metadata": {},
   "outputs": [],
   "source": [
    "# изменение типов данных\n",
    "df[df.select_dtypes(np.int64).columns] = df.select_dtypes(np.int64).astype(np.int32)"
   ]
  },
  {
   "cell_type": "markdown",
   "metadata": {},
   "source": [
    "Проверим корректность изменения типов данных."
   ]
  },
  {
   "cell_type": "code",
   "execution_count": 10,
   "metadata": {},
   "outputs": [
    {
     "name": "stdout",
     "output_type": "stream",
     "text": [
      "<class 'pandas.core.frame.DataFrame'>\n",
      "RangeIndex: 5000 entries, 0 to 4999\n",
      "Data columns (total 5 columns):\n",
      " #   Column              Non-Null Count  Dtype\n",
      "---  ------              --------------  -----\n",
      " 0   gender              5000 non-null   int32\n",
      " 1   age                 5000 non-null   int32\n",
      " 2   salary              5000 non-null   int32\n",
      " 3   family              5000 non-null   int32\n",
      " 4   insurance_payments  5000 non-null   int32\n",
      "dtypes: int32(5)\n",
      "memory usage: 97.8 KB\n"
     ]
    }
   ],
   "source": [
    "# получение общей информации о структуре датафрейма\n",
    "df.info() "
   ]
  },
  {
   "cell_type": "markdown",
   "metadata": {},
   "source": [
    "Изменение типов данных проведено корректно."
   ]
  },
  {
   "cell_type": "markdown",
   "metadata": {},
   "source": [
    "**Проверка на наличие явных дубликатов**"
   ]
  },
  {
   "cell_type": "markdown",
   "metadata": {},
   "source": [
    "Проверим данные датафрейма на наличие явных дубликатов."
   ]
  },
  {
   "cell_type": "code",
   "execution_count": 11,
   "metadata": {
    "scrolled": true
   },
   "outputs": [
    {
     "data": {
      "text/plain": [
       "0.0306"
      ]
     },
     "execution_count": 11,
     "metadata": {},
     "output_type": "execute_result"
    }
   ],
   "source": [
    "# подсчет строк - явных дубликатов от общего числа строк датафрейма\n",
    "df.duplicated().sum()/len(df)"
   ]
  },
  {
   "cell_type": "markdown",
   "metadata": {},
   "source": [
    "Данные содержат 3% дублирующихся записей. Удалим дубликаты, чтобы избежать искажения результатов."
   ]
  },
  {
   "cell_type": "code",
   "execution_count": 12,
   "metadata": {
    "scrolled": true
   },
   "outputs": [],
   "source": [
    "# удаление дубликатов с переиндексацией\n",
    "df = df.drop_duplicates().reset_index(drop=True)"
   ]
  },
  {
   "cell_type": "markdown",
   "metadata": {},
   "source": [
    "Проверим корректность удаления."
   ]
  },
  {
   "cell_type": "code",
   "execution_count": 13,
   "metadata": {},
   "outputs": [
    {
     "data": {
      "text/plain": [
       "0"
      ]
     },
     "execution_count": 13,
     "metadata": {},
     "output_type": "execute_result"
    }
   ],
   "source": [
    "# подсчет строк - явных дубликатов\n",
    "df.duplicated().sum()"
   ]
  },
  {
   "cell_type": "markdown",
   "metadata": {},
   "source": [
    "Явные дубликаты удалены. Выведем информацию по выборке после удаления дублей."
   ]
  },
  {
   "cell_type": "code",
   "execution_count": 14,
   "metadata": {},
   "outputs": [
    {
     "name": "stdout",
     "output_type": "stream",
     "text": [
      "<class 'pandas.core.frame.DataFrame'>\n",
      "RangeIndex: 4847 entries, 0 to 4846\n",
      "Data columns (total 5 columns):\n",
      " #   Column              Non-Null Count  Dtype\n",
      "---  ------              --------------  -----\n",
      " 0   gender              4847 non-null   int32\n",
      " 1   age                 4847 non-null   int32\n",
      " 2   salary              4847 non-null   int32\n",
      " 3   family              4847 non-null   int32\n",
      " 4   insurance_payments  4847 non-null   int32\n",
      "dtypes: int32(5)\n",
      "memory usage: 94.8 KB\n"
     ]
    }
   ],
   "source": [
    "# получение общей информации о структуре датафрейма\n",
    "df.info()"
   ]
  },
  {
   "cell_type": "markdown",
   "metadata": {},
   "source": [
    "**Проверка данных на выбросы**"
   ]
  },
  {
   "cell_type": "markdown",
   "metadata": {},
   "source": [
    "Проверим данные на наличие выбросов. Выведем общую статистику по данным выборки."
   ]
  },
  {
   "cell_type": "code",
   "execution_count": 15,
   "metadata": {
    "scrolled": true
   },
   "outputs": [
    {
     "data": {
      "text/html": [
       "<div>\n",
       "<style scoped>\n",
       "    .dataframe tbody tr th:only-of-type {\n",
       "        vertical-align: middle;\n",
       "    }\n",
       "\n",
       "    .dataframe tbody tr th {\n",
       "        vertical-align: top;\n",
       "    }\n",
       "\n",
       "    .dataframe thead th {\n",
       "        text-align: right;\n",
       "    }\n",
       "</style>\n",
       "<table border=\"1\" class=\"dataframe\">\n",
       "  <thead>\n",
       "    <tr style=\"text-align: right;\">\n",
       "      <th></th>\n",
       "      <th>gender</th>\n",
       "      <th>age</th>\n",
       "      <th>salary</th>\n",
       "      <th>family</th>\n",
       "      <th>insurance_payments</th>\n",
       "    </tr>\n",
       "  </thead>\n",
       "  <tbody>\n",
       "    <tr>\n",
       "      <th>count</th>\n",
       "      <td>4847.000</td>\n",
       "      <td>4847.000</td>\n",
       "      <td>4847.000</td>\n",
       "      <td>4847.000</td>\n",
       "      <td>4847.000</td>\n",
       "    </tr>\n",
       "    <tr>\n",
       "      <th>mean</th>\n",
       "      <td>0.498</td>\n",
       "      <td>31.024</td>\n",
       "      <td>39895.811</td>\n",
       "      <td>1.203</td>\n",
       "      <td>0.152</td>\n",
       "    </tr>\n",
       "    <tr>\n",
       "      <th>std</th>\n",
       "      <td>0.500</td>\n",
       "      <td>8.488</td>\n",
       "      <td>9972.952</td>\n",
       "      <td>1.099</td>\n",
       "      <td>0.469</td>\n",
       "    </tr>\n",
       "    <tr>\n",
       "      <th>min</th>\n",
       "      <td>0.000</td>\n",
       "      <td>18.000</td>\n",
       "      <td>5300.000</td>\n",
       "      <td>0.000</td>\n",
       "      <td>0.000</td>\n",
       "    </tr>\n",
       "    <tr>\n",
       "      <th>25%</th>\n",
       "      <td>0.000</td>\n",
       "      <td>24.000</td>\n",
       "      <td>33200.000</td>\n",
       "      <td>0.000</td>\n",
       "      <td>0.000</td>\n",
       "    </tr>\n",
       "    <tr>\n",
       "      <th>50%</th>\n",
       "      <td>0.000</td>\n",
       "      <td>30.000</td>\n",
       "      <td>40200.000</td>\n",
       "      <td>1.000</td>\n",
       "      <td>0.000</td>\n",
       "    </tr>\n",
       "    <tr>\n",
       "      <th>75%</th>\n",
       "      <td>1.000</td>\n",
       "      <td>37.000</td>\n",
       "      <td>46600.000</td>\n",
       "      <td>2.000</td>\n",
       "      <td>0.000</td>\n",
       "    </tr>\n",
       "    <tr>\n",
       "      <th>max</th>\n",
       "      <td>1.000</td>\n",
       "      <td>65.000</td>\n",
       "      <td>79000.000</td>\n",
       "      <td>6.000</td>\n",
       "      <td>5.000</td>\n",
       "    </tr>\n",
       "  </tbody>\n",
       "</table>\n",
       "</div>"
      ],
      "text/plain": [
       "         gender       age     salary    family  insurance_payments\n",
       "count  4847.000  4847.000   4847.000  4847.000            4847.000\n",
       "mean      0.498    31.024  39895.811     1.203               0.152\n",
       "std       0.500     8.488   9972.952     1.099               0.469\n",
       "min       0.000    18.000   5300.000     0.000               0.000\n",
       "25%       0.000    24.000  33200.000     0.000               0.000\n",
       "50%       0.000    30.000  40200.000     1.000               0.000\n",
       "75%       1.000    37.000  46600.000     2.000               0.000\n",
       "max       1.000    65.000  79000.000     6.000               5.000"
      ]
     },
     "execution_count": 15,
     "metadata": {},
     "output_type": "execute_result"
    }
   ],
   "source": [
    "# вывод общей статистики по данным\n",
    "df.describe().round(3)"
   ]
  },
  {
   "cell_type": "markdown",
   "metadata": {},
   "source": [
    "Проверим данные всех колонок детальнее."
   ]
  },
  {
   "cell_type": "code",
   "execution_count": 16,
   "metadata": {
    "scrolled": true
   },
   "outputs": [
    {
     "data": {
      "text/plain": [
       "0    2431\n",
       "1    2416\n",
       "Name: gender, dtype: int64"
      ]
     },
     "execution_count": 16,
     "metadata": {},
     "output_type": "execute_result"
    }
   ],
   "source": [
    "# вывод значений в колонке gender\n",
    "df['gender'].value_counts()"
   ]
  },
  {
   "cell_type": "markdown",
   "metadata": {},
   "source": [
    "Данные адекватные, соотношение представителей обоих полов в выборке практически 50 на 50."
   ]
  },
  {
   "cell_type": "code",
   "execution_count": 17,
   "metadata": {
    "scrolled": true
   },
   "outputs": [
    {
     "data": {
      "text/plain": [
       "age\n",
       "18    116\n",
       "19    213\n",
       "20    190\n",
       "21    193\n",
       "22    201\n",
       "23    195\n",
       "24    176\n",
       "25    205\n",
       "26    201\n",
       "27    201\n",
       "28    196\n",
       "29    196\n",
       "30    196\n",
       "31    202\n",
       "32    196\n",
       "33    186\n",
       "34    173\n",
       "35    173\n",
       "36    186\n",
       "37    143\n",
       "38    135\n",
       "39    140\n",
       "40    110\n",
       "41    124\n",
       "42     93\n",
       "43     77\n",
       "44     74\n",
       "45     73\n",
       "46     60\n",
       "47     47\n",
       "48     26\n",
       "49     37\n",
       "50     26\n",
       "51     21\n",
       "52     22\n",
       "53     11\n",
       "54      7\n",
       "55      9\n",
       "56      5\n",
       "57      2\n",
       "58      2\n",
       "59      3\n",
       "60      2\n",
       "61      1\n",
       "62      1\n",
       "65      1\n",
       "Name: age, dtype: int64"
      ]
     },
     "execution_count": 17,
     "metadata": {},
     "output_type": "execute_result"
    }
   ],
   "source": [
    "# вывод значений в колонке age\n",
    "df.groupby(['age'])['age'].count()"
   ]
  },
  {
   "cell_type": "markdown",
   "metadata": {},
   "source": [
    "Данные адекватны. В выборке представлены записи по застрахованным лицам в возрасте от 18 до 65 лет."
   ]
  },
  {
   "cell_type": "code",
   "execution_count": 18,
   "metadata": {},
   "outputs": [
    {
     "data": {
      "text/plain": [
       "salary\n",
       "5300     1\n",
       "6000     1\n",
       "7400     1\n",
       "8900     1\n",
       "9800     1\n",
       "        ..\n",
       "71400    1\n",
       "71600    1\n",
       "74800    1\n",
       "75200    1\n",
       "79000    1\n",
       "Name: salary, Length: 524, dtype: int64"
      ]
     },
     "execution_count": 18,
     "metadata": {},
     "output_type": "execute_result"
    }
   ],
   "source": [
    "# вывод значений в колонке salary\n",
    "df.groupby(['salary'])['salary'].count()"
   ]
  },
  {
   "cell_type": "markdown",
   "metadata": {},
   "source": [
    "Данные адекватны. Зарплаты застрахованных лиц находятся в диапазоне 5300-79000."
   ]
  },
  {
   "cell_type": "code",
   "execution_count": 19,
   "metadata": {},
   "outputs": [
    {
     "data": {
      "text/plain": [
       "family\n",
       "0    1461\n",
       "1    1748\n",
       "2    1038\n",
       "3     437\n",
       "4     124\n",
       "5      32\n",
       "6       7\n",
       "Name: family, dtype: int64"
      ]
     },
     "execution_count": 19,
     "metadata": {},
     "output_type": "execute_result"
    }
   ],
   "source": [
    "# вывод значений в колонке family\n",
    "df.groupby(['family'])['family'].count()"
   ]
  },
  {
   "cell_type": "markdown",
   "metadata": {},
   "source": [
    "Данные адекватны. В выборке представлены застрахованные лица с количеством членов семьи от 0 до 6."
   ]
  },
  {
   "cell_type": "code",
   "execution_count": 20,
   "metadata": {
    "scrolled": false
   },
   "outputs": [
    {
     "data": {
      "text/plain": [
       "insurance_payments\n",
       "0    4284\n",
       "1     423\n",
       "2     114\n",
       "3      18\n",
       "4       7\n",
       "5       1\n",
       "Name: insurance_payments, dtype: int64"
      ]
     },
     "execution_count": 20,
     "metadata": {},
     "output_type": "execute_result"
    }
   ],
   "source": [
    "# вывод значений в колонке insurance_payments\n",
    "df.groupby(['insurance_payments'])['insurance_payments'].count()"
   ]
  },
  {
   "cell_type": "code",
   "execution_count": 21,
   "metadata": {},
   "outputs": [
    {
     "data": {
      "text/plain": [
       "0    0.884\n",
       "1    0.087\n",
       "2    0.024\n",
       "3    0.004\n",
       "4    0.001\n",
       "5    0.000\n",
       "Name: insurance_payments, dtype: float64"
      ]
     },
     "execution_count": 21,
     "metadata": {},
     "output_type": "execute_result"
    }
   ],
   "source": [
    "# вывод долей клиентов с выплатами 0-5 раз\n",
    "df['insurance_payments'].value_counts(normalize=True).round(3)"
   ]
  },
  {
   "cell_type": "markdown",
   "metadata": {},
   "source": [
    "Данные адекватны. В выборке представлены застрахованные с выплатами от 0 до 5 раз за последние 5 лет, 88,7% клиентов выплат не получали, 8,5% получили по 1 выплате, 2,3% получили по 2 выплаты, менее 1% получили по 3-5 выплат."
   ]
  },
  {
   "cell_type": "markdown",
   "metadata": {},
   "source": [
    "Также посмотрим на разброс значений признаков age, family, salary на диаграммах размаха."
   ]
  },
  {
   "cell_type": "code",
   "execution_count": 22,
   "metadata": {},
   "outputs": [
    {
     "data": {
      "image/png": "[encoded data removed]",
      "text/plain": [
       "<Figure size 504x360 with 1 Axes>"
      ]
     },
     "metadata": {
      "needs_background": "light"
     },
     "output_type": "display_data"
    }
   ],
   "source": [
    "# построение диаграммы размаха\n",
    "df[['age','family']].boxplot(figsize=(7,5))\n",
    "plt.suptitle('Разброс значений age, family')\n",
    "plt.title(None)\n",
    "plt.xlabel('Признак'), plt.ylabel('Значения')\n",
    "plt.xticks(rotation=90)\n",
    "plt.show()"
   ]
  },
  {
   "cell_type": "code",
   "execution_count": 23,
   "metadata": {},
   "outputs": [
    {
     "data": {
      "image/png": "[encoded data removed]",
      "text/plain": [
       "<Figure size 504x360 with 1 Axes>"
      ]
     },
     "metadata": {
      "needs_background": "light"
     },
     "output_type": "display_data"
    }
   ],
   "source": [
    "# построение диаграммы размаха\n",
    "df[['salary']].boxplot(figsize=(7, 5))\n",
    "plt.suptitle('Разброс значений salary')\n",
    "plt.title(None)\n",
    "plt.xlabel('Признак'), plt.ylabel('Значения')\n",
    "plt.xticks(rotation=90)\n",
    "plt.show()"
   ]
  },
  {
   "cell_type": "markdown",
   "metadata": {},
   "source": [
    "Выбросы есть, однако они находятся в пределах нормальных значений, соответственно, их обработка не требуется."
   ]
  },
  {
   "cell_type": "markdown",
   "metadata": {},
   "source": [
    "<div style=\"border:solid blue 2px; padding: 20px\"> \n",
    "\n",
    "**Вывод** \n",
    "    \n",
    "В рамках работ по загрузке и анализу данных были проделаны следущие шаги:\n",
    "    \n",
    "1. Открыт и прочитан файл с выборкой.\n",
    "2. Проведено переименование колонок в соответствии с правилами нотации Python (латиница, инжний регистр, змеиный стиль).\n",
    "3. Изменены типы данных int64 и float64 на int32 для экономии памяти\n",
    "4. Пропущенных значений в данных нет.\n",
    "5. При проверке на явные дубликаты выявлены и удалены 153 строки с дубликатами (3% данных).\n",
    "6. Данные проверены на адекватность и выбросы: данные адекватны, требующих обработки выбросов не выявлено.\n",
    " \n",
    "</div>"
   ]
  },
  {
   "cell_type": "markdown",
   "metadata": {},
   "source": [
    "## Умножение матриц"
   ]
  },
  {
   "cell_type": "markdown",
   "metadata": {},
   "source": [
    "Докажем, что при умножении матрицы признаков на обратимую матрицу качество линейной регрессии не изменится. Проверим, как связаны параметры линейной регрессии в исходной задаче (определение качества регресии на исходной матрице признаков) и в преобразованной (определение качества регресии на преобразованной путем умножения на обратимую матрицу матрице признаков)."
   ]
  },
  {
   "cell_type": "markdown",
   "metadata": {},
   "source": [
    "Обозначения:\n",
    "\n",
    "- $X$ — исходная матрица признаков\n",
    "\n",
    "- $y$ — вектор целевого признака\n",
    "\n",
    "- $P$ — матрица, на которую умножаются признаки\n",
    "\n",
    "- $w$ — вектор весов линейной регрессии для матрицы Х до умножения на обратимую Р\n",
    "\n",
    "- $w_p$ — вектор весов линейной регрессии для матрицы Х, умноженной на обратимую Р"
   ]
  },
  {
   "cell_type": "markdown",
   "metadata": {},
   "source": [
    "**Ответ:** качество линейной регресии не изменится.\n",
    "\n",
    "**Обоснование:** приведено ниже."
   ]
  },
  {
   "cell_type": "markdown",
   "metadata": {},
   "source": [
    "**Доказательство**"
   ]
  },
  {
   "cell_type": "markdown",
   "metadata": {},
   "source": [
    "Рассмотрим формулу обучения для исходной матрицы признаков X:\n",
    "\n",
    "$$\n",
    "w = (X^T X)^{-1} X^T y\n",
    "$$\n",
    "\n",
    "Преобразуем ее для матрицы X, умноженной на обратимую матрицу P:\n",
    "\n",
    "$$\n",
    "w_p = ((XP^T) XP)^{-1} (XP)^T y\n",
    "$$\n",
    "\n",
    "Для доказательства неизменности качества регрессии и проверки взаимосвязи между параметрами в исходной и в преобразованной задачах осуществим ряд преобразований согласно свойств матриц:\n",
    "\n",
    "$$\n",
    "(AB)^T=B^T A^T; \\;\\;\\;\\; (AB)^{-1} = B^{-1} A^{-1}; \\;\\;\\;\\; (AB)C = A(BC)\n",
    "$$\n",
    "\n",
    "1. Раскроем скобки для транспонирования:\n",
    "\n",
    "$$\n",
    "w_p = (P^T X^T XP)^{-1} P^T X^T y \n",
    "$$\n",
    "\n",
    "2. Воспользуемся свойством ассоциативности для вынесения одного из множителей:\n",
    "\n",
    "$$\n",
    "w_p = ((P^T X^T X)P)^{-1} P^T X^T y\n",
    "$$\n",
    "\n",
    "3. Раскроем скобки для нахождения обратных матриц:\n",
    "\n",
    "$$\n",
    "w_p = P^{-1}(P^T X^T X)^{-1} P^T X^T y\n",
    "$$\n",
    "\n",
    "4. Еще раз воспользуемся свойством ассоциативности для вынесения одного из множителей:\n",
    "\n",
    "$$\n",
    "w_p = P^{-1}(P^T (X^T X))^{-1} P^T X^T y\n",
    "$$\n",
    "\n",
    "5. Еще раз раскроем скобки для нахождения обратных матриц:\n",
    "\n",
    "$$\n",
    "w_p = P^{-1} (X^T X)^{-1} (P^T)^{-1} P^T X^T y\n",
    "$$\n",
    "\n",
    "6. Воспользуемся свойством единичной матрицы и сократим выражение $(P^T)^{-1} P^T$ (т.к. $(P^T)^{-1} P^T = E = 1$):\n",
    "\n",
    "$$\n",
    "w_p = P^{-1} (X^T X)^{-1} X^T y\n",
    "$$\n",
    "\n",
    "7. Получившаяся формула повторяет формулу обучения для исходной матрицы, приведенную выше, за исключением одного множителя - обратной к обратимой матрицы, на которую было произведено умножение исходной матрицы, что отражает взаимосвязь между параметрами в исходной и в преобразованной задачах:\n",
    "\n",
    "$$\n",
    "w_p = P^{-1} (X^T X)^{-1} X^T y\n",
    "$$\n",
    "\n",
    "$$\n",
    "w = (X^T X)^{-1} X^T y\n",
    "$$\n",
    "\n",
    "Таким образом, качество регрессии при умножении исходной матрицы на случайно сгенерированную обратимую не изменится, и параметры исходной и преобразованной задач связаны как:\n",
    "\n",
    "$$\n",
    "w_p = P^{-1} w\n",
    "$$"
   ]
  },
  {
   "cell_type": "markdown",
   "metadata": {},
   "source": [
    "<div style=\"border:solid blue 2px; padding: 20px\"> \n",
    "\n",
    "**Вывод** \n",
    "    \n",
    "На втором этапе работы проведено исследование формул предсказаний и обучения для исходной матрицы и матрицы, созданной путем умножения исходной матрицы на обратимую. С помощью свойств единичной матрицы доказано, что предсказания для этих матриц и их метрики качества будут одинаковыми. Вектор весов в преобразованной матрице при этом будет равен вектору весов исходной матрицы, умноженному на обратную к обратимой матрицу, использованную для преобразования исходной матрицы.\n",
    " \n",
    "</div>"
   ]
  },
  {
   "cell_type": "markdown",
   "metadata": {},
   "source": [
    "## Алгоритм преобразования"
   ]
  },
  {
   "cell_type": "markdown",
   "metadata": {},
   "source": [
    "**Алгоритм**\n",
    "\n",
    "Таким образом, с учетом изложенного выше, в качестве варианта преобразования данных, предотвращающего их хищение, может быть использовано умножение матрицы признаков на случайно сгенерированную обратимую матрицу."
   ]
  },
  {
   "cell_type": "markdown",
   "metadata": {},
   "source": [
    "**Обоснование**\n",
    "\n",
    "Как было доказано в теории выше, качество линейной регрессии при этом не изменится, поскольку формулы расчета предсказаний для исходной и преобразованной матриц не отличаются."
   ]
  },
  {
   "cell_type": "markdown",
   "metadata": {},
   "source": [
    "<div style=\"border:solid blue 2px; padding: 20px\"> \n",
    "\n",
    "**Вывод** \n",
    "    \n",
    "В качестве способа защиты персональных данных клиентов банка от хищения предлагается использовать умножение исходной матрицы на произвольно сгенерированную обратимую матрицу, что позволит обеспечить сохранность данных и предотвратит искажение результатов линейной регресии.\n",
    " \n",
    "</div>"
   ]
  },
  {
   "cell_type": "markdown",
   "metadata": {},
   "source": [
    "## Проверка алгоритма"
   ]
  },
  {
   "cell_type": "markdown",
   "metadata": {},
   "source": [
    "Проверим теоретические положения на практике, обучив модели и сделав предсказания для исходной и преобразованной выборок и оценив качество предсказаний с помощью метрики R2_score."
   ]
  },
  {
   "cell_type": "markdown",
   "metadata": {},
   "source": [
    "Разделим исходную матрицу на признаки и целевой признак."
   ]
  },
  {
   "cell_type": "code",
   "execution_count": 24,
   "metadata": {
    "scrolled": true
   },
   "outputs": [
    {
     "data": {
      "text/plain": [
       "(4847, 4)"
      ]
     },
     "execution_count": 24,
     "metadata": {},
     "output_type": "execute_result"
    }
   ],
   "source": [
    "# выделение признаков и оценка размера матрицы признаков\n",
    "features = df.drop(['insurance_payments'], axis=1)\n",
    "features.shape"
   ]
  },
  {
   "cell_type": "code",
   "execution_count": 25,
   "metadata": {},
   "outputs": [
    {
     "data": {
      "text/plain": [
       "(4847,)"
      ]
     },
     "execution_count": 25,
     "metadata": {},
     "output_type": "execute_result"
    }
   ],
   "source": [
    "# выделение целевого признака и оценка размера Series\n",
    "target = df['insurance_payments']\n",
    "target.shape"
   ]
  },
  {
   "cell_type": "markdown",
   "metadata": {},
   "source": [
    "**Предсказание на данных исходной матрицы признаков**"
   ]
  },
  {
   "cell_type": "markdown",
   "metadata": {},
   "source": [
    "Обучим модель на данных исходной матрицы, сделаем предсказание и оценим метрику R2_score."
   ]
  },
  {
   "cell_type": "code",
   "execution_count": 26,
   "metadata": {},
   "outputs": [
    {
     "name": "stdout",
     "output_type": "stream",
     "text": [
      "R2_score для исходной матрицы =  0.4302010046633359\n"
     ]
    }
   ],
   "source": [
    "model = LinearRegression()\n",
    "model.fit(features,target)\n",
    "predict = model.predict(features)\n",
    "print(\"R2_score для исходной матрицы = \", r2_score(target, predict))"
   ]
  },
  {
   "cell_type": "markdown",
   "metadata": {},
   "source": [
    "**Предсказание на данных преобразованной матрицы признаков, полученной путем умножения исходной матрицы на произвольную обратимую матрицу**"
   ]
  },
  {
   "cell_type": "markdown",
   "metadata": {},
   "source": [
    "Сгенерируем произвольную матрицу P и проверим ее обратимость."
   ]
  },
  {
   "cell_type": "code",
   "execution_count": 27,
   "metadata": {
    "scrolled": false
   },
   "outputs": [
    {
     "data": {
      "text/plain": [
       "array([[ 1.54009339, -0.56275259, -0.19969661, -0.96750962],\n",
       "       [-1.91580674,  1.5267976 ,  0.83273011, -0.04376486],\n",
       "       [-0.23693199,  0.49318984, -1.13812202,  0.61176294],\n",
       "       [-0.92768683, -1.18461309,  1.31305198, -1.93032744]])"
      ]
     },
     "execution_count": 27,
     "metadata": {},
     "output_type": "execute_result"
    }
   ],
   "source": [
    "# генерация произвольной матрицы с количеством строк, равным количеству столбцов исходной матрицы\n",
    "P = np.random.normal(size=(4, 4))\n",
    "P"
   ]
  },
  {
   "cell_type": "code",
   "execution_count": 28,
   "metadata": {
    "scrolled": false
   },
   "outputs": [
    {
     "data": {
      "text/plain": [
       "array([[-0.10416282, -0.7266792 , -0.12018899, -1.00436184],\n",
       "       [-0.90927071, -0.17803174,  0.29812451,  1.23868677],\n",
       "       [ 0.57509228, -1.72511801,  0.74404207,  0.42255298],\n",
       "       [-0.50667051,  1.52069349, -1.14903273, -1.10774358]])"
      ]
     },
     "execution_count": 28,
     "metadata": {},
     "output_type": "execute_result"
    }
   ],
   "source": [
    "S = np.random.normal(size=(features.shape[1], features.shape[1]))\n",
    "S"
   ]
  },
  {
   "cell_type": "code",
   "execution_count": 29,
   "metadata": {
    "scrolled": true
   },
   "outputs": [
    {
     "data": {
      "text/plain": [
       "array([[ 0.4040076 ,  0.02612159, -0.45096442, -0.3460075 ],\n",
       "       [ 0.59601623,  0.63214088, -0.00511039, -0.31468409],\n",
       "       [-0.19988631,  0.08389631, -1.05426869, -0.23583682],\n",
       "       [-0.69589347, -0.34342091, -0.49727418, -0.31906531]])"
      ]
     },
     "execution_count": 29,
     "metadata": {},
     "output_type": "execute_result"
    }
   ],
   "source": [
    "# проверка случайно сгенерированной матрицы на обратимость путем формирования обратной ей матрицы\n",
    "P_inv = np.linalg.inv(P)\n",
    "P_inv"
   ]
  },
  {
   "cell_type": "code",
   "execution_count": 30,
   "metadata": {},
   "outputs": [],
   "source": [
    "# создание функции для проверки матрицы на обратимость на основании расчета определителя\n",
    "def matrix_inversion(X):\n",
    "    try: \n",
    "        np.linalg.inv(X)\n",
    "        print(\"Матрица обратима, детерминант = \",np.linalg.det(X))\n",
    "    except np.linalg.LinAlgError:\n",
    "        print(\"Матрица необратима: либо она квадратная с детерминантом = 0, либо она неквадратная!\")"
   ]
  },
  {
   "cell_type": "code",
   "execution_count": 31,
   "metadata": {
    "scrolled": true
   },
   "outputs": [
    {
     "name": "stdout",
     "output_type": "stream",
     "text": [
      "Матрица обратима, детерминант =  5.811303638928014\n"
     ]
    }
   ],
   "source": [
    "# проверка на обратимость случайно сгенерированной матрицы\n",
    "matrix_inversion(P)"
   ]
  },
  {
   "cell_type": "markdown",
   "metadata": {},
   "source": [
    "Детерминант не равен 0, следовательно, матрица обратима и подходит для умножения. Умножим исходную матрицу на сгенерированную обратимую."
   ]
  },
  {
   "cell_type": "code",
   "execution_count": 32,
   "metadata": {
    "scrolled": false
   },
   "outputs": [
    {
     "data": {
      "text/html": [
       "<div>\n",
       "<style scoped>\n",
       "    .dataframe tbody tr th:only-of-type {\n",
       "        vertical-align: middle;\n",
       "    }\n",
       "\n",
       "    .dataframe tbody tr th {\n",
       "        vertical-align: top;\n",
       "    }\n",
       "\n",
       "    .dataframe thead th {\n",
       "        text-align: right;\n",
       "    }\n",
       "</style>\n",
       "<table border=\"1\" class=\"dataframe\">\n",
       "  <thead>\n",
       "    <tr style=\"text-align: right;\">\n",
       "      <th></th>\n",
       "      <th>0</th>\n",
       "      <th>1</th>\n",
       "      <th>2</th>\n",
       "      <th>3</th>\n",
       "    </tr>\n",
       "  </thead>\n",
       "  <tbody>\n",
       "    <tr>\n",
       "      <th>0</th>\n",
       "      <td>-11829.762131</td>\n",
       "      <td>24523.067348</td>\n",
       "      <td>-56415.596986</td>\n",
       "      <td>30338.749460</td>\n",
       "    </tr>\n",
       "    <tr>\n",
       "      <th>1</th>\n",
       "      <td>-9092.470231</td>\n",
       "      <td>18810.261957</td>\n",
       "      <td>-43209.018187</td>\n",
       "      <td>23243.048080</td>\n",
       "    </tr>\n",
       "    <tr>\n",
       "      <th>2</th>\n",
       "      <td>-5031.130083</td>\n",
       "      <td>10401.263749</td>\n",
       "      <td>-23876.413282</td>\n",
       "      <td>12845.752488</td>\n",
       "    </tr>\n",
       "    <tr>\n",
       "      <th>3</th>\n",
       "      <td>-9922.151094</td>\n",
       "      <td>20595.709808</td>\n",
       "      <td>-47439.574868</td>\n",
       "      <td>25505.734740</td>\n",
       "    </tr>\n",
       "    <tr>\n",
       "      <th>4</th>\n",
       "      <td>-6236.027307</td>\n",
       "      <td>12914.442377</td>\n",
       "      <td>-29681.868020</td>\n",
       "      <td>15964.819720</td>\n",
       "    </tr>\n",
       "  </tbody>\n",
       "</table>\n",
       "</div>"
      ],
      "text/plain": [
       "              0             1             2             3\n",
       "0 -11829.762131  24523.067348 -56415.596986  30338.749460\n",
       "1  -9092.470231  18810.261957 -43209.018187  23243.048080\n",
       "2  -5031.130083  10401.263749 -23876.413282  12845.752488\n",
       "3  -9922.151094  20595.709808 -47439.574868  25505.734740\n",
       "4  -6236.027307  12914.442377 -29681.868020  15964.819720"
      ]
     },
     "execution_count": 32,
     "metadata": {},
     "output_type": "execute_result"
    }
   ],
   "source": [
    "# умножение исходной матрицы признаков на случайно сгенерированную обратимую, вывод результата\n",
    "features_transformed = features@P\n",
    "features_transformed.head()"
   ]
  },
  {
   "cell_type": "code",
   "execution_count": 33,
   "metadata": {},
   "outputs": [
    {
     "name": "stdout",
     "output_type": "stream",
     "text": [
      "R2_score для преобразованной матрицы =  0.43020100466333466\n"
     ]
    }
   ],
   "source": [
    "model = LinearRegression()\n",
    "model.fit(features_transformed,target)\n",
    "predict = model.predict(features_transformed)\n",
    "print(\"R2_score для преобразованной матрицы = \", r2_score(target, predict))"
   ]
  },
  {
   "cell_type": "markdown",
   "metadata": {},
   "source": [
    "<div style=\"border:solid blue 2px; padding: 20px\"> \n",
    "\n",
    "**Вывод** \n",
    "    \n",
    "На данном шаге произведена проверка теории на практике: сделан расчет и сравнение метрики качества R2_score для исходной и преобразованной путем умножения на случайную обратимую матрицу матриц; качественные метрики в обоих случаях одинаковы R2_score = 0.43\n",
    " \n",
    "</div>"
   ]
  },
  {
   "cell_type": "markdown",
   "metadata": {},
   "source": [
    "Для проверки корректности преобразования попробуем получить исходную матрицу признаков из преобразованной путем ее умножения на обратную матрицу к случайно сгенерированной матрице P_inv."
   ]
  },
  {
   "cell_type": "code",
   "execution_count": 34,
   "metadata": {
    "scrolled": true
   },
   "outputs": [
    {
     "data": {
      "text/html": [
       "<div>\n",
       "<style scoped>\n",
       "    .dataframe tbody tr th:only-of-type {\n",
       "        vertical-align: middle;\n",
       "    }\n",
       "\n",
       "    .dataframe tbody tr th {\n",
       "        vertical-align: top;\n",
       "    }\n",
       "\n",
       "    .dataframe thead th {\n",
       "        text-align: right;\n",
       "    }\n",
       "</style>\n",
       "<table border=\"1\" class=\"dataframe\">\n",
       "  <thead>\n",
       "    <tr style=\"text-align: right;\">\n",
       "      <th></th>\n",
       "      <th>gender</th>\n",
       "      <th>age</th>\n",
       "      <th>salary</th>\n",
       "      <th>family</th>\n",
       "    </tr>\n",
       "  </thead>\n",
       "  <tbody>\n",
       "    <tr>\n",
       "      <th>0</th>\n",
       "      <td>1</td>\n",
       "      <td>41</td>\n",
       "      <td>49600</td>\n",
       "      <td>1</td>\n",
       "    </tr>\n",
       "    <tr>\n",
       "      <th>1</th>\n",
       "      <td>0</td>\n",
       "      <td>46</td>\n",
       "      <td>38000</td>\n",
       "      <td>1</td>\n",
       "    </tr>\n",
       "    <tr>\n",
       "      <th>2</th>\n",
       "      <td>0</td>\n",
       "      <td>29</td>\n",
       "      <td>21000</td>\n",
       "      <td>0</td>\n",
       "    </tr>\n",
       "    <tr>\n",
       "      <th>3</th>\n",
       "      <td>0</td>\n",
       "      <td>21</td>\n",
       "      <td>41700</td>\n",
       "      <td>2</td>\n",
       "    </tr>\n",
       "    <tr>\n",
       "      <th>4</th>\n",
       "      <td>1</td>\n",
       "      <td>28</td>\n",
       "      <td>26100</td>\n",
       "      <td>0</td>\n",
       "    </tr>\n",
       "  </tbody>\n",
       "</table>\n",
       "</div>"
      ],
      "text/plain": [
       "   gender  age  salary  family\n",
       "0       1   41   49600       1\n",
       "1       0   46   38000       1\n",
       "2       0   29   21000       0\n",
       "3       0   21   41700       2\n",
       "4       1   28   26100       0"
      ]
     },
     "execution_count": 34,
     "metadata": {},
     "output_type": "execute_result"
    }
   ],
   "source": [
    "# вывод исходной матрицы признаков\n",
    "features.head()"
   ]
  },
  {
   "cell_type": "code",
   "execution_count": 35,
   "metadata": {
    "scrolled": true
   },
   "outputs": [
    {
     "data": {
      "text/html": [
       "<div>\n",
       "<style scoped>\n",
       "    .dataframe tbody tr th:only-of-type {\n",
       "        vertical-align: middle;\n",
       "    }\n",
       "\n",
       "    .dataframe tbody tr th {\n",
       "        vertical-align: top;\n",
       "    }\n",
       "\n",
       "    .dataframe thead th {\n",
       "        text-align: right;\n",
       "    }\n",
       "</style>\n",
       "<table border=\"1\" class=\"dataframe\">\n",
       "  <thead>\n",
       "    <tr style=\"text-align: right;\">\n",
       "      <th></th>\n",
       "      <th>0</th>\n",
       "      <th>1</th>\n",
       "      <th>2</th>\n",
       "      <th>3</th>\n",
       "    </tr>\n",
       "  </thead>\n",
       "  <tbody>\n",
       "    <tr>\n",
       "      <th>0</th>\n",
       "      <td>1.0</td>\n",
       "      <td>41.0</td>\n",
       "      <td>49600.0</td>\n",
       "      <td>1.0</td>\n",
       "    </tr>\n",
       "    <tr>\n",
       "      <th>1</th>\n",
       "      <td>0.0</td>\n",
       "      <td>46.0</td>\n",
       "      <td>38000.0</td>\n",
       "      <td>1.0</td>\n",
       "    </tr>\n",
       "    <tr>\n",
       "      <th>2</th>\n",
       "      <td>0.0</td>\n",
       "      <td>29.0</td>\n",
       "      <td>21000.0</td>\n",
       "      <td>0.0</td>\n",
       "    </tr>\n",
       "    <tr>\n",
       "      <th>3</th>\n",
       "      <td>0.0</td>\n",
       "      <td>21.0</td>\n",
       "      <td>41700.0</td>\n",
       "      <td>2.0</td>\n",
       "    </tr>\n",
       "    <tr>\n",
       "      <th>4</th>\n",
       "      <td>1.0</td>\n",
       "      <td>28.0</td>\n",
       "      <td>26100.0</td>\n",
       "      <td>0.0</td>\n",
       "    </tr>\n",
       "  </tbody>\n",
       "</table>\n",
       "</div>"
      ],
      "text/plain": [
       "     0     1        2    3\n",
       "0  1.0  41.0  49600.0  1.0\n",
       "1  0.0  46.0  38000.0  1.0\n",
       "2  0.0  29.0  21000.0  0.0\n",
       "3  0.0  21.0  41700.0  2.0\n",
       "4  1.0  28.0  26100.0  0.0"
      ]
     },
     "execution_count": 35,
     "metadata": {},
     "output_type": "execute_result"
    }
   ],
   "source": [
    "# восстановление исходной матрицы признаков из преобразованной\n",
    "features_restored = abs(features_transformed.dot(P_inv).round())\n",
    "features_restored.head()"
   ]
  },
  {
   "cell_type": "markdown",
   "metadata": {},
   "source": [
    "Значения признаков в столбцах исходной и восстановленной матриц признаков совпали, значит, преобразование работает корректно."
   ]
  },
  {
   "cell_type": "markdown",
   "metadata": {},
   "source": [
    "## Итоговый вывод"
   ]
  },
  {
   "cell_type": "markdown",
   "metadata": {},
   "source": [
    "<div style=\"border:solid blue 2px; padding: 20px\"> \n",
    "\n",
    "**Вывод** \n",
    "    \n",
    "В рамках исследования для решения задачи по преобразованию данных, затрудняющему доступ к данным, но при этом не искажающему качественные метрики линейной регрессии, была проделана следующая работа:\n",
    "    \n",
    "1.  Открыта и изучена выборка с данными, проведена их предобработка (переименование колонок, изменение типов данных, проверка на пропуски, удаление явных дубликатов - 153 строки, проверка на адекватность данных и выбросы).\n",
    "2. Проверено и доказано предположение о том, что при умножении матрицы на произвольную обратимую матрицу соответствующей размерности качественные метрики предсказания не изменяются; определена зависимость между параметрами моделей (для исходной и преобразованной матриц).\n",
    "3. Предложен алгоритм для шифрования данных, не ухудшающий качественные метрики предсказания: умножение исходной матрицы на произвольную обратимую матрицу.\n",
    "4. Проведена проверка работы алгоритма на практике: расчитана и сверена метрика качества R2_score для исходной и преобразованной путем умножения на случайную обратимую матрицу матриц, R2_score = 0.43 в обоих случаях.  \n",
    " \n",
    "</div>"
   ]
  }
 ],
 "metadata": {
  "ExecuteTimeLog": [
   {
    "duration": 1420,
    "start_time": "2022-06-19T08:44:07.653Z"
   },
   {
    "duration": 84,
    "start_time": "2022-06-19T08:44:09.493Z"
   },
   {
    "duration": 13,
    "start_time": "2022-06-19T08:45:15.369Z"
   },
   {
    "duration": 5,
    "start_time": "2022-06-19T08:56:43.761Z"
   },
   {
    "duration": 5,
    "start_time": "2022-06-19T08:56:46.430Z"
   },
   {
    "duration": 452,
    "start_time": "2022-06-19T09:00:00.070Z"
   },
   {
    "duration": 5,
    "start_time": "2022-06-19T09:00:25.296Z"
   },
   {
    "duration": 9,
    "start_time": "2022-06-19T09:00:43.419Z"
   },
   {
    "duration": 13,
    "start_time": "2022-06-19T09:00:45.690Z"
   },
   {
    "duration": 6,
    "start_time": "2022-06-19T09:01:28.418Z"
   },
   {
    "duration": 8,
    "start_time": "2022-06-19T09:02:11.954Z"
   },
   {
    "duration": 11,
    "start_time": "2022-06-19T09:02:33.918Z"
   },
   {
    "duration": 10,
    "start_time": "2022-06-19T09:03:37.434Z"
   },
   {
    "duration": 11,
    "start_time": "2022-06-19T09:04:52.664Z"
   },
   {
    "duration": 8,
    "start_time": "2022-06-19T09:06:09.452Z"
   },
   {
    "duration": 5,
    "start_time": "2022-06-19T09:07:18.686Z"
   },
   {
    "duration": 7,
    "start_time": "2022-06-19T09:07:30.582Z"
   },
   {
    "duration": 8,
    "start_time": "2022-06-19T09:08:02.254Z"
   },
   {
    "duration": 3,
    "start_time": "2022-06-19T09:08:12.319Z"
   },
   {
    "duration": 39,
    "start_time": "2022-06-19T09:08:12.324Z"
   },
   {
    "duration": 14,
    "start_time": "2022-06-19T09:08:12.457Z"
   },
   {
    "duration": 6,
    "start_time": "2022-06-19T09:08:12.579Z"
   },
   {
    "duration": 17,
    "start_time": "2022-06-19T09:08:12.589Z"
   },
   {
    "duration": 6,
    "start_time": "2022-06-19T09:08:12.741Z"
   },
   {
    "duration": 11,
    "start_time": "2022-06-19T09:08:12.849Z"
   },
   {
    "duration": 12,
    "start_time": "2022-06-19T09:08:12.947Z"
   },
   {
    "duration": 6,
    "start_time": "2022-06-19T09:08:21.990Z"
   },
   {
    "duration": 6,
    "start_time": "2022-06-19T09:16:49.059Z"
   },
   {
    "duration": 6,
    "start_time": "2022-06-19T09:23:36.558Z"
   },
   {
    "duration": 13,
    "start_time": "2022-06-19T09:24:31.175Z"
   },
   {
    "duration": 6,
    "start_time": "2022-06-19T09:25:01.750Z"
   },
   {
    "duration": 6,
    "start_time": "2022-06-19T09:25:31.450Z"
   },
   {
    "duration": 5,
    "start_time": "2022-06-19T09:25:49.991Z"
   },
   {
    "duration": 6,
    "start_time": "2022-06-19T09:26:56.016Z"
   },
   {
    "duration": 7,
    "start_time": "2022-06-19T09:28:37.651Z"
   },
   {
    "duration": 7,
    "start_time": "2022-06-19T09:30:05.587Z"
   },
   {
    "duration": 6,
    "start_time": "2022-06-19T09:30:35.866Z"
   },
   {
    "duration": 6,
    "start_time": "2022-06-19T09:32:23.288Z"
   },
   {
    "duration": 6,
    "start_time": "2022-06-19T09:33:58.376Z"
   },
   {
    "duration": 6,
    "start_time": "2022-06-19T09:34:05.360Z"
   },
   {
    "duration": 26,
    "start_time": "2022-06-19T09:34:45.156Z"
   },
   {
    "duration": 13,
    "start_time": "2022-06-19T09:46:32.182Z"
   },
   {
    "duration": 260,
    "start_time": "2022-06-19T09:46:43.836Z"
   },
   {
    "duration": 161,
    "start_time": "2022-06-19T09:48:40.677Z"
   },
   {
    "duration": 161,
    "start_time": "2022-06-19T09:49:45.487Z"
   },
   {
    "duration": 148,
    "start_time": "2022-06-19T09:51:19.377Z"
   },
   {
    "duration": 128,
    "start_time": "2022-06-19T09:51:25.011Z"
   },
   {
    "duration": 206,
    "start_time": "2022-06-19T09:51:34.117Z"
   },
   {
    "duration": 126,
    "start_time": "2022-06-19T09:51:48.201Z"
   },
   {
    "duration": 108,
    "start_time": "2022-06-19T09:52:20.150Z"
   },
   {
    "duration": 1523,
    "start_time": "2022-06-23T17:06:05.192Z"
   },
   {
    "duration": 95,
    "start_time": "2022-06-23T17:06:06.716Z"
   },
   {
    "duration": 12,
    "start_time": "2022-06-23T17:06:06.812Z"
   },
   {
    "duration": 3,
    "start_time": "2022-06-23T17:06:06.826Z"
   },
   {
    "duration": 7,
    "start_time": "2022-06-23T17:06:06.830Z"
   },
   {
    "duration": 7,
    "start_time": "2022-06-23T17:06:06.838Z"
   },
   {
    "duration": 10,
    "start_time": "2022-06-23T17:06:06.847Z"
   },
   {
    "duration": 24,
    "start_time": "2022-06-23T17:06:06.861Z"
   },
   {
    "duration": 6,
    "start_time": "2022-06-23T17:06:06.886Z"
   },
   {
    "duration": 4,
    "start_time": "2022-06-23T17:06:06.894Z"
   },
   {
    "duration": 7,
    "start_time": "2022-06-23T17:06:06.900Z"
   },
   {
    "duration": 9,
    "start_time": "2022-06-23T17:06:06.909Z"
   },
   {
    "duration": 8,
    "start_time": "2022-06-23T17:06:06.920Z"
   },
   {
    "duration": 5,
    "start_time": "2022-06-23T17:06:06.930Z"
   },
   {
    "duration": 35,
    "start_time": "2022-06-23T17:06:06.937Z"
   },
   {
    "duration": 7,
    "start_time": "2022-06-23T17:06:06.974Z"
   },
   {
    "duration": 10,
    "start_time": "2022-06-23T17:06:06.983Z"
   },
   {
    "duration": 153,
    "start_time": "2022-06-23T17:06:06.995Z"
   },
   {
    "duration": 169,
    "start_time": "2022-06-23T17:06:07.150Z"
   },
   {
    "duration": 44,
    "start_time": "2022-06-24T09:27:02.290Z"
   },
   {
    "duration": 1431,
    "start_time": "2022-06-24T09:27:12.087Z"
   },
   {
    "duration": 92,
    "start_time": "2022-06-24T09:27:13.520Z"
   },
   {
    "duration": 14,
    "start_time": "2022-06-24T09:27:13.614Z"
   },
   {
    "duration": 6,
    "start_time": "2022-06-24T09:27:13.631Z"
   },
   {
    "duration": 7,
    "start_time": "2022-06-24T09:27:13.639Z"
   },
   {
    "duration": 7,
    "start_time": "2022-06-24T09:27:13.647Z"
   },
   {
    "duration": 10,
    "start_time": "2022-06-24T09:27:13.656Z"
   },
   {
    "duration": 29,
    "start_time": "2022-06-24T09:27:13.667Z"
   },
   {
    "duration": 7,
    "start_time": "2022-06-24T09:27:13.698Z"
   },
   {
    "duration": 22,
    "start_time": "2022-06-24T09:27:13.707Z"
   },
   {
    "duration": 6,
    "start_time": "2022-06-24T09:27:13.731Z"
   },
   {
    "duration": 12,
    "start_time": "2022-06-24T09:27:13.739Z"
   },
   {
    "duration": 10,
    "start_time": "2022-06-24T09:27:13.752Z"
   },
   {
    "duration": 10,
    "start_time": "2022-06-24T09:27:13.763Z"
   },
   {
    "duration": 7,
    "start_time": "2022-06-24T09:27:13.775Z"
   },
   {
    "duration": 5,
    "start_time": "2022-06-24T09:27:13.784Z"
   },
   {
    "duration": 7,
    "start_time": "2022-06-24T09:27:13.791Z"
   },
   {
    "duration": 34,
    "start_time": "2022-06-24T09:27:13.799Z"
   },
   {
    "duration": 168,
    "start_time": "2022-06-24T09:27:13.834Z"
   },
   {
    "duration": 136,
    "start_time": "2022-06-24T09:27:14.004Z"
   },
   {
    "duration": 19,
    "start_time": "2022-06-24T09:28:30.781Z"
   },
   {
    "duration": 23,
    "start_time": "2022-06-24T09:28:55.082Z"
   },
   {
    "duration": 29,
    "start_time": "2022-06-24T09:29:30.690Z"
   },
   {
    "duration": 4,
    "start_time": "2022-06-24T09:31:30.433Z"
   },
   {
    "duration": 45,
    "start_time": "2022-06-24T09:31:30.439Z"
   },
   {
    "duration": 11,
    "start_time": "2022-06-24T09:31:30.485Z"
   },
   {
    "duration": 4,
    "start_time": "2022-06-24T09:31:30.498Z"
   },
   {
    "duration": 11,
    "start_time": "2022-06-24T09:31:30.503Z"
   },
   {
    "duration": 14,
    "start_time": "2022-06-24T09:31:30.516Z"
   },
   {
    "duration": 23,
    "start_time": "2022-06-24T09:31:30.531Z"
   },
   {
    "duration": 11,
    "start_time": "2022-06-24T09:31:30.555Z"
   },
   {
    "duration": 13,
    "start_time": "2022-06-24T09:31:30.569Z"
   },
   {
    "duration": 15,
    "start_time": "2022-06-24T09:31:30.583Z"
   },
   {
    "duration": 8,
    "start_time": "2022-06-24T09:31:30.599Z"
   },
   {
    "duration": 15,
    "start_time": "2022-06-24T09:31:30.609Z"
   },
   {
    "duration": 44,
    "start_time": "2022-06-24T09:31:30.626Z"
   },
   {
    "duration": 6,
    "start_time": "2022-06-24T09:31:30.671Z"
   },
   {
    "duration": 11,
    "start_time": "2022-06-24T09:31:30.678Z"
   },
   {
    "duration": 13,
    "start_time": "2022-06-24T09:31:30.691Z"
   },
   {
    "duration": 7,
    "start_time": "2022-06-24T09:31:30.705Z"
   },
   {
    "duration": 10,
    "start_time": "2022-06-24T09:31:30.714Z"
   },
   {
    "duration": 14,
    "start_time": "2022-06-24T09:31:30.725Z"
   },
   {
    "duration": 140,
    "start_time": "2022-06-24T09:31:30.741Z"
   },
   {
    "duration": 133,
    "start_time": "2022-06-24T09:31:30.882Z"
   },
   {
    "duration": 61,
    "start_time": "2022-06-24T11:21:22.520Z"
   },
   {
    "duration": 3,
    "start_time": "2022-06-24T11:21:29.083Z"
   },
   {
    "duration": 34,
    "start_time": "2022-06-24T11:21:29.088Z"
   },
   {
    "duration": 10,
    "start_time": "2022-06-24T11:21:29.123Z"
   },
   {
    "duration": 5,
    "start_time": "2022-06-24T11:21:29.134Z"
   },
   {
    "duration": 5,
    "start_time": "2022-06-24T11:21:29.141Z"
   },
   {
    "duration": 7,
    "start_time": "2022-06-24T11:21:29.147Z"
   },
   {
    "duration": 10,
    "start_time": "2022-06-24T11:21:29.155Z"
   },
   {
    "duration": 18,
    "start_time": "2022-06-24T11:21:29.166Z"
   },
   {
    "duration": 11,
    "start_time": "2022-06-24T11:21:29.185Z"
   },
   {
    "duration": 12,
    "start_time": "2022-06-24T11:21:29.198Z"
   },
   {
    "duration": 19,
    "start_time": "2022-06-24T11:21:29.211Z"
   },
   {
    "duration": 11,
    "start_time": "2022-06-24T11:21:29.231Z"
   },
   {
    "duration": 25,
    "start_time": "2022-06-24T11:21:29.243Z"
   },
   {
    "duration": 4,
    "start_time": "2022-06-24T11:21:29.271Z"
   },
   {
    "duration": 6,
    "start_time": "2022-06-24T11:21:29.277Z"
   },
   {
    "duration": 5,
    "start_time": "2022-06-24T11:21:29.285Z"
   },
   {
    "duration": 5,
    "start_time": "2022-06-24T11:21:29.291Z"
   },
   {
    "duration": 5,
    "start_time": "2022-06-24T11:21:29.329Z"
   },
   {
    "duration": 7,
    "start_time": "2022-06-24T11:21:29.335Z"
   },
   {
    "duration": 150,
    "start_time": "2022-06-24T11:21:29.343Z"
   },
   {
    "duration": 123,
    "start_time": "2022-06-24T11:21:29.495Z"
   },
   {
    "duration": 11,
    "start_time": "2022-06-24T11:21:42.570Z"
   },
   {
    "duration": 22,
    "start_time": "2022-06-24T11:21:49.071Z"
   },
   {
    "duration": 4,
    "start_time": "2022-06-24T11:22:08.403Z"
   },
   {
    "duration": 37,
    "start_time": "2022-06-24T11:22:08.409Z"
   },
   {
    "duration": 10,
    "start_time": "2022-06-24T11:22:08.448Z"
   },
   {
    "duration": 6,
    "start_time": "2022-06-24T11:22:08.460Z"
   },
   {
    "duration": 8,
    "start_time": "2022-06-24T11:22:08.468Z"
   },
   {
    "duration": 6,
    "start_time": "2022-06-24T11:22:08.478Z"
   },
   {
    "duration": 10,
    "start_time": "2022-06-24T11:22:08.486Z"
   },
   {
    "duration": 14,
    "start_time": "2022-06-24T11:22:08.498Z"
   },
   {
    "duration": 101,
    "start_time": "2022-06-24T11:22:08.514Z"
   },
   {
    "duration": 16,
    "start_time": "2022-06-24T11:22:08.617Z"
   },
   {
    "duration": 8,
    "start_time": "2022-06-24T11:22:08.635Z"
   },
   {
    "duration": 13,
    "start_time": "2022-06-24T11:22:08.645Z"
   },
   {
    "duration": 31,
    "start_time": "2022-06-24T11:22:08.659Z"
   },
   {
    "duration": 7,
    "start_time": "2022-06-24T11:22:08.693Z"
   },
   {
    "duration": 32,
    "start_time": "2022-06-24T11:22:08.702Z"
   },
   {
    "duration": 8,
    "start_time": "2022-06-24T11:22:08.736Z"
   },
   {
    "duration": 6,
    "start_time": "2022-06-24T11:22:08.746Z"
   },
   {
    "duration": 8,
    "start_time": "2022-06-24T11:22:08.753Z"
   },
   {
    "duration": 7,
    "start_time": "2022-06-24T11:22:08.763Z"
   },
   {
    "duration": 184,
    "start_time": "2022-06-24T11:22:08.772Z"
   },
   {
    "duration": 139,
    "start_time": "2022-06-24T11:22:08.958Z"
   },
   {
    "duration": 14,
    "start_time": "2022-06-24T11:22:29.122Z"
   },
   {
    "duration": 4,
    "start_time": "2022-06-24T11:22:59.699Z"
   },
   {
    "duration": 5,
    "start_time": "2022-06-24T11:23:18.038Z"
   },
   {
    "duration": 5,
    "start_time": "2022-06-24T11:23:50.145Z"
   },
   {
    "duration": 5,
    "start_time": "2022-06-24T11:25:31.078Z"
   },
   {
    "duration": 5,
    "start_time": "2022-06-24T11:25:34.611Z"
   },
   {
    "duration": 5,
    "start_time": "2022-06-24T11:25:49.998Z"
   },
   {
    "duration": 9,
    "start_time": "2022-06-24T11:30:21.082Z"
   },
   {
    "duration": 4,
    "start_time": "2022-06-24T11:31:55.278Z"
   },
   {
    "duration": 17,
    "start_time": "2022-06-24T11:33:35.581Z"
   },
   {
    "duration": 14,
    "start_time": "2022-06-24T11:34:15.826Z"
   },
   {
    "duration": 10,
    "start_time": "2022-06-24T11:34:33.057Z"
   },
   {
    "duration": 3,
    "start_time": "2022-06-24T11:34:46.511Z"
   },
   {
    "duration": 51,
    "start_time": "2022-06-24T11:34:46.516Z"
   },
   {
    "duration": 10,
    "start_time": "2022-06-24T11:34:46.569Z"
   },
   {
    "duration": 8,
    "start_time": "2022-06-24T11:34:46.581Z"
   },
   {
    "duration": 8,
    "start_time": "2022-06-24T11:34:46.591Z"
   },
   {
    "duration": 6,
    "start_time": "2022-06-24T11:34:46.600Z"
   },
   {
    "duration": 9,
    "start_time": "2022-06-24T11:34:46.608Z"
   },
   {
    "duration": 14,
    "start_time": "2022-06-24T11:34:46.619Z"
   },
   {
    "duration": 23,
    "start_time": "2022-06-24T11:34:46.635Z"
   },
   {
    "duration": 6,
    "start_time": "2022-06-24T11:34:46.660Z"
   },
   {
    "duration": 8,
    "start_time": "2022-06-24T11:34:46.668Z"
   },
   {
    "duration": 11,
    "start_time": "2022-06-24T11:34:46.678Z"
   },
   {
    "duration": 21,
    "start_time": "2022-06-24T11:34:46.691Z"
   },
   {
    "duration": 4,
    "start_time": "2022-06-24T11:34:46.714Z"
   },
   {
    "duration": 7,
    "start_time": "2022-06-24T11:34:46.719Z"
   },
   {
    "duration": 41,
    "start_time": "2022-06-24T11:34:46.727Z"
   },
   {
    "duration": 17,
    "start_time": "2022-06-24T11:34:46.770Z"
   },
   {
    "duration": 7,
    "start_time": "2022-06-24T11:34:46.789Z"
   },
   {
    "duration": 6,
    "start_time": "2022-06-24T11:34:46.797Z"
   },
   {
    "duration": 149,
    "start_time": "2022-06-24T11:34:46.804Z"
   },
   {
    "duration": 120,
    "start_time": "2022-06-24T11:34:46.954Z"
   },
   {
    "duration": 5,
    "start_time": "2022-06-24T11:34:47.075Z"
   },
   {
    "duration": 6,
    "start_time": "2022-06-24T11:34:47.081Z"
   },
   {
    "duration": 45,
    "start_time": "2022-06-24T11:34:47.089Z"
   },
   {
    "duration": 107,
    "start_time": "2022-06-24T11:34:47.136Z"
   },
   {
    "duration": 12,
    "start_time": "2022-06-24T11:35:05.576Z"
   },
   {
    "duration": 20,
    "start_time": "2022-06-24T11:35:16.182Z"
   },
   {
    "duration": 10,
    "start_time": "2022-06-24T11:41:27.302Z"
   },
   {
    "duration": 2,
    "start_time": "2022-06-24T11:41:57.791Z"
   },
   {
    "duration": 14,
    "start_time": "2022-06-24T11:42:03.638Z"
   },
   {
    "duration": 4,
    "start_time": "2022-06-24T11:42:08.804Z"
   },
   {
    "duration": 4,
    "start_time": "2022-06-24T11:42:50.344Z"
   },
   {
    "duration": 5,
    "start_time": "2022-06-24T11:43:04.742Z"
   },
   {
    "duration": 133,
    "start_time": "2022-06-24T11:43:47.756Z"
   },
   {
    "duration": 6,
    "start_time": "2022-06-24T11:44:11.583Z"
   },
   {
    "duration": 4,
    "start_time": "2022-06-24T11:44:12.425Z"
   },
   {
    "duration": 2,
    "start_time": "2022-06-24T11:47:09.322Z"
   },
   {
    "duration": 11,
    "start_time": "2022-06-24T11:47:19.210Z"
   },
   {
    "duration": 19,
    "start_time": "2022-06-24T11:48:37.322Z"
   },
   {
    "duration": 11,
    "start_time": "2022-06-24T11:49:13.502Z"
   },
   {
    "duration": 11,
    "start_time": "2022-06-24T11:51:44.172Z"
   },
   {
    "duration": 1787,
    "start_time": "2022-06-24T12:20:02.815Z"
   },
   {
    "duration": 41,
    "start_time": "2022-06-24T12:20:04.604Z"
   },
   {
    "duration": 10,
    "start_time": "2022-06-24T12:20:04.647Z"
   },
   {
    "duration": 5,
    "start_time": "2022-06-24T12:20:04.659Z"
   },
   {
    "duration": 18,
    "start_time": "2022-06-24T12:20:04.666Z"
   },
   {
    "duration": 12,
    "start_time": "2022-06-24T12:20:04.686Z"
   },
   {
    "duration": 12,
    "start_time": "2022-06-24T12:20:04.700Z"
   },
   {
    "duration": 13,
    "start_time": "2022-06-24T12:20:04.713Z"
   },
   {
    "duration": 16,
    "start_time": "2022-06-24T12:20:04.727Z"
   },
   {
    "duration": 7,
    "start_time": "2022-06-24T12:20:04.746Z"
   },
   {
    "duration": 6,
    "start_time": "2022-06-24T12:20:04.754Z"
   },
   {
    "duration": 10,
    "start_time": "2022-06-24T12:20:04.762Z"
   },
   {
    "duration": 25,
    "start_time": "2022-06-24T12:20:04.774Z"
   },
   {
    "duration": 4,
    "start_time": "2022-06-24T12:20:04.801Z"
   },
   {
    "duration": 23,
    "start_time": "2022-06-24T12:20:04.807Z"
   },
   {
    "duration": 8,
    "start_time": "2022-06-24T12:20:04.832Z"
   },
   {
    "duration": 11,
    "start_time": "2022-06-24T12:20:04.841Z"
   },
   {
    "duration": 7,
    "start_time": "2022-06-24T12:20:04.853Z"
   },
   {
    "duration": 7,
    "start_time": "2022-06-24T12:20:04.862Z"
   },
   {
    "duration": 174,
    "start_time": "2022-06-24T12:20:04.871Z"
   },
   {
    "duration": 128,
    "start_time": "2022-06-24T12:20:05.047Z"
   },
   {
    "duration": 6,
    "start_time": "2022-06-24T12:20:05.177Z"
   },
   {
    "duration": 10,
    "start_time": "2022-06-24T12:20:05.185Z"
   },
   {
    "duration": 47,
    "start_time": "2022-06-24T12:20:05.196Z"
   },
   {
    "duration": 86,
    "start_time": "2022-06-24T12:20:05.244Z"
   },
   {
    "duration": 22,
    "start_time": "2022-06-24T12:20:05.332Z"
   },
   {
    "duration": 78,
    "start_time": "2022-06-24T12:20:05.356Z"
   },
   {
    "duration": 110,
    "start_time": "2022-06-24T12:20:05.437Z"
   },
   {
    "duration": 1485,
    "start_time": "2022-06-25T06:16:19.003Z"
   },
   {
    "duration": 39,
    "start_time": "2022-06-25T06:16:20.489Z"
   },
   {
    "duration": 10,
    "start_time": "2022-06-25T06:16:20.530Z"
   },
   {
    "duration": 7,
    "start_time": "2022-06-25T06:16:20.542Z"
   },
   {
    "duration": 6,
    "start_time": "2022-06-25T06:16:20.551Z"
   },
   {
    "duration": 7,
    "start_time": "2022-06-25T06:16:20.558Z"
   },
   {
    "duration": 10,
    "start_time": "2022-06-25T06:16:20.566Z"
   },
   {
    "duration": 10,
    "start_time": "2022-06-25T06:16:20.578Z"
   },
   {
    "duration": 5,
    "start_time": "2022-06-25T06:16:20.589Z"
   },
   {
    "duration": 33,
    "start_time": "2022-06-25T06:16:20.596Z"
   },
   {
    "duration": 11,
    "start_time": "2022-06-25T06:16:20.630Z"
   },
   {
    "duration": 11,
    "start_time": "2022-06-25T06:16:20.642Z"
   },
   {
    "duration": 27,
    "start_time": "2022-06-25T06:16:20.655Z"
   },
   {
    "duration": 5,
    "start_time": "2022-06-25T06:16:20.684Z"
   },
   {
    "duration": 17,
    "start_time": "2022-06-25T06:16:20.691Z"
   },
   {
    "duration": 8,
    "start_time": "2022-06-25T06:16:20.725Z"
   },
   {
    "duration": 11,
    "start_time": "2022-06-25T06:16:20.735Z"
   },
   {
    "duration": 11,
    "start_time": "2022-06-25T06:16:20.747Z"
   },
   {
    "duration": 11,
    "start_time": "2022-06-25T06:16:20.760Z"
   },
   {
    "duration": 164,
    "start_time": "2022-06-25T06:16:20.773Z"
   },
   {
    "duration": 133,
    "start_time": "2022-06-25T06:16:20.938Z"
   },
   {
    "duration": 5,
    "start_time": "2022-06-25T06:16:21.072Z"
   },
   {
    "duration": 11,
    "start_time": "2022-06-25T06:16:21.078Z"
   },
   {
    "duration": 45,
    "start_time": "2022-06-25T06:16:21.090Z"
   },
   {
    "duration": 94,
    "start_time": "2022-06-25T06:16:21.137Z"
   },
   {
    "duration": 6,
    "start_time": "2022-06-25T06:16:21.233Z"
   },
   {
    "duration": 90,
    "start_time": "2022-06-25T06:16:21.241Z"
   },
   {
    "duration": 93,
    "start_time": "2022-06-25T06:16:21.335Z"
   },
   {
    "duration": 131,
    "start_time": "2022-06-25T07:29:06.902Z"
   },
   {
    "duration": 1304,
    "start_time": "2022-06-26T07:43:55.187Z"
   },
   {
    "duration": 78,
    "start_time": "2022-06-26T07:43:56.492Z"
   },
   {
    "duration": 2,
    "start_time": "2022-06-26T07:43:56.571Z"
   },
   {
    "duration": 57,
    "start_time": "2022-06-26T07:44:02.687Z"
   },
   {
    "duration": 50,
    "start_time": "2022-06-26T07:44:36.263Z"
   },
   {
    "duration": 82,
    "start_time": "2022-06-26T07:46:08.127Z"
   },
   {
    "duration": 56,
    "start_time": "2022-06-26T07:46:09.607Z"
   },
   {
    "duration": 29,
    "start_time": "2022-06-26T07:46:38.719Z"
   },
   {
    "duration": 30,
    "start_time": "2022-06-26T07:47:04.076Z"
   },
   {
    "duration": 86,
    "start_time": "2022-06-26T08:08:19.145Z"
   },
   {
    "duration": 7,
    "start_time": "2022-06-26T08:09:29.106Z"
   },
   {
    "duration": 8,
    "start_time": "2022-06-26T08:09:34.969Z"
   },
   {
    "duration": 8,
    "start_time": "2022-06-26T08:09:59.177Z"
   },
   {
    "duration": 3,
    "start_time": "2022-06-26T08:10:06.867Z"
   },
   {
    "duration": 35,
    "start_time": "2022-06-26T08:10:06.872Z"
   },
   {
    "duration": 9,
    "start_time": "2022-06-26T08:10:06.908Z"
   },
   {
    "duration": 10,
    "start_time": "2022-06-26T08:10:06.919Z"
   },
   {
    "duration": 10,
    "start_time": "2022-06-26T08:10:06.930Z"
   },
   {
    "duration": 8,
    "start_time": "2022-06-26T08:10:06.941Z"
   },
   {
    "duration": 6,
    "start_time": "2022-06-26T08:10:06.950Z"
   },
   {
    "duration": 8,
    "start_time": "2022-06-26T08:10:06.957Z"
   },
   {
    "duration": 9,
    "start_time": "2022-06-26T08:10:06.966Z"
   },
   {
    "duration": 13,
    "start_time": "2022-06-26T08:10:06.976Z"
   },
   {
    "duration": 5,
    "start_time": "2022-06-26T08:10:06.990Z"
   },
   {
    "duration": 6,
    "start_time": "2022-06-26T08:10:06.996Z"
   },
   {
    "duration": 7,
    "start_time": "2022-06-26T08:10:07.003Z"
   },
   {
    "duration": 11,
    "start_time": "2022-06-26T08:10:07.012Z"
   },
   {
    "duration": 35,
    "start_time": "2022-06-26T08:10:07.025Z"
   },
   {
    "duration": 4,
    "start_time": "2022-06-26T08:10:07.062Z"
   },
   {
    "duration": 7,
    "start_time": "2022-06-26T08:10:07.067Z"
   },
   {
    "duration": 9,
    "start_time": "2022-06-26T08:10:07.076Z"
   },
   {
    "duration": 11,
    "start_time": "2022-06-26T08:10:07.086Z"
   },
   {
    "duration": 4,
    "start_time": "2022-06-26T08:10:07.099Z"
   },
   {
    "duration": 8,
    "start_time": "2022-06-26T08:10:07.105Z"
   },
   {
    "duration": 133,
    "start_time": "2022-06-26T08:10:07.114Z"
   },
   {
    "duration": 120,
    "start_time": "2022-06-26T08:10:07.250Z"
   },
   {
    "duration": 5,
    "start_time": "2022-06-26T08:10:07.371Z"
   },
   {
    "duration": 7,
    "start_time": "2022-06-26T08:10:07.377Z"
   },
   {
    "duration": 68,
    "start_time": "2022-06-26T08:10:07.385Z"
   },
   {
    "duration": 99,
    "start_time": "2022-06-26T08:10:07.455Z"
   },
   {
    "duration": 4,
    "start_time": "2022-06-26T08:10:39.442Z"
   },
   {
    "duration": 357,
    "start_time": "2022-06-26T08:10:55.948Z"
   },
   {
    "duration": 5,
    "start_time": "2022-06-26T08:11:10.278Z"
   },
   {
    "duration": 5,
    "start_time": "2022-06-26T08:11:45.390Z"
   },
   {
    "duration": 75,
    "start_time": "2022-06-26T08:13:58.006Z"
   },
   {
    "duration": 4,
    "start_time": "2022-06-26T08:14:11.486Z"
   },
   {
    "duration": 35,
    "start_time": "2022-06-26T08:14:11.492Z"
   },
   {
    "duration": 11,
    "start_time": "2022-06-26T08:14:11.528Z"
   },
   {
    "duration": 11,
    "start_time": "2022-06-26T08:14:11.541Z"
   },
   {
    "duration": 9,
    "start_time": "2022-06-26T08:14:11.554Z"
   },
   {
    "duration": 3,
    "start_time": "2022-06-26T08:14:11.564Z"
   },
   {
    "duration": 5,
    "start_time": "2022-06-26T08:14:11.568Z"
   },
   {
    "duration": 7,
    "start_time": "2022-06-26T08:14:11.574Z"
   },
   {
    "duration": 9,
    "start_time": "2022-06-26T08:14:11.582Z"
   },
   {
    "duration": 8,
    "start_time": "2022-06-26T08:14:11.593Z"
   },
   {
    "duration": 4,
    "start_time": "2022-06-26T08:14:11.602Z"
   },
   {
    "duration": 5,
    "start_time": "2022-06-26T08:14:11.607Z"
   },
   {
    "duration": 5,
    "start_time": "2022-06-26T08:14:11.613Z"
   },
   {
    "duration": 33,
    "start_time": "2022-06-26T08:14:11.620Z"
   },
   {
    "duration": 22,
    "start_time": "2022-06-26T08:14:11.654Z"
   },
   {
    "duration": 5,
    "start_time": "2022-06-26T08:14:11.678Z"
   },
   {
    "duration": 9,
    "start_time": "2022-06-26T08:14:11.685Z"
   },
   {
    "duration": 5,
    "start_time": "2022-06-26T08:14:11.696Z"
   },
   {
    "duration": 6,
    "start_time": "2022-06-26T08:14:11.702Z"
   },
   {
    "duration": 6,
    "start_time": "2022-06-26T08:14:11.709Z"
   },
   {
    "duration": 8,
    "start_time": "2022-06-26T08:14:11.716Z"
   },
   {
    "duration": 113,
    "start_time": "2022-06-26T08:14:11.751Z"
   },
   {
    "duration": 108,
    "start_time": "2022-06-26T08:14:11.866Z"
   },
   {
    "duration": 5,
    "start_time": "2022-06-26T08:14:11.976Z"
   },
   {
    "duration": 12,
    "start_time": "2022-06-26T08:14:11.982Z"
   },
   {
    "duration": 57,
    "start_time": "2022-06-26T08:14:11.995Z"
   },
   {
    "duration": 99,
    "start_time": "2022-06-26T08:14:12.053Z"
   },
   {
    "duration": 6,
    "start_time": "2022-06-26T08:14:12.154Z"
   },
   {
    "duration": 5,
    "start_time": "2022-06-26T08:14:17.174Z"
   },
   {
    "duration": 75,
    "start_time": "2022-06-26T08:33:21.467Z"
   },
   {
    "duration": 3,
    "start_time": "2022-06-26T08:33:31.317Z"
   },
   {
    "duration": 35,
    "start_time": "2022-06-26T08:33:31.322Z"
   },
   {
    "duration": 13,
    "start_time": "2022-06-26T08:33:31.359Z"
   },
   {
    "duration": 13,
    "start_time": "2022-06-26T08:33:31.374Z"
   },
   {
    "duration": 13,
    "start_time": "2022-06-26T08:33:31.388Z"
   },
   {
    "duration": 10,
    "start_time": "2022-06-26T08:33:31.402Z"
   },
   {
    "duration": 17,
    "start_time": "2022-06-26T08:33:31.414Z"
   },
   {
    "duration": 19,
    "start_time": "2022-06-26T08:33:31.433Z"
   },
   {
    "duration": 8,
    "start_time": "2022-06-26T08:33:31.455Z"
   },
   {
    "duration": 14,
    "start_time": "2022-06-26T08:33:31.464Z"
   },
   {
    "duration": 20,
    "start_time": "2022-06-26T08:33:31.479Z"
   },
   {
    "duration": 15,
    "start_time": "2022-06-26T08:33:31.500Z"
   },
   {
    "duration": 22,
    "start_time": "2022-06-26T08:33:31.517Z"
   },
   {
    "duration": 15,
    "start_time": "2022-06-26T08:33:31.540Z"
   },
   {
    "duration": 26,
    "start_time": "2022-06-26T08:33:31.557Z"
   },
   {
    "duration": 4,
    "start_time": "2022-06-26T08:33:31.584Z"
   },
   {
    "duration": 17,
    "start_time": "2022-06-26T08:33:31.589Z"
   },
   {
    "duration": 6,
    "start_time": "2022-06-26T08:33:31.608Z"
   },
   {
    "duration": 6,
    "start_time": "2022-06-26T08:33:31.616Z"
   },
   {
    "duration": 4,
    "start_time": "2022-06-26T08:33:31.623Z"
   },
   {
    "duration": 22,
    "start_time": "2022-06-26T08:33:31.629Z"
   },
   {
    "duration": 123,
    "start_time": "2022-06-26T08:33:31.653Z"
   },
   {
    "duration": 113,
    "start_time": "2022-06-26T08:33:31.777Z"
   },
   {
    "duration": 4,
    "start_time": "2022-06-26T08:33:31.893Z"
   },
   {
    "duration": 7,
    "start_time": "2022-06-26T08:33:31.898Z"
   },
   {
    "duration": 46,
    "start_time": "2022-06-26T08:33:31.907Z"
   },
   {
    "duration": 99,
    "start_time": "2022-06-26T08:33:31.954Z"
   },
   {
    "duration": 7,
    "start_time": "2022-06-26T08:33:32.055Z"
   },
   {
    "duration": 12,
    "start_time": "2022-06-26T08:33:32.063Z"
   },
   {
    "duration": 54,
    "start_time": "2022-06-26T08:33:36.025Z"
   },
   {
    "duration": 4,
    "start_time": "2022-06-26T08:33:56.379Z"
   },
   {
    "duration": 61,
    "start_time": "2022-06-26T08:37:07.376Z"
   },
   {
    "duration": 3,
    "start_time": "2022-06-26T08:47:57.356Z"
   },
   {
    "duration": 3,
    "start_time": "2022-06-26T08:48:13.479Z"
   },
   {
    "duration": 3,
    "start_time": "2022-06-26T08:48:56.397Z"
   },
   {
    "duration": 3,
    "start_time": "2022-06-26T08:48:56.798Z"
   },
   {
    "duration": 4,
    "start_time": "2022-06-26T08:49:03.576Z"
   },
   {
    "duration": 3,
    "start_time": "2022-06-26T08:49:04.286Z"
   },
   {
    "duration": 4,
    "start_time": "2022-06-26T08:49:56.576Z"
   },
   {
    "duration": 1213,
    "start_time": "2022-06-26T08:55:06.235Z"
   },
   {
    "duration": 38,
    "start_time": "2022-06-26T08:55:07.450Z"
   },
   {
    "duration": 12,
    "start_time": "2022-06-26T08:55:07.490Z"
   },
   {
    "duration": 43,
    "start_time": "2022-06-26T08:55:07.505Z"
   },
   {
    "duration": 14,
    "start_time": "2022-06-26T08:55:07.550Z"
   },
   {
    "duration": 16,
    "start_time": "2022-06-26T08:55:07.566Z"
   },
   {
    "duration": 13,
    "start_time": "2022-06-26T08:55:07.583Z"
   },
   {
    "duration": 7,
    "start_time": "2022-06-26T08:55:07.597Z"
   },
   {
    "duration": 26,
    "start_time": "2022-06-26T08:55:07.605Z"
   },
   {
    "duration": 13,
    "start_time": "2022-06-26T08:55:07.633Z"
   },
   {
    "duration": 17,
    "start_time": "2022-06-26T08:55:07.648Z"
   },
   {
    "duration": 17,
    "start_time": "2022-06-26T08:55:07.666Z"
   },
   {
    "duration": 15,
    "start_time": "2022-06-26T08:55:07.684Z"
   },
   {
    "duration": 29,
    "start_time": "2022-06-26T08:55:07.700Z"
   },
   {
    "duration": 24,
    "start_time": "2022-06-26T08:55:07.731Z"
   },
   {
    "duration": 7,
    "start_time": "2022-06-26T08:55:07.756Z"
   },
   {
    "duration": 18,
    "start_time": "2022-06-26T08:55:07.765Z"
   },
   {
    "duration": 10,
    "start_time": "2022-06-26T08:55:07.785Z"
   },
   {
    "duration": 9,
    "start_time": "2022-06-26T08:55:07.796Z"
   },
   {
    "duration": 16,
    "start_time": "2022-06-26T08:55:07.807Z"
   },
   {
    "duration": 21,
    "start_time": "2022-06-26T08:55:07.824Z"
   },
   {
    "duration": 136,
    "start_time": "2022-06-26T08:55:07.847Z"
   },
   {
    "duration": 109,
    "start_time": "2022-06-26T08:55:07.985Z"
   },
   {
    "duration": 4,
    "start_time": "2022-06-26T08:55:08.095Z"
   },
   {
    "duration": 14,
    "start_time": "2022-06-26T08:55:08.101Z"
   },
   {
    "duration": 40,
    "start_time": "2022-06-26T08:55:08.116Z"
   },
   {
    "duration": 201,
    "start_time": "2022-06-26T08:55:08.157Z"
   },
   {
    "duration": 26,
    "start_time": "2022-06-26T08:55:08.360Z"
   },
   {
    "duration": 18,
    "start_time": "2022-06-26T08:55:08.388Z"
   },
   {
    "duration": 24,
    "start_time": "2022-06-26T08:55:08.408Z"
   },
   {
    "duration": 100,
    "start_time": "2022-06-26T08:55:08.452Z"
   },
   {
    "duration": 25,
    "start_time": "2022-06-26T08:55:08.554Z"
   },
   {
    "duration": 79,
    "start_time": "2022-06-26T08:55:08.581Z"
   },
   {
    "duration": 102,
    "start_time": "2022-06-26T08:55:08.661Z"
   },
   {
    "duration": 1506,
    "start_time": "2022-06-27T07:16:06.655Z"
   },
   {
    "duration": 77,
    "start_time": "2022-06-27T07:16:08.164Z"
   },
   {
    "duration": 13,
    "start_time": "2022-06-27T07:16:08.242Z"
   },
   {
    "duration": 12,
    "start_time": "2022-06-27T07:16:08.256Z"
   },
   {
    "duration": 10,
    "start_time": "2022-06-27T07:16:08.270Z"
   },
   {
    "duration": 6,
    "start_time": "2022-06-27T07:16:08.282Z"
   },
   {
    "duration": 7,
    "start_time": "2022-06-27T07:16:08.289Z"
   },
   {
    "duration": 8,
    "start_time": "2022-06-27T07:16:08.298Z"
   },
   {
    "duration": 25,
    "start_time": "2022-06-27T07:16:08.307Z"
   },
   {
    "duration": 12,
    "start_time": "2022-06-27T07:16:08.333Z"
   },
   {
    "duration": 5,
    "start_time": "2022-06-27T07:16:08.346Z"
   },
   {
    "duration": 10,
    "start_time": "2022-06-27T07:16:08.353Z"
   },
   {
    "duration": 8,
    "start_time": "2022-06-27T07:16:08.364Z"
   },
   {
    "duration": 15,
    "start_time": "2022-06-27T07:16:08.375Z"
   },
   {
    "duration": 45,
    "start_time": "2022-06-27T07:16:08.391Z"
   },
   {
    "duration": 5,
    "start_time": "2022-06-27T07:16:08.437Z"
   },
   {
    "duration": 11,
    "start_time": "2022-06-27T07:16:08.443Z"
   },
   {
    "duration": 7,
    "start_time": "2022-06-27T07:16:08.455Z"
   },
   {
    "duration": 7,
    "start_time": "2022-06-27T07:16:08.463Z"
   },
   {
    "duration": 9,
    "start_time": "2022-06-27T07:16:08.472Z"
   },
   {
    "duration": 9,
    "start_time": "2022-06-27T07:16:08.482Z"
   },
   {
    "duration": 171,
    "start_time": "2022-06-27T07:16:08.493Z"
   },
   {
    "duration": 136,
    "start_time": "2022-06-27T07:16:08.666Z"
   },
   {
    "duration": 4,
    "start_time": "2022-06-27T07:16:08.804Z"
   },
   {
    "duration": 7,
    "start_time": "2022-06-27T07:16:08.809Z"
   },
   {
    "duration": 11,
    "start_time": "2022-06-27T07:16:08.827Z"
   },
   {
    "duration": 94,
    "start_time": "2022-06-27T07:16:08.840Z"
   },
   {
    "duration": 5,
    "start_time": "2022-06-27T07:16:14.742Z"
   },
   {
    "duration": 5,
    "start_time": "2022-06-27T07:17:58.650Z"
   },
   {
    "duration": 5,
    "start_time": "2022-06-27T07:18:12.176Z"
   },
   {
    "duration": 5,
    "start_time": "2022-06-27T07:18:18.009Z"
   },
   {
    "duration": 3,
    "start_time": "2022-06-27T07:20:25.402Z"
   },
   {
    "duration": 3,
    "start_time": "2022-06-27T07:20:27.910Z"
   },
   {
    "duration": 3,
    "start_time": "2022-06-27T07:20:33.781Z"
   },
   {
    "duration": 11,
    "start_time": "2022-06-27T07:20:58.545Z"
   },
   {
    "duration": 62,
    "start_time": "2022-06-27T07:21:00.666Z"
   },
   {
    "duration": 4,
    "start_time": "2022-06-27T09:36:38.790Z"
   },
   {
    "duration": 64,
    "start_time": "2022-06-27T09:36:38.796Z"
   },
   {
    "duration": 33,
    "start_time": "2022-06-27T09:36:38.862Z"
   },
   {
    "duration": 26,
    "start_time": "2022-06-27T09:36:38.897Z"
   },
   {
    "duration": 14,
    "start_time": "2022-06-27T09:36:38.926Z"
   },
   {
    "duration": 37,
    "start_time": "2022-06-27T09:36:38.943Z"
   },
   {
    "duration": 22,
    "start_time": "2022-06-27T09:36:38.982Z"
   },
   {
    "duration": 37,
    "start_time": "2022-06-27T09:36:39.006Z"
   },
   {
    "duration": 14,
    "start_time": "2022-06-27T09:36:39.045Z"
   },
   {
    "duration": 29,
    "start_time": "2022-06-27T09:36:39.061Z"
   },
   {
    "duration": 22,
    "start_time": "2022-06-27T09:36:39.092Z"
   },
   {
    "duration": 18,
    "start_time": "2022-06-27T09:36:39.116Z"
   },
   {
    "duration": 52,
    "start_time": "2022-06-27T09:36:39.135Z"
   },
   {
    "duration": 20,
    "start_time": "2022-06-27T09:36:39.190Z"
   },
   {
    "duration": 78,
    "start_time": "2022-06-27T09:36:39.212Z"
   },
   {
    "duration": 28,
    "start_time": "2022-06-27T09:36:39.292Z"
   },
   {
    "duration": 44,
    "start_time": "2022-06-27T09:36:39.321Z"
   },
   {
    "duration": 26,
    "start_time": "2022-06-27T09:36:39.366Z"
   },
   {
    "duration": 22,
    "start_time": "2022-06-27T09:36:39.393Z"
   },
   {
    "duration": 38,
    "start_time": "2022-06-27T09:36:39.417Z"
   },
   {
    "duration": 39,
    "start_time": "2022-06-27T09:36:39.458Z"
   },
   {
    "duration": 160,
    "start_time": "2022-06-27T09:36:39.498Z"
   },
   {
    "duration": 134,
    "start_time": "2022-06-27T09:36:39.660Z"
   },
   {
    "duration": 5,
    "start_time": "2022-06-27T09:36:39.795Z"
   },
   {
    "duration": 6,
    "start_time": "2022-06-27T09:36:39.801Z"
   },
   {
    "duration": 32,
    "start_time": "2022-06-27T09:36:39.809Z"
   },
   {
    "duration": 196,
    "start_time": "2022-06-27T09:36:39.843Z"
   },
   {
    "duration": 20,
    "start_time": "2022-06-27T09:36:40.041Z"
   },
   {
    "duration": 4,
    "start_time": "2022-06-27T09:36:45.585Z"
   },
   {
    "duration": 3,
    "start_time": "2022-06-27T09:37:43.764Z"
   },
   {
    "duration": 3,
    "start_time": "2022-06-27T09:38:00.544Z"
   },
   {
    "duration": 10,
    "start_time": "2022-06-27T09:38:15.340Z"
   },
   {
    "duration": 120,
    "start_time": "2022-06-27T09:38:19.714Z"
   },
   {
    "duration": 7,
    "start_time": "2022-06-27T09:40:13.933Z"
   },
   {
    "duration": 3,
    "start_time": "2022-06-27T09:41:59.490Z"
   },
   {
    "duration": 26,
    "start_time": "2022-06-27T09:41:59.495Z"
   },
   {
    "duration": 12,
    "start_time": "2022-06-27T09:41:59.522Z"
   },
   {
    "duration": 12,
    "start_time": "2022-06-27T09:41:59.535Z"
   },
   {
    "duration": 10,
    "start_time": "2022-06-27T09:41:59.548Z"
   },
   {
    "duration": 5,
    "start_time": "2022-06-27T09:41:59.560Z"
   },
   {
    "duration": 6,
    "start_time": "2022-06-27T09:41:59.566Z"
   },
   {
    "duration": 9,
    "start_time": "2022-06-27T09:41:59.573Z"
   },
   {
    "duration": 9,
    "start_time": "2022-06-27T09:41:59.583Z"
   },
   {
    "duration": 34,
    "start_time": "2022-06-27T09:41:59.594Z"
   },
   {
    "duration": 7,
    "start_time": "2022-06-27T09:41:59.630Z"
   },
   {
    "duration": 4,
    "start_time": "2022-06-27T09:41:59.639Z"
   },
   {
    "duration": 6,
    "start_time": "2022-06-27T09:41:59.645Z"
   },
   {
    "duration": 9,
    "start_time": "2022-06-27T09:41:59.652Z"
   },
   {
    "duration": 30,
    "start_time": "2022-06-27T09:41:59.662Z"
   },
   {
    "duration": 37,
    "start_time": "2022-06-27T09:41:59.694Z"
   },
   {
    "duration": 7,
    "start_time": "2022-06-27T09:41:59.733Z"
   },
   {
    "duration": 8,
    "start_time": "2022-06-27T09:41:59.742Z"
   },
   {
    "duration": 10,
    "start_time": "2022-06-27T09:41:59.751Z"
   },
   {
    "duration": 8,
    "start_time": "2022-06-27T09:41:59.763Z"
   },
   {
    "duration": 9,
    "start_time": "2022-06-27T09:41:59.772Z"
   },
   {
    "duration": 161,
    "start_time": "2022-06-27T09:41:59.783Z"
   },
   {
    "duration": 140,
    "start_time": "2022-06-27T09:41:59.946Z"
   },
   {
    "duration": 6,
    "start_time": "2022-06-27T09:42:00.087Z"
   },
   {
    "duration": 13,
    "start_time": "2022-06-27T09:42:00.095Z"
   },
   {
    "duration": 23,
    "start_time": "2022-06-27T09:42:00.110Z"
   },
   {
    "duration": 204,
    "start_time": "2022-06-27T09:42:00.134Z"
   },
   {
    "duration": 10,
    "start_time": "2022-06-27T09:42:00.341Z"
   },
   {
    "duration": 23,
    "start_time": "2022-06-27T09:42:00.352Z"
   },
   {
    "duration": 49,
    "start_time": "2022-06-27T09:42:00.378Z"
   },
   {
    "duration": 8,
    "start_time": "2022-06-27T09:42:00.430Z"
   },
   {
    "duration": 95,
    "start_time": "2022-06-27T09:42:00.440Z"
   },
   {
    "duration": 95,
    "start_time": "2022-06-27T09:42:00.538Z"
   },
   {
    "duration": 6,
    "start_time": "2022-06-27T09:42:08.071Z"
   },
   {
    "duration": 10,
    "start_time": "2022-06-27T09:43:40.382Z"
   },
   {
    "duration": 12,
    "start_time": "2022-06-27T09:43:54.272Z"
   },
   {
    "duration": 13,
    "start_time": "2022-06-27T09:44:04.434Z"
   },
   {
    "duration": 13,
    "start_time": "2022-06-27T09:44:13.260Z"
   },
   {
    "duration": 12,
    "start_time": "2022-06-27T09:44:17.821Z"
   },
   {
    "duration": 13,
    "start_time": "2022-06-27T09:44:25.242Z"
   },
   {
    "duration": 1307,
    "start_time": "2022-06-27T09:49:48.395Z"
   },
   {
    "duration": 27,
    "start_time": "2022-06-27T09:49:49.704Z"
   },
   {
    "duration": 12,
    "start_time": "2022-06-27T09:49:49.733Z"
   },
   {
    "duration": 17,
    "start_time": "2022-06-27T09:49:49.748Z"
   },
   {
    "duration": 15,
    "start_time": "2022-06-27T09:49:49.767Z"
   },
   {
    "duration": 8,
    "start_time": "2022-06-27T09:49:49.784Z"
   },
   {
    "duration": 7,
    "start_time": "2022-06-27T09:49:49.794Z"
   },
   {
    "duration": 28,
    "start_time": "2022-06-27T09:49:49.803Z"
   },
   {
    "duration": 8,
    "start_time": "2022-06-27T09:49:49.834Z"
   },
   {
    "duration": 11,
    "start_time": "2022-06-27T09:49:49.845Z"
   },
   {
    "duration": 8,
    "start_time": "2022-06-27T09:49:49.857Z"
   },
   {
    "duration": 5,
    "start_time": "2022-06-27T09:49:49.867Z"
   },
   {
    "duration": 6,
    "start_time": "2022-06-27T09:49:49.873Z"
   },
   {
    "duration": 10,
    "start_time": "2022-06-27T09:49:49.880Z"
   },
   {
    "duration": 57,
    "start_time": "2022-06-27T09:49:49.892Z"
   },
   {
    "duration": 5,
    "start_time": "2022-06-27T09:49:49.951Z"
   },
   {
    "duration": 9,
    "start_time": "2022-06-27T09:49:49.958Z"
   },
   {
    "duration": 7,
    "start_time": "2022-06-27T09:49:49.969Z"
   },
   {
    "duration": 5,
    "start_time": "2022-06-27T09:49:49.978Z"
   },
   {
    "duration": 42,
    "start_time": "2022-06-27T09:49:49.985Z"
   },
   {
    "duration": 9,
    "start_time": "2022-06-27T09:49:50.029Z"
   },
   {
    "duration": 152,
    "start_time": "2022-06-27T09:49:50.040Z"
   },
   {
    "duration": 129,
    "start_time": "2022-06-27T09:49:50.194Z"
   },
   {
    "duration": 5,
    "start_time": "2022-06-27T09:49:50.326Z"
   },
   {
    "duration": 13,
    "start_time": "2022-06-27T09:49:50.332Z"
   },
   {
    "duration": 16,
    "start_time": "2022-06-27T09:49:50.347Z"
   },
   {
    "duration": 162,
    "start_time": "2022-06-27T09:49:50.365Z"
   },
   {
    "duration": 8,
    "start_time": "2022-06-27T09:49:50.531Z"
   },
   {
    "duration": 9,
    "start_time": "2022-06-27T09:49:50.540Z"
   },
   {
    "duration": 8,
    "start_time": "2022-06-27T09:49:50.552Z"
   },
   {
    "duration": 13,
    "start_time": "2022-06-27T09:49:50.626Z"
   },
   {
    "duration": 89,
    "start_time": "2022-06-27T09:49:50.640Z"
   },
   {
    "duration": 99,
    "start_time": "2022-06-27T09:49:50.731Z"
   },
   {
    "duration": 107,
    "start_time": "2022-06-27T09:49:50.832Z"
   },
   {
    "duration": 15,
    "start_time": "2022-06-27T09:49:50.941Z"
   },
   {
    "duration": 1458,
    "start_time": "2022-06-27T14:39:03.962Z"
   },
   {
    "duration": 59,
    "start_time": "2022-06-27T14:39:05.422Z"
   },
   {
    "duration": 11,
    "start_time": "2022-06-27T14:39:05.482Z"
   },
   {
    "duration": 11,
    "start_time": "2022-06-27T14:39:05.495Z"
   },
   {
    "duration": 10,
    "start_time": "2022-06-27T14:39:05.508Z"
   },
   {
    "duration": 8,
    "start_time": "2022-06-27T14:39:05.519Z"
   },
   {
    "duration": 8,
    "start_time": "2022-06-27T14:39:05.529Z"
   },
   {
    "duration": 8,
    "start_time": "2022-06-27T14:39:05.538Z"
   },
   {
    "duration": 25,
    "start_time": "2022-06-27T14:39:05.547Z"
   },
   {
    "duration": 13,
    "start_time": "2022-06-27T14:39:05.575Z"
   },
   {
    "duration": 18,
    "start_time": "2022-06-27T14:39:05.590Z"
   },
   {
    "duration": 5,
    "start_time": "2022-06-27T14:39:05.610Z"
   },
   {
    "duration": 19,
    "start_time": "2022-06-27T14:39:05.617Z"
   },
   {
    "duration": 12,
    "start_time": "2022-06-27T14:39:05.638Z"
   },
   {
    "duration": 32,
    "start_time": "2022-06-27T14:39:05.652Z"
   },
   {
    "duration": 5,
    "start_time": "2022-06-27T14:39:05.686Z"
   },
   {
    "duration": 24,
    "start_time": "2022-06-27T14:39:05.693Z"
   },
   {
    "duration": 26,
    "start_time": "2022-06-27T14:39:05.718Z"
   },
   {
    "duration": 20,
    "start_time": "2022-06-27T14:39:05.746Z"
   },
   {
    "duration": 16,
    "start_time": "2022-06-27T14:39:05.768Z"
   },
   {
    "duration": 12,
    "start_time": "2022-06-27T14:39:05.786Z"
   },
   {
    "duration": 172,
    "start_time": "2022-06-27T14:39:05.800Z"
   },
   {
    "duration": 153,
    "start_time": "2022-06-27T14:39:05.974Z"
   },
   {
    "duration": 5,
    "start_time": "2022-06-27T14:39:06.128Z"
   },
   {
    "duration": 8,
    "start_time": "2022-06-27T14:39:06.135Z"
   },
   {
    "duration": 34,
    "start_time": "2022-06-27T14:39:06.145Z"
   },
   {
    "duration": 6,
    "start_time": "2022-06-27T14:39:06.267Z"
   },
   {
    "duration": 91,
    "start_time": "2022-06-27T14:39:06.277Z"
   },
   {
    "duration": 5,
    "start_time": "2022-06-27T14:39:06.370Z"
   },
   {
    "duration": 12,
    "start_time": "2022-06-27T14:39:06.377Z"
   },
   {
    "duration": 89,
    "start_time": "2022-06-27T14:39:06.391Z"
   },
   {
    "duration": 96,
    "start_time": "2022-06-27T14:39:06.481Z"
   },
   {
    "duration": 92,
    "start_time": "2022-06-27T14:39:06.579Z"
   },
   {
    "duration": 94,
    "start_time": "2022-06-27T14:39:06.676Z"
   },
   {
    "duration": 97,
    "start_time": "2022-06-27T14:39:06.772Z"
   },
   {
    "duration": 1514,
    "start_time": "2022-06-29T04:53:51.035Z"
   },
   {
    "duration": 71,
    "start_time": "2022-06-29T04:53:52.551Z"
   },
   {
    "duration": 17,
    "start_time": "2022-06-29T04:53:52.624Z"
   },
   {
    "duration": 18,
    "start_time": "2022-06-29T04:53:52.643Z"
   },
   {
    "duration": 23,
    "start_time": "2022-06-29T04:53:52.665Z"
   },
   {
    "duration": 6,
    "start_time": "2022-06-29T04:53:52.690Z"
   },
   {
    "duration": 26,
    "start_time": "2022-06-29T04:53:52.699Z"
   },
   {
    "duration": 21,
    "start_time": "2022-06-29T04:53:52.727Z"
   },
   {
    "duration": 18,
    "start_time": "2022-06-29T04:53:52.751Z"
   },
   {
    "duration": 13,
    "start_time": "2022-06-29T04:53:52.771Z"
   },
   {
    "duration": 12,
    "start_time": "2022-06-29T04:53:52.785Z"
   },
   {
    "duration": 7,
    "start_time": "2022-06-29T04:53:52.799Z"
   },
   {
    "duration": 16,
    "start_time": "2022-06-29T04:53:52.807Z"
   },
   {
    "duration": 14,
    "start_time": "2022-06-29T04:53:52.826Z"
   },
   {
    "duration": 32,
    "start_time": "2022-06-29T04:53:52.842Z"
   },
   {
    "duration": 5,
    "start_time": "2022-06-29T04:53:52.876Z"
   },
   {
    "duration": 10,
    "start_time": "2022-06-29T04:53:52.883Z"
   },
   {
    "duration": 6,
    "start_time": "2022-06-29T04:53:52.894Z"
   },
   {
    "duration": 27,
    "start_time": "2022-06-29T04:53:52.901Z"
   },
   {
    "duration": 9,
    "start_time": "2022-06-29T04:53:52.930Z"
   },
   {
    "duration": 11,
    "start_time": "2022-06-29T04:53:52.940Z"
   },
   {
    "duration": 176,
    "start_time": "2022-06-29T04:53:52.952Z"
   },
   {
    "duration": 180,
    "start_time": "2022-06-29T04:53:53.130Z"
   },
   {
    "duration": 13,
    "start_time": "2022-06-29T04:53:53.312Z"
   },
   {
    "duration": 5,
    "start_time": "2022-06-29T04:53:53.327Z"
   },
   {
    "duration": 21,
    "start_time": "2022-06-29T04:53:53.334Z"
   },
   {
    "duration": 102,
    "start_time": "2022-06-29T04:53:53.425Z"
   },
   {
    "duration": 10,
    "start_time": "2022-06-29T04:53:53.528Z"
   },
   {
    "duration": 6,
    "start_time": "2022-06-29T04:53:53.539Z"
   },
   {
    "duration": 10,
    "start_time": "2022-06-29T04:53:53.547Z"
   },
   {
    "duration": 6,
    "start_time": "2022-06-29T04:53:53.623Z"
   },
   {
    "duration": 98,
    "start_time": "2022-06-29T04:53:53.631Z"
   },
   {
    "duration": 100,
    "start_time": "2022-06-29T04:53:53.731Z"
   },
   {
    "duration": 111,
    "start_time": "2022-06-29T04:53:53.834Z"
   },
   {
    "duration": 16,
    "start_time": "2022-06-29T04:53:53.947Z"
   },
   {
    "duration": 1211,
    "start_time": "2022-06-30T04:52:21.545Z"
   },
   {
    "duration": 54,
    "start_time": "2022-06-30T04:52:22.758Z"
   },
   {
    "duration": 11,
    "start_time": "2022-06-30T04:52:22.813Z"
   },
   {
    "duration": 10,
    "start_time": "2022-06-30T04:52:22.825Z"
   },
   {
    "duration": 9,
    "start_time": "2022-06-30T04:52:22.836Z"
   },
   {
    "duration": 3,
    "start_time": "2022-06-30T04:52:22.846Z"
   },
   {
    "duration": 6,
    "start_time": "2022-06-30T04:52:22.850Z"
   },
   {
    "duration": 6,
    "start_time": "2022-06-30T04:52:22.857Z"
   },
   {
    "duration": 15,
    "start_time": "2022-06-30T04:52:22.864Z"
   },
   {
    "duration": 12,
    "start_time": "2022-06-30T04:52:22.881Z"
   },
   {
    "duration": 6,
    "start_time": "2022-06-30T04:52:22.895Z"
   },
   {
    "duration": 6,
    "start_time": "2022-06-30T04:52:22.902Z"
   },
   {
    "duration": 6,
    "start_time": "2022-06-30T04:52:22.909Z"
   },
   {
    "duration": 8,
    "start_time": "2022-06-30T04:52:22.916Z"
   },
   {
    "duration": 29,
    "start_time": "2022-06-30T04:52:22.925Z"
   },
   {
    "duration": 4,
    "start_time": "2022-06-30T04:52:22.955Z"
   },
   {
    "duration": 10,
    "start_time": "2022-06-30T04:52:22.960Z"
   },
   {
    "duration": 5,
    "start_time": "2022-06-30T04:52:23.453Z"
   },
   {
    "duration": 5,
    "start_time": "2022-06-30T04:52:23.460Z"
   },
   {
    "duration": 5,
    "start_time": "2022-06-30T04:52:23.468Z"
   },
   {
    "duration": 7,
    "start_time": "2022-06-30T04:52:23.474Z"
   },
   {
    "duration": 146,
    "start_time": "2022-06-30T04:52:23.482Z"
   },
   {
    "duration": 115,
    "start_time": "2022-06-30T04:52:24.167Z"
   },
   {
    "duration": 6,
    "start_time": "2022-06-30T04:52:24.284Z"
   },
   {
    "duration": 6,
    "start_time": "2022-06-30T04:52:24.292Z"
   },
   {
    "duration": 53,
    "start_time": "2022-06-30T04:52:24.300Z"
   },
   {
    "duration": 97,
    "start_time": "2022-06-30T04:52:24.355Z"
   },
   {
    "duration": 9,
    "start_time": "2022-06-30T04:52:24.454Z"
   },
   {
    "duration": 7,
    "start_time": "2022-06-30T04:52:24.465Z"
   },
   {
    "duration": 78,
    "start_time": "2022-06-30T04:52:24.473Z"
   },
   {
    "duration": 19,
    "start_time": "2022-06-30T04:52:24.553Z"
   },
   {
    "duration": 82,
    "start_time": "2022-06-30T04:52:24.573Z"
   },
   {
    "duration": 12,
    "start_time": "2022-06-30T04:52:24.657Z"
   },
   {
    "duration": 102,
    "start_time": "2022-06-30T04:52:24.754Z"
   },
   {
    "duration": 11,
    "start_time": "2022-06-30T04:52:24.857Z"
   }
  ],
  "kernelspec": {
   "display_name": "Python 3 (ipykernel)",
   "language": "python",
   "name": "python3"
  },
  "language_info": {
   "codemirror_mode": {
    "name": "ipython",
    "version": 3
   },
   "file_extension": ".py",
   "mimetype": "text/x-python",
   "name": "python",
   "nbconvert_exporter": "python",
   "pygments_lexer": "ipython3",
   "version": "3.9.12"
  },
  "toc": {
   "base_numbering": 1,
   "nav_menu": {},
   "number_sections": true,
   "sideBar": true,
   "skip_h1_title": true,
   "title_cell": "Содержание",
   "title_sidebar": "Contents",
   "toc_cell": true,
   "toc_position": {},
   "toc_section_display": true,
   "toc_window_display": false
  }
 },
 "nbformat": 4,
 "nbformat_minor": 2
}
