{
 "cells": [
  {
   "cell_type": "markdown",
   "metadata": {},
   "source": [
    "# Сборный проект 1"
   ]
  },
  {
   "cell_type": "markdown",
   "metadata": {},
   "source": [
    "**Цель проекта**\n",
    "\n",
    "Проанализировать информацию о продажах компьютерных игр, содержащую исторические данные о продажах, оценки пользователей и экспертов, жанры и платформы, и на основе данных выявить определяющие успешность игры закономерности, которые позволят сделать ставку на потенциально популярный продукт и правильно спланировать рекламные кампании на следующий год.\n"
   ]
  },
  {
   "cell_type": "markdown",
   "metadata": {},
   "source": [
    "**Данные для анализа**\n",
    "\n",
    "На анализ поступил 1 файл с с историческими данными (до 2016 года включительно) об объемах продаж игр по жанрам и игровым платформам в млн проданных копий по 4 регионам, с оценками пользователей и экспертов."
   ]
  },
  {
   "cell_type": "markdown",
   "metadata": {},
   "source": [
    "**Шаги (план) проекта**\n",
    "\n",
    "1. Шаг 1. Обзор данных\n",
    "2. Шаг 2. Подготовка данных\n",
    "\n",
    "   2.1  Замена названий столбцов\n",
    "   \n",
    "   2.2  Обработка пропусков\n",
    "   * Столбец name\n",
    "   * Столбец genre\n",
    "   * Столбец year_of_release\n",
    "   * Столбец critic_score\n",
    "   * Столбец user_score\n",
    "   * Столбец rating\n",
    "   \n",
    "   2.3  Приведение данных к нужным типам\n",
    "   \n",
    "   2.4  Обработка дубликатов\n",
    "   * Явные дубликаты\n",
    "   * Неявные дубликаты\n",
    "   \n",
    "   2.5  Добавление столбца с суммарными продажами во всех регионах\n",
    "   \n",
    "   \n",
    "3. Шаг 3. Исследовательский анализ данных\n",
    "4. Шаг 4. Портрет пользователей регионов\n",
    "5. Шаг 5. Проверка гипотез\n",
    "   \n",
    "   5.1  Гипотеза 1\n",
    "   \n",
    "   5.2  Гипотеза 2\n",
    "   \n",
    "   \n",
    "6. Шаг 6. Общий вывод\n"
   ]
  },
  {
   "cell_type": "markdown",
   "metadata": {},
   "source": [
    "## Шаг 1. Обзор данных"
   ]
  },
  {
   "cell_type": "markdown",
   "metadata": {},
   "source": [
    "Импортируем необходимые библиотеки для работы с данными."
   ]
  },
  {
   "cell_type": "code",
   "execution_count": 1,
   "metadata": {},
   "outputs": [],
   "source": [
    "import pandas as pd # импорт библиотеки pandas\n",
    "import numpy as np # импорт библиотеки numpy\n",
    "import seaborn as sns # импорт библиотеки seaborn\n",
    "import matplotlib.pyplot as plt # импорт библиотеки matplotlib\n",
    "from scipy import stats as st # импорт библиотеки scipy"
   ]
  },
  {
   "cell_type": "markdown",
   "metadata": {},
   "source": [
    "Откроем таблицу с данными, выведем первые 10 строк."
   ]
  },
  {
   "cell_type": "code",
   "execution_count": 2,
   "metadata": {},
   "outputs": [
    {
     "data": {
      "text/html": [
       "<div>\n",
       "<style scoped>\n",
       "    .dataframe tbody tr th:only-of-type {\n",
       "        vertical-align: middle;\n",
       "    }\n",
       "\n",
       "    .dataframe tbody tr th {\n",
       "        vertical-align: top;\n",
       "    }\n",
       "\n",
       "    .dataframe thead th {\n",
       "        text-align: right;\n",
       "    }\n",
       "</style>\n",
       "<table border=\"1\" class=\"dataframe\">\n",
       "  <thead>\n",
       "    <tr style=\"text-align: right;\">\n",
       "      <th></th>\n",
       "      <th>Name</th>\n",
       "      <th>Platform</th>\n",
       "      <th>Year_of_Release</th>\n",
       "      <th>Genre</th>\n",
       "      <th>NA_sales</th>\n",
       "      <th>EU_sales</th>\n",
       "      <th>JP_sales</th>\n",
       "      <th>Other_sales</th>\n",
       "      <th>Critic_Score</th>\n",
       "      <th>User_Score</th>\n",
       "      <th>Rating</th>\n",
       "    </tr>\n",
       "  </thead>\n",
       "  <tbody>\n",
       "    <tr>\n",
       "      <th>0</th>\n",
       "      <td>Wii Sports</td>\n",
       "      <td>Wii</td>\n",
       "      <td>2006.0</td>\n",
       "      <td>Sports</td>\n",
       "      <td>41.36</td>\n",
       "      <td>28.96</td>\n",
       "      <td>3.77</td>\n",
       "      <td>8.45</td>\n",
       "      <td>76.0</td>\n",
       "      <td>8</td>\n",
       "      <td>E</td>\n",
       "    </tr>\n",
       "    <tr>\n",
       "      <th>1</th>\n",
       "      <td>Super Mario Bros.</td>\n",
       "      <td>NES</td>\n",
       "      <td>1985.0</td>\n",
       "      <td>Platform</td>\n",
       "      <td>29.08</td>\n",
       "      <td>3.58</td>\n",
       "      <td>6.81</td>\n",
       "      <td>0.77</td>\n",
       "      <td>NaN</td>\n",
       "      <td>NaN</td>\n",
       "      <td>NaN</td>\n",
       "    </tr>\n",
       "    <tr>\n",
       "      <th>2</th>\n",
       "      <td>Mario Kart Wii</td>\n",
       "      <td>Wii</td>\n",
       "      <td>2008.0</td>\n",
       "      <td>Racing</td>\n",
       "      <td>15.68</td>\n",
       "      <td>12.76</td>\n",
       "      <td>3.79</td>\n",
       "      <td>3.29</td>\n",
       "      <td>82.0</td>\n",
       "      <td>8.3</td>\n",
       "      <td>E</td>\n",
       "    </tr>\n",
       "    <tr>\n",
       "      <th>3</th>\n",
       "      <td>Wii Sports Resort</td>\n",
       "      <td>Wii</td>\n",
       "      <td>2009.0</td>\n",
       "      <td>Sports</td>\n",
       "      <td>15.61</td>\n",
       "      <td>10.93</td>\n",
       "      <td>3.28</td>\n",
       "      <td>2.95</td>\n",
       "      <td>80.0</td>\n",
       "      <td>8</td>\n",
       "      <td>E</td>\n",
       "    </tr>\n",
       "    <tr>\n",
       "      <th>4</th>\n",
       "      <td>Pokemon Red/Pokemon Blue</td>\n",
       "      <td>GB</td>\n",
       "      <td>1996.0</td>\n",
       "      <td>Role-Playing</td>\n",
       "      <td>11.27</td>\n",
       "      <td>8.89</td>\n",
       "      <td>10.22</td>\n",
       "      <td>1.00</td>\n",
       "      <td>NaN</td>\n",
       "      <td>NaN</td>\n",
       "      <td>NaN</td>\n",
       "    </tr>\n",
       "    <tr>\n",
       "      <th>5</th>\n",
       "      <td>Tetris</td>\n",
       "      <td>GB</td>\n",
       "      <td>1989.0</td>\n",
       "      <td>Puzzle</td>\n",
       "      <td>23.20</td>\n",
       "      <td>2.26</td>\n",
       "      <td>4.22</td>\n",
       "      <td>0.58</td>\n",
       "      <td>NaN</td>\n",
       "      <td>NaN</td>\n",
       "      <td>NaN</td>\n",
       "    </tr>\n",
       "    <tr>\n",
       "      <th>6</th>\n",
       "      <td>New Super Mario Bros.</td>\n",
       "      <td>DS</td>\n",
       "      <td>2006.0</td>\n",
       "      <td>Platform</td>\n",
       "      <td>11.28</td>\n",
       "      <td>9.14</td>\n",
       "      <td>6.50</td>\n",
       "      <td>2.88</td>\n",
       "      <td>89.0</td>\n",
       "      <td>8.5</td>\n",
       "      <td>E</td>\n",
       "    </tr>\n",
       "    <tr>\n",
       "      <th>7</th>\n",
       "      <td>Wii Play</td>\n",
       "      <td>Wii</td>\n",
       "      <td>2006.0</td>\n",
       "      <td>Misc</td>\n",
       "      <td>13.96</td>\n",
       "      <td>9.18</td>\n",
       "      <td>2.93</td>\n",
       "      <td>2.84</td>\n",
       "      <td>58.0</td>\n",
       "      <td>6.6</td>\n",
       "      <td>E</td>\n",
       "    </tr>\n",
       "    <tr>\n",
       "      <th>8</th>\n",
       "      <td>New Super Mario Bros. Wii</td>\n",
       "      <td>Wii</td>\n",
       "      <td>2009.0</td>\n",
       "      <td>Platform</td>\n",
       "      <td>14.44</td>\n",
       "      <td>6.94</td>\n",
       "      <td>4.70</td>\n",
       "      <td>2.24</td>\n",
       "      <td>87.0</td>\n",
       "      <td>8.4</td>\n",
       "      <td>E</td>\n",
       "    </tr>\n",
       "    <tr>\n",
       "      <th>9</th>\n",
       "      <td>Duck Hunt</td>\n",
       "      <td>NES</td>\n",
       "      <td>1984.0</td>\n",
       "      <td>Shooter</td>\n",
       "      <td>26.93</td>\n",
       "      <td>0.63</td>\n",
       "      <td>0.28</td>\n",
       "      <td>0.47</td>\n",
       "      <td>NaN</td>\n",
       "      <td>NaN</td>\n",
       "      <td>NaN</td>\n",
       "    </tr>\n",
       "  </tbody>\n",
       "</table>\n",
       "</div>"
      ],
      "text/plain": [
       "                        Name Platform  Year_of_Release         Genre  \\\n",
       "0                 Wii Sports      Wii           2006.0        Sports   \n",
       "1          Super Mario Bros.      NES           1985.0      Platform   \n",
       "2             Mario Kart Wii      Wii           2008.0        Racing   \n",
       "3          Wii Sports Resort      Wii           2009.0        Sports   \n",
       "4   Pokemon Red/Pokemon Blue       GB           1996.0  Role-Playing   \n",
       "5                     Tetris       GB           1989.0        Puzzle   \n",
       "6      New Super Mario Bros.       DS           2006.0      Platform   \n",
       "7                   Wii Play      Wii           2006.0          Misc   \n",
       "8  New Super Mario Bros. Wii      Wii           2009.0      Platform   \n",
       "9                  Duck Hunt      NES           1984.0       Shooter   \n",
       "\n",
       "   NA_sales  EU_sales  JP_sales  Other_sales  Critic_Score User_Score Rating  \n",
       "0     41.36     28.96      3.77         8.45          76.0          8      E  \n",
       "1     29.08      3.58      6.81         0.77           NaN        NaN    NaN  \n",
       "2     15.68     12.76      3.79         3.29          82.0        8.3      E  \n",
       "3     15.61     10.93      3.28         2.95          80.0          8      E  \n",
       "4     11.27      8.89     10.22         1.00           NaN        NaN    NaN  \n",
       "5     23.20      2.26      4.22         0.58           NaN        NaN    NaN  \n",
       "6     11.28      9.14      6.50         2.88          89.0        8.5      E  \n",
       "7     13.96      9.18      2.93         2.84          58.0        6.6      E  \n",
       "8     14.44      6.94      4.70         2.24          87.0        8.4      E  \n",
       "9     26.93      0.63      0.28         0.47           NaN        NaN    NaN  "
      ]
     },
     "execution_count": 2,
     "metadata": {},
     "output_type": "execute_result"
    }
   ],
   "source": [
    "# чтение файла с данными и сохранение его в переменную df \n",
    "\n",
    "# Комментарий ревьюера\n",
    "# df = pd.read_csv('C:\\\\Users\\\\bogomolova\\\\Desktop\\\\Датасет\\\\games.csv')\n",
    "df = pd.read_csv('/datasets/games.csv')\n",
    "\n",
    "# вывод первых 10 строк\n",
    "df.head(10)"
   ]
  },
  {
   "cell_type": "markdown",
   "metadata": {},
   "source": [
    "Изучим общую информацию о данных."
   ]
  },
  {
   "cell_type": "code",
   "execution_count": 3,
   "metadata": {
    "scrolled": true
   },
   "outputs": [
    {
     "name": "stdout",
     "output_type": "stream",
     "text": [
      "<class 'pandas.core.frame.DataFrame'>\n",
      "RangeIndex: 16715 entries, 0 to 16714\n",
      "Data columns (total 11 columns):\n",
      " #   Column           Non-Null Count  Dtype  \n",
      "---  ------           --------------  -----  \n",
      " 0   Name             16713 non-null  object \n",
      " 1   Platform         16715 non-null  object \n",
      " 2   Year_of_Release  16446 non-null  float64\n",
      " 3   Genre            16713 non-null  object \n",
      " 4   NA_sales         16715 non-null  float64\n",
      " 5   EU_sales         16715 non-null  float64\n",
      " 6   JP_sales         16715 non-null  float64\n",
      " 7   Other_sales      16715 non-null  float64\n",
      " 8   Critic_Score     8137 non-null   float64\n",
      " 9   User_Score       10014 non-null  object \n",
      " 10  Rating           9949 non-null   object \n",
      "dtypes: float64(6), object(5)\n",
      "memory usage: 1.4+ MB\n"
     ]
    }
   ],
   "source": [
    "df.info() # получение общей информации о структуре датафрейма"
   ]
  },
  {
   "cell_type": "markdown",
   "metadata": {},
   "source": [
    "Таблица содержит 11 столбцов, 16715 строк. Наименования столбцов оформлены \"змеиным стилем\", но содержат заглавные буквы. Требуется переименование с переводом всех букв в нижний регистр. \n",
    "\n",
    "В столбцах содержатся данные двух типов:\n",
    "\n",
    "1. 5 столбцов содержат данные типа object \n",
    "2. 6 столбцов содержат числа с плавающей запятой\n",
    "\n",
    "На следующем шаге потребуется изменить тип данных в столбцах Year_of_Release, NA_sales, EU_sales, JP_sales, Other_sales, User_Score.\n",
    "\n",
    "Также потребуется обработать пропуски в столбцах Name, Year_of_Release, Genre, Critic_Score, User_Score, Rating."
   ]
  },
  {
   "cell_type": "markdown",
   "metadata": {},
   "source": [
    "<div style=\"border:solid blue 2px; padding: 20px\"> \n",
    "\n",
    "**Вывод**  \n",
    "\n",
    "Таблица открыта, данные адекватны.\n",
    "\n",
    "Требуется предобработка данных:\n",
    "    \n",
    "1. переименование колонок с переводом всех букв в нижний регистр\n",
    "    \n",
    "2. изменение типов данных в столбцах Year_of_Release, NA_sales, EU_sales, JP_sales, Other_sales, User_Score\n",
    "    \n",
    "3. обработка пропусков в столбцах Name, Year_of_Release, Genre, Critic_Score, User_Score, Rating \n",
    " \n",
    "</div>"
   ]
  },
  {
   "cell_type": "markdown",
   "metadata": {},
   "source": [
    "## Шаг 2. Подготовка данных"
   ]
  },
  {
   "cell_type": "markdown",
   "metadata": {},
   "source": [
    "### Замена названий столбцов"
   ]
  },
  {
   "cell_type": "markdown",
   "metadata": {},
   "source": [
    "Произведем переименование столбцов с заменой всех букв на строчные."
   ]
  },
  {
   "cell_type": "code",
   "execution_count": 4,
   "metadata": {
    "scrolled": false
   },
   "outputs": [
    {
     "data": {
      "text/plain": [
       "Index(['Name', 'Platform', 'Year_of_Release', 'Genre', 'NA_sales', 'EU_sales',\n",
       "       'JP_sales', 'Other_sales', 'Critic_Score', 'User_Score', 'Rating'],\n",
       "      dtype='object')"
      ]
     },
     "execution_count": 4,
     "metadata": {},
     "output_type": "execute_result"
    }
   ],
   "source": [
    "df.columns # вывод наименований всех столбцов"
   ]
  },
  {
   "cell_type": "code",
   "execution_count": 5,
   "metadata": {
    "scrolled": false
   },
   "outputs": [],
   "source": [
    "# перевод всех букв в нижний регистр\n",
    "df.columns = df.columns.str.lower()"
   ]
  },
  {
   "cell_type": "code",
   "execution_count": 6,
   "metadata": {
    "scrolled": false
   },
   "outputs": [
    {
     "data": {
      "text/plain": [
       "Index(['name', 'platform', 'year_of_release', 'genre', 'na_sales', 'eu_sales',\n",
       "       'jp_sales', 'other_sales', 'critic_score', 'user_score', 'rating'],\n",
       "      dtype='object')"
      ]
     },
     "execution_count": 6,
     "metadata": {},
     "output_type": "execute_result"
    }
   ],
   "source": [
    "df.columns # проверка результата"
   ]
  },
  {
   "cell_type": "markdown",
   "metadata": {},
   "source": [
    "Переименование проведено успешно."
   ]
  },
  {
   "cell_type": "markdown",
   "metadata": {},
   "source": [
    "### Обработка пропусков"
   ]
  },
  {
   "cell_type": "markdown",
   "metadata": {},
   "source": [
    "Оценим объем пропусков в столбцах датафрейма."
   ]
  },
  {
   "cell_type": "code",
   "execution_count": 7,
   "metadata": {
    "scrolled": false
   },
   "outputs": [
    {
     "data": {
      "text/plain": [
       "name                0.01\n",
       "platform            0.00\n",
       "year_of_release     1.61\n",
       "genre               0.01\n",
       "na_sales            0.00\n",
       "eu_sales            0.00\n",
       "jp_sales            0.00\n",
       "other_sales         0.00\n",
       "critic_score       51.32\n",
       "user_score         40.09\n",
       "rating             40.48\n",
       "dtype: float64"
      ]
     },
     "execution_count": 7,
     "metadata": {},
     "output_type": "execute_result"
    }
   ],
   "source": [
    "# расчет и вывод % пропущенных значений в каждом столбце от всего количества строк\n",
    "(df.isna().mean()*100).round(2)"
   ]
  },
  {
   "cell_type": "markdown",
   "metadata": {},
   "source": [
    "Обработаем пропуски."
   ]
  },
  {
   "cell_type": "markdown",
   "metadata": {},
   "source": [
    "**Столбец name**"
   ]
  },
  {
   "cell_type": "markdown",
   "metadata": {},
   "source": [
    "Выведем и оценим строки с пропусками в колонке name."
   ]
  },
  {
   "cell_type": "code",
   "execution_count": 8,
   "metadata": {
    "scrolled": true
   },
   "outputs": [
    {
     "data": {
      "text/html": [
       "<div>\n",
       "<style scoped>\n",
       "    .dataframe tbody tr th:only-of-type {\n",
       "        vertical-align: middle;\n",
       "    }\n",
       "\n",
       "    .dataframe tbody tr th {\n",
       "        vertical-align: top;\n",
       "    }\n",
       "\n",
       "    .dataframe thead th {\n",
       "        text-align: right;\n",
       "    }\n",
       "</style>\n",
       "<table border=\"1\" class=\"dataframe\">\n",
       "  <thead>\n",
       "    <tr style=\"text-align: right;\">\n",
       "      <th></th>\n",
       "      <th>name</th>\n",
       "      <th>platform</th>\n",
       "      <th>year_of_release</th>\n",
       "      <th>genre</th>\n",
       "      <th>na_sales</th>\n",
       "      <th>eu_sales</th>\n",
       "      <th>jp_sales</th>\n",
       "      <th>other_sales</th>\n",
       "      <th>critic_score</th>\n",
       "      <th>user_score</th>\n",
       "      <th>rating</th>\n",
       "    </tr>\n",
       "  </thead>\n",
       "  <tbody>\n",
       "    <tr>\n",
       "      <th>659</th>\n",
       "      <td>NaN</td>\n",
       "      <td>GEN</td>\n",
       "      <td>1993.0</td>\n",
       "      <td>NaN</td>\n",
       "      <td>1.78</td>\n",
       "      <td>0.53</td>\n",
       "      <td>0.00</td>\n",
       "      <td>0.08</td>\n",
       "      <td>NaN</td>\n",
       "      <td>NaN</td>\n",
       "      <td>NaN</td>\n",
       "    </tr>\n",
       "    <tr>\n",
       "      <th>14244</th>\n",
       "      <td>NaN</td>\n",
       "      <td>GEN</td>\n",
       "      <td>1993.0</td>\n",
       "      <td>NaN</td>\n",
       "      <td>0.00</td>\n",
       "      <td>0.00</td>\n",
       "      <td>0.03</td>\n",
       "      <td>0.00</td>\n",
       "      <td>NaN</td>\n",
       "      <td>NaN</td>\n",
       "      <td>NaN</td>\n",
       "    </tr>\n",
       "  </tbody>\n",
       "</table>\n",
       "</div>"
      ],
      "text/plain": [
       "      name platform  year_of_release genre  na_sales  eu_sales  jp_sales  \\\n",
       "659    NaN      GEN           1993.0   NaN      1.78      0.53      0.00   \n",
       "14244  NaN      GEN           1993.0   NaN      0.00      0.00      0.03   \n",
       "\n",
       "       other_sales  critic_score user_score rating  \n",
       "659           0.08           NaN        NaN    NaN  \n",
       "14244         0.00           NaN        NaN    NaN  "
      ]
     },
     "execution_count": 8,
     "metadata": {},
     "output_type": "execute_result"
    }
   ],
   "source": [
    "df[df['name'].isnull()] # вывод строк с пустыми значениями в колонке"
   ]
  },
  {
   "cell_type": "markdown",
   "metadata": {},
   "source": [
    "Поскольку в этих строках отсутствует также и genre, и рейтинги, удалим их, как малоинформативные. Вероятнее всего, причина их появления - ошибки при выгрузке данных."
   ]
  },
  {
   "cell_type": "code",
   "execution_count": 9,
   "metadata": {
    "scrolled": true
   },
   "outputs": [],
   "source": [
    "# удаление строк с пропущенными значениями в колонке name\n",
    "df = df.dropna(subset=['name']).reset_index(drop=True)"
   ]
  },
  {
   "cell_type": "markdown",
   "metadata": {},
   "source": [
    "Проверим результат."
   ]
  },
  {
   "cell_type": "code",
   "execution_count": 10,
   "metadata": {
    "scrolled": false
   },
   "outputs": [
    {
     "data": {
      "text/html": [
       "<div>\n",
       "<style scoped>\n",
       "    .dataframe tbody tr th:only-of-type {\n",
       "        vertical-align: middle;\n",
       "    }\n",
       "\n",
       "    .dataframe tbody tr th {\n",
       "        vertical-align: top;\n",
       "    }\n",
       "\n",
       "    .dataframe thead th {\n",
       "        text-align: right;\n",
       "    }\n",
       "</style>\n",
       "<table border=\"1\" class=\"dataframe\">\n",
       "  <thead>\n",
       "    <tr style=\"text-align: right;\">\n",
       "      <th></th>\n",
       "      <th>name</th>\n",
       "      <th>platform</th>\n",
       "      <th>year_of_release</th>\n",
       "      <th>genre</th>\n",
       "      <th>na_sales</th>\n",
       "      <th>eu_sales</th>\n",
       "      <th>jp_sales</th>\n",
       "      <th>other_sales</th>\n",
       "      <th>critic_score</th>\n",
       "      <th>user_score</th>\n",
       "      <th>rating</th>\n",
       "    </tr>\n",
       "  </thead>\n",
       "  <tbody>\n",
       "  </tbody>\n",
       "</table>\n",
       "</div>"
      ],
      "text/plain": [
       "Empty DataFrame\n",
       "Columns: [name, platform, year_of_release, genre, na_sales, eu_sales, jp_sales, other_sales, critic_score, user_score, rating]\n",
       "Index: []"
      ]
     },
     "execution_count": 10,
     "metadata": {},
     "output_type": "execute_result"
    }
   ],
   "source": [
    "df[df['name'].isnull()]  # вывод строк с пустыми значениями в колонке"
   ]
  },
  {
   "cell_type": "code",
   "execution_count": 11,
   "metadata": {
    "scrolled": false
   },
   "outputs": [
    {
     "name": "stdout",
     "output_type": "stream",
     "text": [
      "<class 'pandas.core.frame.DataFrame'>\n",
      "RangeIndex: 16713 entries, 0 to 16712\n",
      "Data columns (total 11 columns):\n",
      " #   Column           Non-Null Count  Dtype  \n",
      "---  ------           --------------  -----  \n",
      " 0   name             16713 non-null  object \n",
      " 1   platform         16713 non-null  object \n",
      " 2   year_of_release  16444 non-null  float64\n",
      " 3   genre            16713 non-null  object \n",
      " 4   na_sales         16713 non-null  float64\n",
      " 5   eu_sales         16713 non-null  float64\n",
      " 6   jp_sales         16713 non-null  float64\n",
      " 7   other_sales      16713 non-null  float64\n",
      " 8   critic_score     8137 non-null   float64\n",
      " 9   user_score       10014 non-null  object \n",
      " 10  rating           9949 non-null   object \n",
      "dtypes: float64(6), object(5)\n",
      "memory usage: 1.4+ MB\n"
     ]
    }
   ],
   "source": [
    "df.info() # вывод общей информации о структуре датафрейма"
   ]
  },
  {
   "cell_type": "markdown",
   "metadata": {},
   "source": [
    "Строки удалены."
   ]
  },
  {
   "cell_type": "markdown",
   "metadata": {},
   "source": [
    "**Столбец genre**"
   ]
  },
  {
   "cell_type": "markdown",
   "metadata": {},
   "source": [
    "Выведем и оценим строки с пропусками в колонке genre."
   ]
  },
  {
   "cell_type": "code",
   "execution_count": 12,
   "metadata": {
    "scrolled": true
   },
   "outputs": [
    {
     "data": {
      "text/html": [
       "<div>\n",
       "<style scoped>\n",
       "    .dataframe tbody tr th:only-of-type {\n",
       "        vertical-align: middle;\n",
       "    }\n",
       "\n",
       "    .dataframe tbody tr th {\n",
       "        vertical-align: top;\n",
       "    }\n",
       "\n",
       "    .dataframe thead th {\n",
       "        text-align: right;\n",
       "    }\n",
       "</style>\n",
       "<table border=\"1\" class=\"dataframe\">\n",
       "  <thead>\n",
       "    <tr style=\"text-align: right;\">\n",
       "      <th></th>\n",
       "      <th>name</th>\n",
       "      <th>platform</th>\n",
       "      <th>year_of_release</th>\n",
       "      <th>genre</th>\n",
       "      <th>na_sales</th>\n",
       "      <th>eu_sales</th>\n",
       "      <th>jp_sales</th>\n",
       "      <th>other_sales</th>\n",
       "      <th>critic_score</th>\n",
       "      <th>user_score</th>\n",
       "      <th>rating</th>\n",
       "    </tr>\n",
       "  </thead>\n",
       "  <tbody>\n",
       "  </tbody>\n",
       "</table>\n",
       "</div>"
      ],
      "text/plain": [
       "Empty DataFrame\n",
       "Columns: [name, platform, year_of_release, genre, na_sales, eu_sales, jp_sales, other_sales, critic_score, user_score, rating]\n",
       "Index: []"
      ]
     },
     "execution_count": 12,
     "metadata": {},
     "output_type": "execute_result"
    }
   ],
   "source": [
    "df[df['genre'].isnull()] # вывод строк с пустыми значениями в колонке"
   ]
  },
  {
   "cell_type": "markdown",
   "metadata": {},
   "source": [
    "Строки с пустыми значениями в genre отсутствуют, т.к. были удалены при удалении пропусков в колонке name выше."
   ]
  },
  {
   "cell_type": "markdown",
   "metadata": {},
   "source": [
    "**Столбец year_of_release**"
   ]
  },
  {
   "cell_type": "markdown",
   "metadata": {},
   "source": [
    "Выведем и оценим строки с пропусками в колонке year_of_release."
   ]
  },
  {
   "cell_type": "code",
   "execution_count": 13,
   "metadata": {
    "scrolled": true
   },
   "outputs": [
    {
     "data": {
      "text/html": [
       "<div>\n",
       "<style scoped>\n",
       "    .dataframe tbody tr th:only-of-type {\n",
       "        vertical-align: middle;\n",
       "    }\n",
       "\n",
       "    .dataframe tbody tr th {\n",
       "        vertical-align: top;\n",
       "    }\n",
       "\n",
       "    .dataframe thead th {\n",
       "        text-align: right;\n",
       "    }\n",
       "</style>\n",
       "<table border=\"1\" class=\"dataframe\">\n",
       "  <thead>\n",
       "    <tr style=\"text-align: right;\">\n",
       "      <th></th>\n",
       "      <th>name</th>\n",
       "      <th>platform</th>\n",
       "      <th>year_of_release</th>\n",
       "      <th>genre</th>\n",
       "      <th>na_sales</th>\n",
       "      <th>eu_sales</th>\n",
       "      <th>jp_sales</th>\n",
       "      <th>other_sales</th>\n",
       "      <th>critic_score</th>\n",
       "      <th>user_score</th>\n",
       "      <th>rating</th>\n",
       "    </tr>\n",
       "  </thead>\n",
       "  <tbody>\n",
       "    <tr>\n",
       "      <th>183</th>\n",
       "      <td>Madden NFL 2004</td>\n",
       "      <td>PS2</td>\n",
       "      <td>NaN</td>\n",
       "      <td>Sports</td>\n",
       "      <td>4.26</td>\n",
       "      <td>0.26</td>\n",
       "      <td>0.01</td>\n",
       "      <td>0.71</td>\n",
       "      <td>94.0</td>\n",
       "      <td>8.5</td>\n",
       "      <td>E</td>\n",
       "    </tr>\n",
       "    <tr>\n",
       "      <th>377</th>\n",
       "      <td>FIFA Soccer 2004</td>\n",
       "      <td>PS2</td>\n",
       "      <td>NaN</td>\n",
       "      <td>Sports</td>\n",
       "      <td>0.59</td>\n",
       "      <td>2.36</td>\n",
       "      <td>0.04</td>\n",
       "      <td>0.51</td>\n",
       "      <td>84.0</td>\n",
       "      <td>6.4</td>\n",
       "      <td>E</td>\n",
       "    </tr>\n",
       "    <tr>\n",
       "      <th>456</th>\n",
       "      <td>LEGO Batman: The Videogame</td>\n",
       "      <td>Wii</td>\n",
       "      <td>NaN</td>\n",
       "      <td>Action</td>\n",
       "      <td>1.80</td>\n",
       "      <td>0.97</td>\n",
       "      <td>0.00</td>\n",
       "      <td>0.29</td>\n",
       "      <td>74.0</td>\n",
       "      <td>7.9</td>\n",
       "      <td>E10+</td>\n",
       "    </tr>\n",
       "    <tr>\n",
       "      <th>475</th>\n",
       "      <td>wwe Smackdown vs. Raw 2006</td>\n",
       "      <td>PS2</td>\n",
       "      <td>NaN</td>\n",
       "      <td>Fighting</td>\n",
       "      <td>1.57</td>\n",
       "      <td>1.02</td>\n",
       "      <td>0.00</td>\n",
       "      <td>0.41</td>\n",
       "      <td>NaN</td>\n",
       "      <td>NaN</td>\n",
       "      <td>NaN</td>\n",
       "    </tr>\n",
       "    <tr>\n",
       "      <th>609</th>\n",
       "      <td>Space Invaders</td>\n",
       "      <td>2600</td>\n",
       "      <td>NaN</td>\n",
       "      <td>Shooter</td>\n",
       "      <td>2.36</td>\n",
       "      <td>0.14</td>\n",
       "      <td>0.00</td>\n",
       "      <td>0.03</td>\n",
       "      <td>NaN</td>\n",
       "      <td>NaN</td>\n",
       "      <td>NaN</td>\n",
       "    </tr>\n",
       "    <tr>\n",
       "      <th>...</th>\n",
       "      <td>...</td>\n",
       "      <td>...</td>\n",
       "      <td>...</td>\n",
       "      <td>...</td>\n",
       "      <td>...</td>\n",
       "      <td>...</td>\n",
       "      <td>...</td>\n",
       "      <td>...</td>\n",
       "      <td>...</td>\n",
       "      <td>...</td>\n",
       "      <td>...</td>\n",
       "    </tr>\n",
       "    <tr>\n",
       "      <th>16371</th>\n",
       "      <td>PDC World Championship Darts 2008</td>\n",
       "      <td>PSP</td>\n",
       "      <td>NaN</td>\n",
       "      <td>Sports</td>\n",
       "      <td>0.01</td>\n",
       "      <td>0.00</td>\n",
       "      <td>0.00</td>\n",
       "      <td>0.00</td>\n",
       "      <td>43.0</td>\n",
       "      <td>tbd</td>\n",
       "      <td>E10+</td>\n",
       "    </tr>\n",
       "    <tr>\n",
       "      <th>16403</th>\n",
       "      <td>Freaky Flyers</td>\n",
       "      <td>GC</td>\n",
       "      <td>NaN</td>\n",
       "      <td>Racing</td>\n",
       "      <td>0.01</td>\n",
       "      <td>0.00</td>\n",
       "      <td>0.00</td>\n",
       "      <td>0.00</td>\n",
       "      <td>69.0</td>\n",
       "      <td>6.5</td>\n",
       "      <td>T</td>\n",
       "    </tr>\n",
       "    <tr>\n",
       "      <th>16446</th>\n",
       "      <td>Inversion</td>\n",
       "      <td>PC</td>\n",
       "      <td>NaN</td>\n",
       "      <td>Shooter</td>\n",
       "      <td>0.01</td>\n",
       "      <td>0.00</td>\n",
       "      <td>0.00</td>\n",
       "      <td>0.00</td>\n",
       "      <td>59.0</td>\n",
       "      <td>6.7</td>\n",
       "      <td>M</td>\n",
       "    </tr>\n",
       "    <tr>\n",
       "      <th>16456</th>\n",
       "      <td>Hakuouki: Shinsengumi Kitan</td>\n",
       "      <td>PS3</td>\n",
       "      <td>NaN</td>\n",
       "      <td>Adventure</td>\n",
       "      <td>0.01</td>\n",
       "      <td>0.00</td>\n",
       "      <td>0.00</td>\n",
       "      <td>0.00</td>\n",
       "      <td>NaN</td>\n",
       "      <td>NaN</td>\n",
       "      <td>NaN</td>\n",
       "    </tr>\n",
       "    <tr>\n",
       "      <th>16520</th>\n",
       "      <td>Virtua Quest</td>\n",
       "      <td>GC</td>\n",
       "      <td>NaN</td>\n",
       "      <td>Role-Playing</td>\n",
       "      <td>0.01</td>\n",
       "      <td>0.00</td>\n",
       "      <td>0.00</td>\n",
       "      <td>0.00</td>\n",
       "      <td>55.0</td>\n",
       "      <td>5.5</td>\n",
       "      <td>T</td>\n",
       "    </tr>\n",
       "  </tbody>\n",
       "</table>\n",
       "<p>269 rows × 11 columns</p>\n",
       "</div>"
      ],
      "text/plain": [
       "                                    name platform  year_of_release  \\\n",
       "183                      Madden NFL 2004      PS2              NaN   \n",
       "377                     FIFA Soccer 2004      PS2              NaN   \n",
       "456           LEGO Batman: The Videogame      Wii              NaN   \n",
       "475           wwe Smackdown vs. Raw 2006      PS2              NaN   \n",
       "609                       Space Invaders     2600              NaN   \n",
       "...                                  ...      ...              ...   \n",
       "16371  PDC World Championship Darts 2008      PSP              NaN   \n",
       "16403                      Freaky Flyers       GC              NaN   \n",
       "16446                          Inversion       PC              NaN   \n",
       "16456        Hakuouki: Shinsengumi Kitan      PS3              NaN   \n",
       "16520                       Virtua Quest       GC              NaN   \n",
       "\n",
       "              genre  na_sales  eu_sales  jp_sales  other_sales  critic_score  \\\n",
       "183          Sports      4.26      0.26      0.01         0.71          94.0   \n",
       "377          Sports      0.59      2.36      0.04         0.51          84.0   \n",
       "456          Action      1.80      0.97      0.00         0.29          74.0   \n",
       "475        Fighting      1.57      1.02      0.00         0.41           NaN   \n",
       "609         Shooter      2.36      0.14      0.00         0.03           NaN   \n",
       "...             ...       ...       ...       ...          ...           ...   \n",
       "16371        Sports      0.01      0.00      0.00         0.00          43.0   \n",
       "16403        Racing      0.01      0.00      0.00         0.00          69.0   \n",
       "16446       Shooter      0.01      0.00      0.00         0.00          59.0   \n",
       "16456     Adventure      0.01      0.00      0.00         0.00           NaN   \n",
       "16520  Role-Playing      0.01      0.00      0.00         0.00          55.0   \n",
       "\n",
       "      user_score rating  \n",
       "183          8.5      E  \n",
       "377          6.4      E  \n",
       "456          7.9   E10+  \n",
       "475          NaN    NaN  \n",
       "609          NaN    NaN  \n",
       "...          ...    ...  \n",
       "16371        tbd   E10+  \n",
       "16403        6.5      T  \n",
       "16446        6.7      M  \n",
       "16456        NaN    NaN  \n",
       "16520        5.5      T  \n",
       "\n",
       "[269 rows x 11 columns]"
      ]
     },
     "execution_count": 13,
     "metadata": {},
     "output_type": "execute_result"
    }
   ],
   "source": [
    "df[df['year_of_release'].isnull()] # вывод строк с пустыми значениями в колонке"
   ]
  },
  {
   "cell_type": "markdown",
   "metadata": {},
   "source": [
    "Пропусков много, вероятная причина их появления - ошибка при загрузке данных. Попробуем отсортировать данные по колонкам name и year_of_release и посмотрим на одну из групп с пропуском (данные по игре Madden NFL 2004), чтобы определить способ заполнения пропусков."
   ]
  },
  {
   "cell_type": "code",
   "execution_count": 14,
   "metadata": {},
   "outputs": [],
   "source": [
    "df = df.sort_values(['name', 'year_of_release']) # сортировка данных по колонкам name и year_of_release"
   ]
  },
  {
   "cell_type": "code",
   "execution_count": 15,
   "metadata": {
    "scrolled": true
   },
   "outputs": [
    {
     "data": {
      "text/html": [
       "<div>\n",
       "<style scoped>\n",
       "    .dataframe tbody tr th:only-of-type {\n",
       "        vertical-align: middle;\n",
       "    }\n",
       "\n",
       "    .dataframe tbody tr th {\n",
       "        vertical-align: top;\n",
       "    }\n",
       "\n",
       "    .dataframe thead th {\n",
       "        text-align: right;\n",
       "    }\n",
       "</style>\n",
       "<table border=\"1\" class=\"dataframe\">\n",
       "  <thead>\n",
       "    <tr style=\"text-align: right;\">\n",
       "      <th></th>\n",
       "      <th>name</th>\n",
       "      <th>platform</th>\n",
       "      <th>year_of_release</th>\n",
       "      <th>genre</th>\n",
       "      <th>na_sales</th>\n",
       "      <th>eu_sales</th>\n",
       "      <th>jp_sales</th>\n",
       "      <th>other_sales</th>\n",
       "      <th>critic_score</th>\n",
       "      <th>user_score</th>\n",
       "      <th>rating</th>\n",
       "    </tr>\n",
       "  </thead>\n",
       "  <tbody>\n",
       "    <tr>\n",
       "      <th>1880</th>\n",
       "      <td>Madden NFL 2004</td>\n",
       "      <td>XB</td>\n",
       "      <td>2003.0</td>\n",
       "      <td>Sports</td>\n",
       "      <td>1.02</td>\n",
       "      <td>0.02</td>\n",
       "      <td>0.00</td>\n",
       "      <td>0.05</td>\n",
       "      <td>92.0</td>\n",
       "      <td>8.3</td>\n",
       "      <td>E</td>\n",
       "    </tr>\n",
       "    <tr>\n",
       "      <th>3888</th>\n",
       "      <td>Madden NFL 2004</td>\n",
       "      <td>GC</td>\n",
       "      <td>2003.0</td>\n",
       "      <td>Sports</td>\n",
       "      <td>0.40</td>\n",
       "      <td>0.10</td>\n",
       "      <td>0.00</td>\n",
       "      <td>0.01</td>\n",
       "      <td>94.0</td>\n",
       "      <td>7.7</td>\n",
       "      <td>E</td>\n",
       "    </tr>\n",
       "    <tr>\n",
       "      <th>5707</th>\n",
       "      <td>Madden NFL 2004</td>\n",
       "      <td>GBA</td>\n",
       "      <td>2003.0</td>\n",
       "      <td>Sports</td>\n",
       "      <td>0.22</td>\n",
       "      <td>0.08</td>\n",
       "      <td>0.00</td>\n",
       "      <td>0.01</td>\n",
       "      <td>70.0</td>\n",
       "      <td>6.6</td>\n",
       "      <td>E</td>\n",
       "    </tr>\n",
       "    <tr>\n",
       "      <th>183</th>\n",
       "      <td>Madden NFL 2004</td>\n",
       "      <td>PS2</td>\n",
       "      <td>NaN</td>\n",
       "      <td>Sports</td>\n",
       "      <td>4.26</td>\n",
       "      <td>0.26</td>\n",
       "      <td>0.01</td>\n",
       "      <td>0.71</td>\n",
       "      <td>94.0</td>\n",
       "      <td>8.5</td>\n",
       "      <td>E</td>\n",
       "    </tr>\n",
       "  </tbody>\n",
       "</table>\n",
       "</div>"
      ],
      "text/plain": [
       "                 name platform  year_of_release   genre  na_sales  eu_sales  \\\n",
       "1880  Madden NFL 2004       XB           2003.0  Sports      1.02      0.02   \n",
       "3888  Madden NFL 2004       GC           2003.0  Sports      0.40      0.10   \n",
       "5707  Madden NFL 2004      GBA           2003.0  Sports      0.22      0.08   \n",
       "183   Madden NFL 2004      PS2              NaN  Sports      4.26      0.26   \n",
       "\n",
       "      jp_sales  other_sales  critic_score user_score rating  \n",
       "1880      0.00         0.05          92.0        8.3      E  \n",
       "3888      0.00         0.01          94.0        7.7      E  \n",
       "5707      0.00         0.01          70.0        6.6      E  \n",
       "183       0.01         0.71          94.0        8.5      E  "
      ]
     },
     "execution_count": 15,
     "metadata": {},
     "output_type": "execute_result"
    }
   ],
   "source": [
    "# вывод информации по игре Madden NFL 2004\n",
    "df[df['name'] == 'Madden NFL 2004'] "
   ]
  },
  {
   "cell_type": "markdown",
   "metadata": {},
   "source": [
    "Из данных видно, что на три платформы из четырех игра вышла в 2003 году. Можно предположить, что на четвертую платформу игра вышла в том же году. Отсортируем датафрейм по играм и годам выхода и заполним пропуски в year_of_release первой записью из отсортированного списка."
   ]
  },
  {
   "cell_type": "code",
   "execution_count": 16,
   "metadata": {},
   "outputs": [],
   "source": [
    "# заполнение пропусков в year_of_release первым значением year_of_release из датафрейма, сгруппированного по названию игры и году выхода\n",
    "df.loc[df[\"year_of_release\"].isna(), \"year_of_release\"] = \\\n",
    "    df.loc[df[\"year_of_release\"].isna(), \"name\"].map(df.groupby(\"name\")[\"year_of_release\"].first())"
   ]
  },
  {
   "cell_type": "markdown",
   "metadata": {},
   "source": [
    "Проверим результат на той же игре, которую смотрели выше - Madden NFL 2004."
   ]
  },
  {
   "cell_type": "code",
   "execution_count": 17,
   "metadata": {
    "scrolled": true
   },
   "outputs": [
    {
     "data": {
      "text/html": [
       "<div>\n",
       "<style scoped>\n",
       "    .dataframe tbody tr th:only-of-type {\n",
       "        vertical-align: middle;\n",
       "    }\n",
       "\n",
       "    .dataframe tbody tr th {\n",
       "        vertical-align: top;\n",
       "    }\n",
       "\n",
       "    .dataframe thead th {\n",
       "        text-align: right;\n",
       "    }\n",
       "</style>\n",
       "<table border=\"1\" class=\"dataframe\">\n",
       "  <thead>\n",
       "    <tr style=\"text-align: right;\">\n",
       "      <th></th>\n",
       "      <th>name</th>\n",
       "      <th>platform</th>\n",
       "      <th>year_of_release</th>\n",
       "      <th>genre</th>\n",
       "      <th>na_sales</th>\n",
       "      <th>eu_sales</th>\n",
       "      <th>jp_sales</th>\n",
       "      <th>other_sales</th>\n",
       "      <th>critic_score</th>\n",
       "      <th>user_score</th>\n",
       "      <th>rating</th>\n",
       "    </tr>\n",
       "  </thead>\n",
       "  <tbody>\n",
       "    <tr>\n",
       "      <th>1880</th>\n",
       "      <td>Madden NFL 2004</td>\n",
       "      <td>XB</td>\n",
       "      <td>2003.0</td>\n",
       "      <td>Sports</td>\n",
       "      <td>1.02</td>\n",
       "      <td>0.02</td>\n",
       "      <td>0.00</td>\n",
       "      <td>0.05</td>\n",
       "      <td>92.0</td>\n",
       "      <td>8.3</td>\n",
       "      <td>E</td>\n",
       "    </tr>\n",
       "    <tr>\n",
       "      <th>3888</th>\n",
       "      <td>Madden NFL 2004</td>\n",
       "      <td>GC</td>\n",
       "      <td>2003.0</td>\n",
       "      <td>Sports</td>\n",
       "      <td>0.40</td>\n",
       "      <td>0.10</td>\n",
       "      <td>0.00</td>\n",
       "      <td>0.01</td>\n",
       "      <td>94.0</td>\n",
       "      <td>7.7</td>\n",
       "      <td>E</td>\n",
       "    </tr>\n",
       "    <tr>\n",
       "      <th>5707</th>\n",
       "      <td>Madden NFL 2004</td>\n",
       "      <td>GBA</td>\n",
       "      <td>2003.0</td>\n",
       "      <td>Sports</td>\n",
       "      <td>0.22</td>\n",
       "      <td>0.08</td>\n",
       "      <td>0.00</td>\n",
       "      <td>0.01</td>\n",
       "      <td>70.0</td>\n",
       "      <td>6.6</td>\n",
       "      <td>E</td>\n",
       "    </tr>\n",
       "    <tr>\n",
       "      <th>183</th>\n",
       "      <td>Madden NFL 2004</td>\n",
       "      <td>PS2</td>\n",
       "      <td>2003.0</td>\n",
       "      <td>Sports</td>\n",
       "      <td>4.26</td>\n",
       "      <td>0.26</td>\n",
       "      <td>0.01</td>\n",
       "      <td>0.71</td>\n",
       "      <td>94.0</td>\n",
       "      <td>8.5</td>\n",
       "      <td>E</td>\n",
       "    </tr>\n",
       "  </tbody>\n",
       "</table>\n",
       "</div>"
      ],
      "text/plain": [
       "                 name platform  year_of_release   genre  na_sales  eu_sales  \\\n",
       "1880  Madden NFL 2004       XB           2003.0  Sports      1.02      0.02   \n",
       "3888  Madden NFL 2004       GC           2003.0  Sports      0.40      0.10   \n",
       "5707  Madden NFL 2004      GBA           2003.0  Sports      0.22      0.08   \n",
       "183   Madden NFL 2004      PS2           2003.0  Sports      4.26      0.26   \n",
       "\n",
       "      jp_sales  other_sales  critic_score user_score rating  \n",
       "1880      0.00         0.05          92.0        8.3      E  \n",
       "3888      0.00         0.01          94.0        7.7      E  \n",
       "5707      0.00         0.01          70.0        6.6      E  \n",
       "183       0.01         0.71          94.0        8.5      E  "
      ]
     },
     "execution_count": 17,
     "metadata": {},
     "output_type": "execute_result"
    }
   ],
   "source": [
    "# вывод информации по игре Madden NFL 2004\n",
    "df[df['name'] == 'Madden NFL 2004']"
   ]
  },
  {
   "cell_type": "markdown",
   "metadata": {},
   "source": [
    "Замена прошла успешно, пропуск заполнился первой записью из столбца year_of_release."
   ]
  },
  {
   "cell_type": "markdown",
   "metadata": {},
   "source": [
    "Проверим, сколько пустых строк в year_of_release осталось после заполнения пропусков первой записью в сгруппированных списках."
   ]
  },
  {
   "cell_type": "code",
   "execution_count": 19,
   "metadata": {
    "scrolled": true
   },
   "outputs": [
    {
     "data": {
      "text/html": [
       "<div>\n",
       "<style scoped>\n",
       "    .dataframe tbody tr th:only-of-type {\n",
       "        vertical-align: middle;\n",
       "    }\n",
       "\n",
       "    .dataframe tbody tr th {\n",
       "        vertical-align: top;\n",
       "    }\n",
       "\n",
       "    .dataframe thead th {\n",
       "        text-align: right;\n",
       "    }\n",
       "</style>\n",
       "<table border=\"1\" class=\"dataframe\">\n",
       "  <thead>\n",
       "    <tr style=\"text-align: right;\">\n",
       "      <th></th>\n",
       "      <th>name</th>\n",
       "      <th>platform</th>\n",
       "      <th>year_of_release</th>\n",
       "      <th>genre</th>\n",
       "      <th>na_sales</th>\n",
       "      <th>eu_sales</th>\n",
       "      <th>jp_sales</th>\n",
       "      <th>other_sales</th>\n",
       "      <th>critic_score</th>\n",
       "      <th>user_score</th>\n",
       "      <th>rating</th>\n",
       "    </tr>\n",
       "  </thead>\n",
       "  <tbody>\n",
       "    <tr>\n",
       "      <th>11091</th>\n",
       "      <td>Action Man-Operation Extreme</td>\n",
       "      <td>PS</td>\n",
       "      <td>NaN</td>\n",
       "      <td>Action</td>\n",
       "      <td>0.05</td>\n",
       "      <td>0.03</td>\n",
       "      <td>0.00</td>\n",
       "      <td>0.01</td>\n",
       "      <td>NaN</td>\n",
       "      <td>NaN</td>\n",
       "      <td>NaN</td>\n",
       "    </tr>\n",
       "    <tr>\n",
       "      <th>3288</th>\n",
       "      <td>Advance Wars: Days of Ruin</td>\n",
       "      <td>DS</td>\n",
       "      <td>NaN</td>\n",
       "      <td>Strategy</td>\n",
       "      <td>0.43</td>\n",
       "      <td>0.12</td>\n",
       "      <td>0.00</td>\n",
       "      <td>0.05</td>\n",
       "      <td>86.0</td>\n",
       "      <td>8.7</td>\n",
       "      <td>E10+</td>\n",
       "    </tr>\n",
       "    <tr>\n",
       "      <th>1505</th>\n",
       "      <td>Adventure</td>\n",
       "      <td>2600</td>\n",
       "      <td>NaN</td>\n",
       "      <td>Adventure</td>\n",
       "      <td>1.21</td>\n",
       "      <td>0.08</td>\n",
       "      <td>0.00</td>\n",
       "      <td>0.01</td>\n",
       "      <td>NaN</td>\n",
       "      <td>NaN</td>\n",
       "      <td>NaN</td>\n",
       "    </tr>\n",
       "    <tr>\n",
       "      <th>16346</th>\n",
       "      <td>Agarest Senki: Re-appearance</td>\n",
       "      <td>PS3</td>\n",
       "      <td>NaN</td>\n",
       "      <td>Role-Playing</td>\n",
       "      <td>0.00</td>\n",
       "      <td>0.00</td>\n",
       "      <td>0.01</td>\n",
       "      <td>0.00</td>\n",
       "      <td>NaN</td>\n",
       "      <td>NaN</td>\n",
       "      <td>NaN</td>\n",
       "    </tr>\n",
       "    <tr>\n",
       "      <th>2105</th>\n",
       "      <td>Air-Sea Battle</td>\n",
       "      <td>2600</td>\n",
       "      <td>NaN</td>\n",
       "      <td>Shooter</td>\n",
       "      <td>0.91</td>\n",
       "      <td>0.06</td>\n",
       "      <td>0.00</td>\n",
       "      <td>0.01</td>\n",
       "      <td>NaN</td>\n",
       "      <td>NaN</td>\n",
       "      <td>NaN</td>\n",
       "    </tr>\n",
       "    <tr>\n",
       "      <th>...</th>\n",
       "      <td>...</td>\n",
       "      <td>...</td>\n",
       "      <td>...</td>\n",
       "      <td>...</td>\n",
       "      <td>...</td>\n",
       "      <td>...</td>\n",
       "      <td>...</td>\n",
       "      <td>...</td>\n",
       "      <td>...</td>\n",
       "      <td>...</td>\n",
       "      <td>...</td>\n",
       "    </tr>\n",
       "    <tr>\n",
       "      <th>7331</th>\n",
       "      <td>Yu Yu Hakusho: Dark Tournament</td>\n",
       "      <td>PS2</td>\n",
       "      <td>NaN</td>\n",
       "      <td>Fighting</td>\n",
       "      <td>0.10</td>\n",
       "      <td>0.08</td>\n",
       "      <td>0.00</td>\n",
       "      <td>0.03</td>\n",
       "      <td>56.0</td>\n",
       "      <td>8.5</td>\n",
       "      <td>T</td>\n",
       "    </tr>\n",
       "    <tr>\n",
       "      <th>15555</th>\n",
       "      <td>Yu-Gi-Oh! 5D's Wheelie Breakers (JP sales)</td>\n",
       "      <td>Wii</td>\n",
       "      <td>NaN</td>\n",
       "      <td>Racing</td>\n",
       "      <td>0.00</td>\n",
       "      <td>0.00</td>\n",
       "      <td>0.02</td>\n",
       "      <td>0.00</td>\n",
       "      <td>NaN</td>\n",
       "      <td>NaN</td>\n",
       "      <td>NaN</td>\n",
       "    </tr>\n",
       "    <tr>\n",
       "      <th>11432</th>\n",
       "      <td>Zero: Tsukihami no Kamen</td>\n",
       "      <td>Wii</td>\n",
       "      <td>NaN</td>\n",
       "      <td>Action</td>\n",
       "      <td>0.00</td>\n",
       "      <td>0.00</td>\n",
       "      <td>0.08</td>\n",
       "      <td>0.00</td>\n",
       "      <td>NaN</td>\n",
       "      <td>NaN</td>\n",
       "      <td>NaN</td>\n",
       "    </tr>\n",
       "    <tr>\n",
       "      <th>8883</th>\n",
       "      <td>eJay Clubworld</td>\n",
       "      <td>PS2</td>\n",
       "      <td>NaN</td>\n",
       "      <td>Misc</td>\n",
       "      <td>0.07</td>\n",
       "      <td>0.06</td>\n",
       "      <td>0.00</td>\n",
       "      <td>0.02</td>\n",
       "      <td>69.0</td>\n",
       "      <td>8.6</td>\n",
       "      <td>E</td>\n",
       "    </tr>\n",
       "    <tr>\n",
       "      <th>475</th>\n",
       "      <td>wwe Smackdown vs. Raw 2006</td>\n",
       "      <td>PS2</td>\n",
       "      <td>NaN</td>\n",
       "      <td>Fighting</td>\n",
       "      <td>1.57</td>\n",
       "      <td>1.02</td>\n",
       "      <td>0.00</td>\n",
       "      <td>0.41</td>\n",
       "      <td>NaN</td>\n",
       "      <td>NaN</td>\n",
       "      <td>NaN</td>\n",
       "    </tr>\n",
       "  </tbody>\n",
       "</table>\n",
       "<p>146 rows × 11 columns</p>\n",
       "</div>"
      ],
      "text/plain": [
       "                                             name platform  year_of_release  \\\n",
       "11091                Action Man-Operation Extreme       PS              NaN   \n",
       "3288                   Advance Wars: Days of Ruin       DS              NaN   \n",
       "1505                                    Adventure     2600              NaN   \n",
       "16346                Agarest Senki: Re-appearance      PS3              NaN   \n",
       "2105                               Air-Sea Battle     2600              NaN   \n",
       "...                                           ...      ...              ...   \n",
       "7331               Yu Yu Hakusho: Dark Tournament      PS2              NaN   \n",
       "15555  Yu-Gi-Oh! 5D's Wheelie Breakers (JP sales)      Wii              NaN   \n",
       "11432                    Zero: Tsukihami no Kamen      Wii              NaN   \n",
       "8883                               eJay Clubworld      PS2              NaN   \n",
       "475                    wwe Smackdown vs. Raw 2006      PS2              NaN   \n",
       "\n",
       "              genre  na_sales  eu_sales  jp_sales  other_sales  critic_score  \\\n",
       "11091        Action      0.05      0.03      0.00         0.01           NaN   \n",
       "3288       Strategy      0.43      0.12      0.00         0.05          86.0   \n",
       "1505      Adventure      1.21      0.08      0.00         0.01           NaN   \n",
       "16346  Role-Playing      0.00      0.00      0.01         0.00           NaN   \n",
       "2105        Shooter      0.91      0.06      0.00         0.01           NaN   \n",
       "...             ...       ...       ...       ...          ...           ...   \n",
       "7331       Fighting      0.10      0.08      0.00         0.03          56.0   \n",
       "15555        Racing      0.00      0.00      0.02         0.00           NaN   \n",
       "11432        Action      0.00      0.00      0.08         0.00           NaN   \n",
       "8883           Misc      0.07      0.06      0.00         0.02          69.0   \n",
       "475        Fighting      1.57      1.02      0.00         0.41           NaN   \n",
       "\n",
       "      user_score rating  \n",
       "11091        NaN    NaN  \n",
       "3288         8.7   E10+  \n",
       "1505         NaN    NaN  \n",
       "16346        NaN    NaN  \n",
       "2105         NaN    NaN  \n",
       "...          ...    ...  \n",
       "7331         8.5      T  \n",
       "15555        NaN    NaN  \n",
       "11432        NaN    NaN  \n",
       "8883         8.6      E  \n",
       "475          NaN    NaN  \n",
       "\n",
       "[146 rows x 11 columns]"
      ]
     },
     "execution_count": 19,
     "metadata": {},
     "output_type": "execute_result"
    }
   ],
   "source": [
    "df[df['year_of_release'].isnull()] # вывод строк с пустыми значениями в колонке"
   ]
  },
  {
   "cell_type": "markdown",
   "metadata": {},
   "source": [
    "Количество пропусков сократилось на 100 строк, но по-прежнему существенно.\n",
    "\n",
    "Попробуем найти еще какие-либо закономерности для заполнения пропусков. Посмотрим, сколько пропусков осталось по каждой игре."
   ]
  },
  {
   "cell_type": "code",
   "execution_count": 20,
   "metadata": {
    "scrolled": true
   },
   "outputs": [
    {
     "data": {
      "text/html": [
       "<div>\n",
       "<style scoped>\n",
       "    .dataframe tbody tr th:only-of-type {\n",
       "        vertical-align: middle;\n",
       "    }\n",
       "\n",
       "    .dataframe tbody tr th {\n",
       "        vertical-align: top;\n",
       "    }\n",
       "\n",
       "    .dataframe thead th {\n",
       "        text-align: right;\n",
       "    }\n",
       "</style>\n",
       "<table border=\"1\" class=\"dataframe\">\n",
       "  <thead>\n",
       "    <tr style=\"text-align: right;\">\n",
       "      <th></th>\n",
       "      <th>genre</th>\n",
       "    </tr>\n",
       "    <tr>\n",
       "      <th>name</th>\n",
       "      <th></th>\n",
       "    </tr>\n",
       "  </thead>\n",
       "  <tbody>\n",
       "    <tr>\n",
       "      <th>Action Man-Operation Extreme</th>\n",
       "      <td>1</td>\n",
       "    </tr>\n",
       "    <tr>\n",
       "      <th>Advance Wars: Days of Ruin</th>\n",
       "      <td>1</td>\n",
       "    </tr>\n",
       "    <tr>\n",
       "      <th>Adventure</th>\n",
       "      <td>1</td>\n",
       "    </tr>\n",
       "    <tr>\n",
       "      <th>Agarest Senki: Re-appearance</th>\n",
       "      <td>1</td>\n",
       "    </tr>\n",
       "    <tr>\n",
       "      <th>Air-Sea Battle</th>\n",
       "      <td>1</td>\n",
       "    </tr>\n",
       "    <tr>\n",
       "      <th>...</th>\n",
       "      <td>...</td>\n",
       "    </tr>\n",
       "    <tr>\n",
       "      <th>Yu Yu Hakusho: Dark Tournament</th>\n",
       "      <td>1</td>\n",
       "    </tr>\n",
       "    <tr>\n",
       "      <th>Yu-Gi-Oh! 5D's Wheelie Breakers (JP sales)</th>\n",
       "      <td>1</td>\n",
       "    </tr>\n",
       "    <tr>\n",
       "      <th>Zero: Tsukihami no Kamen</th>\n",
       "      <td>1</td>\n",
       "    </tr>\n",
       "    <tr>\n",
       "      <th>eJay Clubworld</th>\n",
       "      <td>1</td>\n",
       "    </tr>\n",
       "    <tr>\n",
       "      <th>wwe Smackdown vs. Raw 2006</th>\n",
       "      <td>1</td>\n",
       "    </tr>\n",
       "  </tbody>\n",
       "</table>\n",
       "<p>133 rows × 1 columns</p>\n",
       "</div>"
      ],
      "text/plain": [
       "                                            genre\n",
       "name                                             \n",
       "Action Man-Operation Extreme                    1\n",
       "Advance Wars: Days of Ruin                      1\n",
       "Adventure                                       1\n",
       "Agarest Senki: Re-appearance                    1\n",
       "Air-Sea Battle                                  1\n",
       "...                                           ...\n",
       "Yu Yu Hakusho: Dark Tournament                  1\n",
       "Yu-Gi-Oh! 5D's Wheelie Breakers (JP sales)      1\n",
       "Zero: Tsukihami no Kamen                        1\n",
       "eJay Clubworld                                  1\n",
       "wwe Smackdown vs. Raw 2006                      1\n",
       "\n",
       "[133 rows x 1 columns]"
      ]
     },
     "execution_count": 20,
     "metadata": {},
     "output_type": "execute_result"
    }
   ],
   "source": [
    "# построение свода по оставшимся строкам с пропусками в year_of_release\n",
    "no_year = df[df['year_of_release'].isnull()].pivot_table(index='name', values='genre',aggfunc='count')\n",
    "no_year"
   ]
  },
  {
   "cell_type": "markdown",
   "metadata": {},
   "source": [
    "Очевидно, что игры с одним пропуском уникальны в датафрейме, иначе в итерации выше пропуски были бы заполнены первым значением в группе при сортировке по названию. Эти пропуски мы заполнить не можем, поэтому эти строки нужно удалить, как неинформативные.\n",
    "\n",
    "Проверим, почему остались пропуски в играх, название которых встречается в датафрейме более 1 раза."
   ]
  },
  {
   "cell_type": "code",
   "execution_count": 21,
   "metadata": {},
   "outputs": [
    {
     "data": {
      "text/html": [
       "<div>\n",
       "<style scoped>\n",
       "    .dataframe tbody tr th:only-of-type {\n",
       "        vertical-align: middle;\n",
       "    }\n",
       "\n",
       "    .dataframe tbody tr th {\n",
       "        vertical-align: top;\n",
       "    }\n",
       "\n",
       "    .dataframe thead th {\n",
       "        text-align: right;\n",
       "    }\n",
       "</style>\n",
       "<table border=\"1\" class=\"dataframe\">\n",
       "  <thead>\n",
       "    <tr style=\"text-align: right;\">\n",
       "      <th></th>\n",
       "      <th>genre</th>\n",
       "    </tr>\n",
       "    <tr>\n",
       "      <th>name</th>\n",
       "      <th></th>\n",
       "    </tr>\n",
       "  </thead>\n",
       "  <tbody>\n",
       "    <tr>\n",
       "      <th>All-Star Baseball 2005</th>\n",
       "      <td>2</td>\n",
       "    </tr>\n",
       "    <tr>\n",
       "      <th>Backbreaker</th>\n",
       "      <td>2</td>\n",
       "    </tr>\n",
       "    <tr>\n",
       "      <th>Combat Elite: WWII Paratroopers</th>\n",
       "      <td>2</td>\n",
       "    </tr>\n",
       "    <tr>\n",
       "      <th>Port Royale 3</th>\n",
       "      <td>2</td>\n",
       "    </tr>\n",
       "    <tr>\n",
       "      <th>Robert Ludlum's The Bourne Conspiracy</th>\n",
       "      <td>2</td>\n",
       "    </tr>\n",
       "    <tr>\n",
       "      <th>Rock Band</th>\n",
       "      <td>4</td>\n",
       "    </tr>\n",
       "    <tr>\n",
       "      <th>Silent Hill: Homecoming</th>\n",
       "      <td>2</td>\n",
       "    </tr>\n",
       "    <tr>\n",
       "      <th>Test Drive Unlimited 2</th>\n",
       "      <td>3</td>\n",
       "    </tr>\n",
       "    <tr>\n",
       "      <th>The Daring Game for Girls</th>\n",
       "      <td>2</td>\n",
       "    </tr>\n",
       "    <tr>\n",
       "      <th>Virtua Quest</th>\n",
       "      <td>2</td>\n",
       "    </tr>\n",
       "  </tbody>\n",
       "</table>\n",
       "</div>"
      ],
      "text/plain": [
       "                                       genre\n",
       "name                                        \n",
       "All-Star Baseball 2005                     2\n",
       "Backbreaker                                2\n",
       "Combat Elite: WWII Paratroopers            2\n",
       "Port Royale 3                              2\n",
       "Robert Ludlum's The Bourne Conspiracy      2\n",
       "Rock Band                                  4\n",
       "Silent Hill: Homecoming                    2\n",
       "Test Drive Unlimited 2                     3\n",
       "The Daring Game for Girls                  2\n",
       "Virtua Quest                               2"
      ]
     },
     "execution_count": 21,
     "metadata": {},
     "output_type": "execute_result"
    }
   ],
   "source": [
    "# вывод списка игр с пропусками в year_of_release, названия которых встречаются в дф более 1 раза\n",
    "no_year.query('genre > 1') "
   ]
  },
  {
   "cell_type": "markdown",
   "metadata": {},
   "source": [
    "Выведем информацию по игре, встречающейся в датафрейме 4 раза."
   ]
  },
  {
   "cell_type": "code",
   "execution_count": 22,
   "metadata": {
    "scrolled": true
   },
   "outputs": [
    {
     "data": {
      "text/html": [
       "<div>\n",
       "<style scoped>\n",
       "    .dataframe tbody tr th:only-of-type {\n",
       "        vertical-align: middle;\n",
       "    }\n",
       "\n",
       "    .dataframe tbody tr th {\n",
       "        vertical-align: top;\n",
       "    }\n",
       "\n",
       "    .dataframe thead th {\n",
       "        text-align: right;\n",
       "    }\n",
       "</style>\n",
       "<table border=\"1\" class=\"dataframe\">\n",
       "  <thead>\n",
       "    <tr style=\"text-align: right;\">\n",
       "      <th></th>\n",
       "      <th>name</th>\n",
       "      <th>platform</th>\n",
       "      <th>year_of_release</th>\n",
       "      <th>genre</th>\n",
       "      <th>na_sales</th>\n",
       "      <th>eu_sales</th>\n",
       "      <th>jp_sales</th>\n",
       "      <th>other_sales</th>\n",
       "      <th>critic_score</th>\n",
       "      <th>user_score</th>\n",
       "      <th>rating</th>\n",
       "    </tr>\n",
       "  </thead>\n",
       "  <tbody>\n",
       "    <tr>\n",
       "      <th>627</th>\n",
       "      <td>Rock Band</td>\n",
       "      <td>X360</td>\n",
       "      <td>NaN</td>\n",
       "      <td>Misc</td>\n",
       "      <td>1.93</td>\n",
       "      <td>0.33</td>\n",
       "      <td>0.0</td>\n",
       "      <td>0.21</td>\n",
       "      <td>92.0</td>\n",
       "      <td>8.2</td>\n",
       "      <td>T</td>\n",
       "    </tr>\n",
       "    <tr>\n",
       "      <th>804</th>\n",
       "      <td>Rock Band</td>\n",
       "      <td>Wii</td>\n",
       "      <td>NaN</td>\n",
       "      <td>Misc</td>\n",
       "      <td>1.33</td>\n",
       "      <td>0.56</td>\n",
       "      <td>0.0</td>\n",
       "      <td>0.20</td>\n",
       "      <td>80.0</td>\n",
       "      <td>6.3</td>\n",
       "      <td>T</td>\n",
       "    </tr>\n",
       "    <tr>\n",
       "      <th>1141</th>\n",
       "      <td>Rock Band</td>\n",
       "      <td>PS3</td>\n",
       "      <td>NaN</td>\n",
       "      <td>Misc</td>\n",
       "      <td>0.99</td>\n",
       "      <td>0.41</td>\n",
       "      <td>0.0</td>\n",
       "      <td>0.22</td>\n",
       "      <td>92.0</td>\n",
       "      <td>8.4</td>\n",
       "      <td>T</td>\n",
       "    </tr>\n",
       "    <tr>\n",
       "      <th>1839</th>\n",
       "      <td>Rock Band</td>\n",
       "      <td>PS2</td>\n",
       "      <td>NaN</td>\n",
       "      <td>Misc</td>\n",
       "      <td>0.71</td>\n",
       "      <td>0.06</td>\n",
       "      <td>0.0</td>\n",
       "      <td>0.35</td>\n",
       "      <td>82.0</td>\n",
       "      <td>6.8</td>\n",
       "      <td>T</td>\n",
       "    </tr>\n",
       "  </tbody>\n",
       "</table>\n",
       "</div>"
      ],
      "text/plain": [
       "           name platform  year_of_release genre  na_sales  eu_sales  jp_sales  \\\n",
       "627   Rock Band     X360              NaN  Misc      1.93      0.33       0.0   \n",
       "804   Rock Band      Wii              NaN  Misc      1.33      0.56       0.0   \n",
       "1141  Rock Band      PS3              NaN  Misc      0.99      0.41       0.0   \n",
       "1839  Rock Band      PS2              NaN  Misc      0.71      0.06       0.0   \n",
       "\n",
       "      other_sales  critic_score user_score rating  \n",
       "627          0.21          92.0        8.2      T  \n",
       "804          0.20          80.0        6.3      T  \n",
       "1141         0.22          92.0        8.4      T  \n",
       "1839         0.35          82.0        6.8      T  "
      ]
     },
     "execution_count": 22,
     "metadata": {},
     "output_type": "execute_result"
    }
   ],
   "source": [
    "df[df['name'] == 'Rock Band'] # вывод иинформации по игре Rock Band"
   ]
  },
  {
   "cell_type": "markdown",
   "metadata": {},
   "source": [
    "Поскольку год выпуска не заполнен ни по одной из платформ, все строки в year_of_release остались пустыми после обработки. У нас нет информации для заполнения этих пропусков, поэтому удалим их из анализа."
   ]
  },
  {
   "cell_type": "markdown",
   "metadata": {},
   "source": [
    "Удалим оставшиеся строки с пропусками в year_of_release."
   ]
  },
  {
   "cell_type": "code",
   "execution_count": 23,
   "metadata": {
    "scrolled": true
   },
   "outputs": [],
   "source": [
    "# удаление оставшихся строк с пропущенными значениями в колонке year_of_release\n",
    "df = df.dropna(subset=['year_of_release']).reset_index(drop=True)"
   ]
  },
  {
   "cell_type": "markdown",
   "metadata": {},
   "source": [
    "Проверим результат."
   ]
  },
  {
   "cell_type": "code",
   "execution_count": 24,
   "metadata": {
    "scrolled": false
   },
   "outputs": [
    {
     "name": "stdout",
     "output_type": "stream",
     "text": [
      "<class 'pandas.core.frame.DataFrame'>\n",
      "RangeIndex: 16567 entries, 0 to 16566\n",
      "Data columns (total 11 columns):\n",
      " #   Column           Non-Null Count  Dtype  \n",
      "---  ------           --------------  -----  \n",
      " 0   name             16567 non-null  object \n",
      " 1   platform         16567 non-null  object \n",
      " 2   year_of_release  16567 non-null  float64\n",
      " 3   genre            16567 non-null  object \n",
      " 4   na_sales         16567 non-null  float64\n",
      " 5   eu_sales         16567 non-null  float64\n",
      " 6   jp_sales         16567 non-null  float64\n",
      " 7   other_sales      16567 non-null  float64\n",
      " 8   critic_score     8075 non-null   float64\n",
      " 9   user_score       9934 non-null   object \n",
      " 10  rating           9868 non-null   object \n",
      "dtypes: float64(6), object(5)\n",
      "memory usage: 1.4+ MB\n"
     ]
    }
   ],
   "source": [
    "df.info() # вывод общей информации о датафрейме"
   ]
  },
  {
   "cell_type": "markdown",
   "metadata": {},
   "source": [
    "В year_of_release не осталось строк с пропусками, 146 строк удалены."
   ]
  },
  {
   "cell_type": "markdown",
   "metadata": {},
   "source": [
    "**Столбец critic_score**"
   ]
  },
  {
   "cell_type": "markdown",
   "metadata": {},
   "source": [
    "Проверим, какие значения встречаются в столбце critic_score."
   ]
  },
  {
   "cell_type": "code",
   "execution_count": 25,
   "metadata": {
    "scrolled": false
   },
   "outputs": [
    {
     "data": {
      "text/plain": [
       "array([nan, 71., 75., 76., 70., 51., 65., 54., 61., 38., 46., 41., 63.,\n",
       "       79., 52., 73., 78., 82., 83., 69., 74., 62., 39., 55., 77., 59.,\n",
       "       56., 64., 72., 47., 50., 45., 35., 60., 80., 53., 66., 48., 30.,\n",
       "       33., 68., 42., 49., 89., 84., 92., 90., 58., 57., 67., 81., 85.,\n",
       "       88., 36., 43., 86., 87., 44., 27., 31., 19., 37., 26., 40., 91.,\n",
       "       34., 96., 94., 25., 29., 93., 32., 23., 20., 28., 24., 95., 97.,\n",
       "       98., 17., 13., 21.])"
      ]
     },
     "execution_count": 25,
     "metadata": {},
     "output_type": "execute_result"
    }
   ],
   "source": [
    "# вывод уникальных значений столбца critic_score\n",
    "df['critic_score'].unique()"
   ]
  },
  {
   "cell_type": "markdown",
   "metadata": {},
   "source": [
    "Значения адекватные, находятся в диапазоне 20-98. Вероятная причина пропусков - ошибка выгрузки данных либо отсутствие оценки игры критиками (например, если игра не проходила проверку у критиков). Поскольку пропусков много (более 50% от выборки), удаление строк с пропусками нежелательно. Заполним строки с пропусками в critic_score фиктивными значениями, чтобы они не мешали анализу и могли быть легко из него исключены при необходимости."
   ]
  },
  {
   "cell_type": "code",
   "execution_count": 26,
   "metadata": {},
   "outputs": [],
   "source": [
    "# заполнение оставшихся пропусков в critic_score фиктивным значением 999\n",
    "df['critic_score'] = df['critic_score'].fillna(999)"
   ]
  },
  {
   "cell_type": "markdown",
   "metadata": {},
   "source": [
    "Проверим результат."
   ]
  },
  {
   "cell_type": "code",
   "execution_count": 27,
   "metadata": {
    "scrolled": true
   },
   "outputs": [
    {
     "name": "stdout",
     "output_type": "stream",
     "text": [
      "<class 'pandas.core.frame.DataFrame'>\n",
      "RangeIndex: 16567 entries, 0 to 16566\n",
      "Data columns (total 11 columns):\n",
      " #   Column           Non-Null Count  Dtype  \n",
      "---  ------           --------------  -----  \n",
      " 0   name             16567 non-null  object \n",
      " 1   platform         16567 non-null  object \n",
      " 2   year_of_release  16567 non-null  float64\n",
      " 3   genre            16567 non-null  object \n",
      " 4   na_sales         16567 non-null  float64\n",
      " 5   eu_sales         16567 non-null  float64\n",
      " 6   jp_sales         16567 non-null  float64\n",
      " 7   other_sales      16567 non-null  float64\n",
      " 8   critic_score     16567 non-null  float64\n",
      " 9   user_score       9934 non-null   object \n",
      " 10  rating           9868 non-null   object \n",
      "dtypes: float64(6), object(5)\n",
      "memory usage: 1.4+ MB\n"
     ]
    }
   ],
   "source": [
    "# вывод общей информации по датафрейму\n",
    "df.info()"
   ]
  },
  {
   "cell_type": "markdown",
   "metadata": {},
   "source": [
    "Пропусков в колонке critic_score не осталось."
   ]
  },
  {
   "cell_type": "markdown",
   "metadata": {},
   "source": [
    "**Столбец user_score**"
   ]
  },
  {
   "cell_type": "markdown",
   "metadata": {},
   "source": [
    "Проверим, какие значения встречаются в столбце critic_score."
   ]
  },
  {
   "cell_type": "code",
   "execution_count": 28,
   "metadata": {
    "scrolled": false
   },
   "outputs": [
    {
     "data": {
      "text/plain": [
       "array([nan, '7.9', '8.5', '8.9', '8.7', '4.6', '7.1', '6.6', '7.5', 'tbd',\n",
       "       '6.3', '6.7', '3.2', '6.2', '6', '5.8', '8.3', '5.7', '6.8', '8',\n",
       "       '6.9', '5.6', '9', '7.7', '7.8', '8.1', '7.4', '4.3', '4.4', '8.2',\n",
       "       '4.9', '7.2', '6.4', '5.9', '5.2', '4', '5.3', '1.1', '4.2', '8.4',\n",
       "       '9.1', '9.4', '6.5', '3', '7', '6.1', '7.3', '5.5', '3.8', '3.6',\n",
       "       '3.5', '7.6', '9.2', '5.4', '4.8', '4.5', '5.1', '8.8', '2.8', '2',\n",
       "       '3.7', '2.5', '5', '2.7', '3.1', '1.3', '8.6', '4.1', '1.7', '4.7',\n",
       "       '3.4', '1.4', '2.1', '0.3', '1.5', '9.6', '2.2', '9.7', '2.4',\n",
       "       '1.8', '2.6', '3.3', '0.5', '9.5', '1.9', '9.3', '0.9', '2.9',\n",
       "       '3.9', '1.6', '1', '2.3', '0.6', '0.7', '0.2', '1.2', '0'],\n",
       "      dtype=object)"
      ]
     },
     "execution_count": 28,
     "metadata": {},
     "output_type": "execute_result"
    }
   ],
   "source": [
    "# вывод уникальных значений столбца critic_score\n",
    "df['user_score'].unique()"
   ]
  },
  {
   "cell_type": "markdown",
   "metadata": {},
   "source": [
    "Значения адекватные, находятся в диапазоне 0-9,7. Помимо пропусков, в колонке critic_score есть значения 'tbd', которые будут мешать нам при изменении типа данных. Вероятная причина пропусков - ошибка выгрузки данных либо отсутствие оценки игры пользователями (например, если игра не проходила проверку у пользователей). Поскольку пропусков много (более 40% от выборки), удаление строк с пропусками нежелательно. Заполним строки с пропусками в critic_score фиктивными значениями, чтобы они не мешали анализу и могли быть легко из него исключены при необходимости."
   ]
  },
  {
   "cell_type": "code",
   "execution_count": 29,
   "metadata": {},
   "outputs": [],
   "source": [
    "# сортировка датафрейма по названию игры и оценке критиков\n",
    "df = df.sort_values(['name', 'user_score'])"
   ]
  },
  {
   "cell_type": "markdown",
   "metadata": {},
   "source": [
    "Посмотрим, как выглядит срез со значениями 'tbd' и пропусками в critic_score."
   ]
  },
  {
   "cell_type": "code",
   "execution_count": 30,
   "metadata": {
    "scrolled": true
   },
   "outputs": [
    {
     "data": {
      "text/html": [
       "<div>\n",
       "<style scoped>\n",
       "    .dataframe tbody tr th:only-of-type {\n",
       "        vertical-align: middle;\n",
       "    }\n",
       "\n",
       "    .dataframe tbody tr th {\n",
       "        vertical-align: top;\n",
       "    }\n",
       "\n",
       "    .dataframe thead th {\n",
       "        text-align: right;\n",
       "    }\n",
       "</style>\n",
       "<table border=\"1\" class=\"dataframe\">\n",
       "  <thead>\n",
       "    <tr style=\"text-align: right;\">\n",
       "      <th></th>\n",
       "      <th>name</th>\n",
       "      <th>platform</th>\n",
       "      <th>year_of_release</th>\n",
       "      <th>genre</th>\n",
       "      <th>na_sales</th>\n",
       "      <th>eu_sales</th>\n",
       "      <th>jp_sales</th>\n",
       "      <th>other_sales</th>\n",
       "      <th>critic_score</th>\n",
       "      <th>user_score</th>\n",
       "      <th>rating</th>\n",
       "    </tr>\n",
       "  </thead>\n",
       "  <tbody>\n",
       "    <tr>\n",
       "      <th>22</th>\n",
       "      <td>007: Quantum of Solace</td>\n",
       "      <td>DS</td>\n",
       "      <td>2008.0</td>\n",
       "      <td>Action</td>\n",
       "      <td>0.11</td>\n",
       "      <td>0.01</td>\n",
       "      <td>0.0</td>\n",
       "      <td>0.01</td>\n",
       "      <td>65.0</td>\n",
       "      <td>tbd</td>\n",
       "      <td>T</td>\n",
       "    </tr>\n",
       "    <tr>\n",
       "      <th>29</th>\n",
       "      <td>10 Minute Solution</td>\n",
       "      <td>Wii</td>\n",
       "      <td>2010.0</td>\n",
       "      <td>Sports</td>\n",
       "      <td>0.06</td>\n",
       "      <td>0.01</td>\n",
       "      <td>0.0</td>\n",
       "      <td>0.01</td>\n",
       "      <td>999.0</td>\n",
       "      <td>tbd</td>\n",
       "      <td>E</td>\n",
       "    </tr>\n",
       "    <tr>\n",
       "      <th>34</th>\n",
       "      <td>1001 Touch Games</td>\n",
       "      <td>DS</td>\n",
       "      <td>2011.0</td>\n",
       "      <td>Action</td>\n",
       "      <td>0.11</td>\n",
       "      <td>0.16</td>\n",
       "      <td>0.0</td>\n",
       "      <td>0.04</td>\n",
       "      <td>999.0</td>\n",
       "      <td>tbd</td>\n",
       "      <td>E</td>\n",
       "    </tr>\n",
       "    <tr>\n",
       "      <th>35</th>\n",
       "      <td>101-in-1 Explosive Megamix</td>\n",
       "      <td>DS</td>\n",
       "      <td>2008.0</td>\n",
       "      <td>Puzzle</td>\n",
       "      <td>0.05</td>\n",
       "      <td>0.12</td>\n",
       "      <td>0.0</td>\n",
       "      <td>0.02</td>\n",
       "      <td>46.0</td>\n",
       "      <td>tbd</td>\n",
       "      <td>E</td>\n",
       "    </tr>\n",
       "    <tr>\n",
       "      <th>37</th>\n",
       "      <td>101-in-1 Sports Megamix</td>\n",
       "      <td>DS</td>\n",
       "      <td>2010.0</td>\n",
       "      <td>Sports</td>\n",
       "      <td>0.08</td>\n",
       "      <td>0.00</td>\n",
       "      <td>0.0</td>\n",
       "      <td>0.01</td>\n",
       "      <td>999.0</td>\n",
       "      <td>tbd</td>\n",
       "      <td>E10+</td>\n",
       "    </tr>\n",
       "    <tr>\n",
       "      <th>...</th>\n",
       "      <td>...</td>\n",
       "      <td>...</td>\n",
       "      <td>...</td>\n",
       "      <td>...</td>\n",
       "      <td>...</td>\n",
       "      <td>...</td>\n",
       "      <td>...</td>\n",
       "      <td>...</td>\n",
       "      <td>...</td>\n",
       "      <td>...</td>\n",
       "      <td>...</td>\n",
       "    </tr>\n",
       "    <tr>\n",
       "      <th>16560</th>\n",
       "      <td>thinkSMART</td>\n",
       "      <td>DS</td>\n",
       "      <td>2010.0</td>\n",
       "      <td>Misc</td>\n",
       "      <td>0.09</td>\n",
       "      <td>0.00</td>\n",
       "      <td>0.0</td>\n",
       "      <td>0.01</td>\n",
       "      <td>999.0</td>\n",
       "      <td>tbd</td>\n",
       "      <td>E</td>\n",
       "    </tr>\n",
       "    <tr>\n",
       "      <th>16561</th>\n",
       "      <td>thinkSMART FAMILY!</td>\n",
       "      <td>Wii</td>\n",
       "      <td>2010.0</td>\n",
       "      <td>Misc</td>\n",
       "      <td>0.03</td>\n",
       "      <td>0.00</td>\n",
       "      <td>0.0</td>\n",
       "      <td>0.00</td>\n",
       "      <td>999.0</td>\n",
       "      <td>tbd</td>\n",
       "      <td>E</td>\n",
       "    </tr>\n",
       "    <tr>\n",
       "      <th>16562</th>\n",
       "      <td>thinkSMART: Chess for Kids</td>\n",
       "      <td>DS</td>\n",
       "      <td>2011.0</td>\n",
       "      <td>Misc</td>\n",
       "      <td>0.01</td>\n",
       "      <td>0.00</td>\n",
       "      <td>0.0</td>\n",
       "      <td>0.00</td>\n",
       "      <td>999.0</td>\n",
       "      <td>tbd</td>\n",
       "      <td>E</td>\n",
       "    </tr>\n",
       "    <tr>\n",
       "      <th>16563</th>\n",
       "      <td>uDraw Studio</td>\n",
       "      <td>Wii</td>\n",
       "      <td>2010.0</td>\n",
       "      <td>Misc</td>\n",
       "      <td>1.65</td>\n",
       "      <td>0.57</td>\n",
       "      <td>0.0</td>\n",
       "      <td>0.20</td>\n",
       "      <td>71.0</td>\n",
       "      <td>tbd</td>\n",
       "      <td>E</td>\n",
       "    </tr>\n",
       "    <tr>\n",
       "      <th>16564</th>\n",
       "      <td>uDraw Studio: Instant Artist</td>\n",
       "      <td>Wii</td>\n",
       "      <td>2011.0</td>\n",
       "      <td>Misc</td>\n",
       "      <td>0.06</td>\n",
       "      <td>0.09</td>\n",
       "      <td>0.0</td>\n",
       "      <td>0.02</td>\n",
       "      <td>999.0</td>\n",
       "      <td>tbd</td>\n",
       "      <td>E</td>\n",
       "    </tr>\n",
       "  </tbody>\n",
       "</table>\n",
       "<p>2394 rows × 11 columns</p>\n",
       "</div>"
      ],
      "text/plain": [
       "                               name platform  year_of_release   genre  \\\n",
       "22           007: Quantum of Solace       DS           2008.0  Action   \n",
       "29               10 Minute Solution      Wii           2010.0  Sports   \n",
       "34                 1001 Touch Games       DS           2011.0  Action   \n",
       "35       101-in-1 Explosive Megamix       DS           2008.0  Puzzle   \n",
       "37          101-in-1 Sports Megamix       DS           2010.0  Sports   \n",
       "...                             ...      ...              ...     ...   \n",
       "16560                    thinkSMART       DS           2010.0    Misc   \n",
       "16561            thinkSMART FAMILY!      Wii           2010.0    Misc   \n",
       "16562    thinkSMART: Chess for Kids       DS           2011.0    Misc   \n",
       "16563                  uDraw Studio      Wii           2010.0    Misc   \n",
       "16564  uDraw Studio: Instant Artist      Wii           2011.0    Misc   \n",
       "\n",
       "       na_sales  eu_sales  jp_sales  other_sales  critic_score user_score  \\\n",
       "22         0.11      0.01       0.0         0.01          65.0        tbd   \n",
       "29         0.06      0.01       0.0         0.01         999.0        tbd   \n",
       "34         0.11      0.16       0.0         0.04         999.0        tbd   \n",
       "35         0.05      0.12       0.0         0.02          46.0        tbd   \n",
       "37         0.08      0.00       0.0         0.01         999.0        tbd   \n",
       "...         ...       ...       ...          ...           ...        ...   \n",
       "16560      0.09      0.00       0.0         0.01         999.0        tbd   \n",
       "16561      0.03      0.00       0.0         0.00         999.0        tbd   \n",
       "16562      0.01      0.00       0.0         0.00         999.0        tbd   \n",
       "16563      1.65      0.57       0.0         0.20          71.0        tbd   \n",
       "16564      0.06      0.09       0.0         0.02         999.0        tbd   \n",
       "\n",
       "      rating  \n",
       "22         T  \n",
       "29         E  \n",
       "34         E  \n",
       "35         E  \n",
       "37      E10+  \n",
       "...      ...  \n",
       "16560      E  \n",
       "16561      E  \n",
       "16562      E  \n",
       "16563      E  \n",
       "16564      E  \n",
       "\n",
       "[2394 rows x 11 columns]"
      ]
     },
     "execution_count": 30,
     "metadata": {},
     "output_type": "execute_result"
    }
   ],
   "source": [
    "# вывод среза со значениями 'tbd' в critic_score\n",
    "df[df['user_score'] == 'tbd']"
   ]
  },
  {
   "cell_type": "code",
   "execution_count": 31,
   "metadata": {},
   "outputs": [
    {
     "data": {
      "text/html": [
       "<div>\n",
       "<style scoped>\n",
       "    .dataframe tbody tr th:only-of-type {\n",
       "        vertical-align: middle;\n",
       "    }\n",
       "\n",
       "    .dataframe tbody tr th {\n",
       "        vertical-align: top;\n",
       "    }\n",
       "\n",
       "    .dataframe thead th {\n",
       "        text-align: right;\n",
       "    }\n",
       "</style>\n",
       "<table border=\"1\" class=\"dataframe\">\n",
       "  <thead>\n",
       "    <tr style=\"text-align: right;\">\n",
       "      <th></th>\n",
       "      <th>name</th>\n",
       "      <th>platform</th>\n",
       "      <th>year_of_release</th>\n",
       "      <th>genre</th>\n",
       "      <th>na_sales</th>\n",
       "      <th>eu_sales</th>\n",
       "      <th>jp_sales</th>\n",
       "      <th>other_sales</th>\n",
       "      <th>critic_score</th>\n",
       "      <th>user_score</th>\n",
       "      <th>rating</th>\n",
       "    </tr>\n",
       "  </thead>\n",
       "  <tbody>\n",
       "    <tr>\n",
       "      <th>0</th>\n",
       "      <td>Beyblade Burst</td>\n",
       "      <td>3DS</td>\n",
       "      <td>2016.0</td>\n",
       "      <td>Role-Playing</td>\n",
       "      <td>0.00</td>\n",
       "      <td>0.00</td>\n",
       "      <td>0.03</td>\n",
       "      <td>0.00</td>\n",
       "      <td>999.0</td>\n",
       "      <td>NaN</td>\n",
       "      <td>NaN</td>\n",
       "    </tr>\n",
       "    <tr>\n",
       "      <th>1</th>\n",
       "      <td>Fire Emblem Fates</td>\n",
       "      <td>3DS</td>\n",
       "      <td>2015.0</td>\n",
       "      <td>Role-Playing</td>\n",
       "      <td>0.81</td>\n",
       "      <td>0.23</td>\n",
       "      <td>0.52</td>\n",
       "      <td>0.11</td>\n",
       "      <td>999.0</td>\n",
       "      <td>NaN</td>\n",
       "      <td>NaN</td>\n",
       "    </tr>\n",
       "    <tr>\n",
       "      <th>2</th>\n",
       "      <td>Frozen: Olaf's Quest</td>\n",
       "      <td>3DS</td>\n",
       "      <td>2013.0</td>\n",
       "      <td>Platform</td>\n",
       "      <td>0.27</td>\n",
       "      <td>0.27</td>\n",
       "      <td>0.00</td>\n",
       "      <td>0.05</td>\n",
       "      <td>999.0</td>\n",
       "      <td>NaN</td>\n",
       "      <td>NaN</td>\n",
       "    </tr>\n",
       "    <tr>\n",
       "      <th>3</th>\n",
       "      <td>Frozen: Olaf's Quest</td>\n",
       "      <td>DS</td>\n",
       "      <td>2013.0</td>\n",
       "      <td>Platform</td>\n",
       "      <td>0.21</td>\n",
       "      <td>0.26</td>\n",
       "      <td>0.00</td>\n",
       "      <td>0.04</td>\n",
       "      <td>999.0</td>\n",
       "      <td>NaN</td>\n",
       "      <td>NaN</td>\n",
       "    </tr>\n",
       "    <tr>\n",
       "      <th>4</th>\n",
       "      <td>Haikyu!! Cross Team Match!</td>\n",
       "      <td>3DS</td>\n",
       "      <td>2016.0</td>\n",
       "      <td>Adventure</td>\n",
       "      <td>0.00</td>\n",
       "      <td>0.00</td>\n",
       "      <td>0.04</td>\n",
       "      <td>0.00</td>\n",
       "      <td>999.0</td>\n",
       "      <td>NaN</td>\n",
       "      <td>NaN</td>\n",
       "    </tr>\n",
       "    <tr>\n",
       "      <th>...</th>\n",
       "      <td>...</td>\n",
       "      <td>...</td>\n",
       "      <td>...</td>\n",
       "      <td>...</td>\n",
       "      <td>...</td>\n",
       "      <td>...</td>\n",
       "      <td>...</td>\n",
       "      <td>...</td>\n",
       "      <td>...</td>\n",
       "      <td>...</td>\n",
       "      <td>...</td>\n",
       "    </tr>\n",
       "    <tr>\n",
       "      <th>16540</th>\n",
       "      <td>ef - a fairy tale of the two.</td>\n",
       "      <td>PS2</td>\n",
       "      <td>2010.0</td>\n",
       "      <td>Adventure</td>\n",
       "      <td>0.00</td>\n",
       "      <td>0.00</td>\n",
       "      <td>0.01</td>\n",
       "      <td>0.00</td>\n",
       "      <td>999.0</td>\n",
       "      <td>NaN</td>\n",
       "      <td>NaN</td>\n",
       "    </tr>\n",
       "    <tr>\n",
       "      <th>16541</th>\n",
       "      <td>everGirl</td>\n",
       "      <td>GBA</td>\n",
       "      <td>2005.0</td>\n",
       "      <td>Adventure</td>\n",
       "      <td>0.05</td>\n",
       "      <td>0.02</td>\n",
       "      <td>0.00</td>\n",
       "      <td>0.00</td>\n",
       "      <td>999.0</td>\n",
       "      <td>NaN</td>\n",
       "      <td>NaN</td>\n",
       "    </tr>\n",
       "    <tr>\n",
       "      <th>16558</th>\n",
       "      <td>pro evolution soccer 2011</td>\n",
       "      <td>PC</td>\n",
       "      <td>2010.0</td>\n",
       "      <td>Sports</td>\n",
       "      <td>0.00</td>\n",
       "      <td>0.05</td>\n",
       "      <td>0.00</td>\n",
       "      <td>0.01</td>\n",
       "      <td>79.0</td>\n",
       "      <td>NaN</td>\n",
       "      <td>NaN</td>\n",
       "    </tr>\n",
       "    <tr>\n",
       "      <th>16559</th>\n",
       "      <td>th!nk Logic Trainer</td>\n",
       "      <td>Wii</td>\n",
       "      <td>2009.0</td>\n",
       "      <td>Puzzle</td>\n",
       "      <td>0.01</td>\n",
       "      <td>0.00</td>\n",
       "      <td>0.00</td>\n",
       "      <td>0.00</td>\n",
       "      <td>999.0</td>\n",
       "      <td>NaN</td>\n",
       "      <td>NaN</td>\n",
       "    </tr>\n",
       "    <tr>\n",
       "      <th>16566</th>\n",
       "      <td>¡Shin Chan Flipa en colores!</td>\n",
       "      <td>DS</td>\n",
       "      <td>2007.0</td>\n",
       "      <td>Platform</td>\n",
       "      <td>0.00</td>\n",
       "      <td>0.00</td>\n",
       "      <td>0.14</td>\n",
       "      <td>0.00</td>\n",
       "      <td>999.0</td>\n",
       "      <td>NaN</td>\n",
       "      <td>NaN</td>\n",
       "    </tr>\n",
       "  </tbody>\n",
       "</table>\n",
       "<p>6633 rows × 11 columns</p>\n",
       "</div>"
      ],
      "text/plain": [
       "                                name platform  year_of_release         genre  \\\n",
       "0                     Beyblade Burst      3DS           2016.0  Role-Playing   \n",
       "1                  Fire Emblem Fates      3DS           2015.0  Role-Playing   \n",
       "2               Frozen: Olaf's Quest      3DS           2013.0      Platform   \n",
       "3               Frozen: Olaf's Quest       DS           2013.0      Platform   \n",
       "4         Haikyu!! Cross Team Match!      3DS           2016.0     Adventure   \n",
       "...                              ...      ...              ...           ...   \n",
       "16540  ef - a fairy tale of the two.      PS2           2010.0     Adventure   \n",
       "16541                       everGirl      GBA           2005.0     Adventure   \n",
       "16558      pro evolution soccer 2011       PC           2010.0        Sports   \n",
       "16559            th!nk Logic Trainer      Wii           2009.0        Puzzle   \n",
       "16566   ¡Shin Chan Flipa en colores!       DS           2007.0      Platform   \n",
       "\n",
       "       na_sales  eu_sales  jp_sales  other_sales  critic_score user_score  \\\n",
       "0          0.00      0.00      0.03         0.00         999.0        NaN   \n",
       "1          0.81      0.23      0.52         0.11         999.0        NaN   \n",
       "2          0.27      0.27      0.00         0.05         999.0        NaN   \n",
       "3          0.21      0.26      0.00         0.04         999.0        NaN   \n",
       "4          0.00      0.00      0.04         0.00         999.0        NaN   \n",
       "...         ...       ...       ...          ...           ...        ...   \n",
       "16540      0.00      0.00      0.01         0.00         999.0        NaN   \n",
       "16541      0.05      0.02      0.00         0.00         999.0        NaN   \n",
       "16558      0.00      0.05      0.00         0.01          79.0        NaN   \n",
       "16559      0.01      0.00      0.00         0.00         999.0        NaN   \n",
       "16566      0.00      0.00      0.14         0.00         999.0        NaN   \n",
       "\n",
       "      rating  \n",
       "0        NaN  \n",
       "1        NaN  \n",
       "2        NaN  \n",
       "3        NaN  \n",
       "4        NaN  \n",
       "...      ...  \n",
       "16540    NaN  \n",
       "16541    NaN  \n",
       "16558    NaN  \n",
       "16559    NaN  \n",
       "16566    NaN  \n",
       "\n",
       "[6633 rows x 11 columns]"
      ]
     },
     "execution_count": 31,
     "metadata": {},
     "output_type": "execute_result"
    }
   ],
   "source": [
    "# вывод строк с пропусками в critic_score\n",
    "df[df['user_score'].isnull()]"
   ]
  },
  {
   "cell_type": "markdown",
   "metadata": {},
   "source": [
    "Заполним строки с пропусками в user_score фиктивными значениями, чтобы они не мешали анализу и могли быть легко из него исключены при необходимости."
   ]
  },
  {
   "cell_type": "code",
   "execution_count": 32,
   "metadata": {},
   "outputs": [],
   "source": [
    "# заполнение оставшихся пропусков в user_score фиктивным значением 999\n",
    "df['user_score'] = df['user_score'].fillna(999)"
   ]
  },
  {
   "cell_type": "markdown",
   "metadata": {},
   "source": [
    "Поскольку по сути значения 'tbd' и пропуски не несут никакой информации, обработаем их аналогично, заменив на фиктивное значение 999, точно отсутствующее в изначальной выборке."
   ]
  },
  {
   "cell_type": "code",
   "execution_count": 33,
   "metadata": {},
   "outputs": [],
   "source": [
    "# замена 'tbd' числом 999\n",
    "df.loc[df['user_score'] == 'tbd', 'user_score'] = 999"
   ]
  },
  {
   "cell_type": "markdown",
   "metadata": {},
   "source": [
    "Проверим типы данных в колонке user_score после заполнения пропусков и tbd."
   ]
  },
  {
   "cell_type": "code",
   "execution_count": 34,
   "metadata": {},
   "outputs": [
    {
     "data": {
      "text/plain": [
       "dtype('O')"
      ]
     },
     "execution_count": 34,
     "metadata": {},
     "output_type": "execute_result"
    }
   ],
   "source": [
    "# проверка типа данных в user_score\n",
    "df['user_score'].dtypes"
   ]
  },
  {
   "cell_type": "markdown",
   "metadata": {},
   "source": [
    "Исправим тип данных object на число с плавающей точкой."
   ]
  },
  {
   "cell_type": "code",
   "execution_count": 35,
   "metadata": {
    "scrolled": true
   },
   "outputs": [],
   "source": [
    "# исправление типа данных на число с плавающей точкой\n",
    "df['user_score'] = pd.to_numeric(df['user_score'])"
   ]
  },
  {
   "cell_type": "markdown",
   "metadata": {},
   "source": [
    "Проверим корректность исправления."
   ]
  },
  {
   "cell_type": "code",
   "execution_count": 36,
   "metadata": {
    "scrolled": true
   },
   "outputs": [
    {
     "data": {
      "text/plain": [
       "dtype('float64')"
      ]
     },
     "execution_count": 36,
     "metadata": {},
     "output_type": "execute_result"
    }
   ],
   "source": [
    "# проверка типа данных в user_score\n",
    "df['user_score'].dtypes"
   ]
  },
  {
   "cell_type": "markdown",
   "metadata": {},
   "source": [
    "Исправление проведено корректно, тип данных изменен."
   ]
  },
  {
   "cell_type": "code",
   "execution_count": 37,
   "metadata": {
    "scrolled": false
   },
   "outputs": [
    {
     "data": {
      "text/plain": [
       "0"
      ]
     },
     "execution_count": 37,
     "metadata": {},
     "output_type": "execute_result"
    }
   ],
   "source": [
    "# проверка наличия пропусков в колонке user_score после проведенного выше заполнения\n",
    "df['user_score'].isnull().sum()"
   ]
  },
  {
   "cell_type": "code",
   "execution_count": 38,
   "metadata": {
    "scrolled": false
   },
   "outputs": [
    {
     "name": "stdout",
     "output_type": "stream",
     "text": [
      "<class 'pandas.core.frame.DataFrame'>\n",
      "Int64Index: 16567 entries, 0 to 16566\n",
      "Data columns (total 11 columns):\n",
      " #   Column           Non-Null Count  Dtype  \n",
      "---  ------           --------------  -----  \n",
      " 0   name             16567 non-null  object \n",
      " 1   platform         16567 non-null  object \n",
      " 2   year_of_release  16567 non-null  float64\n",
      " 3   genre            16567 non-null  object \n",
      " 4   na_sales         16567 non-null  float64\n",
      " 5   eu_sales         16567 non-null  float64\n",
      " 6   jp_sales         16567 non-null  float64\n",
      " 7   other_sales      16567 non-null  float64\n",
      " 8   critic_score     16567 non-null  float64\n",
      " 9   user_score       16567 non-null  float64\n",
      " 10  rating           9868 non-null   object \n",
      "dtypes: float64(7), object(4)\n",
      "memory usage: 1.5+ MB\n"
     ]
    }
   ],
   "source": [
    "# вывод общей информации по датафрейму\n",
    "df.info()"
   ]
  },
  {
   "cell_type": "markdown",
   "metadata": {},
   "source": [
    "Пропусков в колонке user_score не осталось."
   ]
  },
  {
   "cell_type": "markdown",
   "metadata": {},
   "source": [
    "**Столбец rating**"
   ]
  },
  {
   "cell_type": "markdown",
   "metadata": {},
   "source": [
    "Проверим, какие значения встречаются в столбце rating."
   ]
  },
  {
   "cell_type": "code",
   "execution_count": 39,
   "metadata": {
    "scrolled": false
   },
   "outputs": [
    {
     "data": {
      "text/plain": [
       "array([nan, 'T', 'E', 'E10+', 'M', 'EC', 'AO', 'K-A', 'RP'], dtype=object)"
      ]
     },
     "execution_count": 39,
     "metadata": {},
     "output_type": "execute_result"
    }
   ],
   "source": [
    "# вывод уникальных значений столбца\n",
    "df['rating'].unique()"
   ]
  },
  {
   "cell_type": "markdown",
   "metadata": {},
   "source": [
    "Значения адекватные, вероятная причина пропусков - рейтинг ESRB используется в Северной Америке, при этом игра была выпущена для другой страныи и по данному рейтингу не оценивалась. Поскольку пропусков много (более 40% от выборки), удаление строк с пропусками нежелательно. Заполним строки с пропусками в rating пометкой no info, чтобы они не мешали анализу и могли быть легко из него исключены при необходимости."
   ]
  },
  {
   "cell_type": "code",
   "execution_count": 40,
   "metadata": {
    "scrolled": false
   },
   "outputs": [],
   "source": [
    "# заполнение строк с пропусками пометкой no info\n",
    "df['rating'] = df['rating'].fillna('no info')"
   ]
  },
  {
   "cell_type": "markdown",
   "metadata": {},
   "source": [
    "Проверим результат проведенной замены."
   ]
  },
  {
   "cell_type": "code",
   "execution_count": 41,
   "metadata": {
    "scrolled": true
   },
   "outputs": [
    {
     "data": {
      "text/plain": [
       "0"
      ]
     },
     "execution_count": 41,
     "metadata": {},
     "output_type": "execute_result"
    }
   ],
   "source": [
    "# вывод количества оставшихся строк с пропусками в rating\n",
    "df['rating'].isnull().sum()"
   ]
  },
  {
   "cell_type": "markdown",
   "metadata": {},
   "source": [
    "Пропусков не осталось."
   ]
  },
  {
   "cell_type": "markdown",
   "metadata": {},
   "source": [
    "### Приведение данных к нужным типам"
   ]
  },
  {
   "cell_type": "markdown",
   "metadata": {},
   "source": [
    "Исправим типы данных для удобства работы с ними."
   ]
  },
  {
   "cell_type": "markdown",
   "metadata": {},
   "source": [
    "Заменим тип данных в колонке year_of_release на число."
   ]
  },
  {
   "cell_type": "code",
   "execution_count": 42,
   "metadata": {},
   "outputs": [],
   "source": [
    "# замена типа данных на число\n",
    "df['year_of_release'] = df['year_of_release'].astype('int')"
   ]
  },
  {
   "cell_type": "markdown",
   "metadata": {},
   "source": [
    "Заменим все типы данных float64 на float32 и int64 на int32 для экономии памяти."
   ]
  },
  {
   "cell_type": "code",
   "execution_count": 43,
   "metadata": {},
   "outputs": [],
   "source": [
    "# замена типа данных float64 на float32\n",
    "df[df.select_dtypes(np.float64).columns] = df.select_dtypes(np.float64).astype(np.float32)"
   ]
  },
  {
   "cell_type": "code",
   "execution_count": 44,
   "metadata": {},
   "outputs": [],
   "source": [
    "# замена типа данных int64 на int32\n",
    "df[df.select_dtypes(np.int64).columns] = df.select_dtypes(np.int64).astype(np.int32)"
   ]
  },
  {
   "cell_type": "markdown",
   "metadata": {},
   "source": [
    "Оценим корректность и результат осуществленных замен."
   ]
  },
  {
   "cell_type": "code",
   "execution_count": 45,
   "metadata": {},
   "outputs": [
    {
     "name": "stdout",
     "output_type": "stream",
     "text": [
      "<class 'pandas.core.frame.DataFrame'>\n",
      "Int64Index: 16567 entries, 0 to 16566\n",
      "Data columns (total 11 columns):\n",
      " #   Column           Non-Null Count  Dtype  \n",
      "---  ------           --------------  -----  \n",
      " 0   name             16567 non-null  object \n",
      " 1   platform         16567 non-null  object \n",
      " 2   year_of_release  16567 non-null  int32  \n",
      " 3   genre            16567 non-null  object \n",
      " 4   na_sales         16567 non-null  float32\n",
      " 5   eu_sales         16567 non-null  float32\n",
      " 6   jp_sales         16567 non-null  float32\n",
      " 7   other_sales      16567 non-null  float32\n",
      " 8   critic_score     16567 non-null  float32\n",
      " 9   user_score       16567 non-null  float32\n",
      " 10  rating           16567 non-null  object \n",
      "dtypes: float32(6), int32(1), object(4)\n",
      "memory usage: 1.1+ MB\n"
     ]
    }
   ],
   "source": [
    "# вывод общей информации по датафрейму\n",
    "df.info()"
   ]
  },
  {
   "cell_type": "code",
   "execution_count": 46,
   "metadata": {
    "scrolled": false
   },
   "outputs": [
    {
     "data": {
      "text/html": [
       "<div>\n",
       "<style scoped>\n",
       "    .dataframe tbody tr th:only-of-type {\n",
       "        vertical-align: middle;\n",
       "    }\n",
       "\n",
       "    .dataframe tbody tr th {\n",
       "        vertical-align: top;\n",
       "    }\n",
       "\n",
       "    .dataframe thead th {\n",
       "        text-align: right;\n",
       "    }\n",
       "</style>\n",
       "<table border=\"1\" class=\"dataframe\">\n",
       "  <thead>\n",
       "    <tr style=\"text-align: right;\">\n",
       "      <th></th>\n",
       "      <th>name</th>\n",
       "      <th>platform</th>\n",
       "      <th>year_of_release</th>\n",
       "      <th>genre</th>\n",
       "      <th>na_sales</th>\n",
       "      <th>eu_sales</th>\n",
       "      <th>jp_sales</th>\n",
       "      <th>other_sales</th>\n",
       "      <th>critic_score</th>\n",
       "      <th>user_score</th>\n",
       "      <th>rating</th>\n",
       "    </tr>\n",
       "  </thead>\n",
       "  <tbody>\n",
       "    <tr>\n",
       "      <th>0</th>\n",
       "      <td>Beyblade Burst</td>\n",
       "      <td>3DS</td>\n",
       "      <td>2016</td>\n",
       "      <td>Role-Playing</td>\n",
       "      <td>0.00</td>\n",
       "      <td>0.00</td>\n",
       "      <td>0.03</td>\n",
       "      <td>0.00</td>\n",
       "      <td>999.0</td>\n",
       "      <td>999.0</td>\n",
       "      <td>no info</td>\n",
       "    </tr>\n",
       "    <tr>\n",
       "      <th>1</th>\n",
       "      <td>Fire Emblem Fates</td>\n",
       "      <td>3DS</td>\n",
       "      <td>2015</td>\n",
       "      <td>Role-Playing</td>\n",
       "      <td>0.81</td>\n",
       "      <td>0.23</td>\n",
       "      <td>0.52</td>\n",
       "      <td>0.11</td>\n",
       "      <td>999.0</td>\n",
       "      <td>999.0</td>\n",
       "      <td>no info</td>\n",
       "    </tr>\n",
       "    <tr>\n",
       "      <th>2</th>\n",
       "      <td>Frozen: Olaf's Quest</td>\n",
       "      <td>3DS</td>\n",
       "      <td>2013</td>\n",
       "      <td>Platform</td>\n",
       "      <td>0.27</td>\n",
       "      <td>0.27</td>\n",
       "      <td>0.00</td>\n",
       "      <td>0.05</td>\n",
       "      <td>999.0</td>\n",
       "      <td>999.0</td>\n",
       "      <td>no info</td>\n",
       "    </tr>\n",
       "    <tr>\n",
       "      <th>3</th>\n",
       "      <td>Frozen: Olaf's Quest</td>\n",
       "      <td>DS</td>\n",
       "      <td>2013</td>\n",
       "      <td>Platform</td>\n",
       "      <td>0.21</td>\n",
       "      <td>0.26</td>\n",
       "      <td>0.00</td>\n",
       "      <td>0.04</td>\n",
       "      <td>999.0</td>\n",
       "      <td>999.0</td>\n",
       "      <td>no info</td>\n",
       "    </tr>\n",
       "    <tr>\n",
       "      <th>4</th>\n",
       "      <td>Haikyu!! Cross Team Match!</td>\n",
       "      <td>3DS</td>\n",
       "      <td>2016</td>\n",
       "      <td>Adventure</td>\n",
       "      <td>0.00</td>\n",
       "      <td>0.00</td>\n",
       "      <td>0.04</td>\n",
       "      <td>0.00</td>\n",
       "      <td>999.0</td>\n",
       "      <td>999.0</td>\n",
       "      <td>no info</td>\n",
       "    </tr>\n",
       "  </tbody>\n",
       "</table>\n",
       "</div>"
      ],
      "text/plain": [
       "                          name platform  year_of_release         genre  \\\n",
       "0               Beyblade Burst      3DS             2016  Role-Playing   \n",
       "1            Fire Emblem Fates      3DS             2015  Role-Playing   \n",
       "2         Frozen: Olaf's Quest      3DS             2013      Platform   \n",
       "3         Frozen: Olaf's Quest       DS             2013      Platform   \n",
       "4   Haikyu!! Cross Team Match!      3DS             2016     Adventure   \n",
       "\n",
       "   na_sales  eu_sales  jp_sales  other_sales  critic_score  user_score  \\\n",
       "0      0.00      0.00      0.03         0.00         999.0       999.0   \n",
       "1      0.81      0.23      0.52         0.11         999.0       999.0   \n",
       "2      0.27      0.27      0.00         0.05         999.0       999.0   \n",
       "3      0.21      0.26      0.00         0.04         999.0       999.0   \n",
       "4      0.00      0.00      0.04         0.00         999.0       999.0   \n",
       "\n",
       "    rating  \n",
       "0  no info  \n",
       "1  no info  \n",
       "2  no info  \n",
       "3  no info  \n",
       "4  no info  "
      ]
     },
     "execution_count": 46,
     "metadata": {},
     "output_type": "execute_result"
    }
   ],
   "source": [
    "# вывод первых 5 строк датафрейма\n",
    "df.head()"
   ]
  },
  {
   "cell_type": "markdown",
   "metadata": {},
   "source": [
    "Замены типов данных осуществлены корректно."
   ]
  },
  {
   "cell_type": "markdown",
   "metadata": {},
   "source": [
    "### Обработка дубликатов"
   ]
  },
  {
   "cell_type": "markdown",
   "metadata": {},
   "source": [
    "Проверим данные на наличие дубликатов: явных и неявных."
   ]
  },
  {
   "cell_type": "markdown",
   "metadata": {},
   "source": [
    "**Явные дубликаты**"
   ]
  },
  {
   "cell_type": "code",
   "execution_count": 47,
   "metadata": {},
   "outputs": [
    {
     "data": {
      "text/plain": [
       "0"
      ]
     },
     "execution_count": 47,
     "metadata": {},
     "output_type": "execute_result"
    }
   ],
   "source": [
    "# подстчет строк - явных дубликатов\n",
    "df.duplicated().sum()"
   ]
  },
  {
   "cell_type": "markdown",
   "metadata": {},
   "source": [
    "Явных дубликатов в датафрейме нет."
   ]
  },
  {
   "cell_type": "markdown",
   "metadata": {},
   "source": [
    "**Неявные дубликаты**"
   ]
  },
  {
   "cell_type": "markdown",
   "metadata": {},
   "source": [
    "Проверим данные на наличие неявных дубликатов в каждой из колонок."
   ]
  },
  {
   "cell_type": "code",
   "execution_count": 48,
   "metadata": {
    "scrolled": true
   },
   "outputs": [
    {
     "data": {
      "text/plain": [
       "Need for Speed: Most Wanted                               12\n",
       "FIFA 14                                                    9\n",
       "Ratatouille                                                9\n",
       "Madden NFL 07                                              9\n",
       "LEGO Marvel Super Heroes                                   9\n",
       "                                                          ..\n",
       "Desert Strike Advance                                      1\n",
       "Death Trap                                                 1\n",
       "The King of Fighters Kyo                                   1\n",
       "Pirates of the Caribbean: The Curse of the Black Pearl     1\n",
       "Virtua Fighter                                             1\n",
       "Name: name, Length: 11426, dtype: int64"
      ]
     },
     "execution_count": 48,
     "metadata": {},
     "output_type": "execute_result"
    }
   ],
   "source": [
    "# вывод уникальных значений столбца name\n",
    "df['name'].value_counts()"
   ]
  },
  {
   "cell_type": "markdown",
   "metadata": {},
   "source": [
    "Из-за большого количества значений визуальная проверка не представляется возможной; в реальной жизни, вероятно, нужно будет анализировать названия по фрагментам для поиска вхождения."
   ]
  },
  {
   "cell_type": "code",
   "execution_count": 49,
   "metadata": {
    "scrolled": true
   },
   "outputs": [
    {
     "data": {
      "text/plain": [
       "PS2     2140\n",
       "DS      2129\n",
       "PS3     1320\n",
       "Wii     1301\n",
       "X360    1250\n",
       "PSP     1203\n",
       "PS      1190\n",
       "PC       970\n",
       "XB       817\n",
       "GBA      813\n",
       "GC       552\n",
       "3DS      515\n",
       "PSV      429\n",
       "PS4      392\n",
       "N64      318\n",
       "XOne     247\n",
       "SNES     239\n",
       "SAT      173\n",
       "WiiU     147\n",
       "2600     117\n",
       "NES       98\n",
       "GB        97\n",
       "DC        52\n",
       "GEN       27\n",
       "NG        12\n",
       "SCD        6\n",
       "WS         6\n",
       "3DO        3\n",
       "TG16       2\n",
       "PCFX       1\n",
       "GG         1\n",
       "Name: platform, dtype: int64"
      ]
     },
     "execution_count": 49,
     "metadata": {},
     "output_type": "execute_result"
    }
   ],
   "source": [
    "# вывод уникальных значений столбца platform\n",
    "df['platform'].value_counts()"
   ]
  },
  {
   "cell_type": "markdown",
   "metadata": {},
   "source": [
    "Очевидных дубликатов нет; в реальной жизни потребуется погружаться в предмет и изучать, как могут называться игровые платформы, для определения и замены синонимов."
   ]
  },
  {
   "cell_type": "code",
   "execution_count": 50,
   "metadata": {
    "scrolled": true
   },
   "outputs": [
    {
     "data": {
      "text/plain": [
       "Action          3342\n",
       "Sports          2333\n",
       "Misc            1735\n",
       "Role-Playing    1484\n",
       "Shooter         1311\n",
       "Adventure       1294\n",
       "Racing          1236\n",
       "Platform         879\n",
       "Simulation       860\n",
       "Fighting         842\n",
       "Strategy         678\n",
       "Puzzle           573\n",
       "Name: genre, dtype: int64"
      ]
     },
     "execution_count": 50,
     "metadata": {},
     "output_type": "execute_result"
    }
   ],
   "source": [
    "# вывод уникальных значений столбца platform\n",
    "df['genre'].value_counts()"
   ]
  },
  {
   "cell_type": "markdown",
   "metadata": {},
   "source": [
    "Дублей нет.\n",
    "\n",
    "Остальные колонки мы изучили выше в процессе обработки пропусков, поэтому дополнительно работу по поиску дублей в них проводить не будем."
   ]
  },
  {
   "cell_type": "markdown",
   "metadata": {},
   "source": [
    "### Добавление столбца с суммарными продажами во всех регионах"
   ]
  },
  {
   "cell_type": "markdown",
   "metadata": {},
   "source": [
    "Добавим в датафрейм колонку с данными о суммарных продажах по всем регионам по каждой строке с игрой."
   ]
  },
  {
   "cell_type": "code",
   "execution_count": 51,
   "metadata": {
    "scrolled": true
   },
   "outputs": [],
   "source": [
    "# добавление колонки с данными о суммарных продажах в датафрейм после колонок с продажами по регионам\n",
    "df.insert(8, \"total_sales\", (df['na_sales'] + df['eu_sales'] + df['jp_sales'] + df['other_sales']))"
   ]
  },
  {
   "cell_type": "markdown",
   "metadata": {},
   "source": [
    "Проверим результат."
   ]
  },
  {
   "cell_type": "code",
   "execution_count": 52,
   "metadata": {
    "scrolled": false
   },
   "outputs": [
    {
     "data": {
      "text/html": [
       "<div>\n",
       "<style scoped>\n",
       "    .dataframe tbody tr th:only-of-type {\n",
       "        vertical-align: middle;\n",
       "    }\n",
       "\n",
       "    .dataframe tbody tr th {\n",
       "        vertical-align: top;\n",
       "    }\n",
       "\n",
       "    .dataframe thead th {\n",
       "        text-align: right;\n",
       "    }\n",
       "</style>\n",
       "<table border=\"1\" class=\"dataframe\">\n",
       "  <thead>\n",
       "    <tr style=\"text-align: right;\">\n",
       "      <th></th>\n",
       "      <th>name</th>\n",
       "      <th>platform</th>\n",
       "      <th>year_of_release</th>\n",
       "      <th>genre</th>\n",
       "      <th>na_sales</th>\n",
       "      <th>eu_sales</th>\n",
       "      <th>jp_sales</th>\n",
       "      <th>other_sales</th>\n",
       "      <th>total_sales</th>\n",
       "      <th>critic_score</th>\n",
       "      <th>user_score</th>\n",
       "      <th>rating</th>\n",
       "    </tr>\n",
       "  </thead>\n",
       "  <tbody>\n",
       "    <tr>\n",
       "      <th>0</th>\n",
       "      <td>Beyblade Burst</td>\n",
       "      <td>3DS</td>\n",
       "      <td>2016</td>\n",
       "      <td>Role-Playing</td>\n",
       "      <td>0.00</td>\n",
       "      <td>0.00</td>\n",
       "      <td>0.03</td>\n",
       "      <td>0.00</td>\n",
       "      <td>0.03</td>\n",
       "      <td>999.0</td>\n",
       "      <td>999.0</td>\n",
       "      <td>no info</td>\n",
       "    </tr>\n",
       "    <tr>\n",
       "      <th>1</th>\n",
       "      <td>Fire Emblem Fates</td>\n",
       "      <td>3DS</td>\n",
       "      <td>2015</td>\n",
       "      <td>Role-Playing</td>\n",
       "      <td>0.81</td>\n",
       "      <td>0.23</td>\n",
       "      <td>0.52</td>\n",
       "      <td>0.11</td>\n",
       "      <td>1.67</td>\n",
       "      <td>999.0</td>\n",
       "      <td>999.0</td>\n",
       "      <td>no info</td>\n",
       "    </tr>\n",
       "    <tr>\n",
       "      <th>2</th>\n",
       "      <td>Frozen: Olaf's Quest</td>\n",
       "      <td>3DS</td>\n",
       "      <td>2013</td>\n",
       "      <td>Platform</td>\n",
       "      <td>0.27</td>\n",
       "      <td>0.27</td>\n",
       "      <td>0.00</td>\n",
       "      <td>0.05</td>\n",
       "      <td>0.59</td>\n",
       "      <td>999.0</td>\n",
       "      <td>999.0</td>\n",
       "      <td>no info</td>\n",
       "    </tr>\n",
       "    <tr>\n",
       "      <th>3</th>\n",
       "      <td>Frozen: Olaf's Quest</td>\n",
       "      <td>DS</td>\n",
       "      <td>2013</td>\n",
       "      <td>Platform</td>\n",
       "      <td>0.21</td>\n",
       "      <td>0.26</td>\n",
       "      <td>0.00</td>\n",
       "      <td>0.04</td>\n",
       "      <td>0.51</td>\n",
       "      <td>999.0</td>\n",
       "      <td>999.0</td>\n",
       "      <td>no info</td>\n",
       "    </tr>\n",
       "    <tr>\n",
       "      <th>4</th>\n",
       "      <td>Haikyu!! Cross Team Match!</td>\n",
       "      <td>3DS</td>\n",
       "      <td>2016</td>\n",
       "      <td>Adventure</td>\n",
       "      <td>0.00</td>\n",
       "      <td>0.00</td>\n",
       "      <td>0.04</td>\n",
       "      <td>0.00</td>\n",
       "      <td>0.04</td>\n",
       "      <td>999.0</td>\n",
       "      <td>999.0</td>\n",
       "      <td>no info</td>\n",
       "    </tr>\n",
       "  </tbody>\n",
       "</table>\n",
       "</div>"
      ],
      "text/plain": [
       "                          name platform  year_of_release         genre  \\\n",
       "0               Beyblade Burst      3DS             2016  Role-Playing   \n",
       "1            Fire Emblem Fates      3DS             2015  Role-Playing   \n",
       "2         Frozen: Olaf's Quest      3DS             2013      Platform   \n",
       "3         Frozen: Olaf's Quest       DS             2013      Platform   \n",
       "4   Haikyu!! Cross Team Match!      3DS             2016     Adventure   \n",
       "\n",
       "   na_sales  eu_sales  jp_sales  other_sales  total_sales  critic_score  \\\n",
       "0      0.00      0.00      0.03         0.00         0.03         999.0   \n",
       "1      0.81      0.23      0.52         0.11         1.67         999.0   \n",
       "2      0.27      0.27      0.00         0.05         0.59         999.0   \n",
       "3      0.21      0.26      0.00         0.04         0.51         999.0   \n",
       "4      0.00      0.00      0.04         0.00         0.04         999.0   \n",
       "\n",
       "   user_score   rating  \n",
       "0       999.0  no info  \n",
       "1       999.0  no info  \n",
       "2       999.0  no info  \n",
       "3       999.0  no info  \n",
       "4       999.0  no info  "
      ]
     },
     "execution_count": 52,
     "metadata": {},
     "output_type": "execute_result"
    }
   ],
   "source": [
    "# вывод первых 5 строк датафрейма\n",
    "df.head()"
   ]
  },
  {
   "cell_type": "markdown",
   "metadata": {},
   "source": [
    "<div style=\"border:solid blue 2px; padding: 20px\"> \n",
    "\n",
    "**Вывод**  \n",
    "\n",
    "Проведена подготовка данных:\n",
    "    \n",
    "1. проведена замена названий столбцов с изменением регистра на нижний\n",
    "2. обработаны и заменены/удалены пропуски в колонках: \n",
    " * name\n",
    " * genre\n",
    " * year_of_release\n",
    " * critic_score\n",
    " * user_score\n",
    " * rating\n",
    " \n",
    "   Оставшееся количество строк для анализа - 16567\n",
    "    \n",
    "3. произведена замена типов данных \n",
    " * в колонке year_of_release на int32\n",
    " * во всех колонках с float64 - на float32\n",
    "4. проведена проверка на дубликаты, дубликатов нет\n",
    "5. добавлена колонка с суммарными продажами по всем регионам\n",
    "\n",
    "Данные подготовлены к проведению анализа.\n",
    " \n",
    " \n",
    "</div>"
   ]
  },
  {
   "cell_type": "markdown",
   "metadata": {},
   "source": [
    "## Шаг 3. Исследовательский анализ данных"
   ]
  },
  {
   "cell_type": "markdown",
   "metadata": {},
   "source": [
    "Оценим, **какое количество игр выпускалось в разные годы**, чтобы определить, данные за какой период взять для анализа."
   ]
  },
  {
   "cell_type": "code",
   "execution_count": 54,
   "metadata": {
    "scrolled": false
   },
   "outputs": [
    {
     "data": {
      "text/plain": [
       "year_of_release\n",
       "1980       9\n",
       "1981      46\n",
       "1982      36\n",
       "1983      17\n",
       "1984      14\n",
       "1985      14\n",
       "1986      21\n",
       "1987      16\n",
       "1988      15\n",
       "1989      17\n",
       "1990      16\n",
       "1991      42\n",
       "1992      43\n",
       "1993      60\n",
       "1994     122\n",
       "1995     219\n",
       "1996     263\n",
       "1997     290\n",
       "1998     379\n",
       "1999     339\n",
       "2000     351\n",
       "2001     486\n",
       "2002     845\n",
       "2003     783\n",
       "2004     764\n",
       "2005     948\n",
       "2006    1018\n",
       "2007    1202\n",
       "2008    1441\n",
       "2009    1430\n",
       "2010    1269\n",
       "2011    1153\n",
       "2012     662\n",
       "2013     548\n",
       "2014     581\n",
       "2015     606\n",
       "2016     502\n",
       "Name: name, dtype: int64"
      ]
     },
     "execution_count": 54,
     "metadata": {},
     "output_type": "execute_result"
    }
   ],
   "source": [
    "# группировка датафрейма по году выпуска и подсчет количества игр, выпущенных в этот год\n",
    "df.groupby('year_of_release')['name'].count()"
   ]
  },
  {
   "cell_type": "markdown",
   "metadata": {},
   "source": [
    "По сгруппированным данным выше видно, что до 1994 года количество выпущенных в год игр составляло менее 100, далее до 2006 оно росло на 100-300 позиций в год и увеличилось до 1000 в год, и в период 2006-2011 выходило уже более 1000 игр в год (до 1500 игр), но с 2012 года это количество сократилось вдвое (до 600-500 игр в год). Данная тенденция сохраняется по 2016 год включительно. Вероятно, ее причина - переход игр в онлайн формат, а также рост объемов продаж \"облачных\" копий, не требующих приобретения физического носителя. "
   ]
  },
  {
   "cell_type": "markdown",
   "metadata": {},
   "source": [
    "С учетом данной тенденции, а также общей тенденции к быстрой смене трендов, особенно в сфере цифровых технологий, для прогноза логичным будет взять максимально приближенные к моменту прогнозирования данные - с 2012 года по 2016 год."
   ]
  },
  {
   "cell_type": "markdown",
   "metadata": {},
   "source": [
    "Оценим, **как менялись продажи по платформам**. Определим платформы с наибольшими суммарными продажами и построим по ним распределение по годам. Оценим, за какой характерный срок появляются новые и исчезают старые платформы.\n",
    "\n",
    "Для этого построим сводную таблицу по суммарным продажам по платформам за все годы."
   ]
  },
  {
   "cell_type": "code",
   "execution_count": 55,
   "metadata": {
    "scrolled": false
   },
   "outputs": [
    {
     "data": {
      "text/html": [
       "<div>\n",
       "<style scoped>\n",
       "    .dataframe tbody tr th:only-of-type {\n",
       "        vertical-align: middle;\n",
       "    }\n",
       "\n",
       "    .dataframe tbody tr th {\n",
       "        vertical-align: top;\n",
       "    }\n",
       "\n",
       "    .dataframe thead th {\n",
       "        text-align: right;\n",
       "    }\n",
       "</style>\n",
       "<table border=\"1\" class=\"dataframe\">\n",
       "  <thead>\n",
       "    <tr style=\"text-align: right;\">\n",
       "      <th>year_of_release</th>\n",
       "      <th>1980</th>\n",
       "      <th>1981</th>\n",
       "      <th>1982</th>\n",
       "      <th>1983</th>\n",
       "      <th>1984</th>\n",
       "      <th>1985</th>\n",
       "      <th>1986</th>\n",
       "      <th>1987</th>\n",
       "      <th>1988</th>\n",
       "      <th>1989</th>\n",
       "      <th>...</th>\n",
       "      <th>2007</th>\n",
       "      <th>2008</th>\n",
       "      <th>2009</th>\n",
       "      <th>2010</th>\n",
       "      <th>2011</th>\n",
       "      <th>2012</th>\n",
       "      <th>2013</th>\n",
       "      <th>2014</th>\n",
       "      <th>2015</th>\n",
       "      <th>2016</th>\n",
       "    </tr>\n",
       "    <tr>\n",
       "      <th>platform</th>\n",
       "      <th></th>\n",
       "      <th></th>\n",
       "      <th></th>\n",
       "      <th></th>\n",
       "      <th></th>\n",
       "      <th></th>\n",
       "      <th></th>\n",
       "      <th></th>\n",
       "      <th></th>\n",
       "      <th></th>\n",
       "      <th></th>\n",
       "      <th></th>\n",
       "      <th></th>\n",
       "      <th></th>\n",
       "      <th></th>\n",
       "      <th></th>\n",
       "      <th></th>\n",
       "      <th></th>\n",
       "      <th></th>\n",
       "      <th></th>\n",
       "      <th></th>\n",
       "    </tr>\n",
       "  </thead>\n",
       "  <tbody>\n",
       "    <tr>\n",
       "      <th>2600</th>\n",
       "      <td>11.0</td>\n",
       "      <td>36.0</td>\n",
       "      <td>29.0</td>\n",
       "      <td>6.0</td>\n",
       "      <td>0.0</td>\n",
       "      <td>0.0</td>\n",
       "      <td>1.0</td>\n",
       "      <td>2.0</td>\n",
       "      <td>1.0</td>\n",
       "      <td>1.0</td>\n",
       "      <td>...</td>\n",
       "      <td>NaN</td>\n",
       "      <td>NaN</td>\n",
       "      <td>NaN</td>\n",
       "      <td>NaN</td>\n",
       "      <td>NaN</td>\n",
       "      <td>NaN</td>\n",
       "      <td>NaN</td>\n",
       "      <td>NaN</td>\n",
       "      <td>NaN</td>\n",
       "      <td>NaN</td>\n",
       "    </tr>\n",
       "    <tr>\n",
       "      <th>3DO</th>\n",
       "      <td>NaN</td>\n",
       "      <td>NaN</td>\n",
       "      <td>NaN</td>\n",
       "      <td>NaN</td>\n",
       "      <td>NaN</td>\n",
       "      <td>NaN</td>\n",
       "      <td>NaN</td>\n",
       "      <td>NaN</td>\n",
       "      <td>NaN</td>\n",
       "      <td>NaN</td>\n",
       "      <td>...</td>\n",
       "      <td>NaN</td>\n",
       "      <td>NaN</td>\n",
       "      <td>NaN</td>\n",
       "      <td>NaN</td>\n",
       "      <td>NaN</td>\n",
       "      <td>NaN</td>\n",
       "      <td>NaN</td>\n",
       "      <td>NaN</td>\n",
       "      <td>NaN</td>\n",
       "      <td>NaN</td>\n",
       "    </tr>\n",
       "    <tr>\n",
       "      <th>3DS</th>\n",
       "      <td>NaN</td>\n",
       "      <td>NaN</td>\n",
       "      <td>NaN</td>\n",
       "      <td>NaN</td>\n",
       "      <td>NaN</td>\n",
       "      <td>NaN</td>\n",
       "      <td>NaN</td>\n",
       "      <td>NaN</td>\n",
       "      <td>NaN</td>\n",
       "      <td>NaN</td>\n",
       "      <td>...</td>\n",
       "      <td>NaN</td>\n",
       "      <td>NaN</td>\n",
       "      <td>NaN</td>\n",
       "      <td>0.0</td>\n",
       "      <td>63.0</td>\n",
       "      <td>52.0</td>\n",
       "      <td>57.0</td>\n",
       "      <td>44.0</td>\n",
       "      <td>28.0</td>\n",
       "      <td>15.0</td>\n",
       "    </tr>\n",
       "    <tr>\n",
       "      <th>DC</th>\n",
       "      <td>NaN</td>\n",
       "      <td>NaN</td>\n",
       "      <td>NaN</td>\n",
       "      <td>NaN</td>\n",
       "      <td>NaN</td>\n",
       "      <td>NaN</td>\n",
       "      <td>NaN</td>\n",
       "      <td>NaN</td>\n",
       "      <td>NaN</td>\n",
       "      <td>NaN</td>\n",
       "      <td>...</td>\n",
       "      <td>0.0</td>\n",
       "      <td>0.0</td>\n",
       "      <td>NaN</td>\n",
       "      <td>NaN</td>\n",
       "      <td>NaN</td>\n",
       "      <td>NaN</td>\n",
       "      <td>NaN</td>\n",
       "      <td>NaN</td>\n",
       "      <td>NaN</td>\n",
       "      <td>NaN</td>\n",
       "    </tr>\n",
       "    <tr>\n",
       "      <th>DS</th>\n",
       "      <td>NaN</td>\n",
       "      <td>NaN</td>\n",
       "      <td>NaN</td>\n",
       "      <td>NaN</td>\n",
       "      <td>NaN</td>\n",
       "      <td>0.0</td>\n",
       "      <td>NaN</td>\n",
       "      <td>NaN</td>\n",
       "      <td>NaN</td>\n",
       "      <td>NaN</td>\n",
       "      <td>...</td>\n",
       "      <td>147.0</td>\n",
       "      <td>145.0</td>\n",
       "      <td>120.0</td>\n",
       "      <td>85.0</td>\n",
       "      <td>26.0</td>\n",
       "      <td>12.0</td>\n",
       "      <td>2.0</td>\n",
       "      <td>NaN</td>\n",
       "      <td>NaN</td>\n",
       "      <td>NaN</td>\n",
       "    </tr>\n",
       "    <tr>\n",
       "      <th>GB</th>\n",
       "      <td>NaN</td>\n",
       "      <td>NaN</td>\n",
       "      <td>NaN</td>\n",
       "      <td>NaN</td>\n",
       "      <td>NaN</td>\n",
       "      <td>NaN</td>\n",
       "      <td>NaN</td>\n",
       "      <td>NaN</td>\n",
       "      <td>1.0</td>\n",
       "      <td>65.0</td>\n",
       "      <td>...</td>\n",
       "      <td>NaN</td>\n",
       "      <td>NaN</td>\n",
       "      <td>NaN</td>\n",
       "      <td>NaN</td>\n",
       "      <td>NaN</td>\n",
       "      <td>NaN</td>\n",
       "      <td>NaN</td>\n",
       "      <td>NaN</td>\n",
       "      <td>NaN</td>\n",
       "      <td>NaN</td>\n",
       "    </tr>\n",
       "    <tr>\n",
       "      <th>GBA</th>\n",
       "      <td>NaN</td>\n",
       "      <td>NaN</td>\n",
       "      <td>NaN</td>\n",
       "      <td>NaN</td>\n",
       "      <td>NaN</td>\n",
       "      <td>NaN</td>\n",
       "      <td>NaN</td>\n",
       "      <td>NaN</td>\n",
       "      <td>NaN</td>\n",
       "      <td>NaN</td>\n",
       "      <td>...</td>\n",
       "      <td>3.0</td>\n",
       "      <td>NaN</td>\n",
       "      <td>NaN</td>\n",
       "      <td>NaN</td>\n",
       "      <td>NaN</td>\n",
       "      <td>NaN</td>\n",
       "      <td>NaN</td>\n",
       "      <td>NaN</td>\n",
       "      <td>NaN</td>\n",
       "      <td>NaN</td>\n",
       "    </tr>\n",
       "    <tr>\n",
       "      <th>GC</th>\n",
       "      <td>NaN</td>\n",
       "      <td>NaN</td>\n",
       "      <td>NaN</td>\n",
       "      <td>NaN</td>\n",
       "      <td>NaN</td>\n",
       "      <td>NaN</td>\n",
       "      <td>NaN</td>\n",
       "      <td>NaN</td>\n",
       "      <td>NaN</td>\n",
       "      <td>NaN</td>\n",
       "      <td>...</td>\n",
       "      <td>0.0</td>\n",
       "      <td>NaN</td>\n",
       "      <td>NaN</td>\n",
       "      <td>NaN</td>\n",
       "      <td>NaN</td>\n",
       "      <td>NaN</td>\n",
       "      <td>NaN</td>\n",
       "      <td>NaN</td>\n",
       "      <td>NaN</td>\n",
       "      <td>NaN</td>\n",
       "    </tr>\n",
       "    <tr>\n",
       "      <th>GEN</th>\n",
       "      <td>NaN</td>\n",
       "      <td>NaN</td>\n",
       "      <td>NaN</td>\n",
       "      <td>NaN</td>\n",
       "      <td>NaN</td>\n",
       "      <td>NaN</td>\n",
       "      <td>NaN</td>\n",
       "      <td>NaN</td>\n",
       "      <td>NaN</td>\n",
       "      <td>NaN</td>\n",
       "      <td>...</td>\n",
       "      <td>NaN</td>\n",
       "      <td>NaN</td>\n",
       "      <td>NaN</td>\n",
       "      <td>NaN</td>\n",
       "      <td>NaN</td>\n",
       "      <td>NaN</td>\n",
       "      <td>NaN</td>\n",
       "      <td>NaN</td>\n",
       "      <td>NaN</td>\n",
       "      <td>NaN</td>\n",
       "    </tr>\n",
       "    <tr>\n",
       "      <th>GG</th>\n",
       "      <td>NaN</td>\n",
       "      <td>NaN</td>\n",
       "      <td>NaN</td>\n",
       "      <td>NaN</td>\n",
       "      <td>NaN</td>\n",
       "      <td>NaN</td>\n",
       "      <td>NaN</td>\n",
       "      <td>NaN</td>\n",
       "      <td>NaN</td>\n",
       "      <td>NaN</td>\n",
       "      <td>...</td>\n",
       "      <td>NaN</td>\n",
       "      <td>NaN</td>\n",
       "      <td>NaN</td>\n",
       "      <td>NaN</td>\n",
       "      <td>NaN</td>\n",
       "      <td>NaN</td>\n",
       "      <td>NaN</td>\n",
       "      <td>NaN</td>\n",
       "      <td>NaN</td>\n",
       "      <td>NaN</td>\n",
       "    </tr>\n",
       "    <tr>\n",
       "      <th>N64</th>\n",
       "      <td>NaN</td>\n",
       "      <td>NaN</td>\n",
       "      <td>NaN</td>\n",
       "      <td>NaN</td>\n",
       "      <td>NaN</td>\n",
       "      <td>NaN</td>\n",
       "      <td>NaN</td>\n",
       "      <td>NaN</td>\n",
       "      <td>NaN</td>\n",
       "      <td>NaN</td>\n",
       "      <td>...</td>\n",
       "      <td>NaN</td>\n",
       "      <td>NaN</td>\n",
       "      <td>NaN</td>\n",
       "      <td>NaN</td>\n",
       "      <td>NaN</td>\n",
       "      <td>NaN</td>\n",
       "      <td>NaN</td>\n",
       "      <td>NaN</td>\n",
       "      <td>NaN</td>\n",
       "      <td>NaN</td>\n",
       "    </tr>\n",
       "    <tr>\n",
       "      <th>NES</th>\n",
       "      <td>NaN</td>\n",
       "      <td>NaN</td>\n",
       "      <td>NaN</td>\n",
       "      <td>11.0</td>\n",
       "      <td>50.0</td>\n",
       "      <td>53.0</td>\n",
       "      <td>36.0</td>\n",
       "      <td>20.0</td>\n",
       "      <td>45.0</td>\n",
       "      <td>8.0</td>\n",
       "      <td>...</td>\n",
       "      <td>NaN</td>\n",
       "      <td>NaN</td>\n",
       "      <td>NaN</td>\n",
       "      <td>NaN</td>\n",
       "      <td>NaN</td>\n",
       "      <td>NaN</td>\n",
       "      <td>NaN</td>\n",
       "      <td>NaN</td>\n",
       "      <td>NaN</td>\n",
       "      <td>NaN</td>\n",
       "    </tr>\n",
       "    <tr>\n",
       "      <th>NG</th>\n",
       "      <td>NaN</td>\n",
       "      <td>NaN</td>\n",
       "      <td>NaN</td>\n",
       "      <td>NaN</td>\n",
       "      <td>NaN</td>\n",
       "      <td>NaN</td>\n",
       "      <td>NaN</td>\n",
       "      <td>NaN</td>\n",
       "      <td>NaN</td>\n",
       "      <td>NaN</td>\n",
       "      <td>...</td>\n",
       "      <td>NaN</td>\n",
       "      <td>NaN</td>\n",
       "      <td>NaN</td>\n",
       "      <td>NaN</td>\n",
       "      <td>NaN</td>\n",
       "      <td>NaN</td>\n",
       "      <td>NaN</td>\n",
       "      <td>NaN</td>\n",
       "      <td>NaN</td>\n",
       "      <td>NaN</td>\n",
       "    </tr>\n",
       "    <tr>\n",
       "      <th>PC</th>\n",
       "      <td>NaN</td>\n",
       "      <td>NaN</td>\n",
       "      <td>NaN</td>\n",
       "      <td>NaN</td>\n",
       "      <td>NaN</td>\n",
       "      <td>0.0</td>\n",
       "      <td>NaN</td>\n",
       "      <td>NaN</td>\n",
       "      <td>0.0</td>\n",
       "      <td>NaN</td>\n",
       "      <td>...</td>\n",
       "      <td>9.0</td>\n",
       "      <td>12.0</td>\n",
       "      <td>17.0</td>\n",
       "      <td>26.0</td>\n",
       "      <td>35.0</td>\n",
       "      <td>23.0</td>\n",
       "      <td>13.0</td>\n",
       "      <td>13.0</td>\n",
       "      <td>9.0</td>\n",
       "      <td>5.0</td>\n",
       "    </tr>\n",
       "    <tr>\n",
       "      <th>PCFX</th>\n",
       "      <td>NaN</td>\n",
       "      <td>NaN</td>\n",
       "      <td>NaN</td>\n",
       "      <td>NaN</td>\n",
       "      <td>NaN</td>\n",
       "      <td>NaN</td>\n",
       "      <td>NaN</td>\n",
       "      <td>NaN</td>\n",
       "      <td>NaN</td>\n",
       "      <td>NaN</td>\n",
       "      <td>...</td>\n",
       "      <td>NaN</td>\n",
       "      <td>NaN</td>\n",
       "      <td>NaN</td>\n",
       "      <td>NaN</td>\n",
       "      <td>NaN</td>\n",
       "      <td>NaN</td>\n",
       "      <td>NaN</td>\n",
       "      <td>NaN</td>\n",
       "      <td>NaN</td>\n",
       "      <td>NaN</td>\n",
       "    </tr>\n",
       "    <tr>\n",
       "      <th>PS</th>\n",
       "      <td>NaN</td>\n",
       "      <td>NaN</td>\n",
       "      <td>NaN</td>\n",
       "      <td>NaN</td>\n",
       "      <td>NaN</td>\n",
       "      <td>NaN</td>\n",
       "      <td>NaN</td>\n",
       "      <td>NaN</td>\n",
       "      <td>NaN</td>\n",
       "      <td>NaN</td>\n",
       "      <td>...</td>\n",
       "      <td>NaN</td>\n",
       "      <td>NaN</td>\n",
       "      <td>NaN</td>\n",
       "      <td>NaN</td>\n",
       "      <td>NaN</td>\n",
       "      <td>NaN</td>\n",
       "      <td>NaN</td>\n",
       "      <td>NaN</td>\n",
       "      <td>NaN</td>\n",
       "      <td>NaN</td>\n",
       "    </tr>\n",
       "    <tr>\n",
       "      <th>PS2</th>\n",
       "      <td>NaN</td>\n",
       "      <td>NaN</td>\n",
       "      <td>NaN</td>\n",
       "      <td>NaN</td>\n",
       "      <td>NaN</td>\n",
       "      <td>NaN</td>\n",
       "      <td>NaN</td>\n",
       "      <td>NaN</td>\n",
       "      <td>NaN</td>\n",
       "      <td>NaN</td>\n",
       "      <td>...</td>\n",
       "      <td>76.0</td>\n",
       "      <td>54.0</td>\n",
       "      <td>26.0</td>\n",
       "      <td>6.0</td>\n",
       "      <td>0.0</td>\n",
       "      <td>NaN</td>\n",
       "      <td>NaN</td>\n",
       "      <td>NaN</td>\n",
       "      <td>NaN</td>\n",
       "      <td>NaN</td>\n",
       "    </tr>\n",
       "    <tr>\n",
       "      <th>PS3</th>\n",
       "      <td>NaN</td>\n",
       "      <td>NaN</td>\n",
       "      <td>NaN</td>\n",
       "      <td>NaN</td>\n",
       "      <td>NaN</td>\n",
       "      <td>NaN</td>\n",
       "      <td>NaN</td>\n",
       "      <td>NaN</td>\n",
       "      <td>NaN</td>\n",
       "      <td>NaN</td>\n",
       "      <td>...</td>\n",
       "      <td>73.0</td>\n",
       "      <td>119.0</td>\n",
       "      <td>131.0</td>\n",
       "      <td>143.0</td>\n",
       "      <td>158.0</td>\n",
       "      <td>108.0</td>\n",
       "      <td>113.0</td>\n",
       "      <td>48.0</td>\n",
       "      <td>17.0</td>\n",
       "      <td>4.0</td>\n",
       "    </tr>\n",
       "    <tr>\n",
       "      <th>PS4</th>\n",
       "      <td>NaN</td>\n",
       "      <td>NaN</td>\n",
       "      <td>NaN</td>\n",
       "      <td>NaN</td>\n",
       "      <td>NaN</td>\n",
       "      <td>NaN</td>\n",
       "      <td>NaN</td>\n",
       "      <td>NaN</td>\n",
       "      <td>NaN</td>\n",
       "      <td>NaN</td>\n",
       "      <td>...</td>\n",
       "      <td>NaN</td>\n",
       "      <td>NaN</td>\n",
       "      <td>NaN</td>\n",
       "      <td>NaN</td>\n",
       "      <td>NaN</td>\n",
       "      <td>NaN</td>\n",
       "      <td>26.0</td>\n",
       "      <td>100.0</td>\n",
       "      <td>119.0</td>\n",
       "      <td>69.0</td>\n",
       "    </tr>\n",
       "    <tr>\n",
       "      <th>PSP</th>\n",
       "      <td>NaN</td>\n",
       "      <td>NaN</td>\n",
       "      <td>NaN</td>\n",
       "      <td>NaN</td>\n",
       "      <td>NaN</td>\n",
       "      <td>NaN</td>\n",
       "      <td>NaN</td>\n",
       "      <td>NaN</td>\n",
       "      <td>NaN</td>\n",
       "      <td>NaN</td>\n",
       "      <td>...</td>\n",
       "      <td>47.0</td>\n",
       "      <td>37.0</td>\n",
       "      <td>38.0</td>\n",
       "      <td>35.0</td>\n",
       "      <td>18.0</td>\n",
       "      <td>8.0</td>\n",
       "      <td>3.0</td>\n",
       "      <td>0.0</td>\n",
       "      <td>0.0</td>\n",
       "      <td>NaN</td>\n",
       "    </tr>\n",
       "    <tr>\n",
       "      <th>PSV</th>\n",
       "      <td>NaN</td>\n",
       "      <td>NaN</td>\n",
       "      <td>NaN</td>\n",
       "      <td>NaN</td>\n",
       "      <td>NaN</td>\n",
       "      <td>NaN</td>\n",
       "      <td>NaN</td>\n",
       "      <td>NaN</td>\n",
       "      <td>NaN</td>\n",
       "      <td>NaN</td>\n",
       "      <td>...</td>\n",
       "      <td>NaN</td>\n",
       "      <td>NaN</td>\n",
       "      <td>NaN</td>\n",
       "      <td>NaN</td>\n",
       "      <td>5.0</td>\n",
       "      <td>16.0</td>\n",
       "      <td>11.0</td>\n",
       "      <td>12.0</td>\n",
       "      <td>6.0</td>\n",
       "      <td>4.0</td>\n",
       "    </tr>\n",
       "    <tr>\n",
       "      <th>SAT</th>\n",
       "      <td>NaN</td>\n",
       "      <td>NaN</td>\n",
       "      <td>NaN</td>\n",
       "      <td>NaN</td>\n",
       "      <td>NaN</td>\n",
       "      <td>NaN</td>\n",
       "      <td>NaN</td>\n",
       "      <td>NaN</td>\n",
       "      <td>NaN</td>\n",
       "      <td>NaN</td>\n",
       "      <td>...</td>\n",
       "      <td>NaN</td>\n",
       "      <td>NaN</td>\n",
       "      <td>NaN</td>\n",
       "      <td>NaN</td>\n",
       "      <td>NaN</td>\n",
       "      <td>NaN</td>\n",
       "      <td>NaN</td>\n",
       "      <td>NaN</td>\n",
       "      <td>NaN</td>\n",
       "      <td>NaN</td>\n",
       "    </tr>\n",
       "    <tr>\n",
       "      <th>SCD</th>\n",
       "      <td>NaN</td>\n",
       "      <td>NaN</td>\n",
       "      <td>NaN</td>\n",
       "      <td>NaN</td>\n",
       "      <td>NaN</td>\n",
       "      <td>NaN</td>\n",
       "      <td>NaN</td>\n",
       "      <td>NaN</td>\n",
       "      <td>NaN</td>\n",
       "      <td>NaN</td>\n",
       "      <td>...</td>\n",
       "      <td>NaN</td>\n",
       "      <td>NaN</td>\n",
       "      <td>NaN</td>\n",
       "      <td>NaN</td>\n",
       "      <td>NaN</td>\n",
       "      <td>NaN</td>\n",
       "      <td>NaN</td>\n",
       "      <td>NaN</td>\n",
       "      <td>NaN</td>\n",
       "      <td>NaN</td>\n",
       "    </tr>\n",
       "    <tr>\n",
       "      <th>SNES</th>\n",
       "      <td>NaN</td>\n",
       "      <td>NaN</td>\n",
       "      <td>NaN</td>\n",
       "      <td>NaN</td>\n",
       "      <td>NaN</td>\n",
       "      <td>NaN</td>\n",
       "      <td>NaN</td>\n",
       "      <td>NaN</td>\n",
       "      <td>NaN</td>\n",
       "      <td>NaN</td>\n",
       "      <td>...</td>\n",
       "      <td>NaN</td>\n",
       "      <td>NaN</td>\n",
       "      <td>NaN</td>\n",
       "      <td>NaN</td>\n",
       "      <td>NaN</td>\n",
       "      <td>NaN</td>\n",
       "      <td>NaN</td>\n",
       "      <td>NaN</td>\n",
       "      <td>NaN</td>\n",
       "      <td>NaN</td>\n",
       "    </tr>\n",
       "    <tr>\n",
       "      <th>TG16</th>\n",
       "      <td>NaN</td>\n",
       "      <td>NaN</td>\n",
       "      <td>NaN</td>\n",
       "      <td>NaN</td>\n",
       "      <td>NaN</td>\n",
       "      <td>NaN</td>\n",
       "      <td>NaN</td>\n",
       "      <td>NaN</td>\n",
       "      <td>NaN</td>\n",
       "      <td>NaN</td>\n",
       "      <td>...</td>\n",
       "      <td>NaN</td>\n",
       "      <td>NaN</td>\n",
       "      <td>NaN</td>\n",
       "      <td>NaN</td>\n",
       "      <td>NaN</td>\n",
       "      <td>NaN</td>\n",
       "      <td>NaN</td>\n",
       "      <td>NaN</td>\n",
       "      <td>NaN</td>\n",
       "      <td>NaN</td>\n",
       "    </tr>\n",
       "    <tr>\n",
       "      <th>WS</th>\n",
       "      <td>NaN</td>\n",
       "      <td>NaN</td>\n",
       "      <td>NaN</td>\n",
       "      <td>NaN</td>\n",
       "      <td>NaN</td>\n",
       "      <td>NaN</td>\n",
       "      <td>NaN</td>\n",
       "      <td>NaN</td>\n",
       "      <td>NaN</td>\n",
       "      <td>NaN</td>\n",
       "      <td>...</td>\n",
       "      <td>NaN</td>\n",
       "      <td>NaN</td>\n",
       "      <td>NaN</td>\n",
       "      <td>NaN</td>\n",
       "      <td>NaN</td>\n",
       "      <td>NaN</td>\n",
       "      <td>NaN</td>\n",
       "      <td>NaN</td>\n",
       "      <td>NaN</td>\n",
       "      <td>NaN</td>\n",
       "    </tr>\n",
       "    <tr>\n",
       "      <th>Wii</th>\n",
       "      <td>NaN</td>\n",
       "      <td>NaN</td>\n",
       "      <td>NaN</td>\n",
       "      <td>NaN</td>\n",
       "      <td>NaN</td>\n",
       "      <td>NaN</td>\n",
       "      <td>NaN</td>\n",
       "      <td>NaN</td>\n",
       "      <td>NaN</td>\n",
       "      <td>NaN</td>\n",
       "      <td>...</td>\n",
       "      <td>153.0</td>\n",
       "      <td>178.0</td>\n",
       "      <td>207.0</td>\n",
       "      <td>129.0</td>\n",
       "      <td>60.0</td>\n",
       "      <td>23.0</td>\n",
       "      <td>9.0</td>\n",
       "      <td>4.0</td>\n",
       "      <td>1.0</td>\n",
       "      <td>0.0</td>\n",
       "    </tr>\n",
       "    <tr>\n",
       "      <th>WiiU</th>\n",
       "      <td>NaN</td>\n",
       "      <td>NaN</td>\n",
       "      <td>NaN</td>\n",
       "      <td>NaN</td>\n",
       "      <td>NaN</td>\n",
       "      <td>NaN</td>\n",
       "      <td>NaN</td>\n",
       "      <td>NaN</td>\n",
       "      <td>NaN</td>\n",
       "      <td>NaN</td>\n",
       "      <td>...</td>\n",
       "      <td>NaN</td>\n",
       "      <td>NaN</td>\n",
       "      <td>NaN</td>\n",
       "      <td>NaN</td>\n",
       "      <td>NaN</td>\n",
       "      <td>18.0</td>\n",
       "      <td>22.0</td>\n",
       "      <td>22.0</td>\n",
       "      <td>16.0</td>\n",
       "      <td>5.0</td>\n",
       "    </tr>\n",
       "    <tr>\n",
       "      <th>X360</th>\n",
       "      <td>NaN</td>\n",
       "      <td>NaN</td>\n",
       "      <td>NaN</td>\n",
       "      <td>NaN</td>\n",
       "      <td>NaN</td>\n",
       "      <td>NaN</td>\n",
       "      <td>NaN</td>\n",
       "      <td>NaN</td>\n",
       "      <td>NaN</td>\n",
       "      <td>NaN</td>\n",
       "      <td>...</td>\n",
       "      <td>95.0</td>\n",
       "      <td>136.0</td>\n",
       "      <td>121.0</td>\n",
       "      <td>171.0</td>\n",
       "      <td>145.0</td>\n",
       "      <td>101.0</td>\n",
       "      <td>89.0</td>\n",
       "      <td>35.0</td>\n",
       "      <td>12.0</td>\n",
       "      <td>2.0</td>\n",
       "    </tr>\n",
       "    <tr>\n",
       "      <th>XB</th>\n",
       "      <td>NaN</td>\n",
       "      <td>NaN</td>\n",
       "      <td>NaN</td>\n",
       "      <td>NaN</td>\n",
       "      <td>NaN</td>\n",
       "      <td>NaN</td>\n",
       "      <td>NaN</td>\n",
       "      <td>NaN</td>\n",
       "      <td>NaN</td>\n",
       "      <td>NaN</td>\n",
       "      <td>...</td>\n",
       "      <td>1.0</td>\n",
       "      <td>0.0</td>\n",
       "      <td>NaN</td>\n",
       "      <td>NaN</td>\n",
       "      <td>NaN</td>\n",
       "      <td>NaN</td>\n",
       "      <td>NaN</td>\n",
       "      <td>NaN</td>\n",
       "      <td>NaN</td>\n",
       "      <td>NaN</td>\n",
       "    </tr>\n",
       "    <tr>\n",
       "      <th>XOne</th>\n",
       "      <td>NaN</td>\n",
       "      <td>NaN</td>\n",
       "      <td>NaN</td>\n",
       "      <td>NaN</td>\n",
       "      <td>NaN</td>\n",
       "      <td>NaN</td>\n",
       "      <td>NaN</td>\n",
       "      <td>NaN</td>\n",
       "      <td>NaN</td>\n",
       "      <td>NaN</td>\n",
       "      <td>...</td>\n",
       "      <td>NaN</td>\n",
       "      <td>NaN</td>\n",
       "      <td>NaN</td>\n",
       "      <td>NaN</td>\n",
       "      <td>NaN</td>\n",
       "      <td>NaN</td>\n",
       "      <td>19.0</td>\n",
       "      <td>54.0</td>\n",
       "      <td>60.0</td>\n",
       "      <td>26.0</td>\n",
       "    </tr>\n",
       "  </tbody>\n",
       "</table>\n",
       "<p>31 rows × 37 columns</p>\n",
       "</div>"
      ],
      "text/plain": [
       "year_of_release  1980  1981  1982  1983  1984  1985  1986  1987  1988  1989  \\\n",
       "platform                                                                      \n",
       "2600             11.0  36.0  29.0   6.0   0.0   0.0   1.0   2.0   1.0   1.0   \n",
       "3DO               NaN   NaN   NaN   NaN   NaN   NaN   NaN   NaN   NaN   NaN   \n",
       "3DS               NaN   NaN   NaN   NaN   NaN   NaN   NaN   NaN   NaN   NaN   \n",
       "DC                NaN   NaN   NaN   NaN   NaN   NaN   NaN   NaN   NaN   NaN   \n",
       "DS                NaN   NaN   NaN   NaN   NaN   0.0   NaN   NaN   NaN   NaN   \n",
       "GB                NaN   NaN   NaN   NaN   NaN   NaN   NaN   NaN   1.0  65.0   \n",
       "GBA               NaN   NaN   NaN   NaN   NaN   NaN   NaN   NaN   NaN   NaN   \n",
       "GC                NaN   NaN   NaN   NaN   NaN   NaN   NaN   NaN   NaN   NaN   \n",
       "GEN               NaN   NaN   NaN   NaN   NaN   NaN   NaN   NaN   NaN   NaN   \n",
       "GG                NaN   NaN   NaN   NaN   NaN   NaN   NaN   NaN   NaN   NaN   \n",
       "N64               NaN   NaN   NaN   NaN   NaN   NaN   NaN   NaN   NaN   NaN   \n",
       "NES               NaN   NaN   NaN  11.0  50.0  53.0  36.0  20.0  45.0   8.0   \n",
       "NG                NaN   NaN   NaN   NaN   NaN   NaN   NaN   NaN   NaN   NaN   \n",
       "PC                NaN   NaN   NaN   NaN   NaN   0.0   NaN   NaN   0.0   NaN   \n",
       "PCFX              NaN   NaN   NaN   NaN   NaN   NaN   NaN   NaN   NaN   NaN   \n",
       "PS                NaN   NaN   NaN   NaN   NaN   NaN   NaN   NaN   NaN   NaN   \n",
       "PS2               NaN   NaN   NaN   NaN   NaN   NaN   NaN   NaN   NaN   NaN   \n",
       "PS3               NaN   NaN   NaN   NaN   NaN   NaN   NaN   NaN   NaN   NaN   \n",
       "PS4               NaN   NaN   NaN   NaN   NaN   NaN   NaN   NaN   NaN   NaN   \n",
       "PSP               NaN   NaN   NaN   NaN   NaN   NaN   NaN   NaN   NaN   NaN   \n",
       "PSV               NaN   NaN   NaN   NaN   NaN   NaN   NaN   NaN   NaN   NaN   \n",
       "SAT               NaN   NaN   NaN   NaN   NaN   NaN   NaN   NaN   NaN   NaN   \n",
       "SCD               NaN   NaN   NaN   NaN   NaN   NaN   NaN   NaN   NaN   NaN   \n",
       "SNES              NaN   NaN   NaN   NaN   NaN   NaN   NaN   NaN   NaN   NaN   \n",
       "TG16              NaN   NaN   NaN   NaN   NaN   NaN   NaN   NaN   NaN   NaN   \n",
       "WS                NaN   NaN   NaN   NaN   NaN   NaN   NaN   NaN   NaN   NaN   \n",
       "Wii               NaN   NaN   NaN   NaN   NaN   NaN   NaN   NaN   NaN   NaN   \n",
       "WiiU              NaN   NaN   NaN   NaN   NaN   NaN   NaN   NaN   NaN   NaN   \n",
       "X360              NaN   NaN   NaN   NaN   NaN   NaN   NaN   NaN   NaN   NaN   \n",
       "XB                NaN   NaN   NaN   NaN   NaN   NaN   NaN   NaN   NaN   NaN   \n",
       "XOne              NaN   NaN   NaN   NaN   NaN   NaN   NaN   NaN   NaN   NaN   \n",
       "\n",
       "year_of_release  ...   2007   2008   2009   2010   2011   2012   2013   2014  \\\n",
       "platform         ...                                                           \n",
       "2600             ...    NaN    NaN    NaN    NaN    NaN    NaN    NaN    NaN   \n",
       "3DO              ...    NaN    NaN    NaN    NaN    NaN    NaN    NaN    NaN   \n",
       "3DS              ...    NaN    NaN    NaN    0.0   63.0   52.0   57.0   44.0   \n",
       "DC               ...    0.0    0.0    NaN    NaN    NaN    NaN    NaN    NaN   \n",
       "DS               ...  147.0  145.0  120.0   85.0   26.0   12.0    2.0    NaN   \n",
       "GB               ...    NaN    NaN    NaN    NaN    NaN    NaN    NaN    NaN   \n",
       "GBA              ...    3.0    NaN    NaN    NaN    NaN    NaN    NaN    NaN   \n",
       "GC               ...    0.0    NaN    NaN    NaN    NaN    NaN    NaN    NaN   \n",
       "GEN              ...    NaN    NaN    NaN    NaN    NaN    NaN    NaN    NaN   \n",
       "GG               ...    NaN    NaN    NaN    NaN    NaN    NaN    NaN    NaN   \n",
       "N64              ...    NaN    NaN    NaN    NaN    NaN    NaN    NaN    NaN   \n",
       "NES              ...    NaN    NaN    NaN    NaN    NaN    NaN    NaN    NaN   \n",
       "NG               ...    NaN    NaN    NaN    NaN    NaN    NaN    NaN    NaN   \n",
       "PC               ...    9.0   12.0   17.0   26.0   35.0   23.0   13.0   13.0   \n",
       "PCFX             ...    NaN    NaN    NaN    NaN    NaN    NaN    NaN    NaN   \n",
       "PS               ...    NaN    NaN    NaN    NaN    NaN    NaN    NaN    NaN   \n",
       "PS2              ...   76.0   54.0   26.0    6.0    0.0    NaN    NaN    NaN   \n",
       "PS3              ...   73.0  119.0  131.0  143.0  158.0  108.0  113.0   48.0   \n",
       "PS4              ...    NaN    NaN    NaN    NaN    NaN    NaN   26.0  100.0   \n",
       "PSP              ...   47.0   37.0   38.0   35.0   18.0    8.0    3.0    0.0   \n",
       "PSV              ...    NaN    NaN    NaN    NaN    5.0   16.0   11.0   12.0   \n",
       "SAT              ...    NaN    NaN    NaN    NaN    NaN    NaN    NaN    NaN   \n",
       "SCD              ...    NaN    NaN    NaN    NaN    NaN    NaN    NaN    NaN   \n",
       "SNES             ...    NaN    NaN    NaN    NaN    NaN    NaN    NaN    NaN   \n",
       "TG16             ...    NaN    NaN    NaN    NaN    NaN    NaN    NaN    NaN   \n",
       "WS               ...    NaN    NaN    NaN    NaN    NaN    NaN    NaN    NaN   \n",
       "Wii              ...  153.0  178.0  207.0  129.0   60.0   23.0    9.0    4.0   \n",
       "WiiU             ...    NaN    NaN    NaN    NaN    NaN   18.0   22.0   22.0   \n",
       "X360             ...   95.0  136.0  121.0  171.0  145.0  101.0   89.0   35.0   \n",
       "XB               ...    1.0    0.0    NaN    NaN    NaN    NaN    NaN    NaN   \n",
       "XOne             ...    NaN    NaN    NaN    NaN    NaN    NaN   19.0   54.0   \n",
       "\n",
       "year_of_release   2015  2016  \n",
       "platform                      \n",
       "2600               NaN   NaN  \n",
       "3DO                NaN   NaN  \n",
       "3DS               28.0  15.0  \n",
       "DC                 NaN   NaN  \n",
       "DS                 NaN   NaN  \n",
       "GB                 NaN   NaN  \n",
       "GBA                NaN   NaN  \n",
       "GC                 NaN   NaN  \n",
       "GEN                NaN   NaN  \n",
       "GG                 NaN   NaN  \n",
       "N64                NaN   NaN  \n",
       "NES                NaN   NaN  \n",
       "NG                 NaN   NaN  \n",
       "PC                 9.0   5.0  \n",
       "PCFX               NaN   NaN  \n",
       "PS                 NaN   NaN  \n",
       "PS2                NaN   NaN  \n",
       "PS3               17.0   4.0  \n",
       "PS4              119.0  69.0  \n",
       "PSP                0.0   NaN  \n",
       "PSV                6.0   4.0  \n",
       "SAT                NaN   NaN  \n",
       "SCD                NaN   NaN  \n",
       "SNES               NaN   NaN  \n",
       "TG16               NaN   NaN  \n",
       "WS                 NaN   NaN  \n",
       "Wii                1.0   0.0  \n",
       "WiiU              16.0   5.0  \n",
       "X360              12.0   2.0  \n",
       "XB                 NaN   NaN  \n",
       "XOne              60.0  26.0  \n",
       "\n",
       "[31 rows x 37 columns]"
      ]
     },
     "execution_count": 55,
     "metadata": {},
     "output_type": "execute_result"
    }
   ],
   "source": [
    "(df.pivot_table(index='platform', columns='year_of_release', values='total_sales', aggfunc='sum')).round()"
   ]
  },
  {
   "cell_type": "markdown",
   "metadata": {},
   "source": [
    "Выберем **наиболее популярные платформы с наибольшим количеством суммарных продаж**, для чего построим сводную таблицу по суммарным продажам по платформам."
   ]
  },
  {
   "cell_type": "code",
   "execution_count": 56,
   "metadata": {
    "scrolled": true
   },
   "outputs": [
    {
     "data": {
      "text/plain": [
       "platform\n",
       "PS2     1247.0\n",
       "X360     967.0\n",
       "PS3      935.0\n",
       "Wii      903.0\n",
       "DS       804.0\n",
       "PS       728.0\n",
       "PS4      314.0\n",
       "GBA      314.0\n",
       "PSP      294.0\n",
       "PC       259.0\n",
       "3DS      259.0\n",
       "XB       257.0\n",
       "GB       254.0\n",
       "NES      251.0\n",
       "N64      218.0\n",
       "SNES     200.0\n",
       "GC       199.0\n",
       "XOne     159.0\n",
       "2600      89.0\n",
       "WiiU      82.0\n",
       "PSV       54.0\n",
       "SAT       34.0\n",
       "GEN       28.0\n",
       "DC        16.0\n",
       "SCD        2.0\n",
       "NG         1.0\n",
       "WS         1.0\n",
       "TG16       0.0\n",
       "3DO        0.0\n",
       "GG         0.0\n",
       "PCFX       0.0\n",
       "Name: total_sales, dtype: float32"
      ]
     },
     "execution_count": 56,
     "metadata": {},
     "output_type": "execute_result"
    }
   ],
   "source": [
    "# формирование сводной таблицы по суммарным продажам по платформам\n",
    "platform_sales = (df.groupby('platform')['total_sales'].sum().sort_values(ascending=False)).round()\n",
    "platform_sales"
   ]
  },
  {
   "cell_type": "markdown",
   "metadata": {},
   "source": [
    "Сформируем **список наиболее продаваемых платформ** с суммарными продажами более 500 млн копий."
   ]
  },
  {
   "cell_type": "code",
   "execution_count": 57,
   "metadata": {},
   "outputs": [],
   "source": [
    "# формирование списка самых популярных платформ\n",
    "platform_list = ['PS2', 'X360', 'PS3', 'Wii', 'DS', 'PS']"
   ]
  },
  {
   "cell_type": "markdown",
   "metadata": {},
   "source": [
    "Сделаем срез данных по этим платформам."
   ]
  },
  {
   "cell_type": "code",
   "execution_count": 58,
   "metadata": {
    "scrolled": false
   },
   "outputs": [
    {
     "data": {
      "text/html": [
       "<div>\n",
       "<style scoped>\n",
       "    .dataframe tbody tr th:only-of-type {\n",
       "        vertical-align: middle;\n",
       "    }\n",
       "\n",
       "    .dataframe tbody tr th {\n",
       "        vertical-align: top;\n",
       "    }\n",
       "\n",
       "    .dataframe thead th {\n",
       "        text-align: right;\n",
       "    }\n",
       "</style>\n",
       "<table border=\"1\" class=\"dataframe\">\n",
       "  <thead>\n",
       "    <tr style=\"text-align: right;\">\n",
       "      <th></th>\n",
       "      <th>name</th>\n",
       "      <th>platform</th>\n",
       "      <th>year_of_release</th>\n",
       "      <th>genre</th>\n",
       "      <th>na_sales</th>\n",
       "      <th>eu_sales</th>\n",
       "      <th>jp_sales</th>\n",
       "      <th>other_sales</th>\n",
       "      <th>total_sales</th>\n",
       "      <th>critic_score</th>\n",
       "      <th>user_score</th>\n",
       "      <th>rating</th>\n",
       "    </tr>\n",
       "  </thead>\n",
       "  <tbody>\n",
       "    <tr>\n",
       "      <th>3</th>\n",
       "      <td>Frozen: Olaf's Quest</td>\n",
       "      <td>DS</td>\n",
       "      <td>2013</td>\n",
       "      <td>Platform</td>\n",
       "      <td>0.21</td>\n",
       "      <td>0.26</td>\n",
       "      <td>0.00</td>\n",
       "      <td>0.04</td>\n",
       "      <td>0.51</td>\n",
       "      <td>999.0</td>\n",
       "      <td>999.0</td>\n",
       "      <td>no info</td>\n",
       "    </tr>\n",
       "    <tr>\n",
       "      <th>5</th>\n",
       "      <td>Tales of Xillia 2</td>\n",
       "      <td>PS3</td>\n",
       "      <td>2012</td>\n",
       "      <td>Role-Playing</td>\n",
       "      <td>0.20</td>\n",
       "      <td>0.12</td>\n",
       "      <td>0.45</td>\n",
       "      <td>0.07</td>\n",
       "      <td>0.84</td>\n",
       "      <td>71.0</td>\n",
       "      <td>7.9</td>\n",
       "      <td>T</td>\n",
       "    </tr>\n",
       "    <tr>\n",
       "      <th>6</th>\n",
       "      <td>'98 Koshien</td>\n",
       "      <td>PS</td>\n",
       "      <td>1998</td>\n",
       "      <td>Sports</td>\n",
       "      <td>0.15</td>\n",
       "      <td>0.10</td>\n",
       "      <td>0.12</td>\n",
       "      <td>0.03</td>\n",
       "      <td>0.40</td>\n",
       "      <td>999.0</td>\n",
       "      <td>999.0</td>\n",
       "      <td>no info</td>\n",
       "    </tr>\n",
       "    <tr>\n",
       "      <th>7</th>\n",
       "      <td>.hack//G.U. Vol.1//Rebirth</td>\n",
       "      <td>PS2</td>\n",
       "      <td>2006</td>\n",
       "      <td>Role-Playing</td>\n",
       "      <td>0.00</td>\n",
       "      <td>0.00</td>\n",
       "      <td>0.17</td>\n",
       "      <td>0.00</td>\n",
       "      <td>0.17</td>\n",
       "      <td>999.0</td>\n",
       "      <td>999.0</td>\n",
       "      <td>no info</td>\n",
       "    </tr>\n",
       "    <tr>\n",
       "      <th>8</th>\n",
       "      <td>.hack//G.U. Vol.2//Reminisce</td>\n",
       "      <td>PS2</td>\n",
       "      <td>2006</td>\n",
       "      <td>Role-Playing</td>\n",
       "      <td>0.11</td>\n",
       "      <td>0.09</td>\n",
       "      <td>0.00</td>\n",
       "      <td>0.03</td>\n",
       "      <td>0.23</td>\n",
       "      <td>999.0</td>\n",
       "      <td>999.0</td>\n",
       "      <td>no info</td>\n",
       "    </tr>\n",
       "    <tr>\n",
       "      <th>...</th>\n",
       "      <td>...</td>\n",
       "      <td>...</td>\n",
       "      <td>...</td>\n",
       "      <td>...</td>\n",
       "      <td>...</td>\n",
       "      <td>...</td>\n",
       "      <td>...</td>\n",
       "      <td>...</td>\n",
       "      <td>...</td>\n",
       "      <td>...</td>\n",
       "      <td>...</td>\n",
       "      <td>...</td>\n",
       "    </tr>\n",
       "    <tr>\n",
       "      <th>16562</th>\n",
       "      <td>thinkSMART: Chess for Kids</td>\n",
       "      <td>DS</td>\n",
       "      <td>2011</td>\n",
       "      <td>Misc</td>\n",
       "      <td>0.01</td>\n",
       "      <td>0.00</td>\n",
       "      <td>0.00</td>\n",
       "      <td>0.00</td>\n",
       "      <td>0.01</td>\n",
       "      <td>999.0</td>\n",
       "      <td>999.0</td>\n",
       "      <td>E</td>\n",
       "    </tr>\n",
       "    <tr>\n",
       "      <th>16563</th>\n",
       "      <td>uDraw Studio</td>\n",
       "      <td>Wii</td>\n",
       "      <td>2010</td>\n",
       "      <td>Misc</td>\n",
       "      <td>1.65</td>\n",
       "      <td>0.57</td>\n",
       "      <td>0.00</td>\n",
       "      <td>0.20</td>\n",
       "      <td>2.42</td>\n",
       "      <td>71.0</td>\n",
       "      <td>999.0</td>\n",
       "      <td>E</td>\n",
       "    </tr>\n",
       "    <tr>\n",
       "      <th>16565</th>\n",
       "      <td>uDraw Studio: Instant Artist</td>\n",
       "      <td>X360</td>\n",
       "      <td>2011</td>\n",
       "      <td>Misc</td>\n",
       "      <td>0.01</td>\n",
       "      <td>0.01</td>\n",
       "      <td>0.00</td>\n",
       "      <td>0.00</td>\n",
       "      <td>0.02</td>\n",
       "      <td>54.0</td>\n",
       "      <td>5.7</td>\n",
       "      <td>E</td>\n",
       "    </tr>\n",
       "    <tr>\n",
       "      <th>16564</th>\n",
       "      <td>uDraw Studio: Instant Artist</td>\n",
       "      <td>Wii</td>\n",
       "      <td>2011</td>\n",
       "      <td>Misc</td>\n",
       "      <td>0.06</td>\n",
       "      <td>0.09</td>\n",
       "      <td>0.00</td>\n",
       "      <td>0.02</td>\n",
       "      <td>0.17</td>\n",
       "      <td>999.0</td>\n",
       "      <td>999.0</td>\n",
       "      <td>E</td>\n",
       "    </tr>\n",
       "    <tr>\n",
       "      <th>16566</th>\n",
       "      <td>¡Shin Chan Flipa en colores!</td>\n",
       "      <td>DS</td>\n",
       "      <td>2007</td>\n",
       "      <td>Platform</td>\n",
       "      <td>0.00</td>\n",
       "      <td>0.00</td>\n",
       "      <td>0.14</td>\n",
       "      <td>0.00</td>\n",
       "      <td>0.14</td>\n",
       "      <td>999.0</td>\n",
       "      <td>999.0</td>\n",
       "      <td>no info</td>\n",
       "    </tr>\n",
       "  </tbody>\n",
       "</table>\n",
       "<p>9330 rows × 12 columns</p>\n",
       "</div>"
      ],
      "text/plain": [
       "                               name platform  year_of_release         genre  \\\n",
       "3              Frozen: Olaf's Quest       DS             2013      Platform   \n",
       "5                 Tales of Xillia 2      PS3             2012  Role-Playing   \n",
       "6                       '98 Koshien       PS             1998        Sports   \n",
       "7        .hack//G.U. Vol.1//Rebirth      PS2             2006  Role-Playing   \n",
       "8      .hack//G.U. Vol.2//Reminisce      PS2             2006  Role-Playing   \n",
       "...                             ...      ...              ...           ...   \n",
       "16562    thinkSMART: Chess for Kids       DS             2011          Misc   \n",
       "16563                  uDraw Studio      Wii             2010          Misc   \n",
       "16565  uDraw Studio: Instant Artist     X360             2011          Misc   \n",
       "16564  uDraw Studio: Instant Artist      Wii             2011          Misc   \n",
       "16566  ¡Shin Chan Flipa en colores!       DS             2007      Platform   \n",
       "\n",
       "       na_sales  eu_sales  jp_sales  other_sales  total_sales  critic_score  \\\n",
       "3          0.21      0.26      0.00         0.04         0.51         999.0   \n",
       "5          0.20      0.12      0.45         0.07         0.84          71.0   \n",
       "6          0.15      0.10      0.12         0.03         0.40         999.0   \n",
       "7          0.00      0.00      0.17         0.00         0.17         999.0   \n",
       "8          0.11      0.09      0.00         0.03         0.23         999.0   \n",
       "...         ...       ...       ...          ...          ...           ...   \n",
       "16562      0.01      0.00      0.00         0.00         0.01         999.0   \n",
       "16563      1.65      0.57      0.00         0.20         2.42          71.0   \n",
       "16565      0.01      0.01      0.00         0.00         0.02          54.0   \n",
       "16564      0.06      0.09      0.00         0.02         0.17         999.0   \n",
       "16566      0.00      0.00      0.14         0.00         0.14         999.0   \n",
       "\n",
       "       user_score   rating  \n",
       "3           999.0  no info  \n",
       "5             7.9        T  \n",
       "6           999.0  no info  \n",
       "7           999.0  no info  \n",
       "8           999.0  no info  \n",
       "...           ...      ...  \n",
       "16562       999.0        E  \n",
       "16563       999.0        E  \n",
       "16565         5.7        E  \n",
       "16564       999.0        E  \n",
       "16566       999.0  no info  \n",
       "\n",
       "[9330 rows x 12 columns]"
      ]
     },
     "execution_count": 58,
     "metadata": {},
     "output_type": "execute_result"
    }
   ],
   "source": [
    "# формирование среза данных\n",
    "platform_sales_years = df.query('platform in @platform_list')\n",
    "platform_sales_years"
   ]
  },
  {
   "cell_type": "markdown",
   "metadata": {},
   "source": [
    "Сгруппируем данные по этим платформам по годам по суммарным продажам."
   ]
  },
  {
   "cell_type": "code",
   "execution_count": 59,
   "metadata": {
    "scrolled": true
   },
   "outputs": [
    {
     "data": {
      "text/html": [
       "<div>\n",
       "<style scoped>\n",
       "    .dataframe tbody tr th:only-of-type {\n",
       "        vertical-align: middle;\n",
       "    }\n",
       "\n",
       "    .dataframe tbody tr th {\n",
       "        vertical-align: top;\n",
       "    }\n",
       "\n",
       "    .dataframe thead th {\n",
       "        text-align: right;\n",
       "    }\n",
       "</style>\n",
       "<table border=\"1\" class=\"dataframe\">\n",
       "  <thead>\n",
       "    <tr style=\"text-align: right;\">\n",
       "      <th>year_of_release</th>\n",
       "      <th>1985</th>\n",
       "      <th>1991</th>\n",
       "      <th>1994</th>\n",
       "      <th>1995</th>\n",
       "      <th>1996</th>\n",
       "      <th>1997</th>\n",
       "      <th>1998</th>\n",
       "      <th>1999</th>\n",
       "      <th>2000</th>\n",
       "      <th>2001</th>\n",
       "      <th>...</th>\n",
       "      <th>2007</th>\n",
       "      <th>2008</th>\n",
       "      <th>2009</th>\n",
       "      <th>2010</th>\n",
       "      <th>2011</th>\n",
       "      <th>2012</th>\n",
       "      <th>2013</th>\n",
       "      <th>2014</th>\n",
       "      <th>2015</th>\n",
       "      <th>2016</th>\n",
       "    </tr>\n",
       "    <tr>\n",
       "      <th>platform</th>\n",
       "      <th></th>\n",
       "      <th></th>\n",
       "      <th></th>\n",
       "      <th></th>\n",
       "      <th></th>\n",
       "      <th></th>\n",
       "      <th></th>\n",
       "      <th></th>\n",
       "      <th></th>\n",
       "      <th></th>\n",
       "      <th></th>\n",
       "      <th></th>\n",
       "      <th></th>\n",
       "      <th></th>\n",
       "      <th></th>\n",
       "      <th></th>\n",
       "      <th></th>\n",
       "      <th></th>\n",
       "      <th></th>\n",
       "      <th></th>\n",
       "      <th></th>\n",
       "    </tr>\n",
       "  </thead>\n",
       "  <tbody>\n",
       "    <tr>\n",
       "      <th>DS</th>\n",
       "      <td>0.0</td>\n",
       "      <td>NaN</td>\n",
       "      <td>NaN</td>\n",
       "      <td>NaN</td>\n",
       "      <td>NaN</td>\n",
       "      <td>NaN</td>\n",
       "      <td>NaN</td>\n",
       "      <td>NaN</td>\n",
       "      <td>NaN</td>\n",
       "      <td>NaN</td>\n",
       "      <td>...</td>\n",
       "      <td>147.0</td>\n",
       "      <td>145.0</td>\n",
       "      <td>120.0</td>\n",
       "      <td>85.0</td>\n",
       "      <td>26.0</td>\n",
       "      <td>12.0</td>\n",
       "      <td>2.0</td>\n",
       "      <td>NaN</td>\n",
       "      <td>NaN</td>\n",
       "      <td>NaN</td>\n",
       "    </tr>\n",
       "    <tr>\n",
       "      <th>PS</th>\n",
       "      <td>NaN</td>\n",
       "      <td>NaN</td>\n",
       "      <td>6.0</td>\n",
       "      <td>36.0</td>\n",
       "      <td>95.0</td>\n",
       "      <td>136.0</td>\n",
       "      <td>169.0</td>\n",
       "      <td>145.0</td>\n",
       "      <td>96.0</td>\n",
       "      <td>36.0</td>\n",
       "      <td>...</td>\n",
       "      <td>NaN</td>\n",
       "      <td>NaN</td>\n",
       "      <td>NaN</td>\n",
       "      <td>NaN</td>\n",
       "      <td>NaN</td>\n",
       "      <td>NaN</td>\n",
       "      <td>NaN</td>\n",
       "      <td>NaN</td>\n",
       "      <td>NaN</td>\n",
       "      <td>NaN</td>\n",
       "    </tr>\n",
       "    <tr>\n",
       "      <th>PS2</th>\n",
       "      <td>NaN</td>\n",
       "      <td>NaN</td>\n",
       "      <td>NaN</td>\n",
       "      <td>NaN</td>\n",
       "      <td>NaN</td>\n",
       "      <td>1.0</td>\n",
       "      <td>NaN</td>\n",
       "      <td>NaN</td>\n",
       "      <td>39.0</td>\n",
       "      <td>166.0</td>\n",
       "      <td>...</td>\n",
       "      <td>76.0</td>\n",
       "      <td>54.0</td>\n",
       "      <td>26.0</td>\n",
       "      <td>6.0</td>\n",
       "      <td>0.0</td>\n",
       "      <td>NaN</td>\n",
       "      <td>NaN</td>\n",
       "      <td>NaN</td>\n",
       "      <td>NaN</td>\n",
       "      <td>NaN</td>\n",
       "    </tr>\n",
       "    <tr>\n",
       "      <th>PS3</th>\n",
       "      <td>NaN</td>\n",
       "      <td>0.0</td>\n",
       "      <td>NaN</td>\n",
       "      <td>NaN</td>\n",
       "      <td>NaN</td>\n",
       "      <td>NaN</td>\n",
       "      <td>NaN</td>\n",
       "      <td>NaN</td>\n",
       "      <td>NaN</td>\n",
       "      <td>NaN</td>\n",
       "      <td>...</td>\n",
       "      <td>73.0</td>\n",
       "      <td>119.0</td>\n",
       "      <td>131.0</td>\n",
       "      <td>143.0</td>\n",
       "      <td>158.0</td>\n",
       "      <td>108.0</td>\n",
       "      <td>113.0</td>\n",
       "      <td>48.0</td>\n",
       "      <td>17.0</td>\n",
       "      <td>4.0</td>\n",
       "    </tr>\n",
       "    <tr>\n",
       "      <th>Wii</th>\n",
       "      <td>NaN</td>\n",
       "      <td>NaN</td>\n",
       "      <td>NaN</td>\n",
       "      <td>NaN</td>\n",
       "      <td>NaN</td>\n",
       "      <td>NaN</td>\n",
       "      <td>NaN</td>\n",
       "      <td>NaN</td>\n",
       "      <td>NaN</td>\n",
       "      <td>NaN</td>\n",
       "      <td>...</td>\n",
       "      <td>153.0</td>\n",
       "      <td>178.0</td>\n",
       "      <td>207.0</td>\n",
       "      <td>129.0</td>\n",
       "      <td>60.0</td>\n",
       "      <td>23.0</td>\n",
       "      <td>9.0</td>\n",
       "      <td>4.0</td>\n",
       "      <td>1.0</td>\n",
       "      <td>0.0</td>\n",
       "    </tr>\n",
       "    <tr>\n",
       "      <th>X360</th>\n",
       "      <td>NaN</td>\n",
       "      <td>NaN</td>\n",
       "      <td>NaN</td>\n",
       "      <td>NaN</td>\n",
       "      <td>NaN</td>\n",
       "      <td>NaN</td>\n",
       "      <td>NaN</td>\n",
       "      <td>NaN</td>\n",
       "      <td>NaN</td>\n",
       "      <td>NaN</td>\n",
       "      <td>...</td>\n",
       "      <td>95.0</td>\n",
       "      <td>136.0</td>\n",
       "      <td>121.0</td>\n",
       "      <td>171.0</td>\n",
       "      <td>145.0</td>\n",
       "      <td>101.0</td>\n",
       "      <td>89.0</td>\n",
       "      <td>35.0</td>\n",
       "      <td>12.0</td>\n",
       "      <td>2.0</td>\n",
       "    </tr>\n",
       "  </tbody>\n",
       "</table>\n",
       "<p>6 rows × 25 columns</p>\n",
       "</div>"
      ],
      "text/plain": [
       "year_of_release  1985  1991  1994  1995  1996   1997   1998   1999  2000  \\\n",
       "platform                                                                   \n",
       "DS                0.0   NaN   NaN   NaN   NaN    NaN    NaN    NaN   NaN   \n",
       "PS                NaN   NaN   6.0  36.0  95.0  136.0  169.0  145.0  96.0   \n",
       "PS2               NaN   NaN   NaN   NaN   NaN    1.0    NaN    NaN  39.0   \n",
       "PS3               NaN   0.0   NaN   NaN   NaN    NaN    NaN    NaN   NaN   \n",
       "Wii               NaN   NaN   NaN   NaN   NaN    NaN    NaN    NaN   NaN   \n",
       "X360              NaN   NaN   NaN   NaN   NaN    NaN    NaN    NaN   NaN   \n",
       "\n",
       "year_of_release   2001  ...   2007   2008   2009   2010   2011   2012   2013  \\\n",
       "platform                ...                                                    \n",
       "DS                 NaN  ...  147.0  145.0  120.0   85.0   26.0   12.0    2.0   \n",
       "PS                36.0  ...    NaN    NaN    NaN    NaN    NaN    NaN    NaN   \n",
       "PS2              166.0  ...   76.0   54.0   26.0    6.0    0.0    NaN    NaN   \n",
       "PS3                NaN  ...   73.0  119.0  131.0  143.0  158.0  108.0  113.0   \n",
       "Wii                NaN  ...  153.0  178.0  207.0  129.0   60.0   23.0    9.0   \n",
       "X360               NaN  ...   95.0  136.0  121.0  171.0  145.0  101.0   89.0   \n",
       "\n",
       "year_of_release  2014  2015  2016  \n",
       "platform                           \n",
       "DS                NaN   NaN   NaN  \n",
       "PS                NaN   NaN   NaN  \n",
       "PS2               NaN   NaN   NaN  \n",
       "PS3              48.0  17.0   4.0  \n",
       "Wii               4.0   1.0   0.0  \n",
       "X360             35.0  12.0   2.0  \n",
       "\n",
       "[6 rows x 25 columns]"
      ]
     },
     "execution_count": 59,
     "metadata": {},
     "output_type": "execute_result"
    }
   ],
   "source": [
    "# формирование сводной таблицы по платформам по годам (суммарные продажи)\n",
    "platform_sales_years_pivot = (platform_sales_years.pivot_table(index='platform', columns='year_of_release', values='total_sales', aggfunc='sum')).round()\n",
    "platform_sales_years_pivot"
   ]
  },
  {
   "cell_type": "markdown",
   "metadata": {},
   "source": [
    "Построим **диаграммы для визуализации процесса появления и исчезновения платформ**."
   ]
  },
  {
   "cell_type": "markdown",
   "metadata": {},
   "source": [
    "Подготовим список названий колонок с годами для построения диаграмм."
   ]
  },
  {
   "cell_type": "code",
   "execution_count": 60,
   "metadata": {
    "scrolled": true
   },
   "outputs": [],
   "source": [
    "# формирование списка с годами\n",
    "years = list(platform_sales_years_pivot.columns.values)"
   ]
  },
  {
   "cell_type": "code",
   "execution_count": 61,
   "metadata": {
    "scrolled": true
   },
   "outputs": [
    {
     "data": {
      "image/png": "[encoded data removed]",
      "text/plain": [
       "<Figure size 1440x1440 with 6 Axes>"
      ]
     },
     "metadata": {
      "needs_background": "light"
     },
     "output_type": "display_data"
    }
   ],
   "source": [
    "# построение диаграмм по выбранным 6 платформам с наибольшим количеством суммарных продаж\n",
    "plt.figure(figsize=(20, 20))\n",
    "for i, platform in enumerate(platform_sales_years['platform'].unique()):\n",
    "    plt.subplot(3, 2, i + 1)\n",
    "    platform_sales_years_pivot.loc[platform, years].plot(kind='bar')\n",
    "    plt.title(platform)\n",
    "    plt.xlabel('Year')\n",
    "    plt.ylabel('total_sales')"
   ]
  },
  {
   "cell_type": "markdown",
   "metadata": {},
   "source": [
    "На основании данных диаграмм можно сделать вывод о том, что платформы существуют 10-11 лет, 2-3 года набирают популярность, 2-4 года находятся на пике популярности и в течение 3-4 лет теряют популярность и уходят с рынка."
   ]
  },
  {
   "cell_type": "markdown",
   "metadata": {},
   "source": [
    "Продолжим анализ на данных актуального периода. В качестве актуального периода возьмем данные, максимально приближенные к моменту прогнозирования - данные за 2012-2016 годы."
   ]
  },
  {
   "cell_type": "code",
   "execution_count": 62,
   "metadata": {
    "scrolled": true
   },
   "outputs": [
    {
     "data": {
      "text/html": [
       "<div>\n",
       "<style scoped>\n",
       "    .dataframe tbody tr th:only-of-type {\n",
       "        vertical-align: middle;\n",
       "    }\n",
       "\n",
       "    .dataframe tbody tr th {\n",
       "        vertical-align: top;\n",
       "    }\n",
       "\n",
       "    .dataframe thead th {\n",
       "        text-align: right;\n",
       "    }\n",
       "</style>\n",
       "<table border=\"1\" class=\"dataframe\">\n",
       "  <thead>\n",
       "    <tr style=\"text-align: right;\">\n",
       "      <th></th>\n",
       "      <th>name</th>\n",
       "      <th>platform</th>\n",
       "      <th>year_of_release</th>\n",
       "      <th>genre</th>\n",
       "      <th>na_sales</th>\n",
       "      <th>eu_sales</th>\n",
       "      <th>jp_sales</th>\n",
       "      <th>other_sales</th>\n",
       "      <th>total_sales</th>\n",
       "      <th>critic_score</th>\n",
       "      <th>user_score</th>\n",
       "      <th>rating</th>\n",
       "    </tr>\n",
       "  </thead>\n",
       "  <tbody>\n",
       "    <tr>\n",
       "      <th>0</th>\n",
       "      <td>Beyblade Burst</td>\n",
       "      <td>3DS</td>\n",
       "      <td>2016</td>\n",
       "      <td>Role-Playing</td>\n",
       "      <td>0.00</td>\n",
       "      <td>0.00</td>\n",
       "      <td>0.03</td>\n",
       "      <td>0.00</td>\n",
       "      <td>0.03</td>\n",
       "      <td>999.0</td>\n",
       "      <td>999.0</td>\n",
       "      <td>no info</td>\n",
       "    </tr>\n",
       "    <tr>\n",
       "      <th>1</th>\n",
       "      <td>Fire Emblem Fates</td>\n",
       "      <td>3DS</td>\n",
       "      <td>2015</td>\n",
       "      <td>Role-Playing</td>\n",
       "      <td>0.81</td>\n",
       "      <td>0.23</td>\n",
       "      <td>0.52</td>\n",
       "      <td>0.11</td>\n",
       "      <td>1.67</td>\n",
       "      <td>999.0</td>\n",
       "      <td>999.0</td>\n",
       "      <td>no info</td>\n",
       "    </tr>\n",
       "    <tr>\n",
       "      <th>2</th>\n",
       "      <td>Frozen: Olaf's Quest</td>\n",
       "      <td>3DS</td>\n",
       "      <td>2013</td>\n",
       "      <td>Platform</td>\n",
       "      <td>0.27</td>\n",
       "      <td>0.27</td>\n",
       "      <td>0.00</td>\n",
       "      <td>0.05</td>\n",
       "      <td>0.59</td>\n",
       "      <td>999.0</td>\n",
       "      <td>999.0</td>\n",
       "      <td>no info</td>\n",
       "    </tr>\n",
       "    <tr>\n",
       "      <th>3</th>\n",
       "      <td>Frozen: Olaf's Quest</td>\n",
       "      <td>DS</td>\n",
       "      <td>2013</td>\n",
       "      <td>Platform</td>\n",
       "      <td>0.21</td>\n",
       "      <td>0.26</td>\n",
       "      <td>0.00</td>\n",
       "      <td>0.04</td>\n",
       "      <td>0.51</td>\n",
       "      <td>999.0</td>\n",
       "      <td>999.0</td>\n",
       "      <td>no info</td>\n",
       "    </tr>\n",
       "    <tr>\n",
       "      <th>4</th>\n",
       "      <td>Haikyu!! Cross Team Match!</td>\n",
       "      <td>3DS</td>\n",
       "      <td>2016</td>\n",
       "      <td>Adventure</td>\n",
       "      <td>0.00</td>\n",
       "      <td>0.00</td>\n",
       "      <td>0.04</td>\n",
       "      <td>0.00</td>\n",
       "      <td>0.04</td>\n",
       "      <td>999.0</td>\n",
       "      <td>999.0</td>\n",
       "      <td>no info</td>\n",
       "    </tr>\n",
       "    <tr>\n",
       "      <th>...</th>\n",
       "      <td>...</td>\n",
       "      <td>...</td>\n",
       "      <td>...</td>\n",
       "      <td>...</td>\n",
       "      <td>...</td>\n",
       "      <td>...</td>\n",
       "      <td>...</td>\n",
       "      <td>...</td>\n",
       "      <td>...</td>\n",
       "      <td>...</td>\n",
       "      <td>...</td>\n",
       "      <td>...</td>\n",
       "    </tr>\n",
       "    <tr>\n",
       "      <th>16531</th>\n",
       "      <td>[Prototype 2]</td>\n",
       "      <td>PC</td>\n",
       "      <td>2012</td>\n",
       "      <td>Action</td>\n",
       "      <td>0.07</td>\n",
       "      <td>0.03</td>\n",
       "      <td>0.00</td>\n",
       "      <td>0.01</td>\n",
       "      <td>0.11</td>\n",
       "      <td>76.0</td>\n",
       "      <td>6.4</td>\n",
       "      <td>M</td>\n",
       "    </tr>\n",
       "    <tr>\n",
       "      <th>16530</th>\n",
       "      <td>[Prototype 2]</td>\n",
       "      <td>PS3</td>\n",
       "      <td>2012</td>\n",
       "      <td>Action</td>\n",
       "      <td>0.36</td>\n",
       "      <td>0.28</td>\n",
       "      <td>0.00</td>\n",
       "      <td>0.10</td>\n",
       "      <td>0.74</td>\n",
       "      <td>79.0</td>\n",
       "      <td>6.8</td>\n",
       "      <td>M</td>\n",
       "    </tr>\n",
       "    <tr>\n",
       "      <th>16529</th>\n",
       "      <td>[Prototype 2]</td>\n",
       "      <td>X360</td>\n",
       "      <td>2012</td>\n",
       "      <td>Action</td>\n",
       "      <td>0.48</td>\n",
       "      <td>0.24</td>\n",
       "      <td>0.00</td>\n",
       "      <td>0.07</td>\n",
       "      <td>0.79</td>\n",
       "      <td>74.0</td>\n",
       "      <td>7.0</td>\n",
       "      <td>M</td>\n",
       "    </tr>\n",
       "    <tr>\n",
       "      <th>16543</th>\n",
       "      <td>htoL#NiQ: The Firefly Diary</td>\n",
       "      <td>PSV</td>\n",
       "      <td>2014</td>\n",
       "      <td>Platform</td>\n",
       "      <td>0.00</td>\n",
       "      <td>0.00</td>\n",
       "      <td>0.01</td>\n",
       "      <td>0.00</td>\n",
       "      <td>0.01</td>\n",
       "      <td>58.0</td>\n",
       "      <td>7.7</td>\n",
       "      <td>T</td>\n",
       "    </tr>\n",
       "    <tr>\n",
       "      <th>16550</th>\n",
       "      <td>inFAMOUS: Second Son</td>\n",
       "      <td>PS4</td>\n",
       "      <td>2014</td>\n",
       "      <td>Action</td>\n",
       "      <td>1.28</td>\n",
       "      <td>0.98</td>\n",
       "      <td>0.07</td>\n",
       "      <td>0.46</td>\n",
       "      <td>2.79</td>\n",
       "      <td>80.0</td>\n",
       "      <td>7.9</td>\n",
       "      <td>T</td>\n",
       "    </tr>\n",
       "  </tbody>\n",
       "</table>\n",
       "<p>2899 rows × 12 columns</p>\n",
       "</div>"
      ],
      "text/plain": [
       "                              name platform  year_of_release         genre  \\\n",
       "0                   Beyblade Burst      3DS             2016  Role-Playing   \n",
       "1                Fire Emblem Fates      3DS             2015  Role-Playing   \n",
       "2             Frozen: Olaf's Quest      3DS             2013      Platform   \n",
       "3             Frozen: Olaf's Quest       DS             2013      Platform   \n",
       "4       Haikyu!! Cross Team Match!      3DS             2016     Adventure   \n",
       "...                            ...      ...              ...           ...   \n",
       "16531                [Prototype 2]       PC             2012        Action   \n",
       "16530                [Prototype 2]      PS3             2012        Action   \n",
       "16529                [Prototype 2]     X360             2012        Action   \n",
       "16543  htoL#NiQ: The Firefly Diary      PSV             2014      Platform   \n",
       "16550         inFAMOUS: Second Son      PS4             2014        Action   \n",
       "\n",
       "       na_sales  eu_sales  jp_sales  other_sales  total_sales  critic_score  \\\n",
       "0          0.00      0.00      0.03         0.00         0.03         999.0   \n",
       "1          0.81      0.23      0.52         0.11         1.67         999.0   \n",
       "2          0.27      0.27      0.00         0.05         0.59         999.0   \n",
       "3          0.21      0.26      0.00         0.04         0.51         999.0   \n",
       "4          0.00      0.00      0.04         0.00         0.04         999.0   \n",
       "...         ...       ...       ...          ...          ...           ...   \n",
       "16531      0.07      0.03      0.00         0.01         0.11          76.0   \n",
       "16530      0.36      0.28      0.00         0.10         0.74          79.0   \n",
       "16529      0.48      0.24      0.00         0.07         0.79          74.0   \n",
       "16543      0.00      0.00      0.01         0.00         0.01          58.0   \n",
       "16550      1.28      0.98      0.07         0.46         2.79          80.0   \n",
       "\n",
       "       user_score   rating  \n",
       "0           999.0  no info  \n",
       "1           999.0  no info  \n",
       "2           999.0  no info  \n",
       "3           999.0  no info  \n",
       "4           999.0  no info  \n",
       "...           ...      ...  \n",
       "16531         6.4        M  \n",
       "16530         6.8        M  \n",
       "16529         7.0        M  \n",
       "16543         7.7        T  \n",
       "16550         7.9        T  \n",
       "\n",
       "[2899 rows x 12 columns]"
      ]
     },
     "execution_count": 62,
     "metadata": {},
     "output_type": "execute_result"
    }
   ],
   "source": [
    "# формирование среза данных за 2012-2016 годы\n",
    "df_2012_2016 = df.query('year_of_release > 2011')\n",
    "df_2012_2016"
   ]
  },
  {
   "cell_type": "markdown",
   "metadata": {},
   "source": [
    "Определим, **какие платформы в периоде 2012-2016 лидируют по продажам**, растут или падают. Выберем несколько потенциально прибыльных платформ."
   ]
  },
  {
   "cell_type": "code",
   "execution_count": 63,
   "metadata": {
    "scrolled": true
   },
   "outputs": [
    {
     "data": {
      "text/html": [
       "<div>\n",
       "<style scoped>\n",
       "    .dataframe tbody tr th:only-of-type {\n",
       "        vertical-align: middle;\n",
       "    }\n",
       "\n",
       "    .dataframe tbody tr th {\n",
       "        vertical-align: top;\n",
       "    }\n",
       "\n",
       "    .dataframe thead th {\n",
       "        text-align: right;\n",
       "    }\n",
       "</style>\n",
       "<table border=\"1\" class=\"dataframe\">\n",
       "  <thead>\n",
       "    <tr style=\"text-align: right;\">\n",
       "      <th>year_of_release</th>\n",
       "      <th>2012</th>\n",
       "      <th>2013</th>\n",
       "      <th>2014</th>\n",
       "      <th>2015</th>\n",
       "      <th>2016</th>\n",
       "    </tr>\n",
       "    <tr>\n",
       "      <th>platform</th>\n",
       "      <th></th>\n",
       "      <th></th>\n",
       "      <th></th>\n",
       "      <th></th>\n",
       "      <th></th>\n",
       "    </tr>\n",
       "  </thead>\n",
       "  <tbody>\n",
       "    <tr>\n",
       "      <th>3DS</th>\n",
       "      <td>52.0</td>\n",
       "      <td>57.0</td>\n",
       "      <td>44.0</td>\n",
       "      <td>28.0</td>\n",
       "      <td>15.0</td>\n",
       "    </tr>\n",
       "    <tr>\n",
       "      <th>DS</th>\n",
       "      <td>12.0</td>\n",
       "      <td>2.0</td>\n",
       "      <td>NaN</td>\n",
       "      <td>NaN</td>\n",
       "      <td>NaN</td>\n",
       "    </tr>\n",
       "    <tr>\n",
       "      <th>PC</th>\n",
       "      <td>23.0</td>\n",
       "      <td>13.0</td>\n",
       "      <td>13.0</td>\n",
       "      <td>9.0</td>\n",
       "      <td>5.0</td>\n",
       "    </tr>\n",
       "    <tr>\n",
       "      <th>PS3</th>\n",
       "      <td>108.0</td>\n",
       "      <td>113.0</td>\n",
       "      <td>48.0</td>\n",
       "      <td>17.0</td>\n",
       "      <td>4.0</td>\n",
       "    </tr>\n",
       "    <tr>\n",
       "      <th>PS4</th>\n",
       "      <td>NaN</td>\n",
       "      <td>26.0</td>\n",
       "      <td>100.0</td>\n",
       "      <td>119.0</td>\n",
       "      <td>69.0</td>\n",
       "    </tr>\n",
       "    <tr>\n",
       "      <th>PSP</th>\n",
       "      <td>8.0</td>\n",
       "      <td>3.0</td>\n",
       "      <td>0.0</td>\n",
       "      <td>0.0</td>\n",
       "      <td>NaN</td>\n",
       "    </tr>\n",
       "    <tr>\n",
       "      <th>PSV</th>\n",
       "      <td>16.0</td>\n",
       "      <td>11.0</td>\n",
       "      <td>12.0</td>\n",
       "      <td>6.0</td>\n",
       "      <td>4.0</td>\n",
       "    </tr>\n",
       "    <tr>\n",
       "      <th>Wii</th>\n",
       "      <td>23.0</td>\n",
       "      <td>9.0</td>\n",
       "      <td>4.0</td>\n",
       "      <td>1.0</td>\n",
       "      <td>0.0</td>\n",
       "    </tr>\n",
       "    <tr>\n",
       "      <th>WiiU</th>\n",
       "      <td>18.0</td>\n",
       "      <td>22.0</td>\n",
       "      <td>22.0</td>\n",
       "      <td>16.0</td>\n",
       "      <td>5.0</td>\n",
       "    </tr>\n",
       "    <tr>\n",
       "      <th>X360</th>\n",
       "      <td>101.0</td>\n",
       "      <td>89.0</td>\n",
       "      <td>35.0</td>\n",
       "      <td>12.0</td>\n",
       "      <td>2.0</td>\n",
       "    </tr>\n",
       "    <tr>\n",
       "      <th>XOne</th>\n",
       "      <td>NaN</td>\n",
       "      <td>19.0</td>\n",
       "      <td>54.0</td>\n",
       "      <td>60.0</td>\n",
       "      <td>26.0</td>\n",
       "    </tr>\n",
       "  </tbody>\n",
       "</table>\n",
       "</div>"
      ],
      "text/plain": [
       "year_of_release   2012   2013   2014   2015  2016\n",
       "platform                                         \n",
       "3DS               52.0   57.0   44.0   28.0  15.0\n",
       "DS                12.0    2.0    NaN    NaN   NaN\n",
       "PC                23.0   13.0   13.0    9.0   5.0\n",
       "PS3              108.0  113.0   48.0   17.0   4.0\n",
       "PS4                NaN   26.0  100.0  119.0  69.0\n",
       "PSP                8.0    3.0    0.0    0.0   NaN\n",
       "PSV               16.0   11.0   12.0    6.0   4.0\n",
       "Wii               23.0    9.0    4.0    1.0   0.0\n",
       "WiiU              18.0   22.0   22.0   16.0   5.0\n",
       "X360             101.0   89.0   35.0   12.0   2.0\n",
       "XOne               NaN   19.0   54.0   60.0  26.0"
      ]
     },
     "execution_count": 63,
     "metadata": {},
     "output_type": "execute_result"
    }
   ],
   "source": [
    "# формирование сводной табилцы по суммарным продажам по платформам за период 2012-2016 годы\n",
    "platform_sales_2012_2016 = (df_2012_2016.pivot_table(index='platform', columns='year_of_release', values='total_sales', aggfunc='sum')).round()\n",
    "platform_sales_2012_2016"
   ]
  },
  {
   "cell_type": "markdown",
   "metadata": {},
   "source": [
    "Как видно из данных сводной таблицы, все платформы в период 2012-2016 демонстрируют снижение объемов продаж. Наиболее привлекательно в разрезе объемов суммарных продаж выглядят платформы 3DS, PS4, XOne."
   ]
  },
  {
   "cell_type": "markdown",
   "metadata": {},
   "source": [
    "Построим **диаграммы размаха по глобальным продажам игр в разбивке по платформам** и проанализируем результат."
   ]
  },
  {
   "cell_type": "code",
   "execution_count": 123,
   "metadata": {},
   "outputs": [
    {
     "data": {
      "image/png": "[encoded data removed]",
      "text/plain": [
       "<Figure size 1080x576 with 1 Axes>"
      ]
     },
     "metadata": {
      "needs_background": "light"
     },
     "output_type": "display_data"
    }
   ],
   "source": [
    "# построение диаграмм размаха по всем платформам с продажами в 2012-2016 годах\n",
    "df_2012_2016.boxplot('total_sales', by='platform', figsize=(15, 8))\n",
    "plt.suptitle('Глобальные продажи игр по платформам')\n",
    "plt.title(None)\n",
    "plt.xlabel('Платформа'), plt.ylabel('Total, млн.')\n",
    "plt.ylim(0, 2)\n",
    "plt.show()"
   ]
  },
  {
   "cell_type": "markdown",
   "metadata": {},
   "source": [
    "**3DS**: медиана на уровне ` 0,13 млн, длинный хвост выбросов в диапазоне 0,75 - 1,9 млн\n",
    "\n",
    "**DS**: медиана на уровне ` 0,05 млн, небольшой хвост выбросов в диапазоне 0,5 - 1,0 млн\n",
    "\n",
    "**PC**: медиана на уровне ` 0,07 млн, длинный хвост выбросов в диапазоне 0,55 - 1,8 млн\n",
    "\n",
    "**PS3**: медиана на уровне ` 0,2 млн, длинный хвост выбросов в диапазоне 1,4 - 1,8 млн\n",
    "\n",
    "**PS4**: медиана на уровне ` 0,2 млн, длинный хвост выбросов в диапазоне 1,7 - 2,0 млн\n",
    "\n",
    "**PSP**: медиана на уровне ` 0,04 млн, небольшой хвост выбросов в диапазоне 0,19 - 0,4 млн\n",
    "\n",
    "**PSV**: медиана на уровне ` 0,045 млн, длинный хвост выбросов в диапазоне 0,27 - 1,4 млн\n",
    "\n",
    "**Wii**: медиана на уровне ` 0,19 млн, выбросов практически нет\n",
    "\n",
    "**WiiU**: медиана на уровне ` 0,23 млн, небольшой хвост выбросов в диапазоне 1,2 - 1,8 млн\n",
    "\n",
    "**X360**: медиана на уровне ` 0,3 млн, выбросов практически нет\n",
    "\n",
    "**XOne**: медиана на уровне ` 0,23 млн, небольшой хвост выбросов в диапазоне 1,6 - 1,8 млн"
   ]
  },
  {
   "cell_type": "markdown",
   "metadata": {},
   "source": [
    "Оценим **влияние на продажи отзывов пользователей и критиков на примере пяти популярных платформ**. Построим точечные диаграммы и посчитаем корреляцию между отзывами и продажами.\n",
    "\n",
    "Для этого сформируем срезы данных по платформам PS4, XOne, 3DS, PC и WiiU без учета фиктивных значений critic_score и user_score, которыми мы заполняли пропуски."
   ]
  },
  {
   "cell_type": "markdown",
   "metadata": {},
   "source": [
    "**Платформа PS4**"
   ]
  },
  {
   "cell_type": "markdown",
   "metadata": {},
   "source": [
    "Оценим взаимосвязь critic_score и total_sales."
   ]
  },
  {
   "cell_type": "code",
   "execution_count": 65,
   "metadata": {
    "scrolled": false
   },
   "outputs": [
    {
     "data": {
      "text/html": [
       "<div>\n",
       "<style scoped>\n",
       "    .dataframe tbody tr th:only-of-type {\n",
       "        vertical-align: middle;\n",
       "    }\n",
       "\n",
       "    .dataframe tbody tr th {\n",
       "        vertical-align: top;\n",
       "    }\n",
       "\n",
       "    .dataframe thead th {\n",
       "        text-align: right;\n",
       "    }\n",
       "</style>\n",
       "<table border=\"1\" class=\"dataframe\">\n",
       "  <thead>\n",
       "    <tr style=\"text-align: right;\">\n",
       "      <th></th>\n",
       "      <th>name</th>\n",
       "      <th>platform</th>\n",
       "      <th>year_of_release</th>\n",
       "      <th>genre</th>\n",
       "      <th>na_sales</th>\n",
       "      <th>eu_sales</th>\n",
       "      <th>jp_sales</th>\n",
       "      <th>other_sales</th>\n",
       "      <th>total_sales</th>\n",
       "      <th>critic_score</th>\n",
       "      <th>user_score</th>\n",
       "      <th>rating</th>\n",
       "    </tr>\n",
       "  </thead>\n",
       "  <tbody>\n",
       "    <tr>\n",
       "      <th>109</th>\n",
       "      <td>7 Days to Die</td>\n",
       "      <td>PS4</td>\n",
       "      <td>2016</td>\n",
       "      <td>Action</td>\n",
       "      <td>0.04</td>\n",
       "      <td>0.08</td>\n",
       "      <td>0.00</td>\n",
       "      <td>0.02</td>\n",
       "      <td>0.14</td>\n",
       "      <td>45.0</td>\n",
       "      <td>5.9</td>\n",
       "      <td>M</td>\n",
       "    </tr>\n",
       "    <tr>\n",
       "      <th>243</th>\n",
       "      <td>Aegis of Earth: Protonovus Assault</td>\n",
       "      <td>PS4</td>\n",
       "      <td>2016</td>\n",
       "      <td>Action</td>\n",
       "      <td>0.02</td>\n",
       "      <td>0.00</td>\n",
       "      <td>0.00</td>\n",
       "      <td>0.00</td>\n",
       "      <td>0.02</td>\n",
       "      <td>57.0</td>\n",
       "      <td>7.8</td>\n",
       "      <td>T</td>\n",
       "    </tr>\n",
       "    <tr>\n",
       "      <th>256</th>\n",
       "      <td>Agatha Christie's The ABC Murders</td>\n",
       "      <td>PS4</td>\n",
       "      <td>2016</td>\n",
       "      <td>Adventure</td>\n",
       "      <td>0.01</td>\n",
       "      <td>0.01</td>\n",
       "      <td>0.00</td>\n",
       "      <td>0.00</td>\n",
       "      <td>0.02</td>\n",
       "      <td>67.0</td>\n",
       "      <td>6.2</td>\n",
       "      <td>T</td>\n",
       "    </tr>\n",
       "    <tr>\n",
       "      <th>343</th>\n",
       "      <td>Alien: Isolation</td>\n",
       "      <td>PS4</td>\n",
       "      <td>2014</td>\n",
       "      <td>Shooter</td>\n",
       "      <td>0.34</td>\n",
       "      <td>0.57</td>\n",
       "      <td>0.04</td>\n",
       "      <td>0.17</td>\n",
       "      <td>1.12</td>\n",
       "      <td>79.0</td>\n",
       "      <td>8.1</td>\n",
       "      <td>M</td>\n",
       "    </tr>\n",
       "    <tr>\n",
       "      <th>463</th>\n",
       "      <td>Angry Birds Star Wars</td>\n",
       "      <td>PS4</td>\n",
       "      <td>2013</td>\n",
       "      <td>Strategy</td>\n",
       "      <td>0.10</td>\n",
       "      <td>0.08</td>\n",
       "      <td>0.00</td>\n",
       "      <td>0.04</td>\n",
       "      <td>0.22</td>\n",
       "      <td>47.0</td>\n",
       "      <td>2.0</td>\n",
       "      <td>E</td>\n",
       "    </tr>\n",
       "    <tr>\n",
       "      <th>...</th>\n",
       "      <td>...</td>\n",
       "      <td>...</td>\n",
       "      <td>...</td>\n",
       "      <td>...</td>\n",
       "      <td>...</td>\n",
       "      <td>...</td>\n",
       "      <td>...</td>\n",
       "      <td>...</td>\n",
       "      <td>...</td>\n",
       "      <td>...</td>\n",
       "      <td>...</td>\n",
       "      <td>...</td>\n",
       "    </tr>\n",
       "    <tr>\n",
       "      <th>16143</th>\n",
       "      <td>World of Final Fantasy</td>\n",
       "      <td>PS4</td>\n",
       "      <td>2016</td>\n",
       "      <td>Role-Playing</td>\n",
       "      <td>0.08</td>\n",
       "      <td>0.14</td>\n",
       "      <td>0.08</td>\n",
       "      <td>0.04</td>\n",
       "      <td>0.34</td>\n",
       "      <td>77.0</td>\n",
       "      <td>8.3</td>\n",
       "      <td>E10+</td>\n",
       "    </tr>\n",
       "    <tr>\n",
       "      <th>16189</th>\n",
       "      <td>Worms: WMD</td>\n",
       "      <td>PS4</td>\n",
       "      <td>2016</td>\n",
       "      <td>Action</td>\n",
       "      <td>0.01</td>\n",
       "      <td>0.02</td>\n",
       "      <td>0.00</td>\n",
       "      <td>0.00</td>\n",
       "      <td>0.03</td>\n",
       "      <td>78.0</td>\n",
       "      <td>7.6</td>\n",
       "      <td>E10+</td>\n",
       "    </tr>\n",
       "    <tr>\n",
       "      <th>16250</th>\n",
       "      <td>XCOM 2</td>\n",
       "      <td>PS4</td>\n",
       "      <td>2016</td>\n",
       "      <td>Strategy</td>\n",
       "      <td>0.04</td>\n",
       "      <td>0.08</td>\n",
       "      <td>0.00</td>\n",
       "      <td>0.02</td>\n",
       "      <td>0.14</td>\n",
       "      <td>88.0</td>\n",
       "      <td>8.0</td>\n",
       "      <td>T</td>\n",
       "    </tr>\n",
       "    <tr>\n",
       "      <th>16491</th>\n",
       "      <td>Zombie Army Trilogy</td>\n",
       "      <td>PS4</td>\n",
       "      <td>2015</td>\n",
       "      <td>Shooter</td>\n",
       "      <td>0.05</td>\n",
       "      <td>0.12</td>\n",
       "      <td>0.00</td>\n",
       "      <td>0.03</td>\n",
       "      <td>0.20</td>\n",
       "      <td>62.0</td>\n",
       "      <td>6.8</td>\n",
       "      <td>no info</td>\n",
       "    </tr>\n",
       "    <tr>\n",
       "      <th>16550</th>\n",
       "      <td>inFAMOUS: Second Son</td>\n",
       "      <td>PS4</td>\n",
       "      <td>2014</td>\n",
       "      <td>Action</td>\n",
       "      <td>1.28</td>\n",
       "      <td>0.98</td>\n",
       "      <td>0.07</td>\n",
       "      <td>0.46</td>\n",
       "      <td>2.79</td>\n",
       "      <td>80.0</td>\n",
       "      <td>7.9</td>\n",
       "      <td>T</td>\n",
       "    </tr>\n",
       "  </tbody>\n",
       "</table>\n",
       "<p>252 rows × 12 columns</p>\n",
       "</div>"
      ],
      "text/plain": [
       "                                     name platform  year_of_release  \\\n",
       "109                         7 Days to Die      PS4             2016   \n",
       "243    Aegis of Earth: Protonovus Assault      PS4             2016   \n",
       "256     Agatha Christie's The ABC Murders      PS4             2016   \n",
       "343                      Alien: Isolation      PS4             2014   \n",
       "463                 Angry Birds Star Wars      PS4             2013   \n",
       "...                                   ...      ...              ...   \n",
       "16143              World of Final Fantasy      PS4             2016   \n",
       "16189                          Worms: WMD      PS4             2016   \n",
       "16250                              XCOM 2      PS4             2016   \n",
       "16491                 Zombie Army Trilogy      PS4             2015   \n",
       "16550                inFAMOUS: Second Son      PS4             2014   \n",
       "\n",
       "              genre  na_sales  eu_sales  jp_sales  other_sales  total_sales  \\\n",
       "109          Action      0.04      0.08      0.00         0.02         0.14   \n",
       "243          Action      0.02      0.00      0.00         0.00         0.02   \n",
       "256       Adventure      0.01      0.01      0.00         0.00         0.02   \n",
       "343         Shooter      0.34      0.57      0.04         0.17         1.12   \n",
       "463        Strategy      0.10      0.08      0.00         0.04         0.22   \n",
       "...             ...       ...       ...       ...          ...          ...   \n",
       "16143  Role-Playing      0.08      0.14      0.08         0.04         0.34   \n",
       "16189        Action      0.01      0.02      0.00         0.00         0.03   \n",
       "16250      Strategy      0.04      0.08      0.00         0.02         0.14   \n",
       "16491       Shooter      0.05      0.12      0.00         0.03         0.20   \n",
       "16550        Action      1.28      0.98      0.07         0.46         2.79   \n",
       "\n",
       "       critic_score  user_score   rating  \n",
       "109            45.0         5.9        M  \n",
       "243            57.0         7.8        T  \n",
       "256            67.0         6.2        T  \n",
       "343            79.0         8.1        M  \n",
       "463            47.0         2.0        E  \n",
       "...             ...         ...      ...  \n",
       "16143          77.0         8.3     E10+  \n",
       "16189          78.0         7.6     E10+  \n",
       "16250          88.0         8.0        T  \n",
       "16491          62.0         6.8  no info  \n",
       "16550          80.0         7.9        T  \n",
       "\n",
       "[252 rows x 12 columns]"
      ]
     },
     "execution_count": 65,
     "metadata": {},
     "output_type": "execute_result"
    }
   ],
   "source": [
    "# формирование среза данных по платформе PS4 без учета фиктивных значений critic_score\n",
    "PS4_critic_score = df_2012_2016.query(\"platform == 'PS4' & critic_score != 999\")\n",
    "PS4_critic_score"
   ]
  },
  {
   "cell_type": "code",
   "execution_count": 66,
   "metadata": {},
   "outputs": [
    {
     "name": "stdout",
     "output_type": "stream",
     "text": [
      "249\n",
      "252\n",
      "257\n"
     ]
    }
   ],
   "source": [
    "# Комментарий ревьюера\n",
    "print(len(df_2012_2016.query(\"platform == 'PS4' & critic_score != 999 & user_score != 999\")))\n",
    "print(len(df_2012_2016.query(\"platform == 'PS4' & critic_score != 999\")))\n",
    "print(len(df_2012_2016.query(\"platform == 'PS4' & user_score != 999\")))"
   ]
  },
  {
   "cell_type": "code",
   "execution_count": 67,
   "metadata": {
    "scrolled": false
   },
   "outputs": [
    {
     "data": {
      "text/html": [
       "<div>\n",
       "<style scoped>\n",
       "    .dataframe tbody tr th:only-of-type {\n",
       "        vertical-align: middle;\n",
       "    }\n",
       "\n",
       "    .dataframe tbody tr th {\n",
       "        vertical-align: top;\n",
       "    }\n",
       "\n",
       "    .dataframe thead th {\n",
       "        text-align: right;\n",
       "    }\n",
       "</style>\n",
       "<table border=\"1\" class=\"dataframe\">\n",
       "  <thead>\n",
       "    <tr style=\"text-align: right;\">\n",
       "      <th></th>\n",
       "      <th>total_sales</th>\n",
       "      <th>critic_score</th>\n",
       "    </tr>\n",
       "  </thead>\n",
       "  <tbody>\n",
       "    <tr>\n",
       "      <th>109</th>\n",
       "      <td>0.14</td>\n",
       "      <td>45.0</td>\n",
       "    </tr>\n",
       "    <tr>\n",
       "      <th>243</th>\n",
       "      <td>0.02</td>\n",
       "      <td>57.0</td>\n",
       "    </tr>\n",
       "    <tr>\n",
       "      <th>256</th>\n",
       "      <td>0.02</td>\n",
       "      <td>67.0</td>\n",
       "    </tr>\n",
       "    <tr>\n",
       "      <th>343</th>\n",
       "      <td>1.12</td>\n",
       "      <td>79.0</td>\n",
       "    </tr>\n",
       "    <tr>\n",
       "      <th>463</th>\n",
       "      <td>0.22</td>\n",
       "      <td>47.0</td>\n",
       "    </tr>\n",
       "  </tbody>\n",
       "</table>\n",
       "</div>"
      ],
      "text/plain": [
       "     total_sales  critic_score\n",
       "109         0.14          45.0\n",
       "243         0.02          57.0\n",
       "256         0.02          67.0\n",
       "343         1.12          79.0\n",
       "463         0.22          47.0"
      ]
     },
     "execution_count": 67,
     "metadata": {},
     "output_type": "execute_result"
    }
   ],
   "source": [
    "# выбор колонок с данными total_sales и critic_score для анализа\n",
    "PS4_critic_corr = PS4_critic_score[['total_sales', 'critic_score']]\n",
    "PS4_critic_corr.head()"
   ]
  },
  {
   "cell_type": "markdown",
   "metadata": {},
   "source": [
    "Посчитаем коэффициент корреляции."
   ]
  },
  {
   "cell_type": "code",
   "execution_count": 68,
   "metadata": {
    "scrolled": true
   },
   "outputs": [
    {
     "data": {
      "text/html": [
       "<div>\n",
       "<style scoped>\n",
       "    .dataframe tbody tr th:only-of-type {\n",
       "        vertical-align: middle;\n",
       "    }\n",
       "\n",
       "    .dataframe tbody tr th {\n",
       "        vertical-align: top;\n",
       "    }\n",
       "\n",
       "    .dataframe thead th {\n",
       "        text-align: right;\n",
       "    }\n",
       "</style>\n",
       "<table border=\"1\" class=\"dataframe\">\n",
       "  <thead>\n",
       "    <tr style=\"text-align: right;\">\n",
       "      <th></th>\n",
       "      <th>total_sales</th>\n",
       "      <th>critic_score</th>\n",
       "    </tr>\n",
       "  </thead>\n",
       "  <tbody>\n",
       "    <tr>\n",
       "      <th>total_sales</th>\n",
       "      <td>1.00</td>\n",
       "      <td>0.41</td>\n",
       "    </tr>\n",
       "    <tr>\n",
       "      <th>critic_score</th>\n",
       "      <td>0.41</td>\n",
       "      <td>1.00</td>\n",
       "    </tr>\n",
       "  </tbody>\n",
       "</table>\n",
       "</div>"
      ],
      "text/plain": [
       "              total_sales  critic_score\n",
       "total_sales          1.00          0.41\n",
       "critic_score         0.41          1.00"
      ]
     },
     "execution_count": 68,
     "metadata": {},
     "output_type": "execute_result"
    }
   ],
   "source": [
    "# расчет коэффициента корреляции\n",
    "PS4_critic_corr.corr().round(2)"
   ]
  },
  {
   "cell_type": "markdown",
   "metadata": {},
   "source": [
    "Получившуюся зависимость визуализируем на графике с помощью точечной диаграммы."
   ]
  },
  {
   "cell_type": "code",
   "execution_count": 69,
   "metadata": {
    "scrolled": true
   },
   "outputs": [
    {
     "data": {
      "text/plain": [
       "Text(0.5, 1.0, 'PS4_total_sales_critic_score')"
      ]
     },
     "execution_count": 69,
     "metadata": {},
     "output_type": "execute_result"
    },
    {
     "data": {
      "image/png": "[encoded data removed]",
      "text/plain": [
       "<Figure size 576x360 with 1 Axes>"
      ]
     },
     "metadata": {
      "needs_background": "light"
     },
     "output_type": "display_data"
    }
   ],
   "source": [
    "PS4_critic_corr.plot(x='total_sales', y='critic_score', kind='scatter', figsize=(8, 5))\n",
    "plt.title('PS4_total_sales_critic_score')"
   ]
  },
  {
   "cell_type": "markdown",
   "metadata": {},
   "source": [
    "Оценим взаимосвязь user_score и total_sales."
   ]
  },
  {
   "cell_type": "code",
   "execution_count": 70,
   "metadata": {},
   "outputs": [
    {
     "data": {
      "text/html": [
       "<div>\n",
       "<style scoped>\n",
       "    .dataframe tbody tr th:only-of-type {\n",
       "        vertical-align: middle;\n",
       "    }\n",
       "\n",
       "    .dataframe tbody tr th {\n",
       "        vertical-align: top;\n",
       "    }\n",
       "\n",
       "    .dataframe thead th {\n",
       "        text-align: right;\n",
       "    }\n",
       "</style>\n",
       "<table border=\"1\" class=\"dataframe\">\n",
       "  <thead>\n",
       "    <tr style=\"text-align: right;\">\n",
       "      <th></th>\n",
       "      <th>name</th>\n",
       "      <th>platform</th>\n",
       "      <th>year_of_release</th>\n",
       "      <th>genre</th>\n",
       "      <th>na_sales</th>\n",
       "      <th>eu_sales</th>\n",
       "      <th>jp_sales</th>\n",
       "      <th>other_sales</th>\n",
       "      <th>total_sales</th>\n",
       "      <th>critic_score</th>\n",
       "      <th>user_score</th>\n",
       "      <th>rating</th>\n",
       "    </tr>\n",
       "  </thead>\n",
       "  <tbody>\n",
       "    <tr>\n",
       "      <th>109</th>\n",
       "      <td>7 Days to Die</td>\n",
       "      <td>PS4</td>\n",
       "      <td>2016</td>\n",
       "      <td>Action</td>\n",
       "      <td>0.04</td>\n",
       "      <td>0.08</td>\n",
       "      <td>0.00</td>\n",
       "      <td>0.02</td>\n",
       "      <td>0.14</td>\n",
       "      <td>45.0</td>\n",
       "      <td>5.9</td>\n",
       "      <td>M</td>\n",
       "    </tr>\n",
       "    <tr>\n",
       "      <th>243</th>\n",
       "      <td>Aegis of Earth: Protonovus Assault</td>\n",
       "      <td>PS4</td>\n",
       "      <td>2016</td>\n",
       "      <td>Action</td>\n",
       "      <td>0.02</td>\n",
       "      <td>0.00</td>\n",
       "      <td>0.00</td>\n",
       "      <td>0.00</td>\n",
       "      <td>0.02</td>\n",
       "      <td>57.0</td>\n",
       "      <td>7.8</td>\n",
       "      <td>T</td>\n",
       "    </tr>\n",
       "    <tr>\n",
       "      <th>256</th>\n",
       "      <td>Agatha Christie's The ABC Murders</td>\n",
       "      <td>PS4</td>\n",
       "      <td>2016</td>\n",
       "      <td>Adventure</td>\n",
       "      <td>0.01</td>\n",
       "      <td>0.01</td>\n",
       "      <td>0.00</td>\n",
       "      <td>0.00</td>\n",
       "      <td>0.02</td>\n",
       "      <td>67.0</td>\n",
       "      <td>6.2</td>\n",
       "      <td>T</td>\n",
       "    </tr>\n",
       "    <tr>\n",
       "      <th>343</th>\n",
       "      <td>Alien: Isolation</td>\n",
       "      <td>PS4</td>\n",
       "      <td>2014</td>\n",
       "      <td>Shooter</td>\n",
       "      <td>0.34</td>\n",
       "      <td>0.57</td>\n",
       "      <td>0.04</td>\n",
       "      <td>0.17</td>\n",
       "      <td>1.12</td>\n",
       "      <td>79.0</td>\n",
       "      <td>8.1</td>\n",
       "      <td>M</td>\n",
       "    </tr>\n",
       "    <tr>\n",
       "      <th>463</th>\n",
       "      <td>Angry Birds Star Wars</td>\n",
       "      <td>PS4</td>\n",
       "      <td>2013</td>\n",
       "      <td>Strategy</td>\n",
       "      <td>0.10</td>\n",
       "      <td>0.08</td>\n",
       "      <td>0.00</td>\n",
       "      <td>0.04</td>\n",
       "      <td>0.22</td>\n",
       "      <td>47.0</td>\n",
       "      <td>2.0</td>\n",
       "      <td>E</td>\n",
       "    </tr>\n",
       "    <tr>\n",
       "      <th>...</th>\n",
       "      <td>...</td>\n",
       "      <td>...</td>\n",
       "      <td>...</td>\n",
       "      <td>...</td>\n",
       "      <td>...</td>\n",
       "      <td>...</td>\n",
       "      <td>...</td>\n",
       "      <td>...</td>\n",
       "      <td>...</td>\n",
       "      <td>...</td>\n",
       "      <td>...</td>\n",
       "      <td>...</td>\n",
       "    </tr>\n",
       "    <tr>\n",
       "      <th>16143</th>\n",
       "      <td>World of Final Fantasy</td>\n",
       "      <td>PS4</td>\n",
       "      <td>2016</td>\n",
       "      <td>Role-Playing</td>\n",
       "      <td>0.08</td>\n",
       "      <td>0.14</td>\n",
       "      <td>0.08</td>\n",
       "      <td>0.04</td>\n",
       "      <td>0.34</td>\n",
       "      <td>77.0</td>\n",
       "      <td>8.3</td>\n",
       "      <td>E10+</td>\n",
       "    </tr>\n",
       "    <tr>\n",
       "      <th>16189</th>\n",
       "      <td>Worms: WMD</td>\n",
       "      <td>PS4</td>\n",
       "      <td>2016</td>\n",
       "      <td>Action</td>\n",
       "      <td>0.01</td>\n",
       "      <td>0.02</td>\n",
       "      <td>0.00</td>\n",
       "      <td>0.00</td>\n",
       "      <td>0.03</td>\n",
       "      <td>78.0</td>\n",
       "      <td>7.6</td>\n",
       "      <td>E10+</td>\n",
       "    </tr>\n",
       "    <tr>\n",
       "      <th>16250</th>\n",
       "      <td>XCOM 2</td>\n",
       "      <td>PS4</td>\n",
       "      <td>2016</td>\n",
       "      <td>Strategy</td>\n",
       "      <td>0.04</td>\n",
       "      <td>0.08</td>\n",
       "      <td>0.00</td>\n",
       "      <td>0.02</td>\n",
       "      <td>0.14</td>\n",
       "      <td>88.0</td>\n",
       "      <td>8.0</td>\n",
       "      <td>T</td>\n",
       "    </tr>\n",
       "    <tr>\n",
       "      <th>16491</th>\n",
       "      <td>Zombie Army Trilogy</td>\n",
       "      <td>PS4</td>\n",
       "      <td>2015</td>\n",
       "      <td>Shooter</td>\n",
       "      <td>0.05</td>\n",
       "      <td>0.12</td>\n",
       "      <td>0.00</td>\n",
       "      <td>0.03</td>\n",
       "      <td>0.20</td>\n",
       "      <td>62.0</td>\n",
       "      <td>6.8</td>\n",
       "      <td>no info</td>\n",
       "    </tr>\n",
       "    <tr>\n",
       "      <th>16550</th>\n",
       "      <td>inFAMOUS: Second Son</td>\n",
       "      <td>PS4</td>\n",
       "      <td>2014</td>\n",
       "      <td>Action</td>\n",
       "      <td>1.28</td>\n",
       "      <td>0.98</td>\n",
       "      <td>0.07</td>\n",
       "      <td>0.46</td>\n",
       "      <td>2.79</td>\n",
       "      <td>80.0</td>\n",
       "      <td>7.9</td>\n",
       "      <td>T</td>\n",
       "    </tr>\n",
       "  </tbody>\n",
       "</table>\n",
       "<p>257 rows × 12 columns</p>\n",
       "</div>"
      ],
      "text/plain": [
       "                                     name platform  year_of_release  \\\n",
       "109                         7 Days to Die      PS4             2016   \n",
       "243    Aegis of Earth: Protonovus Assault      PS4             2016   \n",
       "256     Agatha Christie's The ABC Murders      PS4             2016   \n",
       "343                      Alien: Isolation      PS4             2014   \n",
       "463                 Angry Birds Star Wars      PS4             2013   \n",
       "...                                   ...      ...              ...   \n",
       "16143              World of Final Fantasy      PS4             2016   \n",
       "16189                          Worms: WMD      PS4             2016   \n",
       "16250                              XCOM 2      PS4             2016   \n",
       "16491                 Zombie Army Trilogy      PS4             2015   \n",
       "16550                inFAMOUS: Second Son      PS4             2014   \n",
       "\n",
       "              genre  na_sales  eu_sales  jp_sales  other_sales  total_sales  \\\n",
       "109          Action      0.04      0.08      0.00         0.02         0.14   \n",
       "243          Action      0.02      0.00      0.00         0.00         0.02   \n",
       "256       Adventure      0.01      0.01      0.00         0.00         0.02   \n",
       "343         Shooter      0.34      0.57      0.04         0.17         1.12   \n",
       "463        Strategy      0.10      0.08      0.00         0.04         0.22   \n",
       "...             ...       ...       ...       ...          ...          ...   \n",
       "16143  Role-Playing      0.08      0.14      0.08         0.04         0.34   \n",
       "16189        Action      0.01      0.02      0.00         0.00         0.03   \n",
       "16250      Strategy      0.04      0.08      0.00         0.02         0.14   \n",
       "16491       Shooter      0.05      0.12      0.00         0.03         0.20   \n",
       "16550        Action      1.28      0.98      0.07         0.46         2.79   \n",
       "\n",
       "       critic_score  user_score   rating  \n",
       "109            45.0         5.9        M  \n",
       "243            57.0         7.8        T  \n",
       "256            67.0         6.2        T  \n",
       "343            79.0         8.1        M  \n",
       "463            47.0         2.0        E  \n",
       "...             ...         ...      ...  \n",
       "16143          77.0         8.3     E10+  \n",
       "16189          78.0         7.6     E10+  \n",
       "16250          88.0         8.0        T  \n",
       "16491          62.0         6.8  no info  \n",
       "16550          80.0         7.9        T  \n",
       "\n",
       "[257 rows x 12 columns]"
      ]
     },
     "execution_count": 70,
     "metadata": {},
     "output_type": "execute_result"
    }
   ],
   "source": [
    "# формирование среза данных по платформе PS4 без учета фиктивных значений user_score\n",
    "PS4_user_score = df_2012_2016.query(\"platform == 'PS4' & user_score != 999\")\n",
    "PS4_user_score"
   ]
  },
  {
   "cell_type": "code",
   "execution_count": 71,
   "metadata": {},
   "outputs": [
    {
     "data": {
      "text/html": [
       "<div>\n",
       "<style scoped>\n",
       "    .dataframe tbody tr th:only-of-type {\n",
       "        vertical-align: middle;\n",
       "    }\n",
       "\n",
       "    .dataframe tbody tr th {\n",
       "        vertical-align: top;\n",
       "    }\n",
       "\n",
       "    .dataframe thead th {\n",
       "        text-align: right;\n",
       "    }\n",
       "</style>\n",
       "<table border=\"1\" class=\"dataframe\">\n",
       "  <thead>\n",
       "    <tr style=\"text-align: right;\">\n",
       "      <th></th>\n",
       "      <th>total_sales</th>\n",
       "      <th>user_score</th>\n",
       "    </tr>\n",
       "  </thead>\n",
       "  <tbody>\n",
       "    <tr>\n",
       "      <th>109</th>\n",
       "      <td>0.14</td>\n",
       "      <td>5.9</td>\n",
       "    </tr>\n",
       "    <tr>\n",
       "      <th>243</th>\n",
       "      <td>0.02</td>\n",
       "      <td>7.8</td>\n",
       "    </tr>\n",
       "    <tr>\n",
       "      <th>256</th>\n",
       "      <td>0.02</td>\n",
       "      <td>6.2</td>\n",
       "    </tr>\n",
       "    <tr>\n",
       "      <th>343</th>\n",
       "      <td>1.12</td>\n",
       "      <td>8.1</td>\n",
       "    </tr>\n",
       "    <tr>\n",
       "      <th>463</th>\n",
       "      <td>0.22</td>\n",
       "      <td>2.0</td>\n",
       "    </tr>\n",
       "  </tbody>\n",
       "</table>\n",
       "</div>"
      ],
      "text/plain": [
       "     total_sales  user_score\n",
       "109         0.14         5.9\n",
       "243         0.02         7.8\n",
       "256         0.02         6.2\n",
       "343         1.12         8.1\n",
       "463         0.22         2.0"
      ]
     },
     "execution_count": 71,
     "metadata": {},
     "output_type": "execute_result"
    }
   ],
   "source": [
    "# выбор колонок с данными total_sales и user_score для анализа\n",
    "PS4_user_corr = PS4_user_score[['total_sales', 'user_score']]\n",
    "PS4_user_corr.head()"
   ]
  },
  {
   "cell_type": "markdown",
   "metadata": {},
   "source": [
    "Посчитаем коэффициент корреляции."
   ]
  },
  {
   "cell_type": "code",
   "execution_count": 72,
   "metadata": {},
   "outputs": [
    {
     "data": {
      "text/html": [
       "<div>\n",
       "<style scoped>\n",
       "    .dataframe tbody tr th:only-of-type {\n",
       "        vertical-align: middle;\n",
       "    }\n",
       "\n",
       "    .dataframe tbody tr th {\n",
       "        vertical-align: top;\n",
       "    }\n",
       "\n",
       "    .dataframe thead th {\n",
       "        text-align: right;\n",
       "    }\n",
       "</style>\n",
       "<table border=\"1\" class=\"dataframe\">\n",
       "  <thead>\n",
       "    <tr style=\"text-align: right;\">\n",
       "      <th></th>\n",
       "      <th>total_sales</th>\n",
       "      <th>user_score</th>\n",
       "    </tr>\n",
       "  </thead>\n",
       "  <tbody>\n",
       "    <tr>\n",
       "      <th>total_sales</th>\n",
       "      <td>1.00</td>\n",
       "      <td>-0.03</td>\n",
       "    </tr>\n",
       "    <tr>\n",
       "      <th>user_score</th>\n",
       "      <td>-0.03</td>\n",
       "      <td>1.00</td>\n",
       "    </tr>\n",
       "  </tbody>\n",
       "</table>\n",
       "</div>"
      ],
      "text/plain": [
       "             total_sales  user_score\n",
       "total_sales         1.00       -0.03\n",
       "user_score         -0.03        1.00"
      ]
     },
     "execution_count": 72,
     "metadata": {},
     "output_type": "execute_result"
    }
   ],
   "source": [
    "# расчет коэффициента корреляции\n",
    "PS4_user_corr.corr().round(2)"
   ]
  },
  {
   "cell_type": "markdown",
   "metadata": {},
   "source": [
    "Получившуюся зависимость визуализируем на графике с помощью точечной диаграммы."
   ]
  },
  {
   "cell_type": "code",
   "execution_count": 73,
   "metadata": {},
   "outputs": [
    {
     "data": {
      "text/plain": [
       "Text(0.5, 1.0, 'PS4_total_sales_user_score')"
      ]
     },
     "execution_count": 73,
     "metadata": {},
     "output_type": "execute_result"
    },
    {
     "data": {
      "image/png": "[encoded data removed]",
      "text/plain": [
       "<Figure size 576x360 with 1 Axes>"
      ]
     },
     "metadata": {
      "needs_background": "light"
     },
     "output_type": "display_data"
    }
   ],
   "source": [
    "PS4_user_corr.plot(x='total_sales', y='user_score', kind='scatter', figsize=(8, 5))\n",
    "plt.title('PS4_total_sales_user_score')"
   ]
  },
  {
   "cell_type": "markdown",
   "metadata": {},
   "source": [
    "Таким образом, на основании изучения данных выше взаимосвязь оценок и объемов продаж описать следующим образом:\n",
    "\n",
    "* связаны прямо пропорционально (рост одного вызывает рост другого), связь существенная положительная: оценки критиков и суммарные продажи\n",
    "* связаны обратно пропорционально (рост одного вызывает снижение другого), связь слабая отрицательная: оценки пользователей и суммарные продажи\n",
    "\n",
    "Вторая взаимосвязь выглядит нелогичной, вероятно, имеет место некоторая предвзятость пользователей, проводивших оценку игр. Если бы игра не соответсвовала ожиданиям пользователей, ее продажи бы не росли."
   ]
  },
  {
   "cell_type": "markdown",
   "metadata": {},
   "source": [
    "Проверим полученные выводы на данных по популярным платформам **XOne, 3DS, PC, WiiU**."
   ]
  },
  {
   "cell_type": "markdown",
   "metadata": {},
   "source": [
    "Оценим взаимосвязь critic_score и total_sales."
   ]
  },
  {
   "cell_type": "code",
   "execution_count": 74,
   "metadata": {
    "scrolled": true
   },
   "outputs": [
    {
     "data": {
      "text/html": [
       "<div>\n",
       "<style scoped>\n",
       "    .dataframe tbody tr th:only-of-type {\n",
       "        vertical-align: middle;\n",
       "    }\n",
       "\n",
       "    .dataframe tbody tr th {\n",
       "        vertical-align: top;\n",
       "    }\n",
       "\n",
       "    .dataframe thead th {\n",
       "        text-align: right;\n",
       "    }\n",
       "</style>\n",
       "<table border=\"1\" class=\"dataframe\">\n",
       "  <thead>\n",
       "    <tr style=\"text-align: right;\">\n",
       "      <th></th>\n",
       "      <th>name</th>\n",
       "      <th>platform</th>\n",
       "      <th>year_of_release</th>\n",
       "      <th>genre</th>\n",
       "      <th>na_sales</th>\n",
       "      <th>eu_sales</th>\n",
       "      <th>jp_sales</th>\n",
       "      <th>other_sales</th>\n",
       "      <th>total_sales</th>\n",
       "      <th>critic_score</th>\n",
       "      <th>user_score</th>\n",
       "      <th>rating</th>\n",
       "    </tr>\n",
       "  </thead>\n",
       "  <tbody>\n",
       "    <tr>\n",
       "      <th>110</th>\n",
       "      <td>7 Days to Die</td>\n",
       "      <td>XOne</td>\n",
       "      <td>2016</td>\n",
       "      <td>Action</td>\n",
       "      <td>0.03</td>\n",
       "      <td>0.02</td>\n",
       "      <td>0.00</td>\n",
       "      <td>0.0</td>\n",
       "      <td>0.05</td>\n",
       "      <td>35.0</td>\n",
       "      <td>5.2</td>\n",
       "      <td>M</td>\n",
       "    </tr>\n",
       "    <tr>\n",
       "      <th>120</th>\n",
       "      <td>7th Dragon III Code: VFD</td>\n",
       "      <td>3DS</td>\n",
       "      <td>2015</td>\n",
       "      <td>Role-Playing</td>\n",
       "      <td>0.04</td>\n",
       "      <td>0.00</td>\n",
       "      <td>0.12</td>\n",
       "      <td>0.0</td>\n",
       "      <td>0.16</td>\n",
       "      <td>77.0</td>\n",
       "      <td>8.2</td>\n",
       "      <td>T</td>\n",
       "    </tr>\n",
       "    <tr>\n",
       "      <th>138</th>\n",
       "      <td>A-Train: City Simulator</td>\n",
       "      <td>3DS</td>\n",
       "      <td>2014</td>\n",
       "      <td>Simulation</td>\n",
       "      <td>0.00</td>\n",
       "      <td>0.00</td>\n",
       "      <td>0.06</td>\n",
       "      <td>0.0</td>\n",
       "      <td>0.06</td>\n",
       "      <td>65.0</td>\n",
       "      <td>999.0</td>\n",
       "      <td>E10+</td>\n",
       "    </tr>\n",
       "    <tr>\n",
       "      <th>203</th>\n",
       "      <td>Act of Aggression</td>\n",
       "      <td>PC</td>\n",
       "      <td>2015</td>\n",
       "      <td>Strategy</td>\n",
       "      <td>0.00</td>\n",
       "      <td>0.01</td>\n",
       "      <td>0.00</td>\n",
       "      <td>0.0</td>\n",
       "      <td>0.01</td>\n",
       "      <td>71.0</td>\n",
       "      <td>7.1</td>\n",
       "      <td>no info</td>\n",
       "    </tr>\n",
       "    <tr>\n",
       "      <th>236</th>\n",
       "      <td>Adventure Time: The Secret of the Nameless Kin...</td>\n",
       "      <td>3DS</td>\n",
       "      <td>2014</td>\n",
       "      <td>Action</td>\n",
       "      <td>0.00</td>\n",
       "      <td>0.07</td>\n",
       "      <td>0.00</td>\n",
       "      <td>0.0</td>\n",
       "      <td>0.07</td>\n",
       "      <td>65.0</td>\n",
       "      <td>5.6</td>\n",
       "      <td>E10+</td>\n",
       "    </tr>\n",
       "  </tbody>\n",
       "</table>\n",
       "</div>"
      ],
      "text/plain": [
       "                                                  name platform  \\\n",
       "110                                      7 Days to Die     XOne   \n",
       "120                           7th Dragon III Code: VFD      3DS   \n",
       "138                            A-Train: City Simulator      3DS   \n",
       "203                                  Act of Aggression       PC   \n",
       "236  Adventure Time: The Secret of the Nameless Kin...      3DS   \n",
       "\n",
       "     year_of_release         genre  na_sales  eu_sales  jp_sales  other_sales  \\\n",
       "110             2016        Action      0.03      0.02      0.00          0.0   \n",
       "120             2015  Role-Playing      0.04      0.00      0.12          0.0   \n",
       "138             2014    Simulation      0.00      0.00      0.06          0.0   \n",
       "203             2015      Strategy      0.00      0.01      0.00          0.0   \n",
       "236             2014        Action      0.00      0.07      0.00          0.0   \n",
       "\n",
       "     total_sales  critic_score  user_score   rating  \n",
       "110         0.05          35.0         5.2        M  \n",
       "120         0.16          77.0         8.2        T  \n",
       "138         0.06          65.0       999.0     E10+  \n",
       "203         0.01          71.0         7.1  no info  \n",
       "236         0.07          65.0         5.6     E10+  "
      ]
     },
     "execution_count": 74,
     "metadata": {},
     "output_type": "execute_result"
    }
   ],
   "source": [
    "# формирование среза данных по платформам без учета фиктивных значений critic_score\n",
    "pop_platform_list = ['XOne', '3DS', 'PC', 'WiiU']\n",
    "pop_platform_critic_score = df_2012_2016.query(\"platform in @pop_platform_list & critic_score != 999\")\n",
    "pop_platform_critic_score.head()"
   ]
  },
  {
   "cell_type": "code",
   "execution_count": 75,
   "metadata": {},
   "outputs": [],
   "source": [
    "# создание функции для расчета корреляции и построения точечной диаграммы по каждой платформе\n",
    "def platform_critic_corr(platform):\n",
    "    platform_data = pop_platform_critic_score[(pop_platform_critic_score['platform'] == platform)]\n",
    "    platform_critic_corr = platform_data[['total_sales', 'critic_score']]\n",
    "    display(platform_critic_corr.corr().round(2))\n",
    "    platform_critic_corr.plot(x='total_sales', y='critic_score', kind='scatter', figsize=(8, 5))\n",
    "    plt.title(f'{platform}_total_sales_critic_score')"
   ]
  },
  {
   "cell_type": "code",
   "execution_count": 76,
   "metadata": {
    "scrolled": true
   },
   "outputs": [
    {
     "data": {
      "text/html": [
       "<div>\n",
       "<style scoped>\n",
       "    .dataframe tbody tr th:only-of-type {\n",
       "        vertical-align: middle;\n",
       "    }\n",
       "\n",
       "    .dataframe tbody tr th {\n",
       "        vertical-align: top;\n",
       "    }\n",
       "\n",
       "    .dataframe thead th {\n",
       "        text-align: right;\n",
       "    }\n",
       "</style>\n",
       "<table border=\"1\" class=\"dataframe\">\n",
       "  <thead>\n",
       "    <tr style=\"text-align: right;\">\n",
       "      <th></th>\n",
       "      <th>total_sales</th>\n",
       "      <th>critic_score</th>\n",
       "    </tr>\n",
       "  </thead>\n",
       "  <tbody>\n",
       "    <tr>\n",
       "      <th>total_sales</th>\n",
       "      <td>1.00</td>\n",
       "      <td>0.42</td>\n",
       "    </tr>\n",
       "    <tr>\n",
       "      <th>critic_score</th>\n",
       "      <td>0.42</td>\n",
       "      <td>1.00</td>\n",
       "    </tr>\n",
       "  </tbody>\n",
       "</table>\n",
       "</div>"
      ],
      "text/plain": [
       "              total_sales  critic_score\n",
       "total_sales          1.00          0.42\n",
       "critic_score         0.42          1.00"
      ]
     },
     "metadata": {},
     "output_type": "display_data"
    },
    {
     "data": {
      "image/png": "[encoded data removed]",
      "text/plain": [
       "<Figure size 576x360 with 1 Axes>"
      ]
     },
     "metadata": {
      "needs_background": "light"
     },
     "output_type": "display_data"
    }
   ],
   "source": [
    "# расчет корреляции и построениt точечной диаграммы по платформе XOne\n",
    "platform_critic_corr('XOne')"
   ]
  },
  {
   "cell_type": "code",
   "execution_count": 77,
   "metadata": {
    "scrolled": true
   },
   "outputs": [
    {
     "data": {
      "text/html": [
       "<div>\n",
       "<style scoped>\n",
       "    .dataframe tbody tr th:only-of-type {\n",
       "        vertical-align: middle;\n",
       "    }\n",
       "\n",
       "    .dataframe tbody tr th {\n",
       "        vertical-align: top;\n",
       "    }\n",
       "\n",
       "    .dataframe thead th {\n",
       "        text-align: right;\n",
       "    }\n",
       "</style>\n",
       "<table border=\"1\" class=\"dataframe\">\n",
       "  <thead>\n",
       "    <tr style=\"text-align: right;\">\n",
       "      <th></th>\n",
       "      <th>total_sales</th>\n",
       "      <th>critic_score</th>\n",
       "    </tr>\n",
       "  </thead>\n",
       "  <tbody>\n",
       "    <tr>\n",
       "      <th>total_sales</th>\n",
       "      <td>1.00</td>\n",
       "      <td>0.32</td>\n",
       "    </tr>\n",
       "    <tr>\n",
       "      <th>critic_score</th>\n",
       "      <td>0.32</td>\n",
       "      <td>1.00</td>\n",
       "    </tr>\n",
       "  </tbody>\n",
       "</table>\n",
       "</div>"
      ],
      "text/plain": [
       "              total_sales  critic_score\n",
       "total_sales          1.00          0.32\n",
       "critic_score         0.32          1.00"
      ]
     },
     "metadata": {},
     "output_type": "display_data"
    },
    {
     "data": {
      "image/png": "[encoded data removed]",
      "text/plain": [
       "<Figure size 576x360 with 1 Axes>"
      ]
     },
     "metadata": {
      "needs_background": "light"
     },
     "output_type": "display_data"
    }
   ],
   "source": [
    "# расчет корреляции и построениt точечной диаграммы по платформе 3DS\n",
    "platform_critic_corr('3DS')"
   ]
  },
  {
   "cell_type": "code",
   "execution_count": 78,
   "metadata": {
    "scrolled": false
   },
   "outputs": [
    {
     "data": {
      "text/html": [
       "<div>\n",
       "<style scoped>\n",
       "    .dataframe tbody tr th:only-of-type {\n",
       "        vertical-align: middle;\n",
       "    }\n",
       "\n",
       "    .dataframe tbody tr th {\n",
       "        vertical-align: top;\n",
       "    }\n",
       "\n",
       "    .dataframe thead th {\n",
       "        text-align: right;\n",
       "    }\n",
       "</style>\n",
       "<table border=\"1\" class=\"dataframe\">\n",
       "  <thead>\n",
       "    <tr style=\"text-align: right;\">\n",
       "      <th></th>\n",
       "      <th>total_sales</th>\n",
       "      <th>critic_score</th>\n",
       "    </tr>\n",
       "  </thead>\n",
       "  <tbody>\n",
       "    <tr>\n",
       "      <th>total_sales</th>\n",
       "      <td>1.00</td>\n",
       "      <td>0.24</td>\n",
       "    </tr>\n",
       "    <tr>\n",
       "      <th>critic_score</th>\n",
       "      <td>0.24</td>\n",
       "      <td>1.00</td>\n",
       "    </tr>\n",
       "  </tbody>\n",
       "</table>\n",
       "</div>"
      ],
      "text/plain": [
       "              total_sales  critic_score\n",
       "total_sales          1.00          0.24\n",
       "critic_score         0.24          1.00"
      ]
     },
     "metadata": {},
     "output_type": "display_data"
    },
    {
     "data": {
      "image/png": "[encoded data removed]",
      "text/plain": [
       "<Figure size 576x360 with 1 Axes>"
      ]
     },
     "metadata": {
      "needs_background": "light"
     },
     "output_type": "display_data"
    }
   ],
   "source": [
    "# расчет корреляции и построениt точечной диаграммы по платформе PC\n",
    "platform_critic_corr('PC')"
   ]
  },
  {
   "cell_type": "code",
   "execution_count": 79,
   "metadata": {
    "scrolled": true
   },
   "outputs": [
    {
     "data": {
      "text/html": [
       "<div>\n",
       "<style scoped>\n",
       "    .dataframe tbody tr th:only-of-type {\n",
       "        vertical-align: middle;\n",
       "    }\n",
       "\n",
       "    .dataframe tbody tr th {\n",
       "        vertical-align: top;\n",
       "    }\n",
       "\n",
       "    .dataframe thead th {\n",
       "        text-align: right;\n",
       "    }\n",
       "</style>\n",
       "<table border=\"1\" class=\"dataframe\">\n",
       "  <thead>\n",
       "    <tr style=\"text-align: right;\">\n",
       "      <th></th>\n",
       "      <th>total_sales</th>\n",
       "      <th>critic_score</th>\n",
       "    </tr>\n",
       "  </thead>\n",
       "  <tbody>\n",
       "    <tr>\n",
       "      <th>total_sales</th>\n",
       "      <td>1.00</td>\n",
       "      <td>0.35</td>\n",
       "    </tr>\n",
       "    <tr>\n",
       "      <th>critic_score</th>\n",
       "      <td>0.35</td>\n",
       "      <td>1.00</td>\n",
       "    </tr>\n",
       "  </tbody>\n",
       "</table>\n",
       "</div>"
      ],
      "text/plain": [
       "              total_sales  critic_score\n",
       "total_sales          1.00          0.35\n",
       "critic_score         0.35          1.00"
      ]
     },
     "metadata": {},
     "output_type": "display_data"
    },
    {
     "data": {
      "image/png": "[encoded data removed]",
      "text/plain": [
       "<Figure size 576x360 with 1 Axes>"
      ]
     },
     "metadata": {
      "needs_background": "light"
     },
     "output_type": "display_data"
    }
   ],
   "source": [
    "# расчет корреляции и построениt точечной диаграммы по платформе WiiU\n",
    "platform_critic_corr('WiiU')"
   ]
  },
  {
   "cell_type": "markdown",
   "metadata": {},
   "source": [
    "Оценим взаимосвязь user_score и total_sales."
   ]
  },
  {
   "cell_type": "code",
   "execution_count": 80,
   "metadata": {},
   "outputs": [
    {
     "data": {
      "text/html": [
       "<div>\n",
       "<style scoped>\n",
       "    .dataframe tbody tr th:only-of-type {\n",
       "        vertical-align: middle;\n",
       "    }\n",
       "\n",
       "    .dataframe tbody tr th {\n",
       "        vertical-align: top;\n",
       "    }\n",
       "\n",
       "    .dataframe thead th {\n",
       "        text-align: right;\n",
       "    }\n",
       "</style>\n",
       "<table border=\"1\" class=\"dataframe\">\n",
       "  <thead>\n",
       "    <tr style=\"text-align: right;\">\n",
       "      <th></th>\n",
       "      <th>name</th>\n",
       "      <th>platform</th>\n",
       "      <th>year_of_release</th>\n",
       "      <th>genre</th>\n",
       "      <th>na_sales</th>\n",
       "      <th>eu_sales</th>\n",
       "      <th>jp_sales</th>\n",
       "      <th>other_sales</th>\n",
       "      <th>total_sales</th>\n",
       "      <th>critic_score</th>\n",
       "      <th>user_score</th>\n",
       "      <th>rating</th>\n",
       "    </tr>\n",
       "  </thead>\n",
       "  <tbody>\n",
       "    <tr>\n",
       "      <th>110</th>\n",
       "      <td>7 Days to Die</td>\n",
       "      <td>XOne</td>\n",
       "      <td>2016</td>\n",
       "      <td>Action</td>\n",
       "      <td>0.03</td>\n",
       "      <td>0.02</td>\n",
       "      <td>0.00</td>\n",
       "      <td>0.0</td>\n",
       "      <td>0.05</td>\n",
       "      <td>35.0</td>\n",
       "      <td>5.2</td>\n",
       "      <td>M</td>\n",
       "    </tr>\n",
       "    <tr>\n",
       "      <th>120</th>\n",
       "      <td>7th Dragon III Code: VFD</td>\n",
       "      <td>3DS</td>\n",
       "      <td>2015</td>\n",
       "      <td>Role-Playing</td>\n",
       "      <td>0.04</td>\n",
       "      <td>0.00</td>\n",
       "      <td>0.12</td>\n",
       "      <td>0.0</td>\n",
       "      <td>0.16</td>\n",
       "      <td>77.0</td>\n",
       "      <td>8.2</td>\n",
       "      <td>T</td>\n",
       "    </tr>\n",
       "    <tr>\n",
       "      <th>203</th>\n",
       "      <td>Act of Aggression</td>\n",
       "      <td>PC</td>\n",
       "      <td>2015</td>\n",
       "      <td>Strategy</td>\n",
       "      <td>0.00</td>\n",
       "      <td>0.01</td>\n",
       "      <td>0.00</td>\n",
       "      <td>0.0</td>\n",
       "      <td>0.01</td>\n",
       "      <td>71.0</td>\n",
       "      <td>7.1</td>\n",
       "      <td>no info</td>\n",
       "    </tr>\n",
       "    <tr>\n",
       "      <th>236</th>\n",
       "      <td>Adventure Time: The Secret of the Nameless Kin...</td>\n",
       "      <td>3DS</td>\n",
       "      <td>2014</td>\n",
       "      <td>Action</td>\n",
       "      <td>0.00</td>\n",
       "      <td>0.07</td>\n",
       "      <td>0.00</td>\n",
       "      <td>0.0</td>\n",
       "      <td>0.07</td>\n",
       "      <td>65.0</td>\n",
       "      <td>5.6</td>\n",
       "      <td>E10+</td>\n",
       "    </tr>\n",
       "    <tr>\n",
       "      <th>257</th>\n",
       "      <td>Agatha Christie's The ABC Murders</td>\n",
       "      <td>XOne</td>\n",
       "      <td>2016</td>\n",
       "      <td>Adventure</td>\n",
       "      <td>0.01</td>\n",
       "      <td>0.00</td>\n",
       "      <td>0.00</td>\n",
       "      <td>0.0</td>\n",
       "      <td>0.01</td>\n",
       "      <td>66.0</td>\n",
       "      <td>7.5</td>\n",
       "      <td>no info</td>\n",
       "    </tr>\n",
       "  </tbody>\n",
       "</table>\n",
       "</div>"
      ],
      "text/plain": [
       "                                                  name platform  \\\n",
       "110                                      7 Days to Die     XOne   \n",
       "120                           7th Dragon III Code: VFD      3DS   \n",
       "203                                  Act of Aggression       PC   \n",
       "236  Adventure Time: The Secret of the Nameless Kin...      3DS   \n",
       "257                  Agatha Christie's The ABC Murders     XOne   \n",
       "\n",
       "     year_of_release         genre  na_sales  eu_sales  jp_sales  other_sales  \\\n",
       "110             2016        Action      0.03      0.02      0.00          0.0   \n",
       "120             2015  Role-Playing      0.04      0.00      0.12          0.0   \n",
       "203             2015      Strategy      0.00      0.01      0.00          0.0   \n",
       "236             2014        Action      0.00      0.07      0.00          0.0   \n",
       "257             2016     Adventure      0.01      0.00      0.00          0.0   \n",
       "\n",
       "     total_sales  critic_score  user_score   rating  \n",
       "110         0.05          35.0         5.2        M  \n",
       "120         0.16          77.0         8.2        T  \n",
       "203         0.01          71.0         7.1  no info  \n",
       "236         0.07          65.0         5.6     E10+  \n",
       "257         0.01          66.0         7.5  no info  "
      ]
     },
     "execution_count": 80,
     "metadata": {},
     "output_type": "execute_result"
    }
   ],
   "source": [
    "# формирование среза данных по платформам без учета фиктивных значений user_score\n",
    "pop_platform_list = ['XOne', '3DS', 'PC', 'WiiU']\n",
    "pop_platform_user_score = df_2012_2016.query(\"platform in @pop_platform_list & user_score != 999\")\n",
    "pop_platform_user_score.head()"
   ]
  },
  {
   "cell_type": "code",
   "execution_count": 81,
   "metadata": {},
   "outputs": [],
   "source": [
    "# создание функции для расчета корреляции и построения точечной диаграммы по каждой платформе\n",
    "def platform_user_corr(platform):\n",
    "    platform_data = pop_platform_user_score[(pop_platform_user_score['platform'] == platform)]\n",
    "    platform_user_corr = platform_data[['total_sales', 'user_score']]\n",
    "    display(platform_user_corr.corr().round(2))\n",
    "    platform_user_corr.plot(x='total_sales', y='user_score', kind='scatter', figsize=(8, 5))\n",
    "    plt.title(f'{platform}_total_sales_user_score')"
   ]
  },
  {
   "cell_type": "code",
   "execution_count": 82,
   "metadata": {},
   "outputs": [
    {
     "data": {
      "text/html": [
       "<div>\n",
       "<style scoped>\n",
       "    .dataframe tbody tr th:only-of-type {\n",
       "        vertical-align: middle;\n",
       "    }\n",
       "\n",
       "    .dataframe tbody tr th {\n",
       "        vertical-align: top;\n",
       "    }\n",
       "\n",
       "    .dataframe thead th {\n",
       "        text-align: right;\n",
       "    }\n",
       "</style>\n",
       "<table border=\"1\" class=\"dataframe\">\n",
       "  <thead>\n",
       "    <tr style=\"text-align: right;\">\n",
       "      <th></th>\n",
       "      <th>total_sales</th>\n",
       "      <th>user_score</th>\n",
       "    </tr>\n",
       "  </thead>\n",
       "  <tbody>\n",
       "    <tr>\n",
       "      <th>total_sales</th>\n",
       "      <td>1.00</td>\n",
       "      <td>-0.07</td>\n",
       "    </tr>\n",
       "    <tr>\n",
       "      <th>user_score</th>\n",
       "      <td>-0.07</td>\n",
       "      <td>1.00</td>\n",
       "    </tr>\n",
       "  </tbody>\n",
       "</table>\n",
       "</div>"
      ],
      "text/plain": [
       "             total_sales  user_score\n",
       "total_sales         1.00       -0.07\n",
       "user_score         -0.07        1.00"
      ]
     },
     "metadata": {},
     "output_type": "display_data"
    },
    {
     "data": {
      "image/png": "[encoded data removed]",
      "text/plain": [
       "<Figure size 576x360 with 1 Axes>"
      ]
     },
     "metadata": {
      "needs_background": "light"
     },
     "output_type": "display_data"
    }
   ],
   "source": [
    "# расчет корреляции и построение точечной диаграммы по платформе XOne\n",
    "platform_user_corr('XOne')"
   ]
  },
  {
   "cell_type": "code",
   "execution_count": 83,
   "metadata": {},
   "outputs": [
    {
     "data": {
      "text/html": [
       "<div>\n",
       "<style scoped>\n",
       "    .dataframe tbody tr th:only-of-type {\n",
       "        vertical-align: middle;\n",
       "    }\n",
       "\n",
       "    .dataframe tbody tr th {\n",
       "        vertical-align: top;\n",
       "    }\n",
       "\n",
       "    .dataframe thead th {\n",
       "        text-align: right;\n",
       "    }\n",
       "</style>\n",
       "<table border=\"1\" class=\"dataframe\">\n",
       "  <thead>\n",
       "    <tr style=\"text-align: right;\">\n",
       "      <th></th>\n",
       "      <th>total_sales</th>\n",
       "      <th>user_score</th>\n",
       "    </tr>\n",
       "  </thead>\n",
       "  <tbody>\n",
       "    <tr>\n",
       "      <th>total_sales</th>\n",
       "      <td>1.0</td>\n",
       "      <td>0.2</td>\n",
       "    </tr>\n",
       "    <tr>\n",
       "      <th>user_score</th>\n",
       "      <td>0.2</td>\n",
       "      <td>1.0</td>\n",
       "    </tr>\n",
       "  </tbody>\n",
       "</table>\n",
       "</div>"
      ],
      "text/plain": [
       "             total_sales  user_score\n",
       "total_sales          1.0         0.2\n",
       "user_score           0.2         1.0"
      ]
     },
     "metadata": {},
     "output_type": "display_data"
    },
    {
     "data": {
      "image/png": "[encoded data removed]",
      "text/plain": [
       "<Figure size 576x360 with 1 Axes>"
      ]
     },
     "metadata": {
      "needs_background": "light"
     },
     "output_type": "display_data"
    }
   ],
   "source": [
    "# расчет корреляции и построение точечной диаграммы по платформе 3DS\n",
    "platform_user_corr('3DS')"
   ]
  },
  {
   "cell_type": "code",
   "execution_count": 84,
   "metadata": {},
   "outputs": [
    {
     "data": {
      "text/html": [
       "<div>\n",
       "<style scoped>\n",
       "    .dataframe tbody tr th:only-of-type {\n",
       "        vertical-align: middle;\n",
       "    }\n",
       "\n",
       "    .dataframe tbody tr th {\n",
       "        vertical-align: top;\n",
       "    }\n",
       "\n",
       "    .dataframe thead th {\n",
       "        text-align: right;\n",
       "    }\n",
       "</style>\n",
       "<table border=\"1\" class=\"dataframe\">\n",
       "  <thead>\n",
       "    <tr style=\"text-align: right;\">\n",
       "      <th></th>\n",
       "      <th>total_sales</th>\n",
       "      <th>user_score</th>\n",
       "    </tr>\n",
       "  </thead>\n",
       "  <tbody>\n",
       "    <tr>\n",
       "      <th>total_sales</th>\n",
       "      <td>1.00</td>\n",
       "      <td>-0.12</td>\n",
       "    </tr>\n",
       "    <tr>\n",
       "      <th>user_score</th>\n",
       "      <td>-0.12</td>\n",
       "      <td>1.00</td>\n",
       "    </tr>\n",
       "  </tbody>\n",
       "</table>\n",
       "</div>"
      ],
      "text/plain": [
       "             total_sales  user_score\n",
       "total_sales         1.00       -0.12\n",
       "user_score         -0.12        1.00"
      ]
     },
     "metadata": {},
     "output_type": "display_data"
    },
    {
     "data": {
      "image/png": "[encoded data removed]",
      "text/plain": [
       "<Figure size 576x360 with 1 Axes>"
      ]
     },
     "metadata": {
      "needs_background": "light"
     },
     "output_type": "display_data"
    }
   ],
   "source": [
    "# расчет корреляции и построение точечной диаграммы по платформе PC\n",
    "platform_user_corr('PC')"
   ]
  },
  {
   "cell_type": "code",
   "execution_count": 85,
   "metadata": {},
   "outputs": [
    {
     "data": {
      "text/html": [
       "<div>\n",
       "<style scoped>\n",
       "    .dataframe tbody tr th:only-of-type {\n",
       "        vertical-align: middle;\n",
       "    }\n",
       "\n",
       "    .dataframe tbody tr th {\n",
       "        vertical-align: top;\n",
       "    }\n",
       "\n",
       "    .dataframe thead th {\n",
       "        text-align: right;\n",
       "    }\n",
       "</style>\n",
       "<table border=\"1\" class=\"dataframe\">\n",
       "  <thead>\n",
       "    <tr style=\"text-align: right;\">\n",
       "      <th></th>\n",
       "      <th>total_sales</th>\n",
       "      <th>user_score</th>\n",
       "    </tr>\n",
       "  </thead>\n",
       "  <tbody>\n",
       "    <tr>\n",
       "      <th>total_sales</th>\n",
       "      <td>1.0</td>\n",
       "      <td>0.4</td>\n",
       "    </tr>\n",
       "    <tr>\n",
       "      <th>user_score</th>\n",
       "      <td>0.4</td>\n",
       "      <td>1.0</td>\n",
       "    </tr>\n",
       "  </tbody>\n",
       "</table>\n",
       "</div>"
      ],
      "text/plain": [
       "             total_sales  user_score\n",
       "total_sales          1.0         0.4\n",
       "user_score           0.4         1.0"
      ]
     },
     "metadata": {},
     "output_type": "display_data"
    },
    {
     "data": {
      "image/png": "[encoded data removed]",
      "text/plain": [
       "<Figure size 576x360 with 1 Axes>"
      ]
     },
     "metadata": {
      "needs_background": "light"
     },
     "output_type": "display_data"
    }
   ],
   "source": [
    "# расчет корреляции и построение точечной диаграммы по платформе WiiU\n",
    "platform_user_corr('WiiU')"
   ]
  },
  {
   "cell_type": "markdown",
   "metadata": {},
   "source": [
    "Таким образом, сделанные по данным платформы PS4 выводы подтверждаются данными по платформам XOne, 3DS, PC, WiiU: рост оценок критиков вызывает рост продаж, и наоборот. Оценки пользователей имеют различную корреляцию по разным платформам: для платформ PS4, PC, XOne корреляция отрицательная, для платформ WiiU и 3DS - положительная. "
   ]
  },
  {
   "cell_type": "markdown",
   "metadata": {},
   "source": [
    "Проанализируем **общее распределение игр по жанрам** и определим самые прибыльные жанры.\n",
    "\n",
    "Для этого сформируем сводную таблицу по жанрам и объемам продаж по медианному и суммарному значениям."
   ]
  },
  {
   "cell_type": "code",
   "execution_count": 86,
   "metadata": {
    "scrolled": false
   },
   "outputs": [
    {
     "data": {
      "text/html": [
       "<div>\n",
       "<style scoped>\n",
       "    .dataframe tbody tr th:only-of-type {\n",
       "        vertical-align: middle;\n",
       "    }\n",
       "\n",
       "    .dataframe tbody tr th {\n",
       "        vertical-align: top;\n",
       "    }\n",
       "\n",
       "    .dataframe thead tr th {\n",
       "        text-align: left;\n",
       "    }\n",
       "\n",
       "    .dataframe thead tr:last-of-type th {\n",
       "        text-align: right;\n",
       "    }\n",
       "</style>\n",
       "<table border=\"1\" class=\"dataframe\">\n",
       "  <thead>\n",
       "    <tr>\n",
       "      <th></th>\n",
       "      <th>median</th>\n",
       "      <th>sum</th>\n",
       "    </tr>\n",
       "    <tr>\n",
       "      <th></th>\n",
       "      <th>total_sales</th>\n",
       "      <th>total_sales</th>\n",
       "    </tr>\n",
       "    <tr>\n",
       "      <th>genre</th>\n",
       "      <th></th>\n",
       "      <th></th>\n",
       "    </tr>\n",
       "  </thead>\n",
       "  <tbody>\n",
       "    <tr>\n",
       "      <th>Shooter</th>\n",
       "      <td>0.43</td>\n",
       "      <td>304.750000</td>\n",
       "    </tr>\n",
       "    <tr>\n",
       "      <th>Sports</th>\n",
       "      <td>0.24</td>\n",
       "      <td>181.070007</td>\n",
       "    </tr>\n",
       "    <tr>\n",
       "      <th>Platform</th>\n",
       "      <td>0.21</td>\n",
       "      <td>61.000000</td>\n",
       "    </tr>\n",
       "    <tr>\n",
       "      <th>Racing</th>\n",
       "      <td>0.14</td>\n",
       "      <td>53.500000</td>\n",
       "    </tr>\n",
       "    <tr>\n",
       "      <th>Role-Playing</th>\n",
       "      <td>0.14</td>\n",
       "      <td>192.800003</td>\n",
       "    </tr>\n",
       "    <tr>\n",
       "      <th>Fighting</th>\n",
       "      <td>0.13</td>\n",
       "      <td>44.490002</td>\n",
       "    </tr>\n",
       "    <tr>\n",
       "      <th>Action</th>\n",
       "      <td>0.12</td>\n",
       "      <td>446.410004</td>\n",
       "    </tr>\n",
       "    <tr>\n",
       "      <th>Misc</th>\n",
       "      <td>0.12</td>\n",
       "      <td>85.279999</td>\n",
       "    </tr>\n",
       "    <tr>\n",
       "      <th>Simulation</th>\n",
       "      <td>0.12</td>\n",
       "      <td>35.119999</td>\n",
       "    </tr>\n",
       "    <tr>\n",
       "      <th>Strategy</th>\n",
       "      <td>0.08</td>\n",
       "      <td>13.340000</td>\n",
       "    </tr>\n",
       "    <tr>\n",
       "      <th>Puzzle</th>\n",
       "      <td>0.04</td>\n",
       "      <td>4.890000</td>\n",
       "    </tr>\n",
       "    <tr>\n",
       "      <th>Adventure</th>\n",
       "      <td>0.03</td>\n",
       "      <td>29.430000</td>\n",
       "    </tr>\n",
       "  </tbody>\n",
       "</table>\n",
       "</div>"
      ],
      "text/plain": [
       "                  median         sum\n",
       "             total_sales total_sales\n",
       "genre                               \n",
       "Shooter             0.43  304.750000\n",
       "Sports              0.24  181.070007\n",
       "Platform            0.21   61.000000\n",
       "Racing              0.14   53.500000\n",
       "Role-Playing        0.14  192.800003\n",
       "Fighting            0.13   44.490002\n",
       "Action              0.12  446.410004\n",
       "Misc                0.12   85.279999\n",
       "Simulation          0.12   35.119999\n",
       "Strategy            0.08   13.340000\n",
       "Puzzle              0.04    4.890000\n",
       "Adventure           0.03   29.430000"
      ]
     },
     "execution_count": 86,
     "metadata": {},
     "output_type": "execute_result"
    }
   ],
   "source": [
    "# построение сводной таблицы по медиане и сумме\n",
    "genre_total_sales = df_2012_2016.pivot_table(\n",
    "    index='genre', \n",
    "    values='total_sales', \n",
    "    aggfunc=['median','sum']).round(2).sort_values(by=('median', 'total_sales'), ascending=False)\n",
    "genre_total_sales"
   ]
  },
  {
   "cell_type": "code",
   "execution_count": 87,
   "metadata": {},
   "outputs": [
    {
     "data": {
      "image/png": "[encoded data removed]",
      "text/plain": [
       "<Figure size 1080x576 with 1 Axes>"
      ]
     },
     "metadata": {
      "needs_background": "light"
     },
     "output_type": "display_data"
    }
   ],
   "source": [
    "# построение диаграмм размаха по жанрам\n",
    "df_2012_2016.boxplot('total_sales', by='genre', figsize=(15, 8))\n",
    "plt.suptitle('Продажи по жанрам')\n",
    "plt.title(None)\n",
    "plt.xlabel('Жанр'), plt.ylabel('Total, млн.')\n",
    "plt.ylim(0, 2)\n",
    "plt.show()"
   ]
  },
  {
   "cell_type": "markdown",
   "metadata": {},
   "source": [
    "По данным сводной таблицы с медианными значениями выше и диаграммам размаха видно, что наиболе прибыльными являются продажи игр жанров Shooter, Sports и Platform, меньше всего прибыли приносят продажи игр жанров Puzzle и Adventure."
   ]
  },
  {
   "cell_type": "markdown",
   "metadata": {},
   "source": [
    "<div style=\"border:solid blue 2px; padding: 20px\"> \n",
    "\n",
    "**Вывод**  \n",
    "\n",
    "Проведен исследовательский анализ данных:\n",
    "1. проанализировано изменение количества выходивших игр по годам с 1983 по 2016, определена тенденцияна снижения числа игр в период 2012-2016 по сравнению с периодом 2006-2011 с 1400 до 600-500 игр в год\n",
    "2. определены наиболее популярные платформы и временные зависимости популярности платформ (платформы существуют 10-11 лет, 2-3 года набирают популярность, 2-4 года находятся на пике популярности и в течение 3-4 лет теряют популярность и уходят с рынка)\n",
    "3. выбран актуальный период для дальнейшего анализа - 2012-2016 годы (наиболее близкий к периоду планирования и поэтому учитывающий последние тенденции)\n",
    "4. определены платформы - лидеры по продажам в период 2012-2016 годы (3DS, PS4, XOne наиболее привлекательны, хотя все платформы демонстрируют снижение объемов продаж в период 2012-2016)\n",
    "5. данные по продажам по платформам проанализированы при помощи диаграмм размаха\n",
    "6. на примере пяти популярных платформ рассчитаны и проанализированы корреляции между оценками критиков и пользователей и объемами продаж (между продажами и оценками критиков корреляция довольно сильнfя положительная, между продажами и оценками пользователей корреляция разная в зависимости от платформы: от слабой отрицательной до слабой положительной)\n",
    "7. проанализирована популярность жанров - наиболее прибыльными являются продажи игр жанров Shooter, Sports и Platform, меньше всего прибыли приносят продажи игр жанров Puzzle и Adventure.\n",
    "  \n",
    "</div>"
   ]
  },
  {
   "cell_type": "markdown",
   "metadata": {},
   "source": [
    "## Шаг 4. Портрет пользователей регионов"
   ]
  },
  {
   "cell_type": "markdown",
   "metadata": {},
   "source": [
    "Определим **самые популярные платформы (топ-5) для пользователя каждого региона (NA, EU, JP)** и проанализируем различия в долях продаж.\n",
    "\n",
    "Для этого построим сводную таблицу по объемам продаж по платформам по регионам."
   ]
  },
  {
   "cell_type": "markdown",
   "metadata": {},
   "source": [
    "**Северная Америка**"
   ]
  },
  {
   "cell_type": "code",
   "execution_count": 88,
   "metadata": {
    "scrolled": true
   },
   "outputs": [
    {
     "data": {
      "text/plain": [
       "platform\n",
       "X360    141.0\n",
       "PS4     109.0\n",
       "PS3     104.0\n",
       "XOne     93.0\n",
       "3DS      55.0\n",
       "WiiU     38.0\n",
       "PC       19.0\n",
       "Wii      18.0\n",
       "PSV      11.0\n",
       "DS        5.0\n",
       "PSP       0.0\n",
       "Name: na_sales, dtype: float32"
      ]
     },
     "execution_count": 88,
     "metadata": {},
     "output_type": "execute_result"
    }
   ],
   "source": [
    "# построение таблицы по популярности платформ по региону Северная Америка\n",
    "na_platforms = df_2012_2016.groupby('platform')['na_sales'].sum().round().sort_values(ascending=False)\n",
    "na_platforms"
   ]
  },
  {
   "cell_type": "code",
   "execution_count": 89,
   "metadata": {
    "scrolled": false
   },
   "outputs": [
    {
     "data": {
      "text/plain": [
       "91.0"
      ]
     },
     "execution_count": 89,
     "metadata": {},
     "output_type": "execute_result"
    }
   ],
   "source": [
    "# суммирование продаж по платформам без top-5\n",
    "na_platforms[5:].sum()"
   ]
  },
  {
   "cell_type": "code",
   "execution_count": 90,
   "metadata": {
    "scrolled": true
   },
   "outputs": [
    {
     "data": {
      "text/plain": [
       "X360      141\n",
       "PS4       109\n",
       "PS3       104\n",
       "XOne       93\n",
       "3DS        55\n",
       "Others     91\n",
       "dtype: int64"
      ]
     },
     "execution_count": 90,
     "metadata": {},
     "output_type": "execute_result"
    }
   ],
   "source": [
    "# формирование Series для диаграммы\n",
    "na_5 = pd.Series([141,109,104,93,55,91], index=['X360','PS4','PS3','XOne','3DS','Others'])\n",
    "na_5"
   ]
  },
  {
   "cell_type": "markdown",
   "metadata": {},
   "source": [
    "**Европа**"
   ]
  },
  {
   "cell_type": "code",
   "execution_count": 91,
   "metadata": {},
   "outputs": [
    {
     "data": {
      "text/plain": [
       "platform\n",
       "PS4     141.0\n",
       "PS3     107.0\n",
       "X360     75.0\n",
       "XOne     52.0\n",
       "3DS      43.0\n",
       "PC       38.0\n",
       "WiiU     25.0\n",
       "Wii      12.0\n",
       "PSV      11.0\n",
       "DS        4.0\n",
       "PSP       1.0\n",
       "Name: eu_sales, dtype: float32"
      ]
     },
     "execution_count": 91,
     "metadata": {},
     "output_type": "execute_result"
    }
   ],
   "source": [
    "# построение таблицы по популярности платформ по региону Европа\n",
    "eu_platforms = df_2012_2016.groupby('platform')['eu_sales'].sum().round().sort_values(ascending=False)\n",
    "eu_platforms"
   ]
  },
  {
   "cell_type": "code",
   "execution_count": 92,
   "metadata": {},
   "outputs": [
    {
     "data": {
      "text/plain": [
       "91.0"
      ]
     },
     "execution_count": 92,
     "metadata": {},
     "output_type": "execute_result"
    }
   ],
   "source": [
    "# суммирование продаж по платформам без top-5\n",
    "eu_platforms[5:].sum()"
   ]
  },
  {
   "cell_type": "code",
   "execution_count": 93,
   "metadata": {
    "scrolled": true
   },
   "outputs": [
    {
     "data": {
      "text/plain": [
       "PS4       141\n",
       "PS3       107\n",
       "X360       75\n",
       "XOne       52\n",
       "3DS        43\n",
       "Others     38\n",
       "dtype: int64"
      ]
     },
     "execution_count": 93,
     "metadata": {},
     "output_type": "execute_result"
    }
   ],
   "source": [
    "# формирование Series для диаграммы\n",
    "eu_5 = pd.Series([141,107,75,52,43,38], index=['PS4','PS3','X360','XOne','3DS','Others'])\n",
    "eu_5"
   ]
  },
  {
   "cell_type": "markdown",
   "metadata": {},
   "source": [
    "**Япония**"
   ]
  },
  {
   "cell_type": "code",
   "execution_count": 94,
   "metadata": {},
   "outputs": [
    {
     "data": {
      "text/plain": [
       "platform\n",
       "3DS     88.0\n",
       "PS3     35.0\n",
       "PSV     21.0\n",
       "PS4     16.0\n",
       "WiiU    13.0\n",
       "PSP     11.0\n",
       "DS       4.0\n",
       "Wii      3.0\n",
       "X360     2.0\n",
       "PC       0.0\n",
       "XOne     0.0\n",
       "Name: jp_sales, dtype: float32"
      ]
     },
     "execution_count": 94,
     "metadata": {},
     "output_type": "execute_result"
    }
   ],
   "source": [
    "# построение таблицы по популярности платформ по региону Япония\n",
    "jp_platforms = df_2012_2016.groupby('platform')['jp_sales'].sum().round().sort_values(ascending=False)\n",
    "jp_platforms"
   ]
  },
  {
   "cell_type": "code",
   "execution_count": 95,
   "metadata": {},
   "outputs": [
    {
     "data": {
      "text/plain": [
       "20.0"
      ]
     },
     "execution_count": 95,
     "metadata": {},
     "output_type": "execute_result"
    }
   ],
   "source": [
    "# суммирование продаж по платформам без top-5\n",
    "jp_platforms[5:].sum()"
   ]
  },
  {
   "cell_type": "code",
   "execution_count": 96,
   "metadata": {},
   "outputs": [
    {
     "data": {
      "text/plain": [
       "3DS       88\n",
       "PS3       35\n",
       "PSV       21\n",
       "PS4       16\n",
       "WiiU      13\n",
       "Others    20\n",
       "dtype: int64"
      ]
     },
     "execution_count": 96,
     "metadata": {},
     "output_type": "execute_result"
    }
   ],
   "source": [
    "# формирование Series для диаграммы\n",
    "jp_5 = pd.Series([88,35,21,16,13,20], index=['3DS','PS3','PSV','PS4','WiiU','Others'])\n",
    "jp_5"
   ]
  },
  {
   "cell_type": "markdown",
   "metadata": {},
   "source": [
    "Построим круговые диаграммы для демонстрации отличий."
   ]
  },
  {
   "cell_type": "code",
   "execution_count": 97,
   "metadata": {
    "scrolled": true
   },
   "outputs": [
    {
     "data": {
      "image/png": "[encoded data removed]",
      "text/plain": [
       "<Figure size 1500x700 with 3 Axes>"
      ]
     },
     "metadata": {},
     "output_type": "display_data"
    }
   ],
   "source": [
    "fig, axes = plt.subplots(1, 3, figsize=(15,7), dpi = 100)\n",
    "plt.suptitle(\"TOP-5 платформ в регионах\")\n",
    "\n",
    "for ax, series, title in zip (axes, (na_5, eu_5, jp_5), ('TOP-5_Северная Америка', 'TOP-5_Европа', 'TOP-5_Япония')):\n",
    "    ax.pie(series, labels=series.index)\n",
    "    ax.axis(\"equal\")\n",
    "    ax.set_title(title)"
   ]
  },
  {
   "cell_type": "markdown",
   "metadata": {},
   "source": [
    "Очевидно, что предпочтения пользователей Северной Америки и Европы схожи (наиболее популярны платформы PS4, PS3, X360, XOne), при этом препочтения пользователей Японии существенно отличаются, что может быть связано с особенностями менталитета пользователей в Японии и национальной лояльностью к японским брендам (предпочтение платформ 3DS, PS3 и PSV японского производства)."
   ]
  },
  {
   "cell_type": "markdown",
   "metadata": {},
   "source": [
    "Определим **самые популярные жанры (топ-5) для пользователя каждого региона (NA, EU, JP)**.\n",
    "\n",
    "Для этого построим сводные таблицы по продажам по жанрам по регионам."
   ]
  },
  {
   "cell_type": "markdown",
   "metadata": {},
   "source": [
    "**Северная Америка**"
   ]
  },
  {
   "cell_type": "code",
   "execution_count": 98,
   "metadata": {},
   "outputs": [
    {
     "data": {
      "text/plain": [
       "genre\n",
       "Action          180.0\n",
       "Shooter         145.0\n",
       "Sports           82.0\n",
       "Role-Playing     64.0\n",
       "Misc             38.0\n",
       "Platform         25.0\n",
       "Fighting         20.0\n",
       "Racing           17.0\n",
       "Adventure         9.0\n",
       "Simulation        8.0\n",
       "Strategy          4.0\n",
       "Puzzle            1.0\n",
       "Name: na_sales, dtype: float32"
      ]
     },
     "execution_count": 98,
     "metadata": {},
     "output_type": "execute_result"
    }
   ],
   "source": [
    "# построение таблицы по популярности жанров по региону Северная Америка\n",
    "na_genres = df_2012_2016.groupby('genre')['na_sales'].sum().round().sort_values(ascending=False)\n",
    "na_genres"
   ]
  },
  {
   "cell_type": "code",
   "execution_count": 99,
   "metadata": {},
   "outputs": [
    {
     "data": {
      "text/plain": [
       "84.0"
      ]
     },
     "execution_count": 99,
     "metadata": {},
     "output_type": "execute_result"
    }
   ],
   "source": [
    "# суммирование продаж по жанрам без top-5\n",
    "na_genres[5:].sum()"
   ]
  },
  {
   "cell_type": "code",
   "execution_count": 100,
   "metadata": {},
   "outputs": [
    {
     "data": {
      "text/plain": [
       "Action          180\n",
       "Shooter         145\n",
       "Sports           82\n",
       "Role-Playing     64\n",
       "Misc             38\n",
       "Others           84\n",
       "dtype: int64"
      ]
     },
     "execution_count": 100,
     "metadata": {},
     "output_type": "execute_result"
    }
   ],
   "source": [
    "# формирование Series для диаграммы\n",
    "na_g5 = pd.Series([180,145,82,64,38,84], index=['Action','Shooter','Sports','Role-Playing','Misc','Others'])\n",
    "na_g5"
   ]
  },
  {
   "cell_type": "markdown",
   "metadata": {},
   "source": [
    "**Европа**"
   ]
  },
  {
   "cell_type": "code",
   "execution_count": 101,
   "metadata": {},
   "outputs": [
    {
     "data": {
      "text/plain": [
       "genre\n",
       "Action          162.0\n",
       "Shooter         113.0\n",
       "Sports           69.0\n",
       "Role-Playing     49.0\n",
       "Racing           27.0\n",
       "Misc             26.0\n",
       "Platform         21.0\n",
       "Simulation       15.0\n",
       "Fighting         11.0\n",
       "Adventure         9.0\n",
       "Strategy          5.0\n",
       "Puzzle            1.0\n",
       "Name: eu_sales, dtype: float32"
      ]
     },
     "execution_count": 101,
     "metadata": {},
     "output_type": "execute_result"
    }
   ],
   "source": [
    "# построение таблицы по популярности жанров по региону Европа\n",
    "eu_genres = df_2012_2016.groupby('genre')['eu_sales'].sum().round().sort_values(ascending=False)\n",
    "eu_genres"
   ]
  },
  {
   "cell_type": "code",
   "execution_count": 102,
   "metadata": {},
   "outputs": [
    {
     "data": {
      "text/plain": [
       "88.0"
      ]
     },
     "execution_count": 102,
     "metadata": {},
     "output_type": "execute_result"
    }
   ],
   "source": [
    "# суммирование продаж по жанрам без top-5\n",
    "eu_genres[5:].sum()"
   ]
  },
  {
   "cell_type": "code",
   "execution_count": 103,
   "metadata": {},
   "outputs": [
    {
     "data": {
      "text/plain": [
       "Action          162\n",
       "Shooter         113\n",
       "Sports           69\n",
       "Role-Playing     49\n",
       "Racing           27\n",
       "Others           88\n",
       "dtype: int64"
      ]
     },
     "execution_count": 103,
     "metadata": {},
     "output_type": "execute_result"
    }
   ],
   "source": [
    "# формирование Series для диаграммы\n",
    "eu_g5 = pd.Series([162,113,69,49,27,88], index=['Action','Shooter','Sports','Role-Playing','Racing','Others'])\n",
    "eu_g5"
   ]
  },
  {
   "cell_type": "markdown",
   "metadata": {},
   "source": [
    "**Япония**"
   ]
  },
  {
   "cell_type": "code",
   "execution_count": 104,
   "metadata": {},
   "outputs": [
    {
     "data": {
      "text/plain": [
       "genre\n",
       "Role-Playing    65.0\n",
       "Action          53.0\n",
       "Misc            13.0\n",
       "Simulation      10.0\n",
       "Fighting         9.0\n",
       "Platform         9.0\n",
       "Shooter          9.0\n",
       "Adventure        8.0\n",
       "Sports           8.0\n",
       "Strategy         3.0\n",
       "Puzzle           2.0\n",
       "Racing           2.0\n",
       "Name: jp_sales, dtype: float32"
      ]
     },
     "execution_count": 104,
     "metadata": {},
     "output_type": "execute_result"
    }
   ],
   "source": [
    "# построение таблицы по популярности жанров по региону Япония\n",
    "jp_genres = df_2012_2016.groupby('genre')['jp_sales'].sum().round().sort_values(ascending=False)\n",
    "jp_genres"
   ]
  },
  {
   "cell_type": "code",
   "execution_count": 105,
   "metadata": {},
   "outputs": [
    {
     "data": {
      "text/plain": [
       "41.0"
      ]
     },
     "execution_count": 105,
     "metadata": {},
     "output_type": "execute_result"
    }
   ],
   "source": [
    "# суммирование продаж по жанрам без top-5\n",
    "jp_genres[5:].sum()"
   ]
  },
  {
   "cell_type": "code",
   "execution_count": 106,
   "metadata": {},
   "outputs": [
    {
     "data": {
      "text/plain": [
       "Role-Playing    65\n",
       "Action          53\n",
       "Misc            13\n",
       "Simulation      10\n",
       "Fighting         9\n",
       "Others           9\n",
       "dtype: int64"
      ]
     },
     "execution_count": 106,
     "metadata": {},
     "output_type": "execute_result"
    }
   ],
   "source": [
    "# формирование Series для диаграммы\n",
    "jp_g5 = pd.Series([65,53,13,10,9,9], index=['Role-Playing','Action','Misc','Simulation','Fighting','Others'])\n",
    "jp_g5"
   ]
  },
  {
   "cell_type": "markdown",
   "metadata": {},
   "source": [
    "Построим круговые диаграммы для демонстрации отличий."
   ]
  },
  {
   "cell_type": "code",
   "execution_count": 107,
   "metadata": {},
   "outputs": [
    {
     "data": {
      "image/png": "[encoded data removed]",
      "text/plain": [
       "<Figure size 1500x700 with 3 Axes>"
      ]
     },
     "metadata": {},
     "output_type": "display_data"
    }
   ],
   "source": [
    "fig, axes = plt.subplots(1, 3, figsize=(15,7), dpi = 100)\n",
    "plt.suptitle(\"TOP-5 жанров в регионах\")\n",
    "\n",
    "for ax, series, title in zip (axes, (na_g5, eu_g5, jp_g5), ('TOP-5_Северная Америка', 'TOP-5_Европа', 'TOP-5_Япония')):\n",
    "    ax.pie(series, labels=series.index)\n",
    "    ax.axis(\"equal\")\n",
    "    ax.set_title(title)"
   ]
  },
  {
   "cell_type": "markdown",
   "metadata": {},
   "source": [
    "Очевидно, что предпочтения пользователей Северной Америки и Европы снова похожи (наиболее популярны жанры игр Action, Shooter, Sports), при этом препочтения пользователей Японии существенно отличаются. Данное отличие (предпочтение игр жанра Role-Playing) может быть связано с увлечением населения Японии таким особым жанром игр, как Японская ролевая игра."
   ]
  },
  {
   "cell_type": "markdown",
   "metadata": {},
   "source": [
    "Определим, **влияет ли рейтинг ESRB на продажи в отдельном регионе** для пользователя каждого региона.\n",
    "\n",
    "Для этого построим сводные таблицы по продажам по рейтингу по регионам."
   ]
  },
  {
   "cell_type": "code",
   "execution_count": 108,
   "metadata": {
    "scrolled": true
   },
   "outputs": [
    {
     "data": {
      "text/plain": [
       "rating\n",
       "M          232.0\n",
       "E          114.0\n",
       "no info    103.0\n",
       "E10+        78.0\n",
       "T           66.0\n",
       "Name: na_sales, dtype: float32"
      ]
     },
     "execution_count": 108,
     "metadata": {},
     "output_type": "execute_result"
    }
   ],
   "source": [
    "# построение сводной таблицы по региону Северная Америка и вывод первых 5 строк\n",
    "df_2012_2016.groupby('rating')['na_sales'].sum().round().sort_values(ascending=False)"
   ]
  },
  {
   "cell_type": "markdown",
   "metadata": {},
   "source": [
    "Самыми популярными в Северной Америке являются игры жанров М - для взрослых и E - для всех."
   ]
  },
  {
   "cell_type": "code",
   "execution_count": 109,
   "metadata": {},
   "outputs": [
    {
     "data": {
      "text/plain": [
       "rating\n",
       "M          194.0\n",
       "E          113.0\n",
       "no info     92.0\n",
       "E10+        57.0\n",
       "T           53.0\n",
       "Name: eu_sales, dtype: float32"
      ]
     },
     "execution_count": 109,
     "metadata": {},
     "output_type": "execute_result"
    }
   ],
   "source": [
    "# построение сводной таблицы по региону Европа и вывод первых 5 строк\n",
    "df_2012_2016.groupby('rating')['eu_sales'].sum().round().sort_values(ascending=False)"
   ]
  },
  {
   "cell_type": "markdown",
   "metadata": {},
   "source": [
    "Самыми популярными в Европе также являются игры категорий М - для взрослых и E - для всех."
   ]
  },
  {
   "cell_type": "code",
   "execution_count": 110,
   "metadata": {},
   "outputs": [
    {
     "data": {
      "text/plain": [
       "rating\n",
       "no info    109.0\n",
       "E           28.0\n",
       "T           26.0\n",
       "M           21.0\n",
       "E10+         8.0\n",
       "Name: jp_sales, dtype: float32"
      ]
     },
     "execution_count": 110,
     "metadata": {},
     "output_type": "execute_result"
    }
   ],
   "source": [
    "# построение сводной таблицы по региону Япония и вывод первых 5 строк\n",
    "df_2012_2016.groupby('rating')['jp_sales'].sum().round().sort_values(ascending=False)"
   ]
  },
  {
   "cell_type": "markdown",
   "metadata": {},
   "source": [
    "Самыми популярными в Японии являются игры без категории ESRB, что может быть связано с наличием в Японии своей системы присвоения категорий видеоиграм."
   ]
  },
  {
   "cell_type": "markdown",
   "metadata": {},
   "source": [
    "<div style=\"border:solid blue 2px; padding: 20px\"> \n",
    "\n",
    "**Вывод**  \n",
    "\n",
    "Сформирован портрет пользователей по регионам:\n",
    "1. Северная Америка и Европа: наиболее популярные платформы X360, PS4, PS3, наиболее популярные жанры Action и Shooter, наиболее продаваемые категории игр М - для взрослых и E - для всех\n",
    "2. Япония: наиболее популярные платформы 3DS, PS3, PSV (предпочтение японским брендам), наиболее популярные жанры Role-Playing и Action (увлечение населения Японии таким особым жанром игр, как Японская ролевая игра), наиболее продаваемые категории игр - игры без категории ESRB, что может быть связано с наличием в Японии своей системы присвоения категорий видеоиграм.\n",
    "  \n",
    "</div>"
   ]
  },
  {
   "cell_type": "markdown",
   "metadata": {},
   "source": [
    "## Шаг 5. Проверка гипотез"
   ]
  },
  {
   "cell_type": "markdown",
   "metadata": {},
   "source": [
    "Сформулируем пары гипотез (нулевую и альтернативную) для проверки предположений:\n",
    "\n",
    "• Средние пользовательские рейтинги платформ Xbox One и PC одинаковые;\n",
    "\n",
    "• Средние пользовательские рейтинги жанров Action (англ. «действие», экшен-игры) и Sports (англ. «спортивные соревнования») разные."
   ]
  },
  {
   "cell_type": "markdown",
   "metadata": {},
   "source": [
    "Уровень значимости (суммарная вероятность того, что измеренное эмпирически значение окажется далеко от среднего) установим на отметке 0,05. Если наблюдаемое на выборке значение попадает в эту зону (<0,05), вероятность такого события при верной нулевой гипотезе признаётся слишком малой, значит, у нас есть основание отвергнуть нулевую гипотезу. Когда значение попадает в зону «Не твергаем H₀» (>0,05), то оснований отвергать нулевую гипотезу нет. Считаем, что эмпирически полученные данные не противоречат нулевой гипотезе."
   ]
  },
  {
   "cell_type": "markdown",
   "metadata": {},
   "source": [
    "Чтобы проверить гипотезу о равенстве среднего двух генеральных совокупностей по взятым из них выборкам, применим метод scipy.stats.ttest_ind()."
   ]
  },
  {
   "cell_type": "markdown",
   "metadata": {},
   "source": [
    "Выведем датафрейм."
   ]
  },
  {
   "cell_type": "code",
   "execution_count": 111,
   "metadata": {
    "scrolled": true
   },
   "outputs": [
    {
     "data": {
      "text/html": [
       "<div>\n",
       "<style scoped>\n",
       "    .dataframe tbody tr th:only-of-type {\n",
       "        vertical-align: middle;\n",
       "    }\n",
       "\n",
       "    .dataframe tbody tr th {\n",
       "        vertical-align: top;\n",
       "    }\n",
       "\n",
       "    .dataframe thead th {\n",
       "        text-align: right;\n",
       "    }\n",
       "</style>\n",
       "<table border=\"1\" class=\"dataframe\">\n",
       "  <thead>\n",
       "    <tr style=\"text-align: right;\">\n",
       "      <th></th>\n",
       "      <th>name</th>\n",
       "      <th>platform</th>\n",
       "      <th>year_of_release</th>\n",
       "      <th>genre</th>\n",
       "      <th>na_sales</th>\n",
       "      <th>eu_sales</th>\n",
       "      <th>jp_sales</th>\n",
       "      <th>other_sales</th>\n",
       "      <th>total_sales</th>\n",
       "      <th>critic_score</th>\n",
       "      <th>user_score</th>\n",
       "      <th>rating</th>\n",
       "    </tr>\n",
       "  </thead>\n",
       "  <tbody>\n",
       "    <tr>\n",
       "      <th>0</th>\n",
       "      <td>Beyblade Burst</td>\n",
       "      <td>3DS</td>\n",
       "      <td>2016</td>\n",
       "      <td>Role-Playing</td>\n",
       "      <td>0.00</td>\n",
       "      <td>0.00</td>\n",
       "      <td>0.03</td>\n",
       "      <td>0.00</td>\n",
       "      <td>0.03</td>\n",
       "      <td>999.0</td>\n",
       "      <td>999.0</td>\n",
       "      <td>no info</td>\n",
       "    </tr>\n",
       "    <tr>\n",
       "      <th>1</th>\n",
       "      <td>Fire Emblem Fates</td>\n",
       "      <td>3DS</td>\n",
       "      <td>2015</td>\n",
       "      <td>Role-Playing</td>\n",
       "      <td>0.81</td>\n",
       "      <td>0.23</td>\n",
       "      <td>0.52</td>\n",
       "      <td>0.11</td>\n",
       "      <td>1.67</td>\n",
       "      <td>999.0</td>\n",
       "      <td>999.0</td>\n",
       "      <td>no info</td>\n",
       "    </tr>\n",
       "    <tr>\n",
       "      <th>2</th>\n",
       "      <td>Frozen: Olaf's Quest</td>\n",
       "      <td>3DS</td>\n",
       "      <td>2013</td>\n",
       "      <td>Platform</td>\n",
       "      <td>0.27</td>\n",
       "      <td>0.27</td>\n",
       "      <td>0.00</td>\n",
       "      <td>0.05</td>\n",
       "      <td>0.59</td>\n",
       "      <td>999.0</td>\n",
       "      <td>999.0</td>\n",
       "      <td>no info</td>\n",
       "    </tr>\n",
       "    <tr>\n",
       "      <th>3</th>\n",
       "      <td>Frozen: Olaf's Quest</td>\n",
       "      <td>DS</td>\n",
       "      <td>2013</td>\n",
       "      <td>Platform</td>\n",
       "      <td>0.21</td>\n",
       "      <td>0.26</td>\n",
       "      <td>0.00</td>\n",
       "      <td>0.04</td>\n",
       "      <td>0.51</td>\n",
       "      <td>999.0</td>\n",
       "      <td>999.0</td>\n",
       "      <td>no info</td>\n",
       "    </tr>\n",
       "    <tr>\n",
       "      <th>4</th>\n",
       "      <td>Haikyu!! Cross Team Match!</td>\n",
       "      <td>3DS</td>\n",
       "      <td>2016</td>\n",
       "      <td>Adventure</td>\n",
       "      <td>0.00</td>\n",
       "      <td>0.00</td>\n",
       "      <td>0.04</td>\n",
       "      <td>0.00</td>\n",
       "      <td>0.04</td>\n",
       "      <td>999.0</td>\n",
       "      <td>999.0</td>\n",
       "      <td>no info</td>\n",
       "    </tr>\n",
       "  </tbody>\n",
       "</table>\n",
       "</div>"
      ],
      "text/plain": [
       "                          name platform  year_of_release         genre  \\\n",
       "0               Beyblade Burst      3DS             2016  Role-Playing   \n",
       "1            Fire Emblem Fates      3DS             2015  Role-Playing   \n",
       "2         Frozen: Olaf's Quest      3DS             2013      Platform   \n",
       "3         Frozen: Olaf's Quest       DS             2013      Platform   \n",
       "4   Haikyu!! Cross Team Match!      3DS             2016     Adventure   \n",
       "\n",
       "   na_sales  eu_sales  jp_sales  other_sales  total_sales  critic_score  \\\n",
       "0      0.00      0.00      0.03         0.00         0.03         999.0   \n",
       "1      0.81      0.23      0.52         0.11         1.67         999.0   \n",
       "2      0.27      0.27      0.00         0.05         0.59         999.0   \n",
       "3      0.21      0.26      0.00         0.04         0.51         999.0   \n",
       "4      0.00      0.00      0.04         0.00         0.04         999.0   \n",
       "\n",
       "   user_score   rating  \n",
       "0       999.0  no info  \n",
       "1       999.0  no info  \n",
       "2       999.0  no info  \n",
       "3       999.0  no info  \n",
       "4       999.0  no info  "
      ]
     },
     "execution_count": 111,
     "metadata": {},
     "output_type": "execute_result"
    }
   ],
   "source": [
    "# вывод первых 5 строк датафрейма\n",
    "df.head()"
   ]
  },
  {
   "cell_type": "markdown",
   "metadata": {},
   "source": [
    "### Гипотеза 1"
   ]
  },
  {
   "cell_type": "markdown",
   "metadata": {},
   "source": [
    "Проверим предположение:\n",
    "•\tСредние пользовательские рейтинги платформ Xbox One и PC одинаковые"
   ]
  },
  {
   "cell_type": "markdown",
   "metadata": {},
   "source": [
    "Первая пара гипотез будет звучать так:\n",
    "\n",
    "**H₀**: Средний пользовательский рейтинг платформы Xbox One равен среднему пользовательскому рейтингу платформы PC\n",
    "\n",
    "**H₁**: Средний пользовательский рейтинг платформы Xbox One не равен среднему пользовательскому рейтингу платформы PC"
   ]
  },
  {
   "cell_type": "markdown",
   "metadata": {},
   "source": [
    "Сформируем срезы по данным по платформам."
   ]
  },
  {
   "cell_type": "code",
   "execution_count": 112,
   "metadata": {
    "scrolled": false
   },
   "outputs": [
    {
     "data": {
      "text/html": [
       "<div>\n",
       "<style scoped>\n",
       "    .dataframe tbody tr th:only-of-type {\n",
       "        vertical-align: middle;\n",
       "    }\n",
       "\n",
       "    .dataframe tbody tr th {\n",
       "        vertical-align: top;\n",
       "    }\n",
       "\n",
       "    .dataframe thead th {\n",
       "        text-align: right;\n",
       "    }\n",
       "</style>\n",
       "<table border=\"1\" class=\"dataframe\">\n",
       "  <thead>\n",
       "    <tr style=\"text-align: right;\">\n",
       "      <th></th>\n",
       "      <th>name</th>\n",
       "      <th>platform</th>\n",
       "      <th>year_of_release</th>\n",
       "      <th>genre</th>\n",
       "      <th>na_sales</th>\n",
       "      <th>eu_sales</th>\n",
       "      <th>jp_sales</th>\n",
       "      <th>other_sales</th>\n",
       "      <th>total_sales</th>\n",
       "      <th>critic_score</th>\n",
       "      <th>user_score</th>\n",
       "      <th>rating</th>\n",
       "    </tr>\n",
       "  </thead>\n",
       "  <tbody>\n",
       "    <tr>\n",
       "      <th>110</th>\n",
       "      <td>7 Days to Die</td>\n",
       "      <td>XOne</td>\n",
       "      <td>2016</td>\n",
       "      <td>Action</td>\n",
       "      <td>0.03</td>\n",
       "      <td>0.02</td>\n",
       "      <td>0.0</td>\n",
       "      <td>0.00</td>\n",
       "      <td>0.05</td>\n",
       "      <td>35.0</td>\n",
       "      <td>5.2</td>\n",
       "      <td>M</td>\n",
       "    </tr>\n",
       "    <tr>\n",
       "      <th>257</th>\n",
       "      <td>Agatha Christie's The ABC Murders</td>\n",
       "      <td>XOne</td>\n",
       "      <td>2016</td>\n",
       "      <td>Adventure</td>\n",
       "      <td>0.01</td>\n",
       "      <td>0.00</td>\n",
       "      <td>0.0</td>\n",
       "      <td>0.00</td>\n",
       "      <td>0.01</td>\n",
       "      <td>66.0</td>\n",
       "      <td>7.5</td>\n",
       "      <td>no info</td>\n",
       "    </tr>\n",
       "    <tr>\n",
       "      <th>344</th>\n",
       "      <td>Alien: Isolation</td>\n",
       "      <td>XOne</td>\n",
       "      <td>2014</td>\n",
       "      <td>Shooter</td>\n",
       "      <td>0.22</td>\n",
       "      <td>0.24</td>\n",
       "      <td>0.0</td>\n",
       "      <td>0.04</td>\n",
       "      <td>0.50</td>\n",
       "      <td>78.0</td>\n",
       "      <td>7.8</td>\n",
       "      <td>M</td>\n",
       "    </tr>\n",
       "    <tr>\n",
       "      <th>464</th>\n",
       "      <td>Angry Birds Star Wars</td>\n",
       "      <td>XOne</td>\n",
       "      <td>2013</td>\n",
       "      <td>Strategy</td>\n",
       "      <td>0.11</td>\n",
       "      <td>0.04</td>\n",
       "      <td>0.0</td>\n",
       "      <td>0.02</td>\n",
       "      <td>0.17</td>\n",
       "      <td>53.0</td>\n",
       "      <td>6.9</td>\n",
       "      <td>E</td>\n",
       "    </tr>\n",
       "    <tr>\n",
       "      <th>641</th>\n",
       "      <td>Arslan: The Warriors of Legend</td>\n",
       "      <td>XOne</td>\n",
       "      <td>2016</td>\n",
       "      <td>Action</td>\n",
       "      <td>0.01</td>\n",
       "      <td>0.00</td>\n",
       "      <td>0.0</td>\n",
       "      <td>0.00</td>\n",
       "      <td>0.01</td>\n",
       "      <td>999.0</td>\n",
       "      <td>5.8</td>\n",
       "      <td>T</td>\n",
       "    </tr>\n",
       "    <tr>\n",
       "      <th>...</th>\n",
       "      <td>...</td>\n",
       "      <td>...</td>\n",
       "      <td>...</td>\n",
       "      <td>...</td>\n",
       "      <td>...</td>\n",
       "      <td>...</td>\n",
       "      <td>...</td>\n",
       "      <td>...</td>\n",
       "      <td>...</td>\n",
       "      <td>...</td>\n",
       "      <td>...</td>\n",
       "      <td>...</td>\n",
       "    </tr>\n",
       "    <tr>\n",
       "      <th>16036</th>\n",
       "      <td>Wolfenstein: The Old Blood</td>\n",
       "      <td>XOne</td>\n",
       "      <td>2015</td>\n",
       "      <td>Action</td>\n",
       "      <td>0.07</td>\n",
       "      <td>0.07</td>\n",
       "      <td>0.0</td>\n",
       "      <td>0.01</td>\n",
       "      <td>0.15</td>\n",
       "      <td>75.0</td>\n",
       "      <td>8.0</td>\n",
       "      <td>no info</td>\n",
       "    </tr>\n",
       "    <tr>\n",
       "      <th>16190</th>\n",
       "      <td>Worms: WMD</td>\n",
       "      <td>XOne</td>\n",
       "      <td>2016</td>\n",
       "      <td>Action</td>\n",
       "      <td>0.01</td>\n",
       "      <td>0.00</td>\n",
       "      <td>0.0</td>\n",
       "      <td>0.00</td>\n",
       "      <td>0.01</td>\n",
       "      <td>75.0</td>\n",
       "      <td>8.1</td>\n",
       "      <td>E10+</td>\n",
       "    </tr>\n",
       "    <tr>\n",
       "      <th>16251</th>\n",
       "      <td>XCOM 2</td>\n",
       "      <td>XOne</td>\n",
       "      <td>2016</td>\n",
       "      <td>Strategy</td>\n",
       "      <td>0.02</td>\n",
       "      <td>0.02</td>\n",
       "      <td>0.0</td>\n",
       "      <td>0.00</td>\n",
       "      <td>0.04</td>\n",
       "      <td>87.0</td>\n",
       "      <td>8.1</td>\n",
       "      <td>T</td>\n",
       "    </tr>\n",
       "    <tr>\n",
       "      <th>16492</th>\n",
       "      <td>Zombie Army Trilogy</td>\n",
       "      <td>XOne</td>\n",
       "      <td>2015</td>\n",
       "      <td>Shooter</td>\n",
       "      <td>0.05</td>\n",
       "      <td>0.05</td>\n",
       "      <td>0.0</td>\n",
       "      <td>0.01</td>\n",
       "      <td>0.11</td>\n",
       "      <td>62.0</td>\n",
       "      <td>7.2</td>\n",
       "      <td>no info</td>\n",
       "    </tr>\n",
       "    <tr>\n",
       "      <th>16525</th>\n",
       "      <td>Zumba Fitness: World Party</td>\n",
       "      <td>XOne</td>\n",
       "      <td>2013</td>\n",
       "      <td>Misc</td>\n",
       "      <td>0.17</td>\n",
       "      <td>0.05</td>\n",
       "      <td>0.0</td>\n",
       "      <td>0.02</td>\n",
       "      <td>0.24</td>\n",
       "      <td>73.0</td>\n",
       "      <td>6.2</td>\n",
       "      <td>E</td>\n",
       "    </tr>\n",
       "  </tbody>\n",
       "</table>\n",
       "<p>182 rows × 12 columns</p>\n",
       "</div>"
      ],
      "text/plain": [
       "                                    name platform  year_of_release      genre  \\\n",
       "110                        7 Days to Die     XOne             2016     Action   \n",
       "257    Agatha Christie's The ABC Murders     XOne             2016  Adventure   \n",
       "344                     Alien: Isolation     XOne             2014    Shooter   \n",
       "464                Angry Birds Star Wars     XOne             2013   Strategy   \n",
       "641       Arslan: The Warriors of Legend     XOne             2016     Action   \n",
       "...                                  ...      ...              ...        ...   \n",
       "16036         Wolfenstein: The Old Blood     XOne             2015     Action   \n",
       "16190                         Worms: WMD     XOne             2016     Action   \n",
       "16251                             XCOM 2     XOne             2016   Strategy   \n",
       "16492                Zombie Army Trilogy     XOne             2015    Shooter   \n",
       "16525         Zumba Fitness: World Party     XOne             2013       Misc   \n",
       "\n",
       "       na_sales  eu_sales  jp_sales  other_sales  total_sales  critic_score  \\\n",
       "110        0.03      0.02       0.0         0.00         0.05          35.0   \n",
       "257        0.01      0.00       0.0         0.00         0.01          66.0   \n",
       "344        0.22      0.24       0.0         0.04         0.50          78.0   \n",
       "464        0.11      0.04       0.0         0.02         0.17          53.0   \n",
       "641        0.01      0.00       0.0         0.00         0.01         999.0   \n",
       "...         ...       ...       ...          ...          ...           ...   \n",
       "16036      0.07      0.07       0.0         0.01         0.15          75.0   \n",
       "16190      0.01      0.00       0.0         0.00         0.01          75.0   \n",
       "16251      0.02      0.02       0.0         0.00         0.04          87.0   \n",
       "16492      0.05      0.05       0.0         0.01         0.11          62.0   \n",
       "16525      0.17      0.05       0.0         0.02         0.24          73.0   \n",
       "\n",
       "       user_score   rating  \n",
       "110           5.2        M  \n",
       "257           7.5  no info  \n",
       "344           7.8        M  \n",
       "464           6.9        E  \n",
       "641           5.8        T  \n",
       "...           ...      ...  \n",
       "16036         8.0  no info  \n",
       "16190         8.1     E10+  \n",
       "16251         8.1        T  \n",
       "16492         7.2  no info  \n",
       "16525         6.2        E  \n",
       "\n",
       "[182 rows x 12 columns]"
      ]
     },
     "execution_count": 112,
     "metadata": {},
     "output_type": "execute_result"
    }
   ],
   "source": [
    "# формирование среза по платформе XOne без учета пропусков в user_score, заполненных фиктивными значениями\n",
    "user_score_XOne = df.query(\"platform == 'XOne' & user_score != 999\")\n",
    "user_score_XOne"
   ]
  },
  {
   "cell_type": "code",
   "execution_count": 113,
   "metadata": {
    "scrolled": true
   },
   "outputs": [
    {
     "data": {
      "text/html": [
       "<div>\n",
       "<style scoped>\n",
       "    .dataframe tbody tr th:only-of-type {\n",
       "        vertical-align: middle;\n",
       "    }\n",
       "\n",
       "    .dataframe tbody tr th {\n",
       "        vertical-align: top;\n",
       "    }\n",
       "\n",
       "    .dataframe thead th {\n",
       "        text-align: right;\n",
       "    }\n",
       "</style>\n",
       "<table border=\"1\" class=\"dataframe\">\n",
       "  <thead>\n",
       "    <tr style=\"text-align: right;\">\n",
       "      <th></th>\n",
       "      <th>name</th>\n",
       "      <th>platform</th>\n",
       "      <th>year_of_release</th>\n",
       "      <th>genre</th>\n",
       "      <th>na_sales</th>\n",
       "      <th>eu_sales</th>\n",
       "      <th>jp_sales</th>\n",
       "      <th>other_sales</th>\n",
       "      <th>total_sales</th>\n",
       "      <th>critic_score</th>\n",
       "      <th>user_score</th>\n",
       "      <th>rating</th>\n",
       "    </tr>\n",
       "  </thead>\n",
       "  <tbody>\n",
       "    <tr>\n",
       "      <th>23</th>\n",
       "      <td>007: Quantum of Solace</td>\n",
       "      <td>PC</td>\n",
       "      <td>2008</td>\n",
       "      <td>Action</td>\n",
       "      <td>0.01</td>\n",
       "      <td>0.01</td>\n",
       "      <td>0.0</td>\n",
       "      <td>0.00</td>\n",
       "      <td>0.02</td>\n",
       "      <td>70.0</td>\n",
       "      <td>6.3</td>\n",
       "      <td>T</td>\n",
       "    </tr>\n",
       "    <tr>\n",
       "      <th>45</th>\n",
       "      <td>15 Days</td>\n",
       "      <td>PC</td>\n",
       "      <td>2009</td>\n",
       "      <td>Adventure</td>\n",
       "      <td>0.00</td>\n",
       "      <td>0.01</td>\n",
       "      <td>0.0</td>\n",
       "      <td>0.00</td>\n",
       "      <td>0.01</td>\n",
       "      <td>63.0</td>\n",
       "      <td>5.8</td>\n",
       "      <td>no info</td>\n",
       "    </tr>\n",
       "    <tr>\n",
       "      <th>46</th>\n",
       "      <td>1701 A.D.</td>\n",
       "      <td>PC</td>\n",
       "      <td>2006</td>\n",
       "      <td>Simulation</td>\n",
       "      <td>0.00</td>\n",
       "      <td>0.25</td>\n",
       "      <td>0.0</td>\n",
       "      <td>0.04</td>\n",
       "      <td>0.29</td>\n",
       "      <td>79.0</td>\n",
       "      <td>8.3</td>\n",
       "      <td>E10+</td>\n",
       "    </tr>\n",
       "    <tr>\n",
       "      <th>49</th>\n",
       "      <td>18 Wheels of Steel: Extreme Trucker</td>\n",
       "      <td>PC</td>\n",
       "      <td>2009</td>\n",
       "      <td>Racing</td>\n",
       "      <td>0.00</td>\n",
       "      <td>0.02</td>\n",
       "      <td>0.0</td>\n",
       "      <td>0.00</td>\n",
       "      <td>0.02</td>\n",
       "      <td>999.0</td>\n",
       "      <td>8.0</td>\n",
       "      <td>no info</td>\n",
       "    </tr>\n",
       "    <tr>\n",
       "      <th>50</th>\n",
       "      <td>18 Wheels of Steel: Extreme Trucker 2</td>\n",
       "      <td>PC</td>\n",
       "      <td>2011</td>\n",
       "      <td>Racing</td>\n",
       "      <td>0.08</td>\n",
       "      <td>0.02</td>\n",
       "      <td>0.0</td>\n",
       "      <td>0.01</td>\n",
       "      <td>0.11</td>\n",
       "      <td>999.0</td>\n",
       "      <td>8.3</td>\n",
       "      <td>E</td>\n",
       "    </tr>\n",
       "    <tr>\n",
       "      <th>...</th>\n",
       "      <td>...</td>\n",
       "      <td>...</td>\n",
       "      <td>...</td>\n",
       "      <td>...</td>\n",
       "      <td>...</td>\n",
       "      <td>...</td>\n",
       "      <td>...</td>\n",
       "      <td>...</td>\n",
       "      <td>...</td>\n",
       "      <td>...</td>\n",
       "      <td>...</td>\n",
       "      <td>...</td>\n",
       "    </tr>\n",
       "    <tr>\n",
       "      <th>16252</th>\n",
       "      <td>XCOM: Enemy Unknown</td>\n",
       "      <td>PC</td>\n",
       "      <td>2012</td>\n",
       "      <td>Strategy</td>\n",
       "      <td>0.27</td>\n",
       "      <td>0.36</td>\n",
       "      <td>0.0</td>\n",
       "      <td>0.08</td>\n",
       "      <td>0.71</td>\n",
       "      <td>89.0</td>\n",
       "      <td>8.2</td>\n",
       "      <td>M</td>\n",
       "    </tr>\n",
       "    <tr>\n",
       "      <th>16507</th>\n",
       "      <td>Zoo Tycoon 2</td>\n",
       "      <td>PC</td>\n",
       "      <td>2004</td>\n",
       "      <td>Strategy</td>\n",
       "      <td>0.00</td>\n",
       "      <td>0.05</td>\n",
       "      <td>0.0</td>\n",
       "      <td>0.01</td>\n",
       "      <td>0.06</td>\n",
       "      <td>72.0</td>\n",
       "      <td>8.1</td>\n",
       "      <td>E</td>\n",
       "    </tr>\n",
       "    <tr>\n",
       "      <th>16509</th>\n",
       "      <td>Zoo Tycoon 2: Ultimate Collection</td>\n",
       "      <td>PC</td>\n",
       "      <td>2008</td>\n",
       "      <td>Strategy</td>\n",
       "      <td>0.04</td>\n",
       "      <td>0.18</td>\n",
       "      <td>0.0</td>\n",
       "      <td>0.04</td>\n",
       "      <td>0.26</td>\n",
       "      <td>999.0</td>\n",
       "      <td>8.4</td>\n",
       "      <td>E</td>\n",
       "    </tr>\n",
       "    <tr>\n",
       "      <th>16511</th>\n",
       "      <td>Zoo Tycoon: Complete Collection</td>\n",
       "      <td>PC</td>\n",
       "      <td>2003</td>\n",
       "      <td>Strategy</td>\n",
       "      <td>0.03</td>\n",
       "      <td>0.02</td>\n",
       "      <td>0.0</td>\n",
       "      <td>0.01</td>\n",
       "      <td>0.06</td>\n",
       "      <td>999.0</td>\n",
       "      <td>8.0</td>\n",
       "      <td>E</td>\n",
       "    </tr>\n",
       "    <tr>\n",
       "      <th>16531</th>\n",
       "      <td>[Prototype 2]</td>\n",
       "      <td>PC</td>\n",
       "      <td>2012</td>\n",
       "      <td>Action</td>\n",
       "      <td>0.07</td>\n",
       "      <td>0.03</td>\n",
       "      <td>0.0</td>\n",
       "      <td>0.01</td>\n",
       "      <td>0.11</td>\n",
       "      <td>76.0</td>\n",
       "      <td>6.4</td>\n",
       "      <td>M</td>\n",
       "    </tr>\n",
       "  </tbody>\n",
       "</table>\n",
       "<p>766 rows × 12 columns</p>\n",
       "</div>"
      ],
      "text/plain": [
       "                                        name platform  year_of_release  \\\n",
       "23                    007: Quantum of Solace       PC             2008   \n",
       "45                                   15 Days       PC             2009   \n",
       "46                                 1701 A.D.       PC             2006   \n",
       "49       18 Wheels of Steel: Extreme Trucker       PC             2009   \n",
       "50     18 Wheels of Steel: Extreme Trucker 2       PC             2011   \n",
       "...                                      ...      ...              ...   \n",
       "16252                    XCOM: Enemy Unknown       PC             2012   \n",
       "16507                           Zoo Tycoon 2       PC             2004   \n",
       "16509      Zoo Tycoon 2: Ultimate Collection       PC             2008   \n",
       "16511        Zoo Tycoon: Complete Collection       PC             2003   \n",
       "16531                          [Prototype 2]       PC             2012   \n",
       "\n",
       "            genre  na_sales  eu_sales  jp_sales  other_sales  total_sales  \\\n",
       "23         Action      0.01      0.01       0.0         0.00         0.02   \n",
       "45      Adventure      0.00      0.01       0.0         0.00         0.01   \n",
       "46     Simulation      0.00      0.25       0.0         0.04         0.29   \n",
       "49         Racing      0.00      0.02       0.0         0.00         0.02   \n",
       "50         Racing      0.08      0.02       0.0         0.01         0.11   \n",
       "...           ...       ...       ...       ...          ...          ...   \n",
       "16252    Strategy      0.27      0.36       0.0         0.08         0.71   \n",
       "16507    Strategy      0.00      0.05       0.0         0.01         0.06   \n",
       "16509    Strategy      0.04      0.18       0.0         0.04         0.26   \n",
       "16511    Strategy      0.03      0.02       0.0         0.01         0.06   \n",
       "16531      Action      0.07      0.03       0.0         0.01         0.11   \n",
       "\n",
       "       critic_score  user_score   rating  \n",
       "23             70.0         6.3        T  \n",
       "45             63.0         5.8  no info  \n",
       "46             79.0         8.3     E10+  \n",
       "49            999.0         8.0  no info  \n",
       "50            999.0         8.3        E  \n",
       "...             ...         ...      ...  \n",
       "16252          89.0         8.2        M  \n",
       "16507          72.0         8.1        E  \n",
       "16509         999.0         8.4        E  \n",
       "16511         999.0         8.0        E  \n",
       "16531          76.0         6.4        M  \n",
       "\n",
       "[766 rows x 12 columns]"
      ]
     },
     "execution_count": 113,
     "metadata": {},
     "output_type": "execute_result"
    }
   ],
   "source": [
    "# формирование среза по платформе PC без учета пропусков в user_score, заполненных фиктивными значениями\n",
    "user_score_PC = df.query(\"platform == 'PC' & user_score != 999\")\n",
    "user_score_PC"
   ]
  },
  {
   "cell_type": "markdown",
   "metadata": {},
   "source": [
    "Применим метод scipy.stats.ttest_ind() для определения вероятности справедливости нулевой гипотезы."
   ]
  },
  {
   "cell_type": "code",
   "execution_count": 114,
   "metadata": {
    "scrolled": true
   },
   "outputs": [
    {
     "name": "stdout",
     "output_type": "stream",
     "text": [
      "p-значение: 1.148767431285274e-05\n",
      "Отвергаем нулевую гипотезу\n"
     ]
    }
   ],
   "source": [
    "# применение метода\n",
    "alpha = .05\n",
    "results = st.ttest_ind(\n",
    "    user_score_XOne['user_score'], \n",
    "    user_score_PC['user_score'])\n",
    "\n",
    "print('p-значение:', results.pvalue)\n",
    "\n",
    "if results.pvalue < alpha:\n",
    "    print(\"Отвергаем нулевую гипотезу\")\n",
    "else:\n",
    "    print(\"Не получилось отвергнуть нулевую гипотезу\")"
   ]
  },
  {
   "cell_type": "markdown",
   "metadata": {},
   "source": [
    "Поскольку вероятность получить такие события, которые сформулированы в нулевой гипотезе, ничтожно мала (существенно меньше уровня значимости), мы вынуждены отвергнуть нулевую гипотезу."
   ]
  },
  {
   "cell_type": "markdown",
   "metadata": {},
   "source": [
    "Поскольку выборки невелики, рассчитаем средние значения и оценим справедливость нулевой гипотезы эмпирическим путем."
   ]
  },
  {
   "cell_type": "markdown",
   "metadata": {},
   "source": [
    "Рассчитаем среднее арифметическое по пользовательским оценкам по платформе XOne."
   ]
  },
  {
   "cell_type": "code",
   "execution_count": 115,
   "metadata": {
    "scrolled": true
   },
   "outputs": [
    {
     "data": {
      "text/plain": [
       "6.521428"
      ]
     },
     "execution_count": 115,
     "metadata": {},
     "output_type": "execute_result"
    }
   ],
   "source": [
    "# расчет среднего арифметического\n",
    "user_score_XOne['user_score'].mean()"
   ]
  },
  {
   "cell_type": "markdown",
   "metadata": {},
   "source": [
    "Рассчитаем среднее арифметическое по пользовательским оценкам по платформе PC."
   ]
  },
  {
   "cell_type": "code",
   "execution_count": 116,
   "metadata": {
    "scrolled": false
   },
   "outputs": [
    {
     "data": {
      "text/plain": [
       "7.0673633"
      ]
     },
     "execution_count": 116,
     "metadata": {},
     "output_type": "execute_result"
    }
   ],
   "source": [
    "# расчет среднего арифметического\n",
    "user_score_PC['user_score'].mean()"
   ]
  },
  {
   "cell_type": "markdown",
   "metadata": {},
   "source": [
    "Значения средних арифметческих отличаются на 0,5."
   ]
  },
  {
   "cell_type": "markdown",
   "metadata": {},
   "source": [
    "### Гипотеза 2"
   ]
  },
  {
   "cell_type": "markdown",
   "metadata": {},
   "source": [
    "Проверим предположение: •\tСредние пользовательские рейтинги жанров Action (англ. «действие», экшен-игры) и Sports (англ. «спортивные соревнования») разные."
   ]
  },
  {
   "cell_type": "markdown",
   "metadata": {},
   "source": [
    "Вторая пара гипотез будет звучать так:\n",
    "\n",
    "**H₀**: Средний пользовательский рейтинг жанра Action равен среднему пользовательскому рейтингу жанра Sports\n",
    "\n",
    "**H₁**: Средний пользовательский рейтинг жанра Action не равен среднему пользовательскому рейтингу жанра Sports"
   ]
  },
  {
   "cell_type": "markdown",
   "metadata": {},
   "source": [
    "Сформируем срезы по данным по жанрам."
   ]
  },
  {
   "cell_type": "code",
   "execution_count": 117,
   "metadata": {},
   "outputs": [
    {
     "data": {
      "text/html": [
       "<div>\n",
       "<style scoped>\n",
       "    .dataframe tbody tr th:only-of-type {\n",
       "        vertical-align: middle;\n",
       "    }\n",
       "\n",
       "    .dataframe tbody tr th {\n",
       "        vertical-align: top;\n",
       "    }\n",
       "\n",
       "    .dataframe thead th {\n",
       "        text-align: right;\n",
       "    }\n",
       "</style>\n",
       "<table border=\"1\" class=\"dataframe\">\n",
       "  <thead>\n",
       "    <tr style=\"text-align: right;\">\n",
       "      <th></th>\n",
       "      <th>name</th>\n",
       "      <th>platform</th>\n",
       "      <th>year_of_release</th>\n",
       "      <th>genre</th>\n",
       "      <th>na_sales</th>\n",
       "      <th>eu_sales</th>\n",
       "      <th>jp_sales</th>\n",
       "      <th>other_sales</th>\n",
       "      <th>total_sales</th>\n",
       "      <th>critic_score</th>\n",
       "      <th>user_score</th>\n",
       "      <th>rating</th>\n",
       "    </tr>\n",
       "  </thead>\n",
       "  <tbody>\n",
       "    <tr>\n",
       "      <th>23</th>\n",
       "      <td>007: Quantum of Solace</td>\n",
       "      <td>PC</td>\n",
       "      <td>2008</td>\n",
       "      <td>Action</td>\n",
       "      <td>0.01</td>\n",
       "      <td>0.01</td>\n",
       "      <td>0.00</td>\n",
       "      <td>0.00</td>\n",
       "      <td>0.02</td>\n",
       "      <td>70.0</td>\n",
       "      <td>6.3</td>\n",
       "      <td>T</td>\n",
       "    </tr>\n",
       "    <tr>\n",
       "      <th>19</th>\n",
       "      <td>007: Quantum of Solace</td>\n",
       "      <td>PS3</td>\n",
       "      <td>2008</td>\n",
       "      <td>Action</td>\n",
       "      <td>0.43</td>\n",
       "      <td>0.51</td>\n",
       "      <td>0.02</td>\n",
       "      <td>0.19</td>\n",
       "      <td>1.15</td>\n",
       "      <td>65.0</td>\n",
       "      <td>6.6</td>\n",
       "      <td>T</td>\n",
       "    </tr>\n",
       "    <tr>\n",
       "      <th>18</th>\n",
       "      <td>007: Quantum of Solace</td>\n",
       "      <td>X360</td>\n",
       "      <td>2008</td>\n",
       "      <td>Action</td>\n",
       "      <td>0.82</td>\n",
       "      <td>0.51</td>\n",
       "      <td>0.01</td>\n",
       "      <td>0.14</td>\n",
       "      <td>1.48</td>\n",
       "      <td>65.0</td>\n",
       "      <td>7.1</td>\n",
       "      <td>T</td>\n",
       "    </tr>\n",
       "    <tr>\n",
       "      <th>20</th>\n",
       "      <td>007: Quantum of Solace</td>\n",
       "      <td>Wii</td>\n",
       "      <td>2008</td>\n",
       "      <td>Action</td>\n",
       "      <td>0.29</td>\n",
       "      <td>0.28</td>\n",
       "      <td>0.01</td>\n",
       "      <td>0.07</td>\n",
       "      <td>0.65</td>\n",
       "      <td>54.0</td>\n",
       "      <td>7.5</td>\n",
       "      <td>T</td>\n",
       "    </tr>\n",
       "    <tr>\n",
       "      <th>25</th>\n",
       "      <td>007: The World is not Enough</td>\n",
       "      <td>PS</td>\n",
       "      <td>2000</td>\n",
       "      <td>Action</td>\n",
       "      <td>0.51</td>\n",
       "      <td>0.35</td>\n",
       "      <td>0.00</td>\n",
       "      <td>0.06</td>\n",
       "      <td>0.92</td>\n",
       "      <td>61.0</td>\n",
       "      <td>6.7</td>\n",
       "      <td>T</td>\n",
       "    </tr>\n",
       "    <tr>\n",
       "      <th>...</th>\n",
       "      <td>...</td>\n",
       "      <td>...</td>\n",
       "      <td>...</td>\n",
       "      <td>...</td>\n",
       "      <td>...</td>\n",
       "      <td>...</td>\n",
       "      <td>...</td>\n",
       "      <td>...</td>\n",
       "      <td>...</td>\n",
       "      <td>...</td>\n",
       "      <td>...</td>\n",
       "      <td>...</td>\n",
       "    </tr>\n",
       "    <tr>\n",
       "      <th>16533</th>\n",
       "      <td>[Prototype]</td>\n",
       "      <td>PS3</td>\n",
       "      <td>2009</td>\n",
       "      <td>Action</td>\n",
       "      <td>0.65</td>\n",
       "      <td>0.40</td>\n",
       "      <td>0.00</td>\n",
       "      <td>0.19</td>\n",
       "      <td>1.24</td>\n",
       "      <td>79.0</td>\n",
       "      <td>7.7</td>\n",
       "      <td>M</td>\n",
       "    </tr>\n",
       "    <tr>\n",
       "      <th>16532</th>\n",
       "      <td>[Prototype]</td>\n",
       "      <td>X360</td>\n",
       "      <td>2009</td>\n",
       "      <td>Action</td>\n",
       "      <td>0.84</td>\n",
       "      <td>0.35</td>\n",
       "      <td>0.00</td>\n",
       "      <td>0.12</td>\n",
       "      <td>1.31</td>\n",
       "      <td>78.0</td>\n",
       "      <td>7.8</td>\n",
       "      <td>M</td>\n",
       "    </tr>\n",
       "    <tr>\n",
       "      <th>16548</th>\n",
       "      <td>inFAMOUS</td>\n",
       "      <td>PS3</td>\n",
       "      <td>2009</td>\n",
       "      <td>Action</td>\n",
       "      <td>1.76</td>\n",
       "      <td>0.68</td>\n",
       "      <td>0.12</td>\n",
       "      <td>0.37</td>\n",
       "      <td>2.93</td>\n",
       "      <td>85.0</td>\n",
       "      <td>8.3</td>\n",
       "      <td>T</td>\n",
       "    </tr>\n",
       "    <tr>\n",
       "      <th>16549</th>\n",
       "      <td>inFAMOUS 2</td>\n",
       "      <td>PS3</td>\n",
       "      <td>2011</td>\n",
       "      <td>Action</td>\n",
       "      <td>1.05</td>\n",
       "      <td>0.47</td>\n",
       "      <td>0.08</td>\n",
       "      <td>0.22</td>\n",
       "      <td>1.82</td>\n",
       "      <td>83.0</td>\n",
       "      <td>8.4</td>\n",
       "      <td>T</td>\n",
       "    </tr>\n",
       "    <tr>\n",
       "      <th>16550</th>\n",
       "      <td>inFAMOUS: Second Son</td>\n",
       "      <td>PS4</td>\n",
       "      <td>2014</td>\n",
       "      <td>Action</td>\n",
       "      <td>1.28</td>\n",
       "      <td>0.98</td>\n",
       "      <td>0.07</td>\n",
       "      <td>0.46</td>\n",
       "      <td>2.79</td>\n",
       "      <td>80.0</td>\n",
       "      <td>7.9</td>\n",
       "      <td>T</td>\n",
       "    </tr>\n",
       "  </tbody>\n",
       "</table>\n",
       "<p>1820 rows × 12 columns</p>\n",
       "</div>"
      ],
      "text/plain": [
       "                               name platform  year_of_release   genre  \\\n",
       "23           007: Quantum of Solace       PC             2008  Action   \n",
       "19           007: Quantum of Solace      PS3             2008  Action   \n",
       "18           007: Quantum of Solace     X360             2008  Action   \n",
       "20           007: Quantum of Solace      Wii             2008  Action   \n",
       "25     007: The World is not Enough       PS             2000  Action   \n",
       "...                             ...      ...              ...     ...   \n",
       "16533                   [Prototype]      PS3             2009  Action   \n",
       "16532                   [Prototype]     X360             2009  Action   \n",
       "16548                      inFAMOUS      PS3             2009  Action   \n",
       "16549                    inFAMOUS 2      PS3             2011  Action   \n",
       "16550          inFAMOUS: Second Son      PS4             2014  Action   \n",
       "\n",
       "       na_sales  eu_sales  jp_sales  other_sales  total_sales  critic_score  \\\n",
       "23         0.01      0.01      0.00         0.00         0.02          70.0   \n",
       "19         0.43      0.51      0.02         0.19         1.15          65.0   \n",
       "18         0.82      0.51      0.01         0.14         1.48          65.0   \n",
       "20         0.29      0.28      0.01         0.07         0.65          54.0   \n",
       "25         0.51      0.35      0.00         0.06         0.92          61.0   \n",
       "...         ...       ...       ...          ...          ...           ...   \n",
       "16533      0.65      0.40      0.00         0.19         1.24          79.0   \n",
       "16532      0.84      0.35      0.00         0.12         1.31          78.0   \n",
       "16548      1.76      0.68      0.12         0.37         2.93          85.0   \n",
       "16549      1.05      0.47      0.08         0.22         1.82          83.0   \n",
       "16550      1.28      0.98      0.07         0.46         2.79          80.0   \n",
       "\n",
       "       user_score rating  \n",
       "23            6.3      T  \n",
       "19            6.6      T  \n",
       "18            7.1      T  \n",
       "20            7.5      T  \n",
       "25            6.7      T  \n",
       "...           ...    ...  \n",
       "16533         7.7      M  \n",
       "16532         7.8      M  \n",
       "16548         8.3      T  \n",
       "16549         8.4      T  \n",
       "16550         7.9      T  \n",
       "\n",
       "[1820 rows x 12 columns]"
      ]
     },
     "execution_count": 117,
     "metadata": {},
     "output_type": "execute_result"
    }
   ],
   "source": [
    "# формирование среза по жанру Action без учета пропусков в user_score, заполненных фиктивными значениями\n",
    "user_score_Action = df.query(\"genre == 'Action' & user_score != 999\")\n",
    "user_score_Action"
   ]
  },
  {
   "cell_type": "code",
   "execution_count": 118,
   "metadata": {},
   "outputs": [
    {
     "data": {
      "text/html": [
       "<div>\n",
       "<style scoped>\n",
       "    .dataframe tbody tr th:only-of-type {\n",
       "        vertical-align: middle;\n",
       "    }\n",
       "\n",
       "    .dataframe tbody tr th {\n",
       "        vertical-align: top;\n",
       "    }\n",
       "\n",
       "    .dataframe thead th {\n",
       "        text-align: right;\n",
       "    }\n",
       "</style>\n",
       "<table border=\"1\" class=\"dataframe\">\n",
       "  <thead>\n",
       "    <tr style=\"text-align: right;\">\n",
       "      <th></th>\n",
       "      <th>name</th>\n",
       "      <th>platform</th>\n",
       "      <th>year_of_release</th>\n",
       "      <th>genre</th>\n",
       "      <th>na_sales</th>\n",
       "      <th>eu_sales</th>\n",
       "      <th>jp_sales</th>\n",
       "      <th>other_sales</th>\n",
       "      <th>total_sales</th>\n",
       "      <th>critic_score</th>\n",
       "      <th>user_score</th>\n",
       "      <th>rating</th>\n",
       "    </tr>\n",
       "  </thead>\n",
       "  <tbody>\n",
       "    <tr>\n",
       "      <th>65</th>\n",
       "      <td>2002 FIFA World Cup</td>\n",
       "      <td>PS2</td>\n",
       "      <td>2002</td>\n",
       "      <td>Sports</td>\n",
       "      <td>0.21</td>\n",
       "      <td>0.17</td>\n",
       "      <td>0.16</td>\n",
       "      <td>0.06</td>\n",
       "      <td>0.60</td>\n",
       "      <td>73.0</td>\n",
       "      <td>5.6</td>\n",
       "      <td>E</td>\n",
       "    </tr>\n",
       "    <tr>\n",
       "      <th>67</th>\n",
       "      <td>2002 FIFA World Cup</td>\n",
       "      <td>GC</td>\n",
       "      <td>2002</td>\n",
       "      <td>Sports</td>\n",
       "      <td>0.04</td>\n",
       "      <td>0.01</td>\n",
       "      <td>0.00</td>\n",
       "      <td>0.00</td>\n",
       "      <td>0.05</td>\n",
       "      <td>78.0</td>\n",
       "      <td>7.7</td>\n",
       "      <td>E</td>\n",
       "    </tr>\n",
       "    <tr>\n",
       "      <th>66</th>\n",
       "      <td>2002 FIFA World Cup</td>\n",
       "      <td>XB</td>\n",
       "      <td>2002</td>\n",
       "      <td>Sports</td>\n",
       "      <td>0.14</td>\n",
       "      <td>0.04</td>\n",
       "      <td>0.00</td>\n",
       "      <td>0.01</td>\n",
       "      <td>0.19</td>\n",
       "      <td>79.0</td>\n",
       "      <td>9.0</td>\n",
       "      <td>E</td>\n",
       "    </tr>\n",
       "    <tr>\n",
       "      <th>71</th>\n",
       "      <td>2010 FIFA World Cup South Africa</td>\n",
       "      <td>Wii</td>\n",
       "      <td>2010</td>\n",
       "      <td>Sports</td>\n",
       "      <td>0.23</td>\n",
       "      <td>0.15</td>\n",
       "      <td>0.01</td>\n",
       "      <td>0.04</td>\n",
       "      <td>0.43</td>\n",
       "      <td>70.0</td>\n",
       "      <td>6.7</td>\n",
       "      <td>E</td>\n",
       "    </tr>\n",
       "    <tr>\n",
       "      <th>70</th>\n",
       "      <td>2010 FIFA World Cup South Africa</td>\n",
       "      <td>PSP</td>\n",
       "      <td>2010</td>\n",
       "      <td>Sports</td>\n",
       "      <td>0.09</td>\n",
       "      <td>0.22</td>\n",
       "      <td>0.03</td>\n",
       "      <td>0.12</td>\n",
       "      <td>0.46</td>\n",
       "      <td>69.0</td>\n",
       "      <td>7.4</td>\n",
       "      <td>E</td>\n",
       "    </tr>\n",
       "    <tr>\n",
       "      <th>...</th>\n",
       "      <td>...</td>\n",
       "      <td>...</td>\n",
       "      <td>...</td>\n",
       "      <td>...</td>\n",
       "      <td>...</td>\n",
       "      <td>...</td>\n",
       "      <td>...</td>\n",
       "      <td>...</td>\n",
       "      <td>...</td>\n",
       "      <td>...</td>\n",
       "      <td>...</td>\n",
       "      <td>...</td>\n",
       "    </tr>\n",
       "    <tr>\n",
       "      <th>16557</th>\n",
       "      <td>pro evolution soccer 2011</td>\n",
       "      <td>Wii</td>\n",
       "      <td>2010</td>\n",
       "      <td>Sports</td>\n",
       "      <td>0.07</td>\n",
       "      <td>0.10</td>\n",
       "      <td>0.03</td>\n",
       "      <td>0.02</td>\n",
       "      <td>0.22</td>\n",
       "      <td>78.0</td>\n",
       "      <td>5.4</td>\n",
       "      <td>E</td>\n",
       "    </tr>\n",
       "    <tr>\n",
       "      <th>16554</th>\n",
       "      <td>pro evolution soccer 2011</td>\n",
       "      <td>PSP</td>\n",
       "      <td>2010</td>\n",
       "      <td>Sports</td>\n",
       "      <td>0.05</td>\n",
       "      <td>0.30</td>\n",
       "      <td>0.29</td>\n",
       "      <td>0.16</td>\n",
       "      <td>0.80</td>\n",
       "      <td>74.0</td>\n",
       "      <td>5.8</td>\n",
       "      <td>E</td>\n",
       "    </tr>\n",
       "    <tr>\n",
       "      <th>16555</th>\n",
       "      <td>pro evolution soccer 2011</td>\n",
       "      <td>X360</td>\n",
       "      <td>2010</td>\n",
       "      <td>Sports</td>\n",
       "      <td>0.09</td>\n",
       "      <td>0.44</td>\n",
       "      <td>0.00</td>\n",
       "      <td>0.07</td>\n",
       "      <td>0.60</td>\n",
       "      <td>79.0</td>\n",
       "      <td>5.9</td>\n",
       "      <td>E</td>\n",
       "    </tr>\n",
       "    <tr>\n",
       "      <th>16556</th>\n",
       "      <td>pro evolution soccer 2011</td>\n",
       "      <td>PS2</td>\n",
       "      <td>2010</td>\n",
       "      <td>Sports</td>\n",
       "      <td>0.04</td>\n",
       "      <td>0.21</td>\n",
       "      <td>0.05</td>\n",
       "      <td>0.11</td>\n",
       "      <td>0.41</td>\n",
       "      <td>999.0</td>\n",
       "      <td>6.7</td>\n",
       "      <td>E</td>\n",
       "    </tr>\n",
       "    <tr>\n",
       "      <th>16553</th>\n",
       "      <td>pro evolution soccer 2011</td>\n",
       "      <td>PS3</td>\n",
       "      <td>2010</td>\n",
       "      <td>Sports</td>\n",
       "      <td>0.29</td>\n",
       "      <td>1.17</td>\n",
       "      <td>0.54</td>\n",
       "      <td>0.41</td>\n",
       "      <td>2.41</td>\n",
       "      <td>77.0</td>\n",
       "      <td>6.8</td>\n",
       "      <td>E</td>\n",
       "    </tr>\n",
       "  </tbody>\n",
       "</table>\n",
       "<p>1098 rows × 12 columns</p>\n",
       "</div>"
      ],
      "text/plain": [
       "                                   name platform  year_of_release   genre  \\\n",
       "65                  2002 FIFA World Cup      PS2             2002  Sports   \n",
       "67                  2002 FIFA World Cup       GC             2002  Sports   \n",
       "66                  2002 FIFA World Cup       XB             2002  Sports   \n",
       "71     2010 FIFA World Cup South Africa      Wii             2010  Sports   \n",
       "70     2010 FIFA World Cup South Africa      PSP             2010  Sports   \n",
       "...                                 ...      ...              ...     ...   \n",
       "16557         pro evolution soccer 2011      Wii             2010  Sports   \n",
       "16554         pro evolution soccer 2011      PSP             2010  Sports   \n",
       "16555         pro evolution soccer 2011     X360             2010  Sports   \n",
       "16556         pro evolution soccer 2011      PS2             2010  Sports   \n",
       "16553         pro evolution soccer 2011      PS3             2010  Sports   \n",
       "\n",
       "       na_sales  eu_sales  jp_sales  other_sales  total_sales  critic_score  \\\n",
       "65         0.21      0.17      0.16         0.06         0.60          73.0   \n",
       "67         0.04      0.01      0.00         0.00         0.05          78.0   \n",
       "66         0.14      0.04      0.00         0.01         0.19          79.0   \n",
       "71         0.23      0.15      0.01         0.04         0.43          70.0   \n",
       "70         0.09      0.22      0.03         0.12         0.46          69.0   \n",
       "...         ...       ...       ...          ...          ...           ...   \n",
       "16557      0.07      0.10      0.03         0.02         0.22          78.0   \n",
       "16554      0.05      0.30      0.29         0.16         0.80          74.0   \n",
       "16555      0.09      0.44      0.00         0.07         0.60          79.0   \n",
       "16556      0.04      0.21      0.05         0.11         0.41         999.0   \n",
       "16553      0.29      1.17      0.54         0.41         2.41          77.0   \n",
       "\n",
       "       user_score rating  \n",
       "65            5.6      E  \n",
       "67            7.7      E  \n",
       "66            9.0      E  \n",
       "71            6.7      E  \n",
       "70            7.4      E  \n",
       "...           ...    ...  \n",
       "16557         5.4      E  \n",
       "16554         5.8      E  \n",
       "16555         5.9      E  \n",
       "16556         6.7      E  \n",
       "16553         6.8      E  \n",
       "\n",
       "[1098 rows x 12 columns]"
      ]
     },
     "execution_count": 118,
     "metadata": {},
     "output_type": "execute_result"
    }
   ],
   "source": [
    "# формирование среза по жанру Sports без учета пропусков в user_score, заполненных фиктивными значениями\n",
    "user_score_Sports = df.query(\"genre == 'Sports' & user_score != 999\")\n",
    "user_score_Sports"
   ]
  },
  {
   "cell_type": "markdown",
   "metadata": {},
   "source": [
    "Применим метод scipy.stats.ttest_ind() для определения вероятности справедливости нулевой гипотезы."
   ]
  },
  {
   "cell_type": "code",
   "execution_count": 119,
   "metadata": {},
   "outputs": [
    {
     "name": "stdout",
     "output_type": "stream",
     "text": [
      "p-значение: 0.08026082266757677\n",
      "Не получилось отвергнуть нулевую гипотезу\n"
     ]
    }
   ],
   "source": [
    "# применение метода\n",
    "alpha = .05\n",
    "results = st.ttest_ind(\n",
    "    user_score_Action['user_score'], \n",
    "    user_score_Sports['user_score'])\n",
    "\n",
    "print('p-значение:', results.pvalue)\n",
    "\n",
    "if results.pvalue < alpha:\n",
    "    print(\"Отвергаем нулевую гипотезу\")\n",
    "else:\n",
    "    print(\"Не получилось отвергнуть нулевую гипотезу\")"
   ]
  },
  {
   "cell_type": "markdown",
   "metadata": {},
   "source": [
    "Поскольку вероятность получить такие события, которые сформулированы в нулевой гипотезе, велика (выше уровня значимости), мы не можем отвергнуть нулевую гипотезу."
   ]
  },
  {
   "cell_type": "markdown",
   "metadata": {},
   "source": [
    "Поскольку выборки невелики, рассчитаем средние значения и оценим справедливость нулевой гипотезы эмпирическим путем."
   ]
  },
  {
   "cell_type": "markdown",
   "metadata": {},
   "source": [
    "Рассчитаем среднее арифметическое по пользовательским оценкам по жанру Action."
   ]
  },
  {
   "cell_type": "code",
   "execution_count": 120,
   "metadata": {},
   "outputs": [
    {
     "data": {
      "text/plain": [
       "7.0564833"
      ]
     },
     "execution_count": 120,
     "metadata": {},
     "output_type": "execute_result"
    }
   ],
   "source": [
    "# расчет среднего арифметического\n",
    "user_score_Action['user_score'].mean()"
   ]
  },
  {
   "cell_type": "markdown",
   "metadata": {},
   "source": [
    "Рассчитаем среднее арифметическое по пользовательским оценкам по жанру Sports."
   ]
  },
  {
   "cell_type": "code",
   "execution_count": 121,
   "metadata": {},
   "outputs": [
    {
     "data": {
      "text/plain": [
       "6.9563746"
      ]
     },
     "execution_count": 121,
     "metadata": {},
     "output_type": "execute_result"
    }
   ],
   "source": [
    "# расчет среднего арифметического\n",
    "user_score_Sports['user_score'].mean()"
   ]
  },
  {
   "cell_type": "markdown",
   "metadata": {},
   "source": [
    "Значения средних арифметческих действительно чрезвычайно близки."
   ]
  },
  {
   "cell_type": "markdown",
   "metadata": {},
   "source": [
    "<div style=\"border:solid blue 2px; padding: 20px\"> \n",
    "\n",
    "**Вывод**  \n",
    "\n",
    "Для проверки предположений о наличии различий между средними пользовательскими рейтингами платформ Xbox One и PC и средними пользовательскими рейтингами жанров Action и Sports были сформулированы две пары гипотез:\n",
    "    \n",
    "H₀: Средний пользовательский рейтинг платформы Xbox One равен среднему пользовательскому рейтингу платформы PC\n",
    "\n",
    "H₁: Средний пользовательский рейтинг платформы Xbox One не равен среднему пользовательскому рейтингу платформы PC\n",
    "\n",
    "H₀: Средний пользовательский рейтинг жанра Action равен среднему пользовательскому рейтингу жанра Sports\n",
    "\n",
    "H₁: Средний пользовательский рейтинг жанра Action не равен среднему пользовательскому рейтингу жанра Sports\n",
    "\n",
    "Для их проверки был применен метод scipy.stats.ttest_ind() при уровне значимости 0,05, в результате чего в первой паре нулевая гипотеза была отвергнута, а во второй паре гипотез нулевая гипотеза не была отвергнута.\n",
    "  \n",
    "</div>"
   ]
  },
  {
   "cell_type": "markdown",
   "metadata": {},
   "source": [
    "## Шаг 6. Общий вывод"
   ]
  },
  {
   "cell_type": "markdown",
   "metadata": {},
   "source": [
    "<div style=\"border:solid blue 2px; padding: 20px\"> \n",
    "\n",
    "**Общий вывод**  \n",
    "\n",
    "Целью данного исследования было проанализировать информацию о продажах видеоигр и на основе данных выявить определяющие успешность игры закономерности, которые позволят правильно спланировать рекламные кампании на следующий период.\n",
    "\n",
    "Для достижения цели были проделаны следующие работы:\n",
    "    \n",
    "Шаг 1. Проведен обзор данных\n",
    "    \n",
    "Открыта таблица с данными, определены необходимые исправления: \n",
    "1. переименование колонок с переводом всех букв в нижний регистр\n",
    "2. изменение типов данных в столбцах Year_of_Release, NA_sales, EU_sales, JP_sales, Other_sales, User_Score\n",
    "3. обработка пропусков в столбцах Name, Year_of_Release, Genre, Critic_Score, User_Score, Rating\n",
    "    \n",
    "Шаг 2. Осуществлена предобработка данных\n",
    "    \n",
    "1. замена названий столбцов с изменением регистра на нижний\n",
    "2. обработка пропусков в ряде колонок, в результате чего датафрейм сократился, и на анализ поступило 16567 строк\n",
    "3. изменение типов данных на int32 и float32\n",
    "4. проверка данных на наличие дубликатов\n",
    "5. добавление в датафрейм нового столбца с суммарными продажми по регионам\n",
    "    \n",
    "Шаг 3. Проведен исследовательский анализ данных\n",
    "    \n",
    "1. анализ изменения количества выходивших игр по годам с 1983 по 2016 (выявлено снижение количества игр за последние 10 лет с 1400 до 600-500 игр в год)\n",
    "2. определение наиболее популярные платформы и сроки существования платформ (в среднем, 10-11 лет суммарно)\n",
    "3. анализ данных наиболее актуального периода 2012-2016 годы\n",
    "4. определение платформы - лидеры по продажам в период 2012-2016 годы (3DS, PS4, XOne)\n",
    "5. анализ корреляции между оценками критиков и пользователей и объемами продаж (между продажами и оценками критиков коррекляция положительная, между продажами и оценками пользователей корреляция различается в зависимости от платформы от слабой отрицательной до слабой положительной)\n",
    "6. анализ популярности жанров - наибольшую прибыль приносят продажи игр жанров Shooter, Sports и Platform, меньше всего прибыли приносят продажи игр жанров Puzzle и Adventure\n",
    "    \n",
    "Шаг 4. Составлен портрет пользователей регионов\n",
    "    \n",
    "1. Пользователи в Северной Америке и Европе имеют схожие предпочтения: наиболее популярны платформы X360, PS4, PS3, наиболее популярны жанры Action и Shooter, наиболее продаваемы категории игр М - для взрослых и E - для всех\n",
    "2. Пользователи в Японии отличаются в своих предпочтениях: наиболее популярны платформы 3DS, PS3, PSV, наиболее популярны жанры Role-Playing и Action, наиболее продаваемы игры без категории ESRB\n",
    "    \n",
    "Шаг 5. Осуществлена проверка гипотез\n",
    "    \n",
    "Из двух сформированных пар гипотез нулевая гипотеза первой пары была отвергнута (Средний пользовательский рейтинг платформы Xbox One равен среднему пользовательскому рейтингу платформы PC), нулевая гипотеза второй пары не была отвергута (Средний пользовательский рейтинг жанра Action равен среднему пользовательскому рейтингу жанра Sports).\n",
    " \n",
    "*Таким образом, в следующем 2017 году необходимо активировать рекламу для игр для взрослых (категория М) на платформах X360, PS4, PS3 в жанрах Action и Shooter для Северной Америки и Европы и на платформе 3DS в жанре Role-Playing для Японии. При выборе игры следует ориентироваться на оценки критиков, а также учитывать общую тенденцию на снижение продаж игр для платформ.*\n",
    "  \n",
    "</div>"
   ]
  }
 ],
 "metadata": {
  "ExecuteTimeLog": [
   {
    "duration": 456,
    "start_time": "2022-04-27T22:39:15.199Z"
   },
   {
    "duration": 2,
    "start_time": "2022-04-27T22:39:15.657Z"
   },
   {
    "duration": 809,
    "start_time": "2022-04-27T22:39:15.661Z"
   },
   {
    "duration": 2,
    "start_time": "2022-04-27T22:39:16.472Z"
   },
   {
    "duration": 4,
    "start_time": "2022-04-27T22:39:16.476Z"
   },
   {
    "duration": 135,
    "start_time": "2022-04-27T22:39:16.482Z"
   },
   {
    "duration": 0,
    "start_time": "2022-04-27T22:39:16.622Z"
   },
   {
    "duration": 0,
    "start_time": "2022-04-27T22:39:16.623Z"
   },
   {
    "duration": 0,
    "start_time": "2022-04-27T22:39:16.624Z"
   },
   {
    "duration": 0,
    "start_time": "2022-04-27T22:39:16.626Z"
   },
   {
    "duration": 0,
    "start_time": "2022-04-27T22:39:16.627Z"
   },
   {
    "duration": 0,
    "start_time": "2022-04-27T22:39:16.628Z"
   },
   {
    "duration": 0,
    "start_time": "2022-04-27T22:39:16.629Z"
   },
   {
    "duration": 0,
    "start_time": "2022-04-27T22:39:16.630Z"
   },
   {
    "duration": 0,
    "start_time": "2022-04-27T22:39:16.631Z"
   },
   {
    "duration": 0,
    "start_time": "2022-04-27T22:39:16.632Z"
   },
   {
    "duration": 0,
    "start_time": "2022-04-27T22:39:16.633Z"
   },
   {
    "duration": 0,
    "start_time": "2022-04-27T22:39:16.634Z"
   },
   {
    "duration": 0,
    "start_time": "2022-04-27T22:39:16.635Z"
   },
   {
    "duration": 0,
    "start_time": "2022-04-27T22:39:16.636Z"
   },
   {
    "duration": 0,
    "start_time": "2022-04-27T22:39:16.637Z"
   },
   {
    "duration": 0,
    "start_time": "2022-04-27T22:39:16.638Z"
   },
   {
    "duration": 0,
    "start_time": "2022-04-27T22:39:16.639Z"
   },
   {
    "duration": 0,
    "start_time": "2022-04-27T22:39:16.640Z"
   },
   {
    "duration": 0,
    "start_time": "2022-04-27T22:39:16.641Z"
   },
   {
    "duration": 0,
    "start_time": "2022-04-27T22:39:16.642Z"
   },
   {
    "duration": 0,
    "start_time": "2022-04-27T22:39:16.643Z"
   },
   {
    "duration": 0,
    "start_time": "2022-04-27T22:39:16.644Z"
   },
   {
    "duration": 0,
    "start_time": "2022-04-27T22:39:16.645Z"
   },
   {
    "duration": 0,
    "start_time": "2022-04-27T22:39:16.646Z"
   },
   {
    "duration": 0,
    "start_time": "2022-04-27T22:39:16.647Z"
   },
   {
    "duration": 0,
    "start_time": "2022-04-27T22:39:16.648Z"
   },
   {
    "duration": 0,
    "start_time": "2022-04-27T22:39:16.648Z"
   },
   {
    "duration": 1,
    "start_time": "2022-04-27T22:39:16.649Z"
   },
   {
    "duration": 0,
    "start_time": "2022-04-27T22:39:16.650Z"
   },
   {
    "duration": 0,
    "start_time": "2022-04-27T22:39:16.651Z"
   },
   {
    "duration": 0,
    "start_time": "2022-04-27T22:39:16.652Z"
   },
   {
    "duration": 0,
    "start_time": "2022-04-27T22:39:16.653Z"
   },
   {
    "duration": 0,
    "start_time": "2022-04-27T22:39:16.654Z"
   },
   {
    "duration": 0,
    "start_time": "2022-04-27T22:39:16.655Z"
   },
   {
    "duration": 0,
    "start_time": "2022-04-27T22:39:16.655Z"
   },
   {
    "duration": 0,
    "start_time": "2022-04-27T22:39:16.656Z"
   },
   {
    "duration": 0,
    "start_time": "2022-04-27T22:39:16.656Z"
   },
   {
    "duration": 0,
    "start_time": "2022-04-27T22:39:16.657Z"
   },
   {
    "duration": 0,
    "start_time": "2022-04-27T22:39:16.657Z"
   },
   {
    "duration": 0,
    "start_time": "2022-04-27T22:39:16.707Z"
   },
   {
    "duration": 0,
    "start_time": "2022-04-27T22:39:16.709Z"
   },
   {
    "duration": 0,
    "start_time": "2022-04-27T22:39:16.709Z"
   },
   {
    "duration": 0,
    "start_time": "2022-04-27T22:39:16.710Z"
   },
   {
    "duration": 0,
    "start_time": "2022-04-27T22:39:16.711Z"
   },
   {
    "duration": 0,
    "start_time": "2022-04-27T22:39:16.712Z"
   },
   {
    "duration": 0,
    "start_time": "2022-04-27T22:39:16.713Z"
   },
   {
    "duration": 0,
    "start_time": "2022-04-27T22:39:16.714Z"
   },
   {
    "duration": 0,
    "start_time": "2022-04-27T22:39:16.715Z"
   },
   {
    "duration": 0,
    "start_time": "2022-04-27T22:39:16.716Z"
   },
   {
    "duration": 0,
    "start_time": "2022-04-27T22:39:16.717Z"
   },
   {
    "duration": 0,
    "start_time": "2022-04-27T22:39:16.718Z"
   },
   {
    "duration": 0,
    "start_time": "2022-04-27T22:39:16.719Z"
   },
   {
    "duration": 0,
    "start_time": "2022-04-27T22:39:16.720Z"
   },
   {
    "duration": 0,
    "start_time": "2022-04-27T22:39:16.720Z"
   },
   {
    "duration": 0,
    "start_time": "2022-04-27T22:39:16.721Z"
   },
   {
    "duration": 0,
    "start_time": "2022-04-27T22:39:16.722Z"
   },
   {
    "duration": 0,
    "start_time": "2022-04-27T22:39:16.723Z"
   },
   {
    "duration": 0,
    "start_time": "2022-04-27T22:39:16.724Z"
   },
   {
    "duration": 0,
    "start_time": "2022-04-27T22:39:16.725Z"
   },
   {
    "duration": 0,
    "start_time": "2022-04-27T22:39:16.726Z"
   },
   {
    "duration": 0,
    "start_time": "2022-04-27T22:39:16.727Z"
   },
   {
    "duration": 0,
    "start_time": "2022-04-27T22:39:16.728Z"
   },
   {
    "duration": 0,
    "start_time": "2022-04-27T22:39:16.729Z"
   },
   {
    "duration": 0,
    "start_time": "2022-04-27T22:39:16.730Z"
   },
   {
    "duration": 0,
    "start_time": "2022-04-27T22:39:16.731Z"
   },
   {
    "duration": 0,
    "start_time": "2022-04-27T22:39:16.732Z"
   },
   {
    "duration": 0,
    "start_time": "2022-04-27T22:39:16.733Z"
   },
   {
    "duration": 0,
    "start_time": "2022-04-27T22:39:16.734Z"
   },
   {
    "duration": 0,
    "start_time": "2022-04-27T22:39:16.735Z"
   },
   {
    "duration": 0,
    "start_time": "2022-04-27T22:39:16.736Z"
   },
   {
    "duration": 0,
    "start_time": "2022-04-27T22:39:16.737Z"
   },
   {
    "duration": 0,
    "start_time": "2022-04-27T22:39:16.738Z"
   },
   {
    "duration": 0,
    "start_time": "2022-04-27T22:39:16.739Z"
   },
   {
    "duration": 0,
    "start_time": "2022-04-27T22:39:16.740Z"
   },
   {
    "duration": 0,
    "start_time": "2022-04-27T22:39:16.741Z"
   },
   {
    "duration": 0,
    "start_time": "2022-04-27T22:39:16.742Z"
   },
   {
    "duration": 0,
    "start_time": "2022-04-27T22:39:16.808Z"
   },
   {
    "duration": 0,
    "start_time": "2022-04-27T22:39:16.809Z"
   },
   {
    "duration": 0,
    "start_time": "2022-04-27T22:39:16.810Z"
   },
   {
    "duration": 0,
    "start_time": "2022-04-27T22:39:16.811Z"
   },
   {
    "duration": 0,
    "start_time": "2022-04-27T22:39:16.812Z"
   },
   {
    "duration": 0,
    "start_time": "2022-04-27T22:39:16.814Z"
   },
   {
    "duration": 0,
    "start_time": "2022-04-27T22:39:16.815Z"
   },
   {
    "duration": 0,
    "start_time": "2022-04-27T22:39:16.816Z"
   },
   {
    "duration": 0,
    "start_time": "2022-04-27T22:39:16.817Z"
   },
   {
    "duration": 0,
    "start_time": "2022-04-27T22:39:16.818Z"
   },
   {
    "duration": 0,
    "start_time": "2022-04-27T22:39:16.819Z"
   },
   {
    "duration": 0,
    "start_time": "2022-04-27T22:39:16.820Z"
   },
   {
    "duration": 0,
    "start_time": "2022-04-27T22:39:16.821Z"
   },
   {
    "duration": 0,
    "start_time": "2022-04-27T22:39:16.822Z"
   },
   {
    "duration": 0,
    "start_time": "2022-04-27T22:39:16.823Z"
   },
   {
    "duration": 0,
    "start_time": "2022-04-27T22:39:16.824Z"
   },
   {
    "duration": 0,
    "start_time": "2022-04-27T22:39:16.824Z"
   },
   {
    "duration": 0,
    "start_time": "2022-04-27T22:39:16.825Z"
   },
   {
    "duration": 0,
    "start_time": "2022-04-27T22:39:16.827Z"
   },
   {
    "duration": 0,
    "start_time": "2022-04-27T22:39:16.828Z"
   },
   {
    "duration": 0,
    "start_time": "2022-04-27T22:39:16.829Z"
   },
   {
    "duration": 0,
    "start_time": "2022-04-27T22:39:16.829Z"
   },
   {
    "duration": 0,
    "start_time": "2022-04-27T22:39:16.830Z"
   },
   {
    "duration": 0,
    "start_time": "2022-04-27T22:39:16.831Z"
   },
   {
    "duration": 0,
    "start_time": "2022-04-27T22:39:16.832Z"
   },
   {
    "duration": 0,
    "start_time": "2022-04-27T22:39:16.833Z"
   },
   {
    "duration": 0,
    "start_time": "2022-04-27T22:39:16.834Z"
   },
   {
    "duration": 0,
    "start_time": "2022-04-27T22:39:16.835Z"
   },
   {
    "duration": 0,
    "start_time": "2022-04-27T22:39:16.836Z"
   },
   {
    "duration": 0,
    "start_time": "2022-04-27T22:39:16.837Z"
   },
   {
    "duration": 0,
    "start_time": "2022-04-27T22:39:16.838Z"
   },
   {
    "duration": 0,
    "start_time": "2022-04-27T22:39:16.839Z"
   },
   {
    "duration": 0,
    "start_time": "2022-04-27T22:39:16.840Z"
   },
   {
    "duration": 0,
    "start_time": "2022-04-27T22:39:16.841Z"
   },
   {
    "duration": 0,
    "start_time": "2022-04-27T22:39:16.842Z"
   },
   {
    "duration": 0,
    "start_time": "2022-04-27T22:39:16.843Z"
   },
   {
    "duration": 0,
    "start_time": "2022-04-27T22:39:16.844Z"
   },
   {
    "duration": 0,
    "start_time": "2022-04-27T22:39:16.845Z"
   },
   {
    "duration": 0,
    "start_time": "2022-04-27T22:39:16.907Z"
   },
   {
    "duration": 0,
    "start_time": "2022-04-27T22:39:16.908Z"
   },
   {
    "duration": 0,
    "start_time": "2022-04-27T22:39:16.911Z"
   },
   {
    "duration": 0,
    "start_time": "2022-04-27T22:39:16.912Z"
   },
   {
    "duration": 60,
    "start_time": "2022-04-27T22:41:58.083Z"
   },
   {
    "duration": 424,
    "start_time": "2022-04-27T22:42:21.113Z"
   },
   {
    "duration": 3,
    "start_time": "2022-04-27T22:42:21.539Z"
   },
   {
    "duration": 844,
    "start_time": "2022-04-27T22:42:21.543Z"
   },
   {
    "duration": 2,
    "start_time": "2022-04-27T22:42:22.389Z"
   },
   {
    "duration": 15,
    "start_time": "2022-04-27T22:42:22.393Z"
   },
   {
    "duration": 59,
    "start_time": "2022-04-27T22:42:22.409Z"
   },
   {
    "duration": 14,
    "start_time": "2022-04-27T22:42:22.469Z"
   },
   {
    "duration": 23,
    "start_time": "2022-04-27T22:42:22.485Z"
   },
   {
    "duration": 3,
    "start_time": "2022-04-27T22:42:22.509Z"
   },
   {
    "duration": 6,
    "start_time": "2022-04-27T22:42:22.514Z"
   },
   {
    "duration": 14,
    "start_time": "2022-04-27T22:42:22.522Z"
   },
   {
    "duration": 16,
    "start_time": "2022-04-27T22:42:22.537Z"
   },
   {
    "duration": 10,
    "start_time": "2022-04-27T22:42:22.555Z"
   },
   {
    "duration": 42,
    "start_time": "2022-04-27T22:42:22.568Z"
   },
   {
    "duration": 14,
    "start_time": "2022-04-27T22:42:22.612Z"
   },
   {
    "duration": 9,
    "start_time": "2022-04-27T22:42:22.628Z"
   },
   {
    "duration": 21,
    "start_time": "2022-04-27T22:42:22.638Z"
   },
   {
    "duration": 59,
    "start_time": "2022-04-27T22:42:22.661Z"
   },
   {
    "duration": 16,
    "start_time": "2022-04-27T22:42:22.722Z"
   },
   {
    "duration": 16,
    "start_time": "2022-04-27T22:42:22.740Z"
   },
   {
    "duration": 15,
    "start_time": "2022-04-27T22:42:22.758Z"
   },
   {
    "duration": 50,
    "start_time": "2022-04-27T22:42:22.775Z"
   },
   {
    "duration": 18,
    "start_time": "2022-04-27T22:42:22.827Z"
   },
   {
    "duration": 9,
    "start_time": "2022-04-27T22:42:22.847Z"
   },
   {
    "duration": 17,
    "start_time": "2022-04-27T22:42:22.857Z"
   },
   {
    "duration": 36,
    "start_time": "2022-04-27T22:42:22.876Z"
   },
   {
    "duration": 14,
    "start_time": "2022-04-27T22:42:22.914Z"
   },
   {
    "duration": 5,
    "start_time": "2022-04-27T22:42:22.929Z"
   },
   {
    "duration": 53,
    "start_time": "2022-04-27T22:42:22.936Z"
   },
   {
    "duration": 15,
    "start_time": "2022-04-27T22:42:23.007Z"
   },
   {
    "duration": 20,
    "start_time": "2022-04-27T22:42:23.024Z"
   },
   {
    "duration": 19,
    "start_time": "2022-04-27T22:42:23.046Z"
   },
   {
    "duration": 10,
    "start_time": "2022-04-27T22:42:23.066Z"
   },
   {
    "duration": 15,
    "start_time": "2022-04-27T22:42:23.108Z"
   },
   {
    "duration": 9,
    "start_time": "2022-04-27T22:42:23.125Z"
   },
   {
    "duration": 20,
    "start_time": "2022-04-27T22:42:23.135Z"
   },
   {
    "duration": 10,
    "start_time": "2022-04-27T22:42:23.157Z"
   },
   {
    "duration": 22,
    "start_time": "2022-04-27T22:42:23.169Z"
   },
   {
    "duration": 33,
    "start_time": "2022-04-27T22:42:23.193Z"
   },
   {
    "duration": 25,
    "start_time": "2022-04-27T22:42:23.228Z"
   },
   {
    "duration": 18,
    "start_time": "2022-04-27T22:42:23.260Z"
   },
   {
    "duration": 42,
    "start_time": "2022-04-27T22:42:23.279Z"
   },
   {
    "duration": 5,
    "start_time": "2022-04-27T22:42:23.323Z"
   },
   {
    "duration": 21,
    "start_time": "2022-04-27T22:42:23.330Z"
   },
   {
    "duration": 9,
    "start_time": "2022-04-27T22:42:23.352Z"
   },
   {
    "duration": 13,
    "start_time": "2022-04-27T22:42:23.362Z"
   },
   {
    "duration": 8,
    "start_time": "2022-04-27T22:42:23.376Z"
   },
   {
    "duration": 37,
    "start_time": "2022-04-27T22:42:23.385Z"
   },
   {
    "duration": 13,
    "start_time": "2022-04-27T22:42:23.423Z"
   },
   {
    "duration": 19,
    "start_time": "2022-04-27T22:42:23.438Z"
   },
   {
    "duration": 5,
    "start_time": "2022-04-27T22:42:23.459Z"
   },
   {
    "duration": 6,
    "start_time": "2022-04-27T22:42:23.465Z"
   },
   {
    "duration": 45,
    "start_time": "2022-04-27T22:42:23.472Z"
   },
   {
    "duration": 5,
    "start_time": "2022-04-27T22:42:23.518Z"
   },
   {
    "duration": 23,
    "start_time": "2022-04-27T22:42:23.525Z"
   },
   {
    "duration": 16,
    "start_time": "2022-04-27T22:42:23.550Z"
   },
   {
    "duration": 41,
    "start_time": "2022-04-27T22:42:23.568Z"
   },
   {
    "duration": 30,
    "start_time": "2022-04-27T22:42:23.611Z"
   },
   {
    "duration": 17,
    "start_time": "2022-04-27T22:42:23.642Z"
   },
   {
    "duration": 9,
    "start_time": "2022-04-27T22:42:23.660Z"
   },
   {
    "duration": 7,
    "start_time": "2022-04-27T22:42:23.671Z"
   },
   {
    "duration": 28,
    "start_time": "2022-04-27T22:42:23.679Z"
   },
   {
    "duration": 4,
    "start_time": "2022-04-27T22:42:23.709Z"
   },
   {
    "duration": 13,
    "start_time": "2022-04-27T22:42:23.714Z"
   },
   {
    "duration": 21,
    "start_time": "2022-04-27T22:42:23.729Z"
   },
   {
    "duration": 13,
    "start_time": "2022-04-27T22:42:23.752Z"
   },
   {
    "duration": 16,
    "start_time": "2022-04-27T22:42:23.767Z"
   },
   {
    "duration": 33,
    "start_time": "2022-04-27T22:42:23.785Z"
   },
   {
    "duration": 7,
    "start_time": "2022-04-27T22:42:23.820Z"
   },
   {
    "duration": 8,
    "start_time": "2022-04-27T22:42:23.829Z"
   },
   {
    "duration": 6,
    "start_time": "2022-04-27T22:42:23.839Z"
   },
   {
    "duration": 18,
    "start_time": "2022-04-27T22:42:23.847Z"
   },
   {
    "duration": 9,
    "start_time": "2022-04-27T22:42:23.867Z"
   },
   {
    "duration": 71,
    "start_time": "2022-04-27T22:42:23.907Z"
   },
   {
    "duration": 32,
    "start_time": "2022-04-27T22:42:23.980Z"
   },
   {
    "duration": 3,
    "start_time": "2022-04-27T22:42:24.014Z"
   },
   {
    "duration": 30,
    "start_time": "2022-04-27T22:42:24.019Z"
   },
   {
    "duration": 58,
    "start_time": "2022-04-27T22:42:24.050Z"
   },
   {
    "duration": 4,
    "start_time": "2022-04-27T22:42:24.109Z"
   },
   {
    "duration": 1300,
    "start_time": "2022-04-27T22:42:24.114Z"
   },
   {
    "duration": 22,
    "start_time": "2022-04-27T22:42:25.416Z"
   },
   {
    "duration": 22,
    "start_time": "2022-04-27T22:42:25.440Z"
   },
   {
    "duration": 16,
    "start_time": "2022-04-27T22:42:25.464Z"
   },
   {
    "duration": 18,
    "start_time": "2022-04-27T22:42:25.507Z"
   },
   {
    "duration": 106,
    "start_time": "2022-04-27T22:42:25.526Z"
   },
   {
    "duration": 110,
    "start_time": "2022-04-27T22:42:25.633Z"
   },
   {
    "duration": 195,
    "start_time": "2022-04-27T22:42:25.745Z"
   },
   {
    "duration": 109,
    "start_time": "2022-04-27T22:42:25.942Z"
   },
   {
    "duration": 99,
    "start_time": "2022-04-27T22:42:26.053Z"
   },
   {
    "duration": 113,
    "start_time": "2022-04-27T22:42:26.153Z"
   },
   {
    "duration": 110,
    "start_time": "2022-04-27T22:42:26.268Z"
   },
   {
    "duration": 94,
    "start_time": "2022-04-27T22:42:26.380Z"
   },
   {
    "duration": 114,
    "start_time": "2022-04-27T22:42:26.476Z"
   },
   {
    "duration": 103,
    "start_time": "2022-04-27T22:42:26.592Z"
   },
   {
    "duration": 110,
    "start_time": "2022-04-27T22:42:26.697Z"
   },
   {
    "duration": 25,
    "start_time": "2022-04-27T22:42:26.809Z"
   },
   {
    "duration": 12,
    "start_time": "2022-04-27T22:42:26.836Z"
   },
   {
    "duration": 10,
    "start_time": "2022-04-27T22:42:26.850Z"
   },
   {
    "duration": 1740,
    "start_time": "2022-04-27T22:42:26.862Z"
   },
   {
    "duration": 25,
    "start_time": "2022-04-27T22:42:28.604Z"
   },
   {
    "duration": 10,
    "start_time": "2022-04-27T22:42:28.631Z"
   },
   {
    "duration": 12,
    "start_time": "2022-04-27T22:42:28.642Z"
   },
   {
    "duration": 1587,
    "start_time": "2022-04-27T22:42:28.655Z"
   },
   {
    "duration": 24,
    "start_time": "2022-04-27T22:42:30.243Z"
   },
   {
    "duration": 18,
    "start_time": "2022-04-27T22:42:30.268Z"
   },
   {
    "duration": 20,
    "start_time": "2022-04-27T22:42:30.287Z"
   },
   {
    "duration": 7,
    "start_time": "2022-04-27T22:42:30.309Z"
   },
   {
    "duration": 19,
    "start_time": "2022-04-27T22:42:30.318Z"
   },
   {
    "duration": 9,
    "start_time": "2022-04-27T22:42:30.339Z"
   },
   {
    "duration": 18,
    "start_time": "2022-04-27T22:42:30.349Z"
   },
   {
    "duration": 9,
    "start_time": "2022-04-27T22:42:30.369Z"
   },
   {
    "duration": 117,
    "start_time": "2022-04-27T22:42:30.379Z"
   },
   {
    "duration": 13,
    "start_time": "2022-04-27T22:42:30.498Z"
   },
   {
    "duration": 22,
    "start_time": "2022-04-27T22:42:30.513Z"
   },
   {
    "duration": 34,
    "start_time": "2022-04-27T22:42:30.537Z"
   },
   {
    "duration": 24,
    "start_time": "2022-04-27T22:42:30.573Z"
   },
   {
    "duration": 5,
    "start_time": "2022-04-27T22:42:30.608Z"
   },
   {
    "duration": 9,
    "start_time": "2022-04-27T22:42:30.614Z"
   },
   {
    "duration": 11,
    "start_time": "2022-04-27T22:42:30.625Z"
   },
   {
    "duration": 38,
    "start_time": "2022-04-27T22:42:30.637Z"
   },
   {
    "duration": 34,
    "start_time": "2022-04-27T22:42:30.677Z"
   },
   {
    "duration": 6,
    "start_time": "2022-04-27T22:42:30.717Z"
   },
   {
    "duration": 29,
    "start_time": "2022-04-27T22:42:30.725Z"
   },
   {
    "duration": 18,
    "start_time": "2022-04-27T22:42:30.755Z"
   },
   {
    "duration": 7,
    "start_time": "2022-04-27T23:30:10.377Z"
   },
   {
    "duration": 14,
    "start_time": "2022-04-27T23:31:02.717Z"
   },
   {
    "duration": 19,
    "start_time": "2022-04-27T23:49:20.521Z"
   },
   {
    "duration": 2373,
    "start_time": "2022-05-01T18:44:57.402Z"
   },
   {
    "duration": 118,
    "start_time": "2022-05-01T18:44:59.779Z"
   },
   {
    "duration": 23,
    "start_time": "2022-05-01T18:44:59.900Z"
   },
   {
    "duration": 6,
    "start_time": "2022-05-01T18:44:59.927Z"
   },
   {
    "duration": 6,
    "start_time": "2022-05-01T18:44:59.936Z"
   },
   {
    "duration": 40,
    "start_time": "2022-05-01T18:44:59.945Z"
   },
   {
    "duration": 34,
    "start_time": "2022-05-01T18:44:59.989Z"
   },
   {
    "duration": 19,
    "start_time": "2022-05-01T18:45:00.026Z"
   },
   {
    "duration": 15,
    "start_time": "2022-05-01T18:45:00.048Z"
   },
   {
    "duration": 16,
    "start_time": "2022-05-01T18:45:00.083Z"
   },
   {
    "duration": 23,
    "start_time": "2022-05-01T18:45:00.103Z"
   },
   {
    "duration": 13,
    "start_time": "2022-05-01T18:45:00.129Z"
   },
   {
    "duration": 67,
    "start_time": "2022-05-01T18:45:00.145Z"
   },
   {
    "duration": 30,
    "start_time": "2022-05-01T18:45:00.214Z"
   },
   {
    "duration": 58,
    "start_time": "2022-05-01T18:45:00.247Z"
   },
   {
    "duration": 27,
    "start_time": "2022-05-01T18:45:00.310Z"
   },
   {
    "duration": 28,
    "start_time": "2022-05-01T18:45:00.339Z"
   },
   {
    "duration": 44,
    "start_time": "2022-05-01T18:45:05.402Z"
   },
   {
    "duration": 161,
    "start_time": "2022-05-01T18:46:24.647Z"
   },
   {
    "duration": 121,
    "start_time": "2022-05-01T18:46:37.270Z"
   },
   {
    "duration": 150,
    "start_time": "2022-05-01T18:48:04.206Z"
   },
   {
    "duration": 131,
    "start_time": "2022-05-01T18:48:22.537Z"
   },
   {
    "duration": 144,
    "start_time": "2022-05-01T18:52:17.148Z"
   },
   {
    "duration": 88,
    "start_time": "2022-05-01T18:53:17.041Z"
   },
   {
    "duration": 94,
    "start_time": "2022-05-01T18:53:33.804Z"
   },
   {
    "duration": 154,
    "start_time": "2022-05-01T18:53:44.884Z"
   },
   {
    "duration": 106,
    "start_time": "2022-05-01T18:53:57.658Z"
   },
   {
    "duration": 96,
    "start_time": "2022-05-01T18:54:10.203Z"
   },
   {
    "duration": 113,
    "start_time": "2022-05-01T18:54:36.042Z"
   },
   {
    "duration": 83,
    "start_time": "2022-05-01T18:57:01.536Z"
   },
   {
    "duration": 126,
    "start_time": "2022-05-01T18:57:20.842Z"
   },
   {
    "duration": 114,
    "start_time": "2022-05-01T18:57:27.224Z"
   },
   {
    "duration": 77,
    "start_time": "2022-05-01T18:57:41.415Z"
   },
   {
    "duration": 115,
    "start_time": "2022-05-01T18:57:49.520Z"
   },
   {
    "duration": 115,
    "start_time": "2022-05-01T18:58:02.393Z"
   },
   {
    "duration": 78,
    "start_time": "2022-05-01T18:58:08.015Z"
   },
   {
    "duration": 84,
    "start_time": "2022-05-01T18:58:20.973Z"
   },
   {
    "duration": 954,
    "start_time": "2022-05-01T19:01:57.824Z"
   },
   {
    "duration": 636,
    "start_time": "2022-05-01T19:02:37.326Z"
   },
   {
    "duration": 659,
    "start_time": "2022-05-01T19:03:56.914Z"
   },
   {
    "duration": 86,
    "start_time": "2022-05-01T19:04:13.761Z"
   },
   {
    "duration": 92,
    "start_time": "2022-05-01T19:04:32.449Z"
   },
   {
    "duration": 90,
    "start_time": "2022-05-01T19:04:39.519Z"
   },
   {
    "duration": 67,
    "start_time": "2022-05-01T19:05:48.561Z"
   },
   {
    "duration": 2389,
    "start_time": "2022-05-01T19:06:23.849Z"
   },
   {
    "duration": 4,
    "start_time": "2022-05-01T19:06:40.493Z"
   },
   {
    "duration": 97,
    "start_time": "2022-05-01T19:06:40.504Z"
   },
   {
    "duration": 27,
    "start_time": "2022-05-01T19:06:40.604Z"
   },
   {
    "duration": 8,
    "start_time": "2022-05-01T19:06:40.634Z"
   },
   {
    "duration": 38,
    "start_time": "2022-05-01T19:06:40.646Z"
   },
   {
    "duration": 28,
    "start_time": "2022-05-01T19:06:40.687Z"
   },
   {
    "duration": 17,
    "start_time": "2022-05-01T19:06:40.718Z"
   },
   {
    "duration": 54,
    "start_time": "2022-05-01T19:06:40.737Z"
   },
   {
    "duration": 21,
    "start_time": "2022-05-01T19:06:40.794Z"
   },
   {
    "duration": 13,
    "start_time": "2022-05-01T19:06:40.818Z"
   },
   {
    "duration": 59,
    "start_time": "2022-05-01T19:06:40.836Z"
   },
   {
    "duration": 17,
    "start_time": "2022-05-01T19:06:40.898Z"
   },
   {
    "duration": 40,
    "start_time": "2022-05-01T19:06:40.917Z"
   },
   {
    "duration": 57,
    "start_time": "2022-05-01T19:06:40.987Z"
   },
   {
    "duration": 34,
    "start_time": "2022-05-01T19:06:41.046Z"
   },
   {
    "duration": 31,
    "start_time": "2022-05-01T19:06:41.090Z"
   },
   {
    "duration": 22,
    "start_time": "2022-05-01T19:06:41.124Z"
   },
   {
    "duration": 2650,
    "start_time": "2022-05-01T19:06:57.343Z"
   },
   {
    "duration": 2162,
    "start_time": "2022-05-01T19:07:33.046Z"
   },
   {
    "duration": 1968,
    "start_time": "2022-05-01T19:08:04.743Z"
   },
   {
    "duration": 107,
    "start_time": "2022-05-01T19:08:06.715Z"
   },
   {
    "duration": 22,
    "start_time": "2022-05-01T19:08:06.824Z"
   },
   {
    "duration": 43,
    "start_time": "2022-05-01T19:08:06.850Z"
   },
   {
    "duration": 7,
    "start_time": "2022-05-01T19:08:06.897Z"
   },
   {
    "duration": 11,
    "start_time": "2022-05-01T19:08:06.908Z"
   },
   {
    "duration": 27,
    "start_time": "2022-05-01T19:08:06.921Z"
   },
   {
    "duration": 60,
    "start_time": "2022-05-01T19:08:06.951Z"
   },
   {
    "duration": 16,
    "start_time": "2022-05-01T19:08:07.014Z"
   },
   {
    "duration": 19,
    "start_time": "2022-05-01T19:08:07.037Z"
   },
   {
    "duration": 28,
    "start_time": "2022-05-01T19:08:07.085Z"
   },
   {
    "duration": 22,
    "start_time": "2022-05-01T19:08:07.116Z"
   },
   {
    "duration": 55,
    "start_time": "2022-05-01T19:08:07.141Z"
   },
   {
    "duration": 56,
    "start_time": "2022-05-01T19:08:07.199Z"
   },
   {
    "duration": 33,
    "start_time": "2022-05-01T19:08:07.258Z"
   },
   {
    "duration": 46,
    "start_time": "2022-05-01T19:08:07.294Z"
   },
   {
    "duration": 44,
    "start_time": "2022-05-01T19:08:07.343Z"
   },
   {
    "duration": 2243,
    "start_time": "2022-05-01T19:08:07.389Z"
   },
   {
    "duration": 0,
    "start_time": "2022-05-01T19:08:09.644Z"
   },
   {
    "duration": 0,
    "start_time": "2022-05-01T19:08:09.646Z"
   },
   {
    "duration": 0,
    "start_time": "2022-05-01T19:08:09.648Z"
   },
   {
    "duration": 0,
    "start_time": "2022-05-01T19:08:09.650Z"
   },
   {
    "duration": 0,
    "start_time": "2022-05-01T19:08:09.652Z"
   },
   {
    "duration": 0,
    "start_time": "2022-05-01T19:08:09.654Z"
   },
   {
    "duration": 0,
    "start_time": "2022-05-01T19:08:09.656Z"
   },
   {
    "duration": 0,
    "start_time": "2022-05-01T19:08:09.658Z"
   },
   {
    "duration": 0,
    "start_time": "2022-05-01T19:08:09.661Z"
   },
   {
    "duration": 0,
    "start_time": "2022-05-01T19:08:09.662Z"
   },
   {
    "duration": 0,
    "start_time": "2022-05-01T19:08:09.664Z"
   },
   {
    "duration": 0,
    "start_time": "2022-05-01T19:08:09.667Z"
   },
   {
    "duration": 0,
    "start_time": "2022-05-01T19:08:09.668Z"
   },
   {
    "duration": 0,
    "start_time": "2022-05-01T19:08:09.670Z"
   },
   {
    "duration": 0,
    "start_time": "2022-05-01T19:08:09.673Z"
   },
   {
    "duration": 0,
    "start_time": "2022-05-01T19:08:09.674Z"
   },
   {
    "duration": 0,
    "start_time": "2022-05-01T19:08:09.677Z"
   },
   {
    "duration": 0,
    "start_time": "2022-05-01T19:08:09.692Z"
   },
   {
    "duration": 0,
    "start_time": "2022-05-01T19:08:09.694Z"
   },
   {
    "duration": 0,
    "start_time": "2022-05-01T19:08:09.700Z"
   },
   {
    "duration": 0,
    "start_time": "2022-05-01T19:08:09.701Z"
   },
   {
    "duration": 0,
    "start_time": "2022-05-01T19:08:09.703Z"
   },
   {
    "duration": 0,
    "start_time": "2022-05-01T19:08:09.705Z"
   },
   {
    "duration": 1,
    "start_time": "2022-05-01T19:08:09.707Z"
   },
   {
    "duration": 0,
    "start_time": "2022-05-01T19:08:09.709Z"
   },
   {
    "duration": 0,
    "start_time": "2022-05-01T19:08:09.711Z"
   },
   {
    "duration": 0,
    "start_time": "2022-05-01T19:08:09.713Z"
   },
   {
    "duration": 0,
    "start_time": "2022-05-01T19:08:09.715Z"
   },
   {
    "duration": 0,
    "start_time": "2022-05-01T19:08:09.717Z"
   },
   {
    "duration": 0,
    "start_time": "2022-05-01T19:08:09.719Z"
   },
   {
    "duration": 0,
    "start_time": "2022-05-01T19:08:09.721Z"
   },
   {
    "duration": 0,
    "start_time": "2022-05-01T19:08:09.723Z"
   },
   {
    "duration": 0,
    "start_time": "2022-05-01T19:08:09.725Z"
   },
   {
    "duration": 0,
    "start_time": "2022-05-01T19:08:09.727Z"
   },
   {
    "duration": 0,
    "start_time": "2022-05-01T19:08:09.729Z"
   },
   {
    "duration": 0,
    "start_time": "2022-05-01T19:08:09.782Z"
   },
   {
    "duration": 0,
    "start_time": "2022-05-01T19:08:09.784Z"
   },
   {
    "duration": 0,
    "start_time": "2022-05-01T19:08:09.786Z"
   },
   {
    "duration": 0,
    "start_time": "2022-05-01T19:08:09.788Z"
   },
   {
    "duration": 0,
    "start_time": "2022-05-01T19:08:09.790Z"
   },
   {
    "duration": 0,
    "start_time": "2022-05-01T19:08:09.793Z"
   },
   {
    "duration": 0,
    "start_time": "2022-05-01T19:08:09.797Z"
   },
   {
    "duration": 0,
    "start_time": "2022-05-01T19:08:09.799Z"
   },
   {
    "duration": 0,
    "start_time": "2022-05-01T19:08:09.801Z"
   },
   {
    "duration": 0,
    "start_time": "2022-05-01T19:08:09.802Z"
   },
   {
    "duration": 0,
    "start_time": "2022-05-01T19:08:09.805Z"
   },
   {
    "duration": 0,
    "start_time": "2022-05-01T19:08:09.809Z"
   },
   {
    "duration": 0,
    "start_time": "2022-05-01T19:08:09.811Z"
   },
   {
    "duration": 0,
    "start_time": "2022-05-01T19:08:09.812Z"
   },
   {
    "duration": 0,
    "start_time": "2022-05-01T19:08:09.822Z"
   },
   {
    "duration": 0,
    "start_time": "2022-05-01T19:08:09.825Z"
   },
   {
    "duration": 0,
    "start_time": "2022-05-01T19:08:09.882Z"
   },
   {
    "duration": 0,
    "start_time": "2022-05-01T19:08:09.885Z"
   },
   {
    "duration": 0,
    "start_time": "2022-05-01T19:08:09.889Z"
   },
   {
    "duration": 0,
    "start_time": "2022-05-01T19:08:09.890Z"
   },
   {
    "duration": 0,
    "start_time": "2022-05-01T19:08:09.892Z"
   },
   {
    "duration": 0,
    "start_time": "2022-05-01T19:08:09.895Z"
   },
   {
    "duration": 0,
    "start_time": "2022-05-01T19:08:09.900Z"
   },
   {
    "duration": 0,
    "start_time": "2022-05-01T19:08:09.904Z"
   },
   {
    "duration": 1,
    "start_time": "2022-05-01T19:08:09.905Z"
   },
   {
    "duration": 0,
    "start_time": "2022-05-01T19:08:09.912Z"
   },
   {
    "duration": 0,
    "start_time": "2022-05-01T19:08:09.913Z"
   },
   {
    "duration": 0,
    "start_time": "2022-05-01T19:08:09.916Z"
   },
   {
    "duration": 0,
    "start_time": "2022-05-01T19:08:09.918Z"
   },
   {
    "duration": 0,
    "start_time": "2022-05-01T19:08:09.920Z"
   },
   {
    "duration": 0,
    "start_time": "2022-05-01T19:08:09.922Z"
   },
   {
    "duration": 0,
    "start_time": "2022-05-01T19:08:09.925Z"
   },
   {
    "duration": 0,
    "start_time": "2022-05-01T19:08:09.927Z"
   },
   {
    "duration": 0,
    "start_time": "2022-05-01T19:08:09.929Z"
   },
   {
    "duration": 0,
    "start_time": "2022-05-01T19:08:09.982Z"
   },
   {
    "duration": 0,
    "start_time": "2022-05-01T19:08:09.990Z"
   },
   {
    "duration": 0,
    "start_time": "2022-05-01T19:08:09.992Z"
   },
   {
    "duration": 0,
    "start_time": "2022-05-01T19:08:09.993Z"
   },
   {
    "duration": 0,
    "start_time": "2022-05-01T19:08:09.997Z"
   },
   {
    "duration": 0,
    "start_time": "2022-05-01T19:08:09.999Z"
   },
   {
    "duration": 0,
    "start_time": "2022-05-01T19:08:10.000Z"
   },
   {
    "duration": 1,
    "start_time": "2022-05-01T19:08:10.001Z"
   },
   {
    "duration": 0,
    "start_time": "2022-05-01T19:08:10.004Z"
   },
   {
    "duration": 0,
    "start_time": "2022-05-01T19:08:10.005Z"
   },
   {
    "duration": 0,
    "start_time": "2022-05-01T19:08:10.007Z"
   },
   {
    "duration": 0,
    "start_time": "2022-05-01T19:08:10.009Z"
   },
   {
    "duration": 0,
    "start_time": "2022-05-01T19:08:10.010Z"
   },
   {
    "duration": 0,
    "start_time": "2022-05-01T19:08:10.012Z"
   },
   {
    "duration": 0,
    "start_time": "2022-05-01T19:08:10.014Z"
   },
   {
    "duration": 0,
    "start_time": "2022-05-01T19:08:10.016Z"
   },
   {
    "duration": 0,
    "start_time": "2022-05-01T19:08:10.018Z"
   },
   {
    "duration": 0,
    "start_time": "2022-05-01T19:08:10.020Z"
   },
   {
    "duration": 0,
    "start_time": "2022-05-01T19:08:10.023Z"
   },
   {
    "duration": 0,
    "start_time": "2022-05-01T19:08:10.025Z"
   },
   {
    "duration": 0,
    "start_time": "2022-05-01T19:08:10.027Z"
   },
   {
    "duration": 0,
    "start_time": "2022-05-01T19:08:10.091Z"
   },
   {
    "duration": 0,
    "start_time": "2022-05-01T19:08:10.093Z"
   },
   {
    "duration": 0,
    "start_time": "2022-05-01T19:08:10.094Z"
   },
   {
    "duration": 0,
    "start_time": "2022-05-01T19:08:10.096Z"
   },
   {
    "duration": 0,
    "start_time": "2022-05-01T19:08:10.101Z"
   },
   {
    "duration": 0,
    "start_time": "2022-05-01T19:08:10.102Z"
   },
   {
    "duration": 0,
    "start_time": "2022-05-01T19:08:10.105Z"
   },
   {
    "duration": 0,
    "start_time": "2022-05-01T19:08:10.106Z"
   },
   {
    "duration": 0,
    "start_time": "2022-05-01T19:08:10.111Z"
   },
   {
    "duration": 0,
    "start_time": "2022-05-01T19:08:10.114Z"
   },
   {
    "duration": 0,
    "start_time": "2022-05-01T19:08:10.117Z"
   },
   {
    "duration": 0,
    "start_time": "2022-05-01T19:08:10.119Z"
   },
   {
    "duration": 0,
    "start_time": "2022-05-01T19:08:10.122Z"
   },
   {
    "duration": 0,
    "start_time": "2022-05-01T19:08:10.124Z"
   },
   {
    "duration": 86,
    "start_time": "2022-05-01T19:09:35.281Z"
   },
   {
    "duration": 77,
    "start_time": "2022-05-01T19:09:54.067Z"
   },
   {
    "duration": 82,
    "start_time": "2022-05-01T19:10:30.868Z"
   },
   {
    "duration": 65,
    "start_time": "2022-05-01T19:10:36.193Z"
   },
   {
    "duration": 87,
    "start_time": "2022-05-01T19:12:22.652Z"
   },
   {
    "duration": 2397,
    "start_time": "2022-05-01T19:12:34.356Z"
   },
   {
    "duration": 2258,
    "start_time": "2022-05-01T19:12:50.159Z"
   },
   {
    "duration": 787,
    "start_time": "2022-05-01T19:13:09.079Z"
   },
   {
    "duration": 838,
    "start_time": "2022-05-01T19:14:01.613Z"
   },
   {
    "duration": 1173,
    "start_time": "2022-05-01T19:14:49.271Z"
   },
   {
    "duration": 88,
    "start_time": "2022-05-01T19:15:26.372Z"
   },
   {
    "duration": 2425,
    "start_time": "2022-05-01T19:15:45.205Z"
   },
   {
    "duration": 4189,
    "start_time": "2022-05-01T19:16:30.168Z"
   },
   {
    "duration": 94,
    "start_time": "2022-05-01T19:16:57.756Z"
   },
   {
    "duration": 111,
    "start_time": "2022-05-01T19:17:38.457Z"
   },
   {
    "duration": 105,
    "start_time": "2022-05-01T19:17:49.170Z"
   },
   {
    "duration": 84,
    "start_time": "2022-05-01T19:18:38.794Z"
   },
   {
    "duration": 84,
    "start_time": "2022-05-01T19:18:48.117Z"
   },
   {
    "duration": 117,
    "start_time": "2022-05-01T19:19:06.807Z"
   },
   {
    "duration": 29,
    "start_time": "2022-05-01T19:20:53.648Z"
   },
   {
    "duration": 35,
    "start_time": "2022-05-01T19:21:58.840Z"
   },
   {
    "duration": 24,
    "start_time": "2022-05-01T19:22:27.674Z"
   },
   {
    "duration": 32,
    "start_time": "2022-05-01T19:22:48.611Z"
   },
   {
    "duration": 38,
    "start_time": "2022-05-01T19:23:13.653Z"
   },
   {
    "duration": 88,
    "start_time": "2022-05-01T19:24:09.143Z"
   },
   {
    "duration": 5,
    "start_time": "2022-05-01T19:33:04.509Z"
   },
   {
    "duration": 65,
    "start_time": "2022-05-01T19:33:04.522Z"
   },
   {
    "duration": 24,
    "start_time": "2022-05-01T19:33:04.590Z"
   },
   {
    "duration": 7,
    "start_time": "2022-05-01T19:33:04.617Z"
   },
   {
    "duration": 10,
    "start_time": "2022-05-01T19:33:04.628Z"
   },
   {
    "duration": 50,
    "start_time": "2022-05-01T19:33:04.640Z"
   },
   {
    "duration": 21,
    "start_time": "2022-05-01T19:33:04.693Z"
   },
   {
    "duration": 23,
    "start_time": "2022-05-01T19:33:04.717Z"
   },
   {
    "duration": 17,
    "start_time": "2022-05-01T19:33:04.743Z"
   },
   {
    "duration": 27,
    "start_time": "2022-05-01T19:33:04.783Z"
   },
   {
    "duration": 23,
    "start_time": "2022-05-01T19:33:04.815Z"
   },
   {
    "duration": 12,
    "start_time": "2022-05-01T19:33:04.840Z"
   },
   {
    "duration": 61,
    "start_time": "2022-05-01T19:33:04.855Z"
   },
   {
    "duration": 28,
    "start_time": "2022-05-01T19:33:04.919Z"
   },
   {
    "duration": 51,
    "start_time": "2022-05-01T19:33:04.950Z"
   },
   {
    "duration": 31,
    "start_time": "2022-05-01T19:33:05.003Z"
   },
   {
    "duration": 32,
    "start_time": "2022-05-01T19:33:05.037Z"
   },
   {
    "duration": 85,
    "start_time": "2022-05-01T19:33:05.083Z"
   },
   {
    "duration": 38,
    "start_time": "2022-05-01T19:33:13.283Z"
   },
   {
    "duration": 22,
    "start_time": "2022-05-01T19:33:16.199Z"
   },
   {
    "duration": 11,
    "start_time": "2022-05-01T19:33:18.727Z"
   },
   {
    "duration": 30,
    "start_time": "2022-05-01T19:33:23.144Z"
   },
   {
    "duration": 13,
    "start_time": "2022-05-01T19:33:25.424Z"
   },
   {
    "duration": 35,
    "start_time": "2022-05-01T19:34:07.955Z"
   },
   {
    "duration": 9,
    "start_time": "2022-05-01T19:34:11.958Z"
   },
   {
    "duration": 5,
    "start_time": "2022-05-01T19:36:10.728Z"
   },
   {
    "duration": 29,
    "start_time": "2022-05-01T19:36:38.389Z"
   },
   {
    "duration": 9,
    "start_time": "2022-05-01T19:38:54.903Z"
   },
   {
    "duration": 34,
    "start_time": "2022-05-01T19:39:39.009Z"
   },
   {
    "duration": 41,
    "start_time": "2022-05-01T19:39:41.553Z"
   },
   {
    "duration": 38,
    "start_time": "2022-05-01T19:39:44.883Z"
   },
   {
    "duration": 6,
    "start_time": "2022-05-01T19:42:39.034Z"
   },
   {
    "duration": 9,
    "start_time": "2022-05-01T19:42:49.015Z"
   },
   {
    "duration": 6,
    "start_time": "2022-05-01T19:43:22.254Z"
   },
   {
    "duration": 7,
    "start_time": "2022-05-01T19:44:04.756Z"
   },
   {
    "duration": 25,
    "start_time": "2022-05-01T19:44:07.976Z"
   },
   {
    "duration": 8,
    "start_time": "2022-05-01T19:44:10.539Z"
   },
   {
    "duration": 9,
    "start_time": "2022-05-01T19:44:46.199Z"
   },
   {
    "duration": 28,
    "start_time": "2022-05-01T19:45:43.913Z"
   },
   {
    "duration": 7,
    "start_time": "2022-05-01T19:46:24.167Z"
   },
   {
    "duration": 35,
    "start_time": "2022-05-01T19:46:27.516Z"
   },
   {
    "duration": 24,
    "start_time": "2022-05-01T19:46:31.043Z"
   },
   {
    "duration": 32,
    "start_time": "2022-05-01T19:46:35.915Z"
   },
   {
    "duration": 9,
    "start_time": "2022-05-01T19:55:11.207Z"
   },
   {
    "duration": 9,
    "start_time": "2022-05-01T19:55:53.221Z"
   },
   {
    "duration": 5,
    "start_time": "2022-05-01T19:57:37.466Z"
   },
   {
    "duration": 15,
    "start_time": "2022-05-01T19:57:39.128Z"
   },
   {
    "duration": 48,
    "start_time": "2022-05-01T19:57:43.270Z"
   },
   {
    "duration": 45,
    "start_time": "2022-05-01T19:57:43.321Z"
   },
   {
    "duration": 13,
    "start_time": "2022-05-01T19:58:59.431Z"
   },
   {
    "duration": 38,
    "start_time": "2022-05-01T19:59:02.056Z"
   },
   {
    "duration": 49,
    "start_time": "2022-05-01T19:59:07.979Z"
   },
   {
    "duration": 31,
    "start_time": "2022-05-01T19:59:14.716Z"
   },
   {
    "duration": 24,
    "start_time": "2022-05-01T19:59:25.624Z"
   },
   {
    "duration": 15,
    "start_time": "2022-05-01T19:59:28.168Z"
   },
   {
    "duration": 23,
    "start_time": "2022-05-01T19:59:30.832Z"
   },
   {
    "duration": 8,
    "start_time": "2022-05-01T19:59:44.341Z"
   },
   {
    "duration": 32,
    "start_time": "2022-05-01T20:00:49.457Z"
   },
   {
    "duration": 1749,
    "start_time": "2022-05-02T16:51:36.361Z"
   },
   {
    "duration": 74,
    "start_time": "2022-05-02T16:51:38.114Z"
   },
   {
    "duration": 20,
    "start_time": "2022-05-02T16:51:38.190Z"
   },
   {
    "duration": 7,
    "start_time": "2022-05-02T16:51:38.213Z"
   },
   {
    "duration": 5,
    "start_time": "2022-05-02T16:51:38.222Z"
   },
   {
    "duration": 11,
    "start_time": "2022-05-02T16:51:38.229Z"
   },
   {
    "duration": 17,
    "start_time": "2022-05-02T16:51:38.242Z"
   },
   {
    "duration": 21,
    "start_time": "2022-05-02T16:51:38.294Z"
   },
   {
    "duration": 15,
    "start_time": "2022-05-02T16:51:38.317Z"
   },
   {
    "duration": 13,
    "start_time": "2022-05-02T16:51:38.336Z"
   },
   {
    "duration": 52,
    "start_time": "2022-05-02T16:51:38.351Z"
   },
   {
    "duration": 13,
    "start_time": "2022-05-02T16:51:38.405Z"
   },
   {
    "duration": 31,
    "start_time": "2022-05-02T16:51:38.420Z"
   },
   {
    "duration": 53,
    "start_time": "2022-05-02T16:51:38.453Z"
   },
   {
    "duration": 22,
    "start_time": "2022-05-02T16:51:38.508Z"
   },
   {
    "duration": 19,
    "start_time": "2022-05-02T16:51:38.533Z"
   },
   {
    "duration": 42,
    "start_time": "2022-05-02T16:51:38.554Z"
   },
   {
    "duration": 66,
    "start_time": "2022-05-02T16:51:38.599Z"
   },
   {
    "duration": 52,
    "start_time": "2022-05-02T16:51:38.667Z"
   },
   {
    "duration": 18,
    "start_time": "2022-05-02T16:51:38.721Z"
   },
   {
    "duration": 11,
    "start_time": "2022-05-02T16:51:38.741Z"
   },
   {
    "duration": 57,
    "start_time": "2022-05-02T16:51:38.754Z"
   },
   {
    "duration": 11,
    "start_time": "2022-05-02T16:51:38.813Z"
   },
   {
    "duration": 18,
    "start_time": "2022-05-02T16:51:38.826Z"
   },
   {
    "duration": 6,
    "start_time": "2022-05-02T16:51:38.847Z"
   },
   {
    "duration": 39,
    "start_time": "2022-05-02T16:51:38.856Z"
   },
   {
    "duration": 22,
    "start_time": "2022-05-02T16:51:38.897Z"
   },
   {
    "duration": 6,
    "start_time": "2022-05-02T16:51:38.926Z"
   },
   {
    "duration": 64,
    "start_time": "2022-05-02T16:51:38.935Z"
   },
   {
    "duration": 32,
    "start_time": "2022-05-02T16:51:39.002Z"
   },
   {
    "duration": 32,
    "start_time": "2022-05-02T16:51:39.036Z"
   },
   {
    "duration": 6,
    "start_time": "2022-05-02T16:51:39.093Z"
   },
   {
    "duration": 8,
    "start_time": "2022-05-02T16:51:39.102Z"
   },
   {
    "duration": 8,
    "start_time": "2022-05-02T16:51:39.112Z"
   },
   {
    "duration": 13,
    "start_time": "2022-05-02T16:51:39.122Z"
   },
   {
    "duration": 7,
    "start_time": "2022-05-02T16:51:39.136Z"
   },
   {
    "duration": 49,
    "start_time": "2022-05-02T16:51:39.145Z"
   },
   {
    "duration": 20,
    "start_time": "2022-05-02T16:51:39.196Z"
   },
   {
    "duration": 7,
    "start_time": "2022-05-02T16:51:39.218Z"
   },
   {
    "duration": 8,
    "start_time": "2022-05-02T16:51:39.228Z"
   },
   {
    "duration": 9,
    "start_time": "2022-05-02T16:51:39.238Z"
   },
   {
    "duration": 44,
    "start_time": "2022-05-02T16:51:39.249Z"
   },
   {
    "duration": 14,
    "start_time": "2022-05-02T16:51:39.295Z"
   },
   {
    "duration": 8,
    "start_time": "2022-05-02T16:51:39.311Z"
   },
   {
    "duration": 20,
    "start_time": "2022-05-02T16:51:39.321Z"
   },
   {
    "duration": 51,
    "start_time": "2022-05-02T16:51:39.343Z"
   },
   {
    "duration": 20,
    "start_time": "2022-05-02T16:51:39.396Z"
   },
   {
    "duration": 14,
    "start_time": "2022-05-02T16:51:39.418Z"
   },
   {
    "duration": 21,
    "start_time": "2022-05-02T16:51:39.434Z"
   },
   {
    "duration": 14,
    "start_time": "2022-05-02T16:51:39.457Z"
   },
   {
    "duration": 6,
    "start_time": "2022-05-02T16:51:39.493Z"
   },
   {
    "duration": 35,
    "start_time": "2022-05-02T16:51:39.501Z"
   },
   {
    "duration": 21,
    "start_time": "2022-05-02T16:51:39.538Z"
   },
   {
    "duration": 107,
    "start_time": "2022-05-02T16:51:39.561Z"
   },
   {
    "duration": 23,
    "start_time": "2022-05-02T16:51:39.670Z"
   },
   {
    "duration": 5,
    "start_time": "2022-05-02T16:51:39.695Z"
   },
   {
    "duration": 40,
    "start_time": "2022-05-02T16:51:39.702Z"
   },
   {
    "duration": 71,
    "start_time": "2022-05-02T16:51:39.744Z"
   },
   {
    "duration": 3,
    "start_time": "2022-05-02T16:51:39.818Z"
   },
   {
    "duration": 1923,
    "start_time": "2022-05-02T16:51:48.756Z"
   },
   {
    "duration": 36,
    "start_time": "2022-05-02T16:52:20.467Z"
   },
   {
    "duration": 45,
    "start_time": "2022-05-02T16:52:23.787Z"
   },
   {
    "duration": 22,
    "start_time": "2022-05-02T16:52:42.985Z"
   },
   {
    "duration": 24,
    "start_time": "2022-05-02T16:52:45.182Z"
   },
   {
    "duration": 31,
    "start_time": "2022-05-02T17:09:32.705Z"
   },
   {
    "duration": 34,
    "start_time": "2022-05-02T17:10:45.867Z"
   },
   {
    "duration": 5062,
    "start_time": "2022-05-02T17:20:24.972Z"
   },
   {
    "duration": 2825,
    "start_time": "2022-05-02T17:21:09.138Z"
   },
   {
    "duration": 5,
    "start_time": "2022-05-02T17:21:20.049Z"
   },
   {
    "duration": 13,
    "start_time": "2022-05-02T17:22:23.648Z"
   },
   {
    "duration": 10,
    "start_time": "2022-05-02T17:22:35.622Z"
   },
   {
    "duration": 4,
    "start_time": "2022-05-02T17:22:46.527Z"
   },
   {
    "duration": 6,
    "start_time": "2022-05-02T17:22:56.483Z"
   },
   {
    "duration": 5,
    "start_time": "2022-05-02T17:23:09.163Z"
   },
   {
    "duration": 436,
    "start_time": "2022-05-02T17:25:59.254Z"
   },
   {
    "duration": 7,
    "start_time": "2022-05-02T17:26:27.426Z"
   },
   {
    "duration": 59,
    "start_time": "2022-05-02T17:26:33.814Z"
   },
   {
    "duration": 524,
    "start_time": "2022-05-02T17:31:58.286Z"
   },
   {
    "duration": 644,
    "start_time": "2022-05-02T17:34:32.380Z"
   },
   {
    "duration": 17,
    "start_time": "2022-05-02T17:52:54.681Z"
   },
   {
    "duration": 43,
    "start_time": "2022-05-02T18:02:20.091Z"
   },
   {
    "duration": 14,
    "start_time": "2022-05-02T18:02:26.130Z"
   },
   {
    "duration": 15,
    "start_time": "2022-05-02T18:02:38.973Z"
   },
   {
    "duration": 2760,
    "start_time": "2022-05-02T18:02:42.726Z"
   },
   {
    "duration": 385,
    "start_time": "2022-05-02T18:13:58.539Z"
   },
   {
    "duration": 245,
    "start_time": "2022-05-02T18:14:45.809Z"
   },
   {
    "duration": 4,
    "start_time": "2022-05-02T18:15:02.021Z"
   },
   {
    "duration": 74,
    "start_time": "2022-05-02T18:15:02.035Z"
   },
   {
    "duration": 21,
    "start_time": "2022-05-02T18:15:02.113Z"
   },
   {
    "duration": 15,
    "start_time": "2022-05-02T18:15:02.136Z"
   },
   {
    "duration": 8,
    "start_time": "2022-05-02T18:15:02.154Z"
   },
   {
    "duration": 32,
    "start_time": "2022-05-02T18:15:02.164Z"
   },
   {
    "duration": 42,
    "start_time": "2022-05-02T18:15:02.199Z"
   },
   {
    "duration": 20,
    "start_time": "2022-05-02T18:15:02.244Z"
   },
   {
    "duration": 14,
    "start_time": "2022-05-02T18:15:02.266Z"
   },
   {
    "duration": 22,
    "start_time": "2022-05-02T18:15:02.293Z"
   },
   {
    "duration": 19,
    "start_time": "2022-05-02T18:15:02.319Z"
   },
   {
    "duration": 27,
    "start_time": "2022-05-02T18:15:02.341Z"
   },
   {
    "duration": 37,
    "start_time": "2022-05-02T18:15:02.395Z"
   },
   {
    "duration": 58,
    "start_time": "2022-05-02T18:15:02.435Z"
   },
   {
    "duration": 29,
    "start_time": "2022-05-02T18:15:02.497Z"
   },
   {
    "duration": 23,
    "start_time": "2022-05-02T18:15:02.528Z"
   },
   {
    "duration": 52,
    "start_time": "2022-05-02T18:15:02.554Z"
   },
   {
    "duration": 101,
    "start_time": "2022-05-02T18:15:02.608Z"
   },
   {
    "duration": 30,
    "start_time": "2022-05-02T18:15:02.712Z"
   },
   {
    "duration": 30,
    "start_time": "2022-05-02T18:15:02.744Z"
   },
   {
    "duration": 38,
    "start_time": "2022-05-02T18:15:02.776Z"
   },
   {
    "duration": 24,
    "start_time": "2022-05-02T18:15:02.816Z"
   },
   {
    "duration": 23,
    "start_time": "2022-05-02T18:15:02.842Z"
   },
   {
    "duration": 51,
    "start_time": "2022-05-02T18:15:02.868Z"
   },
   {
    "duration": 8,
    "start_time": "2022-05-02T18:15:02.921Z"
   },
   {
    "duration": 6,
    "start_time": "2022-05-02T18:15:02.931Z"
   },
   {
    "duration": 27,
    "start_time": "2022-05-02T18:15:02.939Z"
   },
   {
    "duration": 28,
    "start_time": "2022-05-02T18:15:02.969Z"
   },
   {
    "duration": 31,
    "start_time": "2022-05-02T18:15:03.008Z"
   },
   {
    "duration": 54,
    "start_time": "2022-05-02T18:15:03.041Z"
   },
   {
    "duration": 47,
    "start_time": "2022-05-02T18:15:03.098Z"
   },
   {
    "duration": 6,
    "start_time": "2022-05-02T18:15:03.148Z"
   },
   {
    "duration": 9,
    "start_time": "2022-05-02T18:15:03.157Z"
   },
   {
    "duration": 26,
    "start_time": "2022-05-02T18:15:03.168Z"
   },
   {
    "duration": 25,
    "start_time": "2022-05-02T18:15:03.197Z"
   },
   {
    "duration": 9,
    "start_time": "2022-05-02T18:15:03.225Z"
   },
   {
    "duration": 8,
    "start_time": "2022-05-02T18:15:03.236Z"
   },
   {
    "duration": 48,
    "start_time": "2022-05-02T18:15:03.247Z"
   },
   {
    "duration": 9,
    "start_time": "2022-05-02T18:15:03.298Z"
   },
   {
    "duration": 9,
    "start_time": "2022-05-02T18:15:03.310Z"
   },
   {
    "duration": 9,
    "start_time": "2022-05-02T18:15:03.321Z"
   },
   {
    "duration": 5,
    "start_time": "2022-05-02T18:15:03.332Z"
   },
   {
    "duration": 53,
    "start_time": "2022-05-02T18:15:03.340Z"
   },
   {
    "duration": 15,
    "start_time": "2022-05-02T18:15:03.396Z"
   },
   {
    "duration": 20,
    "start_time": "2022-05-02T18:15:03.415Z"
   },
   {
    "duration": 23,
    "start_time": "2022-05-02T18:15:03.438Z"
   },
   {
    "duration": 53,
    "start_time": "2022-05-02T18:15:03.463Z"
   },
   {
    "duration": 16,
    "start_time": "2022-05-02T18:15:03.519Z"
   },
   {
    "duration": 17,
    "start_time": "2022-05-02T18:15:03.538Z"
   },
   {
    "duration": 38,
    "start_time": "2022-05-02T18:15:03.557Z"
   },
   {
    "duration": 20,
    "start_time": "2022-05-02T18:15:03.598Z"
   },
   {
    "duration": 27,
    "start_time": "2022-05-02T18:15:03.621Z"
   },
   {
    "duration": 18,
    "start_time": "2022-05-02T18:15:03.650Z"
   },
   {
    "duration": 113,
    "start_time": "2022-05-02T18:15:03.670Z"
   },
   {
    "duration": 19,
    "start_time": "2022-05-02T18:15:03.794Z"
   },
   {
    "duration": 3,
    "start_time": "2022-05-02T18:15:03.815Z"
   },
   {
    "duration": 35,
    "start_time": "2022-05-02T18:15:03.820Z"
   },
   {
    "duration": 100,
    "start_time": "2022-05-02T18:15:03.857Z"
   },
   {
    "duration": 3,
    "start_time": "2022-05-02T18:15:03.960Z"
   },
   {
    "duration": 2248,
    "start_time": "2022-05-02T18:15:03.966Z"
   },
   {
    "duration": 34,
    "start_time": "2022-05-02T18:15:06.216Z"
   },
   {
    "duration": 73,
    "start_time": "2022-05-02T18:15:06.253Z"
   },
   {
    "duration": 506,
    "start_time": "2022-05-02T18:15:06.328Z"
   },
   {
    "duration": 35,
    "start_time": "2022-05-02T18:15:30.157Z"
   },
   {
    "duration": 11,
    "start_time": "2022-05-02T18:16:57.522Z"
   },
   {
    "duration": 20,
    "start_time": "2022-05-02T18:17:17.470Z"
   },
   {
    "duration": 12,
    "start_time": "2022-05-02T18:17:28.135Z"
   },
   {
    "duration": 12,
    "start_time": "2022-05-02T18:17:41.877Z"
   },
   {
    "duration": 234,
    "start_time": "2022-05-02T18:20:39.315Z"
   },
   {
    "duration": 213,
    "start_time": "2022-05-02T18:23:03.656Z"
   },
   {
    "duration": 238,
    "start_time": "2022-05-02T18:23:07.878Z"
   },
   {
    "duration": 310,
    "start_time": "2022-05-02T18:23:42.281Z"
   },
   {
    "duration": 273,
    "start_time": "2022-05-02T18:23:56.778Z"
   },
   {
    "duration": 251,
    "start_time": "2022-05-02T18:24:09.509Z"
   },
   {
    "duration": 35,
    "start_time": "2022-05-02T18:26:07.433Z"
   },
   {
    "duration": 12,
    "start_time": "2022-05-02T18:26:48.821Z"
   },
   {
    "duration": 13,
    "start_time": "2022-05-02T18:27:27.209Z"
   },
   {
    "duration": 328,
    "start_time": "2022-05-02T18:28:11.111Z"
   },
   {
    "duration": 18,
    "start_time": "2022-05-02T18:36:20.640Z"
   },
   {
    "duration": 30,
    "start_time": "2022-05-02T18:36:49.543Z"
   },
   {
    "duration": 285,
    "start_time": "2022-05-02T18:37:32.910Z"
   },
   {
    "duration": 218,
    "start_time": "2022-05-02T18:38:37.529Z"
   },
   {
    "duration": 33,
    "start_time": "2022-05-02T18:39:21.967Z"
   },
   {
    "duration": 8,
    "start_time": "2022-05-02T18:54:21.826Z"
   },
   {
    "duration": 228,
    "start_time": "2022-05-02T18:54:43.834Z"
   },
   {
    "duration": 7,
    "start_time": "2022-05-02T18:55:14.289Z"
   },
   {
    "duration": 6,
    "start_time": "2022-05-02T18:55:53.211Z"
   },
   {
    "duration": 240,
    "start_time": "2022-05-02T18:55:56.614Z"
   },
   {
    "duration": 6,
    "start_time": "2022-05-02T18:56:13.605Z"
   },
   {
    "duration": 246,
    "start_time": "2022-05-02T18:56:17.574Z"
   },
   {
    "duration": 51,
    "start_time": "2022-05-02T18:57:58.961Z"
   },
   {
    "duration": 95,
    "start_time": "2022-05-02T19:01:42.810Z"
   },
   {
    "duration": 86,
    "start_time": "2022-05-02T19:01:51.916Z"
   },
   {
    "duration": 31,
    "start_time": "2022-05-02T19:01:56.910Z"
   },
   {
    "duration": 4,
    "start_time": "2022-05-02T19:02:10.876Z"
   },
   {
    "duration": 256,
    "start_time": "2022-05-02T19:02:12.933Z"
   },
   {
    "duration": 5,
    "start_time": "2022-05-02T19:02:46.254Z"
   },
   {
    "duration": 389,
    "start_time": "2022-05-02T19:02:46.765Z"
   },
   {
    "duration": 318,
    "start_time": "2022-05-02T19:03:04.164Z"
   },
   {
    "duration": 8,
    "start_time": "2022-05-02T19:03:36.993Z"
   },
   {
    "duration": 258,
    "start_time": "2022-05-02T19:03:37.643Z"
   },
   {
    "duration": 276,
    "start_time": "2022-05-02T19:03:39.509Z"
   },
   {
    "duration": 6,
    "start_time": "2022-05-02T19:04:49.224Z"
   },
   {
    "duration": 301,
    "start_time": "2022-05-02T19:04:50.233Z"
   },
   {
    "duration": 256,
    "start_time": "2022-05-02T19:05:01.917Z"
   },
   {
    "duration": 6,
    "start_time": "2022-05-02T19:05:44.844Z"
   },
   {
    "duration": 47,
    "start_time": "2022-05-02T19:05:45.722Z"
   },
   {
    "duration": 6,
    "start_time": "2022-05-02T19:09:26.114Z"
   },
   {
    "duration": 258,
    "start_time": "2022-05-02T19:09:26.541Z"
   },
   {
    "duration": 278,
    "start_time": "2022-05-02T19:09:54.958Z"
   },
   {
    "duration": 5,
    "start_time": "2022-05-02T19:10:41.909Z"
   },
   {
    "duration": 8,
    "start_time": "2022-05-02T19:11:01.556Z"
   },
   {
    "duration": 208,
    "start_time": "2022-05-02T19:11:11.480Z"
   },
   {
    "duration": 10,
    "start_time": "2022-05-02T19:11:11.989Z"
   },
   {
    "duration": 5,
    "start_time": "2022-05-02T19:11:24.316Z"
   },
   {
    "duration": 15,
    "start_time": "2022-05-02T19:11:24.918Z"
   },
   {
    "duration": 4,
    "start_time": "2022-05-02T19:11:36.582Z"
   },
   {
    "duration": 33,
    "start_time": "2022-05-02T19:11:37.095Z"
   },
   {
    "duration": 4,
    "start_time": "2022-05-02T19:12:04.590Z"
   },
   {
    "duration": 60,
    "start_time": "2022-05-02T19:12:06.177Z"
   },
   {
    "duration": 214,
    "start_time": "2022-05-02T19:12:49.676Z"
   },
   {
    "duration": 4,
    "start_time": "2022-05-02T19:13:08.628Z"
   },
   {
    "duration": 15,
    "start_time": "2022-05-02T19:13:11.517Z"
   },
   {
    "duration": 4,
    "start_time": "2022-05-02T19:14:02.152Z"
   },
   {
    "duration": 43,
    "start_time": "2022-05-02T19:14:03.119Z"
   },
   {
    "duration": 12,
    "start_time": "2022-05-02T19:14:48.962Z"
   },
   {
    "duration": 8,
    "start_time": "2022-05-02T19:18:12.811Z"
   },
   {
    "duration": 265,
    "start_time": "2022-05-02T19:18:22.915Z"
   },
   {
    "duration": 235,
    "start_time": "2022-05-02T19:18:36.930Z"
   },
   {
    "duration": 239,
    "start_time": "2022-05-02T19:19:04.911Z"
   },
   {
    "duration": 247,
    "start_time": "2022-05-02T19:19:25.370Z"
   },
   {
    "duration": 39,
    "start_time": "2022-05-02T19:22:17.569Z"
   },
   {
    "duration": 5,
    "start_time": "2022-05-02T19:24:27.328Z"
   },
   {
    "duration": 292,
    "start_time": "2022-05-02T19:24:29.684Z"
   },
   {
    "duration": 8,
    "start_time": "2022-05-02T19:24:52.690Z"
   },
   {
    "duration": 260,
    "start_time": "2022-05-02T19:24:53.540Z"
   },
   {
    "duration": 255,
    "start_time": "2022-05-02T19:25:01.653Z"
   },
   {
    "duration": 228,
    "start_time": "2022-05-02T19:25:06.306Z"
   },
   {
    "duration": 374,
    "start_time": "2022-05-02T19:25:09.440Z"
   },
   {
    "duration": 6,
    "start_time": "2022-05-02T19:25:35.345Z"
   },
   {
    "duration": 292,
    "start_time": "2022-05-02T19:27:05.475Z"
   },
   {
    "duration": 241,
    "start_time": "2022-05-02T19:27:08.988Z"
   },
   {
    "duration": 255,
    "start_time": "2022-05-02T19:27:14.273Z"
   },
   {
    "duration": 234,
    "start_time": "2022-05-02T19:27:16.807Z"
   },
   {
    "duration": 47,
    "start_time": "2022-05-02T19:31:47.169Z"
   },
   {
    "duration": 37,
    "start_time": "2022-05-02T19:38:19.740Z"
   },
   {
    "duration": 42,
    "start_time": "2022-05-02T19:39:17.639Z"
   },
   {
    "duration": 14,
    "start_time": "2022-05-02T19:39:45.008Z"
   },
   {
    "duration": 46,
    "start_time": "2022-05-02T19:39:51.056Z"
   },
   {
    "duration": 33,
    "start_time": "2022-05-02T19:41:11.654Z"
   },
   {
    "duration": 13,
    "start_time": "2022-05-02T19:42:09.605Z"
   },
   {
    "duration": 10,
    "start_time": "2022-05-02T19:43:58.921Z"
   },
   {
    "duration": 33,
    "start_time": "2022-05-02T19:45:26.049Z"
   },
   {
    "duration": 36,
    "start_time": "2022-05-02T19:46:19.068Z"
   },
   {
    "duration": 25,
    "start_time": "2022-05-02T19:46:40.357Z"
   },
   {
    "duration": 21,
    "start_time": "2022-05-02T19:47:11.393Z"
   },
   {
    "duration": 1155,
    "start_time": "2022-05-02T19:49:34.619Z"
   },
   {
    "duration": 36,
    "start_time": "2022-05-02T19:50:31.248Z"
   },
   {
    "duration": 19,
    "start_time": "2022-05-02T19:51:53.067Z"
   },
   {
    "duration": 29,
    "start_time": "2022-05-02T19:52:25.974Z"
   },
   {
    "duration": 48,
    "start_time": "2022-05-02T19:52:41.892Z"
   },
   {
    "duration": 35,
    "start_time": "2022-05-02T19:52:56.339Z"
   },
   {
    "duration": 37,
    "start_time": "2022-05-02T19:53:05.256Z"
   },
   {
    "duration": 32,
    "start_time": "2022-05-02T19:53:13.776Z"
   },
   {
    "duration": 36,
    "start_time": "2022-05-02T19:54:06.046Z"
   },
   {
    "duration": 35,
    "start_time": "2022-05-02T19:54:26.811Z"
   },
   {
    "duration": 33,
    "start_time": "2022-05-02T19:54:36.269Z"
   },
   {
    "duration": 5,
    "start_time": "2022-05-02T19:55:08.548Z"
   },
   {
    "duration": 5,
    "start_time": "2022-05-02T19:55:35.416Z"
   },
   {
    "duration": 75,
    "start_time": "2022-05-02T19:55:35.429Z"
   },
   {
    "duration": 19,
    "start_time": "2022-05-02T19:55:35.506Z"
   },
   {
    "duration": 11,
    "start_time": "2022-05-02T19:55:35.527Z"
   },
   {
    "duration": 9,
    "start_time": "2022-05-02T19:55:35.541Z"
   },
   {
    "duration": 9,
    "start_time": "2022-05-02T19:55:35.553Z"
   },
   {
    "duration": 14,
    "start_time": "2022-05-02T19:55:35.593Z"
   },
   {
    "duration": 23,
    "start_time": "2022-05-02T19:55:35.610Z"
   },
   {
    "duration": 15,
    "start_time": "2022-05-02T19:55:35.635Z"
   },
   {
    "duration": 46,
    "start_time": "2022-05-02T19:55:35.652Z"
   },
   {
    "duration": 19,
    "start_time": "2022-05-02T19:55:35.702Z"
   },
   {
    "duration": 12,
    "start_time": "2022-05-02T19:55:35.723Z"
   },
   {
    "duration": 72,
    "start_time": "2022-05-02T19:55:35.738Z"
   },
   {
    "duration": 30,
    "start_time": "2022-05-02T19:55:35.813Z"
   },
   {
    "duration": 48,
    "start_time": "2022-05-02T19:55:35.845Z"
   },
   {
    "duration": 20,
    "start_time": "2022-05-02T19:55:35.895Z"
   },
   {
    "duration": 20,
    "start_time": "2022-05-02T19:55:35.917Z"
   },
   {
    "duration": 105,
    "start_time": "2022-05-02T19:55:35.939Z"
   },
   {
    "duration": 48,
    "start_time": "2022-05-02T19:55:36.046Z"
   },
   {
    "duration": 20,
    "start_time": "2022-05-02T19:55:36.096Z"
   },
   {
    "duration": 15,
    "start_time": "2022-05-02T19:55:36.118Z"
   },
   {
    "duration": 23,
    "start_time": "2022-05-02T19:55:36.135Z"
   },
   {
    "duration": 40,
    "start_time": "2022-05-02T19:55:36.160Z"
   },
   {
    "duration": 24,
    "start_time": "2022-05-02T19:55:36.202Z"
   },
   {
    "duration": 6,
    "start_time": "2022-05-02T19:55:36.228Z"
   },
   {
    "duration": 5,
    "start_time": "2022-05-02T19:55:36.236Z"
   },
   {
    "duration": 51,
    "start_time": "2022-05-02T19:55:36.243Z"
   },
   {
    "duration": 7,
    "start_time": "2022-05-02T19:55:36.300Z"
   },
   {
    "duration": 24,
    "start_time": "2022-05-02T19:55:36.310Z"
   },
   {
    "duration": 58,
    "start_time": "2022-05-02T19:55:36.336Z"
   },
   {
    "duration": 33,
    "start_time": "2022-05-02T19:55:36.396Z"
   },
   {
    "duration": 6,
    "start_time": "2022-05-02T19:55:36.433Z"
   },
   {
    "duration": 9,
    "start_time": "2022-05-02T19:55:36.442Z"
   },
   {
    "duration": 42,
    "start_time": "2022-05-02T19:55:36.453Z"
   },
   {
    "duration": 13,
    "start_time": "2022-05-02T19:55:36.497Z"
   },
   {
    "duration": 10,
    "start_time": "2022-05-02T19:55:36.513Z"
   },
   {
    "duration": 8,
    "start_time": "2022-05-02T19:55:36.525Z"
   },
   {
    "duration": 62,
    "start_time": "2022-05-02T19:55:36.535Z"
   },
   {
    "duration": 7,
    "start_time": "2022-05-02T19:55:36.599Z"
   },
   {
    "duration": 9,
    "start_time": "2022-05-02T19:55:36.607Z"
   },
   {
    "duration": 7,
    "start_time": "2022-05-02T19:55:36.619Z"
   },
   {
    "duration": 6,
    "start_time": "2022-05-02T19:55:36.628Z"
   },
   {
    "duration": 13,
    "start_time": "2022-05-02T19:55:36.637Z"
   },
   {
    "duration": 9,
    "start_time": "2022-05-02T19:55:36.693Z"
   },
   {
    "duration": 25,
    "start_time": "2022-05-02T19:55:36.704Z"
   },
   {
    "duration": 24,
    "start_time": "2022-05-02T19:55:36.731Z"
   },
   {
    "duration": 49,
    "start_time": "2022-05-02T19:55:36.757Z"
   },
   {
    "duration": 15,
    "start_time": "2022-05-02T19:55:36.808Z"
   },
   {
    "duration": 27,
    "start_time": "2022-05-02T19:55:36.825Z"
   },
   {
    "duration": 15,
    "start_time": "2022-05-02T19:55:36.854Z"
   },
   {
    "duration": 24,
    "start_time": "2022-05-02T19:55:36.871Z"
   },
   {
    "duration": 41,
    "start_time": "2022-05-02T19:55:36.897Z"
   },
   {
    "duration": 11,
    "start_time": "2022-05-02T19:55:36.940Z"
   },
   {
    "duration": 92,
    "start_time": "2022-05-02T19:55:36.953Z"
   },
   {
    "duration": 11,
    "start_time": "2022-05-02T19:55:37.047Z"
   },
   {
    "duration": 4,
    "start_time": "2022-05-02T19:55:37.060Z"
   },
   {
    "duration": 53,
    "start_time": "2022-05-02T19:55:37.066Z"
   },
   {
    "duration": 52,
    "start_time": "2022-05-02T19:55:37.121Z"
   },
   {
    "duration": 3,
    "start_time": "2022-05-02T19:55:37.192Z"
   },
   {
    "duration": 2004,
    "start_time": "2022-05-02T19:55:37.197Z"
   },
   {
    "duration": 33,
    "start_time": "2022-05-02T19:55:39.203Z"
   },
   {
    "duration": 56,
    "start_time": "2022-05-02T19:55:39.238Z"
   },
   {
    "duration": 443,
    "start_time": "2022-05-02T19:55:39.296Z"
   },
   {
    "duration": 34,
    "start_time": "2022-05-02T19:55:39.741Z"
   },
   {
    "duration": 29,
    "start_time": "2022-05-02T19:55:39.777Z"
   },
   {
    "duration": 14,
    "start_time": "2022-05-02T19:55:39.809Z"
   },
   {
    "duration": 12,
    "start_time": "2022-05-02T19:55:39.832Z"
   },
   {
    "duration": 285,
    "start_time": "2022-05-02T19:55:39.847Z"
   },
   {
    "duration": 34,
    "start_time": "2022-05-02T19:55:40.135Z"
   },
   {
    "duration": 32,
    "start_time": "2022-05-02T19:55:40.171Z"
   },
   {
    "duration": 19,
    "start_time": "2022-05-02T19:55:40.206Z"
   },
   {
    "duration": 241,
    "start_time": "2022-05-02T19:55:40.227Z"
   },
   {
    "duration": 34,
    "start_time": "2022-05-02T19:55:40.470Z"
   },
   {
    "duration": 5,
    "start_time": "2022-05-02T19:55:40.506Z"
   },
   {
    "duration": 258,
    "start_time": "2022-05-02T19:55:40.513Z"
   },
   {
    "duration": 240,
    "start_time": "2022-05-02T19:55:40.773Z"
   },
   {
    "duration": 233,
    "start_time": "2022-05-02T19:55:41.016Z"
   },
   {
    "duration": 246,
    "start_time": "2022-05-02T19:55:41.252Z"
   },
   {
    "duration": 27,
    "start_time": "2022-05-02T19:55:41.500Z"
   },
   {
    "duration": 7,
    "start_time": "2022-05-02T19:55:41.530Z"
   },
   {
    "duration": 256,
    "start_time": "2022-05-02T19:55:41.540Z"
   },
   {
    "duration": 260,
    "start_time": "2022-05-02T19:55:41.799Z"
   },
   {
    "duration": 244,
    "start_time": "2022-05-02T19:55:42.061Z"
   },
   {
    "duration": 305,
    "start_time": "2022-05-02T19:55:42.307Z"
   },
   {
    "duration": 24,
    "start_time": "2022-05-02T19:55:53.442Z"
   },
   {
    "duration": 36,
    "start_time": "2022-05-02T19:56:03.451Z"
   },
   {
    "duration": 7,
    "start_time": "2022-05-02T19:56:07.304Z"
   },
   {
    "duration": 159,
    "start_time": "2022-05-02T19:56:53.073Z"
   },
   {
    "duration": 172,
    "start_time": "2022-05-02T19:57:14.507Z"
   },
   {
    "duration": 35,
    "start_time": "2022-05-02T19:58:09.794Z"
   },
   {
    "duration": 249,
    "start_time": "2022-05-02T20:07:29.391Z"
   },
   {
    "duration": 12,
    "start_time": "2022-05-02T20:08:04.806Z"
   },
   {
    "duration": 570,
    "start_time": "2022-05-02T20:08:26.546Z"
   },
   {
    "duration": 472,
    "start_time": "2022-05-02T20:09:01.339Z"
   },
   {
    "duration": 10,
    "start_time": "2022-05-02T20:15:43.825Z"
   },
   {
    "duration": 10,
    "start_time": "2022-05-02T20:15:46.766Z"
   },
   {
    "duration": 9,
    "start_time": "2022-05-02T20:15:49.095Z"
   },
   {
    "duration": 9,
    "start_time": "2022-05-02T20:16:04.642Z"
   },
   {
    "duration": 10,
    "start_time": "2022-05-02T20:16:07.069Z"
   },
   {
    "duration": 11,
    "start_time": "2022-05-02T20:16:17.325Z"
   },
   {
    "duration": 11,
    "start_time": "2022-05-02T20:17:56.284Z"
   },
   {
    "duration": 12,
    "start_time": "2022-05-02T20:18:03.307Z"
   },
   {
    "duration": 11,
    "start_time": "2022-05-02T20:18:10.617Z"
   },
   {
    "duration": 11,
    "start_time": "2022-05-02T20:18:26.508Z"
   },
   {
    "duration": 11,
    "start_time": "2022-05-02T20:18:32.431Z"
   },
   {
    "duration": 10,
    "start_time": "2022-05-02T20:18:38.130Z"
   },
   {
    "duration": 18,
    "start_time": "2022-05-02T20:19:31.533Z"
   },
   {
    "duration": 23,
    "start_time": "2022-05-02T20:19:47.292Z"
   },
   {
    "duration": 312,
    "start_time": "2022-05-02T20:20:32.614Z"
   },
   {
    "duration": 23,
    "start_time": "2022-05-02T20:20:39.417Z"
   },
   {
    "duration": 24,
    "start_time": "2022-05-02T20:22:45.607Z"
   },
   {
    "duration": 21,
    "start_time": "2022-05-02T20:23:04.737Z"
   },
   {
    "duration": 21,
    "start_time": "2022-05-02T20:25:39.805Z"
   },
   {
    "duration": 163,
    "start_time": "2022-05-02T20:25:47.000Z"
   },
   {
    "duration": 139,
    "start_time": "2022-05-02T20:26:27.994Z"
   },
   {
    "duration": 202,
    "start_time": "2022-05-02T20:27:04.594Z"
   },
   {
    "duration": 3065,
    "start_time": "2022-05-02T20:27:26.136Z"
   },
   {
    "duration": 133,
    "start_time": "2022-05-02T20:27:41.528Z"
   },
   {
    "duration": 132,
    "start_time": "2022-05-02T20:27:56.206Z"
   },
   {
    "duration": 203,
    "start_time": "2022-05-02T20:28:48.293Z"
   },
   {
    "duration": 3119,
    "start_time": "2022-05-02T20:29:51.507Z"
   },
   {
    "duration": 157,
    "start_time": "2022-05-02T20:29:59.482Z"
   },
   {
    "duration": 7,
    "start_time": "2022-05-02T20:30:20.431Z"
   },
   {
    "duration": 161,
    "start_time": "2022-05-02T20:30:33.620Z"
   },
   {
    "duration": 148,
    "start_time": "2022-05-02T20:30:44.396Z"
   },
   {
    "duration": 144,
    "start_time": "2022-05-02T20:31:15.768Z"
   },
   {
    "duration": 148,
    "start_time": "2022-05-02T20:35:03.501Z"
   },
   {
    "duration": 287,
    "start_time": "2022-05-02T20:39:43.066Z"
   },
   {
    "duration": 161,
    "start_time": "2022-05-02T20:40:07.113Z"
   },
   {
    "duration": 6,
    "start_time": "2022-05-02T20:40:44.687Z"
   },
   {
    "duration": 6,
    "start_time": "2022-05-02T20:41:09.099Z"
   },
   {
    "duration": 152,
    "start_time": "2022-05-02T20:41:12.046Z"
   },
   {
    "duration": 176,
    "start_time": "2022-05-02T20:41:39.487Z"
   },
   {
    "duration": 164,
    "start_time": "2022-05-02T20:41:53.375Z"
   },
   {
    "duration": 141,
    "start_time": "2022-05-02T20:42:17.239Z"
   },
   {
    "duration": 171,
    "start_time": "2022-05-02T20:45:31.286Z"
   },
   {
    "duration": 176,
    "start_time": "2022-05-02T20:45:45.421Z"
   },
   {
    "duration": 10,
    "start_time": "2022-05-02T20:52:34.556Z"
   },
   {
    "duration": 10,
    "start_time": "2022-05-02T20:54:03.343Z"
   },
   {
    "duration": 13,
    "start_time": "2022-05-02T20:55:31.019Z"
   },
   {
    "duration": 12,
    "start_time": "2022-05-02T20:56:17.966Z"
   },
   {
    "duration": 11,
    "start_time": "2022-05-02T20:56:42.620Z"
   },
   {
    "duration": 11,
    "start_time": "2022-05-02T21:01:04.242Z"
   },
   {
    "duration": 10,
    "start_time": "2022-05-02T21:01:39.532Z"
   },
   {
    "duration": 7,
    "start_time": "2022-05-02T21:04:05.836Z"
   },
   {
    "duration": 7,
    "start_time": "2022-05-02T21:04:23.718Z"
   },
   {
    "duration": 6,
    "start_time": "2022-05-02T21:05:23.757Z"
   },
   {
    "duration": 8,
    "start_time": "2022-05-02T21:06:38.688Z"
   },
   {
    "duration": 5,
    "start_time": "2022-05-02T21:10:20.776Z"
   },
   {
    "duration": 8,
    "start_time": "2022-05-02T21:10:30.376Z"
   },
   {
    "duration": 16,
    "start_time": "2022-05-02T21:10:55.909Z"
   },
   {
    "duration": 13,
    "start_time": "2022-05-02T21:11:51.848Z"
   },
   {
    "duration": 8,
    "start_time": "2022-05-02T21:12:07.215Z"
   },
   {
    "duration": 8,
    "start_time": "2022-05-02T21:13:51.427Z"
   },
   {
    "duration": 12,
    "start_time": "2022-05-02T21:16:33.865Z"
   },
   {
    "duration": 6,
    "start_time": "2022-05-02T21:16:49.537Z"
   },
   {
    "duration": 8,
    "start_time": "2022-05-02T21:18:12.886Z"
   },
   {
    "duration": 370,
    "start_time": "2022-05-02T21:21:41.309Z"
   },
   {
    "duration": 353,
    "start_time": "2022-05-02T21:22:02.208Z"
   },
   {
    "duration": 391,
    "start_time": "2022-05-02T21:22:34.012Z"
   },
   {
    "duration": 390,
    "start_time": "2022-05-02T21:22:40.949Z"
   },
   {
    "duration": 682,
    "start_time": "2022-05-02T21:22:54.670Z"
   },
   {
    "duration": 420,
    "start_time": "2022-05-02T21:24:26.543Z"
   },
   {
    "duration": 778,
    "start_time": "2022-05-02T21:26:04.281Z"
   },
   {
    "duration": 536,
    "start_time": "2022-05-02T21:29:01.425Z"
   },
   {
    "duration": 546,
    "start_time": "2022-05-02T21:29:17.278Z"
   },
   {
    "duration": 385,
    "start_time": "2022-05-02T21:29:32.946Z"
   },
   {
    "duration": 445,
    "start_time": "2022-05-02T21:29:51.285Z"
   },
   {
    "duration": 661,
    "start_time": "2022-05-02T21:30:13.067Z"
   },
   {
    "duration": 411,
    "start_time": "2022-05-02T21:30:23.836Z"
   },
   {
    "duration": 511,
    "start_time": "2022-05-02T21:30:40.879Z"
   },
   {
    "duration": 451,
    "start_time": "2022-05-02T21:30:51.928Z"
   },
   {
    "duration": 598,
    "start_time": "2022-05-02T21:31:01.790Z"
   },
   {
    "duration": 604,
    "start_time": "2022-05-02T21:31:13.130Z"
   },
   {
    "duration": 609,
    "start_time": "2022-05-02T21:31:21.259Z"
   },
   {
    "duration": 653,
    "start_time": "2022-05-02T21:31:28.506Z"
   },
   {
    "duration": 582,
    "start_time": "2022-05-02T21:32:44.891Z"
   },
   {
    "duration": 11,
    "start_time": "2022-05-02T21:35:29.338Z"
   },
   {
    "duration": 5,
    "start_time": "2022-05-02T21:36:26.443Z"
   },
   {
    "duration": 10,
    "start_time": "2022-05-02T21:37:20.079Z"
   },
   {
    "duration": 10,
    "start_time": "2022-05-02T21:38:23.553Z"
   },
   {
    "duration": 6,
    "start_time": "2022-05-02T21:38:29.727Z"
   },
   {
    "duration": 9,
    "start_time": "2022-05-02T21:39:11.288Z"
   },
   {
    "duration": 10,
    "start_time": "2022-05-02T21:39:58.107Z"
   },
   {
    "duration": 6,
    "start_time": "2022-05-02T21:40:09.149Z"
   },
   {
    "duration": 8,
    "start_time": "2022-05-02T21:41:13.407Z"
   },
   {
    "duration": 543,
    "start_time": "2022-05-02T21:42:17.305Z"
   },
   {
    "duration": 5,
    "start_time": "2022-05-02T21:42:40.549Z"
   },
   {
    "duration": 77,
    "start_time": "2022-05-02T21:42:40.562Z"
   },
   {
    "duration": 19,
    "start_time": "2022-05-02T21:42:40.641Z"
   },
   {
    "duration": 34,
    "start_time": "2022-05-02T21:42:40.663Z"
   },
   {
    "duration": 13,
    "start_time": "2022-05-02T21:42:40.702Z"
   },
   {
    "duration": 9,
    "start_time": "2022-05-02T21:42:40.717Z"
   },
   {
    "duration": 14,
    "start_time": "2022-05-02T21:42:40.728Z"
   },
   {
    "duration": 57,
    "start_time": "2022-05-02T21:42:40.745Z"
   },
   {
    "duration": 19,
    "start_time": "2022-05-02T21:42:40.806Z"
   },
   {
    "duration": 13,
    "start_time": "2022-05-02T21:42:40.827Z"
   },
   {
    "duration": 61,
    "start_time": "2022-05-02T21:42:40.844Z"
   },
   {
    "duration": 14,
    "start_time": "2022-05-02T21:42:40.908Z"
   },
   {
    "duration": 34,
    "start_time": "2022-05-02T21:42:40.924Z"
   },
   {
    "duration": 68,
    "start_time": "2022-05-02T21:42:40.960Z"
   },
   {
    "duration": 21,
    "start_time": "2022-05-02T21:42:41.031Z"
   },
   {
    "duration": 65,
    "start_time": "2022-05-02T21:42:41.054Z"
   },
   {
    "duration": 21,
    "start_time": "2022-05-02T21:42:41.121Z"
   },
   {
    "duration": 105,
    "start_time": "2022-05-02T21:42:41.144Z"
   },
   {
    "duration": 57,
    "start_time": "2022-05-02T21:42:41.251Z"
   },
   {
    "duration": 22,
    "start_time": "2022-05-02T21:42:41.312Z"
   },
   {
    "duration": 13,
    "start_time": "2022-05-02T21:42:41.337Z"
   },
   {
    "duration": 70,
    "start_time": "2022-05-02T21:42:41.352Z"
   },
   {
    "duration": 10,
    "start_time": "2022-05-02T21:42:41.424Z"
   },
   {
    "duration": 19,
    "start_time": "2022-05-02T21:42:41.436Z"
   },
   {
    "duration": 14,
    "start_time": "2022-05-02T21:42:41.493Z"
   },
   {
    "duration": 12,
    "start_time": "2022-05-02T21:42:41.510Z"
   },
   {
    "duration": 24,
    "start_time": "2022-05-02T21:42:41.525Z"
   },
   {
    "duration": 7,
    "start_time": "2022-05-02T21:42:41.552Z"
   },
   {
    "duration": 58,
    "start_time": "2022-05-02T21:42:41.566Z"
   },
   {
    "duration": 31,
    "start_time": "2022-05-02T21:42:41.627Z"
   },
   {
    "duration": 66,
    "start_time": "2022-05-02T21:42:41.660Z"
   },
   {
    "duration": 6,
    "start_time": "2022-05-02T21:42:41.729Z"
   },
   {
    "duration": 18,
    "start_time": "2022-05-02T21:42:41.737Z"
   },
   {
    "duration": 7,
    "start_time": "2022-05-02T21:42:41.757Z"
   },
   {
    "duration": 37,
    "start_time": "2022-05-02T21:42:41.766Z"
   },
   {
    "duration": 14,
    "start_time": "2022-05-02T21:42:41.807Z"
   },
   {
    "duration": 10,
    "start_time": "2022-05-02T21:42:41.823Z"
   },
   {
    "duration": 26,
    "start_time": "2022-05-02T21:42:41.835Z"
   },
   {
    "duration": 35,
    "start_time": "2022-05-02T21:42:41.863Z"
   },
   {
    "duration": 24,
    "start_time": "2022-05-02T21:42:41.902Z"
   },
   {
    "duration": 8,
    "start_time": "2022-05-02T21:42:41.929Z"
   },
   {
    "duration": 11,
    "start_time": "2022-05-02T21:42:41.939Z"
   },
   {
    "duration": 13,
    "start_time": "2022-05-02T21:42:41.953Z"
   },
   {
    "duration": 34,
    "start_time": "2022-05-02T21:42:41.969Z"
   },
   {
    "duration": 30,
    "start_time": "2022-05-02T21:42:42.006Z"
   },
   {
    "duration": 20,
    "start_time": "2022-05-02T21:42:42.038Z"
   },
   {
    "duration": 57,
    "start_time": "2022-05-02T21:42:42.060Z"
   },
   {
    "duration": 15,
    "start_time": "2022-05-02T21:42:42.120Z"
   },
   {
    "duration": 9,
    "start_time": "2022-05-02T21:42:42.137Z"
   },
   {
    "duration": 10,
    "start_time": "2022-05-02T21:42:42.149Z"
   },
   {
    "duration": 41,
    "start_time": "2022-05-02T21:42:42.161Z"
   },
   {
    "duration": 28,
    "start_time": "2022-05-02T21:42:42.206Z"
   },
   {
    "duration": 14,
    "start_time": "2022-05-02T21:42:42.237Z"
   },
   {
    "duration": 154,
    "start_time": "2022-05-02T21:42:42.253Z"
   },
   {
    "duration": 14,
    "start_time": "2022-05-02T21:42:42.410Z"
   },
   {
    "duration": 4,
    "start_time": "2022-05-02T21:42:42.427Z"
   },
   {
    "duration": 71,
    "start_time": "2022-05-02T21:42:42.433Z"
   },
   {
    "duration": 57,
    "start_time": "2022-05-02T21:42:42.507Z"
   },
   {
    "duration": 4,
    "start_time": "2022-05-02T21:42:42.566Z"
   },
   {
    "duration": 2115,
    "start_time": "2022-05-02T21:42:42.596Z"
   },
   {
    "duration": 36,
    "start_time": "2022-05-02T21:42:44.714Z"
   },
   {
    "duration": 74,
    "start_time": "2022-05-02T21:42:44.753Z"
   },
   {
    "duration": 645,
    "start_time": "2022-05-02T21:42:44.830Z"
   },
   {
    "duration": 52,
    "start_time": "2022-05-02T21:42:45.477Z"
   },
   {
    "duration": 17,
    "start_time": "2022-05-02T21:42:45.531Z"
   },
   {
    "duration": 14,
    "start_time": "2022-05-02T21:42:45.550Z"
   },
   {
    "duration": 45,
    "start_time": "2022-05-02T21:42:45.566Z"
   },
   {
    "duration": 269,
    "start_time": "2022-05-02T21:42:45.614Z"
   },
   {
    "duration": 43,
    "start_time": "2022-05-02T21:42:45.886Z"
   },
   {
    "duration": 11,
    "start_time": "2022-05-02T21:42:45.933Z"
   },
   {
    "duration": 15,
    "start_time": "2022-05-02T21:42:45.947Z"
   },
   {
    "duration": 273,
    "start_time": "2022-05-02T21:42:45.994Z"
   },
   {
    "duration": 37,
    "start_time": "2022-05-02T21:42:46.269Z"
   },
   {
    "duration": 9,
    "start_time": "2022-05-02T21:42:46.308Z"
   },
   {
    "duration": 265,
    "start_time": "2022-05-02T21:42:46.319Z"
   },
   {
    "duration": 252,
    "start_time": "2022-05-02T21:42:46.592Z"
   },
   {
    "duration": 258,
    "start_time": "2022-05-02T21:42:46.846Z"
   },
   {
    "duration": 269,
    "start_time": "2022-05-02T21:42:47.107Z"
   },
   {
    "duration": 36,
    "start_time": "2022-05-02T21:42:47.378Z"
   },
   {
    "duration": 9,
    "start_time": "2022-05-02T21:42:47.416Z"
   },
   {
    "duration": 259,
    "start_time": "2022-05-02T21:42:47.427Z"
   },
   {
    "duration": 246,
    "start_time": "2022-05-02T21:42:47.694Z"
   },
   {
    "duration": 250,
    "start_time": "2022-05-02T21:42:47.942Z"
   },
   {
    "duration": 259,
    "start_time": "2022-05-02T21:42:48.199Z"
   },
   {
    "duration": 56,
    "start_time": "2022-05-02T21:42:48.461Z"
   },
   {
    "duration": 495,
    "start_time": "2022-05-02T21:42:48.520Z"
   },
   {
    "duration": 11,
    "start_time": "2022-05-02T21:42:49.018Z"
   },
   {
    "duration": 9,
    "start_time": "2022-05-02T21:42:49.032Z"
   },
   {
    "duration": 11,
    "start_time": "2022-05-02T21:42:49.044Z"
   },
   {
    "duration": 48,
    "start_time": "2022-05-02T21:42:49.057Z"
   },
   {
    "duration": 8,
    "start_time": "2022-05-02T21:42:49.108Z"
   },
   {
    "duration": 9,
    "start_time": "2022-05-02T21:42:49.118Z"
   },
   {
    "duration": 14,
    "start_time": "2022-05-02T21:42:49.129Z"
   },
   {
    "duration": 7,
    "start_time": "2022-05-02T21:42:49.145Z"
   },
   {
    "duration": 12,
    "start_time": "2022-05-02T21:42:49.194Z"
   },
   {
    "duration": 532,
    "start_time": "2022-05-02T21:42:49.209Z"
   },
   {
    "duration": 10,
    "start_time": "2022-05-02T21:42:49.743Z"
   },
   {
    "duration": 8,
    "start_time": "2022-05-02T21:42:49.755Z"
   },
   {
    "duration": 31,
    "start_time": "2022-05-02T21:42:49.765Z"
   },
   {
    "duration": 16,
    "start_time": "2022-05-02T21:42:49.800Z"
   },
   {
    "duration": 5,
    "start_time": "2022-05-02T21:42:49.818Z"
   },
   {
    "duration": 13,
    "start_time": "2022-05-02T21:42:49.825Z"
   },
   {
    "duration": 10,
    "start_time": "2022-05-02T21:42:49.840Z"
   },
   {
    "duration": 45,
    "start_time": "2022-05-02T21:42:49.852Z"
   },
   {
    "duration": 8,
    "start_time": "2022-05-02T21:42:56.915Z"
   },
   {
    "duration": 745,
    "start_time": "2022-05-02T21:43:00.609Z"
   },
   {
    "duration": 15,
    "start_time": "2022-05-02T21:45:33.084Z"
   },
   {
    "duration": 11,
    "start_time": "2022-05-02T21:45:36.573Z"
   },
   {
    "duration": 11,
    "start_time": "2022-05-02T21:45:39.857Z"
   },
   {
    "duration": 1590,
    "start_time": "2022-05-02T21:56:47.065Z"
   },
   {
    "duration": 82,
    "start_time": "2022-05-02T21:56:48.658Z"
   },
   {
    "duration": 21,
    "start_time": "2022-05-02T21:56:48.742Z"
   },
   {
    "duration": 33,
    "start_time": "2022-05-02T21:56:48.767Z"
   },
   {
    "duration": 8,
    "start_time": "2022-05-02T21:56:48.803Z"
   },
   {
    "duration": 8,
    "start_time": "2022-05-02T21:56:48.814Z"
   },
   {
    "duration": 18,
    "start_time": "2022-05-02T21:56:48.824Z"
   },
   {
    "duration": 19,
    "start_time": "2022-05-02T21:56:48.844Z"
   },
   {
    "duration": 18,
    "start_time": "2022-05-02T21:56:48.893Z"
   },
   {
    "duration": 14,
    "start_time": "2022-05-02T21:56:48.915Z"
   },
   {
    "duration": 17,
    "start_time": "2022-05-02T21:56:48.931Z"
   },
   {
    "duration": 47,
    "start_time": "2022-05-02T21:56:48.950Z"
   },
   {
    "duration": 34,
    "start_time": "2022-05-02T21:56:49.000Z"
   },
   {
    "duration": 58,
    "start_time": "2022-05-02T21:56:49.036Z"
   },
   {
    "duration": 28,
    "start_time": "2022-05-02T21:56:49.098Z"
   },
   {
    "duration": 19,
    "start_time": "2022-05-02T21:56:49.129Z"
   },
   {
    "duration": 42,
    "start_time": "2022-05-02T21:56:49.150Z"
   },
   {
    "duration": 72,
    "start_time": "2022-05-02T21:56:49.196Z"
   },
   {
    "duration": 38,
    "start_time": "2022-05-02T21:56:49.292Z"
   },
   {
    "duration": 21,
    "start_time": "2022-05-02T21:56:49.332Z"
   },
   {
    "duration": 39,
    "start_time": "2022-05-02T21:56:49.355Z"
   },
   {
    "duration": 36,
    "start_time": "2022-05-02T21:56:49.398Z"
   },
   {
    "duration": 13,
    "start_time": "2022-05-02T21:56:49.436Z"
   },
   {
    "duration": 23,
    "start_time": "2022-05-02T21:56:49.451Z"
   },
   {
    "duration": 24,
    "start_time": "2022-05-02T21:56:49.476Z"
   },
   {
    "duration": 15,
    "start_time": "2022-05-02T21:56:49.503Z"
   },
   {
    "duration": 23,
    "start_time": "2022-05-02T21:56:49.519Z"
   },
   {
    "duration": 6,
    "start_time": "2022-05-02T21:56:49.548Z"
   },
   {
    "duration": 61,
    "start_time": "2022-05-02T21:56:49.556Z"
   },
   {
    "duration": 32,
    "start_time": "2022-05-02T21:56:49.619Z"
   },
   {
    "duration": 59,
    "start_time": "2022-05-02T21:56:49.654Z"
   },
   {
    "duration": 5,
    "start_time": "2022-05-02T21:56:49.715Z"
   },
   {
    "duration": 9,
    "start_time": "2022-05-02T21:56:49.722Z"
   },
   {
    "duration": 7,
    "start_time": "2022-05-02T21:56:49.733Z"
   },
   {
    "duration": 13,
    "start_time": "2022-05-02T21:56:49.742Z"
   },
   {
    "duration": 37,
    "start_time": "2022-05-02T21:56:49.757Z"
   },
   {
    "duration": 8,
    "start_time": "2022-05-02T21:56:49.797Z"
   },
   {
    "duration": 26,
    "start_time": "2022-05-02T21:56:49.808Z"
   },
   {
    "duration": 6,
    "start_time": "2022-05-02T21:56:49.836Z"
   },
   {
    "duration": 5,
    "start_time": "2022-05-02T21:56:49.845Z"
   },
   {
    "duration": 45,
    "start_time": "2022-05-02T21:56:49.852Z"
   },
   {
    "duration": 7,
    "start_time": "2022-05-02T21:56:49.900Z"
   },
   {
    "duration": 18,
    "start_time": "2022-05-02T21:56:49.909Z"
   },
   {
    "duration": 8,
    "start_time": "2022-05-02T21:56:49.930Z"
   },
   {
    "duration": 54,
    "start_time": "2022-05-02T21:56:49.940Z"
   },
   {
    "duration": 24,
    "start_time": "2022-05-02T21:56:49.997Z"
   },
   {
    "duration": 24,
    "start_time": "2022-05-02T21:56:50.023Z"
   },
   {
    "duration": 14,
    "start_time": "2022-05-02T21:56:50.049Z"
   },
   {
    "duration": 17,
    "start_time": "2022-05-02T21:56:50.093Z"
   },
   {
    "duration": 13,
    "start_time": "2022-05-02T21:56:50.112Z"
   },
   {
    "duration": 10,
    "start_time": "2022-05-02T21:56:50.127Z"
   },
   {
    "duration": 21,
    "start_time": "2022-05-02T21:56:50.139Z"
   },
   {
    "duration": 43,
    "start_time": "2022-05-02T21:56:50.162Z"
   },
   {
    "duration": 117,
    "start_time": "2022-05-02T21:56:50.208Z"
   },
   {
    "duration": 13,
    "start_time": "2022-05-02T21:56:50.327Z"
   },
   {
    "duration": 3,
    "start_time": "2022-05-02T21:56:50.342Z"
   },
   {
    "duration": 65,
    "start_time": "2022-05-02T21:56:50.347Z"
   },
   {
    "duration": 55,
    "start_time": "2022-05-02T21:56:50.415Z"
   },
   {
    "duration": 5,
    "start_time": "2022-05-02T21:56:50.492Z"
   },
   {
    "duration": 2113,
    "start_time": "2022-05-02T21:56:50.500Z"
   },
   {
    "duration": 33,
    "start_time": "2022-05-02T21:56:52.615Z"
   },
   {
    "duration": 61,
    "start_time": "2022-05-02T21:56:52.650Z"
   },
   {
    "duration": 480,
    "start_time": "2022-05-02T21:56:52.713Z"
   },
   {
    "duration": 39,
    "start_time": "2022-05-02T21:56:53.197Z"
   },
   {
    "duration": 17,
    "start_time": "2022-05-02T21:56:53.238Z"
   },
   {
    "duration": 50,
    "start_time": "2022-05-02T21:56:53.257Z"
   },
   {
    "duration": 18,
    "start_time": "2022-05-02T21:56:53.310Z"
   },
   {
    "duration": 290,
    "start_time": "2022-05-02T21:56:53.330Z"
   },
   {
    "duration": 37,
    "start_time": "2022-05-02T21:56:53.623Z"
   },
   {
    "duration": 39,
    "start_time": "2022-05-02T21:56:53.663Z"
   },
   {
    "duration": 33,
    "start_time": "2022-05-02T21:56:53.705Z"
   },
   {
    "duration": 347,
    "start_time": "2022-05-02T21:56:53.741Z"
   },
   {
    "duration": 32,
    "start_time": "2022-05-02T21:56:54.090Z"
   },
   {
    "duration": 5,
    "start_time": "2022-05-02T21:56:54.125Z"
   },
   {
    "duration": 284,
    "start_time": "2022-05-02T21:56:54.132Z"
   },
   {
    "duration": 248,
    "start_time": "2022-05-02T21:56:54.418Z"
   },
   {
    "duration": 253,
    "start_time": "2022-05-02T21:56:54.668Z"
   },
   {
    "duration": 256,
    "start_time": "2022-05-02T21:56:54.923Z"
   },
   {
    "duration": 39,
    "start_time": "2022-05-02T21:56:55.181Z"
   },
   {
    "duration": 7,
    "start_time": "2022-05-02T21:56:55.223Z"
   },
   {
    "duration": 275,
    "start_time": "2022-05-02T21:56:55.232Z"
   },
   {
    "duration": 245,
    "start_time": "2022-05-02T21:56:55.517Z"
   },
   {
    "duration": 251,
    "start_time": "2022-05-02T21:56:55.764Z"
   },
   {
    "duration": 252,
    "start_time": "2022-05-02T21:56:56.017Z"
   },
   {
    "duration": 50,
    "start_time": "2022-05-02T21:56:56.271Z"
   },
   {
    "duration": 531,
    "start_time": "2022-05-02T21:56:56.324Z"
   },
   {
    "duration": 13,
    "start_time": "2022-05-02T21:56:56.858Z"
   },
   {
    "duration": 25,
    "start_time": "2022-05-02T21:56:56.873Z"
   },
   {
    "duration": 14,
    "start_time": "2022-05-02T21:56:56.902Z"
   },
   {
    "duration": 11,
    "start_time": "2022-05-02T21:56:56.919Z"
   },
   {
    "duration": 6,
    "start_time": "2022-05-02T21:56:56.932Z"
   },
   {
    "duration": 10,
    "start_time": "2022-05-02T21:56:56.940Z"
   },
   {
    "duration": 55,
    "start_time": "2022-05-02T21:56:56.952Z"
   },
   {
    "duration": 10,
    "start_time": "2022-05-02T21:56:57.009Z"
   },
   {
    "duration": 13,
    "start_time": "2022-05-02T21:56:57.021Z"
   },
   {
    "duration": 633,
    "start_time": "2022-05-02T21:56:57.036Z"
   },
   {
    "duration": 10,
    "start_time": "2022-05-02T21:56:57.672Z"
   },
   {
    "duration": 14,
    "start_time": "2022-05-02T21:56:57.684Z"
   },
   {
    "duration": 16,
    "start_time": "2022-05-02T21:56:57.701Z"
   },
   {
    "duration": 12,
    "start_time": "2022-05-02T21:56:57.719Z"
   },
   {
    "duration": 5,
    "start_time": "2022-05-02T21:56:57.733Z"
   },
   {
    "duration": 8,
    "start_time": "2022-05-02T21:56:57.740Z"
   },
   {
    "duration": 56,
    "start_time": "2022-05-02T21:56:57.750Z"
   },
   {
    "duration": 6,
    "start_time": "2022-05-02T21:56:57.809Z"
   },
   {
    "duration": 10,
    "start_time": "2022-05-02T21:56:57.817Z"
   },
   {
    "duration": 554,
    "start_time": "2022-05-02T21:56:57.829Z"
   },
   {
    "duration": 19,
    "start_time": "2022-05-02T21:56:58.385Z"
   },
   {
    "duration": 14,
    "start_time": "2022-05-02T21:56:58.407Z"
   },
   {
    "duration": 9,
    "start_time": "2022-05-02T21:56:58.424Z"
   },
   {
    "duration": 5,
    "start_time": "2022-05-02T21:56:58.436Z"
   },
   {
    "duration": 199,
    "start_time": "2022-05-02T21:56:58.443Z"
   },
   {
    "duration": 0,
    "start_time": "2022-05-02T21:56:58.644Z"
   },
   {
    "duration": 1,
    "start_time": "2022-05-02T21:56:58.645Z"
   },
   {
    "duration": 0,
    "start_time": "2022-05-02T21:56:58.647Z"
   },
   {
    "duration": 0,
    "start_time": "2022-05-02T21:56:58.649Z"
   },
   {
    "duration": 0,
    "start_time": "2022-05-02T21:56:58.650Z"
   },
   {
    "duration": 0,
    "start_time": "2022-05-02T21:56:58.651Z"
   },
   {
    "duration": 0,
    "start_time": "2022-05-02T21:56:58.653Z"
   },
   {
    "duration": 0,
    "start_time": "2022-05-02T21:56:58.654Z"
   },
   {
    "duration": 0,
    "start_time": "2022-05-02T21:56:58.656Z"
   },
   {
    "duration": 13,
    "start_time": "2022-05-02T21:59:33.025Z"
   },
   {
    "duration": 12,
    "start_time": "2022-05-02T21:59:46.364Z"
   },
   {
    "duration": 523,
    "start_time": "2022-05-02T22:04:42.734Z"
   },
   {
    "duration": 513,
    "start_time": "2022-05-02T22:05:08.823Z"
   },
   {
    "duration": 4,
    "start_time": "2022-05-02T22:05:30.418Z"
   },
   {
    "duration": 76,
    "start_time": "2022-05-02T22:05:30.431Z"
   },
   {
    "duration": 21,
    "start_time": "2022-05-02T22:05:30.510Z"
   },
   {
    "duration": 6,
    "start_time": "2022-05-02T22:05:30.533Z"
   },
   {
    "duration": 20,
    "start_time": "2022-05-02T22:05:30.542Z"
   },
   {
    "duration": 31,
    "start_time": "2022-05-02T22:05:30.564Z"
   },
   {
    "duration": 34,
    "start_time": "2022-05-02T22:05:30.598Z"
   },
   {
    "duration": 26,
    "start_time": "2022-05-02T22:05:30.635Z"
   },
   {
    "duration": 30,
    "start_time": "2022-05-02T22:05:30.663Z"
   },
   {
    "duration": 33,
    "start_time": "2022-05-02T22:05:30.697Z"
   },
   {
    "duration": 25,
    "start_time": "2022-05-02T22:05:30.735Z"
   },
   {
    "duration": 28,
    "start_time": "2022-05-02T22:05:30.763Z"
   },
   {
    "duration": 53,
    "start_time": "2022-05-02T22:05:30.794Z"
   },
   {
    "duration": 34,
    "start_time": "2022-05-02T22:05:30.850Z"
   },
   {
    "duration": 28,
    "start_time": "2022-05-02T22:05:30.895Z"
   },
   {
    "duration": 31,
    "start_time": "2022-05-02T22:05:30.925Z"
   },
   {
    "duration": 52,
    "start_time": "2022-05-02T22:05:30.959Z"
   },
   {
    "duration": 98,
    "start_time": "2022-05-02T22:05:31.014Z"
   },
   {
    "duration": 30,
    "start_time": "2022-05-02T22:05:31.115Z"
   },
   {
    "duration": 55,
    "start_time": "2022-05-02T22:05:31.148Z"
   },
   {
    "duration": 14,
    "start_time": "2022-05-02T22:05:31.206Z"
   },
   {
    "duration": 28,
    "start_time": "2022-05-02T22:05:31.222Z"
   },
   {
    "duration": 45,
    "start_time": "2022-05-02T22:05:31.252Z"
   },
   {
    "duration": 23,
    "start_time": "2022-05-02T22:05:31.300Z"
   },
   {
    "duration": 7,
    "start_time": "2022-05-02T22:05:31.326Z"
   },
   {
    "duration": 11,
    "start_time": "2022-05-02T22:05:31.335Z"
   },
   {
    "duration": 68,
    "start_time": "2022-05-02T22:05:31.348Z"
   },
   {
    "duration": 6,
    "start_time": "2022-05-02T22:05:31.419Z"
   },
   {
    "duration": 25,
    "start_time": "2022-05-02T22:05:31.432Z"
   },
   {
    "duration": 72,
    "start_time": "2022-05-02T22:05:31.459Z"
   },
   {
    "duration": 70,
    "start_time": "2022-05-02T22:05:31.534Z"
   },
   {
    "duration": 37,
    "start_time": "2022-05-02T22:05:31.607Z"
   },
   {
    "duration": 64,
    "start_time": "2022-05-02T22:05:31.646Z"
   },
   {
    "duration": 39,
    "start_time": "2022-05-02T22:05:31.713Z"
   },
   {
    "duration": 20,
    "start_time": "2022-05-02T22:05:31.754Z"
   },
   {
    "duration": 21,
    "start_time": "2022-05-02T22:05:31.776Z"
   },
   {
    "duration": 25,
    "start_time": "2022-05-02T22:05:31.800Z"
   },
   {
    "duration": 26,
    "start_time": "2022-05-02T22:05:31.827Z"
   },
   {
    "duration": 8,
    "start_time": "2022-05-02T22:05:31.855Z"
   },
   {
    "duration": 16,
    "start_time": "2022-05-02T22:05:31.865Z"
   },
   {
    "duration": 21,
    "start_time": "2022-05-02T22:05:31.892Z"
   },
   {
    "duration": 22,
    "start_time": "2022-05-02T22:05:31.916Z"
   },
   {
    "duration": 28,
    "start_time": "2022-05-02T22:05:31.941Z"
   },
   {
    "duration": 12,
    "start_time": "2022-05-02T22:05:31.971Z"
   },
   {
    "duration": 36,
    "start_time": "2022-05-02T22:05:31.986Z"
   },
   {
    "duration": 20,
    "start_time": "2022-05-02T22:05:32.024Z"
   },
   {
    "duration": 28,
    "start_time": "2022-05-02T22:05:32.046Z"
   },
   {
    "duration": 21,
    "start_time": "2022-05-02T22:05:32.076Z"
   },
   {
    "duration": 17,
    "start_time": "2022-05-02T22:05:32.100Z"
   },
   {
    "duration": 20,
    "start_time": "2022-05-02T22:05:32.119Z"
   },
   {
    "duration": 16,
    "start_time": "2022-05-02T22:05:32.141Z"
   },
   {
    "duration": 40,
    "start_time": "2022-05-02T22:05:32.159Z"
   },
   {
    "duration": 24,
    "start_time": "2022-05-02T22:05:32.202Z"
   },
   {
    "duration": 109,
    "start_time": "2022-05-02T22:05:32.228Z"
   },
   {
    "duration": 12,
    "start_time": "2022-05-02T22:05:32.339Z"
   },
   {
    "duration": 4,
    "start_time": "2022-05-02T22:05:32.353Z"
   },
   {
    "duration": 67,
    "start_time": "2022-05-02T22:05:32.359Z"
   },
   {
    "duration": 65,
    "start_time": "2022-05-02T22:05:32.428Z"
   },
   {
    "duration": 5,
    "start_time": "2022-05-02T22:05:32.496Z"
   },
   {
    "duration": 2156,
    "start_time": "2022-05-02T22:05:32.504Z"
   },
   {
    "duration": 50,
    "start_time": "2022-05-02T22:05:34.663Z"
   },
   {
    "duration": 32,
    "start_time": "2022-05-02T22:05:34.716Z"
   },
   {
    "duration": 497,
    "start_time": "2022-05-02T22:05:34.750Z"
   },
   {
    "duration": 54,
    "start_time": "2022-05-02T22:05:35.249Z"
   },
   {
    "duration": 19,
    "start_time": "2022-05-02T22:05:35.307Z"
   },
   {
    "duration": 16,
    "start_time": "2022-05-02T22:05:35.328Z"
   },
   {
    "duration": 33,
    "start_time": "2022-05-02T22:05:35.346Z"
   },
   {
    "duration": 327,
    "start_time": "2022-05-02T22:05:35.393Z"
   },
   {
    "duration": 37,
    "start_time": "2022-05-02T22:05:35.722Z"
   },
   {
    "duration": 39,
    "start_time": "2022-05-02T22:05:35.762Z"
   },
   {
    "duration": 40,
    "start_time": "2022-05-02T22:05:35.804Z"
   },
   {
    "duration": 325,
    "start_time": "2022-05-02T22:05:35.846Z"
   },
   {
    "duration": 36,
    "start_time": "2022-05-02T22:05:36.174Z"
   },
   {
    "duration": 5,
    "start_time": "2022-05-02T22:05:36.213Z"
   },
   {
    "duration": 270,
    "start_time": "2022-05-02T22:05:36.220Z"
   },
   {
    "duration": 248,
    "start_time": "2022-05-02T22:05:36.492Z"
   },
   {
    "duration": 243,
    "start_time": "2022-05-02T22:05:36.742Z"
   },
   {
    "duration": 270,
    "start_time": "2022-05-02T22:05:36.988Z"
   },
   {
    "duration": 50,
    "start_time": "2022-05-02T22:05:37.261Z"
   },
   {
    "duration": 6,
    "start_time": "2022-05-02T22:05:37.313Z"
   },
   {
    "duration": 252,
    "start_time": "2022-05-02T22:05:37.321Z"
   },
   {
    "duration": 250,
    "start_time": "2022-05-02T22:05:37.581Z"
   },
   {
    "duration": 354,
    "start_time": "2022-05-02T22:05:37.833Z"
   },
   {
    "duration": 259,
    "start_time": "2022-05-02T22:05:38.194Z"
   },
   {
    "duration": 53,
    "start_time": "2022-05-02T22:05:38.455Z"
   },
   {
    "duration": 497,
    "start_time": "2022-05-02T22:05:38.511Z"
   },
   {
    "duration": 11,
    "start_time": "2022-05-02T22:05:39.010Z"
   },
   {
    "duration": 7,
    "start_time": "2022-05-02T22:05:39.024Z"
   },
   {
    "duration": 8,
    "start_time": "2022-05-02T22:05:39.034Z"
   },
   {
    "duration": 51,
    "start_time": "2022-05-02T22:05:39.044Z"
   },
   {
    "duration": 9,
    "start_time": "2022-05-02T22:05:39.098Z"
   },
   {
    "duration": 14,
    "start_time": "2022-05-02T22:05:39.109Z"
   },
   {
    "duration": 13,
    "start_time": "2022-05-02T22:05:39.125Z"
   },
   {
    "duration": 6,
    "start_time": "2022-05-02T22:05:39.141Z"
   },
   {
    "duration": 48,
    "start_time": "2022-05-02T22:05:39.149Z"
   },
   {
    "duration": 545,
    "start_time": "2022-05-02T22:05:39.200Z"
   },
   {
    "duration": 0,
    "start_time": "2022-05-02T22:05:39.748Z"
   },
   {
    "duration": 0,
    "start_time": "2022-05-02T22:05:39.750Z"
   },
   {
    "duration": 0,
    "start_time": "2022-05-02T22:05:39.752Z"
   },
   {
    "duration": 0,
    "start_time": "2022-05-02T22:05:39.754Z"
   },
   {
    "duration": 0,
    "start_time": "2022-05-02T22:05:39.756Z"
   },
   {
    "duration": 0,
    "start_time": "2022-05-02T22:05:39.758Z"
   },
   {
    "duration": 0,
    "start_time": "2022-05-02T22:05:39.759Z"
   },
   {
    "duration": 0,
    "start_time": "2022-05-02T22:05:39.760Z"
   },
   {
    "duration": 0,
    "start_time": "2022-05-02T22:05:39.762Z"
   },
   {
    "duration": 0,
    "start_time": "2022-05-02T22:05:39.795Z"
   },
   {
    "duration": 0,
    "start_time": "2022-05-02T22:05:39.797Z"
   },
   {
    "duration": 0,
    "start_time": "2022-05-02T22:05:39.800Z"
   },
   {
    "duration": 0,
    "start_time": "2022-05-02T22:05:39.802Z"
   },
   {
    "duration": 536,
    "start_time": "2022-05-02T22:06:43.263Z"
   },
   {
    "duration": 11,
    "start_time": "2022-05-02T22:06:50.132Z"
   },
   {
    "duration": 7,
    "start_time": "2022-05-02T22:06:51.856Z"
   },
   {
    "duration": 8,
    "start_time": "2022-05-02T22:06:52.775Z"
   },
   {
    "duration": 11,
    "start_time": "2022-05-02T22:06:54.171Z"
   },
   {
    "duration": 7,
    "start_time": "2022-05-02T22:06:54.846Z"
   },
   {
    "duration": 7,
    "start_time": "2022-05-02T22:06:55.548Z"
   },
   {
    "duration": 11,
    "start_time": "2022-05-02T22:06:56.843Z"
   },
   {
    "duration": 7,
    "start_time": "2022-05-02T22:06:57.805Z"
   },
   {
    "duration": 10,
    "start_time": "2022-05-02T22:06:58.511Z"
   },
   {
    "duration": 505,
    "start_time": "2022-05-02T22:07:00.222Z"
   },
   {
    "duration": 6,
    "start_time": "2022-05-02T22:07:51.678Z"
   },
   {
    "duration": 534,
    "start_time": "2022-05-02T22:08:22.323Z"
   },
   {
    "duration": 528,
    "start_time": "2022-05-02T22:09:15.224Z"
   },
   {
    "duration": 626,
    "start_time": "2022-05-02T22:09:33.119Z"
   },
   {
    "duration": 14,
    "start_time": "2022-05-02T22:09:50.626Z"
   },
   {
    "duration": 5,
    "start_time": "2022-05-02T22:10:01.079Z"
   },
   {
    "duration": 197,
    "start_time": "2022-05-02T22:10:01.094Z"
   },
   {
    "duration": 31,
    "start_time": "2022-05-02T22:10:01.295Z"
   },
   {
    "duration": 6,
    "start_time": "2022-05-02T22:10:01.328Z"
   },
   {
    "duration": 26,
    "start_time": "2022-05-02T22:10:01.337Z"
   },
   {
    "duration": 29,
    "start_time": "2022-05-02T22:10:01.366Z"
   },
   {
    "duration": 40,
    "start_time": "2022-05-02T22:10:01.399Z"
   },
   {
    "duration": 21,
    "start_time": "2022-05-02T22:10:01.442Z"
   },
   {
    "duration": 32,
    "start_time": "2022-05-02T22:10:01.466Z"
   },
   {
    "duration": 16,
    "start_time": "2022-05-02T22:10:01.506Z"
   },
   {
    "duration": 21,
    "start_time": "2022-05-02T22:10:01.526Z"
   },
   {
    "duration": 45,
    "start_time": "2022-05-02T22:10:01.550Z"
   },
   {
    "duration": 41,
    "start_time": "2022-05-02T22:10:01.599Z"
   },
   {
    "duration": 52,
    "start_time": "2022-05-02T22:10:01.642Z"
   },
   {
    "duration": 32,
    "start_time": "2022-05-02T22:10:01.697Z"
   },
   {
    "duration": 25,
    "start_time": "2022-05-02T22:10:01.731Z"
   },
   {
    "duration": 59,
    "start_time": "2022-05-02T22:10:01.758Z"
   },
   {
    "duration": 107,
    "start_time": "2022-05-02T22:10:01.819Z"
   },
   {
    "duration": 32,
    "start_time": "2022-05-02T22:10:01.928Z"
   },
   {
    "duration": 66,
    "start_time": "2022-05-02T22:10:01.962Z"
   },
   {
    "duration": 21,
    "start_time": "2022-05-02T22:10:02.030Z"
   },
   {
    "duration": 39,
    "start_time": "2022-05-02T22:10:02.053Z"
   },
   {
    "duration": 37,
    "start_time": "2022-05-02T22:10:02.095Z"
   },
   {
    "duration": 21,
    "start_time": "2022-05-02T22:10:02.134Z"
   },
   {
    "duration": 27,
    "start_time": "2022-05-02T22:10:02.157Z"
   },
   {
    "duration": 46,
    "start_time": "2022-05-02T22:10:02.187Z"
   },
   {
    "duration": 38,
    "start_time": "2022-05-02T22:10:02.236Z"
   },
   {
    "duration": 8,
    "start_time": "2022-05-02T22:10:02.277Z"
   },
   {
    "duration": 40,
    "start_time": "2022-05-02T22:10:02.291Z"
   },
   {
    "duration": 35,
    "start_time": "2022-05-02T22:10:02.333Z"
   },
   {
    "duration": 59,
    "start_time": "2022-05-02T22:10:02.371Z"
   },
   {
    "duration": 7,
    "start_time": "2022-05-02T22:10:02.432Z"
   },
   {
    "duration": 24,
    "start_time": "2022-05-02T22:10:02.441Z"
   },
   {
    "duration": 13,
    "start_time": "2022-05-02T22:10:02.468Z"
   },
   {
    "duration": 22,
    "start_time": "2022-05-02T22:10:02.484Z"
   },
   {
    "duration": 20,
    "start_time": "2022-05-02T22:10:02.509Z"
   },
   {
    "duration": 8,
    "start_time": "2022-05-02T22:10:02.531Z"
   },
   {
    "duration": 36,
    "start_time": "2022-05-02T22:10:02.541Z"
   },
   {
    "duration": 17,
    "start_time": "2022-05-02T22:10:02.580Z"
   },
   {
    "duration": 22,
    "start_time": "2022-05-02T22:10:02.600Z"
   },
   {
    "duration": 7,
    "start_time": "2022-05-02T22:10:02.624Z"
   },
   {
    "duration": 7,
    "start_time": "2022-05-02T22:10:02.633Z"
   },
   {
    "duration": 15,
    "start_time": "2022-05-02T22:10:02.642Z"
   },
   {
    "duration": 34,
    "start_time": "2022-05-02T22:10:02.659Z"
   },
   {
    "duration": 26,
    "start_time": "2022-05-02T22:10:02.697Z"
   },
   {
    "duration": 19,
    "start_time": "2022-05-02T22:10:02.725Z"
   },
   {
    "duration": 56,
    "start_time": "2022-05-02T22:10:02.747Z"
   },
   {
    "duration": 18,
    "start_time": "2022-05-02T22:10:02.806Z"
   },
   {
    "duration": 10,
    "start_time": "2022-05-02T22:10:02.826Z"
   },
   {
    "duration": 22,
    "start_time": "2022-05-02T22:10:02.838Z"
   },
   {
    "duration": 51,
    "start_time": "2022-05-02T22:10:02.862Z"
   },
   {
    "duration": 36,
    "start_time": "2022-05-02T22:10:02.915Z"
   },
   {
    "duration": 16,
    "start_time": "2022-05-02T22:10:02.953Z"
   },
   {
    "duration": 112,
    "start_time": "2022-05-02T22:10:02.972Z"
   },
   {
    "duration": 18,
    "start_time": "2022-05-02T22:10:03.086Z"
   },
   {
    "duration": 9,
    "start_time": "2022-05-02T22:10:03.107Z"
   },
   {
    "duration": 38,
    "start_time": "2022-05-02T22:10:03.118Z"
   },
   {
    "duration": 94,
    "start_time": "2022-05-02T22:10:03.159Z"
   },
   {
    "duration": 3,
    "start_time": "2022-05-02T22:10:03.255Z"
   },
   {
    "duration": 2193,
    "start_time": "2022-05-02T22:10:03.261Z"
   },
   {
    "duration": 50,
    "start_time": "2022-05-02T22:10:05.457Z"
   },
   {
    "duration": 36,
    "start_time": "2022-05-02T22:10:05.511Z"
   },
   {
    "duration": 512,
    "start_time": "2022-05-02T22:10:05.550Z"
   },
   {
    "duration": 55,
    "start_time": "2022-05-02T22:10:06.064Z"
   },
   {
    "duration": 23,
    "start_time": "2022-05-02T22:10:06.122Z"
   },
   {
    "duration": 15,
    "start_time": "2022-05-02T22:10:06.147Z"
   },
   {
    "duration": 21,
    "start_time": "2022-05-02T22:10:06.195Z"
   },
   {
    "duration": 288,
    "start_time": "2022-05-02T22:10:06.218Z"
   },
   {
    "duration": 37,
    "start_time": "2022-05-02T22:10:06.509Z"
   },
   {
    "duration": 11,
    "start_time": "2022-05-02T22:10:06.548Z"
   },
   {
    "duration": 59,
    "start_time": "2022-05-02T22:10:06.562Z"
   },
   {
    "duration": 263,
    "start_time": "2022-05-02T22:10:06.624Z"
   },
   {
    "duration": 34,
    "start_time": "2022-05-02T22:10:06.894Z"
   },
   {
    "duration": 5,
    "start_time": "2022-05-02T22:10:06.930Z"
   },
   {
    "duration": 407,
    "start_time": "2022-05-02T22:10:06.937Z"
   },
   {
    "duration": 277,
    "start_time": "2022-05-02T22:10:07.347Z"
   },
   {
    "duration": 273,
    "start_time": "2022-05-02T22:10:07.626Z"
   },
   {
    "duration": 272,
    "start_time": "2022-05-02T22:10:07.902Z"
   },
   {
    "duration": 38,
    "start_time": "2022-05-02T22:10:08.176Z"
   },
   {
    "duration": 9,
    "start_time": "2022-05-02T22:10:08.217Z"
   },
   {
    "duration": 295,
    "start_time": "2022-05-02T22:10:08.228Z"
   },
   {
    "duration": 256,
    "start_time": "2022-05-02T22:10:08.526Z"
   },
   {
    "duration": 259,
    "start_time": "2022-05-02T22:10:08.796Z"
   },
   {
    "duration": 266,
    "start_time": "2022-05-02T22:10:09.057Z"
   },
   {
    "duration": 35,
    "start_time": "2022-05-02T22:10:09.325Z"
   },
   {
    "duration": 531,
    "start_time": "2022-05-02T22:10:09.362Z"
   },
   {
    "duration": 16,
    "start_time": "2022-05-02T22:10:09.897Z"
   },
   {
    "duration": 11,
    "start_time": "2022-05-02T22:10:09.916Z"
   },
   {
    "duration": 9,
    "start_time": "2022-05-02T22:10:09.929Z"
   },
   {
    "duration": 18,
    "start_time": "2022-05-02T22:10:09.940Z"
   },
   {
    "duration": 37,
    "start_time": "2022-05-02T22:10:09.960Z"
   },
   {
    "duration": 22,
    "start_time": "2022-05-02T22:10:10.000Z"
   },
   {
    "duration": 13,
    "start_time": "2022-05-02T22:10:10.025Z"
   },
   {
    "duration": 6,
    "start_time": "2022-05-02T22:10:10.040Z"
   },
   {
    "duration": 47,
    "start_time": "2022-05-02T22:10:10.049Z"
   },
   {
    "duration": 552,
    "start_time": "2022-05-02T22:10:10.099Z"
   },
   {
    "duration": 12,
    "start_time": "2022-05-02T22:10:10.654Z"
   },
   {
    "duration": 34,
    "start_time": "2022-05-02T22:10:10.669Z"
   },
   {
    "duration": 12,
    "start_time": "2022-05-02T22:10:10.706Z"
   },
   {
    "duration": 14,
    "start_time": "2022-05-02T22:10:10.721Z"
   },
   {
    "duration": 8,
    "start_time": "2022-05-02T22:10:10.738Z"
   },
   {
    "duration": 44,
    "start_time": "2022-05-02T22:10:10.749Z"
   },
   {
    "duration": 17,
    "start_time": "2022-05-02T22:10:10.797Z"
   },
   {
    "duration": 10,
    "start_time": "2022-05-02T22:10:10.816Z"
   },
   {
    "duration": 11,
    "start_time": "2022-05-02T22:10:10.828Z"
   },
   {
    "duration": 683,
    "start_time": "2022-05-02T22:10:10.842Z"
   },
   {
    "duration": 11,
    "start_time": "2022-05-02T22:10:11.527Z"
   },
   {
    "duration": 16,
    "start_time": "2022-05-02T22:10:11.541Z"
   },
   {
    "duration": 36,
    "start_time": "2022-05-02T22:10:11.559Z"
   },
   {
    "duration": 26,
    "start_time": "2022-05-02T22:10:11.598Z"
   },
   {
    "duration": 37,
    "start_time": "2022-05-02T22:10:24.761Z"
   },
   {
    "duration": 43,
    "start_time": "2022-05-02T22:10:29.093Z"
   },
   {
    "duration": 1721,
    "start_time": "2022-05-02T22:11:24.752Z"
   },
   {
    "duration": 85,
    "start_time": "2022-05-02T22:11:26.476Z"
   },
   {
    "duration": 34,
    "start_time": "2022-05-02T22:11:26.563Z"
   },
   {
    "duration": 18,
    "start_time": "2022-05-02T22:11:26.601Z"
   },
   {
    "duration": 8,
    "start_time": "2022-05-02T22:11:26.622Z"
   },
   {
    "duration": 11,
    "start_time": "2022-05-02T22:11:26.632Z"
   },
   {
    "duration": 17,
    "start_time": "2022-05-02T22:11:26.646Z"
   },
   {
    "duration": 51,
    "start_time": "2022-05-02T22:11:26.666Z"
   },
   {
    "duration": 12,
    "start_time": "2022-05-02T22:11:26.720Z"
   },
   {
    "duration": 19,
    "start_time": "2022-05-02T22:11:26.738Z"
   },
   {
    "duration": 57,
    "start_time": "2022-05-02T22:11:26.759Z"
   },
   {
    "duration": 20,
    "start_time": "2022-05-02T22:11:26.819Z"
   },
   {
    "duration": 63,
    "start_time": "2022-05-02T22:11:26.842Z"
   },
   {
    "duration": 43,
    "start_time": "2022-05-02T22:11:26.908Z"
   },
   {
    "duration": 21,
    "start_time": "2022-05-02T22:11:26.954Z"
   },
   {
    "duration": 29,
    "start_time": "2022-05-02T22:11:26.993Z"
   },
   {
    "duration": 25,
    "start_time": "2022-05-02T22:11:27.025Z"
   },
   {
    "duration": 102,
    "start_time": "2022-05-02T22:11:27.052Z"
   },
   {
    "duration": 37,
    "start_time": "2022-05-02T22:11:27.156Z"
   },
   {
    "duration": 29,
    "start_time": "2022-05-02T22:11:27.196Z"
   },
   {
    "duration": 11,
    "start_time": "2022-05-02T22:11:27.227Z"
   },
   {
    "duration": 29,
    "start_time": "2022-05-02T22:11:27.240Z"
   },
   {
    "duration": 37,
    "start_time": "2022-05-02T22:11:27.271Z"
   },
   {
    "duration": 23,
    "start_time": "2022-05-02T22:11:27.312Z"
   },
   {
    "duration": 9,
    "start_time": "2022-05-02T22:11:27.337Z"
   },
   {
    "duration": 7,
    "start_time": "2022-05-02T22:11:27.348Z"
   },
   {
    "duration": 62,
    "start_time": "2022-05-02T22:11:27.357Z"
   },
   {
    "duration": 7,
    "start_time": "2022-05-02T22:11:27.425Z"
   },
   {
    "duration": 24,
    "start_time": "2022-05-02T22:11:27.434Z"
   },
   {
    "duration": 70,
    "start_time": "2022-05-02T22:11:27.459Z"
   },
   {
    "duration": 31,
    "start_time": "2022-05-02T22:11:27.531Z"
   },
   {
    "duration": 31,
    "start_time": "2022-05-02T22:11:27.564Z"
   },
   {
    "duration": 11,
    "start_time": "2022-05-02T22:11:27.599Z"
   },
   {
    "duration": 10,
    "start_time": "2022-05-02T22:11:27.612Z"
   },
   {
    "duration": 12,
    "start_time": "2022-05-02T22:11:27.624Z"
   },
   {
    "duration": 7,
    "start_time": "2022-05-02T22:11:27.638Z"
   },
   {
    "duration": 46,
    "start_time": "2022-05-02T22:11:27.647Z"
   },
   {
    "duration": 27,
    "start_time": "2022-05-02T22:11:27.696Z"
   },
   {
    "duration": 6,
    "start_time": "2022-05-02T22:11:27.725Z"
   },
   {
    "duration": 7,
    "start_time": "2022-05-02T22:11:27.733Z"
   },
   {
    "duration": 10,
    "start_time": "2022-05-02T22:11:27.742Z"
   },
   {
    "duration": 39,
    "start_time": "2022-05-02T22:11:27.754Z"
   },
   {
    "duration": 20,
    "start_time": "2022-05-02T22:11:27.797Z"
   },
   {
    "duration": 9,
    "start_time": "2022-05-02T22:11:27.819Z"
   },
   {
    "duration": 23,
    "start_time": "2022-05-02T22:11:27.830Z"
   },
   {
    "duration": 57,
    "start_time": "2022-05-02T22:11:27.856Z"
   },
   {
    "duration": 23,
    "start_time": "2022-05-02T22:11:27.917Z"
   },
   {
    "duration": 16,
    "start_time": "2022-05-02T22:11:27.942Z"
   },
   {
    "duration": 39,
    "start_time": "2022-05-02T22:11:27.961Z"
   },
   {
    "duration": 19,
    "start_time": "2022-05-02T22:11:28.003Z"
   },
   {
    "duration": 7,
    "start_time": "2022-05-02T22:11:28.025Z"
   },
   {
    "duration": 22,
    "start_time": "2022-05-02T22:11:28.034Z"
   },
   {
    "duration": 17,
    "start_time": "2022-05-02T22:11:28.093Z"
   },
   {
    "duration": 123,
    "start_time": "2022-05-02T22:11:28.113Z"
   },
   {
    "duration": 12,
    "start_time": "2022-05-02T22:11:28.238Z"
   },
   {
    "duration": 3,
    "start_time": "2022-05-02T22:11:28.253Z"
   },
   {
    "duration": 73,
    "start_time": "2022-05-02T22:11:28.258Z"
   },
   {
    "duration": 68,
    "start_time": "2022-05-02T22:11:28.334Z"
   },
   {
    "duration": 5,
    "start_time": "2022-05-02T22:11:28.405Z"
   },
   {
    "duration": 2264,
    "start_time": "2022-05-02T22:11:28.412Z"
   },
   {
    "duration": 48,
    "start_time": "2022-05-02T22:11:30.678Z"
   },
   {
    "duration": 34,
    "start_time": "2022-05-02T22:11:30.728Z"
   },
   {
    "duration": 548,
    "start_time": "2022-05-02T22:11:30.765Z"
   },
   {
    "duration": 42,
    "start_time": "2022-05-02T22:11:31.315Z"
   },
   {
    "duration": 52,
    "start_time": "2022-05-02T22:11:31.360Z"
   },
   {
    "duration": 28,
    "start_time": "2022-05-02T22:11:31.414Z"
   },
   {
    "duration": 23,
    "start_time": "2022-05-02T22:11:31.444Z"
   },
   {
    "duration": 280,
    "start_time": "2022-05-02T22:11:31.469Z"
   },
   {
    "duration": 60,
    "start_time": "2022-05-02T22:11:31.752Z"
   },
   {
    "duration": 31,
    "start_time": "2022-05-02T22:11:31.814Z"
   },
   {
    "duration": 21,
    "start_time": "2022-05-02T22:11:31.847Z"
   },
   {
    "duration": 349,
    "start_time": "2022-05-02T22:11:31.870Z"
   },
   {
    "duration": 31,
    "start_time": "2022-05-02T22:11:32.222Z"
   },
   {
    "duration": 11,
    "start_time": "2022-05-02T22:11:32.255Z"
   },
   {
    "duration": 304,
    "start_time": "2022-05-02T22:11:32.268Z"
   },
   {
    "duration": 260,
    "start_time": "2022-05-02T22:11:32.574Z"
   },
   {
    "duration": 252,
    "start_time": "2022-05-02T22:11:32.836Z"
   },
   {
    "duration": 266,
    "start_time": "2022-05-02T22:11:33.093Z"
   },
   {
    "duration": 37,
    "start_time": "2022-05-02T22:11:33.361Z"
   },
   {
    "duration": 9,
    "start_time": "2022-05-02T22:11:33.402Z"
   },
   {
    "duration": 284,
    "start_time": "2022-05-02T22:11:33.414Z"
   },
   {
    "duration": 251,
    "start_time": "2022-05-02T22:11:33.714Z"
   },
   {
    "duration": 263,
    "start_time": "2022-05-02T22:11:33.967Z"
   },
   {
    "duration": 264,
    "start_time": "2022-05-02T22:11:34.232Z"
   },
   {
    "duration": 37,
    "start_time": "2022-05-02T22:11:34.499Z"
   },
   {
    "duration": 537,
    "start_time": "2022-05-02T22:11:34.538Z"
   },
   {
    "duration": 25,
    "start_time": "2022-05-02T22:11:35.077Z"
   },
   {
    "duration": 17,
    "start_time": "2022-05-02T22:11:35.105Z"
   },
   {
    "duration": 16,
    "start_time": "2022-05-02T22:11:35.124Z"
   },
   {
    "duration": 57,
    "start_time": "2022-05-02T22:11:35.142Z"
   },
   {
    "duration": 37,
    "start_time": "2022-05-02T22:11:35.202Z"
   },
   {
    "duration": 31,
    "start_time": "2022-05-02T22:11:35.241Z"
   },
   {
    "duration": 43,
    "start_time": "2022-05-02T22:11:35.274Z"
   },
   {
    "duration": 5,
    "start_time": "2022-05-02T22:11:35.319Z"
   },
   {
    "duration": 10,
    "start_time": "2022-05-02T22:11:35.326Z"
   },
   {
    "duration": 643,
    "start_time": "2022-05-02T22:11:35.338Z"
   },
   {
    "duration": 11,
    "start_time": "2022-05-02T22:11:35.983Z"
   },
   {
    "duration": 28,
    "start_time": "2022-05-02T22:11:35.997Z"
   },
   {
    "duration": 10,
    "start_time": "2022-05-02T22:11:36.027Z"
   },
   {
    "duration": 12,
    "start_time": "2022-05-02T22:11:36.039Z"
   },
   {
    "duration": 5,
    "start_time": "2022-05-02T22:11:36.053Z"
   },
   {
    "duration": 8,
    "start_time": "2022-05-02T22:11:36.060Z"
   },
   {
    "duration": 12,
    "start_time": "2022-05-02T22:11:36.094Z"
   },
   {
    "duration": 20,
    "start_time": "2022-05-02T22:11:36.108Z"
   },
   {
    "duration": 10,
    "start_time": "2022-05-02T22:11:36.131Z"
   },
   {
    "duration": 573,
    "start_time": "2022-05-02T22:11:36.144Z"
   },
   {
    "duration": 10,
    "start_time": "2022-05-02T22:11:36.719Z"
   },
   {
    "duration": 12,
    "start_time": "2022-05-02T22:11:36.731Z"
   },
   {
    "duration": 9,
    "start_time": "2022-05-02T22:11:36.745Z"
   },
   {
    "duration": 30,
    "start_time": "2022-05-02T22:11:36.793Z"
   },
   {
    "duration": 41,
    "start_time": "2022-05-02T22:11:36.825Z"
   },
   {
    "duration": 63,
    "start_time": "2022-05-02T22:11:36.868Z"
   },
   {
    "duration": 8,
    "start_time": "2022-05-02T22:11:36.933Z"
   },
   {
    "duration": 8,
    "start_time": "2022-05-02T22:11:36.943Z"
   },
   {
    "duration": 41,
    "start_time": "2022-05-02T22:11:36.954Z"
   },
   {
    "duration": 45,
    "start_time": "2022-05-02T22:11:36.999Z"
   },
   {
    "duration": 67,
    "start_time": "2022-05-02T22:11:37.047Z"
   },
   {
    "duration": 7,
    "start_time": "2022-05-02T22:11:37.116Z"
   },
   {
    "duration": 8,
    "start_time": "2022-05-02T22:11:37.126Z"
   },
   {
    "duration": 6,
    "start_time": "2022-05-02T22:11:37.136Z"
   },
   {
    "duration": 81,
    "start_time": "2022-05-03T19:56:52.367Z"
   },
   {
    "duration": 1577,
    "start_time": "2022-05-03T19:57:09.074Z"
   },
   {
    "duration": 63,
    "start_time": "2022-05-03T19:57:10.654Z"
   },
   {
    "duration": 14,
    "start_time": "2022-05-03T19:57:10.719Z"
   },
   {
    "duration": 4,
    "start_time": "2022-05-03T19:57:10.735Z"
   },
   {
    "duration": 6,
    "start_time": "2022-05-03T19:57:10.741Z"
   },
   {
    "duration": 7,
    "start_time": "2022-05-03T19:57:10.749Z"
   },
   {
    "duration": 45,
    "start_time": "2022-05-03T19:57:10.757Z"
   },
   {
    "duration": 15,
    "start_time": "2022-05-03T19:57:10.804Z"
   },
   {
    "duration": 10,
    "start_time": "2022-05-03T19:57:10.821Z"
   },
   {
    "duration": 12,
    "start_time": "2022-05-03T19:57:10.835Z"
   },
   {
    "duration": 18,
    "start_time": "2022-05-03T19:57:10.848Z"
   },
   {
    "duration": 15,
    "start_time": "2022-05-03T19:57:10.894Z"
   },
   {
    "duration": 42,
    "start_time": "2022-05-03T19:57:10.911Z"
   },
   {
    "duration": 39,
    "start_time": "2022-05-03T19:57:10.955Z"
   },
   {
    "duration": 24,
    "start_time": "2022-05-03T19:57:10.997Z"
   },
   {
    "duration": 18,
    "start_time": "2022-05-03T19:57:11.023Z"
   },
   {
    "duration": 17,
    "start_time": "2022-05-03T19:57:11.043Z"
   },
   {
    "duration": 85,
    "start_time": "2022-05-03T19:57:11.061Z"
   },
   {
    "duration": 21,
    "start_time": "2022-05-03T19:57:11.147Z"
   },
   {
    "duration": 44,
    "start_time": "2022-05-03T19:57:11.170Z"
   },
   {
    "duration": 12,
    "start_time": "2022-05-03T19:57:11.218Z"
   },
   {
    "duration": 18,
    "start_time": "2022-05-03T19:57:11.232Z"
   },
   {
    "duration": 13,
    "start_time": "2022-05-03T19:57:11.252Z"
   },
   {
    "duration": 37,
    "start_time": "2022-05-03T19:57:11.267Z"
   },
   {
    "duration": 9,
    "start_time": "2022-05-03T19:57:11.306Z"
   },
   {
    "duration": 4,
    "start_time": "2022-05-03T19:57:11.317Z"
   },
   {
    "duration": 20,
    "start_time": "2022-05-03T19:57:11.322Z"
   },
   {
    "duration": 6,
    "start_time": "2022-05-03T19:57:11.346Z"
   },
   {
    "duration": 19,
    "start_time": "2022-05-03T19:57:11.354Z"
   },
   {
    "duration": 23,
    "start_time": "2022-05-03T19:57:11.402Z"
   },
   {
    "duration": 22,
    "start_time": "2022-05-03T19:57:11.427Z"
   },
   {
    "duration": 5,
    "start_time": "2022-05-03T19:57:11.451Z"
   },
   {
    "duration": 10,
    "start_time": "2022-05-03T19:57:11.458Z"
   },
   {
    "duration": 9,
    "start_time": "2022-05-03T19:57:11.470Z"
   },
   {
    "duration": 15,
    "start_time": "2022-05-03T19:57:11.493Z"
   },
   {
    "duration": 15,
    "start_time": "2022-05-03T19:57:11.510Z"
   },
   {
    "duration": 11,
    "start_time": "2022-05-03T19:57:11.527Z"
   },
   {
    "duration": 21,
    "start_time": "2022-05-03T19:57:11.540Z"
   },
   {
    "duration": 5,
    "start_time": "2022-05-03T19:57:11.562Z"
   },
   {
    "duration": 6,
    "start_time": "2022-05-03T19:57:11.571Z"
   },
   {
    "duration": 18,
    "start_time": "2022-05-03T19:57:11.578Z"
   },
   {
    "duration": 6,
    "start_time": "2022-05-03T19:57:11.598Z"
   },
   {
    "duration": 18,
    "start_time": "2022-05-03T19:57:11.606Z"
   },
   {
    "duration": 13,
    "start_time": "2022-05-03T19:57:11.626Z"
   },
   {
    "duration": 19,
    "start_time": "2022-05-03T19:57:11.641Z"
   },
   {
    "duration": 13,
    "start_time": "2022-05-03T19:57:11.662Z"
   },
   {
    "duration": 36,
    "start_time": "2022-05-03T19:57:11.676Z"
   },
   {
    "duration": 13,
    "start_time": "2022-05-03T19:57:11.714Z"
   },
   {
    "duration": 9,
    "start_time": "2022-05-03T19:57:11.729Z"
   },
   {
    "duration": 13,
    "start_time": "2022-05-03T19:57:11.740Z"
   },
   {
    "duration": 14,
    "start_time": "2022-05-03T19:57:11.755Z"
   },
   {
    "duration": 44,
    "start_time": "2022-05-03T19:57:11.771Z"
   },
   {
    "duration": 83,
    "start_time": "2022-05-03T19:57:11.817Z"
   },
   {
    "duration": 11,
    "start_time": "2022-05-03T19:57:11.902Z"
   },
   {
    "duration": 66,
    "start_time": "2022-05-03T19:57:11.915Z"
   },
   {
    "duration": 15,
    "start_time": "2022-05-03T19:57:11.996Z"
   },
   {
    "duration": 20,
    "start_time": "2022-05-03T19:57:12.015Z"
   },
   {
    "duration": 38,
    "start_time": "2022-05-03T19:57:12.038Z"
   },
   {
    "duration": 43,
    "start_time": "2022-05-03T19:57:12.077Z"
   },
   {
    "duration": 2,
    "start_time": "2022-05-03T19:57:12.122Z"
   },
   {
    "duration": 1313,
    "start_time": "2022-05-03T19:57:12.126Z"
   },
   {
    "duration": 25,
    "start_time": "2022-05-03T19:57:13.441Z"
   },
   {
    "duration": 40,
    "start_time": "2022-05-03T19:57:13.468Z"
   },
   {
    "duration": 298,
    "start_time": "2022-05-03T19:57:13.510Z"
   },
   {
    "duration": 25,
    "start_time": "2022-05-03T19:57:13.810Z"
   },
   {
    "duration": 13,
    "start_time": "2022-05-03T19:57:13.837Z"
   },
   {
    "duration": 10,
    "start_time": "2022-05-03T19:57:13.852Z"
   },
   {
    "duration": 32,
    "start_time": "2022-05-03T19:57:13.864Z"
   },
   {
    "duration": 268,
    "start_time": "2022-05-03T19:57:13.898Z"
   },
   {
    "duration": 37,
    "start_time": "2022-05-03T19:57:14.167Z"
   },
   {
    "duration": 22,
    "start_time": "2022-05-03T19:57:14.207Z"
   },
   {
    "duration": 21,
    "start_time": "2022-05-03T19:57:14.230Z"
   },
   {
    "duration": 160,
    "start_time": "2022-05-03T19:57:14.253Z"
   },
   {
    "duration": 19,
    "start_time": "2022-05-03T19:57:14.415Z"
   },
   {
    "duration": 6,
    "start_time": "2022-05-03T19:57:14.436Z"
   },
   {
    "duration": 178,
    "start_time": "2022-05-03T19:57:14.444Z"
   },
   {
    "duration": 157,
    "start_time": "2022-05-03T19:57:14.624Z"
   },
   {
    "duration": 156,
    "start_time": "2022-05-03T19:57:14.783Z"
   },
   {
    "duration": 179,
    "start_time": "2022-05-03T19:57:14.941Z"
   },
   {
    "duration": 18,
    "start_time": "2022-05-03T19:57:15.122Z"
   },
   {
    "duration": 9,
    "start_time": "2022-05-03T19:57:15.142Z"
   },
   {
    "duration": 172,
    "start_time": "2022-05-03T19:57:15.158Z"
   },
   {
    "duration": 157,
    "start_time": "2022-05-03T19:57:15.331Z"
   },
   {
    "duration": 166,
    "start_time": "2022-05-03T19:57:15.492Z"
   },
   {
    "duration": 170,
    "start_time": "2022-05-03T19:57:15.659Z"
   },
   {
    "duration": 24,
    "start_time": "2022-05-03T19:57:15.832Z"
   },
   {
    "duration": 406,
    "start_time": "2022-05-03T19:57:15.858Z"
   },
   {
    "duration": 9,
    "start_time": "2022-05-03T19:57:16.266Z"
   },
   {
    "duration": 22,
    "start_time": "2022-05-03T19:57:16.277Z"
   },
   {
    "duration": 10,
    "start_time": "2022-05-03T19:57:16.304Z"
   },
   {
    "duration": 14,
    "start_time": "2022-05-03T19:57:16.316Z"
   },
   {
    "duration": 9,
    "start_time": "2022-05-03T19:57:16.332Z"
   },
   {
    "duration": 8,
    "start_time": "2022-05-03T19:57:16.342Z"
   },
   {
    "duration": 10,
    "start_time": "2022-05-03T19:57:16.352Z"
   },
   {
    "duration": 5,
    "start_time": "2022-05-03T19:57:16.364Z"
   },
   {
    "duration": 10,
    "start_time": "2022-05-03T19:57:16.400Z"
   },
   {
    "duration": 329,
    "start_time": "2022-05-03T19:57:16.412Z"
   },
   {
    "duration": 8,
    "start_time": "2022-05-03T19:57:16.743Z"
   },
   {
    "duration": 10,
    "start_time": "2022-05-03T19:57:16.752Z"
   },
   {
    "duration": 8,
    "start_time": "2022-05-03T19:57:16.763Z"
   },
   {
    "duration": 10,
    "start_time": "2022-05-03T19:57:16.772Z"
   },
   {
    "duration": 5,
    "start_time": "2022-05-03T19:57:16.783Z"
   },
   {
    "duration": 8,
    "start_time": "2022-05-03T19:57:16.793Z"
   },
   {
    "duration": 16,
    "start_time": "2022-05-03T19:57:16.805Z"
   },
   {
    "duration": 6,
    "start_time": "2022-05-03T19:57:16.823Z"
   },
   {
    "duration": 10,
    "start_time": "2022-05-03T19:57:16.831Z"
   },
   {
    "duration": 321,
    "start_time": "2022-05-03T19:57:16.843Z"
   },
   {
    "duration": 9,
    "start_time": "2022-05-03T19:57:17.166Z"
   },
   {
    "duration": 22,
    "start_time": "2022-05-03T19:57:17.177Z"
   },
   {
    "duration": 13,
    "start_time": "2022-05-03T19:57:17.204Z"
   },
   {
    "duration": 24,
    "start_time": "2022-05-03T19:57:17.218Z"
   },
   {
    "duration": 24,
    "start_time": "2022-05-03T19:57:17.244Z"
   },
   {
    "duration": 47,
    "start_time": "2022-05-03T19:57:17.269Z"
   },
   {
    "duration": 9,
    "start_time": "2022-05-03T19:57:17.318Z"
   },
   {
    "duration": 13,
    "start_time": "2022-05-03T19:57:17.329Z"
   },
   {
    "duration": 9,
    "start_time": "2022-05-03T19:57:17.344Z"
   },
   {
    "duration": 45,
    "start_time": "2022-05-03T19:57:17.355Z"
   },
   {
    "duration": 28,
    "start_time": "2022-05-03T19:57:17.402Z"
   },
   {
    "duration": 5,
    "start_time": "2022-05-03T19:57:17.432Z"
   },
   {
    "duration": 9,
    "start_time": "2022-05-03T19:57:17.439Z"
   },
   {
    "duration": 5,
    "start_time": "2022-05-03T19:57:17.450Z"
   },
   {
    "duration": 385,
    "start_time": "2022-05-03T20:01:49.414Z"
   },
   {
    "duration": 265,
    "start_time": "2022-05-03T20:01:57.771Z"
   }
  ],
  "kernelspec": {
   "display_name": "Python 3 (ipykernel)",
   "language": "python",
   "name": "python3"
  },
  "language_info": {
   "codemirror_mode": {
    "name": "ipython",
    "version": 3
   },
   "file_extension": ".py",
   "mimetype": "text/x-python",
   "name": "python",
   "nbconvert_exporter": "python",
   "pygments_lexer": "ipython3",
   "version": "3.9.7"
  },
  "toc": {
   "base_numbering": 1,
   "nav_menu": {},
   "number_sections": true,
   "sideBar": true,
   "skip_h1_title": true,
   "title_cell": "Table of Contents",
   "title_sidebar": "Contents",
   "toc_cell": false,
   "toc_position": {
    "height": "calc(100% - 180px)",
    "left": "10px",
    "top": "150px",
    "width": "165px"
   },
   "toc_section_display": true,
   "toc_window_display": true
  }
 },
 "nbformat": 4,
 "nbformat_minor": 2
}
