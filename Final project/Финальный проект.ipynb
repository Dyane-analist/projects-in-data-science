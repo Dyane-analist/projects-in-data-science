{
 "cells": [
  {
   "cell_type": "markdown",
   "id": "6c6d95df",
   "metadata": {},
   "source": [
    "# ПЛАН \n",
    "# Предсказание оттока клиентов оператора связи «Ниединогоразрыва.ком»"
   ]
  },
  {
   "cell_type": "markdown",
   "id": "52525620",
   "metadata": {},
   "source": [
    "**Цель проекта**\n",
    "\n",
    "Проанализировать данные по поведению клиентов оператора связи «Ниединогоразрыва.ком» и разработать модель машинного обучения, способную прогнозировать отток клиентов с высокими значениями метрик качества. Прогнозные данные будут использованы для того, чтобы разработать стратегию удержания действующих клиентов, предлагая промокоды и специальные условия пользователям, склонным к оттоку.\n",
    "\n",
    "**Данные для анализа**\n",
    "\n",
    "На анализ переданы исторические данные о поведении клиентов и использовании ими услуг связи (персональные данные, информация о тарифах и договорах клиентов). Данные актуальны на 1 февраля 2020.\n",
    "\n",
    "**Шаги (план) проекта**\n",
    "\n",
    "1. Загрузка данных: загрузим все предоставленные файлы (4 шт) и изучим их содержание\n",
    "\n",
    "2. Исследование данных: изучим данные, чтобы определить, есть ли в них целевой признак, и какие признаки следует использовать для обучения модели\n",
    "\n",
    "3. Подготовка данных для обучения и тестирования моделей: подготовим данные для обучения моделей Логистической регрессии, Случайного леса и LGBM с использованием F1_score, accuracy и AUC-ROC как метрик качества \n",
    "\n",
    "4. Обучение и тестирование моделей и выбор оптимальной модели: обучим модели и выберем лучшую с помощью кросс-валидациии\n",
    "\n",
    "5. Проверка результатов модели на тестовой выборке: проверим метрики качества модели на тестовой выборке и посмотрим на важность признаков\n",
    "\n",
    "6. Общий вывод: сделаем вывод о рекомендуемой модели для использования заказчиком\n"
   ]
  },
  {
   "cell_type": "markdown",
   "id": "98ccc716",
   "metadata": {},
   "source": [
    "## Загрузка данных"
   ]
  },
  {
   "cell_type": "markdown",
   "id": "5598f726",
   "metadata": {},
   "source": [
    "Импортируем необходимые библиотеки и утилиты для работы с данными в текущем проекте."
   ]
  },
  {
   "cell_type": "code",
   "execution_count": 1,
   "id": "9d9cb4d0",
   "metadata": {
    "scrolled": true
   },
   "outputs": [
    {
     "name": "stdout",
     "output_type": "stream",
     "text": [
      "Requirement already satisfied: phik in /opt/conda/lib/python3.9/site-packages (0.12.2)\n",
      "Requirement already satisfied: numpy>=1.18.0 in /opt/conda/lib/python3.9/site-packages (from phik) (1.21.1)\n",
      "Requirement already satisfied: scipy>=1.5.2 in /opt/conda/lib/python3.9/site-packages (from phik) (1.9.1)\n",
      "Requirement already satisfied: pandas>=0.25.1 in /opt/conda/lib/python3.9/site-packages (from phik) (1.2.4)\n",
      "Requirement already satisfied: matplotlib>=2.2.3 in /opt/conda/lib/python3.9/site-packages (from phik) (3.3.4)\n",
      "Requirement already satisfied: joblib>=0.14.1 in /opt/conda/lib/python3.9/site-packages (from phik) (1.2.0)\n",
      "Requirement already satisfied: kiwisolver>=1.0.1 in /opt/conda/lib/python3.9/site-packages (from matplotlib>=2.2.3->phik) (1.4.4)\n",
      "Requirement already satisfied: pillow>=6.2.0 in /opt/conda/lib/python3.9/site-packages (from matplotlib>=2.2.3->phik) (8.4.0)\n",
      "Requirement already satisfied: cycler>=0.10 in /opt/conda/lib/python3.9/site-packages (from matplotlib>=2.2.3->phik) (0.11.0)\n",
      "Requirement already satisfied: python-dateutil>=2.1 in /opt/conda/lib/python3.9/site-packages (from matplotlib>=2.2.3->phik) (2.8.1)\n",
      "Requirement already satisfied: pyparsing!=2.0.4,!=2.1.2,!=2.1.6,>=2.0.3 in /opt/conda/lib/python3.9/site-packages (from matplotlib>=2.2.3->phik) (2.4.7)\n",
      "Requirement already satisfied: pytz>=2017.3 in /opt/conda/lib/python3.9/site-packages (from pandas>=0.25.1->phik) (2021.1)\n",
      "Requirement already satisfied: six>=1.5 in /opt/conda/lib/python3.9/site-packages (from python-dateutil>=2.1->matplotlib>=2.2.3->phik) (1.16.0)\n",
      "Note: you may need to restart the kernel to use updated packages.\n"
     ]
    }
   ],
   "source": [
    "pip install phik"
   ]
  },
  {
   "cell_type": "code",
   "execution_count": 2,
   "id": "c9d84142",
   "metadata": {},
   "outputs": [
    {
     "name": "stdout",
     "output_type": "stream",
     "text": [
      "Collecting package metadata (current_repodata.json): done\n",
      "Solving environment: done\n",
      "\n",
      "\n",
      "==> WARNING: A newer version of conda exists. <==\n",
      "  current version: 4.10.2\n",
      "  latest version: 22.9.0\n",
      "\n",
      "Please update conda by running\n",
      "\n",
      "    $ conda update -n base conda\n",
      "\n",
      "\n",
      "\n",
      "# All requested packages already installed.\n",
      "\n",
      "\n",
      "Note: you may need to restart the kernel to use updated packages.\n"
     ]
    }
   ],
   "source": [
    "conda install -c glemaitre imbalanced-learn"
   ]
  },
  {
   "cell_type": "code",
   "execution_count": 3,
   "id": "84428e00",
   "metadata": {},
   "outputs": [],
   "source": [
    "# импорт библиотек\n",
    "import datetime as dt\n",
    "import numpy as np\n",
    "import pandas as pd\n",
    "\n",
    "# построение диаграмм\n",
    "import matplotlib.pyplot as plt\n",
    "import seaborn as sns\n",
    "\n",
    "# оценка мультиколлинеарности признаков\n",
    "import phik\n",
    "from phik.report import plot_correlation_matrix\n",
    "from phik import report\n",
    "\n",
    "# машинное обучение\n",
    "from imblearn.over_sampling import SMOTE\n",
    "import lightgbm as ltb\n",
    "from numpy.random import RandomState\n",
    "from sklearn.model_selection import GridSearchCV\n",
    "from sklearn.linear_model import LogisticRegression\n",
    "from sklearn.ensemble import RandomForestClassifier\n",
    "from sklearn.preprocessing import StandardScaler\n",
    "from sklearn.model_selection import train_test_split\n",
    "\n",
    "# оценка качества модели\n",
    "from sklearn.metrics import accuracy_score\n",
    "from sklearn.model_selection import cross_val_score\n",
    "from sklearn.metrics import f1_score\n",
    "from sklearn.metrics import make_scorer\n",
    "import sklearn.metrics as metrics\n",
    "from sklearn.metrics import roc_curve \n",
    "from sklearn.metrics import roc_auc_score\n",
    "\n",
    "# отключение предупреждений\n",
    "import warnings\n",
    "warnings.filterwarnings(\"ignore\")"
   ]
  },
  {
   "cell_type": "markdown",
   "id": "fb75e5db",
   "metadata": {},
   "source": [
    "Откроем предоставленные файлы и изучим данные."
   ]
  },
  {
   "cell_type": "markdown",
   "id": "e06278f1",
   "metadata": {},
   "source": [
    "**Файл personal.csv**"
   ]
  },
  {
   "cell_type": "code",
   "execution_count": 4,
   "id": "947bc968",
   "metadata": {
    "scrolled": false
   },
   "outputs": [
    {
     "data": {
      "text/html": [
       "<div>\n",
       "<style scoped>\n",
       "    .dataframe tbody tr th:only-of-type {\n",
       "        vertical-align: middle;\n",
       "    }\n",
       "\n",
       "    .dataframe tbody tr th {\n",
       "        vertical-align: top;\n",
       "    }\n",
       "\n",
       "    .dataframe thead th {\n",
       "        text-align: right;\n",
       "    }\n",
       "</style>\n",
       "<table border=\"1\" class=\"dataframe\">\n",
       "  <thead>\n",
       "    <tr style=\"text-align: right;\">\n",
       "      <th></th>\n",
       "      <th>customerID</th>\n",
       "      <th>gender</th>\n",
       "      <th>SeniorCitizen</th>\n",
       "      <th>Partner</th>\n",
       "      <th>Dependents</th>\n",
       "    </tr>\n",
       "  </thead>\n",
       "  <tbody>\n",
       "    <tr>\n",
       "      <th>0</th>\n",
       "      <td>7590-VHVEG</td>\n",
       "      <td>Female</td>\n",
       "      <td>0</td>\n",
       "      <td>Yes</td>\n",
       "      <td>No</td>\n",
       "    </tr>\n",
       "    <tr>\n",
       "      <th>1</th>\n",
       "      <td>5575-GNVDE</td>\n",
       "      <td>Male</td>\n",
       "      <td>0</td>\n",
       "      <td>No</td>\n",
       "      <td>No</td>\n",
       "    </tr>\n",
       "    <tr>\n",
       "      <th>2</th>\n",
       "      <td>3668-QPYBK</td>\n",
       "      <td>Male</td>\n",
       "      <td>0</td>\n",
       "      <td>No</td>\n",
       "      <td>No</td>\n",
       "    </tr>\n",
       "    <tr>\n",
       "      <th>3</th>\n",
       "      <td>7795-CFOCW</td>\n",
       "      <td>Male</td>\n",
       "      <td>0</td>\n",
       "      <td>No</td>\n",
       "      <td>No</td>\n",
       "    </tr>\n",
       "    <tr>\n",
       "      <th>4</th>\n",
       "      <td>9237-HQITU</td>\n",
       "      <td>Female</td>\n",
       "      <td>0</td>\n",
       "      <td>No</td>\n",
       "      <td>No</td>\n",
       "    </tr>\n",
       "  </tbody>\n",
       "</table>\n",
       "</div>"
      ],
      "text/plain": [
       "   customerID  gender  SeniorCitizen Partner Dependents\n",
       "0  7590-VHVEG  Female              0     Yes         No\n",
       "1  5575-GNVDE    Male              0      No         No\n",
       "2  3668-QPYBK    Male              0      No         No\n",
       "3  7795-CFOCW    Male              0      No         No\n",
       "4  9237-HQITU  Female              0      No         No"
      ]
     },
     "execution_count": 4,
     "metadata": {},
     "output_type": "execute_result"
    }
   ],
   "source": [
    "# открытие файла personal.csv\n",
    "try:\n",
    "    df_personal = pd.read_csv('/datasets/final_provider/personal.csv')\n",
    "except FileNotFoundError:\n",
    "    df_personal = pd.read_csv('C:/Users/User/Desktop/Обучение/personal.csv')\n",
    "df_personal.head()"
   ]
  },
  {
   "cell_type": "code",
   "execution_count": 5,
   "id": "c8ca261d",
   "metadata": {},
   "outputs": [
    {
     "name": "stdout",
     "output_type": "stream",
     "text": [
      "<class 'pandas.core.frame.DataFrame'>\n",
      "RangeIndex: 7043 entries, 0 to 7042\n",
      "Data columns (total 5 columns):\n",
      " #   Column         Non-Null Count  Dtype \n",
      "---  ------         --------------  ----- \n",
      " 0   customerID     7043 non-null   object\n",
      " 1   gender         7043 non-null   object\n",
      " 2   SeniorCitizen  7043 non-null   int64 \n",
      " 3   Partner        7043 non-null   object\n",
      " 4   Dependents     7043 non-null   object\n",
      "dtypes: int64(1), object(4)\n",
      "memory usage: 275.2+ KB\n"
     ]
    }
   ],
   "source": [
    "# получение общей информации о структуре данных\n",
    "df_personal.info()"
   ]
  },
  {
   "cell_type": "markdown",
   "id": "4f45962f",
   "metadata": {},
   "source": [
    "**Файл contract.csv**"
   ]
  },
  {
   "cell_type": "code",
   "execution_count": 6,
   "id": "fa79f41a",
   "metadata": {},
   "outputs": [
    {
     "data": {
      "text/html": [
       "<div>\n",
       "<style scoped>\n",
       "    .dataframe tbody tr th:only-of-type {\n",
       "        vertical-align: middle;\n",
       "    }\n",
       "\n",
       "    .dataframe tbody tr th {\n",
       "        vertical-align: top;\n",
       "    }\n",
       "\n",
       "    .dataframe thead th {\n",
       "        text-align: right;\n",
       "    }\n",
       "</style>\n",
       "<table border=\"1\" class=\"dataframe\">\n",
       "  <thead>\n",
       "    <tr style=\"text-align: right;\">\n",
       "      <th></th>\n",
       "      <th>customerID</th>\n",
       "      <th>BeginDate</th>\n",
       "      <th>EndDate</th>\n",
       "      <th>Type</th>\n",
       "      <th>PaperlessBilling</th>\n",
       "      <th>PaymentMethod</th>\n",
       "      <th>MonthlyCharges</th>\n",
       "      <th>TotalCharges</th>\n",
       "    </tr>\n",
       "  </thead>\n",
       "  <tbody>\n",
       "    <tr>\n",
       "      <th>0</th>\n",
       "      <td>7590-VHVEG</td>\n",
       "      <td>2020-01-01</td>\n",
       "      <td>No</td>\n",
       "      <td>Month-to-month</td>\n",
       "      <td>Yes</td>\n",
       "      <td>Electronic check</td>\n",
       "      <td>29.85</td>\n",
       "      <td>29.85</td>\n",
       "    </tr>\n",
       "    <tr>\n",
       "      <th>1</th>\n",
       "      <td>5575-GNVDE</td>\n",
       "      <td>2017-04-01</td>\n",
       "      <td>No</td>\n",
       "      <td>One year</td>\n",
       "      <td>No</td>\n",
       "      <td>Mailed check</td>\n",
       "      <td>56.95</td>\n",
       "      <td>1889.5</td>\n",
       "    </tr>\n",
       "    <tr>\n",
       "      <th>2</th>\n",
       "      <td>3668-QPYBK</td>\n",
       "      <td>2019-10-01</td>\n",
       "      <td>2019-12-01 00:00:00</td>\n",
       "      <td>Month-to-month</td>\n",
       "      <td>Yes</td>\n",
       "      <td>Mailed check</td>\n",
       "      <td>53.85</td>\n",
       "      <td>108.15</td>\n",
       "    </tr>\n",
       "    <tr>\n",
       "      <th>3</th>\n",
       "      <td>7795-CFOCW</td>\n",
       "      <td>2016-05-01</td>\n",
       "      <td>No</td>\n",
       "      <td>One year</td>\n",
       "      <td>No</td>\n",
       "      <td>Bank transfer (automatic)</td>\n",
       "      <td>42.30</td>\n",
       "      <td>1840.75</td>\n",
       "    </tr>\n",
       "    <tr>\n",
       "      <th>4</th>\n",
       "      <td>9237-HQITU</td>\n",
       "      <td>2019-09-01</td>\n",
       "      <td>2019-11-01 00:00:00</td>\n",
       "      <td>Month-to-month</td>\n",
       "      <td>Yes</td>\n",
       "      <td>Electronic check</td>\n",
       "      <td>70.70</td>\n",
       "      <td>151.65</td>\n",
       "    </tr>\n",
       "  </tbody>\n",
       "</table>\n",
       "</div>"
      ],
      "text/plain": [
       "   customerID   BeginDate              EndDate            Type  \\\n",
       "0  7590-VHVEG  2020-01-01                   No  Month-to-month   \n",
       "1  5575-GNVDE  2017-04-01                   No        One year   \n",
       "2  3668-QPYBK  2019-10-01  2019-12-01 00:00:00  Month-to-month   \n",
       "3  7795-CFOCW  2016-05-01                   No        One year   \n",
       "4  9237-HQITU  2019-09-01  2019-11-01 00:00:00  Month-to-month   \n",
       "\n",
       "  PaperlessBilling              PaymentMethod  MonthlyCharges TotalCharges  \n",
       "0              Yes           Electronic check           29.85        29.85  \n",
       "1               No               Mailed check           56.95       1889.5  \n",
       "2              Yes               Mailed check           53.85       108.15  \n",
       "3               No  Bank transfer (automatic)           42.30      1840.75  \n",
       "4              Yes           Electronic check           70.70       151.65  "
      ]
     },
     "execution_count": 6,
     "metadata": {},
     "output_type": "execute_result"
    }
   ],
   "source": [
    "# открытие файла contract.csv\n",
    "try:\n",
    "    df_contract = pd.read_csv('/datasets/final_provider/contract.csv')\n",
    "except FileNotFoundError:\n",
    "    df_contract = pd.read_csv('C:/Users/User/Desktop/Обучение/contract.csv')\n",
    "df_contract.head()"
   ]
  },
  {
   "cell_type": "code",
   "execution_count": 7,
   "id": "bd8f2c24",
   "metadata": {
    "scrolled": true
   },
   "outputs": [
    {
     "name": "stdout",
     "output_type": "stream",
     "text": [
      "<class 'pandas.core.frame.DataFrame'>\n",
      "RangeIndex: 7043 entries, 0 to 7042\n",
      "Data columns (total 8 columns):\n",
      " #   Column            Non-Null Count  Dtype  \n",
      "---  ------            --------------  -----  \n",
      " 0   customerID        7043 non-null   object \n",
      " 1   BeginDate         7043 non-null   object \n",
      " 2   EndDate           7043 non-null   object \n",
      " 3   Type              7043 non-null   object \n",
      " 4   PaperlessBilling  7043 non-null   object \n",
      " 5   PaymentMethod     7043 non-null   object \n",
      " 6   MonthlyCharges    7043 non-null   float64\n",
      " 7   TotalCharges      7043 non-null   object \n",
      "dtypes: float64(1), object(7)\n",
      "memory usage: 440.3+ KB\n"
     ]
    }
   ],
   "source": [
    "# получение общей информации о структуре данных\n",
    "df_contract.info()"
   ]
  },
  {
   "cell_type": "markdown",
   "id": "79d5f1f5",
   "metadata": {},
   "source": [
    "**Файл phone.csv**"
   ]
  },
  {
   "cell_type": "code",
   "execution_count": 8,
   "id": "d403ede9",
   "metadata": {
    "scrolled": true
   },
   "outputs": [
    {
     "data": {
      "text/html": [
       "<div>\n",
       "<style scoped>\n",
       "    .dataframe tbody tr th:only-of-type {\n",
       "        vertical-align: middle;\n",
       "    }\n",
       "\n",
       "    .dataframe tbody tr th {\n",
       "        vertical-align: top;\n",
       "    }\n",
       "\n",
       "    .dataframe thead th {\n",
       "        text-align: right;\n",
       "    }\n",
       "</style>\n",
       "<table border=\"1\" class=\"dataframe\">\n",
       "  <thead>\n",
       "    <tr style=\"text-align: right;\">\n",
       "      <th></th>\n",
       "      <th>customerID</th>\n",
       "      <th>MultipleLines</th>\n",
       "    </tr>\n",
       "  </thead>\n",
       "  <tbody>\n",
       "    <tr>\n",
       "      <th>0</th>\n",
       "      <td>5575-GNVDE</td>\n",
       "      <td>No</td>\n",
       "    </tr>\n",
       "    <tr>\n",
       "      <th>1</th>\n",
       "      <td>3668-QPYBK</td>\n",
       "      <td>No</td>\n",
       "    </tr>\n",
       "    <tr>\n",
       "      <th>2</th>\n",
       "      <td>9237-HQITU</td>\n",
       "      <td>No</td>\n",
       "    </tr>\n",
       "    <tr>\n",
       "      <th>3</th>\n",
       "      <td>9305-CDSKC</td>\n",
       "      <td>Yes</td>\n",
       "    </tr>\n",
       "    <tr>\n",
       "      <th>4</th>\n",
       "      <td>1452-KIOVK</td>\n",
       "      <td>Yes</td>\n",
       "    </tr>\n",
       "  </tbody>\n",
       "</table>\n",
       "</div>"
      ],
      "text/plain": [
       "   customerID MultipleLines\n",
       "0  5575-GNVDE            No\n",
       "1  3668-QPYBK            No\n",
       "2  9237-HQITU            No\n",
       "3  9305-CDSKC           Yes\n",
       "4  1452-KIOVK           Yes"
      ]
     },
     "execution_count": 8,
     "metadata": {},
     "output_type": "execute_result"
    }
   ],
   "source": [
    "# открытие файла phone.csv\n",
    "try:\n",
    "    df_phone = pd.read_csv('/datasets/final_provider/phone.csv')\n",
    "except FileNotFoundError:\n",
    "    df_phone = pd.read_csv('C:/Users/User/Desktop/Обучение/phone.csv')\n",
    "df_phone.head()"
   ]
  },
  {
   "cell_type": "code",
   "execution_count": 9,
   "id": "2092acbb",
   "metadata": {},
   "outputs": [
    {
     "name": "stdout",
     "output_type": "stream",
     "text": [
      "<class 'pandas.core.frame.DataFrame'>\n",
      "RangeIndex: 6361 entries, 0 to 6360\n",
      "Data columns (total 2 columns):\n",
      " #   Column         Non-Null Count  Dtype \n",
      "---  ------         --------------  ----- \n",
      " 0   customerID     6361 non-null   object\n",
      " 1   MultipleLines  6361 non-null   object\n",
      "dtypes: object(2)\n",
      "memory usage: 99.5+ KB\n"
     ]
    }
   ],
   "source": [
    "# получение общей информации о структуре данных\n",
    "df_phone.info()"
   ]
  },
  {
   "cell_type": "markdown",
   "id": "2c7df9e6",
   "metadata": {},
   "source": [
    "**Файл internet.csv**"
   ]
  },
  {
   "cell_type": "code",
   "execution_count": 10,
   "id": "15256390",
   "metadata": {
    "scrolled": true
   },
   "outputs": [
    {
     "data": {
      "text/html": [
       "<div>\n",
       "<style scoped>\n",
       "    .dataframe tbody tr th:only-of-type {\n",
       "        vertical-align: middle;\n",
       "    }\n",
       "\n",
       "    .dataframe tbody tr th {\n",
       "        vertical-align: top;\n",
       "    }\n",
       "\n",
       "    .dataframe thead th {\n",
       "        text-align: right;\n",
       "    }\n",
       "</style>\n",
       "<table border=\"1\" class=\"dataframe\">\n",
       "  <thead>\n",
       "    <tr style=\"text-align: right;\">\n",
       "      <th></th>\n",
       "      <th>customerID</th>\n",
       "      <th>InternetService</th>\n",
       "      <th>OnlineSecurity</th>\n",
       "      <th>OnlineBackup</th>\n",
       "      <th>DeviceProtection</th>\n",
       "      <th>TechSupport</th>\n",
       "      <th>StreamingTV</th>\n",
       "      <th>StreamingMovies</th>\n",
       "    </tr>\n",
       "  </thead>\n",
       "  <tbody>\n",
       "    <tr>\n",
       "      <th>0</th>\n",
       "      <td>7590-VHVEG</td>\n",
       "      <td>DSL</td>\n",
       "      <td>No</td>\n",
       "      <td>Yes</td>\n",
       "      <td>No</td>\n",
       "      <td>No</td>\n",
       "      <td>No</td>\n",
       "      <td>No</td>\n",
       "    </tr>\n",
       "    <tr>\n",
       "      <th>1</th>\n",
       "      <td>5575-GNVDE</td>\n",
       "      <td>DSL</td>\n",
       "      <td>Yes</td>\n",
       "      <td>No</td>\n",
       "      <td>Yes</td>\n",
       "      <td>No</td>\n",
       "      <td>No</td>\n",
       "      <td>No</td>\n",
       "    </tr>\n",
       "    <tr>\n",
       "      <th>2</th>\n",
       "      <td>3668-QPYBK</td>\n",
       "      <td>DSL</td>\n",
       "      <td>Yes</td>\n",
       "      <td>Yes</td>\n",
       "      <td>No</td>\n",
       "      <td>No</td>\n",
       "      <td>No</td>\n",
       "      <td>No</td>\n",
       "    </tr>\n",
       "    <tr>\n",
       "      <th>3</th>\n",
       "      <td>7795-CFOCW</td>\n",
       "      <td>DSL</td>\n",
       "      <td>Yes</td>\n",
       "      <td>No</td>\n",
       "      <td>Yes</td>\n",
       "      <td>Yes</td>\n",
       "      <td>No</td>\n",
       "      <td>No</td>\n",
       "    </tr>\n",
       "    <tr>\n",
       "      <th>4</th>\n",
       "      <td>9237-HQITU</td>\n",
       "      <td>Fiber optic</td>\n",
       "      <td>No</td>\n",
       "      <td>No</td>\n",
       "      <td>No</td>\n",
       "      <td>No</td>\n",
       "      <td>No</td>\n",
       "      <td>No</td>\n",
       "    </tr>\n",
       "  </tbody>\n",
       "</table>\n",
       "</div>"
      ],
      "text/plain": [
       "   customerID InternetService OnlineSecurity OnlineBackup DeviceProtection  \\\n",
       "0  7590-VHVEG             DSL             No          Yes               No   \n",
       "1  5575-GNVDE             DSL            Yes           No              Yes   \n",
       "2  3668-QPYBK             DSL            Yes          Yes               No   \n",
       "3  7795-CFOCW             DSL            Yes           No              Yes   \n",
       "4  9237-HQITU     Fiber optic             No           No               No   \n",
       "\n",
       "  TechSupport StreamingTV StreamingMovies  \n",
       "0          No          No              No  \n",
       "1          No          No              No  \n",
       "2          No          No              No  \n",
       "3         Yes          No              No  \n",
       "4          No          No              No  "
      ]
     },
     "execution_count": 10,
     "metadata": {},
     "output_type": "execute_result"
    }
   ],
   "source": [
    "# открытие файла internet.csv\n",
    "try:\n",
    "    df_internet = pd.read_csv('/datasets/final_provider/internet.csv')\n",
    "except FileNotFoundError:\n",
    "    df_internet = pd.read_csv('C:/Users/User/Desktop/Обучение/internet.csv')\n",
    "df_internet.head()"
   ]
  },
  {
   "cell_type": "code",
   "execution_count": 11,
   "id": "56bdb75d",
   "metadata": {
    "scrolled": false
   },
   "outputs": [
    {
     "name": "stdout",
     "output_type": "stream",
     "text": [
      "<class 'pandas.core.frame.DataFrame'>\n",
      "RangeIndex: 5517 entries, 0 to 5516\n",
      "Data columns (total 8 columns):\n",
      " #   Column            Non-Null Count  Dtype \n",
      "---  ------            --------------  ----- \n",
      " 0   customerID        5517 non-null   object\n",
      " 1   InternetService   5517 non-null   object\n",
      " 2   OnlineSecurity    5517 non-null   object\n",
      " 3   OnlineBackup      5517 non-null   object\n",
      " 4   DeviceProtection  5517 non-null   object\n",
      " 5   TechSupport       5517 non-null   object\n",
      " 6   StreamingTV       5517 non-null   object\n",
      " 7   StreamingMovies   5517 non-null   object\n",
      "dtypes: object(8)\n",
      "memory usage: 344.9+ KB\n"
     ]
    }
   ],
   "source": [
    "# получение общей информации о структуре данных\n",
    "df_internet.info()"
   ]
  },
  {
   "cell_type": "markdown",
   "id": "ad12127e",
   "metadata": {},
   "source": [
    "<div style=\"border:solid blue 2px; padding: 20px\">\n",
    "    \n",
    "**Вывод** \n",
    "  \n",
    "В ходе обработки выборки на данном этапе проделаны следующие работы:\n",
    "    \n",
    "1. Загружены и изучены предоставленные 4 файла с данными.\n",
    "2. Сделаны общие выводы: \n",
    " * файлы с данными о пользователях и договорах содержат равное количество строк без пропусков (7042 строки), файл с данными о телефонии содержит 6360 строк, файл с данными о пользовании интернетом - 5516 строк,\n",
    " * для последующей работы потребуется объединить данные по customerID, исправить наименования колонок и типы данных, проверить данные на дубликаты и уникальность, обработать образовавшиеся в результате объединения строки с пропусками, провести кодирование качественных признаков с помощью техники OHE, \n",
    " * в качестве целевого признака для обучения модели будем использовать данные колонки EndDate файла contract.csv, преобразовав их в двоичный код (0 или 1), в качестве признаков используем все предоставленные данные, кроме колонок SeniorCitizen (файл personal.csv) и PaperlessBilling файл (contract.csv), также добавим в набор признаков расчетную колонку со временем обслуживания клиента в компании (BeginDate минус EndDate) как релевантную для прогнозирования оттока.\n",
    "\n",
    "   \n",
    "<div>"
   ]
  },
  {
   "cell_type": "markdown",
   "id": "e6cffac4",
   "metadata": {},
   "source": [
    "Вопросы:\n",
    "1. Зачем в архиве с исходными файлами даны файлы ._personal и ._phone?\n",
    "2. Можно ли как-то оценить корреляцию между качественными признаками и целевым признаком?\n",
    "3. Подойдут ли для задачи выбранные модели и метрики качества?\n",
    "4. Если метрики качества выбраны верно, к каким значениям нужно стремиться? Понятно, что к максимально возможному, и все же?"
   ]
  },
  {
   "cell_type": "markdown",
   "id": "b253e569",
   "metadata": {},
   "source": [
    "# ПРОЕКТ \n",
    "# Предсказание оттока клиентов оператора связи «Ниединогоразрыва.ком»"
   ]
  },
  {
   "cell_type": "markdown",
   "id": "2fcd6a92",
   "metadata": {},
   "source": [
    "## Исследование данных"
   ]
  },
  {
   "cell_type": "markdown",
   "id": "68e716cc",
   "metadata": {},
   "source": [
    "Объединим файлы, обработаем пропуски, исправим типы данных, проверим данные на дубликаты, добавим признак с длительностью обслуживания клиентов и оценим корреляцию и мультиколлинеарность признаков, чтобы определить те, которые следует использовать для обучения моделей. "
   ]
  },
  {
   "cell_type": "markdown",
   "id": "1a77ed1d",
   "metadata": {},
   "source": [
    "**Объединим файлы**, чтобы получить один общий датасет."
   ]
  },
  {
   "cell_type": "code",
   "execution_count": 12,
   "id": "00c34bea",
   "metadata": {
    "scrolled": false
   },
   "outputs": [
    {
     "data": {
      "text/html": [
       "<div>\n",
       "<style scoped>\n",
       "    .dataframe tbody tr th:only-of-type {\n",
       "        vertical-align: middle;\n",
       "    }\n",
       "\n",
       "    .dataframe tbody tr th {\n",
       "        vertical-align: top;\n",
       "    }\n",
       "\n",
       "    .dataframe thead th {\n",
       "        text-align: right;\n",
       "    }\n",
       "</style>\n",
       "<table border=\"1\" class=\"dataframe\">\n",
       "  <thead>\n",
       "    <tr style=\"text-align: right;\">\n",
       "      <th></th>\n",
       "      <th>gender</th>\n",
       "      <th>SeniorCitizen</th>\n",
       "      <th>Partner</th>\n",
       "      <th>Dependents</th>\n",
       "      <th>BeginDate</th>\n",
       "      <th>EndDate</th>\n",
       "      <th>Type</th>\n",
       "      <th>PaperlessBilling</th>\n",
       "      <th>PaymentMethod</th>\n",
       "      <th>MonthlyCharges</th>\n",
       "      <th>TotalCharges</th>\n",
       "      <th>MultipleLines</th>\n",
       "      <th>InternetService</th>\n",
       "      <th>OnlineSecurity</th>\n",
       "      <th>OnlineBackup</th>\n",
       "      <th>DeviceProtection</th>\n",
       "      <th>TechSupport</th>\n",
       "      <th>StreamingTV</th>\n",
       "      <th>StreamingMovies</th>\n",
       "    </tr>\n",
       "    <tr>\n",
       "      <th>customerID</th>\n",
       "      <th></th>\n",
       "      <th></th>\n",
       "      <th></th>\n",
       "      <th></th>\n",
       "      <th></th>\n",
       "      <th></th>\n",
       "      <th></th>\n",
       "      <th></th>\n",
       "      <th></th>\n",
       "      <th></th>\n",
       "      <th></th>\n",
       "      <th></th>\n",
       "      <th></th>\n",
       "      <th></th>\n",
       "      <th></th>\n",
       "      <th></th>\n",
       "      <th></th>\n",
       "      <th></th>\n",
       "      <th></th>\n",
       "    </tr>\n",
       "  </thead>\n",
       "  <tbody>\n",
       "    <tr>\n",
       "      <th>7590-VHVEG</th>\n",
       "      <td>Female</td>\n",
       "      <td>0</td>\n",
       "      <td>Yes</td>\n",
       "      <td>No</td>\n",
       "      <td>2020-01-01</td>\n",
       "      <td>No</td>\n",
       "      <td>Month-to-month</td>\n",
       "      <td>Yes</td>\n",
       "      <td>Electronic check</td>\n",
       "      <td>29.85</td>\n",
       "      <td>29.85</td>\n",
       "      <td>NaN</td>\n",
       "      <td>DSL</td>\n",
       "      <td>No</td>\n",
       "      <td>Yes</td>\n",
       "      <td>No</td>\n",
       "      <td>No</td>\n",
       "      <td>No</td>\n",
       "      <td>No</td>\n",
       "    </tr>\n",
       "    <tr>\n",
       "      <th>5575-GNVDE</th>\n",
       "      <td>Male</td>\n",
       "      <td>0</td>\n",
       "      <td>No</td>\n",
       "      <td>No</td>\n",
       "      <td>2017-04-01</td>\n",
       "      <td>No</td>\n",
       "      <td>One year</td>\n",
       "      <td>No</td>\n",
       "      <td>Mailed check</td>\n",
       "      <td>56.95</td>\n",
       "      <td>1889.5</td>\n",
       "      <td>No</td>\n",
       "      <td>DSL</td>\n",
       "      <td>Yes</td>\n",
       "      <td>No</td>\n",
       "      <td>Yes</td>\n",
       "      <td>No</td>\n",
       "      <td>No</td>\n",
       "      <td>No</td>\n",
       "    </tr>\n",
       "    <tr>\n",
       "      <th>3668-QPYBK</th>\n",
       "      <td>Male</td>\n",
       "      <td>0</td>\n",
       "      <td>No</td>\n",
       "      <td>No</td>\n",
       "      <td>2019-10-01</td>\n",
       "      <td>2019-12-01 00:00:00</td>\n",
       "      <td>Month-to-month</td>\n",
       "      <td>Yes</td>\n",
       "      <td>Mailed check</td>\n",
       "      <td>53.85</td>\n",
       "      <td>108.15</td>\n",
       "      <td>No</td>\n",
       "      <td>DSL</td>\n",
       "      <td>Yes</td>\n",
       "      <td>Yes</td>\n",
       "      <td>No</td>\n",
       "      <td>No</td>\n",
       "      <td>No</td>\n",
       "      <td>No</td>\n",
       "    </tr>\n",
       "    <tr>\n",
       "      <th>7795-CFOCW</th>\n",
       "      <td>Male</td>\n",
       "      <td>0</td>\n",
       "      <td>No</td>\n",
       "      <td>No</td>\n",
       "      <td>2016-05-01</td>\n",
       "      <td>No</td>\n",
       "      <td>One year</td>\n",
       "      <td>No</td>\n",
       "      <td>Bank transfer (automatic)</td>\n",
       "      <td>42.30</td>\n",
       "      <td>1840.75</td>\n",
       "      <td>NaN</td>\n",
       "      <td>DSL</td>\n",
       "      <td>Yes</td>\n",
       "      <td>No</td>\n",
       "      <td>Yes</td>\n",
       "      <td>Yes</td>\n",
       "      <td>No</td>\n",
       "      <td>No</td>\n",
       "    </tr>\n",
       "    <tr>\n",
       "      <th>9237-HQITU</th>\n",
       "      <td>Female</td>\n",
       "      <td>0</td>\n",
       "      <td>No</td>\n",
       "      <td>No</td>\n",
       "      <td>2019-09-01</td>\n",
       "      <td>2019-11-01 00:00:00</td>\n",
       "      <td>Month-to-month</td>\n",
       "      <td>Yes</td>\n",
       "      <td>Electronic check</td>\n",
       "      <td>70.70</td>\n",
       "      <td>151.65</td>\n",
       "      <td>No</td>\n",
       "      <td>Fiber optic</td>\n",
       "      <td>No</td>\n",
       "      <td>No</td>\n",
       "      <td>No</td>\n",
       "      <td>No</td>\n",
       "      <td>No</td>\n",
       "      <td>No</td>\n",
       "    </tr>\n",
       "  </tbody>\n",
       "</table>\n",
       "</div>"
      ],
      "text/plain": [
       "            gender  SeniorCitizen Partner Dependents   BeginDate  \\\n",
       "customerID                                                         \n",
       "7590-VHVEG  Female              0     Yes         No  2020-01-01   \n",
       "5575-GNVDE    Male              0      No         No  2017-04-01   \n",
       "3668-QPYBK    Male              0      No         No  2019-10-01   \n",
       "7795-CFOCW    Male              0      No         No  2016-05-01   \n",
       "9237-HQITU  Female              0      No         No  2019-09-01   \n",
       "\n",
       "                        EndDate            Type PaperlessBilling  \\\n",
       "customerID                                                         \n",
       "7590-VHVEG                   No  Month-to-month              Yes   \n",
       "5575-GNVDE                   No        One year               No   \n",
       "3668-QPYBK  2019-12-01 00:00:00  Month-to-month              Yes   \n",
       "7795-CFOCW                   No        One year               No   \n",
       "9237-HQITU  2019-11-01 00:00:00  Month-to-month              Yes   \n",
       "\n",
       "                        PaymentMethod  MonthlyCharges TotalCharges  \\\n",
       "customerID                                                           \n",
       "7590-VHVEG           Electronic check           29.85        29.85   \n",
       "5575-GNVDE               Mailed check           56.95       1889.5   \n",
       "3668-QPYBK               Mailed check           53.85       108.15   \n",
       "7795-CFOCW  Bank transfer (automatic)           42.30      1840.75   \n",
       "9237-HQITU           Electronic check           70.70       151.65   \n",
       "\n",
       "           MultipleLines InternetService OnlineSecurity OnlineBackup  \\\n",
       "customerID                                                             \n",
       "7590-VHVEG           NaN             DSL             No          Yes   \n",
       "5575-GNVDE            No             DSL            Yes           No   \n",
       "3668-QPYBK            No             DSL            Yes          Yes   \n",
       "7795-CFOCW           NaN             DSL            Yes           No   \n",
       "9237-HQITU            No     Fiber optic             No           No   \n",
       "\n",
       "           DeviceProtection TechSupport StreamingTV StreamingMovies  \n",
       "customerID                                                           \n",
       "7590-VHVEG               No          No          No              No  \n",
       "5575-GNVDE              Yes          No          No              No  \n",
       "3668-QPYBK               No          No          No              No  \n",
       "7795-CFOCW              Yes         Yes          No              No  \n",
       "9237-HQITU               No          No          No              No  "
      ]
     },
     "execution_count": 12,
     "metadata": {},
     "output_type": "execute_result"
    }
   ],
   "source": [
    "# объединение таблиц и вывод первых 5 строк объединенной таблицы\n",
    "df = df_personal.set_index('customerID').join(df_contract.set_index('customerID'))\n",
    "df = df.join(df_phone.set_index('customerID'))\n",
    "df = df.join(df_internet.set_index('customerID'))\n",
    "df.head()"
   ]
  },
  {
   "cell_type": "markdown",
   "id": "11bc08ab",
   "metadata": {},
   "source": [
    "Проверим результат."
   ]
  },
  {
   "cell_type": "code",
   "execution_count": 13,
   "id": "f926a965",
   "metadata": {
    "scrolled": false
   },
   "outputs": [
    {
     "name": "stdout",
     "output_type": "stream",
     "text": [
      "<class 'pandas.core.frame.DataFrame'>\n",
      "Index: 7043 entries, 7590-VHVEG to 3186-AJIEK\n",
      "Data columns (total 19 columns):\n",
      " #   Column            Non-Null Count  Dtype  \n",
      "---  ------            --------------  -----  \n",
      " 0   gender            7043 non-null   object \n",
      " 1   SeniorCitizen     7043 non-null   int64  \n",
      " 2   Partner           7043 non-null   object \n",
      " 3   Dependents        7043 non-null   object \n",
      " 4   BeginDate         7043 non-null   object \n",
      " 5   EndDate           7043 non-null   object \n",
      " 6   Type              7043 non-null   object \n",
      " 7   PaperlessBilling  7043 non-null   object \n",
      " 8   PaymentMethod     7043 non-null   object \n",
      " 9   MonthlyCharges    7043 non-null   float64\n",
      " 10  TotalCharges      7043 non-null   object \n",
      " 11  MultipleLines     6361 non-null   object \n",
      " 12  InternetService   5517 non-null   object \n",
      " 13  OnlineSecurity    5517 non-null   object \n",
      " 14  OnlineBackup      5517 non-null   object \n",
      " 15  DeviceProtection  5517 non-null   object \n",
      " 16  TechSupport       5517 non-null   object \n",
      " 17  StreamingTV       5517 non-null   object \n",
      " 18  StreamingMovies   5517 non-null   object \n",
      "dtypes: float64(1), int64(1), object(17)\n",
      "memory usage: 1.3+ MB\n"
     ]
    }
   ],
   "source": [
    "# вывод общей информации о датасете\n",
    "df.info()"
   ]
  },
  {
   "cell_type": "markdown",
   "id": "52bc74b9",
   "metadata": {},
   "source": [
    "Объединение проведено корректно, в итоговый файл вошли все строки по клиентам (7042). Поскольку названия столбцов читабельные, не будем их переименовывать. "
   ]
  },
  {
   "cell_type": "markdown",
   "id": "72cf869b",
   "metadata": {},
   "source": [
    "**Обработаем пропуски**: проверим, какие варианты заполнения использованы в колонках с меньшим числом ячеек, чтобы принять решение о способе обработки пропусков."
   ]
  },
  {
   "cell_type": "code",
   "execution_count": 14,
   "id": "391ed943",
   "metadata": {
    "scrolled": true
   },
   "outputs": [
    {
     "data": {
      "text/plain": [
       "No     3390\n",
       "Yes    2971\n",
       "Name: MultipleLines, dtype: int64"
      ]
     },
     "execution_count": 14,
     "metadata": {},
     "output_type": "execute_result"
    }
   ],
   "source": [
    "# проверка заполнения колонки 'MultipleLines'\n",
    "df['MultipleLines'].value_counts()"
   ]
  },
  {
   "cell_type": "code",
   "execution_count": 15,
   "id": "365fd8d2",
   "metadata": {},
   "outputs": [
    {
     "data": {
      "text/plain": [
       "Fiber optic    3096\n",
       "DSL            2421\n",
       "Name: InternetService, dtype: int64"
      ]
     },
     "execution_count": 15,
     "metadata": {},
     "output_type": "execute_result"
    }
   ],
   "source": [
    "# проверка заполнения колонки 'InternetService'\n",
    "df['InternetService'].value_counts()"
   ]
  },
  {
   "cell_type": "code",
   "execution_count": 16,
   "id": "94725a3a",
   "metadata": {
    "scrolled": true
   },
   "outputs": [
    {
     "data": {
      "text/plain": [
       "No     3498\n",
       "Yes    2019\n",
       "Name: OnlineSecurity, dtype: int64"
      ]
     },
     "execution_count": 16,
     "metadata": {},
     "output_type": "execute_result"
    }
   ],
   "source": [
    "# проверка заполнения колонки 'OnlineSecurity'\n",
    "df['OnlineSecurity'].value_counts()"
   ]
  },
  {
   "cell_type": "code",
   "execution_count": 17,
   "id": "f0d1f2e2",
   "metadata": {
    "scrolled": true
   },
   "outputs": [
    {
     "data": {
      "text/plain": [
       "No     3088\n",
       "Yes    2429\n",
       "Name: OnlineBackup, dtype: int64"
      ]
     },
     "execution_count": 17,
     "metadata": {},
     "output_type": "execute_result"
    }
   ],
   "source": [
    "# проверка заполнения колонки 'OnlineBackup'\n",
    "df['OnlineBackup'].value_counts()"
   ]
  },
  {
   "cell_type": "code",
   "execution_count": 18,
   "id": "8cf89bfc",
   "metadata": {},
   "outputs": [
    {
     "data": {
      "text/plain": [
       "No     3095\n",
       "Yes    2422\n",
       "Name: DeviceProtection, dtype: int64"
      ]
     },
     "execution_count": 18,
     "metadata": {},
     "output_type": "execute_result"
    }
   ],
   "source": [
    "# проверка заполнения колонки 'DeviceProtection'\n",
    "df['DeviceProtection'].value_counts()"
   ]
  },
  {
   "cell_type": "code",
   "execution_count": 19,
   "id": "5b77d64b",
   "metadata": {},
   "outputs": [
    {
     "data": {
      "text/plain": [
       "No     3473\n",
       "Yes    2044\n",
       "Name: TechSupport, dtype: int64"
      ]
     },
     "execution_count": 19,
     "metadata": {},
     "output_type": "execute_result"
    }
   ],
   "source": [
    "# проверка заполнения колонки 'TechSupport'\n",
    "df['TechSupport'].value_counts()"
   ]
  },
  {
   "cell_type": "code",
   "execution_count": 20,
   "id": "a3bab433",
   "metadata": {},
   "outputs": [
    {
     "data": {
      "text/plain": [
       "No     2810\n",
       "Yes    2707\n",
       "Name: StreamingTV, dtype: int64"
      ]
     },
     "execution_count": 20,
     "metadata": {},
     "output_type": "execute_result"
    }
   ],
   "source": [
    "# проверка заполнения колонки 'StreamingTV'\n",
    "df['StreamingTV'].value_counts()"
   ]
  },
  {
   "cell_type": "code",
   "execution_count": 21,
   "id": "1cf2b0e8",
   "metadata": {},
   "outputs": [
    {
     "data": {
      "text/plain": [
       "No     2785\n",
       "Yes    2732\n",
       "Name: StreamingMovies, dtype: int64"
      ]
     },
     "execution_count": 21,
     "metadata": {},
     "output_type": "execute_result"
    }
   ],
   "source": [
    "# проверка заполнения колонки 'StreamingMovies'\n",
    "df['StreamingMovies'].value_counts()"
   ]
  },
  {
   "cell_type": "markdown",
   "id": "46626abb",
   "metadata": {},
   "source": [
    "Вероятнее всего, пропуски связаны с тем, что часть клиентов, не вошедших в файлы с данными об использовании специальных услуг телефонии и интернета, ими не пользуются. Соответственно, заменим пропуски на значение No."
   ]
  },
  {
   "cell_type": "code",
   "execution_count": 22,
   "id": "f82cc26a",
   "metadata": {},
   "outputs": [],
   "source": [
    "# замена всех пропусков на значение \"No\"\n",
    "df = df.fillna('No')"
   ]
  },
  {
   "cell_type": "markdown",
   "id": "f71d437e",
   "metadata": {},
   "source": [
    "Проверим результат."
   ]
  },
  {
   "cell_type": "code",
   "execution_count": 23,
   "id": "b3e80420",
   "metadata": {
    "scrolled": false
   },
   "outputs": [
    {
     "name": "stdout",
     "output_type": "stream",
     "text": [
      "<class 'pandas.core.frame.DataFrame'>\n",
      "Index: 7043 entries, 7590-VHVEG to 3186-AJIEK\n",
      "Data columns (total 19 columns):\n",
      " #   Column            Non-Null Count  Dtype  \n",
      "---  ------            --------------  -----  \n",
      " 0   gender            7043 non-null   object \n",
      " 1   SeniorCitizen     7043 non-null   int64  \n",
      " 2   Partner           7043 non-null   object \n",
      " 3   Dependents        7043 non-null   object \n",
      " 4   BeginDate         7043 non-null   object \n",
      " 5   EndDate           7043 non-null   object \n",
      " 6   Type              7043 non-null   object \n",
      " 7   PaperlessBilling  7043 non-null   object \n",
      " 8   PaymentMethod     7043 non-null   object \n",
      " 9   MonthlyCharges    7043 non-null   float64\n",
      " 10  TotalCharges      7043 non-null   object \n",
      " 11  MultipleLines     7043 non-null   object \n",
      " 12  InternetService   7043 non-null   object \n",
      " 13  OnlineSecurity    7043 non-null   object \n",
      " 14  OnlineBackup      7043 non-null   object \n",
      " 15  DeviceProtection  7043 non-null   object \n",
      " 16  TechSupport       7043 non-null   object \n",
      " 17  StreamingTV       7043 non-null   object \n",
      " 18  StreamingMovies   7043 non-null   object \n",
      "dtypes: float64(1), int64(1), object(17)\n",
      "memory usage: 1.3+ MB\n"
     ]
    }
   ],
   "source": [
    "# вывод общей информации о датасете\n",
    "df.info()"
   ]
  },
  {
   "cell_type": "markdown",
   "id": "fa0382ae",
   "metadata": {},
   "source": [
    "Замена проведена корректно, пропусков более нет."
   ]
  },
  {
   "cell_type": "markdown",
   "id": "7172d039",
   "metadata": {},
   "source": [
    "Выведем первые пять строк таблицы."
   ]
  },
  {
   "cell_type": "code",
   "execution_count": 24,
   "id": "472c9bcb",
   "metadata": {
    "scrolled": true
   },
   "outputs": [
    {
     "data": {
      "text/html": [
       "<div>\n",
       "<style scoped>\n",
       "    .dataframe tbody tr th:only-of-type {\n",
       "        vertical-align: middle;\n",
       "    }\n",
       "\n",
       "    .dataframe tbody tr th {\n",
       "        vertical-align: top;\n",
       "    }\n",
       "\n",
       "    .dataframe thead th {\n",
       "        text-align: right;\n",
       "    }\n",
       "</style>\n",
       "<table border=\"1\" class=\"dataframe\">\n",
       "  <thead>\n",
       "    <tr style=\"text-align: right;\">\n",
       "      <th></th>\n",
       "      <th>gender</th>\n",
       "      <th>SeniorCitizen</th>\n",
       "      <th>Partner</th>\n",
       "      <th>Dependents</th>\n",
       "      <th>BeginDate</th>\n",
       "      <th>EndDate</th>\n",
       "      <th>Type</th>\n",
       "      <th>PaperlessBilling</th>\n",
       "      <th>PaymentMethod</th>\n",
       "      <th>MonthlyCharges</th>\n",
       "      <th>TotalCharges</th>\n",
       "      <th>MultipleLines</th>\n",
       "      <th>InternetService</th>\n",
       "      <th>OnlineSecurity</th>\n",
       "      <th>OnlineBackup</th>\n",
       "      <th>DeviceProtection</th>\n",
       "      <th>TechSupport</th>\n",
       "      <th>StreamingTV</th>\n",
       "      <th>StreamingMovies</th>\n",
       "    </tr>\n",
       "    <tr>\n",
       "      <th>customerID</th>\n",
       "      <th></th>\n",
       "      <th></th>\n",
       "      <th></th>\n",
       "      <th></th>\n",
       "      <th></th>\n",
       "      <th></th>\n",
       "      <th></th>\n",
       "      <th></th>\n",
       "      <th></th>\n",
       "      <th></th>\n",
       "      <th></th>\n",
       "      <th></th>\n",
       "      <th></th>\n",
       "      <th></th>\n",
       "      <th></th>\n",
       "      <th></th>\n",
       "      <th></th>\n",
       "      <th></th>\n",
       "      <th></th>\n",
       "    </tr>\n",
       "  </thead>\n",
       "  <tbody>\n",
       "    <tr>\n",
       "      <th>7590-VHVEG</th>\n",
       "      <td>Female</td>\n",
       "      <td>0</td>\n",
       "      <td>Yes</td>\n",
       "      <td>No</td>\n",
       "      <td>2020-01-01</td>\n",
       "      <td>No</td>\n",
       "      <td>Month-to-month</td>\n",
       "      <td>Yes</td>\n",
       "      <td>Electronic check</td>\n",
       "      <td>29.85</td>\n",
       "      <td>29.85</td>\n",
       "      <td>No</td>\n",
       "      <td>DSL</td>\n",
       "      <td>No</td>\n",
       "      <td>Yes</td>\n",
       "      <td>No</td>\n",
       "      <td>No</td>\n",
       "      <td>No</td>\n",
       "      <td>No</td>\n",
       "    </tr>\n",
       "    <tr>\n",
       "      <th>5575-GNVDE</th>\n",
       "      <td>Male</td>\n",
       "      <td>0</td>\n",
       "      <td>No</td>\n",
       "      <td>No</td>\n",
       "      <td>2017-04-01</td>\n",
       "      <td>No</td>\n",
       "      <td>One year</td>\n",
       "      <td>No</td>\n",
       "      <td>Mailed check</td>\n",
       "      <td>56.95</td>\n",
       "      <td>1889.5</td>\n",
       "      <td>No</td>\n",
       "      <td>DSL</td>\n",
       "      <td>Yes</td>\n",
       "      <td>No</td>\n",
       "      <td>Yes</td>\n",
       "      <td>No</td>\n",
       "      <td>No</td>\n",
       "      <td>No</td>\n",
       "    </tr>\n",
       "    <tr>\n",
       "      <th>3668-QPYBK</th>\n",
       "      <td>Male</td>\n",
       "      <td>0</td>\n",
       "      <td>No</td>\n",
       "      <td>No</td>\n",
       "      <td>2019-10-01</td>\n",
       "      <td>2019-12-01 00:00:00</td>\n",
       "      <td>Month-to-month</td>\n",
       "      <td>Yes</td>\n",
       "      <td>Mailed check</td>\n",
       "      <td>53.85</td>\n",
       "      <td>108.15</td>\n",
       "      <td>No</td>\n",
       "      <td>DSL</td>\n",
       "      <td>Yes</td>\n",
       "      <td>Yes</td>\n",
       "      <td>No</td>\n",
       "      <td>No</td>\n",
       "      <td>No</td>\n",
       "      <td>No</td>\n",
       "    </tr>\n",
       "    <tr>\n",
       "      <th>7795-CFOCW</th>\n",
       "      <td>Male</td>\n",
       "      <td>0</td>\n",
       "      <td>No</td>\n",
       "      <td>No</td>\n",
       "      <td>2016-05-01</td>\n",
       "      <td>No</td>\n",
       "      <td>One year</td>\n",
       "      <td>No</td>\n",
       "      <td>Bank transfer (automatic)</td>\n",
       "      <td>42.30</td>\n",
       "      <td>1840.75</td>\n",
       "      <td>No</td>\n",
       "      <td>DSL</td>\n",
       "      <td>Yes</td>\n",
       "      <td>No</td>\n",
       "      <td>Yes</td>\n",
       "      <td>Yes</td>\n",
       "      <td>No</td>\n",
       "      <td>No</td>\n",
       "    </tr>\n",
       "    <tr>\n",
       "      <th>9237-HQITU</th>\n",
       "      <td>Female</td>\n",
       "      <td>0</td>\n",
       "      <td>No</td>\n",
       "      <td>No</td>\n",
       "      <td>2019-09-01</td>\n",
       "      <td>2019-11-01 00:00:00</td>\n",
       "      <td>Month-to-month</td>\n",
       "      <td>Yes</td>\n",
       "      <td>Electronic check</td>\n",
       "      <td>70.70</td>\n",
       "      <td>151.65</td>\n",
       "      <td>No</td>\n",
       "      <td>Fiber optic</td>\n",
       "      <td>No</td>\n",
       "      <td>No</td>\n",
       "      <td>No</td>\n",
       "      <td>No</td>\n",
       "      <td>No</td>\n",
       "      <td>No</td>\n",
       "    </tr>\n",
       "  </tbody>\n",
       "</table>\n",
       "</div>"
      ],
      "text/plain": [
       "            gender  SeniorCitizen Partner Dependents   BeginDate  \\\n",
       "customerID                                                         \n",
       "7590-VHVEG  Female              0     Yes         No  2020-01-01   \n",
       "5575-GNVDE    Male              0      No         No  2017-04-01   \n",
       "3668-QPYBK    Male              0      No         No  2019-10-01   \n",
       "7795-CFOCW    Male              0      No         No  2016-05-01   \n",
       "9237-HQITU  Female              0      No         No  2019-09-01   \n",
       "\n",
       "                        EndDate            Type PaperlessBilling  \\\n",
       "customerID                                                         \n",
       "7590-VHVEG                   No  Month-to-month              Yes   \n",
       "5575-GNVDE                   No        One year               No   \n",
       "3668-QPYBK  2019-12-01 00:00:00  Month-to-month              Yes   \n",
       "7795-CFOCW                   No        One year               No   \n",
       "9237-HQITU  2019-11-01 00:00:00  Month-to-month              Yes   \n",
       "\n",
       "                        PaymentMethod  MonthlyCharges TotalCharges  \\\n",
       "customerID                                                           \n",
       "7590-VHVEG           Electronic check           29.85        29.85   \n",
       "5575-GNVDE               Mailed check           56.95       1889.5   \n",
       "3668-QPYBK               Mailed check           53.85       108.15   \n",
       "7795-CFOCW  Bank transfer (automatic)           42.30      1840.75   \n",
       "9237-HQITU           Electronic check           70.70       151.65   \n",
       "\n",
       "           MultipleLines InternetService OnlineSecurity OnlineBackup  \\\n",
       "customerID                                                             \n",
       "7590-VHVEG            No             DSL             No          Yes   \n",
       "5575-GNVDE            No             DSL            Yes           No   \n",
       "3668-QPYBK            No             DSL            Yes          Yes   \n",
       "7795-CFOCW            No             DSL            Yes           No   \n",
       "9237-HQITU            No     Fiber optic             No           No   \n",
       "\n",
       "           DeviceProtection TechSupport StreamingTV StreamingMovies  \n",
       "customerID                                                           \n",
       "7590-VHVEG               No          No          No              No  \n",
       "5575-GNVDE              Yes          No          No              No  \n",
       "3668-QPYBK               No          No          No              No  \n",
       "7795-CFOCW              Yes         Yes          No              No  \n",
       "9237-HQITU               No          No          No              No  "
      ]
     },
     "execution_count": 24,
     "metadata": {},
     "output_type": "execute_result"
    }
   ],
   "source": [
    "# вывод первых пяти строк таблицы\n",
    "df.head()"
   ]
  },
  {
   "cell_type": "markdown",
   "id": "9cb58833",
   "metadata": {},
   "source": [
    "**Изменим типы данных** в колонках SeniorCitizen, BeginDate, EndDate, TotalCharges."
   ]
  },
  {
   "cell_type": "code",
   "execution_count": 25,
   "id": "7cbe8f23",
   "metadata": {},
   "outputs": [],
   "source": [
    "# изменение типа данных в колонке SeniorCitizen на category\n",
    "df['SeniorCitizen']= df['SeniorCitizen'].astype('category')"
   ]
  },
  {
   "cell_type": "code",
   "execution_count": 26,
   "id": "e830bfe0",
   "metadata": {
    "scrolled": true
   },
   "outputs": [],
   "source": [
    "# изменение типа данных в колонке BeginDate на datetime\n",
    "df['BeginDate'] = pd.to_datetime(df['BeginDate'], errors = 'coerce')"
   ]
  },
  {
   "cell_type": "code",
   "execution_count": 27,
   "id": "1c5f62e7",
   "metadata": {},
   "outputs": [],
   "source": [
    "# изменение типа данных в колонке EndDate на datetime\n",
    "df['EndDate'] = pd.to_datetime(df['EndDate'], errors = 'coerce')"
   ]
  },
  {
   "cell_type": "code",
   "execution_count": 28,
   "id": "29f9c8cd",
   "metadata": {
    "scrolled": true
   },
   "outputs": [],
   "source": [
    "# изменение типа данных в колонке TotalCharges на float64\n",
    "df['TotalCharges'] = pd.to_numeric(df['TotalCharges'], errors = 'coerce')"
   ]
  },
  {
   "cell_type": "markdown",
   "id": "5aeb89ba",
   "metadata": {},
   "source": [
    "Проверим результат."
   ]
  },
  {
   "cell_type": "code",
   "execution_count": 29,
   "id": "588460b5",
   "metadata": {
    "scrolled": true
   },
   "outputs": [
    {
     "name": "stdout",
     "output_type": "stream",
     "text": [
      "<class 'pandas.core.frame.DataFrame'>\n",
      "Index: 7043 entries, 7590-VHVEG to 3186-AJIEK\n",
      "Data columns (total 19 columns):\n",
      " #   Column            Non-Null Count  Dtype         \n",
      "---  ------            --------------  -----         \n",
      " 0   gender            7043 non-null   object        \n",
      " 1   SeniorCitizen     7043 non-null   category      \n",
      " 2   Partner           7043 non-null   object        \n",
      " 3   Dependents        7043 non-null   object        \n",
      " 4   BeginDate         7043 non-null   datetime64[ns]\n",
      " 5   EndDate           1869 non-null   datetime64[ns]\n",
      " 6   Type              7043 non-null   object        \n",
      " 7   PaperlessBilling  7043 non-null   object        \n",
      " 8   PaymentMethod     7043 non-null   object        \n",
      " 9   MonthlyCharges    7043 non-null   float64       \n",
      " 10  TotalCharges      7032 non-null   float64       \n",
      " 11  MultipleLines     7043 non-null   object        \n",
      " 12  InternetService   7043 non-null   object        \n",
      " 13  OnlineSecurity    7043 non-null   object        \n",
      " 14  OnlineBackup      7043 non-null   object        \n",
      " 15  DeviceProtection  7043 non-null   object        \n",
      " 16  TechSupport       7043 non-null   object        \n",
      " 17  StreamingTV       7043 non-null   object        \n",
      " 18  StreamingMovies   7043 non-null   object        \n",
      "dtypes: category(1), datetime64[ns](2), float64(2), object(14)\n",
      "memory usage: 1.3+ MB\n"
     ]
    }
   ],
   "source": [
    "# вывод общей информации о датасете\n",
    "df.info()"
   ]
  },
  {
   "cell_type": "code",
   "execution_count": 30,
   "id": "001e843d",
   "metadata": {
    "scrolled": false
   },
   "outputs": [
    {
     "data": {
      "text/html": [
       "<div>\n",
       "<style scoped>\n",
       "    .dataframe tbody tr th:only-of-type {\n",
       "        vertical-align: middle;\n",
       "    }\n",
       "\n",
       "    .dataframe tbody tr th {\n",
       "        vertical-align: top;\n",
       "    }\n",
       "\n",
       "    .dataframe thead th {\n",
       "        text-align: right;\n",
       "    }\n",
       "</style>\n",
       "<table border=\"1\" class=\"dataframe\">\n",
       "  <thead>\n",
       "    <tr style=\"text-align: right;\">\n",
       "      <th></th>\n",
       "      <th>gender</th>\n",
       "      <th>SeniorCitizen</th>\n",
       "      <th>Partner</th>\n",
       "      <th>Dependents</th>\n",
       "      <th>BeginDate</th>\n",
       "      <th>EndDate</th>\n",
       "      <th>Type</th>\n",
       "      <th>PaperlessBilling</th>\n",
       "      <th>PaymentMethod</th>\n",
       "      <th>MonthlyCharges</th>\n",
       "      <th>TotalCharges</th>\n",
       "      <th>MultipleLines</th>\n",
       "      <th>InternetService</th>\n",
       "      <th>OnlineSecurity</th>\n",
       "      <th>OnlineBackup</th>\n",
       "      <th>DeviceProtection</th>\n",
       "      <th>TechSupport</th>\n",
       "      <th>StreamingTV</th>\n",
       "      <th>StreamingMovies</th>\n",
       "    </tr>\n",
       "    <tr>\n",
       "      <th>customerID</th>\n",
       "      <th></th>\n",
       "      <th></th>\n",
       "      <th></th>\n",
       "      <th></th>\n",
       "      <th></th>\n",
       "      <th></th>\n",
       "      <th></th>\n",
       "      <th></th>\n",
       "      <th></th>\n",
       "      <th></th>\n",
       "      <th></th>\n",
       "      <th></th>\n",
       "      <th></th>\n",
       "      <th></th>\n",
       "      <th></th>\n",
       "      <th></th>\n",
       "      <th></th>\n",
       "      <th></th>\n",
       "      <th></th>\n",
       "    </tr>\n",
       "  </thead>\n",
       "  <tbody>\n",
       "    <tr>\n",
       "      <th>7590-VHVEG</th>\n",
       "      <td>Female</td>\n",
       "      <td>0</td>\n",
       "      <td>Yes</td>\n",
       "      <td>No</td>\n",
       "      <td>2020-01-01</td>\n",
       "      <td>NaT</td>\n",
       "      <td>Month-to-month</td>\n",
       "      <td>Yes</td>\n",
       "      <td>Electronic check</td>\n",
       "      <td>29.85</td>\n",
       "      <td>29.85</td>\n",
       "      <td>No</td>\n",
       "      <td>DSL</td>\n",
       "      <td>No</td>\n",
       "      <td>Yes</td>\n",
       "      <td>No</td>\n",
       "      <td>No</td>\n",
       "      <td>No</td>\n",
       "      <td>No</td>\n",
       "    </tr>\n",
       "    <tr>\n",
       "      <th>5575-GNVDE</th>\n",
       "      <td>Male</td>\n",
       "      <td>0</td>\n",
       "      <td>No</td>\n",
       "      <td>No</td>\n",
       "      <td>2017-04-01</td>\n",
       "      <td>NaT</td>\n",
       "      <td>One year</td>\n",
       "      <td>No</td>\n",
       "      <td>Mailed check</td>\n",
       "      <td>56.95</td>\n",
       "      <td>1889.50</td>\n",
       "      <td>No</td>\n",
       "      <td>DSL</td>\n",
       "      <td>Yes</td>\n",
       "      <td>No</td>\n",
       "      <td>Yes</td>\n",
       "      <td>No</td>\n",
       "      <td>No</td>\n",
       "      <td>No</td>\n",
       "    </tr>\n",
       "    <tr>\n",
       "      <th>3668-QPYBK</th>\n",
       "      <td>Male</td>\n",
       "      <td>0</td>\n",
       "      <td>No</td>\n",
       "      <td>No</td>\n",
       "      <td>2019-10-01</td>\n",
       "      <td>2019-12-01</td>\n",
       "      <td>Month-to-month</td>\n",
       "      <td>Yes</td>\n",
       "      <td>Mailed check</td>\n",
       "      <td>53.85</td>\n",
       "      <td>108.15</td>\n",
       "      <td>No</td>\n",
       "      <td>DSL</td>\n",
       "      <td>Yes</td>\n",
       "      <td>Yes</td>\n",
       "      <td>No</td>\n",
       "      <td>No</td>\n",
       "      <td>No</td>\n",
       "      <td>No</td>\n",
       "    </tr>\n",
       "    <tr>\n",
       "      <th>7795-CFOCW</th>\n",
       "      <td>Male</td>\n",
       "      <td>0</td>\n",
       "      <td>No</td>\n",
       "      <td>No</td>\n",
       "      <td>2016-05-01</td>\n",
       "      <td>NaT</td>\n",
       "      <td>One year</td>\n",
       "      <td>No</td>\n",
       "      <td>Bank transfer (automatic)</td>\n",
       "      <td>42.30</td>\n",
       "      <td>1840.75</td>\n",
       "      <td>No</td>\n",
       "      <td>DSL</td>\n",
       "      <td>Yes</td>\n",
       "      <td>No</td>\n",
       "      <td>Yes</td>\n",
       "      <td>Yes</td>\n",
       "      <td>No</td>\n",
       "      <td>No</td>\n",
       "    </tr>\n",
       "    <tr>\n",
       "      <th>9237-HQITU</th>\n",
       "      <td>Female</td>\n",
       "      <td>0</td>\n",
       "      <td>No</td>\n",
       "      <td>No</td>\n",
       "      <td>2019-09-01</td>\n",
       "      <td>2019-11-01</td>\n",
       "      <td>Month-to-month</td>\n",
       "      <td>Yes</td>\n",
       "      <td>Electronic check</td>\n",
       "      <td>70.70</td>\n",
       "      <td>151.65</td>\n",
       "      <td>No</td>\n",
       "      <td>Fiber optic</td>\n",
       "      <td>No</td>\n",
       "      <td>No</td>\n",
       "      <td>No</td>\n",
       "      <td>No</td>\n",
       "      <td>No</td>\n",
       "      <td>No</td>\n",
       "    </tr>\n",
       "  </tbody>\n",
       "</table>\n",
       "</div>"
      ],
      "text/plain": [
       "            gender SeniorCitizen Partner Dependents  BeginDate    EndDate  \\\n",
       "customerID                                                                  \n",
       "7590-VHVEG  Female             0     Yes         No 2020-01-01        NaT   \n",
       "5575-GNVDE    Male             0      No         No 2017-04-01        NaT   \n",
       "3668-QPYBK    Male             0      No         No 2019-10-01 2019-12-01   \n",
       "7795-CFOCW    Male             0      No         No 2016-05-01        NaT   \n",
       "9237-HQITU  Female             0      No         No 2019-09-01 2019-11-01   \n",
       "\n",
       "                      Type PaperlessBilling              PaymentMethod  \\\n",
       "customerID                                                               \n",
       "7590-VHVEG  Month-to-month              Yes           Electronic check   \n",
       "5575-GNVDE        One year               No               Mailed check   \n",
       "3668-QPYBK  Month-to-month              Yes               Mailed check   \n",
       "7795-CFOCW        One year               No  Bank transfer (automatic)   \n",
       "9237-HQITU  Month-to-month              Yes           Electronic check   \n",
       "\n",
       "            MonthlyCharges  TotalCharges MultipleLines InternetService  \\\n",
       "customerID                                                               \n",
       "7590-VHVEG           29.85         29.85            No             DSL   \n",
       "5575-GNVDE           56.95       1889.50            No             DSL   \n",
       "3668-QPYBK           53.85        108.15            No             DSL   \n",
       "7795-CFOCW           42.30       1840.75            No             DSL   \n",
       "9237-HQITU           70.70        151.65            No     Fiber optic   \n",
       "\n",
       "           OnlineSecurity OnlineBackup DeviceProtection TechSupport  \\\n",
       "customerID                                                            \n",
       "7590-VHVEG             No          Yes               No          No   \n",
       "5575-GNVDE            Yes           No              Yes          No   \n",
       "3668-QPYBK            Yes          Yes               No          No   \n",
       "7795-CFOCW            Yes           No              Yes         Yes   \n",
       "9237-HQITU             No           No               No          No   \n",
       "\n",
       "           StreamingTV StreamingMovies  \n",
       "customerID                              \n",
       "7590-VHVEG          No              No  \n",
       "5575-GNVDE          No              No  \n",
       "3668-QPYBK          No              No  \n",
       "7795-CFOCW          No              No  \n",
       "9237-HQITU          No              No  "
      ]
     },
     "execution_count": 30,
     "metadata": {},
     "output_type": "execute_result"
    }
   ],
   "source": [
    "# вывод первых пяти строк таблицы\n",
    "df.head()"
   ]
  },
  {
   "cell_type": "markdown",
   "id": "ec707908",
   "metadata": {},
   "source": [
    "Замена типов данных проведена корректно."
   ]
  },
  {
   "cell_type": "markdown",
   "id": "385a0a60",
   "metadata": {},
   "source": [
    "**Проверим наличие в данных полных дубликатов**."
   ]
  },
  {
   "cell_type": "code",
   "execution_count": 31,
   "id": "fa7af480",
   "metadata": {},
   "outputs": [
    {
     "data": {
      "text/plain": [
       "13"
      ]
     },
     "execution_count": 31,
     "metadata": {},
     "output_type": "execute_result"
    }
   ],
   "source": [
    "# подстчет строк - явных дубликатов\n",
    "df.duplicated().sum()"
   ]
  },
  {
   "cell_type": "markdown",
   "id": "9c09dd48",
   "metadata": {},
   "source": [
    "Удалим явные дубликаты."
   ]
  },
  {
   "cell_type": "code",
   "execution_count": 32,
   "id": "a8476cce",
   "metadata": {},
   "outputs": [],
   "source": [
    "# удаление дубликатов\n",
    "df = df.drop_duplicates()"
   ]
  },
  {
   "cell_type": "markdown",
   "id": "38d1fe3b",
   "metadata": {},
   "source": [
    "Проверим результат."
   ]
  },
  {
   "cell_type": "code",
   "execution_count": 33,
   "id": "540a9491",
   "metadata": {},
   "outputs": [
    {
     "data": {
      "text/plain": [
       "0"
      ]
     },
     "execution_count": 33,
     "metadata": {},
     "output_type": "execute_result"
    }
   ],
   "source": [
    "# подсчет строк - явных дубликатов\n",
    "df.duplicated().sum()"
   ]
  },
  {
   "cell_type": "markdown",
   "id": "c04c94e9",
   "metadata": {},
   "source": [
    "Дубликаты успешно удалены."
   ]
  },
  {
   "cell_type": "markdown",
   "id": "a13313cd",
   "metadata": {},
   "source": [
    "Продублируем колонку EndDate и сформируем из нее колонку с целевым признаком Churn, где 0 означает, что клиент все еще обслуживается в компании, и 1 - что он перестал пользоваться услугами и расторг договор."
   ]
  },
  {
   "cell_type": "code",
   "execution_count": 34,
   "id": "64060a04",
   "metadata": {},
   "outputs": [],
   "source": [
    "# создание колонки Churn с целевым признаком\n",
    "df['Churn'] = df['EndDate']"
   ]
  },
  {
   "cell_type": "code",
   "execution_count": 35,
   "id": "e94e7f61",
   "metadata": {},
   "outputs": [],
   "source": [
    "# присвоение пустым ячейкам значения \"0\" (еще обслуживаются)\n",
    "df['Churn'] = df['Churn'].fillna(0) "
   ]
  },
  {
   "cell_type": "code",
   "execution_count": 36,
   "id": "e0ac2888",
   "metadata": {
    "scrolled": true
   },
   "outputs": [],
   "source": [
    "# присвоение непустым ячейкам значения \"1\" (уже не обслуживаются)\n",
    "df.loc[df['Churn'] != 0, 'Churn'] = 1"
   ]
  },
  {
   "cell_type": "code",
   "execution_count": 37,
   "id": "a35c51df",
   "metadata": {},
   "outputs": [],
   "source": [
    "# изменение типа данных в колонке Churn на int\n",
    "df['Churn']= df['Churn'].astype('int64')"
   ]
  },
  {
   "cell_type": "markdown",
   "id": "bbe5e77a",
   "metadata": {},
   "source": [
    "Проверим результат."
   ]
  },
  {
   "cell_type": "code",
   "execution_count": 38,
   "id": "2f00dcbe",
   "metadata": {
    "scrolled": false
   },
   "outputs": [
    {
     "data": {
      "text/html": [
       "<div>\n",
       "<style scoped>\n",
       "    .dataframe tbody tr th:only-of-type {\n",
       "        vertical-align: middle;\n",
       "    }\n",
       "\n",
       "    .dataframe tbody tr th {\n",
       "        vertical-align: top;\n",
       "    }\n",
       "\n",
       "    .dataframe thead th {\n",
       "        text-align: right;\n",
       "    }\n",
       "</style>\n",
       "<table border=\"1\" class=\"dataframe\">\n",
       "  <thead>\n",
       "    <tr style=\"text-align: right;\">\n",
       "      <th></th>\n",
       "      <th>gender</th>\n",
       "      <th>SeniorCitizen</th>\n",
       "      <th>Partner</th>\n",
       "      <th>Dependents</th>\n",
       "      <th>BeginDate</th>\n",
       "      <th>EndDate</th>\n",
       "      <th>Type</th>\n",
       "      <th>PaperlessBilling</th>\n",
       "      <th>PaymentMethod</th>\n",
       "      <th>MonthlyCharges</th>\n",
       "      <th>TotalCharges</th>\n",
       "      <th>MultipleLines</th>\n",
       "      <th>InternetService</th>\n",
       "      <th>OnlineSecurity</th>\n",
       "      <th>OnlineBackup</th>\n",
       "      <th>DeviceProtection</th>\n",
       "      <th>TechSupport</th>\n",
       "      <th>StreamingTV</th>\n",
       "      <th>StreamingMovies</th>\n",
       "      <th>Churn</th>\n",
       "    </tr>\n",
       "    <tr>\n",
       "      <th>customerID</th>\n",
       "      <th></th>\n",
       "      <th></th>\n",
       "      <th></th>\n",
       "      <th></th>\n",
       "      <th></th>\n",
       "      <th></th>\n",
       "      <th></th>\n",
       "      <th></th>\n",
       "      <th></th>\n",
       "      <th></th>\n",
       "      <th></th>\n",
       "      <th></th>\n",
       "      <th></th>\n",
       "      <th></th>\n",
       "      <th></th>\n",
       "      <th></th>\n",
       "      <th></th>\n",
       "      <th></th>\n",
       "      <th></th>\n",
       "      <th></th>\n",
       "    </tr>\n",
       "  </thead>\n",
       "  <tbody>\n",
       "    <tr>\n",
       "      <th>7590-VHVEG</th>\n",
       "      <td>Female</td>\n",
       "      <td>0</td>\n",
       "      <td>Yes</td>\n",
       "      <td>No</td>\n",
       "      <td>2020-01-01</td>\n",
       "      <td>NaT</td>\n",
       "      <td>Month-to-month</td>\n",
       "      <td>Yes</td>\n",
       "      <td>Electronic check</td>\n",
       "      <td>29.85</td>\n",
       "      <td>29.85</td>\n",
       "      <td>No</td>\n",
       "      <td>DSL</td>\n",
       "      <td>No</td>\n",
       "      <td>Yes</td>\n",
       "      <td>No</td>\n",
       "      <td>No</td>\n",
       "      <td>No</td>\n",
       "      <td>No</td>\n",
       "      <td>0</td>\n",
       "    </tr>\n",
       "    <tr>\n",
       "      <th>5575-GNVDE</th>\n",
       "      <td>Male</td>\n",
       "      <td>0</td>\n",
       "      <td>No</td>\n",
       "      <td>No</td>\n",
       "      <td>2017-04-01</td>\n",
       "      <td>NaT</td>\n",
       "      <td>One year</td>\n",
       "      <td>No</td>\n",
       "      <td>Mailed check</td>\n",
       "      <td>56.95</td>\n",
       "      <td>1889.50</td>\n",
       "      <td>No</td>\n",
       "      <td>DSL</td>\n",
       "      <td>Yes</td>\n",
       "      <td>No</td>\n",
       "      <td>Yes</td>\n",
       "      <td>No</td>\n",
       "      <td>No</td>\n",
       "      <td>No</td>\n",
       "      <td>0</td>\n",
       "    </tr>\n",
       "    <tr>\n",
       "      <th>3668-QPYBK</th>\n",
       "      <td>Male</td>\n",
       "      <td>0</td>\n",
       "      <td>No</td>\n",
       "      <td>No</td>\n",
       "      <td>2019-10-01</td>\n",
       "      <td>2019-12-01</td>\n",
       "      <td>Month-to-month</td>\n",
       "      <td>Yes</td>\n",
       "      <td>Mailed check</td>\n",
       "      <td>53.85</td>\n",
       "      <td>108.15</td>\n",
       "      <td>No</td>\n",
       "      <td>DSL</td>\n",
       "      <td>Yes</td>\n",
       "      <td>Yes</td>\n",
       "      <td>No</td>\n",
       "      <td>No</td>\n",
       "      <td>No</td>\n",
       "      <td>No</td>\n",
       "      <td>1</td>\n",
       "    </tr>\n",
       "    <tr>\n",
       "      <th>7795-CFOCW</th>\n",
       "      <td>Male</td>\n",
       "      <td>0</td>\n",
       "      <td>No</td>\n",
       "      <td>No</td>\n",
       "      <td>2016-05-01</td>\n",
       "      <td>NaT</td>\n",
       "      <td>One year</td>\n",
       "      <td>No</td>\n",
       "      <td>Bank transfer (automatic)</td>\n",
       "      <td>42.30</td>\n",
       "      <td>1840.75</td>\n",
       "      <td>No</td>\n",
       "      <td>DSL</td>\n",
       "      <td>Yes</td>\n",
       "      <td>No</td>\n",
       "      <td>Yes</td>\n",
       "      <td>Yes</td>\n",
       "      <td>No</td>\n",
       "      <td>No</td>\n",
       "      <td>0</td>\n",
       "    </tr>\n",
       "    <tr>\n",
       "      <th>9237-HQITU</th>\n",
       "      <td>Female</td>\n",
       "      <td>0</td>\n",
       "      <td>No</td>\n",
       "      <td>No</td>\n",
       "      <td>2019-09-01</td>\n",
       "      <td>2019-11-01</td>\n",
       "      <td>Month-to-month</td>\n",
       "      <td>Yes</td>\n",
       "      <td>Electronic check</td>\n",
       "      <td>70.70</td>\n",
       "      <td>151.65</td>\n",
       "      <td>No</td>\n",
       "      <td>Fiber optic</td>\n",
       "      <td>No</td>\n",
       "      <td>No</td>\n",
       "      <td>No</td>\n",
       "      <td>No</td>\n",
       "      <td>No</td>\n",
       "      <td>No</td>\n",
       "      <td>1</td>\n",
       "    </tr>\n",
       "  </tbody>\n",
       "</table>\n",
       "</div>"
      ],
      "text/plain": [
       "            gender SeniorCitizen Partner Dependents  BeginDate    EndDate  \\\n",
       "customerID                                                                  \n",
       "7590-VHVEG  Female             0     Yes         No 2020-01-01        NaT   \n",
       "5575-GNVDE    Male             0      No         No 2017-04-01        NaT   \n",
       "3668-QPYBK    Male             0      No         No 2019-10-01 2019-12-01   \n",
       "7795-CFOCW    Male             0      No         No 2016-05-01        NaT   \n",
       "9237-HQITU  Female             0      No         No 2019-09-01 2019-11-01   \n",
       "\n",
       "                      Type PaperlessBilling              PaymentMethod  \\\n",
       "customerID                                                               \n",
       "7590-VHVEG  Month-to-month              Yes           Electronic check   \n",
       "5575-GNVDE        One year               No               Mailed check   \n",
       "3668-QPYBK  Month-to-month              Yes               Mailed check   \n",
       "7795-CFOCW        One year               No  Bank transfer (automatic)   \n",
       "9237-HQITU  Month-to-month              Yes           Electronic check   \n",
       "\n",
       "            MonthlyCharges  TotalCharges MultipleLines InternetService  \\\n",
       "customerID                                                               \n",
       "7590-VHVEG           29.85         29.85            No             DSL   \n",
       "5575-GNVDE           56.95       1889.50            No             DSL   \n",
       "3668-QPYBK           53.85        108.15            No             DSL   \n",
       "7795-CFOCW           42.30       1840.75            No             DSL   \n",
       "9237-HQITU           70.70        151.65            No     Fiber optic   \n",
       "\n",
       "           OnlineSecurity OnlineBackup DeviceProtection TechSupport  \\\n",
       "customerID                                                            \n",
       "7590-VHVEG             No          Yes               No          No   \n",
       "5575-GNVDE            Yes           No              Yes          No   \n",
       "3668-QPYBK            Yes          Yes               No          No   \n",
       "7795-CFOCW            Yes           No              Yes         Yes   \n",
       "9237-HQITU             No           No               No          No   \n",
       "\n",
       "           StreamingTV StreamingMovies  Churn  \n",
       "customerID                                     \n",
       "7590-VHVEG          No              No      0  \n",
       "5575-GNVDE          No              No      0  \n",
       "3668-QPYBK          No              No      1  \n",
       "7795-CFOCW          No              No      0  \n",
       "9237-HQITU          No              No      1  "
      ]
     },
     "execution_count": 38,
     "metadata": {},
     "output_type": "execute_result"
    }
   ],
   "source": [
    "# вывод первых 5 строк\n",
    "df.head()"
   ]
  },
  {
   "cell_type": "markdown",
   "id": "df6e9269",
   "metadata": {},
   "source": [
    "**Рассчитаем продолжительность обслуживания клиентов в днях** и добавим колонку с этим признаком DaysOfService в датасет. Для корректного расчета заменим отсутствующие значения в колонке EndDate датой, на которую актуальны данные - 01.02.2020."
   ]
  },
  {
   "cell_type": "code",
   "execution_count": 39,
   "id": "a35c44d2",
   "metadata": {
    "scrolled": true
   },
   "outputs": [
    {
     "name": "stdout",
     "output_type": "stream",
     "text": [
      "<class 'pandas.core.frame.DataFrame'>\n",
      "Index: 7030 entries, 7590-VHVEG to 3186-AJIEK\n",
      "Data columns (total 20 columns):\n",
      " #   Column            Non-Null Count  Dtype         \n",
      "---  ------            --------------  -----         \n",
      " 0   gender            7030 non-null   object        \n",
      " 1   SeniorCitizen     7030 non-null   category      \n",
      " 2   Partner           7030 non-null   object        \n",
      " 3   Dependents        7030 non-null   object        \n",
      " 4   BeginDate         7030 non-null   datetime64[ns]\n",
      " 5   EndDate           1866 non-null   datetime64[ns]\n",
      " 6   Type              7030 non-null   object        \n",
      " 7   PaperlessBilling  7030 non-null   object        \n",
      " 8   PaymentMethod     7030 non-null   object        \n",
      " 9   MonthlyCharges    7030 non-null   float64       \n",
      " 10  TotalCharges      7019 non-null   float64       \n",
      " 11  MultipleLines     7030 non-null   object        \n",
      " 12  InternetService   7030 non-null   object        \n",
      " 13  OnlineSecurity    7030 non-null   object        \n",
      " 14  OnlineBackup      7030 non-null   object        \n",
      " 15  DeviceProtection  7030 non-null   object        \n",
      " 16  TechSupport       7030 non-null   object        \n",
      " 17  StreamingTV       7030 non-null   object        \n",
      " 18  StreamingMovies   7030 non-null   object        \n",
      " 19  Churn             7030 non-null   int64         \n",
      "dtypes: category(1), datetime64[ns](2), float64(2), int64(1), object(14)\n",
      "memory usage: 1.1+ MB\n"
     ]
    }
   ],
   "source": [
    "df.info()"
   ]
  },
  {
   "cell_type": "code",
   "execution_count": 40,
   "id": "2e6dbda7",
   "metadata": {},
   "outputs": [],
   "source": [
    "# замена отсутствующих значений в колонке EndDate на 01.02.2020\n",
    "df['EndDate'] = df['EndDate'].fillna('2020-02-01') "
   ]
  },
  {
   "cell_type": "code",
   "execution_count": 41,
   "id": "7c103481",
   "metadata": {},
   "outputs": [
    {
     "data": {
      "text/plain": [
       "customerID\n",
       "7590-VHVEG      31\n",
       "5575-GNVDE    1036\n",
       "3668-QPYBK      61\n",
       "7795-CFOCW    1371\n",
       "9237-HQITU      61\n",
       "Name: DaysOfService, dtype: int64"
      ]
     },
     "execution_count": 41,
     "metadata": {},
     "output_type": "execute_result"
    }
   ],
   "source": [
    "# расчет количества дней обслуживания клиентов в днях\n",
    "df['EndDate'] = pd.to_datetime(df['EndDate'])\n",
    "df['BeginDate'] = pd.to_datetime(df['BeginDate'])\n",
    "df['DaysOfService'] = (df['EndDate'] - df['BeginDate']).dt.days\n",
    "df['DaysOfService'].head()"
   ]
  },
  {
   "cell_type": "markdown",
   "id": "c9fb2624",
   "metadata": {},
   "source": [
    "**Удалим колонки BeginDate и EndDate**, поскольку сами по себе они неинформативны, и проверим результат."
   ]
  },
  {
   "cell_type": "code",
   "execution_count": 42,
   "id": "972550eb",
   "metadata": {},
   "outputs": [],
   "source": [
    "# удаление колонок\n",
    "df = df.drop(['EndDate', 'BeginDate'], axis=1)"
   ]
  },
  {
   "cell_type": "code",
   "execution_count": 43,
   "id": "f488c6db",
   "metadata": {
    "scrolled": true
   },
   "outputs": [
    {
     "data": {
      "text/html": [
       "<div>\n",
       "<style scoped>\n",
       "    .dataframe tbody tr th:only-of-type {\n",
       "        vertical-align: middle;\n",
       "    }\n",
       "\n",
       "    .dataframe tbody tr th {\n",
       "        vertical-align: top;\n",
       "    }\n",
       "\n",
       "    .dataframe thead th {\n",
       "        text-align: right;\n",
       "    }\n",
       "</style>\n",
       "<table border=\"1\" class=\"dataframe\">\n",
       "  <thead>\n",
       "    <tr style=\"text-align: right;\">\n",
       "      <th></th>\n",
       "      <th>gender</th>\n",
       "      <th>SeniorCitizen</th>\n",
       "      <th>Partner</th>\n",
       "      <th>Dependents</th>\n",
       "      <th>Type</th>\n",
       "      <th>PaperlessBilling</th>\n",
       "      <th>PaymentMethod</th>\n",
       "      <th>MonthlyCharges</th>\n",
       "      <th>TotalCharges</th>\n",
       "      <th>MultipleLines</th>\n",
       "      <th>InternetService</th>\n",
       "      <th>OnlineSecurity</th>\n",
       "      <th>OnlineBackup</th>\n",
       "      <th>DeviceProtection</th>\n",
       "      <th>TechSupport</th>\n",
       "      <th>StreamingTV</th>\n",
       "      <th>StreamingMovies</th>\n",
       "      <th>Churn</th>\n",
       "      <th>DaysOfService</th>\n",
       "    </tr>\n",
       "    <tr>\n",
       "      <th>customerID</th>\n",
       "      <th></th>\n",
       "      <th></th>\n",
       "      <th></th>\n",
       "      <th></th>\n",
       "      <th></th>\n",
       "      <th></th>\n",
       "      <th></th>\n",
       "      <th></th>\n",
       "      <th></th>\n",
       "      <th></th>\n",
       "      <th></th>\n",
       "      <th></th>\n",
       "      <th></th>\n",
       "      <th></th>\n",
       "      <th></th>\n",
       "      <th></th>\n",
       "      <th></th>\n",
       "      <th></th>\n",
       "      <th></th>\n",
       "    </tr>\n",
       "  </thead>\n",
       "  <tbody>\n",
       "    <tr>\n",
       "      <th>7590-VHVEG</th>\n",
       "      <td>Female</td>\n",
       "      <td>0</td>\n",
       "      <td>Yes</td>\n",
       "      <td>No</td>\n",
       "      <td>Month-to-month</td>\n",
       "      <td>Yes</td>\n",
       "      <td>Electronic check</td>\n",
       "      <td>29.85</td>\n",
       "      <td>29.85</td>\n",
       "      <td>No</td>\n",
       "      <td>DSL</td>\n",
       "      <td>No</td>\n",
       "      <td>Yes</td>\n",
       "      <td>No</td>\n",
       "      <td>No</td>\n",
       "      <td>No</td>\n",
       "      <td>No</td>\n",
       "      <td>0</td>\n",
       "      <td>31</td>\n",
       "    </tr>\n",
       "    <tr>\n",
       "      <th>5575-GNVDE</th>\n",
       "      <td>Male</td>\n",
       "      <td>0</td>\n",
       "      <td>No</td>\n",
       "      <td>No</td>\n",
       "      <td>One year</td>\n",
       "      <td>No</td>\n",
       "      <td>Mailed check</td>\n",
       "      <td>56.95</td>\n",
       "      <td>1889.50</td>\n",
       "      <td>No</td>\n",
       "      <td>DSL</td>\n",
       "      <td>Yes</td>\n",
       "      <td>No</td>\n",
       "      <td>Yes</td>\n",
       "      <td>No</td>\n",
       "      <td>No</td>\n",
       "      <td>No</td>\n",
       "      <td>0</td>\n",
       "      <td>1036</td>\n",
       "    </tr>\n",
       "    <tr>\n",
       "      <th>3668-QPYBK</th>\n",
       "      <td>Male</td>\n",
       "      <td>0</td>\n",
       "      <td>No</td>\n",
       "      <td>No</td>\n",
       "      <td>Month-to-month</td>\n",
       "      <td>Yes</td>\n",
       "      <td>Mailed check</td>\n",
       "      <td>53.85</td>\n",
       "      <td>108.15</td>\n",
       "      <td>No</td>\n",
       "      <td>DSL</td>\n",
       "      <td>Yes</td>\n",
       "      <td>Yes</td>\n",
       "      <td>No</td>\n",
       "      <td>No</td>\n",
       "      <td>No</td>\n",
       "      <td>No</td>\n",
       "      <td>1</td>\n",
       "      <td>61</td>\n",
       "    </tr>\n",
       "    <tr>\n",
       "      <th>7795-CFOCW</th>\n",
       "      <td>Male</td>\n",
       "      <td>0</td>\n",
       "      <td>No</td>\n",
       "      <td>No</td>\n",
       "      <td>One year</td>\n",
       "      <td>No</td>\n",
       "      <td>Bank transfer (automatic)</td>\n",
       "      <td>42.30</td>\n",
       "      <td>1840.75</td>\n",
       "      <td>No</td>\n",
       "      <td>DSL</td>\n",
       "      <td>Yes</td>\n",
       "      <td>No</td>\n",
       "      <td>Yes</td>\n",
       "      <td>Yes</td>\n",
       "      <td>No</td>\n",
       "      <td>No</td>\n",
       "      <td>0</td>\n",
       "      <td>1371</td>\n",
       "    </tr>\n",
       "    <tr>\n",
       "      <th>9237-HQITU</th>\n",
       "      <td>Female</td>\n",
       "      <td>0</td>\n",
       "      <td>No</td>\n",
       "      <td>No</td>\n",
       "      <td>Month-to-month</td>\n",
       "      <td>Yes</td>\n",
       "      <td>Electronic check</td>\n",
       "      <td>70.70</td>\n",
       "      <td>151.65</td>\n",
       "      <td>No</td>\n",
       "      <td>Fiber optic</td>\n",
       "      <td>No</td>\n",
       "      <td>No</td>\n",
       "      <td>No</td>\n",
       "      <td>No</td>\n",
       "      <td>No</td>\n",
       "      <td>No</td>\n",
       "      <td>1</td>\n",
       "      <td>61</td>\n",
       "    </tr>\n",
       "  </tbody>\n",
       "</table>\n",
       "</div>"
      ],
      "text/plain": [
       "            gender SeniorCitizen Partner Dependents            Type  \\\n",
       "customerID                                                            \n",
       "7590-VHVEG  Female             0     Yes         No  Month-to-month   \n",
       "5575-GNVDE    Male             0      No         No        One year   \n",
       "3668-QPYBK    Male             0      No         No  Month-to-month   \n",
       "7795-CFOCW    Male             0      No         No        One year   \n",
       "9237-HQITU  Female             0      No         No  Month-to-month   \n",
       "\n",
       "           PaperlessBilling              PaymentMethod  MonthlyCharges  \\\n",
       "customerID                                                               \n",
       "7590-VHVEG              Yes           Electronic check           29.85   \n",
       "5575-GNVDE               No               Mailed check           56.95   \n",
       "3668-QPYBK              Yes               Mailed check           53.85   \n",
       "7795-CFOCW               No  Bank transfer (automatic)           42.30   \n",
       "9237-HQITU              Yes           Electronic check           70.70   \n",
       "\n",
       "            TotalCharges MultipleLines InternetService OnlineSecurity  \\\n",
       "customerID                                                              \n",
       "7590-VHVEG         29.85            No             DSL             No   \n",
       "5575-GNVDE       1889.50            No             DSL            Yes   \n",
       "3668-QPYBK        108.15            No             DSL            Yes   \n",
       "7795-CFOCW       1840.75            No             DSL            Yes   \n",
       "9237-HQITU        151.65            No     Fiber optic             No   \n",
       "\n",
       "           OnlineBackup DeviceProtection TechSupport StreamingTV  \\\n",
       "customerID                                                         \n",
       "7590-VHVEG          Yes               No          No          No   \n",
       "5575-GNVDE           No              Yes          No          No   \n",
       "3668-QPYBK          Yes               No          No          No   \n",
       "7795-CFOCW           No              Yes         Yes          No   \n",
       "9237-HQITU           No               No          No          No   \n",
       "\n",
       "           StreamingMovies  Churn  DaysOfService  \n",
       "customerID                                        \n",
       "7590-VHVEG              No      0             31  \n",
       "5575-GNVDE              No      0           1036  \n",
       "3668-QPYBK              No      1             61  \n",
       "7795-CFOCW              No      0           1371  \n",
       "9237-HQITU              No      1             61  "
      ]
     },
     "execution_count": 43,
     "metadata": {},
     "output_type": "execute_result"
    }
   ],
   "source": [
    "# вывод первых пяти строк таблицы\n",
    "df.head()"
   ]
  },
  {
   "cell_type": "markdown",
   "id": "41f6d20e",
   "metadata": {},
   "source": [
    "Добавление нового признака и целевого признака, а также удаление неинформативных колонок проведены корректно."
   ]
  },
  {
   "cell_type": "markdown",
   "id": "d2d9f395",
   "metadata": {},
   "source": [
    "**Оценим мультиколлинеарность** признаков в датасете, воспользовавшись библиотекой phik."
   ]
  },
  {
   "cell_type": "code",
   "execution_count": 44,
   "id": "fac96a00",
   "metadata": {},
   "outputs": [
    {
     "name": "stdout",
     "output_type": "stream",
     "text": [
      "interval columns not set, guessing: ['MonthlyCharges', 'TotalCharges', 'Churn', 'DaysOfService']\n"
     ]
    },
    {
     "data": {
      "text/html": [
       "<div>\n",
       "<style scoped>\n",
       "    .dataframe tbody tr th:only-of-type {\n",
       "        vertical-align: middle;\n",
       "    }\n",
       "\n",
       "    .dataframe tbody tr th {\n",
       "        vertical-align: top;\n",
       "    }\n",
       "\n",
       "    .dataframe thead th {\n",
       "        text-align: right;\n",
       "    }\n",
       "</style>\n",
       "<table border=\"1\" class=\"dataframe\">\n",
       "  <thead>\n",
       "    <tr style=\"text-align: right;\">\n",
       "      <th></th>\n",
       "      <th>gender</th>\n",
       "      <th>SeniorCitizen</th>\n",
       "      <th>Partner</th>\n",
       "      <th>Dependents</th>\n",
       "      <th>Type</th>\n",
       "      <th>PaperlessBilling</th>\n",
       "      <th>PaymentMethod</th>\n",
       "      <th>MonthlyCharges</th>\n",
       "      <th>TotalCharges</th>\n",
       "      <th>MultipleLines</th>\n",
       "      <th>InternetService</th>\n",
       "      <th>OnlineSecurity</th>\n",
       "      <th>OnlineBackup</th>\n",
       "      <th>DeviceProtection</th>\n",
       "      <th>TechSupport</th>\n",
       "      <th>StreamingTV</th>\n",
       "      <th>StreamingMovies</th>\n",
       "      <th>Churn</th>\n",
       "      <th>DaysOfService</th>\n",
       "    </tr>\n",
       "  </thead>\n",
       "  <tbody>\n",
       "    <tr>\n",
       "      <th>gender</th>\n",
       "      <td>1.00</td>\n",
       "      <td>0.00</td>\n",
       "      <td>0.00</td>\n",
       "      <td>0.00</td>\n",
       "      <td>0.00</td>\n",
       "      <td>0.00</td>\n",
       "      <td>0.00</td>\n",
       "      <td>0.01</td>\n",
       "      <td>0.00</td>\n",
       "      <td>0.00</td>\n",
       "      <td>0.00</td>\n",
       "      <td>0.02</td>\n",
       "      <td>0.01</td>\n",
       "      <td>0.00</td>\n",
       "      <td>0.00</td>\n",
       "      <td>0.00</td>\n",
       "      <td>0.00</td>\n",
       "      <td>0.00</td>\n",
       "      <td>0.00</td>\n",
       "    </tr>\n",
       "    <tr>\n",
       "      <th>SeniorCitizen</th>\n",
       "      <td>0.00</td>\n",
       "      <td>1.00</td>\n",
       "      <td>0.02</td>\n",
       "      <td>0.33</td>\n",
       "      <td>0.09</td>\n",
       "      <td>0.24</td>\n",
       "      <td>0.29</td>\n",
       "      <td>0.30</td>\n",
       "      <td>0.15</td>\n",
       "      <td>0.22</td>\n",
       "      <td>0.16</td>\n",
       "      <td>0.06</td>\n",
       "      <td>0.10</td>\n",
       "      <td>0.09</td>\n",
       "      <td>0.09</td>\n",
       "      <td>0.16</td>\n",
       "      <td>0.19</td>\n",
       "      <td>0.23</td>\n",
       "      <td>0.03</td>\n",
       "    </tr>\n",
       "    <tr>\n",
       "      <th>Partner</th>\n",
       "      <td>0.00</td>\n",
       "      <td>0.02</td>\n",
       "      <td>1.00</td>\n",
       "      <td>0.65</td>\n",
       "      <td>0.18</td>\n",
       "      <td>0.02</td>\n",
       "      <td>0.24</td>\n",
       "      <td>0.20</td>\n",
       "      <td>0.42</td>\n",
       "      <td>0.22</td>\n",
       "      <td>0.00</td>\n",
       "      <td>0.22</td>\n",
       "      <td>0.22</td>\n",
       "      <td>0.24</td>\n",
       "      <td>0.18</td>\n",
       "      <td>0.19</td>\n",
       "      <td>0.18</td>\n",
       "      <td>0.23</td>\n",
       "      <td>0.49</td>\n",
       "    </tr>\n",
       "    <tr>\n",
       "      <th>Dependents</th>\n",
       "      <td>0.00</td>\n",
       "      <td>0.33</td>\n",
       "      <td>0.65</td>\n",
       "      <td>1.00</td>\n",
       "      <td>0.15</td>\n",
       "      <td>0.17</td>\n",
       "      <td>0.23</td>\n",
       "      <td>0.19</td>\n",
       "      <td>0.12</td>\n",
       "      <td>0.03</td>\n",
       "      <td>0.11</td>\n",
       "      <td>0.12</td>\n",
       "      <td>0.03</td>\n",
       "      <td>0.01</td>\n",
       "      <td>0.10</td>\n",
       "      <td>0.02</td>\n",
       "      <td>0.06</td>\n",
       "      <td>0.25</td>\n",
       "      <td>0.21</td>\n",
       "    </tr>\n",
       "    <tr>\n",
       "      <th>Type</th>\n",
       "      <td>0.00</td>\n",
       "      <td>0.09</td>\n",
       "      <td>0.18</td>\n",
       "      <td>0.15</td>\n",
       "      <td>1.00</td>\n",
       "      <td>0.11</td>\n",
       "      <td>0.28</td>\n",
       "      <td>0.39</td>\n",
       "      <td>0.51</td>\n",
       "      <td>0.06</td>\n",
       "      <td>0.51</td>\n",
       "      <td>0.15</td>\n",
       "      <td>0.10</td>\n",
       "      <td>0.14</td>\n",
       "      <td>0.18</td>\n",
       "      <td>0.07</td>\n",
       "      <td>0.07</td>\n",
       "      <td>0.25</td>\n",
       "      <td>0.66</td>\n",
       "    </tr>\n",
       "    <tr>\n",
       "      <th>PaperlessBilling</th>\n",
       "      <td>0.00</td>\n",
       "      <td>0.24</td>\n",
       "      <td>0.02</td>\n",
       "      <td>0.17</td>\n",
       "      <td>0.11</td>\n",
       "      <td>1.00</td>\n",
       "      <td>0.37</td>\n",
       "      <td>0.47</td>\n",
       "      <td>0.20</td>\n",
       "      <td>0.25</td>\n",
       "      <td>0.23</td>\n",
       "      <td>0.00</td>\n",
       "      <td>0.20</td>\n",
       "      <td>0.16</td>\n",
       "      <td>0.05</td>\n",
       "      <td>0.34</td>\n",
       "      <td>0.32</td>\n",
       "      <td>0.29</td>\n",
       "      <td>0.00</td>\n",
       "    </tr>\n",
       "    <tr>\n",
       "      <th>PaymentMethod</th>\n",
       "      <td>0.00</td>\n",
       "      <td>0.29</td>\n",
       "      <td>0.24</td>\n",
       "      <td>0.23</td>\n",
       "      <td>0.28</td>\n",
       "      <td>0.37</td>\n",
       "      <td>1.00</td>\n",
       "      <td>0.40</td>\n",
       "      <td>0.35</td>\n",
       "      <td>0.34</td>\n",
       "      <td>0.32</td>\n",
       "      <td>0.26</td>\n",
       "      <td>0.28</td>\n",
       "      <td>0.30</td>\n",
       "      <td>0.27</td>\n",
       "      <td>0.38</td>\n",
       "      <td>0.38</td>\n",
       "      <td>0.45</td>\n",
       "      <td>0.37</td>\n",
       "    </tr>\n",
       "    <tr>\n",
       "      <th>MonthlyCharges</th>\n",
       "      <td>0.01</td>\n",
       "      <td>0.30</td>\n",
       "      <td>0.20</td>\n",
       "      <td>0.19</td>\n",
       "      <td>0.39</td>\n",
       "      <td>0.47</td>\n",
       "      <td>0.40</td>\n",
       "      <td>1.00</td>\n",
       "      <td>0.76</td>\n",
       "      <td>0.68</td>\n",
       "      <td>0.92</td>\n",
       "      <td>0.55</td>\n",
       "      <td>0.63</td>\n",
       "      <td>0.67</td>\n",
       "      <td>0.58</td>\n",
       "      <td>0.83</td>\n",
       "      <td>0.83</td>\n",
       "      <td>0.36</td>\n",
       "      <td>0.41</td>\n",
       "    </tr>\n",
       "    <tr>\n",
       "      <th>TotalCharges</th>\n",
       "      <td>0.00</td>\n",
       "      <td>0.15</td>\n",
       "      <td>0.42</td>\n",
       "      <td>0.12</td>\n",
       "      <td>0.51</td>\n",
       "      <td>0.20</td>\n",
       "      <td>0.35</td>\n",
       "      <td>0.76</td>\n",
       "      <td>1.00</td>\n",
       "      <td>0.61</td>\n",
       "      <td>0.51</td>\n",
       "      <td>0.54</td>\n",
       "      <td>0.66</td>\n",
       "      <td>0.67</td>\n",
       "      <td>0.57</td>\n",
       "      <td>0.66</td>\n",
       "      <td>0.67</td>\n",
       "      <td>0.28</td>\n",
       "      <td>0.84</td>\n",
       "    </tr>\n",
       "    <tr>\n",
       "      <th>MultipleLines</th>\n",
       "      <td>0.00</td>\n",
       "      <td>0.22</td>\n",
       "      <td>0.22</td>\n",
       "      <td>0.03</td>\n",
       "      <td>0.06</td>\n",
       "      <td>0.25</td>\n",
       "      <td>0.34</td>\n",
       "      <td>0.68</td>\n",
       "      <td>0.61</td>\n",
       "      <td>1.00</td>\n",
       "      <td>0.23</td>\n",
       "      <td>0.15</td>\n",
       "      <td>0.31</td>\n",
       "      <td>0.31</td>\n",
       "      <td>0.15</td>\n",
       "      <td>0.39</td>\n",
       "      <td>0.39</td>\n",
       "      <td>0.06</td>\n",
       "      <td>0.43</td>\n",
       "    </tr>\n",
       "    <tr>\n",
       "      <th>InternetService</th>\n",
       "      <td>0.00</td>\n",
       "      <td>0.16</td>\n",
       "      <td>0.00</td>\n",
       "      <td>0.11</td>\n",
       "      <td>0.51</td>\n",
       "      <td>0.23</td>\n",
       "      <td>0.32</td>\n",
       "      <td>0.92</td>\n",
       "      <td>0.51</td>\n",
       "      <td>0.23</td>\n",
       "      <td>1.00</td>\n",
       "      <td>0.24</td>\n",
       "      <td>0.23</td>\n",
       "      <td>0.23</td>\n",
       "      <td>0.24</td>\n",
       "      <td>0.27</td>\n",
       "      <td>0.27</td>\n",
       "      <td>0.20</td>\n",
       "      <td>0.01</td>\n",
       "    </tr>\n",
       "    <tr>\n",
       "      <th>OnlineSecurity</th>\n",
       "      <td>0.02</td>\n",
       "      <td>0.06</td>\n",
       "      <td>0.22</td>\n",
       "      <td>0.12</td>\n",
       "      <td>0.15</td>\n",
       "      <td>0.00</td>\n",
       "      <td>0.26</td>\n",
       "      <td>0.55</td>\n",
       "      <td>0.54</td>\n",
       "      <td>0.15</td>\n",
       "      <td>0.24</td>\n",
       "      <td>1.00</td>\n",
       "      <td>0.43</td>\n",
       "      <td>0.42</td>\n",
       "      <td>0.53</td>\n",
       "      <td>0.27</td>\n",
       "      <td>0.29</td>\n",
       "      <td>0.27</td>\n",
       "      <td>0.42</td>\n",
       "    </tr>\n",
       "    <tr>\n",
       "      <th>OnlineBackup</th>\n",
       "      <td>0.01</td>\n",
       "      <td>0.10</td>\n",
       "      <td>0.22</td>\n",
       "      <td>0.03</td>\n",
       "      <td>0.10</td>\n",
       "      <td>0.20</td>\n",
       "      <td>0.28</td>\n",
       "      <td>0.63</td>\n",
       "      <td>0.66</td>\n",
       "      <td>0.31</td>\n",
       "      <td>0.23</td>\n",
       "      <td>0.43</td>\n",
       "      <td>1.00</td>\n",
       "      <td>0.46</td>\n",
       "      <td>0.44</td>\n",
       "      <td>0.43</td>\n",
       "      <td>0.42</td>\n",
       "      <td>0.13</td>\n",
       "      <td>0.46</td>\n",
       "    </tr>\n",
       "    <tr>\n",
       "      <th>DeviceProtection</th>\n",
       "      <td>0.00</td>\n",
       "      <td>0.09</td>\n",
       "      <td>0.24</td>\n",
       "      <td>0.01</td>\n",
       "      <td>0.14</td>\n",
       "      <td>0.16</td>\n",
       "      <td>0.30</td>\n",
       "      <td>0.67</td>\n",
       "      <td>0.67</td>\n",
       "      <td>0.31</td>\n",
       "      <td>0.23</td>\n",
       "      <td>0.42</td>\n",
       "      <td>0.46</td>\n",
       "      <td>1.00</td>\n",
       "      <td>0.50</td>\n",
       "      <td>0.57</td>\n",
       "      <td>0.59</td>\n",
       "      <td>0.10</td>\n",
       "      <td>0.46</td>\n",
       "    </tr>\n",
       "    <tr>\n",
       "      <th>TechSupport</th>\n",
       "      <td>0.00</td>\n",
       "      <td>0.09</td>\n",
       "      <td>0.18</td>\n",
       "      <td>0.10</td>\n",
       "      <td>0.18</td>\n",
       "      <td>0.05</td>\n",
       "      <td>0.27</td>\n",
       "      <td>0.58</td>\n",
       "      <td>0.57</td>\n",
       "      <td>0.15</td>\n",
       "      <td>0.24</td>\n",
       "      <td>0.53</td>\n",
       "      <td>0.44</td>\n",
       "      <td>0.50</td>\n",
       "      <td>1.00</td>\n",
       "      <td>0.42</td>\n",
       "      <td>0.42</td>\n",
       "      <td>0.26</td>\n",
       "      <td>0.42</td>\n",
       "    </tr>\n",
       "    <tr>\n",
       "      <th>StreamingTV</th>\n",
       "      <td>0.00</td>\n",
       "      <td>0.16</td>\n",
       "      <td>0.19</td>\n",
       "      <td>0.02</td>\n",
       "      <td>0.07</td>\n",
       "      <td>0.34</td>\n",
       "      <td>0.38</td>\n",
       "      <td>0.83</td>\n",
       "      <td>0.66</td>\n",
       "      <td>0.39</td>\n",
       "      <td>0.27</td>\n",
       "      <td>0.27</td>\n",
       "      <td>0.43</td>\n",
       "      <td>0.57</td>\n",
       "      <td>0.42</td>\n",
       "      <td>1.00</td>\n",
       "      <td>0.74</td>\n",
       "      <td>0.10</td>\n",
       "      <td>0.36</td>\n",
       "    </tr>\n",
       "    <tr>\n",
       "      <th>StreamingMovies</th>\n",
       "      <td>0.00</td>\n",
       "      <td>0.19</td>\n",
       "      <td>0.18</td>\n",
       "      <td>0.06</td>\n",
       "      <td>0.07</td>\n",
       "      <td>0.32</td>\n",
       "      <td>0.38</td>\n",
       "      <td>0.83</td>\n",
       "      <td>0.67</td>\n",
       "      <td>0.39</td>\n",
       "      <td>0.27</td>\n",
       "      <td>0.29</td>\n",
       "      <td>0.42</td>\n",
       "      <td>0.59</td>\n",
       "      <td>0.42</td>\n",
       "      <td>0.74</td>\n",
       "      <td>1.00</td>\n",
       "      <td>0.09</td>\n",
       "      <td>0.37</td>\n",
       "    </tr>\n",
       "    <tr>\n",
       "      <th>Churn</th>\n",
       "      <td>0.00</td>\n",
       "      <td>0.23</td>\n",
       "      <td>0.23</td>\n",
       "      <td>0.25</td>\n",
       "      <td>0.25</td>\n",
       "      <td>0.29</td>\n",
       "      <td>0.45</td>\n",
       "      <td>0.36</td>\n",
       "      <td>0.28</td>\n",
       "      <td>0.06</td>\n",
       "      <td>0.20</td>\n",
       "      <td>0.27</td>\n",
       "      <td>0.13</td>\n",
       "      <td>0.10</td>\n",
       "      <td>0.26</td>\n",
       "      <td>0.10</td>\n",
       "      <td>0.09</td>\n",
       "      <td>1.00</td>\n",
       "      <td>0.48</td>\n",
       "    </tr>\n",
       "    <tr>\n",
       "      <th>DaysOfService</th>\n",
       "      <td>0.00</td>\n",
       "      <td>0.03</td>\n",
       "      <td>0.49</td>\n",
       "      <td>0.21</td>\n",
       "      <td>0.66</td>\n",
       "      <td>0.00</td>\n",
       "      <td>0.37</td>\n",
       "      <td>0.41</td>\n",
       "      <td>0.84</td>\n",
       "      <td>0.43</td>\n",
       "      <td>0.01</td>\n",
       "      <td>0.42</td>\n",
       "      <td>0.46</td>\n",
       "      <td>0.46</td>\n",
       "      <td>0.42</td>\n",
       "      <td>0.36</td>\n",
       "      <td>0.37</td>\n",
       "      <td>0.48</td>\n",
       "      <td>1.00</td>\n",
       "    </tr>\n",
       "  </tbody>\n",
       "</table>\n",
       "</div>"
      ],
      "text/plain": [
       "                  gender  SeniorCitizen  Partner  Dependents  Type  \\\n",
       "gender              1.00           0.00     0.00        0.00  0.00   \n",
       "SeniorCitizen       0.00           1.00     0.02        0.33  0.09   \n",
       "Partner             0.00           0.02     1.00        0.65  0.18   \n",
       "Dependents          0.00           0.33     0.65        1.00  0.15   \n",
       "Type                0.00           0.09     0.18        0.15  1.00   \n",
       "PaperlessBilling    0.00           0.24     0.02        0.17  0.11   \n",
       "PaymentMethod       0.00           0.29     0.24        0.23  0.28   \n",
       "MonthlyCharges      0.01           0.30     0.20        0.19  0.39   \n",
       "TotalCharges        0.00           0.15     0.42        0.12  0.51   \n",
       "MultipleLines       0.00           0.22     0.22        0.03  0.06   \n",
       "InternetService     0.00           0.16     0.00        0.11  0.51   \n",
       "OnlineSecurity      0.02           0.06     0.22        0.12  0.15   \n",
       "OnlineBackup        0.01           0.10     0.22        0.03  0.10   \n",
       "DeviceProtection    0.00           0.09     0.24        0.01  0.14   \n",
       "TechSupport         0.00           0.09     0.18        0.10  0.18   \n",
       "StreamingTV         0.00           0.16     0.19        0.02  0.07   \n",
       "StreamingMovies     0.00           0.19     0.18        0.06  0.07   \n",
       "Churn               0.00           0.23     0.23        0.25  0.25   \n",
       "DaysOfService       0.00           0.03     0.49        0.21  0.66   \n",
       "\n",
       "                  PaperlessBilling  PaymentMethod  MonthlyCharges  \\\n",
       "gender                        0.00           0.00            0.01   \n",
       "SeniorCitizen                 0.24           0.29            0.30   \n",
       "Partner                       0.02           0.24            0.20   \n",
       "Dependents                    0.17           0.23            0.19   \n",
       "Type                          0.11           0.28            0.39   \n",
       "PaperlessBilling              1.00           0.37            0.47   \n",
       "PaymentMethod                 0.37           1.00            0.40   \n",
       "MonthlyCharges                0.47           0.40            1.00   \n",
       "TotalCharges                  0.20           0.35            0.76   \n",
       "MultipleLines                 0.25           0.34            0.68   \n",
       "InternetService               0.23           0.32            0.92   \n",
       "OnlineSecurity                0.00           0.26            0.55   \n",
       "OnlineBackup                  0.20           0.28            0.63   \n",
       "DeviceProtection              0.16           0.30            0.67   \n",
       "TechSupport                   0.05           0.27            0.58   \n",
       "StreamingTV                   0.34           0.38            0.83   \n",
       "StreamingMovies               0.32           0.38            0.83   \n",
       "Churn                         0.29           0.45            0.36   \n",
       "DaysOfService                 0.00           0.37            0.41   \n",
       "\n",
       "                  TotalCharges  MultipleLines  InternetService  \\\n",
       "gender                    0.00           0.00             0.00   \n",
       "SeniorCitizen             0.15           0.22             0.16   \n",
       "Partner                   0.42           0.22             0.00   \n",
       "Dependents                0.12           0.03             0.11   \n",
       "Type                      0.51           0.06             0.51   \n",
       "PaperlessBilling          0.20           0.25             0.23   \n",
       "PaymentMethod             0.35           0.34             0.32   \n",
       "MonthlyCharges            0.76           0.68             0.92   \n",
       "TotalCharges              1.00           0.61             0.51   \n",
       "MultipleLines             0.61           1.00             0.23   \n",
       "InternetService           0.51           0.23             1.00   \n",
       "OnlineSecurity            0.54           0.15             0.24   \n",
       "OnlineBackup              0.66           0.31             0.23   \n",
       "DeviceProtection          0.67           0.31             0.23   \n",
       "TechSupport               0.57           0.15             0.24   \n",
       "StreamingTV               0.66           0.39             0.27   \n",
       "StreamingMovies           0.67           0.39             0.27   \n",
       "Churn                     0.28           0.06             0.20   \n",
       "DaysOfService             0.84           0.43             0.01   \n",
       "\n",
       "                  OnlineSecurity  OnlineBackup  DeviceProtection  TechSupport  \\\n",
       "gender                      0.02          0.01              0.00         0.00   \n",
       "SeniorCitizen               0.06          0.10              0.09         0.09   \n",
       "Partner                     0.22          0.22              0.24         0.18   \n",
       "Dependents                  0.12          0.03              0.01         0.10   \n",
       "Type                        0.15          0.10              0.14         0.18   \n",
       "PaperlessBilling            0.00          0.20              0.16         0.05   \n",
       "PaymentMethod               0.26          0.28              0.30         0.27   \n",
       "MonthlyCharges              0.55          0.63              0.67         0.58   \n",
       "TotalCharges                0.54          0.66              0.67         0.57   \n",
       "MultipleLines               0.15          0.31              0.31         0.15   \n",
       "InternetService             0.24          0.23              0.23         0.24   \n",
       "OnlineSecurity              1.00          0.43              0.42         0.53   \n",
       "OnlineBackup                0.43          1.00              0.46         0.44   \n",
       "DeviceProtection            0.42          0.46              1.00         0.50   \n",
       "TechSupport                 0.53          0.44              0.50         1.00   \n",
       "StreamingTV                 0.27          0.43              0.57         0.42   \n",
       "StreamingMovies             0.29          0.42              0.59         0.42   \n",
       "Churn                       0.27          0.13              0.10         0.26   \n",
       "DaysOfService               0.42          0.46              0.46         0.42   \n",
       "\n",
       "                  StreamingTV  StreamingMovies  Churn  DaysOfService  \n",
       "gender                   0.00             0.00   0.00           0.00  \n",
       "SeniorCitizen            0.16             0.19   0.23           0.03  \n",
       "Partner                  0.19             0.18   0.23           0.49  \n",
       "Dependents               0.02             0.06   0.25           0.21  \n",
       "Type                     0.07             0.07   0.25           0.66  \n",
       "PaperlessBilling         0.34             0.32   0.29           0.00  \n",
       "PaymentMethod            0.38             0.38   0.45           0.37  \n",
       "MonthlyCharges           0.83             0.83   0.36           0.41  \n",
       "TotalCharges             0.66             0.67   0.28           0.84  \n",
       "MultipleLines            0.39             0.39   0.06           0.43  \n",
       "InternetService          0.27             0.27   0.20           0.01  \n",
       "OnlineSecurity           0.27             0.29   0.27           0.42  \n",
       "OnlineBackup             0.43             0.42   0.13           0.46  \n",
       "DeviceProtection         0.57             0.59   0.10           0.46  \n",
       "TechSupport              0.42             0.42   0.26           0.42  \n",
       "StreamingTV              1.00             0.74   0.10           0.36  \n",
       "StreamingMovies          0.74             1.00   0.09           0.37  \n",
       "Churn                    0.10             0.09   1.00           0.48  \n",
       "DaysOfService            0.36             0.37   0.48           1.00  "
      ]
     },
     "execution_count": 44,
     "metadata": {},
     "output_type": "execute_result"
    }
   ],
   "source": [
    "# вывод матрицы взаимозависимостей признаков\n",
    "phik_overview = df.phik_matrix()\n",
    "phik_overview.round(2)"
   ]
  },
  {
   "cell_type": "markdown",
   "id": "331233d1",
   "metadata": {},
   "source": [
    "Визуализируем матрицу взаимозависимостей."
   ]
  },
  {
   "cell_type": "code",
   "execution_count": 45,
   "id": "c385bb0d",
   "metadata": {},
   "outputs": [
    {
     "data": {
      "image/png": "[encoded data removed]",
      "text/plain": [
       "<Figure size 1080x720 with 2 Axes>"
      ]
     },
     "metadata": {
      "needs_background": "light"
     },
     "output_type": "display_data"
    }
   ],
   "source": [
    "# построение hitmap по взаимозависимостям признаков\n",
    "plot_correlation_matrix(phik_overview.values, \n",
    "                        x_labels=phik_overview.columns, \n",
    "                        y_labels=phik_overview.index, \n",
    "                        vmin=0, vmax=1, color_map=\"Greens\", \n",
    "                        title=r\"correlation $\\phi_K$\", \n",
    "                        fontsize_factor=1.5, \n",
    "                        figsize=(15, 10))\n",
    "plt.tight_layout()"
   ]
  },
  {
   "cell_type": "markdown",
   "id": "b4a132cd",
   "metadata": {},
   "source": [
    "На основании данных о взаимозависимостях удалим колонки с очень слабой корреляцией с целевым признаком (<0.15):\n",
    "gender, MultipleLines, DeviceProtection, StreamingTV, StreamingMovies, OnlineBackup.\n",
    "\n",
    "Удалим также один из пары признаков, очень сильно связанных друг с другом (>=0.75):\n",
    "удалим TotalCharges, оставим DaysOfService; удалим InternetService, оставим MonthlyCharges."
   ]
  },
  {
   "cell_type": "code",
   "execution_count": 46,
   "id": "d12f21ac",
   "metadata": {},
   "outputs": [],
   "source": [
    "# удаление признаков из датасета\n",
    "df = df.drop(['gender', \n",
    "              'MultipleLines', \n",
    "              'DeviceProtection', \n",
    "              'StreamingTV', \n",
    "              'StreamingMovies', \n",
    "              'OnlineBackup', \n",
    "              'TotalCharges', \n",
    "              'InternetService'], axis=1)"
   ]
  },
  {
   "cell_type": "markdown",
   "id": "043d92f1",
   "metadata": {},
   "source": [
    "Оценим результат."
   ]
  },
  {
   "cell_type": "code",
   "execution_count": 47,
   "id": "c8f618e3",
   "metadata": {
    "scrolled": false
   },
   "outputs": [
    {
     "data": {
      "text/html": [
       "<div>\n",
       "<style scoped>\n",
       "    .dataframe tbody tr th:only-of-type {\n",
       "        vertical-align: middle;\n",
       "    }\n",
       "\n",
       "    .dataframe tbody tr th {\n",
       "        vertical-align: top;\n",
       "    }\n",
       "\n",
       "    .dataframe thead th {\n",
       "        text-align: right;\n",
       "    }\n",
       "</style>\n",
       "<table border=\"1\" class=\"dataframe\">\n",
       "  <thead>\n",
       "    <tr style=\"text-align: right;\">\n",
       "      <th></th>\n",
       "      <th>SeniorCitizen</th>\n",
       "      <th>Partner</th>\n",
       "      <th>Dependents</th>\n",
       "      <th>Type</th>\n",
       "      <th>PaperlessBilling</th>\n",
       "      <th>PaymentMethod</th>\n",
       "      <th>MonthlyCharges</th>\n",
       "      <th>OnlineSecurity</th>\n",
       "      <th>TechSupport</th>\n",
       "      <th>Churn</th>\n",
       "      <th>DaysOfService</th>\n",
       "    </tr>\n",
       "    <tr>\n",
       "      <th>customerID</th>\n",
       "      <th></th>\n",
       "      <th></th>\n",
       "      <th></th>\n",
       "      <th></th>\n",
       "      <th></th>\n",
       "      <th></th>\n",
       "      <th></th>\n",
       "      <th></th>\n",
       "      <th></th>\n",
       "      <th></th>\n",
       "      <th></th>\n",
       "    </tr>\n",
       "  </thead>\n",
       "  <tbody>\n",
       "    <tr>\n",
       "      <th>7590-VHVEG</th>\n",
       "      <td>0</td>\n",
       "      <td>Yes</td>\n",
       "      <td>No</td>\n",
       "      <td>Month-to-month</td>\n",
       "      <td>Yes</td>\n",
       "      <td>Electronic check</td>\n",
       "      <td>29.85</td>\n",
       "      <td>No</td>\n",
       "      <td>No</td>\n",
       "      <td>0</td>\n",
       "      <td>31</td>\n",
       "    </tr>\n",
       "    <tr>\n",
       "      <th>5575-GNVDE</th>\n",
       "      <td>0</td>\n",
       "      <td>No</td>\n",
       "      <td>No</td>\n",
       "      <td>One year</td>\n",
       "      <td>No</td>\n",
       "      <td>Mailed check</td>\n",
       "      <td>56.95</td>\n",
       "      <td>Yes</td>\n",
       "      <td>No</td>\n",
       "      <td>0</td>\n",
       "      <td>1036</td>\n",
       "    </tr>\n",
       "    <tr>\n",
       "      <th>3668-QPYBK</th>\n",
       "      <td>0</td>\n",
       "      <td>No</td>\n",
       "      <td>No</td>\n",
       "      <td>Month-to-month</td>\n",
       "      <td>Yes</td>\n",
       "      <td>Mailed check</td>\n",
       "      <td>53.85</td>\n",
       "      <td>Yes</td>\n",
       "      <td>No</td>\n",
       "      <td>1</td>\n",
       "      <td>61</td>\n",
       "    </tr>\n",
       "    <tr>\n",
       "      <th>7795-CFOCW</th>\n",
       "      <td>0</td>\n",
       "      <td>No</td>\n",
       "      <td>No</td>\n",
       "      <td>One year</td>\n",
       "      <td>No</td>\n",
       "      <td>Bank transfer (automatic)</td>\n",
       "      <td>42.30</td>\n",
       "      <td>Yes</td>\n",
       "      <td>Yes</td>\n",
       "      <td>0</td>\n",
       "      <td>1371</td>\n",
       "    </tr>\n",
       "    <tr>\n",
       "      <th>9237-HQITU</th>\n",
       "      <td>0</td>\n",
       "      <td>No</td>\n",
       "      <td>No</td>\n",
       "      <td>Month-to-month</td>\n",
       "      <td>Yes</td>\n",
       "      <td>Electronic check</td>\n",
       "      <td>70.70</td>\n",
       "      <td>No</td>\n",
       "      <td>No</td>\n",
       "      <td>1</td>\n",
       "      <td>61</td>\n",
       "    </tr>\n",
       "  </tbody>\n",
       "</table>\n",
       "</div>"
      ],
      "text/plain": [
       "           SeniorCitizen Partner Dependents            Type PaperlessBilling  \\\n",
       "customerID                                                                     \n",
       "7590-VHVEG             0     Yes         No  Month-to-month              Yes   \n",
       "5575-GNVDE             0      No         No        One year               No   \n",
       "3668-QPYBK             0      No         No  Month-to-month              Yes   \n",
       "7795-CFOCW             0      No         No        One year               No   \n",
       "9237-HQITU             0      No         No  Month-to-month              Yes   \n",
       "\n",
       "                        PaymentMethod  MonthlyCharges OnlineSecurity  \\\n",
       "customerID                                                             \n",
       "7590-VHVEG           Electronic check           29.85             No   \n",
       "5575-GNVDE               Mailed check           56.95            Yes   \n",
       "3668-QPYBK               Mailed check           53.85            Yes   \n",
       "7795-CFOCW  Bank transfer (automatic)           42.30            Yes   \n",
       "9237-HQITU           Electronic check           70.70             No   \n",
       "\n",
       "           TechSupport  Churn  DaysOfService  \n",
       "customerID                                    \n",
       "7590-VHVEG          No      0             31  \n",
       "5575-GNVDE          No      0           1036  \n",
       "3668-QPYBK          No      1             61  \n",
       "7795-CFOCW         Yes      0           1371  \n",
       "9237-HQITU          No      1             61  "
      ]
     },
     "execution_count": 47,
     "metadata": {},
     "output_type": "execute_result"
    }
   ],
   "source": [
    "# вывод первых пяти строк таблицы\n",
    "df.head()"
   ]
  },
  {
   "cell_type": "markdown",
   "id": "ec6dadb4",
   "metadata": {},
   "source": [
    "Удаление проведено корректно, в датасете остались столбцы с необходимыми признаками."
   ]
  },
  {
   "cell_type": "markdown",
   "id": "dfb4dfff",
   "metadata": {},
   "source": [
    "**Визуализируем распределения** в оставшихся для обучения признаках."
   ]
  },
  {
   "cell_type": "markdown",
   "id": "9b921055",
   "metadata": {},
   "source": [
    "Признак **SeniorCitizen**"
   ]
  },
  {
   "cell_type": "code",
   "execution_count": 48,
   "id": "84dc56ac",
   "metadata": {
    "scrolled": true
   },
   "outputs": [
    {
     "data": {
      "text/plain": [
       "<AxesSubplot:xlabel='SeniorCitizen', ylabel='Churn'>"
      ]
     },
     "execution_count": 48,
     "metadata": {},
     "output_type": "execute_result"
    },
    {
     "data": {
      "image/png": "[encoded data removed]",
      "text/plain": [
       "<Figure size 432x288 with 1 Axes>"
      ]
     },
     "metadata": {
      "needs_background": "light"
     },
     "output_type": "display_data"
    }
   ],
   "source": [
    "# построение диаграммы\n",
    "sns.barplot(x=\"SeniorCitizen\", y=\"Churn\", data=df)"
   ]
  },
  {
   "cell_type": "markdown",
   "id": "77113abc",
   "metadata": {},
   "source": [
    "40% пенсионеров и 22% непенсионеров отказались от услуг компании."
   ]
  },
  {
   "cell_type": "markdown",
   "id": "2c1a48c3",
   "metadata": {},
   "source": [
    "Признак **Partner**"
   ]
  },
  {
   "cell_type": "code",
   "execution_count": 49,
   "id": "1e734b2e",
   "metadata": {},
   "outputs": [
    {
     "data": {
      "text/plain": [
       "<AxesSubplot:xlabel='Partner', ylabel='Churn'>"
      ]
     },
     "execution_count": 49,
     "metadata": {},
     "output_type": "execute_result"
    },
    {
     "data": {
      "image/png": "[encoded data removed]",
      "text/plain": [
       "<Figure size 432x288 with 1 Axes>"
      ]
     },
     "metadata": {
      "needs_background": "light"
     },
     "output_type": "display_data"
    }
   ],
   "source": [
    "# построение диаграммы\n",
    "sns.barplot(x=\"Partner\", y=\"Churn\", data=df)"
   ]
  },
  {
   "cell_type": "markdown",
   "id": "6f2cfe23",
   "metadata": {},
   "source": [
    "33% клиентов не в браке и 20% людей в браке отказались от услуг компании."
   ]
  },
  {
   "cell_type": "markdown",
   "id": "734d47c3",
   "metadata": {},
   "source": [
    "Признак **Dependents**"
   ]
  },
  {
   "cell_type": "code",
   "execution_count": 50,
   "id": "18d49873",
   "metadata": {
    "scrolled": true
   },
   "outputs": [
    {
     "data": {
      "text/plain": [
       "<AxesSubplot:xlabel='Dependents', ylabel='Churn'>"
      ]
     },
     "execution_count": 50,
     "metadata": {},
     "output_type": "execute_result"
    },
    {
     "data": {
      "image/png": "[encoded data removed]",
      "text/plain": [
       "<Figure size 432x288 with 1 Axes>"
      ]
     },
     "metadata": {
      "needs_background": "light"
     },
     "output_type": "display_data"
    }
   ],
   "source": [
    "# построение диаграммы\n",
    "sns.barplot(x=\"Dependents\", y=\"Churn\", data=df)"
   ]
  },
  {
   "cell_type": "markdown",
   "id": "6e7a9bac",
   "metadata": {},
   "source": [
    "30% клиентов без иждивенцев и 15% клиентов с иждивенцами отказались от услуг компании."
   ]
  },
  {
   "cell_type": "markdown",
   "id": "d6263d02",
   "metadata": {},
   "source": [
    "Признак **Type**"
   ]
  },
  {
   "cell_type": "code",
   "execution_count": 51,
   "id": "8216ae45",
   "metadata": {
    "scrolled": true
   },
   "outputs": [
    {
     "data": {
      "text/plain": [
       "<AxesSubplot:xlabel='Type', ylabel='Churn'>"
      ]
     },
     "execution_count": 51,
     "metadata": {},
     "output_type": "execute_result"
    },
    {
     "data": {
      "image/png": "[encoded data removed]",
      "text/plain": [
       "<Figure size 432x288 with 1 Axes>"
      ]
     },
     "metadata": {
      "needs_background": "light"
     },
     "output_type": "display_data"
    }
   ],
   "source": [
    "# построение диаграммы\n",
    "sns.barplot(x=\"Type\", y=\"Churn\", data=df)"
   ]
  },
  {
   "cell_type": "markdown",
   "id": "c9131f25",
   "metadata": {},
   "source": [
    "45% клиентов, оплачивавших услуги ежемесячно, 10% клиентов с оплатой за год и 0.3% клиентов с оплатой за два года отказались от услуг компании."
   ]
  },
  {
   "cell_type": "markdown",
   "id": "21e1b8b3",
   "metadata": {},
   "source": [
    "Признак **PaperlessBilling**"
   ]
  },
  {
   "cell_type": "code",
   "execution_count": 52,
   "id": "15b25c36",
   "metadata": {
    "scrolled": false
   },
   "outputs": [
    {
     "data": {
      "text/plain": [
       "<AxesSubplot:xlabel='PaperlessBilling', ylabel='Churn'>"
      ]
     },
     "execution_count": 52,
     "metadata": {},
     "output_type": "execute_result"
    },
    {
     "data": {
      "image/png": "[encoded data removed]",
      "text/plain": [
       "<Figure size 432x288 with 1 Axes>"
      ]
     },
     "metadata": {
      "needs_background": "light"
     },
     "output_type": "display_data"
    }
   ],
   "source": [
    "# построение диаграммы\n",
    "sns.barplot(x=\"PaperlessBilling\", y=\"Churn\", data=df)"
   ]
  },
  {
   "cell_type": "markdown",
   "id": "c4a55ff8",
   "metadata": {},
   "source": [
    "33% клиентов, получавших счета за услуги на электронную почту, и 15% клиентов, получавших счета на бумажном носителе, отказались от услуг компании."
   ]
  },
  {
   "cell_type": "markdown",
   "id": "9db3c56c",
   "metadata": {},
   "source": [
    "Признак **PaymentMethod**"
   ]
  },
  {
   "cell_type": "code",
   "execution_count": 53,
   "id": "00521a8b",
   "metadata": {
    "scrolled": false
   },
   "outputs": [
    {
     "data": {
      "text/plain": [
       "(array([0, 1, 2, 3]),\n",
       " [Text(0, 0, 'Electronic check'),\n",
       "  Text(1, 0, 'Mailed check'),\n",
       "  Text(2, 0, 'Bank transfer (automatic)'),\n",
       "  Text(3, 0, 'Credit card (automatic)')])"
      ]
     },
     "execution_count": 53,
     "metadata": {},
     "output_type": "execute_result"
    },
    {
     "data": {
      "image/png": "[encoded data removed]",
      "text/plain": [
       "<Figure size 432x288 with 1 Axes>"
      ]
     },
     "metadata": {
      "needs_background": "light"
     },
     "output_type": "display_data"
    }
   ],
   "source": [
    "# построение диаграммы \n",
    "sns.barplot(x=\"PaymentMethod\", y=\"Churn\", data=df)\n",
    "plt.xticks(rotation = 45)"
   ]
  },
  {
   "cell_type": "markdown",
   "id": "f6ae05b1",
   "metadata": {},
   "source": [
    "45% клиентов, оплачивавших счета электронно, 20% клиентов, оплачивавших счета отправкой чека по почте, 18% клиентов, оплачивавших счета автоматическим списанием с банковского счета, и 17% клиентов, оплачивавших счета автоматическими списаниями с карты, отказались от услуг компании."
   ]
  },
  {
   "cell_type": "markdown",
   "id": "12850a87",
   "metadata": {},
   "source": [
    "Признак **MonthlyCharges**"
   ]
  },
  {
   "cell_type": "markdown",
   "id": "9f32f258",
   "metadata": {},
   "source": [
    "Для оценки распределения месячных затрат на услуги среди клиентов, отказавшихся от услуг компании, сделаем срез данных по условию Churn == 1."
   ]
  },
  {
   "cell_type": "code",
   "execution_count": 54,
   "id": "6f053e49",
   "metadata": {
    "scrolled": true
   },
   "outputs": [],
   "source": [
    "# отбор клиентов, отказавшихся от услуг компании\n",
    "df_churn = df.query('Churn == 1')"
   ]
  },
  {
   "cell_type": "code",
   "execution_count": 55,
   "id": "728a222b",
   "metadata": {
    "scrolled": true
   },
   "outputs": [
    {
     "data": {
      "text/plain": [
       "<AxesSubplot:>"
      ]
     },
     "execution_count": 55,
     "metadata": {},
     "output_type": "execute_result"
    },
    {
     "data": {
      "image/png": "[encoded data removed]",
      "text/plain": [
       "<Figure size 432x288 with 1 Axes>"
      ]
     },
     "metadata": {
      "needs_background": "light"
     },
     "output_type": "display_data"
    }
   ],
   "source": [
    "# построение гистограммы\n",
    "fig, axes = plt.subplots(sharex=True, sharey=True)\n",
    "fig.text(0.5, 0.04, 'MonthlyCharges', ha='center')\n",
    "fig.text(0.09, 0.9, 'Частота', va='center', rotation='vertical')\n",
    "df_churn['MonthlyCharges'].hist(bins=5)"
   ]
  },
  {
   "cell_type": "markdown",
   "id": "220b5b8d",
   "metadata": {},
   "source": [
    "Ежемесячные расходы на связь у ушедших клиентов распределены между 20 и 120 долларами. Максимальное число клиентов расходовало в месяц 80-100 долларов."
   ]
  },
  {
   "cell_type": "markdown",
   "id": "19fe46d6",
   "metadata": {},
   "source": [
    "Признак **OnlineSecurity**"
   ]
  },
  {
   "cell_type": "code",
   "execution_count": 56,
   "id": "0a6c686c",
   "metadata": {},
   "outputs": [
    {
     "data": {
      "text/plain": [
       "<AxesSubplot:xlabel='OnlineSecurity', ylabel='Churn'>"
      ]
     },
     "execution_count": 56,
     "metadata": {},
     "output_type": "execute_result"
    },
    {
     "data": {
      "image/png": "[encoded data removed]",
      "text/plain": [
       "<Figure size 432x288 with 1 Axes>"
      ]
     },
     "metadata": {
      "needs_background": "light"
     },
     "output_type": "display_data"
    }
   ],
   "source": [
    "# построение диаграммы \n",
    "sns.barplot(x=\"OnlineSecurity\", y=\"Churn\", data=df)"
   ]
  },
  {
   "cell_type": "markdown",
   "id": "b12ed320",
   "metadata": {},
   "source": [
    "31% клиентов, не пользовавшихся услугой блокировки небезопасных сайтов, и 15% пользовавшихся этой услугой, отказались от услуг компании."
   ]
  },
  {
   "cell_type": "markdown",
   "id": "486b5aa4",
   "metadata": {},
   "source": [
    "Признак **TechSupport**"
   ]
  },
  {
   "cell_type": "code",
   "execution_count": 57,
   "id": "d4b73c6d",
   "metadata": {},
   "outputs": [
    {
     "data": {
      "text/plain": [
       "<AxesSubplot:xlabel='TechSupport', ylabel='Churn'>"
      ]
     },
     "execution_count": 57,
     "metadata": {},
     "output_type": "execute_result"
    },
    {
     "data": {
      "image/png": "[encoded data removed]",
      "text/plain": [
       "<Figure size 432x288 with 1 Axes>"
      ]
     },
     "metadata": {
      "needs_background": "light"
     },
     "output_type": "display_data"
    }
   ],
   "source": [
    "# построение диаграммы \n",
    "sns.barplot(x=\"TechSupport\", y=\"Churn\", data=df)"
   ]
  },
  {
   "cell_type": "markdown",
   "id": "e7c198ba",
   "metadata": {},
   "source": [
    "32% клиентов, не пользовавшихся услугами технической поддержки, и 15% пользовавшихся, отказались от услуг компании."
   ]
  },
  {
   "cell_type": "markdown",
   "id": "4fae0dc6",
   "metadata": {},
   "source": [
    "Признак **DaysOfService**"
   ]
  },
  {
   "cell_type": "code",
   "execution_count": 58,
   "id": "d0f16a8d",
   "metadata": {},
   "outputs": [
    {
     "data": {
      "text/plain": [
       "<AxesSubplot:>"
      ]
     },
     "execution_count": 58,
     "metadata": {},
     "output_type": "execute_result"
    },
    {
     "data": {
      "image/png": "[encoded data removed]",
      "text/plain": [
       "<Figure size 432x288 with 1 Axes>"
      ]
     },
     "metadata": {
      "needs_background": "light"
     },
     "output_type": "display_data"
    }
   ],
   "source": [
    "# построение гистограммы\n",
    "fig, axes = plt.subplots(sharex=True, sharey=True)\n",
    "fig.text(0.5, 0.04, 'DaysOfService', ha='center')\n",
    "fig.text(0.09, 0.9, 'Частота', va='center', rotation='vertical')\n",
    "df_churn['DaysOfService'].hist(bins=5)"
   ]
  },
  {
   "cell_type": "markdown",
   "id": "a5cc0735",
   "metadata": {},
   "source": [
    "Количество дней обслуживая у ушедших клиентов распределено в диапазоне 10-2100 дней, максимальное число клиентов ушло после обслуживания в течение первых 480 дней (в течение первого года-полутора)."
   ]
  },
  {
   "cell_type": "markdown",
   "id": "1c00459b",
   "metadata": {},
   "source": [
    "## Подготовка данных для обучения и тестирования моделей"
   ]
  },
  {
   "cell_type": "markdown",
   "id": "2dac04cc",
   "metadata": {},
   "source": [
    "Разделим выборку и подготовим данные для обучения моделей: обработаем качественные признаки техникой OHE, сбалансируем классы в обучающей выборке, проведем стандартизацию количественных признаков."
   ]
  },
  {
   "cell_type": "markdown",
   "id": "76d41afc",
   "metadata": {},
   "source": [
    "Зададим random_state = 190922"
   ]
  },
  {
   "cell_type": "code",
   "execution_count": 59,
   "id": "9b7fa335",
   "metadata": {},
   "outputs": [],
   "source": [
    "# фиксирование random_state\n",
    "state = np.random.RandomState(190922)"
   ]
  },
  {
   "cell_type": "markdown",
   "id": "6f64046b",
   "metadata": {},
   "source": [
    "**Разделим выборку на обучающую и тестовую**."
   ]
  },
  {
   "cell_type": "code",
   "execution_count": 60,
   "id": "29cc8184",
   "metadata": {},
   "outputs": [],
   "source": [
    "# разделение признаков и целевого признака на обучающую и тестовую выборки\n",
    "features_train, features_test, target_train, target_test = train_test_split(\n",
    "    df.drop(['Churn'], axis=1), df['Churn'], test_size=0.25, random_state = state \n",
    ")"
   ]
  },
  {
   "cell_type": "markdown",
   "id": "b0d191ef",
   "metadata": {},
   "source": [
    "Оценим размер получившихся выборок."
   ]
  },
  {
   "cell_type": "code",
   "execution_count": 61,
   "id": "6c6dec11",
   "metadata": {},
   "outputs": [
    {
     "data": {
      "text/plain": [
       "(5272, 10)"
      ]
     },
     "execution_count": 61,
     "metadata": {},
     "output_type": "execute_result"
    }
   ],
   "source": [
    "# вывод размера выборки\n",
    "features_train.shape"
   ]
  },
  {
   "cell_type": "code",
   "execution_count": 62,
   "id": "ecd6123e",
   "metadata": {},
   "outputs": [
    {
     "data": {
      "text/plain": [
       "(1758, 10)"
      ]
     },
     "execution_count": 62,
     "metadata": {},
     "output_type": "execute_result"
    }
   ],
   "source": [
    "# вывод размера выборки\n",
    "features_test.shape"
   ]
  },
  {
   "cell_type": "code",
   "execution_count": 63,
   "id": "7fbc0be8",
   "metadata": {},
   "outputs": [
    {
     "data": {
      "text/plain": [
       "(5272,)"
      ]
     },
     "execution_count": 63,
     "metadata": {},
     "output_type": "execute_result"
    }
   ],
   "source": [
    "# вывод размера выборки\n",
    "target_train.shape"
   ]
  },
  {
   "cell_type": "code",
   "execution_count": 64,
   "id": "b4e3271a",
   "metadata": {},
   "outputs": [
    {
     "data": {
      "text/plain": [
       "(1758,)"
      ]
     },
     "execution_count": 64,
     "metadata": {},
     "output_type": "execute_result"
    }
   ],
   "source": [
    "# вывод размера выборки\n",
    "target_test.shape"
   ]
  },
  {
   "cell_type": "markdown",
   "id": "65e6f078",
   "metadata": {},
   "source": [
    "Разделение проведено корректно."
   ]
  },
  {
   "cell_type": "markdown",
   "id": "57b11fa6",
   "metadata": {},
   "source": [
    "**Преобразуем качественные признаки техникой OHE** в обучающей и тестовой выборках, чтобы использовать их для обучения и тестирования моделей."
   ]
  },
  {
   "cell_type": "code",
   "execution_count": 65,
   "id": "b8176519",
   "metadata": {},
   "outputs": [],
   "source": [
    "# преобразование категориальных признаков в обучающей выборке\n",
    "features_train = pd.get_dummies(features_train, drop_first = True)"
   ]
  },
  {
   "cell_type": "code",
   "execution_count": 66,
   "id": "ca3f1a7d",
   "metadata": {},
   "outputs": [
    {
     "data": {
      "text/html": [
       "<div>\n",
       "<style scoped>\n",
       "    .dataframe tbody tr th:only-of-type {\n",
       "        vertical-align: middle;\n",
       "    }\n",
       "\n",
       "    .dataframe tbody tr th {\n",
       "        vertical-align: top;\n",
       "    }\n",
       "\n",
       "    .dataframe thead th {\n",
       "        text-align: right;\n",
       "    }\n",
       "</style>\n",
       "<table border=\"1\" class=\"dataframe\">\n",
       "  <thead>\n",
       "    <tr style=\"text-align: right;\">\n",
       "      <th></th>\n",
       "      <th>MonthlyCharges</th>\n",
       "      <th>DaysOfService</th>\n",
       "      <th>SeniorCitizen_1</th>\n",
       "      <th>Partner_Yes</th>\n",
       "      <th>Dependents_Yes</th>\n",
       "      <th>Type_One year</th>\n",
       "      <th>Type_Two year</th>\n",
       "      <th>PaperlessBilling_Yes</th>\n",
       "      <th>PaymentMethod_Credit card (automatic)</th>\n",
       "      <th>PaymentMethod_Electronic check</th>\n",
       "      <th>PaymentMethod_Mailed check</th>\n",
       "      <th>OnlineSecurity_Yes</th>\n",
       "      <th>TechSupport_Yes</th>\n",
       "    </tr>\n",
       "    <tr>\n",
       "      <th>customerID</th>\n",
       "      <th></th>\n",
       "      <th></th>\n",
       "      <th></th>\n",
       "      <th></th>\n",
       "      <th></th>\n",
       "      <th></th>\n",
       "      <th></th>\n",
       "      <th></th>\n",
       "      <th></th>\n",
       "      <th></th>\n",
       "      <th></th>\n",
       "      <th></th>\n",
       "      <th></th>\n",
       "    </tr>\n",
       "  </thead>\n",
       "  <tbody>\n",
       "    <tr>\n",
       "      <th>0219-QAERP</th>\n",
       "      <td>19.80</td>\n",
       "      <td>914</td>\n",
       "      <td>0</td>\n",
       "      <td>1</td>\n",
       "      <td>0</td>\n",
       "      <td>1</td>\n",
       "      <td>0</td>\n",
       "      <td>0</td>\n",
       "      <td>1</td>\n",
       "      <td>0</td>\n",
       "      <td>0</td>\n",
       "      <td>0</td>\n",
       "      <td>0</td>\n",
       "    </tr>\n",
       "    <tr>\n",
       "      <th>1543-LLLFT</th>\n",
       "      <td>98.30</td>\n",
       "      <td>1857</td>\n",
       "      <td>1</td>\n",
       "      <td>1</td>\n",
       "      <td>0</td>\n",
       "      <td>1</td>\n",
       "      <td>0</td>\n",
       "      <td>1</td>\n",
       "      <td>0</td>\n",
       "      <td>0</td>\n",
       "      <td>1</td>\n",
       "      <td>0</td>\n",
       "      <td>1</td>\n",
       "    </tr>\n",
       "    <tr>\n",
       "      <th>3378-AJRAO</th>\n",
       "      <td>24.85</td>\n",
       "      <td>1340</td>\n",
       "      <td>0</td>\n",
       "      <td>1</td>\n",
       "      <td>1</td>\n",
       "      <td>1</td>\n",
       "      <td>0</td>\n",
       "      <td>0</td>\n",
       "      <td>0</td>\n",
       "      <td>1</td>\n",
       "      <td>0</td>\n",
       "      <td>0</td>\n",
       "      <td>0</td>\n",
       "    </tr>\n",
       "    <tr>\n",
       "      <th>6828-HMKWP</th>\n",
       "      <td>21.05</td>\n",
       "      <td>365</td>\n",
       "      <td>0</td>\n",
       "      <td>1</td>\n",
       "      <td>1</td>\n",
       "      <td>0</td>\n",
       "      <td>1</td>\n",
       "      <td>0</td>\n",
       "      <td>0</td>\n",
       "      <td>0</td>\n",
       "      <td>0</td>\n",
       "      <td>0</td>\n",
       "      <td>0</td>\n",
       "    </tr>\n",
       "    <tr>\n",
       "      <th>3292-PBZEJ</th>\n",
       "      <td>111.40</td>\n",
       "      <td>337</td>\n",
       "      <td>1</td>\n",
       "      <td>0</td>\n",
       "      <td>0</td>\n",
       "      <td>0</td>\n",
       "      <td>0</td>\n",
       "      <td>1</td>\n",
       "      <td>0</td>\n",
       "      <td>1</td>\n",
       "      <td>0</td>\n",
       "      <td>0</td>\n",
       "      <td>1</td>\n",
       "    </tr>\n",
       "  </tbody>\n",
       "</table>\n",
       "</div>"
      ],
      "text/plain": [
       "            MonthlyCharges  DaysOfService  SeniorCitizen_1  Partner_Yes  \\\n",
       "customerID                                                                \n",
       "0219-QAERP           19.80            914                0            1   \n",
       "1543-LLLFT           98.30           1857                1            1   \n",
       "3378-AJRAO           24.85           1340                0            1   \n",
       "6828-HMKWP           21.05            365                0            1   \n",
       "3292-PBZEJ          111.40            337                1            0   \n",
       "\n",
       "            Dependents_Yes  Type_One year  Type_Two year  \\\n",
       "customerID                                                 \n",
       "0219-QAERP               0              1              0   \n",
       "1543-LLLFT               0              1              0   \n",
       "3378-AJRAO               1              1              0   \n",
       "6828-HMKWP               1              0              1   \n",
       "3292-PBZEJ               0              0              0   \n",
       "\n",
       "            PaperlessBilling_Yes  PaymentMethod_Credit card (automatic)  \\\n",
       "customerID                                                                \n",
       "0219-QAERP                     0                                      1   \n",
       "1543-LLLFT                     1                                      0   \n",
       "3378-AJRAO                     0                                      0   \n",
       "6828-HMKWP                     0                                      0   \n",
       "3292-PBZEJ                     1                                      0   \n",
       "\n",
       "            PaymentMethod_Electronic check  PaymentMethod_Mailed check  \\\n",
       "customerID                                                               \n",
       "0219-QAERP                               0                           0   \n",
       "1543-LLLFT                               0                           1   \n",
       "3378-AJRAO                               1                           0   \n",
       "6828-HMKWP                               0                           0   \n",
       "3292-PBZEJ                               1                           0   \n",
       "\n",
       "            OnlineSecurity_Yes  TechSupport_Yes  \n",
       "customerID                                       \n",
       "0219-QAERP                   0                0  \n",
       "1543-LLLFT                   0                1  \n",
       "3378-AJRAO                   0                0  \n",
       "6828-HMKWP                   0                0  \n",
       "3292-PBZEJ                   0                1  "
      ]
     },
     "execution_count": 66,
     "metadata": {},
     "output_type": "execute_result"
    }
   ],
   "source": [
    "# проверка порядка колонок\n",
    "features_train.head()"
   ]
  },
  {
   "cell_type": "code",
   "execution_count": 67,
   "id": "d54d2bb5",
   "metadata": {},
   "outputs": [],
   "source": [
    "# преобразование категориальных признаков в тестовой выборке\n",
    "features_test = pd.get_dummies(features_test, drop_first = True)"
   ]
  },
  {
   "cell_type": "code",
   "execution_count": 68,
   "id": "b6bf1b65",
   "metadata": {},
   "outputs": [
    {
     "data": {
      "text/html": [
       "<div>\n",
       "<style scoped>\n",
       "    .dataframe tbody tr th:only-of-type {\n",
       "        vertical-align: middle;\n",
       "    }\n",
       "\n",
       "    .dataframe tbody tr th {\n",
       "        vertical-align: top;\n",
       "    }\n",
       "\n",
       "    .dataframe thead th {\n",
       "        text-align: right;\n",
       "    }\n",
       "</style>\n",
       "<table border=\"1\" class=\"dataframe\">\n",
       "  <thead>\n",
       "    <tr style=\"text-align: right;\">\n",
       "      <th></th>\n",
       "      <th>MonthlyCharges</th>\n",
       "      <th>DaysOfService</th>\n",
       "      <th>SeniorCitizen_1</th>\n",
       "      <th>Partner_Yes</th>\n",
       "      <th>Dependents_Yes</th>\n",
       "      <th>Type_One year</th>\n",
       "      <th>Type_Two year</th>\n",
       "      <th>PaperlessBilling_Yes</th>\n",
       "      <th>PaymentMethod_Credit card (automatic)</th>\n",
       "      <th>PaymentMethod_Electronic check</th>\n",
       "      <th>PaymentMethod_Mailed check</th>\n",
       "      <th>OnlineSecurity_Yes</th>\n",
       "      <th>TechSupport_Yes</th>\n",
       "    </tr>\n",
       "    <tr>\n",
       "      <th>customerID</th>\n",
       "      <th></th>\n",
       "      <th></th>\n",
       "      <th></th>\n",
       "      <th></th>\n",
       "      <th></th>\n",
       "      <th></th>\n",
       "      <th></th>\n",
       "      <th></th>\n",
       "      <th></th>\n",
       "      <th></th>\n",
       "      <th></th>\n",
       "      <th></th>\n",
       "      <th></th>\n",
       "    </tr>\n",
       "  </thead>\n",
       "  <tbody>\n",
       "    <tr>\n",
       "      <th>8756-RDDLT</th>\n",
       "      <td>44.95</td>\n",
       "      <td>2071</td>\n",
       "      <td>0</td>\n",
       "      <td>0</td>\n",
       "      <td>0</td>\n",
       "      <td>0</td>\n",
       "      <td>0</td>\n",
       "      <td>0</td>\n",
       "      <td>0</td>\n",
       "      <td>1</td>\n",
       "      <td>0</td>\n",
       "      <td>0</td>\n",
       "      <td>1</td>\n",
       "    </tr>\n",
       "    <tr>\n",
       "      <th>9396-ZSFLL</th>\n",
       "      <td>48.85</td>\n",
       "      <td>457</td>\n",
       "      <td>0</td>\n",
       "      <td>0</td>\n",
       "      <td>0</td>\n",
       "      <td>0</td>\n",
       "      <td>0</td>\n",
       "      <td>0</td>\n",
       "      <td>0</td>\n",
       "      <td>0</td>\n",
       "      <td>1</td>\n",
       "      <td>0</td>\n",
       "      <td>0</td>\n",
       "    </tr>\n",
       "    <tr>\n",
       "      <th>2710-WYVXG</th>\n",
       "      <td>71.10</td>\n",
       "      <td>92</td>\n",
       "      <td>0</td>\n",
       "      <td>0</td>\n",
       "      <td>0</td>\n",
       "      <td>0</td>\n",
       "      <td>1</td>\n",
       "      <td>0</td>\n",
       "      <td>0</td>\n",
       "      <td>0</td>\n",
       "      <td>1</td>\n",
       "      <td>1</td>\n",
       "      <td>1</td>\n",
       "    </tr>\n",
       "    <tr>\n",
       "      <th>6161-UUUTA</th>\n",
       "      <td>79.90</td>\n",
       "      <td>92</td>\n",
       "      <td>1</td>\n",
       "      <td>0</td>\n",
       "      <td>0</td>\n",
       "      <td>0</td>\n",
       "      <td>0</td>\n",
       "      <td>1</td>\n",
       "      <td>0</td>\n",
       "      <td>1</td>\n",
       "      <td>0</td>\n",
       "      <td>0</td>\n",
       "      <td>0</td>\n",
       "    </tr>\n",
       "    <tr>\n",
       "      <th>2040-OBMLJ</th>\n",
       "      <td>81.70</td>\n",
       "      <td>945</td>\n",
       "      <td>0</td>\n",
       "      <td>0</td>\n",
       "      <td>0</td>\n",
       "      <td>1</td>\n",
       "      <td>0</td>\n",
       "      <td>0</td>\n",
       "      <td>1</td>\n",
       "      <td>0</td>\n",
       "      <td>0</td>\n",
       "      <td>0</td>\n",
       "      <td>1</td>\n",
       "    </tr>\n",
       "  </tbody>\n",
       "</table>\n",
       "</div>"
      ],
      "text/plain": [
       "            MonthlyCharges  DaysOfService  SeniorCitizen_1  Partner_Yes  \\\n",
       "customerID                                                                \n",
       "8756-RDDLT           44.95           2071                0            0   \n",
       "9396-ZSFLL           48.85            457                0            0   \n",
       "2710-WYVXG           71.10             92                0            0   \n",
       "6161-UUUTA           79.90             92                1            0   \n",
       "2040-OBMLJ           81.70            945                0            0   \n",
       "\n",
       "            Dependents_Yes  Type_One year  Type_Two year  \\\n",
       "customerID                                                 \n",
       "8756-RDDLT               0              0              0   \n",
       "9396-ZSFLL               0              0              0   \n",
       "2710-WYVXG               0              0              1   \n",
       "6161-UUUTA               0              0              0   \n",
       "2040-OBMLJ               0              1              0   \n",
       "\n",
       "            PaperlessBilling_Yes  PaymentMethod_Credit card (automatic)  \\\n",
       "customerID                                                                \n",
       "8756-RDDLT                     0                                      0   \n",
       "9396-ZSFLL                     0                                      0   \n",
       "2710-WYVXG                     0                                      0   \n",
       "6161-UUUTA                     1                                      0   \n",
       "2040-OBMLJ                     0                                      1   \n",
       "\n",
       "            PaymentMethod_Electronic check  PaymentMethod_Mailed check  \\\n",
       "customerID                                                               \n",
       "8756-RDDLT                               1                           0   \n",
       "9396-ZSFLL                               0                           1   \n",
       "2710-WYVXG                               0                           1   \n",
       "6161-UUUTA                               1                           0   \n",
       "2040-OBMLJ                               0                           0   \n",
       "\n",
       "            OnlineSecurity_Yes  TechSupport_Yes  \n",
       "customerID                                       \n",
       "8756-RDDLT                   0                1  \n",
       "9396-ZSFLL                   0                0  \n",
       "2710-WYVXG                   1                1  \n",
       "6161-UUUTA                   0                0  \n",
       "2040-OBMLJ                   0                1  "
      ]
     },
     "execution_count": 68,
     "metadata": {},
     "output_type": "execute_result"
    }
   ],
   "source": [
    "# проверка порядка колонок\n",
    "features_test.head()"
   ]
  },
  {
   "cell_type": "markdown",
   "id": "9408a940",
   "metadata": {},
   "source": [
    "Поскольку в признаках присутствуют количественные признаки с разными разбросами значений (колонки MonthlyCharges и DaysOfService), во избежание присвоения бОльшего веса признакам с бОльшими значениями и разбросом **приведем признаки к одному масштабу с помощью стандартизации данных**."
   ]
  },
  {
   "cell_type": "code",
   "execution_count": 69,
   "id": "0ec1caf9",
   "metadata": {},
   "outputs": [],
   "source": [
    "# код от предупреждения SettingWithCopy\n",
    "pd.options.mode.chained_assignment = None\n",
    "# формирование списка стобцов и создание структуры для стандартизации\n",
    "numeric=['MonthlyCharges', 'DaysOfService']\n",
    "scaler = StandardScaler()\n",
    "# настройка стандартизации на обучающих данных\n",
    "scaler.fit(features_train[numeric]) \n",
    "# стандартизация выборок для обучения и тестирования\n",
    "features_train[numeric] = scaler.transform(features_train[numeric])\n",
    "features_test[numeric] = scaler.transform(features_test[numeric])"
   ]
  },
  {
   "cell_type": "markdown",
   "id": "15005d21",
   "metadata": {},
   "source": [
    "Проверим результат."
   ]
  },
  {
   "cell_type": "code",
   "execution_count": 70,
   "id": "ffa32203",
   "metadata": {},
   "outputs": [
    {
     "data": {
      "text/html": [
       "<div>\n",
       "<style scoped>\n",
       "    .dataframe tbody tr th:only-of-type {\n",
       "        vertical-align: middle;\n",
       "    }\n",
       "\n",
       "    .dataframe tbody tr th {\n",
       "        vertical-align: top;\n",
       "    }\n",
       "\n",
       "    .dataframe thead th {\n",
       "        text-align: right;\n",
       "    }\n",
       "</style>\n",
       "<table border=\"1\" class=\"dataframe\">\n",
       "  <thead>\n",
       "    <tr style=\"text-align: right;\">\n",
       "      <th></th>\n",
       "      <th>MonthlyCharges</th>\n",
       "      <th>DaysOfService</th>\n",
       "      <th>SeniorCitizen_1</th>\n",
       "      <th>Partner_Yes</th>\n",
       "      <th>Dependents_Yes</th>\n",
       "      <th>Type_One year</th>\n",
       "      <th>Type_Two year</th>\n",
       "      <th>PaperlessBilling_Yes</th>\n",
       "      <th>PaymentMethod_Credit card (automatic)</th>\n",
       "      <th>PaymentMethod_Electronic check</th>\n",
       "      <th>PaymentMethod_Mailed check</th>\n",
       "      <th>OnlineSecurity_Yes</th>\n",
       "      <th>TechSupport_Yes</th>\n",
       "    </tr>\n",
       "    <tr>\n",
       "      <th>customerID</th>\n",
       "      <th></th>\n",
       "      <th></th>\n",
       "      <th></th>\n",
       "      <th></th>\n",
       "      <th></th>\n",
       "      <th></th>\n",
       "      <th></th>\n",
       "      <th></th>\n",
       "      <th></th>\n",
       "      <th></th>\n",
       "      <th></th>\n",
       "      <th></th>\n",
       "      <th></th>\n",
       "    </tr>\n",
       "  </thead>\n",
       "  <tbody>\n",
       "    <tr>\n",
       "      <th>0219-QAERP</th>\n",
       "      <td>-1.502120</td>\n",
       "      <td>-0.084203</td>\n",
       "      <td>0</td>\n",
       "      <td>1</td>\n",
       "      <td>0</td>\n",
       "      <td>1</td>\n",
       "      <td>0</td>\n",
       "      <td>0</td>\n",
       "      <td>1</td>\n",
       "      <td>0</td>\n",
       "      <td>0</td>\n",
       "      <td>0</td>\n",
       "      <td>0</td>\n",
       "    </tr>\n",
       "    <tr>\n",
       "      <th>1543-LLLFT</th>\n",
       "      <td>1.107253</td>\n",
       "      <td>1.178140</td>\n",
       "      <td>1</td>\n",
       "      <td>1</td>\n",
       "      <td>0</td>\n",
       "      <td>1</td>\n",
       "      <td>0</td>\n",
       "      <td>1</td>\n",
       "      <td>0</td>\n",
       "      <td>0</td>\n",
       "      <td>1</td>\n",
       "      <td>0</td>\n",
       "      <td>1</td>\n",
       "    </tr>\n",
       "    <tr>\n",
       "      <th>3378-AJRAO</th>\n",
       "      <td>-1.334256</td>\n",
       "      <td>0.486060</td>\n",
       "      <td>0</td>\n",
       "      <td>1</td>\n",
       "      <td>1</td>\n",
       "      <td>1</td>\n",
       "      <td>0</td>\n",
       "      <td>0</td>\n",
       "      <td>0</td>\n",
       "      <td>1</td>\n",
       "      <td>0</td>\n",
       "      <td>0</td>\n",
       "      <td>0</td>\n",
       "    </tr>\n",
       "    <tr>\n",
       "      <th>6828-HMKWP</th>\n",
       "      <td>-1.460569</td>\n",
       "      <td>-0.819120</td>\n",
       "      <td>0</td>\n",
       "      <td>1</td>\n",
       "      <td>1</td>\n",
       "      <td>0</td>\n",
       "      <td>1</td>\n",
       "      <td>0</td>\n",
       "      <td>0</td>\n",
       "      <td>0</td>\n",
       "      <td>0</td>\n",
       "      <td>0</td>\n",
       "      <td>0</td>\n",
       "    </tr>\n",
       "    <tr>\n",
       "      <th>3292-PBZEJ</th>\n",
       "      <td>1.542703</td>\n",
       "      <td>-0.856602</td>\n",
       "      <td>1</td>\n",
       "      <td>0</td>\n",
       "      <td>0</td>\n",
       "      <td>0</td>\n",
       "      <td>0</td>\n",
       "      <td>1</td>\n",
       "      <td>0</td>\n",
       "      <td>1</td>\n",
       "      <td>0</td>\n",
       "      <td>0</td>\n",
       "      <td>1</td>\n",
       "    </tr>\n",
       "  </tbody>\n",
       "</table>\n",
       "</div>"
      ],
      "text/plain": [
       "            MonthlyCharges  DaysOfService  SeniorCitizen_1  Partner_Yes  \\\n",
       "customerID                                                                \n",
       "0219-QAERP       -1.502120      -0.084203                0            1   \n",
       "1543-LLLFT        1.107253       1.178140                1            1   \n",
       "3378-AJRAO       -1.334256       0.486060                0            1   \n",
       "6828-HMKWP       -1.460569      -0.819120                0            1   \n",
       "3292-PBZEJ        1.542703      -0.856602                1            0   \n",
       "\n",
       "            Dependents_Yes  Type_One year  Type_Two year  \\\n",
       "customerID                                                 \n",
       "0219-QAERP               0              1              0   \n",
       "1543-LLLFT               0              1              0   \n",
       "3378-AJRAO               1              1              0   \n",
       "6828-HMKWP               1              0              1   \n",
       "3292-PBZEJ               0              0              0   \n",
       "\n",
       "            PaperlessBilling_Yes  PaymentMethod_Credit card (automatic)  \\\n",
       "customerID                                                                \n",
       "0219-QAERP                     0                                      1   \n",
       "1543-LLLFT                     1                                      0   \n",
       "3378-AJRAO                     0                                      0   \n",
       "6828-HMKWP                     0                                      0   \n",
       "3292-PBZEJ                     1                                      0   \n",
       "\n",
       "            PaymentMethod_Electronic check  PaymentMethod_Mailed check  \\\n",
       "customerID                                                               \n",
       "0219-QAERP                               0                           0   \n",
       "1543-LLLFT                               0                           1   \n",
       "3378-AJRAO                               1                           0   \n",
       "6828-HMKWP                               0                           0   \n",
       "3292-PBZEJ                               1                           0   \n",
       "\n",
       "            OnlineSecurity_Yes  TechSupport_Yes  \n",
       "customerID                                       \n",
       "0219-QAERP                   0                0  \n",
       "1543-LLLFT                   0                1  \n",
       "3378-AJRAO                   0                0  \n",
       "6828-HMKWP                   0                0  \n",
       "3292-PBZEJ                   0                1  "
      ]
     },
     "execution_count": 70,
     "metadata": {},
     "output_type": "execute_result"
    }
   ],
   "source": [
    "# вывод первых 5 строк выборки\n",
    "features_train.head()"
   ]
  },
  {
   "cell_type": "code",
   "execution_count": 71,
   "id": "02a55f67",
   "metadata": {
    "scrolled": true
   },
   "outputs": [
    {
     "data": {
      "text/html": [
       "<div>\n",
       "<style scoped>\n",
       "    .dataframe tbody tr th:only-of-type {\n",
       "        vertical-align: middle;\n",
       "    }\n",
       "\n",
       "    .dataframe tbody tr th {\n",
       "        vertical-align: top;\n",
       "    }\n",
       "\n",
       "    .dataframe thead th {\n",
       "        text-align: right;\n",
       "    }\n",
       "</style>\n",
       "<table border=\"1\" class=\"dataframe\">\n",
       "  <thead>\n",
       "    <tr style=\"text-align: right;\">\n",
       "      <th></th>\n",
       "      <th>MonthlyCharges</th>\n",
       "      <th>DaysOfService</th>\n",
       "      <th>SeniorCitizen_1</th>\n",
       "      <th>Partner_Yes</th>\n",
       "      <th>Dependents_Yes</th>\n",
       "      <th>Type_One year</th>\n",
       "      <th>Type_Two year</th>\n",
       "      <th>PaperlessBilling_Yes</th>\n",
       "      <th>PaymentMethod_Credit card (automatic)</th>\n",
       "      <th>PaymentMethod_Electronic check</th>\n",
       "      <th>PaymentMethod_Mailed check</th>\n",
       "      <th>OnlineSecurity_Yes</th>\n",
       "      <th>TechSupport_Yes</th>\n",
       "    </tr>\n",
       "    <tr>\n",
       "      <th>customerID</th>\n",
       "      <th></th>\n",
       "      <th></th>\n",
       "      <th></th>\n",
       "      <th></th>\n",
       "      <th></th>\n",
       "      <th></th>\n",
       "      <th></th>\n",
       "      <th></th>\n",
       "      <th></th>\n",
       "      <th></th>\n",
       "      <th></th>\n",
       "      <th></th>\n",
       "      <th></th>\n",
       "    </tr>\n",
       "  </thead>\n",
       "  <tbody>\n",
       "    <tr>\n",
       "      <th>8756-RDDLT</th>\n",
       "      <td>-0.666123</td>\n",
       "      <td>1.464610</td>\n",
       "      <td>0</td>\n",
       "      <td>0</td>\n",
       "      <td>0</td>\n",
       "      <td>0</td>\n",
       "      <td>0</td>\n",
       "      <td>0</td>\n",
       "      <td>0</td>\n",
       "      <td>1</td>\n",
       "      <td>0</td>\n",
       "      <td>0</td>\n",
       "      <td>1</td>\n",
       "    </tr>\n",
       "    <tr>\n",
       "      <th>9396-ZSFLL</th>\n",
       "      <td>-0.536485</td>\n",
       "      <td>-0.695965</td>\n",
       "      <td>0</td>\n",
       "      <td>0</td>\n",
       "      <td>0</td>\n",
       "      <td>0</td>\n",
       "      <td>0</td>\n",
       "      <td>0</td>\n",
       "      <td>0</td>\n",
       "      <td>0</td>\n",
       "      <td>1</td>\n",
       "      <td>0</td>\n",
       "      <td>0</td>\n",
       "    </tr>\n",
       "    <tr>\n",
       "      <th>2710-WYVXG</th>\n",
       "      <td>0.203114</td>\n",
       "      <td>-1.184570</td>\n",
       "      <td>0</td>\n",
       "      <td>0</td>\n",
       "      <td>0</td>\n",
       "      <td>0</td>\n",
       "      <td>1</td>\n",
       "      <td>0</td>\n",
       "      <td>0</td>\n",
       "      <td>0</td>\n",
       "      <td>1</td>\n",
       "      <td>1</td>\n",
       "      <td>1</td>\n",
       "    </tr>\n",
       "    <tr>\n",
       "      <th>6161-UUUTA</th>\n",
       "      <td>0.495630</td>\n",
       "      <td>-1.184570</td>\n",
       "      <td>1</td>\n",
       "      <td>0</td>\n",
       "      <td>0</td>\n",
       "      <td>0</td>\n",
       "      <td>0</td>\n",
       "      <td>1</td>\n",
       "      <td>0</td>\n",
       "      <td>1</td>\n",
       "      <td>0</td>\n",
       "      <td>0</td>\n",
       "      <td>0</td>\n",
       "    </tr>\n",
       "    <tr>\n",
       "      <th>2040-OBMLJ</th>\n",
       "      <td>0.555462</td>\n",
       "      <td>-0.042705</td>\n",
       "      <td>0</td>\n",
       "      <td>0</td>\n",
       "      <td>0</td>\n",
       "      <td>1</td>\n",
       "      <td>0</td>\n",
       "      <td>0</td>\n",
       "      <td>1</td>\n",
       "      <td>0</td>\n",
       "      <td>0</td>\n",
       "      <td>0</td>\n",
       "      <td>1</td>\n",
       "    </tr>\n",
       "  </tbody>\n",
       "</table>\n",
       "</div>"
      ],
      "text/plain": [
       "            MonthlyCharges  DaysOfService  SeniorCitizen_1  Partner_Yes  \\\n",
       "customerID                                                                \n",
       "8756-RDDLT       -0.666123       1.464610                0            0   \n",
       "9396-ZSFLL       -0.536485      -0.695965                0            0   \n",
       "2710-WYVXG        0.203114      -1.184570                0            0   \n",
       "6161-UUUTA        0.495630      -1.184570                1            0   \n",
       "2040-OBMLJ        0.555462      -0.042705                0            0   \n",
       "\n",
       "            Dependents_Yes  Type_One year  Type_Two year  \\\n",
       "customerID                                                 \n",
       "8756-RDDLT               0              0              0   \n",
       "9396-ZSFLL               0              0              0   \n",
       "2710-WYVXG               0              0              1   \n",
       "6161-UUUTA               0              0              0   \n",
       "2040-OBMLJ               0              1              0   \n",
       "\n",
       "            PaperlessBilling_Yes  PaymentMethod_Credit card (automatic)  \\\n",
       "customerID                                                                \n",
       "8756-RDDLT                     0                                      0   \n",
       "9396-ZSFLL                     0                                      0   \n",
       "2710-WYVXG                     0                                      0   \n",
       "6161-UUUTA                     1                                      0   \n",
       "2040-OBMLJ                     0                                      1   \n",
       "\n",
       "            PaymentMethod_Electronic check  PaymentMethod_Mailed check  \\\n",
       "customerID                                                               \n",
       "8756-RDDLT                               1                           0   \n",
       "9396-ZSFLL                               0                           1   \n",
       "2710-WYVXG                               0                           1   \n",
       "6161-UUUTA                               1                           0   \n",
       "2040-OBMLJ                               0                           0   \n",
       "\n",
       "            OnlineSecurity_Yes  TechSupport_Yes  \n",
       "customerID                                       \n",
       "8756-RDDLT                   0                1  \n",
       "9396-ZSFLL                   0                0  \n",
       "2710-WYVXG                   1                1  \n",
       "6161-UUUTA                   0                0  \n",
       "2040-OBMLJ                   0                1  "
      ]
     },
     "execution_count": 71,
     "metadata": {},
     "output_type": "execute_result"
    }
   ],
   "source": [
    "# вывод первых 5 строк выборки\n",
    "features_test.head()"
   ]
  },
  {
   "cell_type": "markdown",
   "id": "a4e6f535",
   "metadata": {},
   "source": [
    "Проверим сбалансированность классов в обучающей выборке, поскольку для корректного результата важно проводить обучение на сбалансированном датасете."
   ]
  },
  {
   "cell_type": "code",
   "execution_count": 72,
   "id": "48e4afa6",
   "metadata": {
    "scrolled": true
   },
   "outputs": [
    {
     "data": {
      "text/plain": [
       "0    0.732\n",
       "1    0.268\n",
       "Name: Churn, dtype: float64"
      ]
     },
     "metadata": {},
     "output_type": "display_data"
    }
   ],
   "source": [
    "# вывод соотношения классов в колонке Churn\n",
    "class_frequency = target_train.value_counts(normalize=True).round(3)\n",
    "display(class_frequency)"
   ]
  },
  {
   "cell_type": "markdown",
   "id": "3cfed2a4",
   "metadata": {},
   "source": [
    "Выборка несбалансирована, количество ушедших клиентов почти в 3 раза меньше количества оставшихся клиентов.\n",
    "Визуализируем дисбаланс."
   ]
  },
  {
   "cell_type": "code",
   "execution_count": 73,
   "id": "c96c860c",
   "metadata": {
    "scrolled": false
   },
   "outputs": [
    {
     "data": {
      "text/plain": [
       "<AxesSubplot:title={'center':'Частота классов'}, xlabel='Класс', ylabel='Частота, %'>"
      ]
     },
     "execution_count": 73,
     "metadata": {},
     "output_type": "execute_result"
    },
    {
     "data": {
      "image/png": "[encoded data removed]",
      "text/plain": [
       "<Figure size 432x288 with 1 Axes>"
      ]
     },
     "metadata": {
      "needs_background": "light"
     },
     "output_type": "display_data"
    }
   ],
   "source": [
    "# построение диаграммы с частотой классов\n",
    "class_frequency.plot(kind='bar', xlabel='Класс', ylabel='Частота, %', title='Частота классов')"
   ]
  },
  {
   "cell_type": "markdown",
   "id": "db819a69",
   "metadata": {},
   "source": [
    "Для обучения моделей необходимо скорректировать несбалансированность выборки с помощью метода SMOTE."
   ]
  },
  {
   "cell_type": "code",
   "execution_count": 74,
   "id": "fc2035ee",
   "metadata": {},
   "outputs": [],
   "source": [
    "# балансировка выборки с помощью SMOTE\n",
    "X_resampled, y_resampled = SMOTE().fit_resample(features_train, target_train)"
   ]
  },
  {
   "cell_type": "code",
   "execution_count": 75,
   "id": "7cbd5076",
   "metadata": {},
   "outputs": [
    {
     "data": {
      "text/plain": [
       "(7718, 13)"
      ]
     },
     "execution_count": 75,
     "metadata": {},
     "output_type": "execute_result"
    }
   ],
   "source": [
    "# проверка размера сбалансированной выборки признаков\n",
    "X_resampled.shape"
   ]
  },
  {
   "cell_type": "code",
   "execution_count": 76,
   "id": "c2d23f0e",
   "metadata": {},
   "outputs": [
    {
     "data": {
      "text/plain": [
       "(7718,)"
      ]
     },
     "execution_count": 76,
     "metadata": {},
     "output_type": "execute_result"
    }
   ],
   "source": [
    "# проверка размера сбалансированной выборки с целевым признаком\n",
    "y_resampled.shape"
   ]
  },
  {
   "cell_type": "markdown",
   "id": "5feda289",
   "metadata": {},
   "source": [
    "Проверим результат балансировки."
   ]
  },
  {
   "cell_type": "code",
   "execution_count": 77,
   "id": "1d847bc7",
   "metadata": {
    "scrolled": true
   },
   "outputs": [
    {
     "data": {
      "text/plain": [
       "0    0.5\n",
       "1    0.5\n",
       "Name: Churn, dtype: float64"
      ]
     },
     "metadata": {},
     "output_type": "display_data"
    }
   ],
   "source": [
    "# вывод соотношения классов в колонке Churn\n",
    "class_frequency = y_resampled.value_counts(normalize=True).round(3)\n",
    "display(class_frequency)"
   ]
  },
  {
   "cell_type": "markdown",
   "id": "e9275ddd",
   "metadata": {},
   "source": [
    "Балансировка проведена корректно."
   ]
  },
  {
   "cell_type": "markdown",
   "id": "60a56f2b",
   "metadata": {},
   "source": [
    "## Обучение и тестирование моделей и выбор оптимальной модели"
   ]
  },
  {
   "cell_type": "markdown",
   "id": "36a3d9a7",
   "metadata": {},
   "source": [
    "Обучим и протестируем три модели (Логистической регрессии, Случайного леса и LGBM) с помощью кросс-валидации для выбора модели с наилучшими результатами на основании оценки метрики AUC-ROC."
   ]
  },
  {
   "cell_type": "code",
   "execution_count": 78,
   "id": "3bb63335",
   "metadata": {},
   "outputs": [],
   "source": [
    "# создание оценщика на основе AUC-ROC\n",
    "# AUCROC = make_scorer(roc_auc_score)"
   ]
  },
  {
   "cell_type": "markdown",
   "id": "9649440c",
   "metadata": {},
   "source": [
    "**Логистическая регрессия**"
   ]
  },
  {
   "cell_type": "code",
   "execution_count": 79,
   "id": "018ba1cc",
   "metadata": {},
   "outputs": [],
   "source": [
    "# создание модели\n",
    "model_reg = LogisticRegression(random_state=state, solver='lbfgs')"
   ]
  },
  {
   "cell_type": "code",
   "execution_count": 80,
   "id": "0920e87d",
   "metadata": {},
   "outputs": [
    {
     "name": "stdout",
     "output_type": "stream",
     "text": [
      "Логистическая регрессия_AUC-ROC на обучающей выборке: 0.8496428759706255\n"
     ]
    }
   ],
   "source": [
    "# обучение модели и оценка AUC-ROC на обучающей выборке с помощью кросс-валидации\n",
    "result_train_reg = cross_val_score (model_reg, X_resampled, y_resampled, cv=5, scoring='roc_auc').mean()\n",
    "print(\"Логистическая регрессия_AUC-ROC на обучающей выборке:\", result_train_reg)"
   ]
  },
  {
   "cell_type": "markdown",
   "id": "10de86b4",
   "metadata": {},
   "source": [
    "**Случайный лес**"
   ]
  },
  {
   "cell_type": "code",
   "execution_count": 81,
   "id": "f91e724c",
   "metadata": {},
   "outputs": [],
   "source": [
    "# подбор параметров с помощью GridSearchCV (код закомментирован, т.к. подбор параметров сильно грузит ноутбук)\n",
    "#clf = RandomForestClassifier(random_state=state)\n",
    "#parameters = {'n_estimators': range (10, 101, 10),\n",
    "              #'max_depth': range (5, 21, 2)}\n",
    "#grid = GridSearchCV(clf, parameters, cv=5, scoring='roc_auc', n_jobs=-1)\n",
    "#grid.fit(X_resampled, y_resampled)\n",
    "#grid.best_params_"
   ]
  },
  {
   "cell_type": "code",
   "execution_count": 82,
   "id": "eec14b53",
   "metadata": {},
   "outputs": [],
   "source": [
    "# вывод наилучшего результата метрики AUC-ROC\n",
    "#grid.best_score_"
   ]
  },
  {
   "cell_type": "code",
   "execution_count": 83,
   "id": "dadf7aa4",
   "metadata": {},
   "outputs": [],
   "source": [
    "# сознание модели с подобранными GridSearchCV параметрами\n",
    "model_forest = RandomForestClassifier(random_state=state, max_depth=19, n_estimators=100)"
   ]
  },
  {
   "cell_type": "markdown",
   "id": "4bd1c3b5",
   "metadata": {},
   "source": [
    "**LGBM**"
   ]
  },
  {
   "cell_type": "code",
   "execution_count": 84,
   "id": "555eb575",
   "metadata": {},
   "outputs": [],
   "source": [
    "# подбор параметров с помощью GridSearchCV (код закомментирован, т.к. подбор параметров сильно грузит ноутбук)\n",
    "#clf = ltb.LGBMClassifier(random_state=state)\n",
    "#parameters = {\n",
    "    #'max_depth': range (2, 100, 2),\n",
    "    #'n_estimators': range (10, 201, 20),\n",
    "    #'num_leaves': range (2, 51, 10),\n",
    "    #}\n",
    "#grid = GridSearchCV(clf, parameters, cv=5, scoring='roc_auc', n_jobs=-1)\n",
    "#grid.fit(X_resampled, y_resampled)\n",
    "#grid.best_params_"
   ]
  },
  {
   "cell_type": "code",
   "execution_count": 85,
   "id": "76abf9e5",
   "metadata": {},
   "outputs": [],
   "source": [
    "# вывод наилучшего результата метрики AUC-ROC\n",
    "#grid.best_score_"
   ]
  },
  {
   "cell_type": "code",
   "execution_count": 86,
   "id": "edcb395f",
   "metadata": {},
   "outputs": [],
   "source": [
    "# сознание модели с подобранными GridSearchCV параметрами\n",
    "model_LGBM = ltb.LGBMClassifier(random_state=state, max_depth=38, n_estimators=190, num_leaves=42)"
   ]
  },
  {
   "cell_type": "markdown",
   "id": "8d8aa8d8",
   "metadata": {},
   "source": [
    "Наилучшие результаты по метрике AUC-ROC на обучающей выборке показала модель LGBM (0.96). Проверим ее результаты на тестовой выборке."
   ]
  },
  {
   "cell_type": "markdown",
   "id": "88bf1f33",
   "metadata": {},
   "source": [
    "## Проверка результатов модели на тестовой выборке"
   ]
  },
  {
   "cell_type": "markdown",
   "id": "a4d0ff2a",
   "metadata": {},
   "source": [
    "Проверим результаты модели на тестовой выборке с помощью целевой метрики AUC-ROC, а также дополнительных метрик качества f1-score и accuracy."
   ]
  },
  {
   "cell_type": "markdown",
   "id": "9d97f129",
   "metadata": {},
   "source": [
    "Обучим выбранную модель."
   ]
  },
  {
   "cell_type": "code",
   "execution_count": 95,
   "id": "eae1b596",
   "metadata": {
    "scrolled": true
   },
   "outputs": [
    {
     "data": {
      "text/plain": [
       "LGBMClassifier(max_depth=38, n_estimators=190, num_leaves=42,\n",
       "               random_state=RandomState(MT19937) at 0x7F042E32A340)"
      ]
     },
     "execution_count": 95,
     "metadata": {},
     "output_type": "execute_result"
    }
   ],
   "source": [
    "# обучение модели\n",
    "model_LGBM.fit(X_resampled, y_resampled)"
   ]
  },
  {
   "cell_type": "code",
   "execution_count": 88,
   "id": "0646edf6",
   "metadata": {
    "scrolled": true
   },
   "outputs": [],
   "source": [
    "# предсказание целевого признака с помощью модели\n",
    "#predict_test_LGBM = model_LGBM.predict(features_test)"
   ]
  },
  {
   "cell_type": "markdown",
   "id": "75b8d064",
   "metadata": {},
   "source": [
    "Вычислим вероятности положительных классов."
   ]
  },
  {
   "cell_type": "code",
   "execution_count": 89,
   "id": "a475b69e",
   "metadata": {},
   "outputs": [],
   "source": [
    "# вычисление вероятностей классов\n",
    "probabilities_test = model_LGBM.predict_proba(features_test)"
   ]
  },
  {
   "cell_type": "code",
   "execution_count": 90,
   "id": "7ab73f8b",
   "metadata": {},
   "outputs": [
    {
     "data": {
      "text/plain": [
       "array([0.11220629, 0.18722262, 0.00472477, ..., 0.2706629 , 0.21479469,\n",
       "       0.0341226 ])"
      ]
     },
     "execution_count": 90,
     "metadata": {},
     "output_type": "execute_result"
    }
   ],
   "source": [
    "# формирование Series с вероятностями только положительного класса\n",
    "probabilities_one_test = probabilities_test[:, 1]\n",
    "probabilities_one_test"
   ]
  },
  {
   "cell_type": "markdown",
   "id": "afbbd9f2",
   "metadata": {},
   "source": [
    "Рассчитаем значение целевой метрики **AUC-ROC**."
   ]
  },
  {
   "cell_type": "code",
   "execution_count": 91,
   "id": "f14fc087",
   "metadata": {},
   "outputs": [
    {
     "name": "stdout",
     "output_type": "stream",
     "text": [
      "LGBM_AUC-ROC на тестовой выборке: 0.9126944254142246\n"
     ]
    }
   ],
   "source": [
    "# вывод целевой метрики AUC-ROC на тестовой выборке\n",
    "print('LGBM_AUC-ROC на тестовой выборке:', roc_auc_score(target_test, probabilities_one_test))"
   ]
  },
  {
   "cell_type": "markdown",
   "id": "e7422c76",
   "metadata": {},
   "source": [
    "Рассчитаем значение метрики качества **f1-score**."
   ]
  },
  {
   "cell_type": "code",
   "execution_count": 92,
   "id": "04ab70be",
   "metadata": {},
   "outputs": [],
   "source": [
    "predicted_test = model_LGBM.predict(features_test)"
   ]
  },
  {
   "cell_type": "code",
   "execution_count": 93,
   "id": "e9cdb8cc",
   "metadata": {
    "scrolled": true
   },
   "outputs": [
    {
     "name": "stdout",
     "output_type": "stream",
     "text": [
      "LGBM_f1-score на тестовой выборке: 0.7260726072607262\n"
     ]
    }
   ],
   "source": [
    "print('LGBM_f1-score на тестовой выборке:', f1_score(target_test, predicted_test))"
   ]
  },
  {
   "cell_type": "markdown",
   "id": "d39df50f",
   "metadata": {},
   "source": [
    "Рассчитаем значение метрики качества **accuracy**."
   ]
  },
  {
   "cell_type": "code",
   "execution_count": 94,
   "id": "537790f8",
   "metadata": {},
   "outputs": [
    {
     "name": "stdout",
     "output_type": "stream",
     "text": [
      "LGBM_accuracy на тестовой выборке: 0.8583617747440273\n"
     ]
    }
   ],
   "source": [
    "print('LGBM_accuracy на тестовой выборке:', accuracy_score(target_test, predicted_test))"
   ]
  },
  {
   "cell_type": "markdown",
   "id": "24cbfdda",
   "metadata": {},
   "source": [
    "## Общий вывод"
   ]
  },
  {
   "cell_type": "markdown",
   "id": "eab5e460",
   "metadata": {},
   "source": [
    "Подведем итоги проведенного исследования."
   ]
  },
  {
   "cell_type": "markdown",
   "id": "f3656ff5",
   "metadata": {},
   "source": [
    "<div style=\"border:solid blue 2px; padding: 20px\">\n",
    "    \n",
    "**Вывод** \n",
    "  \n",
    "В ходе проект проделаны следующие работы:\n",
    "    \n",
    "1. Загружены и изучены предоставленные 4 файла с данными.\n",
    "2. Для дальнейшей работы файлы объединены, заполнены пропуски и изменены типы данных там, где это было необходимо.\n",
    "3. Удалены полные дубликаты.\n",
    "4. Сформирован столбец с целевым признаком.\n",
    "5. Добавлен столбец с признаком о количестве дней обслуживания и удалены неинформативные признаки.\n",
    "6. Проведена оценка мультиколлинеарности признаков, удалены дублирующие признаки и признаки, слабо коррелирующие с целевым признаком.\n",
    "7. Выборка разделена на обучающую и тестовую, данные обработаны: произведено кодирование качественных признаков техникой OHE, стандартизация количественных признаков и балансировка классов техникой SMOTE в обучающей выборке.\n",
    "8. Проведено обучение моделей Логистической регрессии, Случайного леса и LGBM на обучающей выборке. \n",
    "9. Выбрана модель с наилучшим результатом по целевой метрике AUC-ROC - модель LGBM.\n",
    "10. Модель протестирована на тестовой выборке. Получены значения метрик качества: AUC-ROC - 0.91, f1-score - 0.72, accuracy - 0.85.\n",
    "Значение целевой метрики AUC-ROC достигнуто, модель может быть рекомендована к использованию. \n",
    "\n",
    "   \n",
    "<div>"
   ]
  },
  {
   "cell_type": "markdown",
   "id": "a84726f2",
   "metadata": {},
   "source": [
    "# ОТЧЕТ"
   ]
  },
  {
   "cell_type": "markdown",
   "id": "edb7050d",
   "metadata": {},
   "source": [
    "Отчет (ответы на 4 вопроса)\n",
    "1. Совпало ли итоговое решение с планом и почему\n",
    "  Не совсем совпало, изначальный план и комментарии по пунктам:\n",
    "  1. Загрузка данных: загрузим все предоставленные файлы (4 шт) и изучим их содержание\n",
    "Сделано в соответствии с планом\n",
    "  2. Исследование данных: изучим данные, чтобы определить, есть ли в них целевой признак, и какие признаки следует использовать для обучения модели\n",
    "Сформулировано очень обще, по факту было объединение данных, предобработка (пропуски, типы данных, дубликаты, добавление целевого признака, добавление признака с количеством дней обслуживания, удаление признаков с датами, оценка мультиколлинеарности и удаление лишних признаков, визуализация распределений и изучение оставшихся признаков).\n",
    "Работы оказалось больше, чем я предполагала. \n",
    "  3. Подготовка данных для обучения и тестирования моделей: подготовим данные для обучения моделей Логистической регрессии, Случайного леса и LGBM с использованием F1_score, accuracy и AUC-ROC как метрик качества \n",
    "Сделано в соответствии с планом: проведено разделение на выборки, обработка качественных признаков (искренне считала по итогам работы в тренажере, что get_dummies - это и есть OHE, но по комментарию ревьюера поняла, что нет, буду изучать самостоятельно; также в новинку была обработка после разделения, а также тот факт, что выборки признаков надо перепроверить, чтобы не были перепутаны местами колонки, т.к. get_dummies имеет такую побочку), стандартизация и балансировка новым для меня SMOTE.\n",
    "  4. Обучение и тестирование моделей и выбор оптимальной модели: обучим модели и выберем лучшую с помощью кросс-валидации\n",
    "Сделано в соответсвии с планом; открыла для себя, что GridSearch содержит кросс-валидацию, и отдельно ее после подбора параметров делать не надо.\n",
    "  5. Проверка результатов модели на тестовой выборке: проверим метрики качества модели на тестовой выборке и посмотрим на важность признаков\n",
    "Модель проверена на тестовой выборке в соответствии с планом, а важность признаков я оценивала раньше, на шаге 2; на последнем шаге это делать нелогично.\n",
    "  6. Общий вывод: сделаем вывод о рекомендуемой модели для использования заказчиком\n",
    "Сделала, модель рекомендую.\n",
    "\n",
    "2. Какие затруднения были, и как их решили\n",
    "  Немного запуталась с обработкой ошибок при изменении типа данных на дату (ячейки с пропусками), пришлось поднимать конспекты.\n",
    "  Также немного сбил тип данных в ячейке с целевым признаком: сначала сделала его category, потом исправила на int, т.к. с category не строилась диаграмма при анализе признаков (какой % с тем или иным признаком ушел в отток).\n",
    "  Про Phik и SMOTE пришлось почитать, благо, статьи содержали куски кода, который можно было позаимствовать)\n",
    "  Основная сложность, конечно, оказалась с достижением целевого значения метрики качества. Жаль, так и не попробовала модель CatBoost. Сокурсники писали, что она дает отличные результаты почти сразу. Но я побоялась, что мой ноут не потянет подбор параметров для нее, он у меня и на GridSearch для LGBM серьезно зависает.\n",
    "\n",
    "3. Какие были ключевые шаги решения? Какие признаки вошли в итоговую модель и почему? Как предобрабатывали эти данные?\n",
    "  В целом, шаги были определены в общем виде в плане, их я и старалась придерживаться:\n",
    "  1. Загрузить и изучить данные.\n",
    "  2. Провести предобработку и очистку от лишних признаков.\n",
    "  3. Подготовить данные для обучения.\n",
    "  4. Подобрать параметры и обучить 3 модели, выбрать лучшую.\n",
    "  5. Проверить ее на тестовых данных.\n",
    "  6. Сделать вывод.\n",
    "  В итоговую модель вошли признаки с существенной корреляцией с целевым признаком (>0.15). Признаки, имеющие высокую (>=0.75) корреляцию с другим признаком, были удалены  в рамках борьбы с мультиколлинеарностью.\n",
    "  Оставшиеся признаки вошли в модель: SeniorCitizen, Partner, Dependents, Type, PaperlessBilling, PaymentMethod, MonthlyCharges, OnlineSecurity, TechSupport, DaysOfService.\n",
    "  Для обучения качественные признаки я обработала с помощью get_dummies, количественные - с помощью standard_scaler, дополнительно сбалансировала обучающую выборку с помощью SMOTE.\n",
    "\n",
    "4. Описываем итоговую модель с ее гиперпараметрами, включая random state.\n",
    "Модель с наилучшими результатами на обучающей выборке (AUC-ROC 0.96) - модель LGBM.\n",
    "Параметры модели: random_state=190922, max_depth=38, n_estimators=190, num_leaves=42 (больше параметров брать не стала из опасения завесить ноут и не получить вообще никаких результатов.). \n",
    "Метрика AUC-ROC 0.92, f1 0.72, accuracy 0.85.\n"
   ]
  },
  {
   "cell_type": "code",
   "execution_count": null,
   "id": "86fed56d",
   "metadata": {},
   "outputs": [],
   "source": []
  }
 ],
 "metadata": {
  "ExecuteTimeLog": [
   {
    "duration": 87,
    "start_time": "2022-09-19T20:29:08.223Z"
   },
   {
    "duration": 789,
    "start_time": "2022-09-30T17:50:41.635Z"
   },
   {
    "duration": 0,
    "start_time": "2022-09-30T17:50:42.428Z"
   },
   {
    "duration": 0,
    "start_time": "2022-09-30T17:50:42.429Z"
   },
   {
    "duration": 0,
    "start_time": "2022-09-30T17:50:42.430Z"
   },
   {
    "duration": 0,
    "start_time": "2022-09-30T17:50:42.432Z"
   },
   {
    "duration": 0,
    "start_time": "2022-09-30T17:50:42.432Z"
   },
   {
    "duration": 0,
    "start_time": "2022-09-30T17:50:42.434Z"
   },
   {
    "duration": 0,
    "start_time": "2022-09-30T17:50:42.435Z"
   },
   {
    "duration": 0,
    "start_time": "2022-09-30T17:50:42.437Z"
   },
   {
    "duration": 0,
    "start_time": "2022-09-30T17:50:42.438Z"
   },
   {
    "duration": 0,
    "start_time": "2022-09-30T17:50:42.439Z"
   },
   {
    "duration": 0,
    "start_time": "2022-09-30T17:50:42.440Z"
   },
   {
    "duration": 0,
    "start_time": "2022-09-30T17:50:42.441Z"
   },
   {
    "duration": 0,
    "start_time": "2022-09-30T17:50:42.442Z"
   },
   {
    "duration": 0,
    "start_time": "2022-09-30T17:50:42.443Z"
   },
   {
    "duration": 0,
    "start_time": "2022-09-30T17:50:42.444Z"
   },
   {
    "duration": 0,
    "start_time": "2022-09-30T17:50:42.448Z"
   },
   {
    "duration": 0,
    "start_time": "2022-09-30T17:50:42.449Z"
   },
   {
    "duration": 0,
    "start_time": "2022-09-30T17:50:42.450Z"
   },
   {
    "duration": 1,
    "start_time": "2022-09-30T17:50:42.451Z"
   },
   {
    "duration": 0,
    "start_time": "2022-09-30T17:50:42.452Z"
   },
   {
    "duration": 0,
    "start_time": "2022-09-30T17:50:42.454Z"
   },
   {
    "duration": 0,
    "start_time": "2022-09-30T17:50:42.497Z"
   },
   {
    "duration": 0,
    "start_time": "2022-09-30T17:50:42.498Z"
   },
   {
    "duration": 0,
    "start_time": "2022-09-30T17:50:42.500Z"
   },
   {
    "duration": 0,
    "start_time": "2022-09-30T17:50:42.501Z"
   },
   {
    "duration": 0,
    "start_time": "2022-09-30T17:50:42.502Z"
   },
   {
    "duration": 0,
    "start_time": "2022-09-30T17:50:42.503Z"
   },
   {
    "duration": 0,
    "start_time": "2022-09-30T17:50:42.505Z"
   },
   {
    "duration": 0,
    "start_time": "2022-09-30T17:50:42.506Z"
   },
   {
    "duration": 0,
    "start_time": "2022-09-30T17:50:42.508Z"
   },
   {
    "duration": 0,
    "start_time": "2022-09-30T17:50:42.510Z"
   },
   {
    "duration": 0,
    "start_time": "2022-09-30T17:50:42.512Z"
   },
   {
    "duration": 0,
    "start_time": "2022-09-30T17:50:42.513Z"
   },
   {
    "duration": 0,
    "start_time": "2022-09-30T17:50:42.515Z"
   },
   {
    "duration": 0,
    "start_time": "2022-09-30T17:50:42.516Z"
   },
   {
    "duration": 0,
    "start_time": "2022-09-30T17:50:42.518Z"
   },
   {
    "duration": 0,
    "start_time": "2022-09-30T17:50:42.519Z"
   },
   {
    "duration": 0,
    "start_time": "2022-09-30T17:50:42.521Z"
   },
   {
    "duration": 0,
    "start_time": "2022-09-30T17:50:42.522Z"
   },
   {
    "duration": 0,
    "start_time": "2022-09-30T17:50:42.524Z"
   },
   {
    "duration": 0,
    "start_time": "2022-09-30T17:50:42.526Z"
   },
   {
    "duration": 0,
    "start_time": "2022-09-30T17:50:42.528Z"
   },
   {
    "duration": 0,
    "start_time": "2022-09-30T17:50:42.529Z"
   },
   {
    "duration": 0,
    "start_time": "2022-09-30T17:50:42.531Z"
   },
   {
    "duration": 0,
    "start_time": "2022-09-30T17:50:42.533Z"
   },
   {
    "duration": 0,
    "start_time": "2022-09-30T17:50:42.534Z"
   },
   {
    "duration": 0,
    "start_time": "2022-09-30T17:50:42.596Z"
   },
   {
    "duration": 0,
    "start_time": "2022-09-30T17:50:42.597Z"
   },
   {
    "duration": 0,
    "start_time": "2022-09-30T17:50:42.598Z"
   },
   {
    "duration": 0,
    "start_time": "2022-09-30T17:50:42.599Z"
   },
   {
    "duration": 0,
    "start_time": "2022-09-30T17:50:42.600Z"
   },
   {
    "duration": 0,
    "start_time": "2022-09-30T17:50:42.601Z"
   },
   {
    "duration": 0,
    "start_time": "2022-09-30T17:50:42.602Z"
   },
   {
    "duration": 0,
    "start_time": "2022-09-30T17:50:42.603Z"
   },
   {
    "duration": 0,
    "start_time": "2022-09-30T17:50:42.605Z"
   },
   {
    "duration": 0,
    "start_time": "2022-09-30T17:50:42.606Z"
   },
   {
    "duration": 0,
    "start_time": "2022-09-30T17:50:42.607Z"
   },
   {
    "duration": 0,
    "start_time": "2022-09-30T17:50:42.609Z"
   },
   {
    "duration": 0,
    "start_time": "2022-09-30T17:50:42.610Z"
   },
   {
    "duration": 0,
    "start_time": "2022-09-30T17:50:42.611Z"
   },
   {
    "duration": 0,
    "start_time": "2022-09-30T17:50:42.612Z"
   },
   {
    "duration": 0,
    "start_time": "2022-09-30T17:50:42.613Z"
   },
   {
    "duration": 0,
    "start_time": "2022-09-30T17:50:42.615Z"
   },
   {
    "duration": 0,
    "start_time": "2022-09-30T17:50:42.616Z"
   },
   {
    "duration": 0,
    "start_time": "2022-09-30T17:50:42.617Z"
   },
   {
    "duration": 0,
    "start_time": "2022-09-30T17:50:42.618Z"
   },
   {
    "duration": 0,
    "start_time": "2022-09-30T17:50:42.620Z"
   },
   {
    "duration": 0,
    "start_time": "2022-09-30T17:50:42.621Z"
   },
   {
    "duration": 0,
    "start_time": "2022-09-30T17:50:42.622Z"
   },
   {
    "duration": 0,
    "start_time": "2022-09-30T17:50:42.624Z"
   },
   {
    "duration": 0,
    "start_time": "2022-09-30T17:50:42.626Z"
   },
   {
    "duration": 0,
    "start_time": "2022-09-30T17:50:42.627Z"
   },
   {
    "duration": 0,
    "start_time": "2022-09-30T17:50:42.628Z"
   },
   {
    "duration": 0,
    "start_time": "2022-09-30T17:50:42.630Z"
   },
   {
    "duration": 10,
    "start_time": "2022-10-02T09:34:10.492Z"
   },
   {
    "duration": 1336,
    "start_time": "2022-10-02T09:34:57.753Z"
   },
   {
    "duration": 53,
    "start_time": "2022-10-02T09:34:59.092Z"
   },
   {
    "duration": 12,
    "start_time": "2022-10-02T09:34:59.146Z"
   },
   {
    "duration": 38,
    "start_time": "2022-10-02T09:34:59.159Z"
   },
   {
    "duration": 11,
    "start_time": "2022-10-02T09:34:59.199Z"
   },
   {
    "duration": 27,
    "start_time": "2022-10-02T09:34:59.211Z"
   },
   {
    "duration": 9,
    "start_time": "2022-10-02T09:34:59.240Z"
   },
   {
    "duration": 33,
    "start_time": "2022-10-02T09:34:59.251Z"
   },
   {
    "duration": 10,
    "start_time": "2022-10-02T09:34:59.285Z"
   },
   {
    "duration": 45,
    "start_time": "2022-10-02T09:34:59.298Z"
   },
   {
    "duration": 18,
    "start_time": "2022-10-02T09:34:59.345Z"
   },
   {
    "duration": 5,
    "start_time": "2022-10-02T09:34:59.364Z"
   },
   {
    "duration": 9,
    "start_time": "2022-10-02T09:34:59.370Z"
   },
   {
    "duration": 11,
    "start_time": "2022-10-02T09:34:59.381Z"
   },
   {
    "duration": 8,
    "start_time": "2022-10-02T09:34:59.393Z"
   },
   {
    "duration": 36,
    "start_time": "2022-10-02T09:34:59.402Z"
   },
   {
    "duration": 9,
    "start_time": "2022-10-02T09:34:59.440Z"
   },
   {
    "duration": 16,
    "start_time": "2022-10-02T09:34:59.450Z"
   },
   {
    "duration": 13,
    "start_time": "2022-10-02T09:34:59.468Z"
   },
   {
    "duration": 19,
    "start_time": "2022-10-02T09:34:59.483Z"
   },
   {
    "duration": 37,
    "start_time": "2022-10-02T09:34:59.504Z"
   },
   {
    "duration": 17,
    "start_time": "2022-10-02T09:34:59.542Z"
   },
   {
    "duration": 20,
    "start_time": "2022-10-02T09:34:59.560Z"
   },
   {
    "duration": 11,
    "start_time": "2022-10-02T09:34:59.581Z"
   },
   {
    "duration": 11,
    "start_time": "2022-10-02T09:34:59.593Z"
   },
   {
    "duration": 10,
    "start_time": "2022-10-02T09:34:59.606Z"
   },
   {
    "duration": 35,
    "start_time": "2022-10-02T09:34:59.617Z"
   },
   {
    "duration": 18,
    "start_time": "2022-10-02T09:34:59.657Z"
   },
   {
    "duration": 17,
    "start_time": "2022-10-02T09:34:59.677Z"
   },
   {
    "duration": 15,
    "start_time": "2022-10-02T09:34:59.695Z"
   },
   {
    "duration": 17,
    "start_time": "2022-10-02T09:34:59.734Z"
   },
   {
    "duration": 4,
    "start_time": "2022-10-02T09:34:59.752Z"
   },
   {
    "duration": 23,
    "start_time": "2022-10-02T09:34:59.757Z"
   },
   {
    "duration": 12,
    "start_time": "2022-10-02T09:34:59.781Z"
   },
   {
    "duration": 8,
    "start_time": "2022-10-02T09:34:59.794Z"
   },
   {
    "duration": 40,
    "start_time": "2022-10-02T09:34:59.803Z"
   },
   {
    "duration": 16,
    "start_time": "2022-10-02T09:34:59.845Z"
   },
   {
    "duration": 128,
    "start_time": "2022-10-02T09:34:59.863Z"
   },
   {
    "duration": 0,
    "start_time": "2022-10-02T09:34:59.994Z"
   },
   {
    "duration": 0,
    "start_time": "2022-10-02T09:34:59.995Z"
   },
   {
    "duration": 0,
    "start_time": "2022-10-02T09:34:59.996Z"
   },
   {
    "duration": 0,
    "start_time": "2022-10-02T09:34:59.997Z"
   },
   {
    "duration": 0,
    "start_time": "2022-10-02T09:34:59.998Z"
   },
   {
    "duration": 0,
    "start_time": "2022-10-02T09:34:59.999Z"
   },
   {
    "duration": 0,
    "start_time": "2022-10-02T09:35:00.000Z"
   },
   {
    "duration": 0,
    "start_time": "2022-10-02T09:35:00.002Z"
   },
   {
    "duration": 0,
    "start_time": "2022-10-02T09:35:00.003Z"
   },
   {
    "duration": 0,
    "start_time": "2022-10-02T09:35:00.005Z"
   },
   {
    "duration": 0,
    "start_time": "2022-10-02T09:35:00.007Z"
   },
   {
    "duration": 0,
    "start_time": "2022-10-02T09:35:00.008Z"
   },
   {
    "duration": 0,
    "start_time": "2022-10-02T09:35:00.009Z"
   },
   {
    "duration": 0,
    "start_time": "2022-10-02T09:35:00.010Z"
   },
   {
    "duration": 0,
    "start_time": "2022-10-02T09:35:00.011Z"
   },
   {
    "duration": 0,
    "start_time": "2022-10-02T09:35:00.035Z"
   },
   {
    "duration": 0,
    "start_time": "2022-10-02T09:35:00.036Z"
   },
   {
    "duration": 0,
    "start_time": "2022-10-02T09:35:00.037Z"
   },
   {
    "duration": 0,
    "start_time": "2022-10-02T09:35:00.038Z"
   },
   {
    "duration": 0,
    "start_time": "2022-10-02T09:35:00.039Z"
   },
   {
    "duration": 0,
    "start_time": "2022-10-02T09:35:00.040Z"
   },
   {
    "duration": 0,
    "start_time": "2022-10-02T09:35:00.041Z"
   },
   {
    "duration": 0,
    "start_time": "2022-10-02T09:35:00.042Z"
   },
   {
    "duration": 0,
    "start_time": "2022-10-02T09:35:00.043Z"
   },
   {
    "duration": 0,
    "start_time": "2022-10-02T09:35:00.044Z"
   },
   {
    "duration": 0,
    "start_time": "2022-10-02T09:35:00.045Z"
   },
   {
    "duration": 0,
    "start_time": "2022-10-02T09:35:00.046Z"
   },
   {
    "duration": 0,
    "start_time": "2022-10-02T09:35:00.046Z"
   },
   {
    "duration": 0,
    "start_time": "2022-10-02T09:35:00.047Z"
   },
   {
    "duration": 0,
    "start_time": "2022-10-02T09:35:00.048Z"
   },
   {
    "duration": 0,
    "start_time": "2022-10-02T09:35:00.049Z"
   },
   {
    "duration": 0,
    "start_time": "2022-10-02T09:35:00.050Z"
   },
   {
    "duration": 0,
    "start_time": "2022-10-02T09:35:00.051Z"
   },
   {
    "duration": 0,
    "start_time": "2022-10-02T09:35:00.052Z"
   },
   {
    "duration": 0,
    "start_time": "2022-10-02T09:35:00.053Z"
   },
   {
    "duration": 0,
    "start_time": "2022-10-02T09:35:00.054Z"
   },
   {
    "duration": 0,
    "start_time": "2022-10-02T09:35:00.055Z"
   },
   {
    "duration": 0,
    "start_time": "2022-10-02T09:35:00.056Z"
   },
   {
    "duration": 0,
    "start_time": "2022-10-02T09:35:00.057Z"
   },
   {
    "duration": 0,
    "start_time": "2022-10-02T09:35:00.058Z"
   },
   {
    "duration": 0,
    "start_time": "2022-10-02T09:35:00.059Z"
   },
   {
    "duration": 0,
    "start_time": "2022-10-02T09:35:00.060Z"
   },
   {
    "duration": 0,
    "start_time": "2022-10-02T09:35:00.061Z"
   },
   {
    "duration": 0,
    "start_time": "2022-10-02T09:35:00.062Z"
   },
   {
    "duration": 0,
    "start_time": "2022-10-02T09:35:00.063Z"
   },
   {
    "duration": 0,
    "start_time": "2022-10-02T09:35:00.064Z"
   },
   {
    "duration": 0,
    "start_time": "2022-10-02T09:35:00.065Z"
   },
   {
    "duration": 1,
    "start_time": "2022-10-02T09:35:00.065Z"
   },
   {
    "duration": 0,
    "start_time": "2022-10-02T09:35:00.066Z"
   },
   {
    "duration": 0,
    "start_time": "2022-10-02T09:35:00.067Z"
   },
   {
    "duration": 1754,
    "start_time": "2022-10-02T13:39:04.213Z"
   },
   {
    "duration": 91,
    "start_time": "2022-10-02T13:39:05.969Z"
   },
   {
    "duration": 23,
    "start_time": "2022-10-02T13:39:06.062Z"
   },
   {
    "duration": 137,
    "start_time": "2022-10-02T13:39:06.087Z"
   },
   {
    "duration": 12,
    "start_time": "2022-10-02T13:39:06.226Z"
   },
   {
    "duration": 54,
    "start_time": "2022-10-02T13:39:06.239Z"
   },
   {
    "duration": 12,
    "start_time": "2022-10-02T13:39:06.295Z"
   },
   {
    "duration": 103,
    "start_time": "2022-10-02T13:39:06.309Z"
   },
   {
    "duration": 10,
    "start_time": "2022-10-02T13:39:06.414Z"
   },
   {
    "duration": 31,
    "start_time": "2022-10-02T13:39:06.426Z"
   },
   {
    "duration": 13,
    "start_time": "2022-10-02T13:39:06.458Z"
   },
   {
    "duration": 5,
    "start_time": "2022-10-02T13:39:06.473Z"
   },
   {
    "duration": 10,
    "start_time": "2022-10-02T13:39:06.479Z"
   },
   {
    "duration": 32,
    "start_time": "2022-10-02T13:39:06.490Z"
   },
   {
    "duration": 5,
    "start_time": "2022-10-02T13:39:06.524Z"
   },
   {
    "duration": 8,
    "start_time": "2022-10-02T13:39:06.530Z"
   },
   {
    "duration": 8,
    "start_time": "2022-10-02T13:39:06.539Z"
   },
   {
    "duration": 7,
    "start_time": "2022-10-02T13:39:06.548Z"
   },
   {
    "duration": 5,
    "start_time": "2022-10-02T13:39:06.557Z"
   },
   {
    "duration": 12,
    "start_time": "2022-10-02T13:39:06.564Z"
   },
   {
    "duration": 52,
    "start_time": "2022-10-02T13:39:06.578Z"
   },
   {
    "duration": 15,
    "start_time": "2022-10-02T13:39:06.631Z"
   },
   {
    "duration": 8,
    "start_time": "2022-10-02T13:39:06.648Z"
   },
   {
    "duration": 7,
    "start_time": "2022-10-02T13:39:06.657Z"
   },
   {
    "duration": 8,
    "start_time": "2022-10-02T13:39:06.665Z"
   },
   {
    "duration": 7,
    "start_time": "2022-10-02T13:39:06.674Z"
   },
   {
    "duration": 39,
    "start_time": "2022-10-02T13:39:06.683Z"
   },
   {
    "duration": 18,
    "start_time": "2022-10-02T13:39:06.725Z"
   },
   {
    "duration": 11,
    "start_time": "2022-10-02T13:39:06.744Z"
   },
   {
    "duration": 12,
    "start_time": "2022-10-02T13:39:06.757Z"
   },
   {
    "duration": 12,
    "start_time": "2022-10-02T13:39:06.771Z"
   },
   {
    "duration": 38,
    "start_time": "2022-10-02T13:39:06.784Z"
   },
   {
    "duration": 16,
    "start_time": "2022-10-02T13:39:06.824Z"
   },
   {
    "duration": 6,
    "start_time": "2022-10-02T13:39:06.841Z"
   },
   {
    "duration": 6,
    "start_time": "2022-10-02T13:39:06.848Z"
   },
   {
    "duration": 20,
    "start_time": "2022-10-02T13:39:06.856Z"
   },
   {
    "duration": 16,
    "start_time": "2022-10-02T13:39:06.878Z"
   },
   {
    "duration": 138,
    "start_time": "2022-10-02T13:39:06.895Z"
   },
   {
    "duration": 0,
    "start_time": "2022-10-02T13:39:07.034Z"
   },
   {
    "duration": 0,
    "start_time": "2022-10-02T13:39:07.035Z"
   },
   {
    "duration": 1,
    "start_time": "2022-10-02T13:39:07.036Z"
   },
   {
    "duration": 0,
    "start_time": "2022-10-02T13:39:07.037Z"
   },
   {
    "duration": 0,
    "start_time": "2022-10-02T13:39:07.038Z"
   },
   {
    "duration": 0,
    "start_time": "2022-10-02T13:39:07.039Z"
   },
   {
    "duration": 0,
    "start_time": "2022-10-02T13:39:07.040Z"
   },
   {
    "duration": 0,
    "start_time": "2022-10-02T13:39:07.041Z"
   },
   {
    "duration": 0,
    "start_time": "2022-10-02T13:39:07.042Z"
   },
   {
    "duration": 0,
    "start_time": "2022-10-02T13:39:07.043Z"
   },
   {
    "duration": 0,
    "start_time": "2022-10-02T13:39:07.044Z"
   },
   {
    "duration": 0,
    "start_time": "2022-10-02T13:39:07.045Z"
   },
   {
    "duration": 0,
    "start_time": "2022-10-02T13:39:07.046Z"
   },
   {
    "duration": 0,
    "start_time": "2022-10-02T13:39:07.047Z"
   },
   {
    "duration": 0,
    "start_time": "2022-10-02T13:39:07.048Z"
   },
   {
    "duration": 0,
    "start_time": "2022-10-02T13:39:07.048Z"
   },
   {
    "duration": 0,
    "start_time": "2022-10-02T13:39:07.049Z"
   },
   {
    "duration": 0,
    "start_time": "2022-10-02T13:39:07.050Z"
   },
   {
    "duration": 0,
    "start_time": "2022-10-02T13:39:07.051Z"
   },
   {
    "duration": 0,
    "start_time": "2022-10-02T13:39:07.052Z"
   },
   {
    "duration": 0,
    "start_time": "2022-10-02T13:39:07.052Z"
   },
   {
    "duration": 0,
    "start_time": "2022-10-02T13:39:07.053Z"
   },
   {
    "duration": 0,
    "start_time": "2022-10-02T13:39:07.054Z"
   },
   {
    "duration": 0,
    "start_time": "2022-10-02T13:39:07.055Z"
   },
   {
    "duration": 0,
    "start_time": "2022-10-02T13:39:07.056Z"
   },
   {
    "duration": 0,
    "start_time": "2022-10-02T13:39:07.057Z"
   },
   {
    "duration": 0,
    "start_time": "2022-10-02T13:39:07.057Z"
   },
   {
    "duration": 0,
    "start_time": "2022-10-02T13:39:07.058Z"
   },
   {
    "duration": 0,
    "start_time": "2022-10-02T13:39:07.059Z"
   },
   {
    "duration": 0,
    "start_time": "2022-10-02T13:39:07.060Z"
   },
   {
    "duration": 0,
    "start_time": "2022-10-02T13:39:07.061Z"
   },
   {
    "duration": 0,
    "start_time": "2022-10-02T13:39:07.062Z"
   },
   {
    "duration": 0,
    "start_time": "2022-10-02T13:39:07.062Z"
   },
   {
    "duration": 0,
    "start_time": "2022-10-02T13:39:07.063Z"
   },
   {
    "duration": 0,
    "start_time": "2022-10-02T13:39:07.064Z"
   },
   {
    "duration": 0,
    "start_time": "2022-10-02T13:39:07.065Z"
   },
   {
    "duration": 0,
    "start_time": "2022-10-02T13:39:07.066Z"
   },
   {
    "duration": 0,
    "start_time": "2022-10-02T13:39:07.067Z"
   },
   {
    "duration": 0,
    "start_time": "2022-10-02T13:39:07.068Z"
   },
   {
    "duration": 0,
    "start_time": "2022-10-02T13:39:07.069Z"
   },
   {
    "duration": 0,
    "start_time": "2022-10-02T13:39:07.122Z"
   },
   {
    "duration": 0,
    "start_time": "2022-10-02T13:39:07.123Z"
   },
   {
    "duration": 0,
    "start_time": "2022-10-02T13:39:07.124Z"
   },
   {
    "duration": 0,
    "start_time": "2022-10-02T13:39:07.125Z"
   },
   {
    "duration": 0,
    "start_time": "2022-10-02T13:39:07.126Z"
   },
   {
    "duration": 0,
    "start_time": "2022-10-02T13:39:07.126Z"
   },
   {
    "duration": 0,
    "start_time": "2022-10-02T13:39:07.127Z"
   },
   {
    "duration": 0,
    "start_time": "2022-10-02T13:39:07.128Z"
   },
   {
    "duration": 0,
    "start_time": "2022-10-02T13:39:07.129Z"
   },
   {
    "duration": 0,
    "start_time": "2022-10-02T13:39:07.130Z"
   },
   {
    "duration": 0,
    "start_time": "2022-10-02T13:39:07.131Z"
   },
   {
    "duration": 0,
    "start_time": "2022-10-02T13:39:07.132Z"
   },
   {
    "duration": 0,
    "start_time": "2022-10-02T13:39:07.133Z"
   },
   {
    "duration": 1551,
    "start_time": "2022-10-02T14:17:58.805Z"
   },
   {
    "duration": 229,
    "start_time": "2022-10-02T14:18:03.499Z"
   },
   {
    "duration": 10,
    "start_time": "2022-10-02T14:20:00.394Z"
   },
   {
    "duration": 13,
    "start_time": "2022-10-02T14:20:05.815Z"
   },
   {
    "duration": 0,
    "start_time": "2022-10-02T14:20:05.831Z"
   },
   {
    "duration": 0,
    "start_time": "2022-10-02T14:20:05.832Z"
   },
   {
    "duration": 126,
    "start_time": "2022-10-02T14:20:05.837Z"
   },
   {
    "duration": 14,
    "start_time": "2022-10-02T14:20:05.965Z"
   },
   {
    "duration": 108,
    "start_time": "2022-10-02T14:20:05.981Z"
   },
   {
    "duration": 11,
    "start_time": "2022-10-02T14:20:06.092Z"
   },
   {
    "duration": 60,
    "start_time": "2022-10-02T14:20:06.104Z"
   },
   {
    "duration": 12,
    "start_time": "2022-10-02T14:20:06.166Z"
   },
   {
    "duration": 38,
    "start_time": "2022-10-02T14:20:06.180Z"
   },
   {
    "duration": 17,
    "start_time": "2022-10-02T14:20:06.220Z"
   },
   {
    "duration": 6,
    "start_time": "2022-10-02T14:20:06.238Z"
   },
   {
    "duration": 11,
    "start_time": "2022-10-02T14:20:06.247Z"
   },
   {
    "duration": 7,
    "start_time": "2022-10-02T14:20:06.260Z"
   },
   {
    "duration": 12,
    "start_time": "2022-10-02T14:20:06.270Z"
   },
   {
    "duration": 11,
    "start_time": "2022-10-02T14:20:06.284Z"
   },
   {
    "duration": 10,
    "start_time": "2022-10-02T14:20:06.320Z"
   },
   {
    "duration": 11,
    "start_time": "2022-10-02T14:20:06.331Z"
   },
   {
    "duration": 13,
    "start_time": "2022-10-02T14:20:06.344Z"
   },
   {
    "duration": 28,
    "start_time": "2022-10-02T14:20:06.358Z"
   },
   {
    "duration": 23,
    "start_time": "2022-10-02T14:20:06.388Z"
   },
   {
    "duration": 21,
    "start_time": "2022-10-02T14:20:06.412Z"
   },
   {
    "duration": 8,
    "start_time": "2022-10-02T14:20:06.434Z"
   },
   {
    "duration": 21,
    "start_time": "2022-10-02T14:20:06.444Z"
   },
   {
    "duration": 8,
    "start_time": "2022-10-02T14:20:06.468Z"
   },
   {
    "duration": 6,
    "start_time": "2022-10-02T14:20:06.479Z"
   },
   {
    "duration": 20,
    "start_time": "2022-10-02T14:20:06.487Z"
   },
   {
    "duration": 31,
    "start_time": "2022-10-02T14:20:06.509Z"
   },
   {
    "duration": 16,
    "start_time": "2022-10-02T14:20:06.542Z"
   },
   {
    "duration": 15,
    "start_time": "2022-10-02T14:20:06.560Z"
   },
   {
    "duration": 14,
    "start_time": "2022-10-02T14:20:06.578Z"
   },
   {
    "duration": 4,
    "start_time": "2022-10-02T14:20:06.621Z"
   },
   {
    "duration": 27,
    "start_time": "2022-10-02T14:20:06.626Z"
   },
   {
    "duration": 5,
    "start_time": "2022-10-02T14:20:06.656Z"
   },
   {
    "duration": 10,
    "start_time": "2022-10-02T14:20:06.662Z"
   },
   {
    "duration": 22,
    "start_time": "2022-10-02T14:20:06.674Z"
   },
   {
    "duration": 19,
    "start_time": "2022-10-02T14:20:11.335Z"
   },
   {
    "duration": 15,
    "start_time": "2022-10-02T14:20:31.050Z"
   },
   {
    "duration": 16,
    "start_time": "2022-10-02T14:20:33.183Z"
   },
   {
    "duration": 12,
    "start_time": "2022-10-02T14:21:24.816Z"
   },
   {
    "duration": 1360,
    "start_time": "2022-10-02T14:21:53.296Z"
   },
   {
    "duration": 0,
    "start_time": "2022-10-02T14:21:54.661Z"
   },
   {
    "duration": 0,
    "start_time": "2022-10-02T14:21:54.662Z"
   },
   {
    "duration": 0,
    "start_time": "2022-10-02T14:21:54.663Z"
   },
   {
    "duration": 0,
    "start_time": "2022-10-02T14:21:54.664Z"
   },
   {
    "duration": 0,
    "start_time": "2022-10-02T14:21:54.666Z"
   },
   {
    "duration": 0,
    "start_time": "2022-10-02T14:21:54.667Z"
   },
   {
    "duration": 0,
    "start_time": "2022-10-02T14:21:54.668Z"
   },
   {
    "duration": 0,
    "start_time": "2022-10-02T14:21:54.669Z"
   },
   {
    "duration": 0,
    "start_time": "2022-10-02T14:21:54.670Z"
   },
   {
    "duration": 0,
    "start_time": "2022-10-02T14:21:54.671Z"
   },
   {
    "duration": 0,
    "start_time": "2022-10-02T14:21:54.673Z"
   },
   {
    "duration": 0,
    "start_time": "2022-10-02T14:21:54.674Z"
   },
   {
    "duration": 0,
    "start_time": "2022-10-02T14:21:54.675Z"
   },
   {
    "duration": 0,
    "start_time": "2022-10-02T14:21:54.676Z"
   },
   {
    "duration": 0,
    "start_time": "2022-10-02T14:21:54.676Z"
   },
   {
    "duration": 0,
    "start_time": "2022-10-02T14:21:54.678Z"
   },
   {
    "duration": 0,
    "start_time": "2022-10-02T14:21:54.679Z"
   },
   {
    "duration": 0,
    "start_time": "2022-10-02T14:21:54.680Z"
   },
   {
    "duration": 0,
    "start_time": "2022-10-02T14:21:54.681Z"
   },
   {
    "duration": 0,
    "start_time": "2022-10-02T14:21:54.682Z"
   },
   {
    "duration": 0,
    "start_time": "2022-10-02T14:21:54.683Z"
   },
   {
    "duration": 0,
    "start_time": "2022-10-02T14:21:54.684Z"
   },
   {
    "duration": 0,
    "start_time": "2022-10-02T14:21:54.721Z"
   },
   {
    "duration": 0,
    "start_time": "2022-10-02T14:21:54.722Z"
   },
   {
    "duration": 0,
    "start_time": "2022-10-02T14:21:54.723Z"
   },
   {
    "duration": 0,
    "start_time": "2022-10-02T14:21:54.725Z"
   },
   {
    "duration": 0,
    "start_time": "2022-10-02T14:21:54.726Z"
   },
   {
    "duration": 0,
    "start_time": "2022-10-02T14:21:54.727Z"
   },
   {
    "duration": 0,
    "start_time": "2022-10-02T14:21:54.728Z"
   },
   {
    "duration": 0,
    "start_time": "2022-10-02T14:21:54.729Z"
   },
   {
    "duration": 0,
    "start_time": "2022-10-02T14:21:54.731Z"
   },
   {
    "duration": 0,
    "start_time": "2022-10-02T14:21:54.732Z"
   },
   {
    "duration": 0,
    "start_time": "2022-10-02T14:21:54.733Z"
   },
   {
    "duration": 0,
    "start_time": "2022-10-02T14:21:54.734Z"
   },
   {
    "duration": 0,
    "start_time": "2022-10-02T14:21:54.735Z"
   },
   {
    "duration": 0,
    "start_time": "2022-10-02T14:21:54.736Z"
   },
   {
    "duration": 0,
    "start_time": "2022-10-02T14:21:54.737Z"
   },
   {
    "duration": 0,
    "start_time": "2022-10-02T14:21:54.738Z"
   },
   {
    "duration": 0,
    "start_time": "2022-10-02T14:21:54.739Z"
   },
   {
    "duration": 0,
    "start_time": "2022-10-02T14:21:54.740Z"
   },
   {
    "duration": 1,
    "start_time": "2022-10-02T14:21:54.741Z"
   },
   {
    "duration": 0,
    "start_time": "2022-10-02T14:21:54.742Z"
   },
   {
    "duration": 0,
    "start_time": "2022-10-02T14:21:54.744Z"
   },
   {
    "duration": 0,
    "start_time": "2022-10-02T14:21:54.744Z"
   },
   {
    "duration": 0,
    "start_time": "2022-10-02T14:21:54.746Z"
   },
   {
    "duration": 0,
    "start_time": "2022-10-02T14:21:54.747Z"
   },
   {
    "duration": 0,
    "start_time": "2022-10-02T14:21:54.748Z"
   },
   {
    "duration": 0,
    "start_time": "2022-10-02T14:21:54.749Z"
   },
   {
    "duration": 0,
    "start_time": "2022-10-02T14:21:54.750Z"
   },
   {
    "duration": 0,
    "start_time": "2022-10-02T14:21:54.751Z"
   },
   {
    "duration": 0,
    "start_time": "2022-10-02T14:21:54.753Z"
   },
   {
    "duration": 0,
    "start_time": "2022-10-02T14:21:54.754Z"
   },
   {
    "duration": 0,
    "start_time": "2022-10-02T14:21:54.755Z"
   },
   {
    "duration": 0,
    "start_time": "2022-10-02T14:21:54.757Z"
   },
   {
    "duration": 0,
    "start_time": "2022-10-02T14:21:54.758Z"
   },
   {
    "duration": 0,
    "start_time": "2022-10-02T14:21:54.759Z"
   },
   {
    "duration": 0,
    "start_time": "2022-10-02T14:21:54.760Z"
   },
   {
    "duration": 0,
    "start_time": "2022-10-02T14:21:54.821Z"
   },
   {
    "duration": 0,
    "start_time": "2022-10-02T14:21:54.822Z"
   },
   {
    "duration": 0,
    "start_time": "2022-10-02T14:21:54.823Z"
   },
   {
    "duration": 0,
    "start_time": "2022-10-02T14:21:54.824Z"
   },
   {
    "duration": 0,
    "start_time": "2022-10-02T14:21:54.825Z"
   },
   {
    "duration": 0,
    "start_time": "2022-10-02T14:21:54.826Z"
   },
   {
    "duration": 0,
    "start_time": "2022-10-02T14:21:54.827Z"
   },
   {
    "duration": 0,
    "start_time": "2022-10-02T14:21:54.828Z"
   },
   {
    "duration": 0,
    "start_time": "2022-10-02T14:21:54.829Z"
   },
   {
    "duration": 1,
    "start_time": "2022-10-02T14:21:54.830Z"
   },
   {
    "duration": 0,
    "start_time": "2022-10-02T14:21:54.832Z"
   },
   {
    "duration": 0,
    "start_time": "2022-10-02T14:21:54.833Z"
   },
   {
    "duration": 0,
    "start_time": "2022-10-02T14:21:54.834Z"
   },
   {
    "duration": 0,
    "start_time": "2022-10-02T14:21:54.835Z"
   },
   {
    "duration": 0,
    "start_time": "2022-10-02T14:21:54.836Z"
   },
   {
    "duration": 0,
    "start_time": "2022-10-02T14:21:54.837Z"
   },
   {
    "duration": 0,
    "start_time": "2022-10-02T14:21:54.838Z"
   },
   {
    "duration": 0,
    "start_time": "2022-10-02T14:21:54.840Z"
   },
   {
    "duration": 0,
    "start_time": "2022-10-02T14:21:54.841Z"
   },
   {
    "duration": 0,
    "start_time": "2022-10-02T14:21:54.842Z"
   },
   {
    "duration": 0,
    "start_time": "2022-10-02T14:21:54.843Z"
   },
   {
    "duration": 0,
    "start_time": "2022-10-02T14:21:54.844Z"
   },
   {
    "duration": 0,
    "start_time": "2022-10-02T14:21:54.845Z"
   },
   {
    "duration": 0,
    "start_time": "2022-10-02T14:21:54.846Z"
   },
   {
    "duration": 0,
    "start_time": "2022-10-02T14:21:54.847Z"
   },
   {
    "duration": 0,
    "start_time": "2022-10-02T14:21:54.848Z"
   },
   {
    "duration": 0,
    "start_time": "2022-10-02T14:21:54.850Z"
   },
   {
    "duration": 0,
    "start_time": "2022-10-02T14:21:54.852Z"
   },
   {
    "duration": 0,
    "start_time": "2022-10-02T14:21:54.853Z"
   },
   {
    "duration": 0,
    "start_time": "2022-10-02T14:21:54.854Z"
   },
   {
    "duration": 0,
    "start_time": "2022-10-02T14:21:54.856Z"
   },
   {
    "duration": 0,
    "start_time": "2022-10-02T14:21:54.857Z"
   },
   {
    "duration": 0,
    "start_time": "2022-10-02T14:21:54.921Z"
   },
   {
    "duration": 0,
    "start_time": "2022-10-02T14:21:54.923Z"
   },
   {
    "duration": 43,
    "start_time": "2022-10-02T14:24:17.869Z"
   },
   {
    "duration": 3197,
    "start_time": "2022-10-02T14:24:28.240Z"
   },
   {
    "duration": 2231,
    "start_time": "2022-10-02T14:24:52.834Z"
   },
   {
    "duration": 1339,
    "start_time": "2022-10-02T14:24:55.068Z"
   },
   {
    "duration": 0,
    "start_time": "2022-10-02T14:24:56.411Z"
   },
   {
    "duration": 0,
    "start_time": "2022-10-02T14:24:56.412Z"
   },
   {
    "duration": 0,
    "start_time": "2022-10-02T14:24:56.421Z"
   },
   {
    "duration": 0,
    "start_time": "2022-10-02T14:24:56.422Z"
   },
   {
    "duration": 0,
    "start_time": "2022-10-02T14:24:56.424Z"
   },
   {
    "duration": 0,
    "start_time": "2022-10-02T14:24:56.424Z"
   },
   {
    "duration": 0,
    "start_time": "2022-10-02T14:24:56.426Z"
   },
   {
    "duration": 0,
    "start_time": "2022-10-02T14:24:56.427Z"
   },
   {
    "duration": 0,
    "start_time": "2022-10-02T14:24:56.429Z"
   },
   {
    "duration": 0,
    "start_time": "2022-10-02T14:24:56.430Z"
   },
   {
    "duration": 0,
    "start_time": "2022-10-02T14:24:56.431Z"
   },
   {
    "duration": 0,
    "start_time": "2022-10-02T14:24:56.433Z"
   },
   {
    "duration": 0,
    "start_time": "2022-10-02T14:24:56.434Z"
   },
   {
    "duration": 0,
    "start_time": "2022-10-02T14:24:56.436Z"
   },
   {
    "duration": 0,
    "start_time": "2022-10-02T14:24:56.438Z"
   },
   {
    "duration": 0,
    "start_time": "2022-10-02T14:24:56.439Z"
   },
   {
    "duration": 0,
    "start_time": "2022-10-02T14:24:56.440Z"
   },
   {
    "duration": 0,
    "start_time": "2022-10-02T14:24:56.441Z"
   },
   {
    "duration": 0,
    "start_time": "2022-10-02T14:24:56.442Z"
   },
   {
    "duration": 0,
    "start_time": "2022-10-02T14:24:56.443Z"
   },
   {
    "duration": 0,
    "start_time": "2022-10-02T14:24:56.444Z"
   },
   {
    "duration": 0,
    "start_time": "2022-10-02T14:24:56.445Z"
   },
   {
    "duration": 0,
    "start_time": "2022-10-02T14:24:56.446Z"
   },
   {
    "duration": 0,
    "start_time": "2022-10-02T14:24:56.447Z"
   },
   {
    "duration": 0,
    "start_time": "2022-10-02T14:24:56.448Z"
   },
   {
    "duration": 0,
    "start_time": "2022-10-02T14:24:56.450Z"
   },
   {
    "duration": 0,
    "start_time": "2022-10-02T14:24:56.451Z"
   },
   {
    "duration": 0,
    "start_time": "2022-10-02T14:24:56.452Z"
   },
   {
    "duration": 0,
    "start_time": "2022-10-02T14:24:56.453Z"
   },
   {
    "duration": 0,
    "start_time": "2022-10-02T14:24:56.454Z"
   },
   {
    "duration": 0,
    "start_time": "2022-10-02T14:24:56.455Z"
   },
   {
    "duration": 0,
    "start_time": "2022-10-02T14:24:56.456Z"
   },
   {
    "duration": 0,
    "start_time": "2022-10-02T14:24:56.457Z"
   },
   {
    "duration": 0,
    "start_time": "2022-10-02T14:24:56.458Z"
   },
   {
    "duration": 0,
    "start_time": "2022-10-02T14:24:56.460Z"
   },
   {
    "duration": 0,
    "start_time": "2022-10-02T14:24:56.461Z"
   },
   {
    "duration": 0,
    "start_time": "2022-10-02T14:24:56.521Z"
   },
   {
    "duration": 0,
    "start_time": "2022-10-02T14:24:56.523Z"
   },
   {
    "duration": 0,
    "start_time": "2022-10-02T14:24:56.524Z"
   },
   {
    "duration": 0,
    "start_time": "2022-10-02T14:24:56.525Z"
   },
   {
    "duration": 0,
    "start_time": "2022-10-02T14:24:56.527Z"
   },
   {
    "duration": 0,
    "start_time": "2022-10-02T14:24:56.528Z"
   },
   {
    "duration": 0,
    "start_time": "2022-10-02T14:24:56.529Z"
   },
   {
    "duration": 0,
    "start_time": "2022-10-02T14:24:56.531Z"
   },
   {
    "duration": 0,
    "start_time": "2022-10-02T14:24:56.532Z"
   },
   {
    "duration": 0,
    "start_time": "2022-10-02T14:24:56.535Z"
   },
   {
    "duration": 0,
    "start_time": "2022-10-02T14:24:56.536Z"
   },
   {
    "duration": 0,
    "start_time": "2022-10-02T14:24:56.537Z"
   },
   {
    "duration": 0,
    "start_time": "2022-10-02T14:24:56.538Z"
   },
   {
    "duration": 0,
    "start_time": "2022-10-02T14:24:56.539Z"
   },
   {
    "duration": 0,
    "start_time": "2022-10-02T14:24:56.540Z"
   },
   {
    "duration": 0,
    "start_time": "2022-10-02T14:24:56.541Z"
   },
   {
    "duration": 0,
    "start_time": "2022-10-02T14:24:56.542Z"
   },
   {
    "duration": 0,
    "start_time": "2022-10-02T14:24:56.543Z"
   },
   {
    "duration": 0,
    "start_time": "2022-10-02T14:24:56.544Z"
   },
   {
    "duration": 0,
    "start_time": "2022-10-02T14:24:56.545Z"
   },
   {
    "duration": 0,
    "start_time": "2022-10-02T14:24:56.546Z"
   },
   {
    "duration": 0,
    "start_time": "2022-10-02T14:24:56.547Z"
   },
   {
    "duration": 0,
    "start_time": "2022-10-02T14:24:56.548Z"
   },
   {
    "duration": 0,
    "start_time": "2022-10-02T14:24:56.550Z"
   },
   {
    "duration": 0,
    "start_time": "2022-10-02T14:24:56.550Z"
   },
   {
    "duration": 0,
    "start_time": "2022-10-02T14:24:56.551Z"
   },
   {
    "duration": 0,
    "start_time": "2022-10-02T14:24:56.552Z"
   },
   {
    "duration": 0,
    "start_time": "2022-10-02T14:24:56.553Z"
   },
   {
    "duration": 0,
    "start_time": "2022-10-02T14:24:56.554Z"
   },
   {
    "duration": 0,
    "start_time": "2022-10-02T14:24:56.555Z"
   },
   {
    "duration": 0,
    "start_time": "2022-10-02T14:24:56.557Z"
   },
   {
    "duration": 0,
    "start_time": "2022-10-02T14:24:56.621Z"
   },
   {
    "duration": 0,
    "start_time": "2022-10-02T14:24:56.622Z"
   },
   {
    "duration": 0,
    "start_time": "2022-10-02T14:24:56.624Z"
   },
   {
    "duration": 0,
    "start_time": "2022-10-02T14:24:56.625Z"
   },
   {
    "duration": 0,
    "start_time": "2022-10-02T14:24:56.626Z"
   },
   {
    "duration": 0,
    "start_time": "2022-10-02T14:24:56.627Z"
   },
   {
    "duration": 0,
    "start_time": "2022-10-02T14:24:56.628Z"
   },
   {
    "duration": 0,
    "start_time": "2022-10-02T14:24:56.630Z"
   },
   {
    "duration": 0,
    "start_time": "2022-10-02T14:24:56.631Z"
   },
   {
    "duration": 0,
    "start_time": "2022-10-02T14:24:56.633Z"
   },
   {
    "duration": 0,
    "start_time": "2022-10-02T14:24:56.634Z"
   },
   {
    "duration": 0,
    "start_time": "2022-10-02T14:24:56.635Z"
   },
   {
    "duration": 0,
    "start_time": "2022-10-02T14:24:56.637Z"
   },
   {
    "duration": 0,
    "start_time": "2022-10-02T14:24:56.638Z"
   },
   {
    "duration": 0,
    "start_time": "2022-10-02T14:24:56.639Z"
   },
   {
    "duration": 0,
    "start_time": "2022-10-02T14:24:56.640Z"
   },
   {
    "duration": 0,
    "start_time": "2022-10-02T14:24:56.642Z"
   },
   {
    "duration": 0,
    "start_time": "2022-10-02T14:24:56.643Z"
   },
   {
    "duration": 0,
    "start_time": "2022-10-02T14:24:56.644Z"
   },
   {
    "duration": 0,
    "start_time": "2022-10-02T14:24:56.646Z"
   },
   {
    "duration": 0,
    "start_time": "2022-10-02T14:24:56.647Z"
   },
   {
    "duration": 0,
    "start_time": "2022-10-02T14:24:56.648Z"
   },
   {
    "duration": 0,
    "start_time": "2022-10-02T14:24:56.649Z"
   },
   {
    "duration": 0,
    "start_time": "2022-10-02T14:24:56.651Z"
   },
   {
    "duration": 32277,
    "start_time": "2022-10-02T14:29:21.596Z"
   },
   {
    "duration": 2265,
    "start_time": "2022-10-02T14:30:05.391Z"
   },
   {
    "duration": 12033,
    "start_time": "2022-10-02T14:30:07.659Z"
   },
   {
    "duration": 1317,
    "start_time": "2022-10-02T14:30:19.694Z"
   },
   {
    "duration": 54,
    "start_time": "2022-10-02T14:30:21.014Z"
   },
   {
    "duration": 12,
    "start_time": "2022-10-02T14:30:21.070Z"
   },
   {
    "duration": 46,
    "start_time": "2022-10-02T14:30:21.084Z"
   },
   {
    "duration": 13,
    "start_time": "2022-10-02T14:30:21.133Z"
   },
   {
    "duration": 29,
    "start_time": "2022-10-02T14:30:21.149Z"
   },
   {
    "duration": 11,
    "start_time": "2022-10-02T14:30:21.180Z"
   },
   {
    "duration": 36,
    "start_time": "2022-10-02T14:30:21.194Z"
   },
   {
    "duration": 12,
    "start_time": "2022-10-02T14:30:21.231Z"
   },
   {
    "duration": 38,
    "start_time": "2022-10-02T14:30:21.245Z"
   },
   {
    "duration": 17,
    "start_time": "2022-10-02T14:30:21.284Z"
   },
   {
    "duration": 6,
    "start_time": "2022-10-02T14:30:21.320Z"
   },
   {
    "duration": 13,
    "start_time": "2022-10-02T14:30:21.328Z"
   },
   {
    "duration": 17,
    "start_time": "2022-10-02T14:30:21.343Z"
   },
   {
    "duration": 9,
    "start_time": "2022-10-02T14:30:21.362Z"
   },
   {
    "duration": 13,
    "start_time": "2022-10-02T14:30:21.373Z"
   },
   {
    "duration": 9,
    "start_time": "2022-10-02T14:30:21.388Z"
   },
   {
    "duration": 8,
    "start_time": "2022-10-02T14:30:21.399Z"
   },
   {
    "duration": 13,
    "start_time": "2022-10-02T14:30:21.408Z"
   },
   {
    "duration": 21,
    "start_time": "2022-10-02T14:30:21.423Z"
   },
   {
    "duration": 18,
    "start_time": "2022-10-02T14:30:21.446Z"
   },
   {
    "duration": 18,
    "start_time": "2022-10-02T14:30:21.466Z"
   },
   {
    "duration": 22,
    "start_time": "2022-10-02T14:30:21.486Z"
   },
   {
    "duration": 15,
    "start_time": "2022-10-02T14:30:21.510Z"
   },
   {
    "duration": 11,
    "start_time": "2022-10-02T14:30:21.526Z"
   },
   {
    "duration": 5,
    "start_time": "2022-10-02T14:30:21.541Z"
   },
   {
    "duration": 23,
    "start_time": "2022-10-02T14:30:21.548Z"
   },
   {
    "duration": 20,
    "start_time": "2022-10-02T14:30:21.572Z"
   },
   {
    "duration": 39,
    "start_time": "2022-10-02T14:30:21.594Z"
   },
   {
    "duration": 15,
    "start_time": "2022-10-02T14:30:21.635Z"
   },
   {
    "duration": 15,
    "start_time": "2022-10-02T14:30:21.651Z"
   },
   {
    "duration": 4,
    "start_time": "2022-10-02T14:30:21.668Z"
   },
   {
    "duration": 48,
    "start_time": "2022-10-02T14:30:21.673Z"
   },
   {
    "duration": 6,
    "start_time": "2022-10-02T14:30:21.723Z"
   },
   {
    "duration": 9,
    "start_time": "2022-10-02T14:30:21.730Z"
   },
   {
    "duration": 26,
    "start_time": "2022-10-02T14:30:21.741Z"
   },
   {
    "duration": 23,
    "start_time": "2022-10-02T14:30:21.768Z"
   },
   {
    "duration": 30,
    "start_time": "2022-10-02T14:30:21.793Z"
   },
   {
    "duration": 133,
    "start_time": "2022-10-02T14:30:21.825Z"
   },
   {
    "duration": 0,
    "start_time": "2022-10-02T14:30:21.960Z"
   },
   {
    "duration": 0,
    "start_time": "2022-10-02T14:30:21.962Z"
   },
   {
    "duration": 0,
    "start_time": "2022-10-02T14:30:21.963Z"
   },
   {
    "duration": 0,
    "start_time": "2022-10-02T14:30:21.964Z"
   },
   {
    "duration": 0,
    "start_time": "2022-10-02T14:30:21.965Z"
   },
   {
    "duration": 0,
    "start_time": "2022-10-02T14:30:21.966Z"
   },
   {
    "duration": 0,
    "start_time": "2022-10-02T14:30:21.967Z"
   },
   {
    "duration": 0,
    "start_time": "2022-10-02T14:30:21.968Z"
   },
   {
    "duration": 0,
    "start_time": "2022-10-02T14:30:21.969Z"
   },
   {
    "duration": 0,
    "start_time": "2022-10-02T14:30:21.971Z"
   },
   {
    "duration": 0,
    "start_time": "2022-10-02T14:30:21.972Z"
   },
   {
    "duration": 0,
    "start_time": "2022-10-02T14:30:21.973Z"
   },
   {
    "duration": 0,
    "start_time": "2022-10-02T14:30:21.974Z"
   },
   {
    "duration": 0,
    "start_time": "2022-10-02T14:30:21.975Z"
   },
   {
    "duration": 0,
    "start_time": "2022-10-02T14:30:21.976Z"
   },
   {
    "duration": 0,
    "start_time": "2022-10-02T14:30:21.978Z"
   },
   {
    "duration": 0,
    "start_time": "2022-10-02T14:30:21.979Z"
   },
   {
    "duration": 0,
    "start_time": "2022-10-02T14:30:21.981Z"
   },
   {
    "duration": 0,
    "start_time": "2022-10-02T14:30:21.983Z"
   },
   {
    "duration": 0,
    "start_time": "2022-10-02T14:30:21.984Z"
   },
   {
    "duration": 0,
    "start_time": "2022-10-02T14:30:22.021Z"
   },
   {
    "duration": 0,
    "start_time": "2022-10-02T14:30:22.023Z"
   },
   {
    "duration": 0,
    "start_time": "2022-10-02T14:30:22.024Z"
   },
   {
    "duration": 0,
    "start_time": "2022-10-02T14:30:22.026Z"
   },
   {
    "duration": 0,
    "start_time": "2022-10-02T14:30:22.027Z"
   },
   {
    "duration": 0,
    "start_time": "2022-10-02T14:30:22.029Z"
   },
   {
    "duration": 0,
    "start_time": "2022-10-02T14:30:22.031Z"
   },
   {
    "duration": 0,
    "start_time": "2022-10-02T14:30:22.032Z"
   },
   {
    "duration": 0,
    "start_time": "2022-10-02T14:30:22.033Z"
   },
   {
    "duration": 0,
    "start_time": "2022-10-02T14:30:22.034Z"
   },
   {
    "duration": 0,
    "start_time": "2022-10-02T14:30:22.036Z"
   },
   {
    "duration": 0,
    "start_time": "2022-10-02T14:30:22.037Z"
   },
   {
    "duration": 0,
    "start_time": "2022-10-02T14:30:22.038Z"
   },
   {
    "duration": 0,
    "start_time": "2022-10-02T14:30:22.039Z"
   },
   {
    "duration": 0,
    "start_time": "2022-10-02T14:30:22.040Z"
   },
   {
    "duration": 0,
    "start_time": "2022-10-02T14:30:22.042Z"
   },
   {
    "duration": 0,
    "start_time": "2022-10-02T14:30:22.043Z"
   },
   {
    "duration": 0,
    "start_time": "2022-10-02T14:30:22.044Z"
   },
   {
    "duration": 0,
    "start_time": "2022-10-02T14:30:22.045Z"
   },
   {
    "duration": 0,
    "start_time": "2022-10-02T14:30:22.046Z"
   },
   {
    "duration": 0,
    "start_time": "2022-10-02T14:30:22.048Z"
   },
   {
    "duration": 0,
    "start_time": "2022-10-02T14:30:22.049Z"
   },
   {
    "duration": 0,
    "start_time": "2022-10-02T14:30:22.050Z"
   },
   {
    "duration": 0,
    "start_time": "2022-10-02T14:30:22.052Z"
   },
   {
    "duration": 0,
    "start_time": "2022-10-02T14:30:22.053Z"
   },
   {
    "duration": 0,
    "start_time": "2022-10-02T14:30:22.054Z"
   },
   {
    "duration": 0,
    "start_time": "2022-10-02T14:30:22.055Z"
   },
   {
    "duration": 0,
    "start_time": "2022-10-02T14:30:22.056Z"
   },
   {
    "duration": 0,
    "start_time": "2022-10-02T14:30:22.057Z"
   },
   {
    "duration": 0,
    "start_time": "2022-10-02T14:30:22.058Z"
   },
   {
    "duration": 0,
    "start_time": "2022-10-02T14:30:22.059Z"
   },
   {
    "duration": 0,
    "start_time": "2022-10-02T14:30:22.121Z"
   },
   {
    "duration": 0,
    "start_time": "2022-10-02T14:30:22.123Z"
   },
   {
    "duration": 18,
    "start_time": "2022-10-02T14:34:32.389Z"
   },
   {
    "duration": 10,
    "start_time": "2022-10-02T14:36:38.909Z"
   },
   {
    "duration": 21,
    "start_time": "2022-10-02T14:36:55.259Z"
   },
   {
    "duration": 10,
    "start_time": "2022-10-02T14:37:24.063Z"
   },
   {
    "duration": 2194,
    "start_time": "2022-10-02T14:37:49.638Z"
   },
   {
    "duration": 12179,
    "start_time": "2022-10-02T14:37:51.835Z"
   },
   {
    "duration": 1307,
    "start_time": "2022-10-02T14:38:04.016Z"
   },
   {
    "duration": 56,
    "start_time": "2022-10-02T14:38:05.326Z"
   },
   {
    "duration": 12,
    "start_time": "2022-10-02T14:38:05.384Z"
   },
   {
    "duration": 46,
    "start_time": "2022-10-02T14:38:05.398Z"
   },
   {
    "duration": 13,
    "start_time": "2022-10-02T14:38:05.445Z"
   },
   {
    "duration": 43,
    "start_time": "2022-10-02T14:38:05.460Z"
   },
   {
    "duration": 13,
    "start_time": "2022-10-02T14:38:05.504Z"
   },
   {
    "duration": 57,
    "start_time": "2022-10-02T14:38:05.521Z"
   },
   {
    "duration": 15,
    "start_time": "2022-10-02T14:38:05.580Z"
   },
   {
    "duration": 55,
    "start_time": "2022-10-02T14:38:05.597Z"
   },
   {
    "duration": 17,
    "start_time": "2022-10-02T14:38:05.655Z"
   },
   {
    "duration": 18,
    "start_time": "2022-10-02T14:38:05.675Z"
   },
   {
    "duration": 27,
    "start_time": "2022-10-02T14:38:05.695Z"
   },
   {
    "duration": 25,
    "start_time": "2022-10-02T14:38:05.724Z"
   },
   {
    "duration": 23,
    "start_time": "2022-10-02T14:38:05.751Z"
   },
   {
    "duration": 36,
    "start_time": "2022-10-02T14:38:05.776Z"
   },
   {
    "duration": 15,
    "start_time": "2022-10-02T14:38:05.813Z"
   },
   {
    "duration": 32,
    "start_time": "2022-10-02T14:38:05.831Z"
   },
   {
    "duration": 20,
    "start_time": "2022-10-02T14:38:05.865Z"
   },
   {
    "duration": 37,
    "start_time": "2022-10-02T14:38:05.887Z"
   },
   {
    "duration": 41,
    "start_time": "2022-10-02T14:38:05.926Z"
   },
   {
    "duration": 28,
    "start_time": "2022-10-02T14:38:05.968Z"
   },
   {
    "duration": 28,
    "start_time": "2022-10-02T14:38:05.998Z"
   },
   {
    "duration": 37,
    "start_time": "2022-10-02T14:38:06.028Z"
   },
   {
    "duration": 23,
    "start_time": "2022-10-02T14:38:06.067Z"
   },
   {
    "duration": 19,
    "start_time": "2022-10-02T14:38:06.095Z"
   },
   {
    "duration": 51,
    "start_time": "2022-10-02T14:38:06.116Z"
   },
   {
    "duration": 20,
    "start_time": "2022-10-02T14:38:06.169Z"
   },
   {
    "duration": 43,
    "start_time": "2022-10-02T14:38:06.191Z"
   },
   {
    "duration": 30,
    "start_time": "2022-10-02T14:38:06.237Z"
   },
   {
    "duration": 31,
    "start_time": "2022-10-02T14:38:06.270Z"
   },
   {
    "duration": 4,
    "start_time": "2022-10-02T14:38:06.303Z"
   },
   {
    "duration": 31,
    "start_time": "2022-10-02T14:38:06.308Z"
   },
   {
    "duration": 45,
    "start_time": "2022-10-02T14:38:06.341Z"
   },
   {
    "duration": 15,
    "start_time": "2022-10-02T14:38:06.388Z"
   },
   {
    "duration": 48,
    "start_time": "2022-10-02T14:38:06.404Z"
   },
   {
    "duration": 47,
    "start_time": "2022-10-02T14:38:06.454Z"
   },
   {
    "duration": 35,
    "start_time": "2022-10-02T14:38:06.503Z"
   },
   {
    "duration": 41,
    "start_time": "2022-10-02T14:38:06.540Z"
   },
   {
    "duration": 29,
    "start_time": "2022-10-02T14:38:06.583Z"
   },
   {
    "duration": 51,
    "start_time": "2022-10-02T14:38:06.614Z"
   },
   {
    "duration": 1128,
    "start_time": "2022-10-02T14:38:06.667Z"
   },
   {
    "duration": 3706,
    "start_time": "2022-10-02T14:38:07.797Z"
   },
   {
    "duration": 6,
    "start_time": "2022-10-02T14:38:11.506Z"
   },
   {
    "duration": 24,
    "start_time": "2022-10-02T14:38:11.514Z"
   },
   {
    "duration": 214,
    "start_time": "2022-10-02T14:38:11.540Z"
   },
   {
    "duration": 208,
    "start_time": "2022-10-02T14:38:11.756Z"
   },
   {
    "duration": 191,
    "start_time": "2022-10-02T14:38:11.966Z"
   },
   {
    "duration": 215,
    "start_time": "2022-10-02T14:38:12.159Z"
   },
   {
    "duration": 200,
    "start_time": "2022-10-02T14:38:12.376Z"
   },
   {
    "duration": 307,
    "start_time": "2022-10-02T14:38:12.578Z"
   },
   {
    "duration": 7,
    "start_time": "2022-10-02T14:38:12.887Z"
   },
   {
    "duration": 176,
    "start_time": "2022-10-02T14:38:12.895Z"
   },
   {
    "duration": 198,
    "start_time": "2022-10-02T14:38:13.074Z"
   },
   {
    "duration": 199,
    "start_time": "2022-10-02T14:38:13.273Z"
   },
   {
    "duration": 176,
    "start_time": "2022-10-02T14:38:13.474Z"
   },
   {
    "duration": 4,
    "start_time": "2022-10-02T14:38:13.652Z"
   },
   {
    "duration": 15,
    "start_time": "2022-10-02T14:38:13.660Z"
   },
   {
    "duration": 9,
    "start_time": "2022-10-02T14:38:13.677Z"
   },
   {
    "duration": 10,
    "start_time": "2022-10-02T14:38:13.689Z"
   },
   {
    "duration": 20,
    "start_time": "2022-10-02T14:38:13.702Z"
   },
   {
    "duration": 5,
    "start_time": "2022-10-02T14:38:13.724Z"
   },
   {
    "duration": 30,
    "start_time": "2022-10-02T14:38:13.731Z"
   },
   {
    "duration": 15,
    "start_time": "2022-10-02T14:38:13.763Z"
   },
   {
    "duration": 40,
    "start_time": "2022-10-02T14:38:13.781Z"
   },
   {
    "duration": 14,
    "start_time": "2022-10-02T14:38:13.823Z"
   },
   {
    "duration": 19,
    "start_time": "2022-10-02T14:38:13.839Z"
   },
   {
    "duration": 14,
    "start_time": "2022-10-02T14:38:13.861Z"
   },
   {
    "duration": 45,
    "start_time": "2022-10-02T14:38:13.877Z"
   },
   {
    "duration": 10,
    "start_time": "2022-10-02T14:38:13.924Z"
   },
   {
    "duration": 136,
    "start_time": "2022-10-02T14:38:13.936Z"
   },
   {
    "duration": 46,
    "start_time": "2022-10-02T14:38:14.074Z"
   },
   {
    "duration": 4,
    "start_time": "2022-10-02T14:38:14.123Z"
   },
   {
    "duration": 7,
    "start_time": "2022-10-02T14:38:14.129Z"
   },
   {
    "duration": 11,
    "start_time": "2022-10-02T14:38:14.138Z"
   },
   {
    "duration": 5,
    "start_time": "2022-10-02T14:38:14.152Z"
   },
   {
    "duration": 8,
    "start_time": "2022-10-02T14:38:14.159Z"
   },
   {
    "duration": 3062,
    "start_time": "2022-10-02T14:38:14.169Z"
   },
   {
    "duration": 88,
    "start_time": "2022-10-02T14:38:17.233Z"
   },
   {
    "duration": 99,
    "start_time": "2022-10-02T14:38:17.329Z"
   },
   {
    "duration": 16,
    "start_time": "2022-10-02T14:38:17.432Z"
   },
   {
    "duration": 13,
    "start_time": "2022-10-02T14:38:17.451Z"
   },
   {
    "duration": 11,
    "start_time": "2022-10-02T14:38:17.466Z"
   },
   {
    "duration": 13,
    "start_time": "2022-10-02T14:38:17.479Z"
   },
   {
    "duration": 3,
    "start_time": "2022-10-02T14:41:50.129Z"
   },
   {
    "duration": 89,
    "start_time": "2022-10-02T14:41:50.133Z"
   },
   {
    "duration": 5,
    "start_time": "2022-10-02T14:41:50.224Z"
   },
   {
    "duration": 10,
    "start_time": "2022-10-02T14:41:50.231Z"
   },
   {
    "duration": 81,
    "start_time": "2022-10-02T14:41:50.242Z"
   },
   {
    "duration": 18,
    "start_time": "2022-10-02T14:41:50.325Z"
   },
   {
    "duration": 17,
    "start_time": "2022-10-02T14:41:50.345Z"
   },
   {
    "duration": 22969,
    "start_time": "2022-10-02T14:41:50.365Z"
   }
  ],
  "kernelspec": {
   "display_name": "Python 3 (ipykernel)",
   "language": "python",
   "name": "python3"
  },
  "language_info": {
   "codemirror_mode": {
    "name": "ipython",
    "version": 3
   },
   "file_extension": ".py",
   "mimetype": "text/x-python",
   "name": "python",
   "nbconvert_exporter": "python",
   "pygments_lexer": "ipython3",
   "version": "3.9.12"
  },
  "toc": {
   "base_numbering": 1,
   "nav_menu": {},
   "number_sections": true,
   "sideBar": true,
   "skip_h1_title": true,
   "title_cell": "Table of Contents",
   "title_sidebar": "Contents",
   "toc_cell": false,
   "toc_position": {
    "height": "calc(100% - 180px)",
    "left": "10px",
    "top": "150px",
    "width": "165px"
   },
   "toc_section_display": true,
   "toc_window_display": true
  }
 },
 "nbformat": 4,
 "nbformat_minor": 5
}
